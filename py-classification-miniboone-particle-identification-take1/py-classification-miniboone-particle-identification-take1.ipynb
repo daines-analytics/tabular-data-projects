{
 "cells": [
  {
   "cell_type": "markdown",
   "metadata": {},
   "source": [
    "# Binary Classification Model for MiniBooNE Particle Identification Using Python Take 1\n",
    "### David Lowe\n",
    "### December 31, 2018\n",
    "\n",
    "Template Credit: Adapted from a template made available by Dr. Jason Brownlee of Machine Learning Mastery. [https://machinelearningmastery.com/]\n",
    "\n",
    "SUMMARY: The purpose of this project is to construct a prediction model using various machine learning algorithms and to document the end-to-end steps using a template. The MiniBooNE Particle Identification dataset is a classic binary classification situation where we are trying to predict one of the two possible outcomes.\n",
    "\n",
    "INTRODUCTION: This dataset is taken from the MiniBooNE experiment and is used to distinguish electron neutrinos (signal) from muon neutrinos (background). The data file is set up as follows. In the first line is the number of signal events followed by the number of background events. The records with the signal events come first, followed by the background events. Each line, after the first line, has the 50 particle ID variables for one event.\n",
    "\n",
    "ANALYSIS: The baseline performance of the machine learning algorithms achieved an average accuracy of 90.58%. Two algorithms (Bagged CART and Stochastic Gradient Boosting) achieved the top accuracy metrics after the first round of modeling. After a series of tuning trials, Stochastic Gradient Boosting turned in the top overall result and achieved an accuracy metric of 93.95%. By using the optimized parameters, the Stochastic Gradient Boosting algorithm processed the testing dataset with an accuracy of 93.85%, which was just slightly below than the training data.\n",
    "\n",
    "CONCLUSION: For this iteration, the Stochastic Gradient Boosting algorithm achieved the best overall results using the training and testing datasets. For this dataset, the Stochastic Gradient Boosting algorithm should be considered for further modeling or production use.\n",
    "\n",
    "Dataset Used: MiniBooNE particle identification Data Set\n",
    "\n",
    "Dataset ML Model: Binary classification with numerical attributes\n",
    "\n",
    "Dataset Reference: https://archive.ics.uci.edu/ml/datasets/MiniBooNE+particle+identification\n",
    "\n",
    "The project aims to touch on the following areas:\n",
    "\n",
    "* Document a predictive modeling problem end-to-end.\n",
    "* Explore data cleaning and transformation options\n",
    "* Explore non-ensemble and ensemble algorithms for baseline model performance\n",
    "* Explore algorithm tuning techniques for improving model performance\n",
    "\n",
    "Any predictive modeling machine learning project genrally can be broken down into about six major tasks:\n",
    "\n",
    "1. Prepare Problem\n",
    "2. Summarize Data\n",
    "3. Prepare Data\n",
    "4. Model and Evaluate Algorithms\n",
    "5. Improve Accuracy or Results\n",
    "6. Finalize Model and Present Results"
   ]
  },
  {
   "cell_type": "markdown",
   "metadata": {},
   "source": [
    "## Section 1 - Prepare Problem\n",
    "### 1.a) Load ibraries"
   ]
  },
  {
   "cell_type": "code",
   "execution_count": 1,
   "metadata": {},
   "outputs": [],
   "source": [
    "import math\n",
    "import numpy as np\n",
    "import pandas as pd\n",
    "import smtplib\n",
    "from email.message import EmailMessage\n",
    "from matplotlib import pyplot\n",
    "from pandas import read_csv\n",
    "from pandas.plotting import scatter_matrix\n",
    "from sklearn.preprocessing import StandardScaler\n",
    "from sklearn.model_selection import train_test_split\n",
    "from sklearn.model_selection import KFold\n",
    "from sklearn.model_selection import cross_val_score\n",
    "from sklearn.model_selection import GridSearchCV\n",
    "from sklearn.metrics import classification_report\n",
    "from sklearn.metrics import confusion_matrix\n",
    "from sklearn.metrics import accuracy_score\n",
    "from sklearn.pipeline import Pipeline\n",
    "from sklearn.linear_model import LogisticRegression\n",
    "from sklearn.tree import DecisionTreeClassifier\n",
    "from sklearn.neighbors import KNeighborsClassifier\n",
    "from sklearn.svm import SVC\n",
    "from sklearn.ensemble import BaggingClassifier\n",
    "from sklearn.ensemble import RandomForestClassifier\n",
    "from sklearn.ensemble import ExtraTreesClassifier\n",
    "from sklearn.ensemble import GradientBoostingClassifier\n",
    "from sklearn.externals.joblib import dump\n",
    "from sklearn.externals.joblib import load\n",
    "from sklearn.feature_selection import RFE\n",
    "from datetime import datetime\n",
    "from imblearn.over_sampling import SMOTE\n",
    "\n",
    "# Create one random seed number for reproducible results\n",
    "seedNum = 888"
   ]
  },
  {
   "cell_type": "markdown",
   "metadata": {},
   "source": [
    "### 1.b) Set up the email notification function"
   ]
  },
  {
   "cell_type": "code",
   "execution_count": 2,
   "metadata": {},
   "outputs": [],
   "source": [
    "def email_notify(msg_text):\n",
    "    sender = \"luozhi2488@gmail.com\"\n",
    "    receiver = \"dave@contactdavidlowe.com\"\n",
    "    with open('../email_credential.txt') as f:\n",
    "        password = f.readline()\n",
    "        f.close()\n",
    "    msg = EmailMessage()\n",
    "    msg.set_content(msg_text)\n",
    "    msg['Subject'] = 'Notification from Python Script'\n",
    "    msg['From'] = sender\n",
    "    msg['To'] = receiver\n",
    "    server = smtplib.SMTP('smtp.gmail.com', 587)\n",
    "    server.starttls()\n",
    "    server.login(sender, password)\n",
    "    server.send_message(msg)\n",
    "    server.quit()"
   ]
  },
  {
   "cell_type": "code",
   "execution_count": 3,
   "metadata": {},
   "outputs": [],
   "source": [
    "email_notify(\"Library and Data Loading has begun! \"+datetime.now().strftime('%a %B %d, %Y %I:%M:%S %p'))"
   ]
  },
  {
   "cell_type": "markdown",
   "metadata": {},
   "source": [
    "### 1.c) Load dataset"
   ]
  },
  {
   "cell_type": "code",
   "execution_count": 4,
   "metadata": {},
   "outputs": [],
   "source": [
    "startTimeScript = datetime.now()\n",
    "\n",
    "inputFile = 'MiniBooNE_PID.txt'\n",
    "with open(inputFile) as f:\n",
    "    first_line = f.readline().strip()\n",
    "signal_rec = int(first_line.split(\" \")[0])\n",
    "background_rec = int(first_line.split(\" \")[1])\n",
    "\n",
    "widthVector = [14] * 50\n",
    "colNames = [\"attr\" + str(i) for i in range(1,51)]\n",
    "xy_original_df = pd.read_fwf(inputFile, widths=widthVector, header=None, names=colNames, skiprows=1, index_col=False)\n",
    "xy_original_df['targetVar'] = 0\n",
    "xy_original_df.iloc[:signal_rec, len(xy_original_df.columns)-1] = 1"
   ]
  },
  {
   "cell_type": "code",
   "execution_count": 5,
   "metadata": {},
   "outputs": [],
   "source": [
    "# Use variable totCol to hold the number of columns in the dataframe\n",
    "totCol = len(xy_original_df.columns)\n",
    "\n",
    "# Set up variable totAttr for the total number of attribute columns\n",
    "totAttr = totCol-1"
   ]
  },
  {
   "cell_type": "code",
   "execution_count": 6,
   "metadata": {},
   "outputs": [],
   "source": [
    "# targetCol variable indicates the column location of the target/class variable\n",
    "# If the first column, set targetCol to 1. If the last column, set targetCol to totCol\n",
    "# If (targetCol <> 1) and (targetCol <> totCol), be aware when slicing up the dataframes for visualization\n",
    "targetCol = totCol"
   ]
  },
  {
   "cell_type": "code",
   "execution_count": 7,
   "metadata": {},
   "outputs": [
    {
     "name": "stdout",
     "output_type": "stream",
     "text": [
      "xy_original_df.shape: (130070, 61) xy_train_df.shape: (91074, 71)\n",
      "x_train_df.shape: (91055, 70) y_train_df.shape: (97044,)\n",
      "x_test_df.shape: (39030, 70) y_test_df.shape: (37020,)\n"
     ]
    }
   ],
   "source": [
    "# We create training datasets (xy_train_df, x_train_df, y_train_df) for various visualization and cleaning/transformation operations\n",
    "# We create testing datasets (x_test_df, y_test_df) for various visualization and cleaning/transformation operations\n",
    "# Use 70% of the data to train the models and the remaining for testing/validation\n",
    "\n",
    "if targetCol == totCol:\n",
    "    x_original_df = xy_original_df.iloc[:,0:totAttr]\n",
    "    y_original_df = xy_original_df.iloc[:,totAttr]\n",
    "else:\n",
    "    x_original_df = xy_original_df.iloc[:,1:totCol]\n",
    "    y_original_df = xy_original_df.iloc[:,0]\n",
    "\n",
    "validation_size = 0.50\n",
    "x_train_df, x_test_df, y_train_df, y_test_df = train_test_split(x_original_df, y_original_df, test_size=validation_size, random_state=seedNum)\n",
    "xy_train_df = pd.concat([x_train_df, y_train_df], axis=1)\n",
    "print(\"xy_original_df.shape: {} xy_train_df.shape: {}\".format(xy_original_df.shape, xy_train_df.shape))\n",
    "print(\"x_train_df.shape: {} y_train_df.shape: {}\".format(x_train_df.shape, y_train_df.shape))\n",
    "print(\"x_test_df.shape: {} y_test_df.shape: {}\".format(x_test_df.shape, y_test_df.shape))"
   ]
  },
  {
   "cell_type": "markdown",
   "metadata": {},
   "source": [
    "### 1.d) Set up the key parameters to be used in the script"
   ]
  },
  {
   "cell_type": "code",
   "execution_count": 8,
   "metadata": {},
   "outputs": [],
   "source": [
    "# Set up the number of row and columns for visualization display. dispRow * dispCol should be >= totAttr\n",
    "dispCol = 3\n",
    "if totAttr % dispCol == 0 :\n",
    "    dispRow = totAttr // dispCol\n",
    "else :\n",
    "    dispRow = (totAttr // dispCol) + 1\n",
    "    \n",
    "# Set figure width to 16 and height to 12 (4:3 aspect ratio)\n",
    "fig_size = pyplot.rcParams[\"figure.figsize\"]\n",
    "fig_size[0] = 20\n",
    "fig_size[1] = 15\n",
    "pyplot.rcParams[\"figure.figsize\"] = fig_size"
   ]
  },
  {
   "cell_type": "code",
   "execution_count": 9,
   "metadata": {},
   "outputs": [],
   "source": [
    "email_notify(\"Library and Data Loading completed! \"+datetime.now().strftime('%a %B %d, %Y %I:%M:%S %p'))"
   ]
  },
  {
   "cell_type": "markdown",
   "metadata": {},
   "source": [
    "## Section 2 - Summarize Data\n",
    "To gain a better understanding of the data that we have on-hand, we will leverage a number of descriptive statistics and data visualization techniques. The plan is to use the results to consider new questions, review assumptions, and validate hypotheses that we can investigate later with specialized models."
   ]
  },
  {
   "cell_type": "code",
   "execution_count": 10,
   "metadata": {},
   "outputs": [],
   "source": [
    "email_notify(\"Data Summarization and Visualization has begun! \"+datetime.now().strftime('%a %B %d, %Y %I:%M:%S %p'))"
   ]
  },
  {
   "cell_type": "markdown",
   "metadata": {},
   "source": [
    "### 2.a) Descriptive statistics"
   ]
  },
  {
   "cell_type": "markdown",
   "metadata": {},
   "source": [
    "#### 2.a.i) Peek at the data itself."
   ]
  },
  {
   "cell_type": "code",
   "execution_count": 11,
   "metadata": {},
   "outputs": [
    {
     "data": {
      "text/html": [
       "<div>\n",
       "<style scoped>\n",
       "    .dataframe tbody tr th:only-of-type {\n",
       "        vertical-align: middle;\n",
       "    }\n",
       "\n",
       "    .dataframe tbody tr th {\n",
       "        vertical-align: top;\n",
       "    }\n",
       "\n",
       "    .dataframe thead th {\n",
       "        text-align: right;\n",
       "    }\n",
       "</style>\n",
       "<table border=\"1\" class=\"dataframe\">\n",
       "  <thead>\n",
       "    <tr style=\"text-align: right;\">\n",
       "      <th></th>\n",
       "      <th>A1</th>\n",
       "      <th>A2</th>\n",
       "      <th>A3</th>\n",
       "      <th>A4</th>\n",
       "      <th>A5</th>\n",
       "      <th>A6</th>\n",
       "      <th>A7</th>\n",
       "      <th>A8</th>\n",
       "      <th>A9</th>\n",
       "      <th>A10</th>\n",
       "      <th>...</th>\n",
       "      <th>A42</th>\n",
       "      <th>A43</th>\n",
       "      <th>A44</th>\n",
       "      <th>A45</th>\n",
       "      <th>A46</th>\n",
       "      <th>A47</th>\n",
       "      <th>A48</th>\n",
       "      <th>A49</th>\n",
       "      <th>A50</th>\n",
       "      <th>targetVar</th>\n",
       "    </tr>\n",
       "  </thead>\n",
       "  <tbody>\n",
       "    <tr>\n",
       "      <th>52564</th>\n",
       "      <td>4.86708</td>\n",
       "      <td>0.860634</td>\n",
       "      <td>81.228300</td>\n",
       "      <td>0.305634</td>\n",
       "      <td>0.009396</td>\n",
       "      <td>0.103407</td>\n",
       "      <td>0.609296</td>\n",
       "      <td>0.807272</td>\n",
       "      <td>3.23882</td>\n",
       "      <td>0.178168</td>\n",
       "      <td>...</td>\n",
       "      <td>-21.566300</td>\n",
       "      <td>0.490841</td>\n",
       "      <td>3.96795</td>\n",
       "      <td>0.000000</td>\n",
       "      <td>0.119104</td>\n",
       "      <td>0.545375</td>\n",
       "      <td>5.77730</td>\n",
       "      <td>2.227230</td>\n",
       "      <td>0.276040</td>\n",
       "      <td>0</td>\n",
       "    </tr>\n",
       "    <tr>\n",
       "      <th>68779</th>\n",
       "      <td>5.60083</td>\n",
       "      <td>0.604639</td>\n",
       "      <td>99.057500</td>\n",
       "      <td>0.363930</td>\n",
       "      <td>0.000000</td>\n",
       "      <td>0.155484</td>\n",
       "      <td>0.638794</td>\n",
       "      <td>0.846283</td>\n",
       "      <td>3.18015</td>\n",
       "      <td>0.144571</td>\n",
       "      <td>...</td>\n",
       "      <td>-15.399600</td>\n",
       "      <td>0.788512</td>\n",
       "      <td>2.83190</td>\n",
       "      <td>0.000000</td>\n",
       "      <td>0.301067</td>\n",
       "      <td>0.376953</td>\n",
       "      <td>5.57443</td>\n",
       "      <td>4.400930</td>\n",
       "      <td>0.221756</td>\n",
       "      <td>0</td>\n",
       "    </tr>\n",
       "    <tr>\n",
       "      <th>43494</th>\n",
       "      <td>4.60078</td>\n",
       "      <td>1.939510</td>\n",
       "      <td>113.252000</td>\n",
       "      <td>0.202574</td>\n",
       "      <td>0.037333</td>\n",
       "      <td>0.109483</td>\n",
       "      <td>1.253260</td>\n",
       "      <td>0.873827</td>\n",
       "      <td>3.71879</td>\n",
       "      <td>0.213120</td>\n",
       "      <td>...</td>\n",
       "      <td>-6.684130</td>\n",
       "      <td>1.895480</td>\n",
       "      <td>7.79737</td>\n",
       "      <td>0.010667</td>\n",
       "      <td>0.117767</td>\n",
       "      <td>-0.204585</td>\n",
       "      <td>1.06553</td>\n",
       "      <td>1.275370</td>\n",
       "      <td>0.218470</td>\n",
       "      <td>0</td>\n",
       "    </tr>\n",
       "    <tr>\n",
       "      <th>23718</th>\n",
       "      <td>3.77414</td>\n",
       "      <td>2.234640</td>\n",
       "      <td>0.205705</td>\n",
       "      <td>0.202561</td>\n",
       "      <td>0.008403</td>\n",
       "      <td>0.499238</td>\n",
       "      <td>1.084260</td>\n",
       "      <td>0.875750</td>\n",
       "      <td>3.35037</td>\n",
       "      <td>0.229166</td>\n",
       "      <td>...</td>\n",
       "      <td>-18.801500</td>\n",
       "      <td>2.098390</td>\n",
       "      <td>6.06755</td>\n",
       "      <td>0.000000</td>\n",
       "      <td>0.121810</td>\n",
       "      <td>0.241722</td>\n",
       "      <td>1.23351</td>\n",
       "      <td>0.483625</td>\n",
       "      <td>0.236298</td>\n",
       "      <td>1</td>\n",
       "    </tr>\n",
       "    <tr>\n",
       "      <th>81187</th>\n",
       "      <td>5.80713</td>\n",
       "      <td>1.843250</td>\n",
       "      <td>127.534000</td>\n",
       "      <td>0.270716</td>\n",
       "      <td>0.000000</td>\n",
       "      <td>0.143069</td>\n",
       "      <td>0.623443</td>\n",
       "      <td>0.730312</td>\n",
       "      <td>3.53536</td>\n",
       "      <td>0.141951</td>\n",
       "      <td>...</td>\n",
       "      <td>-32.229900</td>\n",
       "      <td>1.983500</td>\n",
       "      <td>7.62465</td>\n",
       "      <td>0.000000</td>\n",
       "      <td>0.201957</td>\n",
       "      <td>0.049204</td>\n",
       "      <td>2.57725</td>\n",
       "      <td>1.915970</td>\n",
       "      <td>0.251853</td>\n",
       "      <td>0</td>\n",
       "    </tr>\n",
       "    <tr>\n",
       "      <th>44257</th>\n",
       "      <td>5.14600</td>\n",
       "      <td>1.294190</td>\n",
       "      <td>184.581000</td>\n",
       "      <td>0.290387</td>\n",
       "      <td>0.027539</td>\n",
       "      <td>0.106780</td>\n",
       "      <td>1.094510</td>\n",
       "      <td>0.854798</td>\n",
       "      <td>3.51259</td>\n",
       "      <td>0.156955</td>\n",
       "      <td>...</td>\n",
       "      <td>39.839400</td>\n",
       "      <td>1.348850</td>\n",
       "      <td>3.36308</td>\n",
       "      <td>0.000000</td>\n",
       "      <td>0.200896</td>\n",
       "      <td>-0.058993</td>\n",
       "      <td>3.78978</td>\n",
       "      <td>0.877358</td>\n",
       "      <td>0.299672</td>\n",
       "      <td>0</td>\n",
       "    </tr>\n",
       "    <tr>\n",
       "      <th>69849</th>\n",
       "      <td>4.65700</td>\n",
       "      <td>0.901575</td>\n",
       "      <td>104.821000</td>\n",
       "      <td>0.334642</td>\n",
       "      <td>0.002845</td>\n",
       "      <td>0.160581</td>\n",
       "      <td>0.835746</td>\n",
       "      <td>0.814116</td>\n",
       "      <td>3.27704</td>\n",
       "      <td>0.166619</td>\n",
       "      <td>...</td>\n",
       "      <td>0.753716</td>\n",
       "      <td>-0.033585</td>\n",
       "      <td>2.65568</td>\n",
       "      <td>0.000000</td>\n",
       "      <td>0.074433</td>\n",
       "      <td>0.640281</td>\n",
       "      <td>4.48684</td>\n",
       "      <td>1.931510</td>\n",
       "      <td>0.348951</td>\n",
       "      <td>0</td>\n",
       "    </tr>\n",
       "    <tr>\n",
       "      <th>113760</th>\n",
       "      <td>5.46400</td>\n",
       "      <td>1.751280</td>\n",
       "      <td>164.273000</td>\n",
       "      <td>0.274584</td>\n",
       "      <td>0.007194</td>\n",
       "      <td>0.115741</td>\n",
       "      <td>0.545271</td>\n",
       "      <td>0.843306</td>\n",
       "      <td>3.45759</td>\n",
       "      <td>0.136201</td>\n",
       "      <td>...</td>\n",
       "      <td>23.968800</td>\n",
       "      <td>-0.060281</td>\n",
       "      <td>5.37249</td>\n",
       "      <td>0.001799</td>\n",
       "      <td>0.129124</td>\n",
       "      <td>-0.147815</td>\n",
       "      <td>3.00475</td>\n",
       "      <td>0.443174</td>\n",
       "      <td>0.253147</td>\n",
       "      <td>0</td>\n",
       "    </tr>\n",
       "    <tr>\n",
       "      <th>13501</th>\n",
       "      <td>3.56633</td>\n",
       "      <td>0.579775</td>\n",
       "      <td>44.543500</td>\n",
       "      <td>0.232389</td>\n",
       "      <td>0.012535</td>\n",
       "      <td>0.297419</td>\n",
       "      <td>1.657260</td>\n",
       "      <td>0.921669</td>\n",
       "      <td>3.14465</td>\n",
       "      <td>0.149618</td>\n",
       "      <td>...</td>\n",
       "      <td>32.300500</td>\n",
       "      <td>0.800309</td>\n",
       "      <td>3.59400</td>\n",
       "      <td>0.000000</td>\n",
       "      <td>0.151860</td>\n",
       "      <td>0.038811</td>\n",
       "      <td>1.22633</td>\n",
       "      <td>0.953518</td>\n",
       "      <td>0.309013</td>\n",
       "      <td>1</td>\n",
       "    </tr>\n",
       "    <tr>\n",
       "      <th>30561</th>\n",
       "      <td>3.61375</td>\n",
       "      <td>0.913554</td>\n",
       "      <td>61.505000</td>\n",
       "      <td>0.245354</td>\n",
       "      <td>0.022255</td>\n",
       "      <td>0.374136</td>\n",
       "      <td>0.818520</td>\n",
       "      <td>0.841284</td>\n",
       "      <td>3.43856</td>\n",
       "      <td>0.192682</td>\n",
       "      <td>...</td>\n",
       "      <td>-9.382560</td>\n",
       "      <td>0.452332</td>\n",
       "      <td>7.59804</td>\n",
       "      <td>0.004451</td>\n",
       "      <td>0.083918</td>\n",
       "      <td>-0.008287</td>\n",
       "      <td>1.22240</td>\n",
       "      <td>-0.084620</td>\n",
       "      <td>0.294379</td>\n",
       "      <td>1</td>\n",
       "    </tr>\n",
       "  </tbody>\n",
       "</table>\n",
       "<p>10 rows × 51 columns</p>\n",
       "</div>"
      ],
      "text/plain": [
       "          attr1     attr2       attr3     attr4     attr5     attr6     attr7  \\\n",
       "52564   4.86708  0.860634   81.228300  0.305634  0.009396  0.103407  0.609296   \n",
       "68779   5.60083  0.604639   99.057500  0.363930  0.000000  0.155484  0.638794   \n",
       "43494   4.60078  1.939510  113.252000  0.202574  0.037333  0.109483  1.253260   \n",
       "23718   3.77414  2.234640    0.205705  0.202561  0.008403  0.499238  1.084260   \n",
       "81187   5.80713  1.843250  127.534000  0.270716  0.000000  0.143069  0.623443   \n",
       "44257   5.14600  1.294190  184.581000  0.290387  0.027539  0.106780  1.094510   \n",
       "69849   4.65700  0.901575  104.821000  0.334642  0.002845  0.160581  0.835746   \n",
       "113760  5.46400  1.751280  164.273000  0.274584  0.007194  0.115741  0.545271   \n",
       "13501   3.56633  0.579775   44.543500  0.232389  0.012535  0.297419  1.657260   \n",
       "30561   3.61375  0.913554   61.505000  0.245354  0.022255  0.374136  0.818520   \n",
       "\n",
       "           attr8    attr9    attr10    ...         attr42    attr43   attr44  \\\n",
       "52564   0.807272  3.23882  0.178168    ...     -21.566300  0.490841  3.96795   \n",
       "68779   0.846283  3.18015  0.144571    ...     -15.399600  0.788512  2.83190   \n",
       "43494   0.873827  3.71879  0.213120    ...      -6.684130  1.895480  7.79737   \n",
       "23718   0.875750  3.35037  0.229166    ...     -18.801500  2.098390  6.06755   \n",
       "81187   0.730312  3.53536  0.141951    ...     -32.229900  1.983500  7.62465   \n",
       "44257   0.854798  3.51259  0.156955    ...      39.839400  1.348850  3.36308   \n",
       "69849   0.814116  3.27704  0.166619    ...       0.753716 -0.033585  2.65568   \n",
       "113760  0.843306  3.45759  0.136201    ...      23.968800 -0.060281  5.37249   \n",
       "13501   0.921669  3.14465  0.149618    ...      32.300500  0.800309  3.59400   \n",
       "30561   0.841284  3.43856  0.192682    ...      -9.382560  0.452332  7.59804   \n",
       "\n",
       "          attr45    attr46    attr47   attr48    attr49    attr50  targetVar  \n",
       "52564   0.000000  0.119104  0.545375  5.77730  2.227230  0.276040          0  \n",
       "68779   0.000000  0.301067  0.376953  5.57443  4.400930  0.221756          0  \n",
       "43494   0.010667  0.117767 -0.204585  1.06553  1.275370  0.218470          0  \n",
       "23718   0.000000  0.121810  0.241722  1.23351  0.483625  0.236298          1  \n",
       "81187   0.000000  0.201957  0.049204  2.57725  1.915970  0.251853          0  \n",
       "44257   0.000000  0.200896 -0.058993  3.78978  0.877358  0.299672          0  \n",
       "69849   0.000000  0.074433  0.640281  4.48684  1.931510  0.348951          0  \n",
       "113760  0.001799  0.129124 -0.147815  3.00475  0.443174  0.253147          0  \n",
       "13501   0.000000  0.151860  0.038811  1.22633  0.953518  0.309013          1  \n",
       "30561   0.004451  0.083918 -0.008287  1.22240 -0.084620  0.294379          1  \n",
       "\n",
       "[10 rows x 51 columns]"
      ]
     },
     "execution_count": 11,
     "metadata": {},
     "output_type": "execute_result"
    }
   ],
   "source": [
    "xy_train_df.head(10)"
   ]
  },
  {
   "cell_type": "markdown",
   "metadata": {},
   "source": [
    "#### 2.a.ii) Dimensions of the dataset."
   ]
  },
  {
   "cell_type": "code",
   "execution_count": 12,
   "metadata": {},
   "outputs": [
    {
     "data": {
      "text/plain": [
       "(91044, 51)"
      ]
     },
     "execution_count": 12,
     "metadata": {},
     "output_type": "execute_result"
    }
   ],
   "source": [
    "xy_train_df.shape"
   ]
  },
  {
   "cell_type": "markdown",
   "metadata": {},
   "source": [
    "#### 2.a.iii) Types of the attributes."
   ]
  },
  {
   "cell_type": "code",
   "execution_count": 13,
   "metadata": {},
   "outputs": [
    {
     "data": {
      "text/plain": [
       "attr1        float64\n",
       "attr2        float64\n",
       "attr3        float64\n",
       "attr4        float64\n",
       "attr5        float64\n",
       "attr6        float64\n",
       "attr7        float64\n",
       "attr8        float64\n",
       "attr9        float64\n",
       "attr10       float64\n",
       "attr11       float64\n",
       "attr12       float64\n",
       "attr13       float64\n",
       "attr14       float64\n",
       "attr15       float64\n",
       "attr16       float64\n",
       "attr17       float64\n",
       "attr18       float64\n",
       "attr19       float64\n",
       "attr20       float64\n",
       "attr21       float64\n",
       "attr22       float64\n",
       "attr23       float64\n",
       "attr24       float64\n",
       "attr25       float64\n",
       "attr26       float64\n",
       "attr27       float64\n",
       "attr28       float64\n",
       "attr29       float64\n",
       "attr30       float64\n",
       "attr31       float64\n",
       "attr32       float64\n",
       "attr33       float64\n",
       "attr34       float64\n",
       "attr35       float64\n",
       "attr36       float64\n",
       "attr37       float64\n",
       "attr38       float64\n",
       "attr39       float64\n",
       "attr40       float64\n",
       "attr41       float64\n",
       "attr42       float64\n",
       "attr43       float64\n",
       "attr44       float64\n",
       "attr45       float64\n",
       "attr46       float64\n",
       "attr47       float64\n",
       "attr48       float64\n",
       "attr49       float64\n",
       "attr50       float64\n",
       "targetVar      int64\n",
       "dtype: object"
      ]
     },
     "execution_count": 13,
     "metadata": {},
     "output_type": "execute_result"
    }
   ],
   "source": [
    "xy_train_df.dtypes"
   ]
  },
  {
   "cell_type": "markdown",
   "metadata": {},
   "source": [
    "#### 2.a.iv) Statistical summary of all attributes."
   ]
  },
  {
   "cell_type": "code",
   "execution_count": 14,
   "metadata": {},
   "outputs": [
    {
     "data": {
      "text/html": [
       "<div>\n",
       "<style scoped>\n",
       "    .dataframe tbody tr th:only-of-type {\n",
       "        vertical-align: middle;\n",
       "    }\n",
       "\n",
       "    .dataframe tbody tr th {\n",
       "        vertical-align: top;\n",
       "    }\n",
       "\n",
       "    .dataframe thead th {\n",
       "        text-align: right;\n",
       "    }\n",
       "</style>\n",
       "<table border=\"1\" class=\"dataframe\">\n",
       "  <thead>\n",
       "    <tr style=\"text-align: right;\">\n",
       "      <th></th>\n",
       "      <th>attr1</th>\n",
       "      <th>attr2</th>\n",
       "      <th>attr3</th>\n",
       "      <th>attr4</th>\n",
       "      <th>attr5</th>\n",
       "      <th>attr6</th>\n",
       "      <th>attr7</th>\n",
       "      <th>attr8</th>\n",
       "      <th>attr9</th>\n",
       "      <th>attr10</th>\n",
       "      <th>...</th>\n",
       "      <th>attr42</th>\n",
       "      <th>attr43</th>\n",
       "      <th>attr44</th>\n",
       "      <th>attr45</th>\n",
       "      <th>attr46</th>\n",
       "      <th>attr47</th>\n",
       "      <th>attr48</th>\n",
       "      <th>attr49</th>\n",
       "      <th>attr50</th>\n",
       "      <th>targetVar</th>\n",
       "    </tr>\n",
       "  </thead>\n",
       "  <tbody>\n",
       "    <tr>\n",
       "      <th>count</th>\n",
       "      <td>91044.000000</td>\n",
       "      <td>91044.000000</td>\n",
       "      <td>91044.000000</td>\n",
       "      <td>91044.000000</td>\n",
       "      <td>91044.000000</td>\n",
       "      <td>91044.000000</td>\n",
       "      <td>91044.000000</td>\n",
       "      <td>91044.000000</td>\n",
       "      <td>91044.000000</td>\n",
       "      <td>91044.000000</td>\n",
       "      <td>...</td>\n",
       "      <td>91044.000000</td>\n",
       "      <td>91044.000000</td>\n",
       "      <td>91044.000000</td>\n",
       "      <td>91044.000000</td>\n",
       "      <td>91044.000000</td>\n",
       "      <td>91044.000000</td>\n",
       "      <td>91044.000000</td>\n",
       "      <td>91044.000000</td>\n",
       "      <td>91044.000000</td>\n",
       "      <td>91044.000000</td>\n",
       "    </tr>\n",
       "    <tr>\n",
       "      <th>mean</th>\n",
       "      <td>1.391106</td>\n",
       "      <td>-1.970835</td>\n",
       "      <td>123.337980</td>\n",
       "      <td>-3.174293</td>\n",
       "      <td>-3.447098</td>\n",
       "      <td>-3.296162</td>\n",
       "      <td>-2.489190</td>\n",
       "      <td>-2.635333</td>\n",
       "      <td>-0.016491</td>\n",
       "      <td>-3.283198</td>\n",
       "      <td>...</td>\n",
       "      <td>-25.041934</td>\n",
       "      <td>-2.725933</td>\n",
       "      <td>2.549636</td>\n",
       "      <td>-3.447341</td>\n",
       "      <td>-3.278233</td>\n",
       "      <td>-3.615110</td>\n",
       "      <td>-0.609532</td>\n",
       "      <td>-1.848610</td>\n",
       "      <td>-3.226633</td>\n",
       "      <td>0.281336</td>\n",
       "    </tr>\n",
       "    <tr>\n",
       "      <th>std</th>\n",
       "      <td>58.957439</td>\n",
       "      <td>58.754146</td>\n",
       "      <td>191.985335</td>\n",
       "      <td>58.677034</td>\n",
       "      <td>58.660931</td>\n",
       "      <td>58.669951</td>\n",
       "      <td>58.718363</td>\n",
       "      <td>58.708804</td>\n",
       "      <td>58.863637</td>\n",
       "      <td>58.670604</td>\n",
       "      <td>...</td>\n",
       "      <td>66.587218</td>\n",
       "      <td>58.716034</td>\n",
       "      <td>59.192568</td>\n",
       "      <td>58.660923</td>\n",
       "      <td>58.670935</td>\n",
       "      <td>58.658967</td>\n",
       "      <td>58.859173</td>\n",
       "      <td>58.787960</td>\n",
       "      <td>58.673944</td>\n",
       "      <td>0.449654</td>\n",
       "    </tr>\n",
       "    <tr>\n",
       "      <th>min</th>\n",
       "      <td>-999.000000</td>\n",
       "      <td>-999.000000</td>\n",
       "      <td>-999.000000</td>\n",
       "      <td>-999.000000</td>\n",
       "      <td>-999.000000</td>\n",
       "      <td>-999.000000</td>\n",
       "      <td>-999.000000</td>\n",
       "      <td>-999.000000</td>\n",
       "      <td>-999.000000</td>\n",
       "      <td>-999.000000</td>\n",
       "      <td>...</td>\n",
       "      <td>-999.000000</td>\n",
       "      <td>-999.000000</td>\n",
       "      <td>-999.000000</td>\n",
       "      <td>-999.000000</td>\n",
       "      <td>-999.000000</td>\n",
       "      <td>-999.000000</td>\n",
       "      <td>-999.000000</td>\n",
       "      <td>-999.000000</td>\n",
       "      <td>-999.000000</td>\n",
       "      <td>0.000000</td>\n",
       "    </tr>\n",
       "    <tr>\n",
       "      <th>25%</th>\n",
       "      <td>4.010237</td>\n",
       "      <td>0.878174</td>\n",
       "      <td>49.292050</td>\n",
       "      <td>0.241517</td>\n",
       "      <td>0.001149</td>\n",
       "      <td>0.085293</td>\n",
       "      <td>0.716196</td>\n",
       "      <td>0.783316</td>\n",
       "      <td>3.284438</td>\n",
       "      <td>0.142823</td>\n",
       "      <td>...</td>\n",
       "      <td>-40.021625</td>\n",
       "      <td>-0.028957</td>\n",
       "      <td>3.418488</td>\n",
       "      <td>0.000000</td>\n",
       "      <td>0.122059</td>\n",
       "      <td>-0.343547</td>\n",
       "      <td>1.419810</td>\n",
       "      <td>0.273296</td>\n",
       "      <td>0.197139</td>\n",
       "      <td>0.000000</td>\n",
       "    </tr>\n",
       "    <tr>\n",
       "      <th>50%</th>\n",
       "      <td>4.788315</td>\n",
       "      <td>1.380675</td>\n",
       "      <td>106.191500</td>\n",
       "      <td>0.272096</td>\n",
       "      <td>0.005008</td>\n",
       "      <td>0.141254</td>\n",
       "      <td>0.923609</td>\n",
       "      <td>0.833889</td>\n",
       "      <td>3.427510</td>\n",
       "      <td>0.170494</td>\n",
       "      <td>...</td>\n",
       "      <td>-21.623350</td>\n",
       "      <td>0.460773</td>\n",
       "      <td>4.766460</td>\n",
       "      <td>0.000000</td>\n",
       "      <td>0.168646</td>\n",
       "      <td>0.040980</td>\n",
       "      <td>2.363050</td>\n",
       "      <td>1.116180</td>\n",
       "      <td>0.231220</td>\n",
       "      <td>0.000000</td>\n",
       "    </tr>\n",
       "    <tr>\n",
       "      <th>75%</th>\n",
       "      <td>5.626753</td>\n",
       "      <td>1.944955</td>\n",
       "      <td>138.927000</td>\n",
       "      <td>0.315121</td>\n",
       "      <td>0.013158</td>\n",
       "      <td>0.212916</td>\n",
       "      <td>1.181212</td>\n",
       "      <td>0.874351</td>\n",
       "      <td>3.586525</td>\n",
       "      <td>0.199953</td>\n",
       "      <td>...</td>\n",
       "      <td>-3.275228</td>\n",
       "      <td>1.153845</td>\n",
       "      <td>6.864593</td>\n",
       "      <td>0.001996</td>\n",
       "      <td>0.224936</td>\n",
       "      <td>0.293494</td>\n",
       "      <td>3.773808</td>\n",
       "      <td>2.280382</td>\n",
       "      <td>0.263120</td>\n",
       "      <td>1.000000</td>\n",
       "    </tr>\n",
       "    <tr>\n",
       "      <th>max</th>\n",
       "      <td>17.057300</td>\n",
       "      <td>8.606240</td>\n",
       "      <td>4747.670000</td>\n",
       "      <td>0.736804</td>\n",
       "      <td>0.179012</td>\n",
       "      <td>0.703859</td>\n",
       "      <td>6.241080</td>\n",
       "      <td>0.982981</td>\n",
       "      <td>6.992290</td>\n",
       "      <td>0.524888</td>\n",
       "      <td>...</td>\n",
       "      <td>150.445000</td>\n",
       "      <td>43.651200</td>\n",
       "      <td>85.823100</td>\n",
       "      <td>0.446914</td>\n",
       "      <td>0.605667</td>\n",
       "      <td>1.826370</td>\n",
       "      <td>21.768200</td>\n",
       "      <td>25.423300</td>\n",
       "      <td>0.625484</td>\n",
       "      <td>1.000000</td>\n",
       "    </tr>\n",
       "  </tbody>\n",
       "</table>\n",
       "<p>8 rows × 51 columns</p>\n",
       "</div>"
      ],
      "text/plain": [
       "              attr1         attr2         attr3         attr4         attr5  \\\n",
       "count  91044.000000  91044.000000  91044.000000  91044.000000  91044.000000   \n",
       "mean       1.391106     -1.970835    123.337980     -3.174293     -3.447098   \n",
       "std       58.957439     58.754146    191.985335     58.677034     58.660931   \n",
       "min     -999.000000   -999.000000   -999.000000   -999.000000   -999.000000   \n",
       "25%        4.010237      0.878174     49.292050      0.241517      0.001149   \n",
       "50%        4.788315      1.380675    106.191500      0.272096      0.005008   \n",
       "75%        5.626753      1.944955    138.927000      0.315121      0.013158   \n",
       "max       17.057300      8.606240   4747.670000      0.736804      0.179012   \n",
       "\n",
       "              attr6         attr7         attr8         attr9        attr10  \\\n",
       "count  91044.000000  91044.000000  91044.000000  91044.000000  91044.000000   \n",
       "mean      -3.296162     -2.489190     -2.635333     -0.016491     -3.283198   \n",
       "std       58.669951     58.718363     58.708804     58.863637     58.670604   \n",
       "min     -999.000000   -999.000000   -999.000000   -999.000000   -999.000000   \n",
       "25%        0.085293      0.716196      0.783316      3.284438      0.142823   \n",
       "50%        0.141254      0.923609      0.833889      3.427510      0.170494   \n",
       "75%        0.212916      1.181212      0.874351      3.586525      0.199953   \n",
       "max        0.703859      6.241080      0.982981      6.992290      0.524888   \n",
       "\n",
       "           ...             attr42        attr43        attr44        attr45  \\\n",
       "count      ...       91044.000000  91044.000000  91044.000000  91044.000000   \n",
       "mean       ...         -25.041934     -2.725933      2.549636     -3.447341   \n",
       "std        ...          66.587218     58.716034     59.192568     58.660923   \n",
       "min        ...        -999.000000   -999.000000   -999.000000   -999.000000   \n",
       "25%        ...         -40.021625     -0.028957      3.418488      0.000000   \n",
       "50%        ...         -21.623350      0.460773      4.766460      0.000000   \n",
       "75%        ...          -3.275228      1.153845      6.864593      0.001996   \n",
       "max        ...         150.445000     43.651200     85.823100      0.446914   \n",
       "\n",
       "             attr46        attr47        attr48        attr49        attr50  \\\n",
       "count  91044.000000  91044.000000  91044.000000  91044.000000  91044.000000   \n",
       "mean      -3.278233     -3.615110     -0.609532     -1.848610     -3.226633   \n",
       "std       58.670935     58.658967     58.859173     58.787960     58.673944   \n",
       "min     -999.000000   -999.000000   -999.000000   -999.000000   -999.000000   \n",
       "25%        0.122059     -0.343547      1.419810      0.273296      0.197139   \n",
       "50%        0.168646      0.040980      2.363050      1.116180      0.231220   \n",
       "75%        0.224936      0.293494      3.773808      2.280382      0.263120   \n",
       "max        0.605667      1.826370     21.768200     25.423300      0.625484   \n",
       "\n",
       "          targetVar  \n",
       "count  91044.000000  \n",
       "mean       0.281336  \n",
       "std        0.449654  \n",
       "min        0.000000  \n",
       "25%        0.000000  \n",
       "50%        0.000000  \n",
       "75%        1.000000  \n",
       "max        1.000000  \n",
       "\n",
       "[8 rows x 51 columns]"
      ]
     },
     "execution_count": 14,
     "metadata": {},
     "output_type": "execute_result"
    }
   ],
   "source": [
    "xy_train_df.describe()"
   ]
  },
  {
   "cell_type": "markdown",
   "metadata": {},
   "source": [
    "#### 2.a.v) Count missing values."
   ]
  },
  {
   "cell_type": "code",
   "execution_count": 15,
   "metadata": {},
   "outputs": [
    {
     "data": {
      "text/plain": [
       "attr1        0\n",
       "attr2        0\n",
       "attr3        0\n",
       "attr4        0\n",
       "attr5        0\n",
       "attr6        0\n",
       "attr7        0\n",
       "attr8        0\n",
       "attr9        0\n",
       "attr10       0\n",
       "attr11       0\n",
       "attr12       0\n",
       "attr13       0\n",
       "attr14       0\n",
       "attr15       0\n",
       "attr16       0\n",
       "attr17       0\n",
       "attr18       0\n",
       "attr19       0\n",
       "attr20       0\n",
       "attr21       0\n",
       "attr22       0\n",
       "attr23       0\n",
       "attr24       0\n",
       "attr25       0\n",
       "attr26       0\n",
       "attr27       0\n",
       "attr28       0\n",
       "attr29       0\n",
       "attr30       0\n",
       "attr31       0\n",
       "attr32       0\n",
       "attr33       0\n",
       "attr34       0\n",
       "attr35       0\n",
       "attr36       0\n",
       "attr37       0\n",
       "attr38       0\n",
       "attr39       0\n",
       "attr40       0\n",
       "attr41       0\n",
       "attr42       0\n",
       "attr43       0\n",
       "attr44       0\n",
       "attr45       0\n",
       "attr46       0\n",
       "attr47       0\n",
       "attr48       0\n",
       "attr49       0\n",
       "attr50       0\n",
       "targetVar    0\n",
       "dtype: int64"
      ]
     },
     "execution_count": 15,
     "metadata": {},
     "output_type": "execute_result"
    }
   ],
   "source": [
    "xy_train_df.isnull().sum()"
   ]
  },
  {
   "cell_type": "markdown",
   "metadata": {},
   "source": [
    "#### 2.a.vi) Summarize the levels of the class attribute."
   ]
  },
  {
   "cell_type": "code",
   "execution_count": 16,
   "metadata": {},
   "outputs": [
    {
     "data": {
      "text/plain": [
       "targetVar\n",
       "0    65430\n",
       "1    25614\n",
       "dtype: int64"
      ]
     },
     "execution_count": 16,
     "metadata": {},
     "output_type": "execute_result"
    }
   ],
   "source": [
    "xy_train_df.groupby('targetVar').size()"
   ]
  },
  {
   "cell_type": "markdown",
   "metadata": {},
   "source": [
    "### 2.b) Data visualizations"
   ]
  },
  {
   "cell_type": "markdown",
   "metadata": {},
   "source": [
    "##### 2.b.i) Univariate plots to better understand each attribute"
   ]
  },
  {
   "cell_type": "code",
   "execution_count": 17,
   "metadata": {},
   "outputs": [
    {
     "data": {
      "image/png": "[encoded data removed]",
      "text/plain": [
       "<Figure size 1152x864 with 56 Axes>"
      ]
     },
     "metadata": {
      "needs_background": "light"
     },
     "output_type": "display_data"
    }
   ],
   "source": [
    "# Histograms for each attribute\n",
    "x_train_df.hist()\n",
    "pyplot.show()"
   ]
  },
  {
   "cell_type": "code",
   "execution_count": 18,
   "metadata": {},
   "outputs": [
    {
     "data": {
      "image/png": "[encoded data removed]",
      "text/plain": [
       "<Figure size 1152x864 with 51 Axes>"
      ]
     },
     "metadata": {
      "needs_background": "light"
     },
     "output_type": "display_data"
    }
   ],
   "source": [
    "# Density plot for each attribute\n",
    "x_train_df.plot(kind='density', subplots=True, layout=(dispRow,dispCol), sharex=False, sharey=False)\n",
    "pyplot.show()"
   ]
  },
  {
   "cell_type": "code",
   "execution_count": 19,
   "metadata": {},
   "outputs": [
    {
     "data": {
      "image/png": "[encoded data removed]",
      "text/plain": [
       "<Figure size 1152x864 with 51 Axes>"
      ]
     },
     "metadata": {
      "needs_background": "light"
     },
     "output_type": "display_data"
    }
   ],
   "source": [
    "# Box and Whisker plot for each attribute\n",
    "x_train_df.plot(kind='box', subplots=True, layout=(dispRow,dispCol), sharex=False, sharey=False)\n",
    "pyplot.show()"
   ]
  },
  {
   "cell_type": "markdown",
   "metadata": {},
   "source": [
    "#### 2.b.ii) Multivariate plots to better understand the relationships between attributes"
   ]
  },
  {
   "cell_type": "code",
   "execution_count": 20,
   "metadata": {},
   "outputs": [],
   "source": [
    "# Scatterplot matrix\n",
    "# scatter_matrix(x_train_df)\n",
    "# pyplot.show()"
   ]
  },
  {
   "cell_type": "code",
   "execution_count": 21,
   "metadata": {},
   "outputs": [
    {
     "data": {
      "image/png": "[encoded data removed]",
      "text/plain": [
       "<Figure size 1152x864 with 2 Axes>"
      ]
     },
     "metadata": {
      "needs_background": "light"
     },
     "output_type": "display_data"
    }
   ],
   "source": [
    "# Correlation matrix\n",
    "fig = pyplot.figure()\n",
    "ax = fig.add_subplot(111)\n",
    "cax = ax.matshow(x_train_df.corr(), vmin=-1, vmax=1)\n",
    "fig.colorbar(cax)\n",
    "pyplot.show()"
   ]
  },
  {
   "cell_type": "code",
   "execution_count": 22,
   "metadata": {},
   "outputs": [],
   "source": [
    "email_notify(\"Data Summarization and Visualization completed! \"+datetime.now().strftime('%a %B %d, %Y %I:%M:%S %p'))"
   ]
  },
  {
   "cell_type": "markdown",
   "metadata": {},
   "source": [
    "## Section 3 - Prepare Data\n",
    "Some dataset may require additional preparation activities that will best exposes the structure of the problem and the relationships between the input attributes and the output variable. Some data-prep tasks might include:\n",
    "\n",
    "* Cleaning data by removing duplicates, marking missing values and even imputing missing values.\n",
    "* Feature selection where redundant features may be removed.\n",
    "* Data transforms where attributes are scaled or redistributed in order to best expose the structure of the problem later to learning algorithms."
   ]
  },
  {
   "cell_type": "code",
   "execution_count": 23,
   "metadata": {},
   "outputs": [],
   "source": [
    "email_notify(\"Data Cleaning and Transformation has begun! \"+datetime.now().strftime('%a %B %d, %Y %I:%M:%S %p'))"
   ]
  },
  {
   "cell_type": "markdown",
   "metadata": {},
   "source": [
    "### 3.a) Data Cleaning"
   ]
  },
  {
   "cell_type": "code",
   "execution_count": 24,
   "metadata": {},
   "outputs": [],
   "source": [
    "# Not applicable for this iteration of the project."
   ]
  },
  {
   "cell_type": "markdown",
   "metadata": {},
   "source": [
    "### 3.b) Feature Selection"
   ]
  },
  {
   "cell_type": "code",
   "execution_count": 25,
   "metadata": {},
   "outputs": [],
   "source": [
    "# Not applicable for this iteration of the project."
   ]
  },
  {
   "cell_type": "markdown",
   "metadata": {},
   "source": [
    "### 3.c) Data Transforms"
   ]
  },
  {
   "cell_type": "code",
   "execution_count": 26,
   "metadata": {},
   "outputs": [],
   "source": [
    "# Not applicable for this iteration of the project."
   ]
  },
  {
   "cell_type": "markdown",
   "metadata": {},
   "source": [
    "### 3.d) Display the Final Datasets for Model-Building"
   ]
  },
  {
   "cell_type": "code",
   "execution_count": 27,
   "metadata": {},
   "outputs": [
    {
     "name": "stdout",
     "output_type": "stream",
     "text": [
      "x_train.shape: (91044, 50) y_train.shape: (91044,)\n",
      "x_test.shape: (39020, 50) y_test.shape: (39020,)\n"
     ]
    }
   ],
   "source": [
    "# We finalize the training and testing datasets for the modeling activities\n",
    "x_train = x_train_df.values\n",
    "y_train = y_train_df.values\n",
    "x_test = x_test_df.values\n",
    "y_test = y_test_df.values\n",
    "print(\"x_train.shape: {} y_train.shape: {}\".format(x_train.shape, y_train.shape))\n",
    "print(\"x_test.shape: {} y_test.shape: {}\".format(x_test.shape, y_test.shape))\n",
    "email_notify(\"Data Cleaning and Transformation completed! \"+datetime.now().strftime('%a %B %d, %Y %I:%M:%S %p'))"
   ]
  },
  {
   "cell_type": "markdown",
   "metadata": {},
   "source": [
    "## 4. Model and Evaluate Algorithms\n",
    "After the data-prep, we next work on finding a workable model by evaluating a subset of machine learning algorithms that are good at exploiting the structure of the training. The typical evaluation tasks include:\n",
    "\n",
    "* Defining test options such as cross validation and the evaluation metric to use.\n",
    "* Spot checking a suite of linear and nonlinear machine learning algorithms.\n",
    "* Comparing the estimated accuracy of algorithms.\n",
    "\n",
    "For this project, we will evaluate one linear, two non-linear and four ensemble algorithms:\n",
    "\n",
    "Linear Algorithm: Logistic Regression\n",
    "\n",
    "Non-Linear Algorithms: Decision Trees (CART) and k-Nearest Neighbors\n",
    "\n",
    "Ensemble Algorithms: Bagged CART, Random Forest, Extra Trees, and Stochastic Gradient Boosting\n",
    "\n",
    "The random number seed is reset before each run to ensure that the evaluation of each algorithm is performed using the same data splits. It ensures the results are directly comparable."
   ]
  },
  {
   "cell_type": "markdown",
   "metadata": {},
   "source": [
    "### 4.a) Set test options and evaluation metric"
   ]
  },
  {
   "cell_type": "code",
   "execution_count": 28,
   "metadata": {},
   "outputs": [],
   "source": [
    "# Run algorithms using 10-fold cross validation\n",
    "num_folds = 10\n",
    "scoring = 'accuracy'"
   ]
  },
  {
   "cell_type": "code",
   "execution_count": 29,
   "metadata": {},
   "outputs": [],
   "source": [
    "# Set up Algorithms Spot-Checking Array\n",
    "models = []\n",
    "models.append(('LR', LogisticRegression(random_state=seedNum)))\n",
    "models.append(('CART', DecisionTreeClassifier(random_state=seedNum)))\n",
    "models.append(('KNN', KNeighborsClassifier()))\n",
    "models.append(('BT', BaggingClassifier(random_state=seedNum)))\n",
    "models.append(('RF', RandomForestClassifier(random_state=seedNum)))\n",
    "models.append(('ET', ExtraTreesClassifier(random_state=seedNum)))\n",
    "models.append(('GBM', GradientBoostingClassifier(random_state=seedNum)))\n",
    "results = []\n",
    "names = []\n",
    "metrics = []"
   ]
  },
  {
   "cell_type": "code",
   "execution_count": 30,
   "metadata": {},
   "outputs": [
    {
     "name": "stderr",
     "output_type": "stream",
     "text": [
      "C:\\Users\\user_hhds7y1\\Anaconda3\\lib\\site-packages\\sklearn\\linear_model\\logistic.py:433: FutureWarning: Default solver will be changed to 'lbfgs' in 0.22. Specify a solver to silence this warning.\n",
      "  FutureWarning)\n",
      "C:\\Users\\user_hhds7y1\\Anaconda3\\lib\\site-packages\\sklearn\\svm\\base.py:922: ConvergenceWarning: Liblinear failed to converge, increase the number of iterations.\n",
      "  \"the number of iterations.\", ConvergenceWarning)\n",
      "C:\\Users\\user_hhds7y1\\Anaconda3\\lib\\site-packages\\sklearn\\linear_model\\logistic.py:433: FutureWarning: Default solver will be changed to 'lbfgs' in 0.22. Specify a solver to silence this warning.\n",
      "  FutureWarning)\n",
      "C:\\Users\\user_hhds7y1\\Anaconda3\\lib\\site-packages\\sklearn\\svm\\base.py:922: ConvergenceWarning: Liblinear failed to converge, increase the number of iterations.\n",
      "  \"the number of iterations.\", ConvergenceWarning)\n",
      "C:\\Users\\user_hhds7y1\\Anaconda3\\lib\\site-packages\\sklearn\\linear_model\\logistic.py:433: FutureWarning: Default solver will be changed to 'lbfgs' in 0.22. Specify a solver to silence this warning.\n",
      "  FutureWarning)\n",
      "C:\\Users\\user_hhds7y1\\Anaconda3\\lib\\site-packages\\sklearn\\svm\\base.py:922: ConvergenceWarning: Liblinear failed to converge, increase the number of iterations.\n",
      "  \"the number of iterations.\", ConvergenceWarning)\n",
      "C:\\Users\\user_hhds7y1\\Anaconda3\\lib\\site-packages\\sklearn\\linear_model\\logistic.py:433: FutureWarning: Default solver will be changed to 'lbfgs' in 0.22. Specify a solver to silence this warning.\n",
      "  FutureWarning)\n",
      "C:\\Users\\user_hhds7y1\\Anaconda3\\lib\\site-packages\\sklearn\\svm\\base.py:922: ConvergenceWarning: Liblinear failed to converge, increase the number of iterations.\n",
      "  \"the number of iterations.\", ConvergenceWarning)\n",
      "C:\\Users\\user_hhds7y1\\Anaconda3\\lib\\site-packages\\sklearn\\linear_model\\logistic.py:433: FutureWarning: Default solver will be changed to 'lbfgs' in 0.22. Specify a solver to silence this warning.\n",
      "  FutureWarning)\n",
      "C:\\Users\\user_hhds7y1\\Anaconda3\\lib\\site-packages\\sklearn\\svm\\base.py:922: ConvergenceWarning: Liblinear failed to converge, increase the number of iterations.\n",
      "  \"the number of iterations.\", ConvergenceWarning)\n",
      "C:\\Users\\user_hhds7y1\\Anaconda3\\lib\\site-packages\\sklearn\\linear_model\\logistic.py:433: FutureWarning: Default solver will be changed to 'lbfgs' in 0.22. Specify a solver to silence this warning.\n",
      "  FutureWarning)\n",
      "C:\\Users\\user_hhds7y1\\Anaconda3\\lib\\site-packages\\sklearn\\svm\\base.py:922: ConvergenceWarning: Liblinear failed to converge, increase the number of iterations.\n",
      "  \"the number of iterations.\", ConvergenceWarning)\n",
      "C:\\Users\\user_hhds7y1\\Anaconda3\\lib\\site-packages\\sklearn\\linear_model\\logistic.py:433: FutureWarning: Default solver will be changed to 'lbfgs' in 0.22. Specify a solver to silence this warning.\n",
      "  FutureWarning)\n",
      "C:\\Users\\user_hhds7y1\\Anaconda3\\lib\\site-packages\\sklearn\\svm\\base.py:922: ConvergenceWarning: Liblinear failed to converge, increase the number of iterations.\n",
      "  \"the number of iterations.\", ConvergenceWarning)\n",
      "C:\\Users\\user_hhds7y1\\Anaconda3\\lib\\site-packages\\sklearn\\linear_model\\logistic.py:433: FutureWarning: Default solver will be changed to 'lbfgs' in 0.22. Specify a solver to silence this warning.\n",
      "  FutureWarning)\n",
      "C:\\Users\\user_hhds7y1\\Anaconda3\\lib\\site-packages\\sklearn\\linear_model\\logistic.py:433: FutureWarning: Default solver will be changed to 'lbfgs' in 0.22. Specify a solver to silence this warning.\n",
      "  FutureWarning)\n",
      "C:\\Users\\user_hhds7y1\\Anaconda3\\lib\\site-packages\\sklearn\\svm\\base.py:922: ConvergenceWarning: Liblinear failed to converge, increase the number of iterations.\n",
      "  \"the number of iterations.\", ConvergenceWarning)\n",
      "C:\\Users\\user_hhds7y1\\Anaconda3\\lib\\site-packages\\sklearn\\linear_model\\logistic.py:433: FutureWarning: Default solver will be changed to 'lbfgs' in 0.22. Specify a solver to silence this warning.\n",
      "  FutureWarning)\n",
      "C:\\Users\\user_hhds7y1\\Anaconda3\\lib\\site-packages\\sklearn\\svm\\base.py:922: ConvergenceWarning: Liblinear failed to converge, increase the number of iterations.\n",
      "  \"the number of iterations.\", ConvergenceWarning)\n"
     ]
    },
    {
     "name": "stdout",
     "output_type": "stream",
     "text": [
      "LR: 0.865471 (0.023296)\n",
      "Model training time: 0:02:40.056577\n",
      "CART: 0.890932 (0.003681)\n",
      "Model training time: 0:01:42.513384\n",
      "KNN: 0.884748 (0.003643)\n",
      "Model training time: 0:01:21.903243\n",
      "BT: 0.926596 (0.002425)\n",
      "Model training time: 0:10:06.225897\n"
     ]
    },
    {
     "name": "stderr",
     "output_type": "stream",
     "text": [
      "C:\\Users\\user_hhds7y1\\Anaconda3\\lib\\site-packages\\sklearn\\ensemble\\forest.py:246: FutureWarning: The default value of n_estimators will change from 10 in version 0.20 to 100 in 0.22.\n",
      "  \"10 in version 0.20 to 100 in 0.22.\", FutureWarning)\n",
      "C:\\Users\\user_hhds7y1\\Anaconda3\\lib\\site-packages\\sklearn\\ensemble\\forest.py:246: FutureWarning: The default value of n_estimators will change from 10 in version 0.20 to 100 in 0.22.\n",
      "  \"10 in version 0.20 to 100 in 0.22.\", FutureWarning)\n",
      "C:\\Users\\user_hhds7y1\\Anaconda3\\lib\\site-packages\\sklearn\\ensemble\\forest.py:246: FutureWarning: The default value of n_estimators will change from 10 in version 0.20 to 100 in 0.22.\n",
      "  \"10 in version 0.20 to 100 in 0.22.\", FutureWarning)\n",
      "C:\\Users\\user_hhds7y1\\Anaconda3\\lib\\site-packages\\sklearn\\ensemble\\forest.py:246: FutureWarning: The default value of n_estimators will change from 10 in version 0.20 to 100 in 0.22.\n",
      "  \"10 in version 0.20 to 100 in 0.22.\", FutureWarning)\n",
      "C:\\Users\\user_hhds7y1\\Anaconda3\\lib\\site-packages\\sklearn\\ensemble\\forest.py:246: FutureWarning: The default value of n_estimators will change from 10 in version 0.20 to 100 in 0.22.\n",
      "  \"10 in version 0.20 to 100 in 0.22.\", FutureWarning)\n",
      "C:\\Users\\user_hhds7y1\\Anaconda3\\lib\\site-packages\\sklearn\\ensemble\\forest.py:246: FutureWarning: The default value of n_estimators will change from 10 in version 0.20 to 100 in 0.22.\n",
      "  \"10 in version 0.20 to 100 in 0.22.\", FutureWarning)\n",
      "C:\\Users\\user_hhds7y1\\Anaconda3\\lib\\site-packages\\sklearn\\ensemble\\forest.py:246: FutureWarning: The default value of n_estimators will change from 10 in version 0.20 to 100 in 0.22.\n",
      "  \"10 in version 0.20 to 100 in 0.22.\", FutureWarning)\n",
      "C:\\Users\\user_hhds7y1\\Anaconda3\\lib\\site-packages\\sklearn\\ensemble\\forest.py:246: FutureWarning: The default value of n_estimators will change from 10 in version 0.20 to 100 in 0.22.\n",
      "  \"10 in version 0.20 to 100 in 0.22.\", FutureWarning)\n",
      "C:\\Users\\user_hhds7y1\\Anaconda3\\lib\\site-packages\\sklearn\\ensemble\\forest.py:246: FutureWarning: The default value of n_estimators will change from 10 in version 0.20 to 100 in 0.22.\n",
      "  \"10 in version 0.20 to 100 in 0.22.\", FutureWarning)\n",
      "C:\\Users\\user_hhds7y1\\Anaconda3\\lib\\site-packages\\sklearn\\ensemble\\forest.py:246: FutureWarning: The default value of n_estimators will change from 10 in version 0.20 to 100 in 0.22.\n",
      "  \"10 in version 0.20 to 100 in 0.22.\", FutureWarning)\n"
     ]
    },
    {
     "name": "stdout",
     "output_type": "stream",
     "text": [
      "RF: 0.924399 (0.003075)\n",
      "Model training time: 0:01:15.334435\n"
     ]
    },
    {
     "name": "stderr",
     "output_type": "stream",
     "text": [
      "C:\\Users\\user_hhds7y1\\Anaconda3\\lib\\site-packages\\sklearn\\ensemble\\forest.py:246: FutureWarning: The default value of n_estimators will change from 10 in version 0.20 to 100 in 0.22.\n",
      "  \"10 in version 0.20 to 100 in 0.22.\", FutureWarning)\n",
      "C:\\Users\\user_hhds7y1\\Anaconda3\\lib\\site-packages\\sklearn\\ensemble\\forest.py:246: FutureWarning: The default value of n_estimators will change from 10 in version 0.20 to 100 in 0.22.\n",
      "  \"10 in version 0.20 to 100 in 0.22.\", FutureWarning)\n",
      "C:\\Users\\user_hhds7y1\\Anaconda3\\lib\\site-packages\\sklearn\\ensemble\\forest.py:246: FutureWarning: The default value of n_estimators will change from 10 in version 0.20 to 100 in 0.22.\n",
      "  \"10 in version 0.20 to 100 in 0.22.\", FutureWarning)\n",
      "C:\\Users\\user_hhds7y1\\Anaconda3\\lib\\site-packages\\sklearn\\ensemble\\forest.py:246: FutureWarning: The default value of n_estimators will change from 10 in version 0.20 to 100 in 0.22.\n",
      "  \"10 in version 0.20 to 100 in 0.22.\", FutureWarning)\n",
      "C:\\Users\\user_hhds7y1\\Anaconda3\\lib\\site-packages\\sklearn\\ensemble\\forest.py:246: FutureWarning: The default value of n_estimators will change from 10 in version 0.20 to 100 in 0.22.\n",
      "  \"10 in version 0.20 to 100 in 0.22.\", FutureWarning)\n",
      "C:\\Users\\user_hhds7y1\\Anaconda3\\lib\\site-packages\\sklearn\\ensemble\\forest.py:246: FutureWarning: The default value of n_estimators will change from 10 in version 0.20 to 100 in 0.22.\n",
      "  \"10 in version 0.20 to 100 in 0.22.\", FutureWarning)\n",
      "C:\\Users\\user_hhds7y1\\Anaconda3\\lib\\site-packages\\sklearn\\ensemble\\forest.py:246: FutureWarning: The default value of n_estimators will change from 10 in version 0.20 to 100 in 0.22.\n",
      "  \"10 in version 0.20 to 100 in 0.22.\", FutureWarning)\n",
      "C:\\Users\\user_hhds7y1\\Anaconda3\\lib\\site-packages\\sklearn\\ensemble\\forest.py:246: FutureWarning: The default value of n_estimators will change from 10 in version 0.20 to 100 in 0.22.\n",
      "  \"10 in version 0.20 to 100 in 0.22.\", FutureWarning)\n",
      "C:\\Users\\user_hhds7y1\\Anaconda3\\lib\\site-packages\\sklearn\\ensemble\\forest.py:246: FutureWarning: The default value of n_estimators will change from 10 in version 0.20 to 100 in 0.22.\n",
      "  \"10 in version 0.20 to 100 in 0.22.\", FutureWarning)\n",
      "C:\\Users\\user_hhds7y1\\Anaconda3\\lib\\site-packages\\sklearn\\ensemble\\forest.py:246: FutureWarning: The default value of n_estimators will change from 10 in version 0.20 to 100 in 0.22.\n",
      "  \"10 in version 0.20 to 100 in 0.22.\", FutureWarning)\n"
     ]
    },
    {
     "name": "stdout",
     "output_type": "stream",
     "text": [
      "ET: 0.919347 (0.003141)\n",
      "Model training time: 0:00:15.552768\n",
      "GBM: 0.929133 (0.003433)\n",
      "Model training time: 0:07:51.400390\n",
      "Average metrics (accuracy) from all models: 0.9058037860798566\n"
     ]
    }
   ],
   "source": [
    "# Generate model in turn\n",
    "for name, model in models:\n",
    "\temail_notify(\"Algorithm \"+name+\" modeling has begun! \"+datetime.now().strftime('%a %B %d, %Y %I:%M:%S %p'))\n",
    "\tstartTimeModule = datetime.now()\n",
    "\tkfold = KFold(n_splits=num_folds, random_state=seedNum)\n",
    "\tcv_results = cross_val_score(model, x_train, y_train, cv=kfold, scoring=scoring)\n",
    "\tresults.append(cv_results)\n",
    "\tnames.append(name)\n",
    "\tmetrics.append(cv_results.mean())\n",
    "\tmsg = \"%s: %f (%f)\" % (name, cv_results.mean(), cv_results.std())\n",
    "\tprint(msg)\n",
    "\tprint ('Model training time:',(datetime.now() - startTimeModule))\n",
    "\temail_notify(\"Algorithm \"+name+\" modeling completed! \"+datetime.now().strftime('%a %B %d, %Y %I:%M:%S %p'))\n",
    "print ('Average metrics ('+scoring+') from all models:',np.mean(metrics))"
   ]
  },
  {
   "cell_type": "markdown",
   "metadata": {},
   "source": [
    "### 4.b) Spot-checking baseline algorithms"
   ]
  },
  {
   "cell_type": "code",
   "execution_count": 31,
   "metadata": {},
   "outputs": [
    {
     "data": {
      "image/png": "[encoded data removed]",
      "text/plain": [
       "<Figure size 1152x864 with 1 Axes>"
      ]
     },
     "metadata": {
      "needs_background": "light"
     },
     "output_type": "display_data"
    }
   ],
   "source": [
    "fig = pyplot.figure()\n",
    "fig.suptitle('Algorithm Comparison - Spot Checking')\n",
    "ax = fig.add_subplot(111)\n",
    "pyplot.boxplot(results)\n",
    "ax.set_xticklabels(names)\n",
    "pyplot.show()"
   ]
  },
  {
   "cell_type": "markdown",
   "metadata": {},
   "source": [
    "## Section 5 - Improve Accuracy\n",
    "After we achieve a short list of machine learning algorithms with good level of accuracy, we can leverage ways to improve the accuracy of the models."
   ]
  },
  {
   "cell_type": "markdown",
   "metadata": {},
   "source": [
    "### 5.a) Algorithm Tuning"
   ]
  },
  {
   "cell_type": "code",
   "execution_count": 32,
   "metadata": {},
   "outputs": [],
   "source": [
    "# Set up the comparison array\n",
    "results = []\n",
    "names = []"
   ]
  },
  {
   "cell_type": "code",
   "execution_count": 33,
   "metadata": {},
   "outputs": [
    {
     "name": "stdout",
     "output_type": "stream",
     "text": [
      "Best: 0.935009 using {'n_estimators': 90}\n",
      "0.926596 (0.002425) with: {'n_estimators': 10}\n",
      "0.933197 (0.002474) with: {'n_estimators': 30}\n",
      "0.934306 (0.002178) with: {'n_estimators': 50}\n",
      "0.934603 (0.002332) with: {'n_estimators': 70}\n",
      "0.935009 (0.002444) with: {'n_estimators': 90}\n",
      "Model training time: 4:25:01.436775\n"
     ]
    }
   ],
   "source": [
    "# Tuning algorithm #1 - Bagged CART\n",
    "email_notify(\"Algorithm #1 tuning has begun! \"+datetime.now().strftime('%a %B %d, %Y %I:%M:%S %p'))\n",
    "startTimeModule = datetime.now()\n",
    "paramGrid1 = dict(n_estimators=np.array([10,30,50,70,90]))\n",
    "model1 = BaggingClassifier(random_state=seedNum)\n",
    "kfold = KFold(n_splits=num_folds, random_state=seedNum)\n",
    "grid1 = GridSearchCV(estimator=model1, param_grid=paramGrid1, scoring=scoring, cv=kfold)\n",
    "grid_result1 = grid1.fit(x_train, y_train)\n",
    "\n",
    "print(\"Best: %f using %s\" % (grid_result1.best_score_, grid_result1.best_params_))\n",
    "results.append(grid_result1.cv_results_['mean_test_score'])\n",
    "names.append('BT')\n",
    "means = grid_result1.cv_results_['mean_test_score']\n",
    "stds = grid_result1.cv_results_['std_test_score']\n",
    "params = grid_result1.cv_results_['params']\n",
    "for mean, stdev, param in zip(means, stds, params):\n",
    "    print(\"%f (%f) with: %r\" % (mean, stdev, param))\n",
    "print ('Model training time:',(datetime.now() - startTimeModule))\n",
    "email_notify(\"Algorithm #1 tuning completed! \"+datetime.now().strftime('%a %B %d, %Y %I:%M:%S %p'))"
   ]
  },
  {
   "cell_type": "code",
   "execution_count": 34,
   "metadata": {},
   "outputs": [
    {
     "name": "stdout",
     "output_type": "stream",
     "text": [
      "Best: 0.939502 using {'n_estimators': 500}\n",
      "0.929133 (0.003433) with: {'n_estimators': 100}\n",
      "0.935185 (0.002197) with: {'n_estimators': 200}\n",
      "0.937613 (0.002269) with: {'n_estimators': 300}\n",
      "0.938865 (0.002286) with: {'n_estimators': 400}\n",
      "0.939502 (0.001882) with: {'n_estimators': 500}\n",
      "Model training time: 2:07:47.845322\n"
     ]
    }
   ],
   "source": [
    "# Tuning algorithm #2 - Stochastic Gradient Boosting\n",
    "email_notify(\"Algorithm #2 tuning has begun! \"+datetime.now().strftime('%a %B %d, %Y %I:%M:%S %p'))\n",
    "startTimeModule = datetime.now()\n",
    "paramGrid2 = dict(n_estimators=np.array([100,200,300,400,500]))\n",
    "model2 = GradientBoostingClassifier(random_state=seedNum)\n",
    "kfold = KFold(n_splits=num_folds, random_state=seedNum)\n",
    "grid2 = GridSearchCV(estimator=model2, param_grid=paramGrid2, scoring=scoring, cv=kfold)\n",
    "grid_result2 = grid2.fit(x_train, y_train)\n",
    "\n",
    "print(\"Best: %f using %s\" % (grid_result2.best_score_, grid_result2.best_params_))\n",
    "results.append(grid_result2.cv_results_['mean_test_score'])\n",
    "names.append('GBM')\n",
    "means = grid_result2.cv_results_['mean_test_score']\n",
    "stds = grid_result2.cv_results_['std_test_score']\n",
    "params = grid_result2.cv_results_['params']\n",
    "for mean, stdev, param in zip(means, stds, params):\n",
    "    print(\"%f (%f) with: %r\" % (mean, stdev, param))\n",
    "print ('Model training time:',(datetime.now() - startTimeModule))\n",
    "email_notify(\"Algorithm #2 tuning completed! \"+datetime.now().strftime('%a %B %d, %Y %I:%M:%S %p'))"
   ]
  },
  {
   "cell_type": "markdown",
   "metadata": {},
   "source": [
    "### 5.b) Compare Algorithms After Tuning"
   ]
  },
  {
   "cell_type": "code",
   "execution_count": 35,
   "metadata": {},
   "outputs": [
    {
     "data": {
      "image/png": "[encoded data removed]",
      "text/plain": [
       "<Figure size 1152x864 with 1 Axes>"
      ]
     },
     "metadata": {
      "needs_background": "light"
     },
     "output_type": "display_data"
    }
   ],
   "source": [
    "fig = pyplot.figure()\n",
    "fig.suptitle('Algorithm Comparison - Post Tuning')\n",
    "ax = fig.add_subplot(111)\n",
    "pyplot.boxplot(results)\n",
    "ax.set_xticklabels(names)\n",
    "pyplot.show()"
   ]
  },
  {
   "cell_type": "markdown",
   "metadata": {},
   "source": [
    "## Section 6 - Finalize Model\n",
    "Once we have narrow down to a model that we believe can make accurate predictions on unseen data, we are ready to finalize it. Finalizing a model may involve sub-tasks such as:\n",
    "* Using an optimal model tuned to make predictions on unseen data.\n",
    "* Creating a standalone model using the tuned parameters\n",
    "* Saving an optimal model to file for later use."
   ]
  },
  {
   "cell_type": "code",
   "execution_count": 36,
   "metadata": {},
   "outputs": [],
   "source": [
    "email_notify(\"Model Validation and Final Model Creation has begun! \"+datetime.now().strftime('%a %B %d, %Y %I:%M:%S %p'))"
   ]
  },
  {
   "cell_type": "markdown",
   "metadata": {},
   "source": [
    "### 6.a) Predictions on validation dataset"
   ]
  },
  {
   "cell_type": "code",
   "execution_count": 37,
   "metadata": {},
   "outputs": [
    {
     "name": "stdout",
     "output_type": "stream",
     "text": [
      "0.9385699641209636\n",
      "[[26855  1280]\n",
      " [ 1117  9768]]\n",
      "              precision    recall  f1-score   support\n",
      "\n",
      "           0       0.96      0.95      0.96     28135\n",
      "           1       0.88      0.90      0.89     10885\n",
      "\n",
      "   micro avg       0.94      0.94      0.94     39020\n",
      "   macro avg       0.92      0.93      0.92     39020\n",
      "weighted avg       0.94      0.94      0.94     39020\n",
      "\n"
     ]
    }
   ],
   "source": [
    "model = GradientBoostingClassifier(n_estimators=500, random_state=seedNum)\n",
    "model.fit(x_train, y_train)\n",
    "predictions = model.predict(x_test)\n",
    "print(accuracy_score(y_test, predictions))\n",
    "print(confusion_matrix(y_test, predictions))\n",
    "print(classification_report(y_test, predictions))"
   ]
  },
  {
   "cell_type": "markdown",
   "metadata": {},
   "source": [
    "### 6.b) Create standalone model on entire training dataset"
   ]
  },
  {
   "cell_type": "code",
   "execution_count": 38,
   "metadata": {},
   "outputs": [
    {
     "name": "stdout",
     "output_type": "stream",
     "text": [
      "x_complete.shape: (130064, 50) y_complete.shape: (130064,)\n"
     ]
    },
    {
     "data": {
      "text/plain": [
       "GradientBoostingClassifier(criterion='friedman_mse', init=None,\n",
       "              learning_rate=0.1, loss='deviance', max_depth=3,\n",
       "              max_features=None, max_leaf_nodes=None,\n",
       "              min_impurity_decrease=0.0, min_impurity_split=None,\n",
       "              min_samples_leaf=1, min_samples_split=2,\n",
       "              min_weight_fraction_leaf=0.0, n_estimators=500,\n",
       "              n_iter_no_change=None, presort='auto', random_state=888,\n",
       "              subsample=1.0, tol=0.0001, validation_fraction=0.1,\n",
       "              verbose=0, warm_start=False)"
      ]
     },
     "execution_count": 38,
     "metadata": {},
     "output_type": "execute_result"
    }
   ],
   "source": [
    "startTimeModule = datetime.now()\n",
    "\n",
    "# Combining the training and testing datasets to form the complete dataset that will be used for training the final model\n",
    "x_complete = np.vstack((x_train, x_test))\n",
    "y_complete = np.concatenate((y_train, y_test))\n",
    "print(\"x_complete.shape: {} y_complete.shape: {}\".format(x_complete.shape, y_complete.shape))\n",
    "\n",
    "finalModel = GradientBoostingClassifier(n_estimators=500, random_state=seedNum)\n",
    "finalModel.fit(x_complete, y_complete)"
   ]
  },
  {
   "cell_type": "markdown",
   "metadata": {},
   "source": [
    "### 6.c) Save model for later use"
   ]
  },
  {
   "cell_type": "code",
   "execution_count": 39,
   "metadata": {},
   "outputs": [],
   "source": [
    "# modelName = 'finalModel_BinaryClass.sav'\n",
    "# dump(finalModel, modelName)"
   ]
  },
  {
   "cell_type": "code",
   "execution_count": 40,
   "metadata": {},
   "outputs": [
    {
     "name": "stdout",
     "output_type": "stream",
     "text": [
      "Total time for the script: 7:11:45.840104\n"
     ]
    }
   ],
   "source": [
    "email_notify(\"Model Validation and Final Model Creation completed! \"+datetime.now().strftime('%a %B %d, %Y %I:%M:%S %p'))\n",
    "print ('Total time for the script:',(datetime.now() - startTimeScript))"
   ]
  }
 ],
 "metadata": {
  "kernelspec": {
   "display_name": "Python 3",
   "language": "python",
   "name": "python3"
  },
  "language_info": {
   "codemirror_mode": {
    "name": "ipython",
    "version": 3
   },
   "file_extension": ".py",
   "mimetype": "text/x-python",
   "name": "python",
   "nbconvert_exporter": "python",
   "pygments_lexer": "ipython3",
   "version": "3.7.0"
  }
 },
 "nbformat": 4,
 "nbformat_minor": 2
}

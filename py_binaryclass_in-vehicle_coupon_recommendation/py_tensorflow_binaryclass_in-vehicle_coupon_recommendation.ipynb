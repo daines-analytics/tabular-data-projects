{
 "cells": [
  {
   "cell_type": "markdown",
   "metadata": {
    "gradient": {
     "editing": true,
     "id": "1f348e2b-60fe-4225-94ff-9e0309ba29d0",
     "kernelId": "c95f4d49-5695-4a88-8b5e-da646b437b62"
    },
    "id": "TVs0Qopg3l7w"
   },
   "source": [
    "### Binary Classification Model for In-Vehicle Coupon Recommendation Using Python and TensorFlow\n",
    "### David Lowe\n",
    "### December 15, 2021\n",
    "\n",
    "Template Credit: Adapted from a template made available by Dr. Jason Brownlee of Machine Learning Mastery. [https://machinelearningmastery.com/]\n",
    "\n",
    "SUMMARY: This project aims to construct a predictive model using various machine learning algorithms and document the end-to-end steps using a template. The In-Vehicle Coupon Recommendation dataset is a binary classification situation where we attempt to predict one of the two possible outcomes.\n",
    "\n",
    "INTRODUCTION: This dataset, available from UC Irvine's Machine Learning Repository, studies whether a person will accept the coupon recommended to him under different driving scenarios.\n",
    "\n",
    "ANALYSIS: The performance of the cross-validated TensorFlow models achieved an average accuracy benchmark of 0.7211 after running for 30 epochs. When we applied the final model to the test dataset, the model achieved an accuracy score of 0.7386.\n",
    "\n",
    "CONCLUSION: In this iteration, the TensorFlow model appeared to be a suitable algorithm for modeling this dataset.\n",
    "\n",
    "Dataset Used: In-Vehicle Coupon Recommendation Data Set\n",
    "\n",
    "Dataset ML Model: Binary classification with numerical and categorical attributes\n",
    "\n",
    "Dataset Reference: https://archive-beta.ics.uci.edu/ml/datasets/in+vehicle+coupon+recommendation"
   ]
  },
  {
   "cell_type": "markdown",
   "metadata": {
    "gradient": {
     "editing": false,
     "id": "568fe418-b2f6-4bbb-84fd-560969685559",
     "kernelId": "c95f4d49-5695-4a88-8b5e-da646b437b62"
    },
    "id": "XcvIFuk03l7z"
   },
   "source": [
    "## Task 1 - Prepare Environment"
   ]
  },
  {
   "cell_type": "code",
   "execution_count": 1,
   "metadata": {
    "gradient": {
     "editing": false,
     "execution_count": 1,
     "id": "24094069-be35-4e1e-8b85-8a3f7940b1b7",
     "kernelId": "c95f4d49-5695-4a88-8b5e-da646b437b62"
    },
    "id": "Q8WmuNd23l70"
   },
   "outputs": [],
   "source": [
    "# Install the necessary packages for Colab\n",
    "# !pip install python-dotenv PyMySQL"
   ]
  },
  {
   "cell_type": "code",
   "execution_count": 2,
   "metadata": {
    "colab": {
     "base_uri": "https://localhost:8080/"
    },
    "gradient": {
     "editing": false,
     "execution_count": 2,
     "id": "4fbd4db8-ea28-4a7d-9ea5-113c032e0bb5",
     "kernelId": "c95f4d49-5695-4a88-8b5e-da646b437b62"
    },
    "id": "oFWd7eph3l70",
    "outputId": "073fed70-fe48-4acc-cf5f-5a9c4139b2f1"
   },
   "outputs": [],
   "source": [
    "# # Retrieve the GPU information from Colab\n",
    "# gpu_info = !nvidia-smi\n",
    "# gpu_info = '\\n'.join(gpu_info)\n",
    "# if gpu_info.find('failed') >= 0:\n",
    "#     print('Select the Runtime → \"Change runtime type\" menu to enable a GPU accelerator, ')\n",
    "#     print('and then re-execute this cell.')\n",
    "# else:\n",
    "#     print(gpu_info)"
   ]
  },
  {
   "cell_type": "code",
   "execution_count": 3,
   "metadata": {
    "colab": {
     "base_uri": "https://localhost:8080/"
    },
    "gradient": {
     "editing": false,
     "execution_count": 3,
     "id": "5f28ee54-702b-4d52-b05e-ecc4908c06b3",
     "kernelId": "c95f4d49-5695-4a88-8b5e-da646b437b62"
    },
    "id": "2tWJ-QK63l71",
    "outputId": "36293a78-09c6-41ef-fdbc-e4763031b0ec"
   },
   "outputs": [],
   "source": [
    "# # Retrieve the memory configuration from Colab\n",
    "# from psutil import virtual_memory\n",
    "# ram_gb = virtual_memory().total / 1e9\n",
    "# print('Your runtime has {:.1f} gigabytes of available RAM\\n'.format(ram_gb))\n",
    "\n",
    "# if ram_gb < 20:\n",
    "#     print('To enable a high-RAM runtime, select the Runtime → \"Change runtime type\"')\n",
    "#     print('menu, and then select High-RAM in the Runtime shape dropdown. Then, ')\n",
    "#     print('re-execute this cell.')\n",
    "# else:\n",
    "#     print('You are using a high-RAM runtime!')"
   ]
  },
  {
   "cell_type": "code",
   "execution_count": 4,
   "metadata": {
    "colab": {
     "base_uri": "https://localhost:8080/"
    },
    "gradient": {
     "editing": false,
     "execution_count": 4,
     "id": "a57c1624-6e92-4e83-b4c4-e10033811b51",
     "kernelId": "c95f4d49-5695-4a88-8b5e-da646b437b62"
    },
    "id": "MMxv3rIM3l71",
    "outputId": "7ca0f50f-7b12-4fff-f4e3-46326d33da9a"
   },
   "outputs": [
    {
     "name": "stdout",
     "output_type": "stream",
     "text": [
      "The number of available CPUs is: 4\n"
     ]
    }
   ],
   "source": [
    "# Retrieve the CPU information\n",
    "ncpu = !nproc\n",
    "print(\"The number of available CPUs is:\", ncpu[0])"
   ]
  },
  {
   "cell_type": "markdown",
   "metadata": {
    "gradient": {
     "editing": false,
     "id": "d17cff39-139e-412c-b826-c31e3ded9d53",
     "kernelId": "c95f4d49-5695-4a88-8b5e-da646b437b62"
    },
    "id": "I7LCAiYF3l72"
   },
   "source": [
    "### 1.a) Load libraries and modules"
   ]
  },
  {
   "cell_type": "code",
   "execution_count": 5,
   "metadata": {
    "gradient": {
     "editing": false,
     "execution_count": 5,
     "id": "fb011499-1015-4e20-9c40-645b55a34293",
     "kernelId": "c95f4d49-5695-4a88-8b5e-da646b437b62"
    },
    "id": "IcBsRRuj3l73"
   },
   "outputs": [],
   "source": [
    "# Set the random seed number for reproducible results\n",
    "RNG_SEED = 888"
   ]
  },
  {
   "cell_type": "code",
   "execution_count": 6,
   "metadata": {
    "gradient": {
     "editing": false,
     "execution_count": 6,
     "id": "74f22e76-35dc-4f80-a33c-03c00923ef4a",
     "kernelId": "c95f4d49-5695-4a88-8b5e-da646b437b62"
    },
    "id": "qvqMowk53l73"
   },
   "outputs": [
    {
     "name": "stderr",
     "output_type": "stream",
     "text": [
      "2021-12-13 22:33:36.034490: W tensorflow/stream_executor/platform/default/dso_loader.cc:64] Could not load dynamic library 'libcudart.so.11.0'; dlerror: libcudart.so.11.0: cannot open shared object file: No such file or directory\n",
      "2021-12-13 22:33:36.034561: I tensorflow/stream_executor/cuda/cudart_stub.cc:29] Ignore above cudart dlerror if you do not have a GPU set up on your machine.\n"
     ]
    }
   ],
   "source": [
    "import random\n",
    "random.seed(RNG_SEED)\n",
    "import numpy as np\n",
    "np.random.seed(RNG_SEED)\n",
    "import pandas as pd\n",
    "import seaborn as sns\n",
    "import matplotlib.pyplot as plt\n",
    "import os\n",
    "import sys\n",
    "import math\n",
    "from datetime import datetime\n",
    "# import boto3\n",
    "# from dotenv import load_dotenv\n",
    "from sklearn import preprocessing\n",
    "from sklearn.model_selection import train_test_split\n",
    "from sklearn.model_selection import RepeatedKFold\n",
    "from sklearn.metrics import classification_report\n",
    "from sklearn.metrics import confusion_matrix\n",
    "from sklearn.metrics import accuracy_score\n",
    "from sklearn.metrics import roc_auc_score\n",
    "from sklearn.pipeline import Pipeline\n",
    "from sklearn import compose\n",
    "from sklearn import impute\n",
    "import tensorflow as tf\n",
    "tf.random.set_seed(RNG_SEED)\n",
    "from tensorflow import keras\n",
    "from tensorflow.keras.callbacks import ReduceLROnPlateau"
   ]
  },
  {
   "cell_type": "markdown",
   "metadata": {
    "gradient": {
     "editing": false,
     "id": "9dd24b98-578e-4cdb-9076-b46aca15641d",
     "kernelId": "c95f4d49-5695-4a88-8b5e-da646b437b62"
    },
    "id": "lj9CEmZv3l74"
   },
   "source": [
    "### 1.b) Set up the controlling parameters and functions"
   ]
  },
  {
   "cell_type": "code",
   "execution_count": 7,
   "metadata": {
    "colab": {
     "base_uri": "https://localhost:8080/"
    },
    "gradient": {
     "editing": false,
     "execution_count": 7,
     "id": "cf2e460a-1dc7-4eee-ae4e-c7cf9beba398",
     "kernelId": "c95f4d49-5695-4a88-8b5e-da646b437b62"
    },
    "id": "37e7yBJt3l74",
    "outputId": "62f02af4-d966-4553-d469-44c6c98b489c"
   },
   "outputs": [
    {
     "name": "stdout",
     "output_type": "stream",
     "text": [
      "TensorFlow version: 2.7.0\n"
     ]
    }
   ],
   "source": [
    "# Begin the timer for the script processing\n",
    "start_time_script = datetime.now()\n",
    "\n",
    "# Set up the number of CPU cores available for multi-thread processing\n",
    "N_JOBS = 1\n",
    "\n",
    "# Set up the flag to stop sending progress emails (setting to True will send status emails!)\n",
    "NOTIFY_STATUS = False\n",
    "\n",
    "# Set the percentage sizes for splitting the dataset\n",
    "TEST_SET_RATIO = 0.2\n",
    "VAL_SET_RATIO = 0.2\n",
    "\n",
    "# Set the number of folds for cross validation\n",
    "N_FOLDS = 5\n",
    "N_ITERATIONS = 1\n",
    "\n",
    "# Set various default modeling parameters\n",
    "DEFAULT_LOSS = 'binary_crossentropy'\n",
    "DEFAULT_METRICS = ['accuracy']\n",
    "DEFAULT_OPTIMIZER = tf.keras.optimizers.Adam(learning_rate=0.001)\n",
    "DEFAULT_INITIALIZER = tf.keras.initializers.RandomNormal(seed=RNG_SEED)\n",
    "CLASSIFIER_ACTIVATION = 'sigmoid'\n",
    "MAX_EPOCHS = 30\n",
    "BATCH_SIZE = 16\n",
    "\n",
    "# Define the labels to use for graphing the data\n",
    "train_metric = \"accuracy\"\n",
    "validation_metric = \"val_accuracy\"\n",
    "train_loss = \"loss\"\n",
    "validation_loss = \"val_loss\"\n",
    "\n",
    "# Check the number of GPUs accessible through TensorFlow\n",
    "# print('Num GPUs Available:', len(tf.config.list_physical_devices('GPU')))\n",
    "\n",
    "# Print out the TensorFlow version for confirmation\n",
    "print('TensorFlow version:', tf.__version__)"
   ]
  },
  {
   "cell_type": "code",
   "execution_count": 8,
   "metadata": {
    "gradient": {
     "editing": false,
     "execution_count": 8,
     "id": "f6c6b6b4-ff93-4795-8606-8d0eb132d514",
     "kernelId": "c95f4d49-5695-4a88-8b5e-da646b437b62"
    },
    "id": "DeabrzoC3l75"
   },
   "outputs": [],
   "source": [
    "# Set up the email notification function\n",
    "def status_notify(msg_text):\n",
    "    access_key = os.environ.get('SNS_ACCESS_KEY')\n",
    "    secret_key = os.environ.get('SNS_SECRET_KEY')\n",
    "    aws_region = os.environ.get('SNS_AWS_REGION')\n",
    "    topic_arn = os.environ.get('SNS_TOPIC_ARN')\n",
    "    if (access_key is None) or (secret_key is None) or (aws_region is None):\n",
    "        sys.exit(\"Incomplete notification setup info. Script Processing Aborted!!!\")\n",
    "    sns = boto3.client('sns', aws_access_key_id=access_key, aws_secret_access_key=secret_key, region_name=aws_region)\n",
    "    response = sns.publish(TopicArn=topic_arn, Message=msg_text)\n",
    "    if response['ResponseMetadata']['HTTPStatusCode'] != 200 :\n",
    "        print('Status notification not OK with HTTP status code:', response['ResponseMetadata']['HTTPStatusCode'])"
   ]
  },
  {
   "cell_type": "code",
   "execution_count": 9,
   "metadata": {
    "gradient": {
     "editing": false,
     "execution_count": 9,
     "id": "6e26051c-8d71-44d9-ba5d-8336bed368e3",
     "kernelId": "c95f4d49-5695-4a88-8b5e-da646b437b62"
    },
    "id": "z6at5jHEyl6k"
   },
   "outputs": [],
   "source": [
    "# Reset the random number generators\n",
    "def reset_random(x=RNG_SEED):\n",
    "    random.seed(x)\n",
    "    np.random.seed(x)\n",
    "    tf.random.set_seed(x)"
   ]
  },
  {
   "cell_type": "code",
   "execution_count": 10,
   "metadata": {
    "gradient": {
     "editing": false,
     "execution_count": 10,
     "id": "5973b943-31bb-4fd7-ae92-f87d0e785bea",
     "kernelId": "c95f4d49-5695-4a88-8b5e-da646b437b62"
    },
    "id": "-LXEI2QY3l75"
   },
   "outputs": [],
   "source": [
    "if NOTIFY_STATUS: status_notify(\"Task 1 - Prepare Environment has begun! \" + datetime.now().strftime('%a %B %d, %Y %I:%M:%S %p'))"
   ]
  },
  {
   "cell_type": "markdown",
   "metadata": {
    "gradient": {
     "editing": false,
     "id": "8b9a1d5e-92f5-4dca-87ad-05b66f01156c",
     "kernelId": "c95f4d49-5695-4a88-8b5e-da646b437b62"
    },
    "id": "Iud46_Nn3l76"
   },
   "source": [
    "### 1.c) Load dataset"
   ]
  },
  {
   "cell_type": "code",
   "execution_count": 11,
   "metadata": {
    "colab": {
     "base_uri": "https://localhost:8080/"
    },
    "gradient": {
     "editing": false,
     "execution_count": 11,
     "id": "6e4eb814-7778-4606-a5d4-8e4dc029e728",
     "kernelId": "c95f4d49-5695-4a88-8b5e-da646b437b62"
    },
    "id": "zw8vysCp3l76",
    "outputId": "e6848ed3-00b7-43a9-ca6a-2a2fa87b12f5"
   },
   "outputs": [
    {
     "name": "stdout",
     "output_type": "stream",
     "text": [
      "       destination  passanger weather  temperature  time  \\\n",
      "0  No Urgent Place      Alone   Sunny           55   2PM   \n",
      "1  No Urgent Place  Friend(s)   Sunny           80  10AM   \n",
      "2  No Urgent Place  Friend(s)   Sunny           80  10AM   \n",
      "3  No Urgent Place  Friend(s)   Sunny           80   2PM   \n",
      "4  No Urgent Place  Friend(s)   Sunny           80   2PM   \n",
      "\n",
      "                  coupon expiration  gender age      maritalStatus  ...  \\\n",
      "0        Restaurant(<20)         1d  Female  21  Unmarried partner  ...   \n",
      "1           Coffee House         2h  Female  21  Unmarried partner  ...   \n",
      "2  Carry out & Take away         2h  Female  21  Unmarried partner  ...   \n",
      "3           Coffee House         2h  Female  21  Unmarried partner  ...   \n",
      "4           Coffee House         1d  Female  21  Unmarried partner  ...   \n",
      "\n",
      "   CoffeeHouse CarryAway RestaurantLessThan20 Restaurant20To50  \\\n",
      "0        never       NaN                  4~8              1~3   \n",
      "1        never       NaN                  4~8              1~3   \n",
      "2        never       NaN                  4~8              1~3   \n",
      "3        never       NaN                  4~8              1~3   \n",
      "4        never       NaN                  4~8              1~3   \n",
      "\n",
      "  toCoupon_GEQ5min toCoupon_GEQ15min toCoupon_GEQ25min direction_same  \\\n",
      "0                1                 0                 0              0   \n",
      "1                1                 0                 0              0   \n",
      "2                1                 1                 0              0   \n",
      "3                1                 1                 0              0   \n",
      "4                1                 1                 0              0   \n",
      "\n",
      "  direction_opp  Y  \n",
      "0             1  1  \n",
      "1             1  0  \n",
      "2             1  1  \n",
      "3             1  0  \n",
      "4             1  0  \n",
      "\n",
      "[5 rows x 26 columns]\n"
     ]
    }
   ],
   "source": [
    "dataset_path = 'https://dainesanalytics.com/datasets/ucirvine-in-vehicle-coupon-recommendation/in-vehicle-coupon-recommendation.csv'\n",
    "df_dataset_import = pd.read_csv(dataset_path, index_col=False)\n",
    "\n",
    "# Take a peek at the dataframe after import\n",
    "print(df_dataset_import.head())"
   ]
  },
  {
   "cell_type": "code",
   "execution_count": 12,
   "metadata": {
    "colab": {
     "base_uri": "https://localhost:8080/"
    },
    "gradient": {
     "editing": false,
     "execution_count": 12,
     "id": "8f248713-8fbf-411d-bae6-f5d958c73a9b",
     "kernelId": "c95f4d49-5695-4a88-8b5e-da646b437b62"
    },
    "id": "qdseXAzd3l76",
    "outputId": "db825dc1-2efb-4ef5-b616-bcfbea795e98"
   },
   "outputs": [
    {
     "name": "stdout",
     "output_type": "stream",
     "text": [
      "<class 'pandas.core.frame.DataFrame'>\n",
      "RangeIndex: 12684 entries, 0 to 12683\n",
      "Data columns (total 26 columns):\n",
      " #   Column                Non-Null Count  Dtype \n",
      "---  ------                --------------  ----- \n",
      " 0   destination           12684 non-null  object\n",
      " 1   passanger             12684 non-null  object\n",
      " 2   weather               12684 non-null  object\n",
      " 3   temperature           12684 non-null  int64 \n",
      " 4   time                  12684 non-null  object\n",
      " 5   coupon                12684 non-null  object\n",
      " 6   expiration            12684 non-null  object\n",
      " 7   gender                12684 non-null  object\n",
      " 8   age                   12684 non-null  object\n",
      " 9   maritalStatus         12684 non-null  object\n",
      " 10  has_children          12684 non-null  int64 \n",
      " 11  education             12684 non-null  object\n",
      " 12  occupation            12684 non-null  object\n",
      " 13  income                12684 non-null  object\n",
      " 14  car                   108 non-null    object\n",
      " 15  Bar                   12577 non-null  object\n",
      " 16  CoffeeHouse           12467 non-null  object\n",
      " 17  CarryAway             12533 non-null  object\n",
      " 18  RestaurantLessThan20  12554 non-null  object\n",
      " 19  Restaurant20To50      12495 non-null  object\n",
      " 20  toCoupon_GEQ5min      12684 non-null  int64 \n",
      " 21  toCoupon_GEQ15min     12684 non-null  int64 \n",
      " 22  toCoupon_GEQ25min     12684 non-null  int64 \n",
      " 23  direction_same        12684 non-null  int64 \n",
      " 24  direction_opp         12684 non-null  int64 \n",
      " 25  Y                     12684 non-null  int64 \n",
      "dtypes: int64(8), object(18)\n",
      "memory usage: 2.5+ MB\n"
     ]
    }
   ],
   "source": [
    "df_dataset_import.info(verbose=True)"
   ]
  },
  {
   "cell_type": "code",
   "execution_count": 13,
   "metadata": {
    "colab": {
     "base_uri": "https://localhost:8080/"
    },
    "gradient": {
     "editing": false,
     "execution_count": 13,
     "id": "ad18316a-5b24-4147-88bc-160a81356658",
     "kernelId": "c95f4d49-5695-4a88-8b5e-da646b437b62"
    },
    "id": "dut08ci_3l77",
    "outputId": "dfd14ccb-8e2f-4c13-f4a9-cccecb28fa74"
   },
   "outputs": [
    {
     "name": "stdout",
     "output_type": "stream",
     "text": [
      "        temperature  has_children  toCoupon_GEQ5min  toCoupon_GEQ15min  \\\n",
      "count  12684.000000  12684.000000           12684.0       12684.000000   \n",
      "mean      63.301798      0.414144               1.0           0.561495   \n",
      "std       19.154486      0.492593               0.0           0.496224   \n",
      "min       30.000000      0.000000               1.0           0.000000   \n",
      "25%       55.000000      0.000000               1.0           0.000000   \n",
      "50%       80.000000      0.000000               1.0           1.000000   \n",
      "75%       80.000000      1.000000               1.0           1.000000   \n",
      "max       80.000000      1.000000               1.0           1.000000   \n",
      "\n",
      "       toCoupon_GEQ25min  direction_same  direction_opp             Y  \n",
      "count       12684.000000    12684.000000   12684.000000  12684.000000  \n",
      "mean            0.119126        0.214759       0.785241      0.568433  \n",
      "std             0.323950        0.410671       0.410671      0.495314  \n",
      "min             0.000000        0.000000       0.000000      0.000000  \n",
      "25%             0.000000        0.000000       1.000000      0.000000  \n",
      "50%             0.000000        0.000000       1.000000      1.000000  \n",
      "75%             0.000000        0.000000       1.000000      1.000000  \n",
      "max             1.000000        1.000000       1.000000      1.000000  \n"
     ]
    }
   ],
   "source": [
    "print(df_dataset_import.describe())"
   ]
  },
  {
   "cell_type": "code",
   "execution_count": 14,
   "metadata": {
    "colab": {
     "base_uri": "https://localhost:8080/"
    },
    "gradient": {
     "editing": false,
     "execution_count": 14,
     "id": "c2b0711f-a30b-466c-94dc-098453d908c5",
     "kernelId": "c95f4d49-5695-4a88-8b5e-da646b437b62"
    },
    "id": "6j5yMdxL3l77",
    "outputId": "8ec5f87c-45c0-4a35-dd8d-75d8c0d476cb"
   },
   "outputs": [
    {
     "name": "stdout",
     "output_type": "stream",
     "text": [
      "destination                 0\n",
      "passanger                   0\n",
      "weather                     0\n",
      "temperature                 0\n",
      "time                        0\n",
      "coupon                      0\n",
      "expiration                  0\n",
      "gender                      0\n",
      "age                         0\n",
      "maritalStatus               0\n",
      "has_children                0\n",
      "education                   0\n",
      "occupation                  0\n",
      "income                      0\n",
      "car                     12576\n",
      "Bar                       107\n",
      "CoffeeHouse               217\n",
      "CarryAway                 151\n",
      "RestaurantLessThan20      130\n",
      "Restaurant20To50          189\n",
      "toCoupon_GEQ5min            0\n",
      "toCoupon_GEQ15min           0\n",
      "toCoupon_GEQ25min           0\n",
      "direction_same              0\n",
      "direction_opp               0\n",
      "Y                           0\n",
      "dtype: int64\n",
      "Total number of NaN in the dataframe:  13370\n"
     ]
    }
   ],
   "source": [
    "print(df_dataset_import.isnull().sum())\n",
    "print('Total number of NaN in the dataframe: ', df_dataset_import.isnull().sum().sum())"
   ]
  },
  {
   "cell_type": "markdown",
   "metadata": {
    "gradient": {
     "editing": false,
     "id": "39f43861-db0c-411f-9aa0-8815fb7c3249",
     "kernelId": "c95f4d49-5695-4a88-8b5e-da646b437b62"
    },
    "id": "Hxxn8gnj3l78"
   },
   "source": [
    "### 1.d) Data Cleaning"
   ]
  },
  {
   "cell_type": "code",
   "execution_count": 15,
   "metadata": {
    "colab": {
     "base_uri": "https://localhost:8080/"
    },
    "gradient": {
     "editing": true,
     "execution_count": 15,
     "id": "4115242f-72c1-4d00-87c7-90799d4a3b53",
     "kernelId": "c95f4d49-5695-4a88-8b5e-da646b437b62"
    },
    "id": "osjQPBQY3l78",
    "outputId": "1d6e3d35-d354-4919-bc71-0d37100a17ea"
   },
   "outputs": [
    {
     "name": "stdout",
     "output_type": "stream",
     "text": [
      "       destination  passanger weather  temperature  time  \\\n",
      "0  No Urgent Place      Alone   Sunny           55   2PM   \n",
      "1  No Urgent Place  Friend(s)   Sunny           80  10AM   \n",
      "2  No Urgent Place  Friend(s)   Sunny           80  10AM   \n",
      "3  No Urgent Place  Friend(s)   Sunny           80   2PM   \n",
      "4  No Urgent Place  Friend(s)   Sunny           80   2PM   \n",
      "\n",
      "                  coupon expiration  gender age      maritalStatus  ...  \\\n",
      "0        Restaurant(<20)         1d  Female  21  Unmarried partner  ...   \n",
      "1           Coffee House         2h  Female  21  Unmarried partner  ...   \n",
      "2  Carry out & Take away         2h  Female  21  Unmarried partner  ...   \n",
      "3           Coffee House         2h  Female  21  Unmarried partner  ...   \n",
      "4           Coffee House         1d  Female  21  Unmarried partner  ...   \n",
      "\n",
      "            income    Bar CoffeeHouse CarryAway RestaurantLessThan20  \\\n",
      "0  $37500 - $49999  never       never       NaN                  4~8   \n",
      "1  $37500 - $49999  never       never       NaN                  4~8   \n",
      "2  $37500 - $49999  never       never       NaN                  4~8   \n",
      "3  $37500 - $49999  never       never       NaN                  4~8   \n",
      "4  $37500 - $49999  never       never       NaN                  4~8   \n",
      "\n",
      "  Restaurant20To50 toCoupon_GEQ15min toCoupon_GEQ25min direction_same  target  \n",
      "0              1~3                 0                 0              0       1  \n",
      "1              1~3                 0                 0              0       0  \n",
      "2              1~3                 1                 0              0       1  \n",
      "3              1~3                 1                 0              0       0  \n",
      "4              1~3                 1                 0              0       0  \n",
      "\n",
      "[5 rows x 23 columns]\n"
     ]
    }
   ],
   "source": [
    "# Dropping features that have too many NA's or have no variation\n",
    "df_dataset_import.drop(columns=['car','toCoupon_GEQ5min','direction_opp'], inplace=True)\n",
    "\n",
    "# Standardize the class column to the name of target\n",
    "df_dataset_import = df_dataset_import.rename(columns={'Y':'target'})\n",
    "\n",
    "# Take a peek at the dataframe after cleaning\n",
    "print(df_dataset_import.head())"
   ]
  },
  {
   "cell_type": "code",
   "execution_count": 16,
   "metadata": {
    "colab": {
     "base_uri": "https://localhost:8080/"
    },
    "gradient": {
     "editing": false,
     "execution_count": 16,
     "id": "2c568878-28a5-4b6a-aa1f-5f9d180bc8f6",
     "kernelId": "c95f4d49-5695-4a88-8b5e-da646b437b62"
    },
    "id": "t36Yn9gl3l78",
    "outputId": "f5a9228a-c5af-4397-a349-b253357be01b"
   },
   "outputs": [
    {
     "name": "stdout",
     "output_type": "stream",
     "text": [
      "<class 'pandas.core.frame.DataFrame'>\n",
      "RangeIndex: 12684 entries, 0 to 12683\n",
      "Data columns (total 23 columns):\n",
      " #   Column                Non-Null Count  Dtype \n",
      "---  ------                --------------  ----- \n",
      " 0   destination           12684 non-null  object\n",
      " 1   passanger             12684 non-null  object\n",
      " 2   weather               12684 non-null  object\n",
      " 3   temperature           12684 non-null  int64 \n",
      " 4   time                  12684 non-null  object\n",
      " 5   coupon                12684 non-null  object\n",
      " 6   expiration            12684 non-null  object\n",
      " 7   gender                12684 non-null  object\n",
      " 8   age                   12684 non-null  object\n",
      " 9   maritalStatus         12684 non-null  object\n",
      " 10  has_children          12684 non-null  int64 \n",
      " 11  education             12684 non-null  object\n",
      " 12  occupation            12684 non-null  object\n",
      " 13  income                12684 non-null  object\n",
      " 14  Bar                   12577 non-null  object\n",
      " 15  CoffeeHouse           12467 non-null  object\n",
      " 16  CarryAway             12533 non-null  object\n",
      " 17  RestaurantLessThan20  12554 non-null  object\n",
      " 18  Restaurant20To50      12495 non-null  object\n",
      " 19  toCoupon_GEQ15min     12684 non-null  int64 \n",
      " 20  toCoupon_GEQ25min     12684 non-null  int64 \n",
      " 21  direction_same        12684 non-null  int64 \n",
      " 22  target                12684 non-null  int64 \n",
      "dtypes: int64(6), object(17)\n",
      "memory usage: 2.2+ MB\n"
     ]
    }
   ],
   "source": [
    "df_dataset_import.info(verbose=True)"
   ]
  },
  {
   "cell_type": "code",
   "execution_count": 17,
   "metadata": {
    "colab": {
     "base_uri": "https://localhost:8080/"
    },
    "gradient": {
     "editing": false,
     "execution_count": 17,
     "id": "ebd26f3b-3e6e-4210-bed9-54e16af19daa",
     "kernelId": "c95f4d49-5695-4a88-8b5e-da646b437b62"
    },
    "id": "3FFwZYXG3l79",
    "outputId": "8b13e69b-45f0-4e13-eec1-1a58cc518773"
   },
   "outputs": [
    {
     "name": "stdout",
     "output_type": "stream",
     "text": [
      "        temperature  has_children  toCoupon_GEQ15min  toCoupon_GEQ25min  \\\n",
      "count  12684.000000  12684.000000       12684.000000       12684.000000   \n",
      "mean      63.301798      0.414144           0.561495           0.119126   \n",
      "std       19.154486      0.492593           0.496224           0.323950   \n",
      "min       30.000000      0.000000           0.000000           0.000000   \n",
      "25%       55.000000      0.000000           0.000000           0.000000   \n",
      "50%       80.000000      0.000000           1.000000           0.000000   \n",
      "75%       80.000000      1.000000           1.000000           0.000000   \n",
      "max       80.000000      1.000000           1.000000           1.000000   \n",
      "\n",
      "       direction_same        target  \n",
      "count    12684.000000  12684.000000  \n",
      "mean         0.214759      0.568433  \n",
      "std          0.410671      0.495314  \n",
      "min          0.000000      0.000000  \n",
      "25%          0.000000      0.000000  \n",
      "50%          0.000000      1.000000  \n",
      "75%          0.000000      1.000000  \n",
      "max          1.000000      1.000000  \n"
     ]
    }
   ],
   "source": [
    "print(df_dataset_import.describe())"
   ]
  },
  {
   "cell_type": "code",
   "execution_count": 18,
   "metadata": {
    "colab": {
     "base_uri": "https://localhost:8080/"
    },
    "gradient": {
     "editing": false,
     "execution_count": 18,
     "id": "1c8419bd-de69-4bbc-a9a4-ccc3f749a95d",
     "kernelId": "c95f4d49-5695-4a88-8b5e-da646b437b62"
    },
    "id": "1QMi80kq3l79",
    "outputId": "b04b295c-449a-4286-b9f9-c6d351e33a04"
   },
   "outputs": [
    {
     "name": "stdout",
     "output_type": "stream",
     "text": [
      "destination               0\n",
      "passanger                 0\n",
      "weather                   0\n",
      "temperature               0\n",
      "time                      0\n",
      "coupon                    0\n",
      "expiration                0\n",
      "gender                    0\n",
      "age                       0\n",
      "maritalStatus             0\n",
      "has_children              0\n",
      "education                 0\n",
      "occupation                0\n",
      "income                    0\n",
      "Bar                     107\n",
      "CoffeeHouse             217\n",
      "CarryAway               151\n",
      "RestaurantLessThan20    130\n",
      "Restaurant20To50        189\n",
      "toCoupon_GEQ15min         0\n",
      "toCoupon_GEQ25min         0\n",
      "direction_same            0\n",
      "target                    0\n",
      "dtype: int64\n",
      "Total number of NaN in the dataframe:  794\n"
     ]
    }
   ],
   "source": [
    "print(df_dataset_import.isnull().sum())\n",
    "print('Total number of NaN in the dataframe: ', df_dataset_import.isnull().sum().sum())"
   ]
  },
  {
   "cell_type": "markdown",
   "metadata": {
    "gradient": {
     "editing": false,
     "id": "f9f72162-db71-4e5e-909d-bd3ce1919346",
     "kernelId": "c95f4d49-5695-4a88-8b5e-da646b437b62"
    },
    "id": "Uuh6PSn53l79"
   },
   "source": [
    "### 1.e) Splitting Data into Sets"
   ]
  },
  {
   "cell_type": "code",
   "execution_count": 19,
   "metadata": {
    "colab": {
     "base_uri": "https://localhost:8080/"
    },
    "gradient": {
     "editing": false,
     "execution_count": 19,
     "id": "f113b1ee-f1ca-44b1-a47e-5c4492360f1a",
     "kernelId": "c95f4d49-5695-4a88-8b5e-da646b437b62"
    },
    "id": "Ac66Lgmn3l79",
    "outputId": "056fa9ea-413b-446b-cfeb-473495fcc711"
   },
   "outputs": [
    {
     "name": "stdout",
     "output_type": "stream",
     "text": [
      "df_dataset_import.shape: (12684, 23) df_features_import.shape: (12684, 22) df_target_import.shape: (12684,)\n"
     ]
    }
   ],
   "source": [
    "# Use variable total_column_count to hold the number of columns in the dataframe\n",
    "total_column_count = len(df_dataset_import.columns)\n",
    "\n",
    "# Set up variable total_feature_count for the total number of attribute columns\n",
    "total_feature_count = total_column_count-1\n",
    "\n",
    "# We create attribute-only and target-only datasets (df_features_train and df_target_train)\n",
    "df_target_import = df_dataset_import['target']\n",
    "df_features_import = df_dataset_import.drop(['target'], axis=1)\n",
    "\n",
    "print(\"df_dataset_import.shape: {} df_features_import.shape: {} df_target_import.shape: {}\".format(df_dataset_import.shape, df_features_import.shape, df_target_import.shape))"
   ]
  },
  {
   "cell_type": "code",
   "execution_count": 20,
   "metadata": {},
   "outputs": [
    {
     "name": "stdout",
     "output_type": "stream",
     "text": [
      "df_features_train.shape: (10147, 22) df_target_train.shape: (10147,)\n",
      "df_features_test.shape: (2537, 22) df_target_test.shape: (2537,)\n"
     ]
    }
   ],
   "source": [
    "# Split the data further into training and test datasets\n",
    "df_features_train, df_features_test, df_target_train, df_target_test = train_test_split(df_features_import, df_target_import,\n",
    "                                                                                        test_size=TEST_SET_RATIO, random_state=RNG_SEED)\n",
    "print(\"df_features_train.shape: {} df_target_train.shape: {}\".format(df_features_train.shape, df_target_train.shape))\n",
    "print(\"df_features_test.shape: {} df_target_test.shape: {}\".format(df_features_test.shape, df_target_test.shape))"
   ]
  },
  {
   "cell_type": "markdown",
   "metadata": {
    "gradient": {
     "editing": false,
     "id": "f1e373c2-8401-4478-a0f7-b56a92048d2b",
     "kernelId": "c95f4d49-5695-4a88-8b5e-da646b437b62"
    },
    "id": "K_ha_1jD3l7-"
   },
   "source": [
    "### 1.f) Set up the parameters for data visualization"
   ]
  },
  {
   "cell_type": "code",
   "execution_count": 21,
   "metadata": {
    "gradient": {
     "editing": false,
     "execution_count": 20,
     "id": "7ae1c7f3-813f-4535-9fa9-343f80d9dc07",
     "kernelId": "c95f4d49-5695-4a88-8b5e-da646b437b62"
    },
    "id": "jZU3DZ3D3l7-"
   },
   "outputs": [],
   "source": [
    "# Set up the number of row and columns for visualization display. display_rows * display_columns should be >= total_feature_count\n",
    "display_columns = 4\n",
    "if total_feature_count % display_columns == 0 :\n",
    "    display_rows = total_feature_count // display_columns\n",
    "else :\n",
    "    display_rows = (total_feature_count // display_columns) + 1\n",
    "\n",
    "# Set figure width to display the data visualization plots\n",
    "fig_size = plt.rcParams[\"figure.figsize\"]\n",
    "fig_size[0] = display_columns * 4\n",
    "fig_size[1] = display_rows * 4\n",
    "plt.rcParams[\"figure.figsize\"] = fig_size"
   ]
  },
  {
   "cell_type": "code",
   "execution_count": 22,
   "metadata": {
    "gradient": {
     "editing": false,
     "execution_count": 21,
     "id": "1b592dd6-4998-4df7-95a4-92d5d701ec51",
     "kernelId": "c95f4d49-5695-4a88-8b5e-da646b437b62"
    },
    "id": "ACP83VhH3l7-"
   },
   "outputs": [],
   "source": [
    "if NOTIFY_STATUS: status_notify(\"Task 1 - Prepare Environment completed! \"+datetime.now().strftime('%a %B %d, %Y %I:%M:%S %p'))"
   ]
  },
  {
   "cell_type": "markdown",
   "metadata": {
    "id": "kZevOIQL3l7_"
   },
   "source": [
    "## Task 2 - Summarize and Visualize Data"
   ]
  },
  {
   "cell_type": "code",
   "execution_count": 23,
   "metadata": {
    "gradient": {
     "execution_count": 22,
     "id": "1f244f88-e3f2-49e7-8957-446dfe656ea0",
     "kernelId": "c95f4d49-5695-4a88-8b5e-da646b437b62"
    },
    "id": "YLt0NpWy3l7_"
   },
   "outputs": [],
   "source": [
    "if NOTIFY_STATUS: status_notify(\"Task 2 - Summarize and Visualize Data has begun! \"+datetime.now().strftime('%a %B %d, %Y %I:%M:%S %p'))"
   ]
  },
  {
   "cell_type": "code",
   "execution_count": 24,
   "metadata": {
    "colab": {
     "base_uri": "https://localhost:8080/",
     "height": 1000
    },
    "gradient": {
     "execution_count": 23,
     "id": "d865349e-cf8c-48b3-837d-078621e486ba",
     "kernelId": "c95f4d49-5695-4a88-8b5e-da646b437b62"
    },
    "id": "FVURY0Ba3l7_",
    "outputId": "6ac1db5e-9bcd-4086-d51c-f34364a6a7d9"
   },
   "outputs": [
    {
     "data": {
      "image/png": "[encoded data removed]",
      "text/plain": [
       "<Figure size 1152x1728 with 24 Axes>"
      ]
     },
     "metadata": {
      "needs_background": "light"
     },
     "output_type": "display_data"
    }
   ],
   "source": [
    "# Histograms for each attribute\n",
    "df_features_train.plot(kind='hist', subplots=True, layout=(display_rows, display_columns))\n",
    "plt.show()"
   ]
  },
  {
   "cell_type": "code",
   "execution_count": 25,
   "metadata": {
    "colab": {
     "base_uri": "https://localhost:8080/",
     "height": 1000
    },
    "gradient": {
     "execution_count": 24,
     "id": "8a2b78bc-8da6-4dc9-89ad-dd2167262ad8",
     "kernelId": "c95f4d49-5695-4a88-8b5e-da646b437b62"
    },
    "id": "m92aROlh3l8A",
    "outputId": "cf2d1c6a-a0aa-4eba-b70f-36fcc8d816e2"
   },
   "outputs": [
    {
     "data": {
      "image/png": "[encoded data removed]",
      "text/plain": [
       "<Figure size 1152x1728 with 24 Axes>"
      ]
     },
     "metadata": {
      "needs_background": "light"
     },
     "output_type": "display_data"
    }
   ],
   "source": [
    "# Box and Whisker plot for each attribute\n",
    "df_features_train.plot(kind='box', subplots=True, layout=(display_rows, display_columns))\n",
    "plt.show()"
   ]
  },
  {
   "cell_type": "code",
   "execution_count": 26,
   "metadata": {
    "colab": {
     "base_uri": "https://localhost:8080/",
     "height": 1000
    },
    "gradient": {
     "execution_count": 25,
     "id": "2a9c3c0c-40f4-4645-9679-c9d2038c0ae5",
     "kernelId": "c95f4d49-5695-4a88-8b5e-da646b437b62"
    },
    "id": "3r8q4sgU3l8A",
    "outputId": "b7ef60a0-fe40-4c2c-d87b-49fe662dd45c"
   },
   "outputs": [
    {
     "data": {
      "image/png": "[encoded data removed]",
      "text/plain": [
       "<Figure size 864x864 with 2 Axes>"
      ]
     },
     "metadata": {
      "needs_background": "light"
     },
     "output_type": "display_data"
    }
   ],
   "source": [
    "# Correlation matrix\n",
    "fig = plt.figure(figsize=(12, 12))\n",
    "correlations = df_features_train.corr(method='pearson')\n",
    "sns.heatmap(correlations, annot=True, cmap=plt.cm.PuBu)\n",
    "plt.show()"
   ]
  },
  {
   "cell_type": "code",
   "execution_count": 27,
   "metadata": {
    "gradient": {
     "execution_count": 26,
     "id": "24d077e4-3e5e-44b2-b26b-70777bc09f1f",
     "kernelId": "c95f4d49-5695-4a88-8b5e-da646b437b62"
    },
    "id": "47zwOFBY3l8A"
   },
   "outputs": [],
   "source": [
    "if NOTIFY_STATUS: status_notify(\"Task 2 - Summarize and Visualize Data completed! \"+datetime.now().strftime('%a %B %d, %Y %I:%M:%S %p'))"
   ]
  },
  {
   "cell_type": "markdown",
   "metadata": {
    "gradient": {
     "editing": false,
     "id": "6e90d0fd-05bd-4d36-af19-be9b3a15599c",
     "kernelId": "c95f4d49-5695-4a88-8b5e-da646b437b62"
    },
    "id": "iMRuoNay3l8B"
   },
   "source": [
    "## Task 3 - Pre-process Data"
   ]
  },
  {
   "cell_type": "code",
   "execution_count": 28,
   "metadata": {
    "gradient": {
     "editing": false,
     "execution_count": 27,
     "id": "c8c39471-b65b-4275-a913-c956d2f0307e",
     "kernelId": "c95f4d49-5695-4a88-8b5e-da646b437b62"
    },
    "id": "0vQJ1B6d3l8B"
   },
   "outputs": [],
   "source": [
    "if NOTIFY_STATUS: status_notify(\"Task 3 - Pre-process Data has begun! \"+datetime.now().strftime('%a %B %d, %Y %I:%M:%S %p'))"
   ]
  },
  {
   "cell_type": "markdown",
   "metadata": {
    "gradient": {
     "editing": false,
     "id": "09592ad3-28fe-4686-af03-f23026253c6a",
     "kernelId": "c95f4d49-5695-4a88-8b5e-da646b437b62"
    },
    "id": "SJKVMdU-3l8B"
   },
   "source": [
    "### 3.a) Feature Scaling and Data Pre-Processing"
   ]
  },
  {
   "cell_type": "code",
   "execution_count": 29,
   "metadata": {
    "colab": {
     "base_uri": "https://localhost:8080/"
    },
    "gradient": {
     "editing": false,
     "execution_count": 29,
     "id": "b3221641-d583-41cb-9c02-6dd6340c59de",
     "kernelId": "c95f4d49-5695-4a88-8b5e-da646b437b62"
    },
    "id": "OdJRYIRo3l8B",
    "outputId": "00f60126-4656-4e2e-8ece-e74f8cfe047f"
   },
   "outputs": [
    {
     "name": "stdout",
     "output_type": "stream",
     "text": [
      "Number of numerical columns: 5\n",
      "Number of categorical columns: 17\n",
      "Total number of columns in the feature dataframe: 22\n"
     ]
    }
   ],
   "source": [
    "# Compose pipeline for the numerical and categorical features (Block #1 of 2)\n",
    "numeric_columns = df_features_train.select_dtypes(include=['int64','float64']).columns\n",
    "numeric_transformer = Pipeline(steps=[\n",
    "    ('imputer', impute.SimpleImputer(strategy=\"constant\", fill_value=0)),\n",
    "    # ('scaler', preprocessing.MinMaxScaler())\n",
    "])\n",
    "categorical_columns = df_features_train.select_dtypes(include=['object','bool','category']).columns\n",
    "categorical_transformer = Pipeline(steps=[\n",
    "    ('imputer', impute.SimpleImputer(strategy='constant', fill_value='UKNOWN')),\n",
    "    ('onehot', preprocessing.OneHotEncoder(sparse=False, handle_unknown='ignore'))\n",
    "])\n",
    "\n",
    "print(\"Number of numerical columns:\", len(numeric_columns))\n",
    "print(\"Number of categorical columns:\", len(categorical_columns))\n",
    "print(\"Total number of columns in the feature dataframe:\", df_features_train.shape[1])"
   ]
  },
  {
   "cell_type": "code",
   "execution_count": 30,
   "metadata": {
    "colab": {
     "base_uri": "https://localhost:8080/"
    },
    "gradient": {
     "editing": false,
     "execution_count": 30,
     "id": "ca964f4c-b4db-4720-9b0e-9a1d7fb40886",
     "kernelId": "c95f4d49-5695-4a88-8b5e-da646b437b62"
    },
    "id": "MPyFhjc43l8C",
    "outputId": "ad5c395c-d815-4cee-d2e0-6d54f02a3786"
   },
   "outputs": [
    {
     "name": "stdout",
     "output_type": "stream",
     "text": [
      "Transformed features from df_features_train.shape: (10147, 22) to array_features_train.shape: (10147, 112)\n"
     ]
    }
   ],
   "source": [
    "# Compose pipeline for the numerical and categorical features (Block #2 of 2)\n",
    "preprocessor = compose.ColumnTransformer(transformers=[\n",
    "    ('num', numeric_transformer, numeric_columns),\n",
    "    ('cat', categorical_transformer, categorical_columns)\n",
    "])\n",
    "\n",
    "# Display the shapes of the training dataset for final inspection\n",
    "array_features_train = preprocessor.fit_transform(df_features_train)\n",
    "print(\"Transformed features from df_features_train.shape: {} to array_features_train.shape: {}\".format(df_features_train.shape, array_features_train.shape))"
   ]
  },
  {
   "cell_type": "markdown",
   "metadata": {
    "gradient": {
     "editing": false,
     "id": "55d8435c-2f8c-46f8-b993-1c052239ac8d",
     "kernelId": "c95f4d49-5695-4a88-8b5e-da646b437b62"
    },
    "id": "uj81IbIC3l8C"
   },
   "source": [
    "### 3.b) Training Data Balancing"
   ]
  },
  {
   "cell_type": "code",
   "execution_count": 31,
   "metadata": {
    "gradient": {
     "editing": false,
     "execution_count": 31,
     "id": "aafdd72e-2228-419f-8248-0cd1e85d9596",
     "kernelId": "c95f4d49-5695-4a88-8b5e-da646b437b62"
    },
    "id": "Ke6jtd9V3l8C"
   },
   "outputs": [],
   "source": [
    "# Not applicable for this iteration of the project"
   ]
  },
  {
   "cell_type": "markdown",
   "metadata": {
    "gradient": {
     "editing": false,
     "id": "0dcb1481-bdab-49e9-a718-6099982b80ae",
     "kernelId": "c95f4d49-5695-4a88-8b5e-da646b437b62"
    },
    "id": "fR-zmIHD3l8C"
   },
   "source": [
    "### 3.c) Feature Selection"
   ]
  },
  {
   "cell_type": "code",
   "execution_count": 32,
   "metadata": {
    "gradient": {
     "editing": false,
     "execution_count": 32,
     "id": "2bb8b3a6-996b-4a2c-8df2-671a279d74a3",
     "kernelId": "c95f4d49-5695-4a88-8b5e-da646b437b62"
    },
    "id": "GTX0mnVe3l8D"
   },
   "outputs": [],
   "source": [
    "# Not applicable for this iteration of the project"
   ]
  },
  {
   "cell_type": "markdown",
   "metadata": {
    "gradient": {
     "editing": false,
     "id": "5a4a6c9a-ada2-4b42-9ce7-8910bad4af9f",
     "kernelId": "c95f4d49-5695-4a88-8b5e-da646b437b62"
    },
    "id": "JGAvblp03l8D"
   },
   "source": [
    "### 3.d) Display the Final Datasets for Model-Building"
   ]
  },
  {
   "cell_type": "code",
   "execution_count": 33,
   "metadata": {
    "colab": {
     "base_uri": "https://localhost:8080/"
    },
    "gradient": {
     "editing": true,
     "execution_count": 33,
     "id": "ae978889-010c-4de9-abea-b1eccb09d3f3",
     "kernelId": "c95f4d49-5695-4a88-8b5e-da646b437b62"
    },
    "id": "EourCr333l8D",
    "outputId": "558927fd-0fcb-4ecb-9da5-ec0db56e6ce7"
   },
   "outputs": [
    {
     "name": "stdout",
     "output_type": "stream",
     "text": [
      "array_features_train.shape: (10147, 112) array_target_train.shape: (10147,)\n"
     ]
    }
   ],
   "source": [
    "# Finalize the training and validation datasets for the modeling activities\n",
    "# array_features_train = df_features_train.to_numpy()\n",
    "array_target_train = df_target_train.ravel()\n",
    "print(\"array_features_train.shape: {} array_target_train.shape: {}\".format(array_features_train.shape, array_target_train.shape))"
   ]
  },
  {
   "cell_type": "code",
   "execution_count": 34,
   "metadata": {
    "gradient": {
     "editing": false,
     "execution_count": 34,
     "id": "9c4f046e-5b1b-46cf-b4e5-abecce7085ba",
     "kernelId": "c95f4d49-5695-4a88-8b5e-da646b437b62"
    },
    "id": "U_DPVC0t3l8D"
   },
   "outputs": [],
   "source": [
    "if NOTIFY_STATUS: status_notify(\"Task 3 - Pre-process Data completed! \"+datetime.now().strftime('%a %B %d, %Y %I:%M:%S %p'))"
   ]
  },
  {
   "cell_type": "markdown",
   "metadata": {
    "gradient": {
     "editing": false,
     "id": "c38510cc-319e-40af-82c3-2b16e1bdf71c",
     "kernelId": "c95f4d49-5695-4a88-8b5e-da646b437b62"
    },
    "id": "l4q-C4XU3l8D"
   },
   "source": [
    "## Task 4 - Train and Tune Models"
   ]
  },
  {
   "cell_type": "code",
   "execution_count": 35,
   "metadata": {
    "gradient": {
     "editing": false,
     "execution_count": 35,
     "id": "8b1a9312-bfed-41a7-a3be-dc6772a6c602",
     "kernelId": "c95f4d49-5695-4a88-8b5e-da646b437b62"
    },
    "id": "y_zb8Pq13l8D"
   },
   "outputs": [],
   "source": [
    "if NOTIFY_STATUS: status_notify(\"Task 4 - Train and Tune Models has begun! \"+datetime.now().strftime('%a %B %d, %Y %I:%M:%S %p'))"
   ]
  },
  {
   "cell_type": "code",
   "execution_count": 36,
   "metadata": {
    "gradient": {
     "editing": false,
     "execution_count": 36,
     "id": "a67c2214-4ef3-48af-82c1-98e36cb880a4",
     "kernelId": "c95f4d49-5695-4a88-8b5e-da646b437b62"
    },
    "id": "Bbls2rTF3l8E"
   },
   "outputs": [],
   "source": [
    "# Define the baseline model for benchmarking\n",
    "def create_nn_model(input_param=array_features_train.shape[1], layer1_nodes=512, layer2_nodes=512, layer3_nodes=512, layer4_nodes=512, layer5_nodes=512,\n",
    "                    layer1_dropout=0.25, layer2_dropout=0.25, layer3_dropout=0.25, layer4_dropout=0.25, layer5_dropout=0.5,\n",
    "                    init_param=DEFAULT_INITIALIZER, classifier_activation=CLASSIFIER_ACTIVATION,\n",
    "                    loss_param=DEFAULT_LOSS, opt_param=DEFAULT_OPTIMIZER, metrics_param=DEFAULT_METRICS):\n",
    "    nn_model = keras.Sequential([\n",
    "        keras.layers.Dense(layer1_nodes, input_shape=(input_param,), activation='relu', kernel_initializer=init_param),\n",
    "        keras.layers.Dropout(layer1_dropout),\n",
    "        keras.layers.Dense(layer2_nodes, activation='relu', kernel_initializer=init_param),\n",
    "        keras.layers.Dropout(layer2_dropout),\n",
    "        keras.layers.Dense(layer3_nodes, activation='relu', kernel_initializer=init_param),\n",
    "        keras.layers.Dropout(layer3_dropout),\n",
    "        keras.layers.Dense(layer4_nodes, activation='relu', kernel_initializer=init_param),\n",
    "        keras.layers.Dropout(layer4_dropout),\n",
    "        keras.layers.Dense(layer5_nodes, activation='relu', kernel_initializer=init_param),\n",
    "        keras.layers.Dropout(layer5_dropout),\n",
    "        keras.layers.Dense(1, activation=classifier_activation)\n",
    "    ])\n",
    "    nn_model.compile(loss=loss_param, optimizer=opt_param, metrics=metrics_param)\n",
    "    return nn_model"
   ]
  },
  {
   "cell_type": "code",
   "execution_count": 37,
   "metadata": {
    "colab": {
     "base_uri": "https://localhost:8080/"
    },
    "gradient": {
     "editing": false,
     "execution_count": 37,
     "id": "35875bad-8bc1-4e54-afc4-04083434b36c",
     "kernelId": "c95f4d49-5695-4a88-8b5e-da646b437b62"
    },
    "id": "kbsIVyt0_7UV",
    "outputId": "b0018194-b5b8-44d4-8ca9-a67d292f418e"
   },
   "outputs": [],
   "source": [
    "# start_time_module = datetime.now()\n",
    "# reset_random()\n",
    "# baseline_model = create_nn_model()\n",
    "# baseline_model.fit(array_features_train, array_target_train, epochs=MAX_EPOCHS, batch_size=BATCH_SIZE, verbose=1)\n",
    "# print('Total time for model fitting and cross validating:', (datetime.now() - start_time_module))"
   ]
  },
  {
   "cell_type": "code",
   "execution_count": 38,
   "metadata": {
    "gradient": {
     "editing": false,
     "execution_count": 38,
     "id": "0747c0e5-8957-42f7-abe2-b3611f130bae",
     "kernelId": "c95f4d49-5695-4a88-8b5e-da646b437b62"
    },
    "id": "fxAHVg7Q3l8G"
   },
   "outputs": [
    {
     "name": "stderr",
     "output_type": "stream",
     "text": [
      "2021-12-13 22:33:48.270294: W tensorflow/stream_executor/platform/default/dso_loader.cc:64] Could not load dynamic library 'libcuda.so.1'; dlerror: libcuda.so.1: cannot open shared object file: No such file or directory\n",
      "2021-12-13 22:33:48.270370: W tensorflow/stream_executor/cuda/cuda_driver.cc:269] failed call to cuInit: UNKNOWN ERROR (303)\n",
      "2021-12-13 22:33:48.270420: I tensorflow/stream_executor/cuda/cuda_diagnostics.cc:156] kernel driver does not appear to be running on this host (91952dc61d28): /proc/driver/nvidia/version does not exist\n"
     ]
    },
    {
     "name": "stdout",
     "output_type": "stream",
     "text": [
      "Score from iteration 1 >>> 0.7414\n",
      "Score from iteration 2 >>> 0.7108\n",
      "Score from iteration 3 >>> 0.7368\n",
      "Score from iteration 4 >>> 0.7018\n",
      "Score from iteration 5 >>> 0.7146\n",
      "Average model scorer from all iterations: 0.7211 (0.0153)\n",
      "Total time for model fitting and cross validating: 0:11:37.053811\n"
     ]
    }
   ],
   "source": [
    "# Initialize the default model and get a baseline result\n",
    "start_time_module = datetime.now()\n",
    "results = list()\n",
    "iteration = 0\n",
    "cv = RepeatedKFold(n_splits=N_FOLDS, n_repeats=N_ITERATIONS, random_state=RNG_SEED)\n",
    "for train_ix, val_ix in cv.split(array_features_train):\n",
    "    feature_train, feature_validation = array_features_train[train_ix], array_features_train[val_ix]\n",
    "    target_train, target_validation = array_target_train[train_ix], array_target_train[val_ix]\n",
    "    reset_random()\n",
    "    baseline_model = create_nn_model()\n",
    "    baseline_model.fit(feature_train, target_train, epochs=MAX_EPOCHS, batch_size=BATCH_SIZE, verbose=0)\n",
    "    model_metric = baseline_model.evaluate(feature_validation, target_validation, verbose=0)[1]\n",
    "    iteration = iteration + 1\n",
    "    print('Score from iteration %d >>> %.4f' % (iteration, model_metric))\n",
    "    results.append(model_metric)\n",
    "validation_score = np.mean(results)\n",
    "validation_variance = np.std(results)\n",
    "print('Average model scorer from all iterations: %.4f (%.4f)' % (validation_score, validation_variance))\n",
    "print('Total time for model fitting and cross validating:', (datetime.now() - start_time_module))"
   ]
  },
  {
   "cell_type": "code",
   "execution_count": 39,
   "metadata": {
    "gradient": {
     "editing": false,
     "execution_count": 39,
     "id": "dd23b41a-6c17-4ea9-aff7-11bd2490514b",
     "kernelId": "c95f4d49-5695-4a88-8b5e-da646b437b62"
    },
    "id": "2PxkOhNE3l8F"
   },
   "outputs": [],
   "source": [
    "if NOTIFY_STATUS: status_notify(\"Task 4 - Train and Tune Models completed! \"+datetime.now().strftime('%a %B %d, %Y %I:%M:%S %p'))"
   ]
  },
  {
   "cell_type": "markdown",
   "metadata": {
    "gradient": {
     "editing": false,
     "id": "d3a43604-a128-4809-a2c4-bfda46e4d2c6",
     "kernelId": "c95f4d49-5695-4a88-8b5e-da646b437b62"
    },
    "id": "rIRMoNm63l8H"
   },
   "source": [
    "## Task 5 - Finalize Model and Make Predictions"
   ]
  },
  {
   "cell_type": "code",
   "execution_count": 40,
   "metadata": {
    "gradient": {
     "editing": false,
     "execution_count": 40,
     "id": "289bfd26-61cd-4114-997b-49b8d531a01b",
     "kernelId": "c95f4d49-5695-4a88-8b5e-da646b437b62"
    },
    "id": "wgw8i_ME3l8H"
   },
   "outputs": [],
   "source": [
    "if NOTIFY_STATUS: status_notify(\"Task 5 - Finalize Model and Make Predictions has begun! \"+datetime.now().strftime('%a %B %d, %Y %I:%M:%S %p'))"
   ]
  },
  {
   "cell_type": "markdown",
   "metadata": {
    "gradient": {
     "editing": false,
     "id": "efcc0a89-254f-4e83-80d2-683189a426bf",
     "kernelId": "c95f4d49-5695-4a88-8b5e-da646b437b62"
    },
    "id": "YsQONLo33l8I"
   },
   "source": [
    "### 6.a) Train the Final Model"
   ]
  },
  {
   "cell_type": "code",
   "execution_count": 41,
   "metadata": {
    "colab": {
     "base_uri": "https://localhost:8080/"
    },
    "gradient": {
     "editing": false,
     "execution_count": 41,
     "id": "f9c38327-9c11-4132-8362-49500a3b6c2a",
     "kernelId": "c95f4d49-5695-4a88-8b5e-da646b437b62"
    },
    "id": "TIDASCL13l8I",
    "outputId": "1abd0a47-ca6e-48fc-f32e-766ddb68ba71"
   },
   "outputs": [
    {
     "name": "stdout",
     "output_type": "stream",
     "text": [
      "Model: \"sequential_5\"\n",
      "_________________________________________________________________\n",
      " Layer (type)                Output Shape              Param #   \n",
      "=================================================================\n",
      " dense_30 (Dense)            (None, 512)               57856     \n",
      "                                                                 \n",
      " dropout_25 (Dropout)        (None, 512)               0         \n",
      "                                                                 \n",
      " dense_31 (Dense)            (None, 512)               262656    \n",
      "                                                                 \n",
      " dropout_26 (Dropout)        (None, 512)               0         \n",
      "                                                                 \n",
      " dense_32 (Dense)            (None, 512)               262656    \n",
      "                                                                 \n",
      " dropout_27 (Dropout)        (None, 512)               0         \n",
      "                                                                 \n",
      " dense_33 (Dense)            (None, 512)               262656    \n",
      "                                                                 \n",
      " dropout_28 (Dropout)        (None, 512)               0         \n",
      "                                                                 \n",
      " dense_34 (Dense)            (None, 512)               262656    \n",
      "                                                                 \n",
      " dropout_29 (Dropout)        (None, 512)               0         \n",
      "                                                                 \n",
      " dense_35 (Dense)            (None, 1)                 513       \n",
      "                                                                 \n",
      "=================================================================\n",
      "Total params: 1,108,993\n",
      "Trainable params: 1,108,993\n",
      "Non-trainable params: 0\n",
      "_________________________________________________________________\n"
     ]
    }
   ],
   "source": [
    "learning_rate_reduction = ReduceLROnPlateau(monitor='accuracy', patience=3, verbose=1, factor=0.5, min_lr=0.00005)\n",
    "final_model = create_nn_model()\n",
    "# final_model.fit(array_features_train, array_target_train, epochs=MAX_EPOCHS, batch_size=BATCH_SIZE, callbacks=[learning_rate_reduction], verbose=1)\n",
    "final_model.fit(array_features_train, array_target_train, epochs=MAX_EPOCHS, batch_size=BATCH_SIZE, verbose=0)\n",
    "final_model.summary()"
   ]
  },
  {
   "cell_type": "markdown",
   "metadata": {
    "gradient": {
     "editing": false,
     "id": "fbb03a00-a2b0-4179-818b-69db1d9acacc",
     "kernelId": "c95f4d49-5695-4a88-8b5e-da646b437b62"
    },
    "id": "tzeEayxg3l8I"
   },
   "source": [
    "### 6.b) Load Test Dataset and Make Predictions"
   ]
  },
  {
   "cell_type": "code",
   "execution_count": 42,
   "metadata": {
    "gradient": {
     "editing": false,
     "execution_count": 42,
     "id": "046f465a-c765-4ff0-a317-3fed36a0f4aa",
     "kernelId": "c95f4d49-5695-4a88-8b5e-da646b437b62"
    },
    "id": "x8S2vLNw3l8I"
   },
   "outputs": [
    {
     "name": "stdout",
     "output_type": "stream",
     "text": [
      "array_features_test.shape: (2537, 112) array_target_test.shape: (2537,)\n"
     ]
    }
   ],
   "source": [
    "# Finalize the test dataset for the testing activities\n",
    "array_features_test = preprocessor.transform(df_features_test)\n",
    "array_target_test = df_target_test.ravel()\n",
    "print(\"array_features_test.shape: {} array_target_test.shape: {}\".format(array_features_test.shape, array_target_test.shape))"
   ]
  },
  {
   "cell_type": "code",
   "execution_count": 43,
   "metadata": {
    "colab": {
     "base_uri": "https://localhost:8080/"
    },
    "gradient": {
     "editing": false,
     "execution_count": 48,
     "id": "3af9d339-8a36-43d3-b2f5-b6092910babd",
     "kernelId": "c95f4d49-5695-4a88-8b5e-da646b437b62"
    },
    "id": "i5YNHp6S3l8J",
    "outputId": "4cf5a722-6ce0-45d3-b8ad-8958b9b688e6"
   },
   "outputs": [
    {
     "name": "stdout",
     "output_type": "stream",
     "text": [
      "[1 0 0 ... 1 0 1]\n"
     ]
    }
   ],
   "source": [
    "# Make batched predictions\n",
    "test_predictions = (final_model.predict(array_features_test) > 0.5).astype(\"int32\").ravel()\n",
    "print(test_predictions)"
   ]
  },
  {
   "cell_type": "code",
   "execution_count": 44,
   "metadata": {
    "gradient": {
     "editing": false,
     "execution_count": 50,
     "id": "58f8f786-c920-4c7d-b36b-63327acd9827",
     "kernelId": "c95f4d49-5695-4a88-8b5e-da646b437b62"
    },
    "id": "-czkeOmO3l8K"
   },
   "outputs": [
    {
     "name": "stdout",
     "output_type": "stream",
     "text": [
      "Accuracy Score: 0.7386677177769019\n",
      "ROC/AUC Score: 0.7201735851633242\n",
      "[[ 638  465]\n",
      " [ 198 1236]]\n",
      "              precision    recall  f1-score   support\n",
      "\n",
      "           0       0.76      0.58      0.66      1103\n",
      "           1       0.73      0.86      0.79      1434\n",
      "\n",
      "    accuracy                           0.74      2537\n",
      "   macro avg       0.74      0.72      0.72      2537\n",
      "weighted avg       0.74      0.74      0.73      2537\n",
      "\n"
     ]
    }
   ],
   "source": [
    "print('Accuracy Score:', accuracy_score(array_target_test, test_predictions))\n",
    "print('ROC/AUC Score:', roc_auc_score(array_target_test, test_predictions))\n",
    "print(confusion_matrix(array_target_test, test_predictions))\n",
    "print(classification_report(array_target_test, test_predictions))"
   ]
  },
  {
   "cell_type": "code",
   "execution_count": 45,
   "metadata": {
    "gradient": {
     "editing": false,
     "execution_count": 51,
     "id": "68399eb5-5b5e-4f44-b3e2-c442f3fcf7d0",
     "kernelId": "c95f4d49-5695-4a88-8b5e-da646b437b62"
    },
    "id": "TE7Ey5753l8K"
   },
   "outputs": [],
   "source": [
    "if NOTIFY_STATUS: status_notify(\"Task 5 - Finalize Model and Make Predictions completed! \"+datetime.now().strftime('%a %B %d, %Y %I:%M:%S %p'))"
   ]
  },
  {
   "cell_type": "code",
   "execution_count": 46,
   "metadata": {
    "colab": {
     "base_uri": "https://localhost:8080/"
    },
    "gradient": {
     "editing": false,
     "execution_count": 52,
     "id": "d3d4aa9d-861e-4e84-bbae-5a9dfc7a8cde",
     "kernelId": "c95f4d49-5695-4a88-8b5e-da646b437b62"
    },
    "id": "nxfno4RT3l8K",
    "outputId": "e7075278-4969-4b4c-92ea-691c0414a736"
   },
   "outputs": [
    {
     "name": "stdout",
     "output_type": "stream",
     "text": [
      "Total time for the script: 0:14:38.939597\n"
     ]
    }
   ],
   "source": [
    "print ('Total time for the script:',(datetime.now() - start_time_script))"
   ]
  }
 ],
 "metadata": {
  "accelerator": "GPU",
  "colab": {
   "collapsed_sections": [
    "Uuh6PSn53l79",
    "K_ha_1jD3l7-",
    "jLUO6zME3l8B"
   ],
   "name": "py_tensorflow_binaryclass_kaggle_tabular_playground_2021nov.ipynb",
   "provenance": []
  },
  "kernelspec": {
   "display_name": "Python 3 (ipykernel)",
   "language": "python",
   "name": "python3"
  },
  "language_info": {
   "codemirror_mode": {
    "name": "ipython",
    "version": 3
   },
   "file_extension": ".py",
   "mimetype": "text/x-python",
   "name": "python",
   "nbconvert_exporter": "python",
   "pygments_lexer": "ipython3",
   "version": "3.9.9"
  }
 },
 "nbformat": 4,
 "nbformat_minor": 4
}

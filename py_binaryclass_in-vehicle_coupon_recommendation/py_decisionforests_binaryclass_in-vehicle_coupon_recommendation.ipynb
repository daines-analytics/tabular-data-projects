{
 "cells": [
  {
   "cell_type": "markdown",
   "metadata": {
    "id": "TVs0Qopg3l7w"
   },
   "source": [
    "### Binary Classification Model for In-Vehicle Coupon Recommendation Using TensorFlow Decision Forests\n",
    "### David Lowe\n",
    "### December 14, 2021\n",
    "\n",
    "Template Credit: Adapted from a template made available by Dr. Jason Brownlee of Machine Learning Mastery. [https://machinelearningmastery.com/]\n",
    "\n",
    "SUMMARY: This project aims to construct a predictive model using various machine learning algorithms and document the end-to-end steps using a template. The In-Vehicle Coupon Recommendation dataset is a binary classification situation where we attempt to predict one of the two possible outcomes.\n",
    "\n",
    "INTRODUCTION: This dataset, available from UC Irvine's Machine Learning Repository, studies whether a person will accept the coupon recommended to him under different driving scenarios.\n",
    "\n",
    "ANALYSIS: The performance of the preliminary Gradient Boosted Trees model achieved an accuracy benchmark of 0.7678 on the validation dataset. The final model processed the training dataset with an accuracy score of 0.7368. When we applied the finalized model to the validation dataset, the model achieved an accuracy score of 0.7678.\n",
    "\n",
    "CONCLUSION: In this iteration, the TensorFlow Decision Forests model appeared to be a suitable algorithm for modeling this dataset.\n",
    "\n",
    "Dataset Used: Kaggle Tabular Playground 2021 November Data Set\n",
    "\n",
    "Dataset Used: In-Vehicle Coupon Recommendation Data Set\n",
    "\n",
    "Dataset ML Model: Binary classification with numerical and categorical attributes\n",
    "\n",
    "Dataset Reference: https://archive-beta.ics.uci.edu/ml/datasets/in+vehicle+coupon+recommendation"
   ]
  },
  {
   "cell_type": "markdown",
   "metadata": {
    "id": "XcvIFuk03l7z"
   },
   "source": [
    "## Task 1 - Prepare Environment"
   ]
  },
  {
   "cell_type": "code",
   "execution_count": 1,
   "metadata": {
    "colab": {
     "base_uri": "https://localhost:8080/"
    },
    "id": "dPXgDjKFh6az",
    "outputId": "5ac5a2ca-ef5e-401c-9064-99322112d45f"
   },
   "outputs": [
    {
     "name": "stdout",
     "output_type": "stream",
     "text": [
      "Requirement already satisfied: wurlitzer in /home/pythonml/appdev/lib/python3.9/site-packages (3.0.2)\n"
     ]
    }
   ],
   "source": [
    "!pip install wurlitzer"
   ]
  },
  {
   "cell_type": "code",
   "execution_count": 2,
   "metadata": {
    "colab": {
     "base_uri": "https://localhost:8080/"
    },
    "id": "MMxv3rIM3l71",
    "outputId": "6c90a494-f479-461e-db91-8975f80ade6d"
   },
   "outputs": [
    {
     "name": "stdout",
     "output_type": "stream",
     "text": [
      "The number of available CPUs is: 4\n"
     ]
    }
   ],
   "source": [
    "# Retrieve the CPU information\n",
    "ncpu = !nproc\n",
    "print(\"The number of available CPUs is:\", ncpu[0])"
   ]
  },
  {
   "cell_type": "markdown",
   "metadata": {
    "id": "I7LCAiYF3l72"
   },
   "source": [
    "### 1.a) Load libraries and modules"
   ]
  },
  {
   "cell_type": "code",
   "execution_count": 3,
   "metadata": {
    "id": "IcBsRRuj3l73"
   },
   "outputs": [],
   "source": [
    "# Set the random seed number for reproducible results\n",
    "RNG_SEED = 888"
   ]
  },
  {
   "cell_type": "code",
   "execution_count": 4,
   "metadata": {
    "colab": {
     "base_uri": "https://localhost:8080/"
    },
    "id": "qvqMowk53l73",
    "outputId": "4abd792a-9541-4f8a-e57d-ec91bb371c5d"
   },
   "outputs": [
    {
     "name": "stderr",
     "output_type": "stream",
     "text": [
      "2021-12-13 16:58:16.634442: W tensorflow/stream_executor/platform/default/dso_loader.cc:64] Could not load dynamic library 'libcudart.so.11.0'; dlerror: libcudart.so.11.0: cannot open shared object file: No such file or directory\n",
      "2021-12-13 16:58:16.634514: I tensorflow/stream_executor/cuda/cudart_stub.cc:29] Ignore above cudart dlerror if you do not have a GPU set up on your machine.\n",
      "WARNING:root:Failure to load the custom c++ tensorflow ops. This error is likely caused the version of TensorFlow and TensorFlow Decision Forests are not compatible.\n",
      "WARNING:root:TF Parameter Server distributed training not available.\n"
     ]
    }
   ],
   "source": [
    "import random\n",
    "random.seed(RNG_SEED)\n",
    "import numpy as np\n",
    "np.random.seed(RNG_SEED)\n",
    "import pandas as pd\n",
    "import seaborn as sns\n",
    "import matplotlib.pyplot as plt\n",
    "import os\n",
    "import sys\n",
    "import math\n",
    "from datetime import datetime\n",
    "import boto3\n",
    "from sklearn import preprocessing\n",
    "from sklearn.model_selection import train_test_split\n",
    "from sklearn.model_selection import RepeatedKFold\n",
    "from sklearn.pipeline import Pipeline\n",
    "from sklearn import compose\n",
    "from sklearn import impute\n",
    "import tensorflow as tf\n",
    "tf.random.set_seed(RNG_SEED)\n",
    "from tensorflow import keras\n",
    "import tensorflow_decision_forests as tfdf"
   ]
  },
  {
   "cell_type": "code",
   "execution_count": 5,
   "metadata": {
    "id": "6Y8NFq9TiGT3"
   },
   "outputs": [],
   "source": [
    "try:\n",
    "  from wurlitzer import sys_pipes\n",
    "except:\n",
    "  from colabtools.googlelog import CaptureLog as sys_pipes\n",
    "\n",
    "from IPython.core.magic import register_line_magic\n",
    "from IPython.display import Javascript"
   ]
  },
  {
   "cell_type": "markdown",
   "metadata": {
    "id": "lj9CEmZv3l74"
   },
   "source": [
    "### 1.b) Set up the controlling parameters and functions"
   ]
  },
  {
   "cell_type": "code",
   "execution_count": 6,
   "metadata": {
    "colab": {
     "base_uri": "https://localhost:8080/"
    },
    "id": "37e7yBJt3l74",
    "outputId": "76ca84f2-9626-46e6-f64a-d5c2b9277d0c"
   },
   "outputs": [
    {
     "name": "stdout",
     "output_type": "stream",
     "text": [
      "TensorFlow version: 2.7.0\n",
      "Found TensorFlow Decision Forests v0.2.1\n"
     ]
    },
    {
     "name": "stderr",
     "output_type": "stream",
     "text": [
      "2021-12-13 16:58:20.879758: W tensorflow/stream_executor/platform/default/dso_loader.cc:64] Could not load dynamic library 'libcuda.so.1'; dlerror: libcuda.so.1: cannot open shared object file: No such file or directory\n",
      "2021-12-13 16:58:20.879830: W tensorflow/stream_executor/cuda/cuda_driver.cc:269] failed call to cuInit: UNKNOWN ERROR (303)\n",
      "2021-12-13 16:58:20.879901: I tensorflow/stream_executor/cuda/cuda_diagnostics.cc:156] kernel driver does not appear to be running on this host (91952dc61d28): /proc/driver/nvidia/version does not exist\n"
     ]
    }
   ],
   "source": [
    "# Begin the timer for the script processing\n",
    "start_time_script = datetime.now()\n",
    "\n",
    "# Set up the number of CPU cores available for multi-thread processing\n",
    "N_JOBS = 2\n",
    "\n",
    "# Set up the flag to stop sending progress emails (setting to True will send status emails!)\n",
    "NOTIFY_STATUS = False\n",
    "\n",
    "# Set the percentage sizes for splitting the dataset\n",
    "TEST_SET_RATIO = 0.2\n",
    "VAL_SET_RATIO = 0.2\n",
    "\n",
    "# Set the number of folds for cross validation\n",
    "N_FOLDS = 5\n",
    "N_ITERATIONS = 1\n",
    "\n",
    "# Set various default modeling parameters\n",
    "DEFAULT_LOSS = 'binary_crossentropy'\n",
    "DEFAULT_METRICS = [\"accuracy\", tf.keras.metrics.AUC()]\n",
    "\n",
    "# Define the directory locations and file names\n",
    "TRAIN_DATASET = 'in-vehicle-coupon-recommendation.csv'\n",
    "# TEST_DATASET = 'test.csv'\n",
    "\n",
    "# Print out the TensorFlow version for confirmation\n",
    "print('TensorFlow version:', tf.__version__)\n",
    "\n",
    "# Check the version of TensorFlow Decision Forests\n",
    "print(\"Found TensorFlow Decision Forests v\" + tfdf.__version__)"
   ]
  },
  {
   "cell_type": "code",
   "execution_count": 7,
   "metadata": {
    "id": "DeabrzoC3l75"
   },
   "outputs": [],
   "source": [
    "# Set up the email notification function\n",
    "def status_notify(msg_text):\n",
    "    access_key = os.environ.get('SNS_ACCESS_KEY')\n",
    "    secret_key = os.environ.get('SNS_SECRET_KEY')\n",
    "    aws_region = os.environ.get('SNS_AWS_REGION')\n",
    "    topic_arn = os.environ.get('SNS_TOPIC_ARN')\n",
    "    if (access_key is None) or (secret_key is None) or (aws_region is None):\n",
    "        sys.exit(\"Incomplete notification setup info. Script Processing Aborted!!!\")\n",
    "    sns = boto3.client('sns', aws_access_key_id=access_key, aws_secret_access_key=secret_key, region_name=aws_region)\n",
    "    response = sns.publish(TopicArn=topic_arn, Message=msg_text)\n",
    "    if response['ResponseMetadata']['HTTPStatusCode'] != 200 :\n",
    "        print('Status notification not OK with HTTP status code:', response['ResponseMetadata']['HTTPStatusCode'])"
   ]
  },
  {
   "cell_type": "code",
   "execution_count": 8,
   "metadata": {
    "id": "z6at5jHEyl6k"
   },
   "outputs": [],
   "source": [
    "# Reset the random number generators\n",
    "def reset_random(x=RNG_SEED):\n",
    "    random.seed(x)\n",
    "    np.random.seed(x)\n",
    "    tf.random.set_seed(x)"
   ]
  },
  {
   "cell_type": "code",
   "execution_count": 9,
   "metadata": {
    "id": "-LXEI2QY3l75"
   },
   "outputs": [],
   "source": [
    "if NOTIFY_STATUS: status_notify(\"Task 1 - Prepare Environment has begun! \" + datetime.now().strftime('%a %B %d, %Y %I:%M:%S %p'))"
   ]
  },
  {
   "cell_type": "markdown",
   "metadata": {
    "id": "Iud46_Nn3l76"
   },
   "source": [
    "### 1.c) Load dataset"
   ]
  },
  {
   "cell_type": "code",
   "execution_count": 10,
   "metadata": {
    "colab": {
     "base_uri": "https://localhost:8080/"
    },
    "id": "Cil4_ZpP6AXI",
    "outputId": "1dbdb952-4dbf-4bd5-a3b2-48be2f8e9c91"
   },
   "outputs": [],
   "source": [
    "if not os.path.exists(TRAIN_DATASET):\n",
    "    !wget https://dainesanalytics.com/datasets/ucirvine-in-vehicle-coupon-recommendation/in-vehicle-coupon-recommendation.csv"
   ]
  },
  {
   "cell_type": "code",
   "execution_count": 11,
   "metadata": {
    "colab": {
     "base_uri": "https://localhost:8080/"
    },
    "id": "zw8vysCp3l76",
    "outputId": "5b45b0be-23ae-4895-9aa9-956715d10c11"
   },
   "outputs": [
    {
     "name": "stdout",
     "output_type": "stream",
     "text": [
      "       destination  passanger weather  temperature  time  \\\n",
      "0  No Urgent Place      Alone   Sunny           55   2PM   \n",
      "1  No Urgent Place  Friend(s)   Sunny           80  10AM   \n",
      "2  No Urgent Place  Friend(s)   Sunny           80  10AM   \n",
      "3  No Urgent Place  Friend(s)   Sunny           80   2PM   \n",
      "4  No Urgent Place  Friend(s)   Sunny           80   2PM   \n",
      "\n",
      "                  coupon expiration  gender age      maritalStatus  ...  \\\n",
      "0        Restaurant(<20)         1d  Female  21  Unmarried partner  ...   \n",
      "1           Coffee House         2h  Female  21  Unmarried partner  ...   \n",
      "2  Carry out & Take away         2h  Female  21  Unmarried partner  ...   \n",
      "3           Coffee House         2h  Female  21  Unmarried partner  ...   \n",
      "4           Coffee House         1d  Female  21  Unmarried partner  ...   \n",
      "\n",
      "   CoffeeHouse CarryAway RestaurantLessThan20 Restaurant20To50  \\\n",
      "0        never       NaN                  4~8              1~3   \n",
      "1        never       NaN                  4~8              1~3   \n",
      "2        never       NaN                  4~8              1~3   \n",
      "3        never       NaN                  4~8              1~3   \n",
      "4        never       NaN                  4~8              1~3   \n",
      "\n",
      "  toCoupon_GEQ5min toCoupon_GEQ15min toCoupon_GEQ25min direction_same  \\\n",
      "0                1                 0                 0              0   \n",
      "1                1                 0                 0              0   \n",
      "2                1                 1                 0              0   \n",
      "3                1                 1                 0              0   \n",
      "4                1                 1                 0              0   \n",
      "\n",
      "  direction_opp  Y  \n",
      "0             1  1  \n",
      "1             1  0  \n",
      "2             1  1  \n",
      "3             1  0  \n",
      "4             1  0  \n",
      "\n",
      "[5 rows x 26 columns]\n"
     ]
    }
   ],
   "source": [
    "df_dataset_import = pd.read_csv(TRAIN_DATASET, index_col=False)\n",
    "\n",
    "# Take a peek at the dataframe after import\n",
    "print(df_dataset_import.head())"
   ]
  },
  {
   "cell_type": "code",
   "execution_count": 12,
   "metadata": {
    "colab": {
     "base_uri": "https://localhost:8080/"
    },
    "id": "qdseXAzd3l76",
    "outputId": "87bd8340-2183-41ac-8504-f4ff5230f0d0"
   },
   "outputs": [
    {
     "name": "stdout",
     "output_type": "stream",
     "text": [
      "<class 'pandas.core.frame.DataFrame'>\n",
      "RangeIndex: 12684 entries, 0 to 12683\n",
      "Data columns (total 26 columns):\n",
      " #   Column                Non-Null Count  Dtype \n",
      "---  ------                --------------  ----- \n",
      " 0   destination           12684 non-null  object\n",
      " 1   passanger             12684 non-null  object\n",
      " 2   weather               12684 non-null  object\n",
      " 3   temperature           12684 non-null  int64 \n",
      " 4   time                  12684 non-null  object\n",
      " 5   coupon                12684 non-null  object\n",
      " 6   expiration            12684 non-null  object\n",
      " 7   gender                12684 non-null  object\n",
      " 8   age                   12684 non-null  object\n",
      " 9   maritalStatus         12684 non-null  object\n",
      " 10  has_children          12684 non-null  int64 \n",
      " 11  education             12684 non-null  object\n",
      " 12  occupation            12684 non-null  object\n",
      " 13  income                12684 non-null  object\n",
      " 14  car                   108 non-null    object\n",
      " 15  Bar                   12577 non-null  object\n",
      " 16  CoffeeHouse           12467 non-null  object\n",
      " 17  CarryAway             12533 non-null  object\n",
      " 18  RestaurantLessThan20  12554 non-null  object\n",
      " 19  Restaurant20To50      12495 non-null  object\n",
      " 20  toCoupon_GEQ5min      12684 non-null  int64 \n",
      " 21  toCoupon_GEQ15min     12684 non-null  int64 \n",
      " 22  toCoupon_GEQ25min     12684 non-null  int64 \n",
      " 23  direction_same        12684 non-null  int64 \n",
      " 24  direction_opp         12684 non-null  int64 \n",
      " 25  Y                     12684 non-null  int64 \n",
      "dtypes: int64(8), object(18)\n",
      "memory usage: 2.5+ MB\n"
     ]
    }
   ],
   "source": [
    "df_dataset_import.info(verbose=True)"
   ]
  },
  {
   "cell_type": "code",
   "execution_count": 13,
   "metadata": {
    "colab": {
     "base_uri": "https://localhost:8080/"
    },
    "id": "dut08ci_3l77",
    "outputId": "2f5782a0-1d4a-4604-c8f8-9d6a0b0d71b6"
   },
   "outputs": [
    {
     "name": "stdout",
     "output_type": "stream",
     "text": [
      "        temperature  has_children  toCoupon_GEQ5min  toCoupon_GEQ15min  \\\n",
      "count  12684.000000  12684.000000           12684.0       12684.000000   \n",
      "mean      63.301798      0.414144               1.0           0.561495   \n",
      "std       19.154486      0.492593               0.0           0.496224   \n",
      "min       30.000000      0.000000               1.0           0.000000   \n",
      "25%       55.000000      0.000000               1.0           0.000000   \n",
      "50%       80.000000      0.000000               1.0           1.000000   \n",
      "75%       80.000000      1.000000               1.0           1.000000   \n",
      "max       80.000000      1.000000               1.0           1.000000   \n",
      "\n",
      "       toCoupon_GEQ25min  direction_same  direction_opp             Y  \n",
      "count       12684.000000    12684.000000   12684.000000  12684.000000  \n",
      "mean            0.119126        0.214759       0.785241      0.568433  \n",
      "std             0.323950        0.410671       0.410671      0.495314  \n",
      "min             0.000000        0.000000       0.000000      0.000000  \n",
      "25%             0.000000        0.000000       1.000000      0.000000  \n",
      "50%             0.000000        0.000000       1.000000      1.000000  \n",
      "75%             0.000000        0.000000       1.000000      1.000000  \n",
      "max             1.000000        1.000000       1.000000      1.000000  \n"
     ]
    }
   ],
   "source": [
    "print(df_dataset_import.describe())"
   ]
  },
  {
   "cell_type": "code",
   "execution_count": 14,
   "metadata": {
    "colab": {
     "base_uri": "https://localhost:8080/"
    },
    "id": "6j5yMdxL3l77",
    "outputId": "5fc65533-556c-4cac-b19f-0b31956343e5"
   },
   "outputs": [
    {
     "name": "stdout",
     "output_type": "stream",
     "text": [
      "destination                 0\n",
      "passanger                   0\n",
      "weather                     0\n",
      "temperature                 0\n",
      "time                        0\n",
      "coupon                      0\n",
      "expiration                  0\n",
      "gender                      0\n",
      "age                         0\n",
      "maritalStatus               0\n",
      "has_children                0\n",
      "education                   0\n",
      "occupation                  0\n",
      "income                      0\n",
      "car                     12576\n",
      "Bar                       107\n",
      "CoffeeHouse               217\n",
      "CarryAway                 151\n",
      "RestaurantLessThan20      130\n",
      "Restaurant20To50          189\n",
      "toCoupon_GEQ5min            0\n",
      "toCoupon_GEQ15min           0\n",
      "toCoupon_GEQ25min           0\n",
      "direction_same              0\n",
      "direction_opp               0\n",
      "Y                           0\n",
      "dtype: int64\n",
      "Total number of NaN in the dataframe:  13370\n"
     ]
    }
   ],
   "source": [
    "print(df_dataset_import.isnull().sum())\n",
    "print('Total number of NaN in the dataframe: ', df_dataset_import.isnull().sum().sum())"
   ]
  },
  {
   "cell_type": "markdown",
   "metadata": {
    "id": "Hxxn8gnj3l78"
   },
   "source": [
    "### 1.d) Data Cleaning"
   ]
  },
  {
   "cell_type": "code",
   "execution_count": 15,
   "metadata": {
    "colab": {
     "base_uri": "https://localhost:8080/"
    },
    "id": "osjQPBQY3l78",
    "outputId": "454befe7-c1f9-48dc-a75b-0ad4b5961585"
   },
   "outputs": [
    {
     "name": "stdout",
     "output_type": "stream",
     "text": [
      "       destination  passanger weather  temperature  time  \\\n",
      "0  No Urgent Place      Alone   Sunny           55   2PM   \n",
      "1  No Urgent Place  Friend(s)   Sunny           80  10AM   \n",
      "2  No Urgent Place  Friend(s)   Sunny           80  10AM   \n",
      "3  No Urgent Place  Friend(s)   Sunny           80   2PM   \n",
      "4  No Urgent Place  Friend(s)   Sunny           80   2PM   \n",
      "\n",
      "                  coupon expiration  gender age      maritalStatus  ...  \\\n",
      "0        Restaurant(<20)         1d  Female  21  Unmarried partner  ...   \n",
      "1           Coffee House         2h  Female  21  Unmarried partner  ...   \n",
      "2  Carry out & Take away         2h  Female  21  Unmarried partner  ...   \n",
      "3           Coffee House         2h  Female  21  Unmarried partner  ...   \n",
      "4           Coffee House         1d  Female  21  Unmarried partner  ...   \n",
      "\n",
      "            income    Bar CoffeeHouse CarryAway RestaurantLessThan20  \\\n",
      "0  $37500 - $49999  never       never       NaN                  4~8   \n",
      "1  $37500 - $49999  never       never       NaN                  4~8   \n",
      "2  $37500 - $49999  never       never       NaN                  4~8   \n",
      "3  $37500 - $49999  never       never       NaN                  4~8   \n",
      "4  $37500 - $49999  never       never       NaN                  4~8   \n",
      "\n",
      "  Restaurant20To50 toCoupon_GEQ15min toCoupon_GEQ25min direction_same  target  \n",
      "0              1~3                 0                 0              0       1  \n",
      "1              1~3                 0                 0              0       0  \n",
      "2              1~3                 1                 0              0       1  \n",
      "3              1~3                 1                 0              0       0  \n",
      "4              1~3                 1                 0              0       0  \n",
      "\n",
      "[5 rows x 23 columns]\n"
     ]
    }
   ],
   "source": [
    "# Dropping features that have too many NA's or have no variation\n",
    "df_dataset_import.drop(columns=['car','toCoupon_GEQ5min','direction_opp'], inplace=True)\n",
    "\n",
    "# Standardize the class column to the name of target\n",
    "df_dataset_import = df_dataset_import.rename(columns={'Y':'target'})\n",
    "\n",
    "# Take a peek at the dataframe after cleaning\n",
    "print(df_dataset_import.head())"
   ]
  },
  {
   "cell_type": "code",
   "execution_count": 16,
   "metadata": {
    "colab": {
     "base_uri": "https://localhost:8080/"
    },
    "id": "t36Yn9gl3l78",
    "outputId": "9490ec64-ec84-4c15-a2cb-487a76542b02"
   },
   "outputs": [
    {
     "name": "stdout",
     "output_type": "stream",
     "text": [
      "<class 'pandas.core.frame.DataFrame'>\n",
      "RangeIndex: 12684 entries, 0 to 12683\n",
      "Data columns (total 23 columns):\n",
      " #   Column                Non-Null Count  Dtype \n",
      "---  ------                --------------  ----- \n",
      " 0   destination           12684 non-null  object\n",
      " 1   passanger             12684 non-null  object\n",
      " 2   weather               12684 non-null  object\n",
      " 3   temperature           12684 non-null  int64 \n",
      " 4   time                  12684 non-null  object\n",
      " 5   coupon                12684 non-null  object\n",
      " 6   expiration            12684 non-null  object\n",
      " 7   gender                12684 non-null  object\n",
      " 8   age                   12684 non-null  object\n",
      " 9   maritalStatus         12684 non-null  object\n",
      " 10  has_children          12684 non-null  int64 \n",
      " 11  education             12684 non-null  object\n",
      " 12  occupation            12684 non-null  object\n",
      " 13  income                12684 non-null  object\n",
      " 14  Bar                   12577 non-null  object\n",
      " 15  CoffeeHouse           12467 non-null  object\n",
      " 16  CarryAway             12533 non-null  object\n",
      " 17  RestaurantLessThan20  12554 non-null  object\n",
      " 18  Restaurant20To50      12495 non-null  object\n",
      " 19  toCoupon_GEQ15min     12684 non-null  int64 \n",
      " 20  toCoupon_GEQ25min     12684 non-null  int64 \n",
      " 21  direction_same        12684 non-null  int64 \n",
      " 22  target                12684 non-null  int64 \n",
      "dtypes: int64(6), object(17)\n",
      "memory usage: 2.2+ MB\n"
     ]
    }
   ],
   "source": [
    "df_dataset_import.info(verbose=True)"
   ]
  },
  {
   "cell_type": "code",
   "execution_count": 17,
   "metadata": {
    "colab": {
     "base_uri": "https://localhost:8080/"
    },
    "id": "3FFwZYXG3l79",
    "outputId": "3eafe6eb-4bb6-4b1d-f929-1c9be6d1f67f"
   },
   "outputs": [
    {
     "name": "stdout",
     "output_type": "stream",
     "text": [
      "        temperature  has_children  toCoupon_GEQ15min  toCoupon_GEQ25min  \\\n",
      "count  12684.000000  12684.000000       12684.000000       12684.000000   \n",
      "mean      63.301798      0.414144           0.561495           0.119126   \n",
      "std       19.154486      0.492593           0.496224           0.323950   \n",
      "min       30.000000      0.000000           0.000000           0.000000   \n",
      "25%       55.000000      0.000000           0.000000           0.000000   \n",
      "50%       80.000000      0.000000           1.000000           0.000000   \n",
      "75%       80.000000      1.000000           1.000000           0.000000   \n",
      "max       80.000000      1.000000           1.000000           1.000000   \n",
      "\n",
      "       direction_same        target  \n",
      "count    12684.000000  12684.000000  \n",
      "mean         0.214759      0.568433  \n",
      "std          0.410671      0.495314  \n",
      "min          0.000000      0.000000  \n",
      "25%          0.000000      0.000000  \n",
      "50%          0.000000      1.000000  \n",
      "75%          0.000000      1.000000  \n",
      "max          1.000000      1.000000  \n"
     ]
    }
   ],
   "source": [
    "print(df_dataset_import.describe())"
   ]
  },
  {
   "cell_type": "code",
   "execution_count": 18,
   "metadata": {
    "colab": {
     "base_uri": "https://localhost:8080/"
    },
    "id": "1QMi80kq3l79",
    "outputId": "5ac11334-964e-48eb-da8e-47be5a835e43"
   },
   "outputs": [
    {
     "name": "stdout",
     "output_type": "stream",
     "text": [
      "destination               0\n",
      "passanger                 0\n",
      "weather                   0\n",
      "temperature               0\n",
      "time                      0\n",
      "coupon                    0\n",
      "expiration                0\n",
      "gender                    0\n",
      "age                       0\n",
      "maritalStatus             0\n",
      "has_children              0\n",
      "education                 0\n",
      "occupation                0\n",
      "income                    0\n",
      "Bar                     107\n",
      "CoffeeHouse             217\n",
      "CarryAway               151\n",
      "RestaurantLessThan20    130\n",
      "Restaurant20To50        189\n",
      "toCoupon_GEQ15min         0\n",
      "toCoupon_GEQ25min         0\n",
      "direction_same            0\n",
      "target                    0\n",
      "dtype: int64\n",
      "Total number of NaN in the dataframe:  794\n"
     ]
    }
   ],
   "source": [
    "print(df_dataset_import.isnull().sum())\n",
    "print('Total number of NaN in the dataframe: ', df_dataset_import.isnull().sum().sum())"
   ]
  },
  {
   "cell_type": "markdown",
   "metadata": {
    "id": "Uuh6PSn53l79"
   },
   "source": [
    "### 1.e) Splitting Data into Sets"
   ]
  },
  {
   "cell_type": "code",
   "execution_count": 19,
   "metadata": {
    "colab": {
     "base_uri": "https://localhost:8080/"
    },
    "id": "Ac66Lgmn3l79",
    "outputId": "4fcddd75-4ce9-4aa4-fac1-76e4c93a703b"
   },
   "outputs": [
    {
     "name": "stdout",
     "output_type": "stream",
     "text": [
      "df_dataset_import.shape: (12684, 23) df_features_import.shape: (12684, 22) df_target_import.shape: (12684,)\n"
     ]
    }
   ],
   "source": [
    "# Use variable total_column_count to hold the number of columns in the dataframe\n",
    "total_column_count = len(df_dataset_import.columns)\n",
    "\n",
    "# Set up variable total_feature_count for the total number of attribute columns\n",
    "total_feature_count = total_column_count-1\n",
    "\n",
    "# We create attribute-only and target-only datasets (df_features_train and df_target_train)\n",
    "df_target_import = df_dataset_import['target']\n",
    "df_features_import = df_dataset_import.drop(['target'], axis=1)\n",
    "\n",
    "print(\"df_dataset_import.shape: {} df_features_import.shape: {} df_target_import.shape: {}\".format(df_dataset_import.shape, df_features_import.shape, df_target_import.shape))"
   ]
  },
  {
   "cell_type": "markdown",
   "metadata": {
    "id": "K_ha_1jD3l7-"
   },
   "source": [
    "### 1.f) Set up the parameters for data visualization"
   ]
  },
  {
   "cell_type": "code",
   "execution_count": 20,
   "metadata": {
    "id": "jZU3DZ3D3l7-"
   },
   "outputs": [],
   "source": [
    "# Set up the number of row and columns for visualization display. display_rows * display_columns should be >= total_feature_count\n",
    "display_columns = 4\n",
    "if total_feature_count % display_columns == 0 :\n",
    "    display_rows = total_feature_count // display_columns\n",
    "else :\n",
    "    display_rows = (total_feature_count // display_columns) + 1\n",
    "\n",
    "# Set figure width to display the data visualization plots\n",
    "fig_size = plt.rcParams[\"figure.figsize\"]\n",
    "fig_size[0] = display_columns * 4\n",
    "fig_size[1] = display_rows * 4\n",
    "plt.rcParams[\"figure.figsize\"] = fig_size"
   ]
  },
  {
   "cell_type": "code",
   "execution_count": 21,
   "metadata": {
    "id": "ACP83VhH3l7-"
   },
   "outputs": [],
   "source": [
    "if NOTIFY_STATUS: status_notify(\"Task 1 - Prepare Environment completed! \"+datetime.now().strftime('%a %B %d, %Y %I:%M:%S %p'))"
   ]
  },
  {
   "cell_type": "markdown",
   "metadata": {
    "id": "kZevOIQL3l7_"
   },
   "source": [
    "## Task 2 - Summarize and Visualize Data"
   ]
  },
  {
   "cell_type": "code",
   "execution_count": 22,
   "metadata": {
    "id": "YLt0NpWy3l7_"
   },
   "outputs": [],
   "source": [
    "if NOTIFY_STATUS: status_notify(\"Task 2 - Summarize and Visualize Data has begun! \"+datetime.now().strftime('%a %B %d, %Y %I:%M:%S %p'))"
   ]
  },
  {
   "cell_type": "code",
   "execution_count": 23,
   "metadata": {
    "colab": {
     "base_uri": "https://localhost:8080/",
     "height": 1000
    },
    "id": "FVURY0Ba3l7_",
    "outputId": "8fded1f7-7aeb-44e2-e9ad-94770e77753a"
   },
   "outputs": [
    {
     "data": {
      "image/png": "[encoded data removed]",
      "text/plain": [
       "<Figure size 1152x1728 with 24 Axes>"
      ]
     },
     "metadata": {
      "needs_background": "light"
     },
     "output_type": "display_data"
    }
   ],
   "source": [
    "# Histograms for each attribute\n",
    "df_features_import.plot(kind='hist', subplots=True, layout=(display_rows, display_columns))\n",
    "plt.show()"
   ]
  },
  {
   "cell_type": "code",
   "execution_count": 24,
   "metadata": {
    "colab": {
     "base_uri": "https://localhost:8080/",
     "height": 1000
    },
    "id": "m92aROlh3l8A",
    "outputId": "88ca644d-ce32-4e0e-a4ed-a8b2eb9d478f"
   },
   "outputs": [
    {
     "data": {
      "image/png": "[encoded data removed]",
      "text/plain": [
       "<Figure size 1152x1728 with 24 Axes>"
      ]
     },
     "metadata": {
      "needs_background": "light"
     },
     "output_type": "display_data"
    }
   ],
   "source": [
    "# Box and Whisker plot for each attribute\n",
    "df_features_import.plot(kind='box', subplots=True, layout=(display_rows, display_columns))\n",
    "plt.show()"
   ]
  },
  {
   "cell_type": "code",
   "execution_count": 25,
   "metadata": {
    "id": "3r8q4sgU3l8A"
   },
   "outputs": [
    {
     "data": {
      "image/png": "[encoded data removed]",
      "text/plain": [
       "<Figure size 864x864 with 2 Axes>"
      ]
     },
     "metadata": {
      "needs_background": "light"
     },
     "output_type": "display_data"
    }
   ],
   "source": [
    "# Correlation matrix\n",
    "fig = plt.figure(figsize=(12, 12))\n",
    "correlations = df_features_import.corr(method='pearson')\n",
    "sns.heatmap(correlations, annot=True, cmap=plt.cm.PuBu)\n",
    "plt.show()"
   ]
  },
  {
   "cell_type": "code",
   "execution_count": 26,
   "metadata": {
    "id": "47zwOFBY3l8A"
   },
   "outputs": [],
   "source": [
    "if NOTIFY_STATUS: status_notify(\"Task 2 - Summarize and Visualize Data completed! \"+datetime.now().strftime('%a %B %d, %Y %I:%M:%S %p'))"
   ]
  },
  {
   "cell_type": "markdown",
   "metadata": {
    "id": "iMRuoNay3l8B"
   },
   "source": [
    "## Task 3 - Train and Evaluate Models"
   ]
  },
  {
   "cell_type": "code",
   "execution_count": 27,
   "metadata": {
    "id": "0vQJ1B6d3l8B"
   },
   "outputs": [],
   "source": [
    "if NOTIFY_STATUS: status_notify(\"Task 3 - Train and Evaluate Models has begun! \"+datetime.now().strftime('%a %B %d, %Y %I:%M:%S %p'))"
   ]
  },
  {
   "cell_type": "markdown",
   "metadata": {
    "id": "jLUO6zME3l8B"
   },
   "source": [
    "### 3.a) Splitting Data into Training and Validation Sets"
   ]
  },
  {
   "cell_type": "code",
   "execution_count": 28,
   "metadata": {
    "colab": {
     "base_uri": "https://localhost:8080/"
    },
    "id": "2vg3u6An3l8B",
    "outputId": "10f21815-efc1-43b6-dda3-85ae2b83e5fb"
   },
   "outputs": [
    {
     "name": "stdout",
     "output_type": "stream",
     "text": [
      "df_dataset_train.shape: (10147, 23) df_dataset_valid.shape: (2537, 23)\n"
     ]
    }
   ],
   "source": [
    "# Split the data further into training and validation datasets\n",
    "df_dataset_train, df_dataset_valid = train_test_split(df_dataset_import, test_size=VAL_SET_RATIO, random_state=RNG_SEED)\n",
    "print(\"df_dataset_train.shape: {} df_dataset_valid.shape: {}\".format(df_dataset_train.shape, df_dataset_valid.shape))"
   ]
  },
  {
   "cell_type": "code",
   "execution_count": 29,
   "metadata": {
    "id": "EourCr333l8D"
   },
   "outputs": [
    {
     "name": "stderr",
     "output_type": "stream",
     "text": [
      "/home/pythonml/appdev/lib/python3.9/site-packages/tensorflow_decision_forests/keras/core.py:1612: FutureWarning: In a future version of pandas all arguments of DataFrame.drop except for the argument 'labels' will be keyword-only\n",
      "  features_dataframe = dataframe.drop(label, 1)\n"
     ]
    }
   ],
   "source": [
    "# Finalize the training and validation datasets for the modeling activities\n",
    "tfds_train = tfdf.keras.pd_dataframe_to_tf_dataset(df_dataset_train, label='target', task=tfdf.keras.Task.CLASSIFICATION)\n",
    "tfds_valid = tfdf.keras.pd_dataframe_to_tf_dataset(df_dataset_valid, label='target', task=tfdf.keras.Task.CLASSIFICATION)"
   ]
  },
  {
   "cell_type": "markdown",
   "metadata": {
    "id": "SJKVMdU-3l8B"
   },
   "source": [
    "### 3.b) Train and Evaluate the Random Forest Model"
   ]
  },
  {
   "cell_type": "code",
   "execution_count": 30,
   "metadata": {
    "colab": {
     "base_uri": "https://localhost:8080/"
    },
    "id": "Bbls2rTF3l8E",
    "outputId": "5b33020b-2f24-46a1-ce9e-55b1b3c2907c"
   },
   "outputs": [
    {
     "name": "stdout",
     "output_type": "stream",
     "text": [
      "157/159 [============================>.] - ETA: 0s"
     ]
    },
    {
     "name": "stderr",
     "output_type": "stream",
     "text": [
      "[INFO kernel.cc:736] Start Yggdrasil model training\n",
      "[INFO kernel.cc:737] Collect training examples\n",
      "[INFO kernel.cc:392] Number of batches: 159\n",
      "[INFO kernel.cc:393] Number of examples: 10147\n",
      "[INFO kernel.cc:759] Dataset:\n",
      "Number of records: 10147\n",
      "Number of columns: 23\n",
      "\n",
      "Number of columns by type:\n",
      "\tCATEGORICAL: 18 (78.2609%)\n",
      "\tNUMERICAL: 5 (21.7391%)\n",
      "\n",
      "Columns:\n",
      "\n",
      "CATEGORICAL: 18 (78.2609%)\n",
      "\t0: \"Bar\" CATEGORICAL num-nas:80 (0.78841%) has-dict vocab-size:6 zero-ood-items most-frequent:\"never\" 4181 (41.5317%)\n",
      "\t1: \"CarryAway\" CATEGORICAL num-nas:115 (1.13334%) has-dict vocab-size:6 zero-ood-items most-frequent:\"1~3\" 3711 (36.9916%)\n",
      "\t2: \"CoffeeHouse\" CATEGORICAL num-nas:161 (1.58668%) has-dict vocab-size:6 zero-ood-items most-frequent:\"less1\" 2720 (27.2381%)\n",
      "\t3: \"Restaurant20To50\" CATEGORICAL num-nas:154 (1.51769%) has-dict vocab-size:6 zero-ood-items most-frequent:\"less1\" 4886 (48.8942%)\n",
      "\t4: \"RestaurantLessThan20\" CATEGORICAL num-nas:100 (0.985513%) has-dict vocab-size:6 zero-ood-items most-frequent:\"1~3\" 4284 (42.6396%)\n",
      "\t5: \"age\" CATEGORICAL has-dict vocab-size:9 zero-ood-items most-frequent:\"21\" 2133 (21.021%)\n",
      "\t6: \"coupon\" CATEGORICAL has-dict vocab-size:6 zero-ood-items most-frequent:\"Coffee House\" 3226 (31.7926%)\n",
      "\t7: \"destination\" CATEGORICAL has-dict vocab-size:4 zero-ood-items most-frequent:\"No Urgent Place\" 5015 (49.4235%)\n",
      "\t9: \"education\" CATEGORICAL has-dict vocab-size:7 zero-ood-items most-frequent:\"Some college - no degree\" 3514 (34.6309%)\n",
      "\t10: \"expiration\" CATEGORICAL has-dict vocab-size:3 zero-ood-items most-frequent:\"1d\" 5656 (55.7406%)\n",
      "\t11: \"gender\" CATEGORICAL has-dict vocab-size:3 zero-ood-items most-frequent:\"Female\" 5189 (51.1383%)\n",
      "\t13: \"income\" CATEGORICAL has-dict vocab-size:10 zero-ood-items most-frequent:\"$25000 - $37499\" 1601 (15.7781%)\n",
      "\t14: \"maritalStatus\" CATEGORICAL has-dict vocab-size:6 zero-ood-items most-frequent:\"Married partner\" 4046 (39.8739%)\n",
      "\t15: \"occupation\" CATEGORICAL has-dict vocab-size:26 zero-ood-items most-frequent:\"Unemployed\" 1495 (14.7334%)\n",
      "\t16: \"passanger\" CATEGORICAL has-dict vocab-size:5 zero-ood-items most-frequent:\"Alone\" 5861 (57.7609%)\n",
      "\t18: \"time\" CATEGORICAL has-dict vocab-size:6 zero-ood-items most-frequent:\"6PM\" 2586 (25.4854%)\n",
      "\t21: \"weather\" CATEGORICAL has-dict vocab-size:4 zero-ood-items most-frequent:\"Sunny\" 8025 (79.0874%)\n",
      "\t22: \"__LABEL\" CATEGORICAL integerized vocab-size:3 no-ood-item\n",
      "\n",
      "NUMERICAL: 5 (21.7391%)\n",
      "\t8: \"direction_same\" NUMERICAL mean:0.215532 min:0 max:1 sd:0.411191\n",
      "\t12: \"has_children\" NUMERICAL mean:0.414507 min:0 max:1 sd:0.492637\n",
      "\t17: \"temperature\" NUMERICAL mean:63.2216 min:30 max:80 sd:19.1978\n",
      "\t19: \"toCoupon_GEQ15min\" NUMERICAL mean:0.562137 min:0 max:1 sd:0.496124\n",
      "\t20: \"toCoupon_GEQ25min\" NUMERICAL mean:0.120331 min:0 max:1 sd:0.325348\n",
      "\n",
      "Terminology:\n",
      "\tnas: Number of non-available (i.e. missing) values.\n",
      "\tood: Out of dictionary.\n",
      "\tmanually-defined: Attribute which type is manually defined by the user i.e. the type was not automatically inferred.\n",
      "\ttokenized: The attribute value is obtained through tokenization.\n",
      "\thas-dict: The attribute is attached to a string dictionary e.g. a categorical attribute stored as a string.\n",
      "\tvocab-size: Number of unique values.\n",
      "\n",
      "[INFO kernel.cc:762] Configure learner\n",
      "[INFO kernel.cc:787] Training config:\n",
      "learner: \"RANDOM_FOREST\"\n",
      "features: \"Bar\"\n",
      "features: \"CarryAway\"\n",
      "features: \"CoffeeHouse\"\n",
      "features: \"Restaurant20To50\"\n",
      "features: \"RestaurantLessThan20\"\n",
      "features: \"age\"\n",
      "features: \"coupon\"\n",
      "features: \"destination\"\n",
      "features: \"direction_same\"\n",
      "features: \"education\"\n",
      "features: \"expiration\"\n",
      "features: \"gender\"\n",
      "features: \"has_children\"\n",
      "features: \"income\"\n",
      "features: \"maritalStatus\"\n",
      "features: \"occupation\"\n",
      "features: \"passanger\"\n",
      "features: \"temperature\"\n",
      "features: \"time\"\n",
      "features: \"toCoupon_GEQ15min\"\n",
      "features: \"toCoupon_GEQ25min\"\n",
      "features: \"weather\"\n",
      "label: \"__LABEL\"\n",
      "task: CLASSIFICATION\n",
      "[yggdrasil_decision_forests.model.random_forest.proto.random_forest_config] {\n",
      "  num_trees: 300\n",
      "  decision_tree {\n",
      "    max_depth: 16\n",
      "    min_examples: 5\n",
      "    in_split_min_examples_check: true\n",
      "    missing_value_policy: GLOBAL_IMPUTATION\n",
      "    allow_na_conditions: false\n",
      "    categorical_set_greedy_forward {\n",
      "      sampling: 0.1\n",
      "      max_num_items: -1\n",
      "      min_item_frequency: 1\n",
      "    }\n",
      "    growing_strategy_local {\n",
      "    }\n",
      "    categorical {\n",
      "      cart {\n",
      "      }\n",
      "    }\n",
      "    num_candidate_attributes_ratio: -1\n",
      "    axis_aligned_split {\n",
      "    }\n",
      "    internal {\n",
      "      sorting_strategy: PRESORTED\n",
      "    }\n",
      "  }\n",
      "  winner_take_all_inference: true\n",
      "  compute_oob_performances: true\n",
      "  compute_oob_variable_importances: false\n",
      "  adapt_bootstrap_size_ratio_for_maximum_training_duration: false\n",
      "}\n",
      "\n",
      "[INFO kernel.cc:790] Deployment config:\n",
      "num_threads: 6\n",
      "\n",
      "[INFO kernel.cc:817] Train model\n",
      "[INFO random_forest.cc:315] Training random forest on 10147 example(s) and 22 feature(s).\n",
      "[INFO random_forest.cc:628] Training of tree  1/300 (tree index:0) done accuracy:0.642326 logloss:12.8919\n",
      "[INFO random_forest.cc:628] Training of tree  11/300 (tree index:8) done accuracy:0.672126 logloss:3.2802\n",
      "[INFO random_forest.cc:628] Training of tree  21/300 (tree index:18) done accuracy:0.705204 logloss:1.28628\n",
      "[INFO random_forest.cc:628] Training of tree  31/300 (tree index:29) done accuracy:0.720903 logloss:0.828062\n",
      "[INFO random_forest.cc:628] Training of tree  41/300 (tree index:41) done accuracy:0.732236 logloss:0.688662\n",
      "[INFO random_forest.cc:628] Training of tree  51/300 (tree index:49) done accuracy:0.736375 logloss:0.608073\n",
      "[INFO random_forest.cc:628] Training of tree  61/300 (tree index:64) done accuracy:0.74081 logloss:0.570549\n",
      "[INFO random_forest.cc:628] Training of tree  71/300 (tree index:67) done accuracy:0.741106 logloss:0.551373\n",
      "[INFO random_forest.cc:628] Training of tree  82/300 (tree index:78) done accuracy:0.746822 logloss:0.538756\n",
      "[INFO random_forest.cc:628] Training of tree  92/300 (tree index:91) done accuracy:0.747512 logloss:0.535737\n",
      "[INFO random_forest.cc:628] Training of tree  102/300 (tree index:100) done accuracy:0.747906 logloss:0.524586\n",
      "[INFO random_forest.cc:628] Training of tree  112/300 (tree index:114) done accuracy:0.748694 logloss:0.520116\n",
      "[INFO random_forest.cc:628] Training of tree  123/300 (tree index:119) done accuracy:0.748497 logloss:0.51601\n",
      "[INFO random_forest.cc:628] Training of tree  133/300 (tree index:134) done accuracy:0.74968 logloss:0.514983\n",
      "[INFO random_forest.cc:628] Training of tree  143/300 (tree index:142) done accuracy:0.75372 logloss:0.514843\n",
      "[INFO random_forest.cc:628] Training of tree  153/300 (tree index:150) done accuracy:0.753917 logloss:0.513794\n",
      "[INFO random_forest.cc:628] Training of tree  163/300 (tree index:160) done accuracy:0.755001 logloss:0.513278\n",
      "[INFO random_forest.cc:628] Training of tree  173/300 (tree index:176) done accuracy:0.756381 logloss:0.509224\n",
      "[INFO random_forest.cc:628] Training of tree  183/300 (tree index:186) done accuracy:0.755494 logloss:0.508904\n",
      "[INFO random_forest.cc:628] Training of tree  193/300 (tree index:191) done accuracy:0.753819 logloss:0.508388\n",
      "[INFO random_forest.cc:628] Training of tree  203/300 (tree index:199) done accuracy:0.75441 logloss:0.507941\n",
      "[INFO random_forest.cc:628] Training of tree  213/300 (tree index:210) done accuracy:0.754607 logloss:0.50775\n",
      "[INFO random_forest.cc:628] Training of tree  223/300 (tree index:223) done accuracy:0.756578 logloss:0.507552\n",
      "[INFO random_forest.cc:628] Training of tree  233/300 (tree index:230) done accuracy:0.75579 logloss:0.507402\n",
      "[INFO random_forest.cc:628] Training of tree  243/300 (tree index:240) done accuracy:0.756086 logloss:0.507031\n",
      "[INFO random_forest.cc:628] Training of tree  253/300 (tree index:250) done accuracy:0.755297 logloss:0.506799\n",
      "[INFO random_forest.cc:628] Training of tree  263/300 (tree index:259) done accuracy:0.755396 logloss:0.506747\n",
      "[INFO random_forest.cc:628] Training of tree  274/300 (tree index:273) done accuracy:0.755396 logloss:0.506641\n",
      "[INFO random_forest.cc:628] Training of tree  284/300 (tree index:280) done accuracy:0.755494 logloss:0.506468\n",
      "[INFO random_forest.cc:628] Training of tree  294/300 (tree index:292) done accuracy:0.755297 logloss:0.506109\n",
      "[INFO random_forest.cc:628] Training of tree  300/300 (tree index:299) done accuracy:0.755987 logloss:0.505948\n",
      "[INFO random_forest.cc:696] Final OOB metrics: accuracy:0.755987 logloss:0.505948\n",
      "[INFO kernel.cc:828] Export model in log directory: /tmp/tmpm456o1yv\n",
      "[INFO kernel.cc:836] Save model in resources\n",
      "[INFO kernel.cc:988] Loading model from path\n",
      "[INFO decision_forest.cc:590] Model loaded with 300 root(s), 585776 node(s), and 22 input feature(s).\n",
      "[INFO abstract_model.cc:993] Engine \"RandomForestOptPred\" built\n",
      "[INFO kernel.cc:848] Use fast generic engine\n"
     ]
    },
    {
     "name": "stdout",
     "output_type": "stream",
     "text": [
      "159/159 [==============================] - 34s 106ms/step\n",
      "Model training time: 0:00:45.437209 \n",
      "\n"
     ]
    }
   ],
   "source": [
    "# Define the baseline model for benchmarking\n",
    "start_time_module = datetime.now()\n",
    "if NOTIFY_STATUS: status_notify(\"TFDF Random Forest modeling has begun! \"+datetime.now().strftime('%a %B %d, %Y %I:%M:%S %p'))\n",
    "model_1 = tfdf.keras.RandomForestModel(task=tfdf.keras.Task.CLASSIFICATION)\n",
    "\n",
    "# Optionally, add evaluation metrics.\n",
    "model_1.compile(metrics=DEFAULT_METRICS)\n",
    "\n",
    "# Train the model.\n",
    "# \"sys_pipes\" is optional. It enables the display of the training logs.\n",
    "with sys_pipes():\n",
    "    model_1.fit(x=tfds_train)\n",
    "print ('Model training time:', (datetime.now() - start_time_module), '\\n')\n",
    "if NOTIFY_STATUS: status_notify(\"TFDF Random Forest modeling completed! \"+datetime.now().strftime('%a %B %d, %Y %I:%M:%S %p'))"
   ]
  },
  {
   "cell_type": "code",
   "execution_count": 31,
   "metadata": {
    "colab": {
     "base_uri": "https://localhost:8080/",
     "height": 404
    },
    "id": "mW_6wwd_kdSH",
    "outputId": "db7eb8b0-cf61-4b4c-9819-22d3c22b2d5d"
   },
   "outputs": [],
   "source": [
    "# tfdf.model_plotter.plot_model_in_colab(model_1)"
   ]
  },
  {
   "cell_type": "code",
   "execution_count": 32,
   "metadata": {
    "colab": {
     "base_uri": "https://localhost:8080/"
    },
    "id": "vTYMFZfWKSKl",
    "outputId": "eaf553c1-75a5-4c18-f65c-d26313fd23ba"
   },
   "outputs": [
    {
     "data": {
      "text/plain": [
       "Evaluation(num_examples=10147, accuracy=0.7559869912289346, loss=0.5059480755366411, rmse=None, ndcg=None, aucs=None)"
      ]
     },
     "execution_count": 32,
     "metadata": {},
     "output_type": "execute_result"
    }
   ],
   "source": [
    "model_1.make_inspector().evaluation()"
   ]
  },
  {
   "cell_type": "code",
   "execution_count": 33,
   "metadata": {
    "colab": {
     "base_uri": "https://localhost:8080/",
     "height": 279
    },
    "id": "QWxbO2EXcbEJ",
    "outputId": "36cad1ee-49ff-4c62-dfa5-f9c48a00a1f9"
   },
   "outputs": [
    {
     "data": {
      "image/png": "[encoded data removed]",
      "text/plain": [
       "<Figure size 864x288 with 2 Axes>"
      ]
     },
     "metadata": {
      "needs_background": "light"
     },
     "output_type": "display_data"
    }
   ],
   "source": [
    "logs = model_1.make_inspector().training_logs()\n",
    "\n",
    "plt.figure(figsize=(12, 4))\n",
    "\n",
    "plt.subplot(1, 2, 1)\n",
    "plt.plot([log.num_trees for log in logs], [log.evaluation.accuracy for log in logs])\n",
    "plt.xlabel(\"Number of trees\")\n",
    "plt.ylabel(\"Accuracy (out-of-bag)\")\n",
    "\n",
    "plt.subplot(1, 2, 2)\n",
    "plt.plot([log.num_trees for log in logs], [log.evaluation.loss for log in logs])\n",
    "plt.xlabel(\"Number of trees\")\n",
    "plt.ylabel(\"Logloss (out-of-bag)\")\n",
    "\n",
    "plt.show()"
   ]
  },
  {
   "cell_type": "code",
   "execution_count": 34,
   "metadata": {
    "colab": {
     "base_uri": "https://localhost:8080/"
    },
    "id": "euAVix08EaDn",
    "outputId": "69990d3d-eb69-4d09-c1f0-fbf59160c367"
   },
   "outputs": [
    {
     "name": "stdout",
     "output_type": "stream",
     "text": [
      "40/40 [==============================] - 2s 12ms/step - loss: 0.0000e+00 - accuracy: 0.7592 - auc: 0.8395\n",
      "\n",
      "loss: 0.0000\n",
      "accuracy: 0.7592\n",
      "auc: 0.8395\n"
     ]
    }
   ],
   "source": [
    "evaluation = model_1.evaluate(tfds_valid, return_dict=True)\n",
    "print()\n",
    "\n",
    "for name, value in evaluation.items():\n",
    "  print(f\"{name}: {value:.4f}\")"
   ]
  },
  {
   "cell_type": "markdown",
   "metadata": {
    "id": "1ZNkHdPkq_ps"
   },
   "source": [
    "### 3.c) Train and Evaluate the Decision Trees Model"
   ]
  },
  {
   "cell_type": "code",
   "execution_count": 35,
   "metadata": {
    "colab": {
     "base_uri": "https://localhost:8080/"
    },
    "id": "bDPPbOgPFCBF",
    "outputId": "428549da-27d5-45d7-c7a3-f3ebd7d9e722"
   },
   "outputs": [
    {
     "name": "stdout",
     "output_type": "stream",
     "text": [
      "154/159 [============================>.] - ETA: 0s"
     ]
    },
    {
     "name": "stderr",
     "output_type": "stream",
     "text": [
      "[INFO kernel.cc:736] Start Yggdrasil model training\n",
      "[INFO kernel.cc:737] Collect training examples\n",
      "[INFO kernel.cc:392] Number of batches: 159\n",
      "[INFO kernel.cc:393] Number of examples: 10147\n",
      "[INFO kernel.cc:759] Dataset:\n",
      "Number of records: 10147\n",
      "Number of columns: 23\n",
      "\n",
      "Number of columns by type:\n",
      "\tCATEGORICAL: 18 (78.2609%)\n",
      "\tNUMERICAL: 5 (21.7391%)\n",
      "\n",
      "Columns:\n",
      "\n",
      "CATEGORICAL: 18 (78.2609%)\n",
      "\t0: \"Bar\" CATEGORICAL num-nas:80 (0.78841%) has-dict vocab-size:6 zero-ood-items most-frequent:\"never\" 4181 (41.5317%)\n",
      "\t1: \"CarryAway\" CATEGORICAL num-nas:115 (1.13334%) has-dict vocab-size:6 zero-ood-items most-frequent:\"1~3\" 3711 (36.9916%)\n",
      "\t2: \"CoffeeHouse\" CATEGORICAL num-nas:161 (1.58668%) has-dict vocab-size:6 zero-ood-items most-frequent:\"less1\" 2720 (27.2381%)\n",
      "\t3: \"Restaurant20To50\" CATEGORICAL num-nas:154 (1.51769%) has-dict vocab-size:6 zero-ood-items most-frequent:\"less1\" 4886 (48.8942%)\n",
      "\t4: \"RestaurantLessThan20\" CATEGORICAL num-nas:100 (0.985513%) has-dict vocab-size:6 zero-ood-items most-frequent:\"1~3\" 4284 (42.6396%)\n",
      "\t5: \"age\" CATEGORICAL has-dict vocab-size:9 zero-ood-items most-frequent:\"21\" 2133 (21.021%)\n",
      "\t6: \"coupon\" CATEGORICAL has-dict vocab-size:6 zero-ood-items most-frequent:\"Coffee House\" 3226 (31.7926%)\n",
      "\t7: \"destination\" CATEGORICAL has-dict vocab-size:4 zero-ood-items most-frequent:\"No Urgent Place\" 5015 (49.4235%)\n",
      "\t9: \"education\" CATEGORICAL has-dict vocab-size:7 zero-ood-items most-frequent:\"Some college - no degree\" 3514 (34.6309%)\n",
      "\t10: \"expiration\" CATEGORICAL has-dict vocab-size:3 zero-ood-items most-frequent:\"1d\" 5656 (55.7406%)\n",
      "\t11: \"gender\" CATEGORICAL has-dict vocab-size:3 zero-ood-items most-frequent:\"Female\" 5189 (51.1383%)\n",
      "\t13: \"income\" CATEGORICAL has-dict vocab-size:10 zero-ood-items most-frequent:\"$25000 - $37499\" 1601 (15.7781%)\n",
      "\t14: \"maritalStatus\" CATEGORICAL has-dict vocab-size:6 zero-ood-items most-frequent:\"Married partner\" 4046 (39.8739%)\n",
      "\t15: \"occupation\" CATEGORICAL has-dict vocab-size:26 zero-ood-items most-frequent:\"Unemployed\" 1495 (14.7334%)\n",
      "\t16: \"passanger\" CATEGORICAL has-dict vocab-size:5 zero-ood-items most-frequent:\"Alone\" 5861 (57.7609%)\n",
      "\t18: \"time\" CATEGORICAL has-dict vocab-size:6 zero-ood-items most-frequent:\"6PM\" 2586 (25.4854%)\n",
      "\t21: \"weather\" CATEGORICAL has-dict vocab-size:4 zero-ood-items most-frequent:\"Sunny\" 8025 (79.0874%)\n",
      "\t22: \"__LABEL\" CATEGORICAL integerized vocab-size:3 no-ood-item\n",
      "\n",
      "NUMERICAL: 5 (21.7391%)\n",
      "\t8: \"direction_same\" NUMERICAL mean:0.215532 min:0 max:1 sd:0.411191\n",
      "\t12: \"has_children\" NUMERICAL mean:0.414507 min:0 max:1 sd:0.492637\n",
      "\t17: \"temperature\" NUMERICAL mean:63.2216 min:30 max:80 sd:19.1978\n",
      "\t19: \"toCoupon_GEQ15min\" NUMERICAL mean:0.562137 min:0 max:1 sd:0.496124\n",
      "\t20: \"toCoupon_GEQ25min\" NUMERICAL mean:0.120331 min:0 max:1 sd:0.325348\n",
      "\n",
      "Terminology:\n",
      "\tnas: Number of non-available (i.e. missing) values.\n",
      "\tood: Out of dictionary.\n",
      "\tmanually-defined: Attribute which type is manually defined by the user i.e. the type was not automatically inferred.\n",
      "\ttokenized: The attribute value is obtained through tokenization.\n",
      "\thas-dict: The attribute is attached to a string dictionary e.g. a categorical attribute stored as a string.\n",
      "\tvocab-size: Number of unique values.\n",
      "\n",
      "[INFO kernel.cc:762] Configure learner\n",
      "[INFO kernel.cc:787] Training config:\n",
      "learner: \"CART\"\n",
      "features: \"Bar\"\n",
      "features: \"CarryAway\"\n",
      "features: \"CoffeeHouse\"\n",
      "features: \"Restaurant20To50\"\n",
      "features: \"RestaurantLessThan20\"\n",
      "features: \"age\"\n",
      "features: \"coupon\"\n",
      "features: \"destination\"\n",
      "features: \"direction_same\"\n",
      "features: \"education\"\n",
      "features: \"expiration\"\n",
      "features: \"gender\"\n",
      "features: \"has_children\"\n",
      "features: \"income\"\n",
      "features: \"maritalStatus\"\n",
      "features: \"occupation\"\n",
      "features: \"passanger\"\n",
      "features: \"temperature\"\n",
      "features: \"time\"\n",
      "features: \"toCoupon_GEQ15min\"\n",
      "features: \"toCoupon_GEQ25min\"\n",
      "features: \"weather\"\n",
      "label: \"__LABEL\"\n",
      "task: CLASSIFICATION\n",
      "[yggdrasil_decision_forests.model.cart.proto.cart_config] {\n",
      "  decision_tree {\n",
      "    max_depth: 16\n",
      "    min_examples: 5\n",
      "    in_split_min_examples_check: true\n",
      "    missing_value_policy: GLOBAL_IMPUTATION\n",
      "    allow_na_conditions: false\n",
      "    categorical_set_greedy_forward {\n",
      "      sampling: 0.1\n",
      "      max_num_items: -1\n",
      "      min_item_frequency: 1\n",
      "    }\n",
      "    growing_strategy_local {\n",
      "    }\n",
      "    categorical {\n",
      "      cart {\n",
      "      }\n",
      "    }\n",
      "    num_candidate_attributes_ratio: -1\n",
      "    axis_aligned_split {\n",
      "    }\n",
      "    internal {\n",
      "      sorting_strategy: PRESORTED\n",
      "    }\n",
      "  }\n",
      "  validation_ratio: 0.1\n",
      "}\n",
      "\n",
      "[INFO kernel.cc:790] Deployment config:\n",
      "num_threads: 6\n",
      "\n",
      "[INFO kernel.cc:817] Train model\n",
      "[INFO cart.cc:174] Training CART on 10147 example(s) and 22 feature(s).\n",
      "[INFO cart.cc:375] 2051 nodes before pruning. 423 nodes after pruning.\n",
      "[INFO kernel.cc:828] Export model in log directory: /tmp/tmptqzgfu1g\n",
      "[INFO kernel.cc:836] Save model in resources\n",
      "[INFO kernel.cc:988] Loading model from path\n",
      "[INFO decision_forest.cc:590] Model loaded with 1 root(s), 423 node(s), and 21 input feature(s).\n",
      "[INFO abstract_model.cc:993] Engine \"RandomForestOptPred\" built\n",
      "[INFO kernel.cc:848] Use fast generic engine\n"
     ]
    },
    {
     "name": "stdout",
     "output_type": "stream",
     "text": [
      "159/159 [==============================] - 2s 9ms/step\n",
      "Model training time: 0:00:02.837613 \n",
      "\n"
     ]
    }
   ],
   "source": [
    "# Define the baseline model for benchmarking\n",
    "start_time_module = datetime.now()\n",
    "if NOTIFY_STATUS: status_notify(\"TFDF Decision Trees modeling has begun! \"+datetime.now().strftime('%a %B %d, %Y %I:%M:%S %p'))\n",
    "model_2 = tfdf.keras.CartModel(task=tfdf.keras.Task.CLASSIFICATION)\n",
    "\n",
    "# Optionally, add evaluation metrics.\n",
    "model_2.compile(metrics=DEFAULT_METRICS)\n",
    "\n",
    "# Train the model.\n",
    "# \"sys_pipes\" is optional. It enables the display of the training logs.\n",
    "with sys_pipes():\n",
    "    model_2.fit(x=tfds_train)\n",
    "print ('Model training time:', (datetime.now() - start_time_module), '\\n')\n",
    "if NOTIFY_STATUS: status_notify(\"TFDF Decision Trees modeling completed! \"+datetime.now().strftime('%a %B %d, %Y %I:%M:%S %p'))"
   ]
  },
  {
   "cell_type": "code",
   "execution_count": 36,
   "metadata": {
    "colab": {
     "base_uri": "https://localhost:8080/",
     "height": 404
    },
    "id": "k0ZLkM_HgrKH",
    "outputId": "dca978ab-da43-4d41-f3d3-d10a1665cedf"
   },
   "outputs": [],
   "source": [
    "# tfdf.model_plotter.plot_model_in_colab(model_2)"
   ]
  },
  {
   "cell_type": "code",
   "execution_count": 37,
   "metadata": {
    "id": "GTJrNoVaKPIO"
   },
   "outputs": [],
   "source": [
    "model_2.make_inspector().evaluation()"
   ]
  },
  {
   "cell_type": "code",
   "execution_count": 38,
   "metadata": {
    "colab": {
     "base_uri": "https://localhost:8080/"
    },
    "id": "SWVKI95XFPfG",
    "outputId": "e3f51236-4fb0-4f8f-8f3e-71b186e722b5"
   },
   "outputs": [
    {
     "name": "stdout",
     "output_type": "stream",
     "text": [
      "40/40 [==============================] - 1s 9ms/step - loss: 0.0000e+00 - accuracy: 0.6969 - auc: 0.7841\n",
      "\n",
      "loss: 0.0000\n",
      "accuracy: 0.6969\n",
      "auc: 0.7841\n"
     ]
    }
   ],
   "source": [
    "evaluation = model_2.evaluate(tfds_valid, return_dict=True)\n",
    "print()\n",
    "\n",
    "for name, value in evaluation.items():\n",
    "  print(f\"{name}: {value:.4f}\")"
   ]
  },
  {
   "cell_type": "markdown",
   "metadata": {
    "id": "WMb2KXjnraGN"
   },
   "source": [
    "### 3.d) Train and Evaluate the Gradient Boosted Trees Model"
   ]
  },
  {
   "cell_type": "code",
   "execution_count": 39,
   "metadata": {
    "colab": {
     "base_uri": "https://localhost:8080/"
    },
    "id": "ogW3JeatFDRS",
    "outputId": "e3654f17-1a2a-414f-bd3f-d078a161dfed"
   },
   "outputs": [
    {
     "name": "stdout",
     "output_type": "stream",
     "text": [
      "156/159 [============================>.] - ETA: 0s"
     ]
    },
    {
     "name": "stderr",
     "output_type": "stream",
     "text": [
      "[INFO kernel.cc:736] Start Yggdrasil model training\n",
      "[INFO kernel.cc:737] Collect training examples\n",
      "[INFO kernel.cc:392] Number of batches: 159\n",
      "[INFO kernel.cc:393] Number of examples: 10147\n",
      "[INFO kernel.cc:759] Dataset:\n",
      "Number of records: 10147\n",
      "Number of columns: 23\n",
      "\n",
      "Number of columns by type:\n",
      "\tCATEGORICAL: 18 (78.2609%)\n",
      "\tNUMERICAL: 5 (21.7391%)\n",
      "\n",
      "Columns:\n",
      "\n",
      "CATEGORICAL: 18 (78.2609%)\n",
      "\t0: \"Bar\" CATEGORICAL num-nas:80 (0.78841%) has-dict vocab-size:6 zero-ood-items most-frequent:\"never\" 4181 (41.5317%)\n",
      "\t1: \"CarryAway\" CATEGORICAL num-nas:115 (1.13334%) has-dict vocab-size:6 zero-ood-items most-frequent:\"1~3\" 3711 (36.9916%)\n",
      "\t2: \"CoffeeHouse\" CATEGORICAL num-nas:161 (1.58668%) has-dict vocab-size:6 zero-ood-items most-frequent:\"less1\" 2720 (27.2381%)\n",
      "\t3: \"Restaurant20To50\" CATEGORICAL num-nas:154 (1.51769%) has-dict vocab-size:6 zero-ood-items most-frequent:\"less1\" 4886 (48.8942%)\n",
      "\t4: \"RestaurantLessThan20\" CATEGORICAL num-nas:100 (0.985513%) has-dict vocab-size:6 zero-ood-items most-frequent:\"1~3\" 4284 (42.6396%)\n",
      "\t5: \"age\" CATEGORICAL has-dict vocab-size:9 zero-ood-items most-frequent:\"21\" 2133 (21.021%)\n",
      "\t6: \"coupon\" CATEGORICAL has-dict vocab-size:6 zero-ood-items most-frequent:\"Coffee House\" 3226 (31.7926%)\n",
      "\t7: \"destination\" CATEGORICAL has-dict vocab-size:4 zero-ood-items most-frequent:\"No Urgent Place\" 5015 (49.4235%)\n",
      "\t9: \"education\" CATEGORICAL has-dict vocab-size:7 zero-ood-items most-frequent:\"Some college - no degree\" 3514 (34.6309%)\n",
      "\t10: \"expiration\" CATEGORICAL has-dict vocab-size:3 zero-ood-items most-frequent:\"1d\" 5656 (55.7406%)\n",
      "\t11: \"gender\" CATEGORICAL has-dict vocab-size:3 zero-ood-items most-frequent:\"Female\" 5189 (51.1383%)\n",
      "\t13: \"income\" CATEGORICAL has-dict vocab-size:10 zero-ood-items most-frequent:\"$25000 - $37499\" 1601 (15.7781%)\n",
      "\t14: \"maritalStatus\" CATEGORICAL has-dict vocab-size:6 zero-ood-items most-frequent:\"Married partner\" 4046 (39.8739%)\n",
      "\t15: \"occupation\" CATEGORICAL has-dict vocab-size:26 zero-ood-items most-frequent:\"Unemployed\" 1495 (14.7334%)\n",
      "\t16: \"passanger\" CATEGORICAL has-dict vocab-size:5 zero-ood-items most-frequent:\"Alone\" 5861 (57.7609%)\n",
      "\t18: \"time\" CATEGORICAL has-dict vocab-size:6 zero-ood-items most-frequent:\"6PM\" 2586 (25.4854%)\n",
      "\t21: \"weather\" CATEGORICAL has-dict vocab-size:4 zero-ood-items most-frequent:\"Sunny\" 8025 (79.0874%)\n",
      "\t22: \"__LABEL\" CATEGORICAL integerized vocab-size:3 no-ood-item\n",
      "\n",
      "NUMERICAL: 5 (21.7391%)\n",
      "\t8: \"direction_same\" NUMERICAL mean:0.215532 min:0 max:1 sd:0.411191\n",
      "\t12: \"has_children\" NUMERICAL mean:0.414507 min:0 max:1 sd:0.492637\n",
      "\t17: \"temperature\" NUMERICAL mean:63.2216 min:30 max:80 sd:19.1978\n",
      "\t19: \"toCoupon_GEQ15min\" NUMERICAL mean:0.562137 min:0 max:1 sd:0.496124\n",
      "\t20: \"toCoupon_GEQ25min\" NUMERICAL mean:0.120331 min:0 max:1 sd:0.325348\n",
      "\n",
      "Terminology:\n",
      "\tnas: Number of non-available (i.e. missing) values.\n",
      "\tood: Out of dictionary.\n",
      "\tmanually-defined: Attribute which type is manually defined by the user i.e. the type was not automatically inferred.\n",
      "\ttokenized: The attribute value is obtained through tokenization.\n",
      "\thas-dict: The attribute is attached to a string dictionary e.g. a categorical attribute stored as a string.\n",
      "\tvocab-size: Number of unique values.\n",
      "\n",
      "[INFO kernel.cc:762] Configure learner\n",
      "[WARNING gradient_boosted_trees.cc:1643] Subsample hyperparameter given but sampling method does not match.\n",
      "[WARNING gradient_boosted_trees.cc:1656] GOSS alpha hyperparameter given but GOSS is disabled.\n",
      "[WARNING gradient_boosted_trees.cc:1665] GOSS beta hyperparameter given but GOSS is disabled.\n",
      "[WARNING gradient_boosted_trees.cc:1677] SelGB ratio hyperparameter given but SelGB is disabled.\n",
      "[INFO kernel.cc:787] Training config:\n",
      "learner: \"GRADIENT_BOOSTED_TREES\"\n",
      "features: \"Bar\"\n",
      "features: \"CarryAway\"\n",
      "features: \"CoffeeHouse\"\n",
      "features: \"Restaurant20To50\"\n",
      "features: \"RestaurantLessThan20\"\n",
      "features: \"age\"\n",
      "features: \"coupon\"\n",
      "features: \"destination\"\n",
      "features: \"direction_same\"\n",
      "features: \"education\"\n",
      "features: \"expiration\"\n",
      "features: \"gender\"\n",
      "features: \"has_children\"\n",
      "features: \"income\"\n",
      "features: \"maritalStatus\"\n",
      "features: \"occupation\"\n",
      "features: \"passanger\"\n",
      "features: \"temperature\"\n",
      "features: \"time\"\n",
      "features: \"toCoupon_GEQ15min\"\n",
      "features: \"toCoupon_GEQ25min\"\n",
      "features: \"weather\"\n",
      "label: \"__LABEL\"\n",
      "task: CLASSIFICATION\n",
      "[yggdrasil_decision_forests.model.gradient_boosted_trees.proto.gradient_boosted_trees_config] {\n",
      "  num_trees: 300\n",
      "  decision_tree {\n",
      "    max_depth: 6\n",
      "    min_examples: 5\n",
      "    in_split_min_examples_check: true\n",
      "    missing_value_policy: GLOBAL_IMPUTATION\n",
      "    allow_na_conditions: false\n",
      "    categorical_set_greedy_forward {\n",
      "      sampling: 0.1\n",
      "      max_num_items: -1\n",
      "      min_item_frequency: 1\n",
      "    }\n",
      "    growing_strategy_local {\n",
      "    }\n",
      "    categorical {\n",
      "      cart {\n",
      "      }\n",
      "    }\n",
      "    num_candidate_attributes_ratio: -1\n",
      "    axis_aligned_split {\n",
      "    }\n",
      "    internal {\n",
      "      sorting_strategy: PRESORTED\n",
      "    }\n",
      "  }\n",
      "  shrinkage: 0.1\n",
      "  validation_set_ratio: 0.1\n",
      "  early_stopping: VALIDATION_LOSS_INCREASE\n",
      "  early_stopping_num_trees_look_ahead: 30\n",
      "  l2_regularization: 0\n",
      "  lambda_loss: 1\n",
      "  mart {\n",
      "  }\n",
      "  adapt_subsample_for_maximum_training_duration: false\n",
      "  l1_regularization: 0\n",
      "  use_hessian_gain: false\n",
      "  l2_regularization_categorical: 1\n",
      "  apply_link_function: true\n",
      "  compute_permutation_variable_importance: false\n",
      "}\n",
      "\n",
      "[INFO kernel.cc:790] Deployment config:\n",
      "num_threads: 6\n",
      "\n",
      "[INFO kernel.cc:817] Train model\n",
      "[INFO gradient_boosted_trees.cc:404] Default loss set to BINOMIAL_LOG_LIKELIHOOD\n",
      "[INFO gradient_boosted_trees.cc:1001] Training gradient boosted tree on 10147 example(s) and 22 feature(s).\n",
      "[INFO gradient_boosted_trees.cc:1044] 9159 examples used for training and 988 examples used for validation\n",
      "[INFO gradient_boosted_trees.cc:1426] \tnum-trees:1 train-loss:1.337243 train-accuracy:0.570259 valid-loss:1.345140 valid-accuracy:0.559717\n",
      "[INFO gradient_boosted_trees.cc:1428] \tnum-trees:2 train-loss:1.317127 train-accuracy:0.579867 valid-loss:1.329323 valid-accuracy:0.568826\n",
      "[INFO gradient_boosted_trees.cc:2740] Early stop of the training because the validation loss does not decrease anymore. Best valid-loss: 1.02299\n",
      "[INFO gradient_boosted_trees.cc:229] Truncates the model to 182 tree(s) i.e. 182  iteration(s).\n",
      "[INFO gradient_boosted_trees.cc:263] Final model num-trees:182 valid-loss:1.022987 valid-accuracy:0.736842\n",
      "[INFO kernel.cc:828] Export model in log directory: /tmp/tmpm_qf5v9c\n",
      "[INFO kernel.cc:836] Save model in resources\n",
      "[INFO kernel.cc:988] Loading model from path\n",
      "[INFO kernel.cc:848] Use fast generic engine\n"
     ]
    },
    {
     "name": "stdout",
     "output_type": "stream",
     "text": [
      "159/159 [==============================] - 7s 42ms/step\n",
      "Model training time: 0:00:08.104012 \n",
      "\n"
     ]
    }
   ],
   "source": [
    "# Define the baseline model for benchmarking\n",
    "start_time_module = datetime.now()\n",
    "if NOTIFY_STATUS: status_notify(\"TFDF Gradient Boosted Treees modeling has begun! \"+datetime.now().strftime('%a %B %d, %Y %I:%M:%S %p'))\n",
    "model_3 = tfdf.keras.GradientBoostedTreesModel(task=tfdf.keras.Task.CLASSIFICATION)\n",
    "\n",
    "# Optionally, add evaluation metrics.\n",
    "model_3.compile(metrics=DEFAULT_METRICS)\n",
    "\n",
    "# Train the model.\n",
    "# \"sys_pipes\" is optional. It enables the display of the training logs.\n",
    "with sys_pipes():\n",
    "    model_3.fit(x=tfds_train)\n",
    "print ('Model training time:', (datetime.now() - start_time_module), '\\n')\n",
    "if NOTIFY_STATUS: status_notify(\"TFDF Gradient Boosted Trees modeling completed! \"+datetime.now().strftime('%a %B %d, %Y %I:%M:%S %p'))"
   ]
  },
  {
   "cell_type": "code",
   "execution_count": 40,
   "metadata": {
    "colab": {
     "base_uri": "https://localhost:8080/",
     "height": 404
    },
    "id": "tEWLGqQvkkon",
    "outputId": "b8527a7b-147a-457a-bd95-053f85b14c50"
   },
   "outputs": [],
   "source": [
    "# tfdf.model_plotter.plot_model_in_colab(model_3)"
   ]
  },
  {
   "cell_type": "code",
   "execution_count": 41,
   "metadata": {
    "colab": {
     "base_uri": "https://localhost:8080/"
    },
    "id": "qf4Ir6sSKLJ3",
    "outputId": "a58dea92-818f-430b-afac-31c24358335f"
   },
   "outputs": [
    {
     "data": {
      "text/plain": [
       "Evaluation(num_examples=None, accuracy=0.7368420958518982, loss=1.0229867696762085, rmse=None, ndcg=None, aucs=None)"
      ]
     },
     "execution_count": 41,
     "metadata": {},
     "output_type": "execute_result"
    }
   ],
   "source": [
    "model_3.make_inspector().evaluation()"
   ]
  },
  {
   "cell_type": "code",
   "execution_count": 42,
   "metadata": {
    "colab": {
     "base_uri": "https://localhost:8080/",
     "height": 283
    },
    "id": "e0K_RY-tkUDo",
    "outputId": "6b0924be-d758-4dd6-858b-9bffcc578079"
   },
   "outputs": [
    {
     "data": {
      "image/png": "[encoded data removed]",
      "text/plain": [
       "<Figure size 864x288 with 2 Axes>"
      ]
     },
     "metadata": {
      "needs_background": "light"
     },
     "output_type": "display_data"
    }
   ],
   "source": [
    "logs = model_3.make_inspector().training_logs()\n",
    "\n",
    "plt.figure(figsize=(12, 4))\n",
    "\n",
    "plt.subplot(1, 2, 1)\n",
    "plt.plot([log.num_trees for log in logs], [log.evaluation.accuracy for log in logs])\n",
    "plt.xlabel(\"Number of trees\")\n",
    "plt.ylabel(\"Accuracy (out-of-bag)\")\n",
    "\n",
    "plt.subplot(1, 2, 2)\n",
    "plt.plot([log.num_trees for log in logs], [log.evaluation.loss for log in logs])\n",
    "plt.xlabel(\"Number of trees\")\n",
    "plt.ylabel(\"Logloss (out-of-bag)\")\n",
    "\n",
    "plt.show()"
   ]
  },
  {
   "cell_type": "code",
   "execution_count": 43,
   "metadata": {
    "colab": {
     "base_uri": "https://localhost:8080/"
    },
    "id": "zTUNrgNrFYWB",
    "outputId": "8e146011-dbb9-43d3-f5c1-281d3cab627e"
   },
   "outputs": [
    {
     "name": "stdout",
     "output_type": "stream",
     "text": [
      "40/40 [==============================] - 1s 11ms/step - loss: 0.0000e+00 - accuracy: 0.7678 - auc: 0.8019\n",
      "\n",
      "loss: 0.0000\n",
      "accuracy: 0.7678\n",
      "auc: 0.8019\n"
     ]
    }
   ],
   "source": [
    "evaluation = model_3.evaluate(tfds_valid, return_dict=True)\n",
    "print()\n",
    "\n",
    "for name, value in evaluation.items():\n",
    "  print(f\"{name}: {value:.4f}\")"
   ]
  },
  {
   "cell_type": "code",
   "execution_count": 44,
   "metadata": {
    "id": "2PxkOhNE3l8F"
   },
   "outputs": [],
   "source": [
    "if NOTIFY_STATUS: status_notify(\"Task 3 - Train and Evaluate Models completed! \"+datetime.now().strftime('%a %B %d, %Y %I:%M:%S %p'))"
   ]
  },
  {
   "cell_type": "markdown",
   "metadata": {
    "id": "6eoZMATmHhYb"
   },
   "source": [
    "## Task 4 - Fine-tune and Improve Models"
   ]
  },
  {
   "cell_type": "code",
   "execution_count": 45,
   "metadata": {
    "id": "LHifdfchHxFw"
   },
   "outputs": [],
   "source": [
    "if NOTIFY_STATUS: status_notify(\"Task 4 - Fine-tune and Improve Models has begun! \"+datetime.now().strftime('%a %B %d, %Y %I:%M:%S %p'))"
   ]
  },
  {
   "cell_type": "code",
   "execution_count": 46,
   "metadata": {
    "colab": {
     "base_uri": "https://localhost:8080/"
    },
    "id": "Rw0zOh9TIAxz",
    "outputId": "efbdf5dc-d63b-4407-8e21-75689f3fcbf8"
   },
   "outputs": [
    {
     "name": "stdout",
     "output_type": "stream",
     "text": [
      "Modeling with the num_trees parameter set to 300\n"
     ]
    },
    {
     "name": "stderr",
     "output_type": "stream",
     "text": [
      "[INFO kernel.cc:736] Start Yggdrasil model training\n",
      "[INFO kernel.cc:737] Collect training examples\n",
      "[INFO kernel.cc:392] Number of batches: 159\n",
      "[INFO kernel.cc:393] Number of examples: 10147\n",
      "[INFO kernel.cc:759] Dataset:\n",
      "Number of records: 10147\n",
      "Number of columns: 23\n",
      "\n",
      "Number of columns by type:\n",
      "\tCATEGORICAL: 18 (78.2609%)\n",
      "\tNUMERICAL: 5 (21.7391%)\n",
      "\n",
      "Columns:\n",
      "\n",
      "CATEGORICAL: 18 (78.2609%)\n",
      "\t0: \"Bar\" CATEGORICAL num-nas:80 (0.78841%) has-dict vocab-size:6 zero-ood-items most-frequent:\"never\" 4181 (41.5317%)\n",
      "\t1: \"CarryAway\" CATEGORICAL num-nas:115 (1.13334%) has-dict vocab-size:6 zero-ood-items most-frequent:\"1~3\" 3711 (36.9916%)\n",
      "\t2: \"CoffeeHouse\" CATEGORICAL num-nas:161 (1.58668%) has-dict vocab-size:6 zero-ood-items most-frequent:\"less1\" 2720 (27.2381%)\n",
      "\t3: \"Restaurant20To50\" CATEGORICAL num-nas:154 (1.51769%) has-dict vocab-size:6 zero-ood-items most-frequent:\"less1\" 4886 (48.8942%)\n",
      "\t4: \"RestaurantLessThan20\" CATEGORICAL num-nas:100 (0.985513%) has-dict vocab-size:6 zero-ood-items most-frequent:\"1~3\" 4284 (42.6396%)\n",
      "\t5: \"age\" CATEGORICAL has-dict vocab-size:9 zero-ood-items most-frequent:\"21\" 2133 (21.021%)\n",
      "\t6: \"coupon\" CATEGORICAL has-dict vocab-size:6 zero-ood-items most-frequent:\"Coffee House\" 3226 (31.7926%)\n",
      "\t7: \"destination\" CATEGORICAL has-dict vocab-size:4 zero-ood-items most-frequent:\"No Urgent Place\" 5015 (49.4235%)\n",
      "\t9: \"education\" CATEGORICAL has-dict vocab-size:7 zero-ood-items most-frequent:\"Some college - no degree\" 3514 (34.6309%)\n",
      "\t10: \"expiration\" CATEGORICAL has-dict vocab-size:3 zero-ood-items most-frequent:\"1d\" 5656 (55.7406%)\n",
      "\t11: \"gender\" CATEGORICAL has-dict vocab-size:3 zero-ood-items most-frequent:\"Female\" 5189 (51.1383%)\n",
      "\t13: \"income\" CATEGORICAL has-dict vocab-size:10 zero-ood-items most-frequent:\"$25000 - $37499\" 1601 (15.7781%)\n",
      "\t14: \"maritalStatus\" CATEGORICAL has-dict vocab-size:6 zero-ood-items most-frequent:\"Married partner\" 4046 (39.8739%)\n",
      "\t15: \"occupation\" CATEGORICAL has-dict vocab-size:26 zero-ood-items most-frequent:\"Unemployed\" 1495 (14.7334%)\n",
      "\t16: \"passanger\" CATEGORICAL has-dict vocab-size:5 zero-ood-items most-frequent:\"Alone\" 5861 (57.7609%)\n",
      "\t18: \"time\" CATEGORICAL has-dict vocab-size:6 zero-ood-items most-frequent:\"6PM\" 2586 (25.4854%)\n",
      "\t21: \"weather\" CATEGORICAL has-dict vocab-size:4 zero-ood-items most-frequent:\"Sunny\" 8025 (79.0874%)\n",
      "\t22: \"__LABEL\" CATEGORICAL integerized vocab-size:3 no-ood-item\n",
      "\n",
      "NUMERICAL: 5 (21.7391%)\n",
      "\t8: \"direction_same\" NUMERICAL mean:0.215532 min:0 max:1 sd:0.411191\n",
      "\t12: \"has_children\" NUMERICAL mean:0.414507 min:0 max:1 sd:0.492637\n",
      "\t17: \"temperature\" NUMERICAL mean:63.2216 min:30 max:80 sd:19.1978\n",
      "\t19: \"toCoupon_GEQ15min\" NUMERICAL mean:0.562137 min:0 max:1 sd:0.496124\n",
      "\t20: \"toCoupon_GEQ25min\" NUMERICAL mean:0.120331 min:0 max:1 sd:0.325348\n",
      "\n",
      "Terminology:\n",
      "\tnas: Number of non-available (i.e. missing) values.\n",
      "\tood: Out of dictionary.\n",
      "\tmanually-defined: Attribute which type is manually defined by the user i.e. the type was not automatically inferred.\n",
      "\ttokenized: The attribute value is obtained through tokenization.\n",
      "\thas-dict: The attribute is attached to a string dictionary e.g. a categorical attribute stored as a string.\n",
      "\tvocab-size: Number of unique values.\n",
      "\n",
      "[INFO kernel.cc:762] Configure learner\n",
      "[WARNING gradient_boosted_trees.cc:1643] Subsample hyperparameter given but sampling method does not match.\n",
      "[WARNING gradient_boosted_trees.cc:1656] GOSS alpha hyperparameter given but GOSS is disabled.\n",
      "[WARNING gradient_boosted_trees.cc:1665] GOSS beta hyperparameter given but GOSS is disabled.\n",
      "[WARNING gradient_boosted_trees.cc:1677] SelGB ratio hyperparameter given but SelGB is disabled.\n",
      "[INFO kernel.cc:787] Training config:\n",
      "learner: \"GRADIENT_BOOSTED_TREES\"\n",
      "features: \"Bar\"\n",
      "features: \"CarryAway\"\n",
      "features: \"CoffeeHouse\"\n",
      "features: \"Restaurant20To50\"\n",
      "features: \"RestaurantLessThan20\"\n",
      "features: \"age\"\n",
      "features: \"coupon\"\n",
      "features: \"destination\"\n",
      "features: \"direction_same\"\n",
      "features: \"education\"\n",
      "features: \"expiration\"\n",
      "features: \"gender\"\n",
      "features: \"has_children\"\n",
      "features: \"income\"\n",
      "features: \"maritalStatus\"\n",
      "features: \"occupation\"\n",
      "features: \"passanger\"\n",
      "features: \"temperature\"\n",
      "features: \"time\"\n",
      "features: \"toCoupon_GEQ15min\"\n",
      "features: \"toCoupon_GEQ25min\"\n",
      "features: \"weather\"\n",
      "label: \"__LABEL\"\n",
      "task: CLASSIFICATION\n",
      "[yggdrasil_decision_forests.model.gradient_boosted_trees.proto.gradient_boosted_trees_config] {\n",
      "  num_trees: 300\n",
      "  decision_tree {\n",
      "    max_depth: 6\n",
      "    min_examples: 5\n",
      "    in_split_min_examples_check: true\n",
      "    missing_value_policy: GLOBAL_IMPUTATION\n",
      "    allow_na_conditions: false\n",
      "    categorical_set_greedy_forward {\n",
      "      sampling: 0.1\n",
      "      max_num_items: -1\n",
      "      min_item_frequency: 1\n",
      "    }\n",
      "    growing_strategy_local {\n",
      "    }\n",
      "    categorical {\n",
      "      cart {\n",
      "      }\n",
      "    }\n",
      "    num_candidate_attributes_ratio: -1\n",
      "    axis_aligned_split {\n",
      "    }\n",
      "    internal {\n",
      "      sorting_strategy: PRESORTED\n",
      "    }\n",
      "  }\n",
      "  shrinkage: 0.1\n",
      "  validation_set_ratio: 0.1\n",
      "  early_stopping: VALIDATION_LOSS_INCREASE\n",
      "  early_stopping_num_trees_look_ahead: 30\n",
      "  l2_regularization: 0\n",
      "  lambda_loss: 1\n",
      "  mart {\n",
      "  }\n",
      "  adapt_subsample_for_maximum_training_duration: false\n",
      "  l1_regularization: 0\n",
      "  use_hessian_gain: false\n",
      "  l2_regularization_categorical: 1\n",
      "  apply_link_function: true\n",
      "  compute_permutation_variable_importance: false\n",
      "}\n",
      "\n",
      "[INFO kernel.cc:790] Deployment config:\n",
      "num_threads: 6\n",
      "\n",
      "[INFO kernel.cc:817] Train model\n",
      "[INFO gradient_boosted_trees.cc:404] Default loss set to BINOMIAL_LOG_LIKELIHOOD\n",
      "[INFO gradient_boosted_trees.cc:1001] Training gradient boosted tree on 10147 example(s) and 22 feature(s).\n",
      "[INFO gradient_boosted_trees.cc:1044] 9159 examples used for training and 988 examples used for validation\n",
      "[INFO gradient_boosted_trees.cc:1426] \tnum-trees:1 train-loss:1.337243 train-accuracy:0.570259 valid-loss:1.345140 valid-accuracy:0.559717\n",
      "[INFO gradient_boosted_trees.cc:2740] Early stop of the training because the validation loss does not decrease anymore. Best valid-loss: 1.02299\n",
      "[INFO gradient_boosted_trees.cc:229] Truncates the model to 182 tree(s) i.e. 182  iteration(s).\n",
      "[INFO gradient_boosted_trees.cc:263] Final model num-trees:182 valid-loss:1.022987 valid-accuracy:0.736842\n",
      "[INFO kernel.cc:828] Export model in log directory: /tmp/tmpmfmdmboy\n",
      "[INFO kernel.cc:836] Save model in resources\n",
      "[INFO kernel.cc:988] Loading model from path\n",
      "[INFO abstract_model.cc:993] Engine \"GradientBoostedTreesQuickScorerExtended\" built\n",
      "[INFO kernel.cc:848] Use fast generic engine\n"
     ]
    },
    {
     "name": "stdout",
     "output_type": "stream",
     "text": [
      "\n",
      "Modeling with the num_trees parameter set to 500\n"
     ]
    },
    {
     "name": "stderr",
     "output_type": "stream",
     "text": [
      "[INFO kernel.cc:736] Start Yggdrasil model training\n",
      "[INFO kernel.cc:737] Collect training examples\n",
      "[INFO kernel.cc:392] Number of batches: 159\n",
      "[INFO kernel.cc:393] Number of examples: 10147\n",
      "[INFO kernel.cc:759] Dataset:\n",
      "Number of records: 10147\n",
      "Number of columns: 23\n",
      "\n",
      "Number of columns by type:\n",
      "\tCATEGORICAL: 18 (78.2609%)\n",
      "\tNUMERICAL: 5 (21.7391%)\n",
      "\n",
      "Columns:\n",
      "\n",
      "CATEGORICAL: 18 (78.2609%)\n",
      "\t0: \"Bar\" CATEGORICAL num-nas:80 (0.78841%) has-dict vocab-size:6 zero-ood-items most-frequent:\"never\" 4181 (41.5317%)\n",
      "\t1: \"CarryAway\" CATEGORICAL num-nas:115 (1.13334%) has-dict vocab-size:6 zero-ood-items most-frequent:\"1~3\" 3711 (36.9916%)\n",
      "\t2: \"CoffeeHouse\" CATEGORICAL num-nas:161 (1.58668%) has-dict vocab-size:6 zero-ood-items most-frequent:\"less1\" 2720 (27.2381%)\n",
      "\t3: \"Restaurant20To50\" CATEGORICAL num-nas:154 (1.51769%) has-dict vocab-size:6 zero-ood-items most-frequent:\"less1\" 4886 (48.8942%)\n",
      "\t4: \"RestaurantLessThan20\" CATEGORICAL num-nas:100 (0.985513%) has-dict vocab-size:6 zero-ood-items most-frequent:\"1~3\" 4284 (42.6396%)\n",
      "\t5: \"age\" CATEGORICAL has-dict vocab-size:9 zero-ood-items most-frequent:\"21\" 2133 (21.021%)\n",
      "\t6: \"coupon\" CATEGORICAL has-dict vocab-size:6 zero-ood-items most-frequent:\"Coffee House\" 3226 (31.7926%)\n",
      "\t7: \"destination\" CATEGORICAL has-dict vocab-size:4 zero-ood-items most-frequent:\"No Urgent Place\" 5015 (49.4235%)\n",
      "\t9: \"education\" CATEGORICAL has-dict vocab-size:7 zero-ood-items most-frequent:\"Some college - no degree\" 3514 (34.6309%)\n",
      "\t10: \"expiration\" CATEGORICAL has-dict vocab-size:3 zero-ood-items most-frequent:\"1d\" 5656 (55.7406%)\n",
      "\t11: \"gender\" CATEGORICAL has-dict vocab-size:3 zero-ood-items most-frequent:\"Female\" 5189 (51.1383%)\n",
      "\t13: \"income\" CATEGORICAL has-dict vocab-size:10 zero-ood-items most-frequent:\"$25000 - $37499\" 1601 (15.7781%)\n",
      "\t14: \"maritalStatus\" CATEGORICAL has-dict vocab-size:6 zero-ood-items most-frequent:\"Married partner\" 4046 (39.8739%)\n",
      "\t15: \"occupation\" CATEGORICAL has-dict vocab-size:26 zero-ood-items most-frequent:\"Unemployed\" 1495 (14.7334%)\n",
      "\t16: \"passanger\" CATEGORICAL has-dict vocab-size:5 zero-ood-items most-frequent:\"Alone\" 5861 (57.7609%)\n",
      "\t18: \"time\" CATEGORICAL has-dict vocab-size:6 zero-ood-items most-frequent:\"6PM\" 2586 (25.4854%)\n",
      "\t21: \"weather\" CATEGORICAL has-dict vocab-size:4 zero-ood-items most-frequent:\"Sunny\" 8025 (79.0874%)\n",
      "\t22: \"__LABEL\" CATEGORICAL integerized vocab-size:3 no-ood-item\n",
      "\n",
      "NUMERICAL: 5 (21.7391%)\n",
      "\t8: \"direction_same\" NUMERICAL mean:0.215532 min:0 max:1 sd:0.411191\n",
      "\t12: \"has_children\" NUMERICAL mean:0.414507 min:0 max:1 sd:0.492637\n",
      "\t17: \"temperature\" NUMERICAL mean:63.2216 min:30 max:80 sd:19.1978\n",
      "\t19: \"toCoupon_GEQ15min\" NUMERICAL mean:0.562137 min:0 max:1 sd:0.496124\n",
      "\t20: \"toCoupon_GEQ25min\" NUMERICAL mean:0.120331 min:0 max:1 sd:0.325348\n",
      "\n",
      "Terminology:\n",
      "\tnas: Number of non-available (i.e. missing) values.\n",
      "\tood: Out of dictionary.\n",
      "\tmanually-defined: Attribute which type is manually defined by the user i.e. the type was not automatically inferred.\n",
      "\ttokenized: The attribute value is obtained through tokenization.\n",
      "\thas-dict: The attribute is attached to a string dictionary e.g. a categorical attribute stored as a string.\n",
      "\tvocab-size: Number of unique values.\n",
      "\n",
      "[INFO kernel.cc:762] Configure learner\n",
      "[WARNING gradient_boosted_trees.cc:1643] Subsample hyperparameter given but sampling method does not match.\n",
      "[WARNING gradient_boosted_trees.cc:1656] GOSS alpha hyperparameter given but GOSS is disabled.\n",
      "[WARNING gradient_boosted_trees.cc:1665] GOSS beta hyperparameter given but GOSS is disabled.\n",
      "[WARNING gradient_boosted_trees.cc:1677] SelGB ratio hyperparameter given but SelGB is disabled.\n",
      "[INFO kernel.cc:787] Training config:\n",
      "learner: \"GRADIENT_BOOSTED_TREES\"\n",
      "features: \"Bar\"\n",
      "features: \"CarryAway\"\n",
      "features: \"CoffeeHouse\"\n",
      "features: \"Restaurant20To50\"\n",
      "features: \"RestaurantLessThan20\"\n",
      "features: \"age\"\n",
      "features: \"coupon\"\n",
      "features: \"destination\"\n",
      "features: \"direction_same\"\n",
      "features: \"education\"\n",
      "features: \"expiration\"\n",
      "features: \"gender\"\n",
      "features: \"has_children\"\n",
      "features: \"income\"\n",
      "features: \"maritalStatus\"\n",
      "features: \"occupation\"\n",
      "features: \"passanger\"\n",
      "features: \"temperature\"\n",
      "features: \"time\"\n",
      "features: \"toCoupon_GEQ15min\"\n",
      "features: \"toCoupon_GEQ25min\"\n",
      "features: \"weather\"\n",
      "label: \"__LABEL\"\n",
      "task: CLASSIFICATION\n",
      "[yggdrasil_decision_forests.model.gradient_boosted_trees.proto.gradient_boosted_trees_config] {\n",
      "  num_trees: 500\n",
      "  decision_tree {\n",
      "    max_depth: 6\n",
      "    min_examples: 5\n",
      "    in_split_min_examples_check: true\n",
      "    missing_value_policy: GLOBAL_IMPUTATION\n",
      "    allow_na_conditions: false\n",
      "    categorical_set_greedy_forward {\n",
      "      sampling: 0.1\n",
      "      max_num_items: -1\n",
      "      min_item_frequency: 1\n",
      "    }\n",
      "    growing_strategy_local {\n",
      "    }\n",
      "    categorical {\n",
      "      cart {\n",
      "      }\n",
      "    }\n",
      "    num_candidate_attributes_ratio: -1\n",
      "    axis_aligned_split {\n",
      "    }\n",
      "    internal {\n",
      "      sorting_strategy: PRESORTED\n",
      "    }\n",
      "  }\n",
      "  shrinkage: 0.1\n",
      "  validation_set_ratio: 0.1\n",
      "  early_stopping: VALIDATION_LOSS_INCREASE\n",
      "  early_stopping_num_trees_look_ahead: 30\n",
      "  l2_regularization: 0\n",
      "  lambda_loss: 1\n",
      "  mart {\n",
      "  }\n",
      "  adapt_subsample_for_maximum_training_duration: false\n",
      "  l1_regularization: 0\n",
      "  use_hessian_gain: false\n",
      "  l2_regularization_categorical: 1\n",
      "  apply_link_function: true\n",
      "  compute_permutation_variable_importance: false\n",
      "}\n",
      "\n",
      "[INFO kernel.cc:790] Deployment config:\n",
      "num_threads: 6\n",
      "\n",
      "[INFO kernel.cc:817] Train model\n",
      "[INFO gradient_boosted_trees.cc:404] Default loss set to BINOMIAL_LOG_LIKELIHOOD\n",
      "[INFO gradient_boosted_trees.cc:1001] Training gradient boosted tree on 10147 example(s) and 22 feature(s).\n",
      "[INFO gradient_boosted_trees.cc:1044] 9159 examples used for training and 988 examples used for validation\n",
      "[INFO gradient_boosted_trees.cc:1426] \tnum-trees:1 train-loss:1.337243 train-accuracy:0.570259 valid-loss:1.345140 valid-accuracy:0.559717\n",
      "[INFO gradient_boosted_trees.cc:2740] Early stop of the training because the validation loss does not decrease anymore. Best valid-loss: 1.02299\n",
      "[INFO gradient_boosted_trees.cc:229] Truncates the model to 182 tree(s) i.e. 182  iteration(s).\n",
      "[INFO gradient_boosted_trees.cc:263] Final model num-trees:182 valid-loss:1.022987 valid-accuracy:0.736842\n",
      "[INFO kernel.cc:828] Export model in log directory: /tmp/tmpbzh__3yb\n",
      "[INFO kernel.cc:836] Save model in resources\n",
      "[INFO kernel.cc:988] Loading model from path\n"
     ]
    },
    {
     "name": "stdout",
     "output_type": "stream",
     "text": [
      "WARNING:tensorflow:5 out of the last 5 calls to <function CoreModel.make_predict_function.<locals>.predict_function_trained at 0x7f9860ac9f70> triggered tf.function retracing. Tracing is expensive and the excessive number of tracings could be due to (1) creating @tf.function repeatedly in a loop, (2) passing tensors with different shapes, (3) passing Python objects instead of tensors. For (1), please define your @tf.function outside of the loop. For (2), @tf.function has experimental_relax_shapes=True option that relaxes argument shapes that can avoid unnecessary retracing. For (3), please refer to https://www.tensorflow.org/guide/function#controlling_retracing and https://www.tensorflow.org/api_docs/python/tf/function for  more details.\n"
     ]
    },
    {
     "name": "stderr",
     "output_type": "stream",
     "text": [
      "[INFO kernel.cc:848] Use fast generic engine\n",
      "WARNING:tensorflow:5 out of the last 5 calls to <function CoreModel.make_predict_function.<locals>.predict_function_trained at 0x7f9860ac9f70> triggered tf.function retracing. Tracing is expensive and the excessive number of tracings could be due to (1) creating @tf.function repeatedly in a loop, (2) passing tensors with different shapes, (3) passing Python objects instead of tensors. For (1), please define your @tf.function outside of the loop. For (2), @tf.function has experimental_relax_shapes=True option that relaxes argument shapes that can avoid unnecessary retracing. For (3), please refer to https://www.tensorflow.org/guide/function#controlling_retracing and https://www.tensorflow.org/api_docs/python/tf/function for  more details.\n"
     ]
    },
    {
     "name": "stdout",
     "output_type": "stream",
     "text": [
      "\n",
      "Modeling with the num_trees parameter set to 750\n"
     ]
    },
    {
     "name": "stderr",
     "output_type": "stream",
     "text": [
      "[INFO kernel.cc:736] Start Yggdrasil model training\n",
      "[INFO kernel.cc:737] Collect training examples\n",
      "[INFO kernel.cc:392] Number of batches: 159\n",
      "[INFO kernel.cc:393] Number of examples: 10147\n",
      "[INFO kernel.cc:759] Dataset:\n",
      "Number of records: 10147\n",
      "Number of columns: 23\n",
      "\n",
      "Number of columns by type:\n",
      "\tCATEGORICAL: 18 (78.2609%)\n",
      "\tNUMERICAL: 5 (21.7391%)\n",
      "\n",
      "Columns:\n",
      "\n",
      "CATEGORICAL: 18 (78.2609%)\n",
      "\t0: \"Bar\" CATEGORICAL num-nas:80 (0.78841%) has-dict vocab-size:6 zero-ood-items most-frequent:\"never\" 4181 (41.5317%)\n",
      "\t1: \"CarryAway\" CATEGORICAL num-nas:115 (1.13334%) has-dict vocab-size:6 zero-ood-items most-frequent:\"1~3\" 3711 (36.9916%)\n",
      "\t2: \"CoffeeHouse\" CATEGORICAL num-nas:161 (1.58668%) has-dict vocab-size:6 zero-ood-items most-frequent:\"less1\" 2720 (27.2381%)\n",
      "\t3: \"Restaurant20To50\" CATEGORICAL num-nas:154 (1.51769%) has-dict vocab-size:6 zero-ood-items most-frequent:\"less1\" 4886 (48.8942%)\n",
      "\t4: \"RestaurantLessThan20\" CATEGORICAL num-nas:100 (0.985513%) has-dict vocab-size:6 zero-ood-items most-frequent:\"1~3\" 4284 (42.6396%)\n",
      "\t5: \"age\" CATEGORICAL has-dict vocab-size:9 zero-ood-items most-frequent:\"21\" 2133 (21.021%)\n",
      "\t6: \"coupon\" CATEGORICAL has-dict vocab-size:6 zero-ood-items most-frequent:\"Coffee House\" 3226 (31.7926%)\n",
      "\t7: \"destination\" CATEGORICAL has-dict vocab-size:4 zero-ood-items most-frequent:\"No Urgent Place\" 5015 (49.4235%)\n",
      "\t9: \"education\" CATEGORICAL has-dict vocab-size:7 zero-ood-items most-frequent:\"Some college - no degree\" 3514 (34.6309%)\n",
      "\t10: \"expiration\" CATEGORICAL has-dict vocab-size:3 zero-ood-items most-frequent:\"1d\" 5656 (55.7406%)\n",
      "\t11: \"gender\" CATEGORICAL has-dict vocab-size:3 zero-ood-items most-frequent:\"Female\" 5189 (51.1383%)\n",
      "\t13: \"income\" CATEGORICAL has-dict vocab-size:10 zero-ood-items most-frequent:\"$25000 - $37499\" 1601 (15.7781%)\n",
      "\t14: \"maritalStatus\" CATEGORICAL has-dict vocab-size:6 zero-ood-items most-frequent:\"Married partner\" 4046 (39.8739%)\n",
      "\t15: \"occupation\" CATEGORICAL has-dict vocab-size:26 zero-ood-items most-frequent:\"Unemployed\" 1495 (14.7334%)\n",
      "\t16: \"passanger\" CATEGORICAL has-dict vocab-size:5 zero-ood-items most-frequent:\"Alone\" 5861 (57.7609%)\n",
      "\t18: \"time\" CATEGORICAL has-dict vocab-size:6 zero-ood-items most-frequent:\"6PM\" 2586 (25.4854%)\n",
      "\t21: \"weather\" CATEGORICAL has-dict vocab-size:4 zero-ood-items most-frequent:\"Sunny\" 8025 (79.0874%)\n",
      "\t22: \"__LABEL\" CATEGORICAL integerized vocab-size:3 no-ood-item\n",
      "\n",
      "NUMERICAL: 5 (21.7391%)\n",
      "\t8: \"direction_same\" NUMERICAL mean:0.215532 min:0 max:1 sd:0.411191\n",
      "\t12: \"has_children\" NUMERICAL mean:0.414507 min:0 max:1 sd:0.492637\n",
      "\t17: \"temperature\" NUMERICAL mean:63.2216 min:30 max:80 sd:19.1978\n",
      "\t19: \"toCoupon_GEQ15min\" NUMERICAL mean:0.562137 min:0 max:1 sd:0.496124\n",
      "\t20: \"toCoupon_GEQ25min\" NUMERICAL mean:0.120331 min:0 max:1 sd:0.325348\n",
      "\n",
      "Terminology:\n",
      "\tnas: Number of non-available (i.e. missing) values.\n",
      "\tood: Out of dictionary.\n",
      "\tmanually-defined: Attribute which type is manually defined by the user i.e. the type was not automatically inferred.\n",
      "\ttokenized: The attribute value is obtained through tokenization.\n",
      "\thas-dict: The attribute is attached to a string dictionary e.g. a categorical attribute stored as a string.\n",
      "\tvocab-size: Number of unique values.\n",
      "\n",
      "[INFO kernel.cc:762] Configure learner\n",
      "[WARNING gradient_boosted_trees.cc:1643] Subsample hyperparameter given but sampling method does not match.\n",
      "[WARNING gradient_boosted_trees.cc:1656] GOSS alpha hyperparameter given but GOSS is disabled.\n",
      "[WARNING gradient_boosted_trees.cc:1665] GOSS beta hyperparameter given but GOSS is disabled.\n",
      "[WARNING gradient_boosted_trees.cc:1677] SelGB ratio hyperparameter given but SelGB is disabled.\n",
      "[INFO kernel.cc:787] Training config:\n",
      "learner: \"GRADIENT_BOOSTED_TREES\"\n",
      "features: \"Bar\"\n",
      "features: \"CarryAway\"\n",
      "features: \"CoffeeHouse\"\n",
      "features: \"Restaurant20To50\"\n",
      "features: \"RestaurantLessThan20\"\n",
      "features: \"age\"\n",
      "features: \"coupon\"\n",
      "features: \"destination\"\n",
      "features: \"direction_same\"\n",
      "features: \"education\"\n",
      "features: \"expiration\"\n",
      "features: \"gender\"\n",
      "features: \"has_children\"\n",
      "features: \"income\"\n",
      "features: \"maritalStatus\"\n",
      "features: \"occupation\"\n",
      "features: \"passanger\"\n",
      "features: \"temperature\"\n",
      "features: \"time\"\n",
      "features: \"toCoupon_GEQ15min\"\n",
      "features: \"toCoupon_GEQ25min\"\n",
      "features: \"weather\"\n",
      "label: \"__LABEL\"\n",
      "task: CLASSIFICATION\n",
      "[yggdrasil_decision_forests.model.gradient_boosted_trees.proto.gradient_boosted_trees_config] {\n",
      "  num_trees: 750\n",
      "  decision_tree {\n",
      "    max_depth: 6\n",
      "    min_examples: 5\n",
      "    in_split_min_examples_check: true\n",
      "    missing_value_policy: GLOBAL_IMPUTATION\n",
      "    allow_na_conditions: false\n",
      "    categorical_set_greedy_forward {\n",
      "      sampling: 0.1\n",
      "      max_num_items: -1\n",
      "      min_item_frequency: 1\n",
      "    }\n",
      "    growing_strategy_local {\n",
      "    }\n",
      "    categorical {\n",
      "      cart {\n",
      "      }\n",
      "    }\n",
      "    num_candidate_attributes_ratio: -1\n",
      "    axis_aligned_split {\n",
      "    }\n",
      "    internal {\n",
      "      sorting_strategy: PRESORTED\n",
      "    }\n",
      "  }\n",
      "  shrinkage: 0.1\n",
      "  validation_set_ratio: 0.1\n",
      "  early_stopping: VALIDATION_LOSS_INCREASE\n",
      "  early_stopping_num_trees_look_ahead: 30\n",
      "  l2_regularization: 0\n",
      "  lambda_loss: 1\n",
      "  mart {\n",
      "  }\n",
      "  adapt_subsample_for_maximum_training_duration: false\n",
      "  l1_regularization: 0\n",
      "  use_hessian_gain: false\n",
      "  l2_regularization_categorical: 1\n",
      "  apply_link_function: true\n",
      "  compute_permutation_variable_importance: false\n",
      "}\n",
      "\n",
      "[INFO kernel.cc:790] Deployment config:\n",
      "num_threads: 6\n",
      "\n",
      "[INFO kernel.cc:817] Train model\n",
      "[INFO gradient_boosted_trees.cc:404] Default loss set to BINOMIAL_LOG_LIKELIHOOD\n",
      "[INFO gradient_boosted_trees.cc:1001] Training gradient boosted tree on 10147 example(s) and 22 feature(s).\n",
      "[INFO gradient_boosted_trees.cc:1044] 9159 examples used for training and 988 examples used for validation\n",
      "[INFO gradient_boosted_trees.cc:1426] \tnum-trees:1 train-loss:1.337243 train-accuracy:0.570259 valid-loss:1.345140 valid-accuracy:0.559717\n",
      "[INFO gradient_boosted_trees.cc:1428] \tnum-trees:189 train-loss:0.652851 train-accuracy:0.885468 valid-loss:1.024601 valid-accuracy:0.738866\n",
      "[INFO gradient_boosted_trees.cc:2740] Early stop of the training because the validation loss does not decrease anymore. Best valid-loss: 1.02299\n",
      "[INFO gradient_boosted_trees.cc:229] Truncates the model to 182 tree(s) i.e. 182  iteration(s).\n",
      "[INFO gradient_boosted_trees.cc:263] Final model num-trees:182 valid-loss:1.022987 valid-accuracy:0.736842\n",
      "[INFO kernel.cc:828] Export model in log directory: /tmp/tmpgwr3_vzl\n",
      "[INFO kernel.cc:836] Save model in resources\n",
      "[INFO kernel.cc:988] Loading model from path\n",
      "[INFO abstract_model.cc:993] Engine \"GradientBoostedTreesQuickScorerExtended\" built\n",
      "[INFO kernel.cc:848] Use fast generic engine\n"
     ]
    },
    {
     "name": "stdout",
     "output_type": "stream",
     "text": [
      "WARNING:tensorflow:6 out of the last 6 calls to <function CoreModel.make_predict_function.<locals>.predict_function_trained at 0x7f986087ea60> triggered tf.function retracing. Tracing is expensive and the excessive number of tracings could be due to (1) creating @tf.function repeatedly in a loop, (2) passing tensors with different shapes, (3) passing Python objects instead of tensors. For (1), please define your @tf.function outside of the loop. For (2), @tf.function has experimental_relax_shapes=True option that relaxes argument shapes that can avoid unnecessary retracing. For (3), please refer to https://www.tensorflow.org/guide/function#controlling_retracing and https://www.tensorflow.org/api_docs/python/tf/function for  more details.\n"
     ]
    },
    {
     "name": "stderr",
     "output_type": "stream",
     "text": [
      "WARNING:tensorflow:6 out of the last 6 calls to <function CoreModel.make_predict_function.<locals>.predict_function_trained at 0x7f986087ea60> triggered tf.function retracing. Tracing is expensive and the excessive number of tracings could be due to (1) creating @tf.function repeatedly in a loop, (2) passing tensors with different shapes, (3) passing Python objects instead of tensors. For (1), please define your @tf.function outside of the loop. For (2), @tf.function has experimental_relax_shapes=True option that relaxes argument shapes that can avoid unnecessary retracing. For (3), please refer to https://www.tensorflow.org/guide/function#controlling_retracing and https://www.tensorflow.org/api_docs/python/tf/function for  more details.\n"
     ]
    },
    {
     "name": "stdout",
     "output_type": "stream",
     "text": [
      "\n",
      "Modeling with the num_trees parameter set to 1000\n"
     ]
    },
    {
     "name": "stderr",
     "output_type": "stream",
     "text": [
      "[INFO kernel.cc:736] Start Yggdrasil model training\n",
      "[INFO kernel.cc:737] Collect training examples\n",
      "[INFO kernel.cc:392] Number of batches: 159\n",
      "[INFO kernel.cc:393] Number of examples: 10147\n",
      "[INFO kernel.cc:759] Dataset:\n",
      "Number of records: 10147\n",
      "Number of columns: 23\n",
      "\n",
      "Number of columns by type:\n",
      "\tCATEGORICAL: 18 (78.2609%)\n",
      "\tNUMERICAL: 5 (21.7391%)\n",
      "\n",
      "Columns:\n",
      "\n",
      "CATEGORICAL: 18 (78.2609%)\n",
      "\t0: \"Bar\" CATEGORICAL num-nas:80 (0.78841%) has-dict vocab-size:6 zero-ood-items most-frequent:\"never\" 4181 (41.5317%)\n",
      "\t1: \"CarryAway\" CATEGORICAL num-nas:115 (1.13334%) has-dict vocab-size:6 zero-ood-items most-frequent:\"1~3\" 3711 (36.9916%)\n",
      "\t2: \"CoffeeHouse\" CATEGORICAL num-nas:161 (1.58668%) has-dict vocab-size:6 zero-ood-items most-frequent:\"less1\" 2720 (27.2381%)\n",
      "\t3: \"Restaurant20To50\" CATEGORICAL num-nas:154 (1.51769%) has-dict vocab-size:6 zero-ood-items most-frequent:\"less1\" 4886 (48.8942%)\n",
      "\t4: \"RestaurantLessThan20\" CATEGORICAL num-nas:100 (0.985513%) has-dict vocab-size:6 zero-ood-items most-frequent:\"1~3\" 4284 (42.6396%)\n",
      "\t5: \"age\" CATEGORICAL has-dict vocab-size:9 zero-ood-items most-frequent:\"21\" 2133 (21.021%)\n",
      "\t6: \"coupon\" CATEGORICAL has-dict vocab-size:6 zero-ood-items most-frequent:\"Coffee House\" 3226 (31.7926%)\n",
      "\t7: \"destination\" CATEGORICAL has-dict vocab-size:4 zero-ood-items most-frequent:\"No Urgent Place\" 5015 (49.4235%)\n",
      "\t9: \"education\" CATEGORICAL has-dict vocab-size:7 zero-ood-items most-frequent:\"Some college - no degree\" 3514 (34.6309%)\n",
      "\t10: \"expiration\" CATEGORICAL has-dict vocab-size:3 zero-ood-items most-frequent:\"1d\" 5656 (55.7406%)\n",
      "\t11: \"gender\" CATEGORICAL has-dict vocab-size:3 zero-ood-items most-frequent:\"Female\" 5189 (51.1383%)\n",
      "\t13: \"income\" CATEGORICAL has-dict vocab-size:10 zero-ood-items most-frequent:\"$25000 - $37499\" 1601 (15.7781%)\n",
      "\t14: \"maritalStatus\" CATEGORICAL has-dict vocab-size:6 zero-ood-items most-frequent:\"Married partner\" 4046 (39.8739%)\n",
      "\t15: \"occupation\" CATEGORICAL has-dict vocab-size:26 zero-ood-items most-frequent:\"Unemployed\" 1495 (14.7334%)\n",
      "\t16: \"passanger\" CATEGORICAL has-dict vocab-size:5 zero-ood-items most-frequent:\"Alone\" 5861 (57.7609%)\n",
      "\t18: \"time\" CATEGORICAL has-dict vocab-size:6 zero-ood-items most-frequent:\"6PM\" 2586 (25.4854%)\n",
      "\t21: \"weather\" CATEGORICAL has-dict vocab-size:4 zero-ood-items most-frequent:\"Sunny\" 8025 (79.0874%)\n",
      "\t22: \"__LABEL\" CATEGORICAL integerized vocab-size:3 no-ood-item\n",
      "\n",
      "NUMERICAL: 5 (21.7391%)\n",
      "\t8: \"direction_same\" NUMERICAL mean:0.215532 min:0 max:1 sd:0.411191\n",
      "\t12: \"has_children\" NUMERICAL mean:0.414507 min:0 max:1 sd:0.492637\n",
      "\t17: \"temperature\" NUMERICAL mean:63.2216 min:30 max:80 sd:19.1978\n",
      "\t19: \"toCoupon_GEQ15min\" NUMERICAL mean:0.562137 min:0 max:1 sd:0.496124\n",
      "\t20: \"toCoupon_GEQ25min\" NUMERICAL mean:0.120331 min:0 max:1 sd:0.325348\n",
      "\n",
      "Terminology:\n",
      "\tnas: Number of non-available (i.e. missing) values.\n",
      "\tood: Out of dictionary.\n",
      "\tmanually-defined: Attribute which type is manually defined by the user i.e. the type was not automatically inferred.\n",
      "\ttokenized: The attribute value is obtained through tokenization.\n",
      "\thas-dict: The attribute is attached to a string dictionary e.g. a categorical attribute stored as a string.\n",
      "\tvocab-size: Number of unique values.\n",
      "\n",
      "[INFO kernel.cc:762] Configure learner\n",
      "[WARNING gradient_boosted_trees.cc:1643] Subsample hyperparameter given but sampling method does not match.\n",
      "[WARNING gradient_boosted_trees.cc:1656] GOSS alpha hyperparameter given but GOSS is disabled.\n",
      "[WARNING gradient_boosted_trees.cc:1665] GOSS beta hyperparameter given but GOSS is disabled.\n",
      "[WARNING gradient_boosted_trees.cc:1677] SelGB ratio hyperparameter given but SelGB is disabled.\n",
      "[INFO kernel.cc:787] Training config:\n",
      "learner: \"GRADIENT_BOOSTED_TREES\"\n",
      "features: \"Bar\"\n",
      "features: \"CarryAway\"\n",
      "features: \"CoffeeHouse\"\n",
      "features: \"Restaurant20To50\"\n",
      "features: \"RestaurantLessThan20\"\n",
      "features: \"age\"\n",
      "features: \"coupon\"\n",
      "features: \"destination\"\n",
      "features: \"direction_same\"\n",
      "features: \"education\"\n",
      "features: \"expiration\"\n",
      "features: \"gender\"\n",
      "features: \"has_children\"\n",
      "features: \"income\"\n",
      "features: \"maritalStatus\"\n",
      "features: \"occupation\"\n",
      "features: \"passanger\"\n",
      "features: \"temperature\"\n",
      "features: \"time\"\n",
      "features: \"toCoupon_GEQ15min\"\n",
      "features: \"toCoupon_GEQ25min\"\n",
      "features: \"weather\"\n",
      "label: \"__LABEL\"\n",
      "task: CLASSIFICATION\n",
      "[yggdrasil_decision_forests.model.gradient_boosted_trees.proto.gradient_boosted_trees_config] {\n",
      "  num_trees: 1000\n",
      "  decision_tree {\n",
      "    max_depth: 6\n",
      "    min_examples: 5\n",
      "    in_split_min_examples_check: true\n",
      "    missing_value_policy: GLOBAL_IMPUTATION\n",
      "    allow_na_conditions: false\n",
      "    categorical_set_greedy_forward {\n",
      "      sampling: 0.1\n",
      "      max_num_items: -1\n",
      "      min_item_frequency: 1\n",
      "    }\n",
      "    growing_strategy_local {\n",
      "    }\n",
      "    categorical {\n",
      "      cart {\n",
      "      }\n",
      "    }\n",
      "    num_candidate_attributes_ratio: -1\n",
      "    axis_aligned_split {\n",
      "    }\n",
      "    internal {\n",
      "      sorting_strategy: PRESORTED\n",
      "    }\n",
      "  }\n",
      "  shrinkage: 0.1\n",
      "  validation_set_ratio: 0.1\n",
      "  early_stopping: VALIDATION_LOSS_INCREASE\n",
      "  early_stopping_num_trees_look_ahead: 30\n",
      "  l2_regularization: 0\n",
      "  lambda_loss: 1\n",
      "  mart {\n",
      "  }\n",
      "  adapt_subsample_for_maximum_training_duration: false\n",
      "  l1_regularization: 0\n",
      "  use_hessian_gain: false\n",
      "  l2_regularization_categorical: 1\n",
      "  apply_link_function: true\n",
      "  compute_permutation_variable_importance: false\n",
      "}\n",
      "\n",
      "[INFO kernel.cc:790] Deployment config:\n",
      "num_threads: 6\n",
      "\n",
      "[INFO kernel.cc:817] Train model\n",
      "[INFO gradient_boosted_trees.cc:404] Default loss set to BINOMIAL_LOG_LIKELIHOOD\n",
      "[INFO gradient_boosted_trees.cc:1001] Training gradient boosted tree on 10147 example(s) and 22 feature(s).\n",
      "[INFO gradient_boosted_trees.cc:1044] 9159 examples used for training and 988 examples used for validation\n",
      "[INFO gradient_boosted_trees.cc:1426] \tnum-trees:1 train-loss:1.337243 train-accuracy:0.570259 valid-loss:1.345140 valid-accuracy:0.559717\n",
      "[INFO gradient_boosted_trees.cc:2740] Early stop of the training because the validation loss does not decrease anymore. Best valid-loss: 1.02299\n",
      "[INFO gradient_boosted_trees.cc:229] Truncates the model to 182 tree(s) i.e. 182  iteration(s).\n",
      "[INFO gradient_boosted_trees.cc:263] Final model num-trees:182 valid-loss:1.022987 valid-accuracy:0.736842\n",
      "[INFO kernel.cc:828] Export model in log directory: /tmp/tmpdqo2mnfh\n",
      "[INFO kernel.cc:836] Save model in resources\n",
      "[INFO kernel.cc:988] Loading model from path\n",
      "[INFO kernel.cc:848] Use fast generic engine\n"
     ]
    },
    {
     "name": "stdout",
     "output_type": "stream",
     "text": [
      "\n"
     ]
    }
   ],
   "source": [
    "for num_trees in [300, 500, 750, 1000]:\n",
    "    # Define the baseline model for benchmarking\n",
    "    start_time_module = datetime.now()\n",
    "    print('Modeling with the num_trees parameter set to', num_trees)\n",
    "    model_tune = tfdf.keras.GradientBoostedTreesModel(num_trees=num_trees, task=tfdf.keras.Task.CLASSIFICATION)\n",
    "\n",
    "    # Optionally, add evaluation metrics.\n",
    "    model_tune.compile(metrics=DEFAULT_METRICS)\n",
    "\n",
    "    # Train the model.\n",
    "    model_tune.fit(x=tfds_train, verbose=False)\n",
    "    print()\n",
    "\n",
    "#     evaluation = model_tune.evaluate(tfds_valid, return_dict=True)\n",
    "#     print()\n",
    "\n",
    "#     for name, value in evaluation.items():\n",
    "#         print(f\"{name}: {value:.4f}\")\n",
    "#     print ('Model optimization time:', (datetime.now() - start_time_module), '\\n')"
   ]
  },
  {
   "cell_type": "code",
   "execution_count": 47,
   "metadata": {
    "id": "VhvUNeepH1xV"
   },
   "outputs": [],
   "source": [
    "if NOTIFY_STATUS: status_notify(\"Task 4 - Fine-tune and Improve Models completed! \"+datetime.now().strftime('%a %B %d, %Y %I:%M:%S %p'))"
   ]
  },
  {
   "cell_type": "markdown",
   "metadata": {
    "id": "rIRMoNm63l8H"
   },
   "source": [
    "## Task 5 - Finalize Model and Make Predictions"
   ]
  },
  {
   "cell_type": "code",
   "execution_count": 48,
   "metadata": {
    "id": "wgw8i_ME3l8H"
   },
   "outputs": [],
   "source": [
    "if NOTIFY_STATUS: status_notify(\"Task 5 - Finalize Model and Make Predictions has begun! \"+datetime.now().strftime('%a %B %d, %Y %I:%M:%S %p'))"
   ]
  },
  {
   "cell_type": "markdown",
   "metadata": {
    "id": "YsQONLo33l8I"
   },
   "source": [
    "### 5.a) Train the Final Model"
   ]
  },
  {
   "cell_type": "code",
   "execution_count": 49,
   "metadata": {
    "id": "cuTG7YOu9uB2"
   },
   "outputs": [],
   "source": [
    "# Finalize the training and validation datasets for the modeling activities\n",
    "# tfds_train = tfdf.keras.pd_dataframe_to_tf_dataset(df_dataset_import, label='target')"
   ]
  },
  {
   "cell_type": "code",
   "execution_count": 50,
   "metadata": {
    "colab": {
     "base_uri": "https://localhost:8080/"
    },
    "id": "M_4iQYUv9ghF",
    "outputId": "10853848-9cde-4da5-a1d1-0e5084b3c9b5"
   },
   "outputs": [
    {
     "name": "stdout",
     "output_type": "stream",
     "text": [
      "154/159 [============================>.] - ETA: 0s"
     ]
    },
    {
     "name": "stderr",
     "output_type": "stream",
     "text": [
      "[INFO kernel.cc:736] Start Yggdrasil model training\n",
      "[INFO kernel.cc:737] Collect training examples\n",
      "[INFO kernel.cc:392] Number of batches: 159\n",
      "[INFO kernel.cc:393] Number of examples: 10147\n",
      "[INFO kernel.cc:759] Dataset:\n",
      "Number of records: 10147\n",
      "Number of columns: 23\n",
      "\n",
      "Number of columns by type:\n",
      "\tCATEGORICAL: 18 (78.2609%)\n",
      "\tNUMERICAL: 5 (21.7391%)\n",
      "\n",
      "Columns:\n",
      "\n",
      "CATEGORICAL: 18 (78.2609%)\n",
      "\t0: \"Bar\" CATEGORICAL num-nas:80 (0.78841%) has-dict vocab-size:6 zero-ood-items most-frequent:\"never\" 4181 (41.5317%)\n",
      "\t1: \"CarryAway\" CATEGORICAL num-nas:115 (1.13334%) has-dict vocab-size:6 zero-ood-items most-frequent:\"1~3\" 3711 (36.9916%)\n",
      "\t2: \"CoffeeHouse\" CATEGORICAL num-nas:161 (1.58668%) has-dict vocab-size:6 zero-ood-items most-frequent:\"less1\" 2720 (27.2381%)\n",
      "\t3: \"Restaurant20To50\" CATEGORICAL num-nas:154 (1.51769%) has-dict vocab-size:6 zero-ood-items most-frequent:\"less1\" 4886 (48.8942%)\n",
      "\t4: \"RestaurantLessThan20\" CATEGORICAL num-nas:100 (0.985513%) has-dict vocab-size:6 zero-ood-items most-frequent:\"1~3\" 4284 (42.6396%)\n",
      "\t5: \"age\" CATEGORICAL has-dict vocab-size:9 zero-ood-items most-frequent:\"21\" 2133 (21.021%)\n",
      "\t6: \"coupon\" CATEGORICAL has-dict vocab-size:6 zero-ood-items most-frequent:\"Coffee House\" 3226 (31.7926%)\n",
      "\t7: \"destination\" CATEGORICAL has-dict vocab-size:4 zero-ood-items most-frequent:\"No Urgent Place\" 5015 (49.4235%)\n",
      "\t9: \"education\" CATEGORICAL has-dict vocab-size:7 zero-ood-items most-frequent:\"Some college - no degree\" 3514 (34.6309%)\n",
      "\t10: \"expiration\" CATEGORICAL has-dict vocab-size:3 zero-ood-items most-frequent:\"1d\" 5656 (55.7406%)\n",
      "\t11: \"gender\" CATEGORICAL has-dict vocab-size:3 zero-ood-items most-frequent:\"Female\" 5189 (51.1383%)\n",
      "\t13: \"income\" CATEGORICAL has-dict vocab-size:10 zero-ood-items most-frequent:\"$25000 - $37499\" 1601 (15.7781%)\n",
      "\t14: \"maritalStatus\" CATEGORICAL has-dict vocab-size:6 zero-ood-items most-frequent:\"Married partner\" 4046 (39.8739%)\n",
      "\t15: \"occupation\" CATEGORICAL has-dict vocab-size:26 zero-ood-items most-frequent:\"Unemployed\" 1495 (14.7334%)\n",
      "\t16: \"passanger\" CATEGORICAL has-dict vocab-size:5 zero-ood-items most-frequent:\"Alone\" 5861 (57.7609%)\n",
      "\t18: \"time\" CATEGORICAL has-dict vocab-size:6 zero-ood-items most-frequent:\"6PM\" 2586 (25.4854%)\n",
      "\t21: \"weather\" CATEGORICAL has-dict vocab-size:4 zero-ood-items most-frequent:\"Sunny\" 8025 (79.0874%)\n",
      "\t22: \"__LABEL\" CATEGORICAL integerized vocab-size:3 no-ood-item\n",
      "\n",
      "NUMERICAL: 5 (21.7391%)\n",
      "\t8: \"direction_same\" NUMERICAL mean:0.215532 min:0 max:1 sd:0.411191\n",
      "\t12: \"has_children\" NUMERICAL mean:0.414507 min:0 max:1 sd:0.492637\n",
      "\t17: \"temperature\" NUMERICAL mean:63.2216 min:30 max:80 sd:19.1978\n",
      "\t19: \"toCoupon_GEQ15min\" NUMERICAL mean:0.562137 min:0 max:1 sd:0.496124\n",
      "\t20: \"toCoupon_GEQ25min\" NUMERICAL mean:0.120331 min:0 max:1 sd:0.325348\n",
      "\n",
      "Terminology:\n",
      "\tnas: Number of non-available (i.e. missing) values.\n",
      "\tood: Out of dictionary.\n",
      "\tmanually-defined: Attribute which type is manually defined by the user i.e. the type was not automatically inferred.\n",
      "\ttokenized: The attribute value is obtained through tokenization.\n",
      "\thas-dict: The attribute is attached to a string dictionary e.g. a categorical attribute stored as a string.\n",
      "\tvocab-size: Number of unique values.\n",
      "\n",
      "[INFO kernel.cc:762] Configure learner\n",
      "[WARNING gradient_boosted_trees.cc:1643] Subsample hyperparameter given but sampling method does not match.\n",
      "[WARNING gradient_boosted_trees.cc:1656] GOSS alpha hyperparameter given but GOSS is disabled.\n",
      "[WARNING gradient_boosted_trees.cc:1665] GOSS beta hyperparameter given but GOSS is disabled.\n",
      "[WARNING gradient_boosted_trees.cc:1677] SelGB ratio hyperparameter given but SelGB is disabled.\n",
      "[INFO kernel.cc:787] Training config:\n",
      "learner: \"GRADIENT_BOOSTED_TREES\"\n",
      "features: \"Bar\"\n",
      "features: \"CarryAway\"\n",
      "features: \"CoffeeHouse\"\n",
      "features: \"Restaurant20To50\"\n",
      "features: \"RestaurantLessThan20\"\n",
      "features: \"age\"\n",
      "features: \"coupon\"\n",
      "features: \"destination\"\n",
      "features: \"direction_same\"\n",
      "features: \"education\"\n",
      "features: \"expiration\"\n",
      "features: \"gender\"\n",
      "features: \"has_children\"\n",
      "features: \"income\"\n",
      "features: \"maritalStatus\"\n",
      "features: \"occupation\"\n",
      "features: \"passanger\"\n",
      "features: \"temperature\"\n",
      "features: \"time\"\n",
      "features: \"toCoupon_GEQ15min\"\n",
      "features: \"toCoupon_GEQ25min\"\n",
      "features: \"weather\"\n",
      "label: \"__LABEL\"\n",
      "task: CLASSIFICATION\n",
      "[yggdrasil_decision_forests.model.gradient_boosted_trees.proto.gradient_boosted_trees_config] {\n",
      "  num_trees: 1000\n",
      "  decision_tree {\n",
      "    max_depth: 6\n",
      "    min_examples: 5\n",
      "    in_split_min_examples_check: true\n",
      "    missing_value_policy: GLOBAL_IMPUTATION\n",
      "    allow_na_conditions: false\n",
      "    categorical_set_greedy_forward {\n",
      "      sampling: 0.1\n",
      "      max_num_items: -1\n",
      "      min_item_frequency: 1\n",
      "    }\n",
      "    growing_strategy_local {\n",
      "    }\n",
      "    categorical {\n",
      "      cart {\n",
      "      }\n",
      "    }\n",
      "    num_candidate_attributes_ratio: -1\n",
      "    axis_aligned_split {\n",
      "    }\n",
      "    internal {\n",
      "      sorting_strategy: PRESORTED\n",
      "    }\n",
      "  }\n",
      "  shrinkage: 0.1\n",
      "  validation_set_ratio: 0.1\n",
      "  early_stopping: VALIDATION_LOSS_INCREASE\n",
      "  early_stopping_num_trees_look_ahead: 30\n",
      "  l2_regularization: 0\n",
      "  lambda_loss: 1\n",
      "  mart {\n",
      "  }\n",
      "  adapt_subsample_for_maximum_training_duration: false\n",
      "  l1_regularization: 0\n",
      "  use_hessian_gain: false\n",
      "  l2_regularization_categorical: 1\n",
      "  apply_link_function: true\n",
      "  compute_permutation_variable_importance: false\n",
      "}\n",
      "\n",
      "[INFO kernel.cc:790] Deployment config:\n",
      "num_threads: 6\n",
      "\n",
      "[INFO kernel.cc:817] Train model\n",
      "[INFO gradient_boosted_trees.cc:404] Default loss set to BINOMIAL_LOG_LIKELIHOOD\n",
      "[INFO gradient_boosted_trees.cc:1001] Training gradient boosted tree on 10147 example(s) and 22 feature(s).\n",
      "[INFO gradient_boosted_trees.cc:1044] 9159 examples used for training and 988 examples used for validation\n",
      "[INFO gradient_boosted_trees.cc:1426] \tnum-trees:1 train-loss:1.337243 train-accuracy:0.570259 valid-loss:1.345140 valid-accuracy:0.559717\n",
      "[INFO gradient_boosted_trees.cc:2740] Early stop of the training because the validation loss does not decrease anymore. Best valid-loss: 1.02299\n",
      "[INFO gradient_boosted_trees.cc:229] Truncates the model to 182 tree(s) i.e. 182  iteration(s).\n",
      "[INFO gradient_boosted_trees.cc:263] Final model num-trees:182 valid-loss:1.022987 valid-accuracy:0.736842\n",
      "[INFO kernel.cc:828] Export model in log directory: /tmp/tmphfdk_pp5\n",
      "[INFO kernel.cc:836] Save model in resources\n",
      "[INFO kernel.cc:988] Loading model from path\n",
      "[INFO abstract_model.cc:993] Engine \"GradientBoostedTreesQuickScorerExtended\" built\n",
      "[INFO kernel.cc:848] Use fast generic engine\n"
     ]
    },
    {
     "name": "stdout",
     "output_type": "stream",
     "text": [
      "159/159 [==============================] - 7s 42ms/step\n",
      "Model training time: 0:00:08.038006 \n",
      "\n"
     ]
    }
   ],
   "source": [
    "# Define the baseline model for benchmarking\n",
    "start_time_module = datetime.now()\n",
    "if NOTIFY_STATUS: status_notify(\"The final TFDF model training has begun! \"+datetime.now().strftime('%a %B %d, %Y %I:%M:%S %p'))\n",
    "final_model = tfdf.keras.GradientBoostedTreesModel(num_trees=1000, task=tfdf.keras.Task.CLASSIFICATION)\n",
    "\n",
    "# Optionally, add evaluation metrics.\n",
    "final_model.compile(metrics=DEFAULT_METRICS)\n",
    "\n",
    "# Train the model.\n",
    "# \"sys_pipes\" is optional. It enables the display of the training logs.\n",
    "with sys_pipes():\n",
    "    final_model.fit(x=tfds_train)\n",
    "print ('Model training time:', (datetime.now() - start_time_module), '\\n')\n",
    "if NOTIFY_STATUS: status_notify(\"The final TFDF model training completed! \"+datetime.now().strftime('%a %B %d, %Y %I:%M:%S %p'))"
   ]
  },
  {
   "cell_type": "code",
   "execution_count": 51,
   "metadata": {
    "colab": {
     "base_uri": "https://localhost:8080/"
    },
    "id": "TIDASCL13l8I",
    "outputId": "402d7212-991c-4102-efd7-fd2480f60b6d"
   },
   "outputs": [
    {
     "name": "stdout",
     "output_type": "stream",
     "text": [
      "Model: \"gradient_boosted_trees_model_5\"\n",
      "_________________________________________________________________\n",
      " Layer (type)                Output Shape              Param #   \n",
      "=================================================================\n",
      "=================================================================\n",
      "Total params: 1\n",
      "Trainable params: 0\n",
      "Non-trainable params: 1\n",
      "_________________________________________________________________\n",
      "Type: \"GRADIENT_BOOSTED_TREES\"\n",
      "Task: CLASSIFICATION\n",
      "Label: \"__LABEL\"\n",
      "\n",
      "Input Features (22):\n",
      "\tBar\n",
      "\tCarryAway\n",
      "\tCoffeeHouse\n",
      "\tRestaurant20To50\n",
      "\tRestaurantLessThan20\n",
      "\tage\n",
      "\tcoupon\n",
      "\tdestination\n",
      "\tdirection_same\n",
      "\teducation\n",
      "\texpiration\n",
      "\tgender\n",
      "\thas_children\n",
      "\tincome\n",
      "\tmaritalStatus\n",
      "\toccupation\n",
      "\tpassanger\n",
      "\ttemperature\n",
      "\ttime\n",
      "\ttoCoupon_GEQ15min\n",
      "\ttoCoupon_GEQ25min\n",
      "\tweather\n",
      "\n",
      "No weights\n",
      "\n",
      "Variable Importance: MEAN_MIN_DEPTH:\n",
      "    1.              \"__LABEL\"  4.982387 ################\n",
      "    2.         \"has_children\"  4.850582 ##############\n",
      "    3.    \"toCoupon_GEQ25min\"  4.828789 ##############\n",
      "    4.               \"gender\"  4.716585 #############\n",
      "    5.          \"temperature\"  4.708634 #############\n",
      "    6.        \"maritalStatus\"  4.668270 #############\n",
      "    7.    \"toCoupon_GEQ15min\"  4.660080 #############\n",
      "    8.              \"weather\"  4.658561 #############\n",
      "    9.     \"Restaurant20To50\"  4.654031 #############\n",
      "   10.            \"CarryAway\"  4.599013 ############\n",
      "   11. \"RestaurantLessThan20\"  4.420016 ###########\n",
      "   12.                  \"Bar\"  4.415226 ###########\n",
      "   13.          \"destination\"  4.384794 ##########\n",
      "   14.       \"direction_same\"  4.322888 ##########\n",
      "   15.            \"education\"  4.306052 ##########\n",
      "   16.                 \"time\"  4.288761 #########\n",
      "   17.            \"passanger\"  4.251055 #########\n",
      "   18.                  \"age\"  4.194481 #########\n",
      "   19.               \"income\"  4.140582 ########\n",
      "   20.          \"CoffeeHouse\"  3.995675 #######\n",
      "   21.           \"expiration\"  3.564307 ###\n",
      "   22.           \"occupation\"  3.183287 \n",
      "   23.               \"coupon\"  3.155607 \n",
      "\n",
      "Variable Importance: NUM_AS_ROOT:\n",
      "    1.           \"expiration\" 44.000000 ################\n",
      "    2.               \"coupon\" 36.000000 #############\n",
      "    3.       \"direction_same\" 19.000000 ######\n",
      "    4.          \"CoffeeHouse\" 15.000000 #####\n",
      "    5.          \"destination\" 15.000000 #####\n",
      "    6.            \"education\" 12.000000 ####\n",
      "    7.            \"passanger\"  8.000000 ##\n",
      "    8.    \"toCoupon_GEQ15min\"  7.000000 ##\n",
      "    9.                 \"time\"  6.000000 #\n",
      "   10.               \"gender\"  5.000000 #\n",
      "   11.              \"weather\"  5.000000 #\n",
      "   12. \"RestaurantLessThan20\"  4.000000 #\n",
      "   13.           \"occupation\"  2.000000 \n",
      "   14.    \"toCoupon_GEQ25min\"  2.000000 \n",
      "   15.               \"income\"  1.000000 \n",
      "   16.        \"maritalStatus\"  1.000000 \n",
      "\n",
      "Variable Importance: NUM_NODES:\n",
      "    1.           \"occupation\" 1004.000000 ################\n",
      "    2.               \"income\" 577.000000 ########\n",
      "    3.                  \"age\" 490.000000 #######\n",
      "    4.               \"coupon\" 486.000000 #######\n",
      "    5.                 \"time\" 307.000000 ####\n",
      "    6.          \"CoffeeHouse\" 306.000000 ####\n",
      "    7.                  \"Bar\" 288.000000 ####\n",
      "    8.            \"education\" 256.000000 ###\n",
      "    9.     \"Restaurant20To50\" 234.000000 ###\n",
      "   10.            \"CarryAway\" 219.000000 ##\n",
      "   11.            \"passanger\" 207.000000 ##\n",
      "   12. \"RestaurantLessThan20\" 202.000000 ##\n",
      "   13.        \"maritalStatus\" 188.000000 ##\n",
      "   14.           \"expiration\" 132.000000 #\n",
      "   15.          \"destination\" 127.000000 #\n",
      "   16.              \"weather\" 114.000000 #\n",
      "   17.          \"temperature\" 102.000000 #\n",
      "   18.               \"gender\" 70.000000 \n",
      "   19.    \"toCoupon_GEQ15min\" 68.000000 \n",
      "   20.       \"direction_same\" 66.000000 \n",
      "   21.    \"toCoupon_GEQ25min\" 48.000000 \n",
      "   22.         \"has_children\" 41.000000 \n",
      "\n",
      "Variable Importance: SUM_SCORE:\n",
      "    1.           \"occupation\" 1338.842347 ################\n",
      "    2.               \"coupon\" 1293.978888 ###############\n",
      "    3.          \"CoffeeHouse\" 575.934752 ######\n",
      "    4.               \"income\" 565.288476 ######\n",
      "    5.                  \"age\" 411.002396 ####\n",
      "    6.                  \"Bar\" 361.243246 ####\n",
      "    7.                 \"time\" 346.774583 ###\n",
      "    8.           \"expiration\" 339.207182 ###\n",
      "    9.            \"passanger\" 242.888885 ##\n",
      "   10.     \"Restaurant20To50\" 211.259186 ##\n",
      "   11.            \"education\" 209.598613 ##\n",
      "   12.        \"maritalStatus\" 174.304795 #\n",
      "   13.            \"CarryAway\" 155.716018 #\n",
      "   14.              \"weather\" 150.866665 #\n",
      "   15.          \"destination\" 143.832866 #\n",
      "   16. \"RestaurantLessThan20\" 134.890894 #\n",
      "   17.    \"toCoupon_GEQ15min\" 71.064338 \n",
      "   18.       \"direction_same\" 66.653611 \n",
      "   19.               \"gender\" 58.963678 \n",
      "   20.    \"toCoupon_GEQ25min\" 58.855191 \n",
      "   21.          \"temperature\" 52.162693 \n",
      "   22.         \"has_children\" 29.338225 \n",
      "\n",
      "\n",
      "\n",
      "Loss: BINOMIAL_LOG_LIKELIHOOD\n",
      "Validation loss value: 1.02299\n",
      "Number of trees per iteration: 1\n",
      "Node format: NOT_SET\n",
      "Number of trees: 182\n",
      "Total number of nodes: 11246\n",
      "\n",
      "Number of nodes by tree:\n",
      "Count: 182 Average: 61.7912 StdDev: 2.46075\n",
      "Min: 49 Max: 63 Ignored: 0\n",
      "----------------------------------------------\n",
      "[ 49, 50)   1   0.55%   0.55%\n",
      "[ 50, 51)   0   0.00%   0.55%\n",
      "[ 51, 52)   2   1.10%   1.65%\n",
      "[ 52, 53)   0   0.00%   1.65%\n",
      "[ 53, 54)   1   0.55%   2.20%\n",
      "[ 54, 55)   0   0.00%   2.20%\n",
      "[ 55, 56)   3   1.65%   3.85%\n",
      "[ 56, 57)   0   0.00%   3.85%\n",
      "[ 57, 58)   8   4.40%   8.24% #\n",
      "[ 58, 59)   0   0.00%   8.24%\n",
      "[ 59, 60)  13   7.14%  15.38% #\n",
      "[ 60, 61)   0   0.00%  15.38%\n",
      "[ 61, 62)  24  13.19%  28.57% ##\n",
      "[ 62, 63)   0   0.00%  28.57%\n",
      "[ 63, 63] 130  71.43% 100.00% ##########\n",
      "\n",
      "Depth by leafs:\n",
      "Count: 5714 Average: 4.98372 StdDev: 0.148193\n",
      "Min: 3 Max: 5 Ignored: 0\n",
      "----------------------------------------------\n",
      "[ 3, 4)   17   0.30%   0.30%\n",
      "[ 4, 5)   59   1.03%   1.33%\n",
      "[ 5, 5] 5638  98.67% 100.00% ##########\n",
      "\n",
      "Number of training obs by leaf:\n",
      "Count: 5714 Average: 291.729 StdDev: 393.887\n",
      "Min: 5 Max: 3811 Ignored: 0\n",
      "----------------------------------------------\n",
      "[    5,  195) 3313  57.98%  57.98% ##########\n",
      "[  195,  385) 1035  18.11%  76.09% ###\n",
      "[  385,  576)  492   8.61%  84.70% #\n",
      "[  576,  766)  305   5.34%  90.04% #\n",
      "[  766,  956)  193   3.38%  93.42% #\n",
      "[  956, 1147)  114   2.00%  95.41%\n",
      "[ 1147, 1337)   94   1.65%  97.06%\n",
      "[ 1337, 1527)   47   0.82%  97.88%\n",
      "[ 1527, 1718)   40   0.70%  98.58%\n",
      "[ 1718, 1908)   29   0.51%  99.09%\n",
      "[ 1908, 2098)   15   0.26%  99.35%\n",
      "[ 2098, 2289)   11   0.19%  99.54%\n",
      "[ 2289, 2479)    8   0.14%  99.68%\n",
      "[ 2479, 2669)    5   0.09%  99.77%\n",
      "[ 2669, 2860)    3   0.05%  99.82%\n",
      "[ 2860, 3050)    4   0.07%  99.89%\n",
      "[ 3050, 3240)    5   0.09%  99.98%\n",
      "[ 3240, 3431)    0   0.00%  99.98%\n",
      "[ 3431, 3621)    0   0.00%  99.98%\n",
      "[ 3621, 3811]    1   0.02% 100.00%\n",
      "\n",
      "Attribute in nodes:\n",
      "\t1004 : occupation [CATEGORICAL]\n",
      "\t577 : income [CATEGORICAL]\n",
      "\t490 : age [CATEGORICAL]\n",
      "\t486 : coupon [CATEGORICAL]\n",
      "\t307 : time [CATEGORICAL]\n",
      "\t306 : CoffeeHouse [CATEGORICAL]\n",
      "\t288 : Bar [CATEGORICAL]\n",
      "\t256 : education [CATEGORICAL]\n",
      "\t234 : Restaurant20To50 [CATEGORICAL]\n",
      "\t219 : CarryAway [CATEGORICAL]\n",
      "\t207 : passanger [CATEGORICAL]\n",
      "\t202 : RestaurantLessThan20 [CATEGORICAL]\n",
      "\t188 : maritalStatus [CATEGORICAL]\n",
      "\t132 : expiration [CATEGORICAL]\n",
      "\t127 : destination [CATEGORICAL]\n",
      "\t114 : weather [CATEGORICAL]\n",
      "\t102 : temperature [NUMERICAL]\n",
      "\t70 : gender [CATEGORICAL]\n",
      "\t68 : toCoupon_GEQ15min [NUMERICAL]\n",
      "\t66 : direction_same [NUMERICAL]\n",
      "\t48 : toCoupon_GEQ25min [NUMERICAL]\n",
      "\t41 : has_children [NUMERICAL]\n",
      "\n",
      "Attribute in nodes with depth <= 0:\n",
      "\t44 : expiration [CATEGORICAL]\n",
      "\t36 : coupon [CATEGORICAL]\n",
      "\t19 : direction_same [NUMERICAL]\n",
      "\t15 : destination [CATEGORICAL]\n",
      "\t15 : CoffeeHouse [CATEGORICAL]\n",
      "\t12 : education [CATEGORICAL]\n",
      "\t8 : passanger [CATEGORICAL]\n",
      "\t7 : toCoupon_GEQ15min [NUMERICAL]\n",
      "\t6 : time [CATEGORICAL]\n",
      "\t5 : weather [CATEGORICAL]\n",
      "\t5 : gender [CATEGORICAL]\n",
      "\t4 : RestaurantLessThan20 [CATEGORICAL]\n",
      "\t2 : toCoupon_GEQ25min [NUMERICAL]\n",
      "\t2 : occupation [CATEGORICAL]\n",
      "\t1 : maritalStatus [CATEGORICAL]\n",
      "\t1 : income [CATEGORICAL]\n",
      "\n",
      "Attribute in nodes with depth <= 1:\n",
      "\t71 : coupon [CATEGORICAL]\n",
      "\t56 : occupation [CATEGORICAL]\n",
      "\t52 : expiration [CATEGORICAL]\n",
      "\t41 : CoffeeHouse [CATEGORICAL]\n",
      "\t36 : passanger [CATEGORICAL]\n",
      "\t29 : RestaurantLessThan20 [CATEGORICAL]\n",
      "\t28 : direction_same [NUMERICAL]\n",
      "\t28 : age [CATEGORICAL]\n",
      "\t23 : Bar [CATEGORICAL]\n",
      "\t22 : time [CATEGORICAL]\n",
      "\t22 : destination [CATEGORICAL]\n",
      "\t20 : education [CATEGORICAL]\n",
      "\t19 : income [CATEGORICAL]\n",
      "\t17 : temperature [NUMERICAL]\n",
      "\t16 : CarryAway [CATEGORICAL]\n",
      "\t12 : weather [CATEGORICAL]\n",
      "\t12 : toCoupon_GEQ15min [NUMERICAL]\n",
      "\t11 : Restaurant20To50 [CATEGORICAL]\n",
      "\t10 : gender [CATEGORICAL]\n",
      "\t8 : maritalStatus [CATEGORICAL]\n",
      "\t8 : has_children [NUMERICAL]\n",
      "\t5 : toCoupon_GEQ25min [NUMERICAL]\n",
      "\n",
      "Attribute in nodes with depth <= 2:\n",
      "\t229 : occupation [CATEGORICAL]\n",
      "\t145 : coupon [CATEGORICAL]\n",
      "\t90 : income [CATEGORICAL]\n",
      "\t80 : age [CATEGORICAL]\n",
      "\t77 : CoffeeHouse [CATEGORICAL]\n",
      "\t70 : expiration [CATEGORICAL]\n",
      "\t68 : time [CATEGORICAL]\n",
      "\t62 : passanger [CATEGORICAL]\n",
      "\t62 : Bar [CATEGORICAL]\n",
      "\t51 : education [CATEGORICAL]\n",
      "\t48 : RestaurantLessThan20 [CATEGORICAL]\n",
      "\t42 : CarryAway [CATEGORICAL]\n",
      "\t35 : destination [CATEGORICAL]\n",
      "\t34 : maritalStatus [CATEGORICAL]\n",
      "\t32 : direction_same [NUMERICAL]\n",
      "\t27 : temperature [NUMERICAL]\n",
      "\t26 : Restaurant20To50 [CATEGORICAL]\n",
      "\t24 : weather [CATEGORICAL]\n",
      "\t24 : toCoupon_GEQ15min [NUMERICAL]\n",
      "\t18 : gender [CATEGORICAL]\n",
      "\t16 : toCoupon_GEQ25min [NUMERICAL]\n",
      "\t14 : has_children [NUMERICAL]\n",
      "\n",
      "Attribute in nodes with depth <= 3:\n",
      "\t504 : occupation [CATEGORICAL]\n",
      "\t248 : income [CATEGORICAL]\n",
      "\t244 : coupon [CATEGORICAL]\n",
      "\t210 : age [CATEGORICAL]\n",
      "\t165 : CoffeeHouse [CATEGORICAL]\n",
      "\t149 : time [CATEGORICAL]\n",
      "\t141 : Bar [CATEGORICAL]\n",
      "\t120 : passanger [CATEGORICAL]\n",
      "\t117 : education [CATEGORICAL]\n",
      "\t100 : expiration [CATEGORICAL]\n",
      "\t100 : RestaurantLessThan20 [CATEGORICAL]\n",
      "\t100 : Restaurant20To50 [CATEGORICAL]\n",
      "\t91 : CarryAway [CATEGORICAL]\n",
      "\t85 : maritalStatus [CATEGORICAL]\n",
      "\t64 : destination [CATEGORICAL]\n",
      "\t54 : weather [CATEGORICAL]\n",
      "\t52 : temperature [NUMERICAL]\n",
      "\t43 : direction_same [NUMERICAL]\n",
      "\t39 : gender [CATEGORICAL]\n",
      "\t36 : toCoupon_GEQ15min [NUMERICAL]\n",
      "\t29 : toCoupon_GEQ25min [NUMERICAL]\n",
      "\t22 : has_children [NUMERICAL]\n",
      "\n",
      "Attribute in nodes with depth <= 5:\n",
      "\t1004 : occupation [CATEGORICAL]\n",
      "\t577 : income [CATEGORICAL]\n",
      "\t490 : age [CATEGORICAL]\n",
      "\t486 : coupon [CATEGORICAL]\n",
      "\t307 : time [CATEGORICAL]\n",
      "\t306 : CoffeeHouse [CATEGORICAL]\n",
      "\t288 : Bar [CATEGORICAL]\n",
      "\t256 : education [CATEGORICAL]\n",
      "\t234 : Restaurant20To50 [CATEGORICAL]\n",
      "\t219 : CarryAway [CATEGORICAL]\n",
      "\t207 : passanger [CATEGORICAL]\n",
      "\t202 : RestaurantLessThan20 [CATEGORICAL]\n",
      "\t188 : maritalStatus [CATEGORICAL]\n",
      "\t132 : expiration [CATEGORICAL]\n",
      "\t127 : destination [CATEGORICAL]\n",
      "\t114 : weather [CATEGORICAL]\n",
      "\t102 : temperature [NUMERICAL]\n",
      "\t70 : gender [CATEGORICAL]\n",
      "\t68 : toCoupon_GEQ15min [NUMERICAL]\n",
      "\t66 : direction_same [NUMERICAL]\n",
      "\t48 : toCoupon_GEQ25min [NUMERICAL]\n",
      "\t41 : has_children [NUMERICAL]\n",
      "\n",
      "Condition type in nodes:\n",
      "\t5207 : ContainsBitmapCondition\n",
      "\t325 : HigherCondition\n",
      "Condition type in nodes with depth <= 0:\n",
      "\t154 : ContainsBitmapCondition\n",
      "\t28 : HigherCondition\n",
      "Condition type in nodes with depth <= 1:\n",
      "\t476 : ContainsBitmapCondition\n",
      "\t70 : HigherCondition\n",
      "Condition type in nodes with depth <= 2:\n",
      "\t1161 : ContainsBitmapCondition\n",
      "\t113 : HigherCondition\n",
      "Condition type in nodes with depth <= 3:\n",
      "\t2531 : ContainsBitmapCondition\n",
      "\t182 : HigherCondition\n",
      "Condition type in nodes with depth <= 5:\n",
      "\t5207 : ContainsBitmapCondition\n",
      "\t325 : HigherCondition\n",
      "\n"
     ]
    }
   ],
   "source": [
    "final_model.summary()"
   ]
  },
  {
   "cell_type": "code",
   "execution_count": 52,
   "metadata": {
    "colab": {
     "base_uri": "https://localhost:8080/",
     "height": 404
    },
    "id": "Ts4qJtZxkpO3",
    "outputId": "ef3c64d7-2669-4d0e-872e-de95801d7278"
   },
   "outputs": [],
   "source": [
    "# tfdf.model_plotter.plot_model_in_colab(final_model)"
   ]
  },
  {
   "cell_type": "code",
   "execution_count": 53,
   "metadata": {
    "colab": {
     "base_uri": "https://localhost:8080/"
    },
    "id": "1kuZ_JjejG4T",
    "outputId": "694c64f1-320b-43ff-92c0-2a44ec43d961"
   },
   "outputs": [
    {
     "data": {
      "text/plain": [
       "Evaluation(num_examples=None, accuracy=0.7368420958518982, loss=1.0229867696762085, rmse=None, ndcg=None, aucs=None)"
      ]
     },
     "execution_count": 53,
     "metadata": {},
     "output_type": "execute_result"
    }
   ],
   "source": [
    "final_model.make_inspector().evaluation()"
   ]
  },
  {
   "cell_type": "markdown",
   "metadata": {
    "id": "tzeEayxg3l8I"
   },
   "source": [
    "### 5.b) Load Test Dataset and Make Predictions"
   ]
  },
  {
   "cell_type": "code",
   "execution_count": 54,
   "metadata": {
    "colab": {
     "base_uri": "https://localhost:8080/"
    },
    "id": "GjAJMskdul0Y",
    "outputId": "063f8a6f-243a-4c22-91b5-c9de2e0d4a16"
   },
   "outputs": [
    {
     "name": "stdout",
     "output_type": "stream",
     "text": [
      "40/40 [==============================] - 1s 10ms/step - loss: 0.0000e+00 - accuracy: 0.7678 - auc: 0.8107\n",
      "\n",
      "loss: 0.0000\n",
      "accuracy: 0.7678\n",
      "auc: 0.8107\n"
     ]
    }
   ],
   "source": [
    "evaluation = final_model.evaluate(tfds_valid, return_dict=True)\n",
    "print()\n",
    "\n",
    "for name, value in evaluation.items():\n",
    "  print(f\"{name}: {value:.4f}\")"
   ]
  },
  {
   "cell_type": "code",
   "execution_count": 55,
   "metadata": {
    "id": "TE7Ey5753l8K"
   },
   "outputs": [],
   "source": [
    "if NOTIFY_STATUS: status_notify(\"Task 5 - Finalize Model and Make Predictions completed! \"+datetime.now().strftime('%a %B %d, %Y %I:%M:%S %p'))"
   ]
  },
  {
   "cell_type": "code",
   "execution_count": 56,
   "metadata": {
    "colab": {
     "base_uri": "https://localhost:8080/"
    },
    "id": "nxfno4RT3l8K",
    "outputId": "3d1c1d99-5ce6-417b-d656-df8bc8f57f75"
   },
   "outputs": [
    {
     "name": "stdout",
     "output_type": "stream",
     "text": [
      "Total time for the script: 0:01:55.542487\n"
     ]
    }
   ],
   "source": [
    "print ('Total time for the script:',(datetime.now() - start_time_script))"
   ]
  }
 ],
 "metadata": {
  "colab": {
   "collapsed_sections": [],
   "machine_shape": "hm",
   "name": "py_decisionforest_binaryclass_kaggle_tabular_playground_2021oct.ipynb",
   "provenance": []
  },
  "kernelspec": {
   "display_name": "Python 3 (ipykernel)",
   "language": "python",
   "name": "python3"
  },
  "language_info": {
   "codemirror_mode": {
    "name": "ipython",
    "version": 3
   },
   "file_extension": ".py",
   "mimetype": "text/x-python",
   "name": "python",
   "nbconvert_exporter": "python",
   "pygments_lexer": "ipython3",
   "version": "3.9.9"
  }
 },
 "nbformat": 4,
 "nbformat_minor": 4
}

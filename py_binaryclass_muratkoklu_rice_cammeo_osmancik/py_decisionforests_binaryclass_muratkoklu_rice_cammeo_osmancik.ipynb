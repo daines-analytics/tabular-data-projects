{
  "cells": [
    {
      "cell_type": "markdown",
      "metadata": {
        "id": "2sQmc7MlwXit"
      },
      "source": [
        "# Binary-Class Tabular Model for Rice Cammeo Osmancik Identification Using Python and TensorFlow Decision Forests\n",
        "### David Lowe\n",
        "### May 3, 2022\n",
        "\n",
        "SUMMARY: The project aims to construct a predictive model using various machine learning algorithms and document the end-to-end steps using a template. The Rice Cammeo Osmancik Identification dataset is a binary-class modeling situation where we attempt to predict one of two possible outcomes.\n",
        "\n",
        "INTRODUCTION: Rice is one of the most widely produced and consumed cereal crops globally. The crop is also the main sustenance for many countries because of its economic and nutritious nature. However, before rice reaches the consumers, it must go through many manufacturing steps such as cleaning, color sorting, and classification. In this study, the research team developed a computerized vision system to classify two proprietary rice species. The dataset contains the measurements for 3,810 rice grain images. The grain image broke down into seven major morphological features for each grain of rice.\n",
        "\n",
        "ANALYSIS: The performance of the preliminary Random Forest model achieved an accuracy benchmark of 96.73% on the training dataset. When we applied the finalized model to the test dataset, the model achieved an accuracy score of 92.65%.\n",
        "\n",
        "CONCLUSION: In this iteration, the TensorFlow Decision Forests model appeared to be suitable for modeling this dataset.\n",
        "\n",
        "Dataset Used: Rice Dataset Cammeo and Osmancik\n",
        "\n",
        "Dataset ML Model: Binary classification with numerical features\n",
        "\n",
        "Dataset Reference: https://www.muratkoklu.com/datasets/\n",
        "\n",
        "One source of potential performance benchmarks: https://doi.org/10.18201/ijisae.2019355381"
      ]
    },
    {
      "cell_type": "markdown",
      "metadata": {
        "id": "2pu8nWBYwXi9"
      },
      "source": [
        "## Task 1 - Prepare Environment"
      ]
    },
    {
      "cell_type": "code",
      "execution_count": 1,
      "metadata": {
        "colab": {
          "base_uri": "https://localhost:8080/"
        },
        "id": "ZOOVxnGCwXi_",
        "outputId": "ada7e702-36b8-4f6d-ec66-8d4d02aeffbe"
      },
      "outputs": [
        {
          "output_type": "stream",
          "name": "stdout",
          "text": [
            "The number of available CPUs is: 2\n"
          ]
        }
      ],
      "source": [
        "# Retrieve the CPU information\n",
        "ncpu = !nproc\n",
        "print(\"The number of available CPUs is:\", ncpu[0])"
      ]
    },
    {
      "cell_type": "markdown",
      "metadata": {
        "id": "6UZqFeojwXjA"
      },
      "source": [
        "### 1.a) Load libraries and modules"
      ]
    },
    {
      "cell_type": "code",
      "execution_count": 2,
      "metadata": {
        "id": "9_ovTGbJwXjA"
      },
      "outputs": [],
      "source": [
        "# Set the random seed number for reproducible results\n",
        "RNG_SEED = 888"
      ]
    },
    {
      "cell_type": "code",
      "execution_count": 3,
      "metadata": {
        "colab": {
          "base_uri": "https://localhost:8080/"
        },
        "id": "vDmif-v8wXjB",
        "outputId": "8221967f-38c5-44af-9777-e84a0bbb9633"
      },
      "outputs": [
        {
          "output_type": "stream",
          "name": "stderr",
          "text": [
            "WARNING:root:TF Parameter Server distributed training not available (this is expected for the pre-build release).\n"
          ]
        }
      ],
      "source": [
        "import random\n",
        "random.seed(RNG_SEED)\n",
        "import numpy as np\n",
        "np.random.seed(RNG_SEED)\n",
        "import pandas as pd\n",
        "import seaborn as sns\n",
        "import matplotlib\n",
        "import matplotlib.pyplot as plt\n",
        "import os\n",
        "import sys\n",
        "import math\n",
        "from datetime import datetime\n",
        "# import boto3\n",
        "# from dotenv import load_dotenv\n",
        "from sklearn import preprocessing\n",
        "from sklearn.model_selection import train_test_split\n",
        "from sklearn.model_selection import RepeatedKFold\n",
        "from sklearn.pipeline import Pipeline\n",
        "from sklearn import compose\n",
        "from sklearn import impute\n",
        "from sklearn import metrics\n",
        "import tensorflow as tf\n",
        "tf.random.set_seed(RNG_SEED)\n",
        "# from tensorflow import keras\n",
        "import tensorflow_decision_forests as tfdf"
      ]
    },
    {
      "cell_type": "markdown",
      "metadata": {
        "id": "M0TRB7j0wXjB"
      },
      "source": [
        "### 1.b) Set up the controlling parameters and functions"
      ]
    },
    {
      "cell_type": "code",
      "execution_count": 4,
      "metadata": {
        "colab": {
          "base_uri": "https://localhost:8080/"
        },
        "id": "JCurALWEwXjB",
        "outputId": "78b1848e-f397-4822-dbca-e44283cead3e"
      },
      "outputs": [
        {
          "output_type": "stream",
          "name": "stdout",
          "text": [
            "TensorFlow version: 2.8.0\n",
            "Found TensorFlow Decision Forests v0.2.4\n"
          ]
        }
      ],
      "source": [
        "# Begin the timer for the script processing\n",
        "start_time_script = datetime.now()\n",
        "\n",
        "# Set up the number of CPU cores available for multi-thread processing\n",
        "N_JOBS = 1\n",
        "\n",
        "# Set up the flag to stop sending progress emails (setting to True will send status emails!)\n",
        "NOTIFY_STATUS = False\n",
        "\n",
        "# Set the percentage sizes for splitting the dataset\n",
        "TEST_SET_RATIO = 0.1\n",
        "VAL_SET_RATIO = 0.1\n",
        "\n",
        "# Set the number of folds for cross validation\n",
        "N_FOLDS = 5\n",
        "N_ITERATIONS = 1\n",
        "\n",
        "# Set various default modeling parameters\n",
        "DEFAULT_METRICS = [\"accuracy\", tf.keras.metrics.AUC()]\n",
        "\n",
        "# # Check the number of GPUs accessible through TensorFlow\n",
        "# print('Num GPUs Available:', len(tf.config.list_physical_devices('GPU')))\n",
        "\n",
        "# Print out the TensorFlow version for confirmation\n",
        "print('TensorFlow version:', tf.__version__)\n",
        "\n",
        "# Check the version of TensorFlow Decision Forests\n",
        "print(\"Found TensorFlow Decision Forests v\" + tfdf.__version__)"
      ]
    },
    {
      "cell_type": "code",
      "execution_count": 5,
      "metadata": {
        "id": "IBDJ6B40wXjC"
      },
      "outputs": [],
      "source": [
        "# Set up the email notification function\n",
        "def status_notify(msg_text):\n",
        "    access_key = os.environ.get('SNS_ACCESS_KEY')\n",
        "    secret_key = os.environ.get('SNS_SECRET_KEY')\n",
        "    aws_region = os.environ.get('SNS_AWS_REGION')\n",
        "    topic_arn = os.environ.get('SNS_TOPIC_ARN')\n",
        "    if (access_key is None) or (secret_key is None) or (aws_region is None):\n",
        "        sys.exit(\"Incomplete notification setup info. Script Processing Aborted!!!\")\n",
        "    sns = boto3.client('sns', aws_access_key_id=access_key, aws_secret_access_key=secret_key, region_name=aws_region)\n",
        "    response = sns.publish(TopicArn=topic_arn, Message=msg_text)\n",
        "    if response['ResponseMetadata']['HTTPStatusCode'] != 200 :\n",
        "        print('Status notification not OK with HTTP status code:', response['ResponseMetadata']['HTTPStatusCode'])"
      ]
    },
    {
      "cell_type": "code",
      "execution_count": 6,
      "metadata": {
        "id": "e3tPi3k7wyTv"
      },
      "outputs": [],
      "source": [
        "# Reset the random number generators\n",
        "def reset_random(x=RNG_SEED):\n",
        "    random.seed(x)\n",
        "    np.random.seed(x)\n",
        "    tf.random.set_seed(x)"
      ]
    },
    {
      "cell_type": "code",
      "execution_count": 7,
      "metadata": {
        "id": "p2F2r8QswXjD"
      },
      "outputs": [],
      "source": [
        "if NOTIFY_STATUS: status_notify(\"Task 1 - Prepare Environment has begun! \" + datetime.now().strftime('%a %B %d, %Y %I:%M:%S %p'))"
      ]
    },
    {
      "cell_type": "markdown",
      "metadata": {
        "id": "yk2I_AhawXjD"
      },
      "source": [
        "### 1.c) Load dataset"
      ]
    },
    {
      "cell_type": "code",
      "execution_count": 8,
      "metadata": {
        "colab": {
          "base_uri": "https://localhost:8080/"
        },
        "id": "E7G2_4zawXjE",
        "outputId": "e8c4d771-fd94-4308-da6e-6453e240ec20"
      },
      "outputs": [
        {
          "output_type": "stream",
          "name": "stdout",
          "text": [
            "    Area   Perimeter  Major_Axis_Length  Minor_Axis_Length  Eccentricity  \\\n",
            "0  15231  525.578979         229.749878          85.093788      0.928882   \n",
            "1  14656  494.311005         206.020065          91.730972      0.895405   \n",
            "2  14634  501.122009         214.106781          87.768288      0.912118   \n",
            "3  13176  458.342987         193.337387          87.448395      0.891861   \n",
            "4  14688  507.166992         211.743378          89.312454      0.906691   \n",
            "\n",
            "   Convex_Area    Extent   Class  \n",
            "0        15617  0.572896  Cammeo  \n",
            "1        15072  0.615436  Cammeo  \n",
            "2        14954  0.693259  Cammeo  \n",
            "3        13368  0.640669  Cammeo  \n",
            "4        15262  0.646024  Cammeo  \n"
          ]
        }
      ],
      "source": [
        "dataset_path = 'https://dainesanalytics.com/datasets/muratkoklu-rice-cammeo-osmancik/Rice_Cammeo_Osmancik.arff'\n",
        "colNames = ['Area','Perimeter','Major_Axis_Length','Minor_Axis_Length','Eccentricity','Convex_Area','Extent','Class']\n",
        "df_dataset_import = pd.read_csv(dataset_path, names=colNames, sep=',', header=None, index_col=False, skiprows=16)\n",
        "\n",
        "# Take a peek at the dataframe after import\n",
        "print(df_dataset_import.head())"
      ]
    },
    {
      "cell_type": "code",
      "execution_count": 9,
      "metadata": {
        "colab": {
          "base_uri": "https://localhost:8080/"
        },
        "id": "3dl-LDdfwXjE",
        "outputId": "d935af89-4dff-4abb-9681-460f2a96633b"
      },
      "outputs": [
        {
          "output_type": "stream",
          "name": "stdout",
          "text": [
            "<class 'pandas.core.frame.DataFrame'>\n",
            "RangeIndex: 3810 entries, 0 to 3809\n",
            "Data columns (total 8 columns):\n",
            " #   Column             Non-Null Count  Dtype  \n",
            "---  ------             --------------  -----  \n",
            " 0   Area               3810 non-null   int64  \n",
            " 1   Perimeter          3810 non-null   float64\n",
            " 2   Major_Axis_Length  3810 non-null   float64\n",
            " 3   Minor_Axis_Length  3810 non-null   float64\n",
            " 4   Eccentricity       3810 non-null   float64\n",
            " 5   Convex_Area        3810 non-null   int64  \n",
            " 6   Extent             3810 non-null   float64\n",
            " 7   Class              3810 non-null   object \n",
            "dtypes: float64(5), int64(2), object(1)\n",
            "memory usage: 238.2+ KB\n"
          ]
        }
      ],
      "source": [
        "df_dataset_import.info(verbose=True)"
      ]
    },
    {
      "cell_type": "code",
      "execution_count": 10,
      "metadata": {
        "colab": {
          "base_uri": "https://localhost:8080/"
        },
        "id": "3eB_rvlwwXjF",
        "outputId": "97f37f1a-b444-4df1-c348-2b43d777e624"
      },
      "outputs": [
        {
          "output_type": "stream",
          "name": "stdout",
          "text": [
            "               Area    Perimeter  Major_Axis_Length  Minor_Axis_Length  \\\n",
            "count   3810.000000  3810.000000        3810.000000        3810.000000   \n",
            "mean   12667.727559   454.239180         188.776222          86.313750   \n",
            "std     1732.367706    35.597081          17.448679           5.729817   \n",
            "min     7551.000000   359.100006         145.264465          59.532406   \n",
            "25%    11370.500000   426.144753         174.353855          82.731695   \n",
            "50%    12421.500000   448.852493         185.810059          86.434647   \n",
            "75%    13950.000000   483.683746         203.550438          90.143677   \n",
            "max    18913.000000   548.445984         239.010498         107.542450   \n",
            "\n",
            "       Eccentricity   Convex_Area       Extent  \n",
            "count   3810.000000   3810.000000  3810.000000  \n",
            "mean       0.886871  12952.496850     0.661934  \n",
            "std        0.020818   1776.972042     0.077239  \n",
            "min        0.777233   7723.000000     0.497413  \n",
            "25%        0.872402  11626.250000     0.598862  \n",
            "50%        0.889050  12706.500000     0.645361  \n",
            "75%        0.902588  14284.000000     0.726562  \n",
            "max        0.948007  19099.000000     0.861050  \n"
          ]
        }
      ],
      "source": [
        "print(df_dataset_import.describe())"
      ]
    },
    {
      "cell_type": "code",
      "execution_count": 11,
      "metadata": {
        "colab": {
          "base_uri": "https://localhost:8080/"
        },
        "id": "SRyVb81UwXjF",
        "outputId": "914e2e2a-bc0b-469a-8f41-6e9b3ed20334"
      },
      "outputs": [
        {
          "output_type": "stream",
          "name": "stdout",
          "text": [
            "Area                 0\n",
            "Perimeter            0\n",
            "Major_Axis_Length    0\n",
            "Minor_Axis_Length    0\n",
            "Eccentricity         0\n",
            "Convex_Area          0\n",
            "Extent               0\n",
            "Class                0\n",
            "dtype: int64\n",
            "Total number of NaN in the dataframe:  0\n"
          ]
        }
      ],
      "source": [
        "print(df_dataset_import.isnull().sum())\n",
        "print('Total number of NaN in the dataframe: ', df_dataset_import.isnull().sum().sum())"
      ]
    },
    {
      "cell_type": "code",
      "execution_count": 12,
      "metadata": {
        "id": "kjXSiqgLc3Dj",
        "outputId": "d000dd9e-1559-45a6-e90d-76880fd91643",
        "colab": {
          "base_uri": "https://localhost:8080/"
        }
      },
      "outputs": [
        {
          "output_type": "stream",
          "name": "stdout",
          "text": [
            "Class\n",
            "Cammeo      1630\n",
            "Osmancik    2180\n",
            "dtype: int64\n"
          ]
        }
      ],
      "source": [
        "# Get grouping size for the target variable\n",
        "print(df_dataset_import.groupby('Class').size())"
      ]
    },
    {
      "cell_type": "markdown",
      "metadata": {
        "id": "wfaoKiSdwXjG"
      },
      "source": [
        "### 1.d) Data Cleaning"
      ]
    },
    {
      "cell_type": "code",
      "execution_count": 13,
      "metadata": {
        "colab": {
          "base_uri": "https://localhost:8080/"
        },
        "id": "KujRTYu5wXjG",
        "outputId": "aa14828d-de2e-4a09-83eb-f1a8e27c2244"
      },
      "outputs": [
        {
          "output_type": "stream",
          "name": "stdout",
          "text": [
            "    Area   Perimeter  Major_Axis_Length  Minor_Axis_Length  Eccentricity  \\\n",
            "0  15231  525.578979         229.749878          85.093788      0.928882   \n",
            "1  14656  494.311005         206.020065          91.730972      0.895405   \n",
            "2  14634  501.122009         214.106781          87.768288      0.912118   \n",
            "3  13176  458.342987         193.337387          87.448395      0.891861   \n",
            "4  14688  507.166992         211.743378          89.312454      0.906691   \n",
            "\n",
            "   Convex_Area    Extent  target  \n",
            "0        15617  0.572896  Cammeo  \n",
            "1        15072  0.615436  Cammeo  \n",
            "2        14954  0.693259  Cammeo  \n",
            "3        13368  0.640669  Cammeo  \n",
            "4        15262  0.646024  Cammeo  \n"
          ]
        }
      ],
      "source": [
        "# Standardize the class column to the name of targetVar if required\n",
        "df_dataset_import = df_dataset_import.rename(columns={'Class': 'target'})\n",
        "\n",
        "# Take a peek at the dataframe after cleaning\n",
        "print(df_dataset_import.head())"
      ]
    },
    {
      "cell_type": "code",
      "execution_count": 14,
      "metadata": {
        "colab": {
          "base_uri": "https://localhost:8080/"
        },
        "id": "ZprOE1B0wXjH",
        "outputId": "5e7d8e20-7950-47cb-ad8b-072eeb17d0be"
      },
      "outputs": [
        {
          "output_type": "stream",
          "name": "stdout",
          "text": [
            "<class 'pandas.core.frame.DataFrame'>\n",
            "RangeIndex: 3810 entries, 0 to 3809\n",
            "Data columns (total 8 columns):\n",
            " #   Column             Non-Null Count  Dtype  \n",
            "---  ------             --------------  -----  \n",
            " 0   Area               3810 non-null   int64  \n",
            " 1   Perimeter          3810 non-null   float64\n",
            " 2   Major_Axis_Length  3810 non-null   float64\n",
            " 3   Minor_Axis_Length  3810 non-null   float64\n",
            " 4   Eccentricity       3810 non-null   float64\n",
            " 5   Convex_Area        3810 non-null   int64  \n",
            " 6   Extent             3810 non-null   float64\n",
            " 7   target             3810 non-null   object \n",
            "dtypes: float64(5), int64(2), object(1)\n",
            "memory usage: 238.2+ KB\n"
          ]
        }
      ],
      "source": [
        "df_dataset_import.info(verbose=True)"
      ]
    },
    {
      "cell_type": "code",
      "execution_count": 15,
      "metadata": {
        "colab": {
          "base_uri": "https://localhost:8080/"
        },
        "id": "QgyI5VZ1wXjH",
        "outputId": "b1e7a79c-48b1-4ab0-ce1f-c400230c5a24"
      },
      "outputs": [
        {
          "output_type": "stream",
          "name": "stdout",
          "text": [
            "               Area    Perimeter  Major_Axis_Length  Minor_Axis_Length  \\\n",
            "count   3810.000000  3810.000000        3810.000000        3810.000000   \n",
            "mean   12667.727559   454.239180         188.776222          86.313750   \n",
            "std     1732.367706    35.597081          17.448679           5.729817   \n",
            "min     7551.000000   359.100006         145.264465          59.532406   \n",
            "25%    11370.500000   426.144753         174.353855          82.731695   \n",
            "50%    12421.500000   448.852493         185.810059          86.434647   \n",
            "75%    13950.000000   483.683746         203.550438          90.143677   \n",
            "max    18913.000000   548.445984         239.010498         107.542450   \n",
            "\n",
            "       Eccentricity   Convex_Area       Extent  \n",
            "count   3810.000000   3810.000000  3810.000000  \n",
            "mean       0.886871  12952.496850     0.661934  \n",
            "std        0.020818   1776.972042     0.077239  \n",
            "min        0.777233   7723.000000     0.497413  \n",
            "25%        0.872402  11626.250000     0.598862  \n",
            "50%        0.889050  12706.500000     0.645361  \n",
            "75%        0.902588  14284.000000     0.726562  \n",
            "max        0.948007  19099.000000     0.861050  \n"
          ]
        }
      ],
      "source": [
        "print(df_dataset_import.describe())"
      ]
    },
    {
      "cell_type": "code",
      "execution_count": 16,
      "metadata": {
        "colab": {
          "base_uri": "https://localhost:8080/"
        },
        "id": "wz9iKsUswXjI",
        "outputId": "f4cdf42d-19b6-4b46-a885-0ca7acd55291"
      },
      "outputs": [
        {
          "output_type": "stream",
          "name": "stdout",
          "text": [
            "Area                 0\n",
            "Perimeter            0\n",
            "Major_Axis_Length    0\n",
            "Minor_Axis_Length    0\n",
            "Eccentricity         0\n",
            "Convex_Area          0\n",
            "Extent               0\n",
            "target               0\n",
            "dtype: int64\n",
            "Total number of NaN in the dataframe:  0\n"
          ]
        }
      ],
      "source": [
        "print(df_dataset_import.isnull().sum())\n",
        "print('Total number of NaN in the dataframe: ', df_dataset_import.isnull().sum().sum())"
      ]
    },
    {
      "cell_type": "code",
      "execution_count": 17,
      "metadata": {
        "id": "vdrfDL7Cc3Dk",
        "outputId": "6b830f96-9683-4e08-b984-d8a38da2014b",
        "colab": {
          "base_uri": "https://localhost:8080/"
        }
      },
      "outputs": [
        {
          "output_type": "stream",
          "name": "stdout",
          "text": [
            "target\n",
            "Cammeo      1630\n",
            "Osmancik    2180\n",
            "dtype: int64\n"
          ]
        }
      ],
      "source": [
        "# Get grouping size for the target variable\n",
        "print(df_dataset_import.groupby('target').size())"
      ]
    },
    {
      "cell_type": "markdown",
      "metadata": {
        "id": "0ZBQ1s2bwXjI"
      },
      "source": [
        "### 1.e) Splitting Data into Sets"
      ]
    },
    {
      "cell_type": "code",
      "execution_count": 18,
      "metadata": {
        "id": "ddfoz22Rc3Dl",
        "outputId": "3abe05f9-f874-4e62-a66e-bc4198b1dee6",
        "colab": {
          "base_uri": "https://localhost:8080/"
        }
      },
      "outputs": [
        {
          "output_type": "stream",
          "name": "stdout",
          "text": [
            "df_dataset_train.shape: (3429, 8) df_dataset_test.shape: (381, 8)\n"
          ]
        }
      ],
      "source": [
        "# Split the data further into training and test datasets\n",
        "df_dataset_train, df_dataset_test = train_test_split(df_dataset_import, test_size=TEST_SET_RATIO, random_state=RNG_SEED,\n",
        "                                                     stratify=df_dataset_import['target'])\n",
        "print(\"df_dataset_train.shape: {} df_dataset_test.shape: {}\".format(df_dataset_train.shape, df_dataset_test.shape))"
      ]
    },
    {
      "cell_type": "code",
      "execution_count": 19,
      "metadata": {
        "colab": {
          "base_uri": "https://localhost:8080/"
        },
        "id": "QNydPt1uwXjI",
        "outputId": "ff492474-a401-4014-d5a8-f02d2b8babd7"
      },
      "outputs": [
        {
          "output_type": "stream",
          "name": "stdout",
          "text": [
            "df_dataset_train.shape: (3429, 8) df_features_train.shape: (3429, 7) df_target_train.shape: (3429,)\n"
          ]
        }
      ],
      "source": [
        "# Use variable total_column_count to hold the number of columns in the dataframe\n",
        "total_column_count = len(df_dataset_import.columns)\n",
        "\n",
        "# Set up variable total_feature_count for the total number of attribute columns\n",
        "total_feature_count = total_column_count-1\n",
        "\n",
        "# We create attribute-only and target-only datasets (df_features_train and df_target_train)\n",
        "df_target_train = df_dataset_train['target']\n",
        "df_features_train = df_dataset_train.drop(['target'], axis=1)\n",
        "\n",
        "print(\"df_dataset_train.shape: {} df_features_train.shape: {} df_target_train.shape: {}\".format(df_dataset_train.shape, df_features_train.shape, df_target_train.shape))"
      ]
    },
    {
      "cell_type": "markdown",
      "metadata": {
        "id": "VKU_2CL74vh-"
      },
      "source": [
        "### 1.f) Set up the parameters for data visualization"
      ]
    },
    {
      "cell_type": "code",
      "execution_count": 20,
      "metadata": {
        "id": "7D9OChW94yP0"
      },
      "outputs": [],
      "source": [
        "# Set up the number of row and columns for visualization display. display_rows * display_columns should be >= total_feature_count\n",
        "display_columns = 4\n",
        "if total_feature_count % display_columns == 0 :\n",
        "    display_rows = total_feature_count // display_columns\n",
        "else :\n",
        "    display_rows = (total_feature_count // display_columns) + 1\n",
        "    \n",
        "# Set figure width to display the data visualization plots\n",
        "fig_size = plt.rcParams[\"figure.figsize\"]\n",
        "fig_size[0] = display_columns * 4\n",
        "fig_size[1] = display_rows * 4\n",
        "plt.rcParams[\"figure.figsize\"] = fig_size"
      ]
    },
    {
      "cell_type": "code",
      "execution_count": 21,
      "metadata": {
        "id": "YLRgAYnMwXjJ"
      },
      "outputs": [],
      "source": [
        "if NOTIFY_STATUS: status_notify(\"Task 1 - Prepare Environment completed! \"+datetime.now().strftime('%a %B %d, %Y %I:%M:%S %p'))"
      ]
    },
    {
      "cell_type": "markdown",
      "metadata": {
        "id": "ZivQJCZowXjK"
      },
      "source": [
        "## Task 2 - Summarize and Visualize Data"
      ]
    },
    {
      "cell_type": "code",
      "execution_count": 22,
      "metadata": {
        "id": "F5H90pxZwXjK"
      },
      "outputs": [],
      "source": [
        "if NOTIFY_STATUS: status_notify(\"Task 2 - Summarize and Visualize Data has begun! \"+datetime.now().strftime('%a %B %d, %Y %I:%M:%S %p'))"
      ]
    },
    {
      "cell_type": "code",
      "execution_count": 23,
      "metadata": {
        "colab": {
          "base_uri": "https://localhost:8080/",
          "height": 483
        },
        "id": "OBhr7SGRwXjK",
        "outputId": "6a46d75a-2420-4b65-d9eb-731ef73b9698",
        "tags": []
      },
      "outputs": [
        {
          "output_type": "display_data",
          "data": {
            "text/plain": [
              "<Figure size 1152x576 with 8 Axes>"
            ],
            "image/png": "[encoded data removed]"
          },
          "metadata": {
            "needs_background": "light"
          }
        }
      ],
      "source": [
        "# Histograms for each attribute\n",
        "df_features_train.plot(kind='hist', subplots=True, layout=(display_rows, display_columns))\n",
        "plt.show()"
      ]
    },
    {
      "cell_type": "code",
      "execution_count": 24,
      "metadata": {
        "colab": {
          "base_uri": "https://localhost:8080/",
          "height": 484
        },
        "id": "NHtCofAgwXjL",
        "outputId": "c95d44ea-92cb-437a-c5a8-ee4b2c551147"
      },
      "outputs": [
        {
          "output_type": "display_data",
          "data": {
            "text/plain": [
              "<Figure size 1152x576 with 8 Axes>"
            ],
            "image/png": "[encoded data removed]"
          },
          "metadata": {
            "needs_background": "light"
          }
        }
      ],
      "source": [
        "# Box and Whisker plot for each attribute\n",
        "df_features_train.plot(kind='box', subplots=True, layout=(display_rows, display_columns))\n",
        "plt.show()"
      ]
    },
    {
      "cell_type": "code",
      "execution_count": 25,
      "metadata": {
        "colab": {
          "base_uri": "https://localhost:8080/",
          "height": 1000
        },
        "id": "HXUm5_nkwXjL",
        "outputId": "6d9f38dd-b9b8-4c96-8e5e-82133bbc3712"
      },
      "outputs": [
        {
          "output_type": "display_data",
          "data": {
            "text/plain": [
              "<Figure size 1440x1440 with 2 Axes>"
            ],
            "image/png": "[encoded data removed]"
          },
          "metadata": {
            "needs_background": "light"
          }
        }
      ],
      "source": [
        "# Correlation matrix\n",
        "fig = plt.figure(figsize=(20, 20))\n",
        "correlations = df_features_train.corr(method='pearson')\n",
        "sns.heatmap(correlations, annot=True, cmap=plt.cm.PuBu)\n",
        "plt.show()"
      ]
    },
    {
      "cell_type": "code",
      "execution_count": 26,
      "metadata": {
        "id": "yHcRjiadwXjL"
      },
      "outputs": [],
      "source": [
        "if NOTIFY_STATUS: status_notify(\"Task 2 - Summarize and Visualize Data completed! \"+datetime.now().strftime('%a %B %d, %Y %I:%M:%S %p'))"
      ]
    },
    {
      "cell_type": "markdown",
      "metadata": {
        "id": "-8rH-HXuwXjM"
      },
      "source": [
        "## Task 3 - Train and Evaluate Models"
      ]
    },
    {
      "cell_type": "code",
      "execution_count": 27,
      "metadata": {
        "id": "UnD36SUzwXjM"
      },
      "outputs": [],
      "source": [
        "if NOTIFY_STATUS: status_notify(\"Task 3 - Train and Evaluate Models has begun! \"+datetime.now().strftime('%a %B %d, %Y %I:%M:%S %p'))"
      ]
    },
    {
      "cell_type": "markdown",
      "metadata": {
        "id": "C5MXnEfq0-PW"
      },
      "source": [
        "### 3.a) Splitting Data into Training and Validation Sets"
      ]
    },
    {
      "cell_type": "code",
      "execution_count": 28,
      "metadata": {
        "id": "QY2ulFc8wXjR",
        "colab": {
          "base_uri": "https://localhost:8080/"
        },
        "outputId": "30b9989b-740f-46cb-fe32-fc73f0030bbc"
      },
      "outputs": [
        {
          "output_type": "stream",
          "name": "stderr",
          "text": [
            "/usr/local/lib/python3.7/dist-packages/tensorflow_decision_forests/keras/core.py:2036: FutureWarning: In a future version of pandas all arguments of DataFrame.drop except for the argument 'labels' will be keyword-only\n",
            "  features_dataframe = dataframe.drop(label, 1)\n"
          ]
        }
      ],
      "source": [
        "# Finalize the training and validation datasets for the modeling activities\n",
        "tfds_train = tfdf.keras.pd_dataframe_to_tf_dataset(df_dataset_train, label='target', task = tfdf.keras.Task.CLASSIFICATION)"
      ]
    },
    {
      "cell_type": "markdown",
      "metadata": {
        "id": "2_pts_ZN1J3g"
      },
      "source": [
        "### 3.b) Train and Evaluate the Random Forest Model"
      ]
    },
    {
      "cell_type": "code",
      "execution_count": 29,
      "metadata": {
        "colab": {
          "base_uri": "https://localhost:8080/"
        },
        "id": "Bbls2rTF3l8E",
        "outputId": "02fb55ba-8ac3-4676-b752-4f5bfcf0d76b"
      },
      "outputs": [
        {
          "output_type": "stream",
          "name": "stdout",
          "text": [
            "Use /tmp/tmph10ulurn as temporary training directory\n",
            "Starting reading the dataset\n",
            "1/4 [======>.......................] - ETA: 28s\n",
            "Dataset read in 0:00:09.541588\n",
            "Training model\n",
            "Model trained in 0:00:02.211026\n",
            "Warning:  Tracing the TF graph and reading the dataset took more than 50% of the time to effectively train the model (tracing+dataset reading: 0:00:09.541588, training: 0:00:02.211026). This might indicates that the dataset reading operation e.g. tf.data.Dataset is not well configured. In mose cases, this ratio should be <<10%.\n",
            "Compiling model\n",
            "4/4 [==============================] - 12s 836ms/step\n",
            "WARNING:tensorflow:AutoGraph could not transform <function simple_ml_inference_op_with_handle at 0x7ffb479ed0e0> and will run it as-is.\n",
            "Please report this to the TensorFlow team. When filing the bug, set the verbosity to 10 (on Linux, `export AUTOGRAPH_VERBOSITY=10`) and attach the full output.\n",
            "Cause: could not get source code\n",
            "To silence this warning, decorate the function with @tf.autograph.experimental.do_not_convert\n"
          ]
        },
        {
          "output_type": "stream",
          "name": "stderr",
          "text": [
            "WARNING:tensorflow:AutoGraph could not transform <function simple_ml_inference_op_with_handle at 0x7ffb479ed0e0> and will run it as-is.\n",
            "Please report this to the TensorFlow team. When filing the bug, set the verbosity to 10 (on Linux, `export AUTOGRAPH_VERBOSITY=10`) and attach the full output.\n",
            "Cause: could not get source code\n",
            "To silence this warning, decorate the function with @tf.autograph.experimental.do_not_convert\n"
          ]
        },
        {
          "output_type": "stream",
          "name": "stdout",
          "text": [
            "WARNING: AutoGraph could not transform <function simple_ml_inference_op_with_handle at 0x7ffb479ed0e0> and will run it as-is.\n",
            "Please report this to the TensorFlow team. When filing the bug, set the verbosity to 10 (on Linux, `export AUTOGRAPH_VERBOSITY=10`) and attach the full output.\n",
            "Cause: could not get source code\n",
            "To silence this warning, decorate the function with @tf.autograph.experimental.do_not_convert\n",
            "Model training time: 0:00:14.460762 \n",
            "\n"
          ]
        }
      ],
      "source": [
        "# Define the baseline model for benchmarking\n",
        "start_time_module = datetime.now()\n",
        "reset_random()\n",
        "RF_model = tfdf.keras.RandomForestModel(task = tfdf.keras.Task.CLASSIFICATION)\n",
        "RF_model.compile(metrics=DEFAULT_METRICS)\n",
        "\n",
        "# \"sys_pipes\" is optional. It enables the display of the training logs.\n",
        "# with sys_pipes():\n",
        "#     RF_model.fit(x=tfds_train)\n",
        "\n",
        "# Train the model.\n",
        "RF_model.fit(x=tfds_train)\n",
        "print ('Model training time:', (datetime.now() - start_time_module), '\\n')"
      ]
    },
    {
      "cell_type": "code",
      "execution_count": 30,
      "metadata": {
        "colab": {
          "base_uri": "https://localhost:8080/",
          "height": 388
        },
        "id": "QWxbO2EXcbEJ",
        "outputId": "b3b7fdbc-7e85-44a9-82fa-151297d55e83"
      },
      "outputs": [
        {
          "output_type": "display_data",
          "data": {
            "text/plain": [
              "<Figure size 1296x432 with 2 Axes>"
            ],
            "image/png": "[encoded data removed]"
          },
          "metadata": {
            "needs_background": "light"
          }
        }
      ],
      "source": [
        "logs = RF_model.make_inspector().training_logs()\n",
        "\n",
        "plt.figure(figsize=(18, 6))\n",
        "plt.subplot(1, 2, 1)\n",
        "plt.plot([log.num_trees for log in logs], [log.evaluation.accuracy for log in logs])\n",
        "plt.xlabel(\"Number of trees\")\n",
        "plt.ylabel(\"Accuracy (out-of-bag)\")\n",
        "plt.subplot(1, 2, 2)\n",
        "plt.plot([log.num_trees for log in logs], [log.evaluation.loss for log in logs])\n",
        "plt.xlabel(\"Number of trees\")\n",
        "plt.ylabel(\"Log Loss (out-of-bag)\")\n",
        "plt.show()"
      ]
    },
    {
      "cell_type": "code",
      "execution_count": 31,
      "metadata": {
        "id": "a4EVmjG6c3Do",
        "outputId": "46824a74-0e56-4683-ca55-186601967151",
        "colab": {
          "base_uri": "https://localhost:8080/"
        }
      },
      "outputs": [
        {
          "output_type": "stream",
          "name": "stdout",
          "text": [
            "4/4 [==============================] - 1s 21ms/step - loss: 0.0000e+00 - accuracy: 0.9673 - auc: 0.9971\n",
            "\n",
            "loss: 0.0000\n",
            "accuracy: 0.9673\n",
            "auc: 0.9971\n"
          ]
        }
      ],
      "source": [
        "RF_eval = RF_model.evaluate(tfds_train, return_dict=True)\n",
        "print()\n",
        "\n",
        "for name, value in RF_eval.items():\n",
        "    print(f\"{name}: {value:.4f}\")"
      ]
    },
    {
      "cell_type": "markdown",
      "metadata": {
        "id": "wa3Dfugd1U4P"
      },
      "source": [
        "### 3.c) Train and Evaluate the Decision Trees Model"
      ]
    },
    {
      "cell_type": "code",
      "execution_count": 32,
      "metadata": {
        "colab": {
          "base_uri": "https://localhost:8080/"
        },
        "id": "bDPPbOgPFCBF",
        "outputId": "37d99aa9-c5f7-48e5-9fb6-5764b7eb6067"
      },
      "outputs": [
        {
          "output_type": "stream",
          "name": "stdout",
          "text": [
            "Use /tmp/tmp78bf_is7 as temporary training directory\n",
            "Starting reading the dataset\n",
            "1/4 [======>.......................] - ETA: 0s\n",
            "Dataset read in 0:00:00.128769\n",
            "Training model\n",
            "Model trained in 0:00:00.011415\n",
            "Compiling model\n",
            "4/4 [==============================] - 0s 13ms/step\n",
            "Model training time: 0:00:00.275233 \n",
            "\n"
          ]
        }
      ],
      "source": [
        "# Define the baseline model for benchmarking\n",
        "start_time_module = datetime.now()\n",
        "reset_random()\n",
        "CART_model = tfdf.keras.CartModel(task = tfdf.keras.Task.CLASSIFICATION)\n",
        "CART_model.compile(metrics=DEFAULT_METRICS)\n",
        "\n",
        "# \"sys_pipes\" is optional. It enables the display of the training logs.\n",
        "# with sys_pipes():\n",
        "#     CART_model.fit(x=tfds_train)\n",
        "\n",
        "# Train the model.\n",
        "CART_model.fit(x=tfds_train)\n",
        "print ('Model training time:', (datetime.now() - start_time_module), '\\n')"
      ]
    },
    {
      "cell_type": "code",
      "execution_count": 33,
      "metadata": {
        "id": "LHcaxNLUc3Dp",
        "outputId": "a1852fb4-74b7-4a36-d516-065045937c9f",
        "colab": {
          "base_uri": "https://localhost:8080/"
        }
      },
      "outputs": [
        {
          "output_type": "stream",
          "name": "stdout",
          "text": [
            "4/4 [==============================] - 0s 7ms/step - loss: 0.0000e+00 - accuracy: 0.9373 - auc: 0.9853\n",
            "\n",
            "loss: 0.0000\n",
            "accuracy: 0.9373\n",
            "auc: 0.9853\n"
          ]
        }
      ],
      "source": [
        "CART_eval = CART_model.evaluate(tfds_train, return_dict=True)\n",
        "print()\n",
        "\n",
        "for name, value in CART_eval.items():\n",
        "    print(f\"{name}: {value:.4f}\")"
      ]
    },
    {
      "cell_type": "markdown",
      "metadata": {
        "id": "zVCQJVv21m86"
      },
      "source": [
        "### 3.d) Train and Evaluate the Gradient Boosted Trees Model"
      ]
    },
    {
      "cell_type": "code",
      "execution_count": 34,
      "metadata": {
        "colab": {
          "base_uri": "https://localhost:8080/"
        },
        "id": "ogW3JeatFDRS",
        "outputId": "e000892c-3c2a-44ae-ea33-e0d336b1d21a"
      },
      "outputs": [
        {
          "output_type": "stream",
          "name": "stdout",
          "text": [
            "Use /tmp/tmp6zdss4vd as temporary training directory\n",
            "Starting reading the dataset\n",
            "1/4 [======>.......................] - ETA: 0s\n",
            "Dataset read in 0:00:00.141162\n",
            "Training model\n",
            "Model trained in 0:00:00.752198\n",
            "Compiling model\n",
            "4/4 [==============================] - 1s 260ms/step\n",
            "Model training time: 0:00:01.508380 \n",
            "\n"
          ]
        }
      ],
      "source": [
        "# Define the baseline model for benchmarking\n",
        "start_time_module = datetime.now()\n",
        "reset_random()\n",
        "GBT_model = tfdf.keras.GradientBoostedTreesModel(task = tfdf.keras.Task.CLASSIFICATION)\n",
        "GBT_model.compile(metrics=DEFAULT_METRICS)\n",
        "\n",
        "# \"sys_pipes\" is optional. It enables the display of the training logs.\n",
        "# with sys_pipes():\n",
        "#     GBT_model.fit(x=tfds_train)\n",
        "\n",
        "# Train the model.\n",
        "GBT_model.fit(x=tfds_train)\n",
        "print ('Model training time:', (datetime.now() - start_time_module), '\\n')"
      ]
    },
    {
      "cell_type": "code",
      "execution_count": 35,
      "metadata": {
        "colab": {
          "base_uri": "https://localhost:8080/",
          "height": 388
        },
        "id": "e0K_RY-tkUDo",
        "outputId": "31ce58df-bff3-4ca5-b6a7-e043a7d3843a"
      },
      "outputs": [
        {
          "output_type": "display_data",
          "data": {
            "text/plain": [
              "<Figure size 1296x432 with 2 Axes>"
            ],
            "image/png": "[encoded data removed]"
          },
          "metadata": {
            "needs_background": "light"
          }
        }
      ],
      "source": [
        "logs = GBT_model.make_inspector().training_logs()\n",
        "\n",
        "plt.figure(figsize=(18, 6))\n",
        "plt.subplot(1, 2, 1)\n",
        "plt.plot([log.num_trees for log in logs], [log.evaluation.accuracy for log in logs])\n",
        "plt.xlabel(\"Number of trees\")\n",
        "plt.ylabel(\"Accuracy (out-of-bag)\")\n",
        "plt.subplot(1, 2, 2)\n",
        "plt.plot([log.num_trees for log in logs], [log.evaluation.loss for log in logs])\n",
        "plt.xlabel(\"Number of trees\")\n",
        "plt.ylabel(\"Log Loss (out-of-bag)\")\n",
        "plt.show()"
      ]
    },
    {
      "cell_type": "code",
      "execution_count": 36,
      "metadata": {
        "id": "_Z8qoCXSc3Dp",
        "outputId": "82cbd01f-1e04-4b3f-a833-04634224ca84",
        "colab": {
          "base_uri": "https://localhost:8080/"
        }
      },
      "outputs": [
        {
          "output_type": "stream",
          "name": "stdout",
          "text": [
            "4/4 [==============================] - 0s 5ms/step - loss: 0.0000e+00 - accuracy: 0.9551 - auc: 0.9883\n",
            "\n",
            "loss: 0.0000\n",
            "accuracy: 0.9551\n",
            "auc: 0.9883\n"
          ]
        }
      ],
      "source": [
        "GBT_eval = GBT_model.evaluate(tfds_train, return_dict=True)\n",
        "print()\n",
        "\n",
        "for name, value in GBT_eval.items():\n",
        "    print(f\"{name}: {value:.4f}\")"
      ]
    },
    {
      "cell_type": "code",
      "execution_count": 37,
      "metadata": {
        "id": "g2ZPK8-5wXjU",
        "jupyter": {
          "outputs_hidden": false
        },
        "pycharm": {
          "name": "#%%\n"
        }
      },
      "outputs": [],
      "source": [
        "if NOTIFY_STATUS: status_notify(\"Task 4 - Train and Evaluate Models completed! \"+datetime.now().strftime('%a %B %d, %Y %I:%M:%S %p'))"
      ]
    },
    {
      "cell_type": "markdown",
      "metadata": {
        "id": "ISyQ5uNrwXjU"
      },
      "source": [
        "## Task 4 - Fine-tune and Improve Models"
      ]
    },
    {
      "cell_type": "code",
      "execution_count": 38,
      "metadata": {
        "id": "l3AulRWbzzOz"
      },
      "outputs": [],
      "source": [
        "if NOTIFY_STATUS: status_notify(\"Task 4 - Fine-tune and Improve Models has begun! \"+datetime.now().strftime('%a %B %d, %Y %I:%M:%S %p'))"
      ]
    },
    {
      "cell_type": "code",
      "execution_count": 39,
      "metadata": {
        "id": "vlCLtsxjzQ2V"
      },
      "outputs": [],
      "source": [
        "# Not applicable for this iteration of modeling"
      ]
    },
    {
      "cell_type": "code",
      "execution_count": 40,
      "metadata": {
        "id": "orMchSDCzr07"
      },
      "outputs": [],
      "source": [
        "if NOTIFY_STATUS: status_notify(\"Task 4 - Fine-tune and Improve Models completed! \"+datetime.now().strftime('%a %B %d, %Y %I:%M:%S %p'))"
      ]
    },
    {
      "cell_type": "markdown",
      "metadata": {
        "id": "D7UgYoGuzaM-"
      },
      "source": [
        "## Task 5 - Finalize Model and Present Analysis"
      ]
    },
    {
      "cell_type": "code",
      "execution_count": 41,
      "metadata": {
        "id": "BhuD5C56wXjV"
      },
      "outputs": [],
      "source": [
        "if NOTIFY_STATUS: status_notify(\"Task 5 - Finalize Model and Present Analysis has begun! \"+datetime.now().strftime('%a %B %d, %Y %I:%M:%S %p'))"
      ]
    },
    {
      "cell_type": "markdown",
      "metadata": {
        "id": "xDcJ2kVE8xNI"
      },
      "source": [
        "### 5.a) Train the Final Model"
      ]
    },
    {
      "cell_type": "code",
      "execution_count": 42,
      "metadata": {
        "colab": {
          "base_uri": "https://localhost:8080/"
        },
        "id": "dsntMWlJwXjV",
        "outputId": "317c0fe1-c236-434e-8195-3ff1dd5a85e4"
      },
      "outputs": [
        {
          "output_type": "stream",
          "name": "stdout",
          "text": [
            "Use /tmp/tmpc7dpjn7_ as temporary training directory\n",
            "Starting reading the dataset\n",
            "1/4 [======>.......................] - ETA: 0s\n",
            "Dataset read in 0:00:00.130301\n",
            "Training model\n",
            "Model trained in 0:00:01.148318\n",
            "Compiling model\n",
            "4/4 [==============================] - 1s 435ms/step\n",
            "Model training time: 0:00:02.794413 \n",
            "\n"
          ]
        }
      ],
      "source": [
        "# Define the baseline model for benchmarking\n",
        "start_time_module = datetime.now()\n",
        "reset_random()\n",
        "Final_model = tfdf.keras.RandomForestModel(task = tfdf.keras.Task.CLASSIFICATION)\n",
        "\n",
        "# Optionally, add evaluation metrics.\n",
        "Final_model.compile(metrics=DEFAULT_METRICS)\n",
        "\n",
        "# \"sys_pipes\" is optional. It enables the display of the training logs.\n",
        "# with sys_pipes():\n",
        "#     Final_model.fit(x=tfds_train)\n",
        "\n",
        "# Train the model.\n",
        "Final_model.fit(x=tfds_train)\n",
        "print ('Model training time:', (datetime.now() - start_time_module), '\\n')"
      ]
    },
    {
      "cell_type": "code",
      "execution_count": 43,
      "metadata": {
        "colab": {
          "base_uri": "https://localhost:8080/"
        },
        "id": "IuwcWWXF89YM",
        "outputId": "4c21a864-b126-42ca-d99b-0b60d2a786cf"
      },
      "outputs": [
        {
          "output_type": "stream",
          "name": "stdout",
          "text": [
            "Model: \"random_forest_model_1\"\n",
            "_________________________________________________________________\n",
            " Layer (type)                Output Shape              Param #   \n",
            "=================================================================\n",
            "=================================================================\n",
            "Total params: 1\n",
            "Trainable params: 0\n",
            "Non-trainable params: 1\n",
            "_________________________________________________________________\n",
            "Type: \"RANDOM_FOREST\"\n",
            "Task: CLASSIFICATION\n",
            "Label: \"__LABEL\"\n",
            "\n",
            "Input Features (7):\n",
            "\tArea\n",
            "\tConvex_Area\n",
            "\tEccentricity\n",
            "\tExtent\n",
            "\tMajor_Axis_Length\n",
            "\tMinor_Axis_Length\n",
            "\tPerimeter\n",
            "\n",
            "No weights\n",
            "\n",
            "Variable Importance: MEAN_MIN_DEPTH:\n",
            "    1.           \"__LABEL\"  8.847744 ################\n",
            "    2. \"Minor_Axis_Length\"  6.543729 ###########\n",
            "    3.            \"Extent\"  6.350152 ##########\n",
            "    4.              \"Area\"  6.281004 ##########\n",
            "    5.       \"Convex_Area\"  5.697264 #########\n",
            "    6.      \"Eccentricity\"  5.145903 ########\n",
            "    7.         \"Perimeter\"  2.201945 ##\n",
            "    8. \"Major_Axis_Length\"  1.084952 \n",
            "\n",
            "Variable Importance: NUM_AS_ROOT:\n",
            "    1. \"Major_Axis_Length\" 157.000000 ################\n",
            "    2.         \"Perimeter\" 102.000000 #########\n",
            "    3.       \"Convex_Area\" 28.000000 #\n",
            "    4.              \"Area\" 13.000000 \n",
            "\n",
            "Variable Importance: NUM_NODES:\n",
            "    1. \"Major_Axis_Length\" 6054.000000 ################\n",
            "    2.         \"Perimeter\" 5785.000000 #############\n",
            "    3.            \"Extent\" 5540.000000 ###########\n",
            "    4.      \"Eccentricity\" 4826.000000 ######\n",
            "    5.       \"Convex_Area\" 4098.000000 \n",
            "    6.              \"Area\" 4088.000000 \n",
            "    7. \"Minor_Axis_Length\" 4079.000000 \n",
            "\n",
            "Variable Importance: SUM_SCORE:\n",
            "    1. \"Major_Axis_Length\" 309497.806047 ################\n",
            "    2.         \"Perimeter\" 188341.138859 #########\n",
            "    3.       \"Convex_Area\" 49307.602274 #\n",
            "    4.              \"Area\" 31014.928859 \n",
            "    5.      \"Eccentricity\" 27022.368221 \n",
            "    6.            \"Extent\" 20796.095432 \n",
            "    7. \"Minor_Axis_Length\" 16270.322781 \n",
            "\n",
            "\n",
            "\n",
            "Winner take all: true\n",
            "Out-of-bag evaluation: accuracy:0.923301 logloss:0.339116\n",
            "Number of trees: 300\n",
            "Total number of nodes: 69240\n",
            "\n",
            "Number of nodes by tree:\n",
            "Count: 300 Average: 230.8 StdDev: 11.6006\n",
            "Min: 199 Max: 261 Ignored: 0\n",
            "----------------------------------------------\n",
            "[ 199, 202)  2   0.67%   0.67%\n",
            "[ 202, 205)  2   0.67%   1.33%\n",
            "[ 205, 208)  6   2.00%   3.33% #\n",
            "[ 208, 211)  3   1.00%   4.33% #\n",
            "[ 211, 214) 13   4.33%   8.67% ###\n",
            "[ 214, 217) 10   3.33%  12.00% ##\n",
            "[ 217, 221) 14   4.67%  16.67% ###\n",
            "[ 221, 224) 32  10.67%  27.33% ########\n",
            "[ 224, 227) 12   4.00%  31.33% ###\n",
            "[ 227, 230) 42  14.00%  45.33% ##########\n",
            "[ 230, 233) 24   8.00%  53.33% ######\n",
            "[ 233, 236) 42  14.00%  67.33% ##########\n",
            "[ 236, 239) 22   7.33%  74.67% #####\n",
            "[ 239, 243) 25   8.33%  83.00% ######\n",
            "[ 243, 246) 23   7.67%  90.67% #####\n",
            "[ 246, 249)  5   1.67%  92.33% #\n",
            "[ 249, 252) 15   5.00%  97.33% ####\n",
            "[ 252, 255)  3   1.00%  98.33% #\n",
            "[ 255, 258)  3   1.00%  99.33% #\n",
            "[ 258, 261]  2   0.67% 100.00%\n",
            "\n",
            "Depth by leafs:\n",
            "Count: 34770 Average: 8.84757 StdDev: 2.73293\n",
            "Min: 2 Max: 15 Ignored: 0\n",
            "----------------------------------------------\n",
            "[  2,  3)   12   0.03%   0.03%\n",
            "[  3,  4)  237   0.68%   0.72%\n",
            "[  4,  5) 1065   3.06%   3.78% ##\n",
            "[  5,  6) 2347   6.75%  10.53% #####\n",
            "[  6,  7) 3650  10.50%  21.03% #######\n",
            "[  7,  8) 4580  13.17%  34.20% #########\n",
            "[  8,  9) 4955  14.25%  48.45% ##########\n",
            "[  9, 10) 4614  13.27%  61.72% #########\n",
            "[ 10, 11) 3972  11.42%  73.14% ########\n",
            "[ 11, 12) 3138   9.03%  82.17% ######\n",
            "[ 12, 13) 2374   6.83%  89.00% #####\n",
            "[ 13, 14) 1608   4.62%  93.62% ###\n",
            "[ 14, 15) 1126   3.24%  96.86% ##\n",
            "[ 15, 15] 1092   3.14% 100.00% ##\n",
            "\n",
            "Number of training obs by leaf:\n",
            "Count: 34770 Average: 29.5858 StdDev: 101.421\n",
            "Min: 5 Max: 1250 Ignored: 0\n",
            "----------------------------------------------\n",
            "[    5,   67) 32563  93.65%  93.65% ##########\n",
            "[   67,  129)   928   2.67%  96.32%\n",
            "[  129,  191)   379   1.09%  97.41%\n",
            "[  191,  254)   187   0.54%  97.95%\n",
            "[  254,  316)    70   0.20%  98.15%\n",
            "[  316,  378)    26   0.07%  98.23%\n",
            "[  378,  441)    20   0.06%  98.28%\n",
            "[  441,  503)    15   0.04%  98.33%\n",
            "[  503,  565)    19   0.05%  98.38%\n",
            "[  565,  628)    86   0.25%  98.63%\n",
            "[  628,  690)   131   0.38%  99.00%\n",
            "[  690,  752)   108   0.31%  99.32%\n",
            "[  752,  814)    71   0.20%  99.52%\n",
            "[  814,  877)    65   0.19%  99.71%\n",
            "[  877,  939)    30   0.09%  99.79%\n",
            "[  939, 1001)    28   0.08%  99.87%\n",
            "[ 1001, 1064)    30   0.09%  99.96%\n",
            "[ 1064, 1126)     8   0.02%  99.98%\n",
            "[ 1126, 1188)     5   0.01% 100.00%\n",
            "[ 1188, 1250]     1   0.00% 100.00%\n",
            "\n",
            "Attribute in nodes:\n",
            "\t6054 : Major_Axis_Length [NUMERICAL]\n",
            "\t5785 : Perimeter [NUMERICAL]\n",
            "\t5540 : Extent [NUMERICAL]\n",
            "\t4826 : Eccentricity [NUMERICAL]\n",
            "\t4098 : Convex_Area [NUMERICAL]\n",
            "\t4088 : Area [NUMERICAL]\n",
            "\t4079 : Minor_Axis_Length [NUMERICAL]\n",
            "\n",
            "Attribute in nodes with depth <= 0:\n",
            "\t157 : Major_Axis_Length [NUMERICAL]\n",
            "\t102 : Perimeter [NUMERICAL]\n",
            "\t28 : Convex_Area [NUMERICAL]\n",
            "\t13 : Area [NUMERICAL]\n",
            "\n",
            "Attribute in nodes with depth <= 1:\n",
            "\t463 : Major_Axis_Length [NUMERICAL]\n",
            "\t310 : Perimeter [NUMERICAL]\n",
            "\t59 : Convex_Area [NUMERICAL]\n",
            "\t41 : Eccentricity [NUMERICAL]\n",
            "\t26 : Area [NUMERICAL]\n",
            "\t1 : Extent [NUMERICAL]\n",
            "\n",
            "Attribute in nodes with depth <= 2:\n",
            "\t997 : Major_Axis_Length [NUMERICAL]\n",
            "\t554 : Perimeter [NUMERICAL]\n",
            "\t238 : Eccentricity [NUMERICAL]\n",
            "\t128 : Convex_Area [NUMERICAL]\n",
            "\t71 : Area [NUMERICAL]\n",
            "\t54 : Extent [NUMERICAL]\n",
            "\t46 : Minor_Axis_Length [NUMERICAL]\n",
            "\n",
            "Attribute in nodes with depth <= 3:\n",
            "\t1508 : Major_Axis_Length [NUMERICAL]\n",
            "\t870 : Perimeter [NUMERICAL]\n",
            "\t600 : Eccentricity [NUMERICAL]\n",
            "\t348 : Convex_Area [NUMERICAL]\n",
            "\t325 : Extent [NUMERICAL]\n",
            "\t312 : Area [NUMERICAL]\n",
            "\t264 : Minor_Axis_Length [NUMERICAL]\n",
            "\n",
            "Attribute in nodes with depth <= 5:\n",
            "\t2641 : Major_Axis_Length [NUMERICAL]\n",
            "\t2075 : Perimeter [NUMERICAL]\n",
            "\t1625 : Eccentricity [NUMERICAL]\n",
            "\t1596 : Extent [NUMERICAL]\n",
            "\t1211 : Convex_Area [NUMERICAL]\n",
            "\t1188 : Minor_Axis_Length [NUMERICAL]\n",
            "\t1183 : Area [NUMERICAL]\n",
            "\n",
            "Condition type in nodes:\n",
            "\t34470 : HigherCondition\n",
            "Condition type in nodes with depth <= 0:\n",
            "\t300 : HigherCondition\n",
            "Condition type in nodes with depth <= 1:\n",
            "\t900 : HigherCondition\n",
            "Condition type in nodes with depth <= 2:\n",
            "\t2088 : HigherCondition\n",
            "Condition type in nodes with depth <= 3:\n",
            "\t4227 : HigherCondition\n",
            "Condition type in nodes with depth <= 5:\n",
            "\t11519 : HigherCondition\n",
            "Node format: NOT_SET\n",
            "\n",
            "Training OOB:\n",
            "\ttrees: 1, Out-of-bag evaluation: accuracy:0.884227 logloss:4.17289\n",
            "\ttrees: 11, Out-of-bag evaluation: accuracy:0.909651 logloss:1.57078\n",
            "\ttrees: 21, Out-of-bag evaluation: accuracy:0.921551 logloss:1.03574\n",
            "\ttrees: 31, Out-of-bag evaluation: accuracy:0.918927 logloss:0.83954\n",
            "\ttrees: 41, Out-of-bag evaluation: accuracy:0.92126 logloss:0.683431\n",
            "\ttrees: 51, Out-of-bag evaluation: accuracy:0.921551 logloss:0.574235\n",
            "\ttrees: 61, Out-of-bag evaluation: accuracy:0.920677 logloss:0.546321\n",
            "\ttrees: 71, Out-of-bag evaluation: accuracy:0.92126 logloss:0.488602\n",
            "\ttrees: 81, Out-of-bag evaluation: accuracy:0.920385 logloss:0.47913\n",
            "\ttrees: 91, Out-of-bag evaluation: accuracy:0.920677 logloss:0.478865\n",
            "\ttrees: 101, Out-of-bag evaluation: accuracy:0.920677 logloss:0.46068\n",
            "\ttrees: 111, Out-of-bag evaluation: accuracy:0.922426 logloss:0.432575\n",
            "\ttrees: 121, Out-of-bag evaluation: accuracy:0.92301 logloss:0.41313\n",
            "\ttrees: 131, Out-of-bag evaluation: accuracy:0.922426 logloss:0.413595\n",
            "\ttrees: 141, Out-of-bag evaluation: accuracy:0.921843 logloss:0.404497\n",
            "\ttrees: 151, Out-of-bag evaluation: accuracy:0.920968 logloss:0.394981\n",
            "\ttrees: 161, Out-of-bag evaluation: accuracy:0.922426 logloss:0.394495\n",
            "\ttrees: 171, Out-of-bag evaluation: accuracy:0.921843 logloss:0.394641\n",
            "\ttrees: 181, Out-of-bag evaluation: accuracy:0.922426 logloss:0.376391\n",
            "\ttrees: 191, Out-of-bag evaluation: accuracy:0.922426 logloss:0.376408\n",
            "\ttrees: 201, Out-of-bag evaluation: accuracy:0.92301 logloss:0.36729\n",
            "\ttrees: 211, Out-of-bag evaluation: accuracy:0.92301 logloss:0.367022\n",
            "\ttrees: 221, Out-of-bag evaluation: accuracy:0.922718 logloss:0.348872\n",
            "\ttrees: 231, Out-of-bag evaluation: accuracy:0.921551 logloss:0.348433\n",
            "\ttrees: 241, Out-of-bag evaluation: accuracy:0.922135 logloss:0.339525\n",
            "\ttrees: 251, Out-of-bag evaluation: accuracy:0.922426 logloss:0.339803\n",
            "\ttrees: 261, Out-of-bag evaluation: accuracy:0.923301 logloss:0.339569\n",
            "\ttrees: 271, Out-of-bag evaluation: accuracy:0.923301 logloss:0.339348\n",
            "\ttrees: 281, Out-of-bag evaluation: accuracy:0.923885 logloss:0.33912\n",
            "\ttrees: 291, Out-of-bag evaluation: accuracy:0.92301 logloss:0.339022\n",
            "\ttrees: 300, Out-of-bag evaluation: accuracy:0.923301 logloss:0.339116\n",
            "\n"
          ]
        }
      ],
      "source": [
        "Final_model.summary()"
      ]
    },
    {
      "cell_type": "markdown",
      "metadata": {
        "id": "vAzsJd7g9Oqi"
      },
      "source": [
        "### 5.b) Load Test Dataset and Make Predictions"
      ]
    },
    {
      "cell_type": "code",
      "execution_count": 44,
      "metadata": {
        "id": "9hPuYzYP9VZ9",
        "colab": {
          "base_uri": "https://localhost:8080/"
        },
        "outputId": "606e1162-cfba-4434-d16b-307fd7744260"
      },
      "outputs": [
        {
          "output_type": "stream",
          "name": "stderr",
          "text": [
            "/usr/local/lib/python3.7/dist-packages/tensorflow_decision_forests/keras/core.py:2036: FutureWarning: In a future version of pandas all arguments of DataFrame.drop except for the argument 'labels' will be keyword-only\n",
            "  features_dataframe = dataframe.drop(label, 1)\n"
          ]
        }
      ],
      "source": [
        "# Finalize the test dataset for the prediction activities\n",
        "tfds_test = tfdf.keras.pd_dataframe_to_tf_dataset(df_dataset_test, label='target', task = tfdf.keras.Task.CLASSIFICATION)"
      ]
    },
    {
      "cell_type": "code",
      "execution_count": 45,
      "metadata": {
        "colab": {
          "base_uri": "https://localhost:8080/"
        },
        "id": "-fvgenmXwXjV",
        "outputId": "32458bc0-2720-4b38-a121-485e75b3796b"
      },
      "outputs": [
        {
          "output_type": "stream",
          "name": "stdout",
          "text": [
            "1/1 [==============================] - 0s 319ms/step - loss: 0.0000e+00 - accuracy: 0.9265 - auc: 0.9877\n",
            "\n",
            "loss: 0.0000\n",
            "accuracy: 0.9265\n",
            "auc: 0.9877\n"
          ]
        }
      ],
      "source": [
        "Final_eval = Final_model.evaluate(tfds_test, return_dict=True)\n",
        "print()\n",
        "\n",
        "for name, value in Final_eval.items():\n",
        "    print(f\"{name}: {value:.4f}\")"
      ]
    },
    {
      "cell_type": "code",
      "execution_count": 46,
      "metadata": {
        "id": "YB2v5Iq9wXjV"
      },
      "outputs": [],
      "source": [
        "if NOTIFY_STATUS: status_notify(\"Task 5 - Finalize Model and Present Analysis completed! \"+datetime.now().strftime('%a %B %d, %Y %I:%M:%S %p'))"
      ]
    },
    {
      "cell_type": "code",
      "execution_count": 47,
      "metadata": {
        "colab": {
          "base_uri": "https://localhost:8080/"
        },
        "id": "piIVF1NIwXjW",
        "outputId": "58bc4cc0-4825-4c88-bbe9-ad61106273c0"
      },
      "outputs": [
        {
          "output_type": "stream",
          "name": "stdout",
          "text": [
            "Total time for the script: 0:00:27.221539\n"
          ]
        }
      ],
      "source": [
        "print ('Total time for the script:',(datetime.now() - start_time_script))"
      ]
    }
  ],
  "metadata": {
    "colab": {
      "collapsed_sections": [],
      "name": "py_decisionforests_binaryclass_muratkoklu_rice_cammeo_osmancik.ipynb",
      "provenance": [],
      "background_execution": "on"
    },
    "kernelspec": {
      "display_name": "Python 3 (ipykernel)",
      "language": "python",
      "name": "python3"
    },
    "language_info": {
      "codemirror_mode": {
        "name": "ipython",
        "version": 3
      },
      "file_extension": ".py",
      "mimetype": "text/x-python",
      "name": "python",
      "nbconvert_exporter": "python",
      "pygments_lexer": "ipython3",
      "version": "3.8.10"
    }
  },
  "nbformat": 4,
  "nbformat_minor": 0
}
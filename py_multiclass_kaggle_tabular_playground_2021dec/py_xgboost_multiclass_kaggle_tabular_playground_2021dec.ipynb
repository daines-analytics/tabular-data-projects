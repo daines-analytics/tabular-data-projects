{
 "cells": [
  {
   "cell_type": "markdown",
   "metadata": {
    "gradient": {
     "editing": false,
     "id": "546a6b83-0ee9-437e-86e4-b8c666e62913",
     "kernelId": "0e004cd2-b83a-4a62-b3c8-80ad6c7053ce"
    },
    "id": "TVs0Qopg3l7w"
   },
   "source": [
    "### Binary Classification Model for Kaggle Tabular Playground Series December 2021 Using Python and XGBoost\n",
    "### David Lowe\n",
    "### December 21, 2021\n",
    "\n",
    "Template Credit: Adapted from a template made available by Dr. Jason Brownlee of Machine Learning Mastery. [https://machinelearningmastery.com/]\n",
    "\n",
    "SUMMARY: This project aims to construct a predictive model using various machine learning algorithms and document the end-to-end steps using a template. The Kaggle Tabular Playground December 2021 dataset is a multi-class modeling situation where we attempt to predict one of several (more than two) possible outcomes.\n",
    "\n",
    "INTRODUCTION: Kaggle wants to provide an approachable environment for relatively new people in their data science journey. Since January 2021, they have hosted playground-style competitions on Kaggle with fun but less complex, tabular datasets. The dataset used for this competition is synthetic but based on a real dataset and generated using a CTGAN. The dataset is used for this competition is synthetic, but based on a real dataset and generated using a CTGAN. This dataset is based off of the original Forest Cover Type Prediction competition.\n",
    "\n",
    "ANALYSIS: The performance of the preliminary XGBoost model achieved an accuracy benchmark of 0.9590. After a series of tuning trials, the final model processed the training dataset with an accuracy score of 0.9613. When we processed the test dataset with the final model, the model achieved an accuracy score of 0.9546.\n",
    "\n",
    "CONCLUSION: In this iteration, the XGBoost model appeared to be a suitable algorithm for modeling this dataset.\n",
    "\n",
    "Dataset Used: Kaggle Tabular Playground 2021 December Data Set\n",
    "\n",
    "Dataset ML Model: Multi-Class classification with numerical and categorical attributes\n",
    "\n",
    "Dataset Reference: https://www.kaggle.com/c/tabular-playground-series-dec-2021\n",
    "\n",
    "One potential source of performance benchmark: https://www.kaggle.com/c/tabular-playground-series-dec-2021/leaderboard"
   ]
  },
  {
   "cell_type": "markdown",
   "metadata": {
    "gradient": {
     "editing": false,
     "id": "038c128f-551c-4dbe-903c-c8cf8d7924f7",
     "kernelId": "0e004cd2-b83a-4a62-b3c8-80ad6c7053ce"
    },
    "id": "XcvIFuk03l7z"
   },
   "source": [
    "## Task 1 - Prepare Environment"
   ]
  },
  {
   "cell_type": "code",
   "execution_count": 1,
   "metadata": {
    "gradient": {
     "editing": false,
     "execution_count": 1,
     "id": "aafaa81e-ba0f-4df5-9fd2-1e2e74f8183d",
     "kernelId": "0e004cd2-b83a-4a62-b3c8-80ad6c7053ce"
    },
    "id": "Q8WmuNd23l70"
   },
   "outputs": [],
   "source": [
    "# Install the necessary packages for Colab\n",
    "# !pip install python-dotenv PyMySQL"
   ]
  },
  {
   "cell_type": "code",
   "execution_count": 2,
   "metadata": {
    "colab": {
     "base_uri": "https://localhost:8080/"
    },
    "gradient": {
     "editing": false,
     "execution_count": 2,
     "id": "7c90a168-809e-4d0d-b6d5-ea5dadec4ade",
     "kernelId": "0e004cd2-b83a-4a62-b3c8-80ad6c7053ce"
    },
    "id": "oFWd7eph3l70",
    "outputId": "cc03d272-c3ef-4e5a-d783-9af20b12465c"
   },
   "outputs": [],
   "source": [
    "# # Retrieve the GPU information from Colab\n",
    "# gpu_info = !nvidia-smi\n",
    "# gpu_info = '\\n'.join(gpu_info)\n",
    "# if gpu_info.find('failed') >= 0:\n",
    "#     print('Select the Runtime → \"Change runtime type\" menu to enable a GPU accelerator, ')\n",
    "#     print('and then re-execute this cell.')\n",
    "# else:\n",
    "#     print(gpu_info)"
   ]
  },
  {
   "cell_type": "code",
   "execution_count": 3,
   "metadata": {
    "colab": {
     "base_uri": "https://localhost:8080/"
    },
    "gradient": {
     "editing": false,
     "execution_count": 3,
     "id": "081f922a-f3a7-477d-83f2-9d2d4d2ef111",
     "kernelId": "0e004cd2-b83a-4a62-b3c8-80ad6c7053ce"
    },
    "id": "2tWJ-QK63l71",
    "outputId": "a0ec5d9c-9cfa-4d2a-fbcf-24114702bc23"
   },
   "outputs": [],
   "source": [
    "# # Retrieve the memory configuration from Colab\n",
    "# from psutil import virtual_memory\n",
    "# ram_gb = virtual_memory().total / 1e9\n",
    "# print('Your runtime has {:.1f} gigabytes of available RAM\\n'.format(ram_gb))\n",
    "\n",
    "# if ram_gb < 20:\n",
    "#     print('To enable a high-RAM runtime, select the Runtime → \"Change runtime type\"')\n",
    "#     print('menu, and then select High-RAM in the Runtime shape dropdown. Then, ')\n",
    "#     print('re-execute this cell.')\n",
    "# else:\n",
    "#     print('You are using a high-RAM runtime!')"
   ]
  },
  {
   "cell_type": "code",
   "execution_count": 4,
   "metadata": {
    "gradient": {
     "editing": false,
     "id": "472201da-24fe-46b2-a67b-ce7196d75a89",
     "kernelId": "0e004cd2-b83a-4a62-b3c8-80ad6c7053ce"
    }
   },
   "outputs": [],
   "source": [
    "# # Mount Google Drive locally for loading the dotenv files\n",
    "# from dotenv import load_dotenv\n",
    "# from google.colab import drive\n",
    "# drive.mount('/content/gdrive')\n",
    "# gdrivePrefix = '/content/gdrive/My Drive/Colab_Downloads/'\n",
    "# env_path = '/content/gdrive/My Drive/Colab Notebooks/'\n",
    "# dotenv_path = env_path + \"python_script.env\"\n",
    "# load_dotenv(dotenv_path=dotenv_path)"
   ]
  },
  {
   "cell_type": "code",
   "execution_count": 5,
   "metadata": {
    "colab": {
     "base_uri": "https://localhost:8080/"
    },
    "gradient": {
     "editing": false,
     "execution_count": 4,
     "id": "86e30b85-0328-4c37-9197-09bf1ce2e88e",
     "kernelId": "0e004cd2-b83a-4a62-b3c8-80ad6c7053ce"
    },
    "id": "MMxv3rIM3l71",
    "outputId": "7983c7bb-9272-4ce2-d15e-39814b164950"
   },
   "outputs": [
    {
     "name": "stdout",
     "output_type": "stream",
     "text": [
      "The number of available CPUs is: 8\n"
     ]
    }
   ],
   "source": [
    "# Retrieve the CPU information\n",
    "ncpu = !nproc\n",
    "print(\"The number of available CPUs is:\", ncpu[0])"
   ]
  },
  {
   "cell_type": "markdown",
   "metadata": {
    "gradient": {
     "editing": false,
     "id": "78119108-fef8-4dd7-9839-8e8d5d74685b",
     "kernelId": "0e004cd2-b83a-4a62-b3c8-80ad6c7053ce"
    },
    "id": "I7LCAiYF3l72"
   },
   "source": [
    "### 1.a) Load libraries and modules"
   ]
  },
  {
   "cell_type": "code",
   "execution_count": 6,
   "metadata": {
    "gradient": {
     "editing": false,
     "execution_count": 5,
     "id": "4fa7c3d6-e23a-4b99-b850-32e6512af957",
     "kernelId": "0e004cd2-b83a-4a62-b3c8-80ad6c7053ce"
    },
    "id": "IcBsRRuj3l73"
   },
   "outputs": [],
   "source": [
    "# Set the random seed number for reproducible results\n",
    "RNG_SEED = 88"
   ]
  },
  {
   "cell_type": "code",
   "execution_count": 7,
   "metadata": {
    "gradient": {
     "editing": false,
     "execution_count": 6,
     "id": "70723bc0-6e8f-4cfa-b8e0-97ea927058b7",
     "kernelId": "0e004cd2-b83a-4a62-b3c8-80ad6c7053ce"
    },
    "id": "qvqMowk53l73"
   },
   "outputs": [],
   "source": [
    "import numpy as np\n",
    "import pandas as pd\n",
    "import seaborn as sns\n",
    "import matplotlib.pyplot as plt\n",
    "import os\n",
    "import sys\n",
    "import math\n",
    "# import boto3\n",
    "from datetime import datetime\n",
    "from sklearn import preprocessing\n",
    "from sklearn.model_selection import train_test_split\n",
    "from sklearn.model_selection import StratifiedKFold\n",
    "from sklearn.model_selection import cross_val_score\n",
    "from sklearn.model_selection import GridSearchCV\n",
    "from sklearn.metrics import classification_report\n",
    "from sklearn.metrics import confusion_matrix\n",
    "from sklearn.metrics import accuracy_score\n",
    "from sklearn.pipeline import Pipeline\n",
    "from sklearn import compose\n",
    "from sklearn import impute\n",
    "\n",
    "# from sklearn.feature_selection import RFE\n",
    "# from imblearn.pipeline import Pipeline\n",
    "# from imblearn.over_sampling import SMOTE\n",
    "# from imblearn.under_sampling import RandomUnderSampler\n",
    "\n",
    "from xgboost import XGBClassifier"
   ]
  },
  {
   "cell_type": "markdown",
   "metadata": {
    "gradient": {
     "editing": false,
     "id": "ceb2f17a-bdeb-45bd-91c3-e45fb295ae77",
     "kernelId": "0e004cd2-b83a-4a62-b3c8-80ad6c7053ce"
    },
    "id": "lj9CEmZv3l74"
   },
   "source": [
    "### 1.b) Set up the controlling parameters and functions"
   ]
  },
  {
   "cell_type": "code",
   "execution_count": 8,
   "metadata": {
    "gradient": {
     "editing": false,
     "execution_count": 7,
     "id": "f96c20ad-1db7-44af-a32b-558dd9fd1e49",
     "kernelId": "0e004cd2-b83a-4a62-b3c8-80ad6c7053ce"
    },
    "id": "37e7yBJt3l74"
   },
   "outputs": [],
   "source": [
    "# Begin the timer for the script processing\n",
    "START_TIME_SCRIPT = datetime.now()\n",
    "\n",
    "# Set up the number of CPU cores available for multi-thread processing\n",
    "N_JOBS = 2\n",
    "\n",
    "# Set up the flag to stop sending progress emails (setting to True will send status emails!)\n",
    "NOTIFY_STATUS = False\n",
    "\n",
    "# Set the percentage sizes for splitting the dataset\n",
    "TEST_SET_RATIO = 0.2\n",
    "VAL_SET_RATIO = 0.2\n",
    "\n",
    "# Set the number of folds for cross validation\n",
    "N_FOLDS = 5\n",
    "\n",
    "# Set default modeling scoring metric\n",
    "SCORING_METRIC = 'accuracy'\n",
    "\n",
    "# Define the directory locations and file names\n",
    "TRAIN_DATASET = 'train.csv'\n",
    "TEST_DATASET = 'test.csv'"
   ]
  },
  {
   "cell_type": "code",
   "execution_count": 9,
   "metadata": {
    "gradient": {
     "editing": false,
     "execution_count": 8,
     "id": "4a935d16-8e14-4979-9295-ca2596919cd4",
     "kernelId": "0e004cd2-b83a-4a62-b3c8-80ad6c7053ce"
    },
    "id": "DeabrzoC3l75"
   },
   "outputs": [],
   "source": [
    "# Set up the email notification function\n",
    "def status_notify(msg_text):\n",
    "    access_key = os.environ.get('SNS_ACCESS_KEY')\n",
    "    secret_key = os.environ.get('SNS_SECRET_KEY')\n",
    "    aws_region = os.environ.get('SNS_AWS_REGION')\n",
    "    topic_arn = os.environ.get('SNS_TOPIC_ARN')\n",
    "    if (access_key is None) or (secret_key is None) or (aws_region is None):\n",
    "        sys.exit(\"Incomplete notification setup info. Script Processing Aborted!!!\")\n",
    "    sns = boto3.client('sns', aws_access_key_id=access_key, aws_secret_access_key=secret_key, region_name=aws_region)\n",
    "    response = sns.publish(TopicArn=topic_arn, Message=msg_text)\n",
    "    if response['ResponseMetadata']['HTTPStatusCode'] != 200 :\n",
    "        print('Status notification not OK with HTTP status code:', response['ResponseMetadata']['HTTPStatusCode'])"
   ]
  },
  {
   "cell_type": "code",
   "execution_count": 10,
   "metadata": {
    "gradient": {
     "editing": false,
     "execution_count": 9,
     "id": "d2351743-5eb8-4b5e-a6d6-13f06ca19ec5",
     "kernelId": "0e004cd2-b83a-4a62-b3c8-80ad6c7053ce"
    },
    "id": "-LXEI2QY3l75"
   },
   "outputs": [],
   "source": [
    "if NOTIFY_STATUS: status_notify(\"Task 1 - Prepare Environment has begun! \" + datetime.now().strftime('%a %B %d, %Y %I:%M:%S %p'))"
   ]
  },
  {
   "cell_type": "markdown",
   "metadata": {
    "gradient": {
     "editing": false,
     "id": "79088a66-f25b-4abb-ad1f-0e3657cb5dd3",
     "kernelId": "0e004cd2-b83a-4a62-b3c8-80ad6c7053ce"
    },
    "id": "Iud46_Nn3l76"
   },
   "source": [
    "### 1.c) Load dataset"
   ]
  },
  {
   "cell_type": "code",
   "execution_count": 11,
   "metadata": {
    "gradient": {
     "editing": false,
     "id": "69720c5d-6529-4373-999e-dcf83fdba18c",
     "kernelId": "0e004cd2-b83a-4a62-b3c8-80ad6c7053ce"
    }
   },
   "outputs": [],
   "source": [
    "if not os.path.exists(TRAIN_DATASET):\n",
    "    !wget https://dainesanalytics.com/datasets/kaggle-tabular-playground-2021dec/train.csv"
   ]
  },
  {
   "cell_type": "code",
   "execution_count": 12,
   "metadata": {
    "colab": {
     "base_uri": "https://localhost:8080/"
    },
    "gradient": {
     "execution_count": 10,
     "id": "cbb35f05-e219-403e-a8a9-405fbdb15331",
     "kernelId": "0e004cd2-b83a-4a62-b3c8-80ad6c7053ce"
    },
    "id": "zw8vysCp3l76",
    "outputId": "a2d8df31-357f-4d19-ed8a-dc2d1b7f7976"
   },
   "outputs": [
    {
     "name": "stdout",
     "output_type": "stream",
     "text": [
      "   Id  Elevation  Aspect  Slope  Horizontal_Distance_To_Hydrology  \\\n",
      "0   0       3189      40      8                                30   \n",
      "1   1       3026     182      5                               280   \n",
      "2   2       3106      13      7                               351   \n",
      "3   3       3022     276     13                               192   \n",
      "4   4       2906     186     13                               266   \n",
      "\n",
      "   Vertical_Distance_To_Hydrology  Horizontal_Distance_To_Roadways  \\\n",
      "0                              13                             3270   \n",
      "1                              29                             3270   \n",
      "2                              37                             2914   \n",
      "3                              16                             3034   \n",
      "4                              22                             2916   \n",
      "\n",
      "   Hillshade_9am  Hillshade_Noon  Hillshade_3pm  ...  Soil_Type32  \\\n",
      "0            206             234            193  ...            0   \n",
      "1            233             240            106  ...            0   \n",
      "2            208             234            137  ...            0   \n",
      "3            207             238            156  ...            0   \n",
      "4            231             231            154  ...            0   \n",
      "\n",
      "   Soil_Type33  Soil_Type34  Soil_Type35  Soil_Type36  Soil_Type37  \\\n",
      "0            0            0            0            0            0   \n",
      "1            0            0            0            0            0   \n",
      "2            0            0            0            0            0   \n",
      "3            0            0            0            0            0   \n",
      "4            0            0            0            0            0   \n",
      "\n",
      "   Soil_Type38  Soil_Type39  Soil_Type40  Cover_Type  \n",
      "0            0            0            0           1  \n",
      "1            0            0            0           2  \n",
      "2            0            0            0           1  \n",
      "3            0            0            0           2  \n",
      "4            0            0            0           2  \n",
      "\n",
      "[5 rows x 56 columns]\n"
     ]
    }
   ],
   "source": [
    "df_dataset_import = pd.read_csv(TRAIN_DATASET, index_col=False)\n",
    "\n",
    "# Take a peek at the dataframe after import\n",
    "print(df_dataset_import.head())"
   ]
  },
  {
   "cell_type": "code",
   "execution_count": 13,
   "metadata": {
    "colab": {
     "base_uri": "https://localhost:8080/"
    },
    "gradient": {
     "execution_count": 11,
     "id": "e6b55252-53a3-43ad-a542-84d28717d4eb",
     "kernelId": "0e004cd2-b83a-4a62-b3c8-80ad6c7053ce"
    },
    "id": "qdseXAzd3l76",
    "outputId": "17ef65cd-8c6c-4269-f4f8-917cc5ce8960"
   },
   "outputs": [
    {
     "name": "stdout",
     "output_type": "stream",
     "text": [
      "<class 'pandas.core.frame.DataFrame'>\n",
      "RangeIndex: 4000000 entries, 0 to 3999999\n",
      "Data columns (total 56 columns):\n",
      " #   Column                              Dtype\n",
      "---  ------                              -----\n",
      " 0   Id                                  int64\n",
      " 1   Elevation                           int64\n",
      " 2   Aspect                              int64\n",
      " 3   Slope                               int64\n",
      " 4   Horizontal_Distance_To_Hydrology    int64\n",
      " 5   Vertical_Distance_To_Hydrology      int64\n",
      " 6   Horizontal_Distance_To_Roadways     int64\n",
      " 7   Hillshade_9am                       int64\n",
      " 8   Hillshade_Noon                      int64\n",
      " 9   Hillshade_3pm                       int64\n",
      " 10  Horizontal_Distance_To_Fire_Points  int64\n",
      " 11  Wilderness_Area1                    int64\n",
      " 12  Wilderness_Area2                    int64\n",
      " 13  Wilderness_Area3                    int64\n",
      " 14  Wilderness_Area4                    int64\n",
      " 15  Soil_Type1                          int64\n",
      " 16  Soil_Type2                          int64\n",
      " 17  Soil_Type3                          int64\n",
      " 18  Soil_Type4                          int64\n",
      " 19  Soil_Type5                          int64\n",
      " 20  Soil_Type6                          int64\n",
      " 21  Soil_Type7                          int64\n",
      " 22  Soil_Type8                          int64\n",
      " 23  Soil_Type9                          int64\n",
      " 24  Soil_Type10                         int64\n",
      " 25  Soil_Type11                         int64\n",
      " 26  Soil_Type12                         int64\n",
      " 27  Soil_Type13                         int64\n",
      " 28  Soil_Type14                         int64\n",
      " 29  Soil_Type15                         int64\n",
      " 30  Soil_Type16                         int64\n",
      " 31  Soil_Type17                         int64\n",
      " 32  Soil_Type18                         int64\n",
      " 33  Soil_Type19                         int64\n",
      " 34  Soil_Type20                         int64\n",
      " 35  Soil_Type21                         int64\n",
      " 36  Soil_Type22                         int64\n",
      " 37  Soil_Type23                         int64\n",
      " 38  Soil_Type24                         int64\n",
      " 39  Soil_Type25                         int64\n",
      " 40  Soil_Type26                         int64\n",
      " 41  Soil_Type27                         int64\n",
      " 42  Soil_Type28                         int64\n",
      " 43  Soil_Type29                         int64\n",
      " 44  Soil_Type30                         int64\n",
      " 45  Soil_Type31                         int64\n",
      " 46  Soil_Type32                         int64\n",
      " 47  Soil_Type33                         int64\n",
      " 48  Soil_Type34                         int64\n",
      " 49  Soil_Type35                         int64\n",
      " 50  Soil_Type36                         int64\n",
      " 51  Soil_Type37                         int64\n",
      " 52  Soil_Type38                         int64\n",
      " 53  Soil_Type39                         int64\n",
      " 54  Soil_Type40                         int64\n",
      " 55  Cover_Type                          int64\n",
      "dtypes: int64(56)\n",
      "memory usage: 1.7 GB\n"
     ]
    }
   ],
   "source": [
    "df_dataset_import.info(verbose=True)"
   ]
  },
  {
   "cell_type": "code",
   "execution_count": 14,
   "metadata": {
    "colab": {
     "base_uri": "https://localhost:8080/"
    },
    "gradient": {
     "execution_count": 12,
     "id": "ee5b28b3-8752-486a-9d39-62f22ffcb33f",
     "kernelId": "0e004cd2-b83a-4a62-b3c8-80ad6c7053ce"
    },
    "id": "dut08ci_3l77",
    "outputId": "da12efd2-2262-4221-b742-bf6b5c3ed382"
   },
   "outputs": [
    {
     "name": "stdout",
     "output_type": "stream",
     "text": [
      "                 Id     Elevation        Aspect         Slope  \\\n",
      "count  4.000000e+06  4.000000e+06  4.000000e+06  4.000000e+06   \n",
      "mean   2.000000e+06  2.980192e+03  1.515857e+02  1.509754e+01   \n",
      "std    1.154701e+06  2.890482e+02  1.099611e+02  8.546731e+00   \n",
      "min    0.000000e+00  1.773000e+03 -3.300000e+01 -3.000000e+00   \n",
      "25%    9.999998e+05  2.760000e+03  6.000000e+01  9.000000e+00   \n",
      "50%    2.000000e+06  2.966000e+03  1.230000e+02  1.400000e+01   \n",
      "75%    2.999999e+06  3.217000e+03  2.470000e+02  2.000000e+01   \n",
      "max    3.999999e+06  4.383000e+03  4.070000e+02  6.400000e+01   \n",
      "\n",
      "       Horizontal_Distance_To_Hydrology  Vertical_Distance_To_Hydrology  \\\n",
      "count                      4.000000e+06                    4.000000e+06   \n",
      "mean                       2.713154e+02                    5.166262e+01   \n",
      "std                        2.265497e+02                    6.821597e+01   \n",
      "min                       -9.200000e+01                   -3.170000e+02   \n",
      "25%                        1.100000e+02                    4.000000e+00   \n",
      "50%                        2.130000e+02                    3.100000e+01   \n",
      "75%                        3.610000e+02                    7.800000e+01   \n",
      "max                        1.602000e+03                    6.470000e+02   \n",
      "\n",
      "       Horizontal_Distance_To_Roadways  Hillshade_9am  Hillshade_Noon  \\\n",
      "count                     4.000000e+06   4.000000e+06    4.000000e+06   \n",
      "mean                      1.766642e+03   2.118375e+02    2.210614e+02   \n",
      "std                       1.315610e+03   3.075996e+01    2.223134e+01   \n",
      "min                      -2.870000e+02  -4.000000e+00    4.900000e+01   \n",
      "25%                       8.220000e+02   1.980000e+02    2.100000e+02   \n",
      "50%                       1.436000e+03   2.180000e+02    2.240000e+02   \n",
      "75%                       2.365000e+03   2.330000e+02    2.370000e+02   \n",
      "max                       7.666000e+03   3.010000e+02    2.790000e+02   \n",
      "\n",
      "       Hillshade_3pm  ...   Soil_Type32   Soil_Type33   Soil_Type34  \\\n",
      "count   4.000000e+06  ...  4.000000e+06  4.000000e+06  4.000000e+06   \n",
      "mean    1.408109e+02  ...  3.746200e-02  3.782075e-02  1.199500e-02   \n",
      "std     4.369864e+01  ...  1.898910e-01  1.907625e-01  1.088629e-01   \n",
      "min    -5.300000e+01  ...  0.000000e+00  0.000000e+00  0.000000e+00   \n",
      "25%     1.150000e+02  ...  0.000000e+00  0.000000e+00  0.000000e+00   \n",
      "50%     1.420000e+02  ...  0.000000e+00  0.000000e+00  0.000000e+00   \n",
      "75%     1.690000e+02  ...  0.000000e+00  0.000000e+00  0.000000e+00   \n",
      "max     2.720000e+02  ...  1.000000e+00  1.000000e+00  1.000000e+00   \n",
      "\n",
      "        Soil_Type35   Soil_Type36   Soil_Type37   Soil_Type38   Soil_Type39  \\\n",
      "count  4.000000e+06  4.000000e+06  4.000000e+06  4.000000e+06  4.000000e+06   \n",
      "mean   1.605350e-02  1.071275e-02  1.220750e-02  4.075150e-02  3.923925e-02   \n",
      "std    1.256813e-01  1.029465e-01  1.098111e-01  1.977140e-01  1.941637e-01   \n",
      "min    0.000000e+00  0.000000e+00  0.000000e+00  0.000000e+00  0.000000e+00   \n",
      "25%    0.000000e+00  0.000000e+00  0.000000e+00  0.000000e+00  0.000000e+00   \n",
      "50%    0.000000e+00  0.000000e+00  0.000000e+00  0.000000e+00  0.000000e+00   \n",
      "75%    0.000000e+00  0.000000e+00  0.000000e+00  0.000000e+00  0.000000e+00   \n",
      "max    1.000000e+00  1.000000e+00  1.000000e+00  1.000000e+00  1.000000e+00   \n",
      "\n",
      "        Soil_Type40    Cover_Type  \n",
      "count  4.000000e+06  4.000000e+06  \n",
      "mean   3.161850e-02  1.771335e+00  \n",
      "std    1.749822e-01  8.938060e-01  \n",
      "min    0.000000e+00  1.000000e+00  \n",
      "25%    0.000000e+00  1.000000e+00  \n",
      "50%    0.000000e+00  2.000000e+00  \n",
      "75%    0.000000e+00  2.000000e+00  \n",
      "max    1.000000e+00  7.000000e+00  \n",
      "\n",
      "[8 rows x 56 columns]\n"
     ]
    }
   ],
   "source": [
    "print(df_dataset_import.describe())"
   ]
  },
  {
   "cell_type": "code",
   "execution_count": 15,
   "metadata": {
    "colab": {
     "base_uri": "https://localhost:8080/"
    },
    "gradient": {
     "execution_count": 13,
     "id": "cc109dd9-17b7-4e27-a5d2-20d3dba0b80e",
     "kernelId": "0e004cd2-b83a-4a62-b3c8-80ad6c7053ce"
    },
    "id": "6j5yMdxL3l77",
    "outputId": "08dfc446-acee-473b-e473-6d53e322875d"
   },
   "outputs": [
    {
     "name": "stdout",
     "output_type": "stream",
     "text": [
      "Id                                    0\n",
      "Elevation                             0\n",
      "Aspect                                0\n",
      "Slope                                 0\n",
      "Horizontal_Distance_To_Hydrology      0\n",
      "Vertical_Distance_To_Hydrology        0\n",
      "Horizontal_Distance_To_Roadways       0\n",
      "Hillshade_9am                         0\n",
      "Hillshade_Noon                        0\n",
      "Hillshade_3pm                         0\n",
      "Horizontal_Distance_To_Fire_Points    0\n",
      "Wilderness_Area1                      0\n",
      "Wilderness_Area2                      0\n",
      "Wilderness_Area3                      0\n",
      "Wilderness_Area4                      0\n",
      "Soil_Type1                            0\n",
      "Soil_Type2                            0\n",
      "Soil_Type3                            0\n",
      "Soil_Type4                            0\n",
      "Soil_Type5                            0\n",
      "Soil_Type6                            0\n",
      "Soil_Type7                            0\n",
      "Soil_Type8                            0\n",
      "Soil_Type9                            0\n",
      "Soil_Type10                           0\n",
      "Soil_Type11                           0\n",
      "Soil_Type12                           0\n",
      "Soil_Type13                           0\n",
      "Soil_Type14                           0\n",
      "Soil_Type15                           0\n",
      "Soil_Type16                           0\n",
      "Soil_Type17                           0\n",
      "Soil_Type18                           0\n",
      "Soil_Type19                           0\n",
      "Soil_Type20                           0\n",
      "Soil_Type21                           0\n",
      "Soil_Type22                           0\n",
      "Soil_Type23                           0\n",
      "Soil_Type24                           0\n",
      "Soil_Type25                           0\n",
      "Soil_Type26                           0\n",
      "Soil_Type27                           0\n",
      "Soil_Type28                           0\n",
      "Soil_Type29                           0\n",
      "Soil_Type30                           0\n",
      "Soil_Type31                           0\n",
      "Soil_Type32                           0\n",
      "Soil_Type33                           0\n",
      "Soil_Type34                           0\n",
      "Soil_Type35                           0\n",
      "Soil_Type36                           0\n",
      "Soil_Type37                           0\n",
      "Soil_Type38                           0\n",
      "Soil_Type39                           0\n",
      "Soil_Type40                           0\n",
      "Cover_Type                            0\n",
      "dtype: int64\n",
      "Total number of NaN in the dataframe:  0\n"
     ]
    }
   ],
   "source": [
    "print(df_dataset_import.isnull().sum())\n",
    "print('Total number of NaN in the dataframe: ', df_dataset_import.isnull().sum().sum())"
   ]
  },
  {
   "cell_type": "code",
   "execution_count": 16,
   "metadata": {
    "gradient": {
     "id": "ce00f8cd-fec0-4d81-9a5c-5b8c7563bf77",
     "kernelId": "0e004cd2-b83a-4a62-b3c8-80ad6c7053ce"
    }
   },
   "outputs": [
    {
     "name": "stdout",
     "output_type": "stream",
     "text": [
      "Cover_Type\n",
      "1    1468136\n",
      "2    2262087\n",
      "3     195712\n",
      "4        377\n",
      "5          1\n",
      "6      11426\n",
      "7      62261\n",
      "dtype: int64\n"
     ]
    }
   ],
   "source": [
    "# Get grouping size for the target variable\n",
    "print(df_dataset_import.groupby('Cover_Type').size())"
   ]
  },
  {
   "cell_type": "markdown",
   "metadata": {
    "id": "Hxxn8gnj3l78"
   },
   "source": [
    "### 1.d) Data Cleaning"
   ]
  },
  {
   "cell_type": "code",
   "execution_count": 17,
   "metadata": {
    "colab": {
     "base_uri": "https://localhost:8080/"
    },
    "gradient": {
     "execution_count": 14,
     "id": "56dd3a60-a0b6-4da3-b845-3d2c0a465b77",
     "kernelId": "0e004cd2-b83a-4a62-b3c8-80ad6c7053ce"
    },
    "id": "osjQPBQY3l78",
    "outputId": "01c96bdf-b539-4ea0-bdf8-93805b12f14a"
   },
   "outputs": [
    {
     "name": "stdout",
     "output_type": "stream",
     "text": [
      "   Elevation  Aspect  Slope  Horizontal_Distance_To_Hydrology  \\\n",
      "0     3189.0    40.0    8.0                              30.0   \n",
      "1     3026.0   182.0    5.0                             280.0   \n",
      "2     3106.0    13.0    7.0                             351.0   \n",
      "3     3022.0   276.0   13.0                             192.0   \n",
      "4     2906.0   186.0   13.0                             266.0   \n",
      "\n",
      "   Vertical_Distance_To_Hydrology  Horizontal_Distance_To_Roadways  \\\n",
      "0                            13.0                           3270.0   \n",
      "1                            29.0                           3270.0   \n",
      "2                            37.0                           2914.0   \n",
      "3                            16.0                           3034.0   \n",
      "4                            22.0                           2916.0   \n",
      "\n",
      "   Hillshade_9am  Hillshade_Noon  Hillshade_3pm  \\\n",
      "0          206.0           234.0          193.0   \n",
      "1          233.0           240.0          106.0   \n",
      "2          208.0           234.0          137.0   \n",
      "3          207.0           238.0          156.0   \n",
      "4          231.0           231.0          154.0   \n",
      "\n",
      "   Horizontal_Distance_To_Fire_Points  ...  Soil_Type32  Soil_Type33  \\\n",
      "0                              4873.0  ...            0            0   \n",
      "1                              5423.0  ...            0            0   \n",
      "2                              5269.0  ...            0            0   \n",
      "3                              2866.0  ...            0            0   \n",
      "4                              2642.0  ...            0            0   \n",
      "\n",
      "   Soil_Type34  Soil_Type35  Soil_Type36  Soil_Type37  Soil_Type38  \\\n",
      "0            0            0            0            0            0   \n",
      "1            0            0            0            0            0   \n",
      "2            0            0            0            0            0   \n",
      "3            0            0            0            0            0   \n",
      "4            0            0            0            0            0   \n",
      "\n",
      "   Soil_Type39  Soil_Type40  target  \n",
      "0            0            0       1  \n",
      "1            0            0       2  \n",
      "2            0            0       1  \n",
      "3            0            0       2  \n",
      "4            0            0       2  \n",
      "\n",
      "[5 rows x 53 columns]\n"
     ]
    }
   ],
   "source": [
    "# Dropping features withunique values or no variations\n",
    "df_dataset_import.drop(columns=['Id','Soil_Type7','Soil_Type15'], inplace=True)\n",
    "\n",
    "#Dropping class with the least number of rows associated with\n",
    "df_dataset_import = df_dataset_import[df_dataset_import['Cover_Type'] != 5]\n",
    "\n",
    "# Convert columns from one data type to another\n",
    "float_feature_list = ['Elevation','Aspect','Slope','Horizontal_Distance_To_Hydrology',\n",
    "                      'Vertical_Distance_To_Hydrology','Horizontal_Distance_To_Roadways',\n",
    "                      'Hillshade_9am','Hillshade_Noon','Hillshade_3pm','Horizontal_Distance_To_Fire_Points']\n",
    "for feature in float_feature_list:\n",
    "    df_dataset_import[feature] = df_dataset_import[feature].astype('float')\n",
    "\n",
    "# Standardize the class column to the name of target\n",
    "df_dataset_import = df_dataset_import.rename(columns={'Cover_Type':'target'})\n",
    "\n",
    "# Take a peek at the dataframe after cleaning\n",
    "print(df_dataset_import.head())"
   ]
  },
  {
   "cell_type": "code",
   "execution_count": 18,
   "metadata": {
    "colab": {
     "base_uri": "https://localhost:8080/"
    },
    "gradient": {
     "execution_count": 15,
     "id": "76179849-498d-40ff-99e5-bfb5bcedd52e",
     "kernelId": "0e004cd2-b83a-4a62-b3c8-80ad6c7053ce"
    },
    "id": "t36Yn9gl3l78",
    "outputId": "a230d933-e5fd-496b-b2dc-48e3f98e4357"
   },
   "outputs": [
    {
     "name": "stdout",
     "output_type": "stream",
     "text": [
      "<class 'pandas.core.frame.DataFrame'>\n",
      "Int64Index: 3999999 entries, 0 to 3999999\n",
      "Data columns (total 53 columns):\n",
      " #   Column                              Dtype  \n",
      "---  ------                              -----  \n",
      " 0   Elevation                           float64\n",
      " 1   Aspect                              float64\n",
      " 2   Slope                               float64\n",
      " 3   Horizontal_Distance_To_Hydrology    float64\n",
      " 4   Vertical_Distance_To_Hydrology      float64\n",
      " 5   Horizontal_Distance_To_Roadways     float64\n",
      " 6   Hillshade_9am                       float64\n",
      " 7   Hillshade_Noon                      float64\n",
      " 8   Hillshade_3pm                       float64\n",
      " 9   Horizontal_Distance_To_Fire_Points  float64\n",
      " 10  Wilderness_Area1                    int64  \n",
      " 11  Wilderness_Area2                    int64  \n",
      " 12  Wilderness_Area3                    int64  \n",
      " 13  Wilderness_Area4                    int64  \n",
      " 14  Soil_Type1                          int64  \n",
      " 15  Soil_Type2                          int64  \n",
      " 16  Soil_Type3                          int64  \n",
      " 17  Soil_Type4                          int64  \n",
      " 18  Soil_Type5                          int64  \n",
      " 19  Soil_Type6                          int64  \n",
      " 20  Soil_Type8                          int64  \n",
      " 21  Soil_Type9                          int64  \n",
      " 22  Soil_Type10                         int64  \n",
      " 23  Soil_Type11                         int64  \n",
      " 24  Soil_Type12                         int64  \n",
      " 25  Soil_Type13                         int64  \n",
      " 26  Soil_Type14                         int64  \n",
      " 27  Soil_Type16                         int64  \n",
      " 28  Soil_Type17                         int64  \n",
      " 29  Soil_Type18                         int64  \n",
      " 30  Soil_Type19                         int64  \n",
      " 31  Soil_Type20                         int64  \n",
      " 32  Soil_Type21                         int64  \n",
      " 33  Soil_Type22                         int64  \n",
      " 34  Soil_Type23                         int64  \n",
      " 35  Soil_Type24                         int64  \n",
      " 36  Soil_Type25                         int64  \n",
      " 37  Soil_Type26                         int64  \n",
      " 38  Soil_Type27                         int64  \n",
      " 39  Soil_Type28                         int64  \n",
      " 40  Soil_Type29                         int64  \n",
      " 41  Soil_Type30                         int64  \n",
      " 42  Soil_Type31                         int64  \n",
      " 43  Soil_Type32                         int64  \n",
      " 44  Soil_Type33                         int64  \n",
      " 45  Soil_Type34                         int64  \n",
      " 46  Soil_Type35                         int64  \n",
      " 47  Soil_Type36                         int64  \n",
      " 48  Soil_Type37                         int64  \n",
      " 49  Soil_Type38                         int64  \n",
      " 50  Soil_Type39                         int64  \n",
      " 51  Soil_Type40                         int64  \n",
      " 52  target                              int64  \n",
      "dtypes: float64(10), int64(43)\n",
      "memory usage: 1.6 GB\n"
     ]
    }
   ],
   "source": [
    "df_dataset_import.info(verbose=True)"
   ]
  },
  {
   "cell_type": "code",
   "execution_count": 19,
   "metadata": {
    "colab": {
     "base_uri": "https://localhost:8080/"
    },
    "gradient": {
     "execution_count": 16,
     "id": "7016ba60-091a-43d9-a610-207d86458fd0",
     "kernelId": "0e004cd2-b83a-4a62-b3c8-80ad6c7053ce"
    },
    "id": "3FFwZYXG3l79",
    "outputId": "70193a03-d67a-4438-98ac-95a51c51813f"
   },
   "outputs": [
    {
     "name": "stdout",
     "output_type": "stream",
     "text": [
      "          Elevation        Aspect         Slope  \\\n",
      "count  3.999999e+06  3.999999e+06  3.999999e+06   \n",
      "mean   2.980192e+03  1.515857e+02  1.509753e+01   \n",
      "std    2.890482e+02  1.099611e+02  8.546724e+00   \n",
      "min    1.773000e+03 -3.300000e+01 -3.000000e+00   \n",
      "25%    2.760000e+03  6.000000e+01  9.000000e+00   \n",
      "50%    2.966000e+03  1.230000e+02  1.400000e+01   \n",
      "75%    3.217000e+03  2.470000e+02  2.000000e+01   \n",
      "max    4.383000e+03  4.070000e+02  6.400000e+01   \n",
      "\n",
      "       Horizontal_Distance_To_Hydrology  Vertical_Distance_To_Hydrology  \\\n",
      "count                      3.999999e+06                    3.999999e+06   \n",
      "mean                       2.713155e+02                    5.166261e+01   \n",
      "std                        2.265497e+02                    6.821597e+01   \n",
      "min                       -9.200000e+01                   -3.170000e+02   \n",
      "25%                        1.100000e+02                    4.000000e+00   \n",
      "50%                        2.130000e+02                    3.100000e+01   \n",
      "75%                        3.610000e+02                    7.800000e+01   \n",
      "max                        1.602000e+03                    6.470000e+02   \n",
      "\n",
      "       Horizontal_Distance_To_Roadways  Hillshade_9am  Hillshade_Noon  \\\n",
      "count                     3.999999e+06   3.999999e+06    3.999999e+06   \n",
      "mean                      1.766642e+03   2.118375e+02    2.210614e+02   \n",
      "std                       1.315610e+03   3.075996e+01    2.223134e+01   \n",
      "min                      -2.870000e+02  -4.000000e+00    4.900000e+01   \n",
      "25%                       8.220000e+02   1.980000e+02    2.100000e+02   \n",
      "50%                       1.436000e+03   2.180000e+02    2.240000e+02   \n",
      "75%                       2.365000e+03   2.330000e+02    2.370000e+02   \n",
      "max                       7.666000e+03   3.010000e+02    2.790000e+02   \n",
      "\n",
      "       Hillshade_3pm  Horizontal_Distance_To_Fire_Points  ...   Soil_Type32  \\\n",
      "count   3.999999e+06                        3.999999e+06  ...  3.999999e+06   \n",
      "mean    1.408109e+02                        1.581405e+03  ...  3.746201e-02   \n",
      "std     4.369864e+01                        1.127612e+03  ...  1.898911e-01   \n",
      "min    -5.300000e+01                       -2.770000e+02  ...  0.000000e+00   \n",
      "25%     1.150000e+02                        7.810000e+02  ...  0.000000e+00   \n",
      "50%     1.420000e+02                        1.361000e+03  ...  0.000000e+00   \n",
      "75%     1.690000e+02                        2.084000e+03  ...  0.000000e+00   \n",
      "max     2.720000e+02                        8.075000e+03  ...  1.000000e+00   \n",
      "\n",
      "        Soil_Type33   Soil_Type34   Soil_Type35   Soil_Type36   Soil_Type37  \\\n",
      "count  3.999999e+06  3.999999e+06  3.999999e+06  3.999999e+06  3.999999e+06   \n",
      "mean   3.782076e-02  1.199500e-02  1.605350e-02  1.071275e-02  1.220750e-02   \n",
      "std    1.907626e-01  1.088629e-01  1.256813e-01  1.029466e-01  1.098111e-01   \n",
      "min    0.000000e+00  0.000000e+00  0.000000e+00  0.000000e+00  0.000000e+00   \n",
      "25%    0.000000e+00  0.000000e+00  0.000000e+00  0.000000e+00  0.000000e+00   \n",
      "50%    0.000000e+00  0.000000e+00  0.000000e+00  0.000000e+00  0.000000e+00   \n",
      "75%    0.000000e+00  0.000000e+00  0.000000e+00  0.000000e+00  0.000000e+00   \n",
      "max    1.000000e+00  1.000000e+00  1.000000e+00  1.000000e+00  1.000000e+00   \n",
      "\n",
      "        Soil_Type38   Soil_Type39   Soil_Type40        target  \n",
      "count  3.999999e+06  3.999999e+06  3.999999e+06  3.999999e+06  \n",
      "mean   4.075151e-02  3.923926e-02  3.161851e-02  1.771335e+00  \n",
      "std    1.977140e-01  1.941637e-01  1.749822e-01  8.938047e-01  \n",
      "min    0.000000e+00  0.000000e+00  0.000000e+00  1.000000e+00  \n",
      "25%    0.000000e+00  0.000000e+00  0.000000e+00  1.000000e+00  \n",
      "50%    0.000000e+00  0.000000e+00  0.000000e+00  2.000000e+00  \n",
      "75%    0.000000e+00  0.000000e+00  0.000000e+00  2.000000e+00  \n",
      "max    1.000000e+00  1.000000e+00  1.000000e+00  7.000000e+00  \n",
      "\n",
      "[8 rows x 53 columns]\n"
     ]
    }
   ],
   "source": [
    "print(df_dataset_import.describe())"
   ]
  },
  {
   "cell_type": "code",
   "execution_count": 20,
   "metadata": {
    "colab": {
     "base_uri": "https://localhost:8080/"
    },
    "gradient": {
     "execution_count": 17,
     "id": "1b9ec902-b30a-4f3e-9c9f-561e6eff329d",
     "kernelId": "0e004cd2-b83a-4a62-b3c8-80ad6c7053ce"
    },
    "id": "1QMi80kq3l79",
    "outputId": "ba1d2247-06e7-4b93-9563-b1c3f1dfe21a"
   },
   "outputs": [
    {
     "name": "stdout",
     "output_type": "stream",
     "text": [
      "Elevation                             0\n",
      "Aspect                                0\n",
      "Slope                                 0\n",
      "Horizontal_Distance_To_Hydrology      0\n",
      "Vertical_Distance_To_Hydrology        0\n",
      "Horizontal_Distance_To_Roadways       0\n",
      "Hillshade_9am                         0\n",
      "Hillshade_Noon                        0\n",
      "Hillshade_3pm                         0\n",
      "Horizontal_Distance_To_Fire_Points    0\n",
      "Wilderness_Area1                      0\n",
      "Wilderness_Area2                      0\n",
      "Wilderness_Area3                      0\n",
      "Wilderness_Area4                      0\n",
      "Soil_Type1                            0\n",
      "Soil_Type2                            0\n",
      "Soil_Type3                            0\n",
      "Soil_Type4                            0\n",
      "Soil_Type5                            0\n",
      "Soil_Type6                            0\n",
      "Soil_Type8                            0\n",
      "Soil_Type9                            0\n",
      "Soil_Type10                           0\n",
      "Soil_Type11                           0\n",
      "Soil_Type12                           0\n",
      "Soil_Type13                           0\n",
      "Soil_Type14                           0\n",
      "Soil_Type16                           0\n",
      "Soil_Type17                           0\n",
      "Soil_Type18                           0\n",
      "Soil_Type19                           0\n",
      "Soil_Type20                           0\n",
      "Soil_Type21                           0\n",
      "Soil_Type22                           0\n",
      "Soil_Type23                           0\n",
      "Soil_Type24                           0\n",
      "Soil_Type25                           0\n",
      "Soil_Type26                           0\n",
      "Soil_Type27                           0\n",
      "Soil_Type28                           0\n",
      "Soil_Type29                           0\n",
      "Soil_Type30                           0\n",
      "Soil_Type31                           0\n",
      "Soil_Type32                           0\n",
      "Soil_Type33                           0\n",
      "Soil_Type34                           0\n",
      "Soil_Type35                           0\n",
      "Soil_Type36                           0\n",
      "Soil_Type37                           0\n",
      "Soil_Type38                           0\n",
      "Soil_Type39                           0\n",
      "Soil_Type40                           0\n",
      "target                                0\n",
      "dtype: int64\n",
      "Total number of NaN in the dataframe:  0\n"
     ]
    }
   ],
   "source": [
    "print(df_dataset_import.isnull().sum())\n",
    "print('Total number of NaN in the dataframe: ', df_dataset_import.isnull().sum().sum())"
   ]
  },
  {
   "cell_type": "code",
   "execution_count": 21,
   "metadata": {
    "gradient": {
     "id": "27440d61-c39d-4d14-b2af-93ca38e30787",
     "kernelId": "0e004cd2-b83a-4a62-b3c8-80ad6c7053ce"
    }
   },
   "outputs": [
    {
     "name": "stdout",
     "output_type": "stream",
     "text": [
      "target\n",
      "1    1468136\n",
      "2    2262087\n",
      "3     195712\n",
      "4        377\n",
      "6      11426\n",
      "7      62261\n",
      "dtype: int64\n"
     ]
    }
   ],
   "source": [
    "# Get grouping size for the target variable\n",
    "print(df_dataset_import.groupby('target').size())"
   ]
  },
  {
   "cell_type": "markdown",
   "metadata": {
    "id": "Uuh6PSn53l79"
   },
   "source": [
    "### 1.e) Splitting Data into Sets"
   ]
  },
  {
   "cell_type": "code",
   "execution_count": 22,
   "metadata": {
    "colab": {
     "base_uri": "https://localhost:8080/"
    },
    "gradient": {
     "execution_count": 18,
     "id": "bee64bb0-c8d1-49b0-b908-5cdbd6013fdf",
     "kernelId": "0e004cd2-b83a-4a62-b3c8-80ad6c7053ce"
    },
    "id": "Ac66Lgmn3l79",
    "outputId": "a1b39423-0192-4394-ab3c-76dc95d64bcc"
   },
   "outputs": [
    {
     "name": "stdout",
     "output_type": "stream",
     "text": [
      "df_dataset_import.shape: (3999999, 53) df_features_train.shape: (3999999, 52) df_target_train.shape: (3999999,)\n"
     ]
    }
   ],
   "source": [
    "# Use variable total_column_count to hold the number of columns in the dataframe\n",
    "total_column_count = len(df_dataset_import.columns)\n",
    "\n",
    "# Set up variable total_feature_count for the total number of attribute columns\n",
    "total_feature_count = total_column_count-1\n",
    "\n",
    "# We create attribute-only and target-only datasets (df_features_train and df_target_train)\n",
    "df_target_train = df_dataset_import['target']\n",
    "df_features_train = df_dataset_import.drop(['target'], axis=1)\n",
    "\n",
    "print(\"df_dataset_import.shape: {} df_features_train.shape: {} df_target_train.shape: {}\".format(df_dataset_import.shape, df_features_train.shape, df_target_train.shape))"
   ]
  },
  {
   "cell_type": "markdown",
   "metadata": {
    "id": "K_ha_1jD3l7-"
   },
   "source": [
    "### 1.f) Set up the parameters for data visualization"
   ]
  },
  {
   "cell_type": "code",
   "execution_count": 23,
   "metadata": {
    "gradient": {
     "execution_count": 19,
     "id": "1714b652-cbe8-45d5-ab1e-1c88aa023e08",
     "kernelId": "0e004cd2-b83a-4a62-b3c8-80ad6c7053ce"
    },
    "id": "jZU3DZ3D3l7-"
   },
   "outputs": [],
   "source": [
    "# Set up the number of row and columns for visualization display. display_rows * display_columns should be >= total_feature_count\n",
    "display_columns = 4\n",
    "if total_feature_count % display_columns == 0 :\n",
    "    display_rows = total_feature_count // display_columns\n",
    "else :\n",
    "    display_rows = (total_feature_count // display_columns) + 1\n",
    "\n",
    "# Set figure width to display the data visualization plots\n",
    "fig_size = plt.rcParams[\"figure.figsize\"]\n",
    "fig_size[0] = display_columns * 4\n",
    "fig_size[1] = display_rows * 4\n",
    "plt.rcParams[\"figure.figsize\"] = fig_size"
   ]
  },
  {
   "cell_type": "code",
   "execution_count": 24,
   "metadata": {
    "gradient": {
     "execution_count": 20,
     "id": "e4d2d9bb-134d-405e-95ce-9fa81d0c83b3",
     "kernelId": "0e004cd2-b83a-4a62-b3c8-80ad6c7053ce"
    },
    "id": "ACP83VhH3l7-"
   },
   "outputs": [],
   "source": [
    "if NOTIFY_STATUS: status_notify(\"Task 1 - Prepare Environment completed! \" + datetime.now().strftime('%a %B %d, %Y %I:%M:%S %p'))"
   ]
  },
  {
   "cell_type": "markdown",
   "metadata": {
    "id": "kZevOIQL3l7_"
   },
   "source": [
    "## Task 2 - Summarize and Visualize Data"
   ]
  },
  {
   "cell_type": "code",
   "execution_count": 25,
   "metadata": {
    "gradient": {
     "execution_count": 21,
     "id": "398a544b-6573-48a8-8775-f0c5fe6f629f",
     "kernelId": "0e004cd2-b83a-4a62-b3c8-80ad6c7053ce"
    },
    "id": "YLt0NpWy3l7_"
   },
   "outputs": [],
   "source": [
    "if NOTIFY_STATUS: status_notify(\"Task 2 - Summarize and Visualize Data has begun! \" + datetime.now().strftime('%a %B %d, %Y %I:%M:%S %p'))"
   ]
  },
  {
   "cell_type": "code",
   "execution_count": 26,
   "metadata": {
    "colab": {
     "base_uri": "https://localhost:8080/",
     "height": 1000
    },
    "gradient": {
     "execution_count": 22,
     "id": "7e8d8617-643d-44fb-91ba-48aabe392044",
     "kernelId": "0e004cd2-b83a-4a62-b3c8-80ad6c7053ce"
    },
    "id": "FVURY0Ba3l7_",
    "outputId": "fbc07611-8b5c-446b-c0ca-0ab0726c95fd"
   },
   "outputs": [
    {
     "data": {
      "image/png": "[encoded data removed]",
      "text/plain": [
       "<Figure size 1152x3744 with 52 Axes>"
      ]
     },
     "metadata": {
      "needs_background": "light"
     },
     "output_type": "display_data"
    }
   ],
   "source": [
    "# Histograms for each attribute\n",
    "df_features_train.plot(kind='hist', subplots=True, layout=(display_rows, display_columns))\n",
    "plt.show()"
   ]
  },
  {
   "cell_type": "code",
   "execution_count": 27,
   "metadata": {
    "colab": {
     "base_uri": "https://localhost:8080/",
     "height": 1000
    },
    "gradient": {
     "execution_count": 23,
     "id": "b439b704-e89d-4f56-b4ad-527bb07b3b40",
     "kernelId": "0e004cd2-b83a-4a62-b3c8-80ad6c7053ce"
    },
    "id": "m92aROlh3l8A",
    "outputId": "b7f43d61-3efa-4ef0-cc03-9441134774c9"
   },
   "outputs": [
    {
     "data": {
      "image/png": "[encoded data removed]",
      "text/plain": [
       "<Figure size 1152x3744 with 52 Axes>"
      ]
     },
     "metadata": {
      "needs_background": "light"
     },
     "output_type": "display_data"
    }
   ],
   "source": [
    "# Box and Whisker plot for each attribute\n",
    "df_features_train.plot(kind='box', subplots=True, layout=(display_rows, display_columns))\n",
    "plt.show()"
   ]
  },
  {
   "cell_type": "code",
   "execution_count": 28,
   "metadata": {
    "colab": {
     "base_uri": "https://localhost:8080/",
     "height": 1000
    },
    "gradient": {
     "execution_count": 24,
     "id": "5c1211f1-8f14-4138-9944-5f96171da154",
     "kernelId": "0e004cd2-b83a-4a62-b3c8-80ad6c7053ce"
    },
    "id": "3r8q4sgU3l8A",
    "outputId": "32eb0677-dd2c-493f-8c04-51300f923c06"
   },
   "outputs": [],
   "source": [
    "# # Correlation matrix\n",
    "# fig = plt.figure(figsize=(20,20))\n",
    "# ax = fig.add_subplot(111)\n",
    "# correlations = df_features_train.corr(method='pearson')\n",
    "# cax = ax.matshow(correlations, vmin=-1, vmax=1)\n",
    "# fig.colorbar(cax)\n",
    "# plt.show()"
   ]
  },
  {
   "cell_type": "code",
   "execution_count": 29,
   "metadata": {
    "gradient": {
     "execution_count": 25,
     "id": "463911b1-4ff7-4ae2-b796-6c7aecbe8441",
     "kernelId": "0e004cd2-b83a-4a62-b3c8-80ad6c7053ce"
    },
    "id": "47zwOFBY3l8A"
   },
   "outputs": [],
   "source": [
    "if NOTIFY_STATUS: status_notify(\"Task 2 - Summarize and Visualize Data completed! \" + datetime.now().strftime('%a %B %d, %Y %I:%M:%S %p'))"
   ]
  },
  {
   "cell_type": "markdown",
   "metadata": {
    "id": "iMRuoNay3l8B"
   },
   "source": [
    "## Task 3 - Pre-process Data"
   ]
  },
  {
   "cell_type": "code",
   "execution_count": 30,
   "metadata": {
    "gradient": {
     "execution_count": 26,
     "id": "9c693d92-7f92-4f4c-be36-72051ecab802",
     "kernelId": "0e004cd2-b83a-4a62-b3c8-80ad6c7053ce"
    },
    "id": "0vQJ1B6d3l8B"
   },
   "outputs": [],
   "source": [
    "if NOTIFY_STATUS: status_notify(\"Task 3 - Pre-process Data has begun! \" + datetime.now().strftime('%a %B %d, %Y %I:%M:%S %p'))"
   ]
  },
  {
   "cell_type": "markdown",
   "metadata": {
    "id": "SJKVMdU-3l8B"
   },
   "source": [
    "### 3.a) Feature Scaling"
   ]
  },
  {
   "cell_type": "code",
   "execution_count": 31,
   "metadata": {
    "colab": {
     "base_uri": "https://localhost:8080/"
    },
    "gradient": {
     "execution_count": 28,
     "id": "a64e47e1-8bb8-41ec-ba4b-8a03da1a8c00",
     "kernelId": "0e004cd2-b83a-4a62-b3c8-80ad6c7053ce"
    },
    "id": "OdJRYIRo3l8B",
    "outputId": "c7e9e716-9c20-43d9-8825-9afd61a1f9e1"
   },
   "outputs": [
    {
     "name": "stdout",
     "output_type": "stream",
     "text": [
      "Number of numerical columns: 10\n",
      "Number of categorical columns: 0\n",
      "Total number of columns in the feature dataframe: 52\n"
     ]
    }
   ],
   "source": [
    "# Compose pipeline for the numerical and categorical features (Block #1 of 2)\n",
    "numeric_columns = df_features_train.select_dtypes(include=['float64']).columns\n",
    "numeric_transformer = Pipeline(steps=[\n",
    "    ('imputer', impute.SimpleImputer(strategy=\"constant\", fill_value=0)),\n",
    "    ('scaler', preprocessing.MinMaxScaler())\n",
    "])\n",
    "categorical_columns = df_features_train.select_dtypes(include=['object','bool','category']).columns\n",
    "categorical_transformer = Pipeline(steps=[\n",
    "    ('imputer', impute.SimpleImputer(strategy='constant', fill_value='UKNOWN')),\n",
    "    ('onehot', preprocessing.OneHotEncoder(sparse=False, handle_unknown='ignore'))\n",
    "])\n",
    "\n",
    "print(\"Number of numerical columns:\", len(numeric_columns))\n",
    "print(\"Number of categorical columns:\", len(categorical_columns))\n",
    "print(\"Total number of columns in the feature dataframe:\", df_features_train.shape[1])"
   ]
  },
  {
   "cell_type": "code",
   "execution_count": 32,
   "metadata": {
    "colab": {
     "base_uri": "https://localhost:8080/"
    },
    "gradient": {
     "execution_count": 29,
     "id": "f989a844-dca2-4722-bd82-551a6e9a633b",
     "kernelId": "0e004cd2-b83a-4a62-b3c8-80ad6c7053ce"
    },
    "id": "MPyFhjc43l8C",
    "outputId": "57aacb00-e69c-4d1a-aa5a-f894cf400d77"
   },
   "outputs": [
    {
     "name": "stdout",
     "output_type": "stream",
     "text": [
      "Transformed features from df_features_train.shape: (3999999, 52) to array_features_train.shape: (3999999, 52)\n"
     ]
    }
   ],
   "source": [
    "# Compose pipeline for the numerical and categorical features (Block #2 of 2)\n",
    "preprocessor = compose.ColumnTransformer(transformers=[\n",
    "    ('num', numeric_transformer, numeric_columns),\n",
    "    ('cat', categorical_transformer, categorical_columns)\n",
    "], remainder='passthrough')\n",
    "\n",
    "# Display the shapes of the training dataset for final inspection\n",
    "array_features_train = preprocessor.fit_transform(df_features_train)\n",
    "print(\"Transformed features from df_features_train.shape: {} to array_features_train.shape: {}\".format(df_features_train.shape, array_features_train.shape))"
   ]
  },
  {
   "cell_type": "markdown",
   "metadata": {
    "id": "uj81IbIC3l8C"
   },
   "source": [
    "### 3.b) Training Data Balancing"
   ]
  },
  {
   "cell_type": "code",
   "execution_count": 33,
   "metadata": {
    "gradient": {
     "execution_count": 30,
     "id": "7517a2f7-0a80-4f03-a1f0-9e553fa848f2",
     "kernelId": "0e004cd2-b83a-4a62-b3c8-80ad6c7053ce"
    },
    "id": "Ke6jtd9V3l8C"
   },
   "outputs": [],
   "source": [
    "# Not applicable for this iteration of the project"
   ]
  },
  {
   "cell_type": "markdown",
   "metadata": {
    "id": "fR-zmIHD3l8C"
   },
   "source": [
    "### 3.c) Feature Selection"
   ]
  },
  {
   "cell_type": "code",
   "execution_count": 34,
   "metadata": {
    "gradient": {
     "execution_count": 31,
     "id": "c6a65c3c-8abe-488c-9c9d-c08cbeb6c314",
     "kernelId": "0e004cd2-b83a-4a62-b3c8-80ad6c7053ce"
    },
    "id": "GTX0mnVe3l8D"
   },
   "outputs": [],
   "source": [
    "# Not applicable for this iteration of the project"
   ]
  },
  {
   "cell_type": "markdown",
   "metadata": {
    "id": "JGAvblp03l8D"
   },
   "source": [
    "### 3.d) Display the Final Datasets for Model-Building"
   ]
  },
  {
   "cell_type": "code",
   "execution_count": 35,
   "metadata": {
    "colab": {
     "base_uri": "https://localhost:8080/"
    },
    "gradient": {
     "execution_count": 32,
     "id": "db3c9d07-6d90-477b-9369-9068e5f4f88d",
     "kernelId": "0e004cd2-b83a-4a62-b3c8-80ad6c7053ce"
    },
    "id": "EourCr333l8D",
    "outputId": "dbad7599-6d7a-4001-d196-fc21eebe5653"
   },
   "outputs": [
    {
     "name": "stdout",
     "output_type": "stream",
     "text": [
      "array_features_train.shape: (3999999, 52) array_target_train.shape: (3999999,)\n"
     ]
    }
   ],
   "source": [
    "# Finalize the training dataset for the modeling activities\n",
    "# array_features_train = df_features_train.to_numpy()\n",
    "# array_target_train = df_target_train.ravel()\n",
    "label_encoder = preprocessing.LabelEncoder()\n",
    "array_target_train = label_encoder.fit_transform(df_target_train)\n",
    "print(\"array_features_train.shape: {} array_target_train.shape: {}\".format(array_features_train.shape, array_target_train.shape))"
   ]
  },
  {
   "cell_type": "code",
   "execution_count": 36,
   "metadata": {
    "gradient": {
     "execution_count": 33,
     "id": "a7e6033a-12e9-44af-a48f-7898dbfcc104",
     "kernelId": "0e004cd2-b83a-4a62-b3c8-80ad6c7053ce"
    },
    "id": "U_DPVC0t3l8D"
   },
   "outputs": [],
   "source": [
    "if NOTIFY_STATUS: status_notify(\"Task 3 - Pre-process Data completed! \" + datetime.now().strftime('%a %B %d, %Y %I:%M:%S %p'))"
   ]
  },
  {
   "cell_type": "markdown",
   "metadata": {
    "id": "l4q-C4XU3l8D"
   },
   "source": [
    "## Task 4 - Train and Tune Models"
   ]
  },
  {
   "cell_type": "code",
   "execution_count": 37,
   "metadata": {
    "gradient": {
     "execution_count": 34,
     "id": "5ce297a9-7122-456a-a9d4-a2a4387d8b47",
     "kernelId": "0e004cd2-b83a-4a62-b3c8-80ad6c7053ce"
    },
    "id": "y_zb8Pq13l8D"
   },
   "outputs": [],
   "source": [
    "if NOTIFY_STATUS: status_notify(\"Task 4 - Train and Tune Models has begun! \" + datetime.now().strftime('%a %B %d, %Y %I:%M:%S %p'))"
   ]
  },
  {
   "cell_type": "markdown",
   "metadata": {
    "id": "wGkybORs3l8E"
   },
   "source": [
    "### 4.a) Set test options and evaluation metric"
   ]
  },
  {
   "cell_type": "code",
   "execution_count": 38,
   "metadata": {
    "gradient": {
     "id": "ab793eed-09ac-4e8b-a8d3-44d71b634dca",
     "kernelId": "0e004cd2-b83a-4a62-b3c8-80ad6c7053ce"
    }
   },
   "outputs": [],
   "source": [
    "# Set up Algorithms Spot-Checking Array\n",
    "start_time_training = datetime.now()\n",
    "train_models = []\n",
    "train_results = []\n",
    "train_model_names = []\n",
    "train_metrics = []"
   ]
  },
  {
   "cell_type": "code",
   "execution_count": 39,
   "metadata": {
    "gradient": {
     "execution_count": 35,
     "id": "b6ba9342-80bd-49bb-a9d7-fa4d62b4ba7c",
     "kernelId": "0e004cd2-b83a-4a62-b3c8-80ad6c7053ce"
    },
    "id": "Bbls2rTF3l8E"
   },
   "outputs": [],
   "source": [
    "# train_models = [('XGB', XGBClassifier(random_state=RNG_SEED, n_jobs=N_JOBS, objective='multi:softprob', use_label_encoder=False, eval_metric='mlogloss'))]\n",
    "train_models = [('XGB', XGBClassifier(random_state=RNG_SEED, n_jobs=N_JOBS, objective='multi:softprob', use_label_encoder=False, eval_metric='mlogloss', tree_method='gpu_hist'))]"
   ]
  },
  {
   "cell_type": "code",
   "execution_count": 40,
   "metadata": {
    "colab": {
     "base_uri": "https://localhost:8080/"
    },
    "gradient": {
     "execution_count": 36,
     "id": "de923cfb-b33b-4ba1-82ef-30c680262005",
     "kernelId": "0e004cd2-b83a-4a62-b3c8-80ad6c7053ce"
    },
    "id": "yCpdezoJ3l8E",
    "outputId": "cf507343-d4cc-4abe-a595-d30e52a66c89"
   },
   "outputs": [
    {
     "name": "stderr",
     "output_type": "stream",
     "text": [
      "[Parallel(n_jobs=2)]: Using backend LokyBackend with 2 concurrent workers.\n"
     ]
    },
    {
     "name": "stdout",
     "output_type": "stream",
     "text": [
      "XGB: 0.959034 (0.000055)\n",
      "XGBClassifier(base_score=None, booster=None, colsample_bylevel=None,\n",
      "              colsample_bynode=None, colsample_bytree=None,\n",
      "              enable_categorical=False, eval_metric='mlogloss', gamma=None,\n",
      "              gpu_id=None, importance_type=None, interaction_constraints=None,\n",
      "              learning_rate=None, max_delta_step=None, max_depth=None,\n",
      "              min_child_weight=None, missing=nan, monotone_constraints=None,\n",
      "              n_estimators=100, n_jobs=2, num_parallel_tree=None,\n",
      "              objective='multi:softprob', predictor=None, random_state=88,\n",
      "              reg_alpha=None, reg_lambda=None, scale_pos_weight=None,\n",
      "              subsample=None, tree_method='gpu_hist', use_label_encoder=False,\n",
      "              validate_parameters=None, ...)\n",
      "Model training time: 0:01:46.475856 \n",
      "\n",
      "Average metrics (accuracy) from all models: 0.9590342397671747\n",
      "Total training time for all models: 0:01:46.485639\n"
     ]
    },
    {
     "name": "stderr",
     "output_type": "stream",
     "text": [
      "[Parallel(n_jobs=2)]: Done   5 out of   5 | elapsed:  1.8min finished\n"
     ]
    }
   ],
   "source": [
    "# Generate model in turn\n",
    "for name, model in train_models:\n",
    "    if NOTIFY_STATUS: status_notify(\"Algorithm \"+name+\" modeling has begun! \" + datetime.now().strftime('%a %B %d, %Y %I:%M:%S %p'))\n",
    "    start_time_module = datetime.now()\n",
    "    kfold = StratifiedKFold(n_splits=N_FOLDS, shuffle=True, random_state=RNG_SEED)\n",
    "    cv_results = cross_val_score(model, array_features_train, array_target_train, cv=kfold, scoring=SCORING_METRIC, n_jobs=N_JOBS, verbose=1)\n",
    "    train_results.append(cv_results)\n",
    "    train_model_names.append(name)\n",
    "    train_metrics.append(cv_results.mean())\n",
    "    print(\"%s: %f (%f)\" % (name, cv_results.mean(), cv_results.std()))\n",
    "    print(model)\n",
    "    print ('Model training time:', (datetime.now() - start_time_module), '\\n')\n",
    "    if NOTIFY_STATUS: status_notify(\"Algorithm \"+name+\" modeling completed! \" + datetime.now().strftime('%a %B %d, %Y %I:%M:%S %p'))\n",
    "print ('Average metrics (' + SCORING_METRIC + ') from all models:', np.mean(train_metrics))\n",
    "print ('Total training time for all models:', (datetime.now() - start_time_training))"
   ]
  },
  {
   "cell_type": "markdown",
   "metadata": {
    "id": "b0bV856P3l8F"
   },
   "source": [
    "### 4.b) Algorithm Tuning"
   ]
  },
  {
   "cell_type": "code",
   "execution_count": 41,
   "metadata": {
    "gradient": {
     "execution_count": 37,
     "id": "d2c4b779-b67d-4706-b977-92d2b7990fff",
     "kernelId": "0e004cd2-b83a-4a62-b3c8-80ad6c7053ce"
    },
    "id": "u73tMrgV3l8F"
   },
   "outputs": [],
   "source": [
    "# Set up the comparison array\n",
    "tune_results = []\n",
    "tune_model_names = []"
   ]
  },
  {
   "cell_type": "code",
   "execution_count": 42,
   "metadata": {
    "colab": {
     "base_uri": "https://localhost:8080/"
    },
    "gradient": {
     "execution_count": 39,
     "id": "22be3dfd-8193-44a3-9c1f-a6b310402ac8",
     "kernelId": "0e004cd2-b83a-4a62-b3c8-80ad6c7053ce"
    },
    "id": "VBQWedof87Bu",
    "outputId": "406dc8e1-cfa3-4a2d-e368-58c714b8fa46"
   },
   "outputs": [
    {
     "name": "stdout",
     "output_type": "stream",
     "text": [
      "Fitting 5 folds for each of 27 candidates, totalling 135 fits\n"
     ]
    },
    {
     "name": "stderr",
     "output_type": "stream",
     "text": [
      "/usr/local/lib/python3.8/dist-packages/joblib/externals/loky/process_executor.py:702: UserWarning: A worker stopped while some jobs were given to the executor. This can be caused by a too short worker timeout or by a memory leak.\n",
      "  warnings.warn(\n"
     ]
    },
    {
     "name": "stdout",
     "output_type": "stream",
     "text": [
      "Best: 0.961263 using {'max_depth': 6, 'min_child_weight': 2, 'n_estimators': 500}\n",
      "0.947893 (0.000335) with: {'max_depth': 3, 'min_child_weight': 1, 'n_estimators': 100}\n",
      "0.955972 (0.000121) with: {'max_depth': 3, 'min_child_weight': 1, 'n_estimators': 300}\n",
      "0.957924 (0.000113) with: {'max_depth': 3, 'min_child_weight': 1, 'n_estimators': 500}\n",
      "0.947900 (0.000220) with: {'max_depth': 3, 'min_child_weight': 2, 'n_estimators': 100}\n",
      "0.955959 (0.000270) with: {'max_depth': 3, 'min_child_weight': 2, 'n_estimators': 300}\n",
      "0.957935 (0.000210) with: {'max_depth': 3, 'min_child_weight': 2, 'n_estimators': 500}\n",
      "0.947904 (0.000169) with: {'max_depth': 3, 'min_child_weight': 3, 'n_estimators': 100}\n",
      "0.955950 (0.000186) with: {'max_depth': 3, 'min_child_weight': 3, 'n_estimators': 300}\n",
      "0.957945 (0.000112) with: {'max_depth': 3, 'min_child_weight': 3, 'n_estimators': 500}\n",
      "0.959034 (0.000055) with: {'max_depth': 6, 'min_child_weight': 1, 'n_estimators': 100}\n",
      "0.961142 (0.000069) with: {'max_depth': 6, 'min_child_weight': 1, 'n_estimators': 300}\n",
      "0.961248 (0.000088) with: {'max_depth': 6, 'min_child_weight': 1, 'n_estimators': 500}\n",
      "0.959062 (0.000104) with: {'max_depth': 6, 'min_child_weight': 2, 'n_estimators': 100}\n",
      "0.961119 (0.000082) with: {'max_depth': 6, 'min_child_weight': 2, 'n_estimators': 300}\n",
      "0.961263 (0.000126) with: {'max_depth': 6, 'min_child_weight': 2, 'n_estimators': 500}\n",
      "0.959021 (0.000169) with: {'max_depth': 6, 'min_child_weight': 3, 'n_estimators': 100}\n",
      "0.961091 (0.000113) with: {'max_depth': 6, 'min_child_weight': 3, 'n_estimators': 300}\n",
      "0.961252 (0.000144) with: {'max_depth': 6, 'min_child_weight': 3, 'n_estimators': 500}\n",
      "0.960978 (0.000193) with: {'max_depth': 9, 'min_child_weight': 1, 'n_estimators': 100}\n",
      "0.961012 (0.000173) with: {'max_depth': 9, 'min_child_weight': 1, 'n_estimators': 300}\n",
      "0.960809 (0.000202) with: {'max_depth': 9, 'min_child_weight': 1, 'n_estimators': 500}\n",
      "0.960951 (0.000152) with: {'max_depth': 9, 'min_child_weight': 2, 'n_estimators': 100}\n",
      "0.961126 (0.000190) with: {'max_depth': 9, 'min_child_weight': 2, 'n_estimators': 300}\n",
      "0.960831 (0.000178) with: {'max_depth': 9, 'min_child_weight': 2, 'n_estimators': 500}\n",
      "0.960965 (0.000119) with: {'max_depth': 9, 'min_child_weight': 3, 'n_estimators': 100}\n",
      "0.961049 (0.000184) with: {'max_depth': 9, 'min_child_weight': 3, 'n_estimators': 300}\n",
      "0.960821 (0.000218) with: {'max_depth': 9, 'min_child_weight': 3, 'n_estimators': 500}\n",
      "Model training time: 2:00:45.852566\n"
     ]
    }
   ],
   "source": [
    "# Tuning XGBoost n_estimators, max_depth, and min_child_weight parameters\n",
    "start_time_Module = datetime.now()\n",
    "if NOTIFY_STATUS: status_notify(\"Algorithm tuning iteration #1 has begun! \" + datetime.now().strftime('%a %B %d, %Y %I:%M:%S %p'))\n",
    "\n",
    "# tune_model1 = XGBClassifier(random_state=RNG_SEED, n_jobs=N_JOBS, objective='multi:softprob', use_label_encoder=False, eval_metric='mlogloss')\n",
    "tune_model1 = XGBClassifier(random_state=RNG_SEED, n_jobs=N_JOBS, objective='multi:softprob', use_label_encoder=False, eval_metric='mlogloss', tree_method='gpu_hist')\n",
    "tune_model_names.append('XGB_1')\n",
    "paramGrid1 = dict(n_estimators=np.array([100, 300, 500]),\n",
    "                  max_depth=np.array([3, 6, 9]),\n",
    "                  min_child_weight=np.array([1, 2, 3]))\n",
    "\n",
    "kfold = StratifiedKFold(n_splits=N_FOLDS, shuffle=True, random_state=RNG_SEED)\n",
    "grid1 = GridSearchCV(estimator=tune_model1, param_grid=paramGrid1, scoring=SCORING_METRIC, cv=kfold, n_jobs=N_JOBS, verbose=1)\n",
    "grid_result1 = grid1.fit(array_features_train, array_target_train)\n",
    "\n",
    "print(\"Best: %f using %s\" % (grid_result1.best_score_, grid_result1.best_params_))\n",
    "tune_results.append(grid_result1.cv_results_['mean_test_score'])\n",
    "means = grid_result1.cv_results_['mean_test_score']\n",
    "stds = grid_result1.cv_results_['std_test_score']\n",
    "params = grid_result1.cv_results_['params']\n",
    "for mean, stdev, param in zip(means, stds, params):\n",
    "    print(\"%f (%f) with: %r\" % (mean, stdev, param))\n",
    "print ('Model training time:', (datetime.now() - start_time_Module))\n",
    "if NOTIFY_STATUS: status_notify(\"Algorithm tuning iteration #1 completed! \" + datetime.now().strftime('%a %B %d, %Y %I:%M:%S %p'))"
   ]
  },
  {
   "cell_type": "code",
   "execution_count": 43,
   "metadata": {
    "gradient": {
     "id": "f5b81351-ec6a-4e21-a4d3-dfba47f9d1bb",
     "kernelId": "0e004cd2-b83a-4a62-b3c8-80ad6c7053ce"
    }
   },
   "outputs": [
    {
     "name": "stdout",
     "output_type": "stream",
     "text": [
      "Best max_depth parameter: 6\n",
      "Best min_child_weight parameter: 2\n",
      "Best n_estimators parameter: 500\n"
     ]
    }
   ],
   "source": [
    "BEST_MAX_DEPTH = grid_result1.best_params_['max_depth']\n",
    "BEST_MIN_CHILD_WEIGHT = grid_result1.best_params_['min_child_weight']\n",
    "BEST_N_ESTIMATORS = grid_result1.best_params_['n_estimators']\n",
    "print('Best max_depth parameter:', BEST_MAX_DEPTH)\n",
    "print('Best min_child_weight parameter:', BEST_MIN_CHILD_WEIGHT)\n",
    "print('Best n_estimators parameter:', BEST_N_ESTIMATORS)"
   ]
  },
  {
   "cell_type": "code",
   "execution_count": 44,
   "metadata": {
    "colab": {
     "base_uri": "https://localhost:8080/"
    },
    "gradient": {
     "execution_count": 40,
     "id": "0542bee3-6787-4d71-9281-d391a7358057",
     "kernelId": "0e004cd2-b83a-4a62-b3c8-80ad6c7053ce"
    },
    "id": "c-3L_3SiA5U9",
    "outputId": "c3ecd85a-8c7a-4e10-db86-16312a80728e"
   },
   "outputs": [
    {
     "name": "stdout",
     "output_type": "stream",
     "text": [
      "Fitting 5 folds for each of 16 candidates, totalling 80 fits\n",
      "Best: 0.961300 using {'colsample_bytree': 0.7, 'subsample': 1.0}\n",
      "0.960994 (0.000125) with: {'colsample_bytree': 0.7, 'subsample': 0.7}\n",
      "0.961171 (0.000096) with: {'colsample_bytree': 0.7, 'subsample': 0.8}\n",
      "0.961221 (0.000094) with: {'colsample_bytree': 0.7, 'subsample': 0.9}\n",
      "0.961300 (0.000111) with: {'colsample_bytree': 0.7, 'subsample': 1.0}\n",
      "0.961086 (0.000186) with: {'colsample_bytree': 0.8, 'subsample': 0.7}\n",
      "0.961165 (0.000066) with: {'colsample_bytree': 0.8, 'subsample': 0.8}\n",
      "0.961204 (0.000108) with: {'colsample_bytree': 0.8, 'subsample': 0.9}\n",
      "0.961220 (0.000140) with: {'colsample_bytree': 0.8, 'subsample': 1.0}\n",
      "0.961033 (0.000112) with: {'colsample_bytree': 0.9, 'subsample': 0.7}\n",
      "0.961129 (0.000113) with: {'colsample_bytree': 0.9, 'subsample': 0.8}\n",
      "0.961160 (0.000129) with: {'colsample_bytree': 0.9, 'subsample': 0.9}\n",
      "0.961281 (0.000114) with: {'colsample_bytree': 0.9, 'subsample': 1.0}\n",
      "0.961033 (0.000161) with: {'colsample_bytree': 1.0, 'subsample': 0.7}\n",
      "0.961156 (0.000076) with: {'colsample_bytree': 1.0, 'subsample': 0.8}\n",
      "0.961136 (0.000113) with: {'colsample_bytree': 1.0, 'subsample': 0.9}\n",
      "0.961263 (0.000126) with: {'colsample_bytree': 1.0, 'subsample': 1.0}\n",
      "Model training time: 2:15:21.585853\n"
     ]
    }
   ],
   "source": [
    "# Tuning XGBoost subsample and colsample_bytree parameters\n",
    "start_time_Module = datetime.now()\n",
    "if NOTIFY_STATUS: status_notify(\"Algorithm tuning iteration #2 has begun! \" + datetime.now().strftime('%a %B %d, %Y %I:%M:%S %p'))\n",
    "\n",
    "# tune_model2 = XGBClassifier(n_estimators=BEST_N_ESTIMATORS, max_depth=BEST_MAX_DEPTH, min_child_weight=BEST_MIN_CHILD_WEIGHT,\n",
    "#                             random_state=RNG_SEED, n_jobs=N_JOBS, objective='multi:softprob', use_label_encoder=False, eval_metric='mlogloss')\n",
    "tune_model2 = XGBClassifier(n_estimators=BEST_N_ESTIMATORS, max_depth=BEST_MAX_DEPTH, min_child_weight=BEST_MIN_CHILD_WEIGHT,\n",
    "                            random_state=RNG_SEED, n_jobs=N_JOBS, objective='multi:softprob', use_label_encoder=False, eval_metric='mlogloss', tree_method='gpu_hist')\n",
    "tune_model_names.append('XGB_2')\n",
    "paramGrid2 = dict(subsample=np.array([0.7, 0.8, 0.9, 1.0]),\n",
    "                  colsample_bytree=np.array([0.7, 0.8, 0.9, 1.0]))\n",
    "\n",
    "kfold = StratifiedKFold(n_splits=N_FOLDS, shuffle=True, random_state=RNG_SEED)\n",
    "grid2 = GridSearchCV(estimator=tune_model2, param_grid=paramGrid2, scoring=SCORING_METRIC, cv=kfold, n_jobs=N_JOBS, verbose=1)\n",
    "grid_result2 = grid2.fit(array_features_train, array_target_train)\n",
    "\n",
    "print(\"Best: %f using %s\" % (grid_result2.best_score_, grid_result2.best_params_))\n",
    "tune_results.append(grid_result2.cv_results_['mean_test_score'])\n",
    "means = grid_result2.cv_results_['mean_test_score']\n",
    "stds = grid_result2.cv_results_['std_test_score']\n",
    "params = grid_result2.cv_results_['params']\n",
    "for mean, stdev, param in zip(means, stds, params):\n",
    "    print(\"%f (%f) with: %r\" % (mean, stdev, param))\n",
    "print ('Model training time:',(datetime.now() - start_time_Module))\n",
    "if NOTIFY_STATUS: status_notify(\"Algorithm tuning iteration #2 completed! \" + datetime.now().strftime('%a %B %d, %Y %I:%M:%S %p'))"
   ]
  },
  {
   "cell_type": "code",
   "execution_count": 45,
   "metadata": {
    "gradient": {
     "id": "c8cb8a92-920d-40da-bfc5-89d9779e7ad3",
     "kernelId": "0e004cd2-b83a-4a62-b3c8-80ad6c7053ce"
    }
   },
   "outputs": [
    {
     "name": "stdout",
     "output_type": "stream",
     "text": [
      "Best colsample_bytree parameter: 0.7\n",
      "Best subsample parameter: 1.0\n"
     ]
    }
   ],
   "source": [
    "BEST_COLSAMPLE_BYTREE = grid_result2.best_params_['colsample_bytree']\n",
    "BEST_SUBSAMPLE = grid_result2.best_params_['subsample']\n",
    "print('Best colsample_bytree parameter:', BEST_COLSAMPLE_BYTREE)\n",
    "print('Best subsample parameter:', BEST_SUBSAMPLE)"
   ]
  },
  {
   "cell_type": "markdown",
   "metadata": {
    "id": "GeTnXsgJ3l8H"
   },
   "source": [
    "### 4.c) Compare Algorithms After Tuning"
   ]
  },
  {
   "cell_type": "code",
   "execution_count": 46,
   "metadata": {
    "colab": {
     "base_uri": "https://localhost:8080/",
     "height": 843
    },
    "gradient": {
     "execution_count": 41,
     "id": "28cc4196-7621-4df5-b299-0a4bdc7b42b9",
     "kernelId": "0e004cd2-b83a-4a62-b3c8-80ad6c7053ce"
    },
    "id": "RqXMqwAb3l8H",
    "outputId": "6339070c-9549-4081-be4f-22d15ba4467f"
   },
   "outputs": [
    {
     "data": {
      "image/png": "[encoded data removed]",
      "text/plain": [
       "<Figure size 1152x864 with 1 Axes>"
      ]
     },
     "metadata": {
      "needs_background": "light"
     },
     "output_type": "display_data"
    }
   ],
   "source": [
    "fig = plt.figure(figsize=(16,12))\n",
    "fig.suptitle('Algorithm Comparison - Post Tuning')\n",
    "ax = fig.add_subplot(111)\n",
    "plt.boxplot(tune_results)\n",
    "ax.set_xticklabels(tune_model_names)\n",
    "plt.show()"
   ]
  },
  {
   "cell_type": "code",
   "execution_count": 47,
   "metadata": {
    "gradient": {
     "execution_count": 42,
     "id": "93b248a7-c163-4154-a9cb-5e44049c8412",
     "kernelId": "0e004cd2-b83a-4a62-b3c8-80ad6c7053ce"
    },
    "id": "2PxkOhNE3l8F"
   },
   "outputs": [],
   "source": [
    "if NOTIFY_STATUS: status_notify(\"Task 4 - Train and Tune Models completed! \" + datetime.now().strftime('%a %B %d, %Y %I:%M:%S %p'))"
   ]
  },
  {
   "cell_type": "markdown",
   "metadata": {
    "id": "rIRMoNm63l8H"
   },
   "source": [
    "## Task 5 - Finalize Model and Make Predictions"
   ]
  },
  {
   "cell_type": "code",
   "execution_count": 48,
   "metadata": {
    "gradient": {
     "execution_count": 43,
     "id": "09dd2170-3793-42d1-a3e1-8dbf7105e167",
     "kernelId": "0e004cd2-b83a-4a62-b3c8-80ad6c7053ce"
    },
    "id": "wgw8i_ME3l8H"
   },
   "outputs": [],
   "source": [
    "if NOTIFY_STATUS: status_notify(\"Task 5 - Finalize Model and Make Predictions has begun! \" + datetime.now().strftime('%a %B %d, %Y %I:%M:%S %p'))"
   ]
  },
  {
   "cell_type": "markdown",
   "metadata": {
    "id": "YsQONLo33l8I"
   },
   "source": [
    "### 6.a) Train the Final Model"
   ]
  },
  {
   "cell_type": "code",
   "execution_count": 49,
   "metadata": {
    "colab": {
     "base_uri": "https://localhost:8080/"
    },
    "gradient": {
     "execution_count": 44,
     "id": "8da3f4bd-b21a-424a-a657-8ef83bf836fd",
     "kernelId": "0e004cd2-b83a-4a62-b3c8-80ad6c7053ce"
    },
    "id": "TIDASCL13l8I",
    "outputId": "85ebf3d6-6ae6-4166-a951-51460c93ad19"
   },
   "outputs": [
    {
     "name": "stdout",
     "output_type": "stream",
     "text": [
      "XGBClassifier(base_score=0.5, booster='gbtree', colsample_bylevel=1,\n",
      "              colsample_bynode=1, colsample_bytree=0.7,\n",
      "              enable_categorical=False, eval_metric='mlogloss', gamma=0,\n",
      "              gpu_id=0, importance_type=None, interaction_constraints='',\n",
      "              learning_rate=0.300000012, max_delta_step=0, max_depth=6,\n",
      "              min_child_weight=2, missing=nan, monotone_constraints='()',\n",
      "              n_estimators=500, n_jobs=2, num_parallel_tree=1,\n",
      "              objective='multi:softprob', predictor='auto', random_state=88,\n",
      "              reg_alpha=0, reg_lambda=1, scale_pos_weight=None, subsample=1.0,\n",
      "              tree_method='gpu_hist', use_label_encoder=False,\n",
      "              validate_parameters=1, ...)\n"
     ]
    }
   ],
   "source": [
    "# final_model = XGBClassifier(n_estimators=BEST_N_ESTIMATORS, max_depth=BEST_MAX_DEPTH, min_child_weight=BEST_MIN_CHILD_WEIGHT,\n",
    "#                             colsample_bytree=BEST_COLSAMPLE_BYTREE, subsample=BEST_SUBSAMPLE,\n",
    "#                             random_state=RNG_SEED, n_jobs=N_JOBS, objective='multi:softprob', use_label_encoder=False, eval_metric='mlogloss')\n",
    "final_model = XGBClassifier(n_estimators=BEST_N_ESTIMATORS, max_depth=BEST_MAX_DEPTH, min_child_weight=BEST_MIN_CHILD_WEIGHT,\n",
    "                            colsample_bytree=BEST_COLSAMPLE_BYTREE, subsample=BEST_SUBSAMPLE,\n",
    "                            random_state=RNG_SEED, n_jobs=N_JOBS, objective='multi:softprob', use_label_encoder=False, eval_metric='mlogloss', tree_method='gpu_hist')\n",
    "final_model.fit(array_features_train, array_target_train)\n",
    "print(final_model)"
   ]
  },
  {
   "cell_type": "markdown",
   "metadata": {
    "id": "tzeEayxg3l8I"
   },
   "source": [
    "### 6.b) Load Test Dataset and Make Predictions"
   ]
  },
  {
   "cell_type": "code",
   "execution_count": 50,
   "metadata": {
    "gradient": {
     "id": "78c35a9e-34b2-44fa-acf7-d02cf935b862",
     "kernelId": "0e004cd2-b83a-4a62-b3c8-80ad6c7053ce"
    }
   },
   "outputs": [
    {
     "name": "stdout",
     "output_type": "stream",
     "text": [
      "--2021-12-21 05:04:27--  https://dainesanalytics.com/datasets/kaggle-tabular-playground-2021dec/test.csv\n",
      "Resolving dainesanalytics.com (dainesanalytics.com)... 99.86.189.76, 99.86.189.70, 99.86.189.127, ...\n",
      "Connecting to dainesanalytics.com (dainesanalytics.com)|99.86.189.76|:443... connected.\n",
      "HTTP request sent, awaiting response... 200 OK\n",
      "Length: 135209789 (129M) [text/csv]\n",
      "Saving to: ‘test.csv’\n",
      "\n",
      "test.csv            100%[===================>] 128.95M  37.1MB/s    in 3.5s    \n",
      "\n",
      "2021-12-21 05:04:31 (37.1 MB/s) - ‘test.csv’ saved [135209789/135209789]\n",
      "\n"
     ]
    }
   ],
   "source": [
    "if not os.path.exists(TEST_DATASET):\n",
    "    !wget https://dainesanalytics.com/datasets/kaggle-tabular-playground-2021dec/test.csv"
   ]
  },
  {
   "cell_type": "code",
   "execution_count": 51,
   "metadata": {
    "colab": {
     "base_uri": "https://localhost:8080/"
    },
    "gradient": {
     "execution_count": 45,
     "id": "5cf78247-bece-40af-a90d-583857247a02",
     "kernelId": "0e004cd2-b83a-4a62-b3c8-80ad6c7053ce"
    },
    "id": "x8S2vLNw3l8I",
    "outputId": "df5803b0-6abd-44e7-bef0-87cedbdb1800"
   },
   "outputs": [
    {
     "name": "stdout",
     "output_type": "stream",
     "text": [
      "        Id  Elevation  Aspect  Slope  Horizontal_Distance_To_Hydrology  \\\n",
      "0  4000000       2763      78     20                               377   \n",
      "1  4000001       2826     153     11                               264   \n",
      "2  4000002       2948      57     19                                56   \n",
      "3  4000003       2926     119      6                               158   \n",
      "4  4000004       2690      10      4                                38   \n",
      "\n",
      "   Vertical_Distance_To_Hydrology  Horizontal_Distance_To_Roadways  \\\n",
      "0                              88                             3104   \n",
      "1                              39                              295   \n",
      "2                              44                              852   \n",
      "3                             134                             2136   \n",
      "4                             108                             3589   \n",
      "\n",
      "   Hillshade_9am  Hillshade_Noon  Hillshade_3pm  ...  Soil_Type31  \\\n",
      "0            218             213            195  ...            0   \n",
      "1            219             238            148  ...            0   \n",
      "2            202             217            163  ...            0   \n",
      "3            234             240            142  ...            0   \n",
      "4            213             221            229  ...            0   \n",
      "\n",
      "   Soil_Type32  Soil_Type33  Soil_Type34  Soil_Type35  Soil_Type36  \\\n",
      "0            0            0            0            0            0   \n",
      "1            0            0            0            0            0   \n",
      "2            0            1            0            0            0   \n",
      "3            0            0            0            0            0   \n",
      "4            0            0            0            0            0   \n",
      "\n",
      "   Soil_Type37  Soil_Type38  Soil_Type39  Soil_Type40  \n",
      "0            0            0            0            0  \n",
      "1            0            0            0            0  \n",
      "2            0            0            0            0  \n",
      "3            0            0            0            0  \n",
      "4            0            0            0            0  \n",
      "\n",
      "[5 rows x 55 columns]\n"
     ]
    }
   ],
   "source": [
    "df_features_test = pd.read_csv(TEST_DATASET, index_col=False)\n",
    "\n",
    "# Take a peek at the dataframe after import\n",
    "print(df_features_test.head())"
   ]
  },
  {
   "cell_type": "code",
   "execution_count": 52,
   "metadata": {
    "colab": {
     "base_uri": "https://localhost:8080/"
    },
    "gradient": {
     "execution_count": 46,
     "id": "ba9a6a41-acde-46cc-8643-15e7ec31bbf1",
     "kernelId": "0e004cd2-b83a-4a62-b3c8-80ad6c7053ce"
    },
    "id": "fVrEdBfT3l8I",
    "outputId": "5054755d-24a0-4fc1-c4c0-ce796e990310"
   },
   "outputs": [
    {
     "name": "stdout",
     "output_type": "stream",
     "text": [
      "        Id\n",
      "0  4000000\n",
      "1  4000001\n",
      "2  4000002\n",
      "3  4000003\n",
      "4  4000004\n"
     ]
    }
   ],
   "source": [
    "df_kaggle_submission = pd.DataFrame()\n",
    "df_kaggle_submission['Id'] = df_features_test['Id']\n",
    "print(df_kaggle_submission.head())"
   ]
  },
  {
   "cell_type": "code",
   "execution_count": 53,
   "metadata": {
    "colab": {
     "base_uri": "https://localhost:8080/"
    },
    "gradient": {
     "execution_count": 47,
     "id": "0edee30a-1cc1-4d68-af10-2a88d47102b2",
     "kernelId": "0e004cd2-b83a-4a62-b3c8-80ad6c7053ce"
    },
    "id": "1JPFel4u3l8J",
    "outputId": "1d31fed7-e992-4a69-d6b6-d0ecf49b80a9"
   },
   "outputs": [
    {
     "name": "stdout",
     "output_type": "stream",
     "text": [
      "   Elevation  Aspect  Slope  Horizontal_Distance_To_Hydrology  \\\n",
      "0     2763.0    78.0   20.0                             377.0   \n",
      "1     2826.0   153.0   11.0                             264.0   \n",
      "2     2948.0    57.0   19.0                              56.0   \n",
      "3     2926.0   119.0    6.0                             158.0   \n",
      "4     2690.0    10.0    4.0                              38.0   \n",
      "\n",
      "   Vertical_Distance_To_Hydrology  Horizontal_Distance_To_Roadways  \\\n",
      "0                            88.0                           3104.0   \n",
      "1                            39.0                            295.0   \n",
      "2                            44.0                            852.0   \n",
      "3                           134.0                           2136.0   \n",
      "4                           108.0                           3589.0   \n",
      "\n",
      "   Hillshade_9am  Hillshade_Noon  Hillshade_3pm  \\\n",
      "0          218.0           213.0          195.0   \n",
      "1          219.0           238.0          148.0   \n",
      "2          202.0           217.0          163.0   \n",
      "3          234.0           240.0          142.0   \n",
      "4          213.0           221.0          229.0   \n",
      "\n",
      "   Horizontal_Distance_To_Fire_Points  ...  Soil_Type31  Soil_Type32  \\\n",
      "0                              1931.0  ...            0            0   \n",
      "1                              2557.0  ...            0            0   \n",
      "2                              1803.0  ...            0            0   \n",
      "3                               857.0  ...            0            0   \n",
      "4                               431.0  ...            0            0   \n",
      "\n",
      "   Soil_Type33  Soil_Type34  Soil_Type35  Soil_Type36  Soil_Type37  \\\n",
      "0            0            0            0            0            0   \n",
      "1            0            0            0            0            0   \n",
      "2            1            0            0            0            0   \n",
      "3            0            0            0            0            0   \n",
      "4            0            0            0            0            0   \n",
      "\n",
      "   Soil_Type38  Soil_Type39  Soil_Type40  \n",
      "0            0            0            0  \n",
      "1            0            0            0  \n",
      "2            0            0            0  \n",
      "3            0            0            0  \n",
      "4            0            0            0  \n",
      "\n",
      "[5 rows x 54 columns]\n"
     ]
    }
   ],
   "source": [
    "# Dropping features\n",
    "df_features_test.drop(columns=['Id'], inplace=True)\n",
    "\n",
    "for feature in float_feature_list:\n",
    "    df_features_test[feature] = df_features_test[feature].astype('float')\n",
    "\n",
    "# Take a peek at the dataframe after cleaning\n",
    "print(df_features_test.head())"
   ]
  },
  {
   "cell_type": "code",
   "execution_count": 54,
   "metadata": {
    "colab": {
     "base_uri": "https://localhost:8080/"
    },
    "gradient": {
     "execution_count": 48,
     "id": "8824a189-55a6-45de-adc6-5d21a653033e",
     "kernelId": "0e004cd2-b83a-4a62-b3c8-80ad6c7053ce"
    },
    "id": "avu1nEAa3l8J",
    "outputId": "a84dce90-06a8-436a-f7af-92164737db56"
   },
   "outputs": [
    {
     "name": "stdout",
     "output_type": "stream",
     "text": [
      "Transformed features from df_features_test.shape: (1000000, 54) to array_features_test.shape: (1000000, 52)\n"
     ]
    }
   ],
   "source": [
    "# Finalize the test dataset for the modeling testing\n",
    "array_features_test = preprocessor.transform(df_features_test)\n",
    "print(\"Transformed features from df_features_test.shape: {} to array_features_test.shape: {}\".format(df_features_test.shape, array_features_test.shape))"
   ]
  },
  {
   "cell_type": "code",
   "execution_count": 55,
   "metadata": {
    "colab": {
     "base_uri": "https://localhost:8080/"
    },
    "gradient": {
     "execution_count": 49,
     "id": "40fea2ec-2d19-4879-985a-aa97e784b6ec",
     "kernelId": "0e004cd2-b83a-4a62-b3c8-80ad6c7053ce"
    },
    "id": "i5YNHp6S3l8J",
    "outputId": "a34b071c-b90e-4472-9542-bcc86630e0bc"
   },
   "outputs": [
    {
     "name": "stdout",
     "output_type": "stream",
     "text": [
      "[2 2 2 ... 2 1 3]\n"
     ]
    }
   ],
   "source": [
    "# Make batched predictions\n",
    "test_predictions = label_encoder.inverse_transform(final_model.predict(array_features_test))\n",
    "print(test_predictions)"
   ]
  },
  {
   "cell_type": "code",
   "execution_count": 56,
   "metadata": {
    "colab": {
     "base_uri": "https://localhost:8080/"
    },
    "gradient": {
     "execution_count": 50,
     "id": "aec784a3-f925-4e7a-88a1-9bb7a5c2939a",
     "kernelId": "0e004cd2-b83a-4a62-b3c8-80ad6c7053ce"
    },
    "id": "zXmbWirt3l8J",
    "outputId": "7694a1e4-66f5-4d5b-c8a0-b8b9cad7771d"
   },
   "outputs": [
    {
     "name": "stdout",
     "output_type": "stream",
     "text": [
      "        Id  Cover_Type\n",
      "0  4000000           2\n",
      "1  4000001           2\n",
      "2  4000002           2\n",
      "3  4000003           2\n",
      "4  4000004           2\n"
     ]
    }
   ],
   "source": [
    "df_kaggle_submission['Cover_Type'] = test_predictions\n",
    "print(df_kaggle_submission.head())"
   ]
  },
  {
   "cell_type": "code",
   "execution_count": 57,
   "metadata": {
    "colab": {
     "base_uri": "https://localhost:8080/"
    },
    "gradient": {
     "execution_count": 51,
     "id": "b94f82fa-e40f-49cb-9f0e-9d346fa44b71",
     "kernelId": "0e004cd2-b83a-4a62-b3c8-80ad6c7053ce"
    },
    "id": "-czkeOmO3l8K",
    "outputId": "5c8a586b-a27b-4974-cfba-109682643c06"
   },
   "outputs": [
    {
     "name": "stdout",
     "output_type": "stream",
     "text": [
      "Completed writing output file: submission_20211221-0505.csv\n"
     ]
    }
   ],
   "source": [
    "submission_file = df_kaggle_submission.to_csv(header=True, index=False)\n",
    "filename = 'submission_' + datetime.now().strftime('%Y%m%d-%H%M') + '.csv'\n",
    "with open(filename, 'w') as f:\n",
    "    f.write(submission_file)\n",
    "    print('Completed writing output file: ' + filename)"
   ]
  },
  {
   "cell_type": "code",
   "execution_count": 58,
   "metadata": {
    "gradient": {
     "execution_count": 52,
     "id": "10619808-6b7a-425e-b8bb-bd89efa72cdc",
     "kernelId": "0e004cd2-b83a-4a62-b3c8-80ad6c7053ce"
    },
    "id": "TE7Ey5753l8K"
   },
   "outputs": [],
   "source": [
    "if NOTIFY_STATUS: status_notify(\"Task 5 - Finalize Model and Make Predictions completed! \" + datetime.now().strftime('%a %B %d, %Y %I:%M:%S %p'))"
   ]
  },
  {
   "cell_type": "code",
   "execution_count": 59,
   "metadata": {
    "colab": {
     "base_uri": "https://localhost:8080/"
    },
    "gradient": {
     "execution_count": 53,
     "id": "92c1c0a3-90fe-43c6-9a94-e24cb55b5cc8",
     "kernelId": "0e004cd2-b83a-4a62-b3c8-80ad6c7053ce"
    },
    "id": "nxfno4RT3l8K",
    "outputId": "1cab60ef-8fcd-4fad-8ab4-a159d2a57fd1"
   },
   "outputs": [
    {
     "name": "stdout",
     "output_type": "stream",
     "text": [
      "Total time for the script: 4:21:55.080420\n"
     ]
    }
   ],
   "source": [
    "print ('Total time for the script:',(datetime.now() - START_TIME_SCRIPT))"
   ]
  }
 ],
 "metadata": {
  "accelerator": "GPU",
  "colab": {
   "collapsed_sections": [],
   "name": "py_xgboost_binaryclass_kaggle_tabular_playground_2021sep.ipynb",
   "provenance": []
  },
  "kernelspec": {
   "display_name": "Python 3 (ipykernel)",
   "language": "python",
   "name": "python3"
  },
  "language_info": {
   "codemirror_mode": {
    "name": "ipython",
    "version": 3
   },
   "file_extension": ".py",
   "mimetype": "text/x-python",
   "name": "python",
   "nbconvert_exporter": "python",
   "pygments_lexer": "ipython3",
   "version": "3.8.10"
  }
 },
 "nbformat": 4,
 "nbformat_minor": 4
}

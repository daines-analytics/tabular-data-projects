{
 "cells": [
  {
   "cell_type": "markdown",
   "metadata": {
    "id": "2sQmc7MlwXit"
   },
   "source": [
    "# Multi-Class Model for [PROJECT NAME] Using TensorFlow Decision Forests version 1\n",
    "### David Lowe\n",
    "### November 25, 2021\n",
    "\n",
    "Template Credit: Adapted from a template made available by Dr. Jason Brownlee of Machine Learning Mastery. [https://machinelearningmastery.com/]\n",
    "\n",
    "SUMMARY: This project aims to construct a predictive model using various machine learning algorithms and document the end-to-end steps using a template. The [PROJECT NAME] dataset is a multi-class modeling situation where we attempt to predict one of several (more than two) possible outcomes.\n",
    "\n",
    "INTRODUCTION: [Sample Paragraph: Kaggle wants to provide an approachable environment for relatively new people in their data science journey. Since January 2021, they have hosted playground-style competitions on Kaggle with fun but less complex, tabular datasets. The dataset used for this competition is synthetic but based on a real dataset and generated using a CTGAN. The original dataset deals with predicting the category on an eCommerce product given various attributes about the listing. Although the features are anonymized, they have properties relating to real-world features.]\n",
    "\n",
    "ANALYSIS: [Sample Paragraph: The performance of the preliminary Gradient Boosted Trees model achieved a logarithmic loss benchmark of 1.6147 on the validation dataset. The final model processed the validation dataset with a final logarithmic loss score of 1.2918. When we applied the finalized model to Kaggle's test dataset, the model achieved a logarithmic loss score of 2.1399]\n",
    "\n",
    "CONCLUSION: In this iteration, the TensorFlow Decision Forests model appeared to be a suitable algorithm for modeling this dataset.\n",
    "\n",
    "Dataset Used: [PROJECT NAME] Dataset\n",
    "\n",
    "Dataset ML Model: Multi-Class with [numerical | categorical] attributes\n",
    "\n",
    "Dataset Reference: [Sample URL: https://www.kaggle.com/c/tabular-playground-series-may-2021]\n",
    "\n",
    "One potential source of performance benchmarks: [Sample URL: https://www.kaggle.com/c/tabular-playground-series-may-2021/leaderboard]\n",
    "\n",
    "Any predictive modeling machine learning project generally can be broken down into about six major tasks:\n",
    "\n",
    "1. Prepare Environment\n",
    "2. Summarize and Visualize Data\n",
    "3. Train and Evaluate Models\n",
    "4. Fine-tune and Improve Models\n",
    "5. Finalize Model and Present Analysis"
   ]
  },
  {
   "cell_type": "markdown",
   "metadata": {
    "id": "2pu8nWBYwXi9"
   },
   "source": [
    "## Task 1 - Prepare Environment"
   ]
  },
  {
   "cell_type": "code",
   "execution_count": 1,
   "metadata": {
    "colab": {
     "base_uri": "https://localhost:8080/"
    },
    "id": "oucRIOhVwXi9",
    "outputId": "1d13c29d-9136-40c8-df5e-d048fbcce48a"
   },
   "outputs": [],
   "source": [
    "# Install the necessary packages for Colab\n",
    "# !pip install python-dotenv PyMySQL"
   ]
  },
  {
   "cell_type": "code",
   "execution_count": 2,
   "metadata": {},
   "outputs": [],
   "source": [
    "# Installing TFDF might be necessary when using the script with Google Colab\n",
    "# !pip install tensorflow_decision_forests"
   ]
  },
  {
   "cell_type": "code",
   "execution_count": 3,
   "metadata": {
    "colab": {
     "base_uri": "https://localhost:8080/"
    },
    "id": "QNXHrvTWZ96d",
    "outputId": "8ed978eb-a80a-42cf-afb9-9fcca38e8dc1"
   },
   "outputs": [],
   "source": [
    "# For managing screen output when using the script with Google Colab\n",
    "# !pip install wurlitzer"
   ]
  },
  {
   "cell_type": "code",
   "execution_count": 4,
   "metadata": {
    "id": "tvspnMqBwXi-"
   },
   "outputs": [],
   "source": [
    "# # Retrieve the GPU information from Colab\n",
    "# gpu_info = !nvidia-smi\n",
    "# gpu_info = '\\n'.join(gpu_info)\n",
    "# if gpu_info.find('failed') >= 0:\n",
    "#     print('Select the Runtime → \"Change runtime type\" menu to enable a GPU accelerator, ')\n",
    "#     print('and then re-execute this cell.')\n",
    "# else:\n",
    "#     print(gpu_info)"
   ]
  },
  {
   "cell_type": "code",
   "execution_count": 5,
   "metadata": {
    "colab": {
     "base_uri": "https://localhost:8080/"
    },
    "id": "TanXkkQxwXi-",
    "outputId": "c2f4d9c4-74ee-4fd3-9b28-34ef98e5a9f5"
   },
   "outputs": [],
   "source": [
    "# # Retrieve the memory configuration from Colab\n",
    "# from psutil import virtual_memory\n",
    "# ram_gb = virtual_memory().total / 1e9\n",
    "# print('Your runtime has {:.1f} gigabytes of available RAM\\n'.format(ram_gb))\n",
    "\n",
    "# if ram_gb < 20:\n",
    "#     print('To enable a high-RAM runtime, select the Runtime → \"Change runtime type\"')\n",
    "#     print('menu, and then select High-RAM in the Runtime shape dropdown. Then, ')\n",
    "#     print('re-execute this cell.')\n",
    "# else:\n",
    "#     print('You are using a high-RAM runtime!')"
   ]
  },
  {
   "cell_type": "code",
   "execution_count": 6,
   "metadata": {
    "colab": {
     "base_uri": "https://localhost:8080/"
    },
    "id": "ZOOVxnGCwXi_",
    "outputId": "af26ffc0-0714-4f1f-9f04-f6fcbf16ece3"
   },
   "outputs": [
    {
     "name": "stdout",
     "output_type": "stream",
     "text": [
      "The number of available CPUs is: 4\n"
     ]
    }
   ],
   "source": [
    "# Retrieve the CPU information\n",
    "ncpu = !nproc\n",
    "print(\"The number of available CPUs is:\", ncpu[0])"
   ]
  },
  {
   "cell_type": "markdown",
   "metadata": {
    "id": "6UZqFeojwXjA"
   },
   "source": [
    "### 1.a) Load libraries and modules"
   ]
  },
  {
   "cell_type": "code",
   "execution_count": 7,
   "metadata": {
    "id": "9_ovTGbJwXjA"
   },
   "outputs": [],
   "source": [
    "# Set the random seed number for reproducible results\n",
    "RNG_SEED = 888"
   ]
  },
  {
   "cell_type": "code",
   "execution_count": 8,
   "metadata": {
    "colab": {
     "base_uri": "https://localhost:8080/"
    },
    "id": "vDmif-v8wXjB",
    "outputId": "5050d081-be63-432c-bd77-7c5f18164f22"
   },
   "outputs": [
    {
     "name": "stderr",
     "output_type": "stream",
     "text": [
      "2021-11-24 00:25:02.431510: W tensorflow/stream_executor/platform/default/dso_loader.cc:64] Could not load dynamic library 'libcudart.so.11.0'; dlerror: libcudart.so.11.0: cannot open shared object file: No such file or directory\n",
      "2021-11-24 00:25:02.431568: I tensorflow/stream_executor/cuda/cudart_stub.cc:29] Ignore above cudart dlerror if you do not have a GPU set up on your machine.\n",
      "WARNING:root:Failure to load the custom c++ tensorflow ops. This error is likely caused the version of TensorFlow and TensorFlow Decision Forests are not compatible.\n",
      "WARNING:root:TF Parameter Server distributed training not available.\n"
     ]
    }
   ],
   "source": [
    "import random\n",
    "random.seed(RNG_SEED)\n",
    "import numpy as np\n",
    "np.random.seed(RNG_SEED)\n",
    "import pandas as pd\n",
    "import seaborn as sns\n",
    "import matplotlib\n",
    "import matplotlib.pyplot as plt\n",
    "import os\n",
    "import sys\n",
    "import math\n",
    "from datetime import datetime\n",
    "# import boto3\n",
    "# from dotenv import load_dotenv\n",
    "from sklearn import preprocessing\n",
    "from sklearn.model_selection import train_test_split\n",
    "from sklearn.model_selection import RepeatedKFold\n",
    "from sklearn.pipeline import Pipeline\n",
    "from sklearn import compose\n",
    "from sklearn import impute\n",
    "from sklearn import metrics\n",
    "import tensorflow as tf\n",
    "tf.random.set_seed(RNG_SEED)\n",
    "# from tensorflow import keras\n",
    "import tensorflow_decision_forests as tfdf"
   ]
  },
  {
   "cell_type": "code",
   "execution_count": 9,
   "metadata": {
    "id": "ATym7GJWaOD3"
   },
   "outputs": [],
   "source": [
    "# For managing screen output and model plotting when using the script with Google Colab\n",
    "\n",
    "# try:\n",
    "#   from wurlitzer import sys_pipes\n",
    "# except:\n",
    "#   from colabtools.googlelog import CaptureLog as sys_pipes\n",
    "\n",
    "# from IPython.core.magic import register_line_magic\n",
    "# from IPython.display import Javascript"
   ]
  },
  {
   "cell_type": "markdown",
   "metadata": {
    "id": "M0TRB7j0wXjB"
   },
   "source": [
    "### 1.b) Set up the controlling parameters and functions"
   ]
  },
  {
   "cell_type": "code",
   "execution_count": 10,
   "metadata": {
    "colab": {
     "base_uri": "https://localhost:8080/"
    },
    "id": "JCurALWEwXjB",
    "outputId": "fe2a2a8f-feec-4485-a414-4c0218f15afb"
   },
   "outputs": [
    {
     "name": "stdout",
     "output_type": "stream",
     "text": [
      "TensorFlow version: 2.7.0\n",
      "Found TensorFlow Decision Forests v0.2.1\n"
     ]
    },
    {
     "name": "stderr",
     "output_type": "stream",
     "text": [
      "2021-11-24 00:25:04.703595: W tensorflow/stream_executor/platform/default/dso_loader.cc:64] Could not load dynamic library 'libcuda.so.1'; dlerror: libcuda.so.1: cannot open shared object file: No such file or directory\n",
      "2021-11-24 00:25:04.703644: W tensorflow/stream_executor/cuda/cuda_driver.cc:269] failed call to cuInit: UNKNOWN ERROR (303)\n",
      "2021-11-24 00:25:04.703681: I tensorflow/stream_executor/cuda/cuda_diagnostics.cc:156] kernel driver does not appear to be running on this host (20d838f3f8d1): /proc/driver/nvidia/version does not exist\n"
     ]
    }
   ],
   "source": [
    "# Begin the timer for the script processing\n",
    "start_time_script = datetime.now()\n",
    "\n",
    "# Set up the number of CPU cores available for multi-thread processing\n",
    "N_JOBS = 1\n",
    "\n",
    "# Set up the flag to stop sending progress emails (setting to True will send status emails!)\n",
    "NOTIFY_STATUS = False\n",
    "\n",
    "# Set the percentage sizes for splitting the dataset\n",
    "TEST_SET_RATIO = 0.2\n",
    "VAL_SET_RATIO = 0.2\n",
    "\n",
    "# Set the number of folds for cross validation\n",
    "N_FOLDS = 5\n",
    "N_ITERATIONS = 1\n",
    "\n",
    "# Set various default modeling parameters\n",
    "DEFAULT_METRICS = [\"accuracy\", tf.keras.metrics.SparseCategoricalCrossentropy()]\n",
    "\n",
    "# Define the directory locations and file names\n",
    "TRAIN_DATASET = 'train.csv'\n",
    "TEST_DATASET = 'test.csv'\n",
    "\n",
    "# # Check the number of GPUs accessible through TensorFlow\n",
    "# print('Num GPUs Available:', len(tf.config.list_physical_devices('GPU')))\n",
    "\n",
    "# Print out the TensorFlow version for confirmation\n",
    "print('TensorFlow version:', tf.__version__)\n",
    "\n",
    "# Check the version of TensorFlow Decision Forests\n",
    "print(\"Found TensorFlow Decision Forests v\" + tfdf.__version__)"
   ]
  },
  {
   "cell_type": "code",
   "execution_count": 11,
   "metadata": {
    "id": "IBDJ6B40wXjC"
   },
   "outputs": [],
   "source": [
    "# Set up the email notification function\n",
    "def status_notify(msg_text):\n",
    "    access_key = os.environ.get('SNS_ACCESS_KEY')\n",
    "    secret_key = os.environ.get('SNS_SECRET_KEY')\n",
    "    aws_region = os.environ.get('SNS_AWS_REGION')\n",
    "    topic_arn = os.environ.get('SNS_TOPIC_ARN')\n",
    "    if (access_key is None) or (secret_key is None) or (aws_region is None):\n",
    "        sys.exit(\"Incomplete notification setup info. Script Processing Aborted!!!\")\n",
    "    sns = boto3.client('sns', aws_access_key_id=access_key, aws_secret_access_key=secret_key, region_name=aws_region)\n",
    "    response = sns.publish(TopicArn=topic_arn, Message=msg_text)\n",
    "    if response['ResponseMetadata']['HTTPStatusCode'] != 200 :\n",
    "        print('Status notification not OK with HTTP status code:', response['ResponseMetadata']['HTTPStatusCode'])"
   ]
  },
  {
   "cell_type": "code",
   "execution_count": 12,
   "metadata": {
    "id": "e3tPi3k7wyTv"
   },
   "outputs": [],
   "source": [
    "# Reset the random number generators\n",
    "def reset_random(x=RNG_SEED):\n",
    "    random.seed(x)\n",
    "    np.random.seed(x)\n",
    "    tf.random.set_seed(x)"
   ]
  },
  {
   "cell_type": "code",
   "execution_count": 13,
   "metadata": {
    "id": "p2F2r8QswXjD"
   },
   "outputs": [],
   "source": [
    "if NOTIFY_STATUS: status_notify(\"Task 1 - Prepare Environment has begun! \" + datetime.now().strftime('%a %B %d, %Y %I:%M:%S %p'))"
   ]
  },
  {
   "cell_type": "markdown",
   "metadata": {
    "id": "yk2I_AhawXjD"
   },
   "source": [
    "### 1.c) Load dataset"
   ]
  },
  {
   "cell_type": "code",
   "execution_count": 14,
   "metadata": {},
   "outputs": [],
   "source": [
    "if not os.path.exists(TRAIN_DATASET):\n",
    "    !wget https://dainesanalytics.com/datasets/kaggle-tabular-playground-2021may/train.csv"
   ]
  },
  {
   "cell_type": "code",
   "execution_count": 15,
   "metadata": {
    "colab": {
     "base_uri": "https://localhost:8080/"
    },
    "id": "E7G2_4zawXjE",
    "outputId": "8fe31ed3-47a3-4720-b2ab-a32c52603e4d"
   },
   "outputs": [
    {
     "name": "stdout",
     "output_type": "stream",
     "text": [
      "   id  feature_0  feature_1  feature_2  feature_3  feature_4  feature_5  \\\n",
      "0   0          0          0          1          0          1          0   \n",
      "1   1          0          0          0          0          2          1   \n",
      "2   2          0          0          0          0          0          0   \n",
      "3   3          0          0          0          0          0          0   \n",
      "4   4          0          0          0          0          0          0   \n",
      "\n",
      "   feature_6  feature_7  feature_8  ...  feature_41  feature_42  feature_43  \\\n",
      "0          0          0          0  ...           0           0          21   \n",
      "1          0          0          0  ...           0           0           0   \n",
      "2          0          0          0  ...           0           1           0   \n",
      "3          0          3          0  ...           0           0           0   \n",
      "4          0          0          0  ...           0           0           0   \n",
      "\n",
      "   feature_44  feature_45  feature_46  feature_47  feature_48  feature_49  \\\n",
      "0           0           0           0           0           0           0   \n",
      "1           0           0           0           0           0           0   \n",
      "2           0           0           0          13           2           0   \n",
      "3           0           0           0           0           1           0   \n",
      "4           0           0           0           0           1           0   \n",
      "\n",
      "    target  \n",
      "0  Class_2  \n",
      "1  Class_1  \n",
      "2  Class_1  \n",
      "3  Class_4  \n",
      "4  Class_2  \n",
      "\n",
      "[5 rows x 52 columns]\n"
     ]
    }
   ],
   "source": [
    "df_dataset_import = pd.read_csv(TRAIN_DATASET, index_col=False)\n",
    "\n",
    "# Take a peek at the dataframe after import\n",
    "print(df_dataset_import.head())"
   ]
  },
  {
   "cell_type": "code",
   "execution_count": 16,
   "metadata": {
    "colab": {
     "base_uri": "https://localhost:8080/"
    },
    "id": "3dl-LDdfwXjE",
    "outputId": "bbeef758-68be-4a10-e1bc-fb939eca2168"
   },
   "outputs": [
    {
     "name": "stdout",
     "output_type": "stream",
     "text": [
      "<class 'pandas.core.frame.DataFrame'>\n",
      "RangeIndex: 100000 entries, 0 to 99999\n",
      "Data columns (total 52 columns):\n",
      " #   Column      Non-Null Count   Dtype \n",
      "---  ------      --------------   ----- \n",
      " 0   id          100000 non-null  int64 \n",
      " 1   feature_0   100000 non-null  int64 \n",
      " 2   feature_1   100000 non-null  int64 \n",
      " 3   feature_2   100000 non-null  int64 \n",
      " 4   feature_3   100000 non-null  int64 \n",
      " 5   feature_4   100000 non-null  int64 \n",
      " 6   feature_5   100000 non-null  int64 \n",
      " 7   feature_6   100000 non-null  int64 \n",
      " 8   feature_7   100000 non-null  int64 \n",
      " 9   feature_8   100000 non-null  int64 \n",
      " 10  feature_9   100000 non-null  int64 \n",
      " 11  feature_10  100000 non-null  int64 \n",
      " 12  feature_11  100000 non-null  int64 \n",
      " 13  feature_12  100000 non-null  int64 \n",
      " 14  feature_13  100000 non-null  int64 \n",
      " 15  feature_14  100000 non-null  int64 \n",
      " 16  feature_15  100000 non-null  int64 \n",
      " 17  feature_16  100000 non-null  int64 \n",
      " 18  feature_17  100000 non-null  int64 \n",
      " 19  feature_18  100000 non-null  int64 \n",
      " 20  feature_19  100000 non-null  int64 \n",
      " 21  feature_20  100000 non-null  int64 \n",
      " 22  feature_21  100000 non-null  int64 \n",
      " 23  feature_22  100000 non-null  int64 \n",
      " 24  feature_23  100000 non-null  int64 \n",
      " 25  feature_24  100000 non-null  int64 \n",
      " 26  feature_25  100000 non-null  int64 \n",
      " 27  feature_26  100000 non-null  int64 \n",
      " 28  feature_27  100000 non-null  int64 \n",
      " 29  feature_28  100000 non-null  int64 \n",
      " 30  feature_29  100000 non-null  int64 \n",
      " 31  feature_30  100000 non-null  int64 \n",
      " 32  feature_31  100000 non-null  int64 \n",
      " 33  feature_32  100000 non-null  int64 \n",
      " 34  feature_33  100000 non-null  int64 \n",
      " 35  feature_34  100000 non-null  int64 \n",
      " 36  feature_35  100000 non-null  int64 \n",
      " 37  feature_36  100000 non-null  int64 \n",
      " 38  feature_37  100000 non-null  int64 \n",
      " 39  feature_38  100000 non-null  int64 \n",
      " 40  feature_39  100000 non-null  int64 \n",
      " 41  feature_40  100000 non-null  int64 \n",
      " 42  feature_41  100000 non-null  int64 \n",
      " 43  feature_42  100000 non-null  int64 \n",
      " 44  feature_43  100000 non-null  int64 \n",
      " 45  feature_44  100000 non-null  int64 \n",
      " 46  feature_45  100000 non-null  int64 \n",
      " 47  feature_46  100000 non-null  int64 \n",
      " 48  feature_47  100000 non-null  int64 \n",
      " 49  feature_48  100000 non-null  int64 \n",
      " 50  feature_49  100000 non-null  int64 \n",
      " 51  target      100000 non-null  object\n",
      "dtypes: int64(51), object(1)\n",
      "memory usage: 39.7+ MB\n"
     ]
    }
   ],
   "source": [
    "df_dataset_import.info(verbose=True)"
   ]
  },
  {
   "cell_type": "code",
   "execution_count": 17,
   "metadata": {
    "colab": {
     "base_uri": "https://localhost:8080/"
    },
    "id": "3eB_rvlwwXjF",
    "outputId": "6653b185-594e-4772-f887-abef50d74bd5"
   },
   "outputs": [
    {
     "name": "stdout",
     "output_type": "stream",
     "text": [
      "                  id      feature_0      feature_1      feature_2  \\\n",
      "count  100000.000000  100000.000000  100000.000000  100000.000000   \n",
      "mean    49999.500000       0.257830       0.431720       0.114130   \n",
      "std     28867.657797       0.929033       1.977862       0.519584   \n",
      "min         0.000000       0.000000       0.000000       0.000000   \n",
      "25%     24999.750000       0.000000       0.000000       0.000000   \n",
      "50%     49999.500000       0.000000       0.000000       0.000000   \n",
      "75%     74999.250000       0.000000       0.000000       0.000000   \n",
      "max     99999.000000      10.000000      31.000000       6.000000   \n",
      "\n",
      "           feature_3      feature_4      feature_5      feature_6  \\\n",
      "count  100000.000000  100000.000000  100000.000000  100000.000000   \n",
      "mean        0.590550       0.599770       0.160820       0.731490   \n",
      "std         1.844558       2.785531       0.601149       2.343465   \n",
      "min         0.000000       0.000000       0.000000       0.000000   \n",
      "25%         0.000000       0.000000       0.000000       0.000000   \n",
      "50%         0.000000       0.000000       0.000000       0.000000   \n",
      "75%         0.000000       0.000000       0.000000       0.000000   \n",
      "max        26.000000      38.000000      10.000000      27.000000   \n",
      "\n",
      "           feature_7      feature_8  ...     feature_40     feature_41  \\\n",
      "count  100000.000000  100000.000000  ...  100000.000000  100000.000000   \n",
      "mean        1.228920       0.903350  ...       0.712270       0.582070   \n",
      "std         2.692732       3.415258  ...       1.721863       2.003114   \n",
      "min         0.000000       0.000000  ...       0.000000       0.000000   \n",
      "25%         0.000000       0.000000  ...       0.000000       0.000000   \n",
      "50%         0.000000       0.000000  ...       0.000000       0.000000   \n",
      "75%         1.000000       0.000000  ...       1.000000       0.000000   \n",
      "max        31.000000      39.000000  ...      21.000000      32.000000   \n",
      "\n",
      "          feature_42     feature_43     feature_44     feature_45  \\\n",
      "count  100000.000000  100000.000000  100000.000000  100000.000000   \n",
      "mean        0.529230       0.616310       0.135100       0.358660   \n",
      "std         2.300826       2.360955       0.627592       1.464187   \n",
      "min        -2.000000       0.000000       0.000000       0.000000   \n",
      "25%         0.000000       0.000000       0.000000       0.000000   \n",
      "50%         0.000000       0.000000       0.000000       0.000000   \n",
      "75%         0.000000       0.000000       0.000000       0.000000   \n",
      "max        37.000000      33.000000       9.000000      26.000000   \n",
      "\n",
      "          feature_46    feature_47     feature_48    feature_49  \n",
      "count  100000.000000  100000.00000  100000.000000  100000.00000  \n",
      "mean        0.516810       0.39004       0.970850       0.55712  \n",
      "std         2.171415       1.48735       2.576615       1.68093  \n",
      "min         0.000000       0.00000       0.000000       0.00000  \n",
      "25%         0.000000       0.00000       0.000000       0.00000  \n",
      "50%         0.000000       0.00000       0.000000       0.00000  \n",
      "75%         0.000000       0.00000       1.000000       0.00000  \n",
      "max        29.000000      25.00000      44.000000      20.00000  \n",
      "\n",
      "[8 rows x 51 columns]\n"
     ]
    }
   ],
   "source": [
    "print(df_dataset_import.describe())"
   ]
  },
  {
   "cell_type": "code",
   "execution_count": 18,
   "metadata": {
    "colab": {
     "base_uri": "https://localhost:8080/"
    },
    "id": "SRyVb81UwXjF",
    "outputId": "59df4c47-36a0-4476-efd6-272965f1657f"
   },
   "outputs": [
    {
     "name": "stdout",
     "output_type": "stream",
     "text": [
      "id            0\n",
      "feature_0     0\n",
      "feature_1     0\n",
      "feature_2     0\n",
      "feature_3     0\n",
      "feature_4     0\n",
      "feature_5     0\n",
      "feature_6     0\n",
      "feature_7     0\n",
      "feature_8     0\n",
      "feature_9     0\n",
      "feature_10    0\n",
      "feature_11    0\n",
      "feature_12    0\n",
      "feature_13    0\n",
      "feature_14    0\n",
      "feature_15    0\n",
      "feature_16    0\n",
      "feature_17    0\n",
      "feature_18    0\n",
      "feature_19    0\n",
      "feature_20    0\n",
      "feature_21    0\n",
      "feature_22    0\n",
      "feature_23    0\n",
      "feature_24    0\n",
      "feature_25    0\n",
      "feature_26    0\n",
      "feature_27    0\n",
      "feature_28    0\n",
      "feature_29    0\n",
      "feature_30    0\n",
      "feature_31    0\n",
      "feature_32    0\n",
      "feature_33    0\n",
      "feature_34    0\n",
      "feature_35    0\n",
      "feature_36    0\n",
      "feature_37    0\n",
      "feature_38    0\n",
      "feature_39    0\n",
      "feature_40    0\n",
      "feature_41    0\n",
      "feature_42    0\n",
      "feature_43    0\n",
      "feature_44    0\n",
      "feature_45    0\n",
      "feature_46    0\n",
      "feature_47    0\n",
      "feature_48    0\n",
      "feature_49    0\n",
      "target        0\n",
      "dtype: int64\n",
      "Total number of NaN in the dataframe:  0\n"
     ]
    }
   ],
   "source": [
    "print(df_dataset_import.isnull().sum())\n",
    "print('Total number of NaN in the dataframe: ', df_dataset_import.isnull().sum().sum())"
   ]
  },
  {
   "cell_type": "markdown",
   "metadata": {
    "id": "wfaoKiSdwXjG"
   },
   "source": [
    "### 1.d) Data Cleaning"
   ]
  },
  {
   "cell_type": "code",
   "execution_count": 19,
   "metadata": {
    "colab": {
     "base_uri": "https://localhost:8080/"
    },
    "id": "KujRTYu5wXjG",
    "outputId": "bde95e06-87b1-4cf3-fe8f-af041d369ff0"
   },
   "outputs": [
    {
     "name": "stdout",
     "output_type": "stream",
     "text": [
      "   feature_0  feature_1  feature_2  feature_3  feature_4  feature_5  \\\n",
      "0          0          0          1          0          1          0   \n",
      "1          0          0          0          0          2          1   \n",
      "2          0          0          0          0          0          0   \n",
      "3          0          0          0          0          0          0   \n",
      "4          0          0          0          0          0          0   \n",
      "\n",
      "   feature_6  feature_7  feature_8  feature_9  ...  feature_41  feature_42  \\\n",
      "0          0          0          0          0  ...           0           0   \n",
      "1          0          0          0          0  ...           0           0   \n",
      "2          0          0          0          2  ...           0           1   \n",
      "3          0          3          0          0  ...           0           0   \n",
      "4          0          0          0          0  ...           0           0   \n",
      "\n",
      "   feature_43  feature_44  feature_45  feature_46  feature_47  feature_48  \\\n",
      "0          21           0           0           0           0           0   \n",
      "1           0           0           0           0           0           0   \n",
      "2           0           0           0           0          13           2   \n",
      "3           0           0           0           0           0           1   \n",
      "4           0           0           0           0           0           1   \n",
      "\n",
      "   feature_49   target  \n",
      "0           0  Class_2  \n",
      "1           0  Class_1  \n",
      "2           0  Class_1  \n",
      "3           0  Class_4  \n",
      "4           0  Class_2  \n",
      "\n",
      "[5 rows x 51 columns]\n"
     ]
    }
   ],
   "source": [
    "# Dropping features\n",
    "df_dataset_import.drop(columns=['id'], inplace=True)\n",
    "\n",
    "# Take a peek at the dataframe after cleaning\n",
    "print(df_dataset_import.head())"
   ]
  },
  {
   "cell_type": "code",
   "execution_count": 20,
   "metadata": {
    "colab": {
     "base_uri": "https://localhost:8080/"
    },
    "id": "ZprOE1B0wXjH",
    "outputId": "15a54dc9-ea93-4996-b0dc-a244ed23c127"
   },
   "outputs": [
    {
     "name": "stdout",
     "output_type": "stream",
     "text": [
      "<class 'pandas.core.frame.DataFrame'>\n",
      "RangeIndex: 100000 entries, 0 to 99999\n",
      "Data columns (total 51 columns):\n",
      " #   Column      Non-Null Count   Dtype \n",
      "---  ------      --------------   ----- \n",
      " 0   feature_0   100000 non-null  int64 \n",
      " 1   feature_1   100000 non-null  int64 \n",
      " 2   feature_2   100000 non-null  int64 \n",
      " 3   feature_3   100000 non-null  int64 \n",
      " 4   feature_4   100000 non-null  int64 \n",
      " 5   feature_5   100000 non-null  int64 \n",
      " 6   feature_6   100000 non-null  int64 \n",
      " 7   feature_7   100000 non-null  int64 \n",
      " 8   feature_8   100000 non-null  int64 \n",
      " 9   feature_9   100000 non-null  int64 \n",
      " 10  feature_10  100000 non-null  int64 \n",
      " 11  feature_11  100000 non-null  int64 \n",
      " 12  feature_12  100000 non-null  int64 \n",
      " 13  feature_13  100000 non-null  int64 \n",
      " 14  feature_14  100000 non-null  int64 \n",
      " 15  feature_15  100000 non-null  int64 \n",
      " 16  feature_16  100000 non-null  int64 \n",
      " 17  feature_17  100000 non-null  int64 \n",
      " 18  feature_18  100000 non-null  int64 \n",
      " 19  feature_19  100000 non-null  int64 \n",
      " 20  feature_20  100000 non-null  int64 \n",
      " 21  feature_21  100000 non-null  int64 \n",
      " 22  feature_22  100000 non-null  int64 \n",
      " 23  feature_23  100000 non-null  int64 \n",
      " 24  feature_24  100000 non-null  int64 \n",
      " 25  feature_25  100000 non-null  int64 \n",
      " 26  feature_26  100000 non-null  int64 \n",
      " 27  feature_27  100000 non-null  int64 \n",
      " 28  feature_28  100000 non-null  int64 \n",
      " 29  feature_29  100000 non-null  int64 \n",
      " 30  feature_30  100000 non-null  int64 \n",
      " 31  feature_31  100000 non-null  int64 \n",
      " 32  feature_32  100000 non-null  int64 \n",
      " 33  feature_33  100000 non-null  int64 \n",
      " 34  feature_34  100000 non-null  int64 \n",
      " 35  feature_35  100000 non-null  int64 \n",
      " 36  feature_36  100000 non-null  int64 \n",
      " 37  feature_37  100000 non-null  int64 \n",
      " 38  feature_38  100000 non-null  int64 \n",
      " 39  feature_39  100000 non-null  int64 \n",
      " 40  feature_40  100000 non-null  int64 \n",
      " 41  feature_41  100000 non-null  int64 \n",
      " 42  feature_42  100000 non-null  int64 \n",
      " 43  feature_43  100000 non-null  int64 \n",
      " 44  feature_44  100000 non-null  int64 \n",
      " 45  feature_45  100000 non-null  int64 \n",
      " 46  feature_46  100000 non-null  int64 \n",
      " 47  feature_47  100000 non-null  int64 \n",
      " 48  feature_48  100000 non-null  int64 \n",
      " 49  feature_49  100000 non-null  int64 \n",
      " 50  target      100000 non-null  object\n",
      "dtypes: int64(50), object(1)\n",
      "memory usage: 38.9+ MB\n"
     ]
    }
   ],
   "source": [
    "df_dataset_import.info(verbose=True)"
   ]
  },
  {
   "cell_type": "code",
   "execution_count": 21,
   "metadata": {
    "colab": {
     "base_uri": "https://localhost:8080/"
    },
    "id": "QgyI5VZ1wXjH",
    "outputId": "56d27ba8-4867-4536-ab77-5f017102006e"
   },
   "outputs": [
    {
     "name": "stdout",
     "output_type": "stream",
     "text": [
      "           feature_0      feature_1      feature_2      feature_3  \\\n",
      "count  100000.000000  100000.000000  100000.000000  100000.000000   \n",
      "mean        0.257830       0.431720       0.114130       0.590550   \n",
      "std         0.929033       1.977862       0.519584       1.844558   \n",
      "min         0.000000       0.000000       0.000000       0.000000   \n",
      "25%         0.000000       0.000000       0.000000       0.000000   \n",
      "50%         0.000000       0.000000       0.000000       0.000000   \n",
      "75%         0.000000       0.000000       0.000000       0.000000   \n",
      "max        10.000000      31.000000       6.000000      26.000000   \n",
      "\n",
      "           feature_4      feature_5      feature_6      feature_7  \\\n",
      "count  100000.000000  100000.000000  100000.000000  100000.000000   \n",
      "mean        0.599770       0.160820       0.731490       1.228920   \n",
      "std         2.785531       0.601149       2.343465       2.692732   \n",
      "min         0.000000       0.000000       0.000000       0.000000   \n",
      "25%         0.000000       0.000000       0.000000       0.000000   \n",
      "50%         0.000000       0.000000       0.000000       0.000000   \n",
      "75%         0.000000       0.000000       0.000000       1.000000   \n",
      "max        38.000000      10.000000      27.000000      31.000000   \n",
      "\n",
      "           feature_8      feature_9  ...     feature_40     feature_41  \\\n",
      "count  100000.000000  100000.000000  ...  100000.000000  100000.000000   \n",
      "mean        0.903350       0.940120  ...       0.712270       0.582070   \n",
      "std         3.415258       1.904172  ...       1.721863       2.003114   \n",
      "min         0.000000       0.000000  ...       0.000000       0.000000   \n",
      "25%         0.000000       0.000000  ...       0.000000       0.000000   \n",
      "50%         0.000000       0.000000  ...       0.000000       0.000000   \n",
      "75%         0.000000       1.000000  ...       1.000000       0.000000   \n",
      "max        39.000000      17.000000  ...      21.000000      32.000000   \n",
      "\n",
      "          feature_42     feature_43     feature_44     feature_45  \\\n",
      "count  100000.000000  100000.000000  100000.000000  100000.000000   \n",
      "mean        0.529230       0.616310       0.135100       0.358660   \n",
      "std         2.300826       2.360955       0.627592       1.464187   \n",
      "min        -2.000000       0.000000       0.000000       0.000000   \n",
      "25%         0.000000       0.000000       0.000000       0.000000   \n",
      "50%         0.000000       0.000000       0.000000       0.000000   \n",
      "75%         0.000000       0.000000       0.000000       0.000000   \n",
      "max        37.000000      33.000000       9.000000      26.000000   \n",
      "\n",
      "          feature_46    feature_47     feature_48    feature_49  \n",
      "count  100000.000000  100000.00000  100000.000000  100000.00000  \n",
      "mean        0.516810       0.39004       0.970850       0.55712  \n",
      "std         2.171415       1.48735       2.576615       1.68093  \n",
      "min         0.000000       0.00000       0.000000       0.00000  \n",
      "25%         0.000000       0.00000       0.000000       0.00000  \n",
      "50%         0.000000       0.00000       0.000000       0.00000  \n",
      "75%         0.000000       0.00000       1.000000       0.00000  \n",
      "max        29.000000      25.00000      44.000000      20.00000  \n",
      "\n",
      "[8 rows x 50 columns]\n"
     ]
    }
   ],
   "source": [
    "print(df_dataset_import.describe())"
   ]
  },
  {
   "cell_type": "code",
   "execution_count": 22,
   "metadata": {
    "colab": {
     "base_uri": "https://localhost:8080/"
    },
    "id": "wz9iKsUswXjI",
    "outputId": "da2128d2-f4ef-43e8-dd1b-441908a27f10"
   },
   "outputs": [
    {
     "name": "stdout",
     "output_type": "stream",
     "text": [
      "feature_0     0\n",
      "feature_1     0\n",
      "feature_2     0\n",
      "feature_3     0\n",
      "feature_4     0\n",
      "feature_5     0\n",
      "feature_6     0\n",
      "feature_7     0\n",
      "feature_8     0\n",
      "feature_9     0\n",
      "feature_10    0\n",
      "feature_11    0\n",
      "feature_12    0\n",
      "feature_13    0\n",
      "feature_14    0\n",
      "feature_15    0\n",
      "feature_16    0\n",
      "feature_17    0\n",
      "feature_18    0\n",
      "feature_19    0\n",
      "feature_20    0\n",
      "feature_21    0\n",
      "feature_22    0\n",
      "feature_23    0\n",
      "feature_24    0\n",
      "feature_25    0\n",
      "feature_26    0\n",
      "feature_27    0\n",
      "feature_28    0\n",
      "feature_29    0\n",
      "feature_30    0\n",
      "feature_31    0\n",
      "feature_32    0\n",
      "feature_33    0\n",
      "feature_34    0\n",
      "feature_35    0\n",
      "feature_36    0\n",
      "feature_37    0\n",
      "feature_38    0\n",
      "feature_39    0\n",
      "feature_40    0\n",
      "feature_41    0\n",
      "feature_42    0\n",
      "feature_43    0\n",
      "feature_44    0\n",
      "feature_45    0\n",
      "feature_46    0\n",
      "feature_47    0\n",
      "feature_48    0\n",
      "feature_49    0\n",
      "target        0\n",
      "dtype: int64\n",
      "Total number of NaN in the dataframe:  0\n"
     ]
    }
   ],
   "source": [
    "print(df_dataset_import.isnull().sum())\n",
    "print('Total number of NaN in the dataframe: ', df_dataset_import.isnull().sum().sum())"
   ]
  },
  {
   "cell_type": "markdown",
   "metadata": {
    "id": "0ZBQ1s2bwXjI"
   },
   "source": [
    "### 1.e) Splitting Data into Sets"
   ]
  },
  {
   "cell_type": "code",
   "execution_count": 23,
   "metadata": {
    "colab": {
     "base_uri": "https://localhost:8080/"
    },
    "id": "QNydPt1uwXjI",
    "outputId": "b9e0b0b4-4558-4c22-9f26-f0a69279818a"
   },
   "outputs": [
    {
     "name": "stdout",
     "output_type": "stream",
     "text": [
      "df_dataset_import.shape: (100000, 51) df_features_train.shape: (100000, 50) df_target_train.shape: (100000,)\n"
     ]
    }
   ],
   "source": [
    "# Use variable total_column_count to hold the number of columns in the dataframe\n",
    "total_column_count = len(df_dataset_import.columns)\n",
    "\n",
    "# Set up variable total_feature_count for the total number of attribute columns\n",
    "total_feature_count = total_column_count-1\n",
    "\n",
    "# We create attribute-only and target-only datasets (df_features_train and df_target_train)\n",
    "df_target_train = df_dataset_import['target']\n",
    "df_features_train = df_dataset_import.drop(['target'], axis=1)\n",
    "\n",
    "print(\"df_dataset_import.shape: {} df_features_train.shape: {} df_target_train.shape: {}\".format(df_dataset_import.shape, df_features_train.shape, df_target_train.shape))"
   ]
  },
  {
   "cell_type": "markdown",
   "metadata": {
    "id": "VKU_2CL74vh-"
   },
   "source": [
    "### 1.f) Set up the parameters for data visualization"
   ]
  },
  {
   "cell_type": "code",
   "execution_count": 24,
   "metadata": {
    "id": "7D9OChW94yP0"
   },
   "outputs": [],
   "source": [
    "# Set up the number of row and columns for visualization display. display_rows * display_columns should be >= total_feature_count\n",
    "display_columns = 4\n",
    "if total_feature_count % display_columns == 0 :\n",
    "    display_rows = total_feature_count // display_columns\n",
    "else :\n",
    "    display_rows = (total_feature_count // display_columns) + 1\n",
    "    \n",
    "# Set figure width to display the data visualization plots\n",
    "fig_size = plt.rcParams[\"figure.figsize\"]\n",
    "fig_size[0] = display_columns * 4\n",
    "fig_size[1] = display_rows * 4\n",
    "plt.rcParams[\"figure.figsize\"] = fig_size"
   ]
  },
  {
   "cell_type": "code",
   "execution_count": 25,
   "metadata": {
    "id": "YLRgAYnMwXjJ"
   },
   "outputs": [],
   "source": [
    "if NOTIFY_STATUS: status_notify(\"Task 1 - Prepare Environment completed! \"+datetime.now().strftime('%a %B %d, %Y %I:%M:%S %p'))"
   ]
  },
  {
   "cell_type": "markdown",
   "metadata": {
    "id": "ZivQJCZowXjK"
   },
   "source": [
    "## Task 2 - Summarize and Visualize Data"
   ]
  },
  {
   "cell_type": "code",
   "execution_count": 26,
   "metadata": {
    "id": "F5H90pxZwXjK"
   },
   "outputs": [],
   "source": [
    "if NOTIFY_STATUS: status_notify(\"Task 2 - Summarize and Visualize Data has begun! \"+datetime.now().strftime('%a %B %d, %Y %I:%M:%S %p'))"
   ]
  },
  {
   "cell_type": "code",
   "execution_count": 27,
   "metadata": {
    "colab": {
     "base_uri": "https://localhost:8080/",
     "height": 919
    },
    "id": "OBhr7SGRwXjK",
    "outputId": "3b3dc20f-b962-414c-b891-e530b1dd3d6a",
    "tags": []
   },
   "outputs": [
    {
     "data": {
      "image/png": "[encoded data removed]",
      "text/plain": [
       "<Figure size 1152x3744 with 52 Axes>"
      ]
     },
     "metadata": {
      "needs_background": "light"
     },
     "output_type": "display_data"
    }
   ],
   "source": [
    "# Histograms for each attribute\n",
    "df_features_train.plot(kind='hist', subplots=True, layout=(display_rows, display_columns))\n",
    "plt.show()"
   ]
  },
  {
   "cell_type": "code",
   "execution_count": 28,
   "metadata": {
    "colab": {
     "base_uri": "https://localhost:8080/",
     "height": 918
    },
    "id": "NHtCofAgwXjL",
    "outputId": "b7393adf-cc8e-4739-95f4-6820bde2b8e7"
   },
   "outputs": [
    {
     "data": {
      "image/png": "[encoded data removed]",
      "text/plain": [
       "<Figure size 1152x3744 with 52 Axes>"
      ]
     },
     "metadata": {
      "needs_background": "light"
     },
     "output_type": "display_data"
    }
   ],
   "source": [
    "# Box and Whisker plot for each attribute\n",
    "df_features_train.plot(kind='box', subplots=True, layout=(display_rows, display_columns))\n",
    "plt.show()"
   ]
  },
  {
   "cell_type": "code",
   "execution_count": 29,
   "metadata": {
    "colab": {
     "base_uri": "https://localhost:8080/",
     "height": 1000
    },
    "id": "HXUm5_nkwXjL",
    "outputId": "8aa7e071-d983-4609-a04b-37532cdfece2"
   },
   "outputs": [],
   "source": [
    "# Correlation matrix\n",
    "# fig = plt.figure(figsize=(20, 20))\n",
    "# correlations = df_features_train.corr(method='pearson')\n",
    "# sns.heatmap(correlations, annot=True, cmap=plt.cm.PuBu)\n",
    "# plt.show()"
   ]
  },
  {
   "cell_type": "code",
   "execution_count": 30,
   "metadata": {
    "id": "yHcRjiadwXjL"
   },
   "outputs": [],
   "source": [
    "if NOTIFY_STATUS: status_notify(\"Task 2 - Summarize and Visualize Data completed! \"+datetime.now().strftime('%a %B %d, %Y %I:%M:%S %p'))"
   ]
  },
  {
   "cell_type": "markdown",
   "metadata": {
    "id": "-8rH-HXuwXjM"
   },
   "source": [
    "## Task 3 - Train and Evaluate Models"
   ]
  },
  {
   "cell_type": "code",
   "execution_count": 31,
   "metadata": {
    "id": "UnD36SUzwXjM"
   },
   "outputs": [],
   "source": [
    "if NOTIFY_STATUS: status_notify(\"Task 3 - Train and Evaluate Models has begun! \"+datetime.now().strftime('%a %B %d, %Y %I:%M:%S %p'))"
   ]
  },
  {
   "cell_type": "markdown",
   "metadata": {
    "id": "C5MXnEfq0-PW"
   },
   "source": [
    "### 3.a) Splitting Data into Training and Validation Sets"
   ]
  },
  {
   "cell_type": "code",
   "execution_count": 32,
   "metadata": {
    "colab": {
     "base_uri": "https://localhost:8080/"
    },
    "id": "AI2yMOlA6PwG",
    "outputId": "7773985b-1e43-4fee-d3a1-4f9d17805873"
   },
   "outputs": [
    {
     "name": "stdout",
     "output_type": "stream",
     "text": [
      "df_dataset_train.shape: (80000, 51) df_dataset_valid.shape: (20000, 51)\n"
     ]
    }
   ],
   "source": [
    "# Split the data further into training and validation datasets\n",
    "df_dataset_train, df_dataset_valid = train_test_split(df_dataset_import, test_size=VAL_SET_RATIO, random_state=RNG_SEED)\n",
    "print(\"df_dataset_train.shape: {} df_dataset_valid.shape: {}\".format(df_dataset_train.shape, df_dataset_valid.shape))"
   ]
  },
  {
   "cell_type": "code",
   "execution_count": 33,
   "metadata": {
    "id": "QY2ulFc8wXjR"
   },
   "outputs": [
    {
     "name": "stderr",
     "output_type": "stream",
     "text": [
      "/home/pythonml/appdev/lib/python3.9/site-packages/tensorflow_decision_forests/keras/core.py:1612: FutureWarning: In a future version of pandas all arguments of DataFrame.drop except for the argument 'labels' will be keyword-only\n",
      "  features_dataframe = dataframe.drop(label, 1)\n"
     ]
    }
   ],
   "source": [
    "# Finalize the training and validation datasets for the modeling activities\n",
    "tfds_train = tfdf.keras.pd_dataframe_to_tf_dataset(df_dataset_train, label='target', task = tfdf.keras.Task.CLASSIFICATION)\n",
    "tfds_valid = tfdf.keras.pd_dataframe_to_tf_dataset(df_dataset_valid, label='target', task = tfdf.keras.Task.CLASSIFICATION)"
   ]
  },
  {
   "cell_type": "markdown",
   "metadata": {
    "id": "2_pts_ZN1J3g"
   },
   "source": [
    "### 3.b) Train and Evaluate the Random Forest Model"
   ]
  },
  {
   "cell_type": "code",
   "execution_count": 34,
   "metadata": {
    "colab": {
     "base_uri": "https://localhost:8080/"
    },
    "id": "Bbls2rTF3l8E",
    "outputId": "a17264ef-6667-4e13-8cdb-646d1f536ac1"
   },
   "outputs": [
    {
     "name": "stdout",
     "output_type": "stream",
     "text": [
      "1245/1250 [============================>.] - ETA: 0s"
     ]
    },
    {
     "name": "stderr",
     "output_type": "stream",
     "text": [
      "[INFO kernel.cc:736] Start Yggdrasil model training\n",
      "[INFO kernel.cc:737] Collect training examples\n",
      "[INFO kernel.cc:392] Number of batches: 1250\n",
      "[INFO kernel.cc:393] Number of examples: 80000\n",
      "[INFO kernel.cc:759] Dataset:\n",
      "Number of records: 80000\n",
      "Number of columns: 51\n",
      "\n",
      "Number of columns by type:\n",
      "\tNUMERICAL: 50 (98.0392%)\n",
      "\tCATEGORICAL: 1 (1.96078%)\n",
      "\n",
      "Columns:\n",
      "\n",
      "NUMERICAL: 50 (98.0392%)\n",
      "\t0: \"feature_0\" NUMERICAL mean:0.257812 min:0 max:10 sd:0.928262\n",
      "\t1: \"feature_1\" NUMERICAL mean:0.42845 min:0 max:31 sd:1.96312\n",
      "\t2: \"feature_10\" NUMERICAL mean:0.312837 min:0 max:15 sd:1.12395\n",
      "\t3: \"feature_11\" NUMERICAL mean:0.405763 min:0 max:12 sd:1.01642\n",
      "\t4: \"feature_12\" NUMERICAL mean:0.460688 min:0 max:11 sd:1.12668\n",
      "\t5: \"feature_13\" NUMERICAL mean:0.0763125 min:0 max:3 sd:0.360644\n",
      "\t6: \"feature_14\" NUMERICAL mean:2.60879 min:0 max:51 sd:4.67293\n",
      "\t7: \"feature_15\" NUMERICAL mean:1.23971 min:0 max:19 sd:2.15601\n",
      "\t8: \"feature_16\" NUMERICAL mean:0.367287 min:0 max:18 sd:1.28267\n",
      "\t9: \"feature_17\" NUMERICAL mean:0.73465 min:0 max:16 sd:1.8132\n",
      "\t10: \"feature_18\" NUMERICAL mean:0.469475 min:0 max:13 sd:1.09107\n",
      "\t11: \"feature_19\" NUMERICAL mean:1.56844 min:-2 max:55 sd:4.769\n",
      "\t12: \"feature_2\" NUMERICAL mean:0.114788 min:0 max:6 sd:0.522026\n",
      "\t13: \"feature_20\" NUMERICAL mean:0.24245 min:0 max:17 sd:0.922452\n",
      "\t14: \"feature_21\" NUMERICAL mean:0.658088 min:0 max:36 sd:2.18274\n",
      "\t15: \"feature_22\" NUMERICAL mean:0.184237 min:0 max:4 sd:0.553845\n",
      "\t16: \"feature_23\" NUMERICAL mean:0.3852 min:0 max:19 sd:1.20982\n",
      "\t17: \"feature_24\" NUMERICAL mean:1.04442 min:0 max:34 sd:2.55388\n",
      "\t18: \"feature_25\" NUMERICAL mean:0.404012 min:0 max:23 sd:1.31354\n",
      "\t19: \"feature_26\" NUMERICAL mean:0.3504 min:0 max:21 sd:1.48293\n",
      "\t20: \"feature_27\" NUMERICAL mean:0.30025 min:0 max:31 sd:1.58217\n",
      "\t21: \"feature_28\" NUMERICAL mean:1.10157 min:0 max:23 sd:1.87142\n",
      "\t22: \"feature_29\" NUMERICAL mean:0.168813 min:0 max:13 sd:0.739013\n",
      "\t23: \"feature_3\" NUMERICAL mean:0.5936 min:0 max:26 sd:1.8415\n",
      "\t24: \"feature_30\" NUMERICAL mean:0.296538 min:-1 max:41 sd:1.36416\n",
      "\t25: \"feature_31\" NUMERICAL mean:1.36461 min:-1 max:46 sd:3.30822\n",
      "\t26: \"feature_32\" NUMERICAL mean:0.275725 min:-2 max:26 sd:1.4487\n",
      "\t27: \"feature_33\" NUMERICAL mean:0.61625 min:0 max:24 sd:2.29373\n",
      "\t28: \"feature_34\" NUMERICAL mean:1.12354 min:0 max:25 sd:2.4945\n",
      "\t29: \"feature_35\" NUMERICAL mean:0.915312 min:-2 max:43 sd:2.97898\n",
      "\t30: \"feature_36\" NUMERICAL mean:0.117325 min:0 max:3 sd:0.412595\n",
      "\t31: \"feature_37\" NUMERICAL mean:0.397537 min:0 max:14 sd:1.09281\n",
      "\t32: \"feature_38\" NUMERICAL mean:2.9926 min:-8 max:65 sd:5.364\n",
      "\t33: \"feature_39\" NUMERICAL mean:0.674175 min:-5 max:66 sd:3.72764\n",
      "\t34: \"feature_4\" NUMERICAL mean:0.600812 min:0 max:38 sd:2.79202\n",
      "\t35: \"feature_40\" NUMERICAL mean:0.7139 min:0 max:21 sd:1.7162\n",
      "\t36: \"feature_41\" NUMERICAL mean:0.580825 min:0 max:32 sd:2.00091\n",
      "\t37: \"feature_42\" NUMERICAL mean:0.529475 min:-1 max:37 sd:2.29883\n",
      "\t38: \"feature_43\" NUMERICAL mean:0.616788 min:0 max:33 sd:2.36072\n",
      "\t39: \"feature_44\" NUMERICAL mean:0.135112 min:0 max:9 sd:0.626823\n",
      "\t40: \"feature_45\" NUMERICAL mean:0.357612 min:0 max:26 sd:1.45712\n",
      "\t41: \"feature_46\" NUMERICAL mean:0.523025 min:0 max:29 sd:2.19063\n",
      "\t42: \"feature_47\" NUMERICAL mean:0.389525 min:0 max:25 sd:1.47919\n",
      "\t43: \"feature_48\" NUMERICAL mean:0.975675 min:0 max:44 sd:2.59667\n",
      "\t44: \"feature_49\" NUMERICAL mean:0.55825 min:0 max:20 sd:1.68137\n",
      "\t45: \"feature_5\" NUMERICAL mean:0.160738 min:0 max:10 sd:0.600875\n",
      "\t46: \"feature_6\" NUMERICAL mean:0.7223 min:0 max:27 sd:2.32434\n",
      "\t47: \"feature_7\" NUMERICAL mean:1.23275 min:0 max:31 sd:2.69584\n",
      "\t48: \"feature_8\" NUMERICAL mean:0.909875 min:0 max:39 sd:3.42601\n",
      "\t49: \"feature_9\" NUMERICAL mean:0.941225 min:0 max:17 sd:1.90531\n",
      "\n",
      "CATEGORICAL: 1 (1.96078%)\n",
      "\t50: \"__LABEL\" CATEGORICAL integerized vocab-size:5 no-ood-item\n",
      "\n",
      "Terminology:\n",
      "\tnas: Number of non-available (i.e. missing) values.\n",
      "\tood: Out of dictionary.\n",
      "\tmanually-defined: Attribute which type is manually defined by the user i.e. the type was not automatically inferred.\n",
      "\ttokenized: The attribute value is obtained through tokenization.\n",
      "\thas-dict: The attribute is attached to a string dictionary e.g. a categorical attribute stored as a string.\n",
      "\tvocab-size: Number of unique values.\n",
      "\n",
      "[INFO kernel.cc:762] Configure learner\n",
      "[INFO kernel.cc:787] Training config:\n",
      "learner: \"RANDOM_FOREST\"\n",
      "features: \"feature_0\"\n",
      "features: \"feature_1\"\n",
      "features: \"feature_10\"\n",
      "features: \"feature_11\"\n",
      "features: \"feature_12\"\n",
      "features: \"feature_13\"\n",
      "features: \"feature_14\"\n",
      "features: \"feature_15\"\n",
      "features: \"feature_16\"\n",
      "features: \"feature_17\"\n",
      "features: \"feature_18\"\n",
      "features: \"feature_19\"\n",
      "features: \"feature_2\"\n",
      "features: \"feature_20\"\n",
      "features: \"feature_21\"\n",
      "features: \"feature_22\"\n",
      "features: \"feature_23\"\n",
      "features: \"feature_24\"\n",
      "features: \"feature_25\"\n",
      "features: \"feature_26\"\n",
      "features: \"feature_27\"\n",
      "features: \"feature_28\"\n",
      "features: \"feature_29\"\n",
      "features: \"feature_3\"\n",
      "features: \"feature_30\"\n",
      "features: \"feature_31\"\n",
      "features: \"feature_32\"\n",
      "features: \"feature_33\"\n",
      "features: \"feature_34\"\n",
      "features: \"feature_35\"\n",
      "features: \"feature_36\"\n",
      "features: \"feature_37\"\n",
      "features: \"feature_38\"\n",
      "features: \"feature_39\"\n",
      "features: \"feature_4\"\n",
      "features: \"feature_40\"\n",
      "features: \"feature_41\"\n",
      "features: \"feature_42\"\n",
      "features: \"feature_43\"\n",
      "features: \"feature_44\"\n",
      "features: \"feature_45\"\n",
      "features: \"feature_46\"\n",
      "features: \"feature_47\"\n",
      "features: \"feature_48\"\n",
      "features: \"feature_49\"\n",
      "features: \"feature_5\"\n",
      "features: \"feature_6\"\n",
      "features: \"feature_7\"\n",
      "features: \"feature_8\"\n",
      "features: \"feature_9\"\n",
      "label: \"__LABEL\"\n",
      "task: CLASSIFICATION\n",
      "[yggdrasil_decision_forests.model.random_forest.proto.random_forest_config] {\n",
      "  num_trees: 300\n",
      "  decision_tree {\n",
      "    max_depth: 16\n",
      "    min_examples: 5\n",
      "    in_split_min_examples_check: true\n",
      "    missing_value_policy: GLOBAL_IMPUTATION\n",
      "    allow_na_conditions: false\n",
      "    categorical_set_greedy_forward {\n",
      "      sampling: 0.1\n",
      "      max_num_items: -1\n",
      "      min_item_frequency: 1\n",
      "    }\n",
      "    growing_strategy_local {\n",
      "    }\n",
      "    categorical {\n",
      "      cart {\n",
      "      }\n",
      "    }\n",
      "    num_candidate_attributes_ratio: -1\n",
      "    axis_aligned_split {\n",
      "    }\n",
      "    internal {\n",
      "      sorting_strategy: PRESORTED\n",
      "    }\n",
      "  }\n",
      "  winner_take_all_inference: true\n",
      "  compute_oob_performances: true\n",
      "  compute_oob_variable_importances: false\n",
      "  adapt_bootstrap_size_ratio_for_maximum_training_duration: false\n",
      "}\n",
      "\n",
      "[INFO kernel.cc:790] Deployment config:\n",
      "num_threads: 6\n",
      "\n",
      "[INFO kernel.cc:817] Train model\n",
      "[INFO random_forest.cc:315] Training random forest on 80000 example(s) and 50 feature(s).\n",
      "[INFO random_forest.cc:628] Training of tree  1/300 (tree index:3) done accuracy:0.549048 logloss:16.254\n",
      "[INFO random_forest.cc:628] Training of tree  11/300 (tree index:13) done accuracy:0.56963 logloss:13.5465\n",
      "[INFO random_forest.cc:628] Training of tree  21/300 (tree index:20) done accuracy:0.574865 logloss:12.4216\n",
      "[INFO random_forest.cc:628] Training of tree  31/300 (tree index:30) done accuracy:0.57545 logloss:11.5537\n",
      "[INFO random_forest.cc:628] Training of tree  41/300 (tree index:41) done accuracy:0.575662 logloss:10.8712\n",
      "[INFO random_forest.cc:628] Training of tree  51/300 (tree index:50) done accuracy:0.57565 logloss:10.3228\n",
      "[INFO random_forest.cc:628] Training of tree  61/300 (tree index:61) done accuracy:0.575638 logloss:9.88699\n",
      "[INFO random_forest.cc:628] Training of tree  71/300 (tree index:72) done accuracy:0.5757 logloss:9.4682\n",
      "[INFO random_forest.cc:628] Training of tree  81/300 (tree index:78) done accuracy:0.575675 logloss:9.11907\n",
      "[INFO random_forest.cc:628] Training of tree  91/300 (tree index:90) done accuracy:0.575638 logloss:8.78134\n",
      "[INFO random_forest.cc:628] Training of tree  101/300 (tree index:98) done accuracy:0.575675 logloss:8.52021\n",
      "[INFO random_forest.cc:628] Training of tree  111/300 (tree index:110) done accuracy:0.575625 logloss:8.30159\n",
      "[INFO random_forest.cc:628] Training of tree  121/300 (tree index:121) done accuracy:0.575625 logloss:8.04798\n",
      "[INFO random_forest.cc:628] Training of tree  131/300 (tree index:128) done accuracy:0.575662 logloss:7.85206\n",
      "[INFO random_forest.cc:628] Training of tree  141/300 (tree index:140) done accuracy:0.5756 logloss:7.65844\n",
      "[INFO random_forest.cc:628] Training of tree  151/300 (tree index:151) done accuracy:0.575612 logloss:7.48846\n",
      "[INFO random_forest.cc:628] Training of tree  161/300 (tree index:161) done accuracy:0.5756 logloss:7.31131\n",
      "[INFO random_forest.cc:628] Training of tree  171/300 (tree index:171) done accuracy:0.5756 logloss:7.13583\n",
      "[INFO random_forest.cc:628] Training of tree  181/300 (tree index:178) done accuracy:0.5756 logloss:6.98102\n",
      "[INFO random_forest.cc:628] Training of tree  191/300 (tree index:190) done accuracy:0.5756 logloss:6.84976\n",
      "[INFO random_forest.cc:628] Training of tree  201/300 (tree index:201) done accuracy:0.575588 logloss:6.72898\n",
      "[INFO random_forest.cc:628] Training of tree  211/300 (tree index:209) done accuracy:0.5756 logloss:6.61483\n",
      "[INFO random_forest.cc:628] Training of tree  221/300 (tree index:220) done accuracy:0.575588 logloss:6.50003\n",
      "[INFO random_forest.cc:628] Training of tree  231/300 (tree index:232) done accuracy:0.575575 logloss:6.38596\n",
      "[INFO random_forest.cc:628] Training of tree  241/300 (tree index:238) done accuracy:0.575588 logloss:6.28917\n",
      "[INFO random_forest.cc:628] Training of tree  251/300 (tree index:251) done accuracy:0.575588 logloss:6.19793\n",
      "[INFO random_forest.cc:628] Training of tree  261/300 (tree index:261) done accuracy:0.575588 logloss:6.09519\n",
      "[INFO random_forest.cc:628] Training of tree  271/300 (tree index:268) done accuracy:0.575588 logloss:6.0022\n",
      "[INFO random_forest.cc:628] Training of tree  281/300 (tree index:281) done accuracy:0.575575 logloss:5.92051\n",
      "[INFO random_forest.cc:628] Training of tree  291/300 (tree index:291) done accuracy:0.575575 logloss:5.8357\n",
      "[INFO random_forest.cc:628] Training of tree  300/300 (tree index:299) done accuracy:0.575575 logloss:5.762\n",
      "[INFO random_forest.cc:696] Final OOB metrics: accuracy:0.575575 logloss:5.762\n",
      "[INFO kernel.cc:828] Export model in log directory: /tmp/tmp246b_1e1\n",
      "[INFO kernel.cc:836] Save model in resources\n",
      "[INFO kernel.cc:988] Loading model from path\n"
     ]
    },
    {
     "name": "stdout",
     "output_type": "stream",
     "text": [
      "1250/1250 [==============================] - 48s 34ms/step\n"
     ]
    },
    {
     "name": "stderr",
     "output_type": "stream",
     "text": [
      "[INFO decision_forest.cc:590] Model loaded with 300 root(s), 952038 node(s), and 50 input feature(s).\n",
      "[INFO abstract_model.cc:993] Engine \"RandomForestGeneric\" built\n",
      "[INFO kernel.cc:848] Use fast generic engine\n"
     ]
    },
    {
     "name": "stdout",
     "output_type": "stream",
     "text": [
      "Model training time: 0:01:30.537995 \n",
      "\n"
     ]
    }
   ],
   "source": [
    "# Define the baseline model for benchmarking\n",
    "start_time_module = datetime.now()\n",
    "reset_random()\n",
    "RF_model = tfdf.keras.RandomForestModel(task = tfdf.keras.Task.CLASSIFICATION)\n",
    "RF_model.compile(metrics=DEFAULT_METRICS)\n",
    "\n",
    "# \"sys_pipes\" is optional. It enables the display of the training logs.\n",
    "# with sys_pipes():\n",
    "#     RF_model.fit(x=tfds_train)\n",
    "\n",
    "# Train the model.\n",
    "RF_model.fit(x=tfds_train)\n",
    "print ('Model training time:', (datetime.now() - start_time_module), '\\n')"
   ]
  },
  {
   "cell_type": "code",
   "execution_count": 35,
   "metadata": {
    "colab": {
     "base_uri": "https://localhost:8080/"
    },
    "id": "euAVix08EaDn",
    "outputId": "318b5d2a-3c90-4717-92d3-734c55f8acdc"
   },
   "outputs": [
    {
     "name": "stdout",
     "output_type": "stream",
     "text": [
      "313/313 [==============================] - 3s 8ms/step - loss: 0.0000e+00 - accuracy: 0.5725 - sparse_categorical_crossentropy: 2.5587\n",
      "\n",
      "loss: 0.0000\n",
      "accuracy: 0.5725\n",
      "sparse_categorical_crossentropy: 2.5587\n"
     ]
    }
   ],
   "source": [
    "RF_eval = RF_model.evaluate(tfds_valid, return_dict=True)\n",
    "print()\n",
    "\n",
    "for name, value in RF_eval.items():\n",
    "    print(f\"{name}: {value:.4f}\")"
   ]
  },
  {
   "cell_type": "code",
   "execution_count": 36,
   "metadata": {
    "colab": {
     "base_uri": "https://localhost:8080/",
     "height": 279
    },
    "id": "QWxbO2EXcbEJ",
    "outputId": "dc419e7e-9d65-4d5b-cb67-7ddc263a49f8"
   },
   "outputs": [
    {
     "data": {
      "image/png": "[encoded data removed]",
      "text/plain": [
       "<Figure size 1296x432 with 2 Axes>"
      ]
     },
     "metadata": {
      "needs_background": "light"
     },
     "output_type": "display_data"
    }
   ],
   "source": [
    "logs = RF_model.make_inspector().training_logs()\n",
    "\n",
    "plt.figure(figsize=(18, 6))\n",
    "plt.subplot(1, 2, 1)\n",
    "plt.plot([log.num_trees for log in logs], [log.evaluation.accuracy for log in logs])\n",
    "plt.xlabel(\"Number of trees\")\n",
    "plt.ylabel(\"Accuracy (out-of-bag)\")\n",
    "plt.subplot(1, 2, 2)\n",
    "plt.plot([log.num_trees for log in logs], [log.evaluation.loss for log in logs])\n",
    "plt.xlabel(\"Number of trees\")\n",
    "plt.ylabel(\"Log Loss (out-of-bag)\")\n",
    "plt.show()"
   ]
  },
  {
   "cell_type": "code",
   "execution_count": 37,
   "metadata": {
    "colab": {
     "base_uri": "https://localhost:8080/",
     "height": 404
    },
    "id": "mW_6wwd_kdSH",
    "outputId": "8275ef9a-c23b-4cb5-ba79-e705c78cd593"
   },
   "outputs": [],
   "source": [
    "# Plot the model using Google Colab\n",
    "# tfdf.model_plotter.plot_model_in_colab(RF_model)"
   ]
  },
  {
   "cell_type": "markdown",
   "metadata": {
    "id": "wa3Dfugd1U4P"
   },
   "source": [
    "### 3.c) Train and Evaluate the Decision Trees Model"
   ]
  },
  {
   "cell_type": "code",
   "execution_count": 38,
   "metadata": {
    "colab": {
     "base_uri": "https://localhost:8080/"
    },
    "id": "bDPPbOgPFCBF",
    "outputId": "83cd116d-d49f-4ab2-9147-2f2c45a0548f"
   },
   "outputs": [
    {
     "name": "stdout",
     "output_type": "stream",
     "text": [
      "1238/1250 [============================>.] - ETA: 0s"
     ]
    },
    {
     "name": "stderr",
     "output_type": "stream",
     "text": [
      "[INFO kernel.cc:736] Start Yggdrasil model training\n",
      "[INFO kernel.cc:737] Collect training examples\n",
      "[INFO kernel.cc:392] Number of batches: 1250\n",
      "[INFO kernel.cc:393] Number of examples: 80000\n",
      "[INFO kernel.cc:759] Dataset:\n",
      "Number of records: 80000\n",
      "Number of columns: 51\n",
      "\n",
      "Number of columns by type:\n",
      "\tNUMERICAL: 50 (98.0392%)\n",
      "\tCATEGORICAL: 1 (1.96078%)\n",
      "\n",
      "Columns:\n",
      "\n",
      "NUMERICAL: 50 (98.0392%)\n",
      "\t0: \"feature_0\" NUMERICAL mean:0.257812 min:0 max:10 sd:0.928262\n",
      "\t1: \"feature_1\" NUMERICAL mean:0.42845 min:0 max:31 sd:1.96312\n",
      "\t2: \"feature_10\" NUMERICAL mean:0.312837 min:0 max:15 sd:1.12395\n",
      "\t3: \"feature_11\" NUMERICAL mean:0.405763 min:0 max:12 sd:1.01642\n",
      "\t4: \"feature_12\" NUMERICAL mean:0.460688 min:0 max:11 sd:1.12668\n",
      "\t5: \"feature_13\" NUMERICAL mean:0.0763125 min:0 max:3 sd:0.360644\n",
      "\t6: \"feature_14\" NUMERICAL mean:2.60879 min:0 max:51 sd:4.67293\n",
      "\t7: \"feature_15\" NUMERICAL mean:1.23971 min:0 max:19 sd:2.15601\n",
      "\t8: \"feature_16\" NUMERICAL mean:0.367287 min:0 max:18 sd:1.28267\n",
      "\t9: \"feature_17\" NUMERICAL mean:0.73465 min:0 max:16 sd:1.8132\n",
      "\t10: \"feature_18\" NUMERICAL mean:0.469475 min:0 max:13 sd:1.09107\n",
      "\t11: \"feature_19\" NUMERICAL mean:1.56844 min:-2 max:55 sd:4.769\n",
      "\t12: \"feature_2\" NUMERICAL mean:0.114788 min:0 max:6 sd:0.522026\n",
      "\t13: \"feature_20\" NUMERICAL mean:0.24245 min:0 max:17 sd:0.922452\n",
      "\t14: \"feature_21\" NUMERICAL mean:0.658088 min:0 max:36 sd:2.18274\n",
      "\t15: \"feature_22\" NUMERICAL mean:0.184237 min:0 max:4 sd:0.553845\n",
      "\t16: \"feature_23\" NUMERICAL mean:0.3852 min:0 max:19 sd:1.20982\n",
      "\t17: \"feature_24\" NUMERICAL mean:1.04442 min:0 max:34 sd:2.55388\n",
      "\t18: \"feature_25\" NUMERICAL mean:0.404012 min:0 max:23 sd:1.31354\n",
      "\t19: \"feature_26\" NUMERICAL mean:0.3504 min:0 max:21 sd:1.48293\n",
      "\t20: \"feature_27\" NUMERICAL mean:0.30025 min:0 max:31 sd:1.58217\n",
      "\t21: \"feature_28\" NUMERICAL mean:1.10157 min:0 max:23 sd:1.87142\n",
      "\t22: \"feature_29\" NUMERICAL mean:0.168813 min:0 max:13 sd:0.739013\n",
      "\t23: \"feature_3\" NUMERICAL mean:0.5936 min:0 max:26 sd:1.8415\n",
      "\t24: \"feature_30\" NUMERICAL mean:0.296538 min:-1 max:41 sd:1.36416\n",
      "\t25: \"feature_31\" NUMERICAL mean:1.36461 min:-1 max:46 sd:3.30822\n",
      "\t26: \"feature_32\" NUMERICAL mean:0.275725 min:-2 max:26 sd:1.4487\n",
      "\t27: \"feature_33\" NUMERICAL mean:0.61625 min:0 max:24 sd:2.29373\n",
      "\t28: \"feature_34\" NUMERICAL mean:1.12354 min:0 max:25 sd:2.4945\n",
      "\t29: \"feature_35\" NUMERICAL mean:0.915312 min:-2 max:43 sd:2.97898\n",
      "\t30: \"feature_36\" NUMERICAL mean:0.117325 min:0 max:3 sd:0.412595\n",
      "\t31: \"feature_37\" NUMERICAL mean:0.397537 min:0 max:14 sd:1.09281\n",
      "\t32: \"feature_38\" NUMERICAL mean:2.9926 min:-8 max:65 sd:5.364\n",
      "\t33: \"feature_39\" NUMERICAL mean:0.674175 min:-5 max:66 sd:3.72764\n",
      "\t34: \"feature_4\" NUMERICAL mean:0.600812 min:0 max:38 sd:2.79202\n",
      "\t35: \"feature_40\" NUMERICAL mean:0.7139 min:0 max:21 sd:1.7162\n",
      "\t36: \"feature_41\" NUMERICAL mean:0.580825 min:0 max:32 sd:2.00091\n",
      "\t37: \"feature_42\" NUMERICAL mean:0.529475 min:-1 max:37 sd:2.29883\n",
      "\t38: \"feature_43\" NUMERICAL mean:0.616788 min:0 max:33 sd:2.36072\n",
      "\t39: \"feature_44\" NUMERICAL mean:0.135112 min:0 max:9 sd:0.626823\n",
      "\t40: \"feature_45\" NUMERICAL mean:0.357612 min:0 max:26 sd:1.45712\n",
      "\t41: \"feature_46\" NUMERICAL mean:0.523025 min:0 max:29 sd:2.19063\n",
      "\t42: \"feature_47\" NUMERICAL mean:0.389525 min:0 max:25 sd:1.47919\n",
      "\t43: \"feature_48\" NUMERICAL mean:0.975675 min:0 max:44 sd:2.59667\n",
      "\t44: \"feature_49\" NUMERICAL mean:0.55825 min:0 max:20 sd:1.68137\n",
      "\t45: \"feature_5\" NUMERICAL mean:0.160738 min:0 max:10 sd:0.600875\n",
      "\t46: \"feature_6\" NUMERICAL mean:0.7223 min:0 max:27 sd:2.32434\n",
      "\t47: \"feature_7\" NUMERICAL mean:1.23275 min:0 max:31 sd:2.69584\n",
      "\t48: \"feature_8\" NUMERICAL mean:0.909875 min:0 max:39 sd:3.42601\n",
      "\t49: \"feature_9\" NUMERICAL mean:0.941225 min:0 max:17 sd:1.90531\n",
      "\n",
      "CATEGORICAL: 1 (1.96078%)\n",
      "\t50: \"__LABEL\" CATEGORICAL integerized vocab-size:5 no-ood-item\n",
      "\n",
      "Terminology:\n",
      "\tnas: Number of non-available (i.e. missing) values.\n",
      "\tood: Out of dictionary.\n",
      "\tmanually-defined: Attribute which type is manually defined by the user i.e. the type was not automatically inferred.\n",
      "\ttokenized: The attribute value is obtained through tokenization.\n",
      "\thas-dict: The attribute is attached to a string dictionary e.g. a categorical attribute stored as a string.\n",
      "\tvocab-size: Number of unique values.\n",
      "\n",
      "[INFO kernel.cc:762] Configure learner\n",
      "[INFO kernel.cc:787] Training config:\n",
      "learner: \"CART\"\n",
      "features: \"feature_0\"\n",
      "features: \"feature_1\"\n",
      "features: \"feature_10\"\n",
      "features: \"feature_11\"\n",
      "features: \"feature_12\"\n",
      "features: \"feature_13\"\n",
      "features: \"feature_14\"\n",
      "features: \"feature_15\"\n",
      "features: \"feature_16\"\n",
      "features: \"feature_17\"\n",
      "features: \"feature_18\"\n",
      "features: \"feature_19\"\n",
      "features: \"feature_2\"\n",
      "features: \"feature_20\"\n",
      "features: \"feature_21\"\n",
      "features: \"feature_22\"\n",
      "features: \"feature_23\"\n",
      "features: \"feature_24\"\n",
      "features: \"feature_25\"\n",
      "features: \"feature_26\"\n",
      "features: \"feature_27\"\n",
      "features: \"feature_28\"\n",
      "features: \"feature_29\"\n",
      "features: \"feature_3\"\n",
      "features: \"feature_30\"\n",
      "features: \"feature_31\"\n",
      "features: \"feature_32\"\n",
      "features: \"feature_33\"\n",
      "features: \"feature_34\"\n",
      "features: \"feature_35\"\n",
      "features: \"feature_36\"\n",
      "features: \"feature_37\"\n",
      "features: \"feature_38\"\n",
      "features: \"feature_39\"\n",
      "features: \"feature_4\"\n",
      "features: \"feature_40\"\n",
      "features: \"feature_41\"\n",
      "features: \"feature_42\"\n",
      "features: \"feature_43\"\n",
      "features: \"feature_44\"\n",
      "features: \"feature_45\"\n",
      "features: \"feature_46\"\n",
      "features: \"feature_47\"\n",
      "features: \"feature_48\"\n",
      "features: \"feature_49\"\n",
      "features: \"feature_5\"\n",
      "features: \"feature_6\"\n",
      "features: \"feature_7\"\n",
      "features: \"feature_8\"\n",
      "features: \"feature_9\"\n",
      "label: \"__LABEL\"\n",
      "task: CLASSIFICATION\n",
      "[yggdrasil_decision_forests.model.cart.proto.cart_config] {\n",
      "  decision_tree {\n",
      "    max_depth: 16\n",
      "    min_examples: 5\n",
      "    in_split_min_examples_check: true\n",
      "    missing_value_policy: GLOBAL_IMPUTATION\n",
      "    allow_na_conditions: false\n",
      "    categorical_set_greedy_forward {\n",
      "      sampling: 0.1\n",
      "      max_num_items: -1\n",
      "      min_item_frequency: 1\n",
      "    }\n",
      "    growing_strategy_local {\n",
      "    }\n",
      "    categorical {\n",
      "      cart {\n",
      "      }\n",
      "    }\n",
      "    num_candidate_attributes_ratio: -1\n",
      "    axis_aligned_split {\n",
      "    }\n",
      "    internal {\n",
      "      sorting_strategy: PRESORTED\n",
      "    }\n",
      "  }\n",
      "  validation_ratio: 0.1\n",
      "}\n",
      "\n",
      "[INFO kernel.cc:790] Deployment config:\n",
      "num_threads: 6\n",
      "\n",
      "[INFO kernel.cc:817] Train model\n",
      "[INFO cart.cc:174] Training CART on 80000 example(s) and 50 feature(s).\n"
     ]
    },
    {
     "name": "stdout",
     "output_type": "stream",
     "text": [
      "1250/1250 [==============================] - 7s 5ms/step\n"
     ]
    },
    {
     "name": "stderr",
     "output_type": "stream",
     "text": [
      "[INFO cart.cc:375] 3847 nodes before pruning. 475 nodes after pruning.\n",
      "[INFO kernel.cc:828] Export model in log directory: /tmp/tmprlc88ebv\n",
      "[INFO kernel.cc:836] Save model in resources\n",
      "[INFO kernel.cc:988] Loading model from path\n",
      "[INFO decision_forest.cc:590] Model loaded with 1 root(s), 475 node(s), and 50 input feature(s).\n",
      "[INFO abstract_model.cc:993] Engine \"RandomForestGeneric\" built\n",
      "[INFO kernel.cc:848] Use fast generic engine\n"
     ]
    },
    {
     "name": "stdout",
     "output_type": "stream",
     "text": [
      "Model training time: 0:00:07.616547 \n",
      "\n"
     ]
    }
   ],
   "source": [
    "# Define the baseline model for benchmarking\n",
    "start_time_module = datetime.now()\n",
    "reset_random()\n",
    "CART_model = tfdf.keras.CartModel(task = tfdf.keras.Task.CLASSIFICATION)\n",
    "CART_model.compile(metrics=DEFAULT_METRICS)\n",
    "\n",
    "# \"sys_pipes\" is optional. It enables the display of the training logs.\n",
    "# with sys_pipes():\n",
    "#     CART_model.fit(x=tfds_train)\n",
    "\n",
    "# Train the model.\n",
    "CART_model.fit(x=tfds_train)\n",
    "print ('Model training time:', (datetime.now() - start_time_module), '\\n')"
   ]
  },
  {
   "cell_type": "code",
   "execution_count": 39,
   "metadata": {
    "colab": {
     "base_uri": "https://localhost:8080/"
    },
    "id": "SWVKI95XFPfG",
    "outputId": "6ca847bf-cbbf-4212-d36e-8bda24f3ebe4"
   },
   "outputs": [
    {
     "name": "stdout",
     "output_type": "stream",
     "text": [
      "313/313 [==============================] - 2s 5ms/step - loss: 0.0000e+00 - accuracy: 0.5684 - sparse_categorical_crossentropy: 1.8730\n",
      "\n",
      "loss: 0.0000\n",
      "accuracy: 0.5684\n",
      "sparse_categorical_crossentropy: 1.8730\n"
     ]
    }
   ],
   "source": [
    "CART_eval = CART_model.evaluate(tfds_valid, return_dict=True)\n",
    "print()\n",
    "\n",
    "for name, value in CART_eval.items():\n",
    "    print(f\"{name}: {value:.4f}\")"
   ]
  },
  {
   "cell_type": "code",
   "execution_count": 40,
   "metadata": {
    "colab": {
     "base_uri": "https://localhost:8080/",
     "height": 74
    },
    "id": "k0ZLkM_HgrKH",
    "outputId": "fd98cf5a-7150-45c6-954e-5db7adac84b2"
   },
   "outputs": [],
   "source": [
    "# Plot the model using Google Colab\n",
    "# tfdf.model_plotter.plot_model_in_colab(CART_model)"
   ]
  },
  {
   "cell_type": "markdown",
   "metadata": {
    "id": "zVCQJVv21m86"
   },
   "source": [
    "### 3.d) Train and Evaluate the Gradient Boosted Trees Model"
   ]
  },
  {
   "cell_type": "code",
   "execution_count": 41,
   "metadata": {
    "colab": {
     "base_uri": "https://localhost:8080/"
    },
    "id": "ogW3JeatFDRS",
    "outputId": "306052c2-75dc-4e38-e7e4-5f578f5df113"
   },
   "outputs": [
    {
     "name": "stdout",
     "output_type": "stream",
     "text": [
      "1249/1250 [============================>.] - ETA: 0s"
     ]
    },
    {
     "name": "stderr",
     "output_type": "stream",
     "text": [
      "[INFO kernel.cc:736] Start Yggdrasil model training\n",
      "[INFO kernel.cc:737] Collect training examples\n",
      "[INFO kernel.cc:392] Number of batches: 1250\n",
      "[INFO kernel.cc:393] Number of examples: 80000\n",
      "[INFO kernel.cc:759] Dataset:\n",
      "Number of records: 80000\n",
      "Number of columns: 51\n",
      "\n",
      "Number of columns by type:\n",
      "\tNUMERICAL: 50 (98.0392%)\n",
      "\tCATEGORICAL: 1 (1.96078%)\n",
      "\n",
      "Columns:\n",
      "\n",
      "NUMERICAL: 50 (98.0392%)\n",
      "\t0: \"feature_0\" NUMERICAL mean:0.257812 min:0 max:10 sd:0.928262\n",
      "\t1: \"feature_1\" NUMERICAL mean:0.42845 min:0 max:31 sd:1.96312\n",
      "\t2: \"feature_10\" NUMERICAL mean:0.312837 min:0 max:15 sd:1.12395\n",
      "\t3: \"feature_11\" NUMERICAL mean:0.405763 min:0 max:12 sd:1.01642\n",
      "\t4: \"feature_12\" NUMERICAL mean:0.460688 min:0 max:11 sd:1.12668\n",
      "\t5: \"feature_13\" NUMERICAL mean:0.0763125 min:0 max:3 sd:0.360644\n",
      "\t6: \"feature_14\" NUMERICAL mean:2.60879 min:0 max:51 sd:4.67293\n",
      "\t7: \"feature_15\" NUMERICAL mean:1.23971 min:0 max:19 sd:2.15601\n",
      "\t8: \"feature_16\" NUMERICAL mean:0.367287 min:0 max:18 sd:1.28267\n",
      "\t9: \"feature_17\" NUMERICAL mean:0.73465 min:0 max:16 sd:1.8132\n",
      "\t10: \"feature_18\" NUMERICAL mean:0.469475 min:0 max:13 sd:1.09107\n",
      "\t11: \"feature_19\" NUMERICAL mean:1.56844 min:-2 max:55 sd:4.769\n",
      "\t12: \"feature_2\" NUMERICAL mean:0.114788 min:0 max:6 sd:0.522026\n",
      "\t13: \"feature_20\" NUMERICAL mean:0.24245 min:0 max:17 sd:0.922452\n",
      "\t14: \"feature_21\" NUMERICAL mean:0.658088 min:0 max:36 sd:2.18274\n",
      "\t15: \"feature_22\" NUMERICAL mean:0.184237 min:0 max:4 sd:0.553845\n",
      "\t16: \"feature_23\" NUMERICAL mean:0.3852 min:0 max:19 sd:1.20982\n",
      "\t17: \"feature_24\" NUMERICAL mean:1.04442 min:0 max:34 sd:2.55388\n",
      "\t18: \"feature_25\" NUMERICAL mean:0.404012 min:0 max:23 sd:1.31354\n",
      "\t19: \"feature_26\" NUMERICAL mean:0.3504 min:0 max:21 sd:1.48293\n",
      "\t20: \"feature_27\" NUMERICAL mean:0.30025 min:0 max:31 sd:1.58217\n",
      "\t21: \"feature_28\" NUMERICAL mean:1.10157 min:0 max:23 sd:1.87142\n",
      "\t22: \"feature_29\" NUMERICAL mean:0.168813 min:0 max:13 sd:0.739013\n",
      "\t23: \"feature_3\" NUMERICAL mean:0.5936 min:0 max:26 sd:1.8415\n",
      "\t24: \"feature_30\" NUMERICAL mean:0.296538 min:-1 max:41 sd:1.36416\n",
      "\t25: \"feature_31\" NUMERICAL mean:1.36461 min:-1 max:46 sd:3.30822\n",
      "\t26: \"feature_32\" NUMERICAL mean:0.275725 min:-2 max:26 sd:1.4487\n",
      "\t27: \"feature_33\" NUMERICAL mean:0.61625 min:0 max:24 sd:2.29373\n",
      "\t28: \"feature_34\" NUMERICAL mean:1.12354 min:0 max:25 sd:2.4945\n",
      "\t29: \"feature_35\" NUMERICAL mean:0.915312 min:-2 max:43 sd:2.97898\n",
      "\t30: \"feature_36\" NUMERICAL mean:0.117325 min:0 max:3 sd:0.412595\n",
      "\t31: \"feature_37\" NUMERICAL mean:0.397537 min:0 max:14 sd:1.09281\n",
      "\t32: \"feature_38\" NUMERICAL mean:2.9926 min:-8 max:65 sd:5.364\n",
      "\t33: \"feature_39\" NUMERICAL mean:0.674175 min:-5 max:66 sd:3.72764\n",
      "\t34: \"feature_4\" NUMERICAL mean:0.600812 min:0 max:38 sd:2.79202\n",
      "\t35: \"feature_40\" NUMERICAL mean:0.7139 min:0 max:21 sd:1.7162\n",
      "\t36: \"feature_41\" NUMERICAL mean:0.580825 min:0 max:32 sd:2.00091\n",
      "\t37: \"feature_42\" NUMERICAL mean:0.529475 min:-1 max:37 sd:2.29883\n",
      "\t38: \"feature_43\" NUMERICAL mean:0.616788 min:0 max:33 sd:2.36072\n",
      "\t39: \"feature_44\" NUMERICAL mean:0.135112 min:0 max:9 sd:0.626823\n",
      "\t40: \"feature_45\" NUMERICAL mean:0.357612 min:0 max:26 sd:1.45712\n",
      "\t41: \"feature_46\" NUMERICAL mean:0.523025 min:0 max:29 sd:2.19063\n",
      "\t42: \"feature_47\" NUMERICAL mean:0.389525 min:0 max:25 sd:1.47919\n",
      "\t43: \"feature_48\" NUMERICAL mean:0.975675 min:0 max:44 sd:2.59667\n",
      "\t44: \"feature_49\" NUMERICAL mean:0.55825 min:0 max:20 sd:1.68137\n",
      "\t45: \"feature_5\" NUMERICAL mean:0.160738 min:0 max:10 sd:0.600875\n",
      "\t46: \"feature_6\" NUMERICAL mean:0.7223 min:0 max:27 sd:2.32434\n",
      "\t47: \"feature_7\" NUMERICAL mean:1.23275 min:0 max:31 sd:2.69584\n",
      "\t48: \"feature_8\" NUMERICAL mean:0.909875 min:0 max:39 sd:3.42601\n",
      "\t49: \"feature_9\" NUMERICAL mean:0.941225 min:0 max:17 sd:1.90531\n",
      "\n",
      "CATEGORICAL: 1 (1.96078%)\n",
      "\t50: \"__LABEL\" CATEGORICAL integerized vocab-size:5 no-ood-item\n",
      "\n",
      "Terminology:\n",
      "\tnas: Number of non-available (i.e. missing) values.\n",
      "\tood: Out of dictionary.\n",
      "\tmanually-defined: Attribute which type is manually defined by the user i.e. the type was not automatically inferred.\n",
      "\ttokenized: The attribute value is obtained through tokenization.\n",
      "\thas-dict: The attribute is attached to a string dictionary e.g. a categorical attribute stored as a string.\n",
      "\tvocab-size: Number of unique values.\n",
      "\n",
      "[INFO kernel.cc:762] Configure learner\n",
      "[WARNING gradient_boosted_trees.cc:1643] Subsample hyperparameter given but sampling method does not match.\n",
      "[WARNING gradient_boosted_trees.cc:1656] GOSS alpha hyperparameter given but GOSS is disabled.\n",
      "[WARNING gradient_boosted_trees.cc:1665] GOSS beta hyperparameter given but GOSS is disabled.\n",
      "[WARNING gradient_boosted_trees.cc:1677] SelGB ratio hyperparameter given but SelGB is disabled.\n",
      "[INFO kernel.cc:787] Training config:\n",
      "learner: \"GRADIENT_BOOSTED_TREES\"\n",
      "features: \"feature_0\"\n",
      "features: \"feature_1\"\n",
      "features: \"feature_10\"\n",
      "features: \"feature_11\"\n",
      "features: \"feature_12\"\n",
      "features: \"feature_13\"\n",
      "features: \"feature_14\"\n",
      "features: \"feature_15\"\n",
      "features: \"feature_16\"\n",
      "features: \"feature_17\"\n",
      "features: \"feature_18\"\n",
      "features: \"feature_19\"\n",
      "features: \"feature_2\"\n",
      "features: \"feature_20\"\n",
      "features: \"feature_21\"\n",
      "features: \"feature_22\"\n",
      "features: \"feature_23\"\n",
      "features: \"feature_24\"\n",
      "features: \"feature_25\"\n",
      "features: \"feature_26\"\n",
      "features: \"feature_27\"\n",
      "features: \"feature_28\"\n",
      "features: \"feature_29\"\n",
      "features: \"feature_3\"\n",
      "features: \"feature_30\"\n",
      "features: \"feature_31\"\n",
      "features: \"feature_32\"\n",
      "features: \"feature_33\"\n",
      "features: \"feature_34\"\n",
      "features: \"feature_35\"\n",
      "features: \"feature_36\"\n",
      "features: \"feature_37\"\n",
      "features: \"feature_38\"\n",
      "features: \"feature_39\"\n",
      "features: \"feature_4\"\n",
      "features: \"feature_40\"\n",
      "features: \"feature_41\"\n",
      "features: \"feature_42\"\n",
      "features: \"feature_43\"\n",
      "features: \"feature_44\"\n",
      "features: \"feature_45\"\n",
      "features: \"feature_46\"\n",
      "features: \"feature_47\"\n",
      "features: \"feature_48\"\n",
      "features: \"feature_49\"\n",
      "features: \"feature_5\"\n",
      "features: \"feature_6\"\n",
      "features: \"feature_7\"\n",
      "features: \"feature_8\"\n",
      "features: \"feature_9\"\n",
      "label: \"__LABEL\"\n",
      "task: CLASSIFICATION\n",
      "[yggdrasil_decision_forests.model.gradient_boosted_trees.proto.gradient_boosted_trees_config] {\n",
      "  num_trees: 300\n",
      "  decision_tree {\n",
      "    max_depth: 6\n",
      "    min_examples: 5\n",
      "    in_split_min_examples_check: true\n",
      "    missing_value_policy: GLOBAL_IMPUTATION\n",
      "    allow_na_conditions: false\n",
      "    categorical_set_greedy_forward {\n",
      "      sampling: 0.1\n",
      "      max_num_items: -1\n",
      "      min_item_frequency: 1\n",
      "    }\n",
      "    growing_strategy_local {\n",
      "    }\n",
      "    categorical {\n",
      "      cart {\n",
      "      }\n",
      "    }\n",
      "    num_candidate_attributes_ratio: -1\n",
      "    axis_aligned_split {\n",
      "    }\n",
      "    internal {\n",
      "      sorting_strategy: PRESORTED\n",
      "    }\n",
      "  }\n",
      "  shrinkage: 0.1\n",
      "  validation_set_ratio: 0.1\n",
      "  early_stopping: VALIDATION_LOSS_INCREASE\n",
      "  early_stopping_num_trees_look_ahead: 30\n",
      "  l2_regularization: 0\n",
      "  lambda_loss: 1\n",
      "  mart {\n",
      "  }\n",
      "  adapt_subsample_for_maximum_training_duration: false\n",
      "  l1_regularization: 0\n",
      "  use_hessian_gain: false\n",
      "  l2_regularization_categorical: 1\n",
      "  apply_link_function: true\n",
      "  compute_permutation_variable_importance: false\n",
      "}\n",
      "\n",
      "[INFO kernel.cc:790] Deployment config:\n",
      "num_threads: 6\n",
      "\n",
      "[INFO kernel.cc:817] Train model\n",
      "[INFO gradient_boosted_trees.cc:404] Default loss set to MULTINOMIAL_LOG_LIKELIHOOD\n",
      "[INFO gradient_boosted_trees.cc:1001] Training gradient boosted tree on 80000 example(s) and 50 feature(s).\n",
      "[INFO gradient_boosted_trees.cc:1044] 72018 examples used for training and 7982 examples used for validation\n",
      "[INFO gradient_boosted_trees.cc:1426] \tnum-trees:1 train-loss:1.327071 train-accuracy:0.576731 valid-loss:1.328433 valid-accuracy:0.570534\n",
      "[INFO gradient_boosted_trees.cc:1428] \tnum-trees:2 train-loss:1.281466 train-accuracy:0.577161 valid-loss:1.283947 valid-accuracy:0.571661\n",
      "[INFO gradient_boosted_trees.cc:1428] \tnum-trees:73 train-loss:1.055223 train-accuracy:0.585590 valid-loss:1.100610 valid-accuracy:0.574919\n"
     ]
    },
    {
     "name": "stdout",
     "output_type": "stream",
     "text": [
      "1250/1250 [==============================] - 58s 46ms/step\n"
     ]
    },
    {
     "name": "stderr",
     "output_type": "stream",
     "text": [
      "[INFO gradient_boosted_trees.cc:2740] Early stop of the training because the validation loss does not decrease anymore. Best valid-loss: 1.09967\n",
      "[INFO gradient_boosted_trees.cc:229] Truncates the model to 464 tree(s) i.e. 116  iteration(s).\n",
      "[INFO gradient_boosted_trees.cc:263] Final model num-trees:116 valid-loss:1.099665 valid-accuracy:0.575169\n",
      "[INFO kernel.cc:828] Export model in log directory: /tmp/tmpqb6nq7as\n",
      "[INFO kernel.cc:836] Save model in resources\n",
      "[INFO kernel.cc:988] Loading model from path\n",
      "[INFO decision_forest.cc:590] Model loaded with 464 root(s), 22584 node(s), and 50 input feature(s).\n",
      "[INFO abstract_model.cc:993] Engine \"GradientBoostedTreesGeneric\" built\n",
      "[INFO kernel.cc:848] Use fast generic engine\n"
     ]
    },
    {
     "name": "stdout",
     "output_type": "stream",
     "text": [
      "Model training time: 0:01:22.899024 \n",
      "\n"
     ]
    }
   ],
   "source": [
    "# Define the baseline model for benchmarking\n",
    "start_time_module = datetime.now()\n",
    "reset_random()\n",
    "GBT_model = tfdf.keras.GradientBoostedTreesModel(task = tfdf.keras.Task.CLASSIFICATION)\n",
    "GBT_model.compile(metrics=DEFAULT_METRICS)\n",
    "\n",
    "# \"sys_pipes\" is optional. It enables the display of the training logs.\n",
    "# with sys_pipes():\n",
    "#     GBT_model.fit(x=tfds_train)\n",
    "\n",
    "# Train the model.\n",
    "GBT_model.fit(x=tfds_train)\n",
    "print ('Model training time:', (datetime.now() - start_time_module), '\\n')"
   ]
  },
  {
   "cell_type": "code",
   "execution_count": 42,
   "metadata": {
    "colab": {
     "base_uri": "https://localhost:8080/"
    },
    "id": "zTUNrgNrFYWB",
    "outputId": "19baf976-7519-4b18-fd16-6d846aad21f4"
   },
   "outputs": [
    {
     "name": "stdout",
     "output_type": "stream",
     "text": [
      "313/313 [==============================] - 2s 7ms/step - loss: 0.0000e+00 - accuracy: 0.5762 - sparse_categorical_crossentropy: 1.6147\n",
      "\n",
      "loss: 0.0000\n",
      "accuracy: 0.5762\n",
      "sparse_categorical_crossentropy: 1.6147\n"
     ]
    }
   ],
   "source": [
    "GBT_eval = GBT_model.evaluate(tfds_valid, return_dict=True)\n",
    "print()\n",
    "\n",
    "for name, value in GBT_eval.items():\n",
    "    print(f\"{name}: {value:.4f}\")"
   ]
  },
  {
   "cell_type": "code",
   "execution_count": 43,
   "metadata": {
    "colab": {
     "base_uri": "https://localhost:8080/",
     "height": 279
    },
    "id": "e0K_RY-tkUDo",
    "outputId": "53222f5e-ab04-46ca-eeff-0f3b37e44057"
   },
   "outputs": [
    {
     "data": {
      "image/png": "[encoded data removed]",
      "text/plain": [
       "<Figure size 1296x432 with 2 Axes>"
      ]
     },
     "metadata": {
      "needs_background": "light"
     },
     "output_type": "display_data"
    }
   ],
   "source": [
    "logs = GBT_model.make_inspector().training_logs()\n",
    "\n",
    "plt.figure(figsize=(18, 6))\n",
    "plt.subplot(1, 2, 1)\n",
    "plt.plot([log.num_trees for log in logs], [log.evaluation.accuracy for log in logs])\n",
    "plt.xlabel(\"Number of trees\")\n",
    "plt.ylabel(\"Accuracy (out-of-bag)\")\n",
    "plt.subplot(1, 2, 2)\n",
    "plt.plot([log.num_trees for log in logs], [log.evaluation.loss for log in logs])\n",
    "plt.xlabel(\"Number of trees\")\n",
    "plt.ylabel(\"Log Loss (out-of-bag)\")\n",
    "plt.show()"
   ]
  },
  {
   "cell_type": "code",
   "execution_count": 44,
   "metadata": {
    "colab": {
     "base_uri": "https://localhost:8080/",
     "height": 404
    },
    "id": "tEWLGqQvkkon",
    "outputId": "1108ebd0-a281-40ea-e5dd-6b1a4f1a26b2"
   },
   "outputs": [],
   "source": [
    "# Plot the model using Google Colab\n",
    "# tfdf.model_plotter.plot_model_in_colab(GBT_model)"
   ]
  },
  {
   "cell_type": "code",
   "execution_count": 45,
   "metadata": {
    "collapsed": false,
    "id": "g2ZPK8-5wXjU",
    "jupyter": {
     "outputs_hidden": false
    },
    "pycharm": {
     "name": "#%%\n"
    }
   },
   "outputs": [],
   "source": [
    "if NOTIFY_STATUS: status_notify(\"Task 4 - Train and Evaluate Models completed! \"+datetime.now().strftime('%a %B %d, %Y %I:%M:%S %p'))"
   ]
  },
  {
   "cell_type": "markdown",
   "metadata": {
    "id": "ISyQ5uNrwXjU"
   },
   "source": [
    "## Task 4 - Fine-tune and Improve Models"
   ]
  },
  {
   "cell_type": "code",
   "execution_count": 46,
   "metadata": {
    "id": "l3AulRWbzzOz"
   },
   "outputs": [],
   "source": [
    "if NOTIFY_STATUS: status_notify(\"Task 4 - Fine-tune and Improve Models has begun! \"+datetime.now().strftime('%a %B %d, %Y %I:%M:%S %p'))"
   ]
  },
  {
   "cell_type": "code",
   "execution_count": 47,
   "metadata": {
    "colab": {
     "base_uri": "https://localhost:8080/"
    },
    "id": "vlCLtsxjzQ2V",
    "outputId": "d9f88304-2cb0-45f6-9d9b-81bb1be7d1c7"
   },
   "outputs": [
    {
     "name": "stdout",
     "output_type": "stream",
     "text": [
      "1245/1250 [============================>.] - ETA: 0s"
     ]
    },
    {
     "name": "stderr",
     "output_type": "stream",
     "text": [
      "[INFO kernel.cc:736] Start Yggdrasil model training\n",
      "[INFO kernel.cc:737] Collect training examples\n",
      "[INFO kernel.cc:392] Number of batches: 1250\n",
      "[INFO kernel.cc:393] Number of examples: 80000\n",
      "[INFO kernel.cc:759] Dataset:\n",
      "Number of records: 80000\n",
      "Number of columns: 51\n",
      "\n",
      "Number of columns by type:\n",
      "\tNUMERICAL: 50 (98.0392%)\n",
      "\tCATEGORICAL: 1 (1.96078%)\n",
      "\n",
      "Columns:\n",
      "\n",
      "NUMERICAL: 50 (98.0392%)\n",
      "\t0: \"feature_0\" NUMERICAL mean:0.257812 min:0 max:10 sd:0.928262\n",
      "\t1: \"feature_1\" NUMERICAL mean:0.42845 min:0 max:31 sd:1.96312\n",
      "\t2: \"feature_10\" NUMERICAL mean:0.312837 min:0 max:15 sd:1.12395\n",
      "\t3: \"feature_11\" NUMERICAL mean:0.405763 min:0 max:12 sd:1.01642\n",
      "\t4: \"feature_12\" NUMERICAL mean:0.460688 min:0 max:11 sd:1.12668\n",
      "\t5: \"feature_13\" NUMERICAL mean:0.0763125 min:0 max:3 sd:0.360644\n",
      "\t6: \"feature_14\" NUMERICAL mean:2.60879 min:0 max:51 sd:4.67293\n",
      "\t7: \"feature_15\" NUMERICAL mean:1.23971 min:0 max:19 sd:2.15601\n",
      "\t8: \"feature_16\" NUMERICAL mean:0.367287 min:0 max:18 sd:1.28267\n",
      "\t9: \"feature_17\" NUMERICAL mean:0.73465 min:0 max:16 sd:1.8132\n",
      "\t10: \"feature_18\" NUMERICAL mean:0.469475 min:0 max:13 sd:1.09107\n",
      "\t11: \"feature_19\" NUMERICAL mean:1.56844 min:-2 max:55 sd:4.769\n",
      "\t12: \"feature_2\" NUMERICAL mean:0.114788 min:0 max:6 sd:0.522026\n",
      "\t13: \"feature_20\" NUMERICAL mean:0.24245 min:0 max:17 sd:0.922452\n",
      "\t14: \"feature_21\" NUMERICAL mean:0.658088 min:0 max:36 sd:2.18274\n",
      "\t15: \"feature_22\" NUMERICAL mean:0.184237 min:0 max:4 sd:0.553845\n",
      "\t16: \"feature_23\" NUMERICAL mean:0.3852 min:0 max:19 sd:1.20982\n",
      "\t17: \"feature_24\" NUMERICAL mean:1.04442 min:0 max:34 sd:2.55388\n",
      "\t18: \"feature_25\" NUMERICAL mean:0.404012 min:0 max:23 sd:1.31354\n",
      "\t19: \"feature_26\" NUMERICAL mean:0.3504 min:0 max:21 sd:1.48293\n",
      "\t20: \"feature_27\" NUMERICAL mean:0.30025 min:0 max:31 sd:1.58217\n",
      "\t21: \"feature_28\" NUMERICAL mean:1.10157 min:0 max:23 sd:1.87142\n",
      "\t22: \"feature_29\" NUMERICAL mean:0.168813 min:0 max:13 sd:0.739013\n",
      "\t23: \"feature_3\" NUMERICAL mean:0.5936 min:0 max:26 sd:1.8415\n",
      "\t24: \"feature_30\" NUMERICAL mean:0.296538 min:-1 max:41 sd:1.36416\n",
      "\t25: \"feature_31\" NUMERICAL mean:1.36461 min:-1 max:46 sd:3.30822\n",
      "\t26: \"feature_32\" NUMERICAL mean:0.275725 min:-2 max:26 sd:1.4487\n",
      "\t27: \"feature_33\" NUMERICAL mean:0.61625 min:0 max:24 sd:2.29373\n",
      "\t28: \"feature_34\" NUMERICAL mean:1.12354 min:0 max:25 sd:2.4945\n",
      "\t29: \"feature_35\" NUMERICAL mean:0.915312 min:-2 max:43 sd:2.97898\n",
      "\t30: \"feature_36\" NUMERICAL mean:0.117325 min:0 max:3 sd:0.412595\n",
      "\t31: \"feature_37\" NUMERICAL mean:0.397537 min:0 max:14 sd:1.09281\n",
      "\t32: \"feature_38\" NUMERICAL mean:2.9926 min:-8 max:65 sd:5.364\n",
      "\t33: \"feature_39\" NUMERICAL mean:0.674175 min:-5 max:66 sd:3.72764\n",
      "\t34: \"feature_4\" NUMERICAL mean:0.600812 min:0 max:38 sd:2.79202\n",
      "\t35: \"feature_40\" NUMERICAL mean:0.7139 min:0 max:21 sd:1.7162\n",
      "\t36: \"feature_41\" NUMERICAL mean:0.580825 min:0 max:32 sd:2.00091\n",
      "\t37: \"feature_42\" NUMERICAL mean:0.529475 min:-1 max:37 sd:2.29883\n",
      "\t38: \"feature_43\" NUMERICAL mean:0.616788 min:0 max:33 sd:2.36072\n",
      "\t39: \"feature_44\" NUMERICAL mean:0.135112 min:0 max:9 sd:0.626823\n",
      "\t40: \"feature_45\" NUMERICAL mean:0.357612 min:0 max:26 sd:1.45712\n",
      "\t41: \"feature_46\" NUMERICAL mean:0.523025 min:0 max:29 sd:2.19063\n",
      "\t42: \"feature_47\" NUMERICAL mean:0.389525 min:0 max:25 sd:1.47919\n",
      "\t43: \"feature_48\" NUMERICAL mean:0.975675 min:0 max:44 sd:2.59667\n",
      "\t44: \"feature_49\" NUMERICAL mean:0.55825 min:0 max:20 sd:1.68137\n",
      "\t45: \"feature_5\" NUMERICAL mean:0.160738 min:0 max:10 sd:0.600875\n",
      "\t46: \"feature_6\" NUMERICAL mean:0.7223 min:0 max:27 sd:2.32434\n",
      "\t47: \"feature_7\" NUMERICAL mean:1.23275 min:0 max:31 sd:2.69584\n",
      "\t48: \"feature_8\" NUMERICAL mean:0.909875 min:0 max:39 sd:3.42601\n",
      "\t49: \"feature_9\" NUMERICAL mean:0.941225 min:0 max:17 sd:1.90531\n",
      "\n",
      "CATEGORICAL: 1 (1.96078%)\n",
      "\t50: \"__LABEL\" CATEGORICAL integerized vocab-size:5 no-ood-item\n",
      "\n",
      "Terminology:\n",
      "\tnas: Number of non-available (i.e. missing) values.\n",
      "\tood: Out of dictionary.\n",
      "\tmanually-defined: Attribute which type is manually defined by the user i.e. the type was not automatically inferred.\n",
      "\ttokenized: The attribute value is obtained through tokenization.\n",
      "\thas-dict: The attribute is attached to a string dictionary e.g. a categorical attribute stored as a string.\n",
      "\tvocab-size: Number of unique values.\n",
      "\n",
      "[INFO kernel.cc:762] Configure learner\n",
      "[WARNING gradient_boosted_trees.cc:1643] Subsample hyperparameter given but sampling method does not match.\n",
      "[WARNING gradient_boosted_trees.cc:1656] GOSS alpha hyperparameter given but GOSS is disabled.\n",
      "[WARNING gradient_boosted_trees.cc:1665] GOSS beta hyperparameter given but GOSS is disabled.\n",
      "[WARNING gradient_boosted_trees.cc:1677] SelGB ratio hyperparameter given but SelGB is disabled.\n",
      "[INFO kernel.cc:787] Training config:\n",
      "learner: \"GRADIENT_BOOSTED_TREES\"\n",
      "features: \"feature_0\"\n",
      "features: \"feature_1\"\n",
      "features: \"feature_10\"\n",
      "features: \"feature_11\"\n",
      "features: \"feature_12\"\n",
      "features: \"feature_13\"\n",
      "features: \"feature_14\"\n",
      "features: \"feature_15\"\n",
      "features: \"feature_16\"\n",
      "features: \"feature_17\"\n",
      "features: \"feature_18\"\n",
      "features: \"feature_19\"\n",
      "features: \"feature_2\"\n",
      "features: \"feature_20\"\n",
      "features: \"feature_21\"\n",
      "features: \"feature_22\"\n",
      "features: \"feature_23\"\n",
      "features: \"feature_24\"\n",
      "features: \"feature_25\"\n",
      "features: \"feature_26\"\n",
      "features: \"feature_27\"\n",
      "features: \"feature_28\"\n",
      "features: \"feature_29\"\n",
      "features: \"feature_3\"\n",
      "features: \"feature_30\"\n",
      "features: \"feature_31\"\n",
      "features: \"feature_32\"\n",
      "features: \"feature_33\"\n",
      "features: \"feature_34\"\n",
      "features: \"feature_35\"\n",
      "features: \"feature_36\"\n",
      "features: \"feature_37\"\n",
      "features: \"feature_38\"\n",
      "features: \"feature_39\"\n",
      "features: \"feature_4\"\n",
      "features: \"feature_40\"\n",
      "features: \"feature_41\"\n",
      "features: \"feature_42\"\n",
      "features: \"feature_43\"\n",
      "features: \"feature_44\"\n",
      "features: \"feature_45\"\n",
      "features: \"feature_46\"\n",
      "features: \"feature_47\"\n",
      "features: \"feature_48\"\n",
      "features: \"feature_49\"\n",
      "features: \"feature_5\"\n",
      "features: \"feature_6\"\n",
      "features: \"feature_7\"\n",
      "features: \"feature_8\"\n",
      "features: \"feature_9\"\n",
      "label: \"__LABEL\"\n",
      "task: CLASSIFICATION\n",
      "[yggdrasil_decision_forests.model.gradient_boosted_trees.proto.gradient_boosted_trees_config] {\n",
      "  num_trees: 300\n",
      "  decision_tree {\n",
      "    max_depth: 6\n",
      "    min_examples: 5\n",
      "    in_split_min_examples_check: true\n",
      "    missing_value_policy: GLOBAL_IMPUTATION\n",
      "    allow_na_conditions: false\n",
      "    categorical_set_greedy_forward {\n",
      "      sampling: 0.1\n",
      "      max_num_items: -1\n",
      "      min_item_frequency: 1\n",
      "    }\n",
      "    growing_strategy_local {\n",
      "    }\n",
      "    categorical {\n",
      "      cart {\n",
      "      }\n",
      "    }\n",
      "    num_candidate_attributes_ratio: -1\n",
      "    axis_aligned_split {\n",
      "    }\n",
      "    internal {\n",
      "      sorting_strategy: PRESORTED\n",
      "    }\n",
      "  }\n",
      "  shrinkage: 0.1\n",
      "  validation_set_ratio: 0.1\n",
      "  early_stopping: VALIDATION_LOSS_INCREASE\n",
      "  early_stopping_num_trees_look_ahead: 30\n",
      "  l2_regularization: 0\n",
      "  lambda_loss: 1\n",
      "  mart {\n",
      "  }\n",
      "  adapt_subsample_for_maximum_training_duration: false\n",
      "  l1_regularization: 0\n",
      "  use_hessian_gain: false\n",
      "  l2_regularization_categorical: 1\n",
      "  apply_link_function: true\n",
      "  compute_permutation_variable_importance: false\n",
      "}\n",
      "\n",
      "[INFO kernel.cc:790] Deployment config:\n",
      "num_threads: 6\n",
      "\n",
      "[INFO kernel.cc:817] Train model\n",
      "[INFO gradient_boosted_trees.cc:404] Default loss set to MULTINOMIAL_LOG_LIKELIHOOD\n",
      "[INFO gradient_boosted_trees.cc:1001] Training gradient boosted tree on 80000 example(s) and 50 feature(s).\n",
      "[INFO gradient_boosted_trees.cc:1044] 72018 examples used for training and 7982 examples used for validation\n",
      "[INFO gradient_boosted_trees.cc:1426] \tnum-trees:1 train-loss:1.327071 train-accuracy:0.576731 valid-loss:1.328433 valid-accuracy:0.570534\n",
      "[INFO gradient_boosted_trees.cc:1428] \tnum-trees:2 train-loss:1.281466 train-accuracy:0.577161 valid-loss:1.283947 valid-accuracy:0.571661\n",
      "[INFO gradient_boosted_trees.cc:1428] \tnum-trees:72 train-loss:1.055720 train-accuracy:0.585479 valid-loss:1.100695 valid-accuracy:0.575044\n"
     ]
    },
    {
     "name": "stdout",
     "output_type": "stream",
     "text": [
      "1250/1250 [==============================] - 59s 47ms/step\n"
     ]
    },
    {
     "name": "stderr",
     "output_type": "stream",
     "text": [
      "[INFO gradient_boosted_trees.cc:2740] Early stop of the training because the validation loss does not decrease anymore. Best valid-loss: 1.09967\n",
      "[INFO gradient_boosted_trees.cc:229] Truncates the model to 464 tree(s) i.e. 116  iteration(s).\n",
      "[INFO gradient_boosted_trees.cc:263] Final model num-trees:116 valid-loss:1.099665 valid-accuracy:0.575169\n",
      "[INFO kernel.cc:828] Export model in log directory: /tmp/tmpjwloe_3d\n",
      "[INFO kernel.cc:836] Save model in resources\n",
      "[INFO kernel.cc:988] Loading model from path\n",
      "[INFO decision_forest.cc:590] Model loaded with 464 root(s), 22584 node(s), and 50 input feature(s).\n",
      "[INFO abstract_model.cc:993] Engine \"GradientBoostedTreesGeneric\" built\n",
      "[INFO kernel.cc:848] Use fast generic engine\n"
     ]
    },
    {
     "name": "stdout",
     "output_type": "stream",
     "text": [
      "313/313 [==============================] - 2s 7ms/step - loss: 0.0000e+00 - accuracy: 0.5762 - sparse_categorical_crossentropy: 1.4855\n",
      "\n",
      "loss: 0.0000\n",
      "accuracy: 0.5762\n",
      "sparse_categorical_crossentropy: 1.4855\n",
      "Model optimization time: 0:01:25.327537 \n",
      "\n",
      "1243/1250 [============================>.] - ETA: 0s"
     ]
    },
    {
     "name": "stderr",
     "output_type": "stream",
     "text": [
      "[INFO kernel.cc:736] Start Yggdrasil model training\n",
      "[INFO kernel.cc:737] Collect training examples\n",
      "[INFO kernel.cc:392] Number of batches: 1250\n",
      "[INFO kernel.cc:393] Number of examples: 80000\n",
      "[INFO kernel.cc:759] Dataset:\n",
      "Number of records: 80000\n",
      "Number of columns: 51\n",
      "\n",
      "Number of columns by type:\n",
      "\tNUMERICAL: 50 (98.0392%)\n",
      "\tCATEGORICAL: 1 (1.96078%)\n",
      "\n",
      "Columns:\n",
      "\n",
      "NUMERICAL: 50 (98.0392%)\n",
      "\t0: \"feature_0\" NUMERICAL mean:0.257812 min:0 max:10 sd:0.928262\n",
      "\t1: \"feature_1\" NUMERICAL mean:0.42845 min:0 max:31 sd:1.96312\n",
      "\t2: \"feature_10\" NUMERICAL mean:0.312837 min:0 max:15 sd:1.12395\n",
      "\t3: \"feature_11\" NUMERICAL mean:0.405763 min:0 max:12 sd:1.01642\n",
      "\t4: \"feature_12\" NUMERICAL mean:0.460688 min:0 max:11 sd:1.12668\n",
      "\t5: \"feature_13\" NUMERICAL mean:0.0763125 min:0 max:3 sd:0.360644\n",
      "\t6: \"feature_14\" NUMERICAL mean:2.60879 min:0 max:51 sd:4.67293\n",
      "\t7: \"feature_15\" NUMERICAL mean:1.23971 min:0 max:19 sd:2.15601\n",
      "\t8: \"feature_16\" NUMERICAL mean:0.367287 min:0 max:18 sd:1.28267\n",
      "\t9: \"feature_17\" NUMERICAL mean:0.73465 min:0 max:16 sd:1.8132\n",
      "\t10: \"feature_18\" NUMERICAL mean:0.469475 min:0 max:13 sd:1.09107\n",
      "\t11: \"feature_19\" NUMERICAL mean:1.56844 min:-2 max:55 sd:4.769\n",
      "\t12: \"feature_2\" NUMERICAL mean:0.114788 min:0 max:6 sd:0.522026\n",
      "\t13: \"feature_20\" NUMERICAL mean:0.24245 min:0 max:17 sd:0.922452\n",
      "\t14: \"feature_21\" NUMERICAL mean:0.658088 min:0 max:36 sd:2.18274\n",
      "\t15: \"feature_22\" NUMERICAL mean:0.184237 min:0 max:4 sd:0.553845\n",
      "\t16: \"feature_23\" NUMERICAL mean:0.3852 min:0 max:19 sd:1.20982\n",
      "\t17: \"feature_24\" NUMERICAL mean:1.04442 min:0 max:34 sd:2.55388\n",
      "\t18: \"feature_25\" NUMERICAL mean:0.404012 min:0 max:23 sd:1.31354\n",
      "\t19: \"feature_26\" NUMERICAL mean:0.3504 min:0 max:21 sd:1.48293\n",
      "\t20: \"feature_27\" NUMERICAL mean:0.30025 min:0 max:31 sd:1.58217\n",
      "\t21: \"feature_28\" NUMERICAL mean:1.10157 min:0 max:23 sd:1.87142\n",
      "\t22: \"feature_29\" NUMERICAL mean:0.168813 min:0 max:13 sd:0.739013\n",
      "\t23: \"feature_3\" NUMERICAL mean:0.5936 min:0 max:26 sd:1.8415\n",
      "\t24: \"feature_30\" NUMERICAL mean:0.296538 min:-1 max:41 sd:1.36416\n",
      "\t25: \"feature_31\" NUMERICAL mean:1.36461 min:-1 max:46 sd:3.30822\n",
      "\t26: \"feature_32\" NUMERICAL mean:0.275725 min:-2 max:26 sd:1.4487\n",
      "\t27: \"feature_33\" NUMERICAL mean:0.61625 min:0 max:24 sd:2.29373\n",
      "\t28: \"feature_34\" NUMERICAL mean:1.12354 min:0 max:25 sd:2.4945\n",
      "\t29: \"feature_35\" NUMERICAL mean:0.915312 min:-2 max:43 sd:2.97898\n",
      "\t30: \"feature_36\" NUMERICAL mean:0.117325 min:0 max:3 sd:0.412595\n",
      "\t31: \"feature_37\" NUMERICAL mean:0.397537 min:0 max:14 sd:1.09281\n",
      "\t32: \"feature_38\" NUMERICAL mean:2.9926 min:-8 max:65 sd:5.364\n",
      "\t33: \"feature_39\" NUMERICAL mean:0.674175 min:-5 max:66 sd:3.72764\n",
      "\t34: \"feature_4\" NUMERICAL mean:0.600812 min:0 max:38 sd:2.79202\n",
      "\t35: \"feature_40\" NUMERICAL mean:0.7139 min:0 max:21 sd:1.7162\n",
      "\t36: \"feature_41\" NUMERICAL mean:0.580825 min:0 max:32 sd:2.00091\n",
      "\t37: \"feature_42\" NUMERICAL mean:0.529475 min:-1 max:37 sd:2.29883\n",
      "\t38: \"feature_43\" NUMERICAL mean:0.616788 min:0 max:33 sd:2.36072\n",
      "\t39: \"feature_44\" NUMERICAL mean:0.135112 min:0 max:9 sd:0.626823\n",
      "\t40: \"feature_45\" NUMERICAL mean:0.357612 min:0 max:26 sd:1.45712\n",
      "\t41: \"feature_46\" NUMERICAL mean:0.523025 min:0 max:29 sd:2.19063\n",
      "\t42: \"feature_47\" NUMERICAL mean:0.389525 min:0 max:25 sd:1.47919\n",
      "\t43: \"feature_48\" NUMERICAL mean:0.975675 min:0 max:44 sd:2.59667\n",
      "\t44: \"feature_49\" NUMERICAL mean:0.55825 min:0 max:20 sd:1.68137\n",
      "\t45: \"feature_5\" NUMERICAL mean:0.160738 min:0 max:10 sd:0.600875\n",
      "\t46: \"feature_6\" NUMERICAL mean:0.7223 min:0 max:27 sd:2.32434\n",
      "\t47: \"feature_7\" NUMERICAL mean:1.23275 min:0 max:31 sd:2.69584\n",
      "\t48: \"feature_8\" NUMERICAL mean:0.909875 min:0 max:39 sd:3.42601\n",
      "\t49: \"feature_9\" NUMERICAL mean:0.941225 min:0 max:17 sd:1.90531\n",
      "\n",
      "CATEGORICAL: 1 (1.96078%)\n",
      "\t50: \"__LABEL\" CATEGORICAL integerized vocab-size:5 no-ood-item\n",
      "\n",
      "Terminology:\n",
      "\tnas: Number of non-available (i.e. missing) values.\n",
      "\tood: Out of dictionary.\n",
      "\tmanually-defined: Attribute which type is manually defined by the user i.e. the type was not automatically inferred.\n",
      "\ttokenized: The attribute value is obtained through tokenization.\n",
      "\thas-dict: The attribute is attached to a string dictionary e.g. a categorical attribute stored as a string.\n",
      "\tvocab-size: Number of unique values.\n",
      "\n",
      "[INFO kernel.cc:762] Configure learner\n",
      "[WARNING gradient_boosted_trees.cc:1643] Subsample hyperparameter given but sampling method does not match.\n",
      "[WARNING gradient_boosted_trees.cc:1656] GOSS alpha hyperparameter given but GOSS is disabled.\n",
      "[WARNING gradient_boosted_trees.cc:1665] GOSS beta hyperparameter given but GOSS is disabled.\n",
      "[WARNING gradient_boosted_trees.cc:1677] SelGB ratio hyperparameter given but SelGB is disabled.\n",
      "[INFO kernel.cc:787] Training config:\n",
      "learner: \"GRADIENT_BOOSTED_TREES\"\n",
      "features: \"feature_0\"\n",
      "features: \"feature_1\"\n",
      "features: \"feature_10\"\n",
      "features: \"feature_11\"\n",
      "features: \"feature_12\"\n",
      "features: \"feature_13\"\n",
      "features: \"feature_14\"\n",
      "features: \"feature_15\"\n",
      "features: \"feature_16\"\n",
      "features: \"feature_17\"\n",
      "features: \"feature_18\"\n",
      "features: \"feature_19\"\n",
      "features: \"feature_2\"\n",
      "features: \"feature_20\"\n",
      "features: \"feature_21\"\n",
      "features: \"feature_22\"\n",
      "features: \"feature_23\"\n",
      "features: \"feature_24\"\n",
      "features: \"feature_25\"\n",
      "features: \"feature_26\"\n",
      "features: \"feature_27\"\n",
      "features: \"feature_28\"\n",
      "features: \"feature_29\"\n",
      "features: \"feature_3\"\n",
      "features: \"feature_30\"\n",
      "features: \"feature_31\"\n",
      "features: \"feature_32\"\n",
      "features: \"feature_33\"\n",
      "features: \"feature_34\"\n",
      "features: \"feature_35\"\n",
      "features: \"feature_36\"\n",
      "features: \"feature_37\"\n",
      "features: \"feature_38\"\n",
      "features: \"feature_39\"\n",
      "features: \"feature_4\"\n",
      "features: \"feature_40\"\n",
      "features: \"feature_41\"\n",
      "features: \"feature_42\"\n",
      "features: \"feature_43\"\n",
      "features: \"feature_44\"\n",
      "features: \"feature_45\"\n",
      "features: \"feature_46\"\n",
      "features: \"feature_47\"\n",
      "features: \"feature_48\"\n",
      "features: \"feature_49\"\n",
      "features: \"feature_5\"\n",
      "features: \"feature_6\"\n",
      "features: \"feature_7\"\n",
      "features: \"feature_8\"\n",
      "features: \"feature_9\"\n",
      "label: \"__LABEL\"\n",
      "task: CLASSIFICATION\n",
      "[yggdrasil_decision_forests.model.gradient_boosted_trees.proto.gradient_boosted_trees_config] {\n",
      "  num_trees: 500\n",
      "  decision_tree {\n",
      "    max_depth: 6\n",
      "    min_examples: 5\n",
      "    in_split_min_examples_check: true\n",
      "    missing_value_policy: GLOBAL_IMPUTATION\n",
      "    allow_na_conditions: false\n",
      "    categorical_set_greedy_forward {\n",
      "      sampling: 0.1\n",
      "      max_num_items: -1\n",
      "      min_item_frequency: 1\n",
      "    }\n",
      "    growing_strategy_local {\n",
      "    }\n",
      "    categorical {\n",
      "      cart {\n",
      "      }\n",
      "    }\n",
      "    num_candidate_attributes_ratio: -1\n",
      "    axis_aligned_split {\n",
      "    }\n",
      "    internal {\n",
      "      sorting_strategy: PRESORTED\n",
      "    }\n",
      "  }\n",
      "  shrinkage: 0.1\n",
      "  validation_set_ratio: 0.1\n",
      "  early_stopping: VALIDATION_LOSS_INCREASE\n",
      "  early_stopping_num_trees_look_ahead: 30\n",
      "  l2_regularization: 0\n",
      "  lambda_loss: 1\n",
      "  mart {\n",
      "  }\n",
      "  adapt_subsample_for_maximum_training_duration: false\n",
      "  l1_regularization: 0\n",
      "  use_hessian_gain: false\n",
      "  l2_regularization_categorical: 1\n",
      "  apply_link_function: true\n",
      "  compute_permutation_variable_importance: false\n",
      "}\n",
      "\n",
      "[INFO kernel.cc:790] Deployment config:\n",
      "num_threads: 6\n",
      "\n",
      "[INFO kernel.cc:817] Train model\n",
      "[INFO gradient_boosted_trees.cc:404] Default loss set to MULTINOMIAL_LOG_LIKELIHOOD\n",
      "[INFO gradient_boosted_trees.cc:1001] Training gradient boosted tree on 80000 example(s) and 50 feature(s).\n",
      "[INFO gradient_boosted_trees.cc:1044] 72018 examples used for training and 7982 examples used for validation\n",
      "[INFO gradient_boosted_trees.cc:1426] \tnum-trees:1 train-loss:1.327071 train-accuracy:0.576731 valid-loss:1.328433 valid-accuracy:0.570534\n",
      "[INFO gradient_boosted_trees.cc:1428] \tnum-trees:2 train-loss:1.281466 train-accuracy:0.577161 valid-loss:1.283947 valid-accuracy:0.571661\n",
      "[INFO gradient_boosted_trees.cc:1428] \tnum-trees:73 train-loss:1.055223 train-accuracy:0.585590 valid-loss:1.100610 valid-accuracy:0.574919\n"
     ]
    },
    {
     "name": "stdout",
     "output_type": "stream",
     "text": [
      "1250/1250 [==============================] - 59s 47ms/step\n"
     ]
    },
    {
     "name": "stderr",
     "output_type": "stream",
     "text": [
      "[INFO gradient_boosted_trees.cc:2740] Early stop of the training because the validation loss does not decrease anymore. Best valid-loss: 1.09967\n",
      "[INFO gradient_boosted_trees.cc:229] Truncates the model to 464 tree(s) i.e. 116  iteration(s).\n",
      "[INFO gradient_boosted_trees.cc:263] Final model num-trees:116 valid-loss:1.099665 valid-accuracy:0.575169\n",
      "[INFO kernel.cc:828] Export model in log directory: /tmp/tmpf5mywgey\n",
      "[INFO kernel.cc:836] Save model in resources\n",
      "[INFO kernel.cc:988] Loading model from path\n",
      "[INFO decision_forest.cc:590] Model loaded with 464 root(s), 22584 node(s), and 50 input feature(s).\n",
      "[INFO abstract_model.cc:993] Engine \"GradientBoostedTreesGeneric\" built\n",
      "[INFO kernel.cc:848] Use fast generic engine\n"
     ]
    },
    {
     "name": "stdout",
     "output_type": "stream",
     "text": [
      "WARNING:tensorflow:5 out of the last 5 calls to <function CoreModel.make_predict_function.<locals>.predict_function_trained at 0x7f2bfc9140d0> triggered tf.function retracing. Tracing is expensive and the excessive number of tracings could be due to (1) creating @tf.function repeatedly in a loop, (2) passing tensors with different shapes, (3) passing Python objects instead of tensors. For (1), please define your @tf.function outside of the loop. For (2), @tf.function has experimental_relax_shapes=True option that relaxes argument shapes that can avoid unnecessary retracing. For (3), please refer to https://www.tensorflow.org/guide/function#controlling_retracing and https://www.tensorflow.org/api_docs/python/tf/function for  more details.\n"
     ]
    },
    {
     "name": "stderr",
     "output_type": "stream",
     "text": [
      "WARNING:tensorflow:5 out of the last 5 calls to <function CoreModel.make_predict_function.<locals>.predict_function_trained at 0x7f2bfc9140d0> triggered tf.function retracing. Tracing is expensive and the excessive number of tracings could be due to (1) creating @tf.function repeatedly in a loop, (2) passing tensors with different shapes, (3) passing Python objects instead of tensors. For (1), please define your @tf.function outside of the loop. For (2), @tf.function has experimental_relax_shapes=True option that relaxes argument shapes that can avoid unnecessary retracing. For (3), please refer to https://www.tensorflow.org/guide/function#controlling_retracing and https://www.tensorflow.org/api_docs/python/tf/function for  more details.\n"
     ]
    },
    {
     "name": "stdout",
     "output_type": "stream",
     "text": [
      "313/313 [==============================] - 2s 7ms/step - loss: 0.0000e+00 - accuracy: 0.5762 - sparse_categorical_crossentropy: 1.4080\n",
      "\n",
      "loss: 0.0000\n",
      "accuracy: 0.5762\n",
      "sparse_categorical_crossentropy: 1.4080\n",
      "Model optimization time: 0:01:01.464094 \n",
      "\n",
      "1241/1250 [============================>.] - ETA: 0s"
     ]
    },
    {
     "name": "stderr",
     "output_type": "stream",
     "text": [
      "[INFO kernel.cc:736] Start Yggdrasil model training\n",
      "[INFO kernel.cc:737] Collect training examples\n",
      "[INFO kernel.cc:392] Number of batches: 1250\n",
      "[INFO kernel.cc:393] Number of examples: 80000\n",
      "[INFO kernel.cc:759] Dataset:\n",
      "Number of records: 80000\n",
      "Number of columns: 51\n",
      "\n",
      "Number of columns by type:\n",
      "\tNUMERICAL: 50 (98.0392%)\n",
      "\tCATEGORICAL: 1 (1.96078%)\n",
      "\n",
      "Columns:\n",
      "\n",
      "NUMERICAL: 50 (98.0392%)\n",
      "\t0: \"feature_0\" NUMERICAL mean:0.257812 min:0 max:10 sd:0.928262\n",
      "\t1: \"feature_1\" NUMERICAL mean:0.42845 min:0 max:31 sd:1.96312\n",
      "\t2: \"feature_10\" NUMERICAL mean:0.312837 min:0 max:15 sd:1.12395\n",
      "\t3: \"feature_11\" NUMERICAL mean:0.405763 min:0 max:12 sd:1.01642\n",
      "\t4: \"feature_12\" NUMERICAL mean:0.460688 min:0 max:11 sd:1.12668\n",
      "\t5: \"feature_13\" NUMERICAL mean:0.0763125 min:0 max:3 sd:0.360644\n",
      "\t6: \"feature_14\" NUMERICAL mean:2.60879 min:0 max:51 sd:4.67293\n",
      "\t7: \"feature_15\" NUMERICAL mean:1.23971 min:0 max:19 sd:2.15601\n",
      "\t8: \"feature_16\" NUMERICAL mean:0.367287 min:0 max:18 sd:1.28267\n",
      "\t9: \"feature_17\" NUMERICAL mean:0.73465 min:0 max:16 sd:1.8132\n",
      "\t10: \"feature_18\" NUMERICAL mean:0.469475 min:0 max:13 sd:1.09107\n",
      "\t11: \"feature_19\" NUMERICAL mean:1.56844 min:-2 max:55 sd:4.769\n",
      "\t12: \"feature_2\" NUMERICAL mean:0.114788 min:0 max:6 sd:0.522026\n",
      "\t13: \"feature_20\" NUMERICAL mean:0.24245 min:0 max:17 sd:0.922452\n",
      "\t14: \"feature_21\" NUMERICAL mean:0.658088 min:0 max:36 sd:2.18274\n",
      "\t15: \"feature_22\" NUMERICAL mean:0.184237 min:0 max:4 sd:0.553845\n",
      "\t16: \"feature_23\" NUMERICAL mean:0.3852 min:0 max:19 sd:1.20982\n",
      "\t17: \"feature_24\" NUMERICAL mean:1.04442 min:0 max:34 sd:2.55388\n",
      "\t18: \"feature_25\" NUMERICAL mean:0.404012 min:0 max:23 sd:1.31354\n",
      "\t19: \"feature_26\" NUMERICAL mean:0.3504 min:0 max:21 sd:1.48293\n",
      "\t20: \"feature_27\" NUMERICAL mean:0.30025 min:0 max:31 sd:1.58217\n",
      "\t21: \"feature_28\" NUMERICAL mean:1.10157 min:0 max:23 sd:1.87142\n",
      "\t22: \"feature_29\" NUMERICAL mean:0.168813 min:0 max:13 sd:0.739013\n",
      "\t23: \"feature_3\" NUMERICAL mean:0.5936 min:0 max:26 sd:1.8415\n",
      "\t24: \"feature_30\" NUMERICAL mean:0.296538 min:-1 max:41 sd:1.36416\n",
      "\t25: \"feature_31\" NUMERICAL mean:1.36461 min:-1 max:46 sd:3.30822\n",
      "\t26: \"feature_32\" NUMERICAL mean:0.275725 min:-2 max:26 sd:1.4487\n",
      "\t27: \"feature_33\" NUMERICAL mean:0.61625 min:0 max:24 sd:2.29373\n",
      "\t28: \"feature_34\" NUMERICAL mean:1.12354 min:0 max:25 sd:2.4945\n",
      "\t29: \"feature_35\" NUMERICAL mean:0.915312 min:-2 max:43 sd:2.97898\n",
      "\t30: \"feature_36\" NUMERICAL mean:0.117325 min:0 max:3 sd:0.412595\n",
      "\t31: \"feature_37\" NUMERICAL mean:0.397537 min:0 max:14 sd:1.09281\n",
      "\t32: \"feature_38\" NUMERICAL mean:2.9926 min:-8 max:65 sd:5.364\n",
      "\t33: \"feature_39\" NUMERICAL mean:0.674175 min:-5 max:66 sd:3.72764\n",
      "\t34: \"feature_4\" NUMERICAL mean:0.600812 min:0 max:38 sd:2.79202\n",
      "\t35: \"feature_40\" NUMERICAL mean:0.7139 min:0 max:21 sd:1.7162\n",
      "\t36: \"feature_41\" NUMERICAL mean:0.580825 min:0 max:32 sd:2.00091\n",
      "\t37: \"feature_42\" NUMERICAL mean:0.529475 min:-1 max:37 sd:2.29883\n",
      "\t38: \"feature_43\" NUMERICAL mean:0.616788 min:0 max:33 sd:2.36072\n",
      "\t39: \"feature_44\" NUMERICAL mean:0.135112 min:0 max:9 sd:0.626823\n",
      "\t40: \"feature_45\" NUMERICAL mean:0.357612 min:0 max:26 sd:1.45712\n",
      "\t41: \"feature_46\" NUMERICAL mean:0.523025 min:0 max:29 sd:2.19063\n",
      "\t42: \"feature_47\" NUMERICAL mean:0.389525 min:0 max:25 sd:1.47919\n",
      "\t43: \"feature_48\" NUMERICAL mean:0.975675 min:0 max:44 sd:2.59667\n",
      "\t44: \"feature_49\" NUMERICAL mean:0.55825 min:0 max:20 sd:1.68137\n",
      "\t45: \"feature_5\" NUMERICAL mean:0.160738 min:0 max:10 sd:0.600875\n",
      "\t46: \"feature_6\" NUMERICAL mean:0.7223 min:0 max:27 sd:2.32434\n",
      "\t47: \"feature_7\" NUMERICAL mean:1.23275 min:0 max:31 sd:2.69584\n",
      "\t48: \"feature_8\" NUMERICAL mean:0.909875 min:0 max:39 sd:3.42601\n",
      "\t49: \"feature_9\" NUMERICAL mean:0.941225 min:0 max:17 sd:1.90531\n",
      "\n",
      "CATEGORICAL: 1 (1.96078%)\n",
      "\t50: \"__LABEL\" CATEGORICAL integerized vocab-size:5 no-ood-item\n",
      "\n",
      "Terminology:\n",
      "\tnas: Number of non-available (i.e. missing) values.\n",
      "\tood: Out of dictionary.\n",
      "\tmanually-defined: Attribute which type is manually defined by the user i.e. the type was not automatically inferred.\n",
      "\ttokenized: The attribute value is obtained through tokenization.\n",
      "\thas-dict: The attribute is attached to a string dictionary e.g. a categorical attribute stored as a string.\n",
      "\tvocab-size: Number of unique values.\n",
      "\n",
      "[INFO kernel.cc:762] Configure learner\n",
      "[WARNING gradient_boosted_trees.cc:1643] Subsample hyperparameter given but sampling method does not match.\n",
      "[WARNING gradient_boosted_trees.cc:1656] GOSS alpha hyperparameter given but GOSS is disabled.\n",
      "[WARNING gradient_boosted_trees.cc:1665] GOSS beta hyperparameter given but GOSS is disabled.\n",
      "[WARNING gradient_boosted_trees.cc:1677] SelGB ratio hyperparameter given but SelGB is disabled.\n",
      "[INFO kernel.cc:787] Training config:\n",
      "learner: \"GRADIENT_BOOSTED_TREES\"\n",
      "features: \"feature_0\"\n",
      "features: \"feature_1\"\n",
      "features: \"feature_10\"\n",
      "features: \"feature_11\"\n",
      "features: \"feature_12\"\n",
      "features: \"feature_13\"\n",
      "features: \"feature_14\"\n",
      "features: \"feature_15\"\n",
      "features: \"feature_16\"\n",
      "features: \"feature_17\"\n",
      "features: \"feature_18\"\n",
      "features: \"feature_19\"\n",
      "features: \"feature_2\"\n",
      "features: \"feature_20\"\n",
      "features: \"feature_21\"\n",
      "features: \"feature_22\"\n",
      "features: \"feature_23\"\n",
      "features: \"feature_24\"\n",
      "features: \"feature_25\"\n",
      "features: \"feature_26\"\n",
      "features: \"feature_27\"\n",
      "features: \"feature_28\"\n",
      "features: \"feature_29\"\n",
      "features: \"feature_3\"\n",
      "features: \"feature_30\"\n",
      "features: \"feature_31\"\n",
      "features: \"feature_32\"\n",
      "features: \"feature_33\"\n",
      "features: \"feature_34\"\n",
      "features: \"feature_35\"\n",
      "features: \"feature_36\"\n",
      "features: \"feature_37\"\n",
      "features: \"feature_38\"\n",
      "features: \"feature_39\"\n",
      "features: \"feature_4\"\n",
      "features: \"feature_40\"\n",
      "features: \"feature_41\"\n",
      "features: \"feature_42\"\n",
      "features: \"feature_43\"\n",
      "features: \"feature_44\"\n",
      "features: \"feature_45\"\n",
      "features: \"feature_46\"\n",
      "features: \"feature_47\"\n",
      "features: \"feature_48\"\n",
      "features: \"feature_49\"\n",
      "features: \"feature_5\"\n",
      "features: \"feature_6\"\n",
      "features: \"feature_7\"\n",
      "features: \"feature_8\"\n",
      "features: \"feature_9\"\n",
      "label: \"__LABEL\"\n",
      "task: CLASSIFICATION\n",
      "[yggdrasil_decision_forests.model.gradient_boosted_trees.proto.gradient_boosted_trees_config] {\n",
      "  num_trees: 750\n",
      "  decision_tree {\n",
      "    max_depth: 6\n",
      "    min_examples: 5\n",
      "    in_split_min_examples_check: true\n",
      "    missing_value_policy: GLOBAL_IMPUTATION\n",
      "    allow_na_conditions: false\n",
      "    categorical_set_greedy_forward {\n",
      "      sampling: 0.1\n",
      "      max_num_items: -1\n",
      "      min_item_frequency: 1\n",
      "    }\n",
      "    growing_strategy_local {\n",
      "    }\n",
      "    categorical {\n",
      "      cart {\n",
      "      }\n",
      "    }\n",
      "    num_candidate_attributes_ratio: -1\n",
      "    axis_aligned_split {\n",
      "    }\n",
      "    internal {\n",
      "      sorting_strategy: PRESORTED\n",
      "    }\n",
      "  }\n",
      "  shrinkage: 0.1\n",
      "  validation_set_ratio: 0.1\n",
      "  early_stopping: VALIDATION_LOSS_INCREASE\n",
      "  early_stopping_num_trees_look_ahead: 30\n",
      "  l2_regularization: 0\n",
      "  lambda_loss: 1\n",
      "  mart {\n",
      "  }\n",
      "  adapt_subsample_for_maximum_training_duration: false\n",
      "  l1_regularization: 0\n",
      "  use_hessian_gain: false\n",
      "  l2_regularization_categorical: 1\n",
      "  apply_link_function: true\n",
      "  compute_permutation_variable_importance: false\n",
      "}\n",
      "\n",
      "[INFO kernel.cc:790] Deployment config:\n",
      "num_threads: 6\n",
      "\n",
      "[INFO kernel.cc:817] Train model\n",
      "[INFO gradient_boosted_trees.cc:404] Default loss set to MULTINOMIAL_LOG_LIKELIHOOD\n",
      "[INFO gradient_boosted_trees.cc:1001] Training gradient boosted tree on 80000 example(s) and 50 feature(s).\n",
      "[INFO gradient_boosted_trees.cc:1044] 72018 examples used for training and 7982 examples used for validation\n",
      "[INFO gradient_boosted_trees.cc:1426] \tnum-trees:1 train-loss:1.327071 train-accuracy:0.576731 valid-loss:1.328433 valid-accuracy:0.570534\n",
      "[INFO gradient_boosted_trees.cc:1428] \tnum-trees:2 train-loss:1.281466 train-accuracy:0.577161 valid-loss:1.283947 valid-accuracy:0.571661\n",
      "[INFO gradient_boosted_trees.cc:1428] \tnum-trees:73 train-loss:1.055223 train-accuracy:0.585590 valid-loss:1.100610 valid-accuracy:0.574919\n"
     ]
    },
    {
     "name": "stdout",
     "output_type": "stream",
     "text": [
      "1250/1250 [==============================] - 60s 47ms/step\n"
     ]
    },
    {
     "name": "stderr",
     "output_type": "stream",
     "text": [
      "[INFO gradient_boosted_trees.cc:2740] Early stop of the training because the validation loss does not decrease anymore. Best valid-loss: 1.09967\n",
      "[INFO gradient_boosted_trees.cc:229] Truncates the model to 464 tree(s) i.e. 116  iteration(s).\n",
      "[INFO gradient_boosted_trees.cc:263] Final model num-trees:116 valid-loss:1.099665 valid-accuracy:0.575169\n",
      "[INFO kernel.cc:828] Export model in log directory: /tmp/tmpfzw81bpn\n",
      "[INFO kernel.cc:836] Save model in resources\n",
      "[INFO kernel.cc:988] Loading model from path\n",
      "[INFO decision_forest.cc:590] Model loaded with 464 root(s), 22584 node(s), and 50 input feature(s).\n",
      "[INFO abstract_model.cc:993] Engine \"GradientBoostedTreesGeneric\" built\n",
      "[INFO kernel.cc:848] Use fast generic engine\n"
     ]
    },
    {
     "name": "stdout",
     "output_type": "stream",
     "text": [
      "WARNING:tensorflow:6 out of the last 6 calls to <function CoreModel.make_predict_function.<locals>.predict_function_trained at 0x7f2c05218670> triggered tf.function retracing. Tracing is expensive and the excessive number of tracings could be due to (1) creating @tf.function repeatedly in a loop, (2) passing tensors with different shapes, (3) passing Python objects instead of tensors. For (1), please define your @tf.function outside of the loop. For (2), @tf.function has experimental_relax_shapes=True option that relaxes argument shapes that can avoid unnecessary retracing. For (3), please refer to https://www.tensorflow.org/guide/function#controlling_retracing and https://www.tensorflow.org/api_docs/python/tf/function for  more details.\n"
     ]
    },
    {
     "name": "stderr",
     "output_type": "stream",
     "text": [
      "WARNING:tensorflow:6 out of the last 6 calls to <function CoreModel.make_predict_function.<locals>.predict_function_trained at 0x7f2c05218670> triggered tf.function retracing. Tracing is expensive and the excessive number of tracings could be due to (1) creating @tf.function repeatedly in a loop, (2) passing tensors with different shapes, (3) passing Python objects instead of tensors. For (1), please define your @tf.function outside of the loop. For (2), @tf.function has experimental_relax_shapes=True option that relaxes argument shapes that can avoid unnecessary retracing. For (3), please refer to https://www.tensorflow.org/guide/function#controlling_retracing and https://www.tensorflow.org/api_docs/python/tf/function for  more details.\n"
     ]
    },
    {
     "name": "stdout",
     "output_type": "stream",
     "text": [
      "313/313 [==============================] - 2s 7ms/step - loss: 0.0000e+00 - accuracy: 0.5762 - sparse_categorical_crossentropy: 1.3563\n",
      "\n",
      "loss: 0.0000\n",
      "accuracy: 0.5762\n",
      "sparse_categorical_crossentropy: 1.3563\n",
      "Model optimization time: 0:01:02.405333 \n",
      "\n",
      "1242/1250 [============================>.] - ETA: 0s"
     ]
    },
    {
     "name": "stderr",
     "output_type": "stream",
     "text": [
      "[INFO kernel.cc:736] Start Yggdrasil model training\n",
      "[INFO kernel.cc:737] Collect training examples\n",
      "[INFO kernel.cc:392] Number of batches: 1250\n",
      "[INFO kernel.cc:393] Number of examples: 80000\n",
      "[INFO kernel.cc:759] Dataset:\n",
      "Number of records: 80000\n",
      "Number of columns: 51\n",
      "\n",
      "Number of columns by type:\n",
      "\tNUMERICAL: 50 (98.0392%)\n",
      "\tCATEGORICAL: 1 (1.96078%)\n",
      "\n",
      "Columns:\n",
      "\n",
      "NUMERICAL: 50 (98.0392%)\n",
      "\t0: \"feature_0\" NUMERICAL mean:0.257812 min:0 max:10 sd:0.928262\n",
      "\t1: \"feature_1\" NUMERICAL mean:0.42845 min:0 max:31 sd:1.96312\n",
      "\t2: \"feature_10\" NUMERICAL mean:0.312837 min:0 max:15 sd:1.12395\n",
      "\t3: \"feature_11\" NUMERICAL mean:0.405763 min:0 max:12 sd:1.01642\n",
      "\t4: \"feature_12\" NUMERICAL mean:0.460688 min:0 max:11 sd:1.12668\n",
      "\t5: \"feature_13\" NUMERICAL mean:0.0763125 min:0 max:3 sd:0.360644\n",
      "\t6: \"feature_14\" NUMERICAL mean:2.60879 min:0 max:51 sd:4.67293\n",
      "\t7: \"feature_15\" NUMERICAL mean:1.23971 min:0 max:19 sd:2.15601\n",
      "\t8: \"feature_16\" NUMERICAL mean:0.367287 min:0 max:18 sd:1.28267\n",
      "\t9: \"feature_17\" NUMERICAL mean:0.73465 min:0 max:16 sd:1.8132\n",
      "\t10: \"feature_18\" NUMERICAL mean:0.469475 min:0 max:13 sd:1.09107\n",
      "\t11: \"feature_19\" NUMERICAL mean:1.56844 min:-2 max:55 sd:4.769\n",
      "\t12: \"feature_2\" NUMERICAL mean:0.114788 min:0 max:6 sd:0.522026\n",
      "\t13: \"feature_20\" NUMERICAL mean:0.24245 min:0 max:17 sd:0.922452\n",
      "\t14: \"feature_21\" NUMERICAL mean:0.658088 min:0 max:36 sd:2.18274\n",
      "\t15: \"feature_22\" NUMERICAL mean:0.184237 min:0 max:4 sd:0.553845\n",
      "\t16: \"feature_23\" NUMERICAL mean:0.3852 min:0 max:19 sd:1.20982\n",
      "\t17: \"feature_24\" NUMERICAL mean:1.04442 min:0 max:34 sd:2.55388\n",
      "\t18: \"feature_25\" NUMERICAL mean:0.404012 min:0 max:23 sd:1.31354\n",
      "\t19: \"feature_26\" NUMERICAL mean:0.3504 min:0 max:21 sd:1.48293\n",
      "\t20: \"feature_27\" NUMERICAL mean:0.30025 min:0 max:31 sd:1.58217\n",
      "\t21: \"feature_28\" NUMERICAL mean:1.10157 min:0 max:23 sd:1.87142\n",
      "\t22: \"feature_29\" NUMERICAL mean:0.168813 min:0 max:13 sd:0.739013\n",
      "\t23: \"feature_3\" NUMERICAL mean:0.5936 min:0 max:26 sd:1.8415\n",
      "\t24: \"feature_30\" NUMERICAL mean:0.296538 min:-1 max:41 sd:1.36416\n",
      "\t25: \"feature_31\" NUMERICAL mean:1.36461 min:-1 max:46 sd:3.30822\n",
      "\t26: \"feature_32\" NUMERICAL mean:0.275725 min:-2 max:26 sd:1.4487\n",
      "\t27: \"feature_33\" NUMERICAL mean:0.61625 min:0 max:24 sd:2.29373\n",
      "\t28: \"feature_34\" NUMERICAL mean:1.12354 min:0 max:25 sd:2.4945\n",
      "\t29: \"feature_35\" NUMERICAL mean:0.915312 min:-2 max:43 sd:2.97898\n",
      "\t30: \"feature_36\" NUMERICAL mean:0.117325 min:0 max:3 sd:0.412595\n",
      "\t31: \"feature_37\" NUMERICAL mean:0.397537 min:0 max:14 sd:1.09281\n",
      "\t32: \"feature_38\" NUMERICAL mean:2.9926 min:-8 max:65 sd:5.364\n",
      "\t33: \"feature_39\" NUMERICAL mean:0.674175 min:-5 max:66 sd:3.72764\n",
      "\t34: \"feature_4\" NUMERICAL mean:0.600812 min:0 max:38 sd:2.79202\n",
      "\t35: \"feature_40\" NUMERICAL mean:0.7139 min:0 max:21 sd:1.7162\n",
      "\t36: \"feature_41\" NUMERICAL mean:0.580825 min:0 max:32 sd:2.00091\n",
      "\t37: \"feature_42\" NUMERICAL mean:0.529475 min:-1 max:37 sd:2.29883\n",
      "\t38: \"feature_43\" NUMERICAL mean:0.616788 min:0 max:33 sd:2.36072\n",
      "\t39: \"feature_44\" NUMERICAL mean:0.135112 min:0 max:9 sd:0.626823\n",
      "\t40: \"feature_45\" NUMERICAL mean:0.357612 min:0 max:26 sd:1.45712\n",
      "\t41: \"feature_46\" NUMERICAL mean:0.523025 min:0 max:29 sd:2.19063\n",
      "\t42: \"feature_47\" NUMERICAL mean:0.389525 min:0 max:25 sd:1.47919\n",
      "\t43: \"feature_48\" NUMERICAL mean:0.975675 min:0 max:44 sd:2.59667\n",
      "\t44: \"feature_49\" NUMERICAL mean:0.55825 min:0 max:20 sd:1.68137\n",
      "\t45: \"feature_5\" NUMERICAL mean:0.160738 min:0 max:10 sd:0.600875\n",
      "\t46: \"feature_6\" NUMERICAL mean:0.7223 min:0 max:27 sd:2.32434\n",
      "\t47: \"feature_7\" NUMERICAL mean:1.23275 min:0 max:31 sd:2.69584\n",
      "\t48: \"feature_8\" NUMERICAL mean:0.909875 min:0 max:39 sd:3.42601\n",
      "\t49: \"feature_9\" NUMERICAL mean:0.941225 min:0 max:17 sd:1.90531\n",
      "\n",
      "CATEGORICAL: 1 (1.96078%)\n",
      "\t50: \"__LABEL\" CATEGORICAL integerized vocab-size:5 no-ood-item\n",
      "\n",
      "Terminology:\n",
      "\tnas: Number of non-available (i.e. missing) values.\n",
      "\tood: Out of dictionary.\n",
      "\tmanually-defined: Attribute which type is manually defined by the user i.e. the type was not automatically inferred.\n",
      "\ttokenized: The attribute value is obtained through tokenization.\n",
      "\thas-dict: The attribute is attached to a string dictionary e.g. a categorical attribute stored as a string.\n",
      "\tvocab-size: Number of unique values.\n",
      "\n",
      "[INFO kernel.cc:762] Configure learner\n",
      "[WARNING gradient_boosted_trees.cc:1643] Subsample hyperparameter given but sampling method does not match.\n",
      "[WARNING gradient_boosted_trees.cc:1656] GOSS alpha hyperparameter given but GOSS is disabled.\n",
      "[WARNING gradient_boosted_trees.cc:1665] GOSS beta hyperparameter given but GOSS is disabled.\n",
      "[WARNING gradient_boosted_trees.cc:1677] SelGB ratio hyperparameter given but SelGB is disabled.\n",
      "[INFO kernel.cc:787] Training config:\n",
      "learner: \"GRADIENT_BOOSTED_TREES\"\n",
      "features: \"feature_0\"\n",
      "features: \"feature_1\"\n",
      "features: \"feature_10\"\n",
      "features: \"feature_11\"\n",
      "features: \"feature_12\"\n",
      "features: \"feature_13\"\n",
      "features: \"feature_14\"\n",
      "features: \"feature_15\"\n",
      "features: \"feature_16\"\n",
      "features: \"feature_17\"\n",
      "features: \"feature_18\"\n",
      "features: \"feature_19\"\n",
      "features: \"feature_2\"\n",
      "features: \"feature_20\"\n",
      "features: \"feature_21\"\n",
      "features: \"feature_22\"\n",
      "features: \"feature_23\"\n",
      "features: \"feature_24\"\n",
      "features: \"feature_25\"\n",
      "features: \"feature_26\"\n",
      "features: \"feature_27\"\n",
      "features: \"feature_28\"\n",
      "features: \"feature_29\"\n",
      "features: \"feature_3\"\n",
      "features: \"feature_30\"\n",
      "features: \"feature_31\"\n",
      "features: \"feature_32\"\n",
      "features: \"feature_33\"\n",
      "features: \"feature_34\"\n",
      "features: \"feature_35\"\n",
      "features: \"feature_36\"\n",
      "features: \"feature_37\"\n",
      "features: \"feature_38\"\n",
      "features: \"feature_39\"\n",
      "features: \"feature_4\"\n",
      "features: \"feature_40\"\n",
      "features: \"feature_41\"\n",
      "features: \"feature_42\"\n",
      "features: \"feature_43\"\n",
      "features: \"feature_44\"\n",
      "features: \"feature_45\"\n",
      "features: \"feature_46\"\n",
      "features: \"feature_47\"\n",
      "features: \"feature_48\"\n",
      "features: \"feature_49\"\n",
      "features: \"feature_5\"\n",
      "features: \"feature_6\"\n",
      "features: \"feature_7\"\n",
      "features: \"feature_8\"\n",
      "features: \"feature_9\"\n",
      "label: \"__LABEL\"\n",
      "task: CLASSIFICATION\n",
      "[yggdrasil_decision_forests.model.gradient_boosted_trees.proto.gradient_boosted_trees_config] {\n",
      "  num_trees: 1000\n",
      "  decision_tree {\n",
      "    max_depth: 6\n",
      "    min_examples: 5\n",
      "    in_split_min_examples_check: true\n",
      "    missing_value_policy: GLOBAL_IMPUTATION\n",
      "    allow_na_conditions: false\n",
      "    categorical_set_greedy_forward {\n",
      "      sampling: 0.1\n",
      "      max_num_items: -1\n",
      "      min_item_frequency: 1\n",
      "    }\n",
      "    growing_strategy_local {\n",
      "    }\n",
      "    categorical {\n",
      "      cart {\n",
      "      }\n",
      "    }\n",
      "    num_candidate_attributes_ratio: -1\n",
      "    axis_aligned_split {\n",
      "    }\n",
      "    internal {\n",
      "      sorting_strategy: PRESORTED\n",
      "    }\n",
      "  }\n",
      "  shrinkage: 0.1\n",
      "  validation_set_ratio: 0.1\n",
      "  early_stopping: VALIDATION_LOSS_INCREASE\n",
      "  early_stopping_num_trees_look_ahead: 30\n",
      "  l2_regularization: 0\n",
      "  lambda_loss: 1\n",
      "  mart {\n",
      "  }\n",
      "  adapt_subsample_for_maximum_training_duration: false\n",
      "  l1_regularization: 0\n",
      "  use_hessian_gain: false\n",
      "  l2_regularization_categorical: 1\n",
      "  apply_link_function: true\n",
      "  compute_permutation_variable_importance: false\n",
      "}\n",
      "\n",
      "[INFO kernel.cc:790] Deployment config:\n",
      "num_threads: 6\n",
      "\n",
      "[INFO kernel.cc:817] Train model\n",
      "[INFO gradient_boosted_trees.cc:404] Default loss set to MULTINOMIAL_LOG_LIKELIHOOD\n",
      "[INFO gradient_boosted_trees.cc:1001] Training gradient boosted tree on 80000 example(s) and 50 feature(s).\n",
      "[INFO gradient_boosted_trees.cc:1044] 72018 examples used for training and 7982 examples used for validation\n",
      "[INFO gradient_boosted_trees.cc:1426] \tnum-trees:1 train-loss:1.327071 train-accuracy:0.576731 valid-loss:1.328433 valid-accuracy:0.570534\n",
      "[INFO gradient_boosted_trees.cc:1428] \tnum-trees:2 train-loss:1.281466 train-accuracy:0.577161 valid-loss:1.283947 valid-accuracy:0.571661\n",
      "[INFO gradient_boosted_trees.cc:1428] \tnum-trees:73 train-loss:1.055223 train-accuracy:0.585590 valid-loss:1.100610 valid-accuracy:0.574919\n"
     ]
    },
    {
     "name": "stdout",
     "output_type": "stream",
     "text": [
      "1250/1250 [==============================] - 60s 48ms/step\n"
     ]
    },
    {
     "name": "stderr",
     "output_type": "stream",
     "text": [
      "[INFO gradient_boosted_trees.cc:2740] Early stop of the training because the validation loss does not decrease anymore. Best valid-loss: 1.09967\n",
      "[INFO gradient_boosted_trees.cc:229] Truncates the model to 464 tree(s) i.e. 116  iteration(s).\n",
      "[INFO gradient_boosted_trees.cc:263] Final model num-trees:116 valid-loss:1.099665 valid-accuracy:0.575169\n",
      "[INFO kernel.cc:828] Export model in log directory: /tmp/tmpy8eahn6u\n",
      "[INFO kernel.cc:836] Save model in resources\n",
      "[INFO kernel.cc:988] Loading model from path\n",
      "[INFO decision_forest.cc:590] Model loaded with 464 root(s), 22584 node(s), and 50 input feature(s).\n",
      "[INFO abstract_model.cc:993] Engine \"GradientBoostedTreesGeneric\" built\n",
      "[INFO kernel.cc:848] Use fast generic engine\n"
     ]
    },
    {
     "name": "stdout",
     "output_type": "stream",
     "text": [
      "313/313 [==============================] - 2s 7ms/step - loss: 0.0000e+00 - accuracy: 0.5762 - sparse_categorical_crossentropy: 1.3194\n",
      "\n",
      "loss: 0.0000\n",
      "accuracy: 0.5762\n",
      "sparse_categorical_crossentropy: 1.3194\n",
      "Model optimization time: 0:01:02.909343 \n",
      "\n"
     ]
    }
   ],
   "source": [
    "for num_trees in [300, 500, 750, 1000]:\n",
    "    # Define the baseline model for benchmarking\n",
    "    start_time_module = datetime.now()\n",
    "    reset_random()\n",
    "    Tuning_model = tfdf.keras.GradientBoostedTreesModel(num_trees=num_trees, task = tfdf.keras.Task.CLASSIFICATION)\n",
    "\n",
    "    # Optionally, add evaluation metrics.\n",
    "    Tuning_model.compile(metrics=DEFAULT_METRICS)\n",
    "\n",
    "    # Train the model.\n",
    "    Tuning_model.fit(x=tfds_train)\n",
    "\n",
    "    Tuning_eval = Tuning_model.evaluate(tfds_valid, return_dict=True)\n",
    "    print()\n",
    "\n",
    "    for name, value in Tuning_eval.items():\n",
    "        print(f\"{name}: {value:.4f}\")\n",
    "    print ('Model optimization time:', (datetime.now() - start_time_module), '\\n')"
   ]
  },
  {
   "cell_type": "code",
   "execution_count": 48,
   "metadata": {
    "id": "orMchSDCzr07"
   },
   "outputs": [],
   "source": [
    "if NOTIFY_STATUS: status_notify(\"Task 4 - Fine-tune and Improve Models completed! \"+datetime.now().strftime('%a %B %d, %Y %I:%M:%S %p'))"
   ]
  },
  {
   "cell_type": "markdown",
   "metadata": {
    "id": "D7UgYoGuzaM-"
   },
   "source": [
    "## Task 5 - Finalize Model and Present Analysis"
   ]
  },
  {
   "cell_type": "code",
   "execution_count": 49,
   "metadata": {
    "id": "BhuD5C56wXjV"
   },
   "outputs": [],
   "source": [
    "if NOTIFY_STATUS: status_notify(\"Task 5 - Finalize Model and Present Analysis has begun! \"+datetime.now().strftime('%a %B %d, %Y %I:%M:%S %p'))"
   ]
  },
  {
   "cell_type": "markdown",
   "metadata": {
    "id": "xDcJ2kVE8xNI"
   },
   "source": [
    "### 5.a) Train the Final Model"
   ]
  },
  {
   "cell_type": "code",
   "execution_count": 50,
   "metadata": {
    "colab": {
     "base_uri": "https://localhost:8080/"
    },
    "id": "dsntMWlJwXjV",
    "outputId": "30950585-eb2b-44de-a60f-b2d0a0444aea"
   },
   "outputs": [
    {
     "name": "stdout",
     "output_type": "stream",
     "text": [
      "1250/1250 [==============================] - ETA: 0s"
     ]
    },
    {
     "name": "stderr",
     "output_type": "stream",
     "text": [
      "[INFO kernel.cc:736] Start Yggdrasil model training\n",
      "[INFO kernel.cc:737] Collect training examples\n",
      "[INFO kernel.cc:392] Number of batches: 1250\n",
      "[INFO kernel.cc:393] Number of examples: 80000\n",
      "[INFO kernel.cc:759] Dataset:\n",
      "Number of records: 80000\n",
      "Number of columns: 51\n",
      "\n",
      "Number of columns by type:\n",
      "\tNUMERICAL: 50 (98.0392%)\n",
      "\tCATEGORICAL: 1 (1.96078%)\n",
      "\n",
      "Columns:\n",
      "\n",
      "NUMERICAL: 50 (98.0392%)\n",
      "\t0: \"feature_0\" NUMERICAL mean:0.257812 min:0 max:10 sd:0.928262\n",
      "\t1: \"feature_1\" NUMERICAL mean:0.42845 min:0 max:31 sd:1.96312\n",
      "\t2: \"feature_10\" NUMERICAL mean:0.312837 min:0 max:15 sd:1.12395\n",
      "\t3: \"feature_11\" NUMERICAL mean:0.405763 min:0 max:12 sd:1.01642\n",
      "\t4: \"feature_12\" NUMERICAL mean:0.460688 min:0 max:11 sd:1.12668\n",
      "\t5: \"feature_13\" NUMERICAL mean:0.0763125 min:0 max:3 sd:0.360644\n",
      "\t6: \"feature_14\" NUMERICAL mean:2.60879 min:0 max:51 sd:4.67293\n",
      "\t7: \"feature_15\" NUMERICAL mean:1.23971 min:0 max:19 sd:2.15601\n",
      "\t8: \"feature_16\" NUMERICAL mean:0.367287 min:0 max:18 sd:1.28267\n",
      "\t9: \"feature_17\" NUMERICAL mean:0.73465 min:0 max:16 sd:1.8132\n",
      "\t10: \"feature_18\" NUMERICAL mean:0.469475 min:0 max:13 sd:1.09107\n",
      "\t11: \"feature_19\" NUMERICAL mean:1.56844 min:-2 max:55 sd:4.769\n",
      "\t12: \"feature_2\" NUMERICAL mean:0.114788 min:0 max:6 sd:0.522026\n",
      "\t13: \"feature_20\" NUMERICAL mean:0.24245 min:0 max:17 sd:0.922452\n",
      "\t14: \"feature_21\" NUMERICAL mean:0.658088 min:0 max:36 sd:2.18274\n",
      "\t15: \"feature_22\" NUMERICAL mean:0.184237 min:0 max:4 sd:0.553845\n",
      "\t16: \"feature_23\" NUMERICAL mean:0.3852 min:0 max:19 sd:1.20982\n",
      "\t17: \"feature_24\" NUMERICAL mean:1.04442 min:0 max:34 sd:2.55388\n",
      "\t18: \"feature_25\" NUMERICAL mean:0.404012 min:0 max:23 sd:1.31354\n",
      "\t19: \"feature_26\" NUMERICAL mean:0.3504 min:0 max:21 sd:1.48293\n",
      "\t20: \"feature_27\" NUMERICAL mean:0.30025 min:0 max:31 sd:1.58217\n",
      "\t21: \"feature_28\" NUMERICAL mean:1.10157 min:0 max:23 sd:1.87142\n",
      "\t22: \"feature_29\" NUMERICAL mean:0.168813 min:0 max:13 sd:0.739013\n",
      "\t23: \"feature_3\" NUMERICAL mean:0.5936 min:0 max:26 sd:1.8415\n",
      "\t24: \"feature_30\" NUMERICAL mean:0.296538 min:-1 max:41 sd:1.36416\n",
      "\t25: \"feature_31\" NUMERICAL mean:1.36461 min:-1 max:46 sd:3.30822\n",
      "\t26: \"feature_32\" NUMERICAL mean:0.275725 min:-2 max:26 sd:1.4487\n",
      "\t27: \"feature_33\" NUMERICAL mean:0.61625 min:0 max:24 sd:2.29373\n",
      "\t28: \"feature_34\" NUMERICAL mean:1.12354 min:0 max:25 sd:2.4945\n",
      "\t29: \"feature_35\" NUMERICAL mean:0.915312 min:-2 max:43 sd:2.97898\n",
      "\t30: \"feature_36\" NUMERICAL mean:0.117325 min:0 max:3 sd:0.412595\n",
      "\t31: \"feature_37\" NUMERICAL mean:0.397537 min:0 max:14 sd:1.09281\n",
      "\t32: \"feature_38\" NUMERICAL mean:2.9926 min:-8 max:65 sd:5.364\n",
      "\t33: \"feature_39\" NUMERICAL mean:0.674175 min:-5 max:66 sd:3.72764\n",
      "\t34: \"feature_4\" NUMERICAL mean:0.600812 min:0 max:38 sd:2.79202\n",
      "\t35: \"feature_40\" NUMERICAL mean:0.7139 min:0 max:21 sd:1.7162\n",
      "\t36: \"feature_41\" NUMERICAL mean:0.580825 min:0 max:32 sd:2.00091\n",
      "\t37: \"feature_42\" NUMERICAL mean:0.529475 min:-1 max:37 sd:2.29883\n",
      "\t38: \"feature_43\" NUMERICAL mean:0.616788 min:0 max:33 sd:2.36072\n",
      "\t39: \"feature_44\" NUMERICAL mean:0.135112 min:0 max:9 sd:0.626823\n",
      "\t40: \"feature_45\" NUMERICAL mean:0.357612 min:0 max:26 sd:1.45712\n",
      "\t41: \"feature_46\" NUMERICAL mean:0.523025 min:0 max:29 sd:2.19063\n",
      "\t42: \"feature_47\" NUMERICAL mean:0.389525 min:0 max:25 sd:1.47919\n",
      "\t43: \"feature_48\" NUMERICAL mean:0.975675 min:0 max:44 sd:2.59667\n",
      "\t44: \"feature_49\" NUMERICAL mean:0.55825 min:0 max:20 sd:1.68137\n",
      "\t45: \"feature_5\" NUMERICAL mean:0.160738 min:0 max:10 sd:0.600875\n",
      "\t46: \"feature_6\" NUMERICAL mean:0.7223 min:0 max:27 sd:2.32434\n",
      "\t47: \"feature_7\" NUMERICAL mean:1.23275 min:0 max:31 sd:2.69584\n",
      "\t48: \"feature_8\" NUMERICAL mean:0.909875 min:0 max:39 sd:3.42601\n",
      "\t49: \"feature_9\" NUMERICAL mean:0.941225 min:0 max:17 sd:1.90531\n",
      "\n",
      "CATEGORICAL: 1 (1.96078%)\n",
      "\t50: \"__LABEL\" CATEGORICAL integerized vocab-size:5 no-ood-item\n",
      "\n",
      "Terminology:\n",
      "\tnas: Number of non-available (i.e. missing) values.\n",
      "\tood: Out of dictionary.\n",
      "\tmanually-defined: Attribute which type is manually defined by the user i.e. the type was not automatically inferred.\n",
      "\ttokenized: The attribute value is obtained through tokenization.\n",
      "\thas-dict: The attribute is attached to a string dictionary e.g. a categorical attribute stored as a string.\n",
      "\tvocab-size: Number of unique values.\n",
      "\n",
      "[INFO kernel.cc:762] Configure learner\n",
      "[WARNING gradient_boosted_trees.cc:1643] Subsample hyperparameter given but sampling method does not match.\n",
      "[WARNING gradient_boosted_trees.cc:1656] GOSS alpha hyperparameter given but GOSS is disabled.\n",
      "[WARNING gradient_boosted_trees.cc:1665] GOSS beta hyperparameter given but GOSS is disabled.\n",
      "[WARNING gradient_boosted_trees.cc:1677] SelGB ratio hyperparameter given but SelGB is disabled.\n",
      "[INFO kernel.cc:787] Training config:\n",
      "learner: \"GRADIENT_BOOSTED_TREES\"\n",
      "features: \"feature_0\"\n",
      "features: \"feature_1\"\n",
      "features: \"feature_10\"\n",
      "features: \"feature_11\"\n",
      "features: \"feature_12\"\n",
      "features: \"feature_13\"\n",
      "features: \"feature_14\"\n",
      "features: \"feature_15\"\n",
      "features: \"feature_16\"\n",
      "features: \"feature_17\"\n",
      "features: \"feature_18\"\n",
      "features: \"feature_19\"\n",
      "features: \"feature_2\"\n",
      "features: \"feature_20\"\n",
      "features: \"feature_21\"\n",
      "features: \"feature_22\"\n",
      "features: \"feature_23\"\n",
      "features: \"feature_24\"\n",
      "features: \"feature_25\"\n",
      "features: \"feature_26\"\n",
      "features: \"feature_27\"\n",
      "features: \"feature_28\"\n",
      "features: \"feature_29\"\n",
      "features: \"feature_3\"\n",
      "features: \"feature_30\"\n",
      "features: \"feature_31\"\n",
      "features: \"feature_32\"\n",
      "features: \"feature_33\"\n",
      "features: \"feature_34\"\n",
      "features: \"feature_35\"\n",
      "features: \"feature_36\"\n",
      "features: \"feature_37\"\n",
      "features: \"feature_38\"\n",
      "features: \"feature_39\"\n",
      "features: \"feature_4\"\n",
      "features: \"feature_40\"\n",
      "features: \"feature_41\"\n",
      "features: \"feature_42\"\n",
      "features: \"feature_43\"\n",
      "features: \"feature_44\"\n",
      "features: \"feature_45\"\n",
      "features: \"feature_46\"\n",
      "features: \"feature_47\"\n",
      "features: \"feature_48\"\n",
      "features: \"feature_49\"\n",
      "features: \"feature_5\"\n",
      "features: \"feature_6\"\n",
      "features: \"feature_7\"\n",
      "features: \"feature_8\"\n",
      "features: \"feature_9\"\n",
      "label: \"__LABEL\"\n",
      "task: CLASSIFICATION\n",
      "[yggdrasil_decision_forests.model.gradient_boosted_trees.proto.gradient_boosted_trees_config] {\n",
      "  num_trees: 1000\n",
      "  decision_tree {\n",
      "    max_depth: 6\n",
      "    min_examples: 5\n",
      "    in_split_min_examples_check: true\n",
      "    missing_value_policy: GLOBAL_IMPUTATION\n",
      "    allow_na_conditions: false\n",
      "    categorical_set_greedy_forward {\n",
      "      sampling: 0.1\n",
      "      max_num_items: -1\n",
      "      min_item_frequency: 1\n",
      "    }\n",
      "    growing_strategy_local {\n",
      "    }\n",
      "    categorical {\n",
      "      cart {\n",
      "      }\n",
      "    }\n",
      "    num_candidate_attributes_ratio: -1\n",
      "    axis_aligned_split {\n",
      "    }\n",
      "    internal {\n",
      "      sorting_strategy: PRESORTED\n",
      "    }\n",
      "  }\n",
      "  shrinkage: 0.1\n",
      "  validation_set_ratio: 0.1\n",
      "  early_stopping: VALIDATION_LOSS_INCREASE\n",
      "  early_stopping_num_trees_look_ahead: 30\n",
      "  l2_regularization: 0\n",
      "  lambda_loss: 1\n",
      "  mart {\n",
      "  }\n",
      "  adapt_subsample_for_maximum_training_duration: false\n",
      "  l1_regularization: 0\n",
      "  use_hessian_gain: false\n",
      "  l2_regularization_categorical: 1\n",
      "  apply_link_function: true\n",
      "  compute_permutation_variable_importance: false\n",
      "}\n",
      "\n",
      "[INFO kernel.cc:790] Deployment config:\n",
      "num_threads: 6\n",
      "\n",
      "[INFO kernel.cc:817] Train model\n",
      "[INFO gradient_boosted_trees.cc:404] Default loss set to MULTINOMIAL_LOG_LIKELIHOOD\n",
      "[INFO gradient_boosted_trees.cc:1001] Training gradient boosted tree on 80000 example(s) and 50 feature(s).\n",
      "[INFO gradient_boosted_trees.cc:1044] 72018 examples used for training and 7982 examples used for validation\n",
      "[INFO gradient_boosted_trees.cc:1426] \tnum-trees:1 train-loss:1.327071 train-accuracy:0.576731 valid-loss:1.328433 valid-accuracy:0.570534\n",
      "[INFO gradient_boosted_trees.cc:1428] \tnum-trees:2 train-loss:1.281466 train-accuracy:0.577161 valid-loss:1.283947 valid-accuracy:0.571661\n",
      "[INFO gradient_boosted_trees.cc:1428] \tnum-trees:73 train-loss:1.055223 train-accuracy:0.585590 valid-loss:1.100610 valid-accuracy:0.574919\n"
     ]
    },
    {
     "name": "stdout",
     "output_type": "stream",
     "text": [
      "1250/1250 [==============================] - 60s 48ms/step\n"
     ]
    },
    {
     "name": "stderr",
     "output_type": "stream",
     "text": [
      "[INFO gradient_boosted_trees.cc:2740] Early stop of the training because the validation loss does not decrease anymore. Best valid-loss: 1.09967\n",
      "[INFO gradient_boosted_trees.cc:229] Truncates the model to 464 tree(s) i.e. 116  iteration(s).\n",
      "[INFO gradient_boosted_trees.cc:263] Final model num-trees:116 valid-loss:1.099665 valid-accuracy:0.575169\n",
      "[INFO kernel.cc:828] Export model in log directory: /tmp/tmp656p4zrh\n",
      "[INFO kernel.cc:836] Save model in resources\n",
      "[INFO kernel.cc:988] Loading model from path\n",
      "[INFO decision_forest.cc:590] Model loaded with 464 root(s), 22584 node(s), and 50 input feature(s).\n",
      "[INFO abstract_model.cc:993] Engine \"GradientBoostedTreesGeneric\" built\n",
      "[INFO kernel.cc:848] Use fast generic engine\n"
     ]
    },
    {
     "name": "stdout",
     "output_type": "stream",
     "text": [
      "Model training time: 0:01:00.560325 \n",
      "\n"
     ]
    }
   ],
   "source": [
    "# Define the baseline model for benchmarking\n",
    "start_time_module = datetime.now()\n",
    "reset_random()\n",
    "Final_model = tfdf.keras.GradientBoostedTreesModel(num_trees=1000, task = tfdf.keras.Task.CLASSIFICATION)\n",
    "\n",
    "# Optionally, add evaluation metrics.\n",
    "Final_model.compile(metrics=DEFAULT_METRICS)\n",
    "\n",
    "# \"sys_pipes\" is optional. It enables the display of the training logs.\n",
    "# with sys_pipes():\n",
    "#     Final_model.fit(x=tfds_train)\n",
    "\n",
    "# Train the model.\n",
    "Final_model.fit(x=tfds_train)\n",
    "print ('Model training time:', (datetime.now() - start_time_module), '\\n')"
   ]
  },
  {
   "cell_type": "code",
   "execution_count": 51,
   "metadata": {
    "colab": {
     "base_uri": "https://localhost:8080/"
    },
    "id": "IuwcWWXF89YM",
    "outputId": "8c7eda00-c5ca-4c03-8cdc-4cb0f34f22bc"
   },
   "outputs": [
    {
     "name": "stdout",
     "output_type": "stream",
     "text": [
      "Model: \"gradient_boosted_trees_model_5\"\n",
      "_________________________________________________________________\n",
      " Layer (type)                Output Shape              Param #   \n",
      "=================================================================\n",
      "=================================================================\n",
      "Total params: 1\n",
      "Trainable params: 0\n",
      "Non-trainable params: 1\n",
      "_________________________________________________________________\n",
      "Type: \"GRADIENT_BOOSTED_TREES\"\n",
      "Task: CLASSIFICATION\n",
      "Label: \"__LABEL\"\n",
      "\n",
      "Input Features (50):\n",
      "\tfeature_0\n",
      "\tfeature_1\n",
      "\tfeature_10\n",
      "\tfeature_11\n",
      "\tfeature_12\n",
      "\tfeature_13\n",
      "\tfeature_14\n",
      "\tfeature_15\n",
      "\tfeature_16\n",
      "\tfeature_17\n",
      "\tfeature_18\n",
      "\tfeature_19\n",
      "\tfeature_2\n",
      "\tfeature_20\n",
      "\tfeature_21\n",
      "\tfeature_22\n",
      "\tfeature_23\n",
      "\tfeature_24\n",
      "\tfeature_25\n",
      "\tfeature_26\n",
      "\tfeature_27\n",
      "\tfeature_28\n",
      "\tfeature_29\n",
      "\tfeature_3\n",
      "\tfeature_30\n",
      "\tfeature_31\n",
      "\tfeature_32\n",
      "\tfeature_33\n",
      "\tfeature_34\n",
      "\tfeature_35\n",
      "\tfeature_36\n",
      "\tfeature_37\n",
      "\tfeature_38\n",
      "\tfeature_39\n",
      "\tfeature_4\n",
      "\tfeature_40\n",
      "\tfeature_41\n",
      "\tfeature_42\n",
      "\tfeature_43\n",
      "\tfeature_44\n",
      "\tfeature_45\n",
      "\tfeature_46\n",
      "\tfeature_47\n",
      "\tfeature_48\n",
      "\tfeature_49\n",
      "\tfeature_5\n",
      "\tfeature_6\n",
      "\tfeature_7\n",
      "\tfeature_8\n",
      "\tfeature_9\n",
      "\n",
      "No weights\n",
      "\n",
      "Variable Importance: MEAN_MIN_DEPTH:\n",
      "    1.    \"__LABEL\"  4.771358 ################\n",
      "    2. \"feature_36\"  4.643862 ###########\n",
      "    3. \"feature_44\"  4.632089 ###########\n",
      "    4.  \"feature_8\"  4.622675 ###########\n",
      "    5.  \"feature_4\"  4.600095 ##########\n",
      "    6. \"feature_43\"  4.597831 ##########\n",
      "    7. \"feature_21\"  4.595987 ##########\n",
      "    8. \"feature_27\"  4.595566 ##########\n",
      "    9. \"feature_13\"  4.583360 ##########\n",
      "   10. \"feature_47\"  4.583197 ##########\n",
      "   11.  \"feature_3\"  4.569984 #########\n",
      "   12. \"feature_49\"  4.562962 #########\n",
      "   13. \"feature_12\"  4.561318 #########\n",
      "   14.  \"feature_0\"  4.560314 #########\n",
      "   15. \"feature_19\"  4.558528 #########\n",
      "   16. \"feature_33\"  4.556033 #########\n",
      "   17. \"feature_22\"  4.553626 #########\n",
      "   18. \"feature_35\"  4.553008 #########\n",
      "   19. \"feature_41\"  4.552784 #########\n",
      "   20. \"feature_48\"  4.539223 ########\n",
      "   21.  \"feature_7\"  4.537585 ########\n",
      "   22.  \"feature_2\"  4.533030 ########\n",
      "   23. \"feature_26\"  4.528688 ########\n",
      "   24. \"feature_17\"  4.518257 #######\n",
      "   25. \"feature_46\"  4.508231 #######\n",
      "   26.  \"feature_5\"  4.507717 #######\n",
      "   27. \"feature_39\"  4.507420 #######\n",
      "   28. \"feature_32\"  4.504017 #######\n",
      "   29.  \"feature_9\"  4.501877 #######\n",
      "   30. \"feature_11\"  4.499411 #######\n",
      "   31. \"feature_40\"  4.499410 #######\n",
      "   32. \"feature_34\"  4.490205 #######\n",
      "   33. \"feature_20\"  4.481171 ######\n",
      "   34. \"feature_28\"  4.475333 ######\n",
      "   35. \"feature_42\"  4.468901 ######\n",
      "   36. \"feature_30\"  4.468117 ######\n",
      "   37. \"feature_23\"  4.459519 ######\n",
      "   38. \"feature_24\"  4.458022 ######\n",
      "   39.  \"feature_1\"  4.455310 #####\n",
      "   40. \"feature_18\"  4.451708 #####\n",
      "   41. \"feature_37\"  4.450099 #####\n",
      "   42. \"feature_10\"  4.446850 #####\n",
      "   43. \"feature_25\"  4.437684 #####\n",
      "   44. \"feature_16\"  4.426872 #####\n",
      "   45. \"feature_29\"  4.419028 ####\n",
      "   46.  \"feature_6\"  4.412951 ####\n",
      "   47. \"feature_45\"  4.411281 ####\n",
      "   48. \"feature_38\"  4.386181 ###\n",
      "   49. \"feature_15\"  4.381905 ###\n",
      "   50. \"feature_31\"  4.303681 #\n",
      "   51. \"feature_14\"  4.268883 \n",
      "\n",
      "Variable Importance: NUM_AS_ROOT:\n",
      "    1. \"feature_29\" 23.000000 ################\n",
      "    2. \"feature_31\" 20.000000 #############\n",
      "    3. \"feature_25\" 17.000000 ###########\n",
      "    4. \"feature_45\" 17.000000 ###########\n",
      "    5. \"feature_14\" 16.000000 ##########\n",
      "    6. \"feature_16\" 16.000000 ##########\n",
      "    7.  \"feature_6\" 16.000000 ##########\n",
      "    8.  \"feature_1\" 15.000000 ##########\n",
      "    9. \"feature_10\" 15.000000 ##########\n",
      "   10. \"feature_24\" 15.000000 ##########\n",
      "   11. \"feature_30\" 15.000000 ##########\n",
      "   12. \"feature_11\" 14.000000 #########\n",
      "   13. \"feature_20\" 14.000000 #########\n",
      "   14. \"feature_42\" 14.000000 #########\n",
      "   15. \"feature_18\" 13.000000 ########\n",
      "   16. \"feature_37\" 13.000000 ########\n",
      "   17.  \"feature_5\" 13.000000 ########\n",
      "   18. \"feature_15\" 12.000000 ########\n",
      "   19.  \"feature_2\" 12.000000 ########\n",
      "   20. \"feature_22\" 12.000000 ########\n",
      "   21. \"feature_23\" 11.000000 #######\n",
      "   22. \"feature_38\" 11.000000 #######\n",
      "   23. \"feature_40\" 11.000000 #######\n",
      "   24. \"feature_46\"  9.000000 #####\n",
      "   25. \"feature_13\"  8.000000 #####\n",
      "   26. \"feature_17\"  8.000000 #####\n",
      "   27. \"feature_32\"  8.000000 #####\n",
      "   28.  \"feature_0\"  7.000000 ####\n",
      "   29. \"feature_28\"  7.000000 ####\n",
      "   30.  \"feature_3\"  7.000000 ####\n",
      "   31. \"feature_41\"  7.000000 ####\n",
      "   32. \"feature_26\"  6.000000 ###\n",
      "   33. \"feature_39\"  6.000000 ###\n",
      "   34.  \"feature_7\"  6.000000 ###\n",
      "   35. \"feature_47\"  5.000000 ##\n",
      "   36. \"feature_21\"  4.000000 ##\n",
      "   37. \"feature_33\"  4.000000 ##\n",
      "   38. \"feature_36\"  4.000000 ##\n",
      "   39. \"feature_48\"  4.000000 ##\n",
      "   40.  \"feature_9\"  4.000000 ##\n",
      "   41. \"feature_12\"  3.000000 #\n",
      "   42. \"feature_27\"  3.000000 #\n",
      "   43. \"feature_35\"  3.000000 #\n",
      "   44. \"feature_43\"  3.000000 #\n",
      "   45. \"feature_49\"  3.000000 #\n",
      "   46.  \"feature_8\"  3.000000 #\n",
      "   47. \"feature_19\"  2.000000 \n",
      "   48. \"feature_34\"  2.000000 \n",
      "   49. \"feature_44\"  2.000000 \n",
      "   50.  \"feature_4\"  1.000000 \n",
      "\n",
      "Variable Importance: NUM_NODES:\n",
      "    1. \"feature_38\" 500.000000 ################\n",
      "    2. \"feature_14\" 490.000000 ###############\n",
      "    3. \"feature_15\" 384.000000 ###########\n",
      "    4. \"feature_31\" 337.000000 #########\n",
      "    5. \"feature_34\" 332.000000 #########\n",
      "    6. \"feature_28\" 323.000000 #########\n",
      "    7.  \"feature_9\" 298.000000 ########\n",
      "    8. \"feature_48\" 291.000000 #######\n",
      "    9.  \"feature_7\" 273.000000 #######\n",
      "   10. \"feature_19\" 251.000000 ######\n",
      "   11. \"feature_39\" 249.000000 ######\n",
      "   12.  \"feature_6\" 244.000000 ######\n",
      "   13. \"feature_35\" 240.000000 #####\n",
      "   14. \"feature_26\" 230.000000 #####\n",
      "   15. \"feature_37\" 230.000000 #####\n",
      "   16. \"feature_18\" 229.000000 #####\n",
      "   17. \"feature_23\" 228.000000 #####\n",
      "   18. \"feature_40\" 227.000000 #####\n",
      "   19. \"feature_24\" 225.000000 #####\n",
      "   20. \"feature_12\" 223.000000 #####\n",
      "   21. \"feature_17\" 222.000000 #####\n",
      "   22. \"feature_45\" 216.000000 ####\n",
      "   23. \"feature_49\" 212.000000 ####\n",
      "   24. \"feature_10\" 211.000000 ####\n",
      "   25. \"feature_42\" 209.000000 ####\n",
      "   26. \"feature_30\" 208.000000 ####\n",
      "   27. \"feature_47\" 202.000000 ####\n",
      "   28. \"feature_21\" 201.000000 ####\n",
      "   29.  \"feature_8\" 200.000000 ####\n",
      "   30.  \"feature_1\" 198.000000 ####\n",
      "   31. \"feature_32\" 198.000000 ####\n",
      "   32. \"feature_41\" 197.000000 ####\n",
      "   33. \"feature_43\" 195.000000 ####\n",
      "   34. \"feature_33\" 194.000000 ####\n",
      "   35.  \"feature_4\" 189.000000 ###\n",
      "   36. \"feature_46\" 185.000000 ###\n",
      "   37. \"feature_16\" 184.000000 ###\n",
      "   38. \"feature_11\" 182.000000 ###\n",
      "   39.  \"feature_3\" 180.000000 ###\n",
      "   40. \"feature_27\" 173.000000 ###\n",
      "   41. \"feature_25\" 160.000000 ##\n",
      "   42.  \"feature_5\" 158.000000 ##\n",
      "   43. \"feature_20\" 157.000000 ##\n",
      "   44. \"feature_29\" 141.000000 #\n",
      "   45.  \"feature_2\" 136.000000 #\n",
      "   46. \"feature_44\" 128.000000 #\n",
      "   47.  \"feature_0\" 119.000000 #\n",
      "   48. \"feature_22\" 117.000000 #\n",
      "   49. \"feature_13\" 94.000000 \n",
      "   50. \"feature_36\" 90.000000 \n",
      "\n",
      "Variable Importance: SUM_SCORE:\n",
      "    1. \"feature_14\" 635.727670 ################\n",
      "    2. \"feature_15\" 554.017865 #############\n",
      "    3. \"feature_34\" 455.054519 ##########\n",
      "    4.  \"feature_2\" 434.702929 #########\n",
      "    5. \"feature_38\" 415.134928 ########\n",
      "    6.  \"feature_6\" 413.230834 ########\n",
      "    7. \"feature_28\" 392.687892 ########\n",
      "    8. \"feature_31\" 363.393826 #######\n",
      "    9. \"feature_30\" 334.641249 ######\n",
      "   10. \"feature_48\" 311.918574 #####\n",
      "   11. \"feature_37\" 310.782009 #####\n",
      "   12. \"feature_39\" 304.254481 #####\n",
      "   13. \"feature_32\" 304.042230 #####\n",
      "   14.  \"feature_9\" 297.511918 ####\n",
      "   15.  \"feature_1\" 291.363849 ####\n",
      "   16. \"feature_35\" 288.591798 ####\n",
      "   17. \"feature_12\" 288.268053 ####\n",
      "   18. \"feature_42\" 283.919583 ####\n",
      "   19. \"feature_26\" 273.407141 ####\n",
      "   20. \"feature_19\" 259.434518 ###\n",
      "   21. \"feature_13\" 259.277141 ###\n",
      "   22. \"feature_10\" 259.158584 ###\n",
      "   23.  \"feature_7\" 253.168082 ###\n",
      "   24.  \"feature_5\" 249.626475 ###\n",
      "   25. \"feature_11\" 248.545926 ###\n",
      "   26. \"feature_45\" 244.350189 ###\n",
      "   27. \"feature_18\" 243.382864 ###\n",
      "   28. \"feature_43\" 238.701109 ###\n",
      "   29. \"feature_16\" 236.252977 ##\n",
      "   30. \"feature_33\" 228.276305 ##\n",
      "   31. \"feature_23\" 226.658257 ##\n",
      "   32. \"feature_47\" 222.809531 ##\n",
      "   33. \"feature_25\" 221.531591 ##\n",
      "   34. \"feature_29\" 216.645606 ##\n",
      "   35. \"feature_24\" 212.386719 ##\n",
      "   36. \"feature_40\" 209.980313 ##\n",
      "   37. \"feature_20\" 203.168474 #\n",
      "   38. \"feature_46\" 198.948141 #\n",
      "   39. \"feature_27\" 197.977771 #\n",
      "   40.  \"feature_0\" 186.828388 #\n",
      "   41. \"feature_17\" 185.797771 #\n",
      "   42. \"feature_41\" 183.555738 #\n",
      "   43. \"feature_21\" 177.825000 #\n",
      "   44. \"feature_36\" 174.622007 \n",
      "   45. \"feature_44\" 169.703914 \n",
      "   46. \"feature_49\" 168.523727 \n",
      "   47.  \"feature_4\" 164.217292 \n",
      "   48.  \"feature_8\" 158.655879 \n",
      "   49. \"feature_22\" 148.141576 \n",
      "   50.  \"feature_3\" 144.364159 \n",
      "\n",
      "\n",
      "\n",
      "Loss: MULTINOMIAL_LOG_LIKELIHOOD\n",
      "Validation loss value: 1.09967\n",
      "Number of trees per iteration: 4\n",
      "Node format: NOT_SET\n",
      "Number of trees: 464\n",
      "Total number of nodes: 22584\n",
      "\n",
      "Number of nodes by tree:\n",
      "Count: 464 Average: 48.6724 StdDev: 8.87244\n",
      "Min: 19 Max: 63 Ignored: 0\n",
      "----------------------------------------------\n",
      "[ 19, 21)  4   0.86%   0.86% #\n",
      "[ 21, 23)  3   0.65%   1.51%\n",
      "[ 23, 25)  1   0.22%   1.72%\n",
      "[ 25, 28)  3   0.65%   2.37%\n",
      "[ 28, 30)  1   0.22%   2.59%\n",
      "[ 30, 32) 11   2.37%   4.96% ##\n",
      "[ 32, 34)  7   1.51%   6.47% #\n",
      "[ 34, 37)  8   1.72%   8.19% #\n",
      "[ 37, 39) 15   3.23%  11.42% ##\n",
      "[ 39, 41) 18   3.88%  15.30% ###\n",
      "[ 41, 43) 27   5.82%  21.12% ####\n",
      "[ 43, 46) 70  15.09%  36.21% ##########\n",
      "[ 46, 48) 29   6.25%  42.46% ####\n",
      "[ 48, 50) 34   7.33%  49.78% #####\n",
      "[ 50, 52) 48  10.34%  60.13% #######\n",
      "[ 52, 55) 34   7.33%  67.46% #####\n",
      "[ 55, 57) 44   9.48%  76.94% ######\n",
      "[ 57, 59) 43   9.27%  86.21% ######\n",
      "[ 59, 61) 31   6.68%  92.89% ####\n",
      "[ 61, 63] 33   7.11% 100.00% #####\n",
      "\n",
      "Depth by leafs:\n",
      "Count: 11524 Average: 4.79938 StdDev: 0.553942\n",
      "Min: 1 Max: 5 Ignored: 0\n",
      "----------------------------------------------\n",
      "[ 1, 2)   10   0.09%   0.09%\n",
      "[ 2, 3)  118   1.02%   1.11%\n",
      "[ 3, 4)  430   3.73%   4.84%\n",
      "[ 4, 5) 1058   9.18%  14.02% #\n",
      "[ 5, 5] 9908  85.98% 100.00% ##########\n",
      "\n",
      "Number of training obs by leaf:\n",
      "Count: 11524 Average: 2899.72 StdDev: 8833.2\n",
      "Min: 5 Max: 71245 Ignored: 0\n",
      "----------------------------------------------\n",
      "[     5,  3567) 9758  84.68%  84.68% ##########\n",
      "[  3567,  7129)  622   5.40%  90.07% #\n",
      "[  7129, 10691)  337   2.92%  93.00%\n",
      "[ 10691, 14253)  186   1.61%  94.61%\n",
      "[ 14253, 17815)   87   0.75%  95.37%\n",
      "[ 17815, 21377)   55   0.48%  95.84%\n",
      "[ 21377, 24939)   52   0.45%  96.29%\n",
      "[ 24939, 28501)   49   0.43%  96.72%\n",
      "[ 28501, 32063)   47   0.41%  97.13%\n",
      "[ 32063, 35625)   43   0.37%  97.50%\n",
      "[ 35625, 39187)   46   0.40%  97.90%\n",
      "[ 39187, 42749)   34   0.30%  98.20%\n",
      "[ 42749, 46311)   42   0.36%  98.56%\n",
      "[ 46311, 49873)   30   0.26%  98.82%\n",
      "[ 49873, 53435)   45   0.39%  99.21%\n",
      "[ 53435, 56997)   34   0.30%  99.51%\n",
      "[ 56997, 60559)   21   0.18%  99.69%\n",
      "[ 60559, 64121)   17   0.15%  99.84%\n",
      "[ 64121, 67683)    8   0.07%  99.90%\n",
      "[ 67683, 71245]   11   0.10% 100.00%\n",
      "\n",
      "Attribute in nodes:\n",
      "\t500 : feature_38 [NUMERICAL]\n",
      "\t490 : feature_14 [NUMERICAL]\n",
      "\t384 : feature_15 [NUMERICAL]\n",
      "\t337 : feature_31 [NUMERICAL]\n",
      "\t332 : feature_34 [NUMERICAL]\n",
      "\t323 : feature_28 [NUMERICAL]\n",
      "\t298 : feature_9 [NUMERICAL]\n",
      "\t291 : feature_48 [NUMERICAL]\n",
      "\t273 : feature_7 [NUMERICAL]\n",
      "\t251 : feature_19 [NUMERICAL]\n",
      "\t249 : feature_39 [NUMERICAL]\n",
      "\t244 : feature_6 [NUMERICAL]\n",
      "\t240 : feature_35 [NUMERICAL]\n",
      "\t230 : feature_37 [NUMERICAL]\n",
      "\t230 : feature_26 [NUMERICAL]\n",
      "\t229 : feature_18 [NUMERICAL]\n",
      "\t228 : feature_23 [NUMERICAL]\n",
      "\t227 : feature_40 [NUMERICAL]\n",
      "\t225 : feature_24 [NUMERICAL]\n",
      "\t223 : feature_12 [NUMERICAL]\n",
      "\t222 : feature_17 [NUMERICAL]\n",
      "\t216 : feature_45 [NUMERICAL]\n",
      "\t212 : feature_49 [NUMERICAL]\n",
      "\t211 : feature_10 [NUMERICAL]\n",
      "\t209 : feature_42 [NUMERICAL]\n",
      "\t208 : feature_30 [NUMERICAL]\n",
      "\t202 : feature_47 [NUMERICAL]\n",
      "\t201 : feature_21 [NUMERICAL]\n",
      "\t200 : feature_8 [NUMERICAL]\n",
      "\t198 : feature_32 [NUMERICAL]\n",
      "\t198 : feature_1 [NUMERICAL]\n",
      "\t197 : feature_41 [NUMERICAL]\n",
      "\t195 : feature_43 [NUMERICAL]\n",
      "\t194 : feature_33 [NUMERICAL]\n",
      "\t189 : feature_4 [NUMERICAL]\n",
      "\t185 : feature_46 [NUMERICAL]\n",
      "\t184 : feature_16 [NUMERICAL]\n",
      "\t182 : feature_11 [NUMERICAL]\n",
      "\t180 : feature_3 [NUMERICAL]\n",
      "\t173 : feature_27 [NUMERICAL]\n",
      "\t160 : feature_25 [NUMERICAL]\n",
      "\t158 : feature_5 [NUMERICAL]\n",
      "\t157 : feature_20 [NUMERICAL]\n",
      "\t141 : feature_29 [NUMERICAL]\n",
      "\t136 : feature_2 [NUMERICAL]\n",
      "\t128 : feature_44 [NUMERICAL]\n",
      "\t119 : feature_0 [NUMERICAL]\n",
      "\t117 : feature_22 [NUMERICAL]\n",
      "\t94 : feature_13 [NUMERICAL]\n",
      "\t90 : feature_36 [NUMERICAL]\n",
      "\n",
      "Attribute in nodes with depth <= 0:\n",
      "\t23 : feature_29 [NUMERICAL]\n",
      "\t20 : feature_31 [NUMERICAL]\n",
      "\t17 : feature_45 [NUMERICAL]\n",
      "\t17 : feature_25 [NUMERICAL]\n",
      "\t16 : feature_6 [NUMERICAL]\n",
      "\t16 : feature_16 [NUMERICAL]\n",
      "\t16 : feature_14 [NUMERICAL]\n",
      "\t15 : feature_30 [NUMERICAL]\n",
      "\t15 : feature_24 [NUMERICAL]\n",
      "\t15 : feature_10 [NUMERICAL]\n",
      "\t15 : feature_1 [NUMERICAL]\n",
      "\t14 : feature_42 [NUMERICAL]\n",
      "\t14 : feature_20 [NUMERICAL]\n",
      "\t14 : feature_11 [NUMERICAL]\n",
      "\t13 : feature_5 [NUMERICAL]\n",
      "\t13 : feature_37 [NUMERICAL]\n",
      "\t13 : feature_18 [NUMERICAL]\n",
      "\t12 : feature_22 [NUMERICAL]\n",
      "\t12 : feature_2 [NUMERICAL]\n",
      "\t12 : feature_15 [NUMERICAL]\n",
      "\t11 : feature_40 [NUMERICAL]\n",
      "\t11 : feature_38 [NUMERICAL]\n",
      "\t11 : feature_23 [NUMERICAL]\n",
      "\t9 : feature_46 [NUMERICAL]\n",
      "\t8 : feature_32 [NUMERICAL]\n",
      "\t8 : feature_17 [NUMERICAL]\n",
      "\t8 : feature_13 [NUMERICAL]\n",
      "\t7 : feature_41 [NUMERICAL]\n",
      "\t7 : feature_3 [NUMERICAL]\n",
      "\t7 : feature_28 [NUMERICAL]\n",
      "\t7 : feature_0 [NUMERICAL]\n",
      "\t6 : feature_7 [NUMERICAL]\n",
      "\t6 : feature_39 [NUMERICAL]\n",
      "\t6 : feature_26 [NUMERICAL]\n",
      "\t5 : feature_47 [NUMERICAL]\n",
      "\t4 : feature_9 [NUMERICAL]\n",
      "\t4 : feature_48 [NUMERICAL]\n",
      "\t4 : feature_36 [NUMERICAL]\n",
      "\t4 : feature_33 [NUMERICAL]\n",
      "\t4 : feature_21 [NUMERICAL]\n",
      "\t3 : feature_8 [NUMERICAL]\n",
      "\t3 : feature_49 [NUMERICAL]\n",
      "\t3 : feature_43 [NUMERICAL]\n",
      "\t3 : feature_35 [NUMERICAL]\n",
      "\t3 : feature_27 [NUMERICAL]\n",
      "\t3 : feature_12 [NUMERICAL]\n",
      "\t2 : feature_44 [NUMERICAL]\n",
      "\t2 : feature_34 [NUMERICAL]\n",
      "\t2 : feature_19 [NUMERICAL]\n",
      "\t1 : feature_4 [NUMERICAL]\n",
      "\n",
      "Attribute in nodes with depth <= 1:\n",
      "\t56 : feature_31 [NUMERICAL]\n",
      "\t52 : feature_14 [NUMERICAL]\n",
      "\t40 : feature_29 [NUMERICAL]\n",
      "\t38 : feature_6 [NUMERICAL]\n",
      "\t38 : feature_45 [NUMERICAL]\n",
      "\t37 : feature_18 [NUMERICAL]\n",
      "\t37 : feature_16 [NUMERICAL]\n",
      "\t36 : feature_15 [NUMERICAL]\n",
      "\t35 : feature_38 [NUMERICAL]\n",
      "\t35 : feature_24 [NUMERICAL]\n",
      "\t34 : feature_10 [NUMERICAL]\n",
      "\t33 : feature_5 [NUMERICAL]\n",
      "\t33 : feature_23 [NUMERICAL]\n",
      "\t33 : feature_1 [NUMERICAL]\n",
      "\t32 : feature_40 [NUMERICAL]\n",
      "\t32 : feature_25 [NUMERICAL]\n",
      "\t32 : feature_20 [NUMERICAL]\n",
      "\t31 : feature_39 [NUMERICAL]\n",
      "\t31 : feature_37 [NUMERICAL]\n",
      "\t31 : feature_30 [NUMERICAL]\n",
      "\t29 : feature_46 [NUMERICAL]\n",
      "\t29 : feature_42 [NUMERICAL]\n",
      "\t29 : feature_11 [NUMERICAL]\n",
      "\t28 : feature_32 [NUMERICAL]\n",
      "\t28 : feature_28 [NUMERICAL]\n",
      "\t27 : feature_34 [NUMERICAL]\n",
      "\t27 : feature_26 [NUMERICAL]\n",
      "\t26 : feature_9 [NUMERICAL]\n",
      "\t26 : feature_17 [NUMERICAL]\n",
      "\t24 : feature_41 [NUMERICAL]\n",
      "\t24 : feature_33 [NUMERICAL]\n",
      "\t24 : feature_12 [NUMERICAL]\n",
      "\t24 : feature_0 [NUMERICAL]\n",
      "\t22 : feature_7 [NUMERICAL]\n",
      "\t22 : feature_49 [NUMERICAL]\n",
      "\t22 : feature_35 [NUMERICAL]\n",
      "\t22 : feature_3 [NUMERICAL]\n",
      "\t22 : feature_2 [NUMERICAL]\n",
      "\t21 : feature_22 [NUMERICAL]\n",
      "\t19 : feature_48 [NUMERICAL]\n",
      "\t19 : feature_27 [NUMERICAL]\n",
      "\t19 : feature_21 [NUMERICAL]\n",
      "\t19 : feature_19 [NUMERICAL]\n",
      "\t18 : feature_47 [NUMERICAL]\n",
      "\t18 : feature_13 [NUMERICAL]\n",
      "\t17 : feature_4 [NUMERICAL]\n",
      "\t14 : feature_44 [NUMERICAL]\n",
      "\t14 : feature_36 [NUMERICAL]\n",
      "\t12 : feature_8 [NUMERICAL]\n",
      "\t11 : feature_43 [NUMERICAL]\n",
      "\n",
      "Attribute in nodes with depth <= 2:\n",
      "\t126 : feature_14 [NUMERICAL]\n",
      "\t101 : feature_38 [NUMERICAL]\n",
      "\t96 : feature_15 [NUMERICAL]\n",
      "\t95 : feature_34 [NUMERICAL]\n",
      "\t95 : feature_31 [NUMERICAL]\n",
      "\t79 : feature_9 [NUMERICAL]\n",
      "\t79 : feature_28 [NUMERICAL]\n",
      "\t73 : feature_45 [NUMERICAL]\n",
      "\t73 : feature_18 [NUMERICAL]\n",
      "\t72 : feature_37 [NUMERICAL]\n",
      "\t70 : feature_10 [NUMERICAL]\n",
      "\t69 : feature_39 [NUMERICAL]\n",
      "\t69 : feature_32 [NUMERICAL]\n",
      "\t69 : feature_24 [NUMERICAL]\n",
      "\t68 : feature_48 [NUMERICAL]\n",
      "\t68 : feature_26 [NUMERICAL]\n",
      "\t67 : feature_6 [NUMERICAL]\n",
      "\t67 : feature_42 [NUMERICAL]\n",
      "\t67 : feature_23 [NUMERICAL]\n",
      "\t66 : feature_40 [NUMERICAL]\n",
      "\t66 : feature_19 [NUMERICAL]\n",
      "\t66 : feature_16 [NUMERICAL]\n",
      "\t62 : feature_30 [NUMERICAL]\n",
      "\t62 : feature_20 [NUMERICAL]\n",
      "\t60 : feature_25 [NUMERICAL]\n",
      "\t59 : feature_12 [NUMERICAL]\n",
      "\t59 : feature_1 [NUMERICAL]\n",
      "\t58 : feature_29 [NUMERICAL]\n",
      "\t57 : feature_46 [NUMERICAL]\n",
      "\t57 : feature_17 [NUMERICAL]\n",
      "\t56 : feature_35 [NUMERICAL]\n",
      "\t56 : feature_33 [NUMERICAL]\n",
      "\t56 : feature_11 [NUMERICAL]\n",
      "\t55 : feature_7 [NUMERICAL]\n",
      "\t55 : feature_49 [NUMERICAL]\n",
      "\t53 : feature_5 [NUMERICAL]\n",
      "\t53 : feature_41 [NUMERICAL]\n",
      "\t51 : feature_21 [NUMERICAL]\n",
      "\t46 : feature_47 [NUMERICAL]\n",
      "\t46 : feature_43 [NUMERICAL]\n",
      "\t46 : feature_4 [NUMERICAL]\n",
      "\t45 : feature_27 [NUMERICAL]\n",
      "\t43 : feature_2 [NUMERICAL]\n",
      "\t41 : feature_13 [NUMERICAL]\n",
      "\t40 : feature_44 [NUMERICAL]\n",
      "\t40 : feature_3 [NUMERICAL]\n",
      "\t40 : feature_22 [NUMERICAL]\n",
      "\t40 : feature_0 [NUMERICAL]\n",
      "\t39 : feature_8 [NUMERICAL]\n",
      "\t24 : feature_36 [NUMERICAL]\n",
      "\n",
      "Attribute in nodes with depth <= 3:\n",
      "\t253 : feature_14 [NUMERICAL]\n",
      "\t237 : feature_38 [NUMERICAL]\n",
      "\t206 : feature_15 [NUMERICAL]\n",
      "\t190 : feature_31 [NUMERICAL]\n",
      "\t185 : feature_34 [NUMERICAL]\n",
      "\t165 : feature_28 [NUMERICAL]\n",
      "\t159 : feature_9 [NUMERICAL]\n",
      "\t145 : feature_48 [NUMERICAL]\n",
      "\t141 : feature_37 [NUMERICAL]\n",
      "\t139 : feature_23 [NUMERICAL]\n",
      "\t137 : feature_7 [NUMERICAL]\n",
      "\t135 : feature_6 [NUMERICAL]\n",
      "\t135 : feature_24 [NUMERICAL]\n",
      "\t132 : feature_35 [NUMERICAL]\n",
      "\t131 : feature_42 [NUMERICAL]\n",
      "\t130 : feature_19 [NUMERICAL]\n",
      "\t128 : feature_40 [NUMERICAL]\n",
      "\t128 : feature_18 [NUMERICAL]\n",
      "\t127 : feature_45 [NUMERICAL]\n",
      "\t127 : feature_39 [NUMERICAL]\n",
      "\t125 : feature_32 [NUMERICAL]\n",
      "\t124 : feature_26 [NUMERICAL]\n",
      "\t122 : feature_10 [NUMERICAL]\n",
      "\t119 : feature_17 [NUMERICAL]\n",
      "\t117 : feature_12 [NUMERICAL]\n",
      "\t114 : feature_4 [NUMERICAL]\n",
      "\t111 : feature_1 [NUMERICAL]\n",
      "\t110 : feature_30 [NUMERICAL]\n",
      "\t110 : feature_16 [NUMERICAL]\n",
      "\t108 : feature_33 [NUMERICAL]\n",
      "\t107 : feature_46 [NUMERICAL]\n",
      "\t106 : feature_8 [NUMERICAL]\n",
      "\t106 : feature_41 [NUMERICAL]\n",
      "\t105 : feature_47 [NUMERICAL]\n",
      "\t103 : feature_20 [NUMERICAL]\n",
      "\t102 : feature_49 [NUMERICAL]\n",
      "\t102 : feature_43 [NUMERICAL]\n",
      "\t100 : feature_11 [NUMERICAL]\n",
      "\t99 : feature_21 [NUMERICAL]\n",
      "\t96 : feature_27 [NUMERICAL]\n",
      "\t96 : feature_25 [NUMERICAL]\n",
      "\t92 : feature_3 [NUMERICAL]\n",
      "\t90 : feature_29 [NUMERICAL]\n",
      "\t89 : feature_5 [NUMERICAL]\n",
      "\t77 : feature_22 [NUMERICAL]\n",
      "\t77 : feature_2 [NUMERICAL]\n",
      "\t77 : feature_0 [NUMERICAL]\n",
      "\t73 : feature_44 [NUMERICAL]\n",
      "\t60 : feature_13 [NUMERICAL]\n",
      "\t59 : feature_36 [NUMERICAL]\n",
      "\n",
      "Attribute in nodes with depth <= 5:\n",
      "\t500 : feature_38 [NUMERICAL]\n",
      "\t490 : feature_14 [NUMERICAL]\n",
      "\t384 : feature_15 [NUMERICAL]\n",
      "\t337 : feature_31 [NUMERICAL]\n",
      "\t332 : feature_34 [NUMERICAL]\n",
      "\t323 : feature_28 [NUMERICAL]\n",
      "\t298 : feature_9 [NUMERICAL]\n",
      "\t291 : feature_48 [NUMERICAL]\n",
      "\t273 : feature_7 [NUMERICAL]\n",
      "\t251 : feature_19 [NUMERICAL]\n",
      "\t249 : feature_39 [NUMERICAL]\n",
      "\t244 : feature_6 [NUMERICAL]\n",
      "\t240 : feature_35 [NUMERICAL]\n",
      "\t230 : feature_37 [NUMERICAL]\n",
      "\t230 : feature_26 [NUMERICAL]\n",
      "\t229 : feature_18 [NUMERICAL]\n",
      "\t228 : feature_23 [NUMERICAL]\n",
      "\t227 : feature_40 [NUMERICAL]\n",
      "\t225 : feature_24 [NUMERICAL]\n",
      "\t223 : feature_12 [NUMERICAL]\n",
      "\t222 : feature_17 [NUMERICAL]\n",
      "\t216 : feature_45 [NUMERICAL]\n",
      "\t212 : feature_49 [NUMERICAL]\n",
      "\t211 : feature_10 [NUMERICAL]\n",
      "\t209 : feature_42 [NUMERICAL]\n",
      "\t208 : feature_30 [NUMERICAL]\n",
      "\t202 : feature_47 [NUMERICAL]\n",
      "\t201 : feature_21 [NUMERICAL]\n",
      "\t200 : feature_8 [NUMERICAL]\n",
      "\t198 : feature_32 [NUMERICAL]\n",
      "\t198 : feature_1 [NUMERICAL]\n",
      "\t197 : feature_41 [NUMERICAL]\n",
      "\t195 : feature_43 [NUMERICAL]\n",
      "\t194 : feature_33 [NUMERICAL]\n",
      "\t189 : feature_4 [NUMERICAL]\n",
      "\t185 : feature_46 [NUMERICAL]\n",
      "\t184 : feature_16 [NUMERICAL]\n",
      "\t182 : feature_11 [NUMERICAL]\n",
      "\t180 : feature_3 [NUMERICAL]\n",
      "\t173 : feature_27 [NUMERICAL]\n",
      "\t160 : feature_25 [NUMERICAL]\n",
      "\t158 : feature_5 [NUMERICAL]\n",
      "\t157 : feature_20 [NUMERICAL]\n",
      "\t141 : feature_29 [NUMERICAL]\n",
      "\t136 : feature_2 [NUMERICAL]\n",
      "\t128 : feature_44 [NUMERICAL]\n",
      "\t119 : feature_0 [NUMERICAL]\n",
      "\t117 : feature_22 [NUMERICAL]\n",
      "\t94 : feature_13 [NUMERICAL]\n",
      "\t90 : feature_36 [NUMERICAL]\n",
      "\n",
      "Condition type in nodes:\n",
      "\t11060 : HigherCondition\n",
      "Condition type in nodes with depth <= 0:\n",
      "\t464 : HigherCondition\n",
      "Condition type in nodes with depth <= 1:\n",
      "\t1382 : HigherCondition\n",
      "Condition type in nodes with depth <= 2:\n",
      "\t3100 : HigherCondition\n",
      "Condition type in nodes with depth <= 3:\n",
      "\t6106 : HigherCondition\n",
      "Condition type in nodes with depth <= 5:\n",
      "\t11060 : HigherCondition\n",
      "\n"
     ]
    }
   ],
   "source": [
    "Final_model.summary()"
   ]
  },
  {
   "cell_type": "code",
   "execution_count": 52,
   "metadata": {
    "colab": {
     "base_uri": "https://localhost:8080/"
    },
    "id": "I11cWpq29FJc",
    "outputId": "930c22f5-c4d6-4550-cdaf-14f877c226b1"
   },
   "outputs": [
    {
     "name": "stdout",
     "output_type": "stream",
     "text": [
      "313/313 [==============================] - 2s 7ms/step - loss: 0.0000e+00 - accuracy: 0.5762 - sparse_categorical_crossentropy: 1.2918\n",
      "\n",
      "loss: 0.0000\n",
      "accuracy: 0.5762\n",
      "sparse_categorical_crossentropy: 1.2918\n"
     ]
    }
   ],
   "source": [
    "Final_eval = Final_model.evaluate(tfds_valid, return_dict=True)\n",
    "print()\n",
    "\n",
    "for name, value in Final_eval.items():\n",
    "    print(f\"{name}: {value:.4f}\")"
   ]
  },
  {
   "cell_type": "code",
   "execution_count": 53,
   "metadata": {
    "colab": {
     "base_uri": "https://localhost:8080/",
     "height": 404
    },
    "id": "iT3zt_w-9Bul",
    "outputId": "0b39579c-0070-4247-b785-643fd8965fca"
   },
   "outputs": [],
   "source": [
    "# Plot the model using Google Colab\n",
    "# tfdf.model_plotter.plot_model_in_colab(Final_model)"
   ]
  },
  {
   "cell_type": "markdown",
   "metadata": {
    "id": "vAzsJd7g9Oqi"
   },
   "source": [
    "### 5.b) Load Test Dataset and Make Predictions"
   ]
  },
  {
   "cell_type": "code",
   "execution_count": 54,
   "metadata": {},
   "outputs": [],
   "source": [
    "if not os.path.exists(TEST_DATASET):\n",
    "    !wget https://dainesanalytics.com/datasets/kaggle-tabular-playground-2021may/test.csv"
   ]
  },
  {
   "cell_type": "code",
   "execution_count": 55,
   "metadata": {
    "colab": {
     "base_uri": "https://localhost:8080/"
    },
    "id": "U8jDH1CW9QBI",
    "outputId": "b86d0970-8878-4d75-ab28-93142381ca7e"
   },
   "outputs": [
    {
     "name": "stdout",
     "output_type": "stream",
     "text": [
      "       id  feature_0  feature_1  feature_2  feature_3  feature_4  feature_5  \\\n",
      "0  100000          0          0          0          0          0          0   \n",
      "1  100001          0          0          1          0          0          0   \n",
      "2  100002          0          0          0          0          0          0   \n",
      "3  100003          0          0          0          0          0          0   \n",
      "4  100004          0          0          0          0          0          0   \n",
      "\n",
      "   feature_6  feature_7  feature_8  ...  feature_40  feature_41  feature_42  \\\n",
      "0          4          4          0  ...           0           0           0   \n",
      "1          2          0          7  ...           3           0           1   \n",
      "2          0          0          1  ...           0           0           0   \n",
      "3          0          1          1  ...           0           0           0   \n",
      "4          1          0          4  ...           1           0           0   \n",
      "\n",
      "   feature_43  feature_44  feature_45  feature_46  feature_47  feature_48  \\\n",
      "0           0           0           0           0           0           0   \n",
      "1           0           0           0           1           0           2   \n",
      "2           1           0           0           0           0           6   \n",
      "3           0           0           0           6           9          14   \n",
      "4           0           0           0           0           0           0   \n",
      "\n",
      "   feature_49  \n",
      "0           0  \n",
      "1           1  \n",
      "2           0  \n",
      "3           3  \n",
      "4           0  \n",
      "\n",
      "[5 rows x 51 columns]\n"
     ]
    }
   ],
   "source": [
    "df_features_test = pd.read_csv(TEST_DATASET, index_col=False)\n",
    "\n",
    "# Take a peek at the dataframe after import\n",
    "print(df_features_test.head())"
   ]
  },
  {
   "cell_type": "code",
   "execution_count": 56,
   "metadata": {},
   "outputs": [],
   "source": [
    "# # Finalize the test dataset for the prediction activities\n",
    "# df_target_test = df_features_test['target']\n",
    "# df_features_test = df_features_test.drop(['target'], axis=1)\n",
    "# print(\"df_features_test.shape: {} df_target_test.shape: {}\".format(df_features_test.shape, df_target_test.shape))"
   ]
  },
  {
   "cell_type": "code",
   "execution_count": 57,
   "metadata": {},
   "outputs": [],
   "source": [
    "# # Finalize the test dataset for the modeling testing\n",
    "# array_features_test = preprocessor.transform(df_features_test)\n",
    "# array_target_test = df_target_test.ravel()\n",
    "# print(\"array_features_test.shape: {} array_target_test.shape: {}\".format(array_features_test.shape, array_target_test.shape))"
   ]
  },
  {
   "cell_type": "code",
   "execution_count": 58,
   "metadata": {},
   "outputs": [],
   "source": [
    "# test_predictions = test_model.predict(array_features_test)\n",
    "# print('RMSE for the model is: ', math.sqrt(metrics.mean_squared_error(array_target_test, test_predictions)))\n",
    "# print('R2 for the model is: ', metrics.r2_score(array_target_test, test_predictions))"
   ]
  },
  {
   "cell_type": "code",
   "execution_count": 59,
   "metadata": {
    "colab": {
     "base_uri": "https://localhost:8080/"
    },
    "id": "sEys8on49SGC",
    "outputId": "ee040a80-a574-48bc-d02a-9fae4e47e268"
   },
   "outputs": [
    {
     "name": "stdout",
     "output_type": "stream",
     "text": [
      "       id\n",
      "0  100000\n",
      "1  100001\n",
      "2  100002\n",
      "3  100003\n",
      "4  100004\n"
     ]
    }
   ],
   "source": [
    "df_kaggle_submission = pd.DataFrame()\n",
    "df_kaggle_submission['id'] = df_features_test['id']\n",
    "print(df_kaggle_submission.head())"
   ]
  },
  {
   "cell_type": "code",
   "execution_count": 60,
   "metadata": {
    "colab": {
     "base_uri": "https://localhost:8080/"
    },
    "id": "M_Q32_pF9UJF",
    "outputId": "5e6596f7-8a86-45aa-a39b-c91ad6219734"
   },
   "outputs": [
    {
     "name": "stdout",
     "output_type": "stream",
     "text": [
      "   feature_0  feature_1  feature_2  feature_3  feature_4  feature_5  \\\n",
      "0          0          0          0          0          0          0   \n",
      "1          0          0          1          0          0          0   \n",
      "2          0          0          0          0          0          0   \n",
      "3          0          0          0          0          0          0   \n",
      "4          0          0          0          0          0          0   \n",
      "\n",
      "   feature_6  feature_7  feature_8  feature_9  ...  feature_40  feature_41  \\\n",
      "0          4          4          0          0  ...           0           0   \n",
      "1          2          0          7          7  ...           3           0   \n",
      "2          0          0          1          0  ...           0           0   \n",
      "3          0          1          1          0  ...           0           0   \n",
      "4          1          0          4          0  ...           1           0   \n",
      "\n",
      "   feature_42  feature_43  feature_44  feature_45  feature_46  feature_47  \\\n",
      "0           0           0           0           0           0           0   \n",
      "1           1           0           0           0           1           0   \n",
      "2           0           1           0           0           0           0   \n",
      "3           0           0           0           0           6           9   \n",
      "4           0           0           0           0           0           0   \n",
      "\n",
      "   feature_48  feature_49  \n",
      "0           0           0  \n",
      "1           2           1  \n",
      "2           6           0  \n",
      "3          14           3  \n",
      "4           0           0  \n",
      "\n",
      "[5 rows x 50 columns]\n"
     ]
    }
   ],
   "source": [
    "# Dropping features\n",
    "df_features_test.drop(columns=['id'], inplace=True)\n",
    "\n",
    "# Take a peek at the dataframe after cleaning\n",
    "print(df_features_test.head())"
   ]
  },
  {
   "cell_type": "code",
   "execution_count": 61,
   "metadata": {
    "id": "9hPuYzYP9VZ9"
   },
   "outputs": [],
   "source": [
    "# Finalize the test dataset for the prediction activities\n",
    "tfds_test = tfdf.keras.pd_dataframe_to_tf_dataset(df_features_test, task = tfdf.keras.Task.CLASSIFICATION)"
   ]
  },
  {
   "cell_type": "code",
   "execution_count": 62,
   "metadata": {
    "colab": {
     "base_uri": "https://localhost:8080/"
    },
    "id": "-fvgenmXwXjV",
    "outputId": "90fe95c9-87a0-4db4-8559-73fe096fa2c4"
   },
   "outputs": [
    {
     "name": "stdout",
     "output_type": "stream",
     "text": [
      "[[0.10491786 0.56843936 0.18042754 0.14621522]\n",
      " [0.06580148 0.68153316 0.16148987 0.09117551]\n",
      " [0.0798018  0.6371313  0.18862653 0.09444042]\n",
      " ...\n",
      " [0.09096996 0.51939535 0.21397984 0.17565492]\n",
      " [0.08514684 0.57981706 0.17341758 0.16161844]\n",
      " [0.09742133 0.5664903  0.20111871 0.1349697 ]]\n"
     ]
    }
   ],
   "source": [
    "# Make batched predictions\n",
    "test_predictions = Final_model.predict(tfds_test)\n",
    "print(test_predictions)"
   ]
  },
  {
   "cell_type": "code",
   "execution_count": 63,
   "metadata": {
    "colab": {
     "base_uri": "https://localhost:8080/"
    },
    "id": "URcNcruf9r8w",
    "outputId": "d5401843-0c3c-4a26-ec88-c4a2129fb98f"
   },
   "outputs": [
    {
     "name": "stdout",
     "output_type": "stream",
     "text": [
      "['Class_1', 'Class_2', 'Class_3', 'Class_4']\n"
     ]
    }
   ],
   "source": [
    "dataset_path = 'https://dainesanalytics.com/datasets/kaggle-tabular-playground-2021may/sample_submission.csv'\n",
    "df_sample_submission = pd.read_csv(dataset_path, index_col=False)\n",
    "df_sample_submission.drop(columns=['id'], inplace=True)\n",
    "submission_header = list(df_sample_submission.columns)\n",
    "print(submission_header)"
   ]
  },
  {
   "cell_type": "code",
   "execution_count": 64,
   "metadata": {},
   "outputs": [
    {
     "name": "stdout",
     "output_type": "stream",
     "text": [
      "       id   Class_1   Class_2   Class_3   Class_4\n",
      "0  100000  0.104918  0.568439  0.180428  0.146215\n",
      "1  100001  0.065801  0.681533  0.161490  0.091176\n",
      "2  100002  0.079802  0.637131  0.188627  0.094440\n",
      "3  100003  0.086406  0.560300  0.250178  0.103116\n",
      "4  100004  0.077656  0.588743  0.215593  0.118008\n"
     ]
    }
   ],
   "source": [
    "df_kaggle_submission[submission_header] = test_predictions\n",
    "print(df_kaggle_submission.head())"
   ]
  },
  {
   "cell_type": "code",
   "execution_count": 65,
   "metadata": {
    "colab": {
     "base_uri": "https://localhost:8080/"
    },
    "id": "OWRZ-ue59uM5",
    "outputId": "510cb34a-43e6-4e0c-f337-cdfb0c2577d3"
   },
   "outputs": [],
   "source": [
    "# # Create the submission file\n",
    "# submission_file = df_kaggle_submission.to_csv(header=True, index=False)\n",
    "# filename = 'submission_' + datetime.now().strftime('%Y%m%d-%H%M') + '.csv'\n",
    "# with open(filename, 'w') as f:\n",
    "#     f.write(submission_file)\n",
    "#     print('Completed writing output file: ' + filename)"
   ]
  },
  {
   "cell_type": "code",
   "execution_count": 66,
   "metadata": {
    "id": "YB2v5Iq9wXjV"
   },
   "outputs": [],
   "source": [
    "if NOTIFY_STATUS: status_notify(\"Task 5 - Finalize Model and Present Analysis completed! \"+datetime.now().strftime('%a %B %d, %Y %I:%M:%S %p'))"
   ]
  },
  {
   "cell_type": "code",
   "execution_count": 67,
   "metadata": {
    "colab": {
     "base_uri": "https://localhost:8080/"
    },
    "id": "piIVF1NIwXjW",
    "outputId": "c7511d15-bfc7-4492-fef5-e3d368115997"
   },
   "outputs": [
    {
     "name": "stdout",
     "output_type": "stream",
     "text": [
      "Total time for the script: 0:09:08.136989\n"
     ]
    }
   ],
   "source": [
    "print ('Total time for the script:',(datetime.now() - start_time_script))"
   ]
  }
 ],
 "metadata": {
  "colab": {
   "collapsed_sections": [],
   "name": "py_decisionforests_regression_kaggle_tabular_playground_2021jan.ipynb",
   "provenance": []
  },
  "kernelspec": {
   "display_name": "Python 3 (ipykernel)",
   "language": "python",
   "name": "python3"
  },
  "language_info": {
   "codemirror_mode": {
    "name": "ipython",
    "version": 3
   },
   "file_extension": ".py",
   "mimetype": "text/x-python",
   "name": "python",
   "nbconvert_exporter": "python",
   "pygments_lexer": "ipython3",
   "version": "3.9.9"
  }
 },
 "nbformat": 4,
 "nbformat_minor": 4
}

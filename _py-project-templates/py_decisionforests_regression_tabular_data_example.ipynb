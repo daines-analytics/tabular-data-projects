{
 "cells": [
  {
   "cell_type": "markdown",
   "metadata": {
    "id": "2sQmc7MlwXit"
   },
   "source": [
    "# Regression Model for [PROJECT NAME] Using TensorFlow Decision Forests version 1\n",
    "### David Lowe\n",
    "### November 23, 2021\n",
    "\n",
    "Template Credit: Adapted from a template made available by Dr. Jason Brownlee of Machine Learning Mastery. [https://machinelearningmastery.com/]\n",
    "\n",
    "SUMMARY: The project aims to construct a predictive model using various machine learning algorithms and document the end-to-end steps using a template. The [PROJECT NAME] dataset is a regression situation where we are trying to predict the value of a continuous variable.\n",
    "\n",
    "INTRODUCTION: [Sample Paragraph: Kaggle wants to provide an approachable environment for relatively new people in their data science journey. Since January 2021, they have been hosting playground-style competitions on Kaggle with fun but less complex, tabular datasets. These competitions will be great for people looking for something between the Titanic Getting Started competition and a Featured competition.]\n",
    "\n",
    "ANALYSIS: [Sample Paragraph: The performance of the preliminary Gradient Boosted Trees model achieved an RMSE benchmark of 0.7013 on the validation dataset. The final model processed the validation dataset with a final RMSE score of 0.7006. When we applied the finalized model to Kaggle's test dataset, the model achieved an RMSE score of 0.7031.]\n",
    "\n",
    "CONCLUSION: In this iteration, the TensorFlow Decision Forests model appeared to be a suitable algorithm for modeling this dataset.\n",
    "\n",
    "Dataset Used: [PROJECT NAME] Dataset\n",
    "\n",
    "Dataset ML Model: Regression with [numerical | categorical] attributes\n",
    "\n",
    "Dataset Reference: [Sample URL: https://www.kaggle.com/c/tabular-playground-series-jan-2021]\n",
    "\n",
    "One potential source of performance benchmarks: [Sample URL: https://www.kaggle.com/c/tabular-playground-series-jan-2021/leaderboard]\n",
    "\n",
    "Any predictive modeling machine learning project generally can be broken down into about six major tasks:\n",
    "\n",
    "1. Prepare Environment\n",
    "2. Summarize and Visualize Data\n",
    "3. Train and Evaluate Models\n",
    "4. Fine-tune and Improve Models\n",
    "5. Finalize Model and Present Analysis"
   ]
  },
  {
   "cell_type": "markdown",
   "metadata": {
    "id": "2pu8nWBYwXi9"
   },
   "source": [
    "## Task 1 - Prepare Environment"
   ]
  },
  {
   "cell_type": "code",
   "execution_count": 1,
   "metadata": {
    "colab": {
     "base_uri": "https://localhost:8080/"
    },
    "id": "oucRIOhVwXi9",
    "outputId": "1d13c29d-9136-40c8-df5e-d048fbcce48a"
   },
   "outputs": [],
   "source": [
    "# Install the necessary packages for Colab\n",
    "# !pip install python-dotenv PyMySQL"
   ]
  },
  {
   "cell_type": "code",
   "execution_count": 2,
   "metadata": {},
   "outputs": [],
   "source": [
    "# Installing TFDF might be necessary when using the script with Google Colab\n",
    "# !pip install tensorflow_decision_forests"
   ]
  },
  {
   "cell_type": "code",
   "execution_count": 3,
   "metadata": {
    "colab": {
     "base_uri": "https://localhost:8080/"
    },
    "id": "QNXHrvTWZ96d",
    "outputId": "8ed978eb-a80a-42cf-afb9-9fcca38e8dc1"
   },
   "outputs": [],
   "source": [
    "# For managing screen output when using the script with Google Colab\n",
    "# !pip install wurlitzer"
   ]
  },
  {
   "cell_type": "code",
   "execution_count": 4,
   "metadata": {
    "id": "tvspnMqBwXi-"
   },
   "outputs": [],
   "source": [
    "# # Retrieve the GPU information from Colab\n",
    "# gpu_info = !nvidia-smi\n",
    "# gpu_info = '\\n'.join(gpu_info)\n",
    "# if gpu_info.find('failed') >= 0:\n",
    "#     print('Select the Runtime → \"Change runtime type\" menu to enable a GPU accelerator, ')\n",
    "#     print('and then re-execute this cell.')\n",
    "# else:\n",
    "#     print(gpu_info)"
   ]
  },
  {
   "cell_type": "code",
   "execution_count": 5,
   "metadata": {
    "colab": {
     "base_uri": "https://localhost:8080/"
    },
    "id": "TanXkkQxwXi-",
    "outputId": "c2f4d9c4-74ee-4fd3-9b28-34ef98e5a9f5"
   },
   "outputs": [],
   "source": [
    "# # Retrieve the memory configuration from Colab\n",
    "# from psutil import virtual_memory\n",
    "# ram_gb = virtual_memory().total / 1e9\n",
    "# print('Your runtime has {:.1f} gigabytes of available RAM\\n'.format(ram_gb))\n",
    "\n",
    "# if ram_gb < 20:\n",
    "#     print('To enable a high-RAM runtime, select the Runtime → \"Change runtime type\"')\n",
    "#     print('menu, and then select High-RAM in the Runtime shape dropdown. Then, ')\n",
    "#     print('re-execute this cell.')\n",
    "# else:\n",
    "#     print('You are using a high-RAM runtime!')"
   ]
  },
  {
   "cell_type": "code",
   "execution_count": 6,
   "metadata": {
    "colab": {
     "base_uri": "https://localhost:8080/"
    },
    "id": "ZOOVxnGCwXi_",
    "outputId": "af26ffc0-0714-4f1f-9f04-f6fcbf16ece3"
   },
   "outputs": [
    {
     "name": "stdout",
     "output_type": "stream",
     "text": [
      "The number of available CPUs is: 4\n"
     ]
    }
   ],
   "source": [
    "# Retrieve the CPU information\n",
    "ncpu = !nproc\n",
    "print(\"The number of available CPUs is:\", ncpu[0])"
   ]
  },
  {
   "cell_type": "markdown",
   "metadata": {
    "id": "6UZqFeojwXjA"
   },
   "source": [
    "### 1.a) Load libraries and modules"
   ]
  },
  {
   "cell_type": "code",
   "execution_count": 7,
   "metadata": {
    "id": "9_ovTGbJwXjA"
   },
   "outputs": [],
   "source": [
    "# Set the random seed number for reproducible results\n",
    "RNG_SEED = 888"
   ]
  },
  {
   "cell_type": "code",
   "execution_count": 8,
   "metadata": {
    "colab": {
     "base_uri": "https://localhost:8080/"
    },
    "id": "vDmif-v8wXjB",
    "outputId": "5050d081-be63-432c-bd77-7c5f18164f22"
   },
   "outputs": [
    {
     "name": "stderr",
     "output_type": "stream",
     "text": [
      "2021-11-23 22:47:13.886645: W tensorflow/stream_executor/platform/default/dso_loader.cc:64] Could not load dynamic library 'libcudart.so.11.0'; dlerror: libcudart.so.11.0: cannot open shared object file: No such file or directory\n",
      "2021-11-23 22:47:13.886706: I tensorflow/stream_executor/cuda/cudart_stub.cc:29] Ignore above cudart dlerror if you do not have a GPU set up on your machine.\n",
      "WARNING:root:Failure to load the custom c++ tensorflow ops. This error is likely caused the version of TensorFlow and TensorFlow Decision Forests are not compatible.\n",
      "WARNING:root:TF Parameter Server distributed training not available.\n"
     ]
    }
   ],
   "source": [
    "import random\n",
    "random.seed(RNG_SEED)\n",
    "import numpy as np\n",
    "np.random.seed(RNG_SEED)\n",
    "import pandas as pd\n",
    "import seaborn as sns\n",
    "import matplotlib\n",
    "import matplotlib.pyplot as plt\n",
    "import os\n",
    "import sys\n",
    "import math\n",
    "from datetime import datetime\n",
    "# import boto3\n",
    "# from dotenv import load_dotenv\n",
    "from sklearn import preprocessing\n",
    "from sklearn.model_selection import train_test_split\n",
    "from sklearn.model_selection import RepeatedKFold\n",
    "from sklearn.pipeline import Pipeline\n",
    "from sklearn import compose\n",
    "from sklearn import impute\n",
    "from sklearn import metrics\n",
    "import tensorflow as tf\n",
    "tf.random.set_seed(RNG_SEED)\n",
    "# from tensorflow import keras\n",
    "import tensorflow_decision_forests as tfdf"
   ]
  },
  {
   "cell_type": "code",
   "execution_count": 9,
   "metadata": {
    "id": "ATym7GJWaOD3"
   },
   "outputs": [],
   "source": [
    "# For managing screen output and model plotting when using the script with Google Colab\n",
    "\n",
    "# try:\n",
    "#   from wurlitzer import sys_pipes\n",
    "# except:\n",
    "#   from colabtools.googlelog import CaptureLog as sys_pipes\n",
    "\n",
    "# from IPython.core.magic import register_line_magic\n",
    "# from IPython.display import Javascript"
   ]
  },
  {
   "cell_type": "markdown",
   "metadata": {
    "id": "M0TRB7j0wXjB"
   },
   "source": [
    "### 1.b) Set up the controlling parameters and functions"
   ]
  },
  {
   "cell_type": "code",
   "execution_count": 10,
   "metadata": {
    "colab": {
     "base_uri": "https://localhost:8080/"
    },
    "id": "JCurALWEwXjB",
    "outputId": "fe2a2a8f-feec-4485-a414-4c0218f15afb"
   },
   "outputs": [
    {
     "name": "stdout",
     "output_type": "stream",
     "text": [
      "TensorFlow version: 2.7.0\n",
      "Found TensorFlow Decision Forests v0.2.1\n"
     ]
    },
    {
     "name": "stderr",
     "output_type": "stream",
     "text": [
      "2021-11-23 22:47:16.041309: W tensorflow/stream_executor/platform/default/dso_loader.cc:64] Could not load dynamic library 'libcuda.so.1'; dlerror: libcuda.so.1: cannot open shared object file: No such file or directory\n",
      "2021-11-23 22:47:16.041358: W tensorflow/stream_executor/cuda/cuda_driver.cc:269] failed call to cuInit: UNKNOWN ERROR (303)\n",
      "2021-11-23 22:47:16.041396: I tensorflow/stream_executor/cuda/cuda_diagnostics.cc:156] kernel driver does not appear to be running on this host (20d838f3f8d1): /proc/driver/nvidia/version does not exist\n"
     ]
    }
   ],
   "source": [
    "# Begin the timer for the script processing\n",
    "start_time_script = datetime.now()\n",
    "\n",
    "# Set up the number of CPU cores available for multi-thread processing\n",
    "N_JOBS = 1\n",
    "\n",
    "# Set up the flag to stop sending progress emails (setting to True will send status emails!)\n",
    "NOTIFY_STATUS = False\n",
    "\n",
    "# Set the percentage sizes for splitting the dataset\n",
    "TEST_SET_RATIO = 0.2\n",
    "VAL_SET_RATIO = 0.2\n",
    "\n",
    "# Set the number of folds for cross validation\n",
    "N_FOLDS = 5\n",
    "N_ITERATIONS = 1\n",
    "\n",
    "# Set various default modeling parameters\n",
    "DEFAULT_LOSS = 'mean_squared_error'\n",
    "DEFAULT_METRICS = [tf.keras.metrics.RootMeanSquaredError(name='rmse')]\n",
    "\n",
    "# Define the directory locations and file names\n",
    "TRAIN_DATASET = 'train.csv'\n",
    "TEST_DATASET = 'test.csv'\n",
    "\n",
    "# # Check the number of GPUs accessible through TensorFlow\n",
    "# print('Num GPUs Available:', len(tf.config.list_physical_devices('GPU')))\n",
    "\n",
    "# Print out the TensorFlow version for confirmation\n",
    "print('TensorFlow version:', tf.__version__)\n",
    "\n",
    "# Check the version of TensorFlow Decision Forests\n",
    "print(\"Found TensorFlow Decision Forests v\" + tfdf.__version__)"
   ]
  },
  {
   "cell_type": "code",
   "execution_count": 11,
   "metadata": {
    "id": "IBDJ6B40wXjC"
   },
   "outputs": [],
   "source": [
    "# Set up the email notification function\n",
    "def status_notify(msg_text):\n",
    "    access_key = os.environ.get('SNS_ACCESS_KEY')\n",
    "    secret_key = os.environ.get('SNS_SECRET_KEY')\n",
    "    aws_region = os.environ.get('SNS_AWS_REGION')\n",
    "    topic_arn = os.environ.get('SNS_TOPIC_ARN')\n",
    "    if (access_key is None) or (secret_key is None) or (aws_region is None):\n",
    "        sys.exit(\"Incomplete notification setup info. Script Processing Aborted!!!\")\n",
    "    sns = boto3.client('sns', aws_access_key_id=access_key, aws_secret_access_key=secret_key, region_name=aws_region)\n",
    "    response = sns.publish(TopicArn=topic_arn, Message=msg_text)\n",
    "    if response['ResponseMetadata']['HTTPStatusCode'] != 200 :\n",
    "        print('Status notification not OK with HTTP status code:', response['ResponseMetadata']['HTTPStatusCode'])"
   ]
  },
  {
   "cell_type": "code",
   "execution_count": 12,
   "metadata": {
    "id": "e3tPi3k7wyTv"
   },
   "outputs": [],
   "source": [
    "# Reset the random number generators\n",
    "def reset_random(x=RNG_SEED):\n",
    "    random.seed(x)\n",
    "    np.random.seed(x)\n",
    "    tf.random.set_seed(x)"
   ]
  },
  {
   "cell_type": "code",
   "execution_count": 13,
   "metadata": {
    "id": "p2F2r8QswXjD"
   },
   "outputs": [],
   "source": [
    "if NOTIFY_STATUS: status_notify(\"Task 1 - Prepare Environment has begun! \" + datetime.now().strftime('%a %B %d, %Y %I:%M:%S %p'))"
   ]
  },
  {
   "cell_type": "markdown",
   "metadata": {
    "id": "yk2I_AhawXjD"
   },
   "source": [
    "### 1.c) Load dataset"
   ]
  },
  {
   "cell_type": "code",
   "execution_count": 14,
   "metadata": {},
   "outputs": [
    {
     "name": "stdout",
     "output_type": "stream",
     "text": [
      "--2021-11-23 22:47:16--  https://dainesanalytics.com/datasets/kaggle-tabular-playground-2021jan/train.csv\n",
      "Resolving dainesanalytics.com (dainesanalytics.com)... 13.225.142.25, 13.225.142.69, 13.225.142.94, ...\n",
      "Connecting to dainesanalytics.com (dainesanalytics.com)|13.225.142.25|:443... connected.\n",
      "HTTP request sent, awaiting response... 200 OK\n",
      "Length: 87516226 (83M) [text/csv]\n",
      "Saving to: ‘train.csv’\n",
      "\n",
      "train.csv           100%[===================>]  83.46M  4.35MB/s    in 20s     \n",
      "\n",
      "2021-11-23 22:47:36 (4.23 MB/s) - ‘train.csv’ saved [87516226/87516226]\n",
      "\n"
     ]
    }
   ],
   "source": [
    "if not os.path.exists(TRAIN_DATASET):\n",
    "    !wget https://dainesanalytics.com/datasets/kaggle-tabular-playground-2021jan/train.csv"
   ]
  },
  {
   "cell_type": "code",
   "execution_count": 15,
   "metadata": {
    "colab": {
     "base_uri": "https://localhost:8080/"
    },
    "id": "E7G2_4zawXjE",
    "outputId": "8fe31ed3-47a3-4720-b2ab-a32c52603e4d"
   },
   "outputs": [
    {
     "name": "stdout",
     "output_type": "stream",
     "text": [
      "   id     cont1     cont2     cont3     cont4     cont5     cont6     cont7  \\\n",
      "0   1  0.670390  0.811300  0.643968  0.291791  0.284117  0.855953  0.890700   \n",
      "1   3  0.388053  0.621104  0.686102  0.501149  0.643790  0.449805  0.510824   \n",
      "2   4  0.834950  0.227436  0.301584  0.293408  0.606839  0.829175  0.506143   \n",
      "3   5  0.820708  0.160155  0.546887  0.726104  0.282444  0.785108  0.752758   \n",
      "4   8  0.935278  0.421235  0.303801  0.880214  0.665610  0.830131  0.487113   \n",
      "\n",
      "      cont8     cont9    cont10    cont11    cont12    cont13    cont14  \\\n",
      "0  0.285542  0.558245  0.779418  0.921832  0.866772  0.878733  0.305411   \n",
      "1  0.580748  0.418335  0.432632  0.439872  0.434971  0.369957  0.369484   \n",
      "2  0.558771  0.587603  0.823312  0.567007  0.677708  0.882938  0.303047   \n",
      "3  0.823267  0.574466  0.580843  0.769594  0.818143  0.914281  0.279528   \n",
      "4  0.604157  0.874658  0.863427  0.983575  0.900464  0.935918  0.435772   \n",
      "\n",
      "     target  \n",
      "0  7.243043  \n",
      "1  8.203331  \n",
      "2  7.776091  \n",
      "3  6.957716  \n",
      "4  7.951046  \n"
     ]
    }
   ],
   "source": [
    "df_dataset_import = pd.read_csv(TRAIN_DATASET, index_col=False)\n",
    "\n",
    "# Take a peek at the dataframe after import\n",
    "print(df_dataset_import.head())"
   ]
  },
  {
   "cell_type": "code",
   "execution_count": 16,
   "metadata": {
    "colab": {
     "base_uri": "https://localhost:8080/"
    },
    "id": "3dl-LDdfwXjE",
    "outputId": "bbeef758-68be-4a10-e1bc-fb939eca2168"
   },
   "outputs": [
    {
     "name": "stdout",
     "output_type": "stream",
     "text": [
      "<class 'pandas.core.frame.DataFrame'>\n",
      "RangeIndex: 300000 entries, 0 to 299999\n",
      "Data columns (total 16 columns):\n",
      " #   Column  Non-Null Count   Dtype  \n",
      "---  ------  --------------   -----  \n",
      " 0   id      300000 non-null  int64  \n",
      " 1   cont1   300000 non-null  float64\n",
      " 2   cont2   300000 non-null  float64\n",
      " 3   cont3   300000 non-null  float64\n",
      " 4   cont4   300000 non-null  float64\n",
      " 5   cont5   300000 non-null  float64\n",
      " 6   cont6   300000 non-null  float64\n",
      " 7   cont7   300000 non-null  float64\n",
      " 8   cont8   300000 non-null  float64\n",
      " 9   cont9   300000 non-null  float64\n",
      " 10  cont10  300000 non-null  float64\n",
      " 11  cont11  300000 non-null  float64\n",
      " 12  cont12  300000 non-null  float64\n",
      " 13  cont13  300000 non-null  float64\n",
      " 14  cont14  300000 non-null  float64\n",
      " 15  target  300000 non-null  float64\n",
      "dtypes: float64(15), int64(1)\n",
      "memory usage: 36.6 MB\n"
     ]
    }
   ],
   "source": [
    "df_dataset_import.info(verbose=True)"
   ]
  },
  {
   "cell_type": "code",
   "execution_count": 17,
   "metadata": {
    "colab": {
     "base_uri": "https://localhost:8080/"
    },
    "id": "3eB_rvlwwXjF",
    "outputId": "6653b185-594e-4772-f887-abef50d74bd5"
   },
   "outputs": [
    {
     "name": "stdout",
     "output_type": "stream",
     "text": [
      "                  id          cont1          cont2          cont3  \\\n",
      "count  300000.000000  300000.000000  300000.000000  300000.000000   \n",
      "mean   249825.145857       0.506873       0.497898       0.521557   \n",
      "std    144476.732562       0.203976       0.228159       0.200770   \n",
      "min         1.000000      -0.082263      -0.031397       0.020967   \n",
      "25%    124656.500000       0.343078       0.319170       0.344096   \n",
      "50%    249738.500000       0.484005       0.553209       0.551471   \n",
      "75%    374836.250000       0.643789       0.731263       0.648315   \n",
      "max    499999.000000       1.016227       0.859697       1.006955   \n",
      "\n",
      "               cont4          cont5          cont6          cont7  \\\n",
      "count  300000.000000  300000.000000  300000.000000  300000.000000   \n",
      "mean        0.515683       0.502022       0.526515       0.487890   \n",
      "std         0.233035       0.220701       0.217909       0.181096   \n",
      "min         0.152761       0.276377       0.066166      -0.097666   \n",
      "25%         0.294935       0.284108       0.356163       0.346600   \n",
      "50%         0.482880       0.451733       0.470988       0.466825   \n",
      "75%         0.748705       0.670660       0.694043       0.581292   \n",
      "max         1.010402       1.034261       1.043858       1.066167   \n",
      "\n",
      "               cont8          cont9         cont10         cont11  \\\n",
      "count  300000.000000  300000.000000  300000.000000  300000.000000   \n",
      "mean        0.525163       0.459857       0.520532       0.483926   \n",
      "std         0.216221       0.196685       0.201854       0.220082   \n",
      "min         0.217260      -0.240604      -0.085046       0.083277   \n",
      "25%         0.341486       0.330832       0.375465       0.300474   \n",
      "50%         0.483460       0.416843       0.458877       0.441916   \n",
      "75%         0.685250       0.575041       0.700292       0.679128   \n",
      "max         1.024427       1.004114       1.199951       1.022620   \n",
      "\n",
      "              cont12         cont13         cont14         target  \n",
      "count  300000.000000  300000.000000  300000.000000  300000.000000  \n",
      "mean        0.506877       0.553442       0.503713       7.905661  \n",
      "std         0.218947       0.229730       0.208238       0.733071  \n",
      "min         0.088635       0.029950       0.166367       0.000000  \n",
      "25%         0.310166       0.350472       0.308673       7.329367  \n",
      "50%         0.486599       0.487707       0.431845       7.940571  \n",
      "75%         0.694453       0.768479       0.712653       8.470084  \n",
      "max         1.049025       0.977845       0.868506      10.267569  \n"
     ]
    }
   ],
   "source": [
    "print(df_dataset_import.describe())"
   ]
  },
  {
   "cell_type": "code",
   "execution_count": 18,
   "metadata": {
    "colab": {
     "base_uri": "https://localhost:8080/"
    },
    "id": "SRyVb81UwXjF",
    "outputId": "59df4c47-36a0-4476-efd6-272965f1657f"
   },
   "outputs": [
    {
     "name": "stdout",
     "output_type": "stream",
     "text": [
      "id        0\n",
      "cont1     0\n",
      "cont2     0\n",
      "cont3     0\n",
      "cont4     0\n",
      "cont5     0\n",
      "cont6     0\n",
      "cont7     0\n",
      "cont8     0\n",
      "cont9     0\n",
      "cont10    0\n",
      "cont11    0\n",
      "cont12    0\n",
      "cont13    0\n",
      "cont14    0\n",
      "target    0\n",
      "dtype: int64\n",
      "Total number of NaN in the dataframe:  0\n"
     ]
    }
   ],
   "source": [
    "print(df_dataset_import.isnull().sum())\n",
    "print('Total number of NaN in the dataframe: ', df_dataset_import.isnull().sum().sum())"
   ]
  },
  {
   "cell_type": "markdown",
   "metadata": {
    "id": "wfaoKiSdwXjG"
   },
   "source": [
    "### 1.d) Data Cleaning"
   ]
  },
  {
   "cell_type": "code",
   "execution_count": 19,
   "metadata": {
    "colab": {
     "base_uri": "https://localhost:8080/"
    },
    "id": "KujRTYu5wXjG",
    "outputId": "bde95e06-87b1-4cf3-fe8f-af041d369ff0"
   },
   "outputs": [
    {
     "name": "stdout",
     "output_type": "stream",
     "text": [
      "      cont1     cont2     cont3     cont4     cont5     cont6     cont7  \\\n",
      "0  0.670390  0.811300  0.643968  0.291791  0.284117  0.855953  0.890700   \n",
      "1  0.388053  0.621104  0.686102  0.501149  0.643790  0.449805  0.510824   \n",
      "2  0.834950  0.227436  0.301584  0.293408  0.606839  0.829175  0.506143   \n",
      "3  0.820708  0.160155  0.546887  0.726104  0.282444  0.785108  0.752758   \n",
      "4  0.935278  0.421235  0.303801  0.880214  0.665610  0.830131  0.487113   \n",
      "\n",
      "      cont8     cont9    cont10    cont11    cont12    cont13    cont14  \\\n",
      "0  0.285542  0.558245  0.779418  0.921832  0.866772  0.878733  0.305411   \n",
      "1  0.580748  0.418335  0.432632  0.439872  0.434971  0.369957  0.369484   \n",
      "2  0.558771  0.587603  0.823312  0.567007  0.677708  0.882938  0.303047   \n",
      "3  0.823267  0.574466  0.580843  0.769594  0.818143  0.914281  0.279528   \n",
      "4  0.604157  0.874658  0.863427  0.983575  0.900464  0.935918  0.435772   \n",
      "\n",
      "     target  \n",
      "0  7.243043  \n",
      "1  8.203331  \n",
      "2  7.776091  \n",
      "3  6.957716  \n",
      "4  7.951046  \n"
     ]
    }
   ],
   "source": [
    "# Dropping features\n",
    "df_dataset_import.drop(columns=['id'], inplace=True)\n",
    "\n",
    "# Take a peek at the dataframe after cleaning\n",
    "print(df_dataset_import.head())"
   ]
  },
  {
   "cell_type": "code",
   "execution_count": 20,
   "metadata": {
    "colab": {
     "base_uri": "https://localhost:8080/"
    },
    "id": "ZprOE1B0wXjH",
    "outputId": "15a54dc9-ea93-4996-b0dc-a244ed23c127"
   },
   "outputs": [
    {
     "name": "stdout",
     "output_type": "stream",
     "text": [
      "<class 'pandas.core.frame.DataFrame'>\n",
      "RangeIndex: 300000 entries, 0 to 299999\n",
      "Data columns (total 15 columns):\n",
      " #   Column  Non-Null Count   Dtype  \n",
      "---  ------  --------------   -----  \n",
      " 0   cont1   300000 non-null  float64\n",
      " 1   cont2   300000 non-null  float64\n",
      " 2   cont3   300000 non-null  float64\n",
      " 3   cont4   300000 non-null  float64\n",
      " 4   cont5   300000 non-null  float64\n",
      " 5   cont6   300000 non-null  float64\n",
      " 6   cont7   300000 non-null  float64\n",
      " 7   cont8   300000 non-null  float64\n",
      " 8   cont9   300000 non-null  float64\n",
      " 9   cont10  300000 non-null  float64\n",
      " 10  cont11  300000 non-null  float64\n",
      " 11  cont12  300000 non-null  float64\n",
      " 12  cont13  300000 non-null  float64\n",
      " 13  cont14  300000 non-null  float64\n",
      " 14  target  300000 non-null  float64\n",
      "dtypes: float64(15)\n",
      "memory usage: 34.3 MB\n"
     ]
    }
   ],
   "source": [
    "df_dataset_import.info(verbose=True)"
   ]
  },
  {
   "cell_type": "code",
   "execution_count": 21,
   "metadata": {
    "colab": {
     "base_uri": "https://localhost:8080/"
    },
    "id": "QgyI5VZ1wXjH",
    "outputId": "56d27ba8-4867-4536-ab77-5f017102006e"
   },
   "outputs": [
    {
     "name": "stdout",
     "output_type": "stream",
     "text": [
      "               cont1          cont2          cont3          cont4  \\\n",
      "count  300000.000000  300000.000000  300000.000000  300000.000000   \n",
      "mean        0.506873       0.497898       0.521557       0.515683   \n",
      "std         0.203976       0.228159       0.200770       0.233035   \n",
      "min        -0.082263      -0.031397       0.020967       0.152761   \n",
      "25%         0.343078       0.319170       0.344096       0.294935   \n",
      "50%         0.484005       0.553209       0.551471       0.482880   \n",
      "75%         0.643789       0.731263       0.648315       0.748705   \n",
      "max         1.016227       0.859697       1.006955       1.010402   \n",
      "\n",
      "               cont5          cont6          cont7          cont8  \\\n",
      "count  300000.000000  300000.000000  300000.000000  300000.000000   \n",
      "mean        0.502022       0.526515       0.487890       0.525163   \n",
      "std         0.220701       0.217909       0.181096       0.216221   \n",
      "min         0.276377       0.066166      -0.097666       0.217260   \n",
      "25%         0.284108       0.356163       0.346600       0.341486   \n",
      "50%         0.451733       0.470988       0.466825       0.483460   \n",
      "75%         0.670660       0.694043       0.581292       0.685250   \n",
      "max         1.034261       1.043858       1.066167       1.024427   \n",
      "\n",
      "               cont9         cont10         cont11         cont12  \\\n",
      "count  300000.000000  300000.000000  300000.000000  300000.000000   \n",
      "mean        0.459857       0.520532       0.483926       0.506877   \n",
      "std         0.196685       0.201854       0.220082       0.218947   \n",
      "min        -0.240604      -0.085046       0.083277       0.088635   \n",
      "25%         0.330832       0.375465       0.300474       0.310166   \n",
      "50%         0.416843       0.458877       0.441916       0.486599   \n",
      "75%         0.575041       0.700292       0.679128       0.694453   \n",
      "max         1.004114       1.199951       1.022620       1.049025   \n",
      "\n",
      "              cont13         cont14         target  \n",
      "count  300000.000000  300000.000000  300000.000000  \n",
      "mean        0.553442       0.503713       7.905661  \n",
      "std         0.229730       0.208238       0.733071  \n",
      "min         0.029950       0.166367       0.000000  \n",
      "25%         0.350472       0.308673       7.329367  \n",
      "50%         0.487707       0.431845       7.940571  \n",
      "75%         0.768479       0.712653       8.470084  \n",
      "max         0.977845       0.868506      10.267569  \n"
     ]
    }
   ],
   "source": [
    "print(df_dataset_import.describe())"
   ]
  },
  {
   "cell_type": "code",
   "execution_count": 22,
   "metadata": {
    "colab": {
     "base_uri": "https://localhost:8080/"
    },
    "id": "wz9iKsUswXjI",
    "outputId": "da2128d2-f4ef-43e8-dd1b-441908a27f10"
   },
   "outputs": [
    {
     "name": "stdout",
     "output_type": "stream",
     "text": [
      "cont1     0\n",
      "cont2     0\n",
      "cont3     0\n",
      "cont4     0\n",
      "cont5     0\n",
      "cont6     0\n",
      "cont7     0\n",
      "cont8     0\n",
      "cont9     0\n",
      "cont10    0\n",
      "cont11    0\n",
      "cont12    0\n",
      "cont13    0\n",
      "cont14    0\n",
      "target    0\n",
      "dtype: int64\n",
      "Total number of NaN in the dataframe:  0\n"
     ]
    }
   ],
   "source": [
    "print(df_dataset_import.isnull().sum())\n",
    "print('Total number of NaN in the dataframe: ', df_dataset_import.isnull().sum().sum())"
   ]
  },
  {
   "cell_type": "markdown",
   "metadata": {
    "id": "0ZBQ1s2bwXjI"
   },
   "source": [
    "### 1.e) Splitting Data into Sets"
   ]
  },
  {
   "cell_type": "code",
   "execution_count": 23,
   "metadata": {
    "colab": {
     "base_uri": "https://localhost:8080/"
    },
    "id": "QNydPt1uwXjI",
    "outputId": "b9e0b0b4-4558-4c22-9f26-f0a69279818a"
   },
   "outputs": [
    {
     "name": "stdout",
     "output_type": "stream",
     "text": [
      "df_dataset_import.shape: (300000, 15) df_features_train.shape: (300000, 14) df_target_train.shape: (300000,)\n"
     ]
    }
   ],
   "source": [
    "# Use variable total_column_count to hold the number of columns in the dataframe\n",
    "total_column_count = len(df_dataset_import.columns)\n",
    "\n",
    "# Set up variable total_feature_count for the total number of attribute columns\n",
    "total_feature_count = total_column_count-1\n",
    "\n",
    "# We create attribute-only and target-only datasets (df_features_train and df_target_train)\n",
    "df_target_train = df_dataset_import['target']\n",
    "df_features_train = df_dataset_import.drop(['target'], axis=1)\n",
    "\n",
    "print(\"df_dataset_import.shape: {} df_features_train.shape: {} df_target_train.shape: {}\".format(df_dataset_import.shape, df_features_train.shape, df_target_train.shape))"
   ]
  },
  {
   "cell_type": "markdown",
   "metadata": {
    "id": "VKU_2CL74vh-"
   },
   "source": [
    "### 1.f) Set up the parameters for data visualization"
   ]
  },
  {
   "cell_type": "code",
   "execution_count": 24,
   "metadata": {
    "id": "7D9OChW94yP0"
   },
   "outputs": [],
   "source": [
    "# Set up the number of row and columns for visualization display. display_rows * display_columns should be >= total_feature_count\n",
    "display_columns = 4\n",
    "if total_feature_count % display_columns == 0 :\n",
    "    display_rows = total_feature_count // display_columns\n",
    "else :\n",
    "    display_rows = (total_feature_count // display_columns) + 1\n",
    "    \n",
    "# Set figure width to display the data visualization plots\n",
    "fig_size = plt.rcParams[\"figure.figsize\"]\n",
    "fig_size[0] = display_columns * 4\n",
    "fig_size[1] = display_rows * 4\n",
    "plt.rcParams[\"figure.figsize\"] = fig_size"
   ]
  },
  {
   "cell_type": "code",
   "execution_count": 25,
   "metadata": {
    "id": "YLRgAYnMwXjJ"
   },
   "outputs": [],
   "source": [
    "if NOTIFY_STATUS: status_notify(\"Task 1 - Prepare Environment completed! \"+datetime.now().strftime('%a %B %d, %Y %I:%M:%S %p'))"
   ]
  },
  {
   "cell_type": "markdown",
   "metadata": {
    "id": "ZivQJCZowXjK"
   },
   "source": [
    "## Task 2 - Summarize and Visualize Data"
   ]
  },
  {
   "cell_type": "code",
   "execution_count": 26,
   "metadata": {
    "id": "F5H90pxZwXjK"
   },
   "outputs": [],
   "source": [
    "if NOTIFY_STATUS: status_notify(\"Task 2 - Summarize and Visualize Data has begun! \"+datetime.now().strftime('%a %B %d, %Y %I:%M:%S %p'))"
   ]
  },
  {
   "cell_type": "code",
   "execution_count": 27,
   "metadata": {
    "colab": {
     "base_uri": "https://localhost:8080/",
     "height": 919
    },
    "id": "OBhr7SGRwXjK",
    "outputId": "3b3dc20f-b962-414c-b891-e530b1dd3d6a",
    "tags": []
   },
   "outputs": [
    {
     "data": {
      "image/png": "[encoded data removed]",
      "text/plain": [
       "<Figure size 1152x1152 with 16 Axes>"
      ]
     },
     "metadata": {
      "needs_background": "light"
     },
     "output_type": "display_data"
    }
   ],
   "source": [
    "# Histograms for each attribute\n",
    "df_features_train.plot(kind='hist', subplots=True, layout=(display_rows, display_columns))\n",
    "plt.show()"
   ]
  },
  {
   "cell_type": "code",
   "execution_count": 28,
   "metadata": {
    "colab": {
     "base_uri": "https://localhost:8080/",
     "height": 918
    },
    "id": "NHtCofAgwXjL",
    "outputId": "b7393adf-cc8e-4739-95f4-6820bde2b8e7"
   },
   "outputs": [
    {
     "data": {
      "image/png": "[encoded data removed]",
      "text/plain": [
       "<Figure size 1152x1152 with 16 Axes>"
      ]
     },
     "metadata": {
      "needs_background": "light"
     },
     "output_type": "display_data"
    }
   ],
   "source": [
    "# Box and Whisker plot for each attribute\n",
    "df_features_train.plot(kind='box', subplots=True, layout=(display_rows, display_columns))\n",
    "plt.show()"
   ]
  },
  {
   "cell_type": "code",
   "execution_count": 29,
   "metadata": {
    "colab": {
     "base_uri": "https://localhost:8080/",
     "height": 1000
    },
    "id": "HXUm5_nkwXjL",
    "outputId": "8aa7e071-d983-4609-a04b-37532cdfece2"
   },
   "outputs": [
    {
     "data": {
      "image/png": "[encoded data removed]",
      "text/plain": [
       "<Figure size 1440x1440 with 2 Axes>"
      ]
     },
     "metadata": {
      "needs_background": "light"
     },
     "output_type": "display_data"
    }
   ],
   "source": [
    "# Correlation matrix\n",
    "fig = plt.figure(figsize=(20, 20))\n",
    "correlations = df_features_train.corr(method='pearson')\n",
    "sns.heatmap(correlations, annot=True, cmap=plt.cm.PuBu)\n",
    "plt.show()"
   ]
  },
  {
   "cell_type": "code",
   "execution_count": 30,
   "metadata": {
    "id": "yHcRjiadwXjL"
   },
   "outputs": [],
   "source": [
    "if NOTIFY_STATUS: status_notify(\"Task 2 - Summarize and Visualize Data completed! \"+datetime.now().strftime('%a %B %d, %Y %I:%M:%S %p'))"
   ]
  },
  {
   "cell_type": "markdown",
   "metadata": {
    "id": "-8rH-HXuwXjM"
   },
   "source": [
    "## Task 3 - Train and Evaluate Models"
   ]
  },
  {
   "cell_type": "code",
   "execution_count": 31,
   "metadata": {
    "id": "UnD36SUzwXjM"
   },
   "outputs": [],
   "source": [
    "if NOTIFY_STATUS: status_notify(\"Task 3 - Train and Evaluate Models has begun! \"+datetime.now().strftime('%a %B %d, %Y %I:%M:%S %p'))"
   ]
  },
  {
   "cell_type": "markdown",
   "metadata": {
    "id": "C5MXnEfq0-PW"
   },
   "source": [
    "### 3.a) Splitting Data into Training and Validation Sets"
   ]
  },
  {
   "cell_type": "code",
   "execution_count": 32,
   "metadata": {
    "colab": {
     "base_uri": "https://localhost:8080/"
    },
    "id": "AI2yMOlA6PwG",
    "outputId": "7773985b-1e43-4fee-d3a1-4f9d17805873"
   },
   "outputs": [
    {
     "name": "stdout",
     "output_type": "stream",
     "text": [
      "df_dataset_train.shape: (240000, 15) df_dataset_valid.shape: (60000, 15)\n"
     ]
    }
   ],
   "source": [
    "# Split the data further into training and validation datasets\n",
    "df_dataset_train, df_dataset_valid = train_test_split(df_dataset_import, test_size=VAL_SET_RATIO, random_state=RNG_SEED)\n",
    "print(\"df_dataset_train.shape: {} df_dataset_valid.shape: {}\".format(df_dataset_train.shape, df_dataset_valid.shape))"
   ]
  },
  {
   "cell_type": "code",
   "execution_count": 33,
   "metadata": {
    "id": "QY2ulFc8wXjR"
   },
   "outputs": [
    {
     "name": "stderr",
     "output_type": "stream",
     "text": [
      "/home/pythonml/appdev/lib/python3.9/site-packages/tensorflow_decision_forests/keras/core.py:1612: FutureWarning: In a future version of pandas all arguments of DataFrame.drop except for the argument 'labels' will be keyword-only\n",
      "  features_dataframe = dataframe.drop(label, 1)\n"
     ]
    }
   ],
   "source": [
    "# Finalize the training and validation datasets for the modeling activities\n",
    "tfds_train = tfdf.keras.pd_dataframe_to_tf_dataset(df_dataset_train, label='target', task = tfdf.keras.Task.REGRESSION)\n",
    "tfds_valid = tfdf.keras.pd_dataframe_to_tf_dataset(df_dataset_valid, label='target', task = tfdf.keras.Task.REGRESSION)"
   ]
  },
  {
   "cell_type": "markdown",
   "metadata": {
    "id": "2_pts_ZN1J3g"
   },
   "source": [
    "### 3.b) Train and Evaluate the Random Forest Model"
   ]
  },
  {
   "cell_type": "code",
   "execution_count": 34,
   "metadata": {
    "colab": {
     "base_uri": "https://localhost:8080/"
    },
    "id": "Bbls2rTF3l8E",
    "outputId": "a17264ef-6667-4e13-8cdb-646d1f536ac1"
   },
   "outputs": [
    {
     "name": "stdout",
     "output_type": "stream",
     "text": [
      "3735/3750 [============================>.] - ETA: 0s"
     ]
    },
    {
     "name": "stderr",
     "output_type": "stream",
     "text": [
      "[INFO kernel.cc:736] Start Yggdrasil model training\n",
      "[INFO kernel.cc:737] Collect training examples\n",
      "[INFO kernel.cc:392] Number of batches: 3750\n",
      "[INFO kernel.cc:393] Number of examples: 240000\n",
      "[INFO kernel.cc:759] Dataset:\n",
      "Number of records: 240000\n",
      "Number of columns: 15\n",
      "\n",
      "Number of columns by type:\n",
      "\tNUMERICAL: 15 (100%)\n",
      "\n",
      "Columns:\n",
      "\n",
      "NUMERICAL: 15 (100%)\n",
      "\t0: \"cont1\" NUMERICAL mean:0.506927 min:-0.0772377 max:1.01623 sd:0.204115\n",
      "\t1: \"cont10\" NUMERICAL mean:0.520411 min:-0.085046 max:1.19995 sd:0.201994\n",
      "\t2: \"cont11\" NUMERICAL mean:0.483942 min:0.0832767 max:1.02262 sd:0.22019\n",
      "\t3: \"cont12\" NUMERICAL mean:0.506728 min:0.091488 max:1.04903 sd:0.218957\n",
      "\t4: \"cont13\" NUMERICAL mean:0.55341 min:0.0353633 max:0.977845 sd:0.229728\n",
      "\t5: \"cont14\" NUMERICAL mean:0.503661 min:0.166367 max:0.868506 sd:0.208206\n",
      "\t6: \"cont2\" NUMERICAL mean:0.497598 min:-0.0313975 max:0.859697 sd:0.22809\n",
      "\t7: \"cont3\" NUMERICAL mean:0.521296 min:0.0209669 max:1.00695 sd:0.200616\n",
      "\t8: \"cont4\" NUMERICAL mean:0.515783 min:0.154548 max:1.0104 sd:0.233045\n",
      "\t9: \"cont5\" NUMERICAL mean:0.50192 min:0.276377 max:1.03405 sd:0.220764\n",
      "\t10: \"cont6\" NUMERICAL mean:0.526421 min:0.0661656 max:1.04386 sd:0.217942\n",
      "\t11: \"cont7\" NUMERICAL mean:0.487785 min:-0.0976663 max:1.06617 sd:0.181148\n",
      "\t12: \"cont8\" NUMERICAL mean:0.525242 min:0.21726 max:1.02443 sd:0.216252\n",
      "\t13: \"cont9\" NUMERICAL mean:0.459816 min:-0.240604 max:1.00032 sd:0.196744\n",
      "\t14: \"__LABEL\" NUMERICAL mean:7.90633 min:0 max:10.2676 sd:0.733096\n",
      "\n",
      "Terminology:\n",
      "\tnas: Number of non-available (i.e. missing) values.\n",
      "\tood: Out of dictionary.\n",
      "\tmanually-defined: Attribute which type is manually defined by the user i.e. the type was not automatically inferred.\n",
      "\ttokenized: The attribute value is obtained through tokenization.\n",
      "\thas-dict: The attribute is attached to a string dictionary e.g. a categorical attribute stored as a string.\n",
      "\tvocab-size: Number of unique values.\n",
      "\n",
      "[INFO kernel.cc:762] Configure learner\n",
      "[INFO kernel.cc:787] Training config:\n",
      "learner: \"RANDOM_FOREST\"\n",
      "features: \"cont1\"\n",
      "features: \"cont10\"\n",
      "features: \"cont11\"\n",
      "features: \"cont12\"\n",
      "features: \"cont13\"\n",
      "features: \"cont14\"\n",
      "features: \"cont2\"\n",
      "features: \"cont3\"\n",
      "features: \"cont4\"\n",
      "features: \"cont5\"\n",
      "features: \"cont6\"\n",
      "features: \"cont7\"\n",
      "features: \"cont8\"\n",
      "features: \"cont9\"\n",
      "label: \"__LABEL\"\n",
      "task: REGRESSION\n",
      "[yggdrasil_decision_forests.model.random_forest.proto.random_forest_config] {\n",
      "  num_trees: 300\n",
      "  decision_tree {\n",
      "    max_depth: 16\n",
      "    min_examples: 5\n",
      "    in_split_min_examples_check: true\n",
      "    missing_value_policy: GLOBAL_IMPUTATION\n",
      "    allow_na_conditions: false\n",
      "    categorical_set_greedy_forward {\n",
      "      sampling: 0.1\n",
      "      max_num_items: -1\n",
      "      min_item_frequency: 1\n",
      "    }\n",
      "    growing_strategy_local {\n",
      "    }\n",
      "    categorical {\n",
      "      cart {\n",
      "      }\n",
      "    }\n",
      "    num_candidate_attributes_ratio: -1\n",
      "    axis_aligned_split {\n",
      "    }\n",
      "    internal {\n",
      "      sorting_strategy: PRESORTED\n",
      "    }\n",
      "  }\n",
      "  winner_take_all_inference: true\n",
      "  compute_oob_performances: true\n",
      "  compute_oob_variable_importances: false\n",
      "  adapt_bootstrap_size_ratio_for_maximum_training_duration: false\n",
      "}\n",
      "\n",
      "[INFO kernel.cc:790] Deployment config:\n",
      "num_threads: 6\n",
      "\n",
      "[INFO kernel.cc:817] Train model\n",
      "[INFO random_forest.cc:315] Training random forest on 240000 example(s) and 14 feature(s).\n",
      "[INFO random_forest.cc:628] Training of tree  1/300 (tree index:2) done rmse:0.777452\n",
      "[INFO random_forest.cc:628] Training of tree  11/300 (tree index:11) done rmse:0.725966\n",
      "[INFO random_forest.cc:628] Training of tree  21/300 (tree index:20) done rmse:0.714922\n",
      "[INFO random_forest.cc:628] Training of tree  31/300 (tree index:32) done rmse:0.711457\n",
      "[INFO random_forest.cc:628] Training of tree  41/300 (tree index:40) done rmse:0.709674\n",
      "[INFO random_forest.cc:628] Training of tree  51/300 (tree index:50) done rmse:0.708799\n",
      "[INFO random_forest.cc:628] Training of tree  61/300 (tree index:58) done rmse:0.708248\n",
      "[INFO random_forest.cc:628] Training of tree  71/300 (tree index:72) done rmse:0.707906\n",
      "[INFO random_forest.cc:628] Training of tree  81/300 (tree index:77) done rmse:0.707586\n",
      "[INFO random_forest.cc:628] Training of tree  91/300 (tree index:89) done rmse:0.707294\n",
      "[INFO random_forest.cc:628] Training of tree  101/300 (tree index:100) done rmse:0.707023\n",
      "[INFO random_forest.cc:628] Training of tree  111/300 (tree index:110) done rmse:0.706897\n",
      "[INFO random_forest.cc:628] Training of tree  121/300 (tree index:121) done rmse:0.706711\n",
      "[INFO random_forest.cc:628] Training of tree  131/300 (tree index:127) done rmse:0.706578\n",
      "[INFO random_forest.cc:628] Training of tree  141/300 (tree index:140) done rmse:0.706405\n",
      "[INFO random_forest.cc:628] Training of tree  151/300 (tree index:151) done rmse:0.70634\n",
      "[INFO random_forest.cc:628] Training of tree  161/300 (tree index:161) done rmse:0.706272\n",
      "[INFO random_forest.cc:628] Training of tree  171/300 (tree index:171) done rmse:0.706201\n",
      "[INFO random_forest.cc:628] Training of tree  181/300 (tree index:180) done rmse:0.70613\n",
      "[INFO random_forest.cc:628] Training of tree  191/300 (tree index:192) done rmse:0.7061\n",
      "[INFO random_forest.cc:628] Training of tree  201/300 (tree index:199) done rmse:0.706053\n",
      "[INFO random_forest.cc:628] Training of tree  211/300 (tree index:208) done rmse:0.705998\n",
      "[INFO random_forest.cc:628] Training of tree  221/300 (tree index:221) done rmse:0.705936\n",
      "[INFO random_forest.cc:628] Training of tree  231/300 (tree index:231) done rmse:0.705877\n",
      "[INFO random_forest.cc:628] Training of tree  241/300 (tree index:240) done rmse:0.70583\n",
      "[INFO random_forest.cc:628] Training of tree  251/300 (tree index:251) done rmse:0.705806\n",
      "[INFO random_forest.cc:628] Training of tree  261/300 (tree index:260) done rmse:0.705775\n",
      "[INFO random_forest.cc:628] Training of tree  271/300 (tree index:270) done rmse:0.705755\n",
      "[INFO random_forest.cc:628] Training of tree  281/300 (tree index:279) done rmse:0.705732\n",
      "[INFO random_forest.cc:628] Training of tree  291/300 (tree index:291) done rmse:0.705705\n",
      "[INFO random_forest.cc:628] Training of tree  300/300 (tree index:299) done rmse:0.705685\n",
      "[INFO random_forest.cc:696] Final OOB metrics: rmse:0.705685\n",
      "[INFO kernel.cc:828] Export model in log directory: /tmp/tmpnzwl13h6\n",
      "[INFO kernel.cc:836] Save model in resources\n",
      "[INFO kernel.cc:988] Loading model from path\n",
      "[INFO decision_forest.cc:590] Model loaded with 300 root(s), 3428550 node(s), and 14 input feature(s).\n",
      "[INFO abstract_model.cc:993] Engine \"RandomForestOptPred\" built\n",
      "[INFO kernel.cc:848] Use fast generic engine\n"
     ]
    },
    {
     "name": "stdout",
     "output_type": "stream",
     "text": [
      "3750/3750 [==============================] - 173s 45ms/step\n",
      "Model training time: 0:02:56.270956 \n",
      "\n"
     ]
    }
   ],
   "source": [
    "# Define the baseline model for benchmarking\n",
    "start_time_module = datetime.now()\n",
    "reset_random()\n",
    "RF_model = tfdf.keras.RandomForestModel(task = tfdf.keras.Task.REGRESSION)\n",
    "RF_model.compile(metrics=DEFAULT_METRICS)\n",
    "\n",
    "# \"sys_pipes\" is optional. It enables the display of the training logs.\n",
    "# with sys_pipes():\n",
    "#     RF_model.fit(x=tfds_train)\n",
    "\n",
    "# Train the model.\n",
    "RF_model.fit(x=tfds_train)\n",
    "print ('Model training time:', (datetime.now() - start_time_module), '\\n')"
   ]
  },
  {
   "cell_type": "code",
   "execution_count": 35,
   "metadata": {
    "colab": {
     "base_uri": "https://localhost:8080/"
    },
    "id": "euAVix08EaDn",
    "outputId": "318b5d2a-3c90-4717-92d3-734c55f8acdc"
   },
   "outputs": [
    {
     "name": "stdout",
     "output_type": "stream",
     "text": [
      "938/938 [==============================] - 8s 8ms/step - loss: 0.0000e+00 - rmse: 0.7047\n",
      "\n",
      "loss: 0.0000\n",
      "rmse: 0.7047\n"
     ]
    }
   ],
   "source": [
    "RF_eval = RF_model.evaluate(tfds_valid, return_dict=True)\n",
    "print()\n",
    "\n",
    "for name, value in RF_eval.items():\n",
    "    print(f\"{name}: {value:.4f}\")"
   ]
  },
  {
   "cell_type": "code",
   "execution_count": 36,
   "metadata": {
    "colab": {
     "base_uri": "https://localhost:8080/",
     "height": 279
    },
    "id": "QWxbO2EXcbEJ",
    "outputId": "dc419e7e-9d65-4d5b-cb67-7ddc263a49f8"
   },
   "outputs": [
    {
     "data": {
      "image/png": "[encoded data removed]",
      "text/plain": [
       "<Figure size 1728x576 with 1 Axes>"
      ]
     },
     "metadata": {
      "needs_background": "light"
     },
     "output_type": "display_data"
    }
   ],
   "source": [
    "logs = RF_model.make_inspector().training_logs()\n",
    "\n",
    "plt.figure(figsize=(24, 8))\n",
    "plt.subplot(1, 2, 1)\n",
    "plt.plot([log.num_trees for log in logs], [log.evaluation.rmse for log in logs])\n",
    "plt.xlabel(\"Number of trees\")\n",
    "plt.ylabel(\"RMSE (out-of-bag)\")\n",
    "plt.show()"
   ]
  },
  {
   "cell_type": "code",
   "execution_count": 37,
   "metadata": {
    "colab": {
     "base_uri": "https://localhost:8080/",
     "height": 404
    },
    "id": "mW_6wwd_kdSH",
    "outputId": "8275ef9a-c23b-4cb5-ba79-e705c78cd593"
   },
   "outputs": [],
   "source": [
    "# Plot the model using Google Colab\n",
    "# tfdf.model_plotter.plot_model_in_colab(RF_model)"
   ]
  },
  {
   "cell_type": "markdown",
   "metadata": {
    "id": "wa3Dfugd1U4P"
   },
   "source": [
    "### 3.c) Train and Evaluate the Decision Trees Model"
   ]
  },
  {
   "cell_type": "code",
   "execution_count": 38,
   "metadata": {
    "colab": {
     "base_uri": "https://localhost:8080/"
    },
    "id": "bDPPbOgPFCBF",
    "outputId": "83cd116d-d49f-4ab2-9147-2f2c45a0548f"
   },
   "outputs": [
    {
     "name": "stdout",
     "output_type": "stream",
     "text": [
      "3734/3750 [============================>.] - ETA: 0s"
     ]
    },
    {
     "name": "stderr",
     "output_type": "stream",
     "text": [
      "[INFO kernel.cc:736] Start Yggdrasil model training\n",
      "[INFO kernel.cc:737] Collect training examples\n",
      "[INFO kernel.cc:392] Number of batches: 3750\n",
      "[INFO kernel.cc:393] Number of examples: 240000\n",
      "[INFO kernel.cc:759] Dataset:\n",
      "Number of records: 240000\n",
      "Number of columns: 15\n",
      "\n",
      "Number of columns by type:\n",
      "\tNUMERICAL: 15 (100%)\n",
      "\n",
      "Columns:\n",
      "\n",
      "NUMERICAL: 15 (100%)\n",
      "\t0: \"cont1\" NUMERICAL mean:0.506927 min:-0.0772377 max:1.01623 sd:0.204115\n",
      "\t1: \"cont10\" NUMERICAL mean:0.520411 min:-0.085046 max:1.19995 sd:0.201994\n",
      "\t2: \"cont11\" NUMERICAL mean:0.483942 min:0.0832767 max:1.02262 sd:0.22019\n",
      "\t3: \"cont12\" NUMERICAL mean:0.506728 min:0.091488 max:1.04903 sd:0.218957\n",
      "\t4: \"cont13\" NUMERICAL mean:0.55341 min:0.0353633 max:0.977845 sd:0.229728\n",
      "\t5: \"cont14\" NUMERICAL mean:0.503661 min:0.166367 max:0.868506 sd:0.208206\n",
      "\t6: \"cont2\" NUMERICAL mean:0.497598 min:-0.0313975 max:0.859697 sd:0.22809\n",
      "\t7: \"cont3\" NUMERICAL mean:0.521296 min:0.0209669 max:1.00695 sd:0.200616\n",
      "\t8: \"cont4\" NUMERICAL mean:0.515783 min:0.154548 max:1.0104 sd:0.233045\n",
      "\t9: \"cont5\" NUMERICAL mean:0.50192 min:0.276377 max:1.03405 sd:0.220764\n",
      "\t10: \"cont6\" NUMERICAL mean:0.526421 min:0.0661656 max:1.04386 sd:0.217942\n",
      "\t11: \"cont7\" NUMERICAL mean:0.487785 min:-0.0976663 max:1.06617 sd:0.181148\n",
      "\t12: \"cont8\" NUMERICAL mean:0.525242 min:0.21726 max:1.02443 sd:0.216252\n",
      "\t13: \"cont9\" NUMERICAL mean:0.459816 min:-0.240604 max:1.00032 sd:0.196744\n",
      "\t14: \"__LABEL\" NUMERICAL mean:7.90633 min:0 max:10.2676 sd:0.733096\n",
      "\n",
      "Terminology:\n",
      "\tnas: Number of non-available (i.e. missing) values.\n",
      "\tood: Out of dictionary.\n",
      "\tmanually-defined: Attribute which type is manually defined by the user i.e. the type was not automatically inferred.\n",
      "\ttokenized: The attribute value is obtained through tokenization.\n",
      "\thas-dict: The attribute is attached to a string dictionary e.g. a categorical attribute stored as a string.\n",
      "\tvocab-size: Number of unique values.\n",
      "\n",
      "[INFO kernel.cc:762] Configure learner\n",
      "[INFO kernel.cc:787] Training config:\n",
      "learner: \"CART\"\n",
      "features: \"cont1\"\n",
      "features: \"cont10\"\n",
      "features: \"cont11\"\n",
      "features: \"cont12\"\n",
      "features: \"cont13\"\n",
      "features: \"cont14\"\n",
      "features: \"cont2\"\n",
      "features: \"cont3\"\n",
      "features: \"cont4\"\n",
      "features: \"cont5\"\n",
      "features: \"cont6\"\n",
      "features: \"cont7\"\n",
      "features: \"cont8\"\n",
      "features: \"cont9\"\n",
      "label: \"__LABEL\"\n",
      "task: REGRESSION\n",
      "[yggdrasil_decision_forests.model.cart.proto.cart_config] {\n",
      "  decision_tree {\n",
      "    max_depth: 16\n",
      "    min_examples: 5\n",
      "    in_split_min_examples_check: true\n",
      "    missing_value_policy: GLOBAL_IMPUTATION\n",
      "    allow_na_conditions: false\n",
      "    categorical_set_greedy_forward {\n",
      "      sampling: 0.1\n",
      "      max_num_items: -1\n",
      "      min_item_frequency: 1\n",
      "    }\n",
      "    growing_strategy_local {\n",
      "    }\n",
      "    categorical {\n",
      "      cart {\n",
      "      }\n",
      "    }\n",
      "    num_candidate_attributes_ratio: -1\n",
      "    axis_aligned_split {\n",
      "    }\n",
      "    internal {\n",
      "      sorting_strategy: PRESORTED\n",
      "    }\n",
      "  }\n",
      "  validation_ratio: 0.1\n",
      "}\n",
      "\n",
      "[INFO kernel.cc:790] Deployment config:\n",
      "num_threads: 6\n",
      "\n",
      "[INFO kernel.cc:817] Train model\n",
      "[INFO cart.cc:174] Training CART on 240000 example(s) and 14 feature(s).\n"
     ]
    },
    {
     "name": "stdout",
     "output_type": "stream",
     "text": [
      "3750/3750 [==============================] - 13s 3ms/step\n",
      "Model training time: 0:00:12.752807 \n",
      "\n"
     ]
    },
    {
     "name": "stderr",
     "output_type": "stream",
     "text": [
      "[INFO cart.cc:375] 10311 nodes before pruning. 1 nodes after pruning.\n",
      "[INFO kernel.cc:828] Export model in log directory: /tmp/tmp_3xwa5ly\n",
      "[INFO kernel.cc:836] Save model in resources\n",
      "[INFO kernel.cc:988] Loading model from path\n",
      "[WARNING utils.cc:73] The model does not have any input features i.e. the model is constant and will always return the same prediction.\n",
      "[INFO decision_forest.cc:590] Model loaded with 1 root(s), 1 node(s), and 0 input feature(s).\n",
      "[INFO abstract_model.cc:993] Engine \"RandomForestOptPred\" built\n",
      "[INFO kernel.cc:848] Use fast generic engine\n"
     ]
    }
   ],
   "source": [
    "# Define the baseline model for benchmarking\n",
    "start_time_module = datetime.now()\n",
    "reset_random()\n",
    "CART_model = tfdf.keras.CartModel(task = tfdf.keras.Task.REGRESSION)\n",
    "CART_model.compile(metrics=DEFAULT_METRICS)\n",
    "\n",
    "# \"sys_pipes\" is optional. It enables the display of the training logs.\n",
    "# with sys_pipes():\n",
    "#     CART_model.fit(x=tfds_train)\n",
    "\n",
    "# Train the model.\n",
    "CART_model.fit(x=tfds_train)\n",
    "print ('Model training time:', (datetime.now() - start_time_module), '\\n')"
   ]
  },
  {
   "cell_type": "code",
   "execution_count": 39,
   "metadata": {
    "colab": {
     "base_uri": "https://localhost:8080/"
    },
    "id": "SWVKI95XFPfG",
    "outputId": "6ca847bf-cbbf-4212-d36e-8bda24f3ebe4"
   },
   "outputs": [
    {
     "name": "stdout",
     "output_type": "stream",
     "text": [
      "938/938 [==============================] - 3s 3ms/step - loss: 0.0000e+00 - rmse: 5.6343\n",
      "\n",
      "loss: 0.0000\n",
      "rmse: 5.6343\n"
     ]
    }
   ],
   "source": [
    "CART_eval = CART_model.evaluate(tfds_valid, return_dict=True)\n",
    "print()\n",
    "\n",
    "for name, value in CART_eval.items():\n",
    "    print(f\"{name}: {value:.4f}\")"
   ]
  },
  {
   "cell_type": "code",
   "execution_count": 40,
   "metadata": {
    "colab": {
     "base_uri": "https://localhost:8080/",
     "height": 74
    },
    "id": "k0ZLkM_HgrKH",
    "outputId": "fd98cf5a-7150-45c6-954e-5db7adac84b2"
   },
   "outputs": [],
   "source": [
    "# Plot the model using Google Colab\n",
    "# tfdf.model_plotter.plot_model_in_colab(CART_model)"
   ]
  },
  {
   "cell_type": "markdown",
   "metadata": {
    "id": "zVCQJVv21m86"
   },
   "source": [
    "### 3.d) Train and Evaluate the Gradient Boosted Trees Model"
   ]
  },
  {
   "cell_type": "code",
   "execution_count": 41,
   "metadata": {
    "colab": {
     "base_uri": "https://localhost:8080/"
    },
    "id": "ogW3JeatFDRS",
    "outputId": "306052c2-75dc-4e38-e7e4-5f578f5df113"
   },
   "outputs": [
    {
     "name": "stdout",
     "output_type": "stream",
     "text": [
      "3750/3750 [==============================] - ETA: 0s"
     ]
    },
    {
     "name": "stderr",
     "output_type": "stream",
     "text": [
      "[INFO kernel.cc:736] Start Yggdrasil model training\n",
      "[INFO kernel.cc:737] Collect training examples\n",
      "[INFO kernel.cc:392] Number of batches: 3750\n",
      "[INFO kernel.cc:393] Number of examples: 240000\n",
      "[INFO kernel.cc:759] Dataset:\n",
      "Number of records: 240000\n",
      "Number of columns: 15\n",
      "\n",
      "Number of columns by type:\n",
      "\tNUMERICAL: 15 (100%)\n",
      "\n",
      "Columns:\n",
      "\n",
      "NUMERICAL: 15 (100%)\n",
      "\t0: \"cont1\" NUMERICAL mean:0.506927 min:-0.0772377 max:1.01623 sd:0.204115\n",
      "\t1: \"cont10\" NUMERICAL mean:0.520411 min:-0.085046 max:1.19995 sd:0.201994\n",
      "\t2: \"cont11\" NUMERICAL mean:0.483942 min:0.0832767 max:1.02262 sd:0.22019\n",
      "\t3: \"cont12\" NUMERICAL mean:0.506728 min:0.091488 max:1.04903 sd:0.218957\n",
      "\t4: \"cont13\" NUMERICAL mean:0.55341 min:0.0353633 max:0.977845 sd:0.229728\n",
      "\t5: \"cont14\" NUMERICAL mean:0.503661 min:0.166367 max:0.868506 sd:0.208206\n",
      "\t6: \"cont2\" NUMERICAL mean:0.497598 min:-0.0313975 max:0.859697 sd:0.22809\n",
      "\t7: \"cont3\" NUMERICAL mean:0.521296 min:0.0209669 max:1.00695 sd:0.200616\n",
      "\t8: \"cont4\" NUMERICAL mean:0.515783 min:0.154548 max:1.0104 sd:0.233045\n",
      "\t9: \"cont5\" NUMERICAL mean:0.50192 min:0.276377 max:1.03405 sd:0.220764\n",
      "\t10: \"cont6\" NUMERICAL mean:0.526421 min:0.0661656 max:1.04386 sd:0.217942\n",
      "\t11: \"cont7\" NUMERICAL mean:0.487785 min:-0.0976663 max:1.06617 sd:0.181148\n",
      "\t12: \"cont8\" NUMERICAL mean:0.525242 min:0.21726 max:1.02443 sd:0.216252\n",
      "\t13: \"cont9\" NUMERICAL mean:0.459816 min:-0.240604 max:1.00032 sd:0.196744\n",
      "\t14: \"__LABEL\" NUMERICAL mean:7.90633 min:0 max:10.2676 sd:0.733096\n",
      "\n",
      "Terminology:\n",
      "\tnas: Number of non-available (i.e. missing) values.\n",
      "\tood: Out of dictionary.\n",
      "\tmanually-defined: Attribute which type is manually defined by the user i.e. the type was not automatically inferred.\n",
      "\ttokenized: The attribute value is obtained through tokenization.\n",
      "\thas-dict: The attribute is attached to a string dictionary e.g. a categorical attribute stored as a string.\n",
      "\tvocab-size: Number of unique values.\n",
      "\n",
      "[INFO kernel.cc:762] Configure learner\n",
      "[WARNING gradient_boosted_trees.cc:1643] Subsample hyperparameter given but sampling method does not match.\n",
      "[WARNING gradient_boosted_trees.cc:1656] GOSS alpha hyperparameter given but GOSS is disabled.\n",
      "[WARNING gradient_boosted_trees.cc:1665] GOSS beta hyperparameter given but GOSS is disabled.\n",
      "[WARNING gradient_boosted_trees.cc:1677] SelGB ratio hyperparameter given but SelGB is disabled.\n",
      "[INFO kernel.cc:787] Training config:\n",
      "learner: \"GRADIENT_BOOSTED_TREES\"\n",
      "features: \"cont1\"\n",
      "features: \"cont10\"\n",
      "features: \"cont11\"\n",
      "features: \"cont12\"\n",
      "features: \"cont13\"\n",
      "features: \"cont14\"\n",
      "features: \"cont2\"\n",
      "features: \"cont3\"\n",
      "features: \"cont4\"\n",
      "features: \"cont5\"\n",
      "features: \"cont6\"\n",
      "features: \"cont7\"\n",
      "features: \"cont8\"\n",
      "features: \"cont9\"\n",
      "label: \"__LABEL\"\n",
      "task: REGRESSION\n",
      "[yggdrasil_decision_forests.model.gradient_boosted_trees.proto.gradient_boosted_trees_config] {\n",
      "  num_trees: 300\n",
      "  decision_tree {\n",
      "    max_depth: 6\n",
      "    min_examples: 5\n",
      "    in_split_min_examples_check: true\n",
      "    missing_value_policy: GLOBAL_IMPUTATION\n",
      "    allow_na_conditions: false\n",
      "    categorical_set_greedy_forward {\n",
      "      sampling: 0.1\n",
      "      max_num_items: -1\n",
      "      min_item_frequency: 1\n",
      "    }\n",
      "    growing_strategy_local {\n",
      "    }\n",
      "    categorical {\n",
      "      cart {\n",
      "      }\n",
      "    }\n",
      "    num_candidate_attributes_ratio: -1\n",
      "    axis_aligned_split {\n",
      "    }\n",
      "    internal {\n",
      "      sorting_strategy: PRESORTED\n",
      "    }\n",
      "  }\n",
      "  shrinkage: 0.1\n",
      "  validation_set_ratio: 0.1\n",
      "  early_stopping: VALIDATION_LOSS_INCREASE\n",
      "  early_stopping_num_trees_look_ahead: 30\n",
      "  l2_regularization: 0\n",
      "  lambda_loss: 1\n",
      "  mart {\n",
      "  }\n",
      "  adapt_subsample_for_maximum_training_duration: false\n",
      "  l1_regularization: 0\n",
      "  use_hessian_gain: false\n",
      "  l2_regularization_categorical: 1\n",
      "  apply_link_function: true\n",
      "  compute_permutation_variable_importance: false\n",
      "}\n",
      "\n",
      "[INFO kernel.cc:790] Deployment config:\n",
      "num_threads: 6\n",
      "\n",
      "[INFO kernel.cc:817] Train model\n",
      "[INFO gradient_boosted_trees.cc:404] Default loss set to SQUARED_ERROR\n",
      "[INFO gradient_boosted_trees.cc:1001] Training gradient boosted tree on 240000 example(s) and 14 feature(s).\n",
      "[INFO gradient_boosted_trees.cc:1044] 215886 examples used for training and 24114 examples used for validation\n",
      "[INFO gradient_boosted_trees.cc:1426] \tnum-trees:1 train-loss:0.731300 train-rmse:0.731300 valid-loss:0.726250 valid-rmse:0.726250\n",
      "[INFO gradient_boosted_trees.cc:1428] \tnum-trees:2 train-loss:0.729553 train-rmse:0.729553 valid-loss:0.724600 valid-rmse:0.724600\n",
      "[INFO gradient_boosted_trees.cc:1428] \tnum-trees:76 train-loss:0.702458 train-rmse:0.702458 valid-loss:0.703942 valid-rmse:0.703942\n",
      "[INFO gradient_boosted_trees.cc:1428] \tnum-trees:152 train-loss:0.694368 train-rmse:0.694368 valid-loss:0.700722 valid-rmse:0.700722\n",
      "[INFO gradient_boosted_trees.cc:1428] \tnum-trees:228 train-loss:0.688502 train-rmse:0.688502 valid-loss:0.699100 valid-rmse:0.699100\n"
     ]
    },
    {
     "name": "stdout",
     "output_type": "stream",
     "text": [
      "3750/3750 [==============================] - 130s 35ms/step\n"
     ]
    },
    {
     "name": "stderr",
     "output_type": "stream",
     "text": [
      "[INFO gradient_boosted_trees.cc:1426] \tnum-trees:300 train-loss:0.683936 train-rmse:0.683936 valid-loss:0.698605 valid-rmse:0.698605\n",
      "[INFO gradient_boosted_trees.cc:229] Truncates the model to 299 tree(s) i.e. 299  iteration(s).\n",
      "[INFO gradient_boosted_trees.cc:263] Final model num-trees:299 valid-loss:0.698598 valid-rmse:0.698598\n",
      "[INFO kernel.cc:828] Export model in log directory: /tmp/tmp2p0eknor\n",
      "[INFO kernel.cc:836] Save model in resources\n",
      "[INFO kernel.cc:988] Loading model from path\n",
      "[INFO abstract_model.cc:993] Engine \"GradientBoostedTreesQuickScorerExtended\" built\n",
      "[INFO kernel.cc:848] Use fast generic engine\n"
     ]
    },
    {
     "name": "stdout",
     "output_type": "stream",
     "text": [
      "Model training time: 0:02:10.158251 \n",
      "\n"
     ]
    }
   ],
   "source": [
    "# Define the baseline model for benchmarking\n",
    "start_time_module = datetime.now()\n",
    "reset_random()\n",
    "GBT_model = tfdf.keras.GradientBoostedTreesModel(task = tfdf.keras.Task.REGRESSION)\n",
    "GBT_model.compile(metrics=DEFAULT_METRICS)\n",
    "\n",
    "# \"sys_pipes\" is optional. It enables the display of the training logs.\n",
    "# with sys_pipes():\n",
    "#     GBT_model.fit(x=tfds_train)\n",
    "\n",
    "# Train the model.\n",
    "GBT_model.fit(x=tfds_train)\n",
    "print ('Model training time:', (datetime.now() - start_time_module), '\\n')"
   ]
  },
  {
   "cell_type": "code",
   "execution_count": 43,
   "metadata": {
    "colab": {
     "base_uri": "https://localhost:8080/"
    },
    "id": "zTUNrgNrFYWB",
    "outputId": "19baf976-7519-4b18-fd16-6d846aad21f4"
   },
   "outputs": [
    {
     "name": "stdout",
     "output_type": "stream",
     "text": [
      "938/938 [==============================] - 3s 3ms/step - loss: 0.0000e+00 - rmse: 0.7013\n",
      "\n",
      "loss: 0.0000\n",
      "rmse: 0.7013\n"
     ]
    }
   ],
   "source": [
    "GBT_eval = GBT_model.evaluate(tfds_valid, return_dict=True)\n",
    "print()\n",
    "\n",
    "for name, value in GBT_eval.items():\n",
    "    print(f\"{name}: {value:.4f}\")"
   ]
  },
  {
   "cell_type": "code",
   "execution_count": 44,
   "metadata": {
    "colab": {
     "base_uri": "https://localhost:8080/",
     "height": 279
    },
    "id": "e0K_RY-tkUDo",
    "outputId": "53222f5e-ab04-46ca-eeff-0f3b37e44057"
   },
   "outputs": [
    {
     "data": {
      "image/png": "[encoded data removed]",
      "text/plain": [
       "<Figure size 1728x576 with 1 Axes>"
      ]
     },
     "metadata": {
      "needs_background": "light"
     },
     "output_type": "display_data"
    }
   ],
   "source": [
    "logs = GBT_model.make_inspector().training_logs()\n",
    "\n",
    "plt.figure(figsize=(24, 8))\n",
    "plt.subplot(1, 2, 1)\n",
    "plt.plot([log.num_trees for log in logs], [log.evaluation.rmse for log in logs])\n",
    "plt.xlabel(\"Number of trees\")\n",
    "plt.ylabel(\"RMSE (out-of-bag)\")\n",
    "plt.show()"
   ]
  },
  {
   "cell_type": "code",
   "execution_count": 45,
   "metadata": {
    "colab": {
     "base_uri": "https://localhost:8080/",
     "height": 404
    },
    "id": "tEWLGqQvkkon",
    "outputId": "1108ebd0-a281-40ea-e5dd-6b1a4f1a26b2"
   },
   "outputs": [],
   "source": [
    "# Plot the model using Google Colab\n",
    "# tfdf.model_plotter.plot_model_in_colab(GBT_model)"
   ]
  },
  {
   "cell_type": "code",
   "execution_count": 46,
   "metadata": {
    "collapsed": false,
    "id": "g2ZPK8-5wXjU",
    "jupyter": {
     "outputs_hidden": false
    },
    "pycharm": {
     "name": "#%%\n"
    }
   },
   "outputs": [],
   "source": [
    "if NOTIFY_STATUS: status_notify(\"Task 4 - Train and Evaluate Models completed! \"+datetime.now().strftime('%a %B %d, %Y %I:%M:%S %p'))"
   ]
  },
  {
   "cell_type": "markdown",
   "metadata": {
    "id": "ISyQ5uNrwXjU"
   },
   "source": [
    "## Task 4 - Fine-tune and Improve Models"
   ]
  },
  {
   "cell_type": "code",
   "execution_count": 47,
   "metadata": {
    "id": "l3AulRWbzzOz"
   },
   "outputs": [],
   "source": [
    "if NOTIFY_STATUS: status_notify(\"Task 4 - Fine-tune and Improve Models has begun! \"+datetime.now().strftime('%a %B %d, %Y %I:%M:%S %p'))"
   ]
  },
  {
   "cell_type": "code",
   "execution_count": 48,
   "metadata": {
    "colab": {
     "base_uri": "https://localhost:8080/"
    },
    "id": "vlCLtsxjzQ2V",
    "outputId": "d9f88304-2cb0-45f6-9d9b-81bb1be7d1c7"
   },
   "outputs": [
    {
     "name": "stdout",
     "output_type": "stream",
     "text": [
      "3739/3750 [============================>.] - ETA: 0s"
     ]
    },
    {
     "name": "stderr",
     "output_type": "stream",
     "text": [
      "[INFO kernel.cc:736] Start Yggdrasil model training\n",
      "[INFO kernel.cc:737] Collect training examples\n",
      "[INFO kernel.cc:392] Number of batches: 3750\n",
      "[INFO kernel.cc:393] Number of examples: 240000\n",
      "[INFO kernel.cc:759] Dataset:\n",
      "Number of records: 240000\n",
      "Number of columns: 15\n",
      "\n",
      "Number of columns by type:\n",
      "\tNUMERICAL: 15 (100%)\n",
      "\n",
      "Columns:\n",
      "\n",
      "NUMERICAL: 15 (100%)\n",
      "\t0: \"cont1\" NUMERICAL mean:0.506927 min:-0.0772377 max:1.01623 sd:0.204115\n",
      "\t1: \"cont10\" NUMERICAL mean:0.520411 min:-0.085046 max:1.19995 sd:0.201994\n",
      "\t2: \"cont11\" NUMERICAL mean:0.483942 min:0.0832767 max:1.02262 sd:0.22019\n",
      "\t3: \"cont12\" NUMERICAL mean:0.506728 min:0.091488 max:1.04903 sd:0.218957\n",
      "\t4: \"cont13\" NUMERICAL mean:0.55341 min:0.0353633 max:0.977845 sd:0.229728\n",
      "\t5: \"cont14\" NUMERICAL mean:0.503661 min:0.166367 max:0.868506 sd:0.208206\n",
      "\t6: \"cont2\" NUMERICAL mean:0.497598 min:-0.0313975 max:0.859697 sd:0.22809\n",
      "\t7: \"cont3\" NUMERICAL mean:0.521296 min:0.0209669 max:1.00695 sd:0.200616\n",
      "\t8: \"cont4\" NUMERICAL mean:0.515783 min:0.154548 max:1.0104 sd:0.233045\n",
      "\t9: \"cont5\" NUMERICAL mean:0.50192 min:0.276377 max:1.03405 sd:0.220764\n",
      "\t10: \"cont6\" NUMERICAL mean:0.526421 min:0.0661656 max:1.04386 sd:0.217942\n",
      "\t11: \"cont7\" NUMERICAL mean:0.487785 min:-0.0976663 max:1.06617 sd:0.181148\n",
      "\t12: \"cont8\" NUMERICAL mean:0.525242 min:0.21726 max:1.02443 sd:0.216252\n",
      "\t13: \"cont9\" NUMERICAL mean:0.459816 min:-0.240604 max:1.00032 sd:0.196744\n",
      "\t14: \"__LABEL\" NUMERICAL mean:7.90633 min:0 max:10.2676 sd:0.733096\n",
      "\n",
      "Terminology:\n",
      "\tnas: Number of non-available (i.e. missing) values.\n",
      "\tood: Out of dictionary.\n",
      "\tmanually-defined: Attribute which type is manually defined by the user i.e. the type was not automatically inferred.\n",
      "\ttokenized: The attribute value is obtained through tokenization.\n",
      "\thas-dict: The attribute is attached to a string dictionary e.g. a categorical attribute stored as a string.\n",
      "\tvocab-size: Number of unique values.\n",
      "\n",
      "[INFO kernel.cc:762] Configure learner\n",
      "[WARNING gradient_boosted_trees.cc:1643] Subsample hyperparameter given but sampling method does not match.\n",
      "[WARNING gradient_boosted_trees.cc:1656] GOSS alpha hyperparameter given but GOSS is disabled.\n",
      "[WARNING gradient_boosted_trees.cc:1665] GOSS beta hyperparameter given but GOSS is disabled.\n",
      "[WARNING gradient_boosted_trees.cc:1677] SelGB ratio hyperparameter given but SelGB is disabled.\n",
      "[INFO kernel.cc:787] Training config:\n",
      "learner: \"GRADIENT_BOOSTED_TREES\"\n",
      "features: \"cont1\"\n",
      "features: \"cont10\"\n",
      "features: \"cont11\"\n",
      "features: \"cont12\"\n",
      "features: \"cont13\"\n",
      "features: \"cont14\"\n",
      "features: \"cont2\"\n",
      "features: \"cont3\"\n",
      "features: \"cont4\"\n",
      "features: \"cont5\"\n",
      "features: \"cont6\"\n",
      "features: \"cont7\"\n",
      "features: \"cont8\"\n",
      "features: \"cont9\"\n",
      "label: \"__LABEL\"\n",
      "task: REGRESSION\n",
      "[yggdrasil_decision_forests.model.gradient_boosted_trees.proto.gradient_boosted_trees_config] {\n",
      "  num_trees: 300\n",
      "  decision_tree {\n",
      "    max_depth: 6\n",
      "    min_examples: 5\n",
      "    in_split_min_examples_check: true\n",
      "    missing_value_policy: GLOBAL_IMPUTATION\n",
      "    allow_na_conditions: false\n",
      "    categorical_set_greedy_forward {\n",
      "      sampling: 0.1\n",
      "      max_num_items: -1\n",
      "      min_item_frequency: 1\n",
      "    }\n",
      "    growing_strategy_local {\n",
      "    }\n",
      "    categorical {\n",
      "      cart {\n",
      "      }\n",
      "    }\n",
      "    num_candidate_attributes_ratio: -1\n",
      "    axis_aligned_split {\n",
      "    }\n",
      "    internal {\n",
      "      sorting_strategy: PRESORTED\n",
      "    }\n",
      "  }\n",
      "  shrinkage: 0.1\n",
      "  validation_set_ratio: 0.1\n",
      "  early_stopping: VALIDATION_LOSS_INCREASE\n",
      "  early_stopping_num_trees_look_ahead: 30\n",
      "  l2_regularization: 0\n",
      "  lambda_loss: 1\n",
      "  mart {\n",
      "  }\n",
      "  adapt_subsample_for_maximum_training_duration: false\n",
      "  l1_regularization: 0\n",
      "  use_hessian_gain: false\n",
      "  l2_regularization_categorical: 1\n",
      "  apply_link_function: true\n",
      "  compute_permutation_variable_importance: false\n",
      "}\n",
      "\n",
      "[INFO kernel.cc:790] Deployment config:\n",
      "num_threads: 6\n",
      "\n",
      "[INFO kernel.cc:817] Train model\n",
      "[INFO gradient_boosted_trees.cc:404] Default loss set to SQUARED_ERROR\n",
      "[INFO gradient_boosted_trees.cc:1001] Training gradient boosted tree on 240000 example(s) and 14 feature(s).\n",
      "[INFO gradient_boosted_trees.cc:1044] 215886 examples used for training and 24114 examples used for validation\n",
      "[INFO gradient_boosted_trees.cc:1426] \tnum-trees:1 train-loss:0.731300 train-rmse:0.731300 valid-loss:0.726250 valid-rmse:0.726250\n",
      "[INFO gradient_boosted_trees.cc:1428] \tnum-trees:2 train-loss:0.729553 train-rmse:0.729553 valid-loss:0.724600 valid-rmse:0.724600\n",
      "[INFO gradient_boosted_trees.cc:1428] \tnum-trees:75 train-loss:0.702553 train-rmse:0.702553 valid-loss:0.703949 valid-rmse:0.703949\n",
      "[INFO gradient_boosted_trees.cc:1428] \tnum-trees:150 train-loss:0.694485 train-rmse:0.694485 valid-loss:0.700779 valid-rmse:0.700779\n",
      "[INFO gradient_boosted_trees.cc:1428] \tnum-trees:225 train-loss:0.688678 train-rmse:0.688678 valid-loss:0.699110 valid-rmse:0.699110\n"
     ]
    },
    {
     "name": "stdout",
     "output_type": "stream",
     "text": [
      "3750/3750 [==============================] - 131s 35ms/step\n"
     ]
    },
    {
     "name": "stderr",
     "output_type": "stream",
     "text": [
      "[INFO gradient_boosted_trees.cc:1426] \tnum-trees:300 train-loss:0.683936 train-rmse:0.683936 valid-loss:0.698605 valid-rmse:0.698605\n",
      "[INFO gradient_boosted_trees.cc:229] Truncates the model to 299 tree(s) i.e. 299  iteration(s).\n",
      "[INFO gradient_boosted_trees.cc:263] Final model num-trees:299 valid-loss:0.698598 valid-rmse:0.698598\n",
      "[INFO kernel.cc:828] Export model in log directory: /tmp/tmpmf0sinnj\n",
      "[INFO kernel.cc:836] Save model in resources\n",
      "[INFO kernel.cc:988] Loading model from path\n",
      "[INFO abstract_model.cc:993] Engine \"GradientBoostedTreesQuickScorerExtended\" built\n",
      "[INFO kernel.cc:848] Use fast generic engine\n"
     ]
    },
    {
     "name": "stdout",
     "output_type": "stream",
     "text": [
      "938/938 [==============================] - 3s 3ms/step - loss: 0.0000e+00 - rmse: 0.7013\n",
      "\n",
      "loss: 0.0000\n",
      "rmse: 0.7013\n",
      "Model optimization time: 0:02:16.771603 \n",
      "\n",
      "3741/3750 [============================>.] - ETA: 0s"
     ]
    },
    {
     "name": "stderr",
     "output_type": "stream",
     "text": [
      "[INFO kernel.cc:736] Start Yggdrasil model training\n",
      "[INFO kernel.cc:737] Collect training examples\n",
      "[INFO kernel.cc:392] Number of batches: 3750\n",
      "[INFO kernel.cc:393] Number of examples: 240000\n",
      "[INFO kernel.cc:759] Dataset:\n",
      "Number of records: 240000\n",
      "Number of columns: 15\n",
      "\n",
      "Number of columns by type:\n",
      "\tNUMERICAL: 15 (100%)\n",
      "\n",
      "Columns:\n",
      "\n",
      "NUMERICAL: 15 (100%)\n",
      "\t0: \"cont1\" NUMERICAL mean:0.506927 min:-0.0772377 max:1.01623 sd:0.204115\n",
      "\t1: \"cont10\" NUMERICAL mean:0.520411 min:-0.085046 max:1.19995 sd:0.201994\n",
      "\t2: \"cont11\" NUMERICAL mean:0.483942 min:0.0832767 max:1.02262 sd:0.22019\n",
      "\t3: \"cont12\" NUMERICAL mean:0.506728 min:0.091488 max:1.04903 sd:0.218957\n",
      "\t4: \"cont13\" NUMERICAL mean:0.55341 min:0.0353633 max:0.977845 sd:0.229728\n",
      "\t5: \"cont14\" NUMERICAL mean:0.503661 min:0.166367 max:0.868506 sd:0.208206\n",
      "\t6: \"cont2\" NUMERICAL mean:0.497598 min:-0.0313975 max:0.859697 sd:0.22809\n",
      "\t7: \"cont3\" NUMERICAL mean:0.521296 min:0.0209669 max:1.00695 sd:0.200616\n",
      "\t8: \"cont4\" NUMERICAL mean:0.515783 min:0.154548 max:1.0104 sd:0.233045\n",
      "\t9: \"cont5\" NUMERICAL mean:0.50192 min:0.276377 max:1.03405 sd:0.220764\n",
      "\t10: \"cont6\" NUMERICAL mean:0.526421 min:0.0661656 max:1.04386 sd:0.217942\n",
      "\t11: \"cont7\" NUMERICAL mean:0.487785 min:-0.0976663 max:1.06617 sd:0.181148\n",
      "\t12: \"cont8\" NUMERICAL mean:0.525242 min:0.21726 max:1.02443 sd:0.216252\n",
      "\t13: \"cont9\" NUMERICAL mean:0.459816 min:-0.240604 max:1.00032 sd:0.196744\n",
      "\t14: \"__LABEL\" NUMERICAL mean:7.90633 min:0 max:10.2676 sd:0.733096\n",
      "\n",
      "Terminology:\n",
      "\tnas: Number of non-available (i.e. missing) values.\n",
      "\tood: Out of dictionary.\n",
      "\tmanually-defined: Attribute which type is manually defined by the user i.e. the type was not automatically inferred.\n",
      "\ttokenized: The attribute value is obtained through tokenization.\n",
      "\thas-dict: The attribute is attached to a string dictionary e.g. a categorical attribute stored as a string.\n",
      "\tvocab-size: Number of unique values.\n",
      "\n",
      "[INFO kernel.cc:762] Configure learner\n",
      "[WARNING gradient_boosted_trees.cc:1643] Subsample hyperparameter given but sampling method does not match.\n",
      "[WARNING gradient_boosted_trees.cc:1656] GOSS alpha hyperparameter given but GOSS is disabled.\n",
      "[WARNING gradient_boosted_trees.cc:1665] GOSS beta hyperparameter given but GOSS is disabled.\n",
      "[WARNING gradient_boosted_trees.cc:1677] SelGB ratio hyperparameter given but SelGB is disabled.\n",
      "[INFO kernel.cc:787] Training config:\n",
      "learner: \"GRADIENT_BOOSTED_TREES\"\n",
      "features: \"cont1\"\n",
      "features: \"cont10\"\n",
      "features: \"cont11\"\n",
      "features: \"cont12\"\n",
      "features: \"cont13\"\n",
      "features: \"cont14\"\n",
      "features: \"cont2\"\n",
      "features: \"cont3\"\n",
      "features: \"cont4\"\n",
      "features: \"cont5\"\n",
      "features: \"cont6\"\n",
      "features: \"cont7\"\n",
      "features: \"cont8\"\n",
      "features: \"cont9\"\n",
      "label: \"__LABEL\"\n",
      "task: REGRESSION\n",
      "[yggdrasil_decision_forests.model.gradient_boosted_trees.proto.gradient_boosted_trees_config] {\n",
      "  num_trees: 500\n",
      "  decision_tree {\n",
      "    max_depth: 6\n",
      "    min_examples: 5\n",
      "    in_split_min_examples_check: true\n",
      "    missing_value_policy: GLOBAL_IMPUTATION\n",
      "    allow_na_conditions: false\n",
      "    categorical_set_greedy_forward {\n",
      "      sampling: 0.1\n",
      "      max_num_items: -1\n",
      "      min_item_frequency: 1\n",
      "    }\n",
      "    growing_strategy_local {\n",
      "    }\n",
      "    categorical {\n",
      "      cart {\n",
      "      }\n",
      "    }\n",
      "    num_candidate_attributes_ratio: -1\n",
      "    axis_aligned_split {\n",
      "    }\n",
      "    internal {\n",
      "      sorting_strategy: PRESORTED\n",
      "    }\n",
      "  }\n",
      "  shrinkage: 0.1\n",
      "  validation_set_ratio: 0.1\n",
      "  early_stopping: VALIDATION_LOSS_INCREASE\n",
      "  early_stopping_num_trees_look_ahead: 30\n",
      "  l2_regularization: 0\n",
      "  lambda_loss: 1\n",
      "  mart {\n",
      "  }\n",
      "  adapt_subsample_for_maximum_training_duration: false\n",
      "  l1_regularization: 0\n",
      "  use_hessian_gain: false\n",
      "  l2_regularization_categorical: 1\n",
      "  apply_link_function: true\n",
      "  compute_permutation_variable_importance: false\n",
      "}\n",
      "\n",
      "[INFO kernel.cc:790] Deployment config:\n",
      "num_threads: 6\n",
      "\n",
      "[INFO kernel.cc:817] Train model\n",
      "[INFO gradient_boosted_trees.cc:404] Default loss set to SQUARED_ERROR\n",
      "[INFO gradient_boosted_trees.cc:1001] Training gradient boosted tree on 240000 example(s) and 14 feature(s).\n",
      "[INFO gradient_boosted_trees.cc:1044] 215886 examples used for training and 24114 examples used for validation\n",
      "[INFO gradient_boosted_trees.cc:1426] \tnum-trees:1 train-loss:0.731300 train-rmse:0.731300 valid-loss:0.726250 valid-rmse:0.726250\n",
      "[INFO gradient_boosted_trees.cc:1428] \tnum-trees:2 train-loss:0.729553 train-rmse:0.729553 valid-loss:0.724600 valid-rmse:0.724600\n",
      "[INFO gradient_boosted_trees.cc:1428] \tnum-trees:76 train-loss:0.702458 train-rmse:0.702458 valid-loss:0.703942 valid-rmse:0.703942\n",
      "[INFO gradient_boosted_trees.cc:1428] \tnum-trees:151 train-loss:0.694424 train-rmse:0.694424 valid-loss:0.700768 valid-rmse:0.700768\n",
      "[INFO gradient_boosted_trees.cc:1428] \tnum-trees:226 train-loss:0.688624 train-rmse:0.688624 valid-loss:0.699102 valid-rmse:0.699102\n",
      "[INFO gradient_boosted_trees.cc:1428] \tnum-trees:301 train-loss:0.683885 train-rmse:0.683885 valid-loss:0.698595 valid-rmse:0.698595\n",
      "[INFO gradient_boosted_trees.cc:1428] \tnum-trees:376 train-loss:0.679925 train-rmse:0.679925 valid-loss:0.698066 valid-rmse:0.698066\n"
     ]
    },
    {
     "name": "stdout",
     "output_type": "stream",
     "text": [
      "3750/3750 [==============================] - 185s 49ms/step\n"
     ]
    },
    {
     "name": "stderr",
     "output_type": "stream",
     "text": [
      "[INFO gradient_boosted_trees.cc:2740] Early stop of the training because the validation loss does not decrease anymore. Best valid-loss: 0.697896\n",
      "[INFO gradient_boosted_trees.cc:229] Truncates the model to 404 tree(s) i.e. 404  iteration(s).\n",
      "[INFO gradient_boosted_trees.cc:263] Final model num-trees:404 valid-loss:0.697896 valid-rmse:0.697896\n",
      "[INFO kernel.cc:828] Export model in log directory: /tmp/tmp34_dd_p1\n",
      "[INFO kernel.cc:836] Save model in resources\n",
      "[INFO kernel.cc:988] Loading model from path\n",
      "[INFO abstract_model.cc:993] Engine \"GradientBoostedTreesQuickScorerExtended\" built\n",
      "[INFO kernel.cc:848] Use fast generic engine\n"
     ]
    },
    {
     "name": "stdout",
     "output_type": "stream",
     "text": [
      "WARNING:tensorflow:5 out of the last 5 calls to <function CoreModel.make_predict_function.<locals>.predict_function_trained at 0x7f1c7fbbbee0> triggered tf.function retracing. Tracing is expensive and the excessive number of tracings could be due to (1) creating @tf.function repeatedly in a loop, (2) passing tensors with different shapes, (3) passing Python objects instead of tensors. For (1), please define your @tf.function outside of the loop. For (2), @tf.function has experimental_relax_shapes=True option that relaxes argument shapes that can avoid unnecessary retracing. For (3), please refer to https://www.tensorflow.org/guide/function#controlling_retracing and https://www.tensorflow.org/api_docs/python/tf/function for  more details.\n"
     ]
    },
    {
     "name": "stderr",
     "output_type": "stream",
     "text": [
      "WARNING:tensorflow:5 out of the last 5 calls to <function CoreModel.make_predict_function.<locals>.predict_function_trained at 0x7f1c7fbbbee0> triggered tf.function retracing. Tracing is expensive and the excessive number of tracings could be due to (1) creating @tf.function repeatedly in a loop, (2) passing tensors with different shapes, (3) passing Python objects instead of tensors. For (1), please define your @tf.function outside of the loop. For (2), @tf.function has experimental_relax_shapes=True option that relaxes argument shapes that can avoid unnecessary retracing. For (3), please refer to https://www.tensorflow.org/guide/function#controlling_retracing and https://www.tensorflow.org/api_docs/python/tf/function for  more details.\n"
     ]
    },
    {
     "name": "stdout",
     "output_type": "stream",
     "text": [
      "938/938 [==============================] - 3s 3ms/step - loss: 0.0000e+00 - rmse: 0.7011\n",
      "\n",
      "loss: 0.0000\n",
      "rmse: 0.7011\n",
      "Model optimization time: 0:03:10.095789 \n",
      "\n",
      "3749/3750 [============================>.] - ETA: 0s"
     ]
    },
    {
     "name": "stderr",
     "output_type": "stream",
     "text": [
      "[INFO kernel.cc:736] Start Yggdrasil model training\n",
      "[INFO kernel.cc:737] Collect training examples\n",
      "[INFO kernel.cc:392] Number of batches: 3750\n",
      "[INFO kernel.cc:393] Number of examples: 240000\n",
      "[INFO kernel.cc:759] Dataset:\n",
      "Number of records: 240000\n",
      "Number of columns: 15\n",
      "\n",
      "Number of columns by type:\n",
      "\tNUMERICAL: 15 (100%)\n",
      "\n",
      "Columns:\n",
      "\n",
      "NUMERICAL: 15 (100%)\n",
      "\t0: \"cont1\" NUMERICAL mean:0.506927 min:-0.0772377 max:1.01623 sd:0.204115\n",
      "\t1: \"cont10\" NUMERICAL mean:0.520411 min:-0.085046 max:1.19995 sd:0.201994\n",
      "\t2: \"cont11\" NUMERICAL mean:0.483942 min:0.0832767 max:1.02262 sd:0.22019\n",
      "\t3: \"cont12\" NUMERICAL mean:0.506728 min:0.091488 max:1.04903 sd:0.218957\n",
      "\t4: \"cont13\" NUMERICAL mean:0.55341 min:0.0353633 max:0.977845 sd:0.229728\n",
      "\t5: \"cont14\" NUMERICAL mean:0.503661 min:0.166367 max:0.868506 sd:0.208206\n",
      "\t6: \"cont2\" NUMERICAL mean:0.497598 min:-0.0313975 max:0.859697 sd:0.22809\n",
      "\t7: \"cont3\" NUMERICAL mean:0.521296 min:0.0209669 max:1.00695 sd:0.200616\n",
      "\t8: \"cont4\" NUMERICAL mean:0.515783 min:0.154548 max:1.0104 sd:0.233045\n",
      "\t9: \"cont5\" NUMERICAL mean:0.50192 min:0.276377 max:1.03405 sd:0.220764\n",
      "\t10: \"cont6\" NUMERICAL mean:0.526421 min:0.0661656 max:1.04386 sd:0.217942\n",
      "\t11: \"cont7\" NUMERICAL mean:0.487785 min:-0.0976663 max:1.06617 sd:0.181148\n",
      "\t12: \"cont8\" NUMERICAL mean:0.525242 min:0.21726 max:1.02443 sd:0.216252\n",
      "\t13: \"cont9\" NUMERICAL mean:0.459816 min:-0.240604 max:1.00032 sd:0.196744\n",
      "\t14: \"__LABEL\" NUMERICAL mean:7.90633 min:0 max:10.2676 sd:0.733096\n",
      "\n",
      "Terminology:\n",
      "\tnas: Number of non-available (i.e. missing) values.\n",
      "\tood: Out of dictionary.\n",
      "\tmanually-defined: Attribute which type is manually defined by the user i.e. the type was not automatically inferred.\n",
      "\ttokenized: The attribute value is obtained through tokenization.\n",
      "\thas-dict: The attribute is attached to a string dictionary e.g. a categorical attribute stored as a string.\n",
      "\tvocab-size: Number of unique values.\n",
      "\n",
      "[INFO kernel.cc:762] Configure learner\n",
      "[WARNING gradient_boosted_trees.cc:1643] Subsample hyperparameter given but sampling method does not match.\n",
      "[WARNING gradient_boosted_trees.cc:1656] GOSS alpha hyperparameter given but GOSS is disabled.\n",
      "[WARNING gradient_boosted_trees.cc:1665] GOSS beta hyperparameter given but GOSS is disabled.\n",
      "[WARNING gradient_boosted_trees.cc:1677] SelGB ratio hyperparameter given but SelGB is disabled.\n",
      "[INFO kernel.cc:787] Training config:\n",
      "learner: \"GRADIENT_BOOSTED_TREES\"\n",
      "features: \"cont1\"\n",
      "features: \"cont10\"\n",
      "features: \"cont11\"\n",
      "features: \"cont12\"\n",
      "features: \"cont13\"\n",
      "features: \"cont14\"\n",
      "features: \"cont2\"\n",
      "features: \"cont3\"\n",
      "features: \"cont4\"\n",
      "features: \"cont5\"\n",
      "features: \"cont6\"\n",
      "features: \"cont7\"\n",
      "features: \"cont8\"\n",
      "features: \"cont9\"\n",
      "label: \"__LABEL\"\n",
      "task: REGRESSION\n",
      "[yggdrasil_decision_forests.model.gradient_boosted_trees.proto.gradient_boosted_trees_config] {\n",
      "  num_trees: 750\n",
      "  decision_tree {\n",
      "    max_depth: 6\n",
      "    min_examples: 5\n",
      "    in_split_min_examples_check: true\n",
      "    missing_value_policy: GLOBAL_IMPUTATION\n",
      "    allow_na_conditions: false\n",
      "    categorical_set_greedy_forward {\n",
      "      sampling: 0.1\n",
      "      max_num_items: -1\n",
      "      min_item_frequency: 1\n",
      "    }\n",
      "    growing_strategy_local {\n",
      "    }\n",
      "    categorical {\n",
      "      cart {\n",
      "      }\n",
      "    }\n",
      "    num_candidate_attributes_ratio: -1\n",
      "    axis_aligned_split {\n",
      "    }\n",
      "    internal {\n",
      "      sorting_strategy: PRESORTED\n",
      "    }\n",
      "  }\n",
      "  shrinkage: 0.1\n",
      "  validation_set_ratio: 0.1\n",
      "  early_stopping: VALIDATION_LOSS_INCREASE\n",
      "  early_stopping_num_trees_look_ahead: 30\n",
      "  l2_regularization: 0\n",
      "  lambda_loss: 1\n",
      "  mart {\n",
      "  }\n",
      "  adapt_subsample_for_maximum_training_duration: false\n",
      "  l1_regularization: 0\n",
      "  use_hessian_gain: false\n",
      "  l2_regularization_categorical: 1\n",
      "  apply_link_function: true\n",
      "  compute_permutation_variable_importance: false\n",
      "}\n",
      "\n",
      "[INFO kernel.cc:790] Deployment config:\n",
      "num_threads: 6\n",
      "\n",
      "[INFO kernel.cc:817] Train model\n",
      "[INFO gradient_boosted_trees.cc:404] Default loss set to SQUARED_ERROR\n",
      "[INFO gradient_boosted_trees.cc:1001] Training gradient boosted tree on 240000 example(s) and 14 feature(s).\n",
      "[INFO gradient_boosted_trees.cc:1044] 215886 examples used for training and 24114 examples used for validation\n",
      "[INFO gradient_boosted_trees.cc:1426] \tnum-trees:1 train-loss:0.731300 train-rmse:0.731300 valid-loss:0.726250 valid-rmse:0.726250\n",
      "[INFO gradient_boosted_trees.cc:1428] \tnum-trees:2 train-loss:0.729553 train-rmse:0.729553 valid-loss:0.724600 valid-rmse:0.724600\n",
      "[INFO gradient_boosted_trees.cc:1428] \tnum-trees:76 train-loss:0.702458 train-rmse:0.702458 valid-loss:0.703942 valid-rmse:0.703942\n",
      "[INFO gradient_boosted_trees.cc:1428] \tnum-trees:152 train-loss:0.694368 train-rmse:0.694368 valid-loss:0.700722 valid-rmse:0.700722\n",
      "[INFO gradient_boosted_trees.cc:1428] \tnum-trees:228 train-loss:0.688502 train-rmse:0.688502 valid-loss:0.699100 valid-rmse:0.699100\n",
      "[INFO gradient_boosted_trees.cc:1428] \tnum-trees:304 train-loss:0.683673 train-rmse:0.683673 valid-loss:0.698541 valid-rmse:0.698541\n",
      "[INFO gradient_boosted_trees.cc:1428] \tnum-trees:380 train-loss:0.679713 train-rmse:0.679713 valid-loss:0.698080 valid-rmse:0.698080\n"
     ]
    },
    {
     "name": "stdout",
     "output_type": "stream",
     "text": [
      "3750/3750 [==============================] - 182s 49ms/step\n"
     ]
    },
    {
     "name": "stderr",
     "output_type": "stream",
     "text": [
      "[INFO gradient_boosted_trees.cc:2740] Early stop of the training because the validation loss does not decrease anymore. Best valid-loss: 0.697896\n",
      "[INFO gradient_boosted_trees.cc:229] Truncates the model to 404 tree(s) i.e. 404  iteration(s).\n",
      "[INFO gradient_boosted_trees.cc:263] Final model num-trees:404 valid-loss:0.697896 valid-rmse:0.697896\n",
      "[INFO kernel.cc:828] Export model in log directory: /tmp/tmpayr7_134\n",
      "[INFO kernel.cc:836] Save model in resources\n",
      "[INFO kernel.cc:988] Loading model from path\n",
      "[INFO abstract_model.cc:993] Engine \"GradientBoostedTreesQuickScorerExtended\" built\n",
      "[INFO kernel.cc:848] Use fast generic engine\n"
     ]
    },
    {
     "name": "stdout",
     "output_type": "stream",
     "text": [
      "WARNING:tensorflow:6 out of the last 6 calls to <function CoreModel.make_predict_function.<locals>.predict_function_trained at 0x7f1c7fbbb4c0> triggered tf.function retracing. Tracing is expensive and the excessive number of tracings could be due to (1) creating @tf.function repeatedly in a loop, (2) passing tensors with different shapes, (3) passing Python objects instead of tensors. For (1), please define your @tf.function outside of the loop. For (2), @tf.function has experimental_relax_shapes=True option that relaxes argument shapes that can avoid unnecessary retracing. For (3), please refer to https://www.tensorflow.org/guide/function#controlling_retracing and https://www.tensorflow.org/api_docs/python/tf/function for  more details.\n"
     ]
    },
    {
     "name": "stderr",
     "output_type": "stream",
     "text": [
      "WARNING:tensorflow:6 out of the last 6 calls to <function CoreModel.make_predict_function.<locals>.predict_function_trained at 0x7f1c7fbbb4c0> triggered tf.function retracing. Tracing is expensive and the excessive number of tracings could be due to (1) creating @tf.function repeatedly in a loop, (2) passing tensors with different shapes, (3) passing Python objects instead of tensors. For (1), please define your @tf.function outside of the loop. For (2), @tf.function has experimental_relax_shapes=True option that relaxes argument shapes that can avoid unnecessary retracing. For (3), please refer to https://www.tensorflow.org/guide/function#controlling_retracing and https://www.tensorflow.org/api_docs/python/tf/function for  more details.\n"
     ]
    },
    {
     "name": "stdout",
     "output_type": "stream",
     "text": [
      "938/938 [==============================] - 3s 3ms/step - loss: 0.0000e+00 - rmse: 0.7010\n",
      "\n",
      "loss: 0.0000\n",
      "rmse: 0.7010\n",
      "Model optimization time: 0:03:05.377054 \n",
      "\n",
      "3744/3750 [============================>.] - ETA: 0s"
     ]
    },
    {
     "name": "stderr",
     "output_type": "stream",
     "text": [
      "[INFO kernel.cc:736] Start Yggdrasil model training\n",
      "[INFO kernel.cc:737] Collect training examples\n",
      "[INFO kernel.cc:392] Number of batches: 3750\n",
      "[INFO kernel.cc:393] Number of examples: 240000\n",
      "[INFO kernel.cc:759] Dataset:\n",
      "Number of records: 240000\n",
      "Number of columns: 15\n",
      "\n",
      "Number of columns by type:\n",
      "\tNUMERICAL: 15 (100%)\n",
      "\n",
      "Columns:\n",
      "\n",
      "NUMERICAL: 15 (100%)\n",
      "\t0: \"cont1\" NUMERICAL mean:0.506927 min:-0.0772377 max:1.01623 sd:0.204115\n",
      "\t1: \"cont10\" NUMERICAL mean:0.520411 min:-0.085046 max:1.19995 sd:0.201994\n",
      "\t2: \"cont11\" NUMERICAL mean:0.483942 min:0.0832767 max:1.02262 sd:0.22019\n",
      "\t3: \"cont12\" NUMERICAL mean:0.506728 min:0.091488 max:1.04903 sd:0.218957\n",
      "\t4: \"cont13\" NUMERICAL mean:0.55341 min:0.0353633 max:0.977845 sd:0.229728\n",
      "\t5: \"cont14\" NUMERICAL mean:0.503661 min:0.166367 max:0.868506 sd:0.208206\n",
      "\t6: \"cont2\" NUMERICAL mean:0.497598 min:-0.0313975 max:0.859697 sd:0.22809\n",
      "\t7: \"cont3\" NUMERICAL mean:0.521296 min:0.0209669 max:1.00695 sd:0.200616\n",
      "\t8: \"cont4\" NUMERICAL mean:0.515783 min:0.154548 max:1.0104 sd:0.233045\n",
      "\t9: \"cont5\" NUMERICAL mean:0.50192 min:0.276377 max:1.03405 sd:0.220764\n",
      "\t10: \"cont6\" NUMERICAL mean:0.526421 min:0.0661656 max:1.04386 sd:0.217942\n",
      "\t11: \"cont7\" NUMERICAL mean:0.487785 min:-0.0976663 max:1.06617 sd:0.181148\n",
      "\t12: \"cont8\" NUMERICAL mean:0.525242 min:0.21726 max:1.02443 sd:0.216252\n",
      "\t13: \"cont9\" NUMERICAL mean:0.459816 min:-0.240604 max:1.00032 sd:0.196744\n",
      "\t14: \"__LABEL\" NUMERICAL mean:7.90633 min:0 max:10.2676 sd:0.733096\n",
      "\n",
      "Terminology:\n",
      "\tnas: Number of non-available (i.e. missing) values.\n",
      "\tood: Out of dictionary.\n",
      "\tmanually-defined: Attribute which type is manually defined by the user i.e. the type was not automatically inferred.\n",
      "\ttokenized: The attribute value is obtained through tokenization.\n",
      "\thas-dict: The attribute is attached to a string dictionary e.g. a categorical attribute stored as a string.\n",
      "\tvocab-size: Number of unique values.\n",
      "\n",
      "[INFO kernel.cc:762] Configure learner\n",
      "[WARNING gradient_boosted_trees.cc:1643] Subsample hyperparameter given but sampling method does not match.\n",
      "[WARNING gradient_boosted_trees.cc:1656] GOSS alpha hyperparameter given but GOSS is disabled.\n",
      "[WARNING gradient_boosted_trees.cc:1665] GOSS beta hyperparameter given but GOSS is disabled.\n",
      "[WARNING gradient_boosted_trees.cc:1677] SelGB ratio hyperparameter given but SelGB is disabled.\n",
      "[INFO kernel.cc:787] Training config:\n",
      "learner: \"GRADIENT_BOOSTED_TREES\"\n",
      "features: \"cont1\"\n",
      "features: \"cont10\"\n",
      "features: \"cont11\"\n",
      "features: \"cont12\"\n",
      "features: \"cont13\"\n",
      "features: \"cont14\"\n",
      "features: \"cont2\"\n",
      "features: \"cont3\"\n",
      "features: \"cont4\"\n",
      "features: \"cont5\"\n",
      "features: \"cont6\"\n",
      "features: \"cont7\"\n",
      "features: \"cont8\"\n",
      "features: \"cont9\"\n",
      "label: \"__LABEL\"\n",
      "task: REGRESSION\n",
      "[yggdrasil_decision_forests.model.gradient_boosted_trees.proto.gradient_boosted_trees_config] {\n",
      "  num_trees: 1000\n",
      "  decision_tree {\n",
      "    max_depth: 6\n",
      "    min_examples: 5\n",
      "    in_split_min_examples_check: true\n",
      "    missing_value_policy: GLOBAL_IMPUTATION\n",
      "    allow_na_conditions: false\n",
      "    categorical_set_greedy_forward {\n",
      "      sampling: 0.1\n",
      "      max_num_items: -1\n",
      "      min_item_frequency: 1\n",
      "    }\n",
      "    growing_strategy_local {\n",
      "    }\n",
      "    categorical {\n",
      "      cart {\n",
      "      }\n",
      "    }\n",
      "    num_candidate_attributes_ratio: -1\n",
      "    axis_aligned_split {\n",
      "    }\n",
      "    internal {\n",
      "      sorting_strategy: PRESORTED\n",
      "    }\n",
      "  }\n",
      "  shrinkage: 0.1\n",
      "  validation_set_ratio: 0.1\n",
      "  early_stopping: VALIDATION_LOSS_INCREASE\n",
      "  early_stopping_num_trees_look_ahead: 30\n",
      "  l2_regularization: 0\n",
      "  lambda_loss: 1\n",
      "  mart {\n",
      "  }\n",
      "  adapt_subsample_for_maximum_training_duration: false\n",
      "  l1_regularization: 0\n",
      "  use_hessian_gain: false\n",
      "  l2_regularization_categorical: 1\n",
      "  apply_link_function: true\n",
      "  compute_permutation_variable_importance: false\n",
      "}\n",
      "\n",
      "[INFO kernel.cc:790] Deployment config:\n",
      "num_threads: 6\n",
      "\n",
      "[INFO kernel.cc:817] Train model\n",
      "[INFO gradient_boosted_trees.cc:404] Default loss set to SQUARED_ERROR\n",
      "[INFO gradient_boosted_trees.cc:1001] Training gradient boosted tree on 240000 example(s) and 14 feature(s).\n",
      "[INFO gradient_boosted_trees.cc:1044] 215886 examples used for training and 24114 examples used for validation\n",
      "[INFO gradient_boosted_trees.cc:1426] \tnum-trees:1 train-loss:0.731300 train-rmse:0.731300 valid-loss:0.726250 valid-rmse:0.726250\n",
      "[INFO gradient_boosted_trees.cc:1428] \tnum-trees:2 train-loss:0.729553 train-rmse:0.729553 valid-loss:0.724600 valid-rmse:0.724600\n",
      "[INFO gradient_boosted_trees.cc:1428] \tnum-trees:76 train-loss:0.702458 train-rmse:0.702458 valid-loss:0.703942 valid-rmse:0.703942\n",
      "[INFO gradient_boosted_trees.cc:1428] \tnum-trees:152 train-loss:0.694368 train-rmse:0.694368 valid-loss:0.700722 valid-rmse:0.700722\n",
      "[INFO gradient_boosted_trees.cc:1428] \tnum-trees:227 train-loss:0.688546 train-rmse:0.688546 valid-loss:0.699098 valid-rmse:0.699098\n",
      "[INFO gradient_boosted_trees.cc:1428] \tnum-trees:303 train-loss:0.683775 train-rmse:0.683775 valid-loss:0.698595 valid-rmse:0.698595\n",
      "[INFO gradient_boosted_trees.cc:1428] \tnum-trees:379 train-loss:0.679749 train-rmse:0.679749 valid-loss:0.698086 valid-rmse:0.698086\n"
     ]
    },
    {
     "name": "stdout",
     "output_type": "stream",
     "text": [
      "3750/3750 [==============================] - 183s 49ms/step\n"
     ]
    },
    {
     "name": "stderr",
     "output_type": "stream",
     "text": [
      "[INFO gradient_boosted_trees.cc:2740] Early stop of the training because the validation loss does not decrease anymore. Best valid-loss: 0.697896\n",
      "[INFO gradient_boosted_trees.cc:229] Truncates the model to 404 tree(s) i.e. 404  iteration(s).\n",
      "[INFO gradient_boosted_trees.cc:263] Final model num-trees:404 valid-loss:0.697896 valid-rmse:0.697896\n",
      "[INFO kernel.cc:828] Export model in log directory: /tmp/tmpdaw7avzo\n",
      "[INFO kernel.cc:836] Save model in resources\n",
      "[INFO kernel.cc:988] Loading model from path\n",
      "[INFO abstract_model.cc:993] Engine \"GradientBoostedTreesQuickScorerExtended\" built\n",
      "[INFO kernel.cc:848] Use fast generic engine\n"
     ]
    },
    {
     "name": "stdout",
     "output_type": "stream",
     "text": [
      "938/938 [==============================] - 3s 3ms/step - loss: 0.0000e+00 - rmse: 0.7009\n",
      "\n",
      "loss: 0.0000\n",
      "rmse: 0.7009\n",
      "Model optimization time: 0:03:25.187235 \n",
      "\n"
     ]
    }
   ],
   "source": [
    "for num_trees in [300, 500, 750, 1000]:\n",
    "    # Define the baseline model for benchmarking\n",
    "    start_time_module = datetime.now()\n",
    "    reset_random()\n",
    "    Tuning_model = tfdf.keras.GradientBoostedTreesModel(num_trees=num_trees, task = tfdf.keras.Task.REGRESSION)\n",
    "\n",
    "    # Optionally, add evaluation metrics.\n",
    "    Tuning_model.compile(metrics=DEFAULT_METRICS)\n",
    "\n",
    "    # Train the model.\n",
    "    Tuning_model.fit(x=tfds_train)\n",
    "\n",
    "    Tuning_eval = Tuning_model.evaluate(tfds_valid, return_dict=True)\n",
    "    print()\n",
    "\n",
    "    for name, value in Tuning_eval.items():\n",
    "        print(f\"{name}: {value:.4f}\")\n",
    "    print ('Model optimization time:', (datetime.now() - start_time_module), '\\n')"
   ]
  },
  {
   "cell_type": "code",
   "execution_count": 49,
   "metadata": {
    "id": "orMchSDCzr07"
   },
   "outputs": [],
   "source": [
    "if NOTIFY_STATUS: status_notify(\"Task 4 - Fine-tune and Improve Models completed! \"+datetime.now().strftime('%a %B %d, %Y %I:%M:%S %p'))"
   ]
  },
  {
   "cell_type": "markdown",
   "metadata": {
    "id": "D7UgYoGuzaM-"
   },
   "source": [
    "## Task 5 - Finalize Model and Present Analysis"
   ]
  },
  {
   "cell_type": "code",
   "execution_count": 50,
   "metadata": {
    "id": "BhuD5C56wXjV"
   },
   "outputs": [],
   "source": [
    "if NOTIFY_STATUS: status_notify(\"Task 5 - Finalize Model and Present Analysis has begun! \"+datetime.now().strftime('%a %B %d, %Y %I:%M:%S %p'))"
   ]
  },
  {
   "cell_type": "markdown",
   "metadata": {
    "id": "xDcJ2kVE8xNI"
   },
   "source": [
    "### 5.a) Train the Final Model"
   ]
  },
  {
   "cell_type": "code",
   "execution_count": 51,
   "metadata": {
    "colab": {
     "base_uri": "https://localhost:8080/"
    },
    "id": "dsntMWlJwXjV",
    "outputId": "30950585-eb2b-44de-a60f-b2d0a0444aea"
   },
   "outputs": [
    {
     "name": "stdout",
     "output_type": "stream",
     "text": [
      "3746/3750 [============================>.] - ETA: 0s"
     ]
    },
    {
     "name": "stderr",
     "output_type": "stream",
     "text": [
      "[INFO kernel.cc:736] Start Yggdrasil model training\n",
      "[INFO kernel.cc:737] Collect training examples\n",
      "[INFO kernel.cc:392] Number of batches: 3750\n",
      "[INFO kernel.cc:393] Number of examples: 240000\n",
      "[INFO kernel.cc:759] Dataset:\n",
      "Number of records: 240000\n",
      "Number of columns: 15\n",
      "\n",
      "Number of columns by type:\n",
      "\tNUMERICAL: 15 (100%)\n",
      "\n",
      "Columns:\n",
      "\n",
      "NUMERICAL: 15 (100%)\n",
      "\t0: \"cont1\" NUMERICAL mean:0.506927 min:-0.0772377 max:1.01623 sd:0.204115\n",
      "\t1: \"cont10\" NUMERICAL mean:0.520411 min:-0.085046 max:1.19995 sd:0.201994\n",
      "\t2: \"cont11\" NUMERICAL mean:0.483942 min:0.0832767 max:1.02262 sd:0.22019\n",
      "\t3: \"cont12\" NUMERICAL mean:0.506728 min:0.091488 max:1.04903 sd:0.218957\n",
      "\t4: \"cont13\" NUMERICAL mean:0.55341 min:0.0353633 max:0.977845 sd:0.229728\n",
      "\t5: \"cont14\" NUMERICAL mean:0.503661 min:0.166367 max:0.868506 sd:0.208206\n",
      "\t6: \"cont2\" NUMERICAL mean:0.497598 min:-0.0313975 max:0.859697 sd:0.22809\n",
      "\t7: \"cont3\" NUMERICAL mean:0.521296 min:0.0209669 max:1.00695 sd:0.200616\n",
      "\t8: \"cont4\" NUMERICAL mean:0.515783 min:0.154548 max:1.0104 sd:0.233045\n",
      "\t9: \"cont5\" NUMERICAL mean:0.50192 min:0.276377 max:1.03405 sd:0.220764\n",
      "\t10: \"cont6\" NUMERICAL mean:0.526421 min:0.0661656 max:1.04386 sd:0.217942\n",
      "\t11: \"cont7\" NUMERICAL mean:0.487785 min:-0.0976663 max:1.06617 sd:0.181148\n",
      "\t12: \"cont8\" NUMERICAL mean:0.525242 min:0.21726 max:1.02443 sd:0.216252\n",
      "\t13: \"cont9\" NUMERICAL mean:0.459816 min:-0.240604 max:1.00032 sd:0.196744\n",
      "\t14: \"__LABEL\" NUMERICAL mean:7.90633 min:0 max:10.2676 sd:0.733096\n",
      "\n",
      "Terminology:\n",
      "\tnas: Number of non-available (i.e. missing) values.\n",
      "\tood: Out of dictionary.\n",
      "\tmanually-defined: Attribute which type is manually defined by the user i.e. the type was not automatically inferred.\n",
      "\ttokenized: The attribute value is obtained through tokenization.\n",
      "\thas-dict: The attribute is attached to a string dictionary e.g. a categorical attribute stored as a string.\n",
      "\tvocab-size: Number of unique values.\n",
      "\n",
      "[INFO kernel.cc:762] Configure learner\n",
      "[WARNING gradient_boosted_trees.cc:1643] Subsample hyperparameter given but sampling method does not match.\n",
      "[WARNING gradient_boosted_trees.cc:1656] GOSS alpha hyperparameter given but GOSS is disabled.\n",
      "[WARNING gradient_boosted_trees.cc:1665] GOSS beta hyperparameter given but GOSS is disabled.\n",
      "[WARNING gradient_boosted_trees.cc:1677] SelGB ratio hyperparameter given but SelGB is disabled.\n",
      "[INFO kernel.cc:787] Training config:\n",
      "learner: \"GRADIENT_BOOSTED_TREES\"\n",
      "features: \"cont1\"\n",
      "features: \"cont10\"\n",
      "features: \"cont11\"\n",
      "features: \"cont12\"\n",
      "features: \"cont13\"\n",
      "features: \"cont14\"\n",
      "features: \"cont2\"\n",
      "features: \"cont3\"\n",
      "features: \"cont4\"\n",
      "features: \"cont5\"\n",
      "features: \"cont6\"\n",
      "features: \"cont7\"\n",
      "features: \"cont8\"\n",
      "features: \"cont9\"\n",
      "label: \"__LABEL\"\n",
      "task: REGRESSION\n",
      "[yggdrasil_decision_forests.model.gradient_boosted_trees.proto.gradient_boosted_trees_config] {\n",
      "  num_trees: 1000\n",
      "  decision_tree {\n",
      "    max_depth: 6\n",
      "    min_examples: 5\n",
      "    in_split_min_examples_check: true\n",
      "    missing_value_policy: GLOBAL_IMPUTATION\n",
      "    allow_na_conditions: false\n",
      "    categorical_set_greedy_forward {\n",
      "      sampling: 0.1\n",
      "      max_num_items: -1\n",
      "      min_item_frequency: 1\n",
      "    }\n",
      "    growing_strategy_local {\n",
      "    }\n",
      "    categorical {\n",
      "      cart {\n",
      "      }\n",
      "    }\n",
      "    num_candidate_attributes_ratio: -1\n",
      "    axis_aligned_split {\n",
      "    }\n",
      "    internal {\n",
      "      sorting_strategy: PRESORTED\n",
      "    }\n",
      "  }\n",
      "  shrinkage: 0.1\n",
      "  validation_set_ratio: 0.1\n",
      "  early_stopping: VALIDATION_LOSS_INCREASE\n",
      "  early_stopping_num_trees_look_ahead: 30\n",
      "  l2_regularization: 0\n",
      "  lambda_loss: 1\n",
      "  mart {\n",
      "  }\n",
      "  adapt_subsample_for_maximum_training_duration: false\n",
      "  l1_regularization: 0\n",
      "  use_hessian_gain: false\n",
      "  l2_regularization_categorical: 1\n",
      "  apply_link_function: true\n",
      "  compute_permutation_variable_importance: false\n",
      "}\n",
      "\n",
      "[INFO kernel.cc:790] Deployment config:\n",
      "num_threads: 6\n",
      "\n",
      "[INFO kernel.cc:817] Train model\n",
      "[INFO gradient_boosted_trees.cc:404] Default loss set to SQUARED_ERROR\n",
      "[INFO gradient_boosted_trees.cc:1001] Training gradient boosted tree on 240000 example(s) and 14 feature(s).\n",
      "[INFO gradient_boosted_trees.cc:1044] 215886 examples used for training and 24114 examples used for validation\n",
      "[INFO gradient_boosted_trees.cc:1426] \tnum-trees:1 train-loss:0.731300 train-rmse:0.731300 valid-loss:0.726250 valid-rmse:0.726250\n",
      "[INFO gradient_boosted_trees.cc:1428] \tnum-trees:2 train-loss:0.729553 train-rmse:0.729553 valid-loss:0.724600 valid-rmse:0.724600\n",
      "[INFO gradient_boosted_trees.cc:1428] \tnum-trees:75 train-loss:0.702553 train-rmse:0.702553 valid-loss:0.703949 valid-rmse:0.703949\n",
      "[INFO gradient_boosted_trees.cc:1428] \tnum-trees:151 train-loss:0.694424 train-rmse:0.694424 valid-loss:0.700768 valid-rmse:0.700768\n",
      "[INFO gradient_boosted_trees.cc:1428] \tnum-trees:226 train-loss:0.688624 train-rmse:0.688624 valid-loss:0.699102 valid-rmse:0.699102\n",
      "[INFO gradient_boosted_trees.cc:1428] \tnum-trees:302 train-loss:0.683847 train-rmse:0.683847 valid-loss:0.698577 valid-rmse:0.698577\n",
      "[INFO gradient_boosted_trees.cc:1428] \tnum-trees:378 train-loss:0.679818 train-rmse:0.679818 valid-loss:0.698079 valid-rmse:0.698079\n"
     ]
    },
    {
     "name": "stdout",
     "output_type": "stream",
     "text": [
      "3750/3750 [==============================] - 184s 49ms/step\n"
     ]
    },
    {
     "name": "stderr",
     "output_type": "stream",
     "text": [
      "[INFO gradient_boosted_trees.cc:2740] Early stop of the training because the validation loss does not decrease anymore. Best valid-loss: 0.697896\n",
      "[INFO gradient_boosted_trees.cc:229] Truncates the model to 404 tree(s) i.e. 404  iteration(s).\n",
      "[INFO gradient_boosted_trees.cc:263] Final model num-trees:404 valid-loss:0.697896 valid-rmse:0.697896\n",
      "[INFO kernel.cc:828] Export model in log directory: /tmp/tmp261duh9d\n",
      "[INFO kernel.cc:836] Save model in resources\n",
      "[INFO kernel.cc:988] Loading model from path\n",
      "[INFO abstract_model.cc:993] Engine \"GradientBoostedTreesQuickScorerExtended\" built\n",
      "[INFO kernel.cc:848] Use fast generic engine\n"
     ]
    },
    {
     "name": "stdout",
     "output_type": "stream",
     "text": [
      "Model training time: 0:03:22.297653 \n",
      "\n"
     ]
    }
   ],
   "source": [
    "# Define the baseline model for benchmarking\n",
    "start_time_module = datetime.now()\n",
    "reset_random()\n",
    "Final_model = tfdf.keras.GradientBoostedTreesModel(num_trees=1000, task = tfdf.keras.Task.REGRESSION)\n",
    "\n",
    "# Optionally, add evaluation metrics.\n",
    "Final_model.compile(metrics=DEFAULT_METRICS)\n",
    "\n",
    "# \"sys_pipes\" is optional. It enables the display of the training logs.\n",
    "# with sys_pipes():\n",
    "#     Final_model.fit(x=tfds_train)\n",
    "\n",
    "# Train the model.\n",
    "Final_model.fit(x=tfds_train)\n",
    "print ('Model training time:', (datetime.now() - start_time_module), '\\n')"
   ]
  },
  {
   "cell_type": "code",
   "execution_count": 52,
   "metadata": {
    "colab": {
     "base_uri": "https://localhost:8080/"
    },
    "id": "IuwcWWXF89YM",
    "outputId": "8c7eda00-c5ca-4c03-8cdc-4cb0f34f22bc"
   },
   "outputs": [
    {
     "name": "stdout",
     "output_type": "stream",
     "text": [
      "Model: \"gradient_boosted_trees_model_5\"\n",
      "_________________________________________________________________\n",
      " Layer (type)                Output Shape              Param #   \n",
      "=================================================================\n",
      "=================================================================\n",
      "Total params: 1\n",
      "Trainable params: 0\n",
      "Non-trainable params: 1\n",
      "_________________________________________________________________\n",
      "Type: \"GRADIENT_BOOSTED_TREES\"\n",
      "Task: REGRESSION\n",
      "Label: \"__LABEL\"\n",
      "\n",
      "Input Features (14):\n",
      "\tcont1\n",
      "\tcont10\n",
      "\tcont11\n",
      "\tcont12\n",
      "\tcont13\n",
      "\tcont14\n",
      "\tcont2\n",
      "\tcont3\n",
      "\tcont4\n",
      "\tcont5\n",
      "\tcont6\n",
      "\tcont7\n",
      "\tcont8\n",
      "\tcont9\n",
      "\n",
      "No weights\n",
      "\n",
      "Variable Importance: MEAN_MIN_DEPTH:\n",
      "    1. \"__LABEL\"  4.884836 ################\n",
      "    2.   \"cont1\"  4.142121 ####\n",
      "    3.   \"cont8\"  4.106256 ###\n",
      "    4.   \"cont7\"  4.104021 ###\n",
      "    5.  \"cont11\"  4.097224 ###\n",
      "    6.   \"cont2\"  4.057401 ###\n",
      "    7.   \"cont9\"  4.032707 ##\n",
      "    8.   \"cont5\"  4.022533 ##\n",
      "    9.  \"cont14\"  4.008258 ##\n",
      "   10.  \"cont13\"  3.993547 ##\n",
      "   11.  \"cont12\"  3.985177 ##\n",
      "   12.   \"cont6\"  3.947373 #\n",
      "   13.   \"cont3\"  3.943475 #\n",
      "   14.  \"cont10\"  3.937312 #\n",
      "   15.   \"cont4\"  3.855210 \n",
      "\n",
      "Variable Importance: NUM_AS_ROOT:\n",
      "    1.  \"cont4\" 43.000000 ################\n",
      "    2.  \"cont6\" 40.000000 ##############\n",
      "    3. \"cont14\" 36.000000 ############\n",
      "    4.  \"cont3\" 36.000000 ############\n",
      "    5.  \"cont2\" 33.000000 ##########\n",
      "    6. \"cont10\" 32.000000 #########\n",
      "    7.  \"cont5\" 32.000000 #########\n",
      "    8.  \"cont8\" 29.000000 ########\n",
      "    9.  \"cont9\" 29.000000 ########\n",
      "   10. \"cont12\" 25.000000 ######\n",
      "   11. \"cont11\" 21.000000 ###\n",
      "   12.  \"cont7\" 19.000000 ##\n",
      "   13.  \"cont1\" 15.000000 \n",
      "   14. \"cont13\" 14.000000 \n",
      "\n",
      "Variable Importance: NUM_NODES:\n",
      "    1. \"cont13\" 912.000000 ################\n",
      "    2.  \"cont3\" 863.000000 ############\n",
      "    3.  \"cont4\" 829.000000 ##########\n",
      "    4. \"cont12\" 826.000000 ##########\n",
      "    5. \"cont10\" 821.000000 ##########\n",
      "    6.  \"cont6\" 806.000000 #########\n",
      "    7.  \"cont9\" 803.000000 ########\n",
      "    8.  \"cont1\" 786.000000 #######\n",
      "    9. \"cont11\" 766.000000 ######\n",
      "   10.  \"cont2\" 750.000000 #####\n",
      "   11.  \"cont7\" 728.000000 ###\n",
      "   12.  \"cont8\" 719.000000 ###\n",
      "   13.  \"cont5\" 715.000000 ###\n",
      "   14. \"cont14\" 667.000000 \n",
      "\n",
      "Variable Importance: SUM_SCORE:\n",
      "    1. \"cont13\" 8839.539059 ################\n",
      "    2.  \"cont4\" 8280.653096 ##############\n",
      "    3.  \"cont3\" 8128.918906 #############\n",
      "    4.  \"cont2\" 7778.978991 ############\n",
      "    5.  \"cont1\" 6788.166939 #########\n",
      "    6.  \"cont7\" 6373.631023 ########\n",
      "    7. \"cont12\" 6290.573023 #######\n",
      "    8. \"cont10\" 6244.222489 #######\n",
      "    9. \"cont11\" 6075.710040 #######\n",
      "   10.  \"cont6\" 5567.465923 #####\n",
      "   11.  \"cont9\" 5196.047685 ####\n",
      "   12. \"cont14\" 5139.265097 ####\n",
      "   13.  \"cont8\" 3914.502543 \n",
      "   14.  \"cont5\" 3834.392567 \n",
      "\n",
      "\n",
      "\n",
      "Loss: SQUARED_ERROR\n",
      "Validation loss value: 0.697896\n",
      "Number of trees per iteration: 1\n",
      "Node format: NOT_SET\n",
      "Number of trees: 404\n",
      "Total number of nodes: 22386\n",
      "\n",
      "Number of nodes by tree:\n",
      "Count: 404 Average: 55.4109 StdDev: 8.20284\n",
      "Min: 25 Max: 63 Ignored: 0\n",
      "----------------------------------------------\n",
      "[ 25, 26)  1   0.25%   0.25%\n",
      "[ 26, 28)  0   0.00%   0.25%\n",
      "[ 28, 30)  2   0.50%   0.74%\n",
      "[ 30, 32)  2   0.50%   1.24%\n",
      "[ 32, 34)  7   1.73%   2.97% #\n",
      "[ 34, 36)  2   0.50%   3.47%\n",
      "[ 36, 38)  7   1.73%   5.20% #\n",
      "[ 38, 40)  9   2.23%   7.43% #\n",
      "[ 40, 42)  7   1.73%   9.16% #\n",
      "[ 42, 44)  8   1.98%  11.14% #\n",
      "[ 44, 46)  6   1.49%  12.62% #\n",
      "[ 46, 48) 18   4.46%  17.08% ##\n",
      "[ 48, 50) 24   5.94%  23.02% ###\n",
      "[ 50, 52) 21   5.20%  28.22% ##\n",
      "[ 52, 54) 21   5.20%  33.42% ##\n",
      "[ 54, 56) 29   7.18%  40.59% ###\n",
      "[ 56, 58) 31   7.67%  48.27% ###\n",
      "[ 58, 60) 39   9.65%  57.92% ####\n",
      "[ 60, 62) 75  18.56%  76.49% ########\n",
      "[ 62, 63] 95  23.51% 100.00% ##########\n",
      "\n",
      "Depth by leafs:\n",
      "Count: 11395 Average: 4.90285 StdDev: 0.387322\n",
      "Min: 1 Max: 5 Ignored: 0\n",
      "----------------------------------------------\n",
      "[ 1, 2)     7   0.06%   0.06%\n",
      "[ 2, 3)    36   0.32%   0.38%\n",
      "[ 3, 4)   205   1.80%   2.18%\n",
      "[ 4, 5)   561   4.92%   7.10% #\n",
      "[ 5, 5] 10586  92.90% 100.00% ##########\n",
      "\n",
      "Number of training obs by leaf:\n",
      "Count: 11395 Average: 7654.05 StdDev: 23779.5\n",
      "Min: 5 Max: 215520 Ignored: 0\n",
      "----------------------------------------------\n",
      "[      5,  10780) 9763  85.68%  85.68% ##########\n",
      "[  10780,  21556)  679   5.96%  91.64% #\n",
      "[  21556,  32332)  307   2.69%  94.33%\n",
      "[  32332,  43108)  148   1.30%  95.63%\n",
      "[  43108,  53884)   89   0.78%  96.41%\n",
      "[  53884,  64659)   59   0.52%  96.93%\n",
      "[  64659,  75435)   61   0.54%  97.46%\n",
      "[  75435,  86211)   43   0.38%  97.84%\n",
      "[  86211,  96987)   35   0.31%  98.15%\n",
      "[  96987, 107763)   25   0.22%  98.37%\n",
      "[ 107763, 118538)   17   0.15%  98.52%\n",
      "[ 118538, 129314)   27   0.24%  98.75%\n",
      "[ 129314, 140090)   24   0.21%  98.96%\n",
      "[ 140090, 150866)   18   0.16%  99.12%\n",
      "[ 150866, 161642)   18   0.16%  99.28%\n",
      "[ 161642, 172417)   18   0.16%  99.44%\n",
      "[ 172417, 183193)   12   0.11%  99.54%\n",
      "[ 183193, 193969)   15   0.13%  99.68%\n",
      "[ 193969, 204745)   13   0.11%  99.79%\n",
      "[ 204745, 215520]   24   0.21% 100.00%\n",
      "\n",
      "Attribute in nodes:\n",
      "\t912 : cont13 [NUMERICAL]\n",
      "\t863 : cont3 [NUMERICAL]\n",
      "\t829 : cont4 [NUMERICAL]\n",
      "\t826 : cont12 [NUMERICAL]\n",
      "\t821 : cont10 [NUMERICAL]\n",
      "\t806 : cont6 [NUMERICAL]\n",
      "\t803 : cont9 [NUMERICAL]\n",
      "\t786 : cont1 [NUMERICAL]\n",
      "\t766 : cont11 [NUMERICAL]\n",
      "\t750 : cont2 [NUMERICAL]\n",
      "\t728 : cont7 [NUMERICAL]\n",
      "\t719 : cont8 [NUMERICAL]\n",
      "\t715 : cont5 [NUMERICAL]\n",
      "\t667 : cont14 [NUMERICAL]\n",
      "\n",
      "Attribute in nodes with depth <= 0:\n",
      "\t43 : cont4 [NUMERICAL]\n",
      "\t40 : cont6 [NUMERICAL]\n",
      "\t36 : cont3 [NUMERICAL]\n",
      "\t36 : cont14 [NUMERICAL]\n",
      "\t33 : cont2 [NUMERICAL]\n",
      "\t32 : cont5 [NUMERICAL]\n",
      "\t32 : cont10 [NUMERICAL]\n",
      "\t29 : cont9 [NUMERICAL]\n",
      "\t29 : cont8 [NUMERICAL]\n",
      "\t25 : cont12 [NUMERICAL]\n",
      "\t21 : cont11 [NUMERICAL]\n",
      "\t19 : cont7 [NUMERICAL]\n",
      "\t15 : cont1 [NUMERICAL]\n",
      "\t14 : cont13 [NUMERICAL]\n",
      "\n",
      "Attribute in nodes with depth <= 1:\n",
      "\t119 : cont4 [NUMERICAL]\n",
      "\t101 : cont14 [NUMERICAL]\n",
      "\t100 : cont5 [NUMERICAL]\n",
      "\t96 : cont10 [NUMERICAL]\n",
      "\t93 : cont3 [NUMERICAL]\n",
      "\t88 : cont12 [NUMERICAL]\n",
      "\t87 : cont2 [NUMERICAL]\n",
      "\t82 : cont6 [NUMERICAL]\n",
      "\t80 : cont13 [NUMERICAL]\n",
      "\t77 : cont9 [NUMERICAL]\n",
      "\t75 : cont8 [NUMERICAL]\n",
      "\t74 : cont11 [NUMERICAL]\n",
      "\t71 : cont7 [NUMERICAL]\n",
      "\t62 : cont1 [NUMERICAL]\n",
      "\n",
      "Attribute in nodes with depth <= 2:\n",
      "\t229 : cont10 [NUMERICAL]\n",
      "\t228 : cont13 [NUMERICAL]\n",
      "\t226 : cont4 [NUMERICAL]\n",
      "\t210 : cont3 [NUMERICAL]\n",
      "\t205 : cont14 [NUMERICAL]\n",
      "\t204 : cont12 [NUMERICAL]\n",
      "\t203 : cont5 [NUMERICAL]\n",
      "\t189 : cont9 [NUMERICAL]\n",
      "\t185 : cont11 [NUMERICAL]\n",
      "\t182 : cont6 [NUMERICAL]\n",
      "\t182 : cont1 [NUMERICAL]\n",
      "\t181 : cont2 [NUMERICAL]\n",
      "\t174 : cont8 [NUMERICAL]\n",
      "\t173 : cont7 [NUMERICAL]\n",
      "\n",
      "Attribute in nodes with depth <= 3:\n",
      "\t491 : cont13 [NUMERICAL]\n",
      "\t458 : cont4 [NUMERICAL]\n",
      "\t430 : cont3 [NUMERICAL]\n",
      "\t430 : cont10 [NUMERICAL]\n",
      "\t418 : cont12 [NUMERICAL]\n",
      "\t409 : cont9 [NUMERICAL]\n",
      "\t404 : cont1 [NUMERICAL]\n",
      "\t396 : cont11 [NUMERICAL]\n",
      "\t394 : cont6 [NUMERICAL]\n",
      "\t389 : cont5 [NUMERICAL]\n",
      "\t388 : cont2 [NUMERICAL]\n",
      "\t378 : cont7 [NUMERICAL]\n",
      "\t366 : cont14 [NUMERICAL]\n",
      "\t347 : cont8 [NUMERICAL]\n",
      "\n",
      "Attribute in nodes with depth <= 5:\n",
      "\t912 : cont13 [NUMERICAL]\n",
      "\t863 : cont3 [NUMERICAL]\n",
      "\t829 : cont4 [NUMERICAL]\n",
      "\t826 : cont12 [NUMERICAL]\n",
      "\t821 : cont10 [NUMERICAL]\n",
      "\t806 : cont6 [NUMERICAL]\n",
      "\t803 : cont9 [NUMERICAL]\n",
      "\t786 : cont1 [NUMERICAL]\n",
      "\t766 : cont11 [NUMERICAL]\n",
      "\t750 : cont2 [NUMERICAL]\n",
      "\t728 : cont7 [NUMERICAL]\n",
      "\t719 : cont8 [NUMERICAL]\n",
      "\t715 : cont5 [NUMERICAL]\n",
      "\t667 : cont14 [NUMERICAL]\n",
      "\n",
      "Condition type in nodes:\n",
      "\t10991 : HigherCondition\n",
      "Condition type in nodes with depth <= 0:\n",
      "\t404 : HigherCondition\n",
      "Condition type in nodes with depth <= 1:\n",
      "\t1205 : HigherCondition\n",
      "Condition type in nodes with depth <= 2:\n",
      "\t2771 : HigherCondition\n",
      "Condition type in nodes with depth <= 3:\n",
      "\t5698 : HigherCondition\n",
      "Condition type in nodes with depth <= 5:\n",
      "\t10991 : HigherCondition\n",
      "\n"
     ]
    }
   ],
   "source": [
    "Final_model.summary()"
   ]
  },
  {
   "cell_type": "code",
   "execution_count": 53,
   "metadata": {
    "colab": {
     "base_uri": "https://localhost:8080/"
    },
    "id": "I11cWpq29FJc",
    "outputId": "930c22f5-c4d6-4550-cdaf-14f877c226b1"
   },
   "outputs": [
    {
     "name": "stdout",
     "output_type": "stream",
     "text": [
      "938/938 [==============================] - 3s 3ms/step - loss: 0.0000e+00 - rmse: 0.7008\n",
      "\n",
      "loss: 0.0000\n",
      "rmse: 0.7008\n"
     ]
    }
   ],
   "source": [
    "Final_eval = Final_model.evaluate(tfds_valid, return_dict=True)\n",
    "print()\n",
    "\n",
    "for name, value in Final_eval.items():\n",
    "    print(f\"{name}: {value:.4f}\")"
   ]
  },
  {
   "cell_type": "code",
   "execution_count": 54,
   "metadata": {
    "colab": {
     "base_uri": "https://localhost:8080/",
     "height": 404
    },
    "id": "iT3zt_w-9Bul",
    "outputId": "0b39579c-0070-4247-b785-643fd8965fca"
   },
   "outputs": [],
   "source": [
    "# Plot the model using Google Colab\n",
    "# tfdf.model_plotter.plot_model_in_colab(Final_model)"
   ]
  },
  {
   "cell_type": "markdown",
   "metadata": {
    "id": "vAzsJd7g9Oqi"
   },
   "source": [
    "### 5.b) Load Test Dataset and Make Predictions"
   ]
  },
  {
   "cell_type": "code",
   "execution_count": 55,
   "metadata": {},
   "outputs": [
    {
     "name": "stdout",
     "output_type": "stream",
     "text": [
      "--2021-11-23 23:10:14--  https://dainesanalytics.com/datasets/kaggle-tabular-playground-2021jan/test.csv\n",
      "Resolving dainesanalytics.com (dainesanalytics.com)... 13.225.142.96, 13.225.142.69, 13.225.142.94, ...\n",
      "Connecting to dainesanalytics.com (dainesanalytics.com)|13.225.142.96|:443... connected.\n",
      "HTTP request sent, awaiting response... 200 OK\n",
      "Length: 54761136 (52M) [text/csv]\n",
      "Saving to: ‘test.csv’\n",
      "\n",
      "test.csv            100%[===================>]  52.22M  3.87MB/s    in 15s     \n",
      "\n",
      "2021-11-23 23:10:30 (3.37 MB/s) - ‘test.csv’ saved [54761136/54761136]\n",
      "\n"
     ]
    }
   ],
   "source": [
    "if not os.path.exists(TEST_DATASET):\n",
    "    !wget https://dainesanalytics.com/datasets/kaggle-tabular-playground-2021jan/test.csv"
   ]
  },
  {
   "cell_type": "code",
   "execution_count": 56,
   "metadata": {
    "colab": {
     "base_uri": "https://localhost:8080/"
    },
    "id": "U8jDH1CW9QBI",
    "outputId": "b86d0970-8878-4d75-ab28-93142381ca7e"
   },
   "outputs": [
    {
     "name": "stdout",
     "output_type": "stream",
     "text": [
      "   id     cont1     cont2     cont3     cont4     cont5     cont6     cont7  \\\n",
      "0   0  0.353600  0.738780  0.600939  0.293377  0.285691  0.458006  0.620704   \n",
      "1   2  0.907222  0.189756  0.215531  0.869915  0.301333  0.528958  0.390351   \n",
      "2   6  0.179287  0.355353  0.623972  0.437812  0.282476  0.320826  0.386789   \n",
      "3   7  0.359385  0.181049  0.551368  0.206386  0.280763  0.482076  0.506677   \n",
      "4  10  0.335791  0.682607  0.676481  0.219465  0.282861  0.581721  0.748639   \n",
      "\n",
      "      cont8     cont9    cont10    cont11    cont12    cont13    cont14  \n",
      "0  0.422249  0.369203  0.435727  0.550540  0.699134  0.286864  0.364515  \n",
      "1  0.521112  0.794779  0.798580  0.446475  0.449037  0.916964  0.513002  \n",
      "2  0.776422  0.222268  0.229102  0.211913  0.222651  0.327164  0.827941  \n",
      "3  0.362793  0.379737  0.345686  0.445276  0.518485  0.299028  0.598166  \n",
      "4  0.350158  0.448915  0.506878  0.817721  0.805895  0.790591  0.249275  \n"
     ]
    }
   ],
   "source": [
    "df_features_test = pd.read_csv(TEST_DATASET, index_col=False)\n",
    "\n",
    "# Take a peek at the dataframe after import\n",
    "print(df_features_test.head())"
   ]
  },
  {
   "cell_type": "code",
   "execution_count": 57,
   "metadata": {},
   "outputs": [],
   "source": [
    "# # Finalize the test dataset for the prediction activities\n",
    "# df_target_test = df_features_test['target']\n",
    "# df_features_test = df_features_test.drop(['target'], axis=1)\n",
    "# print(\"df_features_test.shape: {} df_target_test.shape: {}\".format(df_features_test.shape, df_target_test.shape))"
   ]
  },
  {
   "cell_type": "code",
   "execution_count": 58,
   "metadata": {},
   "outputs": [],
   "source": [
    "# # Finalize the test dataset for the modeling testing\n",
    "# array_features_test = preprocessor.transform(df_features_test)\n",
    "# array_target_test = df_target_test.ravel()\n",
    "# print(\"array_features_test.shape: {} array_target_test.shape: {}\".format(array_features_test.shape, array_target_test.shape))"
   ]
  },
  {
   "cell_type": "code",
   "execution_count": 59,
   "metadata": {},
   "outputs": [],
   "source": [
    "# test_predictions = test_model.predict(array_features_test)\n",
    "# print('RMSE for the model is: ', math.sqrt(metrics.mean_squared_error(array_target_test, test_predictions)))\n",
    "# print('R2 for the model is: ', metrics.r2_score(array_target_test, test_predictions))"
   ]
  },
  {
   "cell_type": "code",
   "execution_count": 60,
   "metadata": {
    "colab": {
     "base_uri": "https://localhost:8080/"
    },
    "id": "sEys8on49SGC",
    "outputId": "ee040a80-a574-48bc-d02a-9fae4e47e268"
   },
   "outputs": [
    {
     "name": "stdout",
     "output_type": "stream",
     "text": [
      "   id\n",
      "0   0\n",
      "1   2\n",
      "2   6\n",
      "3   7\n",
      "4  10\n"
     ]
    }
   ],
   "source": [
    "df_kaggle_submission = pd.DataFrame()\n",
    "df_kaggle_submission['id'] = df_features_test['id']\n",
    "print(df_kaggle_submission.head())"
   ]
  },
  {
   "cell_type": "code",
   "execution_count": 61,
   "metadata": {
    "colab": {
     "base_uri": "https://localhost:8080/"
    },
    "id": "M_Q32_pF9UJF",
    "outputId": "5e6596f7-8a86-45aa-a39b-c91ad6219734"
   },
   "outputs": [
    {
     "name": "stdout",
     "output_type": "stream",
     "text": [
      "      cont1     cont2     cont3     cont4     cont5     cont6     cont7  \\\n",
      "0  0.353600  0.738780  0.600939  0.293377  0.285691  0.458006  0.620704   \n",
      "1  0.907222  0.189756  0.215531  0.869915  0.301333  0.528958  0.390351   \n",
      "2  0.179287  0.355353  0.623972  0.437812  0.282476  0.320826  0.386789   \n",
      "3  0.359385  0.181049  0.551368  0.206386  0.280763  0.482076  0.506677   \n",
      "4  0.335791  0.682607  0.676481  0.219465  0.282861  0.581721  0.748639   \n",
      "\n",
      "      cont8     cont9    cont10    cont11    cont12    cont13    cont14  \n",
      "0  0.422249  0.369203  0.435727  0.550540  0.699134  0.286864  0.364515  \n",
      "1  0.521112  0.794779  0.798580  0.446475  0.449037  0.916964  0.513002  \n",
      "2  0.776422  0.222268  0.229102  0.211913  0.222651  0.327164  0.827941  \n",
      "3  0.362793  0.379737  0.345686  0.445276  0.518485  0.299028  0.598166  \n",
      "4  0.350158  0.448915  0.506878  0.817721  0.805895  0.790591  0.249275  \n"
     ]
    }
   ],
   "source": [
    "# Dropping features\n",
    "df_features_test.drop(columns=['id'], inplace=True)\n",
    "\n",
    "# Take a peek at the dataframe after cleaning\n",
    "print(df_features_test.head())"
   ]
  },
  {
   "cell_type": "code",
   "execution_count": 62,
   "metadata": {
    "id": "9hPuYzYP9VZ9"
   },
   "outputs": [],
   "source": [
    "# Finalize the test dataset for the prediction activities\n",
    "tfds_test = tfdf.keras.pd_dataframe_to_tf_dataset(df_features_test, task = tfdf.keras.Task.REGRESSION)"
   ]
  },
  {
   "cell_type": "code",
   "execution_count": 63,
   "metadata": {
    "colab": {
     "base_uri": "https://localhost:8080/"
    },
    "id": "-fvgenmXwXjV",
    "outputId": "90fe95c9-87a0-4db4-8559-73fe096fa2c4"
   },
   "outputs": [
    {
     "name": "stdout",
     "output_type": "stream",
     "text": [
      "[[7.9471517]\n",
      " [7.8515325]\n",
      " [7.91051  ]\n",
      " ...\n",
      " [7.9942436]\n",
      " [8.031649 ]\n",
      " [7.947554 ]]\n"
     ]
    }
   ],
   "source": [
    "# Make batched predictions\n",
    "test_predictions = Final_model.predict(tfds_test)\n",
    "print(test_predictions)"
   ]
  },
  {
   "cell_type": "code",
   "execution_count": 64,
   "metadata": {
    "colab": {
     "base_uri": "https://localhost:8080/"
    },
    "id": "URcNcruf9r8w",
    "outputId": "d5401843-0c3c-4a26-ec88-c4a2129fb98f"
   },
   "outputs": [
    {
     "name": "stdout",
     "output_type": "stream",
     "text": [
      "   id    target\n",
      "0   0  7.947152\n",
      "1   2  7.851532\n",
      "2   6  7.910510\n",
      "3   7  8.272182\n",
      "4  10  8.282704\n"
     ]
    }
   ],
   "source": [
    "df_kaggle_submission['target'] = test_predictions\n",
    "print(df_kaggle_submission.head())"
   ]
  },
  {
   "cell_type": "code",
   "execution_count": 65,
   "metadata": {
    "colab": {
     "base_uri": "https://localhost:8080/"
    },
    "id": "OWRZ-ue59uM5",
    "outputId": "510cb34a-43e6-4e0c-f337-cdfb0c2577d3"
   },
   "outputs": [],
   "source": [
    "# # Create the submission file\n",
    "# submission_file = df_kaggle_submission.to_csv(header=True, index=False)\n",
    "# filename = 'submission_' + datetime.now().strftime('%Y%m%d-%H%M') + '.csv'\n",
    "# with open(filename, 'w') as f:\n",
    "#     f.write(submission_file)\n",
    "#     print('Completed writing output file: ' + filename)"
   ]
  },
  {
   "cell_type": "code",
   "execution_count": 66,
   "metadata": {
    "id": "YB2v5Iq9wXjV"
   },
   "outputs": [],
   "source": [
    "if NOTIFY_STATUS: status_notify(\"Task 5 - Finalize Model and Present Analysis completed! \"+datetime.now().strftime('%a %B %d, %Y %I:%M:%S %p'))"
   ]
  },
  {
   "cell_type": "code",
   "execution_count": 67,
   "metadata": {
    "colab": {
     "base_uri": "https://localhost:8080/"
    },
    "id": "piIVF1NIwXjW",
    "outputId": "c7511d15-bfc7-4492-fef5-e3d368115997"
   },
   "outputs": [
    {
     "name": "stdout",
     "output_type": "stream",
     "text": [
      "Total time for the script: 0:23:25.866469\n"
     ]
    }
   ],
   "source": [
    "print ('Total time for the script:',(datetime.now() - start_time_script))"
   ]
  }
 ],
 "metadata": {
  "colab": {
   "collapsed_sections": [],
   "name": "py_decisionforests_regression_kaggle_tabular_playground_2021jan.ipynb",
   "provenance": []
  },
  "kernelspec": {
   "display_name": "Python 3 (ipykernel)",
   "language": "python",
   "name": "python3"
  },
  "language_info": {
   "codemirror_mode": {
    "name": "ipython",
    "version": 3
   },
   "file_extension": ".py",
   "mimetype": "text/x-python",
   "name": "python",
   "nbconvert_exporter": "python",
   "pygments_lexer": "ipython3",
   "version": "3.9.9"
  }
 },
 "nbformat": 4,
 "nbformat_minor": 4
}

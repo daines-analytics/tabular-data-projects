{
 "cells": [
  {
   "cell_type": "markdown",
   "metadata": {
    "id": "2sQmc7MlwXit"
   },
   "source": [
    "# Binary Classification Model for [PROJECT NAME] Using TensorFlow Decision Forests version 1\n",
    "### David Lowe\n",
    "### November 24, 2021\n",
    "\n",
    "Template Credit: Adapted from a template made available by Dr. Jason Brownlee of Machine Learning Mastery. [https://machinelearningmastery.com/]\n",
    "\n",
    "SUMMARY: This project aims to construct a predictive model using various machine learning algorithms and document the end-to-end steps using a template. The [PROJECT NAME] dataset is a binary classification situation where we attempt to predict one of the two possible outcomes.\n",
    "\n",
    "INTRODUCTION: [Sample Paragraph: Kaggle wants to provide an approachable environment for relatively new people in their data science journey. Since January 2021, they have hosted playground-style competitions on Kaggle with fun but less complex, tabular datasets. The dataset may be synthetic but is based on a real dataset and generated using a CTGAN. The original dataset tries to predict the amount of an insurance claim. Although the features are anonymized, they have properties relating to real-world features.]\n",
    "\n",
    "ANALYSIS: [Sample Paragraph: The performance of the preliminary Gradient Boosted Trees model achieved a ROC/AUC benchmark of 0.8814 on the validation dataset. The final model processed the validation dataset with a final ROC/AUC score of 0.8750. When we applied the finalized model to Kaggle's test dataset, the model achieved a ROC/AUC score of 0.8864.]\n",
    "\n",
    "CONCLUSION: In this iteration, the TensorFlow Decision Forests model appeared to be a suitable algorithm for modeling this dataset.\n",
    "\n",
    "Dataset Used: [PROJECT NAME] Dataset\n",
    "\n",
    "Dataset ML Model: Binary Classification with [numerical | categorical] attributes\n",
    "\n",
    "Dataset Reference: [Sample URL: https://www.kaggle.com/c/tabular-playground-series-mar-2021]\n",
    "\n",
    "One potential source of performance benchmarks: [Sample URL: https://www.kaggle.com/c/tabular-playground-series-mar-2021/leaderboard]\n",
    "\n",
    "Any predictive modeling machine learning project generally can be broken down into about six major tasks:\n",
    "\n",
    "1. Prepare Environment\n",
    "2. Summarize and Visualize Data\n",
    "3. Train and Evaluate Models\n",
    "4. Fine-tune and Improve Models\n",
    "5. Finalize Model and Present Analysis"
   ]
  },
  {
   "cell_type": "markdown",
   "metadata": {
    "id": "2pu8nWBYwXi9"
   },
   "source": [
    "## Task 1 - Prepare Environment"
   ]
  },
  {
   "cell_type": "code",
   "execution_count": 1,
   "metadata": {
    "colab": {
     "base_uri": "https://localhost:8080/"
    },
    "id": "oucRIOhVwXi9",
    "outputId": "1d13c29d-9136-40c8-df5e-d048fbcce48a"
   },
   "outputs": [],
   "source": [
    "# Install the necessary packages for Colab\n",
    "# !pip install python-dotenv PyMySQL"
   ]
  },
  {
   "cell_type": "code",
   "execution_count": 2,
   "metadata": {},
   "outputs": [],
   "source": [
    "# Installing TFDF might be necessary when using the script with Google Colab\n",
    "# !pip install tensorflow_decision_forests"
   ]
  },
  {
   "cell_type": "code",
   "execution_count": 3,
   "metadata": {
    "colab": {
     "base_uri": "https://localhost:8080/"
    },
    "id": "QNXHrvTWZ96d",
    "outputId": "8ed978eb-a80a-42cf-afb9-9fcca38e8dc1"
   },
   "outputs": [],
   "source": [
    "# For managing screen output when using the script with Google Colab\n",
    "# !pip install wurlitzer"
   ]
  },
  {
   "cell_type": "code",
   "execution_count": 4,
   "metadata": {
    "id": "tvspnMqBwXi-"
   },
   "outputs": [],
   "source": [
    "# # Retrieve the GPU information from Colab\n",
    "# gpu_info = !nvidia-smi\n",
    "# gpu_info = '\\n'.join(gpu_info)\n",
    "# if gpu_info.find('failed') >= 0:\n",
    "#     print('Select the Runtime → \"Change runtime type\" menu to enable a GPU accelerator, ')\n",
    "#     print('and then re-execute this cell.')\n",
    "# else:\n",
    "#     print(gpu_info)"
   ]
  },
  {
   "cell_type": "code",
   "execution_count": 5,
   "metadata": {
    "colab": {
     "base_uri": "https://localhost:8080/"
    },
    "id": "TanXkkQxwXi-",
    "outputId": "c2f4d9c4-74ee-4fd3-9b28-34ef98e5a9f5"
   },
   "outputs": [],
   "source": [
    "# # Retrieve the memory configuration from Colab\n",
    "# from psutil import virtual_memory\n",
    "# ram_gb = virtual_memory().total / 1e9\n",
    "# print('Your runtime has {:.1f} gigabytes of available RAM\\n'.format(ram_gb))\n",
    "\n",
    "# if ram_gb < 20:\n",
    "#     print('To enable a high-RAM runtime, select the Runtime → \"Change runtime type\"')\n",
    "#     print('menu, and then select High-RAM in the Runtime shape dropdown. Then, ')\n",
    "#     print('re-execute this cell.')\n",
    "# else:\n",
    "#     print('You are using a high-RAM runtime!')"
   ]
  },
  {
   "cell_type": "code",
   "execution_count": 6,
   "metadata": {
    "colab": {
     "base_uri": "https://localhost:8080/"
    },
    "id": "ZOOVxnGCwXi_",
    "outputId": "af26ffc0-0714-4f1f-9f04-f6fcbf16ece3"
   },
   "outputs": [
    {
     "name": "stdout",
     "output_type": "stream",
     "text": [
      "The number of available CPUs is: 4\n"
     ]
    }
   ],
   "source": [
    "# Retrieve the CPU information\n",
    "ncpu = !nproc\n",
    "print(\"The number of available CPUs is:\", ncpu[0])"
   ]
  },
  {
   "cell_type": "markdown",
   "metadata": {
    "id": "6UZqFeojwXjA"
   },
   "source": [
    "### 1.a) Load libraries and modules"
   ]
  },
  {
   "cell_type": "code",
   "execution_count": 7,
   "metadata": {
    "id": "9_ovTGbJwXjA"
   },
   "outputs": [],
   "source": [
    "# Set the random seed number for reproducible results\n",
    "RNG_SEED = 888"
   ]
  },
  {
   "cell_type": "code",
   "execution_count": 8,
   "metadata": {
    "colab": {
     "base_uri": "https://localhost:8080/"
    },
    "id": "vDmif-v8wXjB",
    "outputId": "5050d081-be63-432c-bd77-7c5f18164f22"
   },
   "outputs": [
    {
     "name": "stderr",
     "output_type": "stream",
     "text": [
      "2021-11-24 00:53:14.457995: W tensorflow/stream_executor/platform/default/dso_loader.cc:64] Could not load dynamic library 'libcudart.so.11.0'; dlerror: libcudart.so.11.0: cannot open shared object file: No such file or directory\n",
      "2021-11-24 00:53:14.458076: I tensorflow/stream_executor/cuda/cudart_stub.cc:29] Ignore above cudart dlerror if you do not have a GPU set up on your machine.\n",
      "WARNING:root:Failure to load the custom c++ tensorflow ops. This error is likely caused the version of TensorFlow and TensorFlow Decision Forests are not compatible.\n",
      "WARNING:root:TF Parameter Server distributed training not available.\n"
     ]
    }
   ],
   "source": [
    "import random\n",
    "random.seed(RNG_SEED)\n",
    "import numpy as np\n",
    "np.random.seed(RNG_SEED)\n",
    "import pandas as pd\n",
    "import seaborn as sns\n",
    "import matplotlib\n",
    "import matplotlib.pyplot as plt\n",
    "import os\n",
    "import sys\n",
    "import math\n",
    "from datetime import datetime\n",
    "# import boto3\n",
    "# from dotenv import load_dotenv\n",
    "from sklearn import preprocessing\n",
    "from sklearn.model_selection import train_test_split\n",
    "from sklearn.model_selection import RepeatedKFold\n",
    "from sklearn.pipeline import Pipeline\n",
    "from sklearn import compose\n",
    "from sklearn import impute\n",
    "from sklearn import metrics\n",
    "import tensorflow as tf\n",
    "tf.random.set_seed(RNG_SEED)\n",
    "# from tensorflow import keras\n",
    "import tensorflow_decision_forests as tfdf"
   ]
  },
  {
   "cell_type": "code",
   "execution_count": 9,
   "metadata": {
    "id": "ATym7GJWaOD3"
   },
   "outputs": [],
   "source": [
    "# For managing screen output and model plotting when using the script with Google Colab\n",
    "\n",
    "# try:\n",
    "#   from wurlitzer import sys_pipes\n",
    "# except:\n",
    "#   from colabtools.googlelog import CaptureLog as sys_pipes\n",
    "\n",
    "# from IPython.core.magic import register_line_magic\n",
    "# from IPython.display import Javascript"
   ]
  },
  {
   "cell_type": "markdown",
   "metadata": {
    "id": "M0TRB7j0wXjB"
   },
   "source": [
    "### 1.b) Set up the controlling parameters and functions"
   ]
  },
  {
   "cell_type": "code",
   "execution_count": 10,
   "metadata": {
    "colab": {
     "base_uri": "https://localhost:8080/"
    },
    "id": "JCurALWEwXjB",
    "outputId": "fe2a2a8f-feec-4485-a414-4c0218f15afb"
   },
   "outputs": [
    {
     "name": "stdout",
     "output_type": "stream",
     "text": [
      "TensorFlow version: 2.7.0\n",
      "Found TensorFlow Decision Forests v0.2.1\n"
     ]
    },
    {
     "name": "stderr",
     "output_type": "stream",
     "text": [
      "2021-11-24 00:53:16.601211: W tensorflow/stream_executor/platform/default/dso_loader.cc:64] Could not load dynamic library 'libcuda.so.1'; dlerror: libcuda.so.1: cannot open shared object file: No such file or directory\n",
      "2021-11-24 00:53:16.601294: W tensorflow/stream_executor/cuda/cuda_driver.cc:269] failed call to cuInit: UNKNOWN ERROR (303)\n",
      "2021-11-24 00:53:16.601337: I tensorflow/stream_executor/cuda/cuda_diagnostics.cc:156] kernel driver does not appear to be running on this host (20d838f3f8d1): /proc/driver/nvidia/version does not exist\n"
     ]
    }
   ],
   "source": [
    "# Begin the timer for the script processing\n",
    "start_time_script = datetime.now()\n",
    "\n",
    "# Set up the number of CPU cores available for multi-thread processing\n",
    "N_JOBS = 1\n",
    "\n",
    "# Set up the flag to stop sending progress emails (setting to True will send status emails!)\n",
    "NOTIFY_STATUS = False\n",
    "\n",
    "# Set the percentage sizes for splitting the dataset\n",
    "TEST_SET_RATIO = 0.2\n",
    "VAL_SET_RATIO = 0.2\n",
    "\n",
    "# Set the number of folds for cross validation\n",
    "N_FOLDS = 5\n",
    "N_ITERATIONS = 1\n",
    "\n",
    "# Set various default modeling parameters\n",
    "DEFAULT_LOSS = 'binary_crossentropy'\n",
    "DEFAULT_METRICS = [\"accuracy\", tf.keras.metrics.AUC()]\n",
    "\n",
    "# Define the directory locations and file names\n",
    "TRAIN_DATASET = 'train.csv'\n",
    "TEST_DATASET = 'test.csv'\n",
    "\n",
    "# # Check the number of GPUs accessible through TensorFlow\n",
    "# print('Num GPUs Available:', len(tf.config.list_physical_devices('GPU')))\n",
    "\n",
    "# Print out the TensorFlow version for confirmation\n",
    "print('TensorFlow version:', tf.__version__)\n",
    "\n",
    "# Check the version of TensorFlow Decision Forests\n",
    "print(\"Found TensorFlow Decision Forests v\" + tfdf.__version__)"
   ]
  },
  {
   "cell_type": "code",
   "execution_count": 11,
   "metadata": {
    "id": "IBDJ6B40wXjC"
   },
   "outputs": [],
   "source": [
    "# Set up the email notification function\n",
    "def status_notify(msg_text):\n",
    "    access_key = os.environ.get('SNS_ACCESS_KEY')\n",
    "    secret_key = os.environ.get('SNS_SECRET_KEY')\n",
    "    aws_region = os.environ.get('SNS_AWS_REGION')\n",
    "    topic_arn = os.environ.get('SNS_TOPIC_ARN')\n",
    "    if (access_key is None) or (secret_key is None) or (aws_region is None):\n",
    "        sys.exit(\"Incomplete notification setup info. Script Processing Aborted!!!\")\n",
    "    sns = boto3.client('sns', aws_access_key_id=access_key, aws_secret_access_key=secret_key, region_name=aws_region)\n",
    "    response = sns.publish(TopicArn=topic_arn, Message=msg_text)\n",
    "    if response['ResponseMetadata']['HTTPStatusCode'] != 200 :\n",
    "        print('Status notification not OK with HTTP status code:', response['ResponseMetadata']['HTTPStatusCode'])"
   ]
  },
  {
   "cell_type": "code",
   "execution_count": 12,
   "metadata": {
    "id": "e3tPi3k7wyTv"
   },
   "outputs": [],
   "source": [
    "# Reset the random number generators\n",
    "def reset_random(x=RNG_SEED):\n",
    "    random.seed(x)\n",
    "    np.random.seed(x)\n",
    "    tf.random.set_seed(x)"
   ]
  },
  {
   "cell_type": "code",
   "execution_count": 13,
   "metadata": {
    "id": "p2F2r8QswXjD"
   },
   "outputs": [],
   "source": [
    "if NOTIFY_STATUS: status_notify(\"Task 1 - Prepare Environment has begun! \" + datetime.now().strftime('%a %B %d, %Y %I:%M:%S %p'))"
   ]
  },
  {
   "cell_type": "markdown",
   "metadata": {
    "id": "yk2I_AhawXjD"
   },
   "source": [
    "### 1.c) Load dataset"
   ]
  },
  {
   "cell_type": "code",
   "execution_count": 14,
   "metadata": {},
   "outputs": [
    {
     "name": "stdout",
     "output_type": "stream",
     "text": [
      "--2021-11-24 00:53:16--  https://dainesanalytics.com/datasets/kaggle-tabular-playground-2021mar/train.csv\n",
      "Resolving dainesanalytics.com (dainesanalytics.com)... 13.226.228.65, 13.226.228.127, 13.226.228.118, ...\n",
      "Connecting to dainesanalytics.com (dainesanalytics.com)|13.226.228.65|:443... connected.\n",
      "HTTP request sent, awaiting response... 200 OK\n",
      "Length: 77937692 (74M) [text/csv]\n",
      "Saving to: ‘train.csv’\n",
      "\n",
      "train.csv           100%[===================>]  74.33M  2.93MB/s    in 34s     \n",
      "\n",
      "2021-11-24 00:53:50 (2.19 MB/s) - ‘train.csv’ saved [77937692/77937692]\n",
      "\n"
     ]
    }
   ],
   "source": [
    "if not os.path.exists(TRAIN_DATASET):\n",
    "    !wget https://dainesanalytics.com/datasets/kaggle-tabular-playground-2021mar/train.csv"
   ]
  },
  {
   "cell_type": "code",
   "execution_count": 15,
   "metadata": {
    "colab": {
     "base_uri": "https://localhost:8080/"
    },
    "id": "E7G2_4zawXjE",
    "outputId": "8fe31ed3-47a3-4720-b2ab-a32c52603e4d"
   },
   "outputs": [
    {
     "name": "stdout",
     "output_type": "stream",
     "text": [
      "   id cat0 cat1 cat2 cat3 cat4 cat5 cat6 cat7 cat8  ...     cont2     cont3  \\\n",
      "0   0    A    I    A    B    B   BI    A    S    Q  ...  0.759439  0.795549   \n",
      "1   1    A    I    A    A    E   BI    K    W   AD  ...  0.386385  0.541366   \n",
      "2   2    A    K    A    A    E   BI    A    E   BM  ...  0.343255  0.616352   \n",
      "3   3    A    K    A    C    E   BI    A    Y   AD  ...  0.831147  0.807807   \n",
      "4   4    A    I    G    B    E   BI    C    G    Q  ...  0.338818  0.277308   \n",
      "\n",
      "      cont4     cont5     cont6     cont7     cont8     cont9    cont10 target  \n",
      "0  0.681917  0.621672  0.592184  0.791921  0.815254  0.965006  0.665915      0  \n",
      "1  0.388982  0.357778  0.600044  0.408701  0.399353  0.927406  0.493729      0  \n",
      "2  0.793687  0.552877  0.352113  0.388835  0.412303  0.292696  0.549452      0  \n",
      "3  0.800032  0.619147  0.221789  0.897617  0.633669  0.760318  0.934242      0  \n",
      "4  0.610578  0.128291  0.578764  0.279167  0.351103  0.357084  0.328960      1  \n",
      "\n",
      "[5 rows x 32 columns]\n"
     ]
    }
   ],
   "source": [
    "df_dataset_import = pd.read_csv(TRAIN_DATASET, index_col=False)\n",
    "\n",
    "# Take a peek at the dataframe after import\n",
    "print(df_dataset_import.head())"
   ]
  },
  {
   "cell_type": "code",
   "execution_count": 16,
   "metadata": {
    "colab": {
     "base_uri": "https://localhost:8080/"
    },
    "id": "3dl-LDdfwXjE",
    "outputId": "bbeef758-68be-4a10-e1bc-fb939eca2168"
   },
   "outputs": [
    {
     "name": "stdout",
     "output_type": "stream",
     "text": [
      "<class 'pandas.core.frame.DataFrame'>\n",
      "RangeIndex: 300000 entries, 0 to 299999\n",
      "Data columns (total 32 columns):\n",
      " #   Column  Non-Null Count   Dtype  \n",
      "---  ------  --------------   -----  \n",
      " 0   id      300000 non-null  int64  \n",
      " 1   cat0    300000 non-null  object \n",
      " 2   cat1    300000 non-null  object \n",
      " 3   cat2    300000 non-null  object \n",
      " 4   cat3    300000 non-null  object \n",
      " 5   cat4    300000 non-null  object \n",
      " 6   cat5    300000 non-null  object \n",
      " 7   cat6    300000 non-null  object \n",
      " 8   cat7    300000 non-null  object \n",
      " 9   cat8    300000 non-null  object \n",
      " 10  cat9    300000 non-null  object \n",
      " 11  cat10   300000 non-null  object \n",
      " 12  cat11   300000 non-null  object \n",
      " 13  cat12   300000 non-null  object \n",
      " 14  cat13   300000 non-null  object \n",
      " 15  cat14   300000 non-null  object \n",
      " 16  cat15   300000 non-null  object \n",
      " 17  cat16   300000 non-null  object \n",
      " 18  cat17   300000 non-null  object \n",
      " 19  cat18   300000 non-null  object \n",
      " 20  cont0   300000 non-null  float64\n",
      " 21  cont1   300000 non-null  float64\n",
      " 22  cont2   300000 non-null  float64\n",
      " 23  cont3   300000 non-null  float64\n",
      " 24  cont4   300000 non-null  float64\n",
      " 25  cont5   300000 non-null  float64\n",
      " 26  cont6   300000 non-null  float64\n",
      " 27  cont7   300000 non-null  float64\n",
      " 28  cont8   300000 non-null  float64\n",
      " 29  cont9   300000 non-null  float64\n",
      " 30  cont10  300000 non-null  float64\n",
      " 31  target  300000 non-null  int64  \n",
      "dtypes: float64(11), int64(2), object(19)\n",
      "memory usage: 73.2+ MB\n"
     ]
    }
   ],
   "source": [
    "df_dataset_import.info(verbose=True)"
   ]
  },
  {
   "cell_type": "code",
   "execution_count": 17,
   "metadata": {
    "colab": {
     "base_uri": "https://localhost:8080/"
    },
    "id": "3eB_rvlwwXjF",
    "outputId": "6653b185-594e-4772-f887-abef50d74bd5"
   },
   "outputs": [
    {
     "name": "stdout",
     "output_type": "stream",
     "text": [
      "                  id          cont0          cont1          cont2  \\\n",
      "count  300000.000000  300000.000000  300000.000000  300000.000000   \n",
      "mean   250183.425697       0.504749       0.494073       0.516632   \n",
      "std    144320.334812       0.206788       0.213037       0.214851   \n",
      "min         0.000000      -0.049562       0.084480       0.094493   \n",
      "25%    125399.750000       0.344985       0.317363       0.326047   \n",
      "50%    250192.500000       0.479650       0.463170       0.471247   \n",
      "75%    375246.250000       0.637657       0.693992       0.704625   \n",
      "max    499999.000000       1.004559       1.009958       1.016600   \n",
      "\n",
      "               cont3          cont4          cont5          cont6  \\\n",
      "count  300000.000000  300000.000000  300000.000000  300000.000000   \n",
      "mean        0.474235       0.504848       0.502257       0.488229   \n",
      "std         0.216636       0.227474       0.241243       0.211335   \n",
      "min        -0.045316       0.168071      -0.036379       0.005199   \n",
      "25%         0.292249       0.279303       0.276442       0.323914   \n",
      "50%         0.387564       0.479858       0.554768       0.518089   \n",
      "75%         0.644950       0.725779       0.735225       0.608537   \n",
      "max         0.952187       0.858578       0.853022       0.966553   \n",
      "\n",
      "               cont7          cont8          cont9         cont10  \\\n",
      "count  300000.000000  300000.000000  300000.000000  300000.000000   \n",
      "mean        0.501739       0.488074       0.469496       0.508230   \n",
      "std         0.203496       0.179048       0.194516       0.203393   \n",
      "min         0.090901       0.024139       0.214866       0.097789   \n",
      "25%         0.353054       0.358915       0.309934       0.368312   \n",
      "50%         0.435404       0.410908       0.407477       0.446576   \n",
      "75%         0.642023       0.612725       0.586793       0.581957   \n",
      "max         1.035818       1.055885       1.005652       1.011331   \n",
      "\n",
      "              target  \n",
      "count  300000.000000  \n",
      "mean        0.264870  \n",
      "std         0.441265  \n",
      "min         0.000000  \n",
      "25%         0.000000  \n",
      "50%         0.000000  \n",
      "75%         1.000000  \n",
      "max         1.000000  \n"
     ]
    }
   ],
   "source": [
    "print(df_dataset_import.describe())"
   ]
  },
  {
   "cell_type": "code",
   "execution_count": 18,
   "metadata": {
    "colab": {
     "base_uri": "https://localhost:8080/"
    },
    "id": "SRyVb81UwXjF",
    "outputId": "59df4c47-36a0-4476-efd6-272965f1657f"
   },
   "outputs": [
    {
     "name": "stdout",
     "output_type": "stream",
     "text": [
      "id        0\n",
      "cat0      0\n",
      "cat1      0\n",
      "cat2      0\n",
      "cat3      0\n",
      "cat4      0\n",
      "cat5      0\n",
      "cat6      0\n",
      "cat7      0\n",
      "cat8      0\n",
      "cat9      0\n",
      "cat10     0\n",
      "cat11     0\n",
      "cat12     0\n",
      "cat13     0\n",
      "cat14     0\n",
      "cat15     0\n",
      "cat16     0\n",
      "cat17     0\n",
      "cat18     0\n",
      "cont0     0\n",
      "cont1     0\n",
      "cont2     0\n",
      "cont3     0\n",
      "cont4     0\n",
      "cont5     0\n",
      "cont6     0\n",
      "cont7     0\n",
      "cont8     0\n",
      "cont9     0\n",
      "cont10    0\n",
      "target    0\n",
      "dtype: int64\n",
      "Total number of NaN in the dataframe:  0\n"
     ]
    }
   ],
   "source": [
    "print(df_dataset_import.isnull().sum())\n",
    "print('Total number of NaN in the dataframe: ', df_dataset_import.isnull().sum().sum())"
   ]
  },
  {
   "cell_type": "markdown",
   "metadata": {
    "id": "wfaoKiSdwXjG"
   },
   "source": [
    "### 1.d) Data Cleaning"
   ]
  },
  {
   "cell_type": "code",
   "execution_count": 19,
   "metadata": {
    "colab": {
     "base_uri": "https://localhost:8080/"
    },
    "id": "KujRTYu5wXjG",
    "outputId": "bde95e06-87b1-4cf3-fe8f-af041d369ff0"
   },
   "outputs": [
    {
     "name": "stdout",
     "output_type": "stream",
     "text": [
      "  cat0 cat1 cat2 cat3 cat4 cat5 cat6 cat7 cat8 cat9  ...     cont2     cont3  \\\n",
      "0    A    I    A    B    B   BI    A    S    Q    A  ...  0.759439  0.795549   \n",
      "1    A    I    A    A    E   BI    K    W   AD    F  ...  0.386385  0.541366   \n",
      "2    A    K    A    A    E   BI    A    E   BM    L  ...  0.343255  0.616352   \n",
      "3    A    K    A    C    E   BI    A    Y   AD    F  ...  0.831147  0.807807   \n",
      "4    A    I    G    B    E   BI    C    G    Q    A  ...  0.338818  0.277308   \n",
      "\n",
      "      cont4     cont5     cont6     cont7     cont8     cont9    cont10  \\\n",
      "0  0.681917  0.621672  0.592184  0.791921  0.815254  0.965006  0.665915   \n",
      "1  0.388982  0.357778  0.600044  0.408701  0.399353  0.927406  0.493729   \n",
      "2  0.793687  0.552877  0.352113  0.388835  0.412303  0.292696  0.549452   \n",
      "3  0.800032  0.619147  0.221789  0.897617  0.633669  0.760318  0.934242   \n",
      "4  0.610578  0.128291  0.578764  0.279167  0.351103  0.357084  0.328960   \n",
      "\n",
      "   target  \n",
      "0       0  \n",
      "1       0  \n",
      "2       0  \n",
      "3       0  \n",
      "4       1  \n",
      "\n",
      "[5 rows x 31 columns]\n"
     ]
    }
   ],
   "source": [
    "# Dropping features\n",
    "df_dataset_import.drop(columns=['id'], inplace=True)\n",
    "\n",
    "# Take a peek at the dataframe after cleaning\n",
    "print(df_dataset_import.head())"
   ]
  },
  {
   "cell_type": "code",
   "execution_count": 20,
   "metadata": {
    "colab": {
     "base_uri": "https://localhost:8080/"
    },
    "id": "ZprOE1B0wXjH",
    "outputId": "15a54dc9-ea93-4996-b0dc-a244ed23c127"
   },
   "outputs": [
    {
     "name": "stdout",
     "output_type": "stream",
     "text": [
      "<class 'pandas.core.frame.DataFrame'>\n",
      "RangeIndex: 300000 entries, 0 to 299999\n",
      "Data columns (total 31 columns):\n",
      " #   Column  Non-Null Count   Dtype  \n",
      "---  ------  --------------   -----  \n",
      " 0   cat0    300000 non-null  object \n",
      " 1   cat1    300000 non-null  object \n",
      " 2   cat2    300000 non-null  object \n",
      " 3   cat3    300000 non-null  object \n",
      " 4   cat4    300000 non-null  object \n",
      " 5   cat5    300000 non-null  object \n",
      " 6   cat6    300000 non-null  object \n",
      " 7   cat7    300000 non-null  object \n",
      " 8   cat8    300000 non-null  object \n",
      " 9   cat9    300000 non-null  object \n",
      " 10  cat10   300000 non-null  object \n",
      " 11  cat11   300000 non-null  object \n",
      " 12  cat12   300000 non-null  object \n",
      " 13  cat13   300000 non-null  object \n",
      " 14  cat14   300000 non-null  object \n",
      " 15  cat15   300000 non-null  object \n",
      " 16  cat16   300000 non-null  object \n",
      " 17  cat17   300000 non-null  object \n",
      " 18  cat18   300000 non-null  object \n",
      " 19  cont0   300000 non-null  float64\n",
      " 20  cont1   300000 non-null  float64\n",
      " 21  cont2   300000 non-null  float64\n",
      " 22  cont3   300000 non-null  float64\n",
      " 23  cont4   300000 non-null  float64\n",
      " 24  cont5   300000 non-null  float64\n",
      " 25  cont6   300000 non-null  float64\n",
      " 26  cont7   300000 non-null  float64\n",
      " 27  cont8   300000 non-null  float64\n",
      " 28  cont9   300000 non-null  float64\n",
      " 29  cont10  300000 non-null  float64\n",
      " 30  target  300000 non-null  int64  \n",
      "dtypes: float64(11), int64(1), object(19)\n",
      "memory usage: 71.0+ MB\n"
     ]
    }
   ],
   "source": [
    "df_dataset_import.info(verbose=True)"
   ]
  },
  {
   "cell_type": "code",
   "execution_count": 21,
   "metadata": {
    "colab": {
     "base_uri": "https://localhost:8080/"
    },
    "id": "QgyI5VZ1wXjH",
    "outputId": "56d27ba8-4867-4536-ab77-5f017102006e"
   },
   "outputs": [
    {
     "name": "stdout",
     "output_type": "stream",
     "text": [
      "               cont0          cont1          cont2          cont3  \\\n",
      "count  300000.000000  300000.000000  300000.000000  300000.000000   \n",
      "mean        0.504749       0.494073       0.516632       0.474235   \n",
      "std         0.206788       0.213037       0.214851       0.216636   \n",
      "min        -0.049562       0.084480       0.094493      -0.045316   \n",
      "25%         0.344985       0.317363       0.326047       0.292249   \n",
      "50%         0.479650       0.463170       0.471247       0.387564   \n",
      "75%         0.637657       0.693992       0.704625       0.644950   \n",
      "max         1.004559       1.009958       1.016600       0.952187   \n",
      "\n",
      "               cont4          cont5          cont6          cont7  \\\n",
      "count  300000.000000  300000.000000  300000.000000  300000.000000   \n",
      "mean        0.504848       0.502257       0.488229       0.501739   \n",
      "std         0.227474       0.241243       0.211335       0.203496   \n",
      "min         0.168071      -0.036379       0.005199       0.090901   \n",
      "25%         0.279303       0.276442       0.323914       0.353054   \n",
      "50%         0.479858       0.554768       0.518089       0.435404   \n",
      "75%         0.725779       0.735225       0.608537       0.642023   \n",
      "max         0.858578       0.853022       0.966553       1.035818   \n",
      "\n",
      "               cont8          cont9         cont10         target  \n",
      "count  300000.000000  300000.000000  300000.000000  300000.000000  \n",
      "mean        0.488074       0.469496       0.508230       0.264870  \n",
      "std         0.179048       0.194516       0.203393       0.441265  \n",
      "min         0.024139       0.214866       0.097789       0.000000  \n",
      "25%         0.358915       0.309934       0.368312       0.000000  \n",
      "50%         0.410908       0.407477       0.446576       0.000000  \n",
      "75%         0.612725       0.586793       0.581957       1.000000  \n",
      "max         1.055885       1.005652       1.011331       1.000000  \n"
     ]
    }
   ],
   "source": [
    "print(df_dataset_import.describe())"
   ]
  },
  {
   "cell_type": "code",
   "execution_count": 22,
   "metadata": {
    "colab": {
     "base_uri": "https://localhost:8080/"
    },
    "id": "wz9iKsUswXjI",
    "outputId": "da2128d2-f4ef-43e8-dd1b-441908a27f10"
   },
   "outputs": [
    {
     "name": "stdout",
     "output_type": "stream",
     "text": [
      "cat0      0\n",
      "cat1      0\n",
      "cat2      0\n",
      "cat3      0\n",
      "cat4      0\n",
      "cat5      0\n",
      "cat6      0\n",
      "cat7      0\n",
      "cat8      0\n",
      "cat9      0\n",
      "cat10     0\n",
      "cat11     0\n",
      "cat12     0\n",
      "cat13     0\n",
      "cat14     0\n",
      "cat15     0\n",
      "cat16     0\n",
      "cat17     0\n",
      "cat18     0\n",
      "cont0     0\n",
      "cont1     0\n",
      "cont2     0\n",
      "cont3     0\n",
      "cont4     0\n",
      "cont5     0\n",
      "cont6     0\n",
      "cont7     0\n",
      "cont8     0\n",
      "cont9     0\n",
      "cont10    0\n",
      "target    0\n",
      "dtype: int64\n",
      "Total number of NaN in the dataframe:  0\n"
     ]
    }
   ],
   "source": [
    "print(df_dataset_import.isnull().sum())\n",
    "print('Total number of NaN in the dataframe: ', df_dataset_import.isnull().sum().sum())"
   ]
  },
  {
   "cell_type": "markdown",
   "metadata": {
    "id": "0ZBQ1s2bwXjI"
   },
   "source": [
    "### 1.e) Splitting Data into Sets"
   ]
  },
  {
   "cell_type": "code",
   "execution_count": 23,
   "metadata": {
    "colab": {
     "base_uri": "https://localhost:8080/"
    },
    "id": "QNydPt1uwXjI",
    "outputId": "b9e0b0b4-4558-4c22-9f26-f0a69279818a"
   },
   "outputs": [
    {
     "name": "stdout",
     "output_type": "stream",
     "text": [
      "df_dataset_import.shape: (300000, 31) df_features_train.shape: (300000, 30) df_target_train.shape: (300000,)\n"
     ]
    }
   ],
   "source": [
    "# Use variable total_column_count to hold the number of columns in the dataframe\n",
    "total_column_count = len(df_dataset_import.columns)\n",
    "\n",
    "# Set up variable total_feature_count for the total number of attribute columns\n",
    "total_feature_count = total_column_count-1\n",
    "\n",
    "# We create attribute-only and target-only datasets (df_features_train and df_target_train)\n",
    "df_target_train = df_dataset_import['target']\n",
    "df_features_train = df_dataset_import.drop(['target'], axis=1)\n",
    "\n",
    "print(\"df_dataset_import.shape: {} df_features_train.shape: {} df_target_train.shape: {}\".format(df_dataset_import.shape, df_features_train.shape, df_target_train.shape))"
   ]
  },
  {
   "cell_type": "markdown",
   "metadata": {
    "id": "VKU_2CL74vh-"
   },
   "source": [
    "### 1.f) Set up the parameters for data visualization"
   ]
  },
  {
   "cell_type": "code",
   "execution_count": 24,
   "metadata": {
    "id": "7D9OChW94yP0"
   },
   "outputs": [],
   "source": [
    "# Set up the number of row and columns for visualization display. display_rows * display_columns should be >= total_feature_count\n",
    "display_columns = 4\n",
    "if total_feature_count % display_columns == 0 :\n",
    "    display_rows = total_feature_count // display_columns\n",
    "else :\n",
    "    display_rows = (total_feature_count // display_columns) + 1\n",
    "    \n",
    "# Set figure width to display the data visualization plots\n",
    "fig_size = plt.rcParams[\"figure.figsize\"]\n",
    "fig_size[0] = display_columns * 4\n",
    "fig_size[1] = display_rows * 4\n",
    "plt.rcParams[\"figure.figsize\"] = fig_size"
   ]
  },
  {
   "cell_type": "code",
   "execution_count": 25,
   "metadata": {
    "id": "YLRgAYnMwXjJ"
   },
   "outputs": [],
   "source": [
    "if NOTIFY_STATUS: status_notify(\"Task 1 - Prepare Environment completed! \"+datetime.now().strftime('%a %B %d, %Y %I:%M:%S %p'))"
   ]
  },
  {
   "cell_type": "markdown",
   "metadata": {
    "id": "ZivQJCZowXjK"
   },
   "source": [
    "## Task 2 - Summarize and Visualize Data"
   ]
  },
  {
   "cell_type": "code",
   "execution_count": 26,
   "metadata": {
    "id": "F5H90pxZwXjK"
   },
   "outputs": [],
   "source": [
    "if NOTIFY_STATUS: status_notify(\"Task 2 - Summarize and Visualize Data has begun! \"+datetime.now().strftime('%a %B %d, %Y %I:%M:%S %p'))"
   ]
  },
  {
   "cell_type": "code",
   "execution_count": 27,
   "metadata": {
    "colab": {
     "base_uri": "https://localhost:8080/",
     "height": 919
    },
    "id": "OBhr7SGRwXjK",
    "outputId": "3b3dc20f-b962-414c-b891-e530b1dd3d6a",
    "tags": []
   },
   "outputs": [
    {
     "data": {
      "image/png": "[encoded data removed]",
      "text/plain": [
       "<Figure size 1152x2304 with 32 Axes>"
      ]
     },
     "metadata": {
      "needs_background": "light"
     },
     "output_type": "display_data"
    }
   ],
   "source": [
    "# Histograms for each attribute\n",
    "df_features_train.plot(kind='hist', subplots=True, layout=(display_rows, display_columns))\n",
    "plt.show()"
   ]
  },
  {
   "cell_type": "code",
   "execution_count": 28,
   "metadata": {
    "colab": {
     "base_uri": "https://localhost:8080/",
     "height": 918
    },
    "id": "NHtCofAgwXjL",
    "outputId": "b7393adf-cc8e-4739-95f4-6820bde2b8e7"
   },
   "outputs": [
    {
     "data": {
      "image/png": "[encoded data removed]",
      "text/plain": [
       "<Figure size 1152x2304 with 32 Axes>"
      ]
     },
     "metadata": {
      "needs_background": "light"
     },
     "output_type": "display_data"
    }
   ],
   "source": [
    "# Box and Whisker plot for each attribute\n",
    "df_features_train.plot(kind='box', subplots=True, layout=(display_rows, display_columns))\n",
    "plt.show()"
   ]
  },
  {
   "cell_type": "code",
   "execution_count": 29,
   "metadata": {
    "colab": {
     "base_uri": "https://localhost:8080/",
     "height": 1000
    },
    "id": "HXUm5_nkwXjL",
    "outputId": "8aa7e071-d983-4609-a04b-37532cdfece2"
   },
   "outputs": [
    {
     "data": {
      "image/png": "[encoded data removed]",
      "text/plain": [
       "<Figure size 1440x1440 with 2 Axes>"
      ]
     },
     "metadata": {
      "needs_background": "light"
     },
     "output_type": "display_data"
    }
   ],
   "source": [
    "# Correlation matrix\n",
    "fig = plt.figure(figsize=(20, 20))\n",
    "correlations = df_features_train.corr(method='pearson')\n",
    "sns.heatmap(correlations, annot=True, cmap=plt.cm.PuBu)\n",
    "plt.show()"
   ]
  },
  {
   "cell_type": "code",
   "execution_count": 30,
   "metadata": {
    "id": "yHcRjiadwXjL"
   },
   "outputs": [],
   "source": [
    "if NOTIFY_STATUS: status_notify(\"Task 2 - Summarize and Visualize Data completed! \"+datetime.now().strftime('%a %B %d, %Y %I:%M:%S %p'))"
   ]
  },
  {
   "cell_type": "markdown",
   "metadata": {
    "id": "-8rH-HXuwXjM"
   },
   "source": [
    "## Task 3 - Train and Evaluate Models"
   ]
  },
  {
   "cell_type": "code",
   "execution_count": 31,
   "metadata": {
    "id": "UnD36SUzwXjM"
   },
   "outputs": [],
   "source": [
    "if NOTIFY_STATUS: status_notify(\"Task 3 - Train and Evaluate Models has begun! \"+datetime.now().strftime('%a %B %d, %Y %I:%M:%S %p'))"
   ]
  },
  {
   "cell_type": "markdown",
   "metadata": {
    "id": "C5MXnEfq0-PW"
   },
   "source": [
    "### 3.a) Splitting Data into Training and Validation Sets"
   ]
  },
  {
   "cell_type": "code",
   "execution_count": 32,
   "metadata": {
    "colab": {
     "base_uri": "https://localhost:8080/"
    },
    "id": "AI2yMOlA6PwG",
    "outputId": "7773985b-1e43-4fee-d3a1-4f9d17805873"
   },
   "outputs": [
    {
     "name": "stdout",
     "output_type": "stream",
     "text": [
      "df_dataset_train.shape: (240000, 31) df_dataset_valid.shape: (60000, 31)\n"
     ]
    }
   ],
   "source": [
    "# Split the data further into training and validation datasets\n",
    "df_dataset_train, df_dataset_valid = train_test_split(df_dataset_import, test_size=VAL_SET_RATIO, random_state=RNG_SEED)\n",
    "print(\"df_dataset_train.shape: {} df_dataset_valid.shape: {}\".format(df_dataset_train.shape, df_dataset_valid.shape))"
   ]
  },
  {
   "cell_type": "code",
   "execution_count": 33,
   "metadata": {
    "id": "QY2ulFc8wXjR"
   },
   "outputs": [
    {
     "name": "stderr",
     "output_type": "stream",
     "text": [
      "/home/pythonml/appdev/lib/python3.9/site-packages/tensorflow_decision_forests/keras/core.py:1612: FutureWarning: In a future version of pandas all arguments of DataFrame.drop except for the argument 'labels' will be keyword-only\n",
      "  features_dataframe = dataframe.drop(label, 1)\n"
     ]
    }
   ],
   "source": [
    "# Finalize the training and validation datasets for the modeling activities\n",
    "tfds_train = tfdf.keras.pd_dataframe_to_tf_dataset(df_dataset_train, label='target', task = tfdf.keras.Task.CLASSIFICATION)\n",
    "tfds_valid = tfdf.keras.pd_dataframe_to_tf_dataset(df_dataset_valid, label='target', task = tfdf.keras.Task.CLASSIFICATION)"
   ]
  },
  {
   "cell_type": "markdown",
   "metadata": {
    "id": "2_pts_ZN1J3g"
   },
   "source": [
    "### 3.b) Train and Evaluate the Random Forest Model"
   ]
  },
  {
   "cell_type": "code",
   "execution_count": 34,
   "metadata": {
    "colab": {
     "base_uri": "https://localhost:8080/"
    },
    "id": "Bbls2rTF3l8E",
    "outputId": "a17264ef-6667-4e13-8cdb-646d1f536ac1"
   },
   "outputs": [
    {
     "name": "stdout",
     "output_type": "stream",
     "text": [
      "3740/3750 [============================>.] - ETA: 0s"
     ]
    },
    {
     "name": "stderr",
     "output_type": "stream",
     "text": [
      "[INFO kernel.cc:736] Start Yggdrasil model training\n",
      "[INFO kernel.cc:737] Collect training examples\n",
      "[INFO kernel.cc:392] Number of batches: 3750\n",
      "[INFO kernel.cc:393] Number of examples: 240000\n",
      "[INFO data_spec_inference.cc:290] 36 item(s) have been pruned (i.e. they are considered out of dictionary) for the column cat10 (258 item(s) left) because min_value_count=5 and max_number_of_unique_values=2000\n",
      "[INFO kernel.cc:759] Dataset:\n",
      "Number of records: 240000\n",
      "Number of columns: 31\n",
      "\n",
      "Number of columns by type:\n",
      "\tCATEGORICAL: 20 (64.5161%)\n",
      "\tNUMERICAL: 11 (35.4839%)\n",
      "\n",
      "Columns:\n",
      "\n",
      "CATEGORICAL: 20 (64.5161%)\n",
      "\t0: \"cat0\" CATEGORICAL has-dict vocab-size:3 zero-ood-items most-frequent:\"A\" 178672 (74.4467%)\n",
      "\t1: \"cat1\" CATEGORICAL has-dict vocab-size:16 zero-ood-items most-frequent:\"I\" 72531 (30.2213%)\n",
      "\t2: \"cat10\" CATEGORICAL has-dict vocab-size:259 num-oods:36 (0.015%) most-frequent:\"DJ\" 25345 (10.5604%)\n",
      "\t3: \"cat11\" CATEGORICAL has-dict vocab-size:3 zero-ood-items most-frequent:\"A\" 207227 (86.3446%)\n",
      "\t4: \"cat12\" CATEGORICAL has-dict vocab-size:3 zero-ood-items most-frequent:\"A\" 205814 (85.7558%)\n",
      "\t5: \"cat13\" CATEGORICAL has-dict vocab-size:3 zero-ood-items most-frequent:\"A\" 234170 (97.5708%)\n",
      "\t6: \"cat14\" CATEGORICAL has-dict vocab-size:3 zero-ood-items most-frequent:\"A\" 128075 (53.3646%)\n",
      "\t7: \"cat15\" CATEGORICAL has-dict vocab-size:5 zero-ood-items most-frequent:\"B\" 162955 (67.8979%)\n",
      "\t8: \"cat16\" CATEGORICAL has-dict vocab-size:5 zero-ood-items most-frequent:\"D\" 165526 (68.9692%)\n",
      "\t9: \"cat17\" CATEGORICAL has-dict vocab-size:5 zero-ood-items most-frequent:\"D\" 197714 (82.3808%)\n",
      "\t10: \"cat18\" CATEGORICAL has-dict vocab-size:5 zero-ood-items most-frequent:\"B\" 204398 (85.1658%)\n",
      "\t11: \"cat2\" CATEGORICAL has-dict vocab-size:20 zero-ood-items most-frequent:\"A\" 134982 (56.2425%)\n",
      "\t12: \"cat3\" CATEGORICAL has-dict vocab-size:14 zero-ood-items most-frequent:\"A\" 149807 (62.4196%)\n",
      "\t13: \"cat4\" CATEGORICAL has-dict vocab-size:21 zero-ood-items most-frequent:\"E\" 103556 (43.1483%)\n",
      "\t14: \"cat5\" CATEGORICAL has-dict vocab-size:85 zero-ood-items most-frequent:\"BI\" 190956 (79.565%)\n",
      "\t15: \"cat6\" CATEGORICAL has-dict vocab-size:17 zero-ood-items most-frequent:\"A\" 150341 (62.6421%)\n",
      "\t16: \"cat7\" CATEGORICAL has-dict vocab-size:52 zero-ood-items most-frequent:\"AH\" 36654 (15.2725%)\n",
      "\t17: \"cat8\" CATEGORICAL has-dict vocab-size:62 zero-ood-items most-frequent:\"BM\" 33916 (14.1317%)\n",
      "\t18: \"cat9\" CATEGORICAL has-dict vocab-size:20 zero-ood-items most-frequent:\"A\" 161480 (67.2833%)\n",
      "\t30: \"__LABEL\" CATEGORICAL integerized vocab-size:3 no-ood-item\n",
      "\n",
      "NUMERICAL: 11 (35.4839%)\n",
      "\t19: \"cont0\" NUMERICAL mean:0.504818 min:-0.0495617 max:1.00456 sd:0.206903\n",
      "\t20: \"cont1\" NUMERICAL mean:0.494191 min:0.0844802 max:1.00996 sd:0.213219\n",
      "\t21: \"cont10\" NUMERICAL mean:0.508251 min:0.0977887 max:1.01133 sd:0.203486\n",
      "\t22: \"cont2\" NUMERICAL mean:0.51673 min:0.0944935 max:1.0166 sd:0.215053\n",
      "\t23: \"cont3\" NUMERICAL mean:0.47448 min:-0.0453155 max:0.952187 sd:0.216703\n",
      "\t24: \"cont4\" NUMERICAL mean:0.504935 min:0.168071 max:0.858578 sd:0.227538\n",
      "\t25: \"cont5\" NUMERICAL mean:0.502365 min:-0.0363792 max:0.853022 sd:0.241142\n",
      "\t26: \"cont6\" NUMERICAL mean:0.488227 min:0.00519916 max:0.960661 sd:0.211336\n",
      "\t27: \"cont7\" NUMERICAL mean:0.501884 min:0.0909015 max:1.03582 sd:0.203729\n",
      "\t28: \"cont8\" NUMERICAL mean:0.488198 min:0.0241389 max:1.05588 sd:0.17905\n",
      "\t29: \"cont9\" NUMERICAL mean:0.469975 min:0.214866 max:1.00565 sd:0.194761\n",
      "\n",
      "Terminology:\n",
      "\tnas: Number of non-available (i.e. missing) values.\n",
      "\tood: Out of dictionary.\n",
      "\tmanually-defined: Attribute which type is manually defined by the user i.e. the type was not automatically inferred.\n",
      "\ttokenized: The attribute value is obtained through tokenization.\n",
      "\thas-dict: The attribute is attached to a string dictionary e.g. a categorical attribute stored as a string.\n",
      "\tvocab-size: Number of unique values.\n",
      "\n",
      "[INFO kernel.cc:762] Configure learner\n",
      "[INFO kernel.cc:787] Training config:\n",
      "learner: \"RANDOM_FOREST\"\n",
      "features: \"cat0\"\n",
      "features: \"cat1\"\n",
      "features: \"cat10\"\n",
      "features: \"cat11\"\n",
      "features: \"cat12\"\n",
      "features: \"cat13\"\n",
      "features: \"cat14\"\n",
      "features: \"cat15\"\n",
      "features: \"cat16\"\n",
      "features: \"cat17\"\n",
      "features: \"cat18\"\n",
      "features: \"cat2\"\n",
      "features: \"cat3\"\n",
      "features: \"cat4\"\n",
      "features: \"cat5\"\n",
      "features: \"cat6\"\n",
      "features: \"cat7\"\n",
      "features: \"cat8\"\n",
      "features: \"cat9\"\n",
      "features: \"cont0\"\n",
      "features: \"cont1\"\n",
      "features: \"cont10\"\n",
      "features: \"cont2\"\n",
      "features: \"cont3\"\n",
      "features: \"cont4\"\n",
      "features: \"cont5\"\n",
      "features: \"cont6\"\n",
      "features: \"cont7\"\n",
      "features: \"cont8\"\n",
      "features: \"cont9\"\n",
      "label: \"__LABEL\"\n",
      "task: CLASSIFICATION\n",
      "[yggdrasil_decision_forests.model.random_forest.proto.random_forest_config] {\n",
      "  num_trees: 300\n",
      "  decision_tree {\n",
      "    max_depth: 16\n",
      "    min_examples: 5\n",
      "    in_split_min_examples_check: true\n",
      "    missing_value_policy: GLOBAL_IMPUTATION\n",
      "    allow_na_conditions: false\n",
      "    categorical_set_greedy_forward {\n",
      "      sampling: 0.1\n",
      "      max_num_items: -1\n",
      "      min_item_frequency: 1\n",
      "    }\n",
      "    growing_strategy_local {\n",
      "    }\n",
      "    categorical {\n",
      "      cart {\n",
      "      }\n",
      "    }\n",
      "    num_candidate_attributes_ratio: -1\n",
      "    axis_aligned_split {\n",
      "    }\n",
      "    internal {\n",
      "      sorting_strategy: PRESORTED\n",
      "    }\n",
      "  }\n",
      "  winner_take_all_inference: true\n",
      "  compute_oob_performances: true\n",
      "  compute_oob_variable_importances: false\n",
      "  adapt_bootstrap_size_ratio_for_maximum_training_duration: false\n",
      "}\n",
      "\n",
      "[INFO kernel.cc:790] Deployment config:\n",
      "num_threads: 6\n",
      "\n",
      "[INFO kernel.cc:817] Train model\n",
      "[INFO random_forest.cc:315] Training random forest on 240000 example(s) and 30 feature(s).\n",
      "[INFO random_forest.cc:628] Training of tree  1/300 (tree index:0) done accuracy:0.816584 logloss:6.61099\n",
      "[INFO random_forest.cc:628] Training of tree  11/300 (tree index:9) done accuracy:0.831542 logloss:3.19422\n",
      "[INFO random_forest.cc:628] Training of tree  21/300 (tree index:20) done accuracy:0.838745 logloss:2.19894\n",
      "[INFO random_forest.cc:628] Training of tree  31/300 (tree index:29) done accuracy:0.840679 logloss:1.79419\n",
      "[INFO random_forest.cc:628] Training of tree  41/300 (tree index:41) done accuracy:0.8415 logloss:1.55939\n",
      "[INFO random_forest.cc:628] Training of tree  51/300 (tree index:49) done accuracy:0.842292 logloss:1.40761\n",
      "[INFO random_forest.cc:628] Training of tree  61/300 (tree index:60) done accuracy:0.842842 logloss:1.28949\n",
      "[INFO random_forest.cc:628] Training of tree  71/300 (tree index:68) done accuracy:0.842975 logloss:1.20261\n",
      "[INFO random_forest.cc:628] Training of tree  81/300 (tree index:80) done accuracy:0.843358 logloss:1.13507\n",
      "[INFO random_forest.cc:628] Training of tree  91/300 (tree index:88) done accuracy:0.843629 logloss:1.07764\n",
      "[INFO random_forest.cc:628] Training of tree  101/300 (tree index:99) done accuracy:0.843783 logloss:1.02965\n",
      "[INFO random_forest.cc:628] Training of tree  111/300 (tree index:109) done accuracy:0.843908 logloss:0.987409\n",
      "[INFO random_forest.cc:628] Training of tree  121/300 (tree index:122) done accuracy:0.844083 logloss:0.952137\n",
      "[INFO random_forest.cc:628] Training of tree  131/300 (tree index:130) done accuracy:0.844208 logloss:0.920573\n",
      "[INFO random_forest.cc:628] Training of tree  141/300 (tree index:141) done accuracy:0.844354 logloss:0.891675\n",
      "[INFO random_forest.cc:628] Training of tree  151/300 (tree index:149) done accuracy:0.844342 logloss:0.866644\n",
      "[INFO random_forest.cc:628] Training of tree  161/300 (tree index:160) done accuracy:0.844508 logloss:0.841134\n",
      "[INFO random_forest.cc:628] Training of tree  171/300 (tree index:168) done accuracy:0.844354 logloss:0.821922\n",
      "[INFO random_forest.cc:628] Training of tree  181/300 (tree index:180) done accuracy:0.844442 logloss:0.802552\n",
      "[INFO random_forest.cc:628] Training of tree  191/300 (tree index:191) done accuracy:0.844692 logloss:0.787243\n",
      "[INFO random_forest.cc:628] Training of tree  201/300 (tree index:200) done accuracy:0.844717 logloss:0.773478\n",
      "[INFO random_forest.cc:628] Training of tree  211/300 (tree index:211) done accuracy:0.844671 logloss:0.759856\n",
      "[INFO random_forest.cc:628] Training of tree  221/300 (tree index:219) done accuracy:0.844729 logloss:0.746024\n",
      "[INFO random_forest.cc:628] Training of tree  231/300 (tree index:231) done accuracy:0.844508 logloss:0.732865\n",
      "[INFO random_forest.cc:628] Training of tree  241/300 (tree index:240) done accuracy:0.844554 logloss:0.721846\n",
      "[INFO random_forest.cc:628] Training of tree  251/300 (tree index:249) done accuracy:0.844679 logloss:0.709865\n",
      "[INFO random_forest.cc:628] Training of tree  261/300 (tree index:260) done accuracy:0.844608 logloss:0.699623\n",
      "[INFO random_forest.cc:628] Training of tree  271/300 (tree index:271) done accuracy:0.844763 logloss:0.689595\n",
      "[INFO random_forest.cc:628] Training of tree  281/300 (tree index:280) done accuracy:0.84485 logloss:0.681144\n",
      "[INFO random_forest.cc:628] Training of tree  291/300 (tree index:292) done accuracy:0.844908 logloss:0.672949\n",
      "[INFO random_forest.cc:628] Training of tree  300/300 (tree index:299) done accuracy:0.844958 logloss:0.665911\n",
      "[INFO random_forest.cc:696] Final OOB metrics: accuracy:0.844958 logloss:0.665911\n",
      "[INFO kernel.cc:828] Export model in log directory: /tmp/tmpzm69a6nj\n",
      "[INFO kernel.cc:836] Save model in resources\n",
      "[INFO kernel.cc:988] Loading model from path\n",
      "[INFO decision_forest.cc:590] Model loaded with 300 root(s), 2569390 node(s), and 30 input feature(s).\n",
      "[INFO abstract_model.cc:993] Engine \"RandomForestGeneric\" built\n",
      "[INFO kernel.cc:848] Use fast generic engine\n"
     ]
    },
    {
     "name": "stdout",
     "output_type": "stream",
     "text": [
      "3750/3750 [==============================] - 137s 35ms/step\n",
      "Model training time: 0:02:19.439674 \n",
      "\n"
     ]
    }
   ],
   "source": [
    "# Define the baseline model for benchmarking\n",
    "start_time_module = datetime.now()\n",
    "reset_random()\n",
    "RF_model = tfdf.keras.RandomForestModel(task = tfdf.keras.Task.CLASSIFICATION)\n",
    "RF_model.compile(metrics=DEFAULT_METRICS)\n",
    "\n",
    "# \"sys_pipes\" is optional. It enables the display of the training logs.\n",
    "# with sys_pipes():\n",
    "#     RF_model.fit(x=tfds_train)\n",
    "\n",
    "# Train the model.\n",
    "RF_model.fit(x=tfds_train)\n",
    "print ('Model training time:', (datetime.now() - start_time_module), '\\n')"
   ]
  },
  {
   "cell_type": "code",
   "execution_count": 35,
   "metadata": {
    "colab": {
     "base_uri": "https://localhost:8080/"
    },
    "id": "euAVix08EaDn",
    "outputId": "318b5d2a-3c90-4717-92d3-734c55f8acdc"
   },
   "outputs": [
    {
     "name": "stdout",
     "output_type": "stream",
     "text": [
      "938/938 [==============================] - 12s 12ms/step - loss: 0.0000e+00 - accuracy: 0.8464 - auc: 0.8814\n",
      "\n",
      "loss: 0.0000\n",
      "accuracy: 0.8464\n",
      "auc: 0.8814\n"
     ]
    }
   ],
   "source": [
    "RF_eval = RF_model.evaluate(tfds_valid, return_dict=True)\n",
    "print()\n",
    "\n",
    "for name, value in RF_eval.items():\n",
    "    print(f\"{name}: {value:.4f}\")"
   ]
  },
  {
   "cell_type": "code",
   "execution_count": 36,
   "metadata": {
    "colab": {
     "base_uri": "https://localhost:8080/",
     "height": 279
    },
    "id": "QWxbO2EXcbEJ",
    "outputId": "dc419e7e-9d65-4d5b-cb67-7ddc263a49f8"
   },
   "outputs": [
    {
     "data": {
      "image/png": "[encoded data removed]",
      "text/plain": [
       "<Figure size 864x432 with 2 Axes>"
      ]
     },
     "metadata": {
      "needs_background": "light"
     },
     "output_type": "display_data"
    }
   ],
   "source": [
    "logs = RF_model.make_inspector().training_logs()\n",
    "\n",
    "plt.figure(figsize=(12, 6))\n",
    "plt.subplot(1, 2, 1)\n",
    "plt.plot([log.num_trees for log in logs], [log.evaluation.accuracy for log in logs])\n",
    "plt.xlabel(\"Number of trees\")\n",
    "plt.ylabel(\"Accuracy (out-of-bag)\")\n",
    "plt.subplot(1, 2, 2)\n",
    "plt.plot([log.num_trees for log in logs], [log.evaluation.loss for log in logs])\n",
    "plt.xlabel(\"Number of trees\")\n",
    "plt.ylabel(\"Loss (out-of-bag)\")\n",
    "plt.show()"
   ]
  },
  {
   "cell_type": "code",
   "execution_count": 37,
   "metadata": {
    "colab": {
     "base_uri": "https://localhost:8080/",
     "height": 404
    },
    "id": "mW_6wwd_kdSH",
    "outputId": "8275ef9a-c23b-4cb5-ba79-e705c78cd593"
   },
   "outputs": [],
   "source": [
    "# Plot the model using Google Colab\n",
    "# tfdf.model_plotter.plot_model_in_colab(RF_model)"
   ]
  },
  {
   "cell_type": "markdown",
   "metadata": {
    "id": "wa3Dfugd1U4P"
   },
   "source": [
    "### 3.c) Train and Evaluate the Decision Trees Model"
   ]
  },
  {
   "cell_type": "code",
   "execution_count": 38,
   "metadata": {
    "colab": {
     "base_uri": "https://localhost:8080/"
    },
    "id": "bDPPbOgPFCBF",
    "outputId": "83cd116d-d49f-4ab2-9147-2f2c45a0548f"
   },
   "outputs": [
    {
     "name": "stdout",
     "output_type": "stream",
     "text": [
      "3743/3750 [============================>.] - ETA: 0s"
     ]
    },
    {
     "name": "stderr",
     "output_type": "stream",
     "text": [
      "[INFO kernel.cc:736] Start Yggdrasil model training\n",
      "[INFO kernel.cc:737] Collect training examples\n",
      "[INFO kernel.cc:392] Number of batches: 3750\n",
      "[INFO kernel.cc:393] Number of examples: 240000\n",
      "[INFO data_spec_inference.cc:290] 36 item(s) have been pruned (i.e. they are considered out of dictionary) for the column cat10 (258 item(s) left) because min_value_count=5 and max_number_of_unique_values=2000\n",
      "[INFO kernel.cc:759] Dataset:\n",
      "Number of records: 240000\n",
      "Number of columns: 31\n",
      "\n",
      "Number of columns by type:\n",
      "\tCATEGORICAL: 20 (64.5161%)\n",
      "\tNUMERICAL: 11 (35.4839%)\n",
      "\n",
      "Columns:\n",
      "\n",
      "CATEGORICAL: 20 (64.5161%)\n",
      "\t0: \"cat0\" CATEGORICAL has-dict vocab-size:3 zero-ood-items most-frequent:\"A\" 178672 (74.4467%)\n",
      "\t1: \"cat1\" CATEGORICAL has-dict vocab-size:16 zero-ood-items most-frequent:\"I\" 72531 (30.2213%)\n",
      "\t2: \"cat10\" CATEGORICAL has-dict vocab-size:259 num-oods:36 (0.015%) most-frequent:\"DJ\" 25345 (10.5604%)\n",
      "\t3: \"cat11\" CATEGORICAL has-dict vocab-size:3 zero-ood-items most-frequent:\"A\" 207227 (86.3446%)\n",
      "\t4: \"cat12\" CATEGORICAL has-dict vocab-size:3 zero-ood-items most-frequent:\"A\" 205814 (85.7558%)\n",
      "\t5: \"cat13\" CATEGORICAL has-dict vocab-size:3 zero-ood-items most-frequent:\"A\" 234170 (97.5708%)\n",
      "\t6: \"cat14\" CATEGORICAL has-dict vocab-size:3 zero-ood-items most-frequent:\"A\" 128075 (53.3646%)\n",
      "\t7: \"cat15\" CATEGORICAL has-dict vocab-size:5 zero-ood-items most-frequent:\"B\" 162955 (67.8979%)\n",
      "\t8: \"cat16\" CATEGORICAL has-dict vocab-size:5 zero-ood-items most-frequent:\"D\" 165526 (68.9692%)\n",
      "\t9: \"cat17\" CATEGORICAL has-dict vocab-size:5 zero-ood-items most-frequent:\"D\" 197714 (82.3808%)\n",
      "\t10: \"cat18\" CATEGORICAL has-dict vocab-size:5 zero-ood-items most-frequent:\"B\" 204398 (85.1658%)\n",
      "\t11: \"cat2\" CATEGORICAL has-dict vocab-size:20 zero-ood-items most-frequent:\"A\" 134982 (56.2425%)\n",
      "\t12: \"cat3\" CATEGORICAL has-dict vocab-size:14 zero-ood-items most-frequent:\"A\" 149807 (62.4196%)\n",
      "\t13: \"cat4\" CATEGORICAL has-dict vocab-size:21 zero-ood-items most-frequent:\"E\" 103556 (43.1483%)\n",
      "\t14: \"cat5\" CATEGORICAL has-dict vocab-size:85 zero-ood-items most-frequent:\"BI\" 190956 (79.565%)\n",
      "\t15: \"cat6\" CATEGORICAL has-dict vocab-size:17 zero-ood-items most-frequent:\"A\" 150341 (62.6421%)\n",
      "\t16: \"cat7\" CATEGORICAL has-dict vocab-size:52 zero-ood-items most-frequent:\"AH\" 36654 (15.2725%)\n",
      "\t17: \"cat8\" CATEGORICAL has-dict vocab-size:62 zero-ood-items most-frequent:\"BM\" 33916 (14.1317%)\n",
      "\t18: \"cat9\" CATEGORICAL has-dict vocab-size:20 zero-ood-items most-frequent:\"A\" 161480 (67.2833%)\n",
      "\t30: \"__LABEL\" CATEGORICAL integerized vocab-size:3 no-ood-item\n",
      "\n",
      "NUMERICAL: 11 (35.4839%)\n",
      "\t19: \"cont0\" NUMERICAL mean:0.504818 min:-0.0495617 max:1.00456 sd:0.206903\n",
      "\t20: \"cont1\" NUMERICAL mean:0.494191 min:0.0844802 max:1.00996 sd:0.213219\n",
      "\t21: \"cont10\" NUMERICAL mean:0.508251 min:0.0977887 max:1.01133 sd:0.203486\n",
      "\t22: \"cont2\" NUMERICAL mean:0.51673 min:0.0944935 max:1.0166 sd:0.215053\n",
      "\t23: \"cont3\" NUMERICAL mean:0.47448 min:-0.0453155 max:0.952187 sd:0.216703\n",
      "\t24: \"cont4\" NUMERICAL mean:0.504935 min:0.168071 max:0.858578 sd:0.227538\n",
      "\t25: \"cont5\" NUMERICAL mean:0.502365 min:-0.0363792 max:0.853022 sd:0.241142\n",
      "\t26: \"cont6\" NUMERICAL mean:0.488227 min:0.00519916 max:0.960661 sd:0.211336\n",
      "\t27: \"cont7\" NUMERICAL mean:0.501884 min:0.0909015 max:1.03582 sd:0.203729\n",
      "\t28: \"cont8\" NUMERICAL mean:0.488198 min:0.0241389 max:1.05588 sd:0.17905\n",
      "\t29: \"cont9\" NUMERICAL mean:0.469975 min:0.214866 max:1.00565 sd:0.194761\n",
      "\n",
      "Terminology:\n",
      "\tnas: Number of non-available (i.e. missing) values.\n",
      "\tood: Out of dictionary.\n",
      "\tmanually-defined: Attribute which type is manually defined by the user i.e. the type was not automatically inferred.\n",
      "\ttokenized: The attribute value is obtained through tokenization.\n",
      "\thas-dict: The attribute is attached to a string dictionary e.g. a categorical attribute stored as a string.\n",
      "\tvocab-size: Number of unique values.\n",
      "\n",
      "[INFO kernel.cc:762] Configure learner\n",
      "[INFO kernel.cc:787] Training config:\n",
      "learner: \"CART\"\n",
      "features: \"cat0\"\n",
      "features: \"cat1\"\n",
      "features: \"cat10\"\n",
      "features: \"cat11\"\n",
      "features: \"cat12\"\n",
      "features: \"cat13\"\n",
      "features: \"cat14\"\n",
      "features: \"cat15\"\n",
      "features: \"cat16\"\n",
      "features: \"cat17\"\n",
      "features: \"cat18\"\n",
      "features: \"cat2\"\n",
      "features: \"cat3\"\n",
      "features: \"cat4\"\n",
      "features: \"cat5\"\n",
      "features: \"cat6\"\n",
      "features: \"cat7\"\n",
      "features: \"cat8\"\n",
      "features: \"cat9\"\n",
      "features: \"cont0\"\n",
      "features: \"cont1\"\n",
      "features: \"cont10\"\n",
      "features: \"cont2\"\n",
      "features: \"cont3\"\n",
      "features: \"cont4\"\n",
      "features: \"cont5\"\n",
      "features: \"cont6\"\n",
      "features: \"cont7\"\n",
      "features: \"cont8\"\n",
      "features: \"cont9\"\n",
      "label: \"__LABEL\"\n",
      "task: CLASSIFICATION\n",
      "[yggdrasil_decision_forests.model.cart.proto.cart_config] {\n",
      "  decision_tree {\n",
      "    max_depth: 16\n",
      "    min_examples: 5\n",
      "    in_split_min_examples_check: true\n",
      "    missing_value_policy: GLOBAL_IMPUTATION\n",
      "    allow_na_conditions: false\n",
      "    categorical_set_greedy_forward {\n",
      "      sampling: 0.1\n",
      "      max_num_items: -1\n",
      "      min_item_frequency: 1\n",
      "    }\n",
      "    growing_strategy_local {\n",
      "    }\n",
      "    categorical {\n",
      "      cart {\n",
      "      }\n",
      "    }\n",
      "    num_candidate_attributes_ratio: -1\n",
      "    axis_aligned_split {\n",
      "    }\n",
      "    internal {\n",
      "      sorting_strategy: PRESORTED\n",
      "    }\n",
      "  }\n",
      "  validation_ratio: 0.1\n",
      "}\n",
      "\n",
      "[INFO kernel.cc:790] Deployment config:\n",
      "num_threads: 6\n",
      "\n",
      "[INFO kernel.cc:817] Train model\n",
      "[INFO cart.cc:174] Training CART on 240000 example(s) and 30 feature(s).\n"
     ]
    },
    {
     "name": "stdout",
     "output_type": "stream",
     "text": [
      "3750/3750 [==============================] - 18s 5ms/step\n"
     ]
    },
    {
     "name": "stderr",
     "output_type": "stream",
     "text": [
      "[INFO cart.cc:375] 9191 nodes before pruning. 1261 nodes after pruning.\n",
      "[INFO kernel.cc:828] Export model in log directory: /tmp/tmpodp3qlzi\n",
      "[INFO kernel.cc:836] Save model in resources\n",
      "[INFO kernel.cc:988] Loading model from path\n",
      "[INFO decision_forest.cc:590] Model loaded with 1 root(s), 1261 node(s), and 29 input feature(s).\n",
      "[INFO abstract_model.cc:993] Engine \"RandomForestGeneric\" built\n",
      "[INFO kernel.cc:848] Use fast generic engine\n"
     ]
    },
    {
     "name": "stdout",
     "output_type": "stream",
     "text": [
      "Model training time: 0:00:18.104111 \n",
      "\n"
     ]
    }
   ],
   "source": [
    "# Define the baseline model for benchmarking\n",
    "start_time_module = datetime.now()\n",
    "reset_random()\n",
    "CART_model = tfdf.keras.CartModel(task = tfdf.keras.Task.CLASSIFICATION)\n",
    "CART_model.compile(metrics=DEFAULT_METRICS)\n",
    "\n",
    "# \"sys_pipes\" is optional. It enables the display of the training logs.\n",
    "# with sys_pipes():\n",
    "#     CART_model.fit(x=tfds_train)\n",
    "\n",
    "# Train the model.\n",
    "CART_model.fit(x=tfds_train)\n",
    "print ('Model training time:', (datetime.now() - start_time_module), '\\n')"
   ]
  },
  {
   "cell_type": "code",
   "execution_count": 39,
   "metadata": {
    "colab": {
     "base_uri": "https://localhost:8080/"
    },
    "id": "SWVKI95XFPfG",
    "outputId": "6ca847bf-cbbf-4212-d36e-8bda24f3ebe4"
   },
   "outputs": [
    {
     "name": "stdout",
     "output_type": "stream",
     "text": [
      "938/938 [==============================] - 4s 4ms/step - loss: 0.0000e+00 - accuracy: 0.8350 - auc: 0.8616\n",
      "\n",
      "loss: 0.0000\n",
      "accuracy: 0.8350\n",
      "auc: 0.8616\n"
     ]
    }
   ],
   "source": [
    "CART_eval = CART_model.evaluate(tfds_valid, return_dict=True)\n",
    "print()\n",
    "\n",
    "for name, value in CART_eval.items():\n",
    "    print(f\"{name}: {value:.4f}\")"
   ]
  },
  {
   "cell_type": "code",
   "execution_count": 40,
   "metadata": {
    "colab": {
     "base_uri": "https://localhost:8080/",
     "height": 74
    },
    "id": "k0ZLkM_HgrKH",
    "outputId": "fd98cf5a-7150-45c6-954e-5db7adac84b2"
   },
   "outputs": [],
   "source": [
    "# Plot the model using Google Colab\n",
    "# tfdf.model_plotter.plot_model_in_colab(CART_model)"
   ]
  },
  {
   "cell_type": "markdown",
   "metadata": {
    "id": "zVCQJVv21m86"
   },
   "source": [
    "### 3.d) Train and Evaluate the Gradient Boosted Trees Model"
   ]
  },
  {
   "cell_type": "code",
   "execution_count": 41,
   "metadata": {
    "colab": {
     "base_uri": "https://localhost:8080/"
    },
    "id": "ogW3JeatFDRS",
    "outputId": "306052c2-75dc-4e38-e7e4-5f578f5df113"
   },
   "outputs": [
    {
     "name": "stdout",
     "output_type": "stream",
     "text": [
      "3747/3750 [============================>.] - ETA: 0s"
     ]
    },
    {
     "name": "stderr",
     "output_type": "stream",
     "text": [
      "[INFO kernel.cc:736] Start Yggdrasil model training\n",
      "[INFO kernel.cc:737] Collect training examples\n",
      "[INFO kernel.cc:392] Number of batches: 3750\n",
      "[INFO kernel.cc:393] Number of examples: 240000\n",
      "[INFO data_spec_inference.cc:290] 36 item(s) have been pruned (i.e. they are considered out of dictionary) for the column cat10 (258 item(s) left) because min_value_count=5 and max_number_of_unique_values=2000\n",
      "[INFO kernel.cc:759] Dataset:\n",
      "Number of records: 240000\n",
      "Number of columns: 31\n",
      "\n",
      "Number of columns by type:\n",
      "\tCATEGORICAL: 20 (64.5161%)\n",
      "\tNUMERICAL: 11 (35.4839%)\n",
      "\n",
      "Columns:\n",
      "\n",
      "CATEGORICAL: 20 (64.5161%)\n",
      "\t0: \"cat0\" CATEGORICAL has-dict vocab-size:3 zero-ood-items most-frequent:\"A\" 178672 (74.4467%)\n",
      "\t1: \"cat1\" CATEGORICAL has-dict vocab-size:16 zero-ood-items most-frequent:\"I\" 72531 (30.2213%)\n",
      "\t2: \"cat10\" CATEGORICAL has-dict vocab-size:259 num-oods:36 (0.015%) most-frequent:\"DJ\" 25345 (10.5604%)\n",
      "\t3: \"cat11\" CATEGORICAL has-dict vocab-size:3 zero-ood-items most-frequent:\"A\" 207227 (86.3446%)\n",
      "\t4: \"cat12\" CATEGORICAL has-dict vocab-size:3 zero-ood-items most-frequent:\"A\" 205814 (85.7558%)\n",
      "\t5: \"cat13\" CATEGORICAL has-dict vocab-size:3 zero-ood-items most-frequent:\"A\" 234170 (97.5708%)\n",
      "\t6: \"cat14\" CATEGORICAL has-dict vocab-size:3 zero-ood-items most-frequent:\"A\" 128075 (53.3646%)\n",
      "\t7: \"cat15\" CATEGORICAL has-dict vocab-size:5 zero-ood-items most-frequent:\"B\" 162955 (67.8979%)\n",
      "\t8: \"cat16\" CATEGORICAL has-dict vocab-size:5 zero-ood-items most-frequent:\"D\" 165526 (68.9692%)\n",
      "\t9: \"cat17\" CATEGORICAL has-dict vocab-size:5 zero-ood-items most-frequent:\"D\" 197714 (82.3808%)\n",
      "\t10: \"cat18\" CATEGORICAL has-dict vocab-size:5 zero-ood-items most-frequent:\"B\" 204398 (85.1658%)\n",
      "\t11: \"cat2\" CATEGORICAL has-dict vocab-size:20 zero-ood-items most-frequent:\"A\" 134982 (56.2425%)\n",
      "\t12: \"cat3\" CATEGORICAL has-dict vocab-size:14 zero-ood-items most-frequent:\"A\" 149807 (62.4196%)\n",
      "\t13: \"cat4\" CATEGORICAL has-dict vocab-size:21 zero-ood-items most-frequent:\"E\" 103556 (43.1483%)\n",
      "\t14: \"cat5\" CATEGORICAL has-dict vocab-size:85 zero-ood-items most-frequent:\"BI\" 190956 (79.565%)\n",
      "\t15: \"cat6\" CATEGORICAL has-dict vocab-size:17 zero-ood-items most-frequent:\"A\" 150341 (62.6421%)\n",
      "\t16: \"cat7\" CATEGORICAL has-dict vocab-size:52 zero-ood-items most-frequent:\"AH\" 36654 (15.2725%)\n",
      "\t17: \"cat8\" CATEGORICAL has-dict vocab-size:62 zero-ood-items most-frequent:\"BM\" 33916 (14.1317%)\n",
      "\t18: \"cat9\" CATEGORICAL has-dict vocab-size:20 zero-ood-items most-frequent:\"A\" 161480 (67.2833%)\n",
      "\t30: \"__LABEL\" CATEGORICAL integerized vocab-size:3 no-ood-item\n",
      "\n",
      "NUMERICAL: 11 (35.4839%)\n",
      "\t19: \"cont0\" NUMERICAL mean:0.504818 min:-0.0495617 max:1.00456 sd:0.206903\n",
      "\t20: \"cont1\" NUMERICAL mean:0.494191 min:0.0844802 max:1.00996 sd:0.213219\n",
      "\t21: \"cont10\" NUMERICAL mean:0.508251 min:0.0977887 max:1.01133 sd:0.203486\n",
      "\t22: \"cont2\" NUMERICAL mean:0.51673 min:0.0944935 max:1.0166 sd:0.215053\n",
      "\t23: \"cont3\" NUMERICAL mean:0.47448 min:-0.0453155 max:0.952187 sd:0.216703\n",
      "\t24: \"cont4\" NUMERICAL mean:0.504935 min:0.168071 max:0.858578 sd:0.227538\n",
      "\t25: \"cont5\" NUMERICAL mean:0.502365 min:-0.0363792 max:0.853022 sd:0.241142\n",
      "\t26: \"cont6\" NUMERICAL mean:0.488227 min:0.00519916 max:0.960661 sd:0.211336\n",
      "\t27: \"cont7\" NUMERICAL mean:0.501884 min:0.0909015 max:1.03582 sd:0.203729\n",
      "\t28: \"cont8\" NUMERICAL mean:0.488198 min:0.0241389 max:1.05588 sd:0.17905\n",
      "\t29: \"cont9\" NUMERICAL mean:0.469975 min:0.214866 max:1.00565 sd:0.194761\n",
      "\n",
      "Terminology:\n",
      "\tnas: Number of non-available (i.e. missing) values.\n",
      "\tood: Out of dictionary.\n",
      "\tmanually-defined: Attribute which type is manually defined by the user i.e. the type was not automatically inferred.\n",
      "\ttokenized: The attribute value is obtained through tokenization.\n",
      "\thas-dict: The attribute is attached to a string dictionary e.g. a categorical attribute stored as a string.\n",
      "\tvocab-size: Number of unique values.\n",
      "\n",
      "[INFO kernel.cc:762] Configure learner\n",
      "[WARNING gradient_boosted_trees.cc:1643] Subsample hyperparameter given but sampling method does not match.\n",
      "[WARNING gradient_boosted_trees.cc:1656] GOSS alpha hyperparameter given but GOSS is disabled.\n",
      "[WARNING gradient_boosted_trees.cc:1665] GOSS beta hyperparameter given but GOSS is disabled.\n",
      "[WARNING gradient_boosted_trees.cc:1677] SelGB ratio hyperparameter given but SelGB is disabled.\n",
      "[INFO kernel.cc:787] Training config:\n",
      "learner: \"GRADIENT_BOOSTED_TREES\"\n",
      "features: \"cat0\"\n",
      "features: \"cat1\"\n",
      "features: \"cat10\"\n",
      "features: \"cat11\"\n",
      "features: \"cat12\"\n",
      "features: \"cat13\"\n",
      "features: \"cat14\"\n",
      "features: \"cat15\"\n",
      "features: \"cat16\"\n",
      "features: \"cat17\"\n",
      "features: \"cat18\"\n",
      "features: \"cat2\"\n",
      "features: \"cat3\"\n",
      "features: \"cat4\"\n",
      "features: \"cat5\"\n",
      "features: \"cat6\"\n",
      "features: \"cat7\"\n",
      "features: \"cat8\"\n",
      "features: \"cat9\"\n",
      "features: \"cont0\"\n",
      "features: \"cont1\"\n",
      "features: \"cont10\"\n",
      "features: \"cont2\"\n",
      "features: \"cont3\"\n",
      "features: \"cont4\"\n",
      "features: \"cont5\"\n",
      "features: \"cont6\"\n",
      "features: \"cont7\"\n",
      "features: \"cont8\"\n",
      "features: \"cont9\"\n",
      "label: \"__LABEL\"\n",
      "task: CLASSIFICATION\n",
      "[yggdrasil_decision_forests.model.gradient_boosted_trees.proto.gradient_boosted_trees_config] {\n",
      "  num_trees: 300\n",
      "  decision_tree {\n",
      "    max_depth: 6\n",
      "    min_examples: 5\n",
      "    in_split_min_examples_check: true\n",
      "    missing_value_policy: GLOBAL_IMPUTATION\n",
      "    allow_na_conditions: false\n",
      "    categorical_set_greedy_forward {\n",
      "      sampling: 0.1\n",
      "      max_num_items: -1\n",
      "      min_item_frequency: 1\n",
      "    }\n",
      "    growing_strategy_local {\n",
      "    }\n",
      "    categorical {\n",
      "      cart {\n",
      "      }\n",
      "    }\n",
      "    num_candidate_attributes_ratio: -1\n",
      "    axis_aligned_split {\n",
      "    }\n",
      "    internal {\n",
      "      sorting_strategy: PRESORTED\n",
      "    }\n",
      "  }\n",
      "  shrinkage: 0.1\n",
      "  validation_set_ratio: 0.1\n",
      "  early_stopping: VALIDATION_LOSS_INCREASE\n",
      "  early_stopping_num_trees_look_ahead: 30\n",
      "  l2_regularization: 0\n",
      "  lambda_loss: 1\n",
      "  mart {\n",
      "  }\n",
      "  adapt_subsample_for_maximum_training_duration: false\n",
      "  l1_regularization: 0\n",
      "  use_hessian_gain: false\n",
      "  l2_regularization_categorical: 1\n",
      "  apply_link_function: true\n",
      "  compute_permutation_variable_importance: false\n",
      "}\n",
      "\n",
      "[INFO kernel.cc:790] Deployment config:\n",
      "num_threads: 6\n",
      "\n",
      "[INFO kernel.cc:817] Train model\n",
      "[INFO gradient_boosted_trees.cc:404] Default loss set to BINOMIAL_LOG_LIKELIHOOD\n",
      "[INFO gradient_boosted_trees.cc:1001] Training gradient boosted tree on 240000 example(s) and 30 feature(s).\n",
      "[INFO gradient_boosted_trees.cc:1044] 215886 examples used for training and 24114 examples used for validation\n",
      "[INFO gradient_boosted_trees.cc:1426] \tnum-trees:1 train-loss:1.088552 train-accuracy:0.734564 valid-loss:1.082607 valid-accuracy:0.737497\n",
      "[INFO gradient_boosted_trees.cc:1428] \tnum-trees:2 train-loss:1.034786 train-accuracy:0.734564 valid-loss:1.029414 valid-accuracy:0.737497\n",
      "[INFO gradient_boosted_trees.cc:1428] \tnum-trees:92 train-loss:0.667542 train-accuracy:0.857179 valid-loss:0.703140 valid-accuracy:0.850087\n",
      "[INFO gradient_boosted_trees.cc:1428] \tnum-trees:184 train-loss:0.634360 train-accuracy:0.865628 valid-loss:0.698388 valid-accuracy:0.849755\n",
      "[INFO gradient_boosted_trees.cc:1428] \tnum-trees:277 train-loss:0.611112 train-accuracy:0.872081 valid-loss:0.697424 valid-accuracy:0.850875\n"
     ]
    },
    {
     "name": "stdout",
     "output_type": "stream",
     "text": [
      "3750/3750 [==============================] - 114s 30ms/step\n"
     ]
    },
    {
     "name": "stderr",
     "output_type": "stream",
     "text": [
      "[INFO gradient_boosted_trees.cc:2740] Early stop of the training because the validation loss does not decrease anymore. Best valid-loss: 0.697277\n",
      "[INFO gradient_boosted_trees.cc:229] Truncates the model to 270 tree(s) i.e. 270  iteration(s).\n",
      "[INFO gradient_boosted_trees.cc:263] Final model num-trees:270 valid-loss:0.697277 valid-accuracy:0.851248\n",
      "[INFO kernel.cc:828] Export model in log directory: /tmp/tmphhn43d_n\n",
      "[INFO kernel.cc:836] Save model in resources\n",
      "[INFO kernel.cc:988] Loading model from path\n",
      "[INFO abstract_model.cc:993] Engine \"GradientBoostedTreesQuickScorerExtended\" built\n",
      "[INFO kernel.cc:848] Use fast generic engine\n"
     ]
    },
    {
     "name": "stdout",
     "output_type": "stream",
     "text": [
      "Model training time: 0:02:22.676697 \n",
      "\n"
     ]
    }
   ],
   "source": [
    "# Define the baseline model for benchmarking\n",
    "start_time_module = datetime.now()\n",
    "reset_random()\n",
    "GBT_model = tfdf.keras.GradientBoostedTreesModel(task = tfdf.keras.Task.CLASSIFICATION)\n",
    "GBT_model.compile(metrics=DEFAULT_METRICS)\n",
    "\n",
    "# \"sys_pipes\" is optional. It enables the display of the training logs.\n",
    "# with sys_pipes():\n",
    "#     GBT_model.fit(x=tfds_train)\n",
    "\n",
    "# Train the model.\n",
    "GBT_model.fit(x=tfds_train)\n",
    "print ('Model training time:', (datetime.now() - start_time_module), '\\n')"
   ]
  },
  {
   "cell_type": "code",
   "execution_count": 42,
   "metadata": {
    "colab": {
     "base_uri": "https://localhost:8080/"
    },
    "id": "zTUNrgNrFYWB",
    "outputId": "19baf976-7519-4b18-fd16-6d846aad21f4"
   },
   "outputs": [
    {
     "name": "stdout",
     "output_type": "stream",
     "text": [
      "938/938 [==============================] - 5s 4ms/step - loss: 0.0000e+00 - accuracy: 0.8492 - auc: 0.8700\n",
      "\n",
      "loss: 0.0000\n",
      "accuracy: 0.8492\n",
      "auc: 0.8700\n"
     ]
    }
   ],
   "source": [
    "GBT_eval = GBT_model.evaluate(tfds_valid, return_dict=True)\n",
    "print()\n",
    "\n",
    "for name, value in GBT_eval.items():\n",
    "    print(f\"{name}: {value:.4f}\")"
   ]
  },
  {
   "cell_type": "code",
   "execution_count": 43,
   "metadata": {
    "colab": {
     "base_uri": "https://localhost:8080/",
     "height": 279
    },
    "id": "e0K_RY-tkUDo",
    "outputId": "53222f5e-ab04-46ca-eeff-0f3b37e44057"
   },
   "outputs": [
    {
     "data": {
      "image/png": "[encoded data removed]",
      "text/plain": [
       "<Figure size 1296x432 with 2 Axes>"
      ]
     },
     "metadata": {
      "needs_background": "light"
     },
     "output_type": "display_data"
    }
   ],
   "source": [
    "logs = GBT_model.make_inspector().training_logs()\n",
    "\n",
    "plt.figure(figsize=(18, 6))\n",
    "plt.subplot(1, 2, 1)\n",
    "plt.plot([log.num_trees for log in logs], [log.evaluation.accuracy for log in logs])\n",
    "plt.xlabel(\"Number of trees\")\n",
    "plt.ylabel(\"Accuracy (out-of-bag)\")\n",
    "plt.subplot(1, 2, 2)\n",
    "plt.plot([log.num_trees for log in logs], [log.evaluation.loss for log in logs])\n",
    "plt.xlabel(\"Number of trees\")\n",
    "plt.ylabel(\"Loss (out-of-bag)\")\n",
    "plt.show()"
   ]
  },
  {
   "cell_type": "code",
   "execution_count": 44,
   "metadata": {
    "colab": {
     "base_uri": "https://localhost:8080/",
     "height": 404
    },
    "id": "tEWLGqQvkkon",
    "outputId": "1108ebd0-a281-40ea-e5dd-6b1a4f1a26b2"
   },
   "outputs": [],
   "source": [
    "# Plot the model using Google Colab\n",
    "# tfdf.model_plotter.plot_model_in_colab(GBT_model)"
   ]
  },
  {
   "cell_type": "code",
   "execution_count": 45,
   "metadata": {
    "collapsed": false,
    "id": "g2ZPK8-5wXjU",
    "jupyter": {
     "outputs_hidden": false
    },
    "pycharm": {
     "name": "#%%\n"
    }
   },
   "outputs": [],
   "source": [
    "if NOTIFY_STATUS: status_notify(\"Task 4 - Train and Evaluate Models completed! \"+datetime.now().strftime('%a %B %d, %Y %I:%M:%S %p'))"
   ]
  },
  {
   "cell_type": "markdown",
   "metadata": {
    "id": "ISyQ5uNrwXjU"
   },
   "source": [
    "## Task 4 - Fine-tune and Improve Models"
   ]
  },
  {
   "cell_type": "code",
   "execution_count": 46,
   "metadata": {
    "id": "l3AulRWbzzOz"
   },
   "outputs": [],
   "source": [
    "if NOTIFY_STATUS: status_notify(\"Task 4 - Fine-tune and Improve Models has begun! \"+datetime.now().strftime('%a %B %d, %Y %I:%M:%S %p'))"
   ]
  },
  {
   "cell_type": "code",
   "execution_count": 47,
   "metadata": {
    "colab": {
     "base_uri": "https://localhost:8080/"
    },
    "id": "vlCLtsxjzQ2V",
    "outputId": "d9f88304-2cb0-45f6-9d9b-81bb1be7d1c7"
   },
   "outputs": [
    {
     "name": "stdout",
     "output_type": "stream",
     "text": [
      "3744/3750 [============================>.] - ETA: 0s"
     ]
    },
    {
     "name": "stderr",
     "output_type": "stream",
     "text": [
      "[INFO kernel.cc:736] Start Yggdrasil model training\n",
      "[INFO kernel.cc:737] Collect training examples\n",
      "[INFO kernel.cc:392] Number of batches: 3750\n",
      "[INFO kernel.cc:393] Number of examples: 240000\n",
      "[INFO data_spec_inference.cc:290] 36 item(s) have been pruned (i.e. they are considered out of dictionary) for the column cat10 (258 item(s) left) because min_value_count=5 and max_number_of_unique_values=2000\n",
      "[INFO kernel.cc:759] Dataset:\n",
      "Number of records: 240000\n",
      "Number of columns: 31\n",
      "\n",
      "Number of columns by type:\n",
      "\tCATEGORICAL: 20 (64.5161%)\n",
      "\tNUMERICAL: 11 (35.4839%)\n",
      "\n",
      "Columns:\n",
      "\n",
      "CATEGORICAL: 20 (64.5161%)\n",
      "\t0: \"cat0\" CATEGORICAL has-dict vocab-size:3 zero-ood-items most-frequent:\"A\" 178672 (74.4467%)\n",
      "\t1: \"cat1\" CATEGORICAL has-dict vocab-size:16 zero-ood-items most-frequent:\"I\" 72531 (30.2213%)\n",
      "\t2: \"cat10\" CATEGORICAL has-dict vocab-size:259 num-oods:36 (0.015%) most-frequent:\"DJ\" 25345 (10.5604%)\n",
      "\t3: \"cat11\" CATEGORICAL has-dict vocab-size:3 zero-ood-items most-frequent:\"A\" 207227 (86.3446%)\n",
      "\t4: \"cat12\" CATEGORICAL has-dict vocab-size:3 zero-ood-items most-frequent:\"A\" 205814 (85.7558%)\n",
      "\t5: \"cat13\" CATEGORICAL has-dict vocab-size:3 zero-ood-items most-frequent:\"A\" 234170 (97.5708%)\n",
      "\t6: \"cat14\" CATEGORICAL has-dict vocab-size:3 zero-ood-items most-frequent:\"A\" 128075 (53.3646%)\n",
      "\t7: \"cat15\" CATEGORICAL has-dict vocab-size:5 zero-ood-items most-frequent:\"B\" 162955 (67.8979%)\n",
      "\t8: \"cat16\" CATEGORICAL has-dict vocab-size:5 zero-ood-items most-frequent:\"D\" 165526 (68.9692%)\n",
      "\t9: \"cat17\" CATEGORICAL has-dict vocab-size:5 zero-ood-items most-frequent:\"D\" 197714 (82.3808%)\n",
      "\t10: \"cat18\" CATEGORICAL has-dict vocab-size:5 zero-ood-items most-frequent:\"B\" 204398 (85.1658%)\n",
      "\t11: \"cat2\" CATEGORICAL has-dict vocab-size:20 zero-ood-items most-frequent:\"A\" 134982 (56.2425%)\n",
      "\t12: \"cat3\" CATEGORICAL has-dict vocab-size:14 zero-ood-items most-frequent:\"A\" 149807 (62.4196%)\n",
      "\t13: \"cat4\" CATEGORICAL has-dict vocab-size:21 zero-ood-items most-frequent:\"E\" 103556 (43.1483%)\n",
      "\t14: \"cat5\" CATEGORICAL has-dict vocab-size:85 zero-ood-items most-frequent:\"BI\" 190956 (79.565%)\n",
      "\t15: \"cat6\" CATEGORICAL has-dict vocab-size:17 zero-ood-items most-frequent:\"A\" 150341 (62.6421%)\n",
      "\t16: \"cat7\" CATEGORICAL has-dict vocab-size:52 zero-ood-items most-frequent:\"AH\" 36654 (15.2725%)\n",
      "\t17: \"cat8\" CATEGORICAL has-dict vocab-size:62 zero-ood-items most-frequent:\"BM\" 33916 (14.1317%)\n",
      "\t18: \"cat9\" CATEGORICAL has-dict vocab-size:20 zero-ood-items most-frequent:\"A\" 161480 (67.2833%)\n",
      "\t30: \"__LABEL\" CATEGORICAL integerized vocab-size:3 no-ood-item\n",
      "\n",
      "NUMERICAL: 11 (35.4839%)\n",
      "\t19: \"cont0\" NUMERICAL mean:0.504818 min:-0.0495617 max:1.00456 sd:0.206903\n",
      "\t20: \"cont1\" NUMERICAL mean:0.494191 min:0.0844802 max:1.00996 sd:0.213219\n",
      "\t21: \"cont10\" NUMERICAL mean:0.508251 min:0.0977887 max:1.01133 sd:0.203486\n",
      "\t22: \"cont2\" NUMERICAL mean:0.51673 min:0.0944935 max:1.0166 sd:0.215053\n",
      "\t23: \"cont3\" NUMERICAL mean:0.47448 min:-0.0453155 max:0.952187 sd:0.216703\n",
      "\t24: \"cont4\" NUMERICAL mean:0.504935 min:0.168071 max:0.858578 sd:0.227538\n",
      "\t25: \"cont5\" NUMERICAL mean:0.502365 min:-0.0363792 max:0.853022 sd:0.241142\n",
      "\t26: \"cont6\" NUMERICAL mean:0.488227 min:0.00519916 max:0.960661 sd:0.211336\n",
      "\t27: \"cont7\" NUMERICAL mean:0.501884 min:0.0909015 max:1.03582 sd:0.203729\n",
      "\t28: \"cont8\" NUMERICAL mean:0.488198 min:0.0241389 max:1.05588 sd:0.17905\n",
      "\t29: \"cont9\" NUMERICAL mean:0.469975 min:0.214866 max:1.00565 sd:0.194761\n",
      "\n",
      "Terminology:\n",
      "\tnas: Number of non-available (i.e. missing) values.\n",
      "\tood: Out of dictionary.\n",
      "\tmanually-defined: Attribute which type is manually defined by the user i.e. the type was not automatically inferred.\n",
      "\ttokenized: The attribute value is obtained through tokenization.\n",
      "\thas-dict: The attribute is attached to a string dictionary e.g. a categorical attribute stored as a string.\n",
      "\tvocab-size: Number of unique values.\n",
      "\n",
      "[INFO kernel.cc:762] Configure learner\n",
      "[INFO kernel.cc:787] Training config:\n",
      "learner: \"RANDOM_FOREST\"\n",
      "features: \"cat0\"\n",
      "features: \"cat1\"\n",
      "features: \"cat10\"\n",
      "features: \"cat11\"\n",
      "features: \"cat12\"\n",
      "features: \"cat13\"\n",
      "features: \"cat14\"\n",
      "features: \"cat15\"\n",
      "features: \"cat16\"\n",
      "features: \"cat17\"\n",
      "features: \"cat18\"\n",
      "features: \"cat2\"\n",
      "features: \"cat3\"\n",
      "features: \"cat4\"\n",
      "features: \"cat5\"\n",
      "features: \"cat6\"\n",
      "features: \"cat7\"\n",
      "features: \"cat8\"\n",
      "features: \"cat9\"\n",
      "features: \"cont0\"\n",
      "features: \"cont1\"\n",
      "features: \"cont10\"\n",
      "features: \"cont2\"\n",
      "features: \"cont3\"\n",
      "features: \"cont4\"\n",
      "features: \"cont5\"\n",
      "features: \"cont6\"\n",
      "features: \"cont7\"\n",
      "features: \"cont8\"\n",
      "features: \"cont9\"\n",
      "label: \"__LABEL\"\n",
      "task: CLASSIFICATION\n",
      "[yggdrasil_decision_forests.model.random_forest.proto.random_forest_config] {\n",
      "  num_trees: 300\n",
      "  decision_tree {\n",
      "    max_depth: 16\n",
      "    min_examples: 5\n",
      "    in_split_min_examples_check: true\n",
      "    missing_value_policy: GLOBAL_IMPUTATION\n",
      "    allow_na_conditions: false\n",
      "    categorical_set_greedy_forward {\n",
      "      sampling: 0.1\n",
      "      max_num_items: -1\n",
      "      min_item_frequency: 1\n",
      "    }\n",
      "    growing_strategy_local {\n",
      "    }\n",
      "    categorical {\n",
      "      cart {\n",
      "      }\n",
      "    }\n",
      "    num_candidate_attributes_ratio: -1\n",
      "    axis_aligned_split {\n",
      "    }\n",
      "    internal {\n",
      "      sorting_strategy: PRESORTED\n",
      "    }\n",
      "  }\n",
      "  winner_take_all_inference: true\n",
      "  compute_oob_performances: true\n",
      "  compute_oob_variable_importances: false\n",
      "  adapt_bootstrap_size_ratio_for_maximum_training_duration: false\n",
      "}\n",
      "\n",
      "[INFO kernel.cc:790] Deployment config:\n",
      "num_threads: 6\n",
      "\n",
      "[INFO kernel.cc:817] Train model\n",
      "[INFO random_forest.cc:315] Training random forest on 240000 example(s) and 30 feature(s).\n",
      "[INFO random_forest.cc:628] Training of tree  1/300 (tree index:1) done accuracy:0.816403 logloss:6.61749\n",
      "[INFO random_forest.cc:628] Training of tree  11/300 (tree index:10) done accuracy:0.831542 logloss:3.19422\n",
      "[INFO random_forest.cc:628] Training of tree  21/300 (tree index:21) done accuracy:0.838562 logloss:2.20709\n",
      "[INFO random_forest.cc:628] Training of tree  31/300 (tree index:27) done accuracy:0.840679 logloss:1.79419\n",
      "[INFO random_forest.cc:628] Training of tree  41/300 (tree index:38) done accuracy:0.841608 logloss:1.55631\n",
      "[INFO random_forest.cc:628] Training of tree  51/300 (tree index:50) done accuracy:0.842292 logloss:1.40761\n",
      "[INFO random_forest.cc:628] Training of tree  61/300 (tree index:62) done accuracy:0.842721 logloss:1.2909\n",
      "[INFO random_forest.cc:628] Training of tree  71/300 (tree index:68) done accuracy:0.842908 logloss:1.20586\n",
      "[INFO random_forest.cc:628] Training of tree  81/300 (tree index:80) done accuracy:0.843358 logloss:1.13507\n",
      "[INFO random_forest.cc:628] Training of tree  91/300 (tree index:89) done accuracy:0.843467 logloss:1.07471\n",
      "[INFO random_forest.cc:628] Training of tree  101/300 (tree index:100) done accuracy:0.843783 logloss:1.02965\n",
      "[INFO random_forest.cc:628] Training of tree  111/300 (tree index:112) done accuracy:0.843896 logloss:0.988919\n",
      "[INFO random_forest.cc:628] Training of tree  121/300 (tree index:121) done accuracy:0.844113 logloss:0.953718\n",
      "[INFO random_forest.cc:628] Training of tree  131/300 (tree index:128) done accuracy:0.844208 logloss:0.920573\n",
      "[INFO random_forest.cc:628] Training of tree  141/300 (tree index:141) done accuracy:0.844338 logloss:0.891815\n",
      "[INFO random_forest.cc:628] Training of tree  151/300 (tree index:149) done accuracy:0.844513 logloss:0.865843\n",
      "[INFO random_forest.cc:628] Training of tree  161/300 (tree index:160) done accuracy:0.844508 logloss:0.841134\n",
      "[INFO random_forest.cc:628] Training of tree  171/300 (tree index:169) done accuracy:0.844354 logloss:0.821922\n",
      "[INFO random_forest.cc:628] Training of tree  181/300 (tree index:181) done accuracy:0.844404 logloss:0.802983\n",
      "[INFO random_forest.cc:628] Training of tree  191/300 (tree index:190) done accuracy:0.844658 logloss:0.787306\n",
      "[INFO random_forest.cc:628] Training of tree  201/300 (tree index:201) done accuracy:0.844667 logloss:0.774069\n",
      "[INFO random_forest.cc:628] Training of tree  211/300 (tree index:209) done accuracy:0.844692 logloss:0.760138\n",
      "[INFO random_forest.cc:628] Training of tree  221/300 (tree index:221) done accuracy:0.8447 logloss:0.746259\n",
      "[INFO random_forest.cc:628] Training of tree  231/300 (tree index:229) done accuracy:0.844492 logloss:0.733379\n",
      "[INFO random_forest.cc:628] Training of tree  241/300 (tree index:240) done accuracy:0.844633 logloss:0.721863\n",
      "[INFO random_forest.cc:628] Training of tree  251/300 (tree index:249) done accuracy:0.844654 logloss:0.710251\n",
      "[INFO random_forest.cc:628] Training of tree  261/300 (tree index:262) done accuracy:0.844617 logloss:0.698909\n",
      "[INFO random_forest.cc:628] Training of tree  271/300 (tree index:268) done accuracy:0.844787 logloss:0.690388\n",
      "[INFO random_forest.cc:628] Training of tree  281/300 (tree index:280) done accuracy:0.844758 logloss:0.681712\n",
      "[INFO random_forest.cc:628] Training of tree  291/300 (tree index:289) done accuracy:0.844954 logloss:0.67336\n",
      "[INFO random_forest.cc:628] Training of tree  300/300 (tree index:299) done accuracy:0.844958 logloss:0.665911\n",
      "[INFO random_forest.cc:696] Final OOB metrics: accuracy:0.844958 logloss:0.665911\n",
      "[INFO kernel.cc:828] Export model in log directory: /tmp/tmpmfh6ba84\n",
      "[INFO kernel.cc:836] Save model in resources\n",
      "[INFO kernel.cc:988] Loading model from path\n",
      "[INFO decision_forest.cc:590] Model loaded with 300 root(s), 2569390 node(s), and 30 input feature(s).\n",
      "[INFO abstract_model.cc:993] Engine \"RandomForestGeneric\" built\n",
      "[INFO kernel.cc:848] Use fast generic engine\n"
     ]
    },
    {
     "name": "stdout",
     "output_type": "stream",
     "text": [
      "3750/3750 [==============================] - 135s 36ms/step\n",
      "938/938 [==============================] - 12s 12ms/step - loss: 0.0000e+00 - accuracy: 0.8464 - auc: 0.8706\n",
      "\n",
      "loss: 0.0000\n",
      "accuracy: 0.8464\n",
      "auc: 0.8706\n",
      "Model optimization time: 0:02:34.610190 \n",
      "\n",
      "3742/3750 [============================>.] - ETA: 0s"
     ]
    },
    {
     "name": "stderr",
     "output_type": "stream",
     "text": [
      "[INFO kernel.cc:736] Start Yggdrasil model training\n",
      "[INFO kernel.cc:737] Collect training examples\n",
      "[INFO kernel.cc:392] Number of batches: 3750\n",
      "[INFO kernel.cc:393] Number of examples: 240000\n",
      "[INFO data_spec_inference.cc:290] 36 item(s) have been pruned (i.e. they are considered out of dictionary) for the column cat10 (258 item(s) left) because min_value_count=5 and max_number_of_unique_values=2000\n",
      "[INFO kernel.cc:759] Dataset:\n",
      "Number of records: 240000\n",
      "Number of columns: 31\n",
      "\n",
      "Number of columns by type:\n",
      "\tCATEGORICAL: 20 (64.5161%)\n",
      "\tNUMERICAL: 11 (35.4839%)\n",
      "\n",
      "Columns:\n",
      "\n",
      "CATEGORICAL: 20 (64.5161%)\n",
      "\t0: \"cat0\" CATEGORICAL has-dict vocab-size:3 zero-ood-items most-frequent:\"A\" 178672 (74.4467%)\n",
      "\t1: \"cat1\" CATEGORICAL has-dict vocab-size:16 zero-ood-items most-frequent:\"I\" 72531 (30.2213%)\n",
      "\t2: \"cat10\" CATEGORICAL has-dict vocab-size:259 num-oods:36 (0.015%) most-frequent:\"DJ\" 25345 (10.5604%)\n",
      "\t3: \"cat11\" CATEGORICAL has-dict vocab-size:3 zero-ood-items most-frequent:\"A\" 207227 (86.3446%)\n",
      "\t4: \"cat12\" CATEGORICAL has-dict vocab-size:3 zero-ood-items most-frequent:\"A\" 205814 (85.7558%)\n",
      "\t5: \"cat13\" CATEGORICAL has-dict vocab-size:3 zero-ood-items most-frequent:\"A\" 234170 (97.5708%)\n",
      "\t6: \"cat14\" CATEGORICAL has-dict vocab-size:3 zero-ood-items most-frequent:\"A\" 128075 (53.3646%)\n",
      "\t7: \"cat15\" CATEGORICAL has-dict vocab-size:5 zero-ood-items most-frequent:\"B\" 162955 (67.8979%)\n",
      "\t8: \"cat16\" CATEGORICAL has-dict vocab-size:5 zero-ood-items most-frequent:\"D\" 165526 (68.9692%)\n",
      "\t9: \"cat17\" CATEGORICAL has-dict vocab-size:5 zero-ood-items most-frequent:\"D\" 197714 (82.3808%)\n",
      "\t10: \"cat18\" CATEGORICAL has-dict vocab-size:5 zero-ood-items most-frequent:\"B\" 204398 (85.1658%)\n",
      "\t11: \"cat2\" CATEGORICAL has-dict vocab-size:20 zero-ood-items most-frequent:\"A\" 134982 (56.2425%)\n",
      "\t12: \"cat3\" CATEGORICAL has-dict vocab-size:14 zero-ood-items most-frequent:\"A\" 149807 (62.4196%)\n",
      "\t13: \"cat4\" CATEGORICAL has-dict vocab-size:21 zero-ood-items most-frequent:\"E\" 103556 (43.1483%)\n",
      "\t14: \"cat5\" CATEGORICAL has-dict vocab-size:85 zero-ood-items most-frequent:\"BI\" 190956 (79.565%)\n",
      "\t15: \"cat6\" CATEGORICAL has-dict vocab-size:17 zero-ood-items most-frequent:\"A\" 150341 (62.6421%)\n",
      "\t16: \"cat7\" CATEGORICAL has-dict vocab-size:52 zero-ood-items most-frequent:\"AH\" 36654 (15.2725%)\n",
      "\t17: \"cat8\" CATEGORICAL has-dict vocab-size:62 zero-ood-items most-frequent:\"BM\" 33916 (14.1317%)\n",
      "\t18: \"cat9\" CATEGORICAL has-dict vocab-size:20 zero-ood-items most-frequent:\"A\" 161480 (67.2833%)\n",
      "\t30: \"__LABEL\" CATEGORICAL integerized vocab-size:3 no-ood-item\n",
      "\n",
      "NUMERICAL: 11 (35.4839%)\n",
      "\t19: \"cont0\" NUMERICAL mean:0.504818 min:-0.0495617 max:1.00456 sd:0.206903\n",
      "\t20: \"cont1\" NUMERICAL mean:0.494191 min:0.0844802 max:1.00996 sd:0.213219\n",
      "\t21: \"cont10\" NUMERICAL mean:0.508251 min:0.0977887 max:1.01133 sd:0.203486\n",
      "\t22: \"cont2\" NUMERICAL mean:0.51673 min:0.0944935 max:1.0166 sd:0.215053\n",
      "\t23: \"cont3\" NUMERICAL mean:0.47448 min:-0.0453155 max:0.952187 sd:0.216703\n",
      "\t24: \"cont4\" NUMERICAL mean:0.504935 min:0.168071 max:0.858578 sd:0.227538\n",
      "\t25: \"cont5\" NUMERICAL mean:0.502365 min:-0.0363792 max:0.853022 sd:0.241142\n",
      "\t26: \"cont6\" NUMERICAL mean:0.488227 min:0.00519916 max:0.960661 sd:0.211336\n",
      "\t27: \"cont7\" NUMERICAL mean:0.501884 min:0.0909015 max:1.03582 sd:0.203729\n",
      "\t28: \"cont8\" NUMERICAL mean:0.488198 min:0.0241389 max:1.05588 sd:0.17905\n",
      "\t29: \"cont9\" NUMERICAL mean:0.469975 min:0.214866 max:1.00565 sd:0.194761\n",
      "\n",
      "Terminology:\n",
      "\tnas: Number of non-available (i.e. missing) values.\n",
      "\tood: Out of dictionary.\n",
      "\tmanually-defined: Attribute which type is manually defined by the user i.e. the type was not automatically inferred.\n",
      "\ttokenized: The attribute value is obtained through tokenization.\n",
      "\thas-dict: The attribute is attached to a string dictionary e.g. a categorical attribute stored as a string.\n",
      "\tvocab-size: Number of unique values.\n",
      "\n",
      "[INFO kernel.cc:762] Configure learner\n",
      "[INFO kernel.cc:787] Training config:\n",
      "learner: \"RANDOM_FOREST\"\n",
      "features: \"cat0\"\n",
      "features: \"cat1\"\n",
      "features: \"cat10\"\n",
      "features: \"cat11\"\n",
      "features: \"cat12\"\n",
      "features: \"cat13\"\n",
      "features: \"cat14\"\n",
      "features: \"cat15\"\n",
      "features: \"cat16\"\n",
      "features: \"cat17\"\n",
      "features: \"cat18\"\n",
      "features: \"cat2\"\n",
      "features: \"cat3\"\n",
      "features: \"cat4\"\n",
      "features: \"cat5\"\n",
      "features: \"cat6\"\n",
      "features: \"cat7\"\n",
      "features: \"cat8\"\n",
      "features: \"cat9\"\n",
      "features: \"cont0\"\n",
      "features: \"cont1\"\n",
      "features: \"cont10\"\n",
      "features: \"cont2\"\n",
      "features: \"cont3\"\n",
      "features: \"cont4\"\n",
      "features: \"cont5\"\n",
      "features: \"cont6\"\n",
      "features: \"cont7\"\n",
      "features: \"cont8\"\n",
      "features: \"cont9\"\n",
      "label: \"__LABEL\"\n",
      "task: CLASSIFICATION\n",
      "[yggdrasil_decision_forests.model.random_forest.proto.random_forest_config] {\n",
      "  num_trees: 500\n",
      "  decision_tree {\n",
      "    max_depth: 16\n",
      "    min_examples: 5\n",
      "    in_split_min_examples_check: true\n",
      "    missing_value_policy: GLOBAL_IMPUTATION\n",
      "    allow_na_conditions: false\n",
      "    categorical_set_greedy_forward {\n",
      "      sampling: 0.1\n",
      "      max_num_items: -1\n",
      "      min_item_frequency: 1\n",
      "    }\n",
      "    growing_strategy_local {\n",
      "    }\n",
      "    categorical {\n",
      "      cart {\n",
      "      }\n",
      "    }\n",
      "    num_candidate_attributes_ratio: -1\n",
      "    axis_aligned_split {\n",
      "    }\n",
      "    internal {\n",
      "      sorting_strategy: PRESORTED\n",
      "    }\n",
      "  }\n",
      "  winner_take_all_inference: true\n",
      "  compute_oob_performances: true\n",
      "  compute_oob_variable_importances: false\n",
      "  adapt_bootstrap_size_ratio_for_maximum_training_duration: false\n",
      "}\n",
      "\n",
      "[INFO kernel.cc:790] Deployment config:\n",
      "num_threads: 6\n",
      "\n",
      "[INFO kernel.cc:817] Train model\n",
      "[INFO random_forest.cc:315] Training random forest on 240000 example(s) and 30 feature(s).\n",
      "[INFO random_forest.cc:628] Training of tree  1/500 (tree index:5) done accuracy:0.815958 logloss:6.63353\n",
      "[INFO random_forest.cc:628] Training of tree  11/500 (tree index:8) done accuracy:0.831542 logloss:3.19422\n",
      "[INFO random_forest.cc:628] Training of tree  21/500 (tree index:21) done accuracy:0.8389 logloss:2.19805\n",
      "[INFO random_forest.cc:628] Training of tree  31/500 (tree index:30) done accuracy:0.840679 logloss:1.79419\n",
      "[INFO random_forest.cc:628] Training of tree  41/500 (tree index:41) done accuracy:0.8415 logloss:1.55939\n",
      "[INFO random_forest.cc:628] Training of tree  51/500 (tree index:50) done accuracy:0.842292 logloss:1.40761\n",
      "[INFO random_forest.cc:628] Training of tree  61/500 (tree index:60) done accuracy:0.842842 logloss:1.28949\n",
      "[INFO random_forest.cc:628] Training of tree  71/500 (tree index:71) done accuracy:0.84305 logloss:1.20182\n",
      "[INFO random_forest.cc:628] Training of tree  81/500 (tree index:78) done accuracy:0.843308 logloss:1.13242\n",
      "[INFO random_forest.cc:628] Training of tree  91/500 (tree index:89) done accuracy:0.843629 logloss:1.07764\n",
      "[INFO random_forest.cc:628] Training of tree  101/500 (tree index:101) done accuracy:0.84395 logloss:1.0305\n",
      "[INFO random_forest.cc:628] Training of tree  111/500 (tree index:110) done accuracy:0.843908 logloss:0.987409\n",
      "[INFO random_forest.cc:628] Training of tree  121/500 (tree index:121) done accuracy:0.844129 logloss:0.953214\n",
      "[INFO random_forest.cc:628] Training of tree  131/500 (tree index:131) done accuracy:0.844217 logloss:0.919981\n",
      "[INFO random_forest.cc:628] Training of tree  141/500 (tree index:138) done accuracy:0.844338 logloss:0.891815\n",
      "[INFO random_forest.cc:628] Training of tree  151/500 (tree index:147) done accuracy:0.844513 logloss:0.865843\n",
      "[INFO random_forest.cc:628] Training of tree  161/500 (tree index:162) done accuracy:0.844638 logloss:0.841953\n",
      "[INFO random_forest.cc:628] Training of tree  171/500 (tree index:168) done accuracy:0.844354 logloss:0.821922\n",
      "[INFO random_forest.cc:628] Training of tree  181/500 (tree index:180) done accuracy:0.844442 logloss:0.802552\n",
      "[INFO random_forest.cc:628] Training of tree  191/500 (tree index:191) done accuracy:0.844675 logloss:0.7871\n",
      "[INFO random_forest.cc:628] Training of tree  201/500 (tree index:197) done accuracy:0.844667 logloss:0.774069\n",
      "[INFO random_forest.cc:628] Training of tree  211/500 (tree index:211) done accuracy:0.844671 logloss:0.759856\n",
      "[INFO random_forest.cc:628] Training of tree  221/500 (tree index:220) done accuracy:0.844729 logloss:0.746024\n",
      "[INFO random_forest.cc:628] Training of tree  231/500 (tree index:230) done accuracy:0.844433 logloss:0.735144\n",
      "[INFO random_forest.cc:628] Training of tree  241/500 (tree index:242) done accuracy:0.844642 logloss:0.721059\n",
      "[INFO random_forest.cc:628] Training of tree  251/500 (tree index:249) done accuracy:0.844654 logloss:0.710251\n",
      "[INFO random_forest.cc:628] Training of tree  261/500 (tree index:261) done accuracy:0.844546 logloss:0.699774\n",
      "[INFO random_forest.cc:628] Training of tree  271/500 (tree index:267) done accuracy:0.844787 logloss:0.690388\n",
      "[INFO random_forest.cc:628] Training of tree  281/500 (tree index:282) done accuracy:0.844921 logloss:0.68138\n",
      "[INFO random_forest.cc:628] Training of tree  291/500 (tree index:288) done accuracy:0.844954 logloss:0.67336\n",
      "[INFO random_forest.cc:628] Training of tree  301/500 (tree index:300) done accuracy:0.844925 logloss:0.66515\n",
      "[INFO random_forest.cc:628] Training of tree  311/500 (tree index:310) done accuracy:0.84485 logloss:0.657012\n",
      "[INFO random_forest.cc:628] Training of tree  321/500 (tree index:320) done accuracy:0.844896 logloss:0.65113\n",
      "[INFO random_forest.cc:628] Training of tree  331/500 (tree index:328) done accuracy:0.844796 logloss:0.645191\n",
      "[INFO random_forest.cc:628] Training of tree  341/500 (tree index:339) done accuracy:0.844792 logloss:0.636786\n",
      "[INFO random_forest.cc:628] Training of tree  351/500 (tree index:351) done accuracy:0.844813 logloss:0.629807\n",
      "[INFO random_forest.cc:628] Training of tree  361/500 (tree index:360) done accuracy:0.8448 logloss:0.624671\n",
      "[INFO random_forest.cc:628] Training of tree  371/500 (tree index:370) done accuracy:0.844875 logloss:0.620258\n",
      "[INFO random_forest.cc:628] Training of tree  381/500 (tree index:380) done accuracy:0.844804 logloss:0.614243\n",
      "[INFO random_forest.cc:628] Training of tree  391/500 (tree index:391) done accuracy:0.844842 logloss:0.609664\n",
      "[INFO random_forest.cc:628] Training of tree  401/500 (tree index:401) done accuracy:0.844829 logloss:0.605773\n",
      "[INFO random_forest.cc:628] Training of tree  411/500 (tree index:408) done accuracy:0.844913 logloss:0.59974\n",
      "[INFO random_forest.cc:628] Training of tree  421/500 (tree index:420) done accuracy:0.84485 logloss:0.595167\n",
      "[INFO random_forest.cc:628] Training of tree  431/500 (tree index:431) done accuracy:0.844846 logloss:0.590832\n",
      "[INFO random_forest.cc:628] Training of tree  441/500 (tree index:441) done accuracy:0.844871 logloss:0.587157\n",
      "[INFO random_forest.cc:628] Training of tree  451/500 (tree index:451) done accuracy:0.844771 logloss:0.58377\n",
      "[INFO random_forest.cc:628] Training of tree  461/500 (tree index:462) done accuracy:0.844725 logloss:0.581648\n",
      "[INFO random_forest.cc:628] Training of tree  471/500 (tree index:471) done accuracy:0.844725 logloss:0.579314\n",
      "[INFO random_forest.cc:628] Training of tree  481/500 (tree index:479) done accuracy:0.844725 logloss:0.575503\n",
      "[INFO random_forest.cc:628] Training of tree  491/500 (tree index:490) done accuracy:0.844871 logloss:0.572073\n",
      "[INFO random_forest.cc:628] Training of tree  500/500 (tree index:498) done accuracy:0.844875 logloss:0.56864\n",
      "[INFO random_forest.cc:696] Final OOB metrics: accuracy:0.844875 logloss:0.56864\n",
      "[INFO kernel.cc:828] Export model in log directory: /tmp/tmpg6g8yl0k\n",
      "[INFO kernel.cc:836] Save model in resources\n",
      "[INFO kernel.cc:988] Loading model from path\n",
      "[INFO decision_forest.cc:590] Model loaded with 500 root(s), 4281756 node(s), and 30 input feature(s).\n",
      "[INFO abstract_model.cc:993] Engine \"RandomForestGeneric\" built\n",
      "[INFO kernel.cc:848] Use fast generic engine\n"
     ]
    },
    {
     "name": "stdout",
     "output_type": "stream",
     "text": [
      "3750/3750 [==============================] - 216s 58ms/step\n",
      "WARNING:tensorflow:5 out of the last 5 calls to <function CoreModel.make_predict_function.<locals>.predict_function_trained at 0x7f304050bf70> triggered tf.function retracing. Tracing is expensive and the excessive number of tracings could be due to (1) creating @tf.function repeatedly in a loop, (2) passing tensors with different shapes, (3) passing Python objects instead of tensors. For (1), please define your @tf.function outside of the loop. For (2), @tf.function has experimental_relax_shapes=True option that relaxes argument shapes that can avoid unnecessary retracing. For (3), please refer to https://www.tensorflow.org/guide/function#controlling_retracing and https://www.tensorflow.org/api_docs/python/tf/function for  more details.\n"
     ]
    },
    {
     "name": "stderr",
     "output_type": "stream",
     "text": [
      "WARNING:tensorflow:5 out of the last 5 calls to <function CoreModel.make_predict_function.<locals>.predict_function_trained at 0x7f304050bf70> triggered tf.function retracing. Tracing is expensive and the excessive number of tracings could be due to (1) creating @tf.function repeatedly in a loop, (2) passing tensors with different shapes, (3) passing Python objects instead of tensors. For (1), please define your @tf.function outside of the loop. For (2), @tf.function has experimental_relax_shapes=True option that relaxes argument shapes that can avoid unnecessary retracing. For (3), please refer to https://www.tensorflow.org/guide/function#controlling_retracing and https://www.tensorflow.org/api_docs/python/tf/function for  more details.\n"
     ]
    },
    {
     "name": "stdout",
     "output_type": "stream",
     "text": [
      "938/938 [==============================] - 17s 18ms/step - loss: 0.0000e+00 - accuracy: 0.8463 - auc: 0.8719\n",
      "\n",
      "loss: 0.0000\n",
      "accuracy: 0.8463\n",
      "auc: 0.8719\n",
      "Model optimization time: 0:03:55.327919 \n",
      "\n",
      "3733/3750 [============================>.] - ETA: 0s"
     ]
    },
    {
     "name": "stderr",
     "output_type": "stream",
     "text": [
      "[INFO kernel.cc:736] Start Yggdrasil model training\n",
      "[INFO kernel.cc:737] Collect training examples\n",
      "[INFO kernel.cc:392] Number of batches: 3750\n",
      "[INFO kernel.cc:393] Number of examples: 240000\n",
      "[INFO data_spec_inference.cc:290] 36 item(s) have been pruned (i.e. they are considered out of dictionary) for the column cat10 (258 item(s) left) because min_value_count=5 and max_number_of_unique_values=2000\n",
      "[INFO kernel.cc:759] Dataset:\n",
      "Number of records: 240000\n",
      "Number of columns: 31\n",
      "\n",
      "Number of columns by type:\n",
      "\tCATEGORICAL: 20 (64.5161%)\n",
      "\tNUMERICAL: 11 (35.4839%)\n",
      "\n",
      "Columns:\n",
      "\n",
      "CATEGORICAL: 20 (64.5161%)\n",
      "\t0: \"cat0\" CATEGORICAL has-dict vocab-size:3 zero-ood-items most-frequent:\"A\" 178672 (74.4467%)\n",
      "\t1: \"cat1\" CATEGORICAL has-dict vocab-size:16 zero-ood-items most-frequent:\"I\" 72531 (30.2213%)\n",
      "\t2: \"cat10\" CATEGORICAL has-dict vocab-size:259 num-oods:36 (0.015%) most-frequent:\"DJ\" 25345 (10.5604%)\n",
      "\t3: \"cat11\" CATEGORICAL has-dict vocab-size:3 zero-ood-items most-frequent:\"A\" 207227 (86.3446%)\n",
      "\t4: \"cat12\" CATEGORICAL has-dict vocab-size:3 zero-ood-items most-frequent:\"A\" 205814 (85.7558%)\n",
      "\t5: \"cat13\" CATEGORICAL has-dict vocab-size:3 zero-ood-items most-frequent:\"A\" 234170 (97.5708%)\n",
      "\t6: \"cat14\" CATEGORICAL has-dict vocab-size:3 zero-ood-items most-frequent:\"A\" 128075 (53.3646%)\n",
      "\t7: \"cat15\" CATEGORICAL has-dict vocab-size:5 zero-ood-items most-frequent:\"B\" 162955 (67.8979%)\n",
      "\t8: \"cat16\" CATEGORICAL has-dict vocab-size:5 zero-ood-items most-frequent:\"D\" 165526 (68.9692%)\n",
      "\t9: \"cat17\" CATEGORICAL has-dict vocab-size:5 zero-ood-items most-frequent:\"D\" 197714 (82.3808%)\n",
      "\t10: \"cat18\" CATEGORICAL has-dict vocab-size:5 zero-ood-items most-frequent:\"B\" 204398 (85.1658%)\n",
      "\t11: \"cat2\" CATEGORICAL has-dict vocab-size:20 zero-ood-items most-frequent:\"A\" 134982 (56.2425%)\n",
      "\t12: \"cat3\" CATEGORICAL has-dict vocab-size:14 zero-ood-items most-frequent:\"A\" 149807 (62.4196%)\n",
      "\t13: \"cat4\" CATEGORICAL has-dict vocab-size:21 zero-ood-items most-frequent:\"E\" 103556 (43.1483%)\n",
      "\t14: \"cat5\" CATEGORICAL has-dict vocab-size:85 zero-ood-items most-frequent:\"BI\" 190956 (79.565%)\n",
      "\t15: \"cat6\" CATEGORICAL has-dict vocab-size:17 zero-ood-items most-frequent:\"A\" 150341 (62.6421%)\n",
      "\t16: \"cat7\" CATEGORICAL has-dict vocab-size:52 zero-ood-items most-frequent:\"AH\" 36654 (15.2725%)\n",
      "\t17: \"cat8\" CATEGORICAL has-dict vocab-size:62 zero-ood-items most-frequent:\"BM\" 33916 (14.1317%)\n",
      "\t18: \"cat9\" CATEGORICAL has-dict vocab-size:20 zero-ood-items most-frequent:\"A\" 161480 (67.2833%)\n",
      "\t30: \"__LABEL\" CATEGORICAL integerized vocab-size:3 no-ood-item\n",
      "\n",
      "NUMERICAL: 11 (35.4839%)\n",
      "\t19: \"cont0\" NUMERICAL mean:0.504818 min:-0.0495617 max:1.00456 sd:0.206903\n",
      "\t20: \"cont1\" NUMERICAL mean:0.494191 min:0.0844802 max:1.00996 sd:0.213219\n",
      "\t21: \"cont10\" NUMERICAL mean:0.508251 min:0.0977887 max:1.01133 sd:0.203486\n",
      "\t22: \"cont2\" NUMERICAL mean:0.51673 min:0.0944935 max:1.0166 sd:0.215053\n",
      "\t23: \"cont3\" NUMERICAL mean:0.47448 min:-0.0453155 max:0.952187 sd:0.216703\n",
      "\t24: \"cont4\" NUMERICAL mean:0.504935 min:0.168071 max:0.858578 sd:0.227538\n",
      "\t25: \"cont5\" NUMERICAL mean:0.502365 min:-0.0363792 max:0.853022 sd:0.241142\n",
      "\t26: \"cont6\" NUMERICAL mean:0.488227 min:0.00519916 max:0.960661 sd:0.211336\n",
      "\t27: \"cont7\" NUMERICAL mean:0.501884 min:0.0909015 max:1.03582 sd:0.203729\n",
      "\t28: \"cont8\" NUMERICAL mean:0.488198 min:0.0241389 max:1.05588 sd:0.17905\n",
      "\t29: \"cont9\" NUMERICAL mean:0.469975 min:0.214866 max:1.00565 sd:0.194761\n",
      "\n",
      "Terminology:\n",
      "\tnas: Number of non-available (i.e. missing) values.\n",
      "\tood: Out of dictionary.\n",
      "\tmanually-defined: Attribute which type is manually defined by the user i.e. the type was not automatically inferred.\n",
      "\ttokenized: The attribute value is obtained through tokenization.\n",
      "\thas-dict: The attribute is attached to a string dictionary e.g. a categorical attribute stored as a string.\n",
      "\tvocab-size: Number of unique values.\n",
      "\n",
      "[INFO kernel.cc:762] Configure learner\n",
      "[INFO kernel.cc:787] Training config:\n",
      "learner: \"RANDOM_FOREST\"\n",
      "features: \"cat0\"\n",
      "features: \"cat1\"\n",
      "features: \"cat10\"\n",
      "features: \"cat11\"\n",
      "features: \"cat12\"\n",
      "features: \"cat13\"\n",
      "features: \"cat14\"\n",
      "features: \"cat15\"\n",
      "features: \"cat16\"\n",
      "features: \"cat17\"\n",
      "features: \"cat18\"\n",
      "features: \"cat2\"\n",
      "features: \"cat3\"\n",
      "features: \"cat4\"\n",
      "features: \"cat5\"\n",
      "features: \"cat6\"\n",
      "features: \"cat7\"\n",
      "features: \"cat8\"\n",
      "features: \"cat9\"\n",
      "features: \"cont0\"\n",
      "features: \"cont1\"\n",
      "features: \"cont10\"\n",
      "features: \"cont2\"\n",
      "features: \"cont3\"\n",
      "features: \"cont4\"\n",
      "features: \"cont5\"\n",
      "features: \"cont6\"\n",
      "features: \"cont7\"\n",
      "features: \"cont8\"\n",
      "features: \"cont9\"\n",
      "label: \"__LABEL\"\n",
      "task: CLASSIFICATION\n",
      "[yggdrasil_decision_forests.model.random_forest.proto.random_forest_config] {\n",
      "  num_trees: 750\n",
      "  decision_tree {\n",
      "    max_depth: 16\n",
      "    min_examples: 5\n",
      "    in_split_min_examples_check: true\n",
      "    missing_value_policy: GLOBAL_IMPUTATION\n",
      "    allow_na_conditions: false\n",
      "    categorical_set_greedy_forward {\n",
      "      sampling: 0.1\n",
      "      max_num_items: -1\n",
      "      min_item_frequency: 1\n",
      "    }\n",
      "    growing_strategy_local {\n",
      "    }\n",
      "    categorical {\n",
      "      cart {\n",
      "      }\n",
      "    }\n",
      "    num_candidate_attributes_ratio: -1\n",
      "    axis_aligned_split {\n",
      "    }\n",
      "    internal {\n",
      "      sorting_strategy: PRESORTED\n",
      "    }\n",
      "  }\n",
      "  winner_take_all_inference: true\n",
      "  compute_oob_performances: true\n",
      "  compute_oob_variable_importances: false\n",
      "  adapt_bootstrap_size_ratio_for_maximum_training_duration: false\n",
      "}\n",
      "\n",
      "[INFO kernel.cc:790] Deployment config:\n",
      "num_threads: 6\n",
      "\n",
      "[INFO kernel.cc:817] Train model\n",
      "[INFO random_forest.cc:315] Training random forest on 240000 example(s) and 30 feature(s).\n",
      "[INFO random_forest.cc:628] Training of tree  1/750 (tree index:0) done accuracy:0.816584 logloss:6.61099\n",
      "[INFO random_forest.cc:628] Training of tree  11/750 (tree index:12) done accuracy:0.832091 logloss:3.19029\n",
      "[INFO random_forest.cc:628] Training of tree  21/750 (tree index:19) done accuracy:0.838745 logloss:2.19894\n",
      "[INFO random_forest.cc:628] Training of tree  31/750 (tree index:31) done accuracy:0.840712 logloss:1.79625\n",
      "[INFO random_forest.cc:628] Training of tree  41/750 (tree index:39) done accuracy:0.841608 logloss:1.55631\n",
      "[INFO random_forest.cc:628] Training of tree  51/750 (tree index:50) done accuracy:0.842246 logloss:1.40995\n",
      "[INFO random_forest.cc:628] Training of tree  61/750 (tree index:61) done accuracy:0.842971 logloss:1.29087\n",
      "[INFO random_forest.cc:628] Training of tree  71/750 (tree index:70) done accuracy:0.842975 logloss:1.20261\n",
      "[INFO random_forest.cc:628] Training of tree  81/750 (tree index:80) done accuracy:0.843358 logloss:1.13507\n",
      "[INFO random_forest.cc:628] Training of tree  91/750 (tree index:89) done accuracy:0.843629 logloss:1.07764\n",
      "[INFO random_forest.cc:628] Training of tree  101/750 (tree index:102) done accuracy:0.843792 logloss:1.02942\n",
      "[INFO random_forest.cc:628] Training of tree  111/750 (tree index:111) done accuracy:0.843971 logloss:0.986877\n",
      "[INFO random_forest.cc:628] Training of tree  121/750 (tree index:120) done accuracy:0.844142 logloss:0.953668\n",
      "[INFO random_forest.cc:628] Training of tree  131/750 (tree index:130) done accuracy:0.844358 logloss:0.921093\n",
      "[INFO random_forest.cc:628] Training of tree  141/750 (tree index:139) done accuracy:0.844446 logloss:0.890061\n",
      "[INFO random_forest.cc:628] Training of tree  151/750 (tree index:150) done accuracy:0.844596 logloss:0.866505\n",
      "[INFO random_forest.cc:628] Training of tree  161/750 (tree index:160) done accuracy:0.844392 logloss:0.841293\n",
      "[INFO random_forest.cc:628] Training of tree  171/750 (tree index:172) done accuracy:0.844379 logloss:0.820851\n",
      "[INFO random_forest.cc:628] Training of tree  181/750 (tree index:181) done accuracy:0.844608 logloss:0.803587\n",
      "[INFO random_forest.cc:628] Training of tree  191/750 (tree index:192) done accuracy:0.8446 logloss:0.787606\n",
      "[INFO random_forest.cc:628] Training of tree  201/750 (tree index:197) done accuracy:0.844763 logloss:0.774282\n",
      "[INFO random_forest.cc:628] Training of tree  211/750 (tree index:211) done accuracy:0.844725 logloss:0.760263\n",
      "[INFO random_forest.cc:628] Training of tree  221/750 (tree index:220) done accuracy:0.844729 logloss:0.746024\n",
      "[INFO random_forest.cc:628] Training of tree  231/750 (tree index:230) done accuracy:0.844433 logloss:0.735144\n",
      "[INFO random_forest.cc:628] Training of tree  241/750 (tree index:239) done accuracy:0.844554 logloss:0.721846\n",
      "[INFO random_forest.cc:628] Training of tree  251/750 (tree index:249) done accuracy:0.844654 logloss:0.710251\n",
      "[INFO random_forest.cc:628] Training of tree  261/750 (tree index:257) done accuracy:0.844546 logloss:0.699774\n",
      "[INFO random_forest.cc:628] Training of tree  271/750 (tree index:272) done accuracy:0.844721 logloss:0.69065\n",
      "[INFO random_forest.cc:628] Training of tree  281/750 (tree index:282) done accuracy:0.844871 logloss:0.682178\n",
      "[INFO random_forest.cc:628] Training of tree  291/750 (tree index:288) done accuracy:0.844954 logloss:0.67336\n",
      "[INFO random_forest.cc:628] Training of tree  301/750 (tree index:300) done accuracy:0.844925 logloss:0.66515\n",
      "[INFO random_forest.cc:628] Training of tree  311/750 (tree index:309) done accuracy:0.84485 logloss:0.657012\n",
      "[INFO random_forest.cc:628] Training of tree  321/750 (tree index:321) done accuracy:0.844825 logloss:0.651777\n",
      "[INFO random_forest.cc:628] Training of tree  331/750 (tree index:330) done accuracy:0.844796 logloss:0.645191\n",
      "[INFO random_forest.cc:628] Training of tree  341/750 (tree index:340) done accuracy:0.844879 logloss:0.637141\n",
      "[INFO random_forest.cc:628] Training of tree  351/750 (tree index:350) done accuracy:0.844854 logloss:0.629948\n",
      "[INFO random_forest.cc:628] Training of tree  361/750 (tree index:361) done accuracy:0.844796 logloss:0.624551\n",
      "[INFO random_forest.cc:628] Training of tree  371/750 (tree index:370) done accuracy:0.844875 logloss:0.620258\n",
      "[INFO random_forest.cc:628] Training of tree  381/750 (tree index:380) done accuracy:0.844804 logloss:0.614243\n",
      "[INFO random_forest.cc:628] Training of tree  391/750 (tree index:391) done accuracy:0.844808 logloss:0.609822\n",
      "[INFO random_forest.cc:628] Training of tree  401/750 (tree index:400) done accuracy:0.844867 logloss:0.605575\n",
      "[INFO random_forest.cc:628] Training of tree  411/750 (tree index:408) done accuracy:0.844833 logloss:0.599474\n",
      "[INFO random_forest.cc:628] Training of tree  421/750 (tree index:421) done accuracy:0.844821 logloss:0.595418\n",
      "[INFO random_forest.cc:628] Training of tree  431/750 (tree index:431) done accuracy:0.844792 logloss:0.590196\n",
      "[INFO random_forest.cc:628] Training of tree  441/750 (tree index:440) done accuracy:0.844813 logloss:0.587151\n",
      "[INFO random_forest.cc:628] Training of tree  451/750 (tree index:452) done accuracy:0.84475 logloss:0.584164\n",
      "[INFO random_forest.cc:628] Training of tree  461/750 (tree index:460) done accuracy:0.84475 logloss:0.581538\n",
      "[INFO random_forest.cc:628] Training of tree  471/750 (tree index:469) done accuracy:0.844758 logloss:0.579259\n",
      "[INFO random_forest.cc:628] Training of tree  481/750 (tree index:480) done accuracy:0.844725 logloss:0.575503\n",
      "[INFO random_forest.cc:628] Training of tree  491/750 (tree index:491) done accuracy:0.844792 logloss:0.571579\n",
      "[INFO random_forest.cc:628] Training of tree  501/750 (tree index:500) done accuracy:0.844908 logloss:0.568643\n",
      "[INFO random_forest.cc:628] Training of tree  511/750 (tree index:511) done accuracy:0.8448 logloss:0.564099\n",
      "[INFO random_forest.cc:628] Training of tree  521/750 (tree index:517) done accuracy:0.844758 logloss:0.561664\n",
      "[INFO random_forest.cc:628] Training of tree  531/750 (tree index:530) done accuracy:0.844708 logloss:0.558279\n",
      "[INFO random_forest.cc:628] Training of tree  541/750 (tree index:539) done accuracy:0.844775 logloss:0.55557\n",
      "[INFO random_forest.cc:628] Training of tree  551/750 (tree index:550) done accuracy:0.844675 logloss:0.553646\n",
      "[INFO random_forest.cc:628] Training of tree  561/750 (tree index:560) done accuracy:0.844725 logloss:0.550648\n",
      "[INFO random_forest.cc:628] Training of tree  571/750 (tree index:572) done accuracy:0.8448 logloss:0.5486\n",
      "[INFO random_forest.cc:628] Training of tree  581/750 (tree index:579) done accuracy:0.8448 logloss:0.546651\n",
      "[INFO random_forest.cc:628] Training of tree  591/750 (tree index:590) done accuracy:0.844858 logloss:0.543606\n",
      "[INFO random_forest.cc:628] Training of tree  601/750 (tree index:599) done accuracy:0.844758 logloss:0.541649\n",
      "[INFO random_forest.cc:628] Training of tree  611/750 (tree index:608) done accuracy:0.844921 logloss:0.539697\n",
      "[INFO random_forest.cc:628] Training of tree  621/750 (tree index:621) done accuracy:0.844871 logloss:0.538121\n",
      "[INFO random_forest.cc:628] Training of tree  631/750 (tree index:630) done accuracy:0.844983 logloss:0.535158\n",
      "[INFO random_forest.cc:628] Training of tree  641/750 (tree index:640) done accuracy:0.844879 logloss:0.532877\n",
      "[INFO random_forest.cc:628] Training of tree  651/750 (tree index:650) done accuracy:0.844921 logloss:0.531266\n",
      "[INFO random_forest.cc:628] Training of tree  661/750 (tree index:660) done accuracy:0.844729 logloss:0.529737\n",
      "[INFO random_forest.cc:628] Training of tree  671/750 (tree index:670) done accuracy:0.844892 logloss:0.527666\n",
      "[INFO random_forest.cc:628] Training of tree  681/750 (tree index:682) done accuracy:0.844883 logloss:0.52686\n",
      "[INFO random_forest.cc:628] Training of tree  691/750 (tree index:690) done accuracy:0.844854 logloss:0.524783\n",
      "[INFO random_forest.cc:628] Training of tree  701/750 (tree index:700) done accuracy:0.844896 logloss:0.523217\n",
      "[INFO random_forest.cc:628] Training of tree  711/750 (tree index:710) done accuracy:0.844854 logloss:0.521282\n",
      "[INFO random_forest.cc:628] Training of tree  721/750 (tree index:720) done accuracy:0.84485 logloss:0.519786\n",
      "[INFO random_forest.cc:628] Training of tree  731/750 (tree index:729) done accuracy:0.844813 logloss:0.517897\n",
      "[INFO random_forest.cc:628] Training of tree  741/750 (tree index:742) done accuracy:0.844821 logloss:0.515984\n",
      "[INFO random_forest.cc:628] Training of tree  750/750 (tree index:749) done accuracy:0.844837 logloss:0.51459\n",
      "[INFO random_forest.cc:696] Final OOB metrics: accuracy:0.844837 logloss:0.51459\n",
      "[INFO kernel.cc:828] Export model in log directory: /tmp/tmpaybtthh4\n",
      "[INFO kernel.cc:836] Save model in resources\n",
      "[INFO kernel.cc:988] Loading model from path\n",
      "[INFO decision_forest.cc:590] Model loaded with 750 root(s), 6408938 node(s), and 30 input feature(s).\n",
      "[INFO abstract_model.cc:993] Engine \"RandomForestGeneric\" built\n",
      "[INFO kernel.cc:848] Use fast generic engine\n"
     ]
    },
    {
     "name": "stdout",
     "output_type": "stream",
     "text": [
      "3750/3750 [==============================] - 316s 84ms/step\n",
      "WARNING:tensorflow:6 out of the last 6 calls to <function CoreModel.make_predict_function.<locals>.predict_function_trained at 0x7f3040370ee0> triggered tf.function retracing. Tracing is expensive and the excessive number of tracings could be due to (1) creating @tf.function repeatedly in a loop, (2) passing tensors with different shapes, (3) passing Python objects instead of tensors. For (1), please define your @tf.function outside of the loop. For (2), @tf.function has experimental_relax_shapes=True option that relaxes argument shapes that can avoid unnecessary retracing. For (3), please refer to https://www.tensorflow.org/guide/function#controlling_retracing and https://www.tensorflow.org/api_docs/python/tf/function for  more details.\n"
     ]
    },
    {
     "name": "stderr",
     "output_type": "stream",
     "text": [
      "WARNING:tensorflow:6 out of the last 6 calls to <function CoreModel.make_predict_function.<locals>.predict_function_trained at 0x7f3040370ee0> triggered tf.function retracing. Tracing is expensive and the excessive number of tracings could be due to (1) creating @tf.function repeatedly in a loop, (2) passing tensors with different shapes, (3) passing Python objects instead of tensors. For (1), please define your @tf.function outside of the loop. For (2), @tf.function has experimental_relax_shapes=True option that relaxes argument shapes that can avoid unnecessary retracing. For (3), please refer to https://www.tensorflow.org/guide/function#controlling_retracing and https://www.tensorflow.org/api_docs/python/tf/function for  more details.\n"
     ]
    },
    {
     "name": "stdout",
     "output_type": "stream",
     "text": [
      "938/938 [==============================] - 26s 27ms/step - loss: 0.0000e+00 - accuracy: 0.8464 - auc: 0.8731\n",
      "\n",
      "loss: 0.0000\n",
      "accuracy: 0.8464\n",
      "auc: 0.8731\n",
      "Model optimization time: 0:05:44.033195 \n",
      "\n",
      "3746/3750 [============================>.] - ETA: 0s"
     ]
    },
    {
     "name": "stderr",
     "output_type": "stream",
     "text": [
      "[INFO kernel.cc:736] Start Yggdrasil model training\n",
      "[INFO kernel.cc:737] Collect training examples\n",
      "[INFO kernel.cc:392] Number of batches: 3750\n",
      "[INFO kernel.cc:393] Number of examples: 240000\n",
      "[INFO data_spec_inference.cc:290] 36 item(s) have been pruned (i.e. they are considered out of dictionary) for the column cat10 (258 item(s) left) because min_value_count=5 and max_number_of_unique_values=2000\n",
      "[INFO kernel.cc:759] Dataset:\n",
      "Number of records: 240000\n",
      "Number of columns: 31\n",
      "\n",
      "Number of columns by type:\n",
      "\tCATEGORICAL: 20 (64.5161%)\n",
      "\tNUMERICAL: 11 (35.4839%)\n",
      "\n",
      "Columns:\n",
      "\n",
      "CATEGORICAL: 20 (64.5161%)\n",
      "\t0: \"cat0\" CATEGORICAL has-dict vocab-size:3 zero-ood-items most-frequent:\"A\" 178672 (74.4467%)\n",
      "\t1: \"cat1\" CATEGORICAL has-dict vocab-size:16 zero-ood-items most-frequent:\"I\" 72531 (30.2213%)\n",
      "\t2: \"cat10\" CATEGORICAL has-dict vocab-size:259 num-oods:36 (0.015%) most-frequent:\"DJ\" 25345 (10.5604%)\n",
      "\t3: \"cat11\" CATEGORICAL has-dict vocab-size:3 zero-ood-items most-frequent:\"A\" 207227 (86.3446%)\n",
      "\t4: \"cat12\" CATEGORICAL has-dict vocab-size:3 zero-ood-items most-frequent:\"A\" 205814 (85.7558%)\n",
      "\t5: \"cat13\" CATEGORICAL has-dict vocab-size:3 zero-ood-items most-frequent:\"A\" 234170 (97.5708%)\n",
      "\t6: \"cat14\" CATEGORICAL has-dict vocab-size:3 zero-ood-items most-frequent:\"A\" 128075 (53.3646%)\n",
      "\t7: \"cat15\" CATEGORICAL has-dict vocab-size:5 zero-ood-items most-frequent:\"B\" 162955 (67.8979%)\n",
      "\t8: \"cat16\" CATEGORICAL has-dict vocab-size:5 zero-ood-items most-frequent:\"D\" 165526 (68.9692%)\n",
      "\t9: \"cat17\" CATEGORICAL has-dict vocab-size:5 zero-ood-items most-frequent:\"D\" 197714 (82.3808%)\n",
      "\t10: \"cat18\" CATEGORICAL has-dict vocab-size:5 zero-ood-items most-frequent:\"B\" 204398 (85.1658%)\n",
      "\t11: \"cat2\" CATEGORICAL has-dict vocab-size:20 zero-ood-items most-frequent:\"A\" 134982 (56.2425%)\n",
      "\t12: \"cat3\" CATEGORICAL has-dict vocab-size:14 zero-ood-items most-frequent:\"A\" 149807 (62.4196%)\n",
      "\t13: \"cat4\" CATEGORICAL has-dict vocab-size:21 zero-ood-items most-frequent:\"E\" 103556 (43.1483%)\n",
      "\t14: \"cat5\" CATEGORICAL has-dict vocab-size:85 zero-ood-items most-frequent:\"BI\" 190956 (79.565%)\n",
      "\t15: \"cat6\" CATEGORICAL has-dict vocab-size:17 zero-ood-items most-frequent:\"A\" 150341 (62.6421%)\n",
      "\t16: \"cat7\" CATEGORICAL has-dict vocab-size:52 zero-ood-items most-frequent:\"AH\" 36654 (15.2725%)\n",
      "\t17: \"cat8\" CATEGORICAL has-dict vocab-size:62 zero-ood-items most-frequent:\"BM\" 33916 (14.1317%)\n",
      "\t18: \"cat9\" CATEGORICAL has-dict vocab-size:20 zero-ood-items most-frequent:\"A\" 161480 (67.2833%)\n",
      "\t30: \"__LABEL\" CATEGORICAL integerized vocab-size:3 no-ood-item\n",
      "\n",
      "NUMERICAL: 11 (35.4839%)\n",
      "\t19: \"cont0\" NUMERICAL mean:0.504818 min:-0.0495617 max:1.00456 sd:0.206903\n",
      "\t20: \"cont1\" NUMERICAL mean:0.494191 min:0.0844802 max:1.00996 sd:0.213219\n",
      "\t21: \"cont10\" NUMERICAL mean:0.508251 min:0.0977887 max:1.01133 sd:0.203486\n",
      "\t22: \"cont2\" NUMERICAL mean:0.51673 min:0.0944935 max:1.0166 sd:0.215053\n",
      "\t23: \"cont3\" NUMERICAL mean:0.47448 min:-0.0453155 max:0.952187 sd:0.216703\n",
      "\t24: \"cont4\" NUMERICAL mean:0.504935 min:0.168071 max:0.858578 sd:0.227538\n",
      "\t25: \"cont5\" NUMERICAL mean:0.502365 min:-0.0363792 max:0.853022 sd:0.241142\n",
      "\t26: \"cont6\" NUMERICAL mean:0.488227 min:0.00519916 max:0.960661 sd:0.211336\n",
      "\t27: \"cont7\" NUMERICAL mean:0.501884 min:0.0909015 max:1.03582 sd:0.203729\n",
      "\t28: \"cont8\" NUMERICAL mean:0.488198 min:0.0241389 max:1.05588 sd:0.17905\n",
      "\t29: \"cont9\" NUMERICAL mean:0.469975 min:0.214866 max:1.00565 sd:0.194761\n",
      "\n",
      "Terminology:\n",
      "\tnas: Number of non-available (i.e. missing) values.\n",
      "\tood: Out of dictionary.\n",
      "\tmanually-defined: Attribute which type is manually defined by the user i.e. the type was not automatically inferred.\n",
      "\ttokenized: The attribute value is obtained through tokenization.\n",
      "\thas-dict: The attribute is attached to a string dictionary e.g. a categorical attribute stored as a string.\n",
      "\tvocab-size: Number of unique values.\n",
      "\n",
      "[INFO kernel.cc:762] Configure learner\n",
      "[INFO kernel.cc:787] Training config:\n",
      "learner: \"RANDOM_FOREST\"\n",
      "features: \"cat0\"\n",
      "features: \"cat1\"\n",
      "features: \"cat10\"\n",
      "features: \"cat11\"\n",
      "features: \"cat12\"\n",
      "features: \"cat13\"\n",
      "features: \"cat14\"\n",
      "features: \"cat15\"\n",
      "features: \"cat16\"\n",
      "features: \"cat17\"\n",
      "features: \"cat18\"\n",
      "features: \"cat2\"\n",
      "features: \"cat3\"\n",
      "features: \"cat4\"\n",
      "features: \"cat5\"\n",
      "features: \"cat6\"\n",
      "features: \"cat7\"\n",
      "features: \"cat8\"\n",
      "features: \"cat9\"\n",
      "features: \"cont0\"\n",
      "features: \"cont1\"\n",
      "features: \"cont10\"\n",
      "features: \"cont2\"\n",
      "features: \"cont3\"\n",
      "features: \"cont4\"\n",
      "features: \"cont5\"\n",
      "features: \"cont6\"\n",
      "features: \"cont7\"\n",
      "features: \"cont8\"\n",
      "features: \"cont9\"\n",
      "label: \"__LABEL\"\n",
      "task: CLASSIFICATION\n",
      "[yggdrasil_decision_forests.model.random_forest.proto.random_forest_config] {\n",
      "  num_trees: 1000\n",
      "  decision_tree {\n",
      "    max_depth: 16\n",
      "    min_examples: 5\n",
      "    in_split_min_examples_check: true\n",
      "    missing_value_policy: GLOBAL_IMPUTATION\n",
      "    allow_na_conditions: false\n",
      "    categorical_set_greedy_forward {\n",
      "      sampling: 0.1\n",
      "      max_num_items: -1\n",
      "      min_item_frequency: 1\n",
      "    }\n",
      "    growing_strategy_local {\n",
      "    }\n",
      "    categorical {\n",
      "      cart {\n",
      "      }\n",
      "    }\n",
      "    num_candidate_attributes_ratio: -1\n",
      "    axis_aligned_split {\n",
      "    }\n",
      "    internal {\n",
      "      sorting_strategy: PRESORTED\n",
      "    }\n",
      "  }\n",
      "  winner_take_all_inference: true\n",
      "  compute_oob_performances: true\n",
      "  compute_oob_variable_importances: false\n",
      "  adapt_bootstrap_size_ratio_for_maximum_training_duration: false\n",
      "}\n",
      "\n",
      "[INFO kernel.cc:790] Deployment config:\n",
      "num_threads: 6\n",
      "\n",
      "[INFO kernel.cc:817] Train model\n",
      "[INFO random_forest.cc:315] Training random forest on 240000 example(s) and 30 feature(s).\n",
      "[INFO random_forest.cc:628] Training of tree  1/1000 (tree index:1) done accuracy:0.816403 logloss:6.61749\n",
      "[INFO random_forest.cc:628] Training of tree  11/1000 (tree index:10) done accuracy:0.831542 logloss:3.19422\n",
      "[INFO random_forest.cc:628] Training of tree  21/1000 (tree index:19) done accuracy:0.838745 logloss:2.19894\n",
      "[INFO random_forest.cc:628] Training of tree  31/1000 (tree index:29) done accuracy:0.840679 logloss:1.79419\n",
      "[INFO random_forest.cc:628] Training of tree  41/1000 (tree index:37) done accuracy:0.841425 logloss:1.55784\n",
      "[INFO random_forest.cc:628] Training of tree  51/1000 (tree index:50) done accuracy:0.842292 logloss:1.40761\n",
      "[INFO random_forest.cc:628] Training of tree  61/1000 (tree index:60) done accuracy:0.842842 logloss:1.28949\n",
      "[INFO random_forest.cc:628] Training of tree  71/1000 (tree index:71) done accuracy:0.842908 logloss:1.20586\n",
      "[INFO random_forest.cc:628] Training of tree  81/1000 (tree index:78) done accuracy:0.843358 logloss:1.13507\n",
      "[INFO random_forest.cc:628] Training of tree  91/1000 (tree index:89) done accuracy:0.843629 logloss:1.07764\n",
      "[INFO random_forest.cc:628] Training of tree  101/1000 (tree index:100) done accuracy:0.843783 logloss:1.02965\n",
      "[INFO random_forest.cc:628] Training of tree  111/1000 (tree index:109) done accuracy:0.843908 logloss:0.987409\n",
      "[INFO random_forest.cc:628] Training of tree  121/1000 (tree index:121) done accuracy:0.844129 logloss:0.953214\n",
      "[INFO random_forest.cc:628] Training of tree  131/1000 (tree index:128) done accuracy:0.844208 logloss:0.920573\n",
      "[INFO random_forest.cc:628] Training of tree  141/1000 (tree index:142) done accuracy:0.844338 logloss:0.891374\n",
      "[INFO random_forest.cc:628] Training of tree  151/1000 (tree index:148) done accuracy:0.844513 logloss:0.865843\n",
      "[INFO random_forest.cc:628] Training of tree  161/1000 (tree index:161) done accuracy:0.844529 logloss:0.841723\n",
      "[INFO random_forest.cc:628] Training of tree  171/1000 (tree index:171) done accuracy:0.844513 logloss:0.821837\n",
      "[INFO random_forest.cc:628] Training of tree  181/1000 (tree index:180) done accuracy:0.844442 logloss:0.802552\n",
      "[INFO random_forest.cc:628] Training of tree  191/1000 (tree index:190) done accuracy:0.844658 logloss:0.787306\n",
      "[INFO random_forest.cc:628] Training of tree  201/1000 (tree index:199) done accuracy:0.844717 logloss:0.773478\n",
      "[INFO random_forest.cc:628] Training of tree  211/1000 (tree index:210) done accuracy:0.844692 logloss:0.760138\n",
      "[INFO random_forest.cc:628] Training of tree  221/1000 (tree index:220) done accuracy:0.844729 logloss:0.746024\n",
      "[INFO random_forest.cc:628] Training of tree  231/1000 (tree index:231) done accuracy:0.844492 logloss:0.733379\n",
      "[INFO random_forest.cc:628] Training of tree  241/1000 (tree index:239) done accuracy:0.844554 logloss:0.721846\n",
      "[INFO random_forest.cc:628] Training of tree  251/1000 (tree index:251) done accuracy:0.844675 logloss:0.710131\n",
      "[INFO random_forest.cc:628] Training of tree  261/1000 (tree index:261) done accuracy:0.844546 logloss:0.699774\n",
      "[INFO random_forest.cc:628] Training of tree  271/1000 (tree index:270) done accuracy:0.844787 logloss:0.690388\n",
      "[INFO random_forest.cc:628] Training of tree  281/1000 (tree index:279) done accuracy:0.844758 logloss:0.681712\n",
      "[INFO random_forest.cc:628] Training of tree  291/1000 (tree index:289) done accuracy:0.844954 logloss:0.67336\n",
      "[INFO random_forest.cc:628] Training of tree  301/1000 (tree index:300) done accuracy:0.844925 logloss:0.66515\n",
      "[INFO random_forest.cc:628] Training of tree  311/1000 (tree index:310) done accuracy:0.84485 logloss:0.657012\n",
      "[INFO random_forest.cc:628] Training of tree  321/1000 (tree index:321) done accuracy:0.844825 logloss:0.651777\n",
      "[INFO random_forest.cc:628] Training of tree  331/1000 (tree index:331) done accuracy:0.844867 logloss:0.645328\n",
      "[INFO random_forest.cc:628] Training of tree  341/1000 (tree index:340) done accuracy:0.844792 logloss:0.636786\n",
      "[INFO random_forest.cc:628] Training of tree  351/1000 (tree index:350) done accuracy:0.844854 logloss:0.629948\n",
      "[INFO random_forest.cc:628] Training of tree  361/1000 (tree index:360) done accuracy:0.8448 logloss:0.624671\n",
      "[INFO random_forest.cc:628] Training of tree  371/1000 (tree index:372) done accuracy:0.844871 logloss:0.619863\n",
      "[INFO random_forest.cc:628] Training of tree  381/1000 (tree index:382) done accuracy:0.844821 logloss:0.614061\n",
      "[INFO random_forest.cc:628] Training of tree  391/1000 (tree index:390) done accuracy:0.8448 logloss:0.609375\n",
      "[INFO random_forest.cc:628] Training of tree  401/1000 (tree index:401) done accuracy:0.844825 logloss:0.60585\n",
      "[INFO random_forest.cc:628] Training of tree  411/1000 (tree index:410) done accuracy:0.844913 logloss:0.59974\n",
      "[INFO random_forest.cc:628] Training of tree  421/1000 (tree index:418) done accuracy:0.84485 logloss:0.595167\n",
      "[INFO random_forest.cc:628] Training of tree  431/1000 (tree index:432) done accuracy:0.84485 logloss:0.591616\n",
      "[INFO random_forest.cc:628] Training of tree  441/1000 (tree index:440) done accuracy:0.844813 logloss:0.587151\n",
      "[INFO random_forest.cc:628] Training of tree  451/1000 (tree index:451) done accuracy:0.844771 logloss:0.58377\n",
      "[INFO random_forest.cc:628] Training of tree  461/1000 (tree index:459) done accuracy:0.84475 logloss:0.581538\n",
      "[INFO random_forest.cc:628] Training of tree  471/1000 (tree index:467) done accuracy:0.844758 logloss:0.579259\n",
      "[INFO random_forest.cc:628] Training of tree  481/1000 (tree index:478) done accuracy:0.844817 logloss:0.574535\n",
      "[INFO random_forest.cc:628] Training of tree  491/1000 (tree index:490) done accuracy:0.844871 logloss:0.572073\n",
      "[INFO random_forest.cc:628] Training of tree  501/1000 (tree index:500) done accuracy:0.844908 logloss:0.568643\n",
      "[INFO random_forest.cc:628] Training of tree  511/1000 (tree index:510) done accuracy:0.844817 logloss:0.564771\n",
      "[INFO random_forest.cc:628] Training of tree  521/1000 (tree index:520) done accuracy:0.844775 logloss:0.561397\n",
      "[INFO random_forest.cc:628] Training of tree  531/1000 (tree index:531) done accuracy:0.844692 logloss:0.558568\n",
      "[INFO random_forest.cc:628] Training of tree  541/1000 (tree index:540) done accuracy:0.844775 logloss:0.55557\n",
      "[INFO random_forest.cc:628] Training of tree  551/1000 (tree index:548) done accuracy:0.844675 logloss:0.553646\n",
      "[INFO random_forest.cc:628] Training of tree  561/1000 (tree index:562) done accuracy:0.8447 logloss:0.550397\n",
      "[INFO random_forest.cc:628] Training of tree  571/1000 (tree index:570) done accuracy:0.84485 logloss:0.548728\n",
      "[INFO random_forest.cc:628] Training of tree  581/1000 (tree index:580) done accuracy:0.8448 logloss:0.546651\n",
      "[INFO random_forest.cc:628] Training of tree  591/1000 (tree index:591) done accuracy:0.844813 logloss:0.543591\n",
      "[INFO random_forest.cc:628] Training of tree  601/1000 (tree index:601) done accuracy:0.844842 logloss:0.541651\n",
      "[INFO random_forest.cc:628] Training of tree  611/1000 (tree index:610) done accuracy:0.844921 logloss:0.539697\n",
      "[INFO random_forest.cc:628] Training of tree  621/1000 (tree index:619) done accuracy:0.844892 logloss:0.538502\n",
      "[INFO random_forest.cc:628] Training of tree  631/1000 (tree index:629) done accuracy:0.844983 logloss:0.535158\n",
      "[INFO random_forest.cc:628] Training of tree  641/1000 (tree index:640) done accuracy:0.844879 logloss:0.532877\n",
      "[INFO random_forest.cc:628] Training of tree  651/1000 (tree index:649) done accuracy:0.844879 logloss:0.531423\n",
      "[INFO random_forest.cc:628] Training of tree  661/1000 (tree index:659) done accuracy:0.844729 logloss:0.529737\n",
      "[INFO random_forest.cc:628] Training of tree  671/1000 (tree index:670) done accuracy:0.844892 logloss:0.527666\n",
      "[INFO random_forest.cc:628] Training of tree  681/1000 (tree index:681) done accuracy:0.844921 logloss:0.526602\n",
      "[INFO random_forest.cc:628] Training of tree  691/1000 (tree index:690) done accuracy:0.844854 logloss:0.524783\n",
      "[INFO random_forest.cc:628] Training of tree  701/1000 (tree index:700) done accuracy:0.844913 logloss:0.522951\n",
      "[INFO random_forest.cc:628] Training of tree  711/1000 (tree index:708) done accuracy:0.844854 logloss:0.521282\n",
      "[INFO random_forest.cc:628] Training of tree  721/1000 (tree index:720) done accuracy:0.84485 logloss:0.519786\n",
      "[INFO random_forest.cc:628] Training of tree  731/1000 (tree index:729) done accuracy:0.844813 logloss:0.517897\n",
      "[INFO random_forest.cc:628] Training of tree  741/1000 (tree index:741) done accuracy:0.844821 logloss:0.516667\n",
      "[INFO random_forest.cc:628] Training of tree  751/1000 (tree index:748) done accuracy:0.844863 logloss:0.514451\n",
      "[INFO random_forest.cc:628] Training of tree  761/1000 (tree index:759) done accuracy:0.84475 logloss:0.512452\n",
      "[INFO random_forest.cc:628] Training of tree  771/1000 (tree index:772) done accuracy:0.844733 logloss:0.511675\n",
      "[INFO random_forest.cc:628] Training of tree  781/1000 (tree index:780) done accuracy:0.844821 logloss:0.510399\n",
      "[INFO random_forest.cc:628] Training of tree  791/1000 (tree index:791) done accuracy:0.844771 logloss:0.509038\n",
      "[INFO random_forest.cc:628] Training of tree  801/1000 (tree index:799) done accuracy:0.8448 logloss:0.507966\n",
      "[INFO random_forest.cc:628] Training of tree  811/1000 (tree index:812) done accuracy:0.844858 logloss:0.506687\n",
      "[INFO random_forest.cc:628] Training of tree  821/1000 (tree index:821) done accuracy:0.844858 logloss:0.505747\n",
      "[INFO random_forest.cc:628] Training of tree  831/1000 (tree index:830) done accuracy:0.844867 logloss:0.504338\n",
      "[INFO random_forest.cc:628] Training of tree  841/1000 (tree index:839) done accuracy:0.844921 logloss:0.503175\n",
      "[INFO random_forest.cc:628] Training of tree  851/1000 (tree index:850) done accuracy:0.844875 logloss:0.501864\n",
      "[INFO random_forest.cc:628] Training of tree  861/1000 (tree index:860) done accuracy:0.8449 logloss:0.500835\n",
      "[INFO random_forest.cc:628] Training of tree  871/1000 (tree index:869) done accuracy:0.844846 logloss:0.499087\n",
      "[INFO random_forest.cc:628] Training of tree  881/1000 (tree index:878) done accuracy:0.844804 logloss:0.497958\n",
      "[INFO random_forest.cc:628] Training of tree  891/1000 (tree index:889) done accuracy:0.844833 logloss:0.496749\n",
      "[INFO random_forest.cc:628] Training of tree  901/1000 (tree index:901) done accuracy:0.844983 logloss:0.495341\n",
      "[INFO random_forest.cc:628] Training of tree  911/1000 (tree index:910) done accuracy:0.844867 logloss:0.494571\n",
      "[INFO random_forest.cc:628] Training of tree  921/1000 (tree index:920) done accuracy:0.844871 logloss:0.494052\n",
      "[INFO random_forest.cc:628] Training of tree  931/1000 (tree index:931) done accuracy:0.844846 logloss:0.493107\n",
      "[INFO random_forest.cc:628] Training of tree  941/1000 (tree index:941) done accuracy:0.844883 logloss:0.492337\n",
      "[INFO random_forest.cc:628] Training of tree  951/1000 (tree index:950) done accuracy:0.844896 logloss:0.49199\n",
      "[INFO random_forest.cc:628] Training of tree  961/1000 (tree index:956) done accuracy:0.844892 logloss:0.490648\n",
      "[INFO random_forest.cc:628] Training of tree  971/1000 (tree index:970) done accuracy:0.844892 logloss:0.489571\n",
      "[INFO random_forest.cc:628] Training of tree  981/1000 (tree index:980) done accuracy:0.844871 logloss:0.489058\n",
      "[INFO random_forest.cc:628] Training of tree  991/1000 (tree index:990) done accuracy:0.8449 logloss:0.488168\n",
      "[INFO random_forest.cc:628] Training of tree  1000/1000 (tree index:999) done accuracy:0.844867 logloss:0.487805\n",
      "[INFO random_forest.cc:696] Final OOB metrics: accuracy:0.844867 logloss:0.487805\n",
      "[INFO kernel.cc:828] Export model in log directory: /tmp/tmp8pow4h8g\n",
      "[INFO kernel.cc:836] Save model in resources\n",
      "[INFO kernel.cc:988] Loading model from path\n",
      "[INFO decision_forest.cc:590] Model loaded with 1000 root(s), 8541070 node(s), and 30 input feature(s).\n",
      "[INFO abstract_model.cc:993] Engine \"RandomForestGeneric\" built\n",
      "[INFO kernel.cc:848] Use fast generic engine\n"
     ]
    },
    {
     "name": "stdout",
     "output_type": "stream",
     "text": [
      "3750/3750 [==============================] - 419s 112ms/step\n",
      "938/938 [==============================] - 34s 36ms/step - loss: 0.0000e+00 - accuracy: 0.8465 - auc: 0.8741\n",
      "\n",
      "loss: 0.0000\n",
      "accuracy: 0.8465\n",
      "auc: 0.8741\n",
      "Model optimization time: 0:07:57.056049 \n",
      "\n"
     ]
    }
   ],
   "source": [
    "for num_trees in [300, 500, 750, 1000]:\n",
    "    # Define the baseline model for benchmarking\n",
    "    start_time_module = datetime.now()\n",
    "    reset_random()\n",
    "    Tuning_model = tfdf.keras.RandomForestModel(num_trees=num_trees, task = tfdf.keras.Task.CLASSIFICATION)\n",
    "\n",
    "    # Optionally, add evaluation metrics.\n",
    "    Tuning_model.compile(metrics=DEFAULT_METRICS)\n",
    "\n",
    "    # Train the model.\n",
    "    Tuning_model.fit(x=tfds_train)\n",
    "\n",
    "    Tuning_eval = Tuning_model.evaluate(tfds_valid, return_dict=True)\n",
    "    print()\n",
    "\n",
    "    for name, value in Tuning_eval.items():\n",
    "        print(f\"{name}: {value:.4f}\")\n",
    "    print ('Model optimization time:', (datetime.now() - start_time_module), '\\n')"
   ]
  },
  {
   "cell_type": "code",
   "execution_count": 48,
   "metadata": {
    "id": "orMchSDCzr07"
   },
   "outputs": [],
   "source": [
    "if NOTIFY_STATUS: status_notify(\"Task 4 - Fine-tune and Improve Models completed! \"+datetime.now().strftime('%a %B %d, %Y %I:%M:%S %p'))"
   ]
  },
  {
   "cell_type": "markdown",
   "metadata": {
    "id": "D7UgYoGuzaM-"
   },
   "source": [
    "## Task 5 - Finalize Model and Present Analysis"
   ]
  },
  {
   "cell_type": "code",
   "execution_count": 49,
   "metadata": {
    "id": "BhuD5C56wXjV"
   },
   "outputs": [],
   "source": [
    "if NOTIFY_STATUS: status_notify(\"Task 5 - Finalize Model and Present Analysis has begun! \"+datetime.now().strftime('%a %B %d, %Y %I:%M:%S %p'))"
   ]
  },
  {
   "cell_type": "markdown",
   "metadata": {
    "id": "xDcJ2kVE8xNI"
   },
   "source": [
    "### 5.a) Train the Final Model"
   ]
  },
  {
   "cell_type": "code",
   "execution_count": 50,
   "metadata": {
    "colab": {
     "base_uri": "https://localhost:8080/"
    },
    "id": "dsntMWlJwXjV",
    "outputId": "30950585-eb2b-44de-a60f-b2d0a0444aea"
   },
   "outputs": [
    {
     "name": "stdout",
     "output_type": "stream",
     "text": [
      "3738/3750 [============================>.] - ETA: 0s"
     ]
    },
    {
     "name": "stderr",
     "output_type": "stream",
     "text": [
      "[INFO kernel.cc:736] Start Yggdrasil model training\n",
      "[INFO kernel.cc:737] Collect training examples\n",
      "[INFO kernel.cc:392] Number of batches: 3750\n",
      "[INFO kernel.cc:393] Number of examples: 240000\n",
      "[INFO data_spec_inference.cc:290] 36 item(s) have been pruned (i.e. they are considered out of dictionary) for the column cat10 (258 item(s) left) because min_value_count=5 and max_number_of_unique_values=2000\n",
      "[INFO kernel.cc:759] Dataset:\n",
      "Number of records: 240000\n",
      "Number of columns: 31\n",
      "\n",
      "Number of columns by type:\n",
      "\tCATEGORICAL: 20 (64.5161%)\n",
      "\tNUMERICAL: 11 (35.4839%)\n",
      "\n",
      "Columns:\n",
      "\n",
      "CATEGORICAL: 20 (64.5161%)\n",
      "\t0: \"cat0\" CATEGORICAL has-dict vocab-size:3 zero-ood-items most-frequent:\"A\" 178672 (74.4467%)\n",
      "\t1: \"cat1\" CATEGORICAL has-dict vocab-size:16 zero-ood-items most-frequent:\"I\" 72531 (30.2213%)\n",
      "\t2: \"cat10\" CATEGORICAL has-dict vocab-size:259 num-oods:36 (0.015%) most-frequent:\"DJ\" 25345 (10.5604%)\n",
      "\t3: \"cat11\" CATEGORICAL has-dict vocab-size:3 zero-ood-items most-frequent:\"A\" 207227 (86.3446%)\n",
      "\t4: \"cat12\" CATEGORICAL has-dict vocab-size:3 zero-ood-items most-frequent:\"A\" 205814 (85.7558%)\n",
      "\t5: \"cat13\" CATEGORICAL has-dict vocab-size:3 zero-ood-items most-frequent:\"A\" 234170 (97.5708%)\n",
      "\t6: \"cat14\" CATEGORICAL has-dict vocab-size:3 zero-ood-items most-frequent:\"A\" 128075 (53.3646%)\n",
      "\t7: \"cat15\" CATEGORICAL has-dict vocab-size:5 zero-ood-items most-frequent:\"B\" 162955 (67.8979%)\n",
      "\t8: \"cat16\" CATEGORICAL has-dict vocab-size:5 zero-ood-items most-frequent:\"D\" 165526 (68.9692%)\n",
      "\t9: \"cat17\" CATEGORICAL has-dict vocab-size:5 zero-ood-items most-frequent:\"D\" 197714 (82.3808%)\n",
      "\t10: \"cat18\" CATEGORICAL has-dict vocab-size:5 zero-ood-items most-frequent:\"B\" 204398 (85.1658%)\n",
      "\t11: \"cat2\" CATEGORICAL has-dict vocab-size:20 zero-ood-items most-frequent:\"A\" 134982 (56.2425%)\n",
      "\t12: \"cat3\" CATEGORICAL has-dict vocab-size:14 zero-ood-items most-frequent:\"A\" 149807 (62.4196%)\n",
      "\t13: \"cat4\" CATEGORICAL has-dict vocab-size:21 zero-ood-items most-frequent:\"E\" 103556 (43.1483%)\n",
      "\t14: \"cat5\" CATEGORICAL has-dict vocab-size:85 zero-ood-items most-frequent:\"BI\" 190956 (79.565%)\n",
      "\t15: \"cat6\" CATEGORICAL has-dict vocab-size:17 zero-ood-items most-frequent:\"A\" 150341 (62.6421%)\n",
      "\t16: \"cat7\" CATEGORICAL has-dict vocab-size:52 zero-ood-items most-frequent:\"AH\" 36654 (15.2725%)\n",
      "\t17: \"cat8\" CATEGORICAL has-dict vocab-size:62 zero-ood-items most-frequent:\"BM\" 33916 (14.1317%)\n",
      "\t18: \"cat9\" CATEGORICAL has-dict vocab-size:20 zero-ood-items most-frequent:\"A\" 161480 (67.2833%)\n",
      "\t30: \"__LABEL\" CATEGORICAL integerized vocab-size:3 no-ood-item\n",
      "\n",
      "NUMERICAL: 11 (35.4839%)\n",
      "\t19: \"cont0\" NUMERICAL mean:0.504818 min:-0.0495617 max:1.00456 sd:0.206903\n",
      "\t20: \"cont1\" NUMERICAL mean:0.494191 min:0.0844802 max:1.00996 sd:0.213219\n",
      "\t21: \"cont10\" NUMERICAL mean:0.508251 min:0.0977887 max:1.01133 sd:0.203486\n",
      "\t22: \"cont2\" NUMERICAL mean:0.51673 min:0.0944935 max:1.0166 sd:0.215053\n",
      "\t23: \"cont3\" NUMERICAL mean:0.47448 min:-0.0453155 max:0.952187 sd:0.216703\n",
      "\t24: \"cont4\" NUMERICAL mean:0.504935 min:0.168071 max:0.858578 sd:0.227538\n",
      "\t25: \"cont5\" NUMERICAL mean:0.502365 min:-0.0363792 max:0.853022 sd:0.241142\n",
      "\t26: \"cont6\" NUMERICAL mean:0.488227 min:0.00519916 max:0.960661 sd:0.211336\n",
      "\t27: \"cont7\" NUMERICAL mean:0.501884 min:0.0909015 max:1.03582 sd:0.203729\n",
      "\t28: \"cont8\" NUMERICAL mean:0.488198 min:0.0241389 max:1.05588 sd:0.17905\n",
      "\t29: \"cont9\" NUMERICAL mean:0.469975 min:0.214866 max:1.00565 sd:0.194761\n",
      "\n",
      "Terminology:\n",
      "\tnas: Number of non-available (i.e. missing) values.\n",
      "\tood: Out of dictionary.\n",
      "\tmanually-defined: Attribute which type is manually defined by the user i.e. the type was not automatically inferred.\n",
      "\ttokenized: The attribute value is obtained through tokenization.\n",
      "\thas-dict: The attribute is attached to a string dictionary e.g. a categorical attribute stored as a string.\n",
      "\tvocab-size: Number of unique values.\n",
      "\n",
      "[INFO kernel.cc:762] Configure learner\n",
      "[INFO kernel.cc:787] Training config:\n",
      "learner: \"RANDOM_FOREST\"\n",
      "features: \"cat0\"\n",
      "features: \"cat1\"\n",
      "features: \"cat10\"\n",
      "features: \"cat11\"\n",
      "features: \"cat12\"\n",
      "features: \"cat13\"\n",
      "features: \"cat14\"\n",
      "features: \"cat15\"\n",
      "features: \"cat16\"\n",
      "features: \"cat17\"\n",
      "features: \"cat18\"\n",
      "features: \"cat2\"\n",
      "features: \"cat3\"\n",
      "features: \"cat4\"\n",
      "features: \"cat5\"\n",
      "features: \"cat6\"\n",
      "features: \"cat7\"\n",
      "features: \"cat8\"\n",
      "features: \"cat9\"\n",
      "features: \"cont0\"\n",
      "features: \"cont1\"\n",
      "features: \"cont10\"\n",
      "features: \"cont2\"\n",
      "features: \"cont3\"\n",
      "features: \"cont4\"\n",
      "features: \"cont5\"\n",
      "features: \"cont6\"\n",
      "features: \"cont7\"\n",
      "features: \"cont8\"\n",
      "features: \"cont9\"\n",
      "label: \"__LABEL\"\n",
      "task: CLASSIFICATION\n",
      "[yggdrasil_decision_forests.model.random_forest.proto.random_forest_config] {\n",
      "  num_trees: 1000\n",
      "  decision_tree {\n",
      "    max_depth: 16\n",
      "    min_examples: 5\n",
      "    in_split_min_examples_check: true\n",
      "    missing_value_policy: GLOBAL_IMPUTATION\n",
      "    allow_na_conditions: false\n",
      "    categorical_set_greedy_forward {\n",
      "      sampling: 0.1\n",
      "      max_num_items: -1\n",
      "      min_item_frequency: 1\n",
      "    }\n",
      "    growing_strategy_local {\n",
      "    }\n",
      "    categorical {\n",
      "      cart {\n",
      "      }\n",
      "    }\n",
      "    num_candidate_attributes_ratio: -1\n",
      "    axis_aligned_split {\n",
      "    }\n",
      "    internal {\n",
      "      sorting_strategy: PRESORTED\n",
      "    }\n",
      "  }\n",
      "  winner_take_all_inference: true\n",
      "  compute_oob_performances: true\n",
      "  compute_oob_variable_importances: false\n",
      "  adapt_bootstrap_size_ratio_for_maximum_training_duration: false\n",
      "}\n",
      "\n",
      "[INFO kernel.cc:790] Deployment config:\n",
      "num_threads: 6\n",
      "\n",
      "[INFO kernel.cc:817] Train model\n",
      "[INFO random_forest.cc:315] Training random forest on 240000 example(s) and 30 feature(s).\n",
      "[INFO random_forest.cc:628] Training of tree  1/1000 (tree index:1) done accuracy:0.816403 logloss:6.61749\n",
      "[INFO random_forest.cc:628] Training of tree  11/1000 (tree index:9) done accuracy:0.832066 logloss:3.2073\n",
      "[INFO random_forest.cc:628] Training of tree  21/1000 (tree index:16) done accuracy:0.838745 logloss:2.19894\n",
      "[INFO random_forest.cc:628] Training of tree  31/1000 (tree index:30) done accuracy:0.840679 logloss:1.79419\n",
      "[INFO random_forest.cc:628] Training of tree  41/1000 (tree index:40) done accuracy:0.841608 logloss:1.55631\n",
      "[INFO random_forest.cc:628] Training of tree  51/1000 (tree index:53) done accuracy:0.842108 logloss:1.4081\n",
      "[INFO random_forest.cc:628] Training of tree  61/1000 (tree index:61) done accuracy:0.842971 logloss:1.29087\n",
      "[INFO random_forest.cc:628] Training of tree  71/1000 (tree index:70) done accuracy:0.842975 logloss:1.20261\n",
      "[INFO random_forest.cc:628] Training of tree  81/1000 (tree index:80) done accuracy:0.843358 logloss:1.13507\n",
      "[INFO random_forest.cc:628] Training of tree  91/1000 (tree index:90) done accuracy:0.843629 logloss:1.07764\n",
      "[INFO random_forest.cc:628] Training of tree  101/1000 (tree index:100) done accuracy:0.843783 logloss:1.02965\n",
      "[INFO random_forest.cc:628] Training of tree  111/1000 (tree index:109) done accuracy:0.844008 logloss:0.988601\n",
      "[INFO random_forest.cc:628] Training of tree  121/1000 (tree index:119) done accuracy:0.844142 logloss:0.953668\n",
      "[INFO random_forest.cc:628] Training of tree  131/1000 (tree index:131) done accuracy:0.844175 logloss:0.920269\n",
      "[INFO random_forest.cc:628] Training of tree  141/1000 (tree index:140) done accuracy:0.844446 logloss:0.890061\n",
      "[INFO random_forest.cc:628] Training of tree  151/1000 (tree index:151) done accuracy:0.844362 logloss:0.86785\n",
      "[INFO random_forest.cc:628] Training of tree  161/1000 (tree index:160) done accuracy:0.844508 logloss:0.841134\n",
      "[INFO random_forest.cc:628] Training of tree  171/1000 (tree index:169) done accuracy:0.844354 logloss:0.821922\n",
      "[INFO random_forest.cc:628] Training of tree  181/1000 (tree index:179) done accuracy:0.844442 logloss:0.802552\n",
      "[INFO random_forest.cc:628] Training of tree  191/1000 (tree index:190) done accuracy:0.844658 logloss:0.787306\n",
      "[INFO random_forest.cc:628] Training of tree  201/1000 (tree index:200) done accuracy:0.844717 logloss:0.773478\n",
      "[INFO random_forest.cc:628] Training of tree  211/1000 (tree index:211) done accuracy:0.844671 logloss:0.759856\n",
      "[INFO random_forest.cc:628] Training of tree  221/1000 (tree index:217) done accuracy:0.844729 logloss:0.746024\n",
      "[INFO random_forest.cc:628] Training of tree  231/1000 (tree index:230) done accuracy:0.844433 logloss:0.735144\n",
      "[INFO random_forest.cc:628] Training of tree  241/1000 (tree index:241) done accuracy:0.8446 logloss:0.722001\n",
      "[INFO random_forest.cc:628] Training of tree  251/1000 (tree index:249) done accuracy:0.844654 logloss:0.710251\n",
      "[INFO random_forest.cc:628] Training of tree  261/1000 (tree index:261) done accuracy:0.844546 logloss:0.699774\n",
      "[INFO random_forest.cc:628] Training of tree  271/1000 (tree index:269) done accuracy:0.844787 logloss:0.690388\n",
      "[INFO random_forest.cc:628] Training of tree  281/1000 (tree index:280) done accuracy:0.844758 logloss:0.681712\n",
      "[INFO random_forest.cc:628] Training of tree  291/1000 (tree index:291) done accuracy:0.844767 logloss:0.673597\n",
      "[INFO random_forest.cc:628] Training of tree  301/1000 (tree index:300) done accuracy:0.844925 logloss:0.66515\n",
      "[INFO random_forest.cc:628] Training of tree  311/1000 (tree index:310) done accuracy:0.844825 logloss:0.656864\n",
      "[INFO random_forest.cc:628] Training of tree  321/1000 (tree index:320) done accuracy:0.844896 logloss:0.65113\n",
      "[INFO random_forest.cc:628] Training of tree  331/1000 (tree index:331) done accuracy:0.844867 logloss:0.645328\n",
      "[INFO random_forest.cc:628] Training of tree  341/1000 (tree index:341) done accuracy:0.8448 logloss:0.6365\n",
      "[INFO random_forest.cc:628] Training of tree  351/1000 (tree index:350) done accuracy:0.844854 logloss:0.629948\n",
      "[INFO random_forest.cc:628] Training of tree  361/1000 (tree index:360) done accuracy:0.8448 logloss:0.624671\n",
      "[INFO random_forest.cc:628] Training of tree  371/1000 (tree index:371) done accuracy:0.8449 logloss:0.619589\n",
      "[INFO random_forest.cc:628] Training of tree  381/1000 (tree index:382) done accuracy:0.844825 logloss:0.614063\n",
      "[INFO random_forest.cc:628] Training of tree  391/1000 (tree index:390) done accuracy:0.8448 logloss:0.609375\n",
      "[INFO random_forest.cc:628] Training of tree  401/1000 (tree index:401) done accuracy:0.844825 logloss:0.60585\n",
      "[INFO random_forest.cc:628] Training of tree  411/1000 (tree index:408) done accuracy:0.844913 logloss:0.59974\n",
      "[INFO random_forest.cc:628] Training of tree  421/1000 (tree index:420) done accuracy:0.84485 logloss:0.595167\n",
      "[INFO random_forest.cc:628] Training of tree  431/1000 (tree index:427) done accuracy:0.844883 logloss:0.590952\n",
      "[INFO random_forest.cc:628] Training of tree  441/1000 (tree index:441) done accuracy:0.844871 logloss:0.587157\n",
      "[INFO random_forest.cc:628] Training of tree  451/1000 (tree index:449) done accuracy:0.844804 logloss:0.584315\n",
      "[INFO random_forest.cc:628] Training of tree  461/1000 (tree index:461) done accuracy:0.844729 logloss:0.581269\n",
      "[INFO random_forest.cc:628] Training of tree  471/1000 (tree index:470) done accuracy:0.844758 logloss:0.579259\n",
      "[INFO random_forest.cc:628] Training of tree  481/1000 (tree index:480) done accuracy:0.844725 logloss:0.575503\n",
      "[INFO random_forest.cc:628] Training of tree  491/1000 (tree index:491) done accuracy:0.844858 logloss:0.571546\n",
      "[INFO random_forest.cc:628] Training of tree  501/1000 (tree index:501) done accuracy:0.844883 logloss:0.568497\n",
      "[INFO random_forest.cc:628] Training of tree  511/1000 (tree index:512) done accuracy:0.8448 logloss:0.564783\n",
      "[INFO random_forest.cc:628] Training of tree  521/1000 (tree index:521) done accuracy:0.844775 logloss:0.561397\n",
      "[INFO random_forest.cc:628] Training of tree  531/1000 (tree index:530) done accuracy:0.8447 logloss:0.558539\n",
      "[INFO random_forest.cc:628] Training of tree  541/1000 (tree index:540) done accuracy:0.844775 logloss:0.55557\n",
      "[INFO random_forest.cc:628] Training of tree  551/1000 (tree index:550) done accuracy:0.844675 logloss:0.553646\n",
      "[INFO random_forest.cc:628] Training of tree  561/1000 (tree index:558) done accuracy:0.844696 logloss:0.550641\n",
      "[INFO random_forest.cc:628] Training of tree  571/1000 (tree index:569) done accuracy:0.844854 logloss:0.548982\n",
      "[INFO random_forest.cc:628] Training of tree  581/1000 (tree index:580) done accuracy:0.8448 logloss:0.546651\n",
      "[INFO random_forest.cc:628] Training of tree  591/1000 (tree index:589) done accuracy:0.844858 logloss:0.543606\n",
      "[INFO random_forest.cc:628] Training of tree  601/1000 (tree index:600) done accuracy:0.844758 logloss:0.541649\n",
      "[INFO random_forest.cc:628] Training of tree  611/1000 (tree index:612) done accuracy:0.84485 logloss:0.539859\n",
      "[INFO random_forest.cc:628] Training of tree  621/1000 (tree index:621) done accuracy:0.844833 logloss:0.538237\n",
      "[INFO random_forest.cc:628] Training of tree  631/1000 (tree index:629) done accuracy:0.844983 logloss:0.535158\n",
      "[INFO random_forest.cc:628] Training of tree  641/1000 (tree index:640) done accuracy:0.844879 logloss:0.532877\n",
      "[INFO random_forest.cc:628] Training of tree  651/1000 (tree index:650) done accuracy:0.844921 logloss:0.531266\n",
      "[INFO random_forest.cc:628] Training of tree  661/1000 (tree index:660) done accuracy:0.844729 logloss:0.529737\n",
      "[INFO random_forest.cc:628] Training of tree  671/1000 (tree index:667) done accuracy:0.844892 logloss:0.527666\n",
      "[INFO random_forest.cc:628] Training of tree  681/1000 (tree index:679) done accuracy:0.844925 logloss:0.526716\n",
      "[INFO random_forest.cc:628] Training of tree  691/1000 (tree index:691) done accuracy:0.844883 logloss:0.524655\n",
      "[INFO random_forest.cc:628] Training of tree  701/1000 (tree index:701) done accuracy:0.844883 logloss:0.523189\n",
      "[INFO random_forest.cc:628] Training of tree  711/1000 (tree index:710) done accuracy:0.844854 logloss:0.521282\n",
      "[INFO random_forest.cc:628] Training of tree  721/1000 (tree index:722) done accuracy:0.844846 logloss:0.519799\n",
      "[INFO random_forest.cc:628] Training of tree  731/1000 (tree index:731) done accuracy:0.844758 logloss:0.518027\n",
      "[INFO random_forest.cc:628] Training of tree  741/1000 (tree index:740) done accuracy:0.8449 logloss:0.516383\n",
      "[INFO random_forest.cc:628] Training of tree  751/1000 (tree index:750) done accuracy:0.844863 logloss:0.514451\n",
      "[INFO random_forest.cc:628] Training of tree  761/1000 (tree index:759) done accuracy:0.84475 logloss:0.512452\n",
      "[INFO random_forest.cc:628] Training of tree  771/1000 (tree index:769) done accuracy:0.844792 logloss:0.511283\n",
      "[INFO random_forest.cc:628] Training of tree  781/1000 (tree index:781) done accuracy:0.844813 logloss:0.510415\n",
      "[INFO random_forest.cc:628] Training of tree  791/1000 (tree index:788) done accuracy:0.844729 logloss:0.508771\n",
      "[INFO random_forest.cc:628] Training of tree  801/1000 (tree index:800) done accuracy:0.844846 logloss:0.507968\n",
      "[INFO random_forest.cc:628] Training of tree  811/1000 (tree index:810) done accuracy:0.844871 logloss:0.506954\n",
      "[INFO random_forest.cc:628] Training of tree  821/1000 (tree index:820) done accuracy:0.844867 logloss:0.505972\n",
      "[INFO random_forest.cc:628] Training of tree  831/1000 (tree index:830) done accuracy:0.844867 logloss:0.504338\n",
      "[INFO random_forest.cc:628] Training of tree  841/1000 (tree index:841) done accuracy:0.844908 logloss:0.503295\n",
      "[INFO random_forest.cc:628] Training of tree  851/1000 (tree index:849) done accuracy:0.844875 logloss:0.501864\n",
      "[INFO random_forest.cc:628] Training of tree  861/1000 (tree index:860) done accuracy:0.8449 logloss:0.500835\n",
      "[INFO random_forest.cc:628] Training of tree  871/1000 (tree index:870) done accuracy:0.844846 logloss:0.499087\n",
      "[INFO random_forest.cc:628] Training of tree  881/1000 (tree index:881) done accuracy:0.844821 logloss:0.498111\n",
      "[INFO random_forest.cc:628] Training of tree  891/1000 (tree index:889) done accuracy:0.844833 logloss:0.496749\n",
      "[INFO random_forest.cc:628] Training of tree  901/1000 (tree index:901) done accuracy:0.84495 logloss:0.495329\n",
      "[INFO random_forest.cc:628] Training of tree  911/1000 (tree index:913) done accuracy:0.8449 logloss:0.494576\n",
      "[INFO random_forest.cc:628] Training of tree  921/1000 (tree index:922) done accuracy:0.84485 logloss:0.49405\n",
      "[INFO random_forest.cc:628] Training of tree  931/1000 (tree index:928) done accuracy:0.844858 logloss:0.492979\n",
      "[INFO random_forest.cc:628] Training of tree  941/1000 (tree index:939) done accuracy:0.844863 logloss:0.492595\n",
      "[INFO random_forest.cc:628] Training of tree  951/1000 (tree index:950) done accuracy:0.844908 logloss:0.492072\n",
      "[INFO random_forest.cc:628] Training of tree  961/1000 (tree index:961) done accuracy:0.844921 logloss:0.490501\n",
      "[INFO random_forest.cc:628] Training of tree  971/1000 (tree index:971) done accuracy:0.844871 logloss:0.489819\n",
      "[INFO random_forest.cc:628] Training of tree  981/1000 (tree index:980) done accuracy:0.844871 logloss:0.489058\n",
      "[INFO random_forest.cc:628] Training of tree  991/1000 (tree index:990) done accuracy:0.8449 logloss:0.488168\n",
      "[INFO random_forest.cc:628] Training of tree  1000/1000 (tree index:999) done accuracy:0.844867 logloss:0.487805\n",
      "[INFO random_forest.cc:696] Final OOB metrics: accuracy:0.844867 logloss:0.487805\n",
      "[INFO kernel.cc:828] Export model in log directory: /tmp/tmpsqp14t6t\n",
      "[INFO kernel.cc:836] Save model in resources\n",
      "[INFO kernel.cc:988] Loading model from path\n",
      "[INFO decision_forest.cc:590] Model loaded with 1000 root(s), 8541070 node(s), and 30 input feature(s).\n",
      "[INFO abstract_model.cc:993] Engine \"RandomForestGeneric\" built\n",
      "[INFO kernel.cc:848] Use fast generic engine\n"
     ]
    },
    {
     "name": "stdout",
     "output_type": "stream",
     "text": [
      "3750/3750 [==============================] - 430s 115ms/step\n",
      "Model training time: 0:07:12.413194 \n",
      "\n"
     ]
    }
   ],
   "source": [
    "# Define the baseline model for benchmarking\n",
    "start_time_module = datetime.now()\n",
    "reset_random()\n",
    "Final_model = tfdf.keras.RandomForestModel(num_trees=1000, task = tfdf.keras.Task.CLASSIFICATION)\n",
    "\n",
    "# Optionally, add evaluation metrics.\n",
    "Final_model.compile(metrics=DEFAULT_METRICS)\n",
    "\n",
    "# \"sys_pipes\" is optional. It enables the display of the training logs.\n",
    "# with sys_pipes():\n",
    "#     Final_model.fit(x=tfds_train)\n",
    "\n",
    "# Train the model.\n",
    "Final_model.fit(x=tfds_train)\n",
    "print ('Model training time:', (datetime.now() - start_time_module), '\\n')"
   ]
  },
  {
   "cell_type": "code",
   "execution_count": 51,
   "metadata": {
    "colab": {
     "base_uri": "https://localhost:8080/"
    },
    "id": "IuwcWWXF89YM",
    "outputId": "8c7eda00-c5ca-4c03-8cdc-4cb0f34f22bc"
   },
   "outputs": [
    {
     "name": "stdout",
     "output_type": "stream",
     "text": [
      "Model: \"random_forest_model_5\"\n",
      "_________________________________________________________________\n",
      " Layer (type)                Output Shape              Param #   \n",
      "=================================================================\n",
      "=================================================================\n",
      "Total params: 1\n",
      "Trainable params: 0\n",
      "Non-trainable params: 1\n",
      "_________________________________________________________________\n",
      "Type: \"RANDOM_FOREST\"\n",
      "Task: CLASSIFICATION\n",
      "Label: \"__LABEL\"\n",
      "\n",
      "Input Features (30):\n",
      "\tcat0\n",
      "\tcat1\n",
      "\tcat10\n",
      "\tcat11\n",
      "\tcat12\n",
      "\tcat13\n",
      "\tcat14\n",
      "\tcat15\n",
      "\tcat16\n",
      "\tcat17\n",
      "\tcat18\n",
      "\tcat2\n",
      "\tcat3\n",
      "\tcat4\n",
      "\tcat5\n",
      "\tcat6\n",
      "\tcat7\n",
      "\tcat8\n",
      "\tcat9\n",
      "\tcont0\n",
      "\tcont1\n",
      "\tcont10\n",
      "\tcont2\n",
      "\tcont3\n",
      "\tcont4\n",
      "\tcont5\n",
      "\tcont6\n",
      "\tcont7\n",
      "\tcont8\n",
      "\tcont9\n",
      "\n",
      "No weights\n",
      "\n",
      "Variable Importance: MEAN_MIN_DEPTH:\n",
      "    1. \"__LABEL\" 13.567711 ################\n",
      "    2.   \"cat12\" 13.486108 ###############\n",
      "    3.    \"cat3\" 13.303312 ###############\n",
      "    4.   \"cat13\" 13.111082 ###############\n",
      "    5.    \"cat9\" 13.000975 ###############\n",
      "    6.   \"cont0\" 12.981266 ###############\n",
      "    7.  \"cont10\" 12.958936 ##############\n",
      "    8.   \"cont7\" 12.905787 ##############\n",
      "    9.   \"cont9\" 12.859664 ##############\n",
      "   10.    \"cat6\" 12.772140 ##############\n",
      "   11.   \"cont4\" 12.738367 ##############\n",
      "   12.   \"cont3\" 12.613721 ##############\n",
      "   13.    \"cat5\" 12.607242 ##############\n",
      "   14.   \"cont8\" 12.062460 #############\n",
      "   15.   \"cont2\" 11.794572 #############\n",
      "   16.   \"cat17\" 11.727839 ############\n",
      "   17.   \"cont1\" 11.604262 ############\n",
      "   18.   \"cont6\" 11.316870 ############\n",
      "   19.   \"cat11\" 11.028780 ###########\n",
      "   20.    \"cat4\" 10.690651 ###########\n",
      "   21.    \"cat2\" 10.223290 ##########\n",
      "   22.   \"cat14\"  9.476639 #########\n",
      "   23.    \"cat0\"  9.402857 #########\n",
      "   24.   \"cont5\"  8.714388 #######\n",
      "   25.   \"cat18\"  8.004344 ######\n",
      "   26.    \"cat7\"  7.346264 #####\n",
      "   27.    \"cat8\"  6.993657 #####\n",
      "   28.    \"cat1\"  6.623519 ####\n",
      "   29.   \"cat15\"  5.980691 ###\n",
      "   30.   \"cat10\"  5.235470 ##\n",
      "   31.   \"cat16\"  3.948513 \n",
      "\n",
      "Variable Importance: NUM_AS_ROOT:\n",
      "    1. \"cat16\" 215.000000 ################\n",
      "    2. \"cat15\" 178.000000 #############\n",
      "    3. \"cat18\" 158.000000 ###########\n",
      "    4.  \"cat1\" 108.000000 #######\n",
      "    5. \"cat14\" 94.000000 ######\n",
      "    6.  \"cat0\" 59.000000 ####\n",
      "    7. \"cat11\" 50.000000 ###\n",
      "    8.  \"cat2\" 44.000000 ###\n",
      "    9. \"cat17\" 31.000000 ##\n",
      "   10.  \"cat8\" 27.000000 #\n",
      "   11.  \"cat7\" 13.000000 \n",
      "   12. \"cat10\"  9.000000 \n",
      "   13.  \"cat4\"  5.000000 \n",
      "   14. \"cont5\"  3.000000 \n",
      "   15. \"cat13\"  2.000000 \n",
      "   16. \"cont1\"  2.000000 \n",
      "   17. \"cont6\"  2.000000 \n",
      "\n",
      "Variable Importance: NUM_NODES:\n",
      "    1.  \"cat10\" 496053.000000 ################\n",
      "    2.   \"cat7\" 420839.000000 #############\n",
      "    3.   \"cat8\" 375648.000000 ############\n",
      "    4.  \"cont5\" 221473.000000 #######\n",
      "    5.  \"cont6\" 197166.000000 ######\n",
      "    6.   \"cat1\" 193695.000000 ######\n",
      "    7.  \"cont4\" 190316.000000 ######\n",
      "    8.  \"cont3\" 188221.000000 #####\n",
      "    9.  \"cont2\" 188148.000000 #####\n",
      "   10.  \"cont8\" 186475.000000 #####\n",
      "   11.  \"cont9\" 185189.000000 #####\n",
      "   12.  \"cont1\" 183804.000000 #####\n",
      "   13.  \"cont7\" 174325.000000 #####\n",
      "   14.  \"cont0\" 174258.000000 #####\n",
      "   15. \"cont10\" 173619.000000 #####\n",
      "   16.   \"cat2\" 165501.000000 #####\n",
      "   17.   \"cat4\" 96595.000000 ##\n",
      "   18.   \"cat6\" 88212.000000 ##\n",
      "   19.   \"cat9\" 74274.000000 ##\n",
      "   20.   \"cat3\" 57933.000000 #\n",
      "   21.   \"cat5\" 47427.000000 #\n",
      "   22.  \"cat17\" 32478.000000 \n",
      "   23.  \"cat15\" 28232.000000 \n",
      "   24.  \"cat16\" 27923.000000 \n",
      "   25.  \"cat14\" 26394.000000 \n",
      "   26.  \"cat18\" 25412.000000 \n",
      "   27.  \"cat11\" 18867.000000 \n",
      "   28.   \"cat0\" 16903.000000 \n",
      "   29.  \"cat12\" 8116.000000 \n",
      "   30.  \"cat13\" 6539.000000 \n",
      "\n",
      "Variable Importance: SUM_SCORE:\n",
      "    1.  \"cat16\" 14236245.063070 ################\n",
      "    2.  \"cat10\" 10731777.540467 ############\n",
      "    3.  \"cat15\" 8569922.227757 #########\n",
      "    4.   \"cat7\" 5675281.119219 ######\n",
      "    5.   \"cat8\" 5602337.465855 ######\n",
      "    6.  \"cat18\" 5116646.474387 #####\n",
      "    7.   \"cat1\" 4419671.783290 ####\n",
      "    8.  \"cont5\" 2812309.026374 ###\n",
      "    9.  \"cat14\" 2216959.914424 ##\n",
      "   10.   \"cat0\" 2184142.955403 ##\n",
      "   11.   \"cat2\" 2144008.347569 ##\n",
      "   12.  \"cont6\" 1616560.339613 #\n",
      "   13.  \"cont1\" 1438925.271652 #\n",
      "   14.  \"cont2\" 1385526.936061 #\n",
      "   15.   \"cat4\" 1353259.228238 #\n",
      "   16.  \"cont8\" 1247513.368665 #\n",
      "   17.  \"cont3\" 1131538.820387 #\n",
      "   18.  \"cat11\" 1099360.334305 #\n",
      "   19.  \"cont4\" 1089235.714092 #\n",
      "   20.  \"cont9\" 1032977.269339 #\n",
      "   21.  \"cont7\" 952385.106954 #\n",
      "   22. \"cont10\" 948256.938163 \n",
      "   23.  \"cont0\" 943788.623239 \n",
      "   24.  \"cat17\" 893488.099236 \n",
      "   25.   \"cat6\" 639414.439228 \n",
      "   26.   \"cat9\" 556076.863042 \n",
      "   27.   \"cat5\" 518960.444244 \n",
      "   28.   \"cat3\" 332352.035267 \n",
      "   29.  \"cat13\" 180149.891184 \n",
      "   30.  \"cat12\" 62758.311348 \n",
      "\n",
      "\n",
      "\n",
      "Winner take all: true\n",
      "Out-of-bag evaluation: accuracy:0.844867 logloss:0.487805\n",
      "Number of trees: 1000\n",
      "Total number of nodes: 8541070\n",
      "\n",
      "Number of nodes by tree:\n",
      "Count: 1000 Average: 8541.07 StdDev: 457.427\n",
      "Min: 6819 Max: 9837 Ignored: 0\n",
      "----------------------------------------------\n",
      "[ 6819, 6969)   1   0.10%   0.10%\n",
      "[ 6969, 7120)   2   0.20%   0.30%\n",
      "[ 7120, 7271)   3   0.30%   0.60%\n",
      "[ 7271, 7422)  11   1.10%   1.70% #\n",
      "[ 7422, 7573)   9   0.90%   2.60% #\n",
      "[ 7573, 7724)  20   2.00%   4.60% #\n",
      "[ 7724, 7875)  30   3.00%   7.60% ##\n",
      "[ 7875, 8026)  51   5.10%  12.70% ####\n",
      "[ 8026, 8177)  69   6.90%  19.60% #####\n",
      "[ 8177, 8328)  97   9.70%  29.30% #######\n",
      "[ 8328, 8479) 136  13.60%  42.90% #########\n",
      "[ 8479, 8630) 134  13.40%  56.30% #########\n",
      "[ 8630, 8781) 145  14.50%  70.80% ##########\n",
      "[ 8781, 8932) 104  10.40%  81.20% #######\n",
      "[ 8932, 9083)  83   8.30%  89.50% ######\n",
      "[ 9083, 9234)  43   4.30%  93.80% ###\n",
      "[ 9234, 9385)  31   3.10%  96.90% ##\n",
      "[ 9385, 9536)  19   1.90%  98.80% #\n",
      "[ 9536, 9687)   8   0.80%  99.60% #\n",
      "[ 9687, 9837]   4   0.40% 100.00%\n",
      "\n",
      "Depth by leafs:\n",
      "Count: 4271035 Average: 13.5681 StdDev: 1.71926\n",
      "Min: 4 Max: 15 Ignored: 0\n",
      "----------------------------------------------\n",
      "[  4,  5)      31   0.00%   0.00%\n",
      "[  5,  6)     290   0.01%   0.01%\n",
      "[  6,  7)    2197   0.05%   0.06%\n",
      "[  7,  8)    9775   0.23%   0.29%\n",
      "[  8,  9)   32449   0.76%   1.05%\n",
      "[  9, 10)   82247   1.93%   2.97%\n",
      "[ 10, 11)  167313   3.92%   6.89% #\n",
      "[ 11, 12)  291153   6.82%  13.71% ##\n",
      "[ 12, 13)  441936  10.35%  24.05% ##\n",
      "[ 13, 14)  604490  14.15%  38.21% ###\n",
      "[ 14, 15)  757942  17.75%  55.95% ####\n",
      "[ 15, 15] 1881212  44.05% 100.00% ##########\n",
      "\n",
      "Number of training obs by leaf:\n",
      "Count: 4271035 Average: 56.1925 StdDev: 187.683\n",
      "Min: 5 Max: 12385 Ignored: 0\n",
      "----------------------------------------------\n",
      "[     5,   624) 4211261  98.60%  98.60% ##########\n",
      "[   624,  1243)   40049   0.94%  99.54%\n",
      "[  1243,  1862)   11109   0.26%  99.80%\n",
      "[  1862,  2481)    4381   0.10%  99.90%\n",
      "[  2481,  3100)    2049   0.05%  99.95%\n",
      "[  3100,  3719)     975   0.02%  99.97%\n",
      "[  3719,  4338)     508   0.01%  99.98%\n",
      "[  4338,  4957)     270   0.01%  99.99%\n",
      "[  4957,  5576)     178   0.00%  99.99%\n",
      "[  5576,  6195)     106   0.00% 100.00%\n",
      "[  6195,  6814)      57   0.00% 100.00%\n",
      "[  6814,  7433)      33   0.00% 100.00%\n",
      "[  7433,  8052)      22   0.00% 100.00%\n",
      "[  8052,  8671)      14   0.00% 100.00%\n",
      "[  8671,  9290)      13   0.00% 100.00%\n",
      "[  9290,  9909)       3   0.00% 100.00%\n",
      "[  9909, 10528)       4   0.00% 100.00%\n",
      "[ 10528, 11147)       1   0.00% 100.00%\n",
      "[ 11147, 11766)       1   0.00% 100.00%\n",
      "[ 11766, 12385]       1   0.00% 100.00%\n",
      "\n",
      "Attribute in nodes:\n",
      "\t496053 : cat10 [CATEGORICAL]\n",
      "\t420839 : cat7 [CATEGORICAL]\n",
      "\t375648 : cat8 [CATEGORICAL]\n",
      "\t221473 : cont5 [NUMERICAL]\n",
      "\t197166 : cont6 [NUMERICAL]\n",
      "\t193695 : cat1 [CATEGORICAL]\n",
      "\t190316 : cont4 [NUMERICAL]\n",
      "\t188221 : cont3 [NUMERICAL]\n",
      "\t188148 : cont2 [NUMERICAL]\n",
      "\t186475 : cont8 [NUMERICAL]\n",
      "\t185189 : cont9 [NUMERICAL]\n",
      "\t183804 : cont1 [NUMERICAL]\n",
      "\t174325 : cont7 [NUMERICAL]\n",
      "\t174258 : cont0 [NUMERICAL]\n",
      "\t173619 : cont10 [NUMERICAL]\n",
      "\t165501 : cat2 [CATEGORICAL]\n",
      "\t96595 : cat4 [CATEGORICAL]\n",
      "\t88212 : cat6 [CATEGORICAL]\n",
      "\t74274 : cat9 [CATEGORICAL]\n",
      "\t57933 : cat3 [CATEGORICAL]\n",
      "\t47427 : cat5 [CATEGORICAL]\n",
      "\t32478 : cat17 [CATEGORICAL]\n",
      "\t28232 : cat15 [CATEGORICAL]\n",
      "\t27923 : cat16 [CATEGORICAL]\n",
      "\t26394 : cat14 [CATEGORICAL]\n",
      "\t25412 : cat18 [CATEGORICAL]\n",
      "\t18867 : cat11 [CATEGORICAL]\n",
      "\t16903 : cat0 [CATEGORICAL]\n",
      "\t8116 : cat12 [CATEGORICAL]\n",
      "\t6539 : cat13 [CATEGORICAL]\n",
      "\n",
      "Attribute in nodes with depth <= 0:\n",
      "\t215 : cat16 [CATEGORICAL]\n",
      "\t178 : cat15 [CATEGORICAL]\n",
      "\t158 : cat18 [CATEGORICAL]\n",
      "\t108 : cat1 [CATEGORICAL]\n",
      "\t94 : cat14 [CATEGORICAL]\n",
      "\t59 : cat0 [CATEGORICAL]\n",
      "\t50 : cat11 [CATEGORICAL]\n",
      "\t44 : cat2 [CATEGORICAL]\n",
      "\t31 : cat17 [CATEGORICAL]\n",
      "\t27 : cat8 [CATEGORICAL]\n",
      "\t13 : cat7 [CATEGORICAL]\n",
      "\t9 : cat10 [CATEGORICAL]\n",
      "\t5 : cat4 [CATEGORICAL]\n",
      "\t3 : cont5 [NUMERICAL]\n",
      "\t2 : cont6 [NUMERICAL]\n",
      "\t2 : cont1 [NUMERICAL]\n",
      "\t2 : cat13 [CATEGORICAL]\n",
      "\n",
      "Attribute in nodes with depth <= 1:\n",
      "\t582 : cat16 [CATEGORICAL]\n",
      "\t455 : cat15 [CATEGORICAL]\n",
      "\t370 : cat18 [CATEGORICAL]\n",
      "\t269 : cat1 [CATEGORICAL]\n",
      "\t223 : cat10 [CATEGORICAL]\n",
      "\t194 : cat14 [CATEGORICAL]\n",
      "\t189 : cat0 [CATEGORICAL]\n",
      "\t134 : cat8 [CATEGORICAL]\n",
      "\t97 : cat11 [CATEGORICAL]\n",
      "\t86 : cat2 [CATEGORICAL]\n",
      "\t82 : cat17 [CATEGORICAL]\n",
      "\t80 : cat7 [CATEGORICAL]\n",
      "\t73 : cont5 [NUMERICAL]\n",
      "\t49 : cat4 [CATEGORICAL]\n",
      "\t38 : cont6 [NUMERICAL]\n",
      "\t37 : cont1 [NUMERICAL]\n",
      "\t22 : cont2 [NUMERICAL]\n",
      "\t10 : cont8 [NUMERICAL]\n",
      "\t6 : cat13 [CATEGORICAL]\n",
      "\t3 : cat9 [CATEGORICAL]\n",
      "\t1 : cat6 [CATEGORICAL]\n",
      "\n",
      "Attribute in nodes with depth <= 2:\n",
      "\t1092 : cat16 [CATEGORICAL]\n",
      "\t847 : cat15 [CATEGORICAL]\n",
      "\t758 : cat10 [CATEGORICAL]\n",
      "\t638 : cat18 [CATEGORICAL]\n",
      "\t561 : cat1 [CATEGORICAL]\n",
      "\t430 : cat8 [CATEGORICAL]\n",
      "\t391 : cat0 [CATEGORICAL]\n",
      "\t355 : cat14 [CATEGORICAL]\n",
      "\t314 : cont5 [NUMERICAL]\n",
      "\t280 : cat7 [CATEGORICAL]\n",
      "\t253 : cat4 [CATEGORICAL]\n",
      "\t208 : cat11 [CATEGORICAL]\n",
      "\t181 : cat2 [CATEGORICAL]\n",
      "\t156 : cont1 [NUMERICAL]\n",
      "\t155 : cat17 [CATEGORICAL]\n",
      "\t126 : cont6 [NUMERICAL]\n",
      "\t112 : cont2 [NUMERICAL]\n",
      "\t69 : cont8 [NUMERICAL]\n",
      "\t35 : cat13 [CATEGORICAL]\n",
      "\t11 : cont4 [NUMERICAL]\n",
      "\t9 : cont3 [NUMERICAL]\n",
      "\t4 : cont10 [NUMERICAL]\n",
      "\t4 : cat9 [CATEGORICAL]\n",
      "\t4 : cat5 [CATEGORICAL]\n",
      "\t3 : cat6 [CATEGORICAL]\n",
      "\t2 : cont7 [NUMERICAL]\n",
      "\t1 : cat3 [CATEGORICAL]\n",
      "\t1 : cat12 [CATEGORICAL]\n",
      "\n",
      "Attribute in nodes with depth <= 3:\n",
      "\t2060 : cat10 [CATEGORICAL]\n",
      "\t1865 : cat16 [CATEGORICAL]\n",
      "\t1448 : cat15 [CATEGORICAL]\n",
      "\t1145 : cat8 [CATEGORICAL]\n",
      "\t1096 : cat1 [CATEGORICAL]\n",
      "\t996 : cat18 [CATEGORICAL]\n",
      "\t862 : cont5 [NUMERICAL]\n",
      "\t841 : cat7 [CATEGORICAL]\n",
      "\t703 : cat0 [CATEGORICAL]\n",
      "\t666 : cat14 [CATEGORICAL]\n",
      "\t616 : cat4 [CATEGORICAL]\n",
      "\t456 : cat2 [CATEGORICAL]\n",
      "\t429 : cat11 [CATEGORICAL]\n",
      "\t394 : cont1 [NUMERICAL]\n",
      "\t305 : cont2 [NUMERICAL]\n",
      "\t300 : cont6 [NUMERICAL]\n",
      "\t275 : cat17 [CATEGORICAL]\n",
      "\t197 : cont8 [NUMERICAL]\n",
      "\t121 : cat13 [CATEGORICAL]\n",
      "\t72 : cat5 [CATEGORICAL]\n",
      "\t32 : cat6 [CATEGORICAL]\n",
      "\t31 : cont3 [NUMERICAL]\n",
      "\t30 : cont4 [NUMERICAL]\n",
      "\t17 : cont7 [NUMERICAL]\n",
      "\t16 : cat9 [CATEGORICAL]\n",
      "\t11 : cont10 [NUMERICAL]\n",
      "\t7 : cont9 [NUMERICAL]\n",
      "\t3 : cont0 [NUMERICAL]\n",
      "\t3 : cat3 [CATEGORICAL]\n",
      "\t3 : cat12 [CATEGORICAL]\n",
      "\n",
      "Attribute in nodes with depth <= 5:\n",
      "\t10746 : cat10 [CATEGORICAL]\n",
      "\t6291 : cat8 [CATEGORICAL]\n",
      "\t6254 : cat7 [CATEGORICAL]\n",
      "\t4404 : cat16 [CATEGORICAL]\n",
      "\t4243 : cat1 [CATEGORICAL]\n",
      "\t3941 : cont5 [NUMERICAL]\n",
      "\t3302 : cat15 [CATEGORICAL]\n",
      "\t2377 : cat4 [CATEGORICAL]\n",
      "\t2298 : cat2 [CATEGORICAL]\n",
      "\t2101 : cat18 [CATEGORICAL]\n",
      "\t1992 : cat14 [CATEGORICAL]\n",
      "\t1906 : cat0 [CATEGORICAL]\n",
      "\t1673 : cont1 [NUMERICAL]\n",
      "\t1596 : cont2 [NUMERICAL]\n",
      "\t1575 : cont6 [NUMERICAL]\n",
      "\t1368 : cat11 [CATEGORICAL]\n",
      "\t1125 : cat5 [CATEGORICAL]\n",
      "\t981 : cont8 [NUMERICAL]\n",
      "\t937 : cat17 [CATEGORICAL]\n",
      "\t616 : cat13 [CATEGORICAL]\n",
      "\t582 : cont3 [NUMERICAL]\n",
      "\t547 : cat6 [CATEGORICAL]\n",
      "\t373 : cont4 [NUMERICAL]\n",
      "\t309 : cont7 [NUMERICAL]\n",
      "\t285 : cont9 [NUMERICAL]\n",
      "\t239 : cont10 [NUMERICAL]\n",
      "\t214 : cat9 [CATEGORICAL]\n",
      "\t199 : cont0 [NUMERICAL]\n",
      "\t109 : cat3 [CATEGORICAL]\n",
      "\t34 : cat12 [CATEGORICAL]\n",
      "\n",
      "Condition type in nodes:\n",
      "\t2062994 : HigherCondition\n",
      "\t1911013 : ContainsBitmapCondition\n",
      "\t296028 : ContainsCondition\n",
      "Condition type in nodes with depth <= 0:\n",
      "\t993 : ContainsBitmapCondition\n",
      "\t7 : HigherCondition\n",
      "Condition type in nodes with depth <= 1:\n",
      "\t2820 : ContainsBitmapCondition\n",
      "\t180 : HigherCondition\n",
      "Condition type in nodes with depth <= 2:\n",
      "\t6197 : ContainsBitmapCondition\n",
      "\t803 : HigherCondition\n",
      "Condition type in nodes with depth <= 3:\n",
      "\t12843 : ContainsBitmapCondition\n",
      "\t2157 : HigherCondition\n",
      "Condition type in nodes with depth <= 5:\n",
      "\t50659 : ContainsBitmapCondition\n",
      "\t11753 : HigherCondition\n",
      "\t205 : ContainsCondition\n",
      "Node format: NOT_SET\n",
      "\n",
      "Training OOB:\n",
      "\ttrees: 1, Out-of-bag evaluation: accuracy:0.816403 logloss:6.61749\n",
      "\ttrees: 11, Out-of-bag evaluation: accuracy:0.832066 logloss:3.2073\n",
      "\ttrees: 21, Out-of-bag evaluation: accuracy:0.838745 logloss:2.19894\n",
      "\ttrees: 31, Out-of-bag evaluation: accuracy:0.840679 logloss:1.79419\n",
      "\ttrees: 41, Out-of-bag evaluation: accuracy:0.841608 logloss:1.55631\n",
      "\ttrees: 51, Out-of-bag evaluation: accuracy:0.842108 logloss:1.4081\n",
      "\ttrees: 61, Out-of-bag evaluation: accuracy:0.842971 logloss:1.29087\n",
      "\ttrees: 71, Out-of-bag evaluation: accuracy:0.842975 logloss:1.20261\n",
      "\ttrees: 81, Out-of-bag evaluation: accuracy:0.843358 logloss:1.13507\n",
      "\ttrees: 91, Out-of-bag evaluation: accuracy:0.843629 logloss:1.07764\n",
      "\ttrees: 101, Out-of-bag evaluation: accuracy:0.843783 logloss:1.02965\n",
      "\ttrees: 111, Out-of-bag evaluation: accuracy:0.844008 logloss:0.988601\n",
      "\ttrees: 121, Out-of-bag evaluation: accuracy:0.844142 logloss:0.953668\n",
      "\ttrees: 131, Out-of-bag evaluation: accuracy:0.844175 logloss:0.920269\n",
      "\ttrees: 141, Out-of-bag evaluation: accuracy:0.844446 logloss:0.890061\n",
      "\ttrees: 151, Out-of-bag evaluation: accuracy:0.844362 logloss:0.86785\n",
      "\ttrees: 161, Out-of-bag evaluation: accuracy:0.844508 logloss:0.841134\n",
      "\ttrees: 171, Out-of-bag evaluation: accuracy:0.844354 logloss:0.821922\n",
      "\ttrees: 181, Out-of-bag evaluation: accuracy:0.844442 logloss:0.802552\n",
      "\ttrees: 191, Out-of-bag evaluation: accuracy:0.844658 logloss:0.787306\n",
      "\ttrees: 201, Out-of-bag evaluation: accuracy:0.844717 logloss:0.773478\n",
      "\ttrees: 211, Out-of-bag evaluation: accuracy:0.844671 logloss:0.759856\n",
      "\ttrees: 221, Out-of-bag evaluation: accuracy:0.844729 logloss:0.746024\n",
      "\ttrees: 231, Out-of-bag evaluation: accuracy:0.844433 logloss:0.735144\n",
      "\ttrees: 241, Out-of-bag evaluation: accuracy:0.8446 logloss:0.722001\n",
      "\ttrees: 251, Out-of-bag evaluation: accuracy:0.844654 logloss:0.710251\n",
      "\ttrees: 261, Out-of-bag evaluation: accuracy:0.844546 logloss:0.699774\n",
      "\ttrees: 271, Out-of-bag evaluation: accuracy:0.844787 logloss:0.690388\n",
      "\ttrees: 281, Out-of-bag evaluation: accuracy:0.844758 logloss:0.681712\n",
      "\ttrees: 291, Out-of-bag evaluation: accuracy:0.844767 logloss:0.673597\n",
      "\ttrees: 301, Out-of-bag evaluation: accuracy:0.844925 logloss:0.66515\n",
      "\ttrees: 311, Out-of-bag evaluation: accuracy:0.844825 logloss:0.656864\n",
      "\ttrees: 321, Out-of-bag evaluation: accuracy:0.844896 logloss:0.65113\n",
      "\ttrees: 331, Out-of-bag evaluation: accuracy:0.844867 logloss:0.645328\n",
      "\ttrees: 341, Out-of-bag evaluation: accuracy:0.8448 logloss:0.6365\n",
      "\ttrees: 351, Out-of-bag evaluation: accuracy:0.844854 logloss:0.629948\n",
      "\ttrees: 361, Out-of-bag evaluation: accuracy:0.8448 logloss:0.624671\n",
      "\ttrees: 371, Out-of-bag evaluation: accuracy:0.8449 logloss:0.619589\n",
      "\ttrees: 381, Out-of-bag evaluation: accuracy:0.844825 logloss:0.614063\n",
      "\ttrees: 391, Out-of-bag evaluation: accuracy:0.8448 logloss:0.609375\n",
      "\ttrees: 401, Out-of-bag evaluation: accuracy:0.844825 logloss:0.60585\n",
      "\ttrees: 411, Out-of-bag evaluation: accuracy:0.844913 logloss:0.59974\n",
      "\ttrees: 421, Out-of-bag evaluation: accuracy:0.84485 logloss:0.595167\n",
      "\ttrees: 431, Out-of-bag evaluation: accuracy:0.844883 logloss:0.590952\n",
      "\ttrees: 441, Out-of-bag evaluation: accuracy:0.844871 logloss:0.587157\n",
      "\ttrees: 451, Out-of-bag evaluation: accuracy:0.844804 logloss:0.584315\n",
      "\ttrees: 461, Out-of-bag evaluation: accuracy:0.844729 logloss:0.581269\n",
      "\ttrees: 471, Out-of-bag evaluation: accuracy:0.844758 logloss:0.579259\n",
      "\ttrees: 481, Out-of-bag evaluation: accuracy:0.844725 logloss:0.575503\n",
      "\ttrees: 491, Out-of-bag evaluation: accuracy:0.844858 logloss:0.571546\n",
      "\ttrees: 501, Out-of-bag evaluation: accuracy:0.844883 logloss:0.568497\n",
      "\ttrees: 511, Out-of-bag evaluation: accuracy:0.8448 logloss:0.564783\n",
      "\ttrees: 521, Out-of-bag evaluation: accuracy:0.844775 logloss:0.561397\n",
      "\ttrees: 531, Out-of-bag evaluation: accuracy:0.8447 logloss:0.558539\n",
      "\ttrees: 541, Out-of-bag evaluation: accuracy:0.844775 logloss:0.55557\n",
      "\ttrees: 551, Out-of-bag evaluation: accuracy:0.844675 logloss:0.553646\n",
      "\ttrees: 561, Out-of-bag evaluation: accuracy:0.844696 logloss:0.550641\n",
      "\ttrees: 571, Out-of-bag evaluation: accuracy:0.844854 logloss:0.548982\n",
      "\ttrees: 581, Out-of-bag evaluation: accuracy:0.8448 logloss:0.546651\n",
      "\ttrees: 591, Out-of-bag evaluation: accuracy:0.844858 logloss:0.543606\n",
      "\ttrees: 601, Out-of-bag evaluation: accuracy:0.844758 logloss:0.541649\n",
      "\ttrees: 611, Out-of-bag evaluation: accuracy:0.84485 logloss:0.539859\n",
      "\ttrees: 621, Out-of-bag evaluation: accuracy:0.844833 logloss:0.538237\n",
      "\ttrees: 631, Out-of-bag evaluation: accuracy:0.844983 logloss:0.535158\n",
      "\ttrees: 641, Out-of-bag evaluation: accuracy:0.844879 logloss:0.532877\n",
      "\ttrees: 651, Out-of-bag evaluation: accuracy:0.844921 logloss:0.531266\n",
      "\ttrees: 661, Out-of-bag evaluation: accuracy:0.844729 logloss:0.529737\n",
      "\ttrees: 671, Out-of-bag evaluation: accuracy:0.844892 logloss:0.527666\n",
      "\ttrees: 681, Out-of-bag evaluation: accuracy:0.844925 logloss:0.526716\n",
      "\ttrees: 691, Out-of-bag evaluation: accuracy:0.844883 logloss:0.524655\n",
      "\ttrees: 701, Out-of-bag evaluation: accuracy:0.844883 logloss:0.523189\n",
      "\ttrees: 711, Out-of-bag evaluation: accuracy:0.844854 logloss:0.521282\n",
      "\ttrees: 721, Out-of-bag evaluation: accuracy:0.844846 logloss:0.519799\n",
      "\ttrees: 731, Out-of-bag evaluation: accuracy:0.844758 logloss:0.518027\n",
      "\ttrees: 741, Out-of-bag evaluation: accuracy:0.8449 logloss:0.516383\n",
      "\ttrees: 751, Out-of-bag evaluation: accuracy:0.844863 logloss:0.514451\n",
      "\ttrees: 761, Out-of-bag evaluation: accuracy:0.84475 logloss:0.512452\n",
      "\ttrees: 771, Out-of-bag evaluation: accuracy:0.844792 logloss:0.511283\n",
      "\ttrees: 781, Out-of-bag evaluation: accuracy:0.844813 logloss:0.510415\n",
      "\ttrees: 791, Out-of-bag evaluation: accuracy:0.844729 logloss:0.508771\n",
      "\ttrees: 801, Out-of-bag evaluation: accuracy:0.844846 logloss:0.507968\n",
      "\ttrees: 811, Out-of-bag evaluation: accuracy:0.844871 logloss:0.506954\n",
      "\ttrees: 821, Out-of-bag evaluation: accuracy:0.844867 logloss:0.505972\n",
      "\ttrees: 831, Out-of-bag evaluation: accuracy:0.844867 logloss:0.504338\n",
      "\ttrees: 841, Out-of-bag evaluation: accuracy:0.844908 logloss:0.503295\n",
      "\ttrees: 851, Out-of-bag evaluation: accuracy:0.844875 logloss:0.501864\n",
      "\ttrees: 861, Out-of-bag evaluation: accuracy:0.8449 logloss:0.500835\n",
      "\ttrees: 871, Out-of-bag evaluation: accuracy:0.844846 logloss:0.499087\n",
      "\ttrees: 881, Out-of-bag evaluation: accuracy:0.844821 logloss:0.498111\n",
      "\ttrees: 891, Out-of-bag evaluation: accuracy:0.844833 logloss:0.496749\n",
      "\ttrees: 901, Out-of-bag evaluation: accuracy:0.84495 logloss:0.495329\n",
      "\ttrees: 911, Out-of-bag evaluation: accuracy:0.8449 logloss:0.494576\n",
      "\ttrees: 921, Out-of-bag evaluation: accuracy:0.84485 logloss:0.49405\n",
      "\ttrees: 931, Out-of-bag evaluation: accuracy:0.844858 logloss:0.492979\n",
      "\ttrees: 941, Out-of-bag evaluation: accuracy:0.844863 logloss:0.492595\n",
      "\ttrees: 951, Out-of-bag evaluation: accuracy:0.844908 logloss:0.492072\n",
      "\ttrees: 961, Out-of-bag evaluation: accuracy:0.844921 logloss:0.490501\n",
      "\ttrees: 971, Out-of-bag evaluation: accuracy:0.844871 logloss:0.489819\n",
      "\ttrees: 981, Out-of-bag evaluation: accuracy:0.844871 logloss:0.489058\n",
      "\ttrees: 991, Out-of-bag evaluation: accuracy:0.8449 logloss:0.488168\n",
      "\ttrees: 1000, Out-of-bag evaluation: accuracy:0.844867 logloss:0.487805\n",
      "\n"
     ]
    }
   ],
   "source": [
    "Final_model.summary()"
   ]
  },
  {
   "cell_type": "code",
   "execution_count": 52,
   "metadata": {
    "colab": {
     "base_uri": "https://localhost:8080/"
    },
    "id": "I11cWpq29FJc",
    "outputId": "930c22f5-c4d6-4550-cdaf-14f877c226b1"
   },
   "outputs": [
    {
     "name": "stdout",
     "output_type": "stream",
     "text": [
      "938/938 [==============================] - 35s 36ms/step - loss: 0.0000e+00 - accuracy: 0.8465 - auc: 0.8750\n",
      "\n",
      "loss: 0.0000\n",
      "accuracy: 0.8465\n",
      "auc: 0.8750\n"
     ]
    }
   ],
   "source": [
    "Final_eval = Final_model.evaluate(tfds_valid, return_dict=True)\n",
    "print()\n",
    "\n",
    "for name, value in Final_eval.items():\n",
    "    print(f\"{name}: {value:.4f}\")"
   ]
  },
  {
   "cell_type": "code",
   "execution_count": 53,
   "metadata": {
    "colab": {
     "base_uri": "https://localhost:8080/",
     "height": 404
    },
    "id": "iT3zt_w-9Bul",
    "outputId": "0b39579c-0070-4247-b785-643fd8965fca"
   },
   "outputs": [],
   "source": [
    "# Plot the model using Google Colab\n",
    "# tfdf.model_plotter.plot_model_in_colab(Final_model)"
   ]
  },
  {
   "cell_type": "markdown",
   "metadata": {
    "id": "vAzsJd7g9Oqi"
   },
   "source": [
    "### 5.b) Load Test Dataset and Make Predictions"
   ]
  },
  {
   "cell_type": "code",
   "execution_count": 54,
   "metadata": {},
   "outputs": [
    {
     "name": "stdout",
     "output_type": "stream",
     "text": [
      "--2021-11-24 01:27:30--  https://dainesanalytics.com/datasets/kaggle-tabular-playground-2021mar/test.csv\n",
      "Resolving dainesanalytics.com (dainesanalytics.com)... 13.226.228.58, 13.226.228.118, 13.226.228.127, ...\n",
      "Connecting to dainesanalytics.com (dainesanalytics.com)|13.226.228.58|:443... connected.\n",
      "HTTP request sent, awaiting response... 200 OK\n",
      "Length: 51558587 (49M) [text/csv]\n",
      "Saving to: ‘test.csv’\n",
      "\n",
      "test.csv            100%[===================>]  49.17M  4.27MB/s    in 11s     \n",
      "\n",
      "2021-11-24 01:27:46 (4.66 MB/s) - ‘test.csv’ saved [51558587/51558587]\n",
      "\n"
     ]
    }
   ],
   "source": [
    "if not os.path.exists(TEST_DATASET):\n",
    "    !wget https://dainesanalytics.com/datasets/kaggle-tabular-playground-2021mar/test.csv"
   ]
  },
  {
   "cell_type": "code",
   "execution_count": 55,
   "metadata": {
    "colab": {
     "base_uri": "https://localhost:8080/"
    },
    "id": "U8jDH1CW9QBI",
    "outputId": "b86d0970-8878-4d75-ab28-93142381ca7e"
   },
   "outputs": [
    {
     "name": "stdout",
     "output_type": "stream",
     "text": [
      "   id cat0 cat1 cat2 cat3 cat4 cat5 cat6 cat7 cat8  ...     cont1     cont2  \\\n",
      "0   5    A    F    A    A    F   BI    A   AH   AX  ...  0.735690  0.578366   \n",
      "1   6    A    H    C    A    E   AB    I    F    N  ...  0.313703  0.928885   \n",
      "2   8    A    N    C    A    F   AB    A   AH   BC  ...  0.448201  0.424876   \n",
      "3   9    B    L    C    A    F   BI    A    E   AX  ...  0.666092  0.598943   \n",
      "4  11    A    F    A    B    F   BI    A   AH    I  ...  0.772229  0.479572   \n",
      "\n",
      "      cont3     cont4     cont5     cont6     cont7     cont8     cont9  \\\n",
      "0  0.723154  0.228037  0.356227  0.551249  0.655693  0.598331  0.359987   \n",
      "1  0.516602  0.600169  0.795224  0.248987  0.654614  0.347944  0.565520   \n",
      "2  0.344729  0.242073  0.270632  0.746740  0.335590  0.341238  0.252289   \n",
      "3  0.561971  0.806347  0.735983  0.538724  0.381566  0.481660  0.348514   \n",
      "4  0.767745  0.252454  0.354810  0.178920  0.763479  0.562491  0.466261   \n",
      "\n",
      "     cont10  \n",
      "0  0.947489  \n",
      "1  0.388580  \n",
      "2  0.411592  \n",
      "3  0.325723  \n",
      "4  0.585781  \n",
      "\n",
      "[5 rows x 31 columns]\n"
     ]
    }
   ],
   "source": [
    "df_features_test = pd.read_csv(TEST_DATASET, index_col=False)\n",
    "\n",
    "# Take a peek at the dataframe after import\n",
    "print(df_features_test.head())"
   ]
  },
  {
   "cell_type": "code",
   "execution_count": 56,
   "metadata": {},
   "outputs": [],
   "source": [
    "# # Finalize the test dataset for the prediction activities\n",
    "# df_target_test = df_features_test['target']\n",
    "# df_features_test = df_features_test.drop(['target'], axis=1)\n",
    "# print(\"df_features_test.shape: {} df_target_test.shape: {}\".format(df_features_test.shape, df_target_test.shape))"
   ]
  },
  {
   "cell_type": "code",
   "execution_count": 57,
   "metadata": {},
   "outputs": [],
   "source": [
    "# # Finalize the test dataset for the modeling testing\n",
    "# array_features_test = preprocessor.transform(df_features_test)\n",
    "# array_target_test = df_target_test.ravel()\n",
    "# print(\"array_features_test.shape: {} array_target_test.shape: {}\".format(array_features_test.shape, array_target_test.shape))"
   ]
  },
  {
   "cell_type": "code",
   "execution_count": 58,
   "metadata": {},
   "outputs": [],
   "source": [
    "# test_predictions = test_model.predict(array_features_test)\n",
    "# print('RMSE for the model is: ', math.sqrt(metrics.mean_squared_error(array_target_test, test_predictions)))\n",
    "# print('R2 for the model is: ', metrics.r2_score(array_target_test, test_predictions))"
   ]
  },
  {
   "cell_type": "code",
   "execution_count": 59,
   "metadata": {
    "colab": {
     "base_uri": "https://localhost:8080/"
    },
    "id": "sEys8on49SGC",
    "outputId": "ee040a80-a574-48bc-d02a-9fae4e47e268"
   },
   "outputs": [
    {
     "name": "stdout",
     "output_type": "stream",
     "text": [
      "   id\n",
      "0   5\n",
      "1   6\n",
      "2   8\n",
      "3   9\n",
      "4  11\n"
     ]
    }
   ],
   "source": [
    "df_kaggle_submission = pd.DataFrame()\n",
    "df_kaggle_submission['id'] = df_features_test['id']\n",
    "print(df_kaggle_submission.head())"
   ]
  },
  {
   "cell_type": "code",
   "execution_count": 60,
   "metadata": {
    "colab": {
     "base_uri": "https://localhost:8080/"
    },
    "id": "M_Q32_pF9UJF",
    "outputId": "5e6596f7-8a86-45aa-a39b-c91ad6219734"
   },
   "outputs": [
    {
     "name": "stdout",
     "output_type": "stream",
     "text": [
      "  cat0 cat1 cat2 cat3 cat4 cat5 cat6 cat7 cat8 cat9  ...     cont1     cont2  \\\n",
      "0    A    F    A    A    F   BI    A   AH   AX    A  ...  0.735690  0.578366   \n",
      "1    A    H    C    A    E   AB    I    F    N    A  ...  0.313703  0.928885   \n",
      "2    A    N    C    A    F   AB    A   AH   BC    A  ...  0.448201  0.424876   \n",
      "3    B    L    C    A    F   BI    A    E   AX    A  ...  0.666092  0.598943   \n",
      "4    A    F    A    B    F   BI    A   AH    I    A  ...  0.772229  0.479572   \n",
      "\n",
      "      cont3     cont4     cont5     cont6     cont7     cont8     cont9  \\\n",
      "0  0.723154  0.228037  0.356227  0.551249  0.655693  0.598331  0.359987   \n",
      "1  0.516602  0.600169  0.795224  0.248987  0.654614  0.347944  0.565520   \n",
      "2  0.344729  0.242073  0.270632  0.746740  0.335590  0.341238  0.252289   \n",
      "3  0.561971  0.806347  0.735983  0.538724  0.381566  0.481660  0.348514   \n",
      "4  0.767745  0.252454  0.354810  0.178920  0.763479  0.562491  0.466261   \n",
      "\n",
      "     cont10  \n",
      "0  0.947489  \n",
      "1  0.388580  \n",
      "2  0.411592  \n",
      "3  0.325723  \n",
      "4  0.585781  \n",
      "\n",
      "[5 rows x 30 columns]\n"
     ]
    }
   ],
   "source": [
    "# Dropping features\n",
    "df_features_test.drop(columns=['id'], inplace=True)\n",
    "\n",
    "# Take a peek at the dataframe after cleaning\n",
    "print(df_features_test.head())"
   ]
  },
  {
   "cell_type": "code",
   "execution_count": 61,
   "metadata": {
    "id": "9hPuYzYP9VZ9"
   },
   "outputs": [],
   "source": [
    "# Finalize the test dataset for the prediction activities\n",
    "tfds_test = tfdf.keras.pd_dataframe_to_tf_dataset(df_features_test, task = tfdf.keras.Task.CLASSIFICATION)"
   ]
  },
  {
   "cell_type": "code",
   "execution_count": 62,
   "metadata": {
    "colab": {
     "base_uri": "https://localhost:8080/"
    },
    "id": "-fvgenmXwXjV",
    "outputId": "90fe95c9-87a0-4db4-8559-73fe096fa2c4"
   },
   "outputs": [
    {
     "name": "stdout",
     "output_type": "stream",
     "text": [
      "[[0.005     ]\n",
      " [0.38999853]\n",
      " [0.007     ]\n",
      " ...\n",
      " [0.71699435]\n",
      " [0.03      ]\n",
      " [0.3759987 ]]\n"
     ]
    }
   ],
   "source": [
    "# Make batched predictions\n",
    "test_predictions = Final_model.predict(tfds_test)\n",
    "print(test_predictions)"
   ]
  },
  {
   "cell_type": "code",
   "execution_count": 63,
   "metadata": {
    "colab": {
     "base_uri": "https://localhost:8080/"
    },
    "id": "URcNcruf9r8w",
    "outputId": "d5401843-0c3c-4a26-ec88-c4a2129fb98f"
   },
   "outputs": [
    {
     "name": "stdout",
     "output_type": "stream",
     "text": [
      "   id    target\n",
      "0   5  0.005000\n",
      "1   6  0.389999\n",
      "2   8  0.007000\n",
      "3   9  0.030000\n",
      "4  11  0.011000\n"
     ]
    }
   ],
   "source": [
    "df_kaggle_submission['target'] = test_predictions\n",
    "print(df_kaggle_submission.head())"
   ]
  },
  {
   "cell_type": "code",
   "execution_count": 64,
   "metadata": {
    "colab": {
     "base_uri": "https://localhost:8080/"
    },
    "id": "OWRZ-ue59uM5",
    "outputId": "510cb34a-43e6-4e0c-f337-cdfb0c2577d3"
   },
   "outputs": [],
   "source": [
    "# # Create the submission file\n",
    "# submission_file = df_kaggle_submission.to_csv(header=True, index=False)\n",
    "# filename = 'submission_' + datetime.now().strftime('%Y%m%d-%H%M') + '.csv'\n",
    "# with open(filename, 'w') as f:\n",
    "#     f.write(submission_file)\n",
    "#     print('Completed writing output file: ' + filename)"
   ]
  },
  {
   "cell_type": "code",
   "execution_count": 65,
   "metadata": {
    "id": "YB2v5Iq9wXjV"
   },
   "outputs": [],
   "source": [
    "if NOTIFY_STATUS: status_notify(\"Task 5 - Finalize Model and Present Analysis completed! \"+datetime.now().strftime('%a %B %d, %Y %I:%M:%S %p'))"
   ]
  },
  {
   "cell_type": "code",
   "execution_count": 66,
   "metadata": {
    "colab": {
     "base_uri": "https://localhost:8080/"
    },
    "id": "piIVF1NIwXjW",
    "outputId": "c7511d15-bfc7-4492-fef5-e3d368115997"
   },
   "outputs": [
    {
     "name": "stdout",
     "output_type": "stream",
     "text": [
      "Total time for the script: 0:36:14.121818\n"
     ]
    }
   ],
   "source": [
    "print ('Total time for the script:',(datetime.now() - start_time_script))"
   ]
  }
 ],
 "metadata": {
  "colab": {
   "collapsed_sections": [],
   "name": "py_decisionforests_regression_kaggle_tabular_playground_2021jan.ipynb",
   "provenance": []
  },
  "kernelspec": {
   "display_name": "Python 3 (ipykernel)",
   "language": "python",
   "name": "python3"
  },
  "language_info": {
   "codemirror_mode": {
    "name": "ipython",
    "version": 3
   },
   "file_extension": ".py",
   "mimetype": "text/x-python",
   "name": "python",
   "nbconvert_exporter": "python",
   "pygments_lexer": "ipython3",
   "version": "3.9.9"
  }
 },
 "nbformat": 4,
 "nbformat_minor": 4
}

{
  "cells": [
    {
      "cell_type": "markdown",
      "metadata": {
        "id": "N0i9cUafc3xv"
      },
      "source": [
        "# Binary-Class Tabular Model for Raisin Grains Identification Using Python and TensorFlow\n",
        "### David Lowe\n",
        "### May 13, 2022\n",
        "\n",
        "SUMMARY: The project aims to construct a predictive model using various machine learning algorithms and document the end-to-end steps using a template. The Raisin Grains Identification dataset is a binary-class modeling situation where we attempt to predict one of two possible outcomes.\n",
        "\n",
        "INTRODUCTION: In this study, the research team developed a computerized vision system to classify two different varieties of raisin grown in Turkey. The dataset contains the measurements for 900 raisin grain images. The image further broke down into seven major morphological features for each grain of raisin.\n",
        "\n",
        "ANALYSIS: The performance of the preliminary TensorFlow model achieved an accuracy benchmark of 86.05%. When we processed the test dataset with the final model, the model achieved an accuracy score of 91.11%.\n",
        "\n",
        "CONCLUSION: In this iteration, the TensorFlow model appeared to be suitable for modeling this dataset.\n",
        "\n",
        "Dataset Used: Raisin Dataset\n",
        "\n",
        "Dataset ML Model: Binary classification with numerical features\n",
        "\n",
        "Dataset Reference: https://www.muratkoklu.com/datasets/\n",
        "\n",
        "One source of potential performance benchmarks: https://doi.org/10.30855/gmbd.2020.03.03"
      ]
    },
    {
      "cell_type": "markdown",
      "metadata": {
        "id": "93QlaFtWc3xx"
      },
      "source": [
        "## Task 1 - Prepare Environment"
      ]
    },
    {
      "cell_type": "code",
      "execution_count": 1,
      "metadata": {
        "id": "kz6ycnDxc3xy",
        "outputId": "2e2c19b7-bf30-4757-f2ac-e736fe861b9f",
        "colab": {
          "base_uri": "https://localhost:8080/"
        }
      },
      "outputs": [
        {
          "output_type": "stream",
          "name": "stdout",
          "text": [
            "The number of available CPUs is: 2\n"
          ]
        }
      ],
      "source": [
        "# Retrieve the CPU information\n",
        "ncpu = !nproc\n",
        "print(\"The number of available CPUs is:\", ncpu[0])"
      ]
    },
    {
      "cell_type": "code",
      "execution_count": 2,
      "metadata": {
        "id": "PLfxbaBDc3xz",
        "outputId": "f84b8c52-8901-4b8c-ec68-b1f8526fad68",
        "colab": {
          "base_uri": "https://localhost:8080/"
        }
      },
      "outputs": [
        {
          "output_type": "stream",
          "name": "stdout",
          "text": [
            "Your runtime has 13.6 gigabytes of available RAM\n",
            "\n"
          ]
        }
      ],
      "source": [
        "# Retrieve the memory configuration\n",
        "from psutil import virtual_memory\n",
        "ram_gb = virtual_memory().total / 1e9\n",
        "print('Your runtime has {:.1f} gigabytes of available RAM\\n'.format(ram_gb))"
      ]
    },
    {
      "cell_type": "code",
      "execution_count": 3,
      "metadata": {
        "id": "lqFuSDE9c3x0",
        "outputId": "e934216a-2c5a-4045-acda-cf2d745a03bd",
        "colab": {
          "base_uri": "https://localhost:8080/"
        }
      },
      "outputs": [
        {
          "output_type": "stream",
          "name": "stdout",
          "text": [
            "Wed May  4 20:22:00 2022       \n",
            "+-----------------------------------------------------------------------------+\n",
            "| NVIDIA-SMI 460.32.03    Driver Version: 460.32.03    CUDA Version: 11.2     |\n",
            "|-------------------------------+----------------------+----------------------+\n",
            "| GPU  Name        Persistence-M| Bus-Id        Disp.A | Volatile Uncorr. ECC |\n",
            "| Fan  Temp  Perf  Pwr:Usage/Cap|         Memory-Usage | GPU-Util  Compute M. |\n",
            "|                               |                      |               MIG M. |\n",
            "|===============================+======================+======================|\n",
            "|   0  Tesla V100-SXM2...  Off  | 00000000:00:04.0 Off |                    0 |\n",
            "| N/A   41C    P0    24W / 300W |      0MiB / 16160MiB |      0%      Default |\n",
            "|                               |                      |                  N/A |\n",
            "+-------------------------------+----------------------+----------------------+\n",
            "                                                                               \n",
            "+-----------------------------------------------------------------------------+\n",
            "| Processes:                                                                  |\n",
            "|  GPU   GI   CI        PID   Type   Process name                  GPU Memory |\n",
            "|        ID   ID                                                   Usage      |\n",
            "|=============================================================================|\n",
            "|  No running processes found                                                 |\n",
            "+-----------------------------------------------------------------------------+\n"
          ]
        }
      ],
      "source": [
        "# Retrieve the GPU information\n",
        "gpu_info = !nvidia-smi\n",
        "gpu_info = '\\n'.join(gpu_info)\n",
        "print(gpu_info)"
      ]
    },
    {
      "cell_type": "markdown",
      "metadata": {
        "id": "WR7E1tuNc3x0"
      },
      "source": [
        "### 1.a) Load libraries and modules"
      ]
    },
    {
      "cell_type": "code",
      "execution_count": 4,
      "metadata": {
        "id": "jB8UtkV3c3x0"
      },
      "outputs": [],
      "source": [
        "# Set the random seed number for reproducible results\n",
        "RNG_SEED = 888"
      ]
    },
    {
      "cell_type": "code",
      "execution_count": 5,
      "metadata": {
        "id": "bOK-K8wvc3x1"
      },
      "outputs": [],
      "source": [
        "import random\n",
        "random.seed(RNG_SEED)\n",
        "import numpy as np\n",
        "np.random.seed(RNG_SEED)\n",
        "import pandas as pd\n",
        "import seaborn as sns\n",
        "import matplotlib.pyplot as plt\n",
        "import os\n",
        "import sys\n",
        "import math\n",
        "# import boto3\n",
        "from datetime import datetime\n",
        "from sklearn import preprocessing\n",
        "from sklearn.model_selection import train_test_split\n",
        "from sklearn.model_selection import RepeatedKFold\n",
        "from sklearn.model_selection import cross_val_score\n",
        "from sklearn.metrics import classification_report\n",
        "from sklearn.metrics import confusion_matrix\n",
        "from sklearn.metrics import accuracy_score\n",
        "from sklearn.metrics import roc_auc_score\n",
        "from sklearn.pipeline import Pipeline\n",
        "from sklearn import compose\n",
        "from sklearn import impute\n",
        "\n",
        "# from sklearn.feature_selection import RFE\n",
        "# from imblearn.pipeline import Pipeline\n",
        "# from imblearn.over_sampling import SMOTE\n",
        "# from imblearn.under_sampling import RandomUnderSampler\n",
        "\n",
        "import tensorflow as tf\n",
        "tf.random.set_seed(RNG_SEED)\n",
        "from tensorflow import keras\n",
        "from tensorflow.keras.callbacks import ReduceLROnPlateau"
      ]
    },
    {
      "cell_type": "markdown",
      "metadata": {
        "id": "uEJRgi0Yc3x2"
      },
      "source": [
        "### 1.b) Set up the controlling parameters and functions"
      ]
    },
    {
      "cell_type": "code",
      "execution_count": 6,
      "metadata": {
        "id": "q49EKISLc3x2"
      },
      "outputs": [],
      "source": [
        "# Begin the timer for the script processing\n",
        "START_TIME_SCRIPT = datetime.now()"
      ]
    },
    {
      "cell_type": "code",
      "execution_count": 7,
      "metadata": {
        "id": "lXId0EvIc3x2",
        "outputId": "70578e4c-b8e3-45b2-8a02-d33d2df7a458",
        "colab": {
          "base_uri": "https://localhost:8080/"
        }
      },
      "outputs": [
        {
          "output_type": "stream",
          "name": "stdout",
          "text": [
            "Num GPUs Available: 1\n",
            "TensorFlow version: 2.8.0\n"
          ]
        }
      ],
      "source": [
        "# Set up the number of CPU cores available for multi-thread processing\n",
        "N_JOBS = 1\n",
        "\n",
        "# Set up the flag to stop sending progress emails (setting to True will send status emails!)\n",
        "NOTIFY_STATUS = False\n",
        "\n",
        "# Set the percentage sizes for splitting the dataset\n",
        "TEST_SET_RATIO = 0.1\n",
        "VAL_SET_RATIO = 0.1\n",
        "\n",
        "# Set the number of folds for cross validation\n",
        "N_FOLDS = 5\n",
        "N_ITERATIONS = 1\n",
        "\n",
        "# Set various default modeling parameters\n",
        "DEFAULT_LOSS = 'binary_crossentropy'\n",
        "DEFAULT_METRICS = ['accuracy']\n",
        "DEFAULT_OPTIMIZER = tf.keras.optimizers.Adam(learning_rate=0.0001)\n",
        "CLASSIFIER_ACTIVATION = 'sigmoid'\n",
        "MAX_EPOCHS = 50\n",
        "BATCH_SIZE = 32\n",
        "\n",
        "# Define the labels to use for graphing the data\n",
        "TRAIN_METRIC = \"auc\"\n",
        "VALIDATION_METRIC = \"val_auc\"\n",
        "TRAIN_LOSS = \"loss\"\n",
        "VALIDATION_LOSS = \"val_loss\"\n",
        "\n",
        "# Check the number of GPUs accessible through TensorFlow\n",
        "print('Num GPUs Available:', len(tf.config.list_physical_devices('GPU')))\n",
        "\n",
        "# Print out the TensorFlow version for confirmation\n",
        "print('TensorFlow version:', tf.__version__)"
      ]
    },
    {
      "cell_type": "code",
      "execution_count": 8,
      "metadata": {
        "id": "LAv2VYnXc3x3"
      },
      "outputs": [],
      "source": [
        "# Set up the email notification function\n",
        "def status_notify(msg_text):\n",
        "    access_key = os.environ.get('SNS_ACCESS_KEY')\n",
        "    secret_key = os.environ.get('SNS_SECRET_KEY')\n",
        "    aws_region = os.environ.get('SNS_AWS_REGION')\n",
        "    topic_arn = os.environ.get('SNS_TOPIC_ARN')\n",
        "    if (access_key is None) or (secret_key is None) or (aws_region is None):\n",
        "        sys.exit(\"Incomplete notification setup info. Script Processing Aborted!!!\")\n",
        "    sns = boto3.client('sns', aws_access_key_id=access_key, aws_secret_access_key=secret_key, region_name=aws_region)\n",
        "    response = sns.publish(TopicArn=topic_arn, Message=msg_text)\n",
        "    if response['ResponseMetadata']['HTTPStatusCode'] != 200 :\n",
        "        print('Status notification not OK with HTTP status code:', response['ResponseMetadata']['HTTPStatusCode'])"
      ]
    },
    {
      "cell_type": "code",
      "execution_count": 9,
      "metadata": {
        "id": "O865JI5Bc3x4"
      },
      "outputs": [],
      "source": [
        "if NOTIFY_STATUS: status_notify(\"Task 1 - Prepare Environment has begun! \" + datetime.now().strftime('%a %B %d, %Y %I:%M:%S %p'))"
      ]
    },
    {
      "cell_type": "markdown",
      "metadata": {
        "id": "6l8QS9W0c3x4"
      },
      "source": [
        "### 1.c) Load dataset"
      ]
    },
    {
      "cell_type": "code",
      "execution_count": 10,
      "metadata": {
        "id": "sZbhcDYKc3x4",
        "outputId": "4490941e-d8ef-4fbb-88c3-137cbf6b0ed2",
        "colab": {
          "base_uri": "https://localhost:8080/"
        }
      },
      "outputs": [
        {
          "output_type": "stream",
          "name": "stdout",
          "text": [
            "    Area  Major_Axis_Length  Minor_Axis_Length  Eccentricity  Convex_Area  \\\n",
            "0  87524         442.246011         253.291155      0.819738        90546   \n",
            "1  75166         406.690687         243.032436      0.801805        78789   \n",
            "2  90856         442.267048         266.328318      0.798354        93717   \n",
            "3  45928         286.540559         208.760042      0.684989        47336   \n",
            "4  79408         352.190770         290.827533      0.564011        81463   \n",
            "\n",
            "     Extent  Perimeter    Class  \n",
            "0  0.758651   1184.040  Kecimen  \n",
            "1  0.684130   1121.786  Kecimen  \n",
            "2  0.637613   1208.575  Kecimen  \n",
            "3  0.699599    844.162  Kecimen  \n",
            "4  0.792772   1073.251  Kecimen  \n"
          ]
        }
      ],
      "source": [
        "dataset_path = 'https://dainesanalytics.com/datasets/muratkoklu-raisin-grains-dataset/Raisin_Dataset.arff'\n",
        "colNames = ['Area','Major_Axis_Length','Minor_Axis_Length','Eccentricity','Convex_Area','Extent','Perimeter','Class']\n",
        "df_dataset_import = pd.read_csv(dataset_path, names=colNames, sep=',', header=None, index_col=False, skiprows=20)\n",
        "\n",
        "# Take a peek at the dataframe after import\n",
        "print(df_dataset_import.head())"
      ]
    },
    {
      "cell_type": "code",
      "execution_count": 11,
      "metadata": {
        "id": "EUcB6qtyc3x4",
        "outputId": "597a6841-c476-4159-89d5-d7a1792562f6",
        "colab": {
          "base_uri": "https://localhost:8080/"
        }
      },
      "outputs": [
        {
          "output_type": "stream",
          "name": "stdout",
          "text": [
            "<class 'pandas.core.frame.DataFrame'>\n",
            "RangeIndex: 900 entries, 0 to 899\n",
            "Data columns (total 8 columns):\n",
            " #   Column             Non-Null Count  Dtype  \n",
            "---  ------             --------------  -----  \n",
            " 0   Area               900 non-null    int64  \n",
            " 1   Major_Axis_Length  900 non-null    float64\n",
            " 2   Minor_Axis_Length  900 non-null    float64\n",
            " 3   Eccentricity       900 non-null    float64\n",
            " 4   Convex_Area        900 non-null    int64  \n",
            " 5   Extent             900 non-null    float64\n",
            " 6   Perimeter          900 non-null    float64\n",
            " 7   Class              900 non-null    object \n",
            "dtypes: float64(5), int64(2), object(1)\n",
            "memory usage: 56.4+ KB\n"
          ]
        }
      ],
      "source": [
        "df_dataset_import.info(verbose=True)"
      ]
    },
    {
      "cell_type": "code",
      "execution_count": 12,
      "metadata": {
        "id": "__mt_8qvc3x5",
        "outputId": "19b46d9f-8abd-4e71-f702-e6e35351c849",
        "colab": {
          "base_uri": "https://localhost:8080/"
        }
      },
      "outputs": [
        {
          "output_type": "stream",
          "name": "stdout",
          "text": [
            "                Area  Major_Axis_Length  Minor_Axis_Length  Eccentricity  \\\n",
            "count     900.000000         900.000000         900.000000    900.000000   \n",
            "mean    87804.127778         430.929950         254.488133      0.781542   \n",
            "std     39002.111390         116.035121          49.988902      0.090318   \n",
            "min     25387.000000         225.629541         143.710872      0.348730   \n",
            "25%     59348.000000         345.442898         219.111126      0.741766   \n",
            "50%     78902.000000         407.803951         247.848409      0.798846   \n",
            "75%    105028.250000         494.187014         279.888575      0.842571   \n",
            "max    235047.000000         997.291941         492.275279      0.962124   \n",
            "\n",
            "         Convex_Area      Extent    Perimeter  \n",
            "count     900.000000  900.000000   900.000000  \n",
            "mean    91186.090000    0.699508  1165.906636  \n",
            "std     40769.290132    0.053468   273.764315  \n",
            "min     26139.000000    0.379856   619.074000  \n",
            "25%     61513.250000    0.670869   966.410750  \n",
            "50%     81651.000000    0.707367  1119.509000  \n",
            "75%    108375.750000    0.734991  1308.389750  \n",
            "max    278217.000000    0.835455  2697.753000  \n"
          ]
        }
      ],
      "source": [
        "print(df_dataset_import.describe())"
      ]
    },
    {
      "cell_type": "code",
      "execution_count": 13,
      "metadata": {
        "id": "XXmrMa3cc3x5",
        "outputId": "43c09261-f49b-402b-dd8d-64cce2db2e63",
        "colab": {
          "base_uri": "https://localhost:8080/"
        }
      },
      "outputs": [
        {
          "output_type": "stream",
          "name": "stdout",
          "text": [
            "Area                 0\n",
            "Major_Axis_Length    0\n",
            "Minor_Axis_Length    0\n",
            "Eccentricity         0\n",
            "Convex_Area          0\n",
            "Extent               0\n",
            "Perimeter            0\n",
            "Class                0\n",
            "dtype: int64\n",
            "Total number of NaN in the dataframe:  0\n"
          ]
        }
      ],
      "source": [
        "print(df_dataset_import.isnull().sum())\n",
        "print('Total number of NaN in the dataframe: ', df_dataset_import.isnull().sum().sum())"
      ]
    },
    {
      "cell_type": "code",
      "execution_count": 14,
      "metadata": {
        "id": "gltei-Lcc3x5",
        "outputId": "dfd2b371-ad00-4ed3-9ff9-11d45425df95",
        "colab": {
          "base_uri": "https://localhost:8080/"
        }
      },
      "outputs": [
        {
          "output_type": "stream",
          "name": "stdout",
          "text": [
            "Class\n",
            "Besni      450\n",
            "Kecimen    450\n",
            "dtype: int64\n"
          ]
        }
      ],
      "source": [
        "# Get grouping size for the target variable\n",
        "print(df_dataset_import.groupby('Class').size())"
      ]
    },
    {
      "cell_type": "markdown",
      "metadata": {
        "id": "EhM2GYVoc3x5"
      },
      "source": [
        "### 1.d) Data Cleaning"
      ]
    },
    {
      "cell_type": "code",
      "execution_count": 15,
      "metadata": {
        "id": "5X1lxyACc3x5",
        "outputId": "e96a672a-4337-448b-bb41-ed636f297a53",
        "colab": {
          "base_uri": "https://localhost:8080/"
        }
      },
      "outputs": [
        {
          "output_type": "stream",
          "name": "stdout",
          "text": [
            "    Area  Major_Axis_Length  Minor_Axis_Length  Eccentricity  Convex_Area  \\\n",
            "0  87524         442.246011         253.291155      0.819738        90546   \n",
            "1  75166         406.690687         243.032436      0.801805        78789   \n",
            "2  90856         442.267048         266.328318      0.798354        93717   \n",
            "3  45928         286.540559         208.760042      0.684989        47336   \n",
            "4  79408         352.190770         290.827533      0.564011        81463   \n",
            "\n",
            "     Extent  Perimeter   target  \n",
            "0  0.758651   1184.040  Kecimen  \n",
            "1  0.684130   1121.786  Kecimen  \n",
            "2  0.637613   1208.575  Kecimen  \n",
            "3  0.699599    844.162  Kecimen  \n",
            "4  0.792772   1073.251  Kecimen  \n"
          ]
        }
      ],
      "source": [
        "# Standardize the class column to the name of targetVar if required\n",
        "df_dataset_import = df_dataset_import.rename(columns={'Class': 'target'})\n",
        "\n",
        "# Take a peek at the dataframe after cleaning\n",
        "print(df_dataset_import.head())"
      ]
    },
    {
      "cell_type": "code",
      "execution_count": 16,
      "metadata": {
        "id": "MEqUi2i-c3x6",
        "outputId": "4d865518-bf9a-4a7d-a9c9-ca300e8e7b43",
        "colab": {
          "base_uri": "https://localhost:8080/"
        }
      },
      "outputs": [
        {
          "output_type": "stream",
          "name": "stdout",
          "text": [
            "<class 'pandas.core.frame.DataFrame'>\n",
            "RangeIndex: 900 entries, 0 to 899\n",
            "Data columns (total 8 columns):\n",
            " #   Column             Non-Null Count  Dtype  \n",
            "---  ------             --------------  -----  \n",
            " 0   Area               900 non-null    int64  \n",
            " 1   Major_Axis_Length  900 non-null    float64\n",
            " 2   Minor_Axis_Length  900 non-null    float64\n",
            " 3   Eccentricity       900 non-null    float64\n",
            " 4   Convex_Area        900 non-null    int64  \n",
            " 5   Extent             900 non-null    float64\n",
            " 6   Perimeter          900 non-null    float64\n",
            " 7   target             900 non-null    object \n",
            "dtypes: float64(5), int64(2), object(1)\n",
            "memory usage: 56.4+ KB\n"
          ]
        }
      ],
      "source": [
        "df_dataset_import.info(verbose=True)"
      ]
    },
    {
      "cell_type": "code",
      "execution_count": 17,
      "metadata": {
        "id": "LbfIefNUc3x6",
        "outputId": "ed925200-78ad-4354-9419-235cfed1882d",
        "colab": {
          "base_uri": "https://localhost:8080/"
        }
      },
      "outputs": [
        {
          "output_type": "stream",
          "name": "stdout",
          "text": [
            "                Area  Major_Axis_Length  Minor_Axis_Length  Eccentricity  \\\n",
            "count     900.000000         900.000000         900.000000    900.000000   \n",
            "mean    87804.127778         430.929950         254.488133      0.781542   \n",
            "std     39002.111390         116.035121          49.988902      0.090318   \n",
            "min     25387.000000         225.629541         143.710872      0.348730   \n",
            "25%     59348.000000         345.442898         219.111126      0.741766   \n",
            "50%     78902.000000         407.803951         247.848409      0.798846   \n",
            "75%    105028.250000         494.187014         279.888575      0.842571   \n",
            "max    235047.000000         997.291941         492.275279      0.962124   \n",
            "\n",
            "         Convex_Area      Extent    Perimeter  \n",
            "count     900.000000  900.000000   900.000000  \n",
            "mean    91186.090000    0.699508  1165.906636  \n",
            "std     40769.290132    0.053468   273.764315  \n",
            "min     26139.000000    0.379856   619.074000  \n",
            "25%     61513.250000    0.670869   966.410750  \n",
            "50%     81651.000000    0.707367  1119.509000  \n",
            "75%    108375.750000    0.734991  1308.389750  \n",
            "max    278217.000000    0.835455  2697.753000  \n"
          ]
        }
      ],
      "source": [
        "print(df_dataset_import.describe())"
      ]
    },
    {
      "cell_type": "code",
      "execution_count": 18,
      "metadata": {
        "id": "He3KOAxac3x6",
        "outputId": "d32ed187-9eaf-4b30-aa58-17473885639e",
        "colab": {
          "base_uri": "https://localhost:8080/"
        }
      },
      "outputs": [
        {
          "output_type": "stream",
          "name": "stdout",
          "text": [
            "Area                 0\n",
            "Major_Axis_Length    0\n",
            "Minor_Axis_Length    0\n",
            "Eccentricity         0\n",
            "Convex_Area          0\n",
            "Extent               0\n",
            "Perimeter            0\n",
            "target               0\n",
            "dtype: int64\n",
            "Total number of NaN in the dataframe:  0\n"
          ]
        }
      ],
      "source": [
        "print(df_dataset_import.isnull().sum())\n",
        "print('Total number of NaN in the dataframe: ', df_dataset_import.isnull().sum().sum())"
      ]
    },
    {
      "cell_type": "code",
      "execution_count": 19,
      "metadata": {
        "id": "wIzfb2_Wc3x6",
        "outputId": "c80e51b2-3984-4d48-e73c-5d0a11d59939",
        "colab": {
          "base_uri": "https://localhost:8080/"
        }
      },
      "outputs": [
        {
          "output_type": "stream",
          "name": "stdout",
          "text": [
            "target\n",
            "Besni      450\n",
            "Kecimen    450\n",
            "dtype: int64\n"
          ]
        }
      ],
      "source": [
        "# Get grouping size for the target variable\n",
        "print(df_dataset_import.groupby('target').size())"
      ]
    },
    {
      "cell_type": "markdown",
      "metadata": {
        "id": "Qt9Et0Vac3x7"
      },
      "source": [
        "### 1.e) Splitting Data into Sets"
      ]
    },
    {
      "cell_type": "code",
      "execution_count": 20,
      "metadata": {
        "id": "dFvXH30Hc3x7",
        "outputId": "02ae8ca3-de09-4e8e-eb31-1d9b94343514",
        "colab": {
          "base_uri": "https://localhost:8080/"
        }
      },
      "outputs": [
        {
          "output_type": "stream",
          "name": "stdout",
          "text": [
            "df_dataset_import.shape: (900, 8) df_features_import.shape: (900, 7) df_target_import.shape: (900,)\n"
          ]
        }
      ],
      "source": [
        "# Use variable total_column_count to hold the number of columns in the dataframe\n",
        "total_column_count = len(df_dataset_import.columns)\n",
        "\n",
        "# Set up variable total_feature_count for the total number of attribute columns\n",
        "total_feature_count = total_column_count-1\n",
        "\n",
        "# We create attribute-only and target-only datasets (df_features_train and df_target_train)\n",
        "df_target_import = df_dataset_import['target']\n",
        "df_features_import = df_dataset_import.drop(['target'], axis=1)\n",
        "\n",
        "print(\"df_dataset_import.shape: {} df_features_import.shape: {} df_target_import.shape: {}\".format(df_dataset_import.shape, df_features_import.shape, df_target_import.shape))"
      ]
    },
    {
      "cell_type": "code",
      "execution_count": 21,
      "metadata": {
        "id": "fOeyPERQc3x7",
        "outputId": "704cf404-3a36-4c0c-ecc5-a38faffdbfcd",
        "colab": {
          "base_uri": "https://localhost:8080/"
        }
      },
      "outputs": [
        {
          "output_type": "stream",
          "name": "stdout",
          "text": [
            "df_features_train.shape: (810, 7) df_target_train.shape: (810,)\n",
            "df_features_test.shape: (90, 7) df_target_test.shape: (90,)\n"
          ]
        }
      ],
      "source": [
        "# Split the data further into training and test datasets\n",
        "df_features_train, df_features_test, df_target_train, df_target_test = train_test_split(df_features_import, df_target_import,\n",
        "                                                                                        test_size=TEST_SET_RATIO, random_state=RNG_SEED,\n",
        "                                                                                        stratify=df_target_import)\n",
        "print(\"df_features_train.shape: {} df_target_train.shape: {}\".format(df_features_train.shape, df_target_train.shape))\n",
        "print(\"df_features_test.shape: {} df_target_test.shape: {}\".format(df_features_test.shape, df_target_test.shape))"
      ]
    },
    {
      "cell_type": "markdown",
      "metadata": {
        "id": "ocO0Muwec3x7"
      },
      "source": [
        "### 1.f) Set up the parameters for data visualization"
      ]
    },
    {
      "cell_type": "code",
      "execution_count": 22,
      "metadata": {
        "id": "vQpQ_vVBc3x7"
      },
      "outputs": [],
      "source": [
        "# Set up the number of row and columns for visualization display. display_rows * display_columns should be >= total_feature_count\n",
        "display_columns = 4\n",
        "if total_feature_count % display_columns == 0 :\n",
        "    display_rows = total_feature_count // display_columns\n",
        "else :\n",
        "    display_rows = (total_feature_count // display_columns) + 1\n",
        "\n",
        "# Set figure width to display the data visualization plots\n",
        "fig_size = plt.rcParams[\"figure.figsize\"]\n",
        "fig_size[0] = display_columns * 4\n",
        "fig_size[1] = display_rows * 4\n",
        "plt.rcParams[\"figure.figsize\"] = fig_size"
      ]
    },
    {
      "cell_type": "code",
      "execution_count": 23,
      "metadata": {
        "id": "gfkjzhexc3x7"
      },
      "outputs": [],
      "source": [
        "if NOTIFY_STATUS: status_notify(\"Task 1 - Prepare Environment completed! \" + datetime.now().strftime('%a %B %d, %Y %I:%M:%S %p'))"
      ]
    },
    {
      "cell_type": "markdown",
      "metadata": {
        "id": "Ob7ii5bIc3x7"
      },
      "source": [
        "## Task 2 - Summarize and Visualize Data"
      ]
    },
    {
      "cell_type": "code",
      "execution_count": 24,
      "metadata": {
        "id": "1Zr8nqanc3x8"
      },
      "outputs": [],
      "source": [
        "if NOTIFY_STATUS: status_notify(\"Task 2 - Summarize and Visualize Data has begun! \" + datetime.now().strftime('%a %B %d, %Y %I:%M:%S %p'))"
      ]
    },
    {
      "cell_type": "code",
      "execution_count": 25,
      "metadata": {
        "id": "YS043Z8Sc3x8",
        "outputId": "af77e3d9-ab1a-419f-8d12-be1a660a0dbc",
        "colab": {
          "base_uri": "https://localhost:8080/",
          "height": 483
        }
      },
      "outputs": [
        {
          "output_type": "display_data",
          "data": {
            "text/plain": [
              "<Figure size 1152x576 with 8 Axes>"
            ],
            "image/png": "[encoded data removed]"
          },
          "metadata": {
            "needs_background": "light"
          }
        }
      ],
      "source": [
        "# Histograms for each attribute\n",
        "df_features_train.plot(kind='hist', subplots=True, layout=(display_rows, display_columns))\n",
        "plt.show()"
      ]
    },
    {
      "cell_type": "code",
      "execution_count": 26,
      "metadata": {
        "id": "R41mZnesc3x8",
        "outputId": "3f4f263f-a7cd-4c9d-da6a-260c8ad2e6e7",
        "colab": {
          "base_uri": "https://localhost:8080/",
          "height": 484
        }
      },
      "outputs": [
        {
          "output_type": "display_data",
          "data": {
            "text/plain": [
              "<Figure size 1152x576 with 8 Axes>"
            ],
            "image/png": "[encoded data removed]"
          },
          "metadata": {
            "needs_background": "light"
          }
        }
      ],
      "source": [
        "# Box and Whisker plot for each attribute\n",
        "df_features_train.plot(kind='box', subplots=True, layout=(display_rows, display_columns))\n",
        "plt.show()"
      ]
    },
    {
      "cell_type": "code",
      "execution_count": 27,
      "metadata": {
        "id": "HucwIEYlc3x8",
        "outputId": "6e6f9870-8037-4938-b1cb-c275d536ff14",
        "colab": {
          "base_uri": "https://localhost:8080/",
          "height": 1000
        }
      },
      "outputs": [
        {
          "output_type": "display_data",
          "data": {
            "text/plain": [
              "<Figure size 1440x1440 with 2 Axes>"
            ],
            "image/png": "[encoded data removed]"
          },
          "metadata": {
            "needs_background": "light"
          }
        }
      ],
      "source": [
        "# Correlation matrix\n",
        "fig = plt.figure(figsize=(20, 20))\n",
        "correlations = df_features_train.corr(method='pearson')\n",
        "sns.heatmap(correlations, annot=True, cmap=plt.cm.PuBu)\n",
        "plt.show()"
      ]
    },
    {
      "cell_type": "code",
      "execution_count": 28,
      "metadata": {
        "id": "S1pKBhQlc3x8"
      },
      "outputs": [],
      "source": [
        "if NOTIFY_STATUS: status_notify(\"Task 2 - Summarize and Visualize Data completed! \" + datetime.now().strftime('%a %B %d, %Y %I:%M:%S %p'))"
      ]
    },
    {
      "cell_type": "markdown",
      "metadata": {
        "id": "oE40oaEXc3x8"
      },
      "source": [
        "## Task 3 - Pre-process Data"
      ]
    },
    {
      "cell_type": "code",
      "execution_count": 29,
      "metadata": {
        "id": "i1oXGIHHc3x9"
      },
      "outputs": [],
      "source": [
        "if NOTIFY_STATUS: status_notify(\"Task 3 - Pre-process Data has begun! \" + datetime.now().strftime('%a %B %d, %Y %I:%M:%S %p'))"
      ]
    },
    {
      "cell_type": "markdown",
      "metadata": {
        "id": "JvEwQB3Mc3x9"
      },
      "source": [
        "### 3.a) Feature Scaling"
      ]
    },
    {
      "cell_type": "code",
      "execution_count": 30,
      "metadata": {
        "id": "w_HWVOUKc3x9",
        "outputId": "6db80733-262a-4505-defe-f4f3c3d20578",
        "colab": {
          "base_uri": "https://localhost:8080/"
        }
      },
      "outputs": [
        {
          "output_type": "stream",
          "name": "stdout",
          "text": [
            "Number of numerical columns: 7\n",
            "Number of categorical columns: 0\n",
            "Total number of columns in the feature dataframe: 7\n"
          ]
        }
      ],
      "source": [
        "# Compose pipeline for the numerical and categorical features (Block #1 of 2)\n",
        "numeric_columns = df_features_train.select_dtypes(include=['int64','float64']).columns\n",
        "numeric_transformer = Pipeline(steps=[\n",
        "    ('imputer', impute.SimpleImputer(strategy=\"constant\", fill_value=0)),\n",
        "    ('scaler', preprocessing.MinMaxScaler())\n",
        "])\n",
        "categorical_columns = df_features_train.select_dtypes(include=['object','bool','category']).columns\n",
        "categorical_transformer = Pipeline(steps=[\n",
        "    ('imputer', impute.SimpleImputer(strategy='constant', fill_value='UKNOWN')),\n",
        "    ('onehot', preprocessing.OneHotEncoder(sparse=False, handle_unknown='ignore'))\n",
        "])\n",
        "\n",
        "print(\"Number of numerical columns:\", len(numeric_columns))\n",
        "print(\"Number of categorical columns:\", len(categorical_columns))\n",
        "print(\"Total number of columns in the feature dataframe:\", df_features_train.shape[1])"
      ]
    },
    {
      "cell_type": "code",
      "execution_count": 31,
      "metadata": {
        "id": "e9g7wGEoc3x9",
        "outputId": "0250ed17-c663-4aee-de39-ae2bff0bc950",
        "colab": {
          "base_uri": "https://localhost:8080/"
        }
      },
      "outputs": [
        {
          "output_type": "stream",
          "name": "stdout",
          "text": [
            "Transformed features from df_features_train.shape: (810, 7) to array_features_train.shape: (810, 7)\n"
          ]
        }
      ],
      "source": [
        "# Compose pipeline for the numerical and categorical features (Block #2 of 2)\n",
        "preprocessor = compose.ColumnTransformer(transformers=[\n",
        "    ('num', numeric_transformer, numeric_columns),\n",
        "    ('cat', categorical_transformer, categorical_columns)\n",
        "])\n",
        "\n",
        "# Display the shapes of the training dataset for final inspection\n",
        "array_features_train = preprocessor.fit_transform(df_features_train)\n",
        "print(\"Transformed features from df_features_train.shape: {} to array_features_train.shape: {}\".format(df_features_train.shape, array_features_train.shape))"
      ]
    },
    {
      "cell_type": "markdown",
      "metadata": {
        "id": "c3cZ9BnIc3x9"
      },
      "source": [
        "### 3.b) Training Data Balancing"
      ]
    },
    {
      "cell_type": "code",
      "execution_count": 32,
      "metadata": {
        "id": "vMPlVqaRc3x9"
      },
      "outputs": [],
      "source": [
        "# Not applicable for this iteration of the project"
      ]
    },
    {
      "cell_type": "markdown",
      "metadata": {
        "id": "HCqerewjc3x-"
      },
      "source": [
        "### 3.c) Feature Selection"
      ]
    },
    {
      "cell_type": "code",
      "execution_count": 33,
      "metadata": {
        "id": "T6-P5Vg-c3x-"
      },
      "outputs": [],
      "source": [
        "# Not applicable for this iteration of the project"
      ]
    },
    {
      "cell_type": "markdown",
      "metadata": {
        "id": "sKyUHUJQc3x-"
      },
      "source": [
        "### 3.d) Display the Final Datasets for Model-Building"
      ]
    },
    {
      "cell_type": "code",
      "execution_count": 34,
      "metadata": {
        "id": "vDjdeE5Hc3x-",
        "outputId": "fab0e020-a0aa-4334-9cfd-f6e616c71460",
        "colab": {
          "base_uri": "https://localhost:8080/"
        }
      },
      "outputs": [
        {
          "output_type": "stream",
          "name": "stdout",
          "text": [
            "array_features_train.shape: (810, 7) array_target_train.shape: (810,)\n"
          ]
        }
      ],
      "source": [
        "# Finalize the training dataset for the modeling activities\n",
        "label_encoder = preprocessing.LabelEncoder()\n",
        "array_target_train = label_encoder.fit_transform(df_target_train)\n",
        "print(\"array_features_train.shape: {} array_target_train.shape: {}\".format(array_features_train.shape, array_target_train.shape))"
      ]
    },
    {
      "cell_type": "code",
      "execution_count": 35,
      "metadata": {
        "id": "V1IZxZrhc3x-"
      },
      "outputs": [],
      "source": [
        "if NOTIFY_STATUS: status_notify(\"Task 3 - Pre-process Data completed! \" + datetime.now().strftime('%a %B %d, %Y %I:%M:%S %p'))"
      ]
    },
    {
      "cell_type": "markdown",
      "metadata": {
        "id": "PArwnG9Ec3x-"
      },
      "source": [
        "## Task 4 - Train and Tune Models"
      ]
    },
    {
      "cell_type": "code",
      "execution_count": 36,
      "metadata": {
        "id": "uXfVMx6_c3x-"
      },
      "outputs": [],
      "source": [
        "if NOTIFY_STATUS: status_notify(\"Task 4 - Train and Tune Models has begun! \" + datetime.now().strftime('%a %B %d, %Y %I:%M:%S %p'))"
      ]
    },
    {
      "cell_type": "markdown",
      "metadata": {
        "id": "IViSvTP_c3x-"
      },
      "source": [
        "### 4.a) Set test options and evaluation metric"
      ]
    },
    {
      "cell_type": "code",
      "execution_count": 37,
      "metadata": {
        "id": "AYTyHDRic3x-"
      },
      "outputs": [],
      "source": [
        "# Define the baseline model for benchmarking\n",
        "def create_nn_model(input_param=array_features_train.shape[1],\n",
        "                    layer1_nodes=512, layer2_nodes=512, layer3_nodes=512, layer4_nodes=512, layer5_nodes=512,\n",
        "                    layer1_dropout=0.25, layer2_dropout=0.25, layer3_dropout=0.25, layer4_dropout=0.5, layer5_dropout=0.5,\n",
        "                    classifier_activation=CLASSIFIER_ACTIVATION, loss_param=DEFAULT_LOSS,\n",
        "                    opt_param=DEFAULT_OPTIMIZER, metrics_param=DEFAULT_METRICS):\n",
        "    nn_model = keras.Sequential([\n",
        "        keras.layers.Dense(layer1_nodes, input_shape=(input_param,), activation='relu'),\n",
        "        keras.layers.Dropout(layer1_dropout),\n",
        "        keras.layers.Dense(layer2_nodes, activation='relu'),\n",
        "        keras.layers.Dropout(layer2_dropout),\n",
        "        keras.layers.Dense(layer3_nodes, activation='relu'),\n",
        "        keras.layers.Dropout(layer3_dropout),\n",
        "        keras.layers.Dense(layer4_nodes, activation='relu'),\n",
        "        keras.layers.Dropout(layer4_dropout),\n",
        "        keras.layers.Dense(layer5_nodes, activation='relu'),\n",
        "        keras.layers.Dropout(layer5_dropout),\n",
        "        keras.layers.Dense(1, activation=classifier_activation)\n",
        "    ])\n",
        "    nn_model.compile(loss=loss_param, optimizer=opt_param, metrics=metrics_param)\n",
        "    return nn_model"
      ]
    },
    {
      "cell_type": "code",
      "execution_count": 38,
      "metadata": {
        "id": "nmV_6V-Bc3x_"
      },
      "outputs": [],
      "source": [
        "# # Initialize the default model and get a baseline result\n",
        "# start_time_module = datetime.now()\n",
        "# tf.keras.utils.set_random_seed(RNG_SEED)\n",
        "# baseline_model = create_nn_model()\n",
        "# baseline_model.fit(array_features_train, array_target_train, epochs=MAX_EPOCHS, batch_size=BATCH_SIZE, verbose=1)\n",
        "# print('Total time for model fitting and cross validating:', (datetime.now() - start_time_module))"
      ]
    },
    {
      "cell_type": "code",
      "execution_count": 39,
      "metadata": {
        "id": "E7L49vVQc3x_",
        "outputId": "66940982-e96b-4632-d1d6-e7fe78f7813c",
        "colab": {
          "base_uri": "https://localhost:8080/"
        }
      },
      "outputs": [
        {
          "output_type": "stream",
          "name": "stdout",
          "text": [
            "Score from iteration 1 >>> 0.8457\n",
            "Score from iteration 2 >>> 0.8704\n",
            "Score from iteration 3 >>> 0.8210\n",
            "Score from iteration 4 >>> 0.8889\n",
            "Score from iteration 5 >>> 0.8765\n",
            "Average model score from all iterations: 0.8605 (0.0243)\n",
            "Total time for model fitting and cross validating: 0:00:37.943629\n"
          ]
        }
      ],
      "source": [
        "# Initialize the default model and get a baseline result\n",
        "start_time_module = datetime.now()\n",
        "results = list()\n",
        "iteration = 0\n",
        "cv = RepeatedKFold(n_splits=N_FOLDS, n_repeats=N_ITERATIONS, random_state=RNG_SEED)\n",
        "for train_ix, val_ix in cv.split(array_features_train):\n",
        "    feature_train, feature_validation = array_features_train[train_ix], array_features_train[val_ix]\n",
        "    target_train, target_validation = array_target_train[train_ix], array_target_train[val_ix]\n",
        "    tf.keras.utils.set_random_seed(RNG_SEED)\n",
        "    baseline_model = create_nn_model()\n",
        "    baseline_model.fit(feature_train, target_train, epochs=MAX_EPOCHS, batch_size=BATCH_SIZE, verbose=0)\n",
        "    model_metric = baseline_model.evaluate(feature_validation, target_validation, verbose=0)[1]\n",
        "    iteration = iteration + 1\n",
        "    print('Score from iteration %d >>> %.4f' % (iteration, model_metric))\n",
        "    results.append(model_metric)\n",
        "validation_score = np.mean(results)\n",
        "validation_variance = np.std(results)\n",
        "print('Average model score from all iterations: %.4f (%.4f)' % (validation_score, validation_variance))\n",
        "print('Total time for model fitting and cross validating:', (datetime.now() - start_time_module))"
      ]
    },
    {
      "cell_type": "markdown",
      "metadata": {
        "id": "jw6BFjHpc3x_"
      },
      "source": [
        "### 4.b) Algorithm Tuning"
      ]
    },
    {
      "cell_type": "code",
      "execution_count": 40,
      "metadata": {
        "id": "qK6pu8hGc3x_"
      },
      "outputs": [],
      "source": [
        "# Not applicable for this iteration of the project"
      ]
    },
    {
      "cell_type": "code",
      "execution_count": 41,
      "metadata": {
        "id": "QpoYirWUc3x_"
      },
      "outputs": [],
      "source": [
        "if NOTIFY_STATUS: status_notify(\"Task 4 - Train and Tune Models completed! \" + datetime.now().strftime('%a %B %d, %Y %I:%M:%S %p'))"
      ]
    },
    {
      "cell_type": "markdown",
      "metadata": {
        "id": "O7MDCLU9c3x_"
      },
      "source": [
        "## Task 5 - Finalize Model and Make Predictions"
      ]
    },
    {
      "cell_type": "code",
      "execution_count": 42,
      "metadata": {
        "id": "IkG2a6WQc3yA"
      },
      "outputs": [],
      "source": [
        "if NOTIFY_STATUS: status_notify(\"Task 5 - Finalize Model and Make Predictions has begun! \" + datetime.now().strftime('%a %B %d, %Y %I:%M:%S %p'))"
      ]
    },
    {
      "cell_type": "markdown",
      "metadata": {
        "id": "rijJHYiqc3yA"
      },
      "source": [
        "### 5.a) Train the Final Model"
      ]
    },
    {
      "cell_type": "code",
      "execution_count": 43,
      "metadata": {
        "id": "gowtZrSxc3yA",
        "outputId": "be2bbe8a-5f26-4760-f9a2-35128c338993",
        "colab": {
          "base_uri": "https://localhost:8080/"
        }
      },
      "outputs": [
        {
          "output_type": "stream",
          "name": "stdout",
          "text": [
            "Model: \"sequential_5\"\n",
            "_________________________________________________________________\n",
            " Layer (type)                Output Shape              Param #   \n",
            "=================================================================\n",
            " dense_30 (Dense)            (None, 512)               4096      \n",
            "                                                                 \n",
            " dropout_25 (Dropout)        (None, 512)               0         \n",
            "                                                                 \n",
            " dense_31 (Dense)            (None, 512)               262656    \n",
            "                                                                 \n",
            " dropout_26 (Dropout)        (None, 512)               0         \n",
            "                                                                 \n",
            " dense_32 (Dense)            (None, 512)               262656    \n",
            "                                                                 \n",
            " dropout_27 (Dropout)        (None, 512)               0         \n",
            "                                                                 \n",
            " dense_33 (Dense)            (None, 512)               262656    \n",
            "                                                                 \n",
            " dropout_28 (Dropout)        (None, 512)               0         \n",
            "                                                                 \n",
            " dense_34 (Dense)            (None, 512)               262656    \n",
            "                                                                 \n",
            " dropout_29 (Dropout)        (None, 512)               0         \n",
            "                                                                 \n",
            " dense_35 (Dense)            (None, 1)                 513       \n",
            "                                                                 \n",
            "=================================================================\n",
            "Total params: 1,055,233\n",
            "Trainable params: 1,055,233\n",
            "Non-trainable params: 0\n",
            "_________________________________________________________________\n"
          ]
        }
      ],
      "source": [
        "FINAL_OPTIMIZER = tf.keras.optimizers.Adam(learning_rate=0.0001)\n",
        "tf.keras.utils.set_random_seed(RNG_SEED)\n",
        "final_model = create_nn_model(opt_param=FINAL_OPTIMIZER)\n",
        "final_model.fit(array_features_train, array_target_train, epochs=MAX_EPOCHS, batch_size=BATCH_SIZE, verbose=0)\n",
        "final_model.summary()"
      ]
    },
    {
      "cell_type": "markdown",
      "metadata": {
        "id": "aZugS04Fc3yA"
      },
      "source": [
        "### 5.b) Load Test Dataset and Make Predictions"
      ]
    },
    {
      "cell_type": "code",
      "execution_count": 44,
      "metadata": {
        "id": "n3RmJ7Eic3yA",
        "outputId": "da63b16e-6b58-4255-a937-e4117a3325b3",
        "colab": {
          "base_uri": "https://localhost:8080/"
        }
      },
      "outputs": [
        {
          "output_type": "stream",
          "name": "stdout",
          "text": [
            "array_features_test.shape: (90, 7) array_target_test.shape: (90,)\n"
          ]
        }
      ],
      "source": [
        "# Finalize the test dataset for the testing activities\n",
        "array_features_test = preprocessor.transform(df_features_test)\n",
        "array_target_test = label_encoder.transform(df_target_test)\n",
        "print(\"array_features_test.shape: {} array_target_test.shape: {}\".format(array_features_test.shape, array_target_test.shape))"
      ]
    },
    {
      "cell_type": "code",
      "execution_count": 45,
      "metadata": {
        "id": "J3k1ZxVzc3yA",
        "outputId": "a1bccc4e-fe56-4185-b0f8-6650c68e0508",
        "colab": {
          "base_uri": "https://localhost:8080/"
        }
      },
      "outputs": [
        {
          "output_type": "stream",
          "name": "stdout",
          "text": [
            "[1 1 0 1 1 1 1 0 0 0 0 0 0 0 1 0 0 1 0 1 0 1 0 1 0 0 1 1 1 1 1 1 1 1 1 0 1\n",
            " 0 0 1 1 0 1 0 0 0 0 0 0 0 0 0 1 1 0 1 1 1 1 1 0 1 0 0 0 1 0 0 1 0 0 1 0 1\n",
            " 1 0 1 1 0 0 1 0 1 0 1 0 1 0 1 1]\n"
          ]
        }
      ],
      "source": [
        "# Make batched predictions\n",
        "test_predictions = (final_model.predict(array_features_test) > 0.5).astype(\"int32\").ravel()\n",
        "print(test_predictions)"
      ]
    },
    {
      "cell_type": "code",
      "execution_count": 46,
      "metadata": {
        "id": "UsaLPbMSc3yA",
        "outputId": "d096a9e1-d4b2-4ce6-8da4-92acee0912d9",
        "colab": {
          "base_uri": "https://localhost:8080/"
        }
      },
      "outputs": [
        {
          "output_type": "stream",
          "name": "stdout",
          "text": [
            "Accuracy Score: 0.9111111111111111\n",
            "ROC/AUC Score: 0.9111111111111111 \n",
            "\n",
            "[[41  4]\n",
            " [ 4 41]] \n",
            "\n",
            "              precision    recall  f1-score   support\n",
            "\n",
            "           0       0.91      0.91      0.91        45\n",
            "           1       0.91      0.91      0.91        45\n",
            "\n",
            "    accuracy                           0.91        90\n",
            "   macro avg       0.91      0.91      0.91        90\n",
            "weighted avg       0.91      0.91      0.91        90\n",
            "\n"
          ]
        }
      ],
      "source": [
        "print('Accuracy Score:', accuracy_score(array_target_test, test_predictions))\n",
        "print('ROC/AUC Score:', roc_auc_score(array_target_test, test_predictions), '\\n')\n",
        "print(confusion_matrix(array_target_test, test_predictions), '\\n')\n",
        "print(classification_report(array_target_test, test_predictions))"
      ]
    },
    {
      "cell_type": "code",
      "execution_count": 47,
      "metadata": {
        "id": "2FfvWPLyc3yA"
      },
      "outputs": [],
      "source": [
        "if NOTIFY_STATUS: status_notify(\"Task 5 - Finalize Model and Make Predictions completed! \" + datetime.now().strftime('%a %B %d, %Y %I:%M:%S %p'))"
      ]
    },
    {
      "cell_type": "code",
      "execution_count": 48,
      "metadata": {
        "id": "JJkXgXR7c3yB",
        "outputId": "8cd298ea-d46f-48e7-e93a-c5cbbcbd4014",
        "colab": {
          "base_uri": "https://localhost:8080/"
        }
      },
      "outputs": [
        {
          "output_type": "stream",
          "name": "stdout",
          "text": [
            "Total time for the script: 0:00:50.977626\n"
          ]
        }
      ],
      "source": [
        "print ('Total time for the script:',(datetime.now() - START_TIME_SCRIPT))"
      ]
    }
  ],
  "metadata": {
    "kernelspec": {
      "display_name": "Python 3 (ipykernel)",
      "language": "python",
      "name": "python3"
    },
    "language_info": {
      "codemirror_mode": {
        "name": "ipython",
        "version": 3
      },
      "file_extension": ".py",
      "mimetype": "text/x-python",
      "name": "python",
      "nbconvert_exporter": "python",
      "pygments_lexer": "ipython3",
      "version": "3.8.10"
    },
    "colab": {
      "name": "py_tensorflow_binaryclass_muratkoklu_raisin_grains_identification.ipynb",
      "provenance": [],
      "background_execution": "on",
      "collapsed_sections": [
        "EhM2GYVoc3x5",
        "Qt9Et0Vac3x7",
        "ocO0Muwec3x7",
        "JvEwQB3Mc3x9",
        "c3cZ9BnIc3x9",
        "HCqerewjc3x-",
        "sKyUHUJQc3x-"
      ]
    },
    "accelerator": "GPU"
  },
  "nbformat": 4,
  "nbformat_minor": 0
}
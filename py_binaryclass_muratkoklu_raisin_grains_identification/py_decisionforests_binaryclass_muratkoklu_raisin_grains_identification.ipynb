{
  "cells": [
    {
      "cell_type": "markdown",
      "metadata": {
        "id": "2sQmc7MlwXit"
      },
      "source": [
        "# Binary-Class Tabular Model for Raisin Grains Identification Using Python and TensorFlow Decision Forests\n",
        "### David Lowe\n",
        "### May 10, 2022\n",
        "\n",
        "SUMMARY: The project aims to construct a predictive model using various machine learning algorithms and document the end-to-end steps using a template. The Raisin Grains Identification dataset is a binary-class modeling situation where we attempt to predict one of two possible outcomes.\n",
        "\n",
        "INTRODUCTION: In this study, the research team developed a computerized vision system to classify two different varieties of raisin grown in Turkey. The dataset contains the measurements for 900 raisin grain images. The image further broke down into seven major morphological features for each grain of raisin.\n",
        "\n",
        "ANALYSIS: The performance of the preliminary Random Forest model achieved an accuracy benchmark of 96.05% on the training dataset. When we applied the finalized model to the test dataset, the model achieved an accuracy score of 86.67%.\n",
        "\n",
        "CONCLUSION: In this iteration, the TensorFlow Decision Forests model appeared to be suitable for modeling this dataset.\n",
        "\n",
        "Dataset Used: Raisin Dataset\n",
        "\n",
        "Dataset ML Model: Binary classification with numerical features\n",
        "\n",
        "Dataset Reference: https://www.muratkoklu.com/datasets/\n",
        "\n",
        "One source of potential performance benchmarks: https://doi.org/10.30855/gmbd.2020.03.03"
      ]
    },
    {
      "cell_type": "markdown",
      "metadata": {
        "id": "2pu8nWBYwXi9"
      },
      "source": [
        "## Task 1 - Prepare Environment"
      ]
    },
    {
      "cell_type": "code",
      "execution_count": 1,
      "metadata": {
        "colab": {
          "base_uri": "https://localhost:8080/"
        },
        "id": "ZOOVxnGCwXi_",
        "outputId": "c04c1ee2-2426-4bd3-f388-4bada34bd53d"
      },
      "outputs": [
        {
          "output_type": "stream",
          "name": "stdout",
          "text": [
            "The number of available CPUs is: 2\n"
          ]
        }
      ],
      "source": [
        "# Retrieve the CPU information\n",
        "ncpu = !nproc\n",
        "print(\"The number of available CPUs is:\", ncpu[0])"
      ]
    },
    {
      "cell_type": "markdown",
      "metadata": {
        "id": "6UZqFeojwXjA"
      },
      "source": [
        "### 1.a) Load libraries and modules"
      ]
    },
    {
      "cell_type": "code",
      "execution_count": 2,
      "metadata": {
        "id": "9_ovTGbJwXjA"
      },
      "outputs": [],
      "source": [
        "# Set the random seed number for reproducible results\n",
        "RNG_SEED = 888"
      ]
    },
    {
      "cell_type": "code",
      "execution_count": 3,
      "metadata": {
        "colab": {
          "base_uri": "https://localhost:8080/"
        },
        "id": "vDmif-v8wXjB",
        "outputId": "6181ddfe-2d65-4d06-ad9d-a37b1cec513f"
      },
      "outputs": [
        {
          "output_type": "stream",
          "name": "stderr",
          "text": [
            "WARNING:root:TF Parameter Server distributed training not available (this is expected for the pre-build release).\n"
          ]
        }
      ],
      "source": [
        "import random\n",
        "random.seed(RNG_SEED)\n",
        "import numpy as np\n",
        "np.random.seed(RNG_SEED)\n",
        "import pandas as pd\n",
        "import seaborn as sns\n",
        "import matplotlib\n",
        "import matplotlib.pyplot as plt\n",
        "import os\n",
        "import sys\n",
        "import math\n",
        "from datetime import datetime\n",
        "# import boto3\n",
        "# from dotenv import load_dotenv\n",
        "from sklearn import preprocessing\n",
        "from sklearn.model_selection import train_test_split\n",
        "from sklearn.model_selection import RepeatedKFold\n",
        "from sklearn.pipeline import Pipeline\n",
        "from sklearn import compose\n",
        "from sklearn import impute\n",
        "from sklearn import metrics\n",
        "import tensorflow as tf\n",
        "tf.random.set_seed(RNG_SEED)\n",
        "# from tensorflow import keras\n",
        "import tensorflow_decision_forests as tfdf"
      ]
    },
    {
      "cell_type": "markdown",
      "metadata": {
        "id": "M0TRB7j0wXjB"
      },
      "source": [
        "### 1.b) Set up the controlling parameters and functions"
      ]
    },
    {
      "cell_type": "code",
      "execution_count": 4,
      "metadata": {
        "colab": {
          "base_uri": "https://localhost:8080/"
        },
        "id": "JCurALWEwXjB",
        "outputId": "2d4b6d0f-5966-40c3-d1cf-c6e8e18e38e6"
      },
      "outputs": [
        {
          "output_type": "stream",
          "name": "stdout",
          "text": [
            "TensorFlow version: 2.8.0\n",
            "Found TensorFlow Decision Forests v0.2.4\n"
          ]
        }
      ],
      "source": [
        "# Begin the timer for the script processing\n",
        "start_time_script = datetime.now()\n",
        "\n",
        "# Set up the number of CPU cores available for multi-thread processing\n",
        "N_JOBS = 1\n",
        "\n",
        "# Set up the flag to stop sending progress emails (setting to True will send status emails!)\n",
        "NOTIFY_STATUS = False\n",
        "\n",
        "# Set the percentage sizes for splitting the dataset\n",
        "TEST_SET_RATIO = 0.1\n",
        "VAL_SET_RATIO = 0.1\n",
        "\n",
        "# Set the number of folds for cross validation\n",
        "N_FOLDS = 5\n",
        "N_ITERATIONS = 1\n",
        "\n",
        "# Set various default modeling parameters\n",
        "DEFAULT_METRICS = [\"accuracy\", tf.keras.metrics.AUC()]\n",
        "\n",
        "# # Check the number of GPUs accessible through TensorFlow\n",
        "# print('Num GPUs Available:', len(tf.config.list_physical_devices('GPU')))\n",
        "\n",
        "# Print out the TensorFlow version for confirmation\n",
        "print('TensorFlow version:', tf.__version__)\n",
        "\n",
        "# Check the version of TensorFlow Decision Forests\n",
        "print(\"Found TensorFlow Decision Forests v\" + tfdf.__version__)"
      ]
    },
    {
      "cell_type": "code",
      "execution_count": 5,
      "metadata": {
        "id": "IBDJ6B40wXjC"
      },
      "outputs": [],
      "source": [
        "# Set up the email notification function\n",
        "def status_notify(msg_text):\n",
        "    access_key = os.environ.get('SNS_ACCESS_KEY')\n",
        "    secret_key = os.environ.get('SNS_SECRET_KEY')\n",
        "    aws_region = os.environ.get('SNS_AWS_REGION')\n",
        "    topic_arn = os.environ.get('SNS_TOPIC_ARN')\n",
        "    if (access_key is None) or (secret_key is None) or (aws_region is None):\n",
        "        sys.exit(\"Incomplete notification setup info. Script Processing Aborted!!!\")\n",
        "    sns = boto3.client('sns', aws_access_key_id=access_key, aws_secret_access_key=secret_key, region_name=aws_region)\n",
        "    response = sns.publish(TopicArn=topic_arn, Message=msg_text)\n",
        "    if response['ResponseMetadata']['HTTPStatusCode'] != 200 :\n",
        "        print('Status notification not OK with HTTP status code:', response['ResponseMetadata']['HTTPStatusCode'])"
      ]
    },
    {
      "cell_type": "code",
      "execution_count": 6,
      "metadata": {
        "id": "e3tPi3k7wyTv"
      },
      "outputs": [],
      "source": [
        "# Reset the random number generators\n",
        "def reset_random(x=RNG_SEED):\n",
        "    random.seed(x)\n",
        "    np.random.seed(x)\n",
        "    tf.random.set_seed(x)"
      ]
    },
    {
      "cell_type": "code",
      "execution_count": 7,
      "metadata": {
        "id": "p2F2r8QswXjD"
      },
      "outputs": [],
      "source": [
        "if NOTIFY_STATUS: status_notify(\"Task 1 - Prepare Environment has begun! \" + datetime.now().strftime('%a %B %d, %Y %I:%M:%S %p'))"
      ]
    },
    {
      "cell_type": "markdown",
      "metadata": {
        "id": "yk2I_AhawXjD"
      },
      "source": [
        "### 1.c) Load dataset"
      ]
    },
    {
      "cell_type": "code",
      "execution_count": 8,
      "metadata": {
        "colab": {
          "base_uri": "https://localhost:8080/"
        },
        "id": "E7G2_4zawXjE",
        "outputId": "303cb8f9-4038-453e-e61f-97847d46f179"
      },
      "outputs": [
        {
          "output_type": "stream",
          "name": "stdout",
          "text": [
            "    Area  Major_Axis_Length  Minor_Axis_Length  Eccentricity  Convex_Area  \\\n",
            "0  87524         442.246011         253.291155      0.819738        90546   \n",
            "1  75166         406.690687         243.032436      0.801805        78789   \n",
            "2  90856         442.267048         266.328318      0.798354        93717   \n",
            "3  45928         286.540559         208.760042      0.684989        47336   \n",
            "4  79408         352.190770         290.827533      0.564011        81463   \n",
            "\n",
            "     Extent  Perimeter    Class  \n",
            "0  0.758651   1184.040  Kecimen  \n",
            "1  0.684130   1121.786  Kecimen  \n",
            "2  0.637613   1208.575  Kecimen  \n",
            "3  0.699599    844.162  Kecimen  \n",
            "4  0.792772   1073.251  Kecimen  \n"
          ]
        }
      ],
      "source": [
        "dataset_path = 'https://dainesanalytics.com/datasets/muratkoklu-raisin-grains-dataset/Raisin_Dataset.arff'\n",
        "colNames = ['Area','Major_Axis_Length','Minor_Axis_Length','Eccentricity','Convex_Area','Extent','Perimeter','Class']\n",
        "df_dataset_import = pd.read_csv(dataset_path, names=colNames, sep=',', header=None, index_col=False, skiprows=20)\n",
        "\n",
        "# Take a peek at the dataframe after import\n",
        "print(df_dataset_import.head())"
      ]
    },
    {
      "cell_type": "code",
      "execution_count": 9,
      "metadata": {
        "colab": {
          "base_uri": "https://localhost:8080/"
        },
        "id": "3dl-LDdfwXjE",
        "outputId": "2ee92544-6133-41e2-f325-72ab1bce88f8"
      },
      "outputs": [
        {
          "output_type": "stream",
          "name": "stdout",
          "text": [
            "<class 'pandas.core.frame.DataFrame'>\n",
            "RangeIndex: 900 entries, 0 to 899\n",
            "Data columns (total 8 columns):\n",
            " #   Column             Non-Null Count  Dtype  \n",
            "---  ------             --------------  -----  \n",
            " 0   Area               900 non-null    int64  \n",
            " 1   Major_Axis_Length  900 non-null    float64\n",
            " 2   Minor_Axis_Length  900 non-null    float64\n",
            " 3   Eccentricity       900 non-null    float64\n",
            " 4   Convex_Area        900 non-null    int64  \n",
            " 5   Extent             900 non-null    float64\n",
            " 6   Perimeter          900 non-null    float64\n",
            " 7   Class              900 non-null    object \n",
            "dtypes: float64(5), int64(2), object(1)\n",
            "memory usage: 56.4+ KB\n"
          ]
        }
      ],
      "source": [
        "df_dataset_import.info(verbose=True)"
      ]
    },
    {
      "cell_type": "code",
      "execution_count": 10,
      "metadata": {
        "colab": {
          "base_uri": "https://localhost:8080/"
        },
        "id": "3eB_rvlwwXjF",
        "outputId": "f0f81bac-74b8-4fcf-a728-b535f78e8ddc"
      },
      "outputs": [
        {
          "output_type": "stream",
          "name": "stdout",
          "text": [
            "                Area  Major_Axis_Length  Minor_Axis_Length  Eccentricity  \\\n",
            "count     900.000000         900.000000         900.000000    900.000000   \n",
            "mean    87804.127778         430.929950         254.488133      0.781542   \n",
            "std     39002.111390         116.035121          49.988902      0.090318   \n",
            "min     25387.000000         225.629541         143.710872      0.348730   \n",
            "25%     59348.000000         345.442898         219.111126      0.741766   \n",
            "50%     78902.000000         407.803951         247.848409      0.798846   \n",
            "75%    105028.250000         494.187014         279.888575      0.842571   \n",
            "max    235047.000000         997.291941         492.275279      0.962124   \n",
            "\n",
            "         Convex_Area      Extent    Perimeter  \n",
            "count     900.000000  900.000000   900.000000  \n",
            "mean    91186.090000    0.699508  1165.906636  \n",
            "std     40769.290132    0.053468   273.764315  \n",
            "min     26139.000000    0.379856   619.074000  \n",
            "25%     61513.250000    0.670869   966.410750  \n",
            "50%     81651.000000    0.707367  1119.509000  \n",
            "75%    108375.750000    0.734991  1308.389750  \n",
            "max    278217.000000    0.835455  2697.753000  \n"
          ]
        }
      ],
      "source": [
        "print(df_dataset_import.describe())"
      ]
    },
    {
      "cell_type": "code",
      "execution_count": 11,
      "metadata": {
        "colab": {
          "base_uri": "https://localhost:8080/"
        },
        "id": "SRyVb81UwXjF",
        "outputId": "30d575a8-f825-4713-f8b6-efe3f73b2e2e"
      },
      "outputs": [
        {
          "output_type": "stream",
          "name": "stdout",
          "text": [
            "Area                 0\n",
            "Major_Axis_Length    0\n",
            "Minor_Axis_Length    0\n",
            "Eccentricity         0\n",
            "Convex_Area          0\n",
            "Extent               0\n",
            "Perimeter            0\n",
            "Class                0\n",
            "dtype: int64\n",
            "Total number of NaN in the dataframe:  0\n"
          ]
        }
      ],
      "source": [
        "print(df_dataset_import.isnull().sum())\n",
        "print('Total number of NaN in the dataframe: ', df_dataset_import.isnull().sum().sum())"
      ]
    },
    {
      "cell_type": "code",
      "execution_count": 12,
      "metadata": {
        "id": "kjXSiqgLc3Dj",
        "outputId": "ffda9015-922e-41d9-dac2-ffa946801a42",
        "colab": {
          "base_uri": "https://localhost:8080/"
        }
      },
      "outputs": [
        {
          "output_type": "stream",
          "name": "stdout",
          "text": [
            "Class\n",
            "Besni      450\n",
            "Kecimen    450\n",
            "dtype: int64\n"
          ]
        }
      ],
      "source": [
        "# Get grouping size for the target variable\n",
        "print(df_dataset_import.groupby('Class').size())"
      ]
    },
    {
      "cell_type": "markdown",
      "metadata": {
        "id": "wfaoKiSdwXjG"
      },
      "source": [
        "### 1.d) Data Cleaning"
      ]
    },
    {
      "cell_type": "code",
      "execution_count": 13,
      "metadata": {
        "colab": {
          "base_uri": "https://localhost:8080/"
        },
        "id": "KujRTYu5wXjG",
        "outputId": "4108c4ed-3229-456c-d808-0603e645447d"
      },
      "outputs": [
        {
          "output_type": "stream",
          "name": "stdout",
          "text": [
            "    Area  Major_Axis_Length  Minor_Axis_Length  Eccentricity  Convex_Area  \\\n",
            "0  87524         442.246011         253.291155      0.819738        90546   \n",
            "1  75166         406.690687         243.032436      0.801805        78789   \n",
            "2  90856         442.267048         266.328318      0.798354        93717   \n",
            "3  45928         286.540559         208.760042      0.684989        47336   \n",
            "4  79408         352.190770         290.827533      0.564011        81463   \n",
            "\n",
            "     Extent  Perimeter   target  \n",
            "0  0.758651   1184.040  Kecimen  \n",
            "1  0.684130   1121.786  Kecimen  \n",
            "2  0.637613   1208.575  Kecimen  \n",
            "3  0.699599    844.162  Kecimen  \n",
            "4  0.792772   1073.251  Kecimen  \n"
          ]
        }
      ],
      "source": [
        "# Standardize the class column to the name of targetVar if required\n",
        "df_dataset_import = df_dataset_import.rename(columns={'Class': 'target'})\n",
        "\n",
        "# Take a peek at the dataframe after cleaning\n",
        "print(df_dataset_import.head())"
      ]
    },
    {
      "cell_type": "code",
      "execution_count": 14,
      "metadata": {
        "colab": {
          "base_uri": "https://localhost:8080/"
        },
        "id": "ZprOE1B0wXjH",
        "outputId": "281adde6-e2f5-4f68-ccdb-5ec98862def2"
      },
      "outputs": [
        {
          "output_type": "stream",
          "name": "stdout",
          "text": [
            "<class 'pandas.core.frame.DataFrame'>\n",
            "RangeIndex: 900 entries, 0 to 899\n",
            "Data columns (total 8 columns):\n",
            " #   Column             Non-Null Count  Dtype  \n",
            "---  ------             --------------  -----  \n",
            " 0   Area               900 non-null    int64  \n",
            " 1   Major_Axis_Length  900 non-null    float64\n",
            " 2   Minor_Axis_Length  900 non-null    float64\n",
            " 3   Eccentricity       900 non-null    float64\n",
            " 4   Convex_Area        900 non-null    int64  \n",
            " 5   Extent             900 non-null    float64\n",
            " 6   Perimeter          900 non-null    float64\n",
            " 7   target             900 non-null    object \n",
            "dtypes: float64(5), int64(2), object(1)\n",
            "memory usage: 56.4+ KB\n"
          ]
        }
      ],
      "source": [
        "df_dataset_import.info(verbose=True)"
      ]
    },
    {
      "cell_type": "code",
      "execution_count": 15,
      "metadata": {
        "colab": {
          "base_uri": "https://localhost:8080/"
        },
        "id": "QgyI5VZ1wXjH",
        "outputId": "9a699e3d-2193-4d02-ef3b-1993309a933d"
      },
      "outputs": [
        {
          "output_type": "stream",
          "name": "stdout",
          "text": [
            "                Area  Major_Axis_Length  Minor_Axis_Length  Eccentricity  \\\n",
            "count     900.000000         900.000000         900.000000    900.000000   \n",
            "mean    87804.127778         430.929950         254.488133      0.781542   \n",
            "std     39002.111390         116.035121          49.988902      0.090318   \n",
            "min     25387.000000         225.629541         143.710872      0.348730   \n",
            "25%     59348.000000         345.442898         219.111126      0.741766   \n",
            "50%     78902.000000         407.803951         247.848409      0.798846   \n",
            "75%    105028.250000         494.187014         279.888575      0.842571   \n",
            "max    235047.000000         997.291941         492.275279      0.962124   \n",
            "\n",
            "         Convex_Area      Extent    Perimeter  \n",
            "count     900.000000  900.000000   900.000000  \n",
            "mean    91186.090000    0.699508  1165.906636  \n",
            "std     40769.290132    0.053468   273.764315  \n",
            "min     26139.000000    0.379856   619.074000  \n",
            "25%     61513.250000    0.670869   966.410750  \n",
            "50%     81651.000000    0.707367  1119.509000  \n",
            "75%    108375.750000    0.734991  1308.389750  \n",
            "max    278217.000000    0.835455  2697.753000  \n"
          ]
        }
      ],
      "source": [
        "print(df_dataset_import.describe())"
      ]
    },
    {
      "cell_type": "code",
      "execution_count": 16,
      "metadata": {
        "colab": {
          "base_uri": "https://localhost:8080/"
        },
        "id": "wz9iKsUswXjI",
        "outputId": "5b9ef711-b14b-444a-ce7a-4e6d275e7681"
      },
      "outputs": [
        {
          "output_type": "stream",
          "name": "stdout",
          "text": [
            "Area                 0\n",
            "Major_Axis_Length    0\n",
            "Minor_Axis_Length    0\n",
            "Eccentricity         0\n",
            "Convex_Area          0\n",
            "Extent               0\n",
            "Perimeter            0\n",
            "target               0\n",
            "dtype: int64\n",
            "Total number of NaN in the dataframe:  0\n"
          ]
        }
      ],
      "source": [
        "print(df_dataset_import.isnull().sum())\n",
        "print('Total number of NaN in the dataframe: ', df_dataset_import.isnull().sum().sum())"
      ]
    },
    {
      "cell_type": "code",
      "execution_count": 17,
      "metadata": {
        "id": "vdrfDL7Cc3Dk",
        "outputId": "1f58e432-6c60-47f5-a425-3a6344cc78c3",
        "colab": {
          "base_uri": "https://localhost:8080/"
        }
      },
      "outputs": [
        {
          "output_type": "stream",
          "name": "stdout",
          "text": [
            "target\n",
            "Besni      450\n",
            "Kecimen    450\n",
            "dtype: int64\n"
          ]
        }
      ],
      "source": [
        "# Get grouping size for the target variable\n",
        "print(df_dataset_import.groupby('target').size())"
      ]
    },
    {
      "cell_type": "markdown",
      "metadata": {
        "id": "0ZBQ1s2bwXjI"
      },
      "source": [
        "### 1.e) Splitting Data into Sets"
      ]
    },
    {
      "cell_type": "code",
      "execution_count": 18,
      "metadata": {
        "id": "ddfoz22Rc3Dl",
        "outputId": "f22e3393-7657-494d-c21b-f2d061435304",
        "colab": {
          "base_uri": "https://localhost:8080/"
        }
      },
      "outputs": [
        {
          "output_type": "stream",
          "name": "stdout",
          "text": [
            "df_dataset_train.shape: (810, 8) df_dataset_test.shape: (90, 8)\n"
          ]
        }
      ],
      "source": [
        "# Split the data further into training and test datasets\n",
        "df_dataset_train, df_dataset_test = train_test_split(df_dataset_import, test_size=TEST_SET_RATIO, random_state=RNG_SEED,\n",
        "                                                     stratify=df_dataset_import['target'])\n",
        "print(\"df_dataset_train.shape: {} df_dataset_test.shape: {}\".format(df_dataset_train.shape, df_dataset_test.shape))"
      ]
    },
    {
      "cell_type": "code",
      "execution_count": 19,
      "metadata": {
        "colab": {
          "base_uri": "https://localhost:8080/"
        },
        "id": "QNydPt1uwXjI",
        "outputId": "af2b173d-719a-4911-d794-1c1591e06ef4"
      },
      "outputs": [
        {
          "output_type": "stream",
          "name": "stdout",
          "text": [
            "df_dataset_train.shape: (810, 8) df_features_train.shape: (810, 7) df_target_train.shape: (810,)\n"
          ]
        }
      ],
      "source": [
        "# Use variable total_column_count to hold the number of columns in the dataframe\n",
        "total_column_count = len(df_dataset_import.columns)\n",
        "\n",
        "# Set up variable total_feature_count for the total number of attribute columns\n",
        "total_feature_count = total_column_count-1\n",
        "\n",
        "# We create attribute-only and target-only datasets (df_features_train and df_target_train)\n",
        "df_target_train = df_dataset_train['target']\n",
        "df_features_train = df_dataset_train.drop(['target'], axis=1)\n",
        "\n",
        "print(\"df_dataset_train.shape: {} df_features_train.shape: {} df_target_train.shape: {}\".format(df_dataset_train.shape, df_features_train.shape, df_target_train.shape))"
      ]
    },
    {
      "cell_type": "markdown",
      "metadata": {
        "id": "VKU_2CL74vh-"
      },
      "source": [
        "### 1.f) Set up the parameters for data visualization"
      ]
    },
    {
      "cell_type": "code",
      "execution_count": 20,
      "metadata": {
        "id": "7D9OChW94yP0"
      },
      "outputs": [],
      "source": [
        "# Set up the number of row and columns for visualization display. display_rows * display_columns should be >= total_feature_count\n",
        "display_columns = 4\n",
        "if total_feature_count % display_columns == 0 :\n",
        "    display_rows = total_feature_count // display_columns\n",
        "else :\n",
        "    display_rows = (total_feature_count // display_columns) + 1\n",
        "    \n",
        "# Set figure width to display the data visualization plots\n",
        "fig_size = plt.rcParams[\"figure.figsize\"]\n",
        "fig_size[0] = display_columns * 4\n",
        "fig_size[1] = display_rows * 4\n",
        "plt.rcParams[\"figure.figsize\"] = fig_size"
      ]
    },
    {
      "cell_type": "code",
      "execution_count": 21,
      "metadata": {
        "id": "YLRgAYnMwXjJ"
      },
      "outputs": [],
      "source": [
        "if NOTIFY_STATUS: status_notify(\"Task 1 - Prepare Environment completed! \"+datetime.now().strftime('%a %B %d, %Y %I:%M:%S %p'))"
      ]
    },
    {
      "cell_type": "markdown",
      "metadata": {
        "id": "ZivQJCZowXjK"
      },
      "source": [
        "## Task 2 - Summarize and Visualize Data"
      ]
    },
    {
      "cell_type": "code",
      "execution_count": 22,
      "metadata": {
        "id": "F5H90pxZwXjK"
      },
      "outputs": [],
      "source": [
        "if NOTIFY_STATUS: status_notify(\"Task 2 - Summarize and Visualize Data has begun! \"+datetime.now().strftime('%a %B %d, %Y %I:%M:%S %p'))"
      ]
    },
    {
      "cell_type": "code",
      "execution_count": 23,
      "metadata": {
        "colab": {
          "base_uri": "https://localhost:8080/",
          "height": 483
        },
        "id": "OBhr7SGRwXjK",
        "outputId": "b56d2f76-22e4-41d9-dcd5-d96f93326229",
        "tags": []
      },
      "outputs": [
        {
          "output_type": "display_data",
          "data": {
            "text/plain": [
              "<Figure size 1152x576 with 8 Axes>"
            ],
            "image/png": "[encoded data removed]"
          },
          "metadata": {
            "needs_background": "light"
          }
        }
      ],
      "source": [
        "# Histograms for each attribute\n",
        "df_features_train.plot(kind='hist', subplots=True, layout=(display_rows, display_columns))\n",
        "plt.show()"
      ]
    },
    {
      "cell_type": "code",
      "execution_count": 24,
      "metadata": {
        "colab": {
          "base_uri": "https://localhost:8080/",
          "height": 484
        },
        "id": "NHtCofAgwXjL",
        "outputId": "8ecf7d54-ad85-4edd-b326-acce707b7dec"
      },
      "outputs": [
        {
          "output_type": "display_data",
          "data": {
            "text/plain": [
              "<Figure size 1152x576 with 8 Axes>"
            ],
            "image/png": "[encoded data removed]"
          },
          "metadata": {
            "needs_background": "light"
          }
        }
      ],
      "source": [
        "# Box and Whisker plot for each attribute\n",
        "df_features_train.plot(kind='box', subplots=True, layout=(display_rows, display_columns))\n",
        "plt.show()"
      ]
    },
    {
      "cell_type": "code",
      "execution_count": 25,
      "metadata": {
        "colab": {
          "base_uri": "https://localhost:8080/",
          "height": 1000
        },
        "id": "HXUm5_nkwXjL",
        "outputId": "011d1ac2-aee3-48cf-996a-7cc97c5b7dcf"
      },
      "outputs": [
        {
          "output_type": "display_data",
          "data": {
            "text/plain": [
              "<Figure size 1440x1440 with 2 Axes>"
            ],
            "image/png": "[encoded data removed]"
          },
          "metadata": {
            "needs_background": "light"
          }
        }
      ],
      "source": [
        "# Correlation matrix\n",
        "fig = plt.figure(figsize=(20, 20))\n",
        "correlations = df_features_train.corr(method='pearson')\n",
        "sns.heatmap(correlations, annot=True, cmap=plt.cm.PuBu)\n",
        "plt.show()"
      ]
    },
    {
      "cell_type": "code",
      "execution_count": 26,
      "metadata": {
        "id": "yHcRjiadwXjL"
      },
      "outputs": [],
      "source": [
        "if NOTIFY_STATUS: status_notify(\"Task 2 - Summarize and Visualize Data completed! \"+datetime.now().strftime('%a %B %d, %Y %I:%M:%S %p'))"
      ]
    },
    {
      "cell_type": "markdown",
      "metadata": {
        "id": "-8rH-HXuwXjM"
      },
      "source": [
        "## Task 3 - Train and Evaluate Models"
      ]
    },
    {
      "cell_type": "code",
      "execution_count": 27,
      "metadata": {
        "id": "UnD36SUzwXjM"
      },
      "outputs": [],
      "source": [
        "if NOTIFY_STATUS: status_notify(\"Task 3 - Train and Evaluate Models has begun! \"+datetime.now().strftime('%a %B %d, %Y %I:%M:%S %p'))"
      ]
    },
    {
      "cell_type": "markdown",
      "metadata": {
        "id": "C5MXnEfq0-PW"
      },
      "source": [
        "### 3.a) Splitting Data into Training and Validation Sets"
      ]
    },
    {
      "cell_type": "code",
      "execution_count": 28,
      "metadata": {
        "id": "QY2ulFc8wXjR",
        "colab": {
          "base_uri": "https://localhost:8080/"
        },
        "outputId": "c205c26c-065f-419e-ac5d-f585f5634209"
      },
      "outputs": [
        {
          "output_type": "stream",
          "name": "stderr",
          "text": [
            "/usr/local/lib/python3.7/dist-packages/tensorflow_decision_forests/keras/core.py:2036: FutureWarning: In a future version of pandas all arguments of DataFrame.drop except for the argument 'labels' will be keyword-only\n",
            "  features_dataframe = dataframe.drop(label, 1)\n"
          ]
        }
      ],
      "source": [
        "# Finalize the training and validation datasets for the modeling activities\n",
        "tfds_train = tfdf.keras.pd_dataframe_to_tf_dataset(df_dataset_train, label='target', task = tfdf.keras.Task.CLASSIFICATION)"
      ]
    },
    {
      "cell_type": "markdown",
      "metadata": {
        "id": "2_pts_ZN1J3g"
      },
      "source": [
        "### 3.b) Train and Evaluate the Random Forest Model"
      ]
    },
    {
      "cell_type": "code",
      "execution_count": 29,
      "metadata": {
        "colab": {
          "base_uri": "https://localhost:8080/"
        },
        "id": "Bbls2rTF3l8E",
        "outputId": "d4c3ca0d-e8f2-4015-be5b-2c0b4d534a31"
      },
      "outputs": [
        {
          "output_type": "stream",
          "name": "stdout",
          "text": [
            "Use /tmp/tmpo3la40tk as temporary training directory\n",
            "Starting reading the dataset\n",
            "1/1 [==============================] - ETA: 0s\n",
            "Dataset read in 0:00:10.995855\n",
            "Training model\n",
            "Model trained in 0:00:00.676170\n",
            "Warning:  Tracing the TF graph and reading the dataset took more than 50% of the time to effectively train the model (tracing+dataset reading: 0:00:10.995855, training: 0:00:00.676170). This might indicates that the dataset reading operation e.g. tf.data.Dataset is not well configured. In mose cases, this ratio should be <<10%.\n",
            "Compiling model\n",
            "1/1 [==============================] - 12s 12s/step\n",
            "WARNING:tensorflow:AutoGraph could not transform <function simple_ml_inference_op_with_handle at 0x7f7258985c20> and will run it as-is.\n",
            "Please report this to the TensorFlow team. When filing the bug, set the verbosity to 10 (on Linux, `export AUTOGRAPH_VERBOSITY=10`) and attach the full output.\n",
            "Cause: could not get source code\n",
            "To silence this warning, decorate the function with @tf.autograph.experimental.do_not_convert\n"
          ]
        },
        {
          "output_type": "stream",
          "name": "stderr",
          "text": [
            "WARNING:tensorflow:AutoGraph could not transform <function simple_ml_inference_op_with_handle at 0x7f7258985c20> and will run it as-is.\n",
            "Please report this to the TensorFlow team. When filing the bug, set the verbosity to 10 (on Linux, `export AUTOGRAPH_VERBOSITY=10`) and attach the full output.\n",
            "Cause: could not get source code\n",
            "To silence this warning, decorate the function with @tf.autograph.experimental.do_not_convert\n"
          ]
        },
        {
          "output_type": "stream",
          "name": "stdout",
          "text": [
            "WARNING: AutoGraph could not transform <function simple_ml_inference_op_with_handle at 0x7f7258985c20> and will run it as-is.\n",
            "Please report this to the TensorFlow team. When filing the bug, set the verbosity to 10 (on Linux, `export AUTOGRAPH_VERBOSITY=10`) and attach the full output.\n",
            "Cause: could not get source code\n",
            "To silence this warning, decorate the function with @tf.autograph.experimental.do_not_convert\n",
            "Model training time: 0:00:14.162755 \n",
            "\n"
          ]
        }
      ],
      "source": [
        "# Define the baseline model for benchmarking\n",
        "start_time_module = datetime.now()\n",
        "reset_random()\n",
        "RF_model = tfdf.keras.RandomForestModel(task = tfdf.keras.Task.CLASSIFICATION)\n",
        "RF_model.compile(metrics=DEFAULT_METRICS)\n",
        "\n",
        "# \"sys_pipes\" is optional. It enables the display of the training logs.\n",
        "# with sys_pipes():\n",
        "#     RF_model.fit(x=tfds_train)\n",
        "\n",
        "# Train the model.\n",
        "RF_model.fit(x=tfds_train)\n",
        "print ('Model training time:', (datetime.now() - start_time_module), '\\n')"
      ]
    },
    {
      "cell_type": "code",
      "execution_count": 30,
      "metadata": {
        "colab": {
          "base_uri": "https://localhost:8080/",
          "height": 388
        },
        "id": "QWxbO2EXcbEJ",
        "outputId": "196948f9-d0e5-455a-d9e4-12dfc498e7c1"
      },
      "outputs": [
        {
          "output_type": "display_data",
          "data": {
            "text/plain": [
              "<Figure size 1296x432 with 2 Axes>"
            ],
            "image/png": "[encoded data removed]"
          },
          "metadata": {
            "needs_background": "light"
          }
        }
      ],
      "source": [
        "logs = RF_model.make_inspector().training_logs()\n",
        "\n",
        "plt.figure(figsize=(18, 6))\n",
        "plt.subplot(1, 2, 1)\n",
        "plt.plot([log.num_trees for log in logs], [log.evaluation.accuracy for log in logs])\n",
        "plt.xlabel(\"Number of trees\")\n",
        "plt.ylabel(\"Accuracy (out-of-bag)\")\n",
        "plt.subplot(1, 2, 2)\n",
        "plt.plot([log.num_trees for log in logs], [log.evaluation.loss for log in logs])\n",
        "plt.xlabel(\"Number of trees\")\n",
        "plt.ylabel(\"Log Loss (out-of-bag)\")\n",
        "plt.show()"
      ]
    },
    {
      "cell_type": "code",
      "execution_count": 31,
      "metadata": {
        "id": "a4EVmjG6c3Do",
        "outputId": "3cbbbb5f-94e3-410f-ba16-f1436e33c910",
        "colab": {
          "base_uri": "https://localhost:8080/"
        }
      },
      "outputs": [
        {
          "output_type": "stream",
          "name": "stdout",
          "text": [
            "1/1 [==============================] - 1s 674ms/step - loss: 0.0000e+00 - accuracy: 0.9605 - auc: 0.9942\n",
            "\n",
            "loss: 0.0000\n",
            "accuracy: 0.9605\n",
            "auc: 0.9942\n"
          ]
        }
      ],
      "source": [
        "RF_eval = RF_model.evaluate(tfds_train, return_dict=True)\n",
        "print()\n",
        "\n",
        "for name, value in RF_eval.items():\n",
        "    print(f\"{name}: {value:.4f}\")"
      ]
    },
    {
      "cell_type": "markdown",
      "metadata": {
        "id": "wa3Dfugd1U4P"
      },
      "source": [
        "### 3.c) Train and Evaluate the Decision Trees Model"
      ]
    },
    {
      "cell_type": "code",
      "execution_count": 32,
      "metadata": {
        "colab": {
          "base_uri": "https://localhost:8080/"
        },
        "id": "bDPPbOgPFCBF",
        "outputId": "25e5ddc8-b73d-4612-857a-349e8deb0f0f"
      },
      "outputs": [
        {
          "output_type": "stream",
          "name": "stdout",
          "text": [
            "Use /tmp/tmp4kt4916r as temporary training directory\n",
            "Starting reading the dataset\n",
            "1/1 [==============================] - ETA: 0s\n",
            "Dataset read in 0:00:00.266969\n",
            "Training model\n",
            "Model trained in 0:00:00.006647\n",
            "Compiling model\n",
            "1/1 [==============================] - 0s 279ms/step\n",
            "Model training time: 0:00:00.453884 \n",
            "\n"
          ]
        }
      ],
      "source": [
        "# Define the baseline model for benchmarking\n",
        "start_time_module = datetime.now()\n",
        "reset_random()\n",
        "CART_model = tfdf.keras.CartModel(task = tfdf.keras.Task.CLASSIFICATION)\n",
        "CART_model.compile(metrics=DEFAULT_METRICS)\n",
        "\n",
        "# \"sys_pipes\" is optional. It enables the display of the training logs.\n",
        "# with sys_pipes():\n",
        "#     CART_model.fit(x=tfds_train)\n",
        "\n",
        "# Train the model.\n",
        "CART_model.fit(x=tfds_train)\n",
        "print ('Model training time:', (datetime.now() - start_time_module), '\\n')"
      ]
    },
    {
      "cell_type": "code",
      "execution_count": 33,
      "metadata": {
        "id": "LHcaxNLUc3Dp",
        "outputId": "68fab30f-0291-45ef-830e-6f4f974c76c5",
        "colab": {
          "base_uri": "https://localhost:8080/"
        }
      },
      "outputs": [
        {
          "output_type": "stream",
          "name": "stdout",
          "text": [
            "1/1 [==============================] - 0s 373ms/step - loss: 0.0000e+00 - accuracy: 0.8864 - auc: 0.9634\n",
            "\n",
            "loss: 0.0000\n",
            "accuracy: 0.8864\n",
            "auc: 0.9634\n"
          ]
        }
      ],
      "source": [
        "CART_eval = CART_model.evaluate(tfds_train, return_dict=True)\n",
        "print()\n",
        "\n",
        "for name, value in CART_eval.items():\n",
        "    print(f\"{name}: {value:.4f}\")"
      ]
    },
    {
      "cell_type": "markdown",
      "metadata": {
        "id": "zVCQJVv21m86"
      },
      "source": [
        "### 3.d) Train and Evaluate the Gradient Boosted Trees Model"
      ]
    },
    {
      "cell_type": "code",
      "execution_count": 34,
      "metadata": {
        "colab": {
          "base_uri": "https://localhost:8080/"
        },
        "id": "ogW3JeatFDRS",
        "outputId": "1504de30-e957-4234-cc57-d533af3485dc"
      },
      "outputs": [
        {
          "output_type": "stream",
          "name": "stdout",
          "text": [
            "Use /tmp/tmp6oxfmss4 as temporary training directory\n",
            "Starting reading the dataset\n",
            "\r1/1 [==============================] - ETA: 0s\n",
            "Dataset read in 0:00:00.133283\n",
            "Training model\n",
            "Model trained in 0:00:00.215542\n",
            "Compiling model\n",
            "1/1 [==============================] - 0s 356ms/step\n",
            "Model training time: 0:00:00.501160 \n",
            "\n"
          ]
        }
      ],
      "source": [
        "# Define the baseline model for benchmarking\n",
        "start_time_module = datetime.now()\n",
        "reset_random()\n",
        "GBT_model = tfdf.keras.GradientBoostedTreesModel(task = tfdf.keras.Task.CLASSIFICATION)\n",
        "GBT_model.compile(metrics=DEFAULT_METRICS)\n",
        "\n",
        "# \"sys_pipes\" is optional. It enables the display of the training logs.\n",
        "# with sys_pipes():\n",
        "#     GBT_model.fit(x=tfds_train)\n",
        "\n",
        "# Train the model.\n",
        "GBT_model.fit(x=tfds_train)\n",
        "print ('Model training time:', (datetime.now() - start_time_module), '\\n')"
      ]
    },
    {
      "cell_type": "code",
      "execution_count": 35,
      "metadata": {
        "colab": {
          "base_uri": "https://localhost:8080/",
          "height": 389
        },
        "id": "e0K_RY-tkUDo",
        "outputId": "fbfa066a-0126-4459-f4c2-d7f6f5a32007"
      },
      "outputs": [
        {
          "output_type": "display_data",
          "data": {
            "text/plain": [
              "<Figure size 1296x432 with 2 Axes>"
            ],
            "image/png": "[encoded data removed]"
          },
          "metadata": {
            "needs_background": "light"
          }
        }
      ],
      "source": [
        "logs = GBT_model.make_inspector().training_logs()\n",
        "\n",
        "plt.figure(figsize=(18, 6))\n",
        "plt.subplot(1, 2, 1)\n",
        "plt.plot([log.num_trees for log in logs], [log.evaluation.accuracy for log in logs])\n",
        "plt.xlabel(\"Number of trees\")\n",
        "plt.ylabel(\"Accuracy (out-of-bag)\")\n",
        "plt.subplot(1, 2, 2)\n",
        "plt.plot([log.num_trees for log in logs], [log.evaluation.loss for log in logs])\n",
        "plt.xlabel(\"Number of trees\")\n",
        "plt.ylabel(\"Log Loss (out-of-bag)\")\n",
        "plt.show()"
      ]
    },
    {
      "cell_type": "code",
      "execution_count": 36,
      "metadata": {
        "id": "_Z8qoCXSc3Dp",
        "outputId": "5e1edd8a-89fb-4db7-9693-3f0aa99158ee",
        "colab": {
          "base_uri": "https://localhost:8080/"
        }
      },
      "outputs": [
        {
          "output_type": "stream",
          "name": "stdout",
          "text": [
            "1/1 [==============================] - 0s 388ms/step - loss: 0.0000e+00 - accuracy: 0.9272 - auc: 0.9670\n",
            "\n",
            "loss: 0.0000\n",
            "accuracy: 0.9272\n",
            "auc: 0.9670\n"
          ]
        }
      ],
      "source": [
        "GBT_eval = GBT_model.evaluate(tfds_train, return_dict=True)\n",
        "print()\n",
        "\n",
        "for name, value in GBT_eval.items():\n",
        "    print(f\"{name}: {value:.4f}\")"
      ]
    },
    {
      "cell_type": "code",
      "execution_count": 37,
      "metadata": {
        "id": "g2ZPK8-5wXjU",
        "jupyter": {
          "outputs_hidden": false
        },
        "pycharm": {
          "name": "#%%\n"
        }
      },
      "outputs": [],
      "source": [
        "if NOTIFY_STATUS: status_notify(\"Task 4 - Train and Evaluate Models completed! \"+datetime.now().strftime('%a %B %d, %Y %I:%M:%S %p'))"
      ]
    },
    {
      "cell_type": "markdown",
      "metadata": {
        "id": "ISyQ5uNrwXjU"
      },
      "source": [
        "## Task 4 - Fine-tune and Improve Models"
      ]
    },
    {
      "cell_type": "code",
      "execution_count": 38,
      "metadata": {
        "id": "l3AulRWbzzOz"
      },
      "outputs": [],
      "source": [
        "if NOTIFY_STATUS: status_notify(\"Task 4 - Fine-tune and Improve Models has begun! \"+datetime.now().strftime('%a %B %d, %Y %I:%M:%S %p'))"
      ]
    },
    {
      "cell_type": "code",
      "execution_count": 39,
      "metadata": {
        "id": "vlCLtsxjzQ2V"
      },
      "outputs": [],
      "source": [
        "# Not applicable for this iteration of modeling"
      ]
    },
    {
      "cell_type": "code",
      "execution_count": 40,
      "metadata": {
        "id": "orMchSDCzr07"
      },
      "outputs": [],
      "source": [
        "if NOTIFY_STATUS: status_notify(\"Task 4 - Fine-tune and Improve Models completed! \"+datetime.now().strftime('%a %B %d, %Y %I:%M:%S %p'))"
      ]
    },
    {
      "cell_type": "markdown",
      "metadata": {
        "id": "D7UgYoGuzaM-"
      },
      "source": [
        "## Task 5 - Finalize Model and Present Analysis"
      ]
    },
    {
      "cell_type": "code",
      "execution_count": 41,
      "metadata": {
        "id": "BhuD5C56wXjV"
      },
      "outputs": [],
      "source": [
        "if NOTIFY_STATUS: status_notify(\"Task 5 - Finalize Model and Present Analysis has begun! \"+datetime.now().strftime('%a %B %d, %Y %I:%M:%S %p'))"
      ]
    },
    {
      "cell_type": "markdown",
      "metadata": {
        "id": "xDcJ2kVE8xNI"
      },
      "source": [
        "### 5.a) Train the Final Model"
      ]
    },
    {
      "cell_type": "code",
      "execution_count": 42,
      "metadata": {
        "colab": {
          "base_uri": "https://localhost:8080/"
        },
        "id": "dsntMWlJwXjV",
        "outputId": "b42819e3-21be-414d-a959-c68f171bee1f"
      },
      "outputs": [
        {
          "output_type": "stream",
          "name": "stdout",
          "text": [
            "Use /tmp/tmpw119uine as temporary training directory\n",
            "Starting reading the dataset\n",
            "1/1 [==============================] - ETA: 0s\n",
            "Dataset read in 0:00:00.120628\n",
            "Training model\n",
            "Model trained in 0:00:00.398514\n",
            "Compiling model\n",
            "1/1 [==============================] - 1s 583ms/step\n",
            "Model training time: 0:00:00.735158 \n",
            "\n"
          ]
        }
      ],
      "source": [
        "# Define the baseline model for benchmarking\n",
        "start_time_module = datetime.now()\n",
        "reset_random()\n",
        "Final_model = tfdf.keras.RandomForestModel(task = tfdf.keras.Task.CLASSIFICATION)\n",
        "\n",
        "# Optionally, add evaluation metrics.\n",
        "Final_model.compile(metrics=DEFAULT_METRICS)\n",
        "\n",
        "# \"sys_pipes\" is optional. It enables the display of the training logs.\n",
        "# with sys_pipes():\n",
        "#     Final_model.fit(x=tfds_train)\n",
        "\n",
        "# Train the model.\n",
        "Final_model.fit(x=tfds_train)\n",
        "print ('Model training time:', (datetime.now() - start_time_module), '\\n')"
      ]
    },
    {
      "cell_type": "code",
      "execution_count": 43,
      "metadata": {
        "colab": {
          "base_uri": "https://localhost:8080/"
        },
        "id": "IuwcWWXF89YM",
        "outputId": "2b020242-d9ab-4e2d-bdbd-6726aeea1b3a"
      },
      "outputs": [
        {
          "output_type": "stream",
          "name": "stdout",
          "text": [
            "Model: \"random_forest_model_1\"\n",
            "_________________________________________________________________\n",
            " Layer (type)                Output Shape              Param #   \n",
            "=================================================================\n",
            "=================================================================\n",
            "Total params: 1\n",
            "Trainable params: 0\n",
            "Non-trainable params: 1\n",
            "_________________________________________________________________\n",
            "Type: \"RANDOM_FOREST\"\n",
            "Task: CLASSIFICATION\n",
            "Label: \"__LABEL\"\n",
            "\n",
            "Input Features (7):\n",
            "\tArea\n",
            "\tConvex_Area\n",
            "\tEccentricity\n",
            "\tExtent\n",
            "\tMajor_Axis_Length\n",
            "\tMinor_Axis_Length\n",
            "\tPerimeter\n",
            "\n",
            "No weights\n",
            "\n",
            "Variable Importance: MEAN_MIN_DEPTH:\n",
            "    1.           \"__LABEL\"  7.549010 ################\n",
            "    2. \"Minor_Axis_Length\"  5.749420 ###########\n",
            "    3.              \"Area\"  5.102723 #########\n",
            "    4.            \"Extent\"  4.620530 ########\n",
            "    5.       \"Convex_Area\"  4.580192 #######\n",
            "    6.      \"Eccentricity\"  4.451233 #######\n",
            "    7. \"Major_Axis_Length\"  1.969185 \n",
            "    8.         \"Perimeter\"  1.627950 \n",
            "\n",
            "Variable Importance: NUM_AS_ROOT:\n",
            "    1. \"Major_Axis_Length\" 132.000000 ################\n",
            "    2.         \"Perimeter\" 122.000000 ##############\n",
            "    3.       \"Convex_Area\" 37.000000 ###\n",
            "    4.              \"Area\"  9.000000 \n",
            "\n",
            "Variable Importance: NUM_NODES:\n",
            "    1.         \"Perimeter\" 2657.000000 ################\n",
            "    2.            \"Extent\" 2390.000000 ###########\n",
            "    3. \"Major_Axis_Length\" 2177.000000 ########\n",
            "    4.      \"Eccentricity\" 2035.000000 ######\n",
            "    5.              \"Area\" 1717.000000 #\n",
            "    6.       \"Convex_Area\" 1652.000000 \n",
            "    7. \"Minor_Axis_Length\" 1607.000000 \n",
            "\n",
            "Variable Importance: SUM_SCORE:\n",
            "    1.         \"Perimeter\" 47052.929074 ################\n",
            "    2. \"Major_Axis_Length\" 46208.959274 ###############\n",
            "    3.       \"Convex_Area\" 14691.171238 ###\n",
            "    4.            \"Extent\" 11005.926147 #\n",
            "    5.      \"Eccentricity\" 10013.242592 #\n",
            "    6.              \"Area\" 9067.003008 \n",
            "    7. \"Minor_Axis_Length\" 6573.042804 \n",
            "\n",
            "\n",
            "\n",
            "Winner take all: true\n",
            "Out-of-bag evaluation: accuracy:0.867901 logloss:0.412592\n",
            "Number of trees: 300\n",
            "Total number of nodes: 28770\n",
            "\n",
            "Number of nodes by tree:\n",
            "Count: 300 Average: 95.9 StdDev: 6.98975\n",
            "Min: 75 Max: 113 Ignored: 0\n",
            "----------------------------------------------\n",
            "[  75,  76)  1   0.33%   0.33%\n",
            "[  76,  78)  2   0.67%   1.00%\n",
            "[  78,  80)  1   0.33%   1.33%\n",
            "[  80,  82)  3   1.00%   2.33% #\n",
            "[  82,  84) 10   3.33%   5.67% ##\n",
            "[  84,  86)  5   1.67%   7.33% #\n",
            "[  86,  88) 13   4.33%  11.67% ###\n",
            "[  88,  90) 20   6.67%  18.33% #####\n",
            "[  90,  92) 24   8.00%  26.33% ######\n",
            "[  92,  94) 37  12.33%  38.67% #########\n",
            "[  94,  96) 38  12.67%  51.33% #########\n",
            "[  96,  98) 43  14.33%  65.67% ##########\n",
            "[  98, 100) 25   8.33%  74.00% ######\n",
            "[ 100, 102) 26   8.67%  82.67% ######\n",
            "[ 102, 104) 13   4.33%  87.00% ###\n",
            "[ 104, 106)  8   2.67%  89.67% ##\n",
            "[ 106, 108) 15   5.00%  94.67% ###\n",
            "[ 108, 110)  8   2.67%  97.33% ##\n",
            "[ 110, 112)  7   2.33%  99.67% ##\n",
            "[ 112, 113]  1   0.33% 100.00%\n",
            "\n",
            "Depth by leafs:\n",
            "Count: 14535 Average: 7.5548 StdDev: 2.84729\n",
            "Min: 2 Max: 15 Ignored: 0\n",
            "----------------------------------------------\n",
            "[  2,  3)   68   0.47%   0.47%\n",
            "[  3,  4)  684   4.71%   5.17% ###\n",
            "[  4,  5) 1326   9.12%  14.30% #######\n",
            "[  5,  6) 1841  12.67%  26.96% #########\n",
            "[  6,  7) 2000  13.76%  40.72% ##########\n",
            "[  7,  8) 1851  12.73%  53.46% #########\n",
            "[  8,  9) 1712  11.78%  65.24% #########\n",
            "[  9, 10) 1458  10.03%  75.27% #######\n",
            "[ 10, 11) 1220   8.39%  83.66% ######\n",
            "[ 11, 12)  889   6.12%  89.78% ####\n",
            "[ 12, 13)  614   4.22%  94.00% ###\n",
            "[ 13, 14)  406   2.79%  96.79% ##\n",
            "[ 14, 15)  278   1.91%  98.71% #\n",
            "[ 15, 15]  188   1.29% 100.00% #\n",
            "\n",
            "Number of training obs by leaf:\n",
            "Count: 14535 Average: 16.7183 StdDev: 29.1853\n",
            "Min: 5 Max: 279 Ignored: 0\n",
            "----------------------------------------------\n",
            "[   5,  18) 11609  79.87%  79.87% ##########\n",
            "[  18,  32)  1247   8.58%  88.45% #\n",
            "[  32,  46)   612   4.21%  92.66% #\n",
            "[  46,  60)   353   2.43%  95.09%\n",
            "[  60,  73)   197   1.36%  96.44%\n",
            "[  73,  87)   134   0.92%  97.36%\n",
            "[  87, 101)    59   0.41%  97.77%\n",
            "[ 101, 115)    18   0.12%  97.89%\n",
            "[ 115, 128)    14   0.10%  97.99%\n",
            "[ 128, 142)    16   0.11%  98.10%\n",
            "[ 142, 156)    37   0.25%  98.36%\n",
            "[ 156, 170)    41   0.28%  98.64%\n",
            "[ 170, 183)    66   0.45%  99.09%\n",
            "[ 183, 197)    36   0.25%  99.34%\n",
            "[ 197, 211)    24   0.17%  99.50%\n",
            "[ 211, 225)    23   0.16%  99.66%\n",
            "[ 225, 238)    18   0.12%  99.79%\n",
            "[ 238, 252)    17   0.12%  99.90%\n",
            "[ 252, 266)     9   0.06%  99.97%\n",
            "[ 266, 279]     5   0.03% 100.00%\n",
            "\n",
            "Attribute in nodes:\n",
            "\t2657 : Perimeter [NUMERICAL]\n",
            "\t2390 : Extent [NUMERICAL]\n",
            "\t2177 : Major_Axis_Length [NUMERICAL]\n",
            "\t2035 : Eccentricity [NUMERICAL]\n",
            "\t1717 : Area [NUMERICAL]\n",
            "\t1652 : Convex_Area [NUMERICAL]\n",
            "\t1607 : Minor_Axis_Length [NUMERICAL]\n",
            "\n",
            "Attribute in nodes with depth <= 0:\n",
            "\t132 : Major_Axis_Length [NUMERICAL]\n",
            "\t122 : Perimeter [NUMERICAL]\n",
            "\t37 : Convex_Area [NUMERICAL]\n",
            "\t9 : Area [NUMERICAL]\n",
            "\n",
            "Attribute in nodes with depth <= 1:\n",
            "\t383 : Perimeter [NUMERICAL]\n",
            "\t347 : Major_Axis_Length [NUMERICAL]\n",
            "\t78 : Convex_Area [NUMERICAL]\n",
            "\t48 : Eccentricity [NUMERICAL]\n",
            "\t23 : Extent [NUMERICAL]\n",
            "\t20 : Area [NUMERICAL]\n",
            "\t1 : Minor_Axis_Length [NUMERICAL]\n",
            "\n",
            "Attribute in nodes with depth <= 2:\n",
            "\t652 : Perimeter [NUMERICAL]\n",
            "\t507 : Major_Axis_Length [NUMERICAL]\n",
            "\t226 : Eccentricity [NUMERICAL]\n",
            "\t225 : Extent [NUMERICAL]\n",
            "\t175 : Convex_Area [NUMERICAL]\n",
            "\t131 : Area [NUMERICAL]\n",
            "\t116 : Minor_Axis_Length [NUMERICAL]\n",
            "\n",
            "Attribute in nodes with depth <= 3:\n",
            "\t968 : Perimeter [NUMERICAL]\n",
            "\t720 : Major_Axis_Length [NUMERICAL]\n",
            "\t518 : Extent [NUMERICAL]\n",
            "\t472 : Eccentricity [NUMERICAL]\n",
            "\t336 : Area [NUMERICAL]\n",
            "\t319 : Convex_Area [NUMERICAL]\n",
            "\t279 : Minor_Axis_Length [NUMERICAL]\n",
            "\n",
            "Attribute in nodes with depth <= 5:\n",
            "\t1519 : Perimeter [NUMERICAL]\n",
            "\t1224 : Major_Axis_Length [NUMERICAL]\n",
            "\t1189 : Extent [NUMERICAL]\n",
            "\t1036 : Eccentricity [NUMERICAL]\n",
            "\t807 : Area [NUMERICAL]\n",
            "\t774 : Convex_Area [NUMERICAL]\n",
            "\t724 : Minor_Axis_Length [NUMERICAL]\n",
            "\n",
            "Condition type in nodes:\n",
            "\t14235 : HigherCondition\n",
            "Condition type in nodes with depth <= 0:\n",
            "\t300 : HigherCondition\n",
            "Condition type in nodes with depth <= 1:\n",
            "\t900 : HigherCondition\n",
            "Condition type in nodes with depth <= 2:\n",
            "\t2032 : HigherCondition\n",
            "Condition type in nodes with depth <= 3:\n",
            "\t3612 : HigherCondition\n",
            "Condition type in nodes with depth <= 5:\n",
            "\t7273 : HigherCondition\n",
            "Node format: NOT_SET\n",
            "\n",
            "Training OOB:\n",
            "\ttrees: 1, Out-of-bag evaluation: accuracy:0.803448 logloss:7.08444\n",
            "\ttrees: 11, Out-of-bag evaluation: accuracy:0.834988 logloss:2.4529\n",
            "\ttrees: 21, Out-of-bag evaluation: accuracy:0.858025 logloss:1.43385\n",
            "\ttrees: 31, Out-of-bag evaluation: accuracy:0.859259 logloss:1.18755\n",
            "\ttrees: 41, Out-of-bag evaluation: accuracy:0.854321 logloss:1.10078\n",
            "\ttrees: 51, Out-of-bag evaluation: accuracy:0.862963 logloss:0.977276\n",
            "\ttrees: 61, Out-of-bag evaluation: accuracy:0.862963 logloss:0.814638\n",
            "\ttrees: 71, Out-of-bag evaluation: accuracy:0.864198 logloss:0.771999\n",
            "\ttrees: 81, Out-of-bag evaluation: accuracy:0.866667 logloss:0.730231\n",
            "\ttrees: 91, Out-of-bag evaluation: accuracy:0.860494 logloss:0.729483\n",
            "\ttrees: 101, Out-of-bag evaluation: accuracy:0.864198 logloss:0.728638\n",
            "\ttrees: 111, Out-of-bag evaluation: accuracy:0.864198 logloss:0.726789\n",
            "\ttrees: 121, Out-of-bag evaluation: accuracy:0.865432 logloss:0.726543\n",
            "\ttrees: 131, Out-of-bag evaluation: accuracy:0.859259 logloss:0.727218\n",
            "\ttrees: 141, Out-of-bag evaluation: accuracy:0.860494 logloss:0.688525\n",
            "\ttrees: 151, Out-of-bag evaluation: accuracy:0.869136 logloss:0.649122\n",
            "\ttrees: 161, Out-of-bag evaluation: accuracy:0.866667 logloss:0.609653\n",
            "\ttrees: 171, Out-of-bag evaluation: accuracy:0.871605 logloss:0.570835\n",
            "\ttrees: 181, Out-of-bag evaluation: accuracy:0.869136 logloss:0.493386\n",
            "\ttrees: 191, Out-of-bag evaluation: accuracy:0.87037 logloss:0.492105\n",
            "\ttrees: 201, Out-of-bag evaluation: accuracy:0.867901 logloss:0.493266\n",
            "\ttrees: 211, Out-of-bag evaluation: accuracy:0.867901 logloss:0.493182\n",
            "\ttrees: 221, Out-of-bag evaluation: accuracy:0.865432 logloss:0.491332\n",
            "\ttrees: 231, Out-of-bag evaluation: accuracy:0.871605 logloss:0.490893\n",
            "\ttrees: 241, Out-of-bag evaluation: accuracy:0.87284 logloss:0.491074\n",
            "\ttrees: 251, Out-of-bag evaluation: accuracy:0.87284 logloss:0.490949\n",
            "\ttrees: 261, Out-of-bag evaluation: accuracy:0.867901 logloss:0.451346\n",
            "\ttrees: 271, Out-of-bag evaluation: accuracy:0.869136 logloss:0.451629\n",
            "\ttrees: 281, Out-of-bag evaluation: accuracy:0.867901 logloss:0.451334\n",
            "\ttrees: 291, Out-of-bag evaluation: accuracy:0.867901 logloss:0.45181\n",
            "\ttrees: 300, Out-of-bag evaluation: accuracy:0.867901 logloss:0.412592\n",
            "\n"
          ]
        }
      ],
      "source": [
        "Final_model.summary()"
      ]
    },
    {
      "cell_type": "markdown",
      "metadata": {
        "id": "vAzsJd7g9Oqi"
      },
      "source": [
        "### 5.b) Load Test Dataset and Make Predictions"
      ]
    },
    {
      "cell_type": "code",
      "execution_count": 44,
      "metadata": {
        "id": "9hPuYzYP9VZ9",
        "colab": {
          "base_uri": "https://localhost:8080/"
        },
        "outputId": "b85e49ce-5f9a-4310-b485-5d311295f5a2"
      },
      "outputs": [
        {
          "output_type": "stream",
          "name": "stderr",
          "text": [
            "/usr/local/lib/python3.7/dist-packages/tensorflow_decision_forests/keras/core.py:2036: FutureWarning: In a future version of pandas all arguments of DataFrame.drop except for the argument 'labels' will be keyword-only\n",
            "  features_dataframe = dataframe.drop(label, 1)\n"
          ]
        }
      ],
      "source": [
        "# Finalize the test dataset for the prediction activities\n",
        "tfds_test = tfdf.keras.pd_dataframe_to_tf_dataset(df_dataset_test, label='target', task = tfdf.keras.Task.CLASSIFICATION)"
      ]
    },
    {
      "cell_type": "code",
      "execution_count": 45,
      "metadata": {
        "colab": {
          "base_uri": "https://localhost:8080/"
        },
        "id": "-fvgenmXwXjV",
        "outputId": "06e2fd3b-faf0-4d82-b0b8-e77da304f7d6"
      },
      "outputs": [
        {
          "output_type": "stream",
          "name": "stdout",
          "text": [
            "1/1 [==============================] - 0s 371ms/step - loss: 0.0000e+00 - accuracy: 0.8667 - auc: 0.9670\n",
            "\n",
            "loss: 0.0000\n",
            "accuracy: 0.8667\n",
            "auc: 0.9670\n"
          ]
        }
      ],
      "source": [
        "Final_eval = Final_model.evaluate(tfds_test, return_dict=True)\n",
        "print()\n",
        "\n",
        "for name, value in Final_eval.items():\n",
        "    print(f\"{name}: {value:.4f}\")"
      ]
    },
    {
      "cell_type": "code",
      "execution_count": 46,
      "metadata": {
        "id": "YB2v5Iq9wXjV"
      },
      "outputs": [],
      "source": [
        "if NOTIFY_STATUS: status_notify(\"Task 5 - Finalize Model and Present Analysis completed! \"+datetime.now().strftime('%a %B %d, %Y %I:%M:%S %p'))"
      ]
    },
    {
      "cell_type": "code",
      "execution_count": 47,
      "metadata": {
        "colab": {
          "base_uri": "https://localhost:8080/"
        },
        "id": "piIVF1NIwXjW",
        "outputId": "59221f7a-443c-45c4-8b76-e5d5cc19b789"
      },
      "outputs": [
        {
          "output_type": "stream",
          "name": "stdout",
          "text": [
            "Total time for the script: 0:00:25.589271\n"
          ]
        }
      ],
      "source": [
        "print ('Total time for the script:',(datetime.now() - start_time_script))"
      ]
    }
  ],
  "metadata": {
    "colab": {
      "collapsed_sections": [],
      "name": "py_decisionforests_binaryclass_muratkoklu_raisin_grains_identification.ipynb",
      "provenance": [],
      "background_execution": "on"
    },
    "kernelspec": {
      "display_name": "Python 3 (ipykernel)",
      "language": "python",
      "name": "python3"
    },
    "language_info": {
      "codemirror_mode": {
        "name": "ipython",
        "version": 3
      },
      "file_extension": ".py",
      "mimetype": "text/x-python",
      "name": "python",
      "nbconvert_exporter": "python",
      "pygments_lexer": "ipython3",
      "version": "3.8.10"
    }
  },
  "nbformat": 4,
  "nbformat_minor": 0
}
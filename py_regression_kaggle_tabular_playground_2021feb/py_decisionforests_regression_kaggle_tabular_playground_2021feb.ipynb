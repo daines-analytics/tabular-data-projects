{
  "nbformat": 4,
  "nbformat_minor": 0,
  "metadata": {
    "colab": {
      "name": "py_decisionforests_regression_kaggle_tabular_playground_2021feb.ipynb",
      "provenance": [],
      "collapsed_sections": []
    },
    "kernelspec": {
      "display_name": "Python 3 (ipykernel)",
      "language": "python",
      "name": "python3"
    },
    "language_info": {
      "codemirror_mode": {
        "name": "ipython",
        "version": 3
      },
      "file_extension": ".py",
      "mimetype": "text/x-python",
      "name": "python",
      "nbconvert_exporter": "python",
      "pygments_lexer": "ipython3",
      "version": "3.8.11"
    }
  },
  "cells": [
    {
      "cell_type": "markdown",
      "metadata": {
        "id": "2sQmc7MlwXit"
      },
      "source": [
        "# Regression Model for Kaggle Tabular Playground Series February 2021 Using TensorFlow Decision Forests\n",
        "### David Lowe\n",
        "### November 19, 2021\n",
        "\n",
        "Template Credit: Adapted from a template made available by Dr. Jason Brownlee of Machine Learning Mastery. [https://machinelearningmastery.com/]\n",
        "\n",
        "SUMMARY: The project aims to construct a predictive model using various machine learning algorithms and document the end-to-end steps using a template. The Kaggle Tabular Playground Series Aug 2021 dataset is a regression situation where we are trying to predict the value of a continuous variable.\n",
        "\n",
        "Kaggle wants to provide an approachable environment for relatively new people in their data science journey. Since January 2021, they have hosted playground-style competitions on Kaggle with fun but less complex, tabular datasets. The February dataset may be synthetic but is based on a real dataset and generated using a CTGAN. The original dataset tries to predict the amount of an insurance claim. Although the features are anonymized, they have properties relating to real-world features.\n",
        "\n",
        "ANALYSIS: The performance of the preliminary Random Forest model achieved an RMSE benchmark of 0.8422 on the validation dataset. The final model processed the validation dataset with a final RMSE score of 0.8549. When we applied the finalized model to Kaggle's test dataset, the model achieved an RMSE score of 0.8534.\n",
        "\n",
        "CONCLUSION: In this iteration, the TensorFlow Decision Forests model appeared to be a suitable algorithm for modeling this dataset.\n",
        "\n",
        "Dataset Used: Kaggle Tabular Playground Series Aug 2021 Data Set\n",
        "\n",
        "Dataset ML Model: Regression with numerical attributes\n",
        "\n",
        "Dataset Reference: https://www.kaggle.com/c/tabular-playground-series-feb-2021\n",
        "\n",
        "One potential source of performance benchmarks: https://www.kaggle.com/c/tabular-playground-series-feb-2021/leaderboard\n",
        "\n",
        "Any predictive modeling machine learning project generally can be broken down into about six major tasks:\n",
        "\n",
        "1. Prepare Environment\n",
        "2. Summarize and Visualize Data\n",
        "3. Train and Evaluate Models\n",
        "4. Fine-tune and Improve Models\n",
        "5. Finalize Model and Present Analysis"
      ]
    },
    {
      "cell_type": "markdown",
      "metadata": {
        "id": "2pu8nWBYwXi9"
      },
      "source": [
        "## Task 1 - Prepare Environment"
      ]
    },
    {
      "cell_type": "code",
      "metadata": {
        "id": "oucRIOhVwXi9",
        "colab": {
          "base_uri": "https://localhost:8080/"
        },
        "outputId": "4caa0caa-bddb-47f8-d78d-bee3d72c31b1"
      },
      "source": [
        "# Install the necessary packages for Colab\n",
        "# !pip install python-dotenv PyMySQL\n",
        "!pip install tensorflow_decision_forests"
      ],
      "execution_count": null,
      "outputs": [
        {
          "output_type": "stream",
          "name": "stdout",
          "text": [
            "Requirement already satisfied: tensorflow_decision_forests in /usr/local/lib/python3.7/dist-packages (0.2.1)\n",
            "Requirement already satisfied: pandas in /usr/local/lib/python3.7/dist-packages (from tensorflow_decision_forests) (1.1.5)\n",
            "Requirement already satisfied: six in /usr/local/lib/python3.7/dist-packages (from tensorflow_decision_forests) (1.15.0)\n",
            "Requirement already satisfied: numpy in /usr/local/lib/python3.7/dist-packages (from tensorflow_decision_forests) (1.19.5)\n",
            "Requirement already satisfied: tensorflow~=2.7.0 in /usr/local/lib/python3.7/dist-packages (from tensorflow_decision_forests) (2.7.0)\n",
            "Requirement already satisfied: absl-py in /usr/local/lib/python3.7/dist-packages (from tensorflow_decision_forests) (0.12.0)\n",
            "Requirement already satisfied: wheel in /usr/local/lib/python3.7/dist-packages (from tensorflow_decision_forests) (0.37.0)\n",
            "Requirement already satisfied: protobuf>=3.9.2 in /usr/local/lib/python3.7/dist-packages (from tensorflow~=2.7.0->tensorflow_decision_forests) (3.17.3)\n",
            "Requirement already satisfied: keras-preprocessing>=1.1.1 in /usr/local/lib/python3.7/dist-packages (from tensorflow~=2.7.0->tensorflow_decision_forests) (1.1.2)\n",
            "Requirement already satisfied: gast<0.5.0,>=0.2.1 in /usr/local/lib/python3.7/dist-packages (from tensorflow~=2.7.0->tensorflow_decision_forests) (0.4.0)\n",
            "Requirement already satisfied: tensorboard~=2.6 in /usr/local/lib/python3.7/dist-packages (from tensorflow~=2.7.0->tensorflow_decision_forests) (2.7.0)\n",
            "Requirement already satisfied: flatbuffers<3.0,>=1.12 in /usr/local/lib/python3.7/dist-packages (from tensorflow~=2.7.0->tensorflow_decision_forests) (2.0)\n",
            "Requirement already satisfied: h5py>=2.9.0 in /usr/local/lib/python3.7/dist-packages (from tensorflow~=2.7.0->tensorflow_decision_forests) (3.1.0)\n",
            "Requirement already satisfied: keras<2.8,>=2.7.0rc0 in /usr/local/lib/python3.7/dist-packages (from tensorflow~=2.7.0->tensorflow_decision_forests) (2.7.0)\n",
            "Requirement already satisfied: typing-extensions>=3.6.6 in /usr/local/lib/python3.7/dist-packages (from tensorflow~=2.7.0->tensorflow_decision_forests) (3.10.0.2)\n",
            "Requirement already satisfied: astunparse>=1.6.0 in /usr/local/lib/python3.7/dist-packages (from tensorflow~=2.7.0->tensorflow_decision_forests) (1.6.3)\n",
            "Requirement already satisfied: libclang>=9.0.1 in /usr/local/lib/python3.7/dist-packages (from tensorflow~=2.7.0->tensorflow_decision_forests) (12.0.0)\n",
            "Requirement already satisfied: grpcio<2.0,>=1.24.3 in /usr/local/lib/python3.7/dist-packages (from tensorflow~=2.7.0->tensorflow_decision_forests) (1.42.0)\n",
            "Requirement already satisfied: termcolor>=1.1.0 in /usr/local/lib/python3.7/dist-packages (from tensorflow~=2.7.0->tensorflow_decision_forests) (1.1.0)\n",
            "Requirement already satisfied: wrapt>=1.11.0 in /usr/local/lib/python3.7/dist-packages (from tensorflow~=2.7.0->tensorflow_decision_forests) (1.13.3)\n",
            "Requirement already satisfied: tensorflow-io-gcs-filesystem>=0.21.0 in /usr/local/lib/python3.7/dist-packages (from tensorflow~=2.7.0->tensorflow_decision_forests) (0.22.0)\n",
            "Requirement already satisfied: tensorflow-estimator<2.8,~=2.7.0rc0 in /usr/local/lib/python3.7/dist-packages (from tensorflow~=2.7.0->tensorflow_decision_forests) (2.7.0)\n",
            "Requirement already satisfied: opt-einsum>=2.3.2 in /usr/local/lib/python3.7/dist-packages (from tensorflow~=2.7.0->tensorflow_decision_forests) (3.3.0)\n",
            "Requirement already satisfied: google-pasta>=0.1.1 in /usr/local/lib/python3.7/dist-packages (from tensorflow~=2.7.0->tensorflow_decision_forests) (0.2.0)\n",
            "Requirement already satisfied: cached-property in /usr/local/lib/python3.7/dist-packages (from h5py>=2.9.0->tensorflow~=2.7.0->tensorflow_decision_forests) (1.5.2)\n",
            "Requirement already satisfied: tensorboard-plugin-wit>=1.6.0 in /usr/local/lib/python3.7/dist-packages (from tensorboard~=2.6->tensorflow~=2.7.0->tensorflow_decision_forests) (1.8.0)\n",
            "Requirement already satisfied: google-auth-oauthlib<0.5,>=0.4.1 in /usr/local/lib/python3.7/dist-packages (from tensorboard~=2.6->tensorflow~=2.7.0->tensorflow_decision_forests) (0.4.6)\n",
            "Requirement already satisfied: requests<3,>=2.21.0 in /usr/local/lib/python3.7/dist-packages (from tensorboard~=2.6->tensorflow~=2.7.0->tensorflow_decision_forests) (2.23.0)\n",
            "Requirement already satisfied: werkzeug>=0.11.15 in /usr/local/lib/python3.7/dist-packages (from tensorboard~=2.6->tensorflow~=2.7.0->tensorflow_decision_forests) (1.0.1)\n",
            "Requirement already satisfied: markdown>=2.6.8 in /usr/local/lib/python3.7/dist-packages (from tensorboard~=2.6->tensorflow~=2.7.0->tensorflow_decision_forests) (3.3.6)\n",
            "Requirement already satisfied: tensorboard-data-server<0.7.0,>=0.6.0 in /usr/local/lib/python3.7/dist-packages (from tensorboard~=2.6->tensorflow~=2.7.0->tensorflow_decision_forests) (0.6.1)\n",
            "Requirement already satisfied: google-auth<3,>=1.6.3 in /usr/local/lib/python3.7/dist-packages (from tensorboard~=2.6->tensorflow~=2.7.0->tensorflow_decision_forests) (1.35.0)\n",
            "Requirement already satisfied: setuptools>=41.0.0 in /usr/local/lib/python3.7/dist-packages (from tensorboard~=2.6->tensorflow~=2.7.0->tensorflow_decision_forests) (57.4.0)\n",
            "Requirement already satisfied: pyasn1-modules>=0.2.1 in /usr/local/lib/python3.7/dist-packages (from google-auth<3,>=1.6.3->tensorboard~=2.6->tensorflow~=2.7.0->tensorflow_decision_forests) (0.2.8)\n",
            "Requirement already satisfied: cachetools<5.0,>=2.0.0 in /usr/local/lib/python3.7/dist-packages (from google-auth<3,>=1.6.3->tensorboard~=2.6->tensorflow~=2.7.0->tensorflow_decision_forests) (4.2.4)\n",
            "Requirement already satisfied: rsa<5,>=3.1.4 in /usr/local/lib/python3.7/dist-packages (from google-auth<3,>=1.6.3->tensorboard~=2.6->tensorflow~=2.7.0->tensorflow_decision_forests) (4.7.2)\n",
            "Requirement already satisfied: requests-oauthlib>=0.7.0 in /usr/local/lib/python3.7/dist-packages (from google-auth-oauthlib<0.5,>=0.4.1->tensorboard~=2.6->tensorflow~=2.7.0->tensorflow_decision_forests) (1.3.0)\n",
            "Requirement already satisfied: importlib-metadata>=4.4 in /usr/local/lib/python3.7/dist-packages (from markdown>=2.6.8->tensorboard~=2.6->tensorflow~=2.7.0->tensorflow_decision_forests) (4.8.2)\n",
            "Requirement already satisfied: zipp>=0.5 in /usr/local/lib/python3.7/dist-packages (from importlib-metadata>=4.4->markdown>=2.6.8->tensorboard~=2.6->tensorflow~=2.7.0->tensorflow_decision_forests) (3.6.0)\n",
            "Requirement already satisfied: pyasn1<0.5.0,>=0.4.6 in /usr/local/lib/python3.7/dist-packages (from pyasn1-modules>=0.2.1->google-auth<3,>=1.6.3->tensorboard~=2.6->tensorflow~=2.7.0->tensorflow_decision_forests) (0.4.8)\n",
            "Requirement already satisfied: idna<3,>=2.5 in /usr/local/lib/python3.7/dist-packages (from requests<3,>=2.21.0->tensorboard~=2.6->tensorflow~=2.7.0->tensorflow_decision_forests) (2.10)\n",
            "Requirement already satisfied: chardet<4,>=3.0.2 in /usr/local/lib/python3.7/dist-packages (from requests<3,>=2.21.0->tensorboard~=2.6->tensorflow~=2.7.0->tensorflow_decision_forests) (3.0.4)\n",
            "Requirement already satisfied: urllib3!=1.25.0,!=1.25.1,<1.26,>=1.21.1 in /usr/local/lib/python3.7/dist-packages (from requests<3,>=2.21.0->tensorboard~=2.6->tensorflow~=2.7.0->tensorflow_decision_forests) (1.24.3)\n",
            "Requirement already satisfied: certifi>=2017.4.17 in /usr/local/lib/python3.7/dist-packages (from requests<3,>=2.21.0->tensorboard~=2.6->tensorflow~=2.7.0->tensorflow_decision_forests) (2021.10.8)\n",
            "Requirement already satisfied: oauthlib>=3.0.0 in /usr/local/lib/python3.7/dist-packages (from requests-oauthlib>=0.7.0->google-auth-oauthlib<0.5,>=0.4.1->tensorboard~=2.6->tensorflow~=2.7.0->tensorflow_decision_forests) (3.1.1)\n",
            "Requirement already satisfied: pytz>=2017.2 in /usr/local/lib/python3.7/dist-packages (from pandas->tensorflow_decision_forests) (2018.9)\n",
            "Requirement already satisfied: python-dateutil>=2.7.3 in /usr/local/lib/python3.7/dist-packages (from pandas->tensorflow_decision_forests) (2.8.2)\n"
          ]
        }
      ]
    },
    {
      "cell_type": "code",
      "metadata": {
        "colab": {
          "base_uri": "https://localhost:8080/"
        },
        "id": "QNXHrvTWZ96d",
        "outputId": "44449295-0661-4040-db47-6d2fa9cee3d8"
      },
      "source": [
        "!pip install wurlitzer"
      ],
      "execution_count": null,
      "outputs": [
        {
          "output_type": "stream",
          "name": "stdout",
          "text": [
            "Requirement already satisfied: wurlitzer in /usr/local/lib/python3.7/dist-packages (3.0.2)\n"
          ]
        }
      ]
    },
    {
      "cell_type": "code",
      "metadata": {
        "id": "tvspnMqBwXi-"
      },
      "source": [
        "# # Retrieve the GPU information from Colab\n",
        "# gpu_info = !nvidia-smi\n",
        "# gpu_info = '\\n'.join(gpu_info)\n",
        "# if gpu_info.find('failed') >= 0:\n",
        "#     print('Select the Runtime → \"Change runtime type\" menu to enable a GPU accelerator, ')\n",
        "#     print('and then re-execute this cell.')\n",
        "# else:\n",
        "#     print(gpu_info)"
      ],
      "execution_count": null,
      "outputs": []
    },
    {
      "cell_type": "code",
      "metadata": {
        "colab": {
          "base_uri": "https://localhost:8080/"
        },
        "id": "TanXkkQxwXi-",
        "outputId": "2f0a3a28-03ca-4b5e-bd13-e1a2552fc85d"
      },
      "source": [
        "# Retrieve the memory configuration from Colab\n",
        "from psutil import virtual_memory\n",
        "ram_gb = virtual_memory().total / 1e9\n",
        "print('Your runtime has {:.1f} gigabytes of available RAM\\n'.format(ram_gb))\n",
        "\n",
        "if ram_gb < 20:\n",
        "    print('To enable a high-RAM runtime, select the Runtime → \"Change runtime type\"')\n",
        "    print('menu, and then select High-RAM in the Runtime shape dropdown. Then, ')\n",
        "    print('re-execute this cell.')\n",
        "else:\n",
        "    print('You are using a high-RAM runtime!')"
      ],
      "execution_count": null,
      "outputs": [
        {
          "output_type": "stream",
          "name": "stdout",
          "text": [
            "Your runtime has 13.6 gigabytes of available RAM\n",
            "\n",
            "To enable a high-RAM runtime, select the Runtime → \"Change runtime type\"\n",
            "menu, and then select High-RAM in the Runtime shape dropdown. Then, \n",
            "re-execute this cell.\n"
          ]
        }
      ]
    },
    {
      "cell_type": "code",
      "metadata": {
        "colab": {
          "base_uri": "https://localhost:8080/"
        },
        "id": "ZOOVxnGCwXi_",
        "outputId": "8c5b9073-a69f-41f5-e232-285c2f6c019a"
      },
      "source": [
        "# Retrieve the CPU information\n",
        "ncpu = !nproc\n",
        "print(\"The number of available CPUs is:\", ncpu[0])"
      ],
      "execution_count": null,
      "outputs": [
        {
          "output_type": "stream",
          "name": "stdout",
          "text": [
            "The number of available CPUs is: 2\n"
          ]
        }
      ]
    },
    {
      "cell_type": "markdown",
      "metadata": {
        "id": "6UZqFeojwXjA"
      },
      "source": [
        "### 1.a) Load libraries and modules"
      ]
    },
    {
      "cell_type": "code",
      "metadata": {
        "id": "9_ovTGbJwXjA"
      },
      "source": [
        "# Set the random seed number for reproducible results\n",
        "RNG_SEED = 888"
      ],
      "execution_count": null,
      "outputs": []
    },
    {
      "cell_type": "code",
      "metadata": {
        "id": "vDmif-v8wXjB",
        "colab": {
          "base_uri": "https://localhost:8080/"
        },
        "outputId": "2f838b40-9108-47d9-e746-5c55cf31e6f1"
      },
      "source": [
        "import random\n",
        "random.seed(RNG_SEED)\n",
        "import numpy as np\n",
        "np.random.seed(RNG_SEED)\n",
        "import pandas as pd\n",
        "import seaborn as sns\n",
        "import matplotlib\n",
        "import matplotlib.pyplot as plt\n",
        "import os\n",
        "import sys\n",
        "import math\n",
        "from datetime import datetime\n",
        "# import boto3\n",
        "# from dotenv import load_dotenv\n",
        "from sklearn import preprocessing\n",
        "from sklearn.model_selection import train_test_split\n",
        "from sklearn.model_selection import RepeatedKFold\n",
        "from sklearn.pipeline import Pipeline\n",
        "from sklearn import compose\n",
        "from sklearn import impute\n",
        "import tensorflow as tf\n",
        "tf.random.set_seed(RNG_SEED)\n",
        "from tensorflow import keras\n",
        "import tensorflow_decision_forests as tfdf"
      ],
      "execution_count": null,
      "outputs": [
        {
          "output_type": "stream",
          "name": "stderr",
          "text": [
            "WARNING:root:Failure to load the custom c++ tensorflow ops. This error is likely caused the version of TensorFlow and TensorFlow Decision Forests are not compatible.\n",
            "WARNING:root:TF Parameter Server distributed training not available.\n"
          ]
        }
      ]
    },
    {
      "cell_type": "code",
      "metadata": {
        "id": "ATym7GJWaOD3"
      },
      "source": [
        "try:\n",
        "  from wurlitzer import sys_pipes\n",
        "except:\n",
        "  from colabtools.googlelog import CaptureLog as sys_pipes\n",
        "\n",
        "from IPython.core.magic import register_line_magic\n",
        "from IPython.display import Javascript"
      ],
      "execution_count": null,
      "outputs": []
    },
    {
      "cell_type": "markdown",
      "metadata": {
        "id": "M0TRB7j0wXjB"
      },
      "source": [
        "### 1.b) Set up the controlling parameters and functions"
      ]
    },
    {
      "cell_type": "code",
      "metadata": {
        "id": "JCurALWEwXjB",
        "colab": {
          "base_uri": "https://localhost:8080/"
        },
        "outputId": "73bdb416-da97-4403-9365-1f686b6c1849"
      },
      "source": [
        "# Begin the timer for the script processing\n",
        "start_time_script = datetime.now()\n",
        "\n",
        "# Set up the number of CPU cores available for multi-thread processing\n",
        "N_JOBS = 1\n",
        "\n",
        "# Set up the flag to stop sending progress emails (setting to True will send status emails!)\n",
        "NOTIFY_STATUS = False\n",
        "\n",
        "# Set the percentage sizes for splitting the dataset\n",
        "TEST_SET_RATIO = 0.2\n",
        "VAL_SET_RATIO = 0.1\n",
        "\n",
        "# Set the number of folds for cross validation\n",
        "N_FOLDS = 5\n",
        "N_ITERATIONS = 1\n",
        "\n",
        "# Set various default modeling parameters\n",
        "DEFAULT_LOSS = 'mean_squared_error'\n",
        "DEFAULT_METRICS = [tf.keras.metrics.RootMeanSquaredError(name='rmse')]\n",
        "DEFAULT_OPTIMIZER = tf.keras.optimizers.Adam(learning_rate=0.0001)\n",
        "DEFAULT_INITIALIZER = tf.keras.initializers.RandomNormal(seed=RNG_SEED)\n",
        "MAX_EPOCHS = 10\n",
        "BATCH_SIZE = 32\n",
        "\n",
        "# Check the number of GPUs accessible through TensorFlow\n",
        "print('Num GPUs Available:', len(tf.config.list_physical_devices('GPU')))\n",
        "\n",
        "# Print out the TensorFlow version for confirmation\n",
        "print('TensorFlow version:', tf.__version__)\n",
        "\n",
        "# Check the version of TensorFlow Decision Forests\n",
        "print(\"Found TensorFlow Decision Forests v\" + tfdf.__version__)"
      ],
      "execution_count": null,
      "outputs": [
        {
          "output_type": "stream",
          "name": "stdout",
          "text": [
            "Num GPUs Available: 0\n",
            "TensorFlow version: 2.7.0\n",
            "Found TensorFlow Decision Forests v0.2.1\n"
          ]
        }
      ]
    },
    {
      "cell_type": "code",
      "metadata": {
        "id": "IBDJ6B40wXjC"
      },
      "source": [
        "# Set up the email notification function\n",
        "def status_notify(msg_text):\n",
        "    access_key = os.environ.get('SNS_ACCESS_KEY')\n",
        "    secret_key = os.environ.get('SNS_SECRET_KEY')\n",
        "    aws_region = os.environ.get('SNS_AWS_REGION')\n",
        "    topic_arn = os.environ.get('SNS_TOPIC_ARN')\n",
        "    if (access_key is None) or (secret_key is None) or (aws_region is None):\n",
        "        sys.exit(\"Incomplete notification setup info. Script Processing Aborted!!!\")\n",
        "    sns = boto3.client('sns', aws_access_key_id=access_key, aws_secret_access_key=secret_key, region_name=aws_region)\n",
        "    response = sns.publish(TopicArn=topic_arn, Message=msg_text)\n",
        "    if response['ResponseMetadata']['HTTPStatusCode'] != 200 :\n",
        "        print('Status notification not OK with HTTP status code:', response['ResponseMetadata']['HTTPStatusCode'])"
      ],
      "execution_count": null,
      "outputs": []
    },
    {
      "cell_type": "code",
      "metadata": {
        "id": "e3tPi3k7wyTv"
      },
      "source": [
        "# Reset the random number generators\n",
        "def reset_random(x=RNG_SEED):\n",
        "    random.seed(x)\n",
        "    np.random.seed(x)\n",
        "    tf.random.set_seed(x)"
      ],
      "execution_count": null,
      "outputs": []
    },
    {
      "cell_type": "code",
      "metadata": {
        "id": "p2F2r8QswXjD"
      },
      "source": [
        "if NOTIFY_STATUS: status_notify(\"Task 1 - Prepare Environment has begun! \" + datetime.now().strftime('%a %B %d, %Y %I:%M:%S %p'))"
      ],
      "execution_count": null,
      "outputs": []
    },
    {
      "cell_type": "markdown",
      "metadata": {
        "id": "yk2I_AhawXjD"
      },
      "source": [
        "### 1.c) Load dataset"
      ]
    },
    {
      "cell_type": "code",
      "metadata": {
        "colab": {
          "base_uri": "https://localhost:8080/"
        },
        "id": "E7G2_4zawXjE",
        "outputId": "afa3f975-405d-4f39-e491-63da88a0f671"
      },
      "source": [
        "dataset_path = 'https://dainesanalytics.com/datasets/kaggle-tabular-playground-2021feb/train.csv'\n",
        "df_dataset_import = pd.read_csv(dataset_path, index_col=False)\n",
        "\n",
        "# Take a peek at the dataframe after import\n",
        "print(df_dataset_import.head())"
      ],
      "execution_count": null,
      "outputs": [
        {
          "output_type": "stream",
          "name": "stdout",
          "text": [
            "   id cat0 cat1 cat2 cat3  ...    cont10    cont11    cont12    cont13    target\n",
            "0   1    A    B    A    A  ...  0.724417  0.701915  0.877618  0.719903  6.994023\n",
            "1   2    B    A    A    A  ...  0.613252  0.741289  0.326679  0.808464  8.071256\n",
            "2   3    A    A    A    C  ...  0.264104  0.695561  0.869133  0.828352  5.760456\n",
            "3   4    A    A    A    C  ...  0.494269  0.698125  0.809799  0.614766  7.806457\n",
            "4   6    A    B    A    A  ...  0.724447  0.683073  0.343457  0.297743  6.868974\n",
            "\n",
            "[5 rows x 26 columns]\n"
          ]
        }
      ]
    },
    {
      "cell_type": "code",
      "metadata": {
        "colab": {
          "base_uri": "https://localhost:8080/"
        },
        "id": "3dl-LDdfwXjE",
        "outputId": "8395bfa5-9a46-4e22-fbd1-a7b23a373a20"
      },
      "source": [
        "df_dataset_import.info(verbose=True)"
      ],
      "execution_count": null,
      "outputs": [
        {
          "output_type": "stream",
          "name": "stdout",
          "text": [
            "<class 'pandas.core.frame.DataFrame'>\n",
            "RangeIndex: 300000 entries, 0 to 299999\n",
            "Data columns (total 26 columns):\n",
            " #   Column  Non-Null Count   Dtype  \n",
            "---  ------  --------------   -----  \n",
            " 0   id      300000 non-null  int64  \n",
            " 1   cat0    300000 non-null  object \n",
            " 2   cat1    300000 non-null  object \n",
            " 3   cat2    300000 non-null  object \n",
            " 4   cat3    300000 non-null  object \n",
            " 5   cat4    300000 non-null  object \n",
            " 6   cat5    300000 non-null  object \n",
            " 7   cat6    300000 non-null  object \n",
            " 8   cat7    300000 non-null  object \n",
            " 9   cat8    300000 non-null  object \n",
            " 10  cat9    300000 non-null  object \n",
            " 11  cont0   300000 non-null  float64\n",
            " 12  cont1   300000 non-null  float64\n",
            " 13  cont2   300000 non-null  float64\n",
            " 14  cont3   300000 non-null  float64\n",
            " 15  cont4   300000 non-null  float64\n",
            " 16  cont5   300000 non-null  float64\n",
            " 17  cont6   300000 non-null  float64\n",
            " 18  cont7   300000 non-null  float64\n",
            " 19  cont8   300000 non-null  float64\n",
            " 20  cont9   300000 non-null  float64\n",
            " 21  cont10  300000 non-null  float64\n",
            " 22  cont11  300000 non-null  float64\n",
            " 23  cont12  300000 non-null  float64\n",
            " 24  cont13  300000 non-null  float64\n",
            " 25  target  300000 non-null  float64\n",
            "dtypes: float64(15), int64(1), object(10)\n",
            "memory usage: 59.5+ MB\n"
          ]
        }
      ]
    },
    {
      "cell_type": "code",
      "metadata": {
        "colab": {
          "base_uri": "https://localhost:8080/"
        },
        "id": "3eB_rvlwwXjF",
        "outputId": "071e4120-426b-421e-89f5-aa01be1071a3"
      },
      "source": [
        "print(df_dataset_import.describe())"
      ],
      "execution_count": null,
      "outputs": [
        {
          "output_type": "stream",
          "name": "stdout",
          "text": [
            "                  id          cont0  ...         cont13         target\n",
            "count  300000.000000  300000.000000  ...  300000.000000  300000.000000\n",
            "mean   250018.576947       0.524634  ...       0.503349       7.456260\n",
            "std    144450.150010       0.204875  ...       0.225218       0.887295\n",
            "min         1.000000      -0.093505  ...       0.158121       0.000000\n",
            "25%    124772.500000       0.370451  ...       0.291289       6.798341\n",
            "50%    250002.500000       0.492208  ...       0.433909       7.496503\n",
            "75%    375226.500000       0.654793  ...       0.730870       8.161166\n",
            "max    499999.000000       1.052666  ...       0.873579      10.309208\n",
            "\n",
            "[8 rows x 16 columns]\n"
          ]
        }
      ]
    },
    {
      "cell_type": "code",
      "metadata": {
        "colab": {
          "base_uri": "https://localhost:8080/"
        },
        "id": "SRyVb81UwXjF",
        "outputId": "493c7ce2-9817-458f-ae42-83f68f798a18"
      },
      "source": [
        "print(df_dataset_import.isnull().sum())\n",
        "print('Total number of NaN in the dataframe: ', df_dataset_import.isnull().sum().sum())"
      ],
      "execution_count": null,
      "outputs": [
        {
          "output_type": "stream",
          "name": "stdout",
          "text": [
            "id        0\n",
            "cat0      0\n",
            "cat1      0\n",
            "cat2      0\n",
            "cat3      0\n",
            "cat4      0\n",
            "cat5      0\n",
            "cat6      0\n",
            "cat7      0\n",
            "cat8      0\n",
            "cat9      0\n",
            "cont0     0\n",
            "cont1     0\n",
            "cont2     0\n",
            "cont3     0\n",
            "cont4     0\n",
            "cont5     0\n",
            "cont6     0\n",
            "cont7     0\n",
            "cont8     0\n",
            "cont9     0\n",
            "cont10    0\n",
            "cont11    0\n",
            "cont12    0\n",
            "cont13    0\n",
            "target    0\n",
            "dtype: int64\n",
            "Total number of NaN in the dataframe:  0\n"
          ]
        }
      ]
    },
    {
      "cell_type": "markdown",
      "metadata": {
        "id": "wfaoKiSdwXjG"
      },
      "source": [
        "### 1.d) Data Cleaning"
      ]
    },
    {
      "cell_type": "code",
      "metadata": {
        "colab": {
          "base_uri": "https://localhost:8080/"
        },
        "id": "KujRTYu5wXjG",
        "outputId": "3ff9359a-92c2-4f2e-b327-5077f368d11a"
      },
      "source": [
        "# Dropping features\n",
        "df_dataset_import.drop(columns=['id'], inplace=True)\n",
        "\n",
        "# Take a peek at the dataframe after cleaning\n",
        "print(df_dataset_import.head())"
      ],
      "execution_count": null,
      "outputs": [
        {
          "output_type": "stream",
          "name": "stdout",
          "text": [
            "  cat0 cat1 cat2 cat3 cat4  ...    cont10    cont11    cont12    cont13    target\n",
            "0    A    B    A    A    B  ...  0.724417  0.701915  0.877618  0.719903  6.994023\n",
            "1    B    A    A    A    B  ...  0.613252  0.741289  0.326679  0.808464  8.071256\n",
            "2    A    A    A    C    B  ...  0.264104  0.695561  0.869133  0.828352  5.760456\n",
            "3    A    A    A    C    B  ...  0.494269  0.698125  0.809799  0.614766  7.806457\n",
            "4    A    B    A    A    B  ...  0.724447  0.683073  0.343457  0.297743  6.868974\n",
            "\n",
            "[5 rows x 25 columns]\n"
          ]
        }
      ]
    },
    {
      "cell_type": "code",
      "metadata": {
        "colab": {
          "base_uri": "https://localhost:8080/"
        },
        "id": "ZprOE1B0wXjH",
        "outputId": "20c7e73c-9b82-45e7-ecb6-cfb480f2f98b"
      },
      "source": [
        "df_dataset_import.info(verbose=True)"
      ],
      "execution_count": null,
      "outputs": [
        {
          "output_type": "stream",
          "name": "stdout",
          "text": [
            "<class 'pandas.core.frame.DataFrame'>\n",
            "RangeIndex: 300000 entries, 0 to 299999\n",
            "Data columns (total 25 columns):\n",
            " #   Column  Non-Null Count   Dtype  \n",
            "---  ------  --------------   -----  \n",
            " 0   cat0    300000 non-null  object \n",
            " 1   cat1    300000 non-null  object \n",
            " 2   cat2    300000 non-null  object \n",
            " 3   cat3    300000 non-null  object \n",
            " 4   cat4    300000 non-null  object \n",
            " 5   cat5    300000 non-null  object \n",
            " 6   cat6    300000 non-null  object \n",
            " 7   cat7    300000 non-null  object \n",
            " 8   cat8    300000 non-null  object \n",
            " 9   cat9    300000 non-null  object \n",
            " 10  cont0   300000 non-null  float64\n",
            " 11  cont1   300000 non-null  float64\n",
            " 12  cont2   300000 non-null  float64\n",
            " 13  cont3   300000 non-null  float64\n",
            " 14  cont4   300000 non-null  float64\n",
            " 15  cont5   300000 non-null  float64\n",
            " 16  cont6   300000 non-null  float64\n",
            " 17  cont7   300000 non-null  float64\n",
            " 18  cont8   300000 non-null  float64\n",
            " 19  cont9   300000 non-null  float64\n",
            " 20  cont10  300000 non-null  float64\n",
            " 21  cont11  300000 non-null  float64\n",
            " 22  cont12  300000 non-null  float64\n",
            " 23  cont13  300000 non-null  float64\n",
            " 24  target  300000 non-null  float64\n",
            "dtypes: float64(15), object(10)\n",
            "memory usage: 57.2+ MB\n"
          ]
        }
      ]
    },
    {
      "cell_type": "code",
      "metadata": {
        "colab": {
          "base_uri": "https://localhost:8080/"
        },
        "id": "QgyI5VZ1wXjH",
        "outputId": "3f82b61e-fb5d-44c7-fa6c-f6da5294e875"
      },
      "source": [
        "print(df_dataset_import.describe())"
      ],
      "execution_count": null,
      "outputs": [
        {
          "output_type": "stream",
          "name": "stdout",
          "text": [
            "               cont0          cont1  ...         cont13         target\n",
            "count  300000.000000  300000.000000  ...  300000.000000  300000.000000\n",
            "mean        0.524634       0.506649  ...       0.503349       7.456260\n",
            "std         0.204875       0.235269  ...       0.225218       0.887295\n",
            "min        -0.093505      -0.055105  ...       0.158121       0.000000\n",
            "25%         0.370451       0.352307  ...       0.291289       6.798341\n",
            "50%         0.492208       0.615156  ...       0.433909       7.496503\n",
            "75%         0.654793       0.688150  ...       0.730870       8.161166\n",
            "max         1.052666       0.851746  ...       0.873579      10.309208\n",
            "\n",
            "[8 rows x 15 columns]\n"
          ]
        }
      ]
    },
    {
      "cell_type": "code",
      "metadata": {
        "colab": {
          "base_uri": "https://localhost:8080/"
        },
        "id": "wz9iKsUswXjI",
        "outputId": "6e27e8eb-41c7-438b-838b-15eda3506eec"
      },
      "source": [
        "print(df_dataset_import.isnull().sum())\n",
        "print('Total number of NaN in the dataframe: ', df_dataset_import.isnull().sum().sum())"
      ],
      "execution_count": null,
      "outputs": [
        {
          "output_type": "stream",
          "name": "stdout",
          "text": [
            "cat0      0\n",
            "cat1      0\n",
            "cat2      0\n",
            "cat3      0\n",
            "cat4      0\n",
            "cat5      0\n",
            "cat6      0\n",
            "cat7      0\n",
            "cat8      0\n",
            "cat9      0\n",
            "cont0     0\n",
            "cont1     0\n",
            "cont2     0\n",
            "cont3     0\n",
            "cont4     0\n",
            "cont5     0\n",
            "cont6     0\n",
            "cont7     0\n",
            "cont8     0\n",
            "cont9     0\n",
            "cont10    0\n",
            "cont11    0\n",
            "cont12    0\n",
            "cont13    0\n",
            "target    0\n",
            "dtype: int64\n",
            "Total number of NaN in the dataframe:  0\n"
          ]
        }
      ]
    },
    {
      "cell_type": "markdown",
      "metadata": {
        "id": "0ZBQ1s2bwXjI"
      },
      "source": [
        "### 1.e) Splitting Data into Sets"
      ]
    },
    {
      "cell_type": "code",
      "metadata": {
        "id": "QNydPt1uwXjI",
        "colab": {
          "base_uri": "https://localhost:8080/"
        },
        "outputId": "52da93a5-7a85-4e9d-dee1-5b6978e98be6"
      },
      "source": [
        "# Use variable total_column_count to hold the number of columns in the dataframe\n",
        "total_column_count = len(df_dataset_import.columns)\n",
        "\n",
        "# Set up variable total_feature_count for the total number of attribute columns\n",
        "total_feature_count = total_column_count-1\n",
        "\n",
        "# We create attribute-only and target-only datasets (df_features_train and df_target_train)\n",
        "df_target_train = df_dataset_import['target']\n",
        "df_features_train = df_dataset_import.drop(['target'], axis=1)\n",
        "\n",
        "print(\"df_dataset_import.shape: {} df_features_train.shape: {} df_target_train.shape: {}\".format(df_dataset_import.shape, df_features_train.shape, df_target_train.shape))"
      ],
      "execution_count": null,
      "outputs": [
        {
          "output_type": "stream",
          "name": "stdout",
          "text": [
            "df_dataset_import.shape: (300000, 25) df_features_train.shape: (300000, 24) df_target_train.shape: (300000,)\n"
          ]
        }
      ]
    },
    {
      "cell_type": "markdown",
      "metadata": {
        "id": "VKU_2CL74vh-"
      },
      "source": [
        "### 1.f) Set up the parameters for data visualization"
      ]
    },
    {
      "cell_type": "code",
      "metadata": {
        "id": "7D9OChW94yP0"
      },
      "source": [
        "# Set up the number of row and columns for visualization display. display_rows * display_columns should be >= total_feature_count\n",
        "display_columns = 4\n",
        "if total_feature_count % display_columns == 0 :\n",
        "    display_rows = total_feature_count // display_columns\n",
        "else :\n",
        "    display_rows = (total_feature_count // display_columns) + 1\n",
        "    \n",
        "# Set figure width to display the data visualization plots\n",
        "fig_size = plt.rcParams[\"figure.figsize\"]\n",
        "fig_size[0] = display_columns * 4\n",
        "fig_size[1] = display_rows * 4\n",
        "plt.rcParams[\"figure.figsize\"] = fig_size"
      ],
      "execution_count": null,
      "outputs": []
    },
    {
      "cell_type": "code",
      "metadata": {
        "id": "YLRgAYnMwXjJ"
      },
      "source": [
        "if NOTIFY_STATUS: status_notify(\"Task 1 - Prepare Environment completed! \"+datetime.now().strftime('%a %B %d, %Y %I:%M:%S %p'))"
      ],
      "execution_count": null,
      "outputs": []
    },
    {
      "cell_type": "markdown",
      "metadata": {
        "id": "ZivQJCZowXjK"
      },
      "source": [
        "## Task 2 - Summarize and Visualize Data"
      ]
    },
    {
      "cell_type": "code",
      "metadata": {
        "id": "F5H90pxZwXjK"
      },
      "source": [
        "if NOTIFY_STATUS: status_notify(\"Task 2 - Summarize and Visualize Data has begun! \"+datetime.now().strftime('%a %B %d, %Y %I:%M:%S %p'))"
      ],
      "execution_count": null,
      "outputs": []
    },
    {
      "cell_type": "code",
      "metadata": {
        "colab": {
          "base_uri": "https://localhost:8080/",
          "height": 905
        },
        "id": "OBhr7SGRwXjK",
        "scrolled": true,
        "outputId": "f9d8e6d4-3cf9-4e57-f2f5-6d83e64c546c"
      },
      "source": [
        "# Histograms for each attribute\n",
        "df_features_train.plot(kind='hist', subplots=True, layout=(display_rows, display_columns))\n",
        "plt.show()"
      ],
      "execution_count": null,
      "outputs": [
        {
          "output_type": "display_data",
          "data": {
            "image/png": "[encoded data removed]",
            "text/plain": [
              "<Figure size 1152x1728 with 24 Axes>"
            ]
          },
          "metadata": {
            "needs_background": "light"
          }
        }
      ]
    },
    {
      "cell_type": "code",
      "metadata": {
        "colab": {
          "base_uri": "https://localhost:8080/",
          "height": 905
        },
        "id": "NHtCofAgwXjL",
        "outputId": "fcfb222a-5f73-40e0-a7aa-f8b09f193d99"
      },
      "source": [
        "# Box and Whisker plot for each attribute\n",
        "df_features_train.plot(kind='box', subplots=True, layout=(display_rows, display_columns))\n",
        "plt.show()"
      ],
      "execution_count": null,
      "outputs": [
        {
          "output_type": "display_data",
          "data": {
            "image/png": "[encoded data removed]",
            "text/plain": [
              "<Figure size 1152x1728 with 24 Axes>"
            ]
          },
          "metadata": {
            "needs_background": "light"
          }
        }
      ]
    },
    {
      "cell_type": "code",
      "metadata": {
        "id": "HXUm5_nkwXjL",
        "colab": {
          "base_uri": "https://localhost:8080/",
          "height": 1000
        },
        "outputId": "a9fe04fd-0332-436a-ef77-f90d8dc3f3b2"
      },
      "source": [
        "# Correlation matrix\n",
        "fig = plt.figure(figsize=(20, 20))\n",
        "correlations = df_features_train.corr(method='pearson')\n",
        "sns.heatmap(correlations, annot=True, cmap=plt.cm.PuBu)\n",
        "plt.show()"
      ],
      "execution_count": null,
      "outputs": [
        {
          "output_type": "display_data",
          "data": {
            "image/png": "[encoded data removed]",
            "text/plain": [
              "<Figure size 1440x1440 with 2 Axes>"
            ]
          },
          "metadata": {
            "needs_background": "light"
          }
        }
      ]
    },
    {
      "cell_type": "code",
      "metadata": {
        "id": "yHcRjiadwXjL"
      },
      "source": [
        "if NOTIFY_STATUS: status_notify(\"Task 2 - Summarize and Visualize Data completed! \"+datetime.now().strftime('%a %B %d, %Y %I:%M:%S %p'))"
      ],
      "execution_count": null,
      "outputs": []
    },
    {
      "cell_type": "markdown",
      "metadata": {
        "id": "-8rH-HXuwXjM"
      },
      "source": [
        "## Task 3 - Train and Evaluate Models"
      ]
    },
    {
      "cell_type": "code",
      "metadata": {
        "id": "UnD36SUzwXjM"
      },
      "source": [
        "if NOTIFY_STATUS: status_notify(\"Task 3 - Train and Evaluate Models has begun! \"+datetime.now().strftime('%a %B %d, %Y %I:%M:%S %p'))"
      ],
      "execution_count": null,
      "outputs": []
    },
    {
      "cell_type": "markdown",
      "metadata": {
        "id": "C5MXnEfq0-PW"
      },
      "source": [
        "### 3.a) Splitting Data into Training and Validation Sets"
      ]
    },
    {
      "cell_type": "code",
      "metadata": {
        "id": "AI2yMOlA6PwG",
        "colab": {
          "base_uri": "https://localhost:8080/"
        },
        "outputId": "be8dfd24-5981-4294-8949-dd6cd2e4c1d3"
      },
      "source": [
        "# Split the data further into training and validation datasets\n",
        "df_dataset_train, df_dataset_valid = train_test_split(df_dataset_import, test_size=VAL_SET_RATIO, random_state=RNG_SEED)\n",
        "print(\"df_dataset_train.shape: {} df_dataset_valid.shape: {}\".format(df_dataset_train.shape, df_dataset_valid.shape))"
      ],
      "execution_count": null,
      "outputs": [
        {
          "output_type": "stream",
          "name": "stdout",
          "text": [
            "df_dataset_train.shape: (270000, 25) df_dataset_valid.shape: (30000, 25)\n"
          ]
        }
      ]
    },
    {
      "cell_type": "code",
      "metadata": {
        "id": "QY2ulFc8wXjR"
      },
      "source": [
        "# Finalize the training and validation datasets for the modeling activities\n",
        "tfds_train = tfdf.keras.pd_dataframe_to_tf_dataset(df_dataset_train, label='target', task = tfdf.keras.Task.REGRESSION)\n",
        "tfds_valid = tfdf.keras.pd_dataframe_to_tf_dataset(df_dataset_valid, label='target', task = tfdf.keras.Task.REGRESSION)"
      ],
      "execution_count": null,
      "outputs": []
    },
    {
      "cell_type": "markdown",
      "metadata": {
        "id": "2_pts_ZN1J3g"
      },
      "source": [
        "### 3.b) Train and Evaluate the Random Forest Model"
      ]
    },
    {
      "cell_type": "code",
      "metadata": {
        "id": "Bbls2rTF3l8E",
        "colab": {
          "base_uri": "https://localhost:8080/"
        },
        "outputId": "f00fecb5-bdf8-4cdc-f276-cf218b89571d"
      },
      "source": [
        "# Define the baseline model for benchmarking\n",
        "start_time_module = datetime.now()\n",
        "reset_random()\n",
        "model_1 = tfdf.keras.RandomForestModel(task = tfdf.keras.Task.REGRESSION)\n",
        "\n",
        "# Optionally, add evaluation metrics.\n",
        "model_1.compile(\n",
        "    metrics=DEFAULT_METRICS)\n",
        "\n",
        "# Train the model.\n",
        "# \"sys_pipes\" is optional. It enables the display of the training logs.\n",
        "with sys_pipes():\n",
        "    model_1.fit(x=tfds_train)\n",
        "print ('Model training time:', (datetime.now() - start_time_module), '\\n')"
      ],
      "execution_count": null,
      "outputs": [
        {
          "output_type": "stream",
          "name": "stdout",
          "text": [
            "4218/4219 [============================>.] - ETA: 0s"
          ]
        },
        {
          "output_type": "stream",
          "name": "stderr",
          "text": [
            "[INFO kernel.cc:736] Start Yggdrasil model training\n",
            "[INFO kernel.cc:737] Collect training examples\n",
            "[INFO kernel.cc:392] Number of batches: 4219\n",
            "[INFO kernel.cc:393] Number of examples: 270000\n",
            "[INFO data_spec_inference.cc:290] 1 item(s) have been pruned (i.e. they are considered out of dictionary) for the column cat6 (7 item(s) left) because min_value_count=5 and max_number_of_unique_values=2000\n",
            "[INFO data_spec_inference.cc:290] 1 item(s) have been pruned (i.e. they are considered out of dictionary) for the column cat7 (7 item(s) left) because min_value_count=5 and max_number_of_unique_values=2000\n",
            "[INFO kernel.cc:759] Dataset:\n",
            "Number of records: 270000\n",
            "Number of columns: 25\n",
            "\n",
            "Number of columns by type:\n",
            "\tNUMERICAL: 15 (60%)\n",
            "\tCATEGORICAL: 10 (40%)\n",
            "\n",
            "Columns:\n",
            "\n",
            "NUMERICAL: 15 (60%)\n",
            "\t10: \"cont0\" NUMERICAL mean:0.524665 min:-0.0935054 max:1.05267 sd:0.204975\n",
            "\t11: \"cont1\" NUMERICAL mean:0.5066 min:-0.0551051 max:0.851746 sd:0.235212\n",
            "\t12: \"cont10\" NUMERICAL mean:0.504882 min:0.0596438 max:1.02977 sd:0.201568\n",
            "\t13: \"cont11\" NUMERICAL mean:0.529966 min:0.0641612 max:1.03805 sd:0.230866\n",
            "\t14: \"cont12\" NUMERICAL mean:0.524661 min:-0.0056 max:0.960661 sd:0.220914\n",
            "\t15: \"cont13\" NUMERICAL mean:0.503246 min:0.158121 max:0.873579 sd:0.225184\n",
            "\t16: \"cont2\" NUMERICAL mean:0.443985 min:-0.0602737 max:1.01769 sd:0.200055\n",
            "\t17: \"cont3\" NUMERICAL mean:0.446431 min:0.13476 max:1.00647 sd:0.23872\n",
            "\t18: \"cont4\" NUMERICAL mean:0.455521 min:0.189216 max:0.99405 sd:0.200755\n",
            "\t19: \"cont5\" NUMERICAL mean:0.508507 min:-0.0872467 max:1.04443 sd:0.231717\n",
            "\t20: \"cont6\" NUMERICAL mean:0.478303 min:0.0439533 max:1.09331 sd:0.192422\n",
            "\t21: \"cont7\" NUMERICAL mean:0.456091 min:0.208703 max:1.03547 sd:0.204578\n",
            "\t22: \"cont8\" NUMERICAL mean:0.459479 min:0.00404139 max:1.01416 sd:0.220727\n",
            "\t23: \"cont9\" NUMERICAL mean:0.52701 min:0.0730399 max:0.972091 sd:0.204064\n",
            "\t24: \"__LABEL\" NUMERICAL mean:7.4558 min:0 max:10.3092 sd:0.888528\n",
            "\n",
            "CATEGORICAL: 10 (40%)\n",
            "\t0: \"cat0\" CATEGORICAL has-dict vocab-size:3 zero-ood-items most-frequent:\"A\" 253271 (93.8041%)\n",
            "\t1: \"cat1\" CATEGORICAL has-dict vocab-size:3 zero-ood-items most-frequent:\"A\" 146410 (54.2259%)\n",
            "\t2: \"cat2\" CATEGORICAL has-dict vocab-size:3 zero-ood-items most-frequent:\"A\" 248913 (92.19%)\n",
            "\t3: \"cat3\" CATEGORICAL has-dict vocab-size:5 zero-ood-items most-frequent:\"C\" 165494 (61.2941%)\n",
            "\t4: \"cat4\" CATEGORICAL has-dict vocab-size:5 zero-ood-items most-frequent:\"B\" 267642 (99.1267%)\n",
            "\t5: \"cat5\" CATEGORICAL has-dict vocab-size:5 zero-ood-items most-frequent:\"B\" 134140 (49.6815%)\n",
            "\t6: \"cat6\" CATEGORICAL has-dict vocab-size:8 num-oods:1 (0.00037037%) most-frequent:\"A\" 263330 (97.5296%)\n",
            "\t7: \"cat7\" CATEGORICAL has-dict vocab-size:8 num-oods:1 (0.00037037%) most-frequent:\"E\" 240842 (89.2007%)\n",
            "\t8: \"cat8\" CATEGORICAL has-dict vocab-size:8 zero-ood-items most-frequent:\"C\" 108892 (40.3304%)\n",
            "\t9: \"cat9\" CATEGORICAL has-dict vocab-size:16 zero-ood-items most-frequent:\"F\" 96539 (35.7552%)\n",
            "\n",
            "Terminology:\n",
            "\tnas: Number of non-available (i.e. missing) values.\n",
            "\tood: Out of dictionary.\n",
            "\tmanually-defined: Attribute which type is manually defined by the user i.e. the type was not automatically inferred.\n",
            "\ttokenized: The attribute value is obtained through tokenization.\n",
            "\thas-dict: The attribute is attached to a string dictionary e.g. a categorical attribute stored as a string.\n",
            "\tvocab-size: Number of unique values.\n",
            "\n",
            "[INFO kernel.cc:762] Configure learner\n",
            "[INFO kernel.cc:787] Training config:\n",
            "learner: \"RANDOM_FOREST\"\n",
            "features: \"cat0\"\n",
            "features: \"cat1\"\n",
            "features: \"cat2\"\n",
            "features: \"cat3\"\n",
            "features: \"cat4\"\n",
            "features: \"cat5\"\n",
            "features: \"cat6\"\n",
            "features: \"cat7\"\n",
            "features: \"cat8\"\n",
            "features: \"cat9\"\n",
            "features: \"cont0\"\n",
            "features: \"cont1\"\n",
            "features: \"cont10\"\n",
            "features: \"cont11\"\n",
            "features: \"cont12\"\n",
            "features: \"cont13\"\n",
            "features: \"cont2\"\n",
            "features: \"cont3\"\n",
            "features: \"cont4\"\n",
            "features: \"cont5\"\n",
            "features: \"cont6\"\n",
            "features: \"cont7\"\n",
            "features: \"cont8\"\n",
            "features: \"cont9\"\n",
            "label: \"__LABEL\"\n",
            "task: REGRESSION\n",
            "[yggdrasil_decision_forests.model.random_forest.proto.random_forest_config] {\n",
            "  num_trees: 300\n",
            "  decision_tree {\n",
            "    max_depth: 16\n",
            "    min_examples: 5\n",
            "    in_split_min_examples_check: true\n",
            "    missing_value_policy: GLOBAL_IMPUTATION\n",
            "    allow_na_conditions: false\n",
            "    categorical_set_greedy_forward {\n",
            "      sampling: 0.1\n",
            "      max_num_items: -1\n",
            "      min_item_frequency: 1\n",
            "    }\n",
            "    growing_strategy_local {\n",
            "    }\n",
            "    categorical {\n",
            "      cart {\n",
            "      }\n",
            "    }\n",
            "    num_candidate_attributes_ratio: -1\n",
            "    axis_aligned_split {\n",
            "    }\n",
            "    internal {\n",
            "      sorting_strategy: PRESORTED\n",
            "    }\n",
            "  }\n",
            "  winner_take_all_inference: true\n",
            "  compute_oob_performances: true\n",
            "  compute_oob_variable_importances: false\n",
            "  adapt_bootstrap_size_ratio_for_maximum_training_duration: false\n",
            "}\n",
            "\n",
            "[INFO kernel.cc:790] Deployment config:\n",
            "num_threads: 6\n",
            "\n",
            "[INFO kernel.cc:817] Train model\n",
            "[INFO random_forest.cc:315] Training random forest on 270000 example(s) and 24 feature(s).\n",
            "[INFO random_forest.cc:628] Training of tree  1/300 (tree index:3) done rmse:0.923555\n",
            "[INFO random_forest.cc:628] Training of tree  7/300 (tree index:6) done rmse:0.887121\n",
            "[INFO random_forest.cc:628] Training of tree  13/300 (tree index:12) done rmse:0.870875\n",
            "[INFO random_forest.cc:628] Training of tree  19/300 (tree index:18) done rmse:0.865576\n",
            "[INFO random_forest.cc:628] Training of tree  25/300 (tree index:25) done rmse:0.862868\n",
            "[INFO random_forest.cc:628] Training of tree  31/300 (tree index:30) done rmse:0.861133\n",
            "[INFO random_forest.cc:628] Training of tree  37/300 (tree index:36) done rmse:0.860056\n",
            "[INFO random_forest.cc:628] Training of tree  43/300 (tree index:42) done rmse:0.859171\n",
            "[INFO random_forest.cc:628] Training of tree  49/300 (tree index:48) done rmse:0.858607\n",
            "[INFO random_forest.cc:628] Training of tree  55/300 (tree index:54) done rmse:0.858145\n",
            "[INFO random_forest.cc:628] Training of tree  61/300 (tree index:60) done rmse:0.857799\n",
            "[INFO random_forest.cc:628] Training of tree  67/300 (tree index:67) done rmse:0.857516\n",
            "[INFO random_forest.cc:628] Training of tree  73/300 (tree index:72) done rmse:0.857285\n",
            "[INFO random_forest.cc:628] Training of tree  79/300 (tree index:78) done rmse:0.857052\n",
            "[INFO random_forest.cc:628] Training of tree  85/300 (tree index:84) done rmse:0.856934\n",
            "[INFO random_forest.cc:628] Training of tree  91/300 (tree index:90) done rmse:0.85677\n",
            "[INFO random_forest.cc:628] Training of tree  97/300 (tree index:97) done rmse:0.856618\n",
            "[INFO random_forest.cc:628] Training of tree  103/300 (tree index:102) done rmse:0.856524\n",
            "[INFO random_forest.cc:628] Training of tree  109/300 (tree index:108) done rmse:0.856452\n",
            "[INFO random_forest.cc:628] Training of tree  115/300 (tree index:114) done rmse:0.856383\n",
            "[INFO random_forest.cc:628] Training of tree  121/300 (tree index:120) done rmse:0.856291\n",
            "[INFO random_forest.cc:628] Training of tree  127/300 (tree index:126) done rmse:0.856238\n",
            "[INFO random_forest.cc:628] Training of tree  133/300 (tree index:132) done rmse:0.856178\n",
            "[INFO random_forest.cc:628] Training of tree  139/300 (tree index:138) done rmse:0.856116\n",
            "[INFO random_forest.cc:628] Training of tree  145/300 (tree index:144) done rmse:0.85607\n",
            "[INFO random_forest.cc:628] Training of tree  152/300 (tree index:151) done rmse:0.85601\n",
            "[INFO random_forest.cc:628] Training of tree  157/300 (tree index:156) done rmse:0.855968\n",
            "[INFO random_forest.cc:628] Training of tree  163/300 (tree index:162) done rmse:0.855929\n",
            "[INFO random_forest.cc:628] Training of tree  169/300 (tree index:168) done rmse:0.855869\n",
            "[INFO random_forest.cc:628] Training of tree  175/300 (tree index:174) done rmse:0.855852\n",
            "[INFO random_forest.cc:628] Training of tree  181/300 (tree index:180) done rmse:0.855795\n",
            "[INFO random_forest.cc:628] Training of tree  187/300 (tree index:186) done rmse:0.855754\n",
            "[INFO random_forest.cc:628] Training of tree  193/300 (tree index:192) done rmse:0.855706\n",
            "[INFO random_forest.cc:628] Training of tree  199/300 (tree index:198) done rmse:0.855653\n",
            "[INFO random_forest.cc:628] Training of tree  205/300 (tree index:204) done rmse:0.855634\n",
            "[INFO random_forest.cc:628] Training of tree  211/300 (tree index:210) done rmse:0.855609\n",
            "[INFO random_forest.cc:628] Training of tree  217/300 (tree index:216) done rmse:0.855561\n",
            "[INFO random_forest.cc:628] Training of tree  223/300 (tree index:222) done rmse:0.855536\n",
            "[INFO random_forest.cc:628] Training of tree  229/300 (tree index:228) done rmse:0.855521\n",
            "[INFO random_forest.cc:628] Training of tree  235/300 (tree index:234) done rmse:0.855496\n",
            "[INFO random_forest.cc:628] Training of tree  241/300 (tree index:240) done rmse:0.855462\n",
            "[INFO random_forest.cc:628] Training of tree  247/300 (tree index:246) done rmse:0.855443\n",
            "[INFO random_forest.cc:628] Training of tree  254/300 (tree index:253) done rmse:0.855455\n",
            "[INFO random_forest.cc:628] Training of tree  260/300 (tree index:259) done rmse:0.85544\n",
            "[INFO random_forest.cc:628] Training of tree  267/300 (tree index:266) done rmse:0.855413\n",
            "[INFO random_forest.cc:628] Training of tree  273/300 (tree index:272) done rmse:0.855379\n",
            "[INFO random_forest.cc:628] Training of tree  279/300 (tree index:278) done rmse:0.855363\n",
            "[INFO random_forest.cc:628] Training of tree  285/300 (tree index:284) done rmse:0.855339\n",
            "[INFO random_forest.cc:628] Training of tree  291/300 (tree index:290) done rmse:0.855329\n",
            "[INFO random_forest.cc:628] Training of tree  298/300 (tree index:297) done rmse:0.855308\n",
            "[INFO random_forest.cc:628] Training of tree  300/300 (tree index:299) done rmse:0.855293\n",
            "[INFO random_forest.cc:696] Final OOB metrics: rmse:0.855293\n",
            "[INFO kernel.cc:828] Export model in log directory: /tmp/tmp4slfh0w5\n",
            "[INFO kernel.cc:836] Save model in resources\n",
            "[INFO kernel.cc:988] Loading model from path\n",
            "[INFO decision_forest.cc:590] Model loaded with 300 root(s), 3163202 node(s), and 24 input feature(s).\n",
            "[INFO abstract_model.cc:993] Engine \"RandomForestOptPred\" built\n",
            "[INFO kernel.cc:848] Use fast generic engine\n"
          ]
        },
        {
          "output_type": "stream",
          "name": "stdout",
          "text": [
            "\b\b\b\b\b\b\b\b\b\b\b\b\b\b\b\b\b\b\b\b\b\b\b\b\b\b\b\b\b\b\b\b\b\b\b\b\b\b\b\b\b\b\b\b\b\b\b\b\b\b\b\b\r4219/4219 [==============================] - 591s 138ms/step\n",
            "Model training time: 0:09:54.299498 \n",
            "\n"
          ]
        }
      ]
    },
    {
      "cell_type": "code",
      "metadata": {
        "colab": {
          "base_uri": "https://localhost:8080/",
          "height": 404
        },
        "id": "mW_6wwd_kdSH",
        "outputId": "fc7438d8-c1c2-4dc3-fe08-dddca49ebdc0"
      },
      "source": [
        "tfdf.model_plotter.plot_model_in_colab(model_1)"
      ],
      "execution_count": null,
      "outputs": [
        {
          "output_type": "execute_result",
          "data": {
            "text/html": [
              "\n",
              "<script src=\"https://d3js.org/d3.v6.min.js\"></script>\n",
              "<div id=\"tree_plot_3e60b9fcd38f422c88629f96e19e8020\"></div>\n",
              "<script>\n",
              "/*\n",
              " * Copyright 2021 Google LLC.\n",
              " * Licensed under the Apache License, Version 2.0 (the \"License\");\n",
              " * you may not use this file except in compliance with the License.\n",
              " * You may obtain a copy of the License at\n",
              " *\n",
              " *     https://www.apache.org/licenses/LICENSE-2.0\n",
              " *\n",
              " * Unless required by applicable law or agreed to in writing, software\n",
              " * distributed under the License is distributed on an \"AS IS\" BASIS,\n",
              " * WITHOUT WARRANTIES OR CONDITIONS OF ANY KIND, either express or implied.\n",
              " * See the License for the specific language governing permissions and\n",
              " * limitations under the License.\n",
              " */\n",
              "\n",
              "/**\n",
              " *  Plotting of decision trees generated by TF-DF.\n",
              " *\n",
              " *  A tree is a recursive structure of node objects.\n",
              " *  A node contains one or more of the following components:\n",
              " *\n",
              " *    - A value: Representing the output of the node. If the node is not a leaf,\n",
              " *      the value is only present for analysis i.e. it is not used for\n",
              " *      predictions.\n",
              " *\n",
              " *    - A condition : For non-leaf nodes, the condition (also known as split)\n",
              " *      defines a binary test to branch to the positive or negative child.\n",
              " *\n",
              " *    - An explanation: Generally a plot showing the relation between the label\n",
              " *      and the condition to give insights about the effect of the condition.\n",
              " *\n",
              " *    - Two children : For non-leaf nodes, the children nodes. The first\n",
              " *      children (i.e. \"node.children[0]\") is the negative children (drawn in\n",
              " *      red). The second children is the positive one (drawn in green).\n",
              " *\n",
              " */\n",
              "\n",
              "/**\n",
              " * Plots a single decision tree into a DOM element.\n",
              " * @param {!options} options Dictionary of configurations.\n",
              " * @param {!tree} raw_tree Recursive tree structure.\n",
              " * @param {string} canvas_id Id of the output dom element.\n",
              " */\n",
              "function display_tree(options, raw_tree, canvas_id) {\n",
              "  console.log(options);\n",
              "\n",
              "  // Determine the node placement.\n",
              "  const tree_struct = d3.tree().nodeSize(\n",
              "      [options.node_y_offset, options.node_x_offset])(d3.hierarchy(raw_tree));\n",
              "\n",
              "  // Boundaries of the node placement.\n",
              "  let x_min = Infinity;\n",
              "  let x_max = -x_min;\n",
              "  let y_min = Infinity;\n",
              "  let y_max = -x_min;\n",
              "\n",
              "  tree_struct.each(d => {\n",
              "    if (d.x > x_max) x_max = d.x;\n",
              "    if (d.x < x_min) x_min = d.x;\n",
              "    if (d.y > y_max) y_max = d.y;\n",
              "    if (d.y < y_min) y_min = d.y;\n",
              "  });\n",
              "\n",
              "  // Size of the plot.\n",
              "  const width = y_max - y_min + options.node_x_size + options.margin * 2;\n",
              "  const height = x_max - x_min + options.node_y_size + options.margin * 2 +\n",
              "      options.node_y_offset - options.node_y_size;\n",
              "\n",
              "  const plot = d3.select(canvas_id);\n",
              "\n",
              "  // Tool tip\n",
              "  options.tooltip = plot.append('div')\n",
              "                        .attr('width', 100)\n",
              "                        .attr('height', 100)\n",
              "                        .style('padding', '4px')\n",
              "                        .style('background', '#fff')\n",
              "                        .style('box-shadow', '4px 4px 0px rgba(0,0,0,0.1)')\n",
              "                        .style('border', '1px solid black')\n",
              "                        .style('font-family', 'sans-serif')\n",
              "                        .style('font-size', options.font_size)\n",
              "                        .style('position', 'absolute')\n",
              "                        .style('z-index', '10')\n",
              "                        .attr('pointer-events', 'none')\n",
              "                        .style('display', 'none');\n",
              "\n",
              "  // Create canvas\n",
              "  const svg = plot.append('svg').attr('width', width).attr('height', height);\n",
              "  const graph =\n",
              "      svg.style('overflow', 'visible')\n",
              "          .append('g')\n",
              "          .attr('font-family', 'sans-serif')\n",
              "          .attr('font-size', options.font_size)\n",
              "          .attr(\n",
              "              'transform',\n",
              "              () => `translate(${options.margin},${\n",
              "                  - x_min + options.node_y_offset / 2 + options.margin})`);\n",
              "\n",
              "  // Plot bounding box.\n",
              "  if (options.show_plot_bounding_box) {\n",
              "    svg.append('rect')\n",
              "        .attr('width', width)\n",
              "        .attr('height', height)\n",
              "        .attr('fill', 'none')\n",
              "        .attr('stroke-width', 1.0)\n",
              "        .attr('stroke', 'black');\n",
              "  }\n",
              "\n",
              "  // Draw the edges.\n",
              "  display_edges(options, graph, tree_struct);\n",
              "\n",
              "  // Draw the nodes.\n",
              "  display_nodes(options, graph, tree_struct);\n",
              "}\n",
              "\n",
              "/**\n",
              " * Draw the nodes of the tree.\n",
              " * @param {!options} options Dictionary of configurations.\n",
              " * @param {!graph} graph D3 search handle containing the graph.\n",
              " * @param {!tree_struct} tree_struct Structure of the tree (node placement,\n",
              " *     data, etc.).\n",
              " */\n",
              "function display_nodes(options, graph, tree_struct) {\n",
              "  const nodes = graph.append('g')\n",
              "                    .selectAll('g')\n",
              "                    .data(tree_struct.descendants())\n",
              "                    .join('g')\n",
              "                    .attr('transform', d => `translate(${d.y},${d.x})`);\n",
              "\n",
              "  nodes.append('rect')\n",
              "      .attr('x', 0.5)\n",
              "      .attr('y', 0.5)\n",
              "      .attr('width', options.node_x_size)\n",
              "      .attr('height', options.node_y_size)\n",
              "      .attr('stroke', 'lightgrey')\n",
              "      .attr('stroke-width', 1)\n",
              "      .attr('fill', 'white')\n",
              "      .attr('y', -options.node_y_size / 2);\n",
              "\n",
              "  // Brackets on the right of condition nodes without children.\n",
              "  non_leaf_node_without_children =\n",
              "      nodes.filter(node => node.data.condition != null && node.children == null)\n",
              "          .append('g')\n",
              "          .attr('transform', `translate(${options.node_x_size},0)`);\n",
              "\n",
              "  non_leaf_node_without_children.append('path')\n",
              "      .attr('d', 'M0,0 C 10,0 0,10 10,10')\n",
              "      .attr('fill', 'none')\n",
              "      .attr('stroke-width', 1.0)\n",
              "      .attr('stroke', '#F00');\n",
              "\n",
              "  non_leaf_node_without_children.append('path')\n",
              "      .attr('d', 'M0,0 C 10,0 0,-10 10,-10')\n",
              "      .attr('fill', 'none')\n",
              "      .attr('stroke-width', 1.0)\n",
              "      .attr('stroke', '#0F0');\n",
              "\n",
              "  const node_content = nodes.append('g').attr(\n",
              "      'transform',\n",
              "      `translate(0,${options.node_padding - options.node_y_size / 2})`);\n",
              "\n",
              "  node_content.append(node => create_node_element(options, node));\n",
              "}\n",
              "\n",
              "/**\n",
              " * Creates the D3 content for a single node.\n",
              " * @param {!options} options Dictionary of configurations.\n",
              " * @param {!node} node Node to draw.\n",
              " * @return {!d3} D3 content.\n",
              " */\n",
              "function create_node_element(options, node) {\n",
              "  // Output accumulator.\n",
              "  let output = {\n",
              "    // Content to draw.\n",
              "    content: d3.create('svg:g'),\n",
              "    // Vertical offset to the next element to draw.\n",
              "    vertical_offset: 0\n",
              "  };\n",
              "\n",
              "  // Conditions.\n",
              "  if (node.data.condition != null) {\n",
              "    display_condition(options, node.data.condition, output);\n",
              "  }\n",
              "\n",
              "  // Values.\n",
              "  if (node.data.value != null) {\n",
              "    display_value(options, node.data.value, output);\n",
              "  }\n",
              "\n",
              "  // Explanations.\n",
              "  if (node.data.explanation != null) {\n",
              "    display_explanation(options, node.data.explanation, output);\n",
              "  }\n",
              "\n",
              "  return output.content.node();\n",
              "}\n",
              "\n",
              "\n",
              "/**\n",
              " * Adds a single line of text inside of a node.\n",
              " * @param {!options} options Dictionary of configurations.\n",
              " * @param {string} text Text to display.\n",
              " * @param {!output} output Output display accumulator.\n",
              " */\n",
              "function display_node_text(options, text, output) {\n",
              "  output.content.append('text')\n",
              "      .attr('x', options.node_padding)\n",
              "      .attr('y', output.vertical_offset)\n",
              "      .attr('alignment-baseline', 'hanging')\n",
              "      .text(text);\n",
              "  output.vertical_offset += 10;\n",
              "}\n",
              "\n",
              "/**\n",
              " * Adds a single line of text inside of a node with a tooltip.\n",
              " * @param {!options} options Dictionary of configurations.\n",
              " * @param {string} text Text to display.\n",
              " * @param {string} tooltip Text in the Tooltip.\n",
              " * @param {!output} output Output display accumulator.\n",
              " */\n",
              "function display_node_text_with_tooltip(options, text, tooltip, output) {\n",
              "  const item = output.content.append('text')\n",
              "                   .attr('x', options.node_padding)\n",
              "                   .attr('alignment-baseline', 'hanging')\n",
              "                   .text(text);\n",
              "\n",
              "  add_tooltip(options, item, () => tooltip);\n",
              "  output.vertical_offset += 10;\n",
              "}\n",
              "\n",
              "/**\n",
              " * Adds a tooltip to a dom element.\n",
              " * @param {!options} options Dictionary of configurations.\n",
              " * @param {!dom} target Dom element to equip with a tooltip.\n",
              " * @param {!func} get_content Generates the html content of the tooltip.\n",
              " */\n",
              "function add_tooltip(options, target, get_content) {\n",
              "  function show(d) {\n",
              "    options.tooltip.style('display', 'block');\n",
              "    options.tooltip.html(get_content());\n",
              "  }\n",
              "\n",
              "  function hide(d) {\n",
              "    options.tooltip.style('display', 'none');\n",
              "  }\n",
              "\n",
              "  function move(d) {\n",
              "    options.tooltip.style('display', 'block');\n",
              "    options.tooltip.style('left', (d.pageX + 5) + 'px');\n",
              "    options.tooltip.style('top', d.pageY + 'px');\n",
              "  }\n",
              "\n",
              "  target.on('mouseover', show);\n",
              "  target.on('mouseout', hide);\n",
              "  target.on('mousemove', move);\n",
              "}\n",
              "\n",
              "/**\n",
              " * Adds a condition inside of a node.\n",
              " * @param {!options} options Dictionary of configurations.\n",
              " * @param {!condition} condition Condition to display.\n",
              " * @param {!output} output Output display accumulator.\n",
              " */\n",
              "function display_condition(options, condition, output) {\n",
              "  threshold_format = d3.format('r');\n",
              "\n",
              "  if (condition.type === 'IS_MISSING') {\n",
              "    display_node_text(options, `${condition.attribute} is missing`, output);\n",
              "    return;\n",
              "  }\n",
              "\n",
              "  if (condition.type === 'IS_TRUE') {\n",
              "    display_node_text(options, `${condition.attribute} is true`, output);\n",
              "    return;\n",
              "  }\n",
              "\n",
              "  if (condition.type === 'NUMERICAL_IS_HIGHER_THAN') {\n",
              "    format = d3.format('r');\n",
              "    display_node_text(\n",
              "        options,\n",
              "        `${condition.attribute} >= ${threshold_format(condition.threshold)}`,\n",
              "        output);\n",
              "    return;\n",
              "  }\n",
              "\n",
              "  if (condition.type === 'CATEGORICAL_IS_IN') {\n",
              "    display_node_text_with_tooltip(\n",
              "        options, `${condition.attribute} in [...]`,\n",
              "        `${condition.attribute} in [${condition.mask}]`, output);\n",
              "    return;\n",
              "  }\n",
              "\n",
              "  if (condition.type === 'CATEGORICAL_SET_CONTAINS') {\n",
              "    display_node_text_with_tooltip(\n",
              "        options, `${condition.attribute} intersect [...]`,\n",
              "        `${condition.attribute} intersect [${condition.mask}]`, output);\n",
              "    return;\n",
              "  }\n",
              "\n",
              "  if (condition.type === 'NUMERICAL_SPARSE_OBLIQUE') {\n",
              "    display_node_text_with_tooltip(\n",
              "        options, `Sparse oblique split...`,\n",
              "        `[${condition.attributes}]*[${condition.weights}]>=${\n",
              "            threshold_format(condition.threshold)}`,\n",
              "        output);\n",
              "    return;\n",
              "  }\n",
              "\n",
              "  display_node_text(\n",
              "      options, `Non supported condition ${condition.type}`, output);\n",
              "}\n",
              "\n",
              "/**\n",
              " * Adds a value inside of a node.\n",
              " * @param {!options} options Dictionary of configurations.\n",
              " * @param {!value} value Value to display.\n",
              " * @param {!output} output Output display accumulator.\n",
              " */\n",
              "function display_value(options, value, output) {\n",
              "  if (value.type === 'PROBABILITY') {\n",
              "    const left_margin = 0;\n",
              "    const right_margin = 50;\n",
              "    const plot_width = options.node_x_size - options.node_padding * 2 -\n",
              "        left_margin - right_margin;\n",
              "\n",
              "    let cusum = Array.from(d3.cumsum(value.distribution));\n",
              "    cusum.unshift(0);\n",
              "    const distribution_plot = output.content.append('g').attr(\n",
              "        'transform', `translate(0,${output.vertical_offset + 0.5})`);\n",
              "\n",
              "    distribution_plot.selectAll('rect')\n",
              "        .data(value.distribution)\n",
              "        .join('rect')\n",
              "        .attr('height', 10)\n",
              "        .attr(\n",
              "            'x',\n",
              "            (d, i) =>\n",
              "                (cusum[i] * plot_width + left_margin + options.node_padding))\n",
              "        .attr('width', (d, i) => d * plot_width)\n",
              "        .style('fill', (d, i) => d3.schemeSet1[i]);\n",
              "\n",
              "    const num_examples =\n",
              "        output.content.append('g')\n",
              "            .attr('transform', `translate(0,${output.vertical_offset})`)\n",
              "            .append('text')\n",
              "            .attr('x', options.node_x_size - options.node_padding)\n",
              "            .attr('alignment-baseline', 'hanging')\n",
              "            .attr('text-anchor', 'end')\n",
              "            .text(`(${value.num_examples})`);\n",
              "\n",
              "    const distribution_details = d3.create('ul');\n",
              "    distribution_details.selectAll('li')\n",
              "        .data(value.distribution)\n",
              "        .join('li')\n",
              "        .append('span')\n",
              "        .text(\n",
              "            (d, i) =>\n",
              "                'class ' + i + ': ' + d3.format('.3%')(value.distribution[i]));\n",
              "\n",
              "    add_tooltip(options, distribution_plot, () => distribution_details.html());\n",
              "    add_tooltip(options, num_examples, () => 'Number of examples');\n",
              "\n",
              "    output.vertical_offset += 10;\n",
              "    return;\n",
              "  }\n",
              "\n",
              "  if (value.type === 'REGRESSION') {\n",
              "    display_node_text(\n",
              "        options,\n",
              "        'value: ' + d3.format('r')(value.value) + ` (` +\n",
              "            d3.format('.6')(value.num_examples) + `)`,\n",
              "        output);\n",
              "    return;\n",
              "  }\n",
              "\n",
              "  display_node_text(options, `Non supported value ${value.type}`, output);\n",
              "}\n",
              "\n",
              "/**\n",
              " * Adds an explanation inside of a node.\n",
              " * @param {!options} options Dictionary of configurations.\n",
              " * @param {!explanation} explanation Explanation to display.\n",
              " * @param {!output} output Output display accumulator.\n",
              " */\n",
              "function display_explanation(options, explanation, output) {\n",
              "  // Margin before the explanation.\n",
              "  output.vertical_offset += 10;\n",
              "\n",
              "  display_node_text(\n",
              "      options, `Non supported explanation ${explanation.type}`, output);\n",
              "}\n",
              "\n",
              "\n",
              "/**\n",
              " * Draw the edges of the tree.\n",
              " * @param {!options} options Dictionary of configurations.\n",
              " * @param {!graph} graph D3 search handle containing the graph.\n",
              " * @param {!tree_struct} tree_struct Structure of the tree (node placement,\n",
              " *     data, etc.).\n",
              " */\n",
              "function display_edges(options, graph, tree_struct) {\n",
              "  // Draw an edge between a parent and a child node with a bezier.\n",
              "  function draw_single_edge(d) {\n",
              "    return 'M' + (d.source.y + options.node_x_size) + ',' + d.source.x + ' C' +\n",
              "        (d.source.y + options.node_x_size + options.edge_rounding) + ',' +\n",
              "        d.source.x + ' ' + (d.target.y - options.edge_rounding) + ',' +\n",
              "        d.target.x + ' ' + d.target.y + ',' + d.target.x;\n",
              "  }\n",
              "\n",
              "  graph.append('g')\n",
              "      .attr('fill', 'none')\n",
              "      .attr('stroke-width', 1.2)\n",
              "      .selectAll('path')\n",
              "      .data(tree_struct.links())\n",
              "      .join('path')\n",
              "      .attr('d', draw_single_edge)\n",
              "      .attr(\n",
              "          'stroke', d => (d.target === d.source.children[0]) ? '#0F0' : '#F00');\n",
              "}\n",
              "\n",
              "display_tree({\"margin\": 10, \"node_x_size\": 160, \"node_y_size\": 28, \"node_x_offset\": 180, \"node_y_offset\": 33, \"font_size\": 10, \"edge_rounding\": 20, \"node_padding\": 2, \"show_plot_bounding_box\": false}, {\"value\": {\"type\": \"REGRESSION\", \"value\": 7.454302787780762, \"num_examples\": 270000.0, \"standard_deviation\": 0.8879448752693586}, \"condition\": {\"type\": \"CATEGORICAL_IS_IN\", \"attribute\": \"cat9\", \"mask\": [\"F\", \"L\", \"H\", \"G\", \"M\", \"N\", \"C\", \"E\"]}, \"children\": [{\"value\": {\"type\": \"REGRESSION\", \"value\": 7.509407043457031, \"num_examples\": 179353.0, \"standard_deviation\": 0.8985757531473021}, \"condition\": {\"type\": \"CATEGORICAL_IS_IN\", \"attribute\": \"cat9\", \"mask\": [\"L\", \"G\", \"E\"]}, \"children\": [{\"value\": {\"type\": \"REGRESSION\", \"value\": 7.621530532836914, \"num_examples\": 47411.0, \"standard_deviation\": 0.8790669112859302}, \"condition\": {\"type\": \"CATEGORICAL_IS_IN\", \"attribute\": \"cat1\", \"mask\": [\"B\"]}, \"children\": [{\"value\": {\"type\": \"REGRESSION\", \"value\": 7.676025390625, \"num_examples\": 35429.0, \"standard_deviation\": 0.883337852422093}, \"condition\": {\"type\": \"CATEGORICAL_IS_IN\", \"attribute\": \"cat2\", \"mask\": [\"B\"]}}, {\"value\": {\"type\": \"REGRESSION\", \"value\": 7.4603962898254395, \"num_examples\": 11982.0, \"standard_deviation\": 0.8460240937306642}, \"condition\": {\"type\": \"NUMERICAL_IS_HIGHER_THAN\", \"attribute\": \"cont11\", \"threshold\": 0.7004573345184326}}]}, {\"value\": {\"type\": \"REGRESSION\", \"value\": 7.469117164611816, \"num_examples\": 131942.0, \"standard_deviation\": 0.9020860686441691}, \"condition\": {\"type\": \"CATEGORICAL_IS_IN\", \"attribute\": \"cat1\", \"mask\": [\"B\"]}, \"children\": [{\"value\": {\"type\": \"REGRESSION\", \"value\": 7.568674564361572, \"num_examples\": 60288.0, \"standard_deviation\": 0.9082237824906606}, \"condition\": {\"type\": \"CATEGORICAL_IS_IN\", \"attribute\": \"cat2\", \"mask\": [\"B\"]}}, {\"value\": {\"type\": \"REGRESSION\", \"value\": 7.38535213470459, \"num_examples\": 71654.0, \"standard_deviation\": 0.888287417420242}, \"condition\": {\"type\": \"NUMERICAL_IS_HIGHER_THAN\", \"attribute\": \"cont11\", \"threshold\": 0.7091020345687866}}]}]}, {\"value\": {\"type\": \"REGRESSION\", \"value\": 7.345274448394775, \"num_examples\": 90647.0, \"standard_deviation\": 0.8561385169618401}, \"condition\": {\"type\": \"CATEGORICAL_IS_IN\", \"attribute\": \"cat1\", \"mask\": [\"B\"]}, \"children\": [{\"value\": {\"type\": \"REGRESSION\", \"value\": 7.44942569732666, \"num_examples\": 27636.0, \"standard_deviation\": 0.8951627122155351}, \"condition\": {\"type\": \"CATEGORICAL_IS_IN\", \"attribute\": \"cat2\", \"mask\": [\"B\"]}, \"children\": [{\"value\": {\"type\": \"REGRESSION\", \"value\": 7.697481155395508, \"num_examples\": 2491.0, \"standard_deviation\": 0.8931457542566925}, \"condition\": {\"type\": \"NUMERICAL_IS_HIGHER_THAN\", \"attribute\": \"cont11\", \"threshold\": 0.7701495885848999}}, {\"value\": {\"type\": \"REGRESSION\", \"value\": 7.424851894378662, \"num_examples\": 25145.0, \"standard_deviation\": 0.8916131961250116}, \"condition\": {\"type\": \"NUMERICAL_IS_HIGHER_THAN\", \"attribute\": \"cont8\", \"threshold\": 0.909469723701477}}]}, {\"value\": {\"type\": \"REGRESSION\", \"value\": 7.299594879150391, \"num_examples\": 63011.0, \"standard_deviation\": 0.8343586452789743}, \"condition\": {\"type\": \"NUMERICAL_IS_HIGHER_THAN\", \"attribute\": \"cont13\", \"threshold\": 0.7731758952140808}, \"children\": [{\"value\": {\"type\": \"REGRESSION\", \"value\": 7.165072441101074, \"num_examples\": 11752.0, \"standard_deviation\": 0.8381236239947333}, \"condition\": {\"type\": \"CATEGORICAL_IS_IN\", \"attribute\": \"cat8\", \"mask\": [\"C\", \"E\", \"A\", \"D\"]}}, {\"value\": {\"type\": \"REGRESSION\", \"value\": 7.330436706542969, \"num_examples\": 51259.0, \"standard_deviation\": 0.8304279549301763}, \"condition\": {\"type\": \"CATEGORICAL_IS_IN\", \"attribute\": \"cat5\", \"mask\": [\"B\", \"D\", \"A\"]}}]}]}]}, \"#tree_plot_3e60b9fcd38f422c88629f96e19e8020\")\n",
              "</script>\n"
            ],
            "text/plain": [
              "<IPython.core.display.HTML object>"
            ]
          },
          "metadata": {},
          "execution_count": 33
        }
      ]
    },
    {
      "cell_type": "code",
      "metadata": {
        "colab": {
          "base_uri": "https://localhost:8080/",
          "height": 279
        },
        "id": "QWxbO2EXcbEJ",
        "outputId": "d601cc42-b392-4b8e-d157-5d5918863be4"
      },
      "source": [
        "logs = model_1.make_inspector().training_logs()\n",
        "\n",
        "plt.figure(figsize=(12, 4))\n",
        "\n",
        "plt.subplot(1, 2, 1)\n",
        "plt.plot([log.num_trees for log in logs], [log.evaluation.rmse for log in logs])\n",
        "plt.xlabel(\"Number of trees\")\n",
        "plt.ylabel(\"RMSE (out-of-bag)\")\n",
        "\n",
        "plt.show()"
      ],
      "execution_count": null,
      "outputs": [
        {
          "output_type": "display_data",
          "data": {
            "image/png": "[encoded data removed]",
            "text/plain": [
              "<Figure size 864x288 with 1 Axes>"
            ]
          },
          "metadata": {
            "needs_background": "light"
          }
        }
      ]
    },
    {
      "cell_type": "code",
      "metadata": {
        "colab": {
          "base_uri": "https://localhost:8080/"
        },
        "id": "euAVix08EaDn",
        "outputId": "e204994d-d9e1-4b22-cffe-a06149c0a590"
      },
      "source": [
        "evaluation = model_1.evaluate(tfds_valid, return_dict=True)\n",
        "print()\n",
        "\n",
        "for name, value in evaluation.items():\n",
        "  print(f\"{name}: {value:.4f}\")"
      ],
      "execution_count": null,
      "outputs": [
        {
          "output_type": "stream",
          "name": "stdout",
          "text": [
            "469/469 [==============================] - 9s 18ms/step - loss: 0.0000e+00 - rmse: 0.8422\n",
            "\n",
            "loss: 0.0000\n",
            "rmse: 0.8422\n"
          ]
        }
      ]
    },
    {
      "cell_type": "markdown",
      "metadata": {
        "id": "wa3Dfugd1U4P"
      },
      "source": [
        "### 3.c) Train and Evaluate the Decision Trees Model"
      ]
    },
    {
      "cell_type": "code",
      "metadata": {
        "colab": {
          "base_uri": "https://localhost:8080/"
        },
        "id": "bDPPbOgPFCBF",
        "outputId": "9a663b63-8865-47dc-ccce-06910b84dc79"
      },
      "source": [
        "# Define the baseline model for benchmarking\n",
        "start_time_module = datetime.now()\n",
        "reset_random()\n",
        "model_2 = tfdf.keras.CartModel(task = tfdf.keras.Task.REGRESSION)\n",
        "\n",
        "# Optionally, add evaluation metrics.\n",
        "model_2.compile(\n",
        "    metrics=DEFAULT_METRICS)\n",
        "\n",
        "# Train the model.\n",
        "# \"sys_pipes\" is optional. It enables the display of the training logs.\n",
        "with sys_pipes():\n",
        "    model_2.fit(x=tfds_train)\n",
        "print ('Model training time:', (datetime.now() - start_time_module), '\\n')"
      ],
      "execution_count": null,
      "outputs": [
        {
          "output_type": "stream",
          "name": "stdout",
          "text": [
            "4214/4219 [============================>.] - ETA: 0s"
          ]
        },
        {
          "output_type": "stream",
          "name": "stderr",
          "text": [
            "[INFO kernel.cc:736] Start Yggdrasil model training\n",
            "[INFO kernel.cc:737] Collect training examples\n",
            "[INFO kernel.cc:392] Number of batches: 4219\n",
            "[INFO kernel.cc:393] Number of examples: 270000\n",
            "[INFO data_spec_inference.cc:290] 1 item(s) have been pruned (i.e. they are considered out of dictionary) for the column cat6 (7 item(s) left) because min_value_count=5 and max_number_of_unique_values=2000\n",
            "[INFO data_spec_inference.cc:290] 1 item(s) have been pruned (i.e. they are considered out of dictionary) for the column cat7 (7 item(s) left) because min_value_count=5 and max_number_of_unique_values=2000\n",
            "[INFO kernel.cc:759] Dataset:\n",
            "Number of records: 270000\n",
            "Number of columns: 25\n",
            "\n",
            "Number of columns by type:\n",
            "\tNUMERICAL: 15 (60%)\n",
            "\tCATEGORICAL: 10 (40%)\n",
            "\n",
            "Columns:\n",
            "\n",
            "NUMERICAL: 15 (60%)\n",
            "\t10: \"cont0\" NUMERICAL mean:0.524665 min:-0.0935054 max:1.05267 sd:0.204975\n",
            "\t11: \"cont1\" NUMERICAL mean:0.5066 min:-0.0551051 max:0.851746 sd:0.235212\n",
            "\t12: \"cont10\" NUMERICAL mean:0.504882 min:0.0596438 max:1.02977 sd:0.201568\n",
            "\t13: \"cont11\" NUMERICAL mean:0.529966 min:0.0641612 max:1.03805 sd:0.230866\n",
            "\t14: \"cont12\" NUMERICAL mean:0.524661 min:-0.0056 max:0.960661 sd:0.220914\n",
            "\t15: \"cont13\" NUMERICAL mean:0.503246 min:0.158121 max:0.873579 sd:0.225184\n",
            "\t16: \"cont2\" NUMERICAL mean:0.443985 min:-0.0602737 max:1.01769 sd:0.200055\n",
            "\t17: \"cont3\" NUMERICAL mean:0.446431 min:0.13476 max:1.00647 sd:0.23872\n",
            "\t18: \"cont4\" NUMERICAL mean:0.455521 min:0.189216 max:0.99405 sd:0.200755\n",
            "\t19: \"cont5\" NUMERICAL mean:0.508507 min:-0.0872467 max:1.04443 sd:0.231717\n",
            "\t20: \"cont6\" NUMERICAL mean:0.478303 min:0.0439533 max:1.09331 sd:0.192422\n",
            "\t21: \"cont7\" NUMERICAL mean:0.456091 min:0.208703 max:1.03547 sd:0.204578\n",
            "\t22: \"cont8\" NUMERICAL mean:0.459479 min:0.00404139 max:1.01416 sd:0.220727\n",
            "\t23: \"cont9\" NUMERICAL mean:0.52701 min:0.0730399 max:0.972091 sd:0.204064\n",
            "\t24: \"__LABEL\" NUMERICAL mean:7.4558 min:0 max:10.3092 sd:0.888528\n",
            "\n",
            "CATEGORICAL: 10 (40%)\n",
            "\t0: \"cat0\" CATEGORICAL has-dict vocab-size:3 zero-ood-items most-frequent:\"A\" 253271 (93.8041%)\n",
            "\t1: \"cat1\" CATEGORICAL has-dict vocab-size:3 zero-ood-items most-frequent:\"A\" 146410 (54.2259%)\n",
            "\t2: \"cat2\" CATEGORICAL has-dict vocab-size:3 zero-ood-items most-frequent:\"A\" 248913 (92.19%)\n",
            "\t3: \"cat3\" CATEGORICAL has-dict vocab-size:5 zero-ood-items most-frequent:\"C\" 165494 (61.2941%)\n",
            "\t4: \"cat4\" CATEGORICAL has-dict vocab-size:5 zero-ood-items most-frequent:\"B\" 267642 (99.1267%)\n",
            "\t5: \"cat5\" CATEGORICAL has-dict vocab-size:5 zero-ood-items most-frequent:\"B\" 134140 (49.6815%)\n",
            "\t6: \"cat6\" CATEGORICAL has-dict vocab-size:8 num-oods:1 (0.00037037%) most-frequent:\"A\" 263330 (97.5296%)\n",
            "\t7: \"cat7\" CATEGORICAL has-dict vocab-size:8 num-oods:1 (0.00037037%) most-frequent:\"E\" 240842 (89.2007%)\n",
            "\t8: \"cat8\" CATEGORICAL has-dict vocab-size:8 zero-ood-items most-frequent:\"C\" 108892 (40.3304%)\n",
            "\t9: \"cat9\" CATEGORICAL has-dict vocab-size:16 zero-ood-items most-frequent:\"F\" 96539 (35.7552%)\n",
            "\n",
            "Terminology:\n",
            "\tnas: Number of non-available (i.e. missing) values.\n",
            "\tood: Out of dictionary.\n",
            "\tmanually-defined: Attribute which type is manually defined by the user i.e. the type was not automatically inferred.\n",
            "\ttokenized: The attribute value is obtained through tokenization.\n",
            "\thas-dict: The attribute is attached to a string dictionary e.g. a categorical attribute stored as a string.\n",
            "\tvocab-size: Number of unique values.\n",
            "\n",
            "[INFO kernel.cc:762] Configure learner\n",
            "[INFO kernel.cc:787] Training config:\n",
            "learner: \"CART\"\n",
            "features: \"cat0\"\n",
            "features: \"cat1\"\n",
            "features: \"cat2\"\n",
            "features: \"cat3\"\n",
            "features: \"cat4\"\n",
            "features: \"cat5\"\n",
            "features: \"cat6\"\n",
            "features: \"cat7\"\n",
            "features: \"cat8\"\n",
            "features: \"cat9\"\n",
            "features: \"cont0\"\n",
            "features: \"cont1\"\n",
            "features: \"cont10\"\n",
            "features: \"cont11\"\n",
            "features: \"cont12\"\n",
            "features: \"cont13\"\n",
            "features: \"cont2\"\n",
            "features: \"cont3\"\n",
            "features: \"cont4\"\n",
            "features: \"cont5\"\n",
            "features: \"cont6\"\n",
            "features: \"cont7\"\n",
            "features: \"cont8\"\n",
            "features: \"cont9\"\n",
            "label: \"__LABEL\"\n",
            "task: REGRESSION\n",
            "[yggdrasil_decision_forests.model.cart.proto.cart_config] {\n",
            "  decision_tree {\n",
            "    max_depth: 16\n",
            "    min_examples: 5\n",
            "    in_split_min_examples_check: true\n",
            "    missing_value_policy: GLOBAL_IMPUTATION\n",
            "    allow_na_conditions: false\n",
            "    categorical_set_greedy_forward {\n",
            "      sampling: 0.1\n",
            "      max_num_items: -1\n",
            "      min_item_frequency: 1\n",
            "    }\n",
            "    growing_strategy_local {\n",
            "    }\n",
            "    categorical {\n",
            "      cart {\n",
            "      }\n",
            "    }\n",
            "    num_candidate_attributes_ratio: -1\n",
            "    axis_aligned_split {\n",
            "    }\n",
            "    internal {\n",
            "      sorting_strategy: PRESORTED\n",
            "    }\n",
            "  }\n",
            "  validation_ratio: 0.1\n",
            "}\n",
            "\n",
            "[INFO kernel.cc:790] Deployment config:\n",
            "num_threads: 6\n",
            "\n",
            "[INFO kernel.cc:817] Train model\n",
            "[INFO cart.cc:174] Training CART on 270000 example(s) and 24 feature(s).\n",
            "[INFO cart.cc:375] 10545 nodes before pruning. 1 nodes after pruning.\n",
            "[INFO kernel.cc:828] Export model in log directory: /tmp/tmpms5cycms\n",
            "[INFO kernel.cc:836] Save model in resources\n",
            "[INFO kernel.cc:988] Loading model from path\n",
            "[WARNING utils.cc:73] The model does not have any input features i.e. the model is constant and will always return the same prediction.\n",
            "[INFO decision_forest.cc:590] Model loaded with 1 root(s), 1 node(s), and 0 input feature(s).\n",
            "[INFO abstract_model.cc:993] Engine \"RandomForestOptPred\" built\n",
            "[INFO kernel.cc:848] Use fast generic engine\n"
          ]
        },
        {
          "output_type": "stream",
          "name": "stdout",
          "text": [
            "\b\b\b\b\b\b\b\b\b\b\b\b\b\b\b\b\b\b\b\b\b\b\b\b\b\b\b\b\b\b\b\b\b\b\b\b\b\b\b\b\b\b\b\b\b\b\b\b\b\b\b\b\r4219/4219 [==============================] - 23s 5ms/step\n",
            "Model training time: 0:00:23.496514 \n",
            "\n"
          ]
        }
      ]
    },
    {
      "cell_type": "code",
      "metadata": {
        "colab": {
          "base_uri": "https://localhost:8080/",
          "height": 74
        },
        "id": "k0ZLkM_HgrKH",
        "outputId": "48cb4c2c-eefe-428a-8f3c-a9de8a9691a0"
      },
      "source": [
        "tfdf.model_plotter.plot_model_in_colab(model_2)"
      ],
      "execution_count": null,
      "outputs": [
        {
          "output_type": "execute_result",
          "data": {
            "text/html": [
              "\n",
              "<script src=\"https://d3js.org/d3.v6.min.js\"></script>\n",
              "<div id=\"tree_plot_6efb2073f41c4c6095cafda7c721654f\"></div>\n",
              "<script>\n",
              "/*\n",
              " * Copyright 2021 Google LLC.\n",
              " * Licensed under the Apache License, Version 2.0 (the \"License\");\n",
              " * you may not use this file except in compliance with the License.\n",
              " * You may obtain a copy of the License at\n",
              " *\n",
              " *     https://www.apache.org/licenses/LICENSE-2.0\n",
              " *\n",
              " * Unless required by applicable law or agreed to in writing, software\n",
              " * distributed under the License is distributed on an \"AS IS\" BASIS,\n",
              " * WITHOUT WARRANTIES OR CONDITIONS OF ANY KIND, either express or implied.\n",
              " * See the License for the specific language governing permissions and\n",
              " * limitations under the License.\n",
              " */\n",
              "\n",
              "/**\n",
              " *  Plotting of decision trees generated by TF-DF.\n",
              " *\n",
              " *  A tree is a recursive structure of node objects.\n",
              " *  A node contains one or more of the following components:\n",
              " *\n",
              " *    - A value: Representing the output of the node. If the node is not a leaf,\n",
              " *      the value is only present for analysis i.e. it is not used for\n",
              " *      predictions.\n",
              " *\n",
              " *    - A condition : For non-leaf nodes, the condition (also known as split)\n",
              " *      defines a binary test to branch to the positive or negative child.\n",
              " *\n",
              " *    - An explanation: Generally a plot showing the relation between the label\n",
              " *      and the condition to give insights about the effect of the condition.\n",
              " *\n",
              " *    - Two children : For non-leaf nodes, the children nodes. The first\n",
              " *      children (i.e. \"node.children[0]\") is the negative children (drawn in\n",
              " *      red). The second children is the positive one (drawn in green).\n",
              " *\n",
              " */\n",
              "\n",
              "/**\n",
              " * Plots a single decision tree into a DOM element.\n",
              " * @param {!options} options Dictionary of configurations.\n",
              " * @param {!tree} raw_tree Recursive tree structure.\n",
              " * @param {string} canvas_id Id of the output dom element.\n",
              " */\n",
              "function display_tree(options, raw_tree, canvas_id) {\n",
              "  console.log(options);\n",
              "\n",
              "  // Determine the node placement.\n",
              "  const tree_struct = d3.tree().nodeSize(\n",
              "      [options.node_y_offset, options.node_x_offset])(d3.hierarchy(raw_tree));\n",
              "\n",
              "  // Boundaries of the node placement.\n",
              "  let x_min = Infinity;\n",
              "  let x_max = -x_min;\n",
              "  let y_min = Infinity;\n",
              "  let y_max = -x_min;\n",
              "\n",
              "  tree_struct.each(d => {\n",
              "    if (d.x > x_max) x_max = d.x;\n",
              "    if (d.x < x_min) x_min = d.x;\n",
              "    if (d.y > y_max) y_max = d.y;\n",
              "    if (d.y < y_min) y_min = d.y;\n",
              "  });\n",
              "\n",
              "  // Size of the plot.\n",
              "  const width = y_max - y_min + options.node_x_size + options.margin * 2;\n",
              "  const height = x_max - x_min + options.node_y_size + options.margin * 2 +\n",
              "      options.node_y_offset - options.node_y_size;\n",
              "\n",
              "  const plot = d3.select(canvas_id);\n",
              "\n",
              "  // Tool tip\n",
              "  options.tooltip = plot.append('div')\n",
              "                        .attr('width', 100)\n",
              "                        .attr('height', 100)\n",
              "                        .style('padding', '4px')\n",
              "                        .style('background', '#fff')\n",
              "                        .style('box-shadow', '4px 4px 0px rgba(0,0,0,0.1)')\n",
              "                        .style('border', '1px solid black')\n",
              "                        .style('font-family', 'sans-serif')\n",
              "                        .style('font-size', options.font_size)\n",
              "                        .style('position', 'absolute')\n",
              "                        .style('z-index', '10')\n",
              "                        .attr('pointer-events', 'none')\n",
              "                        .style('display', 'none');\n",
              "\n",
              "  // Create canvas\n",
              "  const svg = plot.append('svg').attr('width', width).attr('height', height);\n",
              "  const graph =\n",
              "      svg.style('overflow', 'visible')\n",
              "          .append('g')\n",
              "          .attr('font-family', 'sans-serif')\n",
              "          .attr('font-size', options.font_size)\n",
              "          .attr(\n",
              "              'transform',\n",
              "              () => `translate(${options.margin},${\n",
              "                  - x_min + options.node_y_offset / 2 + options.margin})`);\n",
              "\n",
              "  // Plot bounding box.\n",
              "  if (options.show_plot_bounding_box) {\n",
              "    svg.append('rect')\n",
              "        .attr('width', width)\n",
              "        .attr('height', height)\n",
              "        .attr('fill', 'none')\n",
              "        .attr('stroke-width', 1.0)\n",
              "        .attr('stroke', 'black');\n",
              "  }\n",
              "\n",
              "  // Draw the edges.\n",
              "  display_edges(options, graph, tree_struct);\n",
              "\n",
              "  // Draw the nodes.\n",
              "  display_nodes(options, graph, tree_struct);\n",
              "}\n",
              "\n",
              "/**\n",
              " * Draw the nodes of the tree.\n",
              " * @param {!options} options Dictionary of configurations.\n",
              " * @param {!graph} graph D3 search handle containing the graph.\n",
              " * @param {!tree_struct} tree_struct Structure of the tree (node placement,\n",
              " *     data, etc.).\n",
              " */\n",
              "function display_nodes(options, graph, tree_struct) {\n",
              "  const nodes = graph.append('g')\n",
              "                    .selectAll('g')\n",
              "                    .data(tree_struct.descendants())\n",
              "                    .join('g')\n",
              "                    .attr('transform', d => `translate(${d.y},${d.x})`);\n",
              "\n",
              "  nodes.append('rect')\n",
              "      .attr('x', 0.5)\n",
              "      .attr('y', 0.5)\n",
              "      .attr('width', options.node_x_size)\n",
              "      .attr('height', options.node_y_size)\n",
              "      .attr('stroke', 'lightgrey')\n",
              "      .attr('stroke-width', 1)\n",
              "      .attr('fill', 'white')\n",
              "      .attr('y', -options.node_y_size / 2);\n",
              "\n",
              "  // Brackets on the right of condition nodes without children.\n",
              "  non_leaf_node_without_children =\n",
              "      nodes.filter(node => node.data.condition != null && node.children == null)\n",
              "          .append('g')\n",
              "          .attr('transform', `translate(${options.node_x_size},0)`);\n",
              "\n",
              "  non_leaf_node_without_children.append('path')\n",
              "      .attr('d', 'M0,0 C 10,0 0,10 10,10')\n",
              "      .attr('fill', 'none')\n",
              "      .attr('stroke-width', 1.0)\n",
              "      .attr('stroke', '#F00');\n",
              "\n",
              "  non_leaf_node_without_children.append('path')\n",
              "      .attr('d', 'M0,0 C 10,0 0,-10 10,-10')\n",
              "      .attr('fill', 'none')\n",
              "      .attr('stroke-width', 1.0)\n",
              "      .attr('stroke', '#0F0');\n",
              "\n",
              "  const node_content = nodes.append('g').attr(\n",
              "      'transform',\n",
              "      `translate(0,${options.node_padding - options.node_y_size / 2})`);\n",
              "\n",
              "  node_content.append(node => create_node_element(options, node));\n",
              "}\n",
              "\n",
              "/**\n",
              " * Creates the D3 content for a single node.\n",
              " * @param {!options} options Dictionary of configurations.\n",
              " * @param {!node} node Node to draw.\n",
              " * @return {!d3} D3 content.\n",
              " */\n",
              "function create_node_element(options, node) {\n",
              "  // Output accumulator.\n",
              "  let output = {\n",
              "    // Content to draw.\n",
              "    content: d3.create('svg:g'),\n",
              "    // Vertical offset to the next element to draw.\n",
              "    vertical_offset: 0\n",
              "  };\n",
              "\n",
              "  // Conditions.\n",
              "  if (node.data.condition != null) {\n",
              "    display_condition(options, node.data.condition, output);\n",
              "  }\n",
              "\n",
              "  // Values.\n",
              "  if (node.data.value != null) {\n",
              "    display_value(options, node.data.value, output);\n",
              "  }\n",
              "\n",
              "  // Explanations.\n",
              "  if (node.data.explanation != null) {\n",
              "    display_explanation(options, node.data.explanation, output);\n",
              "  }\n",
              "\n",
              "  return output.content.node();\n",
              "}\n",
              "\n",
              "\n",
              "/**\n",
              " * Adds a single line of text inside of a node.\n",
              " * @param {!options} options Dictionary of configurations.\n",
              " * @param {string} text Text to display.\n",
              " * @param {!output} output Output display accumulator.\n",
              " */\n",
              "function display_node_text(options, text, output) {\n",
              "  output.content.append('text')\n",
              "      .attr('x', options.node_padding)\n",
              "      .attr('y', output.vertical_offset)\n",
              "      .attr('alignment-baseline', 'hanging')\n",
              "      .text(text);\n",
              "  output.vertical_offset += 10;\n",
              "}\n",
              "\n",
              "/**\n",
              " * Adds a single line of text inside of a node with a tooltip.\n",
              " * @param {!options} options Dictionary of configurations.\n",
              " * @param {string} text Text to display.\n",
              " * @param {string} tooltip Text in the Tooltip.\n",
              " * @param {!output} output Output display accumulator.\n",
              " */\n",
              "function display_node_text_with_tooltip(options, text, tooltip, output) {\n",
              "  const item = output.content.append('text')\n",
              "                   .attr('x', options.node_padding)\n",
              "                   .attr('alignment-baseline', 'hanging')\n",
              "                   .text(text);\n",
              "\n",
              "  add_tooltip(options, item, () => tooltip);\n",
              "  output.vertical_offset += 10;\n",
              "}\n",
              "\n",
              "/**\n",
              " * Adds a tooltip to a dom element.\n",
              " * @param {!options} options Dictionary of configurations.\n",
              " * @param {!dom} target Dom element to equip with a tooltip.\n",
              " * @param {!func} get_content Generates the html content of the tooltip.\n",
              " */\n",
              "function add_tooltip(options, target, get_content) {\n",
              "  function show(d) {\n",
              "    options.tooltip.style('display', 'block');\n",
              "    options.tooltip.html(get_content());\n",
              "  }\n",
              "\n",
              "  function hide(d) {\n",
              "    options.tooltip.style('display', 'none');\n",
              "  }\n",
              "\n",
              "  function move(d) {\n",
              "    options.tooltip.style('display', 'block');\n",
              "    options.tooltip.style('left', (d.pageX + 5) + 'px');\n",
              "    options.tooltip.style('top', d.pageY + 'px');\n",
              "  }\n",
              "\n",
              "  target.on('mouseover', show);\n",
              "  target.on('mouseout', hide);\n",
              "  target.on('mousemove', move);\n",
              "}\n",
              "\n",
              "/**\n",
              " * Adds a condition inside of a node.\n",
              " * @param {!options} options Dictionary of configurations.\n",
              " * @param {!condition} condition Condition to display.\n",
              " * @param {!output} output Output display accumulator.\n",
              " */\n",
              "function display_condition(options, condition, output) {\n",
              "  threshold_format = d3.format('r');\n",
              "\n",
              "  if (condition.type === 'IS_MISSING') {\n",
              "    display_node_text(options, `${condition.attribute} is missing`, output);\n",
              "    return;\n",
              "  }\n",
              "\n",
              "  if (condition.type === 'IS_TRUE') {\n",
              "    display_node_text(options, `${condition.attribute} is true`, output);\n",
              "    return;\n",
              "  }\n",
              "\n",
              "  if (condition.type === 'NUMERICAL_IS_HIGHER_THAN') {\n",
              "    format = d3.format('r');\n",
              "    display_node_text(\n",
              "        options,\n",
              "        `${condition.attribute} >= ${threshold_format(condition.threshold)}`,\n",
              "        output);\n",
              "    return;\n",
              "  }\n",
              "\n",
              "  if (condition.type === 'CATEGORICAL_IS_IN') {\n",
              "    display_node_text_with_tooltip(\n",
              "        options, `${condition.attribute} in [...]`,\n",
              "        `${condition.attribute} in [${condition.mask}]`, output);\n",
              "    return;\n",
              "  }\n",
              "\n",
              "  if (condition.type === 'CATEGORICAL_SET_CONTAINS') {\n",
              "    display_node_text_with_tooltip(\n",
              "        options, `${condition.attribute} intersect [...]`,\n",
              "        `${condition.attribute} intersect [${condition.mask}]`, output);\n",
              "    return;\n",
              "  }\n",
              "\n",
              "  if (condition.type === 'NUMERICAL_SPARSE_OBLIQUE') {\n",
              "    display_node_text_with_tooltip(\n",
              "        options, `Sparse oblique split...`,\n",
              "        `[${condition.attributes}]*[${condition.weights}]>=${\n",
              "            threshold_format(condition.threshold)}`,\n",
              "        output);\n",
              "    return;\n",
              "  }\n",
              "\n",
              "  display_node_text(\n",
              "      options, `Non supported condition ${condition.type}`, output);\n",
              "}\n",
              "\n",
              "/**\n",
              " * Adds a value inside of a node.\n",
              " * @param {!options} options Dictionary of configurations.\n",
              " * @param {!value} value Value to display.\n",
              " * @param {!output} output Output display accumulator.\n",
              " */\n",
              "function display_value(options, value, output) {\n",
              "  if (value.type === 'PROBABILITY') {\n",
              "    const left_margin = 0;\n",
              "    const right_margin = 50;\n",
              "    const plot_width = options.node_x_size - options.node_padding * 2 -\n",
              "        left_margin - right_margin;\n",
              "\n",
              "    let cusum = Array.from(d3.cumsum(value.distribution));\n",
              "    cusum.unshift(0);\n",
              "    const distribution_plot = output.content.append('g').attr(\n",
              "        'transform', `translate(0,${output.vertical_offset + 0.5})`);\n",
              "\n",
              "    distribution_plot.selectAll('rect')\n",
              "        .data(value.distribution)\n",
              "        .join('rect')\n",
              "        .attr('height', 10)\n",
              "        .attr(\n",
              "            'x',\n",
              "            (d, i) =>\n",
              "                (cusum[i] * plot_width + left_margin + options.node_padding))\n",
              "        .attr('width', (d, i) => d * plot_width)\n",
              "        .style('fill', (d, i) => d3.schemeSet1[i]);\n",
              "\n",
              "    const num_examples =\n",
              "        output.content.append('g')\n",
              "            .attr('transform', `translate(0,${output.vertical_offset})`)\n",
              "            .append('text')\n",
              "            .attr('x', options.node_x_size - options.node_padding)\n",
              "            .attr('alignment-baseline', 'hanging')\n",
              "            .attr('text-anchor', 'end')\n",
              "            .text(`(${value.num_examples})`);\n",
              "\n",
              "    const distribution_details = d3.create('ul');\n",
              "    distribution_details.selectAll('li')\n",
              "        .data(value.distribution)\n",
              "        .join('li')\n",
              "        .append('span')\n",
              "        .text(\n",
              "            (d, i) =>\n",
              "                'class ' + i + ': ' + d3.format('.3%')(value.distribution[i]));\n",
              "\n",
              "    add_tooltip(options, distribution_plot, () => distribution_details.html());\n",
              "    add_tooltip(options, num_examples, () => 'Number of examples');\n",
              "\n",
              "    output.vertical_offset += 10;\n",
              "    return;\n",
              "  }\n",
              "\n",
              "  if (value.type === 'REGRESSION') {\n",
              "    display_node_text(\n",
              "        options,\n",
              "        'value: ' + d3.format('r')(value.value) + ` (` +\n",
              "            d3.format('.6')(value.num_examples) + `)`,\n",
              "        output);\n",
              "    return;\n",
              "  }\n",
              "\n",
              "  display_node_text(options, `Non supported value ${value.type}`, output);\n",
              "}\n",
              "\n",
              "/**\n",
              " * Adds an explanation inside of a node.\n",
              " * @param {!options} options Dictionary of configurations.\n",
              " * @param {!explanation} explanation Explanation to display.\n",
              " * @param {!output} output Output display accumulator.\n",
              " */\n",
              "function display_explanation(options, explanation, output) {\n",
              "  // Margin before the explanation.\n",
              "  output.vertical_offset += 10;\n",
              "\n",
              "  display_node_text(\n",
              "      options, `Non supported explanation ${explanation.type}`, output);\n",
              "}\n",
              "\n",
              "\n",
              "/**\n",
              " * Draw the edges of the tree.\n",
              " * @param {!options} options Dictionary of configurations.\n",
              " * @param {!graph} graph D3 search handle containing the graph.\n",
              " * @param {!tree_struct} tree_struct Structure of the tree (node placement,\n",
              " *     data, etc.).\n",
              " */\n",
              "function display_edges(options, graph, tree_struct) {\n",
              "  // Draw an edge between a parent and a child node with a bezier.\n",
              "  function draw_single_edge(d) {\n",
              "    return 'M' + (d.source.y + options.node_x_size) + ',' + d.source.x + ' C' +\n",
              "        (d.source.y + options.node_x_size + options.edge_rounding) + ',' +\n",
              "        d.source.x + ' ' + (d.target.y - options.edge_rounding) + ',' +\n",
              "        d.target.x + ' ' + d.target.y + ',' + d.target.x;\n",
              "  }\n",
              "\n",
              "  graph.append('g')\n",
              "      .attr('fill', 'none')\n",
              "      .attr('stroke-width', 1.2)\n",
              "      .selectAll('path')\n",
              "      .data(tree_struct.links())\n",
              "      .join('path')\n",
              "      .attr('d', draw_single_edge)\n",
              "      .attr(\n",
              "          'stroke', d => (d.target === d.source.children[0]) ? '#0F0' : '#F00');\n",
              "}\n",
              "\n",
              "display_tree({\"margin\": 10, \"node_x_size\": 160, \"node_y_size\": 28, \"node_x_offset\": 180, \"node_y_offset\": 33, \"font_size\": 10, \"edge_rounding\": 20, \"node_padding\": 2, \"show_plot_bounding_box\": false}, {\"value\": {\"type\": \"REGRESSION\", \"value\": 7.455288410186768, \"num_examples\": 242875.0, \"standard_deviation\": 0.8888548928731107}}, \"#tree_plot_6efb2073f41c4c6095cafda7c721654f\")\n",
              "</script>\n"
            ],
            "text/plain": [
              "<IPython.core.display.HTML object>"
            ]
          },
          "metadata": {},
          "execution_count": 37
        }
      ]
    },
    {
      "cell_type": "code",
      "metadata": {
        "colab": {
          "base_uri": "https://localhost:8080/"
        },
        "id": "SWVKI95XFPfG",
        "outputId": "f20f3ee8-f848-4171-f352-9a27cac21934"
      },
      "source": [
        "evaluation = model_2.evaluate(tfds_valid, return_dict=True)\n",
        "print()\n",
        "\n",
        "for name, value in evaluation.items():\n",
        "  print(f\"{name}: {value:.4f}\")"
      ],
      "execution_count": null,
      "outputs": [
        {
          "output_type": "stream",
          "name": "stdout",
          "text": [
            "469/469 [==============================] - 2s 4ms/step - loss: 0.0000e+00 - rmse: 5.3448\n",
            "\n",
            "loss: 0.0000\n",
            "rmse: 5.3448\n"
          ]
        }
      ]
    },
    {
      "cell_type": "markdown",
      "metadata": {
        "id": "zVCQJVv21m86"
      },
      "source": [
        "### 3.d) Train and Evaluate the Gradient Boosted Trees Model"
      ]
    },
    {
      "cell_type": "code",
      "metadata": {
        "colab": {
          "base_uri": "https://localhost:8080/"
        },
        "id": "ogW3JeatFDRS",
        "outputId": "73e43775-7a84-4eb9-d32c-93aec25252b4"
      },
      "source": [
        "# Define the baseline model for benchmarking\n",
        "start_time_module = datetime.now()\n",
        "reset_random()\n",
        "model_3 = tfdf.keras.GradientBoostedTreesModel(task = tfdf.keras.Task.REGRESSION)\n",
        "\n",
        "# Optionally, add evaluation metrics.\n",
        "model_3.compile(\n",
        "    metrics=DEFAULT_METRICS)\n",
        "\n",
        "# Train the model.\n",
        "# \"sys_pipes\" is optional. It enables the display of the training logs.\n",
        "with sys_pipes():\n",
        "    model_3.fit(x=tfds_train)\n",
        "print ('Model training time:', (datetime.now() - start_time_module), '\\n')"
      ],
      "execution_count": null,
      "outputs": [
        {
          "output_type": "stream",
          "name": "stdout",
          "text": [
            "4217/4219 [============================>.] - ETA: 0s"
          ]
        },
        {
          "output_type": "stream",
          "name": "stderr",
          "text": [
            "[INFO kernel.cc:736] Start Yggdrasil model training\n",
            "[INFO kernel.cc:737] Collect training examples\n",
            "[INFO kernel.cc:392] Number of batches: 4219\n",
            "[INFO kernel.cc:393] Number of examples: 270000\n",
            "[INFO data_spec_inference.cc:290] 1 item(s) have been pruned (i.e. they are considered out of dictionary) for the column cat6 (7 item(s) left) because min_value_count=5 and max_number_of_unique_values=2000\n",
            "[INFO data_spec_inference.cc:290] 1 item(s) have been pruned (i.e. they are considered out of dictionary) for the column cat7 (7 item(s) left) because min_value_count=5 and max_number_of_unique_values=2000\n",
            "[INFO kernel.cc:759] Dataset:\n",
            "Number of records: 270000\n",
            "Number of columns: 25\n",
            "\n",
            "Number of columns by type:\n",
            "\tNUMERICAL: 15 (60%)\n",
            "\tCATEGORICAL: 10 (40%)\n",
            "\n",
            "Columns:\n",
            "\n",
            "NUMERICAL: 15 (60%)\n",
            "\t10: \"cont0\" NUMERICAL mean:0.524665 min:-0.0935054 max:1.05267 sd:0.204975\n",
            "\t11: \"cont1\" NUMERICAL mean:0.5066 min:-0.0551051 max:0.851746 sd:0.235212\n",
            "\t12: \"cont10\" NUMERICAL mean:0.504882 min:0.0596438 max:1.02977 sd:0.201568\n",
            "\t13: \"cont11\" NUMERICAL mean:0.529966 min:0.0641612 max:1.03805 sd:0.230866\n",
            "\t14: \"cont12\" NUMERICAL mean:0.524661 min:-0.0056 max:0.960661 sd:0.220914\n",
            "\t15: \"cont13\" NUMERICAL mean:0.503246 min:0.158121 max:0.873579 sd:0.225184\n",
            "\t16: \"cont2\" NUMERICAL mean:0.443985 min:-0.0602737 max:1.01769 sd:0.200055\n",
            "\t17: \"cont3\" NUMERICAL mean:0.446431 min:0.13476 max:1.00647 sd:0.23872\n",
            "\t18: \"cont4\" NUMERICAL mean:0.455521 min:0.189216 max:0.99405 sd:0.200755\n",
            "\t19: \"cont5\" NUMERICAL mean:0.508507 min:-0.0872467 max:1.04443 sd:0.231717\n",
            "\t20: \"cont6\" NUMERICAL mean:0.478303 min:0.0439533 max:1.09331 sd:0.192422\n",
            "\t21: \"cont7\" NUMERICAL mean:0.456091 min:0.208703 max:1.03547 sd:0.204578\n",
            "\t22: \"cont8\" NUMERICAL mean:0.459479 min:0.00404139 max:1.01416 sd:0.220727\n",
            "\t23: \"cont9\" NUMERICAL mean:0.52701 min:0.0730399 max:0.972091 sd:0.204064\n",
            "\t24: \"__LABEL\" NUMERICAL mean:7.4558 min:0 max:10.3092 sd:0.888528\n",
            "\n",
            "CATEGORICAL: 10 (40%)\n",
            "\t0: \"cat0\" CATEGORICAL has-dict vocab-size:3 zero-ood-items most-frequent:\"A\" 253271 (93.8041%)\n",
            "\t1: \"cat1\" CATEGORICAL has-dict vocab-size:3 zero-ood-items most-frequent:\"A\" 146410 (54.2259%)\n",
            "\t2: \"cat2\" CATEGORICAL has-dict vocab-size:3 zero-ood-items most-frequent:\"A\" 248913 (92.19%)\n",
            "\t3: \"cat3\" CATEGORICAL has-dict vocab-size:5 zero-ood-items most-frequent:\"C\" 165494 (61.2941%)\n",
            "\t4: \"cat4\" CATEGORICAL has-dict vocab-size:5 zero-ood-items most-frequent:\"B\" 267642 (99.1267%)\n",
            "\t5: \"cat5\" CATEGORICAL has-dict vocab-size:5 zero-ood-items most-frequent:\"B\" 134140 (49.6815%)\n",
            "\t6: \"cat6\" CATEGORICAL has-dict vocab-size:8 num-oods:1 (0.00037037%) most-frequent:\"A\" 263330 (97.5296%)\n",
            "\t7: \"cat7\" CATEGORICAL has-dict vocab-size:8 num-oods:1 (0.00037037%) most-frequent:\"E\" 240842 (89.2007%)\n",
            "\t8: \"cat8\" CATEGORICAL has-dict vocab-size:8 zero-ood-items most-frequent:\"C\" 108892 (40.3304%)\n",
            "\t9: \"cat9\" CATEGORICAL has-dict vocab-size:16 zero-ood-items most-frequent:\"F\" 96539 (35.7552%)\n",
            "\n",
            "Terminology:\n",
            "\tnas: Number of non-available (i.e. missing) values.\n",
            "\tood: Out of dictionary.\n",
            "\tmanually-defined: Attribute which type is manually defined by the user i.e. the type was not automatically inferred.\n",
            "\ttokenized: The attribute value is obtained through tokenization.\n",
            "\thas-dict: The attribute is attached to a string dictionary e.g. a categorical attribute stored as a string.\n",
            "\tvocab-size: Number of unique values.\n",
            "\n",
            "[INFO kernel.cc:762] Configure learner\n",
            "[WARNING gradient_boosted_trees.cc:1643] Subsample hyperparameter given but sampling method does not match.\n",
            "[WARNING gradient_boosted_trees.cc:1656] GOSS alpha hyperparameter given but GOSS is disabled.\n",
            "[WARNING gradient_boosted_trees.cc:1665] GOSS beta hyperparameter given but GOSS is disabled.\n",
            "[WARNING gradient_boosted_trees.cc:1677] SelGB ratio hyperparameter given but SelGB is disabled.\n",
            "[INFO kernel.cc:787] Training config:\n",
            "learner: \"GRADIENT_BOOSTED_TREES\"\n",
            "features: \"cat0\"\n",
            "features: \"cat1\"\n",
            "features: \"cat2\"\n",
            "features: \"cat3\"\n",
            "features: \"cat4\"\n",
            "features: \"cat5\"\n",
            "features: \"cat6\"\n",
            "features: \"cat7\"\n",
            "features: \"cat8\"\n",
            "features: \"cat9\"\n",
            "features: \"cont0\"\n",
            "features: \"cont1\"\n",
            "features: \"cont10\"\n",
            "features: \"cont11\"\n",
            "features: \"cont12\"\n",
            "features: \"cont13\"\n",
            "features: \"cont2\"\n",
            "features: \"cont3\"\n",
            "features: \"cont4\"\n",
            "features: \"cont5\"\n",
            "features: \"cont6\"\n",
            "features: \"cont7\"\n",
            "features: \"cont8\"\n",
            "features: \"cont9\"\n",
            "label: \"__LABEL\"\n",
            "task: REGRESSION\n",
            "[yggdrasil_decision_forests.model.gradient_boosted_trees.proto.gradient_boosted_trees_config] {\n",
            "  num_trees: 300\n",
            "  decision_tree {\n",
            "    max_depth: 6\n",
            "    min_examples: 5\n",
            "    in_split_min_examples_check: true\n",
            "    missing_value_policy: GLOBAL_IMPUTATION\n",
            "    allow_na_conditions: false\n",
            "    categorical_set_greedy_forward {\n",
            "      sampling: 0.1\n",
            "      max_num_items: -1\n",
            "      min_item_frequency: 1\n",
            "    }\n",
            "    growing_strategy_local {\n",
            "    }\n",
            "    categorical {\n",
            "      cart {\n",
            "      }\n",
            "    }\n",
            "    num_candidate_attributes_ratio: -1\n",
            "    axis_aligned_split {\n",
            "    }\n",
            "    internal {\n",
            "      sorting_strategy: PRESORTED\n",
            "    }\n",
            "  }\n",
            "  shrinkage: 0.1\n",
            "  validation_set_ratio: 0.1\n",
            "  early_stopping: VALIDATION_LOSS_INCREASE\n",
            "  early_stopping_num_trees_look_ahead: 30\n",
            "  l2_regularization: 0\n",
            "  lambda_loss: 1\n",
            "  mart {\n",
            "  }\n",
            "  adapt_subsample_for_maximum_training_duration: false\n",
            "  l1_regularization: 0\n",
            "  use_hessian_gain: false\n",
            "  l2_regularization_categorical: 1\n",
            "  apply_link_function: true\n",
            "  compute_permutation_variable_importance: false\n",
            "}\n",
            "\n",
            "[INFO kernel.cc:790] Deployment config:\n",
            "num_threads: 6\n",
            "\n",
            "[INFO kernel.cc:817] Train model\n",
            "[INFO gradient_boosted_trees.cc:404] Default loss set to SQUARED_ERROR\n",
            "[INFO gradient_boosted_trees.cc:1001] Training gradient boosted tree on 270000 example(s) and 24 feature(s).\n",
            "[INFO gradient_boosted_trees.cc:1044] 242875 examples used for training and 27125 examples used for validation\n",
            "[INFO gradient_boosted_trees.cc:1426] \tnum-trees:1 train-loss:0.885907 train-rmse:0.885907 valid-loss:0.882624 valid-rmse:0.882624\n",
            "[INFO gradient_boosted_trees.cc:1428] \tnum-trees:2 train-loss:0.883122 train-rmse:0.883122 valid-loss:0.879815 valid-rmse:0.879815\n",
            "[INFO gradient_boosted_trees.cc:1428] \tnum-trees:36 train-loss:0.854719 train-rmse:0.854719 valid-loss:0.852447 valid-rmse:0.852447\n",
            "[INFO gradient_boosted_trees.cc:1428] \tnum-trees:71 train-loss:0.846399 train-rmse:0.846399 valid-loss:0.846492 valid-rmse:0.846492\n",
            "[INFO gradient_boosted_trees.cc:1428] \tnum-trees:105 train-loss:0.841406 train-rmse:0.841406 valid-loss:0.843818 valid-rmse:0.843818\n",
            "[INFO gradient_boosted_trees.cc:1428] \tnum-trees:137 train-loss:0.837677 train-rmse:0.837677 valid-loss:0.842300 valid-rmse:0.842300\n",
            "[INFO gradient_boosted_trees.cc:1428] \tnum-trees:169 train-loss:0.834681 train-rmse:0.834681 valid-loss:0.841280 valid-rmse:0.841280\n",
            "[INFO gradient_boosted_trees.cc:1428] \tnum-trees:204 train-loss:0.831987 train-rmse:0.831987 valid-loss:0.840646 valid-rmse:0.840646\n",
            "[INFO gradient_boosted_trees.cc:1428] \tnum-trees:240 train-loss:0.829541 train-rmse:0.829541 valid-loss:0.840043 valid-rmse:0.840043\n",
            "[INFO gradient_boosted_trees.cc:1428] \tnum-trees:276 train-loss:0.827237 train-rmse:0.827237 valid-loss:0.839671 valid-rmse:0.839671\n",
            "[INFO gradient_boosted_trees.cc:1426] \tnum-trees:300 train-loss:0.825808 train-rmse:0.825808 valid-loss:0.839432 valid-rmse:0.839432\n",
            "[INFO gradient_boosted_trees.cc:229] Truncates the model to 299 tree(s) i.e. 299  iteration(s).\n",
            "[INFO gradient_boosted_trees.cc:263] Final model num-trees:299 valid-loss:0.839431 valid-rmse:0.839431\n",
            "[INFO kernel.cc:828] Export model in log directory: /tmp/tmpxkwnktu7\n",
            "[INFO kernel.cc:836] Save model in resources\n",
            "[INFO kernel.cc:988] Loading model from path\n",
            "[INFO abstract_model.cc:993] Engine \"GradientBoostedTreesQuickScorerExtended\" built\n",
            "[INFO kernel.cc:848] Use fast generic engine\n"
          ]
        },
        {
          "output_type": "stream",
          "name": "stdout",
          "text": [
            "\b\b\b\b\b\b\b\b\b\b\b\b\b\b\b\b\b\b\b\b\b\b\b\b\b\b\b\b\b\b\b\b\b\b\b\b\b\b\b\b\b\b\b\b\b\b\b\b\b\b\b\b\r4219/4219 [==============================] - 283s 67ms/step\n",
            "Model training time: 0:04:43.521591 \n",
            "\n"
          ]
        }
      ]
    },
    {
      "cell_type": "code",
      "metadata": {
        "colab": {
          "base_uri": "https://localhost:8080/",
          "height": 404
        },
        "id": "tEWLGqQvkkon",
        "outputId": "9f4d688e-d374-42e2-c27a-a61d63bec0d9"
      },
      "source": [
        "tfdf.model_plotter.plot_model_in_colab(model_3)"
      ],
      "execution_count": null,
      "outputs": [
        {
          "output_type": "execute_result",
          "data": {
            "text/html": [
              "\n",
              "<script src=\"https://d3js.org/d3.v6.min.js\"></script>\n",
              "<div id=\"tree_plot_b1aaba80f11746d98d7fa5b555af974c\"></div>\n",
              "<script>\n",
              "/*\n",
              " * Copyright 2021 Google LLC.\n",
              " * Licensed under the Apache License, Version 2.0 (the \"License\");\n",
              " * you may not use this file except in compliance with the License.\n",
              " * You may obtain a copy of the License at\n",
              " *\n",
              " *     https://www.apache.org/licenses/LICENSE-2.0\n",
              " *\n",
              " * Unless required by applicable law or agreed to in writing, software\n",
              " * distributed under the License is distributed on an \"AS IS\" BASIS,\n",
              " * WITHOUT WARRANTIES OR CONDITIONS OF ANY KIND, either express or implied.\n",
              " * See the License for the specific language governing permissions and\n",
              " * limitations under the License.\n",
              " */\n",
              "\n",
              "/**\n",
              " *  Plotting of decision trees generated by TF-DF.\n",
              " *\n",
              " *  A tree is a recursive structure of node objects.\n",
              " *  A node contains one or more of the following components:\n",
              " *\n",
              " *    - A value: Representing the output of the node. If the node is not a leaf,\n",
              " *      the value is only present for analysis i.e. it is not used for\n",
              " *      predictions.\n",
              " *\n",
              " *    - A condition : For non-leaf nodes, the condition (also known as split)\n",
              " *      defines a binary test to branch to the positive or negative child.\n",
              " *\n",
              " *    - An explanation: Generally a plot showing the relation between the label\n",
              " *      and the condition to give insights about the effect of the condition.\n",
              " *\n",
              " *    - Two children : For non-leaf nodes, the children nodes. The first\n",
              " *      children (i.e. \"node.children[0]\") is the negative children (drawn in\n",
              " *      red). The second children is the positive one (drawn in green).\n",
              " *\n",
              " */\n",
              "\n",
              "/**\n",
              " * Plots a single decision tree into a DOM element.\n",
              " * @param {!options} options Dictionary of configurations.\n",
              " * @param {!tree} raw_tree Recursive tree structure.\n",
              " * @param {string} canvas_id Id of the output dom element.\n",
              " */\n",
              "function display_tree(options, raw_tree, canvas_id) {\n",
              "  console.log(options);\n",
              "\n",
              "  // Determine the node placement.\n",
              "  const tree_struct = d3.tree().nodeSize(\n",
              "      [options.node_y_offset, options.node_x_offset])(d3.hierarchy(raw_tree));\n",
              "\n",
              "  // Boundaries of the node placement.\n",
              "  let x_min = Infinity;\n",
              "  let x_max = -x_min;\n",
              "  let y_min = Infinity;\n",
              "  let y_max = -x_min;\n",
              "\n",
              "  tree_struct.each(d => {\n",
              "    if (d.x > x_max) x_max = d.x;\n",
              "    if (d.x < x_min) x_min = d.x;\n",
              "    if (d.y > y_max) y_max = d.y;\n",
              "    if (d.y < y_min) y_min = d.y;\n",
              "  });\n",
              "\n",
              "  // Size of the plot.\n",
              "  const width = y_max - y_min + options.node_x_size + options.margin * 2;\n",
              "  const height = x_max - x_min + options.node_y_size + options.margin * 2 +\n",
              "      options.node_y_offset - options.node_y_size;\n",
              "\n",
              "  const plot = d3.select(canvas_id);\n",
              "\n",
              "  // Tool tip\n",
              "  options.tooltip = plot.append('div')\n",
              "                        .attr('width', 100)\n",
              "                        .attr('height', 100)\n",
              "                        .style('padding', '4px')\n",
              "                        .style('background', '#fff')\n",
              "                        .style('box-shadow', '4px 4px 0px rgba(0,0,0,0.1)')\n",
              "                        .style('border', '1px solid black')\n",
              "                        .style('font-family', 'sans-serif')\n",
              "                        .style('font-size', options.font_size)\n",
              "                        .style('position', 'absolute')\n",
              "                        .style('z-index', '10')\n",
              "                        .attr('pointer-events', 'none')\n",
              "                        .style('display', 'none');\n",
              "\n",
              "  // Create canvas\n",
              "  const svg = plot.append('svg').attr('width', width).attr('height', height);\n",
              "  const graph =\n",
              "      svg.style('overflow', 'visible')\n",
              "          .append('g')\n",
              "          .attr('font-family', 'sans-serif')\n",
              "          .attr('font-size', options.font_size)\n",
              "          .attr(\n",
              "              'transform',\n",
              "              () => `translate(${options.margin},${\n",
              "                  - x_min + options.node_y_offset / 2 + options.margin})`);\n",
              "\n",
              "  // Plot bounding box.\n",
              "  if (options.show_plot_bounding_box) {\n",
              "    svg.append('rect')\n",
              "        .attr('width', width)\n",
              "        .attr('height', height)\n",
              "        .attr('fill', 'none')\n",
              "        .attr('stroke-width', 1.0)\n",
              "        .attr('stroke', 'black');\n",
              "  }\n",
              "\n",
              "  // Draw the edges.\n",
              "  display_edges(options, graph, tree_struct);\n",
              "\n",
              "  // Draw the nodes.\n",
              "  display_nodes(options, graph, tree_struct);\n",
              "}\n",
              "\n",
              "/**\n",
              " * Draw the nodes of the tree.\n",
              " * @param {!options} options Dictionary of configurations.\n",
              " * @param {!graph} graph D3 search handle containing the graph.\n",
              " * @param {!tree_struct} tree_struct Structure of the tree (node placement,\n",
              " *     data, etc.).\n",
              " */\n",
              "function display_nodes(options, graph, tree_struct) {\n",
              "  const nodes = graph.append('g')\n",
              "                    .selectAll('g')\n",
              "                    .data(tree_struct.descendants())\n",
              "                    .join('g')\n",
              "                    .attr('transform', d => `translate(${d.y},${d.x})`);\n",
              "\n",
              "  nodes.append('rect')\n",
              "      .attr('x', 0.5)\n",
              "      .attr('y', 0.5)\n",
              "      .attr('width', options.node_x_size)\n",
              "      .attr('height', options.node_y_size)\n",
              "      .attr('stroke', 'lightgrey')\n",
              "      .attr('stroke-width', 1)\n",
              "      .attr('fill', 'white')\n",
              "      .attr('y', -options.node_y_size / 2);\n",
              "\n",
              "  // Brackets on the right of condition nodes without children.\n",
              "  non_leaf_node_without_children =\n",
              "      nodes.filter(node => node.data.condition != null && node.children == null)\n",
              "          .append('g')\n",
              "          .attr('transform', `translate(${options.node_x_size},0)`);\n",
              "\n",
              "  non_leaf_node_without_children.append('path')\n",
              "      .attr('d', 'M0,0 C 10,0 0,10 10,10')\n",
              "      .attr('fill', 'none')\n",
              "      .attr('stroke-width', 1.0)\n",
              "      .attr('stroke', '#F00');\n",
              "\n",
              "  non_leaf_node_without_children.append('path')\n",
              "      .attr('d', 'M0,0 C 10,0 0,-10 10,-10')\n",
              "      .attr('fill', 'none')\n",
              "      .attr('stroke-width', 1.0)\n",
              "      .attr('stroke', '#0F0');\n",
              "\n",
              "  const node_content = nodes.append('g').attr(\n",
              "      'transform',\n",
              "      `translate(0,${options.node_padding - options.node_y_size / 2})`);\n",
              "\n",
              "  node_content.append(node => create_node_element(options, node));\n",
              "}\n",
              "\n",
              "/**\n",
              " * Creates the D3 content for a single node.\n",
              " * @param {!options} options Dictionary of configurations.\n",
              " * @param {!node} node Node to draw.\n",
              " * @return {!d3} D3 content.\n",
              " */\n",
              "function create_node_element(options, node) {\n",
              "  // Output accumulator.\n",
              "  let output = {\n",
              "    // Content to draw.\n",
              "    content: d3.create('svg:g'),\n",
              "    // Vertical offset to the next element to draw.\n",
              "    vertical_offset: 0\n",
              "  };\n",
              "\n",
              "  // Conditions.\n",
              "  if (node.data.condition != null) {\n",
              "    display_condition(options, node.data.condition, output);\n",
              "  }\n",
              "\n",
              "  // Values.\n",
              "  if (node.data.value != null) {\n",
              "    display_value(options, node.data.value, output);\n",
              "  }\n",
              "\n",
              "  // Explanations.\n",
              "  if (node.data.explanation != null) {\n",
              "    display_explanation(options, node.data.explanation, output);\n",
              "  }\n",
              "\n",
              "  return output.content.node();\n",
              "}\n",
              "\n",
              "\n",
              "/**\n",
              " * Adds a single line of text inside of a node.\n",
              " * @param {!options} options Dictionary of configurations.\n",
              " * @param {string} text Text to display.\n",
              " * @param {!output} output Output display accumulator.\n",
              " */\n",
              "function display_node_text(options, text, output) {\n",
              "  output.content.append('text')\n",
              "      .attr('x', options.node_padding)\n",
              "      .attr('y', output.vertical_offset)\n",
              "      .attr('alignment-baseline', 'hanging')\n",
              "      .text(text);\n",
              "  output.vertical_offset += 10;\n",
              "}\n",
              "\n",
              "/**\n",
              " * Adds a single line of text inside of a node with a tooltip.\n",
              " * @param {!options} options Dictionary of configurations.\n",
              " * @param {string} text Text to display.\n",
              " * @param {string} tooltip Text in the Tooltip.\n",
              " * @param {!output} output Output display accumulator.\n",
              " */\n",
              "function display_node_text_with_tooltip(options, text, tooltip, output) {\n",
              "  const item = output.content.append('text')\n",
              "                   .attr('x', options.node_padding)\n",
              "                   .attr('alignment-baseline', 'hanging')\n",
              "                   .text(text);\n",
              "\n",
              "  add_tooltip(options, item, () => tooltip);\n",
              "  output.vertical_offset += 10;\n",
              "}\n",
              "\n",
              "/**\n",
              " * Adds a tooltip to a dom element.\n",
              " * @param {!options} options Dictionary of configurations.\n",
              " * @param {!dom} target Dom element to equip with a tooltip.\n",
              " * @param {!func} get_content Generates the html content of the tooltip.\n",
              " */\n",
              "function add_tooltip(options, target, get_content) {\n",
              "  function show(d) {\n",
              "    options.tooltip.style('display', 'block');\n",
              "    options.tooltip.html(get_content());\n",
              "  }\n",
              "\n",
              "  function hide(d) {\n",
              "    options.tooltip.style('display', 'none');\n",
              "  }\n",
              "\n",
              "  function move(d) {\n",
              "    options.tooltip.style('display', 'block');\n",
              "    options.tooltip.style('left', (d.pageX + 5) + 'px');\n",
              "    options.tooltip.style('top', d.pageY + 'px');\n",
              "  }\n",
              "\n",
              "  target.on('mouseover', show);\n",
              "  target.on('mouseout', hide);\n",
              "  target.on('mousemove', move);\n",
              "}\n",
              "\n",
              "/**\n",
              " * Adds a condition inside of a node.\n",
              " * @param {!options} options Dictionary of configurations.\n",
              " * @param {!condition} condition Condition to display.\n",
              " * @param {!output} output Output display accumulator.\n",
              " */\n",
              "function display_condition(options, condition, output) {\n",
              "  threshold_format = d3.format('r');\n",
              "\n",
              "  if (condition.type === 'IS_MISSING') {\n",
              "    display_node_text(options, `${condition.attribute} is missing`, output);\n",
              "    return;\n",
              "  }\n",
              "\n",
              "  if (condition.type === 'IS_TRUE') {\n",
              "    display_node_text(options, `${condition.attribute} is true`, output);\n",
              "    return;\n",
              "  }\n",
              "\n",
              "  if (condition.type === 'NUMERICAL_IS_HIGHER_THAN') {\n",
              "    format = d3.format('r');\n",
              "    display_node_text(\n",
              "        options,\n",
              "        `${condition.attribute} >= ${threshold_format(condition.threshold)}`,\n",
              "        output);\n",
              "    return;\n",
              "  }\n",
              "\n",
              "  if (condition.type === 'CATEGORICAL_IS_IN') {\n",
              "    display_node_text_with_tooltip(\n",
              "        options, `${condition.attribute} in [...]`,\n",
              "        `${condition.attribute} in [${condition.mask}]`, output);\n",
              "    return;\n",
              "  }\n",
              "\n",
              "  if (condition.type === 'CATEGORICAL_SET_CONTAINS') {\n",
              "    display_node_text_with_tooltip(\n",
              "        options, `${condition.attribute} intersect [...]`,\n",
              "        `${condition.attribute} intersect [${condition.mask}]`, output);\n",
              "    return;\n",
              "  }\n",
              "\n",
              "  if (condition.type === 'NUMERICAL_SPARSE_OBLIQUE') {\n",
              "    display_node_text_with_tooltip(\n",
              "        options, `Sparse oblique split...`,\n",
              "        `[${condition.attributes}]*[${condition.weights}]>=${\n",
              "            threshold_format(condition.threshold)}`,\n",
              "        output);\n",
              "    return;\n",
              "  }\n",
              "\n",
              "  display_node_text(\n",
              "      options, `Non supported condition ${condition.type}`, output);\n",
              "}\n",
              "\n",
              "/**\n",
              " * Adds a value inside of a node.\n",
              " * @param {!options} options Dictionary of configurations.\n",
              " * @param {!value} value Value to display.\n",
              " * @param {!output} output Output display accumulator.\n",
              " */\n",
              "function display_value(options, value, output) {\n",
              "  if (value.type === 'PROBABILITY') {\n",
              "    const left_margin = 0;\n",
              "    const right_margin = 50;\n",
              "    const plot_width = options.node_x_size - options.node_padding * 2 -\n",
              "        left_margin - right_margin;\n",
              "\n",
              "    let cusum = Array.from(d3.cumsum(value.distribution));\n",
              "    cusum.unshift(0);\n",
              "    const distribution_plot = output.content.append('g').attr(\n",
              "        'transform', `translate(0,${output.vertical_offset + 0.5})`);\n",
              "\n",
              "    distribution_plot.selectAll('rect')\n",
              "        .data(value.distribution)\n",
              "        .join('rect')\n",
              "        .attr('height', 10)\n",
              "        .attr(\n",
              "            'x',\n",
              "            (d, i) =>\n",
              "                (cusum[i] * plot_width + left_margin + options.node_padding))\n",
              "        .attr('width', (d, i) => d * plot_width)\n",
              "        .style('fill', (d, i) => d3.schemeSet1[i]);\n",
              "\n",
              "    const num_examples =\n",
              "        output.content.append('g')\n",
              "            .attr('transform', `translate(0,${output.vertical_offset})`)\n",
              "            .append('text')\n",
              "            .attr('x', options.node_x_size - options.node_padding)\n",
              "            .attr('alignment-baseline', 'hanging')\n",
              "            .attr('text-anchor', 'end')\n",
              "            .text(`(${value.num_examples})`);\n",
              "\n",
              "    const distribution_details = d3.create('ul');\n",
              "    distribution_details.selectAll('li')\n",
              "        .data(value.distribution)\n",
              "        .join('li')\n",
              "        .append('span')\n",
              "        .text(\n",
              "            (d, i) =>\n",
              "                'class ' + i + ': ' + d3.format('.3%')(value.distribution[i]));\n",
              "\n",
              "    add_tooltip(options, distribution_plot, () => distribution_details.html());\n",
              "    add_tooltip(options, num_examples, () => 'Number of examples');\n",
              "\n",
              "    output.vertical_offset += 10;\n",
              "    return;\n",
              "  }\n",
              "\n",
              "  if (value.type === 'REGRESSION') {\n",
              "    display_node_text(\n",
              "        options,\n",
              "        'value: ' + d3.format('r')(value.value) + ` (` +\n",
              "            d3.format('.6')(value.num_examples) + `)`,\n",
              "        output);\n",
              "    return;\n",
              "  }\n",
              "\n",
              "  display_node_text(options, `Non supported value ${value.type}`, output);\n",
              "}\n",
              "\n",
              "/**\n",
              " * Adds an explanation inside of a node.\n",
              " * @param {!options} options Dictionary of configurations.\n",
              " * @param {!explanation} explanation Explanation to display.\n",
              " * @param {!output} output Output display accumulator.\n",
              " */\n",
              "function display_explanation(options, explanation, output) {\n",
              "  // Margin before the explanation.\n",
              "  output.vertical_offset += 10;\n",
              "\n",
              "  display_node_text(\n",
              "      options, `Non supported explanation ${explanation.type}`, output);\n",
              "}\n",
              "\n",
              "\n",
              "/**\n",
              " * Draw the edges of the tree.\n",
              " * @param {!options} options Dictionary of configurations.\n",
              " * @param {!graph} graph D3 search handle containing the graph.\n",
              " * @param {!tree_struct} tree_struct Structure of the tree (node placement,\n",
              " *     data, etc.).\n",
              " */\n",
              "function display_edges(options, graph, tree_struct) {\n",
              "  // Draw an edge between a parent and a child node with a bezier.\n",
              "  function draw_single_edge(d) {\n",
              "    return 'M' + (d.source.y + options.node_x_size) + ',' + d.source.x + ' C' +\n",
              "        (d.source.y + options.node_x_size + options.edge_rounding) + ',' +\n",
              "        d.source.x + ' ' + (d.target.y - options.edge_rounding) + ',' +\n",
              "        d.target.x + ' ' + d.target.y + ',' + d.target.x;\n",
              "  }\n",
              "\n",
              "  graph.append('g')\n",
              "      .attr('fill', 'none')\n",
              "      .attr('stroke-width', 1.2)\n",
              "      .selectAll('path')\n",
              "      .data(tree_struct.links())\n",
              "      .join('path')\n",
              "      .attr('d', draw_single_edge)\n",
              "      .attr(\n",
              "          'stroke', d => (d.target === d.source.children[0]) ? '#0F0' : '#F00');\n",
              "}\n",
              "\n",
              "display_tree({\"margin\": 10, \"node_x_size\": 160, \"node_y_size\": 28, \"node_x_offset\": 180, \"node_y_offset\": 33, \"font_size\": 10, \"edge_rounding\": 20, \"node_padding\": 2, \"show_plot_bounding_box\": false}, {\"value\": {\"type\": \"REGRESSION\", \"value\": -2.2011079181538662e-08, \"num_examples\": 242875.0, \"standard_deviation\": 0.8888548933010751}, \"condition\": {\"type\": \"CATEGORICAL_IS_IN\", \"attribute\": \"cat2\", \"mask\": [\"<OOD>\", \"B\"]}, \"children\": [{\"value\": {\"type\": \"REGRESSION\", \"value\": 0.03098820522427559, \"num_examples\": 18963.0, \"standard_deviation\": 0.8909929814541089}, \"condition\": {\"type\": \"CATEGORICAL_IS_IN\", \"attribute\": \"cat0\", \"mask\": [\"A\"]}, \"children\": [{\"value\": {\"type\": \"REGRESSION\", \"value\": 0.032121289521455765, \"num_examples\": 18277.0, \"standard_deviation\": 0.8887850950315507}, \"condition\": {\"type\": \"CATEGORICAL_IS_IN\", \"attribute\": \"cat3\", \"mask\": [\"C\", \"B\"]}, \"children\": [{\"value\": {\"type\": \"REGRESSION\", \"value\": 0.03855109587311745, \"num_examples\": 11817.0, \"standard_deviation\": 0.875784130193229}, \"condition\": {\"type\": \"CATEGORICAL_IS_IN\", \"attribute\": \"cat9\", \"mask\": [\"F\", \"L\", \"G\", \"C\"]}}, {\"value\": {\"type\": \"REGRESSION\", \"value\": 0.020359519869089127, \"num_examples\": 6460.0, \"standard_deviation\": 0.9002819585599023}, \"condition\": {\"type\": \"NUMERICAL_IS_HIGHER_THAN\", \"attribute\": \"cont12\", \"threshold\": 0.8117859363555908}}]}, {\"value\": {\"type\": \"REGRESSION\", \"value\": 0.0007995766354724765, \"num_examples\": 686.0, \"standard_deviation\": 0.8966643318524128}, \"condition\": {\"type\": \"NUMERICAL_IS_HIGHER_THAN\", \"attribute\": \"cont5\", \"threshold\": 0.3807592988014221}, \"children\": [{\"value\": {\"type\": \"REGRESSION\", \"value\": -0.007282688748091459, \"num_examples\": 449.0, \"standard_deviation\": 0.921111598328362}, \"condition\": {\"type\": \"NUMERICAL_IS_HIGHER_THAN\", \"attribute\": \"cont2\", \"threshold\": 0.04506237804889679}}, {\"value\": {\"type\": \"REGRESSION\", \"value\": 0.016111547127366066, \"num_examples\": 237.0, \"standard_deviation\": 0.8270393947224575}, \"condition\": {\"type\": \"NUMERICAL_IS_HIGHER_THAN\", \"attribute\": \"cont0\", \"threshold\": 0.32542985677719116}}]}]}, {\"value\": {\"type\": \"REGRESSION\", \"value\": -0.002624399960041046, \"num_examples\": 223912.0, \"standard_deviation\": 0.8836965089255272}, \"condition\": {\"type\": \"CATEGORICAL_IS_IN\", \"attribute\": \"cat5\", \"mask\": [\"<OOD>\", \"B\", \"D\", \"A\"]}, \"children\": [{\"value\": {\"type\": \"REGRESSION\", \"value\": -0.0014204918406903744, \"num_examples\": 214901.0, \"standard_deviation\": 0.8805168209674826}, \"condition\": {\"type\": \"CATEGORICAL_IS_IN\", \"attribute\": \"cat9\", \"mask\": [\"<OOD>\", \"F\", \"L\", \"H\", \"G\", \"M\", \"O\", \"N\", \"C\", \"E\"]}, \"children\": [{\"value\": {\"type\": \"REGRESSION\", \"value\": 0.003513613250106573, \"num_examples\": 145123.0, \"standard_deviation\": 0.8903745786020543}, \"condition\": {\"type\": \"CATEGORICAL_IS_IN\", \"attribute\": \"cat1\", \"mask\": [\"<OOD>\", \"B\"]}}, {\"value\": {\"type\": \"REGRESSION\", \"value\": -0.011682352982461452, \"num_examples\": 69778.0, \"standard_deviation\": 0.8505346541104859}, \"condition\": {\"type\": \"NUMERICAL_IS_HIGHER_THAN\", \"attribute\": \"cont0\", \"threshold\": 0.4888375401496887}}]}, {\"value\": {\"type\": \"REGRESSION\", \"value\": -0.03133609518408775, \"num_examples\": 9011.0, \"standard_deviation\": 0.910389913373754}, \"condition\": {\"type\": \"CATEGORICAL_IS_IN\", \"attribute\": \"cat1\", \"mask\": [\"<OOD>\", \"B\"]}, \"children\": [{\"value\": {\"type\": \"REGRESSION\", \"value\": -0.01282349694520235, \"num_examples\": 3504.0, \"standard_deviation\": 0.888341976378268}, \"condition\": {\"type\": \"NUMERICAL_IS_HIGHER_THAN\", \"attribute\": \"cont1\", \"threshold\": 0.08184288442134857}}, {\"value\": {\"type\": \"REGRESSION\", \"value\": -0.04311531037092209, \"num_examples\": 5507.0, \"standard_deviation\": 0.9046337706732835}, \"condition\": {\"type\": \"NUMERICAL_IS_HIGHER_THAN\", \"attribute\": \"cont8\", \"threshold\": 0.6325271129608154}}]}]}]}, \"#tree_plot_b1aaba80f11746d98d7fa5b555af974c\")\n",
              "</script>\n"
            ],
            "text/plain": [
              "<IPython.core.display.HTML object>"
            ]
          },
          "metadata": {},
          "execution_count": 40
        }
      ]
    },
    {
      "cell_type": "code",
      "metadata": {
        "colab": {
          "base_uri": "https://localhost:8080/",
          "height": 279
        },
        "id": "e0K_RY-tkUDo",
        "outputId": "803def9d-cbde-4255-f3d5-2ae465e32a5c"
      },
      "source": [
        "logs = model_3.make_inspector().training_logs()\n",
        "\n",
        "plt.figure(figsize=(12, 4))\n",
        "\n",
        "plt.subplot(1, 2, 1)\n",
        "plt.plot([log.num_trees for log in logs], [log.evaluation.rmse for log in logs])\n",
        "plt.xlabel(\"Number of trees\")\n",
        "plt.ylabel(\"RMSE (out-of-bag)\")\n",
        "\n",
        "plt.show()"
      ],
      "execution_count": null,
      "outputs": [
        {
          "output_type": "display_data",
          "data": {
            "image/png": "[encoded data removed]",
            "text/plain": [
              "<Figure size 864x288 with 1 Axes>"
            ]
          },
          "metadata": {
            "needs_background": "light"
          }
        }
      ]
    },
    {
      "cell_type": "code",
      "metadata": {
        "colab": {
          "base_uri": "https://localhost:8080/"
        },
        "id": "zTUNrgNrFYWB",
        "outputId": "af3aa88b-017d-427f-f7f8-3d8a272095fa"
      },
      "source": [
        "evaluation = model_3.evaluate(tfds_valid, return_dict=True)\n",
        "print()\n",
        "\n",
        "for name, value in evaluation.items():\n",
        "  print(f\"{name}: {value:.4f}\")"
      ],
      "execution_count": null,
      "outputs": [
        {
          "output_type": "stream",
          "name": "stdout",
          "text": [
            "469/469 [==============================] - 2s 5ms/step - loss: 0.0000e+00 - rmse: 4.3905\n",
            "\n",
            "loss: 0.0000\n",
            "rmse: 4.3905\n"
          ]
        }
      ]
    },
    {
      "cell_type": "code",
      "metadata": {
        "id": "g2ZPK8-5wXjU",
        "jupyter": {
          "outputs_hidden": false
        },
        "pycharm": {
          "name": "#%%\n"
        }
      },
      "source": [
        "if NOTIFY_STATUS: status_notify(\"Task 4 - Train and Evaluate Models completed! \"+datetime.now().strftime('%a %B %d, %Y %I:%M:%S %p'))"
      ],
      "execution_count": null,
      "outputs": []
    },
    {
      "cell_type": "markdown",
      "metadata": {
        "id": "ISyQ5uNrwXjU"
      },
      "source": [
        "## Task 4 - Fine-tune and Improve Models"
      ]
    },
    {
      "cell_type": "code",
      "metadata": {
        "id": "l3AulRWbzzOz"
      },
      "source": [
        "if NOTIFY_STATUS: status_notify(\"Task 4 - Fine-tune and Improve Models has begun! \"+datetime.now().strftime('%a %B %d, %Y %I:%M:%S %p'))"
      ],
      "execution_count": null,
      "outputs": []
    },
    {
      "cell_type": "markdown",
      "metadata": {
        "id": "YIBZKA0bzpGr"
      },
      "source": [
        ""
      ]
    },
    {
      "cell_type": "code",
      "metadata": {
        "colab": {
          "base_uri": "https://localhost:8080/"
        },
        "id": "vlCLtsxjzQ2V",
        "outputId": "b8550f16-cf64-4b63-f7cf-3446448f8d3b"
      },
      "source": [
        "for num_trees in [300, 500, 750, 1000]:\n",
        "    # Define the baseline model for benchmarking\n",
        "    start_time_module = datetime.now()\n",
        "    reset_random()\n",
        "    model_tune = tfdf.keras.RandomForestModel(num_trees=num_trees,\n",
        "                                              task = tfdf.keras.Task.REGRESSION)\n",
        "\n",
        "    # Optionally, add evaluation metrics.\n",
        "    model_tune.compile(metrics=DEFAULT_METRICS)\n",
        "\n",
        "    # Train the model.\n",
        "    model_tune.fit(x=tfds_train, verbose=False)\n",
        "\n",
        "    evaluation = model_tune.evaluate(tfds_valid, return_dict=True)\n",
        "    print()\n",
        "\n",
        "    for name, value in evaluation.items():\n",
        "        print(f\"{name}: {value:.4f}\")\n",
        "    print ('Model optimization time:', (datetime.now() - start_time_module), '\\n')"
      ],
      "execution_count": null,
      "outputs": [
        {
          "metadata": {
            "tags": null
          },
          "name": "stdout",
          "output_type": "stream",
          "text": [
            "469/469 [==============================] - 8s 16ms/step - loss: 0.0000e+00 - rmse: 3.8256\n",
            "\n",
            "loss: 0.0000\n",
            "rmse: 3.8256\n",
            "Model optimization time: 0:09:36.504236 \n",
            "\n",
            "WARNING:tensorflow:5 out of the last 5 calls to <function CoreModel.make_predict_function.<locals>.predict_function_trained at 0x7fe535fd7e60> triggered tf.function retracing. Tracing is expensive and the excessive number of tracings could be due to (1) creating @tf.function repeatedly in a loop, (2) passing tensors with different shapes, (3) passing Python objects instead of tensors. For (1), please define your @tf.function outside of the loop. For (2), @tf.function has experimental_relax_shapes=True option that relaxes argument shapes that can avoid unnecessary retracing. For (3), please refer to https://www.tensorflow.org/guide/function#controlling_retracing and https://www.tensorflow.org/api_docs/python/tf/function for  more details.\n"
          ]
        },
        {
          "metadata": {
            "tags": null
          },
          "name": "stderr",
          "output_type": "stream",
          "text": [
            "WARNING:tensorflow:5 out of the last 5 calls to <function CoreModel.make_predict_function.<locals>.predict_function_trained at 0x7fe535fd7e60> triggered tf.function retracing. Tracing is expensive and the excessive number of tracings could be due to (1) creating @tf.function repeatedly in a loop, (2) passing tensors with different shapes, (3) passing Python objects instead of tensors. For (1), please define your @tf.function outside of the loop. For (2), @tf.function has experimental_relax_shapes=True option that relaxes argument shapes that can avoid unnecessary retracing. For (3), please refer to https://www.tensorflow.org/guide/function#controlling_retracing and https://www.tensorflow.org/api_docs/python/tf/function for  more details.\n"
          ]
        },
        {
          "output_type": "stream",
          "name": "stdout",
          "text": [
            "469/469 [==============================] - 14s 29ms/step - loss: 0.0000e+00 - rmse: 3.4423\n",
            "\n",
            "loss: 0.0000\n",
            "rmse: 3.4423\n",
            "Model optimization time: 0:15:42.165996 \n",
            "\n",
            "WARNING:tensorflow:6 out of the last 6 calls to <function CoreModel.make_predict_function.<locals>.predict_function_trained at 0x7fe53892bef0> triggered tf.function retracing. Tracing is expensive and the excessive number of tracings could be due to (1) creating @tf.function repeatedly in a loop, (2) passing tensors with different shapes, (3) passing Python objects instead of tensors. For (1), please define your @tf.function outside of the loop. For (2), @tf.function has experimental_relax_shapes=True option that relaxes argument shapes that can avoid unnecessary retracing. For (3), please refer to https://www.tensorflow.org/guide/function#controlling_retracing and https://www.tensorflow.org/api_docs/python/tf/function for  more details.\n"
          ]
        },
        {
          "output_type": "stream",
          "name": "stderr",
          "text": [
            "WARNING:tensorflow:6 out of the last 6 calls to <function CoreModel.make_predict_function.<locals>.predict_function_trained at 0x7fe53892bef0> triggered tf.function retracing. Tracing is expensive and the excessive number of tracings could be due to (1) creating @tf.function repeatedly in a loop, (2) passing tensors with different shapes, (3) passing Python objects instead of tensors. For (1), please define your @tf.function outside of the loop. For (2), @tf.function has experimental_relax_shapes=True option that relaxes argument shapes that can avoid unnecessary retracing. For (3), please refer to https://www.tensorflow.org/guide/function#controlling_retracing and https://www.tensorflow.org/api_docs/python/tf/function for  more details.\n"
          ]
        },
        {
          "output_type": "stream",
          "name": "stdout",
          "text": [
            "469/469 [==============================] - 24s 51ms/step - loss: 0.0000e+00 - rmse: 3.1612\n",
            "\n",
            "loss: 0.0000\n",
            "rmse: 3.1612\n",
            "Model optimization time: 0:24:00.125419 \n",
            "\n",
            "469/469 [==============================] - 23s 49ms/step - loss: 0.0000e+00 - rmse: 2.9439\n",
            "\n",
            "loss: 0.0000\n",
            "rmse: 2.9439\n",
            "Model optimization time: 0:30:45.839464 \n",
            "\n"
          ]
        }
      ]
    },
    {
      "cell_type": "code",
      "metadata": {
        "id": "orMchSDCzr07"
      },
      "source": [
        "if NOTIFY_STATUS: status_notify(\"Task 4 - Fine-tune and Improve Models completed! \"+datetime.now().strftime('%a %B %d, %Y %I:%M:%S %p'))"
      ],
      "execution_count": null,
      "outputs": []
    },
    {
      "cell_type": "markdown",
      "metadata": {
        "id": "D7UgYoGuzaM-"
      },
      "source": [
        "## Task 5 - Finalize Model and Present Analysis"
      ]
    },
    {
      "cell_type": "code",
      "metadata": {
        "id": "BhuD5C56wXjV"
      },
      "source": [
        "if NOTIFY_STATUS: status_notify(\"Task 5 - Finalize Model and Present Analysis has begun! \"+datetime.now().strftime('%a %B %d, %Y %I:%M:%S %p'))"
      ],
      "execution_count": null,
      "outputs": []
    },
    {
      "cell_type": "markdown",
      "metadata": {
        "id": "xDcJ2kVE8xNI"
      },
      "source": [
        "### 5.a) Train the Final Model"
      ]
    },
    {
      "cell_type": "code",
      "metadata": {
        "id": "dsntMWlJwXjV",
        "colab": {
          "base_uri": "https://localhost:8080/"
        },
        "outputId": "0f7aac5a-5414-4e60-c1b2-104b620092d0"
      },
      "source": [
        "# Define the baseline model for benchmarking\n",
        "start_time_module = datetime.now()\n",
        "reset_random()\n",
        "final_model = tfdf.keras.RandomForestModel(num_trees=1000,\n",
        "                                           task = tfdf.keras.Task.REGRESSION)\n",
        "\n",
        "# Optionally, add evaluation metrics.\n",
        "final_model.compile(\n",
        "    metrics=DEFAULT_METRICS)\n",
        "\n",
        "# Train the model.\n",
        "# \"sys_pipes\" is optional. It enables the display of the training logs.\n",
        "with sys_pipes():\n",
        "    final_model.fit(x=tfds_train)\n",
        "print ('Model training time:', (datetime.now() - start_time_module), '\\n')"
      ],
      "execution_count": null,
      "outputs": [
        {
          "output_type": "stream",
          "name": "stdout",
          "text": [
            "4209/4219 [============================>.] - ETA: 0s"
          ]
        },
        {
          "output_type": "stream",
          "name": "stderr",
          "text": [
            "[INFO kernel.cc:736] Start Yggdrasil model training\n",
            "[INFO kernel.cc:737] Collect training examples\n",
            "[INFO kernel.cc:392] Number of batches: 4219\n",
            "[INFO kernel.cc:393] Number of examples: 270000\n",
            "[INFO data_spec_inference.cc:290] 1 item(s) have been pruned (i.e. they are considered out of dictionary) for the column cat6 (7 item(s) left) because min_value_count=5 and max_number_of_unique_values=2000\n",
            "[INFO data_spec_inference.cc:290] 1 item(s) have been pruned (i.e. they are considered out of dictionary) for the column cat7 (7 item(s) left) because min_value_count=5 and max_number_of_unique_values=2000\n",
            "[INFO kernel.cc:759] Dataset:\n",
            "Number of records: 270000\n",
            "Number of columns: 25\n",
            "\n",
            "Number of columns by type:\n",
            "\tNUMERICAL: 15 (60%)\n",
            "\tCATEGORICAL: 10 (40%)\n",
            "\n",
            "Columns:\n",
            "\n",
            "NUMERICAL: 15 (60%)\n",
            "\t10: \"cont0\" NUMERICAL mean:0.524665 min:-0.0935054 max:1.05267 sd:0.204975\n",
            "\t11: \"cont1\" NUMERICAL mean:0.5066 min:-0.0551051 max:0.851746 sd:0.235212\n",
            "\t12: \"cont10\" NUMERICAL mean:0.504882 min:0.0596438 max:1.02977 sd:0.201568\n",
            "\t13: \"cont11\" NUMERICAL mean:0.529966 min:0.0641612 max:1.03805 sd:0.230866\n",
            "\t14: \"cont12\" NUMERICAL mean:0.524661 min:-0.0056 max:0.960661 sd:0.220914\n",
            "\t15: \"cont13\" NUMERICAL mean:0.503246 min:0.158121 max:0.873579 sd:0.225184\n",
            "\t16: \"cont2\" NUMERICAL mean:0.443985 min:-0.0602737 max:1.01769 sd:0.200055\n",
            "\t17: \"cont3\" NUMERICAL mean:0.446431 min:0.13476 max:1.00647 sd:0.23872\n",
            "\t18: \"cont4\" NUMERICAL mean:0.455521 min:0.189216 max:0.99405 sd:0.200755\n",
            "\t19: \"cont5\" NUMERICAL mean:0.508507 min:-0.0872467 max:1.04443 sd:0.231717\n",
            "\t20: \"cont6\" NUMERICAL mean:0.478303 min:0.0439533 max:1.09331 sd:0.192422\n",
            "\t21: \"cont7\" NUMERICAL mean:0.456091 min:0.208703 max:1.03547 sd:0.204578\n",
            "\t22: \"cont8\" NUMERICAL mean:0.459479 min:0.00404139 max:1.01416 sd:0.220727\n",
            "\t23: \"cont9\" NUMERICAL mean:0.52701 min:0.0730399 max:0.972091 sd:0.204064\n",
            "\t24: \"__LABEL\" NUMERICAL mean:7.4558 min:0 max:10.3092 sd:0.888528\n",
            "\n",
            "CATEGORICAL: 10 (40%)\n",
            "\t0: \"cat0\" CATEGORICAL has-dict vocab-size:3 zero-ood-items most-frequent:\"A\" 253271 (93.8041%)\n",
            "\t1: \"cat1\" CATEGORICAL has-dict vocab-size:3 zero-ood-items most-frequent:\"A\" 146410 (54.2259%)\n",
            "\t2: \"cat2\" CATEGORICAL has-dict vocab-size:3 zero-ood-items most-frequent:\"A\" 248913 (92.19%)\n",
            "\t3: \"cat3\" CATEGORICAL has-dict vocab-size:5 zero-ood-items most-frequent:\"C\" 165494 (61.2941%)\n",
            "\t4: \"cat4\" CATEGORICAL has-dict vocab-size:5 zero-ood-items most-frequent:\"B\" 267642 (99.1267%)\n",
            "\t5: \"cat5\" CATEGORICAL has-dict vocab-size:5 zero-ood-items most-frequent:\"B\" 134140 (49.6815%)\n",
            "\t6: \"cat6\" CATEGORICAL has-dict vocab-size:8 num-oods:1 (0.00037037%) most-frequent:\"A\" 263330 (97.5296%)\n",
            "\t7: \"cat7\" CATEGORICAL has-dict vocab-size:8 num-oods:1 (0.00037037%) most-frequent:\"E\" 240842 (89.2007%)\n",
            "\t8: \"cat8\" CATEGORICAL has-dict vocab-size:8 zero-ood-items most-frequent:\"C\" 108892 (40.3304%)\n",
            "\t9: \"cat9\" CATEGORICAL has-dict vocab-size:16 zero-ood-items most-frequent:\"F\" 96539 (35.7552%)\n",
            "\n",
            "Terminology:\n",
            "\tnas: Number of non-available (i.e. missing) values.\n",
            "\tood: Out of dictionary.\n",
            "\tmanually-defined: Attribute which type is manually defined by the user i.e. the type was not automatically inferred.\n",
            "\ttokenized: The attribute value is obtained through tokenization.\n",
            "\thas-dict: The attribute is attached to a string dictionary e.g. a categorical attribute stored as a string.\n",
            "\tvocab-size: Number of unique values.\n",
            "\n",
            "[INFO kernel.cc:762] Configure learner\n",
            "[INFO kernel.cc:787] Training config:\n",
            "learner: \"RANDOM_FOREST\"\n",
            "features: \"cat0\"\n",
            "features: \"cat1\"\n",
            "features: \"cat2\"\n",
            "features: \"cat3\"\n",
            "features: \"cat4\"\n",
            "features: \"cat5\"\n",
            "features: \"cat6\"\n",
            "features: \"cat7\"\n",
            "features: \"cat8\"\n",
            "features: \"cat9\"\n",
            "features: \"cont0\"\n",
            "features: \"cont1\"\n",
            "features: \"cont10\"\n",
            "features: \"cont11\"\n",
            "features: \"cont12\"\n",
            "features: \"cont13\"\n",
            "features: \"cont2\"\n",
            "features: \"cont3\"\n",
            "features: \"cont4\"\n",
            "features: \"cont5\"\n",
            "features: \"cont6\"\n",
            "features: \"cont7\"\n",
            "features: \"cont8\"\n",
            "features: \"cont9\"\n",
            "label: \"__LABEL\"\n",
            "task: REGRESSION\n",
            "[yggdrasil_decision_forests.model.random_forest.proto.random_forest_config] {\n",
            "  num_trees: 1000\n",
            "  decision_tree {\n",
            "    max_depth: 16\n",
            "    min_examples: 5\n",
            "    in_split_min_examples_check: true\n",
            "    missing_value_policy: GLOBAL_IMPUTATION\n",
            "    allow_na_conditions: false\n",
            "    categorical_set_greedy_forward {\n",
            "      sampling: 0.1\n",
            "      max_num_items: -1\n",
            "      min_item_frequency: 1\n",
            "    }\n",
            "    growing_strategy_local {\n",
            "    }\n",
            "    categorical {\n",
            "      cart {\n",
            "      }\n",
            "    }\n",
            "    num_candidate_attributes_ratio: -1\n",
            "    axis_aligned_split {\n",
            "    }\n",
            "    internal {\n",
            "      sorting_strategy: PRESORTED\n",
            "    }\n",
            "  }\n",
            "  winner_take_all_inference: true\n",
            "  compute_oob_performances: true\n",
            "  compute_oob_variable_importances: false\n",
            "  adapt_bootstrap_size_ratio_for_maximum_training_duration: false\n",
            "}\n",
            "\n",
            "[INFO kernel.cc:790] Deployment config:\n",
            "num_threads: 6\n",
            "\n",
            "[INFO kernel.cc:817] Train model\n",
            "[INFO random_forest.cc:315] Training random forest on 270000 example(s) and 24 feature(s).\n",
            "[INFO random_forest.cc:628] Training of tree  1/1000 (tree index:1) done rmse:0.919713\n",
            "[INFO random_forest.cc:628] Training of tree  9/1000 (tree index:8) done rmse:0.879323\n",
            "[INFO random_forest.cc:628] Training of tree  15/1000 (tree index:14) done rmse:0.868601\n",
            "[INFO random_forest.cc:628] Training of tree  21/1000 (tree index:21) done rmse:0.864601\n",
            "[INFO random_forest.cc:628] Training of tree  28/1000 (tree index:28) done rmse:0.861933\n",
            "[INFO random_forest.cc:628] Training of tree  34/1000 (tree index:33) done rmse:0.860569\n",
            "[INFO random_forest.cc:628] Training of tree  40/1000 (tree index:39) done rmse:0.859603\n",
            "[INFO random_forest.cc:628] Training of tree  46/1000 (tree index:45) done rmse:0.858811\n",
            "[INFO random_forest.cc:628] Training of tree  52/1000 (tree index:51) done rmse:0.85831\n",
            "[INFO random_forest.cc:628] Training of tree  58/1000 (tree index:58) done rmse:0.857951\n",
            "[INFO random_forest.cc:628] Training of tree  64/1000 (tree index:63) done rmse:0.857632\n",
            "[INFO random_forest.cc:628] Training of tree  70/1000 (tree index:69) done rmse:0.857396\n",
            "[INFO random_forest.cc:628] Training of tree  76/1000 (tree index:75) done rmse:0.857142\n",
            "[INFO random_forest.cc:628] Training of tree  82/1000 (tree index:81) done rmse:0.856986\n",
            "[INFO random_forest.cc:628] Training of tree  89/1000 (tree index:88) done rmse:0.856824\n",
            "[INFO random_forest.cc:628] Training of tree  95/1000 (tree index:94) done rmse:0.856694\n",
            "[INFO random_forest.cc:628] Training of tree  101/1000 (tree index:100) done rmse:0.856536\n",
            "[INFO random_forest.cc:628] Training of tree  107/1000 (tree index:106) done rmse:0.856475\n",
            "[INFO random_forest.cc:628] Training of tree  113/1000 (tree index:113) done rmse:0.856388\n",
            "[INFO random_forest.cc:628] Training of tree  119/1000 (tree index:118) done rmse:0.856334\n",
            "[INFO random_forest.cc:628] Training of tree  125/1000 (tree index:125) done rmse:0.856271\n",
            "[INFO random_forest.cc:628] Training of tree  131/1000 (tree index:130) done rmse:0.856203\n",
            "[INFO random_forest.cc:628] Training of tree  137/1000 (tree index:137) done rmse:0.856146\n",
            "[INFO random_forest.cc:628] Training of tree  143/1000 (tree index:142) done rmse:0.856099\n",
            "[INFO random_forest.cc:628] Training of tree  149/1000 (tree index:148) done rmse:0.856032\n",
            "[INFO random_forest.cc:628] Training of tree  155/1000 (tree index:154) done rmse:0.855979\n",
            "[INFO random_forest.cc:628] Training of tree  161/1000 (tree index:160) done rmse:0.855949\n",
            "[INFO random_forest.cc:628] Training of tree  167/1000 (tree index:166) done rmse:0.855883\n",
            "[INFO random_forest.cc:628] Training of tree  173/1000 (tree index:172) done rmse:0.855862\n",
            "[INFO random_forest.cc:628] Training of tree  179/1000 (tree index:178) done rmse:0.855816\n",
            "[INFO random_forest.cc:628] Training of tree  185/1000 (tree index:184) done rmse:0.855763\n",
            "[INFO random_forest.cc:628] Training of tree  191/1000 (tree index:190) done rmse:0.855719\n",
            "[INFO random_forest.cc:628] Training of tree  197/1000 (tree index:196) done rmse:0.855679\n",
            "[INFO random_forest.cc:628] Training of tree  203/1000 (tree index:202) done rmse:0.855642\n",
            "[INFO random_forest.cc:628] Training of tree  209/1000 (tree index:208) done rmse:0.855616\n",
            "[INFO random_forest.cc:628] Training of tree  215/1000 (tree index:214) done rmse:0.855588\n",
            "[INFO random_forest.cc:628] Training of tree  221/1000 (tree index:220) done rmse:0.855547\n",
            "[INFO random_forest.cc:628] Training of tree  225/1000 (tree index:224) done rmse:0.855522\n",
            "[INFO random_forest.cc:628] Training of tree  229/1000 (tree index:228) done rmse:0.855521\n",
            "[INFO random_forest.cc:628] Training of tree  235/1000 (tree index:234) done rmse:0.855496\n",
            "[INFO random_forest.cc:628] Training of tree  241/1000 (tree index:240) done rmse:0.855462\n",
            "[INFO random_forest.cc:628] Training of tree  247/1000 (tree index:246) done rmse:0.855443\n",
            "[INFO random_forest.cc:628] Training of tree  253/1000 (tree index:252) done rmse:0.855453\n",
            "[INFO random_forest.cc:628] Training of tree  259/1000 (tree index:258) done rmse:0.855441\n",
            "[INFO random_forest.cc:628] Training of tree  265/1000 (tree index:264) done rmse:0.855421\n",
            "[INFO random_forest.cc:628] Training of tree  271/1000 (tree index:270) done rmse:0.855387\n",
            "[INFO random_forest.cc:628] Training of tree  277/1000 (tree index:276) done rmse:0.855372\n",
            "[INFO random_forest.cc:628] Training of tree  283/1000 (tree index:282) done rmse:0.855353\n",
            "[INFO random_forest.cc:628] Training of tree  289/1000 (tree index:288) done rmse:0.855326\n",
            "[INFO random_forest.cc:628] Training of tree  295/1000 (tree index:294) done rmse:0.855319\n",
            "[INFO random_forest.cc:628] Training of tree  301/1000 (tree index:300) done rmse:0.855284\n",
            "[INFO random_forest.cc:628] Training of tree  307/1000 (tree index:306) done rmse:0.85526\n",
            "[INFO random_forest.cc:628] Training of tree  313/1000 (tree index:312) done rmse:0.855235\n",
            "[INFO random_forest.cc:628] Training of tree  319/1000 (tree index:318) done rmse:0.85522\n",
            "[INFO random_forest.cc:628] Training of tree  325/1000 (tree index:324) done rmse:0.855215\n",
            "[INFO random_forest.cc:628] Training of tree  331/1000 (tree index:330) done rmse:0.855211\n",
            "[INFO random_forest.cc:628] Training of tree  337/1000 (tree index:336) done rmse:0.855207\n",
            "[INFO random_forest.cc:628] Training of tree  343/1000 (tree index:342) done rmse:0.855194\n",
            "[INFO random_forest.cc:628] Training of tree  349/1000 (tree index:348) done rmse:0.855188\n",
            "[INFO random_forest.cc:628] Training of tree  355/1000 (tree index:354) done rmse:0.855182\n",
            "[INFO random_forest.cc:628] Training of tree  361/1000 (tree index:360) done rmse:0.855174\n",
            "[INFO random_forest.cc:628] Training of tree  367/1000 (tree index:366) done rmse:0.855165\n",
            "[INFO random_forest.cc:628] Training of tree  373/1000 (tree index:372) done rmse:0.855168\n",
            "[INFO random_forest.cc:628] Training of tree  379/1000 (tree index:378) done rmse:0.855164\n",
            "[INFO random_forest.cc:628] Training of tree  385/1000 (tree index:384) done rmse:0.855155\n",
            "[INFO random_forest.cc:628] Training of tree  391/1000 (tree index:390) done rmse:0.855157\n",
            "[INFO random_forest.cc:628] Training of tree  397/1000 (tree index:397) done rmse:0.855148\n",
            "[INFO random_forest.cc:628] Training of tree  403/1000 (tree index:402) done rmse:0.855136\n",
            "[INFO random_forest.cc:628] Training of tree  409/1000 (tree index:409) done rmse:0.855131\n",
            "[INFO random_forest.cc:628] Training of tree  415/1000 (tree index:414) done rmse:0.855118\n",
            "[INFO random_forest.cc:628] Training of tree  421/1000 (tree index:420) done rmse:0.85511\n",
            "[INFO random_forest.cc:628] Training of tree  427/1000 (tree index:426) done rmse:0.8551\n",
            "[INFO random_forest.cc:628] Training of tree  433/1000 (tree index:432) done rmse:0.855094\n",
            "[INFO random_forest.cc:628] Training of tree  439/1000 (tree index:438) done rmse:0.855098\n",
            "[INFO random_forest.cc:628] Training of tree  445/1000 (tree index:444) done rmse:0.855089\n",
            "[INFO random_forest.cc:628] Training of tree  451/1000 (tree index:450) done rmse:0.855086\n",
            "[INFO random_forest.cc:628] Training of tree  457/1000 (tree index:457) done rmse:0.855078\n",
            "[INFO random_forest.cc:628] Training of tree  463/1000 (tree index:462) done rmse:0.855072\n",
            "[INFO random_forest.cc:628] Training of tree  469/1000 (tree index:468) done rmse:0.855065\n",
            "[INFO random_forest.cc:628] Training of tree  475/1000 (tree index:475) done rmse:0.855066\n",
            "[INFO random_forest.cc:628] Training of tree  481/1000 (tree index:480) done rmse:0.855056\n",
            "[INFO random_forest.cc:628] Training of tree  487/1000 (tree index:487) done rmse:0.85505\n",
            "[INFO random_forest.cc:628] Training of tree  493/1000 (tree index:493) done rmse:0.855044\n",
            "[INFO random_forest.cc:628] Training of tree  499/1000 (tree index:498) done rmse:0.855045\n",
            "[INFO random_forest.cc:628] Training of tree  505/1000 (tree index:504) done rmse:0.855041\n",
            "[INFO random_forest.cc:628] Training of tree  511/1000 (tree index:510) done rmse:0.855039\n",
            "[INFO random_forest.cc:628] Training of tree  517/1000 (tree index:516) done rmse:0.855041\n",
            "[INFO random_forest.cc:628] Training of tree  523/1000 (tree index:522) done rmse:0.855035\n",
            "[INFO random_forest.cc:628] Training of tree  529/1000 (tree index:528) done rmse:0.855038\n",
            "[INFO random_forest.cc:628] Training of tree  535/1000 (tree index:534) done rmse:0.85503\n",
            "[INFO random_forest.cc:628] Training of tree  541/1000 (tree index:540) done rmse:0.855026\n",
            "[INFO random_forest.cc:628] Training of tree  547/1000 (tree index:546) done rmse:0.855018\n",
            "[INFO random_forest.cc:628] Training of tree  553/1000 (tree index:552) done rmse:0.855007\n",
            "[INFO random_forest.cc:628] Training of tree  559/1000 (tree index:558) done rmse:0.855001\n",
            "[INFO random_forest.cc:628] Training of tree  565/1000 (tree index:564) done rmse:0.855004\n",
            "[INFO random_forest.cc:628] Training of tree  571/1000 (tree index:570) done rmse:0.855004\n",
            "[INFO random_forest.cc:628] Training of tree  577/1000 (tree index:576) done rmse:0.855004\n",
            "[INFO random_forest.cc:628] Training of tree  583/1000 (tree index:582) done rmse:0.855013\n",
            "[INFO random_forest.cc:628] Training of tree  589/1000 (tree index:588) done rmse:0.855007\n",
            "[INFO random_forest.cc:628] Training of tree  595/1000 (tree index:594) done rmse:0.855006\n",
            "[INFO random_forest.cc:628] Training of tree  601/1000 (tree index:600) done rmse:0.855\n",
            "[INFO random_forest.cc:628] Training of tree  607/1000 (tree index:606) done rmse:0.854991\n",
            "[INFO random_forest.cc:628] Training of tree  613/1000 (tree index:612) done rmse:0.85499\n",
            "[INFO random_forest.cc:628] Training of tree  619/1000 (tree index:618) done rmse:0.854989\n",
            "[INFO random_forest.cc:628] Training of tree  625/1000 (tree index:624) done rmse:0.854986\n",
            "[INFO random_forest.cc:628] Training of tree  631/1000 (tree index:630) done rmse:0.854992\n",
            "[INFO random_forest.cc:628] Training of tree  637/1000 (tree index:636) done rmse:0.854993\n",
            "[INFO random_forest.cc:628] Training of tree  643/1000 (tree index:643) done rmse:0.854994\n",
            "[INFO random_forest.cc:628] Training of tree  649/1000 (tree index:648) done rmse:0.854987\n",
            "[INFO random_forest.cc:628] Training of tree  655/1000 (tree index:654) done rmse:0.854987\n",
            "[INFO random_forest.cc:628] Training of tree  661/1000 (tree index:660) done rmse:0.854983\n",
            "[INFO random_forest.cc:628] Training of tree  667/1000 (tree index:666) done rmse:0.854986\n",
            "[INFO random_forest.cc:628] Training of tree  673/1000 (tree index:672) done rmse:0.854983\n",
            "[INFO random_forest.cc:628] Training of tree  679/1000 (tree index:678) done rmse:0.854974\n",
            "[INFO random_forest.cc:628] Training of tree  685/1000 (tree index:684) done rmse:0.854975\n",
            "[INFO random_forest.cc:628] Training of tree  691/1000 (tree index:690) done rmse:0.854978\n",
            "[INFO random_forest.cc:628] Training of tree  697/1000 (tree index:696) done rmse:0.854981\n",
            "[INFO random_forest.cc:628] Training of tree  703/1000 (tree index:702) done rmse:0.854988\n",
            "[INFO random_forest.cc:628] Training of tree  709/1000 (tree index:708) done rmse:0.854989\n",
            "[INFO random_forest.cc:628] Training of tree  715/1000 (tree index:714) done rmse:0.854987\n",
            "[INFO random_forest.cc:628] Training of tree  721/1000 (tree index:720) done rmse:0.854995\n",
            "[INFO random_forest.cc:628] Training of tree  727/1000 (tree index:726) done rmse:0.854995\n",
            "[INFO random_forest.cc:628] Training of tree  733/1000 (tree index:732) done rmse:0.854994\n",
            "[INFO random_forest.cc:628] Training of tree  739/1000 (tree index:738) done rmse:0.854986\n",
            "[INFO random_forest.cc:628] Training of tree  745/1000 (tree index:744) done rmse:0.854988\n",
            "[INFO random_forest.cc:628] Training of tree  750/1000 (tree index:749) done rmse:0.854985\n",
            "[INFO random_forest.cc:628] Training of tree  752/1000 (tree index:751) done rmse:0.854983\n",
            "[INFO random_forest.cc:628] Training of tree  757/1000 (tree index:756) done rmse:0.854992\n",
            "[INFO random_forest.cc:628] Training of tree  763/1000 (tree index:762) done rmse:0.854986\n",
            "[INFO random_forest.cc:628] Training of tree  769/1000 (tree index:768) done rmse:0.854979\n",
            "[INFO random_forest.cc:628] Training of tree  775/1000 (tree index:774) done rmse:0.854975\n",
            "[INFO random_forest.cc:628] Training of tree  779/1000 (tree index:778) done rmse:0.854975\n",
            "[INFO random_forest.cc:628] Training of tree  782/1000 (tree index:781) done rmse:0.854977\n",
            "[INFO random_forest.cc:628] Training of tree  787/1000 (tree index:786) done rmse:0.854977\n",
            "[INFO random_forest.cc:628] Training of tree  790/1000 (tree index:789) done rmse:0.854977\n",
            "[INFO random_forest.cc:628] Training of tree  794/1000 (tree index:793) done rmse:0.854978\n",
            "[INFO random_forest.cc:628] Training of tree  799/1000 (tree index:798) done rmse:0.85498\n",
            "[INFO random_forest.cc:628] Training of tree  802/1000 (tree index:801) done rmse:0.854979\n",
            "[INFO random_forest.cc:628] Training of tree  806/1000 (tree index:805) done rmse:0.854974\n",
            "[INFO random_forest.cc:628] Training of tree  812/1000 (tree index:811) done rmse:0.854971\n",
            "[INFO random_forest.cc:628] Training of tree  818/1000 (tree index:817) done rmse:0.854967\n",
            "[INFO random_forest.cc:628] Training of tree  824/1000 (tree index:823) done rmse:0.85497\n",
            "[INFO random_forest.cc:628] Training of tree  830/1000 (tree index:829) done rmse:0.854977\n",
            "[INFO random_forest.cc:628] Training of tree  835/1000 (tree index:834) done rmse:0.854974\n",
            "[INFO random_forest.cc:628] Training of tree  838/1000 (tree index:837) done rmse:0.854971\n",
            "[INFO random_forest.cc:628] Training of tree  844/1000 (tree index:843) done rmse:0.854964\n",
            "[INFO random_forest.cc:628] Training of tree  850/1000 (tree index:849) done rmse:0.85496\n",
            "[INFO random_forest.cc:628] Training of tree  856/1000 (tree index:856) done rmse:0.854955\n",
            "[INFO random_forest.cc:628] Training of tree  862/1000 (tree index:862) done rmse:0.854949\n",
            "[INFO random_forest.cc:628] Training of tree  868/1000 (tree index:867) done rmse:0.854944\n",
            "[INFO random_forest.cc:628] Training of tree  874/1000 (tree index:874) done rmse:0.854946\n",
            "[INFO random_forest.cc:628] Training of tree  880/1000 (tree index:879) done rmse:0.854938\n",
            "[INFO random_forest.cc:628] Training of tree  886/1000 (tree index:885) done rmse:0.854936\n",
            "[INFO random_forest.cc:628] Training of tree  892/1000 (tree index:891) done rmse:0.854934\n",
            "[INFO random_forest.cc:628] Training of tree  898/1000 (tree index:897) done rmse:0.85493\n",
            "[INFO random_forest.cc:628] Training of tree  904/1000 (tree index:903) done rmse:0.854926\n",
            "[INFO random_forest.cc:628] Training of tree  910/1000 (tree index:909) done rmse:0.854924\n",
            "[INFO random_forest.cc:628] Training of tree  916/1000 (tree index:915) done rmse:0.854925\n",
            "[INFO random_forest.cc:628] Training of tree  922/1000 (tree index:921) done rmse:0.854926\n",
            "[INFO random_forest.cc:628] Training of tree  928/1000 (tree index:927) done rmse:0.854927\n",
            "[INFO random_forest.cc:628] Training of tree  934/1000 (tree index:933) done rmse:0.854927\n",
            "[INFO random_forest.cc:628] Training of tree  940/1000 (tree index:940) done rmse:0.854924\n",
            "[INFO random_forest.cc:628] Training of tree  946/1000 (tree index:945) done rmse:0.854918\n",
            "[INFO random_forest.cc:628] Training of tree  952/1000 (tree index:951) done rmse:0.85492\n",
            "[INFO random_forest.cc:628] Training of tree  958/1000 (tree index:957) done rmse:0.854919\n",
            "[INFO random_forest.cc:628] Training of tree  964/1000 (tree index:963) done rmse:0.854918\n",
            "[INFO random_forest.cc:628] Training of tree  970/1000 (tree index:969) done rmse:0.854917\n",
            "[INFO random_forest.cc:628] Training of tree  976/1000 (tree index:975) done rmse:0.854915\n",
            "[INFO random_forest.cc:628] Training of tree  982/1000 (tree index:981) done rmse:0.854914\n",
            "[INFO random_forest.cc:628] Training of tree  988/1000 (tree index:987) done rmse:0.854911\n",
            "[INFO random_forest.cc:628] Training of tree  993/1000 (tree index:992) done rmse:0.854909\n",
            "[INFO random_forest.cc:628] Training of tree  1000/1000 (tree index:999) done rmse:0.85491\n",
            "[INFO random_forest.cc:696] Final OOB metrics: rmse:0.85491\n",
            "[INFO kernel.cc:828] Export model in log directory: /tmp/tmp1vwrsz_0\n",
            "[INFO kernel.cc:836] Save model in resources\n",
            "[INFO kernel.cc:988] Loading model from path\n",
            "[INFO decision_forest.cc:590] Model loaded with 1000 root(s), 10574934 node(s), and 24 input feature(s).\n",
            "[INFO abstract_model.cc:993] Engine \"RandomForestOptPred\" built\n",
            "[INFO kernel.cc:848] Use fast generic engine\n"
          ]
        },
        {
          "output_type": "stream",
          "name": "stdout",
          "text": [
            "\b\b\b\b\b\b\b\b\b\b\b\b\b\b\b\b\b\b\b\b\b\b\b\b\b\b\b\b\b\b\b\b\b\b\b\b\b\b\b\b\b\b\b\b\b\b\b\b\b\b\b\b\r4219/4219 [==============================] - 2075s 492ms/step\n",
            "Model training time: 0:35:23.505185 \n",
            "\n"
          ]
        }
      ]
    },
    {
      "cell_type": "code",
      "metadata": {
        "id": "IuwcWWXF89YM"
      },
      "source": [
        "final_model.summary()"
      ],
      "execution_count": null,
      "outputs": []
    },
    {
      "cell_type": "code",
      "metadata": {
        "id": "iT3zt_w-9Bul"
      },
      "source": [
        "tfdf.model_plotter.plot_model_in_colab(final_model)"
      ],
      "execution_count": null,
      "outputs": []
    },
    {
      "cell_type": "code",
      "metadata": {
        "id": "I11cWpq29FJc"
      },
      "source": [
        "evaluation = final_model.evaluate(tfds_valid, return_dict=True)\n",
        "print()\n",
        "\n",
        "for name, value in evaluation.items():\n",
        "  print(f\"{name}: {value:.4f}\")"
      ],
      "execution_count": null,
      "outputs": []
    },
    {
      "cell_type": "markdown",
      "metadata": {
        "id": "vAzsJd7g9Oqi"
      },
      "source": [
        "### 5.b) Load Test Dataset and Prepare the Submission File"
      ]
    },
    {
      "cell_type": "code",
      "metadata": {
        "id": "U8jDH1CW9QBI",
        "colab": {
          "base_uri": "https://localhost:8080/"
        },
        "outputId": "f44fced8-4f80-41cb-8048-96f5a0873211"
      },
      "source": [
        "dataset_path = 'https://dainesanalytics.com/datasets/kaggle-tabular-playground-2021feb/test.csv'\n",
        "df_features_test = pd.read_csv(dataset_path, index_col=False)\n",
        "\n",
        "# Take a peek at the dataframe after import\n",
        "print(df_features_test.head())"
      ],
      "execution_count": null,
      "outputs": [
        {
          "output_type": "stream",
          "name": "stdout",
          "text": [
            "   id cat0 cat1 cat2 cat3  ...     cont9    cont10    cont11    cont12    cont13\n",
            "0   0    A    B    A    C  ...  0.242654  0.285147  0.264308  0.653654  0.302448\n",
            "1   5    A    B    A    C  ...  0.516393  0.562065  0.730542  0.318492  0.736251\n",
            "2  15    A    B    A    C  ...  0.548555  0.836193  0.759788  0.333572  0.273905\n",
            "3  16    A    A    B    A  ...  0.596746  0.414131  0.255382  0.589080  0.311625\n",
            "4  17    A    B    A    A  ...  0.263235  0.710961  0.224045  0.285860  0.794931\n",
            "\n",
            "[5 rows x 25 columns]\n"
          ]
        }
      ]
    },
    {
      "cell_type": "code",
      "metadata": {
        "id": "sEys8on49SGC"
      },
      "source": [
        "df_kaggle_submission = pd.DataFrame()\n",
        "df_kaggle_submission['id'] = df_features_test['id']\n",
        "print(df_kaggle_submission.head())"
      ],
      "execution_count": null,
      "outputs": []
    },
    {
      "cell_type": "code",
      "metadata": {
        "id": "M_Q32_pF9UJF"
      },
      "source": [
        "# Dropping features\n",
        "df_features_test.drop(columns=['id'], inplace=True)\n",
        "\n",
        "# Take a peek at the dataframe after cleaning\n",
        "print(df_features_test.head())"
      ],
      "execution_count": null,
      "outputs": []
    },
    {
      "cell_type": "code",
      "metadata": {
        "id": "9hPuYzYP9VZ9"
      },
      "source": [
        "# Finalize the test dataset for the prediction activities\n",
        "tfds_test = tfdf.keras.pd_dataframe_to_tf_dataset(df_features_test, task = tfdf.keras.Task.REGRESSION)"
      ],
      "execution_count": null,
      "outputs": []
    },
    {
      "cell_type": "code",
      "metadata": {
        "id": "-fvgenmXwXjV",
        "colab": {
          "base_uri": "https://localhost:8080/"
        },
        "outputId": "d2c958e3-1811-423f-a562-b8924570d965"
      },
      "source": [
        "# Make batched predictions\n",
        "test_predictions = final_model.predict(tfds_test)\n",
        "print(test_predictions)"
      ],
      "execution_count": null,
      "outputs": [
        {
          "output_type": "stream",
          "name": "stdout",
          "text": [
            "[[7.5870533]\n",
            " [7.7414684]\n",
            " [7.6116037]\n",
            " ...\n",
            " [7.399528 ]\n",
            " [7.4658513]\n",
            " [7.398456 ]]\n"
          ]
        }
      ]
    },
    {
      "cell_type": "code",
      "metadata": {
        "id": "URcNcruf9r8w"
      },
      "source": [
        "df_kaggle_submission['target'] = test_predictions\n",
        "print(df_kaggle_submission.head())"
      ],
      "execution_count": null,
      "outputs": []
    },
    {
      "cell_type": "code",
      "metadata": {
        "id": "OWRZ-ue59uM5"
      },
      "source": [
        "submission_file = df_kaggle_submission.to_csv(header=True, index=False)\n",
        "filename = 'submission_' + datetime.now().strftime('%Y%m%d-%H%M') + '.csv'\n",
        "with open(filename, 'w') as f:\n",
        "    f.write(submission_file)\n",
        "    print('Completed writing output file: ' + filename)"
      ],
      "execution_count": null,
      "outputs": []
    },
    {
      "cell_type": "code",
      "metadata": {
        "id": "YB2v5Iq9wXjV"
      },
      "source": [
        "if NOTIFY_STATUS: status_notify(\"Task 5 - Finalize Model and Present Analysis completed! \"+datetime.now().strftime('%a %B %d, %Y %I:%M:%S %p'))"
      ],
      "execution_count": null,
      "outputs": []
    },
    {
      "cell_type": "code",
      "metadata": {
        "id": "piIVF1NIwXjW",
        "colab": {
          "base_uri": "https://localhost:8080/"
        },
        "outputId": "9e6cbcf1-064b-42fe-8a4b-2b1925731ae1"
      },
      "source": [
        "print ('Total time for the script:',(datetime.now() - start_time_script))"
      ],
      "execution_count": null,
      "outputs": [
        {
          "output_type": "stream",
          "name": "stdout",
          "text": [
            "Total time for the script: 2:14:26.181587\n",
            "Total time for the script: 2:14:26.181587\n"
          ]
        }
      ]
    }
  ]
}
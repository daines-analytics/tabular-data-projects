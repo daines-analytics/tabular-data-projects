{
 "cells": [
  {
   "cell_type": "markdown",
   "metadata": {},
   "source": [
    "# Binary-Class Model for KDD Cup 1998 Using Python and Scikit-Learn Take 2\n",
    "### David Lowe\n",
    "### April 5, 2022\n",
    "\n",
    "SUMMARY: The project aims to construct a predictive model using various machine learning algorithms and document the end-to-end steps using a template. The Acoustic Extinguisher Fire dataset is a binary-class modeling situation where we attempt to predict one of two possible outcomes.\n",
    "\n",
    "INTRODUCTION: This is the data set used for The Second International Knowledge Discovery and Data Mining Tools Competition, held in conjunction with KDD-98, The Fourth International Conference on Knowledge Discovery and Data Mining. The modeling task is a binary classification problem where the goal is to estimate the likelihood of donation from a direct mailing campaign.\n",
    "\n",
    "In the Take1 iteration, we built and tested models using the minimal set of basic features. This model will serve as the baseline result as we add more features in future iterations.\n",
    "\n",
    "In this iteration, we will build and test models with additional features from third-party data sources.\n",
    "\n",
    "ANALYSIS: In the Take1 iteration, the average performance of the machine learning algorithms achieved a ROC/AUC benchmark of 70.99% using the training dataset. Furthermore, we selected Bagging Classifier as the final model as it processed the training dataset with a final ROC/AUC score of 77.23%. When we processed the test dataset with the last model, the model achieved a ROC/AUC score of 50.42%.\n",
    "\n",
    "In this iteration, the average performance of the machine learning algorithms achieved a ROC/AUC benchmark of 71.92% using the training dataset. Furthermore, we selected Extra Trees as the final model as it processed the training dataset with a final ROC/AUC score of 79.79%. When we processed the test dataset with the last model, the model achieved a ROC/AUC score of 50.02%.\n",
    "\n",
    "CONCLUSION: In this iteration, the Extra Trees model appeared to be suitable for modeling this dataset. However, we should explore the possibilities of adding more features to model this problem.\n",
    "\n",
    "Dataset Used: KDD Cup 1998 Dataset\n",
    "\n",
    "Dataset ML Model: Binary classification with numerical and categorical features\n",
    "\n",
    "Dataset Reference: https://kdd.org/kdd-cup/view/kdd-cup-1998/Data"
   ]
  },
  {
   "cell_type": "markdown",
   "metadata": {},
   "source": [
    "## Task 1 - Prepare Environment"
   ]
  },
  {
   "cell_type": "code",
   "execution_count": 1,
   "metadata": {},
   "outputs": [
    {
     "name": "stdout",
     "output_type": "stream",
     "text": [
      "The number of available CPUs is: 8\n"
     ]
    }
   ],
   "source": [
    "# Retrieve the CPU information\n",
    "ncpu = !nproc\n",
    "print(\"The number of available CPUs is:\", ncpu[0])"
   ]
  },
  {
   "cell_type": "markdown",
   "metadata": {},
   "source": [
    "### 1.a) Load libraries and modules"
   ]
  },
  {
   "cell_type": "code",
   "execution_count": 2,
   "metadata": {},
   "outputs": [],
   "source": [
    "# Set the random seed number for reproducible results\n",
    "RNG_SEED = 888"
   ]
  },
  {
   "cell_type": "code",
   "execution_count": 3,
   "metadata": {},
   "outputs": [],
   "source": [
    "import numpy as np\n",
    "import pandas as pd\n",
    "import seaborn as sns\n",
    "import matplotlib.pyplot as plt\n",
    "import os\n",
    "import sys\n",
    "import math\n",
    "# import boto3\n",
    "from datetime import datetime\n",
    "from sklearn import preprocessing\n",
    "from sklearn.model_selection import train_test_split\n",
    "from sklearn.model_selection import StratifiedKFold\n",
    "from sklearn.model_selection import cross_val_score\n",
    "from sklearn.model_selection import GridSearchCV\n",
    "from sklearn.metrics import classification_report\n",
    "from sklearn.metrics import confusion_matrix\n",
    "from sklearn.metrics import accuracy_score\n",
    "from sklearn.metrics import roc_auc_score\n",
    "from sklearn.pipeline import Pipeline\n",
    "from sklearn import compose\n",
    "from sklearn import impute\n",
    "\n",
    "from sklearn.feature_selection import RFE\n",
    "from imblearn.pipeline import Pipeline\n",
    "from imblearn.over_sampling import SMOTE\n",
    "from imblearn.under_sampling import RandomUnderSampler\n",
    "\n",
    "from sklearn.linear_model import LogisticRegression\n",
    "from sklearn.tree import DecisionTreeClassifier\n",
    "from sklearn.neighbors import KNeighborsClassifier\n",
    "from sklearn.ensemble import BaggingClassifier\n",
    "from sklearn.ensemble import RandomForestClassifier\n",
    "from sklearn.ensemble import ExtraTreesClassifier"
   ]
  },
  {
   "cell_type": "markdown",
   "metadata": {},
   "source": [
    "### 1.b) Set up the controlling parameters and functions"
   ]
  },
  {
   "cell_type": "code",
   "execution_count": 4,
   "metadata": {},
   "outputs": [],
   "source": [
    "# Begin the timer for the script processing\n",
    "START_TIME_SCRIPT = datetime.now()\n",
    "\n",
    "# Set up the number of CPU cores available for multi-thread processing\n",
    "N_JOBS = 1\n",
    "\n",
    "# Set up the flag to stop sending progress emails (setting to True will send status emails!)\n",
    "NOTIFY_STATUS = False\n",
    "\n",
    "# Set the percentage sizes for splitting the dataset\n",
    "TEST_SET_RATIO = 0.15\n",
    "VAL_SET_RATIO = 0.15\n",
    "\n",
    "# Set the number of folds for cross validation\n",
    "N_FOLDS = 5\n",
    "\n",
    "# Set default modeling scoring metric\n",
    "SCORING_METRIC = 'roc_auc'\n",
    "\n",
    "# Define the directory locations and file names\n",
    "TRAIN_DATASET = 'cup98LRN.txt'\n",
    "TEST_DATASET = 'cup98VAL.txt'\n",
    "TARGET_DATASET = 'valtargt.txt'"
   ]
  },
  {
   "cell_type": "code",
   "execution_count": 5,
   "metadata": {},
   "outputs": [],
   "source": [
    "# Set up the email notification function\n",
    "def status_notify(msg_text):\n",
    "    access_key = os.environ.get('SNS_ACCESS_KEY')\n",
    "    secret_key = os.environ.get('SNS_SECRET_KEY')\n",
    "    aws_region = os.environ.get('SNS_AWS_REGION')\n",
    "    topic_arn = os.environ.get('SNS_TOPIC_ARN')\n",
    "    if (access_key is None) or (secret_key is None) or (aws_region is None):\n",
    "        sys.exit(\"Incomplete notification setup info. Script Processing Aborted!!!\")\n",
    "    sns = boto3.client('sns', aws_access_key_id=access_key, aws_secret_access_key=secret_key, region_name=aws_region)\n",
    "    response = sns.publish(TopicArn=topic_arn, Message=msg_text)\n",
    "    if response['ResponseMetadata']['HTTPStatusCode'] != 200 :\n",
    "        print('Status notification not OK with HTTP status code:', response['ResponseMetadata']['HTTPStatusCode'])"
   ]
  },
  {
   "cell_type": "code",
   "execution_count": 6,
   "metadata": {},
   "outputs": [],
   "source": [
    "if NOTIFY_STATUS: status_notify(\"Task 1 - Prepare Environment has begun! \" + datetime.now().strftime('%a %B %d, %Y %I:%M:%S %p'))"
   ]
  },
  {
   "cell_type": "markdown",
   "metadata": {},
   "source": [
    "### 1.c) Load dataset"
   ]
  },
  {
   "cell_type": "code",
   "execution_count": 7,
   "metadata": {},
   "outputs": [],
   "source": [
    "if not os.path.exists(TRAIN_DATASET):\n",
    "    !wget https://dainesanalytics.com/datasets/ucirvine-kdd-cup-1998/cup98LRN.txt"
   ]
  },
  {
   "cell_type": "code",
   "execution_count": 8,
   "metadata": {},
   "outputs": [
    {
     "name": "stderr",
     "output_type": "stream",
     "text": [
      "/usr/local/lib/python3.8/dist-packages/IPython/core/interactiveshell.py:3185: DtypeWarning: Columns (8) have mixed types.Specify dtype option on import or set low_memory=False.\n",
      "  has_raised = await self.run_ast_nodes(code_ast.body, cell_name,\n"
     ]
    },
    {
     "name": "stdout",
     "output_type": "stream",
     "text": [
      "   ODATEDW OSOURCE  TCODE STATE    ZIP MAILCODE PVASTATE   DOB NOEXCH  \\\n",
      "0     8901     GRI      0    IL  61081                    3712      0   \n",
      "1     9401     BOA      1    CA  91326                    5202      0   \n",
      "2     9001     AMH      1    NC  27017                       0      0   \n",
      "3     8701     BRY      0    CA  95953                    2801      0   \n",
      "4     8601              0    FL  33176                    2001      0   \n",
      "\n",
      "  RECINHSE  ... TARGET_D HPHONE_D RFA_2R RFA_2F RFA_2A MDMAUD_R  MDMAUD_F  \\\n",
      "0           ...      0.0        0      L      4      E        X         X   \n",
      "1           ...      0.0        0      L      2      G        X         X   \n",
      "2           ...      0.0        1      L      4      E        X         X   \n",
      "3           ...      0.0        1      L      4      E        X         X   \n",
      "4        X  ...      0.0        1      L      2      F        X         X   \n",
      "\n",
      "  MDMAUD_A CLUSTER2 GEOCODE2  \n",
      "0        X     39.0        C  \n",
      "1        X      1.0        A  \n",
      "2        X     60.0        C  \n",
      "3        X     41.0        C  \n",
      "4        X     26.0        A  \n",
      "\n",
      "[5 rows x 481 columns]\n"
     ]
    }
   ],
   "source": [
    "df_dataset_import = pd.read_csv(TRAIN_DATASET, sep=',', index_col=False)\n",
    "\n",
    "# Take a peek at the dataframe after import\n",
    "print(df_dataset_import.head())"
   ]
  },
  {
   "cell_type": "code",
   "execution_count": 9,
   "metadata": {},
   "outputs": [
    {
     "name": "stdout",
     "output_type": "stream",
     "text": [
      "<class 'pandas.core.frame.DataFrame'>\n",
      "RangeIndex: 95412 entries, 0 to 95411\n",
      "Data columns (total 481 columns):\n",
      " #    Column    Dtype  \n",
      "---   ------    -----  \n",
      " 0    ODATEDW   int64  \n",
      " 1    OSOURCE   object \n",
      " 2    TCODE     int64  \n",
      " 3    STATE     object \n",
      " 4    ZIP       object \n",
      " 5    MAILCODE  object \n",
      " 6    PVASTATE  object \n",
      " 7    DOB       int64  \n",
      " 8    NOEXCH    object \n",
      " 9    RECINHSE  object \n",
      " 10   RECP3     object \n",
      " 11   RECPGVG   object \n",
      " 12   RECSWEEP  object \n",
      " 13   MDMAUD    object \n",
      " 14   DOMAIN    object \n",
      " 15   CLUSTER   object \n",
      " 16   AGE       float64\n",
      " 17   AGEFLAG   object \n",
      " 18   HOMEOWNR  object \n",
      " 19   CHILD03   object \n",
      " 20   CHILD07   object \n",
      " 21   CHILD12   object \n",
      " 22   CHILD18   object \n",
      " 23   NUMCHLD   float64\n",
      " 24   INCOME    float64\n",
      " 25   GENDER    object \n",
      " 26   WEALTH1   float64\n",
      " 27   HIT       int64  \n",
      " 28   MBCRAFT   float64\n",
      " 29   MBGARDEN  float64\n",
      " 30   MBBOOKS   float64\n",
      " 31   MBCOLECT  float64\n",
      " 32   MAGFAML   float64\n",
      " 33   MAGFEM    float64\n",
      " 34   MAGMALE   float64\n",
      " 35   PUBGARDN  float64\n",
      " 36   PUBCULIN  float64\n",
      " 37   PUBHLTH   float64\n",
      " 38   PUBDOITY  float64\n",
      " 39   PUBNEWFN  float64\n",
      " 40   PUBPHOTO  float64\n",
      " 41   PUBOPP    float64\n",
      " 42   DATASRCE  object \n",
      " 43   MALEMILI  int64  \n",
      " 44   MALEVET   int64  \n",
      " 45   VIETVETS  int64  \n",
      " 46   WWIIVETS  int64  \n",
      " 47   LOCALGOV  int64  \n",
      " 48   STATEGOV  int64  \n",
      " 49   FEDGOV    int64  \n",
      " 50   SOLP3     object \n",
      " 51   SOLIH     object \n",
      " 52   MAJOR     object \n",
      " 53   WEALTH2   float64\n",
      " 54   GEOCODE   object \n",
      " 55   COLLECT1  object \n",
      " 56   VETERANS  object \n",
      " 57   BIBLE     object \n",
      " 58   CATLG     object \n",
      " 59   HOMEE     object \n",
      " 60   PETS      object \n",
      " 61   CDPLAY    object \n",
      " 62   STEREO    object \n",
      " 63   PCOWNERS  object \n",
      " 64   PHOTO     object \n",
      " 65   CRAFTS    object \n",
      " 66   FISHER    object \n",
      " 67   GARDENIN  object \n",
      " 68   BOATS     object \n",
      " 69   WALKER    object \n",
      " 70   KIDSTUFF  object \n",
      " 71   CARDS     object \n",
      " 72   PLATES    object \n",
      " 73   LIFESRC   object \n",
      " 74   PEPSTRFL  object \n",
      " 75   POP901    int64  \n",
      " 76   POP902    int64  \n",
      " 77   POP903    int64  \n",
      " 78   POP90C1   int64  \n",
      " 79   POP90C2   int64  \n",
      " 80   POP90C3   int64  \n",
      " 81   POP90C4   int64  \n",
      " 82   POP90C5   int64  \n",
      " 83   ETH1      int64  \n",
      " 84   ETH2      int64  \n",
      " 85   ETH3      int64  \n",
      " 86   ETH4      int64  \n",
      " 87   ETH5      int64  \n",
      " 88   ETH6      int64  \n",
      " 89   ETH7      int64  \n",
      " 90   ETH8      int64  \n",
      " 91   ETH9      int64  \n",
      " 92   ETH10     int64  \n",
      " 93   ETH11     int64  \n",
      " 94   ETH12     int64  \n",
      " 95   ETH13     int64  \n",
      " 96   ETH14     int64  \n",
      " 97   ETH15     int64  \n",
      " 98   ETH16     int64  \n",
      " 99   AGE901    int64  \n",
      " 100  AGE902    int64  \n",
      " 101  AGE903    int64  \n",
      " 102  AGE904    int64  \n",
      " 103  AGE905    int64  \n",
      " 104  AGE906    int64  \n",
      " 105  AGE907    int64  \n",
      " 106  CHIL1     int64  \n",
      " 107  CHIL2     int64  \n",
      " 108  CHIL3     int64  \n",
      " 109  AGEC1     int64  \n",
      " 110  AGEC2     int64  \n",
      " 111  AGEC3     int64  \n",
      " 112  AGEC4     int64  \n",
      " 113  AGEC5     int64  \n",
      " 114  AGEC6     int64  \n",
      " 115  AGEC7     int64  \n",
      " 116  CHILC1    int64  \n",
      " 117  CHILC2    int64  \n",
      " 118  CHILC3    int64  \n",
      " 119  CHILC4    int64  \n",
      " 120  CHILC5    int64  \n",
      " 121  HHAGE1    int64  \n",
      " 122  HHAGE2    int64  \n",
      " 123  HHAGE3    int64  \n",
      " 124  HHN1      int64  \n",
      " 125  HHN2      int64  \n",
      " 126  HHN3      int64  \n",
      " 127  HHN4      int64  \n",
      " 128  HHN5      int64  \n",
      " 129  HHN6      int64  \n",
      " 130  MARR1     int64  \n",
      " 131  MARR2     int64  \n",
      " 132  MARR3     int64  \n",
      " 133  MARR4     int64  \n",
      " 134  HHP1      int64  \n",
      " 135  HHP2      int64  \n",
      " 136  DW1       int64  \n",
      " 137  DW2       int64  \n",
      " 138  DW3       int64  \n",
      " 139  DW4       int64  \n",
      " 140  DW5       int64  \n",
      " 141  DW6       int64  \n",
      " 142  DW7       int64  \n",
      " 143  DW8       int64  \n",
      " 144  DW9       int64  \n",
      " 145  HV1       int64  \n",
      " 146  HV2       int64  \n",
      " 147  HV3       int64  \n",
      " 148  HV4       int64  \n",
      " 149  HU1       int64  \n",
      " 150  HU2       int64  \n",
      " 151  HU3       int64  \n",
      " 152  HU4       int64  \n",
      " 153  HU5       int64  \n",
      " 154  HHD1      int64  \n",
      " 155  HHD2      int64  \n",
      " 156  HHD3      int64  \n",
      " 157  HHD4      int64  \n",
      " 158  HHD5      int64  \n",
      " 159  HHD6      int64  \n",
      " 160  HHD7      int64  \n",
      " 161  HHD8      int64  \n",
      " 162  HHD9      int64  \n",
      " 163  HHD10     int64  \n",
      " 164  HHD11     int64  \n",
      " 165  HHD12     int64  \n",
      " 166  ETHC1     int64  \n",
      " 167  ETHC2     int64  \n",
      " 168  ETHC3     int64  \n",
      " 169  ETHC4     int64  \n",
      " 170  ETHC5     int64  \n",
      " 171  ETHC6     int64  \n",
      " 172  HVP1      int64  \n",
      " 173  HVP2      int64  \n",
      " 174  HVP3      int64  \n",
      " 175  HVP4      int64  \n",
      " 176  HVP5      int64  \n",
      " 177  HVP6      int64  \n",
      " 178  HUR1      int64  \n",
      " 179  HUR2      int64  \n",
      " 180  RHP1      int64  \n",
      " 181  RHP2      int64  \n",
      " 182  RHP3      int64  \n",
      " 183  RHP4      int64  \n",
      " 184  HUPA1     int64  \n",
      " 185  HUPA2     int64  \n",
      " 186  HUPA3     int64  \n",
      " 187  HUPA4     int64  \n",
      " 188  HUPA5     int64  \n",
      " 189  HUPA6     int64  \n",
      " 190  HUPA7     int64  \n",
      " 191  RP1       int64  \n",
      " 192  RP2       int64  \n",
      " 193  RP3       int64  \n",
      " 194  RP4       int64  \n",
      " 195  MSA       float64\n",
      " 196  ADI       float64\n",
      " 197  DMA       float64\n",
      " 198  IC1       int64  \n",
      " 199  IC2       int64  \n",
      " 200  IC3       int64  \n",
      " 201  IC4       int64  \n",
      " 202  IC5       int64  \n",
      " 203  IC6       int64  \n",
      " 204  IC7       int64  \n",
      " 205  IC8       int64  \n",
      " 206  IC9       int64  \n",
      " 207  IC10      int64  \n",
      " 208  IC11      int64  \n",
      " 209  IC12      int64  \n",
      " 210  IC13      int64  \n",
      " 211  IC14      int64  \n",
      " 212  IC15      int64  \n",
      " 213  IC16      int64  \n",
      " 214  IC17      int64  \n",
      " 215  IC18      int64  \n",
      " 216  IC19      int64  \n",
      " 217  IC20      int64  \n",
      " 218  IC21      int64  \n",
      " 219  IC22      int64  \n",
      " 220  IC23      int64  \n",
      " 221  HHAS1     int64  \n",
      " 222  HHAS2     int64  \n",
      " 223  HHAS3     int64  \n",
      " 224  HHAS4     int64  \n",
      " 225  MC1       int64  \n",
      " 226  MC2       int64  \n",
      " 227  MC3       int64  \n",
      " 228  TPE1      int64  \n",
      " 229  TPE2      int64  \n",
      " 230  TPE3      int64  \n",
      " 231  TPE4      int64  \n",
      " 232  TPE5      int64  \n",
      " 233  TPE6      int64  \n",
      " 234  TPE7      int64  \n",
      " 235  TPE8      int64  \n",
      " 236  TPE9      int64  \n",
      " 237  PEC1      int64  \n",
      " 238  PEC2      int64  \n",
      " 239  TPE10     int64  \n",
      " 240  TPE11     int64  \n",
      " 241  TPE12     int64  \n",
      " 242  TPE13     int64  \n",
      " 243  LFC1      int64  \n",
      " 244  LFC2      int64  \n",
      " 245  LFC3      int64  \n",
      " 246  LFC4      int64  \n",
      " 247  LFC5      int64  \n",
      " 248  LFC6      int64  \n",
      " 249  LFC7      int64  \n",
      " 250  LFC8      int64  \n",
      " 251  LFC9      int64  \n",
      " 252  LFC10     int64  \n",
      " 253  OCC1      int64  \n",
      " 254  OCC2      int64  \n",
      " 255  OCC3      int64  \n",
      " 256  OCC4      int64  \n",
      " 257  OCC5      int64  \n",
      " 258  OCC6      int64  \n",
      " 259  OCC7      int64  \n",
      " 260  OCC8      int64  \n",
      " 261  OCC9      int64  \n",
      " 262  OCC10     int64  \n",
      " 263  OCC11     int64  \n",
      " 264  OCC12     int64  \n",
      " 265  OCC13     int64  \n",
      " 266  EIC1      int64  \n",
      " 267  EIC2      int64  \n",
      " 268  EIC3      int64  \n",
      " 269  EIC4      int64  \n",
      " 270  EIC5      int64  \n",
      " 271  EIC6      int64  \n",
      " 272  EIC7      int64  \n",
      " 273  EIC8      int64  \n",
      " 274  EIC9      int64  \n",
      " 275  EIC10     int64  \n",
      " 276  EIC11     int64  \n",
      " 277  EIC12     int64  \n",
      " 278  EIC13     int64  \n",
      " 279  EIC14     int64  \n",
      " 280  EIC15     int64  \n",
      " 281  EIC16     int64  \n",
      " 282  OEDC1     int64  \n",
      " 283  OEDC2     int64  \n",
      " 284  OEDC3     int64  \n",
      " 285  OEDC4     int64  \n",
      " 286  OEDC5     int64  \n",
      " 287  OEDC6     int64  \n",
      " 288  OEDC7     int64  \n",
      " 289  EC1       int64  \n",
      " 290  EC2       int64  \n",
      " 291  EC3       int64  \n",
      " 292  EC4       int64  \n",
      " 293  EC5       int64  \n",
      " 294  EC6       int64  \n",
      " 295  EC7       int64  \n",
      " 296  EC8       int64  \n",
      " 297  SEC1      int64  \n",
      " 298  SEC2      int64  \n",
      " 299  SEC3      int64  \n",
      " 300  SEC4      int64  \n",
      " 301  SEC5      int64  \n",
      " 302  AFC1      int64  \n",
      " 303  AFC2      int64  \n",
      " 304  AFC3      int64  \n",
      " 305  AFC4      int64  \n",
      " 306  AFC5      int64  \n",
      " 307  AFC6      int64  \n",
      " 308  VC1       int64  \n",
      " 309  VC2       int64  \n",
      " 310  VC3       int64  \n",
      " 311  VC4       int64  \n",
      " 312  ANC1      int64  \n",
      " 313  ANC2      int64  \n",
      " 314  ANC3      int64  \n",
      " 315  ANC4      int64  \n",
      " 316  ANC5      int64  \n",
      " 317  ANC6      int64  \n",
      " 318  ANC7      int64  \n",
      " 319  ANC8      int64  \n",
      " 320  ANC9      int64  \n",
      " 321  ANC10     int64  \n",
      " 322  ANC11     int64  \n",
      " 323  ANC12     int64  \n",
      " 324  ANC13     int64  \n",
      " 325  ANC14     int64  \n",
      " 326  ANC15     int64  \n",
      " 327  POBC1     int64  \n",
      " 328  POBC2     int64  \n",
      " 329  LSC1      int64  \n",
      " 330  LSC2      int64  \n",
      " 331  LSC3      int64  \n",
      " 332  LSC4      int64  \n",
      " 333  VOC1      int64  \n",
      " 334  VOC2      int64  \n",
      " 335  VOC3      int64  \n",
      " 336  HC1       int64  \n",
      " 337  HC2       int64  \n",
      " 338  HC3       int64  \n",
      " 339  HC4       int64  \n",
      " 340  HC5       int64  \n",
      " 341  HC6       int64  \n",
      " 342  HC7       int64  \n",
      " 343  HC8       int64  \n",
      " 344  HC9       int64  \n",
      " 345  HC10      int64  \n",
      " 346  HC11      int64  \n",
      " 347  HC12      int64  \n",
      " 348  HC13      int64  \n",
      " 349  HC14      int64  \n",
      " 350  HC15      int64  \n",
      " 351  HC16      int64  \n",
      " 352  HC17      int64  \n",
      " 353  HC18      int64  \n",
      " 354  HC19      int64  \n",
      " 355  HC20      int64  \n",
      " 356  HC21      int64  \n",
      " 357  MHUC1     int64  \n",
      " 358  MHUC2     int64  \n",
      " 359  AC1       int64  \n",
      " 360  AC2       int64  \n",
      " 361  ADATE_2   int64  \n",
      " 362  ADATE_3   float64\n",
      " 363  ADATE_4   float64\n",
      " 364  ADATE_5   float64\n",
      " 365  ADATE_6   float64\n",
      " 366  ADATE_7   float64\n",
      " 367  ADATE_8   float64\n",
      " 368  ADATE_9   float64\n",
      " 369  ADATE_10  float64\n",
      " 370  ADATE_11  float64\n",
      " 371  ADATE_12  float64\n",
      " 372  ADATE_13  float64\n",
      " 373  ADATE_14  float64\n",
      " 374  ADATE_15  float64\n",
      " 375  ADATE_16  float64\n",
      " 376  ADATE_17  float64\n",
      " 377  ADATE_18  float64\n",
      " 378  ADATE_19  float64\n",
      " 379  ADATE_20  float64\n",
      " 380  ADATE_21  float64\n",
      " 381  ADATE_22  float64\n",
      " 382  ADATE_23  float64\n",
      " 383  ADATE_24  float64\n",
      " 384  RFA_2     object \n",
      " 385  RFA_3     object \n",
      " 386  RFA_4     object \n",
      " 387  RFA_5     object \n",
      " 388  RFA_6     object \n",
      " 389  RFA_7     object \n",
      " 390  RFA_8     object \n",
      " 391  RFA_9     object \n",
      " 392  RFA_10    object \n",
      " 393  RFA_11    object \n",
      " 394  RFA_12    object \n",
      " 395  RFA_13    object \n",
      " 396  RFA_14    object \n",
      " 397  RFA_15    object \n",
      " 398  RFA_16    object \n",
      " 399  RFA_17    object \n",
      " 400  RFA_18    object \n",
      " 401  RFA_19    object \n",
      " 402  RFA_20    object \n",
      " 403  RFA_21    object \n",
      " 404  RFA_22    object \n",
      " 405  RFA_23    object \n",
      " 406  RFA_24    object \n",
      " 407  CARDPROM  int64  \n",
      " 408  MAXADATE  int64  \n",
      " 409  NUMPROM   int64  \n",
      " 410  CARDPM12  int64  \n",
      " 411  NUMPRM12  int64  \n",
      " 412  RDATE_3   float64\n",
      " 413  RDATE_4   float64\n",
      " 414  RDATE_5   float64\n",
      " 415  RDATE_6   float64\n",
      " 416  RDATE_7   float64\n",
      " 417  RDATE_8   float64\n",
      " 418  RDATE_9   float64\n",
      " 419  RDATE_10  float64\n",
      " 420  RDATE_11  float64\n",
      " 421  RDATE_12  float64\n",
      " 422  RDATE_13  float64\n",
      " 423  RDATE_14  float64\n",
      " 424  RDATE_15  float64\n",
      " 425  RDATE_16  float64\n",
      " 426  RDATE_17  float64\n",
      " 427  RDATE_18  float64\n",
      " 428  RDATE_19  float64\n",
      " 429  RDATE_20  float64\n",
      " 430  RDATE_21  float64\n",
      " 431  RDATE_22  float64\n",
      " 432  RDATE_23  float64\n",
      " 433  RDATE_24  float64\n",
      " 434  RAMNT_3   float64\n",
      " 435  RAMNT_4   float64\n",
      " 436  RAMNT_5   float64\n",
      " 437  RAMNT_6   float64\n",
      " 438  RAMNT_7   float64\n",
      " 439  RAMNT_8   float64\n",
      " 440  RAMNT_9   float64\n",
      " 441  RAMNT_10  float64\n",
      " 442  RAMNT_11  float64\n",
      " 443  RAMNT_12  float64\n",
      " 444  RAMNT_13  float64\n",
      " 445  RAMNT_14  float64\n",
      " 446  RAMNT_15  float64\n",
      " 447  RAMNT_16  float64\n",
      " 448  RAMNT_17  float64\n",
      " 449  RAMNT_18  float64\n",
      " 450  RAMNT_19  float64\n",
      " 451  RAMNT_20  float64\n",
      " 452  RAMNT_21  float64\n",
      " 453  RAMNT_22  float64\n",
      " 454  RAMNT_23  float64\n",
      " 455  RAMNT_24  float64\n",
      " 456  RAMNTALL  float64\n",
      " 457  NGIFTALL  int64  \n",
      " 458  CARDGIFT  int64  \n",
      " 459  MINRAMNT  float64\n",
      " 460  MINRDATE  int64  \n",
      " 461  MAXRAMNT  float64\n",
      " 462  MAXRDATE  int64  \n",
      " 463  LASTGIFT  float64\n",
      " 464  LASTDATE  int64  \n",
      " 465  FISTDATE  int64  \n",
      " 466  NEXTDATE  float64\n",
      " 467  TIMELAG   float64\n",
      " 468  AVGGIFT   float64\n",
      " 469  CONTROLN  int64  \n",
      " 470  TARGET_B  int64  \n",
      " 471  TARGET_D  float64\n",
      " 472  HPHONE_D  int64  \n",
      " 473  RFA_2R    object \n",
      " 474  RFA_2F    int64  \n",
      " 475  RFA_2A    object \n",
      " 476  MDMAUD_R  object \n",
      " 477  MDMAUD_F  object \n",
      " 478  MDMAUD_A  object \n",
      " 479  CLUSTER2  float64\n",
      " 480  GEOCODE2  object \n",
      "dtypes: float64(97), int64(310), object(74)\n",
      "memory usage: 350.1+ MB\n"
     ]
    }
   ],
   "source": [
    "df_dataset_import.info(verbose=True)"
   ]
  },
  {
   "cell_type": "code",
   "execution_count": 10,
   "metadata": {},
   "outputs": [
    {
     "name": "stdout",
     "output_type": "stream",
     "text": [
      "            ODATEDW         TCODE           DOB           AGE       NUMCHLD  \\\n",
      "count  95412.000000  95412.000000  95412.000000  71747.000000  12386.000000   \n",
      "mean    9141.363256     54.223117   2723.602933     61.611649      1.527773   \n",
      "std      343.454752    953.844476   2132.241295     16.664199      0.806861   \n",
      "min     8306.000000      0.000000      0.000000      1.000000      1.000000   \n",
      "25%     8801.000000      0.000000    201.000000     48.000000      1.000000   \n",
      "50%     9201.000000      1.000000   2610.000000     62.000000      1.000000   \n",
      "75%     9501.000000      2.000000   4601.000000     75.000000      2.000000   \n",
      "max     9701.000000  72002.000000   9710.000000     98.000000      7.000000   \n",
      "\n",
      "             INCOME       WEALTH1           HIT       MBCRAFT      MBGARDEN  \\\n",
      "count  74126.000000  50680.000000  95412.000000  42558.000000  42558.000000   \n",
      "mean       3.886248      5.345699      3.321438      0.152075      0.059166   \n",
      "std        1.854960      2.742490      9.306899      0.470023      0.262078   \n",
      "min        1.000000      0.000000      0.000000      0.000000      0.000000   \n",
      "25%        2.000000      3.000000      0.000000      0.000000      0.000000   \n",
      "50%        4.000000      6.000000      0.000000      0.000000      0.000000   \n",
      "75%        5.000000      8.000000      3.000000      0.000000      0.000000   \n",
      "max        7.000000      9.000000    241.000000      6.000000      4.000000   \n",
      "\n",
      "       ...      FISTDATE      NEXTDATE       TIMELAG       AVGGIFT  \\\n",
      "count  ...  95412.000000  85439.000000  85439.000000  95412.000000   \n",
      "mean   ...   9135.651648   9151.022917      8.093739     13.347786   \n",
      "std    ...    320.394019    294.257260      8.213242     10.769997   \n",
      "min    ...      0.000000   7211.000000      0.000000      1.285714   \n",
      "25%    ...   8810.000000   8903.000000      4.000000      8.384615   \n",
      "50%    ...   9201.000000   9204.000000      6.000000     11.636364   \n",
      "75%    ...   9409.000000   9409.000000     11.000000     15.477955   \n",
      "max    ...   9603.000000   9702.000000   1088.000000   1000.000000   \n",
      "\n",
      "            CONTROLN      TARGET_B      TARGET_D      HPHONE_D        RFA_2F  \\\n",
      "count   95412.000000  95412.000000  95412.000000  95412.000000  95412.000000   \n",
      "mean    95778.176959      0.050759      0.793073      0.500618      1.910053   \n",
      "std     55284.596094      0.219506      4.429725      0.500002      1.072749   \n",
      "min         1.000000      0.000000      0.000000      0.000000      1.000000   \n",
      "25%     47910.750000      0.000000      0.000000      0.000000      1.000000   \n",
      "50%     95681.500000      0.000000      0.000000      1.000000      2.000000   \n",
      "75%    143643.500000      0.000000      0.000000      1.000000      3.000000   \n",
      "max    191779.000000      1.000000    200.000000      1.000000      4.000000   \n",
      "\n",
      "           CLUSTER2  \n",
      "count  95280.000000  \n",
      "mean      31.533711  \n",
      "std       18.764614  \n",
      "min        1.000000  \n",
      "25%       15.000000  \n",
      "50%       32.000000  \n",
      "75%       49.000000  \n",
      "max       62.000000  \n",
      "\n",
      "[8 rows x 407 columns]\n"
     ]
    }
   ],
   "source": [
    "print(df_dataset_import.describe())"
   ]
  },
  {
   "cell_type": "code",
   "execution_count": 11,
   "metadata": {},
   "outputs": [
    {
     "name": "stdout",
     "output_type": "stream",
     "text": [
      "ODATEDW       0\n",
      "OSOURCE       0\n",
      "TCODE         0\n",
      "STATE         0\n",
      "ZIP           0\n",
      "           ... \n",
      "MDMAUD_R      0\n",
      "MDMAUD_F      0\n",
      "MDMAUD_A      0\n",
      "CLUSTER2    132\n",
      "GEOCODE2    132\n",
      "Length: 481, dtype: int64\n",
      "Total number of NaN in the dataframe:  5158796\n"
     ]
    }
   ],
   "source": [
    "print(df_dataset_import.isnull().sum())\n",
    "print('Total number of NaN in the dataframe: ', df_dataset_import.isnull().sum().sum())"
   ]
  },
  {
   "cell_type": "code",
   "execution_count": 12,
   "metadata": {},
   "outputs": [
    {
     "name": "stdout",
     "output_type": "stream",
     "text": [
      "TARGET_B\n",
      "0    90569\n",
      "1     4843\n",
      "dtype: int64\n"
     ]
    }
   ],
   "source": [
    "# Get grouping size for the target variable\n",
    "print(df_dataset_import.groupby('TARGET_B').size())"
   ]
  },
  {
   "cell_type": "markdown",
   "metadata": {},
   "source": [
    "### 1.d) Data Cleaning"
   ]
  },
  {
   "cell_type": "code",
   "execution_count": 13,
   "metadata": {},
   "outputs": [],
   "source": [
    "# Setting up various helper functions for data cleaning\n",
    "\n",
    "# Drop all columns between (and including) two column names\n",
    "def drop_columns(df, begin_string='', end_string=''):\n",
    "    col_names = list(df.columns)\n",
    "    begin_index = col_names.index(begin_string)\n",
    "    end_index = col_names.index(end_string) + 1\n",
    "    drop_cols = col_names[begin_index:end_index]\n",
    "    print('Dropping colunms:', drop_cols)\n",
    "    df.drop(columns=drop_cols, inplace=True)\n",
    "\n",
    "# Convert categorical features with blanks to value U for Unknown\n",
    "def reclass_Blank_U(target_col):\n",
    "    if target_col == ' ': return 'U'\n",
    "    else: return target_col\n",
    "\n",
    "# Convert numeric features with blanks to value 99\n",
    "def reclass_Blank_99(target_col):\n",
    "    if target_col == ' ': return '99'\n",
    "    else: return target_col\n",
    "\n",
    "# Convert features with two levels (X and blank) into integers of 1 or 0\n",
    "def reclass_X_blank(target_col):\n",
    "    if target_col == 'X': return 1\n",
    "    else: return 0\n",
    "\n",
    "def fill_X_Blank_cols(df, begin_string='', end_string=''):\n",
    "    col_names = list(df.columns)\n",
    "    begin_index = col_names.index(begin_string)\n",
    "    end_index = col_names.index(end_string) + 1\n",
    "    X_blank_cols = col_names[begin_index:end_index]\n",
    "    print('Filling X/Blank colunms with values:', X_blank_cols)\n",
    "    for col in X_blank_cols:\n",
    "        df[col] = df[col].apply(reclass_X_blank)\n",
    "\n",
    "# Convert features with two levels (Y and N) into integers of 1 or 0\n",
    "def reclass_Y_blank(target_col):\n",
    "    if target_col == 'Y': return 1\n",
    "    else: return 0\n",
    "\n",
    "def fill_Y_Blank_cols(df, begin_string='', end_string=''):\n",
    "    col_names = list(df.columns)\n",
    "    begin_index = col_names.index(begin_string)\n",
    "    end_index = col_names.index(end_string) + 1\n",
    "    Y_blank_cols = col_names[begin_index:end_index]\n",
    "    print('Filling Y/N colunms with values:', Y_blank_cols)\n",
    "    for col in Y_blank_cols:\n",
    "        df[col] = df[col].apply(reclass_Y_blank)\n",
    "\n",
    "# Convert the Domain feature into two separate Urbanicity and SES features\n",
    "def convert_domain_urb(target_col):\n",
    "    if len(target_col) == 2:\n",
    "        return target_col[0]\n",
    "    else:\n",
    "        return 'X'\n",
    "\n",
    "def convert_domain_ses(target_col):\n",
    "    if len(target_col) == 2:\n",
    "        return target_col[1]\n",
    "    else:\n",
    "        return 'X'\n",
    "\n",
    "def fill_integer_cols(df, begin_string='', end_string=''):\n",
    "    col_names = list(df.columns)\n",
    "    begin_index = col_names.index(begin_string)\n",
    "    end_index = col_names.index(end_string) + 1\n",
    "    integer_cols = col_names[begin_index:end_index]\n",
    "    print('Filling integer colunms with zeros:', integer_cols)\n",
    "    for col in integer_cols:\n",
    "        df[col].fillna(value=0, inplace=True)\n",
    "        df[col] = df[col].astype('int')"
   ]
  },
  {
   "cell_type": "code",
   "execution_count": 14,
   "metadata": {},
   "outputs": [],
   "source": [
    "# Helper function for cleaning the training and test dataset and ensure consistency\n",
    "def clean_dataset(df):\n",
    "    # Clean up the basic donor features\n",
    "    df['PVASTATE'] = df['PVASTATE'].apply(reclass_Blank_U)\n",
    "    fill_X_Blank_cols(df, 'RECINHSE', 'RECSWEEP')\n",
    "    df['DOMAIN_URB'] = df['DOMAIN'].apply(convert_domain_urb)\n",
    "    df['DOMAIN_SES'] = df['DOMAIN'].apply(convert_domain_ses)\n",
    "    df['AGE'].fillna(value=df['AGE'].median(), inplace=True)\n",
    "    df['AGE'] = df['AGE'].astype('int')\n",
    "    df['HOMEOWNR'] = df['HOMEOWNR'].apply(reclass_Blank_U)\n",
    "    df['CHILD03'] = df['CHILD03'].apply(reclass_Blank_U)\n",
    "    df['CHILD07'] = df['CHILD07'].apply(reclass_Blank_U)\n",
    "    df['CHILD12'] = df['CHILD12'].apply(reclass_Blank_U)\n",
    "    df['CHILD18'] = df['CHILD18'].apply(reclass_Blank_U)\n",
    "    df['NUMCHLD'].fillna(value=0, inplace=True)\n",
    "    df['NUMCHLD'] = df['NUMCHLD'].astype('int')\n",
    "    df['INCOME'].fillna(value=df['INCOME'].median(), inplace=True)\n",
    "    df['INCOME'] = df['INCOME'].astype('int')\n",
    "    df['GENDER'] = df['GENDER'].apply(reclass_Blank_U)\n",
    "    df['WEALTH1'].fillna(value=df['WEALTH1'].median(), inplace=True)\n",
    "    df['WEALTH1'] = df['WEALTH1'].astype('int')\n",
    "    df.drop(columns=['ODATEDW','OSOURCE','TCODE','STATE','ZIP',\n",
    "                     'MAILCODE','DOB','NOEXCH','MDMAUD','DOMAIN',\n",
    "                     'CLUSTER','AGEFLAG'], inplace=True)\n",
    "\n",
    "    # CLean up the Mail Order Offers features\n",
    "    # drop_columns(df, 'MBCRAFT', 'PUBOPP')\n",
    "    fill_integer_cols(df, 'MBCRAFT', 'PUBOPP')\n",
    "\n",
    "    # Clean up the 3rd Party Overlay features\n",
    "    # drop_columns(df, 'DATASRCE', 'GEOCODE')\n",
    "    df['SOLP3'] = df['SOLP3'].apply(reclass_Blank_99)\n",
    "    df['SOLP3'] = df['SOLP3'].astype('int')\n",
    "    df['SOLIH'] = df['SOLIH'].apply(reclass_Blank_99)\n",
    "    df['SOLIH'] = df['SOLIH'].astype('int')\n",
    "    df['MAJOR'] = df['MAJOR'].apply(reclass_X_blank)\n",
    "    df['WEALTH2'].fillna(value=df['WEALTH2'].median(), inplace=True)\n",
    "    df['WEALTH2'] = df['WEALTH2'].astype('int')\n",
    "    df.drop(columns=['DATASRCE','GEOCODE'], inplace=True)\n",
    "\n",
    "    # Clean up the 3rd Party Donor Interest features\n",
    "    # drop_columns(df, 'COLLECT1', 'LIFESRC')\n",
    "    fill_Y_Blank_cols(df, 'COLLECT1', 'PLATES')\n",
    "    df.drop(columns=['LIFESRC'], inplace=True)\n",
    "\n",
    "    # Clean up the PEP Star RFA Status feature\n",
    "    df['PEPSTRFL'] = df['PEPSTRFL'].apply(reclass_X_blank)\n",
    "\n",
    "    # Clean up the 1990 US Census Neighborhood Data features\n",
    "    drop_columns(df, 'POP901', 'AC2')\n",
    "\n",
    "    # Clean up the Promotion History and Summary features\n",
    "    drop_columns(df, 'ADATE_2', 'RFA_24')\n",
    "    drop_columns(df, 'CARDPROM', 'NUMPRM12')\n",
    "\n",
    "    # Clean up the Giving History and Summary features\n",
    "    drop_columns(df, 'RDATE_3', 'RAMNT_24')\n",
    "    drop_columns(df, 'RAMNTALL', 'AVGGIFT')\n",
    "\n",
    "    # Drop the Unique Control Numbers and other miscellaneous variables\n",
    "    df.drop(columns=['CONTROLN','RFA_2R','CLUSTER2','GEOCODE2'], inplace=True)"
   ]
  },
  {
   "cell_type": "code",
   "execution_count": 15,
   "metadata": {},
   "outputs": [
    {
     "name": "stdout",
     "output_type": "stream",
     "text": [
      "Filling X/Blank colunms with values: ['RECINHSE', 'RECP3', 'RECPGVG', 'RECSWEEP']\n",
      "Filling integer colunms with zeros: ['MBCRAFT', 'MBGARDEN', 'MBBOOKS', 'MBCOLECT', 'MAGFAML', 'MAGFEM', 'MAGMALE', 'PUBGARDN', 'PUBCULIN', 'PUBHLTH', 'PUBDOITY', 'PUBNEWFN', 'PUBPHOTO', 'PUBOPP']\n",
      "Filling Y/N colunms with values: ['COLLECT1', 'VETERANS', 'BIBLE', 'CATLG', 'HOMEE', 'PETS', 'CDPLAY', 'STEREO', 'PCOWNERS', 'PHOTO', 'CRAFTS', 'FISHER', 'GARDENIN', 'BOATS', 'WALKER', 'KIDSTUFF', 'CARDS', 'PLATES']\n",
      "Dropping colunms: ['POP901', 'POP902', 'POP903', 'POP90C1', 'POP90C2', 'POP90C3', 'POP90C4', 'POP90C5', 'ETH1', 'ETH2', 'ETH3', 'ETH4', 'ETH5', 'ETH6', 'ETH7', 'ETH8', 'ETH9', 'ETH10', 'ETH11', 'ETH12', 'ETH13', 'ETH14', 'ETH15', 'ETH16', 'AGE901', 'AGE902', 'AGE903', 'AGE904', 'AGE905', 'AGE906', 'AGE907', 'CHIL1', 'CHIL2', 'CHIL3', 'AGEC1', 'AGEC2', 'AGEC3', 'AGEC4', 'AGEC5', 'AGEC6', 'AGEC7', 'CHILC1', 'CHILC2', 'CHILC3', 'CHILC4', 'CHILC5', 'HHAGE1', 'HHAGE2', 'HHAGE3', 'HHN1', 'HHN2', 'HHN3', 'HHN4', 'HHN5', 'HHN6', 'MARR1', 'MARR2', 'MARR3', 'MARR4', 'HHP1', 'HHP2', 'DW1', 'DW2', 'DW3', 'DW4', 'DW5', 'DW6', 'DW7', 'DW8', 'DW9', 'HV1', 'HV2', 'HV3', 'HV4', 'HU1', 'HU2', 'HU3', 'HU4', 'HU5', 'HHD1', 'HHD2', 'HHD3', 'HHD4', 'HHD5', 'HHD6', 'HHD7', 'HHD8', 'HHD9', 'HHD10', 'HHD11', 'HHD12', 'ETHC1', 'ETHC2', 'ETHC3', 'ETHC4', 'ETHC5', 'ETHC6', 'HVP1', 'HVP2', 'HVP3', 'HVP4', 'HVP5', 'HVP6', 'HUR1', 'HUR2', 'RHP1', 'RHP2', 'RHP3', 'RHP4', 'HUPA1', 'HUPA2', 'HUPA3', 'HUPA4', 'HUPA5', 'HUPA6', 'HUPA7', 'RP1', 'RP2', 'RP3', 'RP4', 'MSA', 'ADI', 'DMA', 'IC1', 'IC2', 'IC3', 'IC4', 'IC5', 'IC6', 'IC7', 'IC8', 'IC9', 'IC10', 'IC11', 'IC12', 'IC13', 'IC14', 'IC15', 'IC16', 'IC17', 'IC18', 'IC19', 'IC20', 'IC21', 'IC22', 'IC23', 'HHAS1', 'HHAS2', 'HHAS3', 'HHAS4', 'MC1', 'MC2', 'MC3', 'TPE1', 'TPE2', 'TPE3', 'TPE4', 'TPE5', 'TPE6', 'TPE7', 'TPE8', 'TPE9', 'PEC1', 'PEC2', 'TPE10', 'TPE11', 'TPE12', 'TPE13', 'LFC1', 'LFC2', 'LFC3', 'LFC4', 'LFC5', 'LFC6', 'LFC7', 'LFC8', 'LFC9', 'LFC10', 'OCC1', 'OCC2', 'OCC3', 'OCC4', 'OCC5', 'OCC6', 'OCC7', 'OCC8', 'OCC9', 'OCC10', 'OCC11', 'OCC12', 'OCC13', 'EIC1', 'EIC2', 'EIC3', 'EIC4', 'EIC5', 'EIC6', 'EIC7', 'EIC8', 'EIC9', 'EIC10', 'EIC11', 'EIC12', 'EIC13', 'EIC14', 'EIC15', 'EIC16', 'OEDC1', 'OEDC2', 'OEDC3', 'OEDC4', 'OEDC5', 'OEDC6', 'OEDC7', 'EC1', 'EC2', 'EC3', 'EC4', 'EC5', 'EC6', 'EC7', 'EC8', 'SEC1', 'SEC2', 'SEC3', 'SEC4', 'SEC5', 'AFC1', 'AFC2', 'AFC3', 'AFC4', 'AFC5', 'AFC6', 'VC1', 'VC2', 'VC3', 'VC4', 'ANC1', 'ANC2', 'ANC3', 'ANC4', 'ANC5', 'ANC6', 'ANC7', 'ANC8', 'ANC9', 'ANC10', 'ANC11', 'ANC12', 'ANC13', 'ANC14', 'ANC15', 'POBC1', 'POBC2', 'LSC1', 'LSC2', 'LSC3', 'LSC4', 'VOC1', 'VOC2', 'VOC3', 'HC1', 'HC2', 'HC3', 'HC4', 'HC5', 'HC6', 'HC7', 'HC8', 'HC9', 'HC10', 'HC11', 'HC12', 'HC13', 'HC14', 'HC15', 'HC16', 'HC17', 'HC18', 'HC19', 'HC20', 'HC21', 'MHUC1', 'MHUC2', 'AC1', 'AC2']\n",
      "Dropping colunms: ['ADATE_2', 'ADATE_3', 'ADATE_4', 'ADATE_5', 'ADATE_6', 'ADATE_7', 'ADATE_8', 'ADATE_9', 'ADATE_10', 'ADATE_11', 'ADATE_12', 'ADATE_13', 'ADATE_14', 'ADATE_15', 'ADATE_16', 'ADATE_17', 'ADATE_18', 'ADATE_19', 'ADATE_20', 'ADATE_21', 'ADATE_22', 'ADATE_23', 'ADATE_24', 'RFA_2', 'RFA_3', 'RFA_4', 'RFA_5', 'RFA_6', 'RFA_7', 'RFA_8', 'RFA_9', 'RFA_10', 'RFA_11', 'RFA_12', 'RFA_13', 'RFA_14', 'RFA_15', 'RFA_16', 'RFA_17', 'RFA_18', 'RFA_19', 'RFA_20', 'RFA_21', 'RFA_22', 'RFA_23', 'RFA_24']\n",
      "Dropping colunms: ['CARDPROM', 'MAXADATE', 'NUMPROM', 'CARDPM12', 'NUMPRM12']\n",
      "Dropping colunms: ['RDATE_3', 'RDATE_4', 'RDATE_5', 'RDATE_6', 'RDATE_7', 'RDATE_8', 'RDATE_9', 'RDATE_10', 'RDATE_11', 'RDATE_12', 'RDATE_13', 'RDATE_14', 'RDATE_15', 'RDATE_16', 'RDATE_17', 'RDATE_18', 'RDATE_19', 'RDATE_20', 'RDATE_21', 'RDATE_22', 'RDATE_23', 'RDATE_24', 'RAMNT_3', 'RAMNT_4', 'RAMNT_5', 'RAMNT_6', 'RAMNT_7', 'RAMNT_8', 'RAMNT_9', 'RAMNT_10', 'RAMNT_11', 'RAMNT_12', 'RAMNT_13', 'RAMNT_14', 'RAMNT_15', 'RAMNT_16', 'RAMNT_17', 'RAMNT_18', 'RAMNT_19', 'RAMNT_20', 'RAMNT_21', 'RAMNT_22', 'RAMNT_23', 'RAMNT_24']\n",
      "Dropping colunms: ['RAMNTALL', 'NGIFTALL', 'CARDGIFT', 'MINRAMNT', 'MINRDATE', 'MAXRAMNT', 'MAXRDATE', 'LASTGIFT', 'LASTDATE', 'FISTDATE', 'NEXTDATE', 'TIMELAG', 'AVGGIFT']\n"
     ]
    }
   ],
   "source": [
    "# Clean up the training dataset\n",
    "clean_dataset(df_dataset_import)\n",
    "\n",
    "# Standardize the class column to the name of targetVar if required\n",
    "df_dataset_import.drop(columns=['TARGET_D'], inplace=True)\n",
    "df_dataset_import = df_dataset_import.rename(columns={'TARGET_B': 'target'})"
   ]
  },
  {
   "cell_type": "code",
   "execution_count": 16,
   "metadata": {},
   "outputs": [
    {
     "name": "stdout",
     "output_type": "stream",
     "text": [
      "  PVASTATE  RECINHSE  RECP3  RECPGVG  RECSWEEP  AGE HOMEOWNR CHILD03 CHILD07  \\\n",
      "0        U         0      0        0         0   60        U       U       U   \n",
      "1        U         0      0        0         0   46        H       U       U   \n",
      "2        U         0      0        0         0   62        U       U       U   \n",
      "3        U         0      0        0         0   70        U       U       U   \n",
      "4        U         1      1        0         0   78        H       U       U   \n",
      "\n",
      "  CHILD12  ... PEPSTRFL  target  HPHONE_D RFA_2F  RFA_2A  MDMAUD_R  MDMAUD_F  \\\n",
      "0       U  ...        1       0         0      4       E         X         X   \n",
      "1       U  ...        0       0         0      2       G         X         X   \n",
      "2       U  ...        1       0         1      4       E         X         X   \n",
      "3       U  ...        1       0         1      4       E         X         X   \n",
      "4       U  ...        0       0         1      2       F         X         X   \n",
      "\n",
      "   MDMAUD_A  DOMAIN_URB  DOMAIN_SES  \n",
      "0         X           T           2  \n",
      "1         X           S           1  \n",
      "2         X           R           2  \n",
      "3         X           R           2  \n",
      "4         X           S           2  \n",
      "\n",
      "[5 rows x 69 columns]\n"
     ]
    }
   ],
   "source": [
    "# Take a peek at the dataframe after cleaning\n",
    "print(df_dataset_import.head())"
   ]
  },
  {
   "cell_type": "code",
   "execution_count": 17,
   "metadata": {},
   "outputs": [
    {
     "name": "stdout",
     "output_type": "stream",
     "text": [
      "<class 'pandas.core.frame.DataFrame'>\n",
      "RangeIndex: 95412 entries, 0 to 95411\n",
      "Data columns (total 69 columns):\n",
      " #   Column      Non-Null Count  Dtype \n",
      "---  ------      --------------  ----- \n",
      " 0   PVASTATE    95412 non-null  object\n",
      " 1   RECINHSE    95412 non-null  int64 \n",
      " 2   RECP3       95412 non-null  int64 \n",
      " 3   RECPGVG     95412 non-null  int64 \n",
      " 4   RECSWEEP    95412 non-null  int64 \n",
      " 5   AGE         95412 non-null  int64 \n",
      " 6   HOMEOWNR    95412 non-null  object\n",
      " 7   CHILD03     95412 non-null  object\n",
      " 8   CHILD07     95412 non-null  object\n",
      " 9   CHILD12     95412 non-null  object\n",
      " 10  CHILD18     95412 non-null  object\n",
      " 11  NUMCHLD     95412 non-null  int64 \n",
      " 12  INCOME      95412 non-null  int64 \n",
      " 13  GENDER      95412 non-null  object\n",
      " 14  WEALTH1     95412 non-null  int64 \n",
      " 15  HIT         95412 non-null  int64 \n",
      " 16  MBCRAFT     95412 non-null  int64 \n",
      " 17  MBGARDEN    95412 non-null  int64 \n",
      " 18  MBBOOKS     95412 non-null  int64 \n",
      " 19  MBCOLECT    95412 non-null  int64 \n",
      " 20  MAGFAML     95412 non-null  int64 \n",
      " 21  MAGFEM      95412 non-null  int64 \n",
      " 22  MAGMALE     95412 non-null  int64 \n",
      " 23  PUBGARDN    95412 non-null  int64 \n",
      " 24  PUBCULIN    95412 non-null  int64 \n",
      " 25  PUBHLTH     95412 non-null  int64 \n",
      " 26  PUBDOITY    95412 non-null  int64 \n",
      " 27  PUBNEWFN    95412 non-null  int64 \n",
      " 28  PUBPHOTO    95412 non-null  int64 \n",
      " 29  PUBOPP      95412 non-null  int64 \n",
      " 30  MALEMILI    95412 non-null  int64 \n",
      " 31  MALEVET     95412 non-null  int64 \n",
      " 32  VIETVETS    95412 non-null  int64 \n",
      " 33  WWIIVETS    95412 non-null  int64 \n",
      " 34  LOCALGOV    95412 non-null  int64 \n",
      " 35  STATEGOV    95412 non-null  int64 \n",
      " 36  FEDGOV      95412 non-null  int64 \n",
      " 37  SOLP3       95412 non-null  int64 \n",
      " 38  SOLIH       95412 non-null  int64 \n",
      " 39  MAJOR       95412 non-null  int64 \n",
      " 40  WEALTH2     95412 non-null  int64 \n",
      " 41  COLLECT1    95412 non-null  int64 \n",
      " 42  VETERANS    95412 non-null  int64 \n",
      " 43  BIBLE       95412 non-null  int64 \n",
      " 44  CATLG       95412 non-null  int64 \n",
      " 45  HOMEE       95412 non-null  int64 \n",
      " 46  PETS        95412 non-null  int64 \n",
      " 47  CDPLAY      95412 non-null  int64 \n",
      " 48  STEREO      95412 non-null  int64 \n",
      " 49  PCOWNERS    95412 non-null  int64 \n",
      " 50  PHOTO       95412 non-null  int64 \n",
      " 51  CRAFTS      95412 non-null  int64 \n",
      " 52  FISHER      95412 non-null  int64 \n",
      " 53  GARDENIN    95412 non-null  int64 \n",
      " 54  BOATS       95412 non-null  int64 \n",
      " 55  WALKER      95412 non-null  int64 \n",
      " 56  KIDSTUFF    95412 non-null  int64 \n",
      " 57  CARDS       95412 non-null  int64 \n",
      " 58  PLATES      95412 non-null  int64 \n",
      " 59  PEPSTRFL    95412 non-null  int64 \n",
      " 60  target      95412 non-null  int64 \n",
      " 61  HPHONE_D    95412 non-null  int64 \n",
      " 62  RFA_2F      95412 non-null  int64 \n",
      " 63  RFA_2A      95412 non-null  object\n",
      " 64  MDMAUD_R    95412 non-null  object\n",
      " 65  MDMAUD_F    95412 non-null  object\n",
      " 66  MDMAUD_A    95412 non-null  object\n",
      " 67  DOMAIN_URB  95412 non-null  object\n",
      " 68  DOMAIN_SES  95412 non-null  object\n",
      "dtypes: int64(56), object(13)\n",
      "memory usage: 50.2+ MB\n"
     ]
    }
   ],
   "source": [
    "df_dataset_import.info(verbose=True)"
   ]
  },
  {
   "cell_type": "code",
   "execution_count": 18,
   "metadata": {},
   "outputs": [
    {
     "name": "stdout",
     "output_type": "stream",
     "text": [
      "           RECINHSE         RECP3       RECPGVG      RECSWEEP           AGE  \\\n",
      "count  95412.000000  95412.000000  95412.000000  95412.000000  95412.000000   \n",
      "mean       0.070253      0.021140      0.001195      0.016948     61.707972   \n",
      "std        0.255575      0.143851      0.034546      0.129076     14.451513   \n",
      "min        0.000000      0.000000      0.000000      0.000000      1.000000   \n",
      "25%        0.000000      0.000000      0.000000      0.000000     52.000000   \n",
      "50%        0.000000      0.000000      0.000000      0.000000     62.000000   \n",
      "75%        0.000000      0.000000      0.000000      0.000000     71.000000   \n",
      "max        1.000000      1.000000      1.000000      1.000000     98.000000   \n",
      "\n",
      "            NUMCHLD        INCOME       WEALTH1           HIT       MBCRAFT  \\\n",
      "count  95412.000000  95412.000000  95412.000000  95412.000000  95412.000000   \n",
      "mean       0.198329      3.911625      5.652455      3.321438      0.067832   \n",
      "std        0.590066      1.635685      2.025250      9.306899      0.322884   \n",
      "min        0.000000      1.000000      0.000000      0.000000      0.000000   \n",
      "25%        0.000000      3.000000      5.000000      0.000000      0.000000   \n",
      "50%        0.000000      4.000000      6.000000      0.000000      0.000000   \n",
      "75%        0.000000      5.000000      6.000000      3.000000      0.000000   \n",
      "max        7.000000      7.000000      9.000000    241.000000      6.000000   \n",
      "\n",
      "       ...      GARDENIN         BOATS        WALKER      KIDSTUFF  \\\n",
      "count  ...  95412.000000  95412.000000  95412.000000  95412.000000   \n",
      "mean   ...      0.140465      0.021255      0.110060      0.016099   \n",
      "std    ...      0.347470      0.144235      0.312966      0.125855   \n",
      "min    ...      0.000000      0.000000      0.000000      0.000000   \n",
      "25%    ...      0.000000      0.000000      0.000000      0.000000   \n",
      "50%    ...      0.000000      0.000000      0.000000      0.000000   \n",
      "75%    ...      0.000000      0.000000      0.000000      0.000000   \n",
      "max    ...      1.000000      1.000000      1.000000      1.000000   \n",
      "\n",
      "              CARDS        PLATES      PEPSTRFL        target      HPHONE_D  \\\n",
      "count  95412.000000  95412.000000  95412.000000  95412.000000  95412.000000   \n",
      "mean       0.010911      0.005869      0.474458      0.050759      0.500618   \n",
      "std        0.103883      0.076386      0.499350      0.219506      0.500002   \n",
      "min        0.000000      0.000000      0.000000      0.000000      0.000000   \n",
      "25%        0.000000      0.000000      0.000000      0.000000      0.000000   \n",
      "50%        0.000000      0.000000      0.000000      0.000000      1.000000   \n",
      "75%        0.000000      0.000000      1.000000      0.000000      1.000000   \n",
      "max        1.000000      1.000000      1.000000      1.000000      1.000000   \n",
      "\n",
      "             RFA_2F  \n",
      "count  95412.000000  \n",
      "mean       1.910053  \n",
      "std        1.072749  \n",
      "min        1.000000  \n",
      "25%        1.000000  \n",
      "50%        2.000000  \n",
      "75%        3.000000  \n",
      "max        4.000000  \n",
      "\n",
      "[8 rows x 56 columns]\n"
     ]
    }
   ],
   "source": [
    "print(df_dataset_import.describe())"
   ]
  },
  {
   "cell_type": "code",
   "execution_count": 19,
   "metadata": {},
   "outputs": [
    {
     "name": "stdout",
     "output_type": "stream",
     "text": [
      "PVASTATE      0\n",
      "RECINHSE      0\n",
      "RECP3         0\n",
      "RECPGVG       0\n",
      "RECSWEEP      0\n",
      "             ..\n",
      "MDMAUD_R      0\n",
      "MDMAUD_F      0\n",
      "MDMAUD_A      0\n",
      "DOMAIN_URB    0\n",
      "DOMAIN_SES    0\n",
      "Length: 69, dtype: int64\n",
      "Total number of NaN in the dataframe:  0\n"
     ]
    }
   ],
   "source": [
    "print(df_dataset_import.isnull().sum())\n",
    "print('Total number of NaN in the dataframe: ', df_dataset_import.isnull().sum().sum())"
   ]
  },
  {
   "cell_type": "code",
   "execution_count": 20,
   "metadata": {},
   "outputs": [
    {
     "name": "stdout",
     "output_type": "stream",
     "text": [
      "target\n",
      "0    90569\n",
      "1     4843\n",
      "dtype: int64\n"
     ]
    }
   ],
   "source": [
    "# Get grouping size for the target variable\n",
    "print(df_dataset_import.groupby('target').size())"
   ]
  },
  {
   "cell_type": "markdown",
   "metadata": {},
   "source": [
    "### 1.e) Splitting Data into Sets"
   ]
  },
  {
   "cell_type": "code",
   "execution_count": 21,
   "metadata": {},
   "outputs": [
    {
     "name": "stdout",
     "output_type": "stream",
     "text": [
      "df_dataset_import.shape: (95412, 69) df_features_train.shape: (95412, 68) df_target_train.shape: (95412,)\n"
     ]
    }
   ],
   "source": [
    "# Use variable total_column_count to hold the number of columns in the dataframe\n",
    "total_column_count = len(df_dataset_import.columns)\n",
    "\n",
    "# Set up variable total_feature_count for the total number of attribute columns\n",
    "total_feature_count = total_column_count-1\n",
    "\n",
    "# We create attribute-only and target-only datasets (df_features_train and df_target_train)\n",
    "df_target_train = df_dataset_import['target']\n",
    "df_features_train = df_dataset_import.drop(['target'], axis=1)\n",
    "\n",
    "# print(\"df_dataset_import.shape: {} df_features_import.shape: {} df_target_import.shape: {}\".format(df_dataset_import.shape, df_features_import.shape, df_target_import.shape))\n",
    "print(\"df_dataset_import.shape: {} df_features_train.shape: {} df_target_train.shape: {}\".format(df_dataset_import.shape, df_features_train.shape, df_target_train.shape))"
   ]
  },
  {
   "cell_type": "markdown",
   "metadata": {},
   "source": [
    "### 1.f) Set up the parameters for data visualization"
   ]
  },
  {
   "cell_type": "code",
   "execution_count": 22,
   "metadata": {},
   "outputs": [],
   "source": [
    "# Set up the number of row and columns for visualization display. display_rows * display_columns should be >= total_feature_count\n",
    "display_columns = 4\n",
    "if total_feature_count % display_columns == 0 :\n",
    "    display_rows = total_feature_count // display_columns\n",
    "else :\n",
    "    display_rows = (total_feature_count // display_columns) + 1\n",
    "\n",
    "# Set figure width to display the data visualization plots\n",
    "fig_size = plt.rcParams[\"figure.figsize\"]\n",
    "fig_size[0] = display_columns * 4\n",
    "fig_size[1] = display_rows * 4\n",
    "plt.rcParams[\"figure.figsize\"] = fig_size"
   ]
  },
  {
   "cell_type": "code",
   "execution_count": 23,
   "metadata": {},
   "outputs": [],
   "source": [
    "if NOTIFY_STATUS: status_notify(\"Task 1 - Prepare Environment completed! \" + datetime.now().strftime('%a %B %d, %Y %I:%M:%S %p'))"
   ]
  },
  {
   "cell_type": "markdown",
   "metadata": {},
   "source": [
    "## Task 2 - Summarize and Visualize Data"
   ]
  },
  {
   "cell_type": "code",
   "execution_count": 24,
   "metadata": {},
   "outputs": [],
   "source": [
    "if NOTIFY_STATUS: status_notify(\"Task 2 - Summarize and Visualize Data has begun! \" + datetime.now().strftime('%a %B %d, %Y %I:%M:%S %p'))"
   ]
  },
  {
   "cell_type": "code",
   "execution_count": 25,
   "metadata": {},
   "outputs": [
    {
     "data": {
      "image/png": "[encoded data removed]",
      "text/plain": [
       "<Figure size 1152x4896 with 68 Axes>"
      ]
     },
     "metadata": {
      "needs_background": "light"
     },
     "output_type": "display_data"
    }
   ],
   "source": [
    "# Histograms for each attribute\n",
    "df_features_train.plot(kind='hist', subplots=True, layout=(display_rows, display_columns))\n",
    "plt.show()"
   ]
  },
  {
   "cell_type": "code",
   "execution_count": 26,
   "metadata": {},
   "outputs": [
    {
     "data": {
      "image/png": "[encoded data removed]",
      "text/plain": [
       "<Figure size 1152x4896 with 68 Axes>"
      ]
     },
     "metadata": {
      "needs_background": "light"
     },
     "output_type": "display_data"
    }
   ],
   "source": [
    "# Box and Whisker plot for each attribute\n",
    "df_features_train.plot(kind='box', subplots=True, layout=(display_rows, display_columns))\n",
    "plt.show()"
   ]
  },
  {
   "cell_type": "code",
   "execution_count": 27,
   "metadata": {},
   "outputs": [],
   "source": [
    "# # Correlation matrix\n",
    "# fig = plt.figure(figsize=(20, 20))\n",
    "# correlations = df_features_train.corr(method='pearson')\n",
    "# sns.heatmap(correlations, annot=True, cmap=plt.cm.PuBu)\n",
    "# plt.show()"
   ]
  },
  {
   "cell_type": "code",
   "execution_count": 28,
   "metadata": {},
   "outputs": [],
   "source": [
    "if NOTIFY_STATUS: status_notify(\"Task 2 - Summarize and Visualize Data completed! \" + datetime.now().strftime('%a %B %d, %Y %I:%M:%S %p'))"
   ]
  },
  {
   "cell_type": "markdown",
   "metadata": {},
   "source": [
    "## Task 3 - Pre-process Data"
   ]
  },
  {
   "cell_type": "code",
   "execution_count": 29,
   "metadata": {},
   "outputs": [],
   "source": [
    "if NOTIFY_STATUS: status_notify(\"Task 3 - Pre-process Data has begun! \" + datetime.now().strftime('%a %B %d, %Y %I:%M:%S %p'))"
   ]
  },
  {
   "cell_type": "markdown",
   "metadata": {},
   "source": [
    "### 3.a) Feature Scaling and Data Pre-Processing"
   ]
  },
  {
   "cell_type": "code",
   "execution_count": 30,
   "metadata": {},
   "outputs": [
    {
     "name": "stdout",
     "output_type": "stream",
     "text": [
      "Number of numerical columns: 0\n",
      "Number of categorical columns: 13\n",
      "Total number of columns in the feature dataframe: 68\n"
     ]
    }
   ],
   "source": [
    "# Compose pipeline for the numerical and categorical features (Block #1 of 2)\n",
    "numeric_columns = df_features_train.select_dtypes(include=['float64']).columns\n",
    "numeric_transformer = Pipeline(steps=[\n",
    "    ('imputer', impute.SimpleImputer(strategy=\"constant\", fill_value=0)),\n",
    "    ('scaler', preprocessing.MinMaxScaler())\n",
    "])\n",
    "categorical_columns = df_features_train.select_dtypes(include=['object','bool','category']).columns\n",
    "categorical_transformer = Pipeline(steps=[\n",
    "    ('imputer', impute.SimpleImputer(strategy='constant', fill_value='UNKNOWN')),\n",
    "    ('onehot', preprocessing.OneHotEncoder(sparse=False, handle_unknown='ignore'))\n",
    "])\n",
    "\n",
    "print(\"Number of numerical columns:\", len(numeric_columns))\n",
    "print(\"Number of categorical columns:\", len(categorical_columns))\n",
    "print(\"Total number of columns in the feature dataframe:\", df_features_train.shape[1])"
   ]
  },
  {
   "cell_type": "code",
   "execution_count": 31,
   "metadata": {},
   "outputs": [
    {
     "name": "stdout",
     "output_type": "stream",
     "text": [
      "Transformed features from df_features_train.shape: (95412, 68) to array_features_train.shape: (95412, 111)\n"
     ]
    }
   ],
   "source": [
    "# Compose pipeline for the numerical and categorical features (Block #2 of 2)\n",
    "preprocessor = compose.ColumnTransformer(transformers=[\n",
    "    ('num', numeric_transformer, numeric_columns),\n",
    "    ('cat', categorical_transformer, categorical_columns)\n",
    "], remainder='passthrough')\n",
    "\n",
    "# Display the shapes of the training dataset for final inspection\n",
    "array_features_train = preprocessor.fit_transform(df_features_train)\n",
    "print(\"Transformed features from df_features_train.shape: {} to array_features_train.shape: {}\".format(df_features_train.shape, array_features_train.shape))"
   ]
  },
  {
   "cell_type": "markdown",
   "metadata": {},
   "source": [
    "### 3.b) Training Data Balancing"
   ]
  },
  {
   "cell_type": "code",
   "execution_count": 32,
   "metadata": {},
   "outputs": [
    {
     "name": "stdout",
     "output_type": "stream",
     "text": [
      "X_train_imbal.shape: (95412, 111) y_train_imbal.shape: (95412,)\n"
     ]
    }
   ],
   "source": [
    "# Perform SMOTE transformation on the training data (Block #1 of 2)\n",
    "X_train_imbal = array_features_train\n",
    "y_train_imbal = df_target_train.ravel()\n",
    "print(\"X_train_imbal.shape: {} y_train_imbal.shape: {}\".format(X_train_imbal.shape, y_train_imbal.shape))"
   ]
  },
  {
   "cell_type": "code",
   "execution_count": 33,
   "metadata": {},
   "outputs": [
    {
     "name": "stdout",
     "output_type": "stream",
     "text": [
      "Original class distribution - 1: 4843 | 0: 90569\n",
      "Resampled class distribution - 1: 9056 | 0: 9056\n"
     ]
    }
   ],
   "source": [
    "# Perform SMOTE transformation on the training data (Block #2 of 2)\n",
    "print ('Original class distribution - 1: {} | 0: {}'.format((y_train_imbal==1).sum(), (y_train_imbal==0).sum()))\n",
    "over_sample = SMOTE(sampling_strategy=0.1, random_state=RNG_SEED)\n",
    "under_sample = RandomUnderSampler(sampling_strategy=1.0, random_state=RNG_SEED)\n",
    "steps = [('o', over_sample), ('u', under_sample)]\n",
    "sample_pipeline = Pipeline(steps=steps)\n",
    "array_features_train, y_train_balanced = sample_pipeline.fit_resample(X_train_imbal, y_train_imbal)\n",
    "print ('Resampled class distribution - 1: {} | 0: {}'.format((y_train_balanced==1).sum(), (y_train_balanced==0).sum()))"
   ]
  },
  {
   "cell_type": "markdown",
   "metadata": {},
   "source": [
    "### 3.c) Feature Selection"
   ]
  },
  {
   "cell_type": "code",
   "execution_count": 34,
   "metadata": {},
   "outputs": [],
   "source": [
    "# Not applicable for this iteration of the project"
   ]
  },
  {
   "cell_type": "markdown",
   "metadata": {},
   "source": [
    "### 3.d) Display the Final Datasets for Model-Building"
   ]
  },
  {
   "cell_type": "code",
   "execution_count": 35,
   "metadata": {},
   "outputs": [
    {
     "name": "stdout",
     "output_type": "stream",
     "text": [
      "array_features_train.shape: (18112, 111) array_target_train.shape: (18112,)\n"
     ]
    }
   ],
   "source": [
    "# Finalize the training dataset for the modeling activities\n",
    "# array_target_train = df_target_train.ravel()\n",
    "array_target_train = y_train_balanced.ravel()\n",
    "print(\"array_features_train.shape: {} array_target_train.shape: {}\".format(array_features_train.shape, array_target_train.shape))"
   ]
  },
  {
   "cell_type": "code",
   "execution_count": 36,
   "metadata": {},
   "outputs": [],
   "source": [
    "if NOTIFY_STATUS: status_notify(\"Task 3 - Pre-process Data completed! \" + datetime.now().strftime('%a %B %d, %Y %I:%M:%S %p'))"
   ]
  },
  {
   "cell_type": "markdown",
   "metadata": {},
   "source": [
    "## Task 4 - Train and Tune Models"
   ]
  },
  {
   "cell_type": "code",
   "execution_count": 37,
   "metadata": {},
   "outputs": [],
   "source": [
    "if NOTIFY_STATUS: status_notify(\"Task 4 - Train and Tune Models has begun! \" + datetime.now().strftime('%a %B %d, %Y %I:%M:%S %p'))"
   ]
  },
  {
   "cell_type": "markdown",
   "metadata": {},
   "source": [
    "### 4.a) Set test options and evaluation metric"
   ]
  },
  {
   "cell_type": "code",
   "execution_count": 38,
   "metadata": {},
   "outputs": [],
   "source": [
    "# Set up Algorithms Spot-Checking Array\n",
    "start_time_training = datetime.now()\n",
    "train_models = []\n",
    "train_results = []\n",
    "train_model_names = []\n",
    "train_metrics = []"
   ]
  },
  {
   "cell_type": "code",
   "execution_count": 39,
   "metadata": {},
   "outputs": [],
   "source": [
    "train_models.append(('LGR', LogisticRegression(solver='liblinear', random_state=RNG_SEED, n_jobs=N_JOBS)))\n",
    "train_models.append(('CART', DecisionTreeClassifier(random_state=RNG_SEED)))\n",
    "train_models.append(('KNN', KNeighborsClassifier(n_jobs=N_JOBS)))\n",
    "train_models.append(('BGT', BaggingClassifier(random_state=RNG_SEED, n_jobs=N_JOBS)))\n",
    "train_models.append(('RNF', RandomForestClassifier(random_state=RNG_SEED, n_jobs=N_JOBS)))\n",
    "train_models.append(('EXT', ExtraTreesClassifier(random_state=RNG_SEED, n_jobs=N_JOBS)))"
   ]
  },
  {
   "cell_type": "code",
   "execution_count": 40,
   "metadata": {},
   "outputs": [
    {
     "name": "stderr",
     "output_type": "stream",
     "text": [
      "[Parallel(n_jobs=1)]: Using backend SequentialBackend with 1 concurrent workers.\n",
      "[Parallel(n_jobs=1)]: Done   5 out of   5 | elapsed:    5.4s finished\n",
      "[Parallel(n_jobs=1)]: Using backend SequentialBackend with 1 concurrent workers.\n"
     ]
    },
    {
     "name": "stdout",
     "output_type": "stream",
     "text": [
      "LGR: 0.630096 (0.009873)\n",
      "LogisticRegression(n_jobs=1, random_state=888, solver='liblinear')\n",
      "Model training time: 0:00:05.390923 \n",
      "\n"
     ]
    },
    {
     "name": "stderr",
     "output_type": "stream",
     "text": [
      "[Parallel(n_jobs=1)]: Done   5 out of   5 | elapsed:    1.3s finished\n",
      "[Parallel(n_jobs=1)]: Using backend SequentialBackend with 1 concurrent workers.\n"
     ]
    },
    {
     "name": "stdout",
     "output_type": "stream",
     "text": [
      "CART: 0.660149 (0.005943)\n",
      "DecisionTreeClassifier(random_state=888)\n",
      "Model training time: 0:00:01.295585 \n",
      "\n"
     ]
    },
    {
     "name": "stderr",
     "output_type": "stream",
     "text": [
      "[Parallel(n_jobs=1)]: Done   5 out of   5 | elapsed:    8.5s finished\n",
      "[Parallel(n_jobs=1)]: Using backend SequentialBackend with 1 concurrent workers.\n"
     ]
    },
    {
     "name": "stdout",
     "output_type": "stream",
     "text": [
      "KNN: 0.678313 (0.004848)\n",
      "KNeighborsClassifier(n_jobs=1)\n",
      "Model training time: 0:00:08.517042 \n",
      "\n"
     ]
    },
    {
     "name": "stderr",
     "output_type": "stream",
     "text": [
      "[Parallel(n_jobs=1)]: Done   5 out of   5 | elapsed:    8.8s finished\n",
      "[Parallel(n_jobs=1)]: Using backend SequentialBackend with 1 concurrent workers.\n"
     ]
    },
    {
     "name": "stdout",
     "output_type": "stream",
     "text": [
      "BGT: 0.765094 (0.003644)\n",
      "BaggingClassifier(n_jobs=1, random_state=888)\n",
      "Model training time: 0:00:08.841564 \n",
      "\n"
     ]
    },
    {
     "name": "stderr",
     "output_type": "stream",
     "text": [
      "[Parallel(n_jobs=1)]: Done   5 out of   5 | elapsed:   13.3s finished\n",
      "[Parallel(n_jobs=1)]: Using backend SequentialBackend with 1 concurrent workers.\n"
     ]
    },
    {
     "name": "stdout",
     "output_type": "stream",
     "text": [
      "RNF: 0.787511 (0.005706)\n",
      "RandomForestClassifier(n_jobs=1, random_state=888)\n",
      "Model training time: 0:00:13.262356 \n",
      "\n",
      "EXT: 0.794522 (0.006684)\n",
      "ExtraTreesClassifier(n_jobs=1, random_state=888)\n",
      "Model training time: 0:00:17.458516 \n",
      "\n",
      "Average metrics (roc_auc) from all models: 0.71928067404457\n",
      "Total training time for all models: 0:00:54.796047\n"
     ]
    },
    {
     "name": "stderr",
     "output_type": "stream",
     "text": [
      "[Parallel(n_jobs=1)]: Done   5 out of   5 | elapsed:   17.5s finished\n"
     ]
    }
   ],
   "source": [
    "# Generate model in turn\n",
    "for name, model in train_models:\n",
    "\tif NOTIFY_STATUS: status_notify(\"Algorithm\", name, \"modeling has begun! \" + datetime.now().strftime('%a %B %d, %Y %I:%M:%S %p'))\n",
    "\tstart_time_module = datetime.now()\n",
    "\tkfold = StratifiedKFold(n_splits=N_FOLDS, shuffle=True, random_state=RNG_SEED)\n",
    "\tcv_results = cross_val_score(model, array_features_train, array_target_train, cv=kfold, scoring=SCORING_METRIC, n_jobs=N_JOBS, verbose=1)\n",
    "\ttrain_results.append(cv_results)\n",
    "\ttrain_model_names.append(name)\n",
    "\ttrain_metrics.append(cv_results.mean())\n",
    "\tprint(\"%s: %f (%f)\" % (name, cv_results.mean(), cv_results.std()))\n",
    "\tprint(model)\n",
    "\tprint ('Model training time:', (datetime.now() - start_time_module), '\\n')\n",
    "\tif NOTIFY_STATUS: status_notify(\"Algorithm\", name, \"modeling completed! \" + datetime.now().strftime('%a %B %d, %Y %I:%M:%S %p'))\n",
    "print ('Average metrics (' + SCORING_METRIC + ') from all models:', np.mean(train_metrics))\n",
    "print ('Total training time for all models:', (datetime.now() - start_time_training))"
   ]
  },
  {
   "cell_type": "markdown",
   "metadata": {},
   "source": [
    "### 4.b) Spot-checking baseline algorithms"
   ]
  },
  {
   "cell_type": "code",
   "execution_count": 41,
   "metadata": {},
   "outputs": [
    {
     "data": {
      "image/png": "[encoded data removed]",
      "text/plain": [
       "<Figure size 1152x864 with 1 Axes>"
      ]
     },
     "metadata": {
      "needs_background": "light"
     },
     "output_type": "display_data"
    }
   ],
   "source": [
    "fig = plt.figure(figsize=(16,12))\n",
    "fig.suptitle('Algorithm Comparison - Spot Checking')\n",
    "ax = fig.add_subplot(111)\n",
    "plt.boxplot(train_results)\n",
    "ax.set_xticklabels(train_model_names)\n",
    "plt.show()"
   ]
  },
  {
   "cell_type": "code",
   "execution_count": 42,
   "metadata": {},
   "outputs": [],
   "source": [
    "if NOTIFY_STATUS: status_notify(\"Task 4 - Train and Tune Models completed! \" + datetime.now().strftime('%a %B %d, %Y %I:%M:%S %p'))"
   ]
  },
  {
   "cell_type": "markdown",
   "metadata": {},
   "source": [
    "### 4.c) Algorithm Tuning"
   ]
  },
  {
   "cell_type": "code",
   "execution_count": 43,
   "metadata": {},
   "outputs": [],
   "source": [
    "# Set up the comparison array\n",
    "tune_results = []\n",
    "tune_model_names = []"
   ]
  },
  {
   "cell_type": "code",
   "execution_count": 44,
   "metadata": {},
   "outputs": [
    {
     "name": "stdout",
     "output_type": "stream",
     "text": [
      "Fitting 5 folds for each of 3 candidates, totalling 15 fits\n",
      "Best: 0.784937 using {'n_estimators': 50}\n",
      "0.765094 (0.003644) with: {'n_estimators': 10}\n",
      "0.781786 (0.004835) with: {'n_estimators': 30}\n",
      "0.784937 (0.004572) with: {'n_estimators': 50}\n",
      "Model training time: 0:01:32.645030\n"
     ]
    }
   ],
   "source": [
    "# Tuning algorithm #1\n",
    "start_time_module = datetime.now()\n",
    "if NOTIFY_STATUS: status_notify(\"Algorithm #1 tuning has begun! \" + datetime.now().strftime('%a %B %d, %Y %I:%M:%S %p'))\n",
    "\n",
    "tune_model1 = BaggingClassifier(random_state=RNG_SEED, n_jobs=N_JOBS)\n",
    "tune_model_names.append('BGT')\n",
    "paramGrid1 = dict(n_estimators=np.array([10, 30, 50]))\n",
    "\n",
    "kfold = StratifiedKFold(n_splits=N_FOLDS, shuffle=True, random_state=RNG_SEED)\n",
    "grid1 = GridSearchCV(estimator=tune_model1, param_grid=paramGrid1, scoring=SCORING_METRIC, cv=kfold, n_jobs=N_JOBS, verbose=1)\n",
    "grid_result1 = grid1.fit(array_features_train, array_target_train)\n",
    "\n",
    "print(\"Best: %f using %s\" % (grid_result1.best_score_, grid_result1.best_params_))\n",
    "tune_results.append(grid_result1.cv_results_['mean_test_score'])\n",
    "means = grid_result1.cv_results_['mean_test_score']\n",
    "stds = grid_result1.cv_results_['std_test_score']\n",
    "params = grid_result1.cv_results_['params']\n",
    "for mean, stdev, param in zip(means, stds, params):\n",
    "    print(\"%f (%f) with: %r\" % (mean, stdev, param))\n",
    "print ('Model training time:', (datetime.now() - start_time_module))\n",
    "if NOTIFY_STATUS: status_notify(\"Algorithm #1 tuning completed! \" + datetime.now().strftime('%a %B %d, %Y %I:%M:%S %p'))"
   ]
  },
  {
   "cell_type": "code",
   "execution_count": 45,
   "metadata": {},
   "outputs": [
    {
     "name": "stdout",
     "output_type": "stream",
     "text": [
      "Captured the best parameter for algorithm #1: n_estimators = 50\n"
     ]
    }
   ],
   "source": [
    "best_paramKey1 = list(grid_result1.best_params_.keys())[0]\n",
    "best_paramValue1 = list(grid_result1.best_params_.values())[0]\n",
    "print(\"Captured the best parameter for algorithm #1:\", best_paramKey1, '=', best_paramValue1)"
   ]
  },
  {
   "cell_type": "code",
   "execution_count": 46,
   "metadata": {},
   "outputs": [
    {
     "name": "stdout",
     "output_type": "stream",
     "text": [
      "Fitting 5 folds for each of 3 candidates, totalling 15 fits\n",
      "Best: 0.797998 using {'n_estimators': 500}\n",
      "0.794522 (0.006684) with: {'n_estimators': 100}\n",
      "0.797654 (0.006479) with: {'n_estimators': 300}\n",
      "0.797998 (0.006985) with: {'n_estimators': 500}\n",
      "Model training time: 0:02:56.023021\n"
     ]
    }
   ],
   "source": [
    "# Tuning algorithm #2\n",
    "start_time_module = datetime.now()\n",
    "if NOTIFY_STATUS: status_notify(\"Algorithm #2 tuning has begun! \" + datetime.now().strftime('%a %B %d, %Y %I:%M:%S %p'))\n",
    "\n",
    "tune_model2 = ExtraTreesClassifier(random_state=RNG_SEED, n_jobs=N_JOBS)\n",
    "tune_model_names.append('EXT')\n",
    "paramGrid2 = dict(n_estimators=np.array([100, 300, 500]))\n",
    "\n",
    "kfold = StratifiedKFold(n_splits=N_FOLDS, shuffle=True, random_state=RNG_SEED)\n",
    "grid2 = GridSearchCV(estimator=tune_model2, param_grid=paramGrid2, scoring=SCORING_METRIC, cv=kfold, n_jobs=N_JOBS, verbose=1)\n",
    "grid_result2 = grid2.fit(array_features_train, array_target_train)\n",
    "\n",
    "print(\"Best: %f using %s\" % (grid_result2.best_score_, grid_result2.best_params_))\n",
    "tune_results.append(grid_result2.cv_results_['mean_test_score'])\n",
    "means = grid_result2.cv_results_['mean_test_score']\n",
    "stds = grid_result2.cv_results_['std_test_score']\n",
    "params = grid_result2.cv_results_['params']\n",
    "for mean, stdev, param in zip(means, stds, params):\n",
    "    print(\"%f (%f) with: %r\" % (mean, stdev, param))\n",
    "print ('Model training time:', (datetime.now() - start_time_module))\n",
    "if NOTIFY_STATUS: status_notify(\"Algorithm #2 tuning completed! \" + datetime.now().strftime('%a %B %d, %Y %I:%M:%S %p'))"
   ]
  },
  {
   "cell_type": "code",
   "execution_count": 47,
   "metadata": {},
   "outputs": [
    {
     "name": "stdout",
     "output_type": "stream",
     "text": [
      "Captured the best parameter for algorithm #2: n_estimators = 500\n"
     ]
    }
   ],
   "source": [
    "best_paramKey2 = list(grid_result2.best_params_.keys())[0]\n",
    "best_paramValue2 = list(grid_result2.best_params_.values())[0]\n",
    "print(\"Captured the best parameter for algorithm #2:\", best_paramKey2, '=', best_paramValue2)"
   ]
  },
  {
   "cell_type": "markdown",
   "metadata": {},
   "source": [
    "### 4.d) Compare Algorithms After Tuning"
   ]
  },
  {
   "cell_type": "code",
   "execution_count": 48,
   "metadata": {},
   "outputs": [
    {
     "data": {
      "image/png": "[encoded data removed]",
      "text/plain": [
       "<Figure size 1152x864 with 1 Axes>"
      ]
     },
     "metadata": {
      "needs_background": "light"
     },
     "output_type": "display_data"
    }
   ],
   "source": [
    "fig = plt.figure(figsize=(16,12))\n",
    "fig.suptitle('Algorithm Comparison - Post Tuning')\n",
    "ax = fig.add_subplot(111)\n",
    "plt.boxplot(tune_results)\n",
    "ax.set_xticklabels(tune_model_names)\n",
    "plt.show()"
   ]
  },
  {
   "cell_type": "code",
   "execution_count": 49,
   "metadata": {},
   "outputs": [],
   "source": [
    "if NOTIFY_STATUS: status_notify(\"Task 4 - Train and Tune Models completed! \" + datetime.now().strftime('%a %B %d, %Y %I:%M:%S %p'))"
   ]
  },
  {
   "cell_type": "markdown",
   "metadata": {},
   "source": [
    "## Task 5 - Finalize Model and Make Predictions"
   ]
  },
  {
   "cell_type": "code",
   "execution_count": 50,
   "metadata": {},
   "outputs": [],
   "source": [
    "if NOTIFY_STATUS: status_notify(\"Task 5 - Finalize Model and Make Predictions has begun! \" + datetime.now().strftime('%a %B %d, %Y %I:%M:%S %p'))"
   ]
  },
  {
   "cell_type": "markdown",
   "metadata": {},
   "source": [
    "### 5.a) Train the Final Model"
   ]
  },
  {
   "cell_type": "code",
   "execution_count": 51,
   "metadata": {},
   "outputs": [
    {
     "name": "stdout",
     "output_type": "stream",
     "text": [
      "ExtraTreesClassifier(n_estimators=500, n_jobs=1, random_state=888)\n"
     ]
    }
   ],
   "source": [
    "final_model = ExtraTreesClassifier(n_estimators=best_paramValue2, random_state=RNG_SEED, n_jobs=N_JOBS)\n",
    "final_model.fit(array_features_train, array_target_train)\n",
    "print(final_model)"
   ]
  },
  {
   "cell_type": "markdown",
   "metadata": {},
   "source": [
    "### 5.b) Load Test Dataset and Make Predictions"
   ]
  },
  {
   "cell_type": "code",
   "execution_count": 52,
   "metadata": {},
   "outputs": [],
   "source": [
    "if not os.path.exists(TEST_DATASET):\n",
    "    !wget https://dainesanalytics.com/datasets/ucirvine-kdd-cup-1998/cup98VAL.txt"
   ]
  },
  {
   "cell_type": "code",
   "execution_count": 53,
   "metadata": {},
   "outputs": [
    {
     "name": "stderr",
     "output_type": "stream",
     "text": [
      "/usr/local/lib/python3.8/dist-packages/IPython/core/interactiveshell.py:3185: DtypeWarning: Columns (8) have mixed types.Specify dtype option on import or set low_memory=False.\n",
      "  has_raised = await self.run_ast_nodes(code_ast.body, cell_name,\n"
     ]
    },
    {
     "name": "stdout",
     "output_type": "stream",
     "text": [
      "   ODATEDW OSOURCE  TCODE STATE     ZIP MAILCODE PVASTATE   DOB NOEXCH  \\\n",
      "0     9301     PV3      0    WI   53558                    1702      0   \n",
      "1     9501     CNT      0    TX   78501                    1501      0   \n",
      "2     9101     L01      1    CA   92392                    3001      0   \n",
      "3     9401     HAM      0    TX  77625-                    4909      0   \n",
      "4     9201     NAS      2    TX   76051                    5406      0   \n",
      "\n",
      "  RECINHSE  ... CONTROLN HPHONE_D RFA_2R RFA_2F RFA_2A MDMAUD_R  MDMAUD_F  \\\n",
      "0        X  ...   188946        1      L      1      G        X         X   \n",
      "1           ...   126296        1      L      1      F        X         X   \n",
      "2           ...   155244        1      L      1      G        X         X   \n",
      "3           ...   123985        0      L      1      F        X         X   \n",
      "4           ...   119118        1      L      3      E        X         X   \n",
      "\n",
      "  MDMAUD_A CLUSTER2 GEOCODE2  \n",
      "0        X     15.0        B  \n",
      "1        X     13.0        B  \n",
      "2        X     34.0        A  \n",
      "3        X     58.0        B  \n",
      "4        X      2.0        A  \n",
      "\n",
      "[5 rows x 479 columns]\n"
     ]
    }
   ],
   "source": [
    "df_features_test = pd.read_csv(TEST_DATASET, sep=',', index_col=False)\n",
    "\n",
    "# Take a peek at the dataframe after import\n",
    "print(df_features_test.head())"
   ]
  },
  {
   "cell_type": "code",
   "execution_count": 54,
   "metadata": {},
   "outputs": [
    {
     "name": "stdout",
     "output_type": "stream",
     "text": [
      "<class 'pandas.core.frame.DataFrame'>\n",
      "RangeIndex: 96367 entries, 0 to 96366\n",
      "Data columns (total 479 columns):\n",
      " #    Column    Dtype  \n",
      "---   ------    -----  \n",
      " 0    ODATEDW   int64  \n",
      " 1    OSOURCE   object \n",
      " 2    TCODE     int64  \n",
      " 3    STATE     object \n",
      " 4    ZIP       object \n",
      " 5    MAILCODE  object \n",
      " 6    PVASTATE  object \n",
      " 7    DOB       int64  \n",
      " 8    NOEXCH    object \n",
      " 9    RECINHSE  object \n",
      " 10   RECP3     object \n",
      " 11   RECPGVG   object \n",
      " 12   RECSWEEP  object \n",
      " 13   MDMAUD    object \n",
      " 14   DOMAIN    object \n",
      " 15   CLUSTER   object \n",
      " 16   AGE       float64\n",
      " 17   AGEFLAG   object \n",
      " 18   HOMEOWNR  object \n",
      " 19   CHILD03   object \n",
      " 20   CHILD07   object \n",
      " 21   CHILD12   object \n",
      " 22   CHILD18   object \n",
      " 23   NUMCHLD   float64\n",
      " 24   INCOME    float64\n",
      " 25   GENDER    object \n",
      " 26   WEALTH1   float64\n",
      " 27   HIT       int64  \n",
      " 28   MBCRAFT   float64\n",
      " 29   MBGARDEN  float64\n",
      " 30   MBBOOKS   float64\n",
      " 31   MBCOLECT  float64\n",
      " 32   MAGFAML   float64\n",
      " 33   MAGFEM    float64\n",
      " 34   MAGMALE   float64\n",
      " 35   PUBGARDN  float64\n",
      " 36   PUBCULIN  float64\n",
      " 37   PUBHLTH   float64\n",
      " 38   PUBDOITY  float64\n",
      " 39   PUBNEWFN  float64\n",
      " 40   PUBPHOTO  float64\n",
      " 41   PUBOPP    float64\n",
      " 42   DATASRCE  object \n",
      " 43   MALEMILI  int64  \n",
      " 44   MALEVET   int64  \n",
      " 45   VIETVETS  int64  \n",
      " 46   WWIIVETS  int64  \n",
      " 47   LOCALGOV  int64  \n",
      " 48   STATEGOV  int64  \n",
      " 49   FEDGOV    int64  \n",
      " 50   SOLP3     object \n",
      " 51   SOLIH     object \n",
      " 52   MAJOR     object \n",
      " 53   WEALTH2   float64\n",
      " 54   GEOCODE   object \n",
      " 55   COLLECT1  object \n",
      " 56   VETERANS  object \n",
      " 57   BIBLE     object \n",
      " 58   CATLG     object \n",
      " 59   HOMEE     object \n",
      " 60   PETS      object \n",
      " 61   CDPLAY    object \n",
      " 62   STEREO    object \n",
      " 63   PCOWNERS  object \n",
      " 64   PHOTO     object \n",
      " 65   CRAFTS    object \n",
      " 66   FISHER    object \n",
      " 67   GARDENIN  object \n",
      " 68   BOATS     object \n",
      " 69   WALKER    object \n",
      " 70   KIDSTUFF  object \n",
      " 71   CARDS     object \n",
      " 72   PLATES    object \n",
      " 73   LIFESRC   object \n",
      " 74   PEPSTRFL  object \n",
      " 75   POP901    int64  \n",
      " 76   POP902    int64  \n",
      " 77   POP903    int64  \n",
      " 78   POP90C1   int64  \n",
      " 79   POP90C2   int64  \n",
      " 80   POP90C3   int64  \n",
      " 81   POP90C4   int64  \n",
      " 82   POP90C5   int64  \n",
      " 83   ETH1      int64  \n",
      " 84   ETH2      int64  \n",
      " 85   ETH3      int64  \n",
      " 86   ETH4      int64  \n",
      " 87   ETH5      int64  \n",
      " 88   ETH6      int64  \n",
      " 89   ETH7      int64  \n",
      " 90   ETH8      int64  \n",
      " 91   ETH9      int64  \n",
      " 92   ETH10     int64  \n",
      " 93   ETH11     int64  \n",
      " 94   ETH12     int64  \n",
      " 95   ETH13     int64  \n",
      " 96   ETH14     int64  \n",
      " 97   ETH15     int64  \n",
      " 98   ETH16     int64  \n",
      " 99   AGE901    int64  \n",
      " 100  AGE902    int64  \n",
      " 101  AGE903    int64  \n",
      " 102  AGE904    int64  \n",
      " 103  AGE905    int64  \n",
      " 104  AGE906    int64  \n",
      " 105  AGE907    int64  \n",
      " 106  CHIL1     int64  \n",
      " 107  CHIL2     int64  \n",
      " 108  CHIL3     int64  \n",
      " 109  AGEC1     int64  \n",
      " 110  AGEC2     int64  \n",
      " 111  AGEC3     int64  \n",
      " 112  AGEC4     int64  \n",
      " 113  AGEC5     int64  \n",
      " 114  AGEC6     int64  \n",
      " 115  AGEC7     int64  \n",
      " 116  CHILC1    int64  \n",
      " 117  CHILC2    int64  \n",
      " 118  CHILC3    int64  \n",
      " 119  CHILC4    int64  \n",
      " 120  CHILC5    int64  \n",
      " 121  HHAGE1    int64  \n",
      " 122  HHAGE2    int64  \n",
      " 123  HHAGE3    int64  \n",
      " 124  HHN1      int64  \n",
      " 125  HHN2      int64  \n",
      " 126  HHN3      int64  \n",
      " 127  HHN4      int64  \n",
      " 128  HHN5      int64  \n",
      " 129  HHN6      int64  \n",
      " 130  MARR1     int64  \n",
      " 131  MARR2     int64  \n",
      " 132  MARR3     int64  \n",
      " 133  MARR4     int64  \n",
      " 134  HHP1      int64  \n",
      " 135  HHP2      int64  \n",
      " 136  DW1       int64  \n",
      " 137  DW2       int64  \n",
      " 138  DW3       int64  \n",
      " 139  DW4       int64  \n",
      " 140  DW5       int64  \n",
      " 141  DW6       int64  \n",
      " 142  DW7       int64  \n",
      " 143  DW8       int64  \n",
      " 144  DW9       int64  \n",
      " 145  HV1       int64  \n",
      " 146  HV2       int64  \n",
      " 147  HV3       int64  \n",
      " 148  HV4       int64  \n",
      " 149  HU1       int64  \n",
      " 150  HU2       int64  \n",
      " 151  HU3       int64  \n",
      " 152  HU4       int64  \n",
      " 153  HU5       int64  \n",
      " 154  HHD1      int64  \n",
      " 155  HHD2      int64  \n",
      " 156  HHD3      int64  \n",
      " 157  HHD4      int64  \n",
      " 158  HHD5      int64  \n",
      " 159  HHD6      int64  \n",
      " 160  HHD7      int64  \n",
      " 161  HHD8      int64  \n",
      " 162  HHD9      int64  \n",
      " 163  HHD10     int64  \n",
      " 164  HHD11     int64  \n",
      " 165  HHD12     int64  \n",
      " 166  ETHC1     int64  \n",
      " 167  ETHC2     int64  \n",
      " 168  ETHC3     int64  \n",
      " 169  ETHC4     int64  \n",
      " 170  ETHC5     int64  \n",
      " 171  ETHC6     int64  \n",
      " 172  HVP1      int64  \n",
      " 173  HVP2      int64  \n",
      " 174  HVP3      int64  \n",
      " 175  HVP4      int64  \n",
      " 176  HVP5      int64  \n",
      " 177  HVP6      int64  \n",
      " 178  HUR1      int64  \n",
      " 179  HUR2      int64  \n",
      " 180  RHP1      int64  \n",
      " 181  RHP2      int64  \n",
      " 182  RHP3      int64  \n",
      " 183  RHP4      int64  \n",
      " 184  HUPA1     int64  \n",
      " 185  HUPA2     int64  \n",
      " 186  HUPA3     int64  \n",
      " 187  HUPA4     int64  \n",
      " 188  HUPA5     int64  \n",
      " 189  HUPA6     int64  \n",
      " 190  HUPA7     int64  \n",
      " 191  RP1       int64  \n",
      " 192  RP2       int64  \n",
      " 193  RP3       int64  \n",
      " 194  RP4       int64  \n",
      " 195  MSA       float64\n",
      " 196  ADI       float64\n",
      " 197  DMA       float64\n",
      " 198  IC1       int64  \n",
      " 199  IC2       int64  \n",
      " 200  IC3       int64  \n",
      " 201  IC4       int64  \n",
      " 202  IC5       int64  \n",
      " 203  IC6       int64  \n",
      " 204  IC7       int64  \n",
      " 205  IC8       int64  \n",
      " 206  IC9       int64  \n",
      " 207  IC10      int64  \n",
      " 208  IC11      int64  \n",
      " 209  IC12      int64  \n",
      " 210  IC13      int64  \n",
      " 211  IC14      int64  \n",
      " 212  IC15      int64  \n",
      " 213  IC16      int64  \n",
      " 214  IC17      int64  \n",
      " 215  IC18      int64  \n",
      " 216  IC19      int64  \n",
      " 217  IC20      int64  \n",
      " 218  IC21      int64  \n",
      " 219  IC22      int64  \n",
      " 220  IC23      int64  \n",
      " 221  HHAS1     int64  \n",
      " 222  HHAS2     int64  \n",
      " 223  HHAS3     int64  \n",
      " 224  HHAS4     int64  \n",
      " 225  MC1       int64  \n",
      " 226  MC2       int64  \n",
      " 227  MC3       int64  \n",
      " 228  TPE1      int64  \n",
      " 229  TPE2      int64  \n",
      " 230  TPE3      int64  \n",
      " 231  TPE4      int64  \n",
      " 232  TPE5      int64  \n",
      " 233  TPE6      int64  \n",
      " 234  TPE7      int64  \n",
      " 235  TPE8      int64  \n",
      " 236  TPE9      int64  \n",
      " 237  PEC1      int64  \n",
      " 238  PEC2      int64  \n",
      " 239  TPE10     int64  \n",
      " 240  TPE11     int64  \n",
      " 241  TPE12     int64  \n",
      " 242  TPE13     int64  \n",
      " 243  LFC1      int64  \n",
      " 244  LFC2      int64  \n",
      " 245  LFC3      int64  \n",
      " 246  LFC4      int64  \n",
      " 247  LFC5      int64  \n",
      " 248  LFC6      int64  \n",
      " 249  LFC7      int64  \n",
      " 250  LFC8      int64  \n",
      " 251  LFC9      int64  \n",
      " 252  LFC10     int64  \n",
      " 253  OCC1      int64  \n",
      " 254  OCC2      int64  \n",
      " 255  OCC3      int64  \n",
      " 256  OCC4      int64  \n",
      " 257  OCC5      int64  \n",
      " 258  OCC6      int64  \n",
      " 259  OCC7      int64  \n",
      " 260  OCC8      int64  \n",
      " 261  OCC9      int64  \n",
      " 262  OCC10     int64  \n",
      " 263  OCC11     int64  \n",
      " 264  OCC12     int64  \n",
      " 265  OCC13     int64  \n",
      " 266  EIC1      int64  \n",
      " 267  EIC2      int64  \n",
      " 268  EIC3      int64  \n",
      " 269  EIC4      int64  \n",
      " 270  EIC5      int64  \n",
      " 271  EIC6      int64  \n",
      " 272  EIC7      int64  \n",
      " 273  EIC8      int64  \n",
      " 274  EIC9      int64  \n",
      " 275  EIC10     int64  \n",
      " 276  EIC11     int64  \n",
      " 277  EIC12     int64  \n",
      " 278  EIC13     int64  \n",
      " 279  EIC14     int64  \n",
      " 280  EIC15     int64  \n",
      " 281  EIC16     int64  \n",
      " 282  OEDC1     int64  \n",
      " 283  OEDC2     int64  \n",
      " 284  OEDC3     int64  \n",
      " 285  OEDC4     int64  \n",
      " 286  OEDC5     int64  \n",
      " 287  OEDC6     int64  \n",
      " 288  OEDC7     int64  \n",
      " 289  EC1       int64  \n",
      " 290  EC2       int64  \n",
      " 291  EC3       int64  \n",
      " 292  EC4       int64  \n",
      " 293  EC5       int64  \n",
      " 294  EC6       int64  \n",
      " 295  EC7       int64  \n",
      " 296  EC8       int64  \n",
      " 297  SEC1      int64  \n",
      " 298  SEC2      int64  \n",
      " 299  SEC3      int64  \n",
      " 300  SEC4      int64  \n",
      " 301  SEC5      int64  \n",
      " 302  AFC1      int64  \n",
      " 303  AFC2      int64  \n",
      " 304  AFC3      int64  \n",
      " 305  AFC4      int64  \n",
      " 306  AFC5      int64  \n",
      " 307  AFC6      int64  \n",
      " 308  VC1       int64  \n",
      " 309  VC2       int64  \n",
      " 310  VC3       int64  \n",
      " 311  VC4       int64  \n",
      " 312  ANC1      int64  \n",
      " 313  ANC2      int64  \n",
      " 314  ANC3      int64  \n",
      " 315  ANC4      int64  \n",
      " 316  ANC5      int64  \n",
      " 317  ANC6      int64  \n",
      " 318  ANC7      int64  \n",
      " 319  ANC8      int64  \n",
      " 320  ANC9      int64  \n",
      " 321  ANC10     int64  \n",
      " 322  ANC11     int64  \n",
      " 323  ANC12     int64  \n",
      " 324  ANC13     int64  \n",
      " 325  ANC14     int64  \n",
      " 326  ANC15     int64  \n",
      " 327  POBC1     int64  \n",
      " 328  POBC2     int64  \n",
      " 329  LSC1      int64  \n",
      " 330  LSC2      int64  \n",
      " 331  LSC3      int64  \n",
      " 332  LSC4      int64  \n",
      " 333  VOC1      int64  \n",
      " 334  VOC2      int64  \n",
      " 335  VOC3      int64  \n",
      " 336  HC1       int64  \n",
      " 337  HC2       int64  \n",
      " 338  HC3       int64  \n",
      " 339  HC4       int64  \n",
      " 340  HC5       int64  \n",
      " 341  HC6       int64  \n",
      " 342  HC7       int64  \n",
      " 343  HC8       int64  \n",
      " 344  HC9       int64  \n",
      " 345  HC10      int64  \n",
      " 346  HC11      int64  \n",
      " 347  HC12      int64  \n",
      " 348  HC13      int64  \n",
      " 349  HC14      int64  \n",
      " 350  HC15      int64  \n",
      " 351  HC16      int64  \n",
      " 352  HC17      int64  \n",
      " 353  HC18      int64  \n",
      " 354  HC19      int64  \n",
      " 355  HC20      int64  \n",
      " 356  HC21      int64  \n",
      " 357  MHUC1     int64  \n",
      " 358  MHUC2     int64  \n",
      " 359  AC1       int64  \n",
      " 360  AC2       int64  \n",
      " 361  ADATE_2   int64  \n",
      " 362  ADATE_3   float64\n",
      " 363  ADATE_4   float64\n",
      " 364  ADATE_5   float64\n",
      " 365  ADATE_6   float64\n",
      " 366  ADATE_7   float64\n",
      " 367  ADATE_8   float64\n",
      " 368  ADATE_9   float64\n",
      " 369  ADATE_10  float64\n",
      " 370  ADATE_11  float64\n",
      " 371  ADATE_12  float64\n",
      " 372  ADATE_13  float64\n",
      " 373  ADATE_14  float64\n",
      " 374  ADATE_15  float64\n",
      " 375  ADATE_16  float64\n",
      " 376  ADATE_17  float64\n",
      " 377  ADATE_18  float64\n",
      " 378  ADATE_19  float64\n",
      " 379  ADATE_20  float64\n",
      " 380  ADATE_21  float64\n",
      " 381  ADATE_22  float64\n",
      " 382  ADATE_23  float64\n",
      " 383  ADATE_24  float64\n",
      " 384  RFA_2     object \n",
      " 385  RFA_3     object \n",
      " 386  RFA_4     object \n",
      " 387  RFA_5     object \n",
      " 388  RFA_6     object \n",
      " 389  RFA_7     object \n",
      " 390  RFA_8     object \n",
      " 391  RFA_9     object \n",
      " 392  RFA_10    object \n",
      " 393  RFA_11    object \n",
      " 394  RFA_12    object \n",
      " 395  RFA_13    object \n",
      " 396  RFA_14    object \n",
      " 397  RFA_15    object \n",
      " 398  RFA_16    object \n",
      " 399  RFA_17    object \n",
      " 400  RFA_18    object \n",
      " 401  RFA_19    object \n",
      " 402  RFA_20    object \n",
      " 403  RFA_21    object \n",
      " 404  RFA_22    object \n",
      " 405  RFA_23    object \n",
      " 406  RFA_24    object \n",
      " 407  CARDPROM  int64  \n",
      " 408  MAXADATE  int64  \n",
      " 409  NUMPROM   int64  \n",
      " 410  CARDPM12  int64  \n",
      " 411  NUMPRM12  int64  \n",
      " 412  RDATE_3   float64\n",
      " 413  RDATE_4   float64\n",
      " 414  RDATE_5   float64\n",
      " 415  RDATE_6   float64\n",
      " 416  RDATE_7   float64\n",
      " 417  RDATE_8   float64\n",
      " 418  RDATE_9   float64\n",
      " 419  RDATE_10  float64\n",
      " 420  RDATE_11  float64\n",
      " 421  RDATE_12  float64\n",
      " 422  RDATE_13  float64\n",
      " 423  RDATE_14  float64\n",
      " 424  RDATE_15  float64\n",
      " 425  RDATE_16  float64\n",
      " 426  RDATE_17  float64\n",
      " 427  RDATE_18  float64\n",
      " 428  RDATE_19  float64\n",
      " 429  RDATE_20  float64\n",
      " 430  RDATE_21  float64\n",
      " 431  RDATE_22  float64\n",
      " 432  RDATE_23  float64\n",
      " 433  RDATE_24  float64\n",
      " 434  RAMNT_3   float64\n",
      " 435  RAMNT_4   float64\n",
      " 436  RAMNT_5   float64\n",
      " 437  RAMNT_6   float64\n",
      " 438  RAMNT_7   float64\n",
      " 439  RAMNT_8   float64\n",
      " 440  RAMNT_9   float64\n",
      " 441  RAMNT_10  float64\n",
      " 442  RAMNT_11  float64\n",
      " 443  RAMNT_12  float64\n",
      " 444  RAMNT_13  float64\n",
      " 445  RAMNT_14  float64\n",
      " 446  RAMNT_15  float64\n",
      " 447  RAMNT_16  float64\n",
      " 448  RAMNT_17  float64\n",
      " 449  RAMNT_18  float64\n",
      " 450  RAMNT_19  float64\n",
      " 451  RAMNT_20  float64\n",
      " 452  RAMNT_21  float64\n",
      " 453  RAMNT_22  float64\n",
      " 454  RAMNT_23  float64\n",
      " 455  RAMNT_24  float64\n",
      " 456  RAMNTALL  float64\n",
      " 457  NGIFTALL  int64  \n",
      " 458  CARDGIFT  int64  \n",
      " 459  MINRAMNT  float64\n",
      " 460  MINRDATE  int64  \n",
      " 461  MAXRAMNT  float64\n",
      " 462  MAXRDATE  int64  \n",
      " 463  LASTGIFT  float64\n",
      " 464  LASTDATE  int64  \n",
      " 465  FISTDATE  int64  \n",
      " 466  NEXTDATE  float64\n",
      " 467  TIMELAG   float64\n",
      " 468  AVGGIFT   float64\n",
      " 469  CONTROLN  int64  \n",
      " 470  HPHONE_D  int64  \n",
      " 471  RFA_2R    object \n",
      " 472  RFA_2F    int64  \n",
      " 473  RFA_2A    object \n",
      " 474  MDMAUD_R  object \n",
      " 475  MDMAUD_F  object \n",
      " 476  MDMAUD_A  object \n",
      " 477  CLUSTER2  float64\n",
      " 478  GEOCODE2  object \n",
      "dtypes: float64(96), int64(309), object(74)\n",
      "memory usage: 352.2+ MB\n"
     ]
    }
   ],
   "source": [
    "df_features_test.info(verbose=True)"
   ]
  },
  {
   "cell_type": "code",
   "execution_count": 55,
   "metadata": {},
   "outputs": [
    {
     "name": "stdout",
     "output_type": "stream",
     "text": [
      "ODATEDW       0\n",
      "OSOURCE       0\n",
      "TCODE         0\n",
      "STATE         0\n",
      "ZIP           0\n",
      "           ... \n",
      "MDMAUD_R      0\n",
      "MDMAUD_F      0\n",
      "MDMAUD_A      0\n",
      "CLUSTER2    128\n",
      "GEOCODE2    128\n",
      "Length: 479, dtype: int64\n",
      "Total number of NaN in the dataframe:  5212774\n"
     ]
    }
   ],
   "source": [
    "print(df_features_test.isnull().sum())\n",
    "print('Total number of NaN in the dataframe: ', df_features_test.isnull().sum().sum())"
   ]
  },
  {
   "cell_type": "code",
   "execution_count": 56,
   "metadata": {},
   "outputs": [
    {
     "name": "stdout",
     "output_type": "stream",
     "text": [
      "Filling X/Blank colunms with values: ['RECINHSE', 'RECP3', 'RECPGVG', 'RECSWEEP']\n",
      "Filling integer colunms with zeros: ['MBCRAFT', 'MBGARDEN', 'MBBOOKS', 'MBCOLECT', 'MAGFAML', 'MAGFEM', 'MAGMALE', 'PUBGARDN', 'PUBCULIN', 'PUBHLTH', 'PUBDOITY', 'PUBNEWFN', 'PUBPHOTO', 'PUBOPP']\n",
      "Filling Y/N colunms with values: ['COLLECT1', 'VETERANS', 'BIBLE', 'CATLG', 'HOMEE', 'PETS', 'CDPLAY', 'STEREO', 'PCOWNERS', 'PHOTO', 'CRAFTS', 'FISHER', 'GARDENIN', 'BOATS', 'WALKER', 'KIDSTUFF', 'CARDS', 'PLATES']\n",
      "Dropping colunms: ['POP901', 'POP902', 'POP903', 'POP90C1', 'POP90C2', 'POP90C3', 'POP90C4', 'POP90C5', 'ETH1', 'ETH2', 'ETH3', 'ETH4', 'ETH5', 'ETH6', 'ETH7', 'ETH8', 'ETH9', 'ETH10', 'ETH11', 'ETH12', 'ETH13', 'ETH14', 'ETH15', 'ETH16', 'AGE901', 'AGE902', 'AGE903', 'AGE904', 'AGE905', 'AGE906', 'AGE907', 'CHIL1', 'CHIL2', 'CHIL3', 'AGEC1', 'AGEC2', 'AGEC3', 'AGEC4', 'AGEC5', 'AGEC6', 'AGEC7', 'CHILC1', 'CHILC2', 'CHILC3', 'CHILC4', 'CHILC5', 'HHAGE1', 'HHAGE2', 'HHAGE3', 'HHN1', 'HHN2', 'HHN3', 'HHN4', 'HHN5', 'HHN6', 'MARR1', 'MARR2', 'MARR3', 'MARR4', 'HHP1', 'HHP2', 'DW1', 'DW2', 'DW3', 'DW4', 'DW5', 'DW6', 'DW7', 'DW8', 'DW9', 'HV1', 'HV2', 'HV3', 'HV4', 'HU1', 'HU2', 'HU3', 'HU4', 'HU5', 'HHD1', 'HHD2', 'HHD3', 'HHD4', 'HHD5', 'HHD6', 'HHD7', 'HHD8', 'HHD9', 'HHD10', 'HHD11', 'HHD12', 'ETHC1', 'ETHC2', 'ETHC3', 'ETHC4', 'ETHC5', 'ETHC6', 'HVP1', 'HVP2', 'HVP3', 'HVP4', 'HVP5', 'HVP6', 'HUR1', 'HUR2', 'RHP1', 'RHP2', 'RHP3', 'RHP4', 'HUPA1', 'HUPA2', 'HUPA3', 'HUPA4', 'HUPA5', 'HUPA6', 'HUPA7', 'RP1', 'RP2', 'RP3', 'RP4', 'MSA', 'ADI', 'DMA', 'IC1', 'IC2', 'IC3', 'IC4', 'IC5', 'IC6', 'IC7', 'IC8', 'IC9', 'IC10', 'IC11', 'IC12', 'IC13', 'IC14', 'IC15', 'IC16', 'IC17', 'IC18', 'IC19', 'IC20', 'IC21', 'IC22', 'IC23', 'HHAS1', 'HHAS2', 'HHAS3', 'HHAS4', 'MC1', 'MC2', 'MC3', 'TPE1', 'TPE2', 'TPE3', 'TPE4', 'TPE5', 'TPE6', 'TPE7', 'TPE8', 'TPE9', 'PEC1', 'PEC2', 'TPE10', 'TPE11', 'TPE12', 'TPE13', 'LFC1', 'LFC2', 'LFC3', 'LFC4', 'LFC5', 'LFC6', 'LFC7', 'LFC8', 'LFC9', 'LFC10', 'OCC1', 'OCC2', 'OCC3', 'OCC4', 'OCC5', 'OCC6', 'OCC7', 'OCC8', 'OCC9', 'OCC10', 'OCC11', 'OCC12', 'OCC13', 'EIC1', 'EIC2', 'EIC3', 'EIC4', 'EIC5', 'EIC6', 'EIC7', 'EIC8', 'EIC9', 'EIC10', 'EIC11', 'EIC12', 'EIC13', 'EIC14', 'EIC15', 'EIC16', 'OEDC1', 'OEDC2', 'OEDC3', 'OEDC4', 'OEDC5', 'OEDC6', 'OEDC7', 'EC1', 'EC2', 'EC3', 'EC4', 'EC5', 'EC6', 'EC7', 'EC8', 'SEC1', 'SEC2', 'SEC3', 'SEC4', 'SEC5', 'AFC1', 'AFC2', 'AFC3', 'AFC4', 'AFC5', 'AFC6', 'VC1', 'VC2', 'VC3', 'VC4', 'ANC1', 'ANC2', 'ANC3', 'ANC4', 'ANC5', 'ANC6', 'ANC7', 'ANC8', 'ANC9', 'ANC10', 'ANC11', 'ANC12', 'ANC13', 'ANC14', 'ANC15', 'POBC1', 'POBC2', 'LSC1', 'LSC2', 'LSC3', 'LSC4', 'VOC1', 'VOC2', 'VOC3', 'HC1', 'HC2', 'HC3', 'HC4', 'HC5', 'HC6', 'HC7', 'HC8', 'HC9', 'HC10', 'HC11', 'HC12', 'HC13', 'HC14', 'HC15', 'HC16', 'HC17', 'HC18', 'HC19', 'HC20', 'HC21', 'MHUC1', 'MHUC2', 'AC1', 'AC2']\n",
      "Dropping colunms: ['ADATE_2', 'ADATE_3', 'ADATE_4', 'ADATE_5', 'ADATE_6', 'ADATE_7', 'ADATE_8', 'ADATE_9', 'ADATE_10', 'ADATE_11', 'ADATE_12', 'ADATE_13', 'ADATE_14', 'ADATE_15', 'ADATE_16', 'ADATE_17', 'ADATE_18', 'ADATE_19', 'ADATE_20', 'ADATE_21', 'ADATE_22', 'ADATE_23', 'ADATE_24', 'RFA_2', 'RFA_3', 'RFA_4', 'RFA_5', 'RFA_6', 'RFA_7', 'RFA_8', 'RFA_9', 'RFA_10', 'RFA_11', 'RFA_12', 'RFA_13', 'RFA_14', 'RFA_15', 'RFA_16', 'RFA_17', 'RFA_18', 'RFA_19', 'RFA_20', 'RFA_21', 'RFA_22', 'RFA_23', 'RFA_24']\n",
      "Dropping colunms: ['CARDPROM', 'MAXADATE', 'NUMPROM', 'CARDPM12', 'NUMPRM12']\n",
      "Dropping colunms: ['RDATE_3', 'RDATE_4', 'RDATE_5', 'RDATE_6', 'RDATE_7', 'RDATE_8', 'RDATE_9', 'RDATE_10', 'RDATE_11', 'RDATE_12', 'RDATE_13', 'RDATE_14', 'RDATE_15', 'RDATE_16', 'RDATE_17', 'RDATE_18', 'RDATE_19', 'RDATE_20', 'RDATE_21', 'RDATE_22', 'RDATE_23', 'RDATE_24', 'RAMNT_3', 'RAMNT_4', 'RAMNT_5', 'RAMNT_6', 'RAMNT_7', 'RAMNT_8', 'RAMNT_9', 'RAMNT_10', 'RAMNT_11', 'RAMNT_12', 'RAMNT_13', 'RAMNT_14', 'RAMNT_15', 'RAMNT_16', 'RAMNT_17', 'RAMNT_18', 'RAMNT_19', 'RAMNT_20', 'RAMNT_21', 'RAMNT_22', 'RAMNT_23', 'RAMNT_24']\n",
      "Dropping colunms: ['RAMNTALL', 'NGIFTALL', 'CARDGIFT', 'MINRAMNT', 'MINRDATE', 'MAXRAMNT', 'MAXRDATE', 'LASTGIFT', 'LASTDATE', 'FISTDATE', 'NEXTDATE', 'TIMELAG', 'AVGGIFT']\n"
     ]
    }
   ],
   "source": [
    "# Clean up the training dataset\n",
    "clean_dataset(df_features_test)"
   ]
  },
  {
   "cell_type": "code",
   "execution_count": 57,
   "metadata": {},
   "outputs": [
    {
     "name": "stdout",
     "output_type": "stream",
     "text": [
      "  PVASTATE  RECINHSE  RECP3  RECPGVG  RECSWEEP  AGE HOMEOWNR CHILD03 CHILD07  \\\n",
      "0        U         1      0        0         0   81        U       U       U   \n",
      "1        U         0      0        0         0   83        U       U       U   \n",
      "2        U         0      0        0         0   68        U       U       U   \n",
      "3        U         0      0        0         0   48        U       U       U   \n",
      "4        U         0      0        0         0   44        H       U       U   \n",
      "\n",
      "  CHILD12  ... PLATES  PEPSTRFL  HPHONE_D RFA_2F  RFA_2A  MDMAUD_R  MDMAUD_F  \\\n",
      "0       U  ...      0         0         1      1       G         X         X   \n",
      "1       U  ...      0         0         1      1       F         X         X   \n",
      "2       U  ...      0         0         1      1       G         X         X   \n",
      "3       U  ...      0         0         0      1       F         X         X   \n",
      "4       M  ...      0         1         1      3       E         X         X   \n",
      "\n",
      "   MDMAUD_A  DOMAIN_URB  DOMAIN_SES  \n",
      "0         X           T           1  \n",
      "1         X           C           1  \n",
      "2         X           C           2  \n",
      "3         X           R           2  \n",
      "4         X           S           1  \n",
      "\n",
      "[5 rows x 68 columns]\n"
     ]
    }
   ],
   "source": [
    "# Take a peek at the dataframe after cleaning\n",
    "print(df_features_test.head())"
   ]
  },
  {
   "cell_type": "code",
   "execution_count": 58,
   "metadata": {},
   "outputs": [
    {
     "name": "stdout",
     "output_type": "stream",
     "text": [
      "<class 'pandas.core.frame.DataFrame'>\n",
      "RangeIndex: 96367 entries, 0 to 96366\n",
      "Data columns (total 68 columns):\n",
      " #   Column      Non-Null Count  Dtype \n",
      "---  ------      --------------  ----- \n",
      " 0   PVASTATE    96367 non-null  object\n",
      " 1   RECINHSE    96367 non-null  int64 \n",
      " 2   RECP3       96367 non-null  int64 \n",
      " 3   RECPGVG     96367 non-null  int64 \n",
      " 4   RECSWEEP    96367 non-null  int64 \n",
      " 5   AGE         96367 non-null  int64 \n",
      " 6   HOMEOWNR    96367 non-null  object\n",
      " 7   CHILD03     96367 non-null  object\n",
      " 8   CHILD07     96367 non-null  object\n",
      " 9   CHILD12     96367 non-null  object\n",
      " 10  CHILD18     96367 non-null  object\n",
      " 11  NUMCHLD     96367 non-null  int64 \n",
      " 12  INCOME      96367 non-null  int64 \n",
      " 13  GENDER      96367 non-null  object\n",
      " 14  WEALTH1     96367 non-null  int64 \n",
      " 15  HIT         96367 non-null  int64 \n",
      " 16  MBCRAFT     96367 non-null  int64 \n",
      " 17  MBGARDEN    96367 non-null  int64 \n",
      " 18  MBBOOKS     96367 non-null  int64 \n",
      " 19  MBCOLECT    96367 non-null  int64 \n",
      " 20  MAGFAML     96367 non-null  int64 \n",
      " 21  MAGFEM      96367 non-null  int64 \n",
      " 22  MAGMALE     96367 non-null  int64 \n",
      " 23  PUBGARDN    96367 non-null  int64 \n",
      " 24  PUBCULIN    96367 non-null  int64 \n",
      " 25  PUBHLTH     96367 non-null  int64 \n",
      " 26  PUBDOITY    96367 non-null  int64 \n",
      " 27  PUBNEWFN    96367 non-null  int64 \n",
      " 28  PUBPHOTO    96367 non-null  int64 \n",
      " 29  PUBOPP      96367 non-null  int64 \n",
      " 30  MALEMILI    96367 non-null  int64 \n",
      " 31  MALEVET     96367 non-null  int64 \n",
      " 32  VIETVETS    96367 non-null  int64 \n",
      " 33  WWIIVETS    96367 non-null  int64 \n",
      " 34  LOCALGOV    96367 non-null  int64 \n",
      " 35  STATEGOV    96367 non-null  int64 \n",
      " 36  FEDGOV      96367 non-null  int64 \n",
      " 37  SOLP3       96367 non-null  int64 \n",
      " 38  SOLIH       96367 non-null  int64 \n",
      " 39  MAJOR       96367 non-null  int64 \n",
      " 40  WEALTH2     96367 non-null  int64 \n",
      " 41  COLLECT1    96367 non-null  int64 \n",
      " 42  VETERANS    96367 non-null  int64 \n",
      " 43  BIBLE       96367 non-null  int64 \n",
      " 44  CATLG       96367 non-null  int64 \n",
      " 45  HOMEE       96367 non-null  int64 \n",
      " 46  PETS        96367 non-null  int64 \n",
      " 47  CDPLAY      96367 non-null  int64 \n",
      " 48  STEREO      96367 non-null  int64 \n",
      " 49  PCOWNERS    96367 non-null  int64 \n",
      " 50  PHOTO       96367 non-null  int64 \n",
      " 51  CRAFTS      96367 non-null  int64 \n",
      " 52  FISHER      96367 non-null  int64 \n",
      " 53  GARDENIN    96367 non-null  int64 \n",
      " 54  BOATS       96367 non-null  int64 \n",
      " 55  WALKER      96367 non-null  int64 \n",
      " 56  KIDSTUFF    96367 non-null  int64 \n",
      " 57  CARDS       96367 non-null  int64 \n",
      " 58  PLATES      96367 non-null  int64 \n",
      " 59  PEPSTRFL    96367 non-null  int64 \n",
      " 60  HPHONE_D    96367 non-null  int64 \n",
      " 61  RFA_2F      96367 non-null  int64 \n",
      " 62  RFA_2A      96367 non-null  object\n",
      " 63  MDMAUD_R    96367 non-null  object\n",
      " 64  MDMAUD_F    96367 non-null  object\n",
      " 65  MDMAUD_A    96367 non-null  object\n",
      " 66  DOMAIN_URB  96367 non-null  object\n",
      " 67  DOMAIN_SES  96367 non-null  object\n",
      "dtypes: int64(55), object(13)\n",
      "memory usage: 50.0+ MB\n"
     ]
    }
   ],
   "source": [
    "df_features_test.info(verbose=True)"
   ]
  },
  {
   "cell_type": "code",
   "execution_count": 59,
   "metadata": {},
   "outputs": [
    {
     "name": "stdout",
     "output_type": "stream",
     "text": [
      "PVASTATE      0\n",
      "RECINHSE      0\n",
      "RECP3         0\n",
      "RECPGVG       0\n",
      "RECSWEEP      0\n",
      "             ..\n",
      "MDMAUD_R      0\n",
      "MDMAUD_F      0\n",
      "MDMAUD_A      0\n",
      "DOMAIN_URB    0\n",
      "DOMAIN_SES    0\n",
      "Length: 68, dtype: int64\n",
      "Total number of NaN in the dataframe:  0\n"
     ]
    }
   ],
   "source": [
    "print(df_features_test.isnull().sum())\n",
    "print('Total number of NaN in the dataframe: ', df_features_test.isnull().sum().sum())"
   ]
  },
  {
   "cell_type": "code",
   "execution_count": 60,
   "metadata": {},
   "outputs": [],
   "source": [
    "if not os.path.exists(TARGET_DATASET):\n",
    "    !wget https://dainesanalytics.com/datasets/ucirvine-kdd-cup-1998/valtargt.txt"
   ]
  },
  {
   "cell_type": "code",
   "execution_count": 61,
   "metadata": {},
   "outputs": [
    {
     "name": "stdout",
     "output_type": "stream",
     "text": [
      "   CONTROLN  TARGET_B  TARGET_D\n",
      "0         3         0       0.0\n",
      "1         6         0       0.0\n",
      "2         9         0       0.0\n",
      "3        11         0       0.0\n",
      "4        16         0       0.0\n"
     ]
    }
   ],
   "source": [
    "df_target_test = pd.read_csv(TARGET_DATASET, sep=',', index_col=False)\n",
    "\n",
    "# Take a peek at the dataframe after import\n",
    "print(df_target_test.head())"
   ]
  },
  {
   "cell_type": "code",
   "execution_count": 62,
   "metadata": {},
   "outputs": [
    {
     "name": "stdout",
     "output_type": "stream",
     "text": [
      "   TARGET_B\n",
      "0         0\n",
      "1         0\n",
      "2         0\n",
      "3         0\n",
      "4         0\n"
     ]
    }
   ],
   "source": [
    "# Drop unimportant features from various info sections\n",
    "df_target_test.drop(columns=['CONTROLN','TARGET_D'], inplace=True)\n",
    "\n",
    "# Take a peek at the dataframe after import\n",
    "print(df_target_test.head())"
   ]
  },
  {
   "cell_type": "code",
   "execution_count": 63,
   "metadata": {},
   "outputs": [
    {
     "name": "stdout",
     "output_type": "stream",
     "text": [
      "array_features_test.shape: (96367, 111) array_target_test.shape: (96367,)\n"
     ]
    }
   ],
   "source": [
    "# Finalize the test dataset for the testing activities\n",
    "array_features_test = preprocessor.transform(df_features_test)\n",
    "array_target_test = df_target_test['TARGET_B'].ravel()\n",
    "print(\"array_features_test.shape: {} array_target_test.shape: {}\".format(array_features_test.shape, array_target_test.shape))"
   ]
  },
  {
   "cell_type": "code",
   "execution_count": 64,
   "metadata": {},
   "outputs": [
    {
     "name": "stdout",
     "output_type": "stream",
     "text": [
      "[0 0 0 ... 0 0 0]\n"
     ]
    }
   ],
   "source": [
    "# Make batched predictions\n",
    "test_predictions = final_model.predict(array_features_test)\n",
    "print(test_predictions)"
   ]
  },
  {
   "cell_type": "code",
   "execution_count": 65,
   "metadata": {},
   "outputs": [
    {
     "name": "stdout",
     "output_type": "stream",
     "text": [
      "Accuracy Score: 0.8399763404484938\n",
      "ROC/AUC Score: 0.5002531253418888\n",
      "[[80350 11144]\n",
      " [ 4277   596]]\n",
      "              precision    recall  f1-score   support\n",
      "\n",
      "           0       0.95      0.88      0.91     91494\n",
      "           1       0.05      0.12      0.07      4873\n",
      "\n",
      "    accuracy                           0.84     96367\n",
      "   macro avg       0.50      0.50      0.49     96367\n",
      "weighted avg       0.90      0.84      0.87     96367\n",
      "\n"
     ]
    }
   ],
   "source": [
    "print('Accuracy Score:', accuracy_score(array_target_test, test_predictions))\n",
    "print('ROC/AUC Score:', roc_auc_score(array_target_test, test_predictions))\n",
    "print(confusion_matrix(array_target_test, test_predictions))\n",
    "print(classification_report(array_target_test, test_predictions))"
   ]
  },
  {
   "cell_type": "code",
   "execution_count": 66,
   "metadata": {},
   "outputs": [],
   "source": [
    "if NOTIFY_STATUS: status_notify(\"Task 5 - Finalize Model and Make Predictions completed! \" + datetime.now().strftime('%a %B %d, %Y %I:%M:%S %p'))"
   ]
  },
  {
   "cell_type": "code",
   "execution_count": 67,
   "metadata": {},
   "outputs": [
    {
     "name": "stdout",
     "output_type": "stream",
     "text": [
      "Total time for the script: 0:06:46.603818\n"
     ]
    }
   ],
   "source": [
    "print ('Total time for the script:',(datetime.now() - START_TIME_SCRIPT))"
   ]
  }
 ],
 "metadata": {
  "kernelspec": {
   "display_name": "Python 3 (ipykernel)",
   "language": "python",
   "name": "python3"
  },
  "language_info": {
   "codemirror_mode": {
    "name": "ipython",
    "version": 3
   },
   "file_extension": ".py",
   "mimetype": "text/x-python",
   "name": "python",
   "nbconvert_exporter": "python",
   "pygments_lexer": "ipython3",
   "version": "3.8.10"
  }
 },
 "nbformat": 4,
 "nbformat_minor": 4
}

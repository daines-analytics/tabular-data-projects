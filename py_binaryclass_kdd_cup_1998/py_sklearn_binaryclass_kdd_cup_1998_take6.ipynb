{
  "cells": [
    {
      "cell_type": "markdown",
      "metadata": {
        "id": "MGJFM1i10HA_"
      },
      "source": [
        "# Binary-Class Model for KDD Cup 1998 Using Python and Scikit-Learn Take 6\n",
        "### David Lowe\n",
        "### April 12, 2022\n",
        "\n",
        "SUMMARY: The project aims to construct a predictive model using various machine learning algorithms and document the end-to-end steps using a template. The Acoustic Extinguisher Fire dataset is a binary-class modeling situation where we attempt to predict one of two possible outcomes.\n",
        "\n",
        "INTRODUCTION: This is the data set used for The Second International Knowledge Discovery and Data Mining Tools Competition, held in conjunction with KDD-98, The Fourth International Conference on Knowledge Discovery and Data Mining. The modeling task is a binary classification problem where the goal is to estimate the likelihood of donation from a direct mailing campaign.\n",
        "\n",
        "In the Take1 iteration, we built and tested models using a minimal set of basic features. The model will serve as the baseline result as we add more features in future iterations.\n",
        "\n",
        "In the Take2 iteration, we built and tested models with additional features from third-party data sources.\n",
        "\n",
        "In the Take3 iteration, we built and tested models with additional features from the US Census data.\n",
        "\n",
        "In the Take4 iteration, we built and tested models with additional features from the promotion history data.\n",
        "\n",
        "In the Take5 iteration, we built and tested models with additional features from the giving history data.\n",
        "\n",
        "In this iteration, we will build and test models with additional features engineered from the giving history features.\n",
        "\n",
        "ANALYSIS: In the Take1 iteration, the average performance of the machine learning algorithms achieved a ROC/AUC benchmark of 70.99% using the training dataset. Furthermore, we selected Random Forest as the final model as it processed the training dataset with a final ROC/AUC score of 77.23%. When we processed the test dataset with the last model, the model achieved a ROC/AUC score of 50.42%.\n",
        "\n",
        "In the Take2 iteration, the average performance of the machine learning algorithms achieved a ROC/AUC benchmark of 71.92% using the training dataset. Furthermore, we selected Extra Trees as the final model as it processed the training dataset with a final ROC/AUC score of 79.79%. When we processed the test dataset with the last model, the model achieved a ROC/AUC score of 50.02%.\n",
        "\n",
        "In the Take3 iteration, the average performance of the machine learning algorithms achieved a ROC/AUC benchmark of 72.72% using the training dataset. Furthermore, we selected Extra Trees as the final model as it processed the training dataset with a final ROC/AUC score of 85.02%. When we processed the test dataset with the last model, the model achieved a ROC/AUC score of 50.20%.\n",
        "\n",
        "In the Take4 iteration, the average performance of the machine learning algorithms achieved a ROC/AUC benchmark of 72.56% using the training dataset. Furthermore, we selected Extra Trees as the final model as it processed the training dataset with a final ROC/AUC score of 82.28%. When we processed the test dataset with the last model, the model achieved a ROC/AUC score of 50.18%.\n",
        "\n",
        "In the Take5 iteration, the average performance of the machine learning algorithms achieved a ROC/AUC benchmark of 72.80% using the training dataset. Furthermore, we selected Extra Trees as the final model as it processed the training dataset with a final ROC/AUC score of 82.39%. When we processed the test dataset with the last model, the model achieved a ROC/AUC score of 50.27%.\n",
        "\n",
        "In this iteration, the average performance of the machine learning algorithms achieved a ROC/AUC benchmark of 71.34% using the training dataset. Furthermore, we selected Extra Trees as the final model as it processed the training dataset with a final ROC/AUC score of 82.69%. When we processed the test dataset with the last model, the model achieved a ROC/AUC score of 50.03%.\n",
        "\n",
        "CONCLUSION: In this iteration, the Extra Trees model appeared to be suitable for modeling this dataset. However, we should explore the possibilities of using more features from the dataset to model this problem.\n",
        "\n",
        "Dataset Used: KDD Cup 1998 Dataset\n",
        "\n",
        "Dataset ML Model: Binary classification with numerical and categorical features\n",
        "\n",
        "Dataset Reference: https://kdd.org/kdd-cup/view/kdd-cup-1998/Data"
      ]
    },
    {
      "cell_type": "markdown",
      "metadata": {
        "id": "rJmRpnAM0HBC"
      },
      "source": [
        "## Task 1 - Prepare Environment"
      ]
    },
    {
      "cell_type": "code",
      "execution_count": 1,
      "metadata": {
        "id": "QSx9eKgF0HBD",
        "outputId": "d6a3bb17-f21b-432a-8c43-917a40ba608c",
        "colab": {
          "base_uri": "https://localhost:8080/"
        }
      },
      "outputs": [
        {
          "output_type": "stream",
          "name": "stdout",
          "text": [
            "The number of available CPUs is: 2\n"
          ]
        }
      ],
      "source": [
        "# Retrieve the CPU information\n",
        "ncpu = !nproc\n",
        "print(\"The number of available CPUs is:\", ncpu[0])"
      ]
    },
    {
      "cell_type": "markdown",
      "metadata": {
        "id": "zq2KH1_b0HBE"
      },
      "source": [
        "### 1.a) Load libraries and modules"
      ]
    },
    {
      "cell_type": "code",
      "execution_count": 2,
      "metadata": {
        "id": "rcl9JCQx0HBE"
      },
      "outputs": [],
      "source": [
        "# Set the random seed number for reproducible results\n",
        "RNG_SEED = 888"
      ]
    },
    {
      "cell_type": "code",
      "execution_count": 3,
      "metadata": {
        "id": "_BNI6IXk0HBF"
      },
      "outputs": [],
      "source": [
        "import numpy as np\n",
        "import pandas as pd\n",
        "import seaborn as sns\n",
        "import matplotlib.pyplot as plt\n",
        "import os\n",
        "import sys\n",
        "import math\n",
        "# import boto3\n",
        "from datetime import datetime\n",
        "from sklearn import preprocessing\n",
        "from sklearn.model_selection import train_test_split\n",
        "from sklearn.model_selection import StratifiedKFold\n",
        "from sklearn.model_selection import cross_val_score\n",
        "from sklearn.model_selection import GridSearchCV\n",
        "from sklearn.metrics import classification_report\n",
        "from sklearn.metrics import confusion_matrix\n",
        "from sklearn.metrics import accuracy_score\n",
        "from sklearn.metrics import roc_auc_score\n",
        "from sklearn.pipeline import Pipeline\n",
        "from sklearn import compose\n",
        "from sklearn import impute\n",
        "\n",
        "from sklearn.feature_selection import RFE\n",
        "from imblearn.pipeline import Pipeline\n",
        "from imblearn.over_sampling import SMOTE\n",
        "from imblearn.under_sampling import RandomUnderSampler\n",
        "\n",
        "from sklearn.linear_model import LogisticRegression\n",
        "from sklearn.tree import DecisionTreeClassifier\n",
        "from sklearn.neighbors import KNeighborsClassifier\n",
        "from sklearn.ensemble import BaggingClassifier\n",
        "from sklearn.ensemble import RandomForestClassifier\n",
        "from sklearn.ensemble import ExtraTreesClassifier"
      ]
    },
    {
      "cell_type": "markdown",
      "metadata": {
        "id": "uxCf_t0f0HBF"
      },
      "source": [
        "### 1.b) Set up the controlling parameters and functions"
      ]
    },
    {
      "cell_type": "code",
      "execution_count": 4,
      "metadata": {
        "id": "a9VboHzo0HBG"
      },
      "outputs": [],
      "source": [
        "# Begin the timer for the script processing\n",
        "START_TIME_SCRIPT = datetime.now()\n",
        "\n",
        "# Set up the number of CPU cores available for multi-thread processing\n",
        "N_JOBS = 1\n",
        "\n",
        "# Set up the flag to stop sending progress emails (setting to True will send status emails!)\n",
        "NOTIFY_STATUS = False\n",
        "\n",
        "# Set the percentage sizes for splitting the dataset\n",
        "TEST_SET_RATIO = 0.15\n",
        "VAL_SET_RATIO = 0.15\n",
        "\n",
        "# Set the number of folds for cross validation\n",
        "N_FOLDS = 5\n",
        "\n",
        "# Set default modeling scoring metric\n",
        "SCORING_METRIC = 'roc_auc'\n",
        "\n",
        "# Define the directory locations and file names\n",
        "TRAIN_DATASET = 'cup98LRN.txt'\n",
        "TEST_DATASET = 'cup98VAL.txt'\n",
        "TARGET_DATASET = 'valtargt.txt'"
      ]
    },
    {
      "cell_type": "code",
      "execution_count": 5,
      "metadata": {
        "id": "Kv91msTO0HBG"
      },
      "outputs": [],
      "source": [
        "# Set up the email notification function\n",
        "def status_notify(msg_text):\n",
        "    access_key = os.environ.get('SNS_ACCESS_KEY')\n",
        "    secret_key = os.environ.get('SNS_SECRET_KEY')\n",
        "    aws_region = os.environ.get('SNS_AWS_REGION')\n",
        "    topic_arn = os.environ.get('SNS_TOPIC_ARN')\n",
        "    if (access_key is None) or (secret_key is None) or (aws_region is None):\n",
        "        sys.exit(\"Incomplete notification setup info. Script Processing Aborted!!!\")\n",
        "    sns = boto3.client('sns', aws_access_key_id=access_key, aws_secret_access_key=secret_key, region_name=aws_region)\n",
        "    response = sns.publish(TopicArn=topic_arn, Message=msg_text)\n",
        "    if response['ResponseMetadata']['HTTPStatusCode'] != 200 :\n",
        "        print('Status notification not OK with HTTP status code:', response['ResponseMetadata']['HTTPStatusCode'])"
      ]
    },
    {
      "cell_type": "code",
      "execution_count": 6,
      "metadata": {
        "id": "YZ6IKnjZ0HBH"
      },
      "outputs": [],
      "source": [
        "if NOTIFY_STATUS: status_notify(\"Task 1 - Prepare Environment has begun! \" + datetime.now().strftime('%a %B %d, %Y %I:%M:%S %p'))"
      ]
    },
    {
      "cell_type": "markdown",
      "metadata": {
        "id": "rDs2ym460HBH"
      },
      "source": [
        "### 1.c) Load dataset"
      ]
    },
    {
      "cell_type": "code",
      "execution_count": 7,
      "metadata": {
        "id": "pAvXeEou0HBH",
        "colab": {
          "base_uri": "https://localhost:8080/"
        },
        "outputId": "b52cc470-9e58-4e1d-8108-6f62c9151e98"
      },
      "outputs": [
        {
          "output_type": "stream",
          "name": "stdout",
          "text": [
            "--2022-04-02 23:00:10--  https://dainesanalytics.com/datasets/ucirvine-kdd-cup-1998/cup98LRN.txt\n",
            "Resolving dainesanalytics.com (dainesanalytics.com)... 18.67.0.19, 18.67.0.61, 18.67.0.27, ...\n",
            "Connecting to dainesanalytics.com (dainesanalytics.com)|18.67.0.19|:443... connected.\n",
            "HTTP request sent, awaiting response... 200 OK\n",
            "Length: 117167952 (112M) [text/plain]\n",
            "Saving to: ‘cup98LRN.txt’\n",
            "\n",
            "cup98LRN.txt        100%[===================>] 111.74M  96.9MB/s    in 1.2s    \n",
            "\n",
            "2022-04-02 23:00:12 (96.9 MB/s) - ‘cup98LRN.txt’ saved [117167952/117167952]\n",
            "\n"
          ]
        }
      ],
      "source": [
        "if not os.path.exists(TRAIN_DATASET):\n",
        "    !wget https://dainesanalytics.com/datasets/ucirvine-kdd-cup-1998/cup98LRN.txt"
      ]
    },
    {
      "cell_type": "code",
      "execution_count": 8,
      "metadata": {
        "id": "1iaO3MTB0HBH",
        "outputId": "6df7eca4-577a-46f3-bdd8-ac9a7662c2ca",
        "colab": {
          "base_uri": "https://localhost:8080/"
        }
      },
      "outputs": [
        {
          "output_type": "stream",
          "name": "stderr",
          "text": [
            "/usr/local/lib/python3.7/dist-packages/IPython/core/interactiveshell.py:2882: DtypeWarning: Columns (8) have mixed types.Specify dtype option on import or set low_memory=False.\n",
            "  exec(code_obj, self.user_global_ns, self.user_ns)\n"
          ]
        },
        {
          "output_type": "stream",
          "name": "stdout",
          "text": [
            "   ODATEDW OSOURCE  TCODE STATE    ZIP MAILCODE PVASTATE   DOB NOEXCH  \\\n",
            "0     8901     GRI      0    IL  61081                    3712      0   \n",
            "1     9401     BOA      1    CA  91326                    5202      0   \n",
            "2     9001     AMH      1    NC  27017                       0      0   \n",
            "3     8701     BRY      0    CA  95953                    2801      0   \n",
            "4     8601              0    FL  33176                    2001      0   \n",
            "\n",
            "  RECINHSE  ... TARGET_D HPHONE_D RFA_2R RFA_2F RFA_2A MDMAUD_R  MDMAUD_F  \\\n",
            "0           ...      0.0        0      L      4      E        X         X   \n",
            "1           ...      0.0        0      L      2      G        X         X   \n",
            "2           ...      0.0        1      L      4      E        X         X   \n",
            "3           ...      0.0        1      L      4      E        X         X   \n",
            "4        X  ...      0.0        1      L      2      F        X         X   \n",
            "\n",
            "  MDMAUD_A CLUSTER2 GEOCODE2  \n",
            "0        X     39.0        C  \n",
            "1        X      1.0        A  \n",
            "2        X     60.0        C  \n",
            "3        X     41.0        C  \n",
            "4        X     26.0        A  \n",
            "\n",
            "[5 rows x 481 columns]\n"
          ]
        }
      ],
      "source": [
        "df_dataset_import = pd.read_csv(TRAIN_DATASET, sep=',', index_col=False)\n",
        "\n",
        "# Take a peek at the dataframe after import\n",
        "print(df_dataset_import.head())"
      ]
    },
    {
      "cell_type": "code",
      "execution_count": 9,
      "metadata": {
        "id": "7tzgkc5t0HBI",
        "outputId": "4ff9e435-8ece-4e62-eace-db56cb6ec30b",
        "colab": {
          "base_uri": "https://localhost:8080/"
        }
      },
      "outputs": [
        {
          "output_type": "stream",
          "name": "stdout",
          "text": [
            "<class 'pandas.core.frame.DataFrame'>\n",
            "RangeIndex: 95412 entries, 0 to 95411\n",
            "Data columns (total 481 columns):\n",
            " #    Column    Dtype  \n",
            "---   ------    -----  \n",
            " 0    ODATEDW   int64  \n",
            " 1    OSOURCE   object \n",
            " 2    TCODE     int64  \n",
            " 3    STATE     object \n",
            " 4    ZIP       object \n",
            " 5    MAILCODE  object \n",
            " 6    PVASTATE  object \n",
            " 7    DOB       int64  \n",
            " 8    NOEXCH    object \n",
            " 9    RECINHSE  object \n",
            " 10   RECP3     object \n",
            " 11   RECPGVG   object \n",
            " 12   RECSWEEP  object \n",
            " 13   MDMAUD    object \n",
            " 14   DOMAIN    object \n",
            " 15   CLUSTER   object \n",
            " 16   AGE       float64\n",
            " 17   AGEFLAG   object \n",
            " 18   HOMEOWNR  object \n",
            " 19   CHILD03   object \n",
            " 20   CHILD07   object \n",
            " 21   CHILD12   object \n",
            " 22   CHILD18   object \n",
            " 23   NUMCHLD   float64\n",
            " 24   INCOME    float64\n",
            " 25   GENDER    object \n",
            " 26   WEALTH1   float64\n",
            " 27   HIT       int64  \n",
            " 28   MBCRAFT   float64\n",
            " 29   MBGARDEN  float64\n",
            " 30   MBBOOKS   float64\n",
            " 31   MBCOLECT  float64\n",
            " 32   MAGFAML   float64\n",
            " 33   MAGFEM    float64\n",
            " 34   MAGMALE   float64\n",
            " 35   PUBGARDN  float64\n",
            " 36   PUBCULIN  float64\n",
            " 37   PUBHLTH   float64\n",
            " 38   PUBDOITY  float64\n",
            " 39   PUBNEWFN  float64\n",
            " 40   PUBPHOTO  float64\n",
            " 41   PUBOPP    float64\n",
            " 42   DATASRCE  object \n",
            " 43   MALEMILI  int64  \n",
            " 44   MALEVET   int64  \n",
            " 45   VIETVETS  int64  \n",
            " 46   WWIIVETS  int64  \n",
            " 47   LOCALGOV  int64  \n",
            " 48   STATEGOV  int64  \n",
            " 49   FEDGOV    int64  \n",
            " 50   SOLP3     object \n",
            " 51   SOLIH     object \n",
            " 52   MAJOR     object \n",
            " 53   WEALTH2   float64\n",
            " 54   GEOCODE   object \n",
            " 55   COLLECT1  object \n",
            " 56   VETERANS  object \n",
            " 57   BIBLE     object \n",
            " 58   CATLG     object \n",
            " 59   HOMEE     object \n",
            " 60   PETS      object \n",
            " 61   CDPLAY    object \n",
            " 62   STEREO    object \n",
            " 63   PCOWNERS  object \n",
            " 64   PHOTO     object \n",
            " 65   CRAFTS    object \n",
            " 66   FISHER    object \n",
            " 67   GARDENIN  object \n",
            " 68   BOATS     object \n",
            " 69   WALKER    object \n",
            " 70   KIDSTUFF  object \n",
            " 71   CARDS     object \n",
            " 72   PLATES    object \n",
            " 73   LIFESRC   object \n",
            " 74   PEPSTRFL  object \n",
            " 75   POP901    int64  \n",
            " 76   POP902    int64  \n",
            " 77   POP903    int64  \n",
            " 78   POP90C1   int64  \n",
            " 79   POP90C2   int64  \n",
            " 80   POP90C3   int64  \n",
            " 81   POP90C4   int64  \n",
            " 82   POP90C5   int64  \n",
            " 83   ETH1      int64  \n",
            " 84   ETH2      int64  \n",
            " 85   ETH3      int64  \n",
            " 86   ETH4      int64  \n",
            " 87   ETH5      int64  \n",
            " 88   ETH6      int64  \n",
            " 89   ETH7      int64  \n",
            " 90   ETH8      int64  \n",
            " 91   ETH9      int64  \n",
            " 92   ETH10     int64  \n",
            " 93   ETH11     int64  \n",
            " 94   ETH12     int64  \n",
            " 95   ETH13     int64  \n",
            " 96   ETH14     int64  \n",
            " 97   ETH15     int64  \n",
            " 98   ETH16     int64  \n",
            " 99   AGE901    int64  \n",
            " 100  AGE902    int64  \n",
            " 101  AGE903    int64  \n",
            " 102  AGE904    int64  \n",
            " 103  AGE905    int64  \n",
            " 104  AGE906    int64  \n",
            " 105  AGE907    int64  \n",
            " 106  CHIL1     int64  \n",
            " 107  CHIL2     int64  \n",
            " 108  CHIL3     int64  \n",
            " 109  AGEC1     int64  \n",
            " 110  AGEC2     int64  \n",
            " 111  AGEC3     int64  \n",
            " 112  AGEC4     int64  \n",
            " 113  AGEC5     int64  \n",
            " 114  AGEC6     int64  \n",
            " 115  AGEC7     int64  \n",
            " 116  CHILC1    int64  \n",
            " 117  CHILC2    int64  \n",
            " 118  CHILC3    int64  \n",
            " 119  CHILC4    int64  \n",
            " 120  CHILC5    int64  \n",
            " 121  HHAGE1    int64  \n",
            " 122  HHAGE2    int64  \n",
            " 123  HHAGE3    int64  \n",
            " 124  HHN1      int64  \n",
            " 125  HHN2      int64  \n",
            " 126  HHN3      int64  \n",
            " 127  HHN4      int64  \n",
            " 128  HHN5      int64  \n",
            " 129  HHN6      int64  \n",
            " 130  MARR1     int64  \n",
            " 131  MARR2     int64  \n",
            " 132  MARR3     int64  \n",
            " 133  MARR4     int64  \n",
            " 134  HHP1      int64  \n",
            " 135  HHP2      int64  \n",
            " 136  DW1       int64  \n",
            " 137  DW2       int64  \n",
            " 138  DW3       int64  \n",
            " 139  DW4       int64  \n",
            " 140  DW5       int64  \n",
            " 141  DW6       int64  \n",
            " 142  DW7       int64  \n",
            " 143  DW8       int64  \n",
            " 144  DW9       int64  \n",
            " 145  HV1       int64  \n",
            " 146  HV2       int64  \n",
            " 147  HV3       int64  \n",
            " 148  HV4       int64  \n",
            " 149  HU1       int64  \n",
            " 150  HU2       int64  \n",
            " 151  HU3       int64  \n",
            " 152  HU4       int64  \n",
            " 153  HU5       int64  \n",
            " 154  HHD1      int64  \n",
            " 155  HHD2      int64  \n",
            " 156  HHD3      int64  \n",
            " 157  HHD4      int64  \n",
            " 158  HHD5      int64  \n",
            " 159  HHD6      int64  \n",
            " 160  HHD7      int64  \n",
            " 161  HHD8      int64  \n",
            " 162  HHD9      int64  \n",
            " 163  HHD10     int64  \n",
            " 164  HHD11     int64  \n",
            " 165  HHD12     int64  \n",
            " 166  ETHC1     int64  \n",
            " 167  ETHC2     int64  \n",
            " 168  ETHC3     int64  \n",
            " 169  ETHC4     int64  \n",
            " 170  ETHC5     int64  \n",
            " 171  ETHC6     int64  \n",
            " 172  HVP1      int64  \n",
            " 173  HVP2      int64  \n",
            " 174  HVP3      int64  \n",
            " 175  HVP4      int64  \n",
            " 176  HVP5      int64  \n",
            " 177  HVP6      int64  \n",
            " 178  HUR1      int64  \n",
            " 179  HUR2      int64  \n",
            " 180  RHP1      int64  \n",
            " 181  RHP2      int64  \n",
            " 182  RHP3      int64  \n",
            " 183  RHP4      int64  \n",
            " 184  HUPA1     int64  \n",
            " 185  HUPA2     int64  \n",
            " 186  HUPA3     int64  \n",
            " 187  HUPA4     int64  \n",
            " 188  HUPA5     int64  \n",
            " 189  HUPA6     int64  \n",
            " 190  HUPA7     int64  \n",
            " 191  RP1       int64  \n",
            " 192  RP2       int64  \n",
            " 193  RP3       int64  \n",
            " 194  RP4       int64  \n",
            " 195  MSA       float64\n",
            " 196  ADI       float64\n",
            " 197  DMA       float64\n",
            " 198  IC1       int64  \n",
            " 199  IC2       int64  \n",
            " 200  IC3       int64  \n",
            " 201  IC4       int64  \n",
            " 202  IC5       int64  \n",
            " 203  IC6       int64  \n",
            " 204  IC7       int64  \n",
            " 205  IC8       int64  \n",
            " 206  IC9       int64  \n",
            " 207  IC10      int64  \n",
            " 208  IC11      int64  \n",
            " 209  IC12      int64  \n",
            " 210  IC13      int64  \n",
            " 211  IC14      int64  \n",
            " 212  IC15      int64  \n",
            " 213  IC16      int64  \n",
            " 214  IC17      int64  \n",
            " 215  IC18      int64  \n",
            " 216  IC19      int64  \n",
            " 217  IC20      int64  \n",
            " 218  IC21      int64  \n",
            " 219  IC22      int64  \n",
            " 220  IC23      int64  \n",
            " 221  HHAS1     int64  \n",
            " 222  HHAS2     int64  \n",
            " 223  HHAS3     int64  \n",
            " 224  HHAS4     int64  \n",
            " 225  MC1       int64  \n",
            " 226  MC2       int64  \n",
            " 227  MC3       int64  \n",
            " 228  TPE1      int64  \n",
            " 229  TPE2      int64  \n",
            " 230  TPE3      int64  \n",
            " 231  TPE4      int64  \n",
            " 232  TPE5      int64  \n",
            " 233  TPE6      int64  \n",
            " 234  TPE7      int64  \n",
            " 235  TPE8      int64  \n",
            " 236  TPE9      int64  \n",
            " 237  PEC1      int64  \n",
            " 238  PEC2      int64  \n",
            " 239  TPE10     int64  \n",
            " 240  TPE11     int64  \n",
            " 241  TPE12     int64  \n",
            " 242  TPE13     int64  \n",
            " 243  LFC1      int64  \n",
            " 244  LFC2      int64  \n",
            " 245  LFC3      int64  \n",
            " 246  LFC4      int64  \n",
            " 247  LFC5      int64  \n",
            " 248  LFC6      int64  \n",
            " 249  LFC7      int64  \n",
            " 250  LFC8      int64  \n",
            " 251  LFC9      int64  \n",
            " 252  LFC10     int64  \n",
            " 253  OCC1      int64  \n",
            " 254  OCC2      int64  \n",
            " 255  OCC3      int64  \n",
            " 256  OCC4      int64  \n",
            " 257  OCC5      int64  \n",
            " 258  OCC6      int64  \n",
            " 259  OCC7      int64  \n",
            " 260  OCC8      int64  \n",
            " 261  OCC9      int64  \n",
            " 262  OCC10     int64  \n",
            " 263  OCC11     int64  \n",
            " 264  OCC12     int64  \n",
            " 265  OCC13     int64  \n",
            " 266  EIC1      int64  \n",
            " 267  EIC2      int64  \n",
            " 268  EIC3      int64  \n",
            " 269  EIC4      int64  \n",
            " 270  EIC5      int64  \n",
            " 271  EIC6      int64  \n",
            " 272  EIC7      int64  \n",
            " 273  EIC8      int64  \n",
            " 274  EIC9      int64  \n",
            " 275  EIC10     int64  \n",
            " 276  EIC11     int64  \n",
            " 277  EIC12     int64  \n",
            " 278  EIC13     int64  \n",
            " 279  EIC14     int64  \n",
            " 280  EIC15     int64  \n",
            " 281  EIC16     int64  \n",
            " 282  OEDC1     int64  \n",
            " 283  OEDC2     int64  \n",
            " 284  OEDC3     int64  \n",
            " 285  OEDC4     int64  \n",
            " 286  OEDC5     int64  \n",
            " 287  OEDC6     int64  \n",
            " 288  OEDC7     int64  \n",
            " 289  EC1       int64  \n",
            " 290  EC2       int64  \n",
            " 291  EC3       int64  \n",
            " 292  EC4       int64  \n",
            " 293  EC5       int64  \n",
            " 294  EC6       int64  \n",
            " 295  EC7       int64  \n",
            " 296  EC8       int64  \n",
            " 297  SEC1      int64  \n",
            " 298  SEC2      int64  \n",
            " 299  SEC3      int64  \n",
            " 300  SEC4      int64  \n",
            " 301  SEC5      int64  \n",
            " 302  AFC1      int64  \n",
            " 303  AFC2      int64  \n",
            " 304  AFC3      int64  \n",
            " 305  AFC4      int64  \n",
            " 306  AFC5      int64  \n",
            " 307  AFC6      int64  \n",
            " 308  VC1       int64  \n",
            " 309  VC2       int64  \n",
            " 310  VC3       int64  \n",
            " 311  VC4       int64  \n",
            " 312  ANC1      int64  \n",
            " 313  ANC2      int64  \n",
            " 314  ANC3      int64  \n",
            " 315  ANC4      int64  \n",
            " 316  ANC5      int64  \n",
            " 317  ANC6      int64  \n",
            " 318  ANC7      int64  \n",
            " 319  ANC8      int64  \n",
            " 320  ANC9      int64  \n",
            " 321  ANC10     int64  \n",
            " 322  ANC11     int64  \n",
            " 323  ANC12     int64  \n",
            " 324  ANC13     int64  \n",
            " 325  ANC14     int64  \n",
            " 326  ANC15     int64  \n",
            " 327  POBC1     int64  \n",
            " 328  POBC2     int64  \n",
            " 329  LSC1      int64  \n",
            " 330  LSC2      int64  \n",
            " 331  LSC3      int64  \n",
            " 332  LSC4      int64  \n",
            " 333  VOC1      int64  \n",
            " 334  VOC2      int64  \n",
            " 335  VOC3      int64  \n",
            " 336  HC1       int64  \n",
            " 337  HC2       int64  \n",
            " 338  HC3       int64  \n",
            " 339  HC4       int64  \n",
            " 340  HC5       int64  \n",
            " 341  HC6       int64  \n",
            " 342  HC7       int64  \n",
            " 343  HC8       int64  \n",
            " 344  HC9       int64  \n",
            " 345  HC10      int64  \n",
            " 346  HC11      int64  \n",
            " 347  HC12      int64  \n",
            " 348  HC13      int64  \n",
            " 349  HC14      int64  \n",
            " 350  HC15      int64  \n",
            " 351  HC16      int64  \n",
            " 352  HC17      int64  \n",
            " 353  HC18      int64  \n",
            " 354  HC19      int64  \n",
            " 355  HC20      int64  \n",
            " 356  HC21      int64  \n",
            " 357  MHUC1     int64  \n",
            " 358  MHUC2     int64  \n",
            " 359  AC1       int64  \n",
            " 360  AC2       int64  \n",
            " 361  ADATE_2   int64  \n",
            " 362  ADATE_3   float64\n",
            " 363  ADATE_4   float64\n",
            " 364  ADATE_5   float64\n",
            " 365  ADATE_6   float64\n",
            " 366  ADATE_7   float64\n",
            " 367  ADATE_8   float64\n",
            " 368  ADATE_9   float64\n",
            " 369  ADATE_10  float64\n",
            " 370  ADATE_11  float64\n",
            " 371  ADATE_12  float64\n",
            " 372  ADATE_13  float64\n",
            " 373  ADATE_14  float64\n",
            " 374  ADATE_15  float64\n",
            " 375  ADATE_16  float64\n",
            " 376  ADATE_17  float64\n",
            " 377  ADATE_18  float64\n",
            " 378  ADATE_19  float64\n",
            " 379  ADATE_20  float64\n",
            " 380  ADATE_21  float64\n",
            " 381  ADATE_22  float64\n",
            " 382  ADATE_23  float64\n",
            " 383  ADATE_24  float64\n",
            " 384  RFA_2     object \n",
            " 385  RFA_3     object \n",
            " 386  RFA_4     object \n",
            " 387  RFA_5     object \n",
            " 388  RFA_6     object \n",
            " 389  RFA_7     object \n",
            " 390  RFA_8     object \n",
            " 391  RFA_9     object \n",
            " 392  RFA_10    object \n",
            " 393  RFA_11    object \n",
            " 394  RFA_12    object \n",
            " 395  RFA_13    object \n",
            " 396  RFA_14    object \n",
            " 397  RFA_15    object \n",
            " 398  RFA_16    object \n",
            " 399  RFA_17    object \n",
            " 400  RFA_18    object \n",
            " 401  RFA_19    object \n",
            " 402  RFA_20    object \n",
            " 403  RFA_21    object \n",
            " 404  RFA_22    object \n",
            " 405  RFA_23    object \n",
            " 406  RFA_24    object \n",
            " 407  CARDPROM  int64  \n",
            " 408  MAXADATE  int64  \n",
            " 409  NUMPROM   int64  \n",
            " 410  CARDPM12  int64  \n",
            " 411  NUMPRM12  int64  \n",
            " 412  RDATE_3   float64\n",
            " 413  RDATE_4   float64\n",
            " 414  RDATE_5   float64\n",
            " 415  RDATE_6   float64\n",
            " 416  RDATE_7   float64\n",
            " 417  RDATE_8   float64\n",
            " 418  RDATE_9   float64\n",
            " 419  RDATE_10  float64\n",
            " 420  RDATE_11  float64\n",
            " 421  RDATE_12  float64\n",
            " 422  RDATE_13  float64\n",
            " 423  RDATE_14  float64\n",
            " 424  RDATE_15  float64\n",
            " 425  RDATE_16  float64\n",
            " 426  RDATE_17  float64\n",
            " 427  RDATE_18  float64\n",
            " 428  RDATE_19  float64\n",
            " 429  RDATE_20  float64\n",
            " 430  RDATE_21  float64\n",
            " 431  RDATE_22  float64\n",
            " 432  RDATE_23  float64\n",
            " 433  RDATE_24  float64\n",
            " 434  RAMNT_3   float64\n",
            " 435  RAMNT_4   float64\n",
            " 436  RAMNT_5   float64\n",
            " 437  RAMNT_6   float64\n",
            " 438  RAMNT_7   float64\n",
            " 439  RAMNT_8   float64\n",
            " 440  RAMNT_9   float64\n",
            " 441  RAMNT_10  float64\n",
            " 442  RAMNT_11  float64\n",
            " 443  RAMNT_12  float64\n",
            " 444  RAMNT_13  float64\n",
            " 445  RAMNT_14  float64\n",
            " 446  RAMNT_15  float64\n",
            " 447  RAMNT_16  float64\n",
            " 448  RAMNT_17  float64\n",
            " 449  RAMNT_18  float64\n",
            " 450  RAMNT_19  float64\n",
            " 451  RAMNT_20  float64\n",
            " 452  RAMNT_21  float64\n",
            " 453  RAMNT_22  float64\n",
            " 454  RAMNT_23  float64\n",
            " 455  RAMNT_24  float64\n",
            " 456  RAMNTALL  float64\n",
            " 457  NGIFTALL  int64  \n",
            " 458  CARDGIFT  int64  \n",
            " 459  MINRAMNT  float64\n",
            " 460  MINRDATE  int64  \n",
            " 461  MAXRAMNT  float64\n",
            " 462  MAXRDATE  int64  \n",
            " 463  LASTGIFT  float64\n",
            " 464  LASTDATE  int64  \n",
            " 465  FISTDATE  int64  \n",
            " 466  NEXTDATE  float64\n",
            " 467  TIMELAG   float64\n",
            " 468  AVGGIFT   float64\n",
            " 469  CONTROLN  int64  \n",
            " 470  TARGET_B  int64  \n",
            " 471  TARGET_D  float64\n",
            " 472  HPHONE_D  int64  \n",
            " 473  RFA_2R    object \n",
            " 474  RFA_2F    int64  \n",
            " 475  RFA_2A    object \n",
            " 476  MDMAUD_R  object \n",
            " 477  MDMAUD_F  object \n",
            " 478  MDMAUD_A  object \n",
            " 479  CLUSTER2  float64\n",
            " 480  GEOCODE2  object \n",
            "dtypes: float64(97), int64(310), object(74)\n",
            "memory usage: 350.1+ MB\n"
          ]
        }
      ],
      "source": [
        "df_dataset_import.info(verbose=True)"
      ]
    },
    {
      "cell_type": "code",
      "execution_count": 10,
      "metadata": {
        "id": "ewH0YYBo0HBI",
        "outputId": "b814e139-a33e-4c31-dc8d-b4fe945d2928",
        "colab": {
          "base_uri": "https://localhost:8080/"
        }
      },
      "outputs": [
        {
          "output_type": "stream",
          "name": "stdout",
          "text": [
            "            ODATEDW         TCODE           DOB           AGE       NUMCHLD  \\\n",
            "count  95412.000000  95412.000000  95412.000000  71747.000000  12386.000000   \n",
            "mean    9141.363256     54.223117   2723.602933     61.611649      1.527773   \n",
            "std      343.454752    953.844476   2132.241295     16.664199      0.806861   \n",
            "min     8306.000000      0.000000      0.000000      1.000000      1.000000   \n",
            "25%     8801.000000      0.000000    201.000000     48.000000      1.000000   \n",
            "50%     9201.000000      1.000000   2610.000000     62.000000      1.000000   \n",
            "75%     9501.000000      2.000000   4601.000000     75.000000      2.000000   \n",
            "max     9701.000000  72002.000000   9710.000000     98.000000      7.000000   \n",
            "\n",
            "             INCOME       WEALTH1           HIT       MBCRAFT      MBGARDEN  \\\n",
            "count  74126.000000  50680.000000  95412.000000  42558.000000  42558.000000   \n",
            "mean       3.886248      5.345699      3.321438      0.152075      0.059166   \n",
            "std        1.854960      2.742490      9.306899      0.470023      0.262078   \n",
            "min        1.000000      0.000000      0.000000      0.000000      0.000000   \n",
            "25%        2.000000      3.000000      0.000000      0.000000      0.000000   \n",
            "50%        4.000000      6.000000      0.000000      0.000000      0.000000   \n",
            "75%        5.000000      8.000000      3.000000      0.000000      0.000000   \n",
            "max        7.000000      9.000000    241.000000      6.000000      4.000000   \n",
            "\n",
            "       ...      FISTDATE      NEXTDATE       TIMELAG       AVGGIFT  \\\n",
            "count  ...  95412.000000  85439.000000  85439.000000  95412.000000   \n",
            "mean   ...   9135.651648   9151.022917      8.093739     13.347786   \n",
            "std    ...    320.394019    294.257260      8.213242     10.769997   \n",
            "min    ...      0.000000   7211.000000      0.000000      1.285714   \n",
            "25%    ...   8810.000000   8903.000000      4.000000      8.384615   \n",
            "50%    ...   9201.000000   9204.000000      6.000000     11.636364   \n",
            "75%    ...   9409.000000   9409.000000     11.000000     15.477955   \n",
            "max    ...   9603.000000   9702.000000   1088.000000   1000.000000   \n",
            "\n",
            "            CONTROLN      TARGET_B      TARGET_D      HPHONE_D        RFA_2F  \\\n",
            "count   95412.000000  95412.000000  95412.000000  95412.000000  95412.000000   \n",
            "mean    95778.176959      0.050759      0.793073      0.500618      1.910053   \n",
            "std     55284.596094      0.219506      4.429725      0.500002      1.072749   \n",
            "min         1.000000      0.000000      0.000000      0.000000      1.000000   \n",
            "25%     47910.750000      0.000000      0.000000      0.000000      1.000000   \n",
            "50%     95681.500000      0.000000      0.000000      1.000000      2.000000   \n",
            "75%    143643.500000      0.000000      0.000000      1.000000      3.000000   \n",
            "max    191779.000000      1.000000    200.000000      1.000000      4.000000   \n",
            "\n",
            "           CLUSTER2  \n",
            "count  95280.000000  \n",
            "mean      31.533711  \n",
            "std       18.764614  \n",
            "min        1.000000  \n",
            "25%       15.000000  \n",
            "50%       32.000000  \n",
            "75%       49.000000  \n",
            "max       62.000000  \n",
            "\n",
            "[8 rows x 407 columns]\n"
          ]
        }
      ],
      "source": [
        "print(df_dataset_import.describe())"
      ]
    },
    {
      "cell_type": "code",
      "execution_count": 11,
      "metadata": {
        "id": "VdKICHFn0HBI",
        "outputId": "723ae16f-5bf4-4a35-a16b-a5d0cc9d51b4",
        "colab": {
          "base_uri": "https://localhost:8080/"
        }
      },
      "outputs": [
        {
          "output_type": "stream",
          "name": "stdout",
          "text": [
            "ODATEDW       0\n",
            "OSOURCE       0\n",
            "TCODE         0\n",
            "STATE         0\n",
            "ZIP           0\n",
            "           ... \n",
            "MDMAUD_R      0\n",
            "MDMAUD_F      0\n",
            "MDMAUD_A      0\n",
            "CLUSTER2    132\n",
            "GEOCODE2    132\n",
            "Length: 481, dtype: int64\n",
            "Total number of NaN in the dataframe:  5158796\n"
          ]
        }
      ],
      "source": [
        "print(df_dataset_import.isnull().sum())\n",
        "print('Total number of NaN in the dataframe: ', df_dataset_import.isnull().sum().sum())"
      ]
    },
    {
      "cell_type": "code",
      "execution_count": 12,
      "metadata": {
        "id": "c3LzrZc20HBI",
        "outputId": "4ecd3a0d-cc72-4e13-be6d-9b57266cedcb",
        "colab": {
          "base_uri": "https://localhost:8080/"
        }
      },
      "outputs": [
        {
          "output_type": "stream",
          "name": "stdout",
          "text": [
            "TARGET_B\n",
            "0    90569\n",
            "1     4843\n",
            "dtype: int64\n"
          ]
        }
      ],
      "source": [
        "# Get grouping size for the target variable\n",
        "print(df_dataset_import.groupby('TARGET_B').size())"
      ]
    },
    {
      "cell_type": "markdown",
      "metadata": {
        "id": "GFNcjZlh0HBI"
      },
      "source": [
        "### 1.d) Data Cleaning"
      ]
    },
    {
      "cell_type": "code",
      "execution_count": 13,
      "metadata": {
        "id": "siXWU1Dt0HBJ"
      },
      "outputs": [],
      "source": [
        "# Setting up various helper functions for data cleaning\n",
        "\n",
        "# Drop all columns between (and including) two column names\n",
        "def drop_columns(dframe, begin_string='', end_string=''):\n",
        "    col_names = list(dframe.columns)\n",
        "    begin_index = col_names.index(begin_string)\n",
        "    end_index = col_names.index(end_string) + 1\n",
        "    drop_cols = col_names[begin_index:end_index]\n",
        "    print('Dropping colunms:', drop_cols)\n",
        "    dframe.drop(columns=drop_cols, inplace=True)\n",
        "\n",
        "# Convert categorical features with blanks to value U for Unknown\n",
        "def reclass_Blank_U(target_col):\n",
        "    if target_col == ' ': return 'U'\n",
        "    else: return target_col\n",
        "\n",
        "# Convert numeric features with blanks to value 99\n",
        "def reclass_Blank_99(target_col):\n",
        "    if target_col == ' ': return '99'\n",
        "    else: return target_col\n",
        "\n",
        "# Convert features with two levels (X and blank) into integers of 1 or 0\n",
        "def reclass_X_blank(target_col):\n",
        "    if target_col == 'X': return 1\n",
        "    else: return 0\n",
        "\n",
        "def fill_X_Blank_cols(dframe, begin_string='', end_string=''):\n",
        "    col_names = list(dframe.columns)\n",
        "    begin_index = col_names.index(begin_string)\n",
        "    end_index = col_names.index(end_string) + 1\n",
        "    reclass_cols = col_names[begin_index:end_index]\n",
        "    print('Filling X/Blank colunms with values:', reclass_cols)\n",
        "    for col in reclass_cols:\n",
        "        dframe[col] = dframe[col].apply(reclass_X_blank)\n",
        "\n",
        "# Convert features with two levels (Y and N) into integers of 1 or 0\n",
        "def reclass_Y_blank(target_col):\n",
        "    if target_col == 'Y': return 1\n",
        "    else: return 0\n",
        "\n",
        "def fill_Y_Blank_cols(dframe, begin_string='', end_string=''):\n",
        "    col_names = list(dframe.columns)\n",
        "    begin_index = col_names.index(begin_string)\n",
        "    end_index = col_names.index(end_string) + 1\n",
        "    reclass_cols = col_names[begin_index:end_index]\n",
        "    print('Filling Y/N colunms with values:', reclass_cols)\n",
        "    for col in reclass_cols:\n",
        "        dframe[col] = dframe[col].apply(reclass_Y_blank)\n",
        "\n",
        "# Convert the Domain code into two separate Urbanicity and SES features\n",
        "def convert_domain_urb(target_col):\n",
        "    if len(target_col) == 2:\n",
        "        return target_col[0]\n",
        "    else:\n",
        "        return 'X'\n",
        "\n",
        "def convert_domain_ses(target_col):\n",
        "    if len(target_col) == 2:\n",
        "        return target_col[1]\n",
        "    else:\n",
        "        return 'X'\n",
        "\n",
        "def fill_integer_cols(dframe, begin_string='', end_string=''):\n",
        "    col_names = list(dframe.columns)\n",
        "    begin_index = col_names.index(begin_string)\n",
        "    end_index = col_names.index(end_string) + 1\n",
        "    reclass_cols = col_names[begin_index:end_index]\n",
        "    print('Filling integer colunms with zeros:', reclass_cols)\n",
        "    for col in reclass_cols:\n",
        "        dframe[col].fillna(value=0, inplace=True)\n",
        "        dframe[col] = dframe[col].astype('int')\n",
        "\n",
        "# Convert the RFA code into three separate Recency/Frequency/Amount features\n",
        "def convert_RFA_recency(target_col):\n",
        "    if len(target_col) == 3:\n",
        "        return target_col[0]\n",
        "    else:\n",
        "        return 'X'\n",
        "\n",
        "def convert_RFA_frequency(target_col):\n",
        "    if len(target_col) == 3:\n",
        "        return target_col[1]\n",
        "    else:\n",
        "        return 0\n",
        "\n",
        "def convert_RFA_amount(target_col):\n",
        "    if len(target_col) == 3:\n",
        "        return target_col[2]\n",
        "    else:\n",
        "        return 'X'\n",
        "\n",
        "def convert_RFA_code(dframe, col_name):\n",
        "    col_r = col_name + 'R'\n",
        "    dframe[col_r] = dframe[col_name].apply(convert_RFA_recency)\n",
        "    col_f = col_name + 'F'\n",
        "    dframe[col_f] = dframe[col_name].apply(convert_RFA_frequency)\n",
        "    dframe[col_f] = dframe[col_f].astype('int')\n",
        "    col_a = col_name + 'A'\n",
        "    dframe[col_a] = dframe[col_name].apply(convert_RFA_amount)\n",
        "\n",
        "def convert_RFA_cols(dframe, begin_string='', end_string=''):\n",
        "    col_names = list(dframe.columns)\n",
        "    begin_index = col_names.index(begin_string)\n",
        "    end_index = col_names.index(end_string) + 1\n",
        "    reclass_cols = col_names[begin_index:end_index]\n",
        "    print('Convert RFA colunms with values:', reclass_cols)\n",
        "    for col in reclass_cols:\n",
        "        convert_RFA_code(dframe, col)\n",
        "\n",
        "def convert_date_value(target_col):\n",
        "    if target_col > 0:\n",
        "        return 1\n",
        "    else:\n",
        "        return 0\n",
        "\n",
        "def convert_date_cols(dframe, begin_string='', end_string=''):\n",
        "    col_names = list(dframe.columns)\n",
        "    begin_index = col_names.index(begin_string)\n",
        "    end_index = col_names.index(end_string) + 1\n",
        "    reclass_cols = col_names[begin_index:end_index]\n",
        "    print('Filling date colunms with ones and zeros:', reclass_cols)\n",
        "    for col in reclass_cols:\n",
        "        dframe[col].fillna(value=0, inplace=True)\n",
        "        dframe[col] = dframe[col].astype('int')\n",
        "        dframe[col] = dframe[col].apply(convert_date_value)\n",
        "    dframe['RDATE_SUM'] = dframe[reclass_cols].sum(axis=1)"
      ]
    },
    {
      "cell_type": "code",
      "execution_count": 14,
      "metadata": {
        "id": "VwXgqy1k0HBJ"
      },
      "outputs": [],
      "source": [
        "# Helper function for cleaning the training and test dataset and ensure consistency\n",
        "def clean_dataset(df):\n",
        "    # Clean up the basic donor features\n",
        "    df['PVASTATE'] = df['PVASTATE'].apply(reclass_Blank_U)\n",
        "    fill_X_Blank_cols(df, 'RECINHSE', 'RECSWEEP')\n",
        "    df['DOMAIN_URB'] = df['DOMAIN'].apply(convert_domain_urb)\n",
        "    df['DOMAIN_SES'] = df['DOMAIN'].apply(convert_domain_ses)\n",
        "    df['AGE'].fillna(value=df['AGE'].median(), inplace=True)\n",
        "    df['AGE'] = df['AGE'].astype('int')\n",
        "    df['HOMEOWNR'] = df['HOMEOWNR'].apply(reclass_Blank_U)\n",
        "    df['CHILD03'] = df['CHILD03'].apply(reclass_Blank_U)\n",
        "    df['CHILD07'] = df['CHILD07'].apply(reclass_Blank_U)\n",
        "    df['CHILD12'] = df['CHILD12'].apply(reclass_Blank_U)\n",
        "    df['CHILD18'] = df['CHILD18'].apply(reclass_Blank_U)\n",
        "    df['NUMCHLD'].fillna(value=0, inplace=True)\n",
        "    df['NUMCHLD'] = df['NUMCHLD'].astype('int')\n",
        "    df['INCOME'].fillna(value=df['INCOME'].median(), inplace=True)\n",
        "    df['INCOME'] = df['INCOME'].astype('int')\n",
        "    df['GENDER'] = df['GENDER'].apply(reclass_Blank_U)\n",
        "    df['WEALTH1'].fillna(value=df['WEALTH1'].median(), inplace=True)\n",
        "    df['WEALTH1'] = df['WEALTH1'].astype('int')\n",
        "    df.drop(columns=['ODATEDW','OSOURCE','TCODE','STATE','ZIP',\n",
        "                     'MAILCODE','DOB','NOEXCH','MDMAUD','DOMAIN',\n",
        "                     'CLUSTER','AGEFLAG'], inplace=True)\n",
        "\n",
        "    # CLean up the Mail Order Offers features\n",
        "    # drop_columns(df, 'MBCRAFT', 'PUBOPP')\n",
        "    fill_integer_cols(df, 'MBCRAFT', 'PUBOPP')\n",
        "\n",
        "    # Clean up the 3rd Party Overlay features\n",
        "    # drop_columns(df, 'DATASRCE', 'GEOCODE')\n",
        "    df['SOLP3'] = df['SOLP3'].apply(reclass_Blank_99)\n",
        "    df['SOLP3'] = df['SOLP3'].astype('int')\n",
        "    df['SOLIH'] = df['SOLIH'].apply(reclass_Blank_99)\n",
        "    df['SOLIH'] = df['SOLIH'].astype('int')\n",
        "    df['MAJOR'] = df['MAJOR'].apply(reclass_X_blank)\n",
        "    df['WEALTH2'].fillna(value=df['WEALTH2'].median(), inplace=True)\n",
        "    df['WEALTH2'] = df['WEALTH2'].astype('int')\n",
        "    df.drop(columns=['DATASRCE','GEOCODE'], inplace=True)\n",
        "\n",
        "    # Clean up the 3rd Party Donor Interest features\n",
        "    # drop_columns(df, 'COLLECT1', 'LIFESRC')\n",
        "    fill_Y_Blank_cols(df, 'COLLECT1', 'PLATES')\n",
        "    df.drop(columns=['LIFESRC'], inplace=True)\n",
        "\n",
        "    # Clean up the PEP Star RFA Status feature\n",
        "    df['PEPSTRFL'] = df['PEPSTRFL'].apply(reclass_X_blank)\n",
        "\n",
        "    # Clean up the 1990 US Census Neighborhood Data features\n",
        "    # drop_columns(df, 'POP901', 'AC2')\n",
        "    df.drop(columns=['MSA','ADI','DMA'], inplace=True)\n",
        "\n",
        "    # Clean up the Promotion History and Summary features\n",
        "    drop_columns(df, 'ADATE_2', 'RFA_2')\n",
        "    convert_RFA_cols(df, 'RFA_3', 'RFA_24')\n",
        "    drop_columns(df, 'RFA_3', 'RFA_24')\n",
        "    # drop_columns(df, 'CARDPROM', 'NUMPRM12')\n",
        "\n",
        "    # Clean up the Giving History and Summary features\n",
        "    convert_date_cols(df, 'RDATE_3', 'RDATE_24')\n",
        "    fill_integer_cols(df, 'RAMNT_3', 'RAMNT_24')\n",
        "    df['TIMELAG'].fillna(value=df['TIMELAG'].median(), inplace=True)\n",
        "    df['TIMELAG'] = df['TIMELAG'].astype('int')\n",
        "    # drop_columns(df, 'RDATE_3', 'RAMNT_24')\n",
        "    # drop_columns(df, 'RAMNTALL', 'AVGGIFT')\n",
        "    df.drop(columns=['MINRDATE','MAXRDATE','FISTDATE','NEXTDATE'], inplace=True)\n",
        "\n",
        "    # Drop the Unique Control Numbers and other miscellaneous variables\n",
        "    df.drop(columns=['CONTROLN','CLUSTER2','GEOCODE2'], inplace=True)"
      ]
    },
    {
      "cell_type": "code",
      "execution_count": 15,
      "metadata": {
        "id": "XB9pdUJK0HBJ",
        "outputId": "c988e5a2-7fd9-4287-989c-3e0d067d08f9",
        "colab": {
          "base_uri": "https://localhost:8080/"
        }
      },
      "outputs": [
        {
          "output_type": "stream",
          "name": "stdout",
          "text": [
            "Filling X/Blank colunms with values: ['RECINHSE', 'RECP3', 'RECPGVG', 'RECSWEEP']\n",
            "Filling integer colunms with zeros: ['MBCRAFT', 'MBGARDEN', 'MBBOOKS', 'MBCOLECT', 'MAGFAML', 'MAGFEM', 'MAGMALE', 'PUBGARDN', 'PUBCULIN', 'PUBHLTH', 'PUBDOITY', 'PUBNEWFN', 'PUBPHOTO', 'PUBOPP']\n",
            "Filling Y/N colunms with values: ['COLLECT1', 'VETERANS', 'BIBLE', 'CATLG', 'HOMEE', 'PETS', 'CDPLAY', 'STEREO', 'PCOWNERS', 'PHOTO', 'CRAFTS', 'FISHER', 'GARDENIN', 'BOATS', 'WALKER', 'KIDSTUFF', 'CARDS', 'PLATES']\n",
            "Dropping colunms: ['ADATE_2', 'ADATE_3', 'ADATE_4', 'ADATE_5', 'ADATE_6', 'ADATE_7', 'ADATE_8', 'ADATE_9', 'ADATE_10', 'ADATE_11', 'ADATE_12', 'ADATE_13', 'ADATE_14', 'ADATE_15', 'ADATE_16', 'ADATE_17', 'ADATE_18', 'ADATE_19', 'ADATE_20', 'ADATE_21', 'ADATE_22', 'ADATE_23', 'ADATE_24', 'RFA_2']\n",
            "Convert RFA colunms with values: ['RFA_3', 'RFA_4', 'RFA_5', 'RFA_6', 'RFA_7', 'RFA_8', 'RFA_9', 'RFA_10', 'RFA_11', 'RFA_12', 'RFA_13', 'RFA_14', 'RFA_15', 'RFA_16', 'RFA_17', 'RFA_18', 'RFA_19', 'RFA_20', 'RFA_21', 'RFA_22', 'RFA_23', 'RFA_24']\n",
            "Dropping colunms: ['RFA_3', 'RFA_4', 'RFA_5', 'RFA_6', 'RFA_7', 'RFA_8', 'RFA_9', 'RFA_10', 'RFA_11', 'RFA_12', 'RFA_13', 'RFA_14', 'RFA_15', 'RFA_16', 'RFA_17', 'RFA_18', 'RFA_19', 'RFA_20', 'RFA_21', 'RFA_22', 'RFA_23', 'RFA_24']\n",
            "Filling date colunms with ones and zeros: ['RDATE_3', 'RDATE_4', 'RDATE_5', 'RDATE_6', 'RDATE_7', 'RDATE_8', 'RDATE_9', 'RDATE_10', 'RDATE_11', 'RDATE_12', 'RDATE_13', 'RDATE_14', 'RDATE_15', 'RDATE_16', 'RDATE_17', 'RDATE_18', 'RDATE_19', 'RDATE_20', 'RDATE_21', 'RDATE_22', 'RDATE_23', 'RDATE_24']\n",
            "Filling integer colunms with zeros: ['RAMNT_3', 'RAMNT_4', 'RAMNT_5', 'RAMNT_6', 'RAMNT_7', 'RAMNT_8', 'RAMNT_9', 'RAMNT_10', 'RAMNT_11', 'RAMNT_12', 'RAMNT_13', 'RAMNT_14', 'RAMNT_15', 'RAMNT_16', 'RAMNT_17', 'RAMNT_18', 'RAMNT_19', 'RAMNT_20', 'RAMNT_21', 'RAMNT_22', 'RAMNT_23', 'RAMNT_24']\n"
          ]
        }
      ],
      "source": [
        "# Clean up the training dataset\n",
        "clean_dataset(df_dataset_import)\n",
        "\n",
        "# Standardize the class column to the name of targetVar if required\n",
        "df_dataset_import.drop(columns=['TARGET_D'], inplace=True)\n",
        "df_dataset_import = df_dataset_import.rename(columns={'TARGET_B': 'target'})"
      ]
    },
    {
      "cell_type": "code",
      "execution_count": 16,
      "metadata": {
        "id": "bMrusaa60HBK",
        "outputId": "8fc4cd71-82e7-4c3b-c779-38137e14479f",
        "colab": {
          "base_uri": "https://localhost:8080/"
        }
      },
      "outputs": [
        {
          "output_type": "stream",
          "name": "stdout",
          "text": [
            "  PVASTATE  RECINHSE  RECP3  RECPGVG  RECSWEEP  AGE HOMEOWNR CHILD03 CHILD07  \\\n",
            "0        U         0      0        0         0   60        U       U       U   \n",
            "1        U         0      0        0         0   46        H       U       U   \n",
            "2        U         0      0        0         0   62        U       U       U   \n",
            "3        U         0      0        0         0   70        U       U       U   \n",
            "4        U         1      1        0         0   78        H       U       U   \n",
            "\n",
            "  CHILD12  ... RFA_22R  RFA_22F  RFA_22A RFA_23R  RFA_23F  RFA_23A  RFA_24R  \\\n",
            "0       U  ...       S        4        E       S        4        E        S   \n",
            "1       U  ...       N        1        E       X        0        X        F   \n",
            "2       U  ...       S        4        D       S        4        D        S   \n",
            "3       U  ...       A        1        D       X        0        X        X   \n",
            "4       U  ...       I        4        E       A        3        D        A   \n",
            "\n",
            "   RFA_24F  RFA_24A  RDATE_SUM  \n",
            "0        4        E          7  \n",
            "1        1        E          2  \n",
            "2        3        D          7  \n",
            "3        0        X          7  \n",
            "4        3        D          2  \n",
            "\n",
            "[5 rows x 478 columns]\n"
          ]
        }
      ],
      "source": [
        "# Take a peek at the dataframe after cleaning\n",
        "print(df_dataset_import.head())"
      ]
    },
    {
      "cell_type": "code",
      "execution_count": 17,
      "metadata": {
        "id": "3fca2DVI0HBK",
        "outputId": "628e5ff5-e6b5-4edf-bfc9-7f0f1d351a3a",
        "colab": {
          "base_uri": "https://localhost:8080/"
        }
      },
      "outputs": [
        {
          "output_type": "stream",
          "name": "stdout",
          "text": [
            "<class 'pandas.core.frame.DataFrame'>\n",
            "RangeIndex: 95412 entries, 0 to 95411\n",
            "Data columns (total 478 columns):\n",
            " #    Column      Dtype  \n",
            "---   ------      -----  \n",
            " 0    PVASTATE    object \n",
            " 1    RECINHSE    int64  \n",
            " 2    RECP3       int64  \n",
            " 3    RECPGVG     int64  \n",
            " 4    RECSWEEP    int64  \n",
            " 5    AGE         int64  \n",
            " 6    HOMEOWNR    object \n",
            " 7    CHILD03     object \n",
            " 8    CHILD07     object \n",
            " 9    CHILD12     object \n",
            " 10   CHILD18     object \n",
            " 11   NUMCHLD     int64  \n",
            " 12   INCOME      int64  \n",
            " 13   GENDER      object \n",
            " 14   WEALTH1     int64  \n",
            " 15   HIT         int64  \n",
            " 16   MBCRAFT     int64  \n",
            " 17   MBGARDEN    int64  \n",
            " 18   MBBOOKS     int64  \n",
            " 19   MBCOLECT    int64  \n",
            " 20   MAGFAML     int64  \n",
            " 21   MAGFEM      int64  \n",
            " 22   MAGMALE     int64  \n",
            " 23   PUBGARDN    int64  \n",
            " 24   PUBCULIN    int64  \n",
            " 25   PUBHLTH     int64  \n",
            " 26   PUBDOITY    int64  \n",
            " 27   PUBNEWFN    int64  \n",
            " 28   PUBPHOTO    int64  \n",
            " 29   PUBOPP      int64  \n",
            " 30   MALEMILI    int64  \n",
            " 31   MALEVET     int64  \n",
            " 32   VIETVETS    int64  \n",
            " 33   WWIIVETS    int64  \n",
            " 34   LOCALGOV    int64  \n",
            " 35   STATEGOV    int64  \n",
            " 36   FEDGOV      int64  \n",
            " 37   SOLP3       int64  \n",
            " 38   SOLIH       int64  \n",
            " 39   MAJOR       int64  \n",
            " 40   WEALTH2     int64  \n",
            " 41   COLLECT1    int64  \n",
            " 42   VETERANS    int64  \n",
            " 43   BIBLE       int64  \n",
            " 44   CATLG       int64  \n",
            " 45   HOMEE       int64  \n",
            " 46   PETS        int64  \n",
            " 47   CDPLAY      int64  \n",
            " 48   STEREO      int64  \n",
            " 49   PCOWNERS    int64  \n",
            " 50   PHOTO       int64  \n",
            " 51   CRAFTS      int64  \n",
            " 52   FISHER      int64  \n",
            " 53   GARDENIN    int64  \n",
            " 54   BOATS       int64  \n",
            " 55   WALKER      int64  \n",
            " 56   KIDSTUFF    int64  \n",
            " 57   CARDS       int64  \n",
            " 58   PLATES      int64  \n",
            " 59   PEPSTRFL    int64  \n",
            " 60   POP901      int64  \n",
            " 61   POP902      int64  \n",
            " 62   POP903      int64  \n",
            " 63   POP90C1     int64  \n",
            " 64   POP90C2     int64  \n",
            " 65   POP90C3     int64  \n",
            " 66   POP90C4     int64  \n",
            " 67   POP90C5     int64  \n",
            " 68   ETH1        int64  \n",
            " 69   ETH2        int64  \n",
            " 70   ETH3        int64  \n",
            " 71   ETH4        int64  \n",
            " 72   ETH5        int64  \n",
            " 73   ETH6        int64  \n",
            " 74   ETH7        int64  \n",
            " 75   ETH8        int64  \n",
            " 76   ETH9        int64  \n",
            " 77   ETH10       int64  \n",
            " 78   ETH11       int64  \n",
            " 79   ETH12       int64  \n",
            " 80   ETH13       int64  \n",
            " 81   ETH14       int64  \n",
            " 82   ETH15       int64  \n",
            " 83   ETH16       int64  \n",
            " 84   AGE901      int64  \n",
            " 85   AGE902      int64  \n",
            " 86   AGE903      int64  \n",
            " 87   AGE904      int64  \n",
            " 88   AGE905      int64  \n",
            " 89   AGE906      int64  \n",
            " 90   AGE907      int64  \n",
            " 91   CHIL1       int64  \n",
            " 92   CHIL2       int64  \n",
            " 93   CHIL3       int64  \n",
            " 94   AGEC1       int64  \n",
            " 95   AGEC2       int64  \n",
            " 96   AGEC3       int64  \n",
            " 97   AGEC4       int64  \n",
            " 98   AGEC5       int64  \n",
            " 99   AGEC6       int64  \n",
            " 100  AGEC7       int64  \n",
            " 101  CHILC1      int64  \n",
            " 102  CHILC2      int64  \n",
            " 103  CHILC3      int64  \n",
            " 104  CHILC4      int64  \n",
            " 105  CHILC5      int64  \n",
            " 106  HHAGE1      int64  \n",
            " 107  HHAGE2      int64  \n",
            " 108  HHAGE3      int64  \n",
            " 109  HHN1        int64  \n",
            " 110  HHN2        int64  \n",
            " 111  HHN3        int64  \n",
            " 112  HHN4        int64  \n",
            " 113  HHN5        int64  \n",
            " 114  HHN6        int64  \n",
            " 115  MARR1       int64  \n",
            " 116  MARR2       int64  \n",
            " 117  MARR3       int64  \n",
            " 118  MARR4       int64  \n",
            " 119  HHP1        int64  \n",
            " 120  HHP2        int64  \n",
            " 121  DW1         int64  \n",
            " 122  DW2         int64  \n",
            " 123  DW3         int64  \n",
            " 124  DW4         int64  \n",
            " 125  DW5         int64  \n",
            " 126  DW6         int64  \n",
            " 127  DW7         int64  \n",
            " 128  DW8         int64  \n",
            " 129  DW9         int64  \n",
            " 130  HV1         int64  \n",
            " 131  HV2         int64  \n",
            " 132  HV3         int64  \n",
            " 133  HV4         int64  \n",
            " 134  HU1         int64  \n",
            " 135  HU2         int64  \n",
            " 136  HU3         int64  \n",
            " 137  HU4         int64  \n",
            " 138  HU5         int64  \n",
            " 139  HHD1        int64  \n",
            " 140  HHD2        int64  \n",
            " 141  HHD3        int64  \n",
            " 142  HHD4        int64  \n",
            " 143  HHD5        int64  \n",
            " 144  HHD6        int64  \n",
            " 145  HHD7        int64  \n",
            " 146  HHD8        int64  \n",
            " 147  HHD9        int64  \n",
            " 148  HHD10       int64  \n",
            " 149  HHD11       int64  \n",
            " 150  HHD12       int64  \n",
            " 151  ETHC1       int64  \n",
            " 152  ETHC2       int64  \n",
            " 153  ETHC3       int64  \n",
            " 154  ETHC4       int64  \n",
            " 155  ETHC5       int64  \n",
            " 156  ETHC6       int64  \n",
            " 157  HVP1        int64  \n",
            " 158  HVP2        int64  \n",
            " 159  HVP3        int64  \n",
            " 160  HVP4        int64  \n",
            " 161  HVP5        int64  \n",
            " 162  HVP6        int64  \n",
            " 163  HUR1        int64  \n",
            " 164  HUR2        int64  \n",
            " 165  RHP1        int64  \n",
            " 166  RHP2        int64  \n",
            " 167  RHP3        int64  \n",
            " 168  RHP4        int64  \n",
            " 169  HUPA1       int64  \n",
            " 170  HUPA2       int64  \n",
            " 171  HUPA3       int64  \n",
            " 172  HUPA4       int64  \n",
            " 173  HUPA5       int64  \n",
            " 174  HUPA6       int64  \n",
            " 175  HUPA7       int64  \n",
            " 176  RP1         int64  \n",
            " 177  RP2         int64  \n",
            " 178  RP3         int64  \n",
            " 179  RP4         int64  \n",
            " 180  IC1         int64  \n",
            " 181  IC2         int64  \n",
            " 182  IC3         int64  \n",
            " 183  IC4         int64  \n",
            " 184  IC5         int64  \n",
            " 185  IC6         int64  \n",
            " 186  IC7         int64  \n",
            " 187  IC8         int64  \n",
            " 188  IC9         int64  \n",
            " 189  IC10        int64  \n",
            " 190  IC11        int64  \n",
            " 191  IC12        int64  \n",
            " 192  IC13        int64  \n",
            " 193  IC14        int64  \n",
            " 194  IC15        int64  \n",
            " 195  IC16        int64  \n",
            " 196  IC17        int64  \n",
            " 197  IC18        int64  \n",
            " 198  IC19        int64  \n",
            " 199  IC20        int64  \n",
            " 200  IC21        int64  \n",
            " 201  IC22        int64  \n",
            " 202  IC23        int64  \n",
            " 203  HHAS1       int64  \n",
            " 204  HHAS2       int64  \n",
            " 205  HHAS3       int64  \n",
            " 206  HHAS4       int64  \n",
            " 207  MC1         int64  \n",
            " 208  MC2         int64  \n",
            " 209  MC3         int64  \n",
            " 210  TPE1        int64  \n",
            " 211  TPE2        int64  \n",
            " 212  TPE3        int64  \n",
            " 213  TPE4        int64  \n",
            " 214  TPE5        int64  \n",
            " 215  TPE6        int64  \n",
            " 216  TPE7        int64  \n",
            " 217  TPE8        int64  \n",
            " 218  TPE9        int64  \n",
            " 219  PEC1        int64  \n",
            " 220  PEC2        int64  \n",
            " 221  TPE10       int64  \n",
            " 222  TPE11       int64  \n",
            " 223  TPE12       int64  \n",
            " 224  TPE13       int64  \n",
            " 225  LFC1        int64  \n",
            " 226  LFC2        int64  \n",
            " 227  LFC3        int64  \n",
            " 228  LFC4        int64  \n",
            " 229  LFC5        int64  \n",
            " 230  LFC6        int64  \n",
            " 231  LFC7        int64  \n",
            " 232  LFC8        int64  \n",
            " 233  LFC9        int64  \n",
            " 234  LFC10       int64  \n",
            " 235  OCC1        int64  \n",
            " 236  OCC2        int64  \n",
            " 237  OCC3        int64  \n",
            " 238  OCC4        int64  \n",
            " 239  OCC5        int64  \n",
            " 240  OCC6        int64  \n",
            " 241  OCC7        int64  \n",
            " 242  OCC8        int64  \n",
            " 243  OCC9        int64  \n",
            " 244  OCC10       int64  \n",
            " 245  OCC11       int64  \n",
            " 246  OCC12       int64  \n",
            " 247  OCC13       int64  \n",
            " 248  EIC1        int64  \n",
            " 249  EIC2        int64  \n",
            " 250  EIC3        int64  \n",
            " 251  EIC4        int64  \n",
            " 252  EIC5        int64  \n",
            " 253  EIC6        int64  \n",
            " 254  EIC7        int64  \n",
            " 255  EIC8        int64  \n",
            " 256  EIC9        int64  \n",
            " 257  EIC10       int64  \n",
            " 258  EIC11       int64  \n",
            " 259  EIC12       int64  \n",
            " 260  EIC13       int64  \n",
            " 261  EIC14       int64  \n",
            " 262  EIC15       int64  \n",
            " 263  EIC16       int64  \n",
            " 264  OEDC1       int64  \n",
            " 265  OEDC2       int64  \n",
            " 266  OEDC3       int64  \n",
            " 267  OEDC4       int64  \n",
            " 268  OEDC5       int64  \n",
            " 269  OEDC6       int64  \n",
            " 270  OEDC7       int64  \n",
            " 271  EC1         int64  \n",
            " 272  EC2         int64  \n",
            " 273  EC3         int64  \n",
            " 274  EC4         int64  \n",
            " 275  EC5         int64  \n",
            " 276  EC6         int64  \n",
            " 277  EC7         int64  \n",
            " 278  EC8         int64  \n",
            " 279  SEC1        int64  \n",
            " 280  SEC2        int64  \n",
            " 281  SEC3        int64  \n",
            " 282  SEC4        int64  \n",
            " 283  SEC5        int64  \n",
            " 284  AFC1        int64  \n",
            " 285  AFC2        int64  \n",
            " 286  AFC3        int64  \n",
            " 287  AFC4        int64  \n",
            " 288  AFC5        int64  \n",
            " 289  AFC6        int64  \n",
            " 290  VC1         int64  \n",
            " 291  VC2         int64  \n",
            " 292  VC3         int64  \n",
            " 293  VC4         int64  \n",
            " 294  ANC1        int64  \n",
            " 295  ANC2        int64  \n",
            " 296  ANC3        int64  \n",
            " 297  ANC4        int64  \n",
            " 298  ANC5        int64  \n",
            " 299  ANC6        int64  \n",
            " 300  ANC7        int64  \n",
            " 301  ANC8        int64  \n",
            " 302  ANC9        int64  \n",
            " 303  ANC10       int64  \n",
            " 304  ANC11       int64  \n",
            " 305  ANC12       int64  \n",
            " 306  ANC13       int64  \n",
            " 307  ANC14       int64  \n",
            " 308  ANC15       int64  \n",
            " 309  POBC1       int64  \n",
            " 310  POBC2       int64  \n",
            " 311  LSC1        int64  \n",
            " 312  LSC2        int64  \n",
            " 313  LSC3        int64  \n",
            " 314  LSC4        int64  \n",
            " 315  VOC1        int64  \n",
            " 316  VOC2        int64  \n",
            " 317  VOC3        int64  \n",
            " 318  HC1         int64  \n",
            " 319  HC2         int64  \n",
            " 320  HC3         int64  \n",
            " 321  HC4         int64  \n",
            " 322  HC5         int64  \n",
            " 323  HC6         int64  \n",
            " 324  HC7         int64  \n",
            " 325  HC8         int64  \n",
            " 326  HC9         int64  \n",
            " 327  HC10        int64  \n",
            " 328  HC11        int64  \n",
            " 329  HC12        int64  \n",
            " 330  HC13        int64  \n",
            " 331  HC14        int64  \n",
            " 332  HC15        int64  \n",
            " 333  HC16        int64  \n",
            " 334  HC17        int64  \n",
            " 335  HC18        int64  \n",
            " 336  HC19        int64  \n",
            " 337  HC20        int64  \n",
            " 338  HC21        int64  \n",
            " 339  MHUC1       int64  \n",
            " 340  MHUC2       int64  \n",
            " 341  AC1         int64  \n",
            " 342  AC2         int64  \n",
            " 343  CARDPROM    int64  \n",
            " 344  MAXADATE    int64  \n",
            " 345  NUMPROM     int64  \n",
            " 346  CARDPM12    int64  \n",
            " 347  NUMPRM12    int64  \n",
            " 348  RDATE_3     int64  \n",
            " 349  RDATE_4     int64  \n",
            " 350  RDATE_5     int64  \n",
            " 351  RDATE_6     int64  \n",
            " 352  RDATE_7     int64  \n",
            " 353  RDATE_8     int64  \n",
            " 354  RDATE_9     int64  \n",
            " 355  RDATE_10    int64  \n",
            " 356  RDATE_11    int64  \n",
            " 357  RDATE_12    int64  \n",
            " 358  RDATE_13    int64  \n",
            " 359  RDATE_14    int64  \n",
            " 360  RDATE_15    int64  \n",
            " 361  RDATE_16    int64  \n",
            " 362  RDATE_17    int64  \n",
            " 363  RDATE_18    int64  \n",
            " 364  RDATE_19    int64  \n",
            " 365  RDATE_20    int64  \n",
            " 366  RDATE_21    int64  \n",
            " 367  RDATE_22    int64  \n",
            " 368  RDATE_23    int64  \n",
            " 369  RDATE_24    int64  \n",
            " 370  RAMNT_3     int64  \n",
            " 371  RAMNT_4     int64  \n",
            " 372  RAMNT_5     int64  \n",
            " 373  RAMNT_6     int64  \n",
            " 374  RAMNT_7     int64  \n",
            " 375  RAMNT_8     int64  \n",
            " 376  RAMNT_9     int64  \n",
            " 377  RAMNT_10    int64  \n",
            " 378  RAMNT_11    int64  \n",
            " 379  RAMNT_12    int64  \n",
            " 380  RAMNT_13    int64  \n",
            " 381  RAMNT_14    int64  \n",
            " 382  RAMNT_15    int64  \n",
            " 383  RAMNT_16    int64  \n",
            " 384  RAMNT_17    int64  \n",
            " 385  RAMNT_18    int64  \n",
            " 386  RAMNT_19    int64  \n",
            " 387  RAMNT_20    int64  \n",
            " 388  RAMNT_21    int64  \n",
            " 389  RAMNT_22    int64  \n",
            " 390  RAMNT_23    int64  \n",
            " 391  RAMNT_24    int64  \n",
            " 392  RAMNTALL    float64\n",
            " 393  NGIFTALL    int64  \n",
            " 394  CARDGIFT    int64  \n",
            " 395  MINRAMNT    float64\n",
            " 396  MAXRAMNT    float64\n",
            " 397  LASTGIFT    float64\n",
            " 398  LASTDATE    int64  \n",
            " 399  TIMELAG     int64  \n",
            " 400  AVGGIFT     float64\n",
            " 401  target      int64  \n",
            " 402  HPHONE_D    int64  \n",
            " 403  RFA_2R      object \n",
            " 404  RFA_2F      int64  \n",
            " 405  RFA_2A      object \n",
            " 406  MDMAUD_R    object \n",
            " 407  MDMAUD_F    object \n",
            " 408  MDMAUD_A    object \n",
            " 409  DOMAIN_URB  object \n",
            " 410  DOMAIN_SES  object \n",
            " 411  RFA_3R      object \n",
            " 412  RFA_3F      int64  \n",
            " 413  RFA_3A      object \n",
            " 414  RFA_4R      object \n",
            " 415  RFA_4F      int64  \n",
            " 416  RFA_4A      object \n",
            " 417  RFA_5R      object \n",
            " 418  RFA_5F      int64  \n",
            " 419  RFA_5A      object \n",
            " 420  RFA_6R      object \n",
            " 421  RFA_6F      int64  \n",
            " 422  RFA_6A      object \n",
            " 423  RFA_7R      object \n",
            " 424  RFA_7F      int64  \n",
            " 425  RFA_7A      object \n",
            " 426  RFA_8R      object \n",
            " 427  RFA_8F      int64  \n",
            " 428  RFA_8A      object \n",
            " 429  RFA_9R      object \n",
            " 430  RFA_9F      int64  \n",
            " 431  RFA_9A      object \n",
            " 432  RFA_10R     object \n",
            " 433  RFA_10F     int64  \n",
            " 434  RFA_10A     object \n",
            " 435  RFA_11R     object \n",
            " 436  RFA_11F     int64  \n",
            " 437  RFA_11A     object \n",
            " 438  RFA_12R     object \n",
            " 439  RFA_12F     int64  \n",
            " 440  RFA_12A     object \n",
            " 441  RFA_13R     object \n",
            " 442  RFA_13F     int64  \n",
            " 443  RFA_13A     object \n",
            " 444  RFA_14R     object \n",
            " 445  RFA_14F     int64  \n",
            " 446  RFA_14A     object \n",
            " 447  RFA_15R     object \n",
            " 448  RFA_15F     int64  \n",
            " 449  RFA_15A     object \n",
            " 450  RFA_16R     object \n",
            " 451  RFA_16F     int64  \n",
            " 452  RFA_16A     object \n",
            " 453  RFA_17R     object \n",
            " 454  RFA_17F     int64  \n",
            " 455  RFA_17A     object \n",
            " 456  RFA_18R     object \n",
            " 457  RFA_18F     int64  \n",
            " 458  RFA_18A     object \n",
            " 459  RFA_19R     object \n",
            " 460  RFA_19F     int64  \n",
            " 461  RFA_19A     object \n",
            " 462  RFA_20R     object \n",
            " 463  RFA_20F     int64  \n",
            " 464  RFA_20A     object \n",
            " 465  RFA_21R     object \n",
            " 466  RFA_21F     int64  \n",
            " 467  RFA_21A     object \n",
            " 468  RFA_22R     object \n",
            " 469  RFA_22F     int64  \n",
            " 470  RFA_22A     object \n",
            " 471  RFA_23R     object \n",
            " 472  RFA_23F     int64  \n",
            " 473  RFA_23A     object \n",
            " 474  RFA_24R     object \n",
            " 475  RFA_24F     int64  \n",
            " 476  RFA_24A     object \n",
            " 477  RDATE_SUM   int64  \n",
            "dtypes: float64(5), int64(415), object(58)\n",
            "memory usage: 348.0+ MB\n"
          ]
        }
      ],
      "source": [
        "df_dataset_import.info(verbose=True)"
      ]
    },
    {
      "cell_type": "code",
      "execution_count": 18,
      "metadata": {
        "id": "2rTk5mMZ0HBK",
        "outputId": "e8ccb299-97a3-43d0-a999-e8d56fcb78ae",
        "colab": {
          "base_uri": "https://localhost:8080/"
        }
      },
      "outputs": [
        {
          "output_type": "stream",
          "name": "stdout",
          "text": [
            "           RECINHSE         RECP3       RECPGVG      RECSWEEP           AGE  \\\n",
            "count  95412.000000  95412.000000  95412.000000  95412.000000  95412.000000   \n",
            "mean       0.070253      0.021140      0.001195      0.016948     61.707972   \n",
            "std        0.255575      0.143851      0.034546      0.129076     14.451513   \n",
            "min        0.000000      0.000000      0.000000      0.000000      1.000000   \n",
            "25%        0.000000      0.000000      0.000000      0.000000     52.000000   \n",
            "50%        0.000000      0.000000      0.000000      0.000000     62.000000   \n",
            "75%        0.000000      0.000000      0.000000      0.000000     71.000000   \n",
            "max        1.000000      1.000000      1.000000      1.000000     98.000000   \n",
            "\n",
            "            NUMCHLD        INCOME       WEALTH1           HIT       MBCRAFT  \\\n",
            "count  95412.000000  95412.000000  95412.000000  95412.000000  95412.000000   \n",
            "mean       0.198329      3.911625      5.652455      3.321438      0.067832   \n",
            "std        0.590066      1.635685      2.025250      9.306899      0.322884   \n",
            "min        0.000000      1.000000      0.000000      0.000000      0.000000   \n",
            "25%        0.000000      3.000000      5.000000      0.000000      0.000000   \n",
            "50%        0.000000      4.000000      6.000000      0.000000      0.000000   \n",
            "75%        0.000000      5.000000      6.000000      3.000000      0.000000   \n",
            "max        7.000000      7.000000      9.000000    241.000000      6.000000   \n",
            "\n",
            "       ...       RFA_16F       RFA_17F       RFA_18F       RFA_19F  \\\n",
            "count  ...  95412.000000  95412.000000  95412.000000  95412.000000   \n",
            "mean   ...      1.543558      1.318209      1.460414      1.438561   \n",
            "std    ...      1.249355      1.224271      1.225579      1.251036   \n",
            "min    ...      0.000000      0.000000      0.000000      0.000000   \n",
            "25%    ...      1.000000      0.000000      1.000000      0.000000   \n",
            "50%    ...      1.000000      1.000000      1.000000      1.000000   \n",
            "75%    ...      2.000000      2.000000      2.000000      2.000000   \n",
            "max    ...      4.000000      4.000000      4.000000      4.000000   \n",
            "\n",
            "            RFA_20F       RFA_21F       RFA_22F       RFA_23F       RFA_24F  \\\n",
            "count  95412.000000  95412.000000  95412.000000  95412.000000  95412.000000   \n",
            "mean       0.871746      1.130246      1.363193      0.921132      1.168480   \n",
            "std        1.150567      1.173142      1.216436      1.312848      1.247637   \n",
            "min        0.000000      0.000000      0.000000      0.000000      0.000000   \n",
            "25%        0.000000      0.000000      0.000000      0.000000      0.000000   \n",
            "50%        0.000000      1.000000      1.000000      0.000000      1.000000   \n",
            "75%        1.000000      2.000000      2.000000      2.000000      2.000000   \n",
            "max        4.000000      4.000000      4.000000      4.000000      4.000000   \n",
            "\n",
            "          RDATE_SUM  \n",
            "count  95412.000000  \n",
            "mean       2.914308  \n",
            "std        1.964237  \n",
            "min        0.000000  \n",
            "25%        1.000000  \n",
            "50%        2.000000  \n",
            "75%        4.000000  \n",
            "max       16.000000  \n",
            "\n",
            "[8 rows x 420 columns]\n"
          ]
        }
      ],
      "source": [
        "print(df_dataset_import.describe())"
      ]
    },
    {
      "cell_type": "code",
      "execution_count": 19,
      "metadata": {
        "id": "6giGGga_0HBK",
        "outputId": "7f1c6df9-84c3-43a9-e7f1-56770545b1b6",
        "colab": {
          "base_uri": "https://localhost:8080/"
        }
      },
      "outputs": [
        {
          "output_type": "stream",
          "name": "stdout",
          "text": [
            "PVASTATE     0\n",
            "RECINHSE     0\n",
            "RECP3        0\n",
            "RECPGVG      0\n",
            "RECSWEEP     0\n",
            "            ..\n",
            "RFA_23A      0\n",
            "RFA_24R      0\n",
            "RFA_24F      0\n",
            "RFA_24A      0\n",
            "RDATE_SUM    0\n",
            "Length: 478, dtype: int64\n",
            "Total number of NaN in the dataframe:  0\n"
          ]
        }
      ],
      "source": [
        "# pd.set_option('display.max_rows', None)\n",
        "print(df_dataset_import.isnull().sum())\n",
        "print('Total number of NaN in the dataframe: ', df_dataset_import.isnull().sum().sum())"
      ]
    },
    {
      "cell_type": "code",
      "execution_count": 20,
      "metadata": {
        "id": "X4pVm3PH0HBK",
        "outputId": "c50c1423-11a9-4db1-e3ec-7d19b79b2203",
        "colab": {
          "base_uri": "https://localhost:8080/"
        }
      },
      "outputs": [
        {
          "output_type": "stream",
          "name": "stdout",
          "text": [
            "target\n",
            "0    90569\n",
            "1     4843\n",
            "dtype: int64\n"
          ]
        }
      ],
      "source": [
        "# Get grouping size for the target variable\n",
        "print(df_dataset_import.groupby('target').size())"
      ]
    },
    {
      "cell_type": "markdown",
      "metadata": {
        "id": "08gdAJCe0HBK"
      },
      "source": [
        "### 1.e) Splitting Data into Sets"
      ]
    },
    {
      "cell_type": "code",
      "execution_count": 21,
      "metadata": {
        "id": "hgMlCdl-0HBL",
        "outputId": "46cbc038-c41b-43f4-c498-d5e4c7fc3e27",
        "colab": {
          "base_uri": "https://localhost:8080/"
        }
      },
      "outputs": [
        {
          "output_type": "stream",
          "name": "stdout",
          "text": [
            "df_dataset_import.shape: (95412, 478) df_features_train.shape: (95412, 477) df_target_train.shape: (95412,)\n"
          ]
        }
      ],
      "source": [
        "# Use variable total_column_count to hold the number of columns in the dataframe\n",
        "total_column_count = len(df_dataset_import.columns)\n",
        "\n",
        "# Set up variable total_feature_count for the total number of attribute columns\n",
        "total_feature_count = total_column_count-1\n",
        "\n",
        "# We create attribute-only and target-only datasets (df_features_train and df_target_train)\n",
        "df_target_train = df_dataset_import['target']\n",
        "df_features_train = df_dataset_import.drop(['target'], axis=1)\n",
        "\n",
        "# print(\"df_dataset_import.shape: {} df_features_import.shape: {} df_target_import.shape: {}\".format(df_dataset_import.shape, df_features_import.shape, df_target_import.shape))\n",
        "print(\"df_dataset_import.shape: {} df_features_train.shape: {} df_target_train.shape: {}\".format(df_dataset_import.shape, df_features_train.shape, df_target_train.shape))"
      ]
    },
    {
      "cell_type": "markdown",
      "metadata": {
        "id": "cXGtWbRz0HBL"
      },
      "source": [
        "### 1.f) Set up the parameters for data visualization"
      ]
    },
    {
      "cell_type": "code",
      "execution_count": 22,
      "metadata": {
        "id": "MYHh2xNN0HBL"
      },
      "outputs": [],
      "source": [
        "# Set up the number of row and columns for visualization display. display_rows * display_columns should be >= total_feature_count\n",
        "display_columns = 4\n",
        "if total_feature_count % display_columns == 0 :\n",
        "    display_rows = total_feature_count // display_columns\n",
        "else :\n",
        "    display_rows = (total_feature_count // display_columns) + 1\n",
        "\n",
        "# Set figure width to display the data visualization plots\n",
        "fig_size = plt.rcParams[\"figure.figsize\"]\n",
        "fig_size[0] = display_columns * 4\n",
        "fig_size[1] = display_rows * 4\n",
        "plt.rcParams[\"figure.figsize\"] = fig_size"
      ]
    },
    {
      "cell_type": "code",
      "execution_count": 23,
      "metadata": {
        "id": "XGTAjFy70HBL"
      },
      "outputs": [],
      "source": [
        "if NOTIFY_STATUS: status_notify(\"Task 1 - Prepare Environment completed! \" + datetime.now().strftime('%a %B %d, %Y %I:%M:%S %p'))"
      ]
    },
    {
      "cell_type": "markdown",
      "metadata": {
        "id": "n4KIPd1c0HBL"
      },
      "source": [
        "## Task 2 - Summarize and Visualize Data"
      ]
    },
    {
      "cell_type": "code",
      "execution_count": 24,
      "metadata": {
        "id": "JtashVco0HBL"
      },
      "outputs": [],
      "source": [
        "if NOTIFY_STATUS: status_notify(\"Task 2 - Summarize and Visualize Data has begun! \" + datetime.now().strftime('%a %B %d, %Y %I:%M:%S %p'))"
      ]
    },
    {
      "cell_type": "code",
      "execution_count": 25,
      "metadata": {
        "id": "olfc4PU80HBL"
      },
      "outputs": [],
      "source": [
        "# # Histograms for each attribute\n",
        "# df_features_train.plot(kind='hist', subplots=True, layout=(display_rows, display_columns))\n",
        "# plt.show()"
      ]
    },
    {
      "cell_type": "code",
      "execution_count": 26,
      "metadata": {
        "id": "tjDiiS_b0HBL"
      },
      "outputs": [],
      "source": [
        "# # Box and Whisker plot for each attribute\n",
        "# df_features_train.plot(kind='box', subplots=True, layout=(display_rows, display_columns))\n",
        "# plt.show()"
      ]
    },
    {
      "cell_type": "code",
      "execution_count": 27,
      "metadata": {
        "id": "d2s1mK-q0HBL"
      },
      "outputs": [],
      "source": [
        "# # Correlation matrix\n",
        "# fig = plt.figure(figsize=(20, 20))\n",
        "# correlations = df_features_train.corr(method='pearson')\n",
        "# sns.heatmap(correlations, annot=True, cmap=plt.cm.PuBu)\n",
        "# plt.show()"
      ]
    },
    {
      "cell_type": "code",
      "execution_count": 28,
      "metadata": {
        "id": "pHtEdQAO0HBM"
      },
      "outputs": [],
      "source": [
        "if NOTIFY_STATUS: status_notify(\"Task 2 - Summarize and Visualize Data completed! \" + datetime.now().strftime('%a %B %d, %Y %I:%M:%S %p'))"
      ]
    },
    {
      "cell_type": "markdown",
      "metadata": {
        "id": "JGCw1sgn0HBM"
      },
      "source": [
        "## Task 3 - Pre-process Data"
      ]
    },
    {
      "cell_type": "code",
      "execution_count": 29,
      "metadata": {
        "id": "OIyn5D590HBM"
      },
      "outputs": [],
      "source": [
        "if NOTIFY_STATUS: status_notify(\"Task 3 - Pre-process Data has begun! \" + datetime.now().strftime('%a %B %d, %Y %I:%M:%S %p'))"
      ]
    },
    {
      "cell_type": "markdown",
      "metadata": {
        "id": "tkMe6NJG0HBM"
      },
      "source": [
        "### 3.a) Feature Scaling and Data Pre-Processing"
      ]
    },
    {
      "cell_type": "code",
      "execution_count": 30,
      "metadata": {
        "id": "iE4z5L4_0HBM",
        "outputId": "139ae3d5-e2e8-4888-8724-8142107fd888",
        "colab": {
          "base_uri": "https://localhost:8080/"
        }
      },
      "outputs": [
        {
          "output_type": "stream",
          "name": "stdout",
          "text": [
            "Number of numerical columns: 5\n",
            "Number of categorical columns: 58\n",
            "Total number of columns in the feature dataframe: 477\n"
          ]
        }
      ],
      "source": [
        "# Compose pipeline for the numerical and categorical features (Block #1 of 2)\n",
        "numeric_columns = df_features_train.select_dtypes(include=['float64']).columns\n",
        "numeric_transformer = Pipeline(steps=[\n",
        "    ('imputer', impute.SimpleImputer(strategy=\"constant\", fill_value=0)),\n",
        "    ('scaler', preprocessing.MinMaxScaler())\n",
        "])\n",
        "categorical_columns = df_features_train.select_dtypes(include=['object','bool','category']).columns\n",
        "categorical_transformer = Pipeline(steps=[\n",
        "    ('imputer', impute.SimpleImputer(strategy='constant', fill_value='UNKNOWN')),\n",
        "    ('onehot', preprocessing.OneHotEncoder(sparse=False, handle_unknown='ignore'))\n",
        "])\n",
        "\n",
        "print(\"Number of numerical columns:\", len(numeric_columns))\n",
        "print(\"Number of categorical columns:\", len(categorical_columns))\n",
        "print(\"Total number of columns in the feature dataframe:\", df_features_train.shape[1])"
      ]
    },
    {
      "cell_type": "code",
      "execution_count": 31,
      "metadata": {
        "id": "fiSSvUqw0HBM",
        "outputId": "19ab308c-8da2-4d41-ffa4-e88c83155ef6",
        "colab": {
          "base_uri": "https://localhost:8080/"
        }
      },
      "outputs": [
        {
          "output_type": "stream",
          "name": "stdout",
          "text": [
            "Transformed features from df_features_train.shape: (95412, 477) to array_features_train.shape: (95412, 816)\n"
          ]
        }
      ],
      "source": [
        "# Compose pipeline for the numerical and categorical features (Block #2 of 2)\n",
        "preprocessor = compose.ColumnTransformer(transformers=[\n",
        "    ('num', numeric_transformer, numeric_columns),\n",
        "    ('cat', categorical_transformer, categorical_columns)\n",
        "], remainder='passthrough')\n",
        "\n",
        "# Display the shapes of the training dataset for final inspection\n",
        "array_features_train = preprocessor.fit_transform(df_features_train)\n",
        "print(\"Transformed features from df_features_train.shape: {} to array_features_train.shape: {}\".format(df_features_train.shape, array_features_train.shape))"
      ]
    },
    {
      "cell_type": "markdown",
      "metadata": {
        "id": "oU_oJEGw0HBM"
      },
      "source": [
        "### 3.b) Training Data Balancing"
      ]
    },
    {
      "cell_type": "code",
      "execution_count": 32,
      "metadata": {
        "id": "o26YJxmu0HBM",
        "colab": {
          "base_uri": "https://localhost:8080/"
        },
        "outputId": "a82b3830-1e49-4ab1-dabb-2e307afc2561"
      },
      "outputs": [
        {
          "output_type": "stream",
          "name": "stdout",
          "text": [
            "X_train_imbal.shape: (95412, 816) y_train_imbal.shape: (95412,)\n"
          ]
        }
      ],
      "source": [
        "# Perform SMOTE transformation on the training data (Block #1 of 2)\n",
        "X_train_imbal = array_features_train\n",
        "y_train_imbal = df_target_train.ravel()\n",
        "print(\"X_train_imbal.shape: {} y_train_imbal.shape: {}\".format(X_train_imbal.shape, y_train_imbal.shape))"
      ]
    },
    {
      "cell_type": "code",
      "execution_count": 33,
      "metadata": {
        "id": "DzQDvkc50HBM",
        "colab": {
          "base_uri": "https://localhost:8080/"
        },
        "outputId": "109ba0de-f7ee-4ced-aa4f-c28aad9c8005"
      },
      "outputs": [
        {
          "output_type": "stream",
          "name": "stdout",
          "text": [
            "Original class distribution - 1: 4843 | 0: 90569\n",
            "Resampled class distribution - 1: 9056 | 0: 9056\n"
          ]
        }
      ],
      "source": [
        "# Perform SMOTE transformation on the training data (Block #2 of 2)\n",
        "print ('Original class distribution - 1: {} | 0: {}'.format((y_train_imbal==1).sum(), (y_train_imbal==0).sum()))\n",
        "over_sample = SMOTE(sampling_strategy=0.1, random_state=RNG_SEED)\n",
        "under_sample = RandomUnderSampler(sampling_strategy=1.0, random_state=RNG_SEED)\n",
        "steps = [('o', over_sample), ('u', under_sample)]\n",
        "sample_pipeline = Pipeline(steps=steps)\n",
        "array_features_train, y_train_balanced = sample_pipeline.fit_resample(X_train_imbal, y_train_imbal)\n",
        "print ('Resampled class distribution - 1: {} | 0: {}'.format((y_train_balanced==1).sum(), (y_train_balanced==0).sum()))"
      ]
    },
    {
      "cell_type": "markdown",
      "metadata": {
        "id": "qa7lSLIF0HBM"
      },
      "source": [
        "### 3.c) Feature Selection"
      ]
    },
    {
      "cell_type": "code",
      "execution_count": 34,
      "metadata": {
        "id": "TCyTw5gZ0HBN"
      },
      "outputs": [],
      "source": [
        "# Not applicable for this iteration of the project"
      ]
    },
    {
      "cell_type": "markdown",
      "metadata": {
        "id": "xieDz-gI0HBN"
      },
      "source": [
        "### 3.d) Display the Final Datasets for Model-Building"
      ]
    },
    {
      "cell_type": "code",
      "execution_count": 35,
      "metadata": {
        "id": "78kP13Fu0HBN",
        "outputId": "daa2da20-f10e-44c2-aace-553fb5cb06e5",
        "colab": {
          "base_uri": "https://localhost:8080/"
        }
      },
      "outputs": [
        {
          "output_type": "stream",
          "name": "stdout",
          "text": [
            "array_features_train.shape: (18112, 816) array_target_train.shape: (18112,)\n"
          ]
        }
      ],
      "source": [
        "# Finalize the training dataset for the modeling activities\n",
        "# array_target_train = df_target_train.ravel()\n",
        "array_target_train = y_train_balanced.ravel()\n",
        "print(\"array_features_train.shape: {} array_target_train.shape: {}\".format(array_features_train.shape, array_target_train.shape))"
      ]
    },
    {
      "cell_type": "code",
      "execution_count": 36,
      "metadata": {
        "id": "6UcKO3FT0HBN"
      },
      "outputs": [],
      "source": [
        "if NOTIFY_STATUS: status_notify(\"Task 3 - Pre-process Data completed! \" + datetime.now().strftime('%a %B %d, %Y %I:%M:%S %p'))"
      ]
    },
    {
      "cell_type": "markdown",
      "metadata": {
        "id": "20NWVzIv0HBN"
      },
      "source": [
        "## Task 4 - Train and Tune Models"
      ]
    },
    {
      "cell_type": "code",
      "execution_count": 37,
      "metadata": {
        "id": "M9sLviL10HBN"
      },
      "outputs": [],
      "source": [
        "if NOTIFY_STATUS: status_notify(\"Task 4 - Train and Tune Models has begun! \" + datetime.now().strftime('%a %B %d, %Y %I:%M:%S %p'))"
      ]
    },
    {
      "cell_type": "markdown",
      "metadata": {
        "id": "wMeseNrD0HBN"
      },
      "source": [
        "### 4.a) Set test options and evaluation metric"
      ]
    },
    {
      "cell_type": "code",
      "execution_count": 38,
      "metadata": {
        "id": "aS0WJ-5U0HBN"
      },
      "outputs": [],
      "source": [
        "# Set up Algorithms Spot-Checking Array\n",
        "start_time_training = datetime.now()\n",
        "train_models = []\n",
        "train_results = []\n",
        "train_model_names = []\n",
        "train_metrics = []"
      ]
    },
    {
      "cell_type": "code",
      "execution_count": 39,
      "metadata": {
        "id": "u7AA3BUL0HBN"
      },
      "outputs": [],
      "source": [
        "train_models.append(('LGR', LogisticRegression(solver='saga', random_state=RNG_SEED, n_jobs=N_JOBS)))\n",
        "train_models.append(('CART', DecisionTreeClassifier(random_state=RNG_SEED)))\n",
        "train_models.append(('KNN', KNeighborsClassifier(n_jobs=N_JOBS)))\n",
        "train_models.append(('BGT', BaggingClassifier(random_state=RNG_SEED, n_jobs=N_JOBS)))\n",
        "train_models.append(('RNF', RandomForestClassifier(random_state=RNG_SEED, n_jobs=N_JOBS)))\n",
        "train_models.append(('EXT', ExtraTreesClassifier(random_state=RNG_SEED, n_jobs=N_JOBS)))"
      ]
    },
    {
      "cell_type": "code",
      "execution_count": 40,
      "metadata": {
        "id": "yurgdw2Z0HBN",
        "outputId": "d6998608-0b8c-4025-b4f9-d78676598ab6",
        "colab": {
          "base_uri": "https://localhost:8080/"
        }
      },
      "outputs": [
        {
          "output_type": "stream",
          "name": "stderr",
          "text": [
            "[Parallel(n_jobs=1)]: Using backend SequentialBackend with 1 concurrent workers.\n",
            "/usr/local/lib/python3.7/dist-packages/sklearn/linear_model/_sag.py:354: ConvergenceWarning: The max_iter was reached which means the coef_ did not converge\n",
            "  ConvergenceWarning,\n",
            "/usr/local/lib/python3.7/dist-packages/sklearn/linear_model/_sag.py:354: ConvergenceWarning: The max_iter was reached which means the coef_ did not converge\n",
            "  ConvergenceWarning,\n",
            "/usr/local/lib/python3.7/dist-packages/sklearn/linear_model/_sag.py:354: ConvergenceWarning: The max_iter was reached which means the coef_ did not converge\n",
            "  ConvergenceWarning,\n",
            "/usr/local/lib/python3.7/dist-packages/sklearn/linear_model/_sag.py:354: ConvergenceWarning: The max_iter was reached which means the coef_ did not converge\n",
            "  ConvergenceWarning,\n",
            "/usr/local/lib/python3.7/dist-packages/sklearn/linear_model/_sag.py:354: ConvergenceWarning: The max_iter was reached which means the coef_ did not converge\n",
            "  ConvergenceWarning,\n",
            "[Parallel(n_jobs=1)]: Done   5 out of   5 | elapsed:  1.4min finished\n",
            "[Parallel(n_jobs=1)]: Using backend SequentialBackend with 1 concurrent workers.\n"
          ]
        },
        {
          "output_type": "stream",
          "name": "stdout",
          "text": [
            "LGR: 0.544540 (0.008470)\n",
            "LogisticRegression(n_jobs=1, random_state=888, solver='saga')\n",
            "Model training time: 0:01:24.004581 \n",
            "\n"
          ]
        },
        {
          "output_type": "stream",
          "name": "stderr",
          "text": [
            "[Parallel(n_jobs=1)]: Done   5 out of   5 | elapsed:   24.4s finished\n",
            "[Parallel(n_jobs=1)]: Using backend SequentialBackend with 1 concurrent workers.\n"
          ]
        },
        {
          "output_type": "stream",
          "name": "stdout",
          "text": [
            "CART: 0.664919 (0.004086)\n",
            "DecisionTreeClassifier(random_state=888)\n",
            "Model training time: 0:00:24.449145 \n",
            "\n"
          ]
        },
        {
          "output_type": "stream",
          "name": "stderr",
          "text": [
            "[Parallel(n_jobs=1)]: Done   5 out of   5 | elapsed:   18.9s finished\n",
            "[Parallel(n_jobs=1)]: Using backend SequentialBackend with 1 concurrent workers.\n"
          ]
        },
        {
          "output_type": "stream",
          "name": "stdout",
          "text": [
            "KNN: 0.674099 (0.009377)\n",
            "KNeighborsClassifier(n_jobs=1)\n",
            "Model training time: 0:00:18.948306 \n",
            "\n"
          ]
        },
        {
          "output_type": "stream",
          "name": "stderr",
          "text": [
            "[Parallel(n_jobs=1)]: Done   5 out of   5 | elapsed:  2.8min finished\n",
            "[Parallel(n_jobs=1)]: Using backend SequentialBackend with 1 concurrent workers.\n"
          ]
        },
        {
          "output_type": "stream",
          "name": "stdout",
          "text": [
            "BGT: 0.771043 (0.004626)\n",
            "BaggingClassifier(n_jobs=1, random_state=888)\n",
            "Model training time: 0:02:50.176437 \n",
            "\n"
          ]
        },
        {
          "output_type": "stream",
          "name": "stderr",
          "text": [
            "[Parallel(n_jobs=1)]: Done   5 out of   5 | elapsed:  1.1min finished\n",
            "[Parallel(n_jobs=1)]: Using backend SequentialBackend with 1 concurrent workers.\n"
          ]
        },
        {
          "output_type": "stream",
          "name": "stdout",
          "text": [
            "RNF: 0.804275 (0.007000)\n",
            "RandomForestClassifier(n_jobs=1, random_state=888)\n",
            "Model training time: 0:01:06.255286 \n",
            "\n",
            "EXT: 0.822026 (0.007264)\n",
            "ExtraTreesClassifier(n_jobs=1, random_state=888)\n",
            "Model training time: 0:00:48.174638 \n",
            "\n",
            "Average metrics (roc_auc) from all models: 0.7134836070551417\n",
            "Total training time for all models: 0:06:52.055732\n"
          ]
        },
        {
          "output_type": "stream",
          "name": "stderr",
          "text": [
            "[Parallel(n_jobs=1)]: Done   5 out of   5 | elapsed:   48.2s finished\n"
          ]
        }
      ],
      "source": [
        "# Generate model in turn\n",
        "for name, model in train_models:\n",
        "\tif NOTIFY_STATUS: status_notify(\"Algorithm\", name, \"modeling has begun! \" + datetime.now().strftime('%a %B %d, %Y %I:%M:%S %p'))\n",
        "\tstart_time_module = datetime.now()\n",
        "\tkfold = StratifiedKFold(n_splits=N_FOLDS, shuffle=True, random_state=RNG_SEED)\n",
        "\tcv_results = cross_val_score(model, array_features_train, array_target_train, cv=kfold, scoring=SCORING_METRIC, n_jobs=N_JOBS, verbose=1)\n",
        "\ttrain_results.append(cv_results)\n",
        "\ttrain_model_names.append(name)\n",
        "\ttrain_metrics.append(cv_results.mean())\n",
        "\tprint(\"%s: %f (%f)\" % (name, cv_results.mean(), cv_results.std()))\n",
        "\tprint(model)\n",
        "\tprint ('Model training time:', (datetime.now() - start_time_module), '\\n')\n",
        "\tif NOTIFY_STATUS: status_notify(\"Algorithm\", name, \"modeling completed! \" + datetime.now().strftime('%a %B %d, %Y %I:%M:%S %p'))\n",
        "print ('Average metrics (' + SCORING_METRIC + ') from all models:', np.mean(train_metrics))\n",
        "print ('Total training time for all models:', (datetime.now() - start_time_training))"
      ]
    },
    {
      "cell_type": "markdown",
      "metadata": {
        "id": "FZW00j1r0HBO"
      },
      "source": [
        "### 4.b) Spot-checking baseline algorithms"
      ]
    },
    {
      "cell_type": "code",
      "execution_count": 41,
      "metadata": {
        "id": "5HmYO4B70HBO",
        "colab": {
          "base_uri": "https://localhost:8080/",
          "height": 787
        },
        "outputId": "87d14756-5ed5-4355-fcb1-d74941778889"
      },
      "outputs": [
        {
          "output_type": "display_data",
          "data": {
            "text/plain": [
              "<Figure size 1152x864 with 1 Axes>"
            ],
            "image/png": "[encoded data removed]"
          },
          "metadata": {
            "needs_background": "light"
          }
        }
      ],
      "source": [
        "fig = plt.figure(figsize=(16,12))\n",
        "fig.suptitle('Algorithm Comparison - Spot Checking')\n",
        "ax = fig.add_subplot(111)\n",
        "plt.boxplot(train_results)\n",
        "ax.set_xticklabels(train_model_names)\n",
        "plt.show()"
      ]
    },
    {
      "cell_type": "code",
      "execution_count": 42,
      "metadata": {
        "id": "LAoyfRKq0HBO"
      },
      "outputs": [],
      "source": [
        "if NOTIFY_STATUS: status_notify(\"Task 4 - Train and Tune Models completed! \" + datetime.now().strftime('%a %B %d, %Y %I:%M:%S %p'))"
      ]
    },
    {
      "cell_type": "markdown",
      "metadata": {
        "id": "c8XCgEru0HBO"
      },
      "source": [
        "### 4.c) Algorithm Tuning"
      ]
    },
    {
      "cell_type": "code",
      "execution_count": 43,
      "metadata": {
        "id": "Ak-BSewD0HBO"
      },
      "outputs": [],
      "source": [
        "# Set up the comparison array\n",
        "tune_results = []\n",
        "tune_model_names = []"
      ]
    },
    {
      "cell_type": "code",
      "execution_count": 44,
      "metadata": {
        "id": "w-qkQ6Ny0HBO",
        "colab": {
          "base_uri": "https://localhost:8080/"
        },
        "outputId": "a7f4e6e4-a77f-4388-8178-ad2cdf25b2fa"
      },
      "outputs": [
        {
          "output_type": "stream",
          "name": "stdout",
          "text": [
            "Fitting 5 folds for each of 3 candidates, totalling 15 fits\n",
            "Best: 0.796489 using {'n_estimators': 50}\n",
            "0.771043 (0.004626) with: {'n_estimators': 10}\n",
            "0.791992 (0.002334) with: {'n_estimators': 30}\n",
            "0.796489 (0.003528) with: {'n_estimators': 50}\n",
            "Model training time: 0:29:02.872355\n"
          ]
        }
      ],
      "source": [
        "# Tuning algorithm #1\n",
        "start_time_module = datetime.now()\n",
        "if NOTIFY_STATUS: status_notify(\"Algorithm #1 tuning has begun! \" + datetime.now().strftime('%a %B %d, %Y %I:%M:%S %p'))\n",
        "\n",
        "tune_model1 = BaggingClassifier(random_state=RNG_SEED, n_jobs=N_JOBS)\n",
        "tune_model_names.append('BGT')\n",
        "paramGrid1 = dict(n_estimators=np.array([10, 30, 50]))\n",
        "\n",
        "kfold = StratifiedKFold(n_splits=N_FOLDS, shuffle=True, random_state=RNG_SEED)\n",
        "grid1 = GridSearchCV(estimator=tune_model1, param_grid=paramGrid1, scoring=SCORING_METRIC, cv=kfold, n_jobs=N_JOBS, verbose=1)\n",
        "grid_result1 = grid1.fit(array_features_train, array_target_train)\n",
        "\n",
        "print(\"Best: %f using %s\" % (grid_result1.best_score_, grid_result1.best_params_))\n",
        "tune_results.append(grid_result1.cv_results_['mean_test_score'])\n",
        "means = grid_result1.cv_results_['mean_test_score']\n",
        "stds = grid_result1.cv_results_['std_test_score']\n",
        "params = grid_result1.cv_results_['params']\n",
        "for mean, stdev, param in zip(means, stds, params):\n",
        "    print(\"%f (%f) with: %r\" % (mean, stdev, param))\n",
        "print ('Model training time:', (datetime.now() - start_time_module))\n",
        "if NOTIFY_STATUS: status_notify(\"Algorithm #1 tuning completed! \" + datetime.now().strftime('%a %B %d, %Y %I:%M:%S %p'))"
      ]
    },
    {
      "cell_type": "code",
      "execution_count": 45,
      "metadata": {
        "id": "vU3WYTbj0HBO",
        "colab": {
          "base_uri": "https://localhost:8080/"
        },
        "outputId": "db86f682-e4b9-4ea5-fdb3-1c69ecec479f"
      },
      "outputs": [
        {
          "output_type": "stream",
          "name": "stdout",
          "text": [
            "Captured the best parameter for algorithm #1: n_estimators = 50\n"
          ]
        }
      ],
      "source": [
        "best_paramKey1 = list(grid_result1.best_params_.keys())[0]\n",
        "best_paramValue1 = list(grid_result1.best_params_.values())[0]\n",
        "print(\"Captured the best parameter for algorithm #1:\", best_paramKey1, '=', best_paramValue1)"
      ]
    },
    {
      "cell_type": "code",
      "execution_count": 46,
      "metadata": {
        "id": "s2tPnmvb0HBO",
        "colab": {
          "base_uri": "https://localhost:8080/"
        },
        "outputId": "d55e9ec9-62cf-4155-990c-dba21757dd04"
      },
      "outputs": [
        {
          "output_type": "stream",
          "name": "stdout",
          "text": [
            "Fitting 5 folds for each of 3 candidates, totalling 15 fits\n",
            "Best: 0.826929 using {'n_estimators': 500}\n",
            "0.822026 (0.007264) with: {'n_estimators': 100}\n",
            "0.825766 (0.006185) with: {'n_estimators': 300}\n",
            "0.826929 (0.006614) with: {'n_estimators': 500}\n",
            "Model training time: 0:08:18.701302\n"
          ]
        }
      ],
      "source": [
        "# Tuning algorithm #2\n",
        "start_time_module = datetime.now()\n",
        "if NOTIFY_STATUS: status_notify(\"Algorithm #2 tuning has begun! \" + datetime.now().strftime('%a %B %d, %Y %I:%M:%S %p'))\n",
        "\n",
        "tune_model2 = ExtraTreesClassifier(random_state=RNG_SEED, n_jobs=N_JOBS)\n",
        "tune_model_names.append('EXT')\n",
        "paramGrid2 = dict(n_estimators=np.array([100, 300, 500]))\n",
        "\n",
        "kfold = StratifiedKFold(n_splits=N_FOLDS, shuffle=True, random_state=RNG_SEED)\n",
        "grid2 = GridSearchCV(estimator=tune_model2, param_grid=paramGrid2, scoring=SCORING_METRIC, cv=kfold, n_jobs=N_JOBS, verbose=1)\n",
        "grid_result2 = grid2.fit(array_features_train, array_target_train)\n",
        "\n",
        "print(\"Best: %f using %s\" % (grid_result2.best_score_, grid_result2.best_params_))\n",
        "tune_results.append(grid_result2.cv_results_['mean_test_score'])\n",
        "means = grid_result2.cv_results_['mean_test_score']\n",
        "stds = grid_result2.cv_results_['std_test_score']\n",
        "params = grid_result2.cv_results_['params']\n",
        "for mean, stdev, param in zip(means, stds, params):\n",
        "    print(\"%f (%f) with: %r\" % (mean, stdev, param))\n",
        "print ('Model training time:', (datetime.now() - start_time_module))\n",
        "if NOTIFY_STATUS: status_notify(\"Algorithm #2 tuning completed! \" + datetime.now().strftime('%a %B %d, %Y %I:%M:%S %p'))"
      ]
    },
    {
      "cell_type": "code",
      "execution_count": 47,
      "metadata": {
        "id": "NgP4V2z70HBO",
        "colab": {
          "base_uri": "https://localhost:8080/"
        },
        "outputId": "af503e2c-c644-4a8c-eeab-7d4dc7598411"
      },
      "outputs": [
        {
          "output_type": "stream",
          "name": "stdout",
          "text": [
            "Captured the best parameter for algorithm #2: n_estimators = 500\n"
          ]
        }
      ],
      "source": [
        "best_paramKey2 = list(grid_result2.best_params_.keys())[0]\n",
        "best_paramValue2 = list(grid_result2.best_params_.values())[0]\n",
        "print(\"Captured the best parameter for algorithm #2:\", best_paramKey2, '=', best_paramValue2)"
      ]
    },
    {
      "cell_type": "markdown",
      "metadata": {
        "id": "ODf76wCk0HBP"
      },
      "source": [
        "### 4.d) Compare Algorithms After Tuning"
      ]
    },
    {
      "cell_type": "code",
      "execution_count": 48,
      "metadata": {
        "id": "DVz1Pas60HBP",
        "colab": {
          "base_uri": "https://localhost:8080/",
          "height": 787
        },
        "outputId": "6bb7b159-c82e-4264-cbda-c59e5d2971f8"
      },
      "outputs": [
        {
          "output_type": "display_data",
          "data": {
            "text/plain": [
              "<Figure size 1152x864 with 1 Axes>"
            ],
            "image/png": "[encoded data removed]"
          },
          "metadata": {
            "needs_background": "light"
          }
        }
      ],
      "source": [
        "fig = plt.figure(figsize=(16,12))\n",
        "fig.suptitle('Algorithm Comparison - Post Tuning')\n",
        "ax = fig.add_subplot(111)\n",
        "plt.boxplot(tune_results)\n",
        "ax.set_xticklabels(tune_model_names)\n",
        "plt.show()"
      ]
    },
    {
      "cell_type": "code",
      "execution_count": 49,
      "metadata": {
        "id": "L-203gOS0HBP"
      },
      "outputs": [],
      "source": [
        "if NOTIFY_STATUS: status_notify(\"Task 4 - Train and Tune Models completed! \" + datetime.now().strftime('%a %B %d, %Y %I:%M:%S %p'))"
      ]
    },
    {
      "cell_type": "markdown",
      "metadata": {
        "id": "MVnrmT9H0HBP"
      },
      "source": [
        "## Task 5 - Finalize Model and Make Predictions"
      ]
    },
    {
      "cell_type": "code",
      "execution_count": 50,
      "metadata": {
        "id": "IOOtbLEc0HBP"
      },
      "outputs": [],
      "source": [
        "if NOTIFY_STATUS: status_notify(\"Task 5 - Finalize Model and Make Predictions has begun! \" + datetime.now().strftime('%a %B %d, %Y %I:%M:%S %p'))"
      ]
    },
    {
      "cell_type": "markdown",
      "metadata": {
        "id": "e9A1-1eP0HBP"
      },
      "source": [
        "### 5.a) Train the Final Model"
      ]
    },
    {
      "cell_type": "code",
      "execution_count": 51,
      "metadata": {
        "id": "L9Ku6ijj0HBP",
        "colab": {
          "base_uri": "https://localhost:8080/"
        },
        "outputId": "c5b3db37-7d1e-4d45-d1f2-92a0f0936a49"
      },
      "outputs": [
        {
          "output_type": "stream",
          "name": "stdout",
          "text": [
            "ExtraTreesClassifier(n_estimators=500, n_jobs=1, random_state=888)\n"
          ]
        }
      ],
      "source": [
        "final_model = ExtraTreesClassifier(n_estimators=best_paramValue2, random_state=RNG_SEED, n_jobs=N_JOBS)\n",
        "final_model.fit(array_features_train, array_target_train)\n",
        "print(final_model)"
      ]
    },
    {
      "cell_type": "markdown",
      "metadata": {
        "id": "7IefqQgt0HBP"
      },
      "source": [
        "### 5.b) Load Test Dataset and Make Predictions"
      ]
    },
    {
      "cell_type": "code",
      "execution_count": 52,
      "metadata": {
        "id": "USnZqu4Q0HBP",
        "colab": {
          "base_uri": "https://localhost:8080/"
        },
        "outputId": "f854443d-ab93-40a2-a7f6-8844869aacf0"
      },
      "outputs": [
        {
          "output_type": "stream",
          "name": "stdout",
          "text": [
            "--2022-04-02 23:46:22--  https://dainesanalytics.com/datasets/ucirvine-kdd-cup-1998/cup98VAL.txt\n",
            "Resolving dainesanalytics.com (dainesanalytics.com)... 13.32.181.26, 13.32.181.36, 13.32.181.90, ...\n",
            "Connecting to dainesanalytics.com (dainesanalytics.com)|13.32.181.26|:443... connected.\n",
            "HTTP request sent, awaiting response... 200 OK\n",
            "Length: 117943347 (112M) [text/plain]\n",
            "Saving to: ‘cup98VAL.txt’\n",
            "\n",
            "cup98VAL.txt        100%[===================>] 112.48M  44.0MB/s    in 2.6s    \n",
            "\n",
            "2022-04-02 23:46:25 (44.0 MB/s) - ‘cup98VAL.txt’ saved [117943347/117943347]\n",
            "\n"
          ]
        }
      ],
      "source": [
        "if not os.path.exists(TEST_DATASET):\n",
        "    !wget https://dainesanalytics.com/datasets/ucirvine-kdd-cup-1998/cup98VAL.txt"
      ]
    },
    {
      "cell_type": "code",
      "execution_count": 53,
      "metadata": {
        "id": "3Ljs-NIr0HBP",
        "colab": {
          "base_uri": "https://localhost:8080/"
        },
        "outputId": "c22f9b6e-f09f-41da-d2c1-6219c962eb0d"
      },
      "outputs": [
        {
          "output_type": "stream",
          "name": "stderr",
          "text": [
            "/usr/local/lib/python3.7/dist-packages/IPython/core/interactiveshell.py:2882: DtypeWarning: Columns (8) have mixed types.Specify dtype option on import or set low_memory=False.\n",
            "  exec(code_obj, self.user_global_ns, self.user_ns)\n"
          ]
        },
        {
          "output_type": "stream",
          "name": "stdout",
          "text": [
            "   ODATEDW OSOURCE  TCODE STATE     ZIP MAILCODE PVASTATE   DOB NOEXCH  \\\n",
            "0     9301     PV3      0    WI   53558                    1702      0   \n",
            "1     9501     CNT      0    TX   78501                    1501      0   \n",
            "2     9101     L01      1    CA   92392                    3001      0   \n",
            "3     9401     HAM      0    TX  77625-                    4909      0   \n",
            "4     9201     NAS      2    TX   76051                    5406      0   \n",
            "\n",
            "  RECINHSE  ... CONTROLN HPHONE_D RFA_2R RFA_2F RFA_2A MDMAUD_R  MDMAUD_F  \\\n",
            "0        X  ...   188946        1      L      1      G        X         X   \n",
            "1           ...   126296        1      L      1      F        X         X   \n",
            "2           ...   155244        1      L      1      G        X         X   \n",
            "3           ...   123985        0      L      1      F        X         X   \n",
            "4           ...   119118        1      L      3      E        X         X   \n",
            "\n",
            "  MDMAUD_A CLUSTER2 GEOCODE2  \n",
            "0        X     15.0        B  \n",
            "1        X     13.0        B  \n",
            "2        X     34.0        A  \n",
            "3        X     58.0        B  \n",
            "4        X      2.0        A  \n",
            "\n",
            "[5 rows x 479 columns]\n"
          ]
        }
      ],
      "source": [
        "df_features_test = pd.read_csv(TEST_DATASET, sep=',', index_col=False)\n",
        "\n",
        "# Take a peek at the dataframe after import\n",
        "print(df_features_test.head())"
      ]
    },
    {
      "cell_type": "code",
      "execution_count": 54,
      "metadata": {
        "id": "NlfKvE4H0HBP",
        "colab": {
          "base_uri": "https://localhost:8080/"
        },
        "outputId": "8404162f-80a1-4c96-a49a-e8fc8d6671d1"
      },
      "outputs": [
        {
          "output_type": "stream",
          "name": "stdout",
          "text": [
            "<class 'pandas.core.frame.DataFrame'>\n",
            "RangeIndex: 96367 entries, 0 to 96366\n",
            "Data columns (total 479 columns):\n",
            " #    Column    Dtype  \n",
            "---   ------    -----  \n",
            " 0    ODATEDW   int64  \n",
            " 1    OSOURCE   object \n",
            " 2    TCODE     int64  \n",
            " 3    STATE     object \n",
            " 4    ZIP       object \n",
            " 5    MAILCODE  object \n",
            " 6    PVASTATE  object \n",
            " 7    DOB       int64  \n",
            " 8    NOEXCH    object \n",
            " 9    RECINHSE  object \n",
            " 10   RECP3     object \n",
            " 11   RECPGVG   object \n",
            " 12   RECSWEEP  object \n",
            " 13   MDMAUD    object \n",
            " 14   DOMAIN    object \n",
            " 15   CLUSTER   object \n",
            " 16   AGE       float64\n",
            " 17   AGEFLAG   object \n",
            " 18   HOMEOWNR  object \n",
            " 19   CHILD03   object \n",
            " 20   CHILD07   object \n",
            " 21   CHILD12   object \n",
            " 22   CHILD18   object \n",
            " 23   NUMCHLD   float64\n",
            " 24   INCOME    float64\n",
            " 25   GENDER    object \n",
            " 26   WEALTH1   float64\n",
            " 27   HIT       int64  \n",
            " 28   MBCRAFT   float64\n",
            " 29   MBGARDEN  float64\n",
            " 30   MBBOOKS   float64\n",
            " 31   MBCOLECT  float64\n",
            " 32   MAGFAML   float64\n",
            " 33   MAGFEM    float64\n",
            " 34   MAGMALE   float64\n",
            " 35   PUBGARDN  float64\n",
            " 36   PUBCULIN  float64\n",
            " 37   PUBHLTH   float64\n",
            " 38   PUBDOITY  float64\n",
            " 39   PUBNEWFN  float64\n",
            " 40   PUBPHOTO  float64\n",
            " 41   PUBOPP    float64\n",
            " 42   DATASRCE  object \n",
            " 43   MALEMILI  int64  \n",
            " 44   MALEVET   int64  \n",
            " 45   VIETVETS  int64  \n",
            " 46   WWIIVETS  int64  \n",
            " 47   LOCALGOV  int64  \n",
            " 48   STATEGOV  int64  \n",
            " 49   FEDGOV    int64  \n",
            " 50   SOLP3     object \n",
            " 51   SOLIH     object \n",
            " 52   MAJOR     object \n",
            " 53   WEALTH2   float64\n",
            " 54   GEOCODE   object \n",
            " 55   COLLECT1  object \n",
            " 56   VETERANS  object \n",
            " 57   BIBLE     object \n",
            " 58   CATLG     object \n",
            " 59   HOMEE     object \n",
            " 60   PETS      object \n",
            " 61   CDPLAY    object \n",
            " 62   STEREO    object \n",
            " 63   PCOWNERS  object \n",
            " 64   PHOTO     object \n",
            " 65   CRAFTS    object \n",
            " 66   FISHER    object \n",
            " 67   GARDENIN  object \n",
            " 68   BOATS     object \n",
            " 69   WALKER    object \n",
            " 70   KIDSTUFF  object \n",
            " 71   CARDS     object \n",
            " 72   PLATES    object \n",
            " 73   LIFESRC   object \n",
            " 74   PEPSTRFL  object \n",
            " 75   POP901    int64  \n",
            " 76   POP902    int64  \n",
            " 77   POP903    int64  \n",
            " 78   POP90C1   int64  \n",
            " 79   POP90C2   int64  \n",
            " 80   POP90C3   int64  \n",
            " 81   POP90C4   int64  \n",
            " 82   POP90C5   int64  \n",
            " 83   ETH1      int64  \n",
            " 84   ETH2      int64  \n",
            " 85   ETH3      int64  \n",
            " 86   ETH4      int64  \n",
            " 87   ETH5      int64  \n",
            " 88   ETH6      int64  \n",
            " 89   ETH7      int64  \n",
            " 90   ETH8      int64  \n",
            " 91   ETH9      int64  \n",
            " 92   ETH10     int64  \n",
            " 93   ETH11     int64  \n",
            " 94   ETH12     int64  \n",
            " 95   ETH13     int64  \n",
            " 96   ETH14     int64  \n",
            " 97   ETH15     int64  \n",
            " 98   ETH16     int64  \n",
            " 99   AGE901    int64  \n",
            " 100  AGE902    int64  \n",
            " 101  AGE903    int64  \n",
            " 102  AGE904    int64  \n",
            " 103  AGE905    int64  \n",
            " 104  AGE906    int64  \n",
            " 105  AGE907    int64  \n",
            " 106  CHIL1     int64  \n",
            " 107  CHIL2     int64  \n",
            " 108  CHIL3     int64  \n",
            " 109  AGEC1     int64  \n",
            " 110  AGEC2     int64  \n",
            " 111  AGEC3     int64  \n",
            " 112  AGEC4     int64  \n",
            " 113  AGEC5     int64  \n",
            " 114  AGEC6     int64  \n",
            " 115  AGEC7     int64  \n",
            " 116  CHILC1    int64  \n",
            " 117  CHILC2    int64  \n",
            " 118  CHILC3    int64  \n",
            " 119  CHILC4    int64  \n",
            " 120  CHILC5    int64  \n",
            " 121  HHAGE1    int64  \n",
            " 122  HHAGE2    int64  \n",
            " 123  HHAGE3    int64  \n",
            " 124  HHN1      int64  \n",
            " 125  HHN2      int64  \n",
            " 126  HHN3      int64  \n",
            " 127  HHN4      int64  \n",
            " 128  HHN5      int64  \n",
            " 129  HHN6      int64  \n",
            " 130  MARR1     int64  \n",
            " 131  MARR2     int64  \n",
            " 132  MARR3     int64  \n",
            " 133  MARR4     int64  \n",
            " 134  HHP1      int64  \n",
            " 135  HHP2      int64  \n",
            " 136  DW1       int64  \n",
            " 137  DW2       int64  \n",
            " 138  DW3       int64  \n",
            " 139  DW4       int64  \n",
            " 140  DW5       int64  \n",
            " 141  DW6       int64  \n",
            " 142  DW7       int64  \n",
            " 143  DW8       int64  \n",
            " 144  DW9       int64  \n",
            " 145  HV1       int64  \n",
            " 146  HV2       int64  \n",
            " 147  HV3       int64  \n",
            " 148  HV4       int64  \n",
            " 149  HU1       int64  \n",
            " 150  HU2       int64  \n",
            " 151  HU3       int64  \n",
            " 152  HU4       int64  \n",
            " 153  HU5       int64  \n",
            " 154  HHD1      int64  \n",
            " 155  HHD2      int64  \n",
            " 156  HHD3      int64  \n",
            " 157  HHD4      int64  \n",
            " 158  HHD5      int64  \n",
            " 159  HHD6      int64  \n",
            " 160  HHD7      int64  \n",
            " 161  HHD8      int64  \n",
            " 162  HHD9      int64  \n",
            " 163  HHD10     int64  \n",
            " 164  HHD11     int64  \n",
            " 165  HHD12     int64  \n",
            " 166  ETHC1     int64  \n",
            " 167  ETHC2     int64  \n",
            " 168  ETHC3     int64  \n",
            " 169  ETHC4     int64  \n",
            " 170  ETHC5     int64  \n",
            " 171  ETHC6     int64  \n",
            " 172  HVP1      int64  \n",
            " 173  HVP2      int64  \n",
            " 174  HVP3      int64  \n",
            " 175  HVP4      int64  \n",
            " 176  HVP5      int64  \n",
            " 177  HVP6      int64  \n",
            " 178  HUR1      int64  \n",
            " 179  HUR2      int64  \n",
            " 180  RHP1      int64  \n",
            " 181  RHP2      int64  \n",
            " 182  RHP3      int64  \n",
            " 183  RHP4      int64  \n",
            " 184  HUPA1     int64  \n",
            " 185  HUPA2     int64  \n",
            " 186  HUPA3     int64  \n",
            " 187  HUPA4     int64  \n",
            " 188  HUPA5     int64  \n",
            " 189  HUPA6     int64  \n",
            " 190  HUPA7     int64  \n",
            " 191  RP1       int64  \n",
            " 192  RP2       int64  \n",
            " 193  RP3       int64  \n",
            " 194  RP4       int64  \n",
            " 195  MSA       float64\n",
            " 196  ADI       float64\n",
            " 197  DMA       float64\n",
            " 198  IC1       int64  \n",
            " 199  IC2       int64  \n",
            " 200  IC3       int64  \n",
            " 201  IC4       int64  \n",
            " 202  IC5       int64  \n",
            " 203  IC6       int64  \n",
            " 204  IC7       int64  \n",
            " 205  IC8       int64  \n",
            " 206  IC9       int64  \n",
            " 207  IC10      int64  \n",
            " 208  IC11      int64  \n",
            " 209  IC12      int64  \n",
            " 210  IC13      int64  \n",
            " 211  IC14      int64  \n",
            " 212  IC15      int64  \n",
            " 213  IC16      int64  \n",
            " 214  IC17      int64  \n",
            " 215  IC18      int64  \n",
            " 216  IC19      int64  \n",
            " 217  IC20      int64  \n",
            " 218  IC21      int64  \n",
            " 219  IC22      int64  \n",
            " 220  IC23      int64  \n",
            " 221  HHAS1     int64  \n",
            " 222  HHAS2     int64  \n",
            " 223  HHAS3     int64  \n",
            " 224  HHAS4     int64  \n",
            " 225  MC1       int64  \n",
            " 226  MC2       int64  \n",
            " 227  MC3       int64  \n",
            " 228  TPE1      int64  \n",
            " 229  TPE2      int64  \n",
            " 230  TPE3      int64  \n",
            " 231  TPE4      int64  \n",
            " 232  TPE5      int64  \n",
            " 233  TPE6      int64  \n",
            " 234  TPE7      int64  \n",
            " 235  TPE8      int64  \n",
            " 236  TPE9      int64  \n",
            " 237  PEC1      int64  \n",
            " 238  PEC2      int64  \n",
            " 239  TPE10     int64  \n",
            " 240  TPE11     int64  \n",
            " 241  TPE12     int64  \n",
            " 242  TPE13     int64  \n",
            " 243  LFC1      int64  \n",
            " 244  LFC2      int64  \n",
            " 245  LFC3      int64  \n",
            " 246  LFC4      int64  \n",
            " 247  LFC5      int64  \n",
            " 248  LFC6      int64  \n",
            " 249  LFC7      int64  \n",
            " 250  LFC8      int64  \n",
            " 251  LFC9      int64  \n",
            " 252  LFC10     int64  \n",
            " 253  OCC1      int64  \n",
            " 254  OCC2      int64  \n",
            " 255  OCC3      int64  \n",
            " 256  OCC4      int64  \n",
            " 257  OCC5      int64  \n",
            " 258  OCC6      int64  \n",
            " 259  OCC7      int64  \n",
            " 260  OCC8      int64  \n",
            " 261  OCC9      int64  \n",
            " 262  OCC10     int64  \n",
            " 263  OCC11     int64  \n",
            " 264  OCC12     int64  \n",
            " 265  OCC13     int64  \n",
            " 266  EIC1      int64  \n",
            " 267  EIC2      int64  \n",
            " 268  EIC3      int64  \n",
            " 269  EIC4      int64  \n",
            " 270  EIC5      int64  \n",
            " 271  EIC6      int64  \n",
            " 272  EIC7      int64  \n",
            " 273  EIC8      int64  \n",
            " 274  EIC9      int64  \n",
            " 275  EIC10     int64  \n",
            " 276  EIC11     int64  \n",
            " 277  EIC12     int64  \n",
            " 278  EIC13     int64  \n",
            " 279  EIC14     int64  \n",
            " 280  EIC15     int64  \n",
            " 281  EIC16     int64  \n",
            " 282  OEDC1     int64  \n",
            " 283  OEDC2     int64  \n",
            " 284  OEDC3     int64  \n",
            " 285  OEDC4     int64  \n",
            " 286  OEDC5     int64  \n",
            " 287  OEDC6     int64  \n",
            " 288  OEDC7     int64  \n",
            " 289  EC1       int64  \n",
            " 290  EC2       int64  \n",
            " 291  EC3       int64  \n",
            " 292  EC4       int64  \n",
            " 293  EC5       int64  \n",
            " 294  EC6       int64  \n",
            " 295  EC7       int64  \n",
            " 296  EC8       int64  \n",
            " 297  SEC1      int64  \n",
            " 298  SEC2      int64  \n",
            " 299  SEC3      int64  \n",
            " 300  SEC4      int64  \n",
            " 301  SEC5      int64  \n",
            " 302  AFC1      int64  \n",
            " 303  AFC2      int64  \n",
            " 304  AFC3      int64  \n",
            " 305  AFC4      int64  \n",
            " 306  AFC5      int64  \n",
            " 307  AFC6      int64  \n",
            " 308  VC1       int64  \n",
            " 309  VC2       int64  \n",
            " 310  VC3       int64  \n",
            " 311  VC4       int64  \n",
            " 312  ANC1      int64  \n",
            " 313  ANC2      int64  \n",
            " 314  ANC3      int64  \n",
            " 315  ANC4      int64  \n",
            " 316  ANC5      int64  \n",
            " 317  ANC6      int64  \n",
            " 318  ANC7      int64  \n",
            " 319  ANC8      int64  \n",
            " 320  ANC9      int64  \n",
            " 321  ANC10     int64  \n",
            " 322  ANC11     int64  \n",
            " 323  ANC12     int64  \n",
            " 324  ANC13     int64  \n",
            " 325  ANC14     int64  \n",
            " 326  ANC15     int64  \n",
            " 327  POBC1     int64  \n",
            " 328  POBC2     int64  \n",
            " 329  LSC1      int64  \n",
            " 330  LSC2      int64  \n",
            " 331  LSC3      int64  \n",
            " 332  LSC4      int64  \n",
            " 333  VOC1      int64  \n",
            " 334  VOC2      int64  \n",
            " 335  VOC3      int64  \n",
            " 336  HC1       int64  \n",
            " 337  HC2       int64  \n",
            " 338  HC3       int64  \n",
            " 339  HC4       int64  \n",
            " 340  HC5       int64  \n",
            " 341  HC6       int64  \n",
            " 342  HC7       int64  \n",
            " 343  HC8       int64  \n",
            " 344  HC9       int64  \n",
            " 345  HC10      int64  \n",
            " 346  HC11      int64  \n",
            " 347  HC12      int64  \n",
            " 348  HC13      int64  \n",
            " 349  HC14      int64  \n",
            " 350  HC15      int64  \n",
            " 351  HC16      int64  \n",
            " 352  HC17      int64  \n",
            " 353  HC18      int64  \n",
            " 354  HC19      int64  \n",
            " 355  HC20      int64  \n",
            " 356  HC21      int64  \n",
            " 357  MHUC1     int64  \n",
            " 358  MHUC2     int64  \n",
            " 359  AC1       int64  \n",
            " 360  AC2       int64  \n",
            " 361  ADATE_2   int64  \n",
            " 362  ADATE_3   float64\n",
            " 363  ADATE_4   float64\n",
            " 364  ADATE_5   float64\n",
            " 365  ADATE_6   float64\n",
            " 366  ADATE_7   float64\n",
            " 367  ADATE_8   float64\n",
            " 368  ADATE_9   float64\n",
            " 369  ADATE_10  float64\n",
            " 370  ADATE_11  float64\n",
            " 371  ADATE_12  float64\n",
            " 372  ADATE_13  float64\n",
            " 373  ADATE_14  float64\n",
            " 374  ADATE_15  float64\n",
            " 375  ADATE_16  float64\n",
            " 376  ADATE_17  float64\n",
            " 377  ADATE_18  float64\n",
            " 378  ADATE_19  float64\n",
            " 379  ADATE_20  float64\n",
            " 380  ADATE_21  float64\n",
            " 381  ADATE_22  float64\n",
            " 382  ADATE_23  float64\n",
            " 383  ADATE_24  float64\n",
            " 384  RFA_2     object \n",
            " 385  RFA_3     object \n",
            " 386  RFA_4     object \n",
            " 387  RFA_5     object \n",
            " 388  RFA_6     object \n",
            " 389  RFA_7     object \n",
            " 390  RFA_8     object \n",
            " 391  RFA_9     object \n",
            " 392  RFA_10    object \n",
            " 393  RFA_11    object \n",
            " 394  RFA_12    object \n",
            " 395  RFA_13    object \n",
            " 396  RFA_14    object \n",
            " 397  RFA_15    object \n",
            " 398  RFA_16    object \n",
            " 399  RFA_17    object \n",
            " 400  RFA_18    object \n",
            " 401  RFA_19    object \n",
            " 402  RFA_20    object \n",
            " 403  RFA_21    object \n",
            " 404  RFA_22    object \n",
            " 405  RFA_23    object \n",
            " 406  RFA_24    object \n",
            " 407  CARDPROM  int64  \n",
            " 408  MAXADATE  int64  \n",
            " 409  NUMPROM   int64  \n",
            " 410  CARDPM12  int64  \n",
            " 411  NUMPRM12  int64  \n",
            " 412  RDATE_3   float64\n",
            " 413  RDATE_4   float64\n",
            " 414  RDATE_5   float64\n",
            " 415  RDATE_6   float64\n",
            " 416  RDATE_7   float64\n",
            " 417  RDATE_8   float64\n",
            " 418  RDATE_9   float64\n",
            " 419  RDATE_10  float64\n",
            " 420  RDATE_11  float64\n",
            " 421  RDATE_12  float64\n",
            " 422  RDATE_13  float64\n",
            " 423  RDATE_14  float64\n",
            " 424  RDATE_15  float64\n",
            " 425  RDATE_16  float64\n",
            " 426  RDATE_17  float64\n",
            " 427  RDATE_18  float64\n",
            " 428  RDATE_19  float64\n",
            " 429  RDATE_20  float64\n",
            " 430  RDATE_21  float64\n",
            " 431  RDATE_22  float64\n",
            " 432  RDATE_23  float64\n",
            " 433  RDATE_24  float64\n",
            " 434  RAMNT_3   float64\n",
            " 435  RAMNT_4   float64\n",
            " 436  RAMNT_5   float64\n",
            " 437  RAMNT_6   float64\n",
            " 438  RAMNT_7   float64\n",
            " 439  RAMNT_8   float64\n",
            " 440  RAMNT_9   float64\n",
            " 441  RAMNT_10  float64\n",
            " 442  RAMNT_11  float64\n",
            " 443  RAMNT_12  float64\n",
            " 444  RAMNT_13  float64\n",
            " 445  RAMNT_14  float64\n",
            " 446  RAMNT_15  float64\n",
            " 447  RAMNT_16  float64\n",
            " 448  RAMNT_17  float64\n",
            " 449  RAMNT_18  float64\n",
            " 450  RAMNT_19  float64\n",
            " 451  RAMNT_20  float64\n",
            " 452  RAMNT_21  float64\n",
            " 453  RAMNT_22  float64\n",
            " 454  RAMNT_23  float64\n",
            " 455  RAMNT_24  float64\n",
            " 456  RAMNTALL  float64\n",
            " 457  NGIFTALL  int64  \n",
            " 458  CARDGIFT  int64  \n",
            " 459  MINRAMNT  float64\n",
            " 460  MINRDATE  int64  \n",
            " 461  MAXRAMNT  float64\n",
            " 462  MAXRDATE  int64  \n",
            " 463  LASTGIFT  float64\n",
            " 464  LASTDATE  int64  \n",
            " 465  FISTDATE  int64  \n",
            " 466  NEXTDATE  float64\n",
            " 467  TIMELAG   float64\n",
            " 468  AVGGIFT   float64\n",
            " 469  CONTROLN  int64  \n",
            " 470  HPHONE_D  int64  \n",
            " 471  RFA_2R    object \n",
            " 472  RFA_2F    int64  \n",
            " 473  RFA_2A    object \n",
            " 474  MDMAUD_R  object \n",
            " 475  MDMAUD_F  object \n",
            " 476  MDMAUD_A  object \n",
            " 477  CLUSTER2  float64\n",
            " 478  GEOCODE2  object \n",
            "dtypes: float64(96), int64(309), object(74)\n",
            "memory usage: 352.2+ MB\n"
          ]
        }
      ],
      "source": [
        "df_features_test.info(verbose=True)"
      ]
    },
    {
      "cell_type": "code",
      "execution_count": 55,
      "metadata": {
        "id": "NgyNP8ah0HBP",
        "colab": {
          "base_uri": "https://localhost:8080/"
        },
        "outputId": "1f7bd985-924b-4afb-8d08-d71a318b9a71"
      },
      "outputs": [
        {
          "output_type": "stream",
          "name": "stdout",
          "text": [
            "ODATEDW       0\n",
            "OSOURCE       0\n",
            "TCODE         0\n",
            "STATE         0\n",
            "ZIP           0\n",
            "           ... \n",
            "MDMAUD_R      0\n",
            "MDMAUD_F      0\n",
            "MDMAUD_A      0\n",
            "CLUSTER2    128\n",
            "GEOCODE2    128\n",
            "Length: 479, dtype: int64\n",
            "Total number of NaN in the dataframe:  5212774\n"
          ]
        }
      ],
      "source": [
        "print(df_features_test.isnull().sum())\n",
        "print('Total number of NaN in the dataframe: ', df_features_test.isnull().sum().sum())"
      ]
    },
    {
      "cell_type": "code",
      "execution_count": 56,
      "metadata": {
        "id": "9tX8i05r0HBQ",
        "colab": {
          "base_uri": "https://localhost:8080/"
        },
        "outputId": "6cf25ff9-9748-4638-8c43-451615a54797"
      },
      "outputs": [
        {
          "output_type": "stream",
          "name": "stdout",
          "text": [
            "Filling X/Blank colunms with values: ['RECINHSE', 'RECP3', 'RECPGVG', 'RECSWEEP']\n",
            "Filling integer colunms with zeros: ['MBCRAFT', 'MBGARDEN', 'MBBOOKS', 'MBCOLECT', 'MAGFAML', 'MAGFEM', 'MAGMALE', 'PUBGARDN', 'PUBCULIN', 'PUBHLTH', 'PUBDOITY', 'PUBNEWFN', 'PUBPHOTO', 'PUBOPP']\n",
            "Filling Y/N colunms with values: ['COLLECT1', 'VETERANS', 'BIBLE', 'CATLG', 'HOMEE', 'PETS', 'CDPLAY', 'STEREO', 'PCOWNERS', 'PHOTO', 'CRAFTS', 'FISHER', 'GARDENIN', 'BOATS', 'WALKER', 'KIDSTUFF', 'CARDS', 'PLATES']\n",
            "Dropping colunms: ['ADATE_2', 'ADATE_3', 'ADATE_4', 'ADATE_5', 'ADATE_6', 'ADATE_7', 'ADATE_8', 'ADATE_9', 'ADATE_10', 'ADATE_11', 'ADATE_12', 'ADATE_13', 'ADATE_14', 'ADATE_15', 'ADATE_16', 'ADATE_17', 'ADATE_18', 'ADATE_19', 'ADATE_20', 'ADATE_21', 'ADATE_22', 'ADATE_23', 'ADATE_24', 'RFA_2']\n",
            "Convert RFA colunms with values: ['RFA_3', 'RFA_4', 'RFA_5', 'RFA_6', 'RFA_7', 'RFA_8', 'RFA_9', 'RFA_10', 'RFA_11', 'RFA_12', 'RFA_13', 'RFA_14', 'RFA_15', 'RFA_16', 'RFA_17', 'RFA_18', 'RFA_19', 'RFA_20', 'RFA_21', 'RFA_22', 'RFA_23', 'RFA_24']\n",
            "Dropping colunms: ['RFA_3', 'RFA_4', 'RFA_5', 'RFA_6', 'RFA_7', 'RFA_8', 'RFA_9', 'RFA_10', 'RFA_11', 'RFA_12', 'RFA_13', 'RFA_14', 'RFA_15', 'RFA_16', 'RFA_17', 'RFA_18', 'RFA_19', 'RFA_20', 'RFA_21', 'RFA_22', 'RFA_23', 'RFA_24']\n",
            "Filling date colunms with ones and zeros: ['RDATE_3', 'RDATE_4', 'RDATE_5', 'RDATE_6', 'RDATE_7', 'RDATE_8', 'RDATE_9', 'RDATE_10', 'RDATE_11', 'RDATE_12', 'RDATE_13', 'RDATE_14', 'RDATE_15', 'RDATE_16', 'RDATE_17', 'RDATE_18', 'RDATE_19', 'RDATE_20', 'RDATE_21', 'RDATE_22', 'RDATE_23', 'RDATE_24']\n",
            "Filling integer colunms with zeros: ['RAMNT_3', 'RAMNT_4', 'RAMNT_5', 'RAMNT_6', 'RAMNT_7', 'RAMNT_8', 'RAMNT_9', 'RAMNT_10', 'RAMNT_11', 'RAMNT_12', 'RAMNT_13', 'RAMNT_14', 'RAMNT_15', 'RAMNT_16', 'RAMNT_17', 'RAMNT_18', 'RAMNT_19', 'RAMNT_20', 'RAMNT_21', 'RAMNT_22', 'RAMNT_23', 'RAMNT_24']\n"
          ]
        }
      ],
      "source": [
        "# Clean up the training dataset\n",
        "clean_dataset(df_features_test)"
      ]
    },
    {
      "cell_type": "code",
      "execution_count": 57,
      "metadata": {
        "id": "-rB0s9rs0HBQ",
        "colab": {
          "base_uri": "https://localhost:8080/"
        },
        "outputId": "ac9bde4d-6074-4509-e8fd-3c180623b6b2"
      },
      "outputs": [
        {
          "output_type": "stream",
          "name": "stdout",
          "text": [
            "  PVASTATE  RECINHSE  RECP3  RECPGVG  RECSWEEP  AGE HOMEOWNR CHILD03 CHILD07  \\\n",
            "0        U         1      0        0         0   81        U       U       U   \n",
            "1        U         0      0        0         0   83        U       U       U   \n",
            "2        U         0      0        0         0   68        U       U       U   \n",
            "3        U         0      0        0         0   48        U       U       U   \n",
            "4        U         0      0        0         0   44        H       U       U   \n",
            "\n",
            "  CHILD12  ... RFA_22R  RFA_22F  RFA_22A RFA_23R  RFA_23F  RFA_23A  RFA_24R  \\\n",
            "0       U  ...       A        2        E       A        2        E        A   \n",
            "1       U  ...       X        0        X       X        0        X        X   \n",
            "2       U  ...       A        1        F       A        1        F        A   \n",
            "3       U  ...       N        1        D       X        0        X        F   \n",
            "4       M  ...       A        1        D       X        0        X        A   \n",
            "\n",
            "   RFA_24F  RFA_24A  RDATE_SUM  \n",
            "0        1        D          2  \n",
            "1        0        X          2  \n",
            "2        1        F          0  \n",
            "3        1        D          2  \n",
            "4        1        D          5  \n",
            "\n",
            "[5 rows x 477 columns]\n"
          ]
        }
      ],
      "source": [
        "# Take a peek at the dataframe after cleaning\n",
        "print(df_features_test.head())"
      ]
    },
    {
      "cell_type": "code",
      "execution_count": 58,
      "metadata": {
        "id": "bLnAZUPR0HBQ",
        "colab": {
          "base_uri": "https://localhost:8080/"
        },
        "outputId": "7959a1c2-31cd-4cc3-8aae-2d6a6de2fc6c"
      },
      "outputs": [
        {
          "output_type": "stream",
          "name": "stdout",
          "text": [
            "<class 'pandas.core.frame.DataFrame'>\n",
            "RangeIndex: 96367 entries, 0 to 96366\n",
            "Data columns (total 477 columns):\n",
            " #    Column      Dtype  \n",
            "---   ------      -----  \n",
            " 0    PVASTATE    object \n",
            " 1    RECINHSE    int64  \n",
            " 2    RECP3       int64  \n",
            " 3    RECPGVG     int64  \n",
            " 4    RECSWEEP    int64  \n",
            " 5    AGE         int64  \n",
            " 6    HOMEOWNR    object \n",
            " 7    CHILD03     object \n",
            " 8    CHILD07     object \n",
            " 9    CHILD12     object \n",
            " 10   CHILD18     object \n",
            " 11   NUMCHLD     int64  \n",
            " 12   INCOME      int64  \n",
            " 13   GENDER      object \n",
            " 14   WEALTH1     int64  \n",
            " 15   HIT         int64  \n",
            " 16   MBCRAFT     int64  \n",
            " 17   MBGARDEN    int64  \n",
            " 18   MBBOOKS     int64  \n",
            " 19   MBCOLECT    int64  \n",
            " 20   MAGFAML     int64  \n",
            " 21   MAGFEM      int64  \n",
            " 22   MAGMALE     int64  \n",
            " 23   PUBGARDN    int64  \n",
            " 24   PUBCULIN    int64  \n",
            " 25   PUBHLTH     int64  \n",
            " 26   PUBDOITY    int64  \n",
            " 27   PUBNEWFN    int64  \n",
            " 28   PUBPHOTO    int64  \n",
            " 29   PUBOPP      int64  \n",
            " 30   MALEMILI    int64  \n",
            " 31   MALEVET     int64  \n",
            " 32   VIETVETS    int64  \n",
            " 33   WWIIVETS    int64  \n",
            " 34   LOCALGOV    int64  \n",
            " 35   STATEGOV    int64  \n",
            " 36   FEDGOV      int64  \n",
            " 37   SOLP3       int64  \n",
            " 38   SOLIH       int64  \n",
            " 39   MAJOR       int64  \n",
            " 40   WEALTH2     int64  \n",
            " 41   COLLECT1    int64  \n",
            " 42   VETERANS    int64  \n",
            " 43   BIBLE       int64  \n",
            " 44   CATLG       int64  \n",
            " 45   HOMEE       int64  \n",
            " 46   PETS        int64  \n",
            " 47   CDPLAY      int64  \n",
            " 48   STEREO      int64  \n",
            " 49   PCOWNERS    int64  \n",
            " 50   PHOTO       int64  \n",
            " 51   CRAFTS      int64  \n",
            " 52   FISHER      int64  \n",
            " 53   GARDENIN    int64  \n",
            " 54   BOATS       int64  \n",
            " 55   WALKER      int64  \n",
            " 56   KIDSTUFF    int64  \n",
            " 57   CARDS       int64  \n",
            " 58   PLATES      int64  \n",
            " 59   PEPSTRFL    int64  \n",
            " 60   POP901      int64  \n",
            " 61   POP902      int64  \n",
            " 62   POP903      int64  \n",
            " 63   POP90C1     int64  \n",
            " 64   POP90C2     int64  \n",
            " 65   POP90C3     int64  \n",
            " 66   POP90C4     int64  \n",
            " 67   POP90C5     int64  \n",
            " 68   ETH1        int64  \n",
            " 69   ETH2        int64  \n",
            " 70   ETH3        int64  \n",
            " 71   ETH4        int64  \n",
            " 72   ETH5        int64  \n",
            " 73   ETH6        int64  \n",
            " 74   ETH7        int64  \n",
            " 75   ETH8        int64  \n",
            " 76   ETH9        int64  \n",
            " 77   ETH10       int64  \n",
            " 78   ETH11       int64  \n",
            " 79   ETH12       int64  \n",
            " 80   ETH13       int64  \n",
            " 81   ETH14       int64  \n",
            " 82   ETH15       int64  \n",
            " 83   ETH16       int64  \n",
            " 84   AGE901      int64  \n",
            " 85   AGE902      int64  \n",
            " 86   AGE903      int64  \n",
            " 87   AGE904      int64  \n",
            " 88   AGE905      int64  \n",
            " 89   AGE906      int64  \n",
            " 90   AGE907      int64  \n",
            " 91   CHIL1       int64  \n",
            " 92   CHIL2       int64  \n",
            " 93   CHIL3       int64  \n",
            " 94   AGEC1       int64  \n",
            " 95   AGEC2       int64  \n",
            " 96   AGEC3       int64  \n",
            " 97   AGEC4       int64  \n",
            " 98   AGEC5       int64  \n",
            " 99   AGEC6       int64  \n",
            " 100  AGEC7       int64  \n",
            " 101  CHILC1      int64  \n",
            " 102  CHILC2      int64  \n",
            " 103  CHILC3      int64  \n",
            " 104  CHILC4      int64  \n",
            " 105  CHILC5      int64  \n",
            " 106  HHAGE1      int64  \n",
            " 107  HHAGE2      int64  \n",
            " 108  HHAGE3      int64  \n",
            " 109  HHN1        int64  \n",
            " 110  HHN2        int64  \n",
            " 111  HHN3        int64  \n",
            " 112  HHN4        int64  \n",
            " 113  HHN5        int64  \n",
            " 114  HHN6        int64  \n",
            " 115  MARR1       int64  \n",
            " 116  MARR2       int64  \n",
            " 117  MARR3       int64  \n",
            " 118  MARR4       int64  \n",
            " 119  HHP1        int64  \n",
            " 120  HHP2        int64  \n",
            " 121  DW1         int64  \n",
            " 122  DW2         int64  \n",
            " 123  DW3         int64  \n",
            " 124  DW4         int64  \n",
            " 125  DW5         int64  \n",
            " 126  DW6         int64  \n",
            " 127  DW7         int64  \n",
            " 128  DW8         int64  \n",
            " 129  DW9         int64  \n",
            " 130  HV1         int64  \n",
            " 131  HV2         int64  \n",
            " 132  HV3         int64  \n",
            " 133  HV4         int64  \n",
            " 134  HU1         int64  \n",
            " 135  HU2         int64  \n",
            " 136  HU3         int64  \n",
            " 137  HU4         int64  \n",
            " 138  HU5         int64  \n",
            " 139  HHD1        int64  \n",
            " 140  HHD2        int64  \n",
            " 141  HHD3        int64  \n",
            " 142  HHD4        int64  \n",
            " 143  HHD5        int64  \n",
            " 144  HHD6        int64  \n",
            " 145  HHD7        int64  \n",
            " 146  HHD8        int64  \n",
            " 147  HHD9        int64  \n",
            " 148  HHD10       int64  \n",
            " 149  HHD11       int64  \n",
            " 150  HHD12       int64  \n",
            " 151  ETHC1       int64  \n",
            " 152  ETHC2       int64  \n",
            " 153  ETHC3       int64  \n",
            " 154  ETHC4       int64  \n",
            " 155  ETHC5       int64  \n",
            " 156  ETHC6       int64  \n",
            " 157  HVP1        int64  \n",
            " 158  HVP2        int64  \n",
            " 159  HVP3        int64  \n",
            " 160  HVP4        int64  \n",
            " 161  HVP5        int64  \n",
            " 162  HVP6        int64  \n",
            " 163  HUR1        int64  \n",
            " 164  HUR2        int64  \n",
            " 165  RHP1        int64  \n",
            " 166  RHP2        int64  \n",
            " 167  RHP3        int64  \n",
            " 168  RHP4        int64  \n",
            " 169  HUPA1       int64  \n",
            " 170  HUPA2       int64  \n",
            " 171  HUPA3       int64  \n",
            " 172  HUPA4       int64  \n",
            " 173  HUPA5       int64  \n",
            " 174  HUPA6       int64  \n",
            " 175  HUPA7       int64  \n",
            " 176  RP1         int64  \n",
            " 177  RP2         int64  \n",
            " 178  RP3         int64  \n",
            " 179  RP4         int64  \n",
            " 180  IC1         int64  \n",
            " 181  IC2         int64  \n",
            " 182  IC3         int64  \n",
            " 183  IC4         int64  \n",
            " 184  IC5         int64  \n",
            " 185  IC6         int64  \n",
            " 186  IC7         int64  \n",
            " 187  IC8         int64  \n",
            " 188  IC9         int64  \n",
            " 189  IC10        int64  \n",
            " 190  IC11        int64  \n",
            " 191  IC12        int64  \n",
            " 192  IC13        int64  \n",
            " 193  IC14        int64  \n",
            " 194  IC15        int64  \n",
            " 195  IC16        int64  \n",
            " 196  IC17        int64  \n",
            " 197  IC18        int64  \n",
            " 198  IC19        int64  \n",
            " 199  IC20        int64  \n",
            " 200  IC21        int64  \n",
            " 201  IC22        int64  \n",
            " 202  IC23        int64  \n",
            " 203  HHAS1       int64  \n",
            " 204  HHAS2       int64  \n",
            " 205  HHAS3       int64  \n",
            " 206  HHAS4       int64  \n",
            " 207  MC1         int64  \n",
            " 208  MC2         int64  \n",
            " 209  MC3         int64  \n",
            " 210  TPE1        int64  \n",
            " 211  TPE2        int64  \n",
            " 212  TPE3        int64  \n",
            " 213  TPE4        int64  \n",
            " 214  TPE5        int64  \n",
            " 215  TPE6        int64  \n",
            " 216  TPE7        int64  \n",
            " 217  TPE8        int64  \n",
            " 218  TPE9        int64  \n",
            " 219  PEC1        int64  \n",
            " 220  PEC2        int64  \n",
            " 221  TPE10       int64  \n",
            " 222  TPE11       int64  \n",
            " 223  TPE12       int64  \n",
            " 224  TPE13       int64  \n",
            " 225  LFC1        int64  \n",
            " 226  LFC2        int64  \n",
            " 227  LFC3        int64  \n",
            " 228  LFC4        int64  \n",
            " 229  LFC5        int64  \n",
            " 230  LFC6        int64  \n",
            " 231  LFC7        int64  \n",
            " 232  LFC8        int64  \n",
            " 233  LFC9        int64  \n",
            " 234  LFC10       int64  \n",
            " 235  OCC1        int64  \n",
            " 236  OCC2        int64  \n",
            " 237  OCC3        int64  \n",
            " 238  OCC4        int64  \n",
            " 239  OCC5        int64  \n",
            " 240  OCC6        int64  \n",
            " 241  OCC7        int64  \n",
            " 242  OCC8        int64  \n",
            " 243  OCC9        int64  \n",
            " 244  OCC10       int64  \n",
            " 245  OCC11       int64  \n",
            " 246  OCC12       int64  \n",
            " 247  OCC13       int64  \n",
            " 248  EIC1        int64  \n",
            " 249  EIC2        int64  \n",
            " 250  EIC3        int64  \n",
            " 251  EIC4        int64  \n",
            " 252  EIC5        int64  \n",
            " 253  EIC6        int64  \n",
            " 254  EIC7        int64  \n",
            " 255  EIC8        int64  \n",
            " 256  EIC9        int64  \n",
            " 257  EIC10       int64  \n",
            " 258  EIC11       int64  \n",
            " 259  EIC12       int64  \n",
            " 260  EIC13       int64  \n",
            " 261  EIC14       int64  \n",
            " 262  EIC15       int64  \n",
            " 263  EIC16       int64  \n",
            " 264  OEDC1       int64  \n",
            " 265  OEDC2       int64  \n",
            " 266  OEDC3       int64  \n",
            " 267  OEDC4       int64  \n",
            " 268  OEDC5       int64  \n",
            " 269  OEDC6       int64  \n",
            " 270  OEDC7       int64  \n",
            " 271  EC1         int64  \n",
            " 272  EC2         int64  \n",
            " 273  EC3         int64  \n",
            " 274  EC4         int64  \n",
            " 275  EC5         int64  \n",
            " 276  EC6         int64  \n",
            " 277  EC7         int64  \n",
            " 278  EC8         int64  \n",
            " 279  SEC1        int64  \n",
            " 280  SEC2        int64  \n",
            " 281  SEC3        int64  \n",
            " 282  SEC4        int64  \n",
            " 283  SEC5        int64  \n",
            " 284  AFC1        int64  \n",
            " 285  AFC2        int64  \n",
            " 286  AFC3        int64  \n",
            " 287  AFC4        int64  \n",
            " 288  AFC5        int64  \n",
            " 289  AFC6        int64  \n",
            " 290  VC1         int64  \n",
            " 291  VC2         int64  \n",
            " 292  VC3         int64  \n",
            " 293  VC4         int64  \n",
            " 294  ANC1        int64  \n",
            " 295  ANC2        int64  \n",
            " 296  ANC3        int64  \n",
            " 297  ANC4        int64  \n",
            " 298  ANC5        int64  \n",
            " 299  ANC6        int64  \n",
            " 300  ANC7        int64  \n",
            " 301  ANC8        int64  \n",
            " 302  ANC9        int64  \n",
            " 303  ANC10       int64  \n",
            " 304  ANC11       int64  \n",
            " 305  ANC12       int64  \n",
            " 306  ANC13       int64  \n",
            " 307  ANC14       int64  \n",
            " 308  ANC15       int64  \n",
            " 309  POBC1       int64  \n",
            " 310  POBC2       int64  \n",
            " 311  LSC1        int64  \n",
            " 312  LSC2        int64  \n",
            " 313  LSC3        int64  \n",
            " 314  LSC4        int64  \n",
            " 315  VOC1        int64  \n",
            " 316  VOC2        int64  \n",
            " 317  VOC3        int64  \n",
            " 318  HC1         int64  \n",
            " 319  HC2         int64  \n",
            " 320  HC3         int64  \n",
            " 321  HC4         int64  \n",
            " 322  HC5         int64  \n",
            " 323  HC6         int64  \n",
            " 324  HC7         int64  \n",
            " 325  HC8         int64  \n",
            " 326  HC9         int64  \n",
            " 327  HC10        int64  \n",
            " 328  HC11        int64  \n",
            " 329  HC12        int64  \n",
            " 330  HC13        int64  \n",
            " 331  HC14        int64  \n",
            " 332  HC15        int64  \n",
            " 333  HC16        int64  \n",
            " 334  HC17        int64  \n",
            " 335  HC18        int64  \n",
            " 336  HC19        int64  \n",
            " 337  HC20        int64  \n",
            " 338  HC21        int64  \n",
            " 339  MHUC1       int64  \n",
            " 340  MHUC2       int64  \n",
            " 341  AC1         int64  \n",
            " 342  AC2         int64  \n",
            " 343  CARDPROM    int64  \n",
            " 344  MAXADATE    int64  \n",
            " 345  NUMPROM     int64  \n",
            " 346  CARDPM12    int64  \n",
            " 347  NUMPRM12    int64  \n",
            " 348  RDATE_3     int64  \n",
            " 349  RDATE_4     int64  \n",
            " 350  RDATE_5     int64  \n",
            " 351  RDATE_6     int64  \n",
            " 352  RDATE_7     int64  \n",
            " 353  RDATE_8     int64  \n",
            " 354  RDATE_9     int64  \n",
            " 355  RDATE_10    int64  \n",
            " 356  RDATE_11    int64  \n",
            " 357  RDATE_12    int64  \n",
            " 358  RDATE_13    int64  \n",
            " 359  RDATE_14    int64  \n",
            " 360  RDATE_15    int64  \n",
            " 361  RDATE_16    int64  \n",
            " 362  RDATE_17    int64  \n",
            " 363  RDATE_18    int64  \n",
            " 364  RDATE_19    int64  \n",
            " 365  RDATE_20    int64  \n",
            " 366  RDATE_21    int64  \n",
            " 367  RDATE_22    int64  \n",
            " 368  RDATE_23    int64  \n",
            " 369  RDATE_24    int64  \n",
            " 370  RAMNT_3     int64  \n",
            " 371  RAMNT_4     int64  \n",
            " 372  RAMNT_5     int64  \n",
            " 373  RAMNT_6     int64  \n",
            " 374  RAMNT_7     int64  \n",
            " 375  RAMNT_8     int64  \n",
            " 376  RAMNT_9     int64  \n",
            " 377  RAMNT_10    int64  \n",
            " 378  RAMNT_11    int64  \n",
            " 379  RAMNT_12    int64  \n",
            " 380  RAMNT_13    int64  \n",
            " 381  RAMNT_14    int64  \n",
            " 382  RAMNT_15    int64  \n",
            " 383  RAMNT_16    int64  \n",
            " 384  RAMNT_17    int64  \n",
            " 385  RAMNT_18    int64  \n",
            " 386  RAMNT_19    int64  \n",
            " 387  RAMNT_20    int64  \n",
            " 388  RAMNT_21    int64  \n",
            " 389  RAMNT_22    int64  \n",
            " 390  RAMNT_23    int64  \n",
            " 391  RAMNT_24    int64  \n",
            " 392  RAMNTALL    float64\n",
            " 393  NGIFTALL    int64  \n",
            " 394  CARDGIFT    int64  \n",
            " 395  MINRAMNT    float64\n",
            " 396  MAXRAMNT    float64\n",
            " 397  LASTGIFT    float64\n",
            " 398  LASTDATE    int64  \n",
            " 399  TIMELAG     int64  \n",
            " 400  AVGGIFT     float64\n",
            " 401  HPHONE_D    int64  \n",
            " 402  RFA_2R      object \n",
            " 403  RFA_2F      int64  \n",
            " 404  RFA_2A      object \n",
            " 405  MDMAUD_R    object \n",
            " 406  MDMAUD_F    object \n",
            " 407  MDMAUD_A    object \n",
            " 408  DOMAIN_URB  object \n",
            " 409  DOMAIN_SES  object \n",
            " 410  RFA_3R      object \n",
            " 411  RFA_3F      int64  \n",
            " 412  RFA_3A      object \n",
            " 413  RFA_4R      object \n",
            " 414  RFA_4F      int64  \n",
            " 415  RFA_4A      object \n",
            " 416  RFA_5R      object \n",
            " 417  RFA_5F      int64  \n",
            " 418  RFA_5A      object \n",
            " 419  RFA_6R      object \n",
            " 420  RFA_6F      int64  \n",
            " 421  RFA_6A      object \n",
            " 422  RFA_7R      object \n",
            " 423  RFA_7F      int64  \n",
            " 424  RFA_7A      object \n",
            " 425  RFA_8R      object \n",
            " 426  RFA_8F      int64  \n",
            " 427  RFA_8A      object \n",
            " 428  RFA_9R      object \n",
            " 429  RFA_9F      int64  \n",
            " 430  RFA_9A      object \n",
            " 431  RFA_10R     object \n",
            " 432  RFA_10F     int64  \n",
            " 433  RFA_10A     object \n",
            " 434  RFA_11R     object \n",
            " 435  RFA_11F     int64  \n",
            " 436  RFA_11A     object \n",
            " 437  RFA_12R     object \n",
            " 438  RFA_12F     int64  \n",
            " 439  RFA_12A     object \n",
            " 440  RFA_13R     object \n",
            " 441  RFA_13F     int64  \n",
            " 442  RFA_13A     object \n",
            " 443  RFA_14R     object \n",
            " 444  RFA_14F     int64  \n",
            " 445  RFA_14A     object \n",
            " 446  RFA_15R     object \n",
            " 447  RFA_15F     int64  \n",
            " 448  RFA_15A     object \n",
            " 449  RFA_16R     object \n",
            " 450  RFA_16F     int64  \n",
            " 451  RFA_16A     object \n",
            " 452  RFA_17R     object \n",
            " 453  RFA_17F     int64  \n",
            " 454  RFA_17A     object \n",
            " 455  RFA_18R     object \n",
            " 456  RFA_18F     int64  \n",
            " 457  RFA_18A     object \n",
            " 458  RFA_19R     object \n",
            " 459  RFA_19F     int64  \n",
            " 460  RFA_19A     object \n",
            " 461  RFA_20R     object \n",
            " 462  RFA_20F     int64  \n",
            " 463  RFA_20A     object \n",
            " 464  RFA_21R     object \n",
            " 465  RFA_21F     int64  \n",
            " 466  RFA_21A     object \n",
            " 467  RFA_22R     object \n",
            " 468  RFA_22F     int64  \n",
            " 469  RFA_22A     object \n",
            " 470  RFA_23R     object \n",
            " 471  RFA_23F     int64  \n",
            " 472  RFA_23A     object \n",
            " 473  RFA_24R     object \n",
            " 474  RFA_24F     int64  \n",
            " 475  RFA_24A     object \n",
            " 476  RDATE_SUM   int64  \n",
            "dtypes: float64(5), int64(414), object(58)\n",
            "memory usage: 350.7+ MB\n"
          ]
        }
      ],
      "source": [
        "df_features_test.info(verbose=True)"
      ]
    },
    {
      "cell_type": "code",
      "execution_count": 59,
      "metadata": {
        "id": "Ic793VcJ0HBQ",
        "colab": {
          "base_uri": "https://localhost:8080/"
        },
        "outputId": "e2a0209e-4844-4eaa-d3e5-c7f1d1526855"
      },
      "outputs": [
        {
          "output_type": "stream",
          "name": "stdout",
          "text": [
            "PVASTATE     0\n",
            "RECINHSE     0\n",
            "RECP3        0\n",
            "RECPGVG      0\n",
            "RECSWEEP     0\n",
            "            ..\n",
            "RFA_23A      0\n",
            "RFA_24R      0\n",
            "RFA_24F      0\n",
            "RFA_24A      0\n",
            "RDATE_SUM    0\n",
            "Length: 477, dtype: int64\n",
            "Total number of NaN in the dataframe:  0\n"
          ]
        }
      ],
      "source": [
        "print(df_features_test.isnull().sum())\n",
        "print('Total number of NaN in the dataframe: ', df_features_test.isnull().sum().sum())"
      ]
    },
    {
      "cell_type": "code",
      "execution_count": 60,
      "metadata": {
        "id": "rgNF_G030HBQ",
        "colab": {
          "base_uri": "https://localhost:8080/"
        },
        "outputId": "edfa4f93-5a64-46cc-a160-5d2b37270f4e"
      },
      "outputs": [
        {
          "output_type": "stream",
          "name": "stdout",
          "text": [
            "--2022-04-02 23:46:40--  https://dainesanalytics.com/datasets/ucirvine-kdd-cup-1998/valtargt.txt\n",
            "Resolving dainesanalytics.com (dainesanalytics.com)... 13.32.181.20, 13.32.181.26, 13.32.181.90, ...\n",
            "Connecting to dainesanalytics.com (dainesanalytics.com)|13.32.181.20|:443... connected.\n",
            "HTTP request sent, awaiting response... 200 OK\n",
            "Length: 1104529 (1.1M) [text/plain]\n",
            "Saving to: ‘valtargt.txt’\n",
            "\n",
            "valtargt.txt        100%[===================>]   1.05M  --.-KB/s    in 0.07s   \n",
            "\n",
            "2022-04-02 23:46:40 (15.5 MB/s) - ‘valtargt.txt’ saved [1104529/1104529]\n",
            "\n"
          ]
        }
      ],
      "source": [
        "if not os.path.exists(TARGET_DATASET):\n",
        "    !wget https://dainesanalytics.com/datasets/ucirvine-kdd-cup-1998/valtargt.txt"
      ]
    },
    {
      "cell_type": "code",
      "execution_count": 61,
      "metadata": {
        "id": "zXPfh_cp0HBQ",
        "colab": {
          "base_uri": "https://localhost:8080/"
        },
        "outputId": "5086574b-6ce9-4d42-b43d-1428ed78b6a2"
      },
      "outputs": [
        {
          "output_type": "stream",
          "name": "stdout",
          "text": [
            "   CONTROLN  TARGET_B  TARGET_D\n",
            "0         3         0       0.0\n",
            "1         6         0       0.0\n",
            "2         9         0       0.0\n",
            "3        11         0       0.0\n",
            "4        16         0       0.0\n"
          ]
        }
      ],
      "source": [
        "df_target_test = pd.read_csv(TARGET_DATASET, sep=',', index_col=False)\n",
        "\n",
        "# Take a peek at the dataframe after import\n",
        "print(df_target_test.head())"
      ]
    },
    {
      "cell_type": "code",
      "execution_count": 62,
      "metadata": {
        "id": "qZgqjtB90HBQ",
        "colab": {
          "base_uri": "https://localhost:8080/"
        },
        "outputId": "a26c1584-2389-4a52-cc4a-a36aa6f3127a"
      },
      "outputs": [
        {
          "output_type": "stream",
          "name": "stdout",
          "text": [
            "   TARGET_B\n",
            "0         0\n",
            "1         0\n",
            "2         0\n",
            "3         0\n",
            "4         0\n"
          ]
        }
      ],
      "source": [
        "# Drop unimportant features from various info sections\n",
        "df_target_test.drop(columns=['CONTROLN','TARGET_D'], inplace=True)\n",
        "\n",
        "# Take a peek at the dataframe after import\n",
        "print(df_target_test.head())"
      ]
    },
    {
      "cell_type": "code",
      "execution_count": 63,
      "metadata": {
        "id": "hEsTFVJL0HBQ",
        "colab": {
          "base_uri": "https://localhost:8080/"
        },
        "outputId": "92b9e58b-4509-4573-ecdf-190173f5a579"
      },
      "outputs": [
        {
          "output_type": "stream",
          "name": "stdout",
          "text": [
            "array_features_test.shape: (96367, 816) array_target_test.shape: (96367,)\n"
          ]
        }
      ],
      "source": [
        "# Finalize the test dataset for the testing activities\n",
        "array_features_test = preprocessor.transform(df_features_test)\n",
        "array_target_test = df_target_test['TARGET_B'].ravel()\n",
        "print(\"array_features_test.shape: {} array_target_test.shape: {}\".format(array_features_test.shape, array_target_test.shape))"
      ]
    },
    {
      "cell_type": "code",
      "execution_count": 64,
      "metadata": {
        "id": "u-85awo20HBQ",
        "colab": {
          "base_uri": "https://localhost:8080/"
        },
        "outputId": "4510e945-d7cb-4454-96fb-e6908f5f99c0"
      },
      "outputs": [
        {
          "output_type": "stream",
          "name": "stdout",
          "text": [
            "[0 0 0 ... 0 0 0]\n"
          ]
        }
      ],
      "source": [
        "# Make batched predictions\n",
        "test_predictions = final_model.predict(array_features_test)\n",
        "print(test_predictions)"
      ]
    },
    {
      "cell_type": "code",
      "execution_count": 65,
      "metadata": {
        "id": "-HN_HRR00HBR",
        "colab": {
          "base_uri": "https://localhost:8080/"
        },
        "outputId": "780f292b-ccb8-4858-ef11-6c4a762fa07b"
      },
      "outputs": [
        {
          "output_type": "stream",
          "name": "stdout",
          "text": [
            "Accuracy Score: 0.8666037128892671\n",
            "ROC/AUC Score: 0.5003846885706215\n",
            "[[83059  8435]\n",
            " [ 4420   453]]\n",
            "              precision    recall  f1-score   support\n",
            "\n",
            "           0       0.95      0.91      0.93     91494\n",
            "           1       0.05      0.09      0.07      4873\n",
            "\n",
            "    accuracy                           0.87     96367\n",
            "   macro avg       0.50      0.50      0.50     96367\n",
            "weighted avg       0.90      0.87      0.88     96367\n",
            "\n"
          ]
        }
      ],
      "source": [
        "print('Accuracy Score:', accuracy_score(array_target_test, test_predictions))\n",
        "print('ROC/AUC Score:', roc_auc_score(array_target_test, test_predictions))\n",
        "print(confusion_matrix(array_target_test, test_predictions))\n",
        "print(classification_report(array_target_test, test_predictions))"
      ]
    },
    {
      "cell_type": "code",
      "execution_count": 66,
      "metadata": {
        "id": "0on8EOmi0HBR"
      },
      "outputs": [],
      "source": [
        "if NOTIFY_STATUS: status_notify(\"Task 5 - Finalize Model and Make Predictions completed! \" + datetime.now().strftime('%a %B %d, %Y %I:%M:%S %p'))"
      ]
    },
    {
      "cell_type": "code",
      "execution_count": 67,
      "metadata": {
        "id": "AXAnxVqf0HBR",
        "colab": {
          "base_uri": "https://localhost:8080/"
        },
        "outputId": "dc058868-3aeb-40f0-96d6-da434e42b950"
      },
      "outputs": [
        {
          "output_type": "stream",
          "name": "stdout",
          "text": [
            "Total time for the script: 0:46:56.769887\n"
          ]
        }
      ],
      "source": [
        "print ('Total time for the script:',(datetime.now() - START_TIME_SCRIPT))"
      ]
    }
  ],
  "metadata": {
    "kernelspec": {
      "display_name": "Python 3 (ipykernel)",
      "language": "python",
      "name": "python3"
    },
    "language_info": {
      "codemirror_mode": {
        "name": "ipython",
        "version": 3
      },
      "file_extension": ".py",
      "mimetype": "text/x-python",
      "name": "python",
      "nbconvert_exporter": "python",
      "pygments_lexer": "ipython3",
      "version": "3.8.10"
    },
    "colab": {
      "name": "py_sklearn_binaryclass_kdd_cup_1998_take6.ipynb",
      "provenance": [],
      "collapsed_sections": [],
      "toc_visible": true,
      "background_execution": "on"
    }
  },
  "nbformat": 4,
  "nbformat_minor": 0
}
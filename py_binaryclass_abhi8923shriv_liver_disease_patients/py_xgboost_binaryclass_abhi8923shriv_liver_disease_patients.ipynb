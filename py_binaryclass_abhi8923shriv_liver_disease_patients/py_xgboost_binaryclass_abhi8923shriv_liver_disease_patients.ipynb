{
  "cells": [
    {
      "cell_type": "markdown",
      "metadata": {
        "id": "uTujCqduViZB"
      },
      "source": [
        "# Binary-Class Tabular Model for Liver Disease Patients Using Python and XGBoost\n",
        "### David Lowe\n",
        "### November 2, 2022\n",
        "\n",
        "SUMMARY: The project aims to construct a predictive model using various machine learning algorithms and document the end-to-end steps using a template. The Liver Disease Patients dataset is a binary-class modeling situation where we attempt to predict one of two possible outcomes.\n",
        "\n",
        "INTRODUCTION: This dataset contains over 30,000 cases of liver disease diagnosis results. The researcher trained machine learning models using this dataset to test the feasibility of applying machine learning techniques for making diagnostic predictions.\n",
        "\n",
        "ANALYSIS: The performance of the preliminary XGBoost model achieved an accuracy benchmark of 86.97%. After a series of tuning trials, the final model processed the training dataset with an accuracy score of 99.87%.\n",
        "\n",
        "CONCLUSION: In this iteration, the XGBoost model appeared to be a suitable algorithm for modeling this dataset.\n",
        "\n",
        "Dataset Used: Liver Disease Patients Dataset\n",
        "\n",
        "Dataset ML Model: Binary-Class classification with numerical and categorical features\n",
        "\n",
        "Dataset Reference: https://www.kaggle.com/datasets/abhi8923shriv/liver-disease-patient-dataset\n",
        "\n",
        "One source of potential performance benchmarks: https://www.kaggle.com/datasets/abhi8923shriv/liver-disease-patient-dataset/code"
      ]
    },
    {
      "cell_type": "markdown",
      "metadata": {
        "id": "CpOJ4D0sViZE"
      },
      "source": [
        "## Task 1 - Prepare Environment"
      ]
    },
    {
      "cell_type": "code",
      "execution_count": 1,
      "metadata": {
        "id": "lacFSiqQViZE",
        "outputId": "30b4af11-e3dd-4d5b-a492-565faa5394b3",
        "colab": {
          "base_uri": "https://localhost:8080/"
        }
      },
      "outputs": [
        {
          "output_type": "stream",
          "name": "stdout",
          "text": [
            "Sat Oct 29 15:20:14 2022       \n",
            "+-----------------------------------------------------------------------------+\n",
            "| NVIDIA-SMI 460.32.03    Driver Version: 460.32.03    CUDA Version: 11.2     |\n",
            "|-------------------------------+----------------------+----------------------+\n",
            "| GPU  Name        Persistence-M| Bus-Id        Disp.A | Volatile Uncorr. ECC |\n",
            "| Fan  Temp  Perf  Pwr:Usage/Cap|         Memory-Usage | GPU-Util  Compute M. |\n",
            "|                               |                      |               MIG M. |\n",
            "|===============================+======================+======================|\n",
            "|   0  Tesla T4            Off  | 00000000:00:04.0 Off |                    0 |\n",
            "| N/A   40C    P8    11W /  70W |      0MiB / 15109MiB |      0%      Default |\n",
            "|                               |                      |                  N/A |\n",
            "+-------------------------------+----------------------+----------------------+\n",
            "                                                                               \n",
            "+-----------------------------------------------------------------------------+\n",
            "| Processes:                                                                  |\n",
            "|  GPU   GI   CI        PID   Type   Process name                  GPU Memory |\n",
            "|        ID   ID                                                   Usage      |\n",
            "|=============================================================================|\n",
            "|  No running processes found                                                 |\n",
            "+-----------------------------------------------------------------------------+\n"
          ]
        }
      ],
      "source": [
        "# Retrieve the GPU information\n",
        "gpu_info = !nvidia-smi\n",
        "gpu_info = '\\n'.join(gpu_info)\n",
        "print(gpu_info)"
      ]
    },
    {
      "cell_type": "code",
      "execution_count": 2,
      "metadata": {
        "id": "DxtB-TajViZF",
        "outputId": "08fe1c42-a458-4316-fd84-fdf77a9a7694",
        "colab": {
          "base_uri": "https://localhost:8080/"
        }
      },
      "outputs": [
        {
          "output_type": "stream",
          "name": "stdout",
          "text": [
            "Your runtime has 13.6 gigabytes of available RAM\n",
            "\n"
          ]
        }
      ],
      "source": [
        "# Retrieve the memory configuration\n",
        "from psutil import virtual_memory\n",
        "ram_gb = virtual_memory().total / 1e9\n",
        "print('Your runtime has {:.1f} gigabytes of available RAM\\n'.format(ram_gb))"
      ]
    },
    {
      "cell_type": "code",
      "execution_count": 3,
      "metadata": {
        "id": "M5P-B3EHViZG",
        "outputId": "bf2a9022-8991-4462-8b60-90edd2ca9f5e",
        "colab": {
          "base_uri": "https://localhost:8080/"
        }
      },
      "outputs": [
        {
          "output_type": "stream",
          "name": "stdout",
          "text": [
            "The number of available CPUs is: 2\n"
          ]
        }
      ],
      "source": [
        "# Retrieve the CPU information\n",
        "ncpu = !nproc\n",
        "print(\"The number of available CPUs is:\", ncpu[0])"
      ]
    },
    {
      "cell_type": "markdown",
      "metadata": {
        "id": "PO6xpyHQViZG"
      },
      "source": [
        "### 1.a) Load libraries and modules"
      ]
    },
    {
      "cell_type": "code",
      "execution_count": 4,
      "metadata": {
        "id": "8wN4G-ONViZG"
      },
      "outputs": [],
      "source": [
        "# Set the random seed number for reproducible results\n",
        "RNG_SEED = 888"
      ]
    },
    {
      "cell_type": "code",
      "execution_count": 5,
      "metadata": {
        "id": "c_m1fMFIViZH"
      },
      "outputs": [],
      "source": [
        "import numpy as np\n",
        "import pandas as pd\n",
        "import seaborn as sns\n",
        "import matplotlib.pyplot as plt\n",
        "import os\n",
        "import sys\n",
        "import math\n",
        "# import boto3\n",
        "import zipfile\n",
        "import urllib\n",
        "from datetime import datetime\n",
        "from sklearn import preprocessing\n",
        "from sklearn.model_selection import train_test_split\n",
        "from sklearn.model_selection import StratifiedKFold\n",
        "from sklearn.model_selection import cross_val_score\n",
        "from sklearn.model_selection import GridSearchCV\n",
        "from sklearn.metrics import classification_report\n",
        "from sklearn.metrics import confusion_matrix\n",
        "from sklearn.metrics import accuracy_score\n",
        "from sklearn.pipeline import Pipeline\n",
        "from sklearn import compose\n",
        "from sklearn import impute\n",
        "\n",
        "# from sklearn.feature_selection import RFE\n",
        "# from imblearn.pipeline import Pipeline\n",
        "# from imblearn.over_sampling import SMOTE\n",
        "# from imblearn.under_sampling import RandomUnderSampler\n",
        "\n",
        "from xgboost import XGBClassifier"
      ]
    },
    {
      "cell_type": "markdown",
      "metadata": {
        "id": "R9eAm3poViZH"
      },
      "source": [
        "### 1.b) Set up the controlling parameters and functions"
      ]
    },
    {
      "cell_type": "code",
      "execution_count": 6,
      "metadata": {
        "id": "IdkikF4vViZI"
      },
      "outputs": [],
      "source": [
        "# Begin the timer for the script processing\n",
        "START_TIME_SCRIPT = datetime.now()\n",
        "\n",
        "# Set up the number of CPU cores available for multi-thread processing\n",
        "N_JOBS = 1\n",
        "\n",
        "# Set up the flag to stop sending progress emails (setting to True will send status emails!)\n",
        "NOTIFY_STATUS = False\n",
        "\n",
        "# Set the percentage sizes for splitting the dataset\n",
        "TEST_SET_RATIO = 0.1\n",
        "VAL_SET_RATIO = 0.1\n",
        "\n",
        "# Set the name for the class/label column\n",
        "ORIGINAL_LABEL = 'Result'\n",
        "CLASS_COLUMN = 'target'\n",
        "\n",
        "# Set the number of folds for cross validation\n",
        "N_FOLDS = 10\n",
        "\n",
        "# Set default modeling scoring metric\n",
        "SCORING_METRIC = 'accuracy'\n",
        "\n",
        "# Define the directory locations and file names\n",
        "TRAIN_DATASET = 'LPD_train.csv'"
      ]
    },
    {
      "cell_type": "code",
      "execution_count": 7,
      "metadata": {
        "id": "yd6Q3v1IViZI"
      },
      "outputs": [],
      "source": [
        "# Set up the email notification function\n",
        "def status_notify(msg_text):\n",
        "    access_key = os.environ.get('SNS_ACCESS_KEY')\n",
        "    secret_key = os.environ.get('SNS_SECRET_KEY')\n",
        "    aws_region = os.environ.get('SNS_AWS_REGION')\n",
        "    topic_arn = os.environ.get('SNS_TOPIC_ARN')\n",
        "    if (access_key is None) or (secret_key is None) or (aws_region is None):\n",
        "        sys.exit(\"Incomplete notification setup info. Script Processing Aborted!!!\")\n",
        "    sns = boto3.client('sns', aws_access_key_id=access_key, aws_secret_access_key=secret_key, region_name=aws_region)\n",
        "    response = sns.publish(TopicArn=topic_arn, Message=msg_text)\n",
        "    if response['ResponseMetadata']['HTTPStatusCode'] != 200 :\n",
        "        print('Status notification not OK with HTTP status code:', response['ResponseMetadata']['HTTPStatusCode'])"
      ]
    },
    {
      "cell_type": "code",
      "execution_count": 8,
      "metadata": {
        "id": "vUXsPt2cViZJ"
      },
      "outputs": [],
      "source": [
        "if NOTIFY_STATUS: status_notify(\"Task 1 - Prepare Environment has begun! \" + datetime.now().strftime('%a %B %d, %Y %I:%M:%S %p'))"
      ]
    },
    {
      "cell_type": "markdown",
      "metadata": {
        "id": "q_Bvl4siViZJ"
      },
      "source": [
        "### 1.c) Load dataset"
      ]
    },
    {
      "cell_type": "code",
      "execution_count": 9,
      "metadata": {
        "id": "xLOu39vyViZK",
        "outputId": "dac78bdb-5226-4302-bd9e-66cd9029b0e1",
        "colab": {
          "base_uri": "https://localhost:8080/"
        }
      },
      "outputs": [
        {
          "output_type": "stream",
          "name": "stdout",
          "text": [
            "    Age  Gender  Total_Bilirubin  Direct_Bilirubin  \\\n",
            "0  65.0  Female              0.7               0.1   \n",
            "1  62.0    Male             10.9               5.5   \n",
            "2  62.0    Male              7.3               4.1   \n",
            "3  58.0    Male              1.0               0.4   \n",
            "4  72.0    Male              3.9               2.0   \n",
            "\n",
            "   Alkphos_Alkaline_Phosphotase  Sgpt_Alamine_Aminotransferase  \\\n",
            "0                         187.0                           16.0   \n",
            "1                         699.0                           64.0   \n",
            "2                         490.0                           60.0   \n",
            "3                         182.0                           14.0   \n",
            "4                         195.0                           27.0   \n",
            "\n",
            "   Sgot_Aspartate_Aminotransferase  Total_Protiens  ALB_Albumin  \\\n",
            "0                             18.0             6.8          3.3   \n",
            "1                            100.0             7.5          3.2   \n",
            "2                             68.0             7.0          3.3   \n",
            "3                             20.0             6.8          3.4   \n",
            "4                             59.0             7.3          2.4   \n",
            "\n",
            "   Albumin_Globulin_Ratio  Result  \n",
            "0                    0.90       1  \n",
            "1                    0.74       1  \n",
            "2                    0.89       1  \n",
            "3                    1.00       1  \n",
            "4                    0.40       1  \n"
          ]
        }
      ],
      "source": [
        "dataset_path = 'https://dainesanalytics.com/datasets/kaggle-abhi8923shriv-liver-disease-patient/LPD_train.csv'\n",
        "df_dataset_import = pd.read_csv(dataset_path)\n",
        "\n",
        "# Take a peek at the dataframe after import\n",
        "print(df_dataset_import.head())"
      ]
    },
    {
      "cell_type": "code",
      "execution_count": 10,
      "metadata": {
        "id": "hh61JaxGViZK",
        "outputId": "f168e593-078b-4c58-f4ad-70a6fa306bb9",
        "colab": {
          "base_uri": "https://localhost:8080/"
        }
      },
      "outputs": [
        {
          "output_type": "stream",
          "name": "stdout",
          "text": [
            "<class 'pandas.core.frame.DataFrame'>\n",
            "RangeIndex: 30691 entries, 0 to 30690\n",
            "Data columns (total 11 columns):\n",
            " #   Column                           Non-Null Count  Dtype  \n",
            "---  ------                           --------------  -----  \n",
            " 0   Age                              30689 non-null  float64\n",
            " 1   Gender                           29789 non-null  object \n",
            " 2   Total_Bilirubin                  30043 non-null  float64\n",
            " 3   Direct_Bilirubin                 30130 non-null  float64\n",
            " 4   Alkphos_Alkaline_Phosphotase     29895 non-null  float64\n",
            " 5   Sgpt_Alamine_Aminotransferase    30153 non-null  float64\n",
            " 6   Sgot_Aspartate_Aminotransferase  30229 non-null  float64\n",
            " 7   Total_Protiens                   30228 non-null  float64\n",
            " 8   ALB_Albumin                      30197 non-null  float64\n",
            " 9   Albumin_Globulin_Ratio           30132 non-null  float64\n",
            " 10  Result                           30691 non-null  int64  \n",
            "dtypes: float64(9), int64(1), object(1)\n",
            "memory usage: 2.6+ MB\n"
          ]
        }
      ],
      "source": [
        "df_dataset_import.info(verbose=True)"
      ]
    },
    {
      "cell_type": "code",
      "execution_count": 11,
      "metadata": {
        "id": "H4E9OUytViZK",
        "outputId": "3975c525-2c51-40aa-d134-4f5657974d85",
        "colab": {
          "base_uri": "https://localhost:8080/"
        }
      },
      "outputs": [
        {
          "output_type": "stream",
          "name": "stdout",
          "text": [
            "                Age  Total_Bilirubin  Direct_Bilirubin  \\\n",
            "count  30689.000000     30043.000000      30130.000000   \n",
            "mean      44.107205         3.370319          1.528042   \n",
            "std       15.981043         6.255522          2.869592   \n",
            "min        4.000000         0.400000          0.100000   \n",
            "25%       32.000000         0.800000          0.200000   \n",
            "50%       45.000000         1.000000          0.300000   \n",
            "75%       55.000000         2.700000          1.300000   \n",
            "max       90.000000        75.000000         19.700000   \n",
            "\n",
            "       Alkphos_Alkaline_Phosphotase  Sgpt_Alamine_Aminotransferase  \\\n",
            "count                  29895.000000                   30153.000000   \n",
            "mean                     289.075364                      81.488641   \n",
            "std                      238.537589                     182.158850   \n",
            "min                       63.000000                      10.000000   \n",
            "25%                      175.000000                      23.000000   \n",
            "50%                      209.000000                      35.000000   \n",
            "75%                      298.000000                      62.000000   \n",
            "max                     2110.000000                    2000.000000   \n",
            "\n",
            "       Sgot_Aspartate_Aminotransferase  Total_Protiens   ALB_Albumin  \\\n",
            "count                     30229.000000    30228.000000  30197.000000   \n",
            "mean                        111.469979        6.480237      3.130142   \n",
            "std                         280.851078        1.081980      0.792281   \n",
            "min                          10.000000        2.700000      0.900000   \n",
            "25%                          26.000000        5.800000      2.600000   \n",
            "50%                          42.000000        6.600000      3.100000   \n",
            "75%                          88.000000        7.200000      3.800000   \n",
            "max                        4929.000000        9.600000      5.500000   \n",
            "\n",
            "       Albumin_Globulin_Ratio        Result  \n",
            "count            30132.000000  30691.000000  \n",
            "mean                 0.943467      1.285882  \n",
            "std                  0.323164      0.451841  \n",
            "min                  0.300000      1.000000  \n",
            "25%                  0.700000      1.000000  \n",
            "50%                  0.900000      1.000000  \n",
            "75%                  1.100000      2.000000  \n",
            "max                  2.800000      2.000000  \n"
          ]
        }
      ],
      "source": [
        "print(df_dataset_import.describe())"
      ]
    },
    {
      "cell_type": "code",
      "execution_count": 12,
      "metadata": {
        "id": "hLrJ1Su4ViZK",
        "outputId": "7017ebf2-a0d2-41fb-8fa8-34a45b0ca9df",
        "colab": {
          "base_uri": "https://localhost:8080/"
        }
      },
      "outputs": [
        {
          "output_type": "stream",
          "name": "stdout",
          "text": [
            "Age                                  2\n",
            "Gender                             902\n",
            "Total_Bilirubin                    648\n",
            "Direct_Bilirubin                   561\n",
            "Alkphos_Alkaline_Phosphotase       796\n",
            "Sgpt_Alamine_Aminotransferase      538\n",
            "Sgot_Aspartate_Aminotransferase    462\n",
            "Total_Protiens                     463\n",
            "ALB_Albumin                        494\n",
            "Albumin_Globulin_Ratio             559\n",
            "Result                               0\n",
            "dtype: int64\n",
            "Total number of NaN in the dataframe:  5425\n"
          ]
        }
      ],
      "source": [
        "print(df_dataset_import.isnull().sum())\n",
        "print('Total number of NaN in the dataframe: ', df_dataset_import.isnull().sum().sum())"
      ]
    },
    {
      "cell_type": "code",
      "execution_count": 13,
      "metadata": {
        "id": "07ghAOPqViZK"
      },
      "outputs": [],
      "source": [
        "# Get grouping size for the target variable\n",
        "# print(df_dataset_import.groupby(ORIGINAL_LABEL).size())"
      ]
    },
    {
      "cell_type": "markdown",
      "metadata": {
        "id": "k79hRaYnViZK"
      },
      "source": [
        "### 1.d) Data Cleaning"
      ]
    },
    {
      "cell_type": "code",
      "execution_count": 14,
      "metadata": {
        "id": "7HBPom3PViZK",
        "outputId": "182475e9-b1c8-42b8-c7ff-105d616d6854",
        "colab": {
          "base_uri": "https://localhost:8080/"
        }
      },
      "outputs": [
        {
          "output_type": "stream",
          "name": "stdout",
          "text": [
            "    Age  Gender  Total_Bilirubin  Direct_Bilirubin  \\\n",
            "0  65.0  Female              0.7               0.1   \n",
            "1  62.0    Male             10.9               5.5   \n",
            "2  62.0    Male              7.3               4.1   \n",
            "3  58.0    Male              1.0               0.4   \n",
            "4  72.0    Male              3.9               2.0   \n",
            "\n",
            "   Alkphos_Alkaline_Phosphotase  Sgpt_Alamine_Aminotransferase  \\\n",
            "0                         187.0                           16.0   \n",
            "1                         699.0                           64.0   \n",
            "2                         490.0                           60.0   \n",
            "3                         182.0                           14.0   \n",
            "4                         195.0                           27.0   \n",
            "\n",
            "   Sgot_Aspartate_Aminotransferase  Total_Protiens  ALB_Albumin  \\\n",
            "0                             18.0             6.8          3.3   \n",
            "1                            100.0             7.5          3.2   \n",
            "2                             68.0             7.0          3.3   \n",
            "3                             20.0             6.8          3.4   \n",
            "4                             59.0             7.3          2.4   \n",
            "\n",
            "   Albumin_Globulin_Ratio  target  \n",
            "0                    0.90       1  \n",
            "1                    0.74       1  \n",
            "2                    0.89       1  \n",
            "3                    1.00       1  \n",
            "4                    0.40       1  \n"
          ]
        }
      ],
      "source": [
        "# Standardize the class column to the name of targetVar if required\n",
        "df_dataset_import = df_dataset_import.rename(columns={ORIGINAL_LABEL: CLASS_COLUMN})\n",
        "\n",
        "# Take a peek at the dataframe after cleaning\n",
        "print(df_dataset_import.head())"
      ]
    },
    {
      "cell_type": "code",
      "execution_count": 15,
      "metadata": {
        "id": "wbCDZq1iViZL",
        "outputId": "44d7db12-4d8f-4a10-8c2f-79431b9e2fa0",
        "colab": {
          "base_uri": "https://localhost:8080/"
        }
      },
      "outputs": [
        {
          "output_type": "stream",
          "name": "stdout",
          "text": [
            "<class 'pandas.core.frame.DataFrame'>\n",
            "RangeIndex: 30691 entries, 0 to 30690\n",
            "Data columns (total 11 columns):\n",
            " #   Column                           Non-Null Count  Dtype  \n",
            "---  ------                           --------------  -----  \n",
            " 0   Age                              30689 non-null  float64\n",
            " 1   Gender                           29789 non-null  object \n",
            " 2   Total_Bilirubin                  30043 non-null  float64\n",
            " 3   Direct_Bilirubin                 30130 non-null  float64\n",
            " 4   Alkphos_Alkaline_Phosphotase     29895 non-null  float64\n",
            " 5   Sgpt_Alamine_Aminotransferase    30153 non-null  float64\n",
            " 6   Sgot_Aspartate_Aminotransferase  30229 non-null  float64\n",
            " 7   Total_Protiens                   30228 non-null  float64\n",
            " 8   ALB_Albumin                      30197 non-null  float64\n",
            " 9   Albumin_Globulin_Ratio           30132 non-null  float64\n",
            " 10  target                           30691 non-null  int64  \n",
            "dtypes: float64(9), int64(1), object(1)\n",
            "memory usage: 2.6+ MB\n"
          ]
        }
      ],
      "source": [
        "df_dataset_import.info(verbose=True)"
      ]
    },
    {
      "cell_type": "code",
      "execution_count": 16,
      "metadata": {
        "id": "Ww92c4w7ViZL",
        "outputId": "21bb80f1-5212-4c9b-8704-bb9a6e14266b",
        "colab": {
          "base_uri": "https://localhost:8080/"
        }
      },
      "outputs": [
        {
          "output_type": "stream",
          "name": "stdout",
          "text": [
            "                Age  Total_Bilirubin  Direct_Bilirubin  \\\n",
            "count  30689.000000     30043.000000      30130.000000   \n",
            "mean      44.107205         3.370319          1.528042   \n",
            "std       15.981043         6.255522          2.869592   \n",
            "min        4.000000         0.400000          0.100000   \n",
            "25%       32.000000         0.800000          0.200000   \n",
            "50%       45.000000         1.000000          0.300000   \n",
            "75%       55.000000         2.700000          1.300000   \n",
            "max       90.000000        75.000000         19.700000   \n",
            "\n",
            "       Alkphos_Alkaline_Phosphotase  Sgpt_Alamine_Aminotransferase  \\\n",
            "count                  29895.000000                   30153.000000   \n",
            "mean                     289.075364                      81.488641   \n",
            "std                      238.537589                     182.158850   \n",
            "min                       63.000000                      10.000000   \n",
            "25%                      175.000000                      23.000000   \n",
            "50%                      209.000000                      35.000000   \n",
            "75%                      298.000000                      62.000000   \n",
            "max                     2110.000000                    2000.000000   \n",
            "\n",
            "       Sgot_Aspartate_Aminotransferase  Total_Protiens   ALB_Albumin  \\\n",
            "count                     30229.000000    30228.000000  30197.000000   \n",
            "mean                        111.469979        6.480237      3.130142   \n",
            "std                         280.851078        1.081980      0.792281   \n",
            "min                          10.000000        2.700000      0.900000   \n",
            "25%                          26.000000        5.800000      2.600000   \n",
            "50%                          42.000000        6.600000      3.100000   \n",
            "75%                          88.000000        7.200000      3.800000   \n",
            "max                        4929.000000        9.600000      5.500000   \n",
            "\n",
            "       Albumin_Globulin_Ratio        target  \n",
            "count            30132.000000  30691.000000  \n",
            "mean                 0.943467      1.285882  \n",
            "std                  0.323164      0.451841  \n",
            "min                  0.300000      1.000000  \n",
            "25%                  0.700000      1.000000  \n",
            "50%                  0.900000      1.000000  \n",
            "75%                  1.100000      2.000000  \n",
            "max                  2.800000      2.000000  \n"
          ]
        }
      ],
      "source": [
        "print(df_dataset_import.describe())"
      ]
    },
    {
      "cell_type": "code",
      "execution_count": 17,
      "metadata": {
        "id": "89hWrwe6ViZL",
        "outputId": "ed88dce3-2f27-483c-95b0-951b0101d273",
        "colab": {
          "base_uri": "https://localhost:8080/"
        }
      },
      "outputs": [
        {
          "output_type": "stream",
          "name": "stdout",
          "text": [
            "Age                                  2\n",
            "Gender                             902\n",
            "Total_Bilirubin                    648\n",
            "Direct_Bilirubin                   561\n",
            "Alkphos_Alkaline_Phosphotase       796\n",
            "Sgpt_Alamine_Aminotransferase      538\n",
            "Sgot_Aspartate_Aminotransferase    462\n",
            "Total_Protiens                     463\n",
            "ALB_Albumin                        494\n",
            "Albumin_Globulin_Ratio             559\n",
            "target                               0\n",
            "dtype: int64\n",
            "Total number of NaN in the dataframe:  5425\n"
          ]
        }
      ],
      "source": [
        "print(df_dataset_import.isnull().sum())\n",
        "print('Total number of NaN in the dataframe: ', df_dataset_import.isnull().sum().sum())"
      ]
    },
    {
      "cell_type": "code",
      "execution_count": 18,
      "metadata": {
        "id": "KGs4GZ6-ViZL",
        "outputId": "2be82d48-e10f-4d3b-f46b-1b638af60698",
        "colab": {
          "base_uri": "https://localhost:8080/"
        }
      },
      "outputs": [
        {
          "output_type": "stream",
          "name": "stdout",
          "text": [
            "target\n",
            "1    21917\n",
            "2     8774\n",
            "dtype: int64\n"
          ]
        }
      ],
      "source": [
        "# Get grouping size for the target variable\n",
        "print(df_dataset_import.groupby(CLASS_COLUMN).size())"
      ]
    },
    {
      "cell_type": "markdown",
      "metadata": {
        "id": "kh4pXl29ViZL"
      },
      "source": [
        "### 1.e) Splitting Data into Sets"
      ]
    },
    {
      "cell_type": "code",
      "execution_count": 19,
      "metadata": {
        "id": "Ex6RhBcCViZL",
        "outputId": "cb002920-2ace-4afb-faab-cc8bc5c63e75",
        "colab": {
          "base_uri": "https://localhost:8080/"
        }
      },
      "outputs": [
        {
          "output_type": "stream",
          "name": "stdout",
          "text": [
            "df_dataset_import.shape: (30691, 11) df_features_train.shape: (30691, 10) df_target_train.shape: (30691,)\n"
          ]
        }
      ],
      "source": [
        "# Use variable total_column_count to hold the number of columns in the dataframe\n",
        "total_column_count = len(df_dataset_import.columns)\n",
        "\n",
        "# Set up variable total_feature_count for the total number of attribute columns\n",
        "total_feature_count = total_column_count-1\n",
        "\n",
        "# We create attribute-only and target-only datasets (df_features_train and df_target_train)\n",
        "df_target_train = df_dataset_import['target']\n",
        "df_features_train = df_dataset_import.drop(['target'], axis=1)\n",
        "\n",
        "print(\"df_dataset_import.shape: {} df_features_train.shape: {} df_target_train.shape: {}\".format(df_dataset_import.shape, df_features_train.shape, df_target_train.shape))"
      ]
    },
    {
      "cell_type": "markdown",
      "metadata": {
        "id": "i99VwZJrViZM"
      },
      "source": [
        "### 1.f) Set up the parameters for data visualization"
      ]
    },
    {
      "cell_type": "code",
      "execution_count": 20,
      "metadata": {
        "id": "CywZOJhDViZM"
      },
      "outputs": [],
      "source": [
        "# Set up the number of row and columns for visualization display. display_rows * display_columns should be >= total_feature_count\n",
        "display_columns = 4\n",
        "if total_feature_count % display_columns == 0 :\n",
        "    display_rows = total_feature_count // display_columns\n",
        "else :\n",
        "    display_rows = (total_feature_count // display_columns) + 1\n",
        "\n",
        "# Set figure width to display the data visualization plots\n",
        "fig_size = plt.rcParams[\"figure.figsize\"]\n",
        "fig_size[0] = display_columns * 4\n",
        "fig_size[1] = display_rows * 4\n",
        "plt.rcParams[\"figure.figsize\"] = fig_size"
      ]
    },
    {
      "cell_type": "code",
      "execution_count": 21,
      "metadata": {
        "id": "SWFPW_x4ViZM"
      },
      "outputs": [],
      "source": [
        "if NOTIFY_STATUS: status_notify(\"Task 1 - Prepare Environment completed! \" + datetime.now().strftime('%a %B %d, %Y %I:%M:%S %p'))"
      ]
    },
    {
      "cell_type": "markdown",
      "metadata": {
        "id": "TV1LLl0TViZM"
      },
      "source": [
        "## Task 2 - Summarize and Visualize Data"
      ]
    },
    {
      "cell_type": "code",
      "execution_count": 22,
      "metadata": {
        "id": "y0Fd1Sw1ViZM"
      },
      "outputs": [],
      "source": [
        "if NOTIFY_STATUS: status_notify(\"Task 2 - Summarize and Visualize Data has begun! \" + datetime.now().strftime('%a %B %d, %Y %I:%M:%S %p'))"
      ]
    },
    {
      "cell_type": "code",
      "execution_count": 23,
      "metadata": {
        "id": "LjmegM0_ViZM",
        "outputId": "cf4f44e7-556c-4354-d27c-6914cb6d68dc",
        "colab": {
          "base_uri": "https://localhost:8080/",
          "height": 700
        }
      },
      "outputs": [
        {
          "output_type": "display_data",
          "data": {
            "text/plain": [
              "<Figure size 1152x864 with 12 Axes>"
            ],
            "image/png": "[encoded data removed]"
          },
          "metadata": {
            "needs_background": "light"
          }
        }
      ],
      "source": [
        "# Histograms for each attribute\n",
        "df_features_train.plot(kind='hist', subplots=True, layout=(display_rows, display_columns))\n",
        "plt.show()"
      ]
    },
    {
      "cell_type": "code",
      "execution_count": 24,
      "metadata": {
        "id": "MhLRoBwoViZM",
        "outputId": "9758220e-8728-4d26-f693-01a325e04e63",
        "colab": {
          "base_uri": "https://localhost:8080/",
          "height": 701
        }
      },
      "outputs": [
        {
          "output_type": "display_data",
          "data": {
            "text/plain": [
              "<Figure size 1152x864 with 12 Axes>"
            ],
            "image/png": "[encoded data removed]"
          },
          "metadata": {
            "needs_background": "light"
          }
        }
      ],
      "source": [
        "# Box and Whisker plot for each attribute\n",
        "df_features_train.plot(kind='box', subplots=True, layout=(display_rows, display_columns))\n",
        "plt.show()"
      ]
    },
    {
      "cell_type": "code",
      "execution_count": 25,
      "metadata": {
        "id": "wVZXCA2-ViZM",
        "colab": {
          "base_uri": "https://localhost:8080/",
          "height": 1000
        },
        "outputId": "5aa16589-532b-4e73-c4e5-af5a25016ad2"
      },
      "outputs": [
        {
          "output_type": "display_data",
          "data": {
            "text/plain": [
              "<Figure size 1440x1440 with 2 Axes>"
            ],
            "image/png": "[encoded data removed]"
          },
          "metadata": {
            "needs_background": "light"
          }
        }
      ],
      "source": [
        "# Correlation matrix\n",
        "fig = plt.figure(figsize=(20, 20))\n",
        "correlations = df_features_train.corr(method='pearson')\n",
        "sns.heatmap(correlations, annot=True, cmap=plt.cm.PuBu)\n",
        "plt.show()"
      ]
    },
    {
      "cell_type": "code",
      "execution_count": 26,
      "metadata": {
        "tags": [],
        "id": "Y06DzC9iViZN"
      },
      "outputs": [],
      "source": [
        "if NOTIFY_STATUS: status_notify(\"Task 2 - Summarize and Visualize Data completed! \" + datetime.now().strftime('%a %B %d, %Y %I:%M:%S %p'))"
      ]
    },
    {
      "cell_type": "markdown",
      "metadata": {
        "id": "nUirhh-YViZN"
      },
      "source": [
        "## Task 3 - Pre-process Data"
      ]
    },
    {
      "cell_type": "code",
      "execution_count": 27,
      "metadata": {
        "id": "ubJ1OkeDViZN"
      },
      "outputs": [],
      "source": [
        "if NOTIFY_STATUS: status_notify(\"Task 3 - Pre-process Data has begun! \" + datetime.now().strftime('%a %B %d, %Y %I:%M:%S %p'))"
      ]
    },
    {
      "cell_type": "markdown",
      "metadata": {
        "id": "bBdegmC1ViZN"
      },
      "source": [
        "### 3.a) Feature Scaling"
      ]
    },
    {
      "cell_type": "code",
      "execution_count": 28,
      "metadata": {
        "id": "_ItuvWIXViZN",
        "outputId": "9e908e5a-f216-427f-b22b-8d501e11a7e1",
        "colab": {
          "base_uri": "https://localhost:8080/"
        }
      },
      "outputs": [
        {
          "output_type": "stream",
          "name": "stdout",
          "text": [
            "Number of numerical columns: 9\n",
            "Number of categorical columns: 1\n",
            "Total number of columns in the feature dataframe: 10\n"
          ]
        }
      ],
      "source": [
        "# Compose pipeline for the numerical and categorical features (Block #1 of 2)\n",
        "numeric_columns = df_features_train.select_dtypes(include=['float','int']).columns\n",
        "numeric_transformer = Pipeline(steps=[\n",
        "    ('imputer', impute.SimpleImputer(strategy=\"median\")),\n",
        "    ('scaler', preprocessing.StandardScaler())\n",
        "])\n",
        "categorical_columns = df_features_train.select_dtypes(include=['object','bool','category']).columns\n",
        "categorical_transformer = Pipeline(steps=[\n",
        "    ('imputer', impute.SimpleImputer(strategy='constant', fill_value='UKNOWN')),\n",
        "    ('onehot', preprocessing.OneHotEncoder(sparse=False, handle_unknown='ignore'))\n",
        "])\n",
        "\n",
        "print(\"Number of numerical columns:\", len(numeric_columns))\n",
        "print(\"Number of categorical columns:\", len(categorical_columns))\n",
        "print(\"Total number of columns in the feature dataframe:\", df_features_train.shape[1])"
      ]
    },
    {
      "cell_type": "code",
      "execution_count": 29,
      "metadata": {
        "id": "x69f9jVgViZN",
        "outputId": "1358408e-03c3-4c5a-fd9c-e1092f3f6e96",
        "colab": {
          "base_uri": "https://localhost:8080/"
        }
      },
      "outputs": [
        {
          "output_type": "stream",
          "name": "stdout",
          "text": [
            "Transformed features from df_features_train.shape: (30691, 10) to array_features_train.shape: (30691, 12)\n"
          ]
        }
      ],
      "source": [
        "# Compose pipeline for the numerical and categorical features (Block #2 of 2)\n",
        "preprocessor = compose.ColumnTransformer(transformers=[\n",
        "    ('num', numeric_transformer, numeric_columns),\n",
        "    ('cat', categorical_transformer, categorical_columns)\n",
        "    ], remainder='passthrough')\n",
        "\n",
        "# Display the shapes of the training dataset for final inspection\n",
        "array_features_train = preprocessor.fit_transform(df_features_train)\n",
        "print(\"Transformed features from df_features_train.shape: {} to array_features_train.shape: {}\".format(df_features_train.shape, array_features_train.shape))"
      ]
    },
    {
      "cell_type": "markdown",
      "metadata": {
        "id": "GDo-EE7vViZN"
      },
      "source": [
        "### 3.b) Training Data Balancing"
      ]
    },
    {
      "cell_type": "code",
      "execution_count": 30,
      "metadata": {
        "id": "FVU1JtNOViZN"
      },
      "outputs": [],
      "source": [
        "# Not applicable for this iteration of the project"
      ]
    },
    {
      "cell_type": "markdown",
      "metadata": {
        "id": "e-i6vz-gViZN"
      },
      "source": [
        "### 3.c) Feature Selection"
      ]
    },
    {
      "cell_type": "code",
      "execution_count": 31,
      "metadata": {
        "id": "vrGYGJEBViZN"
      },
      "outputs": [],
      "source": [
        "# Not applicable for this iteration of the project"
      ]
    },
    {
      "cell_type": "markdown",
      "metadata": {
        "id": "SqKyiRHlViZO"
      },
      "source": [
        "### 3.d) Display the Final Datasets for Model-Building"
      ]
    },
    {
      "cell_type": "code",
      "execution_count": 32,
      "metadata": {
        "id": "-4dLat26ViZO",
        "outputId": "56985eaa-26a6-4ab0-93fc-dad6ca33d706",
        "colab": {
          "base_uri": "https://localhost:8080/"
        }
      },
      "outputs": [
        {
          "output_type": "stream",
          "name": "stdout",
          "text": [
            "array_features_train.shape: (30691, 12) array_target_train.shape: (30691,)\n"
          ]
        }
      ],
      "source": [
        "# Finalize the training dataset for the modeling activities\n",
        "array_features_train = preprocessor.fit_transform(df_features_train)\n",
        "label_encoder = preprocessing.LabelEncoder()\n",
        "array_target_train = label_encoder.fit_transform(df_target_train)\n",
        "print(\"array_features_train.shape: {} array_target_train.shape: {}\".format(array_features_train.shape, array_target_train.shape))"
      ]
    },
    {
      "cell_type": "code",
      "execution_count": 33,
      "metadata": {
        "id": "64k83phgViZO"
      },
      "outputs": [],
      "source": [
        "if NOTIFY_STATUS: status_notify(\"Task 3 - Pre-process Data completed! \" + datetime.now().strftime('%a %B %d, %Y %I:%M:%S %p'))"
      ]
    },
    {
      "cell_type": "markdown",
      "metadata": {
        "id": "cybD8FKuViZO"
      },
      "source": [
        "## Task 4 - Train and Tune Models"
      ]
    },
    {
      "cell_type": "code",
      "execution_count": 34,
      "metadata": {
        "id": "dEiqFpjqViZO"
      },
      "outputs": [],
      "source": [
        "if NOTIFY_STATUS: status_notify(\"Task 4 - Train and Tune Models has begun! \" + datetime.now().strftime('%a %B %d, %Y %I:%M:%S %p'))"
      ]
    },
    {
      "cell_type": "markdown",
      "metadata": {
        "id": "uKsJm33lViZO"
      },
      "source": [
        "### 4.a) Set test options and evaluation metric"
      ]
    },
    {
      "cell_type": "code",
      "execution_count": 35,
      "metadata": {
        "id": "uaw3fsgoViZO"
      },
      "outputs": [],
      "source": [
        "# Set up Algorithms Spot-Checking Array\n",
        "start_time_training = datetime.now()\n",
        "train_models = []\n",
        "train_results = []\n",
        "train_model_names = []\n",
        "train_metrics = []"
      ]
    },
    {
      "cell_type": "code",
      "execution_count": 36,
      "metadata": {
        "id": "4BuHnxhzViZO"
      },
      "outputs": [],
      "source": [
        "train_models.append(('XGB', XGBClassifier(random_state=RNG_SEED, n_jobs=N_JOBS, objective='binary:logistic', use_label_encoder=False, eval_metric='logloss', tree_method='gpu_hist')))"
      ]
    },
    {
      "cell_type": "code",
      "execution_count": 37,
      "metadata": {
        "id": "xcXtJMqnViZO",
        "outputId": "2ab2560a-1d25-4b46-c846-6c7f0057556b",
        "colab": {
          "base_uri": "https://localhost:8080/"
        }
      },
      "outputs": [
        {
          "output_type": "stream",
          "name": "stderr",
          "text": [
            "[Parallel(n_jobs=1)]: Using backend SequentialBackend with 1 concurrent workers.\n"
          ]
        },
        {
          "output_type": "stream",
          "name": "stdout",
          "text": [
            "XGB: 0.869734 (0.008089)\n",
            "XGBClassifier(eval_metric='logloss', random_state=888, tree_method='gpu_hist',\n",
            "              use_label_encoder=False)\n",
            "Model training time: 0:00:07.745534 \n",
            "\n",
            "Average metrics (accuracy) from all models: 0.86973375660567\n",
            "Total training time for all models: 0:00:07.790755\n"
          ]
        },
        {
          "output_type": "stream",
          "name": "stderr",
          "text": [
            "[Parallel(n_jobs=1)]: Done  10 out of  10 | elapsed:    7.7s finished\n"
          ]
        }
      ],
      "source": [
        "# Generate model in turn\n",
        "for name, model in train_models:\n",
        "    if NOTIFY_STATUS: status_notify(\"Algorithm \"+name+\" modeling has begun! \" + datetime.now().strftime('%a %B %d, %Y %I:%M:%S %p'))\n",
        "    start_time_module = datetime.now()\n",
        "    kfold = StratifiedKFold(n_splits=N_FOLDS, shuffle=True, random_state=RNG_SEED)\n",
        "    cv_results = cross_val_score(model, array_features_train, array_target_train, cv=kfold, scoring=SCORING_METRIC, n_jobs=N_JOBS, verbose=1)\n",
        "    train_results.append(cv_results)\n",
        "    train_model_names.append(name)\n",
        "    train_metrics.append(cv_results.mean())\n",
        "    print(\"%s: %f (%f)\" % (name, cv_results.mean(), cv_results.std()))\n",
        "    print(model)\n",
        "    print ('Model training time:', (datetime.now() - start_time_module), '\\n')\n",
        "    if NOTIFY_STATUS: status_notify(\"Algorithm \"+name+\" modeling completed! \" + datetime.now().strftime('%a %B %d, %Y %I:%M:%S %p'))\n",
        "print ('Average metrics (' + SCORING_METRIC + ') from all models:', np.mean(train_metrics))\n",
        "print ('Total training time for all models:', (datetime.now() - start_time_training))"
      ]
    },
    {
      "cell_type": "markdown",
      "metadata": {
        "id": "_mdCViJcViZO"
      },
      "source": [
        "### 4.b) Algorithm Tuning"
      ]
    },
    {
      "cell_type": "code",
      "execution_count": 38,
      "metadata": {
        "id": "VnJ8nahWViZO"
      },
      "outputs": [],
      "source": [
        "# Set up the comparison array\n",
        "tune_results = []\n",
        "tune_model_names = []"
      ]
    },
    {
      "cell_type": "code",
      "execution_count": 39,
      "metadata": {
        "id": "XQbxK3lJViZP",
        "outputId": "9720c2ea-9647-46b5-9b90-63494ba8b0c1",
        "colab": {
          "base_uri": "https://localhost:8080/"
        }
      },
      "outputs": [
        {
          "output_type": "stream",
          "name": "stdout",
          "text": [
            "Fitting 10 folds for each of 45 candidates, totalling 450 fits\n",
            "Best: 0.998338 using {'max_depth': 6, 'min_child_weight': 1, 'n_estimators': 500}\n",
            "0.869734 (0.008089) with: {'max_depth': 3, 'min_child_weight': 1, 'n_estimators': 100}\n",
            "0.942720 (0.007040) with: {'max_depth': 3, 'min_child_weight': 1, 'n_estimators': 200}\n",
            "0.980157 (0.003812) with: {'max_depth': 3, 'min_child_weight': 1, 'n_estimators': 300}\n",
            "0.991138 (0.001870) with: {'max_depth': 3, 'min_child_weight': 1, 'n_estimators': 400}\n",
            "0.993940 (0.001186) with: {'max_depth': 3, 'min_child_weight': 1, 'n_estimators': 500}\n",
            "0.870809 (0.009908) with: {'max_depth': 3, 'min_child_weight': 2, 'n_estimators': 100}\n",
            "0.942720 (0.009418) with: {'max_depth': 3, 'min_child_weight': 2, 'n_estimators': 200}\n",
            "0.978952 (0.002697) with: {'max_depth': 3, 'min_child_weight': 2, 'n_estimators': 300}\n",
            "0.991529 (0.001955) with: {'max_depth': 3, 'min_child_weight': 2, 'n_estimators': 400}\n",
            "0.993158 (0.002166) with: {'max_depth': 3, 'min_child_weight': 2, 'n_estimators': 500}\n",
            "0.872243 (0.007157) with: {'max_depth': 3, 'min_child_weight': 3, 'n_estimators': 100}\n",
            "0.943730 (0.006241) with: {'max_depth': 3, 'min_child_weight': 3, 'n_estimators': 200}\n",
            "0.980255 (0.004263) with: {'max_depth': 3, 'min_child_weight': 3, 'n_estimators': 300}\n",
            "0.991496 (0.001702) with: {'max_depth': 3, 'min_child_weight': 3, 'n_estimators': 400}\n",
            "0.993549 (0.001705) with: {'max_depth': 3, 'min_child_weight': 3, 'n_estimators': 500}\n",
            "0.994298 (0.001688) with: {'max_depth': 6, 'min_child_weight': 1, 'n_estimators': 100}\n",
            "0.997002 (0.001285) with: {'max_depth': 6, 'min_child_weight': 1, 'n_estimators': 200}\n",
            "0.997817 (0.001081) with: {'max_depth': 6, 'min_child_weight': 1, 'n_estimators': 300}\n",
            "0.998110 (0.000975) with: {'max_depth': 6, 'min_child_weight': 1, 'n_estimators': 400}\n",
            "0.998338 (0.000949) with: {'max_depth': 6, 'min_child_weight': 1, 'n_estimators': 500}\n",
            "0.994298 (0.001083) with: {'max_depth': 6, 'min_child_weight': 2, 'n_estimators': 100}\n",
            "0.996709 (0.001114) with: {'max_depth': 6, 'min_child_weight': 2, 'n_estimators': 200}\n",
            "0.997621 (0.000956) with: {'max_depth': 6, 'min_child_weight': 2, 'n_estimators': 300}\n",
            "0.997947 (0.000812) with: {'max_depth': 6, 'min_child_weight': 2, 'n_estimators': 400}\n",
            "0.998175 (0.000827) with: {'max_depth': 6, 'min_child_weight': 2, 'n_estimators': 500}\n",
            "0.994070 (0.001243) with: {'max_depth': 6, 'min_child_weight': 3, 'n_estimators': 100}\n",
            "0.996351 (0.001079) with: {'max_depth': 6, 'min_child_weight': 3, 'n_estimators': 200}\n",
            "0.997491 (0.000922) with: {'max_depth': 6, 'min_child_weight': 3, 'n_estimators': 300}\n",
            "0.997980 (0.000754) with: {'max_depth': 6, 'min_child_weight': 3, 'n_estimators': 400}\n",
            "0.998012 (0.000591) with: {'max_depth': 6, 'min_child_weight': 3, 'n_estimators': 500}\n",
            "0.997328 (0.000872) with: {'max_depth': 9, 'min_child_weight': 1, 'n_estimators': 100}\n",
            "0.998208 (0.000788) with: {'max_depth': 9, 'min_child_weight': 1, 'n_estimators': 200}\n",
            "0.998241 (0.000671) with: {'max_depth': 9, 'min_child_weight': 1, 'n_estimators': 300}\n",
            "0.998208 (0.000732) with: {'max_depth': 9, 'min_child_weight': 1, 'n_estimators': 400}\n",
            "0.998241 (0.000655) with: {'max_depth': 9, 'min_child_weight': 1, 'n_estimators': 500}\n",
            "0.997002 (0.000896) with: {'max_depth': 9, 'min_child_weight': 2, 'n_estimators': 100}\n",
            "0.997947 (0.000669) with: {'max_depth': 9, 'min_child_weight': 2, 'n_estimators': 200}\n",
            "0.998241 (0.000568) with: {'max_depth': 9, 'min_child_weight': 2, 'n_estimators': 300}\n",
            "0.998208 (0.000639) with: {'max_depth': 9, 'min_child_weight': 2, 'n_estimators': 400}\n",
            "0.998143 (0.000636) with: {'max_depth': 9, 'min_child_weight': 2, 'n_estimators': 500}\n",
            "0.996774 (0.001266) with: {'max_depth': 9, 'min_child_weight': 3, 'n_estimators': 100}\n",
            "0.998012 (0.000749) with: {'max_depth': 9, 'min_child_weight': 3, 'n_estimators': 200}\n",
            "0.998143 (0.000619) with: {'max_depth': 9, 'min_child_weight': 3, 'n_estimators': 300}\n",
            "0.998241 (0.000671) with: {'max_depth': 9, 'min_child_weight': 3, 'n_estimators': 400}\n",
            "0.998273 (0.000636) with: {'max_depth': 9, 'min_child_weight': 3, 'n_estimators': 500}\n",
            "Model training time: 0:14:16.546286\n"
          ]
        }
      ],
      "source": [
        "# Tuning XGBoost n_estimators, max_depth, and min_child_weight parameters\n",
        "start_time_Module = datetime.now()\n",
        "if NOTIFY_STATUS: status_notify(\"Algorithm tuning iteration #1 has begun! \" + datetime.now().strftime('%a %B %d, %Y %I:%M:%S %p'))\n",
        "\n",
        "tune_model1 = XGBClassifier(random_state=RNG_SEED, n_jobs=N_JOBS, objective='binary:logistic', use_label_encoder=False, eval_metric='logloss', tree_method='gpu_hist')\n",
        "tune_model_names.append('XGB_1')\n",
        "paramGrid1 = dict(n_estimators=range(100, 501, 100),\n",
        "                  max_depth=np.array([3, 6, 9]),\n",
        "                  min_child_weight=np.array([1, 2, 3]))\n",
        "\n",
        "kfold = StratifiedKFold(n_splits=N_FOLDS, shuffle=True, random_state=RNG_SEED)\n",
        "grid1 = GridSearchCV(estimator=tune_model1, param_grid=paramGrid1, scoring=SCORING_METRIC, cv=kfold, n_jobs=N_JOBS, verbose=1)\n",
        "grid_result1 = grid1.fit(array_features_train, array_target_train)\n",
        "\n",
        "print(\"Best: %f using %s\" % (grid_result1.best_score_, grid_result1.best_params_))\n",
        "tune_results.append(grid_result1.cv_results_['mean_test_score'])\n",
        "means = grid_result1.cv_results_['mean_test_score']\n",
        "stds = grid_result1.cv_results_['std_test_score']\n",
        "params = grid_result1.cv_results_['params']\n",
        "for mean, stdev, param in zip(means, stds, params):\n",
        "    print(\"%f (%f) with: %r\" % (mean, stdev, param))\n",
        "print ('Model training time:', (datetime.now() - start_time_Module))\n",
        "if NOTIFY_STATUS: status_notify(\"Algorithm tuning iteration #1 completed! \" + datetime.now().strftime('%a %B %d, %Y %I:%M:%S %p'))"
      ]
    },
    {
      "cell_type": "code",
      "execution_count": 40,
      "metadata": {
        "id": "y2rMYQXKViZP",
        "outputId": "3bf0defd-6e1a-49ee-e056-c4ae9ba56dd4",
        "colab": {
          "base_uri": "https://localhost:8080/"
        }
      },
      "outputs": [
        {
          "output_type": "stream",
          "name": "stdout",
          "text": [
            "Best max_depth parameter: 6\n",
            "Best min_child_weight parameter: 1\n",
            "Best n_estimators parameter: 500\n"
          ]
        }
      ],
      "source": [
        "BEST_MAX_DEPTH = grid_result1.best_params_['max_depth']\n",
        "BEST_MIN_CHILD_WEIGHT = grid_result1.best_params_['min_child_weight']\n",
        "BEST_N_ESTIMATORS = grid_result1.best_params_['n_estimators']\n",
        "print('Best max_depth parameter:', BEST_MAX_DEPTH)\n",
        "print('Best min_child_weight parameter:', BEST_MIN_CHILD_WEIGHT)\n",
        "print('Best n_estimators parameter:', BEST_N_ESTIMATORS)"
      ]
    },
    {
      "cell_type": "code",
      "execution_count": 41,
      "metadata": {
        "id": "hu8_2JbWViZP",
        "outputId": "dc4ddd14-cdc3-4363-d11e-ffe3e7da615e",
        "colab": {
          "base_uri": "https://localhost:8080/"
        }
      },
      "outputs": [
        {
          "output_type": "stream",
          "name": "stdout",
          "text": [
            "Fitting 10 folds for each of 16 candidates, totalling 160 fits\n",
            "Best: 0.998762 using {'colsample_bytree': 0.7, 'subsample': 0.7}\n",
            "0.998762 (0.000648) with: {'colsample_bytree': 0.7, 'subsample': 0.7}\n",
            "0.998599 (0.000850) with: {'colsample_bytree': 0.7, 'subsample': 0.8}\n",
            "0.998729 (0.000763) with: {'colsample_bytree': 0.7, 'subsample': 0.9}\n",
            "0.998729 (0.000659) with: {'colsample_bytree': 0.7, 'subsample': 1.0}\n",
            "0.998338 (0.000880) with: {'colsample_bytree': 0.8, 'subsample': 0.7}\n",
            "0.998469 (0.000772) with: {'colsample_bytree': 0.8, 'subsample': 0.8}\n",
            "0.998436 (0.000822) with: {'colsample_bytree': 0.8, 'subsample': 0.9}\n",
            "0.998403 (0.001004) with: {'colsample_bytree': 0.8, 'subsample': 1.0}\n",
            "0.998501 (0.000488) with: {'colsample_bytree': 0.9, 'subsample': 0.7}\n",
            "0.998501 (0.000731) with: {'colsample_bytree': 0.9, 'subsample': 0.8}\n",
            "0.998241 (0.000549) with: {'colsample_bytree': 0.9, 'subsample': 0.9}\n",
            "0.998306 (0.000680) with: {'colsample_bytree': 0.9, 'subsample': 1.0}\n",
            "0.998469 (0.000772) with: {'colsample_bytree': 1.0, 'subsample': 0.7}\n",
            "0.998241 (0.000760) with: {'colsample_bytree': 1.0, 'subsample': 0.8}\n",
            "0.998371 (0.000618) with: {'colsample_bytree': 1.0, 'subsample': 0.9}\n",
            "0.998338 (0.000949) with: {'colsample_bytree': 1.0, 'subsample': 1.0}\n",
            "Model training time: 0:08:29.415571\n"
          ]
        }
      ],
      "source": [
        "# Tuning XGBoost subsample and colsample_bytree parameters\n",
        "start_time_Module = datetime.now()\n",
        "if NOTIFY_STATUS: status_notify(\"Algorithm tuning iteration #2 has begun! \" + datetime.now().strftime('%a %B %d, %Y %I:%M:%S %p'))\n",
        "\n",
        "tune_model2 = XGBClassifier(n_estimators=BEST_N_ESTIMATORS, max_depth=BEST_MAX_DEPTH, min_child_weight=BEST_MIN_CHILD_WEIGHT,\n",
        "                            random_state=RNG_SEED, n_jobs=N_JOBS, objective='binary:logistic', use_label_encoder=False, eval_metric='logloss', tree_method='gpu_hist')\n",
        "tune_model_names.append('XGB_2')\n",
        "paramGrid2 = dict(subsample=np.array([0.7, 0.8, 0.9, 1.0]),\n",
        "                  colsample_bytree=np.array([0.7, 0.8, 0.9, 1.0]))\n",
        "\n",
        "kfold = StratifiedKFold(n_splits=N_FOLDS, shuffle=True, random_state=RNG_SEED)\n",
        "grid2 = GridSearchCV(estimator=tune_model2, param_grid=paramGrid2, scoring=SCORING_METRIC, cv=kfold, n_jobs=N_JOBS, verbose=1)\n",
        "grid_result2 = grid2.fit(array_features_train, array_target_train)\n",
        "\n",
        "print(\"Best: %f using %s\" % (grid_result2.best_score_, grid_result2.best_params_))\n",
        "tune_results.append(grid_result2.cv_results_['mean_test_score'])\n",
        "means = grid_result2.cv_results_['mean_test_score']\n",
        "stds = grid_result2.cv_results_['std_test_score']\n",
        "params = grid_result2.cv_results_['params']\n",
        "for mean, stdev, param in zip(means, stds, params):\n",
        "    print(\"%f (%f) with: %r\" % (mean, stdev, param))\n",
        "print ('Model training time:',(datetime.now() - start_time_Module))\n",
        "if NOTIFY_STATUS: status_notify(\"Algorithm tuning iteration #2 completed! \" + datetime.now().strftime('%a %B %d, %Y %I:%M:%S %p'))"
      ]
    },
    {
      "cell_type": "code",
      "execution_count": 42,
      "metadata": {
        "id": "Q1R-8G3sViZP",
        "outputId": "9082b78d-b0de-4685-cb6d-0ad09a9dfbad",
        "colab": {
          "base_uri": "https://localhost:8080/"
        }
      },
      "outputs": [
        {
          "output_type": "stream",
          "name": "stdout",
          "text": [
            "Best colsample_bytree parameter: 0.7\n",
            "Best subsample parameter: 0.7\n"
          ]
        }
      ],
      "source": [
        "BEST_COLSAMPLE_BYTREE = grid_result2.best_params_['colsample_bytree']\n",
        "BEST_SUBSAMPLE = grid_result2.best_params_['subsample']\n",
        "print('Best colsample_bytree parameter:', BEST_COLSAMPLE_BYTREE)\n",
        "print('Best subsample parameter:', BEST_SUBSAMPLE)"
      ]
    },
    {
      "cell_type": "markdown",
      "metadata": {
        "id": "4-goJ-ScViZP"
      },
      "source": [
        "### 4.c) Compare Algorithms After Tuning"
      ]
    },
    {
      "cell_type": "code",
      "execution_count": 43,
      "metadata": {
        "id": "_hDXaaZsViZP",
        "outputId": "0ad44af4-5376-41e5-99f6-6a65969e764a",
        "colab": {
          "base_uri": "https://localhost:8080/",
          "height": 843
        }
      },
      "outputs": [
        {
          "output_type": "stream",
          "name": "stderr",
          "text": [
            "/usr/local/lib/python3.7/dist-packages/matplotlib/cbook/__init__.py:1376: VisibleDeprecationWarning: Creating an ndarray from ragged nested sequences (which is a list-or-tuple of lists-or-tuples-or ndarrays with different lengths or shapes) is deprecated. If you meant to do this, you must specify 'dtype=object' when creating the ndarray.\n",
            "  X = np.atleast_1d(X.T if isinstance(X, np.ndarray) else np.asarray(X))\n"
          ]
        },
        {
          "output_type": "display_data",
          "data": {
            "text/plain": [
              "<Figure size 1152x864 with 1 Axes>"
            ],
            "image/png": "[encoded data removed]"
          },
          "metadata": {
            "needs_background": "light"
          }
        }
      ],
      "source": [
        "fig = plt.figure(figsize=(16,12))\n",
        "fig.suptitle('Algorithm Comparison - Post Tuning')\n",
        "ax = fig.add_subplot(111)\n",
        "plt.boxplot(tune_results)\n",
        "ax.set_xticklabels(tune_model_names)\n",
        "plt.show()"
      ]
    },
    {
      "cell_type": "code",
      "execution_count": 44,
      "metadata": {
        "jupyter": {
          "outputs_hidden": false
        },
        "pycharm": {
          "name": "#%%\n"
        },
        "id": "amDXgg8-ViZP"
      },
      "outputs": [],
      "source": [
        "if NOTIFY_STATUS: status_notify(\"Task 4 - Train and Tune Models completed! \" + datetime.now().strftime('%a %B %d, %Y %I:%M:%S %p'))"
      ]
    },
    {
      "cell_type": "markdown",
      "metadata": {
        "id": "Lpcuc18gViZP"
      },
      "source": [
        "## Task 5 - Finalize Model and Make Predictions"
      ]
    },
    {
      "cell_type": "code",
      "execution_count": 45,
      "metadata": {
        "id": "NBbeOTskViZQ"
      },
      "outputs": [],
      "source": [
        "if NOTIFY_STATUS: status_notify(\"Task 5 - Finalize Model and Make Predictions has begun! \" + datetime.now().strftime('%a %B %d, %Y %I:%M:%S %p'))"
      ]
    },
    {
      "cell_type": "code",
      "execution_count": 46,
      "metadata": {
        "id": "TUc7fHQ9ViZQ",
        "outputId": "c925f759-4b0c-4561-8f2d-d20524212b7b",
        "colab": {
          "base_uri": "https://localhost:8080/"
        }
      },
      "outputs": [
        {
          "output_type": "stream",
          "name": "stdout",
          "text": [
            "XGBClassifier(colsample_bytree=0.7, eval_metric='logloss', max_depth=6,\n",
            "              n_estimators=500, random_state=888, subsample=0.7,\n",
            "              tree_method='gpu_hist', use_label_encoder=False)\n"
          ]
        }
      ],
      "source": [
        "final_model = XGBClassifier(n_estimators=BEST_N_ESTIMATORS, max_depth=BEST_MAX_DEPTH, min_child_weight=BEST_MIN_CHILD_WEIGHT,\n",
        "                            colsample_bytree=BEST_COLSAMPLE_BYTREE, subsample=BEST_SUBSAMPLE, random_state=RNG_SEED,\n",
        "                            n_jobs=N_JOBS, objective='binary:logistic', use_label_encoder=False, eval_metric='logloss', tree_method='gpu_hist')\n",
        "final_model.fit(array_features_train, array_target_train)\n",
        "print(final_model)"
      ]
    },
    {
      "cell_type": "code",
      "execution_count": 47,
      "metadata": {
        "id": "y4qPlI-ZViZR"
      },
      "outputs": [],
      "source": [
        "if NOTIFY_STATUS: status_notify(\"Task 5 - Finalize Model and Make Predictions completed! \" + datetime.now().strftime('%a %B %d, %Y %I:%M:%S %p'))"
      ]
    },
    {
      "cell_type": "code",
      "execution_count": 48,
      "metadata": {
        "id": "M5_FY-MaViZR",
        "outputId": "d858b77a-67cd-4a60-980d-23aa1d0fe515",
        "colab": {
          "base_uri": "https://localhost:8080/"
        }
      },
      "outputs": [
        {
          "output_type": "stream",
          "name": "stdout",
          "text": [
            "Total time for the script: 0:23:05.459206\n"
          ]
        }
      ],
      "source": [
        "print ('Total time for the script:',(datetime.now() - START_TIME_SCRIPT))"
      ]
    }
  ],
  "metadata": {
    "kernelspec": {
      "display_name": "Python 3 (ipykernel)",
      "language": "python",
      "name": "python3"
    },
    "language_info": {
      "codemirror_mode": {
        "name": "ipython",
        "version": 3
      },
      "file_extension": ".py",
      "mimetype": "text/x-python",
      "name": "python",
      "nbconvert_exporter": "python",
      "pygments_lexer": "ipython3",
      "version": "3.8.10"
    },
    "colab": {
      "provenance": [],
      "collapsed_sections": [
        "i99VwZJrViZM"
      ]
    },
    "accelerator": "GPU"
  },
  "nbformat": 4,
  "nbformat_minor": 0
}
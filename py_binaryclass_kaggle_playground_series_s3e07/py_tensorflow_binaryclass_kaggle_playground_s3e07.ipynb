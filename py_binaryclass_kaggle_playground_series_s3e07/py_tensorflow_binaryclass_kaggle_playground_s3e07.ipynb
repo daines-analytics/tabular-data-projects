{
  "cells": [
    {
      "cell_type": "markdown",
      "metadata": {
        "id": "hKFYw6W4gY4d"
      },
      "source": [
        "# Binary-Class Tabular Model for Kaggle Playground Series Season 3 Episode 4 Using Python and TensorFlow\n",
        "### David Lowe\n",
        "### March 23, 2023\n",
        "\n",
        "SUMMARY: The project aims to construct a predictive model using various machine learning algorithms and document the end-to-end steps using a template. The Kaggle Playground Series Season 3 Episode 7 dataset is a binary-class modeling situation where we attempt to predict one of two possible outcomes.\n",
        "\n",
        "INTRODUCTION: Kaggle wants to provide an approachable environment for relatively new people in their data science journey. Since January 2021, they have hosted playground-style competitions to give the Kaggle community a variety of reasonably lightweight challenges that can be used to learn and sharpen skills in different aspects of machine learning and data science. The dataset for this competition was generated from a deep learning model trained on the Reservation Cancellation Prediction dataset. Feature distributions are close to but different from the original.\n",
        "\n",
        "ANALYSIS: The performance of the preliminary TensorFlow models achieved a ROC/AUC benchmark of 0.9101 after training. When we processed the test dataset with the final model, the model achieved a ROC/AUC score of 0.8798.\n",
        "\n",
        "CONCLUSION: In this iteration, TensorFlow appeared to be a suitable algorithm for modeling this dataset.\n",
        "\n",
        "Dataset Used: Playground Series Season 3, Episode 7\n",
        "\n",
        "Dataset ML Model: Binary-Class classification with numerical features\n",
        "\n",
        "Dataset Reference: https://www.kaggle.com/competitions/playground-series-s3e7\n",
        "\n",
        "One source of potential performance benchmarks: https://www.kaggle.com/competitions/playground-series-s3e7/leaderboard"
      ]
    },
    {
      "cell_type": "markdown",
      "metadata": {
        "id": "7WDbRM3ngY4g"
      },
      "source": [
        "## Task 1 - Prepare Environment"
      ]
    },
    {
      "cell_type": "code",
      "execution_count": 1,
      "metadata": {
        "colab": {
          "base_uri": "https://localhost:8080/"
        },
        "id": "RtGN_DBigY4h",
        "outputId": "a3038c9d-83f9-436c-8169-8afe7e148f90"
      },
      "outputs": [
        {
          "output_type": "stream",
          "name": "stdout",
          "text": [
            "Mon Mar 20 23:15:38 2023       \n",
            "+-----------------------------------------------------------------------------+\n",
            "| NVIDIA-SMI 525.85.12    Driver Version: 525.85.12    CUDA Version: 12.0     |\n",
            "|-------------------------------+----------------------+----------------------+\n",
            "| GPU  Name        Persistence-M| Bus-Id        Disp.A | Volatile Uncorr. ECC |\n",
            "| Fan  Temp  Perf  Pwr:Usage/Cap|         Memory-Usage | GPU-Util  Compute M. |\n",
            "|                               |                      |               MIG M. |\n",
            "|===============================+======================+======================|\n",
            "|   0  NVIDIA A100-SXM...  Off  | 00000000:00:04.0 Off |                    0 |\n",
            "| N/A   43C    P0    54W / 400W |      0MiB / 40960MiB |      0%      Default |\n",
            "|                               |                      |             Disabled |\n",
            "+-------------------------------+----------------------+----------------------+\n",
            "                                                                               \n",
            "+-----------------------------------------------------------------------------+\n",
            "| Processes:                                                                  |\n",
            "|  GPU   GI   CI        PID   Type   Process name                  GPU Memory |\n",
            "|        ID   ID                                                   Usage      |\n",
            "|=============================================================================|\n",
            "|  No running processes found                                                 |\n",
            "+-----------------------------------------------------------------------------+\n"
          ]
        }
      ],
      "source": [
        "# Retrieve the GPU information\n",
        "gpu_info = !nvidia-smi\n",
        "gpu_info = '\\n'.join(gpu_info)\n",
        "print(gpu_info)"
      ]
    },
    {
      "cell_type": "code",
      "execution_count": 2,
      "metadata": {
        "colab": {
          "base_uri": "https://localhost:8080/"
        },
        "id": "-IfKhGIQgY4i",
        "outputId": "9229ff26-6ea0-4215-fcc8-a8a7fd1809e6"
      },
      "outputs": [
        {
          "output_type": "stream",
          "name": "stdout",
          "text": [
            "Your runtime has 89.6 gigabytes of available RAM\n",
            "\n"
          ]
        }
      ],
      "source": [
        "# Retrieve the memory configuration\n",
        "from psutil import virtual_memory\n",
        "ram_gb = virtual_memory().total / 1e9\n",
        "print('Your runtime has {:.1f} gigabytes of available RAM\\n'.format(ram_gb))"
      ]
    },
    {
      "cell_type": "code",
      "execution_count": 3,
      "metadata": {
        "colab": {
          "base_uri": "https://localhost:8080/"
        },
        "id": "sTaqGHqFgY4i",
        "outputId": "3bae1307-e11b-4302-e206-fdee62d7dc9c"
      },
      "outputs": [
        {
          "output_type": "stream",
          "name": "stdout",
          "text": [
            "The number of available CPUs is: 12\n"
          ]
        }
      ],
      "source": [
        "# Retrieve the CPU information\n",
        "ncpu = !nproc\n",
        "print(\"The number of available CPUs is:\", ncpu[0])"
      ]
    },
    {
      "cell_type": "markdown",
      "metadata": {
        "id": "1zXMlvJvgY4i"
      },
      "source": [
        "### 1.a) Load libraries and modules"
      ]
    },
    {
      "cell_type": "code",
      "execution_count": 4,
      "metadata": {
        "id": "09YBLSzegY4j"
      },
      "outputs": [],
      "source": [
        "# Set the random seed number for reproducible results\n",
        "RNG_SEED = 888"
      ]
    },
    {
      "cell_type": "code",
      "execution_count": 5,
      "metadata": {
        "id": "8m3TY4ejgY4j"
      },
      "outputs": [],
      "source": [
        "import random\n",
        "random.seed(RNG_SEED)\n",
        "import numpy as np\n",
        "np.random.seed(RNG_SEED)\n",
        "import pandas as pd\n",
        "import seaborn as sns\n",
        "import matplotlib.pyplot as plt\n",
        "import os\n",
        "import sys\n",
        "import math\n",
        "# import boto3\n",
        "import zipfile\n",
        "import urllib\n",
        "from datetime import datetime\n",
        "from sklearn import preprocessing\n",
        "from sklearn.model_selection import train_test_split\n",
        "from sklearn.model_selection import RepeatedKFold\n",
        "from sklearn.model_selection import cross_val_score\n",
        "from sklearn.metrics import classification_report\n",
        "from sklearn.metrics import confusion_matrix\n",
        "from sklearn.metrics import accuracy_score\n",
        "from sklearn.pipeline import Pipeline\n",
        "from sklearn import compose\n",
        "from sklearn import impute\n",
        "\n",
        "# from sklearn.feature_selection import RFE\n",
        "# from imblearn.pipeline import Pipeline\n",
        "# from imblearn.over_sampling import SMOTE\n",
        "# from imblearn.under_sampling import RandomUnderSampler\n",
        "\n",
        "import tensorflow as tf\n",
        "tf.random.set_seed(RNG_SEED)\n",
        "from tensorflow import keras\n",
        "from tensorflow.keras.callbacks import ReduceLROnPlateau"
      ]
    },
    {
      "cell_type": "markdown",
      "metadata": {
        "id": "wMacKxMQgY4k"
      },
      "source": [
        "### 1.b) Set up the controlling parameters and functions"
      ]
    },
    {
      "cell_type": "code",
      "execution_count": 6,
      "metadata": {
        "id": "ntUrjbA1gY4k"
      },
      "outputs": [],
      "source": [
        "# Begin the timer for the script processing\n",
        "START_TIME_SCRIPT = datetime.now()"
      ]
    },
    {
      "cell_type": "code",
      "execution_count": 7,
      "metadata": {
        "colab": {
          "base_uri": "https://localhost:8080/"
        },
        "id": "kP6lFEdKgY4k",
        "outputId": "1d2e4321-66d0-491f-c110-5fb0040bd76e"
      },
      "outputs": [
        {
          "output_type": "stream",
          "name": "stdout",
          "text": [
            "Num GPUs Available: 1\n",
            "TensorFlow version: 2.11.0\n"
          ]
        }
      ],
      "source": [
        "# Set up the number of CPU cores available for multi-thread processing\n",
        "N_JOBS = 2\n",
        "\n",
        "# Set the percentage sizes for splitting the dataset\n",
        "TEST_SET_RATIO = 0.1\n",
        "VAL_SET_RATIO = 0.1\n",
        "\n",
        "# Set the name for the class/label column\n",
        "ORIGINAL_LABEL = 'booking_status'\n",
        "CLASS_COLUMN = 'target'\n",
        "\n",
        "# Set the number of folds for cross validation\n",
        "N_FOLDS = 5\n",
        "N_ITERATIONS = 1\n",
        "\n",
        "# Set various default modeling parameters\n",
        "DEFAULT_LOSS = 'binary_crossentropy'\n",
        "DEFAULT_METRICS = [tf.keras.metrics.AUC()]\n",
        "DEFAULT_OPTIMIZER = tf.keras.optimizers.Adam(learning_rate=0.00005)\n",
        "CLASSIFIER_ACTIVATION = 'sigmoid'\n",
        "MAX_EPOCHS = 15\n",
        "BATCH_SIZE = 32\n",
        "NUM_CLASSES = 1\n",
        "\n",
        "# Define the labels to use for graphing the data\n",
        "TRAIN_METRIC = \"auc\"\n",
        "VALIDATION_METRIC = \"val_auc\"\n",
        "TRAIN_LOSS = \"loss\"\n",
        "VALIDATION_LOSS = \"val_loss\"\n",
        "\n",
        "# Define the directory locations and file names\n",
        "ORIGINAL_DATASET = 'https://dainesanalytics.com/datasets/kaggle-playground-series-s3e07/RCP_train_dataset.csv'\n",
        "TRAIN_DATASET = 'https://dainesanalytics.com/datasets/kaggle-playground-series-s3e07/train.csv'\n",
        "TEST_DATASET = 'https://dainesanalytics.com/datasets/kaggle-playground-series-s3e07/test.csv'\n",
        "SUBMISSION_TEMPLATE = 'https://dainesanalytics.com/datasets/kaggle-playground-series-s3e07/sample_submission.csv'\n",
        "SUBMISSION_FILE = 'submission_tensorflow_'\n",
        "\n",
        "# Check the number of GPUs accessible through TensorFlow\n",
        "print('Num GPUs Available:', len(tf.config.list_physical_devices('GPU')))\n",
        "\n",
        "# Print out the TensorFlow version for confirmation\n",
        "print('TensorFlow version:', tf.__version__)"
      ]
    },
    {
      "cell_type": "markdown",
      "metadata": {
        "id": "PIVj6K8vgY4m"
      },
      "source": [
        "### 1.c) Load dataset"
      ]
    },
    {
      "cell_type": "code",
      "execution_count": 8,
      "metadata": {
        "colab": {
          "base_uri": "https://localhost:8080/"
        },
        "id": "wPHVBtrigY4m",
        "outputId": "d5a44c7a-7517-42d8-e70f-c056bacd5fce"
      },
      "outputs": [
        {
          "output_type": "stream",
          "name": "stdout",
          "text": [
            "   id  no_of_adults  no_of_children  no_of_weekend_nights  no_of_week_nights  \\\n",
            "0   0             2               0                     0                  2   \n",
            "1   1             2               0                     1                  2   \n",
            "2   2             2               0                     0                  1   \n",
            "3   3             1               0                     0                  2   \n",
            "4   4             2               0                     1                  0   \n",
            "\n",
            "   type_of_meal_plan  required_car_parking_space  room_type_reserved  \\\n",
            "0                  1                           0                   0   \n",
            "1                  0                           0                   0   \n",
            "2                  0                           0                   0   \n",
            "3                  1                           0                   0   \n",
            "4                  0                           0                   0   \n",
            "\n",
            "   lead_time  arrival_year  arrival_month  arrival_date  market_segment_type  \\\n",
            "0          9          2018              1            14                    1   \n",
            "1        117          2018              7            29                    0   \n",
            "2        315          2018             12             2                    0   \n",
            "3         32          2018             12             1                    1   \n",
            "4        258          2018             10            16                    0   \n",
            "\n",
            "   repeated_guest  no_of_previous_cancellations  \\\n",
            "0               1                            11   \n",
            "1               0                             0   \n",
            "2               0                             0   \n",
            "3               0                             0   \n",
            "4               0                             0   \n",
            "\n",
            "   no_of_previous_bookings_not_canceled  avg_price_per_room  \\\n",
            "0                                     0               67.50   \n",
            "1                                     0               72.25   \n",
            "2                                     0               52.00   \n",
            "3                                     0               56.00   \n",
            "4                                     0              100.00   \n",
            "\n",
            "   no_of_special_requests  booking_status  \n",
            "0                       0               0  \n",
            "1                       0               0  \n",
            "2                       0               0  \n",
            "3                       0               0  \n",
            "4                       0               1  \n"
          ]
        }
      ],
      "source": [
        "df_dataset_import = pd.read_csv(TRAIN_DATASET)\n",
        "\n",
        "# Take a peek at the dataframe after import\n",
        "print(df_dataset_import.head())"
      ]
    },
    {
      "cell_type": "code",
      "execution_count": 9,
      "metadata": {
        "colab": {
          "base_uri": "https://localhost:8080/"
        },
        "id": "RU6ZZVXkgY4m",
        "outputId": "be221923-52ee-49e1-e6ac-356e6dd6f97d"
      },
      "outputs": [
        {
          "output_type": "stream",
          "name": "stdout",
          "text": [
            "<class 'pandas.core.frame.DataFrame'>\n",
            "RangeIndex: 42100 entries, 0 to 42099\n",
            "Data columns (total 19 columns):\n",
            " #   Column                                Non-Null Count  Dtype  \n",
            "---  ------                                --------------  -----  \n",
            " 0   id                                    42100 non-null  int64  \n",
            " 1   no_of_adults                          42100 non-null  int64  \n",
            " 2   no_of_children                        42100 non-null  int64  \n",
            " 3   no_of_weekend_nights                  42100 non-null  int64  \n",
            " 4   no_of_week_nights                     42100 non-null  int64  \n",
            " 5   type_of_meal_plan                     42100 non-null  int64  \n",
            " 6   required_car_parking_space            42100 non-null  int64  \n",
            " 7   room_type_reserved                    42100 non-null  int64  \n",
            " 8   lead_time                             42100 non-null  int64  \n",
            " 9   arrival_year                          42100 non-null  int64  \n",
            " 10  arrival_month                         42100 non-null  int64  \n",
            " 11  arrival_date                          42100 non-null  int64  \n",
            " 12  market_segment_type                   42100 non-null  int64  \n",
            " 13  repeated_guest                        42100 non-null  int64  \n",
            " 14  no_of_previous_cancellations          42100 non-null  int64  \n",
            " 15  no_of_previous_bookings_not_canceled  42100 non-null  int64  \n",
            " 16  avg_price_per_room                    42100 non-null  float64\n",
            " 17  no_of_special_requests                42100 non-null  int64  \n",
            " 18  booking_status                        42100 non-null  int64  \n",
            "dtypes: float64(1), int64(18)\n",
            "memory usage: 6.1 MB\n"
          ]
        }
      ],
      "source": [
        "df_dataset_import.info(verbose=True)"
      ]
    },
    {
      "cell_type": "code",
      "execution_count": 10,
      "metadata": {
        "colab": {
          "base_uri": "https://localhost:8080/"
        },
        "id": "vVby0_N1gY4n",
        "outputId": "a266b291-51a1-4411-d8e9-28b6ab4d29b2"
      },
      "outputs": [
        {
          "output_type": "stream",
          "name": "stdout",
          "text": [
            "                 id  no_of_adults  no_of_children  no_of_weekend_nights  \\\n",
            "count  42100.000000  42100.000000    42100.000000          42100.000000   \n",
            "mean   21049.500000      1.920713        0.141093              0.884632   \n",
            "std    12153.367503      0.524950        0.450128              0.885693   \n",
            "min        0.000000      0.000000        0.000000              0.000000   \n",
            "25%    10524.750000      2.000000        0.000000              0.000000   \n",
            "50%    21049.500000      2.000000        0.000000              1.000000   \n",
            "75%    31574.250000      2.000000        0.000000              2.000000   \n",
            "max    42099.000000      4.000000        9.000000              7.000000   \n",
            "\n",
            "       no_of_week_nights  type_of_meal_plan  required_car_parking_space  \\\n",
            "count       42100.000000       42100.000000                42100.000000   \n",
            "mean            2.398005           0.239192                    0.025249   \n",
            "std             1.427330           0.587674                    0.156884   \n",
            "min             0.000000           0.000000                    0.000000   \n",
            "25%             1.000000           0.000000                    0.000000   \n",
            "50%             2.000000           0.000000                    0.000000   \n",
            "75%             3.000000           0.000000                    0.000000   \n",
            "max            17.000000           3.000000                    1.000000   \n",
            "\n",
            "       room_type_reserved     lead_time  arrival_year  arrival_month  \\\n",
            "count        42100.000000  42100.000000  42100.000000   42100.000000   \n",
            "mean             0.428931    103.888029   2017.856295       7.593539   \n",
            "std              0.832605     81.069343      0.350795       2.829395   \n",
            "min              0.000000      0.000000   2017.000000       1.000000   \n",
            "25%              0.000000     37.000000   2018.000000       6.000000   \n",
            "50%              0.000000     93.000000   2018.000000       8.000000   \n",
            "75%              1.000000    155.000000   2018.000000      10.000000   \n",
            "max              6.000000    443.000000   2018.000000      12.000000   \n",
            "\n",
            "       arrival_date  market_segment_type  repeated_guest  \\\n",
            "count  42100.000000         42100.000000    42100.000000   \n",
            "mean      15.902945             0.728504        0.029192   \n",
            "std        8.888582             0.633529        0.168347   \n",
            "min        1.000000             0.000000        0.000000   \n",
            "25%        8.000000             0.000000        0.000000   \n",
            "50%       16.000000             1.000000        0.000000   \n",
            "75%       24.000000             1.000000        0.000000   \n",
            "max       31.000000             4.000000        1.000000   \n",
            "\n",
            "       no_of_previous_cancellations  no_of_previous_bookings_not_canceled  \\\n",
            "count                  42100.000000                          42100.000000   \n",
            "mean                       0.019715                              0.175772   \n",
            "std                        0.325837                              1.732121   \n",
            "min                        0.000000                              0.000000   \n",
            "25%                        0.000000                              0.000000   \n",
            "50%                        0.000000                              0.000000   \n",
            "75%                        0.000000                              0.000000   \n",
            "max                       13.000000                             58.000000   \n",
            "\n",
            "       avg_price_per_room  no_of_special_requests  booking_status  \n",
            "count        42100.000000            42100.000000    42100.000000  \n",
            "mean           104.566377                0.571734        0.392019  \n",
            "std             37.139165                0.775041        0.488207  \n",
            "min              0.000000                0.000000        0.000000  \n",
            "25%             80.000000                0.000000        0.000000  \n",
            "50%             99.450000                0.000000        0.000000  \n",
            "75%            123.300000                1.000000        1.000000  \n",
            "max            540.000000                5.000000        1.000000  \n"
          ]
        }
      ],
      "source": [
        "print(df_dataset_import.describe())"
      ]
    },
    {
      "cell_type": "code",
      "execution_count": 11,
      "metadata": {
        "colab": {
          "base_uri": "https://localhost:8080/"
        },
        "id": "TB-d2RodgY4n",
        "outputId": "898e8132-d048-4910-9f4c-5336ce56963a"
      },
      "outputs": [
        {
          "output_type": "stream",
          "name": "stdout",
          "text": [
            "id                                      0\n",
            "no_of_adults                            0\n",
            "no_of_children                          0\n",
            "no_of_weekend_nights                    0\n",
            "no_of_week_nights                       0\n",
            "type_of_meal_plan                       0\n",
            "required_car_parking_space              0\n",
            "room_type_reserved                      0\n",
            "lead_time                               0\n",
            "arrival_year                            0\n",
            "arrival_month                           0\n",
            "arrival_date                            0\n",
            "market_segment_type                     0\n",
            "repeated_guest                          0\n",
            "no_of_previous_cancellations            0\n",
            "no_of_previous_bookings_not_canceled    0\n",
            "avg_price_per_room                      0\n",
            "no_of_special_requests                  0\n",
            "booking_status                          0\n",
            "dtype: int64\n",
            "Total number of NaN in the dataframe:  0\n"
          ]
        }
      ],
      "source": [
        "print(df_dataset_import.isnull().sum())\n",
        "print('Total number of NaN in the dataframe: ', df_dataset_import.isnull().sum().sum())"
      ]
    },
    {
      "cell_type": "code",
      "execution_count": 12,
      "metadata": {
        "colab": {
          "base_uri": "https://localhost:8080/"
        },
        "id": "63nj6FrtgY4n",
        "outputId": "57145f98-f4b4-40ed-ecfa-125a36c75e99"
      },
      "outputs": [
        {
          "output_type": "stream",
          "name": "stdout",
          "text": [
            "booking_status\n",
            "0    25596\n",
            "1    16504\n",
            "dtype: int64\n"
          ]
        }
      ],
      "source": [
        "# Get grouping size for the target variable\n",
        "print(df_dataset_import.groupby(ORIGINAL_LABEL).size())"
      ]
    },
    {
      "cell_type": "markdown",
      "metadata": {
        "id": "xrFRVRBygY4n"
      },
      "source": [
        "### 1.d) Data Cleaning"
      ]
    },
    {
      "cell_type": "code",
      "source": [
        "# Fetch the original dataset and use it to supplement the training\n",
        "df_dataset_original = pd.read_csv(ORIGINAL_DATASET)\n",
        "df_dataset_original.drop(columns=['arrival_year','arrival_month',\n",
        "                                  'arrival_date'], inplace=True)\n",
        "df_dataset_original['is_synthetic'] = 0\n",
        "\n",
        "df_dataset_original.info(verbose=True)"
      ],
      "metadata": {
        "id": "6rVTMqovyDyQ",
        "colab": {
          "base_uri": "https://localhost:8080/"
        },
        "outputId": "6e74e463-1ad8-4e94-9016-3d00c8d2eb31"
      },
      "execution_count": 13,
      "outputs": [
        {
          "output_type": "stream",
          "name": "stdout",
          "text": [
            "<class 'pandas.core.frame.DataFrame'>\n",
            "RangeIndex: 18137 entries, 0 to 18136\n",
            "Data columns (total 16 columns):\n",
            " #   Column                                Non-Null Count  Dtype  \n",
            "---  ------                                --------------  -----  \n",
            " 0   no_of_adults                          18137 non-null  int64  \n",
            " 1   no_of_children                        18137 non-null  int64  \n",
            " 2   no_of_weekend_nights                  18137 non-null  int64  \n",
            " 3   no_of_week_nights                     18137 non-null  int64  \n",
            " 4   type_of_meal_plan                     18137 non-null  int64  \n",
            " 5   required_car_parking_space            18137 non-null  int64  \n",
            " 6   room_type_reserved                    18137 non-null  int64  \n",
            " 7   lead_time                             18137 non-null  int64  \n",
            " 8   market_segment_type                   18137 non-null  int64  \n",
            " 9   repeated_guest                        18137 non-null  int64  \n",
            " 10  no_of_previous_cancellations          18137 non-null  int64  \n",
            " 11  no_of_previous_bookings_not_canceled  18137 non-null  int64  \n",
            " 12  avg_price_per_room                    18137 non-null  float64\n",
            " 13  no_of_special_requests                18137 non-null  int64  \n",
            " 14  booking_status                        18137 non-null  int64  \n",
            " 15  is_synthetic                          18137 non-null  int64  \n",
            "dtypes: float64(1), int64(15)\n",
            "memory usage: 2.2 MB\n"
          ]
        }
      ]
    },
    {
      "cell_type": "code",
      "source": [
        "# Combine the original and synthetic datasets into one training dataset\n",
        "df_dataset_import['is_synthetic'] = 1\n",
        "df_dataset_import.drop(columns=['id','arrival_year','arrival_month',\n",
        "                                'arrival_date'], inplace=True)\n",
        "df_dataset_import = pd.concat([df_dataset_import, df_dataset_original],\n",
        "                              ignore_index=True)\n",
        "\n",
        "df_dataset_import.info(verbose=True)"
      ],
      "metadata": {
        "colab": {
          "base_uri": "https://localhost:8080/"
        },
        "id": "Mjz8f-l2rSf-",
        "outputId": "628e42d2-5e5c-4f44-b4ec-24457496e12c"
      },
      "execution_count": 14,
      "outputs": [
        {
          "output_type": "stream",
          "name": "stdout",
          "text": [
            "<class 'pandas.core.frame.DataFrame'>\n",
            "RangeIndex: 60237 entries, 0 to 60236\n",
            "Data columns (total 16 columns):\n",
            " #   Column                                Non-Null Count  Dtype  \n",
            "---  ------                                --------------  -----  \n",
            " 0   no_of_adults                          60237 non-null  int64  \n",
            " 1   no_of_children                        60237 non-null  int64  \n",
            " 2   no_of_weekend_nights                  60237 non-null  int64  \n",
            " 3   no_of_week_nights                     60237 non-null  int64  \n",
            " 4   type_of_meal_plan                     60237 non-null  int64  \n",
            " 5   required_car_parking_space            60237 non-null  int64  \n",
            " 6   room_type_reserved                    60237 non-null  int64  \n",
            " 7   lead_time                             60237 non-null  int64  \n",
            " 8   market_segment_type                   60237 non-null  int64  \n",
            " 9   repeated_guest                        60237 non-null  int64  \n",
            " 10  no_of_previous_cancellations          60237 non-null  int64  \n",
            " 11  no_of_previous_bookings_not_canceled  60237 non-null  int64  \n",
            " 12  avg_price_per_room                    60237 non-null  float64\n",
            " 13  no_of_special_requests                60237 non-null  int64  \n",
            " 14  booking_status                        60237 non-null  int64  \n",
            " 15  is_synthetic                          60237 non-null  int64  \n",
            "dtypes: float64(1), int64(15)\n",
            "memory usage: 7.4 MB\n"
          ]
        }
      ]
    },
    {
      "cell_type": "code",
      "source": [
        "# Standardize the class column to the name of targetVar if required\n",
        "df_dataset_import = df_dataset_import.rename(columns={ORIGINAL_LABEL: CLASS_COLUMN})\n",
        "\n",
        "# Take a peek at the dataframe after cleaning\n",
        "print(df_dataset_import.head())\n",
        "print(df_dataset_import.tail())"
      ],
      "metadata": {
        "colab": {
          "base_uri": "https://localhost:8080/"
        },
        "id": "5sEalPc3rSZT",
        "outputId": "80dbe575-1d3e-40fb-9747-5890df7fc9cb"
      },
      "execution_count": 15,
      "outputs": [
        {
          "output_type": "stream",
          "name": "stdout",
          "text": [
            "   no_of_adults  no_of_children  no_of_weekend_nights  no_of_week_nights  \\\n",
            "0             2               0                     0                  2   \n",
            "1             2               0                     1                  2   \n",
            "2             2               0                     0                  1   \n",
            "3             1               0                     0                  2   \n",
            "4             2               0                     1                  0   \n",
            "\n",
            "   type_of_meal_plan  required_car_parking_space  room_type_reserved  \\\n",
            "0                  1                           0                   0   \n",
            "1                  0                           0                   0   \n",
            "2                  0                           0                   0   \n",
            "3                  1                           0                   0   \n",
            "4                  0                           0                   0   \n",
            "\n",
            "   lead_time  market_segment_type  repeated_guest  \\\n",
            "0          9                    1               1   \n",
            "1        117                    0               0   \n",
            "2        315                    0               0   \n",
            "3         32                    1               0   \n",
            "4        258                    0               0   \n",
            "\n",
            "   no_of_previous_cancellations  no_of_previous_bookings_not_canceled  \\\n",
            "0                            11                                     0   \n",
            "1                             0                                     0   \n",
            "2                             0                                     0   \n",
            "3                             0                                     0   \n",
            "4                             0                                     0   \n",
            "\n",
            "   avg_price_per_room  no_of_special_requests  target  is_synthetic  \n",
            "0               67.50                       0       0             1  \n",
            "1               72.25                       0       0             1  \n",
            "2               52.00                       0       0             1  \n",
            "3               56.00                       0       0             1  \n",
            "4              100.00                       0       1             1  \n",
            "       no_of_adults  no_of_children  no_of_weekend_nights  no_of_week_nights  \\\n",
            "60232             1               0                     0                  2   \n",
            "60233             2               0                     0                  3   \n",
            "60234             2               0                     0                  1   \n",
            "60235             2               0                     0                  3   \n",
            "60236             1               0                     1                  1   \n",
            "\n",
            "       type_of_meal_plan  required_car_parking_space  room_type_reserved  \\\n",
            "60232                  0                           0                   0   \n",
            "60233                  0                           0                   0   \n",
            "60234                  0                           0                   0   \n",
            "60235                  0                           0                   0   \n",
            "60236                  0                           0                   0   \n",
            "\n",
            "       lead_time  market_segment_type  repeated_guest  \\\n",
            "60232        103                    0               0   \n",
            "60233        129                    1               0   \n",
            "60234         90                    1               0   \n",
            "60235         18                    1               1   \n",
            "60236        159                    0               0   \n",
            "\n",
            "       no_of_previous_cancellations  no_of_previous_bookings_not_canceled  \\\n",
            "60232                             0                                     0   \n",
            "60233                             0                                     0   \n",
            "60234                             0                                     0   \n",
            "60235                             0                                     1   \n",
            "60236                             0                                     0   \n",
            "\n",
            "       avg_price_per_room  no_of_special_requests  target  is_synthetic  \n",
            "60232              115.00                       0       1             0  \n",
            "60233               88.01                       1       0             0  \n",
            "60234              105.30                       0       1             0  \n",
            "60235              123.33                       1       0             0  \n",
            "60236               65.00                       0       0             0  \n"
          ]
        }
      ]
    },
    {
      "cell_type": "code",
      "execution_count": 16,
      "metadata": {
        "colab": {
          "base_uri": "https://localhost:8080/"
        },
        "id": "yVWY15q4gY4n",
        "outputId": "a0f054e5-6720-45e5-f758-97cc60260358"
      },
      "outputs": [
        {
          "output_type": "stream",
          "name": "stdout",
          "text": [
            "<class 'pandas.core.frame.DataFrame'>\n",
            "RangeIndex: 60237 entries, 0 to 60236\n",
            "Data columns (total 16 columns):\n",
            " #   Column                                Non-Null Count  Dtype  \n",
            "---  ------                                --------------  -----  \n",
            " 0   no_of_adults                          60237 non-null  int64  \n",
            " 1   no_of_children                        60237 non-null  int64  \n",
            " 2   no_of_weekend_nights                  60237 non-null  int64  \n",
            " 3   no_of_week_nights                     60237 non-null  int64  \n",
            " 4   type_of_meal_plan                     60237 non-null  int64  \n",
            " 5   required_car_parking_space            60237 non-null  int64  \n",
            " 6   room_type_reserved                    60237 non-null  int64  \n",
            " 7   lead_time                             60237 non-null  int64  \n",
            " 8   market_segment_type                   60237 non-null  int64  \n",
            " 9   repeated_guest                        60237 non-null  int64  \n",
            " 10  no_of_previous_cancellations          60237 non-null  int64  \n",
            " 11  no_of_previous_bookings_not_canceled  60237 non-null  int64  \n",
            " 12  avg_price_per_room                    60237 non-null  float64\n",
            " 13  no_of_special_requests                60237 non-null  int64  \n",
            " 14  target                                60237 non-null  int64  \n",
            " 15  is_synthetic                          60237 non-null  int64  \n",
            "dtypes: float64(1), int64(15)\n",
            "memory usage: 7.4 MB\n"
          ]
        }
      ],
      "source": [
        "df_dataset_import.info(verbose=True)"
      ]
    },
    {
      "cell_type": "code",
      "execution_count": 17,
      "metadata": {
        "colab": {
          "base_uri": "https://localhost:8080/"
        },
        "id": "k6r5ZI7QgY4n",
        "outputId": "1501f4cd-fd55-4d5e-cd02-5fb8a5548f63"
      },
      "outputs": [
        {
          "output_type": "stream",
          "name": "stdout",
          "text": [
            "       no_of_adults  no_of_children  no_of_weekend_nights  no_of_week_nights  \\\n",
            "count  60237.000000    60237.000000          60237.000000       60237.000000   \n",
            "mean       1.898451        0.130983              0.862493           2.341086   \n",
            "std        0.523373        0.438391              0.882668           1.429660   \n",
            "min        0.000000        0.000000              0.000000           0.000000   \n",
            "25%        2.000000        0.000000              0.000000           1.000000   \n",
            "50%        2.000000        0.000000              1.000000           2.000000   \n",
            "75%        2.000000        0.000000              2.000000           3.000000   \n",
            "max        4.000000        9.000000              7.000000          17.000000   \n",
            "\n",
            "       type_of_meal_plan  required_car_parking_space  room_type_reserved  \\\n",
            "count       60237.000000                60237.000000        60237.000000   \n",
            "mean            0.263061                    0.027176            0.401182   \n",
            "std             0.601555                    0.162597            0.816168   \n",
            "min             0.000000                    0.000000            0.000000   \n",
            "25%             0.000000                    0.000000            0.000000   \n",
            "50%             0.000000                    0.000000            0.000000   \n",
            "75%             0.000000                    0.000000            1.000000   \n",
            "max             3.000000                    1.000000            6.000000   \n",
            "\n",
            "          lead_time  market_segment_type  repeated_guest  \\\n",
            "count  60237.000000         60237.000000    60237.000000   \n",
            "mean      98.314591             0.751897        0.027956   \n",
            "std       83.210861             0.638291        0.164849   \n",
            "min        0.000000             0.000000        0.000000   \n",
            "25%       30.000000             0.000000        0.000000   \n",
            "50%       81.000000             1.000000        0.000000   \n",
            "75%      150.000000             1.000000        0.000000   \n",
            "max      443.000000             4.000000        1.000000   \n",
            "\n",
            "       no_of_previous_cancellations  no_of_previous_bookings_not_canceled  \\\n",
            "count                  60237.000000                          60237.000000   \n",
            "mean                       0.020536                              0.168435   \n",
            "std                        0.339763                              1.726747   \n",
            "min                        0.000000                              0.000000   \n",
            "25%                        0.000000                              0.000000   \n",
            "50%                        0.000000                              0.000000   \n",
            "75%                        0.000000                              0.000000   \n",
            "max                       13.000000                             58.000000   \n",
            "\n",
            "       avg_price_per_room  no_of_special_requests        target  is_synthetic  \n",
            "count        60237.000000            60237.000000  60237.000000  60237.000000  \n",
            "mean           104.238935                0.585521      0.372628      0.698906  \n",
            "std             36.648888                0.779224      0.483508      0.458737  \n",
            "min              0.000000                0.000000      0.000000      0.000000  \n",
            "25%             80.000000                0.000000      0.000000      0.000000  \n",
            "50%             99.450000                0.000000      0.000000      1.000000  \n",
            "75%            122.400000                1.000000      1.000000      1.000000  \n",
            "max            540.000000                5.000000      1.000000      1.000000  \n"
          ]
        }
      ],
      "source": [
        "print(df_dataset_import.describe())"
      ]
    },
    {
      "cell_type": "code",
      "execution_count": 18,
      "metadata": {
        "colab": {
          "base_uri": "https://localhost:8080/"
        },
        "id": "ELh6lb58gY4o",
        "outputId": "aed6a2ad-25d9-4a97-e061-dfdc527b89b3"
      },
      "outputs": [
        {
          "output_type": "stream",
          "name": "stdout",
          "text": [
            "no_of_adults                            0\n",
            "no_of_children                          0\n",
            "no_of_weekend_nights                    0\n",
            "no_of_week_nights                       0\n",
            "type_of_meal_plan                       0\n",
            "required_car_parking_space              0\n",
            "room_type_reserved                      0\n",
            "lead_time                               0\n",
            "market_segment_type                     0\n",
            "repeated_guest                          0\n",
            "no_of_previous_cancellations            0\n",
            "no_of_previous_bookings_not_canceled    0\n",
            "avg_price_per_room                      0\n",
            "no_of_special_requests                  0\n",
            "target                                  0\n",
            "is_synthetic                            0\n",
            "dtype: int64\n",
            "Total number of NaN in the dataframe:  0\n"
          ]
        }
      ],
      "source": [
        "print(df_dataset_import.isnull().sum())\n",
        "print('Total number of NaN in the dataframe: ', df_dataset_import.isnull().sum().sum())"
      ]
    },
    {
      "cell_type": "code",
      "execution_count": 19,
      "metadata": {
        "colab": {
          "base_uri": "https://localhost:8080/"
        },
        "id": "uRh6ttTmgY4o",
        "outputId": "b83ad18e-3fde-4a82-d8fd-263d9605701f"
      },
      "outputs": [
        {
          "output_type": "stream",
          "name": "stdout",
          "text": [
            "target\n",
            "0    37791\n",
            "1    22446\n",
            "dtype: int64\n"
          ]
        }
      ],
      "source": [
        "# Get grouping size for the target variable\n",
        "print(df_dataset_import.groupby(CLASS_COLUMN).size())"
      ]
    },
    {
      "cell_type": "markdown",
      "metadata": {
        "id": "qtX0hGYQgY4o"
      },
      "source": [
        "### 1.e) Splitting Data into Sets"
      ]
    },
    {
      "cell_type": "code",
      "execution_count": 20,
      "metadata": {
        "colab": {
          "base_uri": "https://localhost:8080/"
        },
        "id": "f5sZ55iggY4o",
        "outputId": "ac5aad7c-2d49-4560-d85d-6fdc022b8e26"
      },
      "outputs": [
        {
          "output_type": "stream",
          "name": "stdout",
          "text": [
            "df_dataset_import.shape: (60237, 16) df_features_train.shape: (60237, 15) df_target_train.shape: (60237,)\n"
          ]
        }
      ],
      "source": [
        "# Use variable total_column_count to hold the number of columns in the dataframe\n",
        "total_column_count = len(df_dataset_import.columns)\n",
        "\n",
        "# Set up variable total_feature_count for the total number of attribute columns\n",
        "total_feature_count = total_column_count-1\n",
        "\n",
        "# We create attribute-only and target-only datasets (df_features_train and df_target_train)\n",
        "df_target_train = df_dataset_import['target']\n",
        "df_features_train = df_dataset_import.drop(['target'], axis=1)\n",
        "\n",
        "print(\"df_dataset_import.shape: {} df_features_train.shape: {} df_target_train.shape: {}\".format(df_dataset_import.shape, df_features_train.shape, df_target_train.shape))"
      ]
    },
    {
      "cell_type": "markdown",
      "metadata": {
        "id": "sC8HhMFigY4o"
      },
      "source": [
        "### 1.f) Set up the parameters for data visualization"
      ]
    },
    {
      "cell_type": "code",
      "execution_count": 21,
      "metadata": {
        "id": "tpHSlWMAgY4o"
      },
      "outputs": [],
      "source": [
        "# Set up the number of row and columns for visualization display. display_rows * display_columns should be >= total_feature_count\n",
        "display_columns = 4\n",
        "if total_feature_count % display_columns == 0 :\n",
        "    display_rows = total_feature_count // display_columns\n",
        "else :\n",
        "    display_rows = (total_feature_count // display_columns) + 1\n",
        "\n",
        "# Set figure width to display the data visualization plots\n",
        "fig_size = plt.rcParams[\"figure.figsize\"]\n",
        "fig_size[0] = display_columns * 4\n",
        "fig_size[1] = display_rows * 4\n",
        "plt.rcParams[\"figure.figsize\"] = fig_size"
      ]
    },
    {
      "cell_type": "markdown",
      "metadata": {
        "id": "ZY_jdG1KgY4o"
      },
      "source": [
        "## Task 2 - Summarize and Visualize Data"
      ]
    },
    {
      "cell_type": "code",
      "execution_count": 22,
      "metadata": {
        "colab": {
          "base_uri": "https://localhost:8080/",
          "height": 919
        },
        "id": "95yn8aQcgY4p",
        "outputId": "c066e429-48bf-49d2-9733-73b5dfd4a6d4"
      },
      "outputs": [
        {
          "output_type": "display_data",
          "data": {
            "text/plain": [
              "<Figure size 1152x1152 with 16 Axes>"
            ],
            "image/png": "[encoded data removed]"
          },
          "metadata": {
            "needs_background": "light"
          }
        }
      ],
      "source": [
        "# Box and Whisker plot for each attribute\n",
        "df_features_train.plot(kind='box', subplots=True, layout=(display_rows, display_columns))\n",
        "plt.show()"
      ]
    },
    {
      "cell_type": "code",
      "execution_count": 23,
      "metadata": {
        "id": "Pm7hPV1ygY4p",
        "colab": {
          "base_uri": "https://localhost:8080/",
          "height": 1000
        },
        "outputId": "847347e8-a377-453e-92c3-6f9eb099373c"
      },
      "outputs": [
        {
          "output_type": "display_data",
          "data": {
            "text/plain": [
              "<Figure size 1440x1440 with 2 Axes>"
            ],
            "image/png": "[encoded data removed]"
          },
          "metadata": {
            "needs_background": "light"
          }
        }
      ],
      "source": [
        "# Correlation matrix\n",
        "fig = plt.figure(figsize=(20, 20))\n",
        "correlations = df_features_train.corr(method='pearson')\n",
        "sns.heatmap(correlations, annot=True, cmap=plt.cm.PuBu)\n",
        "plt.show()"
      ]
    },
    {
      "cell_type": "markdown",
      "metadata": {
        "id": "Na89zUHsgY4p"
      },
      "source": [
        "## Task 3 - Pre-process Data"
      ]
    },
    {
      "cell_type": "markdown",
      "metadata": {
        "id": "wWpp40QLgY4p"
      },
      "source": [
        "### 3.a) Feature Scaling"
      ]
    },
    {
      "cell_type": "code",
      "execution_count": 24,
      "metadata": {
        "colab": {
          "base_uri": "https://localhost:8080/"
        },
        "id": "Y5Tr664fgY4p",
        "outputId": "d256e68c-d28c-4748-98e0-9fa8994f27b0"
      },
      "outputs": [
        {
          "output_type": "stream",
          "name": "stdout",
          "text": [
            "Number of numerical columns: 15\n",
            "Number of categorical columns: 0\n",
            "Total number of columns in the feature dataframe: 15\n"
          ]
        }
      ],
      "source": [
        "# Compose pipeline for the numerical and categorical features (Block #1 of 2)\n",
        "numeric_columns = df_features_train.select_dtypes(include=['float', 'int']).columns\n",
        "numeric_transformer = Pipeline(steps=[\n",
        "    ('imputer', impute.SimpleImputer(strategy=\"median\")),\n",
        "    ('scaler', preprocessing.StandardScaler())\n",
        "])\n",
        "categorical_columns = df_features_train.select_dtypes(include=['object', 'bool', 'category']).columns\n",
        "categorical_transformer = Pipeline(steps=[\n",
        "    ('imputer', impute.SimpleImputer(strategy='constant', fill_value='UKNOWN')),\n",
        "    ('onehot', preprocessing.OneHotEncoder(sparse=False, handle_unknown='ignore'))\n",
        "])\n",
        "\n",
        "print(\"Number of numerical columns:\", len(numeric_columns))\n",
        "print(\"Number of categorical columns:\", len(categorical_columns))\n",
        "print(\"Total number of columns in the feature dataframe:\", df_features_train.shape[1])"
      ]
    },
    {
      "cell_type": "code",
      "execution_count": 25,
      "metadata": {
        "colab": {
          "base_uri": "https://localhost:8080/"
        },
        "id": "ehI4QlSogY4p",
        "outputId": "c2917e9d-9081-489b-e035-2df7058b5148"
      },
      "outputs": [
        {
          "output_type": "stream",
          "name": "stdout",
          "text": [
            "Transformed features from df_features_train.shape: (60237, 15) to array_features_train.shape: (60237, 15)\n"
          ]
        }
      ],
      "source": [
        "# Compose pipeline for the numerical and categorical features (Block #2 of 2)\n",
        "preprocessor = compose.ColumnTransformer(transformers=[\n",
        "    ('num', numeric_transformer, numeric_columns),\n",
        "    ('cat', categorical_transformer, categorical_columns)\n",
        "    ], remainder='passthrough')\n",
        "\n",
        "# Display the shapes of the training dataset for final inspection\n",
        "array_features_train = preprocessor.fit_transform(df_features_train)\n",
        "print(\"Transformed features from df_features_train.shape: {} to array_features_train.shape: {}\".format(df_features_train.shape, array_features_train.shape))"
      ]
    },
    {
      "cell_type": "code",
      "source": [
        "# Finalize the training dataset for the modeling activities\n",
        "array_features_train = preprocessor.fit_transform(df_features_train)\n",
        "array_target_train = df_target_train.to_numpy()\n",
        "# label_encoder = preprocessing.LabelEncoder()\n",
        "# array_target_train = label_encoder.fit_transform(df_target_train)"
      ],
      "metadata": {
        "id": "lCw4atBKQa-D"
      },
      "execution_count": 26,
      "outputs": []
    },
    {
      "cell_type": "markdown",
      "metadata": {
        "id": "rypMMNzzgY4q"
      },
      "source": [
        "### 3.b) Training Data Balancing"
      ]
    },
    {
      "cell_type": "code",
      "source": [
        "# Not applicable for this iteration of the project"
      ],
      "metadata": {
        "id": "tcOs3mHTQful"
      },
      "execution_count": 27,
      "outputs": []
    },
    {
      "cell_type": "markdown",
      "metadata": {
        "id": "2LZ_O8gJgY4q"
      },
      "source": [
        "### 3.c) Feature Selection"
      ]
    },
    {
      "cell_type": "code",
      "execution_count": 28,
      "metadata": {
        "id": "Rw9Z2jHQgY4q"
      },
      "outputs": [],
      "source": [
        "# Not applicable for this iteration of the project"
      ]
    },
    {
      "cell_type": "markdown",
      "metadata": {
        "id": "yxUhP3jKgY4q"
      },
      "source": [
        "### 3.d) Display the Final Datasets for Model-Building"
      ]
    },
    {
      "cell_type": "code",
      "execution_count": 29,
      "metadata": {
        "colab": {
          "base_uri": "https://localhost:8080/"
        },
        "id": "fF3CFB8ggY4q",
        "outputId": "30760670-410c-4990-e38c-9b208daa0398"
      },
      "outputs": [
        {
          "output_type": "stream",
          "name": "stdout",
          "text": [
            "array_features_train.shape: (60237, 15) array_target_train.shape: (60237,)\n"
          ]
        }
      ],
      "source": [
        "print(\"array_features_train.shape: {} array_target_train.shape: {}\".format(array_features_train.shape, array_target_train.shape))"
      ]
    },
    {
      "cell_type": "markdown",
      "metadata": {
        "id": "OlGHFL9OgY4q"
      },
      "source": [
        "## Task 4 - Train and Tune Models"
      ]
    },
    {
      "cell_type": "markdown",
      "metadata": {
        "id": "qRysv_23gY4q"
      },
      "source": [
        "### 4.a) Set test options and evaluation metric"
      ]
    },
    {
      "cell_type": "code",
      "execution_count": 30,
      "metadata": {
        "id": "ad5r3B5bgY4q"
      },
      "outputs": [],
      "source": [
        "# Define the baseline model for benchmarking\n",
        "def create_nn_model(input_param=array_features_train.shape[1], output_param=NUM_CLASSES,\n",
        "                    layer1_nodes=4096, layer2_nodes=4096, layer3_nodes=2048, layer4_nodes=2048, layer5_nodes=1024,\n",
        "                    layer1_dropout=0, layer2_dropout=0, layer3_dropout=0, layer4_dropout=0, layer5_dropout=0,\n",
        "                    classifier_activation=CLASSIFIER_ACTIVATION, loss_param=DEFAULT_LOSS,\n",
        "                    opt_param=DEFAULT_OPTIMIZER, metrics_param=DEFAULT_METRICS):\n",
        "    nn_model = keras.Sequential([\n",
        "        keras.layers.Dense(layer1_nodes, input_shape=(input_param,), activation='relu'),\n",
        "        keras.layers.Dropout(layer1_dropout),\n",
        "        keras.layers.Dense(layer2_nodes, activation='relu'),\n",
        "        keras.layers.Dropout(layer2_dropout),\n",
        "        keras.layers.Dense(layer3_nodes, activation='relu'),\n",
        "        keras.layers.Dropout(layer3_dropout),\n",
        "        keras.layers.Dense(layer4_nodes, activation='relu'),\n",
        "        keras.layers.Dropout(layer4_dropout),\n",
        "        keras.layers.Dense(layer5_nodes, activation='relu'),\n",
        "        keras.layers.Dropout(layer5_dropout),\n",
        "        keras.layers.Dense(output_param, activation=classifier_activation)\n",
        "    ])\n",
        "    nn_model.compile(loss=loss_param, optimizer=opt_param, metrics=metrics_param)\n",
        "    return nn_model"
      ]
    },
    {
      "cell_type": "code",
      "source": [
        "# # Initialize the default model and get a baseline result\n",
        "start_time_module = datetime.now()\n",
        "tf.keras.utils.set_random_seed(RNG_SEED)\n",
        "baseline_model = create_nn_model()\n",
        "baseline_model.fit(array_features_train, array_target_train, epochs=MAX_EPOCHS, batch_size=BATCH_SIZE, \n",
        "                   validation_split=VAL_SET_RATIO, verbose=1)\n",
        "print('Total time for model fitting and cross validating:', (datetime.now() - start_time_module))"
      ],
      "metadata": {
        "id": "-fUy4l4GtQ8V",
        "colab": {
          "base_uri": "https://localhost:8080/"
        },
        "outputId": "9c6ec912-a86b-47e0-c6ee-f6ba8dd92f40"
      },
      "execution_count": 31,
      "outputs": [
        {
          "output_type": "stream",
          "name": "stdout",
          "text": [
            "Epoch 1/15\n",
            "1695/1695 [==============================] - 11s 4ms/step - loss: 0.4554 - auc: 0.8550 - val_loss: 0.3956 - val_auc: 0.8833\n",
            "Epoch 2/15\n",
            "1695/1695 [==============================] - 7s 4ms/step - loss: 0.4358 - auc: 0.8684 - val_loss: 0.3805 - val_auc: 0.8910\n",
            "Epoch 3/15\n",
            "1695/1695 [==============================] - 7s 4ms/step - loss: 0.4279 - auc: 0.8734 - val_loss: 0.3731 - val_auc: 0.8986\n",
            "Epoch 4/15\n",
            "1695/1695 [==============================] - 7s 4ms/step - loss: 0.4207 - auc: 0.8778 - val_loss: 0.3613 - val_auc: 0.9007\n",
            "Epoch 5/15\n",
            "1695/1695 [==============================] - 7s 4ms/step - loss: 0.4145 - auc: 0.8817 - val_loss: 0.3601 - val_auc: 0.9025\n",
            "Epoch 6/15\n",
            "1695/1695 [==============================] - 7s 4ms/step - loss: 0.4096 - auc: 0.8847 - val_loss: 0.3572 - val_auc: 0.9033\n",
            "Epoch 7/15\n",
            "1695/1695 [==============================] - 7s 4ms/step - loss: 0.4056 - auc: 0.8872 - val_loss: 0.3567 - val_auc: 0.9068\n",
            "Epoch 8/15\n",
            "1695/1695 [==============================] - 7s 4ms/step - loss: 0.4011 - auc: 0.8897 - val_loss: 0.3516 - val_auc: 0.9084\n",
            "Epoch 9/15\n",
            "1695/1695 [==============================] - 7s 4ms/step - loss: 0.3970 - auc: 0.8922 - val_loss: 0.3571 - val_auc: 0.9095\n",
            "Epoch 10/15\n",
            "1695/1695 [==============================] - 7s 4ms/step - loss: 0.3930 - auc: 0.8945 - val_loss: 0.3456 - val_auc: 0.9127\n",
            "Epoch 11/15\n",
            "1695/1695 [==============================] - 7s 4ms/step - loss: 0.3888 - auc: 0.8969 - val_loss: 0.3475 - val_auc: 0.9126\n",
            "Epoch 12/15\n",
            "1695/1695 [==============================] - 7s 4ms/step - loss: 0.3842 - auc: 0.8995 - val_loss: 0.3486 - val_auc: 0.9129\n",
            "Epoch 13/15\n",
            "1695/1695 [==============================] - 7s 4ms/step - loss: 0.3803 - auc: 0.9015 - val_loss: 0.3449 - val_auc: 0.9117\n",
            "Epoch 14/15\n",
            "1695/1695 [==============================] - 7s 4ms/step - loss: 0.3770 - auc: 0.9033 - val_loss: 0.3419 - val_auc: 0.9146\n",
            "Epoch 15/15\n",
            "1695/1695 [==============================] - 7s 4ms/step - loss: 0.3724 - auc: 0.9057 - val_loss: 0.3694 - val_auc: 0.9106\n",
            "Total time for model fitting and cross validating: 0:01:46.490657\n"
          ]
        }
      ]
    },
    {
      "cell_type": "markdown",
      "metadata": {
        "id": "Fcks1-zsgY4r"
      },
      "source": [
        "### 4.b) Algorithm Tuning"
      ]
    },
    {
      "cell_type": "code",
      "execution_count": 32,
      "metadata": {
        "id": "Ab8YuMfugY4r"
      },
      "outputs": [],
      "source": [
        "# Not applicable for this iteration of modeling"
      ]
    },
    {
      "cell_type": "markdown",
      "metadata": {
        "id": "sJ5WVT3XgY4r"
      },
      "source": [
        "## Task 5 - Finalize Model and Make Predictions"
      ]
    },
    {
      "cell_type": "markdown",
      "source": [
        "### 5.a) Train the Final Model"
      ],
      "metadata": {
        "id": "eDZG6I3KzdpY"
      }
    },
    {
      "cell_type": "code",
      "execution_count": 33,
      "metadata": {
        "colab": {
          "base_uri": "https://localhost:8080/"
        },
        "id": "NB72_n-CgY4r",
        "outputId": "456e5e96-c843-4da1-c911-b464608c4c8e"
      },
      "outputs": [
        {
          "output_type": "stream",
          "name": "stdout",
          "text": [
            "Epoch 1/15\n",
            "1883/1883 [==============================] - 9s 4ms/step - loss: 0.4489 - auc: 0.8638\n",
            "Epoch 2/15\n",
            "1883/1883 [==============================] - 7s 4ms/step - loss: 0.4293 - auc: 0.8716\n",
            "Epoch 3/15\n",
            "1883/1883 [==============================] - 7s 4ms/step - loss: 0.4201 - auc: 0.8774\n",
            "Epoch 4/15\n",
            "1883/1883 [==============================] - 7s 4ms/step - loss: 0.4132 - auc: 0.8813\n",
            "Epoch 5/15\n",
            "1883/1883 [==============================] - 7s 4ms/step - loss: 0.4071 - auc: 0.8850\n",
            "Epoch 6/15\n",
            "1883/1883 [==============================] - 7s 4ms/step - loss: 0.4010 - auc: 0.8887\n",
            "Epoch 7/15\n",
            "1883/1883 [==============================] - 7s 4ms/step - loss: 0.3972 - auc: 0.8911\n",
            "Epoch 8/15\n",
            "1883/1883 [==============================] - 7s 4ms/step - loss: 0.3918 - auc: 0.8943\n",
            "Epoch 9/15\n",
            "1883/1883 [==============================] - 7s 4ms/step - loss: 0.3879 - auc: 0.8962\n",
            "Epoch 10/15\n",
            "1883/1883 [==============================] - 7s 4ms/step - loss: 0.3833 - auc: 0.8988\n",
            "Epoch 11/15\n",
            "1883/1883 [==============================] - 7s 4ms/step - loss: 0.3788 - auc: 0.9013\n",
            "Epoch 12/15\n",
            "1883/1883 [==============================] - 7s 4ms/step - loss: 0.3742 - auc: 0.9038\n",
            "Epoch 13/15\n",
            "1883/1883 [==============================] - 7s 4ms/step - loss: 0.3699 - auc: 0.9062\n",
            "Epoch 14/15\n",
            "1883/1883 [==============================] - 7s 4ms/step - loss: 0.3659 - auc: 0.9083\n",
            "Epoch 15/15\n",
            "1883/1883 [==============================] - 7s 4ms/step - loss: 0.3624 - auc: 0.9101\n",
            "Model: \"sequential_1\"\n",
            "_________________________________________________________________\n",
            " Layer (type)                Output Shape              Param #   \n",
            "=================================================================\n",
            " dense_6 (Dense)             (None, 4096)              65536     \n",
            "                                                                 \n",
            " dropout_5 (Dropout)         (None, 4096)              0         \n",
            "                                                                 \n",
            " dense_7 (Dense)             (None, 4096)              16781312  \n",
            "                                                                 \n",
            " dropout_6 (Dropout)         (None, 4096)              0         \n",
            "                                                                 \n",
            " dense_8 (Dense)             (None, 2048)              8390656   \n",
            "                                                                 \n",
            " dropout_7 (Dropout)         (None, 2048)              0         \n",
            "                                                                 \n",
            " dense_9 (Dense)             (None, 2048)              4196352   \n",
            "                                                                 \n",
            " dropout_8 (Dropout)         (None, 2048)              0         \n",
            "                                                                 \n",
            " dense_10 (Dense)            (None, 1024)              2098176   \n",
            "                                                                 \n",
            " dropout_9 (Dropout)         (None, 1024)              0         \n",
            "                                                                 \n",
            " dense_11 (Dense)            (None, 1)                 1025      \n",
            "                                                                 \n",
            "=================================================================\n",
            "Total params: 31,533,057\n",
            "Trainable params: 31,533,057\n",
            "Non-trainable params: 0\n",
            "_________________________________________________________________\n"
          ]
        }
      ],
      "source": [
        "FINAL_OPTIMIZER = tf.keras.optimizers.Adam(learning_rate=0.00005)\n",
        "tf.keras.utils.set_random_seed(RNG_SEED)\n",
        "final_model = create_nn_model(opt_param=FINAL_OPTIMIZER)\n",
        "final_model.fit(array_features_train, array_target_train, epochs=MAX_EPOCHS, batch_size=BATCH_SIZE, verbose=1)\n",
        "final_model.summary()"
      ]
    },
    {
      "cell_type": "markdown",
      "source": [
        "### 5.b) Load Test Dataset and Make Predictions"
      ],
      "metadata": {
        "id": "lgEvffI2Mpnx"
      }
    },
    {
      "cell_type": "code",
      "source": [
        "df_features_test = pd.read_csv(TEST_DATASET)\n",
        "df_features_test['is_synthetic'] = 1\n",
        "df_features_test.drop(columns=['arrival_year','arrival_month',\n",
        "                               'arrival_date'], inplace=True)\n",
        "\n",
        "df_features_test.info(verbose=True)"
      ],
      "metadata": {
        "id": "h7WgCCfHMPub",
        "colab": {
          "base_uri": "https://localhost:8080/"
        },
        "outputId": "7f305df8-e467-4b81-af24-d6fd9307d2d8"
      },
      "execution_count": 34,
      "outputs": [
        {
          "output_type": "stream",
          "name": "stdout",
          "text": [
            "<class 'pandas.core.frame.DataFrame'>\n",
            "RangeIndex: 28068 entries, 0 to 28067\n",
            "Data columns (total 16 columns):\n",
            " #   Column                                Non-Null Count  Dtype  \n",
            "---  ------                                --------------  -----  \n",
            " 0   id                                    28068 non-null  int64  \n",
            " 1   no_of_adults                          28068 non-null  int64  \n",
            " 2   no_of_children                        28068 non-null  int64  \n",
            " 3   no_of_weekend_nights                  28068 non-null  int64  \n",
            " 4   no_of_week_nights                     28068 non-null  int64  \n",
            " 5   type_of_meal_plan                     28068 non-null  int64  \n",
            " 6   required_car_parking_space            28068 non-null  int64  \n",
            " 7   room_type_reserved                    28068 non-null  int64  \n",
            " 8   lead_time                             28068 non-null  int64  \n",
            " 9   market_segment_type                   28068 non-null  int64  \n",
            " 10  repeated_guest                        28068 non-null  int64  \n",
            " 11  no_of_previous_cancellations          28068 non-null  int64  \n",
            " 12  no_of_previous_bookings_not_canceled  28068 non-null  int64  \n",
            " 13  avg_price_per_room                    28068 non-null  float64\n",
            " 14  no_of_special_requests                28068 non-null  int64  \n",
            " 15  is_synthetic                          28068 non-null  int64  \n",
            "dtypes: float64(1), int64(15)\n",
            "memory usage: 3.4 MB\n"
          ]
        }
      ]
    },
    {
      "cell_type": "code",
      "source": [
        "id_column_name = df_features_test.columns[0]\n",
        "df_kaggle_submission = pd.DataFrame()\n",
        "df_kaggle_submission[id_column_name] = df_features_test[id_column_name]\n",
        "print(df_kaggle_submission.head())"
      ],
      "metadata": {
        "id": "UWJg6T5zMyxJ",
        "colab": {
          "base_uri": "https://localhost:8080/"
        },
        "outputId": "d6fd8e56-bb4a-4cc8-e071-208e7b60dce4"
      },
      "execution_count": 35,
      "outputs": [
        {
          "output_type": "stream",
          "name": "stdout",
          "text": [
            "      id\n",
            "0  42100\n",
            "1  42101\n",
            "2  42102\n",
            "3  42103\n",
            "4  42104\n"
          ]
        }
      ]
    },
    {
      "cell_type": "code",
      "source": [
        "# Dropping unique identifier and unnecessary features\n",
        "df_features_test.drop(columns=[id_column_name,], inplace=True)\n",
        "\n",
        "# Take a peek at the dataframe after cleaning\n",
        "print(df_features_test.head())"
      ],
      "metadata": {
        "id": "WnH5v-ejM8u_",
        "colab": {
          "base_uri": "https://localhost:8080/"
        },
        "outputId": "d5fd73fb-8c52-4bb7-94a2-d7247f983105"
      },
      "execution_count": 36,
      "outputs": [
        {
          "output_type": "stream",
          "name": "stdout",
          "text": [
            "   no_of_adults  no_of_children  no_of_weekend_nights  no_of_week_nights  \\\n",
            "0             3               0                     1                  4   \n",
            "1             2               0                     0                  3   \n",
            "2             2               2                     0                  1   \n",
            "3             2               0                     0                  3   \n",
            "4             1               0                     0                  2   \n",
            "\n",
            "   type_of_meal_plan  required_car_parking_space  room_type_reserved  \\\n",
            "0                  0                           0                   1   \n",
            "1                  0                           0                   0   \n",
            "2                  0                           0                   3   \n",
            "3                  0                           0                   0   \n",
            "4                  2                           0                   0   \n",
            "\n",
            "   lead_time  market_segment_type  repeated_guest  \\\n",
            "0        111                    1               0   \n",
            "1         22                    0               0   \n",
            "2         18                    1               0   \n",
            "3         88                    0               0   \n",
            "4          7                    1               0   \n",
            "\n",
            "   no_of_previous_cancellations  no_of_previous_bookings_not_canceled  \\\n",
            "0                             0                                     0   \n",
            "1                             0                                     0   \n",
            "2                             0                                     0   \n",
            "3                             0                                     0   \n",
            "4                             0                                     0   \n",
            "\n",
            "   avg_price_per_room  no_of_special_requests  is_synthetic  \n",
            "0              115.60                       2             1  \n",
            "1               85.00                       0             1  \n",
            "2              240.00                       1             1  \n",
            "3               80.75                       0             1  \n",
            "4              144.00                       0             1  \n"
          ]
        }
      ]
    },
    {
      "cell_type": "code",
      "source": [
        "# Finalize the test dataset for the testing activities\n",
        "array_features_test = preprocessor.transform(df_features_test)\n",
        "print(\"Transformed features from df_features_test.shape: {} to array_features_test.shape: {}\".format(df_features_test.shape, array_features_test.shape))"
      ],
      "metadata": {
        "id": "8oW_srf7Nlli",
        "colab": {
          "base_uri": "https://localhost:8080/"
        },
        "outputId": "c2d224bf-22af-4329-8033-f4f1ad01bdff"
      },
      "execution_count": 37,
      "outputs": [
        {
          "output_type": "stream",
          "name": "stdout",
          "text": [
            "Transformed features from df_features_test.shape: (28068, 15) to array_features_test.shape: (28068, 15)\n"
          ]
        }
      ]
    },
    {
      "cell_type": "code",
      "source": [
        "# Make batched predictions\n",
        "test_predictions =  final_model.predict(array_features_test)\n",
        "print(test_predictions)"
      ],
      "metadata": {
        "id": "sbwMzaYzNpTj",
        "colab": {
          "base_uri": "https://localhost:8080/"
        },
        "outputId": "2c70e2d6-b612-4b03-f97c-2dd9a0a23422"
      },
      "execution_count": 38,
      "outputs": [
        {
          "output_type": "stream",
          "name": "stdout",
          "text": [
            "878/878 [==============================] - 1s 1ms/step\n",
            "[[0.13148855]\n",
            " [0.08428473]\n",
            " [0.3504462 ]\n",
            " ...\n",
            " [0.19144522]\n",
            " [0.50905037]\n",
            " [0.9164683 ]]\n"
          ]
        }
      ]
    },
    {
      "cell_type": "code",
      "source": [
        "df_sample_submission = pd.read_csv(SUBMISSION_TEMPLATE)\n",
        "df_sample_submission.drop(columns=[id_column_name], inplace=True)\n",
        "submission_header = list(df_sample_submission.columns)[0]\n",
        "print(submission_header)"
      ],
      "metadata": {
        "id": "_bVUHUgjNvcM",
        "colab": {
          "base_uri": "https://localhost:8080/"
        },
        "outputId": "1af0b42c-ec55-416a-bbf7-0715a3f99021"
      },
      "execution_count": 39,
      "outputs": [
        {
          "output_type": "stream",
          "name": "stdout",
          "text": [
            "booking_status\n"
          ]
        }
      ]
    },
    {
      "cell_type": "code",
      "source": [
        "df_kaggle_submission[submission_header] = test_predictions\n",
        "print(df_kaggle_submission.head())"
      ],
      "metadata": {
        "id": "QTt5mFxpN0yQ",
        "colab": {
          "base_uri": "https://localhost:8080/"
        },
        "outputId": "bda6a677-33b7-435e-c273-62cb5e8ca8b7"
      },
      "execution_count": 40,
      "outputs": [
        {
          "output_type": "stream",
          "name": "stdout",
          "text": [
            "      id  booking_status\n",
            "0  42100        0.131489\n",
            "1  42101        0.084285\n",
            "2  42102        0.350446\n",
            "3  42103        0.127305\n",
            "4  42104        0.227861\n"
          ]
        }
      ]
    },
    {
      "cell_type": "code",
      "source": [
        "submission_file = df_kaggle_submission.to_csv(header=True, index=False)\n",
        "filename = SUBMISSION_FILE + datetime.now().strftime('%Y%m%d-%H%M') + '.csv'\n",
        "with open(filename, 'w') as f:\n",
        "    f.write(submission_file)\n",
        "    print('Completed writing output file: ' + filename)"
      ],
      "metadata": {
        "id": "xEViFboLN42g",
        "colab": {
          "base_uri": "https://localhost:8080/"
        },
        "outputId": "0edb784e-d0d5-4898-f500-128aa358c793"
      },
      "execution_count": 41,
      "outputs": [
        {
          "output_type": "stream",
          "name": "stdout",
          "text": [
            "Completed writing output file: submission_tensorflow_20230320-2319.csv\n"
          ]
        }
      ]
    },
    {
      "cell_type": "code",
      "execution_count": 42,
      "metadata": {
        "colab": {
          "base_uri": "https://localhost:8080/"
        },
        "id": "25hXAXzNgY4s",
        "outputId": "7ef815a3-f5f5-460e-84e6-9047357707bb"
      },
      "outputs": [
        {
          "output_type": "stream",
          "name": "stdout",
          "text": [
            "Total time for the script: 0:03:44.508860\n"
          ]
        }
      ],
      "source": [
        "print ('Total time for the script:',(datetime.now() - START_TIME_SCRIPT))"
      ]
    }
  ],
  "metadata": {
    "accelerator": "GPU",
    "colab": {
      "provenance": []
    },
    "kernelspec": {
      "display_name": "Python 3 (ipykernel)",
      "language": "python",
      "name": "python3"
    },
    "language_info": {
      "codemirror_mode": {
        "name": "ipython",
        "version": 3
      },
      "file_extension": ".py",
      "mimetype": "text/x-python",
      "name": "python",
      "nbconvert_exporter": "python",
      "pygments_lexer": "ipython3",
      "version": "3.8.10"
    },
    "gpuClass": "premium"
  },
  "nbformat": 4,
  "nbformat_minor": 0
}
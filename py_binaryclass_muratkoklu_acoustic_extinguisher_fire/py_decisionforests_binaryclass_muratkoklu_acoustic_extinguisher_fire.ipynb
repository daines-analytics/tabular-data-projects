{
 "cells": [
  {
   "cell_type": "markdown",
   "metadata": {
    "id": "2sQmc7MlwXit"
   },
   "source": [
    "# Binary-Class Model for Acoustic Extinguisher Fire Using TensorFlow Decision Forests\n",
    "### David Lowe\n",
    "### March 29, 2022\n",
    "\n",
    "SUMMARY: The project aims to construct a predictive model using various machine learning algorithms and document the end-to-end steps using a template. The Acoustic Extinguisher Fire dataset is a binary-class modeling situation where we attempt to predict one of two possible outcomes.\n",
    "\n",
    "INTRODUCTION: Fire is a disaster that can have many different causes, and traditional fire extinguishing methods can be harmful to people. In this study, the research team tested a sound wave flame-extinguishing system to extinguish the flames at an early fire stage. The researchers conducted 17,442 extinguishing experiments using different flame sizes, frequencies, and distance ranges in their study. The goal is to create an environmentally friendly system with innovative extinguishing methods.\n",
    "\n",
    "ANALYSIS: The performance of the preliminary Gradient Boosted Trees model achieved an accuracy benchmark of 99.26% on the training dataset. When we applied the finalized model to the test dataset, the model achieved an accuracy score of 97.82%.\n",
    "\n",
    "CONCLUSION: In this iteration, the TensorFlow Decision Forests model appeared to be suitable for modeling this dataset.\n",
    "\n",
    "Dataset Used: Acoustic Extinguisher Fire Dataset\n",
    "\n",
    "Dataset ML Model: Binary classification with numerical and categorical features\n",
    "\n",
    "Dataset Reference: https://www.muratkoklu.com/datasets/"
   ]
  },
  {
   "cell_type": "markdown",
   "metadata": {
    "id": "2pu8nWBYwXi9"
   },
   "source": [
    "## Task 1 - Prepare Environment"
   ]
  },
  {
   "cell_type": "code",
   "execution_count": 1,
   "metadata": {
    "colab": {
     "base_uri": "https://localhost:8080/"
    },
    "id": "ZOOVxnGCwXi_",
    "outputId": "af26ffc0-0714-4f1f-9f04-f6fcbf16ece3"
   },
   "outputs": [
    {
     "name": "stdout",
     "output_type": "stream",
     "text": [
      "The number of available CPUs is: 8\n"
     ]
    }
   ],
   "source": [
    "# Retrieve the CPU information\n",
    "ncpu = !nproc\n",
    "print(\"The number of available CPUs is:\", ncpu[0])"
   ]
  },
  {
   "cell_type": "markdown",
   "metadata": {
    "id": "6UZqFeojwXjA"
   },
   "source": [
    "### 1.a) Load libraries and modules"
   ]
  },
  {
   "cell_type": "code",
   "execution_count": 2,
   "metadata": {
    "id": "9_ovTGbJwXjA"
   },
   "outputs": [],
   "source": [
    "# Set the random seed number for reproducible results\n",
    "RNG_SEED = 888"
   ]
  },
  {
   "cell_type": "code",
   "execution_count": 3,
   "metadata": {
    "colab": {
     "base_uri": "https://localhost:8080/"
    },
    "id": "vDmif-v8wXjB",
    "outputId": "5050d081-be63-432c-bd77-7c5f18164f22"
   },
   "outputs": [
    {
     "name": "stderr",
     "output_type": "stream",
     "text": [
      "WARNING:root:TF Parameter Server distributed training not available (this is expected for the pre-build release).\n"
     ]
    }
   ],
   "source": [
    "import random\n",
    "random.seed(RNG_SEED)\n",
    "import numpy as np\n",
    "np.random.seed(RNG_SEED)\n",
    "import pandas as pd\n",
    "import seaborn as sns\n",
    "import matplotlib\n",
    "import matplotlib.pyplot as plt\n",
    "import os\n",
    "import sys\n",
    "import math\n",
    "from datetime import datetime\n",
    "# import boto3\n",
    "# from dotenv import load_dotenv\n",
    "from sklearn import preprocessing\n",
    "from sklearn.model_selection import train_test_split\n",
    "from sklearn.model_selection import RepeatedKFold\n",
    "from sklearn.pipeline import Pipeline\n",
    "from sklearn import compose\n",
    "from sklearn import impute\n",
    "from sklearn import metrics\n",
    "import tensorflow as tf\n",
    "tf.random.set_seed(RNG_SEED)\n",
    "# from tensorflow import keras\n",
    "import tensorflow_decision_forests as tfdf"
   ]
  },
  {
   "cell_type": "markdown",
   "metadata": {
    "id": "M0TRB7j0wXjB"
   },
   "source": [
    "### 1.b) Set up the controlling parameters and functions"
   ]
  },
  {
   "cell_type": "code",
   "execution_count": 4,
   "metadata": {
    "colab": {
     "base_uri": "https://localhost:8080/"
    },
    "id": "JCurALWEwXjB",
    "outputId": "fe2a2a8f-feec-4485-a414-4c0218f15afb"
   },
   "outputs": [
    {
     "name": "stderr",
     "output_type": "stream",
     "text": [
      "2022-03-21 00:56:13.795871: I tensorflow/stream_executor/cuda/cuda_gpu_executor.cc:936] successful NUMA node read from SysFS had negative value (-1), but there must be at least one NUMA node, so returning NUMA node zero\n"
     ]
    },
    {
     "name": "stdout",
     "output_type": "stream",
     "text": [
      "TensorFlow version: 2.8.0\n",
      "Found TensorFlow Decision Forests v0.2.4\n"
     ]
    },
    {
     "name": "stderr",
     "output_type": "stream",
     "text": [
      "2022-03-21 00:56:13.857886: I tensorflow/stream_executor/cuda/cuda_gpu_executor.cc:936] successful NUMA node read from SysFS had negative value (-1), but there must be at least one NUMA node, so returning NUMA node zero\n",
      "2022-03-21 00:56:13.858286: I tensorflow/stream_executor/cuda/cuda_gpu_executor.cc:936] successful NUMA node read from SysFS had negative value (-1), but there must be at least one NUMA node, so returning NUMA node zero\n",
      "2022-03-21 00:56:13.859675: I tensorflow/core/platform/cpu_feature_guard.cc:151] This TensorFlow binary is optimized with oneAPI Deep Neural Network Library (oneDNN) to use the following CPU instructions in performance-critical operations:  AVX2 FMA\n",
      "To enable them in other operations, rebuild TensorFlow with the appropriate compiler flags.\n",
      "2022-03-21 00:56:13.860460: I tensorflow/stream_executor/cuda/cuda_gpu_executor.cc:936] successful NUMA node read from SysFS had negative value (-1), but there must be at least one NUMA node, so returning NUMA node zero\n",
      "2022-03-21 00:56:13.860829: I tensorflow/stream_executor/cuda/cuda_gpu_executor.cc:936] successful NUMA node read from SysFS had negative value (-1), but there must be at least one NUMA node, so returning NUMA node zero\n",
      "2022-03-21 00:56:13.861180: I tensorflow/stream_executor/cuda/cuda_gpu_executor.cc:936] successful NUMA node read from SysFS had negative value (-1), but there must be at least one NUMA node, so returning NUMA node zero\n",
      "2022-03-21 00:56:15.537905: I tensorflow/stream_executor/cuda/cuda_gpu_executor.cc:936] successful NUMA node read from SysFS had negative value (-1), but there must be at least one NUMA node, so returning NUMA node zero\n",
      "2022-03-21 00:56:15.538179: I tensorflow/stream_executor/cuda/cuda_gpu_executor.cc:936] successful NUMA node read from SysFS had negative value (-1), but there must be at least one NUMA node, so returning NUMA node zero\n",
      "2022-03-21 00:56:15.538399: I tensorflow/stream_executor/cuda/cuda_gpu_executor.cc:936] successful NUMA node read from SysFS had negative value (-1), but there must be at least one NUMA node, so returning NUMA node zero\n",
      "2022-03-21 00:56:15.538604: I tensorflow/core/common_runtime/gpu/gpu_device.cc:1525] Created device /job:localhost/replica:0/task:0/device:GPU:0 with 15547 MB memory:  -> device: 0, name: Quadro P5000, pci bus id: 0000:00:05.0, compute capability: 6.1\n"
     ]
    }
   ],
   "source": [
    "# Begin the timer for the script processing\n",
    "start_time_script = datetime.now()\n",
    "\n",
    "# Set up the number of CPU cores available for multi-thread processing\n",
    "N_JOBS = 1\n",
    "\n",
    "# Set up the flag to stop sending progress emails (setting to True will send status emails!)\n",
    "NOTIFY_STATUS = False\n",
    "\n",
    "# Set the percentage sizes for splitting the dataset\n",
    "TEST_SET_RATIO = 0.15\n",
    "VAL_SET_RATIO = 0.15\n",
    "\n",
    "# Set the number of folds for cross validation\n",
    "N_FOLDS = 5\n",
    "N_ITERATIONS = 1\n",
    "\n",
    "# Set various default modeling parameters\n",
    "DEFAULT_METRICS = [\"accuracy\", tf.keras.metrics.AUC()]\n",
    "\n",
    "# Define the directory locations and file names\n",
    "TRAIN_DATASET = 'heart_2020_cleaned.csv'\n",
    "# TEST_DATASET = ''\n",
    "\n",
    "# # Check the number of GPUs accessible through TensorFlow\n",
    "# print('Num GPUs Available:', len(tf.config.list_physical_devices('GPU')))\n",
    "\n",
    "# Print out the TensorFlow version for confirmation\n",
    "print('TensorFlow version:', tf.__version__)\n",
    "\n",
    "# Check the version of TensorFlow Decision Forests\n",
    "print(\"Found TensorFlow Decision Forests v\" + tfdf.__version__)"
   ]
  },
  {
   "cell_type": "code",
   "execution_count": 5,
   "metadata": {
    "id": "IBDJ6B40wXjC"
   },
   "outputs": [],
   "source": [
    "# Set up the email notification function\n",
    "def status_notify(msg_text):\n",
    "    access_key = os.environ.get('SNS_ACCESS_KEY')\n",
    "    secret_key = os.environ.get('SNS_SECRET_KEY')\n",
    "    aws_region = os.environ.get('SNS_AWS_REGION')\n",
    "    topic_arn = os.environ.get('SNS_TOPIC_ARN')\n",
    "    if (access_key is None) or (secret_key is None) or (aws_region is None):\n",
    "        sys.exit(\"Incomplete notification setup info. Script Processing Aborted!!!\")\n",
    "    sns = boto3.client('sns', aws_access_key_id=access_key, aws_secret_access_key=secret_key, region_name=aws_region)\n",
    "    response = sns.publish(TopicArn=topic_arn, Message=msg_text)\n",
    "    if response['ResponseMetadata']['HTTPStatusCode'] != 200 :\n",
    "        print('Status notification not OK with HTTP status code:', response['ResponseMetadata']['HTTPStatusCode'])"
   ]
  },
  {
   "cell_type": "code",
   "execution_count": 6,
   "metadata": {
    "id": "e3tPi3k7wyTv"
   },
   "outputs": [],
   "source": [
    "# Reset the random number generators\n",
    "def reset_random(x=RNG_SEED):\n",
    "    random.seed(x)\n",
    "    np.random.seed(x)\n",
    "    tf.random.set_seed(x)"
   ]
  },
  {
   "cell_type": "code",
   "execution_count": 7,
   "metadata": {
    "id": "p2F2r8QswXjD"
   },
   "outputs": [],
   "source": [
    "if NOTIFY_STATUS: status_notify(\"Task 1 - Prepare Environment has begun! \" + datetime.now().strftime('%a %B %d, %Y %I:%M:%S %p'))"
   ]
  },
  {
   "cell_type": "markdown",
   "metadata": {
    "id": "yk2I_AhawXjD"
   },
   "source": [
    "### 1.c) Load dataset"
   ]
  },
  {
   "cell_type": "code",
   "execution_count": 8,
   "metadata": {
    "colab": {
     "base_uri": "https://localhost:8080/"
    },
    "id": "E7G2_4zawXjE",
    "outputId": "8fe31ed3-47a3-4720-b2ab-a32c52603e4d"
   },
   "outputs": [
    {
     "name": "stdout",
     "output_type": "stream",
     "text": [
      "   SIZE      FUEL  DISTANCE  DESIBEL  AIRFLOW  FREQUENCY  CLASS\n",
      "0     1  gasoline        10       96      0.0         75      0\n",
      "1     1  gasoline        10       96      0.0         72      1\n",
      "2     1  gasoline        10       96      2.6         70      1\n",
      "3     1  gasoline        10       96      3.2         68      1\n",
      "4     1  gasoline        10      109      4.5         67      1\n"
     ]
    }
   ],
   "source": [
    "dataset_path = 'https://dainesanalytics.com/datasets/muratkoklu-acoustic-extinguisher-fire/Acoustic_Extinguisher_Fire_Dataset.arff'\n",
    "colNames = ['SIZE','FUEL','DISTANCE','DESIBEL','AIRFLOW','FREQUENCY','CLASS']\n",
    "df_dataset_import = pd.read_csv(dataset_path, names=colNames, sep=',', header=None, index_col=False, skiprows=60)\n",
    "\n",
    "# Take a peek at the dataframe after import\n",
    "print(df_dataset_import.head())"
   ]
  },
  {
   "cell_type": "code",
   "execution_count": 9,
   "metadata": {
    "colab": {
     "base_uri": "https://localhost:8080/"
    },
    "id": "3dl-LDdfwXjE",
    "outputId": "bbeef758-68be-4a10-e1bc-fb939eca2168"
   },
   "outputs": [
    {
     "name": "stdout",
     "output_type": "stream",
     "text": [
      "<class 'pandas.core.frame.DataFrame'>\n",
      "RangeIndex: 17442 entries, 0 to 17441\n",
      "Data columns (total 7 columns):\n",
      " #   Column     Non-Null Count  Dtype  \n",
      "---  ------     --------------  -----  \n",
      " 0   SIZE       17442 non-null  int64  \n",
      " 1   FUEL       17442 non-null  object \n",
      " 2   DISTANCE   17442 non-null  int64  \n",
      " 3   DESIBEL    17442 non-null  int64  \n",
      " 4   AIRFLOW    17442 non-null  float64\n",
      " 5   FREQUENCY  17442 non-null  int64  \n",
      " 6   CLASS      17442 non-null  int64  \n",
      "dtypes: float64(1), int64(5), object(1)\n",
      "memory usage: 954.0+ KB\n"
     ]
    }
   ],
   "source": [
    "df_dataset_import.info(verbose=True)"
   ]
  },
  {
   "cell_type": "code",
   "execution_count": 10,
   "metadata": {
    "colab": {
     "base_uri": "https://localhost:8080/"
    },
    "id": "3eB_rvlwwXjF",
    "outputId": "6653b185-594e-4772-f887-abef50d74bd5"
   },
   "outputs": [
    {
     "name": "stdout",
     "output_type": "stream",
     "text": [
      "               SIZE      DISTANCE       DESIBEL       AIRFLOW     FREQUENCY  \\\n",
      "count  17442.000000  17442.000000  17442.000000  17442.000000  17442.000000   \n",
      "mean       3.411765    100.000000     96.379142      6.975634     31.611111   \n",
      "std        1.750977     54.773826      8.164096      4.736169     20.939149   \n",
      "min        1.000000     10.000000     72.000000      0.000000      1.000000   \n",
      "25%        2.000000     50.000000     90.000000      3.200000     14.000000   \n",
      "50%        3.000000    100.000000     95.000000      5.800000     27.500000   \n",
      "75%        5.000000    150.000000    104.000000     11.200000     47.000000   \n",
      "max        7.000000    190.000000    113.000000     17.000000     75.000000   \n",
      "\n",
      "              CLASS  \n",
      "count  17442.000000  \n",
      "mean       0.497821  \n",
      "std        0.500010  \n",
      "min        0.000000  \n",
      "25%        0.000000  \n",
      "50%        0.000000  \n",
      "75%        1.000000  \n",
      "max        1.000000  \n"
     ]
    }
   ],
   "source": [
    "print(df_dataset_import.describe())"
   ]
  },
  {
   "cell_type": "code",
   "execution_count": 11,
   "metadata": {
    "colab": {
     "base_uri": "https://localhost:8080/"
    },
    "id": "SRyVb81UwXjF",
    "outputId": "59df4c47-36a0-4476-efd6-272965f1657f"
   },
   "outputs": [
    {
     "name": "stdout",
     "output_type": "stream",
     "text": [
      "SIZE         0\n",
      "FUEL         0\n",
      "DISTANCE     0\n",
      "DESIBEL      0\n",
      "AIRFLOW      0\n",
      "FREQUENCY    0\n",
      "CLASS        0\n",
      "dtype: int64\n",
      "Total number of NaN in the dataframe:  0\n"
     ]
    }
   ],
   "source": [
    "print(df_dataset_import.isnull().sum())\n",
    "print('Total number of NaN in the dataframe: ', df_dataset_import.isnull().sum().sum())"
   ]
  },
  {
   "cell_type": "code",
   "execution_count": 12,
   "metadata": {},
   "outputs": [
    {
     "name": "stdout",
     "output_type": "stream",
     "text": [
      "CLASS\n",
      "0    8759\n",
      "1    8683\n",
      "dtype: int64\n"
     ]
    }
   ],
   "source": [
    "# Get grouping size for the target variable\n",
    "print(df_dataset_import.groupby('CLASS').size())"
   ]
  },
  {
   "cell_type": "markdown",
   "metadata": {
    "id": "wfaoKiSdwXjG"
   },
   "source": [
    "### 1.d) Data Cleaning"
   ]
  },
  {
   "cell_type": "code",
   "execution_count": 13,
   "metadata": {
    "colab": {
     "base_uri": "https://localhost:8080/"
    },
    "id": "KujRTYu5wXjG",
    "outputId": "bde95e06-87b1-4cf3-fe8f-af041d369ff0"
   },
   "outputs": [
    {
     "name": "stdout",
     "output_type": "stream",
     "text": [
      "   SIZE      FUEL  DISTANCE  DESIBEL  AIRFLOW  FREQUENCY  target\n",
      "0     1  gasoline        10       96      0.0         75       0\n",
      "1     1  gasoline        10       96      0.0         72       1\n",
      "2     1  gasoline        10       96      2.6         70       1\n",
      "3     1  gasoline        10       96      3.2         68       1\n",
      "4     1  gasoline        10      109      4.5         67       1\n"
     ]
    }
   ],
   "source": [
    "# Standardize the class column to the name of targetVar if required\n",
    "df_dataset_import = df_dataset_import.rename(columns={'CLASS': 'target'})\n",
    "\n",
    "# Take a peek at the dataframe after cleaning\n",
    "print(df_dataset_import.head())"
   ]
  },
  {
   "cell_type": "code",
   "execution_count": 14,
   "metadata": {
    "colab": {
     "base_uri": "https://localhost:8080/"
    },
    "id": "ZprOE1B0wXjH",
    "outputId": "15a54dc9-ea93-4996-b0dc-a244ed23c127"
   },
   "outputs": [
    {
     "name": "stdout",
     "output_type": "stream",
     "text": [
      "<class 'pandas.core.frame.DataFrame'>\n",
      "RangeIndex: 17442 entries, 0 to 17441\n",
      "Data columns (total 7 columns):\n",
      " #   Column     Non-Null Count  Dtype  \n",
      "---  ------     --------------  -----  \n",
      " 0   SIZE       17442 non-null  int64  \n",
      " 1   FUEL       17442 non-null  object \n",
      " 2   DISTANCE   17442 non-null  int64  \n",
      " 3   DESIBEL    17442 non-null  int64  \n",
      " 4   AIRFLOW    17442 non-null  float64\n",
      " 5   FREQUENCY  17442 non-null  int64  \n",
      " 6   target     17442 non-null  int64  \n",
      "dtypes: float64(1), int64(5), object(1)\n",
      "memory usage: 954.0+ KB\n"
     ]
    }
   ],
   "source": [
    "df_dataset_import.info(verbose=True)"
   ]
  },
  {
   "cell_type": "code",
   "execution_count": 15,
   "metadata": {
    "colab": {
     "base_uri": "https://localhost:8080/"
    },
    "id": "QgyI5VZ1wXjH",
    "outputId": "56d27ba8-4867-4536-ab77-5f017102006e"
   },
   "outputs": [
    {
     "name": "stdout",
     "output_type": "stream",
     "text": [
      "               SIZE      DISTANCE       DESIBEL       AIRFLOW     FREQUENCY  \\\n",
      "count  17442.000000  17442.000000  17442.000000  17442.000000  17442.000000   \n",
      "mean       3.411765    100.000000     96.379142      6.975634     31.611111   \n",
      "std        1.750977     54.773826      8.164096      4.736169     20.939149   \n",
      "min        1.000000     10.000000     72.000000      0.000000      1.000000   \n",
      "25%        2.000000     50.000000     90.000000      3.200000     14.000000   \n",
      "50%        3.000000    100.000000     95.000000      5.800000     27.500000   \n",
      "75%        5.000000    150.000000    104.000000     11.200000     47.000000   \n",
      "max        7.000000    190.000000    113.000000     17.000000     75.000000   \n",
      "\n",
      "             target  \n",
      "count  17442.000000  \n",
      "mean       0.497821  \n",
      "std        0.500010  \n",
      "min        0.000000  \n",
      "25%        0.000000  \n",
      "50%        0.000000  \n",
      "75%        1.000000  \n",
      "max        1.000000  \n"
     ]
    }
   ],
   "source": [
    "print(df_dataset_import.describe())"
   ]
  },
  {
   "cell_type": "code",
   "execution_count": 16,
   "metadata": {
    "colab": {
     "base_uri": "https://localhost:8080/"
    },
    "id": "wz9iKsUswXjI",
    "outputId": "da2128d2-f4ef-43e8-dd1b-441908a27f10"
   },
   "outputs": [
    {
     "name": "stdout",
     "output_type": "stream",
     "text": [
      "SIZE         0\n",
      "FUEL         0\n",
      "DISTANCE     0\n",
      "DESIBEL      0\n",
      "AIRFLOW      0\n",
      "FREQUENCY    0\n",
      "target       0\n",
      "dtype: int64\n",
      "Total number of NaN in the dataframe:  0\n"
     ]
    }
   ],
   "source": [
    "print(df_dataset_import.isnull().sum())\n",
    "print('Total number of NaN in the dataframe: ', df_dataset_import.isnull().sum().sum())"
   ]
  },
  {
   "cell_type": "code",
   "execution_count": 17,
   "metadata": {},
   "outputs": [
    {
     "name": "stdout",
     "output_type": "stream",
     "text": [
      "target\n",
      "0    8759\n",
      "1    8683\n",
      "dtype: int64\n"
     ]
    }
   ],
   "source": [
    "# Get grouping size for the target variable\n",
    "print(df_dataset_import.groupby('target').size())"
   ]
  },
  {
   "cell_type": "markdown",
   "metadata": {
    "id": "0ZBQ1s2bwXjI"
   },
   "source": [
    "### 1.e) Splitting Data into Sets"
   ]
  },
  {
   "cell_type": "code",
   "execution_count": 18,
   "metadata": {},
   "outputs": [
    {
     "name": "stdout",
     "output_type": "stream",
     "text": [
      "df_dataset_train.shape: (14825, 7) df_dataset_test.shape: (2617, 7)\n"
     ]
    }
   ],
   "source": [
    "# Split the data further into training and test datasets\n",
    "df_dataset_train, df_dataset_test = train_test_split(df_dataset_import, test_size=TEST_SET_RATIO, random_state=RNG_SEED,\n",
    "                                                     stratify=df_dataset_import['target'])\n",
    "print(\"df_dataset_train.shape: {} df_dataset_test.shape: {}\".format(df_dataset_train.shape, df_dataset_test.shape))"
   ]
  },
  {
   "cell_type": "code",
   "execution_count": 19,
   "metadata": {
    "colab": {
     "base_uri": "https://localhost:8080/"
    },
    "id": "QNydPt1uwXjI",
    "outputId": "b9e0b0b4-4558-4c22-9f26-f0a69279818a"
   },
   "outputs": [
    {
     "name": "stdout",
     "output_type": "stream",
     "text": [
      "df_dataset_train.shape: (14825, 7) df_features_train.shape: (14825, 6) df_target_train.shape: (14825,)\n"
     ]
    }
   ],
   "source": [
    "# Use variable total_column_count to hold the number of columns in the dataframe\n",
    "total_column_count = len(df_dataset_import.columns)\n",
    "\n",
    "# Set up variable total_feature_count for the total number of attribute columns\n",
    "total_feature_count = total_column_count-1\n",
    "\n",
    "# We create attribute-only and target-only datasets (df_features_train and df_target_train)\n",
    "df_target_train = df_dataset_train['target']\n",
    "df_features_train = df_dataset_train.drop(['target'], axis=1)\n",
    "\n",
    "print(\"df_dataset_train.shape: {} df_features_train.shape: {} df_target_train.shape: {}\".format(df_dataset_train.shape, df_features_train.shape, df_target_train.shape))"
   ]
  },
  {
   "cell_type": "markdown",
   "metadata": {
    "id": "VKU_2CL74vh-"
   },
   "source": [
    "### 1.f) Set up the parameters for data visualization"
   ]
  },
  {
   "cell_type": "code",
   "execution_count": 20,
   "metadata": {
    "id": "7D9OChW94yP0"
   },
   "outputs": [],
   "source": [
    "# Set up the number of row and columns for visualization display. display_rows * display_columns should be >= total_feature_count\n",
    "display_columns = 4\n",
    "if total_feature_count % display_columns == 0 :\n",
    "    display_rows = total_feature_count // display_columns\n",
    "else :\n",
    "    display_rows = (total_feature_count // display_columns) + 1\n",
    "    \n",
    "# Set figure width to display the data visualization plots\n",
    "fig_size = plt.rcParams[\"figure.figsize\"]\n",
    "fig_size[0] = display_columns * 4\n",
    "fig_size[1] = display_rows * 4\n",
    "plt.rcParams[\"figure.figsize\"] = fig_size"
   ]
  },
  {
   "cell_type": "code",
   "execution_count": 21,
   "metadata": {
    "id": "YLRgAYnMwXjJ"
   },
   "outputs": [],
   "source": [
    "if NOTIFY_STATUS: status_notify(\"Task 1 - Prepare Environment completed! \"+datetime.now().strftime('%a %B %d, %Y %I:%M:%S %p'))"
   ]
  },
  {
   "cell_type": "markdown",
   "metadata": {
    "id": "ZivQJCZowXjK"
   },
   "source": [
    "## Task 2 - Summarize and Visualize Data"
   ]
  },
  {
   "cell_type": "code",
   "execution_count": 22,
   "metadata": {
    "id": "F5H90pxZwXjK"
   },
   "outputs": [],
   "source": [
    "if NOTIFY_STATUS: status_notify(\"Task 2 - Summarize and Visualize Data has begun! \"+datetime.now().strftime('%a %B %d, %Y %I:%M:%S %p'))"
   ]
  },
  {
   "cell_type": "code",
   "execution_count": 23,
   "metadata": {
    "colab": {
     "base_uri": "https://localhost:8080/",
     "height": 919
    },
    "id": "OBhr7SGRwXjK",
    "outputId": "3b3dc20f-b962-414c-b891-e530b1dd3d6a",
    "tags": []
   },
   "outputs": [
    {
     "data": {
      "image/png": "[encoded data removed]",
      "text/plain": [
       "<Figure size 1152x576 with 8 Axes>"
      ]
     },
     "metadata": {
      "needs_background": "light"
     },
     "output_type": "display_data"
    }
   ],
   "source": [
    "# Histograms for each attribute\n",
    "df_features_train.plot(kind='hist', subplots=True, layout=(display_rows, display_columns))\n",
    "plt.show()"
   ]
  },
  {
   "cell_type": "code",
   "execution_count": 24,
   "metadata": {
    "colab": {
     "base_uri": "https://localhost:8080/",
     "height": 918
    },
    "id": "NHtCofAgwXjL",
    "outputId": "b7393adf-cc8e-4739-95f4-6820bde2b8e7"
   },
   "outputs": [
    {
     "data": {
      "image/png": "[encoded data removed]",
      "text/plain": [
       "<Figure size 1152x576 with 8 Axes>"
      ]
     },
     "metadata": {
      "needs_background": "light"
     },
     "output_type": "display_data"
    }
   ],
   "source": [
    "# Box and Whisker plot for each attribute\n",
    "df_features_train.plot(kind='box', subplots=True, layout=(display_rows, display_columns))\n",
    "plt.show()"
   ]
  },
  {
   "cell_type": "code",
   "execution_count": 25,
   "metadata": {
    "colab": {
     "base_uri": "https://localhost:8080/",
     "height": 1000
    },
    "id": "HXUm5_nkwXjL",
    "outputId": "8aa7e071-d983-4609-a04b-37532cdfece2"
   },
   "outputs": [
    {
     "data": {
      "image/png": "[encoded data removed]",
      "text/plain": [
       "<Figure size 1440x1440 with 2 Axes>"
      ]
     },
     "metadata": {
      "needs_background": "light"
     },
     "output_type": "display_data"
    }
   ],
   "source": [
    "# Correlation matrix\n",
    "fig = plt.figure(figsize=(20, 20))\n",
    "correlations = df_features_train.corr(method='pearson')\n",
    "sns.heatmap(correlations, annot=True, cmap=plt.cm.PuBu)\n",
    "plt.show()"
   ]
  },
  {
   "cell_type": "code",
   "execution_count": 26,
   "metadata": {
    "id": "yHcRjiadwXjL"
   },
   "outputs": [],
   "source": [
    "if NOTIFY_STATUS: status_notify(\"Task 2 - Summarize and Visualize Data completed! \"+datetime.now().strftime('%a %B %d, %Y %I:%M:%S %p'))"
   ]
  },
  {
   "cell_type": "markdown",
   "metadata": {
    "id": "-8rH-HXuwXjM"
   },
   "source": [
    "## Task 3 - Train and Evaluate Models"
   ]
  },
  {
   "cell_type": "code",
   "execution_count": 27,
   "metadata": {
    "id": "UnD36SUzwXjM"
   },
   "outputs": [],
   "source": [
    "if NOTIFY_STATUS: status_notify(\"Task 3 - Train and Evaluate Models has begun! \"+datetime.now().strftime('%a %B %d, %Y %I:%M:%S %p'))"
   ]
  },
  {
   "cell_type": "markdown",
   "metadata": {
    "id": "C5MXnEfq0-PW"
   },
   "source": [
    "### 3.a) Splitting Data into Training and Validation Sets"
   ]
  },
  {
   "cell_type": "code",
   "execution_count": 28,
   "metadata": {
    "id": "QY2ulFc8wXjR"
   },
   "outputs": [],
   "source": [
    "# Finalize the training and validation datasets for the modeling activities\n",
    "tfds_train = tfdf.keras.pd_dataframe_to_tf_dataset(df_dataset_train, label='target', task = tfdf.keras.Task.CLASSIFICATION)"
   ]
  },
  {
   "cell_type": "markdown",
   "metadata": {
    "id": "2_pts_ZN1J3g"
   },
   "source": [
    "### 3.b) Train and Evaluate the Random Forest Model"
   ]
  },
  {
   "cell_type": "code",
   "execution_count": 29,
   "metadata": {
    "colab": {
     "base_uri": "https://localhost:8080/"
    },
    "id": "Bbls2rTF3l8E",
    "outputId": "a17264ef-6667-4e13-8cdb-646d1f536ac1"
   },
   "outputs": [
    {
     "name": "stdout",
     "output_type": "stream",
     "text": [
      "Use /tmp/tmpyiapq_q2 as temporary training directory\n",
      "Starting reading the dataset\n",
      "11/15 [=====================>........] - ETA: 0s \n",
      "Dataset read in 0:00:03.251559\n",
      "Training model\n",
      "Model trained in 0:00:01.135207\n",
      "Compiling model\n"
     ]
    },
    {
     "name": "stderr",
     "output_type": "stream",
     "text": [
      "[INFO kernel.cc:1153] Loading model from path\n"
     ]
    },
    {
     "name": "stdout",
     "output_type": "stream",
     "text": [
      "15/15 [==============================] - 5s 128ms/step\n"
     ]
    },
    {
     "name": "stderr",
     "output_type": "stream",
     "text": [
      "[INFO abstract_model.cc:1063] Engine \"RandomForestOptPred\" built\n",
      "[INFO kernel.cc:1001] Use fast generic engine\n"
     ]
    },
    {
     "name": "stdout",
     "output_type": "stream",
     "text": [
      "WARNING:tensorflow:AutoGraph could not transform <function simple_ml_inference_op_with_handle at 0x7eff037323a0> and will run it as-is.\n",
      "Please report this to the TensorFlow team. When filing the bug, set the verbosity to 10 (on Linux, `export AUTOGRAPH_VERBOSITY=10`) and attach the full output.\n",
      "Cause: could not get source code\n",
      "To silence this warning, decorate the function with @tf.autograph.experimental.do_not_convert\n"
     ]
    },
    {
     "name": "stderr",
     "output_type": "stream",
     "text": [
      "WARNING:tensorflow:AutoGraph could not transform <function simple_ml_inference_op_with_handle at 0x7eff037323a0> and will run it as-is.\n",
      "Please report this to the TensorFlow team. When filing the bug, set the verbosity to 10 (on Linux, `export AUTOGRAPH_VERBOSITY=10`) and attach the full output.\n",
      "Cause: could not get source code\n",
      "To silence this warning, decorate the function with @tf.autograph.experimental.do_not_convert\n"
     ]
    },
    {
     "name": "stdout",
     "output_type": "stream",
     "text": [
      "WARNING: AutoGraph could not transform <function simple_ml_inference_op_with_handle at 0x7eff037323a0> and will run it as-is.\n",
      "Please report this to the TensorFlow team. When filing the bug, set the verbosity to 10 (on Linux, `export AUTOGRAPH_VERBOSITY=10`) and attach the full output.\n",
      "Cause: could not get source code\n",
      "To silence this warning, decorate the function with @tf.autograph.experimental.do_not_convert\n",
      "Model training time: 0:00:06.491471 \n",
      "\n"
     ]
    }
   ],
   "source": [
    "# Define the baseline model for benchmarking\n",
    "start_time_module = datetime.now()\n",
    "reset_random()\n",
    "RF_model = tfdf.keras.RandomForestModel(task = tfdf.keras.Task.CLASSIFICATION)\n",
    "RF_model.compile(metrics=DEFAULT_METRICS)\n",
    "\n",
    "# \"sys_pipes\" is optional. It enables the display of the training logs.\n",
    "# with sys_pipes():\n",
    "#     RF_model.fit(x=tfds_train)\n",
    "\n",
    "# Train the model.\n",
    "RF_model.fit(x=tfds_train)\n",
    "print ('Model training time:', (datetime.now() - start_time_module), '\\n')"
   ]
  },
  {
   "cell_type": "code",
   "execution_count": 30,
   "metadata": {
    "colab": {
     "base_uri": "https://localhost:8080/",
     "height": 279
    },
    "id": "QWxbO2EXcbEJ",
    "outputId": "dc419e7e-9d65-4d5b-cb67-7ddc263a49f8"
   },
   "outputs": [
    {
     "data": {
      "image/png": "[encoded data removed]",
      "text/plain": [
       "<Figure size 1296x432 with 2 Axes>"
      ]
     },
     "metadata": {
      "needs_background": "light"
     },
     "output_type": "display_data"
    }
   ],
   "source": [
    "logs = RF_model.make_inspector().training_logs()\n",
    "\n",
    "plt.figure(figsize=(18, 6))\n",
    "plt.subplot(1, 2, 1)\n",
    "plt.plot([log.num_trees for log in logs], [log.evaluation.accuracy for log in logs])\n",
    "plt.xlabel(\"Number of trees\")\n",
    "plt.ylabel(\"Accuracy (out-of-bag)\")\n",
    "plt.subplot(1, 2, 2)\n",
    "plt.plot([log.num_trees for log in logs], [log.evaluation.loss for log in logs])\n",
    "plt.xlabel(\"Number of trees\")\n",
    "plt.ylabel(\"Log Loss (out-of-bag)\")\n",
    "plt.show()"
   ]
  },
  {
   "cell_type": "code",
   "execution_count": 31,
   "metadata": {},
   "outputs": [
    {
     "name": "stdout",
     "output_type": "stream",
     "text": [
      "15/15 [==============================] - 1s 28ms/step - loss: 0.0000e+00 - accuracy: 0.9890 - auc: 0.9995\n",
      "\n",
      "loss: 0.0000\n",
      "accuracy: 0.9890\n",
      "auc: 0.9995\n"
     ]
    }
   ],
   "source": [
    "RF_eval = RF_model.evaluate(tfds_train, return_dict=True)\n",
    "print()\n",
    "\n",
    "for name, value in RF_eval.items():\n",
    "    print(f\"{name}: {value:.4f}\")"
   ]
  },
  {
   "cell_type": "markdown",
   "metadata": {
    "id": "wa3Dfugd1U4P"
   },
   "source": [
    "### 3.c) Train and Evaluate the Decision Trees Model"
   ]
  },
  {
   "cell_type": "code",
   "execution_count": 32,
   "metadata": {
    "colab": {
     "base_uri": "https://localhost:8080/"
    },
    "id": "bDPPbOgPFCBF",
    "outputId": "83cd116d-d49f-4ab2-9147-2f2c45a0548f"
   },
   "outputs": [
    {
     "name": "stdout",
     "output_type": "stream",
     "text": [
      "Use /tmp/tmpifytbju2 as temporary training directory\n",
      "Starting reading the dataset\n",
      "10/15 [===================>..........] - ETA: 0s\n",
      "Dataset read in 0:00:00.175964\n",
      "Training model\n",
      "Model trained in 0:00:00.021079\n",
      "Compiling model\n",
      "15/15 [==============================] - 0s 7ms/step\n",
      "Model training time: 0:00:00.325388 \n",
      "\n"
     ]
    },
    {
     "name": "stderr",
     "output_type": "stream",
     "text": [
      "[INFO kernel.cc:1153] Loading model from path\n",
      "[INFO kernel.cc:1001] Use fast generic engine\n"
     ]
    }
   ],
   "source": [
    "# Define the baseline model for benchmarking\n",
    "start_time_module = datetime.now()\n",
    "reset_random()\n",
    "CART_model = tfdf.keras.CartModel(task = tfdf.keras.Task.CLASSIFICATION)\n",
    "CART_model.compile(metrics=DEFAULT_METRICS)\n",
    "\n",
    "# \"sys_pipes\" is optional. It enables the display of the training logs.\n",
    "# with sys_pipes():\n",
    "#     CART_model.fit(x=tfds_train)\n",
    "\n",
    "# Train the model.\n",
    "CART_model.fit(x=tfds_train)\n",
    "print ('Model training time:', (datetime.now() - start_time_module), '\\n')"
   ]
  },
  {
   "cell_type": "code",
   "execution_count": 33,
   "metadata": {},
   "outputs": [
    {
     "name": "stdout",
     "output_type": "stream",
     "text": [
      "15/15 [==============================] - 1s 5ms/step - loss: 0.0000e+00 - accuracy: 0.9512 - auc: 0.9947\n",
      "\n",
      "loss: 0.0000\n",
      "accuracy: 0.9512\n",
      "auc: 0.9947\n"
     ]
    }
   ],
   "source": [
    "CART_eval = CART_model.evaluate(tfds_train, return_dict=True)\n",
    "print()\n",
    "\n",
    "for name, value in CART_eval.items():\n",
    "    print(f\"{name}: {value:.4f}\")"
   ]
  },
  {
   "cell_type": "markdown",
   "metadata": {
    "id": "zVCQJVv21m86"
   },
   "source": [
    "### 3.d) Train and Evaluate the Gradient Boosted Trees Model"
   ]
  },
  {
   "cell_type": "code",
   "execution_count": 34,
   "metadata": {
    "colab": {
     "base_uri": "https://localhost:8080/"
    },
    "id": "ogW3JeatFDRS",
    "outputId": "306052c2-75dc-4e38-e7e4-5f578f5df113"
   },
   "outputs": [
    {
     "name": "stdout",
     "output_type": "stream",
     "text": [
      "Use /tmp/tmpifefh09j as temporary training directory\n",
      "Starting reading the dataset\n",
      "11/15 [=====================>........] - ETA: 0s\n",
      "Dataset read in 0:00:00.178184\n",
      "Training model\n",
      "Model trained in 0:00:04.122599\n",
      "Compiling model\n",
      "15/15 [==============================] - 4s 303ms/step\n",
      "Model training time: 0:00:04.476859 \n",
      "\n"
     ]
    },
    {
     "name": "stderr",
     "output_type": "stream",
     "text": [
      "[INFO kernel.cc:1153] Loading model from path\n",
      "[INFO kernel.cc:1001] Use fast generic engine\n"
     ]
    }
   ],
   "source": [
    "# Define the baseline model for benchmarking\n",
    "start_time_module = datetime.now()\n",
    "reset_random()\n",
    "GBT_model = tfdf.keras.GradientBoostedTreesModel(task = tfdf.keras.Task.CLASSIFICATION)\n",
    "GBT_model.compile(metrics=DEFAULT_METRICS)\n",
    "\n",
    "# \"sys_pipes\" is optional. It enables the display of the training logs.\n",
    "# with sys_pipes():\n",
    "#     GBT_model.fit(x=tfds_train)\n",
    "\n",
    "# Train the model.\n",
    "GBT_model.fit(x=tfds_train)\n",
    "print ('Model training time:', (datetime.now() - start_time_module), '\\n')"
   ]
  },
  {
   "cell_type": "code",
   "execution_count": 35,
   "metadata": {
    "colab": {
     "base_uri": "https://localhost:8080/",
     "height": 279
    },
    "id": "e0K_RY-tkUDo",
    "outputId": "53222f5e-ab04-46ca-eeff-0f3b37e44057"
   },
   "outputs": [
    {
     "data": {
      "image/png": "[encoded data removed]",
      "text/plain": [
       "<Figure size 1296x432 with 2 Axes>"
      ]
     },
     "metadata": {
      "needs_background": "light"
     },
     "output_type": "display_data"
    }
   ],
   "source": [
    "logs = GBT_model.make_inspector().training_logs()\n",
    "\n",
    "plt.figure(figsize=(18, 6))\n",
    "plt.subplot(1, 2, 1)\n",
    "plt.plot([log.num_trees for log in logs], [log.evaluation.accuracy for log in logs])\n",
    "plt.xlabel(\"Number of trees\")\n",
    "plt.ylabel(\"Accuracy (out-of-bag)\")\n",
    "plt.subplot(1, 2, 2)\n",
    "plt.plot([log.num_trees for log in logs], [log.evaluation.loss for log in logs])\n",
    "plt.xlabel(\"Number of trees\")\n",
    "plt.ylabel(\"Log Loss (out-of-bag)\")\n",
    "plt.show()"
   ]
  },
  {
   "cell_type": "code",
   "execution_count": 36,
   "metadata": {},
   "outputs": [
    {
     "name": "stdout",
     "output_type": "stream",
     "text": [
      "15/15 [==============================] - 0s 11ms/step - loss: 0.0000e+00 - accuracy: 0.9926 - auc: 0.9968\n",
      "\n",
      "loss: 0.0000\n",
      "accuracy: 0.9926\n",
      "auc: 0.9968\n"
     ]
    }
   ],
   "source": [
    "GBT_eval = GBT_model.evaluate(tfds_train, return_dict=True)\n",
    "print()\n",
    "\n",
    "for name, value in GBT_eval.items():\n",
    "    print(f\"{name}: {value:.4f}\")"
   ]
  },
  {
   "cell_type": "code",
   "execution_count": 37,
   "metadata": {
    "collapsed": false,
    "id": "g2ZPK8-5wXjU",
    "jupyter": {
     "outputs_hidden": false
    },
    "pycharm": {
     "name": "#%%\n"
    }
   },
   "outputs": [],
   "source": [
    "if NOTIFY_STATUS: status_notify(\"Task 4 - Train and Evaluate Models completed! \"+datetime.now().strftime('%a %B %d, %Y %I:%M:%S %p'))"
   ]
  },
  {
   "cell_type": "markdown",
   "metadata": {
    "id": "ISyQ5uNrwXjU"
   },
   "source": [
    "## Task 4 - Fine-tune and Improve Models"
   ]
  },
  {
   "cell_type": "code",
   "execution_count": 38,
   "metadata": {
    "id": "l3AulRWbzzOz"
   },
   "outputs": [],
   "source": [
    "if NOTIFY_STATUS: status_notify(\"Task 4 - Fine-tune and Improve Models has begun! \"+datetime.now().strftime('%a %B %d, %Y %I:%M:%S %p'))"
   ]
  },
  {
   "cell_type": "code",
   "execution_count": 39,
   "metadata": {
    "colab": {
     "base_uri": "https://localhost:8080/"
    },
    "id": "vlCLtsxjzQ2V",
    "outputId": "d9f88304-2cb0-45f6-9d9b-81bb1be7d1c7"
   },
   "outputs": [],
   "source": [
    "# Not applicable for this iteration of modeling"
   ]
  },
  {
   "cell_type": "code",
   "execution_count": 40,
   "metadata": {
    "id": "orMchSDCzr07"
   },
   "outputs": [],
   "source": [
    "if NOTIFY_STATUS: status_notify(\"Task 4 - Fine-tune and Improve Models completed! \"+datetime.now().strftime('%a %B %d, %Y %I:%M:%S %p'))"
   ]
  },
  {
   "cell_type": "markdown",
   "metadata": {
    "id": "D7UgYoGuzaM-"
   },
   "source": [
    "## Task 5 - Finalize Model and Present Analysis"
   ]
  },
  {
   "cell_type": "code",
   "execution_count": 41,
   "metadata": {
    "id": "BhuD5C56wXjV"
   },
   "outputs": [],
   "source": [
    "if NOTIFY_STATUS: status_notify(\"Task 5 - Finalize Model and Present Analysis has begun! \"+datetime.now().strftime('%a %B %d, %Y %I:%M:%S %p'))"
   ]
  },
  {
   "cell_type": "markdown",
   "metadata": {
    "id": "xDcJ2kVE8xNI"
   },
   "source": [
    "### 5.a) Train the Final Model"
   ]
  },
  {
   "cell_type": "code",
   "execution_count": 42,
   "metadata": {
    "colab": {
     "base_uri": "https://localhost:8080/"
    },
    "id": "dsntMWlJwXjV",
    "outputId": "30950585-eb2b-44de-a60f-b2d0a0444aea"
   },
   "outputs": [
    {
     "name": "stdout",
     "output_type": "stream",
     "text": [
      "Use /tmp/tmpmmebmdxv as temporary training directory\n",
      "Starting reading the dataset\n",
      "12/15 [=======================>......] - ETA: 0s\n",
      "Dataset read in 0:00:00.178780\n",
      "Training model\n",
      "Model trained in 0:00:04.088960\n",
      "Compiling model\n",
      "15/15 [==============================] - 4s 300ms/step\n",
      "Model training time: 0:00:04.470013 \n",
      "\n"
     ]
    },
    {
     "name": "stderr",
     "output_type": "stream",
     "text": [
      "[INFO kernel.cc:1153] Loading model from path\n",
      "[INFO abstract_model.cc:1063] Engine \"GradientBoostedTreesQuickScorerExtended\" built\n",
      "[INFO kernel.cc:1001] Use fast generic engine\n"
     ]
    }
   ],
   "source": [
    "# Define the baseline model for benchmarking\n",
    "start_time_module = datetime.now()\n",
    "reset_random()\n",
    "Final_model = tfdf.keras.GradientBoostedTreesModel(task = tfdf.keras.Task.CLASSIFICATION)\n",
    "\n",
    "# Optionally, add evaluation metrics.\n",
    "Final_model.compile(metrics=DEFAULT_METRICS)\n",
    "\n",
    "# \"sys_pipes\" is optional. It enables the display of the training logs.\n",
    "# with sys_pipes():\n",
    "#     Final_model.fit(x=tfds_train)\n",
    "\n",
    "# Train the model.\n",
    "Final_model.fit(x=tfds_train)\n",
    "print ('Model training time:', (datetime.now() - start_time_module), '\\n')"
   ]
  },
  {
   "cell_type": "code",
   "execution_count": 43,
   "metadata": {
    "colab": {
     "base_uri": "https://localhost:8080/"
    },
    "id": "IuwcWWXF89YM",
    "outputId": "8c7eda00-c5ca-4c03-8cdc-4cb0f34f22bc"
   },
   "outputs": [
    {
     "name": "stdout",
     "output_type": "stream",
     "text": [
      "Model: \"gradient_boosted_trees_model_1\"\n",
      "_________________________________________________________________\n",
      " Layer (type)                Output Shape              Param #   \n",
      "=================================================================\n",
      "=================================================================\n",
      "Total params: 1\n",
      "Trainable params: 0\n",
      "Non-trainable params: 1\n",
      "_________________________________________________________________\n",
      "Type: \"GRADIENT_BOOSTED_TREES\"\n",
      "Task: CLASSIFICATION\n",
      "Label: \"__LABEL\"\n",
      "\n",
      "Input Features (6):\n",
      "\tAIRFLOW\n",
      "\tDESIBEL\n",
      "\tDISTANCE\n",
      "\tFREQUENCY\n",
      "\tFUEL\n",
      "\tSIZE\n",
      "\n",
      "No weights\n",
      "\n",
      "Variable Importance: MEAN_MIN_DEPTH:\n",
      "    1.   \"__LABEL\"  4.973915 ################\n",
      "    2.   \"DESIBEL\"  4.626357 ##############\n",
      "    3.      \"FUEL\"  3.453395 ########\n",
      "    4.      \"SIZE\"  2.802992 ####\n",
      "    5.   \"AIRFLOW\"  2.501675 ###\n",
      "    6. \"FREQUENCY\"  2.467306 ##\n",
      "    7.  \"DISTANCE\"  1.927991 \n",
      "\n",
      "Variable Importance: NUM_AS_ROOT:\n",
      "    1.  \"DISTANCE\" 97.000000 ################\n",
      "    2.   \"AIRFLOW\" 74.000000 ############\n",
      "    3. \"FREQUENCY\" 61.000000 ##########\n",
      "    4.      \"SIZE\" 61.000000 ##########\n",
      "    5.      \"FUEL\"  6.000000 \n",
      "    6.   \"DESIBEL\"  1.000000 \n",
      "\n",
      "Variable Importance: NUM_NODES:\n",
      "    1. \"FREQUENCY\" 1940.000000 ################\n",
      "    2.      \"SIZE\" 1863.000000 ###############\n",
      "    3.   \"AIRFLOW\" 1808.000000 ##############\n",
      "    4.  \"DISTANCE\" 1642.000000 ############\n",
      "    5.      \"FUEL\" 1291.000000 ########\n",
      "    6.   \"DESIBEL\" 509.000000 \n",
      "\n",
      "Variable Importance: SUM_SCORE:\n",
      "    1.   \"AIRFLOW\" 11163.421999 ################\n",
      "    2. \"FREQUENCY\" 1675.601214 ##\n",
      "    3.      \"SIZE\" 1356.979880 #\n",
      "    4.  \"DISTANCE\" 1167.761940 #\n",
      "    5.      \"FUEL\" 863.023118 #\n",
      "    6.   \"DESIBEL\" 73.505459 \n",
      "\n",
      "\n",
      "\n",
      "Loss: BINOMIAL_LOG_LIKELIHOOD\n",
      "Validation loss value: 0.135202\n",
      "Number of trees per iteration: 1\n",
      "Node format: NOT_SET\n",
      "Number of trees: 300\n",
      "Total number of nodes: 18406\n",
      "\n",
      "Number of nodes by tree:\n",
      "Count: 300 Average: 61.3533 StdDev: 2.53939\n",
      "Min: 49 Max: 63 Ignored: 0\n",
      "----------------------------------------------\n",
      "[ 49, 50)   2   0.67%   0.67%\n",
      "[ 50, 51)   0   0.00%   0.67%\n",
      "[ 51, 52)   4   1.33%   2.00%\n",
      "[ 52, 53)   0   0.00%   2.00%\n",
      "[ 53, 54)   0   0.00%   2.00%\n",
      "[ 54, 55)   0   0.00%   2.00%\n",
      "[ 55, 56)   6   2.00%   4.00%\n",
      "[ 56, 57)   0   0.00%   4.00%\n",
      "[ 57, 58)  14   4.67%   8.67% #\n",
      "[ 58, 59)   0   0.00%   8.67%\n",
      "[ 59, 60)  40  13.33%  22.00% ##\n",
      "[ 60, 61)   0   0.00%  22.00%\n",
      "[ 61, 62)  63  21.00%  43.00% ####\n",
      "[ 62, 63)   0   0.00%  43.00%\n",
      "[ 63, 63] 171  57.00% 100.00% ##########\n",
      "\n",
      "Depth by leafs:\n",
      "Count: 9353 Average: 4.97552 StdDev: 0.166534\n",
      "Min: 3 Max: 5 Ignored: 0\n",
      "----------------------------------------------\n",
      "[ 3, 4)   18   0.19%   0.19%\n",
      "[ 4, 5)  193   2.06%   2.26%\n",
      "[ 5, 5] 9142  97.74% 100.00% ##########\n",
      "\n",
      "Number of training obs by leaf:\n",
      "Count: 9353 Average: 428.333 StdDev: 704.482\n",
      "Min: 5 Max: 6254 Ignored: 0\n",
      "----------------------------------------------\n",
      "[    5,  317) 6146  65.71%  65.71% ##########\n",
      "[  317,  630) 1374  14.69%  80.40% ##\n",
      "[  630,  942)  639   6.83%  87.23% #\n",
      "[  942, 1255)  341   3.65%  90.88% #\n",
      "[ 1255, 1567)  235   2.51%  93.39%\n",
      "[ 1567, 1880)  128   1.37%  94.76%\n",
      "[ 1880, 2192)  125   1.34%  96.10%\n",
      "[ 2192, 2505)   93   0.99%  97.09%\n",
      "[ 2505, 2817)   74   0.79%  97.88%\n",
      "[ 2817, 3130)   51   0.55%  98.43%\n",
      "[ 3130, 3442)   49   0.52%  98.95%\n",
      "[ 3442, 3755)   33   0.35%  99.31%\n",
      "[ 3755, 4067)   20   0.21%  99.52%\n",
      "[ 4067, 4380)   16   0.17%  99.69%\n",
      "[ 4380, 4692)    5   0.05%  99.74%\n",
      "[ 4692, 5005)    7   0.07%  99.82%\n",
      "[ 5005, 5317)    6   0.06%  99.88%\n",
      "[ 5317, 5630)    2   0.02%  99.90%\n",
      "[ 5630, 5942)    7   0.07%  99.98%\n",
      "[ 5942, 6254]    2   0.02% 100.00%\n",
      "\n",
      "Attribute in nodes:\n",
      "\t1940 : FREQUENCY [NUMERICAL]\n",
      "\t1863 : SIZE [NUMERICAL]\n",
      "\t1808 : AIRFLOW [NUMERICAL]\n",
      "\t1642 : DISTANCE [NUMERICAL]\n",
      "\t1291 : FUEL [CATEGORICAL]\n",
      "\t509 : DESIBEL [NUMERICAL]\n",
      "\n",
      "Attribute in nodes with depth <= 0:\n",
      "\t97 : DISTANCE [NUMERICAL]\n",
      "\t74 : AIRFLOW [NUMERICAL]\n",
      "\t61 : SIZE [NUMERICAL]\n",
      "\t61 : FREQUENCY [NUMERICAL]\n",
      "\t6 : FUEL [CATEGORICAL]\n",
      "\t1 : DESIBEL [NUMERICAL]\n",
      "\n",
      "Attribute in nodes with depth <= 1:\n",
      "\t241 : AIRFLOW [NUMERICAL]\n",
      "\t217 : FREQUENCY [NUMERICAL]\n",
      "\t213 : DISTANCE [NUMERICAL]\n",
      "\t129 : SIZE [NUMERICAL]\n",
      "\t97 : FUEL [CATEGORICAL]\n",
      "\t3 : DESIBEL [NUMERICAL]\n",
      "\n",
      "Attribute in nodes with depth <= 2:\n",
      "\t525 : DISTANCE [NUMERICAL]\n",
      "\t469 : FREQUENCY [NUMERICAL]\n",
      "\t428 : AIRFLOW [NUMERICAL]\n",
      "\t353 : SIZE [NUMERICAL]\n",
      "\t256 : FUEL [CATEGORICAL]\n",
      "\t69 : DESIBEL [NUMERICAL]\n",
      "\n",
      "Attribute in nodes with depth <= 3:\n",
      "\t990 : FREQUENCY [NUMERICAL]\n",
      "\t915 : AIRFLOW [NUMERICAL]\n",
      "\t884 : DISTANCE [NUMERICAL]\n",
      "\t851 : SIZE [NUMERICAL]\n",
      "\t629 : FUEL [CATEGORICAL]\n",
      "\t213 : DESIBEL [NUMERICAL]\n",
      "\n",
      "Attribute in nodes with depth <= 5:\n",
      "\t1940 : FREQUENCY [NUMERICAL]\n",
      "\t1863 : SIZE [NUMERICAL]\n",
      "\t1808 : AIRFLOW [NUMERICAL]\n",
      "\t1642 : DISTANCE [NUMERICAL]\n",
      "\t1291 : FUEL [CATEGORICAL]\n",
      "\t509 : DESIBEL [NUMERICAL]\n",
      "\n",
      "Condition type in nodes:\n",
      "\t7762 : HigherCondition\n",
      "\t1291 : ContainsBitmapCondition\n",
      "Condition type in nodes with depth <= 0:\n",
      "\t294 : HigherCondition\n",
      "\t6 : ContainsBitmapCondition\n",
      "Condition type in nodes with depth <= 1:\n",
      "\t803 : HigherCondition\n",
      "\t97 : ContainsBitmapCondition\n",
      "Condition type in nodes with depth <= 2:\n",
      "\t1844 : HigherCondition\n",
      "\t256 : ContainsBitmapCondition\n",
      "Condition type in nodes with depth <= 3:\n",
      "\t3853 : HigherCondition\n",
      "\t629 : ContainsBitmapCondition\n",
      "Condition type in nodes with depth <= 5:\n",
      "\t7762 : HigherCondition\n",
      "\t1291 : ContainsBitmapCondition\n",
      "\n"
     ]
    }
   ],
   "source": [
    "Final_model.summary()"
   ]
  },
  {
   "cell_type": "markdown",
   "metadata": {
    "id": "vAzsJd7g9Oqi"
   },
   "source": [
    "### 5.b) Load Test Dataset and Make Predictions"
   ]
  },
  {
   "cell_type": "code",
   "execution_count": 44,
   "metadata": {
    "id": "9hPuYzYP9VZ9"
   },
   "outputs": [],
   "source": [
    "# Finalize the test dataset for the prediction activities\n",
    "tfds_test = tfdf.keras.pd_dataframe_to_tf_dataset(df_dataset_test, label='target', task = tfdf.keras.Task.CLASSIFICATION)"
   ]
  },
  {
   "cell_type": "code",
   "execution_count": 45,
   "metadata": {
    "colab": {
     "base_uri": "https://localhost:8080/"
    },
    "id": "-fvgenmXwXjV",
    "outputId": "90fe95c9-87a0-4db4-8559-73fe096fa2c4"
   },
   "outputs": [
    {
     "name": "stdout",
     "output_type": "stream",
     "text": [
      "3/3 [==============================] - 0s 10ms/step - loss: 0.0000e+00 - accuracy: 0.9782 - auc: 0.9969\n",
      "\n",
      "loss: 0.0000\n",
      "accuracy: 0.9782\n",
      "auc: 0.9969\n"
     ]
    }
   ],
   "source": [
    "Final_eval = Final_model.evaluate(tfds_test, return_dict=True)\n",
    "print()\n",
    "\n",
    "for name, value in Final_eval.items():\n",
    "    print(f\"{name}: {value:.4f}\")"
   ]
  },
  {
   "cell_type": "code",
   "execution_count": 46,
   "metadata": {
    "id": "YB2v5Iq9wXjV"
   },
   "outputs": [],
   "source": [
    "if NOTIFY_STATUS: status_notify(\"Task 5 - Finalize Model and Present Analysis completed! \"+datetime.now().strftime('%a %B %d, %Y %I:%M:%S %p'))"
   ]
  },
  {
   "cell_type": "code",
   "execution_count": 47,
   "metadata": {
    "colab": {
     "base_uri": "https://localhost:8080/"
    },
    "id": "piIVF1NIwXjW",
    "outputId": "c7511d15-bfc7-4492-fef5-e3d368115997"
   },
   "outputs": [
    {
     "name": "stdout",
     "output_type": "stream",
     "text": [
      "Total time for the script: 0:02:07.223127\n"
     ]
    }
   ],
   "source": [
    "print ('Total time for the script:',(datetime.now() - start_time_script))"
   ]
  }
 ],
 "metadata": {
  "colab": {
   "collapsed_sections": [],
   "name": "py_decisionforests_regression_kaggle_tabular_playground_2021jan.ipynb",
   "provenance": []
  },
  "kernelspec": {
   "display_name": "Python 3 (ipykernel)",
   "language": "python",
   "name": "python3"
  },
  "language_info": {
   "codemirror_mode": {
    "name": "ipython",
    "version": 3
   },
   "file_extension": ".py",
   "mimetype": "text/x-python",
   "name": "python",
   "nbconvert_exporter": "python",
   "pygments_lexer": "ipython3",
   "version": "3.8.10"
  }
 },
 "nbformat": 4,
 "nbformat_minor": 4
}

{
  "nbformat": 4,
  "nbformat_minor": 0,
  "metadata": {
    "accelerator": "GPU",
    "colab": {
      "name": "py_xgboost_binaryclass_kaggle_rice_seed_dataset.ipynb",
      "provenance": [],
      "collapsed_sections": []
    },
    "kernelspec": {
      "display_name": "Python 3 (ipykernel)",
      "language": "python",
      "name": "python3"
    },
    "language_info": {
      "codemirror_mode": {
        "name": "ipython",
        "version": 3
      },
      "file_extension": ".py",
      "mimetype": "text/x-python",
      "name": "python",
      "nbconvert_exporter": "python",
      "pygments_lexer": "ipython3",
      "version": "3.8.11"
    }
  },
  "cells": [
    {
      "cell_type": "markdown",
      "metadata": {
        "id": "TVs0Qopg3l7w"
      },
      "source": [
        "### Binary Classification Model for Kaggle Rice Seed Dataset Using Python and XGBoost\n",
        "### David Lowe\n",
        "### October 22, 2021\n",
        "\n",
        "Template Credit: Adapted from a template made available by Dr. Jason Brownlee of Machine Learning Mastery. [https://machinelearningmastery.com/]\n",
        "\n",
        "SUMMARY: This project aims to construct a predictive model using various machine learning algorithms and document the end-to-end steps using a template. The Kaggle Rice Seed dataset is a binary classification situation where we attempt to predict one of the two possible outcomes.\n",
        "\n",
        "INTRODUCTION: The dataset owner collected data on two different kinds of rice (Gonen and Jasmine). The goal is to train the best model that can correctly predict the rice crop.\n",
        "\n",
        "ANALYSIS: The performance of the preliminary XGBoost model achieved an accuracy benchmark of 0.9903. After a series of tuning trials, the refined XGBoost model processed the training dataset with a final score of 0.9903. When we applied the final model to the test dataset, the model achieved an accuracy score of 0.9879.\n",
        "\n",
        "CONCLUSION: In this iteration, the XGBoost model appeared to be a suitable algorithm for modeling this dataset.\n",
        "\n",
        "Dataset Used: Kaggle Rice Seed Dataset\n",
        "\n",
        "Dataset ML Model: Binary classification with numerical attributes\n",
        "\n",
        "Dataset Reference: https://www.kaggle.com/seymasa/rice-dataset-gonenjasmine\n",
        "\n",
        "One potential source of performance benchmark: https://www.kaggle.com/seymasa/rice-dataset-gonenjasmine\n",
        "\n",
        "Any predictive modeling machine learning project generally can be broken down into about six major tasks:\n",
        "\n",
        "1. Prepare Environment\n",
        "2. Summarize and Visualize Data\n",
        "3. Pre-process Data\n",
        "4. Train and Evaluate Models\n",
        "5. Fine-tune and Improve Models\n",
        "6. Finalize Model and Present Analysis"
      ]
    },
    {
      "cell_type": "markdown",
      "metadata": {
        "id": "XcvIFuk03l7z"
      },
      "source": [
        "## Task 1 - Prepare Environment"
      ]
    },
    {
      "cell_type": "code",
      "metadata": {
        "id": "Q8WmuNd23l70"
      },
      "source": [
        "# Install the necessary packages for Colab\n",
        "# !pip install python-dotenv PyMySQL"
      ],
      "execution_count": 1,
      "outputs": []
    },
    {
      "cell_type": "code",
      "metadata": {
        "colab": {
          "base_uri": "https://localhost:8080/"
        },
        "id": "oFWd7eph3l70",
        "outputId": "d14a26c3-4f54-4c88-fba3-fee325d40345"
      },
      "source": [
        "# Retrieve the GPU information from Colab\n",
        "gpu_info = !nvidia-smi\n",
        "gpu_info = '\\n'.join(gpu_info)\n",
        "if gpu_info.find('failed') >= 0:\n",
        "    print('Select the Runtime → \"Change runtime type\" menu to enable a GPU accelerator, ')\n",
        "    print('and then re-execute this cell.')\n",
        "else:\n",
        "    print(gpu_info)"
      ],
      "execution_count": 2,
      "outputs": [
        {
          "output_type": "stream",
          "name": "stdout",
          "text": [
            "Thu Oct 21 17:51:28 2021       \n",
            "+-----------------------------------------------------------------------------+\n",
            "| NVIDIA-SMI 470.74       Driver Version: 460.32.03    CUDA Version: 11.2     |\n",
            "|-------------------------------+----------------------+----------------------+\n",
            "| GPU  Name        Persistence-M| Bus-Id        Disp.A | Volatile Uncorr. ECC |\n",
            "| Fan  Temp  Perf  Pwr:Usage/Cap|         Memory-Usage | GPU-Util  Compute M. |\n",
            "|                               |                      |               MIG M. |\n",
            "|===============================+======================+======================|\n",
            "|   0  A100-SXM4-40GB      Off  | 00000000:00:04.0 Off |                    0 |\n",
            "| N/A   36C    P0    43W / 400W |      0MiB / 40536MiB |      0%      Default |\n",
            "|                               |                      |             Disabled |\n",
            "+-------------------------------+----------------------+----------------------+\n",
            "                                                                               \n",
            "+-----------------------------------------------------------------------------+\n",
            "| Processes:                                                                  |\n",
            "|  GPU   GI   CI        PID   Type   Process name                  GPU Memory |\n",
            "|        ID   ID                                                   Usage      |\n",
            "|=============================================================================|\n",
            "|  No running processes found                                                 |\n",
            "+-----------------------------------------------------------------------------+\n"
          ]
        }
      ]
    },
    {
      "cell_type": "code",
      "metadata": {
        "colab": {
          "base_uri": "https://localhost:8080/"
        },
        "id": "2tWJ-QK63l71",
        "outputId": "bb1918c1-a17b-4a7c-ed09-35249214672c"
      },
      "source": [
        "# Retrieve the memory configuration from Colab\n",
        "from psutil import virtual_memory\n",
        "ram_gb = virtual_memory().total / 1e9\n",
        "print('Your runtime has {:.1f} gigabytes of available RAM\\n'.format(ram_gb))\n",
        "\n",
        "if ram_gb < 20:\n",
        "    print('To enable a high-RAM runtime, select the Runtime → \"Change runtime type\"')\n",
        "    print('menu, and then select High-RAM in the Runtime shape dropdown. Then, ')\n",
        "    print('re-execute this cell.')\n",
        "else:\n",
        "    print('You are using a high-RAM runtime!')"
      ],
      "execution_count": 3,
      "outputs": [
        {
          "output_type": "stream",
          "name": "stdout",
          "text": [
            "Your runtime has 89.6 gigabytes of available RAM\n",
            "\n",
            "You are using a high-RAM runtime!\n"
          ]
        }
      ]
    },
    {
      "cell_type": "code",
      "metadata": {
        "colab": {
          "base_uri": "https://localhost:8080/"
        },
        "id": "MMxv3rIM3l71",
        "outputId": "f3af0b86-2383-4a02-cf2f-a5dc5a08a6ec"
      },
      "source": [
        "# Retrieve the CPU information\n",
        "ncpu = !nproc\n",
        "print(\"The number of available CPUs is:\", ncpu[0])"
      ],
      "execution_count": 4,
      "outputs": [
        {
          "output_type": "stream",
          "name": "stdout",
          "text": [
            "The number of available CPUs is: 12\n"
          ]
        }
      ]
    },
    {
      "cell_type": "markdown",
      "metadata": {
        "id": "I7LCAiYF3l72"
      },
      "source": [
        "### 1.a) Load libraries and modules"
      ]
    },
    {
      "cell_type": "code",
      "metadata": {
        "id": "IcBsRRuj3l73"
      },
      "source": [
        "# Set the random seed number for reproducible results\n",
        "RNG_SEED = 888"
      ],
      "execution_count": 5,
      "outputs": []
    },
    {
      "cell_type": "code",
      "metadata": {
        "id": "qvqMowk53l73"
      },
      "source": [
        "import numpy as np\n",
        "import pandas as pd\n",
        "import seaborn as sns\n",
        "import matplotlib.pyplot as plt\n",
        "import os\n",
        "import sys\n",
        "import math\n",
        "from datetime import datetime\n",
        "# import boto3\n",
        "# from dotenv import load_dotenv\n",
        "from sklearn import preprocessing\n",
        "from sklearn.model_selection import train_test_split\n",
        "from sklearn.model_selection import StratifiedKFold\n",
        "from sklearn.model_selection import cross_val_score\n",
        "from sklearn.model_selection import GridSearchCV\n",
        "from sklearn.metrics import classification_report\n",
        "from sklearn.metrics import confusion_matrix\n",
        "from sklearn.metrics import accuracy_score\n",
        "from sklearn.metrics import roc_auc_score\n",
        "from sklearn.pipeline import Pipeline\n",
        "from sklearn import compose\n",
        "from sklearn import impute\n",
        "from xgboost import XGBClassifier"
      ],
      "execution_count": 6,
      "outputs": []
    },
    {
      "cell_type": "markdown",
      "metadata": {
        "id": "lj9CEmZv3l74"
      },
      "source": [
        "### 1.b) Set up the controlling parameters and functions"
      ]
    },
    {
      "cell_type": "code",
      "metadata": {
        "id": "37e7yBJt3l74"
      },
      "source": [
        "# Begin the timer for the script processing\n",
        "start_time_script = datetime.now()\n",
        "\n",
        "# Set up the number of CPU cores available for multi-thread processing\n",
        "N_JOBS = 1\n",
        "\n",
        "# Set up the flag to stop sending progress emails (setting to True will send status emails!)\n",
        "NOTIFY_STATUS = False\n",
        "\n",
        "# Set the percentage sizes for splitting the dataset\n",
        "TEST_SET_RATIO = 0.2\n",
        "# VAL_SET_RATIO = 0.25\n",
        "\n",
        "# Set the number of folds for cross validation\n",
        "N_FOLDS = 5\n",
        "\n",
        "# Set various default modeling parameters\n",
        "SCORING_METRIC = 'accuracy'"
      ],
      "execution_count": 7,
      "outputs": []
    },
    {
      "cell_type": "code",
      "metadata": {
        "id": "DeabrzoC3l75"
      },
      "source": [
        "# Set up the email notification function\n",
        "def status_notify(msg_text):\n",
        "    access_key = os.environ.get('SNS_ACCESS_KEY')\n",
        "    secret_key = os.environ.get('SNS_SECRET_KEY')\n",
        "    aws_region = os.environ.get('SNS_AWS_REGION')\n",
        "    topic_arn = os.environ.get('SNS_TOPIC_ARN')\n",
        "    if (access_key is None) or (secret_key is None) or (aws_region is None):\n",
        "        sys.exit(\"Incomplete notification setup info. Script Processing Aborted!!!\")\n",
        "    sns = boto3.client('sns', aws_access_key_id=access_key, aws_secret_access_key=secret_key, region_name=aws_region)\n",
        "    response = sns.publish(TopicArn=topic_arn, Message=msg_text)\n",
        "    if response['ResponseMetadata']['HTTPStatusCode'] != 200 :\n",
        "        print('Status notification not OK with HTTP status code:', response['ResponseMetadata']['HTTPStatusCode'])"
      ],
      "execution_count": 8,
      "outputs": []
    },
    {
      "cell_type": "code",
      "metadata": {
        "id": "-LXEI2QY3l75"
      },
      "source": [
        "if NOTIFY_STATUS: status_notify(\"Task 1 - Prepare Environment has begun! \" + datetime.now().strftime('%a %B %d, %Y %I:%M:%S %p'))"
      ],
      "execution_count": 9,
      "outputs": []
    },
    {
      "cell_type": "markdown",
      "metadata": {
        "id": "Iud46_Nn3l76"
      },
      "source": [
        "### 1.c) Load dataset"
      ]
    },
    {
      "cell_type": "code",
      "metadata": {
        "colab": {
          "base_uri": "https://localhost:8080/"
        },
        "id": "zw8vysCp3l76",
        "outputId": "3d1bf0e5-6fb7-4989-8dfb-9ede492bcd47"
      },
      "source": [
        "dataset_path = 'https://dainesanalytics.com/datasets/kaggle-rice-seed-dataset/Rice_Gonen_and_Jasmine.csv'\n",
        "df_dataset_import = pd.read_csv(dataset_path, index_col=False)\n",
        "\n",
        "# Take a peek at the dataframe after import\n",
        "print(df_dataset_import.head())"
      ],
      "execution_count": 10,
      "outputs": [
        {
          "output_type": "stream",
          "name": "stdout",
          "text": [
            "   id  Area  MajorAxisLength  ...  Roundness  AspectRation    Class\n",
            "0   1  4537        92.229317  ...   0.764510      1.440796  jasmine\n",
            "1   2  2872        74.691881  ...   0.831658      1.453137  jasmine\n",
            "2   3  3048        76.293164  ...   0.868434      1.465950  jasmine\n",
            "3   4  3073        77.033628  ...   0.870203      1.483456  jasmine\n",
            "4   5  3693        85.124785  ...   0.874743      1.510000  jasmine\n",
            "\n",
            "[5 rows x 12 columns]\n"
          ]
        }
      ]
    },
    {
      "cell_type": "code",
      "metadata": {
        "colab": {
          "base_uri": "https://localhost:8080/"
        },
        "id": "qdseXAzd3l76",
        "outputId": "7020ad14-c112-489f-d7f1-6c564becf350"
      },
      "source": [
        "df_dataset_import.info(verbose=True)"
      ],
      "execution_count": 11,
      "outputs": [
        {
          "output_type": "stream",
          "name": "stdout",
          "text": [
            "<class 'pandas.core.frame.DataFrame'>\n",
            "RangeIndex: 18185 entries, 0 to 18184\n",
            "Data columns (total 12 columns):\n",
            " #   Column           Non-Null Count  Dtype  \n",
            "---  ------           --------------  -----  \n",
            " 0   id               18185 non-null  int64  \n",
            " 1   Area             18185 non-null  int64  \n",
            " 2   MajorAxisLength  18185 non-null  float64\n",
            " 3   MinorAxisLength  18185 non-null  float64\n",
            " 4   Eccentricity     18185 non-null  float64\n",
            " 5   ConvexArea       18185 non-null  int64  \n",
            " 6   EquivDiameter    18185 non-null  float64\n",
            " 7   Extent           18185 non-null  float64\n",
            " 8   Perimeter        18185 non-null  float64\n",
            " 9   Roundness        18185 non-null  float64\n",
            " 10  AspectRation     18185 non-null  float64\n",
            " 11  Class            18185 non-null  object \n",
            "dtypes: float64(8), int64(3), object(1)\n",
            "memory usage: 1.7+ MB\n"
          ]
        }
      ]
    },
    {
      "cell_type": "code",
      "metadata": {
        "colab": {
          "base_uri": "https://localhost:8080/"
        },
        "id": "dut08ci_3l77",
        "outputId": "f6a5494b-e436-4497-a2cb-c19e650f1dcd"
      },
      "source": [
        "print(df_dataset_import.describe())"
      ],
      "execution_count": 12,
      "outputs": [
        {
          "output_type": "stream",
          "name": "stdout",
          "text": [
            "                 id          Area  ...     Roundness  AspectRation\n",
            "count  18185.000000  18185.000000  ...  18185.000000  18185.000000\n",
            "mean    9093.000000   7036.492989  ...      0.707998      2.599081\n",
            "std     5249.701658   1467.197150  ...      0.067310      0.434836\n",
            "min        1.000000   2522.000000  ...      0.174590      1.358128\n",
            "25%     4547.000000   5962.000000  ...      0.650962      2.208527\n",
            "50%     9093.000000   6660.000000  ...      0.701941      2.602966\n",
            "75%    13639.000000   8423.000000  ...      0.769280      2.964101\n",
            "max    18185.000000  10210.000000  ...      0.904748      3.911845\n",
            "\n",
            "[8 rows x 11 columns]\n"
          ]
        }
      ]
    },
    {
      "cell_type": "code",
      "metadata": {
        "colab": {
          "base_uri": "https://localhost:8080/"
        },
        "id": "6j5yMdxL3l77",
        "outputId": "b5a9725f-e1b9-4db5-9e43-e2416b74a35b"
      },
      "source": [
        "print(df_dataset_import.isnull().sum())\n",
        "print('Total number of NaN in the dataframe: ', df_dataset_import.isnull().sum().sum())"
      ],
      "execution_count": 13,
      "outputs": [
        {
          "output_type": "stream",
          "name": "stdout",
          "text": [
            "id                 0\n",
            "Area               0\n",
            "MajorAxisLength    0\n",
            "MinorAxisLength    0\n",
            "Eccentricity       0\n",
            "ConvexArea         0\n",
            "EquivDiameter      0\n",
            "Extent             0\n",
            "Perimeter          0\n",
            "Roundness          0\n",
            "AspectRation       0\n",
            "Class              0\n",
            "dtype: int64\n",
            "Total number of NaN in the dataframe:  0\n"
          ]
        }
      ]
    },
    {
      "cell_type": "markdown",
      "metadata": {
        "id": "Hxxn8gnj3l78"
      },
      "source": [
        "### 1.d) Data Cleaning"
      ]
    },
    {
      "cell_type": "code",
      "metadata": {
        "colab": {
          "base_uri": "https://localhost:8080/"
        },
        "id": "osjQPBQY3l78",
        "outputId": "7b107931-4ea8-469e-86c3-8aada13f0b2e"
      },
      "source": [
        "# Dropping features\n",
        "df_dataset_import.drop(columns=['id'], inplace=True)\n",
        "\n",
        "# Standardize the class column to the name of target\n",
        "df_dataset_import = df_dataset_import.rename(columns={'Class':'target'})\n",
        "\n",
        "# Take a peek at the dataframe after cleaning\n",
        "print(df_dataset_import.head())"
      ],
      "execution_count": 14,
      "outputs": [
        {
          "output_type": "stream",
          "name": "stdout",
          "text": [
            "   Area  MajorAxisLength  MinorAxisLength  ...  Roundness  AspectRation   target\n",
            "0  4537        92.229317        64.012769  ...   0.764510      1.440796  jasmine\n",
            "1  2872        74.691881        51.400454  ...   0.831658      1.453137  jasmine\n",
            "2  3048        76.293164        52.043491  ...   0.868434      1.465950  jasmine\n",
            "3  3073        77.033628        51.928487  ...   0.870203      1.483456  jasmine\n",
            "4  3693        85.124785        56.374021  ...   0.874743      1.510000  jasmine\n",
            "\n",
            "[5 rows x 11 columns]\n"
          ]
        }
      ]
    },
    {
      "cell_type": "code",
      "metadata": {
        "colab": {
          "base_uri": "https://localhost:8080/"
        },
        "id": "t36Yn9gl3l78",
        "outputId": "5b405344-0a55-4e8b-b3bf-66b0248f47f5"
      },
      "source": [
        "df_dataset_import.info(verbose=True)"
      ],
      "execution_count": 15,
      "outputs": [
        {
          "output_type": "stream",
          "name": "stdout",
          "text": [
            "<class 'pandas.core.frame.DataFrame'>\n",
            "RangeIndex: 18185 entries, 0 to 18184\n",
            "Data columns (total 11 columns):\n",
            " #   Column           Non-Null Count  Dtype  \n",
            "---  ------           --------------  -----  \n",
            " 0   Area             18185 non-null  int64  \n",
            " 1   MajorAxisLength  18185 non-null  float64\n",
            " 2   MinorAxisLength  18185 non-null  float64\n",
            " 3   Eccentricity     18185 non-null  float64\n",
            " 4   ConvexArea       18185 non-null  int64  \n",
            " 5   EquivDiameter    18185 non-null  float64\n",
            " 6   Extent           18185 non-null  float64\n",
            " 7   Perimeter        18185 non-null  float64\n",
            " 8   Roundness        18185 non-null  float64\n",
            " 9   AspectRation     18185 non-null  float64\n",
            " 10  target           18185 non-null  object \n",
            "dtypes: float64(8), int64(2), object(1)\n",
            "memory usage: 1.5+ MB\n"
          ]
        }
      ]
    },
    {
      "cell_type": "code",
      "metadata": {
        "colab": {
          "base_uri": "https://localhost:8080/"
        },
        "id": "3FFwZYXG3l79",
        "outputId": "7349db2b-c2c0-4602-d0f7-acffd490fd28"
      },
      "source": [
        "print(df_dataset_import.describe())"
      ],
      "execution_count": 16,
      "outputs": [
        {
          "output_type": "stream",
          "name": "stdout",
          "text": [
            "               Area  MajorAxisLength  ...     Roundness  AspectRation\n",
            "count  18185.000000     18185.000000  ...  18185.000000  18185.000000\n",
            "mean    7036.492989       151.680754  ...      0.707998      2.599081\n",
            "std     1467.197150        12.376402  ...      0.067310      0.434836\n",
            "min     2522.000000        74.133114  ...      0.174590      1.358128\n",
            "25%     5962.000000       145.675910  ...      0.650962      2.208527\n",
            "50%     6660.000000       153.883750  ...      0.701941      2.602966\n",
            "75%     8423.000000       160.056214  ...      0.769280      2.964101\n",
            "max    10210.000000       183.211434  ...      0.904748      3.911845\n",
            "\n",
            "[8 rows x 10 columns]\n"
          ]
        }
      ]
    },
    {
      "cell_type": "code",
      "metadata": {
        "colab": {
          "base_uri": "https://localhost:8080/"
        },
        "id": "1QMi80kq3l79",
        "outputId": "17d650fb-f6d4-48ee-8d32-07a0e6779517"
      },
      "source": [
        "print(df_dataset_import.isnull().sum())\n",
        "print('Total number of NaN in the dataframe: ', df_dataset_import.isnull().sum().sum())"
      ],
      "execution_count": 17,
      "outputs": [
        {
          "output_type": "stream",
          "name": "stdout",
          "text": [
            "Area               0\n",
            "MajorAxisLength    0\n",
            "MinorAxisLength    0\n",
            "Eccentricity       0\n",
            "ConvexArea         0\n",
            "EquivDiameter      0\n",
            "Extent             0\n",
            "Perimeter          0\n",
            "Roundness          0\n",
            "AspectRation       0\n",
            "target             0\n",
            "dtype: int64\n",
            "Total number of NaN in the dataframe:  0\n"
          ]
        }
      ]
    },
    {
      "cell_type": "markdown",
      "metadata": {
        "id": "Uuh6PSn53l79"
      },
      "source": [
        "### 1.e) Splitting Data into Sets"
      ]
    },
    {
      "cell_type": "code",
      "metadata": {
        "colab": {
          "base_uri": "https://localhost:8080/"
        },
        "id": "Ac66Lgmn3l79",
        "outputId": "67b16e61-6539-425d-e029-d537e97eff80"
      },
      "source": [
        "# Use variable total_column_count to hold the number of columns in the dataframe\n",
        "total_column_count = len(df_dataset_import.columns)\n",
        "\n",
        "# Set up variable total_feature_count for the total number of attribute columns\n",
        "total_feature_count = total_column_count-1\n",
        "\n",
        "# We create attribute-only and target-only datasets (df_features_train and df_target_train)\n",
        "df_target_import = df_dataset_import['target']\n",
        "df_features_import = df_dataset_import.drop(['target'], axis=1)\n",
        "\n",
        "print(\"df_dataset_import.shape: {} df_features_import.shape: {} df_target_import.shape: {}\".format(df_dataset_import.shape, df_features_import.shape, df_target_import.shape))"
      ],
      "execution_count": 18,
      "outputs": [
        {
          "output_type": "stream",
          "name": "stdout",
          "text": [
            "df_dataset_import.shape: (18185, 11) df_features_import.shape: (18185, 10) df_target_import.shape: (18185,)\n"
          ]
        }
      ]
    },
    {
      "cell_type": "code",
      "metadata": {
        "colab": {
          "base_uri": "https://localhost:8080/"
        },
        "id": "N782ljZpqf3y",
        "outputId": "4f01c4f9-9ebb-4127-a19e-0feabc8c7902"
      },
      "source": [
        "# Split the data further into training and test datasets\n",
        "df_features_train, df_features_test, df_target_train, df_target_test = train_test_split(df_features_import, df_target_import, test_size=TEST_SET_RATIO, \n",
        "                                                                                        stratify=df_target_import, random_state=RNG_SEED)\n",
        "print(\"df_features_train.shape: {} df_target_train.shape: {}\".format(df_features_train.shape, df_target_train.shape))\n",
        "print(\"df_features_test.shape: {} df_target_test.shape: {}\".format(df_features_test.shape, df_target_test.shape))"
      ],
      "execution_count": 19,
      "outputs": [
        {
          "output_type": "stream",
          "name": "stdout",
          "text": [
            "df_features_train.shape: (14548, 10) df_target_train.shape: (14548,)\n",
            "df_features_test.shape: (3637, 10) df_target_test.shape: (3637,)\n"
          ]
        }
      ]
    },
    {
      "cell_type": "markdown",
      "metadata": {
        "id": "K_ha_1jD3l7-"
      },
      "source": [
        "### 1.f) Set up the parameters for data visualization"
      ]
    },
    {
      "cell_type": "code",
      "metadata": {
        "id": "jZU3DZ3D3l7-"
      },
      "source": [
        "# Set up the number of row and columns for visualization display. display_rows * display_columns should be >= total_feature_count\n",
        "display_columns = 4\n",
        "if total_feature_count % display_columns == 0 :\n",
        "    display_rows = total_feature_count // display_columns\n",
        "else :\n",
        "    display_rows = (total_feature_count // display_columns) + 1\n",
        "\n",
        "# Set figure width to display the data visualization plots\n",
        "fig_size = plt.rcParams[\"figure.figsize\"]\n",
        "fig_size[0] = display_columns * 4\n",
        "fig_size[1] = display_rows * 4\n",
        "plt.rcParams[\"figure.figsize\"] = fig_size"
      ],
      "execution_count": 20,
      "outputs": []
    },
    {
      "cell_type": "code",
      "metadata": {
        "id": "ACP83VhH3l7-"
      },
      "source": [
        "if NOTIFY_STATUS: status_notify(\"Task 1 - Prepare Environment completed! \"+datetime.now().strftime('%a %B %d, %Y %I:%M:%S %p'))"
      ],
      "execution_count": 21,
      "outputs": []
    },
    {
      "cell_type": "markdown",
      "metadata": {
        "id": "kZevOIQL3l7_"
      },
      "source": [
        "## Task 2 - Summarize and Visualize Data"
      ]
    },
    {
      "cell_type": "code",
      "metadata": {
        "id": "YLt0NpWy3l7_"
      },
      "source": [
        "if NOTIFY_STATUS: status_notify(\"Task 2 - Summarize and Visualize Data has begun! \"+datetime.now().strftime('%a %B %d, %Y %I:%M:%S %p'))"
      ],
      "execution_count": 22,
      "outputs": []
    },
    {
      "cell_type": "code",
      "metadata": {
        "colab": {
          "base_uri": "https://localhost:8080/",
          "height": 700
        },
        "id": "FVURY0Ba3l7_",
        "outputId": "d9763436-77c4-490f-afe7-df928ed55dc1"
      },
      "source": [
        "# Histograms for each attribute\n",
        "df_features_train.plot(kind='hist', subplots=True, layout=(display_rows, display_columns))\n",
        "plt.show()"
      ],
      "execution_count": 23,
      "outputs": [
        {
          "output_type": "display_data",
          "data": {
            "image/png": "[encoded data removed]",
            "text/plain": [
              "<Figure size 1152x864 with 12 Axes>"
            ]
          },
          "metadata": {
            "needs_background": "light"
          }
        }
      ]
    },
    {
      "cell_type": "code",
      "metadata": {
        "colab": {
          "base_uri": "https://localhost:8080/",
          "height": 700
        },
        "id": "m92aROlh3l8A",
        "outputId": "2a29a466-5228-433b-ac0a-95c254d065a6"
      },
      "source": [
        "# Box and Whisker plot for each attribute\n",
        "df_features_train.plot(kind='box', subplots=True, layout=(display_rows, display_columns))\n",
        "plt.show()"
      ],
      "execution_count": 24,
      "outputs": [
        {
          "output_type": "display_data",
          "data": {
            "image/png": "[encoded data removed]",
            "text/plain": [
              "<Figure size 1152x864 with 12 Axes>"
            ]
          },
          "metadata": {
            "needs_background": "light"
          }
        }
      ]
    },
    {
      "cell_type": "code",
      "metadata": {
        "colab": {
          "base_uri": "https://localhost:8080/",
          "height": 1000
        },
        "id": "3r8q4sgU3l8A",
        "outputId": "0afe271d-c8af-4494-fbce-c40c9b3d34e2"
      },
      "source": [
        "# Correlation matrix\n",
        "fig = plt.figure(figsize=(20, 20))\n",
        "correlations = df_features_train.corr(method='pearson')\n",
        "sns.heatmap(correlations, annot=True, cmap=plt.cm.PuBu)\n",
        "plt.show()"
      ],
      "execution_count": 25,
      "outputs": [
        {
          "output_type": "display_data",
          "data": {
            "image/png": "[encoded data removed]",
            "text/plain": [
              "<Figure size 1440x1440 with 2 Axes>"
            ]
          },
          "metadata": {
            "needs_background": "light"
          }
        }
      ]
    },
    {
      "cell_type": "code",
      "metadata": {
        "id": "47zwOFBY3l8A"
      },
      "source": [
        "if NOTIFY_STATUS: status_notify(\"Task 2 - Summarize and Visualize Data completed! \"+datetime.now().strftime('%a %B %d, %Y %I:%M:%S %p'))"
      ],
      "execution_count": 26,
      "outputs": []
    },
    {
      "cell_type": "markdown",
      "metadata": {
        "id": "iMRuoNay3l8B"
      },
      "source": [
        "## Task 3 - Pre-process Data"
      ]
    },
    {
      "cell_type": "code",
      "metadata": {
        "id": "0vQJ1B6d3l8B"
      },
      "source": [
        "if NOTIFY_STATUS: status_notify(\"Task 3 - Pre-process Data has begun! \"+datetime.now().strftime('%a %B %d, %Y %I:%M:%S %p'))"
      ],
      "execution_count": 27,
      "outputs": []
    },
    {
      "cell_type": "markdown",
      "metadata": {
        "id": "SJKVMdU-3l8B"
      },
      "source": [
        "### 3.a) Feature Scaling and Data Pre-Processing"
      ]
    },
    {
      "cell_type": "code",
      "metadata": {
        "colab": {
          "base_uri": "https://localhost:8080/"
        },
        "id": "OdJRYIRo3l8B",
        "outputId": "fb9205f5-7735-4648-a0a7-4d74ad32c529"
      },
      "source": [
        "# Compose pipeline for the numerical and categorical features (Block #1 of 2)\n",
        "numeric_columns = df_features_train.select_dtypes(include=['int64','float64']).columns\n",
        "numeric_transformer = Pipeline(steps=[\n",
        "    # ('imputer', impute.SimpleImputer(strategy=\"constant\", fill_value=0)),\n",
        "    ('scaler', preprocessing.MinMaxScaler())\n",
        "])\n",
        "categorical_columns = df_features_train.select_dtypes(include=['object','bool','category']).columns\n",
        "categorical_transformer = Pipeline(steps=[\n",
        "    # ('imputer', impute.SimpleImputer(strategy='constant', fill_value='UKNOWN')),\n",
        "    ('onehot', preprocessing.OneHotEncoder(sparse=False, handle_unknown='ignore'))\n",
        "])\n",
        "\n",
        "print(\"Number of numerical columns:\", len(numeric_columns))\n",
        "print(\"Number of categorical columns:\", len(categorical_columns))\n",
        "print(\"Total number of columns in the feature dataframe:\", df_features_train.shape[1])"
      ],
      "execution_count": 28,
      "outputs": [
        {
          "output_type": "stream",
          "name": "stdout",
          "text": [
            "Number of numerical columns: 10\n",
            "Number of categorical columns: 0\n",
            "Total number of columns in the feature dataframe: 10\n"
          ]
        }
      ]
    },
    {
      "cell_type": "code",
      "metadata": {
        "colab": {
          "base_uri": "https://localhost:8080/"
        },
        "id": "MPyFhjc43l8C",
        "outputId": "29ca6bb8-2f31-4dcf-e614-251ebf53e8db"
      },
      "source": [
        "# Compose pipeline for the numerical and categorical features (Block #2 of 2)\n",
        "preprocessor = compose.ColumnTransformer(transformers=[\n",
        "    ('num', numeric_transformer, numeric_columns),\n",
        "    ('cat', categorical_transformer, categorical_columns)\n",
        "])\n",
        "\n",
        "# Display the shapes of the training dataset for final inspection\n",
        "array_features_train = preprocessor.fit_transform(df_features_train)\n",
        "print(\"Transformed features from df_features_train.shape: {} to array_features_train.shape: {}\".format(df_features_train.shape, array_features_train.shape))"
      ],
      "execution_count": 29,
      "outputs": [
        {
          "output_type": "stream",
          "name": "stdout",
          "text": [
            "Transformed features from df_features_train.shape: (14548, 10) to array_features_train.shape: (14548, 10)\n"
          ]
        }
      ]
    },
    {
      "cell_type": "markdown",
      "metadata": {
        "id": "uj81IbIC3l8C"
      },
      "source": [
        "### 3.b) Training Data Balancing"
      ]
    },
    {
      "cell_type": "code",
      "metadata": {
        "id": "Ke6jtd9V3l8C"
      },
      "source": [
        "# Not applicable for this iteration of the project"
      ],
      "execution_count": 30,
      "outputs": []
    },
    {
      "cell_type": "markdown",
      "metadata": {
        "id": "fR-zmIHD3l8C"
      },
      "source": [
        "### 3.c) Feature Selection"
      ]
    },
    {
      "cell_type": "code",
      "metadata": {
        "id": "GTX0mnVe3l8D"
      },
      "source": [
        "# Not applicable for this iteration of the project"
      ],
      "execution_count": 31,
      "outputs": []
    },
    {
      "cell_type": "markdown",
      "metadata": {
        "id": "JGAvblp03l8D"
      },
      "source": [
        "### 3.d) Display the Final Datasets for Model-Building"
      ]
    },
    {
      "cell_type": "code",
      "metadata": {
        "colab": {
          "base_uri": "https://localhost:8080/"
        },
        "id": "EourCr333l8D",
        "outputId": "ba0e5000-570f-4433-98e5-07225f5f798d"
      },
      "source": [
        "# Finalize the training and validation datasets for the modeling activities\n",
        "# array_features_train = df_features_train.to_numpy()\n",
        "# array_target_train = df_target_train.ravel()\n",
        "class_encoder = preprocessing.LabelEncoder()\n",
        "array_target_train = class_encoder.fit_transform(df_target_train)\n",
        "print(\"array_features_train.shape: {} array_target_train.shape: {}\".format(array_features_train.shape, array_target_train.shape))"
      ],
      "execution_count": 32,
      "outputs": [
        {
          "output_type": "stream",
          "name": "stdout",
          "text": [
            "array_features_train.shape: (14548, 10) array_target_train.shape: (14548,)\n"
          ]
        }
      ]
    },
    {
      "cell_type": "code",
      "metadata": {
        "id": "U_DPVC0t3l8D"
      },
      "source": [
        "if NOTIFY_STATUS: status_notify(\"Task 3 - Pre-process Data completed! \"+datetime.now().strftime('%a %B %d, %Y %I:%M:%S %p'))"
      ],
      "execution_count": 33,
      "outputs": []
    },
    {
      "cell_type": "markdown",
      "metadata": {
        "id": "l4q-C4XU3l8D"
      },
      "source": [
        "## Task 4 - Train and Evaluate Models"
      ]
    },
    {
      "cell_type": "code",
      "metadata": {
        "id": "y_zb8Pq13l8D"
      },
      "source": [
        "if NOTIFY_STATUS: status_notify(\"Task 4 - Train and Evaluate Models has begun! \"+datetime.now().strftime('%a %B %d, %Y %I:%M:%S %p'))"
      ],
      "execution_count": 34,
      "outputs": []
    },
    {
      "cell_type": "markdown",
      "metadata": {
        "id": "wGkybORs3l8E"
      },
      "source": [
        "### 4.a) Set test options and evaluation metric"
      ]
    },
    {
      "cell_type": "code",
      "metadata": {
        "id": "Bbls2rTF3l8E"
      },
      "source": [
        "# Set up Algorithms Spot-Checking Array\n",
        "start_time_training = datetime.now()\n",
        "train_models = [('XGB', XGBClassifier(random_state=RNG_SEED, n_jobs=N_JOBS, objective='binary:logistic', tree_method='gpu_hist'))]"
      ],
      "execution_count": 35,
      "outputs": []
    },
    {
      "cell_type": "code",
      "metadata": {
        "colab": {
          "base_uri": "https://localhost:8080/"
        },
        "id": "yCpdezoJ3l8E",
        "outputId": "86d1af2a-8344-4138-d70d-17ffee6f6ea2"
      },
      "source": [
        "# Generate model in turn\n",
        "for name, model in train_models:\n",
        "\tif NOTIFY_STATUS: status_notify(\"Algorithm \"+name+\" modeling has begun! \"+datetime.now().strftime('%a %B %d, %Y %I:%M:%S %p'))\n",
        "\tstart_time_module = datetime.now()\n",
        "\tkfold = StratifiedKFold(n_splits=N_FOLDS, shuffle=True, random_state=RNG_SEED)\n",
        "\tcv_results = cross_val_score(model, array_features_train, array_target_train, cv=kfold, scoring=SCORING_METRIC, n_jobs=N_JOBS, verbose=1)\n",
        "\tprint(\"%s: %f (%f)\" % (name, cv_results.mean(), cv_results.std()))\n",
        "\tprint(model)\n",
        "\tprint ('Model training time:', (datetime.now() - start_time_module), '\\n')\n",
        "\tif NOTIFY_STATUS: status_notify(\"Algorithm \"+name+\" modeling completed! \"+datetime.now().strftime('%a %B %d, %Y %I:%M:%S %p'))"
      ],
      "execution_count": 36,
      "outputs": [
        {
          "output_type": "stream",
          "name": "stderr",
          "text": [
            "[Parallel(n_jobs=1)]: Using backend SequentialBackend with 1 concurrent workers.\n"
          ]
        },
        {
          "output_type": "stream",
          "name": "stdout",
          "text": [
            "XGB: 0.990377 (0.000376)\n",
            "XGBClassifier(base_score=0.5, booster='gbtree', colsample_bylevel=1,\n",
            "              colsample_bynode=1, colsample_bytree=1, gamma=0,\n",
            "              learning_rate=0.1, max_delta_step=0, max_depth=3,\n",
            "              min_child_weight=1, missing=None, n_estimators=100, n_jobs=1,\n",
            "              nthread=None, objective='binary:logistic', random_state=888,\n",
            "              reg_alpha=0, reg_lambda=1, scale_pos_weight=1, seed=None,\n",
            "              silent=None, subsample=1, tree_method='gpu_hist', verbosity=1)\n",
            "Model training time: 0:00:01.050172 \n",
            "\n"
          ]
        },
        {
          "output_type": "stream",
          "name": "stderr",
          "text": [
            "[Parallel(n_jobs=1)]: Done   5 out of   5 | elapsed:    1.0s finished\n"
          ]
        }
      ]
    },
    {
      "cell_type": "markdown",
      "metadata": {
        "id": "b0bV856P3l8F"
      },
      "source": [
        "### 4.b) Algorithm Tuning"
      ]
    },
    {
      "cell_type": "code",
      "metadata": {
        "id": "u73tMrgV3l8F"
      },
      "source": [
        "# Set up the comparison array\n",
        "tune_results = []\n",
        "tune_model_names = []"
      ],
      "execution_count": 37,
      "outputs": []
    },
    {
      "cell_type": "code",
      "metadata": {
        "colab": {
          "base_uri": "https://localhost:8080/"
        },
        "id": "fxAHVg7Q3l8G",
        "outputId": "92191da4-fc16-40d9-9ff3-83174f3a30fa"
      },
      "source": [
        "# Tuning XGBoost n_estimators, max_depth, and min_child_weight parameters\n",
        "start_time_module = datetime.now()\n",
        "if NOTIFY_STATUS: status_notify(\"Algorithm tuning iteration #1 has begun! \"+datetime.now().strftime('%a %B %d, %Y %I:%M:%S %p'))\n",
        "\n",
        "tune_model1 = XGBClassifier(random_state=RNG_SEED, n_jobs=N_JOBS, objective='binary:logistic', tree_method='gpu_hist')\n",
        "tune_model_names.append('XGB_1')\n",
        "paramGrid1 = dict(n_estimators=range(100, 1001, 100),\n",
        "                  max_depth=np.array([3, 6, 9]),\n",
        "                  min_child_weight=np.array([1, 2, 3]))\n",
        "\n",
        "kfold = StratifiedKFold(n_splits=N_FOLDS, shuffle=True, random_state=RNG_SEED)\n",
        "grid1 = GridSearchCV(estimator=tune_model1, param_grid=paramGrid1, scoring=SCORING_METRIC, cv=kfold, n_jobs=N_JOBS, verbose=1)\n",
        "grid_result1 = grid1.fit(array_features_train, array_target_train)\n",
        "\n",
        "print(\"Best: %f using %s\" % (grid_result1.best_score_, grid_result1.best_params_))\n",
        "tune_results.append(grid_result1.cv_results_['mean_test_score'])\n",
        "means = grid_result1.cv_results_['mean_test_score']\n",
        "stds = grid_result1.cv_results_['std_test_score']\n",
        "params = grid_result1.cv_results_['params']\n",
        "for mean, stdev, param in zip(means, stds, params):\n",
        "    print(\"%f (%f) with: %r\" % (mean, stdev, param))\n",
        "print ('Model training time:',(datetime.now() - start_time_module))\n",
        "if NOTIFY_STATUS: status_notify(\"Algorithm tuning iteration #1 completed! \"+datetime.now().strftime('%a %B %d, %Y %I:%M:%S %p'))"
      ],
      "execution_count": 38,
      "outputs": [
        {
          "output_type": "stream",
          "name": "stderr",
          "text": [
            "[Parallel(n_jobs=1)]: Using backend SequentialBackend with 1 concurrent workers.\n"
          ]
        },
        {
          "output_type": "stream",
          "name": "stdout",
          "text": [
            "Fitting 5 folds for each of 90 candidates, totalling 450 fits\n",
            "Best: 0.990377 using {'max_depth': 3, 'min_child_weight': 1, 'n_estimators': 100}\n",
            "0.990377 (0.000376) with: {'max_depth': 3, 'min_child_weight': 1, 'n_estimators': 100}\n",
            "0.989689 (0.001087) with: {'max_depth': 3, 'min_child_weight': 1, 'n_estimators': 200}\n",
            "0.989483 (0.000708) with: {'max_depth': 3, 'min_child_weight': 1, 'n_estimators': 300}\n",
            "0.989208 (0.001033) with: {'max_depth': 3, 'min_child_weight': 1, 'n_estimators': 400}\n",
            "0.988933 (0.001381) with: {'max_depth': 3, 'min_child_weight': 1, 'n_estimators': 500}\n",
            "0.988864 (0.001315) with: {'max_depth': 3, 'min_child_weight': 1, 'n_estimators': 600}\n",
            "0.989002 (0.001457) with: {'max_depth': 3, 'min_child_weight': 1, 'n_estimators': 700}\n",
            "0.988590 (0.001527) with: {'max_depth': 3, 'min_child_weight': 1, 'n_estimators': 800}\n",
            "0.988452 (0.001649) with: {'max_depth': 3, 'min_child_weight': 1, 'n_estimators': 900}\n",
            "0.988383 (0.001398) with: {'max_depth': 3, 'min_child_weight': 1, 'n_estimators': 1000}\n",
            "0.990170 (0.000515) with: {'max_depth': 3, 'min_child_weight': 2, 'n_estimators': 100}\n",
            "0.989483 (0.001222) with: {'max_depth': 3, 'min_child_weight': 2, 'n_estimators': 200}\n",
            "0.989346 (0.000996) with: {'max_depth': 3, 'min_child_weight': 2, 'n_estimators': 300}\n",
            "0.989414 (0.000667) with: {'max_depth': 3, 'min_child_weight': 2, 'n_estimators': 400}\n",
            "0.989208 (0.000963) with: {'max_depth': 3, 'min_child_weight': 2, 'n_estimators': 500}\n",
            "0.989002 (0.000785) with: {'max_depth': 3, 'min_child_weight': 2, 'n_estimators': 600}\n",
            "0.989071 (0.001159) with: {'max_depth': 3, 'min_child_weight': 2, 'n_estimators': 700}\n",
            "0.988864 (0.001203) with: {'max_depth': 3, 'min_child_weight': 2, 'n_estimators': 800}\n",
            "0.988864 (0.001079) with: {'max_depth': 3, 'min_child_weight': 2, 'n_estimators': 900}\n",
            "0.988727 (0.001052) with: {'max_depth': 3, 'min_child_weight': 2, 'n_estimators': 1000}\n",
            "0.990170 (0.000772) with: {'max_depth': 3, 'min_child_weight': 3, 'n_estimators': 100}\n",
            "0.989552 (0.001332) with: {'max_depth': 3, 'min_child_weight': 3, 'n_estimators': 200}\n",
            "0.989346 (0.001170) with: {'max_depth': 3, 'min_child_weight': 3, 'n_estimators': 300}\n",
            "0.988864 (0.000912) with: {'max_depth': 3, 'min_child_weight': 3, 'n_estimators': 400}\n",
            "0.989002 (0.000948) with: {'max_depth': 3, 'min_child_weight': 3, 'n_estimators': 500}\n",
            "0.988933 (0.000631) with: {'max_depth': 3, 'min_child_weight': 3, 'n_estimators': 600}\n",
            "0.988727 (0.000797) with: {'max_depth': 3, 'min_child_weight': 3, 'n_estimators': 700}\n",
            "0.988589 (0.000734) with: {'max_depth': 3, 'min_child_weight': 3, 'n_estimators': 800}\n",
            "0.988452 (0.000963) with: {'max_depth': 3, 'min_child_weight': 3, 'n_estimators': 900}\n",
            "0.988452 (0.000859) with: {'max_depth': 3, 'min_child_weight': 3, 'n_estimators': 1000}\n",
            "0.989483 (0.001202) with: {'max_depth': 6, 'min_child_weight': 1, 'n_estimators': 100}\n",
            "0.989071 (0.001256) with: {'max_depth': 6, 'min_child_weight': 1, 'n_estimators': 200}\n",
            "0.989139 (0.001650) with: {'max_depth': 6, 'min_child_weight': 1, 'n_estimators': 300}\n",
            "0.989208 (0.001484) with: {'max_depth': 6, 'min_child_weight': 1, 'n_estimators': 400}\n",
            "0.989139 (0.001484) with: {'max_depth': 6, 'min_child_weight': 1, 'n_estimators': 500}\n",
            "0.989483 (0.001079) with: {'max_depth': 6, 'min_child_weight': 1, 'n_estimators': 600}\n",
            "0.989483 (0.001079) with: {'max_depth': 6, 'min_child_weight': 1, 'n_estimators': 700}\n",
            "0.989208 (0.000987) with: {'max_depth': 6, 'min_child_weight': 1, 'n_estimators': 800}\n",
            "0.989414 (0.001052) with: {'max_depth': 6, 'min_child_weight': 1, 'n_estimators': 900}\n",
            "0.989346 (0.001065) with: {'max_depth': 6, 'min_child_weight': 1, 'n_estimators': 1000}\n",
            "0.989208 (0.000886) with: {'max_depth': 6, 'min_child_weight': 2, 'n_estimators': 100}\n",
            "0.988452 (0.001351) with: {'max_depth': 6, 'min_child_weight': 2, 'n_estimators': 200}\n",
            "0.988589 (0.001465) with: {'max_depth': 6, 'min_child_weight': 2, 'n_estimators': 300}\n",
            "0.988521 (0.001368) with: {'max_depth': 6, 'min_child_weight': 2, 'n_estimators': 400}\n",
            "0.988521 (0.001183) with: {'max_depth': 6, 'min_child_weight': 2, 'n_estimators': 500}\n",
            "0.988452 (0.001121) with: {'max_depth': 6, 'min_child_weight': 2, 'n_estimators': 600}\n",
            "0.988589 (0.001096) with: {'max_depth': 6, 'min_child_weight': 2, 'n_estimators': 700}\n",
            "0.989002 (0.001043) with: {'max_depth': 6, 'min_child_weight': 2, 'n_estimators': 800}\n",
            "0.988864 (0.000987) with: {'max_depth': 6, 'min_child_weight': 2, 'n_estimators': 900}\n",
            "0.988933 (0.001006) with: {'max_depth': 6, 'min_child_weight': 2, 'n_estimators': 1000}\n",
            "0.989621 (0.001218) with: {'max_depth': 6, 'min_child_weight': 3, 'n_estimators': 100}\n",
            "0.989139 (0.001222) with: {'max_depth': 6, 'min_child_weight': 3, 'n_estimators': 200}\n",
            "0.989208 (0.000962) with: {'max_depth': 6, 'min_child_weight': 3, 'n_estimators': 300}\n",
            "0.988933 (0.001051) with: {'max_depth': 6, 'min_child_weight': 3, 'n_estimators': 400}\n",
            "0.988933 (0.000765) with: {'max_depth': 6, 'min_child_weight': 3, 'n_estimators': 500}\n",
            "0.988727 (0.000853) with: {'max_depth': 6, 'min_child_weight': 3, 'n_estimators': 600}\n",
            "0.988796 (0.000708) with: {'max_depth': 6, 'min_child_weight': 3, 'n_estimators': 700}\n",
            "0.988796 (0.000886) with: {'max_depth': 6, 'min_child_weight': 3, 'n_estimators': 800}\n",
            "0.988521 (0.000741) with: {'max_depth': 6, 'min_child_weight': 3, 'n_estimators': 900}\n",
            "0.988658 (0.000721) with: {'max_depth': 6, 'min_child_weight': 3, 'n_estimators': 1000}\n",
            "0.989689 (0.000721) with: {'max_depth': 9, 'min_child_weight': 1, 'n_estimators': 100}\n",
            "0.989483 (0.001241) with: {'max_depth': 9, 'min_child_weight': 1, 'n_estimators': 200}\n",
            "0.989208 (0.001315) with: {'max_depth': 9, 'min_child_weight': 1, 'n_estimators': 300}\n",
            "0.989414 (0.001138) with: {'max_depth': 9, 'min_child_weight': 1, 'n_estimators': 400}\n",
            "0.989346 (0.001150) with: {'max_depth': 9, 'min_child_weight': 1, 'n_estimators': 500}\n",
            "0.989414 (0.001138) with: {'max_depth': 9, 'min_child_weight': 1, 'n_estimators': 600}\n",
            "0.989346 (0.000996) with: {'max_depth': 9, 'min_child_weight': 1, 'n_estimators': 700}\n",
            "0.989346 (0.000869) with: {'max_depth': 9, 'min_child_weight': 1, 'n_estimators': 800}\n",
            "0.989346 (0.000869) with: {'max_depth': 9, 'min_child_weight': 1, 'n_estimators': 900}\n",
            "0.989346 (0.000784) with: {'max_depth': 9, 'min_child_weight': 1, 'n_estimators': 1000}\n",
            "0.989552 (0.000831) with: {'max_depth': 9, 'min_child_weight': 2, 'n_estimators': 100}\n",
            "0.989208 (0.001468) with: {'max_depth': 9, 'min_child_weight': 2, 'n_estimators': 200}\n",
            "0.989071 (0.001218) with: {'max_depth': 9, 'min_child_weight': 2, 'n_estimators': 300}\n",
            "0.989002 (0.001304) with: {'max_depth': 9, 'min_child_weight': 2, 'n_estimators': 400}\n",
            "0.988933 (0.001275) with: {'max_depth': 9, 'min_child_weight': 2, 'n_estimators': 500}\n",
            "0.989002 (0.001229) with: {'max_depth': 9, 'min_child_weight': 2, 'n_estimators': 600}\n",
            "0.989071 (0.001051) with: {'max_depth': 9, 'min_child_weight': 2, 'n_estimators': 700}\n",
            "0.989139 (0.000962) with: {'max_depth': 9, 'min_child_weight': 2, 'n_estimators': 800}\n",
            "0.989208 (0.000886) with: {'max_depth': 9, 'min_child_weight': 2, 'n_estimators': 900}\n",
            "0.989277 (0.000734) with: {'max_depth': 9, 'min_child_weight': 2, 'n_estimators': 1000}\n",
            "0.989689 (0.000721) with: {'max_depth': 9, 'min_child_weight': 3, 'n_estimators': 100}\n",
            "0.988658 (0.001249) with: {'max_depth': 9, 'min_child_weight': 3, 'n_estimators': 200}\n",
            "0.988796 (0.001033) with: {'max_depth': 9, 'min_child_weight': 3, 'n_estimators': 300}\n",
            "0.988796 (0.001121) with: {'max_depth': 9, 'min_child_weight': 3, 'n_estimators': 400}\n",
            "0.989208 (0.000885) with: {'max_depth': 9, 'min_child_weight': 3, 'n_estimators': 500}\n",
            "0.989071 (0.000734) with: {'max_depth': 9, 'min_child_weight': 3, 'n_estimators': 600}\n",
            "0.989071 (0.000734) with: {'max_depth': 9, 'min_child_weight': 3, 'n_estimators': 700}\n",
            "0.988864 (0.000831) with: {'max_depth': 9, 'min_child_weight': 3, 'n_estimators': 800}\n",
            "0.988933 (0.000734) with: {'max_depth': 9, 'min_child_weight': 3, 'n_estimators': 900}\n",
            "0.988933 (0.000734) with: {'max_depth': 9, 'min_child_weight': 3, 'n_estimators': 1000}\n",
            "Model training time: 0:05:34.598563\n"
          ]
        },
        {
          "output_type": "stream",
          "name": "stderr",
          "text": [
            "[Parallel(n_jobs=1)]: Done 450 out of 450 | elapsed:  5.6min finished\n"
          ]
        }
      ]
    },
    {
      "cell_type": "code",
      "metadata": {
        "colab": {
          "base_uri": "https://localhost:8080/"
        },
        "id": "808Eq91i7-A0",
        "outputId": "0b5269e8-bcbf-4a2a-c840-b9e9950af37a"
      },
      "source": [
        "best_value_list = list(grid_result1.best_params_.values())\n",
        "best_max_depth = best_value_list[0]\n",
        "print(\"Captured the best parameter for max_depth:\", best_max_depth)\n",
        "best_min_child_weight = best_value_list[1]\n",
        "print(\"Captured the best parameter for min_child_weight:\", best_min_child_weight)\n",
        "best_n_estimators = best_value_list[2]\n",
        "print(\"Captured the best parameter for n_estimators:\", best_n_estimators)"
      ],
      "execution_count": 39,
      "outputs": [
        {
          "output_type": "stream",
          "name": "stdout",
          "text": [
            "Captured the best parameter for max_depth: 3\n",
            "Captured the best parameter for min_child_weight: 1\n",
            "Captured the best parameter for n_estimators: 100\n"
          ]
        }
      ]
    },
    {
      "cell_type": "code",
      "metadata": {
        "colab": {
          "base_uri": "https://localhost:8080/"
        },
        "id": "VBQWedof87Bu",
        "outputId": "3c53ff71-1900-41ae-d036-e146304eefa1"
      },
      "source": [
        "# Tuning XGBoost subsample and colsample_bytree parameters\n",
        "start_time_module = datetime.now()\n",
        "if NOTIFY_STATUS: status_notify(\"Algorithm tuning iteration #2 has begun! \"+datetime.now().strftime('%a %B %d, %Y %I:%M:%S %p'))\n",
        "\n",
        "tune_model2 = XGBClassifier(n_estimators=best_n_estimators, max_depth=best_max_depth, min_child_weight=best_min_child_weight,\n",
        "                            random_state=RNG_SEED, n_jobs=N_JOBS, objective='binary:logistic', tree_method='gpu_hist')\n",
        "tune_model_names.append('XGB_2')\n",
        "paramGrid2 = dict(subsample=np.array([0.7, 0.8, 0.9, 1.0]), colsample_bytree=np.array([0.7, 0.8, 0.9, 1.0]))\n",
        "\n",
        "kfold = StratifiedKFold(n_splits=N_FOLDS, shuffle=True, random_state=RNG_SEED)\n",
        "grid2 = GridSearchCV(estimator=tune_model2, param_grid=paramGrid2, scoring=SCORING_METRIC, cv=kfold, n_jobs=N_JOBS, verbose=1)\n",
        "grid_result2 = grid2.fit(array_features_train, array_target_train)\n",
        "\n",
        "print(\"Best: %f using %s\" % (grid_result2.best_score_, grid_result2.best_params_))\n",
        "tune_results.append(grid_result2.cv_results_['mean_test_score'])\n",
        "means = grid_result2.cv_results_['mean_test_score']\n",
        "stds = grid_result2.cv_results_['std_test_score']\n",
        "params = grid_result2.cv_results_['params']\n",
        "for mean, stdev, param in zip(means, stds, params):\n",
        "    print(\"%f (%f) with: %r\" % (mean, stdev, param))\n",
        "print ('Model training time:',(datetime.now() - start_time_module))\n",
        "if NOTIFY_STATUS: status_notify(\"Algorithm tuning iteration #2 completed! \"+datetime.now().strftime('%a %B %d, %Y %I:%M:%S %p'))"
      ],
      "execution_count": 40,
      "outputs": [
        {
          "output_type": "stream",
          "name": "stderr",
          "text": [
            "[Parallel(n_jobs=1)]: Using backend SequentialBackend with 1 concurrent workers.\n"
          ]
        },
        {
          "output_type": "stream",
          "name": "stdout",
          "text": [
            "Fitting 5 folds for each of 16 candidates, totalling 80 fits\n",
            "Best: 0.990377 using {'colsample_bytree': 1.0, 'subsample': 1.0}\n",
            "0.989621 (0.001029) with: {'colsample_bytree': 0.7, 'subsample': 0.7}\n",
            "0.989895 (0.000886) with: {'colsample_bytree': 0.7, 'subsample': 0.8}\n",
            "0.989758 (0.001348) with: {'colsample_bytree': 0.7, 'subsample': 0.9}\n",
            "0.990033 (0.000948) with: {'colsample_bytree': 0.7, 'subsample': 1.0}\n",
            "0.990170 (0.000674) with: {'colsample_bytree': 0.8, 'subsample': 0.7}\n",
            "0.989827 (0.000771) with: {'colsample_bytree': 0.8, 'subsample': 0.8}\n",
            "0.989964 (0.001052) with: {'colsample_bytree': 0.8, 'subsample': 0.9}\n",
            "0.990170 (0.000709) with: {'colsample_bytree': 0.8, 'subsample': 1.0}\n",
            "0.990033 (0.001020) with: {'colsample_bytree': 0.9, 'subsample': 0.7}\n",
            "0.990033 (0.000948) with: {'colsample_bytree': 0.9, 'subsample': 0.8}\n",
            "0.990308 (0.000667) with: {'colsample_bytree': 0.9, 'subsample': 0.9}\n",
            "0.990170 (0.000467) with: {'colsample_bytree': 0.9, 'subsample': 1.0}\n",
            "0.989827 (0.001100) with: {'colsample_bytree': 1.0, 'subsample': 0.7}\n",
            "0.989758 (0.000958) with: {'colsample_bytree': 1.0, 'subsample': 0.8}\n",
            "0.989896 (0.000859) with: {'colsample_bytree': 1.0, 'subsample': 0.9}\n",
            "0.990377 (0.000376) with: {'colsample_bytree': 1.0, 'subsample': 1.0}\n",
            "Model training time: 0:00:10.078246\n"
          ]
        },
        {
          "output_type": "stream",
          "name": "stderr",
          "text": [
            "[Parallel(n_jobs=1)]: Done  80 out of  80 | elapsed:    9.9s finished\n"
          ]
        }
      ]
    },
    {
      "cell_type": "code",
      "metadata": {
        "colab": {
          "base_uri": "https://localhost:8080/"
        },
        "id": "N0ASc3d59Rvu",
        "outputId": "99a001b4-ae3d-4313-f876-b2e9c0c1699f"
      },
      "source": [
        "best_value_list = list(grid_result2.best_params_.values())\n",
        "best_colsample_bytree = best_value_list[0]\n",
        "print(\"Captured the best parameter for colsample_bytree:\", best_colsample_bytree)\n",
        "best_subsample = best_value_list[1]\n",
        "print(\"Captured the best parameter for subsample:\", best_subsample)"
      ],
      "execution_count": 41,
      "outputs": [
        {
          "output_type": "stream",
          "name": "stdout",
          "text": [
            "Captured the best parameter for colsample_bytree: 1.0\n",
            "Captured the best parameter for subsample: 1.0\n"
          ]
        }
      ]
    },
    {
      "cell_type": "code",
      "metadata": {
        "colab": {
          "base_uri": "https://localhost:8080/"
        },
        "id": "c-3L_3SiA5U9",
        "outputId": "ccdbb65d-aee1-47db-ea42-eace41710fbb"
      },
      "source": [
        "# Tuning XGBoost subsample and colsample_bytree parameters\n",
        "start_time_module = datetime.now()\n",
        "if NOTIFY_STATUS: status_notify(\"Algorithm tuning iteration #2 has begun! \"+datetime.now().strftime('%a %B %d, %Y %I:%M:%S %p'))\n",
        "\n",
        "tune_model3 = XGBClassifier(n_estimators=best_n_estimators, max_depth=best_max_depth, min_child_weight=best_min_child_weight,\n",
        "                            colsample_bytree=best_colsample_bytree, subsample=best_subsample,\n",
        "                            random_state=RNG_SEED, n_jobs=N_JOBS, objective='binary:logistic', tree_method='gpu_hist')\n",
        "tune_model_names.append('XGB_3')\n",
        "paramGrid3 = dict(learning_rate=np.array([0.1, 0.05, 0.01, 0.005]))\n",
        "\n",
        "kfold = StratifiedKFold(n_splits=N_FOLDS, shuffle=True, random_state=RNG_SEED)\n",
        "grid3 = GridSearchCV(estimator=tune_model3, param_grid=paramGrid3, scoring=SCORING_METRIC, cv=kfold, n_jobs=N_JOBS, verbose=1)\n",
        "grid_result3 = grid3.fit(array_features_train, array_target_train)\n",
        "\n",
        "print(\"Best: %f using %s\" % (grid_result3.best_score_, grid_result3.best_params_))\n",
        "tune_results.append(grid_result3.cv_results_['mean_test_score'])\n",
        "means = grid_result3.cv_results_['mean_test_score']\n",
        "stds = grid_result3.cv_results_['std_test_score']\n",
        "params = grid_result3.cv_results_['params']\n",
        "for mean, stdev, param in zip(means, stds, params):\n",
        "    print(\"%f (%f) with: %r\" % (mean, stdev, param))\n",
        "print ('Model training time:',(datetime.now() - start_time_module))\n",
        "if NOTIFY_STATUS: status_notify(\"Algorithm tuning iteration #3 completed! \"+datetime.now().strftime('%a %B %d, %Y %I:%M:%S %p'))"
      ],
      "execution_count": 42,
      "outputs": [
        {
          "output_type": "stream",
          "name": "stderr",
          "text": [
            "[Parallel(n_jobs=1)]: Using backend SequentialBackend with 1 concurrent workers.\n"
          ]
        },
        {
          "output_type": "stream",
          "name": "stdout",
          "text": [
            "Fitting 5 folds for each of 4 candidates, totalling 20 fits\n",
            "Best: 0.990377 using {'learning_rate': 0.1}\n",
            "0.990377 (0.000376) with: {'learning_rate': 0.1}\n",
            "0.989345 (0.001376) with: {'learning_rate': 0.05}\n",
            "0.989071 (0.001029) with: {'learning_rate': 0.01}\n",
            "0.989002 (0.001043) with: {'learning_rate': 0.005}\n",
            "Model training time: 0:00:02.522383\n"
          ]
        },
        {
          "output_type": "stream",
          "name": "stderr",
          "text": [
            "[Parallel(n_jobs=1)]: Done  20 out of  20 | elapsed:    2.4s finished\n"
          ]
        }
      ]
    },
    {
      "cell_type": "code",
      "metadata": {
        "colab": {
          "base_uri": "https://localhost:8080/"
        },
        "id": "Fsdh6FcB91AN",
        "outputId": "dcf2befa-6bca-42f4-a7be-21509f2c663c"
      },
      "source": [
        "best_value_list = list(grid_result3.best_params_.values())\n",
        "best_learning_rate = best_value_list[0]\n",
        "print(\"Captured the best parameter for learning_rate:\", best_learning_rate)"
      ],
      "execution_count": 43,
      "outputs": [
        {
          "output_type": "stream",
          "name": "stdout",
          "text": [
            "Captured the best parameter for learning_rate: 0.1\n"
          ]
        }
      ]
    },
    {
      "cell_type": "markdown",
      "metadata": {
        "id": "GeTnXsgJ3l8H"
      },
      "source": [
        "### 4.c) Compare Algorithms After Tuning"
      ]
    },
    {
      "cell_type": "code",
      "metadata": {
        "colab": {
          "base_uri": "https://localhost:8080/",
          "height": 842
        },
        "id": "RqXMqwAb3l8H",
        "outputId": "4d4697af-2173-4da7-cdc4-b7cdad13f54b"
      },
      "source": [
        "fig = plt.figure(figsize=(16,12))\n",
        "fig.suptitle('Algorithm Comparison - Post Tuning')\n",
        "ax = fig.add_subplot(111)\n",
        "plt.boxplot(tune_results)\n",
        "ax.set_xticklabels(tune_model_names)\n",
        "plt.show()"
      ],
      "execution_count": 44,
      "outputs": [
        {
          "output_type": "stream",
          "name": "stderr",
          "text": [
            "/usr/local/lib/python3.7/dist-packages/numpy/core/_asarray.py:83: VisibleDeprecationWarning: Creating an ndarray from ragged nested sequences (which is a list-or-tuple of lists-or-tuples-or ndarrays with different lengths or shapes) is deprecated. If you meant to do this, you must specify 'dtype=object' when creating the ndarray\n",
            "  return array(a, dtype, copy=False, order=order)\n"
          ]
        },
        {
          "output_type": "display_data",
          "data": {
            "image/png": "[encoded data removed]",
            "text/plain": [
              "<Figure size 1152x864 with 1 Axes>"
            ]
          },
          "metadata": {
            "needs_background": "light"
          }
        }
      ]
    },
    {
      "cell_type": "code",
      "metadata": {
        "id": "2PxkOhNE3l8F"
      },
      "source": [
        "if NOTIFY_STATUS: status_notify(\"Task 4 - Train and Evaluate Models completed! \"+datetime.now().strftime('%a %B %d, %Y %I:%M:%S %p'))"
      ],
      "execution_count": 45,
      "outputs": []
    },
    {
      "cell_type": "markdown",
      "metadata": {
        "id": "rIRMoNm63l8H"
      },
      "source": [
        "## Task 5 - Finalize Model and Present Analysis"
      ]
    },
    {
      "cell_type": "code",
      "metadata": {
        "id": "wgw8i_ME3l8H"
      },
      "source": [
        "if NOTIFY_STATUS: status_notify(\"Task 5 - Finalize Model and Present Analysis has begun! \"+datetime.now().strftime('%a %B %d, %Y %I:%M:%S %p'))"
      ],
      "execution_count": 46,
      "outputs": []
    },
    {
      "cell_type": "markdown",
      "metadata": {
        "id": "YsQONLo33l8I"
      },
      "source": [
        "### 6.a) Train the Final Model"
      ]
    },
    {
      "cell_type": "code",
      "metadata": {
        "colab": {
          "base_uri": "https://localhost:8080/"
        },
        "id": "TIDASCL13l8I",
        "outputId": "f8725e40-1f9e-4db9-8399-f19d091f6d14"
      },
      "source": [
        "final_model = XGBClassifier(n_estimators=best_n_estimators, max_depth=best_max_depth, min_child_weight=best_min_child_weight,\n",
        "                            colsample_bytree=best_colsample_bytree, subsample=best_subsample, learning_rate=best_learning_rate,\n",
        "                            random_state=RNG_SEED, n_jobs=N_JOBS, objective='binary:logistic', tree_method='gpu_hist')\n",
        "final_model.fit(array_features_train, array_target_train)\n",
        "print(final_model)"
      ],
      "execution_count": 47,
      "outputs": [
        {
          "output_type": "stream",
          "name": "stdout",
          "text": [
            "XGBClassifier(base_score=0.5, booster='gbtree', colsample_bylevel=1,\n",
            "              colsample_bynode=1, colsample_bytree=1.0, gamma=0,\n",
            "              learning_rate=0.1, max_delta_step=0, max_depth=3,\n",
            "              min_child_weight=1, missing=None, n_estimators=100, n_jobs=1,\n",
            "              nthread=None, objective='binary:logistic', random_state=888,\n",
            "              reg_alpha=0, reg_lambda=1, scale_pos_weight=1, seed=None,\n",
            "              silent=None, subsample=1.0, tree_method='gpu_hist', verbosity=1)\n"
          ]
        }
      ]
    },
    {
      "cell_type": "markdown",
      "metadata": {
        "id": "tzeEayxg3l8I"
      },
      "source": [
        "### 6.b) Load Test Dataset and Prepare the Submission File"
      ]
    },
    {
      "cell_type": "code",
      "metadata": {
        "colab": {
          "base_uri": "https://localhost:8080/"
        },
        "id": "avu1nEAa3l8J",
        "outputId": "60388f1c-8142-4b5e-b08e-26424ee17418"
      },
      "source": [
        "# Finalize the test dataset for the modeling testing\n",
        "array_features_test = preprocessor.transform(df_features_test)\n",
        "array_target_test = class_encoder.transform(df_target_test)\n",
        "print(\"array_features_test.shape: {} array_target_test.shape: {}\".format(array_features_test.shape, array_target_test.shape))"
      ],
      "execution_count": 48,
      "outputs": [
        {
          "output_type": "stream",
          "name": "stdout",
          "text": [
            "array_features_test.shape: (3637, 10) array_target_test.shape: (3637,)\n"
          ]
        }
      ]
    },
    {
      "cell_type": "code",
      "metadata": {
        "colab": {
          "base_uri": "https://localhost:8080/"
        },
        "id": "-czkeOmO3l8K",
        "outputId": "1c62eaff-4994-45bd-f835-b1d8e3b6ec67"
      },
      "source": [
        "# Make batched predictions\n",
        "test_predictions = final_model.predict(array_features_test)\n",
        "print('Accuracy Score:', accuracy_score(array_target_test, test_predictions))\n",
        "print('ROC/AUC Score:', roc_auc_score(array_target_test, test_predictions))\n",
        "print(confusion_matrix(array_target_test, test_predictions))\n",
        "print(classification_report(array_target_test, test_predictions))"
      ],
      "execution_count": 49,
      "outputs": [
        {
          "output_type": "stream",
          "name": "stdout",
          "text": [
            "Accuracy Score: 0.9879021171295024\n",
            "ROC/AUC Score: 0.9877844205332389\n",
            "[[1618   22]\n",
            " [  22 1975]]\n",
            "              precision    recall  f1-score   support\n",
            "\n",
            "           0       0.99      0.99      0.99      1640\n",
            "           1       0.99      0.99      0.99      1997\n",
            "\n",
            "    accuracy                           0.99      3637\n",
            "   macro avg       0.99      0.99      0.99      3637\n",
            "weighted avg       0.99      0.99      0.99      3637\n",
            "\n"
          ]
        }
      ]
    },
    {
      "cell_type": "code",
      "metadata": {
        "id": "TE7Ey5753l8K"
      },
      "source": [
        "if NOTIFY_STATUS: status_notify(\"Task 5 - Finalize Model and Present Analysis completed! \"+datetime.now().strftime('%a %B %d, %Y %I:%M:%S %p'))"
      ],
      "execution_count": 50,
      "outputs": []
    },
    {
      "cell_type": "code",
      "metadata": {
        "colab": {
          "base_uri": "https://localhost:8080/"
        },
        "id": "nxfno4RT3l8K",
        "outputId": "acfe54e8-c141-4c40-c173-8032797d4903"
      },
      "source": [
        "print ('Total time for the script:',(datetime.now() - start_time_script))"
      ],
      "execution_count": 51,
      "outputs": [
        {
          "output_type": "stream",
          "name": "stdout",
          "text": [
            "Total time for the script: 0:05:53.812020\n"
          ]
        }
      ]
    }
  ]
}
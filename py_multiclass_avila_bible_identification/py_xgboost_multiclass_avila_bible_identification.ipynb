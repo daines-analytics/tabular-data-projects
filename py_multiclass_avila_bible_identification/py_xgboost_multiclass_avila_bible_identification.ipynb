{
  "cells": [
    {
      "cell_type": "markdown",
      "metadata": {
        "id": "uTujCqduViZB"
      },
      "source": [
        "# Multi-Class Tabular Model for Avila Bible Identification Using Python and XGBoost\n",
        "### David Lowe\n",
        "### May 19, 2022\n",
        "\n",
        "SUMMARY: The project aims to construct a predictive model using various machine learning algorithms and document the end-to-end steps using a template. The Avila Bible Identification dataset is a multi-class modeling situation where we attempt to predict one of several (more than two) possible outcomes.\n",
        "\n",
        "INTRODUCTION: The Avila dataset includes 800 images extracted from the \"Avila Bible,\" a giant Latin copy of the whole Bible produced during the XII century between Italy and Spain. The paleographic analysis of the manuscript has identified the presence of 12 transcribers; however, each transcriber did not transcribe the same number of pages. The prediction task is to associate each pattern to one of the 12 transcribers labeled as A, B, C, D, E, F, G, H, I, W, X, and Y. The research team normalized the data using the Z-normalization method and divided the dataset into two portions, training and test. The training set contains 10,430 samples, while the test set contains 10,437 samples.\n",
        "\n",
        "ANALYSIS: The performance of the preliminary XGBoost model achieved an accuracy benchmark of 86.67%. After a series of tuning trials, the final model processed the training dataset with an accuracy score of 99.79%. When we processed the test dataset with the final model, the model achieved an accuracy score of 99.81%.\n",
        "\n",
        "CONCLUSION: In this iteration, the XGBoost model appeared to be a suitable algorithm for modeling this dataset.\n",
        "\n",
        "Dataset Used: Avila Bible Dataset\n",
        "\n",
        "Dataset ML Model: Multi-Class classification with numerical features\n",
        "\n",
        "Dataset Reference: https://archive-beta.ics.uci.edu/ml/datasets/avila\n",
        "\n",
        "One source of potential performance benchmarks: https://www.sciencedirect.com/science/article/abs/pii/S0952197618300721"
      ]
    },
    {
      "cell_type": "markdown",
      "metadata": {
        "id": "CpOJ4D0sViZE"
      },
      "source": [
        "## Task 1 - Prepare Environment"
      ]
    },
    {
      "cell_type": "code",
      "execution_count": 1,
      "metadata": {
        "id": "lacFSiqQViZE",
        "outputId": "2d9db9a6-2190-4c48-c185-8f358a827369",
        "colab": {
          "base_uri": "https://localhost:8080/"
        }
      },
      "outputs": [
        {
          "output_type": "stream",
          "name": "stdout",
          "text": [
            "Fri May 13 02:03:31 2022       \n",
            "+-----------------------------------------------------------------------------+\n",
            "| NVIDIA-SMI 460.32.03    Driver Version: 460.32.03    CUDA Version: 11.2     |\n",
            "|-------------------------------+----------------------+----------------------+\n",
            "| GPU  Name        Persistence-M| Bus-Id        Disp.A | Volatile Uncorr. ECC |\n",
            "| Fan  Temp  Perf  Pwr:Usage/Cap|         Memory-Usage | GPU-Util  Compute M. |\n",
            "|                               |                      |               MIG M. |\n",
            "|===============================+======================+======================|\n",
            "|   0  Tesla V100-SXM2...  Off  | 00000000:00:04.0 Off |                    0 |\n",
            "| N/A   36C    P0    28W / 300W |      0MiB / 16160MiB |      0%      Default |\n",
            "|                               |                      |                  N/A |\n",
            "+-------------------------------+----------------------+----------------------+\n",
            "                                                                               \n",
            "+-----------------------------------------------------------------------------+\n",
            "| Processes:                                                                  |\n",
            "|  GPU   GI   CI        PID   Type   Process name                  GPU Memory |\n",
            "|        ID   ID                                                   Usage      |\n",
            "|=============================================================================|\n",
            "|  No running processes found                                                 |\n",
            "+-----------------------------------------------------------------------------+\n"
          ]
        }
      ],
      "source": [
        "# Retrieve the GPU information\n",
        "gpu_info = !nvidia-smi\n",
        "gpu_info = '\\n'.join(gpu_info)\n",
        "print(gpu_info)"
      ]
    },
    {
      "cell_type": "code",
      "execution_count": 2,
      "metadata": {
        "id": "DxtB-TajViZF",
        "outputId": "f13c0b06-1c03-49bb-a3a0-3ca65ba0f622",
        "colab": {
          "base_uri": "https://localhost:8080/"
        }
      },
      "outputs": [
        {
          "output_type": "stream",
          "name": "stdout",
          "text": [
            "Your runtime has 13.6 gigabytes of available RAM\n",
            "\n"
          ]
        }
      ],
      "source": [
        "# Retrieve the memory configuration\n",
        "from psutil import virtual_memory\n",
        "ram_gb = virtual_memory().total / 1e9\n",
        "print('Your runtime has {:.1f} gigabytes of available RAM\\n'.format(ram_gb))"
      ]
    },
    {
      "cell_type": "code",
      "execution_count": 3,
      "metadata": {
        "id": "M5P-B3EHViZG",
        "outputId": "3cd49284-d559-4289-f5a2-5934ee642ca1",
        "colab": {
          "base_uri": "https://localhost:8080/"
        }
      },
      "outputs": [
        {
          "output_type": "stream",
          "name": "stdout",
          "text": [
            "The number of available CPUs is: 2\n"
          ]
        }
      ],
      "source": [
        "# Retrieve the CPU information\n",
        "ncpu = !nproc\n",
        "print(\"The number of available CPUs is:\", ncpu[0])"
      ]
    },
    {
      "cell_type": "markdown",
      "metadata": {
        "id": "PO6xpyHQViZG"
      },
      "source": [
        "### 1.a) Load libraries and modules"
      ]
    },
    {
      "cell_type": "code",
      "execution_count": 4,
      "metadata": {
        "id": "8wN4G-ONViZG"
      },
      "outputs": [],
      "source": [
        "# Set the random seed number for reproducible results\n",
        "RNG_SEED = 888"
      ]
    },
    {
      "cell_type": "code",
      "execution_count": 5,
      "metadata": {
        "id": "c_m1fMFIViZH"
      },
      "outputs": [],
      "source": [
        "import numpy as np\n",
        "import pandas as pd\n",
        "import seaborn as sns\n",
        "import matplotlib.pyplot as plt\n",
        "import os\n",
        "import sys\n",
        "import math\n",
        "# import boto3\n",
        "import zipfile\n",
        "from datetime import datetime\n",
        "from sklearn import preprocessing\n",
        "from sklearn.model_selection import train_test_split\n",
        "from sklearn.model_selection import StratifiedKFold\n",
        "from sklearn.model_selection import cross_val_score\n",
        "from sklearn.model_selection import GridSearchCV\n",
        "from sklearn.metrics import classification_report\n",
        "from sklearn.metrics import confusion_matrix\n",
        "from sklearn.metrics import accuracy_score\n",
        "from sklearn.pipeline import Pipeline\n",
        "from sklearn import compose\n",
        "from sklearn import impute\n",
        "\n",
        "# from sklearn.feature_selection import RFE\n",
        "# from imblearn.pipeline import Pipeline\n",
        "# from imblearn.over_sampling import SMOTE\n",
        "# from imblearn.under_sampling import RandomUnderSampler\n",
        "\n",
        "from xgboost import XGBClassifier"
      ]
    },
    {
      "cell_type": "markdown",
      "metadata": {
        "id": "R9eAm3poViZH"
      },
      "source": [
        "### 1.b) Set up the controlling parameters and functions"
      ]
    },
    {
      "cell_type": "code",
      "execution_count": 6,
      "metadata": {
        "id": "IdkikF4vViZI"
      },
      "outputs": [],
      "source": [
        "# Begin the timer for the script processing\n",
        "START_TIME_SCRIPT = datetime.now()\n",
        "\n",
        "# Set up the number of CPU cores available for multi-thread processing\n",
        "N_JOBS = 1\n",
        "\n",
        "# Set up the flag to stop sending progress emails (setting to True will send status emails!)\n",
        "NOTIFY_STATUS = False\n",
        "\n",
        "# Set the percentage sizes for splitting the dataset\n",
        "TEST_SET_RATIO = 0.1\n",
        "VAL_SET_RATIO = 0.1\n",
        "\n",
        "# Set the name for the class/label column\n",
        "ORIGINAL_LABEL = 'Class'\n",
        "CLASS_COLUMN = 'target'\n",
        "\n",
        "# Set the number of folds for cross validation\n",
        "N_FOLDS = 5\n",
        "\n",
        "# Set default modeling scoring metric\n",
        "SCORING_METRIC = 'accuracy'\n",
        "\n",
        "# Define the directory locations and file names\n",
        "TRAIN_DATASET = 'avila-tr.txt'\n",
        "TEST_DATASET = 'avila-ts.txt'"
      ]
    },
    {
      "cell_type": "code",
      "execution_count": 7,
      "metadata": {
        "id": "yd6Q3v1IViZI"
      },
      "outputs": [],
      "source": [
        "# Set up the email notification function\n",
        "def status_notify(msg_text):\n",
        "    access_key = os.environ.get('SNS_ACCESS_KEY')\n",
        "    secret_key = os.environ.get('SNS_SECRET_KEY')\n",
        "    aws_region = os.environ.get('SNS_AWS_REGION')\n",
        "    topic_arn = os.environ.get('SNS_TOPIC_ARN')\n",
        "    if (access_key is None) or (secret_key is None) or (aws_region is None):\n",
        "        sys.exit(\"Incomplete notification setup info. Script Processing Aborted!!!\")\n",
        "    sns = boto3.client('sns', aws_access_key_id=access_key, aws_secret_access_key=secret_key, region_name=aws_region)\n",
        "    response = sns.publish(TopicArn=topic_arn, Message=msg_text)\n",
        "    if response['ResponseMetadata']['HTTPStatusCode'] != 200 :\n",
        "        print('Status notification not OK with HTTP status code:', response['ResponseMetadata']['HTTPStatusCode'])"
      ]
    },
    {
      "cell_type": "code",
      "execution_count": 8,
      "metadata": {
        "id": "vUXsPt2cViZJ"
      },
      "outputs": [],
      "source": [
        "if NOTIFY_STATUS: status_notify(\"Task 1 - Prepare Environment has begun! \" + datetime.now().strftime('%a %B %d, %Y %I:%M:%S %p'))"
      ]
    },
    {
      "cell_type": "markdown",
      "metadata": {
        "id": "q_Bvl4siViZJ"
      },
      "source": [
        "### 1.c) Load dataset"
      ]
    },
    {
      "cell_type": "code",
      "execution_count": 9,
      "metadata": {
        "id": "3J3YmvfcViZJ"
      },
      "outputs": [],
      "source": [
        "if not os.path.exists(TRAIN_DATASET):\n",
        "    !wget https://dainesanalytics.com/datasets/ucirvine-avila-bible-identification/avila-tr.txt"
      ]
    },
    {
      "cell_type": "code",
      "execution_count": 10,
      "metadata": {
        "id": "xLOu39vyViZK",
        "outputId": "1208ad33-d1b9-4078-b6f0-43bea84cb07e",
        "colab": {
          "base_uri": "https://localhost:8080/"
        }
      },
      "outputs": [
        {
          "output_type": "stream",
          "name": "stdout",
          "text": [
            "         F1        F2        F3        F4        F5        F6        F7  \\\n",
            "0  0.266074 -0.165620  0.320980  0.483299  0.172340  0.273364  0.371178   \n",
            "1  0.130292  0.870736 -3.210528  0.062493  0.261718  1.436060  1.465940   \n",
            "2 -0.116585  0.069915  0.068476 -0.783147  0.261718  0.439463 -0.081827   \n",
            "3  0.031541  0.297600 -3.210528 -0.583590 -0.721442 -0.307984  0.710932   \n",
            "4  0.229043  0.807926 -0.052442  0.082634  0.261718  0.148790  0.635431   \n",
            "5  0.117948 -0.220579 -3.210528 -1.623238  0.261718 -0.349509  0.257927   \n",
            "6  0.389513 -0.220579 -3.210528 -2.624155  0.261718 -0.764757  0.484429   \n",
            "7  0.019197 -0.040001  0.288973 -0.042597  0.261718 -1.013906  0.069175   \n",
            "8  0.500607  0.140576  0.388552 -0.637358  0.261718 -0.681707  0.295677   \n",
            "9 -0.252367  0.069915  0.246296  0.523550  0.261718 -1.221530  0.899684   \n",
            "\n",
            "         F8        F9       F10 Class  \n",
            "0  0.929823  0.251173  0.159345     A  \n",
            "1  0.636203  0.282354  0.515587     A  \n",
            "2 -0.888236 -0.123005  0.582939     A  \n",
            "3  1.051693  0.594169 -0.533994     A  \n",
            "4  0.051062  0.032902 -0.086652     F  \n",
            "5 -0.385979 -0.247731 -0.331310     A  \n",
            "6 -0.597510 -0.372457 -0.810261     A  \n",
            "7  0.890701  0.095265 -0.842014     F  \n",
            "8  0.931046  0.500624 -0.642297     H  \n",
            "9  1.373076  0.625350 -1.400890     E  \n"
          ]
        }
      ],
      "source": [
        "colNames = ['F1','F2','F3','F4','F5','F6','F7','F8','F9','F10','Class']\n",
        "df_dataset_import = pd.read_csv(TRAIN_DATASET, names=colNames, sep=',', header=None, index_col=False)\n",
        "\n",
        "# Take a peek at the dataframe after import\n",
        "print(df_dataset_import.head(10))"
      ]
    },
    {
      "cell_type": "code",
      "execution_count": 11,
      "metadata": {
        "id": "hh61JaxGViZK",
        "outputId": "95bcd7de-d130-48e0-bce4-9178a9c0b493",
        "colab": {
          "base_uri": "https://localhost:8080/"
        }
      },
      "outputs": [
        {
          "output_type": "stream",
          "name": "stdout",
          "text": [
            "<class 'pandas.core.frame.DataFrame'>\n",
            "RangeIndex: 10430 entries, 0 to 10429\n",
            "Data columns (total 11 columns):\n",
            " #   Column  Non-Null Count  Dtype  \n",
            "---  ------  --------------  -----  \n",
            " 0   F1      10430 non-null  float64\n",
            " 1   F2      10430 non-null  float64\n",
            " 2   F3      10430 non-null  float64\n",
            " 3   F4      10430 non-null  float64\n",
            " 4   F5      10430 non-null  float64\n",
            " 5   F6      10430 non-null  float64\n",
            " 6   F7      10430 non-null  float64\n",
            " 7   F8      10430 non-null  float64\n",
            " 8   F9      10430 non-null  float64\n",
            " 9   F10     10430 non-null  float64\n",
            " 10  Class   10430 non-null  object \n",
            "dtypes: float64(10), object(1)\n",
            "memory usage: 896.5+ KB\n"
          ]
        }
      ],
      "source": [
        "df_dataset_import.info(verbose=True)"
      ]
    },
    {
      "cell_type": "code",
      "execution_count": 12,
      "metadata": {
        "id": "H4E9OUytViZK",
        "outputId": "fd87f047-5e0e-48fa-edcb-a2b569cdc325",
        "colab": {
          "base_uri": "https://localhost:8080/"
        }
      },
      "outputs": [
        {
          "output_type": "stream",
          "name": "stdout",
          "text": [
            "                 F1            F2            F3            F4            F5  \\\n",
            "count  10430.000000  10430.000000  10430.000000  10430.000000  10430.000000   \n",
            "mean       0.000852      0.033611     -0.000525     -0.002387      0.006370   \n",
            "std        0.991431      3.920868      1.120202      1.008527      0.992053   \n",
            "min       -3.498799     -2.426761     -3.210528     -5.440122     -4.922215   \n",
            "25%       -0.128929     -0.259834      0.064919     -0.528002      0.172340   \n",
            "50%        0.043885     -0.055704      0.217845      0.095763      0.261718   \n",
            "75%        0.204355      0.203385      0.352988      0.658210      0.261718   \n",
            "max       11.819916    386.000000     50.000000      3.987152      1.066121   \n",
            "\n",
            "                 F6            F7            F8            F9           F10  \n",
            "count  10430.000000  10430.000000  10430.000000  10430.000000  10430.000000  \n",
            "mean       0.013973      0.005605      0.010323      0.012914      0.000818  \n",
            "std        1.126245      1.313754      1.003507      1.087665      1.007094  \n",
            "min       -7.450257    -11.935457     -4.247781     -5.486218     -6.719324  \n",
            "25%       -0.598658     -0.044076     -0.541991     -0.372457     -0.516097  \n",
            "50%       -0.058835      0.220177      0.111803      0.064084     -0.034513  \n",
            "75%        0.564038      0.446679      0.654944      0.500624      0.530855  \n",
            "max       53.000000     83.000000     13.173081     44.000000      4.671232  \n"
          ]
        }
      ],
      "source": [
        "print(df_dataset_import.describe())"
      ]
    },
    {
      "cell_type": "code",
      "execution_count": 13,
      "metadata": {
        "id": "hLrJ1Su4ViZK",
        "outputId": "f049c63c-4496-4858-f25f-b8051bec8f8d",
        "colab": {
          "base_uri": "https://localhost:8080/"
        }
      },
      "outputs": [
        {
          "output_type": "stream",
          "name": "stdout",
          "text": [
            "F1       0\n",
            "F2       0\n",
            "F3       0\n",
            "F4       0\n",
            "F5       0\n",
            "F6       0\n",
            "F7       0\n",
            "F8       0\n",
            "F9       0\n",
            "F10      0\n",
            "Class    0\n",
            "dtype: int64\n",
            "Total number of NaN in the dataframe:  0\n"
          ]
        }
      ],
      "source": [
        "print(df_dataset_import.isnull().sum())\n",
        "print('Total number of NaN in the dataframe: ', df_dataset_import.isnull().sum().sum())"
      ]
    },
    {
      "cell_type": "code",
      "execution_count": 14,
      "metadata": {
        "id": "07ghAOPqViZK",
        "outputId": "568c9455-dc89-41ec-8955-a4c7f8eb4e73",
        "colab": {
          "base_uri": "https://localhost:8080/"
        }
      },
      "outputs": [
        {
          "output_type": "stream",
          "name": "stdout",
          "text": [
            "Class\n",
            "A    4286\n",
            "B       5\n",
            "C     103\n",
            "D     352\n",
            "E    1095\n",
            "F    1961\n",
            "G     446\n",
            "H     519\n",
            "I     831\n",
            "W      44\n",
            "X     522\n",
            "Y     266\n",
            "dtype: int64\n"
          ]
        }
      ],
      "source": [
        "# Get grouping size for the target variable\n",
        "print(df_dataset_import.groupby(ORIGINAL_LABEL).size())"
      ]
    },
    {
      "cell_type": "markdown",
      "metadata": {
        "id": "k79hRaYnViZK"
      },
      "source": [
        "### 1.d) Data Cleaning"
      ]
    },
    {
      "cell_type": "code",
      "execution_count": 15,
      "metadata": {
        "id": "7HBPom3PViZK",
        "outputId": "7f8b9667-7c85-490b-d3d9-f861bc4afcc0",
        "colab": {
          "base_uri": "https://localhost:8080/"
        }
      },
      "outputs": [
        {
          "output_type": "stream",
          "name": "stdout",
          "text": [
            "         F1        F2        F3        F4        F5        F6        F7  \\\n",
            "0  0.266074 -0.165620  0.320980  0.483299  0.172340  0.273364  0.371178   \n",
            "1  0.130292  0.870736 -3.210528  0.062493  0.261718  1.436060  1.465940   \n",
            "2 -0.116585  0.069915  0.068476 -0.783147  0.261718  0.439463 -0.081827   \n",
            "3  0.031541  0.297600 -3.210528 -0.583590 -0.721442 -0.307984  0.710932   \n",
            "4  0.229043  0.807926 -0.052442  0.082634  0.261718  0.148790  0.635431   \n",
            "\n",
            "         F8        F9       F10 target  \n",
            "0  0.929823  0.251173  0.159345      A  \n",
            "1  0.636203  0.282354  0.515587      A  \n",
            "2 -0.888236 -0.123005  0.582939      A  \n",
            "3  1.051693  0.594169 -0.533994      A  \n",
            "4  0.051062  0.032902 -0.086652      F  \n"
          ]
        }
      ],
      "source": [
        "# Standardize the class column to the name of targetVar if required\n",
        "df_dataset_import = df_dataset_import.rename(columns={ORIGINAL_LABEL: CLASS_COLUMN})\n",
        "\n",
        "# Take a peek at the dataframe after cleaning\n",
        "print(df_dataset_import.head())"
      ]
    },
    {
      "cell_type": "code",
      "execution_count": 16,
      "metadata": {
        "id": "wbCDZq1iViZL",
        "outputId": "3202c8b4-6554-405b-bb79-127cc427e0e8",
        "colab": {
          "base_uri": "https://localhost:8080/"
        }
      },
      "outputs": [
        {
          "output_type": "stream",
          "name": "stdout",
          "text": [
            "<class 'pandas.core.frame.DataFrame'>\n",
            "RangeIndex: 10430 entries, 0 to 10429\n",
            "Data columns (total 11 columns):\n",
            " #   Column  Non-Null Count  Dtype  \n",
            "---  ------  --------------  -----  \n",
            " 0   F1      10430 non-null  float64\n",
            " 1   F2      10430 non-null  float64\n",
            " 2   F3      10430 non-null  float64\n",
            " 3   F4      10430 non-null  float64\n",
            " 4   F5      10430 non-null  float64\n",
            " 5   F6      10430 non-null  float64\n",
            " 6   F7      10430 non-null  float64\n",
            " 7   F8      10430 non-null  float64\n",
            " 8   F9      10430 non-null  float64\n",
            " 9   F10     10430 non-null  float64\n",
            " 10  target  10430 non-null  object \n",
            "dtypes: float64(10), object(1)\n",
            "memory usage: 896.5+ KB\n"
          ]
        }
      ],
      "source": [
        "df_dataset_import.info(verbose=True)"
      ]
    },
    {
      "cell_type": "code",
      "execution_count": 17,
      "metadata": {
        "id": "Ww92c4w7ViZL",
        "outputId": "d06ea2ec-5e4b-4cf1-caaa-9fac21762b04",
        "colab": {
          "base_uri": "https://localhost:8080/"
        }
      },
      "outputs": [
        {
          "output_type": "stream",
          "name": "stdout",
          "text": [
            "                 F1            F2            F3            F4            F5  \\\n",
            "count  10430.000000  10430.000000  10430.000000  10430.000000  10430.000000   \n",
            "mean       0.000852      0.033611     -0.000525     -0.002387      0.006370   \n",
            "std        0.991431      3.920868      1.120202      1.008527      0.992053   \n",
            "min       -3.498799     -2.426761     -3.210528     -5.440122     -4.922215   \n",
            "25%       -0.128929     -0.259834      0.064919     -0.528002      0.172340   \n",
            "50%        0.043885     -0.055704      0.217845      0.095763      0.261718   \n",
            "75%        0.204355      0.203385      0.352988      0.658210      0.261718   \n",
            "max       11.819916    386.000000     50.000000      3.987152      1.066121   \n",
            "\n",
            "                 F6            F7            F8            F9           F10  \n",
            "count  10430.000000  10430.000000  10430.000000  10430.000000  10430.000000  \n",
            "mean       0.013973      0.005605      0.010323      0.012914      0.000818  \n",
            "std        1.126245      1.313754      1.003507      1.087665      1.007094  \n",
            "min       -7.450257    -11.935457     -4.247781     -5.486218     -6.719324  \n",
            "25%       -0.598658     -0.044076     -0.541991     -0.372457     -0.516097  \n",
            "50%       -0.058835      0.220177      0.111803      0.064084     -0.034513  \n",
            "75%        0.564038      0.446679      0.654944      0.500624      0.530855  \n",
            "max       53.000000     83.000000     13.173081     44.000000      4.671232  \n"
          ]
        }
      ],
      "source": [
        "print(df_dataset_import.describe())"
      ]
    },
    {
      "cell_type": "code",
      "execution_count": 18,
      "metadata": {
        "id": "89hWrwe6ViZL",
        "outputId": "0e2eb82e-295b-45d9-9ac6-12f4eba7e91d",
        "colab": {
          "base_uri": "https://localhost:8080/"
        }
      },
      "outputs": [
        {
          "output_type": "stream",
          "name": "stdout",
          "text": [
            "F1        0\n",
            "F2        0\n",
            "F3        0\n",
            "F4        0\n",
            "F5        0\n",
            "F6        0\n",
            "F7        0\n",
            "F8        0\n",
            "F9        0\n",
            "F10       0\n",
            "target    0\n",
            "dtype: int64\n",
            "Total number of NaN in the dataframe:  0\n"
          ]
        }
      ],
      "source": [
        "print(df_dataset_import.isnull().sum())\n",
        "print('Total number of NaN in the dataframe: ', df_dataset_import.isnull().sum().sum())"
      ]
    },
    {
      "cell_type": "code",
      "execution_count": 19,
      "metadata": {
        "id": "KGs4GZ6-ViZL",
        "outputId": "37673dbb-bb3a-429a-e662-9fb3d0917897",
        "colab": {
          "base_uri": "https://localhost:8080/"
        }
      },
      "outputs": [
        {
          "output_type": "stream",
          "name": "stdout",
          "text": [
            "target\n",
            "A    4286\n",
            "B       5\n",
            "C     103\n",
            "D     352\n",
            "E    1095\n",
            "F    1961\n",
            "G     446\n",
            "H     519\n",
            "I     831\n",
            "W      44\n",
            "X     522\n",
            "Y     266\n",
            "dtype: int64\n"
          ]
        }
      ],
      "source": [
        "# Get grouping size for the target variable\n",
        "print(df_dataset_import.groupby(CLASS_COLUMN).size())"
      ]
    },
    {
      "cell_type": "markdown",
      "metadata": {
        "id": "kh4pXl29ViZL"
      },
      "source": [
        "### 1.e) Splitting Data into Sets"
      ]
    },
    {
      "cell_type": "code",
      "execution_count": 20,
      "metadata": {
        "id": "Ex6RhBcCViZL",
        "outputId": "1c98dbdb-b589-49e9-8fe6-c1d8e2395f8b",
        "colab": {
          "base_uri": "https://localhost:8080/"
        }
      },
      "outputs": [
        {
          "output_type": "stream",
          "name": "stdout",
          "text": [
            "df_dataset_import.shape: (10430, 11) df_features_import.shape: (10430, 10) df_target_import.shape: (10430,)\n"
          ]
        }
      ],
      "source": [
        "# Use variable total_column_count to hold the number of columns in the dataframe\n",
        "total_column_count = len(df_dataset_import.columns)\n",
        "\n",
        "# Set up variable total_feature_count for the total number of attribute columns\n",
        "total_feature_count = total_column_count-1\n",
        "\n",
        "# We create attribute-only and target-only datasets (df_features_train and df_target_train)\n",
        "df_target_import = df_dataset_import[CLASS_COLUMN]\n",
        "df_features_import = df_dataset_import.drop([CLASS_COLUMN], axis=1)\n",
        "\n",
        "print(\"df_dataset_import.shape: {} df_features_import.shape: {} df_target_import.shape: {}\".format(df_dataset_import.shape, df_features_import.shape, df_target_import.shape))"
      ]
    },
    {
      "cell_type": "code",
      "execution_count": 21,
      "metadata": {
        "id": "H2NpyD9FViZM",
        "outputId": "a56ca77d-0931-4870-b25f-3edd4c8237e7",
        "colab": {
          "base_uri": "https://localhost:8080/"
        }
      },
      "outputs": [
        {
          "output_type": "stream",
          "name": "stdout",
          "text": [
            "df_features_train.shape: (9387, 10) df_target_train.shape: (9387,)\n",
            "df_features_test.shape: (1043, 10) df_target_test.shape: (1043,)\n"
          ]
        }
      ],
      "source": [
        "# Split the data further into training and test datasets\n",
        "df_features_train, df_features_test, df_target_train, df_target_test = train_test_split(df_features_import, df_target_import,\n",
        "                                                                                        test_size=TEST_SET_RATIO, random_state=RNG_SEED,\n",
        "                                                                                        stratify=df_target_import)\n",
        "print(\"df_features_train.shape: {} df_target_train.shape: {}\".format(df_features_train.shape, df_target_train.shape))\n",
        "print(\"df_features_test.shape: {} df_target_test.shape: {}\".format(df_features_test.shape, df_target_test.shape))"
      ]
    },
    {
      "cell_type": "markdown",
      "metadata": {
        "id": "i99VwZJrViZM"
      },
      "source": [
        "### 1.f) Set up the parameters for data visualization"
      ]
    },
    {
      "cell_type": "code",
      "execution_count": 22,
      "metadata": {
        "id": "CywZOJhDViZM"
      },
      "outputs": [],
      "source": [
        "# Set up the number of row and columns for visualization display. display_rows * display_columns should be >= total_feature_count\n",
        "display_columns = 4\n",
        "if total_feature_count % display_columns == 0 :\n",
        "    display_rows = total_feature_count // display_columns\n",
        "else :\n",
        "    display_rows = (total_feature_count // display_columns) + 1\n",
        "\n",
        "# Set figure width to display the data visualization plots\n",
        "fig_size = plt.rcParams[\"figure.figsize\"]\n",
        "fig_size[0] = display_columns * 4\n",
        "fig_size[1] = display_rows * 4\n",
        "plt.rcParams[\"figure.figsize\"] = fig_size"
      ]
    },
    {
      "cell_type": "code",
      "execution_count": 23,
      "metadata": {
        "id": "SWFPW_x4ViZM"
      },
      "outputs": [],
      "source": [
        "if NOTIFY_STATUS: status_notify(\"Task 1 - Prepare Environment completed! \" + datetime.now().strftime('%a %B %d, %Y %I:%M:%S %p'))"
      ]
    },
    {
      "cell_type": "markdown",
      "metadata": {
        "id": "TV1LLl0TViZM"
      },
      "source": [
        "## Task 2 - Summarize and Visualize Data"
      ]
    },
    {
      "cell_type": "code",
      "execution_count": 24,
      "metadata": {
        "id": "y0Fd1Sw1ViZM"
      },
      "outputs": [],
      "source": [
        "if NOTIFY_STATUS: status_notify(\"Task 2 - Summarize and Visualize Data has begun! \" + datetime.now().strftime('%a %B %d, %Y %I:%M:%S %p'))"
      ]
    },
    {
      "cell_type": "code",
      "execution_count": 25,
      "metadata": {
        "id": "LjmegM0_ViZM",
        "outputId": "44834caf-c72c-4071-e519-60d7566d595d",
        "colab": {
          "base_uri": "https://localhost:8080/",
          "height": 700
        }
      },
      "outputs": [
        {
          "output_type": "display_data",
          "data": {
            "text/plain": [
              "<Figure size 1152x864 with 12 Axes>"
            ],
            "image/png": "[encoded data removed]"
          },
          "metadata": {
            "needs_background": "light"
          }
        }
      ],
      "source": [
        "# Histograms for each attribute\n",
        "df_features_train.plot(kind='hist', subplots=True, layout=(display_rows, display_columns))\n",
        "plt.show()"
      ]
    },
    {
      "cell_type": "code",
      "execution_count": 26,
      "metadata": {
        "id": "MhLRoBwoViZM",
        "outputId": "ef9b8a66-ad36-4c9c-f678-eccac02d0a53",
        "colab": {
          "base_uri": "https://localhost:8080/",
          "height": 700
        }
      },
      "outputs": [
        {
          "output_type": "display_data",
          "data": {
            "text/plain": [
              "<Figure size 1152x864 with 12 Axes>"
            ],
            "image/png": "[encoded data removed]"
          },
          "metadata": {
            "needs_background": "light"
          }
        }
      ],
      "source": [
        "# Box and Whisker plot for each attribute\n",
        "df_features_train.plot(kind='box', subplots=True, layout=(display_rows, display_columns))\n",
        "plt.show()"
      ]
    },
    {
      "cell_type": "code",
      "execution_count": 27,
      "metadata": {
        "id": "wVZXCA2-ViZM",
        "colab": {
          "base_uri": "https://localhost:8080/",
          "height": 1000
        },
        "outputId": "35775c24-a326-456d-90aa-b218d82f594b"
      },
      "outputs": [
        {
          "output_type": "display_data",
          "data": {
            "text/plain": [
              "<Figure size 1440x1440 with 2 Axes>"
            ],
            "image/png": "[encoded data removed]"
          },
          "metadata": {
            "needs_background": "light"
          }
        }
      ],
      "source": [
        "# Correlation matrix\n",
        "fig = plt.figure(figsize=(20, 20))\n",
        "correlations = df_features_train.corr(method='pearson')\n",
        "sns.heatmap(correlations, annot=True, cmap=plt.cm.PuBu)\n",
        "plt.show()"
      ]
    },
    {
      "cell_type": "code",
      "execution_count": 28,
      "metadata": {
        "tags": [],
        "id": "Y06DzC9iViZN"
      },
      "outputs": [],
      "source": [
        "if NOTIFY_STATUS: status_notify(\"Task 2 - Summarize and Visualize Data completed! \" + datetime.now().strftime('%a %B %d, %Y %I:%M:%S %p'))"
      ]
    },
    {
      "cell_type": "markdown",
      "metadata": {
        "id": "nUirhh-YViZN"
      },
      "source": [
        "## Task 3 - Pre-process Data"
      ]
    },
    {
      "cell_type": "code",
      "execution_count": 29,
      "metadata": {
        "id": "ubJ1OkeDViZN"
      },
      "outputs": [],
      "source": [
        "if NOTIFY_STATUS: status_notify(\"Task 3 - Pre-process Data has begun! \" + datetime.now().strftime('%a %B %d, %Y %I:%M:%S %p'))"
      ]
    },
    {
      "cell_type": "markdown",
      "metadata": {
        "id": "bBdegmC1ViZN"
      },
      "source": [
        "### 3.a) Feature Scaling"
      ]
    },
    {
      "cell_type": "code",
      "execution_count": 30,
      "metadata": {
        "id": "x69f9jVgViZN"
      },
      "outputs": [],
      "source": [
        "# Not applicable for this iteration of the project"
      ]
    },
    {
      "cell_type": "markdown",
      "metadata": {
        "id": "GDo-EE7vViZN"
      },
      "source": [
        "### 3.b) Training Data Balancing"
      ]
    },
    {
      "cell_type": "code",
      "execution_count": 31,
      "metadata": {
        "id": "FVU1JtNOViZN"
      },
      "outputs": [],
      "source": [
        "# Not applicable for this iteration of the project"
      ]
    },
    {
      "cell_type": "markdown",
      "metadata": {
        "id": "e-i6vz-gViZN"
      },
      "source": [
        "### 3.c) Feature Selection"
      ]
    },
    {
      "cell_type": "code",
      "execution_count": 32,
      "metadata": {
        "id": "vrGYGJEBViZN"
      },
      "outputs": [],
      "source": [
        "# Not applicable for this iteration of the project"
      ]
    },
    {
      "cell_type": "markdown",
      "metadata": {
        "id": "SqKyiRHlViZO"
      },
      "source": [
        "### 3.d) Display the Final Datasets for Model-Building"
      ]
    },
    {
      "cell_type": "code",
      "execution_count": 33,
      "metadata": {
        "id": "-4dLat26ViZO",
        "outputId": "97b1fa6c-1807-48ac-edb3-2a4d1aa53501",
        "colab": {
          "base_uri": "https://localhost:8080/"
        }
      },
      "outputs": [
        {
          "output_type": "stream",
          "name": "stdout",
          "text": [
            "array_features_train.shape: (9387, 10) array_target_train.shape: (9387,)\n"
          ]
        }
      ],
      "source": [
        "# Finalize the training dataset for the modeling activities\n",
        "array_features_train = df_features_train.to_numpy()\n",
        "label_encoder = preprocessing.LabelEncoder()\n",
        "array_target_train = label_encoder.fit_transform(df_target_train)\n",
        "print(\"array_features_train.shape: {} array_target_train.shape: {}\".format(array_features_train.shape, array_target_train.shape))"
      ]
    },
    {
      "cell_type": "code",
      "execution_count": 34,
      "metadata": {
        "id": "64k83phgViZO"
      },
      "outputs": [],
      "source": [
        "if NOTIFY_STATUS: status_notify(\"Task 3 - Pre-process Data completed! \" + datetime.now().strftime('%a %B %d, %Y %I:%M:%S %p'))"
      ]
    },
    {
      "cell_type": "markdown",
      "metadata": {
        "id": "cybD8FKuViZO"
      },
      "source": [
        "## Task 4 - Train and Tune Models"
      ]
    },
    {
      "cell_type": "code",
      "execution_count": 35,
      "metadata": {
        "id": "dEiqFpjqViZO"
      },
      "outputs": [],
      "source": [
        "if NOTIFY_STATUS: status_notify(\"Task 4 - Train and Tune Models has begun! \" + datetime.now().strftime('%a %B %d, %Y %I:%M:%S %p'))"
      ]
    },
    {
      "cell_type": "markdown",
      "metadata": {
        "id": "uKsJm33lViZO"
      },
      "source": [
        "### 4.a) Set test options and evaluation metric"
      ]
    },
    {
      "cell_type": "code",
      "execution_count": 36,
      "metadata": {
        "id": "uaw3fsgoViZO"
      },
      "outputs": [],
      "source": [
        "# Set up Algorithms Spot-Checking Array\n",
        "start_time_training = datetime.now()\n",
        "train_models = []\n",
        "train_results = []\n",
        "train_model_names = []\n",
        "train_metrics = []"
      ]
    },
    {
      "cell_type": "code",
      "execution_count": 37,
      "metadata": {
        "id": "4BuHnxhzViZO"
      },
      "outputs": [],
      "source": [
        "train_models.append(('XGB', XGBClassifier(random_state=RNG_SEED, n_jobs=N_JOBS, objective='multi:softmax', use_label_encoder=False, eval_metric='mlogloss', tree_method='gpu_hist')))"
      ]
    },
    {
      "cell_type": "code",
      "execution_count": 38,
      "metadata": {
        "id": "xcXtJMqnViZO",
        "outputId": "26504d53-3e4c-4601-973e-c15d53b25b01",
        "colab": {
          "base_uri": "https://localhost:8080/"
        }
      },
      "outputs": [
        {
          "output_type": "stream",
          "name": "stderr",
          "text": [
            "[Parallel(n_jobs=1)]: Using backend SequentialBackend with 1 concurrent workers.\n",
            "/usr/local/lib/python3.7/dist-packages/sklearn/model_selection/_split.py:680: UserWarning: The least populated class in y has only 4 members, which is less than n_splits=5.\n",
            "  UserWarning,\n"
          ]
        },
        {
          "output_type": "stream",
          "name": "stdout",
          "text": [
            "XGB: 0.866730 (0.005975)\n",
            "XGBClassifier(eval_metric='mlogloss', objective='multi:softmax',\n",
            "              random_state=888, tree_method='gpu_hist',\n",
            "              use_label_encoder=False)\n",
            "Model training time: 0:00:13.716296 \n",
            "\n",
            "Average metrics (accuracy) from all models: 0.8667296452828733\n",
            "Total training time for all models: 0:00:13.767793\n"
          ]
        },
        {
          "output_type": "stream",
          "name": "stderr",
          "text": [
            "[Parallel(n_jobs=1)]: Done   5 out of   5 | elapsed:   13.7s finished\n"
          ]
        }
      ],
      "source": [
        "# Generate model in turn\n",
        "for name, model in train_models:\n",
        "    if NOTIFY_STATUS: status_notify(\"Algorithm \"+name+\" modeling has begun! \" + datetime.now().strftime('%a %B %d, %Y %I:%M:%S %p'))\n",
        "    start_time_module = datetime.now()\n",
        "    kfold = StratifiedKFold(n_splits=N_FOLDS, shuffle=True, random_state=RNG_SEED)\n",
        "    cv_results = cross_val_score(model, array_features_train, array_target_train, cv=kfold, scoring=SCORING_METRIC, n_jobs=N_JOBS, verbose=1)\n",
        "    train_results.append(cv_results)\n",
        "    train_model_names.append(name)\n",
        "    train_metrics.append(cv_results.mean())\n",
        "    print(\"%s: %f (%f)\" % (name, cv_results.mean(), cv_results.std()))\n",
        "    print(model)\n",
        "    print ('Model training time:', (datetime.now() - start_time_module), '\\n')\n",
        "    if NOTIFY_STATUS: status_notify(\"Algorithm \"+name+\" modeling completed! \" + datetime.now().strftime('%a %B %d, %Y %I:%M:%S %p'))\n",
        "print ('Average metrics (' + SCORING_METRIC + ') from all models:', np.mean(train_metrics))\n",
        "print ('Total training time for all models:', (datetime.now() - start_time_training))"
      ]
    },
    {
      "cell_type": "markdown",
      "metadata": {
        "id": "_mdCViJcViZO"
      },
      "source": [
        "### 4.b) Algorithm Tuning"
      ]
    },
    {
      "cell_type": "code",
      "execution_count": 39,
      "metadata": {
        "id": "VnJ8nahWViZO"
      },
      "outputs": [],
      "source": [
        "# Set up the comparison array\n",
        "tune_results = []\n",
        "tune_model_names = []"
      ]
    },
    {
      "cell_type": "code",
      "execution_count": 40,
      "metadata": {
        "id": "XQbxK3lJViZP",
        "outputId": "cea2e41c-5577-4cc2-a27c-fb636244034a",
        "colab": {
          "base_uri": "https://localhost:8080/"
        }
      },
      "outputs": [
        {
          "output_type": "stream",
          "name": "stderr",
          "text": [
            "/usr/local/lib/python3.7/dist-packages/sklearn/model_selection/_split.py:680: UserWarning: The least populated class in y has only 4 members, which is less than n_splits=5.\n",
            "  UserWarning,\n"
          ]
        },
        {
          "output_type": "stream",
          "name": "stdout",
          "text": [
            "Fitting 5 folds for each of 45 candidates, totalling 225 fits\n",
            "Best: 0.997017 using {'max_depth': 6, 'min_child_weight': 1, 'n_estimators': 400}\n",
            "0.866730 (0.005975) with: {'max_depth': 3, 'min_child_weight': 1, 'n_estimators': 100}\n",
            "0.941514 (0.004631) with: {'max_depth': 3, 'min_child_weight': 1, 'n_estimators': 200}\n",
            "0.972195 (0.004540) with: {'max_depth': 3, 'min_child_weight': 1, 'n_estimators': 300}\n",
            "0.986896 (0.002068) with: {'max_depth': 3, 'min_child_weight': 1, 'n_estimators': 400}\n",
            "0.993608 (0.001348) with: {'max_depth': 3, 'min_child_weight': 1, 'n_estimators': 500}\n",
            "0.863960 (0.004267) with: {'max_depth': 3, 'min_child_weight': 2, 'n_estimators': 100}\n",
            "0.940556 (0.004537) with: {'max_depth': 3, 'min_child_weight': 2, 'n_estimators': 200}\n",
            "0.971450 (0.003511) with: {'max_depth': 3, 'min_child_weight': 2, 'n_estimators': 300}\n",
            "0.986044 (0.002062) with: {'max_depth': 3, 'min_child_weight': 2, 'n_estimators': 400}\n",
            "0.992436 (0.001560) with: {'max_depth': 3, 'min_child_weight': 2, 'n_estimators': 500}\n",
            "0.865984 (0.006239) with: {'max_depth': 3, 'min_child_weight': 3, 'n_estimators': 100}\n",
            "0.938958 (0.004076) with: {'max_depth': 3, 'min_child_weight': 3, 'n_estimators': 200}\n",
            "0.968786 (0.003940) with: {'max_depth': 3, 'min_child_weight': 3, 'n_estimators': 300}\n",
            "0.985618 (0.001117) with: {'max_depth': 3, 'min_child_weight': 3, 'n_estimators': 400}\n",
            "0.991903 (0.001324) with: {'max_depth': 3, 'min_child_weight': 3, 'n_estimators': 500}\n",
            "0.987642 (0.002574) with: {'max_depth': 6, 'min_child_weight': 1, 'n_estimators': 100}\n",
            "0.995952 (0.000989) with: {'max_depth': 6, 'min_child_weight': 1, 'n_estimators': 200}\n",
            "0.996804 (0.001215) with: {'max_depth': 6, 'min_child_weight': 1, 'n_estimators': 300}\n",
            "0.997017 (0.001097) with: {'max_depth': 6, 'min_child_weight': 1, 'n_estimators': 400}\n",
            "0.996910 (0.001279) with: {'max_depth': 6, 'min_child_weight': 1, 'n_estimators': 500}\n",
            "0.986470 (0.002096) with: {'max_depth': 6, 'min_child_weight': 2, 'n_estimators': 100}\n",
            "0.995206 (0.000892) with: {'max_depth': 6, 'min_child_weight': 2, 'n_estimators': 200}\n",
            "0.996271 (0.000826) with: {'max_depth': 6, 'min_child_weight': 2, 'n_estimators': 300}\n",
            "0.996271 (0.001348) with: {'max_depth': 6, 'min_child_weight': 2, 'n_estimators': 400}\n",
            "0.996591 (0.001288) with: {'max_depth': 6, 'min_child_weight': 2, 'n_estimators': 500}\n",
            "0.985405 (0.001926) with: {'max_depth': 6, 'min_child_weight': 3, 'n_estimators': 100}\n",
            "0.995526 (0.000723) with: {'max_depth': 6, 'min_child_weight': 3, 'n_estimators': 200}\n",
            "0.996378 (0.000917) with: {'max_depth': 6, 'min_child_weight': 3, 'n_estimators': 300}\n",
            "0.996804 (0.000892) with: {'max_depth': 6, 'min_child_weight': 3, 'n_estimators': 400}\n",
            "0.996910 (0.000977) with: {'max_depth': 6, 'min_child_weight': 3, 'n_estimators': 500}\n",
            "0.994567 (0.001138) with: {'max_depth': 9, 'min_child_weight': 1, 'n_estimators': 100}\n",
            "0.996697 (0.001323) with: {'max_depth': 9, 'min_child_weight': 1, 'n_estimators': 200}\n",
            "0.996910 (0.001033) with: {'max_depth': 9, 'min_child_weight': 1, 'n_estimators': 300}\n",
            "0.996804 (0.001118) with: {'max_depth': 9, 'min_child_weight': 1, 'n_estimators': 400}\n",
            "0.996804 (0.001118) with: {'max_depth': 9, 'min_child_weight': 1, 'n_estimators': 500}\n",
            "0.994460 (0.002121) with: {'max_depth': 9, 'min_child_weight': 2, 'n_estimators': 100}\n",
            "0.995739 (0.001616) with: {'max_depth': 9, 'min_child_weight': 2, 'n_estimators': 200}\n",
            "0.996058 (0.001414) with: {'max_depth': 9, 'min_child_weight': 2, 'n_estimators': 300}\n",
            "0.996378 (0.001484) with: {'max_depth': 9, 'min_child_weight': 2, 'n_estimators': 400}\n",
            "0.996378 (0.001323) with: {'max_depth': 9, 'min_child_weight': 2, 'n_estimators': 500}\n",
            "0.993395 (0.001864) with: {'max_depth': 9, 'min_child_weight': 3, 'n_estimators': 100}\n",
            "0.996058 (0.001414) with: {'max_depth': 9, 'min_child_weight': 3, 'n_estimators': 200}\n",
            "0.996591 (0.001454) with: {'max_depth': 9, 'min_child_weight': 3, 'n_estimators': 300}\n",
            "0.996697 (0.001365) with: {'max_depth': 9, 'min_child_weight': 3, 'n_estimators': 400}\n",
            "0.996804 (0.001305) with: {'max_depth': 9, 'min_child_weight': 3, 'n_estimators': 500}\n",
            "Model training time: 0:23:41.024196\n"
          ]
        }
      ],
      "source": [
        "# Tuning XGBoost n_estimators, max_depth, and min_child_weight parameters\n",
        "start_time_Module = datetime.now()\n",
        "if NOTIFY_STATUS: status_notify(\"Algorithm tuning iteration #1 has begun! \" + datetime.now().strftime('%a %B %d, %Y %I:%M:%S %p'))\n",
        "\n",
        "tune_model1 = XGBClassifier(random_state=RNG_SEED, n_jobs=N_JOBS, objective='multi:softprob', use_label_encoder=False, eval_metric='mlogloss', tree_method='gpu_hist')\n",
        "tune_model_names.append('XGB_1')\n",
        "paramGrid1 = dict(n_estimators=range(100, 501, 100),\n",
        "                  max_depth=np.array([3, 6, 9]),\n",
        "                  min_child_weight=np.array([1, 2, 3]))\n",
        "\n",
        "kfold = StratifiedKFold(n_splits=N_FOLDS, shuffle=True, random_state=RNG_SEED)\n",
        "grid1 = GridSearchCV(estimator=tune_model1, param_grid=paramGrid1, scoring=SCORING_METRIC, cv=kfold, n_jobs=N_JOBS, verbose=1)\n",
        "grid_result1 = grid1.fit(array_features_train, array_target_train)\n",
        "\n",
        "print(\"Best: %f using %s\" % (grid_result1.best_score_, grid_result1.best_params_))\n",
        "tune_results.append(grid_result1.cv_results_['mean_test_score'])\n",
        "means = grid_result1.cv_results_['mean_test_score']\n",
        "stds = grid_result1.cv_results_['std_test_score']\n",
        "params = grid_result1.cv_results_['params']\n",
        "for mean, stdev, param in zip(means, stds, params):\n",
        "    print(\"%f (%f) with: %r\" % (mean, stdev, param))\n",
        "print ('Model training time:', (datetime.now() - start_time_Module))\n",
        "if NOTIFY_STATUS: status_notify(\"Algorithm tuning iteration #1 completed! \" + datetime.now().strftime('%a %B %d, %Y %I:%M:%S %p'))"
      ]
    },
    {
      "cell_type": "code",
      "execution_count": 41,
      "metadata": {
        "id": "y2rMYQXKViZP",
        "outputId": "f0733006-080e-4a94-9d80-66f4958e5d88",
        "colab": {
          "base_uri": "https://localhost:8080/"
        }
      },
      "outputs": [
        {
          "output_type": "stream",
          "name": "stdout",
          "text": [
            "Best max_depth parameter: 6\n",
            "Best min_child_weight parameter: 1\n",
            "Best n_estimators parameter: 400\n"
          ]
        }
      ],
      "source": [
        "BEST_MAX_DEPTH = grid_result1.best_params_['max_depth']\n",
        "BEST_MIN_CHILD_WEIGHT = grid_result1.best_params_['min_child_weight']\n",
        "BEST_N_ESTIMATORS = grid_result1.best_params_['n_estimators']\n",
        "print('Best max_depth parameter:', BEST_MAX_DEPTH)\n",
        "print('Best min_child_weight parameter:', BEST_MIN_CHILD_WEIGHT)\n",
        "print('Best n_estimators parameter:', BEST_N_ESTIMATORS)"
      ]
    },
    {
      "cell_type": "code",
      "execution_count": 42,
      "metadata": {
        "id": "hu8_2JbWViZP",
        "outputId": "d964e43b-d5bb-4695-b648-7e4f83cb6e8f",
        "colab": {
          "base_uri": "https://localhost:8080/"
        }
      },
      "outputs": [
        {
          "output_type": "stream",
          "name": "stdout",
          "text": [
            "Fitting 5 folds for each of 16 candidates, totalling 80 fits\n"
          ]
        },
        {
          "output_type": "stream",
          "name": "stderr",
          "text": [
            "/usr/local/lib/python3.7/dist-packages/sklearn/model_selection/_split.py:680: UserWarning: The least populated class in y has only 4 members, which is less than n_splits=5.\n",
            "  UserWarning,\n"
          ]
        },
        {
          "output_type": "stream",
          "name": "stdout",
          "text": [
            "Best: 0.997976 using {'colsample_bytree': 0.7, 'subsample': 0.8}\n",
            "0.997763 (0.000622) with: {'colsample_bytree': 0.7, 'subsample': 0.7}\n",
            "0.997976 (0.000522) with: {'colsample_bytree': 0.7, 'subsample': 0.8}\n",
            "0.997976 (0.001234) with: {'colsample_bytree': 0.7, 'subsample': 0.9}\n",
            "0.997976 (0.001234) with: {'colsample_bytree': 0.7, 'subsample': 1.0}\n",
            "0.997869 (0.000674) with: {'colsample_bytree': 0.8, 'subsample': 0.7}\n",
            "0.997443 (0.001033) with: {'colsample_bytree': 0.8, 'subsample': 0.8}\n",
            "0.997550 (0.000640) with: {'colsample_bytree': 0.8, 'subsample': 0.9}\n",
            "0.997550 (0.001196) with: {'colsample_bytree': 0.8, 'subsample': 1.0}\n",
            "0.996910 (0.001034) with: {'colsample_bytree': 0.9, 'subsample': 0.7}\n",
            "0.996697 (0.000853) with: {'colsample_bytree': 0.9, 'subsample': 0.8}\n",
            "0.996910 (0.001033) with: {'colsample_bytree': 0.9, 'subsample': 0.9}\n",
            "0.996804 (0.001011) with: {'colsample_bytree': 0.9, 'subsample': 1.0}\n",
            "0.996697 (0.000399) with: {'colsample_bytree': 1.0, 'subsample': 0.7}\n",
            "0.996484 (0.000723) with: {'colsample_bytree': 1.0, 'subsample': 0.8}\n",
            "0.997017 (0.001044) with: {'colsample_bytree': 1.0, 'subsample': 0.9}\n",
            "0.997017 (0.001097) with: {'colsample_bytree': 1.0, 'subsample': 1.0}\n",
            "Model training time: 0:12:02.518214\n"
          ]
        }
      ],
      "source": [
        "# Tuning XGBoost subsample and colsample_bytree parameters\n",
        "start_time_Module = datetime.now()\n",
        "if NOTIFY_STATUS: status_notify(\"Algorithm tuning iteration #2 has begun! \" + datetime.now().strftime('%a %B %d, %Y %I:%M:%S %p'))\n",
        "\n",
        "tune_model2 = XGBClassifier(n_estimators=BEST_N_ESTIMATORS, max_depth=BEST_MAX_DEPTH, min_child_weight=BEST_MIN_CHILD_WEIGHT,\n",
        "                            random_state=RNG_SEED, n_jobs=N_JOBS, objective='multi:softprob', use_label_encoder=False, eval_metric='mlogloss', tree_method='gpu_hist')\n",
        "tune_model_names.append('XGB_2')\n",
        "paramGrid2 = dict(subsample=np.array([0.7, 0.8, 0.9, 1.0]),\n",
        "                  colsample_bytree=np.array([0.7, 0.8, 0.9, 1.0]))\n",
        "\n",
        "kfold = StratifiedKFold(n_splits=N_FOLDS, shuffle=True, random_state=RNG_SEED)\n",
        "grid2 = GridSearchCV(estimator=tune_model2, param_grid=paramGrid2, scoring=SCORING_METRIC, cv=kfold, n_jobs=N_JOBS, verbose=1)\n",
        "grid_result2 = grid2.fit(array_features_train, array_target_train)\n",
        "\n",
        "print(\"Best: %f using %s\" % (grid_result2.best_score_, grid_result2.best_params_))\n",
        "tune_results.append(grid_result2.cv_results_['mean_test_score'])\n",
        "means = grid_result2.cv_results_['mean_test_score']\n",
        "stds = grid_result2.cv_results_['std_test_score']\n",
        "params = grid_result2.cv_results_['params']\n",
        "for mean, stdev, param in zip(means, stds, params):\n",
        "    print(\"%f (%f) with: %r\" % (mean, stdev, param))\n",
        "print ('Model training time:',(datetime.now() - start_time_Module))\n",
        "if NOTIFY_STATUS: status_notify(\"Algorithm tuning iteration #2 completed! \" + datetime.now().strftime('%a %B %d, %Y %I:%M:%S %p'))"
      ]
    },
    {
      "cell_type": "code",
      "execution_count": 43,
      "metadata": {
        "id": "Q1R-8G3sViZP",
        "outputId": "3f0fe9e4-3894-41d6-ada7-f68c52fcd0ca",
        "colab": {
          "base_uri": "https://localhost:8080/"
        }
      },
      "outputs": [
        {
          "output_type": "stream",
          "name": "stdout",
          "text": [
            "Best colsample_bytree parameter: 0.7\n",
            "Best subsample parameter: 0.8\n"
          ]
        }
      ],
      "source": [
        "BEST_COLSAMPLE_BYTREE = grid_result2.best_params_['colsample_bytree']\n",
        "BEST_SUBSAMPLE = grid_result2.best_params_['subsample']\n",
        "print('Best colsample_bytree parameter:', BEST_COLSAMPLE_BYTREE)\n",
        "print('Best subsample parameter:', BEST_SUBSAMPLE)"
      ]
    },
    {
      "cell_type": "markdown",
      "metadata": {
        "id": "4-goJ-ScViZP"
      },
      "source": [
        "### 4.c) Compare Algorithms After Tuning"
      ]
    },
    {
      "cell_type": "code",
      "execution_count": 44,
      "metadata": {
        "id": "_hDXaaZsViZP",
        "outputId": "d96b9ff2-7699-44c4-d1f7-ee347acad27f",
        "colab": {
          "base_uri": "https://localhost:8080/",
          "height": 843
        }
      },
      "outputs": [
        {
          "output_type": "stream",
          "name": "stderr",
          "text": [
            "/usr/local/lib/python3.7/dist-packages/matplotlib/cbook/__init__.py:1376: VisibleDeprecationWarning: Creating an ndarray from ragged nested sequences (which is a list-or-tuple of lists-or-tuples-or ndarrays with different lengths or shapes) is deprecated. If you meant to do this, you must specify 'dtype=object' when creating the ndarray.\n",
            "  X = np.atleast_1d(X.T if isinstance(X, np.ndarray) else np.asarray(X))\n"
          ]
        },
        {
          "output_type": "display_data",
          "data": {
            "text/plain": [
              "<Figure size 1152x864 with 1 Axes>"
            ],
            "image/png": "[encoded data removed]"
          },
          "metadata": {
            "needs_background": "light"
          }
        }
      ],
      "source": [
        "fig = plt.figure(figsize=(16,12))\n",
        "fig.suptitle('Algorithm Comparison - Post Tuning')\n",
        "ax = fig.add_subplot(111)\n",
        "plt.boxplot(tune_results)\n",
        "ax.set_xticklabels(tune_model_names)\n",
        "plt.show()"
      ]
    },
    {
      "cell_type": "code",
      "execution_count": 45,
      "metadata": {
        "jupyter": {
          "outputs_hidden": false
        },
        "pycharm": {
          "name": "#%%\n"
        },
        "id": "amDXgg8-ViZP"
      },
      "outputs": [],
      "source": [
        "if NOTIFY_STATUS: status_notify(\"Task 4 - Train and Tune Models completed! \" + datetime.now().strftime('%a %B %d, %Y %I:%M:%S %p'))"
      ]
    },
    {
      "cell_type": "markdown",
      "metadata": {
        "id": "Lpcuc18gViZP"
      },
      "source": [
        "## Task 5 - Finalize Model and Make Predictions"
      ]
    },
    {
      "cell_type": "code",
      "execution_count": 46,
      "metadata": {
        "id": "NBbeOTskViZQ"
      },
      "outputs": [],
      "source": [
        "if NOTIFY_STATUS: status_notify(\"Task 5 - Finalize Model and Make Predictions has begun! \" + datetime.now().strftime('%a %B %d, %Y %I:%M:%S %p'))"
      ]
    },
    {
      "cell_type": "markdown",
      "metadata": {
        "id": "9zb38BYHViZQ"
      },
      "source": [
        "### 5.a) Train the Final Model"
      ]
    },
    {
      "cell_type": "code",
      "execution_count": 47,
      "metadata": {
        "id": "TUc7fHQ9ViZQ",
        "outputId": "81da96d3-9d81-477f-d96e-2737d95ee11a",
        "colab": {
          "base_uri": "https://localhost:8080/"
        }
      },
      "outputs": [
        {
          "output_type": "stream",
          "name": "stdout",
          "text": [
            "XGBClassifier(colsample_bytree=0.7, eval_metric='mlogloss', max_depth=6,\n",
            "              n_estimators=400, objective='multi:softprob', random_state=888,\n",
            "              subsample=0.8, tree_method='gpu_hist', use_label_encoder=False)\n"
          ]
        }
      ],
      "source": [
        "final_model = XGBClassifier(n_estimators=BEST_N_ESTIMATORS, max_depth=BEST_MAX_DEPTH, min_child_weight=BEST_MIN_CHILD_WEIGHT,\n",
        "                            colsample_bytree=BEST_COLSAMPLE_BYTREE, subsample=BEST_SUBSAMPLE, random_state=RNG_SEED,\n",
        "                            n_jobs=N_JOBS, objective='multi:softprob', use_label_encoder=False, eval_metric='mlogloss', tree_method='gpu_hist')\n",
        "final_model.fit(array_features_train, array_target_train)\n",
        "print(final_model)"
      ]
    },
    {
      "cell_type": "markdown",
      "metadata": {
        "id": "Yg_v128hViZQ"
      },
      "source": [
        "### 5.b) Load Test Dataset and Make Predictions"
      ]
    },
    {
      "cell_type": "code",
      "source": [
        "if not os.path.exists(TEST_DATASET):\n",
        "    !wget https://dainesanalytics.com/datasets/ucirvine-avila-bible-identification/avila-ts.txt"
      ],
      "metadata": {
        "id": "PJrbm_b3wuCR"
      },
      "execution_count": 48,
      "outputs": []
    },
    {
      "cell_type": "code",
      "source": [
        "df_dataset_test = pd.read_csv(TEST_DATASET, names=colNames, sep=',', header=None, index_col=False)\n",
        "\n",
        "# Take a peek at the dataframe after import\n",
        "print(df_dataset_test.head())"
      ],
      "metadata": {
        "colab": {
          "base_uri": "https://localhost:8080/"
        },
        "id": "Z7ZzJ7nXwwYJ",
        "outputId": "92e8897c-4158-405e-95e4-d6dcad063e30"
      },
      "execution_count": 49,
      "outputs": [
        {
          "output_type": "stream",
          "name": "stdout",
          "text": [
            "         F1        F2        F3        F4        F5        F6        F7  \\\n",
            "0 -3.498799  0.250492  0.232070  1.224178 -4.922215  1.145386  0.182426   \n",
            "1  0.204355 -0.354049  0.320980  0.410166 -0.989576 -2.218127  0.220177   \n",
            "2  0.759828 -1.304042 -0.023991 -0.973663 -0.006417 -0.349509 -0.421580   \n",
            "3 -0.005490  0.360409  0.281860 -0.213479 -1.168333 -1.013906 -0.346080   \n",
            "4  0.080916  0.101320  0.104040  0.140490  0.261718  0.480988  0.710932   \n",
            "\n",
            "         F8        F9       F10 Class  \n",
            "0 -0.165983 -0.123005  1.087144     W  \n",
            "1  0.181844  2.090879 -2.009758     A  \n",
            "2 -0.450127  0.469443  0.060952     I  \n",
            "3  1.176165  0.968347 -0.627999     E  \n",
            "4 -0.253430 -0.497183  0.155681     A  \n"
          ]
        }
      ]
    },
    {
      "cell_type": "code",
      "source": [
        "# Standardize the class column to the name of targetVar if required\n",
        "df_dataset_test = df_dataset_test.rename(columns={ORIGINAL_LABEL: CLASS_COLUMN})\n",
        "\n",
        "# Take a peek at the dataframe after cleaning\n",
        "print(df_dataset_test.head())"
      ],
      "metadata": {
        "colab": {
          "base_uri": "https://localhost:8080/"
        },
        "id": "vcHYfUPawy_4",
        "outputId": "34db4e6b-debf-4416-a83a-da21f88f19cd"
      },
      "execution_count": 50,
      "outputs": [
        {
          "output_type": "stream",
          "name": "stdout",
          "text": [
            "         F1        F2        F3        F4        F5        F6        F7  \\\n",
            "0 -3.498799  0.250492  0.232070  1.224178 -4.922215  1.145386  0.182426   \n",
            "1  0.204355 -0.354049  0.320980  0.410166 -0.989576 -2.218127  0.220177   \n",
            "2  0.759828 -1.304042 -0.023991 -0.973663 -0.006417 -0.349509 -0.421580   \n",
            "3 -0.005490  0.360409  0.281860 -0.213479 -1.168333 -1.013906 -0.346080   \n",
            "4  0.080916  0.101320  0.104040  0.140490  0.261718  0.480988  0.710932   \n",
            "\n",
            "         F8        F9       F10 target  \n",
            "0 -0.165983 -0.123005  1.087144      W  \n",
            "1  0.181844  2.090879 -2.009758      A  \n",
            "2 -0.450127  0.469443  0.060952      I  \n",
            "3  1.176165  0.968347 -0.627999      E  \n",
            "4 -0.253430 -0.497183  0.155681      A  \n"
          ]
        }
      ]
    },
    {
      "cell_type": "code",
      "source": [
        "# We create attribute-only and target-only datasets\n",
        "df_target_test = df_dataset_test[CLASS_COLUMN]\n",
        "df_features_test = df_dataset_test.drop([CLASS_COLUMN], axis=1)\n",
        "\n",
        "print(\"df_features_test.shape: {} df_target_test.shape: {}\".format(df_features_test.shape, df_target_test.shape))"
      ],
      "metadata": {
        "colab": {
          "base_uri": "https://localhost:8080/"
        },
        "id": "MXCYIR55w3WQ",
        "outputId": "d2b0fc8e-eeab-4188-b67e-b2ce3f2eaa40"
      },
      "execution_count": 51,
      "outputs": [
        {
          "output_type": "stream",
          "name": "stdout",
          "text": [
            "df_features_test.shape: (10437, 10) df_target_test.shape: (10437,)\n"
          ]
        }
      ]
    },
    {
      "cell_type": "code",
      "execution_count": 52,
      "metadata": {
        "id": "P1LzUmGOViZQ",
        "outputId": "69d6333b-91c6-4968-96b2-c193ebea2703",
        "colab": {
          "base_uri": "https://localhost:8080/"
        }
      },
      "outputs": [
        {
          "output_type": "stream",
          "name": "stdout",
          "text": [
            "Transformed features from df_features_test.shape: (10437, 10) to array_features_test.shape: (10437, 10)\n"
          ]
        }
      ],
      "source": [
        "# Finalize the test dataset for the testing activities\n",
        "array_features_test = df_features_test.to_numpy()\n",
        "array_target_test = label_encoder.transform(df_target_test)\n",
        "print(\"Transformed features from df_features_test.shape: {} to array_features_test.shape: {}\".format(df_features_test.shape, array_features_test.shape))"
      ]
    },
    {
      "cell_type": "code",
      "execution_count": 53,
      "metadata": {
        "id": "RaGYgguwViZQ",
        "outputId": "50726f5a-faec-406f-d75c-09e7cdc66cfb",
        "colab": {
          "base_uri": "https://localhost:8080/"
        }
      },
      "outputs": [
        {
          "output_type": "stream",
          "name": "stdout",
          "text": [
            "[9 0 8 ... 0 5 7]\n"
          ]
        }
      ],
      "source": [
        "# Make batched predictions\n",
        "test_predictions =  final_model.predict(array_features_test)\n",
        "print(test_predictions)"
      ]
    },
    {
      "cell_type": "code",
      "execution_count": 54,
      "metadata": {
        "id": "UOOgd94HViZQ",
        "outputId": "bcbb8004-d4b0-4865-80d9-442aea7d63eb",
        "colab": {
          "base_uri": "https://localhost:8080/"
        }
      },
      "outputs": [
        {
          "output_type": "stream",
          "name": "stdout",
          "text": [
            "Accuracy Score: 0.9981795535115454 \n",
            "\n",
            "[[4286    0    0    0    0    0    0    0    0    0    0    0]\n",
            " [   0    5    0    0    0    0    0    0    0    0    0    0]\n",
            " [   0    0  103    0    0    0    0    0    0    0    0    0]\n",
            " [   0    0    0  353    0    0    0    0    0    0    0    0]\n",
            " [   2    0    0    0 1093    0    0    0    0    0    0    0]\n",
            " [   0    0    0    0    0 1962    0    0    0    0    0    0]\n",
            " [   0    0    0    0    0    0  447    0    0    0    0    0]\n",
            " [   0    0    3    0    0    0    0  517    0    0    0    0]\n",
            " [   2    0    0    0    0    0    0    0  830    0    0    0]\n",
            " [   0    0    0    0    0    0    0    0    0   45    0    0]\n",
            " [   1    0    0    0    4    0    0    0    0    0  511    6]\n",
            " [   1    0    0    0    0    0    0    0    0    0    0  266]] \n",
            "\n",
            "              precision    recall  f1-score   support\n",
            "\n",
            "           0       1.00      1.00      1.00      4286\n",
            "           1       1.00      1.00      1.00         5\n",
            "           2       0.97      1.00      0.99       103\n",
            "           3       1.00      1.00      1.00       353\n",
            "           4       1.00      1.00      1.00      1095\n",
            "           5       1.00      1.00      1.00      1962\n",
            "           6       1.00      1.00      1.00       447\n",
            "           7       1.00      0.99      1.00       520\n",
            "           8       1.00      1.00      1.00       832\n",
            "           9       1.00      1.00      1.00        45\n",
            "          10       1.00      0.98      0.99       522\n",
            "          11       0.98      1.00      0.99       267\n",
            "\n",
            "    accuracy                           1.00     10437\n",
            "   macro avg       1.00      1.00      1.00     10437\n",
            "weighted avg       1.00      1.00      1.00     10437\n",
            "\n"
          ]
        }
      ],
      "source": [
        "print('Accuracy Score:', accuracy_score(array_target_test, test_predictions),'\\n')\n",
        "print(confusion_matrix(array_target_test, test_predictions),'\\n')\n",
        "print(classification_report(array_target_test, test_predictions))"
      ]
    },
    {
      "cell_type": "code",
      "execution_count": 55,
      "metadata": {
        "id": "y4qPlI-ZViZR"
      },
      "outputs": [],
      "source": [
        "if NOTIFY_STATUS: status_notify(\"Task 5 - Finalize Model and Make Predictions completed! \" + datetime.now().strftime('%a %B %d, %Y %I:%M:%S %p'))"
      ]
    },
    {
      "cell_type": "code",
      "execution_count": 56,
      "metadata": {
        "id": "M5_FY-MaViZR",
        "outputId": "70f1300c-0064-40ba-e30c-b6eb6f54a911",
        "colab": {
          "base_uri": "https://localhost:8080/"
        }
      },
      "outputs": [
        {
          "output_type": "stream",
          "name": "stdout",
          "text": [
            "Total time for the script: 0:36:14.060550\n"
          ]
        }
      ],
      "source": [
        "print ('Total time for the script:',(datetime.now() - START_TIME_SCRIPT))"
      ]
    }
  ],
  "metadata": {
    "kernelspec": {
      "display_name": "Python 3 (ipykernel)",
      "language": "python",
      "name": "python3"
    },
    "language_info": {
      "codemirror_mode": {
        "name": "ipython",
        "version": 3
      },
      "file_extension": ".py",
      "mimetype": "text/x-python",
      "name": "python",
      "nbconvert_exporter": "python",
      "pygments_lexer": "ipython3",
      "version": "3.8.10"
    },
    "colab": {
      "name": "py_xgboost_multiclass_avila_bible_identification.ipynb",
      "provenance": [],
      "collapsed_sections": [
        "i99VwZJrViZM"
      ],
      "background_execution": "on"
    },
    "accelerator": "GPU"
  },
  "nbformat": 4,
  "nbformat_minor": 0
}
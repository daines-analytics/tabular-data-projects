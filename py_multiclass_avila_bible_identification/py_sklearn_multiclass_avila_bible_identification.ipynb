{
  "cells": [
    {
      "cell_type": "markdown",
      "metadata": {
        "id": "EE_fiDKNoyun"
      },
      "source": [
        "# Multi-Class Tabular Model for Avila Bible Identification Using Python and Scikit-Learn\n",
        "### David Lowe\n",
        "### May 16, 2022\n",
        "\n",
        "SUMMARY: The project aims to construct a predictive model using various machine learning algorithms and document the end-to-end steps using a template. The Avila Bible Identification dataset is a multi-class modeling situation where we attempt to predict one of several (more than two) possible outcomes.\n",
        "\n",
        "INTRODUCTION: The Avila dataset includes 800 images extracted from the \"Avila Bible,\" a giant Latin copy of the whole Bible produced during the XII century between Italy and Spain. The paleographic analysis of the manuscript has identified the presence of 12 transcribers; however, each transcriber did not transcribe the same number of pages. The prediction task is to associate each pattern to one of the 12 transcribers labeled as A, B, C, D, E, F, G, H, I, W, X, and Y. The research team normalized the data using the Z-normalization method and divided the dataset into two portions, training and test. The training set contains 10,430 samples, while the test set contains 10,437 samples.\n",
        "\n",
        "ANALYSIS: The average performance of the machine learning algorithms achieved an accuracy benchmark of 85.51% using the training dataset. Furthermore, we selected Bagging Classifier as the final model as it processed the training dataset with a final accuracy score of 98.53%. When we processed the test dataset with the final model, the model achieved an accuracy score of 99.20%.\n",
        "\n",
        "CONCLUSION: In this iteration, the Bagging Classifier model appeared to be a suitable algorithm for modeling this dataset.\n",
        "\n",
        "Dataset Used: Avila Bible Dataset\n",
        "\n",
        "Dataset ML Model: Multi-Class classification with numerical features\n",
        "\n",
        "Dataset Reference: https://archive-beta.ics.uci.edu/ml/datasets/avila\n",
        "\n",
        "One source of potential performance benchmarks: https://www.sciencedirect.com/science/article/abs/pii/S0952197618300721"
      ]
    },
    {
      "cell_type": "markdown",
      "metadata": {
        "id": "5DL3_UWSoyuq"
      },
      "source": [
        "## Task 1 - Prepare Environment"
      ]
    },
    {
      "cell_type": "code",
      "execution_count": 1,
      "metadata": {
        "id": "zwaLoks6oyuq",
        "outputId": "7d831565-28b7-46f3-8187-ad8cf7a26234",
        "colab": {
          "base_uri": "https://localhost:8080/"
        }
      },
      "outputs": [
        {
          "output_type": "stream",
          "name": "stdout",
          "text": [
            "The number of available CPUs is: 2\n"
          ]
        }
      ],
      "source": [
        "# Retrieve the CPU information\n",
        "ncpu = !nproc\n",
        "print(\"The number of available CPUs is:\", ncpu[0])"
      ]
    },
    {
      "cell_type": "markdown",
      "metadata": {
        "id": "z_paFmzJoyur"
      },
      "source": [
        "### 1.a) Load libraries and modules"
      ]
    },
    {
      "cell_type": "code",
      "execution_count": 2,
      "metadata": {
        "id": "1n0cywZWoyus"
      },
      "outputs": [],
      "source": [
        "# Set the random seed number for reproducible results\n",
        "RNG_SEED = 888"
      ]
    },
    {
      "cell_type": "code",
      "execution_count": 3,
      "metadata": {
        "id": "oRD-IY3zoyus"
      },
      "outputs": [],
      "source": [
        "import numpy as np\n",
        "import pandas as pd\n",
        "import seaborn as sns\n",
        "import matplotlib.pyplot as plt\n",
        "import os\n",
        "import sys\n",
        "import math\n",
        "# import boto3\n",
        "import zipfile\n",
        "from datetime import datetime\n",
        "from sklearn import preprocessing\n",
        "from sklearn.model_selection import train_test_split\n",
        "from sklearn.model_selection import StratifiedKFold\n",
        "from sklearn.model_selection import cross_val_score\n",
        "from sklearn.model_selection import GridSearchCV\n",
        "from sklearn.metrics import classification_report\n",
        "from sklearn.metrics import confusion_matrix\n",
        "from sklearn.metrics import accuracy_score\n",
        "from sklearn.pipeline import Pipeline\n",
        "from sklearn import compose\n",
        "from sklearn import impute\n",
        "\n",
        "# from sklearn.feature_selection import RFE\n",
        "# from imblearn.pipeline import Pipeline\n",
        "# from imblearn.over_sampling import SMOTE\n",
        "# from imblearn.under_sampling import RandomUnderSampler\n",
        "\n",
        "from sklearn.discriminant_analysis import LinearDiscriminantAnalysis\n",
        "from sklearn.tree import DecisionTreeClassifier\n",
        "from sklearn.neighbors import KNeighborsClassifier\n",
        "from sklearn.ensemble import BaggingClassifier\n",
        "from sklearn.ensemble import RandomForestClassifier\n",
        "from sklearn.ensemble import ExtraTreesClassifier"
      ]
    },
    {
      "cell_type": "markdown",
      "metadata": {
        "id": "eoKsdpcAoyut"
      },
      "source": [
        "### 1.b) Set up the controlling parameters and functions"
      ]
    },
    {
      "cell_type": "code",
      "execution_count": 4,
      "metadata": {
        "id": "isxXMHRBoyut"
      },
      "outputs": [],
      "source": [
        "# Begin the timer for the script processing\n",
        "START_TIME_SCRIPT = datetime.now()\n",
        "\n",
        "# Set up the number of CPU cores available for multi-thread processing\n",
        "N_JOBS = 1\n",
        "\n",
        "# Set up the flag to stop sending progress emails (setting to True will send status emails!)\n",
        "NOTIFY_STATUS = False\n",
        "\n",
        "# Set the percentage sizes for splitting the dataset\n",
        "TEST_SET_RATIO = 0.1\n",
        "VAL_SET_RATIO = 0.1\n",
        "\n",
        "# Set the name for the class/label column\n",
        "ORIGINAL_LABEL = 'Class'\n",
        "CLASS_COLUMN = 'target'\n",
        "\n",
        "# Set the number of folds for cross validation\n",
        "N_FOLDS = 5\n",
        "\n",
        "# Set default modeling scoring metric\n",
        "SCORING_METRIC = 'accuracy'\n",
        "\n",
        "# Define the directory locations and file names\n",
        "TRAIN_DATASET = 'avila-tr.txt'\n",
        "TEST_DATASET = 'avila-ts.txt'"
      ]
    },
    {
      "cell_type": "code",
      "execution_count": 5,
      "metadata": {
        "id": "GfhSo1ZCoyut"
      },
      "outputs": [],
      "source": [
        "# Set up the email notification function\n",
        "def status_notify(msg_text):\n",
        "    access_key = os.environ.get('SNS_ACCESS_KEY')\n",
        "    secret_key = os.environ.get('SNS_SECRET_KEY')\n",
        "    aws_region = os.environ.get('SNS_AWS_REGION')\n",
        "    topic_arn = os.environ.get('SNS_TOPIC_ARN')\n",
        "    if (access_key is None) or (secret_key is None) or (aws_region is None):\n",
        "        sys.exit(\"Incomplete notification setup info. Script Processing Aborted!!!\")\n",
        "    sns = boto3.client('sns', aws_access_key_id=access_key, aws_secret_access_key=secret_key, region_name=aws_region)\n",
        "    response = sns.publish(TopicArn=topic_arn, Message=msg_text)\n",
        "    if response['ResponseMetadata']['HTTPStatusCode'] != 200 :\n",
        "        print('Status notification not OK with HTTP status code:', response['ResponseMetadata']['HTTPStatusCode'])"
      ]
    },
    {
      "cell_type": "code",
      "execution_count": 6,
      "metadata": {
        "id": "ReDfVHpJoyuu"
      },
      "outputs": [],
      "source": [
        "if NOTIFY_STATUS: status_notify(\"Task 1 - Prepare Environment has begun! \" + datetime.now().strftime('%a %B %d, %Y %I:%M:%S %p'))"
      ]
    },
    {
      "cell_type": "markdown",
      "metadata": {
        "id": "tAqq162Aoyuu"
      },
      "source": [
        "### 1.c) Load dataset"
      ]
    },
    {
      "cell_type": "code",
      "execution_count": 7,
      "metadata": {
        "id": "REMp9lEVoyuv"
      },
      "outputs": [],
      "source": [
        "if not os.path.exists(TRAIN_DATASET):\n",
        "    !wget https://dainesanalytics.com/datasets/ucirvine-avila-bible-identification/avila-tr.txt"
      ]
    },
    {
      "cell_type": "code",
      "execution_count": 8,
      "metadata": {
        "id": "5rc2muM6oyuv",
        "outputId": "6ec06858-a39c-4094-bb22-69b313de3a78",
        "colab": {
          "base_uri": "https://localhost:8080/"
        }
      },
      "outputs": [
        {
          "output_type": "stream",
          "name": "stdout",
          "text": [
            "         F1        F2        F3        F4        F5        F6        F7  \\\n",
            "0  0.266074 -0.165620  0.320980  0.483299  0.172340  0.273364  0.371178   \n",
            "1  0.130292  0.870736 -3.210528  0.062493  0.261718  1.436060  1.465940   \n",
            "2 -0.116585  0.069915  0.068476 -0.783147  0.261718  0.439463 -0.081827   \n",
            "3  0.031541  0.297600 -3.210528 -0.583590 -0.721442 -0.307984  0.710932   \n",
            "4  0.229043  0.807926 -0.052442  0.082634  0.261718  0.148790  0.635431   \n",
            "\n",
            "         F8        F9       F10 Class  \n",
            "0  0.929823  0.251173  0.159345     A  \n",
            "1  0.636203  0.282354  0.515587     A  \n",
            "2 -0.888236 -0.123005  0.582939     A  \n",
            "3  1.051693  0.594169 -0.533994     A  \n",
            "4  0.051062  0.032902 -0.086652     F  \n"
          ]
        }
      ],
      "source": [
        "colNames = ['F1','F2','F3','F4','F5','F6','F7','F8','F9','F10','Class']\n",
        "df_dataset_import = pd.read_csv(TRAIN_DATASET, names=colNames, sep=',', header=None, index_col=False)\n",
        "\n",
        "# Take a peek at the dataframe after import\n",
        "print(df_dataset_import.head())"
      ]
    },
    {
      "cell_type": "code",
      "execution_count": 9,
      "metadata": {
        "id": "ECO03uiyoyuv",
        "outputId": "90fbf7f9-1a7e-4604-afd5-b244fce67118",
        "colab": {
          "base_uri": "https://localhost:8080/"
        }
      },
      "outputs": [
        {
          "output_type": "stream",
          "name": "stdout",
          "text": [
            "<class 'pandas.core.frame.DataFrame'>\n",
            "RangeIndex: 10430 entries, 0 to 10429\n",
            "Data columns (total 11 columns):\n",
            " #   Column  Non-Null Count  Dtype  \n",
            "---  ------  --------------  -----  \n",
            " 0   F1      10430 non-null  float64\n",
            " 1   F2      10430 non-null  float64\n",
            " 2   F3      10430 non-null  float64\n",
            " 3   F4      10430 non-null  float64\n",
            " 4   F5      10430 non-null  float64\n",
            " 5   F6      10430 non-null  float64\n",
            " 6   F7      10430 non-null  float64\n",
            " 7   F8      10430 non-null  float64\n",
            " 8   F9      10430 non-null  float64\n",
            " 9   F10     10430 non-null  float64\n",
            " 10  Class   10430 non-null  object \n",
            "dtypes: float64(10), object(1)\n",
            "memory usage: 896.5+ KB\n"
          ]
        }
      ],
      "source": [
        "df_dataset_import.info(verbose=True)"
      ]
    },
    {
      "cell_type": "code",
      "execution_count": 10,
      "metadata": {
        "id": "89eVakd5oyuw",
        "outputId": "768f5e9b-c29b-47b7-decc-2c22514fb5be",
        "colab": {
          "base_uri": "https://localhost:8080/"
        }
      },
      "outputs": [
        {
          "output_type": "stream",
          "name": "stdout",
          "text": [
            "                 F1            F2            F3            F4            F5  \\\n",
            "count  10430.000000  10430.000000  10430.000000  10430.000000  10430.000000   \n",
            "mean       0.000852      0.033611     -0.000525     -0.002387      0.006370   \n",
            "std        0.991431      3.920868      1.120202      1.008527      0.992053   \n",
            "min       -3.498799     -2.426761     -3.210528     -5.440122     -4.922215   \n",
            "25%       -0.128929     -0.259834      0.064919     -0.528002      0.172340   \n",
            "50%        0.043885     -0.055704      0.217845      0.095763      0.261718   \n",
            "75%        0.204355      0.203385      0.352988      0.658210      0.261718   \n",
            "max       11.819916    386.000000     50.000000      3.987152      1.066121   \n",
            "\n",
            "                 F6            F7            F8            F9           F10  \n",
            "count  10430.000000  10430.000000  10430.000000  10430.000000  10430.000000  \n",
            "mean       0.013973      0.005605      0.010323      0.012914      0.000818  \n",
            "std        1.126245      1.313754      1.003507      1.087665      1.007094  \n",
            "min       -7.450257    -11.935457     -4.247781     -5.486218     -6.719324  \n",
            "25%       -0.598658     -0.044076     -0.541991     -0.372457     -0.516097  \n",
            "50%       -0.058835      0.220177      0.111803      0.064084     -0.034513  \n",
            "75%        0.564038      0.446679      0.654944      0.500624      0.530855  \n",
            "max       53.000000     83.000000     13.173081     44.000000      4.671232  \n"
          ]
        }
      ],
      "source": [
        "print(df_dataset_import.describe())"
      ]
    },
    {
      "cell_type": "code",
      "execution_count": 11,
      "metadata": {
        "id": "FAyDYvmioyuw",
        "outputId": "57b5a276-ff9c-4187-95ce-43c2fc1b67da",
        "colab": {
          "base_uri": "https://localhost:8080/"
        }
      },
      "outputs": [
        {
          "output_type": "stream",
          "name": "stdout",
          "text": [
            "F1       0\n",
            "F2       0\n",
            "F3       0\n",
            "F4       0\n",
            "F5       0\n",
            "F6       0\n",
            "F7       0\n",
            "F8       0\n",
            "F9       0\n",
            "F10      0\n",
            "Class    0\n",
            "dtype: int64\n",
            "Total number of NaN in the dataframe:  0\n"
          ]
        }
      ],
      "source": [
        "print(df_dataset_import.isnull().sum())\n",
        "print('Total number of NaN in the dataframe: ', df_dataset_import.isnull().sum().sum())"
      ]
    },
    {
      "cell_type": "code",
      "execution_count": 12,
      "metadata": {
        "id": "lXgKXvCuoyuw",
        "outputId": "f69ca3d8-a24d-401a-b1dc-eb22db66e3fc",
        "colab": {
          "base_uri": "https://localhost:8080/"
        }
      },
      "outputs": [
        {
          "output_type": "stream",
          "name": "stdout",
          "text": [
            "Class\n",
            "A    4286\n",
            "B       5\n",
            "C     103\n",
            "D     352\n",
            "E    1095\n",
            "F    1961\n",
            "G     446\n",
            "H     519\n",
            "I     831\n",
            "W      44\n",
            "X     522\n",
            "Y     266\n",
            "dtype: int64\n"
          ]
        }
      ],
      "source": [
        "# Get grouping size for the target variable\n",
        "print(df_dataset_import.groupby(ORIGINAL_LABEL).size())"
      ]
    },
    {
      "cell_type": "markdown",
      "metadata": {
        "id": "3u4LgABdoyuw"
      },
      "source": [
        "### 1.d) Data Cleaning"
      ]
    },
    {
      "cell_type": "code",
      "execution_count": 13,
      "metadata": {
        "id": "l05xb66poyuw",
        "outputId": "179d6e40-daca-42f4-c235-752495e33a72",
        "colab": {
          "base_uri": "https://localhost:8080/"
        }
      },
      "outputs": [
        {
          "output_type": "stream",
          "name": "stdout",
          "text": [
            "         F1        F2        F3        F4        F5        F6        F7  \\\n",
            "0  0.266074 -0.165620  0.320980  0.483299  0.172340  0.273364  0.371178   \n",
            "1  0.130292  0.870736 -3.210528  0.062493  0.261718  1.436060  1.465940   \n",
            "2 -0.116585  0.069915  0.068476 -0.783147  0.261718  0.439463 -0.081827   \n",
            "3  0.031541  0.297600 -3.210528 -0.583590 -0.721442 -0.307984  0.710932   \n",
            "4  0.229043  0.807926 -0.052442  0.082634  0.261718  0.148790  0.635431   \n",
            "\n",
            "         F8        F9       F10 target  \n",
            "0  0.929823  0.251173  0.159345      A  \n",
            "1  0.636203  0.282354  0.515587      A  \n",
            "2 -0.888236 -0.123005  0.582939      A  \n",
            "3  1.051693  0.594169 -0.533994      A  \n",
            "4  0.051062  0.032902 -0.086652      F  \n"
          ]
        }
      ],
      "source": [
        "# Standardize the class column to the name of targetVar if required\n",
        "df_dataset_import = df_dataset_import.rename(columns={ORIGINAL_LABEL: CLASS_COLUMN})\n",
        "\n",
        "# Take a peek at the dataframe after cleaning\n",
        "print(df_dataset_import.head())"
      ]
    },
    {
      "cell_type": "code",
      "execution_count": 14,
      "metadata": {
        "id": "y9LU5ERloyuw",
        "outputId": "d40f1a32-a94e-43e4-9e80-a3e18bcacd26",
        "colab": {
          "base_uri": "https://localhost:8080/"
        }
      },
      "outputs": [
        {
          "output_type": "stream",
          "name": "stdout",
          "text": [
            "<class 'pandas.core.frame.DataFrame'>\n",
            "RangeIndex: 10430 entries, 0 to 10429\n",
            "Data columns (total 11 columns):\n",
            " #   Column  Non-Null Count  Dtype  \n",
            "---  ------  --------------  -----  \n",
            " 0   F1      10430 non-null  float64\n",
            " 1   F2      10430 non-null  float64\n",
            " 2   F3      10430 non-null  float64\n",
            " 3   F4      10430 non-null  float64\n",
            " 4   F5      10430 non-null  float64\n",
            " 5   F6      10430 non-null  float64\n",
            " 6   F7      10430 non-null  float64\n",
            " 7   F8      10430 non-null  float64\n",
            " 8   F9      10430 non-null  float64\n",
            " 9   F10     10430 non-null  float64\n",
            " 10  target  10430 non-null  object \n",
            "dtypes: float64(10), object(1)\n",
            "memory usage: 896.5+ KB\n"
          ]
        }
      ],
      "source": [
        "df_dataset_import.info(verbose=True)"
      ]
    },
    {
      "cell_type": "code",
      "execution_count": 15,
      "metadata": {
        "id": "Tl0V0nZqoyux",
        "outputId": "3d45485d-c7f1-4b24-8035-0fc245891f4f",
        "colab": {
          "base_uri": "https://localhost:8080/"
        }
      },
      "outputs": [
        {
          "output_type": "stream",
          "name": "stdout",
          "text": [
            "                 F1            F2            F3            F4            F5  \\\n",
            "count  10430.000000  10430.000000  10430.000000  10430.000000  10430.000000   \n",
            "mean       0.000852      0.033611     -0.000525     -0.002387      0.006370   \n",
            "std        0.991431      3.920868      1.120202      1.008527      0.992053   \n",
            "min       -3.498799     -2.426761     -3.210528     -5.440122     -4.922215   \n",
            "25%       -0.128929     -0.259834      0.064919     -0.528002      0.172340   \n",
            "50%        0.043885     -0.055704      0.217845      0.095763      0.261718   \n",
            "75%        0.204355      0.203385      0.352988      0.658210      0.261718   \n",
            "max       11.819916    386.000000     50.000000      3.987152      1.066121   \n",
            "\n",
            "                 F6            F7            F8            F9           F10  \n",
            "count  10430.000000  10430.000000  10430.000000  10430.000000  10430.000000  \n",
            "mean       0.013973      0.005605      0.010323      0.012914      0.000818  \n",
            "std        1.126245      1.313754      1.003507      1.087665      1.007094  \n",
            "min       -7.450257    -11.935457     -4.247781     -5.486218     -6.719324  \n",
            "25%       -0.598658     -0.044076     -0.541991     -0.372457     -0.516097  \n",
            "50%       -0.058835      0.220177      0.111803      0.064084     -0.034513  \n",
            "75%        0.564038      0.446679      0.654944      0.500624      0.530855  \n",
            "max       53.000000     83.000000     13.173081     44.000000      4.671232  \n"
          ]
        }
      ],
      "source": [
        "print(df_dataset_import.describe())"
      ]
    },
    {
      "cell_type": "code",
      "execution_count": 16,
      "metadata": {
        "id": "sGppSKE2oyux",
        "outputId": "758e7628-4be7-4732-8cff-d1ed66d07c07",
        "colab": {
          "base_uri": "https://localhost:8080/"
        }
      },
      "outputs": [
        {
          "output_type": "stream",
          "name": "stdout",
          "text": [
            "F1        0\n",
            "F2        0\n",
            "F3        0\n",
            "F4        0\n",
            "F5        0\n",
            "F6        0\n",
            "F7        0\n",
            "F8        0\n",
            "F9        0\n",
            "F10       0\n",
            "target    0\n",
            "dtype: int64\n",
            "Total number of NaN in the dataframe:  0\n"
          ]
        }
      ],
      "source": [
        "print(df_dataset_import.isnull().sum())\n",
        "print('Total number of NaN in the dataframe: ', df_dataset_import.isnull().sum().sum())"
      ]
    },
    {
      "cell_type": "code",
      "execution_count": 17,
      "metadata": {
        "id": "48Es-9Mboyux",
        "outputId": "db874d02-5c5a-47fa-ae72-52a3f5a36a1c",
        "colab": {
          "base_uri": "https://localhost:8080/"
        }
      },
      "outputs": [
        {
          "output_type": "stream",
          "name": "stdout",
          "text": [
            "target\n",
            "A    4286\n",
            "B       5\n",
            "C     103\n",
            "D     352\n",
            "E    1095\n",
            "F    1961\n",
            "G     446\n",
            "H     519\n",
            "I     831\n",
            "W      44\n",
            "X     522\n",
            "Y     266\n",
            "dtype: int64\n"
          ]
        }
      ],
      "source": [
        "# Get grouping size for the target variable\n",
        "print(df_dataset_import.groupby(CLASS_COLUMN).size())"
      ]
    },
    {
      "cell_type": "markdown",
      "metadata": {
        "id": "YAEtbTgGoyux"
      },
      "source": [
        "### 1.e) Splitting Data into Sets"
      ]
    },
    {
      "cell_type": "code",
      "execution_count": 18,
      "metadata": {
        "id": "4Xj62_48oyux",
        "outputId": "24bbee04-14b8-4117-c0ed-b99059eb1128",
        "colab": {
          "base_uri": "https://localhost:8080/"
        }
      },
      "outputs": [
        {
          "output_type": "stream",
          "name": "stdout",
          "text": [
            "df_dataset_import.shape: (10430, 11) df_features_train.shape: (10430, 10) df_target_train.shape: (10430,)\n"
          ]
        }
      ],
      "source": [
        "# Use variable total_column_count to hold the number of columns in the dataframe\n",
        "total_column_count = len(df_dataset_import.columns)\n",
        "\n",
        "# Set up variable total_feature_count for the total number of attribute columns\n",
        "total_feature_count = total_column_count-1\n",
        "\n",
        "# We create attribute-only and target-only datasets\n",
        "df_target_train = df_dataset_import[CLASS_COLUMN]\n",
        "df_features_train = df_dataset_import.drop([CLASS_COLUMN], axis=1)\n",
        "\n",
        "print(\"df_dataset_import.shape: {} df_features_train.shape: {} df_target_train.shape: {}\".format(df_dataset_import.shape, df_features_train.shape, df_target_train.shape))"
      ]
    },
    {
      "cell_type": "markdown",
      "metadata": {
        "id": "s8rlPv9Noyux"
      },
      "source": [
        "### 1.f) Set up the parameters for data visualization"
      ]
    },
    {
      "cell_type": "code",
      "execution_count": 19,
      "metadata": {
        "id": "a0uVeMpsoyuy"
      },
      "outputs": [],
      "source": [
        "# Set up the number of row and columns for visualization display. display_rows * display_columns should be >= total_feature_count\n",
        "display_columns = 4\n",
        "if total_feature_count % display_columns == 0 :\n",
        "    display_rows = total_feature_count // display_columns\n",
        "else :\n",
        "    display_rows = (total_feature_count // display_columns) + 1\n",
        "\n",
        "# Set figure width to display the data visualization plots\n",
        "fig_size = plt.rcParams[\"figure.figsize\"]\n",
        "fig_size[0] = display_columns * 4\n",
        "fig_size[1] = display_rows * 4\n",
        "plt.rcParams[\"figure.figsize\"] = fig_size"
      ]
    },
    {
      "cell_type": "code",
      "execution_count": 20,
      "metadata": {
        "id": "W_FIlvWloyuy"
      },
      "outputs": [],
      "source": [
        "if NOTIFY_STATUS: status_notify(\"Task 1 - Prepare Environment completed! \" + datetime.now().strftime('%a %B %d, %Y %I:%M:%S %p'))"
      ]
    },
    {
      "cell_type": "markdown",
      "metadata": {
        "id": "orVRV0XHoyuy"
      },
      "source": [
        "## Task 2 - Summarize and Visualize Data"
      ]
    },
    {
      "cell_type": "code",
      "execution_count": 21,
      "metadata": {
        "id": "c6KamCMqoyuy"
      },
      "outputs": [],
      "source": [
        "if NOTIFY_STATUS: status_notify(\"Task 2 - Summarize and Visualize Data has begun! \" + datetime.now().strftime('%a %B %d, %Y %I:%M:%S %p'))"
      ]
    },
    {
      "cell_type": "code",
      "execution_count": 22,
      "metadata": {
        "id": "pgzdFe_Uoyuy",
        "outputId": "5ab2081d-5301-44e7-d2a0-b2e3d4e0637f",
        "colab": {
          "base_uri": "https://localhost:8080/",
          "height": 700
        }
      },
      "outputs": [
        {
          "output_type": "display_data",
          "data": {
            "text/plain": [
              "<Figure size 1152x864 with 12 Axes>"
            ],
            "image/png": "[encoded data removed]"
          },
          "metadata": {
            "needs_background": "light"
          }
        }
      ],
      "source": [
        "# Histograms for each attribute\n",
        "df_features_train.plot(kind='hist', subplots=True, layout=(display_rows, display_columns))\n",
        "plt.show()"
      ]
    },
    {
      "cell_type": "code",
      "execution_count": 23,
      "metadata": {
        "id": "6c-ar-3toyuy",
        "outputId": "fb32c362-8c8a-4980-abcd-16c8d79ef7c1",
        "colab": {
          "base_uri": "https://localhost:8080/",
          "height": 702
        }
      },
      "outputs": [
        {
          "output_type": "display_data",
          "data": {
            "text/plain": [
              "<Figure size 1152x864 with 12 Axes>"
            ],
            "image/png": "[encoded data removed]"
          },
          "metadata": {
            "needs_background": "light"
          }
        }
      ],
      "source": [
        "# Box and Whisker plot for each attribute\n",
        "df_features_train.plot(kind='box', subplots=True, layout=(display_rows, display_columns))\n",
        "plt.show()"
      ]
    },
    {
      "cell_type": "code",
      "execution_count": 24,
      "metadata": {
        "id": "M9mWrtAVoyuy",
        "colab": {
          "base_uri": "https://localhost:8080/",
          "height": 1000
        },
        "outputId": "0577666d-f482-4b95-c9c1-1d03016a8da4"
      },
      "outputs": [
        {
          "output_type": "display_data",
          "data": {
            "text/plain": [
              "<Figure size 1440x1440 with 2 Axes>"
            ],
            "image/png": "[encoded data removed]"
          },
          "metadata": {
            "needs_background": "light"
          }
        }
      ],
      "source": [
        "# Correlation matrix\n",
        "fig = plt.figure(figsize=(20, 20))\n",
        "correlations = df_features_train.corr(method='pearson')\n",
        "sns.heatmap(correlations, annot=True, cmap=plt.cm.PuBu)\n",
        "plt.show()"
      ]
    },
    {
      "cell_type": "code",
      "execution_count": 25,
      "metadata": {
        "id": "pG0MBv7noyuy"
      },
      "outputs": [],
      "source": [
        "if NOTIFY_STATUS: status_notify(\"Task 2 - Summarize and Visualize Data completed! \" + datetime.now().strftime('%a %B %d, %Y %I:%M:%S %p'))"
      ]
    },
    {
      "cell_type": "markdown",
      "metadata": {
        "id": "0P3OoeOaoyuz"
      },
      "source": [
        "## Task 3 - Pre-process Data"
      ]
    },
    {
      "cell_type": "code",
      "execution_count": 26,
      "metadata": {
        "id": "vMi0mInkoyuz"
      },
      "outputs": [],
      "source": [
        "if NOTIFY_STATUS: status_notify(\"Task 3 - Pre-process Data has begun! \" + datetime.now().strftime('%a %B %d, %Y %I:%M:%S %p'))"
      ]
    },
    {
      "cell_type": "markdown",
      "metadata": {
        "id": "qvlG0_Gloyuz"
      },
      "source": [
        "### 3.a) Feature Scaling and Data Pre-Processing"
      ]
    },
    {
      "cell_type": "code",
      "execution_count": 27,
      "metadata": {
        "id": "qnVwjvF5oyuz"
      },
      "outputs": [],
      "source": [
        "# Not applicable for this iteration of the project"
      ]
    },
    {
      "cell_type": "markdown",
      "metadata": {
        "id": "UhEzGnKtoyuz"
      },
      "source": [
        "### 3.b) Training Data Balancing"
      ]
    },
    {
      "cell_type": "code",
      "execution_count": 28,
      "metadata": {
        "id": "-1ULtH01oyuz"
      },
      "outputs": [],
      "source": [
        "# Not applicable for this iteration of the project"
      ]
    },
    {
      "cell_type": "markdown",
      "metadata": {
        "id": "GTWvOhWWoyuz"
      },
      "source": [
        "### 3.c) Feature Selection"
      ]
    },
    {
      "cell_type": "code",
      "execution_count": 29,
      "metadata": {
        "id": "7VV1fyK1oyuz"
      },
      "outputs": [],
      "source": [
        "# Not applicable for this iteration of the project"
      ]
    },
    {
      "cell_type": "markdown",
      "metadata": {
        "id": "Ehygxv37oyuz"
      },
      "source": [
        "### 3.d) Display the Final Datasets for Model-Building"
      ]
    },
    {
      "cell_type": "code",
      "execution_count": 30,
      "metadata": {
        "id": "Rvbdx9uEoyuz",
        "outputId": "754fbb20-081a-48b1-f406-596923320148",
        "colab": {
          "base_uri": "https://localhost:8080/"
        }
      },
      "outputs": [
        {
          "output_type": "stream",
          "name": "stdout",
          "text": [
            "array_features_train.shape: (10430, 10) array_target_train.shape: (10430,)\n"
          ]
        }
      ],
      "source": [
        "# Finalize the training dataset for the modeling activities\n",
        "array_features_train = df_features_train.to_numpy()\n",
        "label_encoder = preprocessing.LabelEncoder()\n",
        "array_target_train = label_encoder.fit_transform(df_target_train)\n",
        "print(\"array_features_train.shape: {} array_target_train.shape: {}\".format(array_features_train.shape, array_target_train.shape))"
      ]
    },
    {
      "cell_type": "code",
      "execution_count": 31,
      "metadata": {
        "id": "knrO4zXmoyuz"
      },
      "outputs": [],
      "source": [
        "if NOTIFY_STATUS: status_notify(\"Task 3 - Pre-process Data completed! \" + datetime.now().strftime('%a %B %d, %Y %I:%M:%S %p'))"
      ]
    },
    {
      "cell_type": "markdown",
      "metadata": {
        "id": "AW4niFNBoyu0"
      },
      "source": [
        "## Task 4 - Train and Tune Models"
      ]
    },
    {
      "cell_type": "code",
      "execution_count": 32,
      "metadata": {
        "id": "iED_YVgNoyu0"
      },
      "outputs": [],
      "source": [
        "if NOTIFY_STATUS: status_notify(\"Task 4 - Train and Tune Models has begun! \" + datetime.now().strftime('%a %B %d, %Y %I:%M:%S %p'))"
      ]
    },
    {
      "cell_type": "markdown",
      "metadata": {
        "id": "yXlGt_ODoyu0"
      },
      "source": [
        "### 4.a) Set test options and evaluation metric"
      ]
    },
    {
      "cell_type": "code",
      "execution_count": 33,
      "metadata": {
        "id": "LG4WOhcSoyu0"
      },
      "outputs": [],
      "source": [
        "# Set up Algorithms Spot-Checking Array\n",
        "start_time_training = datetime.now()\n",
        "train_models = []\n",
        "train_results = []\n",
        "train_model_names = []\n",
        "train_metrics = []"
      ]
    },
    {
      "cell_type": "code",
      "execution_count": 34,
      "metadata": {
        "id": "KEMfNPUKoyu0"
      },
      "outputs": [],
      "source": [
        "train_models.append(('LDA', LinearDiscriminantAnalysis()))\n",
        "train_models.append(('CART', DecisionTreeClassifier(random_state=RNG_SEED)))\n",
        "train_models.append(('KNN', KNeighborsClassifier(n_jobs=N_JOBS)))\n",
        "train_models.append(('BGT', BaggingClassifier(random_state=RNG_SEED, n_jobs=N_JOBS)))\n",
        "train_models.append(('RNF', RandomForestClassifier(random_state=RNG_SEED, n_jobs=N_JOBS)))\n",
        "train_models.append(('EXT', ExtraTreesClassifier(random_state=RNG_SEED, n_jobs=N_JOBS)))"
      ]
    },
    {
      "cell_type": "code",
      "execution_count": 35,
      "metadata": {
        "id": "myc1LaJPoyu0",
        "outputId": "45430c86-6f7e-4aaf-b182-96b841c51b62",
        "colab": {
          "base_uri": "https://localhost:8080/"
        }
      },
      "outputs": [
        {
          "output_type": "stream",
          "name": "stderr",
          "text": [
            "[Parallel(n_jobs=1)]: Using backend SequentialBackend with 1 concurrent workers.\n",
            "[Parallel(n_jobs=1)]: Done   5 out of   5 | elapsed:    0.3s finished\n",
            "[Parallel(n_jobs=1)]: Using backend SequentialBackend with 1 concurrent workers.\n"
          ]
        },
        {
          "output_type": "stream",
          "name": "stdout",
          "text": [
            "LDA: 0.505177 (0.006370)\n",
            "LinearDiscriminantAnalysis()\n",
            "Model training time: 0:00:00.311508 \n",
            "\n"
          ]
        },
        {
          "output_type": "stream",
          "name": "stderr",
          "text": [
            "[Parallel(n_jobs=1)]: Done   5 out of   5 | elapsed:    0.7s finished\n",
            "[Parallel(n_jobs=1)]: Using backend SequentialBackend with 1 concurrent workers.\n"
          ]
        },
        {
          "output_type": "stream",
          "name": "stdout",
          "text": [
            "CART: 0.967306 (0.002414)\n",
            "DecisionTreeClassifier(random_state=888)\n",
            "Model training time: 0:00:00.673284 \n",
            "\n"
          ]
        },
        {
          "output_type": "stream",
          "name": "stderr",
          "text": [
            "[Parallel(n_jobs=1)]: Done   5 out of   5 | elapsed:    2.7s finished\n",
            "[Parallel(n_jobs=1)]: Using backend SequentialBackend with 1 concurrent workers.\n"
          ]
        },
        {
          "output_type": "stream",
          "name": "stdout",
          "text": [
            "KNN: 0.720518 (0.010672)\n",
            "KNeighborsClassifier(n_jobs=1)\n",
            "Model training time: 0:00:02.713855 \n",
            "\n"
          ]
        },
        {
          "output_type": "stream",
          "name": "stderr",
          "text": [
            "[Parallel(n_jobs=1)]: Done   5 out of   5 | elapsed:    5.3s finished\n",
            "[Parallel(n_jobs=1)]: Using backend SequentialBackend with 1 concurrent workers.\n"
          ]
        },
        {
          "output_type": "stream",
          "name": "stdout",
          "text": [
            "BGT: 0.980345 (0.002626)\n",
            "BaggingClassifier(n_jobs=1, random_state=888)\n",
            "Model training time: 0:00:05.274207 \n",
            "\n"
          ]
        },
        {
          "output_type": "stream",
          "name": "stderr",
          "text": [
            "[Parallel(n_jobs=1)]: Done   5 out of   5 | elapsed:   13.3s finished\n",
            "[Parallel(n_jobs=1)]: Using backend SequentialBackend with 1 concurrent workers.\n"
          ]
        },
        {
          "output_type": "stream",
          "name": "stdout",
          "text": [
            "RNF: 0.979674 (0.001235)\n",
            "RandomForestClassifier(n_jobs=1, random_state=888)\n",
            "Model training time: 0:00:13.284960 \n",
            "\n",
            "EXT: 0.977948 (0.004658)\n",
            "ExtraTreesClassifier(n_jobs=1, random_state=888)\n",
            "Model training time: 0:00:04.632703 \n",
            "\n",
            "Average metrics (accuracy) from all models: 0.8551613934164269\n",
            "Total training time for all models: 0:00:26.943650\n"
          ]
        },
        {
          "output_type": "stream",
          "name": "stderr",
          "text": [
            "[Parallel(n_jobs=1)]: Done   5 out of   5 | elapsed:    4.6s finished\n"
          ]
        }
      ],
      "source": [
        "# Generate model in turn\n",
        "for name, model in train_models:\n",
        "\tif NOTIFY_STATUS: status_notify(\"Algorithm\", name, \"modeling has begun! \" + datetime.now().strftime('%a %B %d, %Y %I:%M:%S %p'))\n",
        "\tstart_time_module = datetime.now()\n",
        "\tkfold = StratifiedKFold(n_splits=N_FOLDS, shuffle=True, random_state=RNG_SEED)\n",
        "\tcv_results = cross_val_score(model, array_features_train, array_target_train, cv=kfold, scoring=SCORING_METRIC, n_jobs=N_JOBS, verbose=1)\n",
        "\ttrain_results.append(cv_results)\n",
        "\ttrain_model_names.append(name)\n",
        "\ttrain_metrics.append(cv_results.mean())\n",
        "\tprint(\"%s: %f (%f)\" % (name, cv_results.mean(), cv_results.std()))\n",
        "\tprint(model)\n",
        "\tprint ('Model training time:', (datetime.now() - start_time_module), '\\n')\n",
        "\tif NOTIFY_STATUS: status_notify(\"Algorithm\", name, \"modeling completed! \" + datetime.now().strftime('%a %B %d, %Y %I:%M:%S %p'))\n",
        "print ('Average metrics (' + SCORING_METRIC + ') from all models:', np.mean(train_metrics))\n",
        "print ('Total training time for all models:', (datetime.now() - start_time_training))"
      ]
    },
    {
      "cell_type": "markdown",
      "metadata": {
        "id": "5f81C5REoyu0"
      },
      "source": [
        "### 4.b) Spot-checking baseline algorithms"
      ]
    },
    {
      "cell_type": "code",
      "execution_count": 36,
      "metadata": {
        "id": "xbuEpBv-oyu0",
        "outputId": "5eba230c-2cb4-4b0e-bf86-3d849412a750",
        "colab": {
          "base_uri": "https://localhost:8080/",
          "height": 787
        }
      },
      "outputs": [
        {
          "output_type": "display_data",
          "data": {
            "text/plain": [
              "<Figure size 1152x864 with 1 Axes>"
            ],
            "image/png": "[encoded data removed]"
          },
          "metadata": {
            "needs_background": "light"
          }
        }
      ],
      "source": [
        "fig = plt.figure(figsize=(16,12))\n",
        "fig.suptitle('Algorithm Comparison - Spot Checking')\n",
        "ax = fig.add_subplot(111)\n",
        "plt.boxplot(train_results)\n",
        "ax.set_xticklabels(train_model_names)\n",
        "plt.show()"
      ]
    },
    {
      "cell_type": "code",
      "execution_count": 37,
      "metadata": {
        "id": "0I685ixNoyu0"
      },
      "outputs": [],
      "source": [
        "if NOTIFY_STATUS: status_notify(\"Task 4 - Train and Tune Models completed! \" + datetime.now().strftime('%a %B %d, %Y %I:%M:%S %p'))"
      ]
    },
    {
      "cell_type": "markdown",
      "metadata": {
        "id": "h5CGob13oyu1"
      },
      "source": [
        "### 4.c) Algorithm Tuning"
      ]
    },
    {
      "cell_type": "code",
      "execution_count": 38,
      "metadata": {
        "id": "Zew5gUkRoyu1"
      },
      "outputs": [],
      "source": [
        "# Set up the comparison array\n",
        "tune_results = []\n",
        "tune_model_names = []"
      ]
    },
    {
      "cell_type": "code",
      "execution_count": 39,
      "metadata": {
        "id": "g1qX8pZxoyu1",
        "outputId": "ad233d92-f2e4-42a7-826d-7aa7245827ae",
        "colab": {
          "base_uri": "https://localhost:8080/"
        }
      },
      "outputs": [
        {
          "output_type": "stream",
          "name": "stdout",
          "text": [
            "Fitting 5 folds for each of 3 candidates, totalling 15 fits\n",
            "Best: 0.985331 using {'n_estimators': 50}\n",
            "0.980345 (0.002626) with: {'n_estimators': 10}\n",
            "0.985235 (0.001528) with: {'n_estimators': 30}\n",
            "0.985331 (0.001956) with: {'n_estimators': 50}\n",
            "Model training time: 0:00:22.877407\n"
          ]
        }
      ],
      "source": [
        "# Tuning algorithm #1\n",
        "start_time_module = datetime.now()\n",
        "if NOTIFY_STATUS: status_notify(\"Algorithm #1 tuning has begun! \" + datetime.now().strftime('%a %B %d, %Y %I:%M:%S %p'))\n",
        "\n",
        "tune_model1 = BaggingClassifier(random_state=RNG_SEED, n_jobs=N_JOBS)\n",
        "tune_model_names.append('BGT')\n",
        "paramGrid1 = dict(n_estimators=np.array([10, 30, 50]))\n",
        "\n",
        "kfold = StratifiedKFold(n_splits=N_FOLDS, shuffle=True, random_state=RNG_SEED)\n",
        "grid1 = GridSearchCV(estimator=tune_model1, param_grid=paramGrid1, scoring=SCORING_METRIC, cv=kfold, n_jobs=N_JOBS, verbose=1)\n",
        "grid_result1 = grid1.fit(array_features_train, array_target_train)\n",
        "\n",
        "print(\"Best: %f using %s\" % (grid_result1.best_score_, grid_result1.best_params_))\n",
        "tune_results.append(grid_result1.cv_results_['mean_test_score'])\n",
        "means = grid_result1.cv_results_['mean_test_score']\n",
        "stds = grid_result1.cv_results_['std_test_score']\n",
        "params = grid_result1.cv_results_['params']\n",
        "for mean, stdev, param in zip(means, stds, params):\n",
        "    print(\"%f (%f) with: %r\" % (mean, stdev, param))\n",
        "print ('Model training time:', (datetime.now() - start_time_module))\n",
        "if NOTIFY_STATUS: status_notify(\"Algorithm #1 tuning completed! \" + datetime.now().strftime('%a %B %d, %Y %I:%M:%S %p'))"
      ]
    },
    {
      "cell_type": "code",
      "execution_count": 40,
      "metadata": {
        "id": "QJkW2KqBoyu1",
        "outputId": "dfa5d586-f659-4c03-c80a-90b9a9df7a21",
        "colab": {
          "base_uri": "https://localhost:8080/"
        }
      },
      "outputs": [
        {
          "output_type": "stream",
          "name": "stdout",
          "text": [
            "Captured the best parameter for algorithm #1: n_estimators = 50\n"
          ]
        }
      ],
      "source": [
        "best_paramKey1 = list(grid_result1.best_params_.keys())[0]\n",
        "best_paramValue1 = list(grid_result1.best_params_.values())[0]\n",
        "print(\"Captured the best parameter for algorithm #1:\", best_paramKey1, '=', best_paramValue1)"
      ]
    },
    {
      "cell_type": "code",
      "execution_count": 41,
      "metadata": {
        "id": "MCLcZW6Koyu1",
        "outputId": "c6dd6845-f2b5-4233-cdf4-6a71de99ac1e",
        "colab": {
          "base_uri": "https://localhost:8080/"
        }
      },
      "outputs": [
        {
          "output_type": "stream",
          "name": "stdout",
          "text": [
            "Fitting 5 folds for each of 3 candidates, totalling 15 fits\n",
            "Best: 0.981783 using {'n_estimators': 500}\n",
            "0.979674 (0.001235) with: {'n_estimators': 100}\n",
            "0.981304 (0.002207) with: {'n_estimators': 300}\n",
            "0.981783 (0.002079) with: {'n_estimators': 500}\n",
            "Model training time: 0:01:31.756422\n"
          ]
        }
      ],
      "source": [
        "# Tuning algorithm #2\n",
        "start_time_module = datetime.now()\n",
        "if NOTIFY_STATUS: status_notify(\"Algorithm #2 tuning has begun! \" + datetime.now().strftime('%a %B %d, %Y %I:%M:%S %p'))\n",
        "\n",
        "tune_model2 = RandomForestClassifier(random_state=RNG_SEED, n_jobs=N_JOBS)\n",
        "tune_model_names.append('RNF')\n",
        "paramGrid2 = dict(n_estimators=np.array([100, 300, 500]))\n",
        "\n",
        "kfold = StratifiedKFold(n_splits=N_FOLDS, shuffle=True, random_state=RNG_SEED)\n",
        "grid2 = GridSearchCV(estimator=tune_model2, param_grid=paramGrid2, scoring=SCORING_METRIC, cv=kfold, n_jobs=N_JOBS, verbose=1)\n",
        "grid_result2 = grid2.fit(array_features_train, array_target_train)\n",
        "\n",
        "print(\"Best: %f using %s\" % (grid_result2.best_score_, grid_result2.best_params_))\n",
        "tune_results.append(grid_result2.cv_results_['mean_test_score'])\n",
        "means = grid_result2.cv_results_['mean_test_score']\n",
        "stds = grid_result2.cv_results_['std_test_score']\n",
        "params = grid_result2.cv_results_['params']\n",
        "for mean, stdev, param in zip(means, stds, params):\n",
        "    print(\"%f (%f) with: %r\" % (mean, stdev, param))\n",
        "print ('Model training time:', (datetime.now() - start_time_module))\n",
        "if NOTIFY_STATUS: status_notify(\"Algorithm #2 tuning completed! \" + datetime.now().strftime('%a %B %d, %Y %I:%M:%S %p'))"
      ]
    },
    {
      "cell_type": "code",
      "execution_count": 42,
      "metadata": {
        "id": "KArFoQQJoyu1",
        "outputId": "bb709f88-102a-499b-a5b6-26690358e3be",
        "colab": {
          "base_uri": "https://localhost:8080/"
        }
      },
      "outputs": [
        {
          "output_type": "stream",
          "name": "stdout",
          "text": [
            "Captured the best parameter for algorithm #2: n_estimators = 500\n"
          ]
        }
      ],
      "source": [
        "best_paramKey2 = list(grid_result2.best_params_.keys())[0]\n",
        "best_paramValue2 = list(grid_result2.best_params_.values())[0]\n",
        "print(\"Captured the best parameter for algorithm #2:\", best_paramKey2, '=', best_paramValue2)"
      ]
    },
    {
      "cell_type": "markdown",
      "metadata": {
        "id": "ovTv9np2oyu1"
      },
      "source": [
        "### 4.d) Compare Algorithms After Tuning"
      ]
    },
    {
      "cell_type": "code",
      "execution_count": 43,
      "metadata": {
        "id": "u7fV2PBpoyu1",
        "outputId": "bdc478e2-922e-4847-a739-7275c7c01072",
        "colab": {
          "base_uri": "https://localhost:8080/",
          "height": 787
        }
      },
      "outputs": [
        {
          "output_type": "display_data",
          "data": {
            "text/plain": [
              "<Figure size 1152x864 with 1 Axes>"
            ],
            "image/png": "[encoded data removed]"
          },
          "metadata": {
            "needs_background": "light"
          }
        }
      ],
      "source": [
        "fig = plt.figure(figsize=(16,12))\n",
        "fig.suptitle('Algorithm Comparison - Post Tuning')\n",
        "ax = fig.add_subplot(111)\n",
        "plt.boxplot(tune_results)\n",
        "ax.set_xticklabels(tune_model_names)\n",
        "plt.show()"
      ]
    },
    {
      "cell_type": "code",
      "execution_count": 44,
      "metadata": {
        "id": "3f1ZGfhooyu1"
      },
      "outputs": [],
      "source": [
        "if NOTIFY_STATUS: status_notify(\"Task 4 - Train and Tune Models completed! \" + datetime.now().strftime('%a %B %d, %Y %I:%M:%S %p'))"
      ]
    },
    {
      "cell_type": "markdown",
      "metadata": {
        "id": "955lq8SUoyu2"
      },
      "source": [
        "## Task 5 - Finalize Model and Make Predictions"
      ]
    },
    {
      "cell_type": "code",
      "execution_count": 45,
      "metadata": {
        "id": "lG_cjoUhoyu2"
      },
      "outputs": [],
      "source": [
        "if NOTIFY_STATUS: status_notify(\"Task 5 - Finalize Model and Make Predictions has begun! \" + datetime.now().strftime('%a %B %d, %Y %I:%M:%S %p'))"
      ]
    },
    {
      "cell_type": "markdown",
      "metadata": {
        "id": "KMhReM3joyu2"
      },
      "source": [
        "### 5.a) Train the Final Model"
      ]
    },
    {
      "cell_type": "code",
      "execution_count": 46,
      "metadata": {
        "id": "-IM5eGOLoyu2",
        "outputId": "6fffc26e-51a9-4ec2-d3e7-6cc90469f940",
        "colab": {
          "base_uri": "https://localhost:8080/"
        }
      },
      "outputs": [
        {
          "output_type": "stream",
          "name": "stdout",
          "text": [
            "BaggingClassifier(n_estimators=50, n_jobs=1, random_state=888)\n"
          ]
        }
      ],
      "source": [
        "final_model = BaggingClassifier(n_estimators=best_paramValue1, random_state=RNG_SEED, n_jobs=N_JOBS)\n",
        "final_model.fit(array_features_train, array_target_train)\n",
        "print(final_model)"
      ]
    },
    {
      "cell_type": "markdown",
      "metadata": {
        "id": "R08BwjcToyu2"
      },
      "source": [
        "### 5.b) Load Test Dataset and Make Predictions"
      ]
    },
    {
      "cell_type": "code",
      "source": [
        "if not os.path.exists(TEST_DATASET):\n",
        "    !wget https://dainesanalytics.com/datasets/ucirvine-avila-bible-identification/avila-ts.txt"
      ],
      "metadata": {
        "id": "PTa_Msn1JGv8"
      },
      "execution_count": 47,
      "outputs": []
    },
    {
      "cell_type": "code",
      "source": [
        "df_dataset_test = pd.read_csv(TEST_DATASET, names=colNames, sep=',', header=None, index_col=False)\n",
        "\n",
        "# Take a peek at the dataframe after import\n",
        "print(df_dataset_test.head())"
      ],
      "metadata": {
        "id": "nJpWO1DfJLta",
        "colab": {
          "base_uri": "https://localhost:8080/"
        },
        "outputId": "dd8f0bdf-8b11-4c45-f9c2-51a24eaac7b6"
      },
      "execution_count": 48,
      "outputs": [
        {
          "output_type": "stream",
          "name": "stdout",
          "text": [
            "         F1        F2        F3        F4        F5        F6        F7  \\\n",
            "0 -3.498799  0.250492  0.232070  1.224178 -4.922215  1.145386  0.182426   \n",
            "1  0.204355 -0.354049  0.320980  0.410166 -0.989576 -2.218127  0.220177   \n",
            "2  0.759828 -1.304042 -0.023991 -0.973663 -0.006417 -0.349509 -0.421580   \n",
            "3 -0.005490  0.360409  0.281860 -0.213479 -1.168333 -1.013906 -0.346080   \n",
            "4  0.080916  0.101320  0.104040  0.140490  0.261718  0.480988  0.710932   \n",
            "\n",
            "         F8        F9       F10 Class  \n",
            "0 -0.165983 -0.123005  1.087144     W  \n",
            "1  0.181844  2.090879 -2.009758     A  \n",
            "2 -0.450127  0.469443  0.060952     I  \n",
            "3  1.176165  0.968347 -0.627999     E  \n",
            "4 -0.253430 -0.497183  0.155681     A  \n"
          ]
        }
      ]
    },
    {
      "cell_type": "code",
      "source": [
        "# Standardize the class column to the name of targetVar if required\n",
        "df_dataset_test = df_dataset_test.rename(columns={ORIGINAL_LABEL: CLASS_COLUMN})\n",
        "\n",
        "# Take a peek at the dataframe after cleaning\n",
        "print(df_dataset_test.head())"
      ],
      "metadata": {
        "colab": {
          "base_uri": "https://localhost:8080/"
        },
        "id": "gbq0_BvPOUJ4",
        "outputId": "5f8f03a4-5a13-4fd3-8404-802b1f3a758e"
      },
      "execution_count": 49,
      "outputs": [
        {
          "output_type": "stream",
          "name": "stdout",
          "text": [
            "         F1        F2        F3        F4        F5        F6        F7  \\\n",
            "0 -3.498799  0.250492  0.232070  1.224178 -4.922215  1.145386  0.182426   \n",
            "1  0.204355 -0.354049  0.320980  0.410166 -0.989576 -2.218127  0.220177   \n",
            "2  0.759828 -1.304042 -0.023991 -0.973663 -0.006417 -0.349509 -0.421580   \n",
            "3 -0.005490  0.360409  0.281860 -0.213479 -1.168333 -1.013906 -0.346080   \n",
            "4  0.080916  0.101320  0.104040  0.140490  0.261718  0.480988  0.710932   \n",
            "\n",
            "         F8        F9       F10 target  \n",
            "0 -0.165983 -0.123005  1.087144      W  \n",
            "1  0.181844  2.090879 -2.009758      A  \n",
            "2 -0.450127  0.469443  0.060952      I  \n",
            "3  1.176165  0.968347 -0.627999      E  \n",
            "4 -0.253430 -0.497183  0.155681      A  \n"
          ]
        }
      ]
    },
    {
      "cell_type": "code",
      "source": [
        "# We create attribute-only and target-only datasets\n",
        "df_target_test = df_dataset_test[CLASS_COLUMN]\n",
        "df_features_test = df_dataset_test.drop([CLASS_COLUMN], axis=1)\n",
        "\n",
        "print(\"df_features_test.shape: {} df_target_test.shape: {}\".format(df_features_test.shape, df_target_test.shape))"
      ],
      "metadata": {
        "id": "YTT3Bes_KQMu",
        "colab": {
          "base_uri": "https://localhost:8080/"
        },
        "outputId": "43ed6516-4bd4-4a72-ad45-6073b08e6ff3"
      },
      "execution_count": 50,
      "outputs": [
        {
          "output_type": "stream",
          "name": "stdout",
          "text": [
            "df_features_test.shape: (10437, 10) df_target_test.shape: (10437,)\n"
          ]
        }
      ]
    },
    {
      "cell_type": "code",
      "execution_count": 51,
      "metadata": {
        "id": "-5gBztm0oyu2",
        "outputId": "42b32279-8694-42f7-df3a-aa8002cc41e8",
        "colab": {
          "base_uri": "https://localhost:8080/"
        }
      },
      "outputs": [
        {
          "output_type": "stream",
          "name": "stdout",
          "text": [
            "Transformed features from df_features_test.shape: (10437, 10) to array_features_test.shape: (10437, 10)\n"
          ]
        }
      ],
      "source": [
        "# Finalize the test dataset for the testing activities\n",
        "array_features_test = df_features_test.to_numpy()\n",
        "array_target_test = label_encoder.transform(df_target_test)\n",
        "print(\"Transformed features from df_features_test.shape: {} to array_features_test.shape: {}\".format(df_features_test.shape, array_features_test.shape))"
      ]
    },
    {
      "cell_type": "code",
      "execution_count": 52,
      "metadata": {
        "id": "XQQFtQsioyu2",
        "outputId": "4a7ee56d-8a0a-4901-b4a6-7fcc6a905b7e",
        "colab": {
          "base_uri": "https://localhost:8080/"
        }
      },
      "outputs": [
        {
          "output_type": "stream",
          "name": "stdout",
          "text": [
            "[9 0 0 ... 0 5 7]\n"
          ]
        }
      ],
      "source": [
        "# Make batched predictions\n",
        "test_predictions =  final_model.predict(array_features_test)\n",
        "print(test_predictions)"
      ]
    },
    {
      "cell_type": "code",
      "execution_count": 53,
      "metadata": {
        "id": "mKcvGMvBoyu3",
        "outputId": "f9bcbca7-6a70-47c9-a2af-50b22102bb0b",
        "colab": {
          "base_uri": "https://localhost:8080/"
        }
      },
      "outputs": [
        {
          "output_type": "stream",
          "name": "stdout",
          "text": [
            "Accuracy Score: 0.992047523234646 \n",
            "\n",
            "[[4278    0    0    0    7    0    0    1    0    0    0    0]\n",
            " [   0    5    0    0    0    0    0    0    0    0    0    0]\n",
            " [   0    0  103    0    0    0    0    0    0    0    0    0]\n",
            " [   0    0    0  343   10    0    0    0    0    0    0    0]\n",
            " [   4    0    0    6 1081    1    0    0    0    0    3    0]\n",
            " [   5    0    0    2    0 1952    3    0    0    0    0    0]\n",
            " [   0    0    0    0    2    0  445    0    0    0    0    0]\n",
            " [   0    0    3    0    0    0    0  517    0    0    0    0]\n",
            " [   8    0    0    0    0    0    0    0  824    0    0    0]\n",
            " [   0    0    0    0    0    0    0    0    0   45    0    0]\n",
            " [   2    0    0    1   14    0    0    0    0    0  502    3]\n",
            " [   0    0    0    0    0    0    0    0    0    0    8  259]] \n",
            "\n",
            "              precision    recall  f1-score   support\n",
            "\n",
            "           0       1.00      1.00      1.00      4286\n",
            "           1       1.00      1.00      1.00         5\n",
            "           2       0.97      1.00      0.99       103\n",
            "           3       0.97      0.97      0.97       353\n",
            "           4       0.97      0.99      0.98      1095\n",
            "           5       1.00      0.99      1.00      1962\n",
            "           6       0.99      1.00      0.99       447\n",
            "           7       1.00      0.99      1.00       520\n",
            "           8       1.00      0.99      1.00       832\n",
            "           9       1.00      1.00      1.00        45\n",
            "          10       0.98      0.96      0.97       522\n",
            "          11       0.99      0.97      0.98       267\n",
            "\n",
            "    accuracy                           0.99     10437\n",
            "   macro avg       0.99      0.99      0.99     10437\n",
            "weighted avg       0.99      0.99      0.99     10437\n",
            "\n"
          ]
        }
      ],
      "source": [
        "print('Accuracy Score:', accuracy_score(array_target_test, test_predictions),'\\n')\n",
        "print(confusion_matrix(array_target_test, test_predictions),'\\n')\n",
        "print(classification_report(array_target_test, test_predictions))"
      ]
    },
    {
      "cell_type": "code",
      "execution_count": 54,
      "metadata": {
        "id": "REuedcf5oyu3"
      },
      "outputs": [],
      "source": [
        "if NOTIFY_STATUS: status_notify(\"Task 5 - Finalize Model and Make Predictions completed! \" + datetime.now().strftime('%a %B %d, %Y %I:%M:%S %p'))"
      ]
    },
    {
      "cell_type": "code",
      "execution_count": 55,
      "metadata": {
        "id": "nErqP5A_oyu3",
        "outputId": "f2781df5-1a4a-41a5-fe3d-2d6801424ce7",
        "colab": {
          "base_uri": "https://localhost:8080/"
        }
      },
      "outputs": [
        {
          "output_type": "stream",
          "name": "stdout",
          "text": [
            "Total time for the script: 0:02:34.139386\n"
          ]
        }
      ],
      "source": [
        "print ('Total time for the script:',(datetime.now() - START_TIME_SCRIPT))"
      ]
    }
  ],
  "metadata": {
    "kernelspec": {
      "display_name": "Python 3 (ipykernel)",
      "language": "python",
      "name": "python3"
    },
    "language_info": {
      "codemirror_mode": {
        "name": "ipython",
        "version": 3
      },
      "file_extension": ".py",
      "mimetype": "text/x-python",
      "name": "python",
      "nbconvert_exporter": "python",
      "pygments_lexer": "ipython3",
      "version": "3.8.10"
    },
    "colab": {
      "name": "py_sklearn_multiclass_avila_bible_identification.ipynb",
      "provenance": [],
      "collapsed_sections": [],
      "background_execution": "on"
    }
  },
  "nbformat": 4,
  "nbformat_minor": 0
}
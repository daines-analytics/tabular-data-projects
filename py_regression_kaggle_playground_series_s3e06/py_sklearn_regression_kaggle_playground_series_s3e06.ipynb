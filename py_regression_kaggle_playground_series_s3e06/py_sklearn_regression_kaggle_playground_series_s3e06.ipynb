{
  "cells": [
    {
      "cell_type": "markdown",
      "metadata": {
        "id": "EE_fiDKNoyun"
      },
      "source": [
        "# Regression Tabular Model for Kaggle Playground Series Season 3 Episode 6 Using Python and Scikit-Learn\n",
        "### David Lowe\n",
        "### March 13, 2023\n",
        "\n",
        "SUMMARY: The project aims to construct a predictive model using various machine learning algorithms and document the end-to-end steps using a template. The Kaggle Playground Series Season 3 Episode 6 Dataset is a regression modeling situation where we are trying to predict the value of a continuous variable.\n",
        "\n",
        "INTRODUCTION: Kaggle wants to provide an approachable environment for relatively new people in their data science journey. Since January 2021, they have hosted playground-style competitions to give the Kaggle community a variety of reasonably lightweight challenges that can be used to learn and sharpen skills in different aspects of machine learning and data science. The dataset for this competition was generated from a deep learning model trained on the Paris Housing Price Prediction dataset. Feature distributions are close to but different from the original.\n",
        "\n",
        "ANALYSIS: The average performance of the machine learning algorithms achieved an RMSE benchmark of 454,623 after preliminary training runs. Furthermore, we selected Random Forest Regressor as the final model as it processed the training dataset with an RMSE score of 133,540. When we tested the final model using the test dataset, the model achieved an RMSE score of 225,268.\n",
        "\n",
        "CONCLUSION: In this iteration, the Extra Trees model appeared to be a suitable algorithm for modeling this dataset.\n",
        "\n",
        "Dataset Used: Playground Series Season 3, Episode 6\n",
        "\n",
        "Dataset ML Model: Regression with numerical features\n",
        "\n",
        "Dataset Reference: https://www.kaggle.com/competitions/playground-series-s3e6/\n",
        "\n",
        "One source of potential performance benchmarks: https://www.kaggle.com/competitions/playground-series-s3e6/leaderboard"
      ]
    },
    {
      "cell_type": "markdown",
      "metadata": {
        "id": "5DL3_UWSoyuq"
      },
      "source": [
        "## Task 1 - Prepare Environment"
      ]
    },
    {
      "cell_type": "code",
      "execution_count": 1,
      "metadata": {
        "id": "zwaLoks6oyuq",
        "outputId": "94acec3b-d0b4-48ec-bf94-386fc9e52408",
        "colab": {
          "base_uri": "https://localhost:8080/"
        }
      },
      "outputs": [
        {
          "output_type": "stream",
          "name": "stdout",
          "text": [
            "The number of available CPUs is: 2\n"
          ]
        }
      ],
      "source": [
        "# Retrieve the CPU information\n",
        "ncpu = !nproc\n",
        "print(\"The number of available CPUs is:\", ncpu[0])"
      ]
    },
    {
      "cell_type": "markdown",
      "metadata": {
        "id": "z_paFmzJoyur"
      },
      "source": [
        "### 1.a) Load libraries and modules"
      ]
    },
    {
      "cell_type": "code",
      "execution_count": 2,
      "metadata": {
        "id": "1n0cywZWoyus"
      },
      "outputs": [],
      "source": [
        "# Set the random seed number for reproducible results\n",
        "RNG_SEED = 888"
      ]
    },
    {
      "cell_type": "code",
      "execution_count": 3,
      "metadata": {
        "id": "oRD-IY3zoyus"
      },
      "outputs": [],
      "source": [
        "import numpy as np\n",
        "import pandas as pd\n",
        "import seaborn as sns\n",
        "import matplotlib.pyplot as plt\n",
        "import os\n",
        "import sys\n",
        "import math\n",
        "# import boto3\n",
        "import zipfile\n",
        "import urllib\n",
        "from datetime import datetime\n",
        "from sklearn import preprocessing\n",
        "from sklearn.model_selection import train_test_split\n",
        "from sklearn.model_selection import KFold\n",
        "from sklearn.model_selection import cross_val_score\n",
        "from sklearn.model_selection import GridSearchCV\n",
        "from sklearn.metrics import mean_squared_error\n",
        "from sklearn.metrics import r2_score\n",
        "from sklearn.pipeline import Pipeline\n",
        "from sklearn import compose\n",
        "from sklearn import impute\n",
        "from sklearn import datasets\n",
        "\n",
        "# from sklearn.feature_selection import RFE\n",
        "# from imblearn.pipeline import Pipeline\n",
        "# from imblearn.over_sampling import SMOTE\n",
        "# from imblearn.under_sampling import RandomUnderSampler\n",
        "\n",
        "from sklearn.linear_model import LinearRegression\n",
        "from sklearn.linear_model import ElasticNet\n",
        "from sklearn.tree import DecisionTreeRegressor\n",
        "from sklearn.neighbors import KNeighborsRegressor\n",
        "from sklearn.ensemble import RandomForestRegressor\n",
        "from sklearn.ensemble import ExtraTreesRegressor"
      ]
    },
    {
      "cell_type": "markdown",
      "metadata": {
        "id": "eoKsdpcAoyut"
      },
      "source": [
        "### 1.b) Set up the controlling parameters and functions"
      ]
    },
    {
      "cell_type": "code",
      "execution_count": 4,
      "metadata": {
        "id": "isxXMHRBoyut"
      },
      "outputs": [],
      "source": [
        "# Begin the timer for the script processing\n",
        "START_TIME_SCRIPT = datetime.now()\n",
        "\n",
        "# Set up the number of CPU cores available for multi-thread processing\n",
        "N_JOBS = 2\n",
        "\n",
        "# Set up the flag to stop sending progress emails (setting to True will send status emails!)\n",
        "NOTIFY_STATUS = False\n",
        "\n",
        "# Set the percentage sizes for splitting the dataset\n",
        "TEST_SET_RATIO = 0.1\n",
        "VAL_SET_RATIO = 0.1\n",
        "\n",
        "# Set the name for the class/label column\n",
        "ORIGINAL_LABEL = 'price'\n",
        "CLASS_COLUMN = 'target'\n",
        "\n",
        "# Set the number of folds for cross validation\n",
        "N_FOLDS = 10\n",
        "\n",
        "# Set default modeling scoring metric\n",
        "SCORING_METRIC = 'neg_root_mean_squared_error'\n",
        "\n",
        "# Define the directory locations and file names\n",
        "TRAIN_DATASET = 'https://dainesanalytics.com/datasets/kaggle-playground-series-s3e06/train.csv'\n",
        "TEST_DATASET = 'https://dainesanalytics.com/datasets/kaggle-playground-series-s3e06/test.csv'\n",
        "ORIGINAL_DATASET = 'https://dainesanalytics.com/datasets/kaggle-playground-series-s3e06/ParisHousing.csv'\n",
        "SUBMISSION_TEMPLATE = 'https://dainesanalytics.com/datasets/kaggle-playground-series-s3e06/sample_submission.csv'\n",
        "SUBMISSION_FILE = 'submission_sklearn_'"
      ]
    },
    {
      "cell_type": "code",
      "execution_count": 5,
      "metadata": {
        "id": "GfhSo1ZCoyut"
      },
      "outputs": [],
      "source": [
        "# Set up the email notification function\n",
        "def status_notify(msg_text):\n",
        "    access_key = os.environ.get('SNS_ACCESS_KEY')\n",
        "    secret_key = os.environ.get('SNS_SECRET_KEY')\n",
        "    aws_region = os.environ.get('SNS_AWS_REGION')\n",
        "    topic_arn = os.environ.get('SNS_TOPIC_ARN')\n",
        "    if (access_key is None) or (secret_key is None) or (aws_region is None):\n",
        "        sys.exit(\"Incomplete notification setup info. Script Processing Aborted!!!\")\n",
        "    sns = boto3.client('sns', aws_access_key_id=access_key, aws_secret_access_key=secret_key, region_name=aws_region)\n",
        "    response = sns.publish(TopicArn=topic_arn, Message=msg_text)\n",
        "    if response['ResponseMetadata']['HTTPStatusCode'] != 200 :\n",
        "        print('Status notification not OK with HTTP status code:', response['ResponseMetadata']['HTTPStatusCode'])"
      ]
    },
    {
      "cell_type": "code",
      "execution_count": 6,
      "metadata": {
        "id": "ReDfVHpJoyuu"
      },
      "outputs": [],
      "source": [
        "if NOTIFY_STATUS: status_notify(\"Task 1 - Prepare Environment has begun! \" + datetime.now().strftime('%a %B %d, %Y %I:%M:%S %p'))"
      ]
    },
    {
      "cell_type": "markdown",
      "metadata": {
        "id": "tAqq162Aoyuu"
      },
      "source": [
        "### 1.c) Load dataset"
      ]
    },
    {
      "cell_type": "code",
      "execution_count": 7,
      "metadata": {
        "id": "5rc2muM6oyuv",
        "outputId": "e7760a75-14e0-4ed6-d3db-5b449035b12d",
        "colab": {
          "base_uri": "https://localhost:8080/"
        }
      },
      "outputs": [
        {
          "output_type": "stream",
          "name": "stdout",
          "text": [
            "   id  squareMeters  numberOfRooms  hasYard  hasPool  floors  cityCode  \\\n",
            "0   0         34291             24        1        0      47     35693   \n",
            "1   1         95145             60        0        1      60     34773   \n",
            "2   2         92661             45        1        1      62     45457   \n",
            "3   3         97184             99        0        0      59     15113   \n",
            "4   4         61752            100        0        0      57     64245   \n",
            "\n",
            "   cityPartRange  numPrevOwners  made  isNewBuilt  hasStormProtector  \\\n",
            "0              2              1  2000           0                  1   \n",
            "1              1              4  2000           0                  1   \n",
            "2              4              8  2020           1                  1   \n",
            "3              1              1  2000           0                  1   \n",
            "4              8              4  2018           1                  0   \n",
            "\n",
            "   basement  attic  garage  hasStorageRoom  hasGuestRoom      price  \n",
            "0         8   5196     369               0             3  3436795.2  \n",
            "1       729   4496     277               0             6  9519958.0  \n",
            "2      7473   8953     245               1             9  9276448.1  \n",
            "3      6424   8522     256               1             9  9725732.2  \n",
            "4      7151   2786     863               0             7  6181908.8  \n"
          ]
        }
      ],
      "source": [
        "df_dataset_import = pd.read_csv(TRAIN_DATASET)\n",
        "\n",
        "# Take a peek at the dataframe after import\n",
        "print(df_dataset_import.head())"
      ]
    },
    {
      "cell_type": "code",
      "execution_count": 8,
      "metadata": {
        "id": "ECO03uiyoyuv",
        "outputId": "03dff0e4-5822-4ed8-ff11-d6717bc7cbaa",
        "colab": {
          "base_uri": "https://localhost:8080/"
        }
      },
      "outputs": [
        {
          "output_type": "stream",
          "name": "stdout",
          "text": [
            "<class 'pandas.core.frame.DataFrame'>\n",
            "RangeIndex: 22730 entries, 0 to 22729\n",
            "Data columns (total 18 columns):\n",
            " #   Column             Non-Null Count  Dtype  \n",
            "---  ------             --------------  -----  \n",
            " 0   id                 22730 non-null  int64  \n",
            " 1   squareMeters       22730 non-null  int64  \n",
            " 2   numberOfRooms      22730 non-null  int64  \n",
            " 3   hasYard            22730 non-null  int64  \n",
            " 4   hasPool            22730 non-null  int64  \n",
            " 5   floors             22730 non-null  int64  \n",
            " 6   cityCode           22730 non-null  int64  \n",
            " 7   cityPartRange      22730 non-null  int64  \n",
            " 8   numPrevOwners      22730 non-null  int64  \n",
            " 9   made               22730 non-null  int64  \n",
            " 10  isNewBuilt         22730 non-null  int64  \n",
            " 11  hasStormProtector  22730 non-null  int64  \n",
            " 12  basement           22730 non-null  int64  \n",
            " 13  attic              22730 non-null  int64  \n",
            " 14  garage             22730 non-null  int64  \n",
            " 15  hasStorageRoom     22730 non-null  int64  \n",
            " 16  hasGuestRoom       22730 non-null  int64  \n",
            " 17  price              22730 non-null  float64\n",
            "dtypes: float64(1), int64(17)\n",
            "memory usage: 3.1 MB\n"
          ]
        }
      ],
      "source": [
        "df_dataset_import.info(verbose=True)"
      ]
    },
    {
      "cell_type": "code",
      "execution_count": 9,
      "metadata": {
        "id": "89eVakd5oyuw",
        "outputId": "de33e5e4-eb04-499e-bcc4-830686436b8b",
        "colab": {
          "base_uri": "https://localhost:8080/"
        }
      },
      "outputs": [
        {
          "output_type": "stream",
          "name": "stdout",
          "text": [
            "                 id  squareMeters  numberOfRooms       hasYard       hasPool  \\\n",
            "count  22730.000000  2.273000e+04   22730.000000  22730.000000  22730.000000   \n",
            "mean   11364.500000  4.658622e+04      48.241091      0.475891      0.452750   \n",
            "std     6561.730145  4.952124e+04      28.226428      0.499429      0.497773   \n",
            "min        0.000000  8.900000e+01       1.000000      0.000000      0.000000   \n",
            "25%     5682.250000  2.039275e+04      25.000000      0.000000      0.000000   \n",
            "50%    11364.500000  4.448400e+04      47.000000      0.000000      0.000000   \n",
            "75%    17046.750000  7.154700e+04      75.000000      1.000000      1.000000   \n",
            "max    22729.000000  6.071330e+06     100.000000      1.000000      1.000000   \n",
            "\n",
            "             floors       cityCode  cityPartRange  numPrevOwners  \\\n",
            "count  22730.000000   22730.000000   22730.000000   22730.000000   \n",
            "mean      47.305983   50013.795996       5.585042       5.620766   \n",
            "std       47.777207   30006.637729       2.739533       2.713026   \n",
            "min        1.000000       3.000000       1.000000       1.000000   \n",
            "25%       25.000000   22936.000000       3.000000       3.000000   \n",
            "50%       45.000000   50414.000000       6.000000       6.000000   \n",
            "75%       69.000000   76291.000000       8.000000       8.000000   \n",
            "max     6000.000000  491100.000000      10.000000      10.000000   \n",
            "\n",
            "               made    isNewBuilt  hasStormProtector      basement  \\\n",
            "count  22730.000000  22730.000000       22730.000000  22730.000000   \n",
            "mean    2008.005059      0.467972           0.460009   5283.646634   \n",
            "std      118.826777      0.498984           0.498409   3047.084412   \n",
            "min     1990.000000      0.000000           0.000000      4.000000   \n",
            "25%     2000.000000      0.000000           0.000000   2977.250000   \n",
            "50%     2006.000000      0.000000           0.000000   5359.000000   \n",
            "75%     2014.000000      1.000000           1.000000   7746.000000   \n",
            "max    10000.000000      1.000000           1.000000  91992.000000   \n",
            "\n",
            "              attic        garage  hasStorageRoom  hasGuestRoom         price  \n",
            "count  22730.000000  22730.000000    22730.000000  22730.000000  2.273000e+04  \n",
            "mean    5067.981698    530.469644        0.461681      5.153058  4.634457e+06  \n",
            "std     3097.347939    274.840604        0.498540      3.055246  2.925163e+06  \n",
            "min        1.000000      4.000000        0.000000      0.000000  1.031350e+04  \n",
            "25%     2599.000000    297.000000        0.000000      3.000000  2.041739e+06  \n",
            "50%     4977.000000    515.000000        0.000000      5.000000  4.450823e+06  \n",
            "75%     7652.000000    767.000000        1.000000      8.000000  7.159920e+06  \n",
            "max    96381.000000   9017.000000        1.000000     10.000000  1.000428e+07  \n"
          ]
        }
      ],
      "source": [
        "print(df_dataset_import.describe())"
      ]
    },
    {
      "cell_type": "code",
      "execution_count": 10,
      "metadata": {
        "id": "FAyDYvmioyuw",
        "outputId": "f36ef714-6262-4992-9ffe-5614472422ff",
        "colab": {
          "base_uri": "https://localhost:8080/"
        }
      },
      "outputs": [
        {
          "output_type": "stream",
          "name": "stdout",
          "text": [
            "id                   0\n",
            "squareMeters         0\n",
            "numberOfRooms        0\n",
            "hasYard              0\n",
            "hasPool              0\n",
            "floors               0\n",
            "cityCode             0\n",
            "cityPartRange        0\n",
            "numPrevOwners        0\n",
            "made                 0\n",
            "isNewBuilt           0\n",
            "hasStormProtector    0\n",
            "basement             0\n",
            "attic                0\n",
            "garage               0\n",
            "hasStorageRoom       0\n",
            "hasGuestRoom         0\n",
            "price                0\n",
            "dtype: int64\n",
            "Total number of NaN in the dataframe:  0\n"
          ]
        }
      ],
      "source": [
        "print(df_dataset_import.isnull().sum())\n",
        "print('Total number of NaN in the dataframe: ', df_dataset_import.isnull().sum().sum())"
      ]
    },
    {
      "cell_type": "markdown",
      "metadata": {
        "id": "3u4LgABdoyuw"
      },
      "source": [
        "### 1.d) Data Cleaning"
      ]
    },
    {
      "cell_type": "code",
      "source": [
        "# Fetch the original dataset and use it to supplement the training\n",
        "df_dataset_original = pd.read_csv(ORIGINAL_DATASET)\n",
        "df_dataset_original.drop(columns=['cityCode'], inplace=True)\n",
        "df_dataset_original['is_synthetic'] = 0\n",
        "\n",
        "# Take a peek at the dataframe after import\n",
        "print(df_dataset_original.head())"
      ],
      "metadata": {
        "colab": {
          "base_uri": "https://localhost:8080/"
        },
        "id": "mjuRryA81xH3",
        "outputId": "62a294b0-82d5-49b6-e998-50be807e7420"
      },
      "execution_count": 11,
      "outputs": [
        {
          "output_type": "stream",
          "name": "stdout",
          "text": [
            "   squareMeters  numberOfRooms  hasYard  hasPool  floors  cityPartRange  \\\n",
            "0         75523              3        0        1      63              3   \n",
            "1         80771             39        1        1      98              8   \n",
            "2         55712             58        0        1      19              6   \n",
            "3         32316             47        0        0       6             10   \n",
            "4         70429             19        1        1      90              3   \n",
            "\n",
            "   numPrevOwners  made  isNewBuilt  hasStormProtector  basement  attic  \\\n",
            "0              8  2005           0                  1      4313   9005   \n",
            "1              6  2015           1                  0      3653   2436   \n",
            "2              8  2021           0                  0      2937   8852   \n",
            "3              4  2012           0                  1       659   7141   \n",
            "4              7  1990           1                  0      8435   2429   \n",
            "\n",
            "   garage  hasStorageRoom  hasGuestRoom      price  is_synthetic  \n",
            "0     956               0             7  7559081.5             0  \n",
            "1     128               1             2  8085989.5             0  \n",
            "2     135               1             9  5574642.1             0  \n",
            "3     359               0             3  3232561.2             0  \n",
            "4     292               1             4  7055052.0             0  \n"
          ]
        }
      ]
    },
    {
      "cell_type": "code",
      "source": [
        "# Combine the original and synthetic datasets into one training dataset\n",
        "df_dataset_import['is_synthetic'] = 1\n",
        "df_dataset_import.drop(columns=['id','cityCode'], inplace=True)\n",
        "df_dataset_import = pd.concat([df_dataset_import, df_dataset_original],\n",
        "                              ignore_index=True)\n",
        "\n",
        "# Eliminate obvious outliers in dataset\n",
        "df_dataset_import.drop(df_dataset_import[df_dataset_import.squareMeters > 100000].index, inplace=True)\n",
        "df_dataset_import.drop(df_dataset_import[df_dataset_import.floors > 100].index, inplace=True)\n",
        "df_dataset_import.drop(df_dataset_import[df_dataset_import.made > 2021].index, inplace=True)\n",
        "df_dataset_import.drop(df_dataset_import[df_dataset_import.attic > 40000].index, inplace=True)\n",
        "df_dataset_import.drop(df_dataset_import[df_dataset_import.garage > 1000].index, inplace=True)\n",
        "\n",
        "df_dataset_import.info(verbose=True)"
      ],
      "metadata": {
        "colab": {
          "base_uri": "https://localhost:8080/"
        },
        "id": "1ZNVfkhO26iG",
        "outputId": "3a49b67e-29e8-49a4-bccf-ba1ce511c7f8"
      },
      "execution_count": 12,
      "outputs": [
        {
          "output_type": "stream",
          "name": "stdout",
          "text": [
            "<class 'pandas.core.frame.DataFrame'>\n",
            "Int64Index: 32715 entries, 0 to 32729\n",
            "Data columns (total 17 columns):\n",
            " #   Column             Non-Null Count  Dtype  \n",
            "---  ------             --------------  -----  \n",
            " 0   squareMeters       32715 non-null  int64  \n",
            " 1   numberOfRooms      32715 non-null  int64  \n",
            " 2   hasYard            32715 non-null  int64  \n",
            " 3   hasPool            32715 non-null  int64  \n",
            " 4   floors             32715 non-null  int64  \n",
            " 5   cityPartRange      32715 non-null  int64  \n",
            " 6   numPrevOwners      32715 non-null  int64  \n",
            " 7   made               32715 non-null  int64  \n",
            " 8   isNewBuilt         32715 non-null  int64  \n",
            " 9   hasStormProtector  32715 non-null  int64  \n",
            " 10  basement           32715 non-null  int64  \n",
            " 11  attic              32715 non-null  int64  \n",
            " 12  garage             32715 non-null  int64  \n",
            " 13  hasStorageRoom     32715 non-null  int64  \n",
            " 14  hasGuestRoom       32715 non-null  int64  \n",
            " 15  price              32715 non-null  float64\n",
            " 16  is_synthetic       32715 non-null  int64  \n",
            "dtypes: float64(1), int64(16)\n",
            "memory usage: 4.5 MB\n"
          ]
        }
      ]
    },
    {
      "cell_type": "code",
      "execution_count": 13,
      "metadata": {
        "id": "l05xb66poyuw",
        "outputId": "f9edf243-4e2b-4e25-9f3f-fc4e7a4c2b3e",
        "colab": {
          "base_uri": "https://localhost:8080/"
        }
      },
      "outputs": [
        {
          "output_type": "stream",
          "name": "stdout",
          "text": [
            "   squareMeters  numberOfRooms  hasYard  hasPool  floors  cityPartRange  \\\n",
            "0         34291             24        1        0      47              2   \n",
            "1         95145             60        0        1      60              1   \n",
            "2         92661             45        1        1      62              4   \n",
            "3         97184             99        0        0      59              1   \n",
            "4         61752            100        0        0      57              8   \n",
            "\n",
            "   numPrevOwners  made  isNewBuilt  hasStormProtector  basement  attic  \\\n",
            "0              1  2000           0                  1         8   5196   \n",
            "1              4  2000           0                  1       729   4496   \n",
            "2              8  2020           1                  1      7473   8953   \n",
            "3              1  2000           0                  1      6424   8522   \n",
            "4              4  2018           1                  0      7151   2786   \n",
            "\n",
            "   garage  hasStorageRoom  hasGuestRoom     target  is_synthetic  \n",
            "0     369               0             3  3436795.2             1  \n",
            "1     277               0             6  9519958.0             1  \n",
            "2     245               1             9  9276448.1             1  \n",
            "3     256               1             9  9725732.2             1  \n",
            "4     863               0             7  6181908.8             1  \n",
            "       squareMeters  numberOfRooms  hasYard  hasPool  floors  cityPartRange  \\\n",
            "32725          1726             89        0        1       5              7   \n",
            "32726         44403             29        1        1      12              9   \n",
            "32727         83841              3        0        0      69             10   \n",
            "32728         59036             70        0        0      96              1   \n",
            "32729          1440             84        0        0      49              6   \n",
            "\n",
            "       numPrevOwners  made  isNewBuilt  hasStormProtector  basement  attic  \\\n",
            "32725              6  2009           0                  1      9311   1698   \n",
            "32726              4  1990           0                  1      9061   1742   \n",
            "32727             10  2005           1                  1      8304   7730   \n",
            "32728              3  2010           0                  1      2590   6174   \n",
            "32729             10  1994           1                  0      8485   2024   \n",
            "\n",
            "       garage  hasStorageRoom  hasGuestRoom     target  is_synthetic  \n",
            "32725     218               0             4   176425.9             0  \n",
            "32726     230               0             0  4448474.0             0  \n",
            "32727     345               1             9  8390030.5             0  \n",
            "32728     339               1             4  5905107.0             0  \n",
            "32729     278               1             6   146708.4             0  \n"
          ]
        }
      ],
      "source": [
        "# Standardize the class column to the name of targetVar if required\n",
        "df_dataset_import = df_dataset_import.rename(columns={ORIGINAL_LABEL: CLASS_COLUMN})\n",
        "\n",
        "# Take a peek at the dataframe after cleaning\n",
        "print(df_dataset_import.head())\n",
        "print(df_dataset_import.tail())"
      ]
    },
    {
      "cell_type": "code",
      "execution_count": 14,
      "metadata": {
        "id": "y9LU5ERloyuw",
        "outputId": "fda488ba-2d0f-40b2-8908-a66037a7f774",
        "colab": {
          "base_uri": "https://localhost:8080/"
        }
      },
      "outputs": [
        {
          "output_type": "stream",
          "name": "stdout",
          "text": [
            "<class 'pandas.core.frame.DataFrame'>\n",
            "Int64Index: 32715 entries, 0 to 32729\n",
            "Data columns (total 17 columns):\n",
            " #   Column             Non-Null Count  Dtype  \n",
            "---  ------             --------------  -----  \n",
            " 0   squareMeters       32715 non-null  int64  \n",
            " 1   numberOfRooms      32715 non-null  int64  \n",
            " 2   hasYard            32715 non-null  int64  \n",
            " 3   hasPool            32715 non-null  int64  \n",
            " 4   floors             32715 non-null  int64  \n",
            " 5   cityPartRange      32715 non-null  int64  \n",
            " 6   numPrevOwners      32715 non-null  int64  \n",
            " 7   made               32715 non-null  int64  \n",
            " 8   isNewBuilt         32715 non-null  int64  \n",
            " 9   hasStormProtector  32715 non-null  int64  \n",
            " 10  basement           32715 non-null  int64  \n",
            " 11  attic              32715 non-null  int64  \n",
            " 12  garage             32715 non-null  int64  \n",
            " 13  hasStorageRoom     32715 non-null  int64  \n",
            " 14  hasGuestRoom       32715 non-null  int64  \n",
            " 15  target             32715 non-null  float64\n",
            " 16  is_synthetic       32715 non-null  int64  \n",
            "dtypes: float64(1), int64(16)\n",
            "memory usage: 4.5 MB\n"
          ]
        }
      ],
      "source": [
        "df_dataset_import.info(verbose=True)"
      ]
    },
    {
      "cell_type": "code",
      "execution_count": 15,
      "metadata": {
        "id": "Tl0V0nZqoyux",
        "outputId": "3862c047-acd0-4970-c603-b5d4c530b11d",
        "colab": {
          "base_uri": "https://localhost:8080/"
        }
      },
      "outputs": [
        {
          "output_type": "stream",
          "name": "stdout",
          "text": [
            "       squareMeters  numberOfRooms       hasYard       hasPool        floors  \\\n",
            "count  32715.000000   32715.000000  32715.000000  32715.000000  32715.000000   \n",
            "mean   47397.018646      48.882072      0.486077      0.466269     48.027327   \n",
            "std    29144.389989      28.426204      0.499814      0.498869     27.562605   \n",
            "min       89.000000       1.000000      0.000000      0.000000      1.000000   \n",
            "25%    21581.000000      25.000000      0.000000      0.000000     25.000000   \n",
            "50%    46131.000000      48.000000      0.000000      0.000000     46.000000   \n",
            "75%    72537.500000      75.000000      1.000000      1.000000     72.000000   \n",
            "max    99999.000000     100.000000      1.000000      1.000000    100.000000   \n",
            "\n",
            "       cityPartRange  numPrevOwners          made    isNewBuilt  \\\n",
            "count   32715.000000   32715.000000  32715.000000  32715.000000   \n",
            "mean        5.561791       5.590402   2006.013694      0.477457   \n",
            "std         2.780907       2.758445      8.508424      0.499499   \n",
            "min         1.000000       1.000000   1990.000000      0.000000   \n",
            "25%         3.000000       3.000000   2000.000000      0.000000   \n",
            "50%         6.000000       6.000000   2006.000000      0.000000   \n",
            "75%         8.000000       8.000000   2014.000000      1.000000   \n",
            "max        10.000000      10.000000   2021.000000      1.000000   \n",
            "\n",
            "       hasStormProtector      basement         attic        garage  \\\n",
            "count       32715.000000  32715.000000  32715.000000  32715.000000   \n",
            "mean            0.472169   5207.229467   5044.729237    537.066850   \n",
            "std             0.499232   2998.262538   2903.825391    266.979102   \n",
            "min             0.000000      0.000000      1.000000      4.000000   \n",
            "25%             0.000000   2792.000000   2560.000000    307.000000   \n",
            "50%             0.000000   5306.000000   4986.000000    530.000000   \n",
            "75%             1.000000   7722.000000   7622.000000    770.000000   \n",
            "max             1.000000  91992.000000  30000.000000   1000.000000   \n",
            "\n",
            "       hasStorageRoom  hasGuestRoom        target  is_synthetic  \n",
            "count    32715.000000  32715.000000  3.271500e+04  32715.000000  \n",
            "mean         0.474400      5.105120  4.743652e+06      0.694330  \n",
            "std          0.499352      3.093752  2.915399e+06      0.460698  \n",
            "min          0.000000      0.000000  1.031350e+04      0.000000  \n",
            "25%          0.000000      2.000000  2.159844e+06      0.000000  \n",
            "50%          0.000000      5.000000  4.619758e+06      1.000000  \n",
            "75%          1.000000      8.000000  7.259025e+06      1.000000  \n",
            "max          1.000000     10.000000  1.000677e+07      1.000000  \n"
          ]
        }
      ],
      "source": [
        "print(df_dataset_import.describe())"
      ]
    },
    {
      "cell_type": "code",
      "execution_count": 16,
      "metadata": {
        "id": "sGppSKE2oyux",
        "outputId": "e91d8086-3a68-4140-84a4-140bec60adcd",
        "colab": {
          "base_uri": "https://localhost:8080/"
        }
      },
      "outputs": [
        {
          "output_type": "stream",
          "name": "stdout",
          "text": [
            "squareMeters         0\n",
            "numberOfRooms        0\n",
            "hasYard              0\n",
            "hasPool              0\n",
            "floors               0\n",
            "cityPartRange        0\n",
            "numPrevOwners        0\n",
            "made                 0\n",
            "isNewBuilt           0\n",
            "hasStormProtector    0\n",
            "basement             0\n",
            "attic                0\n",
            "garage               0\n",
            "hasStorageRoom       0\n",
            "hasGuestRoom         0\n",
            "target               0\n",
            "is_synthetic         0\n",
            "dtype: int64\n",
            "Total number of NaN in the dataframe:  0\n"
          ]
        }
      ],
      "source": [
        "print(df_dataset_import.isnull().sum())\n",
        "print('Total number of NaN in the dataframe: ', df_dataset_import.isnull().sum().sum())"
      ]
    },
    {
      "cell_type": "markdown",
      "metadata": {
        "id": "YAEtbTgGoyux"
      },
      "source": [
        "### 1.e) Splitting Data into Sets"
      ]
    },
    {
      "cell_type": "code",
      "execution_count": 17,
      "metadata": {
        "id": "4Xj62_48oyux",
        "outputId": "626bca52-fc6f-4db3-97d8-5c39e3f4116a",
        "colab": {
          "base_uri": "https://localhost:8080/"
        }
      },
      "outputs": [
        {
          "output_type": "stream",
          "name": "stdout",
          "text": [
            "df_dataset_import.shape: (32715, 17) df_features_train.shape: (32715, 16) df_target_train.shape: (32715,)\n"
          ]
        }
      ],
      "source": [
        "# Use variable total_column_count to hold the number of columns in the dataframe\n",
        "total_column_count = len(df_dataset_import.columns)\n",
        "\n",
        "# Set up variable total_feature_count for the total number of attribute columns\n",
        "total_feature_count = total_column_count-1\n",
        "\n",
        "# We create attribute-only and target-only datasets (df_features_train and df_target_train)\n",
        "df_target_train = df_dataset_import['target']\n",
        "df_features_train = df_dataset_import.drop(['target'], axis=1)\n",
        "\n",
        "print(\"df_dataset_import.shape: {} df_features_train.shape: {} df_target_train.shape: {}\".format(df_dataset_import.shape, df_features_train.shape, df_target_train.shape))"
      ]
    },
    {
      "cell_type": "markdown",
      "metadata": {
        "id": "s8rlPv9Noyux"
      },
      "source": [
        "### 1.f) Set up the parameters for data visualization"
      ]
    },
    {
      "cell_type": "code",
      "execution_count": 18,
      "metadata": {
        "id": "a0uVeMpsoyuy"
      },
      "outputs": [],
      "source": [
        "# Set up the number of row and columns for visualization display. display_rows * display_columns should be >= total_feature_count\n",
        "display_columns = 4\n",
        "if total_feature_count % display_columns == 0 :\n",
        "    display_rows = total_feature_count // display_columns\n",
        "else :\n",
        "    display_rows = (total_feature_count // display_columns) + 1\n",
        "\n",
        "# Set figure width to display the data visualization plots\n",
        "fig_size = plt.rcParams[\"figure.figsize\"]\n",
        "fig_size[0] = display_columns * 4\n",
        "fig_size[1] = display_rows * 4\n",
        "plt.rcParams[\"figure.figsize\"] = fig_size"
      ]
    },
    {
      "cell_type": "code",
      "execution_count": 19,
      "metadata": {
        "id": "W_FIlvWloyuy"
      },
      "outputs": [],
      "source": [
        "if NOTIFY_STATUS: status_notify(\"Task 1 - Prepare Environment completed! \" + datetime.now().strftime('%a %B %d, %Y %I:%M:%S %p'))"
      ]
    },
    {
      "cell_type": "markdown",
      "metadata": {
        "id": "orVRV0XHoyuy"
      },
      "source": [
        "## Task 2 - Summarize and Visualize Data"
      ]
    },
    {
      "cell_type": "code",
      "execution_count": 20,
      "metadata": {
        "id": "c6KamCMqoyuy"
      },
      "outputs": [],
      "source": [
        "if NOTIFY_STATUS: status_notify(\"Task 2 - Summarize and Visualize Data has begun! \" + datetime.now().strftime('%a %B %d, %Y %I:%M:%S %p'))"
      ]
    },
    {
      "cell_type": "code",
      "execution_count": 21,
      "metadata": {
        "id": "6c-ar-3toyuy",
        "outputId": "b797f24c-6c4f-431d-8230-f462cb0aea6b",
        "colab": {
          "base_uri": "https://localhost:8080/",
          "height": 919
        }
      },
      "outputs": [
        {
          "output_type": "display_data",
          "data": {
            "text/plain": [
              "<Figure size 1152x1152 with 16 Axes>"
            ],
            "image/png": "[encoded data removed]"
          },
          "metadata": {
            "needs_background": "light"
          }
        }
      ],
      "source": [
        "# Box and Whisker plot for each attribute\n",
        "df_features_train.plot(kind='box', subplots=True, layout=(display_rows, display_columns))\n",
        "plt.show()"
      ]
    },
    {
      "cell_type": "code",
      "execution_count": 22,
      "metadata": {
        "id": "M9mWrtAVoyuy",
        "colab": {
          "base_uri": "https://localhost:8080/",
          "height": 1000
        },
        "outputId": "f18429ca-5ed5-46c6-961c-b6f67f59aa87"
      },
      "outputs": [
        {
          "output_type": "display_data",
          "data": {
            "text/plain": [
              "<Figure size 1440x1440 with 2 Axes>"
            ],
            "image/png": "[encoded data removed]"
          },
          "metadata": {
            "needs_background": "light"
          }
        }
      ],
      "source": [
        "# Correlation matrix\n",
        "fig = plt.figure(figsize=(20, 20))\n",
        "correlations = df_features_train.corr(method='pearson')\n",
        "sns.heatmap(correlations, annot=True, cmap=plt.cm.PuBu)\n",
        "plt.show()"
      ]
    },
    {
      "cell_type": "code",
      "execution_count": 23,
      "metadata": {
        "id": "pG0MBv7noyuy"
      },
      "outputs": [],
      "source": [
        "if NOTIFY_STATUS: status_notify(\"Task 2 - Summarize and Visualize Data completed! \" + datetime.now().strftime('%a %B %d, %Y %I:%M:%S %p'))"
      ]
    },
    {
      "cell_type": "markdown",
      "metadata": {
        "id": "0P3OoeOaoyuz"
      },
      "source": [
        "## Task 3 - Pre-process Data"
      ]
    },
    {
      "cell_type": "code",
      "execution_count": 24,
      "metadata": {
        "id": "vMi0mInkoyuz"
      },
      "outputs": [],
      "source": [
        "if NOTIFY_STATUS: status_notify(\"Task 3 - Pre-process Data has begun! \" + datetime.now().strftime('%a %B %d, %Y %I:%M:%S %p'))"
      ]
    },
    {
      "cell_type": "markdown",
      "metadata": {
        "id": "qvlG0_Gloyuz"
      },
      "source": [
        "### 3.a) Feature Scaling and Data Pre-Processing"
      ]
    },
    {
      "cell_type": "code",
      "execution_count": 25,
      "metadata": {
        "id": "4bFod1tLoyuz",
        "outputId": "97e51a7d-fb0b-4d20-ad7f-38e46b4303fd",
        "colab": {
          "base_uri": "https://localhost:8080/"
        }
      },
      "outputs": [
        {
          "output_type": "stream",
          "name": "stdout",
          "text": [
            "Number of numerical columns: 16\n",
            "Number of categorical columns: 0\n",
            "Total number of columns in the feature dataframe: 16\n"
          ]
        }
      ],
      "source": [
        "# Compose pipeline for the numerical and categorical features (Block #1 of 2)\n",
        "numeric_columns = df_features_train.select_dtypes(include=['int','float']).columns\n",
        "numeric_transformer = Pipeline(steps=[\n",
        "    ('imputer', impute.SimpleImputer(strategy=\"constant\", fill_value=0)),\n",
        "    ('scaler', preprocessing.StandardScaler())\n",
        "])\n",
        "categorical_columns = df_features_train.select_dtypes(include=['object','category']).columns\n",
        "categorical_transformer = Pipeline(steps=[\n",
        "    ('imputer', impute.SimpleImputer(strategy='constant', fill_value='UKNOWN')),\n",
        "    ('onehot', preprocessing.OneHotEncoder(sparse=False, handle_unknown='ignore'))\n",
        "])\n",
        "\n",
        "print(\"Number of numerical columns:\", len(numeric_columns))\n",
        "print(\"Number of categorical columns:\", len(categorical_columns))\n",
        "print(\"Total number of columns in the feature dataframe:\", df_features_train.shape[1])"
      ]
    },
    {
      "cell_type": "code",
      "execution_count": 26,
      "metadata": {
        "id": "qnVwjvF5oyuz"
      },
      "outputs": [],
      "source": [
        "# Compose pipeline for the numerical and categorical features (Block #2 of 2)\n",
        "preprocessor = compose.ColumnTransformer(transformers=[\n",
        "    ('num', numeric_transformer, numeric_columns),\n",
        "    ('cat', categorical_transformer, categorical_columns)\n",
        "], remainder='passthrough')"
      ]
    },
    {
      "cell_type": "markdown",
      "metadata": {
        "id": "UhEzGnKtoyuz"
      },
      "source": [
        "### 3.b) Training Data Balancing"
      ]
    },
    {
      "cell_type": "code",
      "execution_count": 27,
      "metadata": {
        "id": "-1ULtH01oyuz"
      },
      "outputs": [],
      "source": [
        "# Not applicable for this iteration of modeling"
      ]
    },
    {
      "cell_type": "markdown",
      "metadata": {
        "id": "GTWvOhWWoyuz"
      },
      "source": [
        "### 3.c) Feature Selection"
      ]
    },
    {
      "cell_type": "code",
      "execution_count": 28,
      "metadata": {
        "id": "7VV1fyK1oyuz"
      },
      "outputs": [],
      "source": [
        "# Not applicable for this iteration of modeling"
      ]
    },
    {
      "cell_type": "markdown",
      "metadata": {
        "id": "Ehygxv37oyuz"
      },
      "source": [
        "### 3.d) Display the Final Datasets for Model-Building"
      ]
    },
    {
      "cell_type": "code",
      "execution_count": 29,
      "metadata": {
        "id": "Rvbdx9uEoyuz",
        "outputId": "4833e9b8-06a8-4107-fa45-56ffe25ad9b7",
        "colab": {
          "base_uri": "https://localhost:8080/"
        }
      },
      "outputs": [
        {
          "output_type": "stream",
          "name": "stdout",
          "text": [
            "array_features_train.shape: (32715, 16) array_target_train.shape: (32715,)\n"
          ]
        }
      ],
      "source": [
        "# Finalize the training dataset for the modeling activities\n",
        "array_features_train = preprocessor.fit_transform(df_features_train)\n",
        "array_target_train = df_target_train.to_numpy()\n",
        "print(\"array_features_train.shape: {} array_target_train.shape: {}\".format(array_features_train.shape, array_target_train.shape))"
      ]
    },
    {
      "cell_type": "code",
      "execution_count": 30,
      "metadata": {
        "id": "knrO4zXmoyuz"
      },
      "outputs": [],
      "source": [
        "if NOTIFY_STATUS: status_notify(\"Task 3 - Pre-process Data completed! \" + datetime.now().strftime('%a %B %d, %Y %I:%M:%S %p'))"
      ]
    },
    {
      "cell_type": "markdown",
      "metadata": {
        "id": "AW4niFNBoyu0"
      },
      "source": [
        "## Task 4 - Train and Tune Models"
      ]
    },
    {
      "cell_type": "code",
      "execution_count": 31,
      "metadata": {
        "id": "iED_YVgNoyu0"
      },
      "outputs": [],
      "source": [
        "if NOTIFY_STATUS: status_notify(\"Task 4 - Train and Tune Models has begun! \" + datetime.now().strftime('%a %B %d, %Y %I:%M:%S %p'))"
      ]
    },
    {
      "cell_type": "markdown",
      "metadata": {
        "id": "yXlGt_ODoyu0"
      },
      "source": [
        "### 4.a) Set test options and evaluation metric"
      ]
    },
    {
      "cell_type": "code",
      "execution_count": 32,
      "metadata": {
        "id": "LG4WOhcSoyu0"
      },
      "outputs": [],
      "source": [
        "# Set up Algorithms Spot-Checking Array\n",
        "start_time_training = datetime.now()\n",
        "train_models = []\n",
        "train_results = []\n",
        "train_model_names = []\n",
        "train_metrics = []"
      ]
    },
    {
      "cell_type": "code",
      "execution_count": 33,
      "metadata": {
        "id": "KEMfNPUKoyu0"
      },
      "outputs": [],
      "source": [
        "train_models.append(('LNR', LinearRegression(n_jobs=N_JOBS)))\n",
        "train_models.append(('ELN', ElasticNet(random_state=RNG_SEED)))\n",
        "train_models.append(('CART', DecisionTreeRegressor(random_state=RNG_SEED)))\n",
        "train_models.append(('KNN', KNeighborsRegressor(n_jobs=N_JOBS)))\n",
        "train_models.append(('RNF', RandomForestRegressor(random_state=RNG_SEED, n_jobs=N_JOBS)))\n",
        "train_models.append(('EXT', ExtraTreesRegressor(random_state=RNG_SEED, n_jobs=N_JOBS)))"
      ]
    },
    {
      "cell_type": "code",
      "execution_count": 34,
      "metadata": {
        "id": "myc1LaJPoyu0",
        "outputId": "b5b8a2c0-0706-4fff-de44-4c654801b09d",
        "colab": {
          "base_uri": "https://localhost:8080/"
        }
      },
      "outputs": [
        {
          "output_type": "stream",
          "name": "stderr",
          "text": [
            "[Parallel(n_jobs=2)]: Using backend LokyBackend with 2 concurrent workers.\n",
            "[Parallel(n_jobs=2)]: Done  10 out of  10 | elapsed:    2.9s finished\n",
            "[Parallel(n_jobs=2)]: Using backend LokyBackend with 2 concurrent workers.\n"
          ]
        },
        {
          "output_type": "stream",
          "name": "stdout",
          "text": [
            "LNR: -142751.837171 (58739.968619)\n",
            "LinearRegression(n_jobs=2)\n",
            "Model training time: 0:00:03.007126 \n",
            "\n"
          ]
        },
        {
          "output_type": "stream",
          "name": "stderr",
          "text": [
            "[Parallel(n_jobs=2)]: Done   7 out of  10 | elapsed:    0.2s remaining:    0.1s\n",
            "[Parallel(n_jobs=2)]: Done  10 out of  10 | elapsed:    0.3s finished\n",
            "[Parallel(n_jobs=2)]: Using backend LokyBackend with 2 concurrent workers.\n"
          ]
        },
        {
          "output_type": "stream",
          "name": "stdout",
          "text": [
            "ELN: -982604.528892 (7721.034718)\n",
            "ElasticNet(random_state=888)\n",
            "Model training time: 0:00:00.368252 \n",
            "\n"
          ]
        },
        {
          "output_type": "stream",
          "name": "stderr",
          "text": [
            "[Parallel(n_jobs=2)]: Done  10 out of  10 | elapsed:    8.0s finished\n",
            "[Parallel(n_jobs=2)]: Using backend LokyBackend with 2 concurrent workers.\n"
          ]
        },
        {
          "output_type": "stream",
          "name": "stdout",
          "text": [
            "CART: -159808.668449 (61680.432451)\n",
            "DecisionTreeRegressor(random_state=888)\n",
            "Model training time: 0:00:08.061050 \n",
            "\n"
          ]
        },
        {
          "output_type": "stream",
          "name": "stderr",
          "text": [
            "[Parallel(n_jobs=2)]: Done  10 out of  10 | elapsed:    9.0s finished\n",
            "[Parallel(n_jobs=2)]: Using backend LokyBackend with 2 concurrent workers.\n"
          ]
        },
        {
          "output_type": "stream",
          "name": "stdout",
          "text": [
            "KNN: -1165416.802594 (18623.019594)\n",
            "KNeighborsRegressor(n_jobs=2)\n",
            "Model training time: 0:00:09.142044 \n",
            "\n"
          ]
        },
        {
          "output_type": "stream",
          "name": "stderr",
          "text": [
            "[Parallel(n_jobs=2)]: Done  10 out of  10 | elapsed:  3.1min finished\n",
            "[Parallel(n_jobs=2)]: Using backend LokyBackend with 2 concurrent workers.\n"
          ]
        },
        {
          "output_type": "stream",
          "name": "stdout",
          "text": [
            "RNF: -132505.372977 (50589.966963)\n",
            "RandomForestRegressor(n_jobs=2, random_state=888)\n",
            "Model training time: 0:03:03.679951 \n",
            "\n",
            "EXT: -144652.655637 (42983.345789)\n",
            "ExtraTreesRegressor(n_jobs=2, random_state=888)\n",
            "Model training time: 0:01:53.620125 \n",
            "\n",
            "Average metrics (neg_root_mean_squared_error) from all models: -454623.31095336215\n",
            "Total training time for all models: 0:05:17.945608\n"
          ]
        },
        {
          "output_type": "stream",
          "name": "stderr",
          "text": [
            "[Parallel(n_jobs=2)]: Done  10 out of  10 | elapsed:  1.9min finished\n"
          ]
        }
      ],
      "source": [
        "# Generate model in turn\n",
        "for name, model in train_models:\n",
        "\tif NOTIFY_STATUS: status_notify(\"Algorithm\", name, \"modeling has begun! \" + datetime.now().strftime('%a %B %d, %Y %I:%M:%S %p'))\n",
        "\tstart_time_module = datetime.now()\n",
        "\tkfold = KFold(n_splits=N_FOLDS, shuffle=True, random_state=RNG_SEED)\n",
        "\tcv_results = cross_val_score(model, array_features_train, array_target_train, cv=kfold, scoring=SCORING_METRIC, n_jobs=N_JOBS, verbose=1)\n",
        "\ttrain_results.append(cv_results)\n",
        "\ttrain_model_names.append(name)\n",
        "\ttrain_metrics.append(cv_results.mean())\n",
        "\tprint(\"%s: %f (%f)\" % (name, cv_results.mean(), cv_results.std()))\n",
        "\tprint(model)\n",
        "\tprint ('Model training time:', (datetime.now() - start_time_module), '\\n')\n",
        "\tif NOTIFY_STATUS: status_notify(\"Algorithm\", name, \"modeling completed! \" + datetime.now().strftime('%a %B %d, %Y %I:%M:%S %p'))\n",
        "print ('Average metrics (' + SCORING_METRIC + ') from all models:', np.mean(train_metrics))\n",
        "print ('Total training time for all models:', (datetime.now() - start_time_training))"
      ]
    },
    {
      "cell_type": "markdown",
      "metadata": {
        "id": "5f81C5REoyu0"
      },
      "source": [
        "### 4.b) Spot-checking baseline algorithms"
      ]
    },
    {
      "cell_type": "code",
      "execution_count": 35,
      "metadata": {
        "id": "xbuEpBv-oyu0",
        "outputId": "424b439f-822f-490f-fab1-32283b1590f4",
        "colab": {
          "base_uri": "https://localhost:8080/",
          "height": 787
        }
      },
      "outputs": [
        {
          "output_type": "display_data",
          "data": {
            "text/plain": [
              "<Figure size 1152x864 with 1 Axes>"
            ],
            "image/png": "[encoded data removed]"
          },
          "metadata": {
            "needs_background": "light"
          }
        }
      ],
      "source": [
        "fig = plt.figure(figsize=(16,12))\n",
        "fig.suptitle('Algorithm Comparison - Spot Checking')\n",
        "ax = fig.add_subplot(111)\n",
        "plt.boxplot(train_results)\n",
        "ax.set_xticklabels(train_model_names)\n",
        "plt.show()"
      ]
    },
    {
      "cell_type": "code",
      "execution_count": 36,
      "metadata": {
        "id": "0I685ixNoyu0"
      },
      "outputs": [],
      "source": [
        "if NOTIFY_STATUS: status_notify(\"Task 4 - Train and Tune Models completed! \" + datetime.now().strftime('%a %B %d, %Y %I:%M:%S %p'))"
      ]
    },
    {
      "cell_type": "markdown",
      "metadata": {
        "id": "h5CGob13oyu1"
      },
      "source": [
        "### 4.c) Algorithm Tuning"
      ]
    },
    {
      "cell_type": "code",
      "execution_count": 37,
      "metadata": {
        "id": "Zew5gUkRoyu1"
      },
      "outputs": [],
      "source": [
        "# Set up the comparison array\n",
        "tune_results = []\n",
        "tune_model_names = []"
      ]
    },
    {
      "cell_type": "code",
      "source": [
        "# Tuning algorithm #1\n",
        "start_time_module = datetime.now()\n",
        "if NOTIFY_STATUS: status_notify(\"Algorithm #1 tuning has begun! \" + datetime.now().strftime('%a %B %d, %Y %I:%M:%S %p'))\n",
        "\n",
        "tune_model1 = DecisionTreeRegressor(random_state=RNG_SEED)\n",
        "tune_model_names.append('CART')\n",
        "paramGrid1 = dict(criterion=np.array(['squared_error','friedman_mse','absolute_error','poisson']))\n",
        "\n",
        "kfold = KFold(n_splits=N_FOLDS, shuffle=True, random_state=RNG_SEED)\n",
        "grid1 = GridSearchCV(estimator=tune_model1, param_grid=paramGrid1, scoring=SCORING_METRIC, cv=kfold, n_jobs=N_JOBS, verbose=1)\n",
        "grid_result1 = grid1.fit(array_features_train, array_target_train)\n",
        "\n",
        "print(\"Best: %f using %s\" % (grid_result1.best_score_, grid_result1.best_params_))\n",
        "tune_results.append(grid_result1.cv_results_['mean_test_score'])\n",
        "means = grid_result1.cv_results_['mean_test_score']\n",
        "stds = grid_result1.cv_results_['std_test_score']\n",
        "params = grid_result1.cv_results_['params']\n",
        "for mean, stdev, param in zip(means, stds, params):\n",
        "    print(\"%f (%f) with: %r\" % (mean, stdev, param))\n",
        "print ('Model training time:', (datetime.now() - start_time_module))\n",
        "if NOTIFY_STATUS: status_notify(\"Algorithm #1 tuning completed! \" + datetime.now().strftime('%a %B %d, %Y %I:%M:%S %p'))"
      ],
      "metadata": {
        "colab": {
          "base_uri": "https://localhost:8080/"
        },
        "id": "uRiO8SMAv9Lg",
        "outputId": "9b4be3bb-7ea9-4934-db2a-fe0e953b4d4c"
      },
      "execution_count": 38,
      "outputs": [
        {
          "output_type": "stream",
          "name": "stdout",
          "text": [
            "Fitting 10 folds for each of 4 candidates, totalling 40 fits\n",
            "Best: -141212.296539 using {'criterion': 'poisson'}\n",
            "-159808.668449 (61680.432451) with: {'criterion': 'squared_error'}\n",
            "-150637.264519 (77998.751364) with: {'criterion': 'friedman_mse'}\n",
            "-181495.484287 (43499.838033) with: {'criterion': 'absolute_error'}\n",
            "-141212.296539 (72917.020399) with: {'criterion': 'poisson'}\n",
            "Model training time: 0:04:44.405859\n"
          ]
        }
      ]
    },
    {
      "cell_type": "code",
      "source": [
        "best_paramKey1 = list(grid_result1.best_params_.keys())[0]\n",
        "best_paramValue1 = list(grid_result1.best_params_.values())[0]\n",
        "print(\"Captured the best parameter for algorithm #1:\", best_paramKey1, '=', best_paramValue1)"
      ],
      "metadata": {
        "colab": {
          "base_uri": "https://localhost:8080/"
        },
        "id": "xttlS0Jjv9F7",
        "outputId": "61419784-c231-4812-a6d9-f0a694a81a9d"
      },
      "execution_count": 39,
      "outputs": [
        {
          "output_type": "stream",
          "name": "stdout",
          "text": [
            "Captured the best parameter for algorithm #1: criterion = poisson\n"
          ]
        }
      ]
    },
    {
      "cell_type": "code",
      "source": [
        "# Tuning algorithm #2\n",
        "start_time_module = datetime.now()\n",
        "if NOTIFY_STATUS: status_notify(\"Algorithm #2 tuning has begun! \" + datetime.now().strftime('%a %B %d, %Y %I:%M:%S %p'))\n",
        "\n",
        "tune_model2 = RandomForestRegressor(random_state=RNG_SEED, n_jobs=N_JOBS)\n",
        "tune_model_names.append('RNF')\n",
        "paramGrid2 = dict(n_estimators=np.array([100, 300, 500]))\n",
        "\n",
        "kfold = KFold(n_splits=N_FOLDS, shuffle=True, random_state=RNG_SEED)\n",
        "grid2 = GridSearchCV(estimator=tune_model2, param_grid=paramGrid2, scoring=SCORING_METRIC, cv=kfold, n_jobs=N_JOBS, verbose=1)\n",
        "grid_result2 = grid2.fit(array_features_train, array_target_train)\n",
        "\n",
        "print(\"Best: %f using %s\" % (grid_result2.best_score_, grid_result2.best_params_))\n",
        "tune_results.append(grid_result2.cv_results_['mean_test_score'])\n",
        "means = grid_result2.cv_results_['mean_test_score']\n",
        "stds = grid_result2.cv_results_['std_test_score']\n",
        "params = grid_result2.cv_results_['params']\n",
        "for mean, stdev, param in zip(means, stds, params):\n",
        "    print(\"%f (%f) with: %r\" % (mean, stdev, param))\n",
        "print ('Model training time:', (datetime.now() - start_time_module))\n",
        "if NOTIFY_STATUS: status_notify(\"Algorithm #2 tuning completed! \" + datetime.now().strftime('%a %B %d, %Y %I:%M:%S %p'))"
      ],
      "metadata": {
        "colab": {
          "base_uri": "https://localhost:8080/"
        },
        "id": "h-KQ6coHv9B4",
        "outputId": "e4bff7dd-e8b2-4f83-8e10-9a338266ae6c"
      },
      "execution_count": 40,
      "outputs": [
        {
          "output_type": "stream",
          "name": "stdout",
          "text": [
            "Fitting 10 folds for each of 3 candidates, totalling 30 fits\n"
          ]
        },
        {
          "output_type": "stream",
          "name": "stderr",
          "text": [
            "/usr/local/lib/python3.9/dist-packages/joblib/externals/loky/process_executor.py:700: UserWarning: A worker stopped while some jobs were given to the executor. This can be caused by a too short worker timeout or by a memory leak.\n",
            "  warnings.warn(\n"
          ]
        },
        {
          "output_type": "stream",
          "name": "stdout",
          "text": [
            "Best: -132505.372977 using {'n_estimators': 100}\n",
            "-132505.372977 (50589.966963) with: {'n_estimators': 100}\n",
            "-133551.444412 (49688.476827) with: {'n_estimators': 300}\n",
            "-133540.878785 (49129.628439) with: {'n_estimators': 500}\n",
            "Model training time: 0:27:15.679028\n"
          ]
        }
      ]
    },
    {
      "cell_type": "code",
      "source": [
        "best_paramKey2 = list(grid_result2.best_params_.keys())[0]\n",
        "best_paramValue2 = list(grid_result2.best_params_.values())[0]\n",
        "print(\"Captured the best parameter for algorithm #2:\", best_paramKey2, '=', best_paramValue2)"
      ],
      "metadata": {
        "id": "AbCquagMv85Y",
        "colab": {
          "base_uri": "https://localhost:8080/"
        },
        "outputId": "90ebef61-b538-4b1f-c227-2dbfd764e0c2"
      },
      "execution_count": 41,
      "outputs": [
        {
          "output_type": "stream",
          "name": "stdout",
          "text": [
            "Captured the best parameter for algorithm #2: n_estimators = 100\n"
          ]
        }
      ]
    },
    {
      "cell_type": "markdown",
      "metadata": {
        "id": "ovTv9np2oyu1"
      },
      "source": [
        "### 4.d) Compare Algorithms After Tuning"
      ]
    },
    {
      "cell_type": "code",
      "execution_count": 42,
      "metadata": {
        "id": "u7fV2PBpoyu1",
        "colab": {
          "base_uri": "https://localhost:8080/",
          "height": 787
        },
        "outputId": "e5a45e5c-2dfc-437b-9850-47d8810e3e8f"
      },
      "outputs": [
        {
          "output_type": "display_data",
          "data": {
            "text/plain": [
              "<Figure size 1152x864 with 1 Axes>"
            ],
            "image/png": "[encoded data removed]"
          },
          "metadata": {
            "needs_background": "light"
          }
        }
      ],
      "source": [
        "fig = plt.figure(figsize=(16,12))\n",
        "fig.suptitle('Algorithm Comparison - Post Tuning')\n",
        "ax = fig.add_subplot(111)\n",
        "plt.boxplot(tune_results)\n",
        "ax.set_xticklabels(tune_model_names)\n",
        "plt.show()"
      ]
    },
    {
      "cell_type": "code",
      "execution_count": 43,
      "metadata": {
        "id": "3f1ZGfhooyu1"
      },
      "outputs": [],
      "source": [
        "if NOTIFY_STATUS: status_notify(\"Task 4 - Train and Tune Models completed! \" + datetime.now().strftime('%a %B %d, %Y %I:%M:%S %p'))"
      ]
    },
    {
      "cell_type": "markdown",
      "metadata": {
        "id": "955lq8SUoyu2"
      },
      "source": [
        "## Task 5 - Finalize Model and Make Predictions"
      ]
    },
    {
      "cell_type": "code",
      "execution_count": 44,
      "metadata": {
        "id": "lG_cjoUhoyu2"
      },
      "outputs": [],
      "source": [
        "if NOTIFY_STATUS: status_notify(\"Task 5 - Finalize Model and Make Predictions has begun! \" + datetime.now().strftime('%a %B %d, %Y %I:%M:%S %p'))"
      ]
    },
    {
      "cell_type": "markdown",
      "source": [
        "### 5.a) Train the Final Model"
      ],
      "metadata": {
        "id": "mn9w2BxvLb0y"
      }
    },
    {
      "cell_type": "code",
      "execution_count": 45,
      "metadata": {
        "id": "-IM5eGOLoyu2",
        "colab": {
          "base_uri": "https://localhost:8080/"
        },
        "outputId": "335b815c-7433-4ec8-b6ce-e1cac250a0fc"
      },
      "outputs": [
        {
          "output_type": "stream",
          "name": "stdout",
          "text": [
            "RandomForestRegressor(n_jobs=2, random_state=888)\n",
            "Model training time: 0:00:20.316951\n"
          ]
        }
      ],
      "source": [
        "start_time_module = datetime.now()\n",
        "FINAL_PARAMETER = best_paramValue2\n",
        "final_model = RandomForestRegressor(n_estimators=FINAL_PARAMETER, random_state=RNG_SEED, n_jobs=N_JOBS)\n",
        "final_model.fit(array_features_train, array_target_train)\n",
        "print(final_model)\n",
        "print ('Model training time:', (datetime.now() - start_time_module))"
      ]
    },
    {
      "cell_type": "markdown",
      "source": [
        "### 5.b) Load Test Dataset and Make Predictions"
      ],
      "metadata": {
        "id": "IAP393UNLjUk"
      }
    },
    {
      "cell_type": "code",
      "source": [
        "df_features_test = pd.read_csv(TEST_DATASET)\n",
        "df_features_test['is_synthetic'] = 1\n",
        "\n",
        "# Take a peek at the dataframe after import\n",
        "print(df_features_test.head())"
      ],
      "metadata": {
        "id": "H5i1DVJqLnBU",
        "colab": {
          "base_uri": "https://localhost:8080/"
        },
        "outputId": "4606c772-17a0-4c83-addb-838ab4d1efbb"
      },
      "execution_count": 46,
      "outputs": [
        {
          "output_type": "stream",
          "name": "stdout",
          "text": [
            "      id  squareMeters  numberOfRooms  hasYard  hasPool  floors  cityCode  \\\n",
            "0  22730         47580             89        0        1       8     54830   \n",
            "1  22731         62083             38        0        0      87      8576   \n",
            "2  22732         90499             75        1        1      37     62454   \n",
            "3  22733         16354             47        1        1       9      9262   \n",
            "4  22734         67510              8        0        0      55     24112   \n",
            "\n",
            "   cityPartRange  numPrevOwners  made  isNewBuilt  hasStormProtector  \\\n",
            "0              5              3  1995           0                  0   \n",
            "1             10              3  1994           1                  1   \n",
            "2              9              6  1997           0                  1   \n",
            "3              6              5  2019           1                  1   \n",
            "4              3              7  2014           1                  1   \n",
            "\n",
            "   basement  attic  garage  hasStorageRoom  hasGuestRoom  is_synthetic  \n",
            "0      6885   8181     241               0             8             1  \n",
            "1      4601   9237     393               1             4             1  \n",
            "2      7454   2680     305               0             2             1  \n",
            "3       705   5097     122               1             5             1  \n",
            "4      3715   7979     401               1             9             1  \n"
          ]
        }
      ]
    },
    {
      "cell_type": "code",
      "source": [
        "id_column_name = df_features_test.columns[0]\n",
        "df_kaggle_submission = pd.DataFrame()\n",
        "df_kaggle_submission[id_column_name] = df_features_test[id_column_name]\n",
        "print(df_kaggle_submission.head())"
      ],
      "metadata": {
        "id": "Lq2xZsBIPIal",
        "colab": {
          "base_uri": "https://localhost:8080/"
        },
        "outputId": "5d66bc2b-ea87-44ed-d1cb-96d33a336378"
      },
      "execution_count": 47,
      "outputs": [
        {
          "output_type": "stream",
          "name": "stdout",
          "text": [
            "      id\n",
            "0  22730\n",
            "1  22731\n",
            "2  22732\n",
            "3  22733\n",
            "4  22734\n"
          ]
        }
      ]
    },
    {
      "cell_type": "code",
      "source": [
        "# Dropping unique identifier and unnecessary features\n",
        "df_features_test.drop(columns=[id_column_name,'cityCode'], inplace=True)\n",
        "\n",
        "# Take a peek at the dataframe after cleaning\n",
        "print(df_features_test.head())"
      ],
      "metadata": {
        "id": "e3Dg2wiSPP9S",
        "colab": {
          "base_uri": "https://localhost:8080/"
        },
        "outputId": "5a8a37c6-5f14-42f1-d498-14a0f094c5ab"
      },
      "execution_count": 48,
      "outputs": [
        {
          "output_type": "stream",
          "name": "stdout",
          "text": [
            "   squareMeters  numberOfRooms  hasYard  hasPool  floors  cityPartRange  \\\n",
            "0         47580             89        0        1       8              5   \n",
            "1         62083             38        0        0      87             10   \n",
            "2         90499             75        1        1      37              9   \n",
            "3         16354             47        1        1       9              6   \n",
            "4         67510              8        0        0      55              3   \n",
            "\n",
            "   numPrevOwners  made  isNewBuilt  hasStormProtector  basement  attic  \\\n",
            "0              3  1995           0                  0      6885   8181   \n",
            "1              3  1994           1                  1      4601   9237   \n",
            "2              6  1997           0                  1      7454   2680   \n",
            "3              5  2019           1                  1       705   5097   \n",
            "4              7  2014           1                  1      3715   7979   \n",
            "\n",
            "   garage  hasStorageRoom  hasGuestRoom  is_synthetic  \n",
            "0     241               0             8             1  \n",
            "1     393               1             4             1  \n",
            "2     305               0             2             1  \n",
            "3     122               1             5             1  \n",
            "4     401               1             9             1  \n"
          ]
        }
      ]
    },
    {
      "cell_type": "code",
      "source": [
        "print(df_features_test.describe())"
      ],
      "metadata": {
        "colab": {
          "base_uri": "https://localhost:8080/"
        },
        "id": "4cXgMBnE56v6",
        "outputId": "8b63781a-fbe0-425c-d0de-f400970ae178"
      },
      "execution_count": 49,
      "outputs": [
        {
          "output_type": "stream",
          "name": "stdout",
          "text": [
            "       squareMeters  numberOfRooms       hasYard       hasPool        floors  \\\n",
            "count  15154.000000   15154.000000  15154.000000  15154.000000  15154.000000   \n",
            "mean   45729.407681      47.874951      0.483371      0.445361     46.401148   \n",
            "std    29200.142520      28.164077      0.499740      0.497022     27.000547   \n",
            "min       69.000000       1.000000      0.000000      0.000000      1.000000   \n",
            "25%    19189.000000      25.000000      0.000000      0.000000     25.000000   \n",
            "50%    43802.000000      46.000000      0.000000      0.000000     44.000000   \n",
            "75%    70898.000000      75.000000      1.000000      1.000000     69.000000   \n",
            "max    99999.000000     100.000000      1.000000      1.000000    100.000000   \n",
            "\n",
            "       cityPartRange  numPrevOwners          made    isNewBuilt  \\\n",
            "count   15154.000000   15154.000000  15154.000000  15154.000000   \n",
            "mean        5.616933       5.602547   2006.225485      0.472219   \n",
            "std         2.727914       2.718316      8.156347      0.499244   \n",
            "min         1.000000       1.000000   1990.000000      0.000000   \n",
            "25%         3.000000       3.000000   2000.000000      0.000000   \n",
            "50%         6.000000       6.000000   2006.000000      0.000000   \n",
            "75%         8.000000       8.000000   2014.000000      1.000000   \n",
            "max        10.000000      10.000000   2021.000000      1.000000   \n",
            "\n",
            "       hasStormProtector      basement         attic        garage  \\\n",
            "count       15154.000000  15154.000000  15154.000000  15154.000000   \n",
            "mean            0.463442   5299.415468   5057.506599    525.091065   \n",
            "std             0.498678   2980.156234   2928.004147    268.504745   \n",
            "min             0.000000      8.000000      1.000000      8.000000   \n",
            "25%             0.000000   3114.000000   2567.000000    294.250000   \n",
            "50%             0.000000   5359.000000   5017.000000    501.000000   \n",
            "75%             1.000000   7739.000000   7650.750000    757.000000   \n",
            "max             1.000000  89016.000000  38535.000000   1000.000000   \n",
            "\n",
            "       hasStorageRoom  hasGuestRoom  is_synthetic  \n",
            "count    15154.000000  15154.000000       15154.0  \n",
            "mean         0.463178      5.095618           1.0  \n",
            "std          0.498659      3.049174           0.0  \n",
            "min          0.000000      0.000000           1.0  \n",
            "25%          0.000000      2.000000           1.0  \n",
            "50%          0.000000      5.000000           1.0  \n",
            "75%          1.000000      8.000000           1.0  \n",
            "max          1.000000     10.000000           1.0  \n"
          ]
        }
      ]
    },
    {
      "cell_type": "code",
      "source": [
        "# Finalize the test dataset for the testing activities\n",
        "array_features_test = preprocessor.transform(df_features_test)\n",
        "print(\"Transformed features from df_features_test.shape: {} to array_features_test.shape: {}\".format(df_features_test.shape, array_features_test.shape))"
      ],
      "metadata": {
        "id": "qa1aUkIZPtDR",
        "colab": {
          "base_uri": "https://localhost:8080/"
        },
        "outputId": "ecafd654-6b86-4938-9315-3b5e6bcb96f0"
      },
      "execution_count": 50,
      "outputs": [
        {
          "output_type": "stream",
          "name": "stdout",
          "text": [
            "Transformed features from df_features_test.shape: (15154, 16) to array_features_test.shape: (15154, 16)\n"
          ]
        }
      ]
    },
    {
      "cell_type": "code",
      "source": [
        "# Make batched predictions\n",
        "test_predictions =  final_model.predict(array_features_test)\n",
        "print(test_predictions)"
      ],
      "metadata": {
        "id": "jk51XDuNPyJa",
        "colab": {
          "base_uri": "https://localhost:8080/"
        },
        "outputId": "5d67d7f7-aed2-486d-c512-5a406685020f"
      },
      "execution_count": 51,
      "outputs": [
        {
          "output_type": "stream",
          "name": "stdout",
          "text": [
            "[4765679.693      6216313.62099999 9057656.21100002 ... 7361119.56899999\n",
            " 7767254.23599999 1822890.73      ]\n"
          ]
        }
      ]
    },
    {
      "cell_type": "code",
      "source": [
        "df_sample_submission = pd.read_csv(SUBMISSION_TEMPLATE)\n",
        "df_sample_submission.drop(columns=[id_column_name], inplace=True)\n",
        "submission_header = list(df_sample_submission.columns)[0]\n",
        "print(submission_header)"
      ],
      "metadata": {
        "id": "k5wrJlkOQDT5",
        "colab": {
          "base_uri": "https://localhost:8080/"
        },
        "outputId": "20ef5d4b-3e3e-4fe8-ff33-6fd1df4a3dbd"
      },
      "execution_count": 52,
      "outputs": [
        {
          "output_type": "stream",
          "name": "stdout",
          "text": [
            "price\n"
          ]
        }
      ]
    },
    {
      "cell_type": "code",
      "source": [
        "df_kaggle_submission[submission_header] = test_predictions\n",
        "print(df_kaggle_submission.head())"
      ],
      "metadata": {
        "id": "mNqTtzVNP1gl",
        "colab": {
          "base_uri": "https://localhost:8080/"
        },
        "outputId": "16f0a5da-a295-4533-bffe-1234f734b119"
      },
      "execution_count": 53,
      "outputs": [
        {
          "output_type": "stream",
          "name": "stdout",
          "text": [
            "      id        price\n",
            "0  22730  4765679.693\n",
            "1  22731  6216313.621\n",
            "2  22732  9057656.211\n",
            "3  22733  1644761.061\n",
            "4  22734  6758716.642\n"
          ]
        }
      ]
    },
    {
      "cell_type": "code",
      "source": [
        "submission_file = df_kaggle_submission.to_csv(header=True, index=False)\n",
        "filename = SUBMISSION_FILE + datetime.now().strftime('%Y%m%d-%H%M') + '.csv'\n",
        "with open(filename, 'w') as f:\n",
        "    f.write(submission_file)\n",
        "    print('Completed writing output file: ' + filename)"
      ],
      "metadata": {
        "id": "80RjY5cAP4sl",
        "colab": {
          "base_uri": "https://localhost:8080/"
        },
        "outputId": "37b31415-ba58-4e0d-d751-eb7e30808c30"
      },
      "execution_count": 54,
      "outputs": [
        {
          "output_type": "stream",
          "name": "stdout",
          "text": [
            "Completed writing output file: submission_sklearn_20230313-1715.csv\n"
          ]
        }
      ]
    },
    {
      "cell_type": "code",
      "execution_count": 55,
      "metadata": {
        "id": "REuedcf5oyu3"
      },
      "outputs": [],
      "source": [
        "if NOTIFY_STATUS: status_notify(\"Task 5 - Finalize Model and Make Predictions completed! \" + datetime.now().strftime('%a %B %d, %Y %I:%M:%S %p'))"
      ]
    },
    {
      "cell_type": "code",
      "execution_count": 56,
      "metadata": {
        "id": "nErqP5A_oyu3",
        "colab": {
          "base_uri": "https://localhost:8080/"
        },
        "outputId": "a7e0d166-a94b-4bf5-8a50-4f04afa0a066"
      },
      "outputs": [
        {
          "output_type": "stream",
          "name": "stdout",
          "text": [
            "Total time for the script: 0:37:47.408770\n"
          ]
        }
      ],
      "source": [
        "print ('Total time for the script:',(datetime.now() - START_TIME_SCRIPT))"
      ]
    }
  ],
  "metadata": {
    "kernelspec": {
      "display_name": "Python 3 (ipykernel)",
      "language": "python",
      "name": "python3"
    },
    "language_info": {
      "codemirror_mode": {
        "name": "ipython",
        "version": 3
      },
      "file_extension": ".py",
      "mimetype": "text/x-python",
      "name": "python",
      "nbconvert_exporter": "python",
      "pygments_lexer": "ipython3",
      "version": "3.8.10"
    },
    "colab": {
      "provenance": []
    }
  },
  "nbformat": 4,
  "nbformat_minor": 0
}
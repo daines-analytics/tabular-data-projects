{
  "nbformat": 4,
  "nbformat_minor": 0,
  "metadata": {
    "colab": {
      "name": "py_decisionforests_regression_kaggle_tabular_playground_2021jan.ipynb",
      "provenance": [],
      "collapsed_sections": []
    },
    "kernelspec": {
      "display_name": "Python 3 (ipykernel)",
      "language": "python",
      "name": "python3"
    },
    "language_info": {
      "codemirror_mode": {
        "name": "ipython",
        "version": 3
      },
      "file_extension": ".py",
      "mimetype": "text/x-python",
      "name": "python",
      "nbconvert_exporter": "python",
      "pygments_lexer": "ipython3",
      "version": "3.8.11"
    }
  },
  "cells": [
    {
      "cell_type": "markdown",
      "metadata": {
        "id": "2sQmc7MlwXit"
      },
      "source": [
        "# Regression Model for Kaggle Tabular Playground Series January 2021 Using TensorFlow Decision Forests\n",
        "### David Lowe\n",
        "### November 22, 2021\n",
        "\n",
        "Template Credit: Adapted from a template made available by Dr. Jason Brownlee of Machine Learning Mastery. [https://machinelearningmastery.com/]\n",
        "\n",
        "SUMMARY: The project aims to construct a predictive model using various machine learning algorithms and document the end-to-end steps using a template. The Kaggle Tabular Playground Series January 2021 dataset is a regression situation where we are trying to predict the value of a continuous variable.\n",
        "\n",
        "Kaggle wants to provide an approachable environment for relatively new people in their data science journey. Since January 2021, they have been hosting playground-style competitions on Kaggle with fun but less complex, tabular datasets. These competitions will be great for people looking for something between the Titanic Getting Started competition and a Featured competition.\n",
        "\n",
        "ANALYSIS: The performance of the preliminary Gradient Boosted Trees model achieved an RMSE benchmark of 0.7013 on the validation dataset. The final model processed the validation dataset with a final RMSE score of 0.7006. When we applied the finalized model to Kaggle's test dataset, the model achieved an RMSE score of 0.7031.\n",
        "\n",
        "CONCLUSION: In this iteration, the TensorFlow Decision Forests model appeared to be a suitable algorithm for modeling this dataset.\n",
        "\n",
        "Dataset Used: Kaggle Tabular Playground Series January 2021 Data Set\n",
        "\n",
        "Dataset ML Model: Regression with numerical attributes\n",
        "\n",
        "Dataset Reference: https://www.kaggle.com/c/tabular-playground-series-jan-2021\n",
        "\n",
        "One potential source of performance benchmarks: https://www.kaggle.com/c/tabular-playground-series-jan-2021/leaderboard\n",
        "\n",
        "Any predictive modeling machine learning project generally can be broken down into about six major tasks:\n",
        "\n",
        "1. Prepare Environment\n",
        "2. Summarize and Visualize Data\n",
        "3. Train and Evaluate Models\n",
        "4. Fine-tune and Improve Models\n",
        "5. Finalize Model and Present Analysis"
      ]
    },
    {
      "cell_type": "markdown",
      "metadata": {
        "id": "2pu8nWBYwXi9"
      },
      "source": [
        "## Task 1 - Prepare Environment"
      ]
    },
    {
      "cell_type": "code",
      "metadata": {
        "colab": {
          "base_uri": "https://localhost:8080/"
        },
        "id": "oucRIOhVwXi9",
        "outputId": "1d13c29d-9136-40c8-df5e-d048fbcce48a"
      },
      "source": [
        "# Install the necessary packages for Colab\n",
        "# !pip install python-dotenv PyMySQL\n",
        "!pip install tensorflow_decision_forests"
      ],
      "execution_count": 1,
      "outputs": [
        {
          "output_type": "stream",
          "name": "stdout",
          "text": [
            "Collecting tensorflow_decision_forests\n",
            "  Downloading tensorflow_decision_forests-0.2.1-cp37-cp37m-manylinux_2_12_x86_64.manylinux2010_x86_64.whl (17.1 MB)\n",
            "\u001b[K     |████████████████████████████████| 17.1 MB 129 kB/s \n",
            "\u001b[?25hRequirement already satisfied: numpy in /usr/local/lib/python3.7/dist-packages (from tensorflow_decision_forests) (1.19.5)\n",
            "Requirement already satisfied: pandas in /usr/local/lib/python3.7/dist-packages (from tensorflow_decision_forests) (1.1.5)\n",
            "Requirement already satisfied: wheel in /usr/local/lib/python3.7/dist-packages (from tensorflow_decision_forests) (0.37.0)\n",
            "Requirement already satisfied: tensorflow~=2.7.0 in /usr/local/lib/python3.7/dist-packages (from tensorflow_decision_forests) (2.7.0)\n",
            "Requirement already satisfied: six in /usr/local/lib/python3.7/dist-packages (from tensorflow_decision_forests) (1.15.0)\n",
            "Requirement already satisfied: absl-py in /usr/local/lib/python3.7/dist-packages (from tensorflow_decision_forests) (0.12.0)\n",
            "Requirement already satisfied: astunparse>=1.6.0 in /usr/local/lib/python3.7/dist-packages (from tensorflow~=2.7.0->tensorflow_decision_forests) (1.6.3)\n",
            "Requirement already satisfied: h5py>=2.9.0 in /usr/local/lib/python3.7/dist-packages (from tensorflow~=2.7.0->tensorflow_decision_forests) (3.1.0)\n",
            "Requirement already satisfied: protobuf>=3.9.2 in /usr/local/lib/python3.7/dist-packages (from tensorflow~=2.7.0->tensorflow_decision_forests) (3.17.3)\n",
            "Requirement already satisfied: libclang>=9.0.1 in /usr/local/lib/python3.7/dist-packages (from tensorflow~=2.7.0->tensorflow_decision_forests) (12.0.0)\n",
            "Requirement already satisfied: wrapt>=1.11.0 in /usr/local/lib/python3.7/dist-packages (from tensorflow~=2.7.0->tensorflow_decision_forests) (1.13.3)\n",
            "Requirement already satisfied: keras-preprocessing>=1.1.1 in /usr/local/lib/python3.7/dist-packages (from tensorflow~=2.7.0->tensorflow_decision_forests) (1.1.2)\n",
            "Requirement already satisfied: termcolor>=1.1.0 in /usr/local/lib/python3.7/dist-packages (from tensorflow~=2.7.0->tensorflow_decision_forests) (1.1.0)\n",
            "Requirement already satisfied: flatbuffers<3.0,>=1.12 in /usr/local/lib/python3.7/dist-packages (from tensorflow~=2.7.0->tensorflow_decision_forests) (2.0)\n",
            "Requirement already satisfied: opt-einsum>=2.3.2 in /usr/local/lib/python3.7/dist-packages (from tensorflow~=2.7.0->tensorflow_decision_forests) (3.3.0)\n",
            "Requirement already satisfied: tensorflow-estimator<2.8,~=2.7.0rc0 in /usr/local/lib/python3.7/dist-packages (from tensorflow~=2.7.0->tensorflow_decision_forests) (2.7.0)\n",
            "Requirement already satisfied: gast<0.5.0,>=0.2.1 in /usr/local/lib/python3.7/dist-packages (from tensorflow~=2.7.0->tensorflow_decision_forests) (0.4.0)\n",
            "Requirement already satisfied: typing-extensions>=3.6.6 in /usr/local/lib/python3.7/dist-packages (from tensorflow~=2.7.0->tensorflow_decision_forests) (3.10.0.2)\n",
            "Requirement already satisfied: tensorboard~=2.6 in /usr/local/lib/python3.7/dist-packages (from tensorflow~=2.7.0->tensorflow_decision_forests) (2.7.0)\n",
            "Requirement already satisfied: grpcio<2.0,>=1.24.3 in /usr/local/lib/python3.7/dist-packages (from tensorflow~=2.7.0->tensorflow_decision_forests) (1.42.0)\n",
            "Requirement already satisfied: google-pasta>=0.1.1 in /usr/local/lib/python3.7/dist-packages (from tensorflow~=2.7.0->tensorflow_decision_forests) (0.2.0)\n",
            "Requirement already satisfied: tensorflow-io-gcs-filesystem>=0.21.0 in /usr/local/lib/python3.7/dist-packages (from tensorflow~=2.7.0->tensorflow_decision_forests) (0.22.0)\n",
            "Requirement already satisfied: keras<2.8,>=2.7.0rc0 in /usr/local/lib/python3.7/dist-packages (from tensorflow~=2.7.0->tensorflow_decision_forests) (2.7.0)\n",
            "Requirement already satisfied: cached-property in /usr/local/lib/python3.7/dist-packages (from h5py>=2.9.0->tensorflow~=2.7.0->tensorflow_decision_forests) (1.5.2)\n",
            "Requirement already satisfied: tensorboard-plugin-wit>=1.6.0 in /usr/local/lib/python3.7/dist-packages (from tensorboard~=2.6->tensorflow~=2.7.0->tensorflow_decision_forests) (1.8.0)\n",
            "Requirement already satisfied: google-auth-oauthlib<0.5,>=0.4.1 in /usr/local/lib/python3.7/dist-packages (from tensorboard~=2.6->tensorflow~=2.7.0->tensorflow_decision_forests) (0.4.6)\n",
            "Requirement already satisfied: requests<3,>=2.21.0 in /usr/local/lib/python3.7/dist-packages (from tensorboard~=2.6->tensorflow~=2.7.0->tensorflow_decision_forests) (2.23.0)\n",
            "Requirement already satisfied: markdown>=2.6.8 in /usr/local/lib/python3.7/dist-packages (from tensorboard~=2.6->tensorflow~=2.7.0->tensorflow_decision_forests) (3.3.6)\n",
            "Requirement already satisfied: tensorboard-data-server<0.7.0,>=0.6.0 in /usr/local/lib/python3.7/dist-packages (from tensorboard~=2.6->tensorflow~=2.7.0->tensorflow_decision_forests) (0.6.1)\n",
            "Requirement already satisfied: setuptools>=41.0.0 in /usr/local/lib/python3.7/dist-packages (from tensorboard~=2.6->tensorflow~=2.7.0->tensorflow_decision_forests) (57.4.0)\n",
            "Requirement already satisfied: werkzeug>=0.11.15 in /usr/local/lib/python3.7/dist-packages (from tensorboard~=2.6->tensorflow~=2.7.0->tensorflow_decision_forests) (1.0.1)\n",
            "Requirement already satisfied: google-auth<3,>=1.6.3 in /usr/local/lib/python3.7/dist-packages (from tensorboard~=2.6->tensorflow~=2.7.0->tensorflow_decision_forests) (1.35.0)\n",
            "Requirement already satisfied: rsa<5,>=3.1.4 in /usr/local/lib/python3.7/dist-packages (from google-auth<3,>=1.6.3->tensorboard~=2.6->tensorflow~=2.7.0->tensorflow_decision_forests) (4.7.2)\n",
            "Requirement already satisfied: pyasn1-modules>=0.2.1 in /usr/local/lib/python3.7/dist-packages (from google-auth<3,>=1.6.3->tensorboard~=2.6->tensorflow~=2.7.0->tensorflow_decision_forests) (0.2.8)\n",
            "Requirement already satisfied: cachetools<5.0,>=2.0.0 in /usr/local/lib/python3.7/dist-packages (from google-auth<3,>=1.6.3->tensorboard~=2.6->tensorflow~=2.7.0->tensorflow_decision_forests) (4.2.4)\n",
            "Requirement already satisfied: requests-oauthlib>=0.7.0 in /usr/local/lib/python3.7/dist-packages (from google-auth-oauthlib<0.5,>=0.4.1->tensorboard~=2.6->tensorflow~=2.7.0->tensorflow_decision_forests) (1.3.0)\n",
            "Requirement already satisfied: importlib-metadata>=4.4 in /usr/local/lib/python3.7/dist-packages (from markdown>=2.6.8->tensorboard~=2.6->tensorflow~=2.7.0->tensorflow_decision_forests) (4.8.2)\n",
            "Requirement already satisfied: zipp>=0.5 in /usr/local/lib/python3.7/dist-packages (from importlib-metadata>=4.4->markdown>=2.6.8->tensorboard~=2.6->tensorflow~=2.7.0->tensorflow_decision_forests) (3.6.0)\n",
            "Requirement already satisfied: pyasn1<0.5.0,>=0.4.6 in /usr/local/lib/python3.7/dist-packages (from pyasn1-modules>=0.2.1->google-auth<3,>=1.6.3->tensorboard~=2.6->tensorflow~=2.7.0->tensorflow_decision_forests) (0.4.8)\n",
            "Requirement already satisfied: certifi>=2017.4.17 in /usr/local/lib/python3.7/dist-packages (from requests<3,>=2.21.0->tensorboard~=2.6->tensorflow~=2.7.0->tensorflow_decision_forests) (2021.10.8)\n",
            "Requirement already satisfied: idna<3,>=2.5 in /usr/local/lib/python3.7/dist-packages (from requests<3,>=2.21.0->tensorboard~=2.6->tensorflow~=2.7.0->tensorflow_decision_forests) (2.10)\n",
            "Requirement already satisfied: chardet<4,>=3.0.2 in /usr/local/lib/python3.7/dist-packages (from requests<3,>=2.21.0->tensorboard~=2.6->tensorflow~=2.7.0->tensorflow_decision_forests) (3.0.4)\n",
            "Requirement already satisfied: urllib3!=1.25.0,!=1.25.1,<1.26,>=1.21.1 in /usr/local/lib/python3.7/dist-packages (from requests<3,>=2.21.0->tensorboard~=2.6->tensorflow~=2.7.0->tensorflow_decision_forests) (1.24.3)\n",
            "Requirement already satisfied: oauthlib>=3.0.0 in /usr/local/lib/python3.7/dist-packages (from requests-oauthlib>=0.7.0->google-auth-oauthlib<0.5,>=0.4.1->tensorboard~=2.6->tensorflow~=2.7.0->tensorflow_decision_forests) (3.1.1)\n",
            "Requirement already satisfied: python-dateutil>=2.7.3 in /usr/local/lib/python3.7/dist-packages (from pandas->tensorflow_decision_forests) (2.8.2)\n",
            "Requirement already satisfied: pytz>=2017.2 in /usr/local/lib/python3.7/dist-packages (from pandas->tensorflow_decision_forests) (2018.9)\n",
            "Installing collected packages: tensorflow-decision-forests\n",
            "Successfully installed tensorflow-decision-forests-0.2.1\n"
          ]
        }
      ]
    },
    {
      "cell_type": "code",
      "metadata": {
        "colab": {
          "base_uri": "https://localhost:8080/"
        },
        "id": "QNXHrvTWZ96d",
        "outputId": "8ed978eb-a80a-42cf-afb9-9fcca38e8dc1"
      },
      "source": [
        "!pip install wurlitzer"
      ],
      "execution_count": 2,
      "outputs": [
        {
          "output_type": "stream",
          "name": "stdout",
          "text": [
            "Collecting wurlitzer\n",
            "  Downloading wurlitzer-3.0.2-py3-none-any.whl (7.3 kB)\n",
            "Installing collected packages: wurlitzer\n",
            "Successfully installed wurlitzer-3.0.2\n"
          ]
        }
      ]
    },
    {
      "cell_type": "code",
      "metadata": {
        "id": "tvspnMqBwXi-"
      },
      "source": [
        "# # Retrieve the GPU information from Colab\n",
        "# gpu_info = !nvidia-smi\n",
        "# gpu_info = '\\n'.join(gpu_info)\n",
        "# if gpu_info.find('failed') >= 0:\n",
        "#     print('Select the Runtime → \"Change runtime type\" menu to enable a GPU accelerator, ')\n",
        "#     print('and then re-execute this cell.')\n",
        "# else:\n",
        "#     print(gpu_info)"
      ],
      "execution_count": 3,
      "outputs": []
    },
    {
      "cell_type": "code",
      "metadata": {
        "id": "TanXkkQxwXi-",
        "colab": {
          "base_uri": "https://localhost:8080/"
        },
        "outputId": "c2f4d9c4-74ee-4fd3-9b28-34ef98e5a9f5"
      },
      "source": [
        "# Retrieve the memory configuration from Colab\n",
        "from psutil import virtual_memory\n",
        "ram_gb = virtual_memory().total / 1e9\n",
        "print('Your runtime has {:.1f} gigabytes of available RAM\\n'.format(ram_gb))\n",
        "\n",
        "if ram_gb < 20:\n",
        "    print('To enable a high-RAM runtime, select the Runtime → \"Change runtime type\"')\n",
        "    print('menu, and then select High-RAM in the Runtime shape dropdown. Then, ')\n",
        "    print('re-execute this cell.')\n",
        "else:\n",
        "    print('You are using a high-RAM runtime!')"
      ],
      "execution_count": 4,
      "outputs": [
        {
          "output_type": "stream",
          "name": "stdout",
          "text": [
            "Your runtime has 13.6 gigabytes of available RAM\n",
            "\n",
            "To enable a high-RAM runtime, select the Runtime → \"Change runtime type\"\n",
            "menu, and then select High-RAM in the Runtime shape dropdown. Then, \n",
            "re-execute this cell.\n"
          ]
        }
      ]
    },
    {
      "cell_type": "code",
      "metadata": {
        "colab": {
          "base_uri": "https://localhost:8080/"
        },
        "id": "ZOOVxnGCwXi_",
        "outputId": "af26ffc0-0714-4f1f-9f04-f6fcbf16ece3"
      },
      "source": [
        "# Retrieve the CPU information\n",
        "ncpu = !nproc\n",
        "print(\"The number of available CPUs is:\", ncpu[0])"
      ],
      "execution_count": 5,
      "outputs": [
        {
          "output_type": "stream",
          "name": "stdout",
          "text": [
            "The number of available CPUs is: 2\n"
          ]
        }
      ]
    },
    {
      "cell_type": "markdown",
      "metadata": {
        "id": "6UZqFeojwXjA"
      },
      "source": [
        "### 1.a) Load libraries and modules"
      ]
    },
    {
      "cell_type": "code",
      "metadata": {
        "id": "9_ovTGbJwXjA"
      },
      "source": [
        "# Set the random seed number for reproducible results\n",
        "RNG_SEED = 888"
      ],
      "execution_count": 6,
      "outputs": []
    },
    {
      "cell_type": "code",
      "metadata": {
        "colab": {
          "base_uri": "https://localhost:8080/"
        },
        "id": "vDmif-v8wXjB",
        "outputId": "5050d081-be63-432c-bd77-7c5f18164f22"
      },
      "source": [
        "import random\n",
        "random.seed(RNG_SEED)\n",
        "import numpy as np\n",
        "np.random.seed(RNG_SEED)\n",
        "import pandas as pd\n",
        "import seaborn as sns\n",
        "import matplotlib\n",
        "import matplotlib.pyplot as plt\n",
        "import os\n",
        "import sys\n",
        "import math\n",
        "from datetime import datetime\n",
        "# import boto3\n",
        "# from dotenv import load_dotenv\n",
        "from sklearn import preprocessing\n",
        "from sklearn.model_selection import train_test_split\n",
        "from sklearn.model_selection import RepeatedKFold\n",
        "from sklearn.pipeline import Pipeline\n",
        "from sklearn import compose\n",
        "from sklearn import impute\n",
        "import tensorflow as tf\n",
        "tf.random.set_seed(RNG_SEED)\n",
        "from tensorflow import keras\n",
        "import tensorflow_decision_forests as tfdf"
      ],
      "execution_count": 7,
      "outputs": [
        {
          "output_type": "stream",
          "name": "stderr",
          "text": [
            "WARNING:root:Failure to load the custom c++ tensorflow ops. This error is likely caused the version of TensorFlow and TensorFlow Decision Forests are not compatible.\n",
            "WARNING:root:TF Parameter Server distributed training not available.\n"
          ]
        }
      ]
    },
    {
      "cell_type": "code",
      "metadata": {
        "id": "ATym7GJWaOD3"
      },
      "source": [
        "try:\n",
        "  from wurlitzer import sys_pipes\n",
        "except:\n",
        "  from colabtools.googlelog import CaptureLog as sys_pipes\n",
        "\n",
        "from IPython.core.magic import register_line_magic\n",
        "from IPython.display import Javascript"
      ],
      "execution_count": 8,
      "outputs": []
    },
    {
      "cell_type": "markdown",
      "metadata": {
        "id": "M0TRB7j0wXjB"
      },
      "source": [
        "### 1.b) Set up the controlling parameters and functions"
      ]
    },
    {
      "cell_type": "code",
      "metadata": {
        "colab": {
          "base_uri": "https://localhost:8080/"
        },
        "id": "JCurALWEwXjB",
        "outputId": "fe2a2a8f-feec-4485-a414-4c0218f15afb"
      },
      "source": [
        "# Begin the timer for the script processing\n",
        "start_time_script = datetime.now()\n",
        "\n",
        "# Set up the number of CPU cores available for multi-thread processing\n",
        "N_JOBS = 1\n",
        "\n",
        "# Set up the flag to stop sending progress emails (setting to True will send status emails!)\n",
        "NOTIFY_STATUS = False\n",
        "\n",
        "# Set the percentage sizes for splitting the dataset\n",
        "TEST_SET_RATIO = 0.2\n",
        "VAL_SET_RATIO = 0.2\n",
        "\n",
        "# Set the number of folds for cross validation\n",
        "N_FOLDS = 5\n",
        "N_ITERATIONS = 1\n",
        "\n",
        "# Set various default modeling parameters\n",
        "DEFAULT_LOSS = 'mean_squared_error'\n",
        "DEFAULT_METRICS = [tf.keras.metrics.RootMeanSquaredError(name='rmse')]\n",
        "DEFAULT_OPTIMIZER = tf.keras.optimizers.Adam(learning_rate=0.0001)\n",
        "DEFAULT_INITIALIZER = tf.keras.initializers.RandomNormal(seed=RNG_SEED)\n",
        "MAX_EPOCHS = 10\n",
        "BATCH_SIZE = 32\n",
        "\n",
        "# # Check the number of GPUs accessible through TensorFlow\n",
        "# print('Num GPUs Available:', len(tf.config.list_physical_devices('GPU')))\n",
        "\n",
        "# # Print out the TensorFlow version for confirmation\n",
        "# print('TensorFlow version:', tf.__version__)\n",
        "\n",
        "# Check the version of TensorFlow Decision Forests\n",
        "print(\"Found TensorFlow Decision Forests v\" + tfdf.__version__)"
      ],
      "execution_count": 9,
      "outputs": [
        {
          "output_type": "stream",
          "name": "stdout",
          "text": [
            "Found TensorFlow Decision Forests v0.2.1\n"
          ]
        }
      ]
    },
    {
      "cell_type": "code",
      "metadata": {
        "id": "IBDJ6B40wXjC"
      },
      "source": [
        "# Set up the email notification function\n",
        "def status_notify(msg_text):\n",
        "    access_key = os.environ.get('SNS_ACCESS_KEY')\n",
        "    secret_key = os.environ.get('SNS_SECRET_KEY')\n",
        "    aws_region = os.environ.get('SNS_AWS_REGION')\n",
        "    topic_arn = os.environ.get('SNS_TOPIC_ARN')\n",
        "    if (access_key is None) or (secret_key is None) or (aws_region is None):\n",
        "        sys.exit(\"Incomplete notification setup info. Script Processing Aborted!!!\")\n",
        "    sns = boto3.client('sns', aws_access_key_id=access_key, aws_secret_access_key=secret_key, region_name=aws_region)\n",
        "    response = sns.publish(TopicArn=topic_arn, Message=msg_text)\n",
        "    if response['ResponseMetadata']['HTTPStatusCode'] != 200 :\n",
        "        print('Status notification not OK with HTTP status code:', response['ResponseMetadata']['HTTPStatusCode'])"
      ],
      "execution_count": 10,
      "outputs": []
    },
    {
      "cell_type": "code",
      "metadata": {
        "id": "e3tPi3k7wyTv"
      },
      "source": [
        "# Reset the random number generators\n",
        "def reset_random(x=RNG_SEED):\n",
        "    random.seed(x)\n",
        "    np.random.seed(x)\n",
        "    tf.random.set_seed(x)"
      ],
      "execution_count": 11,
      "outputs": []
    },
    {
      "cell_type": "code",
      "metadata": {
        "id": "p2F2r8QswXjD"
      },
      "source": [
        "if NOTIFY_STATUS: status_notify(\"Task 1 - Prepare Environment has begun! \" + datetime.now().strftime('%a %B %d, %Y %I:%M:%S %p'))"
      ],
      "execution_count": 12,
      "outputs": []
    },
    {
      "cell_type": "markdown",
      "metadata": {
        "id": "yk2I_AhawXjD"
      },
      "source": [
        "### 1.c) Load dataset"
      ]
    },
    {
      "cell_type": "code",
      "metadata": {
        "colab": {
          "base_uri": "https://localhost:8080/"
        },
        "id": "E7G2_4zawXjE",
        "outputId": "8fe31ed3-47a3-4720-b2ab-a32c52603e4d"
      },
      "source": [
        "dataset_path = 'https://dainesanalytics.com/datasets/kaggle-tabular-playground-2021jan/train.csv'\n",
        "df_dataset_import = pd.read_csv(dataset_path, index_col=False)\n",
        "\n",
        "# Take a peek at the dataframe after import\n",
        "print(df_dataset_import.head())"
      ],
      "execution_count": 13,
      "outputs": [
        {
          "output_type": "stream",
          "name": "stdout",
          "text": [
            "   id     cont1     cont2     cont3  ...    cont12    cont13    cont14    target\n",
            "0   1  0.670390  0.811300  0.643968  ...  0.866772  0.878733  0.305411  7.243043\n",
            "1   3  0.388053  0.621104  0.686102  ...  0.434971  0.369957  0.369484  8.203331\n",
            "2   4  0.834950  0.227436  0.301584  ...  0.677708  0.882938  0.303047  7.776091\n",
            "3   5  0.820708  0.160155  0.546887  ...  0.818143  0.914281  0.279528  6.957716\n",
            "4   8  0.935278  0.421235  0.303801  ...  0.900464  0.935918  0.435772  7.951046\n",
            "\n",
            "[5 rows x 16 columns]\n"
          ]
        }
      ]
    },
    {
      "cell_type": "code",
      "metadata": {
        "colab": {
          "base_uri": "https://localhost:8080/"
        },
        "id": "3dl-LDdfwXjE",
        "outputId": "bbeef758-68be-4a10-e1bc-fb939eca2168"
      },
      "source": [
        "df_dataset_import.info(verbose=True)"
      ],
      "execution_count": 14,
      "outputs": [
        {
          "output_type": "stream",
          "name": "stdout",
          "text": [
            "<class 'pandas.core.frame.DataFrame'>\n",
            "RangeIndex: 300000 entries, 0 to 299999\n",
            "Data columns (total 16 columns):\n",
            " #   Column  Non-Null Count   Dtype  \n",
            "---  ------  --------------   -----  \n",
            " 0   id      300000 non-null  int64  \n",
            " 1   cont1   300000 non-null  float64\n",
            " 2   cont2   300000 non-null  float64\n",
            " 3   cont3   300000 non-null  float64\n",
            " 4   cont4   300000 non-null  float64\n",
            " 5   cont5   300000 non-null  float64\n",
            " 6   cont6   300000 non-null  float64\n",
            " 7   cont7   300000 non-null  float64\n",
            " 8   cont8   300000 non-null  float64\n",
            " 9   cont9   300000 non-null  float64\n",
            " 10  cont10  300000 non-null  float64\n",
            " 11  cont11  300000 non-null  float64\n",
            " 12  cont12  300000 non-null  float64\n",
            " 13  cont13  300000 non-null  float64\n",
            " 14  cont14  300000 non-null  float64\n",
            " 15  target  300000 non-null  float64\n",
            "dtypes: float64(15), int64(1)\n",
            "memory usage: 36.6 MB\n"
          ]
        }
      ]
    },
    {
      "cell_type": "code",
      "metadata": {
        "colab": {
          "base_uri": "https://localhost:8080/"
        },
        "id": "3eB_rvlwwXjF",
        "outputId": "6653b185-594e-4772-f887-abef50d74bd5"
      },
      "source": [
        "print(df_dataset_import.describe())"
      ],
      "execution_count": 15,
      "outputs": [
        {
          "output_type": "stream",
          "name": "stdout",
          "text": [
            "                  id          cont1  ...         cont14         target\n",
            "count  300000.000000  300000.000000  ...  300000.000000  300000.000000\n",
            "mean   249825.145857       0.506873  ...       0.503713       7.905661\n",
            "std    144476.732562       0.203976  ...       0.208238       0.733071\n",
            "min         1.000000      -0.082263  ...       0.166367       0.000000\n",
            "25%    124656.500000       0.343078  ...       0.308673       7.329367\n",
            "50%    249738.500000       0.484005  ...       0.431845       7.940571\n",
            "75%    374836.250000       0.643789  ...       0.712653       8.470084\n",
            "max    499999.000000       1.016227  ...       0.868506      10.267569\n",
            "\n",
            "[8 rows x 16 columns]\n"
          ]
        }
      ]
    },
    {
      "cell_type": "code",
      "metadata": {
        "colab": {
          "base_uri": "https://localhost:8080/"
        },
        "id": "SRyVb81UwXjF",
        "outputId": "59df4c47-36a0-4476-efd6-272965f1657f"
      },
      "source": [
        "print(df_dataset_import.isnull().sum())\n",
        "print('Total number of NaN in the dataframe: ', df_dataset_import.isnull().sum().sum())"
      ],
      "execution_count": 16,
      "outputs": [
        {
          "output_type": "stream",
          "name": "stdout",
          "text": [
            "id        0\n",
            "cont1     0\n",
            "cont2     0\n",
            "cont3     0\n",
            "cont4     0\n",
            "cont5     0\n",
            "cont6     0\n",
            "cont7     0\n",
            "cont8     0\n",
            "cont9     0\n",
            "cont10    0\n",
            "cont11    0\n",
            "cont12    0\n",
            "cont13    0\n",
            "cont14    0\n",
            "target    0\n",
            "dtype: int64\n",
            "Total number of NaN in the dataframe:  0\n"
          ]
        }
      ]
    },
    {
      "cell_type": "markdown",
      "metadata": {
        "id": "wfaoKiSdwXjG"
      },
      "source": [
        "### 1.d) Data Cleaning"
      ]
    },
    {
      "cell_type": "code",
      "metadata": {
        "colab": {
          "base_uri": "https://localhost:8080/"
        },
        "id": "KujRTYu5wXjG",
        "outputId": "bde95e06-87b1-4cf3-fe8f-af041d369ff0"
      },
      "source": [
        "# Dropping features\n",
        "df_dataset_import.drop(columns=['id'], inplace=True)\n",
        "\n",
        "# Take a peek at the dataframe after cleaning\n",
        "print(df_dataset_import.head())"
      ],
      "execution_count": 17,
      "outputs": [
        {
          "output_type": "stream",
          "name": "stdout",
          "text": [
            "      cont1     cont2     cont3  ...    cont13    cont14    target\n",
            "0  0.670390  0.811300  0.643968  ...  0.878733  0.305411  7.243043\n",
            "1  0.388053  0.621104  0.686102  ...  0.369957  0.369484  8.203331\n",
            "2  0.834950  0.227436  0.301584  ...  0.882938  0.303047  7.776091\n",
            "3  0.820708  0.160155  0.546887  ...  0.914281  0.279528  6.957716\n",
            "4  0.935278  0.421235  0.303801  ...  0.935918  0.435772  7.951046\n",
            "\n",
            "[5 rows x 15 columns]\n"
          ]
        }
      ]
    },
    {
      "cell_type": "code",
      "metadata": {
        "colab": {
          "base_uri": "https://localhost:8080/"
        },
        "id": "ZprOE1B0wXjH",
        "outputId": "15a54dc9-ea93-4996-b0dc-a244ed23c127"
      },
      "source": [
        "df_dataset_import.info(verbose=True)"
      ],
      "execution_count": 18,
      "outputs": [
        {
          "output_type": "stream",
          "name": "stdout",
          "text": [
            "<class 'pandas.core.frame.DataFrame'>\n",
            "RangeIndex: 300000 entries, 0 to 299999\n",
            "Data columns (total 15 columns):\n",
            " #   Column  Non-Null Count   Dtype  \n",
            "---  ------  --------------   -----  \n",
            " 0   cont1   300000 non-null  float64\n",
            " 1   cont2   300000 non-null  float64\n",
            " 2   cont3   300000 non-null  float64\n",
            " 3   cont4   300000 non-null  float64\n",
            " 4   cont5   300000 non-null  float64\n",
            " 5   cont6   300000 non-null  float64\n",
            " 6   cont7   300000 non-null  float64\n",
            " 7   cont8   300000 non-null  float64\n",
            " 8   cont9   300000 non-null  float64\n",
            " 9   cont10  300000 non-null  float64\n",
            " 10  cont11  300000 non-null  float64\n",
            " 11  cont12  300000 non-null  float64\n",
            " 12  cont13  300000 non-null  float64\n",
            " 13  cont14  300000 non-null  float64\n",
            " 14  target  300000 non-null  float64\n",
            "dtypes: float64(15)\n",
            "memory usage: 34.3 MB\n"
          ]
        }
      ]
    },
    {
      "cell_type": "code",
      "metadata": {
        "colab": {
          "base_uri": "https://localhost:8080/"
        },
        "id": "QgyI5VZ1wXjH",
        "outputId": "56d27ba8-4867-4536-ab77-5f017102006e"
      },
      "source": [
        "print(df_dataset_import.describe())"
      ],
      "execution_count": 19,
      "outputs": [
        {
          "output_type": "stream",
          "name": "stdout",
          "text": [
            "               cont1          cont2  ...         cont14         target\n",
            "count  300000.000000  300000.000000  ...  300000.000000  300000.000000\n",
            "mean        0.506873       0.497898  ...       0.503713       7.905661\n",
            "std         0.203976       0.228159  ...       0.208238       0.733071\n",
            "min        -0.082263      -0.031397  ...       0.166367       0.000000\n",
            "25%         0.343078       0.319170  ...       0.308673       7.329367\n",
            "50%         0.484005       0.553209  ...       0.431845       7.940571\n",
            "75%         0.643789       0.731263  ...       0.712653       8.470084\n",
            "max         1.016227       0.859697  ...       0.868506      10.267569\n",
            "\n",
            "[8 rows x 15 columns]\n"
          ]
        }
      ]
    },
    {
      "cell_type": "code",
      "metadata": {
        "colab": {
          "base_uri": "https://localhost:8080/"
        },
        "id": "wz9iKsUswXjI",
        "outputId": "da2128d2-f4ef-43e8-dd1b-441908a27f10"
      },
      "source": [
        "print(df_dataset_import.isnull().sum())\n",
        "print('Total number of NaN in the dataframe: ', df_dataset_import.isnull().sum().sum())"
      ],
      "execution_count": 20,
      "outputs": [
        {
          "output_type": "stream",
          "name": "stdout",
          "text": [
            "cont1     0\n",
            "cont2     0\n",
            "cont3     0\n",
            "cont4     0\n",
            "cont5     0\n",
            "cont6     0\n",
            "cont7     0\n",
            "cont8     0\n",
            "cont9     0\n",
            "cont10    0\n",
            "cont11    0\n",
            "cont12    0\n",
            "cont13    0\n",
            "cont14    0\n",
            "target    0\n",
            "dtype: int64\n",
            "Total number of NaN in the dataframe:  0\n"
          ]
        }
      ]
    },
    {
      "cell_type": "markdown",
      "metadata": {
        "id": "0ZBQ1s2bwXjI"
      },
      "source": [
        "### 1.e) Splitting Data into Sets"
      ]
    },
    {
      "cell_type": "code",
      "metadata": {
        "colab": {
          "base_uri": "https://localhost:8080/"
        },
        "id": "QNydPt1uwXjI",
        "outputId": "b9e0b0b4-4558-4c22-9f26-f0a69279818a"
      },
      "source": [
        "# Use variable total_column_count to hold the number of columns in the dataframe\n",
        "total_column_count = len(df_dataset_import.columns)\n",
        "\n",
        "# Set up variable total_feature_count for the total number of attribute columns\n",
        "total_feature_count = total_column_count-1\n",
        "\n",
        "# We create attribute-only and target-only datasets (df_features_train and df_target_train)\n",
        "df_target_train = df_dataset_import['target']\n",
        "df_features_train = df_dataset_import.drop(['target'], axis=1)\n",
        "\n",
        "print(\"df_dataset_import.shape: {} df_features_train.shape: {} df_target_train.shape: {}\".format(df_dataset_import.shape, df_features_train.shape, df_target_train.shape))"
      ],
      "execution_count": 21,
      "outputs": [
        {
          "output_type": "stream",
          "name": "stdout",
          "text": [
            "df_dataset_import.shape: (300000, 15) df_features_train.shape: (300000, 14) df_target_train.shape: (300000,)\n"
          ]
        }
      ]
    },
    {
      "cell_type": "markdown",
      "metadata": {
        "id": "VKU_2CL74vh-"
      },
      "source": [
        "### 1.f) Set up the parameters for data visualization"
      ]
    },
    {
      "cell_type": "code",
      "metadata": {
        "id": "7D9OChW94yP0"
      },
      "source": [
        "# Set up the number of row and columns for visualization display. display_rows * display_columns should be >= total_feature_count\n",
        "display_columns = 4\n",
        "if total_feature_count % display_columns == 0 :\n",
        "    display_rows = total_feature_count // display_columns\n",
        "else :\n",
        "    display_rows = (total_feature_count // display_columns) + 1\n",
        "    \n",
        "# Set figure width to display the data visualization plots\n",
        "fig_size = plt.rcParams[\"figure.figsize\"]\n",
        "fig_size[0] = display_columns * 4\n",
        "fig_size[1] = display_rows * 4\n",
        "plt.rcParams[\"figure.figsize\"] = fig_size"
      ],
      "execution_count": 22,
      "outputs": []
    },
    {
      "cell_type": "code",
      "metadata": {
        "id": "YLRgAYnMwXjJ"
      },
      "source": [
        "if NOTIFY_STATUS: status_notify(\"Task 1 - Prepare Environment completed! \"+datetime.now().strftime('%a %B %d, %Y %I:%M:%S %p'))"
      ],
      "execution_count": 23,
      "outputs": []
    },
    {
      "cell_type": "markdown",
      "metadata": {
        "id": "ZivQJCZowXjK"
      },
      "source": [
        "## Task 2 - Summarize and Visualize Data"
      ]
    },
    {
      "cell_type": "code",
      "metadata": {
        "id": "F5H90pxZwXjK"
      },
      "source": [
        "if NOTIFY_STATUS: status_notify(\"Task 2 - Summarize and Visualize Data has begun! \"+datetime.now().strftime('%a %B %d, %Y %I:%M:%S %p'))"
      ],
      "execution_count": 24,
      "outputs": []
    },
    {
      "cell_type": "code",
      "metadata": {
        "colab": {
          "base_uri": "https://localhost:8080/",
          "height": 919
        },
        "id": "OBhr7SGRwXjK",
        "tags": [],
        "outputId": "3b3dc20f-b962-414c-b891-e530b1dd3d6a"
      },
      "source": [
        "# Histograms for each attribute\n",
        "df_features_train.plot(kind='hist', subplots=True, layout=(display_rows, display_columns))\n",
        "plt.show()"
      ],
      "execution_count": 25,
      "outputs": [
        {
          "output_type": "display_data",
          "data": {
            "image/png": "[encoded data removed]",
            "text/plain": [
              "<Figure size 1152x1152 with 16 Axes>"
            ]
          },
          "metadata": {
            "needs_background": "light"
          }
        }
      ]
    },
    {
      "cell_type": "code",
      "metadata": {
        "colab": {
          "base_uri": "https://localhost:8080/",
          "height": 918
        },
        "id": "NHtCofAgwXjL",
        "outputId": "b7393adf-cc8e-4739-95f4-6820bde2b8e7"
      },
      "source": [
        "# Box and Whisker plot for each attribute\n",
        "df_features_train.plot(kind='box', subplots=True, layout=(display_rows, display_columns))\n",
        "plt.show()"
      ],
      "execution_count": 26,
      "outputs": [
        {
          "output_type": "display_data",
          "data": {
            "image/png": "[encoded data removed]",
            "text/plain": [
              "<Figure size 1152x1152 with 16 Axes>"
            ]
          },
          "metadata": {
            "needs_background": "light"
          }
        }
      ]
    },
    {
      "cell_type": "code",
      "metadata": {
        "colab": {
          "base_uri": "https://localhost:8080/",
          "height": 1000
        },
        "id": "HXUm5_nkwXjL",
        "outputId": "8aa7e071-d983-4609-a04b-37532cdfece2"
      },
      "source": [
        "# Correlation matrix\n",
        "fig = plt.figure(figsize=(20, 20))\n",
        "correlations = df_features_train.corr(method='pearson')\n",
        "sns.heatmap(correlations, annot=True, cmap=plt.cm.PuBu)\n",
        "plt.show()"
      ],
      "execution_count": 27,
      "outputs": [
        {
          "output_type": "display_data",
          "data": {
            "image/png": "[encoded data removed]",
            "text/plain": [
              "<Figure size 1440x1440 with 2 Axes>"
            ]
          },
          "metadata": {
            "needs_background": "light"
          }
        }
      ]
    },
    {
      "cell_type": "code",
      "metadata": {
        "id": "yHcRjiadwXjL"
      },
      "source": [
        "if NOTIFY_STATUS: status_notify(\"Task 2 - Summarize and Visualize Data completed! \"+datetime.now().strftime('%a %B %d, %Y %I:%M:%S %p'))"
      ],
      "execution_count": 28,
      "outputs": []
    },
    {
      "cell_type": "markdown",
      "metadata": {
        "id": "-8rH-HXuwXjM"
      },
      "source": [
        "## Task 3 - Train and Evaluate Models"
      ]
    },
    {
      "cell_type": "code",
      "metadata": {
        "id": "UnD36SUzwXjM"
      },
      "source": [
        "if NOTIFY_STATUS: status_notify(\"Task 3 - Train and Evaluate Models has begun! \"+datetime.now().strftime('%a %B %d, %Y %I:%M:%S %p'))"
      ],
      "execution_count": 29,
      "outputs": []
    },
    {
      "cell_type": "markdown",
      "metadata": {
        "id": "C5MXnEfq0-PW"
      },
      "source": [
        "### 3.a) Splitting Data into Training and Validation Sets"
      ]
    },
    {
      "cell_type": "code",
      "metadata": {
        "colab": {
          "base_uri": "https://localhost:8080/"
        },
        "id": "AI2yMOlA6PwG",
        "outputId": "7773985b-1e43-4fee-d3a1-4f9d17805873"
      },
      "source": [
        "# Split the data further into training and validation datasets\n",
        "df_dataset_train, df_dataset_valid = train_test_split(df_dataset_import, test_size=VAL_SET_RATIO, random_state=RNG_SEED)\n",
        "print(\"df_dataset_train.shape: {} df_dataset_valid.shape: {}\".format(df_dataset_train.shape, df_dataset_valid.shape))"
      ],
      "execution_count": 30,
      "outputs": [
        {
          "output_type": "stream",
          "name": "stdout",
          "text": [
            "df_dataset_train.shape: (240000, 15) df_dataset_valid.shape: (60000, 15)\n"
          ]
        }
      ]
    },
    {
      "cell_type": "code",
      "metadata": {
        "id": "QY2ulFc8wXjR"
      },
      "source": [
        "# Finalize the training and validation datasets for the modeling activities\n",
        "tfds_train = tfdf.keras.pd_dataframe_to_tf_dataset(df_dataset_train, label='target', task = tfdf.keras.Task.REGRESSION)\n",
        "tfds_valid = tfdf.keras.pd_dataframe_to_tf_dataset(df_dataset_valid, label='target', task = tfdf.keras.Task.REGRESSION)"
      ],
      "execution_count": 31,
      "outputs": []
    },
    {
      "cell_type": "markdown",
      "metadata": {
        "id": "2_pts_ZN1J3g"
      },
      "source": [
        "### 3.b) Train and Evaluate the Random Forest Model"
      ]
    },
    {
      "cell_type": "code",
      "metadata": {
        "colab": {
          "base_uri": "https://localhost:8080/"
        },
        "id": "Bbls2rTF3l8E",
        "outputId": "a17264ef-6667-4e13-8cdb-646d1f536ac1"
      },
      "source": [
        "# Define the baseline model for benchmarking\n",
        "start_time_module = datetime.now()\n",
        "reset_random()\n",
        "RF_model = tfdf.keras.RandomForestModel(task = tfdf.keras.Task.REGRESSION)\n",
        "\n",
        "# Optionally, add evaluation metrics.\n",
        "RF_model.compile(metrics=DEFAULT_METRICS)\n",
        "\n",
        "# Train the model.\n",
        "# \"sys_pipes\" is optional. It enables the display of the training logs.\n",
        "with sys_pipes():\n",
        "    RF_model.fit(x=tfds_train)\n",
        "print ('Model training time:', (datetime.now() - start_time_module), '\\n')"
      ],
      "execution_count": 32,
      "outputs": [
        {
          "output_type": "stream",
          "name": "stdout",
          "text": [
            "3731/3750 [============================>.] - ETA: 0s"
          ]
        },
        {
          "output_type": "stream",
          "name": "stderr",
          "text": [
            "[INFO kernel.cc:736] Start Yggdrasil model training\n",
            "[INFO kernel.cc:737] Collect training examples\n",
            "[INFO kernel.cc:392] Number of batches: 3750\n",
            "[INFO kernel.cc:393] Number of examples: 240000\n",
            "[INFO kernel.cc:759] Dataset:\n",
            "Number of records: 240000\n",
            "Number of columns: 15\n",
            "\n",
            "Number of columns by type:\n",
            "\tNUMERICAL: 15 (100%)\n",
            "\n",
            "Columns:\n",
            "\n",
            "NUMERICAL: 15 (100%)\n",
            "\t0: \"cont1\" NUMERICAL mean:0.506927 min:-0.0772377 max:1.01623 sd:0.204115\n",
            "\t1: \"cont10\" NUMERICAL mean:0.520411 min:-0.085046 max:1.19995 sd:0.201994\n",
            "\t2: \"cont11\" NUMERICAL mean:0.483942 min:0.0832767 max:1.02262 sd:0.22019\n",
            "\t3: \"cont12\" NUMERICAL mean:0.506728 min:0.091488 max:1.04903 sd:0.218957\n",
            "\t4: \"cont13\" NUMERICAL mean:0.55341 min:0.0353633 max:0.977845 sd:0.229728\n",
            "\t5: \"cont14\" NUMERICAL mean:0.503661 min:0.166367 max:0.868506 sd:0.208206\n",
            "\t6: \"cont2\" NUMERICAL mean:0.497598 min:-0.0313975 max:0.859697 sd:0.22809\n",
            "\t7: \"cont3\" NUMERICAL mean:0.521296 min:0.0209669 max:1.00695 sd:0.200616\n",
            "\t8: \"cont4\" NUMERICAL mean:0.515783 min:0.154548 max:1.0104 sd:0.233045\n",
            "\t9: \"cont5\" NUMERICAL mean:0.50192 min:0.276377 max:1.03405 sd:0.220764\n",
            "\t10: \"cont6\" NUMERICAL mean:0.526421 min:0.0661656 max:1.04386 sd:0.217942\n",
            "\t11: \"cont7\" NUMERICAL mean:0.487785 min:-0.0976663 max:1.06617 sd:0.181148\n",
            "\t12: \"cont8\" NUMERICAL mean:0.525242 min:0.21726 max:1.02443 sd:0.216252\n",
            "\t13: \"cont9\" NUMERICAL mean:0.459816 min:-0.240604 max:1.00032 sd:0.196744\n",
            "\t14: \"__LABEL\" NUMERICAL mean:7.90633 min:0 max:10.2676 sd:0.733096\n",
            "\n",
            "Terminology:\n",
            "\tnas: Number of non-available (i.e. missing) values.\n",
            "\tood: Out of dictionary.\n",
            "\tmanually-defined: Attribute which type is manually defined by the user i.e. the type was not automatically inferred.\n",
            "\ttokenized: The attribute value is obtained through tokenization.\n",
            "\thas-dict: The attribute is attached to a string dictionary e.g. a categorical attribute stored as a string.\n",
            "\tvocab-size: Number of unique values.\n",
            "\n",
            "[INFO kernel.cc:762] Configure learner\n",
            "[INFO kernel.cc:787] Training config:\n",
            "learner: \"RANDOM_FOREST\"\n",
            "features: \"cont1\"\n",
            "features: \"cont10\"\n",
            "features: \"cont11\"\n",
            "features: \"cont12\"\n",
            "features: \"cont13\"\n",
            "features: \"cont14\"\n",
            "features: \"cont2\"\n",
            "features: \"cont3\"\n",
            "features: \"cont4\"\n",
            "features: \"cont5\"\n",
            "features: \"cont6\"\n",
            "features: \"cont7\"\n",
            "features: \"cont8\"\n",
            "features: \"cont9\"\n",
            "label: \"__LABEL\"\n",
            "task: REGRESSION\n",
            "[yggdrasil_decision_forests.model.random_forest.proto.random_forest_config] {\n",
            "  num_trees: 300\n",
            "  decision_tree {\n",
            "    max_depth: 16\n",
            "    min_examples: 5\n",
            "    in_split_min_examples_check: true\n",
            "    missing_value_policy: GLOBAL_IMPUTATION\n",
            "    allow_na_conditions: false\n",
            "    categorical_set_greedy_forward {\n",
            "      sampling: 0.1\n",
            "      max_num_items: -1\n",
            "      min_item_frequency: 1\n",
            "    }\n",
            "    growing_strategy_local {\n",
            "    }\n",
            "    categorical {\n",
            "      cart {\n",
            "      }\n",
            "    }\n",
            "    num_candidate_attributes_ratio: -1\n",
            "    axis_aligned_split {\n",
            "    }\n",
            "    internal {\n",
            "      sorting_strategy: PRESORTED\n",
            "    }\n",
            "  }\n",
            "  winner_take_all_inference: true\n",
            "  compute_oob_performances: true\n",
            "  compute_oob_variable_importances: false\n",
            "  adapt_bootstrap_size_ratio_for_maximum_training_duration: false\n",
            "}\n",
            "\n",
            "[INFO kernel.cc:790] Deployment config:\n",
            "num_threads: 6\n",
            "\n",
            "[INFO kernel.cc:817] Train model\n",
            "[INFO random_forest.cc:315] Training random forest on 240000 example(s) and 14 feature(s).\n",
            "[INFO random_forest.cc:628] Training of tree  1/300 (tree index:1) done rmse:0.769231\n",
            "[INFO random_forest.cc:628] Training of tree  11/300 (tree index:9) done rmse:0.726208\n",
            "[INFO random_forest.cc:628] Training of tree  19/300 (tree index:18) done rmse:0.716243\n",
            "[INFO random_forest.cc:628] Training of tree  29/300 (tree index:28) done rmse:0.711933\n",
            "[INFO random_forest.cc:628] Training of tree  37/300 (tree index:36) done rmse:0.710302\n",
            "[INFO random_forest.cc:628] Training of tree  47/300 (tree index:46) done rmse:0.709093\n",
            "[INFO random_forest.cc:628] Training of tree  55/300 (tree index:54) done rmse:0.708554\n",
            "[INFO random_forest.cc:628] Training of tree  65/300 (tree index:64) done rmse:0.708078\n",
            "[INFO random_forest.cc:628] Training of tree  73/300 (tree index:72) done rmse:0.707852\n",
            "[INFO random_forest.cc:628] Training of tree  83/300 (tree index:82) done rmse:0.707519\n",
            "[INFO random_forest.cc:628] Training of tree  91/300 (tree index:90) done rmse:0.707294\n",
            "[INFO random_forest.cc:628] Training of tree  101/300 (tree index:99) done rmse:0.707023\n",
            "[INFO random_forest.cc:628] Training of tree  109/300 (tree index:108) done rmse:0.706916\n",
            "[INFO random_forest.cc:628] Training of tree  119/300 (tree index:118) done rmse:0.706729\n",
            "[INFO random_forest.cc:628] Training of tree  127/300 (tree index:126) done rmse:0.706608\n",
            "[INFO random_forest.cc:628] Training of tree  136/300 (tree index:135) done rmse:0.70651\n",
            "[INFO random_forest.cc:628] Training of tree  145/300 (tree index:144) done rmse:0.706423\n",
            "[INFO random_forest.cc:628] Training of tree  154/300 (tree index:153) done rmse:0.706298\n",
            "[INFO random_forest.cc:628] Training of tree  163/300 (tree index:162) done rmse:0.70625\n",
            "[INFO random_forest.cc:628] Training of tree  172/300 (tree index:171) done rmse:0.706186\n",
            "[INFO random_forest.cc:628] Training of tree  181/300 (tree index:180) done rmse:0.70613\n",
            "[INFO random_forest.cc:628] Training of tree  190/300 (tree index:189) done rmse:0.706095\n",
            "[INFO random_forest.cc:628] Training of tree  199/300 (tree index:198) done rmse:0.706068\n",
            "[INFO random_forest.cc:628] Training of tree  208/300 (tree index:207) done rmse:0.706009\n",
            "[INFO random_forest.cc:628] Training of tree  217/300 (tree index:216) done rmse:0.705982\n",
            "[INFO random_forest.cc:628] Training of tree  227/300 (tree index:226) done rmse:0.705911\n",
            "[INFO random_forest.cc:628] Training of tree  235/300 (tree index:234) done rmse:0.705859\n",
            "[INFO random_forest.cc:628] Training of tree  245/300 (tree index:244) done rmse:0.70582\n",
            "[INFO random_forest.cc:628] Training of tree  253/300 (tree index:252) done rmse:0.705809\n",
            "[INFO random_forest.cc:628] Training of tree  263/300 (tree index:262) done rmse:0.705774\n",
            "[INFO random_forest.cc:628] Training of tree  271/300 (tree index:270) done rmse:0.705755\n",
            "[INFO random_forest.cc:628] Training of tree  281/300 (tree index:280) done rmse:0.705732\n",
            "[INFO random_forest.cc:628] Training of tree  289/300 (tree index:288) done rmse:0.705704\n",
            "[INFO random_forest.cc:628] Training of tree  299/300 (tree index:298) done rmse:0.705683\n",
            "[INFO random_forest.cc:628] Training of tree  300/300 (tree index:299) done rmse:0.705685\n",
            "[INFO random_forest.cc:696] Final OOB metrics: rmse:0.705685\n",
            "[INFO kernel.cc:828] Export model in log directory: /tmp/tmp2bnwts8p\n",
            "[INFO kernel.cc:836] Save model in resources\n",
            "[INFO kernel.cc:988] Loading model from path\n",
            "[INFO decision_forest.cc:590] Model loaded with 300 root(s), 3428550 node(s), and 14 input feature(s).\n",
            "[INFO abstract_model.cc:993] Engine \"RandomForestOptPred\" built\n",
            "[INFO kernel.cc:848] Use fast generic engine\n"
          ]
        },
        {
          "output_type": "stream",
          "name": "stdout",
          "text": [
            "\b\b\b\b\b\b\b\b\b\b\b\b\b\b\b\b\b\b\b\b\b\b\b\b\b\b\b\b\b\b\b\b\b\b\b\b\b\b\b\b\b\b\b\b\b\b\b\b\b\b\b\b\r3750/3750 [==============================] - 425s 112ms/step\n",
            "Model training time: 0:07:29.683693 \n",
            "\n"
          ]
        }
      ]
    },
    {
      "cell_type": "code",
      "metadata": {
        "colab": {
          "base_uri": "https://localhost:8080/"
        },
        "id": "euAVix08EaDn",
        "outputId": "318b5d2a-3c90-4717-92d3-734c55f8acdc"
      },
      "source": [
        "RF_eval = RF_model.evaluate(tfds_valid, return_dict=True)\n",
        "print()\n",
        "\n",
        "for name, value in RF_eval.items():\n",
        "    print(f\"{name}: {value:.4f}\")"
      ],
      "execution_count": 33,
      "outputs": [
        {
          "output_type": "stream",
          "name": "stdout",
          "text": [
            "938/938 [==============================] - 9s 9ms/step - loss: 0.0000e+00 - rmse: 0.7047\n",
            "\n",
            "loss: 0.0000\n",
            "rmse: 0.7047\n"
          ]
        }
      ]
    },
    {
      "cell_type": "code",
      "metadata": {
        "colab": {
          "base_uri": "https://localhost:8080/",
          "height": 404
        },
        "id": "mW_6wwd_kdSH",
        "outputId": "8275ef9a-c23b-4cb5-ba79-e705c78cd593"
      },
      "source": [
        "tfdf.model_plotter.plot_model_in_colab(RF_model)"
      ],
      "execution_count": 34,
      "outputs": [
        {
          "output_type": "execute_result",
          "data": {
            "text/html": [
              "\n",
              "<script src=\"https://d3js.org/d3.v6.min.js\"></script>\n",
              "<div id=\"tree_plot_cc65c222c9c143dc9d89ef2d0b49bc41\"></div>\n",
              "<script>\n",
              "/*\n",
              " * Copyright 2021 Google LLC.\n",
              " * Licensed under the Apache License, Version 2.0 (the \"License\");\n",
              " * you may not use this file except in compliance with the License.\n",
              " * You may obtain a copy of the License at\n",
              " *\n",
              " *     https://www.apache.org/licenses/LICENSE-2.0\n",
              " *\n",
              " * Unless required by applicable law or agreed to in writing, software\n",
              " * distributed under the License is distributed on an \"AS IS\" BASIS,\n",
              " * WITHOUT WARRANTIES OR CONDITIONS OF ANY KIND, either express or implied.\n",
              " * See the License for the specific language governing permissions and\n",
              " * limitations under the License.\n",
              " */\n",
              "\n",
              "/**\n",
              " *  Plotting of decision trees generated by TF-DF.\n",
              " *\n",
              " *  A tree is a recursive structure of node objects.\n",
              " *  A node contains one or more of the following components:\n",
              " *\n",
              " *    - A value: Representing the output of the node. If the node is not a leaf,\n",
              " *      the value is only present for analysis i.e. it is not used for\n",
              " *      predictions.\n",
              " *\n",
              " *    - A condition : For non-leaf nodes, the condition (also known as split)\n",
              " *      defines a binary test to branch to the positive or negative child.\n",
              " *\n",
              " *    - An explanation: Generally a plot showing the relation between the label\n",
              " *      and the condition to give insights about the effect of the condition.\n",
              " *\n",
              " *    - Two children : For non-leaf nodes, the children nodes. The first\n",
              " *      children (i.e. \"node.children[0]\") is the negative children (drawn in\n",
              " *      red). The second children is the positive one (drawn in green).\n",
              " *\n",
              " */\n",
              "\n",
              "/**\n",
              " * Plots a single decision tree into a DOM element.\n",
              " * @param {!options} options Dictionary of configurations.\n",
              " * @param {!tree} raw_tree Recursive tree structure.\n",
              " * @param {string} canvas_id Id of the output dom element.\n",
              " */\n",
              "function display_tree(options, raw_tree, canvas_id) {\n",
              "  console.log(options);\n",
              "\n",
              "  // Determine the node placement.\n",
              "  const tree_struct = d3.tree().nodeSize(\n",
              "      [options.node_y_offset, options.node_x_offset])(d3.hierarchy(raw_tree));\n",
              "\n",
              "  // Boundaries of the node placement.\n",
              "  let x_min = Infinity;\n",
              "  let x_max = -x_min;\n",
              "  let y_min = Infinity;\n",
              "  let y_max = -x_min;\n",
              "\n",
              "  tree_struct.each(d => {\n",
              "    if (d.x > x_max) x_max = d.x;\n",
              "    if (d.x < x_min) x_min = d.x;\n",
              "    if (d.y > y_max) y_max = d.y;\n",
              "    if (d.y < y_min) y_min = d.y;\n",
              "  });\n",
              "\n",
              "  // Size of the plot.\n",
              "  const width = y_max - y_min + options.node_x_size + options.margin * 2;\n",
              "  const height = x_max - x_min + options.node_y_size + options.margin * 2 +\n",
              "      options.node_y_offset - options.node_y_size;\n",
              "\n",
              "  const plot = d3.select(canvas_id);\n",
              "\n",
              "  // Tool tip\n",
              "  options.tooltip = plot.append('div')\n",
              "                        .attr('width', 100)\n",
              "                        .attr('height', 100)\n",
              "                        .style('padding', '4px')\n",
              "                        .style('background', '#fff')\n",
              "                        .style('box-shadow', '4px 4px 0px rgba(0,0,0,0.1)')\n",
              "                        .style('border', '1px solid black')\n",
              "                        .style('font-family', 'sans-serif')\n",
              "                        .style('font-size', options.font_size)\n",
              "                        .style('position', 'absolute')\n",
              "                        .style('z-index', '10')\n",
              "                        .attr('pointer-events', 'none')\n",
              "                        .style('display', 'none');\n",
              "\n",
              "  // Create canvas\n",
              "  const svg = plot.append('svg').attr('width', width).attr('height', height);\n",
              "  const graph =\n",
              "      svg.style('overflow', 'visible')\n",
              "          .append('g')\n",
              "          .attr('font-family', 'sans-serif')\n",
              "          .attr('font-size', options.font_size)\n",
              "          .attr(\n",
              "              'transform',\n",
              "              () => `translate(${options.margin},${\n",
              "                  - x_min + options.node_y_offset / 2 + options.margin})`);\n",
              "\n",
              "  // Plot bounding box.\n",
              "  if (options.show_plot_bounding_box) {\n",
              "    svg.append('rect')\n",
              "        .attr('width', width)\n",
              "        .attr('height', height)\n",
              "        .attr('fill', 'none')\n",
              "        .attr('stroke-width', 1.0)\n",
              "        .attr('stroke', 'black');\n",
              "  }\n",
              "\n",
              "  // Draw the edges.\n",
              "  display_edges(options, graph, tree_struct);\n",
              "\n",
              "  // Draw the nodes.\n",
              "  display_nodes(options, graph, tree_struct);\n",
              "}\n",
              "\n",
              "/**\n",
              " * Draw the nodes of the tree.\n",
              " * @param {!options} options Dictionary of configurations.\n",
              " * @param {!graph} graph D3 search handle containing the graph.\n",
              " * @param {!tree_struct} tree_struct Structure of the tree (node placement,\n",
              " *     data, etc.).\n",
              " */\n",
              "function display_nodes(options, graph, tree_struct) {\n",
              "  const nodes = graph.append('g')\n",
              "                    .selectAll('g')\n",
              "                    .data(tree_struct.descendants())\n",
              "                    .join('g')\n",
              "                    .attr('transform', d => `translate(${d.y},${d.x})`);\n",
              "\n",
              "  nodes.append('rect')\n",
              "      .attr('x', 0.5)\n",
              "      .attr('y', 0.5)\n",
              "      .attr('width', options.node_x_size)\n",
              "      .attr('height', options.node_y_size)\n",
              "      .attr('stroke', 'lightgrey')\n",
              "      .attr('stroke-width', 1)\n",
              "      .attr('fill', 'white')\n",
              "      .attr('y', -options.node_y_size / 2);\n",
              "\n",
              "  // Brackets on the right of condition nodes without children.\n",
              "  non_leaf_node_without_children =\n",
              "      nodes.filter(node => node.data.condition != null && node.children == null)\n",
              "          .append('g')\n",
              "          .attr('transform', `translate(${options.node_x_size},0)`);\n",
              "\n",
              "  non_leaf_node_without_children.append('path')\n",
              "      .attr('d', 'M0,0 C 10,0 0,10 10,10')\n",
              "      .attr('fill', 'none')\n",
              "      .attr('stroke-width', 1.0)\n",
              "      .attr('stroke', '#F00');\n",
              "\n",
              "  non_leaf_node_without_children.append('path')\n",
              "      .attr('d', 'M0,0 C 10,0 0,-10 10,-10')\n",
              "      .attr('fill', 'none')\n",
              "      .attr('stroke-width', 1.0)\n",
              "      .attr('stroke', '#0F0');\n",
              "\n",
              "  const node_content = nodes.append('g').attr(\n",
              "      'transform',\n",
              "      `translate(0,${options.node_padding - options.node_y_size / 2})`);\n",
              "\n",
              "  node_content.append(node => create_node_element(options, node));\n",
              "}\n",
              "\n",
              "/**\n",
              " * Creates the D3 content for a single node.\n",
              " * @param {!options} options Dictionary of configurations.\n",
              " * @param {!node} node Node to draw.\n",
              " * @return {!d3} D3 content.\n",
              " */\n",
              "function create_node_element(options, node) {\n",
              "  // Output accumulator.\n",
              "  let output = {\n",
              "    // Content to draw.\n",
              "    content: d3.create('svg:g'),\n",
              "    // Vertical offset to the next element to draw.\n",
              "    vertical_offset: 0\n",
              "  };\n",
              "\n",
              "  // Conditions.\n",
              "  if (node.data.condition != null) {\n",
              "    display_condition(options, node.data.condition, output);\n",
              "  }\n",
              "\n",
              "  // Values.\n",
              "  if (node.data.value != null) {\n",
              "    display_value(options, node.data.value, output);\n",
              "  }\n",
              "\n",
              "  // Explanations.\n",
              "  if (node.data.explanation != null) {\n",
              "    display_explanation(options, node.data.explanation, output);\n",
              "  }\n",
              "\n",
              "  return output.content.node();\n",
              "}\n",
              "\n",
              "\n",
              "/**\n",
              " * Adds a single line of text inside of a node.\n",
              " * @param {!options} options Dictionary of configurations.\n",
              " * @param {string} text Text to display.\n",
              " * @param {!output} output Output display accumulator.\n",
              " */\n",
              "function display_node_text(options, text, output) {\n",
              "  output.content.append('text')\n",
              "      .attr('x', options.node_padding)\n",
              "      .attr('y', output.vertical_offset)\n",
              "      .attr('alignment-baseline', 'hanging')\n",
              "      .text(text);\n",
              "  output.vertical_offset += 10;\n",
              "}\n",
              "\n",
              "/**\n",
              " * Adds a single line of text inside of a node with a tooltip.\n",
              " * @param {!options} options Dictionary of configurations.\n",
              " * @param {string} text Text to display.\n",
              " * @param {string} tooltip Text in the Tooltip.\n",
              " * @param {!output} output Output display accumulator.\n",
              " */\n",
              "function display_node_text_with_tooltip(options, text, tooltip, output) {\n",
              "  const item = output.content.append('text')\n",
              "                   .attr('x', options.node_padding)\n",
              "                   .attr('alignment-baseline', 'hanging')\n",
              "                   .text(text);\n",
              "\n",
              "  add_tooltip(options, item, () => tooltip);\n",
              "  output.vertical_offset += 10;\n",
              "}\n",
              "\n",
              "/**\n",
              " * Adds a tooltip to a dom element.\n",
              " * @param {!options} options Dictionary of configurations.\n",
              " * @param {!dom} target Dom element to equip with a tooltip.\n",
              " * @param {!func} get_content Generates the html content of the tooltip.\n",
              " */\n",
              "function add_tooltip(options, target, get_content) {\n",
              "  function show(d) {\n",
              "    options.tooltip.style('display', 'block');\n",
              "    options.tooltip.html(get_content());\n",
              "  }\n",
              "\n",
              "  function hide(d) {\n",
              "    options.tooltip.style('display', 'none');\n",
              "  }\n",
              "\n",
              "  function move(d) {\n",
              "    options.tooltip.style('display', 'block');\n",
              "    options.tooltip.style('left', (d.pageX + 5) + 'px');\n",
              "    options.tooltip.style('top', d.pageY + 'px');\n",
              "  }\n",
              "\n",
              "  target.on('mouseover', show);\n",
              "  target.on('mouseout', hide);\n",
              "  target.on('mousemove', move);\n",
              "}\n",
              "\n",
              "/**\n",
              " * Adds a condition inside of a node.\n",
              " * @param {!options} options Dictionary of configurations.\n",
              " * @param {!condition} condition Condition to display.\n",
              " * @param {!output} output Output display accumulator.\n",
              " */\n",
              "function display_condition(options, condition, output) {\n",
              "  threshold_format = d3.format('r');\n",
              "\n",
              "  if (condition.type === 'IS_MISSING') {\n",
              "    display_node_text(options, `${condition.attribute} is missing`, output);\n",
              "    return;\n",
              "  }\n",
              "\n",
              "  if (condition.type === 'IS_TRUE') {\n",
              "    display_node_text(options, `${condition.attribute} is true`, output);\n",
              "    return;\n",
              "  }\n",
              "\n",
              "  if (condition.type === 'NUMERICAL_IS_HIGHER_THAN') {\n",
              "    format = d3.format('r');\n",
              "    display_node_text(\n",
              "        options,\n",
              "        `${condition.attribute} >= ${threshold_format(condition.threshold)}`,\n",
              "        output);\n",
              "    return;\n",
              "  }\n",
              "\n",
              "  if (condition.type === 'CATEGORICAL_IS_IN') {\n",
              "    display_node_text_with_tooltip(\n",
              "        options, `${condition.attribute} in [...]`,\n",
              "        `${condition.attribute} in [${condition.mask}]`, output);\n",
              "    return;\n",
              "  }\n",
              "\n",
              "  if (condition.type === 'CATEGORICAL_SET_CONTAINS') {\n",
              "    display_node_text_with_tooltip(\n",
              "        options, `${condition.attribute} intersect [...]`,\n",
              "        `${condition.attribute} intersect [${condition.mask}]`, output);\n",
              "    return;\n",
              "  }\n",
              "\n",
              "  if (condition.type === 'NUMERICAL_SPARSE_OBLIQUE') {\n",
              "    display_node_text_with_tooltip(\n",
              "        options, `Sparse oblique split...`,\n",
              "        `[${condition.attributes}]*[${condition.weights}]>=${\n",
              "            threshold_format(condition.threshold)}`,\n",
              "        output);\n",
              "    return;\n",
              "  }\n",
              "\n",
              "  display_node_text(\n",
              "      options, `Non supported condition ${condition.type}`, output);\n",
              "}\n",
              "\n",
              "/**\n",
              " * Adds a value inside of a node.\n",
              " * @param {!options} options Dictionary of configurations.\n",
              " * @param {!value} value Value to display.\n",
              " * @param {!output} output Output display accumulator.\n",
              " */\n",
              "function display_value(options, value, output) {\n",
              "  if (value.type === 'PROBABILITY') {\n",
              "    const left_margin = 0;\n",
              "    const right_margin = 50;\n",
              "    const plot_width = options.node_x_size - options.node_padding * 2 -\n",
              "        left_margin - right_margin;\n",
              "\n",
              "    let cusum = Array.from(d3.cumsum(value.distribution));\n",
              "    cusum.unshift(0);\n",
              "    const distribution_plot = output.content.append('g').attr(\n",
              "        'transform', `translate(0,${output.vertical_offset + 0.5})`);\n",
              "\n",
              "    distribution_plot.selectAll('rect')\n",
              "        .data(value.distribution)\n",
              "        .join('rect')\n",
              "        .attr('height', 10)\n",
              "        .attr(\n",
              "            'x',\n",
              "            (d, i) =>\n",
              "                (cusum[i] * plot_width + left_margin + options.node_padding))\n",
              "        .attr('width', (d, i) => d * plot_width)\n",
              "        .style('fill', (d, i) => d3.schemeSet1[i]);\n",
              "\n",
              "    const num_examples =\n",
              "        output.content.append('g')\n",
              "            .attr('transform', `translate(0,${output.vertical_offset})`)\n",
              "            .append('text')\n",
              "            .attr('x', options.node_x_size - options.node_padding)\n",
              "            .attr('alignment-baseline', 'hanging')\n",
              "            .attr('text-anchor', 'end')\n",
              "            .text(`(${value.num_examples})`);\n",
              "\n",
              "    const distribution_details = d3.create('ul');\n",
              "    distribution_details.selectAll('li')\n",
              "        .data(value.distribution)\n",
              "        .join('li')\n",
              "        .append('span')\n",
              "        .text(\n",
              "            (d, i) =>\n",
              "                'class ' + i + ': ' + d3.format('.3%')(value.distribution[i]));\n",
              "\n",
              "    add_tooltip(options, distribution_plot, () => distribution_details.html());\n",
              "    add_tooltip(options, num_examples, () => 'Number of examples');\n",
              "\n",
              "    output.vertical_offset += 10;\n",
              "    return;\n",
              "  }\n",
              "\n",
              "  if (value.type === 'REGRESSION') {\n",
              "    display_node_text(\n",
              "        options,\n",
              "        'value: ' + d3.format('r')(value.value) + ` (` +\n",
              "            d3.format('.6')(value.num_examples) + `)`,\n",
              "        output);\n",
              "    return;\n",
              "  }\n",
              "\n",
              "  display_node_text(options, `Non supported value ${value.type}`, output);\n",
              "}\n",
              "\n",
              "/**\n",
              " * Adds an explanation inside of a node.\n",
              " * @param {!options} options Dictionary of configurations.\n",
              " * @param {!explanation} explanation Explanation to display.\n",
              " * @param {!output} output Output display accumulator.\n",
              " */\n",
              "function display_explanation(options, explanation, output) {\n",
              "  // Margin before the explanation.\n",
              "  output.vertical_offset += 10;\n",
              "\n",
              "  display_node_text(\n",
              "      options, `Non supported explanation ${explanation.type}`, output);\n",
              "}\n",
              "\n",
              "\n",
              "/**\n",
              " * Draw the edges of the tree.\n",
              " * @param {!options} options Dictionary of configurations.\n",
              " * @param {!graph} graph D3 search handle containing the graph.\n",
              " * @param {!tree_struct} tree_struct Structure of the tree (node placement,\n",
              " *     data, etc.).\n",
              " */\n",
              "function display_edges(options, graph, tree_struct) {\n",
              "  // Draw an edge between a parent and a child node with a bezier.\n",
              "  function draw_single_edge(d) {\n",
              "    return 'M' + (d.source.y + options.node_x_size) + ',' + d.source.x + ' C' +\n",
              "        (d.source.y + options.node_x_size + options.edge_rounding) + ',' +\n",
              "        d.source.x + ' ' + (d.target.y - options.edge_rounding) + ',' +\n",
              "        d.target.x + ' ' + d.target.y + ',' + d.target.x;\n",
              "  }\n",
              "\n",
              "  graph.append('g')\n",
              "      .attr('fill', 'none')\n",
              "      .attr('stroke-width', 1.2)\n",
              "      .selectAll('path')\n",
              "      .data(tree_struct.links())\n",
              "      .join('path')\n",
              "      .attr('d', draw_single_edge)\n",
              "      .attr(\n",
              "          'stroke', d => (d.target === d.source.children[0]) ? '#0F0' : '#F00');\n",
              "}\n",
              "\n",
              "display_tree({\"margin\": 10, \"node_x_size\": 160, \"node_y_size\": 28, \"node_x_offset\": 180, \"node_y_offset\": 33, \"font_size\": 10, \"edge_rounding\": 20, \"node_padding\": 2, \"show_plot_bounding_box\": false}, {\"value\": {\"type\": \"REGRESSION\", \"value\": 7.907380104064941, \"num_examples\": 240000.0, \"standard_deviation\": 0.732613299692254}, \"condition\": {\"type\": \"NUMERICAL_IS_HIGHER_THAN\", \"attribute\": \"cont3\", \"threshold\": 0.9422399401664734}, \"children\": [{\"value\": {\"type\": \"REGRESSION\", \"value\": 8.283432960510254, \"num_examples\": 6506.0, \"standard_deviation\": 0.7630949999573186}, \"condition\": {\"type\": \"NUMERICAL_IS_HIGHER_THAN\", \"attribute\": \"cont2\", \"threshold\": 0.6198867559432983}, \"children\": [{\"value\": {\"type\": \"REGRESSION\", \"value\": 8.371118545532227, \"num_examples\": 3662.0, \"standard_deviation\": 0.8032006510434174}, \"condition\": {\"type\": \"NUMERICAL_IS_HIGHER_THAN\", \"attribute\": \"cont10\", \"threshold\": 0.5269294381141663}, \"children\": [{\"value\": {\"type\": \"REGRESSION\", \"value\": 8.132068634033203, \"num_examples\": 737.0, \"standard_deviation\": 0.8521766485622894}, \"condition\": {\"type\": \"NUMERICAL_IS_HIGHER_THAN\", \"attribute\": \"cont1\", \"threshold\": 0.60372394323349}}, {\"value\": {\"type\": \"REGRESSION\", \"value\": 8.431350708007812, \"num_examples\": 2925.0, \"standard_deviation\": 0.7788947344536408}, \"condition\": {\"type\": \"NUMERICAL_IS_HIGHER_THAN\", \"attribute\": \"cont12\", \"threshold\": 0.30637693405151367}}]}, {\"value\": {\"type\": \"REGRESSION\", \"value\": 8.170527458190918, \"num_examples\": 2844.0, \"standard_deviation\": 0.6919400444498937}, \"condition\": {\"type\": \"NUMERICAL_IS_HIGHER_THAN\", \"attribute\": \"cont4\", \"threshold\": 0.2542261779308319}, \"children\": [{\"value\": {\"type\": \"REGRESSION\", \"value\": 8.115893363952637, \"num_examples\": 1987.0, \"standard_deviation\": 0.6989652417284551}, \"condition\": {\"type\": \"NUMERICAL_IS_HIGHER_THAN\", \"attribute\": \"cont1\", \"threshold\": 0.390533447265625}}, {\"value\": {\"type\": \"REGRESSION\", \"value\": 8.297197341918945, \"num_examples\": 857.0, \"standard_deviation\": 0.6581487472325322}, \"condition\": {\"type\": \"NUMERICAL_IS_HIGHER_THAN\", \"attribute\": \"cont5\", \"threshold\": 0.8199529647827148}}]}]}, {\"value\": {\"type\": \"REGRESSION\", \"value\": 7.896902084350586, \"num_examples\": 233494.0, \"standard_deviation\": 0.728973075058205}, \"condition\": {\"type\": \"NUMERICAL_IS_HIGHER_THAN\", \"attribute\": \"cont7\", \"threshold\": 0.4911825954914093}, \"children\": [{\"value\": {\"type\": \"REGRESSION\", \"value\": 7.957575798034668, \"num_examples\": 101882.0, \"standard_deviation\": 0.7519184835535829}, \"condition\": {\"type\": \"NUMERICAL_IS_HIGHER_THAN\", \"attribute\": \"cont9\", \"threshold\": 0.47476863861083984}, \"children\": [{\"value\": {\"type\": \"REGRESSION\", \"value\": 7.911933898925781, \"num_examples\": 52719.0, \"standard_deviation\": 0.7572479954090862}, \"condition\": {\"type\": \"NUMERICAL_IS_HIGHER_THAN\", \"attribute\": \"cont13\", \"threshold\": 0.9363359212875366}}, {\"value\": {\"type\": \"REGRESSION\", \"value\": 8.006518363952637, \"num_examples\": 49163.0, \"standard_deviation\": 0.7430526475195872}, \"condition\": {\"type\": \"NUMERICAL_IS_HIGHER_THAN\", \"attribute\": \"cont12\", \"threshold\": 0.36875608563423157}}]}, {\"value\": {\"type\": \"REGRESSION\", \"value\": 7.849934101104736, \"num_examples\": 131612.0, \"standard_deviation\": 0.707136539929468}, \"condition\": {\"type\": \"NUMERICAL_IS_HIGHER_THAN\", \"attribute\": \"cont1\", \"threshold\": 0.3505733609199524}, \"children\": [{\"value\": {\"type\": \"REGRESSION\", \"value\": 7.81268310546875, \"num_examples\": 80087.0, \"standard_deviation\": 0.7198779834300171}, \"condition\": {\"type\": \"NUMERICAL_IS_HIGHER_THAN\", \"attribute\": \"cont14\", \"threshold\": 0.7923866510391235}}, {\"value\": {\"type\": \"REGRESSION\", \"value\": 7.907834053039551, \"num_examples\": 51525.0, \"standard_deviation\": 0.6828408335509508}, \"condition\": {\"type\": \"NUMERICAL_IS_HIGHER_THAN\", \"attribute\": \"cont2\", \"threshold\": 0.3601936101913452}}]}]}]}, \"#tree_plot_cc65c222c9c143dc9d89ef2d0b49bc41\")\n",
              "</script>\n"
            ],
            "text/plain": [
              "<IPython.core.display.HTML object>"
            ]
          },
          "metadata": {},
          "execution_count": 34
        }
      ]
    },
    {
      "cell_type": "code",
      "metadata": {
        "colab": {
          "base_uri": "https://localhost:8080/",
          "height": 279
        },
        "id": "QWxbO2EXcbEJ",
        "outputId": "dc419e7e-9d65-4d5b-cb67-7ddc263a49f8"
      },
      "source": [
        "logs = RF_model.make_inspector().training_logs()\n",
        "\n",
        "plt.figure(figsize=(12, 4))\n",
        "\n",
        "plt.subplot(1, 2, 1)\n",
        "plt.plot([log.num_trees for log in logs], [log.evaluation.rmse for log in logs])\n",
        "plt.xlabel(\"Number of trees\")\n",
        "plt.ylabel(\"RMSE (out-of-bag)\")\n",
        "\n",
        "plt.show()"
      ],
      "execution_count": 35,
      "outputs": [
        {
          "output_type": "display_data",
          "data": {
            "image/png": "[encoded data removed]",
            "text/plain": [
              "<Figure size 864x288 with 1 Axes>"
            ]
          },
          "metadata": {
            "needs_background": "light"
          }
        }
      ]
    },
    {
      "cell_type": "markdown",
      "metadata": {
        "id": "wa3Dfugd1U4P"
      },
      "source": [
        "### 3.c) Train and Evaluate the Decision Trees Model"
      ]
    },
    {
      "cell_type": "code",
      "metadata": {
        "colab": {
          "base_uri": "https://localhost:8080/"
        },
        "id": "bDPPbOgPFCBF",
        "outputId": "83cd116d-d49f-4ab2-9147-2f2c45a0548f"
      },
      "source": [
        "# Define the baseline model for benchmarking\n",
        "start_time_module = datetime.now()\n",
        "reset_random()\n",
        "CART_model = tfdf.keras.CartModel(task = tfdf.keras.Task.REGRESSION)\n",
        "\n",
        "# Optionally, add evaluation metrics.\n",
        "CART_model.compile(metrics=DEFAULT_METRICS)\n",
        "\n",
        "# Train the model.\n",
        "# \"sys_pipes\" is optional. It enables the display of the training logs.\n",
        "with sys_pipes():\n",
        "    CART_model.fit(x=tfds_train)\n",
        "print ('Model training time:', (datetime.now() - start_time_module), '\\n')"
      ],
      "execution_count": 36,
      "outputs": [
        {
          "output_type": "stream",
          "name": "stdout",
          "text": [
            "3744/3750 [============================>.] - ETA: 0s"
          ]
        },
        {
          "output_type": "stream",
          "name": "stderr",
          "text": [
            "[INFO kernel.cc:736] Start Yggdrasil model training\n",
            "[INFO kernel.cc:737] Collect training examples\n",
            "[INFO kernel.cc:392] Number of batches: 3750\n",
            "[INFO kernel.cc:393] Number of examples: 240000\n",
            "[INFO kernel.cc:759] Dataset:\n",
            "Number of records: 240000\n",
            "Number of columns: 15\n",
            "\n",
            "Number of columns by type:\n",
            "\tNUMERICAL: 15 (100%)\n",
            "\n",
            "Columns:\n",
            "\n",
            "NUMERICAL: 15 (100%)\n",
            "\t0: \"cont1\" NUMERICAL mean:0.506927 min:-0.0772377 max:1.01623 sd:0.204115\n",
            "\t1: \"cont10\" NUMERICAL mean:0.520411 min:-0.085046 max:1.19995 sd:0.201994\n",
            "\t2: \"cont11\" NUMERICAL mean:0.483942 min:0.0832767 max:1.02262 sd:0.22019\n",
            "\t3: \"cont12\" NUMERICAL mean:0.506728 min:0.091488 max:1.04903 sd:0.218957\n",
            "\t4: \"cont13\" NUMERICAL mean:0.55341 min:0.0353633 max:0.977845 sd:0.229728\n",
            "\t5: \"cont14\" NUMERICAL mean:0.503661 min:0.166367 max:0.868506 sd:0.208206\n",
            "\t6: \"cont2\" NUMERICAL mean:0.497598 min:-0.0313975 max:0.859697 sd:0.22809\n",
            "\t7: \"cont3\" NUMERICAL mean:0.521296 min:0.0209669 max:1.00695 sd:0.200616\n",
            "\t8: \"cont4\" NUMERICAL mean:0.515783 min:0.154548 max:1.0104 sd:0.233045\n",
            "\t9: \"cont5\" NUMERICAL mean:0.50192 min:0.276377 max:1.03405 sd:0.220764\n",
            "\t10: \"cont6\" NUMERICAL mean:0.526421 min:0.0661656 max:1.04386 sd:0.217942\n",
            "\t11: \"cont7\" NUMERICAL mean:0.487785 min:-0.0976663 max:1.06617 sd:0.181148\n",
            "\t12: \"cont8\" NUMERICAL mean:0.525242 min:0.21726 max:1.02443 sd:0.216252\n",
            "\t13: \"cont9\" NUMERICAL mean:0.459816 min:-0.240604 max:1.00032 sd:0.196744\n",
            "\t14: \"__LABEL\" NUMERICAL mean:7.90633 min:0 max:10.2676 sd:0.733096\n",
            "\n",
            "Terminology:\n",
            "\tnas: Number of non-available (i.e. missing) values.\n",
            "\tood: Out of dictionary.\n",
            "\tmanually-defined: Attribute which type is manually defined by the user i.e. the type was not automatically inferred.\n",
            "\ttokenized: The attribute value is obtained through tokenization.\n",
            "\thas-dict: The attribute is attached to a string dictionary e.g. a categorical attribute stored as a string.\n",
            "\tvocab-size: Number of unique values.\n",
            "\n",
            "[INFO kernel.cc:762] Configure learner\n",
            "[INFO kernel.cc:787] Training config:\n",
            "learner: \"CART\"\n",
            "features: \"cont1\"\n",
            "features: \"cont10\"\n",
            "features: \"cont11\"\n",
            "features: \"cont12\"\n",
            "features: \"cont13\"\n",
            "features: \"cont14\"\n",
            "features: \"cont2\"\n",
            "features: \"cont3\"\n",
            "features: \"cont4\"\n",
            "features: \"cont5\"\n",
            "features: \"cont6\"\n",
            "features: \"cont7\"\n",
            "features: \"cont8\"\n",
            "features: \"cont9\"\n",
            "label: \"__LABEL\"\n",
            "task: REGRESSION\n",
            "[yggdrasil_decision_forests.model.cart.proto.cart_config] {\n",
            "  decision_tree {\n",
            "    max_depth: 16\n",
            "    min_examples: 5\n",
            "    in_split_min_examples_check: true\n",
            "    missing_value_policy: GLOBAL_IMPUTATION\n",
            "    allow_na_conditions: false\n",
            "    categorical_set_greedy_forward {\n",
            "      sampling: 0.1\n",
            "      max_num_items: -1\n",
            "      min_item_frequency: 1\n",
            "    }\n",
            "    growing_strategy_local {\n",
            "    }\n",
            "    categorical {\n",
            "      cart {\n",
            "      }\n",
            "    }\n",
            "    num_candidate_attributes_ratio: -1\n",
            "    axis_aligned_split {\n",
            "    }\n",
            "    internal {\n",
            "      sorting_strategy: PRESORTED\n",
            "    }\n",
            "  }\n",
            "  validation_ratio: 0.1\n",
            "}\n",
            "\n",
            "[INFO kernel.cc:790] Deployment config:\n",
            "num_threads: 6\n",
            "\n",
            "[INFO kernel.cc:817] Train model\n",
            "[INFO cart.cc:174] Training CART on 240000 example(s) and 14 feature(s).\n",
            "[INFO cart.cc:375] 10311 nodes before pruning. 1 nodes after pruning.\n"
          ]
        },
        {
          "output_type": "stream",
          "name": "stdout",
          "text": [
            "\b\b\b\b\b\b\b\b\b\b\b\b\b\b\b\b\b\b\b\b\b\b\b\b\b\b\b\b\b\b\b\b\b\b\b\b\b\b\b\b\b\b\b\b\b\b\b\b\b\b\b\b\r3750/3750 [==============================] - 11s 3ms/step\n"
          ]
        },
        {
          "output_type": "stream",
          "name": "stderr",
          "text": [
            "[INFO kernel.cc:828] Export model in log directory: /tmp/tmpkdf88836\n",
            "[INFO kernel.cc:836] Save model in resources\n",
            "[INFO kernel.cc:988] Loading model from path\n",
            "[WARNING utils.cc:73] The model does not have any input features i.e. the model is constant and will always return the same prediction.\n",
            "[INFO decision_forest.cc:590] Model loaded with 1 root(s), 1 node(s), and 0 input feature(s).\n",
            "[INFO abstract_model.cc:993] Engine \"RandomForestOptPred\" built\n",
            "[INFO kernel.cc:848] Use fast generic engine\n"
          ]
        },
        {
          "output_type": "stream",
          "name": "stdout",
          "text": [
            "Model training time: 0:00:20.830486 \n",
            "\n"
          ]
        }
      ]
    },
    {
      "cell_type": "code",
      "metadata": {
        "colab": {
          "base_uri": "https://localhost:8080/"
        },
        "id": "SWVKI95XFPfG",
        "outputId": "6ca847bf-cbbf-4212-d36e-8bda24f3ebe4"
      },
      "source": [
        "CART_eval = CART_model.evaluate(tfds_valid, return_dict=True)\n",
        "print()\n",
        "\n",
        "for name, value in CART_eval.items():\n",
        "    print(f\"{name}: {value:.4f}\")"
      ],
      "execution_count": 37,
      "outputs": [
        {
          "output_type": "stream",
          "name": "stdout",
          "text": [
            "938/938 [==============================] - 2s 2ms/step - loss: 0.0000e+00 - rmse: 5.6343\n",
            "\n",
            "loss: 0.0000\n",
            "rmse: 5.6343\n"
          ]
        }
      ]
    },
    {
      "cell_type": "code",
      "metadata": {
        "colab": {
          "base_uri": "https://localhost:8080/",
          "height": 74
        },
        "id": "k0ZLkM_HgrKH",
        "outputId": "fd98cf5a-7150-45c6-954e-5db7adac84b2"
      },
      "source": [
        "tfdf.model_plotter.plot_model_in_colab(CART_model)"
      ],
      "execution_count": 38,
      "outputs": [
        {
          "output_type": "execute_result",
          "data": {
            "text/html": [
              "\n",
              "<script src=\"https://d3js.org/d3.v6.min.js\"></script>\n",
              "<div id=\"tree_plot_fb4dbaa4d24943d3a077c3300e1127ac\"></div>\n",
              "<script>\n",
              "/*\n",
              " * Copyright 2021 Google LLC.\n",
              " * Licensed under the Apache License, Version 2.0 (the \"License\");\n",
              " * you may not use this file except in compliance with the License.\n",
              " * You may obtain a copy of the License at\n",
              " *\n",
              " *     https://www.apache.org/licenses/LICENSE-2.0\n",
              " *\n",
              " * Unless required by applicable law or agreed to in writing, software\n",
              " * distributed under the License is distributed on an \"AS IS\" BASIS,\n",
              " * WITHOUT WARRANTIES OR CONDITIONS OF ANY KIND, either express or implied.\n",
              " * See the License for the specific language governing permissions and\n",
              " * limitations under the License.\n",
              " */\n",
              "\n",
              "/**\n",
              " *  Plotting of decision trees generated by TF-DF.\n",
              " *\n",
              " *  A tree is a recursive structure of node objects.\n",
              " *  A node contains one or more of the following components:\n",
              " *\n",
              " *    - A value: Representing the output of the node. If the node is not a leaf,\n",
              " *      the value is only present for analysis i.e. it is not used for\n",
              " *      predictions.\n",
              " *\n",
              " *    - A condition : For non-leaf nodes, the condition (also known as split)\n",
              " *      defines a binary test to branch to the positive or negative child.\n",
              " *\n",
              " *    - An explanation: Generally a plot showing the relation between the label\n",
              " *      and the condition to give insights about the effect of the condition.\n",
              " *\n",
              " *    - Two children : For non-leaf nodes, the children nodes. The first\n",
              " *      children (i.e. \"node.children[0]\") is the negative children (drawn in\n",
              " *      red). The second children is the positive one (drawn in green).\n",
              " *\n",
              " */\n",
              "\n",
              "/**\n",
              " * Plots a single decision tree into a DOM element.\n",
              " * @param {!options} options Dictionary of configurations.\n",
              " * @param {!tree} raw_tree Recursive tree structure.\n",
              " * @param {string} canvas_id Id of the output dom element.\n",
              " */\n",
              "function display_tree(options, raw_tree, canvas_id) {\n",
              "  console.log(options);\n",
              "\n",
              "  // Determine the node placement.\n",
              "  const tree_struct = d3.tree().nodeSize(\n",
              "      [options.node_y_offset, options.node_x_offset])(d3.hierarchy(raw_tree));\n",
              "\n",
              "  // Boundaries of the node placement.\n",
              "  let x_min = Infinity;\n",
              "  let x_max = -x_min;\n",
              "  let y_min = Infinity;\n",
              "  let y_max = -x_min;\n",
              "\n",
              "  tree_struct.each(d => {\n",
              "    if (d.x > x_max) x_max = d.x;\n",
              "    if (d.x < x_min) x_min = d.x;\n",
              "    if (d.y > y_max) y_max = d.y;\n",
              "    if (d.y < y_min) y_min = d.y;\n",
              "  });\n",
              "\n",
              "  // Size of the plot.\n",
              "  const width = y_max - y_min + options.node_x_size + options.margin * 2;\n",
              "  const height = x_max - x_min + options.node_y_size + options.margin * 2 +\n",
              "      options.node_y_offset - options.node_y_size;\n",
              "\n",
              "  const plot = d3.select(canvas_id);\n",
              "\n",
              "  // Tool tip\n",
              "  options.tooltip = plot.append('div')\n",
              "                        .attr('width', 100)\n",
              "                        .attr('height', 100)\n",
              "                        .style('padding', '4px')\n",
              "                        .style('background', '#fff')\n",
              "                        .style('box-shadow', '4px 4px 0px rgba(0,0,0,0.1)')\n",
              "                        .style('border', '1px solid black')\n",
              "                        .style('font-family', 'sans-serif')\n",
              "                        .style('font-size', options.font_size)\n",
              "                        .style('position', 'absolute')\n",
              "                        .style('z-index', '10')\n",
              "                        .attr('pointer-events', 'none')\n",
              "                        .style('display', 'none');\n",
              "\n",
              "  // Create canvas\n",
              "  const svg = plot.append('svg').attr('width', width).attr('height', height);\n",
              "  const graph =\n",
              "      svg.style('overflow', 'visible')\n",
              "          .append('g')\n",
              "          .attr('font-family', 'sans-serif')\n",
              "          .attr('font-size', options.font_size)\n",
              "          .attr(\n",
              "              'transform',\n",
              "              () => `translate(${options.margin},${\n",
              "                  - x_min + options.node_y_offset / 2 + options.margin})`);\n",
              "\n",
              "  // Plot bounding box.\n",
              "  if (options.show_plot_bounding_box) {\n",
              "    svg.append('rect')\n",
              "        .attr('width', width)\n",
              "        .attr('height', height)\n",
              "        .attr('fill', 'none')\n",
              "        .attr('stroke-width', 1.0)\n",
              "        .attr('stroke', 'black');\n",
              "  }\n",
              "\n",
              "  // Draw the edges.\n",
              "  display_edges(options, graph, tree_struct);\n",
              "\n",
              "  // Draw the nodes.\n",
              "  display_nodes(options, graph, tree_struct);\n",
              "}\n",
              "\n",
              "/**\n",
              " * Draw the nodes of the tree.\n",
              " * @param {!options} options Dictionary of configurations.\n",
              " * @param {!graph} graph D3 search handle containing the graph.\n",
              " * @param {!tree_struct} tree_struct Structure of the tree (node placement,\n",
              " *     data, etc.).\n",
              " */\n",
              "function display_nodes(options, graph, tree_struct) {\n",
              "  const nodes = graph.append('g')\n",
              "                    .selectAll('g')\n",
              "                    .data(tree_struct.descendants())\n",
              "                    .join('g')\n",
              "                    .attr('transform', d => `translate(${d.y},${d.x})`);\n",
              "\n",
              "  nodes.append('rect')\n",
              "      .attr('x', 0.5)\n",
              "      .attr('y', 0.5)\n",
              "      .attr('width', options.node_x_size)\n",
              "      .attr('height', options.node_y_size)\n",
              "      .attr('stroke', 'lightgrey')\n",
              "      .attr('stroke-width', 1)\n",
              "      .attr('fill', 'white')\n",
              "      .attr('y', -options.node_y_size / 2);\n",
              "\n",
              "  // Brackets on the right of condition nodes without children.\n",
              "  non_leaf_node_without_children =\n",
              "      nodes.filter(node => node.data.condition != null && node.children == null)\n",
              "          .append('g')\n",
              "          .attr('transform', `translate(${options.node_x_size},0)`);\n",
              "\n",
              "  non_leaf_node_without_children.append('path')\n",
              "      .attr('d', 'M0,0 C 10,0 0,10 10,10')\n",
              "      .attr('fill', 'none')\n",
              "      .attr('stroke-width', 1.0)\n",
              "      .attr('stroke', '#F00');\n",
              "\n",
              "  non_leaf_node_without_children.append('path')\n",
              "      .attr('d', 'M0,0 C 10,0 0,-10 10,-10')\n",
              "      .attr('fill', 'none')\n",
              "      .attr('stroke-width', 1.0)\n",
              "      .attr('stroke', '#0F0');\n",
              "\n",
              "  const node_content = nodes.append('g').attr(\n",
              "      'transform',\n",
              "      `translate(0,${options.node_padding - options.node_y_size / 2})`);\n",
              "\n",
              "  node_content.append(node => create_node_element(options, node));\n",
              "}\n",
              "\n",
              "/**\n",
              " * Creates the D3 content for a single node.\n",
              " * @param {!options} options Dictionary of configurations.\n",
              " * @param {!node} node Node to draw.\n",
              " * @return {!d3} D3 content.\n",
              " */\n",
              "function create_node_element(options, node) {\n",
              "  // Output accumulator.\n",
              "  let output = {\n",
              "    // Content to draw.\n",
              "    content: d3.create('svg:g'),\n",
              "    // Vertical offset to the next element to draw.\n",
              "    vertical_offset: 0\n",
              "  };\n",
              "\n",
              "  // Conditions.\n",
              "  if (node.data.condition != null) {\n",
              "    display_condition(options, node.data.condition, output);\n",
              "  }\n",
              "\n",
              "  // Values.\n",
              "  if (node.data.value != null) {\n",
              "    display_value(options, node.data.value, output);\n",
              "  }\n",
              "\n",
              "  // Explanations.\n",
              "  if (node.data.explanation != null) {\n",
              "    display_explanation(options, node.data.explanation, output);\n",
              "  }\n",
              "\n",
              "  return output.content.node();\n",
              "}\n",
              "\n",
              "\n",
              "/**\n",
              " * Adds a single line of text inside of a node.\n",
              " * @param {!options} options Dictionary of configurations.\n",
              " * @param {string} text Text to display.\n",
              " * @param {!output} output Output display accumulator.\n",
              " */\n",
              "function display_node_text(options, text, output) {\n",
              "  output.content.append('text')\n",
              "      .attr('x', options.node_padding)\n",
              "      .attr('y', output.vertical_offset)\n",
              "      .attr('alignment-baseline', 'hanging')\n",
              "      .text(text);\n",
              "  output.vertical_offset += 10;\n",
              "}\n",
              "\n",
              "/**\n",
              " * Adds a single line of text inside of a node with a tooltip.\n",
              " * @param {!options} options Dictionary of configurations.\n",
              " * @param {string} text Text to display.\n",
              " * @param {string} tooltip Text in the Tooltip.\n",
              " * @param {!output} output Output display accumulator.\n",
              " */\n",
              "function display_node_text_with_tooltip(options, text, tooltip, output) {\n",
              "  const item = output.content.append('text')\n",
              "                   .attr('x', options.node_padding)\n",
              "                   .attr('alignment-baseline', 'hanging')\n",
              "                   .text(text);\n",
              "\n",
              "  add_tooltip(options, item, () => tooltip);\n",
              "  output.vertical_offset += 10;\n",
              "}\n",
              "\n",
              "/**\n",
              " * Adds a tooltip to a dom element.\n",
              " * @param {!options} options Dictionary of configurations.\n",
              " * @param {!dom} target Dom element to equip with a tooltip.\n",
              " * @param {!func} get_content Generates the html content of the tooltip.\n",
              " */\n",
              "function add_tooltip(options, target, get_content) {\n",
              "  function show(d) {\n",
              "    options.tooltip.style('display', 'block');\n",
              "    options.tooltip.html(get_content());\n",
              "  }\n",
              "\n",
              "  function hide(d) {\n",
              "    options.tooltip.style('display', 'none');\n",
              "  }\n",
              "\n",
              "  function move(d) {\n",
              "    options.tooltip.style('display', 'block');\n",
              "    options.tooltip.style('left', (d.pageX + 5) + 'px');\n",
              "    options.tooltip.style('top', d.pageY + 'px');\n",
              "  }\n",
              "\n",
              "  target.on('mouseover', show);\n",
              "  target.on('mouseout', hide);\n",
              "  target.on('mousemove', move);\n",
              "}\n",
              "\n",
              "/**\n",
              " * Adds a condition inside of a node.\n",
              " * @param {!options} options Dictionary of configurations.\n",
              " * @param {!condition} condition Condition to display.\n",
              " * @param {!output} output Output display accumulator.\n",
              " */\n",
              "function display_condition(options, condition, output) {\n",
              "  threshold_format = d3.format('r');\n",
              "\n",
              "  if (condition.type === 'IS_MISSING') {\n",
              "    display_node_text(options, `${condition.attribute} is missing`, output);\n",
              "    return;\n",
              "  }\n",
              "\n",
              "  if (condition.type === 'IS_TRUE') {\n",
              "    display_node_text(options, `${condition.attribute} is true`, output);\n",
              "    return;\n",
              "  }\n",
              "\n",
              "  if (condition.type === 'NUMERICAL_IS_HIGHER_THAN') {\n",
              "    format = d3.format('r');\n",
              "    display_node_text(\n",
              "        options,\n",
              "        `${condition.attribute} >= ${threshold_format(condition.threshold)}`,\n",
              "        output);\n",
              "    return;\n",
              "  }\n",
              "\n",
              "  if (condition.type === 'CATEGORICAL_IS_IN') {\n",
              "    display_node_text_with_tooltip(\n",
              "        options, `${condition.attribute} in [...]`,\n",
              "        `${condition.attribute} in [${condition.mask}]`, output);\n",
              "    return;\n",
              "  }\n",
              "\n",
              "  if (condition.type === 'CATEGORICAL_SET_CONTAINS') {\n",
              "    display_node_text_with_tooltip(\n",
              "        options, `${condition.attribute} intersect [...]`,\n",
              "        `${condition.attribute} intersect [${condition.mask}]`, output);\n",
              "    return;\n",
              "  }\n",
              "\n",
              "  if (condition.type === 'NUMERICAL_SPARSE_OBLIQUE') {\n",
              "    display_node_text_with_tooltip(\n",
              "        options, `Sparse oblique split...`,\n",
              "        `[${condition.attributes}]*[${condition.weights}]>=${\n",
              "            threshold_format(condition.threshold)}`,\n",
              "        output);\n",
              "    return;\n",
              "  }\n",
              "\n",
              "  display_node_text(\n",
              "      options, `Non supported condition ${condition.type}`, output);\n",
              "}\n",
              "\n",
              "/**\n",
              " * Adds a value inside of a node.\n",
              " * @param {!options} options Dictionary of configurations.\n",
              " * @param {!value} value Value to display.\n",
              " * @param {!output} output Output display accumulator.\n",
              " */\n",
              "function display_value(options, value, output) {\n",
              "  if (value.type === 'PROBABILITY') {\n",
              "    const left_margin = 0;\n",
              "    const right_margin = 50;\n",
              "    const plot_width = options.node_x_size - options.node_padding * 2 -\n",
              "        left_margin - right_margin;\n",
              "\n",
              "    let cusum = Array.from(d3.cumsum(value.distribution));\n",
              "    cusum.unshift(0);\n",
              "    const distribution_plot = output.content.append('g').attr(\n",
              "        'transform', `translate(0,${output.vertical_offset + 0.5})`);\n",
              "\n",
              "    distribution_plot.selectAll('rect')\n",
              "        .data(value.distribution)\n",
              "        .join('rect')\n",
              "        .attr('height', 10)\n",
              "        .attr(\n",
              "            'x',\n",
              "            (d, i) =>\n",
              "                (cusum[i] * plot_width + left_margin + options.node_padding))\n",
              "        .attr('width', (d, i) => d * plot_width)\n",
              "        .style('fill', (d, i) => d3.schemeSet1[i]);\n",
              "\n",
              "    const num_examples =\n",
              "        output.content.append('g')\n",
              "            .attr('transform', `translate(0,${output.vertical_offset})`)\n",
              "            .append('text')\n",
              "            .attr('x', options.node_x_size - options.node_padding)\n",
              "            .attr('alignment-baseline', 'hanging')\n",
              "            .attr('text-anchor', 'end')\n",
              "            .text(`(${value.num_examples})`);\n",
              "\n",
              "    const distribution_details = d3.create('ul');\n",
              "    distribution_details.selectAll('li')\n",
              "        .data(value.distribution)\n",
              "        .join('li')\n",
              "        .append('span')\n",
              "        .text(\n",
              "            (d, i) =>\n",
              "                'class ' + i + ': ' + d3.format('.3%')(value.distribution[i]));\n",
              "\n",
              "    add_tooltip(options, distribution_plot, () => distribution_details.html());\n",
              "    add_tooltip(options, num_examples, () => 'Number of examples');\n",
              "\n",
              "    output.vertical_offset += 10;\n",
              "    return;\n",
              "  }\n",
              "\n",
              "  if (value.type === 'REGRESSION') {\n",
              "    display_node_text(\n",
              "        options,\n",
              "        'value: ' + d3.format('r')(value.value) + ` (` +\n",
              "            d3.format('.6')(value.num_examples) + `)`,\n",
              "        output);\n",
              "    return;\n",
              "  }\n",
              "\n",
              "  display_node_text(options, `Non supported value ${value.type}`, output);\n",
              "}\n",
              "\n",
              "/**\n",
              " * Adds an explanation inside of a node.\n",
              " * @param {!options} options Dictionary of configurations.\n",
              " * @param {!explanation} explanation Explanation to display.\n",
              " * @param {!output} output Output display accumulator.\n",
              " */\n",
              "function display_explanation(options, explanation, output) {\n",
              "  // Margin before the explanation.\n",
              "  output.vertical_offset += 10;\n",
              "\n",
              "  display_node_text(\n",
              "      options, `Non supported explanation ${explanation.type}`, output);\n",
              "}\n",
              "\n",
              "\n",
              "/**\n",
              " * Draw the edges of the tree.\n",
              " * @param {!options} options Dictionary of configurations.\n",
              " * @param {!graph} graph D3 search handle containing the graph.\n",
              " * @param {!tree_struct} tree_struct Structure of the tree (node placement,\n",
              " *     data, etc.).\n",
              " */\n",
              "function display_edges(options, graph, tree_struct) {\n",
              "  // Draw an edge between a parent and a child node with a bezier.\n",
              "  function draw_single_edge(d) {\n",
              "    return 'M' + (d.source.y + options.node_x_size) + ',' + d.source.x + ' C' +\n",
              "        (d.source.y + options.node_x_size + options.edge_rounding) + ',' +\n",
              "        d.source.x + ' ' + (d.target.y - options.edge_rounding) + ',' +\n",
              "        d.target.x + ' ' + d.target.y + ',' + d.target.x;\n",
              "  }\n",
              "\n",
              "  graph.append('g')\n",
              "      .attr('fill', 'none')\n",
              "      .attr('stroke-width', 1.2)\n",
              "      .selectAll('path')\n",
              "      .data(tree_struct.links())\n",
              "      .join('path')\n",
              "      .attr('d', draw_single_edge)\n",
              "      .attr(\n",
              "          'stroke', d => (d.target === d.source.children[0]) ? '#0F0' : '#F00');\n",
              "}\n",
              "\n",
              "display_tree({\"margin\": 10, \"node_x_size\": 160, \"node_y_size\": 28, \"node_x_offset\": 180, \"node_y_offset\": 33, \"font_size\": 10, \"edge_rounding\": 20, \"node_padding\": 2, \"show_plot_bounding_box\": false}, {\"value\": {\"type\": \"REGRESSION\", \"value\": 7.905874252319336, \"num_examples\": 215886.0, \"standard_deviation\": 0.733612206615948}}, \"#tree_plot_fb4dbaa4d24943d3a077c3300e1127ac\")\n",
              "</script>\n"
            ],
            "text/plain": [
              "<IPython.core.display.HTML object>"
            ]
          },
          "metadata": {},
          "execution_count": 38
        }
      ]
    },
    {
      "cell_type": "markdown",
      "metadata": {
        "id": "zVCQJVv21m86"
      },
      "source": [
        "### 3.d) Train and Evaluate the Gradient Boosted Trees Model"
      ]
    },
    {
      "cell_type": "code",
      "metadata": {
        "colab": {
          "base_uri": "https://localhost:8080/"
        },
        "id": "ogW3JeatFDRS",
        "outputId": "306052c2-75dc-4e38-e7e4-5f578f5df113"
      },
      "source": [
        "# Define the baseline model for benchmarking\n",
        "start_time_module = datetime.now()\n",
        "reset_random()\n",
        "GBT_model = tfdf.keras.GradientBoostedTreesModel(task = tfdf.keras.Task.REGRESSION)\n",
        "\n",
        "# Optionally, add evaluation metrics.\n",
        "GBT_model.compile(metrics=DEFAULT_METRICS)\n",
        "\n",
        "# Train the model.\n",
        "# \"sys_pipes\" is optional. It enables the display of the training logs.\n",
        "with sys_pipes():\n",
        "    GBT_model.fit(x=tfds_train)\n",
        "print ('Model training time:', (datetime.now() - start_time_module), '\\n')"
      ],
      "execution_count": 39,
      "outputs": [
        {
          "output_type": "stream",
          "name": "stdout",
          "text": [
            "3726/3750 [============================>.] - ETA: 0s"
          ]
        },
        {
          "output_type": "stream",
          "name": "stderr",
          "text": [
            "[INFO kernel.cc:736] Start Yggdrasil model training\n",
            "[INFO kernel.cc:737] Collect training examples\n",
            "[INFO kernel.cc:392] Number of batches: 3750\n",
            "[INFO kernel.cc:393] Number of examples: 240000\n",
            "[INFO kernel.cc:759] Dataset:\n",
            "Number of records: 240000\n",
            "Number of columns: 15\n",
            "\n",
            "Number of columns by type:\n",
            "\tNUMERICAL: 15 (100%)\n",
            "\n",
            "Columns:\n",
            "\n",
            "NUMERICAL: 15 (100%)\n",
            "\t0: \"cont1\" NUMERICAL mean:0.506927 min:-0.0772377 max:1.01623 sd:0.204115\n",
            "\t1: \"cont10\" NUMERICAL mean:0.520411 min:-0.085046 max:1.19995 sd:0.201994\n",
            "\t2: \"cont11\" NUMERICAL mean:0.483942 min:0.0832767 max:1.02262 sd:0.22019\n",
            "\t3: \"cont12\" NUMERICAL mean:0.506728 min:0.091488 max:1.04903 sd:0.218957\n",
            "\t4: \"cont13\" NUMERICAL mean:0.55341 min:0.0353633 max:0.977845 sd:0.229728\n",
            "\t5: \"cont14\" NUMERICAL mean:0.503661 min:0.166367 max:0.868506 sd:0.208206\n",
            "\t6: \"cont2\" NUMERICAL mean:0.497598 min:-0.0313975 max:0.859697 sd:0.22809\n",
            "\t7: \"cont3\" NUMERICAL mean:0.521296 min:0.0209669 max:1.00695 sd:0.200616\n",
            "\t8: \"cont4\" NUMERICAL mean:0.515783 min:0.154548 max:1.0104 sd:0.233045\n",
            "\t9: \"cont5\" NUMERICAL mean:0.50192 min:0.276377 max:1.03405 sd:0.220764\n",
            "\t10: \"cont6\" NUMERICAL mean:0.526421 min:0.0661656 max:1.04386 sd:0.217942\n",
            "\t11: \"cont7\" NUMERICAL mean:0.487785 min:-0.0976663 max:1.06617 sd:0.181148\n",
            "\t12: \"cont8\" NUMERICAL mean:0.525242 min:0.21726 max:1.02443 sd:0.216252\n",
            "\t13: \"cont9\" NUMERICAL mean:0.459816 min:-0.240604 max:1.00032 sd:0.196744\n",
            "\t14: \"__LABEL\" NUMERICAL mean:7.90633 min:0 max:10.2676 sd:0.733096\n",
            "\n",
            "Terminology:\n",
            "\tnas: Number of non-available (i.e. missing) values.\n",
            "\tood: Out of dictionary.\n",
            "\tmanually-defined: Attribute which type is manually defined by the user i.e. the type was not automatically inferred.\n",
            "\ttokenized: The attribute value is obtained through tokenization.\n",
            "\thas-dict: The attribute is attached to a string dictionary e.g. a categorical attribute stored as a string.\n",
            "\tvocab-size: Number of unique values.\n",
            "\n",
            "[INFO kernel.cc:762] Configure learner\n",
            "[WARNING gradient_boosted_trees.cc:1643] Subsample hyperparameter given but sampling method does not match.\n",
            "[WARNING gradient_boosted_trees.cc:1656] GOSS alpha hyperparameter given but GOSS is disabled.\n",
            "[WARNING gradient_boosted_trees.cc:1665] GOSS beta hyperparameter given but GOSS is disabled.\n",
            "[WARNING gradient_boosted_trees.cc:1677] SelGB ratio hyperparameter given but SelGB is disabled.\n",
            "[INFO kernel.cc:787] Training config:\n",
            "learner: \"GRADIENT_BOOSTED_TREES\"\n",
            "features: \"cont1\"\n",
            "features: \"cont10\"\n",
            "features: \"cont11\"\n",
            "features: \"cont12\"\n",
            "features: \"cont13\"\n",
            "features: \"cont14\"\n",
            "features: \"cont2\"\n",
            "features: \"cont3\"\n",
            "features: \"cont4\"\n",
            "features: \"cont5\"\n",
            "features: \"cont6\"\n",
            "features: \"cont7\"\n",
            "features: \"cont8\"\n",
            "features: \"cont9\"\n",
            "label: \"__LABEL\"\n",
            "task: REGRESSION\n",
            "[yggdrasil_decision_forests.model.gradient_boosted_trees.proto.gradient_boosted_trees_config] {\n",
            "  num_trees: 300\n",
            "  decision_tree {\n",
            "    max_depth: 6\n",
            "    min_examples: 5\n",
            "    in_split_min_examples_check: true\n",
            "    missing_value_policy: GLOBAL_IMPUTATION\n",
            "    allow_na_conditions: false\n",
            "    categorical_set_greedy_forward {\n",
            "      sampling: 0.1\n",
            "      max_num_items: -1\n",
            "      min_item_frequency: 1\n",
            "    }\n",
            "    growing_strategy_local {\n",
            "    }\n",
            "    categorical {\n",
            "      cart {\n",
            "      }\n",
            "    }\n",
            "    num_candidate_attributes_ratio: -1\n",
            "    axis_aligned_split {\n",
            "    }\n",
            "    internal {\n",
            "      sorting_strategy: PRESORTED\n",
            "    }\n",
            "  }\n",
            "  shrinkage: 0.1\n",
            "  validation_set_ratio: 0.1\n",
            "  early_stopping: VALIDATION_LOSS_INCREASE\n",
            "  early_stopping_num_trees_look_ahead: 30\n",
            "  l2_regularization: 0\n",
            "  lambda_loss: 1\n",
            "  mart {\n",
            "  }\n",
            "  adapt_subsample_for_maximum_training_duration: false\n",
            "  l1_regularization: 0\n",
            "  use_hessian_gain: false\n",
            "  l2_regularization_categorical: 1\n",
            "  apply_link_function: true\n",
            "  compute_permutation_variable_importance: false\n",
            "}\n",
            "\n",
            "[INFO kernel.cc:790] Deployment config:\n",
            "num_threads: 6\n",
            "\n",
            "[INFO kernel.cc:817] Train model\n",
            "[INFO gradient_boosted_trees.cc:404] Default loss set to SQUARED_ERROR\n",
            "[INFO gradient_boosted_trees.cc:1001] Training gradient boosted tree on 240000 example(s) and 14 feature(s).\n",
            "[INFO gradient_boosted_trees.cc:1044] 215886 examples used for training and 24114 examples used for validation\n",
            "[INFO gradient_boosted_trees.cc:1426] \tnum-trees:1 train-loss:0.731300 train-rmse:0.731300 valid-loss:0.726250 valid-rmse:0.726250\n",
            "[INFO gradient_boosted_trees.cc:1428] \tnum-trees:2 train-loss:0.729553 train-rmse:0.729553 valid-loss:0.724600 valid-rmse:0.724600\n",
            "[INFO gradient_boosted_trees.cc:1428] \tnum-trees:37 train-loss:0.709734 train-rmse:0.709734 valid-loss:0.708115 valid-rmse:0.708115\n",
            "[INFO gradient_boosted_trees.cc:1428] \tnum-trees:72 train-loss:0.703052 train-rmse:0.703052 valid-loss:0.704303 valid-rmse:0.704303\n",
            "[INFO gradient_boosted_trees.cc:1428] \tnum-trees:107 train-loss:0.698775 train-rmse:0.698775 valid-loss:0.702308 valid-rmse:0.702308\n",
            "[INFO gradient_boosted_trees.cc:1428] \tnum-trees:142 train-loss:0.695215 train-rmse:0.695215 valid-loss:0.700930 valid-rmse:0.700930\n",
            "[INFO gradient_boosted_trees.cc:1428] \tnum-trees:177 train-loss:0.692384 train-rmse:0.692384 valid-loss:0.700220 valid-rmse:0.700220\n",
            "[INFO gradient_boosted_trees.cc:1428] \tnum-trees:212 train-loss:0.689722 train-rmse:0.689722 valid-loss:0.699377 valid-rmse:0.699377\n",
            "[INFO gradient_boosted_trees.cc:1428] \tnum-trees:247 train-loss:0.687296 train-rmse:0.687296 valid-loss:0.698929 valid-rmse:0.698929\n",
            "[INFO gradient_boosted_trees.cc:1428] \tnum-trees:283 train-loss:0.685039 train-rmse:0.685039 valid-loss:0.698669 valid-rmse:0.698669\n",
            "[INFO gradient_boosted_trees.cc:1426] \tnum-trees:300 train-loss:0.683936 train-rmse:0.683936 valid-loss:0.698605 valid-rmse:0.698605\n",
            "[INFO gradient_boosted_trees.cc:229] Truncates the model to 299 tree(s) i.e. 299  iteration(s).\n",
            "[INFO gradient_boosted_trees.cc:263] Final model num-trees:299 valid-loss:0.698598 valid-rmse:0.698598\n",
            "[INFO kernel.cc:828] Export model in log directory: /tmp/tmp_fgel9ul\n",
            "[INFO kernel.cc:836] Save model in resources\n",
            "[INFO kernel.cc:988] Loading model from path\n",
            "[INFO abstract_model.cc:993] Engine \"GradientBoostedTreesQuickScorerExtended\" built\n",
            "[INFO kernel.cc:848] Use fast generic engine\n"
          ]
        },
        {
          "output_type": "stream",
          "name": "stdout",
          "text": [
            "\b\b\b\b\b\b\b\b\b\b\b\b\b\b\b\b\b\b\b\b\b\b\b\b\b\b\b\b\b\b\b\b\b\b\b\b\b\b\b\b\b\b\b\b\b\b\b\b\b\b\b\b\r3750/3750 [==============================] - 268s 71ms/step\n",
            "Model training time: 0:04:27.770381 \n",
            "\n"
          ]
        }
      ]
    },
    {
      "cell_type": "code",
      "metadata": {
        "colab": {
          "base_uri": "https://localhost:8080/"
        },
        "id": "zTUNrgNrFYWB",
        "outputId": "19baf976-7519-4b18-fd16-6d846aad21f4"
      },
      "source": [
        "GBT_eval = GBT_model.evaluate(tfds_valid, return_dict=True)\n",
        "print()\n",
        "\n",
        "for name, value in GBT_eval.items():\n",
        "    print(f\"{name}: {value:.4f}\")"
      ],
      "execution_count": 61,
      "outputs": [
        {
          "output_type": "stream",
          "name": "stdout",
          "text": [
            "938/938 [==============================] - 2s 3ms/step - loss: 0.0000e+00 - rmse: 0.7013\n",
            "\n",
            "loss: 0.0000\n",
            "rmse: 0.7013\n"
          ]
        }
      ]
    },
    {
      "cell_type": "code",
      "metadata": {
        "colab": {
          "base_uri": "https://localhost:8080/",
          "height": 404
        },
        "id": "tEWLGqQvkkon",
        "outputId": "1108ebd0-a281-40ea-e5dd-6b1a4f1a26b2"
      },
      "source": [
        "tfdf.model_plotter.plot_model_in_colab(GBT_model)"
      ],
      "execution_count": 41,
      "outputs": [
        {
          "output_type": "execute_result",
          "data": {
            "text/html": [
              "\n",
              "<script src=\"https://d3js.org/d3.v6.min.js\"></script>\n",
              "<div id=\"tree_plot_b904cb1a51c648f6b639c256447f4e4c\"></div>\n",
              "<script>\n",
              "/*\n",
              " * Copyright 2021 Google LLC.\n",
              " * Licensed under the Apache License, Version 2.0 (the \"License\");\n",
              " * you may not use this file except in compliance with the License.\n",
              " * You may obtain a copy of the License at\n",
              " *\n",
              " *     https://www.apache.org/licenses/LICENSE-2.0\n",
              " *\n",
              " * Unless required by applicable law or agreed to in writing, software\n",
              " * distributed under the License is distributed on an \"AS IS\" BASIS,\n",
              " * WITHOUT WARRANTIES OR CONDITIONS OF ANY KIND, either express or implied.\n",
              " * See the License for the specific language governing permissions and\n",
              " * limitations under the License.\n",
              " */\n",
              "\n",
              "/**\n",
              " *  Plotting of decision trees generated by TF-DF.\n",
              " *\n",
              " *  A tree is a recursive structure of node objects.\n",
              " *  A node contains one or more of the following components:\n",
              " *\n",
              " *    - A value: Representing the output of the node. If the node is not a leaf,\n",
              " *      the value is only present for analysis i.e. it is not used for\n",
              " *      predictions.\n",
              " *\n",
              " *    - A condition : For non-leaf nodes, the condition (also known as split)\n",
              " *      defines a binary test to branch to the positive or negative child.\n",
              " *\n",
              " *    - An explanation: Generally a plot showing the relation between the label\n",
              " *      and the condition to give insights about the effect of the condition.\n",
              " *\n",
              " *    - Two children : For non-leaf nodes, the children nodes. The first\n",
              " *      children (i.e. \"node.children[0]\") is the negative children (drawn in\n",
              " *      red). The second children is the positive one (drawn in green).\n",
              " *\n",
              " */\n",
              "\n",
              "/**\n",
              " * Plots a single decision tree into a DOM element.\n",
              " * @param {!options} options Dictionary of configurations.\n",
              " * @param {!tree} raw_tree Recursive tree structure.\n",
              " * @param {string} canvas_id Id of the output dom element.\n",
              " */\n",
              "function display_tree(options, raw_tree, canvas_id) {\n",
              "  console.log(options);\n",
              "\n",
              "  // Determine the node placement.\n",
              "  const tree_struct = d3.tree().nodeSize(\n",
              "      [options.node_y_offset, options.node_x_offset])(d3.hierarchy(raw_tree));\n",
              "\n",
              "  // Boundaries of the node placement.\n",
              "  let x_min = Infinity;\n",
              "  let x_max = -x_min;\n",
              "  let y_min = Infinity;\n",
              "  let y_max = -x_min;\n",
              "\n",
              "  tree_struct.each(d => {\n",
              "    if (d.x > x_max) x_max = d.x;\n",
              "    if (d.x < x_min) x_min = d.x;\n",
              "    if (d.y > y_max) y_max = d.y;\n",
              "    if (d.y < y_min) y_min = d.y;\n",
              "  });\n",
              "\n",
              "  // Size of the plot.\n",
              "  const width = y_max - y_min + options.node_x_size + options.margin * 2;\n",
              "  const height = x_max - x_min + options.node_y_size + options.margin * 2 +\n",
              "      options.node_y_offset - options.node_y_size;\n",
              "\n",
              "  const plot = d3.select(canvas_id);\n",
              "\n",
              "  // Tool tip\n",
              "  options.tooltip = plot.append('div')\n",
              "                        .attr('width', 100)\n",
              "                        .attr('height', 100)\n",
              "                        .style('padding', '4px')\n",
              "                        .style('background', '#fff')\n",
              "                        .style('box-shadow', '4px 4px 0px rgba(0,0,0,0.1)')\n",
              "                        .style('border', '1px solid black')\n",
              "                        .style('font-family', 'sans-serif')\n",
              "                        .style('font-size', options.font_size)\n",
              "                        .style('position', 'absolute')\n",
              "                        .style('z-index', '10')\n",
              "                        .attr('pointer-events', 'none')\n",
              "                        .style('display', 'none');\n",
              "\n",
              "  // Create canvas\n",
              "  const svg = plot.append('svg').attr('width', width).attr('height', height);\n",
              "  const graph =\n",
              "      svg.style('overflow', 'visible')\n",
              "          .append('g')\n",
              "          .attr('font-family', 'sans-serif')\n",
              "          .attr('font-size', options.font_size)\n",
              "          .attr(\n",
              "              'transform',\n",
              "              () => `translate(${options.margin},${\n",
              "                  - x_min + options.node_y_offset / 2 + options.margin})`);\n",
              "\n",
              "  // Plot bounding box.\n",
              "  if (options.show_plot_bounding_box) {\n",
              "    svg.append('rect')\n",
              "        .attr('width', width)\n",
              "        .attr('height', height)\n",
              "        .attr('fill', 'none')\n",
              "        .attr('stroke-width', 1.0)\n",
              "        .attr('stroke', 'black');\n",
              "  }\n",
              "\n",
              "  // Draw the edges.\n",
              "  display_edges(options, graph, tree_struct);\n",
              "\n",
              "  // Draw the nodes.\n",
              "  display_nodes(options, graph, tree_struct);\n",
              "}\n",
              "\n",
              "/**\n",
              " * Draw the nodes of the tree.\n",
              " * @param {!options} options Dictionary of configurations.\n",
              " * @param {!graph} graph D3 search handle containing the graph.\n",
              " * @param {!tree_struct} tree_struct Structure of the tree (node placement,\n",
              " *     data, etc.).\n",
              " */\n",
              "function display_nodes(options, graph, tree_struct) {\n",
              "  const nodes = graph.append('g')\n",
              "                    .selectAll('g')\n",
              "                    .data(tree_struct.descendants())\n",
              "                    .join('g')\n",
              "                    .attr('transform', d => `translate(${d.y},${d.x})`);\n",
              "\n",
              "  nodes.append('rect')\n",
              "      .attr('x', 0.5)\n",
              "      .attr('y', 0.5)\n",
              "      .attr('width', options.node_x_size)\n",
              "      .attr('height', options.node_y_size)\n",
              "      .attr('stroke', 'lightgrey')\n",
              "      .attr('stroke-width', 1)\n",
              "      .attr('fill', 'white')\n",
              "      .attr('y', -options.node_y_size / 2);\n",
              "\n",
              "  // Brackets on the right of condition nodes without children.\n",
              "  non_leaf_node_without_children =\n",
              "      nodes.filter(node => node.data.condition != null && node.children == null)\n",
              "          .append('g')\n",
              "          .attr('transform', `translate(${options.node_x_size},0)`);\n",
              "\n",
              "  non_leaf_node_without_children.append('path')\n",
              "      .attr('d', 'M0,0 C 10,0 0,10 10,10')\n",
              "      .attr('fill', 'none')\n",
              "      .attr('stroke-width', 1.0)\n",
              "      .attr('stroke', '#F00');\n",
              "\n",
              "  non_leaf_node_without_children.append('path')\n",
              "      .attr('d', 'M0,0 C 10,0 0,-10 10,-10')\n",
              "      .attr('fill', 'none')\n",
              "      .attr('stroke-width', 1.0)\n",
              "      .attr('stroke', '#0F0');\n",
              "\n",
              "  const node_content = nodes.append('g').attr(\n",
              "      'transform',\n",
              "      `translate(0,${options.node_padding - options.node_y_size / 2})`);\n",
              "\n",
              "  node_content.append(node => create_node_element(options, node));\n",
              "}\n",
              "\n",
              "/**\n",
              " * Creates the D3 content for a single node.\n",
              " * @param {!options} options Dictionary of configurations.\n",
              " * @param {!node} node Node to draw.\n",
              " * @return {!d3} D3 content.\n",
              " */\n",
              "function create_node_element(options, node) {\n",
              "  // Output accumulator.\n",
              "  let output = {\n",
              "    // Content to draw.\n",
              "    content: d3.create('svg:g'),\n",
              "    // Vertical offset to the next element to draw.\n",
              "    vertical_offset: 0\n",
              "  };\n",
              "\n",
              "  // Conditions.\n",
              "  if (node.data.condition != null) {\n",
              "    display_condition(options, node.data.condition, output);\n",
              "  }\n",
              "\n",
              "  // Values.\n",
              "  if (node.data.value != null) {\n",
              "    display_value(options, node.data.value, output);\n",
              "  }\n",
              "\n",
              "  // Explanations.\n",
              "  if (node.data.explanation != null) {\n",
              "    display_explanation(options, node.data.explanation, output);\n",
              "  }\n",
              "\n",
              "  return output.content.node();\n",
              "}\n",
              "\n",
              "\n",
              "/**\n",
              " * Adds a single line of text inside of a node.\n",
              " * @param {!options} options Dictionary of configurations.\n",
              " * @param {string} text Text to display.\n",
              " * @param {!output} output Output display accumulator.\n",
              " */\n",
              "function display_node_text(options, text, output) {\n",
              "  output.content.append('text')\n",
              "      .attr('x', options.node_padding)\n",
              "      .attr('y', output.vertical_offset)\n",
              "      .attr('alignment-baseline', 'hanging')\n",
              "      .text(text);\n",
              "  output.vertical_offset += 10;\n",
              "}\n",
              "\n",
              "/**\n",
              " * Adds a single line of text inside of a node with a tooltip.\n",
              " * @param {!options} options Dictionary of configurations.\n",
              " * @param {string} text Text to display.\n",
              " * @param {string} tooltip Text in the Tooltip.\n",
              " * @param {!output} output Output display accumulator.\n",
              " */\n",
              "function display_node_text_with_tooltip(options, text, tooltip, output) {\n",
              "  const item = output.content.append('text')\n",
              "                   .attr('x', options.node_padding)\n",
              "                   .attr('alignment-baseline', 'hanging')\n",
              "                   .text(text);\n",
              "\n",
              "  add_tooltip(options, item, () => tooltip);\n",
              "  output.vertical_offset += 10;\n",
              "}\n",
              "\n",
              "/**\n",
              " * Adds a tooltip to a dom element.\n",
              " * @param {!options} options Dictionary of configurations.\n",
              " * @param {!dom} target Dom element to equip with a tooltip.\n",
              " * @param {!func} get_content Generates the html content of the tooltip.\n",
              " */\n",
              "function add_tooltip(options, target, get_content) {\n",
              "  function show(d) {\n",
              "    options.tooltip.style('display', 'block');\n",
              "    options.tooltip.html(get_content());\n",
              "  }\n",
              "\n",
              "  function hide(d) {\n",
              "    options.tooltip.style('display', 'none');\n",
              "  }\n",
              "\n",
              "  function move(d) {\n",
              "    options.tooltip.style('display', 'block');\n",
              "    options.tooltip.style('left', (d.pageX + 5) + 'px');\n",
              "    options.tooltip.style('top', d.pageY + 'px');\n",
              "  }\n",
              "\n",
              "  target.on('mouseover', show);\n",
              "  target.on('mouseout', hide);\n",
              "  target.on('mousemove', move);\n",
              "}\n",
              "\n",
              "/**\n",
              " * Adds a condition inside of a node.\n",
              " * @param {!options} options Dictionary of configurations.\n",
              " * @param {!condition} condition Condition to display.\n",
              " * @param {!output} output Output display accumulator.\n",
              " */\n",
              "function display_condition(options, condition, output) {\n",
              "  threshold_format = d3.format('r');\n",
              "\n",
              "  if (condition.type === 'IS_MISSING') {\n",
              "    display_node_text(options, `${condition.attribute} is missing`, output);\n",
              "    return;\n",
              "  }\n",
              "\n",
              "  if (condition.type === 'IS_TRUE') {\n",
              "    display_node_text(options, `${condition.attribute} is true`, output);\n",
              "    return;\n",
              "  }\n",
              "\n",
              "  if (condition.type === 'NUMERICAL_IS_HIGHER_THAN') {\n",
              "    format = d3.format('r');\n",
              "    display_node_text(\n",
              "        options,\n",
              "        `${condition.attribute} >= ${threshold_format(condition.threshold)}`,\n",
              "        output);\n",
              "    return;\n",
              "  }\n",
              "\n",
              "  if (condition.type === 'CATEGORICAL_IS_IN') {\n",
              "    display_node_text_with_tooltip(\n",
              "        options, `${condition.attribute} in [...]`,\n",
              "        `${condition.attribute} in [${condition.mask}]`, output);\n",
              "    return;\n",
              "  }\n",
              "\n",
              "  if (condition.type === 'CATEGORICAL_SET_CONTAINS') {\n",
              "    display_node_text_with_tooltip(\n",
              "        options, `${condition.attribute} intersect [...]`,\n",
              "        `${condition.attribute} intersect [${condition.mask}]`, output);\n",
              "    return;\n",
              "  }\n",
              "\n",
              "  if (condition.type === 'NUMERICAL_SPARSE_OBLIQUE') {\n",
              "    display_node_text_with_tooltip(\n",
              "        options, `Sparse oblique split...`,\n",
              "        `[${condition.attributes}]*[${condition.weights}]>=${\n",
              "            threshold_format(condition.threshold)}`,\n",
              "        output);\n",
              "    return;\n",
              "  }\n",
              "\n",
              "  display_node_text(\n",
              "      options, `Non supported condition ${condition.type}`, output);\n",
              "}\n",
              "\n",
              "/**\n",
              " * Adds a value inside of a node.\n",
              " * @param {!options} options Dictionary of configurations.\n",
              " * @param {!value} value Value to display.\n",
              " * @param {!output} output Output display accumulator.\n",
              " */\n",
              "function display_value(options, value, output) {\n",
              "  if (value.type === 'PROBABILITY') {\n",
              "    const left_margin = 0;\n",
              "    const right_margin = 50;\n",
              "    const plot_width = options.node_x_size - options.node_padding * 2 -\n",
              "        left_margin - right_margin;\n",
              "\n",
              "    let cusum = Array.from(d3.cumsum(value.distribution));\n",
              "    cusum.unshift(0);\n",
              "    const distribution_plot = output.content.append('g').attr(\n",
              "        'transform', `translate(0,${output.vertical_offset + 0.5})`);\n",
              "\n",
              "    distribution_plot.selectAll('rect')\n",
              "        .data(value.distribution)\n",
              "        .join('rect')\n",
              "        .attr('height', 10)\n",
              "        .attr(\n",
              "            'x',\n",
              "            (d, i) =>\n",
              "                (cusum[i] * plot_width + left_margin + options.node_padding))\n",
              "        .attr('width', (d, i) => d * plot_width)\n",
              "        .style('fill', (d, i) => d3.schemeSet1[i]);\n",
              "\n",
              "    const num_examples =\n",
              "        output.content.append('g')\n",
              "            .attr('transform', `translate(0,${output.vertical_offset})`)\n",
              "            .append('text')\n",
              "            .attr('x', options.node_x_size - options.node_padding)\n",
              "            .attr('alignment-baseline', 'hanging')\n",
              "            .attr('text-anchor', 'end')\n",
              "            .text(`(${value.num_examples})`);\n",
              "\n",
              "    const distribution_details = d3.create('ul');\n",
              "    distribution_details.selectAll('li')\n",
              "        .data(value.distribution)\n",
              "        .join('li')\n",
              "        .append('span')\n",
              "        .text(\n",
              "            (d, i) =>\n",
              "                'class ' + i + ': ' + d3.format('.3%')(value.distribution[i]));\n",
              "\n",
              "    add_tooltip(options, distribution_plot, () => distribution_details.html());\n",
              "    add_tooltip(options, num_examples, () => 'Number of examples');\n",
              "\n",
              "    output.vertical_offset += 10;\n",
              "    return;\n",
              "  }\n",
              "\n",
              "  if (value.type === 'REGRESSION') {\n",
              "    display_node_text(\n",
              "        options,\n",
              "        'value: ' + d3.format('r')(value.value) + ` (` +\n",
              "            d3.format('.6')(value.num_examples) + `)`,\n",
              "        output);\n",
              "    return;\n",
              "  }\n",
              "\n",
              "  display_node_text(options, `Non supported value ${value.type}`, output);\n",
              "}\n",
              "\n",
              "/**\n",
              " * Adds an explanation inside of a node.\n",
              " * @param {!options} options Dictionary of configurations.\n",
              " * @param {!explanation} explanation Explanation to display.\n",
              " * @param {!output} output Output display accumulator.\n",
              " */\n",
              "function display_explanation(options, explanation, output) {\n",
              "  // Margin before the explanation.\n",
              "  output.vertical_offset += 10;\n",
              "\n",
              "  display_node_text(\n",
              "      options, `Non supported explanation ${explanation.type}`, output);\n",
              "}\n",
              "\n",
              "\n",
              "/**\n",
              " * Draw the edges of the tree.\n",
              " * @param {!options} options Dictionary of configurations.\n",
              " * @param {!graph} graph D3 search handle containing the graph.\n",
              " * @param {!tree_struct} tree_struct Structure of the tree (node placement,\n",
              " *     data, etc.).\n",
              " */\n",
              "function display_edges(options, graph, tree_struct) {\n",
              "  // Draw an edge between a parent and a child node with a bezier.\n",
              "  function draw_single_edge(d) {\n",
              "    return 'M' + (d.source.y + options.node_x_size) + ',' + d.source.x + ' C' +\n",
              "        (d.source.y + options.node_x_size + options.edge_rounding) + ',' +\n",
              "        d.source.x + ' ' + (d.target.y - options.edge_rounding) + ',' +\n",
              "        d.target.x + ' ' + d.target.y + ',' + d.target.x;\n",
              "  }\n",
              "\n",
              "  graph.append('g')\n",
              "      .attr('fill', 'none')\n",
              "      .attr('stroke-width', 1.2)\n",
              "      .selectAll('path')\n",
              "      .data(tree_struct.links())\n",
              "      .join('path')\n",
              "      .attr('d', draw_single_edge)\n",
              "      .attr(\n",
              "          'stroke', d => (d.target === d.source.children[0]) ? '#0F0' : '#F00');\n",
              "}\n",
              "\n",
              "display_tree({\"margin\": 10, \"node_x_size\": 160, \"node_y_size\": 28, \"node_x_offset\": 180, \"node_y_offset\": 33, \"font_size\": 10, \"edge_rounding\": 20, \"node_padding\": 2, \"show_plot_bounding_box\": false}, {\"value\": {\"type\": \"REGRESSION\", \"value\": -5.294582994253005e-09, \"num_examples\": 215886.0, \"standard_deviation\": 0.7336122078492749}, \"condition\": {\"type\": \"NUMERICAL_IS_HIGHER_THAN\", \"attribute\": \"cont11\", \"threshold\": 0.4252880811691284}, \"children\": [{\"value\": {\"type\": \"REGRESSION\", \"value\": 0.00411825068295002, \"num_examples\": 114532.0, \"standard_deviation\": 0.7522971479254302}, \"condition\": {\"type\": \"NUMERICAL_IS_HIGHER_THAN\", \"attribute\": \"cont1\", \"threshold\": 0.48688364028930664}, \"children\": [{\"value\": {\"type\": \"REGRESSION\", \"value\": -0.0010249452898278832, \"num_examples\": 78218.0, \"standard_deviation\": 0.7483470398342342}, \"condition\": {\"type\": \"NUMERICAL_IS_HIGHER_THAN\", \"attribute\": \"cont13\", \"threshold\": 0.9330133199691772}, \"children\": [{\"value\": {\"type\": \"REGRESSION\", \"value\": 0.016378385946154594, \"num_examples\": 7349.0, \"standard_deviation\": 0.7266880089795383}, \"condition\": {\"type\": \"NUMERICAL_IS_HIGHER_THAN\", \"attribute\": \"cont13\", \"threshold\": 0.954513669013977}}, {\"value\": {\"type\": \"REGRESSION\", \"value\": -0.0028296425007283688, \"num_examples\": 70869.0, \"standard_deviation\": 0.748244453902235}, \"condition\": {\"type\": \"NUMERICAL_IS_HIGHER_THAN\", \"attribute\": \"cont2\", \"threshold\": 0.35461747646331787}}]}, {\"value\": {\"type\": \"REGRESSION\", \"value\": 0.01519636157900095, \"num_examples\": 36314.0, \"standard_deviation\": 0.7488315910573059}, \"condition\": {\"type\": \"NUMERICAL_IS_HIGHER_THAN\", \"attribute\": \"cont3\", \"threshold\": 0.9360467195510864}, \"children\": [{\"value\": {\"type\": \"REGRESSION\", \"value\": 0.04469505324959755, \"num_examples\": 3727.0, \"standard_deviation\": 0.7344345782374929}, \"condition\": {\"type\": \"NUMERICAL_IS_HIGHER_THAN\", \"attribute\": \"cont12\", \"threshold\": 0.5484544038772583}}, {\"value\": {\"type\": \"REGRESSION\", \"value\": 0.011822573840618134, \"num_examples\": 32587.0, \"standard_deviation\": 0.7430347341353924}, \"condition\": {\"type\": \"NUMERICAL_IS_HIGHER_THAN\", \"attribute\": \"cont1\", \"threshold\": 0.3614153563976288}}]}]}, {\"value\": {\"type\": \"REGRESSION\", \"value\": -0.0046537150628864765, \"num_examples\": 101354.0, \"standard_deviation\": 0.709035011149029}, \"condition\": {\"type\": \"NUMERICAL_IS_HIGHER_THAN\", \"attribute\": \"cont4\", \"threshold\": 0.7757371068000793}, \"children\": [{\"value\": {\"type\": \"REGRESSION\", \"value\": 0.0074873194098472595, \"num_examples\": 24938.0, \"standard_deviation\": 0.6819756585781622}, \"condition\": {\"type\": \"NUMERICAL_IS_HIGHER_THAN\", \"attribute\": \"cont13\", \"threshold\": 0.42016464471817017}, \"children\": [{\"value\": {\"type\": \"REGRESSION\", \"value\": -0.0019053489668294787, \"num_examples\": 5827.0, \"standard_deviation\": 0.6842450460625273}, \"condition\": {\"type\": \"NUMERICAL_IS_HIGHER_THAN\", \"attribute\": \"cont10\", \"threshold\": 0.7119365930557251}}, {\"value\": {\"type\": \"REGRESSION\", \"value\": 0.010351171717047691, \"num_examples\": 19111.0, \"standard_deviation\": 0.6787012346765595}, \"condition\": {\"type\": \"NUMERICAL_IS_HIGHER_THAN\", \"attribute\": \"cont8\", \"threshold\": 0.5878286361694336}}]}, {\"value\": {\"type\": \"REGRESSION\", \"value\": -0.008615883998572826, \"num_examples\": 76416.0, \"standard_deviation\": 0.71318572041566}, \"condition\": {\"type\": \"NUMERICAL_IS_HIGHER_THAN\", \"attribute\": \"cont13\", \"threshold\": 0.4137032628059387}, \"children\": [{\"value\": {\"type\": \"REGRESSION\", \"value\": -0.014064325951039791, \"num_examples\": 31068.0, \"standard_deviation\": 0.71213825804267}, \"condition\": {\"type\": \"NUMERICAL_IS_HIGHER_THAN\", \"attribute\": \"cont12\", \"threshold\": 0.36465537548065186}}, {\"value\": {\"type\": \"REGRESSION\", \"value\": -0.004883146844804287, \"num_examples\": 45348.0, \"standard_deviation\": 0.711498149924574}, \"condition\": {\"type\": \"NUMERICAL_IS_HIGHER_THAN\", \"attribute\": \"cont11\", \"threshold\": 0.3101867437362671}}]}]}]}, \"#tree_plot_b904cb1a51c648f6b639c256447f4e4c\")\n",
              "</script>\n"
            ],
            "text/plain": [
              "<IPython.core.display.HTML object>"
            ]
          },
          "metadata": {},
          "execution_count": 41
        }
      ]
    },
    {
      "cell_type": "code",
      "metadata": {
        "colab": {
          "base_uri": "https://localhost:8080/",
          "height": 279
        },
        "id": "e0K_RY-tkUDo",
        "outputId": "53222f5e-ab04-46ca-eeff-0f3b37e44057"
      },
      "source": [
        "logs = GBT_model.make_inspector().training_logs()\n",
        "\n",
        "plt.figure(figsize=(12, 4))\n",
        "\n",
        "plt.subplot(1, 2, 1)\n",
        "plt.plot([log.num_trees for log in logs], [log.evaluation.rmse for log in logs])\n",
        "plt.xlabel(\"Number of trees\")\n",
        "plt.ylabel(\"RMSE (out-of-bag)\")\n",
        "\n",
        "plt.show()"
      ],
      "execution_count": 42,
      "outputs": [
        {
          "output_type": "display_data",
          "data": {
            "image/png": "[encoded data removed]",
            "text/plain": [
              "<Figure size 864x288 with 1 Axes>"
            ]
          },
          "metadata": {
            "needs_background": "light"
          }
        }
      ]
    },
    {
      "cell_type": "code",
      "metadata": {
        "id": "g2ZPK8-5wXjU",
        "jupyter": {
          "outputs_hidden": false
        },
        "pycharm": {
          "name": "#%%\n"
        }
      },
      "source": [
        "if NOTIFY_STATUS: status_notify(\"Task 4 - Train and Evaluate Models completed! \"+datetime.now().strftime('%a %B %d, %Y %I:%M:%S %p'))"
      ],
      "execution_count": 43,
      "outputs": []
    },
    {
      "cell_type": "markdown",
      "metadata": {
        "id": "ISyQ5uNrwXjU"
      },
      "source": [
        "## Task 4 - Fine-tune and Improve Models"
      ]
    },
    {
      "cell_type": "code",
      "metadata": {
        "id": "l3AulRWbzzOz"
      },
      "source": [
        "if NOTIFY_STATUS: status_notify(\"Task 4 - Fine-tune and Improve Models has begun! \"+datetime.now().strftime('%a %B %d, %Y %I:%M:%S %p'))"
      ],
      "execution_count": 44,
      "outputs": []
    },
    {
      "cell_type": "markdown",
      "metadata": {
        "id": "YIBZKA0bzpGr"
      },
      "source": [
        ""
      ]
    },
    {
      "cell_type": "code",
      "metadata": {
        "colab": {
          "base_uri": "https://localhost:8080/"
        },
        "id": "vlCLtsxjzQ2V",
        "outputId": "d9f88304-2cb0-45f6-9d9b-81bb1be7d1c7"
      },
      "source": [
        "for num_trees in [300, 500, 750, 1000]:\n",
        "    # Define the baseline model for benchmarking\n",
        "    start_time_module = datetime.now()\n",
        "    reset_random()\n",
        "    Tuning_model = tfdf.keras.GradientBoostedTreesModel(num_trees=num_trees, task = tfdf.keras.Task.REGRESSION)\n",
        "\n",
        "    # Optionally, add evaluation metrics.\n",
        "    Tuning_model.compile(metrics=DEFAULT_METRICS)\n",
        "\n",
        "    # Train the model.\n",
        "    Tuning_model.fit(x=tfds_train, verbose=False)\n",
        "\n",
        "    tuning_eval = Tuning_model.evaluate(tfds_valid, return_dict=True)\n",
        "    print()\n",
        "\n",
        "    for name, value in tuning_eval.items():\n",
        "        print(f\"{name}: {value:.4f}\")\n",
        "    print ('Model optimization time:', (datetime.now() - start_time_module), '\\n')"
      ],
      "execution_count": 62,
      "outputs": [
        {
          "output_type": "stream",
          "name": "stdout",
          "text": [
            "938/938 [==============================] - 3s 3ms/step - loss: 0.0000e+00 - rmse: 0.7013\n",
            "\n",
            "loss: 0.0000\n",
            "rmse: 0.7013\n",
            "Model optimization time: 0:05:24.900416 \n",
            "\n",
            "938/938 [==============================] - 2s 3ms/step - loss: 0.0000e+00 - rmse: 0.7011\n",
            "\n",
            "loss: 0.0000\n",
            "rmse: 0.7011\n",
            "Model optimization time: 0:06:25.109755 \n",
            "\n",
            "938/938 [==============================] - 3s 3ms/step - loss: 0.0000e+00 - rmse: 0.7010\n",
            "\n",
            "loss: 0.0000\n",
            "rmse: 0.7010\n",
            "Model optimization time: 0:06:24.934956 \n",
            "\n",
            "938/938 [==============================] - 3s 3ms/step - loss: 0.0000e+00 - rmse: 0.7009\n",
            "\n",
            "loss: 0.0000\n",
            "rmse: 0.7009\n",
            "Model optimization time: 0:06:21.308488 \n",
            "\n"
          ]
        }
      ]
    },
    {
      "cell_type": "code",
      "metadata": {
        "id": "orMchSDCzr07"
      },
      "source": [
        "if NOTIFY_STATUS: status_notify(\"Task 4 - Fine-tune and Improve Models completed! \"+datetime.now().strftime('%a %B %d, %Y %I:%M:%S %p'))"
      ],
      "execution_count": 46,
      "outputs": []
    },
    {
      "cell_type": "markdown",
      "metadata": {
        "id": "D7UgYoGuzaM-"
      },
      "source": [
        "## Task 5 - Finalize Model and Present Analysis"
      ]
    },
    {
      "cell_type": "code",
      "metadata": {
        "id": "BhuD5C56wXjV"
      },
      "source": [
        "if NOTIFY_STATUS: status_notify(\"Task 5 - Finalize Model and Present Analysis has begun! \"+datetime.now().strftime('%a %B %d, %Y %I:%M:%S %p'))"
      ],
      "execution_count": 47,
      "outputs": []
    },
    {
      "cell_type": "markdown",
      "metadata": {
        "id": "xDcJ2kVE8xNI"
      },
      "source": [
        "### 5.a) Train the Final Model"
      ]
    },
    {
      "cell_type": "code",
      "metadata": {
        "colab": {
          "base_uri": "https://localhost:8080/"
        },
        "id": "dsntMWlJwXjV",
        "outputId": "30950585-eb2b-44de-a60f-b2d0a0444aea"
      },
      "source": [
        "# Define the baseline model for benchmarking\n",
        "start_time_module = datetime.now()\n",
        "reset_random()\n",
        "Final_model = tfdf.keras.GradientBoostedTreesModel(num_trees=1000, task = tfdf.keras.Task.REGRESSION)\n",
        "\n",
        "# Optionally, add evaluation metrics.\n",
        "Final_model.compile(\n",
        "    metrics=DEFAULT_METRICS)\n",
        "\n",
        "# Train the model.\n",
        "# \"sys_pipes\" is optional. It enables the display of the training logs.\n",
        "with sys_pipes():\n",
        "    Final_model.fit(x=tfds_train)\n",
        "print ('Model training time:', (datetime.now() - start_time_module), '\\n')"
      ],
      "execution_count": 48,
      "outputs": [
        {
          "output_type": "stream",
          "name": "stdout",
          "text": [
            "3730/3750 [============================>.] - ETA: 0s"
          ]
        },
        {
          "output_type": "stream",
          "name": "stderr",
          "text": [
            "[INFO kernel.cc:736] Start Yggdrasil model training\n",
            "[INFO kernel.cc:737] Collect training examples\n",
            "[INFO kernel.cc:392] Number of batches: 3750\n",
            "[INFO kernel.cc:393] Number of examples: 240000\n",
            "[INFO kernel.cc:759] Dataset:\n",
            "Number of records: 240000\n",
            "Number of columns: 15\n",
            "\n",
            "Number of columns by type:\n",
            "\tNUMERICAL: 15 (100%)\n",
            "\n",
            "Columns:\n",
            "\n",
            "NUMERICAL: 15 (100%)\n",
            "\t0: \"cont1\" NUMERICAL mean:0.506927 min:-0.0772377 max:1.01623 sd:0.204115\n",
            "\t1: \"cont10\" NUMERICAL mean:0.520411 min:-0.085046 max:1.19995 sd:0.201994\n",
            "\t2: \"cont11\" NUMERICAL mean:0.483942 min:0.0832767 max:1.02262 sd:0.22019\n",
            "\t3: \"cont12\" NUMERICAL mean:0.506728 min:0.091488 max:1.04903 sd:0.218957\n",
            "\t4: \"cont13\" NUMERICAL mean:0.55341 min:0.0353633 max:0.977845 sd:0.229728\n",
            "\t5: \"cont14\" NUMERICAL mean:0.503661 min:0.166367 max:0.868506 sd:0.208206\n",
            "\t6: \"cont2\" NUMERICAL mean:0.497598 min:-0.0313975 max:0.859697 sd:0.22809\n",
            "\t7: \"cont3\" NUMERICAL mean:0.521296 min:0.0209669 max:1.00695 sd:0.200616\n",
            "\t8: \"cont4\" NUMERICAL mean:0.515783 min:0.154548 max:1.0104 sd:0.233045\n",
            "\t9: \"cont5\" NUMERICAL mean:0.50192 min:0.276377 max:1.03405 sd:0.220764\n",
            "\t10: \"cont6\" NUMERICAL mean:0.526421 min:0.0661656 max:1.04386 sd:0.217942\n",
            "\t11: \"cont7\" NUMERICAL mean:0.487785 min:-0.0976663 max:1.06617 sd:0.181148\n",
            "\t12: \"cont8\" NUMERICAL mean:0.525242 min:0.21726 max:1.02443 sd:0.216252\n",
            "\t13: \"cont9\" NUMERICAL mean:0.459816 min:-0.240604 max:1.00032 sd:0.196744\n",
            "\t14: \"__LABEL\" NUMERICAL mean:7.90633 min:0 max:10.2676 sd:0.733096\n",
            "\n",
            "Terminology:\n",
            "\tnas: Number of non-available (i.e. missing) values.\n",
            "\tood: Out of dictionary.\n",
            "\tmanually-defined: Attribute which type is manually defined by the user i.e. the type was not automatically inferred.\n",
            "\ttokenized: The attribute value is obtained through tokenization.\n",
            "\thas-dict: The attribute is attached to a string dictionary e.g. a categorical attribute stored as a string.\n",
            "\tvocab-size: Number of unique values.\n",
            "\n",
            "[INFO kernel.cc:762] Configure learner\n",
            "[WARNING gradient_boosted_trees.cc:1643] Subsample hyperparameter given but sampling method does not match.\n",
            "[WARNING gradient_boosted_trees.cc:1656] GOSS alpha hyperparameter given but GOSS is disabled.\n",
            "[WARNING gradient_boosted_trees.cc:1665] GOSS beta hyperparameter given but GOSS is disabled.\n",
            "[WARNING gradient_boosted_trees.cc:1677] SelGB ratio hyperparameter given but SelGB is disabled.\n",
            "[INFO kernel.cc:787] Training config:\n",
            "learner: \"GRADIENT_BOOSTED_TREES\"\n",
            "features: \"cont1\"\n",
            "features: \"cont10\"\n",
            "features: \"cont11\"\n",
            "features: \"cont12\"\n",
            "features: \"cont13\"\n",
            "features: \"cont14\"\n",
            "features: \"cont2\"\n",
            "features: \"cont3\"\n",
            "features: \"cont4\"\n",
            "features: \"cont5\"\n",
            "features: \"cont6\"\n",
            "features: \"cont7\"\n",
            "features: \"cont8\"\n",
            "features: \"cont9\"\n",
            "label: \"__LABEL\"\n",
            "task: REGRESSION\n",
            "[yggdrasil_decision_forests.model.gradient_boosted_trees.proto.gradient_boosted_trees_config] {\n",
            "  num_trees: 1000\n",
            "  decision_tree {\n",
            "    max_depth: 6\n",
            "    min_examples: 5\n",
            "    in_split_min_examples_check: true\n",
            "    missing_value_policy: GLOBAL_IMPUTATION\n",
            "    allow_na_conditions: false\n",
            "    categorical_set_greedy_forward {\n",
            "      sampling: 0.1\n",
            "      max_num_items: -1\n",
            "      min_item_frequency: 1\n",
            "    }\n",
            "    growing_strategy_local {\n",
            "    }\n",
            "    categorical {\n",
            "      cart {\n",
            "      }\n",
            "    }\n",
            "    num_candidate_attributes_ratio: -1\n",
            "    axis_aligned_split {\n",
            "    }\n",
            "    internal {\n",
            "      sorting_strategy: PRESORTED\n",
            "    }\n",
            "  }\n",
            "  shrinkage: 0.1\n",
            "  validation_set_ratio: 0.1\n",
            "  early_stopping: VALIDATION_LOSS_INCREASE\n",
            "  early_stopping_num_trees_look_ahead: 30\n",
            "  l2_regularization: 0\n",
            "  lambda_loss: 1\n",
            "  mart {\n",
            "  }\n",
            "  adapt_subsample_for_maximum_training_duration: false\n",
            "  l1_regularization: 0\n",
            "  use_hessian_gain: false\n",
            "  l2_regularization_categorical: 1\n",
            "  apply_link_function: true\n",
            "  compute_permutation_variable_importance: false\n",
            "}\n",
            "\n",
            "[INFO kernel.cc:790] Deployment config:\n",
            "num_threads: 6\n",
            "\n",
            "[INFO kernel.cc:817] Train model\n",
            "[INFO gradient_boosted_trees.cc:404] Default loss set to SQUARED_ERROR\n",
            "[INFO gradient_boosted_trees.cc:1001] Training gradient boosted tree on 240000 example(s) and 14 feature(s).\n",
            "[INFO gradient_boosted_trees.cc:1044] 215886 examples used for training and 24114 examples used for validation\n",
            "[INFO gradient_boosted_trees.cc:1426] \tnum-trees:1 train-loss:0.731300 train-rmse:0.731300 valid-loss:0.726250 valid-rmse:0.726250\n",
            "[INFO gradient_boosted_trees.cc:1428] \tnum-trees:16 train-loss:0.717641 train-rmse:0.717641 valid-loss:0.713999 valid-rmse:0.713999\n",
            "[INFO gradient_boosted_trees.cc:1428] \tnum-trees:51 train-loss:0.706643 train-rmse:0.706643 valid-loss:0.706111 valid-rmse:0.706111\n",
            "[INFO gradient_boosted_trees.cc:1428] \tnum-trees:86 train-loss:0.701237 train-rmse:0.701237 valid-loss:0.703281 valid-rmse:0.703281\n",
            "[INFO gradient_boosted_trees.cc:1428] \tnum-trees:122 train-loss:0.697037 train-rmse:0.697037 valid-loss:0.701595 valid-rmse:0.701595\n",
            "[INFO gradient_boosted_trees.cc:1428] \tnum-trees:158 train-loss:0.693813 train-rmse:0.693813 valid-loss:0.700612 valid-rmse:0.700612\n",
            "[INFO gradient_boosted_trees.cc:1428] \tnum-trees:193 train-loss:0.691121 train-rmse:0.691121 valid-loss:0.699881 valid-rmse:0.699881\n",
            "[INFO gradient_boosted_trees.cc:1428] \tnum-trees:228 train-loss:0.688502 train-rmse:0.688502 valid-loss:0.699100 valid-rmse:0.699100\n",
            "[INFO gradient_boosted_trees.cc:1428] \tnum-trees:263 train-loss:0.686199 train-rmse:0.686199 valid-loss:0.698811 valid-rmse:0.698811\n",
            "[INFO gradient_boosted_trees.cc:1428] \tnum-trees:298 train-loss:0.684006 train-rmse:0.684006 valid-loss:0.698600 valid-rmse:0.698600\n",
            "[INFO gradient_boosted_trees.cc:1428] \tnum-trees:333 train-loss:0.682283 train-rmse:0.682283 valid-loss:0.698381 valid-rmse:0.698381\n",
            "[INFO gradient_boosted_trees.cc:1428] \tnum-trees:368 train-loss:0.680347 train-rmse:0.680347 valid-loss:0.698105 valid-rmse:0.698105\n",
            "[INFO gradient_boosted_trees.cc:1428] \tnum-trees:404 train-loss:0.678484 train-rmse:0.678484 valid-loss:0.697896 valid-rmse:0.697896\n",
            "[INFO gradient_boosted_trees.cc:2740] Early stop of the training because the validation loss does not decrease anymore. Best valid-loss: 0.697896\n",
            "[INFO gradient_boosted_trees.cc:229] Truncates the model to 404 tree(s) i.e. 404  iteration(s).\n",
            "[INFO gradient_boosted_trees.cc:263] Final model num-trees:404 valid-loss:0.697896 valid-rmse:0.697896\n",
            "[INFO kernel.cc:828] Export model in log directory: /tmp/tmpcfmlw59u\n",
            "[INFO kernel.cc:836] Save model in resources\n",
            "[INFO kernel.cc:988] Loading model from path\n",
            "[INFO abstract_model.cc:993] Engine \"GradientBoostedTreesQuickScorerExtended\" built\n",
            "[INFO kernel.cc:848] Use fast generic engine\n"
          ]
        },
        {
          "output_type": "stream",
          "name": "stdout",
          "text": [
            "\b\b\b\b\b\b\b\b\b\b\b\b\b\b\b\b\b\b\b\b\b\b\b\b\b\b\b\b\b\b\b\b\b\b\b\b\b\b\b\b\b\b\b\b\b\b\b\b\b\b\b\b\r3750/3750 [==============================] - 382s 102ms/step\n",
            "Model training time: 0:06:22.371746 \n",
            "\n"
          ]
        }
      ]
    },
    {
      "cell_type": "code",
      "metadata": {
        "id": "IuwcWWXF89YM",
        "colab": {
          "base_uri": "https://localhost:8080/"
        },
        "outputId": "8c7eda00-c5ca-4c03-8cdc-4cb0f34f22bc"
      },
      "source": [
        "Final_model.summary()"
      ],
      "execution_count": 49,
      "outputs": [
        {
          "output_type": "stream",
          "name": "stdout",
          "text": [
            "Model: \"gradient_boosted_trees_model_5\"\n",
            "_________________________________________________________________\n",
            " Layer (type)                Output Shape              Param #   \n",
            "=================================================================\n",
            "=================================================================\n",
            "Total params: 1\n",
            "Trainable params: 0\n",
            "Non-trainable params: 1\n",
            "_________________________________________________________________\n",
            "Type: \"GRADIENT_BOOSTED_TREES\"\n",
            "Task: REGRESSION\n",
            "Label: \"__LABEL\"\n",
            "\n",
            "Input Features (14):\n",
            "\tcont1\n",
            "\tcont10\n",
            "\tcont11\n",
            "\tcont12\n",
            "\tcont13\n",
            "\tcont14\n",
            "\tcont2\n",
            "\tcont3\n",
            "\tcont4\n",
            "\tcont5\n",
            "\tcont6\n",
            "\tcont7\n",
            "\tcont8\n",
            "\tcont9\n",
            "\n",
            "No weights\n",
            "\n",
            "Variable Importance: MEAN_MIN_DEPTH:\n",
            "    1. \"__LABEL\"  4.884836 ################\n",
            "    2.   \"cont1\"  4.142121 ####\n",
            "    3.   \"cont8\"  4.106256 ###\n",
            "    4.   \"cont7\"  4.104021 ###\n",
            "    5.  \"cont11\"  4.097224 ###\n",
            "    6.   \"cont2\"  4.057401 ###\n",
            "    7.   \"cont9\"  4.032707 ##\n",
            "    8.   \"cont5\"  4.022533 ##\n",
            "    9.  \"cont14\"  4.008258 ##\n",
            "   10.  \"cont13\"  3.993547 ##\n",
            "   11.  \"cont12\"  3.985177 ##\n",
            "   12.   \"cont6\"  3.947373 #\n",
            "   13.   \"cont3\"  3.943475 #\n",
            "   14.  \"cont10\"  3.937312 #\n",
            "   15.   \"cont4\"  3.855210 \n",
            "\n",
            "Variable Importance: NUM_AS_ROOT:\n",
            "    1.  \"cont4\" 43.000000 ################\n",
            "    2.  \"cont6\" 40.000000 ##############\n",
            "    3. \"cont14\" 36.000000 ############\n",
            "    4.  \"cont3\" 36.000000 ############\n",
            "    5.  \"cont2\" 33.000000 ##########\n",
            "    6. \"cont10\" 32.000000 #########\n",
            "    7.  \"cont5\" 32.000000 #########\n",
            "    8.  \"cont8\" 29.000000 ########\n",
            "    9.  \"cont9\" 29.000000 ########\n",
            "   10. \"cont12\" 25.000000 ######\n",
            "   11. \"cont11\" 21.000000 ###\n",
            "   12.  \"cont7\" 19.000000 ##\n",
            "   13.  \"cont1\" 15.000000 \n",
            "   14. \"cont13\" 14.000000 \n",
            "\n",
            "Variable Importance: NUM_NODES:\n",
            "    1. \"cont13\" 912.000000 ################\n",
            "    2.  \"cont3\" 863.000000 ############\n",
            "    3.  \"cont4\" 829.000000 ##########\n",
            "    4. \"cont12\" 826.000000 ##########\n",
            "    5. \"cont10\" 821.000000 ##########\n",
            "    6.  \"cont6\" 806.000000 #########\n",
            "    7.  \"cont9\" 803.000000 ########\n",
            "    8.  \"cont1\" 786.000000 #######\n",
            "    9. \"cont11\" 766.000000 ######\n",
            "   10.  \"cont2\" 750.000000 #####\n",
            "   11.  \"cont7\" 728.000000 ###\n",
            "   12.  \"cont8\" 719.000000 ###\n",
            "   13.  \"cont5\" 715.000000 ###\n",
            "   14. \"cont14\" 667.000000 \n",
            "\n",
            "Variable Importance: SUM_SCORE:\n",
            "    1. \"cont13\" 8839.539059 ################\n",
            "    2.  \"cont4\" 8280.653096 ##############\n",
            "    3.  \"cont3\" 8128.918906 #############\n",
            "    4.  \"cont2\" 7778.978991 ############\n",
            "    5.  \"cont1\" 6788.166939 #########\n",
            "    6.  \"cont7\" 6373.631023 ########\n",
            "    7. \"cont12\" 6290.573023 #######\n",
            "    8. \"cont10\" 6244.222489 #######\n",
            "    9. \"cont11\" 6075.710040 #######\n",
            "   10.  \"cont6\" 5567.465923 #####\n",
            "   11.  \"cont9\" 5196.047685 ####\n",
            "   12. \"cont14\" 5139.265097 ####\n",
            "   13.  \"cont8\" 3914.502543 \n",
            "   14.  \"cont5\" 3834.392567 \n",
            "\n",
            "\n",
            "\n",
            "Loss: SQUARED_ERROR\n",
            "Validation loss value: 0.697896\n",
            "Number of trees per iteration: 1\n",
            "Node format: NOT_SET\n",
            "Number of trees: 404\n",
            "Total number of nodes: 22386\n",
            "\n",
            "Number of nodes by tree:\n",
            "Count: 404 Average: 55.4109 StdDev: 8.20284\n",
            "Min: 25 Max: 63 Ignored: 0\n",
            "----------------------------------------------\n",
            "[ 25, 26)  1   0.25%   0.25%\n",
            "[ 26, 28)  0   0.00%   0.25%\n",
            "[ 28, 30)  2   0.50%   0.74%\n",
            "[ 30, 32)  2   0.50%   1.24%\n",
            "[ 32, 34)  7   1.73%   2.97% #\n",
            "[ 34, 36)  2   0.50%   3.47%\n",
            "[ 36, 38)  7   1.73%   5.20% #\n",
            "[ 38, 40)  9   2.23%   7.43% #\n",
            "[ 40, 42)  7   1.73%   9.16% #\n",
            "[ 42, 44)  8   1.98%  11.14% #\n",
            "[ 44, 46)  6   1.49%  12.62% #\n",
            "[ 46, 48) 18   4.46%  17.08% ##\n",
            "[ 48, 50) 24   5.94%  23.02% ###\n",
            "[ 50, 52) 21   5.20%  28.22% ##\n",
            "[ 52, 54) 21   5.20%  33.42% ##\n",
            "[ 54, 56) 29   7.18%  40.59% ###\n",
            "[ 56, 58) 31   7.67%  48.27% ###\n",
            "[ 58, 60) 39   9.65%  57.92% ####\n",
            "[ 60, 62) 75  18.56%  76.49% ########\n",
            "[ 62, 63] 95  23.51% 100.00% ##########\n",
            "\n",
            "Depth by leafs:\n",
            "Count: 11395 Average: 4.90285 StdDev: 0.387322\n",
            "Min: 1 Max: 5 Ignored: 0\n",
            "----------------------------------------------\n",
            "[ 1, 2)     7   0.06%   0.06%\n",
            "[ 2, 3)    36   0.32%   0.38%\n",
            "[ 3, 4)   205   1.80%   2.18%\n",
            "[ 4, 5)   561   4.92%   7.10% #\n",
            "[ 5, 5] 10586  92.90% 100.00% ##########\n",
            "\n",
            "Number of training obs by leaf:\n",
            "Count: 11395 Average: 7654.05 StdDev: 23779.5\n",
            "Min: 5 Max: 215520 Ignored: 0\n",
            "----------------------------------------------\n",
            "[      5,  10780) 9763  85.68%  85.68% ##########\n",
            "[  10780,  21556)  679   5.96%  91.64% #\n",
            "[  21556,  32332)  307   2.69%  94.33%\n",
            "[  32332,  43108)  148   1.30%  95.63%\n",
            "[  43108,  53884)   89   0.78%  96.41%\n",
            "[  53884,  64659)   59   0.52%  96.93%\n",
            "[  64659,  75435)   61   0.54%  97.46%\n",
            "[  75435,  86211)   43   0.38%  97.84%\n",
            "[  86211,  96987)   35   0.31%  98.15%\n",
            "[  96987, 107763)   25   0.22%  98.37%\n",
            "[ 107763, 118538)   17   0.15%  98.52%\n",
            "[ 118538, 129314)   27   0.24%  98.75%\n",
            "[ 129314, 140090)   24   0.21%  98.96%\n",
            "[ 140090, 150866)   18   0.16%  99.12%\n",
            "[ 150866, 161642)   18   0.16%  99.28%\n",
            "[ 161642, 172417)   18   0.16%  99.44%\n",
            "[ 172417, 183193)   12   0.11%  99.54%\n",
            "[ 183193, 193969)   15   0.13%  99.68%\n",
            "[ 193969, 204745)   13   0.11%  99.79%\n",
            "[ 204745, 215520]   24   0.21% 100.00%\n",
            "\n",
            "Attribute in nodes:\n",
            "\t912 : cont13 [NUMERICAL]\n",
            "\t863 : cont3 [NUMERICAL]\n",
            "\t829 : cont4 [NUMERICAL]\n",
            "\t826 : cont12 [NUMERICAL]\n",
            "\t821 : cont10 [NUMERICAL]\n",
            "\t806 : cont6 [NUMERICAL]\n",
            "\t803 : cont9 [NUMERICAL]\n",
            "\t786 : cont1 [NUMERICAL]\n",
            "\t766 : cont11 [NUMERICAL]\n",
            "\t750 : cont2 [NUMERICAL]\n",
            "\t728 : cont7 [NUMERICAL]\n",
            "\t719 : cont8 [NUMERICAL]\n",
            "\t715 : cont5 [NUMERICAL]\n",
            "\t667 : cont14 [NUMERICAL]\n",
            "\n",
            "Attribute in nodes with depth <= 0:\n",
            "\t43 : cont4 [NUMERICAL]\n",
            "\t40 : cont6 [NUMERICAL]\n",
            "\t36 : cont3 [NUMERICAL]\n",
            "\t36 : cont14 [NUMERICAL]\n",
            "\t33 : cont2 [NUMERICAL]\n",
            "\t32 : cont5 [NUMERICAL]\n",
            "\t32 : cont10 [NUMERICAL]\n",
            "\t29 : cont9 [NUMERICAL]\n",
            "\t29 : cont8 [NUMERICAL]\n",
            "\t25 : cont12 [NUMERICAL]\n",
            "\t21 : cont11 [NUMERICAL]\n",
            "\t19 : cont7 [NUMERICAL]\n",
            "\t15 : cont1 [NUMERICAL]\n",
            "\t14 : cont13 [NUMERICAL]\n",
            "\n",
            "Attribute in nodes with depth <= 1:\n",
            "\t119 : cont4 [NUMERICAL]\n",
            "\t101 : cont14 [NUMERICAL]\n",
            "\t100 : cont5 [NUMERICAL]\n",
            "\t96 : cont10 [NUMERICAL]\n",
            "\t93 : cont3 [NUMERICAL]\n",
            "\t88 : cont12 [NUMERICAL]\n",
            "\t87 : cont2 [NUMERICAL]\n",
            "\t82 : cont6 [NUMERICAL]\n",
            "\t80 : cont13 [NUMERICAL]\n",
            "\t77 : cont9 [NUMERICAL]\n",
            "\t75 : cont8 [NUMERICAL]\n",
            "\t74 : cont11 [NUMERICAL]\n",
            "\t71 : cont7 [NUMERICAL]\n",
            "\t62 : cont1 [NUMERICAL]\n",
            "\n",
            "Attribute in nodes with depth <= 2:\n",
            "\t229 : cont10 [NUMERICAL]\n",
            "\t228 : cont13 [NUMERICAL]\n",
            "\t226 : cont4 [NUMERICAL]\n",
            "\t210 : cont3 [NUMERICAL]\n",
            "\t205 : cont14 [NUMERICAL]\n",
            "\t204 : cont12 [NUMERICAL]\n",
            "\t203 : cont5 [NUMERICAL]\n",
            "\t189 : cont9 [NUMERICAL]\n",
            "\t185 : cont11 [NUMERICAL]\n",
            "\t182 : cont6 [NUMERICAL]\n",
            "\t182 : cont1 [NUMERICAL]\n",
            "\t181 : cont2 [NUMERICAL]\n",
            "\t174 : cont8 [NUMERICAL]\n",
            "\t173 : cont7 [NUMERICAL]\n",
            "\n",
            "Attribute in nodes with depth <= 3:\n",
            "\t491 : cont13 [NUMERICAL]\n",
            "\t458 : cont4 [NUMERICAL]\n",
            "\t430 : cont3 [NUMERICAL]\n",
            "\t430 : cont10 [NUMERICAL]\n",
            "\t418 : cont12 [NUMERICAL]\n",
            "\t409 : cont9 [NUMERICAL]\n",
            "\t404 : cont1 [NUMERICAL]\n",
            "\t396 : cont11 [NUMERICAL]\n",
            "\t394 : cont6 [NUMERICAL]\n",
            "\t389 : cont5 [NUMERICAL]\n",
            "\t388 : cont2 [NUMERICAL]\n",
            "\t378 : cont7 [NUMERICAL]\n",
            "\t366 : cont14 [NUMERICAL]\n",
            "\t347 : cont8 [NUMERICAL]\n",
            "\n",
            "Attribute in nodes with depth <= 5:\n",
            "\t912 : cont13 [NUMERICAL]\n",
            "\t863 : cont3 [NUMERICAL]\n",
            "\t829 : cont4 [NUMERICAL]\n",
            "\t826 : cont12 [NUMERICAL]\n",
            "\t821 : cont10 [NUMERICAL]\n",
            "\t806 : cont6 [NUMERICAL]\n",
            "\t803 : cont9 [NUMERICAL]\n",
            "\t786 : cont1 [NUMERICAL]\n",
            "\t766 : cont11 [NUMERICAL]\n",
            "\t750 : cont2 [NUMERICAL]\n",
            "\t728 : cont7 [NUMERICAL]\n",
            "\t719 : cont8 [NUMERICAL]\n",
            "\t715 : cont5 [NUMERICAL]\n",
            "\t667 : cont14 [NUMERICAL]\n",
            "\n",
            "Condition type in nodes:\n",
            "\t10991 : HigherCondition\n",
            "Condition type in nodes with depth <= 0:\n",
            "\t404 : HigherCondition\n",
            "Condition type in nodes with depth <= 1:\n",
            "\t1205 : HigherCondition\n",
            "Condition type in nodes with depth <= 2:\n",
            "\t2771 : HigherCondition\n",
            "Condition type in nodes with depth <= 3:\n",
            "\t5698 : HigherCondition\n",
            "Condition type in nodes with depth <= 5:\n",
            "\t10991 : HigherCondition\n",
            "\n"
          ]
        }
      ]
    },
    {
      "cell_type": "code",
      "metadata": {
        "id": "iT3zt_w-9Bul",
        "colab": {
          "base_uri": "https://localhost:8080/",
          "height": 404
        },
        "outputId": "0b39579c-0070-4247-b785-643fd8965fca"
      },
      "source": [
        "tfdf.model_plotter.plot_model_in_colab(Final_model)"
      ],
      "execution_count": 50,
      "outputs": [
        {
          "output_type": "execute_result",
          "data": {
            "text/html": [
              "\n",
              "<script src=\"https://d3js.org/d3.v6.min.js\"></script>\n",
              "<div id=\"tree_plot_eb32bf30d91b4aea88c6c1a50833e868\"></div>\n",
              "<script>\n",
              "/*\n",
              " * Copyright 2021 Google LLC.\n",
              " * Licensed under the Apache License, Version 2.0 (the \"License\");\n",
              " * you may not use this file except in compliance with the License.\n",
              " * You may obtain a copy of the License at\n",
              " *\n",
              " *     https://www.apache.org/licenses/LICENSE-2.0\n",
              " *\n",
              " * Unless required by applicable law or agreed to in writing, software\n",
              " * distributed under the License is distributed on an \"AS IS\" BASIS,\n",
              " * WITHOUT WARRANTIES OR CONDITIONS OF ANY KIND, either express or implied.\n",
              " * See the License for the specific language governing permissions and\n",
              " * limitations under the License.\n",
              " */\n",
              "\n",
              "/**\n",
              " *  Plotting of decision trees generated by TF-DF.\n",
              " *\n",
              " *  A tree is a recursive structure of node objects.\n",
              " *  A node contains one or more of the following components:\n",
              " *\n",
              " *    - A value: Representing the output of the node. If the node is not a leaf,\n",
              " *      the value is only present for analysis i.e. it is not used for\n",
              " *      predictions.\n",
              " *\n",
              " *    - A condition : For non-leaf nodes, the condition (also known as split)\n",
              " *      defines a binary test to branch to the positive or negative child.\n",
              " *\n",
              " *    - An explanation: Generally a plot showing the relation between the label\n",
              " *      and the condition to give insights about the effect of the condition.\n",
              " *\n",
              " *    - Two children : For non-leaf nodes, the children nodes. The first\n",
              " *      children (i.e. \"node.children[0]\") is the negative children (drawn in\n",
              " *      red). The second children is the positive one (drawn in green).\n",
              " *\n",
              " */\n",
              "\n",
              "/**\n",
              " * Plots a single decision tree into a DOM element.\n",
              " * @param {!options} options Dictionary of configurations.\n",
              " * @param {!tree} raw_tree Recursive tree structure.\n",
              " * @param {string} canvas_id Id of the output dom element.\n",
              " */\n",
              "function display_tree(options, raw_tree, canvas_id) {\n",
              "  console.log(options);\n",
              "\n",
              "  // Determine the node placement.\n",
              "  const tree_struct = d3.tree().nodeSize(\n",
              "      [options.node_y_offset, options.node_x_offset])(d3.hierarchy(raw_tree));\n",
              "\n",
              "  // Boundaries of the node placement.\n",
              "  let x_min = Infinity;\n",
              "  let x_max = -x_min;\n",
              "  let y_min = Infinity;\n",
              "  let y_max = -x_min;\n",
              "\n",
              "  tree_struct.each(d => {\n",
              "    if (d.x > x_max) x_max = d.x;\n",
              "    if (d.x < x_min) x_min = d.x;\n",
              "    if (d.y > y_max) y_max = d.y;\n",
              "    if (d.y < y_min) y_min = d.y;\n",
              "  });\n",
              "\n",
              "  // Size of the plot.\n",
              "  const width = y_max - y_min + options.node_x_size + options.margin * 2;\n",
              "  const height = x_max - x_min + options.node_y_size + options.margin * 2 +\n",
              "      options.node_y_offset - options.node_y_size;\n",
              "\n",
              "  const plot = d3.select(canvas_id);\n",
              "\n",
              "  // Tool tip\n",
              "  options.tooltip = plot.append('div')\n",
              "                        .attr('width', 100)\n",
              "                        .attr('height', 100)\n",
              "                        .style('padding', '4px')\n",
              "                        .style('background', '#fff')\n",
              "                        .style('box-shadow', '4px 4px 0px rgba(0,0,0,0.1)')\n",
              "                        .style('border', '1px solid black')\n",
              "                        .style('font-family', 'sans-serif')\n",
              "                        .style('font-size', options.font_size)\n",
              "                        .style('position', 'absolute')\n",
              "                        .style('z-index', '10')\n",
              "                        .attr('pointer-events', 'none')\n",
              "                        .style('display', 'none');\n",
              "\n",
              "  // Create canvas\n",
              "  const svg = plot.append('svg').attr('width', width).attr('height', height);\n",
              "  const graph =\n",
              "      svg.style('overflow', 'visible')\n",
              "          .append('g')\n",
              "          .attr('font-family', 'sans-serif')\n",
              "          .attr('font-size', options.font_size)\n",
              "          .attr(\n",
              "              'transform',\n",
              "              () => `translate(${options.margin},${\n",
              "                  - x_min + options.node_y_offset / 2 + options.margin})`);\n",
              "\n",
              "  // Plot bounding box.\n",
              "  if (options.show_plot_bounding_box) {\n",
              "    svg.append('rect')\n",
              "        .attr('width', width)\n",
              "        .attr('height', height)\n",
              "        .attr('fill', 'none')\n",
              "        .attr('stroke-width', 1.0)\n",
              "        .attr('stroke', 'black');\n",
              "  }\n",
              "\n",
              "  // Draw the edges.\n",
              "  display_edges(options, graph, tree_struct);\n",
              "\n",
              "  // Draw the nodes.\n",
              "  display_nodes(options, graph, tree_struct);\n",
              "}\n",
              "\n",
              "/**\n",
              " * Draw the nodes of the tree.\n",
              " * @param {!options} options Dictionary of configurations.\n",
              " * @param {!graph} graph D3 search handle containing the graph.\n",
              " * @param {!tree_struct} tree_struct Structure of the tree (node placement,\n",
              " *     data, etc.).\n",
              " */\n",
              "function display_nodes(options, graph, tree_struct) {\n",
              "  const nodes = graph.append('g')\n",
              "                    .selectAll('g')\n",
              "                    .data(tree_struct.descendants())\n",
              "                    .join('g')\n",
              "                    .attr('transform', d => `translate(${d.y},${d.x})`);\n",
              "\n",
              "  nodes.append('rect')\n",
              "      .attr('x', 0.5)\n",
              "      .attr('y', 0.5)\n",
              "      .attr('width', options.node_x_size)\n",
              "      .attr('height', options.node_y_size)\n",
              "      .attr('stroke', 'lightgrey')\n",
              "      .attr('stroke-width', 1)\n",
              "      .attr('fill', 'white')\n",
              "      .attr('y', -options.node_y_size / 2);\n",
              "\n",
              "  // Brackets on the right of condition nodes without children.\n",
              "  non_leaf_node_without_children =\n",
              "      nodes.filter(node => node.data.condition != null && node.children == null)\n",
              "          .append('g')\n",
              "          .attr('transform', `translate(${options.node_x_size},0)`);\n",
              "\n",
              "  non_leaf_node_without_children.append('path')\n",
              "      .attr('d', 'M0,0 C 10,0 0,10 10,10')\n",
              "      .attr('fill', 'none')\n",
              "      .attr('stroke-width', 1.0)\n",
              "      .attr('stroke', '#F00');\n",
              "\n",
              "  non_leaf_node_without_children.append('path')\n",
              "      .attr('d', 'M0,0 C 10,0 0,-10 10,-10')\n",
              "      .attr('fill', 'none')\n",
              "      .attr('stroke-width', 1.0)\n",
              "      .attr('stroke', '#0F0');\n",
              "\n",
              "  const node_content = nodes.append('g').attr(\n",
              "      'transform',\n",
              "      `translate(0,${options.node_padding - options.node_y_size / 2})`);\n",
              "\n",
              "  node_content.append(node => create_node_element(options, node));\n",
              "}\n",
              "\n",
              "/**\n",
              " * Creates the D3 content for a single node.\n",
              " * @param {!options} options Dictionary of configurations.\n",
              " * @param {!node} node Node to draw.\n",
              " * @return {!d3} D3 content.\n",
              " */\n",
              "function create_node_element(options, node) {\n",
              "  // Output accumulator.\n",
              "  let output = {\n",
              "    // Content to draw.\n",
              "    content: d3.create('svg:g'),\n",
              "    // Vertical offset to the next element to draw.\n",
              "    vertical_offset: 0\n",
              "  };\n",
              "\n",
              "  // Conditions.\n",
              "  if (node.data.condition != null) {\n",
              "    display_condition(options, node.data.condition, output);\n",
              "  }\n",
              "\n",
              "  // Values.\n",
              "  if (node.data.value != null) {\n",
              "    display_value(options, node.data.value, output);\n",
              "  }\n",
              "\n",
              "  // Explanations.\n",
              "  if (node.data.explanation != null) {\n",
              "    display_explanation(options, node.data.explanation, output);\n",
              "  }\n",
              "\n",
              "  return output.content.node();\n",
              "}\n",
              "\n",
              "\n",
              "/**\n",
              " * Adds a single line of text inside of a node.\n",
              " * @param {!options} options Dictionary of configurations.\n",
              " * @param {string} text Text to display.\n",
              " * @param {!output} output Output display accumulator.\n",
              " */\n",
              "function display_node_text(options, text, output) {\n",
              "  output.content.append('text')\n",
              "      .attr('x', options.node_padding)\n",
              "      .attr('y', output.vertical_offset)\n",
              "      .attr('alignment-baseline', 'hanging')\n",
              "      .text(text);\n",
              "  output.vertical_offset += 10;\n",
              "}\n",
              "\n",
              "/**\n",
              " * Adds a single line of text inside of a node with a tooltip.\n",
              " * @param {!options} options Dictionary of configurations.\n",
              " * @param {string} text Text to display.\n",
              " * @param {string} tooltip Text in the Tooltip.\n",
              " * @param {!output} output Output display accumulator.\n",
              " */\n",
              "function display_node_text_with_tooltip(options, text, tooltip, output) {\n",
              "  const item = output.content.append('text')\n",
              "                   .attr('x', options.node_padding)\n",
              "                   .attr('alignment-baseline', 'hanging')\n",
              "                   .text(text);\n",
              "\n",
              "  add_tooltip(options, item, () => tooltip);\n",
              "  output.vertical_offset += 10;\n",
              "}\n",
              "\n",
              "/**\n",
              " * Adds a tooltip to a dom element.\n",
              " * @param {!options} options Dictionary of configurations.\n",
              " * @param {!dom} target Dom element to equip with a tooltip.\n",
              " * @param {!func} get_content Generates the html content of the tooltip.\n",
              " */\n",
              "function add_tooltip(options, target, get_content) {\n",
              "  function show(d) {\n",
              "    options.tooltip.style('display', 'block');\n",
              "    options.tooltip.html(get_content());\n",
              "  }\n",
              "\n",
              "  function hide(d) {\n",
              "    options.tooltip.style('display', 'none');\n",
              "  }\n",
              "\n",
              "  function move(d) {\n",
              "    options.tooltip.style('display', 'block');\n",
              "    options.tooltip.style('left', (d.pageX + 5) + 'px');\n",
              "    options.tooltip.style('top', d.pageY + 'px');\n",
              "  }\n",
              "\n",
              "  target.on('mouseover', show);\n",
              "  target.on('mouseout', hide);\n",
              "  target.on('mousemove', move);\n",
              "}\n",
              "\n",
              "/**\n",
              " * Adds a condition inside of a node.\n",
              " * @param {!options} options Dictionary of configurations.\n",
              " * @param {!condition} condition Condition to display.\n",
              " * @param {!output} output Output display accumulator.\n",
              " */\n",
              "function display_condition(options, condition, output) {\n",
              "  threshold_format = d3.format('r');\n",
              "\n",
              "  if (condition.type === 'IS_MISSING') {\n",
              "    display_node_text(options, `${condition.attribute} is missing`, output);\n",
              "    return;\n",
              "  }\n",
              "\n",
              "  if (condition.type === 'IS_TRUE') {\n",
              "    display_node_text(options, `${condition.attribute} is true`, output);\n",
              "    return;\n",
              "  }\n",
              "\n",
              "  if (condition.type === 'NUMERICAL_IS_HIGHER_THAN') {\n",
              "    format = d3.format('r');\n",
              "    display_node_text(\n",
              "        options,\n",
              "        `${condition.attribute} >= ${threshold_format(condition.threshold)}`,\n",
              "        output);\n",
              "    return;\n",
              "  }\n",
              "\n",
              "  if (condition.type === 'CATEGORICAL_IS_IN') {\n",
              "    display_node_text_with_tooltip(\n",
              "        options, `${condition.attribute} in [...]`,\n",
              "        `${condition.attribute} in [${condition.mask}]`, output);\n",
              "    return;\n",
              "  }\n",
              "\n",
              "  if (condition.type === 'CATEGORICAL_SET_CONTAINS') {\n",
              "    display_node_text_with_tooltip(\n",
              "        options, `${condition.attribute} intersect [...]`,\n",
              "        `${condition.attribute} intersect [${condition.mask}]`, output);\n",
              "    return;\n",
              "  }\n",
              "\n",
              "  if (condition.type === 'NUMERICAL_SPARSE_OBLIQUE') {\n",
              "    display_node_text_with_tooltip(\n",
              "        options, `Sparse oblique split...`,\n",
              "        `[${condition.attributes}]*[${condition.weights}]>=${\n",
              "            threshold_format(condition.threshold)}`,\n",
              "        output);\n",
              "    return;\n",
              "  }\n",
              "\n",
              "  display_node_text(\n",
              "      options, `Non supported condition ${condition.type}`, output);\n",
              "}\n",
              "\n",
              "/**\n",
              " * Adds a value inside of a node.\n",
              " * @param {!options} options Dictionary of configurations.\n",
              " * @param {!value} value Value to display.\n",
              " * @param {!output} output Output display accumulator.\n",
              " */\n",
              "function display_value(options, value, output) {\n",
              "  if (value.type === 'PROBABILITY') {\n",
              "    const left_margin = 0;\n",
              "    const right_margin = 50;\n",
              "    const plot_width = options.node_x_size - options.node_padding * 2 -\n",
              "        left_margin - right_margin;\n",
              "\n",
              "    let cusum = Array.from(d3.cumsum(value.distribution));\n",
              "    cusum.unshift(0);\n",
              "    const distribution_plot = output.content.append('g').attr(\n",
              "        'transform', `translate(0,${output.vertical_offset + 0.5})`);\n",
              "\n",
              "    distribution_plot.selectAll('rect')\n",
              "        .data(value.distribution)\n",
              "        .join('rect')\n",
              "        .attr('height', 10)\n",
              "        .attr(\n",
              "            'x',\n",
              "            (d, i) =>\n",
              "                (cusum[i] * plot_width + left_margin + options.node_padding))\n",
              "        .attr('width', (d, i) => d * plot_width)\n",
              "        .style('fill', (d, i) => d3.schemeSet1[i]);\n",
              "\n",
              "    const num_examples =\n",
              "        output.content.append('g')\n",
              "            .attr('transform', `translate(0,${output.vertical_offset})`)\n",
              "            .append('text')\n",
              "            .attr('x', options.node_x_size - options.node_padding)\n",
              "            .attr('alignment-baseline', 'hanging')\n",
              "            .attr('text-anchor', 'end')\n",
              "            .text(`(${value.num_examples})`);\n",
              "\n",
              "    const distribution_details = d3.create('ul');\n",
              "    distribution_details.selectAll('li')\n",
              "        .data(value.distribution)\n",
              "        .join('li')\n",
              "        .append('span')\n",
              "        .text(\n",
              "            (d, i) =>\n",
              "                'class ' + i + ': ' + d3.format('.3%')(value.distribution[i]));\n",
              "\n",
              "    add_tooltip(options, distribution_plot, () => distribution_details.html());\n",
              "    add_tooltip(options, num_examples, () => 'Number of examples');\n",
              "\n",
              "    output.vertical_offset += 10;\n",
              "    return;\n",
              "  }\n",
              "\n",
              "  if (value.type === 'REGRESSION') {\n",
              "    display_node_text(\n",
              "        options,\n",
              "        'value: ' + d3.format('r')(value.value) + ` (` +\n",
              "            d3.format('.6')(value.num_examples) + `)`,\n",
              "        output);\n",
              "    return;\n",
              "  }\n",
              "\n",
              "  display_node_text(options, `Non supported value ${value.type}`, output);\n",
              "}\n",
              "\n",
              "/**\n",
              " * Adds an explanation inside of a node.\n",
              " * @param {!options} options Dictionary of configurations.\n",
              " * @param {!explanation} explanation Explanation to display.\n",
              " * @param {!output} output Output display accumulator.\n",
              " */\n",
              "function display_explanation(options, explanation, output) {\n",
              "  // Margin before the explanation.\n",
              "  output.vertical_offset += 10;\n",
              "\n",
              "  display_node_text(\n",
              "      options, `Non supported explanation ${explanation.type}`, output);\n",
              "}\n",
              "\n",
              "\n",
              "/**\n",
              " * Draw the edges of the tree.\n",
              " * @param {!options} options Dictionary of configurations.\n",
              " * @param {!graph} graph D3 search handle containing the graph.\n",
              " * @param {!tree_struct} tree_struct Structure of the tree (node placement,\n",
              " *     data, etc.).\n",
              " */\n",
              "function display_edges(options, graph, tree_struct) {\n",
              "  // Draw an edge between a parent and a child node with a bezier.\n",
              "  function draw_single_edge(d) {\n",
              "    return 'M' + (d.source.y + options.node_x_size) + ',' + d.source.x + ' C' +\n",
              "        (d.source.y + options.node_x_size + options.edge_rounding) + ',' +\n",
              "        d.source.x + ' ' + (d.target.y - options.edge_rounding) + ',' +\n",
              "        d.target.x + ' ' + d.target.y + ',' + d.target.x;\n",
              "  }\n",
              "\n",
              "  graph.append('g')\n",
              "      .attr('fill', 'none')\n",
              "      .attr('stroke-width', 1.2)\n",
              "      .selectAll('path')\n",
              "      .data(tree_struct.links())\n",
              "      .join('path')\n",
              "      .attr('d', draw_single_edge)\n",
              "      .attr(\n",
              "          'stroke', d => (d.target === d.source.children[0]) ? '#0F0' : '#F00');\n",
              "}\n",
              "\n",
              "display_tree({\"margin\": 10, \"node_x_size\": 160, \"node_y_size\": 28, \"node_x_offset\": 180, \"node_y_offset\": 33, \"font_size\": 10, \"edge_rounding\": 20, \"node_padding\": 2, \"show_plot_bounding_box\": false}, {\"value\": {\"type\": \"REGRESSION\", \"value\": -5.294582994253005e-09, \"num_examples\": 215886.0, \"standard_deviation\": 0.7336122078492749}, \"condition\": {\"type\": \"NUMERICAL_IS_HIGHER_THAN\", \"attribute\": \"cont11\", \"threshold\": 0.4252880811691284}, \"children\": [{\"value\": {\"type\": \"REGRESSION\", \"value\": 0.00411825068295002, \"num_examples\": 114532.0, \"standard_deviation\": 0.7522971479254302}, \"condition\": {\"type\": \"NUMERICAL_IS_HIGHER_THAN\", \"attribute\": \"cont1\", \"threshold\": 0.48688364028930664}, \"children\": [{\"value\": {\"type\": \"REGRESSION\", \"value\": -0.0010249452898278832, \"num_examples\": 78218.0, \"standard_deviation\": 0.7483470398342342}, \"condition\": {\"type\": \"NUMERICAL_IS_HIGHER_THAN\", \"attribute\": \"cont13\", \"threshold\": 0.9330133199691772}, \"children\": [{\"value\": {\"type\": \"REGRESSION\", \"value\": 0.016378385946154594, \"num_examples\": 7349.0, \"standard_deviation\": 0.7266880089795383}, \"condition\": {\"type\": \"NUMERICAL_IS_HIGHER_THAN\", \"attribute\": \"cont13\", \"threshold\": 0.954513669013977}}, {\"value\": {\"type\": \"REGRESSION\", \"value\": -0.0028296425007283688, \"num_examples\": 70869.0, \"standard_deviation\": 0.748244453902235}, \"condition\": {\"type\": \"NUMERICAL_IS_HIGHER_THAN\", \"attribute\": \"cont2\", \"threshold\": 0.35461747646331787}}]}, {\"value\": {\"type\": \"REGRESSION\", \"value\": 0.01519636157900095, \"num_examples\": 36314.0, \"standard_deviation\": 0.7488315910573059}, \"condition\": {\"type\": \"NUMERICAL_IS_HIGHER_THAN\", \"attribute\": \"cont3\", \"threshold\": 0.9360467195510864}, \"children\": [{\"value\": {\"type\": \"REGRESSION\", \"value\": 0.04469505324959755, \"num_examples\": 3727.0, \"standard_deviation\": 0.7344345782374929}, \"condition\": {\"type\": \"NUMERICAL_IS_HIGHER_THAN\", \"attribute\": \"cont12\", \"threshold\": 0.5484544038772583}}, {\"value\": {\"type\": \"REGRESSION\", \"value\": 0.011822573840618134, \"num_examples\": 32587.0, \"standard_deviation\": 0.7430347341353924}, \"condition\": {\"type\": \"NUMERICAL_IS_HIGHER_THAN\", \"attribute\": \"cont1\", \"threshold\": 0.3614153563976288}}]}]}, {\"value\": {\"type\": \"REGRESSION\", \"value\": -0.0046537150628864765, \"num_examples\": 101354.0, \"standard_deviation\": 0.709035011149029}, \"condition\": {\"type\": \"NUMERICAL_IS_HIGHER_THAN\", \"attribute\": \"cont4\", \"threshold\": 0.7757371068000793}, \"children\": [{\"value\": {\"type\": \"REGRESSION\", \"value\": 0.0074873194098472595, \"num_examples\": 24938.0, \"standard_deviation\": 0.6819756585781622}, \"condition\": {\"type\": \"NUMERICAL_IS_HIGHER_THAN\", \"attribute\": \"cont13\", \"threshold\": 0.42016464471817017}, \"children\": [{\"value\": {\"type\": \"REGRESSION\", \"value\": -0.0019053489668294787, \"num_examples\": 5827.0, \"standard_deviation\": 0.6842450460625273}, \"condition\": {\"type\": \"NUMERICAL_IS_HIGHER_THAN\", \"attribute\": \"cont10\", \"threshold\": 0.7119365930557251}}, {\"value\": {\"type\": \"REGRESSION\", \"value\": 0.010351171717047691, \"num_examples\": 19111.0, \"standard_deviation\": 0.6787012346765595}, \"condition\": {\"type\": \"NUMERICAL_IS_HIGHER_THAN\", \"attribute\": \"cont8\", \"threshold\": 0.5878286361694336}}]}, {\"value\": {\"type\": \"REGRESSION\", \"value\": -0.008615883998572826, \"num_examples\": 76416.0, \"standard_deviation\": 0.71318572041566}, \"condition\": {\"type\": \"NUMERICAL_IS_HIGHER_THAN\", \"attribute\": \"cont13\", \"threshold\": 0.4137032628059387}, \"children\": [{\"value\": {\"type\": \"REGRESSION\", \"value\": -0.014064325951039791, \"num_examples\": 31068.0, \"standard_deviation\": 0.71213825804267}, \"condition\": {\"type\": \"NUMERICAL_IS_HIGHER_THAN\", \"attribute\": \"cont12\", \"threshold\": 0.36465537548065186}}, {\"value\": {\"type\": \"REGRESSION\", \"value\": -0.004883146844804287, \"num_examples\": 45348.0, \"standard_deviation\": 0.711498149924574}, \"condition\": {\"type\": \"NUMERICAL_IS_HIGHER_THAN\", \"attribute\": \"cont11\", \"threshold\": 0.3101867437362671}}]}]}]}, \"#tree_plot_eb32bf30d91b4aea88c6c1a50833e868\")\n",
              "</script>\n"
            ],
            "text/plain": [
              "<IPython.core.display.HTML object>"
            ]
          },
          "metadata": {},
          "execution_count": 50
        }
      ]
    },
    {
      "cell_type": "code",
      "metadata": {
        "id": "I11cWpq29FJc",
        "colab": {
          "base_uri": "https://localhost:8080/"
        },
        "outputId": "930c22f5-c4d6-4550-cdaf-14f877c226b1"
      },
      "source": [
        "Final_eval = Final_model.evaluate(tfds_valid, return_dict=True)\n",
        "print()\n",
        "\n",
        "for name, value in Final_eval.items():\n",
        "    print(f\"{name}: {value:.4f}\")"
      ],
      "execution_count": 63,
      "outputs": [
        {
          "output_type": "stream",
          "name": "stdout",
          "text": [
            "938/938 [==============================] - 3s 3ms/step - loss: 0.0000e+00 - rmse: 0.7006\n",
            "\n",
            "loss: 0.0000\n",
            "rmse: 0.7006\n"
          ]
        }
      ]
    },
    {
      "cell_type": "markdown",
      "metadata": {
        "id": "vAzsJd7g9Oqi"
      },
      "source": [
        "### 5.b) Load Test Dataset and Prepare the Submission File"
      ]
    },
    {
      "cell_type": "code",
      "metadata": {
        "colab": {
          "base_uri": "https://localhost:8080/"
        },
        "id": "U8jDH1CW9QBI",
        "outputId": "b86d0970-8878-4d75-ab28-93142381ca7e"
      },
      "source": [
        "dataset_path = 'https://dainesanalytics.com/datasets/kaggle-tabular-playground-2021jan/test.csv'\n",
        "df_features_test = pd.read_csv(dataset_path, index_col=False)\n",
        "\n",
        "# Take a peek at the dataframe after import\n",
        "print(df_features_test.head())"
      ],
      "execution_count": 52,
      "outputs": [
        {
          "output_type": "stream",
          "name": "stdout",
          "text": [
            "   id     cont1     cont2     cont3  ...    cont11    cont12    cont13    cont14\n",
            "0   0  0.353600  0.738780  0.600939  ...  0.550540  0.699134  0.286864  0.364515\n",
            "1   2  0.907222  0.189756  0.215531  ...  0.446475  0.449037  0.916964  0.513002\n",
            "2   6  0.179287  0.355353  0.623972  ...  0.211913  0.222651  0.327164  0.827941\n",
            "3   7  0.359385  0.181049  0.551368  ...  0.445276  0.518485  0.299028  0.598166\n",
            "4  10  0.335791  0.682607  0.676481  ...  0.817721  0.805895  0.790591  0.249275\n",
            "\n",
            "[5 rows x 15 columns]\n"
          ]
        }
      ]
    },
    {
      "cell_type": "code",
      "metadata": {
        "id": "sEys8on49SGC",
        "colab": {
          "base_uri": "https://localhost:8080/"
        },
        "outputId": "ee040a80-a574-48bc-d02a-9fae4e47e268"
      },
      "source": [
        "df_kaggle_submission = pd.DataFrame()\n",
        "df_kaggle_submission['id'] = df_features_test['id']\n",
        "print(df_kaggle_submission.head())"
      ],
      "execution_count": 53,
      "outputs": [
        {
          "output_type": "stream",
          "name": "stdout",
          "text": [
            "   id\n",
            "0   0\n",
            "1   2\n",
            "2   6\n",
            "3   7\n",
            "4  10\n"
          ]
        }
      ]
    },
    {
      "cell_type": "code",
      "metadata": {
        "id": "M_Q32_pF9UJF",
        "colab": {
          "base_uri": "https://localhost:8080/"
        },
        "outputId": "5e6596f7-8a86-45aa-a39b-c91ad6219734"
      },
      "source": [
        "# Dropping features\n",
        "df_features_test.drop(columns=['id'], inplace=True)\n",
        "\n",
        "# Take a peek at the dataframe after cleaning\n",
        "print(df_features_test.head())"
      ],
      "execution_count": 54,
      "outputs": [
        {
          "output_type": "stream",
          "name": "stdout",
          "text": [
            "      cont1     cont2     cont3  ...    cont12    cont13    cont14\n",
            "0  0.353600  0.738780  0.600939  ...  0.699134  0.286864  0.364515\n",
            "1  0.907222  0.189756  0.215531  ...  0.449037  0.916964  0.513002\n",
            "2  0.179287  0.355353  0.623972  ...  0.222651  0.327164  0.827941\n",
            "3  0.359385  0.181049  0.551368  ...  0.518485  0.299028  0.598166\n",
            "4  0.335791  0.682607  0.676481  ...  0.805895  0.790591  0.249275\n",
            "\n",
            "[5 rows x 14 columns]\n"
          ]
        }
      ]
    },
    {
      "cell_type": "code",
      "metadata": {
        "id": "9hPuYzYP9VZ9"
      },
      "source": [
        "# Finalize the test dataset for the prediction activities\n",
        "tfds_test = tfdf.keras.pd_dataframe_to_tf_dataset(df_features_test, task = tfdf.keras.Task.REGRESSION)"
      ],
      "execution_count": 55,
      "outputs": []
    },
    {
      "cell_type": "code",
      "metadata": {
        "colab": {
          "base_uri": "https://localhost:8080/"
        },
        "id": "-fvgenmXwXjV",
        "outputId": "90fe95c9-87a0-4db4-8559-73fe096fa2c4"
      },
      "source": [
        "# Make batched predictions\n",
        "test_predictions = Final_model.predict(tfds_test)\n",
        "print(test_predictions)"
      ],
      "execution_count": 56,
      "outputs": [
        {
          "output_type": "stream",
          "name": "stdout",
          "text": [
            "[[7.9471517]\n",
            " [7.8515325]\n",
            " [7.91051  ]\n",
            " ...\n",
            " [7.9942436]\n",
            " [8.031649 ]\n",
            " [7.947554 ]]\n"
          ]
        }
      ]
    },
    {
      "cell_type": "code",
      "metadata": {
        "id": "URcNcruf9r8w",
        "colab": {
          "base_uri": "https://localhost:8080/"
        },
        "outputId": "d5401843-0c3c-4a26-ec88-c4a2129fb98f"
      },
      "source": [
        "df_kaggle_submission['target'] = test_predictions\n",
        "print(df_kaggle_submission.head())"
      ],
      "execution_count": 57,
      "outputs": [
        {
          "output_type": "stream",
          "name": "stdout",
          "text": [
            "   id    target\n",
            "0   0  7.947152\n",
            "1   2  7.851532\n",
            "2   6  7.910510\n",
            "3   7  8.272182\n",
            "4  10  8.282704\n"
          ]
        }
      ]
    },
    {
      "cell_type": "code",
      "metadata": {
        "id": "OWRZ-ue59uM5",
        "colab": {
          "base_uri": "https://localhost:8080/"
        },
        "outputId": "510cb34a-43e6-4e0c-f337-cdfb0c2577d3"
      },
      "source": [
        "submission_file = df_kaggle_submission.to_csv(header=True, index=False)\n",
        "filename = 'submission_' + datetime.now().strftime('%Y%m%d-%H%M') + '.csv'\n",
        "with open(filename, 'w') as f:\n",
        "    f.write(submission_file)\n",
        "    print('Completed writing output file: ' + filename)"
      ],
      "execution_count": 58,
      "outputs": [
        {
          "output_type": "stream",
          "name": "stdout",
          "text": [
            "Completed writing output file: submission_20211122-0117.csv\n"
          ]
        }
      ]
    },
    {
      "cell_type": "code",
      "metadata": {
        "id": "YB2v5Iq9wXjV"
      },
      "source": [
        "if NOTIFY_STATUS: status_notify(\"Task 5 - Finalize Model and Present Analysis completed! \"+datetime.now().strftime('%a %B %d, %Y %I:%M:%S %p'))"
      ],
      "execution_count": 59,
      "outputs": []
    },
    {
      "cell_type": "code",
      "metadata": {
        "colab": {
          "base_uri": "https://localhost:8080/"
        },
        "id": "piIVF1NIwXjW",
        "outputId": "c7511d15-bfc7-4492-fef5-e3d368115997"
      },
      "source": [
        "print ('Total time for the script:',(datetime.now() - start_time_script))"
      ],
      "execution_count": 60,
      "outputs": [
        {
          "output_type": "stream",
          "name": "stdout",
          "text": [
            "Total time for the script: 0:43:56.769768\n"
          ]
        }
      ]
    }
  ]
}
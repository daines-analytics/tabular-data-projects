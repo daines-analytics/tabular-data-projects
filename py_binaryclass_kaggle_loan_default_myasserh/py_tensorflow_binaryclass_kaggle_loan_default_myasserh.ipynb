{
 "cells": [
  {
   "cell_type": "markdown",
   "metadata": {},
   "source": [
    "# Binary Classification Model for Loan Default Dataset Using TensorFlow\n",
    "### David Lowe\n",
    "### February 10, 2022\n",
    "\n",
    "Template Credit: Adapted from a template made available by Dr. Jason Brownlee of Machine Learning Mastery. [https://machinelearningmastery.com/]\n",
    "\n",
    "SUMMARY: The project aims to construct a predictive model using various machine learning algorithms and document the end-to-end steps using a template. The Loan Default dataset is a binary classification situation where we are trying to predict one of the two possible outcomes.\n",
    "\n",
    "INTRODUCTION: The dataset owner leveraged another source from Kaggle to create a dataset for predicting loan default. The dataset contains the past data on the loan borrowers, and we would develop a machine learning model to classify whether any new borrower is likely to default.\n",
    "\n",
    "ANALYSIS: The performance of the preliminary TensorFlow model achieved a ROC/AUC benchmark of 1.0. When we processed the test dataset with the final model, the model achieved a ROC/AUC score of 1.0.\n",
    "\n",
    "CONCLUSION: In this iteration, the TensorFlow model appeared to be a suitable algorithm for modeling this dataset.\n",
    "\n",
    "Dataset Used: Loan Default Dataset by M Yasser H\n",
    "\n",
    "Dataset ML Model: Binary classification with numerical and categorical features\n",
    "\n",
    "Dataset Reference: https://www.kaggle.com/yasserh/loan-default-dataset"
   ]
  },
  {
   "cell_type": "markdown",
   "metadata": {},
   "source": [
    "## Task 1 - Prepare Environment"
   ]
  },
  {
   "cell_type": "code",
   "execution_count": 1,
   "metadata": {},
   "outputs": [],
   "source": [
    "# # Install the necessary packages for Colab\n",
    "# !pip install python-dotenv PyMySQL"
   ]
  },
  {
   "cell_type": "code",
   "execution_count": 2,
   "metadata": {},
   "outputs": [
    {
     "name": "stdout",
     "output_type": "stream",
     "text": [
      "Wed Feb  2 21:10:59 2022       \n",
      "+-----------------------------------------------------------------------------+\n",
      "| NVIDIA-SMI 460.91.03    Driver Version: 460.91.03    CUDA Version: 11.4     |\n",
      "|-------------------------------+----------------------+----------------------+\n",
      "| GPU  Name        Persistence-M| Bus-Id        Disp.A | Volatile Uncorr. ECC |\n",
      "| Fan  Temp  Perf  Pwr:Usage/Cap|         Memory-Usage | GPU-Util  Compute M. |\n",
      "|                               |                      |               MIG M. |\n",
      "|===============================+======================+======================|\n",
      "|   0  Quadro RTX 5000     Off  | 00000000:00:05.0 Off |                  Off |\n",
      "| 33%   33C    P0    54W / 230W |      0MiB / 16125MiB |      0%      Default |\n",
      "|                               |                      |                  N/A |\n",
      "+-------------------------------+----------------------+----------------------+\n",
      "                                                                               \n",
      "+-----------------------------------------------------------------------------+\n",
      "| Processes:                                                                  |\n",
      "|  GPU   GI   CI        PID   Type   Process name                  GPU Memory |\n",
      "|        ID   ID                                                   Usage      |\n",
      "|=============================================================================|\n",
      "|  No running processes found                                                 |\n",
      "+-----------------------------------------------------------------------------+\n"
     ]
    }
   ],
   "source": [
    "# Retrieve the GPU information\n",
    "gpu_info = !nvidia-smi\n",
    "gpu_info = '\\n'.join(gpu_info)\n",
    "if gpu_info.find('failed') >= 0:\n",
    "    print('Select the Runtime → \"Change runtime type\" menu to enable a GPU accelerator, ')\n",
    "    print('and then re-execute this cell.')\n",
    "else:\n",
    "    print(gpu_info)"
   ]
  },
  {
   "cell_type": "code",
   "execution_count": 3,
   "metadata": {},
   "outputs": [
    {
     "name": "stdout",
     "output_type": "stream",
     "text": [
      "Your runtime has 31.6 gigabytes of available RAM\n",
      "\n",
      "You are using a high-RAM runtime!\n"
     ]
    }
   ],
   "source": [
    "# Retrieve the memory configuration\n",
    "from psutil import virtual_memory\n",
    "ram_gb = virtual_memory().total / 1e9\n",
    "print('Your runtime has {:.1f} gigabytes of available RAM\\n'.format(ram_gb))\n",
    "\n",
    "if ram_gb < 20:\n",
    "    print('To enable a high-RAM runtime, select the Runtime → \"Change runtime type\"')\n",
    "    print('menu, and then select High-RAM in the Runtime shape dropdown. Then, ')\n",
    "    print('re-execute this cell.')\n",
    "else:\n",
    "    print('You are using a high-RAM runtime!')"
   ]
  },
  {
   "cell_type": "code",
   "execution_count": 4,
   "metadata": {},
   "outputs": [
    {
     "name": "stdout",
     "output_type": "stream",
     "text": [
      "The number of available CPUs is: 8\n"
     ]
    }
   ],
   "source": [
    "# Retrieve the CPU information\n",
    "ncpu = !nproc\n",
    "print(\"The number of available CPUs is:\", ncpu[0])"
   ]
  },
  {
   "cell_type": "code",
   "execution_count": 5,
   "metadata": {},
   "outputs": [],
   "source": [
    "# # Mount Google Drive locally for loading the dotenv files\n",
    "# from dotenv import load_dotenv\n",
    "# from google.colab import drive\n",
    "# drive.mount('/content/gdrive')\n",
    "# gdrivePrefix = '/content/gdrive/My Drive/Colab_Downloads/'\n",
    "# env_path = '/content/gdrive/My Drive/Colab Notebooks/'\n",
    "# dotenv_path = env_path + \"python_script.env\"\n",
    "# load_dotenv(dotenv_path=dotenv_path)"
   ]
  },
  {
   "cell_type": "markdown",
   "metadata": {},
   "source": [
    "### 1.a) Load libraries and modules"
   ]
  },
  {
   "cell_type": "code",
   "execution_count": 6,
   "metadata": {},
   "outputs": [],
   "source": [
    "# Set the random seed number for reproducible results\n",
    "RNG_SEED = 888"
   ]
  },
  {
   "cell_type": "code",
   "execution_count": 7,
   "metadata": {},
   "outputs": [],
   "source": [
    "import random\n",
    "random.seed(RNG_SEED)\n",
    "import numpy as np\n",
    "np.random.seed(RNG_SEED)\n",
    "import pandas as pd\n",
    "import seaborn as sns\n",
    "import matplotlib.pyplot as plt\n",
    "import os\n",
    "import sys\n",
    "import math\n",
    "# import boto3\n",
    "from datetime import datetime\n",
    "from sklearn import preprocessing\n",
    "from sklearn.model_selection import train_test_split\n",
    "from sklearn.model_selection import RepeatedKFold\n",
    "from sklearn.model_selection import cross_val_score\n",
    "from sklearn.metrics import classification_report\n",
    "from sklearn.metrics import confusion_matrix\n",
    "from sklearn.metrics import accuracy_score\n",
    "from sklearn.metrics import roc_auc_score\n",
    "from sklearn.pipeline import Pipeline\n",
    "from sklearn import compose\n",
    "from sklearn import impute\n",
    "\n",
    "# from sklearn.feature_selection import RFE\n",
    "# from imblearn.pipeline import Pipeline\n",
    "# from imblearn.over_sampling import SMOTE\n",
    "# from imblearn.under_sampling import RandomUnderSampler\n",
    "\n",
    "import tensorflow as tf\n",
    "tf.random.set_seed(RNG_SEED)\n",
    "from tensorflow import keras\n",
    "from tensorflow.keras.callbacks import ReduceLROnPlateau"
   ]
  },
  {
   "cell_type": "markdown",
   "metadata": {},
   "source": [
    "### 1.b) Set up the controlling parameters and functions"
   ]
  },
  {
   "cell_type": "code",
   "execution_count": 8,
   "metadata": {},
   "outputs": [],
   "source": [
    "# Begin the timer for the script processing\n",
    "START_TIME_SCRIPT = datetime.now()"
   ]
  },
  {
   "cell_type": "code",
   "execution_count": 9,
   "metadata": {},
   "outputs": [
    {
     "name": "stderr",
     "output_type": "stream",
     "text": [
      "2022-02-02 21:11:02.707384: I tensorflow/stream_executor/cuda/cuda_gpu_executor.cc:1050] successful NUMA node read from SysFS had negative value (-1), but there must be at least one NUMA node, so returning NUMA node zero\n",
      "2022-02-02 21:11:02.720121: I tensorflow/stream_executor/cuda/cuda_gpu_executor.cc:1050] successful NUMA node read from SysFS had negative value (-1), but there must be at least one NUMA node, so returning NUMA node zero\n",
      "2022-02-02 21:11:02.721143: I tensorflow/stream_executor/cuda/cuda_gpu_executor.cc:1050] successful NUMA node read from SysFS had negative value (-1), but there must be at least one NUMA node, so returning NUMA node zero\n",
      "2022-02-02 21:11:02.723914: I tensorflow/stream_executor/cuda/cuda_gpu_executor.cc:1050] successful NUMA node read from SysFS had negative value (-1), but there must be at least one NUMA node, so returning NUMA node zero\n",
      "2022-02-02 21:11:02.724875: I tensorflow/stream_executor/cuda/cuda_gpu_executor.cc:1050] successful NUMA node read from SysFS had negative value (-1), but there must be at least one NUMA node, so returning NUMA node zero\n",
      "2022-02-02 21:11:02.725851: I tensorflow/stream_executor/cuda/cuda_gpu_executor.cc:1050] successful NUMA node read from SysFS had negative value (-1), but there must be at least one NUMA node, so returning NUMA node zero\n",
      "2022-02-02 21:11:03.529830: I tensorflow/stream_executor/cuda/cuda_gpu_executor.cc:1050] successful NUMA node read from SysFS had negative value (-1), but there must be at least one NUMA node, so returning NUMA node zero\n",
      "2022-02-02 21:11:03.530780: I tensorflow/stream_executor/cuda/cuda_gpu_executor.cc:1050] successful NUMA node read from SysFS had negative value (-1), but there must be at least one NUMA node, so returning NUMA node zero\n",
      "2022-02-02 21:11:03.531620: I tensorflow/stream_executor/cuda/cuda_gpu_executor.cc:1050] successful NUMA node read from SysFS had negative value (-1), but there must be at least one NUMA node, so returning NUMA node zero\n",
      "2022-02-02 21:11:03.532435: I tensorflow/core/common_runtime/gpu/gpu_device.cc:1510] Created device /job:localhost/replica:0/task:0/device:GPU:0 with 14817 MB memory:  -> device: 0, name: Quadro RTX 5000, pci bus id: 0000:00:05.0, c"
     ]
    },
    {
     "name": "stdout",
     "output_type": "stream",
     "text": [
      "Num GPUs Available: 1\n",
      "TensorFlow version: 2.6.0\n"
     ]
    },
    {
     "name": "stderr",
     "output_type": "stream",
     "text": [
      "ompute capability: 7.5\n"
     ]
    }
   ],
   "source": [
    "# Set up the number of CPU cores available for multi-thread processing\n",
    "N_JOBS = 1\n",
    "\n",
    "# Set up the flag to stop sending progress emails (setting to True will send status emails!)\n",
    "NOTIFY_STATUS = False\n",
    "\n",
    "# Set the percentage sizes for splitting the dataset\n",
    "TEST_SET_RATIO = 0.15\n",
    "VAL_SET_RATIO = 0.15\n",
    "\n",
    "# Set the number of folds for cross validation\n",
    "N_FOLDS = 5\n",
    "N_ITERATIONS = 1\n",
    "\n",
    "# Set various default modeling parameters\n",
    "DEFAULT_LOSS = 'binary_crossentropy'\n",
    "DEFAULT_METRICS = [tf.keras.metrics.AUC()]\n",
    "DEFAULT_OPTIMIZER = tf.keras.optimizers.Adam(learning_rate=0.001)\n",
    "DEFAULT_INITIALIZER = tf.keras.initializers.RandomNormal(seed=RNG_SEED)\n",
    "CLASSIFIER_ACTIVATION = 'sigmoid'\n",
    "MAX_EPOCHS = 5\n",
    "BATCH_SIZE = 32\n",
    "\n",
    "# Define the directory locations and file names\n",
    "TRAIN_DATASET = 'Loan_Default.csv'\n",
    "# TEST_DATASET = ''\n",
    "\n",
    "# Define the labels to use for graphing the data\n",
    "TRAIN_METRIC = \"auc\"\n",
    "VALIDATION_METRIC = \"val_auc\"\n",
    "TRAIN_LOSS = \"loss\"\n",
    "VALIDATION_LOSS = \"val_loss\"\n",
    "\n",
    "# Check the number of GPUs accessible through TensorFlow\n",
    "print('Num GPUs Available:', len(tf.config.list_physical_devices('GPU')))\n",
    "\n",
    "# Print out the TensorFlow version for confirmation\n",
    "print('TensorFlow version:', tf.__version__)"
   ]
  },
  {
   "cell_type": "code",
   "execution_count": 10,
   "metadata": {},
   "outputs": [],
   "source": [
    "# Set up the email notification function\n",
    "def status_notify(msg_text):\n",
    "    access_key = os.environ.get('SNS_ACCESS_KEY')\n",
    "    secret_key = os.environ.get('SNS_SECRET_KEY')\n",
    "    aws_region = os.environ.get('SNS_AWS_REGION')\n",
    "    topic_arn = os.environ.get('SNS_TOPIC_ARN')\n",
    "    if (access_key is None) or (secret_key is None) or (aws_region is None):\n",
    "        sys.exit(\"Incomplete notification setup info. Script Processing Aborted!!!\")\n",
    "    sns = boto3.client('sns', aws_access_key_id=access_key, aws_secret_access_key=secret_key, region_name=aws_region)\n",
    "    response = sns.publish(TopicArn=topic_arn, Message=msg_text)\n",
    "    if response['ResponseMetadata']['HTTPStatusCode'] != 200 :\n",
    "        print('Status notification not OK with HTTP status code:', response['ResponseMetadata']['HTTPStatusCode'])"
   ]
  },
  {
   "cell_type": "code",
   "execution_count": 11,
   "metadata": {},
   "outputs": [],
   "source": [
    "# Reset the random number generators\n",
    "def reset_random(x=RNG_SEED):\n",
    "    random.seed(x)\n",
    "    np.random.seed(x)\n",
    "    tf.random.set_seed(x)"
   ]
  },
  {
   "cell_type": "code",
   "execution_count": 12,
   "metadata": {},
   "outputs": [],
   "source": [
    "if NOTIFY_STATUS: status_notify(\"Task 1 - Prepare Environment has begun! \" + datetime.now().strftime('%a %B %d, %Y %I:%M:%S %p'))"
   ]
  },
  {
   "cell_type": "markdown",
   "metadata": {},
   "source": [
    "### 1.c) Load dataset"
   ]
  },
  {
   "cell_type": "code",
   "execution_count": 13,
   "metadata": {},
   "outputs": [],
   "source": [
    "if not os.path.exists(TRAIN_DATASET):\n",
    "    !wget https://dainesanalytics.com/datasets/kaggle-loan-default-m_yasser_h/Loan_Default.csv"
   ]
  },
  {
   "cell_type": "code",
   "execution_count": 14,
   "metadata": {},
   "outputs": [
    {
     "name": "stdout",
     "output_type": "stream",
     "text": [
      "      ID  year loan_limit             Gender approv_in_adv loan_type  \\\n",
      "0  24890  2019         cf  Sex Not Available         nopre     type1   \n",
      "1  24891  2019         cf               Male         nopre     type2   \n",
      "2  24892  2019         cf               Male           pre     type1   \n",
      "3  24893  2019         cf               Male         nopre     type1   \n",
      "4  24894  2019         cf              Joint           pre     type1   \n",
      "5  24895  2019         cf              Joint           pre     type1   \n",
      "6  24896  2019         cf              Joint           pre     type1   \n",
      "7  24897  2019        NaN             Female         nopre     type1   \n",
      "8  24898  2019         cf              Joint         nopre     type1   \n",
      "9  24899  2019         cf  Sex Not Available         nopre     type3   \n",
      "\n",
      "  loan_purpose Credit_Worthiness open_credit business_or_commercial  ...  \\\n",
      "0           p1                l1        nopc                  nob/c  ...   \n",
      "1           p1                l1        nopc                    b/c  ...   \n",
      "2           p1                l1        nopc                  nob/c  ...   \n",
      "3           p4                l1        nopc                  nob/c  ...   \n",
      "4           p1                l1        nopc                  nob/c  ...   \n",
      "5           p1                l1        nopc                  nob/c  ...   \n",
      "6           p3                l1        nopc                  nob/c  ...   \n",
      "7           p4                l1        nopc                  nob/c  ...   \n",
      "8           p3                l1        nopc                  nob/c  ...   \n",
      "9           p3                l1        nopc                  nob/c  ...   \n",
      "\n",
      "   credit_type  Credit_Score  co-applicant_credit_type    age  \\\n",
      "0          EXP           758                       CIB  25-34   \n",
      "1         EQUI           552                       EXP  55-64   \n",
      "2          EXP           834                       CIB  35-44   \n",
      "3          EXP           587                       CIB  45-54   \n",
      "4         CRIF           602                       EXP  25-34   \n",
      "5          EXP           864                       EXP  35-44   \n",
      "6          EXP           860                       EXP  55-64   \n",
      "7          CIB           863                       CIB  55-64   \n",
      "8          CIB           580                       EXP  55-64   \n",
      "9          CIB           788                       EXP  55-64   \n",
      "\n",
      "   submission_of_application        LTV   Region Security_Type  Status dtir1  \n",
      "0                    to_inst  98.728814    south        direct       1  45.0  \n",
      "1                    to_inst        NaN    North        direct       1   NaN  \n",
      "2                    to_inst  80.019685    south        direct       0  46.0  \n",
      "3                   not_inst  69.376900    North        direct       0  42.0  \n",
      "4                   not_inst  91.886544    North        direct       0  39.0  \n",
      "5                   not_inst  70.089286    North        direct       0  40.0  \n",
      "6                    to_inst  79.109589    North        direct       0  44.0  \n",
      "7                    to_inst  86.525974    North        direct       0  42.0  \n",
      "8                    to_inst  78.765690  central        direct       0  44.0  \n",
      "9                    to_inst  63.444767    south        direct       0  30.0  \n",
      "\n",
      "[10 rows x 34 columns]\n"
     ]
    }
   ],
   "source": [
    "df_dataset_import = pd.read_csv(TRAIN_DATASET, index_col=False)\n",
    "\n",
    "# Take a peek at the dataframe after import\n",
    "print(df_dataset_import.head(10))"
   ]
  },
  {
   "cell_type": "code",
   "execution_count": 15,
   "metadata": {},
   "outputs": [
    {
     "name": "stdout",
     "output_type": "stream",
     "text": [
      "<class 'pandas.core.frame.DataFrame'>\n",
      "RangeIndex: 148670 entries, 0 to 148669\n",
      "Data columns (total 34 columns):\n",
      " #   Column                     Non-Null Count   Dtype  \n",
      "---  ------                     --------------   -----  \n",
      " 0   ID                         148670 non-null  int64  \n",
      " 1   year                       148670 non-null  int64  \n",
      " 2   loan_limit                 145326 non-null  object \n",
      " 3   Gender                     148670 non-null  object \n",
      " 4   approv_in_adv              147762 non-null  object \n",
      " 5   loan_type                  148670 non-null  object \n",
      " 6   loan_purpose               148536 non-null  object \n",
      " 7   Credit_Worthiness          148670 non-null  object \n",
      " 8   open_credit                148670 non-null  object \n",
      " 9   business_or_commercial     148670 non-null  object \n",
      " 10  loan_amount                148670 non-null  int64  \n",
      " 11  rate_of_interest           112231 non-null  float64\n",
      " 12  Interest_rate_spread       112031 non-null  float64\n",
      " 13  Upfront_charges            109028 non-null  float64\n",
      " 14  term                       148629 non-null  float64\n",
      " 15  Neg_ammortization          148549 non-null  object \n",
      " 16  interest_only              148670 non-null  object \n",
      " 17  lump_sum_payment           148670 non-null  object \n",
      " 18  property_value             133572 non-null  float64\n",
      " 19  construction_type          148670 non-null  object \n",
      " 20  occupancy_type             148670 non-null  object \n",
      " 21  Secured_by                 148670 non-null  object \n",
      " 22  total_units                148670 non-null  object \n",
      " 23  income                     139520 non-null  float64\n",
      " 24  credit_type                148670 non-null  object \n",
      " 25  Credit_Score               148670 non-null  int64  \n",
      " 26  co-applicant_credit_type   148670 non-null  object \n",
      " 27  age                        148470 non-null  object \n",
      " 28  submission_of_application  148470 non-null  object \n",
      " 29  LTV                        133572 non-null  float64\n",
      " 30  Region                     148670 non-null  object \n",
      " 31  Security_Type              148670 non-null  object \n",
      " 32  Status                     148670 non-null  int64  \n",
      " 33  dtir1                      124549 non-null  float64\n",
      "dtypes: float64(8), int64(5), object(21)\n",
      "memory usage: 38.6+ MB\n"
     ]
    }
   ],
   "source": [
    "df_dataset_import.info(verbose=True)"
   ]
  },
  {
   "cell_type": "code",
   "execution_count": 16,
   "metadata": {},
   "outputs": [
    {
     "name": "stdout",
     "output_type": "stream",
     "text": [
      "                  ID      year   loan_amount  rate_of_interest  \\\n",
      "count  148670.000000  148670.0  1.486700e+05     112231.000000   \n",
      "mean    99224.500000    2019.0  3.311177e+05          4.045476   \n",
      "std     42917.476598       0.0  1.839093e+05          0.561391   \n",
      "min     24890.000000    2019.0  1.650000e+04          0.000000   \n",
      "25%     62057.250000    2019.0  1.965000e+05          3.625000   \n",
      "50%     99224.500000    2019.0  2.965000e+05          3.990000   \n",
      "75%    136391.750000    2019.0  4.365000e+05          4.375000   \n",
      "max    173559.000000    2019.0  3.576500e+06          8.000000   \n",
      "\n",
      "       Interest_rate_spread  Upfront_charges           term  property_value  \\\n",
      "count         112031.000000    109028.000000  148629.000000    1.335720e+05   \n",
      "mean               0.441656      3224.996127     335.136582    4.978935e+05   \n",
      "std                0.513043      3251.121510      58.409084    3.599353e+05   \n",
      "min               -3.638000         0.000000      96.000000    8.000000e+03   \n",
      "25%                0.076000       581.490000     360.000000    2.680000e+05   \n",
      "50%                0.390400      2596.450000     360.000000    4.180000e+05   \n",
      "75%                0.775400      4812.500000     360.000000    6.280000e+05   \n",
      "max                3.357000     60000.000000     360.000000    1.650800e+07   \n",
      "\n",
      "              income   Credit_Score            LTV         Status  \\\n",
      "count  139520.000000  148670.000000  133572.000000  148670.000000   \n",
      "mean     6957.338876     699.789103      72.746457       0.246445   \n",
      "std      6496.586382     115.875857      39.967603       0.430942   \n",
      "min         0.000000     500.000000       0.967478       0.000000   \n",
      "25%      3720.000000     599.000000      60.474860       0.000000   \n",
      "50%      5760.000000     699.000000      75.135870       0.000000   \n",
      "75%      8520.000000     800.000000      86.184211       0.000000   \n",
      "max    578580.000000     900.000000    7831.250000       1.000000   \n",
      "\n",
      "               dtir1  \n",
      "count  124549.000000  \n",
      "mean       37.732932  \n",
      "std        10.545435  \n",
      "min         5.000000  \n",
      "25%        31.000000  \n",
      "50%        39.000000  \n",
      "75%        45.000000  \n",
      "max        61.000000  \n"
     ]
    }
   ],
   "source": [
    "print(df_dataset_import.describe())"
   ]
  },
  {
   "cell_type": "code",
   "execution_count": 17,
   "metadata": {},
   "outputs": [
    {
     "name": "stdout",
     "output_type": "stream",
     "text": [
      "ID                               0\n",
      "year                             0\n",
      "loan_limit                    3344\n",
      "Gender                           0\n",
      "approv_in_adv                  908\n",
      "loan_type                        0\n",
      "loan_purpose                   134\n",
      "Credit_Worthiness                0\n",
      "open_credit                      0\n",
      "business_or_commercial           0\n",
      "loan_amount                      0\n",
      "rate_of_interest             36439\n",
      "Interest_rate_spread         36639\n",
      "Upfront_charges              39642\n",
      "term                            41\n",
      "Neg_ammortization              121\n",
      "interest_only                    0\n",
      "lump_sum_payment                 0\n",
      "property_value               15098\n",
      "construction_type                0\n",
      "occupancy_type                   0\n",
      "Secured_by                       0\n",
      "total_units                      0\n",
      "income                        9150\n",
      "credit_type                      0\n",
      "Credit_Score                     0\n",
      "co-applicant_credit_type         0\n",
      "age                            200\n",
      "submission_of_application      200\n",
      "LTV                          15098\n",
      "Region                           0\n",
      "Security_Type                    0\n",
      "Status                           0\n",
      "dtir1                        24121\n",
      "dtype: int64\n",
      "Total number of NaN in the dataframe:  181135\n"
     ]
    }
   ],
   "source": [
    "print(df_dataset_import.isnull().sum())\n",
    "print('Total number of NaN in the dataframe: ', df_dataset_import.isnull().sum().sum())"
   ]
  },
  {
   "cell_type": "code",
   "execution_count": 18,
   "metadata": {},
   "outputs": [
    {
     "name": "stdout",
     "output_type": "stream",
     "text": [
      "Status\n",
      "0    112031\n",
      "1     36639\n",
      "dtype: int64\n"
     ]
    }
   ],
   "source": [
    "# Get grouping size for the target variable\n",
    "print(df_dataset_import.groupby('Status').size())"
   ]
  },
  {
   "cell_type": "markdown",
   "metadata": {},
   "source": [
    "### 1.d) Data Cleaning"
   ]
  },
  {
   "cell_type": "code",
   "execution_count": 19,
   "metadata": {},
   "outputs": [
    {
     "name": "stdout",
     "output_type": "stream",
     "text": [
      "  loan_limit             Gender approv_in_adv loan_type loan_purpose  \\\n",
      "0         cf  Sex Not Available         nopre     type1           p1   \n",
      "1         cf               Male         nopre     type2           p1   \n",
      "2         cf               Male           pre     type1           p1   \n",
      "3         cf               Male         nopre     type1           p4   \n",
      "4         cf              Joint           pre     type1           p1   \n",
      "5         cf              Joint           pre     type1           p1   \n",
      "6         cf              Joint           pre     type1           p3   \n",
      "7        NaN             Female         nopre     type1           p4   \n",
      "8         cf              Joint         nopre     type1           p3   \n",
      "9         cf  Sex Not Available         nopre     type3           p3   \n",
      "\n",
      "  Credit_Worthiness open_credit business_or_commercial  loan_amount  \\\n",
      "0                l1        nopc                  nob/c       116500   \n",
      "1                l1        nopc                    b/c       206500   \n",
      "2                l1        nopc                  nob/c       406500   \n",
      "3                l1        nopc                  nob/c       456500   \n",
      "4                l1        nopc                  nob/c       696500   \n",
      "5                l1        nopc                  nob/c       706500   \n",
      "6                l1        nopc                  nob/c       346500   \n",
      "7                l1        nopc                  nob/c       266500   \n",
      "8                l1        nopc                  nob/c       376500   \n",
      "9                l1        nopc                  nob/c       436500   \n",
      "\n",
      "   rate_of_interest  ...  credit_type  Credit_Score  co-applicant_credit_type  \\\n",
      "0               NaN  ...          EXP           758                       CIB   \n",
      "1               NaN  ...         EQUI           552                       EXP   \n",
      "2             4.560  ...          EXP           834                       CIB   \n",
      "3             4.250  ...          EXP           587                       CIB   \n",
      "4             4.000  ...         CRIF           602                       EXP   \n",
      "5             3.990  ...          EXP           864                       EXP   \n",
      "6             4.500  ...          EXP           860                       EXP   \n",
      "7             4.125  ...          CIB           863                       CIB   \n",
      "8             4.875  ...          CIB           580                       EXP   \n",
      "9             3.490  ...          CIB           788                       EXP   \n",
      "\n",
      "     age submission_of_application        LTV   Region Security_Type target  \\\n",
      "0  25-34                   to_inst  98.728814    south        direct      1   \n",
      "1  55-64                   to_inst        NaN    North        direct      1   \n",
      "2  35-44                   to_inst  80.019685    south        direct      0   \n",
      "3  45-54                  not_inst  69.376900    North        direct      0   \n",
      "4  25-34                  not_inst  91.886544    North        direct      0   \n",
      "5  35-44                  not_inst  70.089286    North        direct      0   \n",
      "6  55-64                   to_inst  79.109589    North        direct      0   \n",
      "7  55-64                   to_inst  86.525974    North        direct      0   \n",
      "8  55-64                   to_inst  78.765690  central        direct      0   \n",
      "9  55-64                   to_inst  63.444767    south        direct      0   \n",
      "\n",
      "  dtir1  \n",
      "0  45.0  \n",
      "1   NaN  \n",
      "2  46.0  \n",
      "3  42.0  \n",
      "4  39.0  \n",
      "5  40.0  \n",
      "6  44.0  \n",
      "7  42.0  \n",
      "8  44.0  \n",
      "9  30.0  \n",
      "\n",
      "[10 rows x 32 columns]\n"
     ]
    }
   ],
   "source": [
    "# Standardize the class column to the name of targetVar if required\n",
    "df_dataset_import = df_dataset_import.rename(columns={'Status': 'target'})\n",
    "\n",
    "# Dropping features\n",
    "df_dataset_import.drop(columns=['ID','year'], inplace=True)\n",
    "\n",
    "# Take a peek at the dataframe after cleaning\n",
    "print(df_dataset_import.head(10))"
   ]
  },
  {
   "cell_type": "code",
   "execution_count": 20,
   "metadata": {},
   "outputs": [
    {
     "name": "stdout",
     "output_type": "stream",
     "text": [
      "<class 'pandas.core.frame.DataFrame'>\n",
      "RangeIndex: 148670 entries, 0 to 148669\n",
      "Data columns (total 32 columns):\n",
      " #   Column                     Non-Null Count   Dtype  \n",
      "---  ------                     --------------   -----  \n",
      " 0   loan_limit                 145326 non-null  object \n",
      " 1   Gender                     148670 non-null  object \n",
      " 2   approv_in_adv              147762 non-null  object \n",
      " 3   loan_type                  148670 non-null  object \n",
      " 4   loan_purpose               148536 non-null  object \n",
      " 5   Credit_Worthiness          148670 non-null  object \n",
      " 6   open_credit                148670 non-null  object \n",
      " 7   business_or_commercial     148670 non-null  object \n",
      " 8   loan_amount                148670 non-null  int64  \n",
      " 9   rate_of_interest           112231 non-null  float64\n",
      " 10  Interest_rate_spread       112031 non-null  float64\n",
      " 11  Upfront_charges            109028 non-null  float64\n",
      " 12  term                       148629 non-null  float64\n",
      " 13  Neg_ammortization          148549 non-null  object \n",
      " 14  interest_only              148670 non-null  object \n",
      " 15  lump_sum_payment           148670 non-null  object \n",
      " 16  property_value             133572 non-null  float64\n",
      " 17  construction_type          148670 non-null  object \n",
      " 18  occupancy_type             148670 non-null  object \n",
      " 19  Secured_by                 148670 non-null  object \n",
      " 20  total_units                148670 non-null  object \n",
      " 21  income                     139520 non-null  float64\n",
      " 22  credit_type                148670 non-null  object \n",
      " 23  Credit_Score               148670 non-null  int64  \n",
      " 24  co-applicant_credit_type   148670 non-null  object \n",
      " 25  age                        148470 non-null  object \n",
      " 26  submission_of_application  148470 non-null  object \n",
      " 27  LTV                        133572 non-null  float64\n",
      " 28  Region                     148670 non-null  object \n",
      " 29  Security_Type              148670 non-null  object \n",
      " 30  target                     148670 non-null  int64  \n",
      " 31  dtir1                      124549 non-null  float64\n",
      "dtypes: float64(8), int64(3), object(21)\n",
      "memory usage: 36.3+ MB\n"
     ]
    }
   ],
   "source": [
    "df_dataset_import.info(verbose=True)"
   ]
  },
  {
   "cell_type": "code",
   "execution_count": 21,
   "metadata": {},
   "outputs": [
    {
     "name": "stdout",
     "output_type": "stream",
     "text": [
      "        loan_amount  rate_of_interest  Interest_rate_spread  Upfront_charges  \\\n",
      "count  1.486700e+05     112231.000000         112031.000000    109028.000000   \n",
      "mean   3.311177e+05          4.045476              0.441656      3224.996127   \n",
      "std    1.839093e+05          0.561391              0.513043      3251.121510   \n",
      "min    1.650000e+04          0.000000             -3.638000         0.000000   \n",
      "25%    1.965000e+05          3.625000              0.076000       581.490000   \n",
      "50%    2.965000e+05          3.990000              0.390400      2596.450000   \n",
      "75%    4.365000e+05          4.375000              0.775400      4812.500000   \n",
      "max    3.576500e+06          8.000000              3.357000     60000.000000   \n",
      "\n",
      "                term  property_value         income   Credit_Score  \\\n",
      "count  148629.000000    1.335720e+05  139520.000000  148670.000000   \n",
      "mean      335.136582    4.978935e+05    6957.338876     699.789103   \n",
      "std        58.409084    3.599353e+05    6496.586382     115.875857   \n",
      "min        96.000000    8.000000e+03       0.000000     500.000000   \n",
      "25%       360.000000    2.680000e+05    3720.000000     599.000000   \n",
      "50%       360.000000    4.180000e+05    5760.000000     699.000000   \n",
      "75%       360.000000    6.280000e+05    8520.000000     800.000000   \n",
      "max       360.000000    1.650800e+07  578580.000000     900.000000   \n",
      "\n",
      "                 LTV         target          dtir1  \n",
      "count  133572.000000  148670.000000  124549.000000  \n",
      "mean       72.746457       0.246445      37.732932  \n",
      "std        39.967603       0.430942      10.545435  \n",
      "min         0.967478       0.000000       5.000000  \n",
      "25%        60.474860       0.000000      31.000000  \n",
      "50%        75.135870       0.000000      39.000000  \n",
      "75%        86.184211       0.000000      45.000000  \n",
      "max      7831.250000       1.000000      61.000000  \n"
     ]
    }
   ],
   "source": [
    "print(df_dataset_import.describe())"
   ]
  },
  {
   "cell_type": "code",
   "execution_count": 22,
   "metadata": {},
   "outputs": [
    {
     "name": "stdout",
     "output_type": "stream",
     "text": [
      "loan_limit                    3344\n",
      "Gender                           0\n",
      "approv_in_adv                  908\n",
      "loan_type                        0\n",
      "loan_purpose                   134\n",
      "Credit_Worthiness                0\n",
      "open_credit                      0\n",
      "business_or_commercial           0\n",
      "loan_amount                      0\n",
      "rate_of_interest             36439\n",
      "Interest_rate_spread         36639\n",
      "Upfront_charges              39642\n",
      "term                            41\n",
      "Neg_ammortization              121\n",
      "interest_only                    0\n",
      "lump_sum_payment                 0\n",
      "property_value               15098\n",
      "construction_type                0\n",
      "occupancy_type                   0\n",
      "Secured_by                       0\n",
      "total_units                      0\n",
      "income                        9150\n",
      "credit_type                      0\n",
      "Credit_Score                     0\n",
      "co-applicant_credit_type         0\n",
      "age                            200\n",
      "submission_of_application      200\n",
      "LTV                          15098\n",
      "Region                           0\n",
      "Security_Type                    0\n",
      "target                           0\n",
      "dtir1                        24121\n",
      "dtype: int64\n",
      "Total number of NaN in the dataframe:  181135\n"
     ]
    }
   ],
   "source": [
    "print(df_dataset_import.isnull().sum())\n",
    "print('Total number of NaN in the dataframe: ', df_dataset_import.isnull().sum().sum())"
   ]
  },
  {
   "cell_type": "code",
   "execution_count": 23,
   "metadata": {},
   "outputs": [
    {
     "name": "stdout",
     "output_type": "stream",
     "text": [
      "target\n",
      "0    112031\n",
      "1     36639\n",
      "dtype: int64\n"
     ]
    }
   ],
   "source": [
    "# Get grouping size for the target variable\n",
    "print(df_dataset_import.groupby('target').size())"
   ]
  },
  {
   "cell_type": "markdown",
   "metadata": {},
   "source": [
    "### 1.e) Splitting Data into Sets"
   ]
  },
  {
   "cell_type": "code",
   "execution_count": 24,
   "metadata": {},
   "outputs": [
    {
     "name": "stdout",
     "output_type": "stream",
     "text": [
      "df_dataset_import.shape: (148670, 32) df_features_import.shape: (148670, 31) df_target_import.shape: (148670,)\n"
     ]
    }
   ],
   "source": [
    "# Use variable total_column_count to hold the number of columns in the dataframe\n",
    "total_column_count = len(df_dataset_import.columns)\n",
    "\n",
    "# Set up variable total_feature_count for the total number of attribute columns\n",
    "total_feature_count = total_column_count-1\n",
    "\n",
    "# We create attribute-only and target-only datasets (df_features_train and df_target_train)\n",
    "df_target_import = df_dataset_import['target']\n",
    "df_features_import = df_dataset_import.drop(['target'], axis=1)\n",
    "\n",
    "print(\"df_dataset_import.shape: {} df_features_import.shape: {} df_target_import.shape: {}\".format(df_dataset_import.shape, df_features_import.shape, df_target_import.shape))"
   ]
  },
  {
   "cell_type": "code",
   "execution_count": 25,
   "metadata": {},
   "outputs": [
    {
     "name": "stdout",
     "output_type": "stream",
     "text": [
      "df_features_train.shape: (126369, 31) df_target_train.shape: (126369,)\n",
      "df_features_test.shape: (22301, 31) df_target_test.shape: (22301,)\n"
     ]
    }
   ],
   "source": [
    "# Split the data further into training and test datasets\n",
    "df_features_train, df_features_test, df_target_train, df_target_test = train_test_split(df_features_import, df_target_import,\n",
    "                                                                                        test_size=TEST_SET_RATIO, random_state=RNG_SEED)\n",
    "print(\"df_features_train.shape: {} df_target_train.shape: {}\".format(df_features_train.shape, df_target_train.shape))\n",
    "print(\"df_features_test.shape: {} df_target_test.shape: {}\".format(df_features_test.shape, df_target_test.shape))"
   ]
  },
  {
   "cell_type": "markdown",
   "metadata": {},
   "source": [
    "### 1.f) Set up the parameters for data visualization"
   ]
  },
  {
   "cell_type": "code",
   "execution_count": 26,
   "metadata": {},
   "outputs": [],
   "source": [
    "# Set up the number of row and columns for visualization display. display_rows * display_columns should be >= total_feature_count\n",
    "display_columns = 4\n",
    "if total_feature_count % display_columns == 0 :\n",
    "    display_rows = total_feature_count // display_columns\n",
    "else :\n",
    "    display_rows = (total_feature_count // display_columns) + 1\n",
    "\n",
    "# Set figure width to display the data visualization plots\n",
    "fig_size = plt.rcParams[\"figure.figsize\"]\n",
    "fig_size[0] = display_columns * 4\n",
    "fig_size[1] = display_rows * 4\n",
    "plt.rcParams[\"figure.figsize\"] = fig_size"
   ]
  },
  {
   "cell_type": "code",
   "execution_count": 27,
   "metadata": {},
   "outputs": [],
   "source": [
    "if NOTIFY_STATUS: status_notify(\"Task 1 - Prepare Environment completed! \" + datetime.now().strftime('%a %B %d, %Y %I:%M:%S %p'))"
   ]
  },
  {
   "cell_type": "markdown",
   "metadata": {},
   "source": [
    "## Task 2 - Summarize and Visualize Data"
   ]
  },
  {
   "cell_type": "code",
   "execution_count": 28,
   "metadata": {},
   "outputs": [],
   "source": [
    "if NOTIFY_STATUS: status_notify(\"Task 2 - Summarize and Visualize Data has begun! \" + datetime.now().strftime('%a %B %d, %Y %I:%M:%S %p'))"
   ]
  },
  {
   "cell_type": "code",
   "execution_count": 29,
   "metadata": {},
   "outputs": [
    {
     "data": {
      "image/png": "[encoded data removed]",
      "text/plain": [
       "<Figure size 1152x2304 with 32 Axes>"
      ]
     },
     "metadata": {
      "needs_background": "light"
     },
     "output_type": "display_data"
    }
   ],
   "source": [
    "# Histograms for each attribute\n",
    "df_features_train.plot(kind='hist', subplots=True, layout=(display_rows, display_columns))\n",
    "plt.show()"
   ]
  },
  {
   "cell_type": "code",
   "execution_count": 30,
   "metadata": {},
   "outputs": [
    {
     "data": {
      "image/png": "[encoded data removed]",
      "text/plain": [
       "<Figure size 1152x2304 with 32 Axes>"
      ]
     },
     "metadata": {
      "needs_background": "light"
     },
     "output_type": "display_data"
    }
   ],
   "source": [
    "# Box and Whisker plot for each attribute\n",
    "df_features_train.plot(kind='box', subplots=True, layout=(display_rows, display_columns))\n",
    "plt.show()"
   ]
  },
  {
   "cell_type": "code",
   "execution_count": 31,
   "metadata": {},
   "outputs": [
    {
     "data": {
      "image/png": "[encoded data removed]",
      "text/plain": [
       "<Figure size 1440x1440 with 2 Axes>"
      ]
     },
     "metadata": {
      "needs_background": "light"
     },
     "output_type": "display_data"
    }
   ],
   "source": [
    "# Correlation matrix\n",
    "fig = plt.figure(figsize=(20, 20))\n",
    "correlations = df_features_train.corr(method='pearson')\n",
    "sns.heatmap(correlations, annot=True, cmap=plt.cm.PuBu)\n",
    "plt.show()"
   ]
  },
  {
   "cell_type": "code",
   "execution_count": 32,
   "metadata": {},
   "outputs": [],
   "source": [
    "if NOTIFY_STATUS: status_notify(\"Task 2 - Summarize and Visualize Data completed! \" + datetime.now().strftime('%a %B %d, %Y %I:%M:%S %p'))"
   ]
  },
  {
   "cell_type": "markdown",
   "metadata": {},
   "source": [
    "## Task 3 - Pre-process Data"
   ]
  },
  {
   "cell_type": "code",
   "execution_count": 33,
   "metadata": {},
   "outputs": [],
   "source": [
    "if NOTIFY_STATUS: status_notify(\"Task 3 - Pre-process Data has begun! \" + datetime.now().strftime('%a %B %d, %Y %I:%M:%S %p'))"
   ]
  },
  {
   "cell_type": "markdown",
   "metadata": {},
   "source": [
    "### 3.a) Feature Scaling"
   ]
  },
  {
   "cell_type": "code",
   "execution_count": 34,
   "metadata": {},
   "outputs": [
    {
     "name": "stdout",
     "output_type": "stream",
     "text": [
      "Number of numerical columns: 10\n",
      "Number of categorical columns: 21\n",
      "Total number of columns in the feature dataframe: 31\n"
     ]
    }
   ],
   "source": [
    "# Compose pipeline for the numerical and categorical features (Block #1 of 2)\n",
    "numeric_columns = df_features_train.select_dtypes(include=['int64','float64']).columns\n",
    "numeric_transformer = Pipeline(steps=[\n",
    "    ('imputer', impute.SimpleImputer(strategy=\"constant\", fill_value=0)),\n",
    "    ('scaler', preprocessing.MinMaxScaler())\n",
    "])\n",
    "categorical_columns = df_features_train.select_dtypes(include=['object','bool','category']).columns\n",
    "categorical_transformer = Pipeline(steps=[\n",
    "    ('imputer', impute.SimpleImputer(strategy='constant', fill_value='UKNOWN')),\n",
    "    ('onehot', preprocessing.OneHotEncoder(sparse=False, handle_unknown='ignore'))\n",
    "])\n",
    "\n",
    "print(\"Number of numerical columns:\", len(numeric_columns))\n",
    "print(\"Number of categorical columns:\", len(categorical_columns))\n",
    "print(\"Total number of columns in the feature dataframe:\", df_features_train.shape[1])"
   ]
  },
  {
   "cell_type": "code",
   "execution_count": 35,
   "metadata": {},
   "outputs": [
    {
     "name": "stdout",
     "output_type": "stream",
     "text": [
      "Transformed features from df_features_train.shape: (126369, 31) to array_features_train.shape: (126369, 75)\n"
     ]
    }
   ],
   "source": [
    "# Compose pipeline for the numerical and categorical features (Block #2 of 2)\n",
    "preprocessor = compose.ColumnTransformer(transformers=[\n",
    "    ('num', numeric_transformer, numeric_columns),\n",
    "    ('cat', categorical_transformer, categorical_columns)\n",
    "])\n",
    "\n",
    "# Display the shapes of the training dataset for final inspection\n",
    "array_features_train = preprocessor.fit_transform(df_features_train)\n",
    "print(\"Transformed features from df_features_train.shape: {} to array_features_train.shape: {}\".format(df_features_train.shape, array_features_train.shape))"
   ]
  },
  {
   "cell_type": "markdown",
   "metadata": {},
   "source": [
    "### 3.b) Training Data Balancing"
   ]
  },
  {
   "cell_type": "code",
   "execution_count": 36,
   "metadata": {},
   "outputs": [],
   "source": [
    "# Not applicable for this iteration of the project"
   ]
  },
  {
   "cell_type": "markdown",
   "metadata": {},
   "source": [
    "### 3.c) Feature Selection"
   ]
  },
  {
   "cell_type": "code",
   "execution_count": 37,
   "metadata": {},
   "outputs": [],
   "source": [
    "# Not applicable for this iteration of the project"
   ]
  },
  {
   "cell_type": "markdown",
   "metadata": {},
   "source": [
    "### 3.d) Display the Final Datasets for Model-Building"
   ]
  },
  {
   "cell_type": "code",
   "execution_count": 38,
   "metadata": {},
   "outputs": [
    {
     "name": "stdout",
     "output_type": "stream",
     "text": [
      "array_features_train.shape: (126369, 75) array_target_train.shape: (126369,)\n"
     ]
    }
   ],
   "source": [
    "# Finalize the training dataset for the modeling activities\n",
    "# array_features_train = df_features_train.to_numpy()\n",
    "array_target_train = df_target_train.ravel()\n",
    "# label_encoder = preprocessing.LabelEncoder()\n",
    "# array_target_train = label_encoder.fit_transform(df_target_train)\n",
    "print(\"array_features_train.shape: {} array_target_train.shape: {}\".format(array_features_train.shape, array_target_train.shape))"
   ]
  },
  {
   "cell_type": "code",
   "execution_count": 39,
   "metadata": {},
   "outputs": [],
   "source": [
    "if NOTIFY_STATUS: status_notify(\"Task 3 - Pre-process Data completed! \" + datetime.now().strftime('%a %B %d, %Y %I:%M:%S %p'))"
   ]
  },
  {
   "cell_type": "markdown",
   "metadata": {},
   "source": [
    "## Task 4 - Train and Tune Models"
   ]
  },
  {
   "cell_type": "code",
   "execution_count": 40,
   "metadata": {},
   "outputs": [],
   "source": [
    "if NOTIFY_STATUS: status_notify(\"Task 4 - Train and Tune Models has begun! \" + datetime.now().strftime('%a %B %d, %Y %I:%M:%S %p'))"
   ]
  },
  {
   "cell_type": "markdown",
   "metadata": {},
   "source": [
    "### 4.a) Set test options and evaluation metric"
   ]
  },
  {
   "cell_type": "code",
   "execution_count": 41,
   "metadata": {},
   "outputs": [],
   "source": [
    "# Define the baseline model for benchmarking\n",
    "def create_nn_model(input_param=array_features_train.shape[1],\n",
    "                    layer1_nodes=256, layer2_nodes=256, layer3_nodes=256,\n",
    "                    layer1_dropout=0, layer2_dropout=0, layer3_dropout=0,\n",
    "                    classifier_activation=CLASSIFIER_ACTIVATION, loss_param=DEFAULT_LOSS,\n",
    "                    opt_param=DEFAULT_OPTIMIZER, metrics_param=DEFAULT_METRICS):\n",
    "    nn_model = keras.Sequential([\n",
    "        keras.layers.Dense(layer1_nodes, input_shape=(input_param,), activation='relu'),\n",
    "        keras.layers.Dropout(layer1_dropout),\n",
    "        keras.layers.Dense(layer2_nodes, activation='relu'),\n",
    "        keras.layers.Dropout(layer2_dropout),\n",
    "        keras.layers.Dense(layer3_nodes, activation='relu'),\n",
    "        keras.layers.Dropout(layer3_dropout),\n",
    "        keras.layers.Dense(1, activation=classifier_activation)\n",
    "    ])\n",
    "    nn_model.compile(loss=loss_param, optimizer=opt_param, metrics=metrics_param)\n",
    "    return nn_model"
   ]
  },
  {
   "cell_type": "code",
   "execution_count": 42,
   "metadata": {},
   "outputs": [],
   "source": [
    "# start_time_module = datetime.now()\n",
    "# reset_random()\n",
    "# baseline_model = create_nn_model()\n",
    "# baseline_model.fit(array_features_train, array_target_train, epochs=MAX_EPOCHS, batch_size=BATCH_SIZE, verbose=1)\n",
    "# print('Total time for model fitting and cross validating:', (datetime.now() - start_time_module))"
   ]
  },
  {
   "cell_type": "code",
   "execution_count": 43,
   "metadata": {},
   "outputs": [
    {
     "name": "stderr",
     "output_type": "stream",
     "text": [
      "2022-02-02 21:11:12.034032: I tensorflow/compiler/mlir/mlir_graph_optimization_pass.cc:185] None of the MLIR Optimization Passes are enabled (registered 2)\n"
     ]
    },
    {
     "name": "stdout",
     "output_type": "stream",
     "text": [
      "Score from iteration 1 >>> 1.0000\n",
      "Score from iteration 2 >>> 1.0000\n",
      "Score from iteration 3 >>> 1.0000\n",
      "Score from iteration 4 >>> 1.0000\n",
      "Score from iteration 5 >>> 1.0000\n",
      "Average model score from all iterations: 1.0000 (0.0000)\n",
      "Total time for model fitting and cross validating: 0:04:00.507338\n"
     ]
    }
   ],
   "source": [
    "# Initialize the default model and get a baseline result\n",
    "start_time_module = datetime.now()\n",
    "results = list()\n",
    "iteration = 0\n",
    "cv = RepeatedKFold(n_splits=N_FOLDS, n_repeats=N_ITERATIONS, random_state=RNG_SEED)\n",
    "for train_ix, val_ix in cv.split(array_features_train):\n",
    "    feature_train, feature_validation = array_features_train[train_ix], array_features_train[val_ix]\n",
    "    target_train, target_validation = array_target_train[train_ix], array_target_train[val_ix]\n",
    "    reset_random()\n",
    "    baseline_model = create_nn_model()\n",
    "    baseline_model.fit(feature_train, target_train, epochs=MAX_EPOCHS, batch_size=BATCH_SIZE, verbose=0)\n",
    "    model_metric = baseline_model.evaluate(feature_validation, target_validation, verbose=0)[1]\n",
    "    iteration = iteration + 1\n",
    "    print('Score from iteration %d >>> %.4f' % (iteration, model_metric))\n",
    "    results.append(model_metric)\n",
    "validation_score = np.mean(results)\n",
    "validation_variance = np.std(results)\n",
    "print('Average model score from all iterations: %.4f (%.4f)' % (validation_score, validation_variance))\n",
    "print('Total time for model fitting and cross validating:', (datetime.now() - start_time_module))"
   ]
  },
  {
   "cell_type": "markdown",
   "metadata": {},
   "source": [
    "### 4.b) Algorithm Tuning"
   ]
  },
  {
   "cell_type": "code",
   "execution_count": 44,
   "metadata": {},
   "outputs": [],
   "source": [
    "# Not applicable for this iteration of the project"
   ]
  },
  {
   "cell_type": "code",
   "execution_count": 45,
   "metadata": {},
   "outputs": [],
   "source": [
    "if NOTIFY_STATUS: status_notify(\"Task 4 - Train and Tune Models completed! \" + datetime.now().strftime('%a %B %d, %Y %I:%M:%S %p'))"
   ]
  },
  {
   "cell_type": "markdown",
   "metadata": {},
   "source": [
    "## Task 5 - Finalize Model and Make Predictions"
   ]
  },
  {
   "cell_type": "code",
   "execution_count": 46,
   "metadata": {},
   "outputs": [],
   "source": [
    "if NOTIFY_STATUS: status_notify(\"Task 5 - Finalize Model and Make Predictions has begun! \" + datetime.now().strftime('%a %B %d, %Y %I:%M:%S %p'))"
   ]
  },
  {
   "cell_type": "markdown",
   "metadata": {},
   "source": [
    "### 5.a) Train the Final Model"
   ]
  },
  {
   "cell_type": "code",
   "execution_count": 47,
   "metadata": {},
   "outputs": [
    {
     "name": "stdout",
     "output_type": "stream",
     "text": [
      "Model: \"sequential_5\"\n",
      "_________________________________________________________________\n",
      "Layer (type)                 Output Shape              Param #   \n",
      "=================================================================\n",
      "dense_20 (Dense)             (None, 256)               19456     \n",
      "_________________________________________________________________\n",
      "dropout_15 (Dropout)         (None, 256)               0         \n",
      "_________________________________________________________________\n",
      "dense_21 (Dense)             (None, 256)               65792     \n",
      "_________________________________________________________________\n",
      "dropout_16 (Dropout)         (None, 256)               0         \n",
      "_________________________________________________________________\n",
      "dense_22 (Dense)             (None, 256)               65792     \n",
      "_________________________________________________________________\n",
      "dropout_17 (Dropout)         (None, 256)               0         \n",
      "_________________________________________________________________\n",
      "dense_23 (Dense)             (None, 1)                 257       \n",
      "=================================================================\n",
      "Total params: 151,297\n",
      "Trainable params: 151,297\n",
      "Non-trainable params: 0\n",
      "_________________________________________________________________\n"
     ]
    }
   ],
   "source": [
    "FINAL_OPTIMIZER = tf.keras.optimizers.Adam(learning_rate=0.001)\n",
    "final_model = create_nn_model(opt_param=FINAL_OPTIMIZER)\n",
    "final_model.fit(array_features_train, array_target_train, epochs=MAX_EPOCHS, batch_size=BATCH_SIZE, verbose=0)\n",
    "final_model.summary()"
   ]
  },
  {
   "cell_type": "markdown",
   "metadata": {},
   "source": [
    "### 5.b) Load Test Dataset and Make Predictions"
   ]
  },
  {
   "cell_type": "code",
   "execution_count": 48,
   "metadata": {},
   "outputs": [
    {
     "name": "stdout",
     "output_type": "stream",
     "text": [
      "array_features_test.shape: (22301, 75) array_target_test.shape: (22301,)\n"
     ]
    }
   ],
   "source": [
    "# Finalize the test dataset for the testing activities\n",
    "array_features_test = preprocessor.transform(df_features_test)\n",
    "array_target_test = df_target_test.ravel()\n",
    "print(\"array_features_test.shape: {} array_target_test.shape: {}\".format(array_features_test.shape, array_target_test.shape))"
   ]
  },
  {
   "cell_type": "code",
   "execution_count": 49,
   "metadata": {},
   "outputs": [
    {
     "name": "stdout",
     "output_type": "stream",
     "text": [
      "[1 0 0 ... 0 0 1]\n"
     ]
    }
   ],
   "source": [
    "# Make batched predictions\n",
    "test_predictions = (final_model.predict(array_features_test) > 0.5).astype(\"int32\").ravel()\n",
    "print(test_predictions)"
   ]
  },
  {
   "cell_type": "code",
   "execution_count": 50,
   "metadata": {},
   "outputs": [
    {
     "name": "stdout",
     "output_type": "stream",
     "text": [
      "Accuracy Score: 1.0\n",
      "ROC/AUC Score: 1.0 \n",
      "\n",
      "[[16722     0]\n",
      " [    0  5579]] \n",
      "\n",
      "              precision    recall  f1-score   support\n",
      "\n",
      "           0       1.00      1.00      1.00     16722\n",
      "           1       1.00      1.00      1.00      5579\n",
      "\n",
      "    accuracy                           1.00     22301\n",
      "   macro avg       1.00      1.00      1.00     22301\n",
      "weighted avg       1.00      1.00      1.00     22301\n",
      "\n"
     ]
    }
   ],
   "source": [
    "print('Accuracy Score:', accuracy_score(array_target_test, test_predictions))\n",
    "print('ROC/AUC Score:', roc_auc_score(array_target_test, test_predictions), '\\n')\n",
    "print(confusion_matrix(array_target_test, test_predictions), '\\n')\n",
    "print(classification_report(array_target_test, test_predictions))"
   ]
  },
  {
   "cell_type": "code",
   "execution_count": 51,
   "metadata": {},
   "outputs": [],
   "source": [
    "if NOTIFY_STATUS: status_notify(\"Task 5 - Finalize Model and Make Predictions completed! \" + datetime.now().strftime('%a %B %d, %Y %I:%M:%S %p'))"
   ]
  },
  {
   "cell_type": "code",
   "execution_count": 52,
   "metadata": {},
   "outputs": [
    {
     "name": "stdout",
     "output_type": "stream",
     "text": [
      "Total time for the script: 0:05:07.596995\n"
     ]
    }
   ],
   "source": [
    "print ('Total time for the script:',(datetime.now() - START_TIME_SCRIPT))"
   ]
  }
 ],
 "metadata": {
  "kernelspec": {
   "display_name": "Python 3 (ipykernel)",
   "language": "python",
   "name": "python3"
  },
  "language_info": {
   "codemirror_mode": {
    "name": "ipython",
    "version": 3
   },
   "file_extension": ".py",
   "mimetype": "text/x-python",
   "name": "python",
   "nbconvert_exporter": "python",
   "pygments_lexer": "ipython3",
   "version": "3.8.10"
  }
 },
 "nbformat": 4,
 "nbformat_minor": 4
}

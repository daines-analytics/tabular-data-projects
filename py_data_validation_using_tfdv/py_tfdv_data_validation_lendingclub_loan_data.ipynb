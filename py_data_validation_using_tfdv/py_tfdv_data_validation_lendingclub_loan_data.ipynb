{
 "cells": [
  {
   "cell_type": "markdown",
   "id": "346f3f6b-b7f7-46c7-bdbe-c6406b99ea88",
   "metadata": {},
   "source": [
    "# Data Validation for LendingClub Loan Data Using Python and TensorFlow Data Validation\n",
    "### David Lowe\n",
    "### August 9, 2021\n",
    "\n",
    "SUMMARY: The project aims to construct a data validation flow using TensorFlow Data Validation (TFDV) and document the end-to-end steps using a template. The Kaggle LendingClub Loan Data dataset is a binary classification situation where we attempt to predict one of the two possible outcomes.\n",
    "\n",
    "INTRODUCTION: The Kaggle dataset owner derived this dataset from the publicly available data of LendingClub.com. Lending Club connects people who need money (borrowers) with people who have money (investors). An investor naturally would want to invest in people who showed a profile of having a high probability of paying back the loan. The dataset uses the lending data from 2007 to 2010, and we will try to predict whether the borrower paid back their loan in full.\n",
    "\n",
    "Additional Notes: I adapted this workflow from the TensorFlow Data Validation tutorial on TensorFlow.org (https://www.tensorflow.org/tfx/tutorials/data_validation/tfdv_basic). The plan is to build a robust TFDV script for validating datasets in building machine learning models.\n",
    "\n",
    "CONCLUSION: In this iteration, the data validation workflow helped to validate the features and structures of the training, validation, and test datasets. The workflow also generated statistics over different slices of data which can help track model and anomaly metrics.\n",
    "\n",
    "Dataset Used: Kaggle LendingClub Loan Data\n",
    "\n",
    "Dataset ML Model: Binary classification with numerical and categorical attributes\n",
    "\n",
    "Dataset Reference: https://www.kaggle.com/itssuru/loan-data\n",
    "\n",
    "Data validation for a machine learning project generally can be broken down into the following tasks:\n",
    "\n",
    "1. Prepare Environment\n",
    "2. Generate and Visualize Training Data Statistics\n",
    "3. Check Anomalies in Validation Dataset\n",
    "4. Check Anomalies in Test Dataset\n",
    "5. Check for Data Drift and Skew\n",
    "6. Display Stats for Data Slices\n",
    "7. Finalize the Schema"
   ]
  },
  {
   "cell_type": "markdown",
   "id": "a66f38a3-9ee9-4348-9985-d790c25a675f",
   "metadata": {},
   "source": [
    "## Task 1 - Prepare Environment"
   ]
  },
  {
   "cell_type": "markdown",
   "id": "f900ef05-3896-4e50-bd73-cabdc8121644",
   "metadata": {},
   "source": [
    "### 1.a) Load libraries and modules"
   ]
  },
  {
   "cell_type": "code",
   "execution_count": 1,
   "id": "0222c3eb-b4ab-4fa6-b494-c48bb5bfdd21",
   "metadata": {},
   "outputs": [],
   "source": [
    "# Set the random seed number for reproducible results\n",
    "RNG_SEED = 8"
   ]
  },
  {
   "cell_type": "code",
   "execution_count": 2,
   "id": "2f105fcd-f731-4c6c-8444-b4879e63f126",
   "metadata": {},
   "outputs": [],
   "source": [
    "# Import packages\n",
    "import os\n",
    "import pandas as pd\n",
    "from datetime import datetime\n",
    "from sklearn.model_selection import train_test_split\n",
    "\n",
    "import tensorflow as tf\n",
    "import tempfile, urllib, zipfile\n",
    "import tensorflow_data_validation as tfdv\n",
    "from tensorflow.python.lib.io import file_io\n",
    "from tensorflow_data_validation.utils import slicing_util\n",
    "from tensorflow_metadata.proto.v0.statistics_pb2 import DatasetFeatureStatisticsList, DatasetFeatureStatistics\n",
    "from tensorflow_metadata.proto.v0 import schema_pb2"
   ]
  },
  {
   "cell_type": "markdown",
   "id": "d0b0062e-f08b-43dc-81e1-916f5d821c7e",
   "metadata": {},
   "source": [
    "### 1.b) Set up the controlling parameters and functions"
   ]
  },
  {
   "cell_type": "code",
   "execution_count": 3,
   "id": "4ecc6b48-be75-4078-a0a8-9d34610d231c",
   "metadata": {},
   "outputs": [
    {
     "name": "stdout",
     "output_type": "stream",
     "text": [
      "TFDV version: 1.0.0\n"
     ]
    }
   ],
   "source": [
    "# Begin the timer for the script processing\n",
    "start_time_script = datetime.now()\n",
    "\n",
    "# Set the percentage sizes for splitting the dataset\n",
    "VAL_SET_RATIO = 0.2\n",
    "TEST_SET_RATIO = 0.5\n",
    "\n",
    "# Set TF's logger to only display errors to avoid internal warnings being shown\n",
    "tf.get_logger().setLevel('ERROR')\n",
    "print('TFDV version: {}'.format(tfdv.version.__version__))"
   ]
  },
  {
   "cell_type": "markdown",
   "id": "0fd0e037-fc89-4013-a2b3-772204f39950",
   "metadata": {},
   "source": [
    "### 1.c) Load dataset"
   ]
  },
  {
   "cell_type": "code",
   "execution_count": 4,
   "id": "2bb89d11-705e-4efd-8449-87e5bf3dcb9b",
   "metadata": {},
   "outputs": [
    {
     "name": "stdout",
     "output_type": "stream",
     "text": [
      "   credit.policy             purpose  int.rate  installment  log.annual.inc  \\\n",
      "0              1  debt_consolidation    0.1189       829.10       11.350407   \n",
      "1              1         credit_card    0.1071       228.22       11.082143   \n",
      "2              1  debt_consolidation    0.1357       366.86       10.373491   \n",
      "3              1  debt_consolidation    0.1008       162.34       11.350407   \n",
      "4              1         credit_card    0.1426       102.92       11.299732   \n",
      "\n",
      "     dti  fico  days.with.cr.line  revol.bal  revol.util  inq.last.6mths  \\\n",
      "0  19.48   737        5639.958333      28854        52.1               0   \n",
      "1  14.29   707        2760.000000      33623        76.7               0   \n",
      "2  11.63   682        4710.000000       3511        25.6               1   \n",
      "3   8.10   712        2699.958333      33667        73.2               1   \n",
      "4  14.97   667        4066.000000       4740        39.5               0   \n",
      "\n",
      "   delinq.2yrs  pub.rec  not.fully.paid  \n",
      "0            0        0               0  \n",
      "1            0        0               0  \n",
      "2            0        0               0  \n",
      "3            0        0               0  \n",
      "4            1        0               0  \n"
     ]
    }
   ],
   "source": [
    "# Read CSV data into a dataframe and mark the missing data as NaN\n",
    "dataset_path = 'https://dainesanalytics.com/datasets/kaggle-lendingclub-loan-data/loan_data.csv'\n",
    "df_dataset_import = pd.read_csv(dataset_path, header=0)\n",
    "\n",
    "# Take a peek at the dataframe after import\n",
    "print(df_dataset_import.head())"
   ]
  },
  {
   "cell_type": "code",
   "execution_count": 5,
   "id": "117edd99-d09d-48a8-8a90-1fcee1d7a9f4",
   "metadata": {},
   "outputs": [
    {
     "name": "stdout",
     "output_type": "stream",
     "text": [
      "<class 'pandas.core.frame.DataFrame'>\n",
      "RangeIndex: 9578 entries, 0 to 9577\n",
      "Data columns (total 14 columns):\n",
      " #   Column             Non-Null Count  Dtype  \n",
      "---  ------             --------------  -----  \n",
      " 0   credit.policy      9578 non-null   int64  \n",
      " 1   purpose            9578 non-null   object \n",
      " 2   int.rate           9578 non-null   float64\n",
      " 3   installment        9578 non-null   float64\n",
      " 4   log.annual.inc     9578 non-null   float64\n",
      " 5   dti                9578 non-null   float64\n",
      " 6   fico               9578 non-null   int64  \n",
      " 7   days.with.cr.line  9578 non-null   float64\n",
      " 8   revol.bal          9578 non-null   int64  \n",
      " 9   revol.util         9578 non-null   float64\n",
      " 10  inq.last.6mths     9578 non-null   int64  \n",
      " 11  delinq.2yrs        9578 non-null   int64  \n",
      " 12  pub.rec            9578 non-null   int64  \n",
      " 13  not.fully.paid     9578 non-null   int64  \n",
      "dtypes: float64(6), int64(7), object(1)\n",
      "memory usage: 1.0+ MB\n"
     ]
    }
   ],
   "source": [
    "df_dataset_import.info(verbose=True)"
   ]
  },
  {
   "cell_type": "markdown",
   "id": "c448f006-0dc3-4f42-907d-a5ce52efd0d1",
   "metadata": {},
   "source": [
    "### 1.d) Splitting Data into Sets"
   ]
  },
  {
   "cell_type": "code",
   "execution_count": 6,
   "id": "16dcaf97-1248-43f1-8b42-34d448890524",
   "metadata": {},
   "outputs": [],
   "source": [
    "# Standardize the class column to the name of target\n",
    "df_dataset_import = df_dataset_import.rename(columns={'not.fully.paid':'target'})"
   ]
  },
  {
   "cell_type": "code",
   "execution_count": 7,
   "id": "d6a95c31-98a6-433e-b8cb-d992fbcc136c",
   "metadata": {},
   "outputs": [
    {
     "name": "stdout",
     "output_type": "stream",
     "text": [
      "Training dataset has 7662 records and 14 columns.\n",
      "Validation dataset has 958 records and 14 columns.\n",
      "Test dataset has 958 records and 13 columns\n"
     ]
    }
   ],
   "source": [
    "# Split the data further into training, validation, and test datasets\n",
    "df_train, df_val_test = train_test_split(df_dataset_import, test_size=VAL_SET_RATIO, random_state=RNG_SEED)\n",
    "df_val, df_test = train_test_split(df_val_test, test_size=TEST_SET_RATIO, random_state=RNG_SEED)\n",
    "\n",
    "# Test data emulates the data that would be submitted for predictions, so it should not have the label column.\n",
    "df_test = df_test.drop(['target'], axis=1)\n",
    "\n",
    "print(\"Training dataset has {} records and {} columns.\".format(df_train.shape[0], df_train.shape[1]))\n",
    "print(\"Validation dataset has {} records and {} columns.\".format(df_val.shape[0], df_val.shape[1]))\n",
    "print(\"Test dataset has {} records and {} columns\".format(df_test.shape[0], df_test.shape[1]))"
   ]
  },
  {
   "cell_type": "markdown",
   "id": "48cb1f6b-de19-47d7-8039-0bb9ca193645",
   "metadata": {},
   "source": [
    "## Task 2 - Generate and Visualize Training Data Statistics"
   ]
  },
  {
   "cell_type": "markdown",
   "id": "9e54a76f-3710-449f-a085-c693fa99ae05",
   "metadata": {},
   "source": [
    "### 2.a) Removing Irrelevant Features"
   ]
  },
  {
   "cell_type": "code",
   "execution_count": 8,
   "id": "1c1d3dda-f84c-4d26-b7b1-a16a575f4c57",
   "metadata": {},
   "outputs": [
    {
     "name": "stdout",
     "output_type": "stream",
     "text": [
      "['credit.policy', 'purpose', 'int.rate', 'installment', 'log.annual.inc', 'dti', 'fico', 'days.with.cr.line', 'revol.bal', 'revol.util', 'inq.last.6mths', 'delinq.2yrs', 'pub.rec', 'target']\n"
     ]
    }
   ],
   "source": [
    "# Define non-essential features to remove\n",
    "features_to_remove = {}\n",
    "\n",
    "# Collect features to whitelist while computing the statistics\n",
    "features_to_keep = [col for col in df_dataset_import.columns if (col not in features_to_remove)]\n",
    "\n",
    "# Instantiate a StatsOptions class and define the feature_whitelist property\n",
    "options_train = tfdv.StatsOptions(feature_allowlist=features_to_keep)\n",
    "\n",
    "# Review the features to generate the statistics\n",
    "print(options_train.feature_allowlist)"
   ]
  },
  {
   "cell_type": "markdown",
   "id": "b413c352-aa1e-4786-9c44-2827da5d4326",
   "metadata": {},
   "source": [
    "### 2.b) Generate Statistics for Training Data"
   ]
  },
  {
   "cell_type": "code",
   "execution_count": 9,
   "id": "704c07bb-584d-44a6-ba3e-bc3d7db5ec0b",
   "metadata": {},
   "outputs": [
    {
     "name": "stdout",
     "output_type": "stream",
     "text": [
      "Number of features used: 14\n",
      "Number of examples used: 7662\n",
      "First feature: credit.policy\n",
      "Last feature: target\n"
     ]
    }
   ],
   "source": [
    "train_stats = tfdv.generate_statistics_from_dataframe(df_train, stats_options=options_train)\n",
    "\n",
    "# get the number of features used to compute statistics\n",
    "print(f\"Number of features used: {len(train_stats.datasets[0].features)}\")\n",
    "\n",
    "# check the number of examples used\n",
    "print(f\"Number of examples used: {train_stats.datasets[0].num_examples}\")\n",
    "\n",
    "# check the column names of the first and last feature\n",
    "print(f\"First feature: {train_stats.datasets[0].features[0].path.step[0]}\")\n",
    "print(f\"Last feature: {train_stats.datasets[0].features[-1].path.step[0]}\")"
   ]
  },
  {
   "cell_type": "markdown",
   "id": "53fa62ba-ccd1-4f2a-b4d4-b0e986ac1623",
   "metadata": {},
   "source": [
    "### 2.c) Visualize Training Statistics"
   ]
  },
  {
   "cell_type": "code",
   "execution_count": 10,
   "id": "2e4a9dd6-9ef6-423d-84c5-a185a30be7bc",
   "metadata": {},
   "outputs": [
    {
     "data": {
      "text/html": [
       "<iframe id='facets-iframe' width=\"100%\" height=\"500px\"></iframe>\n",
       "        <script>\n",
       "        facets_iframe = document.getElementById('facets-iframe');\n",
       "        facets_html = '<script src=\"https://cdnjs.cloudflare.com/ajax/libs/webcomponentsjs/1.3.3/webcomponents-lite.js\"><\\/script><link rel=\"import\" href=\"https://raw.githubusercontent.com/PAIR-code/facets/master/facets-dist/facets-jupyter.html\"><facets-overview proto-input=\"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\"></facets-overview>';\n",
       "        facets_iframe.srcdoc = facets_html;\n",
       "         facets_iframe.id = \"\";\n",
       "         setTimeout(() => {\n",
       "           facets_iframe.setAttribute('height', facets_iframe.contentWindow.document.body.offsetHeight + 'px')\n",
       "         }, 1500)\n",
       "         </script>"
      ],
      "text/plain": [
       "<IPython.core.display.HTML object>"
      ]
     },
     "metadata": {},
     "output_type": "display_data"
    }
   ],
   "source": [
    "tfdv.visualize_statistics(train_stats)"
   ]
  },
  {
   "cell_type": "markdown",
   "id": "08b1f16a-f4f7-48b0-be68-accd9a517db3",
   "metadata": {},
   "source": [
    "### 2.d) Infer Training Schema"
   ]
  },
  {
   "cell_type": "code",
   "execution_count": 11,
   "id": "766ae304-b443-4e28-b3ed-8cd2595f2e45",
   "metadata": {},
   "outputs": [
    {
     "data": {
      "text/html": [
       "<div>\n",
       "<style scoped>\n",
       "    .dataframe tbody tr th:only-of-type {\n",
       "        vertical-align: middle;\n",
       "    }\n",
       "\n",
       "    .dataframe tbody tr th {\n",
       "        vertical-align: top;\n",
       "    }\n",
       "\n",
       "    .dataframe thead th {\n",
       "        text-align: right;\n",
       "    }\n",
       "</style>\n",
       "<table border=\"1\" class=\"dataframe\">\n",
       "  <thead>\n",
       "    <tr style=\"text-align: right;\">\n",
       "      <th></th>\n",
       "      <th>Type</th>\n",
       "      <th>Presence</th>\n",
       "      <th>Valency</th>\n",
       "      <th>Domain</th>\n",
       "    </tr>\n",
       "    <tr>\n",
       "      <th>Feature name</th>\n",
       "      <th></th>\n",
       "      <th></th>\n",
       "      <th></th>\n",
       "      <th></th>\n",
       "    </tr>\n",
       "  </thead>\n",
       "  <tbody>\n",
       "    <tr>\n",
       "      <th>'credit.policy'</th>\n",
       "      <td>INT</td>\n",
       "      <td>required</td>\n",
       "      <td></td>\n",
       "      <td>-</td>\n",
       "    </tr>\n",
       "    <tr>\n",
       "      <th>'purpose'</th>\n",
       "      <td>STRING</td>\n",
       "      <td>required</td>\n",
       "      <td></td>\n",
       "      <td>'purpose'</td>\n",
       "    </tr>\n",
       "    <tr>\n",
       "      <th>'int.rate'</th>\n",
       "      <td>FLOAT</td>\n",
       "      <td>required</td>\n",
       "      <td></td>\n",
       "      <td>-</td>\n",
       "    </tr>\n",
       "    <tr>\n",
       "      <th>'installment'</th>\n",
       "      <td>FLOAT</td>\n",
       "      <td>required</td>\n",
       "      <td></td>\n",
       "      <td>-</td>\n",
       "    </tr>\n",
       "    <tr>\n",
       "      <th>'log.annual.inc'</th>\n",
       "      <td>FLOAT</td>\n",
       "      <td>required</td>\n",
       "      <td></td>\n",
       "      <td>-</td>\n",
       "    </tr>\n",
       "    <tr>\n",
       "      <th>'dti'</th>\n",
       "      <td>FLOAT</td>\n",
       "      <td>required</td>\n",
       "      <td></td>\n",
       "      <td>-</td>\n",
       "    </tr>\n",
       "    <tr>\n",
       "      <th>'fico'</th>\n",
       "      <td>INT</td>\n",
       "      <td>required</td>\n",
       "      <td></td>\n",
       "      <td>-</td>\n",
       "    </tr>\n",
       "    <tr>\n",
       "      <th>'days.with.cr.line'</th>\n",
       "      <td>FLOAT</td>\n",
       "      <td>required</td>\n",
       "      <td></td>\n",
       "      <td>-</td>\n",
       "    </tr>\n",
       "    <tr>\n",
       "      <th>'revol.bal'</th>\n",
       "      <td>INT</td>\n",
       "      <td>required</td>\n",
       "      <td></td>\n",
       "      <td>-</td>\n",
       "    </tr>\n",
       "    <tr>\n",
       "      <th>'revol.util'</th>\n",
       "      <td>FLOAT</td>\n",
       "      <td>required</td>\n",
       "      <td></td>\n",
       "      <td>-</td>\n",
       "    </tr>\n",
       "    <tr>\n",
       "      <th>'inq.last.6mths'</th>\n",
       "      <td>INT</td>\n",
       "      <td>required</td>\n",
       "      <td></td>\n",
       "      <td>-</td>\n",
       "    </tr>\n",
       "    <tr>\n",
       "      <th>'delinq.2yrs'</th>\n",
       "      <td>INT</td>\n",
       "      <td>required</td>\n",
       "      <td></td>\n",
       "      <td>-</td>\n",
       "    </tr>\n",
       "    <tr>\n",
       "      <th>'pub.rec'</th>\n",
       "      <td>INT</td>\n",
       "      <td>required</td>\n",
       "      <td></td>\n",
       "      <td>-</td>\n",
       "    </tr>\n",
       "    <tr>\n",
       "      <th>'target'</th>\n",
       "      <td>INT</td>\n",
       "      <td>required</td>\n",
       "      <td></td>\n",
       "      <td>-</td>\n",
       "    </tr>\n",
       "  </tbody>\n",
       "</table>\n",
       "</div>"
      ],
      "text/plain": [
       "                       Type  Presence Valency     Domain\n",
       "Feature name                                            \n",
       "'credit.policy'         INT  required                  -\n",
       "'purpose'            STRING  required          'purpose'\n",
       "'int.rate'            FLOAT  required                  -\n",
       "'installment'         FLOAT  required                  -\n",
       "'log.annual.inc'      FLOAT  required                  -\n",
       "'dti'                 FLOAT  required                  -\n",
       "'fico'                  INT  required                  -\n",
       "'days.with.cr.line'   FLOAT  required                  -\n",
       "'revol.bal'             INT  required                  -\n",
       "'revol.util'          FLOAT  required                  -\n",
       "'inq.last.6mths'        INT  required                  -\n",
       "'delinq.2yrs'           INT  required                  -\n",
       "'pub.rec'               INT  required                  -\n",
       "'target'                INT  required                  -"
      ]
     },
     "metadata": {},
     "output_type": "display_data"
    },
    {
     "name": "stderr",
     "output_type": "stream",
     "text": [
      "/home/tensorflowml/appdev/lib/python3.8/site-packages/tensorflow_data_validation/utils/display_util.py:180: FutureWarning: Passing a negative integer is deprecated in version 1.0 and will not be supported in future version. Instead, use None to not limit the column width.\n",
      "  pd.set_option('max_colwidth', -1)\n"
     ]
    },
    {
     "data": {
      "text/html": [
       "<div>\n",
       "<style scoped>\n",
       "    .dataframe tbody tr th:only-of-type {\n",
       "        vertical-align: middle;\n",
       "    }\n",
       "\n",
       "    .dataframe tbody tr th {\n",
       "        vertical-align: top;\n",
       "    }\n",
       "\n",
       "    .dataframe thead th {\n",
       "        text-align: right;\n",
       "    }\n",
       "</style>\n",
       "<table border=\"1\" class=\"dataframe\">\n",
       "  <thead>\n",
       "    <tr style=\"text-align: right;\">\n",
       "      <th></th>\n",
       "      <th>Values</th>\n",
       "    </tr>\n",
       "    <tr>\n",
       "      <th>Domain</th>\n",
       "      <th></th>\n",
       "    </tr>\n",
       "  </thead>\n",
       "  <tbody>\n",
       "    <tr>\n",
       "      <th>'purpose'</th>\n",
       "      <td>'all_other', 'credit_card', 'debt_consolidation', 'educational', 'home_improvement', 'major_purchase', 'small_business'</td>\n",
       "    </tr>\n",
       "  </tbody>\n",
       "</table>\n",
       "</div>"
      ],
      "text/plain": [
       "                                                                                                                            Values\n",
       "Domain                                                                                                                            \n",
       "'purpose'  'all_other', 'credit_card', 'debt_consolidation', 'educational', 'home_improvement', 'major_purchase', 'small_business'"
      ]
     },
     "metadata": {},
     "output_type": "display_data"
    }
   ],
   "source": [
    "# Infer the data schema by using the training statistics previously generated\n",
    "dataset_schema = tfdv.infer_schema(train_stats)\n",
    "\n",
    "# Display the data schema\n",
    "tfdv.display_schema(dataset_schema)"
   ]
  },
  {
   "cell_type": "markdown",
   "id": "b90fbcbf-0380-4cd5-a857-53b4efe91414",
   "metadata": {},
   "source": [
    "## Task 3 - Check Anomalies in Validation Dataset"
   ]
  },
  {
   "cell_type": "markdown",
   "id": "83c57d90-be71-4414-af4c-d56ae5eb0fa7",
   "metadata": {},
   "source": [
    "### 3.a) Generate Statistics for Validation Data"
   ]
  },
  {
   "cell_type": "code",
   "execution_count": 12,
   "id": "d17b303b-ca88-4324-9b4f-28a164d42b27",
   "metadata": {},
   "outputs": [
    {
     "name": "stdout",
     "output_type": "stream",
     "text": [
      "Number of features used: 14\n",
      "Number of examples used: 958\n",
      "First feature: credit.policy\n",
      "Last feature: target\n"
     ]
    }
   ],
   "source": [
    "val_stats = tfdv.generate_statistics_from_dataframe(df_val, stats_options=options_train)\n",
    "\n",
    "# get the number of features used to compute statistics\n",
    "print(f\"Number of features used: {len(val_stats.datasets[0].features)}\")\n",
    "\n",
    "# check the number of examples used\n",
    "print(f\"Number of examples used: {val_stats.datasets[0].num_examples}\")\n",
    "\n",
    "# check the column names of the first and last feature\n",
    "print(f\"First feature: {val_stats.datasets[0].features[0].path.step[0]}\")\n",
    "print(f\"Last feature: {val_stats.datasets[0].features[-1].path.step[0]}\")"
   ]
  },
  {
   "cell_type": "markdown",
   "id": "f369a2a9-2052-4d73-ae6e-141be055c48b",
   "metadata": {},
   "source": [
    "### 3.b) Compare Validation with Training Statistics"
   ]
  },
  {
   "cell_type": "code",
   "execution_count": 13,
   "id": "a82f821b-bc4a-40d0-9802-eac3e81ecab2",
   "metadata": {
    "tags": []
   },
   "outputs": [
    {
     "data": {
      "text/html": [
       "<iframe id='facets-iframe' width=\"100%\" height=\"500px\"></iframe>\n",
       "        <script>\n",
       "        facets_iframe = document.getElementById('facets-iframe');\n",
       "        facets_html = '<script src=\"https://cdnjs.cloudflare.com/ajax/libs/webcomponentsjs/1.3.3/webcomponents-lite.js\"><\\/script><link rel=\"import\" href=\"https://raw.githubusercontent.com/PAIR-code/facets/master/facets-dist/facets-jupyter.html\"><facets-overview proto-input=\"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\"></facets-overview>';\n",
       "        facets_iframe.srcdoc = facets_html;\n",
       "         facets_iframe.id = \"\";\n",
       "         setTimeout(() => {\n",
       "           facets_iframe.setAttribute('height', facets_iframe.contentWindow.document.body.offsetHeight + 'px')\n",
       "         }, 1500)\n",
       "         </script>"
      ],
      "text/plain": [
       "<IPython.core.display.HTML object>"
      ]
     },
     "metadata": {},
     "output_type": "display_data"
    }
   ],
   "source": [
    "tfdv.visualize_statistics(lhs_statistics=val_stats, rhs_statistics=train_stats,\n",
    "                          lhs_name='VAL_DATASET', rhs_name='TRAIN_DATASET')"
   ]
  },
  {
   "cell_type": "markdown",
   "id": "cab3434b-befe-4b26-965d-23b1d9b5fe5f",
   "metadata": {},
   "source": [
    "### 3.c) Detect Anomalies"
   ]
  },
  {
   "cell_type": "code",
   "execution_count": 14,
   "id": "ed5a6e17-da7e-4ab6-9c75-7ebd8bab1e67",
   "metadata": {},
   "outputs": [
    {
     "name": "stderr",
     "output_type": "stream",
     "text": [
      "/home/tensorflowml/appdev/lib/python3.8/site-packages/tensorflow_data_validation/utils/display_util.py:217: FutureWarning: Passing a negative integer is deprecated in version 1.0 and will not be supported in future version. Instead, use None to not limit the column width.\n",
      "  pd.set_option('max_colwidth', -1)\n"
     ]
    },
    {
     "data": {
      "text/html": [
       "<h4 style=\"color:green;\">No anomalies found.</h4>"
      ],
      "text/plain": [
       "<IPython.core.display.HTML object>"
      ]
     },
     "metadata": {},
     "output_type": "display_data"
    }
   ],
   "source": [
    "val_anomalies = tfdv.validate_statistics(statistics=val_stats, schema=dataset_schema)\n",
    "tfdv.display_anomalies(val_anomalies)"
   ]
  },
  {
   "cell_type": "markdown",
   "id": "fac7dbd6-c584-4111-b4d5-8c80ab46de3f",
   "metadata": {},
   "source": [
    "### 3.d) Fix Validation Data Anomalies in Schema"
   ]
  },
  {
   "cell_type": "code",
   "execution_count": 15,
   "id": "5bc71224-b3b4-4363-98a9-cd8cf2838f6c",
   "metadata": {},
   "outputs": [],
   "source": [
    "# Not applicable in this iteration of the data validation exercise"
   ]
  },
  {
   "cell_type": "markdown",
   "id": "4198cf99-8c3b-4b5e-9a48-8d41ebdcd0b0",
   "metadata": {},
   "source": [
    "## Task 4 - Check Anomalies in Test Dataset"
   ]
  },
  {
   "cell_type": "markdown",
   "id": "1ff9f8c8-b3e7-44cf-b90c-42de6f6490df",
   "metadata": {},
   "source": [
    "### 4.a) Generate Statistics for Test Data"
   ]
  },
  {
   "cell_type": "code",
   "execution_count": 16,
   "id": "6a7950b4-7edc-4457-b8c2-908fa4383337",
   "metadata": {},
   "outputs": [],
   "source": [
    "# Define a new statistics options by the tfdv.StatsOptions class for the serving data by passing the previously inferred schema\n",
    "options_test = tfdv.StatsOptions(schema=dataset_schema, infer_type_from_schema=True, feature_allowlist=features_to_keep)"
   ]
  },
  {
   "cell_type": "code",
   "execution_count": 17,
   "id": "ed65ef38-e3fd-4c01-b1d0-c3e3b18ad45d",
   "metadata": {},
   "outputs": [
    {
     "name": "stdout",
     "output_type": "stream",
     "text": [
      "Number of features used: 13\n",
      "Number of examples used: 958\n",
      "First feature: credit.policy\n",
      "Last feature: pub.rec\n"
     ]
    }
   ],
   "source": [
    "# Generate serving dataset statistics\n",
    "test_stats = tfdv.generate_statistics_from_dataframe(df_test, stats_options=options_test)\n",
    "\n",
    "# get the number of features used to compute statistics\n",
    "print(f\"Number of features used: {len(test_stats.datasets[0].features)}\")\n",
    "\n",
    "# check the number of examples used\n",
    "print(f\"Number of examples used: {test_stats.datasets[0].num_examples}\")\n",
    "\n",
    "# check the column names of the first and last feature\n",
    "print(f\"First feature: {test_stats.datasets[0].features[0].path.step[0]}\")\n",
    "print(f\"Last feature: {test_stats.datasets[0].features[-1].path.step[0]}\")"
   ]
  },
  {
   "cell_type": "markdown",
   "id": "65914f4b-b357-4a6e-ae26-a311e9d28a1e",
   "metadata": {},
   "source": [
    "### 4.b) Compare Test with Training Statistics"
   ]
  },
  {
   "cell_type": "code",
   "execution_count": 18,
   "id": "9018bcd4-58a9-4a07-a1e1-453da72566e8",
   "metadata": {},
   "outputs": [
    {
     "data": {
      "text/html": [
       "<div>\n",
       "<style scoped>\n",
       "    .dataframe tbody tr th:only-of-type {\n",
       "        vertical-align: middle;\n",
       "    }\n",
       "\n",
       "    .dataframe tbody tr th {\n",
       "        vertical-align: top;\n",
       "    }\n",
       "\n",
       "    .dataframe thead th {\n",
       "        text-align: right;\n",
       "    }\n",
       "</style>\n",
       "<table border=\"1\" class=\"dataframe\">\n",
       "  <thead>\n",
       "    <tr style=\"text-align: right;\">\n",
       "      <th></th>\n",
       "      <th>Anomaly short description</th>\n",
       "      <th>Anomaly long description</th>\n",
       "    </tr>\n",
       "    <tr>\n",
       "      <th>Feature name</th>\n",
       "      <th></th>\n",
       "      <th></th>\n",
       "    </tr>\n",
       "  </thead>\n",
       "  <tbody>\n",
       "    <tr>\n",
       "      <th>'target'</th>\n",
       "      <td>Column dropped</td>\n",
       "      <td>Column is completely missing</td>\n",
       "    </tr>\n",
       "  </tbody>\n",
       "</table>\n",
       "</div>"
      ],
      "text/plain": [
       "             Anomaly short description      Anomaly long description\n",
       "Feature name                                                        \n",
       "'target'      Column dropped            Column is completely missing"
      ]
     },
     "metadata": {},
     "output_type": "display_data"
    }
   ],
   "source": [
    "test_anomalies = tfdv.validate_statistics(statistics=test_stats, schema=dataset_schema)\n",
    "tfdv.display_anomalies(test_anomalies)"
   ]
  },
  {
   "cell_type": "markdown",
   "id": "f1720d5d-a943-4828-b44d-044e7e2c6100",
   "metadata": {},
   "source": [
    "### 4.c) Fix Test Data Anomalies in Schema"
   ]
  },
  {
   "cell_type": "code",
   "execution_count": 19,
   "id": "b7ee8af5-7030-4bd7-88e7-d9a6a37ad7fc",
   "metadata": {},
   "outputs": [],
   "source": [
    "# Not applicable in this iteration of the data validation exercise"
   ]
  },
  {
   "cell_type": "markdown",
   "id": "d50be62d-0e6f-46c3-a89b-1fa13e53c233",
   "metadata": {},
   "source": [
    "### 4.d) Organize Schema based on Environment"
   ]
  },
  {
   "cell_type": "code",
   "execution_count": 20,
   "id": "c15562ed-2cdd-4c60-b1d0-c67e8b03c770",
   "metadata": {},
   "outputs": [],
   "source": [
    "# All features are by default in both TRAINING and SERVING environments.\n",
    "dataset_schema.default_environment.append('TRAINING')\n",
    "dataset_schema.default_environment.append('TESTING')"
   ]
  },
  {
   "cell_type": "code",
   "execution_count": 21,
   "id": "ab17939b-cf24-4af9-8598-5df82abc25f9",
   "metadata": {},
   "outputs": [
    {
     "name": "stderr",
     "output_type": "stream",
     "text": [
      "/home/tensorflowml/appdev/lib/python3.8/site-packages/tensorflow_data_validation/utils/display_util.py:217: FutureWarning: Passing a negative integer is deprecated in version 1.0 and will not be supported in future version. Instead, use None to not limit the column width.\n",
      "  pd.set_option('max_colwidth', -1)\n"
     ]
    },
    {
     "data": {
      "text/html": [
       "<h4 style=\"color:green;\">No anomalies found.</h4>"
      ],
      "text/plain": [
       "<IPython.core.display.HTML object>"
      ]
     },
     "metadata": {},
     "output_type": "display_data"
    }
   ],
   "source": [
    "# Specify that 'target' feature is not in TEST environment.\n",
    "tfdv.get_feature(dataset_schema, 'target').not_in_environment.append('TESTING')\n",
    "\n",
    "# Re-calculate and re-display anomalies with the new environment parameters\n",
    "test_anomalies = tfdv.validate_statistics(statistics=test_stats, schema=dataset_schema, environment='TESTING')\n",
    "tfdv.display_anomalies(test_anomalies)"
   ]
  },
  {
   "cell_type": "markdown",
   "id": "b2a4e751-e1dc-4554-b22a-342ea1dfbec3",
   "metadata": {},
   "source": [
    "## Task 5 - Check for Data Drift and Skew"
   ]
  },
  {
   "cell_type": "code",
   "execution_count": 22,
   "id": "50c68e40-0a9e-41ef-850b-e1cd55ee1227",
   "metadata": {},
   "outputs": [],
   "source": [
    "# Not applicable in this iteration of the data validation exercise"
   ]
  },
  {
   "cell_type": "markdown",
   "id": "43c3a21b-0f2d-4dad-a9f0-39d1be601a2b",
   "metadata": {},
   "source": [
    "## Task 6 - Display Stats for Data Slices"
   ]
  },
  {
   "cell_type": "code",
   "execution_count": 23,
   "id": "d589c757-2ed1-4672-bc11-a734a1276949",
   "metadata": {},
   "outputs": [],
   "source": [
    "def split_datasets(dataset_list):\n",
    "    '''\n",
    "    split datasets.\n",
    "\n",
    "            Parameters:\n",
    "                    dataset_list: List of datasets to split\n",
    "\n",
    "            Returns:\n",
    "                    datasets: sliced data\n",
    "    '''\n",
    "    datasets = []\n",
    "    for dataset in dataset_list.datasets:\n",
    "        proto_list = DatasetFeatureStatisticsList()\n",
    "        proto_list.datasets.extend([dataset])\n",
    "        datasets.append(proto_list)\n",
    "    return datasets"
   ]
  },
  {
   "cell_type": "code",
   "execution_count": 24,
   "id": "74008891-61b4-4e96-917d-c6b380406be3",
   "metadata": {},
   "outputs": [],
   "source": [
    "def display_stats_at_index(index, datasets):\n",
    "    '''\n",
    "    display statistics at the specified data index\n",
    "\n",
    "            Parameters:\n",
    "                    index : index to show the anomalies\n",
    "                    datasets: split data\n",
    "\n",
    "            Returns:\n",
    "                    display of generated sliced data statistics at the specified index\n",
    "    '''\n",
    "    if index < len(datasets):\n",
    "        print(datasets[index].datasets[0].name)\n",
    "        tfdv.visualize_statistics(datasets[index])"
   ]
  },
  {
   "cell_type": "code",
   "execution_count": 25,
   "id": "bcc6ecb6-d0bd-4802-8c17-90773710b6dd",
   "metadata": {},
   "outputs": [],
   "source": [
    "def sliced_stats_for_slice_fn(slice_fn, approved_cols, dataframe, schema):\n",
    "    '''\n",
    "    generate statistics for the sliced data.\n",
    "\n",
    "            Parameters:\n",
    "                    slice_fn : slicing definition\n",
    "                    approved_cols: list of features to pass to the statistics options\n",
    "                    dataframe: pandas dataframe to slice\n",
    "                    schema: the schema\n",
    "\n",
    "            Returns:\n",
    "                    slice_info_datasets: statistics for the sliced dataset\n",
    "    '''\n",
    "    # Set the StatsOptions\n",
    "    slice_stats_options = tfdv.StatsOptions(schema=schema,\n",
    "                                            slice_functions=[slice_fn],\n",
    "                                            infer_type_from_schema=True,\n",
    "                                            feature_allowlist=approved_cols)\n",
    "    \n",
    "    # Convert Dataframe to CSV since `slice_functions` works only with `tfdv.generate_statistics_from_csv`\n",
    "    CSV_PATH = 'slice_sample.csv'\n",
    "    dataframe.to_csv(CSV_PATH)\n",
    "    \n",
    "    # Calculate statistics for the sliced dataset\n",
    "    sliced_stats = tfdv.generate_statistics_from_csv(CSV_PATH, stats_options=slice_stats_options)\n",
    "    \n",
    "    # Split the dataset using the previously defined split_datasets function\n",
    "    slice_info_datasets = split_datasets(sliced_stats)\n",
    "    \n",
    "    return slice_info_datasets"
   ]
  },
  {
   "cell_type": "code",
   "execution_count": 26,
   "id": "94016e8e-8adf-4667-a323-f117f2fbcb30",
   "metadata": {},
   "outputs": [
    {
     "name": "stderr",
     "output_type": "stream",
     "text": [
      "WARNING:apache_beam.runners.interactive.interactive_environment:Dependencies required for Interactive Beam PCollection visualization are not available, please use: `pip install apache-beam[interactive]` to install necessary dependencies to enable all data visualization features.\n"
     ]
    },
    {
     "data": {
      "application/javascript": [
       "\n",
       "        if (typeof window.interactive_beam_jquery == 'undefined') {\n",
       "          var jqueryScript = document.createElement('script');\n",
       "          jqueryScript.src = 'https://code.jquery.com/jquery-3.4.1.slim.min.js';\n",
       "          jqueryScript.type = 'text/javascript';\n",
       "          jqueryScript.onload = function() {\n",
       "            var datatableScript = document.createElement('script');\n",
       "            datatableScript.src = 'https://cdn.datatables.net/1.10.20/js/jquery.dataTables.min.js';\n",
       "            datatableScript.type = 'text/javascript';\n",
       "            datatableScript.onload = function() {\n",
       "              window.interactive_beam_jquery = jQuery.noConflict(true);\n",
       "              window.interactive_beam_jquery(document).ready(function($){\n",
       "                \n",
       "              });\n",
       "            }\n",
       "            document.head.appendChild(datatableScript);\n",
       "          };\n",
       "          document.head.appendChild(jqueryScript);\n",
       "        } else {\n",
       "          window.interactive_beam_jquery(document).ready(function($){\n",
       "            \n",
       "          });\n",
       "        }"
      ]
     },
     "metadata": {},
     "output_type": "display_data"
    },
    {
     "name": "stderr",
     "output_type": "stream",
     "text": [
      "WARNING:apache_beam.io.tfrecordio:Couldn't find python-snappy so the implementation of _TFRecordUtil._masked_crc32c is not as fast as it could be.\n"
     ]
    },
    {
     "name": "stdout",
     "output_type": "stream",
     "text": [
      "Statistics generated for:\n",
      "\n",
      "All Examples\n",
      "purpose_debt_consolidation\n",
      "purpose_credit_card\n",
      "purpose_home_improvement\n",
      "purpose_educational\n",
      "purpose_all_other\n",
      "purpose_small_business\n",
      "purpose_major_purchase\n",
      "purpose_debt_consolidation\n"
     ]
    },
    {
     "data": {
      "text/html": [
       "<iframe id='facets-iframe' width=\"100%\" height=\"500px\"></iframe>\n",
       "        <script>\n",
       "        facets_iframe = document.getElementById('facets-iframe');\n",
       "        facets_html = '<script src=\"https://cdnjs.cloudflare.com/ajax/libs/webcomponentsjs/1.3.3/webcomponents-lite.js\"><\\/script><link rel=\"import\" href=\"https://raw.githubusercontent.com/PAIR-code/facets/master/facets-dist/facets-jupyter.html\"><facets-overview proto-input=\"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\"></facets-overview>';\n",
       "        facets_iframe.srcdoc = facets_html;\n",
       "         facets_iframe.id = \"\";\n",
       "         setTimeout(() => {\n",
       "           facets_iframe.setAttribute('height', facets_iframe.contentWindow.document.body.offsetHeight + 'px')\n",
       "         }, 1500)\n",
       "         </script>"
      ],
      "text/plain": [
       "<IPython.core.display.HTML object>"
      ]
     },
     "metadata": {},
     "output_type": "display_data"
    }
   ],
   "source": [
    "# Generate slice function for one of the features\n",
    "slice_fn = slicing_util.get_feature_value_slicer(features={'purpose': None})\n",
    "\n",
    "# Generate stats for the sliced dataset\n",
    "slice_datasets = sliced_stats_for_slice_fn(slice_fn, features_to_keep, dataframe=df_train, schema=dataset_schema)\n",
    "\n",
    "# Print name of slices for reference\n",
    "print(f'Statistics generated for:\\n')\n",
    "print('\\n'.join([sliced.datasets[0].name for sliced in slice_datasets]))\n",
    "\n",
    "# Display at index 1 as an example\n",
    "display_stats_at_index(1, slice_datasets) "
   ]
  },
  {
   "cell_type": "markdown",
   "id": "334a2d9b-b089-4029-bc5e-f3144bc8db6f",
   "metadata": {},
   "source": [
    "## Task 7 - Finalize the Schema"
   ]
  },
  {
   "cell_type": "code",
   "execution_count": 27,
   "id": "0402e421-d17b-49a2-ab94-ca48fc585316",
   "metadata": {},
   "outputs": [],
   "source": [
    "# Create output directory\n",
    "OUTPUT_DIR = \"output\"\n",
    "file_io.recursive_create_dir(OUTPUT_DIR)\n",
    "\n",
    "# Use TensorFlow text output format pbtxt to store the schema\n",
    "schema_file = os.path.join(OUTPUT_DIR, 'schema.pbtxt')\n",
    "\n",
    "# write_schema_text function expect the defined schema and output path as parameters\n",
    "tfdv.write_schema_text(dataset_schema, schema_file) "
   ]
  },
  {
   "cell_type": "code",
   "execution_count": 28,
   "id": "7e5a3a5c-9372-4f0c-b3eb-d205661b23c2",
   "metadata": {},
   "outputs": [
    {
     "name": "stdout",
     "output_type": "stream",
     "text": [
      "Total time for the script: 0:00:08.307018\n"
     ]
    }
   ],
   "source": [
    "print ('Total time for the script:',(datetime.now() - start_time_script))"
   ]
  }
 ],
 "metadata": {
  "kernelspec": {
   "display_name": "Python 3",
   "language": "python",
   "name": "python3"
  },
  "language_info": {
   "codemirror_mode": {
    "name": "ipython",
    "version": 3
   },
   "file_extension": ".py",
   "mimetype": "text/x-python",
   "name": "python",
   "nbconvert_exporter": "python",
   "pygments_lexer": "ipython3",
   "version": "3.8.10"
  }
 },
 "nbformat": 4,
 "nbformat_minor": 5
}

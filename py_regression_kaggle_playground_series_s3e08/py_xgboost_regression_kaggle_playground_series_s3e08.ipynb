{
  "cells": [
    {
      "cell_type": "markdown",
      "metadata": {
        "id": "uTujCqduViZB"
      },
      "source": [
        "# Regression Tabular Model for Kaggle Playground Series Season 3 Episode 8 Using Python and XGBoost\n",
        "### David Lowe\n",
        "### March 29, 2023\n",
        "\n",
        "SUMMARY: The project aims to construct a predictive model using various machine learning algorithms and document the end-to-end steps using a template. The Kaggle Playground Series Season 3 Episode 8 Dataset is a regression modeling situation where we are trying to predict the value of a continuous variable.\n",
        "\n",
        "INTRODUCTION: Kaggle wants to provide an approachable environment for relatively new people in their data science journey. Since January 2021, they have hosted playground-style competitions to give the Kaggle community a variety of reasonably lightweight challenges that can be used to learn and sharpen skills in different aspects of machine learning and data science. The dataset for this competition was generated from a deep learning model trained on the Gemstone Price Prediction dataset. Feature distributions are close to but different from the original.\n",
        "\n",
        "ANALYSIS: The performance of the preliminary XGBoost model achieved an RMSE benchmark of 580. After a series of tuning trials, the final model processed the test dataset with an RMSE score of 584.\n",
        "\n",
        "CONCLUSION: In this iteration, the XGBoost model appeared to be a suitable algorithm for modeling this dataset.\n",
        "\n",
        "Dataset Used: Playground Series Season 3, Episode 8\n",
        "\n",
        "Dataset ML Model: Regression with numerical features\n",
        "\n",
        "Dataset Reference: https://www.kaggle.com/competitions/playground-series-s3e8/\n",
        "\n",
        "One source of potential performance benchmarks: https://www.kaggle.com/competitions/playground-series-s3e8/leaderboard"
      ]
    },
    {
      "cell_type": "markdown",
      "metadata": {
        "id": "CpOJ4D0sViZE"
      },
      "source": [
        "## Task 1 - Prepare Environment"
      ]
    },
    {
      "cell_type": "code",
      "execution_count": 1,
      "metadata": {
        "id": "lacFSiqQViZE",
        "outputId": "e674890c-03ba-4879-98cf-92f9d23c40ec",
        "colab": {
          "base_uri": "https://localhost:8080/"
        }
      },
      "outputs": [
        {
          "output_type": "stream",
          "name": "stdout",
          "text": [
            "Sun Mar 26 14:34:06 2023       \n",
            "+-----------------------------------------------------------------------------+\n",
            "| NVIDIA-SMI 525.85.12    Driver Version: 525.85.12    CUDA Version: 12.0     |\n",
            "|-------------------------------+----------------------+----------------------+\n",
            "| GPU  Name        Persistence-M| Bus-Id        Disp.A | Volatile Uncorr. ECC |\n",
            "| Fan  Temp  Perf  Pwr:Usage/Cap|         Memory-Usage | GPU-Util  Compute M. |\n",
            "|                               |                      |               MIG M. |\n",
            "|===============================+======================+======================|\n",
            "|   0  NVIDIA A100-SXM...  Off  | 00000000:00:04.0 Off |                    0 |\n",
            "| N/A   33C    P0    46W / 400W |      0MiB / 40960MiB |      0%      Default |\n",
            "|                               |                      |             Disabled |\n",
            "+-------------------------------+----------------------+----------------------+\n",
            "                                                                               \n",
            "+-----------------------------------------------------------------------------+\n",
            "| Processes:                                                                  |\n",
            "|  GPU   GI   CI        PID   Type   Process name                  GPU Memory |\n",
            "|        ID   ID                                                   Usage      |\n",
            "|=============================================================================|\n",
            "|  No running processes found                                                 |\n",
            "+-----------------------------------------------------------------------------+\n"
          ]
        }
      ],
      "source": [
        "# Retrieve the GPU information\n",
        "gpu_info = !nvidia-smi\n",
        "gpu_info = '\\n'.join(gpu_info)\n",
        "print(gpu_info)"
      ]
    },
    {
      "cell_type": "code",
      "execution_count": 2,
      "metadata": {
        "id": "DxtB-TajViZF",
        "outputId": "cf645c66-8119-44fd-fd55-a3087f311055",
        "colab": {
          "base_uri": "https://localhost:8080/"
        }
      },
      "outputs": [
        {
          "output_type": "stream",
          "name": "stdout",
          "text": [
            "Your runtime has 89.6 gigabytes of available RAM\n",
            "\n"
          ]
        }
      ],
      "source": [
        "# Retrieve the memory configuration\n",
        "from psutil import virtual_memory\n",
        "ram_gb = virtual_memory().total / 1e9\n",
        "print('Your runtime has {:.1f} gigabytes of available RAM\\n'.format(ram_gb))"
      ]
    },
    {
      "cell_type": "code",
      "execution_count": 3,
      "metadata": {
        "id": "M5P-B3EHViZG",
        "outputId": "7220c46d-2274-440a-bb2d-f9c6645ec137",
        "colab": {
          "base_uri": "https://localhost:8080/"
        }
      },
      "outputs": [
        {
          "output_type": "stream",
          "name": "stdout",
          "text": [
            "The number of available CPUs is: 12\n"
          ]
        }
      ],
      "source": [
        "# Retrieve the CPU information\n",
        "ncpu = !nproc\n",
        "print(\"The number of available CPUs is:\", ncpu[0])"
      ]
    },
    {
      "cell_type": "markdown",
      "metadata": {
        "id": "PO6xpyHQViZG"
      },
      "source": [
        "### 1.a) Load libraries and modules"
      ]
    },
    {
      "cell_type": "code",
      "execution_count": 4,
      "metadata": {
        "id": "8wN4G-ONViZG"
      },
      "outputs": [],
      "source": [
        "# Set the random seed number for reproducible results\n",
        "RNG_SEED = 888"
      ]
    },
    {
      "cell_type": "code",
      "execution_count": 5,
      "metadata": {
        "id": "c_m1fMFIViZH"
      },
      "outputs": [],
      "source": [
        "import numpy as np\n",
        "import pandas as pd\n",
        "import seaborn as sns\n",
        "import matplotlib.pyplot as plt\n",
        "import os\n",
        "import sys\n",
        "import math\n",
        "import zipfile\n",
        "import urllib\n",
        "from datetime import datetime\n",
        "from sklearn import preprocessing\n",
        "from sklearn.model_selection import train_test_split\n",
        "from sklearn.model_selection import KFold\n",
        "from sklearn.model_selection import cross_val_score\n",
        "from sklearn.model_selection import GridSearchCV\n",
        "from sklearn.metrics import mean_squared_error\n",
        "from sklearn.metrics import r2_score\n",
        "from sklearn.pipeline import Pipeline\n",
        "from sklearn import compose\n",
        "from sklearn import impute\n",
        "from sklearn import datasets\n",
        "\n",
        "# from sklearn.feature_selection import RFE\n",
        "# from imblearn.pipeline import Pipeline\n",
        "# from imblearn.over_sampling import SMOTE\n",
        "# from imblearn.under_sampling import RandomUnderSampler\n",
        "\n",
        "from xgboost import XGBRegressor"
      ]
    },
    {
      "cell_type": "markdown",
      "metadata": {
        "id": "R9eAm3poViZH"
      },
      "source": [
        "### 1.b) Set up the controlling parameters and functions"
      ]
    },
    {
      "cell_type": "code",
      "execution_count": 6,
      "metadata": {
        "id": "IdkikF4vViZI"
      },
      "outputs": [],
      "source": [
        "# Begin the timer for the script processing\n",
        "START_TIME_SCRIPT = datetime.now()\n",
        "\n",
        "# Set up the number of CPU cores available for multi-thread processing\n",
        "N_JOBS = 2\n",
        "\n",
        "# Set up the flag to stop sending progress emails (setting to True will send status emails!)\n",
        "NOTIFY_STATUS = False\n",
        "\n",
        "# Set the percentage sizes for splitting the dataset\n",
        "TEST_SET_RATIO = 0.1\n",
        "VAL_SET_RATIO = 0.1\n",
        "\n",
        "# Set the name for the class/label column\n",
        "ORIGINAL_LABEL = 'price'\n",
        "CLASS_COLUMN = 'target'\n",
        "\n",
        "# Set the number of folds for cross validation\n",
        "N_FOLDS = 10\n",
        "\n",
        "# Set default modeling scoring metric\n",
        "SCORING_METRIC = 'neg_root_mean_squared_error'\n",
        "\n",
        "# Define the directory locations and file names\n",
        "TRAIN_DATASET = 'https://dainesanalytics.com/datasets/kaggle-playground-series-s3e08/train.csv'\n",
        "TEST_DATASET = 'https://dainesanalytics.com/datasets/kaggle-playground-series-s3e08/test.csv'\n",
        "ORIGINAL_DATASET = 'https://dainesanalytics.com/datasets/kaggle-playground-series-s3e08/cubic_zirconia.csv'\n",
        "SUBMISSION_TEMPLATE = 'https://dainesanalytics.com/datasets/kaggle-playground-series-s3e08/sample_submission.csv'\n",
        "SUBMISSION_FILE = 'submission_xgboost_'"
      ]
    },
    {
      "cell_type": "markdown",
      "metadata": {
        "id": "q_Bvl4siViZJ"
      },
      "source": [
        "### 1.c) Load dataset"
      ]
    },
    {
      "cell_type": "code",
      "execution_count": 7,
      "metadata": {
        "id": "xLOu39vyViZK",
        "outputId": "7deb6df3-1de3-4ea0-eb79-e4f1a5a300aa",
        "colab": {
          "base_uri": "https://localhost:8080/"
        }
      },
      "outputs": [
        {
          "output_type": "stream",
          "name": "stdout",
          "text": [
            "   id  carat        cut color clarity  depth  table     x     y     z  price\n",
            "0   0   1.52    Premium     F     VS2   62.2   58.0  7.27  7.33  4.55  13619\n",
            "1   1   2.03  Very Good     J     SI2   62.0   58.0  8.06  8.12  5.05  13387\n",
            "2   2   0.70      Ideal     G     VS1   61.2   57.0  5.69  5.73  3.50   2772\n",
            "3   3   0.32      Ideal     G     VS1   61.6   56.0  4.38  4.41  2.71    666\n",
            "4   4   1.70    Premium     G     VS2   62.6   59.0  7.65  7.61  4.77  14453\n"
          ]
        }
      ],
      "source": [
        "df_dataset_import = pd.read_csv(TRAIN_DATASET)\n",
        "\n",
        "# Take a peek at the dataframe after import\n",
        "print(df_dataset_import.head())"
      ]
    },
    {
      "cell_type": "code",
      "execution_count": 8,
      "metadata": {
        "id": "hh61JaxGViZK",
        "outputId": "fdc18467-44a0-4778-9c76-3209890f3bde",
        "colab": {
          "base_uri": "https://localhost:8080/"
        }
      },
      "outputs": [
        {
          "output_type": "stream",
          "name": "stdout",
          "text": [
            "<class 'pandas.core.frame.DataFrame'>\n",
            "RangeIndex: 193573 entries, 0 to 193572\n",
            "Data columns (total 11 columns):\n",
            " #   Column   Non-Null Count   Dtype  \n",
            "---  ------   --------------   -----  \n",
            " 0   id       193573 non-null  int64  \n",
            " 1   carat    193573 non-null  float64\n",
            " 2   cut      193573 non-null  object \n",
            " 3   color    193573 non-null  object \n",
            " 4   clarity  193573 non-null  object \n",
            " 5   depth    193573 non-null  float64\n",
            " 6   table    193573 non-null  float64\n",
            " 7   x        193573 non-null  float64\n",
            " 8   y        193573 non-null  float64\n",
            " 9   z        193573 non-null  float64\n",
            " 10  price    193573 non-null  int64  \n",
            "dtypes: float64(6), int64(2), object(3)\n",
            "memory usage: 16.2+ MB\n"
          ]
        }
      ],
      "source": [
        "df_dataset_import.info(verbose=True)"
      ]
    },
    {
      "cell_type": "code",
      "execution_count": 9,
      "metadata": {
        "id": "H4E9OUytViZK",
        "outputId": "8a46733d-82f1-4791-dacf-9b593c1d2c08",
        "colab": {
          "base_uri": "https://localhost:8080/"
        }
      },
      "outputs": [
        {
          "output_type": "stream",
          "name": "stdout",
          "text": [
            "                  id          carat          depth          table  \\\n",
            "count  193573.000000  193573.000000  193573.000000  193573.000000   \n",
            "mean    96786.000000       0.790688      61.820574      57.227675   \n",
            "std     55879.856166       0.462688       1.081704       1.918844   \n",
            "min         0.000000       0.200000      52.100000      49.000000   \n",
            "25%     48393.000000       0.400000      61.300000      56.000000   \n",
            "50%     96786.000000       0.700000      61.900000      57.000000   \n",
            "75%    145179.000000       1.030000      62.400000      58.000000   \n",
            "max    193572.000000       3.500000      71.600000      79.000000   \n",
            "\n",
            "                   x              y              z          price  \n",
            "count  193573.000000  193573.000000  193573.000000  193573.000000  \n",
            "mean        5.715312       5.720094       3.534246    3969.155414  \n",
            "std         1.109422       1.102333       0.688922    4034.374138  \n",
            "min         0.000000       0.000000       0.000000     326.000000  \n",
            "25%         4.700000       4.710000       2.900000     951.000000  \n",
            "50%         5.700000       5.720000       3.530000    2401.000000  \n",
            "75%         6.510000       6.510000       4.030000    5408.000000  \n",
            "max         9.650000      10.010000      31.300000   18818.000000  \n"
          ]
        }
      ],
      "source": [
        "print(df_dataset_import.describe())"
      ]
    },
    {
      "cell_type": "code",
      "execution_count": 10,
      "metadata": {
        "id": "hLrJ1Su4ViZK",
        "outputId": "aab2638d-6e28-432e-b975-b7e183e60ed8",
        "colab": {
          "base_uri": "https://localhost:8080/"
        }
      },
      "outputs": [
        {
          "output_type": "stream",
          "name": "stdout",
          "text": [
            "id         0\n",
            "carat      0\n",
            "cut        0\n",
            "color      0\n",
            "clarity    0\n",
            "depth      0\n",
            "table      0\n",
            "x          0\n",
            "y          0\n",
            "z          0\n",
            "price      0\n",
            "dtype: int64\n",
            "Total number of NaN in the dataframe:  0\n"
          ]
        }
      ],
      "source": [
        "print(df_dataset_import.isnull().sum())\n",
        "print('Total number of NaN in the dataframe: ', df_dataset_import.isnull().sum().sum())"
      ]
    },
    {
      "cell_type": "markdown",
      "metadata": {
        "id": "k79hRaYnViZK"
      },
      "source": [
        "### 1.d) Data Cleaning"
      ]
    },
    {
      "cell_type": "code",
      "source": [
        "# Fetch the original dataset and use it to supplement the training\n",
        "df_dataset_original = pd.read_csv(ORIGINAL_DATASET)\n",
        "df_dataset_original.drop(columns=['Unnamed: 0'], inplace=True)\n",
        "df_dataset_original['is_synthetic'] = 0\n",
        "\n",
        "# Take a peek at the dataframe after import\n",
        "print(df_dataset_original.head())"
      ],
      "metadata": {
        "colab": {
          "base_uri": "https://localhost:8080/"
        },
        "id": "9hFK5579DI73",
        "outputId": "f359c8d3-01bf-448a-842a-dc103dde30ad"
      },
      "execution_count": 11,
      "outputs": [
        {
          "output_type": "stream",
          "name": "stdout",
          "text": [
            "   carat        cut color clarity  depth  table     x     y     z  price  \\\n",
            "0   0.30      Ideal     E     SI1   62.1   58.0  4.27  4.29  2.66    499   \n",
            "1   0.33    Premium     G      IF   60.8   58.0  4.42  4.46  2.70    984   \n",
            "2   0.90  Very Good     E    VVS2   62.2   60.0  6.04  6.12  3.78   6289   \n",
            "3   0.42      Ideal     F     VS1   61.6   56.0  4.82  4.80  2.96   1082   \n",
            "4   0.31      Ideal     F    VVS1   60.4   59.0  4.35  4.43  2.65    779   \n",
            "\n",
            "   is_synthetic  \n",
            "0             0  \n",
            "1             0  \n",
            "2             0  \n",
            "3             0  \n",
            "4             0  \n"
          ]
        }
      ]
    },
    {
      "cell_type": "code",
      "source": [
        "# Combine the original and synthetic datasets into one training dataset\n",
        "df_dataset_import['is_synthetic'] = 1\n",
        "df_dataset_import.drop(columns=['id'], inplace=True)\n",
        "df_dataset_import = pd.concat([df_dataset_import, df_dataset_original],\n",
        "                              ignore_index=True)\n",
        "\n",
        "df_dataset_import.info(verbose=True)"
      ],
      "metadata": {
        "colab": {
          "base_uri": "https://localhost:8080/"
        },
        "id": "8Ii-D7LlDI0X",
        "outputId": "0e740d1c-f09d-4673-ef8d-a99d9ae2ffab"
      },
      "execution_count": 12,
      "outputs": [
        {
          "output_type": "stream",
          "name": "stdout",
          "text": [
            "<class 'pandas.core.frame.DataFrame'>\n",
            "RangeIndex: 220540 entries, 0 to 220539\n",
            "Data columns (total 11 columns):\n",
            " #   Column        Non-Null Count   Dtype  \n",
            "---  ------        --------------   -----  \n",
            " 0   carat         220540 non-null  float64\n",
            " 1   cut           220540 non-null  object \n",
            " 2   color         220540 non-null  object \n",
            " 3   clarity       220540 non-null  object \n",
            " 4   depth         219843 non-null  float64\n",
            " 5   table         220540 non-null  float64\n",
            " 6   x             220540 non-null  float64\n",
            " 7   y             220540 non-null  float64\n",
            " 8   z             220540 non-null  float64\n",
            " 9   price         220540 non-null  int64  \n",
            " 10  is_synthetic  220540 non-null  int64  \n",
            "dtypes: float64(6), int64(2), object(3)\n",
            "memory usage: 18.5+ MB\n"
          ]
        }
      ]
    },
    {
      "cell_type": "code",
      "execution_count": 13,
      "metadata": {
        "id": "7HBPom3PViZK",
        "outputId": "072ee4d4-5a89-45eb-f34e-c84ec57ce543",
        "colab": {
          "base_uri": "https://localhost:8080/"
        }
      },
      "outputs": [
        {
          "output_type": "stream",
          "name": "stdout",
          "text": [
            "   carat        cut color clarity  depth  table     x     y     z  target  \\\n",
            "0   1.52    Premium     F     VS2   62.2   58.0  7.27  7.33  4.55   13619   \n",
            "1   2.03  Very Good     J     SI2   62.0   58.0  8.06  8.12  5.05   13387   \n",
            "2   0.70      Ideal     G     VS1   61.2   57.0  5.69  5.73  3.50    2772   \n",
            "3   0.32      Ideal     G     VS1   61.6   56.0  4.38  4.41  2.71     666   \n",
            "4   1.70    Premium     G     VS2   62.6   59.0  7.65  7.61  4.77   14453   \n",
            "\n",
            "   is_synthetic  \n",
            "0             1  \n",
            "1             1  \n",
            "2             1  \n",
            "3             1  \n",
            "4             1  \n",
            "        carat        cut color clarity  depth  table     x     y     z  \\\n",
            "220535   1.11    Premium     G     SI1   62.3   58.0  6.61  6.52  4.09   \n",
            "220536   0.33      Ideal     H      IF   61.9   55.0  4.44  4.42  2.74   \n",
            "220537   0.51    Premium     E     VS2   61.7   58.0  5.12  5.15  3.17   \n",
            "220538   0.27  Very Good     F    VVS2   61.8   56.0  4.19  4.20  2.60   \n",
            "220539   1.25    Premium     J     SI1   62.0   58.0  6.90  6.88  4.27   \n",
            "\n",
            "        target  is_synthetic  \n",
            "220535    5408             0  \n",
            "220536    1114             0  \n",
            "220537    1656             0  \n",
            "220538     682             0  \n",
            "220539    5166             0  \n"
          ]
        }
      ],
      "source": [
        "# Standardize the class column to the name of targetVar if required\n",
        "df_dataset_import = df_dataset_import.rename(columns={ORIGINAL_LABEL: CLASS_COLUMN})\n",
        "\n",
        "# Take a peek at the dataframe after cleaning\n",
        "print(df_dataset_import.head())\n",
        "print(df_dataset_import.tail())"
      ]
    },
    {
      "cell_type": "code",
      "execution_count": 14,
      "metadata": {
        "id": "wbCDZq1iViZL",
        "outputId": "cfc72031-2645-4e12-c58c-67fc9fd117ef",
        "colab": {
          "base_uri": "https://localhost:8080/"
        }
      },
      "outputs": [
        {
          "output_type": "stream",
          "name": "stdout",
          "text": [
            "<class 'pandas.core.frame.DataFrame'>\n",
            "RangeIndex: 220540 entries, 0 to 220539\n",
            "Data columns (total 11 columns):\n",
            " #   Column        Non-Null Count   Dtype  \n",
            "---  ------        --------------   -----  \n",
            " 0   carat         220540 non-null  float64\n",
            " 1   cut           220540 non-null  object \n",
            " 2   color         220540 non-null  object \n",
            " 3   clarity       220540 non-null  object \n",
            " 4   depth         219843 non-null  float64\n",
            " 5   table         220540 non-null  float64\n",
            " 6   x             220540 non-null  float64\n",
            " 7   y             220540 non-null  float64\n",
            " 8   z             220540 non-null  float64\n",
            " 9   target        220540 non-null  int64  \n",
            " 10  is_synthetic  220540 non-null  int64  \n",
            "dtypes: float64(6), int64(2), object(3)\n",
            "memory usage: 18.5+ MB\n"
          ]
        }
      ],
      "source": [
        "df_dataset_import.info(verbose=True)"
      ]
    },
    {
      "cell_type": "code",
      "execution_count": 15,
      "metadata": {
        "id": "Ww92c4w7ViZL",
        "outputId": "df82cb59-44c2-4cef-ce40-18d2b5a16b5f",
        "colab": {
          "base_uri": "https://localhost:8080/"
        }
      },
      "outputs": [
        {
          "output_type": "stream",
          "name": "stdout",
          "text": [
            "               carat          depth          table              x  \\\n",
            "count  220540.000000  219843.000000  220540.000000  220540.000000   \n",
            "mean        0.791628      61.811561      57.255604       5.717090   \n",
            "std         0.464561       1.126671       1.961255       1.111782   \n",
            "min         0.200000      50.800000      49.000000       0.000000   \n",
            "25%         0.400000      61.200000      56.000000       4.700000   \n",
            "50%         0.700000      61.900000      57.000000       5.700000   \n",
            "75%         1.030000      62.400000      58.000000       6.520000   \n",
            "max         4.500000      73.600000      79.000000      10.230000   \n",
            "\n",
            "                   y              z         target   is_synthetic  \n",
            "count  220540.000000  220540.000000  220540.000000  220540.000000  \n",
            "mean        5.721742       3.534712    3965.531450       0.877723  \n",
            "std         1.110328       0.692876    4033.215125       0.327606  \n",
            "min         0.000000       0.000000     326.000000       0.000000  \n",
            "25%         4.710000       2.900000     949.000000       1.000000  \n",
            "50%         5.720000       3.530000    2398.000000       1.000000  \n",
            "75%         6.510000       4.030000    5405.000000       1.000000  \n",
            "max        58.900000      31.800000   18818.000000       1.000000  \n"
          ]
        }
      ],
      "source": [
        "print(df_dataset_import.describe())"
      ]
    },
    {
      "cell_type": "code",
      "execution_count": 16,
      "metadata": {
        "id": "89hWrwe6ViZL",
        "outputId": "89a25f8a-5f6c-47c4-db50-67bbc5ea3017",
        "colab": {
          "base_uri": "https://localhost:8080/"
        }
      },
      "outputs": [
        {
          "output_type": "stream",
          "name": "stdout",
          "text": [
            "carat             0\n",
            "cut               0\n",
            "color             0\n",
            "clarity           0\n",
            "depth           697\n",
            "table             0\n",
            "x                 0\n",
            "y                 0\n",
            "z                 0\n",
            "target            0\n",
            "is_synthetic      0\n",
            "dtype: int64\n",
            "Total number of NaN in the dataframe:  697\n"
          ]
        }
      ],
      "source": [
        "print(df_dataset_import.isnull().sum())\n",
        "print('Total number of NaN in the dataframe: ', df_dataset_import.isnull().sum().sum())"
      ]
    },
    {
      "cell_type": "markdown",
      "metadata": {
        "id": "kh4pXl29ViZL"
      },
      "source": [
        "### 1.e) Splitting Data into Sets"
      ]
    },
    {
      "cell_type": "code",
      "execution_count": 17,
      "metadata": {
        "id": "Ex6RhBcCViZL",
        "outputId": "181a2904-4651-48e7-e7e3-47f534f859a2",
        "colab": {
          "base_uri": "https://localhost:8080/"
        }
      },
      "outputs": [
        {
          "output_type": "stream",
          "name": "stdout",
          "text": [
            "df_dataset_import.shape: (220540, 11) df_features_train.shape: (220540, 10) df_target_train.shape: (220540,)\n"
          ]
        }
      ],
      "source": [
        "# Use variable total_column_count to hold the number of columns in the dataframe\n",
        "total_column_count = len(df_dataset_import.columns)\n",
        "\n",
        "# Set up variable total_feature_count for the total number of attribute columns\n",
        "total_feature_count = total_column_count-1\n",
        "\n",
        "# We create attribute-only and target-only datasets (df_features_train and df_target_train)\n",
        "df_target_train = df_dataset_import['target']\n",
        "df_features_train = df_dataset_import.drop(['target'], axis=1)\n",
        "\n",
        "print(\"df_dataset_import.shape: {} df_features_train.shape: {} df_target_train.shape: {}\".format(df_dataset_import.shape, df_features_train.shape, df_target_train.shape))"
      ]
    },
    {
      "cell_type": "markdown",
      "metadata": {
        "id": "i99VwZJrViZM"
      },
      "source": [
        "### 1.f) Set up the parameters for data visualization"
      ]
    },
    {
      "cell_type": "code",
      "execution_count": 18,
      "metadata": {
        "id": "CywZOJhDViZM"
      },
      "outputs": [],
      "source": [
        "# Set up the number of row and columns for visualization display. display_rows * display_columns should be >= total_feature_count\n",
        "display_columns = 4\n",
        "if total_feature_count % display_columns == 0 :\n",
        "    display_rows = total_feature_count // display_columns\n",
        "else :\n",
        "    display_rows = (total_feature_count // display_columns) + 1\n",
        "\n",
        "# Set figure width to display the data visualization plots\n",
        "fig_size = plt.rcParams[\"figure.figsize\"]\n",
        "fig_size[0] = display_columns * 4\n",
        "fig_size[1] = display_rows * 4\n",
        "plt.rcParams[\"figure.figsize\"] = fig_size"
      ]
    },
    {
      "cell_type": "markdown",
      "metadata": {
        "id": "TV1LLl0TViZM"
      },
      "source": [
        "## Task 2 - Summarize and Visualize Data"
      ]
    },
    {
      "cell_type": "code",
      "execution_count": 19,
      "metadata": {
        "id": "MhLRoBwoViZM",
        "outputId": "d03e7297-b082-42a0-f9a0-c4af64432cc6",
        "colab": {
          "base_uri": "https://localhost:8080/",
          "height": 472
        }
      },
      "outputs": [
        {
          "output_type": "display_data",
          "data": {
            "text/plain": [
              "<Figure size 1152x864 with 12 Axes>"
            ],
            "image/png": "[encoded data removed]"
          },
          "metadata": {
            "needs_background": "light"
          }
        }
      ],
      "source": [
        "# Box and Whisker plot for each attribute\n",
        "df_features_train.plot(kind='box', subplots=True, layout=(display_rows, display_columns))\n",
        "plt.show()"
      ]
    },
    {
      "cell_type": "code",
      "execution_count": 20,
      "metadata": {
        "id": "wVZXCA2-ViZM",
        "colab": {
          "base_uri": "https://localhost:8080/",
          "height": 1000
        },
        "outputId": "519263b4-45ed-4fbb-c1a5-e93864b59df5"
      },
      "outputs": [
        {
          "output_type": "display_data",
          "data": {
            "text/plain": [
              "<Figure size 1440x1440 with 2 Axes>"
            ],
            "image/png": "[encoded data removed]"
          },
          "metadata": {
            "needs_background": "light"
          }
        }
      ],
      "source": [
        "# Correlation matrix\n",
        "fig = plt.figure(figsize=(20, 20))\n",
        "correlations = df_features_train.corr(method='pearson')\n",
        "sns.heatmap(correlations, annot=True, cmap=plt.cm.PuBu)\n",
        "plt.show()"
      ]
    },
    {
      "cell_type": "markdown",
      "metadata": {
        "id": "nUirhh-YViZN"
      },
      "source": [
        "## Task 3 - Pre-process Data"
      ]
    },
    {
      "cell_type": "markdown",
      "metadata": {
        "id": "bBdegmC1ViZN"
      },
      "source": [
        "### 3.a) Feature Scaling"
      ]
    },
    {
      "cell_type": "code",
      "execution_count": 21,
      "metadata": {
        "id": "_ItuvWIXViZN",
        "outputId": "8b64fea9-ba1a-4ea9-b042-75ac5b57325c",
        "colab": {
          "base_uri": "https://localhost:8080/"
        }
      },
      "outputs": [
        {
          "output_type": "stream",
          "name": "stdout",
          "text": [
            "Number of numerical columns: 7\n",
            "Number of categorical columns: 3\n",
            "Total number of columns in the feature dataframe: 10\n"
          ]
        }
      ],
      "source": [
        "# Compose pipeline for the numerical and categorical features (Block #1 of 2)\n",
        "numeric_columns = df_features_train.select_dtypes(include=['int','float']).columns\n",
        "numeric_transformer = Pipeline(steps=[\n",
        "    ('imputer', impute.SimpleImputer(strategy=\"median\")),\n",
        "    ('scaler', preprocessing.StandardScaler())\n",
        "])\n",
        "categorical_columns = df_features_train.select_dtypes(include=['object','bool','category']).columns\n",
        "categorical_transformer = Pipeline(steps=[\n",
        "    ('imputer', impute.SimpleImputer(strategy='constant', fill_value='UKNOWN')),\n",
        "    ('onehot', preprocessing.OneHotEncoder(sparse=False, handle_unknown='ignore'))\n",
        "])\n",
        "\n",
        "print(\"Number of numerical columns:\", len(numeric_columns))\n",
        "print(\"Number of categorical columns:\", len(categorical_columns))\n",
        "print(\"Total number of columns in the feature dataframe:\", df_features_train.shape[1])"
      ]
    },
    {
      "cell_type": "code",
      "execution_count": 22,
      "metadata": {
        "id": "x69f9jVgViZN",
        "outputId": "89fdaba0-cc44-4628-d3d7-86b61f7297df",
        "colab": {
          "base_uri": "https://localhost:8080/"
        }
      },
      "outputs": [
        {
          "output_type": "stream",
          "name": "stderr",
          "text": [
            "/usr/local/lib/python3.9/dist-packages/sklearn/preprocessing/_encoders.py:868: FutureWarning: `sparse` was renamed to `sparse_output` in version 1.2 and will be removed in 1.4. `sparse_output` is ignored unless you leave `sparse` to its default value.\n",
            "  warnings.warn(\n"
          ]
        },
        {
          "output_type": "stream",
          "name": "stdout",
          "text": [
            "Transformed features from df_features_train.shape: (220540, 10) to array_features_train.shape: (220540, 27)\n"
          ]
        }
      ],
      "source": [
        "# Compose pipeline for the numerical and categorical features (Block #2 of 2)\n",
        "preprocessor = compose.ColumnTransformer(transformers=[\n",
        "    ('num', numeric_transformer, numeric_columns),\n",
        "    ('cat', categorical_transformer, categorical_columns)\n",
        "    ], remainder='passthrough')\n",
        "\n",
        "# Display the shapes of the training dataset for final inspection\n",
        "array_features_train = preprocessor.fit_transform(df_features_train)\n",
        "print(\"Transformed features from df_features_train.shape: {} to array_features_train.shape: {}\".format(df_features_train.shape, array_features_train.shape))"
      ]
    },
    {
      "cell_type": "markdown",
      "metadata": {
        "id": "GDo-EE7vViZN"
      },
      "source": [
        "### 3.b) Training Data Balancing"
      ]
    },
    {
      "cell_type": "code",
      "execution_count": 23,
      "metadata": {
        "id": "FVU1JtNOViZN"
      },
      "outputs": [],
      "source": [
        "# Not applicable for this iteration of the project"
      ]
    },
    {
      "cell_type": "markdown",
      "metadata": {
        "id": "e-i6vz-gViZN"
      },
      "source": [
        "### 3.c) Feature Selection"
      ]
    },
    {
      "cell_type": "code",
      "execution_count": 24,
      "metadata": {
        "id": "vrGYGJEBViZN"
      },
      "outputs": [],
      "source": [
        "# Not applicable for this iteration of the project"
      ]
    },
    {
      "cell_type": "markdown",
      "metadata": {
        "id": "SqKyiRHlViZO"
      },
      "source": [
        "### 3.d) Display the Final Datasets for Model-Building"
      ]
    },
    {
      "cell_type": "code",
      "execution_count": 25,
      "metadata": {
        "id": "-4dLat26ViZO",
        "outputId": "b258be53-54ba-4de9-d958-9f17115c2274",
        "colab": {
          "base_uri": "https://localhost:8080/"
        }
      },
      "outputs": [
        {
          "output_type": "stream",
          "name": "stdout",
          "text": [
            "array_features_train.shape: (220540, 27) array_target_train.shape: (220540,)\n"
          ]
        },
        {
          "output_type": "stream",
          "name": "stderr",
          "text": [
            "/usr/local/lib/python3.9/dist-packages/sklearn/preprocessing/_encoders.py:868: FutureWarning: `sparse` was renamed to `sparse_output` in version 1.2 and will be removed in 1.4. `sparse_output` is ignored unless you leave `sparse` to its default value.\n",
            "  warnings.warn(\n"
          ]
        }
      ],
      "source": [
        "# Finalize the training dataset for the modeling activities\n",
        "array_features_train = preprocessor.fit_transform(df_features_train)\n",
        "array_target_train = df_target_train.to_numpy()\n",
        "print(\"array_features_train.shape: {} array_target_train.shape: {}\".format(array_features_train.shape, array_target_train.shape))"
      ]
    },
    {
      "cell_type": "markdown",
      "metadata": {
        "id": "cybD8FKuViZO"
      },
      "source": [
        "## Task 4 - Train and Tune Models"
      ]
    },
    {
      "cell_type": "markdown",
      "metadata": {
        "id": "uKsJm33lViZO"
      },
      "source": [
        "### 4.a) Set test options and evaluation metric"
      ]
    },
    {
      "cell_type": "code",
      "execution_count": 26,
      "metadata": {
        "id": "uaw3fsgoViZO"
      },
      "outputs": [],
      "source": [
        "# Set up Algorithms Spot-Checking Array\n",
        "start_time_training = datetime.now()\n",
        "train_models = []\n",
        "train_results = []\n",
        "train_model_names = []\n",
        "train_metrics = []"
      ]
    },
    {
      "cell_type": "code",
      "execution_count": 27,
      "metadata": {
        "id": "4BuHnxhzViZO"
      },
      "outputs": [],
      "source": [
        "train_models.append(('XGB', XGBRegressor(random_state=RNG_SEED, n_jobs=N_JOBS, objective='reg:squarederror', tree_method='gpu_hist')))"
      ]
    },
    {
      "cell_type": "code",
      "execution_count": 28,
      "metadata": {
        "id": "xcXtJMqnViZO",
        "outputId": "2c41c916-7903-4c6b-92a3-438b64bac916",
        "colab": {
          "base_uri": "https://localhost:8080/"
        }
      },
      "outputs": [
        {
          "output_type": "stream",
          "name": "stderr",
          "text": [
            "[Parallel(n_jobs=2)]: Using backend LokyBackend with 2 concurrent workers.\n"
          ]
        },
        {
          "output_type": "stream",
          "name": "stdout",
          "text": [
            "XGB: -580.702924 (14.800091)\n",
            "XGBRegressor(base_score=None, booster=None, callbacks=None,\n",
            "             colsample_bylevel=None, colsample_bynode=None,\n",
            "             colsample_bytree=None, early_stopping_rounds=None,\n",
            "             enable_categorical=False, eval_metric=None, feature_types=None,\n",
            "             gamma=None, gpu_id=None, grow_policy=None, importance_type=None,\n",
            "             interaction_constraints=None, learning_rate=None, max_bin=None,\n",
            "             max_cat_threshold=None, max_cat_to_onehot=None,\n",
            "             max_delta_step=None, max_depth=None, max_leaves=None,\n",
            "             min_child_weight=None, missing=nan, monotone_constraints=None,\n",
            "             n_estimators=100, n_jobs=2, num_parallel_tree=None, predictor=None,\n",
            "             random_state=888, ...)\n",
            "Model training time: 0:00:09.341550 \n",
            "\n",
            "Average metrics (neg_root_mean_squared_error) from all models: -580.7029235694569\n",
            "Total training time for all models: 0:00:09.358068\n"
          ]
        },
        {
          "output_type": "stream",
          "name": "stderr",
          "text": [
            "[Parallel(n_jobs=2)]: Done  10 out of  10 | elapsed:    9.2s finished\n"
          ]
        }
      ],
      "source": [
        "# Generate model in turn\n",
        "for name, model in train_models:\n",
        "    if NOTIFY_STATUS: status_notify(\"Algorithm \"+name+\" modeling has begun! \" + datetime.now().strftime('%a %B %d, %Y %I:%M:%S %p'))\n",
        "    start_time_module = datetime.now()\n",
        "    kfold = KFold(n_splits=N_FOLDS, shuffle=True, random_state=RNG_SEED)\n",
        "    cv_results = cross_val_score(model, array_features_train, array_target_train, cv=kfold, scoring=SCORING_METRIC, n_jobs=N_JOBS, verbose=1)\n",
        "    train_results.append(cv_results)\n",
        "    train_model_names.append(name)\n",
        "    train_metrics.append(cv_results.mean())\n",
        "    print(\"%s: %f (%f)\" % (name, cv_results.mean(), cv_results.std()))\n",
        "    print(model)\n",
        "    print ('Model training time:', (datetime.now() - start_time_module), '\\n')\n",
        "    if NOTIFY_STATUS: status_notify(\"Algorithm \"+name+\" modeling completed! \" + datetime.now().strftime('%a %B %d, %Y %I:%M:%S %p'))\n",
        "print ('Average metrics (' + SCORING_METRIC + ') from all models:', np.mean(train_metrics))\n",
        "print ('Total training time for all models:', (datetime.now() - start_time_training))"
      ]
    },
    {
      "cell_type": "markdown",
      "metadata": {
        "id": "_mdCViJcViZO"
      },
      "source": [
        "### 4.b) Algorithm Tuning"
      ]
    },
    {
      "cell_type": "code",
      "execution_count": 29,
      "metadata": {
        "id": "VnJ8nahWViZO"
      },
      "outputs": [],
      "source": [
        "# Set up the comparison array\n",
        "tune_results = []\n",
        "tune_model_names = []"
      ]
    },
    {
      "cell_type": "code",
      "execution_count": 30,
      "metadata": {
        "id": "XQbxK3lJViZP",
        "outputId": "be6779d2-4505-482d-f36a-00bea4d9471e",
        "colab": {
          "base_uri": "https://localhost:8080/"
        }
      },
      "outputs": [
        {
          "output_type": "stream",
          "name": "stdout",
          "text": [
            "Fitting 10 folds for each of 45 candidates, totalling 450 fits\n",
            "Best: -580.285485 using {'max_depth': 6, 'min_child_weight': 2, 'n_estimators': 100}\n",
            "-619.713212 (13.553208) with: {'max_depth': 3, 'min_child_weight': 1, 'n_estimators': 100}\n",
            "-597.415702 (13.273680) with: {'max_depth': 3, 'min_child_weight': 1, 'n_estimators': 200}\n",
            "-590.495789 (12.980989) with: {'max_depth': 3, 'min_child_weight': 1, 'n_estimators': 300}\n",
            "-586.515552 (12.928856) with: {'max_depth': 3, 'min_child_weight': 1, 'n_estimators': 400}\n",
            "-584.146872 (12.737934) with: {'max_depth': 3, 'min_child_weight': 1, 'n_estimators': 500}\n",
            "-619.794519 (11.783846) with: {'max_depth': 3, 'min_child_weight': 2, 'n_estimators': 100}\n",
            "-596.229363 (12.612082) with: {'max_depth': 3, 'min_child_weight': 2, 'n_estimators': 200}\n",
            "-588.948209 (13.061910) with: {'max_depth': 3, 'min_child_weight': 2, 'n_estimators': 300}\n",
            "-585.202189 (13.221633) with: {'max_depth': 3, 'min_child_weight': 2, 'n_estimators': 400}\n",
            "-583.245251 (12.970820) with: {'max_depth': 3, 'min_child_weight': 2, 'n_estimators': 500}\n",
            "-618.505022 (13.883643) with: {'max_depth': 3, 'min_child_weight': 3, 'n_estimators': 100}\n",
            "-595.566026 (12.840950) with: {'max_depth': 3, 'min_child_weight': 3, 'n_estimators': 200}\n",
            "-587.919968 (12.806667) with: {'max_depth': 3, 'min_child_weight': 3, 'n_estimators': 300}\n",
            "-584.429438 (12.701970) with: {'max_depth': 3, 'min_child_weight': 3, 'n_estimators': 400}\n",
            "-582.541191 (12.558107) with: {'max_depth': 3, 'min_child_weight': 3, 'n_estimators': 500}\n",
            "-580.702924 (14.800091) with: {'max_depth': 6, 'min_child_weight': 1, 'n_estimators': 100}\n",
            "-584.523894 (14.662736) with: {'max_depth': 6, 'min_child_weight': 1, 'n_estimators': 200}\n",
            "-589.341568 (14.752751) with: {'max_depth': 6, 'min_child_weight': 1, 'n_estimators': 300}\n",
            "-593.337308 (14.348005) with: {'max_depth': 6, 'min_child_weight': 1, 'n_estimators': 400}\n",
            "-597.115482 (14.536902) with: {'max_depth': 6, 'min_child_weight': 1, 'n_estimators': 500}\n",
            "-580.285485 (14.345081) with: {'max_depth': 6, 'min_child_weight': 2, 'n_estimators': 100}\n",
            "-584.092762 (14.281599) with: {'max_depth': 6, 'min_child_weight': 2, 'n_estimators': 200}\n",
            "-588.839514 (14.362019) with: {'max_depth': 6, 'min_child_weight': 2, 'n_estimators': 300}\n",
            "-592.760773 (13.927761) with: {'max_depth': 6, 'min_child_weight': 2, 'n_estimators': 400}\n",
            "-596.681788 (14.080387) with: {'max_depth': 6, 'min_child_weight': 2, 'n_estimators': 500}\n",
            "-581.195426 (15.027229) with: {'max_depth': 6, 'min_child_weight': 3, 'n_estimators': 100}\n",
            "-584.985254 (14.514270) with: {'max_depth': 6, 'min_child_weight': 3, 'n_estimators': 200}\n",
            "-589.339452 (14.959202) with: {'max_depth': 6, 'min_child_weight': 3, 'n_estimators': 300}\n",
            "-593.458624 (14.806504) with: {'max_depth': 6, 'min_child_weight': 3, 'n_estimators': 400}\n",
            "-597.389902 (15.406145) with: {'max_depth': 6, 'min_child_weight': 3, 'n_estimators': 500}\n",
            "-595.400119 (13.621985) with: {'max_depth': 9, 'min_child_weight': 1, 'n_estimators': 100}\n",
            "-609.582116 (12.118203) with: {'max_depth': 9, 'min_child_weight': 1, 'n_estimators': 200}\n",
            "-618.417034 (12.655809) with: {'max_depth': 9, 'min_child_weight': 1, 'n_estimators': 300}\n",
            "-625.306098 (12.854476) with: {'max_depth': 9, 'min_child_weight': 1, 'n_estimators': 400}\n",
            "-630.896127 (13.041041) with: {'max_depth': 9, 'min_child_weight': 1, 'n_estimators': 500}\n",
            "-594.927717 (14.302880) with: {'max_depth': 9, 'min_child_weight': 2, 'n_estimators': 100}\n",
            "-608.298890 (14.705631) with: {'max_depth': 9, 'min_child_weight': 2, 'n_estimators': 200}\n",
            "-618.062223 (14.812891) with: {'max_depth': 9, 'min_child_weight': 2, 'n_estimators': 300}\n",
            "-625.104338 (14.961534) with: {'max_depth': 9, 'min_child_weight': 2, 'n_estimators': 400}\n",
            "-630.576686 (14.838686) with: {'max_depth': 9, 'min_child_weight': 2, 'n_estimators': 500}\n",
            "-593.428027 (14.691056) with: {'max_depth': 9, 'min_child_weight': 3, 'n_estimators': 100}\n",
            "-606.417391 (15.014176) with: {'max_depth': 9, 'min_child_weight': 3, 'n_estimators': 200}\n",
            "-616.179074 (14.768394) with: {'max_depth': 9, 'min_child_weight': 3, 'n_estimators': 300}\n",
            "-623.081119 (14.726956) with: {'max_depth': 9, 'min_child_weight': 3, 'n_estimators': 400}\n",
            "-628.897610 (14.608882) with: {'max_depth': 9, 'min_child_weight': 3, 'n_estimators': 500}\n",
            "Model training time: 0:16:58.841446\n"
          ]
        }
      ],
      "source": [
        "# Tuning XGBoost n_estimators, max_depth, and min_child_weight parameters\n",
        "start_time_Module = datetime.now()\n",
        "if NOTIFY_STATUS: status_notify(\"Algorithm tuning iteration #1 has begun! \" + datetime.now().strftime('%a %B %d, %Y %I:%M:%S %p'))\n",
        "\n",
        "tune_model1 = XGBRegressor(random_state=RNG_SEED, n_jobs=N_JOBS, objective='reg:squarederror', tree_method='gpu_hist')\n",
        "tune_model_names.append('XGB_1')\n",
        "paramGrid1 = dict(n_estimators=range(100, 501, 100),\n",
        "                  max_depth=np.array([3, 6, 9]),\n",
        "                  min_child_weight=np.array([1, 2, 3]))\n",
        "\n",
        "kfold = KFold(n_splits=N_FOLDS, shuffle=True, random_state=RNG_SEED)\n",
        "grid1 = GridSearchCV(estimator=tune_model1, param_grid=paramGrid1, scoring=SCORING_METRIC, cv=kfold, n_jobs=N_JOBS, verbose=1)\n",
        "grid_result1 = grid1.fit(array_features_train, array_target_train)\n",
        "\n",
        "print(\"Best: %f using %s\" % (grid_result1.best_score_, grid_result1.best_params_))\n",
        "tune_results.append(grid_result1.cv_results_['mean_test_score'])\n",
        "means = grid_result1.cv_results_['mean_test_score']\n",
        "stds = grid_result1.cv_results_['std_test_score']\n",
        "params = grid_result1.cv_results_['params']\n",
        "for mean, stdev, param in zip(means, stds, params):\n",
        "    print(\"%f (%f) with: %r\" % (mean, stdev, param))\n",
        "print ('Model training time:', (datetime.now() - start_time_Module))\n",
        "if NOTIFY_STATUS: status_notify(\"Algorithm tuning iteration #1 completed! \" + datetime.now().strftime('%a %B %d, %Y %I:%M:%S %p'))"
      ]
    },
    {
      "cell_type": "code",
      "execution_count": 31,
      "metadata": {
        "id": "y2rMYQXKViZP",
        "outputId": "fedbaabc-a29b-470e-e887-b374eeb3e381",
        "colab": {
          "base_uri": "https://localhost:8080/"
        }
      },
      "outputs": [
        {
          "output_type": "stream",
          "name": "stdout",
          "text": [
            "Best max_depth parameter: 6\n",
            "Best min_child_weight parameter: 2\n",
            "Best n_estimators parameter: 100\n"
          ]
        }
      ],
      "source": [
        "BEST_MAX_DEPTH = grid_result1.best_params_['max_depth']\n",
        "BEST_MIN_CHILD_WEIGHT = grid_result1.best_params_['min_child_weight']\n",
        "BEST_N_ESTIMATORS = grid_result1.best_params_['n_estimators']\n",
        "print('Best max_depth parameter:', BEST_MAX_DEPTH)\n",
        "print('Best min_child_weight parameter:', BEST_MIN_CHILD_WEIGHT)\n",
        "print('Best n_estimators parameter:', BEST_N_ESTIMATORS)"
      ]
    },
    {
      "cell_type": "code",
      "execution_count": 32,
      "metadata": {
        "id": "hu8_2JbWViZP",
        "outputId": "cd32222f-7ecc-459c-d97a-b914ded9d318",
        "colab": {
          "base_uri": "https://localhost:8080/"
        }
      },
      "outputs": [
        {
          "output_type": "stream",
          "name": "stdout",
          "text": [
            "Fitting 10 folds for each of 16 candidates, totalling 160 fits\n",
            "Best: -580.285485 using {'colsample_bytree': 1.0, 'subsample': 1.0}\n",
            "-588.177440 (12.260642) with: {'colsample_bytree': 0.7, 'subsample': 0.7}\n",
            "-584.551306 (14.247749) with: {'colsample_bytree': 0.7, 'subsample': 0.8}\n",
            "-582.346029 (13.841043) with: {'colsample_bytree': 0.7, 'subsample': 0.9}\n",
            "-581.522257 (13.847988) with: {'colsample_bytree': 0.7, 'subsample': 1.0}\n",
            "-588.765103 (12.799955) with: {'colsample_bytree': 0.8, 'subsample': 0.7}\n",
            "-585.956761 (13.928584) with: {'colsample_bytree': 0.8, 'subsample': 0.8}\n",
            "-583.001137 (12.723078) with: {'colsample_bytree': 0.8, 'subsample': 0.9}\n",
            "-581.420432 (14.206059) with: {'colsample_bytree': 0.8, 'subsample': 1.0}\n",
            "-588.880304 (13.510055) with: {'colsample_bytree': 0.9, 'subsample': 0.7}\n",
            "-585.763381 (12.566394) with: {'colsample_bytree': 0.9, 'subsample': 0.8}\n",
            "-583.973383 (12.874453) with: {'colsample_bytree': 0.9, 'subsample': 0.9}\n",
            "-580.827898 (14.023416) with: {'colsample_bytree': 0.9, 'subsample': 1.0}\n",
            "-588.955990 (12.785060) with: {'colsample_bytree': 1.0, 'subsample': 0.7}\n",
            "-586.242539 (13.395552) with: {'colsample_bytree': 1.0, 'subsample': 0.8}\n",
            "-585.083114 (13.404820) with: {'colsample_bytree': 1.0, 'subsample': 0.9}\n",
            "-580.285485 (14.345081) with: {'colsample_bytree': 1.0, 'subsample': 1.0}\n",
            "Model training time: 0:01:56.613772\n"
          ]
        }
      ],
      "source": [
        "# Tuning XGBoost subsample and colsample_bytree parameters\n",
        "start_time_Module = datetime.now()\n",
        "if NOTIFY_STATUS: status_notify(\"Algorithm tuning iteration #2 has begun! \" + datetime.now().strftime('%a %B %d, %Y %I:%M:%S %p'))\n",
        "\n",
        "tune_model2 = XGBRegressor(n_estimators=BEST_N_ESTIMATORS, max_depth=BEST_MAX_DEPTH, min_child_weight=BEST_MIN_CHILD_WEIGHT,\n",
        "                            random_state=RNG_SEED, n_jobs=N_JOBS, objective='reg:squarederror', tree_method='gpu_hist')\n",
        "tune_model_names.append('XGB_2')\n",
        "paramGrid2 = dict(subsample=np.array([0.7, 0.8, 0.9, 1.0]),\n",
        "                  colsample_bytree=np.array([0.7, 0.8, 0.9, 1.0]))\n",
        "\n",
        "kfold = KFold(n_splits=N_FOLDS, shuffle=True, random_state=RNG_SEED)\n",
        "grid2 = GridSearchCV(estimator=tune_model2, param_grid=paramGrid2, scoring=SCORING_METRIC, cv=kfold, n_jobs=N_JOBS, verbose=1)\n",
        "grid_result2 = grid2.fit(array_features_train, array_target_train)\n",
        "\n",
        "print(\"Best: %f using %s\" % (grid_result2.best_score_, grid_result2.best_params_))\n",
        "tune_results.append(grid_result2.cv_results_['mean_test_score'])\n",
        "means = grid_result2.cv_results_['mean_test_score']\n",
        "stds = grid_result2.cv_results_['std_test_score']\n",
        "params = grid_result2.cv_results_['params']\n",
        "for mean, stdev, param in zip(means, stds, params):\n",
        "    print(\"%f (%f) with: %r\" % (mean, stdev, param))\n",
        "print ('Model training time:',(datetime.now() - start_time_Module))\n",
        "if NOTIFY_STATUS: status_notify(\"Algorithm tuning iteration #2 completed! \" + datetime.now().strftime('%a %B %d, %Y %I:%M:%S %p'))"
      ]
    },
    {
      "cell_type": "code",
      "execution_count": 33,
      "metadata": {
        "id": "Q1R-8G3sViZP",
        "colab": {
          "base_uri": "https://localhost:8080/"
        },
        "outputId": "3876628a-33eb-43d6-bff6-d8d07aa21b2d"
      },
      "outputs": [
        {
          "output_type": "stream",
          "name": "stdout",
          "text": [
            "Best colsample_bytree parameter: 1.0\n",
            "Best subsample parameter: 1.0\n"
          ]
        }
      ],
      "source": [
        "BEST_COLSAMPLE_BYTREE = grid_result2.best_params_['colsample_bytree']\n",
        "BEST_SUBSAMPLE = grid_result2.best_params_['subsample']\n",
        "print('Best colsample_bytree parameter:', BEST_COLSAMPLE_BYTREE)\n",
        "print('Best subsample parameter:', BEST_SUBSAMPLE)"
      ]
    },
    {
      "cell_type": "markdown",
      "metadata": {
        "id": "4-goJ-ScViZP"
      },
      "source": [
        "### 4.c) Compare Algorithms After Tuning"
      ]
    },
    {
      "cell_type": "code",
      "execution_count": 34,
      "metadata": {
        "id": "_hDXaaZsViZP",
        "colab": {
          "base_uri": "https://localhost:8080/",
          "height": 788
        },
        "outputId": "641d0377-77ee-4e8b-8796-939922704e5f"
      },
      "outputs": [
        {
          "output_type": "display_data",
          "data": {
            "text/plain": [
              "<Figure size 1152x864 with 1 Axes>"
            ],
            "image/png": "[encoded data removed]"
          },
          "metadata": {
            "needs_background": "light"
          }
        }
      ],
      "source": [
        "fig = plt.figure(figsize=(16,12))\n",
        "fig.suptitle('Algorithm Comparison - Post Tuning')\n",
        "ax = fig.add_subplot(111)\n",
        "plt.boxplot(tune_results)\n",
        "ax.set_xticklabels(tune_model_names)\n",
        "plt.show()"
      ]
    },
    {
      "cell_type": "markdown",
      "metadata": {
        "id": "Lpcuc18gViZP"
      },
      "source": [
        "## Task 5 - Finalize Model and Make Predictions"
      ]
    },
    {
      "cell_type": "markdown",
      "source": [
        "### 5.a) Train the Final Model"
      ],
      "metadata": {
        "id": "sgcaK3U_EOjW"
      }
    },
    {
      "cell_type": "code",
      "execution_count": 35,
      "metadata": {
        "id": "TUc7fHQ9ViZQ",
        "colab": {
          "base_uri": "https://localhost:8080/"
        },
        "outputId": "8f9abe32-e5c8-4d33-f4e0-fa48e15ee334"
      },
      "outputs": [
        {
          "output_type": "stream",
          "name": "stdout",
          "text": [
            "XGBRegressor(base_score=None, booster=None, callbacks=None,\n",
            "             colsample_bylevel=None, colsample_bynode=None,\n",
            "             colsample_bytree=1.0, early_stopping_rounds=None,\n",
            "             enable_categorical=False, eval_metric=None, feature_types=None,\n",
            "             gamma=None, gpu_id=None, grow_policy=None, importance_type=None,\n",
            "             interaction_constraints=None, learning_rate=None, max_bin=None,\n",
            "             max_cat_threshold=None, max_cat_to_onehot=None,\n",
            "             max_delta_step=None, max_depth=6, max_leaves=None,\n",
            "             min_child_weight=2, missing=nan, monotone_constraints=None,\n",
            "             n_estimators=100, n_jobs=2, num_parallel_tree=None, predictor=None,\n",
            "             random_state=888, ...)\n"
          ]
        }
      ],
      "source": [
        "final_model = XGBRegressor(n_estimators=BEST_N_ESTIMATORS, max_depth=BEST_MAX_DEPTH, min_child_weight=BEST_MIN_CHILD_WEIGHT,\n",
        "                           colsample_bytree=BEST_COLSAMPLE_BYTREE, subsample=BEST_SUBSAMPLE, random_state=RNG_SEED,\n",
        "                           n_jobs=N_JOBS, objective='reg:squarederror', tree_method='gpu_hist')\n",
        "final_model.fit(array_features_train, array_target_train)\n",
        "print(final_model)"
      ]
    },
    {
      "cell_type": "markdown",
      "source": [
        "### 5.b) Load Test Dataset and Make Predictions"
      ],
      "metadata": {
        "id": "xpjq-3iFERFO"
      }
    },
    {
      "cell_type": "code",
      "source": [
        "df_features_test = pd.read_csv(TEST_DATASET)\n",
        "df_features_test['is_synthetic'] = 1\n",
        "\n",
        "# Take a peek at the dataframe after import\n",
        "print(df_features_test.head())"
      ],
      "metadata": {
        "colab": {
          "base_uri": "https://localhost:8080/"
        },
        "id": "ImVsOJCrx2cv",
        "outputId": "09cfd0b7-92db-4ab3-e9f1-0eb5acd59bd7"
      },
      "execution_count": 36,
      "outputs": [
        {
          "output_type": "stream",
          "name": "stdout",
          "text": [
            "       id  carat        cut color clarity  depth  table     x     y     z  \\\n",
            "0  193573   0.35      Ideal     D     VS2   62.3   56.0  4.51  4.54  2.82   \n",
            "1  193574   0.77  Very Good     F     SI2   62.8   56.0  5.83  5.87  3.68   \n",
            "2  193575   0.71      Ideal     I     VS2   61.9   53.0  5.77  5.74  3.55   \n",
            "3  193576   0.33      Ideal     G    VVS2   61.6   55.0  4.44  4.42  2.73   \n",
            "4  193577   1.20  Very Good     I     VS2   62.7   56.0  6.75  6.79  4.24   \n",
            "\n",
            "   is_synthetic  \n",
            "0             1  \n",
            "1             1  \n",
            "2             1  \n",
            "3             1  \n",
            "4             1  \n"
          ]
        }
      ]
    },
    {
      "cell_type": "code",
      "source": [
        "id_column_name = df_features_test.columns[0]\n",
        "df_kaggle_submission = pd.DataFrame()\n",
        "df_kaggle_submission[id_column_name] = df_features_test[id_column_name]\n",
        "print(df_kaggle_submission.head())"
      ],
      "metadata": {
        "colab": {
          "base_uri": "https://localhost:8080/"
        },
        "id": "gKtSmdI4x2UT",
        "outputId": "f7cfed89-240f-4731-b4cc-95c18c1a6cbb"
      },
      "execution_count": 37,
      "outputs": [
        {
          "output_type": "stream",
          "name": "stdout",
          "text": [
            "       id\n",
            "0  193573\n",
            "1  193574\n",
            "2  193575\n",
            "3  193576\n",
            "4  193577\n"
          ]
        }
      ]
    },
    {
      "cell_type": "code",
      "source": [
        "# Take a peek at the dataframe after cleaning\n",
        "print(df_features_test.head())"
      ],
      "metadata": {
        "colab": {
          "base_uri": "https://localhost:8080/"
        },
        "id": "7upwUGa1x2SG",
        "outputId": "4f904fe1-a43b-4085-9143-dcd7968469a8"
      },
      "execution_count": 38,
      "outputs": [
        {
          "output_type": "stream",
          "name": "stdout",
          "text": [
            "       id  carat        cut color clarity  depth  table     x     y     z  \\\n",
            "0  193573   0.35      Ideal     D     VS2   62.3   56.0  4.51  4.54  2.82   \n",
            "1  193574   0.77  Very Good     F     SI2   62.8   56.0  5.83  5.87  3.68   \n",
            "2  193575   0.71      Ideal     I     VS2   61.9   53.0  5.77  5.74  3.55   \n",
            "3  193576   0.33      Ideal     G    VVS2   61.6   55.0  4.44  4.42  2.73   \n",
            "4  193577   1.20  Very Good     I     VS2   62.7   56.0  6.75  6.79  4.24   \n",
            "\n",
            "   is_synthetic  \n",
            "0             1  \n",
            "1             1  \n",
            "2             1  \n",
            "3             1  \n",
            "4             1  \n"
          ]
        }
      ]
    },
    {
      "cell_type": "code",
      "source": [
        "print(df_features_test.describe())"
      ],
      "metadata": {
        "colab": {
          "base_uri": "https://localhost:8080/"
        },
        "id": "gO20T_Nb1SBm",
        "outputId": "e605f683-50e9-41a6-c6c1-6d15b8c45239"
      },
      "execution_count": 39,
      "outputs": [
        {
          "output_type": "stream",
          "name": "stdout",
          "text": [
            "                  id          carat          depth          table  \\\n",
            "count  129050.000000  129050.000000  129050.000000  129050.000000   \n",
            "mean   258097.500000       0.789256      61.820522      57.239608   \n",
            "std     37253.670457       0.462502       1.080249       1.918908   \n",
            "min    193573.000000       0.200000      53.200000      51.000000   \n",
            "25%    225835.250000       0.400000      61.300000      56.000000   \n",
            "50%    258097.500000       0.700000      61.900000      57.000000   \n",
            "75%    290359.750000       1.030000      62.400000      58.000000   \n",
            "max    322622.000000       4.500000      70.600000      70.000000   \n",
            "\n",
            "                   x              y              z  is_synthetic  \n",
            "count  129050.000000  129050.000000  129050.000000      129050.0  \n",
            "mean        5.711767       5.716336       3.531802           1.0  \n",
            "std         1.109666       1.102485       0.690749           0.0  \n",
            "min         0.000000       0.000000       0.000000           1.0  \n",
            "25%         4.700000       4.710000       2.900000           1.0  \n",
            "50%         5.700000       5.720000       3.530000           1.0  \n",
            "75%         6.510000       6.510000       4.030000           1.0  \n",
            "max        10.140000      10.140000      31.800000           1.0  \n"
          ]
        }
      ]
    },
    {
      "cell_type": "code",
      "source": [
        "# Finalize the test dataset for the testing activities\n",
        "array_features_test = preprocessor.transform(df_features_test)\n",
        "print(\"Transformed features from df_features_test.shape: {} to array_features_test.shape: {}\".format(df_features_test.shape, array_features_test.shape))"
      ],
      "metadata": {
        "colab": {
          "base_uri": "https://localhost:8080/"
        },
        "id": "nqfCanEEx2PQ",
        "outputId": "0f0e26ac-6a15-4999-a6f7-b42b08e87d8d"
      },
      "execution_count": 40,
      "outputs": [
        {
          "output_type": "stream",
          "name": "stdout",
          "text": [
            "Transformed features from df_features_test.shape: (129050, 11) to array_features_test.shape: (129050, 27)\n"
          ]
        }
      ]
    },
    {
      "cell_type": "code",
      "source": [
        "# Make batched predictions\n",
        "test_predictions =  final_model.predict(array_features_test)\n",
        "print(test_predictions)"
      ],
      "metadata": {
        "colab": {
          "base_uri": "https://localhost:8080/"
        },
        "id": "wVYXTrz3x2Mm",
        "outputId": "37e6ef4f-f74e-47e5-b1d8-3a1aa1645ee7"
      },
      "execution_count": 41,
      "outputs": [
        {
          "output_type": "stream",
          "name": "stdout",
          "text": [
            "[ 844.3414 2562.5776 2314.7378 ... 7659.996  5377.059  4256.135 ]\n"
          ]
        }
      ]
    },
    {
      "cell_type": "code",
      "source": [
        "df_sample_submission = pd.read_csv(SUBMISSION_TEMPLATE)\n",
        "df_sample_submission.drop(columns=[id_column_name], inplace=True)\n",
        "submission_header = list(df_sample_submission.columns)[0]\n",
        "print(submission_header)"
      ],
      "metadata": {
        "colab": {
          "base_uri": "https://localhost:8080/"
        },
        "id": "7CxufOmQx2J-",
        "outputId": "4f3afe11-726d-4639-b675-a7d13776b95c"
      },
      "execution_count": 42,
      "outputs": [
        {
          "output_type": "stream",
          "name": "stdout",
          "text": [
            "price\n"
          ]
        }
      ]
    },
    {
      "cell_type": "code",
      "source": [
        "df_kaggle_submission[submission_header] = test_predictions\n",
        "print(df_kaggle_submission.head())"
      ],
      "metadata": {
        "colab": {
          "base_uri": "https://localhost:8080/"
        },
        "id": "PmhK4XMGx2HG",
        "outputId": "c3f72558-5119-4623-884d-a472c1904988"
      },
      "execution_count": 43,
      "outputs": [
        {
          "output_type": "stream",
          "name": "stdout",
          "text": [
            "       id        price\n",
            "0  193573   844.341370\n",
            "1  193574  2562.577637\n",
            "2  193575  2314.737793\n",
            "3  193576   843.742554\n",
            "4  193577  5581.146484\n"
          ]
        }
      ]
    },
    {
      "cell_type": "code",
      "source": [
        "submission_file = df_kaggle_submission.to_csv(header=True, index=False)\n",
        "filename = SUBMISSION_FILE + datetime.now().strftime('%Y%m%d-%H%M') + '.csv'\n",
        "with open(filename, 'w') as f:\n",
        "    f.write(submission_file)\n",
        "    print('Completed writing output file: ' + filename)"
      ],
      "metadata": {
        "colab": {
          "base_uri": "https://localhost:8080/"
        },
        "id": "zc2BhWBCx2Dv",
        "outputId": "cc2934fd-72de-443a-c8a9-8b096a78ea91"
      },
      "execution_count": 44,
      "outputs": [
        {
          "output_type": "stream",
          "name": "stdout",
          "text": [
            "Completed writing output file: submission_xgboost_20230326-1453.csv\n"
          ]
        }
      ]
    },
    {
      "cell_type": "code",
      "execution_count": 45,
      "metadata": {
        "id": "M5_FY-MaViZR",
        "outputId": "e1c900e4-4a5a-4ba0-ef3d-67afdbe8804e",
        "colab": {
          "base_uri": "https://localhost:8080/"
        }
      },
      "outputs": [
        {
          "output_type": "stream",
          "name": "stdout",
          "text": [
            "Total time for the script: 0:19:16.267512\n"
          ]
        }
      ],
      "source": [
        "print ('Total time for the script:',(datetime.now() - START_TIME_SCRIPT))"
      ]
    }
  ],
  "metadata": {
    "kernelspec": {
      "display_name": "Python 3 (ipykernel)",
      "language": "python",
      "name": "python3"
    },
    "language_info": {
      "codemirror_mode": {
        "name": "ipython",
        "version": 3
      },
      "file_extension": ".py",
      "mimetype": "text/x-python",
      "name": "python",
      "nbconvert_exporter": "python",
      "pygments_lexer": "ipython3",
      "version": "3.8.10"
    },
    "colab": {
      "provenance": [],
      "collapsed_sections": [
        "i99VwZJrViZM"
      ]
    },
    "accelerator": "GPU",
    "gpuClass": "premium"
  },
  "nbformat": 4,
  "nbformat_minor": 0
}
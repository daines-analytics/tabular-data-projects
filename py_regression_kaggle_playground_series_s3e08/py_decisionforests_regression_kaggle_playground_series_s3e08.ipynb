{
  "cells": [
    {
      "cell_type": "markdown",
      "metadata": {
        "id": "2sQmc7MlwXit"
      },
      "source": [
        "# Regression Tabular Model for Kaggle Playground Series Season 3 Episode 8 Using Python and TensorFlow Decision Forests\n",
        "### David Lowe\n",
        "### March 28, 2023\n",
        "\n",
        "SUMMARY: The project aims to construct a predictive model using various machine learning algorithms and document the end-to-end steps using a template. The Kaggle Playground Series Season 3 Episode 6 Dataset is a regression modeling situation where we are trying to predict the value of a continuous variable.\n",
        "\n",
        "INTRODUCTION: Kaggle wants to provide an approachable environment for relatively new people in their data science journey. Since January 2021, they have hosted playground-style competitions to give the Kaggle community a variety of reasonably lightweight challenges that can be used to learn and sharpen skills in different aspects of machine learning and data science. The dataset for this competition was generated from a deep learning model trained on the Gemstone Price Prediction dataset. Feature distributions are close to but different from the original.\n",
        "\n",
        "ANALYSIS: We selected Random Forest as the final model as it processed the training dataset with an RMSE score of 490. When we tested the final model using the test dataset, the model achieved an RMSE score of 582.\n",
        "\n",
        "CONCLUSION: In this iteration, the Random Forest model appeared to be a suitable algorithm for modeling this dataset.\n",
        "\n",
        "Dataset Used: Playground Series Season 3, Episode 8\n",
        "\n",
        "Dataset ML Model: Regression with numerical features\n",
        "\n",
        "Dataset Reference: https://www.kaggle.com/competitions/playground-series-s3e8/\n",
        "\n",
        "One source of potential performance benchmarks: https://www.kaggle.com/competitions/playground-series-s3e8/leaderboard"
      ]
    },
    {
      "cell_type": "markdown",
      "metadata": {
        "id": "2pu8nWBYwXi9"
      },
      "source": [
        "## Task 1 - Prepare Environment"
      ]
    },
    {
      "cell_type": "code",
      "source": [
        "# Install TensorFlow Decision Forests\n",
        "!pip3 install tensorflow_decision_forests --upgrade"
      ],
      "metadata": {
        "colab": {
          "base_uri": "https://localhost:8080/"
        },
        "id": "ovqTlKL1tZUw",
        "outputId": "266ca9d3-6e30-4ef8-dcd4-cea828d9a9a2"
      },
      "execution_count": 1,
      "outputs": [
        {
          "output_type": "stream",
          "name": "stdout",
          "text": [
            "Looking in indexes: https://pypi.org/simple, https://us-python.pkg.dev/colab-wheels/public/simple/\n",
            "Requirement already satisfied: tensorflow_decision_forests in /usr/local/lib/python3.9/dist-packages (1.3.0)\n",
            "Requirement already satisfied: pandas in /usr/local/lib/python3.9/dist-packages (from tensorflow_decision_forests) (1.4.4)\n",
            "Requirement already satisfied: wurlitzer in /usr/local/lib/python3.9/dist-packages (from tensorflow_decision_forests) (3.0.3)\n",
            "Requirement already satisfied: tensorflow~=2.12.0 in /usr/local/lib/python3.9/dist-packages (from tensorflow_decision_forests) (2.12.0)\n",
            "Requirement already satisfied: absl-py in /usr/local/lib/python3.9/dist-packages (from tensorflow_decision_forests) (1.4.0)\n",
            "Requirement already satisfied: wheel in /usr/local/lib/python3.9/dist-packages (from tensorflow_decision_forests) (0.40.0)\n",
            "Requirement already satisfied: numpy in /usr/local/lib/python3.9/dist-packages (from tensorflow_decision_forests) (1.22.4)\n",
            "Requirement already satisfied: six in /usr/local/lib/python3.9/dist-packages (from tensorflow_decision_forests) (1.16.0)\n",
            "Requirement already satisfied: gast<=0.4.0,>=0.2.1 in /usr/local/lib/python3.9/dist-packages (from tensorflow~=2.12.0->tensorflow_decision_forests) (0.4.0)\n",
            "Requirement already satisfied: setuptools in /usr/local/lib/python3.9/dist-packages (from tensorflow~=2.12.0->tensorflow_decision_forests) (67.6.0)\n",
            "Requirement already satisfied: tensorboard<2.13,>=2.12 in /usr/local/lib/python3.9/dist-packages (from tensorflow~=2.12.0->tensorflow_decision_forests) (2.12.0)\n",
            "Requirement already satisfied: opt-einsum>=2.3.2 in /usr/local/lib/python3.9/dist-packages (from tensorflow~=2.12.0->tensorflow_decision_forests) (3.3.0)\n",
            "Requirement already satisfied: wrapt<1.15,>=1.11.0 in /usr/local/lib/python3.9/dist-packages (from tensorflow~=2.12.0->tensorflow_decision_forests) (1.14.1)\n",
            "Requirement already satisfied: keras<2.13,>=2.12.0 in /usr/local/lib/python3.9/dist-packages (from tensorflow~=2.12.0->tensorflow_decision_forests) (2.12.0)\n",
            "Requirement already satisfied: protobuf!=4.21.0,!=4.21.1,!=4.21.2,!=4.21.3,!=4.21.4,!=4.21.5,<5.0.0dev,>=3.20.3 in /usr/local/lib/python3.9/dist-packages (from tensorflow~=2.12.0->tensorflow_decision_forests) (4.22.1)\n",
            "Requirement already satisfied: typing-extensions>=3.6.6 in /usr/local/lib/python3.9/dist-packages (from tensorflow~=2.12.0->tensorflow_decision_forests) (4.5.0)\n",
            "Requirement already satisfied: grpcio<2.0,>=1.24.3 in /usr/local/lib/python3.9/dist-packages (from tensorflow~=2.12.0->tensorflow_decision_forests) (1.51.3)\n",
            "Requirement already satisfied: jax>=0.3.15 in /usr/local/lib/python3.9/dist-packages (from tensorflow~=2.12.0->tensorflow_decision_forests) (0.4.6)\n",
            "Requirement already satisfied: h5py>=2.9.0 in /usr/local/lib/python3.9/dist-packages (from tensorflow~=2.12.0->tensorflow_decision_forests) (3.8.0)\n",
            "Requirement already satisfied: astunparse>=1.6.0 in /usr/local/lib/python3.9/dist-packages (from tensorflow~=2.12.0->tensorflow_decision_forests) (1.6.3)\n",
            "Requirement already satisfied: termcolor>=1.1.0 in /usr/local/lib/python3.9/dist-packages (from tensorflow~=2.12.0->tensorflow_decision_forests) (2.2.0)\n",
            "Requirement already satisfied: flatbuffers>=2.0 in /usr/local/lib/python3.9/dist-packages (from tensorflow~=2.12.0->tensorflow_decision_forests) (23.3.3)\n",
            "Requirement already satisfied: libclang>=13.0.0 in /usr/local/lib/python3.9/dist-packages (from tensorflow~=2.12.0->tensorflow_decision_forests) (15.0.6.1)\n",
            "Requirement already satisfied: google-pasta>=0.1.1 in /usr/local/lib/python3.9/dist-packages (from tensorflow~=2.12.0->tensorflow_decision_forests) (0.2.0)\n",
            "Requirement already satisfied: packaging in /usr/local/lib/python3.9/dist-packages (from tensorflow~=2.12.0->tensorflow_decision_forests) (23.0)\n",
            "Requirement already satisfied: tensorflow-io-gcs-filesystem>=0.23.1 in /usr/local/lib/python3.9/dist-packages (from tensorflow~=2.12.0->tensorflow_decision_forests) (0.31.0)\n",
            "Requirement already satisfied: tensorflow-estimator<2.13,>=2.12.0 in /usr/local/lib/python3.9/dist-packages (from tensorflow~=2.12.0->tensorflow_decision_forests) (2.12.0)\n",
            "Requirement already satisfied: pytz>=2020.1 in /usr/local/lib/python3.9/dist-packages (from pandas->tensorflow_decision_forests) (2022.7.1)\n",
            "Requirement already satisfied: python-dateutil>=2.8.1 in /usr/local/lib/python3.9/dist-packages (from pandas->tensorflow_decision_forests) (2.8.2)\n",
            "Requirement already satisfied: scipy>=1.5 in /usr/local/lib/python3.9/dist-packages (from jax>=0.3.15->tensorflow~=2.12.0->tensorflow_decision_forests) (1.10.1)\n",
            "Requirement already satisfied: requests<3,>=2.21.0 in /usr/local/lib/python3.9/dist-packages (from tensorboard<2.13,>=2.12->tensorflow~=2.12.0->tensorflow_decision_forests) (2.27.1)\n",
            "Requirement already satisfied: tensorboard-plugin-wit>=1.6.0 in /usr/local/lib/python3.9/dist-packages (from tensorboard<2.13,>=2.12->tensorflow~=2.12.0->tensorflow_decision_forests) (1.8.1)\n",
            "Requirement already satisfied: google-auth<3,>=1.6.3 in /usr/local/lib/python3.9/dist-packages (from tensorboard<2.13,>=2.12->tensorflow~=2.12.0->tensorflow_decision_forests) (2.16.2)\n",
            "Requirement already satisfied: werkzeug>=1.0.1 in /usr/local/lib/python3.9/dist-packages (from tensorboard<2.13,>=2.12->tensorflow~=2.12.0->tensorflow_decision_forests) (2.2.3)\n",
            "Requirement already satisfied: tensorboard-data-server<0.8.0,>=0.7.0 in /usr/local/lib/python3.9/dist-packages (from tensorboard<2.13,>=2.12->tensorflow~=2.12.0->tensorflow_decision_forests) (0.7.0)\n",
            "Requirement already satisfied: google-auth-oauthlib<0.5,>=0.4.1 in /usr/local/lib/python3.9/dist-packages (from tensorboard<2.13,>=2.12->tensorflow~=2.12.0->tensorflow_decision_forests) (0.4.6)\n",
            "Requirement already satisfied: markdown>=2.6.8 in /usr/local/lib/python3.9/dist-packages (from tensorboard<2.13,>=2.12->tensorflow~=2.12.0->tensorflow_decision_forests) (3.4.2)\n",
            "Requirement already satisfied: rsa<5,>=3.1.4 in /usr/local/lib/python3.9/dist-packages (from google-auth<3,>=1.6.3->tensorboard<2.13,>=2.12->tensorflow~=2.12.0->tensorflow_decision_forests) (4.9)\n",
            "Requirement already satisfied: pyasn1-modules>=0.2.1 in /usr/local/lib/python3.9/dist-packages (from google-auth<3,>=1.6.3->tensorboard<2.13,>=2.12->tensorflow~=2.12.0->tensorflow_decision_forests) (0.2.8)\n",
            "Requirement already satisfied: cachetools<6.0,>=2.0.0 in /usr/local/lib/python3.9/dist-packages (from google-auth<3,>=1.6.3->tensorboard<2.13,>=2.12->tensorflow~=2.12.0->tensorflow_decision_forests) (5.3.0)\n",
            "Requirement already satisfied: requests-oauthlib>=0.7.0 in /usr/local/lib/python3.9/dist-packages (from google-auth-oauthlib<0.5,>=0.4.1->tensorboard<2.13,>=2.12->tensorflow~=2.12.0->tensorflow_decision_forests) (1.3.1)\n",
            "Requirement already satisfied: importlib-metadata>=4.4 in /usr/local/lib/python3.9/dist-packages (from markdown>=2.6.8->tensorboard<2.13,>=2.12->tensorflow~=2.12.0->tensorflow_decision_forests) (6.1.0)\n",
            "Requirement already satisfied: charset-normalizer~=2.0.0 in /usr/local/lib/python3.9/dist-packages (from requests<3,>=2.21.0->tensorboard<2.13,>=2.12->tensorflow~=2.12.0->tensorflow_decision_forests) (2.0.12)\n",
            "Requirement already satisfied: certifi>=2017.4.17 in /usr/local/lib/python3.9/dist-packages (from requests<3,>=2.21.0->tensorboard<2.13,>=2.12->tensorflow~=2.12.0->tensorflow_decision_forests) (2022.12.7)\n",
            "Requirement already satisfied: idna<4,>=2.5 in /usr/local/lib/python3.9/dist-packages (from requests<3,>=2.21.0->tensorboard<2.13,>=2.12->tensorflow~=2.12.0->tensorflow_decision_forests) (3.4)\n",
            "Requirement already satisfied: urllib3<1.27,>=1.21.1 in /usr/local/lib/python3.9/dist-packages (from requests<3,>=2.21.0->tensorboard<2.13,>=2.12->tensorflow~=2.12.0->tensorflow_decision_forests) (1.26.15)\n",
            "Requirement already satisfied: MarkupSafe>=2.1.1 in /usr/local/lib/python3.9/dist-packages (from werkzeug>=1.0.1->tensorboard<2.13,>=2.12->tensorflow~=2.12.0->tensorflow_decision_forests) (2.1.2)\n",
            "Requirement already satisfied: zipp>=0.5 in /usr/local/lib/python3.9/dist-packages (from importlib-metadata>=4.4->markdown>=2.6.8->tensorboard<2.13,>=2.12->tensorflow~=2.12.0->tensorflow_decision_forests) (3.15.0)\n",
            "Requirement already satisfied: pyasn1<0.5.0,>=0.4.6 in /usr/local/lib/python3.9/dist-packages (from pyasn1-modules>=0.2.1->google-auth<3,>=1.6.3->tensorboard<2.13,>=2.12->tensorflow~=2.12.0->tensorflow_decision_forests) (0.4.8)\n",
            "Requirement already satisfied: oauthlib>=3.0.0 in /usr/local/lib/python3.9/dist-packages (from requests-oauthlib>=0.7.0->google-auth-oauthlib<0.5,>=0.4.1->tensorboard<2.13,>=2.12->tensorflow~=2.12.0->tensorflow_decision_forests) (3.2.2)\n"
          ]
        }
      ]
    },
    {
      "cell_type": "code",
      "execution_count": 2,
      "metadata": {
        "colab": {
          "base_uri": "https://localhost:8080/"
        },
        "id": "ZOOVxnGCwXi_",
        "outputId": "10691f8f-50ce-4161-dafe-943a322c6c0a"
      },
      "outputs": [
        {
          "output_type": "stream",
          "name": "stdout",
          "text": [
            "The number of available CPUs is: 8\n"
          ]
        }
      ],
      "source": [
        "# Retrieve the CPU information\n",
        "ncpu = !nproc\n",
        "print(\"The number of available CPUs is:\", ncpu[0])"
      ]
    },
    {
      "cell_type": "markdown",
      "metadata": {
        "id": "6UZqFeojwXjA"
      },
      "source": [
        "### 1.a) Load libraries and modules"
      ]
    },
    {
      "cell_type": "code",
      "execution_count": 3,
      "metadata": {
        "id": "9_ovTGbJwXjA"
      },
      "outputs": [],
      "source": [
        "# Set the random seed number for reproducible results\n",
        "RNG_SEED = 888"
      ]
    },
    {
      "cell_type": "code",
      "execution_count": 4,
      "metadata": {
        "id": "vDmif-v8wXjB"
      },
      "outputs": [],
      "source": [
        "import random\n",
        "random.seed(RNG_SEED)\n",
        "import numpy as np\n",
        "np.random.seed(RNG_SEED)\n",
        "import pandas as pd\n",
        "import seaborn as sns\n",
        "import matplotlib\n",
        "import matplotlib.pyplot as plt\n",
        "import os\n",
        "import sys\n",
        "import math\n",
        "import zipfile\n",
        "import urllib\n",
        "from datetime import datetime\n",
        "from sklearn import preprocessing\n",
        "from sklearn.model_selection import train_test_split\n",
        "from sklearn.model_selection import RepeatedKFold\n",
        "from sklearn.pipeline import Pipeline\n",
        "from sklearn import compose\n",
        "from sklearn import impute\n",
        "from sklearn import metrics\n",
        "from sklearn import datasets\n",
        "\n",
        "import tensorflow as tf\n",
        "tf.random.set_seed(RNG_SEED)\n",
        "# from tensorflow import keras\n",
        "import tensorflow_decision_forests as tfdf"
      ]
    },
    {
      "cell_type": "markdown",
      "metadata": {
        "id": "M0TRB7j0wXjB"
      },
      "source": [
        "### 1.b) Set up the controlling parameters and functions"
      ]
    },
    {
      "cell_type": "code",
      "execution_count": 5,
      "metadata": {
        "colab": {
          "base_uri": "https://localhost:8080/"
        },
        "id": "JCurALWEwXjB",
        "outputId": "c9edceac-b362-4192-d7b4-e5dc3b84a972"
      },
      "outputs": [
        {
          "output_type": "stream",
          "name": "stdout",
          "text": [
            "TensorFlow version: 2.12.0\n",
            "Found TensorFlow Decision Forests v1.3.0\n"
          ]
        }
      ],
      "source": [
        "# Begin the timer for the script processing\n",
        "start_time_script = datetime.now()\n",
        "\n",
        "# Set up the number of CPU cores available for multi-thread processing\n",
        "N_JOBS = 1\n",
        "\n",
        "# Set up the flag to stop sending progress emails (setting to True will send status emails!)\n",
        "NOTIFY_STATUS = False\n",
        "\n",
        "# Set the percentage sizes for splitting the dataset\n",
        "TEST_SET_RATIO = 0.1\n",
        "VAL_SET_RATIO = 0.1\n",
        "\n",
        "# Set the name for the class/label column\n",
        "ORIGINAL_LABEL = 'price'\n",
        "CLASS_COLUMN = 'target'\n",
        "\n",
        "# Set the number of folds for cross validation\n",
        "N_FOLDS = 10\n",
        "N_ITERATIONS = 1\n",
        "\n",
        "# Set various default modeling parameters\n",
        "DEFAULT_LOSS = 'mean_squared_error'\n",
        "DEFAULT_METRICS = [tf.keras.metrics.RootMeanSquaredError(name='rmse')]\n",
        "\n",
        "# Define the directory locations and file names\n",
        "TRAIN_DATASET = 'https://dainesanalytics.com/datasets/kaggle-playground-series-s3e08/train.csv'\n",
        "TEST_DATASET = 'https://dainesanalytics.com/datasets/kaggle-playground-series-s3e08/test.csv'\n",
        "ORIGINAL_DATASET = 'https://dainesanalytics.com/datasets/kaggle-playground-series-s3e08/cubic_zirconia.csv'\n",
        "SUBMISSION_TEMPLATE = 'https://dainesanalytics.com/datasets/kaggle-playground-series-s3e08/sample_submission.csv'\n",
        "SUBMISSION_FILE = 'submission_decisionForests_'\n",
        "\n",
        "# Print out the TensorFlow version for confirmation\n",
        "print('TensorFlow version:', tf.__version__)\n",
        "\n",
        "# Check the version of TensorFlow Decision Forests\n",
        "print(\"Found TensorFlow Decision Forests v\" + tfdf.__version__)"
      ]
    },
    {
      "cell_type": "markdown",
      "metadata": {
        "id": "yk2I_AhawXjD"
      },
      "source": [
        "### 1.c) Load dataset"
      ]
    },
    {
      "cell_type": "code",
      "execution_count": 6,
      "metadata": {
        "colab": {
          "base_uri": "https://localhost:8080/"
        },
        "id": "E7G2_4zawXjE",
        "outputId": "44ed47c2-8e13-4995-be06-3d5b7a11ccac"
      },
      "outputs": [
        {
          "output_type": "stream",
          "name": "stdout",
          "text": [
            "   id  carat        cut color clarity  depth  table     x     y     z  price\n",
            "0   0   1.52    Premium     F     VS2   62.2   58.0  7.27  7.33  4.55  13619\n",
            "1   1   2.03  Very Good     J     SI2   62.0   58.0  8.06  8.12  5.05  13387\n",
            "2   2   0.70      Ideal     G     VS1   61.2   57.0  5.69  5.73  3.50   2772\n",
            "3   3   0.32      Ideal     G     VS1   61.6   56.0  4.38  4.41  2.71    666\n",
            "4   4   1.70    Premium     G     VS2   62.6   59.0  7.65  7.61  4.77  14453\n"
          ]
        }
      ],
      "source": [
        "df_dataset_import = pd.read_csv(TRAIN_DATASET)\n",
        "\n",
        "# Take a peek at the dataframe after import\n",
        "print(df_dataset_import.head())"
      ]
    },
    {
      "cell_type": "code",
      "execution_count": 7,
      "metadata": {
        "colab": {
          "base_uri": "https://localhost:8080/"
        },
        "id": "3dl-LDdfwXjE",
        "outputId": "7eae4c47-0654-44de-f06e-f0518fc13fcc"
      },
      "outputs": [
        {
          "output_type": "stream",
          "name": "stdout",
          "text": [
            "<class 'pandas.core.frame.DataFrame'>\n",
            "RangeIndex: 193573 entries, 0 to 193572\n",
            "Data columns (total 11 columns):\n",
            " #   Column   Non-Null Count   Dtype  \n",
            "---  ------   --------------   -----  \n",
            " 0   id       193573 non-null  int64  \n",
            " 1   carat    193573 non-null  float64\n",
            " 2   cut      193573 non-null  object \n",
            " 3   color    193573 non-null  object \n",
            " 4   clarity  193573 non-null  object \n",
            " 5   depth    193573 non-null  float64\n",
            " 6   table    193573 non-null  float64\n",
            " 7   x        193573 non-null  float64\n",
            " 8   y        193573 non-null  float64\n",
            " 9   z        193573 non-null  float64\n",
            " 10  price    193573 non-null  int64  \n",
            "dtypes: float64(6), int64(2), object(3)\n",
            "memory usage: 16.2+ MB\n"
          ]
        }
      ],
      "source": [
        "df_dataset_import.info(verbose=True)"
      ]
    },
    {
      "cell_type": "code",
      "execution_count": 8,
      "metadata": {
        "colab": {
          "base_uri": "https://localhost:8080/"
        },
        "id": "3eB_rvlwwXjF",
        "outputId": "db904dab-59da-4595-a6bc-1e8438e709c1"
      },
      "outputs": [
        {
          "output_type": "stream",
          "name": "stdout",
          "text": [
            "                  id          carat          depth          table  \\\n",
            "count  193573.000000  193573.000000  193573.000000  193573.000000   \n",
            "mean    96786.000000       0.790688      61.820574      57.227675   \n",
            "std     55879.856166       0.462688       1.081704       1.918844   \n",
            "min         0.000000       0.200000      52.100000      49.000000   \n",
            "25%     48393.000000       0.400000      61.300000      56.000000   \n",
            "50%     96786.000000       0.700000      61.900000      57.000000   \n",
            "75%    145179.000000       1.030000      62.400000      58.000000   \n",
            "max    193572.000000       3.500000      71.600000      79.000000   \n",
            "\n",
            "                   x              y              z          price  \n",
            "count  193573.000000  193573.000000  193573.000000  193573.000000  \n",
            "mean        5.715312       5.720094       3.534246    3969.155414  \n",
            "std         1.109422       1.102333       0.688922    4034.374138  \n",
            "min         0.000000       0.000000       0.000000     326.000000  \n",
            "25%         4.700000       4.710000       2.900000     951.000000  \n",
            "50%         5.700000       5.720000       3.530000    2401.000000  \n",
            "75%         6.510000       6.510000       4.030000    5408.000000  \n",
            "max         9.650000      10.010000      31.300000   18818.000000  \n"
          ]
        }
      ],
      "source": [
        "print(df_dataset_import.describe())"
      ]
    },
    {
      "cell_type": "code",
      "execution_count": 9,
      "metadata": {
        "colab": {
          "base_uri": "https://localhost:8080/"
        },
        "id": "SRyVb81UwXjF",
        "outputId": "4d66ce46-d5d7-44a7-990e-b98e6de17cd5"
      },
      "outputs": [
        {
          "output_type": "stream",
          "name": "stdout",
          "text": [
            "id         0\n",
            "carat      0\n",
            "cut        0\n",
            "color      0\n",
            "clarity    0\n",
            "depth      0\n",
            "table      0\n",
            "x          0\n",
            "y          0\n",
            "z          0\n",
            "price      0\n",
            "dtype: int64\n",
            "Total number of NaN in the dataframe:  0\n"
          ]
        }
      ],
      "source": [
        "print(df_dataset_import.isnull().sum())\n",
        "print('Total number of NaN in the dataframe: ', df_dataset_import.isnull().sum().sum())"
      ]
    },
    {
      "cell_type": "markdown",
      "metadata": {
        "id": "wfaoKiSdwXjG"
      },
      "source": [
        "### 1.d) Data Cleaning"
      ]
    },
    {
      "cell_type": "code",
      "source": [
        "# Fetch the original dataset and use it to supplement the training\n",
        "df_dataset_original = pd.read_csv(ORIGINAL_DATASET)\n",
        "df_dataset_original.drop(columns=['Unnamed: 0'], inplace=True)\n",
        "df_dataset_original['is_synthetic'] = 0\n",
        "\n",
        "# Take a peek at the dataframe after import\n",
        "print(df_dataset_original.head())"
      ],
      "metadata": {
        "colab": {
          "base_uri": "https://localhost:8080/"
        },
        "id": "mD2BQqkx1vIW",
        "outputId": "1fd8211a-b12a-4f46-c1d9-afa655aab120"
      },
      "execution_count": 10,
      "outputs": [
        {
          "output_type": "stream",
          "name": "stdout",
          "text": [
            "   carat        cut color clarity  depth  table     x     y     z  price  \\\n",
            "0   0.30      Ideal     E     SI1   62.1   58.0  4.27  4.29  2.66    499   \n",
            "1   0.33    Premium     G      IF   60.8   58.0  4.42  4.46  2.70    984   \n",
            "2   0.90  Very Good     E    VVS2   62.2   60.0  6.04  6.12  3.78   6289   \n",
            "3   0.42      Ideal     F     VS1   61.6   56.0  4.82  4.80  2.96   1082   \n",
            "4   0.31      Ideal     F    VVS1   60.4   59.0  4.35  4.43  2.65    779   \n",
            "\n",
            "   is_synthetic  \n",
            "0             0  \n",
            "1             0  \n",
            "2             0  \n",
            "3             0  \n",
            "4             0  \n"
          ]
        }
      ]
    },
    {
      "cell_type": "code",
      "source": [
        "# Combine the original and synthetic datasets into one training dataset\n",
        "df_dataset_import['is_synthetic'] = 1\n",
        "df_dataset_import.drop(columns=['id'], inplace=True)\n",
        "df_dataset_import = pd.concat([df_dataset_import, df_dataset_original],\n",
        "                              ignore_index=True)\n",
        "\n",
        "df_dataset_import.info(verbose=True)"
      ],
      "metadata": {
        "colab": {
          "base_uri": "https://localhost:8080/"
        },
        "id": "zbptJ0Fk1uz3",
        "outputId": "5630eaa2-bb96-46df-d75c-6b74398a679d"
      },
      "execution_count": 11,
      "outputs": [
        {
          "output_type": "stream",
          "name": "stdout",
          "text": [
            "<class 'pandas.core.frame.DataFrame'>\n",
            "RangeIndex: 220540 entries, 0 to 220539\n",
            "Data columns (total 11 columns):\n",
            " #   Column        Non-Null Count   Dtype  \n",
            "---  ------        --------------   -----  \n",
            " 0   carat         220540 non-null  float64\n",
            " 1   cut           220540 non-null  object \n",
            " 2   color         220540 non-null  object \n",
            " 3   clarity       220540 non-null  object \n",
            " 4   depth         219843 non-null  float64\n",
            " 5   table         220540 non-null  float64\n",
            " 6   x             220540 non-null  float64\n",
            " 7   y             220540 non-null  float64\n",
            " 8   z             220540 non-null  float64\n",
            " 9   price         220540 non-null  int64  \n",
            " 10  is_synthetic  220540 non-null  int64  \n",
            "dtypes: float64(6), int64(2), object(3)\n",
            "memory usage: 18.5+ MB\n"
          ]
        }
      ]
    },
    {
      "cell_type": "code",
      "execution_count": 12,
      "metadata": {
        "colab": {
          "base_uri": "https://localhost:8080/"
        },
        "id": "KujRTYu5wXjG",
        "outputId": "2dc7de79-e650-4e2b-9f00-0ef941c03422"
      },
      "outputs": [
        {
          "output_type": "stream",
          "name": "stdout",
          "text": [
            "   carat        cut color clarity  depth  table     x     y     z  target  \\\n",
            "0   1.52    Premium     F     VS2   62.2   58.0  7.27  7.33  4.55   13619   \n",
            "1   2.03  Very Good     J     SI2   62.0   58.0  8.06  8.12  5.05   13387   \n",
            "2   0.70      Ideal     G     VS1   61.2   57.0  5.69  5.73  3.50    2772   \n",
            "3   0.32      Ideal     G     VS1   61.6   56.0  4.38  4.41  2.71     666   \n",
            "4   1.70    Premium     G     VS2   62.6   59.0  7.65  7.61  4.77   14453   \n",
            "\n",
            "   is_synthetic  \n",
            "0             1  \n",
            "1             1  \n",
            "2             1  \n",
            "3             1  \n",
            "4             1  \n",
            "        carat        cut color clarity  depth  table     x     y     z  \\\n",
            "220535   1.11    Premium     G     SI1   62.3   58.0  6.61  6.52  4.09   \n",
            "220536   0.33      Ideal     H      IF   61.9   55.0  4.44  4.42  2.74   \n",
            "220537   0.51    Premium     E     VS2   61.7   58.0  5.12  5.15  3.17   \n",
            "220538   0.27  Very Good     F    VVS2   61.8   56.0  4.19  4.20  2.60   \n",
            "220539   1.25    Premium     J     SI1   62.0   58.0  6.90  6.88  4.27   \n",
            "\n",
            "        target  is_synthetic  \n",
            "220535    5408             0  \n",
            "220536    1114             0  \n",
            "220537    1656             0  \n",
            "220538     682             0  \n",
            "220539    5166             0  \n"
          ]
        }
      ],
      "source": [
        "# Standardize the class column to the name of targetVar if required\n",
        "df_dataset_import = df_dataset_import.rename(columns={ORIGINAL_LABEL: CLASS_COLUMN})\n",
        "\n",
        "# Take a peek at the dataframe after cleaning\n",
        "print(df_dataset_import.head())\n",
        "print(df_dataset_import.tail())"
      ]
    },
    {
      "cell_type": "code",
      "execution_count": 13,
      "metadata": {
        "colab": {
          "base_uri": "https://localhost:8080/"
        },
        "id": "ZprOE1B0wXjH",
        "outputId": "475e5b8e-763b-4404-9c76-2fe02c521b2d"
      },
      "outputs": [
        {
          "output_type": "stream",
          "name": "stdout",
          "text": [
            "<class 'pandas.core.frame.DataFrame'>\n",
            "RangeIndex: 220540 entries, 0 to 220539\n",
            "Data columns (total 11 columns):\n",
            " #   Column        Non-Null Count   Dtype  \n",
            "---  ------        --------------   -----  \n",
            " 0   carat         220540 non-null  float64\n",
            " 1   cut           220540 non-null  object \n",
            " 2   color         220540 non-null  object \n",
            " 3   clarity       220540 non-null  object \n",
            " 4   depth         219843 non-null  float64\n",
            " 5   table         220540 non-null  float64\n",
            " 6   x             220540 non-null  float64\n",
            " 7   y             220540 non-null  float64\n",
            " 8   z             220540 non-null  float64\n",
            " 9   target        220540 non-null  int64  \n",
            " 10  is_synthetic  220540 non-null  int64  \n",
            "dtypes: float64(6), int64(2), object(3)\n",
            "memory usage: 18.5+ MB\n"
          ]
        }
      ],
      "source": [
        "df_dataset_import.info(verbose=True)"
      ]
    },
    {
      "cell_type": "code",
      "execution_count": 14,
      "metadata": {
        "colab": {
          "base_uri": "https://localhost:8080/"
        },
        "id": "QgyI5VZ1wXjH",
        "outputId": "776efc45-d75f-453c-fa0d-3e6d9cfd06bd"
      },
      "outputs": [
        {
          "output_type": "stream",
          "name": "stdout",
          "text": [
            "               carat          depth          table              x  \\\n",
            "count  220540.000000  219843.000000  220540.000000  220540.000000   \n",
            "mean        0.791628      61.811561      57.255604       5.717090   \n",
            "std         0.464561       1.126671       1.961255       1.111782   \n",
            "min         0.200000      50.800000      49.000000       0.000000   \n",
            "25%         0.400000      61.200000      56.000000       4.700000   \n",
            "50%         0.700000      61.900000      57.000000       5.700000   \n",
            "75%         1.030000      62.400000      58.000000       6.520000   \n",
            "max         4.500000      73.600000      79.000000      10.230000   \n",
            "\n",
            "                   y              z         target   is_synthetic  \n",
            "count  220540.000000  220540.000000  220540.000000  220540.000000  \n",
            "mean        5.721742       3.534712    3965.531450       0.877723  \n",
            "std         1.110328       0.692876    4033.215125       0.327606  \n",
            "min         0.000000       0.000000     326.000000       0.000000  \n",
            "25%         4.710000       2.900000     949.000000       1.000000  \n",
            "50%         5.720000       3.530000    2398.000000       1.000000  \n",
            "75%         6.510000       4.030000    5405.000000       1.000000  \n",
            "max        58.900000      31.800000   18818.000000       1.000000  \n"
          ]
        }
      ],
      "source": [
        "print(df_dataset_import.describe())"
      ]
    },
    {
      "cell_type": "code",
      "execution_count": 15,
      "metadata": {
        "colab": {
          "base_uri": "https://localhost:8080/"
        },
        "id": "wz9iKsUswXjI",
        "outputId": "7e90f2d3-de08-4421-b3e9-56b8577efbab"
      },
      "outputs": [
        {
          "output_type": "stream",
          "name": "stdout",
          "text": [
            "carat             0\n",
            "cut               0\n",
            "color             0\n",
            "clarity           0\n",
            "depth           697\n",
            "table             0\n",
            "x                 0\n",
            "y                 0\n",
            "z                 0\n",
            "target            0\n",
            "is_synthetic      0\n",
            "dtype: int64\n",
            "Total number of NaN in the dataframe:  697\n"
          ]
        }
      ],
      "source": [
        "print(df_dataset_import.isnull().sum())\n",
        "print('Total number of NaN in the dataframe: ', df_dataset_import.isnull().sum().sum())"
      ]
    },
    {
      "cell_type": "markdown",
      "metadata": {
        "id": "0ZBQ1s2bwXjI"
      },
      "source": [
        "### 1.e) Splitting Data into Sets"
      ]
    },
    {
      "cell_type": "code",
      "execution_count": 16,
      "metadata": {
        "colab": {
          "base_uri": "https://localhost:8080/"
        },
        "id": "QNydPt1uwXjI",
        "outputId": "ba2b3788-1267-45c0-af50-9ca7ae4533d6"
      },
      "outputs": [
        {
          "output_type": "stream",
          "name": "stdout",
          "text": [
            "df_dataset_import.shape: (220540, 11) df_features_train.shape: (220540, 10) df_target_train.shape: (220540,)\n"
          ]
        }
      ],
      "source": [
        "# Use variable total_column_count to hold the number of columns in the dataframe\n",
        "total_column_count = len(df_dataset_import.columns)\n",
        "\n",
        "# Set up variable total_feature_count for the total number of attribute columns\n",
        "total_feature_count = total_column_count-1\n",
        "\n",
        "# We create attribute-only and target-only datasets (df_features_train and df_target_train)\n",
        "df_target_train = df_dataset_import['target']\n",
        "df_features_train = df_dataset_import.drop(['target'], axis=1)\n",
        "\n",
        "print(\"df_dataset_import.shape: {} df_features_train.shape: {} df_target_train.shape: {}\".format(df_dataset_import.shape, df_features_train.shape, df_target_train.shape))"
      ]
    },
    {
      "cell_type": "markdown",
      "metadata": {
        "id": "VKU_2CL74vh-"
      },
      "source": [
        "### 1.f) Set up the parameters for data visualization"
      ]
    },
    {
      "cell_type": "code",
      "execution_count": 17,
      "metadata": {
        "id": "7D9OChW94yP0"
      },
      "outputs": [],
      "source": [
        "# Set up the number of row and columns for visualization display. display_rows * display_columns should be >= total_feature_count\n",
        "display_columns = 4\n",
        "if total_feature_count % display_columns == 0 :\n",
        "    display_rows = total_feature_count // display_columns\n",
        "else :\n",
        "    display_rows = (total_feature_count // display_columns) + 1\n",
        "    \n",
        "# Set figure width to display the data visualization plots\n",
        "fig_size = plt.rcParams[\"figure.figsize\"]\n",
        "fig_size[0] = display_columns * 4\n",
        "fig_size[1] = display_rows * 4\n",
        "plt.rcParams[\"figure.figsize\"] = fig_size"
      ]
    },
    {
      "cell_type": "markdown",
      "metadata": {
        "id": "ZivQJCZowXjK"
      },
      "source": [
        "## Task 2 - Summarize and Visualize Data"
      ]
    },
    {
      "cell_type": "code",
      "execution_count": 18,
      "metadata": {
        "colab": {
          "base_uri": "https://localhost:8080/",
          "height": 472
        },
        "id": "NHtCofAgwXjL",
        "outputId": "54acd03d-bcc3-4a7e-b50c-c857d60ac2e1"
      },
      "outputs": [
        {
          "output_type": "display_data",
          "data": {
            "text/plain": [
              "<Figure size 1152x864 with 12 Axes>"
            ],
            "image/png": "[encoded data removed]"
          },
          "metadata": {
            "needs_background": "light"
          }
        }
      ],
      "source": [
        "# Box and Whisker plot for each attribute\n",
        "df_features_train.plot(kind='box', subplots=True, layout=(display_rows, display_columns))\n",
        "plt.show()"
      ]
    },
    {
      "cell_type": "code",
      "execution_count": 19,
      "metadata": {
        "id": "HXUm5_nkwXjL",
        "colab": {
          "base_uri": "https://localhost:8080/",
          "height": 1000
        },
        "outputId": "9eceddb3-f350-4510-9d29-6e63fc906b22"
      },
      "outputs": [
        {
          "output_type": "display_data",
          "data": {
            "text/plain": [
              "<Figure size 1440x1440 with 2 Axes>"
            ],
            "image/png": "[encoded data removed]"
          },
          "metadata": {
            "needs_background": "light"
          }
        }
      ],
      "source": [
        "# Correlation matrix\n",
        "fig = plt.figure(figsize=(20, 20))\n",
        "correlations = df_features_train.corr(method='pearson')\n",
        "sns.heatmap(correlations, annot=True, cmap=plt.cm.PuBu)\n",
        "plt.show()"
      ]
    },
    {
      "cell_type": "markdown",
      "metadata": {
        "id": "-8rH-HXuwXjM"
      },
      "source": [
        "## Task 3 - Pre-process Data"
      ]
    },
    {
      "cell_type": "markdown",
      "source": [
        "### 3.a) Feature Scaling and Data Pre-Processing"
      ],
      "metadata": {
        "id": "UB8XXxoNr6uA"
      }
    },
    {
      "cell_type": "code",
      "source": [
        "# Compose pipeline for the numerical and categorical features (Block #1 of 2)\n",
        "numeric_columns = df_features_train.select_dtypes(include=['int','float']).columns\n",
        "numeric_transformer = Pipeline(steps=[\n",
        "    ('imputer', impute.SimpleImputer(strategy=\"median\")),\n",
        "    ('scaler', preprocessing.StandardScaler())\n",
        "])\n",
        "categorical_columns = df_features_train.select_dtypes(include=['object','category']).columns\n",
        "categorical_transformer = Pipeline(steps=[\n",
        "    ('imputer', impute.SimpleImputer(strategy='constant', fill_value='UKNOWN')),\n",
        "    ('onehot', preprocessing.OneHotEncoder(sparse=False, handle_unknown='ignore'))\n",
        "])\n",
        "\n",
        "print(\"Number of numerical columns:\", len(numeric_columns))\n",
        "print(\"Number of categorical columns:\", len(categorical_columns))\n",
        "print(\"Total number of columns in the feature dataframe:\", df_features_train.shape[1])"
      ],
      "metadata": {
        "id": "Hba1yrCNr8Yt",
        "colab": {
          "base_uri": "https://localhost:8080/"
        },
        "outputId": "e0304aa4-8dc8-4e17-e021-5c6ef791ee97"
      },
      "execution_count": 20,
      "outputs": [
        {
          "output_type": "stream",
          "name": "stdout",
          "text": [
            "Number of numerical columns: 7\n",
            "Number of categorical columns: 3\n",
            "Total number of columns in the feature dataframe: 10\n"
          ]
        }
      ]
    },
    {
      "cell_type": "code",
      "source": [
        "# Compose pipeline for the numerical and categorical features (Block #2 of 2)\n",
        "preprocessor = compose.ColumnTransformer(transformers=[\n",
        "    ('num', numeric_transformer, numeric_columns),\n",
        "    ('cat', categorical_transformer, categorical_columns)\n",
        "], remainder='passthrough')"
      ],
      "metadata": {
        "id": "26yKV8DNsB-e"
      },
      "execution_count": 21,
      "outputs": []
    },
    {
      "cell_type": "markdown",
      "metadata": {
        "id": "C5MXnEfq0-PW"
      },
      "source": [
        "### 3.b) Finalize Datasets for Model-Building"
      ]
    },
    {
      "cell_type": "code",
      "source": [
        "# Finalize the training dataset for the modeling activities\n",
        "array_features_train = preprocessor.fit_transform(df_features_train)\n",
        "array_target_train = df_target_train.to_numpy()\n",
        "print(\"array_features_train.shape: {} array_target_train.shape: {}\".format(array_features_train.shape, array_target_train.shape))"
      ],
      "metadata": {
        "id": "FMGUxb_PsIPV",
        "colab": {
          "base_uri": "https://localhost:8080/"
        },
        "outputId": "be035bb2-18a8-4239-83ff-d0cd6d1b60e0"
      },
      "execution_count": 22,
      "outputs": [
        {
          "output_type": "stream",
          "name": "stderr",
          "text": [
            "/usr/local/lib/python3.9/dist-packages/sklearn/preprocessing/_encoders.py:868: FutureWarning: `sparse` was renamed to `sparse_output` in version 1.2 and will be removed in 1.4. `sparse_output` is ignored unless you leave `sparse` to its default value.\n",
            "  warnings.warn(\n"
          ]
        },
        {
          "output_type": "stream",
          "name": "stdout",
          "text": [
            "array_features_train.shape: (220540, 27) array_target_train.shape: (220540,)\n"
          ]
        }
      ]
    },
    {
      "cell_type": "markdown",
      "source": [
        "## Task 4 - Train and Evaluate Models"
      ],
      "metadata": {
        "id": "RMrhw9KbmVm6"
      }
    },
    {
      "cell_type": "markdown",
      "metadata": {
        "id": "2_pts_ZN1J3g"
      },
      "source": [
        "### 4.a) Train and Evaluate the Random Forest Model"
      ]
    },
    {
      "cell_type": "code",
      "source": [
        "# Initialize the default model and get a baseline result\n",
        "start_time_module = datetime.now()\n",
        "tf.keras.utils.set_random_seed(RNG_SEED)\n",
        "RF_model = tfdf.keras.RandomForestModel(task = tfdf.keras.Task.REGRESSION)\n",
        "RF_model.compile(metrics=DEFAULT_METRICS)\n",
        "RF_model.fit(x=array_features_train, y=array_target_train)\n",
        "print('Total time for model fitting:', (datetime.now() - start_time_module))"
      ],
      "metadata": {
        "id": "KsBHmrpAyuCV",
        "colab": {
          "base_uri": "https://localhost:8080/"
        },
        "outputId": "b43fa95d-4918-407e-ffe5-a57edcee5542"
      },
      "execution_count": 23,
      "outputs": [
        {
          "output_type": "stream",
          "name": "stdout",
          "text": [
            "Use /tmp/tmpfq3x1bss as temporary training directory\n",
            "Reading training dataset...\n",
            "Training dataset read in 0:00:07.105113. Found 220540 examples.\n",
            "Training model...\n",
            "Model trained in 0:01:57.882123\n",
            "Compiling model...\n"
          ]
        },
        {
          "output_type": "stream",
          "name": "stderr",
          "text": [
            "WARNING:tensorflow:AutoGraph could not transform <function simple_ml_inference_op_with_handle at 0x7f4286de83a0> and will run it as-is.\n",
            "Please report this to the TensorFlow team. When filing the bug, set the verbosity to 10 (on Linux, `export AUTOGRAPH_VERBOSITY=10`) and attach the full output.\n",
            "Cause: could not get source code\n",
            "To silence this warning, decorate the function with @tf.autograph.experimental.do_not_convert\n"
          ]
        },
        {
          "output_type": "stream",
          "name": "stdout",
          "text": [
            "WARNING: AutoGraph could not transform <function simple_ml_inference_op_with_handle at 0x7f4286de83a0> and will run it as-is.\n",
            "Please report this to the TensorFlow team. When filing the bug, set the verbosity to 10 (on Linux, `export AUTOGRAPH_VERBOSITY=10`) and attach the full output.\n",
            "Cause: could not get source code\n",
            "To silence this warning, decorate the function with @tf.autograph.experimental.do_not_convert\n",
            "Model compiled.\n",
            "Total time for model fitting: 0:02:07.160438\n"
          ]
        }
      ]
    },
    {
      "cell_type": "code",
      "source": [
        "RF_model.evaluate(x=array_features_train, y=array_target_train)"
      ],
      "metadata": {
        "colab": {
          "base_uri": "https://localhost:8080/"
        },
        "id": "j66kkFcliA4s",
        "outputId": "d7f39927-5c3f-4124-cb5f-36856799a053"
      },
      "execution_count": 24,
      "outputs": [
        {
          "output_type": "stream",
          "name": "stdout",
          "text": [
            "6892/6892 [==============================] - 36s 5ms/step - loss: 0.0000e+00 - rmse: 490.8203\n"
          ]
        },
        {
          "output_type": "execute_result",
          "data": {
            "text/plain": [
              "[0.0, 490.82025146484375]"
            ]
          },
          "metadata": {},
          "execution_count": 24
        }
      ]
    },
    {
      "cell_type": "code",
      "source": [
        "RF_model.summary()"
      ],
      "metadata": {
        "colab": {
          "base_uri": "https://localhost:8080/"
        },
        "id": "axo6CeyqiGeL",
        "outputId": "efed78d9-bc82-42a7-9fc0-32221dc8f412"
      },
      "execution_count": 25,
      "outputs": [
        {
          "output_type": "stream",
          "name": "stdout",
          "text": [
            "Model: \"random_forest_model\"\n",
            "_________________________________________________________________\n",
            " Layer (type)                Output Shape              Param #   \n",
            "=================================================================\n",
            "=================================================================\n",
            "Total params: 1\n",
            "Trainable params: 0\n",
            "Non-trainable params: 1\n",
            "_________________________________________________________________\n",
            "Type: \"RANDOM_FOREST\"\n",
            "Task: REGRESSION\n",
            "Label: \"__LABEL\"\n",
            "\n",
            "Input Features (27):\n",
            "\tdata:0.0\n",
            "\tdata:0.1\n",
            "\tdata:0.10\n",
            "\tdata:0.11\n",
            "\tdata:0.12\n",
            "\tdata:0.13\n",
            "\tdata:0.14\n",
            "\tdata:0.15\n",
            "\tdata:0.16\n",
            "\tdata:0.17\n",
            "\tdata:0.18\n",
            "\tdata:0.19\n",
            "\tdata:0.2\n",
            "\tdata:0.20\n",
            "\tdata:0.21\n",
            "\tdata:0.22\n",
            "\tdata:0.23\n",
            "\tdata:0.24\n",
            "\tdata:0.25\n",
            "\tdata:0.26\n",
            "\tdata:0.3\n",
            "\tdata:0.4\n",
            "\tdata:0.5\n",
            "\tdata:0.6\n",
            "\tdata:0.7\n",
            "\tdata:0.8\n",
            "\tdata:0.9\n",
            "\n",
            "No weights\n",
            "\n",
            "Variable Importance: INV_MEAN_MIN_DEPTH:\n",
            "    1.  \"data:0.4\"  0.260161 ################\n",
            "    2.  \"data:0.0\"  0.221954 ############\n",
            "    3.  \"data:0.3\"  0.164208 ########\n",
            "    4. \"data:0.22\"  0.123064 ####\n",
            "    5.  \"data:0.5\"  0.110823 ###\n",
            "    6. \"data:0.17\"  0.090277 #\n",
            "    7. \"data:0.21\"  0.090155 #\n",
            "    8. \"data:0.18\"  0.089286 #\n",
            "    9. \"data:0.12\"  0.081529 #\n",
            "   10.  \"data:0.2\"  0.081387 #\n",
            "   11. \"data:0.26\"  0.077696 \n",
            "   12. \"data:0.25\"  0.076948 \n",
            "   13. \"data:0.16\"  0.076742 \n",
            "   14.  \"data:0.1\"  0.074692 \n",
            "   15. \"data:0.13\"  0.074521 \n",
            "   16. \"data:0.24\"  0.074193 \n",
            "   17. \"data:0.23\"  0.073949 \n",
            "   18.  \"data:0.9\"  0.073653 \n",
            "   19. \"data:0.15\"  0.073290 \n",
            "   20. \"data:0.19\"  0.072904 \n",
            "   21. \"data:0.20\"  0.071430 \n",
            "   22. \"data:0.14\"  0.070812 \n",
            "   23. \"data:0.10\"  0.068503 \n",
            "   24. \"data:0.11\"  0.067944 \n",
            "   25.  \"data:0.6\"  0.067892 \n",
            "   26.  \"data:0.7\"  0.067323 \n",
            "   27.  \"data:0.8\"  0.067155 \n",
            "\n",
            "Variable Importance: NUM_AS_ROOT:\n",
            "    1.  \"data:0.4\" 119.000000 ################\n",
            "    2.  \"data:0.3\" 65.000000 ########\n",
            "    3.  \"data:0.0\" 48.000000 ######\n",
            "    4.  \"data:0.5\" 30.000000 ###\n",
            "    5.  \"data:0.2\" 21.000000 ##\n",
            "    6. \"data:0.22\"  8.000000 \n",
            "    7.  \"data:0.9\"  5.000000 \n",
            "    8. \"data:0.17\"  2.000000 \n",
            "    9. \"data:0.10\"  1.000000 \n",
            "   10. \"data:0.25\"  1.000000 \n",
            "\n",
            "Variable Importance: NUM_NODES:\n",
            "    1.  \"data:0.4\" 303564.000000 ################\n",
            "    2.  \"data:0.3\" 293960.000000 ###############\n",
            "    3.  \"data:0.1\" 261278.000000 #############\n",
            "    4.  \"data:0.5\" 231688.000000 ############\n",
            "    5.  \"data:0.0\" 178609.000000 #########\n",
            "    6.  \"data:0.2\" 172229.000000 #########\n",
            "    7.  \"data:0.9\" 41442.000000 ##\n",
            "    8.  \"data:0.6\" 34404.000000 #\n",
            "    9. \"data:0.10\" 31965.000000 #\n",
            "   10. \"data:0.16\" 31228.000000 #\n",
            "   11. \"data:0.12\" 31015.000000 #\n",
            "   12. \"data:0.11\" 30707.000000 #\n",
            "   13. \"data:0.13\" 28637.000000 #\n",
            "   14. \"data:0.17\" 26781.000000 #\n",
            "   15. \"data:0.15\" 24236.000000 #\n",
            "   16. \"data:0.18\" 22283.000000 #\n",
            "   17. \"data:0.14\" 21954.000000 #\n",
            "   18. \"data:0.24\" 20218.000000 \n",
            "   19. \"data:0.21\" 17794.000000 \n",
            "   20. \"data:0.23\" 15809.000000 \n",
            "   21.  \"data:0.8\" 11542.000000 \n",
            "   22. \"data:0.26\" 10780.000000 \n",
            "   23. \"data:0.22\" 10301.000000 \n",
            "   24. \"data:0.25\" 9109.000000 \n",
            "   25. \"data:0.19\" 6848.000000 \n",
            "   26. \"data:0.20\" 6732.000000 \n",
            "   27.  \"data:0.7\" 2651.000000 \n",
            "\n",
            "Variable Importance: SUM_SCORE:\n",
            "    1.  \"data:0.4\" 384549513288653.812500 ################\n",
            "    2.  \"data:0.0\" 260009667824229.843750 ##########\n",
            "    3.  \"data:0.3\" 223771724005046.718750 #########\n",
            "    4.  \"data:0.5\" 116915145194162.859375 ####\n",
            "    5. \"data:0.22\" 14559773639606.337891 \n",
            "    6. \"data:0.21\" 8067556696428.369141 \n",
            "    7. \"data:0.18\" 7915180559992.022461 \n",
            "    8. \"data:0.17\" 6598319437230.500977 \n",
            "    9. \"data:0.26\" 5294010018503.057617 \n",
            "   10. \"data:0.16\" 4437432187369.720703 \n",
            "   11. \"data:0.19\" 3503019729822.131836 \n",
            "   12. \"data:0.24\" 3191980075562.040527 \n",
            "   13.  \"data:0.2\" 3182889066461.473633 \n",
            "   14. \"data:0.23\" 2956695518255.394531 \n",
            "   15. \"data:0.15\" 2602905877786.559570 \n",
            "   16. \"data:0.25\" 2592905313285.437012 \n",
            "   17. \"data:0.12\" 1777077867488.833740 \n",
            "   18. \"data:0.20\" 1593534228987.714111 \n",
            "   19. \"data:0.13\" 1450098188230.533203 \n",
            "   20. \"data:0.14\" 1407929810970.474365 \n",
            "   21.  \"data:0.1\" 1206626041000.272217 \n",
            "   22.  \"data:0.9\" 932943911658.633179 \n",
            "   23. \"data:0.10\" 215137099200.955688 \n",
            "   24.  \"data:0.6\" 188103484922.051605 \n",
            "   25. \"data:0.11\" 95140994354.784225 \n",
            "   26.  \"data:0.8\" 59304183049.706810 \n",
            "   27.  \"data:0.7\" 56375350726.921654 \n",
            "\n",
            "\n",
            "\n",
            "Out-of-bag evaluation: rmse:579.015\n",
            "Number of trees: 300\n",
            "Total number of nodes: 3755828\n",
            "\n",
            "Number of nodes by tree:\n",
            "Count: 300 Average: 12519.4 StdDev: 692.084\n",
            "Min: 10537 Max: 14463 Ignored: 0\n",
            "----------------------------------------------\n",
            "[ 10537, 10733)  3   1.00%   1.00% #\n",
            "[ 10733, 10929)  2   0.67%   1.67% #\n",
            "[ 10929, 11126)  1   0.33%   2.00%\n",
            "[ 11126, 11322)  5   1.67%   3.67% #\n",
            "[ 11322, 11518) 14   4.67%   8.33% ####\n",
            "[ 11518, 11715) 10   3.33%  11.67% ###\n",
            "[ 11715, 11911) 17   5.67%  17.33% #####\n",
            "[ 11911, 12107) 29   9.67%  27.00% ########\n",
            "[ 12107, 12304) 37  12.33%  39.33% ##########\n",
            "[ 12304, 12500) 32  10.67%  50.00% #########\n",
            "[ 12500, 12696) 30  10.00%  60.00% ########\n",
            "[ 12696, 12893) 30  10.00%  70.00% ########\n",
            "[ 12893, 13089) 26   8.67%  78.67% #######\n",
            "[ 13089, 13285) 17   5.67%  84.33% #####\n",
            "[ 13285, 13482) 19   6.33%  90.67% #####\n",
            "[ 13482, 13678) 15   5.00%  95.67% ####\n",
            "[ 13678, 13874)  6   2.00%  97.67% ##\n",
            "[ 13874, 14071)  6   2.00%  99.67% ##\n",
            "[ 14071, 14267)  0   0.00%  99.67%\n",
            "[ 14267, 14463]  1   0.33% 100.00%\n",
            "\n",
            "Depth by leafs:\n",
            "Count: 1.87806e+06 Average: 13.9763 StdDev: 1.50264\n",
            "Min: 4 Max: 15 Ignored: 0\n",
            "----------------------------------------------\n",
            "[  4,  5)          13   0.00%   0.00%\n",
            "[  5,  6)          91   0.00%   0.01%\n",
            "[  6,  7)         614   0.03%   0.04%\n",
            "[  7,  8)        2601   0.14%   0.18%\n",
            "[  8,  9)        8234   0.44%   0.62%\n",
            "[  9, 10)       20371   1.08%   1.70%\n",
            "[ 10, 11)       43495   2.32%   4.02%\n",
            "[ 11, 12)       82186   4.38%   8.39% #\n",
            "[ 12, 13)      139618   7.43%  15.83% #\n",
            "[ 13, 14)      217877  11.60%  27.43% ##\n",
            "[ 14, 15)      314440  16.74%  44.17% ###\n",
            "[ 15, 15] 1.04852e+06  55.83% 100.00% ##########\n",
            "\n",
            "Number of training obs by leaf:\n",
            "Count: 1.87806e+06 Average: 35.2288 StdDev: 157.011\n",
            "Min: 5 Max: 11342 Ignored: 0\n",
            "----------------------------------------------\n",
            "[     5,   571) 1.8628e+06  99.19%  99.19% ##########\n",
            "[   571,  1138)       9956   0.53%  99.72%\n",
            "[  1138,  1705)       2660   0.14%  99.86%\n",
            "[  1705,  2272)       1048   0.06%  99.91%\n",
            "[  2272,  2839)        614   0.03%  99.95%\n",
            "[  2839,  3406)        292   0.02%  99.96%\n",
            "[  3406,  3973)        184   0.01%  99.97%\n",
            "[  3973,  4540)        144   0.01%  99.98%\n",
            "[  4540,  5107)        111   0.01%  99.99%\n",
            "[  5107,  5674)         84   0.00%  99.99%\n",
            "[  5674,  6240)         46   0.00%  99.99%\n",
            "[  6240,  6807)         38   0.00% 100.00%\n",
            "[  6807,  7374)         34   0.00% 100.00%\n",
            "[  7374,  7941)         12   0.00% 100.00%\n",
            "[  7941,  8508)          9   0.00% 100.00%\n",
            "[  8508,  9075)         15   0.00% 100.00%\n",
            "[  9075,  9642)         10   0.00% 100.00%\n",
            "[  9642, 10209)          4   0.00% 100.00%\n",
            "[ 10209, 10776)          3   0.00% 100.00%\n",
            "[ 10776, 11342]          3   0.00% 100.00%\n",
            "\n",
            "Attribute in nodes:\n",
            "\t303564 : data:0.4 [NUMERICAL]\n",
            "\t293960 : data:0.3 [NUMERICAL]\n",
            "\t261278 : data:0.1 [NUMERICAL]\n",
            "\t231688 : data:0.5 [NUMERICAL]\n",
            "\t178609 : data:0.0 [NUMERICAL]\n",
            "\t172229 : data:0.2 [NUMERICAL]\n",
            "\t41442 : data:0.9 [NUMERICAL]\n",
            "\t34404 : data:0.6 [NUMERICAL]\n",
            "\t31965 : data:0.10 [NUMERICAL]\n",
            "\t31228 : data:0.16 [NUMERICAL]\n",
            "\t31015 : data:0.12 [NUMERICAL]\n",
            "\t30707 : data:0.11 [NUMERICAL]\n",
            "\t28637 : data:0.13 [NUMERICAL]\n",
            "\t26781 : data:0.17 [NUMERICAL]\n",
            "\t24236 : data:0.15 [NUMERICAL]\n",
            "\t22283 : data:0.18 [NUMERICAL]\n",
            "\t21954 : data:0.14 [NUMERICAL]\n",
            "\t20218 : data:0.24 [NUMERICAL]\n",
            "\t17794 : data:0.21 [NUMERICAL]\n",
            "\t15809 : data:0.23 [NUMERICAL]\n",
            "\t11542 : data:0.8 [NUMERICAL]\n",
            "\t10780 : data:0.26 [NUMERICAL]\n",
            "\t10301 : data:0.22 [NUMERICAL]\n",
            "\t9109 : data:0.25 [NUMERICAL]\n",
            "\t6848 : data:0.19 [NUMERICAL]\n",
            "\t6732 : data:0.20 [NUMERICAL]\n",
            "\t2651 : data:0.7 [NUMERICAL]\n",
            "\n",
            "Attribute in nodes with depth <= 0:\n",
            "\t119 : data:0.4 [NUMERICAL]\n",
            "\t65 : data:0.3 [NUMERICAL]\n",
            "\t48 : data:0.0 [NUMERICAL]\n",
            "\t30 : data:0.5 [NUMERICAL]\n",
            "\t21 : data:0.2 [NUMERICAL]\n",
            "\t8 : data:0.22 [NUMERICAL]\n",
            "\t5 : data:0.9 [NUMERICAL]\n",
            "\t2 : data:0.17 [NUMERICAL]\n",
            "\t1 : data:0.25 [NUMERICAL]\n",
            "\t1 : data:0.10 [NUMERICAL]\n",
            "\n",
            "Attribute in nodes with depth <= 1:\n",
            "\t271 : data:0.4 [NUMERICAL]\n",
            "\t248 : data:0.0 [NUMERICAL]\n",
            "\t161 : data:0.3 [NUMERICAL]\n",
            "\t99 : data:0.5 [NUMERICAL]\n",
            "\t39 : data:0.2 [NUMERICAL]\n",
            "\t14 : data:0.22 [NUMERICAL]\n",
            "\t13 : data:0.9 [NUMERICAL]\n",
            "\t11 : data:0.25 [NUMERICAL]\n",
            "\t10 : data:0.19 [NUMERICAL]\n",
            "\t10 : data:0.18 [NUMERICAL]\n",
            "\t8 : data:0.13 [NUMERICAL]\n",
            "\t5 : data:0.17 [NUMERICAL]\n",
            "\t4 : data:0.1 [NUMERICAL]\n",
            "\t3 : data:0.14 [NUMERICAL]\n",
            "\t2 : data:0.10 [NUMERICAL]\n",
            "\t1 : data:0.16 [NUMERICAL]\n",
            "\t1 : data:0.15 [NUMERICAL]\n",
            "\n",
            "Attribute in nodes with depth <= 2:\n",
            "\t616 : data:0.4 [NUMERICAL]\n",
            "\t582 : data:0.0 [NUMERICAL]\n",
            "\t424 : data:0.3 [NUMERICAL]\n",
            "\t198 : data:0.5 [NUMERICAL]\n",
            "\t57 : data:0.2 [NUMERICAL]\n",
            "\t46 : data:0.22 [NUMERICAL]\n",
            "\t32 : data:0.18 [NUMERICAL]\n",
            "\t21 : data:0.25 [NUMERICAL]\n",
            "\t20 : data:0.19 [NUMERICAL]\n",
            "\t16 : data:0.9 [NUMERICAL]\n",
            "\t14 : data:0.26 [NUMERICAL]\n",
            "\t14 : data:0.1 [NUMERICAL]\n",
            "\t10 : data:0.13 [NUMERICAL]\n",
            "\t8 : data:0.17 [NUMERICAL]\n",
            "\t7 : data:0.16 [NUMERICAL]\n",
            "\t7 : data:0.14 [NUMERICAL]\n",
            "\t6 : data:0.7 [NUMERICAL]\n",
            "\t5 : data:0.6 [NUMERICAL]\n",
            "\t5 : data:0.15 [NUMERICAL]\n",
            "\t4 : data:0.23 [NUMERICAL]\n",
            "\t3 : data:0.10 [NUMERICAL]\n",
            "\t2 : data:0.24 [NUMERICAL]\n",
            "\t2 : data:0.20 [NUMERICAL]\n",
            "\t1 : data:0.8 [NUMERICAL]\n",
            "\n",
            "Attribute in nodes with depth <= 3:\n",
            "\t1028 : data:0.4 [NUMERICAL]\n",
            "\t972 : data:0.0 [NUMERICAL]\n",
            "\t689 : data:0.3 [NUMERICAL]\n",
            "\t459 : data:0.22 [NUMERICAL]\n",
            "\t325 : data:0.5 [NUMERICAL]\n",
            "\t229 : data:0.18 [NUMERICAL]\n",
            "\t126 : data:0.26 [NUMERICAL]\n",
            "\t105 : data:0.17 [NUMERICAL]\n",
            "\t97 : data:0.15 [NUMERICAL]\n",
            "\t90 : data:0.19 [NUMERICAL]\n",
            "\t62 : data:0.25 [NUMERICAL]\n",
            "\t61 : data:0.2 [NUMERICAL]\n",
            "\t44 : data:0.23 [NUMERICAL]\n",
            "\t41 : data:0.24 [NUMERICAL]\n",
            "\t27 : data:0.9 [NUMERICAL]\n",
            "\t27 : data:0.1 [NUMERICAL]\n",
            "\t22 : data:0.16 [NUMERICAL]\n",
            "\t20 : data:0.21 [NUMERICAL]\n",
            "\t17 : data:0.20 [NUMERICAL]\n",
            "\t14 : data:0.14 [NUMERICAL]\n",
            "\t14 : data:0.13 [NUMERICAL]\n",
            "\t11 : data:0.7 [NUMERICAL]\n",
            "\t9 : data:0.6 [NUMERICAL]\n",
            "\t5 : data:0.12 [NUMERICAL]\n",
            "\t5 : data:0.10 [NUMERICAL]\n",
            "\t1 : data:0.8 [NUMERICAL]\n",
            "\n",
            "Attribute in nodes with depth <= 5:\n",
            "\t3024 : data:0.0 [NUMERICAL]\n",
            "\t2886 : data:0.4 [NUMERICAL]\n",
            "\t2299 : data:0.22 [NUMERICAL]\n",
            "\t1922 : data:0.3 [NUMERICAL]\n",
            "\t1289 : data:0.18 [NUMERICAL]\n",
            "\t1082 : data:0.5 [NUMERICAL]\n",
            "\t882 : data:0.17 [NUMERICAL]\n",
            "\t827 : data:0.21 [NUMERICAL]\n",
            "\t613 : data:0.26 [NUMERICAL]\n",
            "\t535 : data:0.12 [NUMERICAL]\n",
            "\t530 : data:0.19 [NUMERICAL]\n",
            "\t404 : data:0.25 [NUMERICAL]\n",
            "\t383 : data:0.23 [NUMERICAL]\n",
            "\t362 : data:0.15 [NUMERICAL]\n",
            "\t293 : data:0.24 [NUMERICAL]\n",
            "\t244 : data:0.16 [NUMERICAL]\n",
            "\t231 : data:0.1 [NUMERICAL]\n",
            "\t216 : data:0.13 [NUMERICAL]\n",
            "\t173 : data:0.20 [NUMERICAL]\n",
            "\t163 : data:0.14 [NUMERICAL]\n",
            "\t130 : data:0.2 [NUMERICAL]\n",
            "\t120 : data:0.9 [NUMERICAL]\n",
            "\t62 : data:0.6 [NUMERICAL]\n",
            "\t49 : data:0.7 [NUMERICAL]\n",
            "\t30 : data:0.11 [NUMERICAL]\n",
            "\t18 : data:0.10 [NUMERICAL]\n",
            "\t3 : data:0.8 [NUMERICAL]\n",
            "\n",
            "Condition type in nodes:\n",
            "\t1877764 : HigherCondition\n",
            "Condition type in nodes with depth <= 0:\n",
            "\t300 : HigherCondition\n",
            "Condition type in nodes with depth <= 1:\n",
            "\t900 : HigherCondition\n",
            "Condition type in nodes with depth <= 2:\n",
            "\t2100 : HigherCondition\n",
            "Condition type in nodes with depth <= 3:\n",
            "\t4500 : HigherCondition\n",
            "Condition type in nodes with depth <= 5:\n",
            "\t18770 : HigherCondition\n",
            "Node format: NOT_SET\n",
            "\n",
            "Training OOB:\n",
            "\ttrees: 1, Out-of-bag evaluation: rmse:689.571\n",
            "\ttrees: 11, Out-of-bag evaluation: rmse:610.497\n",
            "\ttrees: 21, Out-of-bag evaluation: rmse:592.757\n",
            "\ttrees: 31, Out-of-bag evaluation: rmse:587.862\n",
            "\ttrees: 41, Out-of-bag evaluation: rmse:585.343\n",
            "\ttrees: 51, Out-of-bag evaluation: rmse:584.046\n",
            "\ttrees: 61, Out-of-bag evaluation: rmse:583.147\n",
            "\ttrees: 71, Out-of-bag evaluation: rmse:582.426\n",
            "\ttrees: 81, Out-of-bag evaluation: rmse:581.794\n",
            "\ttrees: 91, Out-of-bag evaluation: rmse:581.451\n",
            "\ttrees: 101, Out-of-bag evaluation: rmse:581.29\n",
            "\ttrees: 111, Out-of-bag evaluation: rmse:581.049\n",
            "\ttrees: 121, Out-of-bag evaluation: rmse:580.72\n",
            "\ttrees: 131, Out-of-bag evaluation: rmse:580.408\n",
            "\ttrees: 141, Out-of-bag evaluation: rmse:580.227\n",
            "\ttrees: 151, Out-of-bag evaluation: rmse:580.109\n",
            "\ttrees: 161, Out-of-bag evaluation: rmse:580.045\n",
            "\ttrees: 171, Out-of-bag evaluation: rmse:579.936\n",
            "\ttrees: 181, Out-of-bag evaluation: rmse:579.77\n",
            "\ttrees: 191, Out-of-bag evaluation: rmse:579.761\n",
            "\ttrees: 201, Out-of-bag evaluation: rmse:579.585\n",
            "\ttrees: 211, Out-of-bag evaluation: rmse:579.438\n",
            "\ttrees: 221, Out-of-bag evaluation: rmse:579.412\n",
            "\ttrees: 231, Out-of-bag evaluation: rmse:579.313\n",
            "\ttrees: 241, Out-of-bag evaluation: rmse:579.327\n",
            "\ttrees: 251, Out-of-bag evaluation: rmse:579.269\n",
            "\ttrees: 261, Out-of-bag evaluation: rmse:579.193\n",
            "\ttrees: 271, Out-of-bag evaluation: rmse:579.241\n",
            "\ttrees: 281, Out-of-bag evaluation: rmse:579.135\n",
            "\ttrees: 291, Out-of-bag evaluation: rmse:579.049\n",
            "\ttrees: 300, Out-of-bag evaluation: rmse:579.015\n",
            "\n"
          ]
        }
      ]
    },
    {
      "cell_type": "markdown",
      "metadata": {
        "id": "wa3Dfugd1U4P"
      },
      "source": [
        "### 4.c) Train and Evaluate the Decision Trees Model"
      ]
    },
    {
      "cell_type": "code",
      "execution_count": 26,
      "metadata": {
        "id": "H7WX-tIWVecQ",
        "outputId": "218968de-9731-4e8d-9ddb-c7a1403fa766",
        "colab": {
          "base_uri": "https://localhost:8080/"
        }
      },
      "outputs": [
        {
          "output_type": "stream",
          "name": "stdout",
          "text": [
            "Use /tmp/tmpwkoyifxv as temporary training directory\n",
            "Reading training dataset...\n",
            "Training dataset read in 0:00:01.917284. Found 220540 examples.\n",
            "Training model...\n",
            "Model trained in 0:00:01.596658\n",
            "Compiling model...\n",
            "Model compiled.\n",
            "Total time for model fitting: 0:00:04.186823\n"
          ]
        }
      ],
      "source": [
        "# Initialize the default model and get a baseline result\n",
        "start_time_module = datetime.now()\n",
        "tf.keras.utils.set_random_seed(RNG_SEED)\n",
        "CART_model = tfdf.keras.CartModel(task = tfdf.keras.Task.REGRESSION)\n",
        "CART_model.compile(metrics=DEFAULT_METRICS)\n",
        "CART_model.fit(x=array_features_train, y=array_target_train)\n",
        "print('Total time for model fitting:', (datetime.now() - start_time_module))"
      ]
    },
    {
      "cell_type": "code",
      "source": [
        "CART_model.evaluate(x=array_features_train, y=array_target_train)"
      ],
      "metadata": {
        "colab": {
          "base_uri": "https://localhost:8080/"
        },
        "id": "O7MicoO9iQYc",
        "outputId": "c41d03b5-e52c-495a-ac47-2065250145fd"
      },
      "execution_count": 27,
      "outputs": [
        {
          "output_type": "stream",
          "name": "stdout",
          "text": [
            "6892/6892 [==============================] - 11s 2ms/step - loss: 0.0000e+00 - rmse: 538.4943\n"
          ]
        },
        {
          "output_type": "execute_result",
          "data": {
            "text/plain": [
              "[0.0, 538.4942626953125]"
            ]
          },
          "metadata": {},
          "execution_count": 27
        }
      ]
    },
    {
      "cell_type": "code",
      "source": [
        "CART_model.summary()"
      ],
      "metadata": {
        "colab": {
          "base_uri": "https://localhost:8080/"
        },
        "id": "JDN2Y2DjiQKj",
        "outputId": "7eef4c68-f469-4d8b-f43c-01f679154a23"
      },
      "execution_count": 28,
      "outputs": [
        {
          "output_type": "stream",
          "name": "stdout",
          "text": [
            "Model: \"cart_model\"\n",
            "_________________________________________________________________\n",
            " Layer (type)                Output Shape              Param #   \n",
            "=================================================================\n",
            "=================================================================\n",
            "Total params: 1\n",
            "Trainable params: 0\n",
            "Non-trainable params: 1\n",
            "_________________________________________________________________\n",
            "Type: \"RANDOM_FOREST\"\n",
            "Task: REGRESSION\n",
            "Label: \"__LABEL\"\n",
            "\n",
            "Input Features (27):\n",
            "\tdata:0.0\n",
            "\tdata:0.1\n",
            "\tdata:0.10\n",
            "\tdata:0.11\n",
            "\tdata:0.12\n",
            "\tdata:0.13\n",
            "\tdata:0.14\n",
            "\tdata:0.15\n",
            "\tdata:0.16\n",
            "\tdata:0.17\n",
            "\tdata:0.18\n",
            "\tdata:0.19\n",
            "\tdata:0.2\n",
            "\tdata:0.20\n",
            "\tdata:0.21\n",
            "\tdata:0.22\n",
            "\tdata:0.23\n",
            "\tdata:0.24\n",
            "\tdata:0.25\n",
            "\tdata:0.26\n",
            "\tdata:0.3\n",
            "\tdata:0.4\n",
            "\tdata:0.5\n",
            "\tdata:0.6\n",
            "\tdata:0.7\n",
            "\tdata:0.8\n",
            "\tdata:0.9\n",
            "\n",
            "No weights\n",
            "\n",
            "Variable Importance: INV_MEAN_MIN_DEPTH:\n",
            "    1.  \"data:0.4\"  1.000000 ################\n",
            "    2.  \"data:0.0\"  0.210361 ##\n",
            "    3.  \"data:0.3\"  0.197974 ##\n",
            "    4. \"data:0.25\"  0.118373 \n",
            "    5. \"data:0.16\"  0.111012 \n",
            "    6. \"data:0.22\"  0.100584 \n",
            "    7. \"data:0.17\"  0.094341 \n",
            "    8. \"data:0.18\"  0.090161 \n",
            "    9. \"data:0.26\"  0.086719 \n",
            "   10. \"data:0.21\"  0.086444 \n",
            "   11. \"data:0.24\"  0.083469 \n",
            "   12. \"data:0.12\"  0.080503 \n",
            "   13.  \"data:0.5\"  0.079996 \n",
            "   14. \"data:0.19\"  0.078564 \n",
            "   15. \"data:0.23\"  0.078216 \n",
            "   16.  \"data:0.9\"  0.077690 \n",
            "   17. \"data:0.20\"  0.077368 \n",
            "   18. \"data:0.14\"  0.077334 \n",
            "   19. \"data:0.15\"  0.076950 \n",
            "   20. \"data:0.13\"  0.075674 \n",
            "   21.  \"data:0.1\"  0.074374 \n",
            "   22.  \"data:0.2\"  0.072878 \n",
            "   23. \"data:0.10\"  0.071955 \n",
            "   24. \"data:0.11\"  0.071372 \n",
            "   25.  \"data:0.6\"  0.071261 \n",
            "   26.  \"data:0.8\"  0.071124 \n",
            "   27.  \"data:0.7\"  0.070912 \n",
            "\n",
            "Variable Importance: NUM_AS_ROOT:\n",
            "    1. \"data:0.4\"  1.000000 \n",
            "\n",
            "Variable Importance: NUM_NODES:\n",
            "    1.  \"data:0.4\" 380.000000 ################\n",
            "    2.  \"data:0.3\" 347.000000 ##############\n",
            "    3.  \"data:0.0\" 309.000000 ############\n",
            "    4.  \"data:0.5\" 276.000000 ###########\n",
            "    5.  \"data:0.1\" 247.000000 ##########\n",
            "    6.  \"data:0.2\" 147.000000 ######\n",
            "    7. \"data:0.17\" 87.000000 ###\n",
            "    8.  \"data:0.9\" 84.000000 ###\n",
            "    9. \"data:0.12\" 83.000000 ###\n",
            "   10. \"data:0.18\" 74.000000 ###\n",
            "   11. \"data:0.24\" 61.000000 ##\n",
            "   12. \"data:0.15\" 58.000000 ##\n",
            "   13. \"data:0.21\" 53.000000 ##\n",
            "   14. \"data:0.13\" 47.000000 #\n",
            "   15. \"data:0.14\" 45.000000 #\n",
            "   16. \"data:0.16\" 44.000000 #\n",
            "   17. \"data:0.10\" 42.000000 #\n",
            "   18. \"data:0.23\" 41.000000 #\n",
            "   19. \"data:0.22\" 38.000000 #\n",
            "   20. \"data:0.11\" 35.000000 #\n",
            "   21. \"data:0.26\" 32.000000 #\n",
            "   22.  \"data:0.6\" 32.000000 #\n",
            "   23. \"data:0.20\" 20.000000 \n",
            "   24. \"data:0.19\" 18.000000 \n",
            "   25.  \"data:0.8\" 10.000000 \n",
            "   26. \"data:0.25\"  6.000000 \n",
            "   27.  \"data:0.7\"  2.000000 \n",
            "\n",
            "Variable Importance: SUM_SCORE:\n",
            "    1.  \"data:0.4\" 2136242093300.294189 ################\n",
            "    2.  \"data:0.0\" 562578416375.407471 ####\n",
            "    3.  \"data:0.3\" 250505239975.578125 #\n",
            "    4. \"data:0.22\" 27665106214.300751 \n",
            "    5. \"data:0.18\" 25524278029.201172 \n",
            "    6. \"data:0.21\" 20615895984.056030 \n",
            "    7. \"data:0.17\" 19239807838.817688 \n",
            "    8. \"data:0.26\" 17462455261.710938 \n",
            "    9. \"data:0.23\" 17190510673.640747 \n",
            "   10. \"data:0.16\" 13885025105.968307 \n",
            "   11. \"data:0.24\" 11296778931.747314 \n",
            "   12. \"data:0.25\" 11206441632.282227 \n",
            "   13. \"data:0.19\" 8808156602.904297 \n",
            "   14. \"data:0.20\" 8250228495.728516 \n",
            "   15. \"data:0.12\" 5391017335.777161 \n",
            "   16. \"data:0.15\" 4746753761.797577 \n",
            "   17. \"data:0.13\" 4433036510.556946 \n",
            "   18. \"data:0.14\" 3821811789.916687 \n",
            "   19.  \"data:0.5\" 3044260017.834686 \n",
            "   20.  \"data:0.9\" 1295826049.873169 \n",
            "   21.  \"data:0.1\" 1246639683.860229 \n",
            "   22.  \"data:0.2\" 438873821.128601 \n",
            "   23. \"data:0.10\" 159455436.523895 \n",
            "   24.  \"data:0.6\" 96286202.117172 \n",
            "   25. \"data:0.11\" 64170025.311249 \n",
            "   26.  \"data:0.8\" 45326192.666656 \n",
            "   27.  \"data:0.7\" 5575247.746094 \n",
            "\n",
            "\n",
            "Cannot compute model self evaluation:This model does not support evaluation reports.\n",
            "\n",
            "Out-of-bag evaluation disabled.\n",
            "Number of trees: 1\n",
            "Total number of nodes: 5237\n",
            "\n",
            "Number of nodes by tree:\n",
            "Count: 1 Average: 5237 StdDev: 0\n",
            "Min: 5237 Max: 5237 Ignored: 0\n",
            "----------------------------------------------\n",
            "[ 5237, 5237] 1 100.00% 100.00% ##########\n",
            "\n",
            "Depth by leafs:\n",
            "Count: 2619 Average: 13.1096 StdDev: 1.91331\n",
            "Min: 5 Max: 15 Ignored: 0\n",
            "----------------------------------------------\n",
            "[  5,  6)   2   0.08%   0.08%\n",
            "[  6,  7)   3   0.11%   0.19%\n",
            "[  7,  8)  16   0.61%   0.80%\n",
            "[  8,  9)  45   1.72%   2.52% #\n",
            "[  9, 10)  73   2.79%   5.31% #\n",
            "[ 10, 11) 136   5.19%  10.50% ##\n",
            "[ 11, 12) 272  10.39%  20.89% ###\n",
            "[ 12, 13) 305  11.65%  32.53% ####\n",
            "[ 13, 14) 405  15.46%  48.00% #####\n",
            "[ 14, 15) 530  20.24%  68.23% ######\n",
            "[ 15, 15] 832  31.77% 100.00% ##########\n",
            "\n",
            "Number of training obs by leaf:\n",
            "Count: 2619 Average: 75.7621 StdDev: 240.588\n",
            "Min: 5 Max: 4897 Ignored: 0\n",
            "----------------------------------------------\n",
            "[    5,  249) 2455  93.74%  93.74% ##########\n",
            "[  249,  494)  100   3.82%  97.56%\n",
            "[  494,  738)   23   0.88%  98.43%\n",
            "[  738,  983)   18   0.69%  99.12%\n",
            "[  983, 1228)    6   0.23%  99.35%\n",
            "[ 1228, 1472)    3   0.11%  99.47%\n",
            "[ 1472, 1717)    1   0.04%  99.50%\n",
            "[ 1717, 1962)    2   0.08%  99.58%\n",
            "[ 1962, 2206)    3   0.11%  99.69%\n",
            "[ 2206, 2451)    1   0.04%  99.73%\n",
            "[ 2451, 2696)    2   0.08%  99.81%\n",
            "[ 2696, 2940)    1   0.04%  99.85%\n",
            "[ 2940, 3185)    0   0.00%  99.85%\n",
            "[ 3185, 3430)    1   0.04%  99.89%\n",
            "[ 3430, 3674)    1   0.04%  99.92%\n",
            "[ 3674, 3919)    1   0.04%  99.96%\n",
            "[ 3919, 4164)    0   0.00%  99.96%\n",
            "[ 4164, 4408)    0   0.00%  99.96%\n",
            "[ 4408, 4653)    0   0.00%  99.96%\n",
            "[ 4653, 4897]    1   0.04% 100.00%\n",
            "\n",
            "Attribute in nodes:\n",
            "\t380 : data:0.4 [NUMERICAL]\n",
            "\t347 : data:0.3 [NUMERICAL]\n",
            "\t309 : data:0.0 [NUMERICAL]\n",
            "\t276 : data:0.5 [NUMERICAL]\n",
            "\t247 : data:0.1 [NUMERICAL]\n",
            "\t147 : data:0.2 [NUMERICAL]\n",
            "\t87 : data:0.17 [NUMERICAL]\n",
            "\t84 : data:0.9 [NUMERICAL]\n",
            "\t83 : data:0.12 [NUMERICAL]\n",
            "\t74 : data:0.18 [NUMERICAL]\n",
            "\t61 : data:0.24 [NUMERICAL]\n",
            "\t58 : data:0.15 [NUMERICAL]\n",
            "\t53 : data:0.21 [NUMERICAL]\n",
            "\t47 : data:0.13 [NUMERICAL]\n",
            "\t45 : data:0.14 [NUMERICAL]\n",
            "\t44 : data:0.16 [NUMERICAL]\n",
            "\t42 : data:0.10 [NUMERICAL]\n",
            "\t41 : data:0.23 [NUMERICAL]\n",
            "\t38 : data:0.22 [NUMERICAL]\n",
            "\t35 : data:0.11 [NUMERICAL]\n",
            "\t32 : data:0.6 [NUMERICAL]\n",
            "\t32 : data:0.26 [NUMERICAL]\n",
            "\t20 : data:0.20 [NUMERICAL]\n",
            "\t18 : data:0.19 [NUMERICAL]\n",
            "\t10 : data:0.8 [NUMERICAL]\n",
            "\t6 : data:0.25 [NUMERICAL]\n",
            "\t2 : data:0.7 [NUMERICAL]\n",
            "\n",
            "Attribute in nodes with depth <= 0:\n",
            "\t1 : data:0.4 [NUMERICAL]\n",
            "\n",
            "Attribute in nodes with depth <= 1:\n",
            "\t1 : data:0.4 [NUMERICAL]\n",
            "\t1 : data:0.3 [NUMERICAL]\n",
            "\t1 : data:0.0 [NUMERICAL]\n",
            "\n",
            "Attribute in nodes with depth <= 2:\n",
            "\t3 : data:0.4 [NUMERICAL]\n",
            "\t2 : data:0.3 [NUMERICAL]\n",
            "\t1 : data:0.25 [NUMERICAL]\n",
            "\t1 : data:0.0 [NUMERICAL]\n",
            "\n",
            "Attribute in nodes with depth <= 3:\n",
            "\t4 : data:0.4 [NUMERICAL]\n",
            "\t3 : data:0.3 [NUMERICAL]\n",
            "\t2 : data:0.22 [NUMERICAL]\n",
            "\t2 : data:0.0 [NUMERICAL]\n",
            "\t1 : data:0.26 [NUMERICAL]\n",
            "\t1 : data:0.25 [NUMERICAL]\n",
            "\t1 : data:0.19 [NUMERICAL]\n",
            "\t1 : data:0.16 [NUMERICAL]\n",
            "\n",
            "Attribute in nodes with depth <= 5:\n",
            "\t10 : data:0.4 [NUMERICAL]\n",
            "\t8 : data:0.0 [NUMERICAL]\n",
            "\t7 : data:0.3 [NUMERICAL]\n",
            "\t5 : data:0.22 [NUMERICAL]\n",
            "\t5 : data:0.18 [NUMERICAL]\n",
            "\t4 : data:0.24 [NUMERICAL]\n",
            "\t3 : data:0.17 [NUMERICAL]\n",
            "\t3 : data:0.14 [NUMERICAL]\n",
            "\t2 : data:0.25 [NUMERICAL]\n",
            "\t2 : data:0.21 [NUMERICAL]\n",
            "\t2 : data:0.19 [NUMERICAL]\n",
            "\t2 : data:0.16 [NUMERICAL]\n",
            "\t2 : data:0.12 [NUMERICAL]\n",
            "\t1 : data:0.9 [NUMERICAL]\n",
            "\t1 : data:0.5 [NUMERICAL]\n",
            "\t1 : data:0.26 [NUMERICAL]\n",
            "\t1 : data:0.23 [NUMERICAL]\n",
            "\t1 : data:0.15 [NUMERICAL]\n",
            "\t1 : data:0.13 [NUMERICAL]\n",
            "\n",
            "Condition type in nodes:\n",
            "\t2618 : HigherCondition\n",
            "Condition type in nodes with depth <= 0:\n",
            "\t1 : HigherCondition\n",
            "Condition type in nodes with depth <= 1:\n",
            "\t3 : HigherCondition\n",
            "Condition type in nodes with depth <= 2:\n",
            "\t7 : HigherCondition\n",
            "Condition type in nodes with depth <= 3:\n",
            "\t15 : HigherCondition\n",
            "Condition type in nodes with depth <= 5:\n",
            "\t61 : HigherCondition\n",
            "Node format: NOT_SET\n",
            "Pruned nodes during training: 6060\n",
            "\n"
          ]
        }
      ]
    },
    {
      "cell_type": "markdown",
      "metadata": {
        "id": "zVCQJVv21m86"
      },
      "source": [
        "### 4.d) Train and Evaluate the Gradient Boosted Trees Model"
      ]
    },
    {
      "cell_type": "code",
      "execution_count": 29,
      "metadata": {
        "id": "e2PIupiqVecQ",
        "outputId": "9c4c5470-1d6e-4c45-ef2e-2d97e2a621da",
        "colab": {
          "base_uri": "https://localhost:8080/"
        }
      },
      "outputs": [
        {
          "output_type": "stream",
          "name": "stdout",
          "text": [
            "Use /tmp/tmp8mnuijlo as temporary training directory\n",
            "Reading training dataset...\n",
            "Training dataset read in 0:00:02.195204. Found 220540 examples.\n",
            "Training model...\n",
            "Model trained in 0:01:29.665530\n",
            "Compiling model...\n",
            "Model compiled.\n",
            "Total time for model fitting: 0:02:22.389648\n"
          ]
        }
      ],
      "source": [
        "# Initialize the default model and get a baseline result\n",
        "start_time_module = datetime.now()\n",
        "tf.keras.utils.set_random_seed(RNG_SEED)\n",
        "GBT_model = tfdf.keras.GradientBoostedTreesModel(task = tfdf.keras.Task.REGRESSION)\n",
        "GBT_model.compile(metrics=DEFAULT_METRICS)\n",
        "GBT_model.fit(x=array_features_train, y=array_target_train)\n",
        "print('Total time for model fitting:', (datetime.now() - start_time_module))"
      ]
    },
    {
      "cell_type": "code",
      "source": [
        "GBT_model.evaluate(x=array_features_train, y=array_target_train)"
      ],
      "metadata": {
        "colab": {
          "base_uri": "https://localhost:8080/"
        },
        "id": "mMCsZSSbieC0",
        "outputId": "c3e78453-5e58-49f9-95e0-c3f7bd40ffa7"
      },
      "execution_count": 30,
      "outputs": [
        {
          "output_type": "stream",
          "name": "stdout",
          "text": [
            "6892/6892 [==============================] - 12s 2ms/step - loss: 0.0000e+00 - rmse: 541.0170\n"
          ]
        },
        {
          "output_type": "execute_result",
          "data": {
            "text/plain": [
              "[0.0, 541.0170288085938]"
            ]
          },
          "metadata": {},
          "execution_count": 30
        }
      ]
    },
    {
      "cell_type": "code",
      "source": [
        "GBT_model.summary()"
      ],
      "metadata": {
        "colab": {
          "base_uri": "https://localhost:8080/"
        },
        "id": "PfeZXQlEid6E",
        "outputId": "9e83531d-263e-4820-ed09-fc578d14fb9e"
      },
      "execution_count": 31,
      "outputs": [
        {
          "output_type": "stream",
          "name": "stdout",
          "text": [
            "Model: \"gradient_boosted_trees_model\"\n",
            "_________________________________________________________________\n",
            " Layer (type)                Output Shape              Param #   \n",
            "=================================================================\n",
            "=================================================================\n",
            "Total params: 1\n",
            "Trainable params: 0\n",
            "Non-trainable params: 1\n",
            "_________________________________________________________________\n",
            "Type: \"GRADIENT_BOOSTED_TREES\"\n",
            "Task: REGRESSION\n",
            "Label: \"__LABEL\"\n",
            "\n",
            "Input Features (27):\n",
            "\tdata:0.0\n",
            "\tdata:0.1\n",
            "\tdata:0.10\n",
            "\tdata:0.11\n",
            "\tdata:0.12\n",
            "\tdata:0.13\n",
            "\tdata:0.14\n",
            "\tdata:0.15\n",
            "\tdata:0.16\n",
            "\tdata:0.17\n",
            "\tdata:0.18\n",
            "\tdata:0.19\n",
            "\tdata:0.2\n",
            "\tdata:0.20\n",
            "\tdata:0.21\n",
            "\tdata:0.22\n",
            "\tdata:0.23\n",
            "\tdata:0.24\n",
            "\tdata:0.25\n",
            "\tdata:0.26\n",
            "\tdata:0.3\n",
            "\tdata:0.4\n",
            "\tdata:0.5\n",
            "\tdata:0.6\n",
            "\tdata:0.7\n",
            "\tdata:0.8\n",
            "\tdata:0.9\n",
            "\n",
            "No weights\n",
            "\n",
            "Variable Importance: INV_MEAN_MIN_DEPTH:\n",
            "    1.  \"data:0.4\"  0.255592 ################\n",
            "    2.  \"data:0.0\"  0.226486 ##########\n",
            "    3.  \"data:0.3\"  0.225810 ##########\n",
            "    4.  \"data:0.5\"  0.219134 #########\n",
            "    5.  \"data:0.1\"  0.199039 #####\n",
            "    6.  \"data:0.2\"  0.192780 ####\n",
            "    7. \"data:0.12\"  0.186530 ##\n",
            "    8. \"data:0.17\"  0.186006 ##\n",
            "    9. \"data:0.19\"  0.185060 ##\n",
            "   10. \"data:0.20\"  0.182800 ##\n",
            "   11. \"data:0.25\"  0.182784 ##\n",
            "   12. \"data:0.18\"  0.182528 ##\n",
            "   13. \"data:0.22\"  0.179465 #\n",
            "   14.  \"data:0.9\"  0.178455 #\n",
            "   15. \"data:0.23\"  0.176442 #\n",
            "   16. \"data:0.16\"  0.175926 \n",
            "   17. \"data:0.13\"  0.175879 \n",
            "   18.  \"data:0.8\"  0.175779 \n",
            "   19. \"data:0.21\"  0.175444 \n",
            "   20. \"data:0.26\"  0.175383 \n",
            "   21. \"data:0.14\"  0.174776 \n",
            "   22. \"data:0.24\"  0.174690 \n",
            "   23.  \"data:0.6\"  0.174042 \n",
            "   24. \"data:0.15\"  0.173835 \n",
            "   25. \"data:0.10\"  0.172238 \n",
            "   26.  \"data:0.7\"  0.172065 \n",
            "   27. \"data:0.11\"  0.170955 \n",
            "\n",
            "Variable Importance: NUM_AS_ROOT:\n",
            "    1.  \"data:0.4\" 38.000000 ################\n",
            "    2.  \"data:0.0\" 33.000000 #############\n",
            "    3.  \"data:0.1\" 27.000000 ###########\n",
            "    4.  \"data:0.2\" 27.000000 ###########\n",
            "    5.  \"data:0.3\" 25.000000 ##########\n",
            "    6.  \"data:0.5\" 25.000000 ##########\n",
            "    7. \"data:0.12\" 24.000000 #########\n",
            "    8. \"data:0.19\" 19.000000 #######\n",
            "    9. \"data:0.25\" 18.000000 #######\n",
            "   10. \"data:0.17\" 17.000000 ######\n",
            "   11. \"data:0.20\" 16.000000 ######\n",
            "   12.  \"data:0.9\" 12.000000 ####\n",
            "   13.  \"data:0.8\" 10.000000 ###\n",
            "   14. \"data:0.18\"  6.000000 ##\n",
            "   15.  \"data:0.7\"  2.000000 \n",
            "   16. \"data:0.21\"  1.000000 \n",
            "\n",
            "Variable Importance: NUM_NODES:\n",
            "    1.  \"data:0.4\" 1236.000000 ################\n",
            "    2.  \"data:0.3\" 1048.000000 #############\n",
            "    3.  \"data:0.0\" 965.000000 ############\n",
            "    4.  \"data:0.5\" 941.000000 ############\n",
            "    5.  \"data:0.1\" 525.000000 ######\n",
            "    6.  \"data:0.2\" 347.000000 ####\n",
            "    7. \"data:0.22\" 339.000000 ####\n",
            "    8. \"data:0.17\" 228.000000 ##\n",
            "    9. \"data:0.16\" 224.000000 ##\n",
            "   10. \"data:0.18\" 224.000000 ##\n",
            "   11. \"data:0.24\" 192.000000 ##\n",
            "   12. \"data:0.21\" 186.000000 ##\n",
            "   13. \"data:0.14\" 185.000000 ##\n",
            "   14. \"data:0.13\" 168.000000 #\n",
            "   15. \"data:0.12\" 166.000000 #\n",
            "   16. \"data:0.23\" 165.000000 #\n",
            "   17.  \"data:0.6\" 151.000000 #\n",
            "   18. \"data:0.15\" 143.000000 #\n",
            "   19. \"data:0.26\" 137.000000 #\n",
            "   20. \"data:0.25\" 119.000000 #\n",
            "   21. \"data:0.20\" 106.000000 #\n",
            "   22. \"data:0.19\" 94.000000 \n",
            "   23.  \"data:0.9\" 82.000000 \n",
            "   24. \"data:0.10\" 80.000000 \n",
            "   25. \"data:0.11\" 55.000000 \n",
            "   26.  \"data:0.8\" 32.000000 \n",
            "   27.  \"data:0.7\" 18.000000 \n",
            "\n",
            "Variable Importance: SUM_SCORE:\n",
            "    1.  \"data:0.4\" 11047568796408.941406 ################\n",
            "    2.  \"data:0.0\" 3910423630874.942383 #####\n",
            "    3.  \"data:0.5\" 533239592122.226318 \n",
            "    4. \"data:0.22\" 259103673395.399292 \n",
            "    5. \"data:0.18\" 137597007545.352631 \n",
            "    6. \"data:0.21\" 132108551069.871078 \n",
            "    7.  \"data:0.3\" 116941584575.173782 \n",
            "    8. \"data:0.17\" 107777860064.767609 \n",
            "    9. \"data:0.26\" 88668348759.437836 \n",
            "   10. \"data:0.16\" 61822393479.387787 \n",
            "   11. \"data:0.19\" 53492286066.072098 \n",
            "   12. \"data:0.25\" 40746603281.687241 \n",
            "   13. \"data:0.23\" 33145446628.345776 \n",
            "   14. \"data:0.20\" 27870590875.184303 \n",
            "   15. \"data:0.12\" 21632386466.957386 \n",
            "   16. \"data:0.13\" 21294257289.259727 \n",
            "   17. \"data:0.14\" 16070213232.385361 \n",
            "   18. \"data:0.15\" 12680319180.731033 \n",
            "   19. \"data:0.24\" 11779774191.883163 \n",
            "   20.  \"data:0.9\" 7435194881.889912 \n",
            "   21.  \"data:0.1\" 5126517532.072078 \n",
            "   22.  \"data:0.2\" 3107622228.097216 \n",
            "   23.  \"data:0.6\" 1606719710.011406 \n",
            "   24. \"data:0.10\" 892679904.559216 \n",
            "   25.  \"data:0.7\" 469630937.514465 \n",
            "   26. \"data:0.11\" 426964189.259239 \n",
            "   27.  \"data:0.8\" 236065224.730198 \n",
            "\n",
            "\n",
            "\n",
            "Loss: SQUARED_ERROR\n",
            "Validation loss value: 570.807\n",
            "Number of trees per iteration: 1\n",
            "Node format: NOT_SET\n",
            "Number of trees: 300\n",
            "Total number of nodes: 16612\n",
            "\n",
            "Number of nodes by tree:\n",
            "Count: 300 Average: 55.3733 StdDev: 9.16628\n",
            "Min: 19 Max: 63 Ignored: 0\n",
            "----------------------------------------------\n",
            "[ 19, 21)   3   1.00%   1.00%\n",
            "[ 21, 23)   1   0.33%   1.33%\n",
            "[ 23, 25)   3   1.00%   2.33%\n",
            "[ 25, 28)   3   1.00%   3.33%\n",
            "[ 28, 30)   0   0.00%   3.33%\n",
            "[ 30, 32)   0   0.00%   3.33%\n",
            "[ 32, 34)   0   0.00%   3.33%\n",
            "[ 34, 37)   3   1.00%   4.33%\n",
            "[ 37, 39)   3   1.00%   5.33%\n",
            "[ 39, 41)   3   1.00%   6.33%\n",
            "[ 41, 43)   6   2.00%   8.33%\n",
            "[ 43, 46)  15   5.00%  13.33% #\n",
            "[ 46, 48)   8   2.67%  16.00% #\n",
            "[ 48, 50)  12   4.00%  20.00% #\n",
            "[ 50, 52)  19   6.33%  26.33% ##\n",
            "[ 52, 55)  15   5.00%  31.33% #\n",
            "[ 55, 57)  20   6.67%  38.00% ##\n",
            "[ 57, 59)  27   9.00%  47.00% ##\n",
            "[ 59, 61)  33  11.00%  58.00% ###\n",
            "[ 61, 63] 126  42.00% 100.00% ##########\n",
            "\n",
            "Depth by leafs:\n",
            "Count: 8456 Average: 4.90492 StdDev: 0.386864\n",
            "Min: 1 Max: 5 Ignored: 0\n",
            "----------------------------------------------\n",
            "[ 1, 2)    9   0.11%   0.11%\n",
            "[ 2, 3)   26   0.31%   0.41%\n",
            "[ 3, 4)  137   1.62%   2.03%\n",
            "[ 4, 5)  416   4.92%   6.95% #\n",
            "[ 5, 5] 7868  93.05% 100.00% ##########\n",
            "\n",
            "Number of training obs by leaf:\n",
            "Count: 8456 Average: 7039.53 StdDev: 25608\n",
            "Min: 5 Max: 198331 Ignored: 0\n",
            "----------------------------------------------\n",
            "[      5,   9921) 7506  88.77%  88.77% ##########\n",
            "[   9921,  19837)  332   3.93%  92.69%\n",
            "[  19837,  29754)  170   2.01%  94.70%\n",
            "[  29754,  39670)   90   1.06%  95.77%\n",
            "[  39670,  49586)   57   0.67%  96.44%\n",
            "[  49586,  59503)   34   0.40%  96.84%\n",
            "[  59503,  69419)   22   0.26%  97.10%\n",
            "[  69419,  79335)   25   0.30%  97.40%\n",
            "[  79335,  89252)   12   0.14%  97.54%\n",
            "[  89252,  99168)   14   0.17%  97.71%\n",
            "[  99168, 109084)   19   0.22%  97.93%\n",
            "[ 109084, 119001)   17   0.20%  98.13%\n",
            "[ 119001, 128917)   15   0.18%  98.31%\n",
            "[ 128917, 138833)   16   0.19%  98.50%\n",
            "[ 138833, 148750)   11   0.13%  98.63%\n",
            "[ 148750, 158666)    6   0.07%  98.70%\n",
            "[ 158666, 168582)   20   0.24%  98.94%\n",
            "[ 168582, 178499)   24   0.28%  99.22%\n",
            "[ 178499, 188415)   14   0.17%  99.39%\n",
            "[ 188415, 198331]   52   0.61% 100.00%\n",
            "\n",
            "Attribute in nodes:\n",
            "\t1236 : data:0.4 [NUMERICAL]\n",
            "\t1048 : data:0.3 [NUMERICAL]\n",
            "\t965 : data:0.0 [NUMERICAL]\n",
            "\t941 : data:0.5 [NUMERICAL]\n",
            "\t525 : data:0.1 [NUMERICAL]\n",
            "\t347 : data:0.2 [NUMERICAL]\n",
            "\t339 : data:0.22 [NUMERICAL]\n",
            "\t228 : data:0.17 [NUMERICAL]\n",
            "\t224 : data:0.18 [NUMERICAL]\n",
            "\t224 : data:0.16 [NUMERICAL]\n",
            "\t192 : data:0.24 [NUMERICAL]\n",
            "\t186 : data:0.21 [NUMERICAL]\n",
            "\t185 : data:0.14 [NUMERICAL]\n",
            "\t168 : data:0.13 [NUMERICAL]\n",
            "\t166 : data:0.12 [NUMERICAL]\n",
            "\t165 : data:0.23 [NUMERICAL]\n",
            "\t151 : data:0.6 [NUMERICAL]\n",
            "\t143 : data:0.15 [NUMERICAL]\n",
            "\t137 : data:0.26 [NUMERICAL]\n",
            "\t119 : data:0.25 [NUMERICAL]\n",
            "\t106 : data:0.20 [NUMERICAL]\n",
            "\t94 : data:0.19 [NUMERICAL]\n",
            "\t82 : data:0.9 [NUMERICAL]\n",
            "\t80 : data:0.10 [NUMERICAL]\n",
            "\t55 : data:0.11 [NUMERICAL]\n",
            "\t32 : data:0.8 [NUMERICAL]\n",
            "\t18 : data:0.7 [NUMERICAL]\n",
            "\n",
            "Attribute in nodes with depth <= 0:\n",
            "\t38 : data:0.4 [NUMERICAL]\n",
            "\t33 : data:0.0 [NUMERICAL]\n",
            "\t27 : data:0.2 [NUMERICAL]\n",
            "\t27 : data:0.1 [NUMERICAL]\n",
            "\t25 : data:0.5 [NUMERICAL]\n",
            "\t25 : data:0.3 [NUMERICAL]\n",
            "\t24 : data:0.12 [NUMERICAL]\n",
            "\t19 : data:0.19 [NUMERICAL]\n",
            "\t18 : data:0.25 [NUMERICAL]\n",
            "\t17 : data:0.17 [NUMERICAL]\n",
            "\t16 : data:0.20 [NUMERICAL]\n",
            "\t12 : data:0.9 [NUMERICAL]\n",
            "\t10 : data:0.8 [NUMERICAL]\n",
            "\t6 : data:0.18 [NUMERICAL]\n",
            "\t2 : data:0.7 [NUMERICAL]\n",
            "\t1 : data:0.21 [NUMERICAL]\n",
            "\n",
            "Attribute in nodes with depth <= 1:\n",
            "\t180 : data:0.4 [NUMERICAL]\n",
            "\t113 : data:0.3 [NUMERICAL]\n",
            "\t103 : data:0.0 [NUMERICAL]\n",
            "\t102 : data:0.5 [NUMERICAL]\n",
            "\t68 : data:0.1 [NUMERICAL]\n",
            "\t49 : data:0.2 [NUMERICAL]\n",
            "\t34 : data:0.19 [NUMERICAL]\n",
            "\t30 : data:0.12 [NUMERICAL]\n",
            "\t27 : data:0.17 [NUMERICAL]\n",
            "\t25 : data:0.25 [NUMERICAL]\n",
            "\t24 : data:0.20 [NUMERICAL]\n",
            "\t22 : data:0.18 [NUMERICAL]\n",
            "\t16 : data:0.9 [NUMERICAL]\n",
            "\t15 : data:0.23 [NUMERICAL]\n",
            "\t12 : data:0.8 [NUMERICAL]\n",
            "\t12 : data:0.22 [NUMERICAL]\n",
            "\t10 : data:0.26 [NUMERICAL]\n",
            "\t10 : data:0.21 [NUMERICAL]\n",
            "\t10 : data:0.13 [NUMERICAL]\n",
            "\t8 : data:0.16 [NUMERICAL]\n",
            "\t6 : data:0.6 [NUMERICAL]\n",
            "\t5 : data:0.7 [NUMERICAL]\n",
            "\t4 : data:0.14 [NUMERICAL]\n",
            "\t2 : data:0.15 [NUMERICAL]\n",
            "\t2 : data:0.10 [NUMERICAL]\n",
            "\t1 : data:0.24 [NUMERICAL]\n",
            "\t1 : data:0.11 [NUMERICAL]\n",
            "\n",
            "Attribute in nodes with depth <= 2:\n",
            "\t391 : data:0.4 [NUMERICAL]\n",
            "\t284 : data:0.0 [NUMERICAL]\n",
            "\t277 : data:0.3 [NUMERICAL]\n",
            "\t227 : data:0.5 [NUMERICAL]\n",
            "\t109 : data:0.1 [NUMERICAL]\n",
            "\t88 : data:0.2 [NUMERICAL]\n",
            "\t66 : data:0.18 [NUMERICAL]\n",
            "\t56 : data:0.19 [NUMERICAL]\n",
            "\t55 : data:0.17 [NUMERICAL]\n",
            "\t48 : data:0.20 [NUMERICAL]\n",
            "\t44 : data:0.12 [NUMERICAL]\n",
            "\t43 : data:0.22 [NUMERICAL]\n",
            "\t40 : data:0.13 [NUMERICAL]\n",
            "\t36 : data:0.23 [NUMERICAL]\n",
            "\t35 : data:0.25 [NUMERICAL]\n",
            "\t31 : data:0.26 [NUMERICAL]\n",
            "\t31 : data:0.24 [NUMERICAL]\n",
            "\t27 : data:0.14 [NUMERICAL]\n",
            "\t26 : data:0.16 [NUMERICAL]\n",
            "\t25 : data:0.21 [NUMERICAL]\n",
            "\t23 : data:0.9 [NUMERICAL]\n",
            "\t23 : data:0.15 [NUMERICAL]\n",
            "\t20 : data:0.6 [NUMERICAL]\n",
            "\t17 : data:0.8 [NUMERICAL]\n",
            "\t14 : data:0.10 [NUMERICAL]\n",
            "\t9 : data:0.7 [NUMERICAL]\n",
            "\t2 : data:0.11 [NUMERICAL]\n",
            "\n",
            "Attribute in nodes with depth <= 3:\n",
            "\t696 : data:0.4 [NUMERICAL]\n",
            "\t561 : data:0.3 [NUMERICAL]\n",
            "\t534 : data:0.0 [NUMERICAL]\n",
            "\t474 : data:0.5 [NUMERICAL]\n",
            "\t250 : data:0.1 [NUMERICAL]\n",
            "\t168 : data:0.22 [NUMERICAL]\n",
            "\t162 : data:0.2 [NUMERICAL]\n",
            "\t131 : data:0.18 [NUMERICAL]\n",
            "\t124 : data:0.17 [NUMERICAL]\n",
            "\t102 : data:0.16 [NUMERICAL]\n",
            "\t89 : data:0.24 [NUMERICAL]\n",
            "\t89 : data:0.14 [NUMERICAL]\n",
            "\t77 : data:0.23 [NUMERICAL]\n",
            "\t77 : data:0.13 [NUMERICAL]\n",
            "\t75 : data:0.12 [NUMERICAL]\n",
            "\t74 : data:0.20 [NUMERICAL]\n",
            "\t73 : data:0.26 [NUMERICAL]\n",
            "\t70 : data:0.21 [NUMERICAL]\n",
            "\t68 : data:0.25 [NUMERICAL]\n",
            "\t68 : data:0.19 [NUMERICAL]\n",
            "\t68 : data:0.15 [NUMERICAL]\n",
            "\t65 : data:0.6 [NUMERICAL]\n",
            "\t43 : data:0.9 [NUMERICAL]\n",
            "\t35 : data:0.10 [NUMERICAL]\n",
            "\t21 : data:0.8 [NUMERICAL]\n",
            "\t16 : data:0.11 [NUMERICAL]\n",
            "\t12 : data:0.7 [NUMERICAL]\n",
            "\n",
            "Attribute in nodes with depth <= 5:\n",
            "\t1236 : data:0.4 [NUMERICAL]\n",
            "\t1048 : data:0.3 [NUMERICAL]\n",
            "\t965 : data:0.0 [NUMERICAL]\n",
            "\t941 : data:0.5 [NUMERICAL]\n",
            "\t525 : data:0.1 [NUMERICAL]\n",
            "\t347 : data:0.2 [NUMERICAL]\n",
            "\t339 : data:0.22 [NUMERICAL]\n",
            "\t228 : data:0.17 [NUMERICAL]\n",
            "\t224 : data:0.18 [NUMERICAL]\n",
            "\t224 : data:0.16 [NUMERICAL]\n",
            "\t192 : data:0.24 [NUMERICAL]\n",
            "\t186 : data:0.21 [NUMERICAL]\n",
            "\t185 : data:0.14 [NUMERICAL]\n",
            "\t168 : data:0.13 [NUMERICAL]\n",
            "\t166 : data:0.12 [NUMERICAL]\n",
            "\t165 : data:0.23 [NUMERICAL]\n",
            "\t151 : data:0.6 [NUMERICAL]\n",
            "\t143 : data:0.15 [NUMERICAL]\n",
            "\t137 : data:0.26 [NUMERICAL]\n",
            "\t119 : data:0.25 [NUMERICAL]\n",
            "\t106 : data:0.20 [NUMERICAL]\n",
            "\t94 : data:0.19 [NUMERICAL]\n",
            "\t82 : data:0.9 [NUMERICAL]\n",
            "\t80 : data:0.10 [NUMERICAL]\n",
            "\t55 : data:0.11 [NUMERICAL]\n",
            "\t32 : data:0.8 [NUMERICAL]\n",
            "\t18 : data:0.7 [NUMERICAL]\n",
            "\n",
            "Condition type in nodes:\n",
            "\t8156 : HigherCondition\n",
            "Condition type in nodes with depth <= 0:\n",
            "\t300 : HigherCondition\n",
            "Condition type in nodes with depth <= 1:\n",
            "\t891 : HigherCondition\n",
            "Condition type in nodes with depth <= 2:\n",
            "\t2047 : HigherCondition\n",
            "Condition type in nodes with depth <= 3:\n",
            "\t4222 : HigherCondition\n",
            "Condition type in nodes with depth <= 5:\n",
            "\t8156 : HigherCondition\n",
            "\n",
            "Training logs:\n",
            "Number of iteration to final model: 300\n",
            "\tIter:1 train-loss:3653.183350 valid-loss:3682.516846  train-rmse:3653.183350 valid-rmse:3682.516846\n",
            "\tIter:2 train-loss:3316.174561 valid-loss:3344.003418  train-rmse:3316.174561 valid-rmse:3344.003418\n",
            "\tIter:3 train-loss:3015.767822 valid-loss:3042.349854  train-rmse:3015.767822 valid-rmse:3042.349854\n",
            "\tIter:4 train-loss:2747.255371 valid-loss:2772.482422  train-rmse:2747.255371 valid-rmse:2772.482422\n",
            "\tIter:5 train-loss:2508.236572 valid-loss:2532.933350  train-rmse:2508.236572 valid-rmse:2532.933350\n",
            "\tIter:6 train-loss:2295.178223 valid-loss:2319.105225  train-rmse:2295.178223 valid-rmse:2319.105225\n",
            "\tIter:16 train-loss:1125.945557 valid-loss:1141.658936  train-rmse:1125.945557 valid-rmse:1141.658936\n",
            "\tIter:26 train-loss:800.682800 valid-loss:809.347778  train-rmse:800.682800 valid-rmse:809.347778\n",
            "\tIter:36 train-loss:697.771484 valid-loss:704.622620  train-rmse:697.771484 valid-rmse:704.622620\n",
            "\tIter:46 train-loss:651.953003 valid-loss:657.563782  train-rmse:651.953003 valid-rmse:657.563782\n",
            "\tIter:56 train-loss:622.662842 valid-loss:627.580200  train-rmse:622.662842 valid-rmse:627.580200\n",
            "\tIter:66 train-loss:606.319702 valid-loss:611.214294  train-rmse:606.319702 valid-rmse:611.214294\n",
            "\tIter:76 train-loss:595.621521 valid-loss:600.896545  train-rmse:595.621521 valid-rmse:600.896545\n",
            "\tIter:86 train-loss:587.961609 valid-loss:593.892273  train-rmse:587.961609 valid-rmse:593.892273\n",
            "\tIter:96 train-loss:582.285583 valid-loss:588.765503  train-rmse:582.285583 valid-rmse:588.765503\n",
            "\tIter:106 train-loss:578.130920 valid-loss:585.741943  train-rmse:578.130920 valid-rmse:585.741943\n",
            "\tIter:116 train-loss:574.505493 valid-loss:583.471130  train-rmse:574.505493 valid-rmse:583.471130\n",
            "\tIter:126 train-loss:571.692810 valid-loss:581.664429  train-rmse:571.692810 valid-rmse:581.664429\n",
            "\tIter:136 train-loss:568.678955 valid-loss:579.756775  train-rmse:568.678955 valid-rmse:579.756775\n",
            "\tIter:146 train-loss:566.223389 valid-loss:577.998474  train-rmse:566.223389 valid-rmse:577.998474\n",
            "\tIter:156 train-loss:564.245605 valid-loss:577.079407  train-rmse:564.245605 valid-rmse:577.079407\n",
            "\tIter:166 train-loss:562.190796 valid-loss:576.417236  train-rmse:562.190796 valid-rmse:576.417236\n",
            "\tIter:176 train-loss:559.960571 valid-loss:575.663818  train-rmse:559.960571 valid-rmse:575.663818\n",
            "\tIter:186 train-loss:558.512329 valid-loss:575.362488  train-rmse:558.512329 valid-rmse:575.362488\n",
            "\tIter:196 train-loss:556.941345 valid-loss:574.419983  train-rmse:556.941345 valid-rmse:574.419983\n",
            "\tIter:206 train-loss:554.931702 valid-loss:573.760681  train-rmse:554.931702 valid-rmse:573.760681\n",
            "\tIter:216 train-loss:553.665161 valid-loss:573.030640  train-rmse:553.665161 valid-rmse:573.030640\n",
            "\tIter:226 train-loss:551.902161 valid-loss:572.851746  train-rmse:551.902161 valid-rmse:572.851746\n",
            "\tIter:236 train-loss:550.821594 valid-loss:572.419556  train-rmse:550.821594 valid-rmse:572.419556\n",
            "\tIter:246 train-loss:549.472168 valid-loss:571.566284  train-rmse:549.472168 valid-rmse:571.566284\n",
            "\tIter:256 train-loss:548.040771 valid-loss:571.549927  train-rmse:548.040771 valid-rmse:571.549927\n",
            "\tIter:266 train-loss:546.746155 valid-loss:571.141235  train-rmse:546.746155 valid-rmse:571.141235\n",
            "\tIter:276 train-loss:545.468323 valid-loss:570.926697  train-rmse:545.468323 valid-rmse:570.926697\n",
            "\tIter:286 train-loss:544.677795 valid-loss:571.033752  train-rmse:544.677795 valid-rmse:571.033752\n",
            "\tIter:296 train-loss:543.666504 valid-loss:570.915771  train-rmse:543.666504 valid-rmse:570.915771\n",
            "\n"
          ]
        }
      ]
    },
    {
      "cell_type": "markdown",
      "source": [
        "### 4.e) Algorithm Tuning"
      ],
      "metadata": {
        "id": "BMnIZY3NC8vN"
      }
    },
    {
      "cell_type": "code",
      "source": [
        "# Not applicable for this iteration of modeling"
      ],
      "metadata": {
        "id": "jyUKiCiCtDu7"
      },
      "execution_count": 32,
      "outputs": []
    },
    {
      "cell_type": "markdown",
      "metadata": {
        "id": "D7UgYoGuzaM-"
      },
      "source": [
        "## Task 5 - Finalize Model and Present Analysis"
      ]
    },
    {
      "cell_type": "markdown",
      "source": [
        "### 5.a) Train the Final Model"
      ],
      "metadata": {
        "id": "EVw99yXMH57E"
      }
    },
    {
      "cell_type": "code",
      "execution_count": 33,
      "metadata": {
        "colab": {
          "base_uri": "https://localhost:8080/"
        },
        "id": "dsntMWlJwXjV",
        "outputId": "5fa1b70c-cfbb-4770-cd03-55115baad04d"
      },
      "outputs": [
        {
          "output_type": "stream",
          "name": "stdout",
          "text": [
            "Use /tmp/tmpj7hf4c0u as temporary training directory\n",
            "Reading training dataset...\n",
            "Training dataset read in 0:00:01.947076. Found 220540 examples.\n",
            "Training model...\n",
            "Model trained in 0:01:52.494733\n",
            "Compiling model...\n",
            "Model compiled.\n",
            "Model training time: 0:02:22.409980 \n",
            "\n"
          ]
        }
      ],
      "source": [
        "# Define the baseline model for benchmarking\n",
        "start_time_module = datetime.now()\n",
        "tf.keras.utils.set_random_seed(RNG_SEED)\n",
        "final_model = tfdf.keras.RandomForestModel(task = tfdf.keras.Task.REGRESSION)\n",
        "# final_model = tfdf.keras.CartModel(task = tfdf.keras.Task.CLASSIFICATION)\n",
        "# final_model = tfdf.keras.GradientBoostedTreesModel(task = tfdf.keras.Task.CLASSIFICATION)\n",
        "\n",
        "# Optionally, add evaluation metrics.\n",
        "final_model.compile(metrics=DEFAULT_METRICS)\n",
        "\n",
        "# \"sys_pipes\" is optional. It enables the display of the training logs.\n",
        "# with sys_pipes():\n",
        "#     final_model.fit(x=tfds_train)\n",
        "\n",
        "# Train the model.\n",
        "final_model.fit(x=array_features_train, y=array_target_train)\n",
        "print ('Model training time:', (datetime.now() - start_time_module), '\\n')"
      ]
    },
    {
      "cell_type": "code",
      "execution_count": 34,
      "metadata": {
        "colab": {
          "base_uri": "https://localhost:8080/"
        },
        "id": "IuwcWWXF89YM",
        "outputId": "8dea6421-dbcf-4d34-9746-fde914f4ad68"
      },
      "outputs": [
        {
          "output_type": "stream",
          "name": "stdout",
          "text": [
            "Model: \"random_forest_model_1\"\n",
            "_________________________________________________________________\n",
            " Layer (type)                Output Shape              Param #   \n",
            "=================================================================\n",
            "=================================================================\n",
            "Total params: 1\n",
            "Trainable params: 0\n",
            "Non-trainable params: 1\n",
            "_________________________________________________________________\n",
            "Type: \"RANDOM_FOREST\"\n",
            "Task: REGRESSION\n",
            "Label: \"__LABEL\"\n",
            "\n",
            "Input Features (27):\n",
            "\tdata:0.0\n",
            "\tdata:0.1\n",
            "\tdata:0.10\n",
            "\tdata:0.11\n",
            "\tdata:0.12\n",
            "\tdata:0.13\n",
            "\tdata:0.14\n",
            "\tdata:0.15\n",
            "\tdata:0.16\n",
            "\tdata:0.17\n",
            "\tdata:0.18\n",
            "\tdata:0.19\n",
            "\tdata:0.2\n",
            "\tdata:0.20\n",
            "\tdata:0.21\n",
            "\tdata:0.22\n",
            "\tdata:0.23\n",
            "\tdata:0.24\n",
            "\tdata:0.25\n",
            "\tdata:0.26\n",
            "\tdata:0.3\n",
            "\tdata:0.4\n",
            "\tdata:0.5\n",
            "\tdata:0.6\n",
            "\tdata:0.7\n",
            "\tdata:0.8\n",
            "\tdata:0.9\n",
            "\n",
            "No weights\n",
            "\n",
            "Variable Importance: INV_MEAN_MIN_DEPTH:\n",
            "    1.  \"data:0.4\"  0.260161 ################\n",
            "    2.  \"data:0.0\"  0.221954 ############\n",
            "    3.  \"data:0.3\"  0.164208 ########\n",
            "    4. \"data:0.22\"  0.123064 ####\n",
            "    5.  \"data:0.5\"  0.110823 ###\n",
            "    6. \"data:0.17\"  0.090277 #\n",
            "    7. \"data:0.21\"  0.090155 #\n",
            "    8. \"data:0.18\"  0.089286 #\n",
            "    9. \"data:0.12\"  0.081529 #\n",
            "   10.  \"data:0.2\"  0.081387 #\n",
            "   11. \"data:0.26\"  0.077696 \n",
            "   12. \"data:0.25\"  0.076948 \n",
            "   13. \"data:0.16\"  0.076742 \n",
            "   14.  \"data:0.1\"  0.074692 \n",
            "   15. \"data:0.13\"  0.074521 \n",
            "   16. \"data:0.24\"  0.074193 \n",
            "   17. \"data:0.23\"  0.073949 \n",
            "   18.  \"data:0.9\"  0.073653 \n",
            "   19. \"data:0.15\"  0.073290 \n",
            "   20. \"data:0.19\"  0.072904 \n",
            "   21. \"data:0.20\"  0.071430 \n",
            "   22. \"data:0.14\"  0.070812 \n",
            "   23. \"data:0.10\"  0.068503 \n",
            "   24. \"data:0.11\"  0.067944 \n",
            "   25.  \"data:0.6\"  0.067892 \n",
            "   26.  \"data:0.7\"  0.067323 \n",
            "   27.  \"data:0.8\"  0.067155 \n",
            "\n",
            "Variable Importance: NUM_AS_ROOT:\n",
            "    1.  \"data:0.4\" 119.000000 ################\n",
            "    2.  \"data:0.3\" 65.000000 ########\n",
            "    3.  \"data:0.0\" 48.000000 ######\n",
            "    4.  \"data:0.5\" 30.000000 ###\n",
            "    5.  \"data:0.2\" 21.000000 ##\n",
            "    6. \"data:0.22\"  8.000000 \n",
            "    7.  \"data:0.9\"  5.000000 \n",
            "    8. \"data:0.17\"  2.000000 \n",
            "    9. \"data:0.10\"  1.000000 \n",
            "   10. \"data:0.25\"  1.000000 \n",
            "\n",
            "Variable Importance: NUM_NODES:\n",
            "    1.  \"data:0.4\" 303564.000000 ################\n",
            "    2.  \"data:0.3\" 293960.000000 ###############\n",
            "    3.  \"data:0.1\" 261278.000000 #############\n",
            "    4.  \"data:0.5\" 231688.000000 ############\n",
            "    5.  \"data:0.0\" 178609.000000 #########\n",
            "    6.  \"data:0.2\" 172229.000000 #########\n",
            "    7.  \"data:0.9\" 41442.000000 ##\n",
            "    8.  \"data:0.6\" 34404.000000 #\n",
            "    9. \"data:0.10\" 31965.000000 #\n",
            "   10. \"data:0.16\" 31228.000000 #\n",
            "   11. \"data:0.12\" 31015.000000 #\n",
            "   12. \"data:0.11\" 30707.000000 #\n",
            "   13. \"data:0.13\" 28637.000000 #\n",
            "   14. \"data:0.17\" 26781.000000 #\n",
            "   15. \"data:0.15\" 24236.000000 #\n",
            "   16. \"data:0.18\" 22283.000000 #\n",
            "   17. \"data:0.14\" 21954.000000 #\n",
            "   18. \"data:0.24\" 20218.000000 \n",
            "   19. \"data:0.21\" 17794.000000 \n",
            "   20. \"data:0.23\" 15809.000000 \n",
            "   21.  \"data:0.8\" 11542.000000 \n",
            "   22. \"data:0.26\" 10780.000000 \n",
            "   23. \"data:0.22\" 10301.000000 \n",
            "   24. \"data:0.25\" 9109.000000 \n",
            "   25. \"data:0.19\" 6848.000000 \n",
            "   26. \"data:0.20\" 6732.000000 \n",
            "   27.  \"data:0.7\" 2651.000000 \n",
            "\n",
            "Variable Importance: SUM_SCORE:\n",
            "    1.  \"data:0.4\" 384549513288653.812500 ################\n",
            "    2.  \"data:0.0\" 260009667824229.843750 ##########\n",
            "    3.  \"data:0.3\" 223771724005046.718750 #########\n",
            "    4.  \"data:0.5\" 116915145194162.859375 ####\n",
            "    5. \"data:0.22\" 14559773639606.337891 \n",
            "    6. \"data:0.21\" 8067556696428.369141 \n",
            "    7. \"data:0.18\" 7915180559992.022461 \n",
            "    8. \"data:0.17\" 6598319437230.500977 \n",
            "    9. \"data:0.26\" 5294010018503.057617 \n",
            "   10. \"data:0.16\" 4437432187369.720703 \n",
            "   11. \"data:0.19\" 3503019729822.131836 \n",
            "   12. \"data:0.24\" 3191980075562.040527 \n",
            "   13.  \"data:0.2\" 3182889066461.473633 \n",
            "   14. \"data:0.23\" 2956695518255.394531 \n",
            "   15. \"data:0.15\" 2602905877786.559570 \n",
            "   16. \"data:0.25\" 2592905313285.437012 \n",
            "   17. \"data:0.12\" 1777077867488.833740 \n",
            "   18. \"data:0.20\" 1593534228987.714111 \n",
            "   19. \"data:0.13\" 1450098188230.533203 \n",
            "   20. \"data:0.14\" 1407929810970.474365 \n",
            "   21.  \"data:0.1\" 1206626041000.272217 \n",
            "   22.  \"data:0.9\" 932943911658.633179 \n",
            "   23. \"data:0.10\" 215137099200.955688 \n",
            "   24.  \"data:0.6\" 188103484922.051605 \n",
            "   25. \"data:0.11\" 95140994354.784225 \n",
            "   26.  \"data:0.8\" 59304183049.706810 \n",
            "   27.  \"data:0.7\" 56375350726.921654 \n",
            "\n",
            "\n",
            "\n",
            "Out-of-bag evaluation: rmse:579.015\n",
            "Number of trees: 300\n",
            "Total number of nodes: 3755828\n",
            "\n",
            "Number of nodes by tree:\n",
            "Count: 300 Average: 12519.4 StdDev: 692.084\n",
            "Min: 10537 Max: 14463 Ignored: 0\n",
            "----------------------------------------------\n",
            "[ 10537, 10733)  3   1.00%   1.00% #\n",
            "[ 10733, 10929)  2   0.67%   1.67% #\n",
            "[ 10929, 11126)  1   0.33%   2.00%\n",
            "[ 11126, 11322)  5   1.67%   3.67% #\n",
            "[ 11322, 11518) 14   4.67%   8.33% ####\n",
            "[ 11518, 11715) 10   3.33%  11.67% ###\n",
            "[ 11715, 11911) 17   5.67%  17.33% #####\n",
            "[ 11911, 12107) 29   9.67%  27.00% ########\n",
            "[ 12107, 12304) 37  12.33%  39.33% ##########\n",
            "[ 12304, 12500) 32  10.67%  50.00% #########\n",
            "[ 12500, 12696) 30  10.00%  60.00% ########\n",
            "[ 12696, 12893) 30  10.00%  70.00% ########\n",
            "[ 12893, 13089) 26   8.67%  78.67% #######\n",
            "[ 13089, 13285) 17   5.67%  84.33% #####\n",
            "[ 13285, 13482) 19   6.33%  90.67% #####\n",
            "[ 13482, 13678) 15   5.00%  95.67% ####\n",
            "[ 13678, 13874)  6   2.00%  97.67% ##\n",
            "[ 13874, 14071)  6   2.00%  99.67% ##\n",
            "[ 14071, 14267)  0   0.00%  99.67%\n",
            "[ 14267, 14463]  1   0.33% 100.00%\n",
            "\n",
            "Depth by leafs:\n",
            "Count: 1.87806e+06 Average: 13.9763 StdDev: 1.50264\n",
            "Min: 4 Max: 15 Ignored: 0\n",
            "----------------------------------------------\n",
            "[  4,  5)          13   0.00%   0.00%\n",
            "[  5,  6)          91   0.00%   0.01%\n",
            "[  6,  7)         614   0.03%   0.04%\n",
            "[  7,  8)        2601   0.14%   0.18%\n",
            "[  8,  9)        8234   0.44%   0.62%\n",
            "[  9, 10)       20371   1.08%   1.70%\n",
            "[ 10, 11)       43495   2.32%   4.02%\n",
            "[ 11, 12)       82186   4.38%   8.39% #\n",
            "[ 12, 13)      139618   7.43%  15.83% #\n",
            "[ 13, 14)      217877  11.60%  27.43% ##\n",
            "[ 14, 15)      314440  16.74%  44.17% ###\n",
            "[ 15, 15] 1.04852e+06  55.83% 100.00% ##########\n",
            "\n",
            "Number of training obs by leaf:\n",
            "Count: 1.87806e+06 Average: 35.2288 StdDev: 157.011\n",
            "Min: 5 Max: 11342 Ignored: 0\n",
            "----------------------------------------------\n",
            "[     5,   571) 1.8628e+06  99.19%  99.19% ##########\n",
            "[   571,  1138)       9956   0.53%  99.72%\n",
            "[  1138,  1705)       2660   0.14%  99.86%\n",
            "[  1705,  2272)       1048   0.06%  99.91%\n",
            "[  2272,  2839)        614   0.03%  99.95%\n",
            "[  2839,  3406)        292   0.02%  99.96%\n",
            "[  3406,  3973)        184   0.01%  99.97%\n",
            "[  3973,  4540)        144   0.01%  99.98%\n",
            "[  4540,  5107)        111   0.01%  99.99%\n",
            "[  5107,  5674)         84   0.00%  99.99%\n",
            "[  5674,  6240)         46   0.00%  99.99%\n",
            "[  6240,  6807)         38   0.00% 100.00%\n",
            "[  6807,  7374)         34   0.00% 100.00%\n",
            "[  7374,  7941)         12   0.00% 100.00%\n",
            "[  7941,  8508)          9   0.00% 100.00%\n",
            "[  8508,  9075)         15   0.00% 100.00%\n",
            "[  9075,  9642)         10   0.00% 100.00%\n",
            "[  9642, 10209)          4   0.00% 100.00%\n",
            "[ 10209, 10776)          3   0.00% 100.00%\n",
            "[ 10776, 11342]          3   0.00% 100.00%\n",
            "\n",
            "Attribute in nodes:\n",
            "\t303564 : data:0.4 [NUMERICAL]\n",
            "\t293960 : data:0.3 [NUMERICAL]\n",
            "\t261278 : data:0.1 [NUMERICAL]\n",
            "\t231688 : data:0.5 [NUMERICAL]\n",
            "\t178609 : data:0.0 [NUMERICAL]\n",
            "\t172229 : data:0.2 [NUMERICAL]\n",
            "\t41442 : data:0.9 [NUMERICAL]\n",
            "\t34404 : data:0.6 [NUMERICAL]\n",
            "\t31965 : data:0.10 [NUMERICAL]\n",
            "\t31228 : data:0.16 [NUMERICAL]\n",
            "\t31015 : data:0.12 [NUMERICAL]\n",
            "\t30707 : data:0.11 [NUMERICAL]\n",
            "\t28637 : data:0.13 [NUMERICAL]\n",
            "\t26781 : data:0.17 [NUMERICAL]\n",
            "\t24236 : data:0.15 [NUMERICAL]\n",
            "\t22283 : data:0.18 [NUMERICAL]\n",
            "\t21954 : data:0.14 [NUMERICAL]\n",
            "\t20218 : data:0.24 [NUMERICAL]\n",
            "\t17794 : data:0.21 [NUMERICAL]\n",
            "\t15809 : data:0.23 [NUMERICAL]\n",
            "\t11542 : data:0.8 [NUMERICAL]\n",
            "\t10780 : data:0.26 [NUMERICAL]\n",
            "\t10301 : data:0.22 [NUMERICAL]\n",
            "\t9109 : data:0.25 [NUMERICAL]\n",
            "\t6848 : data:0.19 [NUMERICAL]\n",
            "\t6732 : data:0.20 [NUMERICAL]\n",
            "\t2651 : data:0.7 [NUMERICAL]\n",
            "\n",
            "Attribute in nodes with depth <= 0:\n",
            "\t119 : data:0.4 [NUMERICAL]\n",
            "\t65 : data:0.3 [NUMERICAL]\n",
            "\t48 : data:0.0 [NUMERICAL]\n",
            "\t30 : data:0.5 [NUMERICAL]\n",
            "\t21 : data:0.2 [NUMERICAL]\n",
            "\t8 : data:0.22 [NUMERICAL]\n",
            "\t5 : data:0.9 [NUMERICAL]\n",
            "\t2 : data:0.17 [NUMERICAL]\n",
            "\t1 : data:0.25 [NUMERICAL]\n",
            "\t1 : data:0.10 [NUMERICAL]\n",
            "\n",
            "Attribute in nodes with depth <= 1:\n",
            "\t271 : data:0.4 [NUMERICAL]\n",
            "\t248 : data:0.0 [NUMERICAL]\n",
            "\t161 : data:0.3 [NUMERICAL]\n",
            "\t99 : data:0.5 [NUMERICAL]\n",
            "\t39 : data:0.2 [NUMERICAL]\n",
            "\t14 : data:0.22 [NUMERICAL]\n",
            "\t13 : data:0.9 [NUMERICAL]\n",
            "\t11 : data:0.25 [NUMERICAL]\n",
            "\t10 : data:0.19 [NUMERICAL]\n",
            "\t10 : data:0.18 [NUMERICAL]\n",
            "\t8 : data:0.13 [NUMERICAL]\n",
            "\t5 : data:0.17 [NUMERICAL]\n",
            "\t4 : data:0.1 [NUMERICAL]\n",
            "\t3 : data:0.14 [NUMERICAL]\n",
            "\t2 : data:0.10 [NUMERICAL]\n",
            "\t1 : data:0.16 [NUMERICAL]\n",
            "\t1 : data:0.15 [NUMERICAL]\n",
            "\n",
            "Attribute in nodes with depth <= 2:\n",
            "\t616 : data:0.4 [NUMERICAL]\n",
            "\t582 : data:0.0 [NUMERICAL]\n",
            "\t424 : data:0.3 [NUMERICAL]\n",
            "\t198 : data:0.5 [NUMERICAL]\n",
            "\t57 : data:0.2 [NUMERICAL]\n",
            "\t46 : data:0.22 [NUMERICAL]\n",
            "\t32 : data:0.18 [NUMERICAL]\n",
            "\t21 : data:0.25 [NUMERICAL]\n",
            "\t20 : data:0.19 [NUMERICAL]\n",
            "\t16 : data:0.9 [NUMERICAL]\n",
            "\t14 : data:0.26 [NUMERICAL]\n",
            "\t14 : data:0.1 [NUMERICAL]\n",
            "\t10 : data:0.13 [NUMERICAL]\n",
            "\t8 : data:0.17 [NUMERICAL]\n",
            "\t7 : data:0.16 [NUMERICAL]\n",
            "\t7 : data:0.14 [NUMERICAL]\n",
            "\t6 : data:0.7 [NUMERICAL]\n",
            "\t5 : data:0.6 [NUMERICAL]\n",
            "\t5 : data:0.15 [NUMERICAL]\n",
            "\t4 : data:0.23 [NUMERICAL]\n",
            "\t3 : data:0.10 [NUMERICAL]\n",
            "\t2 : data:0.24 [NUMERICAL]\n",
            "\t2 : data:0.20 [NUMERICAL]\n",
            "\t1 : data:0.8 [NUMERICAL]\n",
            "\n",
            "Attribute in nodes with depth <= 3:\n",
            "\t1028 : data:0.4 [NUMERICAL]\n",
            "\t972 : data:0.0 [NUMERICAL]\n",
            "\t689 : data:0.3 [NUMERICAL]\n",
            "\t459 : data:0.22 [NUMERICAL]\n",
            "\t325 : data:0.5 [NUMERICAL]\n",
            "\t229 : data:0.18 [NUMERICAL]\n",
            "\t126 : data:0.26 [NUMERICAL]\n",
            "\t105 : data:0.17 [NUMERICAL]\n",
            "\t97 : data:0.15 [NUMERICAL]\n",
            "\t90 : data:0.19 [NUMERICAL]\n",
            "\t62 : data:0.25 [NUMERICAL]\n",
            "\t61 : data:0.2 [NUMERICAL]\n",
            "\t44 : data:0.23 [NUMERICAL]\n",
            "\t41 : data:0.24 [NUMERICAL]\n",
            "\t27 : data:0.9 [NUMERICAL]\n",
            "\t27 : data:0.1 [NUMERICAL]\n",
            "\t22 : data:0.16 [NUMERICAL]\n",
            "\t20 : data:0.21 [NUMERICAL]\n",
            "\t17 : data:0.20 [NUMERICAL]\n",
            "\t14 : data:0.14 [NUMERICAL]\n",
            "\t14 : data:0.13 [NUMERICAL]\n",
            "\t11 : data:0.7 [NUMERICAL]\n",
            "\t9 : data:0.6 [NUMERICAL]\n",
            "\t5 : data:0.12 [NUMERICAL]\n",
            "\t5 : data:0.10 [NUMERICAL]\n",
            "\t1 : data:0.8 [NUMERICAL]\n",
            "\n",
            "Attribute in nodes with depth <= 5:\n",
            "\t3024 : data:0.0 [NUMERICAL]\n",
            "\t2886 : data:0.4 [NUMERICAL]\n",
            "\t2299 : data:0.22 [NUMERICAL]\n",
            "\t1922 : data:0.3 [NUMERICAL]\n",
            "\t1289 : data:0.18 [NUMERICAL]\n",
            "\t1082 : data:0.5 [NUMERICAL]\n",
            "\t882 : data:0.17 [NUMERICAL]\n",
            "\t827 : data:0.21 [NUMERICAL]\n",
            "\t613 : data:0.26 [NUMERICAL]\n",
            "\t535 : data:0.12 [NUMERICAL]\n",
            "\t530 : data:0.19 [NUMERICAL]\n",
            "\t404 : data:0.25 [NUMERICAL]\n",
            "\t383 : data:0.23 [NUMERICAL]\n",
            "\t362 : data:0.15 [NUMERICAL]\n",
            "\t293 : data:0.24 [NUMERICAL]\n",
            "\t244 : data:0.16 [NUMERICAL]\n",
            "\t231 : data:0.1 [NUMERICAL]\n",
            "\t216 : data:0.13 [NUMERICAL]\n",
            "\t173 : data:0.20 [NUMERICAL]\n",
            "\t163 : data:0.14 [NUMERICAL]\n",
            "\t130 : data:0.2 [NUMERICAL]\n",
            "\t120 : data:0.9 [NUMERICAL]\n",
            "\t62 : data:0.6 [NUMERICAL]\n",
            "\t49 : data:0.7 [NUMERICAL]\n",
            "\t30 : data:0.11 [NUMERICAL]\n",
            "\t18 : data:0.10 [NUMERICAL]\n",
            "\t3 : data:0.8 [NUMERICAL]\n",
            "\n",
            "Condition type in nodes:\n",
            "\t1877764 : HigherCondition\n",
            "Condition type in nodes with depth <= 0:\n",
            "\t300 : HigherCondition\n",
            "Condition type in nodes with depth <= 1:\n",
            "\t900 : HigherCondition\n",
            "Condition type in nodes with depth <= 2:\n",
            "\t2100 : HigherCondition\n",
            "Condition type in nodes with depth <= 3:\n",
            "\t4500 : HigherCondition\n",
            "Condition type in nodes with depth <= 5:\n",
            "\t18770 : HigherCondition\n",
            "Node format: NOT_SET\n",
            "\n",
            "Training OOB:\n",
            "\ttrees: 1, Out-of-bag evaluation: rmse:689.571\n",
            "\ttrees: 11, Out-of-bag evaluation: rmse:609.311\n",
            "\ttrees: 21, Out-of-bag evaluation: rmse:592.757\n",
            "\ttrees: 31, Out-of-bag evaluation: rmse:587.862\n",
            "\ttrees: 41, Out-of-bag evaluation: rmse:585.343\n",
            "\ttrees: 51, Out-of-bag evaluation: rmse:584.053\n",
            "\ttrees: 61, Out-of-bag evaluation: rmse:583.147\n",
            "\ttrees: 71, Out-of-bag evaluation: rmse:582.426\n",
            "\ttrees: 81, Out-of-bag evaluation: rmse:581.874\n",
            "\ttrees: 91, Out-of-bag evaluation: rmse:581.451\n",
            "\ttrees: 101, Out-of-bag evaluation: rmse:581.29\n",
            "\ttrees: 111, Out-of-bag evaluation: rmse:581.049\n",
            "\ttrees: 121, Out-of-bag evaluation: rmse:580.72\n",
            "\ttrees: 131, Out-of-bag evaluation: rmse:580.408\n",
            "\ttrees: 141, Out-of-bag evaluation: rmse:580.227\n",
            "\ttrees: 151, Out-of-bag evaluation: rmse:580.109\n",
            "\ttrees: 161, Out-of-bag evaluation: rmse:580.045\n",
            "\ttrees: 171, Out-of-bag evaluation: rmse:579.936\n",
            "\ttrees: 181, Out-of-bag evaluation: rmse:579.77\n",
            "\ttrees: 191, Out-of-bag evaluation: rmse:579.761\n",
            "\ttrees: 201, Out-of-bag evaluation: rmse:579.577\n",
            "\ttrees: 211, Out-of-bag evaluation: rmse:579.438\n",
            "\ttrees: 221, Out-of-bag evaluation: rmse:579.412\n",
            "\ttrees: 231, Out-of-bag evaluation: rmse:579.313\n",
            "\ttrees: 241, Out-of-bag evaluation: rmse:579.327\n",
            "\ttrees: 251, Out-of-bag evaluation: rmse:579.269\n",
            "\ttrees: 261, Out-of-bag evaluation: rmse:579.193\n",
            "\ttrees: 271, Out-of-bag evaluation: rmse:579.241\n",
            "\ttrees: 281, Out-of-bag evaluation: rmse:579.135\n",
            "\ttrees: 291, Out-of-bag evaluation: rmse:579.049\n",
            "\ttrees: 300, Out-of-bag evaluation: rmse:579.015\n",
            "\n"
          ]
        }
      ],
      "source": [
        "final_model.summary()"
      ]
    },
    {
      "cell_type": "markdown",
      "source": [
        "### 5.b) Load Test Dataset and Make Predictions"
      ],
      "metadata": {
        "id": "9OT-Afz0IACL"
      }
    },
    {
      "cell_type": "code",
      "source": [
        "df_features_test = pd.read_csv(TEST_DATASET)\n",
        "df_features_test['is_synthetic'] = 1\n",
        "\n",
        "# Take a peek at the dataframe after import\n",
        "print(df_features_test.head())"
      ],
      "metadata": {
        "colab": {
          "base_uri": "https://localhost:8080/"
        },
        "id": "88y4wfnyIJ7s",
        "outputId": "93df97a6-0e5c-4e3e-adc9-99f23757a080"
      },
      "execution_count": 35,
      "outputs": [
        {
          "output_type": "stream",
          "name": "stdout",
          "text": [
            "       id  carat        cut color clarity  depth  table     x     y     z  \\\n",
            "0  193573   0.35      Ideal     D     VS2   62.3   56.0  4.51  4.54  2.82   \n",
            "1  193574   0.77  Very Good     F     SI2   62.8   56.0  5.83  5.87  3.68   \n",
            "2  193575   0.71      Ideal     I     VS2   61.9   53.0  5.77  5.74  3.55   \n",
            "3  193576   0.33      Ideal     G    VVS2   61.6   55.0  4.44  4.42  2.73   \n",
            "4  193577   1.20  Very Good     I     VS2   62.7   56.0  6.75  6.79  4.24   \n",
            "\n",
            "   is_synthetic  \n",
            "0             1  \n",
            "1             1  \n",
            "2             1  \n",
            "3             1  \n",
            "4             1  \n"
          ]
        }
      ]
    },
    {
      "cell_type": "code",
      "source": [
        "id_column_name = df_features_test.columns[0]\n",
        "df_kaggle_submission = pd.DataFrame()\n",
        "df_kaggle_submission[id_column_name] = df_features_test[id_column_name]\n",
        "print(df_kaggle_submission.head())"
      ],
      "metadata": {
        "colab": {
          "base_uri": "https://localhost:8080/"
        },
        "id": "bXN-09aNIJ1d",
        "outputId": "c4a05115-0eec-486f-c55a-21ece1acc3ec"
      },
      "execution_count": 36,
      "outputs": [
        {
          "output_type": "stream",
          "name": "stdout",
          "text": [
            "       id\n",
            "0  193573\n",
            "1  193574\n",
            "2  193575\n",
            "3  193576\n",
            "4  193577\n"
          ]
        }
      ]
    },
    {
      "cell_type": "code",
      "source": [
        "# Take a peek at the dataframe after cleaning\n",
        "print(df_features_test.head())"
      ],
      "metadata": {
        "colab": {
          "base_uri": "https://localhost:8080/"
        },
        "id": "JqrE2gmhIJyk",
        "outputId": "8dbe24a5-0f40-4535-8fdd-4ceebf313651"
      },
      "execution_count": 37,
      "outputs": [
        {
          "output_type": "stream",
          "name": "stdout",
          "text": [
            "       id  carat        cut color clarity  depth  table     x     y     z  \\\n",
            "0  193573   0.35      Ideal     D     VS2   62.3   56.0  4.51  4.54  2.82   \n",
            "1  193574   0.77  Very Good     F     SI2   62.8   56.0  5.83  5.87  3.68   \n",
            "2  193575   0.71      Ideal     I     VS2   61.9   53.0  5.77  5.74  3.55   \n",
            "3  193576   0.33      Ideal     G    VVS2   61.6   55.0  4.44  4.42  2.73   \n",
            "4  193577   1.20  Very Good     I     VS2   62.7   56.0  6.75  6.79  4.24   \n",
            "\n",
            "   is_synthetic  \n",
            "0             1  \n",
            "1             1  \n",
            "2             1  \n",
            "3             1  \n",
            "4             1  \n"
          ]
        }
      ]
    },
    {
      "cell_type": "code",
      "source": [
        "print(df_features_test.describe())"
      ],
      "metadata": {
        "colab": {
          "base_uri": "https://localhost:8080/"
        },
        "id": "pfORzzFbuBe6",
        "outputId": "f72f28c7-954a-4808-8795-8db6f508515f"
      },
      "execution_count": 38,
      "outputs": [
        {
          "output_type": "stream",
          "name": "stdout",
          "text": [
            "                  id          carat          depth          table  \\\n",
            "count  129050.000000  129050.000000  129050.000000  129050.000000   \n",
            "mean   258097.500000       0.789256      61.820522      57.239608   \n",
            "std     37253.670457       0.462502       1.080249       1.918908   \n",
            "min    193573.000000       0.200000      53.200000      51.000000   \n",
            "25%    225835.250000       0.400000      61.300000      56.000000   \n",
            "50%    258097.500000       0.700000      61.900000      57.000000   \n",
            "75%    290359.750000       1.030000      62.400000      58.000000   \n",
            "max    322622.000000       4.500000      70.600000      70.000000   \n",
            "\n",
            "                   x              y              z  is_synthetic  \n",
            "count  129050.000000  129050.000000  129050.000000      129050.0  \n",
            "mean        5.711767       5.716336       3.531802           1.0  \n",
            "std         1.109666       1.102485       0.690749           0.0  \n",
            "min         0.000000       0.000000       0.000000           1.0  \n",
            "25%         4.700000       4.710000       2.900000           1.0  \n",
            "50%         5.700000       5.720000       3.530000           1.0  \n",
            "75%         6.510000       6.510000       4.030000           1.0  \n",
            "max        10.140000      10.140000      31.800000           1.0  \n"
          ]
        }
      ]
    },
    {
      "cell_type": "code",
      "source": [
        "# Finalize the test dataset for the testing activities\n",
        "array_features_test = preprocessor.transform(df_features_test)\n",
        "print(\"Transformed features from df_features_test.shape: {} to array_features_test.shape: {}\".format(df_features_test.shape, array_features_test.shape))"
      ],
      "metadata": {
        "colab": {
          "base_uri": "https://localhost:8080/"
        },
        "id": "yd329EzkFdWV",
        "outputId": "67e8bda9-1856-4791-c4f2-84390bb59820"
      },
      "execution_count": 39,
      "outputs": [
        {
          "output_type": "stream",
          "name": "stdout",
          "text": [
            "Transformed features from df_features_test.shape: (129050, 11) to array_features_test.shape: (129050, 27)\n"
          ]
        }
      ]
    },
    {
      "cell_type": "code",
      "source": [
        "# Make batched predictions\n",
        "test_predictions = final_model.predict(x=array_features_test)\n",
        "print(test_predictions)"
      ],
      "metadata": {
        "colab": {
          "base_uri": "https://localhost:8080/"
        },
        "id": "M7lZowJcIJs5",
        "outputId": "3dfc0e35-0374-477c-bc79-20e61bc8de30"
      },
      "execution_count": 40,
      "outputs": [
        {
          "output_type": "stream",
          "name": "stderr",
          "text": [
            "WARNING:tensorflow:5 out of the last 5 calls to <function InferenceCoreModel.make_predict_function.<locals>.predict_function_trained at 0x7f428007faf0> triggered tf.function retracing. Tracing is expensive and the excessive number of tracings could be due to (1) creating @tf.function repeatedly in a loop, (2) passing tensors with different shapes, (3) passing Python objects instead of tensors. For (1), please define your @tf.function outside of the loop. For (2), @tf.function has reduce_retracing=True option that can avoid unnecessary retracing. For (3), please refer to https://www.tensorflow.org/guide/function#controlling_retracing and https://www.tensorflow.org/api_docs/python/tf/function for  more details.\n"
          ]
        },
        {
          "output_type": "stream",
          "name": "stdout",
          "text": [
            "4033/4033 [==============================] - 21s 5ms/step\n",
            "[[ 857.1066]\n",
            " [2443.9055]\n",
            " [2317.2363]\n",
            " ...\n",
            " [7555.3037]\n",
            " [5669.952 ]\n",
            " [4220.5317]]\n"
          ]
        }
      ]
    },
    {
      "cell_type": "code",
      "source": [
        "df_sample_submission = pd.read_csv(SUBMISSION_TEMPLATE)\n",
        "df_sample_submission.drop(columns=[id_column_name], inplace=True)\n",
        "submission_header = list(df_sample_submission.columns)[0]\n",
        "print(submission_header)"
      ],
      "metadata": {
        "colab": {
          "base_uri": "https://localhost:8080/"
        },
        "id": "9iImQ2cnIJps",
        "outputId": "2082fa9b-974a-46b1-bfdf-f32eb6a6244e"
      },
      "execution_count": 41,
      "outputs": [
        {
          "output_type": "stream",
          "name": "stdout",
          "text": [
            "price\n"
          ]
        }
      ]
    },
    {
      "cell_type": "code",
      "source": [
        "df_kaggle_submission[submission_header] = test_predictions\n",
        "print(df_kaggle_submission.head())"
      ],
      "metadata": {
        "colab": {
          "base_uri": "https://localhost:8080/"
        },
        "id": "ZRdyv3LeIJm2",
        "outputId": "940605c6-31e9-4000-8de1-b14a531e5abf"
      },
      "execution_count": 42,
      "outputs": [
        {
          "output_type": "stream",
          "name": "stdout",
          "text": [
            "       id        price\n",
            "0  193573   857.106628\n",
            "1  193574  2443.905518\n",
            "2  193575  2317.236328\n",
            "3  193576   823.608276\n",
            "4  193577  5825.952637\n"
          ]
        }
      ]
    },
    {
      "cell_type": "code",
      "source": [
        "submission_file = df_kaggle_submission.to_csv(header=True, index=False)\n",
        "filename = SUBMISSION_FILE + datetime.now().strftime('%Y%m%d-%H%M') + '.csv'\n",
        "with open(filename, 'w') as f:\n",
        "    f.write(submission_file)\n",
        "    print('Completed writing output file: ' + filename)"
      ],
      "metadata": {
        "colab": {
          "base_uri": "https://localhost:8080/"
        },
        "id": "_b-lvRH3IJj2",
        "outputId": "245239d7-6954-4d7f-968f-cd6ffad67cec"
      },
      "execution_count": 43,
      "outputs": [
        {
          "output_type": "stream",
          "name": "stdout",
          "text": [
            "Completed writing output file: submission_decisionForests_20230326-1334.csv\n"
          ]
        }
      ]
    },
    {
      "cell_type": "code",
      "execution_count": 44,
      "metadata": {
        "colab": {
          "base_uri": "https://localhost:8080/"
        },
        "id": "piIVF1NIwXjW",
        "outputId": "5cd1858b-d4bf-46f2-92d0-f5f2b9021d87"
      },
      "outputs": [
        {
          "output_type": "stream",
          "name": "stdout",
          "text": [
            "Total time for the script: 0:08:29.919146\n"
          ]
        }
      ],
      "source": [
        "print ('Total time for the script:',(datetime.now() - start_time_script))"
      ]
    }
  ],
  "metadata": {
    "colab": {
      "provenance": [],
      "machine_shape": "hm"
    },
    "kernelspec": {
      "display_name": "Python 3 (ipykernel)",
      "language": "python",
      "name": "python3"
    },
    "language_info": {
      "codemirror_mode": {
        "name": "ipython",
        "version": 3
      },
      "file_extension": ".py",
      "mimetype": "text/x-python",
      "name": "python",
      "nbconvert_exporter": "python",
      "pygments_lexer": "ipython3",
      "version": "3.9.9"
    },
    "gpuClass": "standard"
  },
  "nbformat": 4,
  "nbformat_minor": 0
}
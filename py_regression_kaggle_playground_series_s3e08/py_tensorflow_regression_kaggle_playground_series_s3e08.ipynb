{
  "cells": [
    {
      "cell_type": "markdown",
      "metadata": {
        "id": "hKFYw6W4gY4d"
      },
      "source": [
        "# Regression Tabular Model for Kaggle Playground Series Season 3 Episode 8 Using Python and TensorFlow\n",
        "### David Lowe\n",
        "### March 30, 2023\n",
        "\n",
        "SUMMARY: The project aims to construct a predictive model using various machine learning algorithms and document the end-to-end steps using a template. The Kaggle Playground Series Season 3 Episode 8 Dataset is a regression modeling situation where we are trying to predict the value of a continuous variable.\n",
        "\n",
        "INTRODUCTION: Kaggle wants to provide an approachable environment for relatively new people in their data science journey. Since January 2021, they have hosted playground-style competitions to give the Kaggle community a variety of reasonably lightweight challenges that can be used to learn and sharpen skills in different aspects of machine learning and data science. The dataset for this competition was generated from a deep learning model trained on the Paris Housing Price Prediction dataset. Feature distributions are close to but different from the original.\n",
        "\n",
        "ANALYSIS: The performance of the preliminary TensorFlow models achieved an RMSE benchmark of 600. When we tested the final model using the test dataset, the model achieved an RMSE score of 583.\n",
        "\n",
        "CONCLUSION: In this iteration, TensorFlow appeared to be a suitable algorithm for modeling this dataset.\n",
        "\n",
        "Dataset Used: Playground Series Season 3, Episode 8\n",
        "\n",
        "Dataset ML Model: Regression with numerical features\n",
        "\n",
        "Dataset Reference: https://www.kaggle.com/competitions/playground-series-s3e8/\n",
        "\n",
        "One source of potential performance benchmarks: https://www.kaggle.com/competitions/playground-series-s3e8/leaderboard"
      ]
    },
    {
      "cell_type": "markdown",
      "metadata": {
        "id": "7WDbRM3ngY4g"
      },
      "source": [
        "## Task 1 - Prepare Environment"
      ]
    },
    {
      "cell_type": "code",
      "execution_count": 1,
      "metadata": {
        "colab": {
          "base_uri": "https://localhost:8080/"
        },
        "id": "RtGN_DBigY4h",
        "outputId": "2ddcf13a-4939-4da7-ee1c-85ef060f8d97"
      },
      "outputs": [
        {
          "output_type": "stream",
          "name": "stdout",
          "text": [
            "Sun Mar 26 20:37:06 2023       \n",
            "+-----------------------------------------------------------------------------+\n",
            "| NVIDIA-SMI 525.85.12    Driver Version: 525.85.12    CUDA Version: 12.0     |\n",
            "|-------------------------------+----------------------+----------------------+\n",
            "| GPU  Name        Persistence-M| Bus-Id        Disp.A | Volatile Uncorr. ECC |\n",
            "| Fan  Temp  Perf  Pwr:Usage/Cap|         Memory-Usage | GPU-Util  Compute M. |\n",
            "|                               |                      |               MIG M. |\n",
            "|===============================+======================+======================|\n",
            "|   0  NVIDIA A100-SXM...  Off  | 00000000:00:04.0 Off |                    0 |\n",
            "| N/A   31C    P0    45W / 400W |      0MiB / 40960MiB |      0%      Default |\n",
            "|                               |                      |             Disabled |\n",
            "+-------------------------------+----------------------+----------------------+\n",
            "                                                                               \n",
            "+-----------------------------------------------------------------------------+\n",
            "| Processes:                                                                  |\n",
            "|  GPU   GI   CI        PID   Type   Process name                  GPU Memory |\n",
            "|        ID   ID                                                   Usage      |\n",
            "|=============================================================================|\n",
            "|  No running processes found                                                 |\n",
            "+-----------------------------------------------------------------------------+\n"
          ]
        }
      ],
      "source": [
        "# Retrieve the GPU information\n",
        "gpu_info = !nvidia-smi\n",
        "gpu_info = '\\n'.join(gpu_info)\n",
        "print(gpu_info)"
      ]
    },
    {
      "cell_type": "code",
      "execution_count": 2,
      "metadata": {
        "colab": {
          "base_uri": "https://localhost:8080/"
        },
        "id": "-IfKhGIQgY4i",
        "outputId": "7d99a614-e300-426a-a1c9-9ac2457930fa"
      },
      "outputs": [
        {
          "output_type": "stream",
          "name": "stdout",
          "text": [
            "Your runtime has 89.6 gigabytes of available RAM\n",
            "\n"
          ]
        }
      ],
      "source": [
        "# Retrieve the memory configuration\n",
        "from psutil import virtual_memory\n",
        "ram_gb = virtual_memory().total / 1e9\n",
        "print('Your runtime has {:.1f} gigabytes of available RAM\\n'.format(ram_gb))"
      ]
    },
    {
      "cell_type": "code",
      "execution_count": 3,
      "metadata": {
        "colab": {
          "base_uri": "https://localhost:8080/"
        },
        "id": "sTaqGHqFgY4i",
        "outputId": "57f6a587-e864-4e52-fd73-05382bba9158"
      },
      "outputs": [
        {
          "output_type": "stream",
          "name": "stdout",
          "text": [
            "The number of available CPUs is: 12\n"
          ]
        }
      ],
      "source": [
        "# Retrieve the CPU information\n",
        "ncpu = !nproc\n",
        "print(\"The number of available CPUs is:\", ncpu[0])"
      ]
    },
    {
      "cell_type": "markdown",
      "metadata": {
        "id": "1zXMlvJvgY4i"
      },
      "source": [
        "### 1.a) Load libraries and modules"
      ]
    },
    {
      "cell_type": "code",
      "execution_count": 4,
      "metadata": {
        "id": "09YBLSzegY4j"
      },
      "outputs": [],
      "source": [
        "# Set the random seed number for reproducible results\n",
        "RNG_SEED = 888"
      ]
    },
    {
      "cell_type": "code",
      "execution_count": 5,
      "metadata": {
        "id": "8m3TY4ejgY4j"
      },
      "outputs": [],
      "source": [
        "import random\n",
        "random.seed(RNG_SEED)\n",
        "import numpy as np\n",
        "np.random.seed(RNG_SEED)\n",
        "import pandas as pd\n",
        "import seaborn as sns\n",
        "import matplotlib.pyplot as plt\n",
        "import os\n",
        "import sys\n",
        "import math\n",
        "import zipfile\n",
        "import urllib\n",
        "from datetime import datetime\n",
        "from sklearn import preprocessing\n",
        "from sklearn.model_selection import train_test_split\n",
        "from sklearn.model_selection import RepeatedKFold\n",
        "from sklearn.model_selection import cross_val_score\n",
        "from sklearn.metrics import mean_squared_error\n",
        "from sklearn.metrics import r2_score\n",
        "from sklearn.pipeline import Pipeline\n",
        "from sklearn import compose\n",
        "from sklearn import impute\n",
        "from sklearn import datasets\n",
        "\n",
        "# from sklearn.feature_selection import RFE\n",
        "# from imblearn.pipeline import Pipeline\n",
        "# from imblearn.over_sampling import SMOTE\n",
        "# from imblearn.under_sampling import RandomUnderSampler\n",
        "\n",
        "import tensorflow as tf\n",
        "tf.random.set_seed(RNG_SEED)\n",
        "from tensorflow import keras\n",
        "from tensorflow.keras.callbacks import ReduceLROnPlateau"
      ]
    },
    {
      "cell_type": "markdown",
      "metadata": {
        "id": "wMacKxMQgY4k"
      },
      "source": [
        "### 1.b) Set up the controlling parameters and functions"
      ]
    },
    {
      "cell_type": "code",
      "execution_count": 6,
      "metadata": {
        "id": "ntUrjbA1gY4k"
      },
      "outputs": [],
      "source": [
        "# Begin the timer for the script processing\n",
        "START_TIME_SCRIPT = datetime.now()"
      ]
    },
    {
      "cell_type": "code",
      "execution_count": 7,
      "metadata": {
        "colab": {
          "base_uri": "https://localhost:8080/"
        },
        "id": "kP6lFEdKgY4k",
        "outputId": "b3eb12b8-0703-4eb5-f7c4-7b4529c03f31"
      },
      "outputs": [
        {
          "output_type": "stream",
          "name": "stdout",
          "text": [
            "Num GPUs Available: 1\n",
            "TensorFlow version: 2.11.0\n"
          ]
        }
      ],
      "source": [
        "# Set up the number of CPU cores available for multi-thread processing\n",
        "N_JOBS = 1\n",
        "\n",
        "# Set up the flag to stop sending progress emails (setting to True will send status emails!)\n",
        "NOTIFY_STATUS = False\n",
        "\n",
        "# Set the percentage sizes for splitting the dataset\n",
        "TEST_SET_RATIO = 0.1\n",
        "VAL_SET_RATIO = 0.1\n",
        "\n",
        "# Set the name for the class/label column\n",
        "ORIGINAL_LABEL = 'price'\n",
        "CLASS_COLUMN = 'target'\n",
        "\n",
        "# Set the number of folds for cross validation\n",
        "N_FOLDS = 5\n",
        "N_ITERATIONS = 1\n",
        "\n",
        "# Set various default modeling parameters\n",
        "DEFAULT_LOSS = 'mean_squared_error'\n",
        "DEFAULT_METRICS = [tf.keras.metrics.RootMeanSquaredError(name='rmse')]\n",
        "DEFAULT_OPTIMIZER = tf.keras.optimizers.Adam(learning_rate=0.001)\n",
        "DEFAULT_INITIALIZER = tf.keras.initializers.RandomNormal(seed=RNG_SEED)\n",
        "MAX_EPOCHS = 20\n",
        "BATCH_SIZE = 32\n",
        "\n",
        "# Define the labels to use for graphing the data\n",
        "TRAIN_LOSS = \"loss\"\n",
        "VALIDATION_LOSS = \"val_loss\"\n",
        "\n",
        "# Define the directory locations and file names\n",
        "TRAIN_DATASET = 'https://dainesanalytics.com/datasets/kaggle-playground-series-s3e08/train.csv'\n",
        "TEST_DATASET = 'https://dainesanalytics.com/datasets/kaggle-playground-series-s3e08/test.csv'\n",
        "ORIGINAL_DATASET = 'https://dainesanalytics.com/datasets/kaggle-playground-series-s3e08/cubic_zirconia.csv'\n",
        "SUBMISSION_TEMPLATE = 'https://dainesanalytics.com/datasets/kaggle-playground-series-s3e08/sample_submission.csv'\n",
        "SUBMISSION_FILE = 'submission_tensorflow_'\n",
        "\n",
        "# Check the number of GPUs accessible through TensorFlow\n",
        "print('Num GPUs Available:', len(tf.config.list_physical_devices('GPU')))\n",
        "\n",
        "# Print out the TensorFlow version for confirmation\n",
        "print('TensorFlow version:', tf.__version__)"
      ]
    },
    {
      "cell_type": "markdown",
      "metadata": {
        "id": "PIVj6K8vgY4m"
      },
      "source": [
        "### 1.c) Load dataset"
      ]
    },
    {
      "cell_type": "code",
      "execution_count": 8,
      "metadata": {
        "colab": {
          "base_uri": "https://localhost:8080/"
        },
        "id": "wPHVBtrigY4m",
        "outputId": "ab0e7c3b-8287-4f1f-aa49-e1820a6035c4"
      },
      "outputs": [
        {
          "output_type": "stream",
          "name": "stdout",
          "text": [
            "   id  carat        cut color clarity  depth  table     x     y     z  price\n",
            "0   0   1.52    Premium     F     VS2   62.2   58.0  7.27  7.33  4.55  13619\n",
            "1   1   2.03  Very Good     J     SI2   62.0   58.0  8.06  8.12  5.05  13387\n",
            "2   2   0.70      Ideal     G     VS1   61.2   57.0  5.69  5.73  3.50   2772\n",
            "3   3   0.32      Ideal     G     VS1   61.6   56.0  4.38  4.41  2.71    666\n",
            "4   4   1.70    Premium     G     VS2   62.6   59.0  7.65  7.61  4.77  14453\n"
          ]
        }
      ],
      "source": [
        "df_dataset_import = pd.read_csv(TRAIN_DATASET)\n",
        "\n",
        "# Take a peek at the dataframe after import\n",
        "print(df_dataset_import.head())"
      ]
    },
    {
      "cell_type": "code",
      "execution_count": 9,
      "metadata": {
        "colab": {
          "base_uri": "https://localhost:8080/"
        },
        "id": "RU6ZZVXkgY4m",
        "outputId": "1ec9f392-c605-4d9d-d03b-5782511eee27"
      },
      "outputs": [
        {
          "output_type": "stream",
          "name": "stdout",
          "text": [
            "<class 'pandas.core.frame.DataFrame'>\n",
            "RangeIndex: 193573 entries, 0 to 193572\n",
            "Data columns (total 11 columns):\n",
            " #   Column   Non-Null Count   Dtype  \n",
            "---  ------   --------------   -----  \n",
            " 0   id       193573 non-null  int64  \n",
            " 1   carat    193573 non-null  float64\n",
            " 2   cut      193573 non-null  object \n",
            " 3   color    193573 non-null  object \n",
            " 4   clarity  193573 non-null  object \n",
            " 5   depth    193573 non-null  float64\n",
            " 6   table    193573 non-null  float64\n",
            " 7   x        193573 non-null  float64\n",
            " 8   y        193573 non-null  float64\n",
            " 9   z        193573 non-null  float64\n",
            " 10  price    193573 non-null  int64  \n",
            "dtypes: float64(6), int64(2), object(3)\n",
            "memory usage: 16.2+ MB\n"
          ]
        }
      ],
      "source": [
        "df_dataset_import.info(verbose=True)"
      ]
    },
    {
      "cell_type": "code",
      "execution_count": 10,
      "metadata": {
        "colab": {
          "base_uri": "https://localhost:8080/"
        },
        "id": "vVby0_N1gY4n",
        "outputId": "98cd4274-5057-4221-e35d-6db1dcd0b432"
      },
      "outputs": [
        {
          "output_type": "stream",
          "name": "stdout",
          "text": [
            "                  id          carat          depth          table  \\\n",
            "count  193573.000000  193573.000000  193573.000000  193573.000000   \n",
            "mean    96786.000000       0.790688      61.820574      57.227675   \n",
            "std     55879.856166       0.462688       1.081704       1.918844   \n",
            "min         0.000000       0.200000      52.100000      49.000000   \n",
            "25%     48393.000000       0.400000      61.300000      56.000000   \n",
            "50%     96786.000000       0.700000      61.900000      57.000000   \n",
            "75%    145179.000000       1.030000      62.400000      58.000000   \n",
            "max    193572.000000       3.500000      71.600000      79.000000   \n",
            "\n",
            "                   x              y              z          price  \n",
            "count  193573.000000  193573.000000  193573.000000  193573.000000  \n",
            "mean        5.715312       5.720094       3.534246    3969.155414  \n",
            "std         1.109422       1.102333       0.688922    4034.374138  \n",
            "min         0.000000       0.000000       0.000000     326.000000  \n",
            "25%         4.700000       4.710000       2.900000     951.000000  \n",
            "50%         5.700000       5.720000       3.530000    2401.000000  \n",
            "75%         6.510000       6.510000       4.030000    5408.000000  \n",
            "max         9.650000      10.010000      31.300000   18818.000000  \n"
          ]
        }
      ],
      "source": [
        "print(df_dataset_import.describe())"
      ]
    },
    {
      "cell_type": "code",
      "execution_count": 11,
      "metadata": {
        "colab": {
          "base_uri": "https://localhost:8080/"
        },
        "id": "TB-d2RodgY4n",
        "outputId": "5f5779cd-5846-4a93-e921-42f2aae9fdbf"
      },
      "outputs": [
        {
          "output_type": "stream",
          "name": "stdout",
          "text": [
            "id         0\n",
            "carat      0\n",
            "cut        0\n",
            "color      0\n",
            "clarity    0\n",
            "depth      0\n",
            "table      0\n",
            "x          0\n",
            "y          0\n",
            "z          0\n",
            "price      0\n",
            "dtype: int64\n",
            "Total number of NaN in the dataframe:  0\n"
          ]
        }
      ],
      "source": [
        "print(df_dataset_import.isnull().sum())\n",
        "print('Total number of NaN in the dataframe: ', df_dataset_import.isnull().sum().sum())"
      ]
    },
    {
      "cell_type": "markdown",
      "metadata": {
        "id": "xrFRVRBygY4n"
      },
      "source": [
        "### 1.d) Data Cleaning"
      ]
    },
    {
      "cell_type": "code",
      "source": [
        "# Fetch the original dataset and use it to supplement the training\n",
        "df_dataset_original = pd.read_csv(ORIGINAL_DATASET)\n",
        "df_dataset_original.drop(columns=['Unnamed: 0'], inplace=True)\n",
        "df_dataset_original['is_synthetic'] = 0\n",
        "\n",
        "# Take a peek at the dataframe after import\n",
        "print(df_dataset_original.head())"
      ],
      "metadata": {
        "colab": {
          "base_uri": "https://localhost:8080/"
        },
        "id": "KxJHy2gnQU8m",
        "outputId": "4fac3bc2-9f2a-4ba1-f8e6-3fb64e034364"
      },
      "execution_count": 12,
      "outputs": [
        {
          "output_type": "stream",
          "name": "stdout",
          "text": [
            "   carat        cut color clarity  depth  table     x     y     z  price  \\\n",
            "0   0.30      Ideal     E     SI1   62.1   58.0  4.27  4.29  2.66    499   \n",
            "1   0.33    Premium     G      IF   60.8   58.0  4.42  4.46  2.70    984   \n",
            "2   0.90  Very Good     E    VVS2   62.2   60.0  6.04  6.12  3.78   6289   \n",
            "3   0.42      Ideal     F     VS1   61.6   56.0  4.82  4.80  2.96   1082   \n",
            "4   0.31      Ideal     F    VVS1   60.4   59.0  4.35  4.43  2.65    779   \n",
            "\n",
            "   is_synthetic  \n",
            "0             0  \n",
            "1             0  \n",
            "2             0  \n",
            "3             0  \n",
            "4             0  \n"
          ]
        }
      ]
    },
    {
      "cell_type": "code",
      "source": [
        "# Combine the original and synthetic datasets into one training dataset\n",
        "df_dataset_import['is_synthetic'] = 1\n",
        "df_dataset_import.drop(columns=['id'], inplace=True)\n",
        "df_dataset_import = pd.concat([df_dataset_import, df_dataset_original],\n",
        "                              ignore_index=True)\n",
        "\n",
        "df_dataset_import.info(verbose=True)"
      ],
      "metadata": {
        "colab": {
          "base_uri": "https://localhost:8080/"
        },
        "id": "fNK_fZ-MQU4Y",
        "outputId": "56ef455d-901e-4bd9-a1ec-ba64d4fc0d41"
      },
      "execution_count": 13,
      "outputs": [
        {
          "output_type": "stream",
          "name": "stdout",
          "text": [
            "<class 'pandas.core.frame.DataFrame'>\n",
            "RangeIndex: 220540 entries, 0 to 220539\n",
            "Data columns (total 11 columns):\n",
            " #   Column        Non-Null Count   Dtype  \n",
            "---  ------        --------------   -----  \n",
            " 0   carat         220540 non-null  float64\n",
            " 1   cut           220540 non-null  object \n",
            " 2   color         220540 non-null  object \n",
            " 3   clarity       220540 non-null  object \n",
            " 4   depth         219843 non-null  float64\n",
            " 5   table         220540 non-null  float64\n",
            " 6   x             220540 non-null  float64\n",
            " 7   y             220540 non-null  float64\n",
            " 8   z             220540 non-null  float64\n",
            " 9   price         220540 non-null  int64  \n",
            " 10  is_synthetic  220540 non-null  int64  \n",
            "dtypes: float64(6), int64(2), object(3)\n",
            "memory usage: 18.5+ MB\n"
          ]
        }
      ]
    },
    {
      "cell_type": "code",
      "source": [
        "# Standardize the class column to the name of targetVar if required\n",
        "df_dataset_import = df_dataset_import.rename(columns={ORIGINAL_LABEL: CLASS_COLUMN})\n",
        "\n",
        "# Take a peek at the dataframe after cleaning\n",
        "print(df_dataset_import.head())\n",
        "print(df_dataset_import.tail())"
      ],
      "metadata": {
        "colab": {
          "base_uri": "https://localhost:8080/"
        },
        "id": "by7Hd6KEQUzu",
        "outputId": "da212ec0-3604-4b5d-ef81-f64d61185ff0"
      },
      "execution_count": 14,
      "outputs": [
        {
          "output_type": "stream",
          "name": "stdout",
          "text": [
            "   carat        cut color clarity  depth  table     x     y     z  target  \\\n",
            "0   1.52    Premium     F     VS2   62.2   58.0  7.27  7.33  4.55   13619   \n",
            "1   2.03  Very Good     J     SI2   62.0   58.0  8.06  8.12  5.05   13387   \n",
            "2   0.70      Ideal     G     VS1   61.2   57.0  5.69  5.73  3.50    2772   \n",
            "3   0.32      Ideal     G     VS1   61.6   56.0  4.38  4.41  2.71     666   \n",
            "4   1.70    Premium     G     VS2   62.6   59.0  7.65  7.61  4.77   14453   \n",
            "\n",
            "   is_synthetic  \n",
            "0             1  \n",
            "1             1  \n",
            "2             1  \n",
            "3             1  \n",
            "4             1  \n",
            "        carat        cut color clarity  depth  table     x     y     z  \\\n",
            "220535   1.11    Premium     G     SI1   62.3   58.0  6.61  6.52  4.09   \n",
            "220536   0.33      Ideal     H      IF   61.9   55.0  4.44  4.42  2.74   \n",
            "220537   0.51    Premium     E     VS2   61.7   58.0  5.12  5.15  3.17   \n",
            "220538   0.27  Very Good     F    VVS2   61.8   56.0  4.19  4.20  2.60   \n",
            "220539   1.25    Premium     J     SI1   62.0   58.0  6.90  6.88  4.27   \n",
            "\n",
            "        target  is_synthetic  \n",
            "220535    5408             0  \n",
            "220536    1114             0  \n",
            "220537    1656             0  \n",
            "220538     682             0  \n",
            "220539    5166             0  \n"
          ]
        }
      ]
    },
    {
      "cell_type": "code",
      "execution_count": 15,
      "metadata": {
        "colab": {
          "base_uri": "https://localhost:8080/"
        },
        "id": "yVWY15q4gY4n",
        "outputId": "b9d1f5a5-7ba8-465c-d75d-f50de1092b42"
      },
      "outputs": [
        {
          "output_type": "stream",
          "name": "stdout",
          "text": [
            "<class 'pandas.core.frame.DataFrame'>\n",
            "RangeIndex: 220540 entries, 0 to 220539\n",
            "Data columns (total 11 columns):\n",
            " #   Column        Non-Null Count   Dtype  \n",
            "---  ------        --------------   -----  \n",
            " 0   carat         220540 non-null  float64\n",
            " 1   cut           220540 non-null  object \n",
            " 2   color         220540 non-null  object \n",
            " 3   clarity       220540 non-null  object \n",
            " 4   depth         219843 non-null  float64\n",
            " 5   table         220540 non-null  float64\n",
            " 6   x             220540 non-null  float64\n",
            " 7   y             220540 non-null  float64\n",
            " 8   z             220540 non-null  float64\n",
            " 9   target        220540 non-null  int64  \n",
            " 10  is_synthetic  220540 non-null  int64  \n",
            "dtypes: float64(6), int64(2), object(3)\n",
            "memory usage: 18.5+ MB\n"
          ]
        }
      ],
      "source": [
        "df_dataset_import.info(verbose=True)"
      ]
    },
    {
      "cell_type": "code",
      "execution_count": 16,
      "metadata": {
        "colab": {
          "base_uri": "https://localhost:8080/"
        },
        "id": "k6r5ZI7QgY4n",
        "outputId": "00868c25-5092-4ecc-a958-56e55ccaea3d"
      },
      "outputs": [
        {
          "output_type": "stream",
          "name": "stdout",
          "text": [
            "               carat          depth          table              x  \\\n",
            "count  220540.000000  219843.000000  220540.000000  220540.000000   \n",
            "mean        0.791628      61.811561      57.255604       5.717090   \n",
            "std         0.464561       1.126671       1.961255       1.111782   \n",
            "min         0.200000      50.800000      49.000000       0.000000   \n",
            "25%         0.400000      61.200000      56.000000       4.700000   \n",
            "50%         0.700000      61.900000      57.000000       5.700000   \n",
            "75%         1.030000      62.400000      58.000000       6.520000   \n",
            "max         4.500000      73.600000      79.000000      10.230000   \n",
            "\n",
            "                   y              z         target   is_synthetic  \n",
            "count  220540.000000  220540.000000  220540.000000  220540.000000  \n",
            "mean        5.721742       3.534712    3965.531450       0.877723  \n",
            "std         1.110328       0.692876    4033.215125       0.327606  \n",
            "min         0.000000       0.000000     326.000000       0.000000  \n",
            "25%         4.710000       2.900000     949.000000       1.000000  \n",
            "50%         5.720000       3.530000    2398.000000       1.000000  \n",
            "75%         6.510000       4.030000    5405.000000       1.000000  \n",
            "max        58.900000      31.800000   18818.000000       1.000000  \n"
          ]
        }
      ],
      "source": [
        "print(df_dataset_import.describe())"
      ]
    },
    {
      "cell_type": "code",
      "execution_count": 17,
      "metadata": {
        "colab": {
          "base_uri": "https://localhost:8080/"
        },
        "id": "ELh6lb58gY4o",
        "outputId": "2235d068-ca30-4c05-e3d3-231a4f8d3c40"
      },
      "outputs": [
        {
          "output_type": "stream",
          "name": "stdout",
          "text": [
            "carat             0\n",
            "cut               0\n",
            "color             0\n",
            "clarity           0\n",
            "depth           697\n",
            "table             0\n",
            "x                 0\n",
            "y                 0\n",
            "z                 0\n",
            "target            0\n",
            "is_synthetic      0\n",
            "dtype: int64\n",
            "Total number of NaN in the dataframe:  697\n"
          ]
        }
      ],
      "source": [
        "print(df_dataset_import.isnull().sum())\n",
        "print('Total number of NaN in the dataframe: ', df_dataset_import.isnull().sum().sum())"
      ]
    },
    {
      "cell_type": "markdown",
      "metadata": {
        "id": "qtX0hGYQgY4o"
      },
      "source": [
        "### 1.e) Splitting Data into Sets"
      ]
    },
    {
      "cell_type": "code",
      "execution_count": 18,
      "metadata": {
        "colab": {
          "base_uri": "https://localhost:8080/"
        },
        "id": "f5sZ55iggY4o",
        "outputId": "093ffe9a-780c-4367-bd8e-30906ff46882"
      },
      "outputs": [
        {
          "output_type": "stream",
          "name": "stdout",
          "text": [
            "df_dataset_import.shape: (220540, 11) df_features_train.shape: (220540, 10) df_target_train.shape: (220540,)\n"
          ]
        }
      ],
      "source": [
        "# Use variable total_column_count to hold the number of columns in the dataframe\n",
        "total_column_count = len(df_dataset_import.columns)\n",
        "\n",
        "# Set up variable total_feature_count for the total number of attribute columns\n",
        "total_feature_count = total_column_count-1\n",
        "\n",
        "# We create attribute-only and target-only datasets (df_features_train and df_target_train)\n",
        "df_target_train = df_dataset_import['target']\n",
        "df_features_train = df_dataset_import.drop(['target'], axis=1)\n",
        "\n",
        "print(\"df_dataset_import.shape: {} df_features_train.shape: {} df_target_train.shape: {}\".format(df_dataset_import.shape, df_features_train.shape, df_target_train.shape))"
      ]
    },
    {
      "cell_type": "markdown",
      "metadata": {
        "id": "sC8HhMFigY4o"
      },
      "source": [
        "### 1.f) Set up the parameters for data visualization"
      ]
    },
    {
      "cell_type": "code",
      "execution_count": 19,
      "metadata": {
        "id": "tpHSlWMAgY4o"
      },
      "outputs": [],
      "source": [
        "# Set up the number of row and columns for visualization display. display_rows * display_columns should be >= total_feature_count\n",
        "display_columns = 4\n",
        "if total_feature_count % display_columns == 0 :\n",
        "    display_rows = total_feature_count // display_columns\n",
        "else :\n",
        "    display_rows = (total_feature_count // display_columns) + 1\n",
        "\n",
        "# Set figure width to display the data visualization plots\n",
        "fig_size = plt.rcParams[\"figure.figsize\"]\n",
        "fig_size[0] = display_columns * 4\n",
        "fig_size[1] = display_rows * 4\n",
        "plt.rcParams[\"figure.figsize\"] = fig_size"
      ]
    },
    {
      "cell_type": "markdown",
      "metadata": {
        "id": "ZY_jdG1KgY4o"
      },
      "source": [
        "## Task 2 - Summarize and Visualize Data"
      ]
    },
    {
      "cell_type": "code",
      "execution_count": 20,
      "metadata": {
        "colab": {
          "base_uri": "https://localhost:8080/",
          "height": 472
        },
        "id": "95yn8aQcgY4p",
        "outputId": "eb78da30-2e14-46d4-c4c9-632dfb1c50e3"
      },
      "outputs": [
        {
          "output_type": "display_data",
          "data": {
            "text/plain": [
              "<Figure size 1152x864 with 12 Axes>"
            ],
            "image/png": "[encoded data removed]"
          },
          "metadata": {
            "needs_background": "light"
          }
        }
      ],
      "source": [
        "# Box and Whisker plot for each attribute\n",
        "df_features_train.plot(kind='box', subplots=True, layout=(display_rows, display_columns))\n",
        "plt.show()"
      ]
    },
    {
      "cell_type": "code",
      "execution_count": 21,
      "metadata": {
        "id": "Pm7hPV1ygY4p",
        "colab": {
          "base_uri": "https://localhost:8080/",
          "height": 1000
        },
        "outputId": "47e7d916-03d0-4a67-dfb2-03116eab6c9f"
      },
      "outputs": [
        {
          "output_type": "display_data",
          "data": {
            "text/plain": [
              "<Figure size 1440x1440 with 2 Axes>"
            ],
            "image/png": "[encoded data removed]"
          },
          "metadata": {
            "needs_background": "light"
          }
        }
      ],
      "source": [
        "# Correlation matrix\n",
        "fig = plt.figure(figsize=(20, 20))\n",
        "correlations = df_features_train.corr(method='pearson')\n",
        "sns.heatmap(correlations, annot=True, cmap=plt.cm.PuBu)\n",
        "plt.show()"
      ]
    },
    {
      "cell_type": "markdown",
      "metadata": {
        "id": "Na89zUHsgY4p"
      },
      "source": [
        "## Task 3 - Pre-process Data"
      ]
    },
    {
      "cell_type": "markdown",
      "metadata": {
        "id": "wWpp40QLgY4p"
      },
      "source": [
        "### 3.a) Feature Scaling"
      ]
    },
    {
      "cell_type": "code",
      "execution_count": 22,
      "metadata": {
        "colab": {
          "base_uri": "https://localhost:8080/"
        },
        "id": "Y5Tr664fgY4p",
        "outputId": "71157281-ba45-4358-9ff1-04e3c9575299"
      },
      "outputs": [
        {
          "output_type": "stream",
          "name": "stdout",
          "text": [
            "Number of numerical columns: 7\n",
            "Number of categorical columns: 3\n",
            "Total number of columns in the feature dataframe: 10\n"
          ]
        }
      ],
      "source": [
        "# Compose pipeline for the numerical and categorical features (Block #1 of 2)\n",
        "numeric_columns = df_features_train.select_dtypes(include=['int','float']).columns\n",
        "numeric_transformer = Pipeline(steps=[\n",
        "    ('imputer', impute.SimpleImputer(strategy=\"median\")),\n",
        "    ('scaler', preprocessing.StandardScaler())\n",
        "])\n",
        "categorical_columns = df_features_train.select_dtypes(include=['object','bool','category']).columns\n",
        "categorical_transformer = Pipeline(steps=[\n",
        "    ('imputer', impute.SimpleImputer(strategy='constant', fill_value='UKNOWN')),\n",
        "    ('onehot', preprocessing.OneHotEncoder(sparse=False, handle_unknown='ignore'))\n",
        "])\n",
        "\n",
        "print(\"Number of numerical columns:\", len(numeric_columns))\n",
        "print(\"Number of categorical columns:\", len(categorical_columns))\n",
        "print(\"Total number of columns in the feature dataframe:\", df_features_train.shape[1])"
      ]
    },
    {
      "cell_type": "code",
      "execution_count": 23,
      "metadata": {
        "colab": {
          "base_uri": "https://localhost:8080/"
        },
        "id": "ehI4QlSogY4p",
        "outputId": "cad632c8-78ec-4de3-a1ff-7eff806f76e1"
      },
      "outputs": [
        {
          "output_type": "stream",
          "name": "stdout",
          "text": [
            "Transformed features from df_features_train.shape: (220540, 10) to array_features_train.shape: (220540, 27)\n"
          ]
        },
        {
          "output_type": "stream",
          "name": "stderr",
          "text": [
            "/usr/local/lib/python3.9/dist-packages/sklearn/preprocessing/_encoders.py:868: FutureWarning: `sparse` was renamed to `sparse_output` in version 1.2 and will be removed in 1.4. `sparse_output` is ignored unless you leave `sparse` to its default value.\n",
            "  warnings.warn(\n"
          ]
        }
      ],
      "source": [
        "# Compose pipeline for the numerical and categorical features (Block #2 of 2)\n",
        "preprocessor = compose.ColumnTransformer(transformers=[\n",
        "    ('num', numeric_transformer, numeric_columns),\n",
        "    ('cat', categorical_transformer, categorical_columns)\n",
        "    ], remainder='passthrough')\n",
        "\n",
        "# Display the shapes of the training dataset for final inspection\n",
        "array_features_train = preprocessor.fit_transform(df_features_train)\n",
        "print(\"Transformed features from df_features_train.shape: {} to array_features_train.shape: {}\".format(df_features_train.shape, array_features_train.shape))"
      ]
    },
    {
      "cell_type": "markdown",
      "metadata": {
        "id": "rypMMNzzgY4q"
      },
      "source": [
        "### 3.b) Training Data Balancing"
      ]
    },
    {
      "cell_type": "code",
      "execution_count": 24,
      "metadata": {
        "id": "B2k0MMY-gY4q"
      },
      "outputs": [],
      "source": [
        "# Not applicable for this iteration of the project"
      ]
    },
    {
      "cell_type": "markdown",
      "metadata": {
        "id": "2LZ_O8gJgY4q"
      },
      "source": [
        "### 3.c) Feature Selection"
      ]
    },
    {
      "cell_type": "code",
      "execution_count": 25,
      "metadata": {
        "id": "Rw9Z2jHQgY4q"
      },
      "outputs": [],
      "source": [
        "# Not applicable for this iteration of the project"
      ]
    },
    {
      "cell_type": "markdown",
      "metadata": {
        "id": "yxUhP3jKgY4q"
      },
      "source": [
        "### 3.d) Display the Final Datasets for Model-Building"
      ]
    },
    {
      "cell_type": "code",
      "execution_count": 26,
      "metadata": {
        "colab": {
          "base_uri": "https://localhost:8080/"
        },
        "id": "fF3CFB8ggY4q",
        "outputId": "1d8224f6-023f-4bae-ce86-7910fc9350fd"
      },
      "outputs": [
        {
          "output_type": "stream",
          "name": "stdout",
          "text": [
            "array_features_train.shape: (220540, 27) array_target_train.shape: (220540,)\n"
          ]
        },
        {
          "output_type": "stream",
          "name": "stderr",
          "text": [
            "/usr/local/lib/python3.9/dist-packages/sklearn/preprocessing/_encoders.py:868: FutureWarning: `sparse` was renamed to `sparse_output` in version 1.2 and will be removed in 1.4. `sparse_output` is ignored unless you leave `sparse` to its default value.\n",
            "  warnings.warn(\n"
          ]
        }
      ],
      "source": [
        "# Finalize the training dataset for the modeling activities\n",
        "array_features_train = preprocessor.fit_transform(df_features_train)\n",
        "array_target_train = df_target_train.to_numpy()\n",
        "print(\"array_features_train.shape: {} array_target_train.shape: {}\".format(array_features_train.shape, array_target_train.shape))"
      ]
    },
    {
      "cell_type": "markdown",
      "metadata": {
        "id": "OlGHFL9OgY4q"
      },
      "source": [
        "## Task 4 - Train and Tune Models"
      ]
    },
    {
      "cell_type": "markdown",
      "metadata": {
        "id": "qRysv_23gY4q"
      },
      "source": [
        "### 4.a) Set test options and evaluation metric"
      ]
    },
    {
      "cell_type": "code",
      "execution_count": 27,
      "metadata": {
        "id": "ad5r3B5bgY4q"
      },
      "outputs": [],
      "source": [
        "# Define the baseline model for benchmarking\n",
        "def create_nn_model(input_param=array_features_train.shape[1],\n",
        "                    layer1_nodes=256, layer2_nodes=256, layer3_nodes=256, layer4_nodes=128, layer5_nodes=128,\n",
        "                    layer1_dropout=0, layer2_dropout=0, layer3_dropout=0, layer4_dropout=0, layer5_dropout=0,\n",
        "                    loss_param=DEFAULT_LOSS, opt_param=DEFAULT_OPTIMIZER, metrics_param=DEFAULT_METRICS):\n",
        "    nn_model = keras.Sequential([\n",
        "        keras.layers.Dense(layer1_nodes, input_shape=(input_param,), activation='relu'),\n",
        "        keras.layers.Dropout(layer1_dropout),\n",
        "        keras.layers.Dense(layer2_nodes, activation='relu'),\n",
        "        keras.layers.Dropout(layer2_dropout),\n",
        "        keras.layers.Dense(layer3_nodes, activation='relu'),\n",
        "        keras.layers.Dropout(layer3_dropout),\n",
        "        keras.layers.Dense(layer4_nodes, activation='relu'),\n",
        "        keras.layers.Dropout(layer4_dropout),\n",
        "        keras.layers.Dense(layer5_nodes, activation='relu'),\n",
        "        keras.layers.Dropout(layer5_dropout),\n",
        "        keras.layers.Dense(1)\n",
        "    ])\n",
        "    nn_model.compile(loss=loss_param, optimizer=opt_param, metrics=metrics_param)\n",
        "    return nn_model"
      ]
    },
    {
      "cell_type": "code",
      "source": [
        "# Initialize the default model and get a baseline result\n",
        "start_time_module = datetime.now()\n",
        "tf.keras.utils.set_random_seed(RNG_SEED)\n",
        "baseline_model = create_nn_model()\n",
        "baseline_model.fit(array_features_train, array_target_train, epochs=MAX_EPOCHS, batch_size=BATCH_SIZE,\n",
        "                   validation_split=VAL_SET_RATIO, verbose=1)\n",
        "print('Total time for model fitting and cross validating:', (datetime.now() - start_time_module))"
      ],
      "metadata": {
        "id": "gVEnTlnKWz2N",
        "colab": {
          "base_uri": "https://localhost:8080/"
        },
        "outputId": "9e8c3fb2-131e-4164-8ab1-dae03bed5602"
      },
      "execution_count": 28,
      "outputs": [
        {
          "output_type": "stream",
          "name": "stdout",
          "text": [
            "Epoch 1/20\n",
            "6203/6203 [==============================] - 24s 3ms/step - loss: 701855.0625 - rmse: 837.7679 - val_loss: 1200717.6250 - val_rmse: 1095.7726\n",
            "Epoch 2/20\n",
            "6203/6203 [==============================] - 20s 3ms/step - loss: 437628.5312 - rmse: 661.5350 - val_loss: 1223955.6250 - val_rmse: 1106.3253\n",
            "Epoch 3/20\n",
            "6203/6203 [==============================] - 20s 3ms/step - loss: 411882.8125 - rmse: 641.7809 - val_loss: 1199070.5000 - val_rmse: 1095.0208\n",
            "Epoch 4/20\n",
            "6203/6203 [==============================] - 20s 3ms/step - loss: 391268.6562 - rmse: 625.5147 - val_loss: 1389666.8750 - val_rmse: 1178.8413\n",
            "Epoch 5/20\n",
            "6203/6203 [==============================] - 20s 3ms/step - loss: 381048.4688 - rmse: 617.2912 - val_loss: 1002130.0000 - val_rmse: 1001.0644\n",
            "Epoch 6/20\n",
            "6203/6203 [==============================] - 20s 3ms/step - loss: 378748.5625 - rmse: 615.4255 - val_loss: 933758.4375 - val_rmse: 966.3118\n",
            "Epoch 7/20\n",
            "6203/6203 [==============================] - 20s 3ms/step - loss: 368474.0000 - rmse: 607.0206 - val_loss: 897043.4375 - val_rmse: 947.1238\n",
            "Epoch 8/20\n",
            "6203/6203 [==============================] - 21s 3ms/step - loss: 362300.9375 - rmse: 601.9144 - val_loss: 888339.0625 - val_rmse: 942.5174\n",
            "Epoch 9/20\n",
            "6203/6203 [==============================] - 21s 3ms/step - loss: 362590.2812 - rmse: 602.1547 - val_loss: 873453.6875 - val_rmse: 934.5875\n",
            "Epoch 10/20\n",
            "6203/6203 [==============================] - 21s 3ms/step - loss: 359642.0312 - rmse: 599.7016 - val_loss: 822952.5625 - val_rmse: 907.1673\n",
            "Epoch 11/20\n",
            "6203/6203 [==============================] - 21s 3ms/step - loss: 356746.9062 - rmse: 597.2829 - val_loss: 861765.8750 - val_rmse: 928.3135\n",
            "Epoch 12/20\n",
            "6203/6203 [==============================] - 21s 3ms/step - loss: 353681.3438 - rmse: 594.7111 - val_loss: 857241.0625 - val_rmse: 925.8731\n",
            "Epoch 13/20\n",
            "6203/6203 [==============================] - 20s 3ms/step - loss: 353910.4375 - rmse: 594.9037 - val_loss: 696579.5625 - val_rmse: 834.6134\n",
            "Epoch 14/20\n",
            "6203/6203 [==============================] - 21s 3ms/step - loss: 349905.8125 - rmse: 591.5284 - val_loss: 746181.5000 - val_rmse: 863.8179\n",
            "Epoch 15/20\n",
            "6203/6203 [==============================] - 20s 3ms/step - loss: 349067.2188 - rmse: 590.8191 - val_loss: 718362.7500 - val_rmse: 847.5629\n",
            "Epoch 16/20\n",
            "6203/6203 [==============================] - 21s 3ms/step - loss: 349797.1562 - rmse: 591.4365 - val_loss: 773203.5000 - val_rmse: 879.3199\n",
            "Epoch 17/20\n",
            "6203/6203 [==============================] - 20s 3ms/step - loss: 346203.4062 - rmse: 588.3905 - val_loss: 717319.2500 - val_rmse: 846.9470\n",
            "Epoch 18/20\n",
            "6203/6203 [==============================] - 20s 3ms/step - loss: 344540.2500 - rmse: 586.9755 - val_loss: 697771.4375 - val_rmse: 835.3271\n",
            "Epoch 19/20\n",
            "6203/6203 [==============================] - 20s 3ms/step - loss: 346412.3125 - rmse: 588.5680 - val_loss: 660230.8750 - val_rmse: 812.5459\n",
            "Epoch 20/20\n",
            "6203/6203 [==============================] - 20s 3ms/step - loss: 344262.9375 - rmse: 586.7392 - val_loss: 685230.0000 - val_rmse: 827.7862\n",
            "Total time for model fitting and cross validating: 0:06:53.106283\n"
          ]
        }
      ]
    },
    {
      "cell_type": "code",
      "source": [
        "baseline_model.evaluate(array_features_train, array_target_train)"
      ],
      "metadata": {
        "colab": {
          "base_uri": "https://localhost:8080/"
        },
        "id": "hceOTbCct8Et",
        "outputId": "82fbafd7-5acd-44c3-f8fe-af4f44ca4bd0"
      },
      "execution_count": 29,
      "outputs": [
        {
          "output_type": "stream",
          "name": "stdout",
          "text": [
            "6892/6892 [==============================] - 14s 2ms/step - loss: 360098.0312 - rmse: 600.0817\n"
          ]
        },
        {
          "output_type": "execute_result",
          "data": {
            "text/plain": [
              "[360098.03125, 600.0817260742188]"
            ]
          },
          "metadata": {},
          "execution_count": 29
        }
      ]
    },
    {
      "cell_type": "markdown",
      "metadata": {
        "id": "Fcks1-zsgY4r"
      },
      "source": [
        "### 4.b) Algorithm Tuning"
      ]
    },
    {
      "cell_type": "code",
      "execution_count": 30,
      "metadata": {
        "id": "Ab8YuMfugY4r"
      },
      "outputs": [],
      "source": [
        "# Not applicable for this iteration of modeling"
      ]
    },
    {
      "cell_type": "markdown",
      "metadata": {
        "id": "sJ5WVT3XgY4r"
      },
      "source": [
        "## Task 5 - Finalize Model and Make Predictions"
      ]
    },
    {
      "cell_type": "markdown",
      "source": [
        "### 5.a) Train the Final Model"
      ],
      "metadata": {
        "id": "yEI8o9BoeJ3m"
      }
    },
    {
      "cell_type": "code",
      "execution_count": 31,
      "metadata": {
        "colab": {
          "base_uri": "https://localhost:8080/"
        },
        "id": "NB72_n-CgY4r",
        "outputId": "20c7b25c-7e29-40e1-e36e-0ef1f00b9ab1"
      },
      "outputs": [
        {
          "output_type": "stream",
          "name": "stdout",
          "text": [
            "Model: \"sequential_1\"\n",
            "_________________________________________________________________\n",
            " Layer (type)                Output Shape              Param #   \n",
            "=================================================================\n",
            " dense_6 (Dense)             (None, 256)               7168      \n",
            "                                                                 \n",
            " dropout_5 (Dropout)         (None, 256)               0         \n",
            "                                                                 \n",
            " dense_7 (Dense)             (None, 256)               65792     \n",
            "                                                                 \n",
            " dropout_6 (Dropout)         (None, 256)               0         \n",
            "                                                                 \n",
            " dense_8 (Dense)             (None, 256)               65792     \n",
            "                                                                 \n",
            " dropout_7 (Dropout)         (None, 256)               0         \n",
            "                                                                 \n",
            " dense_9 (Dense)             (None, 128)               32896     \n",
            "                                                                 \n",
            " dropout_8 (Dropout)         (None, 128)               0         \n",
            "                                                                 \n",
            " dense_10 (Dense)            (None, 128)               16512     \n",
            "                                                                 \n",
            " dropout_9 (Dropout)         (None, 128)               0         \n",
            "                                                                 \n",
            " dense_11 (Dense)            (None, 1)                 129       \n",
            "                                                                 \n",
            "=================================================================\n",
            "Total params: 188,289\n",
            "Trainable params: 188,289\n",
            "Non-trainable params: 0\n",
            "_________________________________________________________________\n"
          ]
        }
      ],
      "source": [
        "FINAL_OPTIMIZER = tf.keras.optimizers.Adam(learning_rate=0.001)\n",
        "tf.keras.utils.set_random_seed(RNG_SEED)\n",
        "final_model = create_nn_model(opt_param=FINAL_OPTIMIZER)\n",
        "final_model.fit(array_features_train, array_target_train, epochs=MAX_EPOCHS, batch_size=BATCH_SIZE, verbose=0)\n",
        "final_model.summary()"
      ]
    },
    {
      "cell_type": "markdown",
      "source": [
        "### 5.b) Load Test Dataset and Make Predictions"
      ],
      "metadata": {
        "id": "w7SRrT8PeMy_"
      }
    },
    {
      "cell_type": "code",
      "source": [
        "df_features_test = pd.read_csv(TEST_DATASET)\n",
        "df_features_test['is_synthetic'] = 1\n",
        "\n",
        "# Take a peek at the dataframe after import\n",
        "print(df_features_test.head())"
      ],
      "metadata": {
        "colab": {
          "base_uri": "https://localhost:8080/"
        },
        "id": "jMsN71j5eO1-",
        "outputId": "8117f63d-c8bd-470f-93e2-4226df8c2042"
      },
      "execution_count": 32,
      "outputs": [
        {
          "output_type": "stream",
          "name": "stdout",
          "text": [
            "       id  carat        cut color clarity  depth  table     x     y     z  \\\n",
            "0  193573   0.35      Ideal     D     VS2   62.3   56.0  4.51  4.54  2.82   \n",
            "1  193574   0.77  Very Good     F     SI2   62.8   56.0  5.83  5.87  3.68   \n",
            "2  193575   0.71      Ideal     I     VS2   61.9   53.0  5.77  5.74  3.55   \n",
            "3  193576   0.33      Ideal     G    VVS2   61.6   55.0  4.44  4.42  2.73   \n",
            "4  193577   1.20  Very Good     I     VS2   62.7   56.0  6.75  6.79  4.24   \n",
            "\n",
            "   is_synthetic  \n",
            "0             1  \n",
            "1             1  \n",
            "2             1  \n",
            "3             1  \n",
            "4             1  \n"
          ]
        }
      ]
    },
    {
      "cell_type": "code",
      "source": [
        "id_column_name = df_features_test.columns[0]\n",
        "df_kaggle_submission = pd.DataFrame()\n",
        "df_kaggle_submission[id_column_name] = df_features_test[id_column_name]\n",
        "print(df_kaggle_submission.head())"
      ],
      "metadata": {
        "colab": {
          "base_uri": "https://localhost:8080/"
        },
        "id": "RFwGkYD3eOsF",
        "outputId": "5ed0e785-eebc-4bc8-84fd-6685efd42a83"
      },
      "execution_count": 33,
      "outputs": [
        {
          "output_type": "stream",
          "name": "stdout",
          "text": [
            "       id\n",
            "0  193573\n",
            "1  193574\n",
            "2  193575\n",
            "3  193576\n",
            "4  193577\n"
          ]
        }
      ]
    },
    {
      "cell_type": "code",
      "source": [
        "# Take a peek at the dataframe after cleaning\n",
        "print(df_features_test.head())"
      ],
      "metadata": {
        "colab": {
          "base_uri": "https://localhost:8080/"
        },
        "id": "_XGy-F2JeOmJ",
        "outputId": "6cf24607-3d31-4035-f807-fec3f7ae12df"
      },
      "execution_count": 34,
      "outputs": [
        {
          "output_type": "stream",
          "name": "stdout",
          "text": [
            "       id  carat        cut color clarity  depth  table     x     y     z  \\\n",
            "0  193573   0.35      Ideal     D     VS2   62.3   56.0  4.51  4.54  2.82   \n",
            "1  193574   0.77  Very Good     F     SI2   62.8   56.0  5.83  5.87  3.68   \n",
            "2  193575   0.71      Ideal     I     VS2   61.9   53.0  5.77  5.74  3.55   \n",
            "3  193576   0.33      Ideal     G    VVS2   61.6   55.0  4.44  4.42  2.73   \n",
            "4  193577   1.20  Very Good     I     VS2   62.7   56.0  6.75  6.79  4.24   \n",
            "\n",
            "   is_synthetic  \n",
            "0             1  \n",
            "1             1  \n",
            "2             1  \n",
            "3             1  \n",
            "4             1  \n"
          ]
        }
      ]
    },
    {
      "cell_type": "code",
      "source": [
        "print(df_features_test.describe())"
      ],
      "metadata": {
        "colab": {
          "base_uri": "https://localhost:8080/"
        },
        "id": "_zGyEtXb_lkT",
        "outputId": "d39e1193-9480-4de5-b7fe-7ac74f88c7c5"
      },
      "execution_count": 35,
      "outputs": [
        {
          "output_type": "stream",
          "name": "stdout",
          "text": [
            "                  id          carat          depth          table  \\\n",
            "count  129050.000000  129050.000000  129050.000000  129050.000000   \n",
            "mean   258097.500000       0.789256      61.820522      57.239608   \n",
            "std     37253.670457       0.462502       1.080249       1.918908   \n",
            "min    193573.000000       0.200000      53.200000      51.000000   \n",
            "25%    225835.250000       0.400000      61.300000      56.000000   \n",
            "50%    258097.500000       0.700000      61.900000      57.000000   \n",
            "75%    290359.750000       1.030000      62.400000      58.000000   \n",
            "max    322622.000000       4.500000      70.600000      70.000000   \n",
            "\n",
            "                   x              y              z  is_synthetic  \n",
            "count  129050.000000  129050.000000  129050.000000      129050.0  \n",
            "mean        5.711767       5.716336       3.531802           1.0  \n",
            "std         1.109666       1.102485       0.690749           0.0  \n",
            "min         0.000000       0.000000       0.000000           1.0  \n",
            "25%         4.700000       4.710000       2.900000           1.0  \n",
            "50%         5.700000       5.720000       3.530000           1.0  \n",
            "75%         6.510000       6.510000       4.030000           1.0  \n",
            "max        10.140000      10.140000      31.800000           1.0  \n"
          ]
        }
      ]
    },
    {
      "cell_type": "code",
      "source": [
        "# Finalize the test dataset for the testing activities\n",
        "array_features_test = preprocessor.transform(df_features_test)\n",
        "print(\"Transformed features from df_features_test.shape: {} to array_features_test.shape: {}\".format(df_features_test.shape, array_features_test.shape))"
      ],
      "metadata": {
        "colab": {
          "base_uri": "https://localhost:8080/"
        },
        "id": "ujZ0VhJweOiN",
        "outputId": "99770af1-66f9-43c8-c41f-b868a6eb049d"
      },
      "execution_count": 36,
      "outputs": [
        {
          "output_type": "stream",
          "name": "stdout",
          "text": [
            "Transformed features from df_features_test.shape: (129050, 11) to array_features_test.shape: (129050, 27)\n"
          ]
        }
      ]
    },
    {
      "cell_type": "code",
      "source": [
        "# Make batched predictions\n",
        "test_predictions =  final_model.predict(array_features_test)\n",
        "print(test_predictions)"
      ],
      "metadata": {
        "colab": {
          "base_uri": "https://localhost:8080/"
        },
        "id": "QPVItTF-eOec",
        "outputId": "c1021b11-62c0-407a-d83b-5b826b953205"
      },
      "execution_count": 37,
      "outputs": [
        {
          "output_type": "stream",
          "name": "stdout",
          "text": [
            "4033/4033 [==============================] - 6s 1ms/step\n",
            "[[ 905.4874]\n",
            " [2535.121 ]\n",
            " [2473.6104]\n",
            " ...\n",
            " [7654.3384]\n",
            " [5850.572 ]\n",
            " [4292.6763]]\n"
          ]
        }
      ]
    },
    {
      "cell_type": "code",
      "source": [
        "df_sample_submission = pd.read_csv(SUBMISSION_TEMPLATE)\n",
        "df_sample_submission.drop(columns=[id_column_name], inplace=True)\n",
        "submission_header = list(df_sample_submission.columns)[0]\n",
        "print(submission_header)"
      ],
      "metadata": {
        "colab": {
          "base_uri": "https://localhost:8080/"
        },
        "id": "AdJ5wht4eOZV",
        "outputId": "1afb7e5c-92a8-4b21-bbd7-e207045231d0"
      },
      "execution_count": 38,
      "outputs": [
        {
          "output_type": "stream",
          "name": "stdout",
          "text": [
            "price\n"
          ]
        }
      ]
    },
    {
      "cell_type": "code",
      "source": [
        "df_kaggle_submission[submission_header] = test_predictions\n",
        "print(df_kaggle_submission.head())"
      ],
      "metadata": {
        "colab": {
          "base_uri": "https://localhost:8080/"
        },
        "id": "8sKe7vgDgTcm",
        "outputId": "6c485cd9-b50a-4d37-e728-9819e278d77b"
      },
      "execution_count": 39,
      "outputs": [
        {
          "output_type": "stream",
          "name": "stdout",
          "text": [
            "       id        price\n",
            "0  193573   905.487427\n",
            "1  193574  2535.121094\n",
            "2  193575  2473.610352\n",
            "3  193576   840.789490\n",
            "4  193577  5800.936035\n"
          ]
        }
      ]
    },
    {
      "cell_type": "code",
      "source": [
        "submission_file = df_kaggle_submission.to_csv(header=True, index=False)\n",
        "filename = SUBMISSION_FILE + datetime.now().strftime('%Y%m%d-%H%M') + '.csv'\n",
        "with open(filename, 'w') as f:\n",
        "    f.write(submission_file)\n",
        "    print('Completed writing output file: ' + filename)"
      ],
      "metadata": {
        "colab": {
          "base_uri": "https://localhost:8080/"
        },
        "id": "IqsLbXH8eOTW",
        "outputId": "fd2389d7-e9d0-4d8d-a247-d73aecdff9d2"
      },
      "execution_count": 40,
      "outputs": [
        {
          "output_type": "stream",
          "name": "stdout",
          "text": [
            "Completed writing output file: submission_tensorflow_20230326-2050.csv\n"
          ]
        }
      ]
    },
    {
      "cell_type": "code",
      "execution_count": 41,
      "metadata": {
        "colab": {
          "base_uri": "https://localhost:8080/"
        },
        "id": "25hXAXzNgY4s",
        "outputId": "31ca0221-dbd3-4462-ecb3-0f77813e2d81"
      },
      "outputs": [
        {
          "output_type": "stream",
          "name": "stdout",
          "text": [
            "Total time for the script: 0:13:35.199370\n"
          ]
        }
      ],
      "source": [
        "print ('Total time for the script:',(datetime.now() - START_TIME_SCRIPT))"
      ]
    }
  ],
  "metadata": {
    "accelerator": "GPU",
    "colab": {
      "provenance": []
    },
    "kernelspec": {
      "display_name": "Python 3 (ipykernel)",
      "language": "python",
      "name": "python3"
    },
    "language_info": {
      "codemirror_mode": {
        "name": "ipython",
        "version": 3
      },
      "file_extension": ".py",
      "mimetype": "text/x-python",
      "name": "python",
      "nbconvert_exporter": "python",
      "pygments_lexer": "ipython3",
      "version": "3.8.10"
    },
    "gpuClass": "premium"
  },
  "nbformat": 4,
  "nbformat_minor": 0
}
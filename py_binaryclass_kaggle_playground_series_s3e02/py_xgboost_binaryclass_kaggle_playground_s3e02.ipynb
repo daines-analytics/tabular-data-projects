{
  "cells": [
    {
      "cell_type": "markdown",
      "metadata": {
        "id": "uTujCqduViZB"
      },
      "source": [
        "# Binary-Class Tabular Model for Kaggle Playground Series Season 3 Episode 2 Using Python and XGBoost\n",
        "### David Lowe\n",
        "### January 25, 2023\n",
        "\n",
        "SUMMARY: The project aims to construct a predictive model using various machine learning algorithms and document the end-to-end steps using a template. The Kaggle Playground Series Season 3 Episode 2 dataset is a binary-class modeling situation where we attempt to predict one of two possible outcomes.\n",
        "\n",
        "INTRODUCTION: Kaggle wants to provide an approachable environment for relatively new people in their data science journey. Since January 2021, they have hosted playground-style competitions to give the Kaggle community a variety of reasonably lightweight challenges that can be used to learn and sharpen skills in different aspects of machine learning and data science. The dataset for this competition was generated from a deep learning model trained on the Stroke Prediction Dataset. Feature distributions are close to but different from the original.\n",
        "\n",
        "ANALYSIS: The performance of the preliminary XGBoost model achieved an ROC/AUC benchmark of 0.8772 after training. When we processed the test dataset with the final model, the model achieved an ROC/AUC score of 0.8730.\n",
        "\n",
        "CONCLUSION: In this iteration, the XGBoost model appeared to be a suitable algorithm for modeling this dataset.\n",
        "\n",
        "Dataset Used: Playground Series Season 3, Episode 2\n",
        "\n",
        "Dataset ML Model: Binary-Class classification with numerical and categorical features\n",
        "\n",
        "Dataset Reference: https://www.kaggle.com/competitions/playground-series-s3e2\n",
        "\n",
        "One source of potential performance benchmarks: https://www.kaggle.com/competitions/playground-series-s3e2/leaderboard"
      ]
    },
    {
      "cell_type": "markdown",
      "metadata": {
        "id": "CpOJ4D0sViZE"
      },
      "source": [
        "## Task 1 - Prepare Environment"
      ]
    },
    {
      "cell_type": "code",
      "execution_count": 1,
      "metadata": {
        "id": "lacFSiqQViZE",
        "outputId": "e70f5b13-f354-4bed-8aeb-12dba063c248",
        "colab": {
          "base_uri": "https://localhost:8080/"
        }
      },
      "outputs": [
        {
          "output_type": "stream",
          "name": "stdout",
          "text": [
            "Mon Jan 23 01:39:27 2023       \n",
            "+-----------------------------------------------------------------------------+\n",
            "| NVIDIA-SMI 460.32.03    Driver Version: 460.32.03    CUDA Version: 11.2     |\n",
            "|-------------------------------+----------------------+----------------------+\n",
            "| GPU  Name        Persistence-M| Bus-Id        Disp.A | Volatile Uncorr. ECC |\n",
            "| Fan  Temp  Perf  Pwr:Usage/Cap|         Memory-Usage | GPU-Util  Compute M. |\n",
            "|                               |                      |               MIG M. |\n",
            "|===============================+======================+======================|\n",
            "|   0  A100-SXM4-40GB      Off  | 00000000:00:04.0 Off |                    0 |\n",
            "| N/A   30C    P0    54W / 400W |      0MiB / 40536MiB |      0%      Default |\n",
            "|                               |                      |             Disabled |\n",
            "+-------------------------------+----------------------+----------------------+\n",
            "                                                                               \n",
            "+-----------------------------------------------------------------------------+\n",
            "| Processes:                                                                  |\n",
            "|  GPU   GI   CI        PID   Type   Process name                  GPU Memory |\n",
            "|        ID   ID                                                   Usage      |\n",
            "|=============================================================================|\n",
            "|  No running processes found                                                 |\n",
            "+-----------------------------------------------------------------------------+\n"
          ]
        }
      ],
      "source": [
        "# Retrieve the GPU information\n",
        "gpu_info = !nvidia-smi\n",
        "gpu_info = '\\n'.join(gpu_info)\n",
        "print(gpu_info)"
      ]
    },
    {
      "cell_type": "code",
      "execution_count": 2,
      "metadata": {
        "id": "DxtB-TajViZF",
        "outputId": "a398dcd0-29f6-4021-fa97-369153f9ff11",
        "colab": {
          "base_uri": "https://localhost:8080/"
        }
      },
      "outputs": [
        {
          "output_type": "stream",
          "name": "stdout",
          "text": [
            "Your runtime has 89.6 gigabytes of available RAM\n",
            "\n"
          ]
        }
      ],
      "source": [
        "# Retrieve the memory configuration\n",
        "from psutil import virtual_memory\n",
        "ram_gb = virtual_memory().total / 1e9\n",
        "print('Your runtime has {:.1f} gigabytes of available RAM\\n'.format(ram_gb))"
      ]
    },
    {
      "cell_type": "code",
      "execution_count": 3,
      "metadata": {
        "id": "M5P-B3EHViZG",
        "outputId": "fe6eb24d-3cbc-4031-c42a-0abf4cd586f4",
        "colab": {
          "base_uri": "https://localhost:8080/"
        }
      },
      "outputs": [
        {
          "output_type": "stream",
          "name": "stdout",
          "text": [
            "The number of available CPUs is: 12\n"
          ]
        }
      ],
      "source": [
        "# Retrieve the CPU information\n",
        "ncpu = !nproc\n",
        "print(\"The number of available CPUs is:\", ncpu[0])"
      ]
    },
    {
      "cell_type": "markdown",
      "metadata": {
        "id": "PO6xpyHQViZG"
      },
      "source": [
        "### 1.a) Load libraries and modules"
      ]
    },
    {
      "cell_type": "code",
      "execution_count": 4,
      "metadata": {
        "id": "8wN4G-ONViZG"
      },
      "outputs": [],
      "source": [
        "# Set the random seed number for reproducible results\n",
        "RNG_SEED = 888"
      ]
    },
    {
      "cell_type": "code",
      "execution_count": 5,
      "metadata": {
        "id": "c_m1fMFIViZH"
      },
      "outputs": [],
      "source": [
        "import numpy as np\n",
        "import pandas as pd\n",
        "import seaborn as sns\n",
        "import matplotlib.pyplot as plt\n",
        "import os\n",
        "import sys\n",
        "import math\n",
        "# import boto3\n",
        "import zipfile\n",
        "import urllib\n",
        "from datetime import datetime\n",
        "from sklearn import preprocessing\n",
        "from sklearn.model_selection import train_test_split\n",
        "from sklearn.model_selection import StratifiedKFold\n",
        "from sklearn.model_selection import cross_val_score\n",
        "from sklearn.model_selection import GridSearchCV\n",
        "from sklearn.metrics import classification_report\n",
        "from sklearn.metrics import confusion_matrix\n",
        "from sklearn.metrics import accuracy_score\n",
        "from sklearn.pipeline import Pipeline\n",
        "from sklearn import compose\n",
        "from sklearn import impute\n",
        "\n",
        "from sklearn.feature_selection import RFE\n",
        "from imblearn.pipeline import Pipeline\n",
        "from imblearn.over_sampling import SMOTE\n",
        "from imblearn.under_sampling import RandomUnderSampler\n",
        "\n",
        "from xgboost import XGBClassifier"
      ]
    },
    {
      "cell_type": "markdown",
      "metadata": {
        "id": "R9eAm3poViZH"
      },
      "source": [
        "### 1.b) Set up the controlling parameters and functions"
      ]
    },
    {
      "cell_type": "code",
      "execution_count": 6,
      "metadata": {
        "id": "IdkikF4vViZI"
      },
      "outputs": [],
      "source": [
        "# Begin the timer for the script processing\n",
        "START_TIME_SCRIPT = datetime.now()\n",
        "\n",
        "# Set up the number of CPU cores available for multi-thread processing\n",
        "N_JOBS = 1\n",
        "\n",
        "# Set up the flag to stop sending progress emails (setting to True will send status emails!)\n",
        "NOTIFY_STATUS = False\n",
        "\n",
        "# Set the percentage sizes for splitting the dataset\n",
        "TEST_SET_RATIO = 0.1\n",
        "VAL_SET_RATIO = 0.1\n",
        "\n",
        "# Set the name for the class/label column\n",
        "ORIGINAL_LABEL = 'stroke'\n",
        "CLASS_COLUMN = 'target'\n",
        "\n",
        "# Set the number of folds for cross validation\n",
        "N_FOLDS = 10\n",
        "\n",
        "# Set default modeling scoring metric\n",
        "SCORING_METRIC = 'roc_auc'\n",
        "\n",
        "# Define the directory locations and file names\n",
        "ORIGINAL_DATASET = 'https://dainesanalytics.com/datasets/kaggle-playground-series-s3e02/healthcare-dataset-stroke-data.csv'\n",
        "TRAIN_DATASET = 'https://dainesanalytics.com/datasets/kaggle-playground-series-s3e02/train.csv'\n",
        "TEST_DATASET = 'https://dainesanalytics.com/datasets/kaggle-playground-series-s3e02/test.csv'\n",
        "SUBMISSION_TEMPLATE = 'https://dainesanalytics.com/datasets/kaggle-playground-series-s3e02/sample_submission.csv'\n",
        "SUBMISSION_FILE = 'submission_xgboost_'"
      ]
    },
    {
      "cell_type": "code",
      "execution_count": 7,
      "metadata": {
        "id": "yd6Q3v1IViZI"
      },
      "outputs": [],
      "source": [
        "# Set up the email notification function\n",
        "def status_notify(msg_text):\n",
        "    access_key = os.environ.get('SNS_ACCESS_KEY')\n",
        "    secret_key = os.environ.get('SNS_SECRET_KEY')\n",
        "    aws_region = os.environ.get('SNS_AWS_REGION')\n",
        "    topic_arn = os.environ.get('SNS_TOPIC_ARN')\n",
        "    if (access_key is None) or (secret_key is None) or (aws_region is None):\n",
        "        sys.exit(\"Incomplete notification setup info. Script Processing Aborted!!!\")\n",
        "    sns = boto3.client('sns', aws_access_key_id=access_key, aws_secret_access_key=secret_key, region_name=aws_region)\n",
        "    response = sns.publish(TopicArn=topic_arn, Message=msg_text)\n",
        "    if response['ResponseMetadata']['HTTPStatusCode'] != 200 :\n",
        "        print('Status notification not OK with HTTP status code:', response['ResponseMetadata']['HTTPStatusCode'])"
      ]
    },
    {
      "cell_type": "code",
      "execution_count": 8,
      "metadata": {
        "id": "vUXsPt2cViZJ"
      },
      "outputs": [],
      "source": [
        "if NOTIFY_STATUS: status_notify(\"Task 1 - Prepare Environment has begun! \" + datetime.now().strftime('%a %B %d, %Y %I:%M:%S %p'))"
      ]
    },
    {
      "cell_type": "markdown",
      "metadata": {
        "id": "q_Bvl4siViZJ"
      },
      "source": [
        "### 1.c) Load dataset"
      ]
    },
    {
      "cell_type": "code",
      "execution_count": 9,
      "metadata": {
        "id": "xLOu39vyViZK",
        "outputId": "1d46c242-e8f3-450d-9271-67df7a0bf0a2",
        "colab": {
          "base_uri": "https://localhost:8080/"
        }
      },
      "outputs": [
        {
          "output_type": "stream",
          "name": "stdout",
          "text": [
            "   id  gender   age  hypertension  heart_disease ever_married work_type  \\\n",
            "0   0    Male  28.0             0              0          Yes   Private   \n",
            "1   1    Male  33.0             0              0          Yes   Private   \n",
            "2   2  Female  42.0             0              0          Yes   Private   \n",
            "3   3    Male  56.0             0              0          Yes   Private   \n",
            "4   4  Female  24.0             0              0           No   Private   \n",
            "\n",
            "  Residence_type  avg_glucose_level   bmi   smoking_status  stroke  \n",
            "0          Urban              79.53  31.1     never smoked       0  \n",
            "1          Rural              78.44  23.9  formerly smoked       0  \n",
            "2          Rural             103.00  40.3          Unknown       0  \n",
            "3          Urban              64.87  28.8     never smoked       0  \n",
            "4          Rural              73.36  28.8     never smoked       0  \n"
          ]
        }
      ],
      "source": [
        "df_dataset_import = pd.read_csv(TRAIN_DATASET)\n",
        "\n",
        "# Take a peek at the dataframe after import\n",
        "print(df_dataset_import.head())"
      ]
    },
    {
      "cell_type": "code",
      "execution_count": 10,
      "metadata": {
        "id": "hh61JaxGViZK",
        "outputId": "91785350-0ac4-4990-cccc-3261da7529e3",
        "colab": {
          "base_uri": "https://localhost:8080/"
        }
      },
      "outputs": [
        {
          "output_type": "stream",
          "name": "stdout",
          "text": [
            "<class 'pandas.core.frame.DataFrame'>\n",
            "RangeIndex: 15304 entries, 0 to 15303\n",
            "Data columns (total 12 columns):\n",
            " #   Column             Non-Null Count  Dtype  \n",
            "---  ------             --------------  -----  \n",
            " 0   id                 15304 non-null  int64  \n",
            " 1   gender             15304 non-null  object \n",
            " 2   age                15304 non-null  float64\n",
            " 3   hypertension       15304 non-null  int64  \n",
            " 4   heart_disease      15304 non-null  int64  \n",
            " 5   ever_married       15304 non-null  object \n",
            " 6   work_type          15304 non-null  object \n",
            " 7   Residence_type     15304 non-null  object \n",
            " 8   avg_glucose_level  15304 non-null  float64\n",
            " 9   bmi                15304 non-null  float64\n",
            " 10  smoking_status     15304 non-null  object \n",
            " 11  stroke             15304 non-null  int64  \n",
            "dtypes: float64(3), int64(4), object(5)\n",
            "memory usage: 1.4+ MB\n"
          ]
        }
      ],
      "source": [
        "df_dataset_import.info(verbose=True)"
      ]
    },
    {
      "cell_type": "code",
      "execution_count": 11,
      "metadata": {
        "id": "H4E9OUytViZK",
        "outputId": "be041dd8-a453-47df-e23e-e424de9a6fe5",
        "colab": {
          "base_uri": "https://localhost:8080/"
        }
      },
      "outputs": [
        {
          "output_type": "stream",
          "name": "stdout",
          "text": [
            "                 id           age  hypertension  heart_disease  \\\n",
            "count  15304.000000  15304.000000  15304.000000   15304.000000   \n",
            "mean    7651.500000     41.417708      0.049726       0.023327   \n",
            "std     4418.028595     21.444673      0.217384       0.150946   \n",
            "min        0.000000      0.080000      0.000000       0.000000   \n",
            "25%     3825.750000     26.000000      0.000000       0.000000   \n",
            "50%     7651.500000     43.000000      0.000000       0.000000   \n",
            "75%    11477.250000     57.000000      0.000000       0.000000   \n",
            "max    15303.000000     82.000000      1.000000       1.000000   \n",
            "\n",
            "       avg_glucose_level           bmi        stroke  \n",
            "count       15304.000000  15304.000000  15304.000000  \n",
            "mean           89.039853     28.112721      0.041296  \n",
            "std            25.476102      6.722315      0.198981  \n",
            "min            55.220000     10.300000      0.000000  \n",
            "25%            74.900000     23.500000      0.000000  \n",
            "50%            85.120000     27.600000      0.000000  \n",
            "75%            96.980000     32.000000      0.000000  \n",
            "max           267.600000     80.100000      1.000000  \n"
          ]
        }
      ],
      "source": [
        "print(df_dataset_import.describe())"
      ]
    },
    {
      "cell_type": "code",
      "execution_count": 12,
      "metadata": {
        "id": "hLrJ1Su4ViZK",
        "outputId": "5551b9a6-8460-4269-8590-e08a51198704",
        "colab": {
          "base_uri": "https://localhost:8080/"
        }
      },
      "outputs": [
        {
          "output_type": "stream",
          "name": "stdout",
          "text": [
            "id                   0\n",
            "gender               0\n",
            "age                  0\n",
            "hypertension         0\n",
            "heart_disease        0\n",
            "ever_married         0\n",
            "work_type            0\n",
            "Residence_type       0\n",
            "avg_glucose_level    0\n",
            "bmi                  0\n",
            "smoking_status       0\n",
            "stroke               0\n",
            "dtype: int64\n",
            "Total number of NaN in the dataframe:  0\n"
          ]
        }
      ],
      "source": [
        "print(df_dataset_import.isnull().sum())\n",
        "print('Total number of NaN in the dataframe: ', df_dataset_import.isnull().sum().sum())"
      ]
    },
    {
      "cell_type": "code",
      "execution_count": 13,
      "metadata": {
        "id": "07ghAOPqViZK",
        "colab": {
          "base_uri": "https://localhost:8080/"
        },
        "outputId": "5984e974-0f21-4f07-fd13-51fbd897064e"
      },
      "outputs": [
        {
          "output_type": "stream",
          "name": "stdout",
          "text": [
            "stroke\n",
            "0    14672\n",
            "1      632\n",
            "dtype: int64\n"
          ]
        }
      ],
      "source": [
        "# Get grouping size for the target variable\n",
        "print(df_dataset_import.groupby(ORIGINAL_LABEL).size())"
      ]
    },
    {
      "cell_type": "markdown",
      "metadata": {
        "id": "k79hRaYnViZK"
      },
      "source": [
        "### 1.d) Data Cleaning"
      ]
    },
    {
      "cell_type": "code",
      "source": [
        "# Fetch the original dataset and use it to supplement the training\n",
        "df_dataset_original = pd.read_csv(ORIGINAL_DATASET)\n",
        "df_dataset_original['is_synthetic'] = 0\n",
        "\n",
        "# Take a peek at the dataframe after import\n",
        "print(df_dataset_original.head())"
      ],
      "metadata": {
        "colab": {
          "base_uri": "https://localhost:8080/"
        },
        "id": "cdx8EjEoBLwj",
        "outputId": "7a39b41b-0e1c-4126-e7af-dcaeed32038e"
      },
      "execution_count": 14,
      "outputs": [
        {
          "output_type": "stream",
          "name": "stdout",
          "text": [
            "      id  gender   age  hypertension  heart_disease ever_married  \\\n",
            "0   9046    Male  67.0             0              1          Yes   \n",
            "1  51676  Female  61.0             0              0          Yes   \n",
            "2  31112    Male  80.0             0              1          Yes   \n",
            "3  60182  Female  49.0             0              0          Yes   \n",
            "4   1665  Female  79.0             1              0          Yes   \n",
            "\n",
            "       work_type Residence_type  avg_glucose_level   bmi   smoking_status  \\\n",
            "0        Private          Urban             228.69  36.6  formerly smoked   \n",
            "1  Self-employed          Rural             202.21   NaN     never smoked   \n",
            "2        Private          Rural             105.92  32.5     never smoked   \n",
            "3        Private          Urban             171.23  34.4           smokes   \n",
            "4  Self-employed          Rural             174.12  24.0     never smoked   \n",
            "\n",
            "   stroke  is_synthetic  \n",
            "0       1             0  \n",
            "1       1             0  \n",
            "2       1             0  \n",
            "3       1             0  \n",
            "4       1             0  \n"
          ]
        }
      ]
    },
    {
      "cell_type": "code",
      "source": [
        "df_dataset_original.info(verbose=True)"
      ],
      "metadata": {
        "colab": {
          "base_uri": "https://localhost:8080/"
        },
        "id": "UAALfjiNBLka",
        "outputId": "116a83c3-ba68-4525-afb4-5e7f2e306836"
      },
      "execution_count": 15,
      "outputs": [
        {
          "output_type": "stream",
          "name": "stdout",
          "text": [
            "<class 'pandas.core.frame.DataFrame'>\n",
            "RangeIndex: 5110 entries, 0 to 5109\n",
            "Data columns (total 13 columns):\n",
            " #   Column             Non-Null Count  Dtype  \n",
            "---  ------             --------------  -----  \n",
            " 0   id                 5110 non-null   int64  \n",
            " 1   gender             5110 non-null   object \n",
            " 2   age                5110 non-null   float64\n",
            " 3   hypertension       5110 non-null   int64  \n",
            " 4   heart_disease      5110 non-null   int64  \n",
            " 5   ever_married       5110 non-null   object \n",
            " 6   work_type          5110 non-null   object \n",
            " 7   Residence_type     5110 non-null   object \n",
            " 8   avg_glucose_level  5110 non-null   float64\n",
            " 9   bmi                4909 non-null   float64\n",
            " 10  smoking_status     5110 non-null   object \n",
            " 11  stroke             5110 non-null   int64  \n",
            " 12  is_synthetic       5110 non-null   int64  \n",
            "dtypes: float64(3), int64(5), object(5)\n",
            "memory usage: 519.1+ KB\n"
          ]
        }
      ]
    },
    {
      "cell_type": "code",
      "source": [
        "# Combine the original and synthetic datasets into one training dataset\n",
        "df_dataset_import['is_synthetic'] = 1\n",
        "\n",
        "df_dataset_import = pd.concat([df_dataset_import, df_dataset_original],\n",
        "                              ignore_index=True)\n",
        "df_dataset_import.drop(columns=['id'], inplace=True)\n",
        "\n",
        "df_dataset_import.info(verbose=True)"
      ],
      "metadata": {
        "colab": {
          "base_uri": "https://localhost:8080/"
        },
        "id": "hfo_eMAvBLX6",
        "outputId": "ad855ad4-0648-465f-99be-b02ca3c11822"
      },
      "execution_count": 16,
      "outputs": [
        {
          "output_type": "stream",
          "name": "stdout",
          "text": [
            "<class 'pandas.core.frame.DataFrame'>\n",
            "RangeIndex: 20414 entries, 0 to 20413\n",
            "Data columns (total 12 columns):\n",
            " #   Column             Non-Null Count  Dtype  \n",
            "---  ------             --------------  -----  \n",
            " 0   gender             20414 non-null  object \n",
            " 1   age                20414 non-null  float64\n",
            " 2   hypertension       20414 non-null  int64  \n",
            " 3   heart_disease      20414 non-null  int64  \n",
            " 4   ever_married       20414 non-null  object \n",
            " 5   work_type          20414 non-null  object \n",
            " 6   Residence_type     20414 non-null  object \n",
            " 7   avg_glucose_level  20414 non-null  float64\n",
            " 8   bmi                20213 non-null  float64\n",
            " 9   smoking_status     20414 non-null  object \n",
            " 10  stroke             20414 non-null  int64  \n",
            " 11  is_synthetic       20414 non-null  int64  \n",
            "dtypes: float64(3), int64(4), object(5)\n",
            "memory usage: 1.9+ MB\n"
          ]
        }
      ]
    },
    {
      "cell_type": "code",
      "source": [
        "def clean_gender(target_col):\n",
        "    # print(target_col)\n",
        "    if target_col == 'Other':\n",
        "        return 'Male'\n",
        "    else:\n",
        "        return target_col\n",
        "\n",
        "def clean_smoking_status(target_col):\n",
        "    # print(target_col)\n",
        "    if target_col == 'Unknown':\n",
        "        return 'never smoked'\n",
        "    else:\n",
        "        return target_col"
      ],
      "metadata": {
        "id": "2YaYLeMyBLM7"
      },
      "execution_count": 17,
      "outputs": []
    },
    {
      "cell_type": "code",
      "execution_count": 18,
      "metadata": {
        "id": "7HBPom3PViZK",
        "outputId": "832768e4-ccd1-47c9-cd19-299463566be5",
        "colab": {
          "base_uri": "https://localhost:8080/"
        }
      },
      "outputs": [
        {
          "output_type": "stream",
          "name": "stdout",
          "text": [
            "   gender   age  hypertension  heart_disease ever_married work_type  \\\n",
            "0    Male  28.0             0              0          Yes   Private   \n",
            "1    Male  33.0             0              0          Yes   Private   \n",
            "2  Female  42.0             0              0          Yes   Private   \n",
            "3    Male  56.0             0              0          Yes   Private   \n",
            "4  Female  24.0             0              0           No   Private   \n",
            "\n",
            "  Residence_type  avg_glucose_level   bmi   smoking_status  target  \\\n",
            "0          Urban              79.53  31.1     never smoked       0   \n",
            "1          Rural              78.44  23.9  formerly smoked       0   \n",
            "2          Rural             103.00  40.3     never smoked       0   \n",
            "3          Urban              64.87  28.8     never smoked       0   \n",
            "4          Rural              73.36  28.8     never smoked       0   \n",
            "\n",
            "   is_synthetic  \n",
            "0             1  \n",
            "1             1  \n",
            "2             1  \n",
            "3             1  \n",
            "4             1  \n",
            "       gender   age  hypertension  heart_disease ever_married      work_type  \\\n",
            "20409  Female  80.0             1              0          Yes        Private   \n",
            "20410  Female  81.0             0              0          Yes  Self-employed   \n",
            "20411  Female  35.0             0              0          Yes  Self-employed   \n",
            "20412    Male  51.0             0              0          Yes        Private   \n",
            "20413  Female  44.0             0              0          Yes       Govt_job   \n",
            "\n",
            "      Residence_type  avg_glucose_level   bmi   smoking_status  target  \\\n",
            "20409          Urban              83.75   NaN     never smoked       0   \n",
            "20410          Urban             125.20  40.0     never smoked       0   \n",
            "20411          Rural              82.99  30.6     never smoked       0   \n",
            "20412          Rural             166.29  25.6  formerly smoked       0   \n",
            "20413          Urban              85.28  26.2     never smoked       0   \n",
            "\n",
            "       is_synthetic  \n",
            "20409             0  \n",
            "20410             0  \n",
            "20411             0  \n",
            "20412             0  \n",
            "20413             0  \n"
          ]
        }
      ],
      "source": [
        "# Standardize the class column to the name of targetVar if required\n",
        "df_dataset_import = df_dataset_import.rename(columns={ORIGINAL_LABEL: CLASS_COLUMN})\n",
        "\n",
        "# Fill in some missing fields with the most common values\n",
        "df_dataset_import['gender'] = df_dataset_import['gender'].apply(clean_gender)\n",
        "df_dataset_import['smoking_status'] = df_dataset_import['smoking_status'].apply(clean_smoking_status)\n",
        "\n",
        "# Take a peek at the dataframe after cleaning\n",
        "print(df_dataset_import.head())\n",
        "print(df_dataset_import.tail())"
      ]
    },
    {
      "cell_type": "code",
      "execution_count": 19,
      "metadata": {
        "id": "wbCDZq1iViZL",
        "outputId": "102fd63b-1c3a-407c-b4d4-76d634bc96d3",
        "colab": {
          "base_uri": "https://localhost:8080/"
        }
      },
      "outputs": [
        {
          "output_type": "stream",
          "name": "stdout",
          "text": [
            "<class 'pandas.core.frame.DataFrame'>\n",
            "RangeIndex: 20414 entries, 0 to 20413\n",
            "Data columns (total 12 columns):\n",
            " #   Column             Non-Null Count  Dtype  \n",
            "---  ------             --------------  -----  \n",
            " 0   gender             20414 non-null  object \n",
            " 1   age                20414 non-null  float64\n",
            " 2   hypertension       20414 non-null  int64  \n",
            " 3   heart_disease      20414 non-null  int64  \n",
            " 4   ever_married       20414 non-null  object \n",
            " 5   work_type          20414 non-null  object \n",
            " 6   Residence_type     20414 non-null  object \n",
            " 7   avg_glucose_level  20414 non-null  float64\n",
            " 8   bmi                20213 non-null  float64\n",
            " 9   smoking_status     20414 non-null  object \n",
            " 10  target             20414 non-null  int64  \n",
            " 11  is_synthetic       20414 non-null  int64  \n",
            "dtypes: float64(3), int64(4), object(5)\n",
            "memory usage: 1.9+ MB\n"
          ]
        }
      ],
      "source": [
        "df_dataset_import.info(verbose=True)"
      ]
    },
    {
      "cell_type": "code",
      "execution_count": 20,
      "metadata": {
        "id": "Ww92c4w7ViZL",
        "outputId": "e95e91b5-dbc3-4eb7-8b4f-fcd360dfa4fb",
        "colab": {
          "base_uri": "https://localhost:8080/"
        }
      },
      "outputs": [
        {
          "output_type": "stream",
          "name": "stdout",
          "text": [
            "                age  hypertension  heart_disease  avg_glucose_level  \\\n",
            "count  20414.000000  20414.000000   20414.000000       20414.000000   \n",
            "mean      41.870510      0.061673       0.031008          93.322256   \n",
            "std       21.756482      0.240567       0.173344          32.476351   \n",
            "min        0.080000      0.000000       0.000000          55.120000   \n",
            "25%       25.000000      0.000000       0.000000          75.220000   \n",
            "50%       43.000000      0.000000       0.000000          86.250000   \n",
            "75%       58.000000      0.000000       0.000000          99.730000   \n",
            "max       82.000000      1.000000       1.000000         271.740000   \n",
            "\n",
            "                bmi        target  is_synthetic  \n",
            "count  20213.000000  20414.000000  20414.000000  \n",
            "mean      28.302280      0.043157      0.749682  \n",
            "std        7.021765      0.203215      0.433207  \n",
            "min       10.300000      0.000000      0.000000  \n",
            "25%       23.500000      0.000000      0.000000  \n",
            "50%       27.700000      0.000000      1.000000  \n",
            "75%       32.200000      0.000000      1.000000  \n",
            "max       97.600000      1.000000      1.000000  \n"
          ]
        }
      ],
      "source": [
        "print(df_dataset_import.describe())"
      ]
    },
    {
      "cell_type": "code",
      "execution_count": 21,
      "metadata": {
        "id": "89hWrwe6ViZL",
        "outputId": "ce03ec3c-8731-461a-efbc-4309b95af200",
        "colab": {
          "base_uri": "https://localhost:8080/"
        }
      },
      "outputs": [
        {
          "output_type": "stream",
          "name": "stdout",
          "text": [
            "gender                 0\n",
            "age                    0\n",
            "hypertension           0\n",
            "heart_disease          0\n",
            "ever_married           0\n",
            "work_type              0\n",
            "Residence_type         0\n",
            "avg_glucose_level      0\n",
            "bmi                  201\n",
            "smoking_status         0\n",
            "target                 0\n",
            "is_synthetic           0\n",
            "dtype: int64\n",
            "Total number of NaN in the dataframe:  201\n"
          ]
        }
      ],
      "source": [
        "print(df_dataset_import.isnull().sum())\n",
        "print('Total number of NaN in the dataframe: ', df_dataset_import.isnull().sum().sum())"
      ]
    },
    {
      "cell_type": "code",
      "execution_count": 22,
      "metadata": {
        "id": "KGs4GZ6-ViZL",
        "outputId": "7ee5b471-e539-44fd-ae41-16fdb719b477",
        "colab": {
          "base_uri": "https://localhost:8080/"
        }
      },
      "outputs": [
        {
          "output_type": "stream",
          "name": "stdout",
          "text": [
            "target\n",
            "0    19533\n",
            "1      881\n",
            "dtype: int64\n"
          ]
        }
      ],
      "source": [
        "# Get grouping size for the target variable\n",
        "print(df_dataset_import.groupby(CLASS_COLUMN).size())"
      ]
    },
    {
      "cell_type": "markdown",
      "metadata": {
        "id": "kh4pXl29ViZL"
      },
      "source": [
        "### 1.e) Splitting Data into Sets"
      ]
    },
    {
      "cell_type": "code",
      "execution_count": 23,
      "metadata": {
        "id": "Ex6RhBcCViZL",
        "outputId": "c830d505-d6af-47f8-819f-391cd7dc3fba",
        "colab": {
          "base_uri": "https://localhost:8080/"
        }
      },
      "outputs": [
        {
          "output_type": "stream",
          "name": "stdout",
          "text": [
            "df_dataset_import.shape: (20414, 12) df_features_train.shape: (20414, 11) df_target_train.shape: (20414,)\n"
          ]
        }
      ],
      "source": [
        "# Use variable total_column_count to hold the number of columns in the dataframe\n",
        "total_column_count = len(df_dataset_import.columns)\n",
        "\n",
        "# Set up variable total_feature_count for the total number of attribute columns\n",
        "total_feature_count = total_column_count-1\n",
        "\n",
        "# We create attribute-only and target-only datasets (df_features_train and df_target_train)\n",
        "df_target_train = df_dataset_import['target']\n",
        "df_features_train = df_dataset_import.drop(['target'], axis=1)\n",
        "\n",
        "print(\"df_dataset_import.shape: {} df_features_train.shape: {} df_target_train.shape: {}\".format(df_dataset_import.shape, df_features_train.shape, df_target_train.shape))"
      ]
    },
    {
      "cell_type": "markdown",
      "metadata": {
        "id": "i99VwZJrViZM"
      },
      "source": [
        "### 1.f) Set up the parameters for data visualization"
      ]
    },
    {
      "cell_type": "code",
      "execution_count": 24,
      "metadata": {
        "id": "CywZOJhDViZM"
      },
      "outputs": [],
      "source": [
        "# Set up the number of row and columns for visualization display. display_rows * display_columns should be >= total_feature_count\n",
        "display_columns = 4\n",
        "if total_feature_count % display_columns == 0 :\n",
        "    display_rows = total_feature_count // display_columns\n",
        "else :\n",
        "    display_rows = (total_feature_count // display_columns) + 1\n",
        "\n",
        "# Set figure width to display the data visualization plots\n",
        "fig_size = plt.rcParams[\"figure.figsize\"]\n",
        "fig_size[0] = display_columns * 4\n",
        "fig_size[1] = display_rows * 4\n",
        "plt.rcParams[\"figure.figsize\"] = fig_size"
      ]
    },
    {
      "cell_type": "code",
      "execution_count": 25,
      "metadata": {
        "id": "SWFPW_x4ViZM"
      },
      "outputs": [],
      "source": [
        "if NOTIFY_STATUS: status_notify(\"Task 1 - Prepare Environment completed! \" + datetime.now().strftime('%a %B %d, %Y %I:%M:%S %p'))"
      ]
    },
    {
      "cell_type": "markdown",
      "metadata": {
        "id": "TV1LLl0TViZM"
      },
      "source": [
        "## Task 2 - Summarize and Visualize Data"
      ]
    },
    {
      "cell_type": "code",
      "execution_count": 26,
      "metadata": {
        "id": "y0Fd1Sw1ViZM"
      },
      "outputs": [],
      "source": [
        "if NOTIFY_STATUS: status_notify(\"Task 2 - Summarize and Visualize Data has begun! \" + datetime.now().strftime('%a %B %d, %Y %I:%M:%S %p'))"
      ]
    },
    {
      "cell_type": "code",
      "execution_count": 27,
      "metadata": {
        "id": "LjmegM0_ViZM",
        "outputId": "c8351f15-d4bf-4394-bde6-505427d893f8",
        "colab": {
          "base_uri": "https://localhost:8080/",
          "height": 473
        }
      },
      "outputs": [
        {
          "output_type": "display_data",
          "data": {
            "text/plain": [
              "<Figure size 1152x864 with 12 Axes>"
            ],
            "image/png": "[encoded data removed]"
          },
          "metadata": {
            "needs_background": "light"
          }
        }
      ],
      "source": [
        "# Histograms for each attribute\n",
        "df_features_train.plot(kind='hist', subplots=True, layout=(display_rows, display_columns))\n",
        "plt.show()"
      ]
    },
    {
      "cell_type": "code",
      "execution_count": 28,
      "metadata": {
        "id": "MhLRoBwoViZM",
        "outputId": "4efca3ed-f618-4bf6-8f8a-2c2966f05a5b",
        "colab": {
          "base_uri": "https://localhost:8080/",
          "height": 471
        }
      },
      "outputs": [
        {
          "output_type": "display_data",
          "data": {
            "text/plain": [
              "<Figure size 1152x864 with 12 Axes>"
            ],
            "image/png": "[encoded data removed]"
          },
          "metadata": {
            "needs_background": "light"
          }
        }
      ],
      "source": [
        "# Box and Whisker plot for each attribute\n",
        "df_features_train.plot(kind='box', subplots=True, layout=(display_rows, display_columns))\n",
        "plt.show()"
      ]
    },
    {
      "cell_type": "code",
      "execution_count": 29,
      "metadata": {
        "id": "wVZXCA2-ViZM",
        "colab": {
          "base_uri": "https://localhost:8080/",
          "height": 1000
        },
        "outputId": "0dcaaac2-3c10-4a05-c476-22ec4509d20b"
      },
      "outputs": [
        {
          "output_type": "display_data",
          "data": {
            "text/plain": [
              "<Figure size 1440x1440 with 2 Axes>"
            ],
            "image/png": "[encoded data removed]"
          },
          "metadata": {
            "needs_background": "light"
          }
        }
      ],
      "source": [
        "# Correlation matrix\n",
        "fig = plt.figure(figsize=(20, 20))\n",
        "correlations = df_features_train.corr(method='pearson')\n",
        "sns.heatmap(correlations, annot=True, cmap=plt.cm.PuBu)\n",
        "plt.show()"
      ]
    },
    {
      "cell_type": "code",
      "execution_count": 30,
      "metadata": {
        "tags": [],
        "id": "Y06DzC9iViZN"
      },
      "outputs": [],
      "source": [
        "if NOTIFY_STATUS: status_notify(\"Task 2 - Summarize and Visualize Data completed! \" + datetime.now().strftime('%a %B %d, %Y %I:%M:%S %p'))"
      ]
    },
    {
      "cell_type": "markdown",
      "metadata": {
        "id": "nUirhh-YViZN"
      },
      "source": [
        "## Task 3 - Pre-process Data"
      ]
    },
    {
      "cell_type": "code",
      "execution_count": 31,
      "metadata": {
        "id": "ubJ1OkeDViZN"
      },
      "outputs": [],
      "source": [
        "if NOTIFY_STATUS: status_notify(\"Task 3 - Pre-process Data has begun! \" + datetime.now().strftime('%a %B %d, %Y %I:%M:%S %p'))"
      ]
    },
    {
      "cell_type": "markdown",
      "metadata": {
        "id": "bBdegmC1ViZN"
      },
      "source": [
        "### 3.a) Feature Scaling"
      ]
    },
    {
      "cell_type": "code",
      "execution_count": 32,
      "metadata": {
        "id": "_ItuvWIXViZN",
        "outputId": "e51bf1eb-83b0-4b10-f187-bc1654abeb0d",
        "colab": {
          "base_uri": "https://localhost:8080/"
        }
      },
      "outputs": [
        {
          "output_type": "stream",
          "name": "stdout",
          "text": [
            "Number of numerical columns: 6\n",
            "Number of categorical columns: 5\n",
            "Total number of columns in the feature dataframe: 11\n"
          ]
        }
      ],
      "source": [
        "# Compose pipeline for the numerical and categorical features (Block #1 of 2)\n",
        "numeric_columns = df_features_train.select_dtypes(include=['float','int']).columns\n",
        "numeric_transformer = Pipeline(steps=[\n",
        "    ('imputer', impute.SimpleImputer(strategy=\"median\")),\n",
        "    ('scaler', preprocessing.StandardScaler())\n",
        "])\n",
        "categorical_columns = df_features_train.select_dtypes(include=['object','bool','category']).columns\n",
        "categorical_transformer = Pipeline(steps=[\n",
        "    ('imputer', impute.SimpleImputer(strategy='constant', fill_value='UKNOWN')),\n",
        "    ('onehot', preprocessing.OneHotEncoder(sparse=False, handle_unknown='ignore'))\n",
        "])\n",
        "\n",
        "print(\"Number of numerical columns:\", len(numeric_columns))\n",
        "print(\"Number of categorical columns:\", len(categorical_columns))\n",
        "print(\"Total number of columns in the feature dataframe:\", df_features_train.shape[1])"
      ]
    },
    {
      "cell_type": "code",
      "execution_count": 33,
      "metadata": {
        "id": "x69f9jVgViZN",
        "outputId": "92a0344f-f31c-4b11-af89-879bfb83dfde",
        "colab": {
          "base_uri": "https://localhost:8080/"
        }
      },
      "outputs": [
        {
          "output_type": "stream",
          "name": "stdout",
          "text": [
            "Transformed features from df_features_train.shape: (20414, 11) to array_features_train.shape: (20414, 20)\n"
          ]
        }
      ],
      "source": [
        "# Compose pipeline for the numerical and categorical features (Block #2 of 2)\n",
        "preprocessor = compose.ColumnTransformer(transformers=[\n",
        "    ('num', numeric_transformer, numeric_columns),\n",
        "    ('cat', categorical_transformer, categorical_columns)\n",
        "    ], remainder='passthrough')\n",
        "\n",
        "# Display the shapes of the training dataset for final inspection\n",
        "array_features_train = preprocessor.fit_transform(df_features_train)\n",
        "print(\"Transformed features from df_features_train.shape: {} to array_features_train.shape: {}\".format(df_features_train.shape, array_features_train.shape))"
      ]
    },
    {
      "cell_type": "code",
      "source": [
        "# Finalize the training dataset for the modeling activities\n",
        "array_features_train = preprocessor.fit_transform(df_features_train)\n",
        "# array_features_train = df_features_train.to_numpy()\n",
        "label_encoder = preprocessing.LabelEncoder()\n",
        "array_target_train = label_encoder.fit_transform(df_target_train)"
      ],
      "metadata": {
        "id": "1uZeXWLMBw2T"
      },
      "execution_count": 34,
      "outputs": []
    },
    {
      "cell_type": "markdown",
      "metadata": {
        "id": "GDo-EE7vViZN"
      },
      "source": [
        "### 3.b) Training Data Balancing"
      ]
    },
    {
      "cell_type": "code",
      "source": [
        "# Perform SMOTE transformation on the training data (Block #1 of 2)\n",
        "X_train_imbal = array_features_train\n",
        "y_train_imbal = array_target_train\n",
        "print(\"X_train_imbal.shape: {} y_train_imbal.shape: {}\".format(X_train_imbal.shape, y_train_imbal.shape))"
      ],
      "metadata": {
        "colab": {
          "base_uri": "https://localhost:8080/"
        },
        "id": "T927xBVjB1VK",
        "outputId": "1e923409-8ffb-42db-c2c4-3ae69e1de5f5"
      },
      "execution_count": 35,
      "outputs": [
        {
          "output_type": "stream",
          "name": "stdout",
          "text": [
            "X_train_imbal.shape: (20414, 20) y_train_imbal.shape: (20414,)\n"
          ]
        }
      ]
    },
    {
      "cell_type": "code",
      "execution_count": 36,
      "metadata": {
        "id": "FVU1JtNOViZN",
        "colab": {
          "base_uri": "https://localhost:8080/"
        },
        "outputId": "711cc4a4-bf95-49f5-92af-190a10008236"
      },
      "outputs": [
        {
          "output_type": "stream",
          "name": "stdout",
          "text": [
            "Original class distribution - 1: 881 | 0: 19533\n",
            "Resampled class distribution - 1: 881 | 0: 2936\n"
          ]
        }
      ],
      "source": [
        "# Perform SMOTE transformation on the training data (Block #2 of 2)\n",
        "print ('Original class distribution - 1: {} | 0: {}'.format((array_target_train==1).sum(), (array_target_train==0).sum()))\n",
        "# over_sample = SMOTE(sampling_strategy=0.5, random_state=RNG_SEED)\n",
        "under_sample = RandomUnderSampler(sampling_strategy=0.30, random_state=RNG_SEED)\n",
        "# steps = [('o', over_sample), ('u', under_sample)]\n",
        "steps = [('u', under_sample)]\n",
        "sample_pipeline = Pipeline(steps=steps)\n",
        "array_features_train, array_target_train = sample_pipeline.fit_resample(X_train_imbal, y_train_imbal)\n",
        "print ('Resampled class distribution - 1: {} | 0: {}'.format((array_target_train==1).sum(), (array_target_train==0).sum()))"
      ]
    },
    {
      "cell_type": "markdown",
      "metadata": {
        "id": "e-i6vz-gViZN"
      },
      "source": [
        "### 3.c) Feature Selection"
      ]
    },
    {
      "cell_type": "code",
      "execution_count": 37,
      "metadata": {
        "id": "vrGYGJEBViZN"
      },
      "outputs": [],
      "source": [
        "# Not applicable for this iteration of the project"
      ]
    },
    {
      "cell_type": "markdown",
      "metadata": {
        "id": "SqKyiRHlViZO"
      },
      "source": [
        "### 3.d) Display the Final Datasets for Model-Building"
      ]
    },
    {
      "cell_type": "code",
      "execution_count": 38,
      "metadata": {
        "id": "-4dLat26ViZO",
        "outputId": "19d1573d-54f7-4979-d564-42f9fa4b15c7",
        "colab": {
          "base_uri": "https://localhost:8080/"
        }
      },
      "outputs": [
        {
          "output_type": "stream",
          "name": "stdout",
          "text": [
            "array_features_train.shape: (3817, 20) array_target_train.shape: (3817,)\n"
          ]
        }
      ],
      "source": [
        "# Finalize the training dataset for the modeling activities\n",
        "# array_features_train = preprocessor.fit_transform(df_features_train)\n",
        "# array_features_train = df_features_train.to_numpy()\n",
        "# label_encoder = preprocessing.LabelEncoder()\n",
        "# array_target_train = label_encoder.fit_transform(df_target_train)\n",
        "print(\"array_features_train.shape: {} array_target_train.shape: {}\".format(array_features_train.shape, array_target_train.shape))"
      ]
    },
    {
      "cell_type": "code",
      "execution_count": 39,
      "metadata": {
        "id": "64k83phgViZO"
      },
      "outputs": [],
      "source": [
        "if NOTIFY_STATUS: status_notify(\"Task 3 - Pre-process Data completed! \" + datetime.now().strftime('%a %B %d, %Y %I:%M:%S %p'))"
      ]
    },
    {
      "cell_type": "markdown",
      "metadata": {
        "id": "cybD8FKuViZO"
      },
      "source": [
        "## Task 4 - Train and Tune Models"
      ]
    },
    {
      "cell_type": "code",
      "execution_count": 40,
      "metadata": {
        "id": "dEiqFpjqViZO"
      },
      "outputs": [],
      "source": [
        "if NOTIFY_STATUS: status_notify(\"Task 4 - Train and Tune Models has begun! \" + datetime.now().strftime('%a %B %d, %Y %I:%M:%S %p'))"
      ]
    },
    {
      "cell_type": "markdown",
      "metadata": {
        "id": "uKsJm33lViZO"
      },
      "source": [
        "### 4.a) Set test options and evaluation metric"
      ]
    },
    {
      "cell_type": "code",
      "execution_count": 41,
      "metadata": {
        "id": "uaw3fsgoViZO"
      },
      "outputs": [],
      "source": [
        "# Set up Algorithms Spot-Checking Array\n",
        "start_time_training = datetime.now()\n",
        "train_models = []\n",
        "train_results = []\n",
        "train_model_names = []\n",
        "train_metrics = []"
      ]
    },
    {
      "cell_type": "code",
      "execution_count": 42,
      "metadata": {
        "id": "4BuHnxhzViZO"
      },
      "outputs": [],
      "source": [
        "train_models.append(('XGB', XGBClassifier(random_state=RNG_SEED, n_jobs=N_JOBS, objective='binary:logistic', use_label_encoder=False, eval_metric='logloss', tree_method='gpu_hist')))"
      ]
    },
    {
      "cell_type": "code",
      "execution_count": 43,
      "metadata": {
        "id": "xcXtJMqnViZO",
        "outputId": "01971021-2dff-4ce5-87c8-8734a0196996",
        "colab": {
          "base_uri": "https://localhost:8080/"
        }
      },
      "outputs": [
        {
          "output_type": "stream",
          "name": "stderr",
          "text": [
            "[Parallel(n_jobs=1)]: Using backend SequentialBackend with 1 concurrent workers.\n"
          ]
        },
        {
          "output_type": "stream",
          "name": "stdout",
          "text": [
            "XGB: 0.875793 (0.020555)\n",
            "XGBClassifier(eval_metric='logloss', random_state=888, tree_method='gpu_hist',\n",
            "              use_label_encoder=False)\n",
            "Model training time: 0:00:02.484602 \n",
            "\n",
            "Average metrics (roc_auc) from all models: 0.8757928329299208\n",
            "Total training time for all models: 0:00:02.502305\n"
          ]
        },
        {
          "output_type": "stream",
          "name": "stderr",
          "text": [
            "[Parallel(n_jobs=1)]: Done  10 out of  10 | elapsed:    2.5s finished\n"
          ]
        }
      ],
      "source": [
        "# Generate model in turn\n",
        "for name, model in train_models:\n",
        "    if NOTIFY_STATUS: status_notify(\"Algorithm \"+name+\" modeling has begun! \" + datetime.now().strftime('%a %B %d, %Y %I:%M:%S %p'))\n",
        "    start_time_module = datetime.now()\n",
        "    kfold = StratifiedKFold(n_splits=N_FOLDS, shuffle=True, random_state=RNG_SEED)\n",
        "    cv_results = cross_val_score(model, array_features_train, array_target_train, cv=kfold, scoring=SCORING_METRIC, n_jobs=N_JOBS, verbose=1)\n",
        "    train_results.append(cv_results)\n",
        "    train_model_names.append(name)\n",
        "    train_metrics.append(cv_results.mean())\n",
        "    print(\"%s: %f (%f)\" % (name, cv_results.mean(), cv_results.std()))\n",
        "    print(model)\n",
        "    print ('Model training time:', (datetime.now() - start_time_module), '\\n')\n",
        "    if NOTIFY_STATUS: status_notify(\"Algorithm \"+name+\" modeling completed! \" + datetime.now().strftime('%a %B %d, %Y %I:%M:%S %p'))\n",
        "print ('Average metrics (' + SCORING_METRIC + ') from all models:', np.mean(train_metrics))\n",
        "print ('Total training time for all models:', (datetime.now() - start_time_training))"
      ]
    },
    {
      "cell_type": "markdown",
      "metadata": {
        "id": "_mdCViJcViZO"
      },
      "source": [
        "### 4.b) Algorithm Tuning"
      ]
    },
    {
      "cell_type": "code",
      "execution_count": 44,
      "metadata": {
        "id": "VnJ8nahWViZO"
      },
      "outputs": [],
      "source": [
        "# Set up the comparison array\n",
        "tune_results = []\n",
        "tune_model_names = []"
      ]
    },
    {
      "cell_type": "code",
      "execution_count": 45,
      "metadata": {
        "id": "XQbxK3lJViZP",
        "outputId": "5a23c2d3-9ea4-4d73-be10-70e8ead51f9b",
        "colab": {
          "base_uri": "https://localhost:8080/"
        }
      },
      "outputs": [
        {
          "output_type": "stream",
          "name": "stdout",
          "text": [
            "Fitting 10 folds for each of 45 candidates, totalling 450 fits\n",
            "Best: 0.876843 using {'max_depth': 3, 'min_child_weight': 3, 'n_estimators': 100}\n",
            "0.875793 (0.020555) with: {'max_depth': 3, 'min_child_weight': 1, 'n_estimators': 100}\n",
            "0.875084 (0.020408) with: {'max_depth': 3, 'min_child_weight': 1, 'n_estimators': 200}\n",
            "0.874024 (0.020222) with: {'max_depth': 3, 'min_child_weight': 1, 'n_estimators': 300}\n",
            "0.872222 (0.018897) with: {'max_depth': 3, 'min_child_weight': 1, 'n_estimators': 400}\n",
            "0.870391 (0.019110) with: {'max_depth': 3, 'min_child_weight': 1, 'n_estimators': 500}\n",
            "0.876558 (0.020237) with: {'max_depth': 3, 'min_child_weight': 2, 'n_estimators': 100}\n",
            "0.874867 (0.021064) with: {'max_depth': 3, 'min_child_weight': 2, 'n_estimators': 200}\n",
            "0.873037 (0.021015) with: {'max_depth': 3, 'min_child_weight': 2, 'n_estimators': 300}\n",
            "0.871859 (0.020067) with: {'max_depth': 3, 'min_child_weight': 2, 'n_estimators': 400}\n",
            "0.870434 (0.019467) with: {'max_depth': 3, 'min_child_weight': 2, 'n_estimators': 500}\n",
            "0.876843 (0.020123) with: {'max_depth': 3, 'min_child_weight': 3, 'n_estimators': 100}\n",
            "0.875235 (0.020699) with: {'max_depth': 3, 'min_child_weight': 3, 'n_estimators': 200}\n",
            "0.873370 (0.019137) with: {'max_depth': 3, 'min_child_weight': 3, 'n_estimators': 300}\n",
            "0.871685 (0.019813) with: {'max_depth': 3, 'min_child_weight': 3, 'n_estimators': 400}\n",
            "0.868675 (0.020347) with: {'max_depth': 3, 'min_child_weight': 3, 'n_estimators': 500}\n",
            "0.870461 (0.019612) with: {'max_depth': 6, 'min_child_weight': 1, 'n_estimators': 100}\n",
            "0.866348 (0.020298) with: {'max_depth': 6, 'min_child_weight': 1, 'n_estimators': 200}\n",
            "0.862910 (0.020006) with: {'max_depth': 6, 'min_child_weight': 1, 'n_estimators': 300}\n",
            "0.860104 (0.020379) with: {'max_depth': 6, 'min_child_weight': 1, 'n_estimators': 400}\n",
            "0.858412 (0.020656) with: {'max_depth': 6, 'min_child_weight': 1, 'n_estimators': 500}\n",
            "0.869975 (0.020309) with: {'max_depth': 6, 'min_child_weight': 2, 'n_estimators': 100}\n",
            "0.865339 (0.018665) with: {'max_depth': 6, 'min_child_weight': 2, 'n_estimators': 200}\n",
            "0.862099 (0.017583) with: {'max_depth': 6, 'min_child_weight': 2, 'n_estimators': 300}\n",
            "0.860301 (0.016773) with: {'max_depth': 6, 'min_child_weight': 2, 'n_estimators': 400}\n",
            "0.857400 (0.017940) with: {'max_depth': 6, 'min_child_weight': 2, 'n_estimators': 500}\n",
            "0.869423 (0.019581) with: {'max_depth': 6, 'min_child_weight': 3, 'n_estimators': 100}\n",
            "0.865266 (0.018835) with: {'max_depth': 6, 'min_child_weight': 3, 'n_estimators': 200}\n",
            "0.861290 (0.019952) with: {'max_depth': 6, 'min_child_weight': 3, 'n_estimators': 300}\n",
            "0.859082 (0.019561) with: {'max_depth': 6, 'min_child_weight': 3, 'n_estimators': 400}\n",
            "0.856514 (0.018954) with: {'max_depth': 6, 'min_child_weight': 3, 'n_estimators': 500}\n",
            "0.862290 (0.019235) with: {'max_depth': 9, 'min_child_weight': 1, 'n_estimators': 100}\n",
            "0.858138 (0.018678) with: {'max_depth': 9, 'min_child_weight': 1, 'n_estimators': 200}\n",
            "0.855642 (0.018539) with: {'max_depth': 9, 'min_child_weight': 1, 'n_estimators': 300}\n",
            "0.853451 (0.019175) with: {'max_depth': 9, 'min_child_weight': 1, 'n_estimators': 400}\n",
            "0.853009 (0.019576) with: {'max_depth': 9, 'min_child_weight': 1, 'n_estimators': 500}\n",
            "0.865541 (0.018439) with: {'max_depth': 9, 'min_child_weight': 2, 'n_estimators': 100}\n",
            "0.860779 (0.019303) with: {'max_depth': 9, 'min_child_weight': 2, 'n_estimators': 200}\n",
            "0.857361 (0.019277) with: {'max_depth': 9, 'min_child_weight': 2, 'n_estimators': 300}\n",
            "0.854609 (0.018912) with: {'max_depth': 9, 'min_child_weight': 2, 'n_estimators': 400}\n",
            "0.852633 (0.018191) with: {'max_depth': 9, 'min_child_weight': 2, 'n_estimators': 500}\n",
            "0.865343 (0.019997) with: {'max_depth': 9, 'min_child_weight': 3, 'n_estimators': 100}\n",
            "0.859394 (0.020386) with: {'max_depth': 9, 'min_child_weight': 3, 'n_estimators': 200}\n",
            "0.856000 (0.020633) with: {'max_depth': 9, 'min_child_weight': 3, 'n_estimators': 300}\n",
            "0.852899 (0.019828) with: {'max_depth': 9, 'min_child_weight': 3, 'n_estimators': 400}\n",
            "0.850438 (0.020260) with: {'max_depth': 9, 'min_child_weight': 3, 'n_estimators': 500}\n",
            "Model training time: 0:04:41.092885\n"
          ]
        }
      ],
      "source": [
        "# Tuning XGBoost n_estimators, max_depth, and min_child_weight parameters\n",
        "start_time_Module = datetime.now()\n",
        "if NOTIFY_STATUS: status_notify(\"Algorithm tuning iteration #1 has begun! \" + datetime.now().strftime('%a %B %d, %Y %I:%M:%S %p'))\n",
        "\n",
        "tune_model1 = XGBClassifier(random_state=RNG_SEED, n_jobs=N_JOBS, objective='binary:logistic', use_label_encoder=False, eval_metric='logloss', tree_method='gpu_hist')\n",
        "tune_model_names.append('XGB_1')\n",
        "paramGrid1 = dict(n_estimators=range(100, 501, 100),\n",
        "                  max_depth=np.array([3, 6, 9]),\n",
        "                  min_child_weight=np.array([1, 2, 3]))\n",
        "\n",
        "kfold = StratifiedKFold(n_splits=N_FOLDS, shuffle=True, random_state=RNG_SEED)\n",
        "grid1 = GridSearchCV(estimator=tune_model1, param_grid=paramGrid1, scoring=SCORING_METRIC, cv=kfold, n_jobs=N_JOBS, verbose=1)\n",
        "grid_result1 = grid1.fit(array_features_train, array_target_train)\n",
        "\n",
        "print(\"Best: %f using %s\" % (grid_result1.best_score_, grid_result1.best_params_))\n",
        "tune_results.append(grid_result1.cv_results_['mean_test_score'])\n",
        "means = grid_result1.cv_results_['mean_test_score']\n",
        "stds = grid_result1.cv_results_['std_test_score']\n",
        "params = grid_result1.cv_results_['params']\n",
        "for mean, stdev, param in zip(means, stds, params):\n",
        "    print(\"%f (%f) with: %r\" % (mean, stdev, param))\n",
        "print ('Model training time:', (datetime.now() - start_time_Module))\n",
        "if NOTIFY_STATUS: status_notify(\"Algorithm tuning iteration #1 completed! \" + datetime.now().strftime('%a %B %d, %Y %I:%M:%S %p'))"
      ]
    },
    {
      "cell_type": "code",
      "execution_count": 46,
      "metadata": {
        "id": "y2rMYQXKViZP",
        "colab": {
          "base_uri": "https://localhost:8080/"
        },
        "outputId": "12333e71-5a55-430e-c078-11f6d2a2490e"
      },
      "outputs": [
        {
          "output_type": "stream",
          "name": "stdout",
          "text": [
            "Best max_depth parameter: 3\n",
            "Best min_child_weight parameter: 3\n",
            "Best n_estimators parameter: 100\n"
          ]
        }
      ],
      "source": [
        "BEST_MAX_DEPTH = grid_result1.best_params_['max_depth']\n",
        "BEST_MIN_CHILD_WEIGHT = grid_result1.best_params_['min_child_weight']\n",
        "BEST_N_ESTIMATORS = grid_result1.best_params_['n_estimators']\n",
        "print('Best max_depth parameter:', BEST_MAX_DEPTH)\n",
        "print('Best min_child_weight parameter:', BEST_MIN_CHILD_WEIGHT)\n",
        "print('Best n_estimators parameter:', BEST_N_ESTIMATORS)"
      ]
    },
    {
      "cell_type": "code",
      "execution_count": 47,
      "metadata": {
        "id": "hu8_2JbWViZP",
        "colab": {
          "base_uri": "https://localhost:8080/"
        },
        "outputId": "dc5eb14b-1606-4a9a-fbd4-d3966552c3bf"
      },
      "outputs": [
        {
          "output_type": "stream",
          "name": "stdout",
          "text": [
            "Fitting 10 folds for each of 16 candidates, totalling 160 fits\n",
            "Best: 0.877299 using {'colsample_bytree': 0.8, 'subsample': 0.9}\n",
            "0.877115 (0.019303) with: {'colsample_bytree': 0.7, 'subsample': 0.7}\n",
            "0.875541 (0.020442) with: {'colsample_bytree': 0.7, 'subsample': 0.8}\n",
            "0.876699 (0.019608) with: {'colsample_bytree': 0.7, 'subsample': 0.9}\n",
            "0.876802 (0.020219) with: {'colsample_bytree': 0.7, 'subsample': 1.0}\n",
            "0.876730 (0.019459) with: {'colsample_bytree': 0.8, 'subsample': 0.7}\n",
            "0.876647 (0.019718) with: {'colsample_bytree': 0.8, 'subsample': 0.8}\n",
            "0.877299 (0.019461) with: {'colsample_bytree': 0.8, 'subsample': 0.9}\n",
            "0.877187 (0.019755) with: {'colsample_bytree': 0.8, 'subsample': 1.0}\n",
            "0.875256 (0.020959) with: {'colsample_bytree': 0.9, 'subsample': 0.7}\n",
            "0.876349 (0.019389) with: {'colsample_bytree': 0.9, 'subsample': 0.8}\n",
            "0.876377 (0.019426) with: {'colsample_bytree': 0.9, 'subsample': 0.9}\n",
            "0.874898 (0.020726) with: {'colsample_bytree': 0.9, 'subsample': 1.0}\n",
            "0.875548 (0.020782) with: {'colsample_bytree': 1.0, 'subsample': 0.7}\n",
            "0.876907 (0.020481) with: {'colsample_bytree': 1.0, 'subsample': 0.8}\n",
            "0.876801 (0.019894) with: {'colsample_bytree': 1.0, 'subsample': 0.9}\n",
            "0.876843 (0.020123) with: {'colsample_bytree': 1.0, 'subsample': 1.0}\n",
            "Model training time: 0:00:18.888103\n"
          ]
        }
      ],
      "source": [
        "# Tuning XGBoost subsample and colsample_bytree parameters\n",
        "start_time_Module = datetime.now()\n",
        "if NOTIFY_STATUS: status_notify(\"Algorithm tuning iteration #2 has begun! \" + datetime.now().strftime('%a %B %d, %Y %I:%M:%S %p'))\n",
        "\n",
        "tune_model2 = XGBClassifier(n_estimators=BEST_N_ESTIMATORS, max_depth=BEST_MAX_DEPTH, min_child_weight=BEST_MIN_CHILD_WEIGHT,\n",
        "                            random_state=RNG_SEED, n_jobs=N_JOBS, objective='binary:logistic', use_label_encoder=False, eval_metric='logloss', tree_method='gpu_hist')\n",
        "tune_model_names.append('XGB_2')\n",
        "paramGrid2 = dict(subsample=np.array([0.7, 0.8, 0.9, 1.0]),\n",
        "                  colsample_bytree=np.array([0.7, 0.8, 0.9, 1.0]))\n",
        "\n",
        "kfold = StratifiedKFold(n_splits=N_FOLDS, shuffle=True, random_state=RNG_SEED)\n",
        "grid2 = GridSearchCV(estimator=tune_model2, param_grid=paramGrid2, scoring=SCORING_METRIC, cv=kfold, n_jobs=N_JOBS, verbose=1)\n",
        "grid_result2 = grid2.fit(array_features_train, array_target_train)\n",
        "\n",
        "print(\"Best: %f using %s\" % (grid_result2.best_score_, grid_result2.best_params_))\n",
        "tune_results.append(grid_result2.cv_results_['mean_test_score'])\n",
        "means = grid_result2.cv_results_['mean_test_score']\n",
        "stds = grid_result2.cv_results_['std_test_score']\n",
        "params = grid_result2.cv_results_['params']\n",
        "for mean, stdev, param in zip(means, stds, params):\n",
        "    print(\"%f (%f) with: %r\" % (mean, stdev, param))\n",
        "print ('Model training time:',(datetime.now() - start_time_Module))\n",
        "if NOTIFY_STATUS: status_notify(\"Algorithm tuning iteration #2 completed! \" + datetime.now().strftime('%a %B %d, %Y %I:%M:%S %p'))"
      ]
    },
    {
      "cell_type": "code",
      "execution_count": 48,
      "metadata": {
        "id": "Q1R-8G3sViZP",
        "colab": {
          "base_uri": "https://localhost:8080/"
        },
        "outputId": "90e039af-86a7-4e80-fc20-c18710c2a612"
      },
      "outputs": [
        {
          "output_type": "stream",
          "name": "stdout",
          "text": [
            "Best colsample_bytree parameter: 0.8\n",
            "Best subsample parameter: 0.9\n"
          ]
        }
      ],
      "source": [
        "BEST_COLSAMPLE_BYTREE = grid_result2.best_params_['colsample_bytree']\n",
        "BEST_SUBSAMPLE = grid_result2.best_params_['subsample']\n",
        "print('Best colsample_bytree parameter:', BEST_COLSAMPLE_BYTREE)\n",
        "print('Best subsample parameter:', BEST_SUBSAMPLE)"
      ]
    },
    {
      "cell_type": "markdown",
      "metadata": {
        "id": "4-goJ-ScViZP"
      },
      "source": [
        "### 4.c) Compare Algorithms After Tuning"
      ]
    },
    {
      "cell_type": "code",
      "execution_count": 49,
      "metadata": {
        "id": "_hDXaaZsViZP",
        "colab": {
          "base_uri": "https://localhost:8080/",
          "height": 843
        },
        "outputId": "61db8522-1139-451b-e3a5-e0f4eb0e0d62"
      },
      "outputs": [
        {
          "output_type": "stream",
          "name": "stderr",
          "text": [
            "/usr/local/lib/python3.8/dist-packages/matplotlib/cbook/__init__.py:1376: VisibleDeprecationWarning: Creating an ndarray from ragged nested sequences (which is a list-or-tuple of lists-or-tuples-or ndarrays with different lengths or shapes) is deprecated. If you meant to do this, you must specify 'dtype=object' when creating the ndarray.\n",
            "  X = np.atleast_1d(X.T if isinstance(X, np.ndarray) else np.asarray(X))\n"
          ]
        },
        {
          "output_type": "display_data",
          "data": {
            "text/plain": [
              "<Figure size 1152x864 with 1 Axes>"
            ],
            "image/png": "[encoded data removed]"
          },
          "metadata": {
            "needs_background": "light"
          }
        }
      ],
      "source": [
        "fig = plt.figure(figsize=(16,12))\n",
        "fig.suptitle('Algorithm Comparison - Post Tuning')\n",
        "ax = fig.add_subplot(111)\n",
        "plt.boxplot(tune_results)\n",
        "ax.set_xticklabels(tune_model_names)\n",
        "plt.show()"
      ]
    },
    {
      "cell_type": "code",
      "execution_count": 50,
      "metadata": {
        "jupyter": {
          "outputs_hidden": false
        },
        "pycharm": {
          "name": "#%%\n"
        },
        "id": "amDXgg8-ViZP"
      },
      "outputs": [],
      "source": [
        "if NOTIFY_STATUS: status_notify(\"Task 4 - Train and Tune Models completed! \" + datetime.now().strftime('%a %B %d, %Y %I:%M:%S %p'))"
      ]
    },
    {
      "cell_type": "markdown",
      "metadata": {
        "id": "Lpcuc18gViZP"
      },
      "source": [
        "## Task 5 - Finalize Model and Make Predictions"
      ]
    },
    {
      "cell_type": "code",
      "execution_count": 51,
      "metadata": {
        "id": "NBbeOTskViZQ"
      },
      "outputs": [],
      "source": [
        "if NOTIFY_STATUS: status_notify(\"Task 5 - Finalize Model and Make Predictions has begun! \" + datetime.now().strftime('%a %B %d, %Y %I:%M:%S %p'))"
      ]
    },
    {
      "cell_type": "markdown",
      "source": [
        "### 5.a) Train the Final Model"
      ],
      "metadata": {
        "id": "AnvgPHmozXec"
      }
    },
    {
      "cell_type": "code",
      "execution_count": 52,
      "metadata": {
        "id": "TUc7fHQ9ViZQ",
        "colab": {
          "base_uri": "https://localhost:8080/"
        },
        "outputId": "eb4babd8-04f5-40bb-9beb-7f1308b4426d"
      },
      "outputs": [
        {
          "output_type": "stream",
          "name": "stdout",
          "text": [
            "XGBClassifier(colsample_bytree=0.8, eval_metric='logloss', min_child_weight=3,\n",
            "              random_state=888, subsample=0.9, tree_method='gpu_hist',\n",
            "              use_label_encoder=False)\n"
          ]
        }
      ],
      "source": [
        "final_model = XGBClassifier(n_estimators=BEST_N_ESTIMATORS, max_depth=BEST_MAX_DEPTH, min_child_weight=BEST_MIN_CHILD_WEIGHT,\n",
        "                            colsample_bytree=BEST_COLSAMPLE_BYTREE, subsample=BEST_SUBSAMPLE, random_state=RNG_SEED,\n",
        "                            n_jobs=N_JOBS, objective='binary:logistic', use_label_encoder=False, eval_metric='logloss', tree_method='gpu_hist')\n",
        "final_model.fit(array_features_train, array_target_train)\n",
        "print(final_model)"
      ]
    },
    {
      "cell_type": "markdown",
      "source": [
        "### 5.b) Load Test Dataset and Make Predictions"
      ],
      "metadata": {
        "id": "lgEvffI2Mpnx"
      }
    },
    {
      "cell_type": "code",
      "source": [
        "df_features_test = pd.read_csv(TEST_DATASET)\n",
        "df_features_test['is_synthetic'] = 1\n",
        "\n",
        "# Fill in some missing fields with the most common values\n",
        "df_features_test['gender'] = df_features_test['gender'].apply(clean_gender)\n",
        "df_features_test['smoking_status'] = df_features_test['smoking_status'].apply(clean_smoking_status)\n",
        "\n",
        "# Take a peek at the dataframe after import\n",
        "print(df_features_test.head())"
      ],
      "metadata": {
        "id": "h7WgCCfHMPub",
        "colab": {
          "base_uri": "https://localhost:8080/"
        },
        "outputId": "f4a5ad1a-c41a-4e2f-d9b8-183e8e36bf8b"
      },
      "execution_count": 53,
      "outputs": [
        {
          "output_type": "stream",
          "name": "stdout",
          "text": [
            "      id  gender   age  hypertension  heart_disease ever_married work_type  \\\n",
            "0  15304  Female  57.0             0              0          Yes   Private   \n",
            "1  15305    Male  70.0             1              0          Yes   Private   \n",
            "2  15306  Female   5.0             0              0           No  children   \n",
            "3  15307  Female  56.0             0              0          Yes  Govt_job   \n",
            "4  15308    Male  32.0             0              0          Yes   Private   \n",
            "\n",
            "  Residence_type  avg_glucose_level   bmi smoking_status  is_synthetic  \n",
            "0          Rural              82.54  33.4   never smoked             1  \n",
            "1          Urban              72.06  28.5   never smoked             1  \n",
            "2          Urban             103.72  19.5   never smoked             1  \n",
            "3          Urban              69.24  41.4         smokes             1  \n",
            "4          Rural             111.15  30.1         smokes             1  \n"
          ]
        }
      ]
    },
    {
      "cell_type": "code",
      "source": [
        "df_features_test.info(verbose=True)"
      ],
      "metadata": {
        "colab": {
          "base_uri": "https://localhost:8080/"
        },
        "id": "I4MmbAcTCEGD",
        "outputId": "d377844c-251c-49e9-9e16-51a2713b07b8"
      },
      "execution_count": 54,
      "outputs": [
        {
          "output_type": "stream",
          "name": "stdout",
          "text": [
            "<class 'pandas.core.frame.DataFrame'>\n",
            "RangeIndex: 10204 entries, 0 to 10203\n",
            "Data columns (total 12 columns):\n",
            " #   Column             Non-Null Count  Dtype  \n",
            "---  ------             --------------  -----  \n",
            " 0   id                 10204 non-null  int64  \n",
            " 1   gender             10204 non-null  object \n",
            " 2   age                10204 non-null  float64\n",
            " 3   hypertension       10204 non-null  int64  \n",
            " 4   heart_disease      10204 non-null  int64  \n",
            " 5   ever_married       10204 non-null  object \n",
            " 6   work_type          10204 non-null  object \n",
            " 7   Residence_type     10204 non-null  object \n",
            " 8   avg_glucose_level  10204 non-null  float64\n",
            " 9   bmi                10204 non-null  float64\n",
            " 10  smoking_status     10204 non-null  object \n",
            " 11  is_synthetic       10204 non-null  int64  \n",
            "dtypes: float64(3), int64(4), object(5)\n",
            "memory usage: 956.8+ KB\n"
          ]
        }
      ]
    },
    {
      "cell_type": "code",
      "source": [
        "id_column_name = df_features_test.columns[0]\n",
        "df_kaggle_submission = pd.DataFrame()\n",
        "df_kaggle_submission[id_column_name] = df_features_test[id_column_name]\n",
        "print(df_kaggle_submission.head())"
      ],
      "metadata": {
        "id": "UWJg6T5zMyxJ",
        "colab": {
          "base_uri": "https://localhost:8080/"
        },
        "outputId": "7af0b813-98b2-4a3b-a37b-a98f9281f553"
      },
      "execution_count": 55,
      "outputs": [
        {
          "output_type": "stream",
          "name": "stdout",
          "text": [
            "      id\n",
            "0  15304\n",
            "1  15305\n",
            "2  15306\n",
            "3  15307\n",
            "4  15308\n"
          ]
        }
      ]
    },
    {
      "cell_type": "code",
      "source": [
        "# Dropping unique identifier and unnecessary features\n",
        "df_features_test.drop(columns=[id_column_name,], inplace=True)\n",
        "\n",
        "# Take a peek at the dataframe after cleaning\n",
        "print(df_features_test.head())"
      ],
      "metadata": {
        "id": "WnH5v-ejM8u_",
        "colab": {
          "base_uri": "https://localhost:8080/"
        },
        "outputId": "a5fd41e1-f729-4a43-b17f-b1339b5983fb"
      },
      "execution_count": 56,
      "outputs": [
        {
          "output_type": "stream",
          "name": "stdout",
          "text": [
            "   gender   age  hypertension  heart_disease ever_married work_type  \\\n",
            "0  Female  57.0             0              0          Yes   Private   \n",
            "1    Male  70.0             1              0          Yes   Private   \n",
            "2  Female   5.0             0              0           No  children   \n",
            "3  Female  56.0             0              0          Yes  Govt_job   \n",
            "4    Male  32.0             0              0          Yes   Private   \n",
            "\n",
            "  Residence_type  avg_glucose_level   bmi smoking_status  is_synthetic  \n",
            "0          Rural              82.54  33.4   never smoked             1  \n",
            "1          Urban              72.06  28.5   never smoked             1  \n",
            "2          Urban             103.72  19.5   never smoked             1  \n",
            "3          Urban              69.24  41.4         smokes             1  \n",
            "4          Rural             111.15  30.1         smokes             1  \n"
          ]
        }
      ]
    },
    {
      "cell_type": "code",
      "source": [
        "# Finalize the test dataset for the testing activities\n",
        "array_features_test = preprocessor.transform(df_features_test)\n",
        "print(\"Transformed features from df_features_test.shape: {} to array_features_test.shape: {}\".format(df_features_test.shape, array_features_test.shape))"
      ],
      "metadata": {
        "id": "8oW_srf7Nlli",
        "colab": {
          "base_uri": "https://localhost:8080/"
        },
        "outputId": "044c877c-7c01-4af9-c875-219f920b10ef"
      },
      "execution_count": 57,
      "outputs": [
        {
          "output_type": "stream",
          "name": "stdout",
          "text": [
            "Transformed features from df_features_test.shape: (10204, 11) to array_features_test.shape: (10204, 20)\n"
          ]
        }
      ]
    },
    {
      "cell_type": "code",
      "source": [
        "# Make batched predictions\n",
        "test_predictions =  final_model.predict_proba(array_features_test)\n",
        "print(test_predictions)"
      ],
      "metadata": {
        "id": "sbwMzaYzNpTj",
        "colab": {
          "base_uri": "https://localhost:8080/"
        },
        "outputId": "6d56c341-c183-4e5c-8530-cdd2aa3a24de"
      },
      "execution_count": 58,
      "outputs": [
        {
          "output_type": "stream",
          "name": "stdout",
          "text": [
            "[[0.77909374 0.22090623]\n",
            " [0.22940403 0.77059597]\n",
            " [0.9954759  0.00452412]\n",
            " ...\n",
            " [0.9970461  0.00295391]\n",
            " [0.9883919  0.01160811]\n",
            " [0.9970519  0.00294813]]\n"
          ]
        }
      ]
    },
    {
      "cell_type": "code",
      "source": [
        "df_sample_submission = pd.read_csv(SUBMISSION_TEMPLATE)\n",
        "df_sample_submission.drop(columns=[id_column_name], inplace=True)\n",
        "submission_header = list(df_sample_submission.columns)[0]\n",
        "print(submission_header)"
      ],
      "metadata": {
        "id": "_bVUHUgjNvcM",
        "colab": {
          "base_uri": "https://localhost:8080/"
        },
        "outputId": "18e2636a-9635-4f1c-d437-54aa0a1423b7"
      },
      "execution_count": 59,
      "outputs": [
        {
          "output_type": "stream",
          "name": "stdout",
          "text": [
            "stroke\n"
          ]
        }
      ]
    },
    {
      "cell_type": "code",
      "source": [
        "df_kaggle_submission[submission_header] = test_predictions[:,1]\n",
        "print(df_kaggle_submission.head())"
      ],
      "metadata": {
        "id": "QTt5mFxpN0yQ",
        "colab": {
          "base_uri": "https://localhost:8080/"
        },
        "outputId": "256d343d-4bc9-48a6-896f-10769f1b9157"
      },
      "execution_count": 60,
      "outputs": [
        {
          "output_type": "stream",
          "name": "stdout",
          "text": [
            "      id    stroke\n",
            "0  15304  0.220906\n",
            "1  15305  0.770596\n",
            "2  15306  0.004524\n",
            "3  15307  0.471802\n",
            "4  15308  0.048009\n"
          ]
        }
      ]
    },
    {
      "cell_type": "code",
      "source": [
        "submission_file = df_kaggle_submission.to_csv(header=True, index=False)\n",
        "filename = SUBMISSION_FILE + datetime.now().strftime('%Y%m%d-%H%M') + '.csv'\n",
        "with open(filename, 'w') as f:\n",
        "    f.write(submission_file)\n",
        "    print('Completed writing output file: ' + filename)"
      ],
      "metadata": {
        "id": "xEViFboLN42g",
        "colab": {
          "base_uri": "https://localhost:8080/"
        },
        "outputId": "3439da74-98ee-497c-e69a-876f22bffd5c"
      },
      "execution_count": 61,
      "outputs": [
        {
          "output_type": "stream",
          "name": "stdout",
          "text": [
            "Completed writing output file: submission_xgboost_20230123-0144.csv\n"
          ]
        }
      ]
    },
    {
      "cell_type": "code",
      "execution_count": 62,
      "metadata": {
        "id": "y4qPlI-ZViZR"
      },
      "outputs": [],
      "source": [
        "if NOTIFY_STATUS: status_notify(\"Task 5 - Finalize Model and Make Predictions completed! \" + datetime.now().strftime('%a %B %d, %Y %I:%M:%S %p'))"
      ]
    },
    {
      "cell_type": "code",
      "execution_count": 63,
      "metadata": {
        "id": "M5_FY-MaViZR",
        "colab": {
          "base_uri": "https://localhost:8080/"
        },
        "outputId": "d3356ab8-ee75-443d-da3d-0143c83358d5"
      },
      "outputs": [
        {
          "output_type": "stream",
          "name": "stdout",
          "text": [
            "Total time for the script: 0:05:06.782069\n"
          ]
        }
      ],
      "source": [
        "print ('Total time for the script:',(datetime.now() - START_TIME_SCRIPT))"
      ]
    }
  ],
  "metadata": {
    "kernelspec": {
      "display_name": "Python 3 (ipykernel)",
      "language": "python",
      "name": "python3"
    },
    "language_info": {
      "codemirror_mode": {
        "name": "ipython",
        "version": 3
      },
      "file_extension": ".py",
      "mimetype": "text/x-python",
      "name": "python",
      "nbconvert_exporter": "python",
      "pygments_lexer": "ipython3",
      "version": "3.8.10"
    },
    "colab": {
      "provenance": [],
      "collapsed_sections": [
        "i99VwZJrViZM"
      ]
    },
    "accelerator": "GPU",
    "gpuClass": "premium"
  },
  "nbformat": 4,
  "nbformat_minor": 0
}
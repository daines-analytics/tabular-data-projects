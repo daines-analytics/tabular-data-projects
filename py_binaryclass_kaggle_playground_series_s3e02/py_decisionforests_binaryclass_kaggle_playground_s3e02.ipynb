{
  "cells": [
    {
      "cell_type": "markdown",
      "metadata": {
        "id": "2sQmc7MlwXit"
      },
      "source": [
        "# Binary-Class Tabular Model for Kaggle Playground Series Season 3 Episode 2 Using Python and TensorFlow Decision Forests\n",
        "### David Lowe\n",
        "### January 24, 2023\n",
        "\n",
        "SUMMARY: The project aims to construct a predictive model using various machine learning algorithms and document the end-to-end steps using a template. The Kaggle Playground Series Season 3 Episode 2 dataset is a binary-class modeling situation where we attempt to predict one of two possible outcomes.\n",
        "\n",
        "INTRODUCTION: Kaggle wants to provide an approachable environment for relatively new people in their data science journey. Since January 2021, they have hosted playground-style competitions to give the Kaggle community a variety of reasonably lightweight challenges that can be used to learn and sharpen skills in different aspects of machine learning and data science. The dataset for this competition was generated from a deep learning model trained on the Stroke Prediction Dataset. Feature distributions are close to but different from the original.\n",
        "\n",
        "ANALYSIS: The Random Forest model performed the best with the training dataset. The model achieved an AUC/ROC benchmark of 0.9914. When we processed the test dataset with the final model, the model achieved an AUC/ROC score of 0.8731.\n",
        "\n",
        "CONCLUSION: In this iteration, the Random Forest model appeared to be a suitable algorithm for modeling this dataset.\n",
        "\n",
        "Dataset Used: Playground Series Season 3, Episode 2\n",
        "\n",
        "Dataset ML Model: Binary-Class classification with numerical and categorical features\n",
        "\n",
        "Dataset Reference: https://www.kaggle.com/competitions/playground-series-s3e2\n",
        "\n",
        "One source of potential performance benchmarks: https://www.kaggle.com/competitions/playground-series-s3e2/leaderboard"
      ]
    },
    {
      "cell_type": "markdown",
      "metadata": {
        "id": "2pu8nWBYwXi9"
      },
      "source": [
        "## Task 1 - Prepare Environment"
      ]
    },
    {
      "cell_type": "code",
      "source": [
        "# Install TensorFlow Decision Forests\n",
        "!pip3 install tensorflow_decision_forests --upgrade"
      ],
      "metadata": {
        "colab": {
          "base_uri": "https://localhost:8080/"
        },
        "id": "ovqTlKL1tZUw",
        "outputId": "04a684f5-0468-4efb-e000-5452cf676d8c"
      },
      "execution_count": 1,
      "outputs": [
        {
          "output_type": "stream",
          "name": "stdout",
          "text": [
            "Looking in indexes: https://pypi.org/simple, https://us-python.pkg.dev/colab-wheels/public/simple/\n",
            "Requirement already satisfied: tensorflow_decision_forests in /usr/local/lib/python3.8/dist-packages (1.1.0)\n",
            "Requirement already satisfied: wurlitzer in /usr/local/lib/python3.8/dist-packages (from tensorflow_decision_forests) (3.0.3)\n",
            "Requirement already satisfied: wheel in /usr/local/lib/python3.8/dist-packages (from tensorflow_decision_forests) (0.38.4)\n",
            "Requirement already satisfied: numpy in /usr/local/lib/python3.8/dist-packages (from tensorflow_decision_forests) (1.21.6)\n",
            "Requirement already satisfied: six in /usr/local/lib/python3.8/dist-packages (from tensorflow_decision_forests) (1.15.0)\n",
            "Requirement already satisfied: tensorflow~=2.11.0 in /usr/local/lib/python3.8/dist-packages (from tensorflow_decision_forests) (2.11.0)\n",
            "Requirement already satisfied: pandas in /usr/local/lib/python3.8/dist-packages (from tensorflow_decision_forests) (1.3.5)\n",
            "Requirement already satisfied: absl-py in /usr/local/lib/python3.8/dist-packages (from tensorflow_decision_forests) (1.3.0)\n",
            "Requirement already satisfied: gast<=0.4.0,>=0.2.1 in /usr/local/lib/python3.8/dist-packages (from tensorflow~=2.11.0->tensorflow_decision_forests) (0.4.0)\n",
            "Requirement already satisfied: h5py>=2.9.0 in /usr/local/lib/python3.8/dist-packages (from tensorflow~=2.11.0->tensorflow_decision_forests) (3.1.0)\n",
            "Requirement already satisfied: packaging in /usr/local/lib/python3.8/dist-packages (from tensorflow~=2.11.0->tensorflow_decision_forests) (21.3)\n",
            "Requirement already satisfied: opt-einsum>=2.3.2 in /usr/local/lib/python3.8/dist-packages (from tensorflow~=2.11.0->tensorflow_decision_forests) (3.3.0)\n",
            "Requirement already satisfied: astunparse>=1.6.0 in /usr/local/lib/python3.8/dist-packages (from tensorflow~=2.11.0->tensorflow_decision_forests) (1.6.3)\n",
            "Requirement already satisfied: setuptools in /usr/local/lib/python3.8/dist-packages (from tensorflow~=2.11.0->tensorflow_decision_forests) (57.4.0)\n",
            "Requirement already satisfied: google-pasta>=0.1.1 in /usr/local/lib/python3.8/dist-packages (from tensorflow~=2.11.0->tensorflow_decision_forests) (0.2.0)\n",
            "Requirement already satisfied: tensorboard<2.12,>=2.11 in /usr/local/lib/python3.8/dist-packages (from tensorflow~=2.11.0->tensorflow_decision_forests) (2.11.2)\n",
            "Requirement already satisfied: keras<2.12,>=2.11.0 in /usr/local/lib/python3.8/dist-packages (from tensorflow~=2.11.0->tensorflow_decision_forests) (2.11.0)\n",
            "Requirement already satisfied: tensorflow-estimator<2.12,>=2.11.0 in /usr/local/lib/python3.8/dist-packages (from tensorflow~=2.11.0->tensorflow_decision_forests) (2.11.0)\n",
            "Requirement already satisfied: libclang>=13.0.0 in /usr/local/lib/python3.8/dist-packages (from tensorflow~=2.11.0->tensorflow_decision_forests) (15.0.6.1)\n",
            "Requirement already satisfied: wrapt>=1.11.0 in /usr/local/lib/python3.8/dist-packages (from tensorflow~=2.11.0->tensorflow_decision_forests) (1.14.1)\n",
            "Requirement already satisfied: grpcio<2.0,>=1.24.3 in /usr/local/lib/python3.8/dist-packages (from tensorflow~=2.11.0->tensorflow_decision_forests) (1.51.1)\n",
            "Requirement already satisfied: protobuf<3.20,>=3.9.2 in /usr/local/lib/python3.8/dist-packages (from tensorflow~=2.11.0->tensorflow_decision_forests) (3.19.6)\n",
            "Requirement already satisfied: tensorflow-io-gcs-filesystem>=0.23.1 in /usr/local/lib/python3.8/dist-packages (from tensorflow~=2.11.0->tensorflow_decision_forests) (0.29.0)\n",
            "Requirement already satisfied: termcolor>=1.1.0 in /usr/local/lib/python3.8/dist-packages (from tensorflow~=2.11.0->tensorflow_decision_forests) (2.2.0)\n",
            "Requirement already satisfied: typing-extensions>=3.6.6 in /usr/local/lib/python3.8/dist-packages (from tensorflow~=2.11.0->tensorflow_decision_forests) (4.4.0)\n",
            "Requirement already satisfied: flatbuffers>=2.0 in /usr/local/lib/python3.8/dist-packages (from tensorflow~=2.11.0->tensorflow_decision_forests) (23.1.21)\n",
            "Requirement already satisfied: pytz>=2017.3 in /usr/local/lib/python3.8/dist-packages (from pandas->tensorflow_decision_forests) (2022.7)\n",
            "Requirement already satisfied: python-dateutil>=2.7.3 in /usr/local/lib/python3.8/dist-packages (from pandas->tensorflow_decision_forests) (2.8.2)\n",
            "Requirement already satisfied: tensorboard-data-server<0.7.0,>=0.6.0 in /usr/local/lib/python3.8/dist-packages (from tensorboard<2.12,>=2.11->tensorflow~=2.11.0->tensorflow_decision_forests) (0.6.1)\n",
            "Requirement already satisfied: markdown>=2.6.8 in /usr/local/lib/python3.8/dist-packages (from tensorboard<2.12,>=2.11->tensorflow~=2.11.0->tensorflow_decision_forests) (3.4.1)\n",
            "Requirement already satisfied: werkzeug>=1.0.1 in /usr/local/lib/python3.8/dist-packages (from tensorboard<2.12,>=2.11->tensorflow~=2.11.0->tensorflow_decision_forests) (1.0.1)\n",
            "Requirement already satisfied: requests<3,>=2.21.0 in /usr/local/lib/python3.8/dist-packages (from tensorboard<2.12,>=2.11->tensorflow~=2.11.0->tensorflow_decision_forests) (2.25.1)\n",
            "Requirement already satisfied: google-auth<3,>=1.6.3 in /usr/local/lib/python3.8/dist-packages (from tensorboard<2.12,>=2.11->tensorflow~=2.11.0->tensorflow_decision_forests) (2.16.0)\n",
            "Requirement already satisfied: tensorboard-plugin-wit>=1.6.0 in /usr/local/lib/python3.8/dist-packages (from tensorboard<2.12,>=2.11->tensorflow~=2.11.0->tensorflow_decision_forests) (1.8.1)\n",
            "Requirement already satisfied: google-auth-oauthlib<0.5,>=0.4.1 in /usr/local/lib/python3.8/dist-packages (from tensorboard<2.12,>=2.11->tensorflow~=2.11.0->tensorflow_decision_forests) (0.4.6)\n",
            "Requirement already satisfied: pyparsing!=3.0.5,>=2.0.2 in /usr/local/lib/python3.8/dist-packages (from packaging->tensorflow~=2.11.0->tensorflow_decision_forests) (3.0.9)\n",
            "Requirement already satisfied: pyasn1-modules>=0.2.1 in /usr/local/lib/python3.8/dist-packages (from google-auth<3,>=1.6.3->tensorboard<2.12,>=2.11->tensorflow~=2.11.0->tensorflow_decision_forests) (0.2.8)\n",
            "Requirement already satisfied: rsa<5,>=3.1.4 in /usr/local/lib/python3.8/dist-packages (from google-auth<3,>=1.6.3->tensorboard<2.12,>=2.11->tensorflow~=2.11.0->tensorflow_decision_forests) (4.9)\n",
            "Requirement already satisfied: cachetools<6.0,>=2.0.0 in /usr/local/lib/python3.8/dist-packages (from google-auth<3,>=1.6.3->tensorboard<2.12,>=2.11->tensorflow~=2.11.0->tensorflow_decision_forests) (5.2.1)\n",
            "Requirement already satisfied: requests-oauthlib>=0.7.0 in /usr/local/lib/python3.8/dist-packages (from google-auth-oauthlib<0.5,>=0.4.1->tensorboard<2.12,>=2.11->tensorflow~=2.11.0->tensorflow_decision_forests) (1.3.1)\n",
            "Requirement already satisfied: importlib-metadata>=4.4 in /usr/local/lib/python3.8/dist-packages (from markdown>=2.6.8->tensorboard<2.12,>=2.11->tensorflow~=2.11.0->tensorflow_decision_forests) (6.0.0)\n",
            "Requirement already satisfied: idna<3,>=2.5 in /usr/local/lib/python3.8/dist-packages (from requests<3,>=2.21.0->tensorboard<2.12,>=2.11->tensorflow~=2.11.0->tensorflow_decision_forests) (2.10)\n",
            "Requirement already satisfied: certifi>=2017.4.17 in /usr/local/lib/python3.8/dist-packages (from requests<3,>=2.21.0->tensorboard<2.12,>=2.11->tensorflow~=2.11.0->tensorflow_decision_forests) (2022.12.7)\n",
            "Requirement already satisfied: chardet<5,>=3.0.2 in /usr/local/lib/python3.8/dist-packages (from requests<3,>=2.21.0->tensorboard<2.12,>=2.11->tensorflow~=2.11.0->tensorflow_decision_forests) (4.0.0)\n",
            "Requirement already satisfied: urllib3<1.27,>=1.21.1 in /usr/local/lib/python3.8/dist-packages (from requests<3,>=2.21.0->tensorboard<2.12,>=2.11->tensorflow~=2.11.0->tensorflow_decision_forests) (1.24.3)\n",
            "Requirement already satisfied: zipp>=0.5 in /usr/local/lib/python3.8/dist-packages (from importlib-metadata>=4.4->markdown>=2.6.8->tensorboard<2.12,>=2.11->tensorflow~=2.11.0->tensorflow_decision_forests) (3.11.0)\n",
            "Requirement already satisfied: pyasn1<0.5.0,>=0.4.6 in /usr/local/lib/python3.8/dist-packages (from pyasn1-modules>=0.2.1->google-auth<3,>=1.6.3->tensorboard<2.12,>=2.11->tensorflow~=2.11.0->tensorflow_decision_forests) (0.4.8)\n",
            "Requirement already satisfied: oauthlib>=3.0.0 in /usr/local/lib/python3.8/dist-packages (from requests-oauthlib>=0.7.0->google-auth-oauthlib<0.5,>=0.4.1->tensorboard<2.12,>=2.11->tensorflow~=2.11.0->tensorflow_decision_forests) (3.2.2)\n"
          ]
        }
      ]
    },
    {
      "cell_type": "code",
      "execution_count": 2,
      "metadata": {
        "colab": {
          "base_uri": "https://localhost:8080/"
        },
        "id": "ZOOVxnGCwXi_",
        "outputId": "1e4f6dbc-7bf3-40c6-db0d-ee9911460646"
      },
      "outputs": [
        {
          "output_type": "stream",
          "name": "stdout",
          "text": [
            "The number of available CPUs is: 2\n"
          ]
        }
      ],
      "source": [
        "# Retrieve the CPU information\n",
        "ncpu = !nproc\n",
        "print(\"The number of available CPUs is:\", ncpu[0])"
      ]
    },
    {
      "cell_type": "markdown",
      "metadata": {
        "id": "6UZqFeojwXjA"
      },
      "source": [
        "### 1.a) Load libraries and modules"
      ]
    },
    {
      "cell_type": "code",
      "execution_count": 3,
      "metadata": {
        "id": "9_ovTGbJwXjA"
      },
      "outputs": [],
      "source": [
        "# Set the random seed number for reproducible results\n",
        "RNG_SEED = 888"
      ]
    },
    {
      "cell_type": "code",
      "execution_count": 4,
      "metadata": {
        "id": "vDmif-v8wXjB"
      },
      "outputs": [],
      "source": [
        "import random\n",
        "random.seed(RNG_SEED)\n",
        "import numpy as np\n",
        "np.random.seed(RNG_SEED)\n",
        "import pandas as pd\n",
        "import seaborn as sns\n",
        "import matplotlib\n",
        "import matplotlib.pyplot as plt\n",
        "import os\n",
        "import sys\n",
        "import math\n",
        "# import boto3\n",
        "import zipfile\n",
        "import urllib\n",
        "from datetime import datetime\n",
        "from sklearn import preprocessing\n",
        "from sklearn.model_selection import train_test_split\n",
        "from sklearn.model_selection import RepeatedKFold\n",
        "from sklearn.metrics import classification_report\n",
        "from sklearn.metrics import confusion_matrix\n",
        "from sklearn.metrics import accuracy_score\n",
        "from sklearn.pipeline import Pipeline\n",
        "from sklearn import compose\n",
        "from sklearn import impute\n",
        "from sklearn import metrics\n",
        "import tensorflow as tf\n",
        "tf.random.set_seed(RNG_SEED)\n",
        "# from tensorflow import keras\n",
        "import tensorflow_decision_forests as tfdf"
      ]
    },
    {
      "cell_type": "markdown",
      "metadata": {
        "id": "M0TRB7j0wXjB"
      },
      "source": [
        "### 1.b) Set up the controlling parameters and functions"
      ]
    },
    {
      "cell_type": "code",
      "execution_count": 5,
      "metadata": {
        "colab": {
          "base_uri": "https://localhost:8080/"
        },
        "id": "JCurALWEwXjB",
        "outputId": "13bc81e9-2d18-4ec4-e4b8-ffb4a787674d"
      },
      "outputs": [
        {
          "output_type": "stream",
          "name": "stdout",
          "text": [
            "TensorFlow version: 2.11.0\n",
            "Found TensorFlow Decision Forests v1.1.0\n"
          ]
        }
      ],
      "source": [
        "# Begin the timer for the script processing\n",
        "start_time_script = datetime.now()\n",
        "\n",
        "# Set up the number of CPU cores available for multi-thread processing\n",
        "N_JOBS = 1\n",
        "\n",
        "# Set up the flag to stop sending progress emails (setting to True will send status emails!)\n",
        "NOTIFY_STATUS = False\n",
        "\n",
        "# Set the percentage sizes for splitting the dataset\n",
        "TEST_SET_RATIO = 0.1\n",
        "VAL_SET_RATIO = 0.1\n",
        "\n",
        "# Set the name for the class/label column\n",
        "ORIGINAL_LABEL = 'stroke'\n",
        "CLASS_COLUMN = 'target'\n",
        "\n",
        "# Set the number of folds for cross validation\n",
        "N_FOLDS = 10\n",
        "N_ITERATIONS = 1\n",
        "\n",
        "# Set default modeling scoring metric\n",
        "DEFAULT_METRICS = [tf.keras.metrics.AUC()]\n",
        "\n",
        "# Define the directory locations and file names\n",
        "ORIGINAL_DATASET = 'https://dainesanalytics.com/datasets/kaggle-playground-series-s3e02/healthcare-dataset-stroke-data.csv'\n",
        "TRAIN_DATASET = 'https://dainesanalytics.com/datasets/kaggle-playground-series-s3e02/train.csv'\n",
        "TEST_DATASET = 'https://dainesanalytics.com/datasets/kaggle-playground-series-s3e02/test.csv'\n",
        "SUBMISSION_TEMPLATE = 'https://dainesanalytics.com/datasets/kaggle-playground-series-s3e02/sample_submission.csv'\n",
        "SUBMISSION_FILE = 'submission_decisionforests_'\n",
        "\n",
        "# Print out the TensorFlow version for confirmation\n",
        "print('TensorFlow version:', tf.__version__)\n",
        "\n",
        "# Check the version of TensorFlow Decision Forests\n",
        "print(\"Found TensorFlow Decision Forests v\" + tfdf.__version__)"
      ]
    },
    {
      "cell_type": "code",
      "execution_count": 6,
      "metadata": {
        "id": "IBDJ6B40wXjC"
      },
      "outputs": [],
      "source": [
        "# Set up the email notification function\n",
        "def status_notify(msg_text):\n",
        "    access_key = os.environ.get('SNS_ACCESS_KEY')\n",
        "    secret_key = os.environ.get('SNS_SECRET_KEY')\n",
        "    aws_region = os.environ.get('SNS_AWS_REGION')\n",
        "    topic_arn = os.environ.get('SNS_TOPIC_ARN')\n",
        "    if (access_key is None) or (secret_key is None) or (aws_region is None):\n",
        "        sys.exit(\"Incomplete notification setup info. Script Processing Aborted!!!\")\n",
        "    sns = boto3.client('sns', aws_access_key_id=access_key, aws_secret_access_key=secret_key, region_name=aws_region)\n",
        "    response = sns.publish(TopicArn=topic_arn, Message=msg_text)\n",
        "    if response['ResponseMetadata']['HTTPStatusCode'] != 200 :\n",
        "        print('Status notification not OK with HTTP status code:', response['ResponseMetadata']['HTTPStatusCode'])"
      ]
    },
    {
      "cell_type": "code",
      "execution_count": 7,
      "metadata": {
        "id": "p2F2r8QswXjD"
      },
      "outputs": [],
      "source": [
        "if NOTIFY_STATUS: status_notify(\"Task 1 - Prepare Environment has begun! \" + datetime.now().strftime('%a %B %d, %Y %I:%M:%S %p'))"
      ]
    },
    {
      "cell_type": "markdown",
      "metadata": {
        "id": "yk2I_AhawXjD"
      },
      "source": [
        "### 1.c) Load dataset"
      ]
    },
    {
      "cell_type": "code",
      "execution_count": 8,
      "metadata": {
        "colab": {
          "base_uri": "https://localhost:8080/"
        },
        "id": "E7G2_4zawXjE",
        "outputId": "d4ae5198-e243-4118-df06-a2a793d795ac"
      },
      "outputs": [
        {
          "output_type": "stream",
          "name": "stdout",
          "text": [
            "   id  gender   age  hypertension  heart_disease ever_married work_type  \\\n",
            "0   0    Male  28.0             0              0          Yes   Private   \n",
            "1   1    Male  33.0             0              0          Yes   Private   \n",
            "2   2  Female  42.0             0              0          Yes   Private   \n",
            "3   3    Male  56.0             0              0          Yes   Private   \n",
            "4   4  Female  24.0             0              0           No   Private   \n",
            "\n",
            "  Residence_type  avg_glucose_level   bmi   smoking_status  stroke  \n",
            "0          Urban              79.53  31.1     never smoked       0  \n",
            "1          Rural              78.44  23.9  formerly smoked       0  \n",
            "2          Rural             103.00  40.3          Unknown       0  \n",
            "3          Urban              64.87  28.8     never smoked       0  \n",
            "4          Rural              73.36  28.8     never smoked       0  \n"
          ]
        }
      ],
      "source": [
        "df_dataset_import = pd.read_csv(TRAIN_DATASET)\n",
        "\n",
        "# Take a peek at the dataframe after import\n",
        "print(df_dataset_import.head())"
      ]
    },
    {
      "cell_type": "code",
      "execution_count": 9,
      "metadata": {
        "colab": {
          "base_uri": "https://localhost:8080/"
        },
        "id": "3dl-LDdfwXjE",
        "outputId": "fe8ca7cc-9df3-4c33-ffc4-7a4cd2ab7c17"
      },
      "outputs": [
        {
          "output_type": "stream",
          "name": "stdout",
          "text": [
            "<class 'pandas.core.frame.DataFrame'>\n",
            "RangeIndex: 15304 entries, 0 to 15303\n",
            "Data columns (total 12 columns):\n",
            " #   Column             Non-Null Count  Dtype  \n",
            "---  ------             --------------  -----  \n",
            " 0   id                 15304 non-null  int64  \n",
            " 1   gender             15304 non-null  object \n",
            " 2   age                15304 non-null  float64\n",
            " 3   hypertension       15304 non-null  int64  \n",
            " 4   heart_disease      15304 non-null  int64  \n",
            " 5   ever_married       15304 non-null  object \n",
            " 6   work_type          15304 non-null  object \n",
            " 7   Residence_type     15304 non-null  object \n",
            " 8   avg_glucose_level  15304 non-null  float64\n",
            " 9   bmi                15304 non-null  float64\n",
            " 10  smoking_status     15304 non-null  object \n",
            " 11  stroke             15304 non-null  int64  \n",
            "dtypes: float64(3), int64(4), object(5)\n",
            "memory usage: 1.4+ MB\n"
          ]
        }
      ],
      "source": [
        "df_dataset_import.info(verbose=True)"
      ]
    },
    {
      "cell_type": "code",
      "execution_count": 10,
      "metadata": {
        "colab": {
          "base_uri": "https://localhost:8080/"
        },
        "id": "3eB_rvlwwXjF",
        "outputId": "b45af709-7f15-4f39-f811-8b209771a26a"
      },
      "outputs": [
        {
          "output_type": "stream",
          "name": "stdout",
          "text": [
            "                 id           age  hypertension  heart_disease  \\\n",
            "count  15304.000000  15304.000000  15304.000000   15304.000000   \n",
            "mean    7651.500000     41.417708      0.049726       0.023327   \n",
            "std     4418.028595     21.444673      0.217384       0.150946   \n",
            "min        0.000000      0.080000      0.000000       0.000000   \n",
            "25%     3825.750000     26.000000      0.000000       0.000000   \n",
            "50%     7651.500000     43.000000      0.000000       0.000000   \n",
            "75%    11477.250000     57.000000      0.000000       0.000000   \n",
            "max    15303.000000     82.000000      1.000000       1.000000   \n",
            "\n",
            "       avg_glucose_level           bmi        stroke  \n",
            "count       15304.000000  15304.000000  15304.000000  \n",
            "mean           89.039853     28.112721      0.041296  \n",
            "std            25.476102      6.722315      0.198981  \n",
            "min            55.220000     10.300000      0.000000  \n",
            "25%            74.900000     23.500000      0.000000  \n",
            "50%            85.120000     27.600000      0.000000  \n",
            "75%            96.980000     32.000000      0.000000  \n",
            "max           267.600000     80.100000      1.000000  \n"
          ]
        }
      ],
      "source": [
        "print(df_dataset_import.describe())"
      ]
    },
    {
      "cell_type": "code",
      "execution_count": 11,
      "metadata": {
        "colab": {
          "base_uri": "https://localhost:8080/"
        },
        "id": "SRyVb81UwXjF",
        "outputId": "5a0db455-6b06-4abd-d5b3-6067e940c615"
      },
      "outputs": [
        {
          "output_type": "stream",
          "name": "stdout",
          "text": [
            "id                   0\n",
            "gender               0\n",
            "age                  0\n",
            "hypertension         0\n",
            "heart_disease        0\n",
            "ever_married         0\n",
            "work_type            0\n",
            "Residence_type       0\n",
            "avg_glucose_level    0\n",
            "bmi                  0\n",
            "smoking_status       0\n",
            "stroke               0\n",
            "dtype: int64\n",
            "Total number of NaN in the dataframe:  0\n"
          ]
        }
      ],
      "source": [
        "print(df_dataset_import.isnull().sum())\n",
        "print('Total number of NaN in the dataframe: ', df_dataset_import.isnull().sum().sum())"
      ]
    },
    {
      "cell_type": "code",
      "execution_count": 12,
      "metadata": {
        "id": "CtNFHw98VecL",
        "colab": {
          "base_uri": "https://localhost:8080/"
        },
        "outputId": "074b04e0-ad75-4ea0-ff45-16a6b9e1c90c"
      },
      "outputs": [
        {
          "output_type": "stream",
          "name": "stdout",
          "text": [
            "stroke\n",
            "0    14672\n",
            "1      632\n",
            "dtype: int64\n"
          ]
        }
      ],
      "source": [
        "# Get grouping size for the target variable\n",
        "print(df_dataset_import.groupby(ORIGINAL_LABEL).size())"
      ]
    },
    {
      "cell_type": "markdown",
      "metadata": {
        "id": "wfaoKiSdwXjG"
      },
      "source": [
        "### 1.d) Data Cleaning"
      ]
    },
    {
      "cell_type": "code",
      "source": [
        "# Fetch the original dataset and use it to supplement the training\n",
        "df_dataset_original = pd.read_csv(ORIGINAL_DATASET)\n",
        "df_dataset_original['is_synthetic'] = 0\n",
        "\n",
        "# Take a peek at the dataframe after import\n",
        "print(df_dataset_original.head())"
      ],
      "metadata": {
        "id": "SMw-1jiGx3PX",
        "colab": {
          "base_uri": "https://localhost:8080/"
        },
        "outputId": "5eac258a-41d9-4178-b66e-15807632da30"
      },
      "execution_count": 13,
      "outputs": [
        {
          "output_type": "stream",
          "name": "stdout",
          "text": [
            "      id  gender   age  hypertension  heart_disease ever_married  \\\n",
            "0   9046    Male  67.0             0              1          Yes   \n",
            "1  51676  Female  61.0             0              0          Yes   \n",
            "2  31112    Male  80.0             0              1          Yes   \n",
            "3  60182  Female  49.0             0              0          Yes   \n",
            "4   1665  Female  79.0             1              0          Yes   \n",
            "\n",
            "       work_type Residence_type  avg_glucose_level   bmi   smoking_status  \\\n",
            "0        Private          Urban             228.69  36.6  formerly smoked   \n",
            "1  Self-employed          Rural             202.21   NaN     never smoked   \n",
            "2        Private          Rural             105.92  32.5     never smoked   \n",
            "3        Private          Urban             171.23  34.4           smokes   \n",
            "4  Self-employed          Rural             174.12  24.0     never smoked   \n",
            "\n",
            "   stroke  is_synthetic  \n",
            "0       1             0  \n",
            "1       1             0  \n",
            "2       1             0  \n",
            "3       1             0  \n",
            "4       1             0  \n"
          ]
        }
      ]
    },
    {
      "cell_type": "code",
      "source": [
        "df_dataset_original.info(verbose=True)"
      ],
      "metadata": {
        "colab": {
          "base_uri": "https://localhost:8080/"
        },
        "id": "znXC6xPeX_pD",
        "outputId": "84712ce1-d934-49d3-dc0f-208a3e9c9db8"
      },
      "execution_count": 14,
      "outputs": [
        {
          "output_type": "stream",
          "name": "stdout",
          "text": [
            "<class 'pandas.core.frame.DataFrame'>\n",
            "RangeIndex: 5110 entries, 0 to 5109\n",
            "Data columns (total 13 columns):\n",
            " #   Column             Non-Null Count  Dtype  \n",
            "---  ------             --------------  -----  \n",
            " 0   id                 5110 non-null   int64  \n",
            " 1   gender             5110 non-null   object \n",
            " 2   age                5110 non-null   float64\n",
            " 3   hypertension       5110 non-null   int64  \n",
            " 4   heart_disease      5110 non-null   int64  \n",
            " 5   ever_married       5110 non-null   object \n",
            " 6   work_type          5110 non-null   object \n",
            " 7   Residence_type     5110 non-null   object \n",
            " 8   avg_glucose_level  5110 non-null   float64\n",
            " 9   bmi                4909 non-null   float64\n",
            " 10  smoking_status     5110 non-null   object \n",
            " 11  stroke             5110 non-null   int64  \n",
            " 12  is_synthetic       5110 non-null   int64  \n",
            "dtypes: float64(3), int64(5), object(5)\n",
            "memory usage: 519.1+ KB\n"
          ]
        }
      ]
    },
    {
      "cell_type": "code",
      "source": [
        "# Combine the original and synthetic datasets into one training dataset\n",
        "df_dataset_import['is_synthetic'] = 1\n",
        "\n",
        "df_dataset_import = pd.concat([df_dataset_import, df_dataset_original],\n",
        "                              ignore_index=True)\n",
        "df_dataset_import.drop(columns=['id'], inplace=True)\n",
        "\n",
        "df_dataset_import.info(verbose=True)"
      ],
      "metadata": {
        "colab": {
          "base_uri": "https://localhost:8080/"
        },
        "id": "PpEnnGzsYIKS",
        "outputId": "9c24c38c-1ac5-4306-b249-1372724233f4"
      },
      "execution_count": 15,
      "outputs": [
        {
          "output_type": "stream",
          "name": "stdout",
          "text": [
            "<class 'pandas.core.frame.DataFrame'>\n",
            "RangeIndex: 20414 entries, 0 to 20413\n",
            "Data columns (total 12 columns):\n",
            " #   Column             Non-Null Count  Dtype  \n",
            "---  ------             --------------  -----  \n",
            " 0   gender             20414 non-null  object \n",
            " 1   age                20414 non-null  float64\n",
            " 2   hypertension       20414 non-null  int64  \n",
            " 3   heart_disease      20414 non-null  int64  \n",
            " 4   ever_married       20414 non-null  object \n",
            " 5   work_type          20414 non-null  object \n",
            " 6   Residence_type     20414 non-null  object \n",
            " 7   avg_glucose_level  20414 non-null  float64\n",
            " 8   bmi                20213 non-null  float64\n",
            " 9   smoking_status     20414 non-null  object \n",
            " 10  stroke             20414 non-null  int64  \n",
            " 11  is_synthetic       20414 non-null  int64  \n",
            "dtypes: float64(3), int64(4), object(5)\n",
            "memory usage: 1.9+ MB\n"
          ]
        }
      ]
    },
    {
      "cell_type": "code",
      "source": [
        "def clean_gender(target_col):\n",
        "    # print(target_col)\n",
        "    if target_col == 'Other':\n",
        "        return 'Male'\n",
        "    else:\n",
        "        return target_col\n",
        "\n",
        "def clean_smoking_status(target_col):\n",
        "    # print(target_col)\n",
        "    if target_col == 'Unknown':\n",
        "        return 'never smoked'\n",
        "    else:\n",
        "        return target_col"
      ],
      "metadata": {
        "id": "Td08nONcYIBj"
      },
      "execution_count": 16,
      "outputs": []
    },
    {
      "cell_type": "code",
      "execution_count": 17,
      "metadata": {
        "colab": {
          "base_uri": "https://localhost:8080/"
        },
        "id": "KujRTYu5wXjG",
        "outputId": "b627ea13-7185-436f-964b-12d2dfa1fee7"
      },
      "outputs": [
        {
          "output_type": "stream",
          "name": "stdout",
          "text": [
            "   gender   age  hypertension  heart_disease ever_married work_type  \\\n",
            "0    Male  28.0             0              0          Yes   Private   \n",
            "1    Male  33.0             0              0          Yes   Private   \n",
            "2  Female  42.0             0              0          Yes   Private   \n",
            "3    Male  56.0             0              0          Yes   Private   \n",
            "4  Female  24.0             0              0           No   Private   \n",
            "\n",
            "  Residence_type  avg_glucose_level   bmi   smoking_status  target  \\\n",
            "0          Urban              79.53  31.1     never smoked       0   \n",
            "1          Rural              78.44  23.9  formerly smoked       0   \n",
            "2          Rural             103.00  40.3     never smoked       0   \n",
            "3          Urban              64.87  28.8     never smoked       0   \n",
            "4          Rural              73.36  28.8     never smoked       0   \n",
            "\n",
            "   is_synthetic  \n",
            "0             1  \n",
            "1             1  \n",
            "2             1  \n",
            "3             1  \n",
            "4             1  \n",
            "       gender   age  hypertension  heart_disease ever_married      work_type  \\\n",
            "20409  Female  80.0             1              0          Yes        Private   \n",
            "20410  Female  81.0             0              0          Yes  Self-employed   \n",
            "20411  Female  35.0             0              0          Yes  Self-employed   \n",
            "20412    Male  51.0             0              0          Yes        Private   \n",
            "20413  Female  44.0             0              0          Yes       Govt_job   \n",
            "\n",
            "      Residence_type  avg_glucose_level   bmi   smoking_status  target  \\\n",
            "20409          Urban              83.75  27.7     never smoked       0   \n",
            "20410          Urban             125.20  40.0     never smoked       0   \n",
            "20411          Rural              82.99  30.6     never smoked       0   \n",
            "20412          Rural             166.29  25.6  formerly smoked       0   \n",
            "20413          Urban              85.28  26.2     never smoked       0   \n",
            "\n",
            "       is_synthetic  \n",
            "20409             0  \n",
            "20410             0  \n",
            "20411             0  \n",
            "20412             0  \n",
            "20413             0  \n"
          ]
        }
      ],
      "source": [
        "# Standardize the class column to the name of targetVar if required\n",
        "df_dataset_import = df_dataset_import.rename(columns={ORIGINAL_LABEL: CLASS_COLUMN})\n",
        "\n",
        "# Fill in some missing fields with the most common values\n",
        "df_dataset_import['gender'] = df_dataset_import['gender'].apply(clean_gender)\n",
        "df_dataset_import['smoking_status'] = df_dataset_import['smoking_status'].apply(clean_smoking_status)\n",
        "median_bmi = df_dataset_import['bmi'].median()\n",
        "df_dataset_import['bmi'].fillna(value=median_bmi, inplace=True)\n",
        "\n",
        "# Take a peek at the dataframe after cleaning\n",
        "print(df_dataset_import.head())\n",
        "print(df_dataset_import.tail())"
      ]
    },
    {
      "cell_type": "code",
      "execution_count": 18,
      "metadata": {
        "colab": {
          "base_uri": "https://localhost:8080/"
        },
        "id": "ZprOE1B0wXjH",
        "outputId": "43f537d8-a618-446c-90c4-c9e998370201"
      },
      "outputs": [
        {
          "output_type": "stream",
          "name": "stdout",
          "text": [
            "<class 'pandas.core.frame.DataFrame'>\n",
            "RangeIndex: 20414 entries, 0 to 20413\n",
            "Data columns (total 12 columns):\n",
            " #   Column             Non-Null Count  Dtype  \n",
            "---  ------             --------------  -----  \n",
            " 0   gender             20414 non-null  object \n",
            " 1   age                20414 non-null  float64\n",
            " 2   hypertension       20414 non-null  int64  \n",
            " 3   heart_disease      20414 non-null  int64  \n",
            " 4   ever_married       20414 non-null  object \n",
            " 5   work_type          20414 non-null  object \n",
            " 6   Residence_type     20414 non-null  object \n",
            " 7   avg_glucose_level  20414 non-null  float64\n",
            " 8   bmi                20414 non-null  float64\n",
            " 9   smoking_status     20414 non-null  object \n",
            " 10  target             20414 non-null  int64  \n",
            " 11  is_synthetic       20414 non-null  int64  \n",
            "dtypes: float64(3), int64(4), object(5)\n",
            "memory usage: 1.9+ MB\n"
          ]
        }
      ],
      "source": [
        "df_dataset_import.info(verbose=True)"
      ]
    },
    {
      "cell_type": "code",
      "execution_count": 19,
      "metadata": {
        "colab": {
          "base_uri": "https://localhost:8080/"
        },
        "id": "QgyI5VZ1wXjH",
        "outputId": "6dedd2f3-742c-4074-86ec-1ec644a9be7f"
      },
      "outputs": [
        {
          "output_type": "stream",
          "name": "stdout",
          "text": [
            "                age  hypertension  heart_disease  avg_glucose_level  \\\n",
            "count  20414.000000  20414.000000   20414.000000       20414.000000   \n",
            "mean      41.870510      0.061673       0.031008          93.322256   \n",
            "std       21.756482      0.240567       0.173344          32.476351   \n",
            "min        0.080000      0.000000       0.000000          55.120000   \n",
            "25%       25.000000      0.000000       0.000000          75.220000   \n",
            "50%       43.000000      0.000000       0.000000          86.250000   \n",
            "75%       58.000000      0.000000       0.000000          99.730000   \n",
            "max       82.000000      1.000000       1.000000         271.740000   \n",
            "\n",
            "                bmi        target  is_synthetic  \n",
            "count  20414.000000  20414.000000  20414.000000  \n",
            "mean      28.296350      0.043157      0.749682  \n",
            "std        6.987362      0.203215      0.433207  \n",
            "min       10.300000      0.000000      0.000000  \n",
            "25%       23.500000      0.000000      0.000000  \n",
            "50%       27.700000      0.000000      1.000000  \n",
            "75%       32.200000      0.000000      1.000000  \n",
            "max       97.600000      1.000000      1.000000  \n"
          ]
        }
      ],
      "source": [
        "print(df_dataset_import.describe())"
      ]
    },
    {
      "cell_type": "code",
      "execution_count": 20,
      "metadata": {
        "colab": {
          "base_uri": "https://localhost:8080/"
        },
        "id": "wz9iKsUswXjI",
        "outputId": "a5b022b6-982c-4393-9483-89ee9ec31259"
      },
      "outputs": [
        {
          "output_type": "stream",
          "name": "stdout",
          "text": [
            "gender               0\n",
            "age                  0\n",
            "hypertension         0\n",
            "heart_disease        0\n",
            "ever_married         0\n",
            "work_type            0\n",
            "Residence_type       0\n",
            "avg_glucose_level    0\n",
            "bmi                  0\n",
            "smoking_status       0\n",
            "target               0\n",
            "is_synthetic         0\n",
            "dtype: int64\n",
            "Total number of NaN in the dataframe:  0\n"
          ]
        }
      ],
      "source": [
        "print(df_dataset_import.isnull().sum())\n",
        "print('Total number of NaN in the dataframe: ', df_dataset_import.isnull().sum().sum())"
      ]
    },
    {
      "cell_type": "code",
      "execution_count": 21,
      "metadata": {
        "id": "CkkqRL-cVecN",
        "outputId": "a5449e38-a8c6-45d3-e62b-5eecc328d3cd",
        "colab": {
          "base_uri": "https://localhost:8080/"
        }
      },
      "outputs": [
        {
          "output_type": "stream",
          "name": "stdout",
          "text": [
            "target\n",
            "0    19533\n",
            "1      881\n",
            "dtype: int64\n"
          ]
        }
      ],
      "source": [
        "# Get grouping size for the target variable\n",
        "print(df_dataset_import.groupby(CLASS_COLUMN).size())"
      ]
    },
    {
      "cell_type": "markdown",
      "metadata": {
        "id": "0ZBQ1s2bwXjI"
      },
      "source": [
        "### 1.e) Splitting Data into Sets"
      ]
    },
    {
      "cell_type": "code",
      "execution_count": 22,
      "metadata": {
        "colab": {
          "base_uri": "https://localhost:8080/"
        },
        "id": "QNydPt1uwXjI",
        "outputId": "7d001ac8-9e10-4a8a-cd52-f1254baca91e"
      },
      "outputs": [
        {
          "output_type": "stream",
          "name": "stdout",
          "text": [
            "df_dataset_import.shape: (20414, 12) df_features_train.shape: (20414, 11) df_target_train.shape: (20414,)\n"
          ]
        }
      ],
      "source": [
        "# Use variable total_column_count to hold the number of columns in the dataframe\n",
        "total_column_count = len(df_dataset_import.columns)\n",
        "\n",
        "# Set up variable total_feature_count for the total number of attribute columns\n",
        "total_feature_count = total_column_count-1\n",
        "\n",
        "# We create attribute-only and target-only datasets (df_features_train and df_target_train)\n",
        "df_target_train = df_dataset_import['target']\n",
        "df_features_train = df_dataset_import.drop(['target'], axis=1)\n",
        "\n",
        "print(\"df_dataset_import.shape: {} df_features_train.shape: {} df_target_train.shape: {}\".format(df_dataset_import.shape, df_features_train.shape, df_target_train.shape))"
      ]
    },
    {
      "cell_type": "markdown",
      "metadata": {
        "id": "VKU_2CL74vh-"
      },
      "source": [
        "### 1.f) Set up the parameters for data visualization"
      ]
    },
    {
      "cell_type": "code",
      "execution_count": 23,
      "metadata": {
        "id": "7D9OChW94yP0"
      },
      "outputs": [],
      "source": [
        "# Set up the number of row and columns for visualization display. display_rows * display_columns should be >= total_feature_count\n",
        "display_columns = 4\n",
        "if total_feature_count % display_columns == 0 :\n",
        "    display_rows = total_feature_count // display_columns\n",
        "else :\n",
        "    display_rows = (total_feature_count // display_columns) + 1\n",
        "    \n",
        "# Set figure width to display the data visualization plots\n",
        "fig_size = plt.rcParams[\"figure.figsize\"]\n",
        "fig_size[0] = display_columns * 4\n",
        "fig_size[1] = display_rows * 4\n",
        "plt.rcParams[\"figure.figsize\"] = fig_size"
      ]
    },
    {
      "cell_type": "code",
      "execution_count": 24,
      "metadata": {
        "id": "YLRgAYnMwXjJ"
      },
      "outputs": [],
      "source": [
        "if NOTIFY_STATUS: status_notify(\"Task 1 - Prepare Environment completed! \"+datetime.now().strftime('%a %B %d, %Y %I:%M:%S %p'))"
      ]
    },
    {
      "cell_type": "markdown",
      "metadata": {
        "id": "ZivQJCZowXjK"
      },
      "source": [
        "## Task 2 - Summarize and Visualize Data"
      ]
    },
    {
      "cell_type": "code",
      "execution_count": 25,
      "metadata": {
        "id": "F5H90pxZwXjK"
      },
      "outputs": [],
      "source": [
        "if NOTIFY_STATUS: status_notify(\"Task 2 - Summarize and Visualize Data has begun! \"+datetime.now().strftime('%a %B %d, %Y %I:%M:%S %p'))"
      ]
    },
    {
      "cell_type": "code",
      "execution_count": 26,
      "metadata": {
        "colab": {
          "base_uri": "https://localhost:8080/",
          "height": 473
        },
        "id": "OBhr7SGRwXjK",
        "outputId": "57cb5d0a-1319-43d6-84af-1277d35b2f46",
        "tags": []
      },
      "outputs": [
        {
          "output_type": "display_data",
          "data": {
            "text/plain": [
              "<Figure size 1152x864 with 12 Axes>"
            ],
            "image/png": "[encoded data removed]"
          },
          "metadata": {
            "needs_background": "light"
          }
        }
      ],
      "source": [
        "# Histograms for each attribute\n",
        "df_features_train.plot(kind='hist', subplots=True, layout=(display_rows, display_columns))\n",
        "plt.show()"
      ]
    },
    {
      "cell_type": "code",
      "execution_count": 27,
      "metadata": {
        "colab": {
          "base_uri": "https://localhost:8080/",
          "height": 471
        },
        "id": "NHtCofAgwXjL",
        "outputId": "d2197d53-fd40-44af-e6f4-5e80f7dc0247"
      },
      "outputs": [
        {
          "output_type": "display_data",
          "data": {
            "text/plain": [
              "<Figure size 1152x864 with 12 Axes>"
            ],
            "image/png": "[encoded data removed]"
          },
          "metadata": {
            "needs_background": "light"
          }
        }
      ],
      "source": [
        "# Box and Whisker plot for each attribute\n",
        "df_features_train.plot(kind='box', subplots=True, layout=(display_rows, display_columns))\n",
        "plt.show()"
      ]
    },
    {
      "cell_type": "code",
      "execution_count": 28,
      "metadata": {
        "id": "HXUm5_nkwXjL",
        "colab": {
          "base_uri": "https://localhost:8080/",
          "height": 1000
        },
        "outputId": "00baf685-cf2d-47c2-a642-ece8ff1bc62f"
      },
      "outputs": [
        {
          "output_type": "display_data",
          "data": {
            "text/plain": [
              "<Figure size 1440x1440 with 2 Axes>"
            ],
            "image/png": "[encoded data removed]"
          },
          "metadata": {
            "needs_background": "light"
          }
        }
      ],
      "source": [
        "# Correlation matrix\n",
        "fig = plt.figure(figsize=(20, 20))\n",
        "correlations = df_features_train.corr(method='pearson')\n",
        "sns.heatmap(correlations, annot=True, cmap=plt.cm.PuBu)\n",
        "plt.show()"
      ]
    },
    {
      "cell_type": "code",
      "execution_count": 29,
      "metadata": {
        "id": "yHcRjiadwXjL"
      },
      "outputs": [],
      "source": [
        "if NOTIFY_STATUS: status_notify(\"Task 2 - Summarize and Visualize Data completed! \"+datetime.now().strftime('%a %B %d, %Y %I:%M:%S %p'))"
      ]
    },
    {
      "cell_type": "markdown",
      "metadata": {
        "id": "-8rH-HXuwXjM"
      },
      "source": [
        "## Task 3 - Train and Evaluate Models"
      ]
    },
    {
      "cell_type": "code",
      "execution_count": 30,
      "metadata": {
        "id": "UnD36SUzwXjM"
      },
      "outputs": [],
      "source": [
        "if NOTIFY_STATUS: status_notify(\"Task 3 - Train and Evaluate Models has begun! \"+datetime.now().strftime('%a %B %d, %Y %I:%M:%S %p'))"
      ]
    },
    {
      "cell_type": "markdown",
      "metadata": {
        "id": "C5MXnEfq0-PW"
      },
      "source": [
        "### 3.a) Splitting Data into Training and Validation Sets"
      ]
    },
    {
      "cell_type": "code",
      "execution_count": 31,
      "metadata": {
        "id": "QY2ulFc8wXjR"
      },
      "outputs": [],
      "source": [
        "# Finalize the training and validation datasets for the modeling activities\n",
        "tfds_train = tfdf.keras.pd_dataframe_to_tf_dataset(df_dataset_import, label='target', task = tfdf.keras.Task.CLASSIFICATION)"
      ]
    },
    {
      "cell_type": "markdown",
      "metadata": {
        "id": "2_pts_ZN1J3g"
      },
      "source": [
        "### 3.b) Train and Evaluate the Random Forest Model"
      ]
    },
    {
      "cell_type": "code",
      "source": [
        "# Initialize the default model and get a baseline result\n",
        "start_time_module = datetime.now()\n",
        "tf.keras.utils.set_random_seed(RNG_SEED)\n",
        "RF_model = tfdf.keras.RandomForestModel(task = tfdf.keras.Task.CLASSIFICATION)\n",
        "RF_model.compile(metrics=DEFAULT_METRICS)\n",
        "RF_model.fit(x=tfds_train)\n",
        "print('Total time for model fitting:', (datetime.now() - start_time_module))"
      ],
      "metadata": {
        "id": "KsBHmrpAyuCV",
        "colab": {
          "base_uri": "https://localhost:8080/"
        },
        "outputId": "80e7b8f9-8ab1-4143-e10f-db4f816a203b"
      },
      "execution_count": 32,
      "outputs": [
        {
          "output_type": "stream",
          "name": "stdout",
          "text": [
            "Use /tmp/tmpzmd3ptgo as temporary training directory\n",
            "Reading training dataset...\n"
          ]
        },
        {
          "output_type": "stream",
          "name": "stderr",
          "text": [
            "WARNING:tensorflow:From /usr/local/lib/python3.8/dist-packages/tensorflow/python/autograph/pyct/static_analysis/liveness.py:83: Analyzer.lamba_check (from tensorflow.python.autograph.pyct.static_analysis.liveness) is deprecated and will be removed after 2023-09-23.\n",
            "Instructions for updating:\n",
            "Lambda fuctions will be no more assumed to be used in the statement where they are used, or at least in the same block. https://github.com/tensorflow/tensorflow/issues/56089\n"
          ]
        },
        {
          "output_type": "stream",
          "name": "stdout",
          "text": [
            "Training dataset read in 0:00:10.093693. Found 20414 examples.\n",
            "Training model...\n",
            "Model trained in 0:00:12.226260\n",
            "Compiling model...\n"
          ]
        },
        {
          "output_type": "stream",
          "name": "stderr",
          "text": [
            "WARNING:tensorflow:AutoGraph could not transform <function simple_ml_inference_op_with_handle at 0x7f31b450be50> and will run it as-is.\n",
            "Please report this to the TensorFlow team. When filing the bug, set the verbosity to 10 (on Linux, `export AUTOGRAPH_VERBOSITY=10`) and attach the full output.\n",
            "Cause: could not get source code\n",
            "To silence this warning, decorate the function with @tf.autograph.experimental.do_not_convert\n"
          ]
        },
        {
          "output_type": "stream",
          "name": "stdout",
          "text": [
            "WARNING: AutoGraph could not transform <function simple_ml_inference_op_with_handle at 0x7f31b450be50> and will run it as-is.\n",
            "Please report this to the TensorFlow team. When filing the bug, set the verbosity to 10 (on Linux, `export AUTOGRAPH_VERBOSITY=10`) and attach the full output.\n",
            "Cause: could not get source code\n",
            "To silence this warning, decorate the function with @tf.autograph.experimental.do_not_convert\n",
            "Model compiled.\n",
            "Total time for model fitting: 0:00:30.464446\n"
          ]
        }
      ]
    },
    {
      "cell_type": "code",
      "source": [
        "RF_model.evaluate(tfds_train)"
      ],
      "metadata": {
        "colab": {
          "base_uri": "https://localhost:8080/"
        },
        "id": "DAKxsyPKd4fL",
        "outputId": "40436b72-cbed-4dd6-b7d9-40c119e8570b"
      },
      "execution_count": 33,
      "outputs": [
        {
          "output_type": "stream",
          "name": "stdout",
          "text": [
            "21/21 [==============================] - 1s 49ms/step - loss: 0.0000e+00 - auc: 0.9914\n"
          ]
        },
        {
          "output_type": "execute_result",
          "data": {
            "text/plain": [
              "[0.0, 0.9914087653160095]"
            ]
          },
          "metadata": {},
          "execution_count": 33
        }
      ]
    },
    {
      "cell_type": "code",
      "source": [
        "RF_model.summary()"
      ],
      "metadata": {
        "colab": {
          "base_uri": "https://localhost:8080/"
        },
        "id": "BKXY-Mo_ivDo",
        "outputId": "d4229efc-3c71-4a2b-d043-21eac439aa9e"
      },
      "execution_count": 34,
      "outputs": [
        {
          "output_type": "stream",
          "name": "stdout",
          "text": [
            "Model: \"random_forest_model\"\n",
            "_________________________________________________________________\n",
            " Layer (type)                Output Shape              Param #   \n",
            "=================================================================\n",
            "=================================================================\n",
            "Total params: 1\n",
            "Trainable params: 0\n",
            "Non-trainable params: 1\n",
            "_________________________________________________________________\n",
            "Type: \"RANDOM_FOREST\"\n",
            "Task: CLASSIFICATION\n",
            "Label: \"__LABEL\"\n",
            "\n",
            "Input Features (11):\n",
            "\tResidence_type\n",
            "\tage\n",
            "\tavg_glucose_level\n",
            "\tbmi\n",
            "\tever_married\n",
            "\tgender\n",
            "\theart_disease\n",
            "\thypertension\n",
            "\tis_synthetic\n",
            "\tsmoking_status\n",
            "\twork_type\n",
            "\n",
            "No weights\n",
            "\n",
            "Variable Importance: MEAN_MIN_DEPTH:\n",
            "    1.           \"__LABEL\" 11.440291 ################\n",
            "    2.    \"Residence_type\" 10.690514 ##############\n",
            "    3.            \"gender\" 10.686519 ##############\n",
            "    4.      \"is_synthetic\"  9.551275 #############\n",
            "    5.     \"heart_disease\"  8.620983 ###########\n",
            "    6.    \"smoking_status\"  8.564972 ###########\n",
            "    7.         \"work_type\"  8.036176 ##########\n",
            "    8.      \"hypertension\"  7.271919 #########\n",
            "    9.      \"ever_married\"  6.511355 ########\n",
            "   10.               \"bmi\"  5.321434 ######\n",
            "   11. \"avg_glucose_level\"  2.625376 ##\n",
            "   12.               \"age\"  1.093829 \n",
            "\n",
            "Variable Importance: NUM_AS_ROOT:\n",
            "    1.               \"age\" 140.000000 ################\n",
            "    2.      \"ever_married\" 65.000000 #######\n",
            "    3. \"avg_glucose_level\" 62.000000 ######\n",
            "    4.      \"hypertension\" 18.000000 #\n",
            "    5.         \"work_type\"  8.000000 \n",
            "    6.     \"heart_disease\"  4.000000 \n",
            "    7.               \"bmi\"  3.000000 \n",
            "\n",
            "Variable Importance: NUM_NODES:\n",
            "    1. \"avg_glucose_level\" 41201.000000 ################\n",
            "    2.               \"bmi\" 36071.000000 #############\n",
            "    3.               \"age\" 22479.000000 ########\n",
            "    4.    \"smoking_status\" 7481.000000 ##\n",
            "    5.         \"work_type\" 6687.000000 ##\n",
            "    6.    \"Residence_type\" 5430.000000 #\n",
            "    7.            \"gender\" 5002.000000 #\n",
            "    8.      \"is_synthetic\" 4138.000000 #\n",
            "    9.      \"hypertension\" 2310.000000 \n",
            "   10.     \"heart_disease\" 1973.000000 \n",
            "   11.      \"ever_married\" 1204.000000 \n",
            "\n",
            "Variable Importance: SUM_SCORE:\n",
            "    1.               \"age\" 286172.467410 ################\n",
            "    2. \"avg_glucose_level\" 172486.247100 #########\n",
            "    3.               \"bmi\" 131529.733319 #######\n",
            "    4.         \"work_type\" 24557.506539 \n",
            "    5.    \"smoking_status\" 24151.779106 \n",
            "    6.      \"ever_married\" 19987.526771 \n",
            "    7.    \"Residence_type\" 15536.065882 \n",
            "    8.      \"is_synthetic\" 14971.892137 \n",
            "    9.      \"hypertension\" 14605.968345 \n",
            "   10.            \"gender\" 14031.501200 \n",
            "   11.     \"heart_disease\" 9554.583540 \n",
            "\n",
            "\n",
            "\n",
            "Winner takes all: true\n",
            "Out-of-bag evaluation: accuracy:0.956207 logloss:0.284776\n",
            "Number of trees: 300\n",
            "Total number of nodes: 268252\n",
            "\n",
            "Number of nodes by tree:\n",
            "Count: 300 Average: 894.173 StdDev: 63.8069\n",
            "Min: 673 Max: 1059 Ignored: 0\n",
            "----------------------------------------------\n",
            "[  673,  692)  2   0.67%   0.67%\n",
            "[  692,  711)  0   0.00%   0.67%\n",
            "[  711,  731)  3   1.00%   1.67% #\n",
            "[  731,  750)  1   0.33%   2.00%\n",
            "[  750,  769)  4   1.33%   3.33% #\n",
            "[  769,  789)  5   1.67%   5.00% #\n",
            "[  789,  808) 12   4.00%   9.00% ###\n",
            "[  808,  827) 16   5.33%  14.33% ####\n",
            "[  827,  847) 23   7.67%  22.00% #####\n",
            "[  847,  866) 28   9.33%  31.33% #######\n",
            "[  866,  885) 29   9.67%  41.00% #######\n",
            "[  885,  905) 36  12.00%  53.00% #########\n",
            "[  905,  924) 42  14.00%  67.00% ##########\n",
            "[  924,  943) 29   9.67%  76.67% #######\n",
            "[  943,  963) 24   8.00%  84.67% ######\n",
            "[  963,  982) 27   9.00%  93.67% ######\n",
            "[  982, 1001) 11   3.67%  97.33% ###\n",
            "[ 1001, 1021)  4   1.33%  98.67% #\n",
            "[ 1021, 1040)  2   0.67%  99.33%\n",
            "[ 1040, 1059]  2   0.67% 100.00%\n",
            "\n",
            "Depth by leafs:\n",
            "Count: 134276 Average: 11.4394 StdDev: 2.67595\n",
            "Min: 1 Max: 15 Ignored: 0\n",
            "----------------------------------------------\n",
            "[  1,  2)     1   0.00%   0.00%\n",
            "[  2,  3)    12   0.01%   0.01%\n",
            "[  3,  4)   152   0.11%   0.12%\n",
            "[  4,  5)   596   0.44%   0.57%\n",
            "[  5,  6)  1636   1.22%   1.79% #\n",
            "[  6,  7)  3420   2.55%   4.33% ##\n",
            "[  7,  8)  5990   4.46%   8.79% ###\n",
            "[  8,  9)  8953   6.67%  15.46% ####\n",
            "[  9, 10) 12060   8.98%  24.44% ######\n",
            "[ 10, 11) 14906  11.10%  35.54% #######\n",
            "[ 11, 12) 16621  12.38%  47.92% ########\n",
            "[ 12, 13) 16767  12.49%  60.41% ########\n",
            "[ 13, 14) 16571  12.34%  72.75% ########\n",
            "[ 14, 15) 15005  11.17%  83.92% #######\n",
            "[ 15, 15] 21586  16.08% 100.00% ##########\n",
            "\n",
            "Number of training obs by leaf:\n",
            "Count: 134276 Average: 45.609 StdDev: 215.931\n",
            "Min: 5 Max: 6378 Ignored: 0\n",
            "----------------------------------------------\n",
            "[    5,  323) 131280  97.77%  97.77% ##########\n",
            "[  323,  642)   1493   1.11%  98.88%\n",
            "[  642,  961)    528   0.39%  99.27%\n",
            "[  961, 1279)    316   0.24%  99.51%\n",
            "[ 1279, 1598)    149   0.11%  99.62%\n",
            "[ 1598, 1917)    119   0.09%  99.71%\n",
            "[ 1917, 2235)     72   0.05%  99.76%\n",
            "[ 2235, 2554)     38   0.03%  99.79%\n",
            "[ 2554, 2873)     55   0.04%  99.83%\n",
            "[ 2873, 3192)     49   0.04%  99.87%\n",
            "[ 3192, 3510)     44   0.03%  99.90%\n",
            "[ 3510, 3829)     30   0.02%  99.92%\n",
            "[ 3829, 4148)     18   0.01%  99.94%\n",
            "[ 4148, 4466)     23   0.02%  99.95%\n",
            "[ 4466, 4785)     27   0.02%  99.97%\n",
            "[ 4785, 5104)      9   0.01%  99.98%\n",
            "[ 5104, 5422)     12   0.01%  99.99%\n",
            "[ 5422, 5741)      8   0.01% 100.00%\n",
            "[ 5741, 6060)      4   0.00% 100.00%\n",
            "[ 6060, 6378]      2   0.00% 100.00%\n",
            "\n",
            "Attribute in nodes:\n",
            "\t41201 : avg_glucose_level [NUMERICAL]\n",
            "\t36071 : bmi [NUMERICAL]\n",
            "\t22479 : age [NUMERICAL]\n",
            "\t7481 : smoking_status [CATEGORICAL]\n",
            "\t6687 : work_type [CATEGORICAL]\n",
            "\t5430 : Residence_type [CATEGORICAL]\n",
            "\t5002 : gender [CATEGORICAL]\n",
            "\t4138 : is_synthetic [NUMERICAL]\n",
            "\t2310 : hypertension [NUMERICAL]\n",
            "\t1973 : heart_disease [NUMERICAL]\n",
            "\t1204 : ever_married [CATEGORICAL]\n",
            "\n",
            "Attribute in nodes with depth <= 0:\n",
            "\t140 : age [NUMERICAL]\n",
            "\t65 : ever_married [CATEGORICAL]\n",
            "\t62 : avg_glucose_level [NUMERICAL]\n",
            "\t18 : hypertension [NUMERICAL]\n",
            "\t8 : work_type [CATEGORICAL]\n",
            "\t4 : heart_disease [NUMERICAL]\n",
            "\t3 : bmi [NUMERICAL]\n",
            "\n",
            "Attribute in nodes with depth <= 1:\n",
            "\t412 : age [NUMERICAL]\n",
            "\t153 : avg_glucose_level [NUMERICAL]\n",
            "\t123 : ever_married [CATEGORICAL]\n",
            "\t70 : hypertension [NUMERICAL]\n",
            "\t55 : bmi [NUMERICAL]\n",
            "\t36 : work_type [CATEGORICAL]\n",
            "\t30 : heart_disease [NUMERICAL]\n",
            "\t14 : is_synthetic [NUMERICAL]\n",
            "\t5 : smoking_status [CATEGORICAL]\n",
            "\t1 : Residence_type [CATEGORICAL]\n",
            "\n",
            "Attribute in nodes with depth <= 2:\n",
            "\t835 : age [NUMERICAL]\n",
            "\t369 : avg_glucose_level [NUMERICAL]\n",
            "\t224 : bmi [NUMERICAL]\n",
            "\t187 : ever_married [CATEGORICAL]\n",
            "\t144 : hypertension [NUMERICAL]\n",
            "\t96 : work_type [CATEGORICAL]\n",
            "\t90 : heart_disease [NUMERICAL]\n",
            "\t72 : is_synthetic [NUMERICAL]\n",
            "\t41 : smoking_status [CATEGORICAL]\n",
            "\t14 : gender [CATEGORICAL]\n",
            "\t13 : Residence_type [CATEGORICAL]\n",
            "\n",
            "Attribute in nodes with depth <= 3:\n",
            "\t1497 : age [NUMERICAL]\n",
            "\t853 : avg_glucose_level [NUMERICAL]\n",
            "\t643 : bmi [NUMERICAL]\n",
            "\t243 : work_type [CATEGORICAL]\n",
            "\t239 : ever_married [CATEGORICAL]\n",
            "\t232 : hypertension [NUMERICAL]\n",
            "\t194 : is_synthetic [NUMERICAL]\n",
            "\t171 : heart_disease [NUMERICAL]\n",
            "\t150 : smoking_status [CATEGORICAL]\n",
            "\t50 : gender [CATEGORICAL]\n",
            "\t33 : Residence_type [CATEGORICAL]\n",
            "\n",
            "Attribute in nodes with depth <= 5:\n",
            "\t3540 : age [NUMERICAL]\n",
            "\t3459 : avg_glucose_level [NUMERICAL]\n",
            "\t2989 : bmi [NUMERICAL]\n",
            "\t888 : work_type [CATEGORICAL]\n",
            "\t777 : smoking_status [CATEGORICAL]\n",
            "\t592 : is_synthetic [NUMERICAL]\n",
            "\t483 : hypertension [NUMERICAL]\n",
            "\t443 : heart_disease [NUMERICAL]\n",
            "\t418 : ever_married [CATEGORICAL]\n",
            "\t310 : gender [CATEGORICAL]\n",
            "\t302 : Residence_type [CATEGORICAL]\n",
            "\n",
            "Condition type in nodes:\n",
            "\t108172 : HigherCondition\n",
            "\t25804 : ContainsBitmapCondition\n",
            "Condition type in nodes with depth <= 0:\n",
            "\t227 : HigherCondition\n",
            "\t73 : ContainsBitmapCondition\n",
            "Condition type in nodes with depth <= 1:\n",
            "\t734 : HigherCondition\n",
            "\t165 : ContainsBitmapCondition\n",
            "Condition type in nodes with depth <= 2:\n",
            "\t1734 : HigherCondition\n",
            "\t351 : ContainsBitmapCondition\n",
            "Condition type in nodes with depth <= 3:\n",
            "\t3590 : HigherCondition\n",
            "\t715 : ContainsBitmapCondition\n",
            "Condition type in nodes with depth <= 5:\n",
            "\t11506 : HigherCondition\n",
            "\t2695 : ContainsBitmapCondition\n",
            "Node format: NOT_SET\n",
            "\n",
            "Training OOB:\n",
            "\ttrees: 1, Out-of-bag evaluation: accuracy:0.941589 logloss:2.10533\n",
            "\ttrees: 11, Out-of-bag evaluation: accuracy:0.953665 logloss:1.10376\n",
            "\ttrees: 21, Out-of-bag evaluation: accuracy:0.955614 logloss:0.814251\n",
            "\ttrees: 31, Out-of-bag evaluation: accuracy:0.955423 logloss:0.711157\n",
            "\ttrees: 41, Out-of-bag evaluation: accuracy:0.956109 logloss:0.633372\n",
            "\ttrees: 51, Out-of-bag evaluation: accuracy:0.955962 logloss:0.565887\n",
            "\ttrees: 61, Out-of-bag evaluation: accuracy:0.955962 logloss:0.530661\n",
            "\ttrees: 71, Out-of-bag evaluation: accuracy:0.955962 logloss:0.49522\n",
            "\ttrees: 81, Out-of-bag evaluation: accuracy:0.956158 logloss:0.471071\n",
            "\ttrees: 91, Out-of-bag evaluation: accuracy:0.956109 logloss:0.449096\n",
            "\ttrees: 101, Out-of-bag evaluation: accuracy:0.956109 logloss:0.438202\n",
            "\ttrees: 111, Out-of-bag evaluation: accuracy:0.956207 logloss:0.422342\n",
            "\ttrees: 121, Out-of-bag evaluation: accuracy:0.956158 logloss:0.411241\n",
            "\ttrees: 131, Out-of-bag evaluation: accuracy:0.956109 logloss:0.393638\n",
            "\ttrees: 141, Out-of-bag evaluation: accuracy:0.956109 logloss:0.384385\n",
            "\ttrees: 151, Out-of-bag evaluation: accuracy:0.956304 logloss:0.371818\n",
            "\ttrees: 161, Out-of-bag evaluation: accuracy:0.956109 logloss:0.357693\n",
            "\ttrees: 171, Out-of-bag evaluation: accuracy:0.956158 logloss:0.352894\n",
            "\ttrees: 181, Out-of-bag evaluation: accuracy:0.956109 logloss:0.340655\n",
            "\ttrees: 191, Out-of-bag evaluation: accuracy:0.95606 logloss:0.335947\n",
            "\ttrees: 201, Out-of-bag evaluation: accuracy:0.956158 logloss:0.317236\n",
            "\ttrees: 211, Out-of-bag evaluation: accuracy:0.956451 logloss:0.314091\n",
            "\ttrees: 221, Out-of-bag evaluation: accuracy:0.956304 logloss:0.312567\n",
            "\ttrees: 231, Out-of-bag evaluation: accuracy:0.956304 logloss:0.303325\n",
            "\ttrees: 241, Out-of-bag evaluation: accuracy:0.956304 logloss:0.300161\n",
            "\ttrees: 251, Out-of-bag evaluation: accuracy:0.956255 logloss:0.296972\n",
            "\ttrees: 261, Out-of-bag evaluation: accuracy:0.956353 logloss:0.293814\n",
            "\ttrees: 271, Out-of-bag evaluation: accuracy:0.9565 logloss:0.289218\n",
            "\ttrees: 281, Out-of-bag evaluation: accuracy:0.956549 logloss:0.286132\n",
            "\ttrees: 291, Out-of-bag evaluation: accuracy:0.956402 logloss:0.286251\n",
            "\ttrees: 300, Out-of-bag evaluation: accuracy:0.956207 logloss:0.284776\n",
            "\n"
          ]
        }
      ]
    },
    {
      "cell_type": "markdown",
      "metadata": {
        "id": "wa3Dfugd1U4P"
      },
      "source": [
        "### 3.c) Train and Evaluate the Decision Trees Model"
      ]
    },
    {
      "cell_type": "code",
      "execution_count": 35,
      "metadata": {
        "id": "H7WX-tIWVecQ",
        "outputId": "f9d1aa24-560f-428d-ccb5-3524bafe65c3",
        "colab": {
          "base_uri": "https://localhost:8080/"
        }
      },
      "outputs": [
        {
          "output_type": "stream",
          "name": "stdout",
          "text": [
            "Use /tmp/tmp5mdfb5nj as temporary training directory\n",
            "Reading training dataset...\n",
            "Training dataset read in 0:00:00.414391. Found 20414 examples.\n",
            "Training model...\n",
            "Model trained in 0:00:00.081567\n",
            "Compiling model...\n",
            "Model compiled.\n",
            "Total time for model fitting: 0:00:00.787812\n"
          ]
        }
      ],
      "source": [
        "# Initialize the default model and get a baseline result\n",
        "start_time_module = datetime.now()\n",
        "tf.keras.utils.set_random_seed(RNG_SEED)\n",
        "CART_model = tfdf.keras.CartModel(task = tfdf.keras.Task.CLASSIFICATION)\n",
        "CART_model.compile(metrics=DEFAULT_METRICS)\n",
        "CART_model.fit(x=tfds_train)\n",
        "print('Total time for model fitting:', (datetime.now() - start_time_module))"
      ]
    },
    {
      "cell_type": "code",
      "source": [
        "CART_model.evaluate(tfds_train)"
      ],
      "metadata": {
        "colab": {
          "base_uri": "https://localhost:8080/"
        },
        "id": "nbReefS_e_qq",
        "outputId": "7b555ad7-58d4-4128-c9f3-b63f3c825f6a"
      },
      "execution_count": 36,
      "outputs": [
        {
          "output_type": "stream",
          "name": "stdout",
          "text": [
            "21/21 [==============================] - 0s 10ms/step - loss: 0.0000e+00 - auc: 0.9267\n"
          ]
        },
        {
          "output_type": "execute_result",
          "data": {
            "text/plain": [
              "[0.0, 0.9267293810844421]"
            ]
          },
          "metadata": {},
          "execution_count": 36
        }
      ]
    },
    {
      "cell_type": "code",
      "source": [
        "CART_model.summary()"
      ],
      "metadata": {
        "colab": {
          "base_uri": "https://localhost:8080/"
        },
        "id": "Y_mu_W68i4BS",
        "outputId": "0fe0822c-fd8d-4932-a118-a172114a5fa7"
      },
      "execution_count": 37,
      "outputs": [
        {
          "output_type": "stream",
          "name": "stdout",
          "text": [
            "Model: \"cart_model\"\n",
            "_________________________________________________________________\n",
            " Layer (type)                Output Shape              Param #   \n",
            "=================================================================\n",
            "=================================================================\n",
            "Total params: 1\n",
            "Trainable params: 0\n",
            "Non-trainable params: 1\n",
            "_________________________________________________________________\n",
            "Type: \"RANDOM_FOREST\"\n",
            "Task: CLASSIFICATION\n",
            "Label: \"__LABEL\"\n",
            "\n",
            "Input Features (11):\n",
            "\tResidence_type\n",
            "\tage\n",
            "\tavg_glucose_level\n",
            "\tbmi\n",
            "\tever_married\n",
            "\tgender\n",
            "\theart_disease\n",
            "\thypertension\n",
            "\tis_synthetic\n",
            "\tsmoking_status\n",
            "\twork_type\n",
            "\n",
            "No weights\n",
            "\n",
            "Variable Importance: MEAN_MIN_DEPTH:\n",
            "    1.    \"Residence_type\"  6.416667 ################\n",
            "    2.     \"heart_disease\"  6.416667 ################\n",
            "    3.         \"work_type\"  6.416667 ################\n",
            "    4.           \"__LABEL\"  6.416667 ################\n",
            "    5.            \"gender\"  6.250000 ###############\n",
            "    6.      \"is_synthetic\"  5.250000 #############\n",
            "    7.      \"ever_married\"  4.750000 ###########\n",
            "    8.    \"smoking_status\"  4.166667 ##########\n",
            "    9.               \"bmi\"  3.500000 ########\n",
            "   10. \"avg_glucose_level\"  2.750000 ######\n",
            "   11.      \"hypertension\"  1.000000 ##\n",
            "   12.               \"age\"  0.000000 \n",
            "\n",
            "Variable Importance: NUM_AS_ROOT:\n",
            "    1. \"age\"  1.000000 \n",
            "\n",
            "Variable Importance: NUM_NODES:\n",
            "    1.               \"age\"  3.000000 ################\n",
            "    2. \"avg_glucose_level\"  2.000000 ########\n",
            "    3.               \"bmi\"  1.000000 \n",
            "    4.      \"ever_married\"  1.000000 \n",
            "    5.            \"gender\"  1.000000 \n",
            "    6.      \"hypertension\"  1.000000 \n",
            "    7.      \"is_synthetic\"  1.000000 \n",
            "    8.    \"smoking_status\"  1.000000 \n",
            "\n",
            "Variable Importance: SUM_SCORE:\n",
            "    1.               \"age\" 578.853709 ################\n",
            "    2.      \"hypertension\" 17.614604 \n",
            "    3. \"avg_glucose_level\"  7.368844 \n",
            "    4.      \"is_synthetic\"  3.366965 \n",
            "    5.               \"bmi\"  2.180161 \n",
            "    6.    \"smoking_status\"  1.651697 \n",
            "    7.      \"ever_married\"  1.040765 \n",
            "    8.            \"gender\"  0.541154 \n",
            "\n",
            "\n",
            "Cannot compute model self evaluation:Not implemented\n",
            "\n",
            "Winner takes all: false\n",
            "Out-of-bag evaluation disabled.\n",
            "Number of trees: 1\n",
            "Total number of nodes: 23\n",
            "\n",
            "Number of nodes by tree:\n",
            "Count: 1 Average: 23 StdDev: 0\n",
            "Min: 23 Max: 23 Ignored: 0\n",
            "----------------------------------------------\n",
            "[ 23, 23] 1 100.00% 100.00% ##########\n",
            "\n",
            "Depth by leafs:\n",
            "Count: 12 Average: 6.41667 StdDev: 3.32812\n",
            "Min: 1 Max: 11 Ignored: 0\n",
            "----------------------------------------------\n",
            "[  1,  2) 1   8.33%   8.33% #####\n",
            "[  2,  3) 1   8.33%  16.67% #####\n",
            "[  3,  4) 1   8.33%  25.00% #####\n",
            "[  4,  5) 1   8.33%  33.33% #####\n",
            "[  5,  6) 1   8.33%  41.67% #####\n",
            "[  6,  7) 1   8.33%  50.00% #####\n",
            "[  7,  8) 1   8.33%  58.33% #####\n",
            "[  8,  9) 1   8.33%  66.67% #####\n",
            "[  9, 10) 1   8.33%  75.00% #####\n",
            "[ 10, 11) 1   8.33%  83.33% #####\n",
            "[ 11, 11] 2  16.67% 100.00% ##########\n",
            "\n",
            "Number of training obs by leaf:\n",
            "Count: 12 Average: 1532.83 StdDev: 3751.85\n",
            "Min: 5 Max: 13376 Ignored: 0\n",
            "----------------------------------------------\n",
            "[     5,   673) 10  83.33%  83.33% ##########\n",
            "[   673,  1342)  0   0.00%  83.33%\n",
            "[  1342,  2010)  0   0.00%  83.33%\n",
            "[  2010,  2679)  0   0.00%  83.33%\n",
            "[  2679,  3348)  0   0.00%  83.33%\n",
            "[  3348,  4016)  0   0.00%  83.33%\n",
            "[  4016,  4685)  1   8.33%  91.67% #\n",
            "[  4685,  5353)  0   0.00%  91.67%\n",
            "[  5353,  6022)  0   0.00%  91.67%\n",
            "[  6022,  6691)  0   0.00%  91.67%\n",
            "[  6691,  7359)  0   0.00%  91.67%\n",
            "[  7359,  8028)  0   0.00%  91.67%\n",
            "[  8028,  8696)  0   0.00%  91.67%\n",
            "[  8696,  9365)  0   0.00%  91.67%\n",
            "[  9365, 10034)  0   0.00%  91.67%\n",
            "[ 10034, 10702)  0   0.00%  91.67%\n",
            "[ 10702, 11371)  0   0.00%  91.67%\n",
            "[ 11371, 12039)  0   0.00%  91.67%\n",
            "[ 12039, 12708)  0   0.00%  91.67%\n",
            "[ 12708, 13376]  1   8.33% 100.00% #\n",
            "\n",
            "Attribute in nodes:\n",
            "\t3 : age [NUMERICAL]\n",
            "\t2 : avg_glucose_level [NUMERICAL]\n",
            "\t1 : smoking_status [CATEGORICAL]\n",
            "\t1 : is_synthetic [NUMERICAL]\n",
            "\t1 : hypertension [NUMERICAL]\n",
            "\t1 : gender [CATEGORICAL]\n",
            "\t1 : ever_married [CATEGORICAL]\n",
            "\t1 : bmi [NUMERICAL]\n",
            "\n",
            "Attribute in nodes with depth <= 0:\n",
            "\t1 : age [NUMERICAL]\n",
            "\n",
            "Attribute in nodes with depth <= 1:\n",
            "\t1 : hypertension [NUMERICAL]\n",
            "\t1 : age [NUMERICAL]\n",
            "\n",
            "Attribute in nodes with depth <= 2:\n",
            "\t2 : age [NUMERICAL]\n",
            "\t1 : hypertension [NUMERICAL]\n",
            "\n",
            "Attribute in nodes with depth <= 3:\n",
            "\t2 : age [NUMERICAL]\n",
            "\t1 : hypertension [NUMERICAL]\n",
            "\t1 : avg_glucose_level [NUMERICAL]\n",
            "\n",
            "Attribute in nodes with depth <= 5:\n",
            "\t2 : age [NUMERICAL]\n",
            "\t1 : smoking_status [CATEGORICAL]\n",
            "\t1 : hypertension [NUMERICAL]\n",
            "\t1 : bmi [NUMERICAL]\n",
            "\t1 : avg_glucose_level [NUMERICAL]\n",
            "\n",
            "Condition type in nodes:\n",
            "\t8 : HigherCondition\n",
            "\t3 : ContainsBitmapCondition\n",
            "Condition type in nodes with depth <= 0:\n",
            "\t1 : HigherCondition\n",
            "Condition type in nodes with depth <= 1:\n",
            "\t2 : HigherCondition\n",
            "Condition type in nodes with depth <= 2:\n",
            "\t3 : HigherCondition\n",
            "Condition type in nodes with depth <= 3:\n",
            "\t4 : HigherCondition\n",
            "Condition type in nodes with depth <= 5:\n",
            "\t5 : HigherCondition\n",
            "\t1 : ContainsBitmapCondition\n",
            "Node format: NOT_SET\n",
            "Pruned nodes during training: 942\n",
            "\n"
          ]
        }
      ]
    },
    {
      "cell_type": "markdown",
      "metadata": {
        "id": "zVCQJVv21m86"
      },
      "source": [
        "\n",
        "### 3.d) Train and Evaluate the Gradient Boosted Trees Model"
      ]
    },
    {
      "cell_type": "code",
      "execution_count": 38,
      "metadata": {
        "id": "e2PIupiqVecQ",
        "outputId": "154ee838-bd8d-4c0a-e12f-dd0416300925",
        "colab": {
          "base_uri": "https://localhost:8080/"
        }
      },
      "outputs": [
        {
          "output_type": "stream",
          "name": "stdout",
          "text": [
            "Use /tmp/tmp6qpi87jo as temporary training directory\n",
            "Reading training dataset...\n",
            "Training dataset read in 0:00:00.396064. Found 20414 examples.\n",
            "Training model...\n",
            "Model trained in 0:00:03.464228\n",
            "Compiling model...\n",
            "Model compiled.\n",
            "Total time for model fitting: 0:00:04.125642\n"
          ]
        }
      ],
      "source": [
        "# Initialize the default model and get a baseline result\n",
        "start_time_module = datetime.now()\n",
        "tf.keras.utils.set_random_seed(RNG_SEED)\n",
        "GBT_model = tfdf.keras.GradientBoostedTreesModel(task = tfdf.keras.Task.CLASSIFICATION)\n",
        "GBT_model.compile(metrics=DEFAULT_METRICS)\n",
        "GBT_model.fit(x=tfds_train)\n",
        "print('Total time for model fitting:', (datetime.now() - start_time_module))"
      ]
    },
    {
      "cell_type": "code",
      "source": [
        "GBT_model.evaluate(tfds_train)"
      ],
      "metadata": {
        "colab": {
          "base_uri": "https://localhost:8080/"
        },
        "id": "kEH_C39mfblg",
        "outputId": "8593dd75-25a4-4a56-906a-b67e6544903d"
      },
      "execution_count": 39,
      "outputs": [
        {
          "output_type": "stream",
          "name": "stdout",
          "text": [
            "21/21 [==============================] - 0s 10ms/step - loss: 0.0000e+00 - auc: 0.9311\n"
          ]
        },
        {
          "output_type": "execute_result",
          "data": {
            "text/plain": [
              "[0.0, 0.9311326742172241]"
            ]
          },
          "metadata": {},
          "execution_count": 39
        }
      ]
    },
    {
      "cell_type": "code",
      "source": [
        "GBT_model.summary()"
      ],
      "metadata": {
        "colab": {
          "base_uri": "https://localhost:8080/"
        },
        "id": "igRh7bbRjB6q",
        "outputId": "941cc878-0209-4243-d012-053f9ee610af"
      },
      "execution_count": 40,
      "outputs": [
        {
          "output_type": "stream",
          "name": "stdout",
          "text": [
            "Model: \"gradient_boosted_trees_model\"\n",
            "_________________________________________________________________\n",
            " Layer (type)                Output Shape              Param #   \n",
            "=================================================================\n",
            "=================================================================\n",
            "Total params: 1\n",
            "Trainable params: 0\n",
            "Non-trainable params: 1\n",
            "_________________________________________________________________\n",
            "Type: \"GRADIENT_BOOSTED_TREES\"\n",
            "Task: CLASSIFICATION\n",
            "Label: \"__LABEL\"\n",
            "\n",
            "Input Features (11):\n",
            "\tResidence_type\n",
            "\tage\n",
            "\tavg_glucose_level\n",
            "\tbmi\n",
            "\tever_married\n",
            "\tgender\n",
            "\theart_disease\n",
            "\thypertension\n",
            "\tis_synthetic\n",
            "\tsmoking_status\n",
            "\twork_type\n",
            "\n",
            "No weights\n",
            "\n",
            "Variable Importance: MEAN_MIN_DEPTH:\n",
            "    1.           \"__LABEL\"  4.799330 ################\n",
            "    2.      \"ever_married\"  4.729805 ###############\n",
            "    3.            \"gender\"  4.725320 ###############\n",
            "    4.    \"Residence_type\"  4.647241 ###############\n",
            "    5.      \"is_synthetic\"  4.539785 ##############\n",
            "    6.    \"smoking_status\"  4.441235 ##############\n",
            "    7.      \"hypertension\"  4.402063 ##############\n",
            "    8.     \"heart_disease\"  4.390904 ##############\n",
            "    9.         \"work_type\"  4.245867 #############\n",
            "   10.               \"bmi\"  3.000206 #######\n",
            "   11. \"avg_glucose_level\"  2.297103 ####\n",
            "   12.               \"age\"  1.367377 \n",
            "\n",
            "Variable Importance: NUM_AS_ROOT:\n",
            "    1.               \"age\" 43.000000 ################\n",
            "    2. \"avg_glucose_level\" 20.000000 #######\n",
            "    3.               \"bmi\" 11.000000 ###\n",
            "    4.      \"hypertension\"  3.000000 \n",
            "    5.         \"work_type\"  3.000000 \n",
            "    6.    \"smoking_status\"  2.000000 \n",
            "    7.     \"heart_disease\"  1.000000 \n",
            "\n",
            "Variable Importance: NUM_NODES:\n",
            "    1. \"avg_glucose_level\" 676.000000 ################\n",
            "    2.               \"age\" 503.000000 ###########\n",
            "    3.               \"bmi\" 473.000000 ###########\n",
            "    4.         \"work_type\" 81.000000 #\n",
            "    5.    \"smoking_status\" 76.000000 #\n",
            "    6.     \"heart_disease\" 68.000000 #\n",
            "    7.      \"hypertension\" 50.000000 \n",
            "    8.    \"Residence_type\" 44.000000 \n",
            "    9.      \"is_synthetic\" 41.000000 \n",
            "   10.            \"gender\" 25.000000 \n",
            "   11.      \"ever_married\" 21.000000 \n",
            "\n",
            "Variable Importance: SUM_SCORE:\n",
            "    1.               \"age\" 525.783015 ################\n",
            "    2. \"avg_glucose_level\" 274.930181 ########\n",
            "    3.               \"bmi\" 165.297446 ####\n",
            "    4.      \"is_synthetic\" 30.434310 \n",
            "    5.    \"smoking_status\" 27.375069 \n",
            "    6.         \"work_type\" 25.956519 \n",
            "    7.     \"heart_disease\" 24.415893 \n",
            "    8.    \"Residence_type\" 17.253550 \n",
            "    9.      \"hypertension\" 12.673636 \n",
            "   10.            \"gender\"  9.472526 \n",
            "   11.      \"ever_married\"  6.902404 \n",
            "\n",
            "\n",
            "\n",
            "Loss: BINOMIAL_LOG_LIKELIHOOD\n",
            "Validation loss value: 0.242225\n",
            "Number of trees per iteration: 1\n",
            "Node format: NOT_SET\n",
            "Number of trees: 83\n",
            "Total number of nodes: 4199\n",
            "\n",
            "Number of nodes by tree:\n",
            "Count: 83 Average: 50.5904 StdDev: 8.79079\n",
            "Min: 31 Max: 63 Ignored: 0\n",
            "----------------------------------------------\n",
            "[ 31, 32) 3   3.61%   3.61% ###\n",
            "[ 32, 34) 1   1.20%   4.82% #\n",
            "[ 34, 35) 0   0.00%   4.82%\n",
            "[ 35, 37) 0   0.00%   4.82%\n",
            "[ 37, 39) 1   1.20%   6.02% #\n",
            "[ 39, 40) 5   6.02%  12.05% ######\n",
            "[ 40, 42) 9  10.84%  22.89% ##########\n",
            "[ 42, 44) 3   3.61%  26.51% ###\n",
            "[ 44, 45) 0   0.00%  26.51%\n",
            "[ 45, 47) 5   6.02%  32.53% ######\n",
            "[ 47, 49) 6   7.23%  39.76% #######\n",
            "[ 49, 50) 4   4.82%  44.58% ####\n",
            "[ 50, 52) 6   7.23%  51.81% #######\n",
            "[ 52, 54) 6   7.23%  59.04% #######\n",
            "[ 54, 55) 0   0.00%  59.04%\n",
            "[ 55, 57) 6   7.23%  66.27% #######\n",
            "[ 57, 59) 4   4.82%  71.08% ####\n",
            "[ 59, 60) 9  10.84%  81.93% ##########\n",
            "[ 60, 62) 9  10.84%  92.77% ##########\n",
            "[ 62, 63] 6   7.23% 100.00% #######\n",
            "\n",
            "Depth by leafs:\n",
            "Count: 2141 Average: 4.82625 StdDev: 0.50839\n",
            "Min: 2 Max: 5 Ignored: 0\n",
            "----------------------------------------------\n",
            "[ 2, 3)   20   0.93%   0.93%\n",
            "[ 3, 4)   63   2.94%   3.88%\n",
            "[ 4, 5)  186   8.69%  12.56% #\n",
            "[ 5, 5] 1872  87.44% 100.00% ##########\n",
            "\n",
            "Number of training obs by leaf:\n",
            "Count: 2141 Average: 713.079 StdDev: 2388.53\n",
            "Min: 5 Max: 18127 Ignored: 0\n",
            "----------------------------------------------\n",
            "[     5,   911) 1868  87.25%  87.25% ##########\n",
            "[   911,  1817)   95   4.44%  91.69% #\n",
            "[  1817,  2723)   43   2.01%  93.69%\n",
            "[  2723,  3629)   22   1.03%  94.72%\n",
            "[  3629,  4535)   18   0.84%  95.56%\n",
            "[  4535,  5441)    8   0.37%  95.94%\n",
            "[  5441,  6348)   12   0.56%  96.50%\n",
            "[  6348,  7254)   10   0.47%  96.96%\n",
            "[  7254,  8160)   10   0.47%  97.43%\n",
            "[  8160,  9066)    9   0.42%  97.85%\n",
            "[  9066,  9972)    4   0.19%  98.04%\n",
            "[  9972, 10878)    0   0.00%  98.04%\n",
            "[ 10878, 11784)    4   0.19%  98.23%\n",
            "[ 11784, 12691)    7   0.33%  98.55%\n",
            "[ 12691, 13597)    5   0.23%  98.79%\n",
            "[ 13597, 14503)    2   0.09%  98.88%\n",
            "[ 14503, 15409)    5   0.23%  99.11%\n",
            "[ 15409, 16315)    4   0.19%  99.30%\n",
            "[ 16315, 17221)    1   0.05%  99.35%\n",
            "[ 17221, 18127]   14   0.65% 100.00%\n",
            "\n",
            "Attribute in nodes:\n",
            "\t676 : avg_glucose_level [NUMERICAL]\n",
            "\t503 : age [NUMERICAL]\n",
            "\t473 : bmi [NUMERICAL]\n",
            "\t81 : work_type [CATEGORICAL]\n",
            "\t76 : smoking_status [CATEGORICAL]\n",
            "\t68 : heart_disease [NUMERICAL]\n",
            "\t50 : hypertension [NUMERICAL]\n",
            "\t44 : Residence_type [CATEGORICAL]\n",
            "\t41 : is_synthetic [NUMERICAL]\n",
            "\t25 : gender [CATEGORICAL]\n",
            "\t21 : ever_married [CATEGORICAL]\n",
            "\n",
            "Attribute in nodes with depth <= 0:\n",
            "\t43 : age [NUMERICAL]\n",
            "\t20 : avg_glucose_level [NUMERICAL]\n",
            "\t11 : bmi [NUMERICAL]\n",
            "\t3 : work_type [CATEGORICAL]\n",
            "\t3 : hypertension [NUMERICAL]\n",
            "\t2 : smoking_status [CATEGORICAL]\n",
            "\t1 : heart_disease [NUMERICAL]\n",
            "\n",
            "Attribute in nodes with depth <= 1:\n",
            "\t90 : age [NUMERICAL]\n",
            "\t83 : avg_glucose_level [NUMERICAL]\n",
            "\t43 : bmi [NUMERICAL]\n",
            "\t11 : work_type [CATEGORICAL]\n",
            "\t8 : hypertension [NUMERICAL]\n",
            "\t6 : heart_disease [NUMERICAL]\n",
            "\t4 : is_synthetic [NUMERICAL]\n",
            "\t3 : smoking_status [CATEGORICAL]\n",
            "\t1 : gender [CATEGORICAL]\n",
            "\n",
            "Attribute in nodes with depth <= 2:\n",
            "\t192 : avg_glucose_level [NUMERICAL]\n",
            "\t164 : age [NUMERICAL]\n",
            "\t103 : bmi [NUMERICAL]\n",
            "\t29 : heart_disease [NUMERICAL]\n",
            "\t17 : work_type [CATEGORICAL]\n",
            "\t16 : is_synthetic [NUMERICAL]\n",
            "\t14 : smoking_status [CATEGORICAL]\n",
            "\t13 : hypertension [NUMERICAL]\n",
            "\t7 : Residence_type [CATEGORICAL]\n",
            "\t3 : gender [CATEGORICAL]\n",
            "\t3 : ever_married [CATEGORICAL]\n",
            "\n",
            "Attribute in nodes with depth <= 3:\n",
            "\t372 : avg_glucose_level [NUMERICAL]\n",
            "\t287 : age [NUMERICAL]\n",
            "\t243 : bmi [NUMERICAL]\n",
            "\t44 : heart_disease [NUMERICAL]\n",
            "\t40 : work_type [CATEGORICAL]\n",
            "\t37 : smoking_status [CATEGORICAL]\n",
            "\t28 : Residence_type [CATEGORICAL]\n",
            "\t25 : hypertension [NUMERICAL]\n",
            "\t23 : is_synthetic [NUMERICAL]\n",
            "\t14 : ever_married [CATEGORICAL]\n",
            "\t9 : gender [CATEGORICAL]\n",
            "\n",
            "Attribute in nodes with depth <= 5:\n",
            "\t676 : avg_glucose_level [NUMERICAL]\n",
            "\t503 : age [NUMERICAL]\n",
            "\t473 : bmi [NUMERICAL]\n",
            "\t81 : work_type [CATEGORICAL]\n",
            "\t76 : smoking_status [CATEGORICAL]\n",
            "\t68 : heart_disease [NUMERICAL]\n",
            "\t50 : hypertension [NUMERICAL]\n",
            "\t44 : Residence_type [CATEGORICAL]\n",
            "\t41 : is_synthetic [NUMERICAL]\n",
            "\t25 : gender [CATEGORICAL]\n",
            "\t21 : ever_married [CATEGORICAL]\n",
            "\n",
            "Condition type in nodes:\n",
            "\t1811 : HigherCondition\n",
            "\t247 : ContainsBitmapCondition\n",
            "Condition type in nodes with depth <= 0:\n",
            "\t78 : HigherCondition\n",
            "\t5 : ContainsBitmapCondition\n",
            "Condition type in nodes with depth <= 1:\n",
            "\t234 : HigherCondition\n",
            "\t15 : ContainsBitmapCondition\n",
            "Condition type in nodes with depth <= 2:\n",
            "\t517 : HigherCondition\n",
            "\t44 : ContainsBitmapCondition\n",
            "Condition type in nodes with depth <= 3:\n",
            "\t994 : HigherCondition\n",
            "\t128 : ContainsBitmapCondition\n",
            "Condition type in nodes with depth <= 5:\n",
            "\t1811 : HigherCondition\n",
            "\t247 : ContainsBitmapCondition\n",
            "\n",
            "Training logs:\n",
            "Number of iteration to final model: 83\n",
            "\tIter:1 train-loss:0.330029 valid-loss:0.300676  train-accuracy:0.956236 valid-accuracy:0.962376\n",
            "\tIter:2 train-loss:0.315068 valid-loss:0.289133  train-accuracy:0.956236 valid-accuracy:0.962376\n",
            "\tIter:3 train-loss:0.304168 valid-loss:0.281507  train-accuracy:0.956236 valid-accuracy:0.962376\n",
            "\tIter:4 train-loss:0.295664 valid-loss:0.275942  train-accuracy:0.956236 valid-accuracy:0.962376\n",
            "\tIter:5 train-loss:0.288151 valid-loss:0.271469  train-accuracy:0.956236 valid-accuracy:0.962376\n",
            "\tIter:6 train-loss:0.281876 valid-loss:0.268011  train-accuracy:0.956508 valid-accuracy:0.962376\n",
            "\tIter:16 train-loss:0.249425 valid-loss:0.251811  train-accuracy:0.957595 valid-accuracy:0.962376\n",
            "\tIter:26 train-loss:0.235725 valid-loss:0.245600  train-accuracy:0.959008 valid-accuracy:0.962871\n",
            "\tIter:36 train-loss:0.227080 valid-loss:0.243197  train-accuracy:0.960531 valid-accuracy:0.962871\n",
            "\tIter:46 train-loss:0.222699 valid-loss:0.242606  train-accuracy:0.961292 valid-accuracy:0.963366\n",
            "\tIter:56 train-loss:0.217202 valid-loss:0.242679  train-accuracy:0.961998 valid-accuracy:0.963366\n",
            "\tIter:66 train-loss:0.211012 valid-loss:0.242816  train-accuracy:0.963521 valid-accuracy:0.962376\n",
            "\tIter:76 train-loss:0.204702 valid-loss:0.242754  train-accuracy:0.964717 valid-accuracy:0.961386\n",
            "\tIter:86 train-loss:0.199836 valid-loss:0.242472  train-accuracy:0.965587 valid-accuracy:0.961386\n",
            "\tIter:96 train-loss:0.195659 valid-loss:0.243257  train-accuracy:0.966456 valid-accuracy:0.961386\n",
            "\tIter:106 train-loss:0.191497 valid-loss:0.243963  train-accuracy:0.967218 valid-accuracy:0.960396\n",
            "\n"
          ]
        }
      ]
    },
    {
      "cell_type": "code",
      "execution_count": 41,
      "metadata": {
        "id": "g2ZPK8-5wXjU",
        "jupyter": {
          "outputs_hidden": false
        },
        "pycharm": {
          "name": "#%%\n"
        }
      },
      "outputs": [],
      "source": [
        "if NOTIFY_STATUS: status_notify(\"Task 4 - Train and Evaluate Models completed! \"+datetime.now().strftime('%a %B %d, %Y %I:%M:%S %p'))"
      ]
    },
    {
      "cell_type": "markdown",
      "metadata": {
        "id": "ISyQ5uNrwXjU"
      },
      "source": [
        "## Task 4 - Fine-tune and Improve Models"
      ]
    },
    {
      "cell_type": "code",
      "execution_count": 42,
      "metadata": {
        "id": "l3AulRWbzzOz"
      },
      "outputs": [],
      "source": [
        "if NOTIFY_STATUS: status_notify(\"Task 4 - Fine-tune and Improve Models has begun! \"+datetime.now().strftime('%a %B %d, %Y %I:%M:%S %p'))"
      ]
    },
    {
      "cell_type": "code",
      "execution_count": 43,
      "metadata": {
        "id": "vlCLtsxjzQ2V"
      },
      "outputs": [],
      "source": [
        "# Not applicable for this iteration of modeling"
      ]
    },
    {
      "cell_type": "code",
      "execution_count": 44,
      "metadata": {
        "id": "orMchSDCzr07"
      },
      "outputs": [],
      "source": [
        "if NOTIFY_STATUS: status_notify(\"Task 4 - Fine-tune and Improve Models completed! \"+datetime.now().strftime('%a %B %d, %Y %I:%M:%S %p'))"
      ]
    },
    {
      "cell_type": "markdown",
      "metadata": {
        "id": "D7UgYoGuzaM-"
      },
      "source": [
        "## Task 5 - Finalize Model and Present Analysis"
      ]
    },
    {
      "cell_type": "code",
      "execution_count": 45,
      "metadata": {
        "id": "BhuD5C56wXjV"
      },
      "outputs": [],
      "source": [
        "if NOTIFY_STATUS: status_notify(\"Task 5 - Finalize Model and Present Analysis has begun! \"+datetime.now().strftime('%a %B %d, %Y %I:%M:%S %p'))"
      ]
    },
    {
      "cell_type": "markdown",
      "source": [
        "### 5.a) Train the Final Model"
      ],
      "metadata": {
        "id": "bHcFQtMOMl0L"
      }
    },
    {
      "cell_type": "code",
      "execution_count": 46,
      "metadata": {
        "colab": {
          "base_uri": "https://localhost:8080/"
        },
        "id": "dsntMWlJwXjV",
        "outputId": "488a5e8d-39db-48b2-f91b-295f7d01e292"
      },
      "outputs": [
        {
          "output_type": "stream",
          "name": "stdout",
          "text": [
            "Use /tmp/tmpi7o0noa0 as temporary training directory\n",
            "Reading training dataset...\n",
            "Training dataset read in 0:00:00.447679. Found 20414 examples.\n",
            "Training model...\n",
            "Model trained in 0:00:07.755232\n",
            "Compiling model...\n",
            "Model compiled.\n",
            "Model training time: 0:00:10.604706 \n",
            "\n"
          ]
        }
      ],
      "source": [
        "# Define the baseline model for benchmarking\n",
        "start_time_module = datetime.now()\n",
        "tf.keras.utils.set_random_seed(RNG_SEED)\n",
        "final_model = tfdf.keras.RandomForestModel(task = tfdf.keras.Task.CLASSIFICATION)\n",
        "# final_model = tfdf.keras.CartModel(task = tfdf.keras.Task.CLASSIFICATION)\n",
        "# final_model = tfdf.keras.GradientBoostedTreesModel(task = tfdf.keras.Task.CLASSIFICATION)\n",
        "final_model.compile(metrics=DEFAULT_METRICS)\n",
        "\n",
        "# Train the model.\n",
        "final_model.fit(x=tfds_train)\n",
        "print ('Model training time:', (datetime.now() - start_time_module), '\\n')"
      ]
    },
    {
      "cell_type": "code",
      "execution_count": 47,
      "metadata": {
        "colab": {
          "base_uri": "https://localhost:8080/"
        },
        "id": "IuwcWWXF89YM",
        "outputId": "e52e53cc-368f-465b-a2d5-a7c749ab9e35"
      },
      "outputs": [
        {
          "output_type": "stream",
          "name": "stdout",
          "text": [
            "Model: \"random_forest_model_1\"\n",
            "_________________________________________________________________\n",
            " Layer (type)                Output Shape              Param #   \n",
            "=================================================================\n",
            "=================================================================\n",
            "Total params: 1\n",
            "Trainable params: 0\n",
            "Non-trainable params: 1\n",
            "_________________________________________________________________\n",
            "Type: \"RANDOM_FOREST\"\n",
            "Task: CLASSIFICATION\n",
            "Label: \"__LABEL\"\n",
            "\n",
            "Input Features (11):\n",
            "\tResidence_type\n",
            "\tage\n",
            "\tavg_glucose_level\n",
            "\tbmi\n",
            "\tever_married\n",
            "\tgender\n",
            "\theart_disease\n",
            "\thypertension\n",
            "\tis_synthetic\n",
            "\tsmoking_status\n",
            "\twork_type\n",
            "\n",
            "No weights\n",
            "\n",
            "Variable Importance: MEAN_MIN_DEPTH:\n",
            "    1.           \"__LABEL\" 11.440291 ################\n",
            "    2.    \"Residence_type\" 10.690514 ##############\n",
            "    3.            \"gender\" 10.686519 ##############\n",
            "    4.      \"is_synthetic\"  9.551275 #############\n",
            "    5.     \"heart_disease\"  8.620983 ###########\n",
            "    6.    \"smoking_status\"  8.564972 ###########\n",
            "    7.         \"work_type\"  8.036176 ##########\n",
            "    8.      \"hypertension\"  7.271919 #########\n",
            "    9.      \"ever_married\"  6.511355 ########\n",
            "   10.               \"bmi\"  5.321434 ######\n",
            "   11. \"avg_glucose_level\"  2.625376 ##\n",
            "   12.               \"age\"  1.093829 \n",
            "\n",
            "Variable Importance: NUM_AS_ROOT:\n",
            "    1.               \"age\" 140.000000 ################\n",
            "    2.      \"ever_married\" 65.000000 #######\n",
            "    3. \"avg_glucose_level\" 62.000000 ######\n",
            "    4.      \"hypertension\" 18.000000 #\n",
            "    5.         \"work_type\"  8.000000 \n",
            "    6.     \"heart_disease\"  4.000000 \n",
            "    7.               \"bmi\"  3.000000 \n",
            "\n",
            "Variable Importance: NUM_NODES:\n",
            "    1. \"avg_glucose_level\" 41201.000000 ################\n",
            "    2.               \"bmi\" 36071.000000 #############\n",
            "    3.               \"age\" 22479.000000 ########\n",
            "    4.    \"smoking_status\" 7481.000000 ##\n",
            "    5.         \"work_type\" 6687.000000 ##\n",
            "    6.    \"Residence_type\" 5430.000000 #\n",
            "    7.            \"gender\" 5002.000000 #\n",
            "    8.      \"is_synthetic\" 4138.000000 #\n",
            "    9.      \"hypertension\" 2310.000000 \n",
            "   10.     \"heart_disease\" 1973.000000 \n",
            "   11.      \"ever_married\" 1204.000000 \n",
            "\n",
            "Variable Importance: SUM_SCORE:\n",
            "    1.               \"age\" 286172.467410 ################\n",
            "    2. \"avg_glucose_level\" 172486.247100 #########\n",
            "    3.               \"bmi\" 131529.733319 #######\n",
            "    4.         \"work_type\" 24557.506539 \n",
            "    5.    \"smoking_status\" 24151.779106 \n",
            "    6.      \"ever_married\" 19987.526771 \n",
            "    7.    \"Residence_type\" 15536.065882 \n",
            "    8.      \"is_synthetic\" 14971.892137 \n",
            "    9.      \"hypertension\" 14605.968345 \n",
            "   10.            \"gender\" 14031.501200 \n",
            "   11.     \"heart_disease\" 9554.583540 \n",
            "\n",
            "\n",
            "\n",
            "Winner takes all: true\n",
            "Out-of-bag evaluation: accuracy:0.956207 logloss:0.284776\n",
            "Number of trees: 300\n",
            "Total number of nodes: 268252\n",
            "\n",
            "Number of nodes by tree:\n",
            "Count: 300 Average: 894.173 StdDev: 63.8069\n",
            "Min: 673 Max: 1059 Ignored: 0\n",
            "----------------------------------------------\n",
            "[  673,  692)  2   0.67%   0.67%\n",
            "[  692,  711)  0   0.00%   0.67%\n",
            "[  711,  731)  3   1.00%   1.67% #\n",
            "[  731,  750)  1   0.33%   2.00%\n",
            "[  750,  769)  4   1.33%   3.33% #\n",
            "[  769,  789)  5   1.67%   5.00% #\n",
            "[  789,  808) 12   4.00%   9.00% ###\n",
            "[  808,  827) 16   5.33%  14.33% ####\n",
            "[  827,  847) 23   7.67%  22.00% #####\n",
            "[  847,  866) 28   9.33%  31.33% #######\n",
            "[  866,  885) 29   9.67%  41.00% #######\n",
            "[  885,  905) 36  12.00%  53.00% #########\n",
            "[  905,  924) 42  14.00%  67.00% ##########\n",
            "[  924,  943) 29   9.67%  76.67% #######\n",
            "[  943,  963) 24   8.00%  84.67% ######\n",
            "[  963,  982) 27   9.00%  93.67% ######\n",
            "[  982, 1001) 11   3.67%  97.33% ###\n",
            "[ 1001, 1021)  4   1.33%  98.67% #\n",
            "[ 1021, 1040)  2   0.67%  99.33%\n",
            "[ 1040, 1059]  2   0.67% 100.00%\n",
            "\n",
            "Depth by leafs:\n",
            "Count: 134276 Average: 11.4394 StdDev: 2.67595\n",
            "Min: 1 Max: 15 Ignored: 0\n",
            "----------------------------------------------\n",
            "[  1,  2)     1   0.00%   0.00%\n",
            "[  2,  3)    12   0.01%   0.01%\n",
            "[  3,  4)   152   0.11%   0.12%\n",
            "[  4,  5)   596   0.44%   0.57%\n",
            "[  5,  6)  1636   1.22%   1.79% #\n",
            "[  6,  7)  3420   2.55%   4.33% ##\n",
            "[  7,  8)  5990   4.46%   8.79% ###\n",
            "[  8,  9)  8953   6.67%  15.46% ####\n",
            "[  9, 10) 12060   8.98%  24.44% ######\n",
            "[ 10, 11) 14906  11.10%  35.54% #######\n",
            "[ 11, 12) 16621  12.38%  47.92% ########\n",
            "[ 12, 13) 16767  12.49%  60.41% ########\n",
            "[ 13, 14) 16571  12.34%  72.75% ########\n",
            "[ 14, 15) 15005  11.17%  83.92% #######\n",
            "[ 15, 15] 21586  16.08% 100.00% ##########\n",
            "\n",
            "Number of training obs by leaf:\n",
            "Count: 134276 Average: 45.609 StdDev: 215.931\n",
            "Min: 5 Max: 6378 Ignored: 0\n",
            "----------------------------------------------\n",
            "[    5,  323) 131280  97.77%  97.77% ##########\n",
            "[  323,  642)   1493   1.11%  98.88%\n",
            "[  642,  961)    528   0.39%  99.27%\n",
            "[  961, 1279)    316   0.24%  99.51%\n",
            "[ 1279, 1598)    149   0.11%  99.62%\n",
            "[ 1598, 1917)    119   0.09%  99.71%\n",
            "[ 1917, 2235)     72   0.05%  99.76%\n",
            "[ 2235, 2554)     38   0.03%  99.79%\n",
            "[ 2554, 2873)     55   0.04%  99.83%\n",
            "[ 2873, 3192)     49   0.04%  99.87%\n",
            "[ 3192, 3510)     44   0.03%  99.90%\n",
            "[ 3510, 3829)     30   0.02%  99.92%\n",
            "[ 3829, 4148)     18   0.01%  99.94%\n",
            "[ 4148, 4466)     23   0.02%  99.95%\n",
            "[ 4466, 4785)     27   0.02%  99.97%\n",
            "[ 4785, 5104)      9   0.01%  99.98%\n",
            "[ 5104, 5422)     12   0.01%  99.99%\n",
            "[ 5422, 5741)      8   0.01% 100.00%\n",
            "[ 5741, 6060)      4   0.00% 100.00%\n",
            "[ 6060, 6378]      2   0.00% 100.00%\n",
            "\n",
            "Attribute in nodes:\n",
            "\t41201 : avg_glucose_level [NUMERICAL]\n",
            "\t36071 : bmi [NUMERICAL]\n",
            "\t22479 : age [NUMERICAL]\n",
            "\t7481 : smoking_status [CATEGORICAL]\n",
            "\t6687 : work_type [CATEGORICAL]\n",
            "\t5430 : Residence_type [CATEGORICAL]\n",
            "\t5002 : gender [CATEGORICAL]\n",
            "\t4138 : is_synthetic [NUMERICAL]\n",
            "\t2310 : hypertension [NUMERICAL]\n",
            "\t1973 : heart_disease [NUMERICAL]\n",
            "\t1204 : ever_married [CATEGORICAL]\n",
            "\n",
            "Attribute in nodes with depth <= 0:\n",
            "\t140 : age [NUMERICAL]\n",
            "\t65 : ever_married [CATEGORICAL]\n",
            "\t62 : avg_glucose_level [NUMERICAL]\n",
            "\t18 : hypertension [NUMERICAL]\n",
            "\t8 : work_type [CATEGORICAL]\n",
            "\t4 : heart_disease [NUMERICAL]\n",
            "\t3 : bmi [NUMERICAL]\n",
            "\n",
            "Attribute in nodes with depth <= 1:\n",
            "\t412 : age [NUMERICAL]\n",
            "\t153 : avg_glucose_level [NUMERICAL]\n",
            "\t123 : ever_married [CATEGORICAL]\n",
            "\t70 : hypertension [NUMERICAL]\n",
            "\t55 : bmi [NUMERICAL]\n",
            "\t36 : work_type [CATEGORICAL]\n",
            "\t30 : heart_disease [NUMERICAL]\n",
            "\t14 : is_synthetic [NUMERICAL]\n",
            "\t5 : smoking_status [CATEGORICAL]\n",
            "\t1 : Residence_type [CATEGORICAL]\n",
            "\n",
            "Attribute in nodes with depth <= 2:\n",
            "\t835 : age [NUMERICAL]\n",
            "\t369 : avg_glucose_level [NUMERICAL]\n",
            "\t224 : bmi [NUMERICAL]\n",
            "\t187 : ever_married [CATEGORICAL]\n",
            "\t144 : hypertension [NUMERICAL]\n",
            "\t96 : work_type [CATEGORICAL]\n",
            "\t90 : heart_disease [NUMERICAL]\n",
            "\t72 : is_synthetic [NUMERICAL]\n",
            "\t41 : smoking_status [CATEGORICAL]\n",
            "\t14 : gender [CATEGORICAL]\n",
            "\t13 : Residence_type [CATEGORICAL]\n",
            "\n",
            "Attribute in nodes with depth <= 3:\n",
            "\t1497 : age [NUMERICAL]\n",
            "\t853 : avg_glucose_level [NUMERICAL]\n",
            "\t643 : bmi [NUMERICAL]\n",
            "\t243 : work_type [CATEGORICAL]\n",
            "\t239 : ever_married [CATEGORICAL]\n",
            "\t232 : hypertension [NUMERICAL]\n",
            "\t194 : is_synthetic [NUMERICAL]\n",
            "\t171 : heart_disease [NUMERICAL]\n",
            "\t150 : smoking_status [CATEGORICAL]\n",
            "\t50 : gender [CATEGORICAL]\n",
            "\t33 : Residence_type [CATEGORICAL]\n",
            "\n",
            "Attribute in nodes with depth <= 5:\n",
            "\t3540 : age [NUMERICAL]\n",
            "\t3459 : avg_glucose_level [NUMERICAL]\n",
            "\t2989 : bmi [NUMERICAL]\n",
            "\t888 : work_type [CATEGORICAL]\n",
            "\t777 : smoking_status [CATEGORICAL]\n",
            "\t592 : is_synthetic [NUMERICAL]\n",
            "\t483 : hypertension [NUMERICAL]\n",
            "\t443 : heart_disease [NUMERICAL]\n",
            "\t418 : ever_married [CATEGORICAL]\n",
            "\t310 : gender [CATEGORICAL]\n",
            "\t302 : Residence_type [CATEGORICAL]\n",
            "\n",
            "Condition type in nodes:\n",
            "\t108172 : HigherCondition\n",
            "\t25804 : ContainsBitmapCondition\n",
            "Condition type in nodes with depth <= 0:\n",
            "\t227 : HigherCondition\n",
            "\t73 : ContainsBitmapCondition\n",
            "Condition type in nodes with depth <= 1:\n",
            "\t734 : HigherCondition\n",
            "\t165 : ContainsBitmapCondition\n",
            "Condition type in nodes with depth <= 2:\n",
            "\t1734 : HigherCondition\n",
            "\t351 : ContainsBitmapCondition\n",
            "Condition type in nodes with depth <= 3:\n",
            "\t3590 : HigherCondition\n",
            "\t715 : ContainsBitmapCondition\n",
            "Condition type in nodes with depth <= 5:\n",
            "\t11506 : HigherCondition\n",
            "\t2695 : ContainsBitmapCondition\n",
            "Node format: NOT_SET\n",
            "\n",
            "Training OOB:\n",
            "\ttrees: 1, Out-of-bag evaluation: accuracy:0.936756 logloss:2.27955\n",
            "\ttrees: 11, Out-of-bag evaluation: accuracy:0.953665 logloss:1.10376\n",
            "\ttrees: 21, Out-of-bag evaluation: accuracy:0.955614 logloss:0.814251\n",
            "\ttrees: 31, Out-of-bag evaluation: accuracy:0.95557 logloss:0.719597\n",
            "\ttrees: 41, Out-of-bag evaluation: accuracy:0.956109 logloss:0.633372\n",
            "\ttrees: 51, Out-of-bag evaluation: accuracy:0.955962 logloss:0.565887\n",
            "\ttrees: 61, Out-of-bag evaluation: accuracy:0.955962 logloss:0.530661\n",
            "\ttrees: 71, Out-of-bag evaluation: accuracy:0.955962 logloss:0.49522\n",
            "\ttrees: 81, Out-of-bag evaluation: accuracy:0.956158 logloss:0.471071\n",
            "\ttrees: 91, Out-of-bag evaluation: accuracy:0.956109 logloss:0.449096\n",
            "\ttrees: 101, Out-of-bag evaluation: accuracy:0.956109 logloss:0.438202\n",
            "\ttrees: 111, Out-of-bag evaluation: accuracy:0.956207 logloss:0.422342\n",
            "\ttrees: 121, Out-of-bag evaluation: accuracy:0.956158 logloss:0.411241\n",
            "\ttrees: 131, Out-of-bag evaluation: accuracy:0.956109 logloss:0.393638\n",
            "\ttrees: 141, Out-of-bag evaluation: accuracy:0.956109 logloss:0.384385\n",
            "\ttrees: 151, Out-of-bag evaluation: accuracy:0.956304 logloss:0.371818\n",
            "\ttrees: 161, Out-of-bag evaluation: accuracy:0.956109 logloss:0.357693\n",
            "\ttrees: 171, Out-of-bag evaluation: accuracy:0.956158 logloss:0.352894\n",
            "\ttrees: 181, Out-of-bag evaluation: accuracy:0.956109 logloss:0.340655\n",
            "\ttrees: 191, Out-of-bag evaluation: accuracy:0.95606 logloss:0.335947\n",
            "\ttrees: 201, Out-of-bag evaluation: accuracy:0.956158 logloss:0.317236\n",
            "\ttrees: 211, Out-of-bag evaluation: accuracy:0.956451 logloss:0.314091\n",
            "\ttrees: 221, Out-of-bag evaluation: accuracy:0.956304 logloss:0.312567\n",
            "\ttrees: 231, Out-of-bag evaluation: accuracy:0.956304 logloss:0.303325\n",
            "\ttrees: 241, Out-of-bag evaluation: accuracy:0.956304 logloss:0.300161\n",
            "\ttrees: 251, Out-of-bag evaluation: accuracy:0.956255 logloss:0.298566\n",
            "\ttrees: 261, Out-of-bag evaluation: accuracy:0.956353 logloss:0.293814\n",
            "\ttrees: 271, Out-of-bag evaluation: accuracy:0.9565 logloss:0.289218\n",
            "\ttrees: 281, Out-of-bag evaluation: accuracy:0.956549 logloss:0.286132\n",
            "\ttrees: 291, Out-of-bag evaluation: accuracy:0.956402 logloss:0.286251\n",
            "\ttrees: 300, Out-of-bag evaluation: accuracy:0.956207 logloss:0.284776\n",
            "\n"
          ]
        }
      ],
      "source": [
        "final_model.summary()"
      ]
    },
    {
      "cell_type": "markdown",
      "source": [
        "### 5.b) Load Test Dataset and Make Predictions"
      ],
      "metadata": {
        "id": "lgEvffI2Mpnx"
      }
    },
    {
      "cell_type": "code",
      "source": [
        "df_features_test = pd.read_csv(TEST_DATASET)\n",
        "df_features_test['is_synthetic'] = 1\n",
        "\n",
        "# Fill in some missing fields with the most common values\n",
        "df_features_test['gender'] = df_features_test['gender'].apply(clean_gender)\n",
        "df_features_test['smoking_status'] = df_features_test['smoking_status'].apply(clean_smoking_status)\n",
        "\n",
        "# Take a peek at the dataframe after import\n",
        "print(df_features_test.head())"
      ],
      "metadata": {
        "id": "h7WgCCfHMPub",
        "colab": {
          "base_uri": "https://localhost:8080/"
        },
        "outputId": "e23255cb-ca4a-4ebe-9e24-be5e4d5fc924"
      },
      "execution_count": 48,
      "outputs": [
        {
          "output_type": "stream",
          "name": "stdout",
          "text": [
            "      id  gender   age  hypertension  heart_disease ever_married work_type  \\\n",
            "0  15304  Female  57.0             0              0          Yes   Private   \n",
            "1  15305    Male  70.0             1              0          Yes   Private   \n",
            "2  15306  Female   5.0             0              0           No  children   \n",
            "3  15307  Female  56.0             0              0          Yes  Govt_job   \n",
            "4  15308    Male  32.0             0              0          Yes   Private   \n",
            "\n",
            "  Residence_type  avg_glucose_level   bmi smoking_status  is_synthetic  \n",
            "0          Rural              82.54  33.4   never smoked             1  \n",
            "1          Urban              72.06  28.5   never smoked             1  \n",
            "2          Urban             103.72  19.5   never smoked             1  \n",
            "3          Urban              69.24  41.4         smokes             1  \n",
            "4          Rural             111.15  30.1         smokes             1  \n"
          ]
        }
      ]
    },
    {
      "cell_type": "code",
      "source": [
        "df_features_test.info(verbose=True)"
      ],
      "metadata": {
        "colab": {
          "base_uri": "https://localhost:8080/"
        },
        "id": "oLHZOKVW2t2A",
        "outputId": "c72119b9-0d79-47f2-dad7-4eb8fbbc8ada"
      },
      "execution_count": 49,
      "outputs": [
        {
          "output_type": "stream",
          "name": "stdout",
          "text": [
            "<class 'pandas.core.frame.DataFrame'>\n",
            "RangeIndex: 10204 entries, 0 to 10203\n",
            "Data columns (total 12 columns):\n",
            " #   Column             Non-Null Count  Dtype  \n",
            "---  ------             --------------  -----  \n",
            " 0   id                 10204 non-null  int64  \n",
            " 1   gender             10204 non-null  object \n",
            " 2   age                10204 non-null  float64\n",
            " 3   hypertension       10204 non-null  int64  \n",
            " 4   heart_disease      10204 non-null  int64  \n",
            " 5   ever_married       10204 non-null  object \n",
            " 6   work_type          10204 non-null  object \n",
            " 7   Residence_type     10204 non-null  object \n",
            " 8   avg_glucose_level  10204 non-null  float64\n",
            " 9   bmi                10204 non-null  float64\n",
            " 10  smoking_status     10204 non-null  object \n",
            " 11  is_synthetic       10204 non-null  int64  \n",
            "dtypes: float64(3), int64(4), object(5)\n",
            "memory usage: 956.8+ KB\n"
          ]
        }
      ]
    },
    {
      "cell_type": "code",
      "source": [
        "id_column_name = df_features_test.columns[0]\n",
        "df_kaggle_submission = pd.DataFrame()\n",
        "df_kaggle_submission[id_column_name] = df_features_test[id_column_name]\n",
        "print(df_kaggle_submission.head())"
      ],
      "metadata": {
        "id": "UWJg6T5zMyxJ",
        "colab": {
          "base_uri": "https://localhost:8080/"
        },
        "outputId": "87938872-e2a8-4c83-9e5a-28a7baa72f42"
      },
      "execution_count": 50,
      "outputs": [
        {
          "output_type": "stream",
          "name": "stdout",
          "text": [
            "      id\n",
            "0  15304\n",
            "1  15305\n",
            "2  15306\n",
            "3  15307\n",
            "4  15308\n"
          ]
        }
      ]
    },
    {
      "cell_type": "code",
      "source": [
        "# Dropping unique identifier and unnecessary features\n",
        "df_features_test.drop(columns=[id_column_name,], inplace=True)\n",
        "\n",
        "# Take a peek at the dataframe after cleaning\n",
        "print(df_features_test.head())"
      ],
      "metadata": {
        "colab": {
          "base_uri": "https://localhost:8080/"
        },
        "id": "XlyVr6H6uOhy",
        "outputId": "d2508529-fab4-4f6f-f43c-0b35c52acb96"
      },
      "execution_count": 51,
      "outputs": [
        {
          "output_type": "stream",
          "name": "stdout",
          "text": [
            "   gender   age  hypertension  heart_disease ever_married work_type  \\\n",
            "0  Female  57.0             0              0          Yes   Private   \n",
            "1    Male  70.0             1              0          Yes   Private   \n",
            "2  Female   5.0             0              0           No  children   \n",
            "3  Female  56.0             0              0          Yes  Govt_job   \n",
            "4    Male  32.0             0              0          Yes   Private   \n",
            "\n",
            "  Residence_type  avg_glucose_level   bmi smoking_status  is_synthetic  \n",
            "0          Rural              82.54  33.4   never smoked             1  \n",
            "1          Urban              72.06  28.5   never smoked             1  \n",
            "2          Urban             103.72  19.5   never smoked             1  \n",
            "3          Urban              69.24  41.4         smokes             1  \n",
            "4          Rural             111.15  30.1         smokes             1  \n"
          ]
        }
      ]
    },
    {
      "cell_type": "code",
      "source": [
        "# Finalize the test dataset for the testing activities\n",
        "tfds_test = tfdf.keras.pd_dataframe_to_tf_dataset(df_features_test, task = tfdf.keras.Task.CLASSIFICATION)"
      ],
      "metadata": {
        "id": "8oW_srf7Nlli"
      },
      "execution_count": 52,
      "outputs": []
    },
    {
      "cell_type": "code",
      "source": [
        "# Make batched predictions\n",
        "test_predictions =  final_model.predict(tfds_test)\n",
        "print(test_predictions)"
      ],
      "metadata": {
        "id": "sbwMzaYzNpTj",
        "colab": {
          "base_uri": "https://localhost:8080/"
        },
        "outputId": "c09d1cfa-c56c-44dd-93d1-fb1f74f85e44"
      },
      "execution_count": 53,
      "outputs": [
        {
          "output_type": "stream",
          "name": "stderr",
          "text": [
            "WARNING:tensorflow:5 out of the last 5 calls to <function InferenceCoreModel.make_predict_function.<locals>.predict_function_trained at 0x7f31a98aa9d0> triggered tf.function retracing. Tracing is expensive and the excessive number of tracings could be due to (1) creating @tf.function repeatedly in a loop, (2) passing tensors with different shapes, (3) passing Python objects instead of tensors. For (1), please define your @tf.function outside of the loop. For (2), @tf.function has reduce_retracing=True option that can avoid unnecessary retracing. For (3), please refer to https://www.tensorflow.org/guide/function#controlling_retracing and https://www.tensorflow.org/api_docs/python/tf/function for  more details.\n"
          ]
        },
        {
          "output_type": "stream",
          "name": "stdout",
          "text": [
            "11/11 [==============================] - 1s 52ms/step\n",
            "[[0.        ]\n",
            " [0.10666663]\n",
            " [0.        ]\n",
            " ...\n",
            " [0.        ]\n",
            " [0.        ]\n",
            " [0.        ]]\n"
          ]
        }
      ]
    },
    {
      "cell_type": "code",
      "source": [
        "df_sample_submission = pd.read_csv(SUBMISSION_TEMPLATE)\n",
        "df_sample_submission.drop(columns=[id_column_name], inplace=True)\n",
        "submission_header = list(df_sample_submission.columns)[0]\n",
        "print(submission_header)"
      ],
      "metadata": {
        "id": "_bVUHUgjNvcM",
        "colab": {
          "base_uri": "https://localhost:8080/"
        },
        "outputId": "bbb0365c-dd28-43cc-e3d9-3f8cdb0369f4"
      },
      "execution_count": 54,
      "outputs": [
        {
          "output_type": "stream",
          "name": "stdout",
          "text": [
            "stroke\n"
          ]
        }
      ]
    },
    {
      "cell_type": "code",
      "source": [
        "df_kaggle_submission[submission_header] = test_predictions\n",
        "df_kaggle_submission[submission_header] = df_kaggle_submission[submission_header]\n",
        "print(df_kaggle_submission.head())"
      ],
      "metadata": {
        "id": "QTt5mFxpN0yQ",
        "colab": {
          "base_uri": "https://localhost:8080/"
        },
        "outputId": "6f62bfa7-cd01-40d3-dc89-0f1dad3706d1"
      },
      "execution_count": 55,
      "outputs": [
        {
          "output_type": "stream",
          "name": "stdout",
          "text": [
            "      id    stroke\n",
            "0  15304  0.000000\n",
            "1  15305  0.106667\n",
            "2  15306  0.000000\n",
            "3  15307  0.066667\n",
            "4  15308  0.003333\n"
          ]
        }
      ]
    },
    {
      "cell_type": "code",
      "source": [
        "submission_file = df_kaggle_submission.to_csv(header=True, index=False)\n",
        "filename = SUBMISSION_FILE + datetime.now().strftime('%Y%m%d-%H%M') + '.csv'\n",
        "with open(filename, 'w') as f:\n",
        "    f.write(submission_file)\n",
        "    print('Completed writing output file: ' + filename)"
      ],
      "metadata": {
        "id": "xEViFboLN42g",
        "colab": {
          "base_uri": "https://localhost:8080/"
        },
        "outputId": "3dfbc637-f4c3-42db-c5a1-1b499ff648cb"
      },
      "execution_count": 56,
      "outputs": [
        {
          "output_type": "stream",
          "name": "stdout",
          "text": [
            "Completed writing output file: submission_decisionforests_20230122-2344.csv\n"
          ]
        }
      ]
    },
    {
      "cell_type": "code",
      "execution_count": 57,
      "metadata": {
        "id": "YB2v5Iq9wXjV"
      },
      "outputs": [],
      "source": [
        "if NOTIFY_STATUS: status_notify(\"Task 5 - Finalize Model and Present Analysis completed! \"+datetime.now().strftime('%a %B %d, %Y %I:%M:%S %p'))"
      ]
    },
    {
      "cell_type": "code",
      "execution_count": 58,
      "metadata": {
        "colab": {
          "base_uri": "https://localhost:8080/"
        },
        "id": "piIVF1NIwXjW",
        "outputId": "095e5d97-b914-408e-83a1-695483296667"
      },
      "outputs": [
        {
          "output_type": "stream",
          "name": "stdout",
          "text": [
            "Total time for the script: 0:00:56.890542\n"
          ]
        }
      ],
      "source": [
        "print ('Total time for the script:',(datetime.now() - start_time_script))"
      ]
    }
  ],
  "metadata": {
    "colab": {
      "provenance": []
    },
    "kernelspec": {
      "display_name": "Python 3 (ipykernel)",
      "language": "python",
      "name": "python3"
    },
    "language_info": {
      "codemirror_mode": {
        "name": "ipython",
        "version": 3
      },
      "file_extension": ".py",
      "mimetype": "text/x-python",
      "name": "python",
      "nbconvert_exporter": "python",
      "pygments_lexer": "ipython3",
      "version": "3.9.9"
    }
  },
  "nbformat": 4,
  "nbformat_minor": 0
}
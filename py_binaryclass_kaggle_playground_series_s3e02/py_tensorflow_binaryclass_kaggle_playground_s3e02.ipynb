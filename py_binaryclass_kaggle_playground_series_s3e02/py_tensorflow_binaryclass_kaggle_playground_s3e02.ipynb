{
  "cells": [
    {
      "cell_type": "markdown",
      "metadata": {
        "id": "hKFYw6W4gY4d"
      },
      "source": [
        "# Binary-Class Tabular Model for Kaggle Playground Series Season 3 Episode 2 Using Python and TensorFlow\n",
        "### David Lowe\n",
        "### January 26, 2023\n",
        "\n",
        "SUMMARY: The project aims to construct a predictive model using various machine learning algorithms and document the end-to-end steps using a template. The Kaggle Playground Series Season 3 Episode 2 dataset is a binary-class modeling situation where we attempt to predict one of two possible outcomes.\n",
        "\n",
        "INTRODUCTION: Kaggle wants to provide an approachable environment for relatively new people in their data science journey. Since January 2021, they have hosted playground-style competitions to give the Kaggle community a variety of reasonably lightweight challenges that can be used to learn and sharpen skills in different aspects of machine learning and data science. The dataset for this competition was generated from a deep learning model trained on the Stroke Prediction Dataset. Feature distributions are close to but different from the original.\n",
        "\n",
        "ANALYSIS: The average performance of the cross-validated TensorFlow models achieved a ROC/AUC benchmark of 0.8641 after training. When we processed the test dataset with the final model, the model achieved a ROC/AUC score of 0.8742.\n",
        "\n",
        "CONCLUSION: In this iteration, TensorFlow appeared to be a suitable algorithm for modeling this dataset.\n",
        "\n",
        "Dataset Used: Playground Series Season 3, Episode 2\n",
        "\n",
        "Dataset ML Model: Binary-Class classification with numerical and categorical features\n",
        "\n",
        "Dataset Reference: https://www.kaggle.com/competitions/playground-series-s3e2\n",
        "\n",
        "One source of potential performance benchmarks: https://www.kaggle.com/competitions/playground-series-s3e2/leaderboard"
      ]
    },
    {
      "cell_type": "markdown",
      "metadata": {
        "id": "7WDbRM3ngY4g"
      },
      "source": [
        "## Task 1 - Prepare Environment"
      ]
    },
    {
      "cell_type": "code",
      "execution_count": 1,
      "metadata": {
        "colab": {
          "base_uri": "https://localhost:8080/"
        },
        "id": "RtGN_DBigY4h",
        "outputId": "8ed45370-854e-4878-d209-4da664fe26a8"
      },
      "outputs": [
        {
          "output_type": "stream",
          "name": "stdout",
          "text": [
            "Mon Jan 23 18:01:45 2023       \n",
            "+-----------------------------------------------------------------------------+\n",
            "| NVIDIA-SMI 460.32.03    Driver Version: 460.32.03    CUDA Version: 11.2     |\n",
            "|-------------------------------+----------------------+----------------------+\n",
            "| GPU  Name        Persistence-M| Bus-Id        Disp.A | Volatile Uncorr. ECC |\n",
            "| Fan  Temp  Perf  Pwr:Usage/Cap|         Memory-Usage | GPU-Util  Compute M. |\n",
            "|                               |                      |               MIG M. |\n",
            "|===============================+======================+======================|\n",
            "|   0  A100-SXM4-40GB      Off  | 00000000:00:04.0 Off |                    0 |\n",
            "| N/A   32C    P0    52W / 400W |      0MiB / 40536MiB |      0%      Default |\n",
            "|                               |                      |             Disabled |\n",
            "+-------------------------------+----------------------+----------------------+\n",
            "                                                                               \n",
            "+-----------------------------------------------------------------------------+\n",
            "| Processes:                                                                  |\n",
            "|  GPU   GI   CI        PID   Type   Process name                  GPU Memory |\n",
            "|        ID   ID                                                   Usage      |\n",
            "|=============================================================================|\n",
            "|  No running processes found                                                 |\n",
            "+-----------------------------------------------------------------------------+\n"
          ]
        }
      ],
      "source": [
        "# Retrieve the GPU information\n",
        "gpu_info = !nvidia-smi\n",
        "gpu_info = '\\n'.join(gpu_info)\n",
        "print(gpu_info)"
      ]
    },
    {
      "cell_type": "code",
      "execution_count": 2,
      "metadata": {
        "colab": {
          "base_uri": "https://localhost:8080/"
        },
        "id": "-IfKhGIQgY4i",
        "outputId": "dd56a04d-8eca-4ab4-d480-af9bc04857d5"
      },
      "outputs": [
        {
          "output_type": "stream",
          "name": "stdout",
          "text": [
            "Your runtime has 89.6 gigabytes of available RAM\n",
            "\n"
          ]
        }
      ],
      "source": [
        "# Retrieve the memory configuration\n",
        "from psutil import virtual_memory\n",
        "ram_gb = virtual_memory().total / 1e9\n",
        "print('Your runtime has {:.1f} gigabytes of available RAM\\n'.format(ram_gb))"
      ]
    },
    {
      "cell_type": "code",
      "execution_count": 3,
      "metadata": {
        "colab": {
          "base_uri": "https://localhost:8080/"
        },
        "id": "sTaqGHqFgY4i",
        "outputId": "757183c6-b08c-477f-88e4-2452c5fe9fca"
      },
      "outputs": [
        {
          "output_type": "stream",
          "name": "stdout",
          "text": [
            "The number of available CPUs is: 12\n"
          ]
        }
      ],
      "source": [
        "# Retrieve the CPU information\n",
        "ncpu = !nproc\n",
        "print(\"The number of available CPUs is:\", ncpu[0])"
      ]
    },
    {
      "cell_type": "markdown",
      "metadata": {
        "id": "1zXMlvJvgY4i"
      },
      "source": [
        "### 1.a) Load libraries and modules"
      ]
    },
    {
      "cell_type": "code",
      "execution_count": 4,
      "metadata": {
        "id": "09YBLSzegY4j"
      },
      "outputs": [],
      "source": [
        "# Set the random seed number for reproducible results\n",
        "RNG_SEED = 888"
      ]
    },
    {
      "cell_type": "code",
      "execution_count": 5,
      "metadata": {
        "id": "8m3TY4ejgY4j"
      },
      "outputs": [],
      "source": [
        "import random\n",
        "random.seed(RNG_SEED)\n",
        "import numpy as np\n",
        "np.random.seed(RNG_SEED)\n",
        "import pandas as pd\n",
        "import seaborn as sns\n",
        "import matplotlib.pyplot as plt\n",
        "import os\n",
        "import sys\n",
        "import math\n",
        "# import boto3\n",
        "import zipfile\n",
        "import urllib\n",
        "from datetime import datetime\n",
        "from sklearn import preprocessing\n",
        "from sklearn.model_selection import train_test_split\n",
        "from sklearn.model_selection import RepeatedKFold\n",
        "from sklearn.model_selection import cross_val_score\n",
        "from sklearn.metrics import classification_report\n",
        "from sklearn.metrics import confusion_matrix\n",
        "from sklearn.metrics import accuracy_score\n",
        "from sklearn.pipeline import Pipeline\n",
        "from sklearn import compose\n",
        "from sklearn import impute\n",
        "\n",
        "# from sklearn.feature_selection import RFE\n",
        "# from imblearn.pipeline import Pipeline\n",
        "# from imblearn.over_sampling import SMOTE\n",
        "# from imblearn.under_sampling import RandomUnderSampler\n",
        "\n",
        "import tensorflow as tf\n",
        "tf.random.set_seed(RNG_SEED)\n",
        "from tensorflow import keras\n",
        "from tensorflow.keras.callbacks import ReduceLROnPlateau"
      ]
    },
    {
      "cell_type": "markdown",
      "metadata": {
        "id": "wMacKxMQgY4k"
      },
      "source": [
        "### 1.b) Set up the controlling parameters and functions"
      ]
    },
    {
      "cell_type": "code",
      "execution_count": 6,
      "metadata": {
        "id": "ntUrjbA1gY4k"
      },
      "outputs": [],
      "source": [
        "# Begin the timer for the script processing\n",
        "START_TIME_SCRIPT = datetime.now()"
      ]
    },
    {
      "cell_type": "code",
      "execution_count": 7,
      "metadata": {
        "colab": {
          "base_uri": "https://localhost:8080/"
        },
        "id": "kP6lFEdKgY4k",
        "outputId": "c0e49a5c-4366-4405-caf0-808bc121f362"
      },
      "outputs": [
        {
          "output_type": "stream",
          "name": "stdout",
          "text": [
            "Num GPUs Available: 1\n",
            "TensorFlow version: 2.9.2\n"
          ]
        }
      ],
      "source": [
        "# Set up the number of CPU cores available for multi-thread processing\n",
        "N_JOBS = 1\n",
        "\n",
        "# Set up the flag to stop sending progress emails (setting to True will send status emails!)\n",
        "NOTIFY_STATUS = False\n",
        "\n",
        "# Set the percentage sizes for splitting the dataset\n",
        "TEST_SET_RATIO = 0.1\n",
        "VAL_SET_RATIO = 0.1\n",
        "\n",
        "# Set the name for the class/label column\n",
        "ORIGINAL_LABEL = 'stroke'\n",
        "CLASS_COLUMN = 'target'\n",
        "\n",
        "# Set the number of folds for cross validation\n",
        "N_FOLDS = 5\n",
        "N_ITERATIONS = 1\n",
        "\n",
        "# Set various default modeling parameters\n",
        "DEFAULT_LOSS = 'binary_crossentropy'\n",
        "DEFAULT_METRICS = [tf.keras.metrics.AUC()]\n",
        "DEFAULT_OPTIMIZER = tf.keras.optimizers.Adam(learning_rate=0.00001)\n",
        "CLASSIFIER_ACTIVATION = 'sigmoid'\n",
        "MAX_EPOCHS = 10\n",
        "BATCH_SIZE = 32\n",
        "NUM_CLASSES = 1\n",
        "\n",
        "# Define the labels to use for graphing the data\n",
        "TRAIN_METRIC = \"auc\"\n",
        "VALIDATION_METRIC = \"val_auc\"\n",
        "TRAIN_LOSS = \"loss\"\n",
        "VALIDATION_LOSS = \"val_loss\"\n",
        "\n",
        "# Define the directory locations and file names\n",
        "ORIGINAL_DATASET = 'https://dainesanalytics.com/datasets/kaggle-playground-series-s3e02/healthcare-dataset-stroke-data.csv'\n",
        "TRAIN_DATASET = 'https://dainesanalytics.com/datasets/kaggle-playground-series-s3e02/train.csv'\n",
        "TEST_DATASET = 'https://dainesanalytics.com/datasets/kaggle-playground-series-s3e02/test.csv'\n",
        "SUBMISSION_TEMPLATE = 'https://dainesanalytics.com/datasets/kaggle-playground-series-s3e02/sample_submission.csv'\n",
        "SUBMISSION_FILE = 'submission_tensorflow_'\n",
        "\n",
        "# Check the number of GPUs accessible through TensorFlow\n",
        "print('Num GPUs Available:', len(tf.config.list_physical_devices('GPU')))\n",
        "\n",
        "# Print out the TensorFlow version for confirmation\n",
        "print('TensorFlow version:', tf.__version__)"
      ]
    },
    {
      "cell_type": "code",
      "execution_count": 8,
      "metadata": {
        "id": "oE038Z2TgY4l"
      },
      "outputs": [],
      "source": [
        "# Set up the email notification function\n",
        "def status_notify(msg_text):\n",
        "    access_key = os.environ.get('SNS_ACCESS_KEY')\n",
        "    secret_key = os.environ.get('SNS_SECRET_KEY')\n",
        "    aws_region = os.environ.get('SNS_AWS_REGION')\n",
        "    topic_arn = os.environ.get('SNS_TOPIC_ARN')\n",
        "    if (access_key is None) or (secret_key is None) or (aws_region is None):\n",
        "        sys.exit(\"Incomplete notification setup info. Script Processing Aborted!!!\")\n",
        "    sns = boto3.client('sns', aws_access_key_id=access_key, aws_secret_access_key=secret_key, region_name=aws_region)\n",
        "    response = sns.publish(TopicArn=topic_arn, Message=msg_text)\n",
        "    if response['ResponseMetadata']['HTTPStatusCode'] != 200 :\n",
        "        print('Status notification not OK with HTTP status code:', response['ResponseMetadata']['HTTPStatusCode'])"
      ]
    },
    {
      "cell_type": "code",
      "execution_count": 9,
      "metadata": {
        "id": "66-8fHgpgY4l"
      },
      "outputs": [],
      "source": [
        "if NOTIFY_STATUS: status_notify(\"Task 1 - Prepare Environment has begun! \" + datetime.now().strftime('%a %B %d, %Y %I:%M:%S %p'))"
      ]
    },
    {
      "cell_type": "markdown",
      "metadata": {
        "id": "PIVj6K8vgY4m"
      },
      "source": [
        "### 1.c) Load dataset"
      ]
    },
    {
      "cell_type": "code",
      "execution_count": 10,
      "metadata": {
        "colab": {
          "base_uri": "https://localhost:8080/"
        },
        "id": "wPHVBtrigY4m",
        "outputId": "0ad3b286-bef0-416e-d525-bcc73356ffdb"
      },
      "outputs": [
        {
          "output_type": "stream",
          "name": "stdout",
          "text": [
            "   id  gender   age  hypertension  heart_disease ever_married work_type  \\\n",
            "0   0    Male  28.0             0              0          Yes   Private   \n",
            "1   1    Male  33.0             0              0          Yes   Private   \n",
            "2   2  Female  42.0             0              0          Yes   Private   \n",
            "3   3    Male  56.0             0              0          Yes   Private   \n",
            "4   4  Female  24.0             0              0           No   Private   \n",
            "\n",
            "  Residence_type  avg_glucose_level   bmi   smoking_status  stroke  \n",
            "0          Urban              79.53  31.1     never smoked       0  \n",
            "1          Rural              78.44  23.9  formerly smoked       0  \n",
            "2          Rural             103.00  40.3          Unknown       0  \n",
            "3          Urban              64.87  28.8     never smoked       0  \n",
            "4          Rural              73.36  28.8     never smoked       0  \n"
          ]
        }
      ],
      "source": [
        "df_dataset_import = pd.read_csv(TRAIN_DATASET)\n",
        "\n",
        "# Take a peek at the dataframe after import\n",
        "print(df_dataset_import.head())"
      ]
    },
    {
      "cell_type": "code",
      "execution_count": 11,
      "metadata": {
        "colab": {
          "base_uri": "https://localhost:8080/"
        },
        "id": "RU6ZZVXkgY4m",
        "outputId": "3ab627b2-5929-4cb9-d781-3514b035b40e"
      },
      "outputs": [
        {
          "output_type": "stream",
          "name": "stdout",
          "text": [
            "<class 'pandas.core.frame.DataFrame'>\n",
            "RangeIndex: 15304 entries, 0 to 15303\n",
            "Data columns (total 12 columns):\n",
            " #   Column             Non-Null Count  Dtype  \n",
            "---  ------             --------------  -----  \n",
            " 0   id                 15304 non-null  int64  \n",
            " 1   gender             15304 non-null  object \n",
            " 2   age                15304 non-null  float64\n",
            " 3   hypertension       15304 non-null  int64  \n",
            " 4   heart_disease      15304 non-null  int64  \n",
            " 5   ever_married       15304 non-null  object \n",
            " 6   work_type          15304 non-null  object \n",
            " 7   Residence_type     15304 non-null  object \n",
            " 8   avg_glucose_level  15304 non-null  float64\n",
            " 9   bmi                15304 non-null  float64\n",
            " 10  smoking_status     15304 non-null  object \n",
            " 11  stroke             15304 non-null  int64  \n",
            "dtypes: float64(3), int64(4), object(5)\n",
            "memory usage: 1.4+ MB\n"
          ]
        }
      ],
      "source": [
        "df_dataset_import.info(verbose=True)"
      ]
    },
    {
      "cell_type": "code",
      "execution_count": 12,
      "metadata": {
        "colab": {
          "base_uri": "https://localhost:8080/"
        },
        "id": "vVby0_N1gY4n",
        "outputId": "80e1eb15-5b90-44e4-e2f0-78700aadf342"
      },
      "outputs": [
        {
          "output_type": "stream",
          "name": "stdout",
          "text": [
            "                 id           age  hypertension  heart_disease  \\\n",
            "count  15304.000000  15304.000000  15304.000000   15304.000000   \n",
            "mean    7651.500000     41.417708      0.049726       0.023327   \n",
            "std     4418.028595     21.444673      0.217384       0.150946   \n",
            "min        0.000000      0.080000      0.000000       0.000000   \n",
            "25%     3825.750000     26.000000      0.000000       0.000000   \n",
            "50%     7651.500000     43.000000      0.000000       0.000000   \n",
            "75%    11477.250000     57.000000      0.000000       0.000000   \n",
            "max    15303.000000     82.000000      1.000000       1.000000   \n",
            "\n",
            "       avg_glucose_level           bmi        stroke  \n",
            "count       15304.000000  15304.000000  15304.000000  \n",
            "mean           89.039853     28.112721      0.041296  \n",
            "std            25.476102      6.722315      0.198981  \n",
            "min            55.220000     10.300000      0.000000  \n",
            "25%            74.900000     23.500000      0.000000  \n",
            "50%            85.120000     27.600000      0.000000  \n",
            "75%            96.980000     32.000000      0.000000  \n",
            "max           267.600000     80.100000      1.000000  \n"
          ]
        }
      ],
      "source": [
        "print(df_dataset_import.describe())"
      ]
    },
    {
      "cell_type": "code",
      "execution_count": 13,
      "metadata": {
        "colab": {
          "base_uri": "https://localhost:8080/"
        },
        "id": "TB-d2RodgY4n",
        "outputId": "b23222bc-9aeb-42d0-a745-5554949c0bee"
      },
      "outputs": [
        {
          "output_type": "stream",
          "name": "stdout",
          "text": [
            "id                   0\n",
            "gender               0\n",
            "age                  0\n",
            "hypertension         0\n",
            "heart_disease        0\n",
            "ever_married         0\n",
            "work_type            0\n",
            "Residence_type       0\n",
            "avg_glucose_level    0\n",
            "bmi                  0\n",
            "smoking_status       0\n",
            "stroke               0\n",
            "dtype: int64\n",
            "Total number of NaN in the dataframe:  0\n"
          ]
        }
      ],
      "source": [
        "print(df_dataset_import.isnull().sum())\n",
        "print('Total number of NaN in the dataframe: ', df_dataset_import.isnull().sum().sum())"
      ]
    },
    {
      "cell_type": "code",
      "execution_count": 14,
      "metadata": {
        "colab": {
          "base_uri": "https://localhost:8080/"
        },
        "id": "63nj6FrtgY4n",
        "outputId": "b0e95cc3-3021-4c1a-d6d3-e2e20b741b3b"
      },
      "outputs": [
        {
          "output_type": "stream",
          "name": "stdout",
          "text": [
            "stroke\n",
            "0    14672\n",
            "1      632\n",
            "dtype: int64\n"
          ]
        }
      ],
      "source": [
        "# Get grouping size for the target variable\n",
        "print(df_dataset_import.groupby(ORIGINAL_LABEL).size())"
      ]
    },
    {
      "cell_type": "markdown",
      "metadata": {
        "id": "xrFRVRBygY4n"
      },
      "source": [
        "### 1.d) Data Cleaning"
      ]
    },
    {
      "cell_type": "code",
      "source": [
        "# Fetch the original dataset and use it to supplement the training\n",
        "df_dataset_original = pd.read_csv(ORIGINAL_DATASET)\n",
        "df_dataset_original['is_synthetic'] = 0\n",
        "\n",
        "# Take a peek at the dataframe after import\n",
        "print(df_dataset_original.head())"
      ],
      "metadata": {
        "id": "6rVTMqovyDyQ",
        "colab": {
          "base_uri": "https://localhost:8080/"
        },
        "outputId": "38939474-8ac0-4662-b7c5-5e2f9ed903a1"
      },
      "execution_count": 15,
      "outputs": [
        {
          "output_type": "stream",
          "name": "stdout",
          "text": [
            "      id  gender   age  hypertension  heart_disease ever_married  \\\n",
            "0   9046    Male  67.0             0              1          Yes   \n",
            "1  51676  Female  61.0             0              0          Yes   \n",
            "2  31112    Male  80.0             0              1          Yes   \n",
            "3  60182  Female  49.0             0              0          Yes   \n",
            "4   1665  Female  79.0             1              0          Yes   \n",
            "\n",
            "       work_type Residence_type  avg_glucose_level   bmi   smoking_status  \\\n",
            "0        Private          Urban             228.69  36.6  formerly smoked   \n",
            "1  Self-employed          Rural             202.21   NaN     never smoked   \n",
            "2        Private          Rural             105.92  32.5     never smoked   \n",
            "3        Private          Urban             171.23  34.4           smokes   \n",
            "4  Self-employed          Rural             174.12  24.0     never smoked   \n",
            "\n",
            "   stroke  is_synthetic  \n",
            "0       1             0  \n",
            "1       1             0  \n",
            "2       1             0  \n",
            "3       1             0  \n",
            "4       1             0  \n"
          ]
        }
      ]
    },
    {
      "cell_type": "code",
      "source": [
        "df_dataset_original.info(verbose=True)"
      ],
      "metadata": {
        "colab": {
          "base_uri": "https://localhost:8080/"
        },
        "id": "3vCc-D5lrSjJ",
        "outputId": "af1ecf2e-d797-4c36-8abd-fa3effa5c49b"
      },
      "execution_count": 16,
      "outputs": [
        {
          "output_type": "stream",
          "name": "stdout",
          "text": [
            "<class 'pandas.core.frame.DataFrame'>\n",
            "RangeIndex: 5110 entries, 0 to 5109\n",
            "Data columns (total 13 columns):\n",
            " #   Column             Non-Null Count  Dtype  \n",
            "---  ------             --------------  -----  \n",
            " 0   id                 5110 non-null   int64  \n",
            " 1   gender             5110 non-null   object \n",
            " 2   age                5110 non-null   float64\n",
            " 3   hypertension       5110 non-null   int64  \n",
            " 4   heart_disease      5110 non-null   int64  \n",
            " 5   ever_married       5110 non-null   object \n",
            " 6   work_type          5110 non-null   object \n",
            " 7   Residence_type     5110 non-null   object \n",
            " 8   avg_glucose_level  5110 non-null   float64\n",
            " 9   bmi                4909 non-null   float64\n",
            " 10  smoking_status     5110 non-null   object \n",
            " 11  stroke             5110 non-null   int64  \n",
            " 12  is_synthetic       5110 non-null   int64  \n",
            "dtypes: float64(3), int64(5), object(5)\n",
            "memory usage: 519.1+ KB\n"
          ]
        }
      ]
    },
    {
      "cell_type": "code",
      "source": [
        "# Combine the original and synthetic datasets into one training dataset\n",
        "df_dataset_import['is_synthetic'] = 1\n",
        "\n",
        "df_dataset_import = pd.concat([df_dataset_import, df_dataset_original],\n",
        "                              ignore_index=True)\n",
        "df_dataset_import.drop(columns=['id'], inplace=True)\n",
        "\n",
        "df_dataset_import.info(verbose=True)"
      ],
      "metadata": {
        "colab": {
          "base_uri": "https://localhost:8080/"
        },
        "id": "Mjz8f-l2rSf-",
        "outputId": "f39afe24-433e-402c-9a2e-4bf1700812fc"
      },
      "execution_count": 17,
      "outputs": [
        {
          "output_type": "stream",
          "name": "stdout",
          "text": [
            "<class 'pandas.core.frame.DataFrame'>\n",
            "RangeIndex: 20414 entries, 0 to 20413\n",
            "Data columns (total 12 columns):\n",
            " #   Column             Non-Null Count  Dtype  \n",
            "---  ------             --------------  -----  \n",
            " 0   gender             20414 non-null  object \n",
            " 1   age                20414 non-null  float64\n",
            " 2   hypertension       20414 non-null  int64  \n",
            " 3   heart_disease      20414 non-null  int64  \n",
            " 4   ever_married       20414 non-null  object \n",
            " 5   work_type          20414 non-null  object \n",
            " 6   Residence_type     20414 non-null  object \n",
            " 7   avg_glucose_level  20414 non-null  float64\n",
            " 8   bmi                20213 non-null  float64\n",
            " 9   smoking_status     20414 non-null  object \n",
            " 10  stroke             20414 non-null  int64  \n",
            " 11  is_synthetic       20414 non-null  int64  \n",
            "dtypes: float64(3), int64(4), object(5)\n",
            "memory usage: 1.9+ MB\n"
          ]
        }
      ]
    },
    {
      "cell_type": "code",
      "source": [
        "def clean_gender(target_col):\n",
        "    # print(target_col)\n",
        "    if target_col == 'Other':\n",
        "        return 'Male'\n",
        "    else:\n",
        "        return target_col\n",
        "\n",
        "def clean_smoking_status(target_col):\n",
        "    # print(target_col)\n",
        "    if target_col == 'Unknown':\n",
        "        return 'never smoked'\n",
        "    else:\n",
        "        return target_col"
      ],
      "metadata": {
        "id": "pXQpwySCrScs"
      },
      "execution_count": 18,
      "outputs": []
    },
    {
      "cell_type": "code",
      "source": [
        "# Standardize the class column to the name of targetVar if required\n",
        "df_dataset_import = df_dataset_import.rename(columns={ORIGINAL_LABEL: CLASS_COLUMN})\n",
        "\n",
        "# Fill in some missing fields with the most common values\n",
        "df_dataset_import['gender'] = df_dataset_import['gender'].apply(clean_gender)\n",
        "df_dataset_import['smoking_status'] = df_dataset_import['smoking_status'].apply(clean_smoking_status)\n",
        "\n",
        "# Take a peek at the dataframe after cleaning\n",
        "print(df_dataset_import.head())\n",
        "print(df_dataset_import.tail())"
      ],
      "metadata": {
        "colab": {
          "base_uri": "https://localhost:8080/"
        },
        "id": "5sEalPc3rSZT",
        "outputId": "bd5b8d25-219c-448c-f058-d3d9c14fc613"
      },
      "execution_count": 19,
      "outputs": [
        {
          "output_type": "stream",
          "name": "stdout",
          "text": [
            "   gender   age  hypertension  heart_disease ever_married work_type  \\\n",
            "0    Male  28.0             0              0          Yes   Private   \n",
            "1    Male  33.0             0              0          Yes   Private   \n",
            "2  Female  42.0             0              0          Yes   Private   \n",
            "3    Male  56.0             0              0          Yes   Private   \n",
            "4  Female  24.0             0              0           No   Private   \n",
            "\n",
            "  Residence_type  avg_glucose_level   bmi   smoking_status  target  \\\n",
            "0          Urban              79.53  31.1     never smoked       0   \n",
            "1          Rural              78.44  23.9  formerly smoked       0   \n",
            "2          Rural             103.00  40.3     never smoked       0   \n",
            "3          Urban              64.87  28.8     never smoked       0   \n",
            "4          Rural              73.36  28.8     never smoked       0   \n",
            "\n",
            "   is_synthetic  \n",
            "0             1  \n",
            "1             1  \n",
            "2             1  \n",
            "3             1  \n",
            "4             1  \n",
            "       gender   age  hypertension  heart_disease ever_married      work_type  \\\n",
            "20409  Female  80.0             1              0          Yes        Private   \n",
            "20410  Female  81.0             0              0          Yes  Self-employed   \n",
            "20411  Female  35.0             0              0          Yes  Self-employed   \n",
            "20412    Male  51.0             0              0          Yes        Private   \n",
            "20413  Female  44.0             0              0          Yes       Govt_job   \n",
            "\n",
            "      Residence_type  avg_glucose_level   bmi   smoking_status  target  \\\n",
            "20409          Urban              83.75   NaN     never smoked       0   \n",
            "20410          Urban             125.20  40.0     never smoked       0   \n",
            "20411          Rural              82.99  30.6     never smoked       0   \n",
            "20412          Rural             166.29  25.6  formerly smoked       0   \n",
            "20413          Urban              85.28  26.2     never smoked       0   \n",
            "\n",
            "       is_synthetic  \n",
            "20409             0  \n",
            "20410             0  \n",
            "20411             0  \n",
            "20412             0  \n",
            "20413             0  \n"
          ]
        }
      ]
    },
    {
      "cell_type": "code",
      "execution_count": 20,
      "metadata": {
        "colab": {
          "base_uri": "https://localhost:8080/"
        },
        "id": "yVWY15q4gY4n",
        "outputId": "9ad7101a-5a93-4032-9776-a17cd75c9ba4"
      },
      "outputs": [
        {
          "output_type": "stream",
          "name": "stdout",
          "text": [
            "<class 'pandas.core.frame.DataFrame'>\n",
            "RangeIndex: 20414 entries, 0 to 20413\n",
            "Data columns (total 12 columns):\n",
            " #   Column             Non-Null Count  Dtype  \n",
            "---  ------             --------------  -----  \n",
            " 0   gender             20414 non-null  object \n",
            " 1   age                20414 non-null  float64\n",
            " 2   hypertension       20414 non-null  int64  \n",
            " 3   heart_disease      20414 non-null  int64  \n",
            " 4   ever_married       20414 non-null  object \n",
            " 5   work_type          20414 non-null  object \n",
            " 6   Residence_type     20414 non-null  object \n",
            " 7   avg_glucose_level  20414 non-null  float64\n",
            " 8   bmi                20213 non-null  float64\n",
            " 9   smoking_status     20414 non-null  object \n",
            " 10  target             20414 non-null  int64  \n",
            " 11  is_synthetic       20414 non-null  int64  \n",
            "dtypes: float64(3), int64(4), object(5)\n",
            "memory usage: 1.9+ MB\n"
          ]
        }
      ],
      "source": [
        "df_dataset_import.info(verbose=True)"
      ]
    },
    {
      "cell_type": "code",
      "execution_count": 21,
      "metadata": {
        "colab": {
          "base_uri": "https://localhost:8080/"
        },
        "id": "k6r5ZI7QgY4n",
        "outputId": "41579a52-16aa-4ec1-f905-5963485115f2"
      },
      "outputs": [
        {
          "output_type": "stream",
          "name": "stdout",
          "text": [
            "                age  hypertension  heart_disease  avg_glucose_level  \\\n",
            "count  20414.000000  20414.000000   20414.000000       20414.000000   \n",
            "mean      41.870510      0.061673       0.031008          93.322256   \n",
            "std       21.756482      0.240567       0.173344          32.476351   \n",
            "min        0.080000      0.000000       0.000000          55.120000   \n",
            "25%       25.000000      0.000000       0.000000          75.220000   \n",
            "50%       43.000000      0.000000       0.000000          86.250000   \n",
            "75%       58.000000      0.000000       0.000000          99.730000   \n",
            "max       82.000000      1.000000       1.000000         271.740000   \n",
            "\n",
            "                bmi        target  is_synthetic  \n",
            "count  20213.000000  20414.000000  20414.000000  \n",
            "mean      28.302280      0.043157      0.749682  \n",
            "std        7.021765      0.203215      0.433207  \n",
            "min       10.300000      0.000000      0.000000  \n",
            "25%       23.500000      0.000000      0.000000  \n",
            "50%       27.700000      0.000000      1.000000  \n",
            "75%       32.200000      0.000000      1.000000  \n",
            "max       97.600000      1.000000      1.000000  \n"
          ]
        }
      ],
      "source": [
        "print(df_dataset_import.describe())"
      ]
    },
    {
      "cell_type": "code",
      "execution_count": 22,
      "metadata": {
        "colab": {
          "base_uri": "https://localhost:8080/"
        },
        "id": "ELh6lb58gY4o",
        "outputId": "872c3b51-73a5-4c14-f5b4-9973be5ada2d"
      },
      "outputs": [
        {
          "output_type": "stream",
          "name": "stdout",
          "text": [
            "gender                 0\n",
            "age                    0\n",
            "hypertension           0\n",
            "heart_disease          0\n",
            "ever_married           0\n",
            "work_type              0\n",
            "Residence_type         0\n",
            "avg_glucose_level      0\n",
            "bmi                  201\n",
            "smoking_status         0\n",
            "target                 0\n",
            "is_synthetic           0\n",
            "dtype: int64\n",
            "Total number of NaN in the dataframe:  201\n"
          ]
        }
      ],
      "source": [
        "print(df_dataset_import.isnull().sum())\n",
        "print('Total number of NaN in the dataframe: ', df_dataset_import.isnull().sum().sum())"
      ]
    },
    {
      "cell_type": "code",
      "execution_count": 23,
      "metadata": {
        "colab": {
          "base_uri": "https://localhost:8080/"
        },
        "id": "uRh6ttTmgY4o",
        "outputId": "d16072e0-ea6c-4d58-e33b-983324e82287"
      },
      "outputs": [
        {
          "output_type": "stream",
          "name": "stdout",
          "text": [
            "target\n",
            "0    19533\n",
            "1      881\n",
            "dtype: int64\n"
          ]
        }
      ],
      "source": [
        "# Get grouping size for the target variable\n",
        "print(df_dataset_import.groupby(CLASS_COLUMN).size())"
      ]
    },
    {
      "cell_type": "markdown",
      "metadata": {
        "id": "qtX0hGYQgY4o"
      },
      "source": [
        "### 1.e) Splitting Data into Sets"
      ]
    },
    {
      "cell_type": "code",
      "execution_count": 24,
      "metadata": {
        "colab": {
          "base_uri": "https://localhost:8080/"
        },
        "id": "f5sZ55iggY4o",
        "outputId": "b84aa117-da6e-48f9-f1d1-f5072a24c353"
      },
      "outputs": [
        {
          "output_type": "stream",
          "name": "stdout",
          "text": [
            "df_dataset_import.shape: (20414, 12) df_features_train.shape: (20414, 11) df_target_train.shape: (20414,)\n"
          ]
        }
      ],
      "source": [
        "# Use variable total_column_count to hold the number of columns in the dataframe\n",
        "total_column_count = len(df_dataset_import.columns)\n",
        "\n",
        "# Set up variable total_feature_count for the total number of attribute columns\n",
        "total_feature_count = total_column_count-1\n",
        "\n",
        "# We create attribute-only and target-only datasets (df_features_train and df_target_train)\n",
        "df_target_train = df_dataset_import['target']\n",
        "df_features_train = df_dataset_import.drop(['target'], axis=1)\n",
        "\n",
        "print(\"df_dataset_import.shape: {} df_features_train.shape: {} df_target_train.shape: {}\".format(df_dataset_import.shape, df_features_train.shape, df_target_train.shape))"
      ]
    },
    {
      "cell_type": "markdown",
      "metadata": {
        "id": "sC8HhMFigY4o"
      },
      "source": [
        "### 1.f) Set up the parameters for data visualization"
      ]
    },
    {
      "cell_type": "code",
      "execution_count": 25,
      "metadata": {
        "id": "tpHSlWMAgY4o"
      },
      "outputs": [],
      "source": [
        "# Set up the number of row and columns for visualization display. display_rows * display_columns should be >= total_feature_count\n",
        "display_columns = 4\n",
        "if total_feature_count % display_columns == 0 :\n",
        "    display_rows = total_feature_count // display_columns\n",
        "else :\n",
        "    display_rows = (total_feature_count // display_columns) + 1\n",
        "\n",
        "# Set figure width to display the data visualization plots\n",
        "fig_size = plt.rcParams[\"figure.figsize\"]\n",
        "fig_size[0] = display_columns * 4\n",
        "fig_size[1] = display_rows * 4\n",
        "plt.rcParams[\"figure.figsize\"] = fig_size"
      ]
    },
    {
      "cell_type": "code",
      "execution_count": 26,
      "metadata": {
        "id": "-xmhKicRgY4o"
      },
      "outputs": [],
      "source": [
        "if NOTIFY_STATUS: status_notify(\"Task 1 - Prepare Environment completed! \" + datetime.now().strftime('%a %B %d, %Y %I:%M:%S %p'))"
      ]
    },
    {
      "cell_type": "markdown",
      "metadata": {
        "id": "ZY_jdG1KgY4o"
      },
      "source": [
        "## Task 2 - Summarize and Visualize Data"
      ]
    },
    {
      "cell_type": "code",
      "execution_count": 27,
      "metadata": {
        "id": "Zb7SXyiKgY4p"
      },
      "outputs": [],
      "source": [
        "if NOTIFY_STATUS: status_notify(\"Task 2 - Summarize and Visualize Data has begun! \" + datetime.now().strftime('%a %B %d, %Y %I:%M:%S %p'))"
      ]
    },
    {
      "cell_type": "code",
      "execution_count": 28,
      "metadata": {
        "colab": {
          "base_uri": "https://localhost:8080/",
          "height": 471
        },
        "id": "95yn8aQcgY4p",
        "outputId": "6c2284f8-52fc-4c13-b0bc-5c4053985a4e"
      },
      "outputs": [
        {
          "output_type": "display_data",
          "data": {
            "text/plain": [
              "<Figure size 1152x864 with 12 Axes>"
            ],
            "image/png": "[encoded data removed]"
          },
          "metadata": {
            "needs_background": "light"
          }
        }
      ],
      "source": [
        "# Box and Whisker plot for each attribute\n",
        "df_features_train.plot(kind='box', subplots=True, layout=(display_rows, display_columns))\n",
        "plt.show()"
      ]
    },
    {
      "cell_type": "code",
      "execution_count": 29,
      "metadata": {
        "id": "Pm7hPV1ygY4p",
        "colab": {
          "base_uri": "https://localhost:8080/",
          "height": 1000
        },
        "outputId": "907de901-0bf2-48ff-fbbb-1dfaeb767031"
      },
      "outputs": [
        {
          "output_type": "display_data",
          "data": {
            "text/plain": [
              "<Figure size 1440x1440 with 2 Axes>"
            ],
            "image/png": "[encoded data removed]"
          },
          "metadata": {
            "needs_background": "light"
          }
        }
      ],
      "source": [
        "# Correlation matrix\n",
        "fig = plt.figure(figsize=(20, 20))\n",
        "correlations = df_features_train.corr(method='pearson')\n",
        "sns.heatmap(correlations, annot=True, cmap=plt.cm.PuBu)\n",
        "plt.show()"
      ]
    },
    {
      "cell_type": "code",
      "execution_count": 30,
      "metadata": {
        "id": "hhpsOaR8gY4p"
      },
      "outputs": [],
      "source": [
        "if NOTIFY_STATUS: status_notify(\"Task 2 - Summarize and Visualize Data completed! \" + datetime.now().strftime('%a %B %d, %Y %I:%M:%S %p'))"
      ]
    },
    {
      "cell_type": "markdown",
      "metadata": {
        "id": "Na89zUHsgY4p"
      },
      "source": [
        "## Task 3 - Pre-process Data"
      ]
    },
    {
      "cell_type": "code",
      "execution_count": 31,
      "metadata": {
        "id": "UcBkrlDsgY4p"
      },
      "outputs": [],
      "source": [
        "if NOTIFY_STATUS: status_notify(\"Task 3 - Pre-process Data has begun! \" + datetime.now().strftime('%a %B %d, %Y %I:%M:%S %p'))"
      ]
    },
    {
      "cell_type": "markdown",
      "metadata": {
        "id": "wWpp40QLgY4p"
      },
      "source": [
        "### 3.a) Feature Scaling"
      ]
    },
    {
      "cell_type": "code",
      "execution_count": 32,
      "metadata": {
        "colab": {
          "base_uri": "https://localhost:8080/"
        },
        "id": "Y5Tr664fgY4p",
        "outputId": "59c9562a-6b02-4bff-cb9a-9fa5d8bb1a75"
      },
      "outputs": [
        {
          "output_type": "stream",
          "name": "stdout",
          "text": [
            "Number of numerical columns: 6\n",
            "Number of categorical columns: 5\n",
            "Total number of columns in the feature dataframe: 11\n"
          ]
        }
      ],
      "source": [
        "# Compose pipeline for the numerical and categorical features (Block #1 of 2)\n",
        "numeric_columns = df_features_train.select_dtypes(include=['float','int']).columns\n",
        "numeric_transformer = Pipeline(steps=[\n",
        "    ('imputer', impute.SimpleImputer(strategy=\"median\")),\n",
        "    ('scaler', preprocessing.StandardScaler())\n",
        "])\n",
        "categorical_columns = df_features_train.select_dtypes(include=['object','bool','category']).columns\n",
        "categorical_transformer = Pipeline(steps=[\n",
        "    ('imputer', impute.SimpleImputer(strategy='constant', fill_value='UKNOWN')),\n",
        "    ('onehot', preprocessing.OneHotEncoder(sparse=False, handle_unknown='ignore'))\n",
        "])\n",
        "\n",
        "print(\"Number of numerical columns:\", len(numeric_columns))\n",
        "print(\"Number of categorical columns:\", len(categorical_columns))\n",
        "print(\"Total number of columns in the feature dataframe:\", df_features_train.shape[1])"
      ]
    },
    {
      "cell_type": "code",
      "execution_count": 33,
      "metadata": {
        "colab": {
          "base_uri": "https://localhost:8080/"
        },
        "id": "ehI4QlSogY4p",
        "outputId": "2657647d-a683-48f0-8a8a-985aa5bbe27a"
      },
      "outputs": [
        {
          "output_type": "stream",
          "name": "stdout",
          "text": [
            "Transformed features from df_features_train.shape: (20414, 11) to array_features_train.shape: (20414, 20)\n"
          ]
        }
      ],
      "source": [
        "# Compose pipeline for the numerical and categorical features (Block #2 of 2)\n",
        "preprocessor = compose.ColumnTransformer(transformers=[\n",
        "    ('num', numeric_transformer, numeric_columns),\n",
        "    ('cat', categorical_transformer, categorical_columns)\n",
        "    ], remainder='passthrough')\n",
        "\n",
        "# Display the shapes of the training dataset for final inspection\n",
        "array_features_train = preprocessor.fit_transform(df_features_train)\n",
        "print(\"Transformed features from df_features_train.shape: {} to array_features_train.shape: {}\".format(df_features_train.shape, array_features_train.shape))"
      ]
    },
    {
      "cell_type": "markdown",
      "metadata": {
        "id": "rypMMNzzgY4q"
      },
      "source": [
        "### 3.b) Training Data Balancing"
      ]
    },
    {
      "cell_type": "code",
      "execution_count": 34,
      "metadata": {
        "id": "B2k0MMY-gY4q"
      },
      "outputs": [],
      "source": [
        "# Not applicable for this iteration of the project"
      ]
    },
    {
      "cell_type": "markdown",
      "metadata": {
        "id": "2LZ_O8gJgY4q"
      },
      "source": [
        "### 3.c) Feature Selection"
      ]
    },
    {
      "cell_type": "code",
      "execution_count": 35,
      "metadata": {
        "id": "Rw9Z2jHQgY4q"
      },
      "outputs": [],
      "source": [
        "# Not applicable for this iteration of the project"
      ]
    },
    {
      "cell_type": "markdown",
      "metadata": {
        "id": "yxUhP3jKgY4q"
      },
      "source": [
        "### 3.d) Display the Final Datasets for Model-Building"
      ]
    },
    {
      "cell_type": "code",
      "execution_count": 36,
      "metadata": {
        "colab": {
          "base_uri": "https://localhost:8080/"
        },
        "id": "fF3CFB8ggY4q",
        "outputId": "66f3caf0-c60a-4010-82b2-cc87b098aac0"
      },
      "outputs": [
        {
          "output_type": "stream",
          "name": "stdout",
          "text": [
            "array_features_train.shape: (20414, 20) array_target_train.shape: (20414,)\n"
          ]
        }
      ],
      "source": [
        "# Finalize the training dataset for the modeling activities\n",
        "array_target_train = df_target_train.ravel()\n",
        "print(\"array_features_train.shape: {} array_target_train.shape: {}\".format(array_features_train.shape, array_target_train.shape))"
      ]
    },
    {
      "cell_type": "code",
      "execution_count": 37,
      "metadata": {
        "id": "hbw2jg3VgY4q"
      },
      "outputs": [],
      "source": [
        "if NOTIFY_STATUS: status_notify(\"Task 3 - Pre-process Data completed! \" + datetime.now().strftime('%a %B %d, %Y %I:%M:%S %p'))"
      ]
    },
    {
      "cell_type": "markdown",
      "metadata": {
        "id": "OlGHFL9OgY4q"
      },
      "source": [
        "## Task 4 - Train and Tune Models"
      ]
    },
    {
      "cell_type": "code",
      "execution_count": 38,
      "metadata": {
        "id": "j9LvmXjFgY4q"
      },
      "outputs": [],
      "source": [
        "if NOTIFY_STATUS: status_notify(\"Task 4 - Train and Tune Models has begun! \" + datetime.now().strftime('%a %B %d, %Y %I:%M:%S %p'))"
      ]
    },
    {
      "cell_type": "markdown",
      "metadata": {
        "id": "qRysv_23gY4q"
      },
      "source": [
        "### 4.a) Set test options and evaluation metric"
      ]
    },
    {
      "cell_type": "code",
      "execution_count": 39,
      "metadata": {
        "id": "ad5r3B5bgY4q"
      },
      "outputs": [],
      "source": [
        "# Define the baseline model for benchmarking\n",
        "def create_nn_model(input_param=array_features_train.shape[1], output_param=NUM_CLASSES,\n",
        "                    layer1_nodes=4096, layer2_nodes=4096, layer3_nodes=2048, layer4_nodes=2048, layer5_nodes=1024,\n",
        "                    layer1_dropout=0, layer2_dropout=0, layer3_dropout=0, layer4_dropout=0, layer5_dropout=0,\n",
        "                    classifier_activation=CLASSIFIER_ACTIVATION, loss_param=DEFAULT_LOSS,\n",
        "                    opt_param=DEFAULT_OPTIMIZER, metrics_param=DEFAULT_METRICS):\n",
        "    nn_model = keras.Sequential([\n",
        "        keras.layers.Dense(layer1_nodes, input_shape=(input_param,), activation='relu'),\n",
        "        keras.layers.Dropout(layer1_dropout),\n",
        "        keras.layers.Dense(layer2_nodes, activation='relu'),\n",
        "        keras.layers.Dropout(layer2_dropout),\n",
        "        keras.layers.Dense(layer3_nodes, activation='relu'),\n",
        "        keras.layers.Dropout(layer3_dropout),\n",
        "        keras.layers.Dense(layer4_nodes, activation='relu'),\n",
        "        keras.layers.Dropout(layer4_dropout),\n",
        "        keras.layers.Dense(layer5_nodes, activation='relu'),\n",
        "        keras.layers.Dropout(layer5_dropout),\n",
        "        keras.layers.Dense(output_param, activation=classifier_activation)\n",
        "    ])\n",
        "    nn_model.compile(loss=loss_param, optimizer=opt_param, metrics=metrics_param)\n",
        "    return nn_model"
      ]
    },
    {
      "cell_type": "code",
      "source": [
        "# # Initialize the default model and get a baseline result\n",
        "# start_time_module = datetime.now()\n",
        "# tf.keras.utils.set_random_seed(RNG_SEED)\n",
        "# baseline_model = create_nn_model()\n",
        "# baseline_model.fit(array_features_train, array_target_train, epochs=MAX_EPOCHS, batch_size=BATCH_SIZE, verbose=1)\n",
        "# print('Total time for model fitting and cross validating:', (datetime.now() - start_time_module))"
      ],
      "metadata": {
        "id": "-fUy4l4GtQ8V"
      },
      "execution_count": 40,
      "outputs": []
    },
    {
      "cell_type": "code",
      "execution_count": 41,
      "metadata": {
        "colab": {
          "base_uri": "https://localhost:8080/"
        },
        "id": "BVUq0C7ygY4r",
        "outputId": "bc9205cf-cd6c-4e20-9d1a-72c204dafcbf"
      },
      "outputs": [
        {
          "output_type": "stream",
          "name": "stdout",
          "text": [
            "Score from iteration 1 >>> 0.8615\n",
            "Score from iteration 2 >>> 0.8527\n",
            "Score from iteration 3 >>> 0.8585\n",
            "Score from iteration 4 >>> 0.8691\n",
            "Score from iteration 5 >>> 0.8786\n",
            "Average model score from all iterations: 0.8641 (0.0090)\n",
            "Total time for model fitting and cross validating: 0:01:40.123375\n"
          ]
        }
      ],
      "source": [
        "# Initialize the default model and get a baseline result\n",
        "start_time_module = datetime.now()\n",
        "results = list()\n",
        "iteration = 0\n",
        "cv = RepeatedKFold(n_splits=N_FOLDS, n_repeats=N_ITERATIONS, random_state=RNG_SEED)\n",
        "for train_ix, val_ix in cv.split(array_features_train):\n",
        "    feature_train, feature_validation = array_features_train[train_ix], array_features_train[val_ix]\n",
        "    target_train, target_validation = array_target_train[train_ix], array_target_train[val_ix]\n",
        "    tf.keras.utils.set_random_seed(RNG_SEED)\n",
        "    baseline_model = create_nn_model()\n",
        "    baseline_model.fit(feature_train, target_train, epochs=MAX_EPOCHS, batch_size=BATCH_SIZE, verbose=0)\n",
        "    model_metric = baseline_model.evaluate(feature_validation, target_validation, verbose=0)[1]\n",
        "    iteration = iteration + 1\n",
        "    print('Score from iteration %d >>> %.4f' % (iteration, model_metric))\n",
        "    results.append(model_metric)\n",
        "validation_score = np.mean(results)\n",
        "validation_variance = np.std(results)\n",
        "print('Average model score from all iterations: %.4f (%.4f)' % (validation_score, validation_variance))\n",
        "print('Total time for model fitting and cross validating:', (datetime.now() - start_time_module))"
      ]
    },
    {
      "cell_type": "markdown",
      "metadata": {
        "id": "Fcks1-zsgY4r"
      },
      "source": [
        "### 4.b) Algorithm Tuning"
      ]
    },
    {
      "cell_type": "code",
      "execution_count": 42,
      "metadata": {
        "id": "lRob5CiUdur9"
      },
      "outputs": [],
      "source": [
        "if NOTIFY_STATUS: status_notify(\"Task 4 - Train and Tune Models has begun! \" + datetime.now().strftime('%a %B %d, %Y %I:%M:%S %p'))"
      ]
    },
    {
      "cell_type": "code",
      "execution_count": 43,
      "metadata": {
        "id": "Ab8YuMfugY4r"
      },
      "outputs": [],
      "source": [
        "# Not applicable for this iteration of modeling"
      ]
    },
    {
      "cell_type": "code",
      "execution_count": 44,
      "metadata": {
        "id": "V74FnN5ogY4r"
      },
      "outputs": [],
      "source": [
        "if NOTIFY_STATUS: status_notify(\"Task 4 - Train and Tune Models completed! \" + datetime.now().strftime('%a %B %d, %Y %I:%M:%S %p'))"
      ]
    },
    {
      "cell_type": "markdown",
      "metadata": {
        "id": "sJ5WVT3XgY4r"
      },
      "source": [
        "## Task 5 - Finalize Model and Make Predictions"
      ]
    },
    {
      "cell_type": "code",
      "execution_count": 45,
      "metadata": {
        "id": "ZPpqPFt9gY4r"
      },
      "outputs": [],
      "source": [
        "if NOTIFY_STATUS: status_notify(\"Task 5 - Finalize Model and Make Predictions has begun! \" + datetime.now().strftime('%a %B %d, %Y %I:%M:%S %p'))"
      ]
    },
    {
      "cell_type": "markdown",
      "source": [
        "### 5.a) Train the Final Model"
      ],
      "metadata": {
        "id": "eDZG6I3KzdpY"
      }
    },
    {
      "cell_type": "code",
      "execution_count": 46,
      "metadata": {
        "colab": {
          "base_uri": "https://localhost:8080/"
        },
        "id": "NB72_n-CgY4r",
        "outputId": "7b9717bb-3c3a-4bb8-cf66-397ce2e043cd"
      },
      "outputs": [
        {
          "output_type": "stream",
          "name": "stdout",
          "text": [
            "Epoch 1/10\n",
            "638/638 [==============================] - 3s 4ms/step - loss: 0.1632 - auc: 0.8135\n",
            "Epoch 2/10\n",
            "638/638 [==============================] - 3s 4ms/step - loss: 0.1346 - auc: 0.8700\n",
            "Epoch 3/10\n",
            "638/638 [==============================] - 3s 4ms/step - loss: 0.1330 - auc: 0.8766\n",
            "Epoch 4/10\n",
            "638/638 [==============================] - 3s 4ms/step - loss: 0.1324 - auc: 0.8761\n",
            "Epoch 5/10\n",
            "638/638 [==============================] - 3s 4ms/step - loss: 0.1313 - auc: 0.8804\n",
            "Epoch 6/10\n",
            "638/638 [==============================] - 3s 4ms/step - loss: 0.1315 - auc: 0.8786\n",
            "Epoch 7/10\n",
            "638/638 [==============================] - 3s 4ms/step - loss: 0.1307 - auc: 0.8799\n",
            "Epoch 8/10\n",
            "638/638 [==============================] - 3s 4ms/step - loss: 0.1296 - auc: 0.8820\n",
            "Epoch 9/10\n",
            "638/638 [==============================] - 3s 4ms/step - loss: 0.1288 - auc: 0.8853\n",
            "Epoch 10/10\n",
            "638/638 [==============================] - 3s 4ms/step - loss: 0.1284 - auc: 0.8860\n",
            "Model: \"sequential_5\"\n",
            "_________________________________________________________________\n",
            " Layer (type)                Output Shape              Param #   \n",
            "=================================================================\n",
            " dense_30 (Dense)            (None, 4096)              86016     \n",
            "                                                                 \n",
            " dropout_25 (Dropout)        (None, 4096)              0         \n",
            "                                                                 \n",
            " dense_31 (Dense)            (None, 4096)              16781312  \n",
            "                                                                 \n",
            " dropout_26 (Dropout)        (None, 4096)              0         \n",
            "                                                                 \n",
            " dense_32 (Dense)            (None, 2048)              8390656   \n",
            "                                                                 \n",
            " dropout_27 (Dropout)        (None, 2048)              0         \n",
            "                                                                 \n",
            " dense_33 (Dense)            (None, 2048)              4196352   \n",
            "                                                                 \n",
            " dropout_28 (Dropout)        (None, 2048)              0         \n",
            "                                                                 \n",
            " dense_34 (Dense)            (None, 1024)              2098176   \n",
            "                                                                 \n",
            " dropout_29 (Dropout)        (None, 1024)              0         \n",
            "                                                                 \n",
            " dense_35 (Dense)            (None, 1)                 1025      \n",
            "                                                                 \n",
            "=================================================================\n",
            "Total params: 31,553,537\n",
            "Trainable params: 31,553,537\n",
            "Non-trainable params: 0\n",
            "_________________________________________________________________\n"
          ]
        }
      ],
      "source": [
        "FINAL_OPTIMIZER = tf.keras.optimizers.Adam(learning_rate=0.00001)\n",
        "tf.keras.utils.set_random_seed(RNG_SEED)\n",
        "final_model = create_nn_model(opt_param=FINAL_OPTIMIZER)\n",
        "final_model.fit(array_features_train, array_target_train, epochs=MAX_EPOCHS, batch_size=BATCH_SIZE, verbose=1)\n",
        "final_model.summary()"
      ]
    },
    {
      "cell_type": "markdown",
      "source": [
        "### 5.b) Load Test Dataset and Make Predictions"
      ],
      "metadata": {
        "id": "lgEvffI2Mpnx"
      }
    },
    {
      "cell_type": "code",
      "source": [
        "df_features_test = pd.read_csv(TEST_DATASET)\n",
        "df_features_test['is_synthetic'] = 1\n",
        "\n",
        "# Fill in some missing fields with the most common values\n",
        "df_features_test['gender'] = df_features_test['gender'].apply(clean_gender)\n",
        "df_features_test['smoking_status'] = df_features_test['smoking_status'].apply(clean_smoking_status)\n",
        "\n",
        "# Take a peek at the dataframe after import\n",
        "print(df_features_test.head())"
      ],
      "metadata": {
        "id": "h7WgCCfHMPub",
        "colab": {
          "base_uri": "https://localhost:8080/"
        },
        "outputId": "fb174d5b-50bf-4acf-c8c5-da969c04d2c4"
      },
      "execution_count": 47,
      "outputs": [
        {
          "output_type": "stream",
          "name": "stdout",
          "text": [
            "      id  gender   age  hypertension  heart_disease ever_married work_type  \\\n",
            "0  15304  Female  57.0             0              0          Yes   Private   \n",
            "1  15305    Male  70.0             1              0          Yes   Private   \n",
            "2  15306  Female   5.0             0              0           No  children   \n",
            "3  15307  Female  56.0             0              0          Yes  Govt_job   \n",
            "4  15308    Male  32.0             0              0          Yes   Private   \n",
            "\n",
            "  Residence_type  avg_glucose_level   bmi smoking_status  is_synthetic  \n",
            "0          Rural              82.54  33.4   never smoked             1  \n",
            "1          Urban              72.06  28.5   never smoked             1  \n",
            "2          Urban             103.72  19.5   never smoked             1  \n",
            "3          Urban              69.24  41.4         smokes             1  \n",
            "4          Rural             111.15  30.1         smokes             1  \n"
          ]
        }
      ]
    },
    {
      "cell_type": "code",
      "source": [
        "df_features_test.info(verbose=True)"
      ],
      "metadata": {
        "colab": {
          "base_uri": "https://localhost:8080/"
        },
        "id": "uuCvkGhOt3W9",
        "outputId": "92375246-a964-410c-8a3a-fda9010f86e3"
      },
      "execution_count": 48,
      "outputs": [
        {
          "output_type": "stream",
          "name": "stdout",
          "text": [
            "<class 'pandas.core.frame.DataFrame'>\n",
            "RangeIndex: 10204 entries, 0 to 10203\n",
            "Data columns (total 12 columns):\n",
            " #   Column             Non-Null Count  Dtype  \n",
            "---  ------             --------------  -----  \n",
            " 0   id                 10204 non-null  int64  \n",
            " 1   gender             10204 non-null  object \n",
            " 2   age                10204 non-null  float64\n",
            " 3   hypertension       10204 non-null  int64  \n",
            " 4   heart_disease      10204 non-null  int64  \n",
            " 5   ever_married       10204 non-null  object \n",
            " 6   work_type          10204 non-null  object \n",
            " 7   Residence_type     10204 non-null  object \n",
            " 8   avg_glucose_level  10204 non-null  float64\n",
            " 9   bmi                10204 non-null  float64\n",
            " 10  smoking_status     10204 non-null  object \n",
            " 11  is_synthetic       10204 non-null  int64  \n",
            "dtypes: float64(3), int64(4), object(5)\n",
            "memory usage: 956.8+ KB\n"
          ]
        }
      ]
    },
    {
      "cell_type": "code",
      "source": [
        "id_column_name = df_features_test.columns[0]\n",
        "df_kaggle_submission = pd.DataFrame()\n",
        "df_kaggle_submission[id_column_name] = df_features_test[id_column_name]\n",
        "print(df_kaggle_submission.head())"
      ],
      "metadata": {
        "id": "UWJg6T5zMyxJ",
        "colab": {
          "base_uri": "https://localhost:8080/"
        },
        "outputId": "2f96a130-4ecd-46b5-c39e-e48a878b34b4"
      },
      "execution_count": 49,
      "outputs": [
        {
          "output_type": "stream",
          "name": "stdout",
          "text": [
            "      id\n",
            "0  15304\n",
            "1  15305\n",
            "2  15306\n",
            "3  15307\n",
            "4  15308\n"
          ]
        }
      ]
    },
    {
      "cell_type": "code",
      "source": [
        "# Dropping unique identifier and unnecessary features\n",
        "df_features_test.drop(columns=[id_column_name,], inplace=True)\n",
        "\n",
        "# Take a peek at the dataframe after cleaning\n",
        "print(df_features_test.head())"
      ],
      "metadata": {
        "id": "WnH5v-ejM8u_",
        "colab": {
          "base_uri": "https://localhost:8080/"
        },
        "outputId": "640ca0ee-a419-4a56-f0d3-11e0d631b21c"
      },
      "execution_count": 50,
      "outputs": [
        {
          "output_type": "stream",
          "name": "stdout",
          "text": [
            "   gender   age  hypertension  heart_disease ever_married work_type  \\\n",
            "0  Female  57.0             0              0          Yes   Private   \n",
            "1    Male  70.0             1              0          Yes   Private   \n",
            "2  Female   5.0             0              0           No  children   \n",
            "3  Female  56.0             0              0          Yes  Govt_job   \n",
            "4    Male  32.0             0              0          Yes   Private   \n",
            "\n",
            "  Residence_type  avg_glucose_level   bmi smoking_status  is_synthetic  \n",
            "0          Rural              82.54  33.4   never smoked             1  \n",
            "1          Urban              72.06  28.5   never smoked             1  \n",
            "2          Urban             103.72  19.5   never smoked             1  \n",
            "3          Urban              69.24  41.4         smokes             1  \n",
            "4          Rural             111.15  30.1         smokes             1  \n"
          ]
        }
      ]
    },
    {
      "cell_type": "code",
      "source": [
        "# Finalize the test dataset for the testing activities\n",
        "array_features_test = preprocessor.transform(df_features_test)\n",
        "print(\"Transformed features from df_features_test.shape: {} to array_features_test.shape: {}\".format(df_features_test.shape, array_features_test.shape))"
      ],
      "metadata": {
        "id": "8oW_srf7Nlli",
        "colab": {
          "base_uri": "https://localhost:8080/"
        },
        "outputId": "dc7673ed-bd66-45a9-ab95-aba77cf661e2"
      },
      "execution_count": 51,
      "outputs": [
        {
          "output_type": "stream",
          "name": "stdout",
          "text": [
            "Transformed features from df_features_test.shape: (10204, 11) to array_features_test.shape: (10204, 20)\n"
          ]
        }
      ]
    },
    {
      "cell_type": "code",
      "source": [
        "# Make batched predictions\n",
        "test_predictions =  final_model.predict(array_features_test)\n",
        "print(test_predictions)"
      ],
      "metadata": {
        "id": "sbwMzaYzNpTj",
        "colab": {
          "base_uri": "https://localhost:8080/"
        },
        "outputId": "14dce27e-67b9-4924-d7dd-98e8d88acc19"
      },
      "execution_count": 52,
      "outputs": [
        {
          "output_type": "stream",
          "name": "stdout",
          "text": [
            "319/319 [==============================] - 1s 1ms/step\n",
            "[[2.7944688e-02]\n",
            " [1.8630202e-01]\n",
            " [4.9155482e-05]\n",
            " ...\n",
            " [2.1330890e-05]\n",
            " [9.5890241e-04]\n",
            " [2.1208090e-05]]\n"
          ]
        }
      ]
    },
    {
      "cell_type": "code",
      "source": [
        "df_sample_submission = pd.read_csv(SUBMISSION_TEMPLATE)\n",
        "df_sample_submission.drop(columns=[id_column_name], inplace=True)\n",
        "submission_header = list(df_sample_submission.columns)[0]\n",
        "print(submission_header)"
      ],
      "metadata": {
        "id": "_bVUHUgjNvcM",
        "colab": {
          "base_uri": "https://localhost:8080/"
        },
        "outputId": "ba5693bc-c66b-4be9-e600-541f4d0e0847"
      },
      "execution_count": 53,
      "outputs": [
        {
          "output_type": "stream",
          "name": "stdout",
          "text": [
            "stroke\n"
          ]
        }
      ]
    },
    {
      "cell_type": "code",
      "source": [
        "df_kaggle_submission[submission_header] = test_predictions\n",
        "df_kaggle_submission[submission_header] = df_kaggle_submission[submission_header]\n",
        "print(df_kaggle_submission.head())"
      ],
      "metadata": {
        "id": "QTt5mFxpN0yQ",
        "colab": {
          "base_uri": "https://localhost:8080/"
        },
        "outputId": "fb042861-59cc-4258-86ff-85fb4a6695ec"
      },
      "execution_count": 54,
      "outputs": [
        {
          "output_type": "stream",
          "name": "stdout",
          "text": [
            "      id    stroke\n",
            "0  15304  0.027945\n",
            "1  15305  0.186302\n",
            "2  15306  0.000049\n",
            "3  15307  0.061502\n",
            "4  15308  0.004792\n"
          ]
        }
      ]
    },
    {
      "cell_type": "code",
      "source": [
        "submission_file = df_kaggle_submission.to_csv(header=True, index=False)\n",
        "filename = SUBMISSION_FILE + datetime.now().strftime('%Y%m%d-%H%M') + '.csv'\n",
        "with open(filename, 'w') as f:\n",
        "    f.write(submission_file)\n",
        "    print('Completed writing output file: ' + filename)"
      ],
      "metadata": {
        "id": "xEViFboLN42g",
        "colab": {
          "base_uri": "https://localhost:8080/"
        },
        "outputId": "614cd4a5-e687-401d-bb24-327102c77822"
      },
      "execution_count": 55,
      "outputs": [
        {
          "output_type": "stream",
          "name": "stdout",
          "text": [
            "Completed writing output file: submission_tensorflow_20230123-1804.csv\n"
          ]
        }
      ]
    },
    {
      "cell_type": "code",
      "execution_count": 56,
      "metadata": {
        "id": "Gpl8npuFgY4s"
      },
      "outputs": [],
      "source": [
        "if NOTIFY_STATUS: status_notify(\"Task 5 - Finalize Model and Make Predictions completed! \" + datetime.now().strftime('%a %B %d, %Y %I:%M:%S %p'))"
      ]
    },
    {
      "cell_type": "code",
      "execution_count": 57,
      "metadata": {
        "colab": {
          "base_uri": "https://localhost:8080/"
        },
        "id": "25hXAXzNgY4s",
        "outputId": "ad25dc9c-65c6-4ade-f577-8554da05319a"
      },
      "outputs": [
        {
          "output_type": "stream",
          "name": "stdout",
          "text": [
            "Total time for the script: 0:02:12.367152\n"
          ]
        }
      ],
      "source": [
        "print ('Total time for the script:',(datetime.now() - START_TIME_SCRIPT))"
      ]
    }
  ],
  "metadata": {
    "accelerator": "GPU",
    "colab": {
      "provenance": []
    },
    "kernelspec": {
      "display_name": "Python 3 (ipykernel)",
      "language": "python",
      "name": "python3"
    },
    "language_info": {
      "codemirror_mode": {
        "name": "ipython",
        "version": 3
      },
      "file_extension": ".py",
      "mimetype": "text/x-python",
      "name": "python",
      "nbconvert_exporter": "python",
      "pygments_lexer": "ipython3",
      "version": "3.8.10"
    },
    "gpuClass": "premium"
  },
  "nbformat": 4,
  "nbformat_minor": 0
}
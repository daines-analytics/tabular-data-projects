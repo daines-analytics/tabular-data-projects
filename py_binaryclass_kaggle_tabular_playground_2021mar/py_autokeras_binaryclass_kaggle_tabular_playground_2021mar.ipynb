{
 "cells": [
  {
   "cell_type": "markdown",
   "metadata": {},
   "source": [
    "# Binary Classification Model for Kaggle Tabular Playground Series 2021 March Using Python and AutoKeras\n",
    "### David Lowe\n",
    "### January 10, 2022\n",
    "\n",
    "Template Credit: Adapted from a template made available by Dr. Jason Brownlee of Machine Learning Mastery. [https://machinelearningmastery.com/]\n",
    "\n",
    "SUMMARY: This project aims to construct a predictive model using various machine learning algorithms and document the end-to-end steps using a template. The Kaggle Tabular Playground Mar 2021 dataset is a binary classification situation where we attempt to predict one of the two possible outcomes.\n",
    "\n",
    "INTRODUCTION: Kaggle wants to provide an approachable environment for relatively new people in their data science journey. Since January 2021, they have hosted playground-style competitions on Kaggle with fun but less complex, tabular datasets. The dataset may be synthetic but is based on a real dataset and generated using a CTGAN. The original dataset tries to predict the amount of an insurance claim. Although the features are anonymized, they have properties relating to real-world features.\n",
    "\n",
    "ANALYSIS: After a series of tuning trials, the best AutoKeras model processed the training dataset with a ROC/AUC score of 88.06%. When we processed the test dataset with the final model, the model achieved a ROC/AUC score of 87.82%.\n",
    "\n",
    "CONCLUSION: In this iteration, the AutoKeras model appeared to be a suitable algorithm for modeling this dataset.\n",
    "\n",
    "Dataset Used: Kaggle Tabular Playground 2021 March Data Set\n",
    "\n",
    "Dataset ML Model: Binary classification with numerical and categorical attributes\n",
    "\n",
    "Dataset Reference: https://www.kaggle.com/c/tabular-playground-series-mar-2021\n",
    "\n",
    "One potential source of performance benchmark: https://www.kaggle.com/c/tabular-playground-series-mar-2021/leaderboard"
   ]
  },
  {
   "cell_type": "markdown",
   "metadata": {},
   "source": [
    "## Task 1 - Prepare Environment"
   ]
  },
  {
   "cell_type": "code",
   "execution_count": 1,
   "metadata": {},
   "outputs": [],
   "source": [
    "# # Install the necessary packages for Colab\n",
    "# !pip install python-dotenv PyMySQL"
   ]
  },
  {
   "cell_type": "code",
   "execution_count": 2,
   "metadata": {},
   "outputs": [
    {
     "name": "stdout",
     "output_type": "stream",
     "text": [
      "Sun Jan  9 18:21:47 2022       \n",
      "+-----------------------------------------------------------------------------+\n",
      "| NVIDIA-SMI 450.36.06    Driver Version: 450.36.06    CUDA Version: 11.4     |\n",
      "|-------------------------------+----------------------+----------------------+\n",
      "| GPU  Name        Persistence-M| Bus-Id        Disp.A | Volatile Uncorr. ECC |\n",
      "| Fan  Temp  Perf  Pwr:Usage/Cap|         Memory-Usage | GPU-Util  Compute M. |\n",
      "|                               |                      |               MIG M. |\n",
      "|===============================+======================+======================|\n",
      "|   0  Quadro RTX 4000     On   | 00000000:00:05.0 Off |                  N/A |\n",
      "| 30%   29C    P5    15W / 125W |      1MiB /  7982MiB |      0%      Default |\n",
      "|                               |                      |                  N/A |\n",
      "+-------------------------------+----------------------+----------------------+\n",
      "                                                                               \n",
      "+-----------------------------------------------------------------------------+\n",
      "| Processes:                                                                  |\n",
      "|  GPU   GI   CI        PID   Type   Process name                  GPU Memory |\n",
      "|        ID   ID                                                   Usage      |\n",
      "|=============================================================================|\n",
      "|  No running processes found                                                 |\n",
      "+-----------------------------------------------------------------------------+\n"
     ]
    }
   ],
   "source": [
    "# Retrieve the GPU information from Colab\n",
    "gpu_info = !nvidia-smi\n",
    "gpu_info = '\\n'.join(gpu_info)\n",
    "if gpu_info.find('failed') >= 0:\n",
    "    print('Select the Runtime → \"Change runtime type\" menu to enable a GPU accelerator, ')\n",
    "    print('and then re-execute this cell.')\n",
    "else:\n",
    "    print(gpu_info)"
   ]
  },
  {
   "cell_type": "code",
   "execution_count": 3,
   "metadata": {},
   "outputs": [
    {
     "name": "stdout",
     "output_type": "stream",
     "text": [
      "Your runtime has 31.6 gigabytes of available RAM\n",
      "\n"
     ]
    }
   ],
   "source": [
    "# Retrieve the memory configuration from Colab\n",
    "from psutil import virtual_memory\n",
    "ram_gb = virtual_memory().total / 1e9\n",
    "print('Your runtime has {:.1f} gigabytes of available RAM\\n'.format(ram_gb))"
   ]
  },
  {
   "cell_type": "code",
   "execution_count": 4,
   "metadata": {},
   "outputs": [],
   "source": [
    "# # Mount Google Drive locally for loading the dotenv files\n",
    "# from dotenv import load_dotenv\n",
    "# from google.colab import drive\n",
    "# drive.mount('/content/gdrive')\n",
    "# gdrivePrefix = '/content/gdrive/My Drive/Colab_Downloads/'\n",
    "# env_path = '/content/gdrive/My Drive/Colab Notebooks/'\n",
    "# dotenv_path = env_path + \"python_script.env\"\n",
    "# load_dotenv(dotenv_path=dotenv_path)"
   ]
  },
  {
   "cell_type": "code",
   "execution_count": 5,
   "metadata": {},
   "outputs": [
    {
     "name": "stdout",
     "output_type": "stream",
     "text": [
      "The number of available CPUs is: 8\n"
     ]
    }
   ],
   "source": [
    "# Retrieve the CPU information\n",
    "ncpu = !nproc\n",
    "print(\"The number of available CPUs is:\", ncpu[0])"
   ]
  },
  {
   "cell_type": "markdown",
   "metadata": {},
   "source": [
    "### 1.a) Load libraries and modules"
   ]
  },
  {
   "cell_type": "code",
   "execution_count": 6,
   "metadata": {},
   "outputs": [],
   "source": [
    "# Set the random seed number for reproducible results\n",
    "RNG_SEED = 888"
   ]
  },
  {
   "cell_type": "code",
   "execution_count": 7,
   "metadata": {},
   "outputs": [
    {
     "name": "stderr",
     "output_type": "stream",
     "text": [
      "2022-01-09 18:21:48.954960: I tensorflow/stream_executor/platform/default/dso_loader.cc:53] Successfully opened dynamic library libcudart.so.11.0\n"
     ]
    }
   ],
   "source": [
    "import random\n",
    "random.seed(RNG_SEED)\n",
    "import numpy as np\n",
    "np.random.seed(RNG_SEED)\n",
    "import pandas as pd\n",
    "import seaborn as sns\n",
    "import matplotlib.pyplot as plt\n",
    "import os\n",
    "import sys\n",
    "import math\n",
    "# import boto3\n",
    "from datetime import datetime\n",
    "from sklearn import preprocessing\n",
    "from sklearn.model_selection import train_test_split\n",
    "from sklearn.metrics import classification_report\n",
    "from sklearn.metrics import confusion_matrix\n",
    "from sklearn.metrics import accuracy_score\n",
    "from sklearn.metrics import roc_auc_score\n",
    "from sklearn.pipeline import Pipeline\n",
    "from sklearn import compose\n",
    "from sklearn import impute\n",
    "\n",
    "# from sklearn.feature_selection import RFE\n",
    "# from imblearn.pipeline import Pipeline\n",
    "# from imblearn.over_sampling import SMOTE\n",
    "# from imblearn.under_sampling import RandomUnderSampler\n",
    "\n",
    "import tensorflow as tf\n",
    "tf.random.set_seed(RNG_SEED)\n",
    "import keras_tuner\n",
    "import autokeras as ak"
   ]
  },
  {
   "cell_type": "markdown",
   "metadata": {},
   "source": [
    "### 1.b) Set up the controlling parameters and functions"
   ]
  },
  {
   "cell_type": "code",
   "execution_count": 8,
   "metadata": {},
   "outputs": [],
   "source": [
    "# Begin the timer for the script processing\n",
    "START_TIME_SCRIPT = datetime.now()"
   ]
  },
  {
   "cell_type": "code",
   "execution_count": 9,
   "metadata": {},
   "outputs": [
    {
     "name": "stderr",
     "output_type": "stream",
     "text": [
      "2022-01-09 18:21:50.095624: I tensorflow/stream_executor/platform/default/dso_loader.cc:53] Successfully opened dynamic library libcuda.so.1\n"
     ]
    },
    {
     "name": "stdout",
     "output_type": "stream",
     "text": [
      "Num GPUs Available: 1\n",
      "TensorFlow version: 2.5.2\n"
     ]
    },
    {
     "name": "stderr",
     "output_type": "stream",
     "text": [
      "2022-01-09 18:21:50.138242: I tensorflow/stream_executor/cuda/cuda_gpu_executor.cc:937] successful NUMA node read from SysFS had negative value (-1), but there must be at least one NUMA node, so returning NUMA node zero\n",
      "2022-01-09 18:21:50.138847: I tensorflow/core/common_runtime/gpu/gpu_device.cc:1733] Found device 0 with properties: \n",
      "pciBusID: 0000:00:05.0 name: Quadro RTX 4000 computeCapability: 7.5\n",
      "coreClock: 1.545GHz coreCount: 36 deviceMemorySize: 7.79GiB deviceMemoryBandwidth: 387.49GiB/s\n",
      "2022-01-09 18:21:50.138897: I tensorflow/stream_executor/platform/default/dso_loader.cc:53] Successfully opened dynamic library libcudart.so.11.0\n",
      "2022-01-09 18:21:50.144429: I tensorflow/stream_executor/platform/default/dso_loader.cc:53] Successfully opened dynamic library libcublas.so.11\n",
      "2022-01-09 18:21:50.144526: I tensorflow/stream_executor/platform/default/dso_loader.cc:53] Successfully opened dynamic library libcublasLt.so.11\n",
      "2022-01-09 18:21:50.147083: I tensorflow/stream_executor/platform/default/dso_loader.cc:53] Successfully opened dynamic library libcufft.so.10\n",
      "2022-01-09 18:21:50.147465: I tensorflow/stream_executor/platform/default/dso_loader.cc:53] Successfully opened dynamic library libcurand.so.10\n",
      "2022-01-09 18:21:50.148087: I tensorflow/stream_executor/platform/default/dso_loader.cc:53] Successfully opened dynamic library libcusolver.so.11\n",
      "2022-01-09 18:21:50.149177: I tensorflow/stream_executor/platform/default/dso_loader.cc:53] Successfully opened dynamic library libcusparse.so.11\n",
      "2022-01-09 18:21:50.149369: I tensorflow/stream_executor/platform/default/dso_loader.cc:53] Successfully opened dynamic library libcudnn.so.8\n",
      "2022-01-09 18:21:50.149535: I tensorflow/stream_executor/cuda/cuda_gpu_executor.cc:937] successful NUMA node read from SysFS had negative value (-1), but there must be at least one NUMA node, so returning NUMA node zero\n",
      "2022-01-09 18:21:50.150217: I tensorflow/stream_executor/cuda/cuda_gpu_executor.cc:937] successful NUMA node read from SysFS had negative value (-1), but there must be at least one NUMA node, so returning NUMA node zero\n",
      "2022-01-09 18:21:50.150764: I tensorflow/core/common_runtime/gpu/gpu_device.cc:1871] Adding visible gpu devices: 0\n",
      "2022-01-09 18:21:50.151601: I tensorflow/core/platform/cpu_feature_guard.cc:142] This TensorFlow binary is optimized with oneAPI Deep Neural Network Library (oneDNN) to use the following CPU instructions in performance-critical operations:  AVX2 FMA\n",
      "To enable them in other operations, rebuild TensorFlow with the appropriate compiler flags.\n",
      "2022-01-09 18:21:50.158383: I tensorflow/stream_executor/cuda/cuda_gpu_executor.cc:937] successful NUMA node read from SysFS had negative value (-1), but there must be at least one NUMA node, so returning NUMA node zero\n",
      "2022-01-09 18:21:50.158953: I tensorflow/core/common_runtime/gpu/gpu_device.cc:1733] Found device 0 with properties: \n",
      "pciBusID: 0000:00:05.0 name: Quadro RTX 4000 computeCapability: 7.5\n",
      "coreClock: 1.545GHz coreCount: 36 deviceMemorySize: 7.79GiB deviceMemoryBandwidth: 387.49GiB/s\n",
      "2022-01-09 18:21:50.159060: I tensorflow/stream_executor/cuda/cuda_gpu_executor.cc:937] successful NUMA node read from SysFS had negative value (-1), but there must be at least one NUMA node, so returning NUMA node zero\n",
      "2022-01-09 18:21:50.159634: I tensorflow/stream_executor/cuda/cuda_gpu_executor.cc:937] successful NUMA node read from SysFS had negative value (-1), but there must be at least one NUMA node, so returning NUMA node zero\n",
      "2022-01-09 18:21:50.160147: I tensorflow/core/common_runtime/gpu/gpu_device.cc:1871] Adding visible gpu devices: 0\n",
      "2022-01-09 18:21:50.160198: I tensorflow/stream_executor/platform/default/dso_loader.cc:53] Successfully opened dynamic library libcudart.so.11.0\n",
      "2022-01-09 18:21:51.666336: I tensorflow/core/common_runtime/gpu/gpu_device.cc:1258] Device interconnect StreamExecutor with strength 1 edge matrix:\n",
      "2022-01-09 18:21:51.666391: I tensorflow/core/common_runtime/gpu/gpu_device.cc:1264]      0 \n",
      "2022-01-09 18:21:51.666400: I tensorflow/core/common_runtime/gpu/gpu_device.cc:1277] 0:   N \n",
      "2022-01-09 18:21:51.666711: I tensorflow/stream_executor/cuda/cuda_gpu_executor.cc:937] successful NUMA node read from SysFS had negative value (-1), but there must be at least one NUMA node, so returning NUMA node zero\n",
      "2022-01-09 18:21:51.667340: I tensorflow/stream_executor/cuda/cuda_gpu_executor.cc:937] successful NUMA node read from SysFS had negative value (-1), but there must be at least one NUMA node, so returning NUMA node zero\n",
      "2022-01-09 18:21:51.667908: I tensorflow/stream_executor/cuda/cuda_gpu_executor.cc:937] successful NUMA node read from SysFS had negative value (-1), but there must be at least one NUMA node, so returning NUMA node zero\n",
      "2022-01-09 18:21:51.668437: I tensorflow/core/common_runtime/gpu/gpu_device.cc:1418] Created TensorFlow device (/job:localhost/replica:0/task:0/device:GPU:0 with 6683 MB memory) -> physical GPU (device: 0, name: Quadro RTX 4000, pci bus id: 0000:00:05.0, compute capability: 7.5)\n"
     ]
    }
   ],
   "source": [
    "# Set up the number of CPU cores available for multi-thread processing\n",
    "N_JOBS = 1\n",
    "\n",
    "# Set up the flag to stop sending progress emails (setting to True will send status emails!)\n",
    "NOTIFY_STATUS = False\n",
    "\n",
    "# Set the percentage sizes for splitting the dataset\n",
    "TEST_SET_RATIO = 0.2\n",
    "VAL_SET_RATIO = 0.2\n",
    "\n",
    "# Set the number of folds for cross validation\n",
    "N_FOLDS = 5\n",
    "N_ITERATIONS = 1\n",
    "\n",
    "# Set various default modeling parameters\n",
    "DEFAULT_LOSS = 'binary_crossentropy'\n",
    "DEFAULT_METRICS = [tf.keras.metrics.AUC()]\n",
    "MAX_EPOCHS = 10\n",
    "BATCH_SIZE = 32\n",
    "MAX_TRIALS = 10\n",
    "\n",
    "# Define the directory locations and file names\n",
    "TRAIN_DATASET = 'train.csv'\n",
    "TEST_DATASET = 'test.csv'\n",
    "\n",
    "# Check the number of GPUs accessible through TensorFlow\n",
    "print('Num GPUs Available:', len(tf.config.list_physical_devices('GPU')))\n",
    "\n",
    "# Print out the TensorFlow version for confirmation\n",
    "print('TensorFlow version:', tf.__version__)"
   ]
  },
  {
   "cell_type": "code",
   "execution_count": 10,
   "metadata": {},
   "outputs": [],
   "source": [
    "# Set up the email notification function\n",
    "def status_notify(msg_text):\n",
    "    access_key = os.environ.get('SNS_ACCESS_KEY')\n",
    "    secret_key = os.environ.get('SNS_SECRET_KEY')\n",
    "    aws_region = os.environ.get('SNS_AWS_REGION')\n",
    "    topic_arn = os.environ.get('SNS_TOPIC_ARN')\n",
    "    if (access_key is None) or (secret_key is None) or (aws_region is None):\n",
    "        sys.exit(\"Incomplete notification setup info. Script Processing Aborted!!!\")\n",
    "    sns = boto3.client('sns', aws_access_key_id=access_key, aws_secret_access_key=secret_key, region_name=aws_region)\n",
    "    response = sns.publish(TopicArn=topic_arn, Message=msg_text)\n",
    "    if response['ResponseMetadata']['HTTPStatusCode'] != 200 :\n",
    "        print('Status notification not OK with HTTP status code:', response['ResponseMetadata']['HTTPStatusCode'])"
   ]
  },
  {
   "cell_type": "code",
   "execution_count": 11,
   "metadata": {},
   "outputs": [],
   "source": [
    "# Reset the random number generators\n",
    "def reset_random(x=RNG_SEED):\n",
    "    random.seed(x)\n",
    "    np.random.seed(x)\n",
    "    tf.random.set_seed(x)"
   ]
  },
  {
   "cell_type": "code",
   "execution_count": 12,
   "metadata": {},
   "outputs": [],
   "source": [
    "if NOTIFY_STATUS: status_notify(\"Task 1 - Prepare Environment has begun! \" + datetime.now().strftime('%a %B %d, %Y %I:%M:%S %p'))"
   ]
  },
  {
   "cell_type": "markdown",
   "metadata": {},
   "source": [
    "### 1.c) Load dataset"
   ]
  },
  {
   "cell_type": "code",
   "execution_count": 13,
   "metadata": {},
   "outputs": [],
   "source": [
    "if not os.path.exists(TRAIN_DATASET):\n",
    "    !wget https://dainesanalytics.com/datasets/kaggle-tabular-playground-2021mar/train.csv"
   ]
  },
  {
   "cell_type": "code",
   "execution_count": 14,
   "metadata": {},
   "outputs": [
    {
     "name": "stdout",
     "output_type": "stream",
     "text": [
      "   id cat0 cat1 cat2 cat3 cat4 cat5 cat6 cat7 cat8  ...     cont2     cont3  \\\n",
      "0   0    A    I    A    B    B   BI    A    S    Q  ...  0.759439  0.795549   \n",
      "1   1    A    I    A    A    E   BI    K    W   AD  ...  0.386385  0.541366   \n",
      "2   2    A    K    A    A    E   BI    A    E   BM  ...  0.343255  0.616352   \n",
      "3   3    A    K    A    C    E   BI    A    Y   AD  ...  0.831147  0.807807   \n",
      "4   4    A    I    G    B    E   BI    C    G    Q  ...  0.338818  0.277308   \n",
      "\n",
      "      cont4     cont5     cont6     cont7     cont8     cont9    cont10 target  \n",
      "0  0.681917  0.621672  0.592184  0.791921  0.815254  0.965006  0.665915      0  \n",
      "1  0.388982  0.357778  0.600044  0.408701  0.399353  0.927406  0.493729      0  \n",
      "2  0.793687  0.552877  0.352113  0.388835  0.412303  0.292696  0.549452      0  \n",
      "3  0.800032  0.619147  0.221789  0.897617  0.633669  0.760318  0.934242      0  \n",
      "4  0.610578  0.128291  0.578764  0.279167  0.351103  0.357084  0.328960      1  \n",
      "\n",
      "[5 rows x 32 columns]\n"
     ]
    }
   ],
   "source": [
    "df_dataset_import = pd.read_csv(TRAIN_DATASET, index_col=False)\n",
    "\n",
    "# Take a peek at the dataframe after import\n",
    "print(df_dataset_import.head())"
   ]
  },
  {
   "cell_type": "code",
   "execution_count": 15,
   "metadata": {},
   "outputs": [
    {
     "name": "stdout",
     "output_type": "stream",
     "text": [
      "<class 'pandas.core.frame.DataFrame'>\n",
      "RangeIndex: 300000 entries, 0 to 299999\n",
      "Data columns (total 32 columns):\n",
      " #   Column  Non-Null Count   Dtype  \n",
      "---  ------  --------------   -----  \n",
      " 0   id      300000 non-null  int64  \n",
      " 1   cat0    300000 non-null  object \n",
      " 2   cat1    300000 non-null  object \n",
      " 3   cat2    300000 non-null  object \n",
      " 4   cat3    300000 non-null  object \n",
      " 5   cat4    300000 non-null  object \n",
      " 6   cat5    300000 non-null  object \n",
      " 7   cat6    300000 non-null  object \n",
      " 8   cat7    300000 non-null  object \n",
      " 9   cat8    300000 non-null  object \n",
      " 10  cat9    300000 non-null  object \n",
      " 11  cat10   300000 non-null  object \n",
      " 12  cat11   300000 non-null  object \n",
      " 13  cat12   300000 non-null  object \n",
      " 14  cat13   300000 non-null  object \n",
      " 15  cat14   300000 non-null  object \n",
      " 16  cat15   300000 non-null  object \n",
      " 17  cat16   300000 non-null  object \n",
      " 18  cat17   300000 non-null  object \n",
      " 19  cat18   300000 non-null  object \n",
      " 20  cont0   300000 non-null  float64\n",
      " 21  cont1   300000 non-null  float64\n",
      " 22  cont2   300000 non-null  float64\n",
      " 23  cont3   300000 non-null  float64\n",
      " 24  cont4   300000 non-null  float64\n",
      " 25  cont5   300000 non-null  float64\n",
      " 26  cont6   300000 non-null  float64\n",
      " 27  cont7   300000 non-null  float64\n",
      " 28  cont8   300000 non-null  float64\n",
      " 29  cont9   300000 non-null  float64\n",
      " 30  cont10  300000 non-null  float64\n",
      " 31  target  300000 non-null  int64  \n",
      "dtypes: float64(11), int64(2), object(19)\n",
      "memory usage: 73.2+ MB\n"
     ]
    }
   ],
   "source": [
    "df_dataset_import.info(verbose=True)"
   ]
  },
  {
   "cell_type": "code",
   "execution_count": 16,
   "metadata": {},
   "outputs": [
    {
     "name": "stdout",
     "output_type": "stream",
     "text": [
      "                  id          cont0          cont1          cont2  \\\n",
      "count  300000.000000  300000.000000  300000.000000  300000.000000   \n",
      "mean   250183.425697       0.504749       0.494073       0.516632   \n",
      "std    144320.334812       0.206788       0.213037       0.214851   \n",
      "min         0.000000      -0.049562       0.084480       0.094493   \n",
      "25%    125399.750000       0.344985       0.317363       0.326047   \n",
      "50%    250192.500000       0.479650       0.463170       0.471247   \n",
      "75%    375246.250000       0.637657       0.693992       0.704625   \n",
      "max    499999.000000       1.004559       1.009958       1.016600   \n",
      "\n",
      "               cont3          cont4          cont5          cont6  \\\n",
      "count  300000.000000  300000.000000  300000.000000  300000.000000   \n",
      "mean        0.474235       0.504848       0.502257       0.488229   \n",
      "std         0.216636       0.227474       0.241243       0.211335   \n",
      "min        -0.045316       0.168071      -0.036379       0.005199   \n",
      "25%         0.292249       0.279303       0.276442       0.323914   \n",
      "50%         0.387564       0.479858       0.554768       0.518089   \n",
      "75%         0.644950       0.725779       0.735225       0.608537   \n",
      "max         0.952187       0.858578       0.853022       0.966553   \n",
      "\n",
      "               cont7          cont8          cont9         cont10  \\\n",
      "count  300000.000000  300000.000000  300000.000000  300000.000000   \n",
      "mean        0.501739       0.488074       0.469496       0.508230   \n",
      "std         0.203496       0.179048       0.194516       0.203393   \n",
      "min         0.090901       0.024139       0.214866       0.097789   \n",
      "25%         0.353054       0.358915       0.309934       0.368312   \n",
      "50%         0.435404       0.410908       0.407477       0.446576   \n",
      "75%         0.642023       0.612725       0.586793       0.581957   \n",
      "max         1.035818       1.055885       1.005652       1.011331   \n",
      "\n",
      "              target  \n",
      "count  300000.000000  \n",
      "mean        0.264870  \n",
      "std         0.441265  \n",
      "min         0.000000  \n",
      "25%         0.000000  \n",
      "50%         0.000000  \n",
      "75%         1.000000  \n",
      "max         1.000000  \n"
     ]
    }
   ],
   "source": [
    "print(df_dataset_import.describe())"
   ]
  },
  {
   "cell_type": "code",
   "execution_count": 17,
   "metadata": {},
   "outputs": [
    {
     "name": "stdout",
     "output_type": "stream",
     "text": [
      "id        0\n",
      "cat0      0\n",
      "cat1      0\n",
      "cat2      0\n",
      "cat3      0\n",
      "cat4      0\n",
      "cat5      0\n",
      "cat6      0\n",
      "cat7      0\n",
      "cat8      0\n",
      "cat9      0\n",
      "cat10     0\n",
      "cat11     0\n",
      "cat12     0\n",
      "cat13     0\n",
      "cat14     0\n",
      "cat15     0\n",
      "cat16     0\n",
      "cat17     0\n",
      "cat18     0\n",
      "cont0     0\n",
      "cont1     0\n",
      "cont2     0\n",
      "cont3     0\n",
      "cont4     0\n",
      "cont5     0\n",
      "cont6     0\n",
      "cont7     0\n",
      "cont8     0\n",
      "cont9     0\n",
      "cont10    0\n",
      "target    0\n",
      "dtype: int64\n",
      "Total number of NaN in the dataframe:  0\n"
     ]
    }
   ],
   "source": [
    "print(df_dataset_import.isnull().sum())\n",
    "print('Total number of NaN in the dataframe: ', df_dataset_import.isnull().sum().sum())"
   ]
  },
  {
   "cell_type": "code",
   "execution_count": 18,
   "metadata": {},
   "outputs": [
    {
     "name": "stdout",
     "output_type": "stream",
     "text": [
      "target\n",
      "0    220539\n",
      "1     79461\n",
      "dtype: int64\n"
     ]
    }
   ],
   "source": [
    "# Get grouping size for the target variable\n",
    "print(df_dataset_import.groupby('target').size())"
   ]
  },
  {
   "cell_type": "markdown",
   "metadata": {},
   "source": [
    "### 1.d) Data Cleaning"
   ]
  },
  {
   "cell_type": "code",
   "execution_count": 19,
   "metadata": {},
   "outputs": [
    {
     "name": "stdout",
     "output_type": "stream",
     "text": [
      "  cat0 cat1 cat2 cat3 cat4 cat5 cat6 cat7 cat8 cat9  ...     cont2     cont3  \\\n",
      "0    A    I    A    B    B   BI    A    S    Q    A  ...  0.759439  0.795549   \n",
      "1    A    I    A    A    E   BI    K    W   AD    F  ...  0.386385  0.541366   \n",
      "2    A    K    A    A    E   BI    A    E   BM    L  ...  0.343255  0.616352   \n",
      "3    A    K    A    C    E   BI    A    Y   AD    F  ...  0.831147  0.807807   \n",
      "4    A    I    G    B    E   BI    C    G    Q    A  ...  0.338818  0.277308   \n",
      "5    A    I    C    A    E   BI    C   AV    Y    C  ...  0.524760  0.580085   \n",
      "6    A    A    G    A    H   BI    A    S   AD    E  ...  0.678466  0.747125   \n",
      "7    A    F    A    A    I   BI    C   AF   AG    A  ...  0.943545  0.209744   \n",
      "8    B    I    A    A    E   BI    C   AK   AE    E  ...  0.635195  0.672264   \n",
      "9    A    L    A    B    E   BI    C   AF   AX    A  ...  0.397622  0.506096   \n",
      "\n",
      "      cont4     cont5     cont6     cont7     cont8     cont9    cont10  \\\n",
      "0  0.681917  0.621672  0.592184  0.791921  0.815254  0.965006  0.665915   \n",
      "1  0.388982  0.357778  0.600044  0.408701  0.399353  0.927406  0.493729   \n",
      "2  0.793687  0.552877  0.352113  0.388835  0.412303  0.292696  0.549452   \n",
      "3  0.800032  0.619147  0.221789  0.897617  0.633669  0.760318  0.934242   \n",
      "4  0.610578  0.128291  0.578764  0.279167  0.351103  0.357084  0.328960   \n",
      "5  0.301498  0.261055  0.193988  0.935688  0.685868  0.277694  0.428115   \n",
      "6  0.678212  0.553609  0.281719  0.768782  0.688580  0.320699  0.642256   \n",
      "7  0.670577  0.772650  0.845751  0.507320  0.927204  0.605755  0.454155   \n",
      "8  0.561127  0.419873  0.508550  0.673267  0.356103  0.471519  0.499554   \n",
      "9  0.200673  0.734145  0.521673  0.365571  0.416094  0.584799  0.447149   \n",
      "\n",
      "   target  \n",
      "0       0  \n",
      "1       0  \n",
      "2       0  \n",
      "3       0  \n",
      "4       1  \n",
      "5       0  \n",
      "6       0  \n",
      "7       1  \n",
      "8       0  \n",
      "9       1  \n",
      "\n",
      "[10 rows x 31 columns]\n"
     ]
    }
   ],
   "source": [
    "# Dropping features\n",
    "df_dataset_import.drop(columns=['id'], inplace=True)\n",
    "\n",
    "# Take a peek at the dataframe after cleaning\n",
    "print(df_dataset_import.head(10))"
   ]
  },
  {
   "cell_type": "code",
   "execution_count": 20,
   "metadata": {},
   "outputs": [
    {
     "name": "stdout",
     "output_type": "stream",
     "text": [
      "<class 'pandas.core.frame.DataFrame'>\n",
      "RangeIndex: 300000 entries, 0 to 299999\n",
      "Data columns (total 31 columns):\n",
      " #   Column  Non-Null Count   Dtype  \n",
      "---  ------  --------------   -----  \n",
      " 0   cat0    300000 non-null  object \n",
      " 1   cat1    300000 non-null  object \n",
      " 2   cat2    300000 non-null  object \n",
      " 3   cat3    300000 non-null  object \n",
      " 4   cat4    300000 non-null  object \n",
      " 5   cat5    300000 non-null  object \n",
      " 6   cat6    300000 non-null  object \n",
      " 7   cat7    300000 non-null  object \n",
      " 8   cat8    300000 non-null  object \n",
      " 9   cat9    300000 non-null  object \n",
      " 10  cat10   300000 non-null  object \n",
      " 11  cat11   300000 non-null  object \n",
      " 12  cat12   300000 non-null  object \n",
      " 13  cat13   300000 non-null  object \n",
      " 14  cat14   300000 non-null  object \n",
      " 15  cat15   300000 non-null  object \n",
      " 16  cat16   300000 non-null  object \n",
      " 17  cat17   300000 non-null  object \n",
      " 18  cat18   300000 non-null  object \n",
      " 19  cont0   300000 non-null  float64\n",
      " 20  cont1   300000 non-null  float64\n",
      " 21  cont2   300000 non-null  float64\n",
      " 22  cont3   300000 non-null  float64\n",
      " 23  cont4   300000 non-null  float64\n",
      " 24  cont5   300000 non-null  float64\n",
      " 25  cont6   300000 non-null  float64\n",
      " 26  cont7   300000 non-null  float64\n",
      " 27  cont8   300000 non-null  float64\n",
      " 28  cont9   300000 non-null  float64\n",
      " 29  cont10  300000 non-null  float64\n",
      " 30  target  300000 non-null  int64  \n",
      "dtypes: float64(11), int64(1), object(19)\n",
      "memory usage: 71.0+ MB\n"
     ]
    }
   ],
   "source": [
    "df_dataset_import.info(verbose=True)"
   ]
  },
  {
   "cell_type": "code",
   "execution_count": 21,
   "metadata": {},
   "outputs": [
    {
     "name": "stdout",
     "output_type": "stream",
     "text": [
      "               cont0          cont1          cont2          cont3  \\\n",
      "count  300000.000000  300000.000000  300000.000000  300000.000000   \n",
      "mean        0.504749       0.494073       0.516632       0.474235   \n",
      "std         0.206788       0.213037       0.214851       0.216636   \n",
      "min        -0.049562       0.084480       0.094493      -0.045316   \n",
      "25%         0.344985       0.317363       0.326047       0.292249   \n",
      "50%         0.479650       0.463170       0.471247       0.387564   \n",
      "75%         0.637657       0.693992       0.704625       0.644950   \n",
      "max         1.004559       1.009958       1.016600       0.952187   \n",
      "\n",
      "               cont4          cont5          cont6          cont7  \\\n",
      "count  300000.000000  300000.000000  300000.000000  300000.000000   \n",
      "mean        0.504848       0.502257       0.488229       0.501739   \n",
      "std         0.227474       0.241243       0.211335       0.203496   \n",
      "min         0.168071      -0.036379       0.005199       0.090901   \n",
      "25%         0.279303       0.276442       0.323914       0.353054   \n",
      "50%         0.479858       0.554768       0.518089       0.435404   \n",
      "75%         0.725779       0.735225       0.608537       0.642023   \n",
      "max         0.858578       0.853022       0.966553       1.035818   \n",
      "\n",
      "               cont8          cont9         cont10         target  \n",
      "count  300000.000000  300000.000000  300000.000000  300000.000000  \n",
      "mean        0.488074       0.469496       0.508230       0.264870  \n",
      "std         0.179048       0.194516       0.203393       0.441265  \n",
      "min         0.024139       0.214866       0.097789       0.000000  \n",
      "25%         0.358915       0.309934       0.368312       0.000000  \n",
      "50%         0.410908       0.407477       0.446576       0.000000  \n",
      "75%         0.612725       0.586793       0.581957       1.000000  \n",
      "max         1.055885       1.005652       1.011331       1.000000  \n"
     ]
    }
   ],
   "source": [
    "print(df_dataset_import.describe())"
   ]
  },
  {
   "cell_type": "code",
   "execution_count": 22,
   "metadata": {},
   "outputs": [
    {
     "name": "stdout",
     "output_type": "stream",
     "text": [
      "cat0      0\n",
      "cat1      0\n",
      "cat2      0\n",
      "cat3      0\n",
      "cat4      0\n",
      "cat5      0\n",
      "cat6      0\n",
      "cat7      0\n",
      "cat8      0\n",
      "cat9      0\n",
      "cat10     0\n",
      "cat11     0\n",
      "cat12     0\n",
      "cat13     0\n",
      "cat14     0\n",
      "cat15     0\n",
      "cat16     0\n",
      "cat17     0\n",
      "cat18     0\n",
      "cont0     0\n",
      "cont1     0\n",
      "cont2     0\n",
      "cont3     0\n",
      "cont4     0\n",
      "cont5     0\n",
      "cont6     0\n",
      "cont7     0\n",
      "cont8     0\n",
      "cont9     0\n",
      "cont10    0\n",
      "target    0\n",
      "dtype: int64\n",
      "Total number of NaN in the dataframe:  0\n"
     ]
    }
   ],
   "source": [
    "print(df_dataset_import.isnull().sum())\n",
    "print('Total number of NaN in the dataframe: ', df_dataset_import.isnull().sum().sum())"
   ]
  },
  {
   "cell_type": "code",
   "execution_count": 23,
   "metadata": {},
   "outputs": [
    {
     "name": "stdout",
     "output_type": "stream",
     "text": [
      "target\n",
      "0    220539\n",
      "1     79461\n",
      "dtype: int64\n"
     ]
    }
   ],
   "source": [
    "# Get grouping size for the target variable\n",
    "print(df_dataset_import.groupby('target').size())"
   ]
  },
  {
   "cell_type": "markdown",
   "metadata": {},
   "source": [
    "### 1.e) Splitting Data into Sets"
   ]
  },
  {
   "cell_type": "code",
   "execution_count": 24,
   "metadata": {},
   "outputs": [
    {
     "name": "stdout",
     "output_type": "stream",
     "text": [
      "df_dataset_import.shape: (300000, 31) df_features_import.shape: (300000, 30) df_target_import.shape: (300000,)\n"
     ]
    }
   ],
   "source": [
    "# Use variable total_column_count to hold the number of columns in the dataframe\n",
    "total_column_count = len(df_dataset_import.columns)\n",
    "\n",
    "# Set up variable total_feature_count for the total number of attribute columns\n",
    "total_feature_count = total_column_count-1\n",
    "\n",
    "# We create attribute-only and target-only datasets (df_features_train and df_target_train)\n",
    "df_target_import = df_dataset_import['target']\n",
    "df_features_import = df_dataset_import.drop(['target'], axis=1)\n",
    "\n",
    "print(\"df_dataset_import.shape: {} df_features_import.shape: {} df_target_import.shape: {}\".format(df_dataset_import.shape, df_features_import.shape, df_target_import.shape))"
   ]
  },
  {
   "cell_type": "code",
   "execution_count": 25,
   "metadata": {},
   "outputs": [
    {
     "name": "stdout",
     "output_type": "stream",
     "text": [
      "df_features_train.shape: (240000, 30) df_target_train.shape: (240000,)\n",
      "df_features_test.shape: (60000, 30) df_target_test.shape: (60000,)\n"
     ]
    }
   ],
   "source": [
    "# Split the data further into training and test datasets\n",
    "df_features_train, df_features_test, df_target_train, df_target_test = train_test_split(df_features_import, df_target_import,\n",
    "                                                                                        test_size=TEST_SET_RATIO, random_state=RNG_SEED)\n",
    "print(\"df_features_train.shape: {} df_target_train.shape: {}\".format(df_features_train.shape, df_target_train.shape))\n",
    "print(\"df_features_test.shape: {} df_target_test.shape: {}\".format(df_features_test.shape, df_target_test.shape))"
   ]
  },
  {
   "cell_type": "markdown",
   "metadata": {},
   "source": [
    "### 1.f) Set up the parameters for data visualization"
   ]
  },
  {
   "cell_type": "code",
   "execution_count": 26,
   "metadata": {},
   "outputs": [],
   "source": [
    "# Set up the number of row and columns for visualization display. display_rows * display_columns should be >= total_feature_count\n",
    "display_columns = 4\n",
    "if total_feature_count % display_columns == 0 :\n",
    "    display_rows = total_feature_count // display_columns\n",
    "else :\n",
    "    display_rows = (total_feature_count // display_columns) + 1\n",
    "\n",
    "# Set figure width to display the data visualization plots\n",
    "fig_size = plt.rcParams[\"figure.figsize\"]\n",
    "fig_size[0] = display_columns * 4\n",
    "fig_size[1] = display_rows * 4\n",
    "plt.rcParams[\"figure.figsize\"] = fig_size"
   ]
  },
  {
   "cell_type": "code",
   "execution_count": 27,
   "metadata": {},
   "outputs": [],
   "source": [
    "if NOTIFY_STATUS: status_notify(\"Task 1 - Prepare Environment completed! \" + datetime.now().strftime('%a %B %d, %Y %I:%M:%S %p'))"
   ]
  },
  {
   "cell_type": "markdown",
   "metadata": {},
   "source": [
    "## Task 2 - Summarize and Visualize Data"
   ]
  },
  {
   "cell_type": "code",
   "execution_count": 28,
   "metadata": {},
   "outputs": [],
   "source": [
    "if NOTIFY_STATUS: status_notify(\"Task 2 - Summarize and Visualize Data has begun! \" + datetime.now().strftime('%a %B %d, %Y %I:%M:%S %p'))"
   ]
  },
  {
   "cell_type": "code",
   "execution_count": 29,
   "metadata": {},
   "outputs": [
    {
     "data": {
      "image/png": "[encoded data removed]",
      "text/plain": [
       "<Figure size 1152x2304 with 32 Axes>"
      ]
     },
     "metadata": {
      "needs_background": "light"
     },
     "output_type": "display_data"
    }
   ],
   "source": [
    "# Histograms for each attribute\n",
    "df_features_train.plot(kind='hist', subplots=True, layout=(display_rows, display_columns))\n",
    "plt.show()"
   ]
  },
  {
   "cell_type": "code",
   "execution_count": 30,
   "metadata": {},
   "outputs": [
    {
     "data": {
      "image/png": "[encoded data removed]",
      "text/plain": [
       "<Figure size 1152x2304 with 32 Axes>"
      ]
     },
     "metadata": {
      "needs_background": "light"
     },
     "output_type": "display_data"
    }
   ],
   "source": [
    "# Box and Whisker plot for each attribute\n",
    "df_features_train.plot(kind='box', subplots=True, layout=(display_rows, display_columns))\n",
    "plt.show()"
   ]
  },
  {
   "cell_type": "code",
   "execution_count": 31,
   "metadata": {},
   "outputs": [
    {
     "data": {
      "image/png": "[encoded data removed]",
      "text/plain": [
       "<Figure size 1440x1440 with 2 Axes>"
      ]
     },
     "metadata": {
      "needs_background": "light"
     },
     "output_type": "display_data"
    }
   ],
   "source": [
    "# Correlation matrix\n",
    "fig = plt.figure(figsize=(20, 20))\n",
    "correlations = df_features_train.corr(method='pearson')\n",
    "sns.heatmap(correlations, annot=True, cmap=plt.cm.PuBu)\n",
    "plt.show()"
   ]
  },
  {
   "cell_type": "code",
   "execution_count": 32,
   "metadata": {},
   "outputs": [],
   "source": [
    "if NOTIFY_STATUS: status_notify(\"Task 2 - Summarize and Visualize Data completed! \" + datetime.now().strftime('%a %B %d, %Y %I:%M:%S %p'))"
   ]
  },
  {
   "cell_type": "markdown",
   "metadata": {},
   "source": [
    "## Task 3 - Pre-process Data"
   ]
  },
  {
   "cell_type": "code",
   "execution_count": 33,
   "metadata": {},
   "outputs": [],
   "source": [
    "if NOTIFY_STATUS: status_notify(\"Task 3 - Pre-process Data has begun! \" + datetime.now().strftime('%a %B %d, %Y %I:%M:%S %p'))"
   ]
  },
  {
   "cell_type": "markdown",
   "metadata": {},
   "source": [
    "### 3.a) Feature Scaling"
   ]
  },
  {
   "cell_type": "code",
   "execution_count": 34,
   "metadata": {},
   "outputs": [
    {
     "name": "stdout",
     "output_type": "stream",
     "text": [
      "Number of numerical columns: 11\n",
      "Number of categorical columns: 19\n",
      "Total number of columns in the feature dataframe: 30\n"
     ]
    }
   ],
   "source": [
    "# Compose pipeline for the numerical and categorical features (Block #1 of 2)\n",
    "numeric_columns = df_features_train.select_dtypes(include=['int64','float64']).columns\n",
    "numeric_transformer = Pipeline(steps=[\n",
    "    ('imputer', impute.SimpleImputer(strategy=\"constant\", fill_value=0)),\n",
    "#     ('scaler', preprocessing.MinMaxScaler())\n",
    "])\n",
    "categorical_columns = df_features_train.select_dtypes(include=['object','bool','category']).columns\n",
    "categorical_transformer = Pipeline(steps=[\n",
    "    ('imputer', impute.SimpleImputer(strategy='constant', fill_value='UKNOWN')),\n",
    "    ('onehot', preprocessing.OrdinalEncoder(handle_unknown='use_encoded_value', unknown_value=999))\n",
    "])\n",
    "\n",
    "print(\"Number of numerical columns:\", len(numeric_columns))\n",
    "print(\"Number of categorical columns:\", len(categorical_columns))\n",
    "print(\"Total number of columns in the feature dataframe:\", df_features_train.shape[1])"
   ]
  },
  {
   "cell_type": "code",
   "execution_count": 35,
   "metadata": {},
   "outputs": [
    {
     "name": "stdout",
     "output_type": "stream",
     "text": [
      "Transformed features from df_features_train.shape: (240000, 30) to array_features_train.shape: (240000, 30)\n"
     ]
    }
   ],
   "source": [
    "# Compose pipeline for the numerical and categorical features (Block #2 of 2)\n",
    "preprocessor = compose.ColumnTransformer(transformers=[\n",
    "    ('num', numeric_transformer, numeric_columns),\n",
    "    ('cat', categorical_transformer, categorical_columns)\n",
    "])\n",
    "\n",
    "# Display the shapes of the training dataset for final inspection\n",
    "array_features_train = preprocessor.fit_transform(df_features_train)\n",
    "print(\"Transformed features from df_features_train.shape: {} to array_features_train.shape: {}\".format(df_features_train.shape, array_features_train.shape))"
   ]
  },
  {
   "cell_type": "markdown",
   "metadata": {},
   "source": [
    "### 3.b) Training Data Balancing"
   ]
  },
  {
   "cell_type": "code",
   "execution_count": 36,
   "metadata": {},
   "outputs": [],
   "source": [
    "# Not applicable for this iteration of the project"
   ]
  },
  {
   "cell_type": "code",
   "execution_count": 37,
   "metadata": {},
   "outputs": [],
   "source": [
    "# Examine the target classes for imbalanced distribution\n",
    "# Xy_original.groupby('targetVar').size()"
   ]
  },
  {
   "cell_type": "code",
   "execution_count": 38,
   "metadata": {},
   "outputs": [],
   "source": [
    "# # Perform SMOTE transformation on the training data (Block #1 of 2)\n",
    "# X_train_imbal = X_train_df.values\n",
    "# y_train_imbal = y_train_df.values.ravel()\n",
    "# print(\"X_train_imbal.shape: {} y_train_imbal.shape: {}\".format(X_train_imbal.shape, y_train_imbal.shape))"
   ]
  },
  {
   "cell_type": "code",
   "execution_count": 39,
   "metadata": {},
   "outputs": [],
   "source": [
    "# # Perform SMOTE transformation on the training data (Block #2 of 2)\n",
    "# print ('Original class distribution - 1: {} | 0: {}'.format((y_train_imbal==1).sum(), (y_train_imbal==0).sum()))\n",
    "# over_sample = SMOTE(sampling_strategy=0.05, random_state=RNG_SEED)\n",
    "# under_sample = RandomUnderSampler(sampling_strategy=1.0, random_state=RNG_SEED)\n",
    "# steps = [('o', over_sample), ('u', under_sample)]\n",
    "# sample_pipeline = Pipeline(steps=steps)\n",
    "# X_train, y_train = sample_pipeline.fit_resample(X_train_imbal, y_train_imbal)\n",
    "# print ('Resampled class distribution - 1: {} | 0: {}'.format((y_train==1).sum(), (y_train==0).sum()))"
   ]
  },
  {
   "cell_type": "markdown",
   "metadata": {},
   "source": [
    "### 3.c) Display the Final Datasets for Model-Building"
   ]
  },
  {
   "cell_type": "code",
   "execution_count": 40,
   "metadata": {},
   "outputs": [
    {
     "name": "stdout",
     "output_type": "stream",
     "text": [
      "array_features_train.shape: (240000, 30) array_target_train.shape: (240000,)\n"
     ]
    }
   ],
   "source": [
    "# Finalize the training dataset for the modeling activities\n",
    "# array_features_train = df_features_train.to_numpy()\n",
    "array_target_train = df_target_train.to_numpy()\n",
    "# label_encoder = preprocessing.LabelEncoder()\n",
    "# array_target_train = label_encoder.fit_transform(df_target_train)\n",
    "print(\"array_features_train.shape: {} array_target_train.shape: {}\".format(array_features_train.shape, array_target_train.shape))"
   ]
  },
  {
   "cell_type": "code",
   "execution_count": 41,
   "metadata": {},
   "outputs": [],
   "source": [
    "if NOTIFY_STATUS: status_notify(\"Task 3 - Pre-process Data completed! \" + datetime.now().strftime('%a %B %d, %Y %I:%M:%S %p'))"
   ]
  },
  {
   "cell_type": "markdown",
   "metadata": {},
   "source": [
    "## Task 4 - Train and Tune Models"
   ]
  },
  {
   "cell_type": "code",
   "execution_count": 42,
   "metadata": {},
   "outputs": [],
   "source": [
    "if NOTIFY_STATUS: status_notify(\"Task 4 - Train and Tune Models has begun! \" + datetime.now().strftime('%a %B %d, %Y %I:%M:%S %p'))"
   ]
  },
  {
   "cell_type": "code",
   "execution_count": 43,
   "metadata": {},
   "outputs": [
    {
     "name": "stdout",
     "output_type": "stream",
     "text": [
      "Trial 10 Complete [00h 10m 00s]\n",
      "val_auc: 0.8806027770042419\n",
      "\n",
      "Best val_auc So Far: 0.8806027770042419\n",
      "Total elapsed time: 01h 25m 09s\n",
      "INFO:tensorflow:Oracle triggered exit\n",
      "Epoch 1/10\n",
      "7500/7500 [==============================] - 56s 7ms/step - loss: 0.4143 - auc: 0.8507\n",
      "Epoch 2/10\n",
      "7500/7500 [==============================] - 55s 7ms/step - loss: 0.3972 - auc: 0.8586\n",
      "Epoch 3/10\n",
      "7500/7500 [==============================] - 55s 7ms/step - loss: 0.3932 - auc: 0.8615\n",
      "Epoch 4/10\n",
      "7500/7500 [==============================] - 55s 7ms/step - loss: 0.3911 - auc: 0.8634\n",
      "Epoch 5/10\n",
      "7500/7500 [==============================] - 55s 7ms/step - loss: 0.3900 - auc: 0.8641\n",
      "Epoch 6/10\n",
      "7500/7500 [==============================] - 55s 7ms/step - loss: 0.3888 - auc: 0.8649\n",
      "Epoch 7/10\n",
      "7500/7500 [==============================] - 55s 7ms/step - loss: 0.3879 - auc: 0.8655\n",
      "Epoch 8/10\n",
      "7500/7500 [==============================] - 55s 7ms/step - loss: 0.3873 - auc: 0.8658\n",
      "Epoch 9/10\n",
      "7500/7500 [==============================] - 55s 7ms/step - loss: 0.3866 - auc: 0.8662\n",
      "Epoch 10/10\n",
      "7500/7500 [==============================] - 55s 7ms/step - loss: 0.3859 - auc: 0.8670\n"
     ]
    },
    {
     "name": "stderr",
     "output_type": "stream",
     "text": [
      "2022-01-09 19:59:20.758078: W tensorflow/python/util/util.cc:348] Sets are not currently considered sequences, but this may change in the future, so consider avoiding using them.\n"
     ]
    },
    {
     "name": "stdout",
     "output_type": "stream",
     "text": [
      "INFO:tensorflow:Assets written to: ./structured_data_classifier/best_model/assets\n",
      "Total time for model fitting: 1:37:22.977555\n"
     ]
    }
   ],
   "source": [
    "start_time_module = datetime.now()\n",
    "reset_random()\n",
    "auto_model = ak.StructuredDataClassifier(loss=DEFAULT_LOSS,\n",
    "                                      metrics=DEFAULT_METRICS,\n",
    "                                      max_trials=MAX_TRIALS,\n",
    "                                      objective=keras_tuner.Objective(\"val_auc\", direction=\"max\"),\n",
    "                                      seed=RNG_SEED)\n",
    "auto_model.fit(x=array_features_train,\n",
    "               y=array_target_train,\n",
    "               epochs=MAX_EPOCHS,\n",
    "               validation_split=VAL_SET_RATIO,\n",
    "               batch_size=BATCH_SIZE,\n",
    "               verbose=1)\n",
    "print('Total time for model fitting:', (datetime.now() - start_time_module))"
   ]
  },
  {
   "cell_type": "code",
   "execution_count": 44,
   "metadata": {},
   "outputs": [],
   "source": [
    "if NOTIFY_STATUS: status_notify(\"Task 4 - Train and Tune Models completed! \" + datetime.now().strftime('%a %B %d, %Y %I:%M:%S %p'))"
   ]
  },
  {
   "cell_type": "markdown",
   "metadata": {},
   "source": [
    "## Task 5 - Finalize Model and Make Predictions"
   ]
  },
  {
   "cell_type": "code",
   "execution_count": 45,
   "metadata": {},
   "outputs": [],
   "source": [
    "if NOTIFY_STATUS: status_notify(\"Task 5 - Finalize Model and Make Predictions has begun! \" + datetime.now().strftime('%a %B %d, %Y %I:%M:%S %p'))"
   ]
  },
  {
   "cell_type": "markdown",
   "metadata": {},
   "source": [
    "### 5.a) Train the Final Model"
   ]
  },
  {
   "cell_type": "code",
   "execution_count": 46,
   "metadata": {},
   "outputs": [
    {
     "name": "stdout",
     "output_type": "stream",
     "text": [
      "Model: \"model\"\n",
      "_________________________________________________________________\n",
      "Layer (type)                 Output Shape              Param #   \n",
      "=================================================================\n",
      "input_1 (InputLayer)         [(None, 30)]              0         \n",
      "_________________________________________________________________\n",
      "multi_category_encoding (Mul (None, 30)                0         \n",
      "_________________________________________________________________\n",
      "normalization (Normalization (None, 30)                61        \n",
      "_________________________________________________________________\n",
      "dense (Dense)                (None, 128)               3968      \n",
      "_________________________________________________________________\n",
      "batch_normalization (BatchNo (None, 128)               512       \n",
      "_________________________________________________________________\n",
      "re_lu (ReLU)                 (None, 128)               0         \n",
      "_________________________________________________________________\n",
      "dropout (Dropout)            (None, 128)               0         \n",
      "_________________________________________________________________\n",
      "dense_1 (Dense)              (None, 16)                2064      \n",
      "_________________________________________________________________\n",
      "batch_normalization_1 (Batch (None, 16)                64        \n",
      "_________________________________________________________________\n",
      "re_lu_1 (ReLU)               (None, 16)                0         \n",
      "_________________________________________________________________\n",
      "dropout_1 (Dropout)          (None, 16)                0         \n",
      "_________________________________________________________________\n",
      "dense_2 (Dense)              (None, 32)                544       \n",
      "_________________________________________________________________\n",
      "batch_normalization_2 (Batch (None, 32)                128       \n",
      "_________________________________________________________________\n",
      "re_lu_2 (ReLU)               (None, 32)                0         \n",
      "_________________________________________________________________\n",
      "dropout_2 (Dropout)          (None, 32)                0         \n",
      "_________________________________________________________________\n",
      "dropout_3 (Dropout)          (None, 32)                0         \n",
      "_________________________________________________________________\n",
      "dense_3 (Dense)              (None, 1)                 33        \n",
      "_________________________________________________________________\n",
      "classification_head_1 (Activ (None, 1)                 0         \n",
      "=================================================================\n",
      "Total params: 7,374\n",
      "Trainable params: 6,961\n",
      "Non-trainable params: 413\n",
      "_________________________________________________________________\n"
     ]
    }
   ],
   "source": [
    "final_model = auto_model.export_model()\n",
    "final_model.summary()"
   ]
  },
  {
   "cell_type": "markdown",
   "metadata": {},
   "source": [
    "### 5.b) Load Test Dataset and Make Predictions"
   ]
  },
  {
   "cell_type": "code",
   "execution_count": 47,
   "metadata": {},
   "outputs": [],
   "source": [
    "if not os.path.exists(TEST_DATASET):\n",
    "    !wget https://dainesanalytics.com/datasets/kaggle-tabular-playground-2021mar/test.csv"
   ]
  },
  {
   "cell_type": "code",
   "execution_count": 48,
   "metadata": {},
   "outputs": [
    {
     "name": "stdout",
     "output_type": "stream",
     "text": [
      "   id cat0 cat1 cat2 cat3 cat4 cat5 cat6 cat7 cat8  ...     cont1     cont2  \\\n",
      "0   5    A    F    A    A    F   BI    A   AH   AX  ...  0.735690  0.578366   \n",
      "1   6    A    H    C    A    E   AB    I    F    N  ...  0.313703  0.928885   \n",
      "2   8    A    N    C    A    F   AB    A   AH   BC  ...  0.448201  0.424876   \n",
      "3   9    B    L    C    A    F   BI    A    E   AX  ...  0.666092  0.598943   \n",
      "4  11    A    F    A    B    F   BI    A   AH    I  ...  0.772229  0.479572   \n",
      "\n",
      "      cont3     cont4     cont5     cont6     cont7     cont8     cont9  \\\n",
      "0  0.723154  0.228037  0.356227  0.551249  0.655693  0.598331  0.359987   \n",
      "1  0.516602  0.600169  0.795224  0.248987  0.654614  0.347944  0.565520   \n",
      "2  0.344729  0.242073  0.270632  0.746740  0.335590  0.341238  0.252289   \n",
      "3  0.561971  0.806347  0.735983  0.538724  0.381566  0.481660  0.348514   \n",
      "4  0.767745  0.252454  0.354810  0.178920  0.763479  0.562491  0.466261   \n",
      "\n",
      "     cont10  \n",
      "0  0.947489  \n",
      "1  0.388580  \n",
      "2  0.411592  \n",
      "3  0.325723  \n",
      "4  0.585781  \n",
      "\n",
      "[5 rows x 31 columns]\n"
     ]
    }
   ],
   "source": [
    "df_features_test = pd.read_csv(TEST_DATASET, index_col=False)\n",
    "\n",
    "# Take a peek at the dataframe after import\n",
    "print(df_features_test.head())"
   ]
  },
  {
   "cell_type": "code",
   "execution_count": 49,
   "metadata": {},
   "outputs": [
    {
     "name": "stdout",
     "output_type": "stream",
     "text": [
      "   id\n",
      "0   5\n",
      "1   6\n",
      "2   8\n",
      "3   9\n",
      "4  11\n"
     ]
    }
   ],
   "source": [
    "df_kaggle_submission = pd.DataFrame()\n",
    "df_kaggle_submission['id'] = df_features_test['id']\n",
    "print(df_kaggle_submission.head())"
   ]
  },
  {
   "cell_type": "code",
   "execution_count": 50,
   "metadata": {},
   "outputs": [
    {
     "name": "stdout",
     "output_type": "stream",
     "text": [
      "  cat0 cat1 cat2 cat3 cat4 cat5 cat6 cat7 cat8 cat9  ...     cont1     cont2  \\\n",
      "0    A    F    A    A    F   BI    A   AH   AX    A  ...  0.735690  0.578366   \n",
      "1    A    H    C    A    E   AB    I    F    N    A  ...  0.313703  0.928885   \n",
      "2    A    N    C    A    F   AB    A   AH   BC    A  ...  0.448201  0.424876   \n",
      "3    B    L    C    A    F   BI    A    E   AX    A  ...  0.666092  0.598943   \n",
      "4    A    F    A    B    F   BI    A   AH    I    A  ...  0.772229  0.479572   \n",
      "\n",
      "      cont3     cont4     cont5     cont6     cont7     cont8     cont9  \\\n",
      "0  0.723154  0.228037  0.356227  0.551249  0.655693  0.598331  0.359987   \n",
      "1  0.516602  0.600169  0.795224  0.248987  0.654614  0.347944  0.565520   \n",
      "2  0.344729  0.242073  0.270632  0.746740  0.335590  0.341238  0.252289   \n",
      "3  0.561971  0.806347  0.735983  0.538724  0.381566  0.481660  0.348514   \n",
      "4  0.767745  0.252454  0.354810  0.178920  0.763479  0.562491  0.466261   \n",
      "\n",
      "     cont10  \n",
      "0  0.947489  \n",
      "1  0.388580  \n",
      "2  0.411592  \n",
      "3  0.325723  \n",
      "4  0.585781  \n",
      "\n",
      "[5 rows x 30 columns]\n"
     ]
    }
   ],
   "source": [
    "# Dropping features\n",
    "df_features_test.drop(columns=['id'], inplace=True)\n",
    "\n",
    "# Take a peek at the dataframe after cleaning\n",
    "print(df_features_test.head())"
   ]
  },
  {
   "cell_type": "code",
   "execution_count": 51,
   "metadata": {},
   "outputs": [
    {
     "name": "stdout",
     "output_type": "stream",
     "text": [
      "Transformed features from df_features_test.shape: (200000, 30) to array_features_test.shape: (200000, 30)\n"
     ]
    }
   ],
   "source": [
    "# Finalize the test dataset for the modeling testing\n",
    "array_features_test = preprocessor.transform(df_features_test)\n",
    "print(\"Transformed features from df_features_test.shape: {} to array_features_test.shape: {}\".format(df_features_test.shape, array_features_test.shape))"
   ]
  },
  {
   "cell_type": "code",
   "execution_count": 52,
   "metadata": {},
   "outputs": [
    {
     "name": "stdout",
     "output_type": "stream",
     "text": [
      "[[0.07406274]\n",
      " [0.5206901 ]\n",
      " [0.03517718]\n",
      " ...\n",
      " [0.7438121 ]\n",
      " [0.12015292]\n",
      " [0.3140151 ]]\n"
     ]
    }
   ],
   "source": [
    "# Make batched predictions\n",
    "test_predictions = final_model.predict(array_features_test)\n",
    "print(test_predictions)"
   ]
  },
  {
   "cell_type": "code",
   "execution_count": 53,
   "metadata": {},
   "outputs": [
    {
     "name": "stdout",
     "output_type": "stream",
     "text": [
      "   id    target\n",
      "0   5  0.074063\n",
      "1   6  0.520690\n",
      "2   8  0.035177\n",
      "3   9  0.099358\n",
      "4  11  0.089178\n"
     ]
    }
   ],
   "source": [
    "df_kaggle_submission['target'] = test_predictions\n",
    "print(df_kaggle_submission.head())"
   ]
  },
  {
   "cell_type": "code",
   "execution_count": 54,
   "metadata": {},
   "outputs": [
    {
     "name": "stdout",
     "output_type": "stream",
     "text": [
      "Completed writing output file: submission_20220109-1959.csv\n"
     ]
    }
   ],
   "source": [
    "submission_file = df_kaggle_submission.to_csv(header=True, index=False)\n",
    "filename = 'submission_' + datetime.now().strftime('%Y%m%d-%H%M') + '.csv'\n",
    "with open(filename, 'w') as f:\n",
    "    f.write(submission_file)\n",
    "    print('Completed writing output file: ' + filename)"
   ]
  },
  {
   "cell_type": "code",
   "execution_count": 55,
   "metadata": {},
   "outputs": [],
   "source": [
    "if NOTIFY_STATUS: status_notify(\"Task 5 - Finalize Model and Make Predictions completed! \" + datetime.now().strftime('%a %B %d, %Y %I:%M:%S %p'))"
   ]
  },
  {
   "cell_type": "code",
   "execution_count": 56,
   "metadata": {},
   "outputs": [
    {
     "name": "stdout",
     "output_type": "stream",
     "text": [
      "Total time for the script: 1:37:58.164449\n"
     ]
    }
   ],
   "source": [
    "print ('Total time for the script:',(datetime.now() - START_TIME_SCRIPT))"
   ]
  }
 ],
 "metadata": {
  "kernelspec": {
   "display_name": "Python 3 (ipykernel)",
   "language": "python",
   "name": "python3"
  },
  "language_info": {
   "codemirror_mode": {
    "name": "ipython",
    "version": 3
   },
   "file_extension": ".py",
   "mimetype": "text/x-python",
   "name": "python",
   "nbconvert_exporter": "python",
   "pygments_lexer": "ipython3",
   "version": "3.8.10"
  }
 },
 "nbformat": 4,
 "nbformat_minor": 4
}

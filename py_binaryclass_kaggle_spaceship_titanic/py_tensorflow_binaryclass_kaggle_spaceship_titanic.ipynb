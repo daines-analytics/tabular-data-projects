{
  "cells": [
    {
      "cell_type": "markdown",
      "metadata": {
        "id": "hKFYw6W4gY4d"
      },
      "source": [
        "# Binary-Class Tabular Model for Kaggle Spaceship Titanic Using Python and TensorFlow\n",
        "### David Lowe\n",
        "### December 29, 2022\n",
        "\n",
        "SUMMARY: The project aims to construct a predictive model using various machine learning algorithms and document the end-to-end steps using a template. The Kaggle Spaceship Titanic dataset is a binary-class modeling situation where we attempt to predict one of two possible outcomes.\n",
        "\n",
        "INTRODUCTION: In the year 2912, the Spaceship Titanic, an interstellar passenger liner, launched with almost 13,000 passengers on board. The vessel set out on its maiden voyage transporting emigrants from our solar system to three newly habitable exoplanets orbiting nearby stars.\n",
        "\n",
        "While rounding Alpha Centauri en route to its first destination, the unwary Spaceship Titanic collided with a spacetime anomaly hidden within a dust cloud. Sadly, it met a similar fate as its namesake from 1000 years before. Though the ship stayed intact, almost half of the passengers were transported to an alternate dimension!\n",
        "\n",
        "This incident presented a challenge to the data scientists of the future. To help rescue crews and retrieve the lost passengers, the data scientists tried to build a model that predicted which passengers were transported by the anomaly using records recovered from the spaceship’s damaged computer system.\n",
        "\n",
        "ANALYSIS: The average performance of the cross-validated TensorFlow models achieved an accuracy benchmark of 74.75% after training. When we processed the test dataset with the final model, the model achieved an accuracy score of 74.23%.\n",
        "\n",
        "CONCLUSION: In this iteration, TensorFlow appeared to be a suitable algorithm for modeling this dataset.\n",
        "\n",
        "Dataset Used: Spaceship Titanic Dataset\n",
        "\n",
        "Dataset ML Model: Binary-Class classification with numerical and categorical features\n",
        "\n",
        "Dataset Reference: https://www.kaggle.com/competitions/spaceship-titanic\n",
        "\n",
        "One source of potential performance benchmarks: https://www.kaggle.com/competitions/spaceship-titanic/leaderboard"
      ]
    },
    {
      "cell_type": "markdown",
      "metadata": {
        "id": "7WDbRM3ngY4g"
      },
      "source": [
        "## Task 1 - Prepare Environment"
      ]
    },
    {
      "cell_type": "code",
      "execution_count": 1,
      "metadata": {
        "colab": {
          "base_uri": "https://localhost:8080/"
        },
        "id": "RtGN_DBigY4h",
        "outputId": "65406c91-6bff-4db4-c406-679d1be1d76b"
      },
      "outputs": [
        {
          "output_type": "stream",
          "name": "stdout",
          "text": [
            "Mon Dec 19 17:55:39 2022       \n",
            "+-----------------------------------------------------------------------------+\n",
            "| NVIDIA-SMI 460.32.03    Driver Version: 460.32.03    CUDA Version: 11.2     |\n",
            "|-------------------------------+----------------------+----------------------+\n",
            "| GPU  Name        Persistence-M| Bus-Id        Disp.A | Volatile Uncorr. ECC |\n",
            "| Fan  Temp  Perf  Pwr:Usage/Cap|         Memory-Usage | GPU-Util  Compute M. |\n",
            "|                               |                      |               MIG M. |\n",
            "|===============================+======================+======================|\n",
            "|   0  A100-SXM4-40GB      Off  | 00000000:00:04.0 Off |                    0 |\n",
            "| N/A   29C    P0    54W / 400W |      0MiB / 40536MiB |      0%      Default |\n",
            "|                               |                      |             Disabled |\n",
            "+-------------------------------+----------------------+----------------------+\n",
            "                                                                               \n",
            "+-----------------------------------------------------------------------------+\n",
            "| Processes:                                                                  |\n",
            "|  GPU   GI   CI        PID   Type   Process name                  GPU Memory |\n",
            "|        ID   ID                                                   Usage      |\n",
            "|=============================================================================|\n",
            "|  No running processes found                                                 |\n",
            "+-----------------------------------------------------------------------------+\n"
          ]
        }
      ],
      "source": [
        "# Retrieve the GPU information\n",
        "gpu_info = !nvidia-smi\n",
        "gpu_info = '\\n'.join(gpu_info)\n",
        "print(gpu_info)"
      ]
    },
    {
      "cell_type": "code",
      "execution_count": 2,
      "metadata": {
        "colab": {
          "base_uri": "https://localhost:8080/"
        },
        "id": "-IfKhGIQgY4i",
        "outputId": "05154d7f-f3a5-4cf6-8db6-64a9dd8c874f"
      },
      "outputs": [
        {
          "output_type": "stream",
          "name": "stdout",
          "text": [
            "Your runtime has 89.6 gigabytes of available RAM\n",
            "\n"
          ]
        }
      ],
      "source": [
        "# Retrieve the memory configuration\n",
        "from psutil import virtual_memory\n",
        "ram_gb = virtual_memory().total / 1e9\n",
        "print('Your runtime has {:.1f} gigabytes of available RAM\\n'.format(ram_gb))"
      ]
    },
    {
      "cell_type": "code",
      "execution_count": 3,
      "metadata": {
        "colab": {
          "base_uri": "https://localhost:8080/"
        },
        "id": "sTaqGHqFgY4i",
        "outputId": "f8808730-1490-4674-9743-d834c818a22e"
      },
      "outputs": [
        {
          "output_type": "stream",
          "name": "stdout",
          "text": [
            "The number of available CPUs is: 12\n"
          ]
        }
      ],
      "source": [
        "# Retrieve the CPU information\n",
        "ncpu = !nproc\n",
        "print(\"The number of available CPUs is:\", ncpu[0])"
      ]
    },
    {
      "cell_type": "markdown",
      "metadata": {
        "id": "1zXMlvJvgY4i"
      },
      "source": [
        "### 1.a) Load libraries and modules"
      ]
    },
    {
      "cell_type": "code",
      "execution_count": 4,
      "metadata": {
        "id": "09YBLSzegY4j"
      },
      "outputs": [],
      "source": [
        "# Set the random seed number for reproducible results\n",
        "RNG_SEED = 888"
      ]
    },
    {
      "cell_type": "code",
      "execution_count": 5,
      "metadata": {
        "id": "8m3TY4ejgY4j"
      },
      "outputs": [],
      "source": [
        "import random\n",
        "random.seed(RNG_SEED)\n",
        "import numpy as np\n",
        "np.random.seed(RNG_SEED)\n",
        "import pandas as pd\n",
        "import seaborn as sns\n",
        "import matplotlib.pyplot as plt\n",
        "import os\n",
        "import sys\n",
        "import math\n",
        "# import boto3\n",
        "import zipfile\n",
        "import urllib\n",
        "from datetime import datetime\n",
        "from sklearn import preprocessing\n",
        "from sklearn.model_selection import train_test_split\n",
        "from sklearn.model_selection import RepeatedKFold\n",
        "from sklearn.model_selection import cross_val_score\n",
        "from sklearn.metrics import classification_report\n",
        "from sklearn.metrics import confusion_matrix\n",
        "from sklearn.metrics import accuracy_score\n",
        "from sklearn.pipeline import Pipeline\n",
        "from sklearn import compose\n",
        "from sklearn import impute\n",
        "\n",
        "# from sklearn.feature_selection import RFE\n",
        "# from imblearn.pipeline import Pipeline\n",
        "# from imblearn.over_sampling import SMOTE\n",
        "# from imblearn.under_sampling import RandomUnderSampler\n",
        "\n",
        "import tensorflow as tf\n",
        "tf.random.set_seed(RNG_SEED)\n",
        "from tensorflow import keras\n",
        "from tensorflow.keras.callbacks import ReduceLROnPlateau"
      ]
    },
    {
      "cell_type": "markdown",
      "metadata": {
        "id": "wMacKxMQgY4k"
      },
      "source": [
        "### 1.b) Set up the controlling parameters and functions"
      ]
    },
    {
      "cell_type": "code",
      "execution_count": 6,
      "metadata": {
        "id": "ntUrjbA1gY4k"
      },
      "outputs": [],
      "source": [
        "# Begin the timer for the script processing\n",
        "START_TIME_SCRIPT = datetime.now()"
      ]
    },
    {
      "cell_type": "code",
      "execution_count": 7,
      "metadata": {
        "colab": {
          "base_uri": "https://localhost:8080/"
        },
        "id": "kP6lFEdKgY4k",
        "outputId": "438069c6-142b-4a6a-f13a-d1c9fb70fc4d"
      },
      "outputs": [
        {
          "output_type": "stream",
          "name": "stdout",
          "text": [
            "Num GPUs Available: 1\n",
            "TensorFlow version: 2.9.2\n"
          ]
        }
      ],
      "source": [
        "# Set up the number of CPU cores available for multi-thread processing\n",
        "N_JOBS = 1\n",
        "\n",
        "# Set up the flag to stop sending progress emails (setting to True will send status emails!)\n",
        "NOTIFY_STATUS = False\n",
        "\n",
        "# Set the percentage sizes for splitting the dataset\n",
        "TEST_SET_RATIO = 0.1\n",
        "VAL_SET_RATIO = 0.1\n",
        "\n",
        "# Set the name for the class/label column\n",
        "ORIGINAL_LABEL = 'Transported'\n",
        "CLASS_COLUMN = 'target'\n",
        "\n",
        "# Set the number of folds for cross validation\n",
        "N_FOLDS = 5\n",
        "N_ITERATIONS = 1\n",
        "\n",
        "# Set various default modeling parameters\n",
        "DEFAULT_LOSS = 'binary_crossentropy'\n",
        "DEFAULT_METRICS = ['accuracy']\n",
        "DEFAULT_OPTIMIZER = tf.keras.optimizers.Adam(learning_rate=0.00005)\n",
        "CLASSIFIER_ACTIVATION = 'sigmoid'\n",
        "MAX_EPOCHS = 10\n",
        "BATCH_SIZE = 32\n",
        "NUM_CLASSES = 1\n",
        "\n",
        "# Define the labels to use for graphing the data\n",
        "TRAIN_METRIC = \"accuracy\"\n",
        "VALIDATION_METRIC = \"val_accuracy\"\n",
        "TRAIN_LOSS = \"loss\"\n",
        "VALIDATION_LOSS = \"val_loss\"\n",
        "\n",
        "# Define the directory locations and file names\n",
        "TRAIN_DATASET = 'https://dainesanalytics.com/datasets/kaggle-spaceship-titanic-competition/train.csv'\n",
        "TEST_DATASET = 'https://dainesanalytics.com/datasets/kaggle-spaceship-titanic-competition/test.csv'\n",
        "SUBMISSION_TEMPLATE = 'https://dainesanalytics.com/datasets/kaggle-spaceship-titanic-competition/sample_submission.csv'\n",
        "SUBMISSION_FILE = 'submission_tensorflow_'\n",
        "\n",
        "# Check the number of GPUs accessible through TensorFlow\n",
        "print('Num GPUs Available:', len(tf.config.list_physical_devices('GPU')))\n",
        "\n",
        "# Print out the TensorFlow version for confirmation\n",
        "print('TensorFlow version:', tf.__version__)"
      ]
    },
    {
      "cell_type": "code",
      "execution_count": 8,
      "metadata": {
        "id": "oE038Z2TgY4l"
      },
      "outputs": [],
      "source": [
        "# Set up the email notification function\n",
        "def status_notify(msg_text):\n",
        "    access_key = os.environ.get('SNS_ACCESS_KEY')\n",
        "    secret_key = os.environ.get('SNS_SECRET_KEY')\n",
        "    aws_region = os.environ.get('SNS_AWS_REGION')\n",
        "    topic_arn = os.environ.get('SNS_TOPIC_ARN')\n",
        "    if (access_key is None) or (secret_key is None) or (aws_region is None):\n",
        "        sys.exit(\"Incomplete notification setup info. Script Processing Aborted!!!\")\n",
        "    sns = boto3.client('sns', aws_access_key_id=access_key, aws_secret_access_key=secret_key, region_name=aws_region)\n",
        "    response = sns.publish(TopicArn=topic_arn, Message=msg_text)\n",
        "    if response['ResponseMetadata']['HTTPStatusCode'] != 200 :\n",
        "        print('Status notification not OK with HTTP status code:', response['ResponseMetadata']['HTTPStatusCode'])"
      ]
    },
    {
      "cell_type": "code",
      "execution_count": 9,
      "metadata": {
        "id": "66-8fHgpgY4l"
      },
      "outputs": [],
      "source": [
        "if NOTIFY_STATUS: status_notify(\"Task 1 - Prepare Environment has begun! \" + datetime.now().strftime('%a %B %d, %Y %I:%M:%S %p'))"
      ]
    },
    {
      "cell_type": "markdown",
      "metadata": {
        "id": "PIVj6K8vgY4m"
      },
      "source": [
        "### 1.c) Load dataset"
      ]
    },
    {
      "cell_type": "code",
      "execution_count": 10,
      "metadata": {
        "colab": {
          "base_uri": "https://localhost:8080/"
        },
        "id": "wPHVBtrigY4m",
        "outputId": "e8f3d554-6bae-414c-c9c0-dce57fd2368f"
      },
      "outputs": [
        {
          "output_type": "stream",
          "name": "stdout",
          "text": [
            "  PassengerId HomePlanet CryoSleep  Cabin  Destination   Age    VIP  \\\n",
            "0     0001_01     Europa     False  B/0/P  TRAPPIST-1e  39.0  False   \n",
            "1     0002_01      Earth     False  F/0/S  TRAPPIST-1e  24.0  False   \n",
            "2     0003_01     Europa     False  A/0/S  TRAPPIST-1e  58.0   True   \n",
            "3     0003_02     Europa     False  A/0/S  TRAPPIST-1e  33.0  False   \n",
            "4     0004_01      Earth     False  F/1/S  TRAPPIST-1e  16.0  False   \n",
            "\n",
            "   RoomService  FoodCourt  ShoppingMall     Spa  VRDeck               Name  \\\n",
            "0          0.0        0.0           0.0     0.0     0.0    Maham Ofracculy   \n",
            "1        109.0        9.0          25.0   549.0    44.0       Juanna Vines   \n",
            "2         43.0     3576.0           0.0  6715.0    49.0      Altark Susent   \n",
            "3          0.0     1283.0         371.0  3329.0   193.0       Solam Susent   \n",
            "4        303.0       70.0         151.0   565.0     2.0  Willy Santantines   \n",
            "\n",
            "   Transported  \n",
            "0        False  \n",
            "1         True  \n",
            "2        False  \n",
            "3        False  \n",
            "4         True  \n"
          ]
        }
      ],
      "source": [
        "df_dataset_import = pd.read_csv(TRAIN_DATASET)\n",
        "\n",
        "# Take a peek at the dataframe after import\n",
        "print(df_dataset_import.head())"
      ]
    },
    {
      "cell_type": "code",
      "execution_count": 11,
      "metadata": {
        "colab": {
          "base_uri": "https://localhost:8080/"
        },
        "id": "RU6ZZVXkgY4m",
        "outputId": "2af0986d-3b6c-4059-836b-cb11c0cab52f"
      },
      "outputs": [
        {
          "output_type": "stream",
          "name": "stdout",
          "text": [
            "<class 'pandas.core.frame.DataFrame'>\n",
            "RangeIndex: 8693 entries, 0 to 8692\n",
            "Data columns (total 14 columns):\n",
            " #   Column        Non-Null Count  Dtype  \n",
            "---  ------        --------------  -----  \n",
            " 0   PassengerId   8693 non-null   object \n",
            " 1   HomePlanet    8492 non-null   object \n",
            " 2   CryoSleep     8476 non-null   object \n",
            " 3   Cabin         8494 non-null   object \n",
            " 4   Destination   8511 non-null   object \n",
            " 5   Age           8514 non-null   float64\n",
            " 6   VIP           8490 non-null   object \n",
            " 7   RoomService   8512 non-null   float64\n",
            " 8   FoodCourt     8510 non-null   float64\n",
            " 9   ShoppingMall  8485 non-null   float64\n",
            " 10  Spa           8510 non-null   float64\n",
            " 11  VRDeck        8505 non-null   float64\n",
            " 12  Name          8493 non-null   object \n",
            " 13  Transported   8693 non-null   bool   \n",
            "dtypes: bool(1), float64(6), object(7)\n",
            "memory usage: 891.5+ KB\n"
          ]
        }
      ],
      "source": [
        "df_dataset_import.info(verbose=True)"
      ]
    },
    {
      "cell_type": "code",
      "execution_count": 12,
      "metadata": {
        "colab": {
          "base_uri": "https://localhost:8080/"
        },
        "id": "vVby0_N1gY4n",
        "outputId": "3406bf48-fcc2-4ae6-9e20-7645b59ca66b"
      },
      "outputs": [
        {
          "output_type": "stream",
          "name": "stdout",
          "text": [
            "               Age   RoomService     FoodCourt  ShoppingMall           Spa  \\\n",
            "count  8514.000000   8512.000000   8510.000000   8485.000000   8510.000000   \n",
            "mean     28.827930    224.687617    458.077203    173.729169    311.138778   \n",
            "std      14.489021    666.717663   1611.489240    604.696458   1136.705535   \n",
            "min       0.000000      0.000000      0.000000      0.000000      0.000000   \n",
            "25%      19.000000      0.000000      0.000000      0.000000      0.000000   \n",
            "50%      27.000000      0.000000      0.000000      0.000000      0.000000   \n",
            "75%      38.000000     47.000000     76.000000     27.000000     59.000000   \n",
            "max      79.000000  14327.000000  29813.000000  23492.000000  22408.000000   \n",
            "\n",
            "             VRDeck  \n",
            "count   8505.000000  \n",
            "mean     304.854791  \n",
            "std     1145.717189  \n",
            "min        0.000000  \n",
            "25%        0.000000  \n",
            "50%        0.000000  \n",
            "75%       46.000000  \n",
            "max    24133.000000  \n"
          ]
        }
      ],
      "source": [
        "print(df_dataset_import.describe())"
      ]
    },
    {
      "cell_type": "code",
      "execution_count": 13,
      "metadata": {
        "colab": {
          "base_uri": "https://localhost:8080/"
        },
        "id": "TB-d2RodgY4n",
        "outputId": "0d61fe15-6ac7-40a6-e355-883a6795cf5e"
      },
      "outputs": [
        {
          "output_type": "stream",
          "name": "stdout",
          "text": [
            "PassengerId       0\n",
            "HomePlanet      201\n",
            "CryoSleep       217\n",
            "Cabin           199\n",
            "Destination     182\n",
            "Age             179\n",
            "VIP             203\n",
            "RoomService     181\n",
            "FoodCourt       183\n",
            "ShoppingMall    208\n",
            "Spa             183\n",
            "VRDeck          188\n",
            "Name            200\n",
            "Transported       0\n",
            "dtype: int64\n",
            "Total number of NaN in the dataframe:  2324\n"
          ]
        }
      ],
      "source": [
        "print(df_dataset_import.isnull().sum())\n",
        "print('Total number of NaN in the dataframe: ', df_dataset_import.isnull().sum().sum())"
      ]
    },
    {
      "cell_type": "code",
      "execution_count": 14,
      "metadata": {
        "colab": {
          "base_uri": "https://localhost:8080/"
        },
        "id": "63nj6FrtgY4n",
        "outputId": "721c3fc7-a1e6-45ce-c98f-99846cc2dccc"
      },
      "outputs": [
        {
          "output_type": "stream",
          "name": "stdout",
          "text": [
            "Transported\n",
            "False    4315\n",
            "True     4378\n",
            "dtype: int64\n"
          ]
        }
      ],
      "source": [
        "# Get grouping size for the target variable\n",
        "print(df_dataset_import.groupby(ORIGINAL_LABEL).size())"
      ]
    },
    {
      "cell_type": "markdown",
      "metadata": {
        "id": "xrFRVRBygY4n"
      },
      "source": [
        "### 1.d) Data Cleaning"
      ]
    },
    {
      "cell_type": "code",
      "source": [
        "def convert_group(target_col):\n",
        "    # print(target_col)\n",
        "    if (target_col is not None):\n",
        "        group_list = target_col.split('_')\n",
        "        # print(cabin_list)\n",
        "        return group_list[0]\n",
        "    else:\n",
        "        return None\n",
        "\n",
        "def grouping_train(target_col):\n",
        "    # print(target_col)\n",
        "    if (target_col is not None):\n",
        "        if len(df_dataset_import[df_dataset_import['Group_Number']==target_col]) > 1:\n",
        "            return 'Yes'\n",
        "        else:\n",
        "            return 'No'\n",
        "    else:\n",
        "        return 'No'\n",
        "\n",
        "def grouping_test(target_col):\n",
        "    # print(target_col)\n",
        "    if (target_col is not None):\n",
        "        if len(df_features_test[df_features_test['Group_Number']==target_col]) > 1:\n",
        "            return 'Yes'\n",
        "        else:\n",
        "            return 'No'\n",
        "    else:\n",
        "        return 'No'\n",
        "\n",
        "def convert_cabin1(target_col):\n",
        "    # print(target_col)\n",
        "    if (target_col is not None):\n",
        "        cabin_list = target_col.split('/')\n",
        "        # print(cabin_list)\n",
        "        return cabin_list[0]\n",
        "    else:\n",
        "        return None\n",
        "\n",
        "def convert_cabin2(target_col):\n",
        "    # print(target_col)\n",
        "    if (target_col is not None):\n",
        "        cabin_list = target_col.split('/')\n",
        "        # print(cabin_list)\n",
        "        return cabin_list[1]\n",
        "    else:\n",
        "        return None\n",
        "\n",
        "def convert_cabin3(target_col):\n",
        "    # print(target_col)\n",
        "    if (target_col is not None):\n",
        "        cabin_list = target_col.split('/')\n",
        "        # print(cabin_list)\n",
        "        return cabin_list[2]\n",
        "    else:\n",
        "        return None"
      ],
      "metadata": {
        "id": "6rVTMqovyDyQ"
      },
      "execution_count": 15,
      "outputs": []
    },
    {
      "cell_type": "code",
      "execution_count": 16,
      "metadata": {
        "colab": {
          "base_uri": "https://localhost:8080/"
        },
        "id": "hnsWxx4qgY4n",
        "outputId": "595c8fdc-ace8-4172-fcdb-42da868e8d0a"
      },
      "outputs": [
        {
          "output_type": "stream",
          "name": "stdout",
          "text": [
            "  HomePlanet CryoSleep  Destination    VIP  RoomService  FoodCourt  \\\n",
            "0     Europa     False  TRAPPIST-1e  False          0.0        0.0   \n",
            "1      Earth     False  TRAPPIST-1e  False        109.0        9.0   \n",
            "2     Europa     False  TRAPPIST-1e   True         43.0     3576.0   \n",
            "3     Europa     False  TRAPPIST-1e  False          0.0     1283.0   \n",
            "4      Earth     False  TRAPPIST-1e  False        303.0       70.0   \n",
            "\n",
            "   ShoppingMall     Spa  VRDeck  target Grouped Cabin_1 Cabin_2 Cabin_3  \\\n",
            "0           0.0     0.0     0.0   False      No       B       0       P   \n",
            "1          25.0   549.0    44.0    True      No       F       0       S   \n",
            "2           0.0  6715.0    49.0   False     Yes       A       0       S   \n",
            "3         371.0  3329.0   193.0   False     Yes       A       0       S   \n",
            "4         151.0   565.0     2.0    True      No       F       1       S   \n",
            "\n",
            "   Age_Binned  Service_Billed  \n",
            "0         3.0             0.0  \n",
            "1         2.0           736.0  \n",
            "2         5.0         10383.0  \n",
            "3         3.0          5176.0  \n",
            "4         1.0          1091.0  \n"
          ]
        }
      ],
      "source": [
        "# Break up the PassengerId attribute to get the grouping indicator\n",
        "df_dataset_import['Group_Number'] = df_dataset_import['PassengerId'].apply(convert_group)\n",
        "df_dataset_import['Grouped'] = df_dataset_import['Group_Number'].apply(grouping_train)\n",
        "\n",
        "# Break up the Cabin attribute into three separate features\n",
        "df_dataset_import['Cabin'].fillna('G/0/P', inplace=True)\n",
        "df_dataset_import['Cabin'] = df_dataset_import['Cabin'].astype(str)\n",
        "df_dataset_import['Cabin_1'] = df_dataset_import['Cabin'].apply(convert_cabin1)\n",
        "df_dataset_import['Cabin_2'] = df_dataset_import['Cabin'].apply(convert_cabin2)\n",
        "df_dataset_import['Cabin_3'] = df_dataset_import['Cabin'].apply(convert_cabin3)\n",
        "\n",
        "# Fill in some missing fields with the most common values\n",
        "df_dataset_import['HomePlanet'].fillna('Earth', inplace=True)\n",
        "df_dataset_import['CryoSleep'].fillna('FALSE', inplace=True)\n",
        "df_dataset_import['CryoSleep'] = df_dataset_import['CryoSleep'].astype(str)\n",
        "df_dataset_import['Destination'].fillna('TRAPPIST-1e', inplace=True)\n",
        "\n",
        "df_dataset_import['Age'].fillna(value=df_dataset_import['Age'].median(), inplace=True)\n",
        "est = preprocessing.KBinsDiscretizer(n_bins=8, encode='ordinal', strategy='uniform').fit(df_dataset_import['Age'].to_numpy().reshape(-1, 1))\n",
        "df_dataset_import['Age_Binned'] = est.transform(df_dataset_import['Age'].to_numpy().reshape(-1, 1))\n",
        "\n",
        "df_dataset_import['VIP'].fillna('FALSE', inplace=True)\n",
        "df_dataset_import['VIP'] = df_dataset_import['VIP'].astype(str)\n",
        "\n",
        "df_dataset_import['RoomService'].fillna(0, inplace=True)\n",
        "df_dataset_import['FoodCourt'].fillna(0, inplace=True)\n",
        "df_dataset_import['ShoppingMall'].fillna(0, inplace=True)\n",
        "df_dataset_import['Spa'].fillna(0, inplace=True)\n",
        "df_dataset_import['VRDeck'].fillna(0, inplace=True)\n",
        "df_dataset_import['Service_Billed'] = df_dataset_import['RoomService'] + \\\n",
        "                                      df_dataset_import['FoodCourt'] + \\\n",
        "                                      df_dataset_import['ShoppingMall'] + \\\n",
        "                                      df_dataset_import['Spa'] + \\\n",
        "                                      df_dataset_import['VRDeck']\n",
        "\n",
        "df_dataset_import.drop(columns=['PassengerId','Name','Cabin','Age','Group_Number'], inplace=True)\n",
        "\n",
        "# Standardize the class column to the name of targetVar if required\n",
        "df_dataset_import = df_dataset_import.rename(columns={ORIGINAL_LABEL: CLASS_COLUMN})\n",
        "\n",
        "# Take a peek at the dataframe after cleaning\n",
        "print(df_dataset_import.head())"
      ]
    },
    {
      "cell_type": "code",
      "execution_count": 17,
      "metadata": {
        "colab": {
          "base_uri": "https://localhost:8080/"
        },
        "id": "yVWY15q4gY4n",
        "outputId": "504c55e6-29de-41cc-e554-a1f1f07b0e7e"
      },
      "outputs": [
        {
          "output_type": "stream",
          "name": "stdout",
          "text": [
            "<class 'pandas.core.frame.DataFrame'>\n",
            "RangeIndex: 8693 entries, 0 to 8692\n",
            "Data columns (total 16 columns):\n",
            " #   Column          Non-Null Count  Dtype  \n",
            "---  ------          --------------  -----  \n",
            " 0   HomePlanet      8693 non-null   object \n",
            " 1   CryoSleep       8693 non-null   object \n",
            " 2   Destination     8693 non-null   object \n",
            " 3   VIP             8693 non-null   object \n",
            " 4   RoomService     8693 non-null   float64\n",
            " 5   FoodCourt       8693 non-null   float64\n",
            " 6   ShoppingMall    8693 non-null   float64\n",
            " 7   Spa             8693 non-null   float64\n",
            " 8   VRDeck          8693 non-null   float64\n",
            " 9   target          8693 non-null   bool   \n",
            " 10  Grouped         8693 non-null   object \n",
            " 11  Cabin_1         8693 non-null   object \n",
            " 12  Cabin_2         8693 non-null   object \n",
            " 13  Cabin_3         8693 non-null   object \n",
            " 14  Age_Binned      8693 non-null   float64\n",
            " 15  Service_Billed  8693 non-null   float64\n",
            "dtypes: bool(1), float64(7), object(8)\n",
            "memory usage: 1.0+ MB\n"
          ]
        }
      ],
      "source": [
        "df_dataset_import.info(verbose=True)"
      ]
    },
    {
      "cell_type": "code",
      "execution_count": 18,
      "metadata": {
        "colab": {
          "base_uri": "https://localhost:8080/"
        },
        "id": "k6r5ZI7QgY4n",
        "outputId": "b085f236-26a3-44ad-d165-788ba607b115"
      },
      "outputs": [
        {
          "output_type": "stream",
          "name": "stdout",
          "text": [
            "        RoomService     FoodCourt  ShoppingMall           Spa        VRDeck  \\\n",
            "count   8693.000000   8693.000000   8693.000000   8693.000000   8693.000000   \n",
            "mean     220.009318    448.434027    169.572300    304.588865    298.261820   \n",
            "std      660.519050   1595.790627    598.007164   1125.562559   1134.126417   \n",
            "min        0.000000      0.000000      0.000000      0.000000      0.000000   \n",
            "25%        0.000000      0.000000      0.000000      0.000000      0.000000   \n",
            "50%        0.000000      0.000000      0.000000      0.000000      0.000000   \n",
            "75%       41.000000     61.000000     22.000000     53.000000     40.000000   \n",
            "max    14327.000000  29813.000000  23492.000000  22408.000000  24133.000000   \n",
            "\n",
            "        Age_Binned  Service_Billed  \n",
            "count  8693.000000     8693.000000  \n",
            "mean      2.428736     1440.866329  \n",
            "std       1.439655     2803.045694  \n",
            "min       0.000000        0.000000  \n",
            "25%       2.000000        0.000000  \n",
            "50%       2.000000      716.000000  \n",
            "75%       3.000000     1441.000000  \n",
            "max       7.000000    35987.000000  \n"
          ]
        }
      ],
      "source": [
        "print(df_dataset_import.describe())"
      ]
    },
    {
      "cell_type": "code",
      "execution_count": 19,
      "metadata": {
        "colab": {
          "base_uri": "https://localhost:8080/"
        },
        "id": "ELh6lb58gY4o",
        "outputId": "70deaa11-2b5d-47eb-b766-0fb1ccf959a6"
      },
      "outputs": [
        {
          "output_type": "stream",
          "name": "stdout",
          "text": [
            "HomePlanet        0\n",
            "CryoSleep         0\n",
            "Destination       0\n",
            "VIP               0\n",
            "RoomService       0\n",
            "FoodCourt         0\n",
            "ShoppingMall      0\n",
            "Spa               0\n",
            "VRDeck            0\n",
            "target            0\n",
            "Grouped           0\n",
            "Cabin_1           0\n",
            "Cabin_2           0\n",
            "Cabin_3           0\n",
            "Age_Binned        0\n",
            "Service_Billed    0\n",
            "dtype: int64\n",
            "Total number of NaN in the dataframe:  0\n"
          ]
        }
      ],
      "source": [
        "print(df_dataset_import.isnull().sum())\n",
        "print('Total number of NaN in the dataframe: ', df_dataset_import.isnull().sum().sum())"
      ]
    },
    {
      "cell_type": "code",
      "execution_count": 20,
      "metadata": {
        "colab": {
          "base_uri": "https://localhost:8080/"
        },
        "id": "uRh6ttTmgY4o",
        "outputId": "a89a0afc-c3ea-41d1-c2d1-1e249aba9020"
      },
      "outputs": [
        {
          "output_type": "stream",
          "name": "stdout",
          "text": [
            "target\n",
            "False    4315\n",
            "True     4378\n",
            "dtype: int64\n"
          ]
        }
      ],
      "source": [
        "# Get grouping size for the target variable\n",
        "print(df_dataset_import.groupby(CLASS_COLUMN).size())"
      ]
    },
    {
      "cell_type": "markdown",
      "metadata": {
        "id": "qtX0hGYQgY4o"
      },
      "source": [
        "### 1.e) Splitting Data into Sets"
      ]
    },
    {
      "cell_type": "code",
      "execution_count": 21,
      "metadata": {
        "colab": {
          "base_uri": "https://localhost:8080/"
        },
        "id": "f5sZ55iggY4o",
        "outputId": "7b263ab4-f0a4-40d2-db49-691e82055a31"
      },
      "outputs": [
        {
          "output_type": "stream",
          "name": "stdout",
          "text": [
            "df_dataset_import.shape: (8693, 16) df_features_train.shape: (8693, 15) df_target_train.shape: (8693,)\n"
          ]
        }
      ],
      "source": [
        "# Use variable total_column_count to hold the number of columns in the dataframe\n",
        "total_column_count = len(df_dataset_import.columns)\n",
        "\n",
        "# Set up variable total_feature_count for the total number of attribute columns\n",
        "total_feature_count = total_column_count-1\n",
        "\n",
        "# We create attribute-only and target-only datasets (df_features_train and df_target_train)\n",
        "df_target_train = df_dataset_import['target']\n",
        "df_features_train = df_dataset_import.drop(['target'], axis=1)\n",
        "\n",
        "print(\"df_dataset_import.shape: {} df_features_train.shape: {} df_target_train.shape: {}\".format(df_dataset_import.shape, df_features_train.shape, df_target_train.shape))"
      ]
    },
    {
      "cell_type": "markdown",
      "metadata": {
        "id": "sC8HhMFigY4o"
      },
      "source": [
        "### 1.f) Set up the parameters for data visualization"
      ]
    },
    {
      "cell_type": "code",
      "execution_count": 22,
      "metadata": {
        "id": "tpHSlWMAgY4o"
      },
      "outputs": [],
      "source": [
        "# Set up the number of row and columns for visualization display. display_rows * display_columns should be >= total_feature_count\n",
        "display_columns = 4\n",
        "if total_feature_count % display_columns == 0 :\n",
        "    display_rows = total_feature_count // display_columns\n",
        "else :\n",
        "    display_rows = (total_feature_count // display_columns) + 1\n",
        "\n",
        "# Set figure width to display the data visualization plots\n",
        "fig_size = plt.rcParams[\"figure.figsize\"]\n",
        "fig_size[0] = display_columns * 4\n",
        "fig_size[1] = display_rows * 4\n",
        "plt.rcParams[\"figure.figsize\"] = fig_size"
      ]
    },
    {
      "cell_type": "code",
      "execution_count": 23,
      "metadata": {
        "id": "-xmhKicRgY4o"
      },
      "outputs": [],
      "source": [
        "if NOTIFY_STATUS: status_notify(\"Task 1 - Prepare Environment completed! \" + datetime.now().strftime('%a %B %d, %Y %I:%M:%S %p'))"
      ]
    },
    {
      "cell_type": "markdown",
      "metadata": {
        "id": "ZY_jdG1KgY4o"
      },
      "source": [
        "## Task 2 - Summarize and Visualize Data"
      ]
    },
    {
      "cell_type": "code",
      "execution_count": 24,
      "metadata": {
        "id": "Zb7SXyiKgY4p"
      },
      "outputs": [],
      "source": [
        "if NOTIFY_STATUS: status_notify(\"Task 2 - Summarize and Visualize Data has begun! \" + datetime.now().strftime('%a %B %d, %Y %I:%M:%S %p'))"
      ]
    },
    {
      "cell_type": "code",
      "execution_count": 25,
      "metadata": {
        "colab": {
          "base_uri": "https://localhost:8080/",
          "height": 464
        },
        "id": "VWT0YKX1gY4p",
        "outputId": "8ecd4afd-ef27-4d2c-9113-b8c52ea6eb68"
      },
      "outputs": [
        {
          "output_type": "display_data",
          "data": {
            "text/plain": [
              "<Figure size 1152x1152 with 16 Axes>"
            ],
            "image/png": "[encoded data removed]"
          },
          "metadata": {
            "needs_background": "light"
          }
        }
      ],
      "source": [
        "# Histograms for each attribute\n",
        "df_features_train.plot(kind='hist', subplots=True, layout=(display_rows, display_columns))\n",
        "plt.show()"
      ]
    },
    {
      "cell_type": "code",
      "execution_count": 26,
      "metadata": {
        "colab": {
          "base_uri": "https://localhost:8080/",
          "height": 465
        },
        "id": "95yn8aQcgY4p",
        "outputId": "a8f9f73c-28a8-4167-c6b2-3c48a8bf8976"
      },
      "outputs": [
        {
          "output_type": "display_data",
          "data": {
            "text/plain": [
              "<Figure size 1152x1152 with 16 Axes>"
            ],
            "image/png": "[encoded data removed]"
          },
          "metadata": {
            "needs_background": "light"
          }
        }
      ],
      "source": [
        "# Box and Whisker plot for each attribute\n",
        "df_features_train.plot(kind='box', subplots=True, layout=(display_rows, display_columns))\n",
        "plt.show()"
      ]
    },
    {
      "cell_type": "code",
      "execution_count": 27,
      "metadata": {
        "id": "Pm7hPV1ygY4p",
        "colab": {
          "base_uri": "https://localhost:8080/",
          "height": 1000
        },
        "outputId": "2c7a2bc4-8ab7-43c0-b514-e85fc828f842"
      },
      "outputs": [
        {
          "output_type": "display_data",
          "data": {
            "text/plain": [
              "<Figure size 1440x1440 with 2 Axes>"
            ],
            "image/png": "[encoded data removed]"
          },
          "metadata": {
            "needs_background": "light"
          }
        }
      ],
      "source": [
        "# Correlation matrix\n",
        "fig = plt.figure(figsize=(20, 20))\n",
        "correlations = df_features_train.corr(method='pearson')\n",
        "sns.heatmap(correlations, annot=True, cmap=plt.cm.PuBu)\n",
        "plt.show()"
      ]
    },
    {
      "cell_type": "code",
      "execution_count": 28,
      "metadata": {
        "id": "hhpsOaR8gY4p"
      },
      "outputs": [],
      "source": [
        "if NOTIFY_STATUS: status_notify(\"Task 2 - Summarize and Visualize Data completed! \" + datetime.now().strftime('%a %B %d, %Y %I:%M:%S %p'))"
      ]
    },
    {
      "cell_type": "markdown",
      "metadata": {
        "id": "Na89zUHsgY4p"
      },
      "source": [
        "## Task 3 - Pre-process Data"
      ]
    },
    {
      "cell_type": "code",
      "execution_count": 29,
      "metadata": {
        "id": "UcBkrlDsgY4p"
      },
      "outputs": [],
      "source": [
        "if NOTIFY_STATUS: status_notify(\"Task 3 - Pre-process Data has begun! \" + datetime.now().strftime('%a %B %d, %Y %I:%M:%S %p'))"
      ]
    },
    {
      "cell_type": "markdown",
      "metadata": {
        "id": "wWpp40QLgY4p"
      },
      "source": [
        "### 3.a) Feature Scaling"
      ]
    },
    {
      "cell_type": "code",
      "execution_count": 30,
      "metadata": {
        "colab": {
          "base_uri": "https://localhost:8080/"
        },
        "id": "Y5Tr664fgY4p",
        "outputId": "43a488b0-3f4a-4057-f43b-6a1fa28a47bb"
      },
      "outputs": [
        {
          "output_type": "stream",
          "name": "stdout",
          "text": [
            "Number of numerical columns: 7\n",
            "Number of categorical columns: 8\n",
            "Total number of columns in the feature dataframe: 15\n"
          ]
        }
      ],
      "source": [
        "# Compose pipeline for the numerical and categorical features (Block #1 of 2)\n",
        "numeric_columns = df_features_train.select_dtypes(include=['float','int']).columns\n",
        "numeric_transformer = Pipeline(steps=[\n",
        "    ('imputer', impute.SimpleImputer(strategy=\"constant\", fill_value=0)),\n",
        "    ('scaler', preprocessing.StandardScaler())\n",
        "])\n",
        "categorical_columns = df_features_train.select_dtypes(include=['object','bool','category']).columns\n",
        "categorical_transformer = Pipeline(steps=[\n",
        "    ('imputer', impute.SimpleImputer(strategy='constant', fill_value='UKNOWN')),\n",
        "    ('onehot', preprocessing.OneHotEncoder(sparse=False, handle_unknown='ignore'))\n",
        "])\n",
        "\n",
        "print(\"Number of numerical columns:\", len(numeric_columns))\n",
        "print(\"Number of categorical columns:\", len(categorical_columns))\n",
        "print(\"Total number of columns in the feature dataframe:\", df_features_train.shape[1])"
      ]
    },
    {
      "cell_type": "code",
      "execution_count": 31,
      "metadata": {
        "colab": {
          "base_uri": "https://localhost:8080/"
        },
        "id": "ehI4QlSogY4p",
        "outputId": "17cc23d4-9e20-4156-a848-75bc6134b6a4"
      },
      "outputs": [
        {
          "output_type": "stream",
          "name": "stdout",
          "text": [
            "Transformed features from df_features_train.shape: (8693, 15) to array_features_train.shape: (8693, 1848)\n"
          ]
        }
      ],
      "source": [
        "# Compose pipeline for the numerical and categorical features (Block #2 of 2)\n",
        "preprocessor = compose.ColumnTransformer(transformers=[\n",
        "    ('num', numeric_transformer, numeric_columns),\n",
        "    ('cat', categorical_transformer, categorical_columns)\n",
        "    ], remainder='passthrough')\n",
        "\n",
        "# Display the shapes of the training dataset for final inspection\n",
        "array_features_train = preprocessor.fit_transform(df_features_train)\n",
        "print(\"Transformed features from df_features_train.shape: {} to array_features_train.shape: {}\".format(df_features_train.shape, array_features_train.shape))"
      ]
    },
    {
      "cell_type": "markdown",
      "metadata": {
        "id": "rypMMNzzgY4q"
      },
      "source": [
        "### 3.b) Training Data Balancing"
      ]
    },
    {
      "cell_type": "code",
      "execution_count": 32,
      "metadata": {
        "id": "B2k0MMY-gY4q"
      },
      "outputs": [],
      "source": [
        "# Not applicable for this iteration of the project"
      ]
    },
    {
      "cell_type": "markdown",
      "metadata": {
        "id": "2LZ_O8gJgY4q"
      },
      "source": [
        "### 3.c) Feature Selection"
      ]
    },
    {
      "cell_type": "code",
      "execution_count": 33,
      "metadata": {
        "id": "Rw9Z2jHQgY4q"
      },
      "outputs": [],
      "source": [
        "# Not applicable for this iteration of the project"
      ]
    },
    {
      "cell_type": "markdown",
      "metadata": {
        "id": "yxUhP3jKgY4q"
      },
      "source": [
        "### 3.d) Display the Final Datasets for Model-Building"
      ]
    },
    {
      "cell_type": "code",
      "execution_count": 34,
      "metadata": {
        "colab": {
          "base_uri": "https://localhost:8080/"
        },
        "id": "fF3CFB8ggY4q",
        "outputId": "ecc48e1c-9723-46c3-b016-c4d572a8ec90"
      },
      "outputs": [
        {
          "output_type": "stream",
          "name": "stdout",
          "text": [
            "array_features_train.shape: (8693, 1848) array_target_train.shape: (8693,)\n"
          ]
        }
      ],
      "source": [
        "# Finalize the training dataset for the modeling activities\n",
        "label_encoder = preprocessing.LabelEncoder()\n",
        "array_target_train = label_encoder.fit_transform(df_target_train)\n",
        "print(\"array_features_train.shape: {} array_target_train.shape: {}\".format(array_features_train.shape, array_target_train.shape))"
      ]
    },
    {
      "cell_type": "code",
      "execution_count": 35,
      "metadata": {
        "id": "hbw2jg3VgY4q"
      },
      "outputs": [],
      "source": [
        "if NOTIFY_STATUS: status_notify(\"Task 3 - Pre-process Data completed! \" + datetime.now().strftime('%a %B %d, %Y %I:%M:%S %p'))"
      ]
    },
    {
      "cell_type": "markdown",
      "metadata": {
        "id": "OlGHFL9OgY4q"
      },
      "source": [
        "## Task 4 - Train and Tune Models"
      ]
    },
    {
      "cell_type": "code",
      "execution_count": 36,
      "metadata": {
        "id": "j9LvmXjFgY4q"
      },
      "outputs": [],
      "source": [
        "if NOTIFY_STATUS: status_notify(\"Task 4 - Train and Tune Models has begun! \" + datetime.now().strftime('%a %B %d, %Y %I:%M:%S %p'))"
      ]
    },
    {
      "cell_type": "markdown",
      "metadata": {
        "id": "qRysv_23gY4q"
      },
      "source": [
        "### 4.a) Set test options and evaluation metric"
      ]
    },
    {
      "cell_type": "code",
      "execution_count": 37,
      "metadata": {
        "id": "ad5r3B5bgY4q"
      },
      "outputs": [],
      "source": [
        "# Define the baseline model for benchmarking\n",
        "def create_nn_model(input_param=array_features_train.shape[1], output_param=NUM_CLASSES,\n",
        "                    layer1_nodes=4096, layer2_nodes=2048, layer3_nodes=1024, layer4_nodes=1024, layer5_nodes=512,\n",
        "                    layer1_dropout=0, layer2_dropout=0, layer3_dropout=0, layer4_dropout=0, layer5_dropout=0,\n",
        "                    classifier_activation=CLASSIFIER_ACTIVATION,\n",
        "                    loss_param=DEFAULT_LOSS, opt_param=DEFAULT_OPTIMIZER, metrics_param=DEFAULT_METRICS):\n",
        "    nn_model = keras.Sequential([\n",
        "        keras.layers.Dense(layer1_nodes, input_shape=(input_param,), activation='relu'),\n",
        "        keras.layers.Dropout(layer1_dropout),\n",
        "        keras.layers.Dense(layer2_nodes, activation='relu'),\n",
        "        keras.layers.Dropout(layer2_dropout),\n",
        "        keras.layers.Dense(layer3_nodes, activation='relu'),\n",
        "        keras.layers.Dropout(layer3_dropout),\n",
        "        keras.layers.Dense(layer4_nodes, activation='relu'),\n",
        "        keras.layers.Dropout(layer4_dropout),\n",
        "        keras.layers.Dense(layer5_nodes, activation='relu'),\n",
        "        keras.layers.Dropout(layer5_dropout),\n",
        "        keras.layers.Dense(output_param, activation=classifier_activation)\n",
        "    ])\n",
        "    nn_model.compile(loss=loss_param, optimizer=opt_param, metrics=metrics_param)\n",
        "    return nn_model"
      ]
    },
    {
      "cell_type": "code",
      "execution_count": 38,
      "metadata": {
        "colab": {
          "base_uri": "https://localhost:8080/"
        },
        "id": "BVUq0C7ygY4r",
        "outputId": "56857641-6a8c-4673-e729-6b6659b42a7a"
      },
      "outputs": [
        {
          "output_type": "stream",
          "name": "stdout",
          "text": [
            "Epoch 1/10\n",
            "218/218 [==============================] - 2s 3ms/step - loss: 0.4706 - accuracy: 0.7754\n",
            "Epoch 2/10\n",
            "218/218 [==============================] - 1s 3ms/step - loss: 0.3948 - accuracy: 0.8154\n",
            "Epoch 3/10\n",
            "218/218 [==============================] - 1s 4ms/step - loss: 0.3512 - accuracy: 0.8374\n",
            "Epoch 4/10\n",
            "218/218 [==============================] - 1s 3ms/step - loss: 0.2884 - accuracy: 0.8753\n",
            "Epoch 5/10\n",
            "218/218 [==============================] - 1s 3ms/step - loss: 0.2118 - accuracy: 0.9163\n",
            "Epoch 6/10\n",
            "218/218 [==============================] - 1s 3ms/step - loss: 0.1339 - accuracy: 0.9479\n",
            "Epoch 7/10\n",
            "218/218 [==============================] - 1s 3ms/step - loss: 0.0826 - accuracy: 0.9720\n",
            "Epoch 8/10\n",
            "218/218 [==============================] - 1s 3ms/step - loss: 0.0618 - accuracy: 0.9763\n",
            "Epoch 9/10\n",
            "218/218 [==============================] - 1s 3ms/step - loss: 0.0559 - accuracy: 0.9786\n",
            "Epoch 10/10\n",
            "218/218 [==============================] - 1s 3ms/step - loss: 0.0502 - accuracy: 0.9823\n",
            "Score from iteration 1 >>> 0.7453\n",
            "Epoch 1/10\n",
            "218/218 [==============================] - 1s 3ms/step - loss: 0.4502 - accuracy: 0.7787\n",
            "Epoch 2/10\n",
            "218/218 [==============================] - 1s 3ms/step - loss: 0.3779 - accuracy: 0.8225\n",
            "Epoch 3/10\n",
            "218/218 [==============================] - 1s 3ms/step - loss: 0.3073 - accuracy: 0.8655\n",
            "Epoch 4/10\n",
            "218/218 [==============================] - 1s 4ms/step - loss: 0.2134 - accuracy: 0.9144\n",
            "Epoch 5/10\n",
            "218/218 [==============================] - 1s 3ms/step - loss: 0.1332 - accuracy: 0.9479\n",
            "Epoch 6/10\n",
            "218/218 [==============================] - 1s 3ms/step - loss: 0.0761 - accuracy: 0.9688\n",
            "Epoch 7/10\n",
            "218/218 [==============================] - 1s 4ms/step - loss: 0.0613 - accuracy: 0.9776\n",
            "Epoch 8/10\n",
            "218/218 [==============================] - 1s 4ms/step - loss: 0.0417 - accuracy: 0.9826\n",
            "Epoch 9/10\n",
            "218/218 [==============================] - 1s 4ms/step - loss: 0.0309 - accuracy: 0.9873\n",
            "Epoch 10/10\n",
            "218/218 [==============================] - 1s 3ms/step - loss: 0.0272 - accuracy: 0.9882\n",
            "Score from iteration 2 >>> 0.7539\n",
            "Epoch 1/10\n",
            "218/218 [==============================] - 1s 3ms/step - loss: 0.4484 - accuracy: 0.7777\n",
            "Epoch 2/10\n",
            "218/218 [==============================] - 1s 3ms/step - loss: 0.3674 - accuracy: 0.8335\n",
            "Epoch 3/10\n",
            "218/218 [==============================] - 1s 4ms/step - loss: 0.2957 - accuracy: 0.8753\n",
            "Epoch 4/10\n",
            "218/218 [==============================] - 1s 3ms/step - loss: 0.2033 - accuracy: 0.9162\n",
            "Epoch 5/10\n",
            "218/218 [==============================] - 1s 3ms/step - loss: 0.1244 - accuracy: 0.9505\n",
            "Epoch 6/10\n",
            "218/218 [==============================] - 1s 3ms/step - loss: 0.0701 - accuracy: 0.9704\n",
            "Epoch 7/10\n",
            "218/218 [==============================] - 1s 3ms/step - loss: 0.0509 - accuracy: 0.9783\n",
            "Epoch 8/10\n",
            "218/218 [==============================] - 1s 3ms/step - loss: 0.0393 - accuracy: 0.9833\n",
            "Epoch 9/10\n",
            "218/218 [==============================] - 1s 3ms/step - loss: 0.0308 - accuracy: 0.9850\n",
            "Epoch 10/10\n",
            "218/218 [==============================] - 1s 3ms/step - loss: 0.0232 - accuracy: 0.9888\n",
            "Score from iteration 3 >>> 0.7545\n",
            "Epoch 1/10\n",
            "218/218 [==============================] - 1s 3ms/step - loss: 0.4456 - accuracy: 0.7863\n",
            "Epoch 2/10\n",
            "218/218 [==============================] - 1s 3ms/step - loss: 0.3658 - accuracy: 0.8308\n",
            "Epoch 3/10\n",
            "218/218 [==============================] - 1s 3ms/step - loss: 0.2956 - accuracy: 0.8717\n",
            "Epoch 4/10\n",
            "218/218 [==============================] - 1s 3ms/step - loss: 0.2029 - accuracy: 0.9170\n",
            "Epoch 5/10\n",
            "218/218 [==============================] - 1s 3ms/step - loss: 0.1232 - accuracy: 0.9523\n",
            "Epoch 6/10\n",
            "218/218 [==============================] - 1s 3ms/step - loss: 0.0738 - accuracy: 0.9717\n",
            "Epoch 7/10\n",
            "218/218 [==============================] - 1s 4ms/step - loss: 0.0394 - accuracy: 0.9848\n",
            "Epoch 8/10\n",
            "218/218 [==============================] - 1s 3ms/step - loss: 0.0375 - accuracy: 0.9833\n",
            "Epoch 9/10\n",
            "218/218 [==============================] - 1s 3ms/step - loss: 0.0456 - accuracy: 0.9843\n",
            "Epoch 10/10\n",
            "218/218 [==============================] - 1s 3ms/step - loss: 0.0247 - accuracy: 0.9905\n",
            "Score from iteration 4 >>> 0.7342\n",
            "Epoch 1/10\n",
            "218/218 [==============================] - 1s 3ms/step - loss: 0.4449 - accuracy: 0.7806\n",
            "Epoch 2/10\n",
            "218/218 [==============================] - 1s 3ms/step - loss: 0.3712 - accuracy: 0.8286\n",
            "Epoch 3/10\n",
            "218/218 [==============================] - 1s 3ms/step - loss: 0.3002 - accuracy: 0.8692\n",
            "Epoch 4/10\n",
            "218/218 [==============================] - 1s 3ms/step - loss: 0.2082 - accuracy: 0.9162\n",
            "Epoch 5/10\n",
            "218/218 [==============================] - 1s 3ms/step - loss: 0.1253 - accuracy: 0.9507\n",
            "Epoch 6/10\n",
            "218/218 [==============================] - 1s 3ms/step - loss: 0.0833 - accuracy: 0.9681\n",
            "Epoch 7/10\n",
            "218/218 [==============================] - 1s 3ms/step - loss: 0.0462 - accuracy: 0.9806\n",
            "Epoch 8/10\n",
            "218/218 [==============================] - 1s 3ms/step - loss: 0.0360 - accuracy: 0.9850\n",
            "Epoch 9/10\n",
            "218/218 [==============================] - 1s 3ms/step - loss: 0.0284 - accuracy: 0.9875\n",
            "Epoch 10/10\n",
            "218/218 [==============================] - 1s 4ms/step - loss: 0.0270 - accuracy: 0.9875\n",
            "Score from iteration 5 >>> 0.7497\n",
            "Average model score from all iterations: 0.7475 (0.0074)\n",
            "Total time for model fitting and cross validating: 0:00:44.809854\n"
          ]
        }
      ],
      "source": [
        "# Initialize the default model and get a baseline result\n",
        "start_time_module = datetime.now()\n",
        "results = list()\n",
        "iteration = 0\n",
        "cv = RepeatedKFold(n_splits=N_FOLDS, n_repeats=N_ITERATIONS, random_state=RNG_SEED)\n",
        "for train_ix, val_ix in cv.split(array_features_train):\n",
        "    feature_train, feature_validation = array_features_train[train_ix], array_features_train[val_ix]\n",
        "    target_train, target_validation = array_target_train[train_ix], array_target_train[val_ix]\n",
        "    tf.keras.utils.set_random_seed(RNG_SEED)\n",
        "    baseline_model = create_nn_model()\n",
        "    baseline_model.fit(feature_train, target_train, epochs=MAX_EPOCHS, batch_size=BATCH_SIZE, verbose=1)\n",
        "    model_metric = baseline_model.evaluate(feature_validation, target_validation, verbose=0)[1]\n",
        "    iteration = iteration + 1\n",
        "    print('Score from iteration %d >>> %.4f' % (iteration, model_metric))\n",
        "    results.append(model_metric)\n",
        "validation_score = np.mean(results)\n",
        "validation_variance = np.std(results)\n",
        "print('Average model score from all iterations: %.4f (%.4f)' % (validation_score, validation_variance))\n",
        "print('Total time for model fitting and cross validating:', (datetime.now() - start_time_module))"
      ]
    },
    {
      "cell_type": "markdown",
      "metadata": {
        "id": "Fcks1-zsgY4r"
      },
      "source": [
        "### 4.b) Algorithm Tuning"
      ]
    },
    {
      "cell_type": "code",
      "execution_count": 39,
      "metadata": {
        "id": "lRob5CiUdur9"
      },
      "outputs": [],
      "source": [
        "if NOTIFY_STATUS: status_notify(\"Task 4 - Train and Tune Models has begun! \" + datetime.now().strftime('%a %B %d, %Y %I:%M:%S %p'))"
      ]
    },
    {
      "cell_type": "code",
      "execution_count": 40,
      "metadata": {
        "id": "Ab8YuMfugY4r"
      },
      "outputs": [],
      "source": [
        "# Not applicable for this iteration of modeling"
      ]
    },
    {
      "cell_type": "code",
      "execution_count": 41,
      "metadata": {
        "id": "V74FnN5ogY4r"
      },
      "outputs": [],
      "source": [
        "if NOTIFY_STATUS: status_notify(\"Task 4 - Train and Tune Models completed! \" + datetime.now().strftime('%a %B %d, %Y %I:%M:%S %p'))"
      ]
    },
    {
      "cell_type": "markdown",
      "metadata": {
        "id": "sJ5WVT3XgY4r"
      },
      "source": [
        "## Task 5 - Finalize Model and Make Predictions"
      ]
    },
    {
      "cell_type": "code",
      "execution_count": 42,
      "metadata": {
        "id": "ZPpqPFt9gY4r"
      },
      "outputs": [],
      "source": [
        "if NOTIFY_STATUS: status_notify(\"Task 5 - Finalize Model and Make Predictions has begun! \" + datetime.now().strftime('%a %B %d, %Y %I:%M:%S %p'))"
      ]
    },
    {
      "cell_type": "markdown",
      "source": [
        "### 5.a) Train the Final Model"
      ],
      "metadata": {
        "id": "eDZG6I3KzdpY"
      }
    },
    {
      "cell_type": "code",
      "execution_count": 43,
      "metadata": {
        "colab": {
          "base_uri": "https://localhost:8080/"
        },
        "id": "NB72_n-CgY4r",
        "outputId": "d39df2f1-4e4c-4e2f-e84e-8fc0c44e063f"
      },
      "outputs": [
        {
          "output_type": "stream",
          "name": "stdout",
          "text": [
            "Epoch 1/10\n",
            "272/272 [==============================] - 1s 3ms/step - loss: 0.4576 - accuracy: 0.7822\n",
            "Epoch 2/10\n",
            "272/272 [==============================] - 1s 3ms/step - loss: 0.3899 - accuracy: 0.8167\n",
            "Epoch 3/10\n",
            "272/272 [==============================] - 1s 3ms/step - loss: 0.3496 - accuracy: 0.8430\n",
            "Epoch 4/10\n",
            "272/272 [==============================] - 1s 3ms/step - loss: 0.2850 - accuracy: 0.8817\n",
            "Epoch 5/10\n",
            "272/272 [==============================] - 1s 3ms/step - loss: 0.1993 - accuracy: 0.9166\n",
            "Epoch 6/10\n",
            "272/272 [==============================] - 1s 3ms/step - loss: 0.1354 - accuracy: 0.9460\n",
            "Epoch 7/10\n",
            "272/272 [==============================] - 1s 3ms/step - loss: 0.0891 - accuracy: 0.9645\n",
            "Epoch 8/10\n",
            "272/272 [==============================] - 1s 3ms/step - loss: 0.0567 - accuracy: 0.9784\n",
            "Epoch 9/10\n",
            "272/272 [==============================] - 1s 3ms/step - loss: 0.0513 - accuracy: 0.9798\n",
            "Epoch 10/10\n",
            "272/272 [==============================] - 1s 3ms/step - loss: 0.0411 - accuracy: 0.9827\n",
            "Model: \"sequential_5\"\n",
            "_________________________________________________________________\n",
            " Layer (type)                Output Shape              Param #   \n",
            "=================================================================\n",
            " dense_30 (Dense)            (None, 4096)              7573504   \n",
            "                                                                 \n",
            " dropout_25 (Dropout)        (None, 4096)              0         \n",
            "                                                                 \n",
            " dense_31 (Dense)            (None, 2048)              8390656   \n",
            "                                                                 \n",
            " dropout_26 (Dropout)        (None, 2048)              0         \n",
            "                                                                 \n",
            " dense_32 (Dense)            (None, 1024)              2098176   \n",
            "                                                                 \n",
            " dropout_27 (Dropout)        (None, 1024)              0         \n",
            "                                                                 \n",
            " dense_33 (Dense)            (None, 1024)              1049600   \n",
            "                                                                 \n",
            " dropout_28 (Dropout)        (None, 1024)              0         \n",
            "                                                                 \n",
            " dense_34 (Dense)            (None, 512)               524800    \n",
            "                                                                 \n",
            " dropout_29 (Dropout)        (None, 512)               0         \n",
            "                                                                 \n",
            " dense_35 (Dense)            (None, 1)                 513       \n",
            "                                                                 \n",
            "=================================================================\n",
            "Total params: 19,637,249\n",
            "Trainable params: 19,637,249\n",
            "Non-trainable params: 0\n",
            "_________________________________________________________________\n"
          ]
        }
      ],
      "source": [
        "FINAL_OPTIMIZER = tf.keras.optimizers.Adam(learning_rate=0.00005)\n",
        "tf.keras.utils.set_random_seed(RNG_SEED)\n",
        "final_model = create_nn_model(opt_param=FINAL_OPTIMIZER)\n",
        "final_model.fit(array_features_train, array_target_train, epochs=MAX_EPOCHS, batch_size=BATCH_SIZE, verbose=1)\n",
        "final_model.summary()"
      ]
    },
    {
      "cell_type": "markdown",
      "source": [
        "### 5.b) Load Test Dataset and Make Predictions"
      ],
      "metadata": {
        "id": "lgEvffI2Mpnx"
      }
    },
    {
      "cell_type": "code",
      "source": [
        "df_features_test = pd.read_csv(TEST_DATASET)\n",
        "\n",
        "# Take a peek at the dataframe after import\n",
        "print(df_features_test.head())"
      ],
      "metadata": {
        "id": "h7WgCCfHMPub",
        "colab": {
          "base_uri": "https://localhost:8080/"
        },
        "outputId": "56c9fa79-86a9-4830-942b-56db1feebafd"
      },
      "execution_count": 44,
      "outputs": [
        {
          "output_type": "stream",
          "name": "stdout",
          "text": [
            "  PassengerId HomePlanet CryoSleep  Cabin  Destination   Age    VIP  \\\n",
            "0     0013_01      Earth      True  G/3/S  TRAPPIST-1e  27.0  False   \n",
            "1     0018_01      Earth     False  F/4/S  TRAPPIST-1e  19.0  False   \n",
            "2     0019_01     Europa      True  C/0/S  55 Cancri e  31.0  False   \n",
            "3     0021_01     Europa     False  C/1/S  TRAPPIST-1e  38.0  False   \n",
            "4     0023_01      Earth     False  F/5/S  TRAPPIST-1e  20.0  False   \n",
            "\n",
            "   RoomService  FoodCourt  ShoppingMall     Spa  VRDeck              Name  \n",
            "0          0.0        0.0           0.0     0.0     0.0   Nelly Carsoning  \n",
            "1          0.0        9.0           0.0  2823.0     0.0    Lerome Peckers  \n",
            "2          0.0        0.0           0.0     0.0     0.0   Sabih Unhearfus  \n",
            "3          0.0     6652.0           0.0   181.0   585.0  Meratz Caltilter  \n",
            "4         10.0        0.0         635.0     0.0     0.0   Brence Harperez  \n"
          ]
        }
      ]
    },
    {
      "cell_type": "code",
      "source": [
        "id_column_name = df_features_test.columns[0]\n",
        "df_kaggle_submission = pd.DataFrame()\n",
        "df_kaggle_submission[id_column_name] = df_features_test[id_column_name]\n",
        "print(df_kaggle_submission.head())"
      ],
      "metadata": {
        "id": "UWJg6T5zMyxJ",
        "colab": {
          "base_uri": "https://localhost:8080/"
        },
        "outputId": "7c8d935a-1128-4985-e0cb-bf1f1d42506c"
      },
      "execution_count": 45,
      "outputs": [
        {
          "output_type": "stream",
          "name": "stdout",
          "text": [
            "  PassengerId\n",
            "0     0013_01\n",
            "1     0018_01\n",
            "2     0019_01\n",
            "3     0021_01\n",
            "4     0023_01\n"
          ]
        }
      ]
    },
    {
      "cell_type": "code",
      "source": [
        "# Break up the PassengerId attribute to get the grouping indicator\n",
        "df_features_test['Group_Number'] = df_features_test['PassengerId'].apply(convert_group)\n",
        "df_features_test['Grouped'] = df_features_test['Group_Number'].apply(grouping_test)\n",
        "\n",
        "# Break up the Cabin attribute into three separate features\n",
        "df_features_test['Cabin'].fillna('X/0/X', inplace=True)\n",
        "df_features_test['Cabin'] = df_features_test['Cabin'].astype(str)\n",
        "df_features_test['Cabin_1'] = df_features_test['Cabin'].apply(convert_cabin1)\n",
        "df_features_test['Cabin_2'] = df_features_test['Cabin'].apply(convert_cabin2)\n",
        "df_features_test['Cabin_3'] = df_features_test['Cabin'].apply(convert_cabin3)\n",
        "\n",
        "# Fill in some missing fields with the most common values\n",
        "df_features_test['HomePlanet'].fillna('Earth', inplace=True)\n",
        "df_features_test['CryoSleep'].fillna('FALSE', inplace=True)\n",
        "df_features_test['CryoSleep'] = df_features_test['CryoSleep'].astype(str)\n",
        "df_features_test['Destination'].fillna('TRAPPIST-1e', inplace=True)\n",
        "\n",
        "df_features_test['Age'].fillna(value=df_features_test['Age'].median(), inplace=True)\n",
        "df_features_test['Age_Binned'] = est.transform(df_features_test['Age'].to_numpy().reshape(-1, 1))\n",
        "\n",
        "df_features_test['VIP'].fillna('FALSE', inplace=True)\n",
        "df_features_test['VIP'] = df_features_test['VIP'].astype(str)\n",
        "\n",
        "df_features_test['RoomService'].fillna(0, inplace=True)\n",
        "df_features_test['FoodCourt'].fillna(0, inplace=True)\n",
        "df_features_test['ShoppingMall'].fillna(0, inplace=True)\n",
        "df_features_test['Spa'].fillna(0, inplace=True)\n",
        "df_features_test['VRDeck'].fillna(0, inplace=True)\n",
        "df_features_test['Service_Billed'] = df_features_test['RoomService'] + \\\n",
        "                                     df_features_test['FoodCourt'] + \\\n",
        "                                     df_features_test['ShoppingMall'] + \\\n",
        "                                     df_features_test['Spa'] + \\\n",
        "                                     df_features_test['VRDeck']\n",
        "\n",
        "df_features_test.drop(columns=[id_column_name,'Name','Cabin','Age','Group_Number'], inplace=True)\n",
        "\n",
        "# Take a peek at the dataframe after cleaning\n",
        "print(df_features_test.head())"
      ],
      "metadata": {
        "id": "WnH5v-ejM8u_",
        "colab": {
          "base_uri": "https://localhost:8080/"
        },
        "outputId": "fe42dabc-e17e-4718-fe6f-3affdee20c80"
      },
      "execution_count": 46,
      "outputs": [
        {
          "output_type": "stream",
          "name": "stdout",
          "text": [
            "  HomePlanet CryoSleep  Destination    VIP  RoomService  FoodCourt  \\\n",
            "0      Earth      True  TRAPPIST-1e  False          0.0        0.0   \n",
            "1      Earth     False  TRAPPIST-1e  False          0.0        9.0   \n",
            "2     Europa      True  55 Cancri e  False          0.0        0.0   \n",
            "3     Europa     False  TRAPPIST-1e  False          0.0     6652.0   \n",
            "4      Earth     False  TRAPPIST-1e  False         10.0        0.0   \n",
            "\n",
            "   ShoppingMall     Spa  VRDeck Grouped Cabin_1 Cabin_2 Cabin_3  Age_Binned  \\\n",
            "0           0.0     0.0     0.0      No       G       3       S         2.0   \n",
            "1           0.0  2823.0     0.0      No       F       4       S         1.0   \n",
            "2           0.0     0.0     0.0      No       C       0       S         3.0   \n",
            "3           0.0   181.0   585.0      No       C       1       S         3.0   \n",
            "4         635.0     0.0     0.0      No       F       5       S         2.0   \n",
            "\n",
            "   Service_Billed  \n",
            "0             0.0  \n",
            "1          2832.0  \n",
            "2             0.0  \n",
            "3          7418.0  \n",
            "4           645.0  \n"
          ]
        }
      ]
    },
    {
      "cell_type": "code",
      "source": [
        "# Finalize the test dataset for the testing activities\n",
        "array_features_test = preprocessor.transform(df_features_test)\n",
        "print(\"Transformed features from df_features_test.shape: {} to array_features_test.shape: {}\".format(df_features_test.shape, array_features_test.shape))"
      ],
      "metadata": {
        "id": "8oW_srf7Nlli",
        "colab": {
          "base_uri": "https://localhost:8080/"
        },
        "outputId": "6fd41f9d-4267-4dc6-b651-479071853924"
      },
      "execution_count": 47,
      "outputs": [
        {
          "output_type": "stream",
          "name": "stdout",
          "text": [
            "Transformed features from df_features_test.shape: (4277, 15) to array_features_test.shape: (4277, 1848)\n"
          ]
        }
      ]
    },
    {
      "cell_type": "code",
      "source": [
        "# Make batched predictions\n",
        "test_probabilities =  final_model.predict(array_features_test)\n",
        "test_predictions =  (test_probabilities > 0.5).astype(int).ravel()\n",
        "print(test_predictions)"
      ],
      "metadata": {
        "id": "sbwMzaYzNpTj",
        "colab": {
          "base_uri": "https://localhost:8080/"
        },
        "outputId": "930e8311-03d7-400a-b234-431587e69f99"
      },
      "execution_count": 48,
      "outputs": [
        {
          "output_type": "stream",
          "name": "stdout",
          "text": [
            "134/134 [==============================] - 0s 2ms/step\n",
            "[1 0 1 ... 1 1 1]\n"
          ]
        }
      ]
    },
    {
      "cell_type": "code",
      "source": [
        "df_sample_submission = pd.read_csv(SUBMISSION_TEMPLATE)\n",
        "df_sample_submission.drop(columns=[id_column_name], inplace=True)\n",
        "submission_header = list(df_sample_submission.columns)[0]\n",
        "print(submission_header)"
      ],
      "metadata": {
        "id": "_bVUHUgjNvcM",
        "colab": {
          "base_uri": "https://localhost:8080/"
        },
        "outputId": "a50736be-bb2c-4003-b963-0e3dea357368"
      },
      "execution_count": 49,
      "outputs": [
        {
          "output_type": "stream",
          "name": "stdout",
          "text": [
            "Transported\n"
          ]
        }
      ]
    },
    {
      "cell_type": "code",
      "source": [
        "df_kaggle_submission[submission_header] = test_predictions\n",
        "df_kaggle_submission[submission_header] = df_kaggle_submission[submission_header].astype(bool)\n",
        "print(df_kaggle_submission.head())"
      ],
      "metadata": {
        "id": "QTt5mFxpN0yQ",
        "colab": {
          "base_uri": "https://localhost:8080/"
        },
        "outputId": "51553814-5f31-4938-cfe0-2e8acd5e0552"
      },
      "execution_count": 50,
      "outputs": [
        {
          "output_type": "stream",
          "name": "stdout",
          "text": [
            "  PassengerId  Transported\n",
            "0     0013_01         True\n",
            "1     0018_01        False\n",
            "2     0019_01         True\n",
            "3     0021_01         True\n",
            "4     0023_01        False\n"
          ]
        }
      ]
    },
    {
      "cell_type": "code",
      "source": [
        "submission_file = df_kaggle_submission.to_csv(header=True, index=False)\n",
        "filename = SUBMISSION_FILE + datetime.now().strftime('%Y%m%d-%H%M') + '.csv'\n",
        "with open(filename, 'w') as f:\n",
        "    f.write(submission_file)\n",
        "    print('Completed writing output file: ' + filename)"
      ],
      "metadata": {
        "id": "xEViFboLN42g",
        "colab": {
          "base_uri": "https://localhost:8080/"
        },
        "outputId": "e62cfc6e-5a96-47a0-bbff-9b7fa29fc0d3"
      },
      "execution_count": 51,
      "outputs": [
        {
          "output_type": "stream",
          "name": "stdout",
          "text": [
            "Completed writing output file: submission_tensorflow_20221219-1756.csv\n"
          ]
        }
      ]
    },
    {
      "cell_type": "code",
      "execution_count": 52,
      "metadata": {
        "id": "Gpl8npuFgY4s"
      },
      "outputs": [],
      "source": [
        "if NOTIFY_STATUS: status_notify(\"Task 5 - Finalize Model and Make Predictions completed! \" + datetime.now().strftime('%a %B %d, %Y %I:%M:%S %p'))"
      ]
    },
    {
      "cell_type": "code",
      "execution_count": 53,
      "metadata": {
        "colab": {
          "base_uri": "https://localhost:8080/"
        },
        "id": "25hXAXzNgY4s",
        "outputId": "e8c4055f-1a85-4f12-d732-de77300bfca4"
      },
      "outputs": [
        {
          "output_type": "stream",
          "name": "stdout",
          "text": [
            "Total time for the script: 0:01:11.059799\n"
          ]
        }
      ],
      "source": [
        "print ('Total time for the script:',(datetime.now() - START_TIME_SCRIPT))"
      ]
    }
  ],
  "metadata": {
    "accelerator": "GPU",
    "colab": {
      "provenance": []
    },
    "kernelspec": {
      "display_name": "Python 3 (ipykernel)",
      "language": "python",
      "name": "python3"
    },
    "language_info": {
      "codemirror_mode": {
        "name": "ipython",
        "version": 3
      },
      "file_extension": ".py",
      "mimetype": "text/x-python",
      "name": "python",
      "nbconvert_exporter": "python",
      "pygments_lexer": "ipython3",
      "version": "3.8.10"
    },
    "gpuClass": "premium"
  },
  "nbformat": 4,
  "nbformat_minor": 0
}
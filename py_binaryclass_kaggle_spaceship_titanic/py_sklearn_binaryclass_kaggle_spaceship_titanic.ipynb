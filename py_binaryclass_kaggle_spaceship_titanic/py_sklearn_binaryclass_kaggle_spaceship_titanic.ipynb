{
  "cells": [
    {
      "cell_type": "markdown",
      "metadata": {
        "id": "EE_fiDKNoyun"
      },
      "source": [
        "# Binary-Class Tabular Model for Kaggle Spaceship Titanic Using Python and Scikit-Learn\n",
        "### David Lowe\n",
        "### December 26, 2022\n",
        "\n",
        "SUMMARY: The project aims to construct a predictive model using various machine learning algorithms and document the end-to-end steps using a template. The Kaggle Spaceship Titanic dataset is a binary-class modeling situation where we attempt to predict one of two possible outcomes.\n",
        "\n",
        "INTRODUCTION: In the year 2912, the Spaceship Titanic, an interstellar passenger liner, launched with almost 13,000 passengers on board. The vessel set out on its maiden voyage transporting emigrants from our solar system to three newly habitable exoplanets orbiting nearby stars.\n",
        "\n",
        "While rounding Alpha Centauri en route to its first destination, the unwary Spaceship Titanic collided with a spacetime anomaly hidden within a dust cloud. Sadly, it met a similar fate as its namesake from 1000 years before. Though the ship stayed intact, almost half of the passengers were transported to an alternate dimension!\n",
        "\n",
        "This incident presented a challenge to the data scientists of the future. To help rescue crews and retrieve the lost passengers, the data scientists tried to build a model that predicted which passengers were transported by the anomaly using records recovered from the spaceship’s damaged computer system.\n",
        "\n",
        "ANALYSIS: The average performance of the machine learning algorithms achieved an accuracy benchmark of 78.30% after training. Furthermore, we selected Random Forest as the final model as it processed the training dataset with an accuracy score of 79.55%. When we processed the test dataset with the final model, the model achieved an accuracy score of 79.58%.\n",
        "\n",
        "CONCLUSION: In this iteration, the Random Forest model appeared to be a suitable algorithm for modeling this dataset.\n",
        "\n",
        "Dataset Used: Spaceship Titanic Dataset\n",
        "\n",
        "Dataset ML Model: Binary-Class classification with numerical and categorical features\n",
        "\n",
        "Dataset Reference: https://www.kaggle.com/competitions/spaceship-titanic\n",
        "\n",
        "One source of potential performance benchmarks: https://www.kaggle.com/competitions/spaceship-titanic/leaderboard"
      ]
    },
    {
      "cell_type": "markdown",
      "metadata": {
        "id": "5DL3_UWSoyuq"
      },
      "source": [
        "## Task 1 - Prepare Environment"
      ]
    },
    {
      "cell_type": "code",
      "execution_count": 1,
      "metadata": {
        "id": "zwaLoks6oyuq",
        "outputId": "25f1ce14-ed09-4250-8c93-9ad45ba3279f",
        "colab": {
          "base_uri": "https://localhost:8080/"
        }
      },
      "outputs": [
        {
          "output_type": "stream",
          "name": "stdout",
          "text": [
            "The number of available CPUs is: 2\n"
          ]
        }
      ],
      "source": [
        "# Retrieve the CPU information\n",
        "ncpu = !nproc\n",
        "print(\"The number of available CPUs is:\", ncpu[0])"
      ]
    },
    {
      "cell_type": "markdown",
      "metadata": {
        "id": "z_paFmzJoyur"
      },
      "source": [
        "### 1.a) Load libraries and modules"
      ]
    },
    {
      "cell_type": "code",
      "execution_count": 2,
      "metadata": {
        "id": "1n0cywZWoyus"
      },
      "outputs": [],
      "source": [
        "# Set the random seed number for reproducible results\n",
        "RNG_SEED = 888"
      ]
    },
    {
      "cell_type": "code",
      "execution_count": 3,
      "metadata": {
        "id": "oRD-IY3zoyus"
      },
      "outputs": [],
      "source": [
        "import numpy as np\n",
        "import pandas as pd\n",
        "import seaborn as sns\n",
        "import matplotlib.pyplot as plt\n",
        "import os\n",
        "import sys\n",
        "import math\n",
        "# import boto3\n",
        "import zipfile\n",
        "import urllib\n",
        "from datetime import datetime\n",
        "from sklearn import preprocessing\n",
        "from sklearn.model_selection import train_test_split\n",
        "from sklearn.model_selection import StratifiedKFold\n",
        "from sklearn.model_selection import cross_val_score\n",
        "from sklearn.model_selection import GridSearchCV\n",
        "from sklearn.metrics import classification_report\n",
        "from sklearn.metrics import confusion_matrix\n",
        "from sklearn.metrics import accuracy_score\n",
        "from sklearn.pipeline import Pipeline\n",
        "from sklearn import compose\n",
        "from sklearn import impute\n",
        "\n",
        "# from sklearn.feature_selection import RFE\n",
        "# from imblearn.pipeline import Pipeline\n",
        "# from imblearn.over_sampling import SMOTE\n",
        "# from imblearn.under_sampling import RandomUnderSampler\n",
        "\n",
        "from sklearn.linear_model import LogisticRegression\n",
        "from sklearn.tree import DecisionTreeClassifier\n",
        "from sklearn.neighbors import KNeighborsClassifier\n",
        "from sklearn.ensemble import BaggingClassifier\n",
        "from sklearn.ensemble import RandomForestClassifier\n",
        "from sklearn.ensemble import ExtraTreesClassifier"
      ]
    },
    {
      "cell_type": "markdown",
      "metadata": {
        "id": "eoKsdpcAoyut"
      },
      "source": [
        "### 1.b) Set up the controlling parameters and functions"
      ]
    },
    {
      "cell_type": "code",
      "execution_count": 4,
      "metadata": {
        "id": "isxXMHRBoyut"
      },
      "outputs": [],
      "source": [
        "# Begin the timer for the script processing\n",
        "START_TIME_SCRIPT = datetime.now()\n",
        "\n",
        "# Set up the number of CPU cores available for multi-thread processing\n",
        "N_JOBS = 1\n",
        "\n",
        "# Set up the flag to stop sending progress emails (setting to True will send status emails!)\n",
        "NOTIFY_STATUS = False\n",
        "\n",
        "# Set the percentage sizes for splitting the dataset\n",
        "TEST_SET_RATIO = 0.1\n",
        "VAL_SET_RATIO = 0.1\n",
        "\n",
        "# Set the name for the class/label column\n",
        "ORIGINAL_LABEL = 'Transported'\n",
        "CLASS_COLUMN = 'target'\n",
        "\n",
        "# Set the number of folds for cross validation\n",
        "N_FOLDS = 10\n",
        "\n",
        "# Set default modeling scoring metric\n",
        "SCORING_METRIC = 'accuracy'\n",
        "\n",
        "# Define the directory locations and file names\n",
        "TRAIN_DATASET = 'https://dainesanalytics.com/datasets/kaggle-spaceship-titanic-competition/train.csv'\n",
        "TEST_DATASET = 'https://dainesanalytics.com/datasets/kaggle-spaceship-titanic-competition/test.csv'\n",
        "SUBMISSION_TEMPLATE = 'https://dainesanalytics.com/datasets/kaggle-spaceship-titanic-competition/sample_submission.csv'\n",
        "SUBMISSION_FILE = 'submission_sklearn_'"
      ]
    },
    {
      "cell_type": "code",
      "execution_count": 5,
      "metadata": {
        "id": "GfhSo1ZCoyut"
      },
      "outputs": [],
      "source": [
        "# Set up the email notification function\n",
        "def status_notify(msg_text):\n",
        "    access_key = os.environ.get('SNS_ACCESS_KEY')\n",
        "    secret_key = os.environ.get('SNS_SECRET_KEY')\n",
        "    aws_region = os.environ.get('SNS_AWS_REGION')\n",
        "    topic_arn = os.environ.get('SNS_TOPIC_ARN')\n",
        "    if (access_key is None) or (secret_key is None) or (aws_region is None):\n",
        "        sys.exit(\"Incomplete notification setup info. Script Processing Aborted!!!\")\n",
        "    sns = boto3.client('sns', aws_access_key_id=access_key, aws_secret_access_key=secret_key, region_name=aws_region)\n",
        "    response = sns.publish(TopicArn=topic_arn, Message=msg_text)\n",
        "    if response['ResponseMetadata']['HTTPStatusCode'] != 200 :\n",
        "        print('Status notification not OK with HTTP status code:', response['ResponseMetadata']['HTTPStatusCode'])"
      ]
    },
    {
      "cell_type": "code",
      "execution_count": 6,
      "metadata": {
        "id": "ReDfVHpJoyuu"
      },
      "outputs": [],
      "source": [
        "if NOTIFY_STATUS: status_notify(\"Task 1 - Prepare Environment has begun! \" + datetime.now().strftime('%a %B %d, %Y %I:%M:%S %p'))"
      ]
    },
    {
      "cell_type": "markdown",
      "metadata": {
        "id": "tAqq162Aoyuu"
      },
      "source": [
        "### 1.c) Load dataset"
      ]
    },
    {
      "cell_type": "code",
      "execution_count": 7,
      "metadata": {
        "id": "5rc2muM6oyuv",
        "outputId": "d666d1e8-4f7f-4a80-90c6-0bb0e0d2197d",
        "colab": {
          "base_uri": "https://localhost:8080/"
        }
      },
      "outputs": [
        {
          "output_type": "stream",
          "name": "stdout",
          "text": [
            "  PassengerId HomePlanet CryoSleep  Cabin  Destination   Age    VIP  \\\n",
            "0     0001_01     Europa     False  B/0/P  TRAPPIST-1e  39.0  False   \n",
            "1     0002_01      Earth     False  F/0/S  TRAPPIST-1e  24.0  False   \n",
            "2     0003_01     Europa     False  A/0/S  TRAPPIST-1e  58.0   True   \n",
            "3     0003_02     Europa     False  A/0/S  TRAPPIST-1e  33.0  False   \n",
            "4     0004_01      Earth     False  F/1/S  TRAPPIST-1e  16.0  False   \n",
            "\n",
            "   RoomService  FoodCourt  ShoppingMall     Spa  VRDeck               Name  \\\n",
            "0          0.0        0.0           0.0     0.0     0.0    Maham Ofracculy   \n",
            "1        109.0        9.0          25.0   549.0    44.0       Juanna Vines   \n",
            "2         43.0     3576.0           0.0  6715.0    49.0      Altark Susent   \n",
            "3          0.0     1283.0         371.0  3329.0   193.0       Solam Susent   \n",
            "4        303.0       70.0         151.0   565.0     2.0  Willy Santantines   \n",
            "\n",
            "   Transported  \n",
            "0        False  \n",
            "1         True  \n",
            "2        False  \n",
            "3        False  \n",
            "4         True  \n"
          ]
        }
      ],
      "source": [
        "df_dataset_import = pd.read_csv(TRAIN_DATASET)\n",
        "\n",
        "# Take a peek at the dataframe after import\n",
        "print(df_dataset_import.head())"
      ]
    },
    {
      "cell_type": "code",
      "execution_count": 8,
      "metadata": {
        "id": "ECO03uiyoyuv",
        "outputId": "96959605-6c1e-4a2e-f404-bdcd175b3d64",
        "colab": {
          "base_uri": "https://localhost:8080/"
        }
      },
      "outputs": [
        {
          "output_type": "stream",
          "name": "stdout",
          "text": [
            "<class 'pandas.core.frame.DataFrame'>\n",
            "RangeIndex: 8693 entries, 0 to 8692\n",
            "Data columns (total 14 columns):\n",
            " #   Column        Non-Null Count  Dtype  \n",
            "---  ------        --------------  -----  \n",
            " 0   PassengerId   8693 non-null   object \n",
            " 1   HomePlanet    8492 non-null   object \n",
            " 2   CryoSleep     8476 non-null   object \n",
            " 3   Cabin         8494 non-null   object \n",
            " 4   Destination   8511 non-null   object \n",
            " 5   Age           8514 non-null   float64\n",
            " 6   VIP           8490 non-null   object \n",
            " 7   RoomService   8512 non-null   float64\n",
            " 8   FoodCourt     8510 non-null   float64\n",
            " 9   ShoppingMall  8485 non-null   float64\n",
            " 10  Spa           8510 non-null   float64\n",
            " 11  VRDeck        8505 non-null   float64\n",
            " 12  Name          8493 non-null   object \n",
            " 13  Transported   8693 non-null   bool   \n",
            "dtypes: bool(1), float64(6), object(7)\n",
            "memory usage: 891.5+ KB\n"
          ]
        }
      ],
      "source": [
        "df_dataset_import.info(verbose=True)"
      ]
    },
    {
      "cell_type": "code",
      "execution_count": 9,
      "metadata": {
        "id": "89eVakd5oyuw",
        "outputId": "a242011a-d755-49f6-e3c1-fa4312184892",
        "colab": {
          "base_uri": "https://localhost:8080/"
        }
      },
      "outputs": [
        {
          "output_type": "stream",
          "name": "stdout",
          "text": [
            "               Age   RoomService     FoodCourt  ShoppingMall           Spa  \\\n",
            "count  8514.000000   8512.000000   8510.000000   8485.000000   8510.000000   \n",
            "mean     28.827930    224.687617    458.077203    173.729169    311.138778   \n",
            "std      14.489021    666.717663   1611.489240    604.696458   1136.705535   \n",
            "min       0.000000      0.000000      0.000000      0.000000      0.000000   \n",
            "25%      19.000000      0.000000      0.000000      0.000000      0.000000   \n",
            "50%      27.000000      0.000000      0.000000      0.000000      0.000000   \n",
            "75%      38.000000     47.000000     76.000000     27.000000     59.000000   \n",
            "max      79.000000  14327.000000  29813.000000  23492.000000  22408.000000   \n",
            "\n",
            "             VRDeck  \n",
            "count   8505.000000  \n",
            "mean     304.854791  \n",
            "std     1145.717189  \n",
            "min        0.000000  \n",
            "25%        0.000000  \n",
            "50%        0.000000  \n",
            "75%       46.000000  \n",
            "max    24133.000000  \n"
          ]
        }
      ],
      "source": [
        "print(df_dataset_import.describe())"
      ]
    },
    {
      "cell_type": "code",
      "execution_count": 10,
      "metadata": {
        "id": "FAyDYvmioyuw",
        "outputId": "225e3434-901b-4729-e675-6406308b10d4",
        "colab": {
          "base_uri": "https://localhost:8080/"
        }
      },
      "outputs": [
        {
          "output_type": "stream",
          "name": "stdout",
          "text": [
            "PassengerId       0\n",
            "HomePlanet      201\n",
            "CryoSleep       217\n",
            "Cabin           199\n",
            "Destination     182\n",
            "Age             179\n",
            "VIP             203\n",
            "RoomService     181\n",
            "FoodCourt       183\n",
            "ShoppingMall    208\n",
            "Spa             183\n",
            "VRDeck          188\n",
            "Name            200\n",
            "Transported       0\n",
            "dtype: int64\n",
            "Total number of NaN in the dataframe:  2324\n"
          ]
        }
      ],
      "source": [
        "print(df_dataset_import.isnull().sum())\n",
        "print('Total number of NaN in the dataframe: ', df_dataset_import.isnull().sum().sum())"
      ]
    },
    {
      "cell_type": "code",
      "execution_count": 11,
      "metadata": {
        "id": "lXgKXvCuoyuw",
        "colab": {
          "base_uri": "https://localhost:8080/"
        },
        "outputId": "fd9d6059-ade4-4ba3-ee0e-9915ac3f4c5e"
      },
      "outputs": [
        {
          "output_type": "stream",
          "name": "stdout",
          "text": [
            "Transported\n",
            "False    4315\n",
            "True     4378\n",
            "dtype: int64\n"
          ]
        }
      ],
      "source": [
        "# Get grouping size for the target variable\n",
        "print(df_dataset_import.groupby(ORIGINAL_LABEL).size())"
      ]
    },
    {
      "cell_type": "markdown",
      "metadata": {
        "id": "3u4LgABdoyuw"
      },
      "source": [
        "### 1.d) Data Cleaning"
      ]
    },
    {
      "cell_type": "code",
      "source": [
        "def convert_group(target_col):\n",
        "    # print(target_col)\n",
        "    if (target_col is not None):\n",
        "        group_list = target_col.split('_')\n",
        "        # print(cabin_list)\n",
        "        return group_list[0]\n",
        "    else:\n",
        "        return None\n",
        "\n",
        "def grouping_train(target_col):\n",
        "    # print(target_col)\n",
        "    if (target_col is not None):\n",
        "        if len(df_dataset_import[df_dataset_import['Group_Number']==target_col]) > 1:\n",
        "            return 'Yes'\n",
        "        else:\n",
        "            return 'No'\n",
        "    else:\n",
        "        return 'No'\n",
        "\n",
        "def grouping_test(target_col):\n",
        "    # print(target_col)\n",
        "    if (target_col is not None):\n",
        "        if len(df_features_test[df_features_test['Group_Number']==target_col]) > 1:\n",
        "            return 'Yes'\n",
        "        else:\n",
        "            return 'No'\n",
        "    else:\n",
        "        return 'No'\n",
        "\n",
        "def convert_cabin1(target_col):\n",
        "    # print(target_col)\n",
        "    if (target_col is not None):\n",
        "        cabin_list = target_col.split('/')\n",
        "        # print(cabin_list)\n",
        "        return cabin_list[0]\n",
        "    else:\n",
        "        return None\n",
        "\n",
        "def convert_cabin2(target_col):\n",
        "    # print(target_col)\n",
        "    if (target_col is not None):\n",
        "        cabin_list = target_col.split('/')\n",
        "        # print(cabin_list)\n",
        "        return cabin_list[1]\n",
        "    else:\n",
        "        return None\n",
        "\n",
        "def convert_cabin3(target_col):\n",
        "    # print(target_col)\n",
        "    if (target_col is not None):\n",
        "        cabin_list = target_col.split('/')\n",
        "        # print(cabin_list)\n",
        "        return cabin_list[2]\n",
        "    else:\n",
        "        return None"
      ],
      "metadata": {
        "id": "7X2XN3tJPeNh"
      },
      "execution_count": 12,
      "outputs": []
    },
    {
      "cell_type": "code",
      "execution_count": 13,
      "metadata": {
        "id": "l05xb66poyuw",
        "outputId": "cc325f98-6719-4a6f-94c2-63ab5de98cc2",
        "colab": {
          "base_uri": "https://localhost:8080/"
        }
      },
      "outputs": [
        {
          "output_type": "stream",
          "name": "stdout",
          "text": [
            "  HomePlanet CryoSleep  Destination    VIP  RoomService  FoodCourt  \\\n",
            "0     Europa     False  TRAPPIST-1e  False          0.0        0.0   \n",
            "1      Earth     False  TRAPPIST-1e  False        109.0        9.0   \n",
            "2     Europa     False  TRAPPIST-1e   True         43.0     3576.0   \n",
            "3     Europa     False  TRAPPIST-1e  False          0.0     1283.0   \n",
            "4      Earth     False  TRAPPIST-1e  False        303.0       70.0   \n",
            "\n",
            "   ShoppingMall     Spa  VRDeck  target Grouped Cabin_1 Cabin_2 Cabin_3  \\\n",
            "0           0.0     0.0     0.0   False      No       B       0       P   \n",
            "1          25.0   549.0    44.0    True      No       F       0       S   \n",
            "2           0.0  6715.0    49.0   False     Yes       A       0       S   \n",
            "3         371.0  3329.0   193.0   False     Yes       A       0       S   \n",
            "4         151.0   565.0     2.0    True      No       F       1       S   \n",
            "\n",
            "   Age_Binned  Service_Billed  \n",
            "0         3.0             0.0  \n",
            "1         2.0           736.0  \n",
            "2         5.0         10383.0  \n",
            "3         3.0          5176.0  \n",
            "4         1.0          1091.0  \n"
          ]
        }
      ],
      "source": [
        "# Break up the PassengerId attribute to get the grouping indicator\n",
        "df_dataset_import['Group_Number'] = df_dataset_import['PassengerId'].apply(convert_group)\n",
        "df_dataset_import['Grouped'] = df_dataset_import['Group_Number'].apply(grouping_train)\n",
        "\n",
        "# Break up the Cabin attribute into three separate features\n",
        "df_dataset_import['Cabin'].fillna('G/0/P', inplace=True)\n",
        "df_dataset_import['Cabin'] = df_dataset_import['Cabin'].astype(str)\n",
        "df_dataset_import['Cabin_1'] = df_dataset_import['Cabin'].apply(convert_cabin1)\n",
        "df_dataset_import['Cabin_2'] = df_dataset_import['Cabin'].apply(convert_cabin2)\n",
        "df_dataset_import['Cabin_3'] = df_dataset_import['Cabin'].apply(convert_cabin3)\n",
        "\n",
        "# Fill in some missing fields with the most common values\n",
        "df_dataset_import['HomePlanet'].fillna('Earth', inplace=True)\n",
        "df_dataset_import['CryoSleep'].fillna('False', inplace=True)\n",
        "df_dataset_import['CryoSleep'] = df_dataset_import['CryoSleep'].astype(str)\n",
        "df_dataset_import['Destination'].fillna('TRAPPIST-1e', inplace=True)\n",
        "\n",
        "df_dataset_import['Age'].fillna(value=df_dataset_import['Age'].median(), inplace=True)\n",
        "est = preprocessing.KBinsDiscretizer(n_bins=8, encode='ordinal', strategy='uniform').fit(df_dataset_import['Age'].to_numpy().reshape(-1, 1))\n",
        "df_dataset_import['Age_Binned'] = est.transform(df_dataset_import['Age'].to_numpy().reshape(-1, 1))\n",
        "\n",
        "df_dataset_import['VIP'].fillna('False', inplace=True)\n",
        "df_dataset_import['VIP'] = df_dataset_import['VIP'].astype(str)\n",
        "\n",
        "df_dataset_import['RoomService'].fillna(0, inplace=True)\n",
        "df_dataset_import['FoodCourt'].fillna(0, inplace=True)\n",
        "df_dataset_import['ShoppingMall'].fillna(0, inplace=True)\n",
        "df_dataset_import['Spa'].fillna(0, inplace=True)\n",
        "df_dataset_import['VRDeck'].fillna(0, inplace=True)\n",
        "df_dataset_import['Service_Billed'] = df_dataset_import['RoomService'] + \\\n",
        "                                      df_dataset_import['FoodCourt'] + \\\n",
        "                                      df_dataset_import['ShoppingMall'] + \\\n",
        "                                      df_dataset_import['Spa'] + \\\n",
        "                                      df_dataset_import['VRDeck']\n",
        "\n",
        "df_dataset_import.drop(columns=['PassengerId','Name','Cabin','Age','Group_Number'], inplace=True)\n",
        "\n",
        "# Standardize the class column to the name of targetVar if required\n",
        "df_dataset_import = df_dataset_import.rename(columns={ORIGINAL_LABEL: CLASS_COLUMN})\n",
        "\n",
        "# Take a peek at the dataframe after cleaning\n",
        "print(df_dataset_import.head())"
      ]
    },
    {
      "cell_type": "code",
      "execution_count": 14,
      "metadata": {
        "id": "y9LU5ERloyuw",
        "outputId": "8a4491a0-241e-47ca-d6c5-36fa3a04e673",
        "colab": {
          "base_uri": "https://localhost:8080/"
        }
      },
      "outputs": [
        {
          "output_type": "stream",
          "name": "stdout",
          "text": [
            "<class 'pandas.core.frame.DataFrame'>\n",
            "RangeIndex: 8693 entries, 0 to 8692\n",
            "Data columns (total 16 columns):\n",
            " #   Column          Non-Null Count  Dtype  \n",
            "---  ------          --------------  -----  \n",
            " 0   HomePlanet      8693 non-null   object \n",
            " 1   CryoSleep       8693 non-null   object \n",
            " 2   Destination     8693 non-null   object \n",
            " 3   VIP             8693 non-null   object \n",
            " 4   RoomService     8693 non-null   float64\n",
            " 5   FoodCourt       8693 non-null   float64\n",
            " 6   ShoppingMall    8693 non-null   float64\n",
            " 7   Spa             8693 non-null   float64\n",
            " 8   VRDeck          8693 non-null   float64\n",
            " 9   target          8693 non-null   bool   \n",
            " 10  Grouped         8693 non-null   object \n",
            " 11  Cabin_1         8693 non-null   object \n",
            " 12  Cabin_2         8693 non-null   object \n",
            " 13  Cabin_3         8693 non-null   object \n",
            " 14  Age_Binned      8693 non-null   float64\n",
            " 15  Service_Billed  8693 non-null   float64\n",
            "dtypes: bool(1), float64(7), object(8)\n",
            "memory usage: 1.0+ MB\n"
          ]
        }
      ],
      "source": [
        "df_dataset_import.info(verbose=True)"
      ]
    },
    {
      "cell_type": "code",
      "execution_count": 15,
      "metadata": {
        "id": "Tl0V0nZqoyux",
        "outputId": "9701cef0-7550-48c3-9c38-1f7e3926f546",
        "colab": {
          "base_uri": "https://localhost:8080/"
        }
      },
      "outputs": [
        {
          "output_type": "stream",
          "name": "stdout",
          "text": [
            "        RoomService     FoodCourt  ShoppingMall           Spa        VRDeck  \\\n",
            "count   8693.000000   8693.000000   8693.000000   8693.000000   8693.000000   \n",
            "mean     220.009318    448.434027    169.572300    304.588865    298.261820   \n",
            "std      660.519050   1595.790627    598.007164   1125.562559   1134.126417   \n",
            "min        0.000000      0.000000      0.000000      0.000000      0.000000   \n",
            "25%        0.000000      0.000000      0.000000      0.000000      0.000000   \n",
            "50%        0.000000      0.000000      0.000000      0.000000      0.000000   \n",
            "75%       41.000000     61.000000     22.000000     53.000000     40.000000   \n",
            "max    14327.000000  29813.000000  23492.000000  22408.000000  24133.000000   \n",
            "\n",
            "        Age_Binned  Service_Billed  \n",
            "count  8693.000000     8693.000000  \n",
            "mean      2.428736     1440.866329  \n",
            "std       1.439655     2803.045694  \n",
            "min       0.000000        0.000000  \n",
            "25%       2.000000        0.000000  \n",
            "50%       2.000000      716.000000  \n",
            "75%       3.000000     1441.000000  \n",
            "max       7.000000    35987.000000  \n"
          ]
        }
      ],
      "source": [
        "print(df_dataset_import.describe())"
      ]
    },
    {
      "cell_type": "code",
      "execution_count": 16,
      "metadata": {
        "id": "sGppSKE2oyux",
        "outputId": "fcf796ef-50e3-45e6-b957-741c7755add5",
        "colab": {
          "base_uri": "https://localhost:8080/"
        }
      },
      "outputs": [
        {
          "output_type": "stream",
          "name": "stdout",
          "text": [
            "HomePlanet        0\n",
            "CryoSleep         0\n",
            "Destination       0\n",
            "VIP               0\n",
            "RoomService       0\n",
            "FoodCourt         0\n",
            "ShoppingMall      0\n",
            "Spa               0\n",
            "VRDeck            0\n",
            "target            0\n",
            "Grouped           0\n",
            "Cabin_1           0\n",
            "Cabin_2           0\n",
            "Cabin_3           0\n",
            "Age_Binned        0\n",
            "Service_Billed    0\n",
            "dtype: int64\n",
            "Total number of NaN in the dataframe:  0\n"
          ]
        }
      ],
      "source": [
        "print(df_dataset_import.isnull().sum())\n",
        "print('Total number of NaN in the dataframe: ', df_dataset_import.isnull().sum().sum())"
      ]
    },
    {
      "cell_type": "code",
      "execution_count": 17,
      "metadata": {
        "id": "48Es-9Mboyux",
        "outputId": "5b7d7d43-8531-4dde-b8fd-4f0fe2c57834",
        "colab": {
          "base_uri": "https://localhost:8080/"
        }
      },
      "outputs": [
        {
          "output_type": "stream",
          "name": "stdout",
          "text": [
            "target\n",
            "False    4315\n",
            "True     4378\n",
            "dtype: int64\n"
          ]
        }
      ],
      "source": [
        "# Get grouping size for the target variable\n",
        "print(df_dataset_import.groupby(CLASS_COLUMN).size())"
      ]
    },
    {
      "cell_type": "markdown",
      "metadata": {
        "id": "YAEtbTgGoyux"
      },
      "source": [
        "### 1.e) Splitting Data into Sets"
      ]
    },
    {
      "cell_type": "code",
      "execution_count": 18,
      "metadata": {
        "id": "4Xj62_48oyux",
        "outputId": "b5b8c3e1-bfe8-4453-f6b5-34d29f9498e6",
        "colab": {
          "base_uri": "https://localhost:8080/"
        }
      },
      "outputs": [
        {
          "output_type": "stream",
          "name": "stdout",
          "text": [
            "df_dataset_import.shape: (8693, 16) df_features_train.shape: (8693, 15) df_target_train.shape: (8693,)\n"
          ]
        }
      ],
      "source": [
        "# Use variable total_column_count to hold the number of columns in the dataframe\n",
        "total_column_count = len(df_dataset_import.columns)\n",
        "\n",
        "# Set up variable total_feature_count for the total number of attribute columns\n",
        "total_feature_count = total_column_count-1\n",
        "\n",
        "# We create attribute-only and target-only datasets (df_features_train and df_target_train)\n",
        "df_target_train = df_dataset_import['target']\n",
        "df_features_train = df_dataset_import.drop(['target'], axis=1)\n",
        "\n",
        "print(\"df_dataset_import.shape: {} df_features_train.shape: {} df_target_train.shape: {}\".format(df_dataset_import.shape, df_features_train.shape, df_target_train.shape))"
      ]
    },
    {
      "cell_type": "markdown",
      "metadata": {
        "id": "s8rlPv9Noyux"
      },
      "source": [
        "### 1.f) Set up the parameters for data visualization"
      ]
    },
    {
      "cell_type": "code",
      "execution_count": 19,
      "metadata": {
        "id": "a0uVeMpsoyuy"
      },
      "outputs": [],
      "source": [
        "# Set up the number of row and columns for visualization display. display_rows * display_columns should be >= total_feature_count\n",
        "display_columns = 4\n",
        "if total_feature_count % display_columns == 0 :\n",
        "    display_rows = total_feature_count // display_columns\n",
        "else :\n",
        "    display_rows = (total_feature_count // display_columns) + 1\n",
        "\n",
        "# Set figure width to display the data visualization plots\n",
        "fig_size = plt.rcParams[\"figure.figsize\"]\n",
        "fig_size[0] = display_columns * 4\n",
        "fig_size[1] = display_rows * 4\n",
        "plt.rcParams[\"figure.figsize\"] = fig_size"
      ]
    },
    {
      "cell_type": "code",
      "execution_count": 20,
      "metadata": {
        "id": "W_FIlvWloyuy"
      },
      "outputs": [],
      "source": [
        "if NOTIFY_STATUS: status_notify(\"Task 1 - Prepare Environment completed! \" + datetime.now().strftime('%a %B %d, %Y %I:%M:%S %p'))"
      ]
    },
    {
      "cell_type": "markdown",
      "metadata": {
        "id": "orVRV0XHoyuy"
      },
      "source": [
        "## Task 2 - Summarize and Visualize Data"
      ]
    },
    {
      "cell_type": "code",
      "execution_count": 21,
      "metadata": {
        "id": "c6KamCMqoyuy"
      },
      "outputs": [],
      "source": [
        "if NOTIFY_STATUS: status_notify(\"Task 2 - Summarize and Visualize Data has begun! \" + datetime.now().strftime('%a %B %d, %Y %I:%M:%S %p'))"
      ]
    },
    {
      "cell_type": "code",
      "execution_count": 22,
      "metadata": {
        "id": "pgzdFe_Uoyuy",
        "outputId": "64c7567c-46c5-47f6-8a97-4057844dd7f7",
        "colab": {
          "base_uri": "https://localhost:8080/",
          "height": 464
        }
      },
      "outputs": [
        {
          "output_type": "display_data",
          "data": {
            "text/plain": [
              "<Figure size 1152x1152 with 16 Axes>"
            ],
            "image/png": "[encoded data removed]"
          },
          "metadata": {
            "needs_background": "light"
          }
        }
      ],
      "source": [
        "# Histograms for each attribute\n",
        "df_features_train.plot(kind='hist', subplots=True, sharex=False, layout=(display_rows, display_columns))\n",
        "plt.show()"
      ]
    },
    {
      "cell_type": "code",
      "execution_count": 23,
      "metadata": {
        "id": "6c-ar-3toyuy",
        "outputId": "e8de30aa-8397-4ee4-b24f-db2e25e04fea",
        "colab": {
          "base_uri": "https://localhost:8080/",
          "height": 465
        }
      },
      "outputs": [
        {
          "output_type": "display_data",
          "data": {
            "text/plain": [
              "<Figure size 1152x1152 with 16 Axes>"
            ],
            "image/png": "[encoded data removed]"
          },
          "metadata": {
            "needs_background": "light"
          }
        }
      ],
      "source": [
        "# Box and Whisker plot for each attribute\n",
        "df_features_train.plot(kind='box', subplots=True, layout=(display_rows, display_columns))\n",
        "plt.show()"
      ]
    },
    {
      "cell_type": "code",
      "execution_count": 24,
      "metadata": {
        "id": "M9mWrtAVoyuy",
        "colab": {
          "base_uri": "https://localhost:8080/",
          "height": 1000
        },
        "outputId": "df3b1d41-9861-4f51-e807-e04221562270"
      },
      "outputs": [
        {
          "output_type": "display_data",
          "data": {
            "text/plain": [
              "<Figure size 1440x1440 with 2 Axes>"
            ],
            "image/png": "[encoded data removed]"
          },
          "metadata": {
            "needs_background": "light"
          }
        }
      ],
      "source": [
        "# Correlation matrix\n",
        "fig = plt.figure(figsize=(20, 20))\n",
        "correlations = df_features_train.corr(method='pearson')\n",
        "sns.heatmap(correlations, annot=True, cmap=plt.cm.PuBu)\n",
        "plt.show()"
      ]
    },
    {
      "cell_type": "code",
      "execution_count": 25,
      "metadata": {
        "id": "pG0MBv7noyuy"
      },
      "outputs": [],
      "source": [
        "if NOTIFY_STATUS: status_notify(\"Task 2 - Summarize and Visualize Data completed! \" + datetime.now().strftime('%a %B %d, %Y %I:%M:%S %p'))"
      ]
    },
    {
      "cell_type": "markdown",
      "metadata": {
        "id": "0P3OoeOaoyuz"
      },
      "source": [
        "## Task 3 - Pre-process Data"
      ]
    },
    {
      "cell_type": "code",
      "execution_count": 26,
      "metadata": {
        "id": "vMi0mInkoyuz"
      },
      "outputs": [],
      "source": [
        "if NOTIFY_STATUS: status_notify(\"Task 3 - Pre-process Data has begun! \" + datetime.now().strftime('%a %B %d, %Y %I:%M:%S %p'))"
      ]
    },
    {
      "cell_type": "markdown",
      "metadata": {
        "id": "qvlG0_Gloyuz"
      },
      "source": [
        "### 3.a) Feature Scaling and Data Pre-Processing"
      ]
    },
    {
      "cell_type": "code",
      "execution_count": 27,
      "metadata": {
        "id": "4bFod1tLoyuz",
        "outputId": "263400a8-dd88-42f4-c337-bf0fe8942538",
        "colab": {
          "base_uri": "https://localhost:8080/"
        }
      },
      "outputs": [
        {
          "output_type": "stream",
          "name": "stdout",
          "text": [
            "Number of numerical columns: 7\n",
            "Number of categorical columns: 8\n",
            "Total number of columns in the feature dataframe: 15\n"
          ]
        }
      ],
      "source": [
        "# Compose pipeline for the numerical and categorical features (Block #1 of 2)\n",
        "numeric_columns = df_features_train.select_dtypes(include=['float','int']).columns\n",
        "numeric_transformer = Pipeline(steps=[\n",
        "    ('imputer', impute.SimpleImputer(strategy=\"constant\", fill_value=0)),\n",
        "    ('scaler', preprocessing.StandardScaler())\n",
        "])\n",
        "categorical_columns = df_features_train.select_dtypes(include=['object','bool','category']).columns\n",
        "categorical_transformer = Pipeline(steps=[\n",
        "    ('imputer', impute.SimpleImputer(strategy='constant', fill_value='UKNOWN')),\n",
        "    ('onehot', preprocessing.OneHotEncoder(sparse=False, handle_unknown='ignore'))\n",
        "])\n",
        "\n",
        "print(\"Number of numerical columns:\", len(numeric_columns))\n",
        "print(\"Number of categorical columns:\", len(categorical_columns))\n",
        "print(\"Total number of columns in the feature dataframe:\", df_features_train.shape[1])"
      ]
    },
    {
      "cell_type": "code",
      "execution_count": 28,
      "metadata": {
        "id": "qnVwjvF5oyuz"
      },
      "outputs": [],
      "source": [
        "# Compose pipeline for the numerical and categorical features (Block #2 of 2)\n",
        "preprocessor = compose.ColumnTransformer(transformers=[\n",
        "    ('num', numeric_transformer, numeric_columns),\n",
        "    ('cat', categorical_transformer, categorical_columns)\n",
        "], remainder='passthrough')"
      ]
    },
    {
      "cell_type": "markdown",
      "metadata": {
        "id": "UhEzGnKtoyuz"
      },
      "source": [
        "### 3.b) Training Data Balancing"
      ]
    },
    {
      "cell_type": "code",
      "execution_count": 29,
      "metadata": {
        "id": "-1ULtH01oyuz"
      },
      "outputs": [],
      "source": [
        "# Not applicable for this iteration of modeling"
      ]
    },
    {
      "cell_type": "markdown",
      "metadata": {
        "id": "GTWvOhWWoyuz"
      },
      "source": [
        "### 3.c) Feature Selection"
      ]
    },
    {
      "cell_type": "code",
      "execution_count": 30,
      "metadata": {
        "id": "7VV1fyK1oyuz"
      },
      "outputs": [],
      "source": [
        "# Not applicable for this iteration of modeling"
      ]
    },
    {
      "cell_type": "markdown",
      "metadata": {
        "id": "Ehygxv37oyuz"
      },
      "source": [
        "### 3.d) Display the Final Datasets for Model-Building"
      ]
    },
    {
      "cell_type": "code",
      "source": [
        "df_dataset_import.info(verbose=True)"
      ],
      "metadata": {
        "colab": {
          "base_uri": "https://localhost:8080/"
        },
        "id": "hgPL60sSWcQ7",
        "outputId": "f7eeb67e-f2e9-4aed-97a7-193dbce0ecc1"
      },
      "execution_count": 31,
      "outputs": [
        {
          "output_type": "stream",
          "name": "stdout",
          "text": [
            "<class 'pandas.core.frame.DataFrame'>\n",
            "RangeIndex: 8693 entries, 0 to 8692\n",
            "Data columns (total 16 columns):\n",
            " #   Column          Non-Null Count  Dtype  \n",
            "---  ------          --------------  -----  \n",
            " 0   HomePlanet      8693 non-null   object \n",
            " 1   CryoSleep       8693 non-null   object \n",
            " 2   Destination     8693 non-null   object \n",
            " 3   VIP             8693 non-null   object \n",
            " 4   RoomService     8693 non-null   float64\n",
            " 5   FoodCourt       8693 non-null   float64\n",
            " 6   ShoppingMall    8693 non-null   float64\n",
            " 7   Spa             8693 non-null   float64\n",
            " 8   VRDeck          8693 non-null   float64\n",
            " 9   target          8693 non-null   bool   \n",
            " 10  Grouped         8693 non-null   object \n",
            " 11  Cabin_1         8693 non-null   object \n",
            " 12  Cabin_2         8693 non-null   object \n",
            " 13  Cabin_3         8693 non-null   object \n",
            " 14  Age_Binned      8693 non-null   float64\n",
            " 15  Service_Billed  8693 non-null   float64\n",
            "dtypes: bool(1), float64(7), object(8)\n",
            "memory usage: 1.0+ MB\n"
          ]
        }
      ]
    },
    {
      "cell_type": "code",
      "execution_count": 32,
      "metadata": {
        "id": "Rvbdx9uEoyuz",
        "outputId": "7892ce19-a736-4932-8ffb-9771866e1adb",
        "colab": {
          "base_uri": "https://localhost:8080/"
        }
      },
      "outputs": [
        {
          "output_type": "stream",
          "name": "stdout",
          "text": [
            "array_features_train.shape: (8693, 1846) array_target_train.shape: (8693,)\n"
          ]
        }
      ],
      "source": [
        "# Finalize the training dataset for the modeling activities\n",
        "array_features_train = preprocessor.fit_transform(df_features_train)\n",
        "# array_features_train = df_features_train.to_numpy()\n",
        "label_encoder = preprocessing.LabelEncoder()\n",
        "array_target_train = label_encoder.fit_transform(df_target_train)\n",
        "print(\"array_features_train.shape: {} array_target_train.shape: {}\".format(array_features_train.shape, array_target_train.shape))"
      ]
    },
    {
      "cell_type": "code",
      "execution_count": 33,
      "metadata": {
        "id": "knrO4zXmoyuz"
      },
      "outputs": [],
      "source": [
        "if NOTIFY_STATUS: status_notify(\"Task 3 - Pre-process Data completed! \" + datetime.now().strftime('%a %B %d, %Y %I:%M:%S %p'))"
      ]
    },
    {
      "cell_type": "markdown",
      "metadata": {
        "id": "AW4niFNBoyu0"
      },
      "source": [
        "## Task 4 - Train and Tune Models"
      ]
    },
    {
      "cell_type": "code",
      "execution_count": 34,
      "metadata": {
        "id": "iED_YVgNoyu0"
      },
      "outputs": [],
      "source": [
        "if NOTIFY_STATUS: status_notify(\"Task 4 - Train and Tune Models has begun! \" + datetime.now().strftime('%a %B %d, %Y %I:%M:%S %p'))"
      ]
    },
    {
      "cell_type": "markdown",
      "metadata": {
        "id": "yXlGt_ODoyu0"
      },
      "source": [
        "### 4.a) Set test options and evaluation metric"
      ]
    },
    {
      "cell_type": "code",
      "execution_count": 35,
      "metadata": {
        "id": "LG4WOhcSoyu0"
      },
      "outputs": [],
      "source": [
        "# Set up Algorithms Spot-Checking Array\n",
        "start_time_training = datetime.now()\n",
        "train_models = []\n",
        "train_results = []\n",
        "train_model_names = []\n",
        "train_metrics = []"
      ]
    },
    {
      "cell_type": "code",
      "execution_count": 36,
      "metadata": {
        "id": "KEMfNPUKoyu0"
      },
      "outputs": [],
      "source": [
        "train_models.append(('LGR', LogisticRegression(random_state=RNG_SEED, solver='saga', n_jobs=N_JOBS)))\n",
        "train_models.append(('CART', DecisionTreeClassifier(random_state=RNG_SEED)))\n",
        "train_models.append(('KNN', KNeighborsClassifier(n_jobs=N_JOBS)))\n",
        "train_models.append(('BGT', BaggingClassifier(random_state=RNG_SEED, n_jobs=N_JOBS)))\n",
        "train_models.append(('RNF', RandomForestClassifier(random_state=RNG_SEED, n_jobs=N_JOBS)))\n",
        "train_models.append(('EXT', ExtraTreesClassifier(random_state=RNG_SEED, n_jobs=N_JOBS)))"
      ]
    },
    {
      "cell_type": "code",
      "execution_count": 37,
      "metadata": {
        "id": "myc1LaJPoyu0",
        "outputId": "b2ff4fb4-7c1f-43db-af85-9f1b158992dd",
        "colab": {
          "base_uri": "https://localhost:8080/"
        }
      },
      "outputs": [
        {
          "output_type": "stream",
          "name": "stderr",
          "text": [
            "[Parallel(n_jobs=1)]: Using backend SequentialBackend with 1 concurrent workers.\n",
            "/usr/local/lib/python3.8/dist-packages/sklearn/linear_model/_sag.py:352: ConvergenceWarning: The max_iter was reached which means the coef_ did not converge\n",
            "  warnings.warn(\n",
            "/usr/local/lib/python3.8/dist-packages/sklearn/linear_model/_sag.py:352: ConvergenceWarning: The max_iter was reached which means the coef_ did not converge\n",
            "  warnings.warn(\n",
            "/usr/local/lib/python3.8/dist-packages/sklearn/linear_model/_sag.py:352: ConvergenceWarning: The max_iter was reached which means the coef_ did not converge\n",
            "  warnings.warn(\n",
            "/usr/local/lib/python3.8/dist-packages/sklearn/linear_model/_sag.py:352: ConvergenceWarning: The max_iter was reached which means the coef_ did not converge\n",
            "  warnings.warn(\n",
            "/usr/local/lib/python3.8/dist-packages/sklearn/linear_model/_sag.py:352: ConvergenceWarning: The max_iter was reached which means the coef_ did not converge\n",
            "  warnings.warn(\n",
            "/usr/local/lib/python3.8/dist-packages/sklearn/linear_model/_sag.py:352: ConvergenceWarning: The max_iter was reached which means the coef_ did not converge\n",
            "  warnings.warn(\n",
            "/usr/local/lib/python3.8/dist-packages/sklearn/linear_model/_sag.py:352: ConvergenceWarning: The max_iter was reached which means the coef_ did not converge\n",
            "  warnings.warn(\n",
            "/usr/local/lib/python3.8/dist-packages/sklearn/linear_model/_sag.py:352: ConvergenceWarning: The max_iter was reached which means the coef_ did not converge\n",
            "  warnings.warn(\n",
            "/usr/local/lib/python3.8/dist-packages/sklearn/linear_model/_sag.py:352: ConvergenceWarning: The max_iter was reached which means the coef_ did not converge\n",
            "  warnings.warn(\n",
            "/usr/local/lib/python3.8/dist-packages/sklearn/linear_model/_sag.py:352: ConvergenceWarning: The max_iter was reached which means the coef_ did not converge\n",
            "  warnings.warn(\n",
            "[Parallel(n_jobs=1)]: Done  10 out of  10 | elapsed:  2.2min finished\n",
            "[Parallel(n_jobs=1)]: Using backend SequentialBackend with 1 concurrent workers.\n"
          ]
        },
        {
          "output_type": "stream",
          "name": "stdout",
          "text": [
            "LGR: 0.791898 (0.017653)\n",
            "LogisticRegression(n_jobs=1, random_state=888, solver='saga')\n",
            "Model training time: 0:02:11.955756 \n",
            "\n"
          ]
        },
        {
          "output_type": "stream",
          "name": "stderr",
          "text": [
            "[Parallel(n_jobs=1)]: Done  10 out of  10 | elapsed:    7.8s finished\n",
            "[Parallel(n_jobs=1)]: Using backend SequentialBackend with 1 concurrent workers.\n"
          ]
        },
        {
          "output_type": "stream",
          "name": "stdout",
          "text": [
            "CART: 0.776023 (0.014730)\n",
            "DecisionTreeClassifier(random_state=888)\n",
            "Model training time: 0:00:07.846023 \n",
            "\n"
          ]
        },
        {
          "output_type": "stream",
          "name": "stderr",
          "text": [
            "[Parallel(n_jobs=1)]: Done  10 out of  10 | elapsed:    7.6s finished\n",
            "[Parallel(n_jobs=1)]: Using backend SequentialBackend with 1 concurrent workers.\n"
          ]
        },
        {
          "output_type": "stream",
          "name": "stdout",
          "text": [
            "KNN: 0.765556 (0.017127)\n",
            "KNeighborsClassifier(n_jobs=1)\n",
            "Model training time: 0:00:07.617515 \n",
            "\n"
          ]
        },
        {
          "output_type": "stream",
          "name": "stderr",
          "text": [
            "[Parallel(n_jobs=1)]: Done  10 out of  10 | elapsed:   55.2s finished\n",
            "[Parallel(n_jobs=1)]: Using backend SequentialBackend with 1 concurrent workers.\n"
          ]
        },
        {
          "output_type": "stream",
          "name": "stdout",
          "text": [
            "BGT: 0.788105 (0.012519)\n",
            "BaggingClassifier(n_jobs=1, random_state=888)\n",
            "Model training time: 0:00:55.235311 \n",
            "\n"
          ]
        },
        {
          "output_type": "stream",
          "name": "stderr",
          "text": [
            "[Parallel(n_jobs=1)]: Done  10 out of  10 | elapsed:   44.4s finished\n",
            "[Parallel(n_jobs=1)]: Using backend SequentialBackend with 1 concurrent workers.\n"
          ]
        },
        {
          "output_type": "stream",
          "name": "stdout",
          "text": [
            "RNF: 0.794889 (0.013825)\n",
            "RandomForestClassifier(n_jobs=1, random_state=888)\n",
            "Model training time: 0:00:44.443720 \n",
            "\n",
            "EXT: 0.781546 (0.014740)\n",
            "ExtraTreesClassifier(n_jobs=1, random_state=888)\n",
            "Model training time: 0:01:22.971653 \n",
            "\n",
            "Average metrics (accuracy) from all models: 0.7830028349845025\n",
            "Total training time for all models: 0:05:30.101490\n"
          ]
        },
        {
          "output_type": "stream",
          "name": "stderr",
          "text": [
            "[Parallel(n_jobs=1)]: Done  10 out of  10 | elapsed:  1.4min finished\n"
          ]
        }
      ],
      "source": [
        "# Generate model in turn\n",
        "for name, model in train_models:\n",
        "\tif NOTIFY_STATUS: status_notify(\"Algorithm\", name, \"modeling has begun! \" + datetime.now().strftime('%a %B %d, %Y %I:%M:%S %p'))\n",
        "\tstart_time_module = datetime.now()\n",
        "\tkfold = StratifiedKFold(n_splits=N_FOLDS, shuffle=True, random_state=RNG_SEED)\n",
        "\tcv_results = cross_val_score(model, array_features_train, array_target_train, cv=kfold, scoring=SCORING_METRIC, n_jobs=N_JOBS, verbose=1)\n",
        "\ttrain_results.append(cv_results)\n",
        "\ttrain_model_names.append(name)\n",
        "\ttrain_metrics.append(cv_results.mean())\n",
        "\tprint(\"%s: %f (%f)\" % (name, cv_results.mean(), cv_results.std()))\n",
        "\tprint(model)\n",
        "\tprint ('Model training time:', (datetime.now() - start_time_module), '\\n')\n",
        "\tif NOTIFY_STATUS: status_notify(\"Algorithm\", name, \"modeling completed! \" + datetime.now().strftime('%a %B %d, %Y %I:%M:%S %p'))\n",
        "print ('Average metrics (' + SCORING_METRIC + ') from all models:', np.mean(train_metrics))\n",
        "print ('Total training time for all models:', (datetime.now() - start_time_training))"
      ]
    },
    {
      "cell_type": "markdown",
      "metadata": {
        "id": "5f81C5REoyu0"
      },
      "source": [
        "### 4.b) Spot-checking baseline algorithms"
      ]
    },
    {
      "cell_type": "code",
      "execution_count": 38,
      "metadata": {
        "id": "xbuEpBv-oyu0",
        "outputId": "504d31a0-4f4a-4494-fa8b-b41604062ddc",
        "colab": {
          "base_uri": "https://localhost:8080/",
          "height": 787
        }
      },
      "outputs": [
        {
          "output_type": "display_data",
          "data": {
            "text/plain": [
              "<Figure size 1152x864 with 1 Axes>"
            ],
            "image/png": "[encoded data removed]"
          },
          "metadata": {
            "needs_background": "light"
          }
        }
      ],
      "source": [
        "fig = plt.figure(figsize=(16,12))\n",
        "fig.suptitle('Algorithm Comparison - Spot Checking')\n",
        "ax = fig.add_subplot(111)\n",
        "plt.boxplot(train_results)\n",
        "ax.set_xticklabels(train_model_names)\n",
        "plt.show()"
      ]
    },
    {
      "cell_type": "code",
      "execution_count": 39,
      "metadata": {
        "id": "0I685ixNoyu0"
      },
      "outputs": [],
      "source": [
        "if NOTIFY_STATUS: status_notify(\"Task 4 - Train and Tune Models completed! \" + datetime.now().strftime('%a %B %d, %Y %I:%M:%S %p'))"
      ]
    },
    {
      "cell_type": "markdown",
      "metadata": {
        "id": "h5CGob13oyu1"
      },
      "source": [
        "### 4.c) Algorithm Tuning"
      ]
    },
    {
      "cell_type": "code",
      "execution_count": 40,
      "metadata": {
        "id": "Zew5gUkRoyu1"
      },
      "outputs": [],
      "source": [
        "# Set up the comparison array\n",
        "tune_results = []\n",
        "tune_model_names = []"
      ]
    },
    {
      "cell_type": "code",
      "source": [
        "# Tuning algorithm #1\n",
        "start_time_module = datetime.now()\n",
        "if NOTIFY_STATUS: status_notify(\"Algorithm #1 tuning has begun! \" + datetime.now().strftime('%a %B %d, %Y %I:%M:%S %p'))\n",
        "\n",
        "tune_model1 = RandomForestClassifier(random_state=RNG_SEED, n_jobs=N_JOBS)\n",
        "tune_model_names.append('RNF')\n",
        "paramGrid1 = dict(n_estimators=np.array([100, 300, 500]))\n",
        "\n",
        "kfold = StratifiedKFold(n_splits=N_FOLDS, shuffle=True, random_state=RNG_SEED)\n",
        "grid1 = GridSearchCV(estimator=tune_model1, param_grid=paramGrid1, scoring=SCORING_METRIC, cv=kfold, n_jobs=N_JOBS, verbose=1)\n",
        "grid_result1 = grid1.fit(array_features_train, array_target_train)\n",
        "\n",
        "print(\"Best: %f using %s\" % (grid_result1.best_score_, grid_result1.best_params_))\n",
        "tune_results.append(grid_result1.cv_results_['mean_test_score'])\n",
        "means = grid_result1.cv_results_['mean_test_score']\n",
        "stds = grid_result1.cv_results_['std_test_score']\n",
        "params = grid_result1.cv_results_['params']\n",
        "for mean, stdev, param in zip(means, stds, params):\n",
        "    print(\"%f (%f) with: %r\" % (mean, stdev, param))\n",
        "print ('Model training time:', (datetime.now() - start_time_module))\n",
        "if NOTIFY_STATUS: status_notify(\"Algorithm #1 tuning completed! \" + datetime.now().strftime('%a %B %d, %Y %I:%M:%S %p'))"
      ],
      "metadata": {
        "colab": {
          "base_uri": "https://localhost:8080/"
        },
        "id": "uRiO8SMAv9Lg",
        "outputId": "e8a3687b-8532-4d46-dd42-730ce9418a6b"
      },
      "execution_count": 41,
      "outputs": [
        {
          "output_type": "stream",
          "name": "stdout",
          "text": [
            "Fitting 10 folds for each of 3 candidates, totalling 30 fits\n",
            "Best: 0.795580 using {'n_estimators': 500}\n",
            "0.794889 (0.013825) with: {'n_estimators': 100}\n",
            "0.795235 (0.013696) with: {'n_estimators': 300}\n",
            "0.795580 (0.013274) with: {'n_estimators': 500}\n",
            "Model training time: 0:07:04.907128\n"
          ]
        }
      ]
    },
    {
      "cell_type": "code",
      "source": [
        "best_paramKey1 = list(grid_result1.best_params_.keys())[0]\n",
        "best_paramValue1 = list(grid_result1.best_params_.values())[0]\n",
        "print(\"Captured the best parameter for algorithm #1:\", best_paramKey1, '=', best_paramValue1)"
      ],
      "metadata": {
        "id": "xttlS0Jjv9F7",
        "colab": {
          "base_uri": "https://localhost:8080/"
        },
        "outputId": "2ca8e00c-b6e6-4609-eeca-2779ccfafd28"
      },
      "execution_count": 42,
      "outputs": [
        {
          "output_type": "stream",
          "name": "stdout",
          "text": [
            "Captured the best parameter for algorithm #1: n_estimators = 500\n"
          ]
        }
      ]
    },
    {
      "cell_type": "code",
      "source": [
        "# Tuning algorithm #2\n",
        "start_time_module = datetime.now()\n",
        "if NOTIFY_STATUS: status_notify(\"Algorithm #2 tuning has begun! \" + datetime.now().strftime('%a %B %d, %Y %I:%M:%S %p'))\n",
        "\n",
        "tune_model2 = BaggingClassifier(random_state=RNG_SEED, n_jobs=N_JOBS)\n",
        "tune_model_names.append('BGT')\n",
        "paramGrid2 = dict(n_estimators=np.array([10, 20, 30]))\n",
        "\n",
        "kfold = StratifiedKFold(n_splits=N_FOLDS, shuffle=True, random_state=RNG_SEED)\n",
        "grid2 = GridSearchCV(estimator=tune_model2, param_grid=paramGrid2, scoring=SCORING_METRIC, cv=kfold, n_jobs=N_JOBS, verbose=1)\n",
        "grid_result2 = grid2.fit(array_features_train, array_target_train)\n",
        "\n",
        "print(\"Best: %f using %s\" % (grid_result2.best_score_, grid_result2.best_params_))\n",
        "tune_results.append(grid_result2.cv_results_['mean_test_score'])\n",
        "means = grid_result2.cv_results_['mean_test_score']\n",
        "stds = grid_result2.cv_results_['std_test_score']\n",
        "params = grid_result2.cv_results_['params']\n",
        "for mean, stdev, param in zip(means, stds, params):\n",
        "    print(\"%f (%f) with: %r\" % (mean, stdev, param))\n",
        "print ('Model training time:', (datetime.now() - start_time_module))\n",
        "if NOTIFY_STATUS: status_notify(\"Algorithm #2 tuning completed! \" + datetime.now().strftime('%a %B %d, %Y %I:%M:%S %p'))"
      ],
      "metadata": {
        "id": "h-KQ6coHv9B4",
        "colab": {
          "base_uri": "https://localhost:8080/"
        },
        "outputId": "5d3c7bd9-81ed-44ff-e92c-28f0bf70bc64"
      },
      "execution_count": 43,
      "outputs": [
        {
          "output_type": "stream",
          "name": "stdout",
          "text": [
            "Fitting 10 folds for each of 3 candidates, totalling 30 fits\n",
            "Best: 0.792243 using {'n_estimators': 20}\n",
            "0.788105 (0.012519) with: {'n_estimators': 10}\n",
            "0.792243 (0.012695) with: {'n_estimators': 20}\n",
            "0.791899 (0.012890) with: {'n_estimators': 30}\n",
            "Model training time: 0:05:49.022243\n"
          ]
        }
      ]
    },
    {
      "cell_type": "code",
      "source": [
        "best_paramKey2 = list(grid_result2.best_params_.keys())[0]\n",
        "best_paramValue2 = list(grid_result2.best_params_.values())[0]\n",
        "print(\"Captured the best parameter for algorithm #2:\", best_paramKey2, '=', best_paramValue2)"
      ],
      "metadata": {
        "id": "AbCquagMv85Y",
        "colab": {
          "base_uri": "https://localhost:8080/"
        },
        "outputId": "aa620632-7326-42b3-a9f7-567a4c879d3a"
      },
      "execution_count": 44,
      "outputs": [
        {
          "output_type": "stream",
          "name": "stdout",
          "text": [
            "Captured the best parameter for algorithm #2: n_estimators = 20\n"
          ]
        }
      ]
    },
    {
      "cell_type": "markdown",
      "metadata": {
        "id": "ovTv9np2oyu1"
      },
      "source": [
        "### 4.d) Compare Algorithms After Tuning"
      ]
    },
    {
      "cell_type": "code",
      "execution_count": 45,
      "metadata": {
        "id": "u7fV2PBpoyu1",
        "colab": {
          "base_uri": "https://localhost:8080/",
          "height": 787
        },
        "outputId": "f176aad3-489b-43aa-9978-e97be529a673"
      },
      "outputs": [
        {
          "output_type": "display_data",
          "data": {
            "text/plain": [
              "<Figure size 1152x864 with 1 Axes>"
            ],
            "image/png": "[encoded data removed]"
          },
          "metadata": {
            "needs_background": "light"
          }
        }
      ],
      "source": [
        "fig = plt.figure(figsize=(16,12))\n",
        "fig.suptitle('Algorithm Comparison - Post Tuning')\n",
        "ax = fig.add_subplot(111)\n",
        "plt.boxplot(tune_results)\n",
        "ax.set_xticklabels(tune_model_names)\n",
        "plt.show()"
      ]
    },
    {
      "cell_type": "code",
      "execution_count": 46,
      "metadata": {
        "id": "3f1ZGfhooyu1"
      },
      "outputs": [],
      "source": [
        "if NOTIFY_STATUS: status_notify(\"Task 4 - Train and Tune Models completed! \" + datetime.now().strftime('%a %B %d, %Y %I:%M:%S %p'))"
      ]
    },
    {
      "cell_type": "markdown",
      "metadata": {
        "id": "955lq8SUoyu2"
      },
      "source": [
        "## Task 5 - Finalize Model and Make Predictions"
      ]
    },
    {
      "cell_type": "code",
      "execution_count": 47,
      "metadata": {
        "id": "lG_cjoUhoyu2"
      },
      "outputs": [],
      "source": [
        "if NOTIFY_STATUS: status_notify(\"Task 5 - Finalize Model and Make Predictions has begun! \" + datetime.now().strftime('%a %B %d, %Y %I:%M:%S %p'))"
      ]
    },
    {
      "cell_type": "markdown",
      "source": [
        "### 5.a) Train the Final Model"
      ],
      "metadata": {
        "id": "bHcFQtMOMl0L"
      }
    },
    {
      "cell_type": "code",
      "execution_count": 48,
      "metadata": {
        "id": "-IM5eGOLoyu2",
        "colab": {
          "base_uri": "https://localhost:8080/"
        },
        "outputId": "027c012a-0c23-4821-9ebf-34a6deb5cba7"
      },
      "outputs": [
        {
          "output_type": "stream",
          "name": "stdout",
          "text": [
            "RandomForestClassifier(n_jobs=1, random_state=888)\n"
          ]
        }
      ],
      "source": [
        "final_model = RandomForestClassifier(random_state=RNG_SEED, n_jobs=N_JOBS)\n",
        "# final_model = RandomForestClassifier(n_estimators=best_paramValue1, random_state=RNG_SEED, n_jobs=N_JOBS)\n",
        "final_model.fit(array_features_train, array_target_train)\n",
        "print(final_model)"
      ]
    },
    {
      "cell_type": "markdown",
      "source": [
        "### 5.b) Load Test Dataset and Make Predictions"
      ],
      "metadata": {
        "id": "lgEvffI2Mpnx"
      }
    },
    {
      "cell_type": "code",
      "source": [
        "df_features_test = pd.read_csv(TEST_DATASET)\n",
        "\n",
        "# Take a peek at the dataframe after import\n",
        "print(df_features_test.head())"
      ],
      "metadata": {
        "id": "h7WgCCfHMPub",
        "colab": {
          "base_uri": "https://localhost:8080/"
        },
        "outputId": "4b7ab846-6c40-4c75-e117-337878439f68"
      },
      "execution_count": 49,
      "outputs": [
        {
          "output_type": "stream",
          "name": "stdout",
          "text": [
            "  PassengerId HomePlanet CryoSleep  Cabin  Destination   Age    VIP  \\\n",
            "0     0013_01      Earth      True  G/3/S  TRAPPIST-1e  27.0  False   \n",
            "1     0018_01      Earth     False  F/4/S  TRAPPIST-1e  19.0  False   \n",
            "2     0019_01     Europa      True  C/0/S  55 Cancri e  31.0  False   \n",
            "3     0021_01     Europa     False  C/1/S  TRAPPIST-1e  38.0  False   \n",
            "4     0023_01      Earth     False  F/5/S  TRAPPIST-1e  20.0  False   \n",
            "\n",
            "   RoomService  FoodCourt  ShoppingMall     Spa  VRDeck              Name  \n",
            "0          0.0        0.0           0.0     0.0     0.0   Nelly Carsoning  \n",
            "1          0.0        9.0           0.0  2823.0     0.0    Lerome Peckers  \n",
            "2          0.0        0.0           0.0     0.0     0.0   Sabih Unhearfus  \n",
            "3          0.0     6652.0           0.0   181.0   585.0  Meratz Caltilter  \n",
            "4         10.0        0.0         635.0     0.0     0.0   Brence Harperez  \n"
          ]
        }
      ]
    },
    {
      "cell_type": "code",
      "source": [
        "id_column_name = df_features_test.columns[0]\n",
        "df_kaggle_submission = pd.DataFrame()\n",
        "df_kaggle_submission[id_column_name] = df_features_test[id_column_name]\n",
        "print(df_kaggle_submission.head())"
      ],
      "metadata": {
        "id": "UWJg6T5zMyxJ",
        "colab": {
          "base_uri": "https://localhost:8080/"
        },
        "outputId": "6e09a913-9d0a-46bb-c5df-02b3c3480ef9"
      },
      "execution_count": 50,
      "outputs": [
        {
          "output_type": "stream",
          "name": "stdout",
          "text": [
            "  PassengerId\n",
            "0     0013_01\n",
            "1     0018_01\n",
            "2     0019_01\n",
            "3     0021_01\n",
            "4     0023_01\n"
          ]
        }
      ]
    },
    {
      "cell_type": "code",
      "source": [
        "# Break up the PassengerId attribute to get the grouping indicator\n",
        "df_features_test['Group_Number'] = df_features_test['PassengerId'].apply(convert_group)\n",
        "df_features_test['Grouped'] = df_features_test['Group_Number'].apply(grouping_test)\n",
        "\n",
        "# Break up the Cabin attribute into three separate features\n",
        "df_features_test['Cabin'].fillna('X/0/X', inplace=True)\n",
        "df_features_test['Cabin'] = df_features_test['Cabin'].astype(str)\n",
        "df_features_test['Cabin_1'] = df_features_test['Cabin'].apply(convert_cabin1)\n",
        "df_features_test['Cabin_2'] = df_features_test['Cabin'].apply(convert_cabin2)\n",
        "df_features_test['Cabin_3'] = df_features_test['Cabin'].apply(convert_cabin3)\n",
        "\n",
        "# Fill in some missing fields with the most common values\n",
        "df_features_test['HomePlanet'].fillna('Earth', inplace=True)\n",
        "df_features_test['CryoSleep'].fillna('False', inplace=True)\n",
        "df_features_test['CryoSleep'] = df_features_test['CryoSleep'].astype(str)\n",
        "df_features_test['Destination'].fillna('TRAPPIST-1e', inplace=True)\n",
        "\n",
        "df_features_test['Age'].fillna(value=df_features_test['Age'].median(), inplace=True)\n",
        "df_features_test['Age_Binned'] = est.transform(df_features_test['Age'].to_numpy().reshape(-1, 1))\n",
        "\n",
        "df_features_test['VIP'].fillna('False', inplace=True)\n",
        "df_features_test['VIP'] = df_features_test['VIP'].astype(str)\n",
        "\n",
        "df_features_test['RoomService'].fillna(0, inplace=True)\n",
        "df_features_test['FoodCourt'].fillna(0, inplace=True)\n",
        "df_features_test['ShoppingMall'].fillna(0, inplace=True)\n",
        "df_features_test['Spa'].fillna(0, inplace=True)\n",
        "df_features_test['VRDeck'].fillna(0, inplace=True)\n",
        "df_features_test['Service_Billed'] = df_features_test['RoomService'] + \\\n",
        "                                     df_features_test['FoodCourt'] + \\\n",
        "                                     df_features_test['ShoppingMall'] + \\\n",
        "                                     df_features_test['Spa'] + \\\n",
        "                                     df_features_test['VRDeck']\n",
        "\n",
        "df_features_test.drop(columns=[id_column_name,'Name','Cabin','Age','Group_Number'], inplace=True)\n",
        "\n",
        "# Take a peek at the dataframe after cleaning\n",
        "print(df_features_test.head())"
      ],
      "metadata": {
        "id": "WnH5v-ejM8u_",
        "colab": {
          "base_uri": "https://localhost:8080/"
        },
        "outputId": "2937a44e-747b-4f0a-d98a-eedc22941fed"
      },
      "execution_count": 51,
      "outputs": [
        {
          "output_type": "stream",
          "name": "stdout",
          "text": [
            "  HomePlanet CryoSleep  Destination    VIP  RoomService  FoodCourt  \\\n",
            "0      Earth      True  TRAPPIST-1e  False          0.0        0.0   \n",
            "1      Earth     False  TRAPPIST-1e  False          0.0        9.0   \n",
            "2     Europa      True  55 Cancri e  False          0.0        0.0   \n",
            "3     Europa     False  TRAPPIST-1e  False          0.0     6652.0   \n",
            "4      Earth     False  TRAPPIST-1e  False         10.0        0.0   \n",
            "\n",
            "   ShoppingMall     Spa  VRDeck Grouped Cabin_1 Cabin_2 Cabin_3  Age_Binned  \\\n",
            "0           0.0     0.0     0.0      No       G       3       S         2.0   \n",
            "1           0.0  2823.0     0.0      No       F       4       S         1.0   \n",
            "2           0.0     0.0     0.0      No       C       0       S         3.0   \n",
            "3           0.0   181.0   585.0      No       C       1       S         3.0   \n",
            "4         635.0     0.0     0.0      No       F       5       S         2.0   \n",
            "\n",
            "   Service_Billed  \n",
            "0             0.0  \n",
            "1          2832.0  \n",
            "2             0.0  \n",
            "3          7418.0  \n",
            "4           645.0  \n"
          ]
        }
      ]
    },
    {
      "cell_type": "code",
      "source": [
        "# Finalize the test dataset for the testing activities\n",
        "array_features_test = preprocessor.transform(df_features_test)\n",
        "print(\"Transformed features from df_features_test.shape: {} to array_features_test.shape: {}\".format(df_features_test.shape, array_features_test.shape))"
      ],
      "metadata": {
        "id": "8oW_srf7Nlli",
        "colab": {
          "base_uri": "https://localhost:8080/"
        },
        "outputId": "acc9fd58-9f53-4630-df18-2eeff84c7448"
      },
      "execution_count": 52,
      "outputs": [
        {
          "output_type": "stream",
          "name": "stdout",
          "text": [
            "Transformed features from df_features_test.shape: (4277, 15) to array_features_test.shape: (4277, 1846)\n"
          ]
        }
      ]
    },
    {
      "cell_type": "code",
      "source": [
        "# Make batched predictions\n",
        "test_predictions =  final_model.predict(array_features_test)\n",
        "print(test_predictions)"
      ],
      "metadata": {
        "id": "sbwMzaYzNpTj",
        "colab": {
          "base_uri": "https://localhost:8080/"
        },
        "outputId": "d3dff675-57b9-49fe-cf32-65e3fefd05cf"
      },
      "execution_count": 53,
      "outputs": [
        {
          "output_type": "stream",
          "name": "stdout",
          "text": [
            "[1 0 1 ... 1 1 1]\n"
          ]
        }
      ]
    },
    {
      "cell_type": "code",
      "source": [
        "df_sample_submission = pd.read_csv(SUBMISSION_TEMPLATE)\n",
        "df_sample_submission.drop(columns=[id_column_name], inplace=True)\n",
        "submission_header = list(df_sample_submission.columns)[0]\n",
        "print(submission_header)"
      ],
      "metadata": {
        "id": "_bVUHUgjNvcM",
        "colab": {
          "base_uri": "https://localhost:8080/"
        },
        "outputId": "9fbced3f-f005-493c-9472-73ea3c361731"
      },
      "execution_count": 54,
      "outputs": [
        {
          "output_type": "stream",
          "name": "stdout",
          "text": [
            "Transported\n"
          ]
        }
      ]
    },
    {
      "cell_type": "code",
      "source": [
        "df_kaggle_submission[submission_header] = test_predictions\n",
        "df_kaggle_submission[submission_header] = df_kaggle_submission[submission_header].astype(bool)\n",
        "print(df_kaggle_submission.head())"
      ],
      "metadata": {
        "id": "QTt5mFxpN0yQ",
        "colab": {
          "base_uri": "https://localhost:8080/"
        },
        "outputId": "45035f08-0a46-49f4-e65c-4393f42615ed"
      },
      "execution_count": 55,
      "outputs": [
        {
          "output_type": "stream",
          "name": "stdout",
          "text": [
            "  PassengerId  Transported\n",
            "0     0013_01         True\n",
            "1     0018_01        False\n",
            "2     0019_01         True\n",
            "3     0021_01         True\n",
            "4     0023_01         True\n"
          ]
        }
      ]
    },
    {
      "cell_type": "code",
      "source": [
        "submission_file = df_kaggle_submission.to_csv(header=True, index=False)\n",
        "filename = SUBMISSION_FILE + datetime.now().strftime('%Y%m%d-%H%M') + '.csv'\n",
        "with open(filename, 'w') as f:\n",
        "    f.write(submission_file)\n",
        "    print('Completed writing output file: ' + filename)"
      ],
      "metadata": {
        "id": "xEViFboLN42g",
        "colab": {
          "base_uri": "https://localhost:8080/"
        },
        "outputId": "3928c9b1-cf83-4954-ab19-66a3756fd232"
      },
      "execution_count": 56,
      "outputs": [
        {
          "output_type": "stream",
          "name": "stdout",
          "text": [
            "Completed writing output file: submission_sklearn_20221219-0443.csv\n"
          ]
        }
      ]
    },
    {
      "cell_type": "code",
      "execution_count": 57,
      "metadata": {
        "id": "REuedcf5oyu3"
      },
      "outputs": [],
      "source": [
        "if NOTIFY_STATUS: status_notify(\"Task 5 - Finalize Model and Make Predictions completed! \" + datetime.now().strftime('%a %B %d, %Y %I:%M:%S %p'))"
      ]
    },
    {
      "cell_type": "code",
      "execution_count": 58,
      "metadata": {
        "id": "nErqP5A_oyu3",
        "colab": {
          "base_uri": "https://localhost:8080/"
        },
        "outputId": "e046aab4-3e5a-435e-cc7b-26b8592e53d3"
      },
      "outputs": [
        {
          "output_type": "stream",
          "name": "stdout",
          "text": [
            "Total time for the script: 0:18:49.888702\n"
          ]
        }
      ],
      "source": [
        "print ('Total time for the script:',(datetime.now() - START_TIME_SCRIPT))"
      ]
    }
  ],
  "metadata": {
    "kernelspec": {
      "display_name": "Python 3 (ipykernel)",
      "language": "python",
      "name": "python3"
    },
    "language_info": {
      "codemirror_mode": {
        "name": "ipython",
        "version": 3
      },
      "file_extension": ".py",
      "mimetype": "text/x-python",
      "name": "python",
      "nbconvert_exporter": "python",
      "pygments_lexer": "ipython3",
      "version": "3.8.10"
    },
    "colab": {
      "provenance": []
    }
  },
  "nbformat": 4,
  "nbformat_minor": 0
}
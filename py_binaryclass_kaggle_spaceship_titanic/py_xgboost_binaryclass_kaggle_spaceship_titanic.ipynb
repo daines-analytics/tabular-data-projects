{
  "cells": [
    {
      "cell_type": "markdown",
      "metadata": {
        "id": "uTujCqduViZB"
      },
      "source": [
        "# Binary-Class Tabular Model for Kaggle Spaceship Titanic Using Python and XGBoost\n",
        "### David Lowe\n",
        "### December 28, 2022\n",
        "\n",
        "SUMMARY: The project aims to construct a predictive model using various machine learning algorithms and document the end-to-end steps using a template. The Kaggle Spaceship Titanic dataset is a binary-class modeling situation where we attempt to predict one of two possible outcomes.\n",
        "\n",
        "INTRODUCTION: In the year 2912, the Spaceship Titanic, an interstellar passenger liner, launched with almost 13,000 passengers on board. The vessel set out on its maiden voyage transporting emigrants from our solar system to three newly habitable exoplanets orbiting nearby stars.\n",
        "\n",
        "While rounding Alpha Centauri en route to its first destination, the unwary Spaceship Titanic collided with a spacetime anomaly hidden within a dust cloud. Sadly, it met a similar fate as its namesake from 1000 years before. Though the ship stayed intact, almost half of the passengers were transported to an alternate dimension!\n",
        "\n",
        "This incident presented a challenge to the data scientists of the future. To help rescue crews and retrieve the lost passengers, the data scientists tried to build a model that predicted which passengers were transported by the anomaly using records recovered from the spaceship’s damaged computer system.\n",
        "\n",
        "ANALYSIS: The performance of the preliminary XGBoost model achieved an accuracy benchmark of 80.69% after training. When we processed the test dataset with the final model, the model achieved an accuracy score of 80.31%.\n",
        "\n",
        "CONCLUSION: In this iteration, the XGBoost model appeared to be a suitable algorithm for modeling this dataset.\n",
        "\n",
        "Dataset Used: Spaceship Titanic Dataset\n",
        "\n",
        "Dataset ML Model: Binary-Class classification with numerical and categorical features\n",
        "\n",
        "Dataset Reference: https://www.kaggle.com/competitions/spaceship-titanic\n",
        "\n",
        "One source of potential performance benchmarks: https://www.kaggle.com/competitions/spaceship-titanic/leaderboard"
      ]
    },
    {
      "cell_type": "markdown",
      "metadata": {
        "id": "CpOJ4D0sViZE"
      },
      "source": [
        "## Task 1 - Prepare Environment"
      ]
    },
    {
      "cell_type": "code",
      "execution_count": 1,
      "metadata": {
        "id": "lacFSiqQViZE",
        "outputId": "3a5172cb-d081-4478-cca1-befa46428b09",
        "colab": {
          "base_uri": "https://localhost:8080/"
        }
      },
      "outputs": [
        {
          "output_type": "stream",
          "name": "stdout",
          "text": [
            "Mon Dec 19 16:50:37 2022       \n",
            "+-----------------------------------------------------------------------------+\n",
            "| NVIDIA-SMI 460.32.03    Driver Version: 460.32.03    CUDA Version: 11.2     |\n",
            "|-------------------------------+----------------------+----------------------+\n",
            "| GPU  Name        Persistence-M| Bus-Id        Disp.A | Volatile Uncorr. ECC |\n",
            "| Fan  Temp  Perf  Pwr:Usage/Cap|         Memory-Usage | GPU-Util  Compute M. |\n",
            "|                               |                      |               MIG M. |\n",
            "|===============================+======================+======================|\n",
            "|   0  A100-SXM4-40GB      Off  | 00000000:00:04.0 Off |                    0 |\n",
            "| N/A   33C    P0    51W / 400W |      0MiB / 40536MiB |      0%      Default |\n",
            "|                               |                      |             Disabled |\n",
            "+-------------------------------+----------------------+----------------------+\n",
            "                                                                               \n",
            "+-----------------------------------------------------------------------------+\n",
            "| Processes:                                                                  |\n",
            "|  GPU   GI   CI        PID   Type   Process name                  GPU Memory |\n",
            "|        ID   ID                                                   Usage      |\n",
            "|=============================================================================|\n",
            "|  No running processes found                                                 |\n",
            "+-----------------------------------------------------------------------------+\n"
          ]
        }
      ],
      "source": [
        "# Retrieve the GPU information\n",
        "gpu_info = !nvidia-smi\n",
        "gpu_info = '\\n'.join(gpu_info)\n",
        "print(gpu_info)"
      ]
    },
    {
      "cell_type": "code",
      "execution_count": 2,
      "metadata": {
        "id": "DxtB-TajViZF",
        "outputId": "f254679e-6bd7-4bd4-fefa-3d35a833f22e",
        "colab": {
          "base_uri": "https://localhost:8080/"
        }
      },
      "outputs": [
        {
          "output_type": "stream",
          "name": "stdout",
          "text": [
            "Your runtime has 89.6 gigabytes of available RAM\n",
            "\n"
          ]
        }
      ],
      "source": [
        "# Retrieve the memory configuration\n",
        "from psutil import virtual_memory\n",
        "ram_gb = virtual_memory().total / 1e9\n",
        "print('Your runtime has {:.1f} gigabytes of available RAM\\n'.format(ram_gb))"
      ]
    },
    {
      "cell_type": "code",
      "execution_count": 3,
      "metadata": {
        "id": "M5P-B3EHViZG",
        "outputId": "3a6baddd-09b8-4fd4-bb1f-10dbbc7938ce",
        "colab": {
          "base_uri": "https://localhost:8080/"
        }
      },
      "outputs": [
        {
          "output_type": "stream",
          "name": "stdout",
          "text": [
            "The number of available CPUs is: 12\n"
          ]
        }
      ],
      "source": [
        "# Retrieve the CPU information\n",
        "ncpu = !nproc\n",
        "print(\"The number of available CPUs is:\", ncpu[0])"
      ]
    },
    {
      "cell_type": "markdown",
      "metadata": {
        "id": "PO6xpyHQViZG"
      },
      "source": [
        "### 1.a) Load libraries and modules"
      ]
    },
    {
      "cell_type": "code",
      "execution_count": 4,
      "metadata": {
        "id": "8wN4G-ONViZG"
      },
      "outputs": [],
      "source": [
        "# Set the random seed number for reproducible results\n",
        "RNG_SEED = 888"
      ]
    },
    {
      "cell_type": "code",
      "execution_count": 5,
      "metadata": {
        "id": "c_m1fMFIViZH"
      },
      "outputs": [],
      "source": [
        "import numpy as np\n",
        "import pandas as pd\n",
        "import seaborn as sns\n",
        "import matplotlib.pyplot as plt\n",
        "import os\n",
        "import sys\n",
        "import math\n",
        "# import boto3\n",
        "import zipfile\n",
        "import urllib\n",
        "from datetime import datetime\n",
        "from sklearn import preprocessing\n",
        "from sklearn.model_selection import train_test_split\n",
        "from sklearn.model_selection import StratifiedKFold\n",
        "from sklearn.model_selection import cross_val_score\n",
        "from sklearn.model_selection import GridSearchCV\n",
        "from sklearn.metrics import classification_report\n",
        "from sklearn.metrics import confusion_matrix\n",
        "from sklearn.metrics import accuracy_score\n",
        "from sklearn.pipeline import Pipeline\n",
        "from sklearn import compose\n",
        "from sklearn import impute\n",
        "\n",
        "# from sklearn.feature_selection import RFE\n",
        "# from imblearn.pipeline import Pipeline\n",
        "# from imblearn.over_sampling import SMOTE\n",
        "# from imblearn.under_sampling import RandomUnderSampler\n",
        "\n",
        "from xgboost import XGBClassifier"
      ]
    },
    {
      "cell_type": "markdown",
      "metadata": {
        "id": "R9eAm3poViZH"
      },
      "source": [
        "### 1.b) Set up the controlling parameters and functions"
      ]
    },
    {
      "cell_type": "code",
      "execution_count": 6,
      "metadata": {
        "id": "IdkikF4vViZI"
      },
      "outputs": [],
      "source": [
        "# Begin the timer for the script processing\n",
        "START_TIME_SCRIPT = datetime.now()\n",
        "\n",
        "# Set up the number of CPU cores available for multi-thread processing\n",
        "N_JOBS = 1\n",
        "\n",
        "# Set up the flag to stop sending progress emails (setting to True will send status emails!)\n",
        "NOTIFY_STATUS = False\n",
        "\n",
        "# Set the percentage sizes for splitting the dataset\n",
        "TEST_SET_RATIO = 0.1\n",
        "VAL_SET_RATIO = 0.1\n",
        "\n",
        "# Set the name for the class/label column\n",
        "ORIGINAL_LABEL = 'Transported'\n",
        "CLASS_COLUMN = 'target'\n",
        "\n",
        "# Set the number of folds for cross validation\n",
        "N_FOLDS = 10\n",
        "\n",
        "# Set default modeling scoring metric\n",
        "SCORING_METRIC = 'accuracy'\n",
        "\n",
        "# Define the directory locations and file names\n",
        "TRAIN_DATASET = 'https://dainesanalytics.com/datasets/kaggle-spaceship-titanic-competition/train.csv'\n",
        "TEST_DATASET = 'https://dainesanalytics.com/datasets/kaggle-spaceship-titanic-competition/test.csv'\n",
        "SUBMISSION_TEMPLATE = 'https://dainesanalytics.com/datasets/kaggle-spaceship-titanic-competition/sample_submission.csv'\n",
        "SUBMISSION_FILE = 'submission_xgboost_'"
      ]
    },
    {
      "cell_type": "code",
      "execution_count": 7,
      "metadata": {
        "id": "yd6Q3v1IViZI"
      },
      "outputs": [],
      "source": [
        "# Set up the email notification function\n",
        "def status_notify(msg_text):\n",
        "    access_key = os.environ.get('SNS_ACCESS_KEY')\n",
        "    secret_key = os.environ.get('SNS_SECRET_KEY')\n",
        "    aws_region = os.environ.get('SNS_AWS_REGION')\n",
        "    topic_arn = os.environ.get('SNS_TOPIC_ARN')\n",
        "    if (access_key is None) or (secret_key is None) or (aws_region is None):\n",
        "        sys.exit(\"Incomplete notification setup info. Script Processing Aborted!!!\")\n",
        "    sns = boto3.client('sns', aws_access_key_id=access_key, aws_secret_access_key=secret_key, region_name=aws_region)\n",
        "    response = sns.publish(TopicArn=topic_arn, Message=msg_text)\n",
        "    if response['ResponseMetadata']['HTTPStatusCode'] != 200 :\n",
        "        print('Status notification not OK with HTTP status code:', response['ResponseMetadata']['HTTPStatusCode'])"
      ]
    },
    {
      "cell_type": "code",
      "execution_count": 8,
      "metadata": {
        "id": "vUXsPt2cViZJ"
      },
      "outputs": [],
      "source": [
        "if NOTIFY_STATUS: status_notify(\"Task 1 - Prepare Environment has begun! \" + datetime.now().strftime('%a %B %d, %Y %I:%M:%S %p'))"
      ]
    },
    {
      "cell_type": "markdown",
      "metadata": {
        "id": "q_Bvl4siViZJ"
      },
      "source": [
        "### 1.c) Load dataset"
      ]
    },
    {
      "cell_type": "code",
      "execution_count": 9,
      "metadata": {
        "id": "xLOu39vyViZK",
        "outputId": "a6c889c3-d5e7-41f5-d250-11b9e16cd33c",
        "colab": {
          "base_uri": "https://localhost:8080/"
        }
      },
      "outputs": [
        {
          "output_type": "stream",
          "name": "stdout",
          "text": [
            "  PassengerId HomePlanet CryoSleep  Cabin  Destination   Age    VIP  \\\n",
            "0     0001_01     Europa     False  B/0/P  TRAPPIST-1e  39.0  False   \n",
            "1     0002_01      Earth     False  F/0/S  TRAPPIST-1e  24.0  False   \n",
            "2     0003_01     Europa     False  A/0/S  TRAPPIST-1e  58.0   True   \n",
            "3     0003_02     Europa     False  A/0/S  TRAPPIST-1e  33.0  False   \n",
            "4     0004_01      Earth     False  F/1/S  TRAPPIST-1e  16.0  False   \n",
            "\n",
            "   RoomService  FoodCourt  ShoppingMall     Spa  VRDeck               Name  \\\n",
            "0          0.0        0.0           0.0     0.0     0.0    Maham Ofracculy   \n",
            "1        109.0        9.0          25.0   549.0    44.0       Juanna Vines   \n",
            "2         43.0     3576.0           0.0  6715.0    49.0      Altark Susent   \n",
            "3          0.0     1283.0         371.0  3329.0   193.0       Solam Susent   \n",
            "4        303.0       70.0         151.0   565.0     2.0  Willy Santantines   \n",
            "\n",
            "   Transported  \n",
            "0        False  \n",
            "1         True  \n",
            "2        False  \n",
            "3        False  \n",
            "4         True  \n"
          ]
        }
      ],
      "source": [
        "df_dataset_import = pd.read_csv(TRAIN_DATASET)\n",
        "\n",
        "# Take a peek at the dataframe after import\n",
        "print(df_dataset_import.head())"
      ]
    },
    {
      "cell_type": "code",
      "execution_count": 10,
      "metadata": {
        "id": "hh61JaxGViZK",
        "outputId": "5a1d021e-10d4-4bea-d235-38880f024dde",
        "colab": {
          "base_uri": "https://localhost:8080/"
        }
      },
      "outputs": [
        {
          "output_type": "stream",
          "name": "stdout",
          "text": [
            "<class 'pandas.core.frame.DataFrame'>\n",
            "RangeIndex: 8693 entries, 0 to 8692\n",
            "Data columns (total 14 columns):\n",
            " #   Column        Non-Null Count  Dtype  \n",
            "---  ------        --------------  -----  \n",
            " 0   PassengerId   8693 non-null   object \n",
            " 1   HomePlanet    8492 non-null   object \n",
            " 2   CryoSleep     8476 non-null   object \n",
            " 3   Cabin         8494 non-null   object \n",
            " 4   Destination   8511 non-null   object \n",
            " 5   Age           8514 non-null   float64\n",
            " 6   VIP           8490 non-null   object \n",
            " 7   RoomService   8512 non-null   float64\n",
            " 8   FoodCourt     8510 non-null   float64\n",
            " 9   ShoppingMall  8485 non-null   float64\n",
            " 10  Spa           8510 non-null   float64\n",
            " 11  VRDeck        8505 non-null   float64\n",
            " 12  Name          8493 non-null   object \n",
            " 13  Transported   8693 non-null   bool   \n",
            "dtypes: bool(1), float64(6), object(7)\n",
            "memory usage: 891.5+ KB\n"
          ]
        }
      ],
      "source": [
        "df_dataset_import.info(verbose=True)"
      ]
    },
    {
      "cell_type": "code",
      "execution_count": 11,
      "metadata": {
        "id": "H4E9OUytViZK",
        "outputId": "caa02508-b80f-4456-c1cf-e5af7701759e",
        "colab": {
          "base_uri": "https://localhost:8080/"
        }
      },
      "outputs": [
        {
          "output_type": "stream",
          "name": "stdout",
          "text": [
            "               Age   RoomService     FoodCourt  ShoppingMall           Spa  \\\n",
            "count  8514.000000   8512.000000   8510.000000   8485.000000   8510.000000   \n",
            "mean     28.827930    224.687617    458.077203    173.729169    311.138778   \n",
            "std      14.489021    666.717663   1611.489240    604.696458   1136.705535   \n",
            "min       0.000000      0.000000      0.000000      0.000000      0.000000   \n",
            "25%      19.000000      0.000000      0.000000      0.000000      0.000000   \n",
            "50%      27.000000      0.000000      0.000000      0.000000      0.000000   \n",
            "75%      38.000000     47.000000     76.000000     27.000000     59.000000   \n",
            "max      79.000000  14327.000000  29813.000000  23492.000000  22408.000000   \n",
            "\n",
            "             VRDeck  \n",
            "count   8505.000000  \n",
            "mean     304.854791  \n",
            "std     1145.717189  \n",
            "min        0.000000  \n",
            "25%        0.000000  \n",
            "50%        0.000000  \n",
            "75%       46.000000  \n",
            "max    24133.000000  \n"
          ]
        }
      ],
      "source": [
        "print(df_dataset_import.describe())"
      ]
    },
    {
      "cell_type": "code",
      "execution_count": 12,
      "metadata": {
        "id": "hLrJ1Su4ViZK",
        "outputId": "df7a7a9e-3e02-4341-c8db-471fe31ed35b",
        "colab": {
          "base_uri": "https://localhost:8080/"
        }
      },
      "outputs": [
        {
          "output_type": "stream",
          "name": "stdout",
          "text": [
            "PassengerId       0\n",
            "HomePlanet      201\n",
            "CryoSleep       217\n",
            "Cabin           199\n",
            "Destination     182\n",
            "Age             179\n",
            "VIP             203\n",
            "RoomService     181\n",
            "FoodCourt       183\n",
            "ShoppingMall    208\n",
            "Spa             183\n",
            "VRDeck          188\n",
            "Name            200\n",
            "Transported       0\n",
            "dtype: int64\n",
            "Total number of NaN in the dataframe:  2324\n"
          ]
        }
      ],
      "source": [
        "print(df_dataset_import.isnull().sum())\n",
        "print('Total number of NaN in the dataframe: ', df_dataset_import.isnull().sum().sum())"
      ]
    },
    {
      "cell_type": "code",
      "execution_count": 13,
      "metadata": {
        "id": "07ghAOPqViZK",
        "colab": {
          "base_uri": "https://localhost:8080/"
        },
        "outputId": "d0d5fcf8-24a7-4615-9dbe-b0ad97838d21"
      },
      "outputs": [
        {
          "output_type": "stream",
          "name": "stdout",
          "text": [
            "Transported\n",
            "False    4315\n",
            "True     4378\n",
            "dtype: int64\n"
          ]
        }
      ],
      "source": [
        "# Get grouping size for the target variable\n",
        "print(df_dataset_import.groupby(ORIGINAL_LABEL).size())"
      ]
    },
    {
      "cell_type": "markdown",
      "metadata": {
        "id": "k79hRaYnViZK"
      },
      "source": [
        "### 1.d) Data Cleaning"
      ]
    },
    {
      "cell_type": "code",
      "source": [
        "def convert_group(target_col):\n",
        "    # print(target_col)\n",
        "    if (target_col is not None):\n",
        "        group_list = target_col.split('_')\n",
        "        # print(cabin_list)\n",
        "        return group_list[0]\n",
        "    else:\n",
        "        return None\n",
        "\n",
        "def grouping_train(target_col):\n",
        "    # print(target_col)\n",
        "    if (target_col is not None):\n",
        "        if len(df_dataset_import[df_dataset_import['Group_Number']==target_col]) > 1:\n",
        "            return 'Yes'\n",
        "        else:\n",
        "            return 'No'\n",
        "    else:\n",
        "        return 'No'\n",
        "\n",
        "def grouping_test(target_col):\n",
        "    # print(target_col)\n",
        "    if (target_col is not None):\n",
        "        if len(df_features_test[df_features_test['Group_Number']==target_col]) > 1:\n",
        "            return 'Yes'\n",
        "        else:\n",
        "            return 'No'\n",
        "    else:\n",
        "        return 'No'\n",
        "\n",
        "def convert_cabin1(target_col):\n",
        "    # print(target_col)\n",
        "    if (target_col is not None):\n",
        "        cabin_list = target_col.split('/')\n",
        "        # print(cabin_list)\n",
        "        return cabin_list[0]\n",
        "    else:\n",
        "        return None\n",
        "\n",
        "def convert_cabin2(target_col):\n",
        "    # print(target_col)\n",
        "    if (target_col is not None):\n",
        "        cabin_list = target_col.split('/')\n",
        "        # print(cabin_list)\n",
        "        return cabin_list[1]\n",
        "    else:\n",
        "        return None\n",
        "\n",
        "def convert_cabin3(target_col):\n",
        "    # print(target_col)\n",
        "    if (target_col is not None):\n",
        "        cabin_list = target_col.split('/')\n",
        "        # print(cabin_list)\n",
        "        return cabin_list[2]\n",
        "    else:\n",
        "        return None"
      ],
      "metadata": {
        "id": "ntf5Sco1yA6A"
      },
      "execution_count": 14,
      "outputs": []
    },
    {
      "cell_type": "code",
      "execution_count": 15,
      "metadata": {
        "id": "7HBPom3PViZK",
        "outputId": "1e2958b2-04aa-4398-c3d8-583de7166a73",
        "colab": {
          "base_uri": "https://localhost:8080/"
        }
      },
      "outputs": [
        {
          "output_type": "stream",
          "name": "stdout",
          "text": [
            "  HomePlanet CryoSleep  Destination    VIP  RoomService  FoodCourt  \\\n",
            "0     Europa     False  TRAPPIST-1e  False          0.0        0.0   \n",
            "1      Earth     False  TRAPPIST-1e  False        109.0        9.0   \n",
            "2     Europa     False  TRAPPIST-1e   True         43.0     3576.0   \n",
            "3     Europa     False  TRAPPIST-1e  False          0.0     1283.0   \n",
            "4      Earth     False  TRAPPIST-1e  False        303.0       70.0   \n",
            "\n",
            "   ShoppingMall     Spa  VRDeck  target Grouped Cabin_1 Cabin_2 Cabin_3  \\\n",
            "0           0.0     0.0     0.0   False      No       B       0       P   \n",
            "1          25.0   549.0    44.0    True      No       F       0       S   \n",
            "2           0.0  6715.0    49.0   False     Yes       A       0       S   \n",
            "3         371.0  3329.0   193.0   False     Yes       A       0       S   \n",
            "4         151.0   565.0     2.0    True      No       F       1       S   \n",
            "\n",
            "   Age_Binned  Service_Billed  \n",
            "0         3.0             0.0  \n",
            "1         2.0           736.0  \n",
            "2         5.0         10383.0  \n",
            "3         3.0          5176.0  \n",
            "4         1.0          1091.0  \n"
          ]
        }
      ],
      "source": [
        "# Break up the PassengerId attribute to get the grouping indicator\n",
        "df_dataset_import['Group_Number'] = df_dataset_import['PassengerId'].apply(convert_group)\n",
        "df_dataset_import['Grouped'] = df_dataset_import['Group_Number'].apply(grouping_train)\n",
        "\n",
        "# Break up the Cabin attribute into three separate features\n",
        "df_dataset_import['Cabin'].fillna('G/0/P', inplace=True)\n",
        "df_dataset_import['Cabin'] = df_dataset_import['Cabin'].astype(str)\n",
        "df_dataset_import['Cabin_1'] = df_dataset_import['Cabin'].apply(convert_cabin1)\n",
        "df_dataset_import['Cabin_2'] = df_dataset_import['Cabin'].apply(convert_cabin2)\n",
        "df_dataset_import['Cabin_3'] = df_dataset_import['Cabin'].apply(convert_cabin3)\n",
        "\n",
        "# Fill in some missing fields with the most common values\n",
        "df_dataset_import['HomePlanet'].fillna('Earth', inplace=True)\n",
        "df_dataset_import['CryoSleep'].fillna('FALSE', inplace=True)\n",
        "df_dataset_import['CryoSleep'] = df_dataset_import['CryoSleep'].astype(str)\n",
        "df_dataset_import['Destination'].fillna('TRAPPIST-1e', inplace=True)\n",
        "\n",
        "df_dataset_import['Age'].fillna(value=df_dataset_import['Age'].median(), inplace=True)\n",
        "est = preprocessing.KBinsDiscretizer(n_bins=8, encode='ordinal', strategy='uniform').fit(df_dataset_import['Age'].to_numpy().reshape(-1, 1))\n",
        "df_dataset_import['Age_Binned'] = est.transform(df_dataset_import['Age'].to_numpy().reshape(-1, 1))\n",
        "\n",
        "df_dataset_import['VIP'].fillna('FALSE', inplace=True)\n",
        "df_dataset_import['VIP'] = df_dataset_import['VIP'].astype(str)\n",
        "\n",
        "df_dataset_import['RoomService'].fillna(0, inplace=True)\n",
        "df_dataset_import['FoodCourt'].fillna(0, inplace=True)\n",
        "df_dataset_import['ShoppingMall'].fillna(0, inplace=True)\n",
        "df_dataset_import['Spa'].fillna(0, inplace=True)\n",
        "df_dataset_import['VRDeck'].fillna(0, inplace=True)\n",
        "df_dataset_import['Service_Billed'] = df_dataset_import['RoomService'] + \\\n",
        "                                      df_dataset_import['FoodCourt'] + \\\n",
        "                                      df_dataset_import['ShoppingMall'] + \\\n",
        "                                      df_dataset_import['Spa'] + \\\n",
        "                                      df_dataset_import['VRDeck']\n",
        "\n",
        "df_dataset_import.drop(columns=['PassengerId','Name','Cabin','Age','Group_Number'], inplace=True)\n",
        "\n",
        "# Standardize the class column to the name of targetVar if required\n",
        "df_dataset_import = df_dataset_import.rename(columns={ORIGINAL_LABEL: CLASS_COLUMN})\n",
        "\n",
        "# Take a peek at the dataframe after cleaning\n",
        "print(df_dataset_import.head())"
      ]
    },
    {
      "cell_type": "code",
      "execution_count": 16,
      "metadata": {
        "id": "wbCDZq1iViZL",
        "outputId": "1248c104-e555-41e5-9dd0-ec113d9fcc35",
        "colab": {
          "base_uri": "https://localhost:8080/"
        }
      },
      "outputs": [
        {
          "output_type": "stream",
          "name": "stdout",
          "text": [
            "<class 'pandas.core.frame.DataFrame'>\n",
            "RangeIndex: 8693 entries, 0 to 8692\n",
            "Data columns (total 16 columns):\n",
            " #   Column          Non-Null Count  Dtype  \n",
            "---  ------          --------------  -----  \n",
            " 0   HomePlanet      8693 non-null   object \n",
            " 1   CryoSleep       8693 non-null   object \n",
            " 2   Destination     8693 non-null   object \n",
            " 3   VIP             8693 non-null   object \n",
            " 4   RoomService     8693 non-null   float64\n",
            " 5   FoodCourt       8693 non-null   float64\n",
            " 6   ShoppingMall    8693 non-null   float64\n",
            " 7   Spa             8693 non-null   float64\n",
            " 8   VRDeck          8693 non-null   float64\n",
            " 9   target          8693 non-null   bool   \n",
            " 10  Grouped         8693 non-null   object \n",
            " 11  Cabin_1         8693 non-null   object \n",
            " 12  Cabin_2         8693 non-null   object \n",
            " 13  Cabin_3         8693 non-null   object \n",
            " 14  Age_Binned      8693 non-null   float64\n",
            " 15  Service_Billed  8693 non-null   float64\n",
            "dtypes: bool(1), float64(7), object(8)\n",
            "memory usage: 1.0+ MB\n"
          ]
        }
      ],
      "source": [
        "df_dataset_import.info(verbose=True)"
      ]
    },
    {
      "cell_type": "code",
      "execution_count": 17,
      "metadata": {
        "id": "Ww92c4w7ViZL",
        "outputId": "7b3dd5e9-506c-47f7-e16e-81e7efbf1114",
        "colab": {
          "base_uri": "https://localhost:8080/"
        }
      },
      "outputs": [
        {
          "output_type": "stream",
          "name": "stdout",
          "text": [
            "        RoomService     FoodCourt  ShoppingMall           Spa        VRDeck  \\\n",
            "count   8693.000000   8693.000000   8693.000000   8693.000000   8693.000000   \n",
            "mean     220.009318    448.434027    169.572300    304.588865    298.261820   \n",
            "std      660.519050   1595.790627    598.007164   1125.562559   1134.126417   \n",
            "min        0.000000      0.000000      0.000000      0.000000      0.000000   \n",
            "25%        0.000000      0.000000      0.000000      0.000000      0.000000   \n",
            "50%        0.000000      0.000000      0.000000      0.000000      0.000000   \n",
            "75%       41.000000     61.000000     22.000000     53.000000     40.000000   \n",
            "max    14327.000000  29813.000000  23492.000000  22408.000000  24133.000000   \n",
            "\n",
            "        Age_Binned  Service_Billed  \n",
            "count  8693.000000     8693.000000  \n",
            "mean      2.428736     1440.866329  \n",
            "std       1.439655     2803.045694  \n",
            "min       0.000000        0.000000  \n",
            "25%       2.000000        0.000000  \n",
            "50%       2.000000      716.000000  \n",
            "75%       3.000000     1441.000000  \n",
            "max       7.000000    35987.000000  \n"
          ]
        }
      ],
      "source": [
        "print(df_dataset_import.describe())"
      ]
    },
    {
      "cell_type": "code",
      "execution_count": 18,
      "metadata": {
        "id": "89hWrwe6ViZL",
        "outputId": "2b2ab36e-80f4-460a-d899-e294e1f5e926",
        "colab": {
          "base_uri": "https://localhost:8080/"
        }
      },
      "outputs": [
        {
          "output_type": "stream",
          "name": "stdout",
          "text": [
            "HomePlanet        0\n",
            "CryoSleep         0\n",
            "Destination       0\n",
            "VIP               0\n",
            "RoomService       0\n",
            "FoodCourt         0\n",
            "ShoppingMall      0\n",
            "Spa               0\n",
            "VRDeck            0\n",
            "target            0\n",
            "Grouped           0\n",
            "Cabin_1           0\n",
            "Cabin_2           0\n",
            "Cabin_3           0\n",
            "Age_Binned        0\n",
            "Service_Billed    0\n",
            "dtype: int64\n",
            "Total number of NaN in the dataframe:  0\n"
          ]
        }
      ],
      "source": [
        "print(df_dataset_import.isnull().sum())\n",
        "print('Total number of NaN in the dataframe: ', df_dataset_import.isnull().sum().sum())"
      ]
    },
    {
      "cell_type": "code",
      "execution_count": 19,
      "metadata": {
        "id": "KGs4GZ6-ViZL",
        "outputId": "c0073ef0-f8f2-471e-cb13-dfea448e025a",
        "colab": {
          "base_uri": "https://localhost:8080/"
        }
      },
      "outputs": [
        {
          "output_type": "stream",
          "name": "stdout",
          "text": [
            "target\n",
            "False    4315\n",
            "True     4378\n",
            "dtype: int64\n"
          ]
        }
      ],
      "source": [
        "# Get grouping size for the target variable\n",
        "print(df_dataset_import.groupby(CLASS_COLUMN).size())"
      ]
    },
    {
      "cell_type": "markdown",
      "metadata": {
        "id": "kh4pXl29ViZL"
      },
      "source": [
        "### 1.e) Splitting Data into Sets"
      ]
    },
    {
      "cell_type": "code",
      "execution_count": 20,
      "metadata": {
        "id": "Ex6RhBcCViZL",
        "outputId": "97992534-918b-4ea5-92a0-4975c83b6a13",
        "colab": {
          "base_uri": "https://localhost:8080/"
        }
      },
      "outputs": [
        {
          "output_type": "stream",
          "name": "stdout",
          "text": [
            "df_dataset_import.shape: (8693, 16) df_features_train.shape: (8693, 15) df_target_train.shape: (8693,)\n"
          ]
        }
      ],
      "source": [
        "# Use variable total_column_count to hold the number of columns in the dataframe\n",
        "total_column_count = len(df_dataset_import.columns)\n",
        "\n",
        "# Set up variable total_feature_count for the total number of attribute columns\n",
        "total_feature_count = total_column_count-1\n",
        "\n",
        "# We create attribute-only and target-only datasets (df_features_train and df_target_train)\n",
        "df_target_train = df_dataset_import['target']\n",
        "df_features_train = df_dataset_import.drop(['target'], axis=1)\n",
        "\n",
        "print(\"df_dataset_import.shape: {} df_features_train.shape: {} df_target_train.shape: {}\".format(df_dataset_import.shape, df_features_train.shape, df_target_train.shape))"
      ]
    },
    {
      "cell_type": "markdown",
      "metadata": {
        "id": "i99VwZJrViZM"
      },
      "source": [
        "### 1.f) Set up the parameters for data visualization"
      ]
    },
    {
      "cell_type": "code",
      "execution_count": 21,
      "metadata": {
        "id": "CywZOJhDViZM"
      },
      "outputs": [],
      "source": [
        "# Set up the number of row and columns for visualization display. display_rows * display_columns should be >= total_feature_count\n",
        "display_columns = 4\n",
        "if total_feature_count % display_columns == 0 :\n",
        "    display_rows = total_feature_count // display_columns\n",
        "else :\n",
        "    display_rows = (total_feature_count // display_columns) + 1\n",
        "\n",
        "# Set figure width to display the data visualization plots\n",
        "fig_size = plt.rcParams[\"figure.figsize\"]\n",
        "fig_size[0] = display_columns * 4\n",
        "fig_size[1] = display_rows * 4\n",
        "plt.rcParams[\"figure.figsize\"] = fig_size"
      ]
    },
    {
      "cell_type": "code",
      "execution_count": 22,
      "metadata": {
        "id": "SWFPW_x4ViZM"
      },
      "outputs": [],
      "source": [
        "if NOTIFY_STATUS: status_notify(\"Task 1 - Prepare Environment completed! \" + datetime.now().strftime('%a %B %d, %Y %I:%M:%S %p'))"
      ]
    },
    {
      "cell_type": "markdown",
      "metadata": {
        "id": "TV1LLl0TViZM"
      },
      "source": [
        "## Task 2 - Summarize and Visualize Data"
      ]
    },
    {
      "cell_type": "code",
      "execution_count": 23,
      "metadata": {
        "id": "y0Fd1Sw1ViZM"
      },
      "outputs": [],
      "source": [
        "if NOTIFY_STATUS: status_notify(\"Task 2 - Summarize and Visualize Data has begun! \" + datetime.now().strftime('%a %B %d, %Y %I:%M:%S %p'))"
      ]
    },
    {
      "cell_type": "code",
      "execution_count": 24,
      "metadata": {
        "id": "LjmegM0_ViZM",
        "outputId": "7953543e-360c-4ca3-842f-b932093bdd51",
        "colab": {
          "base_uri": "https://localhost:8080/",
          "height": 464
        }
      },
      "outputs": [
        {
          "output_type": "display_data",
          "data": {
            "text/plain": [
              "<Figure size 1152x1152 with 16 Axes>"
            ],
            "image/png": "[encoded data removed]"
          },
          "metadata": {
            "needs_background": "light"
          }
        }
      ],
      "source": [
        "# Histograms for each attribute\n",
        "df_features_train.plot(kind='hist', subplots=True, layout=(display_rows, display_columns))\n",
        "plt.show()"
      ]
    },
    {
      "cell_type": "code",
      "execution_count": 25,
      "metadata": {
        "id": "MhLRoBwoViZM",
        "outputId": "f7bce6d3-2afb-4873-b985-5605b06cfb3a",
        "colab": {
          "base_uri": "https://localhost:8080/",
          "height": 465
        }
      },
      "outputs": [
        {
          "output_type": "display_data",
          "data": {
            "text/plain": [
              "<Figure size 1152x1152 with 16 Axes>"
            ],
            "image/png": "[encoded data removed]"
          },
          "metadata": {
            "needs_background": "light"
          }
        }
      ],
      "source": [
        "# Box and Whisker plot for each attribute\n",
        "df_features_train.plot(kind='box', subplots=True, layout=(display_rows, display_columns))\n",
        "plt.show()"
      ]
    },
    {
      "cell_type": "code",
      "execution_count": 26,
      "metadata": {
        "id": "wVZXCA2-ViZM",
        "colab": {
          "base_uri": "https://localhost:8080/",
          "height": 1000
        },
        "outputId": "633f4646-9dca-4786-d620-2ca4368c693c"
      },
      "outputs": [
        {
          "output_type": "display_data",
          "data": {
            "text/plain": [
              "<Figure size 1440x1440 with 2 Axes>"
            ],
            "image/png": "[encoded data removed]"
          },
          "metadata": {
            "needs_background": "light"
          }
        }
      ],
      "source": [
        "# Correlation matrix\n",
        "fig = plt.figure(figsize=(20, 20))\n",
        "correlations = df_features_train.corr(method='pearson')\n",
        "sns.heatmap(correlations, annot=True, cmap=plt.cm.PuBu)\n",
        "plt.show()"
      ]
    },
    {
      "cell_type": "code",
      "execution_count": 27,
      "metadata": {
        "tags": [],
        "id": "Y06DzC9iViZN"
      },
      "outputs": [],
      "source": [
        "if NOTIFY_STATUS: status_notify(\"Task 2 - Summarize and Visualize Data completed! \" + datetime.now().strftime('%a %B %d, %Y %I:%M:%S %p'))"
      ]
    },
    {
      "cell_type": "markdown",
      "metadata": {
        "id": "nUirhh-YViZN"
      },
      "source": [
        "## Task 3 - Pre-process Data"
      ]
    },
    {
      "cell_type": "code",
      "execution_count": 28,
      "metadata": {
        "id": "ubJ1OkeDViZN"
      },
      "outputs": [],
      "source": [
        "if NOTIFY_STATUS: status_notify(\"Task 3 - Pre-process Data has begun! \" + datetime.now().strftime('%a %B %d, %Y %I:%M:%S %p'))"
      ]
    },
    {
      "cell_type": "markdown",
      "metadata": {
        "id": "bBdegmC1ViZN"
      },
      "source": [
        "### 3.a) Feature Scaling"
      ]
    },
    {
      "cell_type": "code",
      "execution_count": 29,
      "metadata": {
        "id": "_ItuvWIXViZN",
        "outputId": "ff96badd-3e5b-4765-cc5b-37c85e86f361",
        "colab": {
          "base_uri": "https://localhost:8080/"
        }
      },
      "outputs": [
        {
          "output_type": "stream",
          "name": "stdout",
          "text": [
            "Number of numerical columns: 7\n",
            "Number of categorical columns: 8\n",
            "Total number of columns in the feature dataframe: 15\n"
          ]
        }
      ],
      "source": [
        "# Compose pipeline for the numerical and categorical features (Block #1 of 2)\n",
        "numeric_columns = df_features_train.select_dtypes(include=['float','int']).columns\n",
        "numeric_transformer = Pipeline(steps=[\n",
        "    ('imputer', impute.SimpleImputer(strategy=\"constant\", fill_value=0)),\n",
        "    ('scaler', preprocessing.StandardScaler())\n",
        "])\n",
        "categorical_columns = df_features_train.select_dtypes(include=['object','bool','category']).columns\n",
        "categorical_transformer = Pipeline(steps=[\n",
        "    ('imputer', impute.SimpleImputer(strategy='constant', fill_value='UKNOWN')),\n",
        "    ('onehot', preprocessing.OneHotEncoder(sparse=False, handle_unknown='ignore'))\n",
        "])\n",
        "\n",
        "print(\"Number of numerical columns:\", len(numeric_columns))\n",
        "print(\"Number of categorical columns:\", len(categorical_columns))\n",
        "print(\"Total number of columns in the feature dataframe:\", df_features_train.shape[1])"
      ]
    },
    {
      "cell_type": "code",
      "execution_count": 30,
      "metadata": {
        "id": "x69f9jVgViZN",
        "outputId": "3132fd25-e808-409c-e4bf-6916a2972cb8",
        "colab": {
          "base_uri": "https://localhost:8080/"
        }
      },
      "outputs": [
        {
          "output_type": "stream",
          "name": "stdout",
          "text": [
            "Transformed features from df_features_train.shape: (8693, 15) to array_features_train.shape: (8693, 1848)\n"
          ]
        }
      ],
      "source": [
        "# Compose pipeline for the numerical and categorical features (Block #2 of 2)\n",
        "preprocessor = compose.ColumnTransformer(transformers=[\n",
        "    ('num', numeric_transformer, numeric_columns),\n",
        "    ('cat', categorical_transformer, categorical_columns)\n",
        "    ], remainder='passthrough')\n",
        "\n",
        "# Display the shapes of the training dataset for final inspection\n",
        "array_features_train = preprocessor.fit_transform(df_features_train)\n",
        "print(\"Transformed features from df_features_train.shape: {} to array_features_train.shape: {}\".format(df_features_train.shape, array_features_train.shape))"
      ]
    },
    {
      "cell_type": "markdown",
      "metadata": {
        "id": "GDo-EE7vViZN"
      },
      "source": [
        "### 3.b) Training Data Balancing"
      ]
    },
    {
      "cell_type": "code",
      "execution_count": 31,
      "metadata": {
        "id": "FVU1JtNOViZN"
      },
      "outputs": [],
      "source": [
        "# Not applicable for this iteration of the project"
      ]
    },
    {
      "cell_type": "markdown",
      "metadata": {
        "id": "e-i6vz-gViZN"
      },
      "source": [
        "### 3.c) Feature Selection"
      ]
    },
    {
      "cell_type": "code",
      "execution_count": 32,
      "metadata": {
        "id": "vrGYGJEBViZN"
      },
      "outputs": [],
      "source": [
        "# Not applicable for this iteration of the project"
      ]
    },
    {
      "cell_type": "markdown",
      "metadata": {
        "id": "SqKyiRHlViZO"
      },
      "source": [
        "### 3.d) Display the Final Datasets for Model-Building"
      ]
    },
    {
      "cell_type": "code",
      "execution_count": 33,
      "metadata": {
        "id": "-4dLat26ViZO",
        "outputId": "fadd1822-fcb8-4911-a57e-cf27f9353b30",
        "colab": {
          "base_uri": "https://localhost:8080/"
        }
      },
      "outputs": [
        {
          "output_type": "stream",
          "name": "stdout",
          "text": [
            "array_features_train.shape: (8693, 1848) array_target_train.shape: (8693,)\n"
          ]
        }
      ],
      "source": [
        "# Finalize the training dataset for the modeling activities\n",
        "array_features_train = preprocessor.fit_transform(df_features_train)\n",
        "label_encoder = preprocessing.LabelEncoder()\n",
        "array_target_train = label_encoder.fit_transform(df_target_train)\n",
        "print(\"array_features_train.shape: {} array_target_train.shape: {}\".format(array_features_train.shape, array_target_train.shape))"
      ]
    },
    {
      "cell_type": "code",
      "execution_count": 34,
      "metadata": {
        "id": "64k83phgViZO"
      },
      "outputs": [],
      "source": [
        "if NOTIFY_STATUS: status_notify(\"Task 3 - Pre-process Data completed! \" + datetime.now().strftime('%a %B %d, %Y %I:%M:%S %p'))"
      ]
    },
    {
      "cell_type": "markdown",
      "metadata": {
        "id": "cybD8FKuViZO"
      },
      "source": [
        "## Task 4 - Train and Tune Models"
      ]
    },
    {
      "cell_type": "code",
      "execution_count": 35,
      "metadata": {
        "id": "dEiqFpjqViZO"
      },
      "outputs": [],
      "source": [
        "if NOTIFY_STATUS: status_notify(\"Task 4 - Train and Tune Models has begun! \" + datetime.now().strftime('%a %B %d, %Y %I:%M:%S %p'))"
      ]
    },
    {
      "cell_type": "markdown",
      "metadata": {
        "id": "uKsJm33lViZO"
      },
      "source": [
        "### 4.a) Set test options and evaluation metric"
      ]
    },
    {
      "cell_type": "code",
      "execution_count": 36,
      "metadata": {
        "id": "uaw3fsgoViZO"
      },
      "outputs": [],
      "source": [
        "# Set up Algorithms Spot-Checking Array\n",
        "start_time_training = datetime.now()\n",
        "train_models = []\n",
        "train_results = []\n",
        "train_model_names = []\n",
        "train_metrics = []"
      ]
    },
    {
      "cell_type": "code",
      "execution_count": 37,
      "metadata": {
        "id": "4BuHnxhzViZO"
      },
      "outputs": [],
      "source": [
        "train_models.append(('XGB', XGBClassifier(random_state=RNG_SEED, n_jobs=N_JOBS, objective='binary:logistic', use_label_encoder=False, eval_metric='logloss', tree_method='gpu_hist')))"
      ]
    },
    {
      "cell_type": "code",
      "execution_count": 38,
      "metadata": {
        "id": "xcXtJMqnViZO",
        "outputId": "3e3dc934-75c4-4d7a-b647-48b4c5eda948",
        "colab": {
          "base_uri": "https://localhost:8080/"
        }
      },
      "outputs": [
        {
          "output_type": "stream",
          "name": "stderr",
          "text": [
            "[Parallel(n_jobs=1)]: Using backend SequentialBackend with 1 concurrent workers.\n"
          ]
        },
        {
          "output_type": "stream",
          "name": "stdout",
          "text": [
            "XGB: 0.797650 (0.016115)\n",
            "XGBClassifier(eval_metric='logloss', random_state=888, tree_method='gpu_hist',\n",
            "              use_label_encoder=False)\n",
            "Model training time: 0:01:05.995177 \n",
            "\n",
            "Average metrics (accuracy) from all models: 0.7976496964406175\n",
            "Total training time for all models: 0:01:06.010533\n"
          ]
        },
        {
          "output_type": "stream",
          "name": "stderr",
          "text": [
            "[Parallel(n_jobs=1)]: Done  10 out of  10 | elapsed:  1.1min finished\n"
          ]
        }
      ],
      "source": [
        "# Generate model in turn\n",
        "for name, model in train_models:\n",
        "    if NOTIFY_STATUS: status_notify(\"Algorithm \"+name+\" modeling has begun! \" + datetime.now().strftime('%a %B %d, %Y %I:%M:%S %p'))\n",
        "    start_time_module = datetime.now()\n",
        "    kfold = StratifiedKFold(n_splits=N_FOLDS, shuffle=True, random_state=RNG_SEED)\n",
        "    cv_results = cross_val_score(model, array_features_train, array_target_train, cv=kfold, scoring=SCORING_METRIC, n_jobs=N_JOBS, verbose=1)\n",
        "    train_results.append(cv_results)\n",
        "    train_model_names.append(name)\n",
        "    train_metrics.append(cv_results.mean())\n",
        "    print(\"%s: %f (%f)\" % (name, cv_results.mean(), cv_results.std()))\n",
        "    print(model)\n",
        "    print ('Model training time:', (datetime.now() - start_time_module), '\\n')\n",
        "    if NOTIFY_STATUS: status_notify(\"Algorithm \"+name+\" modeling completed! \" + datetime.now().strftime('%a %B %d, %Y %I:%M:%S %p'))\n",
        "print ('Average metrics (' + SCORING_METRIC + ') from all models:', np.mean(train_metrics))\n",
        "print ('Total training time for all models:', (datetime.now() - start_time_training))"
      ]
    },
    {
      "cell_type": "markdown",
      "metadata": {
        "id": "_mdCViJcViZO"
      },
      "source": [
        "### 4.b) Algorithm Tuning"
      ]
    },
    {
      "cell_type": "code",
      "execution_count": 39,
      "metadata": {
        "id": "VnJ8nahWViZO"
      },
      "outputs": [],
      "source": [
        "# Set up the comparison array\n",
        "tune_results = []\n",
        "tune_model_names = []"
      ]
    },
    {
      "cell_type": "code",
      "execution_count": 40,
      "metadata": {
        "id": "XQbxK3lJViZP",
        "outputId": "a9ce16aa-8a77-4046-81eb-736caf630a46",
        "colab": {
          "base_uri": "https://localhost:8080/"
        }
      },
      "outputs": [
        {
          "output_type": "stream",
          "name": "stdout",
          "text": [
            "Fitting 10 folds for each of 45 candidates, totalling 450 fits\n",
            "Best: 0.806967 using {'max_depth': 3, 'min_child_weight': 3, 'n_estimators': 400}\n",
            "0.797650 (0.016115) with: {'max_depth': 3, 'min_child_weight': 1, 'n_estimators': 100}\n",
            "0.799721 (0.016793) with: {'max_depth': 3, 'min_child_weight': 1, 'n_estimators': 200}\n",
            "0.801561 (0.015932) with: {'max_depth': 3, 'min_child_weight': 1, 'n_estimators': 300}\n",
            "0.803747 (0.016889) with: {'max_depth': 3, 'min_child_weight': 1, 'n_estimators': 400}\n",
            "0.803056 (0.017693) with: {'max_depth': 3, 'min_child_weight': 1, 'n_estimators': 500}\n",
            "0.799145 (0.016142) with: {'max_depth': 3, 'min_child_weight': 2, 'n_estimators': 100}\n",
            "0.802137 (0.014522) with: {'max_depth': 3, 'min_child_weight': 2, 'n_estimators': 200}\n",
            "0.804206 (0.015441) with: {'max_depth': 3, 'min_child_weight': 2, 'n_estimators': 300}\n",
            "0.805127 (0.013152) with: {'max_depth': 3, 'min_child_weight': 2, 'n_estimators': 400}\n",
            "0.802250 (0.015651) with: {'max_depth': 3, 'min_child_weight': 2, 'n_estimators': 500}\n",
            "0.798915 (0.016379) with: {'max_depth': 3, 'min_child_weight': 3, 'n_estimators': 100}\n",
            "0.804092 (0.015693) with: {'max_depth': 3, 'min_child_weight': 3, 'n_estimators': 200}\n",
            "0.805817 (0.015303) with: {'max_depth': 3, 'min_child_weight': 3, 'n_estimators': 300}\n",
            "0.806967 (0.015635) with: {'max_depth': 3, 'min_child_weight': 3, 'n_estimators': 400}\n",
            "0.805587 (0.015673) with: {'max_depth': 3, 'min_child_weight': 3, 'n_estimators': 500}\n",
            "0.800871 (0.013581) with: {'max_depth': 6, 'min_child_weight': 1, 'n_estimators': 100}\n",
            "0.803287 (0.014667) with: {'max_depth': 6, 'min_child_weight': 1, 'n_estimators': 200}\n",
            "0.802367 (0.013862) with: {'max_depth': 6, 'min_child_weight': 1, 'n_estimators': 300}\n",
            "0.802136 (0.014562) with: {'max_depth': 6, 'min_child_weight': 1, 'n_estimators': 400}\n",
            "0.801676 (0.015110) with: {'max_depth': 6, 'min_child_weight': 1, 'n_estimators': 500}\n",
            "0.801331 (0.014195) with: {'max_depth': 6, 'min_child_weight': 2, 'n_estimators': 100}\n",
            "0.802022 (0.014890) with: {'max_depth': 6, 'min_child_weight': 2, 'n_estimators': 200}\n",
            "0.800756 (0.016577) with: {'max_depth': 6, 'min_child_weight': 2, 'n_estimators': 300}\n",
            "0.798915 (0.017380) with: {'max_depth': 6, 'min_child_weight': 2, 'n_estimators': 400}\n",
            "0.795464 (0.017310) with: {'max_depth': 6, 'min_child_weight': 2, 'n_estimators': 500}\n",
            "0.804781 (0.015857) with: {'max_depth': 6, 'min_child_weight': 3, 'n_estimators': 100}\n",
            "0.802596 (0.013964) with: {'max_depth': 6, 'min_child_weight': 3, 'n_estimators': 200}\n",
            "0.799146 (0.015106) with: {'max_depth': 6, 'min_child_weight': 3, 'n_estimators': 300}\n",
            "0.799031 (0.013977) with: {'max_depth': 6, 'min_child_weight': 3, 'n_estimators': 400}\n",
            "0.798916 (0.016373) with: {'max_depth': 6, 'min_child_weight': 3, 'n_estimators': 500}\n",
            "0.799375 (0.014252) with: {'max_depth': 9, 'min_child_weight': 1, 'n_estimators': 100}\n",
            "0.799376 (0.013526) with: {'max_depth': 9, 'min_child_weight': 1, 'n_estimators': 200}\n",
            "0.798455 (0.015527) with: {'max_depth': 9, 'min_child_weight': 1, 'n_estimators': 300}\n",
            "0.796040 (0.016955) with: {'max_depth': 9, 'min_child_weight': 1, 'n_estimators': 400}\n",
            "0.794085 (0.016384) with: {'max_depth': 9, 'min_child_weight': 1, 'n_estimators': 500}\n",
            "0.798454 (0.016045) with: {'max_depth': 9, 'min_child_weight': 2, 'n_estimators': 100}\n",
            "0.798224 (0.016203) with: {'max_depth': 9, 'min_child_weight': 2, 'n_estimators': 200}\n",
            "0.795463 (0.017057) with: {'max_depth': 9, 'min_child_weight': 2, 'n_estimators': 300}\n",
            "0.793163 (0.017701) with: {'max_depth': 9, 'min_child_weight': 2, 'n_estimators': 400}\n",
            "0.792243 (0.019237) with: {'max_depth': 9, 'min_child_weight': 2, 'n_estimators': 500}\n",
            "0.802022 (0.015107) with: {'max_depth': 9, 'min_child_weight': 3, 'n_estimators': 100}\n",
            "0.799260 (0.014686) with: {'max_depth': 9, 'min_child_weight': 3, 'n_estimators': 200}\n",
            "0.798916 (0.014754) with: {'max_depth': 9, 'min_child_weight': 3, 'n_estimators': 300}\n",
            "0.796271 (0.014158) with: {'max_depth': 9, 'min_child_weight': 3, 'n_estimators': 400}\n",
            "0.796270 (0.015523) with: {'max_depth': 9, 'min_child_weight': 3, 'n_estimators': 500}\n",
            "Model training time: 0:19:37.356528\n"
          ]
        }
      ],
      "source": [
        "# Tuning XGBoost n_estimators, max_depth, and min_child_weight parameters\n",
        "start_time_Module = datetime.now()\n",
        "if NOTIFY_STATUS: status_notify(\"Algorithm tuning iteration #1 has begun! \" + datetime.now().strftime('%a %B %d, %Y %I:%M:%S %p'))\n",
        "\n",
        "tune_model1 = XGBClassifier(random_state=RNG_SEED, n_jobs=N_JOBS, objective='binary:logistic', use_label_encoder=False, eval_metric='logloss', tree_method='gpu_hist')\n",
        "tune_model_names.append('XGB_1')\n",
        "paramGrid1 = dict(n_estimators=range(100, 501, 100),\n",
        "                  max_depth=np.array([3, 6, 9]),\n",
        "                  min_child_weight=np.array([1, 2, 3]))\n",
        "\n",
        "kfold = StratifiedKFold(n_splits=N_FOLDS, shuffle=True, random_state=RNG_SEED)\n",
        "grid1 = GridSearchCV(estimator=tune_model1, param_grid=paramGrid1, scoring=SCORING_METRIC, cv=kfold, n_jobs=N_JOBS, verbose=1)\n",
        "grid_result1 = grid1.fit(array_features_train, array_target_train)\n",
        "\n",
        "print(\"Best: %f using %s\" % (grid_result1.best_score_, grid_result1.best_params_))\n",
        "tune_results.append(grid_result1.cv_results_['mean_test_score'])\n",
        "means = grid_result1.cv_results_['mean_test_score']\n",
        "stds = grid_result1.cv_results_['std_test_score']\n",
        "params = grid_result1.cv_results_['params']\n",
        "for mean, stdev, param in zip(means, stds, params):\n",
        "    print(\"%f (%f) with: %r\" % (mean, stdev, param))\n",
        "print ('Model training time:', (datetime.now() - start_time_Module))\n",
        "if NOTIFY_STATUS: status_notify(\"Algorithm tuning iteration #1 completed! \" + datetime.now().strftime('%a %B %d, %Y %I:%M:%S %p'))"
      ]
    },
    {
      "cell_type": "code",
      "execution_count": 41,
      "metadata": {
        "id": "y2rMYQXKViZP",
        "colab": {
          "base_uri": "https://localhost:8080/"
        },
        "outputId": "a86958b3-b9c4-4ea2-9514-2efe8feec5f1"
      },
      "outputs": [
        {
          "output_type": "stream",
          "name": "stdout",
          "text": [
            "Best max_depth parameter: 3\n",
            "Best min_child_weight parameter: 3\n",
            "Best n_estimators parameter: 400\n"
          ]
        }
      ],
      "source": [
        "BEST_MAX_DEPTH = grid_result1.best_params_['max_depth']\n",
        "BEST_MIN_CHILD_WEIGHT = grid_result1.best_params_['min_child_weight']\n",
        "BEST_N_ESTIMATORS = grid_result1.best_params_['n_estimators']\n",
        "print('Best max_depth parameter:', BEST_MAX_DEPTH)\n",
        "print('Best min_child_weight parameter:', BEST_MIN_CHILD_WEIGHT)\n",
        "print('Best n_estimators parameter:', BEST_N_ESTIMATORS)"
      ]
    },
    {
      "cell_type": "code",
      "execution_count": 42,
      "metadata": {
        "id": "hu8_2JbWViZP",
        "colab": {
          "base_uri": "https://localhost:8080/"
        },
        "outputId": "3a1307d3-de55-4781-de0f-e29bd01aa351"
      },
      "outputs": [
        {
          "output_type": "stream",
          "name": "stdout",
          "text": [
            "Fitting 10 folds for each of 16 candidates, totalling 160 fits\n",
            "Best: 0.806967 using {'colsample_bytree': 1.0, 'subsample': 1.0}\n",
            "0.802021 (0.013879) with: {'colsample_bytree': 0.7, 'subsample': 0.7}\n",
            "0.802595 (0.014375) with: {'colsample_bytree': 0.7, 'subsample': 0.8}\n",
            "0.803055 (0.016088) with: {'colsample_bytree': 0.7, 'subsample': 0.9}\n",
            "0.802941 (0.015864) with: {'colsample_bytree': 0.7, 'subsample': 1.0}\n",
            "0.801675 (0.014304) with: {'colsample_bytree': 0.8, 'subsample': 0.7}\n",
            "0.802595 (0.014106) with: {'colsample_bytree': 0.8, 'subsample': 0.8}\n",
            "0.803746 (0.015313) with: {'colsample_bytree': 0.8, 'subsample': 0.9}\n",
            "0.806506 (0.014436) with: {'colsample_bytree': 0.8, 'subsample': 1.0}\n",
            "0.802020 (0.015205) with: {'colsample_bytree': 0.9, 'subsample': 0.7}\n",
            "0.802252 (0.015326) with: {'colsample_bytree': 0.9, 'subsample': 0.8}\n",
            "0.803516 (0.013690) with: {'colsample_bytree': 0.9, 'subsample': 0.9}\n",
            "0.805356 (0.013378) with: {'colsample_bytree': 0.9, 'subsample': 1.0}\n",
            "0.801216 (0.013470) with: {'colsample_bytree': 1.0, 'subsample': 0.7}\n",
            "0.802482 (0.013585) with: {'colsample_bytree': 1.0, 'subsample': 0.8}\n",
            "0.805816 (0.017278) with: {'colsample_bytree': 1.0, 'subsample': 0.9}\n",
            "0.806967 (0.015635) with: {'colsample_bytree': 1.0, 'subsample': 1.0}\n",
            "Model training time: 0:06:18.568181\n"
          ]
        }
      ],
      "source": [
        "# Tuning XGBoost subsample and colsample_bytree parameters\n",
        "start_time_Module = datetime.now()\n",
        "if NOTIFY_STATUS: status_notify(\"Algorithm tuning iteration #2 has begun! \" + datetime.now().strftime('%a %B %d, %Y %I:%M:%S %p'))\n",
        "\n",
        "tune_model2 = XGBClassifier(n_estimators=BEST_N_ESTIMATORS, max_depth=BEST_MAX_DEPTH, min_child_weight=BEST_MIN_CHILD_WEIGHT,\n",
        "                            random_state=RNG_SEED, n_jobs=N_JOBS, objective='binary:logistic', use_label_encoder=False, eval_metric='logloss', tree_method='gpu_hist')\n",
        "tune_model_names.append('XGB_2')\n",
        "paramGrid2 = dict(subsample=np.array([0.7, 0.8, 0.9, 1.0]),\n",
        "                  colsample_bytree=np.array([0.7, 0.8, 0.9, 1.0]))\n",
        "\n",
        "kfold = StratifiedKFold(n_splits=N_FOLDS, shuffle=True, random_state=RNG_SEED)\n",
        "grid2 = GridSearchCV(estimator=tune_model2, param_grid=paramGrid2, scoring=SCORING_METRIC, cv=kfold, n_jobs=N_JOBS, verbose=1)\n",
        "grid_result2 = grid2.fit(array_features_train, array_target_train)\n",
        "\n",
        "print(\"Best: %f using %s\" % (grid_result2.best_score_, grid_result2.best_params_))\n",
        "tune_results.append(grid_result2.cv_results_['mean_test_score'])\n",
        "means = grid_result2.cv_results_['mean_test_score']\n",
        "stds = grid_result2.cv_results_['std_test_score']\n",
        "params = grid_result2.cv_results_['params']\n",
        "for mean, stdev, param in zip(means, stds, params):\n",
        "    print(\"%f (%f) with: %r\" % (mean, stdev, param))\n",
        "print ('Model training time:',(datetime.now() - start_time_Module))\n",
        "if NOTIFY_STATUS: status_notify(\"Algorithm tuning iteration #2 completed! \" + datetime.now().strftime('%a %B %d, %Y %I:%M:%S %p'))"
      ]
    },
    {
      "cell_type": "code",
      "execution_count": 43,
      "metadata": {
        "id": "Q1R-8G3sViZP",
        "colab": {
          "base_uri": "https://localhost:8080/"
        },
        "outputId": "9652a513-44e4-49e6-b3e0-8e1578327eab"
      },
      "outputs": [
        {
          "output_type": "stream",
          "name": "stdout",
          "text": [
            "Best colsample_bytree parameter: 1.0\n",
            "Best subsample parameter: 1.0\n"
          ]
        }
      ],
      "source": [
        "BEST_COLSAMPLE_BYTREE = grid_result2.best_params_['colsample_bytree']\n",
        "BEST_SUBSAMPLE = grid_result2.best_params_['subsample']\n",
        "print('Best colsample_bytree parameter:', BEST_COLSAMPLE_BYTREE)\n",
        "print('Best subsample parameter:', BEST_SUBSAMPLE)"
      ]
    },
    {
      "cell_type": "markdown",
      "metadata": {
        "id": "4-goJ-ScViZP"
      },
      "source": [
        "### 4.c) Compare Algorithms After Tuning"
      ]
    },
    {
      "cell_type": "code",
      "execution_count": 44,
      "metadata": {
        "id": "_hDXaaZsViZP",
        "colab": {
          "base_uri": "https://localhost:8080/",
          "height": 843
        },
        "outputId": "20cfaba0-ce8d-4391-bead-57f6c9a8a07c"
      },
      "outputs": [
        {
          "output_type": "stream",
          "name": "stderr",
          "text": [
            "/usr/local/lib/python3.8/dist-packages/matplotlib/cbook/__init__.py:1376: VisibleDeprecationWarning: Creating an ndarray from ragged nested sequences (which is a list-or-tuple of lists-or-tuples-or ndarrays with different lengths or shapes) is deprecated. If you meant to do this, you must specify 'dtype=object' when creating the ndarray.\n",
            "  X = np.atleast_1d(X.T if isinstance(X, np.ndarray) else np.asarray(X))\n"
          ]
        },
        {
          "output_type": "display_data",
          "data": {
            "text/plain": [
              "<Figure size 1152x864 with 1 Axes>"
            ],
            "image/png": "[encoded data removed]"
          },
          "metadata": {
            "needs_background": "light"
          }
        }
      ],
      "source": [
        "fig = plt.figure(figsize=(16,12))\n",
        "fig.suptitle('Algorithm Comparison - Post Tuning')\n",
        "ax = fig.add_subplot(111)\n",
        "plt.boxplot(tune_results)\n",
        "ax.set_xticklabels(tune_model_names)\n",
        "plt.show()"
      ]
    },
    {
      "cell_type": "code",
      "execution_count": 45,
      "metadata": {
        "jupyter": {
          "outputs_hidden": false
        },
        "pycharm": {
          "name": "#%%\n"
        },
        "id": "amDXgg8-ViZP"
      },
      "outputs": [],
      "source": [
        "if NOTIFY_STATUS: status_notify(\"Task 4 - Train and Tune Models completed! \" + datetime.now().strftime('%a %B %d, %Y %I:%M:%S %p'))"
      ]
    },
    {
      "cell_type": "markdown",
      "metadata": {
        "id": "Lpcuc18gViZP"
      },
      "source": [
        "## Task 5 - Finalize Model and Make Predictions"
      ]
    },
    {
      "cell_type": "code",
      "execution_count": 46,
      "metadata": {
        "id": "NBbeOTskViZQ"
      },
      "outputs": [],
      "source": [
        "if NOTIFY_STATUS: status_notify(\"Task 5 - Finalize Model and Make Predictions has begun! \" + datetime.now().strftime('%a %B %d, %Y %I:%M:%S %p'))"
      ]
    },
    {
      "cell_type": "markdown",
      "source": [
        "### 5.a) Train the Final Model"
      ],
      "metadata": {
        "id": "AnvgPHmozXec"
      }
    },
    {
      "cell_type": "code",
      "execution_count": 47,
      "metadata": {
        "id": "TUc7fHQ9ViZQ",
        "colab": {
          "base_uri": "https://localhost:8080/"
        },
        "outputId": "8cf02440-f116-40ac-9028-c098805f5e0f"
      },
      "outputs": [
        {
          "output_type": "stream",
          "name": "stdout",
          "text": [
            "XGBClassifier(colsample_bytree=1.0, eval_metric='logloss', min_child_weight=3,\n",
            "              n_estimators=400, random_state=888, subsample=1.0,\n",
            "              tree_method='gpu_hist', use_label_encoder=False)\n"
          ]
        }
      ],
      "source": [
        "final_model = XGBClassifier(n_estimators=BEST_N_ESTIMATORS, max_depth=BEST_MAX_DEPTH, min_child_weight=BEST_MIN_CHILD_WEIGHT,\n",
        "                            colsample_bytree=BEST_COLSAMPLE_BYTREE, subsample=BEST_SUBSAMPLE, random_state=RNG_SEED,\n",
        "                            n_jobs=N_JOBS, objective='binary:logistic', use_label_encoder=False, eval_metric='logloss', tree_method='gpu_hist')\n",
        "final_model.fit(array_features_train, array_target_train)\n",
        "print(final_model)"
      ]
    },
    {
      "cell_type": "markdown",
      "source": [
        "### 5.b) Load Test Dataset and Make Predictions"
      ],
      "metadata": {
        "id": "lgEvffI2Mpnx"
      }
    },
    {
      "cell_type": "code",
      "source": [
        "df_features_test = pd.read_csv(TEST_DATASET)\n",
        "\n",
        "# Take a peek at the dataframe after import\n",
        "print(df_features_test.head())"
      ],
      "metadata": {
        "id": "h7WgCCfHMPub",
        "colab": {
          "base_uri": "https://localhost:8080/"
        },
        "outputId": "59c802fa-d664-494e-b25e-d2f4eed270f5"
      },
      "execution_count": 48,
      "outputs": [
        {
          "output_type": "stream",
          "name": "stdout",
          "text": [
            "  PassengerId HomePlanet CryoSleep  Cabin  Destination   Age    VIP  \\\n",
            "0     0013_01      Earth      True  G/3/S  TRAPPIST-1e  27.0  False   \n",
            "1     0018_01      Earth     False  F/4/S  TRAPPIST-1e  19.0  False   \n",
            "2     0019_01     Europa      True  C/0/S  55 Cancri e  31.0  False   \n",
            "3     0021_01     Europa     False  C/1/S  TRAPPIST-1e  38.0  False   \n",
            "4     0023_01      Earth     False  F/5/S  TRAPPIST-1e  20.0  False   \n",
            "\n",
            "   RoomService  FoodCourt  ShoppingMall     Spa  VRDeck              Name  \n",
            "0          0.0        0.0           0.0     0.0     0.0   Nelly Carsoning  \n",
            "1          0.0        9.0           0.0  2823.0     0.0    Lerome Peckers  \n",
            "2          0.0        0.0           0.0     0.0     0.0   Sabih Unhearfus  \n",
            "3          0.0     6652.0           0.0   181.0   585.0  Meratz Caltilter  \n",
            "4         10.0        0.0         635.0     0.0     0.0   Brence Harperez  \n"
          ]
        }
      ]
    },
    {
      "cell_type": "code",
      "source": [
        "id_column_name = df_features_test.columns[0]\n",
        "df_kaggle_submission = pd.DataFrame()\n",
        "df_kaggle_submission[id_column_name] = df_features_test[id_column_name]\n",
        "print(df_kaggle_submission.head())"
      ],
      "metadata": {
        "id": "UWJg6T5zMyxJ",
        "colab": {
          "base_uri": "https://localhost:8080/"
        },
        "outputId": "ae927bdc-0d3b-41fc-cd43-d188f429e7a6"
      },
      "execution_count": 49,
      "outputs": [
        {
          "output_type": "stream",
          "name": "stdout",
          "text": [
            "  PassengerId\n",
            "0     0013_01\n",
            "1     0018_01\n",
            "2     0019_01\n",
            "3     0021_01\n",
            "4     0023_01\n"
          ]
        }
      ]
    },
    {
      "cell_type": "code",
      "source": [
        "# Break up the PassengerId attribute to get the grouping indicator\n",
        "df_features_test['Group_Number'] = df_features_test['PassengerId'].apply(convert_group)\n",
        "df_features_test['Grouped'] = df_features_test['Group_Number'].apply(grouping_test)\n",
        "\n",
        "# Break up the Cabin attribute into three separate features\n",
        "df_features_test['Cabin'].fillna('X/0/X', inplace=True)\n",
        "df_features_test['Cabin'] = df_features_test['Cabin'].astype(str)\n",
        "df_features_test['Cabin_1'] = df_features_test['Cabin'].apply(convert_cabin1)\n",
        "df_features_test['Cabin_2'] = df_features_test['Cabin'].apply(convert_cabin2)\n",
        "df_features_test['Cabin_3'] = df_features_test['Cabin'].apply(convert_cabin3)\n",
        "\n",
        "# Fill in some missing fields with the most common values\n",
        "df_features_test['HomePlanet'].fillna('Earth', inplace=True)\n",
        "df_features_test['CryoSleep'].fillna('FALSE', inplace=True)\n",
        "df_features_test['CryoSleep'] = df_features_test['CryoSleep'].astype(str)\n",
        "df_features_test['Destination'].fillna('TRAPPIST-1e', inplace=True)\n",
        "\n",
        "df_features_test['Age'].fillna(value=df_features_test['Age'].median(), inplace=True)\n",
        "df_features_test['Age_Binned'] = est.transform(df_features_test['Age'].to_numpy().reshape(-1, 1))\n",
        "\n",
        "df_features_test['VIP'].fillna('FALSE', inplace=True)\n",
        "df_features_test['VIP'] = df_features_test['VIP'].astype(str)\n",
        "\n",
        "df_features_test['RoomService'].fillna(0, inplace=True)\n",
        "df_features_test['FoodCourt'].fillna(0, inplace=True)\n",
        "df_features_test['ShoppingMall'].fillna(0, inplace=True)\n",
        "df_features_test['Spa'].fillna(0, inplace=True)\n",
        "df_features_test['VRDeck'].fillna(0, inplace=True)\n",
        "df_features_test['Service_Billed'] = df_features_test['RoomService'] + \\\n",
        "                                     df_features_test['FoodCourt'] + \\\n",
        "                                     df_features_test['ShoppingMall'] + \\\n",
        "                                     df_features_test['Spa'] + \\\n",
        "                                     df_features_test['VRDeck']\n",
        "\n",
        "df_features_test.drop(columns=[id_column_name,'Name','Cabin','Age','Group_Number'], inplace=True)\n",
        "\n",
        "# Take a peek at the dataframe after cleaning\n",
        "print(df_features_test.head())"
      ],
      "metadata": {
        "id": "WnH5v-ejM8u_",
        "colab": {
          "base_uri": "https://localhost:8080/"
        },
        "outputId": "bcb8d31a-8f4f-40f9-99e1-52e62ba93b5c"
      },
      "execution_count": 50,
      "outputs": [
        {
          "output_type": "stream",
          "name": "stdout",
          "text": [
            "  HomePlanet CryoSleep  Destination    VIP  RoomService  FoodCourt  \\\n",
            "0      Earth      True  TRAPPIST-1e  False          0.0        0.0   \n",
            "1      Earth     False  TRAPPIST-1e  False          0.0        9.0   \n",
            "2     Europa      True  55 Cancri e  False          0.0        0.0   \n",
            "3     Europa     False  TRAPPIST-1e  False          0.0     6652.0   \n",
            "4      Earth     False  TRAPPIST-1e  False         10.0        0.0   \n",
            "\n",
            "   ShoppingMall     Spa  VRDeck Grouped Cabin_1 Cabin_2 Cabin_3  Age_Binned  \\\n",
            "0           0.0     0.0     0.0      No       G       3       S         2.0   \n",
            "1           0.0  2823.0     0.0      No       F       4       S         1.0   \n",
            "2           0.0     0.0     0.0      No       C       0       S         3.0   \n",
            "3           0.0   181.0   585.0      No       C       1       S         3.0   \n",
            "4         635.0     0.0     0.0      No       F       5       S         2.0   \n",
            "\n",
            "   Service_Billed  \n",
            "0             0.0  \n",
            "1          2832.0  \n",
            "2             0.0  \n",
            "3          7418.0  \n",
            "4           645.0  \n"
          ]
        }
      ]
    },
    {
      "cell_type": "code",
      "source": [
        "# Finalize the test dataset for the testing activities\n",
        "array_features_test = preprocessor.transform(df_features_test)\n",
        "print(\"Transformed features from df_features_test.shape: {} to array_features_test.shape: {}\".format(df_features_test.shape, array_features_test.shape))"
      ],
      "metadata": {
        "id": "8oW_srf7Nlli",
        "colab": {
          "base_uri": "https://localhost:8080/"
        },
        "outputId": "8a3a598a-b84d-47b6-b0a6-3e9dd10dc8ff"
      },
      "execution_count": 51,
      "outputs": [
        {
          "output_type": "stream",
          "name": "stdout",
          "text": [
            "Transformed features from df_features_test.shape: (4277, 15) to array_features_test.shape: (4277, 1848)\n"
          ]
        }
      ]
    },
    {
      "cell_type": "code",
      "source": [
        "# Make batched predictions\n",
        "test_predictions =  final_model.predict(array_features_test)\n",
        "print(test_predictions)"
      ],
      "metadata": {
        "id": "sbwMzaYzNpTj",
        "colab": {
          "base_uri": "https://localhost:8080/"
        },
        "outputId": "c98d115f-7ae1-49ad-82fe-b0c53e5eac09"
      },
      "execution_count": 52,
      "outputs": [
        {
          "output_type": "stream",
          "name": "stdout",
          "text": [
            "[1 0 1 ... 1 1 1]\n"
          ]
        }
      ]
    },
    {
      "cell_type": "code",
      "source": [
        "df_sample_submission = pd.read_csv(SUBMISSION_TEMPLATE)\n",
        "df_sample_submission.drop(columns=[id_column_name], inplace=True)\n",
        "submission_header = list(df_sample_submission.columns)[0]\n",
        "print(submission_header)"
      ],
      "metadata": {
        "id": "_bVUHUgjNvcM",
        "colab": {
          "base_uri": "https://localhost:8080/"
        },
        "outputId": "da9e268f-a995-4d07-967f-2ebe421bba54"
      },
      "execution_count": 53,
      "outputs": [
        {
          "output_type": "stream",
          "name": "stdout",
          "text": [
            "Transported\n"
          ]
        }
      ]
    },
    {
      "cell_type": "code",
      "source": [
        "df_kaggle_submission[submission_header] = test_predictions\n",
        "df_kaggle_submission[submission_header] = df_kaggle_submission[submission_header].astype(bool)\n",
        "print(df_kaggle_submission.head())"
      ],
      "metadata": {
        "id": "QTt5mFxpN0yQ",
        "colab": {
          "base_uri": "https://localhost:8080/"
        },
        "outputId": "8e361a68-82f6-4a62-9014-83b4ea6a8e3d"
      },
      "execution_count": 54,
      "outputs": [
        {
          "output_type": "stream",
          "name": "stdout",
          "text": [
            "  PassengerId  Transported\n",
            "0     0013_01         True\n",
            "1     0018_01        False\n",
            "2     0019_01         True\n",
            "3     0021_01         True\n",
            "4     0023_01         True\n"
          ]
        }
      ]
    },
    {
      "cell_type": "code",
      "source": [
        "submission_file = df_kaggle_submission.to_csv(header=True, index=False)\n",
        "filename = SUBMISSION_FILE + datetime.now().strftime('%Y%m%d-%H%M') + '.csv'\n",
        "with open(filename, 'w') as f:\n",
        "    f.write(submission_file)\n",
        "    print('Completed writing output file: ' + filename)"
      ],
      "metadata": {
        "id": "xEViFboLN42g",
        "colab": {
          "base_uri": "https://localhost:8080/"
        },
        "outputId": "26db0a51-0c78-43b5-86d8-3ca5ee0799e6"
      },
      "execution_count": 55,
      "outputs": [
        {
          "output_type": "stream",
          "name": "stdout",
          "text": [
            "Completed writing output file: submission_xgboost_20221219-1718.csv\n"
          ]
        }
      ]
    },
    {
      "cell_type": "code",
      "execution_count": 56,
      "metadata": {
        "id": "y4qPlI-ZViZR"
      },
      "outputs": [],
      "source": [
        "if NOTIFY_STATUS: status_notify(\"Task 5 - Finalize Model and Make Predictions completed! \" + datetime.now().strftime('%a %B %d, %Y %I:%M:%S %p'))"
      ]
    },
    {
      "cell_type": "code",
      "execution_count": 57,
      "metadata": {
        "id": "M5_FY-MaViZR",
        "colab": {
          "base_uri": "https://localhost:8080/"
        },
        "outputId": "4922025c-cc80-4bbe-8bdb-f524cd41f319"
      },
      "outputs": [
        {
          "output_type": "stream",
          "name": "stdout",
          "text": [
            "Total time for the script: 0:27:21.348091\n"
          ]
        }
      ],
      "source": [
        "print ('Total time for the script:',(datetime.now() - START_TIME_SCRIPT))"
      ]
    }
  ],
  "metadata": {
    "kernelspec": {
      "display_name": "Python 3 (ipykernel)",
      "language": "python",
      "name": "python3"
    },
    "language_info": {
      "codemirror_mode": {
        "name": "ipython",
        "version": 3
      },
      "file_extension": ".py",
      "mimetype": "text/x-python",
      "name": "python",
      "nbconvert_exporter": "python",
      "pygments_lexer": "ipython3",
      "version": "3.8.10"
    },
    "colab": {
      "provenance": [],
      "collapsed_sections": [
        "i99VwZJrViZM"
      ]
    },
    "accelerator": "GPU",
    "gpuClass": "premium"
  },
  "nbformat": 4,
  "nbformat_minor": 0
}
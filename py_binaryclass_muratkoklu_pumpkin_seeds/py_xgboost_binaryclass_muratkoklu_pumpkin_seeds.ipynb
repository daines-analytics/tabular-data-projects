{
  "cells": [
    {
      "cell_type": "markdown",
      "metadata": {
        "id": "uTujCqduViZB"
      },
      "source": [
        "# Binary-Class Tabular Model for Pumpkin Seeds Identification Using Python and XGBoost\n",
        "### David Lowe\n",
        "### September 19, 2022\n",
        "\n",
        "SUMMARY: The project aims to construct a predictive model using various machine learning algorithms and document the end-to-end steps using a template. The Pumpkin Seeds Identification dataset is a binary-class modeling situation where we attempt to predict one of two possible outcomes.\n",
        "\n",
        "INTRODUCTION: Pumpkin seeds are frequently consumed as confection worldwide because of their adequate amount of protein, fat, carbohydrate, and mineral contents. The research team carried out a study on the two most important types of pumpkin seed, “Ürgüp Sivrisi” and “Çerçevelik,” generally grown in Ürgüp and Karacaören regions in Turkey. Furthermore, the morphological measurements of 2500 pumpkin seeds of both varieties were captured using the gray and binary forms of threshold techniques.\n",
        "\n",
        "ANALYSIS: The performance of the preliminary XGBoost model achieved an accuracy benchmark of 88.40%. After a series of tuning trials, the final model processed the training dataset with an accuracy score of 88.68%.\n",
        "\n",
        "CONCLUSION: In this iteration, the XGBoost model appeared to be a suitable algorithm for modeling this dataset.\n",
        "\n",
        "Dataset Used: Pumpkin Seeds Dataset\n",
        "\n",
        "Dataset ML Model: Binary classification with numerical features\n",
        "\n",
        "Dataset Reference: https://www.muratkoklu.com/datasets/\n",
        "\n",
        "One source of potential performance benchmarks: https://doi.org/10.1007/s10722-021-01226-0"
      ]
    },
    {
      "cell_type": "markdown",
      "metadata": {
        "id": "CpOJ4D0sViZE"
      },
      "source": [
        "## Task 1 - Prepare Environment"
      ]
    },
    {
      "cell_type": "code",
      "execution_count": 1,
      "metadata": {
        "id": "lacFSiqQViZE",
        "outputId": "cb6ad2e5-7221-4604-82f3-3d05bea344a3",
        "colab": {
          "base_uri": "https://localhost:8080/"
        }
      },
      "outputs": [
        {
          "output_type": "stream",
          "name": "stdout",
          "text": [
            "Thu Sep 15 13:04:31 2022       \n",
            "+-----------------------------------------------------------------------------+\n",
            "| NVIDIA-SMI 460.32.03    Driver Version: 460.32.03    CUDA Version: 11.2     |\n",
            "|-------------------------------+----------------------+----------------------+\n",
            "| GPU  Name        Persistence-M| Bus-Id        Disp.A | Volatile Uncorr. ECC |\n",
            "| Fan  Temp  Perf  Pwr:Usage/Cap|         Memory-Usage | GPU-Util  Compute M. |\n",
            "|                               |                      |               MIG M. |\n",
            "|===============================+======================+======================|\n",
            "|   0  Tesla V100-SXM2...  Off  | 00000000:00:04.0 Off |                    0 |\n",
            "| N/A   44C    P0    25W / 300W |      0MiB / 16160MiB |      0%      Default |\n",
            "|                               |                      |                  N/A |\n",
            "+-------------------------------+----------------------+----------------------+\n",
            "                                                                               \n",
            "+-----------------------------------------------------------------------------+\n",
            "| Processes:                                                                  |\n",
            "|  GPU   GI   CI        PID   Type   Process name                  GPU Memory |\n",
            "|        ID   ID                                                   Usage      |\n",
            "|=============================================================================|\n",
            "|  No running processes found                                                 |\n",
            "+-----------------------------------------------------------------------------+\n"
          ]
        }
      ],
      "source": [
        "# Retrieve the GPU information\n",
        "gpu_info = !nvidia-smi\n",
        "gpu_info = '\\n'.join(gpu_info)\n",
        "print(gpu_info)"
      ]
    },
    {
      "cell_type": "code",
      "execution_count": 2,
      "metadata": {
        "id": "DxtB-TajViZF",
        "outputId": "366c8189-73e7-48be-8444-742076ac2c07",
        "colab": {
          "base_uri": "https://localhost:8080/"
        }
      },
      "outputs": [
        {
          "output_type": "stream",
          "name": "stdout",
          "text": [
            "Your runtime has 13.6 gigabytes of available RAM\n",
            "\n"
          ]
        }
      ],
      "source": [
        "# Retrieve the memory configuration\n",
        "from psutil import virtual_memory\n",
        "ram_gb = virtual_memory().total / 1e9\n",
        "print('Your runtime has {:.1f} gigabytes of available RAM\\n'.format(ram_gb))"
      ]
    },
    {
      "cell_type": "code",
      "execution_count": 3,
      "metadata": {
        "id": "M5P-B3EHViZG",
        "outputId": "0df9994b-b542-4053-d69b-8697f8dabdde",
        "colab": {
          "base_uri": "https://localhost:8080/"
        }
      },
      "outputs": [
        {
          "output_type": "stream",
          "name": "stdout",
          "text": [
            "The number of available CPUs is: 2\n"
          ]
        }
      ],
      "source": [
        "# Retrieve the CPU information\n",
        "ncpu = !nproc\n",
        "print(\"The number of available CPUs is:\", ncpu[0])"
      ]
    },
    {
      "cell_type": "markdown",
      "metadata": {
        "id": "PO6xpyHQViZG"
      },
      "source": [
        "### 1.a) Load libraries and modules"
      ]
    },
    {
      "cell_type": "code",
      "execution_count": 4,
      "metadata": {
        "id": "8wN4G-ONViZG"
      },
      "outputs": [],
      "source": [
        "# Set the random seed number for reproducible results\n",
        "RNG_SEED = 888"
      ]
    },
    {
      "cell_type": "code",
      "execution_count": 5,
      "metadata": {
        "id": "c_m1fMFIViZH"
      },
      "outputs": [],
      "source": [
        "import numpy as np\n",
        "import pandas as pd\n",
        "import seaborn as sns\n",
        "import matplotlib.pyplot as plt\n",
        "import os\n",
        "import sys\n",
        "import math\n",
        "# import boto3\n",
        "import zipfile\n",
        "from datetime import datetime\n",
        "from sklearn import preprocessing\n",
        "from sklearn.model_selection import train_test_split\n",
        "from sklearn.model_selection import StratifiedKFold\n",
        "from sklearn.model_selection import cross_val_score\n",
        "from sklearn.model_selection import GridSearchCV\n",
        "from sklearn.metrics import classification_report\n",
        "from sklearn.metrics import confusion_matrix\n",
        "from sklearn.metrics import accuracy_score\n",
        "from sklearn.pipeline import Pipeline\n",
        "from sklearn import compose\n",
        "from sklearn import impute\n",
        "\n",
        "# from sklearn.feature_selection import RFE\n",
        "# from imblearn.pipeline import Pipeline\n",
        "# from imblearn.over_sampling import SMOTE\n",
        "# from imblearn.under_sampling import RandomUnderSampler\n",
        "\n",
        "from xgboost import XGBClassifier"
      ]
    },
    {
      "cell_type": "markdown",
      "metadata": {
        "id": "R9eAm3poViZH"
      },
      "source": [
        "### 1.b) Set up the controlling parameters and functions"
      ]
    },
    {
      "cell_type": "code",
      "execution_count": 6,
      "metadata": {
        "id": "IdkikF4vViZI"
      },
      "outputs": [],
      "source": [
        "# Begin the timer for the script processing\n",
        "START_TIME_SCRIPT = datetime.now()\n",
        "\n",
        "# Set up the number of CPU cores available for multi-thread processing\n",
        "N_JOBS = 1\n",
        "\n",
        "# Set up the flag to stop sending progress emails (setting to True will send status emails!)\n",
        "NOTIFY_STATUS = False\n",
        "\n",
        "# Set the percentage sizes for splitting the dataset\n",
        "TEST_SET_RATIO = 0.2\n",
        "VAL_SET_RATIO = 0.2\n",
        "\n",
        "# Set the name for the class/label column\n",
        "ORIGINAL_LABEL = 'Class'\n",
        "CLASS_COLUMN = 'target'\n",
        "\n",
        "# Set the number of folds for cross validation\n",
        "N_FOLDS = 10\n",
        "\n",
        "# Set default modeling scoring metric\n",
        "SCORING_METRIC = 'accuracy'\n",
        "\n",
        "# Define the directory locations and file names\n",
        "TRAIN_DATASET = 'Pumpkin_Seeds_Dataset.arff'"
      ]
    },
    {
      "cell_type": "code",
      "execution_count": 7,
      "metadata": {
        "id": "yd6Q3v1IViZI"
      },
      "outputs": [],
      "source": [
        "# Set up the email notification function\n",
        "def status_notify(msg_text):\n",
        "    access_key = os.environ.get('SNS_ACCESS_KEY')\n",
        "    secret_key = os.environ.get('SNS_SECRET_KEY')\n",
        "    aws_region = os.environ.get('SNS_AWS_REGION')\n",
        "    topic_arn = os.environ.get('SNS_TOPIC_ARN')\n",
        "    if (access_key is None) or (secret_key is None) or (aws_region is None):\n",
        "        sys.exit(\"Incomplete notification setup info. Script Processing Aborted!!!\")\n",
        "    sns = boto3.client('sns', aws_access_key_id=access_key, aws_secret_access_key=secret_key, region_name=aws_region)\n",
        "    response = sns.publish(TopicArn=topic_arn, Message=msg_text)\n",
        "    if response['ResponseMetadata']['HTTPStatusCode'] != 200 :\n",
        "        print('Status notification not OK with HTTP status code:', response['ResponseMetadata']['HTTPStatusCode'])"
      ]
    },
    {
      "cell_type": "code",
      "execution_count": 8,
      "metadata": {
        "id": "vUXsPt2cViZJ"
      },
      "outputs": [],
      "source": [
        "if NOTIFY_STATUS: status_notify(\"Task 1 - Prepare Environment has begun! \" + datetime.now().strftime('%a %B %d, %Y %I:%M:%S %p'))"
      ]
    },
    {
      "cell_type": "markdown",
      "metadata": {
        "id": "q_Bvl4siViZJ"
      },
      "source": [
        "### 1.c) Load dataset"
      ]
    },
    {
      "cell_type": "code",
      "execution_count": 9,
      "metadata": {
        "id": "xLOu39vyViZK",
        "outputId": "5b8bb20d-ab24-4343-b46d-51b8279fe7f4",
        "colab": {
          "base_uri": "https://localhost:8080/"
        }
      },
      "outputs": [
        {
          "output_type": "stream",
          "name": "stdout",
          "text": [
            "    Area  Perimeter  Major_Axis_Length  Minor_Axis_Length  Convex_Area  \\\n",
            "0  56276    888.242           326.1485           220.2388        56831   \n",
            "1  76631   1068.146           417.1932           234.2289        77280   \n",
            "2  71623   1082.987           435.8328           211.0457        72663   \n",
            "3  66458    992.051           381.5638           222.5322        67118   \n",
            "4  66107    998.146           383.8883           220.4545        67117   \n",
            "\n",
            "   Equiv_Diameter  Eccentricity  Solidity  Extent  Roundness  Aspect_Ratio  \\\n",
            "0        267.6805        0.7376    0.9902  0.7453     0.8963        1.4809   \n",
            "1        312.3614        0.8275    0.9916  0.7151     0.8440        1.7811   \n",
            "2        301.9822        0.8749    0.9857  0.7400     0.7674        2.0651   \n",
            "3        290.8899        0.8123    0.9902  0.7396     0.8486        1.7146   \n",
            "4        290.1207        0.8187    0.9850  0.6752     0.8338        1.7413   \n",
            "\n",
            "   Compactness       Class  \n",
            "0       0.8207  CERCEVELIK  \n",
            "1       0.7487  CERCEVELIK  \n",
            "2       0.6929  CERCEVELIK  \n",
            "3       0.7624  CERCEVELIK  \n",
            "4       0.7557  CERCEVELIK  \n"
          ]
        }
      ],
      "source": [
        "dataset_path = 'https://dainesanalytics.com/datasets/muratkoklu-pumpkin-seeds-dataset/Pumpkin_Seeds_Dataset.arff'\n",
        "colNames = ['Area','Perimeter','Major_Axis_Length','Minor_Axis_Length','Convex_Area',\n",
        "            'Equiv_Diameter','Eccentricity','Solidity','Extent','Roundness',\n",
        "            'Aspect_Ratio','Compactness','Class']\n",
        "df_dataset_import = pd.read_csv(dataset_path, names=colNames, sep=',', header=None, index_col=False, skiprows=24)\n",
        "\n",
        "# Take a peek at the dataframe after import\n",
        "print(df_dataset_import.head())"
      ]
    },
    {
      "cell_type": "code",
      "execution_count": 10,
      "metadata": {
        "id": "hh61JaxGViZK",
        "outputId": "545558f7-beec-40af-c96e-b4bed7c39293",
        "colab": {
          "base_uri": "https://localhost:8080/"
        }
      },
      "outputs": [
        {
          "output_type": "stream",
          "name": "stdout",
          "text": [
            "<class 'pandas.core.frame.DataFrame'>\n",
            "RangeIndex: 2500 entries, 0 to 2499\n",
            "Data columns (total 13 columns):\n",
            " #   Column             Non-Null Count  Dtype  \n",
            "---  ------             --------------  -----  \n",
            " 0   Area               2500 non-null   int64  \n",
            " 1   Perimeter          2500 non-null   float64\n",
            " 2   Major_Axis_Length  2500 non-null   float64\n",
            " 3   Minor_Axis_Length  2500 non-null   float64\n",
            " 4   Convex_Area        2500 non-null   int64  \n",
            " 5   Equiv_Diameter     2500 non-null   float64\n",
            " 6   Eccentricity       2500 non-null   float64\n",
            " 7   Solidity           2500 non-null   float64\n",
            " 8   Extent             2500 non-null   float64\n",
            " 9   Roundness          2500 non-null   float64\n",
            " 10  Aspect_Ratio       2500 non-null   float64\n",
            " 11  Compactness        2500 non-null   float64\n",
            " 12  Class              2500 non-null   object \n",
            "dtypes: float64(10), int64(2), object(1)\n",
            "memory usage: 254.0+ KB\n"
          ]
        }
      ],
      "source": [
        "df_dataset_import.info(verbose=True)"
      ]
    },
    {
      "cell_type": "code",
      "execution_count": 11,
      "metadata": {
        "id": "H4E9OUytViZK",
        "outputId": "5dabcd19-0a99-4b15-9fc7-2202034b9208",
        "colab": {
          "base_uri": "https://localhost:8080/"
        }
      },
      "outputs": [
        {
          "output_type": "stream",
          "name": "stdout",
          "text": [
            "                Area    Perimeter  Major_Axis_Length  Minor_Axis_Length  \\\n",
            "count    2500.000000  2500.000000        2500.000000        2500.000000   \n",
            "mean    80658.220800  1130.279015         456.601840         225.794921   \n",
            "std     13664.510228   109.256418          56.235704          23.297245   \n",
            "min     47939.000000   868.485000         320.844600         152.171800   \n",
            "25%     70765.000000  1048.829750         414.957850         211.245925   \n",
            "50%     79076.000000  1123.672000         449.496600         224.703100   \n",
            "75%     89757.500000  1203.340500         492.737650         240.672875   \n",
            "max    136574.000000  1559.450000         661.911300         305.818000   \n",
            "\n",
            "         Convex_Area  Equiv_Diameter  Eccentricity     Solidity       Extent  \\\n",
            "count    2500.000000     2500.000000   2500.000000  2500.000000  2500.000000   \n",
            "mean    81508.084400      319.334230      0.860879     0.989492     0.693205   \n",
            "std     13764.092788       26.891920      0.045167     0.003494     0.060914   \n",
            "min     48366.000000      247.058400      0.492100     0.918600     0.468000   \n",
            "25%     71512.000000      300.167975      0.831700     0.988300     0.658900   \n",
            "50%     79872.000000      317.305350      0.863700     0.990300     0.713050   \n",
            "75%     90797.750000      338.057375      0.897025     0.991500     0.740225   \n",
            "max    138384.000000      417.002900      0.948100     0.994400     0.829600   \n",
            "\n",
            "         Roundness  Aspect_Ratio  Compactness  \n",
            "count  2500.000000   2500.000000  2500.000000  \n",
            "mean      0.791533      2.041702     0.704121  \n",
            "std       0.055924      0.315997     0.053067  \n",
            "min       0.554600      1.148700     0.560800  \n",
            "25%       0.751900      1.801050     0.663475  \n",
            "50%       0.797750      1.984200     0.707700  \n",
            "75%       0.834325      2.262075     0.743500  \n",
            "max       0.939600      3.144400     0.904900  \n"
          ]
        }
      ],
      "source": [
        "print(df_dataset_import.describe())"
      ]
    },
    {
      "cell_type": "code",
      "execution_count": 12,
      "metadata": {
        "id": "hLrJ1Su4ViZK",
        "outputId": "df6503a2-de45-4fd0-f63f-45506c1c36fe",
        "colab": {
          "base_uri": "https://localhost:8080/"
        }
      },
      "outputs": [
        {
          "output_type": "stream",
          "name": "stdout",
          "text": [
            "Area                 0\n",
            "Perimeter            0\n",
            "Major_Axis_Length    0\n",
            "Minor_Axis_Length    0\n",
            "Convex_Area          0\n",
            "Equiv_Diameter       0\n",
            "Eccentricity         0\n",
            "Solidity             0\n",
            "Extent               0\n",
            "Roundness            0\n",
            "Aspect_Ratio         0\n",
            "Compactness          0\n",
            "Class                0\n",
            "dtype: int64\n",
            "Total number of NaN in the dataframe:  0\n"
          ]
        }
      ],
      "source": [
        "print(df_dataset_import.isnull().sum())\n",
        "print('Total number of NaN in the dataframe: ', df_dataset_import.isnull().sum().sum())"
      ]
    },
    {
      "cell_type": "code",
      "execution_count": 13,
      "metadata": {
        "id": "07ghAOPqViZK",
        "outputId": "eb9c248a-c5b4-48cb-deff-07c31771fbf1",
        "colab": {
          "base_uri": "https://localhost:8080/"
        }
      },
      "outputs": [
        {
          "output_type": "stream",
          "name": "stdout",
          "text": [
            "Class\n",
            "CERCEVELIK       1300\n",
            "URGUP_SIVRISI    1200\n",
            "dtype: int64\n"
          ]
        }
      ],
      "source": [
        "# Get grouping size for the target variable\n",
        "print(df_dataset_import.groupby(ORIGINAL_LABEL).size())"
      ]
    },
    {
      "cell_type": "markdown",
      "metadata": {
        "id": "k79hRaYnViZK"
      },
      "source": [
        "### 1.d) Data Cleaning"
      ]
    },
    {
      "cell_type": "code",
      "execution_count": 14,
      "metadata": {
        "id": "7HBPom3PViZK",
        "outputId": "fc5316d2-60d1-43d0-a347-4bd14a6be60f",
        "colab": {
          "base_uri": "https://localhost:8080/"
        }
      },
      "outputs": [
        {
          "output_type": "stream",
          "name": "stdout",
          "text": [
            "    Area  Perimeter  Major_Axis_Length  Minor_Axis_Length  Convex_Area  \\\n",
            "0  56276    888.242           326.1485           220.2388        56831   \n",
            "1  76631   1068.146           417.1932           234.2289        77280   \n",
            "2  71623   1082.987           435.8328           211.0457        72663   \n",
            "3  66458    992.051           381.5638           222.5322        67118   \n",
            "4  66107    998.146           383.8883           220.4545        67117   \n",
            "\n",
            "   Equiv_Diameter  Eccentricity  Solidity  Extent  Roundness  Aspect_Ratio  \\\n",
            "0        267.6805        0.7376    0.9902  0.7453     0.8963        1.4809   \n",
            "1        312.3614        0.8275    0.9916  0.7151     0.8440        1.7811   \n",
            "2        301.9822        0.8749    0.9857  0.7400     0.7674        2.0651   \n",
            "3        290.8899        0.8123    0.9902  0.7396     0.8486        1.7146   \n",
            "4        290.1207        0.8187    0.9850  0.6752     0.8338        1.7413   \n",
            "\n",
            "   Compactness      target  \n",
            "0       0.8207  CERCEVELIK  \n",
            "1       0.7487  CERCEVELIK  \n",
            "2       0.6929  CERCEVELIK  \n",
            "3       0.7624  CERCEVELIK  \n",
            "4       0.7557  CERCEVELIK  \n"
          ]
        }
      ],
      "source": [
        "# Standardize the class column to the name of targetVar if required\n",
        "df_dataset_import = df_dataset_import.rename(columns={ORIGINAL_LABEL: CLASS_COLUMN})\n",
        "\n",
        "# Take a peek at the dataframe after cleaning\n",
        "print(df_dataset_import.head())"
      ]
    },
    {
      "cell_type": "code",
      "execution_count": 15,
      "metadata": {
        "id": "wbCDZq1iViZL",
        "outputId": "b52a085b-c5f1-4098-c16b-5d3128fc409c",
        "colab": {
          "base_uri": "https://localhost:8080/"
        }
      },
      "outputs": [
        {
          "output_type": "stream",
          "name": "stdout",
          "text": [
            "<class 'pandas.core.frame.DataFrame'>\n",
            "RangeIndex: 2500 entries, 0 to 2499\n",
            "Data columns (total 13 columns):\n",
            " #   Column             Non-Null Count  Dtype  \n",
            "---  ------             --------------  -----  \n",
            " 0   Area               2500 non-null   int64  \n",
            " 1   Perimeter          2500 non-null   float64\n",
            " 2   Major_Axis_Length  2500 non-null   float64\n",
            " 3   Minor_Axis_Length  2500 non-null   float64\n",
            " 4   Convex_Area        2500 non-null   int64  \n",
            " 5   Equiv_Diameter     2500 non-null   float64\n",
            " 6   Eccentricity       2500 non-null   float64\n",
            " 7   Solidity           2500 non-null   float64\n",
            " 8   Extent             2500 non-null   float64\n",
            " 9   Roundness          2500 non-null   float64\n",
            " 10  Aspect_Ratio       2500 non-null   float64\n",
            " 11  Compactness        2500 non-null   float64\n",
            " 12  target             2500 non-null   object \n",
            "dtypes: float64(10), int64(2), object(1)\n",
            "memory usage: 254.0+ KB\n"
          ]
        }
      ],
      "source": [
        "df_dataset_import.info(verbose=True)"
      ]
    },
    {
      "cell_type": "code",
      "execution_count": 16,
      "metadata": {
        "id": "Ww92c4w7ViZL",
        "outputId": "23567659-92c7-4895-f542-a4d2e16f3895",
        "colab": {
          "base_uri": "https://localhost:8080/"
        }
      },
      "outputs": [
        {
          "output_type": "stream",
          "name": "stdout",
          "text": [
            "                Area    Perimeter  Major_Axis_Length  Minor_Axis_Length  \\\n",
            "count    2500.000000  2500.000000        2500.000000        2500.000000   \n",
            "mean    80658.220800  1130.279015         456.601840         225.794921   \n",
            "std     13664.510228   109.256418          56.235704          23.297245   \n",
            "min     47939.000000   868.485000         320.844600         152.171800   \n",
            "25%     70765.000000  1048.829750         414.957850         211.245925   \n",
            "50%     79076.000000  1123.672000         449.496600         224.703100   \n",
            "75%     89757.500000  1203.340500         492.737650         240.672875   \n",
            "max    136574.000000  1559.450000         661.911300         305.818000   \n",
            "\n",
            "         Convex_Area  Equiv_Diameter  Eccentricity     Solidity       Extent  \\\n",
            "count    2500.000000     2500.000000   2500.000000  2500.000000  2500.000000   \n",
            "mean    81508.084400      319.334230      0.860879     0.989492     0.693205   \n",
            "std     13764.092788       26.891920      0.045167     0.003494     0.060914   \n",
            "min     48366.000000      247.058400      0.492100     0.918600     0.468000   \n",
            "25%     71512.000000      300.167975      0.831700     0.988300     0.658900   \n",
            "50%     79872.000000      317.305350      0.863700     0.990300     0.713050   \n",
            "75%     90797.750000      338.057375      0.897025     0.991500     0.740225   \n",
            "max    138384.000000      417.002900      0.948100     0.994400     0.829600   \n",
            "\n",
            "         Roundness  Aspect_Ratio  Compactness  \n",
            "count  2500.000000   2500.000000  2500.000000  \n",
            "mean      0.791533      2.041702     0.704121  \n",
            "std       0.055924      0.315997     0.053067  \n",
            "min       0.554600      1.148700     0.560800  \n",
            "25%       0.751900      1.801050     0.663475  \n",
            "50%       0.797750      1.984200     0.707700  \n",
            "75%       0.834325      2.262075     0.743500  \n",
            "max       0.939600      3.144400     0.904900  \n"
          ]
        }
      ],
      "source": [
        "print(df_dataset_import.describe())"
      ]
    },
    {
      "cell_type": "code",
      "execution_count": 17,
      "metadata": {
        "id": "89hWrwe6ViZL",
        "outputId": "d2352e3d-0942-4f1e-9a31-1f8f2247aa85",
        "colab": {
          "base_uri": "https://localhost:8080/"
        }
      },
      "outputs": [
        {
          "output_type": "stream",
          "name": "stdout",
          "text": [
            "Area                 0\n",
            "Perimeter            0\n",
            "Major_Axis_Length    0\n",
            "Minor_Axis_Length    0\n",
            "Convex_Area          0\n",
            "Equiv_Diameter       0\n",
            "Eccentricity         0\n",
            "Solidity             0\n",
            "Extent               0\n",
            "Roundness            0\n",
            "Aspect_Ratio         0\n",
            "Compactness          0\n",
            "target               0\n",
            "dtype: int64\n",
            "Total number of NaN in the dataframe:  0\n"
          ]
        }
      ],
      "source": [
        "print(df_dataset_import.isnull().sum())\n",
        "print('Total number of NaN in the dataframe: ', df_dataset_import.isnull().sum().sum())"
      ]
    },
    {
      "cell_type": "code",
      "execution_count": 18,
      "metadata": {
        "id": "KGs4GZ6-ViZL",
        "outputId": "1c123b3e-49ed-4563-bb27-91cb480c8ea6",
        "colab": {
          "base_uri": "https://localhost:8080/"
        }
      },
      "outputs": [
        {
          "output_type": "stream",
          "name": "stdout",
          "text": [
            "target\n",
            "CERCEVELIK       1300\n",
            "URGUP_SIVRISI    1200\n",
            "dtype: int64\n"
          ]
        }
      ],
      "source": [
        "# Get grouping size for the target variable\n",
        "print(df_dataset_import.groupby(CLASS_COLUMN).size())"
      ]
    },
    {
      "cell_type": "markdown",
      "metadata": {
        "id": "kh4pXl29ViZL"
      },
      "source": [
        "### 1.e) Splitting Data into Sets"
      ]
    },
    {
      "cell_type": "code",
      "execution_count": 20,
      "metadata": {
        "id": "Ex6RhBcCViZL",
        "outputId": "628dc5fe-88b3-4cd7-f202-110c2d5bc919",
        "colab": {
          "base_uri": "https://localhost:8080/"
        }
      },
      "outputs": [
        {
          "output_type": "stream",
          "name": "stdout",
          "text": [
            "df_dataset_import.shape: (2500, 13) df_features_train.shape: (2500, 12) df_target_train.shape: (2500,)\n"
          ]
        }
      ],
      "source": [
        "# Use variable total_column_count to hold the number of columns in the dataframe\n",
        "total_column_count = len(df_dataset_import.columns)\n",
        "\n",
        "# Set up variable total_feature_count for the total number of attribute columns\n",
        "total_feature_count = total_column_count-1\n",
        "\n",
        "# We create attribute-only and target-only datasets (df_features_train and df_target_train)\n",
        "df_target_train = df_dataset_import['target']\n",
        "df_features_train = df_dataset_import.drop(['target'], axis=1)\n",
        "\n",
        "print(\"df_dataset_import.shape: {} df_features_train.shape: {} df_target_train.shape: {}\".format(df_dataset_import.shape, df_features_train.shape, df_target_train.shape))"
      ]
    },
    {
      "cell_type": "markdown",
      "metadata": {
        "id": "i99VwZJrViZM"
      },
      "source": [
        "### 1.f) Set up the parameters for data visualization"
      ]
    },
    {
      "cell_type": "code",
      "execution_count": 21,
      "metadata": {
        "id": "CywZOJhDViZM"
      },
      "outputs": [],
      "source": [
        "# Set up the number of row and columns for visualization display. display_rows * display_columns should be >= total_feature_count\n",
        "display_columns = 4\n",
        "if total_feature_count % display_columns == 0 :\n",
        "    display_rows = total_feature_count // display_columns\n",
        "else :\n",
        "    display_rows = (total_feature_count // display_columns) + 1\n",
        "\n",
        "# Set figure width to display the data visualization plots\n",
        "fig_size = plt.rcParams[\"figure.figsize\"]\n",
        "fig_size[0] = display_columns * 4\n",
        "fig_size[1] = display_rows * 4\n",
        "plt.rcParams[\"figure.figsize\"] = fig_size"
      ]
    },
    {
      "cell_type": "code",
      "execution_count": 22,
      "metadata": {
        "id": "SWFPW_x4ViZM"
      },
      "outputs": [],
      "source": [
        "if NOTIFY_STATUS: status_notify(\"Task 1 - Prepare Environment completed! \" + datetime.now().strftime('%a %B %d, %Y %I:%M:%S %p'))"
      ]
    },
    {
      "cell_type": "markdown",
      "metadata": {
        "id": "TV1LLl0TViZM"
      },
      "source": [
        "## Task 2 - Summarize and Visualize Data"
      ]
    },
    {
      "cell_type": "code",
      "execution_count": 23,
      "metadata": {
        "id": "y0Fd1Sw1ViZM"
      },
      "outputs": [],
      "source": [
        "if NOTIFY_STATUS: status_notify(\"Task 2 - Summarize and Visualize Data has begun! \" + datetime.now().strftime('%a %B %d, %Y %I:%M:%S %p'))"
      ]
    },
    {
      "cell_type": "code",
      "execution_count": 24,
      "metadata": {
        "id": "LjmegM0_ViZM",
        "outputId": "f5994c1c-f317-48d1-f0a1-c326e37ae2b2",
        "colab": {
          "base_uri": "https://localhost:8080/",
          "height": 700
        }
      },
      "outputs": [
        {
          "output_type": "display_data",
          "data": {
            "text/plain": [
              "<Figure size 1152x864 with 12 Axes>"
            ],
            "image/png": "[encoded data removed]"
          },
          "metadata": {
            "needs_background": "light"
          }
        }
      ],
      "source": [
        "# Histograms for each attribute\n",
        "df_features_train.plot(kind='hist', subplots=True, layout=(display_rows, display_columns))\n",
        "plt.show()"
      ]
    },
    {
      "cell_type": "code",
      "execution_count": 25,
      "metadata": {
        "id": "MhLRoBwoViZM",
        "outputId": "c02ff17e-2ca0-45c6-c5bb-31e59c9d0d38",
        "colab": {
          "base_uri": "https://localhost:8080/",
          "height": 703
        }
      },
      "outputs": [
        {
          "output_type": "display_data",
          "data": {
            "text/plain": [
              "<Figure size 1152x864 with 12 Axes>"
            ],
            "image/png": "[encoded data removed]"
          },
          "metadata": {
            "needs_background": "light"
          }
        }
      ],
      "source": [
        "# Box and Whisker plot for each attribute\n",
        "df_features_train.plot(kind='box', subplots=True, layout=(display_rows, display_columns))\n",
        "plt.show()"
      ]
    },
    {
      "cell_type": "code",
      "execution_count": 26,
      "metadata": {
        "id": "wVZXCA2-ViZM",
        "colab": {
          "base_uri": "https://localhost:8080/",
          "height": 1000
        },
        "outputId": "d4f76b43-2ca7-40cd-b4aa-d87aa78e05a6"
      },
      "outputs": [
        {
          "output_type": "display_data",
          "data": {
            "text/plain": [
              "<Figure size 1440x1440 with 2 Axes>"
            ],
            "image/png": "[encoded data removed]"
          },
          "metadata": {
            "needs_background": "light"
          }
        }
      ],
      "source": [
        "# Correlation matrix\n",
        "fig = plt.figure(figsize=(20, 20))\n",
        "correlations = df_features_train.corr(method='pearson')\n",
        "sns.heatmap(correlations, annot=True, cmap=plt.cm.PuBu)\n",
        "plt.show()"
      ]
    },
    {
      "cell_type": "code",
      "execution_count": 27,
      "metadata": {
        "tags": [],
        "id": "Y06DzC9iViZN"
      },
      "outputs": [],
      "source": [
        "if NOTIFY_STATUS: status_notify(\"Task 2 - Summarize and Visualize Data completed! \" + datetime.now().strftime('%a %B %d, %Y %I:%M:%S %p'))"
      ]
    },
    {
      "cell_type": "markdown",
      "metadata": {
        "id": "nUirhh-YViZN"
      },
      "source": [
        "## Task 3 - Pre-process Data"
      ]
    },
    {
      "cell_type": "code",
      "execution_count": 28,
      "metadata": {
        "id": "ubJ1OkeDViZN"
      },
      "outputs": [],
      "source": [
        "if NOTIFY_STATUS: status_notify(\"Task 3 - Pre-process Data has begun! \" + datetime.now().strftime('%a %B %d, %Y %I:%M:%S %p'))"
      ]
    },
    {
      "cell_type": "markdown",
      "metadata": {
        "id": "bBdegmC1ViZN"
      },
      "source": [
        "### 3.a) Feature Scaling"
      ]
    },
    {
      "cell_type": "code",
      "execution_count": 29,
      "metadata": {
        "id": "_ItuvWIXViZN",
        "outputId": "9a6475ec-3a70-4d1d-a01a-eae9dd459bce",
        "colab": {
          "base_uri": "https://localhost:8080/"
        }
      },
      "outputs": [
        {
          "output_type": "stream",
          "name": "stdout",
          "text": [
            "Number of numerical columns: 12\n",
            "Number of categorical columns: 0\n",
            "Total number of columns in the feature dataframe: 12\n"
          ]
        }
      ],
      "source": [
        "# Compose pipeline for the numerical and categorical features (Block #1 of 2)\n",
        "numeric_columns = df_features_train.select_dtypes(include=['int64','float64']).columns\n",
        "numeric_transformer = Pipeline(steps=[\n",
        "    ('imputer', impute.SimpleImputer(strategy=\"constant\", fill_value=0)),\n",
        "    ('scaler', preprocessing.MinMaxScaler())\n",
        "])\n",
        "categorical_columns = df_features_train.select_dtypes(include=['object','bool','category']).columns\n",
        "categorical_transformer = Pipeline(steps=[\n",
        "    ('imputer', impute.SimpleImputer(strategy='constant', fill_value='UKNOWN')),\n",
        "    ('onehot', preprocessing.OneHotEncoder(sparse=False, handle_unknown='ignore'))\n",
        "])\n",
        "\n",
        "print(\"Number of numerical columns:\", len(numeric_columns))\n",
        "print(\"Number of categorical columns:\", len(categorical_columns))\n",
        "print(\"Total number of columns in the feature dataframe:\", df_features_train.shape[1])"
      ]
    },
    {
      "cell_type": "code",
      "execution_count": 30,
      "metadata": {
        "id": "x69f9jVgViZN",
        "outputId": "dcaeffb9-17b9-40a9-f092-b475024cc8ba",
        "colab": {
          "base_uri": "https://localhost:8080/"
        }
      },
      "outputs": [
        {
          "output_type": "stream",
          "name": "stdout",
          "text": [
            "Transformed features from df_features_train.shape: (2500, 12) to array_features_train.shape: (2500, 12)\n"
          ]
        }
      ],
      "source": [
        "# Compose pipeline for the numerical and categorical features (Block #2 of 2)\n",
        "preprocessor = compose.ColumnTransformer(transformers=[\n",
        "    ('num', numeric_transformer, numeric_columns),\n",
        "    ('cat', categorical_transformer, categorical_columns)\n",
        "])\n",
        "\n",
        "# Display the shapes of the training dataset for final inspection\n",
        "array_features_train = preprocessor.fit_transform(df_features_train)\n",
        "print(\"Transformed features from df_features_train.shape: {} to array_features_train.shape: {}\".format(df_features_train.shape, array_features_train.shape))"
      ]
    },
    {
      "cell_type": "markdown",
      "metadata": {
        "id": "GDo-EE7vViZN"
      },
      "source": [
        "### 3.b) Training Data Balancing"
      ]
    },
    {
      "cell_type": "code",
      "execution_count": 31,
      "metadata": {
        "id": "FVU1JtNOViZN"
      },
      "outputs": [],
      "source": [
        "# Not applicable for this iteration of the project"
      ]
    },
    {
      "cell_type": "markdown",
      "metadata": {
        "id": "e-i6vz-gViZN"
      },
      "source": [
        "### 3.c) Feature Selection"
      ]
    },
    {
      "cell_type": "code",
      "execution_count": 32,
      "metadata": {
        "id": "vrGYGJEBViZN"
      },
      "outputs": [],
      "source": [
        "# Not applicable for this iteration of the project"
      ]
    },
    {
      "cell_type": "markdown",
      "metadata": {
        "id": "SqKyiRHlViZO"
      },
      "source": [
        "### 3.d) Display the Final Datasets for Model-Building"
      ]
    },
    {
      "cell_type": "code",
      "execution_count": 33,
      "metadata": {
        "id": "-4dLat26ViZO",
        "outputId": "268c0d20-d885-42a4-9dcc-a2696e9831dd",
        "colab": {
          "base_uri": "https://localhost:8080/"
        }
      },
      "outputs": [
        {
          "output_type": "stream",
          "name": "stdout",
          "text": [
            "array_features_train.shape: (2500, 12) array_target_train.shape: (2500,)\n"
          ]
        }
      ],
      "source": [
        "# Finalize the training dataset for the modeling activities\n",
        "array_features_train = preprocessor.fit_transform(df_features_train)\n",
        "label_encoder = preprocessing.LabelEncoder()\n",
        "array_target_train = label_encoder.fit_transform(df_target_train)\n",
        "print(\"array_features_train.shape: {} array_target_train.shape: {}\".format(array_features_train.shape, array_target_train.shape))"
      ]
    },
    {
      "cell_type": "code",
      "execution_count": 34,
      "metadata": {
        "id": "64k83phgViZO"
      },
      "outputs": [],
      "source": [
        "if NOTIFY_STATUS: status_notify(\"Task 3 - Pre-process Data completed! \" + datetime.now().strftime('%a %B %d, %Y %I:%M:%S %p'))"
      ]
    },
    {
      "cell_type": "markdown",
      "metadata": {
        "id": "cybD8FKuViZO"
      },
      "source": [
        "## Task 4 - Train and Tune Models"
      ]
    },
    {
      "cell_type": "code",
      "execution_count": 35,
      "metadata": {
        "id": "dEiqFpjqViZO"
      },
      "outputs": [],
      "source": [
        "if NOTIFY_STATUS: status_notify(\"Task 4 - Train and Tune Models has begun! \" + datetime.now().strftime('%a %B %d, %Y %I:%M:%S %p'))"
      ]
    },
    {
      "cell_type": "markdown",
      "metadata": {
        "id": "uKsJm33lViZO"
      },
      "source": [
        "### 4.a) Set test options and evaluation metric"
      ]
    },
    {
      "cell_type": "code",
      "execution_count": 36,
      "metadata": {
        "id": "uaw3fsgoViZO"
      },
      "outputs": [],
      "source": [
        "# Set up Algorithms Spot-Checking Array\n",
        "start_time_training = datetime.now()\n",
        "train_models = []\n",
        "train_results = []\n",
        "train_model_names = []\n",
        "train_metrics = []"
      ]
    },
    {
      "cell_type": "code",
      "execution_count": 37,
      "metadata": {
        "id": "4BuHnxhzViZO"
      },
      "outputs": [],
      "source": [
        "train_models.append(('XGB', XGBClassifier(random_state=RNG_SEED, n_jobs=N_JOBS, objective='binary:logistic', use_label_encoder=False, eval_metric='logloss', tree_method='gpu_hist')))"
      ]
    },
    {
      "cell_type": "code",
      "execution_count": 38,
      "metadata": {
        "id": "xcXtJMqnViZO",
        "outputId": "bd0bd32b-600c-487f-cd75-5c757d2e912a",
        "colab": {
          "base_uri": "https://localhost:8080/"
        }
      },
      "outputs": [
        {
          "output_type": "stream",
          "name": "stderr",
          "text": [
            "[Parallel(n_jobs=1)]: Using backend SequentialBackend with 1 concurrent workers.\n"
          ]
        },
        {
          "output_type": "stream",
          "name": "stdout",
          "text": [
            "XGB: 0.884000 (0.015900)\n",
            "XGBClassifier(eval_metric='logloss', random_state=888, tree_method='gpu_hist',\n",
            "              use_label_encoder=False)\n",
            "Model training time: 0:00:02.352986 \n",
            "\n",
            "Average metrics (accuracy) from all models: 0.884\n",
            "Total training time for all models: 0:00:02.381164\n"
          ]
        },
        {
          "output_type": "stream",
          "name": "stderr",
          "text": [
            "[Parallel(n_jobs=1)]: Done  10 out of  10 | elapsed:    2.3s finished\n"
          ]
        }
      ],
      "source": [
        "# Generate model in turn\n",
        "for name, model in train_models:\n",
        "    if NOTIFY_STATUS: status_notify(\"Algorithm \"+name+\" modeling has begun! \" + datetime.now().strftime('%a %B %d, %Y %I:%M:%S %p'))\n",
        "    start_time_module = datetime.now()\n",
        "    kfold = StratifiedKFold(n_splits=N_FOLDS, shuffle=True, random_state=RNG_SEED)\n",
        "    cv_results = cross_val_score(model, array_features_train, array_target_train, cv=kfold, scoring=SCORING_METRIC, n_jobs=N_JOBS, verbose=1)\n",
        "    train_results.append(cv_results)\n",
        "    train_model_names.append(name)\n",
        "    train_metrics.append(cv_results.mean())\n",
        "    print(\"%s: %f (%f)\" % (name, cv_results.mean(), cv_results.std()))\n",
        "    print(model)\n",
        "    print ('Model training time:', (datetime.now() - start_time_module), '\\n')\n",
        "    if NOTIFY_STATUS: status_notify(\"Algorithm \"+name+\" modeling completed! \" + datetime.now().strftime('%a %B %d, %Y %I:%M:%S %p'))\n",
        "print ('Average metrics (' + SCORING_METRIC + ') from all models:', np.mean(train_metrics))\n",
        "print ('Total training time for all models:', (datetime.now() - start_time_training))"
      ]
    },
    {
      "cell_type": "markdown",
      "metadata": {
        "id": "_mdCViJcViZO"
      },
      "source": [
        "### 4.b) Algorithm Tuning"
      ]
    },
    {
      "cell_type": "code",
      "execution_count": 39,
      "metadata": {
        "id": "VnJ8nahWViZO"
      },
      "outputs": [],
      "source": [
        "# Set up the comparison array\n",
        "tune_results = []\n",
        "tune_model_names = []"
      ]
    },
    {
      "cell_type": "code",
      "execution_count": 40,
      "metadata": {
        "id": "XQbxK3lJViZP",
        "outputId": "8dc73fab-1df5-4852-a474-c93b4bdd2b89",
        "colab": {
          "base_uri": "https://localhost:8080/"
        }
      },
      "outputs": [
        {
          "output_type": "stream",
          "name": "stdout",
          "text": [
            "Fitting 10 folds for each of 45 candidates, totalling 450 fits\n",
            "Best: 0.885600 using {'max_depth': 6, 'min_child_weight': 2, 'n_estimators': 100}\n",
            "0.884000 (0.015900) with: {'max_depth': 3, 'min_child_weight': 1, 'n_estimators': 100}\n",
            "0.880000 (0.014859) with: {'max_depth': 3, 'min_child_weight': 1, 'n_estimators': 200}\n",
            "0.879600 (0.013793) with: {'max_depth': 3, 'min_child_weight': 1, 'n_estimators': 300}\n",
            "0.879600 (0.013793) with: {'max_depth': 3, 'min_child_weight': 1, 'n_estimators': 400}\n",
            "0.879200 (0.015158) with: {'max_depth': 3, 'min_child_weight': 1, 'n_estimators': 500}\n",
            "0.885200 (0.013862) with: {'max_depth': 3, 'min_child_weight': 2, 'n_estimators': 100}\n",
            "0.882400 (0.017817) with: {'max_depth': 3, 'min_child_weight': 2, 'n_estimators': 200}\n",
            "0.879200 (0.016857) with: {'max_depth': 3, 'min_child_weight': 2, 'n_estimators': 300}\n",
            "0.878400 (0.016512) with: {'max_depth': 3, 'min_child_weight': 2, 'n_estimators': 400}\n",
            "0.879200 (0.014945) with: {'max_depth': 3, 'min_child_weight': 2, 'n_estimators': 500}\n",
            "0.882800 (0.016005) with: {'max_depth': 3, 'min_child_weight': 3, 'n_estimators': 100}\n",
            "0.882400 (0.018260) with: {'max_depth': 3, 'min_child_weight': 3, 'n_estimators': 200}\n",
            "0.882800 (0.014972) with: {'max_depth': 3, 'min_child_weight': 3, 'n_estimators': 300}\n",
            "0.883600 (0.012706) with: {'max_depth': 3, 'min_child_weight': 3, 'n_estimators': 400}\n",
            "0.880800 (0.012624) with: {'max_depth': 3, 'min_child_weight': 3, 'n_estimators': 500}\n",
            "0.879200 (0.015677) with: {'max_depth': 6, 'min_child_weight': 1, 'n_estimators': 100}\n",
            "0.877200 (0.016105) with: {'max_depth': 6, 'min_child_weight': 1, 'n_estimators': 200}\n",
            "0.876000 (0.018155) with: {'max_depth': 6, 'min_child_weight': 1, 'n_estimators': 300}\n",
            "0.873600 (0.018435) with: {'max_depth': 6, 'min_child_weight': 1, 'n_estimators': 400}\n",
            "0.872800 (0.017325) with: {'max_depth': 6, 'min_child_weight': 1, 'n_estimators': 500}\n",
            "0.885600 (0.014333) with: {'max_depth': 6, 'min_child_weight': 2, 'n_estimators': 100}\n",
            "0.882000 (0.017641) with: {'max_depth': 6, 'min_child_weight': 2, 'n_estimators': 200}\n",
            "0.878400 (0.019448) with: {'max_depth': 6, 'min_child_weight': 2, 'n_estimators': 300}\n",
            "0.876400 (0.017293) with: {'max_depth': 6, 'min_child_weight': 2, 'n_estimators': 400}\n",
            "0.875600 (0.015743) with: {'max_depth': 6, 'min_child_weight': 2, 'n_estimators': 500}\n",
            "0.881200 (0.016400) with: {'max_depth': 6, 'min_child_weight': 3, 'n_estimators': 100}\n",
            "0.880800 (0.016278) with: {'max_depth': 6, 'min_child_weight': 3, 'n_estimators': 200}\n",
            "0.877200 (0.016302) with: {'max_depth': 6, 'min_child_weight': 3, 'n_estimators': 300}\n",
            "0.875200 (0.015778) with: {'max_depth': 6, 'min_child_weight': 3, 'n_estimators': 400}\n",
            "0.873600 (0.015094) with: {'max_depth': 6, 'min_child_weight': 3, 'n_estimators': 500}\n",
            "0.880800 (0.017325) with: {'max_depth': 9, 'min_child_weight': 1, 'n_estimators': 100}\n",
            "0.878400 (0.016704) with: {'max_depth': 9, 'min_child_weight': 1, 'n_estimators': 200}\n",
            "0.877600 (0.019775) with: {'max_depth': 9, 'min_child_weight': 1, 'n_estimators': 300}\n",
            "0.876400 (0.017659) with: {'max_depth': 9, 'min_child_weight': 1, 'n_estimators': 400}\n",
            "0.877600 (0.017545) with: {'max_depth': 9, 'min_child_weight': 1, 'n_estimators': 500}\n",
            "0.883600 (0.016439) with: {'max_depth': 9, 'min_child_weight': 2, 'n_estimators': 100}\n",
            "0.878800 (0.016105) with: {'max_depth': 9, 'min_child_weight': 2, 'n_estimators': 200}\n",
            "0.876400 (0.018018) with: {'max_depth': 9, 'min_child_weight': 2, 'n_estimators': 300}\n",
            "0.877600 (0.016120) with: {'max_depth': 9, 'min_child_weight': 2, 'n_estimators': 400}\n",
            "0.875600 (0.015435) with: {'max_depth': 9, 'min_child_weight': 2, 'n_estimators': 500}\n",
            "0.884000 (0.017436) with: {'max_depth': 9, 'min_child_weight': 3, 'n_estimators': 100}\n",
            "0.876800 (0.017781) with: {'max_depth': 9, 'min_child_weight': 3, 'n_estimators': 200}\n",
            "0.873600 (0.015305) with: {'max_depth': 9, 'min_child_weight': 3, 'n_estimators': 300}\n",
            "0.872400 (0.011092) with: {'max_depth': 9, 'min_child_weight': 3, 'n_estimators': 400}\n",
            "0.871200 (0.011565) with: {'max_depth': 9, 'min_child_weight': 3, 'n_estimators': 500}\n",
            "Model training time: 0:04:31.664029\n"
          ]
        }
      ],
      "source": [
        "# Tuning XGBoost n_estimators, max_depth, and min_child_weight parameters\n",
        "start_time_Module = datetime.now()\n",
        "if NOTIFY_STATUS: status_notify(\"Algorithm tuning iteration #1 has begun! \" + datetime.now().strftime('%a %B %d, %Y %I:%M:%S %p'))\n",
        "\n",
        "tune_model1 = XGBClassifier(random_state=RNG_SEED, n_jobs=N_JOBS, objective='binary:logistic', use_label_encoder=False, eval_metric='logloss', tree_method='gpu_hist')\n",
        "tune_model_names.append('XGB_1')\n",
        "paramGrid1 = dict(n_estimators=range(100, 501, 100),\n",
        "                  max_depth=np.array([3, 6, 9]),\n",
        "                  min_child_weight=np.array([1, 2, 3]))\n",
        "\n",
        "kfold = StratifiedKFold(n_splits=N_FOLDS, shuffle=True, random_state=RNG_SEED)\n",
        "grid1 = GridSearchCV(estimator=tune_model1, param_grid=paramGrid1, scoring=SCORING_METRIC, cv=kfold, n_jobs=N_JOBS, verbose=1)\n",
        "grid_result1 = grid1.fit(array_features_train, array_target_train)\n",
        "\n",
        "print(\"Best: %f using %s\" % (grid_result1.best_score_, grid_result1.best_params_))\n",
        "tune_results.append(grid_result1.cv_results_['mean_test_score'])\n",
        "means = grid_result1.cv_results_['mean_test_score']\n",
        "stds = grid_result1.cv_results_['std_test_score']\n",
        "params = grid_result1.cv_results_['params']\n",
        "for mean, stdev, param in zip(means, stds, params):\n",
        "    print(\"%f (%f) with: %r\" % (mean, stdev, param))\n",
        "print ('Model training time:', (datetime.now() - start_time_Module))\n",
        "if NOTIFY_STATUS: status_notify(\"Algorithm tuning iteration #1 completed! \" + datetime.now().strftime('%a %B %d, %Y %I:%M:%S %p'))"
      ]
    },
    {
      "cell_type": "code",
      "execution_count": 41,
      "metadata": {
        "id": "y2rMYQXKViZP",
        "outputId": "3bdf2444-2627-4144-acda-e86ffcddf3d4",
        "colab": {
          "base_uri": "https://localhost:8080/"
        }
      },
      "outputs": [
        {
          "output_type": "stream",
          "name": "stdout",
          "text": [
            "Best max_depth parameter: 6\n",
            "Best min_child_weight parameter: 2\n",
            "Best n_estimators parameter: 100\n"
          ]
        }
      ],
      "source": [
        "BEST_MAX_DEPTH = grid_result1.best_params_['max_depth']\n",
        "BEST_MIN_CHILD_WEIGHT = grid_result1.best_params_['min_child_weight']\n",
        "BEST_N_ESTIMATORS = grid_result1.best_params_['n_estimators']\n",
        "print('Best max_depth parameter:', BEST_MAX_DEPTH)\n",
        "print('Best min_child_weight parameter:', BEST_MIN_CHILD_WEIGHT)\n",
        "print('Best n_estimators parameter:', BEST_N_ESTIMATORS)"
      ]
    },
    {
      "cell_type": "code",
      "execution_count": 42,
      "metadata": {
        "id": "hu8_2JbWViZP",
        "outputId": "92f25871-9575-4d5f-ed5a-637d86693e99",
        "colab": {
          "base_uri": "https://localhost:8080/"
        }
      },
      "outputs": [
        {
          "output_type": "stream",
          "name": "stdout",
          "text": [
            "Fitting 10 folds for each of 16 candidates, totalling 160 fits\n",
            "Best: 0.886800 using {'colsample_bytree': 1.0, 'subsample': 0.9}\n",
            "0.879600 (0.015015) with: {'colsample_bytree': 0.7, 'subsample': 0.7}\n",
            "0.883600 (0.015435) with: {'colsample_bytree': 0.7, 'subsample': 0.8}\n",
            "0.884800 (0.016473) with: {'colsample_bytree': 0.7, 'subsample': 0.9}\n",
            "0.882000 (0.016900) with: {'colsample_bytree': 0.7, 'subsample': 1.0}\n",
            "0.884400 (0.018629) with: {'colsample_bytree': 0.8, 'subsample': 0.7}\n",
            "0.882800 (0.013977) with: {'colsample_bytree': 0.8, 'subsample': 0.8}\n",
            "0.883600 (0.016824) with: {'colsample_bytree': 0.8, 'subsample': 0.9}\n",
            "0.882400 (0.013529) with: {'colsample_bytree': 0.8, 'subsample': 1.0}\n",
            "0.881200 (0.015394) with: {'colsample_bytree': 0.9, 'subsample': 0.7}\n",
            "0.883600 (0.013078) with: {'colsample_bytree': 0.9, 'subsample': 0.8}\n",
            "0.881600 (0.015513) with: {'colsample_bytree': 0.9, 'subsample': 0.9}\n",
            "0.882800 (0.015078) with: {'colsample_bytree': 0.9, 'subsample': 1.0}\n",
            "0.883200 (0.014400) with: {'colsample_bytree': 1.0, 'subsample': 0.7}\n",
            "0.886000 (0.011349) with: {'colsample_bytree': 1.0, 'subsample': 0.8}\n",
            "0.886800 (0.015600) with: {'colsample_bytree': 1.0, 'subsample': 0.9}\n",
            "0.885600 (0.014333) with: {'colsample_bytree': 1.0, 'subsample': 1.0}\n",
            "Model training time: 0:00:39.358916\n"
          ]
        }
      ],
      "source": [
        "# Tuning XGBoost subsample and colsample_bytree parameters\n",
        "start_time_Module = datetime.now()\n",
        "if NOTIFY_STATUS: status_notify(\"Algorithm tuning iteration #2 has begun! \" + datetime.now().strftime('%a %B %d, %Y %I:%M:%S %p'))\n",
        "\n",
        "tune_model2 = XGBClassifier(n_estimators=BEST_N_ESTIMATORS, max_depth=BEST_MAX_DEPTH, min_child_weight=BEST_MIN_CHILD_WEIGHT,\n",
        "                            random_state=RNG_SEED, n_jobs=N_JOBS, objective='binary:logistic', use_label_encoder=False, eval_metric='logloss', tree_method='gpu_hist')\n",
        "tune_model_names.append('XGB_2')\n",
        "paramGrid2 = dict(subsample=np.array([0.7, 0.8, 0.9, 1.0]),\n",
        "                  colsample_bytree=np.array([0.7, 0.8, 0.9, 1.0]))\n",
        "\n",
        "kfold = StratifiedKFold(n_splits=N_FOLDS, shuffle=True, random_state=RNG_SEED)\n",
        "grid2 = GridSearchCV(estimator=tune_model2, param_grid=paramGrid2, scoring=SCORING_METRIC, cv=kfold, n_jobs=N_JOBS, verbose=1)\n",
        "grid_result2 = grid2.fit(array_features_train, array_target_train)\n",
        "\n",
        "print(\"Best: %f using %s\" % (grid_result2.best_score_, grid_result2.best_params_))\n",
        "tune_results.append(grid_result2.cv_results_['mean_test_score'])\n",
        "means = grid_result2.cv_results_['mean_test_score']\n",
        "stds = grid_result2.cv_results_['std_test_score']\n",
        "params = grid_result2.cv_results_['params']\n",
        "for mean, stdev, param in zip(means, stds, params):\n",
        "    print(\"%f (%f) with: %r\" % (mean, stdev, param))\n",
        "print ('Model training time:',(datetime.now() - start_time_Module))\n",
        "if NOTIFY_STATUS: status_notify(\"Algorithm tuning iteration #2 completed! \" + datetime.now().strftime('%a %B %d, %Y %I:%M:%S %p'))"
      ]
    },
    {
      "cell_type": "code",
      "execution_count": 43,
      "metadata": {
        "id": "Q1R-8G3sViZP",
        "outputId": "e74b8477-303b-4441-84d2-bf8175094e7e",
        "colab": {
          "base_uri": "https://localhost:8080/"
        }
      },
      "outputs": [
        {
          "output_type": "stream",
          "name": "stdout",
          "text": [
            "Best colsample_bytree parameter: 1.0\n",
            "Best subsample parameter: 0.9\n"
          ]
        }
      ],
      "source": [
        "BEST_COLSAMPLE_BYTREE = grid_result2.best_params_['colsample_bytree']\n",
        "BEST_SUBSAMPLE = grid_result2.best_params_['subsample']\n",
        "print('Best colsample_bytree parameter:', BEST_COLSAMPLE_BYTREE)\n",
        "print('Best subsample parameter:', BEST_SUBSAMPLE)"
      ]
    },
    {
      "cell_type": "markdown",
      "metadata": {
        "id": "4-goJ-ScViZP"
      },
      "source": [
        "### 4.c) Compare Algorithms After Tuning"
      ]
    },
    {
      "cell_type": "code",
      "execution_count": 44,
      "metadata": {
        "id": "_hDXaaZsViZP",
        "outputId": "9f012e0f-897a-413d-db7b-24e56c98e761",
        "colab": {
          "base_uri": "https://localhost:8080/",
          "height": 843
        }
      },
      "outputs": [
        {
          "output_type": "stream",
          "name": "stderr",
          "text": [
            "/usr/local/lib/python3.7/dist-packages/matplotlib/cbook/__init__.py:1376: VisibleDeprecationWarning: Creating an ndarray from ragged nested sequences (which is a list-or-tuple of lists-or-tuples-or ndarrays with different lengths or shapes) is deprecated. If you meant to do this, you must specify 'dtype=object' when creating the ndarray.\n",
            "  X = np.atleast_1d(X.T if isinstance(X, np.ndarray) else np.asarray(X))\n"
          ]
        },
        {
          "output_type": "display_data",
          "data": {
            "text/plain": [
              "<Figure size 1152x864 with 1 Axes>"
            ],
            "image/png": "[encoded data removed]"
          },
          "metadata": {
            "needs_background": "light"
          }
        }
      ],
      "source": [
        "fig = plt.figure(figsize=(16,12))\n",
        "fig.suptitle('Algorithm Comparison - Post Tuning')\n",
        "ax = fig.add_subplot(111)\n",
        "plt.boxplot(tune_results)\n",
        "ax.set_xticklabels(tune_model_names)\n",
        "plt.show()"
      ]
    },
    {
      "cell_type": "code",
      "execution_count": 45,
      "metadata": {
        "jupyter": {
          "outputs_hidden": false
        },
        "pycharm": {
          "name": "#%%\n"
        },
        "id": "amDXgg8-ViZP"
      },
      "outputs": [],
      "source": [
        "if NOTIFY_STATUS: status_notify(\"Task 4 - Train and Tune Models completed! \" + datetime.now().strftime('%a %B %d, %Y %I:%M:%S %p'))"
      ]
    },
    {
      "cell_type": "markdown",
      "metadata": {
        "id": "Lpcuc18gViZP"
      },
      "source": [
        "## Task 5 - Finalize Model and Make Predictions"
      ]
    },
    {
      "cell_type": "code",
      "execution_count": 46,
      "metadata": {
        "id": "NBbeOTskViZQ"
      },
      "outputs": [],
      "source": [
        "if NOTIFY_STATUS: status_notify(\"Task 5 - Finalize Model and Make Predictions has begun! \" + datetime.now().strftime('%a %B %d, %Y %I:%M:%S %p'))"
      ]
    },
    {
      "cell_type": "code",
      "execution_count": 47,
      "metadata": {
        "id": "TUc7fHQ9ViZQ",
        "outputId": "ba8b33aa-9792-400f-e7c6-a569e8b73593",
        "colab": {
          "base_uri": "https://localhost:8080/"
        }
      },
      "outputs": [
        {
          "output_type": "stream",
          "name": "stdout",
          "text": [
            "{'base_score': 0.5, 'booster': 'gbtree', 'colsample_bylevel': 1, 'colsample_bynode': 1, 'colsample_bytree': 1.0, 'gamma': 0, 'learning_rate': 0.1, 'max_delta_step': 0, 'max_depth': 6, 'min_child_weight': 2, 'missing': None, 'n_estimators': 100, 'n_jobs': 1, 'nthread': None, 'objective': 'binary:logistic', 'random_state': 888, 'reg_alpha': 0, 'reg_lambda': 1, 'scale_pos_weight': 1, 'seed': None, 'silent': None, 'subsample': 0.9, 'verbosity': 1, 'use_label_encoder': False, 'eval_metric': 'logloss', 'tree_method': 'gpu_hist'}\n"
          ]
        }
      ],
      "source": [
        "final_model = XGBClassifier(n_estimators=BEST_N_ESTIMATORS, max_depth=BEST_MAX_DEPTH, min_child_weight=BEST_MIN_CHILD_WEIGHT,\n",
        "                            colsample_bytree=BEST_COLSAMPLE_BYTREE, subsample=BEST_SUBSAMPLE, random_state=RNG_SEED,\n",
        "                            n_jobs=N_JOBS, objective='binary:logistic', use_label_encoder=False, eval_metric='logloss', tree_method='gpu_hist')\n",
        "final_model.fit(array_features_train, array_target_train)\n",
        "print(final_model.get_params())"
      ]
    },
    {
      "cell_type": "code",
      "execution_count": 48,
      "metadata": {
        "id": "y4qPlI-ZViZR"
      },
      "outputs": [],
      "source": [
        "if NOTIFY_STATUS: status_notify(\"Task 5 - Finalize Model and Make Predictions completed! \" + datetime.now().strftime('%a %B %d, %Y %I:%M:%S %p'))"
      ]
    },
    {
      "cell_type": "code",
      "execution_count": 49,
      "metadata": {
        "id": "M5_FY-MaViZR",
        "outputId": "fa47e0f7-f1d3-4e18-a034-e8ffc3d5e3ee",
        "colab": {
          "base_uri": "https://localhost:8080/"
        }
      },
      "outputs": [
        {
          "output_type": "stream",
          "name": "stdout",
          "text": [
            "Total time for the script: 0:07:45.333941\n"
          ]
        }
      ],
      "source": [
        "print ('Total time for the script:',(datetime.now() - START_TIME_SCRIPT))"
      ]
    }
  ],
  "metadata": {
    "kernelspec": {
      "display_name": "Python 3 (ipykernel)",
      "language": "python",
      "name": "python3"
    },
    "language_info": {
      "codemirror_mode": {
        "name": "ipython",
        "version": 3
      },
      "file_extension": ".py",
      "mimetype": "text/x-python",
      "name": "python",
      "nbconvert_exporter": "python",
      "pygments_lexer": "ipython3",
      "version": "3.8.10"
    },
    "colab": {
      "provenance": [],
      "collapsed_sections": [],
      "background_execution": "on"
    },
    "accelerator": "GPU"
  },
  "nbformat": 4,
  "nbformat_minor": 0
}
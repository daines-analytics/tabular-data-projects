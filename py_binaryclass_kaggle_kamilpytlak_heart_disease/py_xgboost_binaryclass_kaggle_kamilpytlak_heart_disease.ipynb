{
 "cells": [
  {
   "cell_type": "markdown",
   "metadata": {},
   "source": [
    "# Binary-Class Model for Heart Disease Key Indicators Using Python and XGBoost\n",
    "### David Lowe\n",
    "### March 1, 2022\n",
    "\n",
    "Template Credit: Adapted from a template made available by Dr. Jason Brownlee of Machine Learning Mastery. [https://machinelearningmastery.com/]\n",
    "\n",
    "SUMMARY: The project aims to construct a predictive model using various machine learning algorithms and document the end-to-end steps using a template. The Fetal Health Classification dataset is a binary-class modeling situation where we attempt to predict one of two possible outcomes.\n",
    "\n",
    "INTRODUCTION: This dataset comes from the CDC's Behavioral Risk Factor Surveillance System (BRFSS) study, which conducts annual telephone surveys to gather data on the health status of U.S. residents. The original dataset consists of 401,958 rows and 279 columns. However, the Kaggle project owner selected some of the most relevant attributes from the dataset and cleaned it up for machine learning projects.\n",
    "\n",
    "ANALYSIS: The performance of the preliminary XGBoost model achieved a ROC-AUC benchmark of 92.68%. After a series of tuning trials, the final model processed the training dataset with a ROC-AUC score of 92.81%. When we processed the test dataset with the final model, the model achieved a ROC-AUC score of 72.25%.\n",
    "\n",
    "CONCLUSION: In this iteration, XGBoost appeared to be a suitable algorithm for modeling this dataset.\n",
    "\n",
    "Dataset Used: Personal Key Indicators of Heart Disease Dataset\n",
    "\n",
    "Dataset ML Model: Binary classification with numerical and categorical features\n",
    "\n",
    "Dataset Reference: https://www.kaggle.com/kamilpytlak/personal-key-indicators-of-heart-disease\n",
    "\n",
    "One source of potential performance benchmarks: https://www.kaggle.com/kamilpytlak/personal-key-indicators-of-heart-disease/code"
   ]
  },
  {
   "cell_type": "markdown",
   "metadata": {},
   "source": [
    "## Task 1 - Prepare Environment"
   ]
  },
  {
   "cell_type": "code",
   "execution_count": 1,
   "metadata": {},
   "outputs": [
    {
     "name": "stdout",
     "output_type": "stream",
     "text": [
      "The number of available CPUs is: 8\n"
     ]
    }
   ],
   "source": [
    "# Retrieve the CPU information\n",
    "ncpu = !nproc\n",
    "print(\"The number of available CPUs is:\", ncpu[0])"
   ]
  },
  {
   "cell_type": "code",
   "execution_count": 2,
   "metadata": {},
   "outputs": [
    {
     "name": "stdout",
     "output_type": "stream",
     "text": [
      "Mon Feb 28 20:39:10 2022       \n",
      "+-----------------------------------------------------------------------------+\n",
      "| NVIDIA-SMI 460.91.03    Driver Version: 460.91.03    CUDA Version: 11.4     |\n",
      "|-------------------------------+----------------------+----------------------+\n",
      "| GPU  Name        Persistence-M| Bus-Id        Disp.A | Volatile Uncorr. ECC |\n",
      "| Fan  Temp  Perf  Pwr:Usage/Cap|         Memory-Usage | GPU-Util  Compute M. |\n",
      "|                               |                      |               MIG M. |\n",
      "|===============================+======================+======================|\n",
      "|   0  Quadro RTX 5000     Off  | 00000000:00:05.0 Off |                  Off |\n",
      "| 33%   40C    P8     8W / 230W |      0MiB / 16125MiB |      0%      Default |\n",
      "|                               |                      |                  N/A |\n",
      "+-------------------------------+----------------------+----------------------+\n",
      "                                                                               \n",
      "+-----------------------------------------------------------------------------+\n",
      "| Processes:                                                                  |\n",
      "|  GPU   GI   CI        PID   Type   Process name                  GPU Memory |\n",
      "|        ID   ID                                                   Usage      |\n",
      "|=============================================================================|\n",
      "|  No running processes found                                                 |\n",
      "+-----------------------------------------------------------------------------+\n"
     ]
    }
   ],
   "source": [
    "# Retrieve the GPU information\n",
    "gpu_info = !nvidia-smi\n",
    "gpu_info = '\\n'.join(gpu_info)\n",
    "print(gpu_info)"
   ]
  },
  {
   "cell_type": "code",
   "execution_count": 3,
   "metadata": {},
   "outputs": [
    {
     "name": "stdout",
     "output_type": "stream",
     "text": [
      "Your runtime has 31.6 gigabytes of available RAM\n",
      "\n"
     ]
    }
   ],
   "source": [
    "# Retrieve the memory configuration\n",
    "from psutil import virtual_memory\n",
    "ram_gb = virtual_memory().total / 1e9\n",
    "print('Your runtime has {:.1f} gigabytes of available RAM\\n'.format(ram_gb))"
   ]
  },
  {
   "cell_type": "markdown",
   "metadata": {},
   "source": [
    "### 1.a) Load libraries and modules"
   ]
  },
  {
   "cell_type": "code",
   "execution_count": 4,
   "metadata": {},
   "outputs": [],
   "source": [
    "# Set the random seed number for reproducible results\n",
    "RNG_SEED = 888"
   ]
  },
  {
   "cell_type": "code",
   "execution_count": 5,
   "metadata": {},
   "outputs": [
    {
     "name": "stderr",
     "output_type": "stream",
     "text": [
      "/usr/local/lib/python3.8/dist-packages/xgboost/compat.py:36: FutureWarning: pandas.Int64Index is deprecated and will be removed from pandas in a future version. Use pandas.Index with the appropriate dtype instead.\n",
      "  from pandas import MultiIndex, Int64Index\n"
     ]
    }
   ],
   "source": [
    "import numpy as np\n",
    "import pandas as pd\n",
    "import seaborn as sns\n",
    "import matplotlib.pyplot as plt\n",
    "import os\n",
    "import sys\n",
    "import math\n",
    "# import boto3\n",
    "from datetime import datetime\n",
    "from sklearn import preprocessing\n",
    "from sklearn.model_selection import train_test_split\n",
    "from sklearn.model_selection import StratifiedKFold\n",
    "from sklearn.model_selection import cross_val_score\n",
    "from sklearn.model_selection import GridSearchCV\n",
    "from sklearn.metrics import classification_report\n",
    "from sklearn.metrics import confusion_matrix\n",
    "from sklearn.metrics import accuracy_score\n",
    "from sklearn.metrics import roc_auc_score\n",
    "from sklearn.pipeline import Pipeline\n",
    "from sklearn import compose\n",
    "from sklearn import impute\n",
    "\n",
    "from sklearn.feature_selection import RFE\n",
    "from imblearn.pipeline import Pipeline\n",
    "from imblearn.over_sampling import SMOTE\n",
    "from imblearn.under_sampling import RandomUnderSampler\n",
    "\n",
    "from xgboost import XGBClassifier"
   ]
  },
  {
   "cell_type": "markdown",
   "metadata": {},
   "source": [
    "### 1.b) Set up the controlling parameters and functions"
   ]
  },
  {
   "cell_type": "code",
   "execution_count": 6,
   "metadata": {},
   "outputs": [],
   "source": [
    "# Begin the timer for the script processing\n",
    "START_TIME_SCRIPT = datetime.now()\n",
    "\n",
    "# Set up the number of CPU cores available for multi-thread processing\n",
    "N_JOBS = 2\n",
    "\n",
    "# Set up the flag to stop sending progress emails (setting to True will send status emails!)\n",
    "NOTIFY_STATUS = False\n",
    "\n",
    "# Set the percentage sizes for splitting the dataset\n",
    "TEST_SET_RATIO = 0.15\n",
    "VAL_SET_RATIO = 0.15\n",
    "\n",
    "# Set the number of folds for cross validation\n",
    "N_FOLDS = 5\n",
    "\n",
    "# Set default modeling scoring metric\n",
    "SCORING_METRIC = 'roc_auc'\n",
    "\n",
    "# Define the directory locations and file names\n",
    "TRAIN_DATASET = 'heart_2020_cleaned.csv'\n",
    "# TEST_DATASET = ''"
   ]
  },
  {
   "cell_type": "code",
   "execution_count": 7,
   "metadata": {},
   "outputs": [],
   "source": [
    "# Set up the email notification function\n",
    "def status_notify(msg_text):\n",
    "    access_key = os.environ.get('SNS_ACCESS_KEY')\n",
    "    secret_key = os.environ.get('SNS_SECRET_KEY')\n",
    "    aws_region = os.environ.get('SNS_AWS_REGION')\n",
    "    topic_arn = os.environ.get('SNS_TOPIC_ARN')\n",
    "    if (access_key is None) or (secret_key is None) or (aws_region is None):\n",
    "        sys.exit(\"Incomplete notification setup info. Script Processing Aborted!!!\")\n",
    "    sns = boto3.client('sns', aws_access_key_id=access_key, aws_secret_access_key=secret_key, region_name=aws_region)\n",
    "    response = sns.publish(TopicArn=topic_arn, Message=msg_text)\n",
    "    if response['ResponseMetadata']['HTTPStatusCode'] != 200 :\n",
    "        print('Status notification not OK with HTTP status code:', response['ResponseMetadata']['HTTPStatusCode'])"
   ]
  },
  {
   "cell_type": "code",
   "execution_count": 8,
   "metadata": {},
   "outputs": [],
   "source": [
    "if NOTIFY_STATUS: status_notify(\"Task 1 - Prepare Environment has begun! \" + datetime.now().strftime('%a %B %d, %Y %I:%M:%S %p'))"
   ]
  },
  {
   "cell_type": "markdown",
   "metadata": {},
   "source": [
    "### 1.c) Load dataset"
   ]
  },
  {
   "cell_type": "code",
   "execution_count": 9,
   "metadata": {},
   "outputs": [],
   "source": [
    "if not os.path.exists(TRAIN_DATASET):\n",
    "    !wget https://dainesanalytics.com/datasets/kaggle-kamilpytlak-heart-disease/heart_2020_cleaned.csv"
   ]
  },
  {
   "cell_type": "code",
   "execution_count": 10,
   "metadata": {},
   "outputs": [
    {
     "name": "stdout",
     "output_type": "stream",
     "text": [
      "  HeartDisease    BMI Smoking AlcoholDrinking Stroke  PhysicalHealth  \\\n",
      "0           No  16.60     Yes              No     No             3.0   \n",
      "1           No  20.34      No              No    Yes             0.0   \n",
      "2           No  26.58     Yes              No     No            20.0   \n",
      "3           No  24.21      No              No     No             0.0   \n",
      "4           No  23.71      No              No     No            28.0   \n",
      "5          Yes  28.87     Yes              No     No             6.0   \n",
      "6           No  21.63      No              No     No            15.0   \n",
      "7           No  31.64     Yes              No     No             5.0   \n",
      "8           No  26.45      No              No     No             0.0   \n",
      "9           No  40.69      No              No     No             0.0   \n",
      "\n",
      "   MentalHealth DiffWalking     Sex  AgeCategory   Race  \\\n",
      "0          30.0          No  Female        55-59  White   \n",
      "1           0.0          No  Female  80 or older  White   \n",
      "2          30.0          No    Male        65-69  White   \n",
      "3           0.0          No  Female        75-79  White   \n",
      "4           0.0         Yes  Female        40-44  White   \n",
      "5           0.0         Yes  Female        75-79  Black   \n",
      "6           0.0          No  Female        70-74  White   \n",
      "7           0.0         Yes  Female  80 or older  White   \n",
      "8           0.0          No  Female  80 or older  White   \n",
      "9           0.0         Yes    Male        65-69  White   \n",
      "\n",
      "                  Diabetic PhysicalActivity  GenHealth  SleepTime Asthma  \\\n",
      "0                      Yes              Yes  Very good        5.0    Yes   \n",
      "1                       No              Yes  Very good        7.0     No   \n",
      "2                      Yes              Yes       Fair        8.0    Yes   \n",
      "3                       No               No       Good        6.0     No   \n",
      "4                       No              Yes  Very good        8.0     No   \n",
      "5                       No               No       Fair       12.0     No   \n",
      "6                       No              Yes       Fair        4.0    Yes   \n",
      "7                      Yes               No       Good        9.0    Yes   \n",
      "8  No, borderline diabetes               No       Fair        5.0     No   \n",
      "9                       No              Yes       Good       10.0     No   \n",
      "\n",
      "  KidneyDisease SkinCancer  \n",
      "0            No        Yes  \n",
      "1            No         No  \n",
      "2            No         No  \n",
      "3            No        Yes  \n",
      "4            No         No  \n",
      "5            No         No  \n",
      "6            No        Yes  \n",
      "7            No         No  \n",
      "8           Yes         No  \n",
      "9            No         No  \n"
     ]
    }
   ],
   "source": [
    "df_dataset_import = pd.read_csv(TRAIN_DATASET, index_col=False)\n",
    "\n",
    "# Take a peek at the dataframe after import\n",
    "print(df_dataset_import.head(10))"
   ]
  },
  {
   "cell_type": "code",
   "execution_count": 11,
   "metadata": {},
   "outputs": [
    {
     "name": "stdout",
     "output_type": "stream",
     "text": [
      "<class 'pandas.core.frame.DataFrame'>\n",
      "RangeIndex: 319795 entries, 0 to 319794\n",
      "Data columns (total 18 columns):\n",
      " #   Column            Non-Null Count   Dtype  \n",
      "---  ------            --------------   -----  \n",
      " 0   HeartDisease      319795 non-null  object \n",
      " 1   BMI               319795 non-null  float64\n",
      " 2   Smoking           319795 non-null  object \n",
      " 3   AlcoholDrinking   319795 non-null  object \n",
      " 4   Stroke            319795 non-null  object \n",
      " 5   PhysicalHealth    319795 non-null  float64\n",
      " 6   MentalHealth      319795 non-null  float64\n",
      " 7   DiffWalking       319795 non-null  object \n",
      " 8   Sex               319795 non-null  object \n",
      " 9   AgeCategory       319795 non-null  object \n",
      " 10  Race              319795 non-null  object \n",
      " 11  Diabetic          319795 non-null  object \n",
      " 12  PhysicalActivity  319795 non-null  object \n",
      " 13  GenHealth         319795 non-null  object \n",
      " 14  SleepTime         319795 non-null  float64\n",
      " 15  Asthma            319795 non-null  object \n",
      " 16  KidneyDisease     319795 non-null  object \n",
      " 17  SkinCancer        319795 non-null  object \n",
      "dtypes: float64(4), object(14)\n",
      "memory usage: 43.9+ MB\n"
     ]
    }
   ],
   "source": [
    "df_dataset_import.info(verbose=True)"
   ]
  },
  {
   "cell_type": "code",
   "execution_count": 12,
   "metadata": {},
   "outputs": [
    {
     "name": "stdout",
     "output_type": "stream",
     "text": [
      "                 BMI  PhysicalHealth   MentalHealth      SleepTime\n",
      "count  319795.000000    319795.00000  319795.000000  319795.000000\n",
      "mean       28.325399         3.37171       3.898366       7.097075\n",
      "std         6.356100         7.95085       7.955235       1.436007\n",
      "min        12.020000         0.00000       0.000000       1.000000\n",
      "25%        24.030000         0.00000       0.000000       6.000000\n",
      "50%        27.340000         0.00000       0.000000       7.000000\n",
      "75%        31.420000         2.00000       3.000000       8.000000\n",
      "max        94.850000        30.00000      30.000000      24.000000\n"
     ]
    }
   ],
   "source": [
    "print(df_dataset_import.describe())"
   ]
  },
  {
   "cell_type": "code",
   "execution_count": 13,
   "metadata": {},
   "outputs": [
    {
     "name": "stdout",
     "output_type": "stream",
     "text": [
      "HeartDisease        0\n",
      "BMI                 0\n",
      "Smoking             0\n",
      "AlcoholDrinking     0\n",
      "Stroke              0\n",
      "PhysicalHealth      0\n",
      "MentalHealth        0\n",
      "DiffWalking         0\n",
      "Sex                 0\n",
      "AgeCategory         0\n",
      "Race                0\n",
      "Diabetic            0\n",
      "PhysicalActivity    0\n",
      "GenHealth           0\n",
      "SleepTime           0\n",
      "Asthma              0\n",
      "KidneyDisease       0\n",
      "SkinCancer          0\n",
      "dtype: int64\n",
      "Total number of NaN in the dataframe:  0\n"
     ]
    }
   ],
   "source": [
    "print(df_dataset_import.isnull().sum())\n",
    "print('Total number of NaN in the dataframe: ', df_dataset_import.isnull().sum().sum())"
   ]
  },
  {
   "cell_type": "code",
   "execution_count": 14,
   "metadata": {},
   "outputs": [
    {
     "name": "stdout",
     "output_type": "stream",
     "text": [
      "HeartDisease\n",
      "No     292422\n",
      "Yes     27373\n",
      "dtype: int64\n"
     ]
    }
   ],
   "source": [
    "# Get grouping size for the target variable\n",
    "print(df_dataset_import.groupby('HeartDisease').size())"
   ]
  },
  {
   "cell_type": "markdown",
   "metadata": {},
   "source": [
    "### 1.d) Data Cleaning"
   ]
  },
  {
   "cell_type": "code",
   "execution_count": 15,
   "metadata": {},
   "outputs": [
    {
     "name": "stdout",
     "output_type": "stream",
     "text": [
      "  target    BMI Smoking AlcoholDrinking Stroke  PhysicalHealth  MentalHealth  \\\n",
      "0     No  16.60     Yes              No     No             3.0          30.0   \n",
      "1     No  20.34      No              No    Yes             0.0           0.0   \n",
      "2     No  26.58     Yes              No     No            20.0          30.0   \n",
      "3     No  24.21      No              No     No             0.0           0.0   \n",
      "4     No  23.71      No              No     No            28.0           0.0   \n",
      "\n",
      "  DiffWalking     Sex  AgeCategory   Race Diabetic PhysicalActivity  \\\n",
      "0          No  Female        55-59  White      Yes              Yes   \n",
      "1          No  Female  80 or older  White       No              Yes   \n",
      "2          No    Male        65-69  White      Yes              Yes   \n",
      "3          No  Female        75-79  White       No               No   \n",
      "4         Yes  Female        40-44  White       No              Yes   \n",
      "\n",
      "   GenHealth  SleepTime Asthma KidneyDisease SkinCancer  \n",
      "0  Very good        5.0    Yes            No        Yes  \n",
      "1  Very good        7.0     No            No         No  \n",
      "2       Fair        8.0    Yes            No         No  \n",
      "3       Good        6.0     No            No        Yes  \n",
      "4  Very good        8.0     No            No         No  \n"
     ]
    }
   ],
   "source": [
    "# Standardize the class column to the name of targetVar if required\n",
    "df_dataset_import = df_dataset_import.rename(columns={'HeartDisease': 'target'})\n",
    "\n",
    "# Take a peek at the dataframe after cleaning\n",
    "print(df_dataset_import.head())"
   ]
  },
  {
   "cell_type": "code",
   "execution_count": 16,
   "metadata": {},
   "outputs": [
    {
     "name": "stdout",
     "output_type": "stream",
     "text": [
      "<class 'pandas.core.frame.DataFrame'>\n",
      "RangeIndex: 319795 entries, 0 to 319794\n",
      "Data columns (total 18 columns):\n",
      " #   Column            Non-Null Count   Dtype  \n",
      "---  ------            --------------   -----  \n",
      " 0   target            319795 non-null  object \n",
      " 1   BMI               319795 non-null  float64\n",
      " 2   Smoking           319795 non-null  object \n",
      " 3   AlcoholDrinking   319795 non-null  object \n",
      " 4   Stroke            319795 non-null  object \n",
      " 5   PhysicalHealth    319795 non-null  float64\n",
      " 6   MentalHealth      319795 non-null  float64\n",
      " 7   DiffWalking       319795 non-null  object \n",
      " 8   Sex               319795 non-null  object \n",
      " 9   AgeCategory       319795 non-null  object \n",
      " 10  Race              319795 non-null  object \n",
      " 11  Diabetic          319795 non-null  object \n",
      " 12  PhysicalActivity  319795 non-null  object \n",
      " 13  GenHealth         319795 non-null  object \n",
      " 14  SleepTime         319795 non-null  float64\n",
      " 15  Asthma            319795 non-null  object \n",
      " 16  KidneyDisease     319795 non-null  object \n",
      " 17  SkinCancer        319795 non-null  object \n",
      "dtypes: float64(4), object(14)\n",
      "memory usage: 43.9+ MB\n"
     ]
    }
   ],
   "source": [
    "df_dataset_import.info(verbose=True)"
   ]
  },
  {
   "cell_type": "code",
   "execution_count": 17,
   "metadata": {},
   "outputs": [
    {
     "name": "stdout",
     "output_type": "stream",
     "text": [
      "                 BMI  PhysicalHealth   MentalHealth      SleepTime\n",
      "count  319795.000000    319795.00000  319795.000000  319795.000000\n",
      "mean       28.325399         3.37171       3.898366       7.097075\n",
      "std         6.356100         7.95085       7.955235       1.436007\n",
      "min        12.020000         0.00000       0.000000       1.000000\n",
      "25%        24.030000         0.00000       0.000000       6.000000\n",
      "50%        27.340000         0.00000       0.000000       7.000000\n",
      "75%        31.420000         2.00000       3.000000       8.000000\n",
      "max        94.850000        30.00000      30.000000      24.000000\n"
     ]
    }
   ],
   "source": [
    "print(df_dataset_import.describe())"
   ]
  },
  {
   "cell_type": "code",
   "execution_count": 18,
   "metadata": {},
   "outputs": [
    {
     "name": "stdout",
     "output_type": "stream",
     "text": [
      "target              0\n",
      "BMI                 0\n",
      "Smoking             0\n",
      "AlcoholDrinking     0\n",
      "Stroke              0\n",
      "PhysicalHealth      0\n",
      "MentalHealth        0\n",
      "DiffWalking         0\n",
      "Sex                 0\n",
      "AgeCategory         0\n",
      "Race                0\n",
      "Diabetic            0\n",
      "PhysicalActivity    0\n",
      "GenHealth           0\n",
      "SleepTime           0\n",
      "Asthma              0\n",
      "KidneyDisease       0\n",
      "SkinCancer          0\n",
      "dtype: int64\n",
      "Total number of NaN in the dataframe:  0\n"
     ]
    }
   ],
   "source": [
    "print(df_dataset_import.isnull().sum())\n",
    "print('Total number of NaN in the dataframe: ', df_dataset_import.isnull().sum().sum())"
   ]
  },
  {
   "cell_type": "code",
   "execution_count": 19,
   "metadata": {},
   "outputs": [
    {
     "name": "stdout",
     "output_type": "stream",
     "text": [
      "target\n",
      "No     292422\n",
      "Yes     27373\n",
      "dtype: int64\n"
     ]
    }
   ],
   "source": [
    "# Get grouping size for the target variable\n",
    "print(df_dataset_import.groupby('target').size())"
   ]
  },
  {
   "cell_type": "markdown",
   "metadata": {},
   "source": [
    "### 1.e) Splitting Data into Sets"
   ]
  },
  {
   "cell_type": "code",
   "execution_count": 20,
   "metadata": {},
   "outputs": [
    {
     "name": "stdout",
     "output_type": "stream",
     "text": [
      "df_dataset_import.shape: (319795, 18) df_features_import.shape: (319795, 17) df_target_import.shape: (319795,)\n"
     ]
    }
   ],
   "source": [
    "# Use variable total_column_count to hold the number of columns in the dataframe\n",
    "total_column_count = len(df_dataset_import.columns)\n",
    "\n",
    "# Set up variable total_feature_count for the total number of attribute columns\n",
    "total_feature_count = total_column_count-1\n",
    "\n",
    "# We create attribute-only and target-only datasets (df_features_train and df_target_train)\n",
    "df_target_import = df_dataset_import['target']\n",
    "df_features_import = df_dataset_import.drop(['target'], axis=1)\n",
    "\n",
    "print(\"df_dataset_import.shape: {} df_features_import.shape: {} df_target_import.shape: {}\".format(df_dataset_import.shape, df_features_import.shape, df_target_import.shape))"
   ]
  },
  {
   "cell_type": "code",
   "execution_count": 21,
   "metadata": {},
   "outputs": [
    {
     "name": "stdout",
     "output_type": "stream",
     "text": [
      "df_features_train.shape: (271825, 17) df_target_train.shape: (271825,)\n",
      "df_features_test.shape: (47970, 17) df_target_test.shape: (47970,)\n"
     ]
    }
   ],
   "source": [
    "# Split the data further into training and test datasets\n",
    "df_features_train, df_features_test, df_target_train, df_target_test = train_test_split(df_features_import, df_target_import,\n",
    "                                                                                        test_size=TEST_SET_RATIO, random_state=RNG_SEED,\n",
    "                                                                                        stratify=df_target_import)\n",
    "print(\"df_features_train.shape: {} df_target_train.shape: {}\".format(df_features_train.shape, df_target_train.shape))\n",
    "print(\"df_features_test.shape: {} df_target_test.shape: {}\".format(df_features_test.shape, df_target_test.shape))"
   ]
  },
  {
   "cell_type": "markdown",
   "metadata": {},
   "source": [
    "### 1.f) Set up the parameters for data visualization"
   ]
  },
  {
   "cell_type": "code",
   "execution_count": 22,
   "metadata": {},
   "outputs": [],
   "source": [
    "# Set up the number of row and columns for visualization display. display_rows * display_columns should be >= total_feature_count\n",
    "display_columns = 4\n",
    "if total_feature_count % display_columns == 0 :\n",
    "    display_rows = total_feature_count // display_columns\n",
    "else :\n",
    "    display_rows = (total_feature_count // display_columns) + 1\n",
    "\n",
    "# Set figure width to display the data visualization plots\n",
    "fig_size = plt.rcParams[\"figure.figsize\"]\n",
    "fig_size[0] = display_columns * 4\n",
    "fig_size[1] = display_rows * 4\n",
    "plt.rcParams[\"figure.figsize\"] = fig_size"
   ]
  },
  {
   "cell_type": "code",
   "execution_count": 23,
   "metadata": {},
   "outputs": [],
   "source": [
    "if NOTIFY_STATUS: status_notify(\"Task 1 - Prepare Environment completed! \" + datetime.now().strftime('%a %B %d, %Y %I:%M:%S %p'))"
   ]
  },
  {
   "cell_type": "markdown",
   "metadata": {},
   "source": [
    "## Task 2 - Summarize and Visualize Data"
   ]
  },
  {
   "cell_type": "code",
   "execution_count": 24,
   "metadata": {},
   "outputs": [],
   "source": [
    "if NOTIFY_STATUS: status_notify(\"Task 2 - Summarize and Visualize Data has begun! \" + datetime.now().strftime('%a %B %d, %Y %I:%M:%S %p'))"
   ]
  },
  {
   "cell_type": "code",
   "execution_count": 25,
   "metadata": {},
   "outputs": [
    {
     "data": {
      "image/png": "[encoded data removed]",
      "text/plain": [
       "<Figure size 1152x1440 with 20 Axes>"
      ]
     },
     "metadata": {
      "needs_background": "light"
     },
     "output_type": "display_data"
    }
   ],
   "source": [
    "# Histograms for each attribute\n",
    "df_features_train.plot(kind='hist', subplots=True, layout=(display_rows, display_columns))\n",
    "plt.show()"
   ]
  },
  {
   "cell_type": "code",
   "execution_count": 26,
   "metadata": {},
   "outputs": [
    {
     "data": {
      "image/png": "[encoded data removed]",
      "text/plain": [
       "<Figure size 1152x1440 with 20 Axes>"
      ]
     },
     "metadata": {
      "needs_background": "light"
     },
     "output_type": "display_data"
    }
   ],
   "source": [
    "# Box and Whisker plot for each attribute\n",
    "df_features_train.plot(kind='box', subplots=True, layout=(display_rows, display_columns))\n",
    "plt.show()"
   ]
  },
  {
   "cell_type": "code",
   "execution_count": 27,
   "metadata": {},
   "outputs": [
    {
     "data": {
      "image/png": "[encoded data removed]",
      "text/plain": [
       "<Figure size 1440x1440 with 2 Axes>"
      ]
     },
     "metadata": {
      "needs_background": "light"
     },
     "output_type": "display_data"
    }
   ],
   "source": [
    "# Correlation matrix\n",
    "fig = plt.figure(figsize=(20, 20))\n",
    "correlations = df_features_train.corr(method='pearson')\n",
    "sns.heatmap(correlations, annot=True, cmap=plt.cm.PuBu)\n",
    "plt.show()"
   ]
  },
  {
   "cell_type": "code",
   "execution_count": 28,
   "metadata": {},
   "outputs": [],
   "source": [
    "if NOTIFY_STATUS: status_notify(\"Task 2 - Summarize and Visualize Data completed! \" + datetime.now().strftime('%a %B %d, %Y %I:%M:%S %p'))"
   ]
  },
  {
   "cell_type": "markdown",
   "metadata": {},
   "source": [
    "## Task 3 - Pre-process Data"
   ]
  },
  {
   "cell_type": "code",
   "execution_count": 29,
   "metadata": {},
   "outputs": [],
   "source": [
    "if NOTIFY_STATUS: status_notify(\"Task 3 - Pre-process Data has begun! \" + datetime.now().strftime('%a %B %d, %Y %I:%M:%S %p'))"
   ]
  },
  {
   "cell_type": "markdown",
   "metadata": {},
   "source": [
    "### 3.a) Feature Scaling"
   ]
  },
  {
   "cell_type": "code",
   "execution_count": 30,
   "metadata": {},
   "outputs": [
    {
     "name": "stdout",
     "output_type": "stream",
     "text": [
      "Number of numerical columns: 4\n",
      "Number of categorical columns: 13\n",
      "Total number of columns in the feature dataframe: 17\n"
     ]
    }
   ],
   "source": [
    "# Compose pipeline for the numerical and categorical features (Block #1 of 2)\n",
    "numeric_columns = df_features_train.select_dtypes(include=['int64','float64']).columns\n",
    "numeric_transformer = Pipeline(steps=[\n",
    "    ('imputer', impute.SimpleImputer(strategy=\"constant\", fill_value=0)),\n",
    "    ('scaler', preprocessing.MinMaxScaler())\n",
    "])\n",
    "categorical_columns = df_features_train.select_dtypes(include=['object','bool','category']).columns\n",
    "categorical_transformer = Pipeline(steps=[\n",
    "    ('imputer', impute.SimpleImputer(strategy='constant', fill_value='UKNOWN')),\n",
    "    ('onehot', preprocessing.OneHotEncoder(sparse=False, handle_unknown='ignore'))\n",
    "])\n",
    "\n",
    "print(\"Number of numerical columns:\", len(numeric_columns))\n",
    "print(\"Number of categorical columns:\", len(categorical_columns))\n",
    "print(\"Total number of columns in the feature dataframe:\", df_features_train.shape[1])"
   ]
  },
  {
   "cell_type": "code",
   "execution_count": 31,
   "metadata": {},
   "outputs": [
    {
     "name": "stdout",
     "output_type": "stream",
     "text": [
      "Transformed features from df_features_train.shape: (271825, 17) to array_features_train.shape: (271825, 50)\n"
     ]
    }
   ],
   "source": [
    "# Compose pipeline for the numerical and categorical features (Block #2 of 2)\n",
    "preprocessor = compose.ColumnTransformer(transformers=[\n",
    "    ('num', numeric_transformer, numeric_columns),\n",
    "    ('cat', categorical_transformer, categorical_columns)\n",
    "])\n",
    "\n",
    "# Display the shapes of the training dataset for final inspection\n",
    "array_features_train = preprocessor.fit_transform(df_features_train)\n",
    "print(\"Transformed features from df_features_train.shape: {} to array_features_train.shape: {}\".format(df_features_train.shape, array_features_train.shape))"
   ]
  },
  {
   "cell_type": "markdown",
   "metadata": {},
   "source": [
    "### 3.b) Training Data Balancing"
   ]
  },
  {
   "cell_type": "code",
   "execution_count": 32,
   "metadata": {},
   "outputs": [
    {
     "name": "stdout",
     "output_type": "stream",
     "text": [
      "X_train_imbal.shape: (271825, 50) y_train_imbal.shape: (271825,)\n"
     ]
    }
   ],
   "source": [
    "# Perform SMOTE transformation on the training data (Block #1 of 2)\n",
    "X_train_imbal = array_features_train\n",
    "y_train_imbal = df_target_train.values.ravel()\n",
    "print(\"X_train_imbal.shape: {} y_train_imbal.shape: {}\".format(X_train_imbal.shape, y_train_imbal.shape))"
   ]
  },
  {
   "cell_type": "code",
   "execution_count": 33,
   "metadata": {},
   "outputs": [
    {
     "name": "stdout",
     "output_type": "stream",
     "text": [
      "Original class distribution - 1: 23267 | 0: 248558\n",
      "Resampled class distribution - 1: 62139 | 0: 62139\n"
     ]
    }
   ],
   "source": [
    "# Perform SMOTE transformation on the training data (Block #2 of 2)\n",
    "print ('Original class distribution - 1: {} | 0: {}'.format((y_train_imbal=='Yes').sum(), (y_train_imbal=='No').sum()))\n",
    "over_sample = SMOTE(sampling_strategy=0.25, random_state=RNG_SEED)\n",
    "under_sample = RandomUnderSampler(sampling_strategy=1.0, random_state=RNG_SEED)\n",
    "steps = [('o', over_sample), ('u', under_sample)]\n",
    "sample_pipeline = Pipeline(steps=steps)\n",
    "array_features_train, y_train_balanced = sample_pipeline.fit_resample(X_train_imbal, y_train_imbal)\n",
    "print ('Resampled class distribution - 1: {} | 0: {}'.format((y_train_balanced=='Yes').sum(), (y_train_balanced=='No').sum()))"
   ]
  },
  {
   "cell_type": "markdown",
   "metadata": {},
   "source": [
    "### 3.c) Feature Selection"
   ]
  },
  {
   "cell_type": "code",
   "execution_count": 34,
   "metadata": {},
   "outputs": [],
   "source": [
    "# Not applicable for this iteration of the project"
   ]
  },
  {
   "cell_type": "markdown",
   "metadata": {},
   "source": [
    "### 3.d) Display the Final Datasets for Model-Building"
   ]
  },
  {
   "cell_type": "code",
   "execution_count": 35,
   "metadata": {},
   "outputs": [
    {
     "name": "stdout",
     "output_type": "stream",
     "text": [
      "array_features_train.shape: (124278, 50) array_target_train.shape: (124278,)\n"
     ]
    }
   ],
   "source": [
    "# Finalize the training dataset for the modeling activities\n",
    "label_encoder = preprocessing.LabelEncoder()\n",
    "# array_target_train = label_encoder.fit_transform(df_target_train)\n",
    "array_target_train = label_encoder.fit_transform(y_train_balanced)\n",
    "print(\"array_features_train.shape: {} array_target_train.shape: {}\".format(array_features_train.shape, array_target_train.shape))"
   ]
  },
  {
   "cell_type": "code",
   "execution_count": 36,
   "metadata": {},
   "outputs": [],
   "source": [
    "if NOTIFY_STATUS: status_notify(\"Task 3 - Pre-process Data completed! \" + datetime.now().strftime('%a %B %d, %Y %I:%M:%S %p'))"
   ]
  },
  {
   "cell_type": "markdown",
   "metadata": {},
   "source": [
    "## Task 4 - Train and Tune Models"
   ]
  },
  {
   "cell_type": "code",
   "execution_count": 37,
   "metadata": {},
   "outputs": [],
   "source": [
    "if NOTIFY_STATUS: status_notify(\"Task 4 - Train and Tune Models has begun! \" + datetime.now().strftime('%a %B %d, %Y %I:%M:%S %p'))"
   ]
  },
  {
   "cell_type": "markdown",
   "metadata": {},
   "source": [
    "### 4.a) Set test options and evaluation metric"
   ]
  },
  {
   "cell_type": "code",
   "execution_count": 38,
   "metadata": {},
   "outputs": [],
   "source": [
    "# Set up Algorithms Spot-Checking Array\n",
    "start_time_training = datetime.now()\n",
    "train_models = []\n",
    "train_results = []\n",
    "train_model_names = []\n",
    "train_metrics = []"
   ]
  },
  {
   "cell_type": "code",
   "execution_count": 39,
   "metadata": {},
   "outputs": [],
   "source": [
    "# train_models = [('XGB', XGBClassifier(random_state=RNG_SEED, n_jobs=N_JOBS, objective='binary:logistic', use_label_encoder=False, eval_metric='logloss'))]\n",
    "train_models.append(('XGB', XGBClassifier(random_state=RNG_SEED, n_jobs=N_JOBS, objective='binary:logistic', use_label_encoder=False, eval_metric='logloss', tree_method='gpu_hist')))"
   ]
  },
  {
   "cell_type": "code",
   "execution_count": 40,
   "metadata": {},
   "outputs": [
    {
     "name": "stderr",
     "output_type": "stream",
     "text": [
      "[Parallel(n_jobs=2)]: Using backend LokyBackend with 2 concurrent workers.\n"
     ]
    },
    {
     "name": "stdout",
     "output_type": "stream",
     "text": [
      "XGB: 0.926870 (0.001977)\n",
      "XGBClassifier(base_score=None, booster=None, colsample_bylevel=None,\n",
      "              colsample_bynode=None, colsample_bytree=None,\n",
      "              enable_categorical=False, eval_metric='logloss', gamma=None,\n",
      "              gpu_id=None, importance_type=None, interaction_constraints=None,\n",
      "              learning_rate=None, max_delta_step=None, max_depth=None,\n",
      "              min_child_weight=None, missing=nan, monotone_constraints=None,\n",
      "              n_estimators=100, n_jobs=2, num_parallel_tree=None,\n",
      "              predictor=None, random_state=888, reg_alpha=None, reg_lambda=None,\n",
      "              scale_pos_weight=None, subsample=None, tree_method='gpu_hist',\n",
      "              use_label_encoder=False, validate_parameters=None,\n",
      "              verbosity=None)\n",
      "Model training time: 0:00:04.625118 \n",
      "\n",
      "Average metrics (roc_auc) from all models: 0.9268698873192193\n",
      "Total training time for all models: 0:00:04.636100\n"
     ]
    },
    {
     "name": "stderr",
     "output_type": "stream",
     "text": [
      "[Parallel(n_jobs=2)]: Done   5 out of   5 | elapsed:    4.5s finished\n"
     ]
    }
   ],
   "source": [
    "# Generate model in turn\n",
    "for name, model in train_models:\n",
    "    if NOTIFY_STATUS: status_notify(\"Algorithm \"+name+\" modeling has begun! \" + datetime.now().strftime('%a %B %d, %Y %I:%M:%S %p'))\n",
    "    start_time_module = datetime.now()\n",
    "    kfold = StratifiedKFold(n_splits=N_FOLDS, shuffle=True, random_state=RNG_SEED)\n",
    "    cv_results = cross_val_score(model, array_features_train, array_target_train, cv=kfold, scoring=SCORING_METRIC, n_jobs=N_JOBS, verbose=1)\n",
    "    train_results.append(cv_results)\n",
    "    train_model_names.append(name)\n",
    "    train_metrics.append(cv_results.mean())\n",
    "    print(\"%s: %f (%f)\" % (name, cv_results.mean(), cv_results.std()))\n",
    "    print(model)\n",
    "    print ('Model training time:', (datetime.now() - start_time_module), '\\n')\n",
    "    if NOTIFY_STATUS: status_notify(\"Algorithm \"+name+\" modeling completed! \" + datetime.now().strftime('%a %B %d, %Y %I:%M:%S %p'))\n",
    "print ('Average metrics (' + SCORING_METRIC + ') from all models:', np.mean(train_metrics))\n",
    "print ('Total training time for all models:', (datetime.now() - start_time_training))"
   ]
  },
  {
   "cell_type": "markdown",
   "metadata": {},
   "source": [
    "### 4.b) Algorithm Tuning"
   ]
  },
  {
   "cell_type": "code",
   "execution_count": 41,
   "metadata": {},
   "outputs": [],
   "source": [
    "# Set up the comparison array\n",
    "tune_results = []\n",
    "tune_model_names = []"
   ]
  },
  {
   "cell_type": "code",
   "execution_count": 42,
   "metadata": {},
   "outputs": [
    {
     "name": "stdout",
     "output_type": "stream",
     "text": [
      "Fitting 5 folds for each of 90 candidates, totalling 450 fits\n"
     ]
    },
    {
     "name": "stderr",
     "output_type": "stream",
     "text": [
      "/usr/local/lib/python3.8/dist-packages/xgboost/compat.py:36: FutureWarning: pandas.Int64Index is deprecated and will be removed from pandas in a future version. Use pandas.Index with the appropriate dtype instead.\n",
      "  from pandas import MultiIndex, Int64Index\n",
      "/usr/local/lib/python3.8/dist-packages/joblib/externals/loky/process_executor.py:702: UserWarning: A worker stopped while some jobs were given to the executor. This can be caused by a too short worker timeout or by a memory leak.\n",
      "  warnings.warn(\n",
      "/usr/local/lib/python3.8/dist-packages/xgboost/compat.py:36: FutureWarning: pandas.Int64Index is deprecated and will be removed from pandas in a future version. Use pandas.Index with the appropriate dtype instead.\n",
      "  from pandas import MultiIndex, Int64Index\n"
     ]
    },
    {
     "name": "stdout",
     "output_type": "stream",
     "text": [
      "Best: 0.928110 using {'max_depth': 3, 'min_child_weight': 2, 'n_estimators': 500}\n",
      "0.921034 (0.002229) with: {'max_depth': 3, 'min_child_weight': 1, 'n_estimators': 100}\n",
      "0.926344 (0.002065) with: {'max_depth': 3, 'min_child_weight': 1, 'n_estimators': 200}\n",
      "0.927563 (0.001997) with: {'max_depth': 3, 'min_child_weight': 1, 'n_estimators': 300}\n",
      "0.927941 (0.002012) with: {'max_depth': 3, 'min_child_weight': 1, 'n_estimators': 400}\n",
      "0.928101 (0.002079) with: {'max_depth': 3, 'min_child_weight': 1, 'n_estimators': 500}\n",
      "0.928075 (0.002012) with: {'max_depth': 3, 'min_child_weight': 1, 'n_estimators': 600}\n",
      "0.927942 (0.001982) with: {'max_depth': 3, 'min_child_weight': 1, 'n_estimators': 700}\n",
      "0.927809 (0.002017) with: {'max_depth': 3, 'min_child_weight': 1, 'n_estimators': 800}\n",
      "0.927684 (0.002030) with: {'max_depth': 3, 'min_child_weight': 1, 'n_estimators': 900}\n",
      "0.927577 (0.002004) with: {'max_depth': 3, 'min_child_weight': 1, 'n_estimators': 1000}\n",
      "0.921072 (0.002103) with: {'max_depth': 3, 'min_child_weight': 2, 'n_estimators': 100}\n",
      "0.926464 (0.001926) with: {'max_depth': 3, 'min_child_weight': 2, 'n_estimators': 200}\n",
      "0.927723 (0.002014) with: {'max_depth': 3, 'min_child_weight': 2, 'n_estimators': 300}\n",
      "0.928057 (0.002054) with: {'max_depth': 3, 'min_child_weight': 2, 'n_estimators': 400}\n",
      "0.928110 (0.002021) with: {'max_depth': 3, 'min_child_weight': 2, 'n_estimators': 500}\n",
      "0.928102 (0.001973) with: {'max_depth': 3, 'min_child_weight': 2, 'n_estimators': 600}\n",
      "0.928014 (0.001977) with: {'max_depth': 3, 'min_child_weight': 2, 'n_estimators': 700}\n",
      "0.927881 (0.001964) with: {'max_depth': 3, 'min_child_weight': 2, 'n_estimators': 800}\n",
      "0.927693 (0.001916) with: {'max_depth': 3, 'min_child_weight': 2, 'n_estimators': 900}\n",
      "0.927551 (0.001941) with: {'max_depth': 3, 'min_child_weight': 2, 'n_estimators': 1000}\n",
      "0.921123 (0.001756) with: {'max_depth': 3, 'min_child_weight': 3, 'n_estimators': 100}\n",
      "0.926571 (0.002025) with: {'max_depth': 3, 'min_child_weight': 3, 'n_estimators': 200}\n",
      "0.927749 (0.002020) with: {'max_depth': 3, 'min_child_weight': 3, 'n_estimators': 300}\n",
      "0.928041 (0.002031) with: {'max_depth': 3, 'min_child_weight': 3, 'n_estimators': 400}\n",
      "0.928036 (0.002091) with: {'max_depth': 3, 'min_child_weight': 3, 'n_estimators': 500}\n",
      "0.927952 (0.001981) with: {'max_depth': 3, 'min_child_weight': 3, 'n_estimators': 600}\n",
      "0.927845 (0.001985) with: {'max_depth': 3, 'min_child_weight': 3, 'n_estimators': 700}\n",
      "0.927705 (0.002030) with: {'max_depth': 3, 'min_child_weight': 3, 'n_estimators': 800}\n",
      "0.927535 (0.001984) with: {'max_depth': 3, 'min_child_weight': 3, 'n_estimators': 900}\n",
      "0.927359 (0.002013) with: {'max_depth': 3, 'min_child_weight': 3, 'n_estimators': 1000}\n",
      "0.926870 (0.001977) with: {'max_depth': 6, 'min_child_weight': 1, 'n_estimators': 100}\n",
      "0.926318 (0.002028) with: {'max_depth': 6, 'min_child_weight': 1, 'n_estimators': 200}\n",
      "0.925087 (0.001945) with: {'max_depth': 6, 'min_child_weight': 1, 'n_estimators': 300}\n",
      "0.923874 (0.002027) with: {'max_depth': 6, 'min_child_weight': 1, 'n_estimators': 400}\n",
      "0.922561 (0.002061) with: {'max_depth': 6, 'min_child_weight': 1, 'n_estimators': 500}\n",
      "0.921463 (0.002009) with: {'max_depth': 6, 'min_child_weight': 1, 'n_estimators': 600}\n",
      "0.920409 (0.002144) with: {'max_depth': 6, 'min_child_weight': 1, 'n_estimators': 700}\n",
      "0.919382 (0.002283) with: {'max_depth': 6, 'min_child_weight': 1, 'n_estimators': 800}\n",
      "0.918552 (0.002298) with: {'max_depth': 6, 'min_child_weight': 1, 'n_estimators': 900}\n",
      "0.917728 (0.002322) with: {'max_depth': 6, 'min_child_weight': 1, 'n_estimators': 1000}\n",
      "0.926973 (0.002024) with: {'max_depth': 6, 'min_child_weight': 2, 'n_estimators': 100}\n",
      "0.926623 (0.001955) with: {'max_depth': 6, 'min_child_weight': 2, 'n_estimators': 200}\n",
      "0.925268 (0.002045) with: {'max_depth': 6, 'min_child_weight': 2, 'n_estimators': 300}\n",
      "0.923673 (0.002055) with: {'max_depth': 6, 'min_child_weight': 2, 'n_estimators': 400}\n",
      "0.922446 (0.001946) with: {'max_depth': 6, 'min_child_weight': 2, 'n_estimators': 500}\n",
      "0.921288 (0.002047) with: {'max_depth': 6, 'min_child_weight': 2, 'n_estimators': 600}\n",
      "0.920131 (0.001942) with: {'max_depth': 6, 'min_child_weight': 2, 'n_estimators': 700}\n",
      "0.919151 (0.002038) with: {'max_depth': 6, 'min_child_weight': 2, 'n_estimators': 800}\n",
      "0.918293 (0.002087) with: {'max_depth': 6, 'min_child_weight': 2, 'n_estimators': 900}\n",
      "0.917490 (0.002121) with: {'max_depth': 6, 'min_child_weight': 2, 'n_estimators': 1000}\n",
      "0.926846 (0.001992) with: {'max_depth': 6, 'min_child_weight': 3, 'n_estimators': 100}\n",
      "0.926417 (0.001891) with: {'max_depth': 6, 'min_child_weight': 3, 'n_estimators': 200}\n",
      "0.925008 (0.001940) with: {'max_depth': 6, 'min_child_weight': 3, 'n_estimators': 300}\n",
      "0.923536 (0.001933) with: {'max_depth': 6, 'min_child_weight': 3, 'n_estimators': 400}\n",
      "0.922373 (0.001941) with: {'max_depth': 6, 'min_child_weight': 3, 'n_estimators': 500}\n",
      "0.921085 (0.002096) with: {'max_depth': 6, 'min_child_weight': 3, 'n_estimators': 600}\n",
      "0.919935 (0.002062) with: {'max_depth': 6, 'min_child_weight': 3, 'n_estimators': 700}\n",
      "0.918992 (0.002036) with: {'max_depth': 6, 'min_child_weight': 3, 'n_estimators': 800}\n",
      "0.918063 (0.002127) with: {'max_depth': 6, 'min_child_weight': 3, 'n_estimators': 900}\n",
      "0.917339 (0.002121) with: {'max_depth': 6, 'min_child_weight': 3, 'n_estimators': 1000}\n",
      "0.925493 (0.001855) with: {'max_depth': 9, 'min_child_weight': 1, 'n_estimators': 100}\n",
      "0.922523 (0.001863) with: {'max_depth': 9, 'min_child_weight': 1, 'n_estimators': 200}\n",
      "0.920080 (0.002028) with: {'max_depth': 9, 'min_child_weight': 1, 'n_estimators': 300}\n",
      "0.918206 (0.002106) with: {'max_depth': 9, 'min_child_weight': 1, 'n_estimators': 400}\n",
      "0.916757 (0.002039) with: {'max_depth': 9, 'min_child_weight': 1, 'n_estimators': 500}\n",
      "0.915617 (0.002047) with: {'max_depth': 9, 'min_child_weight': 1, 'n_estimators': 600}\n",
      "0.914632 (0.002012) with: {'max_depth': 9, 'min_child_weight': 1, 'n_estimators': 700}\n",
      "0.913828 (0.002053) with: {'max_depth': 9, 'min_child_weight': 1, 'n_estimators': 800}\n",
      "0.913236 (0.002016) with: {'max_depth': 9, 'min_child_weight': 1, 'n_estimators': 900}\n",
      "0.912646 (0.002057) with: {'max_depth': 9, 'min_child_weight': 1, 'n_estimators': 1000}\n",
      "0.925587 (0.001923) with: {'max_depth': 9, 'min_child_weight': 2, 'n_estimators': 100}\n",
      "0.922441 (0.001796) with: {'max_depth': 9, 'min_child_weight': 2, 'n_estimators': 200}\n",
      "0.919593 (0.001876) with: {'max_depth': 9, 'min_child_weight': 2, 'n_estimators': 300}\n",
      "0.917438 (0.002089) with: {'max_depth': 9, 'min_child_weight': 2, 'n_estimators': 400}\n",
      "0.915795 (0.001966) with: {'max_depth': 9, 'min_child_weight': 2, 'n_estimators': 500}\n",
      "0.914632 (0.002068) with: {'max_depth': 9, 'min_child_weight': 2, 'n_estimators': 600}\n",
      "0.913651 (0.002078) with: {'max_depth': 9, 'min_child_weight': 2, 'n_estimators': 700}\n",
      "0.912907 (0.002019) with: {'max_depth': 9, 'min_child_weight': 2, 'n_estimators': 800}\n",
      "0.912223 (0.002094) with: {'max_depth': 9, 'min_child_weight': 2, 'n_estimators': 900}\n",
      "0.911678 (0.002092) with: {'max_depth': 9, 'min_child_weight': 2, 'n_estimators': 1000}\n",
      "0.925708 (0.001946) with: {'max_depth': 9, 'min_child_weight': 3, 'n_estimators': 100}\n",
      "0.922282 (0.002104) with: {'max_depth': 9, 'min_child_weight': 3, 'n_estimators': 200}\n",
      "0.919564 (0.002146) with: {'max_depth': 9, 'min_child_weight': 3, 'n_estimators': 300}\n",
      "0.917754 (0.002146) with: {'max_depth': 9, 'min_child_weight': 3, 'n_estimators': 400}\n",
      "0.916026 (0.002162) with: {'max_depth': 9, 'min_child_weight': 3, 'n_estimators': 500}\n",
      "0.914866 (0.002131) with: {'max_depth': 9, 'min_child_weight': 3, 'n_estimators': 600}\n",
      "0.913757 (0.002357) with: {'max_depth': 9, 'min_child_weight': 3, 'n_estimators': 700}\n",
      "0.912928 (0.002283) with: {'max_depth': 9, 'min_child_weight': 3, 'n_estimators': 800}\n",
      "0.912224 (0.002243) with: {'max_depth': 9, 'min_child_weight': 3, 'n_estimators': 900}\n",
      "0.911501 (0.002277) with: {'max_depth': 9, 'min_child_weight': 3, 'n_estimators': 1000}\n",
      "Model training time: 0:29:23.492704\n"
     ]
    }
   ],
   "source": [
    "# Tuning XGBoost n_estimators, max_depth, and min_child_weight parameters\n",
    "start_time_Module = datetime.now()\n",
    "if NOTIFY_STATUS: status_notify(\"Algorithm tuning iteration #1 has begun! \" + datetime.now().strftime('%a %B %d, %Y %I:%M:%S %p'))\n",
    "\n",
    "# tune_model1 = XGBClassifier(random_state=RNG_SEED, n_jobs=N_JOBS, objective='binary:logistic', use_label_encoder=False, eval_metric='logloss')\n",
    "tune_model1 = XGBClassifier(random_state=RNG_SEED, n_jobs=N_JOBS, objective='binary:logistic', use_label_encoder=False, eval_metric='logloss', tree_method='gpu_hist')\n",
    "tune_model_names.append('XGB_1')\n",
    "paramGrid1 = dict(n_estimators=range(100, 1001, 100),\n",
    "                  max_depth=np.array([3, 6, 9]),\n",
    "                  min_child_weight=np.array([1, 2, 3]))\n",
    "\n",
    "kfold = StratifiedKFold(n_splits=N_FOLDS, shuffle=True, random_state=RNG_SEED)\n",
    "grid1 = GridSearchCV(estimator=tune_model1, param_grid=paramGrid1, scoring=SCORING_METRIC, cv=kfold, n_jobs=N_JOBS, verbose=1)\n",
    "grid_result1 = grid1.fit(array_features_train, array_target_train)\n",
    "\n",
    "print(\"Best: %f using %s\" % (grid_result1.best_score_, grid_result1.best_params_))\n",
    "tune_results.append(grid_result1.cv_results_['mean_test_score'])\n",
    "means = grid_result1.cv_results_['mean_test_score']\n",
    "stds = grid_result1.cv_results_['std_test_score']\n",
    "params = grid_result1.cv_results_['params']\n",
    "for mean, stdev, param in zip(means, stds, params):\n",
    "    print(\"%f (%f) with: %r\" % (mean, stdev, param))\n",
    "print ('Model training time:', (datetime.now() - start_time_Module))\n",
    "if NOTIFY_STATUS: status_notify(\"Algorithm tuning iteration #1 completed! \" + datetime.now().strftime('%a %B %d, %Y %I:%M:%S %p'))"
   ]
  },
  {
   "cell_type": "code",
   "execution_count": 43,
   "metadata": {},
   "outputs": [
    {
     "name": "stdout",
     "output_type": "stream",
     "text": [
      "Best max_depth parameter: 3\n",
      "Best min_child_weight parameter: 2\n",
      "Best n_estimators parameter: 500\n"
     ]
    }
   ],
   "source": [
    "BEST_MAX_DEPTH = grid_result1.best_params_['max_depth']\n",
    "BEST_MIN_CHILD_WEIGHT = grid_result1.best_params_['min_child_weight']\n",
    "BEST_N_ESTIMATORS = grid_result1.best_params_['n_estimators']\n",
    "print('Best max_depth parameter:', BEST_MAX_DEPTH)\n",
    "print('Best min_child_weight parameter:', BEST_MIN_CHILD_WEIGHT)\n",
    "print('Best n_estimators parameter:', BEST_N_ESTIMATORS)"
   ]
  },
  {
   "cell_type": "code",
   "execution_count": 44,
   "metadata": {},
   "outputs": [
    {
     "name": "stdout",
     "output_type": "stream",
     "text": [
      "Fitting 5 folds for each of 16 candidates, totalling 80 fits\n",
      "Best: 0.928271 using {'colsample_bytree': 0.9, 'subsample': 1.0}\n",
      "0.927425 (0.002395) with: {'colsample_bytree': 0.7, 'subsample': 0.7}\n",
      "0.927710 (0.002121) with: {'colsample_bytree': 0.7, 'subsample': 0.8}\n",
      "0.927980 (0.002077) with: {'colsample_bytree': 0.7, 'subsample': 0.9}\n",
      "0.928271 (0.002038) with: {'colsample_bytree': 0.7, 'subsample': 1.0}\n",
      "0.927402 (0.002144) with: {'colsample_bytree': 0.8, 'subsample': 0.7}\n",
      "0.927818 (0.002019) with: {'colsample_bytree': 0.8, 'subsample': 0.8}\n",
      "0.927899 (0.002150) with: {'colsample_bytree': 0.8, 'subsample': 0.9}\n",
      "0.928138 (0.002100) with: {'colsample_bytree': 0.8, 'subsample': 1.0}\n",
      "0.927580 (0.002165) with: {'colsample_bytree': 0.9, 'subsample': 0.7}\n",
      "0.927709 (0.002027) with: {'colsample_bytree': 0.9, 'subsample': 0.8}\n",
      "0.928085 (0.002140) with: {'colsample_bytree': 0.9, 'subsample': 0.9}\n",
      "0.928271 (0.002140) with: {'colsample_bytree': 0.9, 'subsample': 1.0}\n",
      "0.927471 (0.002141) with: {'colsample_bytree': 1.0, 'subsample': 0.7}\n",
      "0.927772 (0.001988) with: {'colsample_bytree': 1.0, 'subsample': 0.8}\n",
      "0.927980 (0.002170) with: {'colsample_bytree': 1.0, 'subsample': 0.9}\n",
      "0.928110 (0.002021) with: {'colsample_bytree': 1.0, 'subsample': 1.0}\n",
      "Model training time: 0:01:19.165029\n"
     ]
    }
   ],
   "source": [
    "# Tuning XGBoost subsample and colsample_bytree parameters\n",
    "start_time_Module = datetime.now()\n",
    "if NOTIFY_STATUS: status_notify(\"Algorithm tuning iteration #2 has begun! \" + datetime.now().strftime('%a %B %d, %Y %I:%M:%S %p'))\n",
    "\n",
    "# tune_model2 = XGBClassifier(n_estimators=BEST_N_ESTIMATORS, max_depth=BEST_MAX_DEPTH, min_child_weight=BEST_MIN_CHILD_WEIGHT,\n",
    "#                             random_state=RNG_SEED, n_jobs=N_JOBS, objective='binary:logistic', use_label_encoder=False, eval_metric='logloss')\n",
    "tune_model2 = XGBClassifier(n_estimators=BEST_N_ESTIMATORS, max_depth=BEST_MAX_DEPTH, min_child_weight=BEST_MIN_CHILD_WEIGHT,\n",
    "                            random_state=RNG_SEED, n_jobs=N_JOBS, objective='binary:logistic', use_label_encoder=False, eval_metric='logloss', tree_method='gpu_hist')\n",
    "tune_model_names.append('XGB_2')\n",
    "paramGrid2 = dict(subsample=np.array([0.7, 0.8, 0.9, 1.0]),\n",
    "                  colsample_bytree=np.array([0.7, 0.8, 0.9, 1.0]))\n",
    "\n",
    "kfold = StratifiedKFold(n_splits=N_FOLDS, shuffle=True, random_state=RNG_SEED)\n",
    "grid2 = GridSearchCV(estimator=tune_model2, param_grid=paramGrid2, scoring=SCORING_METRIC, cv=kfold, n_jobs=N_JOBS, verbose=1)\n",
    "grid_result2 = grid2.fit(array_features_train, array_target_train)\n",
    "\n",
    "print(\"Best: %f using %s\" % (grid_result2.best_score_, grid_result2.best_params_))\n",
    "tune_results.append(grid_result2.cv_results_['mean_test_score'])\n",
    "means = grid_result2.cv_results_['mean_test_score']\n",
    "stds = grid_result2.cv_results_['std_test_score']\n",
    "params = grid_result2.cv_results_['params']\n",
    "for mean, stdev, param in zip(means, stds, params):\n",
    "    print(\"%f (%f) with: %r\" % (mean, stdev, param))\n",
    "print ('Model training time:',(datetime.now() - start_time_Module))\n",
    "if NOTIFY_STATUS: status_notify(\"Algorithm tuning iteration #2 completed! \" + datetime.now().strftime('%a %B %d, %Y %I:%M:%S %p'))"
   ]
  },
  {
   "cell_type": "code",
   "execution_count": 45,
   "metadata": {},
   "outputs": [
    {
     "name": "stdout",
     "output_type": "stream",
     "text": [
      "Best colsample_bytree parameter: 0.9\n",
      "Best subsample parameter: 1.0\n"
     ]
    }
   ],
   "source": [
    "BEST_COLSAMPLE_BYTREE = grid_result2.best_params_['colsample_bytree']\n",
    "BEST_SUBSAMPLE = grid_result2.best_params_['subsample']\n",
    "print('Best colsample_bytree parameter:', BEST_COLSAMPLE_BYTREE)\n",
    "print('Best subsample parameter:', BEST_SUBSAMPLE)"
   ]
  },
  {
   "cell_type": "markdown",
   "metadata": {},
   "source": [
    "### 4.c) Compare Algorithms After Tuning"
   ]
  },
  {
   "cell_type": "code",
   "execution_count": 46,
   "metadata": {},
   "outputs": [
    {
     "data": {
      "image/png": "[encoded data removed]",
      "text/plain": [
       "<Figure size 1152x864 with 1 Axes>"
      ]
     },
     "metadata": {
      "needs_background": "light"
     },
     "output_type": "display_data"
    }
   ],
   "source": [
    "fig = plt.figure(figsize=(16,12))\n",
    "fig.suptitle('Algorithm Comparison - Post Tuning')\n",
    "ax = fig.add_subplot(111)\n",
    "plt.boxplot(tune_results)\n",
    "ax.set_xticklabels(tune_model_names)\n",
    "plt.show()"
   ]
  },
  {
   "cell_type": "code",
   "execution_count": 47,
   "metadata": {
    "jupyter": {
     "outputs_hidden": false
    },
    "pycharm": {
     "name": "#%%\n"
    }
   },
   "outputs": [],
   "source": [
    "if NOTIFY_STATUS: status_notify(\"Task 4 - Train and Tune Models completed! \" + datetime.now().strftime('%a %B %d, %Y %I:%M:%S %p'))"
   ]
  },
  {
   "cell_type": "markdown",
   "metadata": {},
   "source": [
    "## Task 5 - Finalize Model and Make Predictions"
   ]
  },
  {
   "cell_type": "code",
   "execution_count": 48,
   "metadata": {},
   "outputs": [],
   "source": [
    "if NOTIFY_STATUS: status_notify(\"Task 5 - Finalize Model and Make Predictions has begun! \" + datetime.now().strftime('%a %B %d, %Y %I:%M:%S %p'))"
   ]
  },
  {
   "cell_type": "markdown",
   "metadata": {},
   "source": [
    "### 5.a) Train the Final Model"
   ]
  },
  {
   "cell_type": "code",
   "execution_count": 49,
   "metadata": {},
   "outputs": [
    {
     "name": "stdout",
     "output_type": "stream",
     "text": [
      "XGBClassifier(base_score=0.5, booster='gbtree', colsample_bylevel=1,\n",
      "              colsample_bynode=1, colsample_bytree=0.9,\n",
      "              enable_categorical=False, eval_metric='logloss', gamma=0,\n",
      "              gpu_id=0, importance_type=None, interaction_constraints='',\n",
      "              learning_rate=0.300000012, max_delta_step=0, max_depth=3,\n",
      "              min_child_weight=2, missing=nan, monotone_constraints='()',\n",
      "              n_estimators=500, n_jobs=2, num_parallel_tree=1, predictor='auto',\n",
      "              random_state=888, reg_alpha=0, reg_lambda=1, scale_pos_weight=1,\n",
      "              subsample=1.0, tree_method='gpu_hist', use_label_encoder=False,\n",
      "              validate_parameters=1, verbosity=None)\n"
     ]
    }
   ],
   "source": [
    "# final_model = XGBClassifier(n_estimators=BEST_N_ESTIMATORS, max_depth=BEST_MAX_DEPTH, min_child_weight=BEST_MIN_CHILD_WEIGHT,\n",
    "#                             colsample_bytree=BEST_COLSAMPLE_BYTREE, subsample=BEST_SUBSAMPLE,\n",
    "#                             random_state=RNG_SEED, n_jobs=N_JOBS, objective='binary:logistic', use_label_encoder=False, eval_metric='logloss')\n",
    "final_model = XGBClassifier(n_estimators=BEST_N_ESTIMATORS, max_depth=BEST_MAX_DEPTH, min_child_weight=BEST_MIN_CHILD_WEIGHT,\n",
    "                            colsample_bytree=BEST_COLSAMPLE_BYTREE, subsample=BEST_SUBSAMPLE,\n",
    "                            random_state=RNG_SEED, n_jobs=N_JOBS, objective='binary:logistic', use_label_encoder=False, eval_metric='logloss', tree_method='gpu_hist')\n",
    "final_model.fit(array_features_train, array_target_train)\n",
    "print(final_model)"
   ]
  },
  {
   "cell_type": "markdown",
   "metadata": {},
   "source": [
    "### 5.b) Load Test Dataset and Make Predictions"
   ]
  },
  {
   "cell_type": "code",
   "execution_count": 50,
   "metadata": {
    "jupyter": {
     "outputs_hidden": false
    },
    "pycharm": {
     "name": "#%%\n"
    }
   },
   "outputs": [
    {
     "name": "stdout",
     "output_type": "stream",
     "text": [
      "array_features_test.shape: (47970, 50) array_target_test.shape: (47970,)\n"
     ]
    }
   ],
   "source": [
    "# Finalize the test dataset for the testing activities\n",
    "array_features_test = preprocessor.transform(df_features_test)\n",
    "array_target_test = label_encoder.transform(df_target_test)\n",
    "print(\"array_features_test.shape: {} array_target_test.shape: {}\".format(array_features_test.shape, array_target_test.shape))"
   ]
  },
  {
   "cell_type": "code",
   "execution_count": 51,
   "metadata": {
    "jupyter": {
     "outputs_hidden": false
    },
    "pycharm": {
     "name": "#%%\n"
    }
   },
   "outputs": [
    {
     "name": "stdout",
     "output_type": "stream",
     "text": [
      "[0 1 0 ... 0 0 0]\n"
     ]
    }
   ],
   "source": [
    "# Make batched predictions\n",
    "test_predictions = final_model.predict(array_features_test)\n",
    "print(test_predictions)"
   ]
  },
  {
   "cell_type": "code",
   "execution_count": 52,
   "metadata": {},
   "outputs": [
    {
     "name": "stdout",
     "output_type": "stream",
     "text": [
      "Accuracy Score: 0.8375026057952887\n",
      "ROC/AUC Score: 0.72251639904735 \n",
      "\n",
      "[[37778  6086]\n",
      " [ 1709  2397]] \n",
      "\n",
      "              precision    recall  f1-score   support\n",
      "\n",
      "           0       0.96      0.86      0.91     43864\n",
      "           1       0.28      0.58      0.38      4106\n",
      "\n",
      "    accuracy                           0.84     47970\n",
      "   macro avg       0.62      0.72      0.64     47970\n",
      "weighted avg       0.90      0.84      0.86     47970\n",
      "\n"
     ]
    }
   ],
   "source": [
    "print('Accuracy Score:', accuracy_score(array_target_test, test_predictions))\n",
    "print('ROC/AUC Score:', roc_auc_score(array_target_test, test_predictions), '\\n')\n",
    "print(confusion_matrix(array_target_test, test_predictions), '\\n')\n",
    "print(classification_report(array_target_test, test_predictions))"
   ]
  },
  {
   "cell_type": "code",
   "execution_count": 53,
   "metadata": {},
   "outputs": [],
   "source": [
    "if NOTIFY_STATUS: status_notify(\"Task 5 - Finalize Model and Make Predictions completed! \" + datetime.now().strftime('%a %B %d, %Y %I:%M:%S %p'))"
   ]
  },
  {
   "cell_type": "code",
   "execution_count": 54,
   "metadata": {},
   "outputs": [
    {
     "name": "stdout",
     "output_type": "stream",
     "text": [
      "Total time for the script: 0:31:09.760392\n"
     ]
    },
    {
     "name": "stderr",
     "output_type": "stream",
     "text": [
      "/usr/local/lib/python3.8/dist-packages/xgboost/compat.py:36: FutureWarning: pandas.Int64Index is deprecated and will be removed from pandas in a future version. Use pandas.Index with the appropriate dtype instead.\n",
      "  from pandas import MultiIndex, Int64Index\n",
      "/usr/local/lib/python3.8/dist-packages/xgboost/compat.py:36: FutureWarning: pandas.Int64Index is deprecated and will be removed from pandas in a future version. Use pandas.Index with the appropriate dtype instead.\n",
      "  from pandas import MultiIndex, Int64Index\n"
     ]
    }
   ],
   "source": [
    "print ('Total time for the script:',(datetime.now() - START_TIME_SCRIPT))"
   ]
  }
 ],
 "metadata": {
  "kernelspec": {
   "display_name": "Python 3 (ipykernel)",
   "language": "python",
   "name": "python3"
  },
  "language_info": {
   "codemirror_mode": {
    "name": "ipython",
    "version": 3
   },
   "file_extension": ".py",
   "mimetype": "text/x-python",
   "name": "python",
   "nbconvert_exporter": "python",
   "pygments_lexer": "ipython3",
   "version": "3.8.10"
  }
 },
 "nbformat": 4,
 "nbformat_minor": 4
}

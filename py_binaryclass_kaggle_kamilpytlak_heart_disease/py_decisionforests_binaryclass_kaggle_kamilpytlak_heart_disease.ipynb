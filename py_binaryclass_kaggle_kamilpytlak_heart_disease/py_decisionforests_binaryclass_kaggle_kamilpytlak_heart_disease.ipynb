{
 "cells": [
  {
   "cell_type": "markdown",
   "metadata": {
    "id": "2sQmc7MlwXit"
   },
   "source": [
    "# Binary-Class Model for Heart Disease Key Indicators Using TensorFlow Decision Forests\n",
    "### David Lowe\n",
    "### March 3, 2022\n",
    "\n",
    "Template Credit: Adapted from a template made available by Dr. Jason Brownlee of Machine Learning Mastery. [https://machinelearningmastery.com/]\n",
    "\n",
    "SUMMARY: This project aims to construct a predictive model using various machine learning algorithms and document the end-to-end steps using a template. The Heart Disease Key Indicators dataset is a binary-class modeling situation where we attempt to predict one of two possible outcomes.\n",
    "\n",
    "INTRODUCTION: This dataset comes from the CDC's Behavioral Risk Factor Surveillance System (BRFSS) study, which conducts annual telephone surveys to gather data on the health status of U.S. residents. The original dataset consists of 401,958 rows and 279 columns. However, the Kaggle project owner selected some of the most relevant attributes from the dataset and cleaned it up for machine learning projects.\n",
    "\n",
    "ANALYSIS: The performance of the preliminary Gradient Boosted Trees model achieved a ROC-AUC benchmark of 88.47% on the training dataset. When we applied the finalized model to the test dataset, the model achieved a ROC-AUC score of 83.17%.\n",
    "\n",
    "CONCLUSION: In this iteration, the TensorFlow Decision Forests model appeared to be a suitable algorithm for modeling this dataset.\n",
    "\n",
    "Dataset Used: Personal Key Indicators of Heart Disease Dataset\n",
    "\n",
    "Dataset ML Model: Binary classification with numerical and categorical features\n",
    "\n",
    "Dataset Reference: https://www.kaggle.com/kamilpytlak/personal-key-indicators-of-heart-disease\n",
    "\n",
    "One source of potential performance benchmarks: https://www.kaggle.com/kamilpytlak/personal-key-indicators-of-heart-disease/code"
   ]
  },
  {
   "cell_type": "markdown",
   "metadata": {
    "id": "2pu8nWBYwXi9"
   },
   "source": [
    "## Task 1 - Prepare Environment"
   ]
  },
  {
   "cell_type": "code",
   "execution_count": 1,
   "metadata": {
    "colab": {
     "base_uri": "https://localhost:8080/"
    },
    "id": "ZOOVxnGCwXi_",
    "outputId": "af26ffc0-0714-4f1f-9f04-f6fcbf16ece3"
   },
   "outputs": [
    {
     "name": "stdout",
     "output_type": "stream",
     "text": [
      "The number of available CPUs is: 8\n"
     ]
    }
   ],
   "source": [
    "# Retrieve the CPU information\n",
    "ncpu = !nproc\n",
    "print(\"The number of available CPUs is:\", ncpu[0])"
   ]
  },
  {
   "cell_type": "markdown",
   "metadata": {
    "id": "6UZqFeojwXjA"
   },
   "source": [
    "### 1.a) Load libraries and modules"
   ]
  },
  {
   "cell_type": "code",
   "execution_count": 2,
   "metadata": {
    "id": "9_ovTGbJwXjA"
   },
   "outputs": [],
   "source": [
    "# Set the random seed number for reproducible results\n",
    "RNG_SEED = 888"
   ]
  },
  {
   "cell_type": "code",
   "execution_count": 3,
   "metadata": {
    "colab": {
     "base_uri": "https://localhost:8080/"
    },
    "id": "vDmif-v8wXjB",
    "outputId": "5050d081-be63-432c-bd77-7c5f18164f22"
   },
   "outputs": [
    {
     "name": "stderr",
     "output_type": "stream",
     "text": [
      "WARNING:root:TF Parameter Server distributed training not available (this is expected for the pre-build release).\n"
     ]
    }
   ],
   "source": [
    "import random\n",
    "random.seed(RNG_SEED)\n",
    "import numpy as np\n",
    "np.random.seed(RNG_SEED)\n",
    "import pandas as pd\n",
    "import seaborn as sns\n",
    "import matplotlib\n",
    "import matplotlib.pyplot as plt\n",
    "import os\n",
    "import sys\n",
    "import math\n",
    "from datetime import datetime\n",
    "# import boto3\n",
    "# from dotenv import load_dotenv\n",
    "from sklearn import preprocessing\n",
    "from sklearn.model_selection import train_test_split\n",
    "from sklearn.model_selection import RepeatedKFold\n",
    "from sklearn.pipeline import Pipeline\n",
    "from sklearn import compose\n",
    "from sklearn import impute\n",
    "from sklearn import metrics\n",
    "import tensorflow as tf\n",
    "tf.random.set_seed(RNG_SEED)\n",
    "# from tensorflow import keras\n",
    "import tensorflow_decision_forests as tfdf"
   ]
  },
  {
   "cell_type": "markdown",
   "metadata": {
    "id": "M0TRB7j0wXjB"
   },
   "source": [
    "### 1.b) Set up the controlling parameters and functions"
   ]
  },
  {
   "cell_type": "code",
   "execution_count": 4,
   "metadata": {
    "colab": {
     "base_uri": "https://localhost:8080/"
    },
    "id": "JCurALWEwXjB",
    "outputId": "fe2a2a8f-feec-4485-a414-4c0218f15afb"
   },
   "outputs": [
    {
     "name": "stderr",
     "output_type": "stream",
     "text": [
      "2022-03-01 22:25:36.911876: I tensorflow/stream_executor/cuda/cuda_gpu_executor.cc:936] successful NUMA node read from SysFS had negative value (-1), but there must be at least one NUMA node, so returning NUMA node zero\n",
      "2022-03-01 22:25:36.923800: I tensorflow/stream_executor/cuda/cuda_gpu_executor.cc:936] successful NUMA node read from SysFS had negative value (-1), but there must be at least one NUMA node, so returning NUMA node zero\n",
      "2022-03-01 22:25:36.924738: I tensorflow/stream_executor/cuda/cuda_gpu_executor.cc:936] successful NUMA node read from SysFS had negative value (-1), but there must be at least one NUMA node, so returning NUMA node zero\n"
     ]
    },
    {
     "name": "stdout",
     "output_type": "stream",
     "text": [
      "TensorFlow version: 2.8.0\n",
      "Found TensorFlow Decision Forests v0.2.4\n"
     ]
    },
    {
     "name": "stderr",
     "output_type": "stream",
     "text": [
      "2022-03-01 22:25:36.926945: I tensorflow/core/platform/cpu_feature_guard.cc:151] This TensorFlow binary is optimized with oneAPI Deep Neural Network Library (oneDNN) to use the following CPU instructions in performance-critical operations:  AVX2 FMA\n",
      "To enable them in other operations, rebuild TensorFlow with the appropriate compiler flags.\n",
      "2022-03-01 22:25:36.927753: I tensorflow/stream_executor/cuda/cuda_gpu_executor.cc:936] successful NUMA node read from SysFS had negative value (-1), but there must be at least one NUMA node, so returning NUMA node zero\n",
      "2022-03-01 22:25:36.928661: I tensorflow/stream_executor/cuda/cuda_gpu_executor.cc:936] successful NUMA node read from SysFS had negative value (-1), but there must be at least one NUMA node, so returning NUMA node zero\n",
      "2022-03-01 22:25:36.929410: I tensorflow/stream_executor/cuda/cuda_gpu_executor.cc:936] successful NUMA node read from SysFS had negative value (-1), but there must be at least one NUMA node, so returning NUMA node zero\n",
      "2022-03-01 22:25:37.867951: I tensorflow/stream_executor/cuda/cuda_gpu_executor.cc:936] successful NUMA node read from SysFS had negative value (-1), but there must be at least one NUMA node, so returning NUMA node zero\n",
      "2022-03-01 22:25:37.868912: I tensorflow/stream_executor/cuda/cuda_gpu_executor.cc:936] successful NUMA node read from SysFS had negative value (-1), but there must be at least one NUMA node, so returning NUMA node zero\n",
      "2022-03-01 22:25:37.869755: I tensorflow/stream_executor/cuda/cuda_gpu_executor.cc:936] successful NUMA node read from SysFS had negative value (-1), but there must be at least one NUMA node, so returning NUMA node zero\n",
      "2022-03-01 22:25:37.870564: I tensorflow/core/common_runtime/gpu/gpu_device.cc:1525] Created device /job:localhost/replica:0/task:0/device:GPU:0 with 14797 MB memory:  -> device: 0, name: Quadro RTX 5000, pci bus id: 0000:00:05.0, compute capability: 7.5\n"
     ]
    }
   ],
   "source": [
    "# Begin the timer for the script processing\n",
    "start_time_script = datetime.now()\n",
    "\n",
    "# Set up the number of CPU cores available for multi-thread processing\n",
    "N_JOBS = 1\n",
    "\n",
    "# Set up the flag to stop sending progress emails (setting to True will send status emails!)\n",
    "NOTIFY_STATUS = False\n",
    "\n",
    "# Set the percentage sizes for splitting the dataset\n",
    "TEST_SET_RATIO = 0.15\n",
    "VAL_SET_RATIO = 0.15\n",
    "\n",
    "# Set the number of folds for cross validation\n",
    "N_FOLDS = 5\n",
    "N_ITERATIONS = 1\n",
    "\n",
    "# Set various default modeling parameters\n",
    "DEFAULT_METRICS = [\"accuracy\", tf.keras.metrics.AUC()]\n",
    "\n",
    "# Define the directory locations and file names\n",
    "TRAIN_DATASET = 'heart_2020_cleaned.csv'\n",
    "# TEST_DATASET = ''\n",
    "\n",
    "# # Check the number of GPUs accessible through TensorFlow\n",
    "# print('Num GPUs Available:', len(tf.config.list_physical_devices('GPU')))\n",
    "\n",
    "# Print out the TensorFlow version for confirmation\n",
    "print('TensorFlow version:', tf.__version__)\n",
    "\n",
    "# Check the version of TensorFlow Decision Forests\n",
    "print(\"Found TensorFlow Decision Forests v\" + tfdf.__version__)"
   ]
  },
  {
   "cell_type": "code",
   "execution_count": 5,
   "metadata": {
    "id": "IBDJ6B40wXjC"
   },
   "outputs": [],
   "source": [
    "# Set up the email notification function\n",
    "def status_notify(msg_text):\n",
    "    access_key = os.environ.get('SNS_ACCESS_KEY')\n",
    "    secret_key = os.environ.get('SNS_SECRET_KEY')\n",
    "    aws_region = os.environ.get('SNS_AWS_REGION')\n",
    "    topic_arn = os.environ.get('SNS_TOPIC_ARN')\n",
    "    if (access_key is None) or (secret_key is None) or (aws_region is None):\n",
    "        sys.exit(\"Incomplete notification setup info. Script Processing Aborted!!!\")\n",
    "    sns = boto3.client('sns', aws_access_key_id=access_key, aws_secret_access_key=secret_key, region_name=aws_region)\n",
    "    response = sns.publish(TopicArn=topic_arn, Message=msg_text)\n",
    "    if response['ResponseMetadata']['HTTPStatusCode'] != 200 :\n",
    "        print('Status notification not OK with HTTP status code:', response['ResponseMetadata']['HTTPStatusCode'])"
   ]
  },
  {
   "cell_type": "code",
   "execution_count": 6,
   "metadata": {
    "id": "e3tPi3k7wyTv"
   },
   "outputs": [],
   "source": [
    "# Reset the random number generators\n",
    "def reset_random(x=RNG_SEED):\n",
    "    random.seed(x)\n",
    "    np.random.seed(x)\n",
    "    tf.random.set_seed(x)"
   ]
  },
  {
   "cell_type": "code",
   "execution_count": 7,
   "metadata": {
    "id": "p2F2r8QswXjD"
   },
   "outputs": [],
   "source": [
    "if NOTIFY_STATUS: status_notify(\"Task 1 - Prepare Environment has begun! \" + datetime.now().strftime('%a %B %d, %Y %I:%M:%S %p'))"
   ]
  },
  {
   "cell_type": "markdown",
   "metadata": {
    "id": "yk2I_AhawXjD"
   },
   "source": [
    "### 1.c) Load dataset"
   ]
  },
  {
   "cell_type": "code",
   "execution_count": 8,
   "metadata": {},
   "outputs": [],
   "source": [
    "if not os.path.exists(TRAIN_DATASET):\n",
    "    !wget https://dainesanalytics.com/datasets/kaggle-kamilpytlak-heart-disease/heart_2020_cleaned.csv"
   ]
  },
  {
   "cell_type": "code",
   "execution_count": 9,
   "metadata": {
    "colab": {
     "base_uri": "https://localhost:8080/"
    },
    "id": "E7G2_4zawXjE",
    "outputId": "8fe31ed3-47a3-4720-b2ab-a32c52603e4d"
   },
   "outputs": [
    {
     "name": "stdout",
     "output_type": "stream",
     "text": [
      "  HeartDisease    BMI Smoking AlcoholDrinking Stroke  PhysicalHealth  \\\n",
      "0           No  16.60     Yes              No     No             3.0   \n",
      "1           No  20.34      No              No    Yes             0.0   \n",
      "2           No  26.58     Yes              No     No            20.0   \n",
      "3           No  24.21      No              No     No             0.0   \n",
      "4           No  23.71      No              No     No            28.0   \n",
      "\n",
      "   MentalHealth DiffWalking     Sex  AgeCategory   Race Diabetic  \\\n",
      "0          30.0          No  Female        55-59  White      Yes   \n",
      "1           0.0          No  Female  80 or older  White       No   \n",
      "2          30.0          No    Male        65-69  White      Yes   \n",
      "3           0.0          No  Female        75-79  White       No   \n",
      "4           0.0         Yes  Female        40-44  White       No   \n",
      "\n",
      "  PhysicalActivity  GenHealth  SleepTime Asthma KidneyDisease SkinCancer  \n",
      "0              Yes  Very good        5.0    Yes            No        Yes  \n",
      "1              Yes  Very good        7.0     No            No         No  \n",
      "2              Yes       Fair        8.0    Yes            No         No  \n",
      "3               No       Good        6.0     No            No        Yes  \n",
      "4              Yes  Very good        8.0     No            No         No  \n"
     ]
    }
   ],
   "source": [
    "df_dataset_import = pd.read_csv(TRAIN_DATASET, index_col=False)\n",
    "\n",
    "# Take a peek at the dataframe after import\n",
    "print(df_dataset_import.head())"
   ]
  },
  {
   "cell_type": "code",
   "execution_count": 10,
   "metadata": {
    "colab": {
     "base_uri": "https://localhost:8080/"
    },
    "id": "3dl-LDdfwXjE",
    "outputId": "bbeef758-68be-4a10-e1bc-fb939eca2168"
   },
   "outputs": [
    {
     "name": "stdout",
     "output_type": "stream",
     "text": [
      "<class 'pandas.core.frame.DataFrame'>\n",
      "RangeIndex: 319795 entries, 0 to 319794\n",
      "Data columns (total 18 columns):\n",
      " #   Column            Non-Null Count   Dtype  \n",
      "---  ------            --------------   -----  \n",
      " 0   HeartDisease      319795 non-null  object \n",
      " 1   BMI               319795 non-null  float64\n",
      " 2   Smoking           319795 non-null  object \n",
      " 3   AlcoholDrinking   319795 non-null  object \n",
      " 4   Stroke            319795 non-null  object \n",
      " 5   PhysicalHealth    319795 non-null  float64\n",
      " 6   MentalHealth      319795 non-null  float64\n",
      " 7   DiffWalking       319795 non-null  object \n",
      " 8   Sex               319795 non-null  object \n",
      " 9   AgeCategory       319795 non-null  object \n",
      " 10  Race              319795 non-null  object \n",
      " 11  Diabetic          319795 non-null  object \n",
      " 12  PhysicalActivity  319795 non-null  object \n",
      " 13  GenHealth         319795 non-null  object \n",
      " 14  SleepTime         319795 non-null  float64\n",
      " 15  Asthma            319795 non-null  object \n",
      " 16  KidneyDisease     319795 non-null  object \n",
      " 17  SkinCancer        319795 non-null  object \n",
      "dtypes: float64(4), object(14)\n",
      "memory usage: 43.9+ MB\n"
     ]
    }
   ],
   "source": [
    "df_dataset_import.info(verbose=True)"
   ]
  },
  {
   "cell_type": "code",
   "execution_count": 11,
   "metadata": {
    "colab": {
     "base_uri": "https://localhost:8080/"
    },
    "id": "3eB_rvlwwXjF",
    "outputId": "6653b185-594e-4772-f887-abef50d74bd5"
   },
   "outputs": [
    {
     "name": "stdout",
     "output_type": "stream",
     "text": [
      "                 BMI  PhysicalHealth   MentalHealth      SleepTime\n",
      "count  319795.000000    319795.00000  319795.000000  319795.000000\n",
      "mean       28.325399         3.37171       3.898366       7.097075\n",
      "std         6.356100         7.95085       7.955235       1.436007\n",
      "min        12.020000         0.00000       0.000000       1.000000\n",
      "25%        24.030000         0.00000       0.000000       6.000000\n",
      "50%        27.340000         0.00000       0.000000       7.000000\n",
      "75%        31.420000         2.00000       3.000000       8.000000\n",
      "max        94.850000        30.00000      30.000000      24.000000\n"
     ]
    }
   ],
   "source": [
    "print(df_dataset_import.describe())"
   ]
  },
  {
   "cell_type": "code",
   "execution_count": 12,
   "metadata": {
    "colab": {
     "base_uri": "https://localhost:8080/"
    },
    "id": "SRyVb81UwXjF",
    "outputId": "59df4c47-36a0-4476-efd6-272965f1657f"
   },
   "outputs": [
    {
     "name": "stdout",
     "output_type": "stream",
     "text": [
      "HeartDisease        0\n",
      "BMI                 0\n",
      "Smoking             0\n",
      "AlcoholDrinking     0\n",
      "Stroke              0\n",
      "PhysicalHealth      0\n",
      "MentalHealth        0\n",
      "DiffWalking         0\n",
      "Sex                 0\n",
      "AgeCategory         0\n",
      "Race                0\n",
      "Diabetic            0\n",
      "PhysicalActivity    0\n",
      "GenHealth           0\n",
      "SleepTime           0\n",
      "Asthma              0\n",
      "KidneyDisease       0\n",
      "SkinCancer          0\n",
      "dtype: int64\n",
      "Total number of NaN in the dataframe:  0\n"
     ]
    }
   ],
   "source": [
    "print(df_dataset_import.isnull().sum())\n",
    "print('Total number of NaN in the dataframe: ', df_dataset_import.isnull().sum().sum())"
   ]
  },
  {
   "cell_type": "code",
   "execution_count": 13,
   "metadata": {},
   "outputs": [
    {
     "name": "stdout",
     "output_type": "stream",
     "text": [
      "HeartDisease\n",
      "No     292422\n",
      "Yes     27373\n",
      "dtype: int64\n"
     ]
    }
   ],
   "source": [
    "# Get grouping size for the target variable\n",
    "print(df_dataset_import.groupby('HeartDisease').size())"
   ]
  },
  {
   "cell_type": "markdown",
   "metadata": {
    "id": "wfaoKiSdwXjG"
   },
   "source": [
    "### 1.d) Data Cleaning"
   ]
  },
  {
   "cell_type": "code",
   "execution_count": 14,
   "metadata": {
    "colab": {
     "base_uri": "https://localhost:8080/"
    },
    "id": "KujRTYu5wXjG",
    "outputId": "bde95e06-87b1-4cf3-fe8f-af041d369ff0"
   },
   "outputs": [
    {
     "name": "stdout",
     "output_type": "stream",
     "text": [
      "  target    BMI Smoking AlcoholDrinking Stroke  PhysicalHealth  MentalHealth  \\\n",
      "0     No  16.60     Yes              No     No             3.0          30.0   \n",
      "1     No  20.34      No              No    Yes             0.0           0.0   \n",
      "2     No  26.58     Yes              No     No            20.0          30.0   \n",
      "3     No  24.21      No              No     No             0.0           0.0   \n",
      "4     No  23.71      No              No     No            28.0           0.0   \n",
      "\n",
      "  DiffWalking     Sex  AgeCategory   Race Diabetic PhysicalActivity  \\\n",
      "0          No  Female        55-59  White      Yes              Yes   \n",
      "1          No  Female  80 or older  White       No              Yes   \n",
      "2          No    Male        65-69  White      Yes              Yes   \n",
      "3          No  Female        75-79  White       No               No   \n",
      "4         Yes  Female        40-44  White       No              Yes   \n",
      "\n",
      "   GenHealth  SleepTime Asthma KidneyDisease SkinCancer  \n",
      "0  Very good        5.0    Yes            No        Yes  \n",
      "1  Very good        7.0     No            No         No  \n",
      "2       Fair        8.0    Yes            No         No  \n",
      "3       Good        6.0     No            No        Yes  \n",
      "4  Very good        8.0     No            No         No  \n"
     ]
    }
   ],
   "source": [
    "# Standardize the class column to the name of targetVar if required\n",
    "df_dataset_import = df_dataset_import.rename(columns={'HeartDisease': 'target'})\n",
    "\n",
    "# Take a peek at the dataframe after cleaning\n",
    "print(df_dataset_import.head())"
   ]
  },
  {
   "cell_type": "code",
   "execution_count": 15,
   "metadata": {
    "colab": {
     "base_uri": "https://localhost:8080/"
    },
    "id": "ZprOE1B0wXjH",
    "outputId": "15a54dc9-ea93-4996-b0dc-a244ed23c127"
   },
   "outputs": [
    {
     "name": "stdout",
     "output_type": "stream",
     "text": [
      "<class 'pandas.core.frame.DataFrame'>\n",
      "RangeIndex: 319795 entries, 0 to 319794\n",
      "Data columns (total 18 columns):\n",
      " #   Column            Non-Null Count   Dtype  \n",
      "---  ------            --------------   -----  \n",
      " 0   target            319795 non-null  object \n",
      " 1   BMI               319795 non-null  float64\n",
      " 2   Smoking           319795 non-null  object \n",
      " 3   AlcoholDrinking   319795 non-null  object \n",
      " 4   Stroke            319795 non-null  object \n",
      " 5   PhysicalHealth    319795 non-null  float64\n",
      " 6   MentalHealth      319795 non-null  float64\n",
      " 7   DiffWalking       319795 non-null  object \n",
      " 8   Sex               319795 non-null  object \n",
      " 9   AgeCategory       319795 non-null  object \n",
      " 10  Race              319795 non-null  object \n",
      " 11  Diabetic          319795 non-null  object \n",
      " 12  PhysicalActivity  319795 non-null  object \n",
      " 13  GenHealth         319795 non-null  object \n",
      " 14  SleepTime         319795 non-null  float64\n",
      " 15  Asthma            319795 non-null  object \n",
      " 16  KidneyDisease     319795 non-null  object \n",
      " 17  SkinCancer        319795 non-null  object \n",
      "dtypes: float64(4), object(14)\n",
      "memory usage: 43.9+ MB\n"
     ]
    }
   ],
   "source": [
    "df_dataset_import.info(verbose=True)"
   ]
  },
  {
   "cell_type": "code",
   "execution_count": 16,
   "metadata": {
    "colab": {
     "base_uri": "https://localhost:8080/"
    },
    "id": "QgyI5VZ1wXjH",
    "outputId": "56d27ba8-4867-4536-ab77-5f017102006e"
   },
   "outputs": [
    {
     "name": "stdout",
     "output_type": "stream",
     "text": [
      "                 BMI  PhysicalHealth   MentalHealth      SleepTime\n",
      "count  319795.000000    319795.00000  319795.000000  319795.000000\n",
      "mean       28.325399         3.37171       3.898366       7.097075\n",
      "std         6.356100         7.95085       7.955235       1.436007\n",
      "min        12.020000         0.00000       0.000000       1.000000\n",
      "25%        24.030000         0.00000       0.000000       6.000000\n",
      "50%        27.340000         0.00000       0.000000       7.000000\n",
      "75%        31.420000         2.00000       3.000000       8.000000\n",
      "max        94.850000        30.00000      30.000000      24.000000\n"
     ]
    }
   ],
   "source": [
    "print(df_dataset_import.describe())"
   ]
  },
  {
   "cell_type": "code",
   "execution_count": 17,
   "metadata": {
    "colab": {
     "base_uri": "https://localhost:8080/"
    },
    "id": "wz9iKsUswXjI",
    "outputId": "da2128d2-f4ef-43e8-dd1b-441908a27f10"
   },
   "outputs": [
    {
     "name": "stdout",
     "output_type": "stream",
     "text": [
      "target              0\n",
      "BMI                 0\n",
      "Smoking             0\n",
      "AlcoholDrinking     0\n",
      "Stroke              0\n",
      "PhysicalHealth      0\n",
      "MentalHealth        0\n",
      "DiffWalking         0\n",
      "Sex                 0\n",
      "AgeCategory         0\n",
      "Race                0\n",
      "Diabetic            0\n",
      "PhysicalActivity    0\n",
      "GenHealth           0\n",
      "SleepTime           0\n",
      "Asthma              0\n",
      "KidneyDisease       0\n",
      "SkinCancer          0\n",
      "dtype: int64\n",
      "Total number of NaN in the dataframe:  0\n"
     ]
    }
   ],
   "source": [
    "print(df_dataset_import.isnull().sum())\n",
    "print('Total number of NaN in the dataframe: ', df_dataset_import.isnull().sum().sum())"
   ]
  },
  {
   "cell_type": "code",
   "execution_count": 18,
   "metadata": {},
   "outputs": [
    {
     "name": "stdout",
     "output_type": "stream",
     "text": [
      "target\n",
      "No     292422\n",
      "Yes     27373\n",
      "dtype: int64\n"
     ]
    }
   ],
   "source": [
    "# Get grouping size for the target variable\n",
    "print(df_dataset_import.groupby('target').size())"
   ]
  },
  {
   "cell_type": "markdown",
   "metadata": {
    "id": "0ZBQ1s2bwXjI"
   },
   "source": [
    "### 1.e) Splitting Data into Sets"
   ]
  },
  {
   "cell_type": "code",
   "execution_count": 19,
   "metadata": {},
   "outputs": [
    {
     "name": "stdout",
     "output_type": "stream",
     "text": [
      "df_dataset_train.shape: (271825, 18) df_dataset_test.shape: (47970, 18)\n"
     ]
    }
   ],
   "source": [
    "# Split the data further into training and test datasets\n",
    "df_dataset_train, df_dataset_test = train_test_split(df_dataset_import, test_size=TEST_SET_RATIO, random_state=RNG_SEED,\n",
    "                                                     stratify=df_dataset_import['target'])\n",
    "print(\"df_dataset_train.shape: {} df_dataset_test.shape: {}\".format(df_dataset_train.shape, df_dataset_test.shape))"
   ]
  },
  {
   "cell_type": "code",
   "execution_count": 20,
   "metadata": {
    "colab": {
     "base_uri": "https://localhost:8080/"
    },
    "id": "QNydPt1uwXjI",
    "outputId": "b9e0b0b4-4558-4c22-9f26-f0a69279818a"
   },
   "outputs": [
    {
     "name": "stdout",
     "output_type": "stream",
     "text": [
      "df_dataset_train.shape: (271825, 18) df_features_train.shape: (271825, 17) df_target_train.shape: (271825,)\n"
     ]
    }
   ],
   "source": [
    "# Use variable total_column_count to hold the number of columns in the dataframe\n",
    "total_column_count = len(df_dataset_import.columns)\n",
    "\n",
    "# Set up variable total_feature_count for the total number of attribute columns\n",
    "total_feature_count = total_column_count-1\n",
    "\n",
    "# We create attribute-only and target-only datasets (df_features_train and df_target_train)\n",
    "df_target_train = df_dataset_train['target']\n",
    "df_features_train = df_dataset_train.drop(['target'], axis=1)\n",
    "\n",
    "print(\"df_dataset_train.shape: {} df_features_train.shape: {} df_target_train.shape: {}\".format(df_dataset_train.shape, df_features_train.shape, df_target_train.shape))"
   ]
  },
  {
   "cell_type": "markdown",
   "metadata": {
    "id": "VKU_2CL74vh-"
   },
   "source": [
    "### 1.f) Set up the parameters for data visualization"
   ]
  },
  {
   "cell_type": "code",
   "execution_count": 21,
   "metadata": {
    "id": "7D9OChW94yP0"
   },
   "outputs": [],
   "source": [
    "# Set up the number of row and columns for visualization display. display_rows * display_columns should be >= total_feature_count\n",
    "display_columns = 4\n",
    "if total_feature_count % display_columns == 0 :\n",
    "    display_rows = total_feature_count // display_columns\n",
    "else :\n",
    "    display_rows = (total_feature_count // display_columns) + 1\n",
    "    \n",
    "# Set figure width to display the data visualization plots\n",
    "fig_size = plt.rcParams[\"figure.figsize\"]\n",
    "fig_size[0] = display_columns * 4\n",
    "fig_size[1] = display_rows * 4\n",
    "plt.rcParams[\"figure.figsize\"] = fig_size"
   ]
  },
  {
   "cell_type": "code",
   "execution_count": 22,
   "metadata": {
    "id": "YLRgAYnMwXjJ"
   },
   "outputs": [],
   "source": [
    "if NOTIFY_STATUS: status_notify(\"Task 1 - Prepare Environment completed! \"+datetime.now().strftime('%a %B %d, %Y %I:%M:%S %p'))"
   ]
  },
  {
   "cell_type": "markdown",
   "metadata": {
    "id": "ZivQJCZowXjK"
   },
   "source": [
    "## Task 2 - Summarize and Visualize Data"
   ]
  },
  {
   "cell_type": "code",
   "execution_count": 23,
   "metadata": {
    "id": "F5H90pxZwXjK"
   },
   "outputs": [],
   "source": [
    "if NOTIFY_STATUS: status_notify(\"Task 2 - Summarize and Visualize Data has begun! \"+datetime.now().strftime('%a %B %d, %Y %I:%M:%S %p'))"
   ]
  },
  {
   "cell_type": "code",
   "execution_count": 24,
   "metadata": {
    "colab": {
     "base_uri": "https://localhost:8080/",
     "height": 919
    },
    "id": "OBhr7SGRwXjK",
    "outputId": "3b3dc20f-b962-414c-b891-e530b1dd3d6a",
    "tags": []
   },
   "outputs": [
    {
     "data": {
      "image/png": "[encoded data removed]",
      "text/plain": [
       "<Figure size 1152x1440 with 20 Axes>"
      ]
     },
     "metadata": {
      "needs_background": "light"
     },
     "output_type": "display_data"
    }
   ],
   "source": [
    "# Histograms for each attribute\n",
    "df_features_train.plot(kind='hist', subplots=True, layout=(display_rows, display_columns))\n",
    "plt.show()"
   ]
  },
  {
   "cell_type": "code",
   "execution_count": 25,
   "metadata": {
    "colab": {
     "base_uri": "https://localhost:8080/",
     "height": 918
    },
    "id": "NHtCofAgwXjL",
    "outputId": "b7393adf-cc8e-4739-95f4-6820bde2b8e7"
   },
   "outputs": [
    {
     "data": {
      "image/png": "[encoded data removed]",
      "text/plain": [
       "<Figure size 1152x1440 with 20 Axes>"
      ]
     },
     "metadata": {
      "needs_background": "light"
     },
     "output_type": "display_data"
    }
   ],
   "source": [
    "# Box and Whisker plot for each attribute\n",
    "df_features_train.plot(kind='box', subplots=True, layout=(display_rows, display_columns))\n",
    "plt.show()"
   ]
  },
  {
   "cell_type": "code",
   "execution_count": 26,
   "metadata": {
    "colab": {
     "base_uri": "https://localhost:8080/",
     "height": 1000
    },
    "id": "HXUm5_nkwXjL",
    "outputId": "8aa7e071-d983-4609-a04b-37532cdfece2"
   },
   "outputs": [
    {
     "data": {
      "image/png": "[encoded data removed]",
      "text/plain": [
       "<Figure size 1440x1440 with 2 Axes>"
      ]
     },
     "metadata": {
      "needs_background": "light"
     },
     "output_type": "display_data"
    }
   ],
   "source": [
    "# Correlation matrix\n",
    "fig = plt.figure(figsize=(20, 20))\n",
    "correlations = df_features_train.corr(method='pearson')\n",
    "sns.heatmap(correlations, annot=True, cmap=plt.cm.PuBu)\n",
    "plt.show()"
   ]
  },
  {
   "cell_type": "code",
   "execution_count": 27,
   "metadata": {
    "id": "yHcRjiadwXjL"
   },
   "outputs": [],
   "source": [
    "if NOTIFY_STATUS: status_notify(\"Task 2 - Summarize and Visualize Data completed! \"+datetime.now().strftime('%a %B %d, %Y %I:%M:%S %p'))"
   ]
  },
  {
   "cell_type": "markdown",
   "metadata": {
    "id": "-8rH-HXuwXjM"
   },
   "source": [
    "## Task 3 - Train and Evaluate Models"
   ]
  },
  {
   "cell_type": "code",
   "execution_count": 28,
   "metadata": {
    "id": "UnD36SUzwXjM"
   },
   "outputs": [],
   "source": [
    "if NOTIFY_STATUS: status_notify(\"Task 3 - Train and Evaluate Models has begun! \"+datetime.now().strftime('%a %B %d, %Y %I:%M:%S %p'))"
   ]
  },
  {
   "cell_type": "markdown",
   "metadata": {
    "id": "C5MXnEfq0-PW"
   },
   "source": [
    "### 3.a) Splitting Data into Training and Validation Sets"
   ]
  },
  {
   "cell_type": "code",
   "execution_count": 29,
   "metadata": {
    "id": "QY2ulFc8wXjR"
   },
   "outputs": [
    {
     "name": "stderr",
     "output_type": "stream",
     "text": [
      "/usr/local/lib/python3.8/dist-packages/tensorflow_decision_forests/keras/core.py:2036: FutureWarning: In a future version of pandas all arguments of DataFrame.drop except for the argument 'labels' will be keyword-only.\n",
      "  features_dataframe = dataframe.drop(label, 1)\n"
     ]
    }
   ],
   "source": [
    "# Finalize the training and validation datasets for the modeling activities\n",
    "tfds_train = tfdf.keras.pd_dataframe_to_tf_dataset(df_dataset_train, label='target', task = tfdf.keras.Task.CLASSIFICATION)"
   ]
  },
  {
   "cell_type": "markdown",
   "metadata": {
    "id": "2_pts_ZN1J3g"
   },
   "source": [
    "### 3.b) Train and Evaluate the Random Forest Model"
   ]
  },
  {
   "cell_type": "code",
   "execution_count": 30,
   "metadata": {
    "colab": {
     "base_uri": "https://localhost:8080/"
    },
    "id": "Bbls2rTF3l8E",
    "outputId": "a17264ef-6667-4e13-8cdb-646d1f536ac1"
   },
   "outputs": [
    {
     "name": "stdout",
     "output_type": "stream",
     "text": [
      "Use /tmp/tmpisfls9fk as temporary training directory\n",
      "Starting reading the dataset\n",
      "266/272 [============================>.] - ETA: 0s\n",
      "Dataset read in 0:00:05.697133\n",
      "Training model\n",
      "Model trained in 0:00:40.181962\n",
      "Compiling model\n"
     ]
    },
    {
     "name": "stderr",
     "output_type": "stream",
     "text": [
      "[INFO kernel.cc:1153] Loading model from path\n",
      "[INFO abstract_model.cc:1063] Engine \"RandomForestOptPred\" built\n",
      "[INFO kernel.cc:1001] Use fast generic engine\n"
     ]
    },
    {
     "name": "stdout",
     "output_type": "stream",
     "text": [
      "272/272 [==============================] - 54s 187ms/step\n",
      "WARNING:tensorflow:AutoGraph could not transform <function simple_ml_inference_op_with_handle at 0x7fd4278ef280> and will run it as-is.\n",
      "Please report this to the TensorFlow team. When filing the bug, set the verbosity to 10 (on Linux, `export AUTOGRAPH_VERBOSITY=10`) and attach the full output.\n",
      "Cause: could not get source code\n",
      "To silence this warning, decorate the function with @tf.autograph.experimental.do_not_convert\n"
     ]
    },
    {
     "name": "stderr",
     "output_type": "stream",
     "text": [
      "WARNING:tensorflow:AutoGraph could not transform <function simple_ml_inference_op_with_handle at 0x7fd4278ef280> and will run it as-is.\n",
      "Please report this to the TensorFlow team. When filing the bug, set the verbosity to 10 (on Linux, `export AUTOGRAPH_VERBOSITY=10`) and attach the full output.\n",
      "Cause: could not get source code\n",
      "To silence this warning, decorate the function with @tf.autograph.experimental.do_not_convert\n"
     ]
    },
    {
     "name": "stdout",
     "output_type": "stream",
     "text": [
      "WARNING: AutoGraph could not transform <function simple_ml_inference_op_with_handle at 0x7fd4278ef280> and will run it as-is.\n",
      "Please report this to the TensorFlow team. When filing the bug, set the verbosity to 10 (on Linux, `export AUTOGRAPH_VERBOSITY=10`) and attach the full output.\n",
      "Cause: could not get source code\n",
      "To silence this warning, decorate the function with @tf.autograph.experimental.do_not_convert\n",
      "Model training time: 0:00:56.129368 \n",
      "\n"
     ]
    }
   ],
   "source": [
    "# Define the baseline model for benchmarking\n",
    "start_time_module = datetime.now()\n",
    "reset_random()\n",
    "RF_model = tfdf.keras.RandomForestModel(task = tfdf.keras.Task.CLASSIFICATION)\n",
    "RF_model.compile(metrics=DEFAULT_METRICS)\n",
    "\n",
    "# \"sys_pipes\" is optional. It enables the display of the training logs.\n",
    "# with sys_pipes():\n",
    "#     RF_model.fit(x=tfds_train)\n",
    "\n",
    "# Train the model.\n",
    "RF_model.fit(x=tfds_train)\n",
    "print ('Model training time:', (datetime.now() - start_time_module), '\\n')"
   ]
  },
  {
   "cell_type": "code",
   "execution_count": 31,
   "metadata": {
    "colab": {
     "base_uri": "https://localhost:8080/",
     "height": 279
    },
    "id": "QWxbO2EXcbEJ",
    "outputId": "dc419e7e-9d65-4d5b-cb67-7ddc263a49f8"
   },
   "outputs": [
    {
     "data": {
      "image/png": "[encoded data removed]",
      "text/plain": [
       "<Figure size 1296x432 with 2 Axes>"
      ]
     },
     "metadata": {
      "needs_background": "light"
     },
     "output_type": "display_data"
    }
   ],
   "source": [
    "logs = RF_model.make_inspector().training_logs()\n",
    "\n",
    "plt.figure(figsize=(18, 6))\n",
    "plt.subplot(1, 2, 1)\n",
    "plt.plot([log.num_trees for log in logs], [log.evaluation.accuracy for log in logs])\n",
    "plt.xlabel(\"Number of trees\")\n",
    "plt.ylabel(\"Accuracy (out-of-bag)\")\n",
    "plt.subplot(1, 2, 2)\n",
    "plt.plot([log.num_trees for log in logs], [log.evaluation.loss for log in logs])\n",
    "plt.xlabel(\"Number of trees\")\n",
    "plt.ylabel(\"Log Loss (out-of-bag)\")\n",
    "plt.show()"
   ]
  },
  {
   "cell_type": "code",
   "execution_count": 32,
   "metadata": {},
   "outputs": [
    {
     "name": "stdout",
     "output_type": "stream",
     "text": [
      "272/272 [==============================] - 25s 88ms/step - loss: 0.0000e+00 - accuracy: 0.9268 - auc: 0.8847\n",
      "\n",
      "loss: 0.0000\n",
      "accuracy: 0.9268\n",
      "auc: 0.8847\n"
     ]
    }
   ],
   "source": [
    "RF_eval = RF_model.evaluate(tfds_train, return_dict=True)\n",
    "print()\n",
    "\n",
    "for name, value in RF_eval.items():\n",
    "    print(f\"{name}: {value:.4f}\")"
   ]
  },
  {
   "cell_type": "markdown",
   "metadata": {
    "id": "wa3Dfugd1U4P"
   },
   "source": [
    "### 3.c) Train and Evaluate the Decision Trees Model"
   ]
  },
  {
   "cell_type": "code",
   "execution_count": 33,
   "metadata": {
    "colab": {
     "base_uri": "https://localhost:8080/"
    },
    "id": "bDPPbOgPFCBF",
    "outputId": "83cd116d-d49f-4ab2-9147-2f2c45a0548f"
   },
   "outputs": [
    {
     "name": "stdout",
     "output_type": "stream",
     "text": [
      "Use /tmp/tmpi53bncgl as temporary training directory\n",
      "Starting reading the dataset\n",
      "265/272 [============================>.] - ETA: 0s\n",
      "Dataset read in 0:00:02.523616\n",
      "Training model\n",
      "Model trained in 0:00:01.018436\n",
      "Compiling model\n",
      "272/272 [==============================] - 4s 12ms/step\n"
     ]
    },
    {
     "name": "stderr",
     "output_type": "stream",
     "text": [
      "[INFO kernel.cc:1153] Loading model from path\n",
      "[INFO abstract_model.cc:1063] Engine \"RandomForestOptPred\" built\n",
      "[INFO kernel.cc:1001] Use fast generic engine\n"
     ]
    },
    {
     "name": "stdout",
     "output_type": "stream",
     "text": [
      "Model training time: 0:00:03.886015 \n",
      "\n"
     ]
    }
   ],
   "source": [
    "# Define the baseline model for benchmarking\n",
    "start_time_module = datetime.now()\n",
    "reset_random()\n",
    "CART_model = tfdf.keras.CartModel(task = tfdf.keras.Task.CLASSIFICATION)\n",
    "CART_model.compile(metrics=DEFAULT_METRICS)\n",
    "\n",
    "# \"sys_pipes\" is optional. It enables the display of the training logs.\n",
    "# with sys_pipes():\n",
    "#     CART_model.fit(x=tfds_train)\n",
    "\n",
    "# Train the model.\n",
    "CART_model.fit(x=tfds_train)\n",
    "print ('Model training time:', (datetime.now() - start_time_module), '\\n')"
   ]
  },
  {
   "cell_type": "code",
   "execution_count": 34,
   "metadata": {},
   "outputs": [
    {
     "name": "stdout",
     "output_type": "stream",
     "text": [
      "272/272 [==============================] - 3s 9ms/step - loss: 0.0000e+00 - accuracy: 0.9192 - auc: 0.8409\n",
      "\n",
      "loss: 0.0000\n",
      "accuracy: 0.9192\n",
      "auc: 0.8409\n"
     ]
    }
   ],
   "source": [
    "CART_eval = CART_model.evaluate(tfds_train, return_dict=True)\n",
    "print()\n",
    "\n",
    "for name, value in CART_eval.items():\n",
    "    print(f\"{name}: {value:.4f}\")"
   ]
  },
  {
   "cell_type": "markdown",
   "metadata": {
    "id": "zVCQJVv21m86"
   },
   "source": [
    "### 3.d) Train and Evaluate the Gradient Boosted Trees Model"
   ]
  },
  {
   "cell_type": "code",
   "execution_count": 35,
   "metadata": {
    "colab": {
     "base_uri": "https://localhost:8080/"
    },
    "id": "ogW3JeatFDRS",
    "outputId": "306052c2-75dc-4e38-e7e4-5f578f5df113"
   },
   "outputs": [
    {
     "name": "stdout",
     "output_type": "stream",
     "text": [
      "Use /tmp/tmp5l85vmqi as temporary training directory\n",
      "Starting reading the dataset\n",
      "267/272 [============================>.] - ETA: 0s\n",
      "Dataset read in 0:00:02.498580\n",
      "Training model\n",
      "Model trained in 0:00:20.183804\n",
      "Compiling model\n",
      "272/272 [==============================] - 23s 83ms/step\n"
     ]
    },
    {
     "name": "stderr",
     "output_type": "stream",
     "text": [
      "[INFO kernel.cc:1153] Loading model from path\n",
      "[INFO abstract_model.cc:1063] Engine \"GradientBoostedTreesQuickScorerExtended\" built\n",
      "[INFO kernel.cc:1001] Use fast generic engine\n"
     ]
    },
    {
     "name": "stdout",
     "output_type": "stream",
     "text": [
      "Model training time: 0:00:23.057642 \n",
      "\n"
     ]
    }
   ],
   "source": [
    "# Define the baseline model for benchmarking\n",
    "start_time_module = datetime.now()\n",
    "reset_random()\n",
    "GBT_model = tfdf.keras.GradientBoostedTreesModel(task = tfdf.keras.Task.CLASSIFICATION)\n",
    "GBT_model.compile(metrics=DEFAULT_METRICS)\n",
    "\n",
    "# \"sys_pipes\" is optional. It enables the display of the training logs.\n",
    "# with sys_pipes():\n",
    "#     GBT_model.fit(x=tfds_train)\n",
    "\n",
    "# Train the model.\n",
    "GBT_model.fit(x=tfds_train)\n",
    "print ('Model training time:', (datetime.now() - start_time_module), '\\n')"
   ]
  },
  {
   "cell_type": "code",
   "execution_count": 36,
   "metadata": {
    "colab": {
     "base_uri": "https://localhost:8080/",
     "height": 279
    },
    "id": "e0K_RY-tkUDo",
    "outputId": "53222f5e-ab04-46ca-eeff-0f3b37e44057"
   },
   "outputs": [
    {
     "data": {
      "image/png": "[encoded data removed]",
      "text/plain": [
       "<Figure size 1296x432 with 2 Axes>"
      ]
     },
     "metadata": {
      "needs_background": "light"
     },
     "output_type": "display_data"
    }
   ],
   "source": [
    "logs = GBT_model.make_inspector().training_logs()\n",
    "\n",
    "plt.figure(figsize=(18, 6))\n",
    "plt.subplot(1, 2, 1)\n",
    "plt.plot([log.num_trees for log in logs], [log.evaluation.accuracy for log in logs])\n",
    "plt.xlabel(\"Number of trees\")\n",
    "plt.ylabel(\"Accuracy (out-of-bag)\")\n",
    "plt.subplot(1, 2, 2)\n",
    "plt.plot([log.num_trees for log in logs], [log.evaluation.loss for log in logs])\n",
    "plt.xlabel(\"Number of trees\")\n",
    "plt.ylabel(\"Log Loss (out-of-bag)\")\n",
    "plt.show()"
   ]
  },
  {
   "cell_type": "code",
   "execution_count": 37,
   "metadata": {},
   "outputs": [
    {
     "name": "stdout",
     "output_type": "stream",
     "text": [
      "272/272 [==============================] - 3s 9ms/step - loss: 0.0000e+00 - accuracy: 0.9180 - auc: 0.8393\n",
      "\n",
      "loss: 0.0000\n",
      "accuracy: 0.9180\n",
      "auc: 0.8393\n"
     ]
    }
   ],
   "source": [
    "GBT_eval = GBT_model.evaluate(tfds_train, return_dict=True)\n",
    "print()\n",
    "\n",
    "for name, value in GBT_eval.items():\n",
    "    print(f\"{name}: {value:.4f}\")"
   ]
  },
  {
   "cell_type": "code",
   "execution_count": 38,
   "metadata": {
    "id": "g2ZPK8-5wXjU",
    "jupyter": {
     "outputs_hidden": false
    },
    "pycharm": {
     "name": "#%%\n"
    }
   },
   "outputs": [],
   "source": [
    "if NOTIFY_STATUS: status_notify(\"Task 4 - Train and Evaluate Models completed! \"+datetime.now().strftime('%a %B %d, %Y %I:%M:%S %p'))"
   ]
  },
  {
   "cell_type": "markdown",
   "metadata": {
    "id": "ISyQ5uNrwXjU"
   },
   "source": [
    "## Task 4 - Fine-tune and Improve Models"
   ]
  },
  {
   "cell_type": "code",
   "execution_count": 39,
   "metadata": {
    "id": "l3AulRWbzzOz"
   },
   "outputs": [],
   "source": [
    "if NOTIFY_STATUS: status_notify(\"Task 4 - Fine-tune and Improve Models has begun! \"+datetime.now().strftime('%a %B %d, %Y %I:%M:%S %p'))"
   ]
  },
  {
   "cell_type": "code",
   "execution_count": 40,
   "metadata": {
    "colab": {
     "base_uri": "https://localhost:8080/"
    },
    "id": "vlCLtsxjzQ2V",
    "outputId": "d9f88304-2cb0-45f6-9d9b-81bb1be7d1c7"
   },
   "outputs": [],
   "source": [
    "# Not applicable for this iteration of modeling"
   ]
  },
  {
   "cell_type": "code",
   "execution_count": 41,
   "metadata": {
    "id": "orMchSDCzr07"
   },
   "outputs": [],
   "source": [
    "if NOTIFY_STATUS: status_notify(\"Task 4 - Fine-tune and Improve Models completed! \"+datetime.now().strftime('%a %B %d, %Y %I:%M:%S %p'))"
   ]
  },
  {
   "cell_type": "markdown",
   "metadata": {
    "id": "D7UgYoGuzaM-"
   },
   "source": [
    "## Task 5 - Finalize Model and Present Analysis"
   ]
  },
  {
   "cell_type": "code",
   "execution_count": 42,
   "metadata": {
    "id": "BhuD5C56wXjV"
   },
   "outputs": [],
   "source": [
    "if NOTIFY_STATUS: status_notify(\"Task 5 - Finalize Model and Present Analysis has begun! \"+datetime.now().strftime('%a %B %d, %Y %I:%M:%S %p'))"
   ]
  },
  {
   "cell_type": "markdown",
   "metadata": {
    "id": "xDcJ2kVE8xNI"
   },
   "source": [
    "### 5.a) Train the Final Model"
   ]
  },
  {
   "cell_type": "code",
   "execution_count": 43,
   "metadata": {
    "colab": {
     "base_uri": "https://localhost:8080/"
    },
    "id": "dsntMWlJwXjV",
    "outputId": "30950585-eb2b-44de-a60f-b2d0a0444aea"
   },
   "outputs": [
    {
     "name": "stdout",
     "output_type": "stream",
     "text": [
      "Use /tmp/tmp2qmm_h22 as temporary training directory\n",
      "Starting reading the dataset\n",
      "272/272 [==============================] - ETA: 0s\n",
      "Dataset read in 0:00:02.548540\n",
      "Training model\n",
      "Model trained in 0:00:42.090583\n",
      "Compiling model\n"
     ]
    },
    {
     "name": "stderr",
     "output_type": "stream",
     "text": [
      "[INFO kernel.cc:1153] Loading model from path\n",
      "[INFO abstract_model.cc:1063] Engine \"RandomForestOptPred\" built\n",
      "[INFO kernel.cc:1001] Use fast generic engine\n"
     ]
    },
    {
     "name": "stdout",
     "output_type": "stream",
     "text": [
      "272/272 [==============================] - 52s 193ms/step\n",
      "Model training time: 0:00:53.568815 \n",
      "\n"
     ]
    }
   ],
   "source": [
    "# Define the baseline model for benchmarking\n",
    "start_time_module = datetime.now()\n",
    "reset_random()\n",
    "Final_model = tfdf.keras.RandomForestModel(task = tfdf.keras.Task.CLASSIFICATION)\n",
    "\n",
    "# Optionally, add evaluation metrics.\n",
    "Final_model.compile(metrics=DEFAULT_METRICS)\n",
    "\n",
    "# \"sys_pipes\" is optional. It enables the display of the training logs.\n",
    "# with sys_pipes():\n",
    "#     Final_model.fit(x=tfds_train)\n",
    "\n",
    "# Train the model.\n",
    "Final_model.fit(x=tfds_train)\n",
    "print ('Model training time:', (datetime.now() - start_time_module), '\\n')"
   ]
  },
  {
   "cell_type": "code",
   "execution_count": 44,
   "metadata": {
    "colab": {
     "base_uri": "https://localhost:8080/"
    },
    "id": "IuwcWWXF89YM",
    "outputId": "8c7eda00-c5ca-4c03-8cdc-4cb0f34f22bc"
   },
   "outputs": [
    {
     "name": "stdout",
     "output_type": "stream",
     "text": [
      "Model: \"random_forest_model_1\"\n",
      "_________________________________________________________________\n",
      " Layer (type)                Output Shape              Param #   \n",
      "=================================================================\n",
      "=================================================================\n",
      "Total params: 1\n",
      "Trainable params: 0\n",
      "Non-trainable params: 1\n",
      "_________________________________________________________________\n",
      "Type: \"RANDOM_FOREST\"\n",
      "Task: CLASSIFICATION\n",
      "Label: \"__LABEL\"\n",
      "\n",
      "Input Features (17):\n",
      "\tAgeCategory\n",
      "\tAlcoholDrinking\n",
      "\tAsthma\n",
      "\tBMI\n",
      "\tDiabetic\n",
      "\tDiffWalking\n",
      "\tGenHealth\n",
      "\tKidneyDisease\n",
      "\tMentalHealth\n",
      "\tPhysicalActivity\n",
      "\tPhysicalHealth\n",
      "\tRace\n",
      "\tSex\n",
      "\tSkinCancer\n",
      "\tSleepTime\n",
      "\tSmoking\n",
      "\tStroke\n",
      "\n",
      "No weights\n",
      "\n",
      "Variable Importance: MEAN_MIN_DEPTH:\n",
      "    1.          \"__LABEL\" 13.567508 ################\n",
      "    2.  \"AlcoholDrinking\" 13.171601 ###############\n",
      "    3. \"PhysicalActivity\" 12.714997 ##############\n",
      "    4.           \"Asthma\" 12.690665 ##############\n",
      "    5.       \"SkinCancer\" 12.322767 ##############\n",
      "    6.     \"MentalHealth\" 11.673380 #############\n",
      "    7.        \"SleepTime\" 11.039937 ############\n",
      "    8.             \"Race\" 10.197939 ###########\n",
      "    9.          \"Smoking\"  9.899352 ##########\n",
      "   10.    \"KidneyDisease\"  9.620691 ##########\n",
      "   11.              \"BMI\"  9.465139 ##########\n",
      "   12.   \"PhysicalHealth\"  8.898944 #########\n",
      "   13.              \"Sex\"  7.344877 #######\n",
      "   14.      \"DiffWalking\"  6.392898 ######\n",
      "   15.         \"Diabetic\"  5.758796 #####\n",
      "   16.           \"Stroke\"  4.161655 ##\n",
      "   17.        \"GenHealth\"  2.573430 \n",
      "   18.      \"AgeCategory\"  2.075570 \n",
      "\n",
      "Variable Importance: NUM_AS_ROOT:\n",
      "    1.      \"AgeCategory\" 100.000000 ################\n",
      "    2.        \"GenHealth\" 67.000000 ##########\n",
      "    3.      \"DiffWalking\" 51.000000 #######\n",
      "    4.         \"Diabetic\" 25.000000 ###\n",
      "    5.   \"PhysicalHealth\" 24.000000 ###\n",
      "    6.           \"Stroke\" 19.000000 ##\n",
      "    7.    \"KidneyDisease\"  5.000000 \n",
      "    8.          \"Smoking\"  5.000000 \n",
      "    9. \"PhysicalActivity\"  4.000000 \n",
      "\n",
      "Variable Importance: NUM_NODES:\n",
      "    1.              \"BMI\" 377946.000000 ################\n",
      "    2.        \"SleepTime\" 141396.000000 #####\n",
      "    3.      \"AgeCategory\" 123020.000000 ####\n",
      "    4.     \"MentalHealth\" 117049.000000 ####\n",
      "    5.   \"PhysicalHealth\" 113890.000000 ####\n",
      "    6.             \"Race\" 87460.000000 ###\n",
      "    7. \"PhysicalActivity\" 41475.000000 #\n",
      "    8.        \"GenHealth\" 40130.000000 #\n",
      "    9.          \"Smoking\" 36982.000000 #\n",
      "   10.           \"Asthma\" 32471.000000 #\n",
      "   11.         \"Diabetic\" 28046.000000 \n",
      "   12.              \"Sex\" 23905.000000 \n",
      "   13.       \"SkinCancer\" 22131.000000 \n",
      "   14.    \"KidneyDisease\" 16605.000000 \n",
      "   15.      \"DiffWalking\" 16402.000000 \n",
      "   16.  \"AlcoholDrinking\" 14062.000000 \n",
      "   17.           \"Stroke\" 8668.000000 \n",
      "\n",
      "Variable Importance: SUM_SCORE:\n",
      "    1.      \"AgeCategory\" 2467075.666656 ################\n",
      "    2.              \"BMI\" 1465229.041829 #########\n",
      "    3.        \"GenHealth\" 1381187.080815 ########\n",
      "    4.   \"PhysicalHealth\" 548245.873089 ###\n",
      "    5.           \"Stroke\" 509915.359399 ###\n",
      "    6.        \"SleepTime\" 494280.952006 ##\n",
      "    7.      \"DiffWalking\" 484518.450465 ##\n",
      "    8.         \"Diabetic\" 434215.377388 ##\n",
      "    9.     \"MentalHealth\" 417143.423210 ##\n",
      "   10.              \"Sex\" 392318.940148 ##\n",
      "   11.             \"Race\" 387286.110659 ##\n",
      "   12.          \"Smoking\" 197847.625491 \n",
      "   13.    \"KidneyDisease\" 154131.523756 \n",
      "   14. \"PhysicalActivity\" 135903.674895 \n",
      "   15.           \"Asthma\" 115658.637734 \n",
      "   16.       \"SkinCancer\" 96636.712711 \n",
      "   17.  \"AlcoholDrinking\" 50306.090077 \n",
      "\n",
      "\n",
      "\n",
      "Winner take all: true\n",
      "Out-of-bag evaluation: accuracy:0.91553 logloss:0.994495\n",
      "Number of trees: 300\n",
      "Total number of nodes: 2483576\n",
      "\n",
      "Number of nodes by tree:\n",
      "Count: 300 Average: 8278.59 StdDev: 332.216\n",
      "Min: 7377 Max: 9451 Ignored: 0\n",
      "----------------------------------------------\n",
      "[ 7377, 7480)  6   2.00%   2.00% #\n",
      "[ 7480, 7584)  2   0.67%   2.67%\n",
      "[ 7584, 7688)  2   0.67%   3.33%\n",
      "[ 7688, 7792) 11   3.67%   7.00% ###\n",
      "[ 7792, 7895) 17   5.67%  12.67% ####\n",
      "[ 7895, 7999) 22   7.33%  20.00% #####\n",
      "[ 7999, 8103) 28   9.33%  29.33% #######\n",
      "[ 8103, 8207) 30  10.00%  39.33% #######\n",
      "[ 8207, 8310) 35  11.67%  51.00% #########\n",
      "[ 8310, 8414) 41  13.67%  64.67% ##########\n",
      "[ 8414, 8518) 36  12.00%  76.67% #########\n",
      "[ 8518, 8622) 28   9.33%  86.00% #######\n",
      "[ 8622, 8725) 16   5.33%  91.33% ####\n",
      "[ 8725, 8829) 16   5.33%  96.67% ####\n",
      "[ 8829, 8933)  6   2.00%  98.67% #\n",
      "[ 8933, 9037)  1   0.33%  99.00%\n",
      "[ 9037, 9140)  0   0.00%  99.00%\n",
      "[ 9140, 9244)  2   0.67%  99.67%\n",
      "[ 9244, 9348)  0   0.00%  99.67%\n",
      "[ 9348, 9451]  1   0.33% 100.00%\n",
      "\n",
      "Depth by leafs:\n",
      "Count: 1241938 Average: 13.5675 StdDev: 1.72962\n",
      "Min: 4 Max: 15 Ignored: 0\n",
      "----------------------------------------------\n",
      "[  4,  5)      4   0.00%   0.00%\n",
      "[  5,  6)    144   0.01%   0.01%\n",
      "[  6,  7)    831   0.07%   0.08%\n",
      "[  7,  8)   3242   0.26%   0.34%\n",
      "[  8,  9)   9988   0.80%   1.14%\n",
      "[  9, 10)  24081   1.94%   3.08%\n",
      "[ 10, 11)  48433   3.90%   6.98% #\n",
      "[ 11, 12)  84059   6.77%  13.75% ##\n",
      "[ 12, 13) 127057  10.23%  23.98% ##\n",
      "[ 13, 14) 174163  14.02%  38.01% ###\n",
      "[ 14, 15) 221836  17.86%  55.87% ####\n",
      "[ 15, 15] 548100  44.13% 100.00% ##########\n",
      "\n",
      "Number of training obs by leaf:\n",
      "Count: 1241938 Average: 65.6615 StdDev: 298.017\n",
      "Min: 5 Max: 36216 Ignored: 0\n",
      "----------------------------------------------\n",
      "[     5,  1815) 1236260  99.54%  99.54% ##########\n",
      "[  1815,  3626)    4257   0.34%  99.89%\n",
      "[  3626,  5436)     848   0.07%  99.95%\n",
      "[  5436,  7247)     304   0.02%  99.98%\n",
      "[  7247,  9058)     112   0.01%  99.99%\n",
      "[  9058, 10868)      77   0.01%  99.99%\n",
      "[ 10868, 12679)      38   0.00% 100.00%\n",
      "[ 12679, 14489)      13   0.00% 100.00%\n",
      "[ 14489, 16300)      15   0.00% 100.00%\n",
      "[ 16300, 18111)       7   0.00% 100.00%\n",
      "[ 18111, 19921)       2   0.00% 100.00%\n",
      "[ 19921, 21732)       2   0.00% 100.00%\n",
      "[ 21732, 23542)       1   0.00% 100.00%\n",
      "[ 23542, 25353)       0   0.00% 100.00%\n",
      "[ 25353, 27164)       0   0.00% 100.00%\n",
      "[ 27164, 28974)       0   0.00% 100.00%\n",
      "[ 28974, 30785)       0   0.00% 100.00%\n",
      "[ 30785, 32595)       1   0.00% 100.00%\n",
      "[ 32595, 34406)       0   0.00% 100.00%\n",
      "[ 34406, 36216]       1   0.00% 100.00%\n",
      "\n",
      "Attribute in nodes:\n",
      "\t377946 : BMI [NUMERICAL]\n",
      "\t141396 : SleepTime [NUMERICAL]\n",
      "\t123020 : AgeCategory [CATEGORICAL]\n",
      "\t117049 : MentalHealth [NUMERICAL]\n",
      "\t113890 : PhysicalHealth [NUMERICAL]\n",
      "\t87460 : Race [CATEGORICAL]\n",
      "\t41475 : PhysicalActivity [CATEGORICAL]\n",
      "\t40130 : GenHealth [CATEGORICAL]\n",
      "\t36982 : Smoking [CATEGORICAL]\n",
      "\t32471 : Asthma [CATEGORICAL]\n",
      "\t28046 : Diabetic [CATEGORICAL]\n",
      "\t23905 : Sex [CATEGORICAL]\n",
      "\t22131 : SkinCancer [CATEGORICAL]\n",
      "\t16605 : KidneyDisease [CATEGORICAL]\n",
      "\t16402 : DiffWalking [CATEGORICAL]\n",
      "\t14062 : AlcoholDrinking [CATEGORICAL]\n",
      "\t8668 : Stroke [CATEGORICAL]\n",
      "\n",
      "Attribute in nodes with depth <= 0:\n",
      "\t100 : AgeCategory [CATEGORICAL]\n",
      "\t67 : GenHealth [CATEGORICAL]\n",
      "\t51 : DiffWalking [CATEGORICAL]\n",
      "\t25 : Diabetic [CATEGORICAL]\n",
      "\t24 : PhysicalHealth [NUMERICAL]\n",
      "\t19 : Stroke [CATEGORICAL]\n",
      "\t5 : Smoking [CATEGORICAL]\n",
      "\t5 : KidneyDisease [CATEGORICAL]\n",
      "\t4 : PhysicalActivity [CATEGORICAL]\n",
      "\n",
      "Attribute in nodes with depth <= 1:\n",
      "\t218 : AgeCategory [CATEGORICAL]\n",
      "\t206 : GenHealth [CATEGORICAL]\n",
      "\t132 : DiffWalking [CATEGORICAL]\n",
      "\t129 : Stroke [CATEGORICAL]\n",
      "\t102 : Diabetic [CATEGORICAL]\n",
      "\t54 : PhysicalHealth [NUMERICAL]\n",
      "\t25 : KidneyDisease [CATEGORICAL]\n",
      "\t18 : Smoking [CATEGORICAL]\n",
      "\t7 : Sex [CATEGORICAL]\n",
      "\t5 : PhysicalActivity [CATEGORICAL]\n",
      "\t3 : SkinCancer [CATEGORICAL]\n",
      "\t1 : Race [CATEGORICAL]\n",
      "\n",
      "Attribute in nodes with depth <= 2:\n",
      "\t473 : GenHealth [CATEGORICAL]\n",
      "\t446 : AgeCategory [CATEGORICAL]\n",
      "\t358 : Stroke [CATEGORICAL]\n",
      "\t243 : Diabetic [CATEGORICAL]\n",
      "\t235 : DiffWalking [CATEGORICAL]\n",
      "\t106 : PhysicalHealth [NUMERICAL]\n",
      "\t86 : KidneyDisease [CATEGORICAL]\n",
      "\t78 : Sex [CATEGORICAL]\n",
      "\t39 : Smoking [CATEGORICAL]\n",
      "\t15 : SkinCancer [CATEGORICAL]\n",
      "\t7 : PhysicalActivity [CATEGORICAL]\n",
      "\t6 : Race [CATEGORICAL]\n",
      "\t4 : SleepTime [NUMERICAL]\n",
      "\t4 : BMI [NUMERICAL]\n",
      "\n",
      "Attribute in nodes with depth <= 3:\n",
      "\t947 : GenHealth [CATEGORICAL]\n",
      "\t879 : AgeCategory [CATEGORICAL]\n",
      "\t723 : Stroke [CATEGORICAL]\n",
      "\t491 : Diabetic [CATEGORICAL]\n",
      "\t390 : DiffWalking [CATEGORICAL]\n",
      "\t345 : Sex [CATEGORICAL]\n",
      "\t229 : KidneyDisease [CATEGORICAL]\n",
      "\t195 : PhysicalHealth [NUMERICAL]\n",
      "\t110 : Smoking [CATEGORICAL]\n",
      "\t46 : Race [CATEGORICAL]\n",
      "\t43 : SkinCancer [CATEGORICAL]\n",
      "\t37 : SleepTime [NUMERICAL]\n",
      "\t29 : BMI [NUMERICAL]\n",
      "\t15 : PhysicalActivity [CATEGORICAL]\n",
      "\t13 : Asthma [CATEGORICAL]\n",
      "\t8 : MentalHealth [NUMERICAL]\n",
      "\n",
      "Attribute in nodes with depth <= 5:\n",
      "\t3661 : AgeCategory [CATEGORICAL]\n",
      "\t2936 : GenHealth [CATEGORICAL]\n",
      "\t1914 : Stroke [CATEGORICAL]\n",
      "\t1779 : Sex [CATEGORICAL]\n",
      "\t1538 : Diabetic [CATEGORICAL]\n",
      "\t1074 : KidneyDisease [CATEGORICAL]\n",
      "\t956 : BMI [NUMERICAL]\n",
      "\t906 : DiffWalking [CATEGORICAL]\n",
      "\t889 : PhysicalHealth [NUMERICAL]\n",
      "\t779 : Race [CATEGORICAL]\n",
      "\t726 : Smoking [CATEGORICAL]\n",
      "\t653 : SleepTime [NUMERICAL]\n",
      "\t331 : MentalHealth [NUMERICAL]\n",
      "\t242 : SkinCancer [CATEGORICAL]\n",
      "\t197 : Asthma [CATEGORICAL]\n",
      "\t109 : PhysicalActivity [CATEGORICAL]\n",
      "\t54 : AlcoholDrinking [CATEGORICAL]\n",
      "\n",
      "Condition type in nodes:\n",
      "\t750281 : HigherCondition\n",
      "\t491357 : ContainsBitmapCondition\n",
      "Condition type in nodes with depth <= 0:\n",
      "\t276 : ContainsBitmapCondition\n",
      "\t24 : HigherCondition\n",
      "Condition type in nodes with depth <= 1:\n",
      "\t846 : ContainsBitmapCondition\n",
      "\t54 : HigherCondition\n",
      "Condition type in nodes with depth <= 2:\n",
      "\t1986 : ContainsBitmapCondition\n",
      "\t114 : HigherCondition\n",
      "Condition type in nodes with depth <= 3:\n",
      "\t4231 : ContainsBitmapCondition\n",
      "\t269 : HigherCondition\n",
      "Condition type in nodes with depth <= 5:\n",
      "\t15915 : ContainsBitmapCondition\n",
      "\t2829 : HigherCondition\n",
      "Node format: NOT_SET\n",
      "\n",
      "Training OOB:\n",
      "\ttrees: 1, Out-of-bag evaluation: accuracy:0.903799 logloss:3.46744\n",
      "\ttrees: 11, Out-of-bag evaluation: accuracy:0.913018 logloss:2.27035\n",
      "\ttrees: 21, Out-of-bag evaluation: accuracy:0.914088 logloss:1.90698\n",
      "\ttrees: 31, Out-of-bag evaluation: accuracy:0.9145 logloss:1.73183\n",
      "\ttrees: 41, Out-of-bag evaluation: accuracy:0.914783 logloss:1.61723\n",
      "\ttrees: 51, Out-of-bag evaluation: accuracy:0.914967 logloss:1.53924\n",
      "\ttrees: 61, Out-of-bag evaluation: accuracy:0.915107 logloss:1.47576\n",
      "\ttrees: 71, Out-of-bag evaluation: accuracy:0.915048 logloss:1.42472\n",
      "\ttrees: 81, Out-of-bag evaluation: accuracy:0.915232 logloss:1.38064\n",
      "\ttrees: 91, Out-of-bag evaluation: accuracy:0.915262 logloss:1.33989\n",
      "\ttrees: 101, Out-of-bag evaluation: accuracy:0.915269 logloss:1.30211\n",
      "\ttrees: 111, Out-of-bag evaluation: accuracy:0.915335 logloss:1.26897\n",
      "\ttrees: 121, Out-of-bag evaluation: accuracy:0.915401 logloss:1.23939\n",
      "\ttrees: 131, Out-of-bag evaluation: accuracy:0.915424 logloss:1.21588\n",
      "\ttrees: 141, Out-of-bag evaluation: accuracy:0.915449 logloss:1.19154\n",
      "\ttrees: 151, Out-of-bag evaluation: accuracy:0.915464 logloss:1.17122\n",
      "\ttrees: 161, Out-of-bag evaluation: accuracy:0.915424 logloss:1.15581\n",
      "\ttrees: 171, Out-of-bag evaluation: accuracy:0.91542 logloss:1.14204\n",
      "\ttrees: 181, Out-of-bag evaluation: accuracy:0.915383 logloss:1.12606\n",
      "\ttrees: 191, Out-of-bag evaluation: accuracy:0.915372 logloss:1.11119\n",
      "\ttrees: 201, Out-of-bag evaluation: accuracy:0.91539 logloss:1.09776\n",
      "\ttrees: 211, Out-of-bag evaluation: accuracy:0.915457 logloss:1.08991\n",
      "\ttrees: 221, Out-of-bag evaluation: accuracy:0.915504 logloss:1.07585\n",
      "\ttrees: 231, Out-of-bag evaluation: accuracy:0.915457 logloss:1.06569\n",
      "\ttrees: 241, Out-of-bag evaluation: accuracy:0.915464 logloss:1.0537\n",
      "\ttrees: 251, Out-of-bag evaluation: accuracy:0.91542 logloss:1.04456\n",
      "\ttrees: 261, Out-of-bag evaluation: accuracy:0.915504 logloss:1.03234\n",
      "\ttrees: 271, Out-of-bag evaluation: accuracy:0.915549 logloss:1.02121\n",
      "\ttrees: 281, Out-of-bag evaluation: accuracy:0.915545 logloss:1.01233\n",
      "\ttrees: 291, Out-of-bag evaluation: accuracy:0.915578 logloss:1.00253\n",
      "\ttrees: 300, Out-of-bag evaluation: accuracy:0.91553 logloss:0.994495\n",
      "\n"
     ]
    }
   ],
   "source": [
    "Final_model.summary()"
   ]
  },
  {
   "cell_type": "markdown",
   "metadata": {
    "id": "vAzsJd7g9Oqi"
   },
   "source": [
    "### 5.b) Load Test Dataset and Make Predictions"
   ]
  },
  {
   "cell_type": "code",
   "execution_count": 45,
   "metadata": {
    "id": "9hPuYzYP9VZ9"
   },
   "outputs": [
    {
     "name": "stderr",
     "output_type": "stream",
     "text": [
      "/usr/local/lib/python3.8/dist-packages/tensorflow_decision_forests/keras/core.py:2036: FutureWarning: In a future version of pandas all arguments of DataFrame.drop except for the argument 'labels' will be keyword-only.\n",
      "  features_dataframe = dataframe.drop(label, 1)\n"
     ]
    }
   ],
   "source": [
    "# Finalize the test dataset for the prediction activities\n",
    "tfds_test = tfdf.keras.pd_dataframe_to_tf_dataset(df_dataset_test, label='target', task = tfdf.keras.Task.CLASSIFICATION)"
   ]
  },
  {
   "cell_type": "code",
   "execution_count": 46,
   "metadata": {
    "colab": {
     "base_uri": "https://localhost:8080/"
    },
    "id": "-fvgenmXwXjV",
    "outputId": "90fe95c9-87a0-4db4-8559-73fe096fa2c4"
   },
   "outputs": [
    {
     "name": "stdout",
     "output_type": "stream",
     "text": [
      "48/48 [==============================] - 5s 92ms/step - loss: 0.0000e+00 - accuracy: 0.9159 - auc: 0.8317\n",
      "\n",
      "loss: 0.0000\n",
      "accuracy: 0.9159\n",
      "auc: 0.8317\n"
     ]
    }
   ],
   "source": [
    "Final_eval = Final_model.evaluate(tfds_test, return_dict=True)\n",
    "print()\n",
    "\n",
    "for name, value in Final_eval.items():\n",
    "    print(f\"{name}: {value:.4f}\")"
   ]
  },
  {
   "cell_type": "code",
   "execution_count": 47,
   "metadata": {
    "id": "YB2v5Iq9wXjV"
   },
   "outputs": [],
   "source": [
    "if NOTIFY_STATUS: status_notify(\"Task 5 - Finalize Model and Present Analysis completed! \"+datetime.now().strftime('%a %B %d, %Y %I:%M:%S %p'))"
   ]
  },
  {
   "cell_type": "code",
   "execution_count": 48,
   "metadata": {
    "colab": {
     "base_uri": "https://localhost:8080/"
    },
    "id": "piIVF1NIwXjW",
    "outputId": "c7511d15-bfc7-4492-fef5-e3d368115997"
   },
   "outputs": [
    {
     "name": "stdout",
     "output_type": "stream",
     "text": [
      "Total time for the script: 0:03:00.261052\n"
     ]
    }
   ],
   "source": [
    "print ('Total time for the script:',(datetime.now() - start_time_script))"
   ]
  }
 ],
 "metadata": {
  "colab": {
   "collapsed_sections": [],
   "name": "py_decisionforests_regression_kaggle_tabular_playground_2021jan.ipynb",
   "provenance": []
  },
  "kernelspec": {
   "display_name": "Python 3 (ipykernel)",
   "language": "python",
   "name": "python3"
  },
  "language_info": {
   "codemirror_mode": {
    "name": "ipython",
    "version": 3
   },
   "file_extension": ".py",
   "mimetype": "text/x-python",
   "name": "python",
   "nbconvert_exporter": "python",
   "pygments_lexer": "ipython3",
   "version": "3.8.10"
  }
 },
 "nbformat": 4,
 "nbformat_minor": 4
}

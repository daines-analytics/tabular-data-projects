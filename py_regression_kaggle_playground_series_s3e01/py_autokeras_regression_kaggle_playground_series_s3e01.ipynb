{
  "cells": [
    {
      "cell_type": "markdown",
      "metadata": {
        "id": "hKFYw6W4gY4d"
      },
      "source": [
        "# Regression Tabular Model for Kaggle Playground Series Season 3 Episode 1 Using Python and AutoKeras\n",
        "### David Lowe\n",
        "### January 20, 2023\n",
        "\n",
        "SUMMARY: The project aims to construct a predictive model using various machine learning algorithms and document the end-to-end steps using a template. The Kaggle Playground Series Season 3 Episode 1 Dataset is a regression modeling situation where we are trying to predict the value of a continuous variable.\n",
        "\n",
        "INTRODUCTION: Kaggle wants to provide an approachable environment for relatively new people in their data science journey. Since January 2021, they have hosted playground-style competitions to give the Kaggle community a variety of reasonably lightweight challenges that can be used to learn and sharpen skills in different aspects of machine learning and data science. The dataset for this competition was generated from a deep learning model trained on the California Housing Dataset. Feature distributions are close to but different from the original.\n",
        "\n",
        "ANALYSIS: After 100 trials, the best AutoKeras model processed the training dataset with a loss rate 0.6705. When we tested the final model using the test dataset, the model achieved an RMSE score of 0.7341.\n",
        "\n",
        "CONCLUSION: In this iteration, AutoKeras appeared to be a suitable algorithm for modeling this dataset.\n",
        "\n",
        "Dataset Used: Playground Series Season 3, Episode 1\n",
        "\n",
        "Dataset ML Model: Regression with numerical features\n",
        "\n",
        "Dataset Reference: https://www.kaggle.com/competitions/playground-series-s3e1\n",
        "\n",
        "One source of potential performance benchmarks: https://www.kaggle.com/competitions/playground-series-s3e1/leaderboard"
      ]
    },
    {
      "cell_type": "markdown",
      "metadata": {
        "id": "7WDbRM3ngY4g"
      },
      "source": [
        "## Task 1 - Prepare Environment"
      ]
    },
    {
      "cell_type": "code",
      "source": [
        "# Install the AutoKeras package\n",
        "!pip install autokeras"
      ],
      "metadata": {
        "id": "R4MzOzPntAuG",
        "colab": {
          "base_uri": "https://localhost:8080/"
        },
        "outputId": "71771e31-f185-4885-d8ff-f1b0a315c572"
      },
      "execution_count": 1,
      "outputs": [
        {
          "output_type": "stream",
          "name": "stdout",
          "text": [
            "Looking in indexes: https://pypi.org/simple, https://us-python.pkg.dev/colab-wheels/public/simple/\n",
            "Collecting autokeras\n",
            "  Downloading autokeras-1.0.20-py3-none-any.whl (162 kB)\n",
            "\u001b[2K     \u001b[90m━━━━━━━━━━━━━━━━━━━━━━━━━━━━━━━━━━━━━━━\u001b[0m \u001b[32m162.4/162.4 KB\u001b[0m \u001b[31m4.8 MB/s\u001b[0m eta \u001b[36m0:00:00\u001b[0m\n",
            "\u001b[?25hRequirement already satisfied: pandas in /usr/local/lib/python3.8/dist-packages (from autokeras) (1.3.5)\n",
            "Requirement already satisfied: tensorflow>=2.8.0 in /usr/local/lib/python3.8/dist-packages (from autokeras) (2.9.2)\n",
            "Requirement already satisfied: packaging in /usr/local/lib/python3.8/dist-packages (from autokeras) (21.3)\n",
            "Collecting keras-tuner>=1.1.0\n",
            "  Downloading keras_tuner-1.1.3-py3-none-any.whl (135 kB)\n",
            "\u001b[2K     \u001b[90m━━━━━━━━━━━━━━━━━━━━━━━━━━━━━━━━━━━━━━\u001b[0m \u001b[32m135.7/135.7 KB\u001b[0m \u001b[31m12.4 MB/s\u001b[0m eta \u001b[36m0:00:00\u001b[0m\n",
            "\u001b[?25hRequirement already satisfied: numpy in /usr/local/lib/python3.8/dist-packages (from keras-tuner>=1.1.0->autokeras) (1.21.6)\n",
            "Requirement already satisfied: tensorboard in /usr/local/lib/python3.8/dist-packages (from keras-tuner>=1.1.0->autokeras) (2.9.1)\n",
            "Requirement already satisfied: ipython in /usr/local/lib/python3.8/dist-packages (from keras-tuner>=1.1.0->autokeras) (7.9.0)\n",
            "Collecting kt-legacy\n",
            "  Downloading kt_legacy-1.0.4-py3-none-any.whl (9.6 kB)\n",
            "Requirement already satisfied: requests in /usr/local/lib/python3.8/dist-packages (from keras-tuner>=1.1.0->autokeras) (2.25.1)\n",
            "Requirement already satisfied: keras<2.10.0,>=2.9.0rc0 in /usr/local/lib/python3.8/dist-packages (from tensorflow>=2.8.0->autokeras) (2.9.0)\n",
            "Requirement already satisfied: grpcio<2.0,>=1.24.3 in /usr/local/lib/python3.8/dist-packages (from tensorflow>=2.8.0->autokeras) (1.51.1)\n",
            "Requirement already satisfied: wrapt>=1.11.0 in /usr/local/lib/python3.8/dist-packages (from tensorflow>=2.8.0->autokeras) (1.14.1)\n",
            "Requirement already satisfied: tensorflow-estimator<2.10.0,>=2.9.0rc0 in /usr/local/lib/python3.8/dist-packages (from tensorflow>=2.8.0->autokeras) (2.9.0)\n",
            "Requirement already satisfied: six>=1.12.0 in /usr/local/lib/python3.8/dist-packages (from tensorflow>=2.8.0->autokeras) (1.15.0)\n",
            "Requirement already satisfied: tensorflow-io-gcs-filesystem>=0.23.1 in /usr/local/lib/python3.8/dist-packages (from tensorflow>=2.8.0->autokeras) (0.29.0)\n",
            "Requirement already satisfied: termcolor>=1.1.0 in /usr/local/lib/python3.8/dist-packages (from tensorflow>=2.8.0->autokeras) (2.2.0)\n",
            "Requirement already satisfied: keras-preprocessing>=1.1.1 in /usr/local/lib/python3.8/dist-packages (from tensorflow>=2.8.0->autokeras) (1.1.2)\n",
            "Requirement already satisfied: absl-py>=1.0.0 in /usr/local/lib/python3.8/dist-packages (from tensorflow>=2.8.0->autokeras) (1.3.0)\n",
            "Requirement already satisfied: setuptools in /usr/local/lib/python3.8/dist-packages (from tensorflow>=2.8.0->autokeras) (57.4.0)\n",
            "Requirement already satisfied: astunparse>=1.6.0 in /usr/local/lib/python3.8/dist-packages (from tensorflow>=2.8.0->autokeras) (1.6.3)\n",
            "Requirement already satisfied: opt-einsum>=2.3.2 in /usr/local/lib/python3.8/dist-packages (from tensorflow>=2.8.0->autokeras) (3.3.0)\n",
            "Requirement already satisfied: flatbuffers<2,>=1.12 in /usr/local/lib/python3.8/dist-packages (from tensorflow>=2.8.0->autokeras) (1.12)\n",
            "Requirement already satisfied: h5py>=2.9.0 in /usr/local/lib/python3.8/dist-packages (from tensorflow>=2.8.0->autokeras) (3.1.0)\n",
            "Requirement already satisfied: protobuf<3.20,>=3.9.2 in /usr/local/lib/python3.8/dist-packages (from tensorflow>=2.8.0->autokeras) (3.19.6)\n",
            "Requirement already satisfied: libclang>=13.0.0 in /usr/local/lib/python3.8/dist-packages (from tensorflow>=2.8.0->autokeras) (15.0.6.1)\n",
            "Requirement already satisfied: gast<=0.4.0,>=0.2.1 in /usr/local/lib/python3.8/dist-packages (from tensorflow>=2.8.0->autokeras) (0.4.0)\n",
            "Requirement already satisfied: typing-extensions>=3.6.6 in /usr/local/lib/python3.8/dist-packages (from tensorflow>=2.8.0->autokeras) (4.4.0)\n",
            "Requirement already satisfied: google-pasta>=0.1.1 in /usr/local/lib/python3.8/dist-packages (from tensorflow>=2.8.0->autokeras) (0.2.0)\n",
            "Requirement already satisfied: pyparsing!=3.0.5,>=2.0.2 in /usr/local/lib/python3.8/dist-packages (from packaging->autokeras) (3.0.9)\n",
            "Requirement already satisfied: python-dateutil>=2.7.3 in /usr/local/lib/python3.8/dist-packages (from pandas->autokeras) (2.8.2)\n",
            "Requirement already satisfied: pytz>=2017.3 in /usr/local/lib/python3.8/dist-packages (from pandas->autokeras) (2022.7)\n",
            "Requirement already satisfied: wheel<1.0,>=0.23.0 in /usr/local/lib/python3.8/dist-packages (from astunparse>=1.6.0->tensorflow>=2.8.0->autokeras) (0.38.4)\n",
            "Requirement already satisfied: google-auth<3,>=1.6.3 in /usr/local/lib/python3.8/dist-packages (from tensorboard->keras-tuner>=1.1.0->autokeras) (2.16.0)\n",
            "Requirement already satisfied: markdown>=2.6.8 in /usr/local/lib/python3.8/dist-packages (from tensorboard->keras-tuner>=1.1.0->autokeras) (3.4.1)\n",
            "Requirement already satisfied: google-auth-oauthlib<0.5,>=0.4.1 in /usr/local/lib/python3.8/dist-packages (from tensorboard->keras-tuner>=1.1.0->autokeras) (0.4.6)\n",
            "Requirement already satisfied: werkzeug>=1.0.1 in /usr/local/lib/python3.8/dist-packages (from tensorboard->keras-tuner>=1.1.0->autokeras) (1.0.1)\n",
            "Requirement already satisfied: tensorboard-data-server<0.7.0,>=0.6.0 in /usr/local/lib/python3.8/dist-packages (from tensorboard->keras-tuner>=1.1.0->autokeras) (0.6.1)\n",
            "Requirement already satisfied: tensorboard-plugin-wit>=1.6.0 in /usr/local/lib/python3.8/dist-packages (from tensorboard->keras-tuner>=1.1.0->autokeras) (1.8.1)\n",
            "Requirement already satisfied: idna<3,>=2.5 in /usr/local/lib/python3.8/dist-packages (from requests->keras-tuner>=1.1.0->autokeras) (2.10)\n",
            "Requirement already satisfied: chardet<5,>=3.0.2 in /usr/local/lib/python3.8/dist-packages (from requests->keras-tuner>=1.1.0->autokeras) (4.0.0)\n",
            "Requirement already satisfied: urllib3<1.27,>=1.21.1 in /usr/local/lib/python3.8/dist-packages (from requests->keras-tuner>=1.1.0->autokeras) (1.24.3)\n",
            "Requirement already satisfied: certifi>=2017.4.17 in /usr/local/lib/python3.8/dist-packages (from requests->keras-tuner>=1.1.0->autokeras) (2022.12.7)\n",
            "Requirement already satisfied: decorator in /usr/local/lib/python3.8/dist-packages (from ipython->keras-tuner>=1.1.0->autokeras) (4.4.2)\n",
            "Requirement already satisfied: prompt-toolkit<2.1.0,>=2.0.0 in /usr/local/lib/python3.8/dist-packages (from ipython->keras-tuner>=1.1.0->autokeras) (2.0.10)\n",
            "Requirement already satisfied: pygments in /usr/local/lib/python3.8/dist-packages (from ipython->keras-tuner>=1.1.0->autokeras) (2.6.1)\n",
            "Requirement already satisfied: traitlets>=4.2 in /usr/local/lib/python3.8/dist-packages (from ipython->keras-tuner>=1.1.0->autokeras) (5.7.1)\n",
            "Requirement already satisfied: pickleshare in /usr/local/lib/python3.8/dist-packages (from ipython->keras-tuner>=1.1.0->autokeras) (0.7.5)\n",
            "Collecting jedi>=0.10\n",
            "  Downloading jedi-0.18.2-py2.py3-none-any.whl (1.6 MB)\n",
            "\u001b[2K     \u001b[90m━━━━━━━━━━━━━━━━━━━━━━━━━━━━━━━━━━━━━━━━\u001b[0m \u001b[32m1.6/1.6 MB\u001b[0m \u001b[31m48.2 MB/s\u001b[0m eta \u001b[36m0:00:00\u001b[0m\n",
            "\u001b[?25hRequirement already satisfied: backcall in /usr/local/lib/python3.8/dist-packages (from ipython->keras-tuner>=1.1.0->autokeras) (0.2.0)\n",
            "Requirement already satisfied: pexpect in /usr/local/lib/python3.8/dist-packages (from ipython->keras-tuner>=1.1.0->autokeras) (4.8.0)\n",
            "Requirement already satisfied: rsa<5,>=3.1.4 in /usr/local/lib/python3.8/dist-packages (from google-auth<3,>=1.6.3->tensorboard->keras-tuner>=1.1.0->autokeras) (4.9)\n",
            "Requirement already satisfied: cachetools<6.0,>=2.0.0 in /usr/local/lib/python3.8/dist-packages (from google-auth<3,>=1.6.3->tensorboard->keras-tuner>=1.1.0->autokeras) (5.2.1)\n",
            "Requirement already satisfied: pyasn1-modules>=0.2.1 in /usr/local/lib/python3.8/dist-packages (from google-auth<3,>=1.6.3->tensorboard->keras-tuner>=1.1.0->autokeras) (0.2.8)\n",
            "Requirement already satisfied: requests-oauthlib>=0.7.0 in /usr/local/lib/python3.8/dist-packages (from google-auth-oauthlib<0.5,>=0.4.1->tensorboard->keras-tuner>=1.1.0->autokeras) (1.3.1)\n",
            "Requirement already satisfied: parso<0.9.0,>=0.8.0 in /usr/local/lib/python3.8/dist-packages (from jedi>=0.10->ipython->keras-tuner>=1.1.0->autokeras) (0.8.3)\n",
            "Requirement already satisfied: importlib-metadata>=4.4 in /usr/local/lib/python3.8/dist-packages (from markdown>=2.6.8->tensorboard->keras-tuner>=1.1.0->autokeras) (6.0.0)\n",
            "Requirement already satisfied: wcwidth in /usr/local/lib/python3.8/dist-packages (from prompt-toolkit<2.1.0,>=2.0.0->ipython->keras-tuner>=1.1.0->autokeras) (0.2.5)\n",
            "Requirement already satisfied: ptyprocess>=0.5 in /usr/local/lib/python3.8/dist-packages (from pexpect->ipython->keras-tuner>=1.1.0->autokeras) (0.7.0)\n",
            "Requirement already satisfied: zipp>=0.5 in /usr/local/lib/python3.8/dist-packages (from importlib-metadata>=4.4->markdown>=2.6.8->tensorboard->keras-tuner>=1.1.0->autokeras) (3.11.0)\n",
            "Requirement already satisfied: pyasn1<0.5.0,>=0.4.6 in /usr/local/lib/python3.8/dist-packages (from pyasn1-modules>=0.2.1->google-auth<3,>=1.6.3->tensorboard->keras-tuner>=1.1.0->autokeras) (0.4.8)\n",
            "Requirement already satisfied: oauthlib>=3.0.0 in /usr/local/lib/python3.8/dist-packages (from requests-oauthlib>=0.7.0->google-auth-oauthlib<0.5,>=0.4.1->tensorboard->keras-tuner>=1.1.0->autokeras) (3.2.2)\n",
            "Installing collected packages: kt-legacy, jedi, keras-tuner, autokeras\n",
            "Successfully installed autokeras-1.0.20 jedi-0.18.2 keras-tuner-1.1.3 kt-legacy-1.0.4\n"
          ]
        }
      ]
    },
    {
      "cell_type": "code",
      "execution_count": 2,
      "metadata": {
        "colab": {
          "base_uri": "https://localhost:8080/"
        },
        "id": "RtGN_DBigY4h",
        "outputId": "c4a8ad72-d068-471e-ed31-869f765f5df1"
      },
      "outputs": [
        {
          "output_type": "stream",
          "name": "stdout",
          "text": [
            "Wed Jan 18 16:23:51 2023       \n",
            "+-----------------------------------------------------------------------------+\n",
            "| NVIDIA-SMI 460.32.03    Driver Version: 460.32.03    CUDA Version: 11.2     |\n",
            "|-------------------------------+----------------------+----------------------+\n",
            "| GPU  Name        Persistence-M| Bus-Id        Disp.A | Volatile Uncorr. ECC |\n",
            "| Fan  Temp  Perf  Pwr:Usage/Cap|         Memory-Usage | GPU-Util  Compute M. |\n",
            "|                               |                      |               MIG M. |\n",
            "|===============================+======================+======================|\n",
            "|   0  A100-SXM4-40GB      Off  | 00000000:00:04.0 Off |                    0 |\n",
            "| N/A   33C    P0    54W / 400W |      0MiB / 40536MiB |      0%      Default |\n",
            "|                               |                      |             Disabled |\n",
            "+-------------------------------+----------------------+----------------------+\n",
            "                                                                               \n",
            "+-----------------------------------------------------------------------------+\n",
            "| Processes:                                                                  |\n",
            "|  GPU   GI   CI        PID   Type   Process name                  GPU Memory |\n",
            "|        ID   ID                                                   Usage      |\n",
            "|=============================================================================|\n",
            "|  No running processes found                                                 |\n",
            "+-----------------------------------------------------------------------------+\n"
          ]
        }
      ],
      "source": [
        "# Retrieve the GPU information\n",
        "gpu_info = !nvidia-smi\n",
        "gpu_info = '\\n'.join(gpu_info)\n",
        "print(gpu_info)"
      ]
    },
    {
      "cell_type": "code",
      "execution_count": 3,
      "metadata": {
        "colab": {
          "base_uri": "https://localhost:8080/"
        },
        "id": "-IfKhGIQgY4i",
        "outputId": "490b3530-c0fa-4065-e672-2c81b882a1ff"
      },
      "outputs": [
        {
          "output_type": "stream",
          "name": "stdout",
          "text": [
            "Your runtime has 89.6 gigabytes of available RAM\n",
            "\n"
          ]
        }
      ],
      "source": [
        "# Retrieve the memory configuration\n",
        "from psutil import virtual_memory\n",
        "ram_gb = virtual_memory().total / 1e9\n",
        "print('Your runtime has {:.1f} gigabytes of available RAM\\n'.format(ram_gb))"
      ]
    },
    {
      "cell_type": "code",
      "execution_count": 4,
      "metadata": {
        "colab": {
          "base_uri": "https://localhost:8080/"
        },
        "id": "sTaqGHqFgY4i",
        "outputId": "6ffb8117-8226-4e02-abd7-0c4f90abf54a"
      },
      "outputs": [
        {
          "output_type": "stream",
          "name": "stdout",
          "text": [
            "The number of available CPUs is: 12\n"
          ]
        }
      ],
      "source": [
        "# Retrieve the CPU information\n",
        "ncpu = !nproc\n",
        "print(\"The number of available CPUs is:\", ncpu[0])"
      ]
    },
    {
      "cell_type": "markdown",
      "metadata": {
        "id": "1zXMlvJvgY4i"
      },
      "source": [
        "### 1.a) Load libraries and modules"
      ]
    },
    {
      "cell_type": "code",
      "execution_count": 5,
      "metadata": {
        "id": "09YBLSzegY4j"
      },
      "outputs": [],
      "source": [
        "# Set the random seed number for reproducible results\n",
        "RNG_SEED = 888"
      ]
    },
    {
      "cell_type": "code",
      "execution_count": 6,
      "metadata": {
        "id": "8m3TY4ejgY4j"
      },
      "outputs": [],
      "source": [
        "import random\n",
        "random.seed(RNG_SEED)\n",
        "import numpy as np\n",
        "np.random.seed(RNG_SEED)\n",
        "import pandas as pd\n",
        "import seaborn as sns\n",
        "import matplotlib.pyplot as plt\n",
        "import os\n",
        "import sys\n",
        "import math\n",
        "# import boto3\n",
        "import zipfile\n",
        "import urllib\n",
        "from datetime import datetime\n",
        "from sklearn import preprocessing\n",
        "from sklearn.model_selection import train_test_split\n",
        "from sklearn.model_selection import RepeatedKFold\n",
        "from sklearn.model_selection import cross_val_score\n",
        "from sklearn.metrics import mean_squared_error\n",
        "from sklearn.metrics import r2_score\n",
        "from sklearn.pipeline import Pipeline\n",
        "from sklearn import compose\n",
        "from sklearn import impute\n",
        "from sklearn import datasets\n",
        "\n",
        "# from sklearn.feature_selection import RFE\n",
        "# from imblearn.pipeline import Pipeline\n",
        "# from imblearn.over_sampling import SMOTE\n",
        "# from imblearn.under_sampling import RandomUnderSampler\n",
        "\n",
        "import tensorflow as tf\n",
        "tf.random.set_seed(RNG_SEED)\n",
        "import keras_tuner\n",
        "import autokeras as ak"
      ]
    },
    {
      "cell_type": "markdown",
      "metadata": {
        "id": "wMacKxMQgY4k"
      },
      "source": [
        "### 1.b) Set up the controlling parameters and functions"
      ]
    },
    {
      "cell_type": "code",
      "execution_count": 7,
      "metadata": {
        "id": "ntUrjbA1gY4k"
      },
      "outputs": [],
      "source": [
        "# Begin the timer for the script processing\n",
        "START_TIME_SCRIPT = datetime.now()"
      ]
    },
    {
      "cell_type": "code",
      "execution_count": 8,
      "metadata": {
        "colab": {
          "base_uri": "https://localhost:8080/"
        },
        "id": "kP6lFEdKgY4k",
        "outputId": "bd6bbaed-e88a-4dde-cc62-5ac26ae12da1"
      },
      "outputs": [
        {
          "output_type": "stream",
          "name": "stdout",
          "text": [
            "Num GPUs Available: 1\n",
            "TensorFlow version: 2.9.2\n"
          ]
        }
      ],
      "source": [
        "# Set up the number of CPU cores available for multi-thread processing\n",
        "N_JOBS = 4\n",
        "\n",
        "# Set up the flag to stop sending progress emails (setting to True will send status emails!)\n",
        "NOTIFY_STATUS = False\n",
        "\n",
        "# Set the percentage sizes for splitting the dataset\n",
        "TEST_SET_RATIO = 0.1\n",
        "VAL_SET_RATIO = 0.1\n",
        "\n",
        "# Set the name for the class/label column\n",
        "ORIGINAL_LABEL = 'MedHouseVal'\n",
        "CLASS_COLUMN = 'target'\n",
        "\n",
        "# Set the number of folds for cross validation\n",
        "N_FOLDS = 5\n",
        "\n",
        "# Set various default modeling parameters\n",
        "DEFAULT_LOSS = 'mean_squared_error'\n",
        "DEFAULT_METRICS = [tf.keras.metrics.RootMeanSquaredError(name='rmse')]\n",
        "DEFAULT_OPTIMIZER = tf.keras.optimizers.Adam(learning_rate=0.0001)\n",
        "DEFAULT_INITIALIZER = tf.keras.initializers.RandomNormal(seed=RNG_SEED)\n",
        "MAX_EPOCHS = 40\n",
        "BATCH_SIZE = 32\n",
        "MAX_TRIALS = 100\n",
        "\n",
        "# Define the labels to use for graphing the data\n",
        "TRAIN_LOSS = \"loss\"\n",
        "VALIDATION_LOSS = \"val_loss\"\n",
        "\n",
        "# Define the directory locations and file names\n",
        "TRAIN_DATASET = 'https://dainesanalytics.com/datasets/kaggle-playground-series-s3e01/train.csv'\n",
        "TEST_DATASET = 'https://dainesanalytics.com/datasets/kaggle-playground-series-s3e01/test.csv'\n",
        "SUBMISSION_TEMPLATE = 'https://dainesanalytics.com/datasets/kaggle-playground-series-s3e01/sample_submission.csv'\n",
        "SUBMISSION_FILE = 'submission_autokeras_'\n",
        "\n",
        "# Check the number of GPUs accessible through TensorFlow\n",
        "print('Num GPUs Available:', len(tf.config.list_physical_devices('GPU')))\n",
        "\n",
        "# Print out the TensorFlow version for confirmation\n",
        "print('TensorFlow version:', tf.__version__)"
      ]
    },
    {
      "cell_type": "code",
      "execution_count": 9,
      "metadata": {
        "id": "oE038Z2TgY4l"
      },
      "outputs": [],
      "source": [
        "# Set up the email notification function\n",
        "def status_notify(msg_text):\n",
        "    access_key = os.environ.get('SNS_ACCESS_KEY')\n",
        "    secret_key = os.environ.get('SNS_SECRET_KEY')\n",
        "    aws_region = os.environ.get('SNS_AWS_REGION')\n",
        "    topic_arn = os.environ.get('SNS_TOPIC_ARN')\n",
        "    if (access_key is None) or (secret_key is None) or (aws_region is None):\n",
        "        sys.exit(\"Incomplete notification setup info. Script Processing Aborted!!!\")\n",
        "    sns = boto3.client('sns', aws_access_key_id=access_key, aws_secret_access_key=secret_key, region_name=aws_region)\n",
        "    response = sns.publish(TopicArn=topic_arn, Message=msg_text)\n",
        "    if response['ResponseMetadata']['HTTPStatusCode'] != 200 :\n",
        "        print('Status notification not OK with HTTP status code:', response['ResponseMetadata']['HTTPStatusCode'])"
      ]
    },
    {
      "cell_type": "code",
      "execution_count": 10,
      "metadata": {
        "id": "66-8fHgpgY4l"
      },
      "outputs": [],
      "source": [
        "if NOTIFY_STATUS: status_notify(\"Task 1 - Prepare Environment has begun! \" + datetime.now().strftime('%a %B %d, %Y %I:%M:%S %p'))"
      ]
    },
    {
      "cell_type": "markdown",
      "metadata": {
        "id": "PIVj6K8vgY4m"
      },
      "source": [
        "### 1.c) Load dataset"
      ]
    },
    {
      "cell_type": "code",
      "execution_count": 11,
      "metadata": {
        "colab": {
          "base_uri": "https://localhost:8080/"
        },
        "id": "wPHVBtrigY4m",
        "outputId": "dffac2f7-15cc-4e24-da41-4babce61508c"
      },
      "outputs": [
        {
          "output_type": "stream",
          "name": "stdout",
          "text": [
            "   id  MedInc  HouseAge  AveRooms  AveBedrms  Population  AveOccup  Latitude  \\\n",
            "0   0  2.3859      15.0  3.827160   1.112100      1280.0  2.486989     34.60   \n",
            "1   1  3.7188      17.0  6.013373   1.054217      1504.0  3.813084     38.69   \n",
            "2   2  4.7750      27.0  6.535604   1.103175      1061.0  2.464602     34.71   \n",
            "3   3  2.4138      16.0  3.350203   0.965432      1255.0  2.089286     32.66   \n",
            "4   4  3.7500      52.0  4.284404   1.069246      1793.0  1.604790     37.80   \n",
            "\n",
            "   Longitude  MedHouseVal  \n",
            "0    -120.12        0.980  \n",
            "1    -121.22        0.946  \n",
            "2    -120.45        1.576  \n",
            "3    -117.09        1.336  \n",
            "4    -122.41        4.500  \n"
          ]
        }
      ],
      "source": [
        "df_dataset_import = pd.read_csv(TRAIN_DATASET)\n",
        "\n",
        "# Take a peek at the dataframe after import\n",
        "print(df_dataset_import.head())"
      ]
    },
    {
      "cell_type": "code",
      "execution_count": 12,
      "metadata": {
        "colab": {
          "base_uri": "https://localhost:8080/"
        },
        "id": "RU6ZZVXkgY4m",
        "outputId": "8bd01717-94ad-4102-de00-594e3c801b53"
      },
      "outputs": [
        {
          "output_type": "stream",
          "name": "stdout",
          "text": [
            "<class 'pandas.core.frame.DataFrame'>\n",
            "RangeIndex: 37137 entries, 0 to 37136\n",
            "Data columns (total 10 columns):\n",
            " #   Column       Non-Null Count  Dtype  \n",
            "---  ------       --------------  -----  \n",
            " 0   id           37137 non-null  int64  \n",
            " 1   MedInc       37137 non-null  float64\n",
            " 2   HouseAge     37137 non-null  float64\n",
            " 3   AveRooms     37137 non-null  float64\n",
            " 4   AveBedrms    37137 non-null  float64\n",
            " 5   Population   37137 non-null  float64\n",
            " 6   AveOccup     37137 non-null  float64\n",
            " 7   Latitude     37137 non-null  float64\n",
            " 8   Longitude    37137 non-null  float64\n",
            " 9   MedHouseVal  37137 non-null  float64\n",
            "dtypes: float64(9), int64(1)\n",
            "memory usage: 2.8 MB\n"
          ]
        }
      ],
      "source": [
        "df_dataset_import.info(verbose=True)"
      ]
    },
    {
      "cell_type": "code",
      "execution_count": 13,
      "metadata": {
        "colab": {
          "base_uri": "https://localhost:8080/"
        },
        "id": "vVby0_N1gY4n",
        "outputId": "a5ecf938-f475-40d4-e67d-be4cc5ea747b"
      },
      "outputs": [
        {
          "output_type": "stream",
          "name": "stdout",
          "text": [
            "                id        MedInc      HouseAge      AveRooms     AveBedrms  \\\n",
            "count  37137.00000  37137.000000  37137.000000  37137.000000  37137.000000   \n",
            "mean   18568.00000      3.851029     26.057005      5.163124      1.062204   \n",
            "std    10720.67281      1.803167     12.158221      1.206242      0.096490   \n",
            "min        0.00000      0.499900      2.000000      0.851064      0.500000   \n",
            "25%     9284.00000      2.602300     17.000000      4.357522      1.020305   \n",
            "50%    18568.00000      3.515600     25.000000      5.068611      1.054545   \n",
            "75%    27852.00000      4.699700     35.000000      5.858597      1.088825   \n",
            "max    37136.00000     15.000100     52.000000     28.837607      5.873181   \n",
            "\n",
            "         Population      AveOccup      Latitude     Longitude   MedHouseVal  \n",
            "count  37137.000000  37137.000000  37137.000000  37137.000000  37137.000000  \n",
            "mean    1660.778919      2.831243     35.570030   -119.554329      2.079751  \n",
            "std     1302.469608      2.702413      2.083179      1.974028      1.158571  \n",
            "min        3.000000      0.950000     32.550000   -124.350000      0.149990  \n",
            "25%      952.000000      2.394495     33.930000   -121.800000      1.208000  \n",
            "50%     1383.000000      2.744828     34.190000   -118.450000      1.808000  \n",
            "75%     1856.000000      3.125313     37.700000   -118.020000      2.660000  \n",
            "max    35682.000000    502.990610     41.950000   -114.550000      5.000010  \n"
          ]
        }
      ],
      "source": [
        "print(df_dataset_import.describe())"
      ]
    },
    {
      "cell_type": "code",
      "execution_count": 14,
      "metadata": {
        "colab": {
          "base_uri": "https://localhost:8080/"
        },
        "id": "TB-d2RodgY4n",
        "outputId": "0eaf9e11-16b1-4038-ff90-f3c14d5c62e2"
      },
      "outputs": [
        {
          "output_type": "stream",
          "name": "stdout",
          "text": [
            "id             0\n",
            "MedInc         0\n",
            "HouseAge       0\n",
            "AveRooms       0\n",
            "AveBedrms      0\n",
            "Population     0\n",
            "AveOccup       0\n",
            "Latitude       0\n",
            "Longitude      0\n",
            "MedHouseVal    0\n",
            "dtype: int64\n",
            "Total number of NaN in the dataframe:  0\n"
          ]
        }
      ],
      "source": [
        "print(df_dataset_import.isnull().sum())\n",
        "print('Total number of NaN in the dataframe: ', df_dataset_import.isnull().sum().sum())"
      ]
    },
    {
      "cell_type": "markdown",
      "metadata": {
        "id": "xrFRVRBygY4n"
      },
      "source": [
        "### 1.d) Data Cleaning"
      ]
    },
    {
      "cell_type": "code",
      "source": [
        "# Fetch the original Scikit-learn training dataset with more attributes\n",
        "df_dataset_sklearn = datasets.fetch_california_housing(as_frame=True)['data']\n",
        "df_dataset_sklearn['MedHouseVal'] = datasets.fetch_california_housing(as_frame=True)['target']\n",
        "df_dataset_sklearn['is_synthetic'] = 0\n",
        "\n",
        "df_dataset_sklearn.info(verbose=True)"
      ],
      "metadata": {
        "colab": {
          "base_uri": "https://localhost:8080/"
        },
        "id": "jkWoyz6O2SuD",
        "outputId": "69b096ed-35d1-4059-ccad-f42c96157928"
      },
      "execution_count": 15,
      "outputs": [
        {
          "output_type": "stream",
          "name": "stdout",
          "text": [
            "<class 'pandas.core.frame.DataFrame'>\n",
            "RangeIndex: 20640 entries, 0 to 20639\n",
            "Data columns (total 10 columns):\n",
            " #   Column        Non-Null Count  Dtype  \n",
            "---  ------        --------------  -----  \n",
            " 0   MedInc        20640 non-null  float64\n",
            " 1   HouseAge      20640 non-null  float64\n",
            " 2   AveRooms      20640 non-null  float64\n",
            " 3   AveBedrms     20640 non-null  float64\n",
            " 4   Population    20640 non-null  float64\n",
            " 5   AveOccup      20640 non-null  float64\n",
            " 6   Latitude      20640 non-null  float64\n",
            " 7   Longitude     20640 non-null  float64\n",
            " 8   MedHouseVal   20640 non-null  float64\n",
            " 9   is_synthetic  20640 non-null  int64  \n",
            "dtypes: float64(9), int64(1)\n",
            "memory usage: 1.6 MB\n"
          ]
        }
      ]
    },
    {
      "cell_type": "code",
      "source": [
        "# Combine the original and synthetic datasets into one training dataset\n",
        "df_dataset_import['is_synthetic'] = 1\n",
        "df_dataset_import.drop(columns=['id'], inplace=True)\n",
        "df_dataset_import = pd.concat([df_dataset_import, df_dataset_sklearn],\n",
        "                              ignore_index=True)\n",
        "\n",
        "df_dataset_import.info(verbose=True)"
      ],
      "metadata": {
        "colab": {
          "base_uri": "https://localhost:8080/"
        },
        "id": "-O5Flgc12Sls",
        "outputId": "c8eb48b4-6073-41ce-c8f8-9c047d2c1a3d"
      },
      "execution_count": 16,
      "outputs": [
        {
          "output_type": "stream",
          "name": "stdout",
          "text": [
            "<class 'pandas.core.frame.DataFrame'>\n",
            "RangeIndex: 57777 entries, 0 to 57776\n",
            "Data columns (total 10 columns):\n",
            " #   Column        Non-Null Count  Dtype  \n",
            "---  ------        --------------  -----  \n",
            " 0   MedInc        57777 non-null  float64\n",
            " 1   HouseAge      57777 non-null  float64\n",
            " 2   AveRooms      57777 non-null  float64\n",
            " 3   AveBedrms     57777 non-null  float64\n",
            " 4   Population    57777 non-null  float64\n",
            " 5   AveOccup      57777 non-null  float64\n",
            " 6   Latitude      57777 non-null  float64\n",
            " 7   Longitude     57777 non-null  float64\n",
            " 8   MedHouseVal   57777 non-null  float64\n",
            " 9   is_synthetic  57777 non-null  int64  \n",
            "dtypes: float64(9), int64(1)\n",
            "memory usage: 4.4 MB\n"
          ]
        }
      ]
    },
    {
      "cell_type": "code",
      "execution_count": 17,
      "metadata": {
        "colab": {
          "base_uri": "https://localhost:8080/"
        },
        "id": "hnsWxx4qgY4n",
        "outputId": "75e617ee-b22c-4c60-c6d7-4942c25df6bb"
      },
      "outputs": [
        {
          "output_type": "stream",
          "name": "stdout",
          "text": [
            "   MedInc  HouseAge  AveRooms  AveBedrms  Population  AveOccup  Latitude  \\\n",
            "0  2.3859      15.0  3.827160   1.112100      1280.0  2.486989     34.60   \n",
            "1  3.7188      17.0  6.013373   1.054217      1504.0  3.813084     38.69   \n",
            "2  4.7750      27.0  6.535604   1.103175      1061.0  2.464602     34.71   \n",
            "3  2.4138      16.0  3.350203   0.965432      1255.0  2.089286     32.66   \n",
            "4  3.7500      52.0  4.284404   1.069246      1793.0  1.604790     37.80   \n",
            "\n",
            "   Longitude  target  is_synthetic  \n",
            "0    -120.12   0.980             1  \n",
            "1    -121.22   0.946             1  \n",
            "2    -120.45   1.576             1  \n",
            "3    -117.09   1.336             1  \n",
            "4    -122.41   4.500             1  \n",
            "       MedInc  HouseAge  AveRooms  AveBedrms  Population  AveOccup  Latitude  \\\n",
            "57772  1.5603      25.0  5.045455   1.133333       845.0  2.560606     39.48   \n",
            "57773  2.5568      18.0  6.114035   1.315789       356.0  3.122807     39.49   \n",
            "57774  1.7000      17.0  5.205543   1.120092      1007.0  2.325635     39.43   \n",
            "57775  1.8672      18.0  5.329513   1.171920       741.0  2.123209     39.43   \n",
            "57776  2.3886      16.0  5.254717   1.162264      1387.0  2.616981     39.37   \n",
            "\n",
            "       Longitude  target  is_synthetic  \n",
            "57772    -121.09   0.781             0  \n",
            "57773    -121.21   0.771             0  \n",
            "57774    -121.22   0.923             0  \n",
            "57775    -121.32   0.847             0  \n",
            "57776    -121.24   0.894             0  \n"
          ]
        }
      ],
      "source": [
        "# Standardize the class column to the name of targetVar if required\n",
        "df_dataset_import = df_dataset_import.rename(columns={ORIGINAL_LABEL: CLASS_COLUMN})\n",
        "\n",
        "# Take a peek at the dataframe after cleaning\n",
        "print(df_dataset_import.head())\n",
        "print(df_dataset_import.tail())"
      ]
    },
    {
      "cell_type": "code",
      "execution_count": 18,
      "metadata": {
        "colab": {
          "base_uri": "https://localhost:8080/"
        },
        "id": "yVWY15q4gY4n",
        "outputId": "de30fc26-c490-446c-df40-4b80fe9d65a1"
      },
      "outputs": [
        {
          "output_type": "stream",
          "name": "stdout",
          "text": [
            "<class 'pandas.core.frame.DataFrame'>\n",
            "RangeIndex: 57777 entries, 0 to 57776\n",
            "Data columns (total 10 columns):\n",
            " #   Column        Non-Null Count  Dtype  \n",
            "---  ------        --------------  -----  \n",
            " 0   MedInc        57777 non-null  float64\n",
            " 1   HouseAge      57777 non-null  float64\n",
            " 2   AveRooms      57777 non-null  float64\n",
            " 3   AveBedrms     57777 non-null  float64\n",
            " 4   Population    57777 non-null  float64\n",
            " 5   AveOccup      57777 non-null  float64\n",
            " 6   Latitude      57777 non-null  float64\n",
            " 7   Longitude     57777 non-null  float64\n",
            " 8   target        57777 non-null  float64\n",
            " 9   is_synthetic  57777 non-null  int64  \n",
            "dtypes: float64(9), int64(1)\n",
            "memory usage: 4.4 MB\n"
          ]
        }
      ],
      "source": [
        "df_dataset_import.info(verbose=True)"
      ]
    },
    {
      "cell_type": "code",
      "execution_count": 19,
      "metadata": {
        "colab": {
          "base_uri": "https://localhost:8080/"
        },
        "id": "k6r5ZI7QgY4n",
        "outputId": "db4e88a0-493b-4ee5-c3bd-00116722e078"
      },
      "outputs": [
        {
          "output_type": "stream",
          "name": "stdout",
          "text": [
            "             MedInc      HouseAge      AveRooms     AveBedrms    Population  \\\n",
            "count  57777.000000  57777.000000  57777.000000  57777.000000  57777.000000   \n",
            "mean       3.858046     26.979559      5.258104      1.074519   1576.720610   \n",
            "std        1.838287     12.374508      1.771502      0.294086   1249.494223   \n",
            "min        0.499900      1.000000      0.846154      0.333333      3.000000   \n",
            "25%        2.588200     17.000000      4.381443      1.015306    882.000000   \n",
            "50%        3.521400     26.000000      5.126761      1.052941   1316.000000   \n",
            "75%        4.710900     36.000000      5.936031      1.091837   1815.000000   \n",
            "max       15.000100     52.000000    141.909091     34.066667  35682.000000   \n",
            "\n",
            "           AveOccup      Latitude     Longitude        target  is_synthetic  \n",
            "count  57777.000000  57777.000000  57777.000000  57777.000000  57777.000000  \n",
            "mean       2.916770     35.592118   -119.559822      2.075753      0.642764  \n",
            "std        6.575793      2.102374      1.984615      1.156927      0.479189  \n",
            "min        0.692308     32.540000   -124.350000      0.149990      0.000000  \n",
            "25%        2.407625     33.930000   -121.800000      1.203000      0.000000  \n",
            "50%        2.769231     34.210000   -118.460000      1.804000      1.000000  \n",
            "75%        3.179673     37.700000   -118.020000      2.657000      1.000000  \n",
            "max     1243.333333     41.950000   -114.310000      5.000010      1.000000  \n"
          ]
        }
      ],
      "source": [
        "print(df_dataset_import.describe())"
      ]
    },
    {
      "cell_type": "code",
      "execution_count": 20,
      "metadata": {
        "colab": {
          "base_uri": "https://localhost:8080/"
        },
        "id": "ELh6lb58gY4o",
        "outputId": "d791ba55-c3d8-42f6-fdc0-97a74eebeed3"
      },
      "outputs": [
        {
          "output_type": "stream",
          "name": "stdout",
          "text": [
            "MedInc          0\n",
            "HouseAge        0\n",
            "AveRooms        0\n",
            "AveBedrms       0\n",
            "Population      0\n",
            "AveOccup        0\n",
            "Latitude        0\n",
            "Longitude       0\n",
            "target          0\n",
            "is_synthetic    0\n",
            "dtype: int64\n",
            "Total number of NaN in the dataframe:  0\n"
          ]
        }
      ],
      "source": [
        "print(df_dataset_import.isnull().sum())\n",
        "print('Total number of NaN in the dataframe: ', df_dataset_import.isnull().sum().sum())"
      ]
    },
    {
      "cell_type": "markdown",
      "metadata": {
        "id": "qtX0hGYQgY4o"
      },
      "source": [
        "### 1.e) Splitting Data into Sets"
      ]
    },
    {
      "cell_type": "code",
      "execution_count": 21,
      "metadata": {
        "colab": {
          "base_uri": "https://localhost:8080/"
        },
        "id": "f5sZ55iggY4o",
        "outputId": "2ce5e99b-781c-4af0-c0c6-e7c235dbefd3"
      },
      "outputs": [
        {
          "output_type": "stream",
          "name": "stdout",
          "text": [
            "df_dataset_import.shape: (57777, 10) df_features_train.shape: (57777, 9) df_target_train.shape: (57777,)\n"
          ]
        }
      ],
      "source": [
        "# Use variable total_column_count to hold the number of columns in the dataframe\n",
        "total_column_count = len(df_dataset_import.columns)\n",
        "\n",
        "# Set up variable total_feature_count for the total number of attribute columns\n",
        "total_feature_count = total_column_count-1\n",
        "\n",
        "# We create attribute-only and target-only datasets (df_features_train and df_target_train)\n",
        "df_target_train = df_dataset_import['target']\n",
        "df_features_train = df_dataset_import.drop(['target'], axis=1)\n",
        "\n",
        "print(\"df_dataset_import.shape: {} df_features_train.shape: {} df_target_train.shape: {}\".format(df_dataset_import.shape, df_features_train.shape, df_target_train.shape))"
      ]
    },
    {
      "cell_type": "markdown",
      "metadata": {
        "id": "sC8HhMFigY4o"
      },
      "source": [
        "### 1.f) Set up the parameters for data visualization"
      ]
    },
    {
      "cell_type": "code",
      "execution_count": 22,
      "metadata": {
        "id": "tpHSlWMAgY4o"
      },
      "outputs": [],
      "source": [
        "# Set up the number of row and columns for visualization display. display_rows * display_columns should be >= total_feature_count\n",
        "display_columns = 4\n",
        "if total_feature_count % display_columns == 0 :\n",
        "    display_rows = total_feature_count // display_columns\n",
        "else :\n",
        "    display_rows = (total_feature_count // display_columns) + 1\n",
        "\n",
        "# Set figure width to display the data visualization plots\n",
        "fig_size = plt.rcParams[\"figure.figsize\"]\n",
        "fig_size[0] = display_columns * 4\n",
        "fig_size[1] = display_rows * 4\n",
        "plt.rcParams[\"figure.figsize\"] = fig_size"
      ]
    },
    {
      "cell_type": "code",
      "execution_count": 23,
      "metadata": {
        "id": "-xmhKicRgY4o"
      },
      "outputs": [],
      "source": [
        "if NOTIFY_STATUS: status_notify(\"Task 1 - Prepare Environment completed! \" + datetime.now().strftime('%a %B %d, %Y %I:%M:%S %p'))"
      ]
    },
    {
      "cell_type": "markdown",
      "metadata": {
        "id": "ZY_jdG1KgY4o"
      },
      "source": [
        "## Task 2 - Summarize and Visualize Data"
      ]
    },
    {
      "cell_type": "code",
      "execution_count": 24,
      "metadata": {
        "id": "Zb7SXyiKgY4p"
      },
      "outputs": [],
      "source": [
        "if NOTIFY_STATUS: status_notify(\"Task 2 - Summarize and Visualize Data has begun! \" + datetime.now().strftime('%a %B %d, %Y %I:%M:%S %p'))"
      ]
    },
    {
      "cell_type": "code",
      "execution_count": 25,
      "metadata": {
        "colab": {
          "base_uri": "https://localhost:8080/",
          "height": 701
        },
        "id": "95yn8aQcgY4p",
        "outputId": "9b247190-9fc7-4d05-b3b2-9c7aec51631a"
      },
      "outputs": [
        {
          "output_type": "display_data",
          "data": {
            "text/plain": [
              "<Figure size 1152x864 with 12 Axes>"
            ],
            "image/png": "[encoded data removed]"
          },
          "metadata": {
            "needs_background": "light"
          }
        }
      ],
      "source": [
        "# Box and Whisker plot for each attribute\n",
        "df_features_train.plot(kind='box', subplots=True, layout=(display_rows, display_columns))\n",
        "plt.show()"
      ]
    },
    {
      "cell_type": "code",
      "execution_count": 26,
      "metadata": {
        "id": "Pm7hPV1ygY4p",
        "colab": {
          "base_uri": "https://localhost:8080/",
          "height": 1000
        },
        "outputId": "c6593c87-ba47-4fcb-802a-ca6f2ee8837d"
      },
      "outputs": [
        {
          "output_type": "display_data",
          "data": {
            "text/plain": [
              "<Figure size 1440x1440 with 2 Axes>"
            ],
            "image/png": "[encoded data removed]"
          },
          "metadata": {
            "needs_background": "light"
          }
        }
      ],
      "source": [
        "# Correlation matrix\n",
        "fig = plt.figure(figsize=(20, 20))\n",
        "correlations = df_features_train.corr(method='pearson')\n",
        "sns.heatmap(correlations, annot=True, cmap=plt.cm.PuBu)\n",
        "plt.show()"
      ]
    },
    {
      "cell_type": "code",
      "execution_count": 27,
      "metadata": {
        "id": "hhpsOaR8gY4p"
      },
      "outputs": [],
      "source": [
        "if NOTIFY_STATUS: status_notify(\"Task 2 - Summarize and Visualize Data completed! \" + datetime.now().strftime('%a %B %d, %Y %I:%M:%S %p'))"
      ]
    },
    {
      "cell_type": "markdown",
      "metadata": {
        "id": "Na89zUHsgY4p"
      },
      "source": [
        "## Task 3 - Pre-process Data"
      ]
    },
    {
      "cell_type": "code",
      "execution_count": 28,
      "metadata": {
        "id": "UcBkrlDsgY4p"
      },
      "outputs": [],
      "source": [
        "if NOTIFY_STATUS: status_notify(\"Task 3 - Pre-process Data has begun! \" + datetime.now().strftime('%a %B %d, %Y %I:%M:%S %p'))"
      ]
    },
    {
      "cell_type": "markdown",
      "metadata": {
        "id": "wWpp40QLgY4p"
      },
      "source": [
        "### 3.a) Feature Scaling"
      ]
    },
    {
      "cell_type": "code",
      "execution_count": 29,
      "metadata": {
        "colab": {
          "base_uri": "https://localhost:8080/"
        },
        "id": "Y5Tr664fgY4p",
        "outputId": "fbe6537f-8668-4a4d-a578-58a285585c24"
      },
      "outputs": [
        {
          "output_type": "stream",
          "name": "stdout",
          "text": [
            "Number of numerical columns: 9\n",
            "Number of categorical columns: 0\n",
            "Total number of columns in the feature dataframe: 9\n"
          ]
        }
      ],
      "source": [
        "# Compose pipeline for the numerical and categorical features (Block #1 of 2)\n",
        "numeric_columns = df_features_train.select_dtypes(include=['int','float']).columns\n",
        "numeric_transformer = Pipeline(steps=[\n",
        "    ('imputer', impute.SimpleImputer(strategy=\"constant\", fill_value=0)),\n",
        "    ('scaler', preprocessing.StandardScaler())\n",
        "])\n",
        "categorical_columns = df_features_train.select_dtypes(include=['object','bool','category']).columns\n",
        "categorical_transformer = Pipeline(steps=[\n",
        "    ('imputer', impute.SimpleImputer(strategy='constant', fill_value='UKNOWN')),\n",
        "    ('onehot', preprocessing.OneHotEncoder(sparse=False, handle_unknown='ignore'))\n",
        "])\n",
        "\n",
        "print(\"Number of numerical columns:\", len(numeric_columns))\n",
        "print(\"Number of categorical columns:\", len(categorical_columns))\n",
        "print(\"Total number of columns in the feature dataframe:\", df_features_train.shape[1])"
      ]
    },
    {
      "cell_type": "code",
      "execution_count": 30,
      "metadata": {
        "colab": {
          "base_uri": "https://localhost:8080/"
        },
        "id": "ehI4QlSogY4p",
        "outputId": "40ca5dc6-2500-401b-c31d-31d1371f4ffd"
      },
      "outputs": [
        {
          "output_type": "stream",
          "name": "stdout",
          "text": [
            "Transformed features from df_features_train.shape: (57777, 9) to array_features_train.shape: (57777, 9)\n"
          ]
        }
      ],
      "source": [
        "# Compose pipeline for the numerical and categorical features (Block #2 of 2)\n",
        "preprocessor = compose.ColumnTransformer(transformers=[\n",
        "    ('num', numeric_transformer, numeric_columns),\n",
        "    ('cat', categorical_transformer, categorical_columns)\n",
        "    ], remainder='passthrough')\n",
        "\n",
        "# Display the shapes of the training dataset for final inspection\n",
        "array_features_train = preprocessor.fit_transform(df_features_train)\n",
        "print(\"Transformed features from df_features_train.shape: {} to array_features_train.shape: {}\".format(df_features_train.shape, array_features_train.shape))"
      ]
    },
    {
      "cell_type": "markdown",
      "metadata": {
        "id": "rypMMNzzgY4q"
      },
      "source": [
        "### 3.b) Training Data Balancing"
      ]
    },
    {
      "cell_type": "code",
      "execution_count": 31,
      "metadata": {
        "id": "B2k0MMY-gY4q"
      },
      "outputs": [],
      "source": [
        "# Not applicable for this iteration of the project"
      ]
    },
    {
      "cell_type": "markdown",
      "metadata": {
        "id": "2LZ_O8gJgY4q"
      },
      "source": [
        "### 3.c) Feature Selection"
      ]
    },
    {
      "cell_type": "code",
      "execution_count": 32,
      "metadata": {
        "id": "Rw9Z2jHQgY4q"
      },
      "outputs": [],
      "source": [
        "# Not applicable for this iteration of the project"
      ]
    },
    {
      "cell_type": "markdown",
      "metadata": {
        "id": "yxUhP3jKgY4q"
      },
      "source": [
        "### 3.d) Display the Final Datasets for Model-Building"
      ]
    },
    {
      "cell_type": "code",
      "execution_count": 33,
      "metadata": {
        "colab": {
          "base_uri": "https://localhost:8080/"
        },
        "id": "fF3CFB8ggY4q",
        "outputId": "b111d445-4641-40af-f5aa-1a12b15f4a32"
      },
      "outputs": [
        {
          "output_type": "stream",
          "name": "stdout",
          "text": [
            "array_features_train.shape: (57777, 9) array_target_train.shape: (57777,)\n"
          ]
        }
      ],
      "source": [
        "# Finalize the training dataset for the modeling activities\n",
        "array_features_train = preprocessor.fit_transform(df_features_train)\n",
        "array_target_train = df_target_train.to_numpy()\n",
        "print(\"array_features_train.shape: {} array_target_train.shape: {}\".format(array_features_train.shape, array_target_train.shape))"
      ]
    },
    {
      "cell_type": "code",
      "execution_count": 34,
      "metadata": {
        "id": "hbw2jg3VgY4q"
      },
      "outputs": [],
      "source": [
        "if NOTIFY_STATUS: status_notify(\"Task 3 - Pre-process Data completed! \" + datetime.now().strftime('%a %B %d, %Y %I:%M:%S %p'))"
      ]
    },
    {
      "cell_type": "markdown",
      "metadata": {
        "id": "OlGHFL9OgY4q"
      },
      "source": [
        "## Task 4 - Train and Tune Models"
      ]
    },
    {
      "cell_type": "code",
      "execution_count": 35,
      "metadata": {
        "id": "j9LvmXjFgY4q"
      },
      "outputs": [],
      "source": [
        "if NOTIFY_STATUS: status_notify(\"Task 4 - Train and Tune Models has begun! \" + datetime.now().strftime('%a %B %d, %Y %I:%M:%S %p'))"
      ]
    },
    {
      "cell_type": "code",
      "execution_count": 36,
      "metadata": {
        "id": "ad5r3B5bgY4q",
        "colab": {
          "base_uri": "https://localhost:8080/"
        },
        "outputId": "d7ce647c-55c6-40ca-d8fd-28824eb05cdc"
      },
      "outputs": [
        {
          "output_type": "stream",
          "name": "stdout",
          "text": [
            "Trial 100 Complete [00h 01m 39s]\n",
            "val_loss: 0.7421653270721436\n",
            "\n",
            "Best val_loss So Far: 0.6705860495567322\n",
            "Total elapsed time: 03h 29m 29s\n",
            "Epoch 1/40\n",
            "1806/1806 [==============================] - 6s 3ms/step - loss: 0.6211 - rmse: 0.7955\n",
            "Epoch 2/40\n",
            "1806/1806 [==============================] - 5s 3ms/step - loss: 0.5293 - rmse: 0.7276\n",
            "Epoch 3/40\n",
            "1806/1806 [==============================] - 5s 3ms/step - loss: 0.5110 - rmse: 0.7149\n",
            "Epoch 4/40\n",
            "1806/1806 [==============================] - 5s 3ms/step - loss: 0.5048 - rmse: 0.7105\n",
            "Epoch 5/40\n",
            "1806/1806 [==============================] - 5s 3ms/step - loss: 0.5040 - rmse: 0.7099\n",
            "Epoch 6/40\n",
            "1806/1806 [==============================] - 5s 3ms/step - loss: 0.5011 - rmse: 0.7079\n",
            "Epoch 7/40\n",
            "1806/1806 [==============================] - 5s 3ms/step - loss: 0.4998 - rmse: 0.7070\n",
            "Epoch 8/40\n",
            "1806/1806 [==============================] - 5s 3ms/step - loss: 0.4967 - rmse: 0.7048\n",
            "Epoch 9/40\n",
            "1806/1806 [==============================] - 5s 3ms/step - loss: 0.4951 - rmse: 0.7036\n",
            "Epoch 10/40\n",
            "1806/1806 [==============================] - 5s 3ms/step - loss: 0.4956 - rmse: 0.7040\n",
            "Epoch 11/40\n",
            "1806/1806 [==============================] - 5s 3ms/step - loss: 0.4940 - rmse: 0.7029\n",
            "Epoch 12/40\n",
            "1806/1806 [==============================] - 5s 3ms/step - loss: 0.4942 - rmse: 0.7030\n",
            "Epoch 13/40\n",
            "1806/1806 [==============================] - 5s 3ms/step - loss: 0.4923 - rmse: 0.7016\n",
            "Epoch 14/40\n",
            "1806/1806 [==============================] - 5s 3ms/step - loss: 0.4926 - rmse: 0.7018\n",
            "Epoch 15/40\n",
            "1806/1806 [==============================] - 5s 3ms/step - loss: 0.4921 - rmse: 0.7015\n",
            "Epoch 16/40\n",
            "1806/1806 [==============================] - 5s 3ms/step - loss: 0.4913 - rmse: 0.7009\n",
            "Epoch 17/40\n",
            "1806/1806 [==============================] - 5s 3ms/step - loss: 0.4911 - rmse: 0.7008\n",
            "Epoch 18/40\n",
            "1806/1806 [==============================] - 5s 3ms/step - loss: 0.4903 - rmse: 0.7002\n",
            "Epoch 19/40\n",
            "1806/1806 [==============================] - 5s 3ms/step - loss: 0.4896 - rmse: 0.6997\n",
            "Epoch 20/40\n",
            "1806/1806 [==============================] - 5s 3ms/step - loss: 0.4915 - rmse: 0.7010\n",
            "Epoch 21/40\n",
            "1806/1806 [==============================] - 5s 3ms/step - loss: 0.4902 - rmse: 0.7001\n",
            "Epoch 22/40\n",
            "1806/1806 [==============================] - 5s 3ms/step - loss: 0.4885 - rmse: 0.6989\n",
            "Epoch 23/40\n",
            "1806/1806 [==============================] - 5s 3ms/step - loss: 0.4886 - rmse: 0.6990\n",
            "Epoch 24/40\n",
            "1806/1806 [==============================] - 5s 3ms/step - loss: 0.4883 - rmse: 0.6988\n",
            "Epoch 25/40\n",
            "1806/1806 [==============================] - 5s 3ms/step - loss: 0.4891 - rmse: 0.6993\n",
            "Epoch 26/40\n",
            "1806/1806 [==============================] - 5s 3ms/step - loss: 0.4888 - rmse: 0.6991\n",
            "Epoch 27/40\n",
            "1806/1806 [==============================] - 5s 3ms/step - loss: 0.4886 - rmse: 0.6990\n",
            "Epoch 28/40\n",
            "1806/1806 [==============================] - 5s 3ms/step - loss: 0.4890 - rmse: 0.6993\n",
            "Epoch 29/40\n",
            "1806/1806 [==============================] - 5s 3ms/step - loss: 0.4893 - rmse: 0.6995\n",
            "Epoch 30/40\n",
            "1806/1806 [==============================] - 5s 3ms/step - loss: 0.4887 - rmse: 0.6991\n",
            "Epoch 31/40\n",
            "1806/1806 [==============================] - 5s 3ms/step - loss: 0.4881 - rmse: 0.6987\n",
            "Epoch 32/40\n",
            "1806/1806 [==============================] - 5s 3ms/step - loss: 0.4879 - rmse: 0.6985\n",
            "Epoch 33/40\n",
            "1806/1806 [==============================] - 5s 3ms/step - loss: 0.4881 - rmse: 0.6987\n",
            "Epoch 34/40\n",
            "1806/1806 [==============================] - 5s 3ms/step - loss: 0.4881 - rmse: 0.6986\n",
            "Epoch 35/40\n",
            "1806/1806 [==============================] - 5s 3ms/step - loss: 0.4878 - rmse: 0.6984\n",
            "Epoch 36/40\n",
            "1806/1806 [==============================] - 5s 3ms/step - loss: 0.4872 - rmse: 0.6980\n",
            "Epoch 37/40\n",
            "1806/1806 [==============================] - 5s 3ms/step - loss: 0.4869 - rmse: 0.6978\n",
            "Epoch 38/40\n",
            "1806/1806 [==============================] - 5s 3ms/step - loss: 0.4866 - rmse: 0.6975\n",
            "Epoch 39/40\n",
            "1806/1806 [==============================] - 5s 3ms/step - loss: 0.4867 - rmse: 0.6977\n",
            "Epoch 40/40\n",
            "1806/1806 [==============================] - 5s 3ms/step - loss: 0.4860 - rmse: 0.6971\n",
            "Total time for model fitting: 3:33:19.893991\n"
          ]
        }
      ],
      "source": [
        "start_time_module = datetime.now()\n",
        "tf.keras.utils.set_random_seed(RNG_SEED)\n",
        "auto_model = ak.StructuredDataRegressor(loss=DEFAULT_LOSS,\n",
        "                                        metrics=DEFAULT_METRICS,\n",
        "                                        max_trials=MAX_TRIALS,\n",
        "                                        seed=RNG_SEED)\n",
        "auto_model.fit(x=array_features_train,\n",
        "               y=array_target_train,\n",
        "               validation_split=VAL_SET_RATIO,\n",
        "               epochs=MAX_EPOCHS)\n",
        "print('Total time for model fitting:', (datetime.now() - start_time_module))"
      ]
    },
    {
      "cell_type": "code",
      "execution_count": 37,
      "metadata": {
        "id": "V74FnN5ogY4r"
      },
      "outputs": [],
      "source": [
        "if NOTIFY_STATUS: status_notify(\"Task 4 - Train and Tune Models completed! \" + datetime.now().strftime('%a %B %d, %Y %I:%M:%S %p'))"
      ]
    },
    {
      "cell_type": "markdown",
      "metadata": {
        "id": "sJ5WVT3XgY4r"
      },
      "source": [
        "## Task 5 - Finalize Model and Make Predictions"
      ]
    },
    {
      "cell_type": "code",
      "execution_count": 38,
      "metadata": {
        "id": "ZPpqPFt9gY4r"
      },
      "outputs": [],
      "source": [
        "if NOTIFY_STATUS: status_notify(\"Task 5 - Finalize Model and Make Predictions has begun! \" + datetime.now().strftime('%a %B %d, %Y %I:%M:%S %p'))"
      ]
    },
    {
      "cell_type": "markdown",
      "source": [
        "### 5.a) Train the Final Model"
      ],
      "metadata": {
        "id": "7zFZO7JzXkhk"
      }
    },
    {
      "cell_type": "code",
      "execution_count": 39,
      "metadata": {
        "colab": {
          "base_uri": "https://localhost:8080/"
        },
        "id": "NB72_n-CgY4r",
        "outputId": "4bc26357-0933-44cb-d2c3-7b487a259e6b"
      },
      "outputs": [
        {
          "output_type": "stream",
          "name": "stdout",
          "text": [
            "Model: \"model\"\n",
            "_________________________________________________________________\n",
            " Layer (type)                Output Shape              Param #   \n",
            "=================================================================\n",
            " input_1 (InputLayer)        [(None, 9)]               0         \n",
            "                                                                 \n",
            " multi_category_encoding (Mu  (None, 9)                0         \n",
            " ltiCategoryEncoding)                                            \n",
            "                                                                 \n",
            " normalization (Normalizatio  (None, 9)                19        \n",
            " n)                                                              \n",
            "                                                                 \n",
            " dense (Dense)               (None, 32)                320       \n",
            "                                                                 \n",
            " re_lu (ReLU)                (None, 32)                0         \n",
            "                                                                 \n",
            " dense_1 (Dense)             (None, 32)                1056      \n",
            "                                                                 \n",
            " re_lu_1 (ReLU)              (None, 32)                0         \n",
            "                                                                 \n",
            " regression_head_1 (Dense)   (None, 1)                 33        \n",
            "                                                                 \n",
            "=================================================================\n",
            "Total params: 1,428\n",
            "Trainable params: 1,409\n",
            "Non-trainable params: 19\n",
            "_________________________________________________________________\n"
          ]
        }
      ],
      "source": [
        "final_model = auto_model.export_model()\n",
        "final_model.summary()"
      ]
    },
    {
      "cell_type": "markdown",
      "source": [
        "### 5.b) Load Test Dataset and Make Predictions"
      ],
      "metadata": {
        "id": "HxMfuaNjXxH5"
      }
    },
    {
      "cell_type": "code",
      "source": [
        "df_features_test = pd.read_csv(TEST_DATASET)\n",
        "df_features_test['is_synthetic'] = 1\n",
        "\n",
        "# Take a peek at the dataframe after import\n",
        "print(df_features_test.head())"
      ],
      "metadata": {
        "colab": {
          "base_uri": "https://localhost:8080/"
        },
        "id": "wu436nAKYCuJ",
        "outputId": "c0df9f1d-b1aa-4898-f7d7-a1e90e564fcb"
      },
      "execution_count": 40,
      "outputs": [
        {
          "output_type": "stream",
          "name": "stdout",
          "text": [
            "      id  MedInc  HouseAge  AveRooms  AveBedrms  Population  AveOccup  \\\n",
            "0  37137  1.7062      35.0  4.966368   1.096539      1318.0  2.844411   \n",
            "1  37138  1.3882      22.0  4.187035   1.098229      2296.0  3.180218   \n",
            "2  37139  7.7197      21.0  7.129436   0.959276      1535.0  2.888889   \n",
            "3  37140  4.6806      49.0  4.769697   1.048485       707.0  1.743590   \n",
            "4  37141  3.1284      25.0  3.765306   1.081633      4716.0  2.003827   \n",
            "\n",
            "   Latitude  Longitude  is_synthetic  \n",
            "0     39.75    -121.85             1  \n",
            "1     33.95    -118.29             1  \n",
            "2     33.61    -117.81             1  \n",
            "3     34.17    -118.34             1  \n",
            "4     34.17    -118.29             1  \n"
          ]
        }
      ]
    },
    {
      "cell_type": "code",
      "source": [
        "id_column_name = df_features_test.columns[0]\n",
        "df_kaggle_submission = pd.DataFrame()\n",
        "df_kaggle_submission[id_column_name] = df_features_test[id_column_name]\n",
        "print(df_kaggle_submission.head())"
      ],
      "metadata": {
        "colab": {
          "base_uri": "https://localhost:8080/"
        },
        "id": "K9qRBt6aYClS",
        "outputId": "7965238e-7ed0-4b04-9a45-650c5dc2cec8"
      },
      "execution_count": 41,
      "outputs": [
        {
          "output_type": "stream",
          "name": "stdout",
          "text": [
            "      id\n",
            "0  37137\n",
            "1  37138\n",
            "2  37139\n",
            "3  37140\n",
            "4  37141\n"
          ]
        }
      ]
    },
    {
      "cell_type": "code",
      "source": [
        "# Dropping unique identifier and unnecessary features\n",
        "df_features_test.drop(columns=[id_column_name,], inplace=True)\n",
        "\n",
        "# Take a peek at the dataframe after cleaning\n",
        "print(df_features_test.head())"
      ],
      "metadata": {
        "colab": {
          "base_uri": "https://localhost:8080/"
        },
        "id": "P-WIJl3BYCdb",
        "outputId": "bd630b4d-84f6-4641-d805-ca650f05bad5"
      },
      "execution_count": 42,
      "outputs": [
        {
          "output_type": "stream",
          "name": "stdout",
          "text": [
            "   MedInc  HouseAge  AveRooms  AveBedrms  Population  AveOccup  Latitude  \\\n",
            "0  1.7062      35.0  4.966368   1.096539      1318.0  2.844411     39.75   \n",
            "1  1.3882      22.0  4.187035   1.098229      2296.0  3.180218     33.95   \n",
            "2  7.7197      21.0  7.129436   0.959276      1535.0  2.888889     33.61   \n",
            "3  4.6806      49.0  4.769697   1.048485       707.0  1.743590     34.17   \n",
            "4  3.1284      25.0  3.765306   1.081633      4716.0  2.003827     34.17   \n",
            "\n",
            "   Longitude  is_synthetic  \n",
            "0    -121.85             1  \n",
            "1    -118.29             1  \n",
            "2    -117.81             1  \n",
            "3    -118.34             1  \n",
            "4    -118.29             1  \n"
          ]
        }
      ]
    },
    {
      "cell_type": "code",
      "source": [
        "# Finalize the test dataset for the testing activities\n",
        "array_features_test = preprocessor.transform(df_features_test)\n",
        "print(\"Transformed features from df_features_test.shape: {} to array_features_test.shape: {}\".format(df_features_test.shape, array_features_test.shape))"
      ],
      "metadata": {
        "colab": {
          "base_uri": "https://localhost:8080/"
        },
        "id": "kE-Bv9R8YCQa",
        "outputId": "22397adb-dbbf-405c-8ab9-eec003ce5645"
      },
      "execution_count": 43,
      "outputs": [
        {
          "output_type": "stream",
          "name": "stdout",
          "text": [
            "Transformed features from df_features_test.shape: (24759, 9) to array_features_test.shape: (24759, 9)\n"
          ]
        }
      ]
    },
    {
      "cell_type": "code",
      "source": [
        "# Make batched predictions\n",
        "test_predictions =  final_model.predict(array_features_test)\n",
        "print(test_predictions)"
      ],
      "metadata": {
        "colab": {
          "base_uri": "https://localhost:8080/"
        },
        "id": "BtqU9fhSYCLK",
        "outputId": "d1459245-d46f-4602-833b-73119255deb7"
      },
      "execution_count": 44,
      "outputs": [
        {
          "output_type": "stream",
          "name": "stdout",
          "text": [
            "774/774 [==============================] - 2s 2ms/step\n",
            "[[0.78219175]\n",
            " [1.1851325 ]\n",
            " [3.41052   ]\n",
            " ...\n",
            " [1.2785017 ]\n",
            " [3.4401488 ]\n",
            " [2.8694556 ]]\n"
          ]
        }
      ]
    },
    {
      "cell_type": "code",
      "source": [
        "df_sample_submission = pd.read_csv(SUBMISSION_TEMPLATE)\n",
        "df_sample_submission.drop(columns=[id_column_name], inplace=True)\n",
        "submission_header = list(df_sample_submission.columns)[0]\n",
        "print(submission_header)"
      ],
      "metadata": {
        "colab": {
          "base_uri": "https://localhost:8080/"
        },
        "id": "ckt7t7xgYCGA",
        "outputId": "8a8e3110-b786-4613-c012-9b93f257b401"
      },
      "execution_count": 45,
      "outputs": [
        {
          "output_type": "stream",
          "name": "stdout",
          "text": [
            "MedHouseVal\n"
          ]
        }
      ]
    },
    {
      "cell_type": "code",
      "source": [
        "df_kaggle_submission[submission_header] = test_predictions\n",
        "print(df_kaggle_submission.head())"
      ],
      "metadata": {
        "colab": {
          "base_uri": "https://localhost:8080/"
        },
        "id": "2X1Bopg8YRsa",
        "outputId": "3522c5b6-40dd-416f-adab-338a43ddbd1e"
      },
      "execution_count": 46,
      "outputs": [
        {
          "output_type": "stream",
          "name": "stdout",
          "text": [
            "      id  MedHouseVal\n",
            "0  37137     0.782192\n",
            "1  37138     1.185133\n",
            "2  37139     3.410520\n",
            "3  37140     3.445274\n",
            "4  37141     3.198824\n"
          ]
        }
      ]
    },
    {
      "cell_type": "code",
      "source": [
        "submission_file = df_kaggle_submission.to_csv(header=True, index=False)\n",
        "filename = SUBMISSION_FILE + datetime.now().strftime('%Y%m%d-%H%M') + '.csv'\n",
        "with open(filename, 'w') as f:\n",
        "    f.write(submission_file)\n",
        "    print('Completed writing output file: ' + filename)"
      ],
      "metadata": {
        "colab": {
          "base_uri": "https://localhost:8080/"
        },
        "id": "9UUvu6uChOod",
        "outputId": "c4ec378f-ab3e-4dd5-f0a5-acd13410f8c6"
      },
      "execution_count": 47,
      "outputs": [
        {
          "output_type": "stream",
          "name": "stdout",
          "text": [
            "Completed writing output file: submission_autokeras_20230118-1957.csv\n"
          ]
        }
      ]
    },
    {
      "cell_type": "code",
      "execution_count": 48,
      "metadata": {
        "id": "Gpl8npuFgY4s"
      },
      "outputs": [],
      "source": [
        "if NOTIFY_STATUS: status_notify(\"Task 5 - Finalize Model and Make Predictions completed! \" + datetime.now().strftime('%a %B %d, %Y %I:%M:%S %p'))"
      ]
    },
    {
      "cell_type": "code",
      "execution_count": 49,
      "metadata": {
        "colab": {
          "base_uri": "https://localhost:8080/"
        },
        "id": "25hXAXzNgY4s",
        "outputId": "6a0dfdc3-b1cf-48a9-84fa-249117f362d1"
      },
      "outputs": [
        {
          "output_type": "stream",
          "name": "stdout",
          "text": [
            "Total time for the script: 3:33:31.150490\n"
          ]
        }
      ],
      "source": [
        "print ('Total time for the script:',(datetime.now() - START_TIME_SCRIPT))"
      ]
    }
  ],
  "metadata": {
    "accelerator": "GPU",
    "colab": {
      "provenance": []
    },
    "kernelspec": {
      "display_name": "Python 3 (ipykernel)",
      "language": "python",
      "name": "python3"
    },
    "language_info": {
      "codemirror_mode": {
        "name": "ipython",
        "version": 3
      },
      "file_extension": ".py",
      "mimetype": "text/x-python",
      "name": "python",
      "nbconvert_exporter": "python",
      "pygments_lexer": "ipython3",
      "version": "3.8.10"
    },
    "gpuClass": "premium"
  },
  "nbformat": 4,
  "nbformat_minor": 0
}
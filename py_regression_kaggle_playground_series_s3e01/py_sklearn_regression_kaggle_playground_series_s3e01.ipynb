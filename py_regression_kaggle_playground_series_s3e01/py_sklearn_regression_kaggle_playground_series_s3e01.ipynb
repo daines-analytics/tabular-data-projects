{
  "cells": [
    {
      "cell_type": "markdown",
      "metadata": {
        "id": "EE_fiDKNoyun"
      },
      "source": [
        "# Regression Tabular Model for Kaggle Playground Series Season 3 Episode 1 Using Python and Scikit-Learn\n",
        "### David Lowe\n",
        "### January 16, 2023\n",
        "\n",
        "SUMMARY: The project aims to construct a predictive model using various machine learning algorithms and document the end-to-end steps using a template. The Kaggle Playground Series Season 3 Episode 1 Dataset is a regression modeling situation where we are trying to predict the value of a continuous variable.\n",
        "\n",
        "INTRODUCTION: Kaggle wants to provide an approachable environment for relatively new people in their data science journey. Since January 2021, they have hosted playground-style competitions to give the Kaggle community a variety of reasonably lightweight challenges that can be used to learn and sharpen skills in different aspects of machine learning and data science. The dataset for this competition was generated from a deep learning model trained on the California Housing Dataset. Feature distributions are close to but different from the original.\n",
        "\n",
        "ANALYSIS: The average performance of the machine learning algorithms achieved an RMSE benchmark of 0.5962 after preliminary training runs. Furthermore, we selected Extra Trees Regressor as the final model as it processed the training dataset with an RMSE score of 0.3379. When we tested the final model using the test dataset, the model achieved an RMSE score of 0.6114.\n",
        "\n",
        "CONCLUSION: In this iteration, the Extra Trees model appeared to be a suitable algorithm for modeling this dataset.\n",
        "\n",
        "Dataset Used: Playground Series Season 3, Episode 1\n",
        "\n",
        "Dataset ML Model: Regression with numerical features\n",
        "\n",
        "Dataset Reference: https://www.kaggle.com/competitions/playground-series-s3e1\n",
        "\n",
        "One source of potential performance benchmarks: https://www.kaggle.com/competitions/playground-series-s3e1/leaderboard"
      ]
    },
    {
      "cell_type": "markdown",
      "metadata": {
        "id": "5DL3_UWSoyuq"
      },
      "source": [
        "## Task 1 - Prepare Environment"
      ]
    },
    {
      "cell_type": "code",
      "execution_count": 1,
      "metadata": {
        "id": "zwaLoks6oyuq",
        "outputId": "cf07a400-a711-405f-a6bd-222de6faf6a9",
        "colab": {
          "base_uri": "https://localhost:8080/"
        }
      },
      "outputs": [
        {
          "output_type": "stream",
          "name": "stdout",
          "text": [
            "The number of available CPUs is: 2\n"
          ]
        }
      ],
      "source": [
        "# Retrieve the CPU information\n",
        "ncpu = !nproc\n",
        "print(\"The number of available CPUs is:\", ncpu[0])"
      ]
    },
    {
      "cell_type": "markdown",
      "metadata": {
        "id": "z_paFmzJoyur"
      },
      "source": [
        "### 1.a) Load libraries and modules"
      ]
    },
    {
      "cell_type": "code",
      "execution_count": 2,
      "metadata": {
        "id": "1n0cywZWoyus"
      },
      "outputs": [],
      "source": [
        "# Set the random seed number for reproducible results\n",
        "RNG_SEED = 888"
      ]
    },
    {
      "cell_type": "code",
      "execution_count": 3,
      "metadata": {
        "id": "oRD-IY3zoyus"
      },
      "outputs": [],
      "source": [
        "import numpy as np\n",
        "import pandas as pd\n",
        "import seaborn as sns\n",
        "import matplotlib.pyplot as plt\n",
        "import os\n",
        "import sys\n",
        "import math\n",
        "# import boto3\n",
        "import zipfile\n",
        "import urllib\n",
        "from datetime import datetime\n",
        "from sklearn import preprocessing\n",
        "from sklearn.model_selection import train_test_split\n",
        "from sklearn.model_selection import KFold\n",
        "from sklearn.model_selection import cross_val_score\n",
        "from sklearn.model_selection import GridSearchCV\n",
        "from sklearn.metrics import mean_squared_error\n",
        "from sklearn.metrics import r2_score\n",
        "from sklearn.pipeline import Pipeline\n",
        "from sklearn import compose\n",
        "from sklearn import impute\n",
        "from sklearn import datasets\n",
        "\n",
        "# from sklearn.feature_selection import RFE\n",
        "# from imblearn.pipeline import Pipeline\n",
        "# from imblearn.over_sampling import SMOTE\n",
        "# from imblearn.under_sampling import RandomUnderSampler\n",
        "\n",
        "from sklearn.linear_model import LinearRegression\n",
        "from sklearn.linear_model import ElasticNet\n",
        "from sklearn.tree import DecisionTreeRegressor\n",
        "from sklearn.neighbors import KNeighborsRegressor\n",
        "from sklearn.ensemble import RandomForestRegressor\n",
        "from sklearn.ensemble import ExtraTreesRegressor"
      ]
    },
    {
      "cell_type": "markdown",
      "metadata": {
        "id": "eoKsdpcAoyut"
      },
      "source": [
        "### 1.b) Set up the controlling parameters and functions"
      ]
    },
    {
      "cell_type": "code",
      "execution_count": 4,
      "metadata": {
        "id": "isxXMHRBoyut"
      },
      "outputs": [],
      "source": [
        "# Begin the timer for the script processing\n",
        "START_TIME_SCRIPT = datetime.now()\n",
        "\n",
        "# Set up the number of CPU cores available for multi-thread processing\n",
        "N_JOBS = 2\n",
        "\n",
        "# Set up the flag to stop sending progress emails (setting to True will send status emails!)\n",
        "NOTIFY_STATUS = False\n",
        "\n",
        "# Set the percentage sizes for splitting the dataset\n",
        "TEST_SET_RATIO = 0.1\n",
        "VAL_SET_RATIO = 0.1\n",
        "\n",
        "# Set the name for the class/label column\n",
        "ORIGINAL_LABEL = 'MedHouseVal'\n",
        "CLASS_COLUMN = 'target'\n",
        "\n",
        "# Set the number of folds for cross validation\n",
        "N_FOLDS = 5\n",
        "\n",
        "# Set default modeling scoring metric\n",
        "SCORING_METRIC = 'neg_mean_squared_error'\n",
        "\n",
        "# Define the directory locations and file names\n",
        "TRAIN_DATASET = 'https://dainesanalytics.com/datasets/kaggle-playground-series-s3e01/train.csv'\n",
        "TEST_DATASET = 'https://dainesanalytics.com/datasets/kaggle-playground-series-s3e01/test.csv'\n",
        "SUBMISSION_TEMPLATE = 'https://dainesanalytics.com/datasets/kaggle-playground-series-s3e01/sample_submission.csv'\n",
        "SUBMISSION_FILE = 'submission_sklearn_'"
      ]
    },
    {
      "cell_type": "code",
      "execution_count": 5,
      "metadata": {
        "id": "GfhSo1ZCoyut"
      },
      "outputs": [],
      "source": [
        "# Set up the email notification function\n",
        "def status_notify(msg_text):\n",
        "    access_key = os.environ.get('SNS_ACCESS_KEY')\n",
        "    secret_key = os.environ.get('SNS_SECRET_KEY')\n",
        "    aws_region = os.environ.get('SNS_AWS_REGION')\n",
        "    topic_arn = os.environ.get('SNS_TOPIC_ARN')\n",
        "    if (access_key is None) or (secret_key is None) or (aws_region is None):\n",
        "        sys.exit(\"Incomplete notification setup info. Script Processing Aborted!!!\")\n",
        "    sns = boto3.client('sns', aws_access_key_id=access_key, aws_secret_access_key=secret_key, region_name=aws_region)\n",
        "    response = sns.publish(TopicArn=topic_arn, Message=msg_text)\n",
        "    if response['ResponseMetadata']['HTTPStatusCode'] != 200 :\n",
        "        print('Status notification not OK with HTTP status code:', response['ResponseMetadata']['HTTPStatusCode'])"
      ]
    },
    {
      "cell_type": "code",
      "execution_count": 6,
      "metadata": {
        "id": "ReDfVHpJoyuu"
      },
      "outputs": [],
      "source": [
        "if NOTIFY_STATUS: status_notify(\"Task 1 - Prepare Environment has begun! \" + datetime.now().strftime('%a %B %d, %Y %I:%M:%S %p'))"
      ]
    },
    {
      "cell_type": "markdown",
      "metadata": {
        "id": "tAqq162Aoyuu"
      },
      "source": [
        "### 1.c) Load dataset"
      ]
    },
    {
      "cell_type": "code",
      "execution_count": 7,
      "metadata": {
        "id": "5rc2muM6oyuv",
        "outputId": "584a854c-b875-4887-8de3-1f8481ac964a",
        "colab": {
          "base_uri": "https://localhost:8080/"
        }
      },
      "outputs": [
        {
          "output_type": "stream",
          "name": "stdout",
          "text": [
            "   id  MedInc  HouseAge  AveRooms  AveBedrms  Population  AveOccup  Latitude  \\\n",
            "0   0  2.3859      15.0  3.827160   1.112100      1280.0  2.486989     34.60   \n",
            "1   1  3.7188      17.0  6.013373   1.054217      1504.0  3.813084     38.69   \n",
            "2   2  4.7750      27.0  6.535604   1.103175      1061.0  2.464602     34.71   \n",
            "3   3  2.4138      16.0  3.350203   0.965432      1255.0  2.089286     32.66   \n",
            "4   4  3.7500      52.0  4.284404   1.069246      1793.0  1.604790     37.80   \n",
            "\n",
            "   Longitude  MedHouseVal  \n",
            "0    -120.12        0.980  \n",
            "1    -121.22        0.946  \n",
            "2    -120.45        1.576  \n",
            "3    -117.09        1.336  \n",
            "4    -122.41        4.500  \n"
          ]
        }
      ],
      "source": [
        "df_dataset_import = pd.read_csv(TRAIN_DATASET)\n",
        "\n",
        "# Take a peek at the dataframe after import\n",
        "print(df_dataset_import.head())"
      ]
    },
    {
      "cell_type": "code",
      "execution_count": 8,
      "metadata": {
        "id": "ECO03uiyoyuv",
        "outputId": "04531ffb-a3b5-4d64-a971-cd6b3a096d28",
        "colab": {
          "base_uri": "https://localhost:8080/"
        }
      },
      "outputs": [
        {
          "output_type": "stream",
          "name": "stdout",
          "text": [
            "<class 'pandas.core.frame.DataFrame'>\n",
            "RangeIndex: 37137 entries, 0 to 37136\n",
            "Data columns (total 10 columns):\n",
            " #   Column       Non-Null Count  Dtype  \n",
            "---  ------       --------------  -----  \n",
            " 0   id           37137 non-null  int64  \n",
            " 1   MedInc       37137 non-null  float64\n",
            " 2   HouseAge     37137 non-null  float64\n",
            " 3   AveRooms     37137 non-null  float64\n",
            " 4   AveBedrms    37137 non-null  float64\n",
            " 5   Population   37137 non-null  float64\n",
            " 6   AveOccup     37137 non-null  float64\n",
            " 7   Latitude     37137 non-null  float64\n",
            " 8   Longitude    37137 non-null  float64\n",
            " 9   MedHouseVal  37137 non-null  float64\n",
            "dtypes: float64(9), int64(1)\n",
            "memory usage: 2.8 MB\n"
          ]
        }
      ],
      "source": [
        "df_dataset_import.info(verbose=True)"
      ]
    },
    {
      "cell_type": "code",
      "execution_count": 9,
      "metadata": {
        "id": "89eVakd5oyuw",
        "outputId": "d0897bd6-b190-45af-8af8-836a6e9fdaa0",
        "colab": {
          "base_uri": "https://localhost:8080/"
        }
      },
      "outputs": [
        {
          "output_type": "stream",
          "name": "stdout",
          "text": [
            "                id        MedInc      HouseAge      AveRooms     AveBedrms  \\\n",
            "count  37137.00000  37137.000000  37137.000000  37137.000000  37137.000000   \n",
            "mean   18568.00000      3.851029     26.057005      5.163124      1.062204   \n",
            "std    10720.67281      1.803167     12.158221      1.206242      0.096490   \n",
            "min        0.00000      0.499900      2.000000      0.851064      0.500000   \n",
            "25%     9284.00000      2.602300     17.000000      4.357522      1.020305   \n",
            "50%    18568.00000      3.515600     25.000000      5.068611      1.054545   \n",
            "75%    27852.00000      4.699700     35.000000      5.858597      1.088825   \n",
            "max    37136.00000     15.000100     52.000000     28.837607      5.873181   \n",
            "\n",
            "         Population      AveOccup      Latitude     Longitude   MedHouseVal  \n",
            "count  37137.000000  37137.000000  37137.000000  37137.000000  37137.000000  \n",
            "mean    1660.778919      2.831243     35.570030   -119.554329      2.079751  \n",
            "std     1302.469608      2.702413      2.083179      1.974028      1.158571  \n",
            "min        3.000000      0.950000     32.550000   -124.350000      0.149990  \n",
            "25%      952.000000      2.394495     33.930000   -121.800000      1.208000  \n",
            "50%     1383.000000      2.744828     34.190000   -118.450000      1.808000  \n",
            "75%     1856.000000      3.125313     37.700000   -118.020000      2.660000  \n",
            "max    35682.000000    502.990610     41.950000   -114.550000      5.000010  \n"
          ]
        }
      ],
      "source": [
        "print(df_dataset_import.describe())"
      ]
    },
    {
      "cell_type": "code",
      "execution_count": 10,
      "metadata": {
        "id": "FAyDYvmioyuw",
        "outputId": "43ef8280-1f51-4d5a-a024-ede465f777a3",
        "colab": {
          "base_uri": "https://localhost:8080/"
        }
      },
      "outputs": [
        {
          "output_type": "stream",
          "name": "stdout",
          "text": [
            "id             0\n",
            "MedInc         0\n",
            "HouseAge       0\n",
            "AveRooms       0\n",
            "AveBedrms      0\n",
            "Population     0\n",
            "AveOccup       0\n",
            "Latitude       0\n",
            "Longitude      0\n",
            "MedHouseVal    0\n",
            "dtype: int64\n",
            "Total number of NaN in the dataframe:  0\n"
          ]
        }
      ],
      "source": [
        "print(df_dataset_import.isnull().sum())\n",
        "print('Total number of NaN in the dataframe: ', df_dataset_import.isnull().sum().sum())"
      ]
    },
    {
      "cell_type": "markdown",
      "metadata": {
        "id": "3u4LgABdoyuw"
      },
      "source": [
        "### 1.d) Data Cleaning"
      ]
    },
    {
      "cell_type": "code",
      "source": [
        "def convert_latitude(target_col):\n",
        "    # print(target_col)\n",
        "    latitude_loc = 'A' + str(int(target_col)).zfill(3)\n",
        "    return latitude_loc\n",
        "\n",
        "def convert_longitude(target_col):\n",
        "    # print(target_col)\n",
        "    longitude_loc = 'G' + str(int(target_col)).zfill(3)\n",
        "    return longitude_loc"
      ],
      "metadata": {
        "id": "6yLdrfWvm2rm"
      },
      "execution_count": 11,
      "outputs": []
    },
    {
      "cell_type": "code",
      "source": [
        "# Fetch the original Scikit-learn training dataset with more attributes\n",
        "df_dataset_sklearn = datasets.fetch_california_housing(as_frame=True)['data']\n",
        "df_dataset_sklearn['MedHouseVal'] = datasets.fetch_california_housing(as_frame=True)['target']\n",
        "df_dataset_sklearn['is_synthetic'] = 0\n",
        "\n",
        "df_dataset_sklearn.info(verbose=True)"
      ],
      "metadata": {
        "colab": {
          "base_uri": "https://localhost:8080/"
        },
        "id": "mjuRryA81xH3",
        "outputId": "86b90f2d-96bf-4145-d8ef-e0d68c57fa72"
      },
      "execution_count": 12,
      "outputs": [
        {
          "output_type": "stream",
          "name": "stdout",
          "text": [
            "<class 'pandas.core.frame.DataFrame'>\n",
            "RangeIndex: 20640 entries, 0 to 20639\n",
            "Data columns (total 10 columns):\n",
            " #   Column        Non-Null Count  Dtype  \n",
            "---  ------        --------------  -----  \n",
            " 0   MedInc        20640 non-null  float64\n",
            " 1   HouseAge      20640 non-null  float64\n",
            " 2   AveRooms      20640 non-null  float64\n",
            " 3   AveBedrms     20640 non-null  float64\n",
            " 4   Population    20640 non-null  float64\n",
            " 5   AveOccup      20640 non-null  float64\n",
            " 6   Latitude      20640 non-null  float64\n",
            " 7   Longitude     20640 non-null  float64\n",
            " 8   MedHouseVal   20640 non-null  float64\n",
            " 9   is_synthetic  20640 non-null  int64  \n",
            "dtypes: float64(9), int64(1)\n",
            "memory usage: 1.6 MB\n"
          ]
        }
      ]
    },
    {
      "cell_type": "code",
      "source": [
        "# Combine the original and synthetic datasets into one training dataset\n",
        "df_dataset_import['is_synthetic'] = 1\n",
        "df_dataset_import.drop(columns=['id'], inplace=True)\n",
        "df_dataset_import = pd.concat([df_dataset_import, df_dataset_sklearn],\n",
        "                              ignore_index=True)\n",
        "\n",
        "df_dataset_import.info(verbose=True)"
      ],
      "metadata": {
        "colab": {
          "base_uri": "https://localhost:8080/"
        },
        "id": "1ZNVfkhO26iG",
        "outputId": "8efc79bc-8ee2-44dc-933d-b052c02974c8"
      },
      "execution_count": 13,
      "outputs": [
        {
          "output_type": "stream",
          "name": "stdout",
          "text": [
            "<class 'pandas.core.frame.DataFrame'>\n",
            "RangeIndex: 57777 entries, 0 to 57776\n",
            "Data columns (total 10 columns):\n",
            " #   Column        Non-Null Count  Dtype  \n",
            "---  ------        --------------  -----  \n",
            " 0   MedInc        57777 non-null  float64\n",
            " 1   HouseAge      57777 non-null  float64\n",
            " 2   AveRooms      57777 non-null  float64\n",
            " 3   AveBedrms     57777 non-null  float64\n",
            " 4   Population    57777 non-null  float64\n",
            " 5   AveOccup      57777 non-null  float64\n",
            " 6   Latitude      57777 non-null  float64\n",
            " 7   Longitude     57777 non-null  float64\n",
            " 8   MedHouseVal   57777 non-null  float64\n",
            " 9   is_synthetic  57777 non-null  int64  \n",
            "dtypes: float64(9), int64(1)\n",
            "memory usage: 4.4 MB\n"
          ]
        }
      ]
    },
    {
      "cell_type": "code",
      "execution_count": 14,
      "metadata": {
        "id": "l05xb66poyuw",
        "outputId": "9e47fa22-665a-4ff5-9b50-ca133cd9dfc4",
        "colab": {
          "base_uri": "https://localhost:8080/"
        }
      },
      "outputs": [
        {
          "output_type": "stream",
          "name": "stdout",
          "text": [
            "   MedInc  HouseAge  AveRooms  AveBedrms  Population  AveOccup  target  \\\n",
            "0  2.3859      15.0  3.827160   1.112100      1280.0  2.486989   0.980   \n",
            "1  3.7188      17.0  6.013373   1.054217      1504.0  3.813084   0.946   \n",
            "2  4.7750      27.0  6.535604   1.103175      1061.0  2.464602   1.576   \n",
            "3  2.4138      16.0  3.350203   0.965432      1255.0  2.089286   1.336   \n",
            "4  3.7500      52.0  4.284404   1.069246      1793.0  1.604790   4.500   \n",
            "\n",
            "   is_synthetic Lat_Loc Long_Loc  \n",
            "0             1    A021     G042  \n",
            "1             1    A065     G031  \n",
            "2             1    A023     G038  \n",
            "3             1    A001     G072  \n",
            "4             1    A055     G019  \n",
            "       MedInc  HouseAge  AveRooms  AveBedrms  Population  AveOccup  target  \\\n",
            "57772  1.5603      25.0  5.045455   1.133333       845.0  2.560606   0.781   \n",
            "57773  2.5568      18.0  6.114035   1.315789       356.0  3.122807   0.771   \n",
            "57774  1.7000      17.0  5.205543   1.120092      1007.0  2.325635   0.923   \n",
            "57775  1.8672      18.0  5.329513   1.171920       741.0  2.123209   0.847   \n",
            "57776  2.3886      16.0  5.254717   1.162264      1387.0  2.616981   0.894   \n",
            "\n",
            "       is_synthetic Lat_Loc Long_Loc  \n",
            "57772             0    A073     G032  \n",
            "57773             0    A073     G031  \n",
            "57774             0    A073     G031  \n",
            "57775             0    A073     G030  \n",
            "57776             0    A072     G030  \n"
          ]
        }
      ],
      "source": [
        "# Standardize the class column to the name of targetVar if required\n",
        "df_dataset_import = df_dataset_import.rename(columns={ORIGINAL_LABEL: CLASS_COLUMN})\n",
        "\n",
        "# Encode geolocations\n",
        "lat_est = preprocessing.KBinsDiscretizer(n_bins=100, encode='ordinal', strategy='uniform')\n",
        "df_dataset_import['LatKBins'] = lat_est.fit_transform(df_dataset_import['Latitude'].to_numpy().reshape(-1, 1))\n",
        "long_est = preprocessing.KBinsDiscretizer(n_bins=100, encode='ordinal', strategy='uniform')\n",
        "df_dataset_import['LongKBins'] = long_est.fit_transform(df_dataset_import['Longitude'].to_numpy().reshape(-1, 1))\n",
        "\n",
        "df_dataset_import['Lat_Loc'] = df_dataset_import['LatKBins'].apply(convert_latitude)\n",
        "df_dataset_import['Long_Loc'] = df_dataset_import['LongKBins'].apply(convert_longitude)\n",
        "\n",
        "# Dropping unique identifier and unnecessary features\n",
        "df_dataset_import.drop(columns=['Latitude','Longitude','LatKBins','LongKBins'], inplace=True)\n",
        "\n",
        "# Take a peek at the dataframe after cleaning\n",
        "print(df_dataset_import.head())\n",
        "print(df_dataset_import.tail())"
      ]
    },
    {
      "cell_type": "code",
      "execution_count": 15,
      "metadata": {
        "id": "y9LU5ERloyuw",
        "outputId": "64ae9a8e-d053-4d4a-ab64-e8392f63954c",
        "colab": {
          "base_uri": "https://localhost:8080/"
        }
      },
      "outputs": [
        {
          "output_type": "stream",
          "name": "stdout",
          "text": [
            "<class 'pandas.core.frame.DataFrame'>\n",
            "RangeIndex: 57777 entries, 0 to 57776\n",
            "Data columns (total 10 columns):\n",
            " #   Column        Non-Null Count  Dtype  \n",
            "---  ------        --------------  -----  \n",
            " 0   MedInc        57777 non-null  float64\n",
            " 1   HouseAge      57777 non-null  float64\n",
            " 2   AveRooms      57777 non-null  float64\n",
            " 3   AveBedrms     57777 non-null  float64\n",
            " 4   Population    57777 non-null  float64\n",
            " 5   AveOccup      57777 non-null  float64\n",
            " 6   target        57777 non-null  float64\n",
            " 7   is_synthetic  57777 non-null  int64  \n",
            " 8   Lat_Loc       57777 non-null  object \n",
            " 9   Long_Loc      57777 non-null  object \n",
            "dtypes: float64(7), int64(1), object(2)\n",
            "memory usage: 4.4+ MB\n"
          ]
        }
      ],
      "source": [
        "df_dataset_import.info(verbose=True)"
      ]
    },
    {
      "cell_type": "code",
      "execution_count": 16,
      "metadata": {
        "id": "Tl0V0nZqoyux",
        "outputId": "efda3c7c-3dd7-4691-fc22-9e2274febedd",
        "colab": {
          "base_uri": "https://localhost:8080/"
        }
      },
      "outputs": [
        {
          "output_type": "stream",
          "name": "stdout",
          "text": [
            "             MedInc      HouseAge      AveRooms     AveBedrms    Population  \\\n",
            "count  57777.000000  57777.000000  57777.000000  57777.000000  57777.000000   \n",
            "mean       3.858046     26.979559      5.258104      1.074519   1576.720610   \n",
            "std        1.838287     12.374508      1.771502      0.294086   1249.494223   \n",
            "min        0.499900      1.000000      0.846154      0.333333      3.000000   \n",
            "25%        2.588200     17.000000      4.381443      1.015306    882.000000   \n",
            "50%        3.521400     26.000000      5.126761      1.052941   1316.000000   \n",
            "75%        4.710900     36.000000      5.936031      1.091837   1815.000000   \n",
            "max       15.000100     52.000000    141.909091     34.066667  35682.000000   \n",
            "\n",
            "           AveOccup        target  is_synthetic  \n",
            "count  57777.000000  57777.000000  57777.000000  \n",
            "mean       2.916770      2.075753      0.642764  \n",
            "std        6.575793      1.156927      0.479189  \n",
            "min        0.692308      0.149990      0.000000  \n",
            "25%        2.407625      1.203000      0.000000  \n",
            "50%        2.769231      1.804000      1.000000  \n",
            "75%        3.179673      2.657000      1.000000  \n",
            "max     1243.333333      5.000010      1.000000  \n"
          ]
        }
      ],
      "source": [
        "print(df_dataset_import.describe())"
      ]
    },
    {
      "cell_type": "code",
      "execution_count": 17,
      "metadata": {
        "id": "sGppSKE2oyux",
        "outputId": "a8695607-5ea2-4e3d-a1ce-eeb8c76bf29c",
        "colab": {
          "base_uri": "https://localhost:8080/"
        }
      },
      "outputs": [
        {
          "output_type": "stream",
          "name": "stdout",
          "text": [
            "MedInc          0\n",
            "HouseAge        0\n",
            "AveRooms        0\n",
            "AveBedrms       0\n",
            "Population      0\n",
            "AveOccup        0\n",
            "target          0\n",
            "is_synthetic    0\n",
            "Lat_Loc         0\n",
            "Long_Loc        0\n",
            "dtype: int64\n",
            "Total number of NaN in the dataframe:  0\n"
          ]
        }
      ],
      "source": [
        "print(df_dataset_import.isnull().sum())\n",
        "print('Total number of NaN in the dataframe: ', df_dataset_import.isnull().sum().sum())"
      ]
    },
    {
      "cell_type": "markdown",
      "metadata": {
        "id": "YAEtbTgGoyux"
      },
      "source": [
        "### 1.e) Splitting Data into Sets"
      ]
    },
    {
      "cell_type": "code",
      "execution_count": 18,
      "metadata": {
        "id": "4Xj62_48oyux",
        "outputId": "55856b8a-e56b-40e2-d525-256bf90a2726",
        "colab": {
          "base_uri": "https://localhost:8080/"
        }
      },
      "outputs": [
        {
          "output_type": "stream",
          "name": "stdout",
          "text": [
            "df_dataset_import.shape: (57777, 10) df_features_train.shape: (57777, 9) df_target_train.shape: (57777,)\n"
          ]
        }
      ],
      "source": [
        "# Use variable total_column_count to hold the number of columns in the dataframe\n",
        "total_column_count = len(df_dataset_import.columns)\n",
        "\n",
        "# Set up variable total_feature_count for the total number of attribute columns\n",
        "total_feature_count = total_column_count-1\n",
        "\n",
        "# We create attribute-only and target-only datasets (df_features_train and df_target_train)\n",
        "df_target_train = df_dataset_import['target']\n",
        "df_features_train = df_dataset_import.drop(['target'], axis=1)\n",
        "\n",
        "print(\"df_dataset_import.shape: {} df_features_train.shape: {} df_target_train.shape: {}\".format(df_dataset_import.shape, df_features_train.shape, df_target_train.shape))"
      ]
    },
    {
      "cell_type": "markdown",
      "metadata": {
        "id": "s8rlPv9Noyux"
      },
      "source": [
        "### 1.f) Set up the parameters for data visualization"
      ]
    },
    {
      "cell_type": "code",
      "execution_count": 19,
      "metadata": {
        "id": "a0uVeMpsoyuy"
      },
      "outputs": [],
      "source": [
        "# Set up the number of row and columns for visualization display. display_rows * display_columns should be >= total_feature_count\n",
        "display_columns = 4\n",
        "if total_feature_count % display_columns == 0 :\n",
        "    display_rows = total_feature_count // display_columns\n",
        "else :\n",
        "    display_rows = (total_feature_count // display_columns) + 1\n",
        "\n",
        "# Set figure width to display the data visualization plots\n",
        "fig_size = plt.rcParams[\"figure.figsize\"]\n",
        "fig_size[0] = display_columns * 4\n",
        "fig_size[1] = display_rows * 4\n",
        "plt.rcParams[\"figure.figsize\"] = fig_size"
      ]
    },
    {
      "cell_type": "code",
      "execution_count": 20,
      "metadata": {
        "id": "W_FIlvWloyuy"
      },
      "outputs": [],
      "source": [
        "if NOTIFY_STATUS: status_notify(\"Task 1 - Prepare Environment completed! \" + datetime.now().strftime('%a %B %d, %Y %I:%M:%S %p'))"
      ]
    },
    {
      "cell_type": "markdown",
      "metadata": {
        "id": "orVRV0XHoyuy"
      },
      "source": [
        "## Task 2 - Summarize and Visualize Data"
      ]
    },
    {
      "cell_type": "code",
      "execution_count": 21,
      "metadata": {
        "id": "c6KamCMqoyuy"
      },
      "outputs": [],
      "source": [
        "if NOTIFY_STATUS: status_notify(\"Task 2 - Summarize and Visualize Data has begun! \" + datetime.now().strftime('%a %B %d, %Y %I:%M:%S %p'))"
      ]
    },
    {
      "cell_type": "code",
      "execution_count": 22,
      "metadata": {
        "id": "6c-ar-3toyuy",
        "outputId": "c6e1bb4f-ebc6-4414-c60a-642e5a80d6c1",
        "colab": {
          "base_uri": "https://localhost:8080/",
          "height": 471
        }
      },
      "outputs": [
        {
          "output_type": "display_data",
          "data": {
            "text/plain": [
              "<Figure size 1152x864 with 12 Axes>"
            ],
            "image/png": "[encoded data removed]"
          },
          "metadata": {
            "needs_background": "light"
          }
        }
      ],
      "source": [
        "# Box and Whisker plot for each attribute\n",
        "df_features_train.plot(kind='box', subplots=True, layout=(display_rows, display_columns))\n",
        "plt.show()"
      ]
    },
    {
      "cell_type": "code",
      "execution_count": 23,
      "metadata": {
        "id": "M9mWrtAVoyuy",
        "colab": {
          "base_uri": "https://localhost:8080/",
          "height": 1000
        },
        "outputId": "ba98cfd3-daf5-45c7-df2f-26f2074cbb6a"
      },
      "outputs": [
        {
          "output_type": "display_data",
          "data": {
            "text/plain": [
              "<Figure size 1440x1440 with 2 Axes>"
            ],
            "image/png": "[encoded data removed]"
          },
          "metadata": {
            "needs_background": "light"
          }
        }
      ],
      "source": [
        "# Correlation matrix\n",
        "fig = plt.figure(figsize=(20, 20))\n",
        "correlations = df_features_train.corr(method='pearson')\n",
        "sns.heatmap(correlations, annot=True, cmap=plt.cm.PuBu)\n",
        "plt.show()"
      ]
    },
    {
      "cell_type": "code",
      "execution_count": 24,
      "metadata": {
        "id": "pG0MBv7noyuy"
      },
      "outputs": [],
      "source": [
        "if NOTIFY_STATUS: status_notify(\"Task 2 - Summarize and Visualize Data completed! \" + datetime.now().strftime('%a %B %d, %Y %I:%M:%S %p'))"
      ]
    },
    {
      "cell_type": "markdown",
      "metadata": {
        "id": "0P3OoeOaoyuz"
      },
      "source": [
        "## Task 3 - Pre-process Data"
      ]
    },
    {
      "cell_type": "code",
      "execution_count": 25,
      "metadata": {
        "id": "vMi0mInkoyuz"
      },
      "outputs": [],
      "source": [
        "if NOTIFY_STATUS: status_notify(\"Task 3 - Pre-process Data has begun! \" + datetime.now().strftime('%a %B %d, %Y %I:%M:%S %p'))"
      ]
    },
    {
      "cell_type": "markdown",
      "metadata": {
        "id": "qvlG0_Gloyuz"
      },
      "source": [
        "### 3.a) Feature Scaling and Data Pre-Processing"
      ]
    },
    {
      "cell_type": "code",
      "execution_count": 26,
      "metadata": {
        "id": "4bFod1tLoyuz",
        "outputId": "1542ed8c-9efe-4771-e845-3951cf51f529",
        "colab": {
          "base_uri": "https://localhost:8080/"
        }
      },
      "outputs": [
        {
          "output_type": "stream",
          "name": "stdout",
          "text": [
            "Number of numerical columns: 7\n",
            "Number of categorical columns: 2\n",
            "Total number of columns in the feature dataframe: 9\n"
          ]
        }
      ],
      "source": [
        "# Compose pipeline for the numerical and categorical features (Block #1 of 2)\n",
        "numeric_columns = df_features_train.select_dtypes(include=['int','float']).columns\n",
        "numeric_transformer = Pipeline(steps=[\n",
        "    ('imputer', impute.SimpleImputer(strategy=\"constant\", fill_value=0)),\n",
        "    # ('scaler', preprocessing.StandardScaler())\n",
        "])\n",
        "categorical_columns = df_features_train.select_dtypes(include=['object','category']).columns\n",
        "categorical_transformer = Pipeline(steps=[\n",
        "    ('imputer', impute.SimpleImputer(strategy='constant', fill_value='UKNOWN')),\n",
        "    ('onehot', preprocessing.OneHotEncoder(sparse=False, handle_unknown='ignore'))\n",
        "])\n",
        "\n",
        "print(\"Number of numerical columns:\", len(numeric_columns))\n",
        "print(\"Number of categorical columns:\", len(categorical_columns))\n",
        "print(\"Total number of columns in the feature dataframe:\", df_features_train.shape[1])"
      ]
    },
    {
      "cell_type": "code",
      "execution_count": 27,
      "metadata": {
        "id": "qnVwjvF5oyuz"
      },
      "outputs": [],
      "source": [
        "# Compose pipeline for the numerical and categorical features (Block #2 of 2)\n",
        "preprocessor = compose.ColumnTransformer(transformers=[\n",
        "    ('num', numeric_transformer, numeric_columns),\n",
        "    ('cat', categorical_transformer, categorical_columns)\n",
        "], remainder='passthrough')"
      ]
    },
    {
      "cell_type": "markdown",
      "metadata": {
        "id": "UhEzGnKtoyuz"
      },
      "source": [
        "### 3.b) Training Data Balancing"
      ]
    },
    {
      "cell_type": "code",
      "execution_count": 28,
      "metadata": {
        "id": "-1ULtH01oyuz"
      },
      "outputs": [],
      "source": [
        "# Not applicable for this iteration of modeling"
      ]
    },
    {
      "cell_type": "markdown",
      "metadata": {
        "id": "GTWvOhWWoyuz"
      },
      "source": [
        "### 3.c) Feature Selection"
      ]
    },
    {
      "cell_type": "code",
      "execution_count": 29,
      "metadata": {
        "id": "7VV1fyK1oyuz"
      },
      "outputs": [],
      "source": [
        "# Not applicable for this iteration of modeling"
      ]
    },
    {
      "cell_type": "markdown",
      "metadata": {
        "id": "Ehygxv37oyuz"
      },
      "source": [
        "### 3.d) Display the Final Datasets for Model-Building"
      ]
    },
    {
      "cell_type": "code",
      "execution_count": 30,
      "metadata": {
        "id": "Rvbdx9uEoyuz",
        "outputId": "f003e6e5-fb22-4f07-bcd4-6fa8451174f0",
        "colab": {
          "base_uri": "https://localhost:8080/"
        }
      },
      "outputs": [
        {
          "output_type": "stream",
          "name": "stdout",
          "text": [
            "array_features_train.shape: (57777, 204) array_target_train.shape: (57777,)\n"
          ]
        }
      ],
      "source": [
        "# Finalize the training dataset for the modeling activities\n",
        "array_features_train = preprocessor.fit_transform(df_features_train)\n",
        "array_target_train = df_target_train.to_numpy()\n",
        "print(\"array_features_train.shape: {} array_target_train.shape: {}\".format(array_features_train.shape, array_target_train.shape))"
      ]
    },
    {
      "cell_type": "code",
      "execution_count": 31,
      "metadata": {
        "id": "knrO4zXmoyuz"
      },
      "outputs": [],
      "source": [
        "if NOTIFY_STATUS: status_notify(\"Task 3 - Pre-process Data completed! \" + datetime.now().strftime('%a %B %d, %Y %I:%M:%S %p'))"
      ]
    },
    {
      "cell_type": "markdown",
      "metadata": {
        "id": "AW4niFNBoyu0"
      },
      "source": [
        "## Task 4 - Train and Tune Models"
      ]
    },
    {
      "cell_type": "code",
      "execution_count": 32,
      "metadata": {
        "id": "iED_YVgNoyu0"
      },
      "outputs": [],
      "source": [
        "if NOTIFY_STATUS: status_notify(\"Task 4 - Train and Tune Models has begun! \" + datetime.now().strftime('%a %B %d, %Y %I:%M:%S %p'))"
      ]
    },
    {
      "cell_type": "markdown",
      "metadata": {
        "id": "yXlGt_ODoyu0"
      },
      "source": [
        "### 4.a) Set test options and evaluation metric"
      ]
    },
    {
      "cell_type": "code",
      "execution_count": 33,
      "metadata": {
        "id": "LG4WOhcSoyu0"
      },
      "outputs": [],
      "source": [
        "# Set up Algorithms Spot-Checking Array\n",
        "start_time_training = datetime.now()\n",
        "train_models = []\n",
        "train_results = []\n",
        "train_model_names = []\n",
        "train_metrics = []"
      ]
    },
    {
      "cell_type": "code",
      "execution_count": 34,
      "metadata": {
        "id": "KEMfNPUKoyu0"
      },
      "outputs": [],
      "source": [
        "train_models.append(('LNR', LinearRegression(n_jobs=N_JOBS)))\n",
        "train_models.append(('ELN', ElasticNet(random_state=RNG_SEED)))\n",
        "train_models.append(('CART', DecisionTreeRegressor(random_state=RNG_SEED)))\n",
        "train_models.append(('KNN', KNeighborsRegressor(n_jobs=N_JOBS)))\n",
        "train_models.append(('RNF', RandomForestRegressor(random_state=RNG_SEED, n_jobs=N_JOBS)))\n",
        "train_models.append(('EXT', ExtraTreesRegressor(random_state=RNG_SEED, n_jobs=N_JOBS)))"
      ]
    },
    {
      "cell_type": "code",
      "execution_count": 35,
      "metadata": {
        "id": "myc1LaJPoyu0",
        "outputId": "102a9757-cd9f-4613-900f-67e944edd82e",
        "colab": {
          "base_uri": "https://localhost:8080/"
        }
      },
      "outputs": [
        {
          "output_type": "stream",
          "name": "stderr",
          "text": [
            "[Parallel(n_jobs=2)]: Using backend LokyBackend with 2 concurrent workers.\n",
            "[Parallel(n_jobs=2)]: Done   5 out of   5 | elapsed:    8.5s finished\n",
            "[Parallel(n_jobs=2)]: Using backend LokyBackend with 2 concurrent workers.\n"
          ]
        },
        {
          "output_type": "stream",
          "name": "stdout",
          "text": [
            "LNR: -0.431607 (0.008403)\n",
            "LinearRegression(n_jobs=2)\n",
            "Model training time: 0:00:08.678651 \n",
            "\n"
          ]
        },
        {
          "output_type": "stream",
          "name": "stderr",
          "text": [
            "[Parallel(n_jobs=2)]: Done   5 out of   5 | elapsed:    1.7s finished\n",
            "[Parallel(n_jobs=2)]: Using backend LokyBackend with 2 concurrent workers.\n"
          ]
        },
        {
          "output_type": "stream",
          "name": "stdout",
          "text": [
            "ELN: -0.773537 (0.012749)\n",
            "ElasticNet(random_state=888)\n",
            "Model training time: 0:00:01.755995 \n",
            "\n"
          ]
        },
        {
          "output_type": "stream",
          "name": "stderr",
          "text": [
            "[Parallel(n_jobs=2)]: Done   5 out of   5 | elapsed:   17.7s finished\n",
            "[Parallel(n_jobs=2)]: Using backend LokyBackend with 2 concurrent workers.\n"
          ]
        },
        {
          "output_type": "stream",
          "name": "stdout",
          "text": [
            "CART: -0.736842 (0.022712)\n",
            "DecisionTreeRegressor(random_state=888)\n",
            "Model training time: 0:00:17.787288 \n",
            "\n"
          ]
        },
        {
          "output_type": "stream",
          "name": "stderr",
          "text": [
            "/usr/local/lib/python3.8/dist-packages/joblib/externals/loky/process_executor.py:700: UserWarning: A worker stopped while some jobs were given to the executor. This can be caused by a too short worker timeout or by a memory leak.\n",
            "  warnings.warn(\n"
          ]
        },
        {
          "output_type": "stream",
          "name": "stdout",
          "text": [
            "KNN: -0.910432 (0.009015)\n",
            "KNeighborsRegressor(n_jobs=2)\n",
            "Model training time: 0:01:42.764879 \n",
            "\n"
          ]
        },
        {
          "output_type": "stream",
          "name": "stderr",
          "text": [
            "[Parallel(n_jobs=2)]: Done   5 out of   5 | elapsed:  1.7min finished\n",
            "[Parallel(n_jobs=2)]: Using backend LokyBackend with 2 concurrent workers.\n",
            "[Parallel(n_jobs=2)]: Done   5 out of   5 | elapsed:  6.8min finished\n",
            "[Parallel(n_jobs=2)]: Using backend LokyBackend with 2 concurrent workers.\n"
          ]
        },
        {
          "output_type": "stream",
          "name": "stdout",
          "text": [
            "RNF: -0.384577 (0.005543)\n",
            "RandomForestRegressor(n_jobs=2, random_state=888)\n",
            "Model training time: 0:06:45.815936 \n",
            "\n",
            "EXT: -0.340483 (0.004324)\n",
            "ExtraTreesRegressor(n_jobs=2, random_state=888)\n",
            "Model training time: 0:11:08.654621 \n",
            "\n",
            "Average metrics (neg_mean_squared_error) from all models: -0.596246160052685\n",
            "Total training time for all models: 0:20:05.489430\n"
          ]
        },
        {
          "output_type": "stream",
          "name": "stderr",
          "text": [
            "[Parallel(n_jobs=2)]: Done   5 out of   5 | elapsed: 11.1min finished\n"
          ]
        }
      ],
      "source": [
        "# Generate model in turn\n",
        "for name, model in train_models:\n",
        "\tif NOTIFY_STATUS: status_notify(\"Algorithm\", name, \"modeling has begun! \" + datetime.now().strftime('%a %B %d, %Y %I:%M:%S %p'))\n",
        "\tstart_time_module = datetime.now()\n",
        "\tkfold = KFold(n_splits=N_FOLDS, shuffle=True, random_state=RNG_SEED)\n",
        "\tcv_results = cross_val_score(model, array_features_train, array_target_train, cv=kfold, scoring=SCORING_METRIC, n_jobs=N_JOBS, verbose=1)\n",
        "\ttrain_results.append(cv_results)\n",
        "\ttrain_model_names.append(name)\n",
        "\ttrain_metrics.append(cv_results.mean())\n",
        "\tprint(\"%s: %f (%f)\" % (name, cv_results.mean(), cv_results.std()))\n",
        "\tprint(model)\n",
        "\tprint ('Model training time:', (datetime.now() - start_time_module), '\\n')\n",
        "\tif NOTIFY_STATUS: status_notify(\"Algorithm\", name, \"modeling completed! \" + datetime.now().strftime('%a %B %d, %Y %I:%M:%S %p'))\n",
        "print ('Average metrics (' + SCORING_METRIC + ') from all models:', np.mean(train_metrics))\n",
        "print ('Total training time for all models:', (datetime.now() - start_time_training))"
      ]
    },
    {
      "cell_type": "markdown",
      "metadata": {
        "id": "5f81C5REoyu0"
      },
      "source": [
        "### 4.b) Spot-checking baseline algorithms"
      ]
    },
    {
      "cell_type": "code",
      "execution_count": 36,
      "metadata": {
        "id": "xbuEpBv-oyu0",
        "outputId": "b39097a9-c9b4-40c6-8463-1bff128efe68",
        "colab": {
          "base_uri": "https://localhost:8080/",
          "height": 787
        }
      },
      "outputs": [
        {
          "output_type": "display_data",
          "data": {
            "text/plain": [
              "<Figure size 1152x864 with 1 Axes>"
            ],
            "image/png": "[encoded data removed]"
          },
          "metadata": {
            "needs_background": "light"
          }
        }
      ],
      "source": [
        "fig = plt.figure(figsize=(16,12))\n",
        "fig.suptitle('Algorithm Comparison - Spot Checking')\n",
        "ax = fig.add_subplot(111)\n",
        "plt.boxplot(train_results)\n",
        "ax.set_xticklabels(train_model_names)\n",
        "plt.show()"
      ]
    },
    {
      "cell_type": "code",
      "execution_count": 37,
      "metadata": {
        "id": "0I685ixNoyu0"
      },
      "outputs": [],
      "source": [
        "if NOTIFY_STATUS: status_notify(\"Task 4 - Train and Tune Models completed! \" + datetime.now().strftime('%a %B %d, %Y %I:%M:%S %p'))"
      ]
    },
    {
      "cell_type": "markdown",
      "metadata": {
        "id": "h5CGob13oyu1"
      },
      "source": [
        "### 4.c) Algorithm Tuning"
      ]
    },
    {
      "cell_type": "code",
      "execution_count": 38,
      "metadata": {
        "id": "Zew5gUkRoyu1"
      },
      "outputs": [],
      "source": [
        "# Set up the comparison array\n",
        "tune_results = []\n",
        "tune_model_names = []"
      ]
    },
    {
      "cell_type": "code",
      "source": [
        "# Tuning algorithm #1\n",
        "start_time_module = datetime.now()\n",
        "if NOTIFY_STATUS: status_notify(\"Algorithm #1 tuning has begun! \" + datetime.now().strftime('%a %B %d, %Y %I:%M:%S %p'))\n",
        "\n",
        "tune_model1 = ElasticNet(random_state=RNG_SEED)\n",
        "tune_model_names.append('ELN')\n",
        "paramGrid1 = dict(l1_ratio=np.array([0, 0.25, 0.5, 0.75, 1]))\n",
        "\n",
        "kfold = KFold(n_splits=N_FOLDS, shuffle=True, random_state=RNG_SEED)\n",
        "grid1 = GridSearchCV(estimator=tune_model1, param_grid=paramGrid1, scoring=SCORING_METRIC, cv=kfold, n_jobs=N_JOBS, verbose=1)\n",
        "grid_result1 = grid1.fit(array_features_train, array_target_train)\n",
        "\n",
        "print(\"Best: %f using %s\" % (grid_result1.best_score_, grid_result1.best_params_))\n",
        "tune_results.append(grid_result1.cv_results_['mean_test_score'])\n",
        "means = grid_result1.cv_results_['mean_test_score']\n",
        "stds = grid_result1.cv_results_['std_test_score']\n",
        "params = grid_result1.cv_results_['params']\n",
        "for mean, stdev, param in zip(means, stds, params):\n",
        "    print(\"%f (%f) with: %r\" % (mean, stdev, param))\n",
        "print ('Model training time:', (datetime.now() - start_time_module))\n",
        "if NOTIFY_STATUS: status_notify(\"Algorithm #1 tuning completed! \" + datetime.now().strftime('%a %B %d, %Y %I:%M:%S %p'))"
      ],
      "metadata": {
        "colab": {
          "base_uri": "https://localhost:8080/"
        },
        "id": "uRiO8SMAv9Lg",
        "outputId": "77bf9f3d-8eaa-48ca-ba8f-07f3fcdb4010"
      },
      "execution_count": 39,
      "outputs": [
        {
          "output_type": "stream",
          "name": "stdout",
          "text": [
            "Fitting 5 folds for each of 5 candidates, totalling 25 fits\n",
            "Best: -0.675405 using {'l1_ratio': 0.0}\n",
            "-0.675405 (0.009434) with: {'l1_ratio': 0.0}\n",
            "-0.720421 (0.011247) with: {'l1_ratio': 0.25}\n",
            "-0.773537 (0.012749) with: {'l1_ratio': 0.5}\n",
            "-0.851993 (0.015227) with: {'l1_ratio': 0.75}\n",
            "-0.965620 (0.019224) with: {'l1_ratio': 1.0}\n",
            "Model training time: 0:02:33.312284\n"
          ]
        },
        {
          "output_type": "stream",
          "name": "stderr",
          "text": [
            "/usr/local/lib/python3.8/dist-packages/sklearn/linear_model/_coordinate_descent.py:647: ConvergenceWarning: Objective did not converge. You might want to increase the number of iterations, check the scale of the features or consider increasing regularisation. Duality gap: 2.304e+04, tolerance: 7.733e+00 Linear regression models with null weight for the l1 regularization term are more efficiently fitted using one of the solvers implemented in sklearn.linear_model.Ridge/RidgeCV instead.\n",
            "  model = cd_fast.enet_coordinate_descent(\n"
          ]
        }
      ]
    },
    {
      "cell_type": "code",
      "source": [
        "best_paramKey1 = list(grid_result1.best_params_.keys())[0]\n",
        "best_paramValue1 = list(grid_result1.best_params_.values())[0]\n",
        "print(\"Captured the best parameter for algorithm #1:\", best_paramKey1, '=', best_paramValue1)"
      ],
      "metadata": {
        "colab": {
          "base_uri": "https://localhost:8080/"
        },
        "id": "xttlS0Jjv9F7",
        "outputId": "bef92697-da27-44d3-ee4f-a8fe5fc0a6c5"
      },
      "execution_count": 40,
      "outputs": [
        {
          "output_type": "stream",
          "name": "stdout",
          "text": [
            "Captured the best parameter for algorithm #1: l1_ratio = 0.0\n"
          ]
        }
      ]
    },
    {
      "cell_type": "code",
      "source": [
        "# Tuning algorithm #2\n",
        "start_time_module = datetime.now()\n",
        "if NOTIFY_STATUS: status_notify(\"Algorithm #2 tuning has begun! \" + datetime.now().strftime('%a %B %d, %Y %I:%M:%S %p'))\n",
        "\n",
        "tune_model2 = ExtraTreesRegressor(random_state=RNG_SEED, n_jobs=N_JOBS)\n",
        "tune_model_names.append('EXT')\n",
        "paramGrid2 = dict(n_estimators=np.array([100, 300, 500]))\n",
        "\n",
        "kfold = KFold(n_splits=N_FOLDS, shuffle=True, random_state=RNG_SEED)\n",
        "grid2 = GridSearchCV(estimator=tune_model2, param_grid=paramGrid2, scoring=SCORING_METRIC, cv=kfold, n_jobs=N_JOBS, verbose=1)\n",
        "grid_result2 = grid2.fit(array_features_train, array_target_train)\n",
        "\n",
        "print(\"Best: %f using %s\" % (grid_result2.best_score_, grid_result2.best_params_))\n",
        "tune_results.append(grid_result2.cv_results_['mean_test_score'])\n",
        "means = grid_result2.cv_results_['mean_test_score']\n",
        "stds = grid_result2.cv_results_['std_test_score']\n",
        "params = grid_result2.cv_results_['params']\n",
        "for mean, stdev, param in zip(means, stds, params):\n",
        "    print(\"%f (%f) with: %r\" % (mean, stdev, param))\n",
        "print ('Model training time:', (datetime.now() - start_time_module))\n",
        "if NOTIFY_STATUS: status_notify(\"Algorithm #2 tuning completed! \" + datetime.now().strftime('%a %B %d, %Y %I:%M:%S %p'))"
      ],
      "metadata": {
        "colab": {
          "base_uri": "https://localhost:8080/"
        },
        "id": "h-KQ6coHv9B4",
        "outputId": "c7c03cc5-f94a-4b73-d6ce-a21aeb275609"
      },
      "execution_count": 41,
      "outputs": [
        {
          "output_type": "stream",
          "name": "stdout",
          "text": [
            "Fitting 5 folds for each of 3 candidates, totalling 15 fits\n"
          ]
        },
        {
          "output_type": "stream",
          "name": "stderr",
          "text": [
            "/usr/local/lib/python3.8/dist-packages/joblib/externals/loky/process_executor.py:700: UserWarning: A worker stopped while some jobs were given to the executor. This can be caused by a too short worker timeout or by a memory leak.\n",
            "  warnings.warn(\n"
          ]
        },
        {
          "output_type": "stream",
          "name": "stdout",
          "text": [
            "Best: -0.337989 using {'n_estimators': 500}\n",
            "-0.340483 (0.004324) with: {'n_estimators': 100}\n",
            "-0.338543 (0.004046) with: {'n_estimators': 300}\n",
            "-0.337989 (0.004255) with: {'n_estimators': 500}\n",
            "Model training time: 1:56:10.975915\n"
          ]
        }
      ]
    },
    {
      "cell_type": "code",
      "source": [
        "best_paramKey2 = list(grid_result2.best_params_.keys())[0]\n",
        "best_paramValue2 = list(grid_result2.best_params_.values())[0]\n",
        "print(\"Captured the best parameter for algorithm #2:\", best_paramKey2, '=', best_paramValue2)"
      ],
      "metadata": {
        "id": "AbCquagMv85Y",
        "colab": {
          "base_uri": "https://localhost:8080/"
        },
        "outputId": "62b95408-2678-4b3e-8490-75c12c7a8121"
      },
      "execution_count": 42,
      "outputs": [
        {
          "output_type": "stream",
          "name": "stdout",
          "text": [
            "Captured the best parameter for algorithm #2: n_estimators = 500\n"
          ]
        }
      ]
    },
    {
      "cell_type": "markdown",
      "metadata": {
        "id": "ovTv9np2oyu1"
      },
      "source": [
        "### 4.d) Compare Algorithms After Tuning"
      ]
    },
    {
      "cell_type": "code",
      "execution_count": 43,
      "metadata": {
        "id": "u7fV2PBpoyu1",
        "colab": {
          "base_uri": "https://localhost:8080/",
          "height": 842
        },
        "outputId": "5a121f02-8de8-4dc5-ef06-5e464b5784c2"
      },
      "outputs": [
        {
          "output_type": "stream",
          "name": "stderr",
          "text": [
            "/usr/local/lib/python3.8/dist-packages/matplotlib/cbook/__init__.py:1376: VisibleDeprecationWarning: Creating an ndarray from ragged nested sequences (which is a list-or-tuple of lists-or-tuples-or ndarrays with different lengths or shapes) is deprecated. If you meant to do this, you must specify 'dtype=object' when creating the ndarray.\n",
            "  X = np.atleast_1d(X.T if isinstance(X, np.ndarray) else np.asarray(X))\n"
          ]
        },
        {
          "output_type": "display_data",
          "data": {
            "text/plain": [
              "<Figure size 1152x864 with 1 Axes>"
            ],
            "image/png": "[encoded data removed]"
          },
          "metadata": {
            "needs_background": "light"
          }
        }
      ],
      "source": [
        "fig = plt.figure(figsize=(16,12))\n",
        "fig.suptitle('Algorithm Comparison - Post Tuning')\n",
        "ax = fig.add_subplot(111)\n",
        "plt.boxplot(tune_results)\n",
        "ax.set_xticklabels(tune_model_names)\n",
        "plt.show()"
      ]
    },
    {
      "cell_type": "code",
      "execution_count": 44,
      "metadata": {
        "id": "3f1ZGfhooyu1"
      },
      "outputs": [],
      "source": [
        "if NOTIFY_STATUS: status_notify(\"Task 4 - Train and Tune Models completed! \" + datetime.now().strftime('%a %B %d, %Y %I:%M:%S %p'))"
      ]
    },
    {
      "cell_type": "markdown",
      "metadata": {
        "id": "955lq8SUoyu2"
      },
      "source": [
        "## Task 5 - Finalize Model and Make Predictions"
      ]
    },
    {
      "cell_type": "code",
      "execution_count": 45,
      "metadata": {
        "id": "lG_cjoUhoyu2"
      },
      "outputs": [],
      "source": [
        "if NOTIFY_STATUS: status_notify(\"Task 5 - Finalize Model and Make Predictions has begun! \" + datetime.now().strftime('%a %B %d, %Y %I:%M:%S %p'))"
      ]
    },
    {
      "cell_type": "markdown",
      "source": [
        "### 5.a) Train the Final Model"
      ],
      "metadata": {
        "id": "mn9w2BxvLb0y"
      }
    },
    {
      "cell_type": "code",
      "execution_count": 46,
      "metadata": {
        "id": "-IM5eGOLoyu2",
        "colab": {
          "base_uri": "https://localhost:8080/"
        },
        "outputId": "a4581a35-4ea9-46ee-9139-2e0ead9e1932"
      },
      "outputs": [
        {
          "output_type": "stream",
          "name": "stdout",
          "text": [
            "ExtraTreesRegressor(n_estimators=500, n_jobs=2, random_state=888)\n",
            "Model training time: 0:17:30.798357\n"
          ]
        }
      ],
      "source": [
        "start_time_module = datetime.now()\n",
        "FINAL_PARAMETER = 500\n",
        "final_model = ExtraTreesRegressor(n_estimators=FINAL_PARAMETER, random_state=RNG_SEED, n_jobs=N_JOBS)\n",
        "final_model.fit(array_features_train, array_target_train)\n",
        "print(final_model)\n",
        "print ('Model training time:', (datetime.now() - start_time_module))"
      ]
    },
    {
      "cell_type": "markdown",
      "source": [
        "### 5.b) Load Test Dataset and Make Predictions"
      ],
      "metadata": {
        "id": "IAP393UNLjUk"
      }
    },
    {
      "cell_type": "code",
      "source": [
        "df_features_test = pd.read_csv(TEST_DATASET)\n",
        "df_features_test['is_synthetic'] = 1\n",
        "\n",
        "# Encode geolocations\n",
        "df_features_test['LatKBins'] = lat_est.transform(df_features_test['Latitude'].to_numpy().reshape(-1, 1))\n",
        "df_features_test['LongKBins'] = long_est.transform(df_features_test['Longitude'].to_numpy().reshape(-1, 1))\n",
        "\n",
        "df_features_test['Lat_Loc'] = df_features_test['LatKBins'].apply(convert_latitude)\n",
        "df_features_test['Long_Loc'] = df_features_test['LongKBins'].apply(convert_longitude)\n",
        "\n",
        "# Dropping unique identifier and unnecessary features\n",
        "df_features_test.drop(columns=['Latitude','Longitude','LatKBins','LongKBins'], inplace=True)\n",
        "\n",
        "# Take a peek at the dataframe after import\n",
        "print(df_features_test.head())"
      ],
      "metadata": {
        "id": "H5i1DVJqLnBU",
        "colab": {
          "base_uri": "https://localhost:8080/"
        },
        "outputId": "391982dc-ce51-4777-e947-88a36208c2c7"
      },
      "execution_count": 47,
      "outputs": [
        {
          "output_type": "stream",
          "name": "stdout",
          "text": [
            "      id  MedInc  HouseAge  AveRooms  AveBedrms  Population  AveOccup  \\\n",
            "0  37137  1.7062      35.0  4.966368   1.096539      1318.0  2.844411   \n",
            "1  37138  1.3882      22.0  4.187035   1.098229      2296.0  3.180218   \n",
            "2  37139  7.7197      21.0  7.129436   0.959276      1535.0  2.888889   \n",
            "3  37140  4.6806      49.0  4.769697   1.048485       707.0  1.743590   \n",
            "4  37141  3.1284      25.0  3.765306   1.081633      4716.0  2.003827   \n",
            "\n",
            "   is_synthetic Lat_Loc Long_Loc  \n",
            "0             1    A076     G024  \n",
            "1             1    A014     G060  \n",
            "2             1    A011     G065  \n",
            "3             1    A017     G059  \n",
            "4             1    A017     G060  \n"
          ]
        }
      ]
    },
    {
      "cell_type": "code",
      "source": [
        "id_column_name = df_features_test.columns[0]\n",
        "df_kaggle_submission = pd.DataFrame()\n",
        "df_kaggle_submission[id_column_name] = df_features_test[id_column_name]\n",
        "print(df_kaggle_submission.head())"
      ],
      "metadata": {
        "id": "Lq2xZsBIPIal",
        "colab": {
          "base_uri": "https://localhost:8080/"
        },
        "outputId": "733c624e-b951-4d65-8ea0-c74e86d12a60"
      },
      "execution_count": 48,
      "outputs": [
        {
          "output_type": "stream",
          "name": "stdout",
          "text": [
            "      id\n",
            "0  37137\n",
            "1  37138\n",
            "2  37139\n",
            "3  37140\n",
            "4  37141\n"
          ]
        }
      ]
    },
    {
      "cell_type": "code",
      "source": [
        "# Dropping unique identifier and unnecessary features\n",
        "df_features_test.drop(columns=[id_column_name,], inplace=True)\n",
        "\n",
        "# Take a peek at the dataframe after cleaning\n",
        "print(df_features_test.head())"
      ],
      "metadata": {
        "id": "e3Dg2wiSPP9S",
        "colab": {
          "base_uri": "https://localhost:8080/"
        },
        "outputId": "a8a04bd3-3794-4c23-8e31-a76d1a4308d1"
      },
      "execution_count": 49,
      "outputs": [
        {
          "output_type": "stream",
          "name": "stdout",
          "text": [
            "   MedInc  HouseAge  AveRooms  AveBedrms  Population  AveOccup  is_synthetic  \\\n",
            "0  1.7062      35.0  4.966368   1.096539      1318.0  2.844411             1   \n",
            "1  1.3882      22.0  4.187035   1.098229      2296.0  3.180218             1   \n",
            "2  7.7197      21.0  7.129436   0.959276      1535.0  2.888889             1   \n",
            "3  4.6806      49.0  4.769697   1.048485       707.0  1.743590             1   \n",
            "4  3.1284      25.0  3.765306   1.081633      4716.0  2.003827             1   \n",
            "\n",
            "  Lat_Loc Long_Loc  \n",
            "0    A076     G024  \n",
            "1    A014     G060  \n",
            "2    A011     G065  \n",
            "3    A017     G059  \n",
            "4    A017     G060  \n"
          ]
        }
      ]
    },
    {
      "cell_type": "code",
      "source": [
        "# Finalize the test dataset for the testing activities\n",
        "array_features_test = preprocessor.transform(df_features_test)\n",
        "print(\"Transformed features from df_features_test.shape: {} to array_features_test.shape: {}\".format(df_features_test.shape, array_features_test.shape))"
      ],
      "metadata": {
        "id": "qa1aUkIZPtDR",
        "colab": {
          "base_uri": "https://localhost:8080/"
        },
        "outputId": "796d3dc6-d4e6-4b93-dd83-bf6a19180e88"
      },
      "execution_count": 50,
      "outputs": [
        {
          "output_type": "stream",
          "name": "stdout",
          "text": [
            "Transformed features from df_features_test.shape: (24759, 9) to array_features_test.shape: (24759, 204)\n"
          ]
        }
      ]
    },
    {
      "cell_type": "code",
      "source": [
        "# Make batched predictions\n",
        "test_predictions =  final_model.predict(array_features_test)\n",
        "print(test_predictions)"
      ],
      "metadata": {
        "id": "jk51XDuNPyJa",
        "colab": {
          "base_uri": "https://localhost:8080/"
        },
        "outputId": "8d25e857-7dea-4404-af30-197b817a7eef"
      },
      "execution_count": 51,
      "outputs": [
        {
          "output_type": "stream",
          "name": "stdout",
          "text": [
            "[0.79352    0.963106   3.7151745  ... 1.114702   3.17744608 3.86140652]\n"
          ]
        }
      ]
    },
    {
      "cell_type": "code",
      "source": [
        "df_sample_submission = pd.read_csv(SUBMISSION_TEMPLATE)\n",
        "df_sample_submission.drop(columns=[id_column_name], inplace=True)\n",
        "submission_header = list(df_sample_submission.columns)[0]\n",
        "print(submission_header)"
      ],
      "metadata": {
        "id": "k5wrJlkOQDT5",
        "colab": {
          "base_uri": "https://localhost:8080/"
        },
        "outputId": "f7ecc8dc-c92a-4a9d-8ecc-8f5dbce1067d"
      },
      "execution_count": 52,
      "outputs": [
        {
          "output_type": "stream",
          "name": "stdout",
          "text": [
            "MedHouseVal\n"
          ]
        }
      ]
    },
    {
      "cell_type": "code",
      "source": [
        "df_kaggle_submission[submission_header] = test_predictions\n",
        "print(df_kaggle_submission.head())"
      ],
      "metadata": {
        "id": "mNqTtzVNP1gl",
        "colab": {
          "base_uri": "https://localhost:8080/"
        },
        "outputId": "74041f2a-f679-41a9-d6cb-9d46b26b8d5f"
      },
      "execution_count": 53,
      "outputs": [
        {
          "output_type": "stream",
          "name": "stdout",
          "text": [
            "      id  MedHouseVal\n",
            "0  37137     0.793520\n",
            "1  37138     0.963106\n",
            "2  37139     3.715174\n",
            "3  37140     3.459644\n",
            "4  37141     2.387594\n"
          ]
        }
      ]
    },
    {
      "cell_type": "code",
      "source": [
        "submission_file = df_kaggle_submission.to_csv(header=True, index=False)\n",
        "filename = SUBMISSION_FILE + datetime.now().strftime('%Y%m%d-%H%M') + '.csv'\n",
        "with open(filename, 'w') as f:\n",
        "    f.write(submission_file)\n",
        "    print('Completed writing output file: ' + filename)"
      ],
      "metadata": {
        "id": "80RjY5cAP4sl",
        "colab": {
          "base_uri": "https://localhost:8080/"
        },
        "outputId": "2fe68619-e112-4593-ccc2-7d151a5594d2"
      },
      "execution_count": 54,
      "outputs": [
        {
          "output_type": "stream",
          "name": "stdout",
          "text": [
            "Completed writing output file: submission_sklearn_20230115-1925.csv\n"
          ]
        }
      ]
    },
    {
      "cell_type": "code",
      "execution_count": 55,
      "metadata": {
        "id": "REuedcf5oyu3"
      },
      "outputs": [],
      "source": [
        "if NOTIFY_STATUS: status_notify(\"Task 5 - Finalize Model and Make Predictions completed! \" + datetime.now().strftime('%a %B %d, %Y %I:%M:%S %p'))"
      ]
    },
    {
      "cell_type": "code",
      "execution_count": 56,
      "metadata": {
        "id": "nErqP5A_oyu3",
        "colab": {
          "base_uri": "https://localhost:8080/"
        },
        "outputId": "6ea8aab5-08be-4be3-da4b-dd278695621e"
      },
      "outputs": [
        {
          "output_type": "stream",
          "name": "stdout",
          "text": [
            "Total time for the script: 2:36:31.956802\n"
          ]
        }
      ],
      "source": [
        "print ('Total time for the script:',(datetime.now() - START_TIME_SCRIPT))"
      ]
    }
  ],
  "metadata": {
    "kernelspec": {
      "display_name": "Python 3 (ipykernel)",
      "language": "python",
      "name": "python3"
    },
    "language_info": {
      "codemirror_mode": {
        "name": "ipython",
        "version": 3
      },
      "file_extension": ".py",
      "mimetype": "text/x-python",
      "name": "python",
      "nbconvert_exporter": "python",
      "pygments_lexer": "ipython3",
      "version": "3.8.10"
    },
    "colab": {
      "provenance": []
    }
  },
  "nbformat": 4,
  "nbformat_minor": 0
}
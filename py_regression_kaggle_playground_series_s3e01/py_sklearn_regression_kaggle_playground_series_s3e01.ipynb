{
  "cells": [
    {
      "cell_type": "markdown",
      "metadata": {
        "id": "EE_fiDKNoyun"
      },
      "source": [
        "# Regression Tabular Model for Kaggle Playground Series Season 3 Episode 1 Using Python and Scikit-Learn\n",
        "### David Lowe\n",
        "### January 16, 2023\n",
        "\n",
        "SUMMARY: The project aims to construct a predictive model using various machine learning algorithms and document the end-to-end steps using a template. The Kaggle Playground Series Season 3 Episode 1 Dataset is a regression modeling situation where we are trying to predict the value of a continuous variable.\n",
        "\n",
        "INTRODUCTION: Kaggle wants to provide an approachable environment for relatively new people in their data science journey. Since January 2021, they have hosted playground-style competitions to give the Kaggle community a variety of reasonably lightweight challenges that can be used to learn and sharpen skills in different aspects of machine learning and data science. The dataset for this competition was generated from a deep learning model trained on the California Housing Dataset. Feature distributions are close to but different from the original.\n",
        "\n",
        "ANALYSIS: The average performance of the machine learning algorithms achieved an RMSE benchmark of 0.6630 after preliminary training runs. Furthermore, we selected Extra Trees Regressor as the final model as it processed the training dataset with an RMSE score of 0.3808. When we tested the final model using the test dataset, the model achieved an RMSE score of 0.6232.\n",
        "\n",
        "CONCLUSION: In this iteration, the Extra Trees model appeared to be a suitable algorithm for modeling this dataset.\n",
        "\n",
        "Dataset Used: Playground Series Season 3, Episode 1\n",
        "\n",
        "Dataset ML Model: Regression with numerical features\n",
        "\n",
        "Dataset Reference: https://www.kaggle.com/competitions/playground-series-s3e1\n",
        "\n",
        "One source of potential performance benchmarks: https://www.kaggle.com/competitions/playground-series-s3e1/leaderboard"
      ]
    },
    {
      "cell_type": "markdown",
      "metadata": {
        "id": "5DL3_UWSoyuq"
      },
      "source": [
        "## Task 1 - Prepare Environment"
      ]
    },
    {
      "cell_type": "code",
      "execution_count": 1,
      "metadata": {
        "id": "zwaLoks6oyuq",
        "outputId": "1e1ee797-fee7-4ff2-e7d0-6891af6957d6",
        "colab": {
          "base_uri": "https://localhost:8080/"
        }
      },
      "outputs": [
        {
          "output_type": "stream",
          "name": "stdout",
          "text": [
            "The number of available CPUs is: 2\n"
          ]
        }
      ],
      "source": [
        "# Retrieve the CPU information\n",
        "ncpu = !nproc\n",
        "print(\"The number of available CPUs is:\", ncpu[0])"
      ]
    },
    {
      "cell_type": "markdown",
      "metadata": {
        "id": "z_paFmzJoyur"
      },
      "source": [
        "### 1.a) Load libraries and modules"
      ]
    },
    {
      "cell_type": "code",
      "execution_count": 2,
      "metadata": {
        "id": "1n0cywZWoyus"
      },
      "outputs": [],
      "source": [
        "# Set the random seed number for reproducible results\n",
        "RNG_SEED = 888"
      ]
    },
    {
      "cell_type": "code",
      "execution_count": 3,
      "metadata": {
        "id": "oRD-IY3zoyus"
      },
      "outputs": [],
      "source": [
        "import numpy as np\n",
        "import pandas as pd\n",
        "import seaborn as sns\n",
        "import matplotlib.pyplot as plt\n",
        "import os\n",
        "import sys\n",
        "import math\n",
        "# import boto3\n",
        "import zipfile\n",
        "import urllib\n",
        "from datetime import datetime\n",
        "from sklearn import preprocessing\n",
        "from sklearn.model_selection import train_test_split\n",
        "from sklearn.model_selection import KFold\n",
        "from sklearn.model_selection import cross_val_score\n",
        "from sklearn.model_selection import GridSearchCV\n",
        "from sklearn.metrics import mean_squared_error\n",
        "from sklearn.metrics import r2_score\n",
        "from sklearn.pipeline import Pipeline\n",
        "from sklearn import compose\n",
        "from sklearn import impute\n",
        "\n",
        "# from sklearn.feature_selection import RFE\n",
        "# from imblearn.pipeline import Pipeline\n",
        "# from imblearn.over_sampling import SMOTE\n",
        "# from imblearn.under_sampling import RandomUnderSampler\n",
        "\n",
        "from sklearn.linear_model import LinearRegression\n",
        "from sklearn.linear_model import ElasticNet\n",
        "from sklearn.tree import DecisionTreeRegressor\n",
        "from sklearn.neighbors import KNeighborsRegressor\n",
        "from sklearn.ensemble import RandomForestRegressor\n",
        "from sklearn.ensemble import ExtraTreesRegressor"
      ]
    },
    {
      "cell_type": "markdown",
      "metadata": {
        "id": "eoKsdpcAoyut"
      },
      "source": [
        "### 1.b) Set up the controlling parameters and functions"
      ]
    },
    {
      "cell_type": "code",
      "execution_count": 4,
      "metadata": {
        "id": "isxXMHRBoyut"
      },
      "outputs": [],
      "source": [
        "# Begin the timer for the script processing\n",
        "START_TIME_SCRIPT = datetime.now()\n",
        "\n",
        "# Set up the number of CPU cores available for multi-thread processing\n",
        "N_JOBS = 2\n",
        "\n",
        "# Set up the flag to stop sending progress emails (setting to True will send status emails!)\n",
        "NOTIFY_STATUS = False\n",
        "\n",
        "# Set the percentage sizes for splitting the dataset\n",
        "TEST_SET_RATIO = 0.1\n",
        "VAL_SET_RATIO = 0.1\n",
        "\n",
        "# Set the name for the class/label column\n",
        "ORIGINAL_LABEL = 'MedHouseVal'\n",
        "CLASS_COLUMN = 'target'\n",
        "\n",
        "# Set the number of folds for cross validation\n",
        "N_FOLDS = 10\n",
        "\n",
        "# Set default modeling scoring metric\n",
        "SCORING_METRIC = 'neg_mean_squared_error'\n",
        "\n",
        "# Define the directory locations and file names\n",
        "TRAIN_DATASET = 'https://dainesanalytics.com/datasets/kaggle-playground-series-s3e01/train.csv'\n",
        "TEST_DATASET = 'https://dainesanalytics.com/datasets/kaggle-playground-series-s3e01/test.csv'\n",
        "SUBMISSION_TEMPLATE = 'https://dainesanalytics.com/datasets/kaggle-playground-series-s3e01/sample_submission.csv'\n",
        "SUBMISSION_FILE = 'submission_sklearn_'"
      ]
    },
    {
      "cell_type": "code",
      "execution_count": 5,
      "metadata": {
        "id": "GfhSo1ZCoyut"
      },
      "outputs": [],
      "source": [
        "# Set up the email notification function\n",
        "def status_notify(msg_text):\n",
        "    access_key = os.environ.get('SNS_ACCESS_KEY')\n",
        "    secret_key = os.environ.get('SNS_SECRET_KEY')\n",
        "    aws_region = os.environ.get('SNS_AWS_REGION')\n",
        "    topic_arn = os.environ.get('SNS_TOPIC_ARN')\n",
        "    if (access_key is None) or (secret_key is None) or (aws_region is None):\n",
        "        sys.exit(\"Incomplete notification setup info. Script Processing Aborted!!!\")\n",
        "    sns = boto3.client('sns', aws_access_key_id=access_key, aws_secret_access_key=secret_key, region_name=aws_region)\n",
        "    response = sns.publish(TopicArn=topic_arn, Message=msg_text)\n",
        "    if response['ResponseMetadata']['HTTPStatusCode'] != 200 :\n",
        "        print('Status notification not OK with HTTP status code:', response['ResponseMetadata']['HTTPStatusCode'])"
      ]
    },
    {
      "cell_type": "code",
      "execution_count": 6,
      "metadata": {
        "id": "ReDfVHpJoyuu"
      },
      "outputs": [],
      "source": [
        "if NOTIFY_STATUS: status_notify(\"Task 1 - Prepare Environment has begun! \" + datetime.now().strftime('%a %B %d, %Y %I:%M:%S %p'))"
      ]
    },
    {
      "cell_type": "markdown",
      "metadata": {
        "id": "tAqq162Aoyuu"
      },
      "source": [
        "### 1.c) Load dataset"
      ]
    },
    {
      "cell_type": "code",
      "execution_count": 7,
      "metadata": {
        "id": "5rc2muM6oyuv",
        "outputId": "e4e1b558-ad1a-4148-d4b3-9fe8e366363b",
        "colab": {
          "base_uri": "https://localhost:8080/"
        }
      },
      "outputs": [
        {
          "output_type": "stream",
          "name": "stdout",
          "text": [
            "   id  MedInc  HouseAge  AveRooms  AveBedrms  Population  AveOccup  Latitude  \\\n",
            "0   0  2.3859      15.0  3.827160   1.112100      1280.0  2.486989     34.60   \n",
            "1   1  3.7188      17.0  6.013373   1.054217      1504.0  3.813084     38.69   \n",
            "2   2  4.7750      27.0  6.535604   1.103175      1061.0  2.464602     34.71   \n",
            "3   3  2.4138      16.0  3.350203   0.965432      1255.0  2.089286     32.66   \n",
            "4   4  3.7500      52.0  4.284404   1.069246      1793.0  1.604790     37.80   \n",
            "\n",
            "   Longitude  MedHouseVal  \n",
            "0    -120.12        0.980  \n",
            "1    -121.22        0.946  \n",
            "2    -120.45        1.576  \n",
            "3    -117.09        1.336  \n",
            "4    -122.41        4.500  \n"
          ]
        }
      ],
      "source": [
        "df_dataset_import = pd.read_csv(TRAIN_DATASET)\n",
        "\n",
        "# Take a peek at the dataframe after import\n",
        "print(df_dataset_import.head())"
      ]
    },
    {
      "cell_type": "code",
      "execution_count": 8,
      "metadata": {
        "id": "ECO03uiyoyuv",
        "outputId": "e6f6c5c5-985b-4491-9336-455a7c9bbd28",
        "colab": {
          "base_uri": "https://localhost:8080/"
        }
      },
      "outputs": [
        {
          "output_type": "stream",
          "name": "stdout",
          "text": [
            "<class 'pandas.core.frame.DataFrame'>\n",
            "RangeIndex: 37137 entries, 0 to 37136\n",
            "Data columns (total 10 columns):\n",
            " #   Column       Non-Null Count  Dtype  \n",
            "---  ------       --------------  -----  \n",
            " 0   id           37137 non-null  int64  \n",
            " 1   MedInc       37137 non-null  float64\n",
            " 2   HouseAge     37137 non-null  float64\n",
            " 3   AveRooms     37137 non-null  float64\n",
            " 4   AveBedrms    37137 non-null  float64\n",
            " 5   Population   37137 non-null  float64\n",
            " 6   AveOccup     37137 non-null  float64\n",
            " 7   Latitude     37137 non-null  float64\n",
            " 8   Longitude    37137 non-null  float64\n",
            " 9   MedHouseVal  37137 non-null  float64\n",
            "dtypes: float64(9), int64(1)\n",
            "memory usage: 2.8 MB\n"
          ]
        }
      ],
      "source": [
        "df_dataset_import.info(verbose=True)"
      ]
    },
    {
      "cell_type": "code",
      "execution_count": 9,
      "metadata": {
        "id": "89eVakd5oyuw",
        "outputId": "719fc367-44b5-4dfc-cb8c-78881df532ce",
        "colab": {
          "base_uri": "https://localhost:8080/"
        }
      },
      "outputs": [
        {
          "output_type": "stream",
          "name": "stdout",
          "text": [
            "                id        MedInc      HouseAge      AveRooms     AveBedrms  \\\n",
            "count  37137.00000  37137.000000  37137.000000  37137.000000  37137.000000   \n",
            "mean   18568.00000      3.851029     26.057005      5.163124      1.062204   \n",
            "std    10720.67281      1.803167     12.158221      1.206242      0.096490   \n",
            "min        0.00000      0.499900      2.000000      0.851064      0.500000   \n",
            "25%     9284.00000      2.602300     17.000000      4.357522      1.020305   \n",
            "50%    18568.00000      3.515600     25.000000      5.068611      1.054545   \n",
            "75%    27852.00000      4.699700     35.000000      5.858597      1.088825   \n",
            "max    37136.00000     15.000100     52.000000     28.837607      5.873181   \n",
            "\n",
            "         Population      AveOccup      Latitude     Longitude   MedHouseVal  \n",
            "count  37137.000000  37137.000000  37137.000000  37137.000000  37137.000000  \n",
            "mean    1660.778919      2.831243     35.570030   -119.554329      2.079751  \n",
            "std     1302.469608      2.702413      2.083179      1.974028      1.158571  \n",
            "min        3.000000      0.950000     32.550000   -124.350000      0.149990  \n",
            "25%      952.000000      2.394495     33.930000   -121.800000      1.208000  \n",
            "50%     1383.000000      2.744828     34.190000   -118.450000      1.808000  \n",
            "75%     1856.000000      3.125313     37.700000   -118.020000      2.660000  \n",
            "max    35682.000000    502.990610     41.950000   -114.550000      5.000010  \n"
          ]
        }
      ],
      "source": [
        "print(df_dataset_import.describe())"
      ]
    },
    {
      "cell_type": "code",
      "execution_count": 10,
      "metadata": {
        "id": "FAyDYvmioyuw",
        "outputId": "6e0815c9-ceb9-49b6-d606-16d9c56afdb7",
        "colab": {
          "base_uri": "https://localhost:8080/"
        }
      },
      "outputs": [
        {
          "output_type": "stream",
          "name": "stdout",
          "text": [
            "id             0\n",
            "MedInc         0\n",
            "HouseAge       0\n",
            "AveRooms       0\n",
            "AveBedrms      0\n",
            "Population     0\n",
            "AveOccup       0\n",
            "Latitude       0\n",
            "Longitude      0\n",
            "MedHouseVal    0\n",
            "dtype: int64\n",
            "Total number of NaN in the dataframe:  0\n"
          ]
        }
      ],
      "source": [
        "print(df_dataset_import.isnull().sum())\n",
        "print('Total number of NaN in the dataframe: ', df_dataset_import.isnull().sum().sum())"
      ]
    },
    {
      "cell_type": "markdown",
      "metadata": {
        "id": "3u4LgABdoyuw"
      },
      "source": [
        "### 1.d) Data Cleaning"
      ]
    },
    {
      "cell_type": "code",
      "source": [
        "def convert_latitude(target_col):\n",
        "    # print(target_col)\n",
        "    latitude_loc = 'A' + str(int(target_col)).zfill(3)\n",
        "    return latitude_loc\n",
        "\n",
        "def convert_longitude(target_col):\n",
        "    # print(target_col)\n",
        "    longitude_loc = 'G' + str(int(target_col)).zfill(3)\n",
        "    return longitude_loc"
      ],
      "metadata": {
        "id": "6yLdrfWvm2rm"
      },
      "execution_count": 11,
      "outputs": []
    },
    {
      "cell_type": "code",
      "execution_count": 12,
      "metadata": {
        "id": "l05xb66poyuw",
        "outputId": "1cb20656-0854-4c2e-c426-2e5bfd84dccf",
        "colab": {
          "base_uri": "https://localhost:8080/"
        }
      },
      "outputs": [
        {
          "output_type": "stream",
          "name": "stdout",
          "text": [
            "   MedInc  HouseAge  AveRooms  AveBedrms  Population  AveOccup  target  \\\n",
            "0  2.3859      15.0  3.827160   1.112100      1280.0  2.486989   0.980   \n",
            "1  3.7188      17.0  6.013373   1.054217      1504.0  3.813084   0.946   \n",
            "2  4.7750      27.0  6.535604   1.103175      1061.0  2.464602   1.576   \n",
            "3  2.4138      16.0  3.350203   0.965432      1255.0  2.089286   1.336   \n",
            "4  3.7500      52.0  4.284404   1.069246      1793.0  1.604790   4.500   \n",
            "\n",
            "  Lat_Loc Long_Loc  \n",
            "0    A021     G043  \n",
            "1    A065     G031  \n",
            "2    A022     G039  \n",
            "3    A001     G074  \n",
            "4    A055     G019  \n"
          ]
        }
      ],
      "source": [
        "# Standardize the class column to the name of targetVar if required\n",
        "df_dataset_import = df_dataset_import.rename(columns={ORIGINAL_LABEL: CLASS_COLUMN})\n",
        "\n",
        "# Encode geolocations\n",
        "lat_est = preprocessing.KBinsDiscretizer(n_bins=100, encode='ordinal', strategy='uniform')\n",
        "df_dataset_import['LatKBins'] = lat_est.fit_transform(df_dataset_import['Latitude'].to_numpy().reshape(-1, 1))\n",
        "long_est = preprocessing.KBinsDiscretizer(n_bins=100, encode='ordinal', strategy='uniform')\n",
        "df_dataset_import['LongKBins'] = long_est.fit_transform(df_dataset_import['Longitude'].to_numpy().reshape(-1, 1))\n",
        "\n",
        "df_dataset_import['Lat_Loc'] = df_dataset_import['LatKBins'].apply(convert_latitude)\n",
        "df_dataset_import['Long_Loc'] = df_dataset_import['LongKBins'].apply(convert_longitude)\n",
        "\n",
        "# Dropping unique identifier and unnecessary features\n",
        "df_dataset_import.drop(columns=['id','Latitude','Longitude','LatKBins','LongKBins'], inplace=True)\n",
        "\n",
        "# Take a peek at the dataframe after cleaning\n",
        "print(df_dataset_import.head())"
      ]
    },
    {
      "cell_type": "code",
      "execution_count": 13,
      "metadata": {
        "id": "y9LU5ERloyuw",
        "outputId": "a33abc3a-b1bc-4632-dd83-eed8b2a8fe63",
        "colab": {
          "base_uri": "https://localhost:8080/"
        }
      },
      "outputs": [
        {
          "output_type": "stream",
          "name": "stdout",
          "text": [
            "<class 'pandas.core.frame.DataFrame'>\n",
            "RangeIndex: 37137 entries, 0 to 37136\n",
            "Data columns (total 9 columns):\n",
            " #   Column      Non-Null Count  Dtype  \n",
            "---  ------      --------------  -----  \n",
            " 0   MedInc      37137 non-null  float64\n",
            " 1   HouseAge    37137 non-null  float64\n",
            " 2   AveRooms    37137 non-null  float64\n",
            " 3   AveBedrms   37137 non-null  float64\n",
            " 4   Population  37137 non-null  float64\n",
            " 5   AveOccup    37137 non-null  float64\n",
            " 6   target      37137 non-null  float64\n",
            " 7   Lat_Loc     37137 non-null  object \n",
            " 8   Long_Loc    37137 non-null  object \n",
            "dtypes: float64(7), object(2)\n",
            "memory usage: 2.6+ MB\n"
          ]
        }
      ],
      "source": [
        "df_dataset_import.info(verbose=True)"
      ]
    },
    {
      "cell_type": "code",
      "execution_count": 14,
      "metadata": {
        "id": "Tl0V0nZqoyux",
        "outputId": "5db84446-cfb1-4aa9-d4da-f931bf272f5f",
        "colab": {
          "base_uri": "https://localhost:8080/"
        }
      },
      "outputs": [
        {
          "output_type": "stream",
          "name": "stdout",
          "text": [
            "             MedInc      HouseAge      AveRooms     AveBedrms    Population  \\\n",
            "count  37137.000000  37137.000000  37137.000000  37137.000000  37137.000000   \n",
            "mean       3.851029     26.057005      5.163124      1.062204   1660.778919   \n",
            "std        1.803167     12.158221      1.206242      0.096490   1302.469608   \n",
            "min        0.499900      2.000000      0.851064      0.500000      3.000000   \n",
            "25%        2.602300     17.000000      4.357522      1.020305    952.000000   \n",
            "50%        3.515600     25.000000      5.068611      1.054545   1383.000000   \n",
            "75%        4.699700     35.000000      5.858597      1.088825   1856.000000   \n",
            "max       15.000100     52.000000     28.837607      5.873181  35682.000000   \n",
            "\n",
            "           AveOccup        target  \n",
            "count  37137.000000  37137.000000  \n",
            "mean       2.831243      2.079751  \n",
            "std        2.702413      1.158571  \n",
            "min        0.950000      0.149990  \n",
            "25%        2.394495      1.208000  \n",
            "50%        2.744828      1.808000  \n",
            "75%        3.125313      2.660000  \n",
            "max      502.990610      5.000010  \n"
          ]
        }
      ],
      "source": [
        "print(df_dataset_import.describe())"
      ]
    },
    {
      "cell_type": "code",
      "execution_count": 15,
      "metadata": {
        "id": "sGppSKE2oyux",
        "outputId": "23fd8347-5b33-43d1-86db-4f2904ed80f3",
        "colab": {
          "base_uri": "https://localhost:8080/"
        }
      },
      "outputs": [
        {
          "output_type": "stream",
          "name": "stdout",
          "text": [
            "MedInc        0\n",
            "HouseAge      0\n",
            "AveRooms      0\n",
            "AveBedrms     0\n",
            "Population    0\n",
            "AveOccup      0\n",
            "target        0\n",
            "Lat_Loc       0\n",
            "Long_Loc      0\n",
            "dtype: int64\n",
            "Total number of NaN in the dataframe:  0\n"
          ]
        }
      ],
      "source": [
        "print(df_dataset_import.isnull().sum())\n",
        "print('Total number of NaN in the dataframe: ', df_dataset_import.isnull().sum().sum())"
      ]
    },
    {
      "cell_type": "markdown",
      "metadata": {
        "id": "YAEtbTgGoyux"
      },
      "source": [
        "### 1.e) Splitting Data into Sets"
      ]
    },
    {
      "cell_type": "code",
      "execution_count": 16,
      "metadata": {
        "id": "4Xj62_48oyux",
        "outputId": "d4e7e7d3-fbc7-4af6-c164-76bbd1c6b14e",
        "colab": {
          "base_uri": "https://localhost:8080/"
        }
      },
      "outputs": [
        {
          "output_type": "stream",
          "name": "stdout",
          "text": [
            "df_dataset_import.shape: (37137, 9) df_features_train.shape: (37137, 8) df_target_train.shape: (37137,)\n"
          ]
        }
      ],
      "source": [
        "# Use variable total_column_count to hold the number of columns in the dataframe\n",
        "total_column_count = len(df_dataset_import.columns)\n",
        "\n",
        "# Set up variable total_feature_count for the total number of attribute columns\n",
        "total_feature_count = total_column_count-1\n",
        "\n",
        "# We create attribute-only and target-only datasets (df_features_train and df_target_train)\n",
        "df_target_train = df_dataset_import['target']\n",
        "df_features_train = df_dataset_import.drop(['target'], axis=1)\n",
        "\n",
        "print(\"df_dataset_import.shape: {} df_features_train.shape: {} df_target_train.shape: {}\".format(df_dataset_import.shape, df_features_train.shape, df_target_train.shape))"
      ]
    },
    {
      "cell_type": "markdown",
      "metadata": {
        "id": "s8rlPv9Noyux"
      },
      "source": [
        "### 1.f) Set up the parameters for data visualization"
      ]
    },
    {
      "cell_type": "code",
      "execution_count": 17,
      "metadata": {
        "id": "a0uVeMpsoyuy"
      },
      "outputs": [],
      "source": [
        "# Set up the number of row and columns for visualization display. display_rows * display_columns should be >= total_feature_count\n",
        "display_columns = 4\n",
        "if total_feature_count % display_columns == 0 :\n",
        "    display_rows = total_feature_count // display_columns\n",
        "else :\n",
        "    display_rows = (total_feature_count // display_columns) + 1\n",
        "\n",
        "# Set figure width to display the data visualization plots\n",
        "fig_size = plt.rcParams[\"figure.figsize\"]\n",
        "fig_size[0] = display_columns * 4\n",
        "fig_size[1] = display_rows * 4\n",
        "plt.rcParams[\"figure.figsize\"] = fig_size"
      ]
    },
    {
      "cell_type": "code",
      "execution_count": 18,
      "metadata": {
        "id": "W_FIlvWloyuy"
      },
      "outputs": [],
      "source": [
        "if NOTIFY_STATUS: status_notify(\"Task 1 - Prepare Environment completed! \" + datetime.now().strftime('%a %B %d, %Y %I:%M:%S %p'))"
      ]
    },
    {
      "cell_type": "markdown",
      "metadata": {
        "id": "orVRV0XHoyuy"
      },
      "source": [
        "## Task 2 - Summarize and Visualize Data"
      ]
    },
    {
      "cell_type": "code",
      "execution_count": 19,
      "metadata": {
        "id": "c6KamCMqoyuy"
      },
      "outputs": [],
      "source": [
        "if NOTIFY_STATUS: status_notify(\"Task 2 - Summarize and Visualize Data has begun! \" + datetime.now().strftime('%a %B %d, %Y %I:%M:%S %p'))"
      ]
    },
    {
      "cell_type": "code",
      "execution_count": 20,
      "metadata": {
        "id": "pgzdFe_Uoyuy",
        "outputId": "f9a919f4-576c-47fd-bc9b-83457053344a",
        "colab": {
          "base_uri": "https://localhost:8080/",
          "height": 483
        }
      },
      "outputs": [
        {
          "output_type": "display_data",
          "data": {
            "text/plain": [
              "<Figure size 1152x576 with 8 Axes>"
            ],
            "image/png": "[encoded data removed]"
          },
          "metadata": {
            "needs_background": "light"
          }
        }
      ],
      "source": [
        "# Histograms for each attribute\n",
        "df_features_train.plot(kind='hist', subplots=True, layout=(display_rows, display_columns))\n",
        "plt.show()"
      ]
    },
    {
      "cell_type": "code",
      "execution_count": 21,
      "metadata": {
        "id": "6c-ar-3toyuy",
        "outputId": "2b2a6cd7-bb4d-4799-bcbe-561e1674ca81",
        "colab": {
          "base_uri": "https://localhost:8080/",
          "height": 485
        }
      },
      "outputs": [
        {
          "output_type": "display_data",
          "data": {
            "text/plain": [
              "<Figure size 1152x576 with 8 Axes>"
            ],
            "image/png": "[encoded data removed]"
          },
          "metadata": {
            "needs_background": "light"
          }
        }
      ],
      "source": [
        "# Box and Whisker plot for each attribute\n",
        "df_features_train.plot(kind='box', subplots=True, layout=(display_rows, display_columns))\n",
        "plt.show()"
      ]
    },
    {
      "cell_type": "code",
      "execution_count": 22,
      "metadata": {
        "id": "M9mWrtAVoyuy",
        "colab": {
          "base_uri": "https://localhost:8080/",
          "height": 1000
        },
        "outputId": "544eac39-75a4-400c-f5d5-2df3f20234ed"
      },
      "outputs": [
        {
          "output_type": "display_data",
          "data": {
            "text/plain": [
              "<Figure size 1440x1440 with 2 Axes>"
            ],
            "image/png": "[encoded data removed]"
          },
          "metadata": {
            "needs_background": "light"
          }
        }
      ],
      "source": [
        "# Correlation matrix\n",
        "fig = plt.figure(figsize=(20, 20))\n",
        "correlations = df_features_train.corr(method='pearson')\n",
        "sns.heatmap(correlations, annot=True, cmap=plt.cm.PuBu)\n",
        "plt.show()"
      ]
    },
    {
      "cell_type": "code",
      "execution_count": 23,
      "metadata": {
        "id": "pG0MBv7noyuy"
      },
      "outputs": [],
      "source": [
        "if NOTIFY_STATUS: status_notify(\"Task 2 - Summarize and Visualize Data completed! \" + datetime.now().strftime('%a %B %d, %Y %I:%M:%S %p'))"
      ]
    },
    {
      "cell_type": "markdown",
      "metadata": {
        "id": "0P3OoeOaoyuz"
      },
      "source": [
        "## Task 3 - Pre-process Data"
      ]
    },
    {
      "cell_type": "code",
      "execution_count": 24,
      "metadata": {
        "id": "vMi0mInkoyuz"
      },
      "outputs": [],
      "source": [
        "if NOTIFY_STATUS: status_notify(\"Task 3 - Pre-process Data has begun! \" + datetime.now().strftime('%a %B %d, %Y %I:%M:%S %p'))"
      ]
    },
    {
      "cell_type": "markdown",
      "metadata": {
        "id": "qvlG0_Gloyuz"
      },
      "source": [
        "### 3.a) Feature Scaling and Data Pre-Processing"
      ]
    },
    {
      "cell_type": "code",
      "execution_count": 25,
      "metadata": {
        "id": "4bFod1tLoyuz",
        "outputId": "5c77e653-2e7f-41be-fcfc-7eae05504a35",
        "colab": {
          "base_uri": "https://localhost:8080/"
        }
      },
      "outputs": [
        {
          "output_type": "stream",
          "name": "stdout",
          "text": [
            "Number of numerical columns: 6\n",
            "Number of categorical columns: 2\n",
            "Total number of columns in the feature dataframe: 8\n"
          ]
        }
      ],
      "source": [
        "# Compose pipeline for the numerical and categorical features (Block #1 of 2)\n",
        "numeric_columns = df_features_train.select_dtypes(include=['int','float']).columns\n",
        "numeric_transformer = Pipeline(steps=[\n",
        "    ('imputer', impute.SimpleImputer(strategy=\"constant\", fill_value=0)),\n",
        "    # ('scaler', preprocessing.StandardScaler())\n",
        "])\n",
        "categorical_columns = df_features_train.select_dtypes(include=['object','category']).columns\n",
        "categorical_transformer = Pipeline(steps=[\n",
        "    ('imputer', impute.SimpleImputer(strategy='constant', fill_value='UKNOWN')),\n",
        "    ('onehot', preprocessing.OneHotEncoder(sparse=False, handle_unknown='ignore'))\n",
        "])\n",
        "\n",
        "print(\"Number of numerical columns:\", len(numeric_columns))\n",
        "print(\"Number of categorical columns:\", len(categorical_columns))\n",
        "print(\"Total number of columns in the feature dataframe:\", df_features_train.shape[1])"
      ]
    },
    {
      "cell_type": "code",
      "execution_count": 26,
      "metadata": {
        "id": "qnVwjvF5oyuz"
      },
      "outputs": [],
      "source": [
        "# Compose pipeline for the numerical and categorical features (Block #2 of 2)\n",
        "preprocessor = compose.ColumnTransformer(transformers=[\n",
        "    ('num', numeric_transformer, numeric_columns),\n",
        "    ('cat', categorical_transformer, categorical_columns)\n",
        "], remainder='passthrough')"
      ]
    },
    {
      "cell_type": "markdown",
      "metadata": {
        "id": "UhEzGnKtoyuz"
      },
      "source": [
        "### 3.b) Training Data Balancing"
      ]
    },
    {
      "cell_type": "code",
      "execution_count": 27,
      "metadata": {
        "id": "-1ULtH01oyuz"
      },
      "outputs": [],
      "source": [
        "# Not applicable for this iteration of modeling"
      ]
    },
    {
      "cell_type": "markdown",
      "metadata": {
        "id": "GTWvOhWWoyuz"
      },
      "source": [
        "### 3.c) Feature Selection"
      ]
    },
    {
      "cell_type": "code",
      "execution_count": 28,
      "metadata": {
        "id": "7VV1fyK1oyuz"
      },
      "outputs": [],
      "source": [
        "# Not applicable for this iteration of modeling"
      ]
    },
    {
      "cell_type": "markdown",
      "metadata": {
        "id": "Ehygxv37oyuz"
      },
      "source": [
        "### 3.d) Display the Final Datasets for Model-Building"
      ]
    },
    {
      "cell_type": "code",
      "execution_count": 29,
      "metadata": {
        "id": "Rvbdx9uEoyuz",
        "outputId": "e019b82c-8de8-4ad0-8e10-22520cafbbe6",
        "colab": {
          "base_uri": "https://localhost:8080/"
        }
      },
      "outputs": [
        {
          "output_type": "stream",
          "name": "stdout",
          "text": [
            "array_features_train.shape: (37137, 201) array_target_train.shape: (37137,)\n"
          ]
        }
      ],
      "source": [
        "# Finalize the training dataset for the modeling activities\n",
        "array_features_train = preprocessor.fit_transform(df_features_train)\n",
        "array_target_train = df_target_train.to_numpy()\n",
        "print(\"array_features_train.shape: {} array_target_train.shape: {}\".format(array_features_train.shape, array_target_train.shape))"
      ]
    },
    {
      "cell_type": "code",
      "execution_count": 30,
      "metadata": {
        "id": "knrO4zXmoyuz"
      },
      "outputs": [],
      "source": [
        "if NOTIFY_STATUS: status_notify(\"Task 3 - Pre-process Data completed! \" + datetime.now().strftime('%a %B %d, %Y %I:%M:%S %p'))"
      ]
    },
    {
      "cell_type": "markdown",
      "metadata": {
        "id": "AW4niFNBoyu0"
      },
      "source": [
        "## Task 4 - Train and Tune Models"
      ]
    },
    {
      "cell_type": "code",
      "execution_count": 31,
      "metadata": {
        "id": "iED_YVgNoyu0"
      },
      "outputs": [],
      "source": [
        "if NOTIFY_STATUS: status_notify(\"Task 4 - Train and Tune Models has begun! \" + datetime.now().strftime('%a %B %d, %Y %I:%M:%S %p'))"
      ]
    },
    {
      "cell_type": "markdown",
      "metadata": {
        "id": "yXlGt_ODoyu0"
      },
      "source": [
        "### 4.a) Set test options and evaluation metric"
      ]
    },
    {
      "cell_type": "code",
      "execution_count": 32,
      "metadata": {
        "id": "LG4WOhcSoyu0"
      },
      "outputs": [],
      "source": [
        "# Set up Algorithms Spot-Checking Array\n",
        "start_time_training = datetime.now()\n",
        "train_models = []\n",
        "train_results = []\n",
        "train_model_names = []\n",
        "train_metrics = []"
      ]
    },
    {
      "cell_type": "code",
      "execution_count": 33,
      "metadata": {
        "id": "KEMfNPUKoyu0"
      },
      "outputs": [],
      "source": [
        "# train_models.append(('LNR', LinearRegression(n_jobs=N_JOBS)))\n",
        "train_models.append(('ELN', ElasticNet(random_state=RNG_SEED)))\n",
        "train_models.append(('CART', DecisionTreeRegressor(random_state=RNG_SEED)))\n",
        "train_models.append(('KNN', KNeighborsRegressor(n_jobs=N_JOBS)))\n",
        "train_models.append(('RNF', RandomForestRegressor(random_state=RNG_SEED, n_jobs=N_JOBS)))\n",
        "train_models.append(('EXT', ExtraTreesRegressor(random_state=RNG_SEED, n_jobs=N_JOBS)))"
      ]
    },
    {
      "cell_type": "code",
      "execution_count": 34,
      "metadata": {
        "id": "myc1LaJPoyu0",
        "outputId": "4437e7e7-f67c-4695-c7e5-ed46646edf3e",
        "colab": {
          "base_uri": "https://localhost:8080/"
        }
      },
      "outputs": [
        {
          "output_type": "stream",
          "name": "stderr",
          "text": [
            "[Parallel(n_jobs=2)]: Using backend LokyBackend with 2 concurrent workers.\n",
            "[Parallel(n_jobs=2)]: Done  10 out of  10 | elapsed:    4.3s finished\n",
            "[Parallel(n_jobs=2)]: Using backend LokyBackend with 2 concurrent workers.\n"
          ]
        },
        {
          "output_type": "stream",
          "name": "stdout",
          "text": [
            "ELN: -0.774284 (0.031112)\n",
            "ElasticNet(random_state=888)\n",
            "Model training time: 0:00:04.416932 \n",
            "\n"
          ]
        },
        {
          "output_type": "stream",
          "name": "stderr",
          "text": [
            "[Parallel(n_jobs=2)]: Done  10 out of  10 | elapsed:   18.2s finished\n",
            "[Parallel(n_jobs=2)]: Using backend LokyBackend with 2 concurrent workers.\n"
          ]
        },
        {
          "output_type": "stream",
          "name": "stdout",
          "text": [
            "CART: -0.790374 (0.029097)\n",
            "DecisionTreeRegressor(random_state=888)\n",
            "Model training time: 0:00:18.334394 \n",
            "\n"
          ]
        },
        {
          "output_type": "stream",
          "name": "stderr",
          "text": [
            "/usr/local/lib/python3.8/dist-packages/joblib/externals/loky/process_executor.py:700: UserWarning: A worker stopped while some jobs were given to the executor. This can be caused by a too short worker timeout or by a memory leak.\n",
            "  warnings.warn(\n"
          ]
        },
        {
          "output_type": "stream",
          "name": "stdout",
          "text": [
            "KNN: -0.959340 (0.030478)\n",
            "KNeighborsRegressor(n_jobs=2)\n",
            "Model training time: 0:00:58.444096 \n",
            "\n"
          ]
        },
        {
          "output_type": "stream",
          "name": "stderr",
          "text": [
            "[Parallel(n_jobs=2)]: Done  10 out of  10 | elapsed:   58.3s finished\n",
            "[Parallel(n_jobs=2)]: Using backend LokyBackend with 2 concurrent workers.\n",
            "[Parallel(n_jobs=2)]: Done  10 out of  10 | elapsed:  9.1min finished\n",
            "[Parallel(n_jobs=2)]: Using backend LokyBackend with 2 concurrent workers.\n"
          ]
        },
        {
          "output_type": "stream",
          "name": "stdout",
          "text": [
            "RNF: -0.408958 (0.015961)\n",
            "RandomForestRegressor(n_jobs=2, random_state=888)\n",
            "Model training time: 0:09:04.478166 \n",
            "\n",
            "EXT: -0.382438 (0.015241)\n",
            "ExtraTreesRegressor(n_jobs=2, random_state=888)\n",
            "Model training time: 0:15:01.361969 \n",
            "\n",
            "Average metrics (neg_mean_squared_error) from all models: -0.6630789508629438\n",
            "Total training time for all models: 0:25:27.075590\n"
          ]
        },
        {
          "output_type": "stream",
          "name": "stderr",
          "text": [
            "[Parallel(n_jobs=2)]: Done  10 out of  10 | elapsed: 15.0min finished\n"
          ]
        }
      ],
      "source": [
        "# Generate model in turn\n",
        "for name, model in train_models:\n",
        "\tif NOTIFY_STATUS: status_notify(\"Algorithm\", name, \"modeling has begun! \" + datetime.now().strftime('%a %B %d, %Y %I:%M:%S %p'))\n",
        "\tstart_time_module = datetime.now()\n",
        "\tkfold = KFold(n_splits=N_FOLDS, shuffle=True, random_state=RNG_SEED)\n",
        "\tcv_results = cross_val_score(model, array_features_train, array_target_train, cv=kfold, scoring=SCORING_METRIC, n_jobs=N_JOBS, verbose=1)\n",
        "\ttrain_results.append(cv_results)\n",
        "\ttrain_model_names.append(name)\n",
        "\ttrain_metrics.append(cv_results.mean())\n",
        "\tprint(\"%s: %f (%f)\" % (name, cv_results.mean(), cv_results.std()))\n",
        "\tprint(model)\n",
        "\tprint ('Model training time:', (datetime.now() - start_time_module), '\\n')\n",
        "\tif NOTIFY_STATUS: status_notify(\"Algorithm\", name, \"modeling completed! \" + datetime.now().strftime('%a %B %d, %Y %I:%M:%S %p'))\n",
        "print ('Average metrics (' + SCORING_METRIC + ') from all models:', np.mean(train_metrics))\n",
        "print ('Total training time for all models:', (datetime.now() - start_time_training))"
      ]
    },
    {
      "cell_type": "markdown",
      "metadata": {
        "id": "5f81C5REoyu0"
      },
      "source": [
        "### 4.b) Spot-checking baseline algorithms"
      ]
    },
    {
      "cell_type": "code",
      "execution_count": 35,
      "metadata": {
        "id": "xbuEpBv-oyu0",
        "outputId": "0b8f7c72-0878-4962-a3e3-3272afb2dc06",
        "colab": {
          "base_uri": "https://localhost:8080/",
          "height": 787
        }
      },
      "outputs": [
        {
          "output_type": "display_data",
          "data": {
            "text/plain": [
              "<Figure size 1152x864 with 1 Axes>"
            ],
            "image/png": "[encoded data removed]"
          },
          "metadata": {
            "needs_background": "light"
          }
        }
      ],
      "source": [
        "fig = plt.figure(figsize=(16,12))\n",
        "fig.suptitle('Algorithm Comparison - Spot Checking')\n",
        "ax = fig.add_subplot(111)\n",
        "plt.boxplot(train_results)\n",
        "ax.set_xticklabels(train_model_names)\n",
        "plt.show()"
      ]
    },
    {
      "cell_type": "code",
      "execution_count": 36,
      "metadata": {
        "id": "0I685ixNoyu0"
      },
      "outputs": [],
      "source": [
        "if NOTIFY_STATUS: status_notify(\"Task 4 - Train and Tune Models completed! \" + datetime.now().strftime('%a %B %d, %Y %I:%M:%S %p'))"
      ]
    },
    {
      "cell_type": "markdown",
      "metadata": {
        "id": "h5CGob13oyu1"
      },
      "source": [
        "### 4.c) Algorithm Tuning"
      ]
    },
    {
      "cell_type": "code",
      "execution_count": 37,
      "metadata": {
        "id": "Zew5gUkRoyu1"
      },
      "outputs": [],
      "source": [
        "# Set up the comparison array\n",
        "tune_results = []\n",
        "tune_model_names = []"
      ]
    },
    {
      "cell_type": "code",
      "source": [
        "# Tuning algorithm #1\n",
        "start_time_module = datetime.now()\n",
        "if NOTIFY_STATUS: status_notify(\"Algorithm #1 tuning has begun! \" + datetime.now().strftime('%a %B %d, %Y %I:%M:%S %p'))\n",
        "\n",
        "tune_model1 = KNeighborsRegressor(n_jobs=N_JOBS)\n",
        "tune_model_names.append('KNN')\n",
        "paramGrid1 = dict(n_neighbors=np.array([5, 10, 20]))\n",
        "\n",
        "kfold = KFold(n_splits=N_FOLDS, shuffle=True, random_state=RNG_SEED)\n",
        "grid1 = GridSearchCV(estimator=tune_model1, param_grid=paramGrid1, scoring=SCORING_METRIC, cv=kfold, n_jobs=N_JOBS, verbose=1)\n",
        "grid_result1 = grid1.fit(array_features_train, array_target_train)\n",
        "\n",
        "print(\"Best: %f using %s\" % (grid_result1.best_score_, grid_result1.best_params_))\n",
        "tune_results.append(grid_result1.cv_results_['mean_test_score'])\n",
        "means = grid_result1.cv_results_['mean_test_score']\n",
        "stds = grid_result1.cv_results_['std_test_score']\n",
        "params = grid_result1.cv_results_['params']\n",
        "for mean, stdev, param in zip(means, stds, params):\n",
        "    print(\"%f (%f) with: %r\" % (mean, stdev, param))\n",
        "print ('Model training time:', (datetime.now() - start_time_module))\n",
        "if NOTIFY_STATUS: status_notify(\"Algorithm #1 tuning completed! \" + datetime.now().strftime('%a %B %d, %Y %I:%M:%S %p'))"
      ],
      "metadata": {
        "colab": {
          "base_uri": "https://localhost:8080/"
        },
        "id": "uRiO8SMAv9Lg",
        "outputId": "4a8890cc-1106-473d-c767-56fcd01a8992"
      },
      "execution_count": 38,
      "outputs": [
        {
          "output_type": "stream",
          "name": "stdout",
          "text": [
            "Fitting 10 folds for each of 3 candidates, totalling 30 fits\n"
          ]
        },
        {
          "output_type": "stream",
          "name": "stderr",
          "text": [
            "/usr/local/lib/python3.8/dist-packages/joblib/externals/loky/process_executor.py:700: UserWarning: A worker stopped while some jobs were given to the executor. This can be caused by a too short worker timeout or by a memory leak.\n",
            "  warnings.warn(\n"
          ]
        },
        {
          "output_type": "stream",
          "name": "stdout",
          "text": [
            "Best: -0.959340 using {'n_neighbors': 5}\n",
            "-0.959340 (0.030478) with: {'n_neighbors': 5}\n",
            "-0.973069 (0.034217) with: {'n_neighbors': 10}\n",
            "-1.033277 (0.030410) with: {'n_neighbors': 20}\n",
            "Model training time: 0:02:52.577135\n"
          ]
        }
      ]
    },
    {
      "cell_type": "code",
      "source": [
        "best_paramKey1 = list(grid_result1.best_params_.keys())[0]\n",
        "best_paramValue1 = list(grid_result1.best_params_.values())[0]\n",
        "print(\"Captured the best parameter for algorithm #1:\", best_paramKey1, '=', best_paramValue1)"
      ],
      "metadata": {
        "colab": {
          "base_uri": "https://localhost:8080/"
        },
        "id": "xttlS0Jjv9F7",
        "outputId": "d33d75fd-4fe6-407c-c992-3dfbe38c1bf2"
      },
      "execution_count": 39,
      "outputs": [
        {
          "output_type": "stream",
          "name": "stdout",
          "text": [
            "Captured the best parameter for algorithm #1: n_neighbors = 5\n"
          ]
        }
      ]
    },
    {
      "cell_type": "code",
      "source": [
        "# Tuning algorithm #2\n",
        "start_time_module = datetime.now()\n",
        "if NOTIFY_STATUS: status_notify(\"Algorithm #2 tuning has begun! \" + datetime.now().strftime('%a %B %d, %Y %I:%M:%S %p'))\n",
        "\n",
        "tune_model2 = ExtraTreesRegressor(random_state=RNG_SEED, n_jobs=N_JOBS)\n",
        "tune_model_names.append('EXT')\n",
        "paramGrid2 = dict(n_estimators=np.array([100, 300, 500]))\n",
        "\n",
        "kfold = KFold(n_splits=N_FOLDS, shuffle=True, random_state=RNG_SEED)\n",
        "grid2 = GridSearchCV(estimator=tune_model2, param_grid=paramGrid2, scoring=SCORING_METRIC, cv=kfold, n_jobs=N_JOBS, verbose=1)\n",
        "grid_result2 = grid2.fit(array_features_train, array_target_train)\n",
        "\n",
        "print(\"Best: %f using %s\" % (grid_result2.best_score_, grid_result2.best_params_))\n",
        "tune_results.append(grid_result2.cv_results_['mean_test_score'])\n",
        "means = grid_result2.cv_results_['mean_test_score']\n",
        "stds = grid_result2.cv_results_['std_test_score']\n",
        "params = grid_result2.cv_results_['params']\n",
        "for mean, stdev, param in zip(means, stds, params):\n",
        "    print(\"%f (%f) with: %r\" % (mean, stdev, param))\n",
        "print ('Model training time:', (datetime.now() - start_time_module))\n",
        "if NOTIFY_STATUS: status_notify(\"Algorithm #2 tuning completed! \" + datetime.now().strftime('%a %B %d, %Y %I:%M:%S %p'))"
      ],
      "metadata": {
        "colab": {
          "base_uri": "https://localhost:8080/"
        },
        "id": "h-KQ6coHv9B4",
        "outputId": "742da44e-c76b-42f2-dc4c-8234f79fd9d5"
      },
      "execution_count": 40,
      "outputs": [
        {
          "output_type": "stream",
          "name": "stdout",
          "text": [
            "Fitting 10 folds for each of 3 candidates, totalling 30 fits\n",
            "Best: -0.380865 using {'n_estimators': 500}\n",
            "-0.382438 (0.015241) with: {'n_estimators': 100}\n",
            "-0.381105 (0.015553) with: {'n_estimators': 300}\n",
            "-0.380865 (0.015711) with: {'n_estimators': 500}\n",
            "Model training time: 2:27:13.018862\n"
          ]
        }
      ]
    },
    {
      "cell_type": "code",
      "source": [
        "best_paramKey2 = list(grid_result2.best_params_.keys())[0]\n",
        "best_paramValue2 = list(grid_result2.best_params_.values())[0]\n",
        "print(\"Captured the best parameter for algorithm #2:\", best_paramKey2, '=', best_paramValue2)"
      ],
      "metadata": {
        "id": "AbCquagMv85Y",
        "colab": {
          "base_uri": "https://localhost:8080/"
        },
        "outputId": "9fb4dc19-a848-48a0-e8d2-602a8a4f2be7"
      },
      "execution_count": 41,
      "outputs": [
        {
          "output_type": "stream",
          "name": "stdout",
          "text": [
            "Captured the best parameter for algorithm #2: n_estimators = 500\n"
          ]
        }
      ]
    },
    {
      "cell_type": "markdown",
      "metadata": {
        "id": "ovTv9np2oyu1"
      },
      "source": [
        "### 4.d) Compare Algorithms After Tuning"
      ]
    },
    {
      "cell_type": "code",
      "execution_count": 42,
      "metadata": {
        "id": "u7fV2PBpoyu1",
        "colab": {
          "base_uri": "https://localhost:8080/",
          "height": 787
        },
        "outputId": "cf0de15b-9672-4db3-c4b7-873e020bcd55"
      },
      "outputs": [
        {
          "output_type": "display_data",
          "data": {
            "text/plain": [
              "<Figure size 1152x864 with 1 Axes>"
            ],
            "image/png": "[encoded data removed]"
          },
          "metadata": {
            "needs_background": "light"
          }
        }
      ],
      "source": [
        "fig = plt.figure(figsize=(16,12))\n",
        "fig.suptitle('Algorithm Comparison - Post Tuning')\n",
        "ax = fig.add_subplot(111)\n",
        "plt.boxplot(tune_results)\n",
        "ax.set_xticklabels(tune_model_names)\n",
        "plt.show()"
      ]
    },
    {
      "cell_type": "code",
      "execution_count": 43,
      "metadata": {
        "id": "3f1ZGfhooyu1"
      },
      "outputs": [],
      "source": [
        "if NOTIFY_STATUS: status_notify(\"Task 4 - Train and Tune Models completed! \" + datetime.now().strftime('%a %B %d, %Y %I:%M:%S %p'))"
      ]
    },
    {
      "cell_type": "markdown",
      "metadata": {
        "id": "955lq8SUoyu2"
      },
      "source": [
        "## Task 5 - Finalize Model and Make Predictions"
      ]
    },
    {
      "cell_type": "code",
      "execution_count": 44,
      "metadata": {
        "id": "lG_cjoUhoyu2"
      },
      "outputs": [],
      "source": [
        "if NOTIFY_STATUS: status_notify(\"Task 5 - Finalize Model and Make Predictions has begun! \" + datetime.now().strftime('%a %B %d, %Y %I:%M:%S %p'))"
      ]
    },
    {
      "cell_type": "markdown",
      "source": [
        "### 5.a) Train the Final Model"
      ],
      "metadata": {
        "id": "mn9w2BxvLb0y"
      }
    },
    {
      "cell_type": "code",
      "execution_count": 45,
      "metadata": {
        "id": "-IM5eGOLoyu2",
        "colab": {
          "base_uri": "https://localhost:8080/"
        },
        "outputId": "3c79e56c-1a93-4d8e-8a37-038f9ad8bf84"
      },
      "outputs": [
        {
          "output_type": "stream",
          "name": "stdout",
          "text": [
            "ExtraTreesRegressor(n_estimators=500, n_jobs=2, random_state=888)\n"
          ]
        }
      ],
      "source": [
        "FINAL_PARAMETER = 500\n",
        "final_model = ExtraTreesRegressor(n_estimators=FINAL_PARAMETER, random_state=RNG_SEED, n_jobs=N_JOBS)\n",
        "final_model.fit(array_features_train, array_target_train)\n",
        "print(final_model)"
      ]
    },
    {
      "cell_type": "markdown",
      "source": [
        "### 5.b) Load Test Dataset and Make Predictions"
      ],
      "metadata": {
        "id": "IAP393UNLjUk"
      }
    },
    {
      "cell_type": "code",
      "source": [
        "df_features_test = pd.read_csv(TEST_DATASET)\n",
        "\n",
        "# Encode geolocations\n",
        "df_features_test['LatKBins'] = lat_est.transform(df_features_test['Latitude'].to_numpy().reshape(-1, 1))\n",
        "df_features_test['LongKBins'] = long_est.transform(df_features_test['Longitude'].to_numpy().reshape(-1, 1))\n",
        "\n",
        "df_features_test['Lat_Loc'] = df_features_test['LatKBins'].apply(convert_latitude)\n",
        "df_features_test['Long_Loc'] = df_features_test['LongKBins'].apply(convert_longitude)\n",
        "\n",
        "# Dropping unique identifier and unnecessary features\n",
        "df_features_test.drop(columns=['Latitude','Longitude','LatKBins','LongKBins'], inplace=True)\n",
        "\n",
        "# Take a peek at the dataframe after import\n",
        "print(df_features_test.head())"
      ],
      "metadata": {
        "id": "H5i1DVJqLnBU",
        "colab": {
          "base_uri": "https://localhost:8080/"
        },
        "outputId": "891336cb-0c07-4782-e6c1-e8f08c9be14f"
      },
      "execution_count": 46,
      "outputs": [
        {
          "output_type": "stream",
          "name": "stdout",
          "text": [
            "      id  MedInc  HouseAge  AveRooms  AveBedrms  Population  AveOccup Lat_Loc  \\\n",
            "0  37137  1.7062      35.0  4.966368   1.096539      1318.0  2.844411    A076   \n",
            "1  37138  1.3882      22.0  4.187035   1.098229      2296.0  3.180218    A014   \n",
            "2  37139  7.7197      21.0  7.129436   0.959276      1535.0  2.888889    A011   \n",
            "3  37140  4.6806      49.0  4.769697   1.048485       707.0  1.743590    A017   \n",
            "4  37141  3.1284      25.0  3.765306   1.081633      4716.0  2.003827    A017   \n",
            "\n",
            "  Long_Loc  \n",
            "0     G025  \n",
            "1     G061  \n",
            "2     G066  \n",
            "3     G061  \n",
            "4     G061  \n"
          ]
        }
      ]
    },
    {
      "cell_type": "code",
      "source": [
        "id_column_name = df_features_test.columns[0]\n",
        "df_kaggle_submission = pd.DataFrame()\n",
        "df_kaggle_submission[id_column_name] = df_features_test[id_column_name]\n",
        "print(df_kaggle_submission.head())"
      ],
      "metadata": {
        "id": "Lq2xZsBIPIal",
        "colab": {
          "base_uri": "https://localhost:8080/"
        },
        "outputId": "a3e2df6d-e775-473f-e59e-dbcf6e2df820"
      },
      "execution_count": 47,
      "outputs": [
        {
          "output_type": "stream",
          "name": "stdout",
          "text": [
            "      id\n",
            "0  37137\n",
            "1  37138\n",
            "2  37139\n",
            "3  37140\n",
            "4  37141\n"
          ]
        }
      ]
    },
    {
      "cell_type": "code",
      "source": [
        "# Dropping unique identifier and unnecessary features\n",
        "df_features_test.drop(columns=[id_column_name,], inplace=True)\n",
        "\n",
        "# Take a peek at the dataframe after cleaning\n",
        "print(df_features_test.head())"
      ],
      "metadata": {
        "id": "e3Dg2wiSPP9S",
        "colab": {
          "base_uri": "https://localhost:8080/"
        },
        "outputId": "d5c7ed2f-8457-45bf-89c1-60b5b674d2da"
      },
      "execution_count": 48,
      "outputs": [
        {
          "output_type": "stream",
          "name": "stdout",
          "text": [
            "   MedInc  HouseAge  AveRooms  AveBedrms  Population  AveOccup Lat_Loc  \\\n",
            "0  1.7062      35.0  4.966368   1.096539      1318.0  2.844411    A076   \n",
            "1  1.3882      22.0  4.187035   1.098229      2296.0  3.180218    A014   \n",
            "2  7.7197      21.0  7.129436   0.959276      1535.0  2.888889    A011   \n",
            "3  4.6806      49.0  4.769697   1.048485       707.0  1.743590    A017   \n",
            "4  3.1284      25.0  3.765306   1.081633      4716.0  2.003827    A017   \n",
            "\n",
            "  Long_Loc  \n",
            "0     G025  \n",
            "1     G061  \n",
            "2     G066  \n",
            "3     G061  \n",
            "4     G061  \n"
          ]
        }
      ]
    },
    {
      "cell_type": "code",
      "source": [
        "# Finalize the test dataset for the testing activities\n",
        "array_features_test = preprocessor.transform(df_features_test)\n",
        "print(\"Transformed features from df_features_test.shape: {} to array_features_test.shape: {}\".format(df_features_test.shape, array_features_test.shape))"
      ],
      "metadata": {
        "id": "qa1aUkIZPtDR",
        "colab": {
          "base_uri": "https://localhost:8080/"
        },
        "outputId": "f7210a95-80b1-4b0f-cb0d-eff02b60d261"
      },
      "execution_count": 49,
      "outputs": [
        {
          "output_type": "stream",
          "name": "stdout",
          "text": [
            "Transformed features from df_features_test.shape: (24759, 8) to array_features_test.shape: (24759, 201)\n"
          ]
        }
      ]
    },
    {
      "cell_type": "code",
      "source": [
        "# Make batched predictions\n",
        "test_predictions =  final_model.predict(array_features_test)\n",
        "print(test_predictions)"
      ],
      "metadata": {
        "id": "jk51XDuNPyJa",
        "colab": {
          "base_uri": "https://localhost:8080/"
        },
        "outputId": "ca89683b-daab-481c-d12c-15956b746494"
      },
      "execution_count": 50,
      "outputs": [
        {
          "output_type": "stream",
          "name": "stdout",
          "text": [
            "[0.647014   0.971868   3.54569484 ... 1.194156   3.1898122  3.41976876]\n"
          ]
        }
      ]
    },
    {
      "cell_type": "code",
      "source": [
        "df_sample_submission = pd.read_csv(SUBMISSION_TEMPLATE)\n",
        "df_sample_submission.drop(columns=[id_column_name], inplace=True)\n",
        "submission_header = list(df_sample_submission.columns)[0]\n",
        "print(submission_header)"
      ],
      "metadata": {
        "id": "k5wrJlkOQDT5",
        "colab": {
          "base_uri": "https://localhost:8080/"
        },
        "outputId": "4f06b4d4-a4d8-4765-baca-740d066a8d4e"
      },
      "execution_count": 51,
      "outputs": [
        {
          "output_type": "stream",
          "name": "stdout",
          "text": [
            "MedHouseVal\n"
          ]
        }
      ]
    },
    {
      "cell_type": "code",
      "source": [
        "df_kaggle_submission[submission_header] = test_predictions\n",
        "print(df_kaggle_submission.head())"
      ],
      "metadata": {
        "id": "mNqTtzVNP1gl",
        "colab": {
          "base_uri": "https://localhost:8080/"
        },
        "outputId": "50911118-d6af-4815-b437-c64f115b6f50"
      },
      "execution_count": 52,
      "outputs": [
        {
          "output_type": "stream",
          "name": "stdout",
          "text": [
            "      id  MedHouseVal\n",
            "0  37137     0.647014\n",
            "1  37138     0.971868\n",
            "2  37139     3.545695\n",
            "3  37140     3.000327\n",
            "4  37141     2.464712\n"
          ]
        }
      ]
    },
    {
      "cell_type": "code",
      "source": [
        "submission_file = df_kaggle_submission.to_csv(header=True, index=False)\n",
        "filename = SUBMISSION_FILE + datetime.now().strftime('%Y%m%d-%H%M') + '.csv'\n",
        "with open(filename, 'w') as f:\n",
        "    f.write(submission_file)\n",
        "    print('Completed writing output file: ' + filename)"
      ],
      "metadata": {
        "id": "80RjY5cAP4sl",
        "colab": {
          "base_uri": "https://localhost:8080/"
        },
        "outputId": "23821be0-580b-4702-8c6b-154fea0e1d96"
      },
      "execution_count": 53,
      "outputs": [
        {
          "output_type": "stream",
          "name": "stdout",
          "text": [
            "Completed writing output file: submission_sklearn_20230115-0403.csv\n"
          ]
        }
      ]
    },
    {
      "cell_type": "code",
      "execution_count": 54,
      "metadata": {
        "id": "REuedcf5oyu3"
      },
      "outputs": [],
      "source": [
        "if NOTIFY_STATUS: status_notify(\"Task 5 - Finalize Model and Make Predictions completed! \" + datetime.now().strftime('%a %B %d, %Y %I:%M:%S %p'))"
      ]
    },
    {
      "cell_type": "code",
      "execution_count": 55,
      "metadata": {
        "id": "nErqP5A_oyu3",
        "colab": {
          "base_uri": "https://localhost:8080/"
        },
        "outputId": "374ad059-7eef-474b-9413-72c6deb84a90"
      },
      "outputs": [
        {
          "output_type": "stream",
          "name": "stdout",
          "text": [
            "Total time for the script: 3:05:43.911513\n"
          ]
        }
      ],
      "source": [
        "print ('Total time for the script:',(datetime.now() - START_TIME_SCRIPT))"
      ]
    }
  ],
  "metadata": {
    "kernelspec": {
      "display_name": "Python 3 (ipykernel)",
      "language": "python",
      "name": "python3"
    },
    "language_info": {
      "codemirror_mode": {
        "name": "ipython",
        "version": 3
      },
      "file_extension": ".py",
      "mimetype": "text/x-python",
      "name": "python",
      "nbconvert_exporter": "python",
      "pygments_lexer": "ipython3",
      "version": "3.8.10"
    },
    "colab": {
      "provenance": []
    }
  },
  "nbformat": 4,
  "nbformat_minor": 0
}